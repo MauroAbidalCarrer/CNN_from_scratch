{
 "cells": [
  {
   "cell_type": "markdown",
   "metadata": {},
   "source": [
    "# Cross correlation and convolution implementation from scratch"
   ]
  },
  {
   "cell_type": "markdown",
   "metadata": {},
   "source": [
    "## Motivation\n",
    "For our convolution layers, we need to perform:\n",
    "- a valid cross correlation for the forward pass  \n",
    "- a full convolutions for the backward pass  \n",
    "\n",
    "I initially meant to use `scipy.signal`'s `correlated2d` and `convolve2d` but unfortunatly they only work for a single channel, kernel and sample.  \n",
    "This is unconvinient as I need a mutli samples, kernels and channels operation.  \n",
    "I could wrap them around with three nested `for` loops but this would be a very slow implementation.  \n",
    "This is a \"from scratch\" repo afterall so let's implement a mutli channels, kernels and samples valid cross correlation operation from scratch.  \n",
    "I will simply implement the full convolution operation as a pad of the input, a transpose of the kernels and then a valid cross correlation.   "
   ]
  },
  {
   "cell_type": "markdown",
   "metadata": {},
   "source": [
    "## High level implementation  \n",
    "The valid cross correlation is essentially a vector dot product of the kernel and a subset of the input repeated over the x and y axes.  \n",
    "The reason why this can be simplfied to a repeated vector dot product is beacause the cross correlation of the view and the kernel have fixed matching incdices:  \n",
    "the ith element of the kernel matches the ith element of the view.  \n",
    "Once we have the flatten input and the window index, we can get a single view by indexing the flatten input by the window index.  \n",
    "With this view we can perform a dot product with the kernel to get a single correlation (a single value of our activation map output).  \n",
    "To get the next view on the right we simply need to add the input depth to all the indices in the window index.  \n",
    "To get the next view bellow we simply need to add the input depth times the horizontal length of the input to all the indices in the window index.  \n",
    "To get all the views we will create matrix wehere each row corresponds to a view.  \n",
    "The kernels will be in a second matrix where each column corresponds to a kernel.   \n",
    "To perform the cross correlation we will simply perform a dot product of the two matrices.  \n",
    "That's for a single input, to perform the operation on a batch of inputs we perform a (broadcasted?) dot product between the kenrel matric and a 3d array.  \n",
    "In this 3d array, the first dimension is input, the second the view and the third the value in the view.  "
   ]
  },
  {
   "cell_type": "markdown",
   "metadata": {},
   "source": [
    "## Setup"
   ]
  },
  {
   "cell_type": "markdown",
   "metadata": {},
   "source": [
    "### Imports"
   ]
  },
  {
   "cell_type": "code",
   "execution_count": 1,
   "metadata": {},
   "outputs": [],
   "source": [
    "from os.path import join\n",
    "\n",
    "from scipy.signal import correlate2d, convolve2d\n",
    "import numpy as np\n",
    "import plotly.express as px\n",
    "import kagglehub\n",
    "\n",
    "from cifar_10_dataset_loading import load_cifar_10"
   ]
  },
  {
   "cell_type": "markdown",
   "metadata": {},
   "source": [
    "### Data extraction"
   ]
  },
  {
   "cell_type": "markdown",
   "metadata": {},
   "source": [
    "#### MNIST dataset for single channel implementations"
   ]
  },
  {
   "cell_type": "code",
   "execution_count": 2,
   "metadata": {},
   "outputs": [
    {
     "name": "stdout",
     "output_type": "stream",
     "text": [
      "Warning: Looks like you're using an outdated `kagglehub` version (installed: 0.3.6), please consider upgrading to the latest version (0.3.7).\n"
     ]
    }
   ],
   "source": [
    "dataset_path = kagglehub.dataset_download(\"hojjatk/mnist-dataset\")\n",
    "train_image_path = join(dataset_path, 'train-images.idx3-ubyte')\n",
    "train_labels_path = join(dataset_path, 'train-labels.idx1-ubyte')\n",
    "test_image_path = join(dataset_path, 't10k-images.idx3-ubyte')\n",
    "test_labels_path = join(dataset_path, 't10k-labels.idx1-ubyte')\n",
    "\n",
    "def load_images(path) -> np.ndarray:\n",
    "    with open(path, 'rb') as f:\n",
    "        return (\n",
    "            np.frombuffer(f.read(), dtype=np.uint8)\n",
    "            [16:]\n",
    "            .reshape(-1, 28**2)\n",
    "            / 255\n",
    "        )\n",
    "\n",
    "train_dataset = load_images(train_image_path)"
   ]
  },
  {
   "cell_type": "code",
   "execution_count": 3,
   "metadata": {},
   "outputs": [
    {
     "data": {
      "application/vnd.plotly.v1+json": {
       "config": {
        "plotlyServerURL": "https://plot.ly"
       },
       "data": [
        {
         "coloraxis": "coloraxis",
         "hovertemplate": "x: %{x}<br>y: %{y}<br>color: %{z}<extra></extra>",
         "name": "0",
         "type": "heatmap",
         "xaxis": "x",
         "yaxis": "y",
         "z": [
          [
           0,
           0,
           0,
           0,
           0,
           0,
           0,
           0,
           0,
           0,
           0,
           0,
           0,
           0,
           0,
           0,
           0,
           0,
           0,
           0,
           0,
           0,
           0,
           0,
           0,
           0,
           0,
           0
          ],
          [
           0,
           0,
           0,
           0,
           0,
           0,
           0,
           0,
           0,
           0,
           0,
           0,
           0,
           0,
           0,
           0,
           0,
           0,
           0,
           0,
           0,
           0,
           0,
           0,
           0,
           0,
           0,
           0
          ],
          [
           0,
           0,
           0,
           0,
           0,
           0,
           0,
           0,
           0,
           0,
           0,
           0,
           0,
           0,
           0,
           0,
           0,
           0,
           0,
           0,
           0,
           0,
           0,
           0,
           0,
           0,
           0,
           0
          ],
          [
           0,
           0,
           0,
           0,
           0,
           0,
           0,
           0,
           0,
           0,
           0,
           0,
           0,
           0,
           0,
           0,
           0,
           0,
           0,
           0,
           0,
           0,
           0,
           0,
           0,
           0,
           0,
           0
          ],
          [
           0,
           0,
           0,
           0,
           0,
           0,
           0,
           0,
           0,
           0,
           0,
           0,
           0,
           0,
           0,
           0,
           0,
           0,
           0,
           0,
           0,
           0,
           0,
           0,
           0,
           0,
           0,
           0
          ],
          [
           0,
           0,
           0,
           0,
           0,
           0,
           0,
           0,
           0,
           0,
           0,
           0,
           0.011764705882352941,
           0.07058823529411765,
           0.07058823529411765,
           0.07058823529411765,
           0.49411764705882355,
           0.5333333333333333,
           0.6862745098039216,
           0.10196078431372549,
           0.6509803921568628,
           1,
           0.9686274509803922,
           0.4980392156862745,
           0,
           0,
           0,
           0
          ],
          [
           0,
           0,
           0,
           0,
           0,
           0,
           0,
           0,
           0.11764705882352941,
           0.1411764705882353,
           0.3686274509803922,
           0.6039215686274509,
           0.6666666666666666,
           0.9921568627450981,
           0.9921568627450981,
           0.9921568627450981,
           0.9921568627450981,
           0.9921568627450981,
           0.8823529411764706,
           0.6745098039215687,
           0.9921568627450981,
           0.9490196078431372,
           0.7647058823529411,
           0.25098039215686274,
           0,
           0,
           0,
           0
          ],
          [
           0,
           0,
           0,
           0,
           0,
           0,
           0,
           0.19215686274509805,
           0.9333333333333333,
           0.9921568627450981,
           0.9921568627450981,
           0.9921568627450981,
           0.9921568627450981,
           0.9921568627450981,
           0.9921568627450981,
           0.9921568627450981,
           0.9921568627450981,
           0.984313725490196,
           0.36470588235294116,
           0.3215686274509804,
           0.3215686274509804,
           0.2196078431372549,
           0.15294117647058825,
           0,
           0,
           0,
           0,
           0
          ],
          [
           0,
           0,
           0,
           0,
           0,
           0,
           0,
           0.07058823529411765,
           0.8588235294117647,
           0.9921568627450981,
           0.9921568627450981,
           0.9921568627450981,
           0.9921568627450981,
           0.9921568627450981,
           0.7764705882352941,
           0.7137254901960784,
           0.9686274509803922,
           0.9450980392156862,
           0,
           0,
           0,
           0,
           0,
           0,
           0,
           0,
           0,
           0
          ],
          [
           0,
           0,
           0,
           0,
           0,
           0,
           0,
           0,
           0.3137254901960784,
           0.611764705882353,
           0.4196078431372549,
           0.9921568627450981,
           0.9921568627450981,
           0.803921568627451,
           0.043137254901960784,
           0,
           0.16862745098039217,
           0.6039215686274509,
           0,
           0,
           0,
           0,
           0,
           0,
           0,
           0,
           0,
           0
          ],
          [
           0,
           0,
           0,
           0,
           0,
           0,
           0,
           0,
           0,
           0.054901960784313725,
           0.00392156862745098,
           0.6039215686274509,
           0.9921568627450981,
           0.35294117647058826,
           0,
           0,
           0,
           0,
           0,
           0,
           0,
           0,
           0,
           0,
           0,
           0,
           0,
           0
          ],
          [
           0,
           0,
           0,
           0,
           0,
           0,
           0,
           0,
           0,
           0,
           0,
           0.5450980392156862,
           0.9921568627450981,
           0.7450980392156863,
           0.00784313725490196,
           0,
           0,
           0,
           0,
           0,
           0,
           0,
           0,
           0,
           0,
           0,
           0,
           0
          ],
          [
           0,
           0,
           0,
           0,
           0,
           0,
           0,
           0,
           0,
           0,
           0,
           0.043137254901960784,
           0.7450980392156863,
           0.9921568627450981,
           0.27450980392156865,
           0,
           0,
           0,
           0,
           0,
           0,
           0,
           0,
           0,
           0,
           0,
           0,
           0
          ],
          [
           0,
           0,
           0,
           0,
           0,
           0,
           0,
           0,
           0,
           0,
           0,
           0,
           0.13725490196078433,
           0.9450980392156862,
           0.8823529411764706,
           0.6274509803921569,
           0.4235294117647059,
           0.00392156862745098,
           0,
           0,
           0,
           0,
           0,
           0,
           0,
           0,
           0,
           0
          ],
          [
           0,
           0,
           0,
           0,
           0,
           0,
           0,
           0,
           0,
           0,
           0,
           0,
           0,
           0.3176470588235294,
           0.9411764705882353,
           0.9921568627450981,
           0.9921568627450981,
           0.4666666666666667,
           0.09803921568627451,
           0,
           0,
           0,
           0,
           0,
           0,
           0,
           0,
           0
          ],
          [
           0,
           0,
           0,
           0,
           0,
           0,
           0,
           0,
           0,
           0,
           0,
           0,
           0,
           0,
           0.17647058823529413,
           0.7294117647058823,
           0.9921568627450981,
           0.9921568627450981,
           0.5882352941176471,
           0.10588235294117647,
           0,
           0,
           0,
           0,
           0,
           0,
           0,
           0
          ],
          [
           0,
           0,
           0,
           0,
           0,
           0,
           0,
           0,
           0,
           0,
           0,
           0,
           0,
           0,
           0,
           0.06274509803921569,
           0.36470588235294116,
           0.9882352941176471,
           0.9921568627450981,
           0.7333333333333333,
           0,
           0,
           0,
           0,
           0,
           0,
           0,
           0
          ],
          [
           0,
           0,
           0,
           0,
           0,
           0,
           0,
           0,
           0,
           0,
           0,
           0,
           0,
           0,
           0,
           0,
           0,
           0.9764705882352941,
           0.9921568627450981,
           0.9764705882352941,
           0.25098039215686274,
           0,
           0,
           0,
           0,
           0,
           0,
           0
          ],
          [
           0,
           0,
           0,
           0,
           0,
           0,
           0,
           0,
           0,
           0,
           0,
           0,
           0,
           0,
           0.1803921568627451,
           0.5098039215686274,
           0.7176470588235294,
           0.9921568627450981,
           0.9921568627450981,
           0.8117647058823529,
           0.00784313725490196,
           0,
           0,
           0,
           0,
           0,
           0,
           0
          ],
          [
           0,
           0,
           0,
           0,
           0,
           0,
           0,
           0,
           0,
           0,
           0,
           0,
           0.15294117647058825,
           0.5803921568627451,
           0.8980392156862745,
           0.9921568627450981,
           0.9921568627450981,
           0.9921568627450981,
           0.9803921568627451,
           0.7137254901960784,
           0,
           0,
           0,
           0,
           0,
           0,
           0,
           0
          ],
          [
           0,
           0,
           0,
           0,
           0,
           0,
           0,
           0,
           0,
           0,
           0.09411764705882353,
           0.4470588235294118,
           0.8666666666666667,
           0.9921568627450981,
           0.9921568627450981,
           0.9921568627450981,
           0.9921568627450981,
           0.788235294117647,
           0.3058823529411765,
           0,
           0,
           0,
           0,
           0,
           0,
           0,
           0,
           0
          ],
          [
           0,
           0,
           0,
           0,
           0,
           0,
           0,
           0,
           0.09019607843137255,
           0.25882352941176473,
           0.8352941176470589,
           0.9921568627450981,
           0.9921568627450981,
           0.9921568627450981,
           0.9921568627450981,
           0.7764705882352941,
           0.3176470588235294,
           0.00784313725490196,
           0,
           0,
           0,
           0,
           0,
           0,
           0,
           0,
           0,
           0
          ],
          [
           0,
           0,
           0,
           0,
           0,
           0,
           0.07058823529411765,
           0.6705882352941176,
           0.8588235294117647,
           0.9921568627450981,
           0.9921568627450981,
           0.9921568627450981,
           0.9921568627450981,
           0.7647058823529411,
           0.3137254901960784,
           0.03529411764705882,
           0,
           0,
           0,
           0,
           0,
           0,
           0,
           0,
           0,
           0,
           0,
           0
          ],
          [
           0,
           0,
           0,
           0,
           0.21568627450980393,
           0.6745098039215687,
           0.8862745098039215,
           0.9921568627450981,
           0.9921568627450981,
           0.9921568627450981,
           0.9921568627450981,
           0.9568627450980393,
           0.5215686274509804,
           0.043137254901960784,
           0,
           0,
           0,
           0,
           0,
           0,
           0,
           0,
           0,
           0,
           0,
           0,
           0,
           0
          ],
          [
           0,
           0,
           0,
           0,
           0.5333333333333333,
           0.9921568627450981,
           0.9921568627450981,
           0.9921568627450981,
           0.8313725490196079,
           0.5294117647058824,
           0.5176470588235295,
           0.06274509803921569,
           0,
           0,
           0,
           0,
           0,
           0,
           0,
           0,
           0,
           0,
           0,
           0,
           0,
           0,
           0,
           0
          ],
          [
           0,
           0,
           0,
           0,
           0,
           0,
           0,
           0,
           0,
           0,
           0,
           0,
           0,
           0,
           0,
           0,
           0,
           0,
           0,
           0,
           0,
           0,
           0,
           0,
           0,
           0,
           0,
           0
          ],
          [
           0,
           0,
           0,
           0,
           0,
           0,
           0,
           0,
           0,
           0,
           0,
           0,
           0,
           0,
           0,
           0,
           0,
           0,
           0,
           0,
           0,
           0,
           0,
           0,
           0,
           0,
           0,
           0
          ],
          [
           0,
           0,
           0,
           0,
           0,
           0,
           0,
           0,
           0,
           0,
           0,
           0,
           0,
           0,
           0,
           0,
           0,
           0,
           0,
           0,
           0,
           0,
           0,
           0,
           0,
           0,
           0,
           0
          ]
         ]
        }
       ],
       "layout": {
        "coloraxis": {
         "colorscale": [
          [
           0,
           "#0d0887"
          ],
          [
           0.1111111111111111,
           "#46039f"
          ],
          [
           0.2222222222222222,
           "#7201a8"
          ],
          [
           0.3333333333333333,
           "#9c179e"
          ],
          [
           0.4444444444444444,
           "#bd3786"
          ],
          [
           0.5555555555555556,
           "#d8576b"
          ],
          [
           0.6666666666666666,
           "#ed7953"
          ],
          [
           0.7777777777777778,
           "#fb9f3a"
          ],
          [
           0.8888888888888888,
           "#fdca26"
          ],
          [
           1,
           "#f0f921"
          ]
         ]
        },
        "margin": {
         "t": 60
        },
        "template": {
         "data": {
          "bar": [
           {
            "error_x": {
             "color": "#2a3f5f"
            },
            "error_y": {
             "color": "#2a3f5f"
            },
            "marker": {
             "line": {
              "color": "#E5ECF6",
              "width": 0.5
             },
             "pattern": {
              "fillmode": "overlay",
              "size": 10,
              "solidity": 0.2
             }
            },
            "type": "bar"
           }
          ],
          "barpolar": [
           {
            "marker": {
             "line": {
              "color": "#E5ECF6",
              "width": 0.5
             },
             "pattern": {
              "fillmode": "overlay",
              "size": 10,
              "solidity": 0.2
             }
            },
            "type": "barpolar"
           }
          ],
          "carpet": [
           {
            "aaxis": {
             "endlinecolor": "#2a3f5f",
             "gridcolor": "white",
             "linecolor": "white",
             "minorgridcolor": "white",
             "startlinecolor": "#2a3f5f"
            },
            "baxis": {
             "endlinecolor": "#2a3f5f",
             "gridcolor": "white",
             "linecolor": "white",
             "minorgridcolor": "white",
             "startlinecolor": "#2a3f5f"
            },
            "type": "carpet"
           }
          ],
          "choropleth": [
           {
            "colorbar": {
             "outlinewidth": 0,
             "ticks": ""
            },
            "type": "choropleth"
           }
          ],
          "contour": [
           {
            "colorbar": {
             "outlinewidth": 0,
             "ticks": ""
            },
            "colorscale": [
             [
              0,
              "#0d0887"
             ],
             [
              0.1111111111111111,
              "#46039f"
             ],
             [
              0.2222222222222222,
              "#7201a8"
             ],
             [
              0.3333333333333333,
              "#9c179e"
             ],
             [
              0.4444444444444444,
              "#bd3786"
             ],
             [
              0.5555555555555556,
              "#d8576b"
             ],
             [
              0.6666666666666666,
              "#ed7953"
             ],
             [
              0.7777777777777778,
              "#fb9f3a"
             ],
             [
              0.8888888888888888,
              "#fdca26"
             ],
             [
              1,
              "#f0f921"
             ]
            ],
            "type": "contour"
           }
          ],
          "contourcarpet": [
           {
            "colorbar": {
             "outlinewidth": 0,
             "ticks": ""
            },
            "type": "contourcarpet"
           }
          ],
          "heatmap": [
           {
            "colorbar": {
             "outlinewidth": 0,
             "ticks": ""
            },
            "colorscale": [
             [
              0,
              "#0d0887"
             ],
             [
              0.1111111111111111,
              "#46039f"
             ],
             [
              0.2222222222222222,
              "#7201a8"
             ],
             [
              0.3333333333333333,
              "#9c179e"
             ],
             [
              0.4444444444444444,
              "#bd3786"
             ],
             [
              0.5555555555555556,
              "#d8576b"
             ],
             [
              0.6666666666666666,
              "#ed7953"
             ],
             [
              0.7777777777777778,
              "#fb9f3a"
             ],
             [
              0.8888888888888888,
              "#fdca26"
             ],
             [
              1,
              "#f0f921"
             ]
            ],
            "type": "heatmap"
           }
          ],
          "heatmapgl": [
           {
            "colorbar": {
             "outlinewidth": 0,
             "ticks": ""
            },
            "colorscale": [
             [
              0,
              "#0d0887"
             ],
             [
              0.1111111111111111,
              "#46039f"
             ],
             [
              0.2222222222222222,
              "#7201a8"
             ],
             [
              0.3333333333333333,
              "#9c179e"
             ],
             [
              0.4444444444444444,
              "#bd3786"
             ],
             [
              0.5555555555555556,
              "#d8576b"
             ],
             [
              0.6666666666666666,
              "#ed7953"
             ],
             [
              0.7777777777777778,
              "#fb9f3a"
             ],
             [
              0.8888888888888888,
              "#fdca26"
             ],
             [
              1,
              "#f0f921"
             ]
            ],
            "type": "heatmapgl"
           }
          ],
          "histogram": [
           {
            "marker": {
             "pattern": {
              "fillmode": "overlay",
              "size": 10,
              "solidity": 0.2
             }
            },
            "type": "histogram"
           }
          ],
          "histogram2d": [
           {
            "colorbar": {
             "outlinewidth": 0,
             "ticks": ""
            },
            "colorscale": [
             [
              0,
              "#0d0887"
             ],
             [
              0.1111111111111111,
              "#46039f"
             ],
             [
              0.2222222222222222,
              "#7201a8"
             ],
             [
              0.3333333333333333,
              "#9c179e"
             ],
             [
              0.4444444444444444,
              "#bd3786"
             ],
             [
              0.5555555555555556,
              "#d8576b"
             ],
             [
              0.6666666666666666,
              "#ed7953"
             ],
             [
              0.7777777777777778,
              "#fb9f3a"
             ],
             [
              0.8888888888888888,
              "#fdca26"
             ],
             [
              1,
              "#f0f921"
             ]
            ],
            "type": "histogram2d"
           }
          ],
          "histogram2dcontour": [
           {
            "colorbar": {
             "outlinewidth": 0,
             "ticks": ""
            },
            "colorscale": [
             [
              0,
              "#0d0887"
             ],
             [
              0.1111111111111111,
              "#46039f"
             ],
             [
              0.2222222222222222,
              "#7201a8"
             ],
             [
              0.3333333333333333,
              "#9c179e"
             ],
             [
              0.4444444444444444,
              "#bd3786"
             ],
             [
              0.5555555555555556,
              "#d8576b"
             ],
             [
              0.6666666666666666,
              "#ed7953"
             ],
             [
              0.7777777777777778,
              "#fb9f3a"
             ],
             [
              0.8888888888888888,
              "#fdca26"
             ],
             [
              1,
              "#f0f921"
             ]
            ],
            "type": "histogram2dcontour"
           }
          ],
          "mesh3d": [
           {
            "colorbar": {
             "outlinewidth": 0,
             "ticks": ""
            },
            "type": "mesh3d"
           }
          ],
          "parcoords": [
           {
            "line": {
             "colorbar": {
              "outlinewidth": 0,
              "ticks": ""
             }
            },
            "type": "parcoords"
           }
          ],
          "pie": [
           {
            "automargin": true,
            "type": "pie"
           }
          ],
          "scatter": [
           {
            "fillpattern": {
             "fillmode": "overlay",
             "size": 10,
             "solidity": 0.2
            },
            "type": "scatter"
           }
          ],
          "scatter3d": [
           {
            "line": {
             "colorbar": {
              "outlinewidth": 0,
              "ticks": ""
             }
            },
            "marker": {
             "colorbar": {
              "outlinewidth": 0,
              "ticks": ""
             }
            },
            "type": "scatter3d"
           }
          ],
          "scattercarpet": [
           {
            "marker": {
             "colorbar": {
              "outlinewidth": 0,
              "ticks": ""
             }
            },
            "type": "scattercarpet"
           }
          ],
          "scattergeo": [
           {
            "marker": {
             "colorbar": {
              "outlinewidth": 0,
              "ticks": ""
             }
            },
            "type": "scattergeo"
           }
          ],
          "scattergl": [
           {
            "marker": {
             "colorbar": {
              "outlinewidth": 0,
              "ticks": ""
             }
            },
            "type": "scattergl"
           }
          ],
          "scattermapbox": [
           {
            "marker": {
             "colorbar": {
              "outlinewidth": 0,
              "ticks": ""
             }
            },
            "type": "scattermapbox"
           }
          ],
          "scatterpolar": [
           {
            "marker": {
             "colorbar": {
              "outlinewidth": 0,
              "ticks": ""
             }
            },
            "type": "scatterpolar"
           }
          ],
          "scatterpolargl": [
           {
            "marker": {
             "colorbar": {
              "outlinewidth": 0,
              "ticks": ""
             }
            },
            "type": "scatterpolargl"
           }
          ],
          "scatterternary": [
           {
            "marker": {
             "colorbar": {
              "outlinewidth": 0,
              "ticks": ""
             }
            },
            "type": "scatterternary"
           }
          ],
          "surface": [
           {
            "colorbar": {
             "outlinewidth": 0,
             "ticks": ""
            },
            "colorscale": [
             [
              0,
              "#0d0887"
             ],
             [
              0.1111111111111111,
              "#46039f"
             ],
             [
              0.2222222222222222,
              "#7201a8"
             ],
             [
              0.3333333333333333,
              "#9c179e"
             ],
             [
              0.4444444444444444,
              "#bd3786"
             ],
             [
              0.5555555555555556,
              "#d8576b"
             ],
             [
              0.6666666666666666,
              "#ed7953"
             ],
             [
              0.7777777777777778,
              "#fb9f3a"
             ],
             [
              0.8888888888888888,
              "#fdca26"
             ],
             [
              1,
              "#f0f921"
             ]
            ],
            "type": "surface"
           }
          ],
          "table": [
           {
            "cells": {
             "fill": {
              "color": "#EBF0F8"
             },
             "line": {
              "color": "white"
             }
            },
            "header": {
             "fill": {
              "color": "#C8D4E3"
             },
             "line": {
              "color": "white"
             }
            },
            "type": "table"
           }
          ]
         },
         "layout": {
          "annotationdefaults": {
           "arrowcolor": "#2a3f5f",
           "arrowhead": 0,
           "arrowwidth": 1
          },
          "autotypenumbers": "strict",
          "coloraxis": {
           "colorbar": {
            "outlinewidth": 0,
            "ticks": ""
           }
          },
          "colorscale": {
           "diverging": [
            [
             0,
             "#8e0152"
            ],
            [
             0.1,
             "#c51b7d"
            ],
            [
             0.2,
             "#de77ae"
            ],
            [
             0.3,
             "#f1b6da"
            ],
            [
             0.4,
             "#fde0ef"
            ],
            [
             0.5,
             "#f7f7f7"
            ],
            [
             0.6,
             "#e6f5d0"
            ],
            [
             0.7,
             "#b8e186"
            ],
            [
             0.8,
             "#7fbc41"
            ],
            [
             0.9,
             "#4d9221"
            ],
            [
             1,
             "#276419"
            ]
           ],
           "sequential": [
            [
             0,
             "#0d0887"
            ],
            [
             0.1111111111111111,
             "#46039f"
            ],
            [
             0.2222222222222222,
             "#7201a8"
            ],
            [
             0.3333333333333333,
             "#9c179e"
            ],
            [
             0.4444444444444444,
             "#bd3786"
            ],
            [
             0.5555555555555556,
             "#d8576b"
            ],
            [
             0.6666666666666666,
             "#ed7953"
            ],
            [
             0.7777777777777778,
             "#fb9f3a"
            ],
            [
             0.8888888888888888,
             "#fdca26"
            ],
            [
             1,
             "#f0f921"
            ]
           ],
           "sequentialminus": [
            [
             0,
             "#0d0887"
            ],
            [
             0.1111111111111111,
             "#46039f"
            ],
            [
             0.2222222222222222,
             "#7201a8"
            ],
            [
             0.3333333333333333,
             "#9c179e"
            ],
            [
             0.4444444444444444,
             "#bd3786"
            ],
            [
             0.5555555555555556,
             "#d8576b"
            ],
            [
             0.6666666666666666,
             "#ed7953"
            ],
            [
             0.7777777777777778,
             "#fb9f3a"
            ],
            [
             0.8888888888888888,
             "#fdca26"
            ],
            [
             1,
             "#f0f921"
            ]
           ]
          },
          "colorway": [
           "#636efa",
           "#EF553B",
           "#00cc96",
           "#ab63fa",
           "#FFA15A",
           "#19d3f3",
           "#FF6692",
           "#B6E880",
           "#FF97FF",
           "#FECB52"
          ],
          "font": {
           "color": "#2a3f5f"
          },
          "geo": {
           "bgcolor": "white",
           "lakecolor": "white",
           "landcolor": "#E5ECF6",
           "showlakes": true,
           "showland": true,
           "subunitcolor": "white"
          },
          "hoverlabel": {
           "align": "left"
          },
          "hovermode": "closest",
          "mapbox": {
           "style": "light"
          },
          "paper_bgcolor": "white",
          "plot_bgcolor": "#E5ECF6",
          "polar": {
           "angularaxis": {
            "gridcolor": "white",
            "linecolor": "white",
            "ticks": ""
           },
           "bgcolor": "#E5ECF6",
           "radialaxis": {
            "gridcolor": "white",
            "linecolor": "white",
            "ticks": ""
           }
          },
          "scene": {
           "xaxis": {
            "backgroundcolor": "#E5ECF6",
            "gridcolor": "white",
            "gridwidth": 2,
            "linecolor": "white",
            "showbackground": true,
            "ticks": "",
            "zerolinecolor": "white"
           },
           "yaxis": {
            "backgroundcolor": "#E5ECF6",
            "gridcolor": "white",
            "gridwidth": 2,
            "linecolor": "white",
            "showbackground": true,
            "ticks": "",
            "zerolinecolor": "white"
           },
           "zaxis": {
            "backgroundcolor": "#E5ECF6",
            "gridcolor": "white",
            "gridwidth": 2,
            "linecolor": "white",
            "showbackground": true,
            "ticks": "",
            "zerolinecolor": "white"
           }
          },
          "shapedefaults": {
           "line": {
            "color": "#2a3f5f"
           }
          },
          "ternary": {
           "aaxis": {
            "gridcolor": "white",
            "linecolor": "white",
            "ticks": ""
           },
           "baxis": {
            "gridcolor": "white",
            "linecolor": "white",
            "ticks": ""
           },
           "bgcolor": "#E5ECF6",
           "caxis": {
            "gridcolor": "white",
            "linecolor": "white",
            "ticks": ""
           }
          },
          "title": {
           "x": 0.05
          },
          "xaxis": {
           "automargin": true,
           "gridcolor": "white",
           "linecolor": "white",
           "ticks": "",
           "title": {
            "standoff": 15
           },
           "zerolinecolor": "white",
           "zerolinewidth": 2
          },
          "yaxis": {
           "automargin": true,
           "gridcolor": "white",
           "linecolor": "white",
           "ticks": "",
           "title": {
            "standoff": 15
           },
           "zerolinecolor": "white",
           "zerolinewidth": 2
          }
         }
        },
        "xaxis": {
         "anchor": "y",
         "constrain": "domain",
         "domain": [
          0,
          1
         ],
         "scaleanchor": "y"
        },
        "yaxis": {
         "anchor": "x",
         "autorange": "reversed",
         "constrain": "domain",
         "domain": [
          0,
          1
         ]
        }
       }
      }
     },
     "metadata": {},
     "output_type": "display_data"
    }
   ],
   "source": [
    "px.imshow(train_dataset[0].reshape(28, 28))"
   ]
  },
  {
   "cell_type": "code",
   "execution_count": 4,
   "metadata": {},
   "outputs": [],
   "source": [
    "INPUT_SHAPE = (28, 28)\n",
    "input = train_dataset[0]"
   ]
  },
  {
   "cell_type": "markdown",
   "metadata": {},
   "source": [
    "#### Cifar 10 for multi channels implementations"
   ]
  },
  {
   "cell_type": "code",
   "execution_count": 5,
   "metadata": {},
   "outputs": [],
   "source": [
    "cifar_10_train_inputs, _, _, _ = load_cifar_10()"
   ]
  },
  {
   "cell_type": "markdown",
   "metadata": {},
   "source": [
    "## Single kernel, input image and channel cross correlation implementation"
   ]
  },
  {
   "cell_type": "markdown",
   "metadata": {},
   "source": [
    "First we declare a kernel, we will store it as a vectore this way we can use vector/matrix dot product to compute the cross correlations \"all at once\"."
   ]
  },
  {
   "cell_type": "code",
   "execution_count": 6,
   "metadata": {},
   "outputs": [
    {
     "data": {
      "text/plain": [
       "array([ 1,  0, -1,  1,  0, -1,  1,  0, -1])"
      ]
     },
     "execution_count": 6,
     "metadata": {},
     "output_type": "execute_result"
    }
   ],
   "source": [
    "kernel = np.array([\n",
    "    [1, 0, -1], \n",
    "    [1, 0, -1],\n",
    "    [1, 0, -1],\n",
    "])\n",
    "kernel_weights = kernel.ravel()\n",
    "kernel_weights"
   ]
  },
  {
   "cell_type": "markdown",
   "metadata": {},
   "source": [
    "First we will create the window index of the kernel.  \n",
    "This is the index that will be slid over the input image to compute the cross correlation."
   ]
  },
  {
   "cell_type": "code",
   "execution_count": 7,
   "metadata": {},
   "outputs": [
    {
     "data": {
      "text/plain": [
       "array([ 0,  1,  2, 28, 29, 30, 56, 57, 58])"
      ]
     },
     "execution_count": 7,
     "metadata": {},
     "output_type": "execute_result"
    }
   ],
   "source": [
    "window_index = np.arange(kernel.shape[0])\n",
    "window_index = np.tile(window_index, kernel.shape[1])\n",
    "window_index += np.repeat(np.arange(kernel.shape[0]) * INPUT_SHAPE[0], kernel.shape[1])\n",
    "window_index"
   ]
  },
  {
   "cell_type": "code",
   "execution_count": 8,
   "metadata": {},
   "outputs": [
    {
     "data": {
      "text/plain": [
       "676"
      ]
     },
     "execution_count": 8,
     "metadata": {},
     "output_type": "execute_result"
    }
   ],
   "source": [
    "nb_horizontal_correlations = 1 + INPUT_SHAPE[0] - kernel.shape[0]\n",
    "nb_vertical_correlations = 1 + INPUT_SHAPE[0] - kernel.shape[0]\n",
    "nb_correlations = nb_horizontal_correlations * nb_vertical_correlations\n",
    "nb_correlations"
   ]
  },
  {
   "cell_type": "code",
   "execution_count": 9,
   "metadata": {},
   "outputs": [],
   "source": [
    "# Here we repeat the window index for each correlation and then add the horizontal and vertical offsets and store the result into a matrix.\n",
    "# Each row corresponds to a correlation and each column corresponds to a window index.\n",
    "# The offsets are computed the same way as the window index.\n",
    "# We reshape the offsets by giving them an extra dimension of size 1 to brodcast the addition over the window indices.\n",
    "horizontal_offsets = np.tile(np.arange(nb_horizontal_correlations), nb_vertical_correlations).reshape(-1, 1)\n",
    "vertical_offsets = np.repeat(np.arange(nb_vertical_correlations) * INPUT_SHAPE[0], nb_vertical_correlations).reshape(-1, 1)\n",
    "correlation_indices = np.tile(window_index, (nb_correlations, 1)) + horizontal_offsets + vertical_offsets"
   ]
  },
  {
   "cell_type": "markdown",
   "metadata": {},
   "source": [
    "### result visualization and comparaison with `scipy.signal`'s `correlated2d`"
   ]
  },
  {
   "cell_type": "code",
   "execution_count": 10,
   "metadata": {},
   "outputs": [
    {
     "data": {
      "application/vnd.plotly.v1+json": {
       "config": {
        "plotlyServerURL": "https://plot.ly"
       },
       "data": [
        {
         "coloraxis": "coloraxis",
         "hovertemplate": "x: %{x}<br>y: %{y}<br>color: %{z}<extra></extra>",
         "name": "0",
         "type": "heatmap",
         "xaxis": "x",
         "yaxis": "y",
         "z": [
          [
           0,
           0,
           0,
           0,
           0,
           0,
           0,
           0,
           0,
           0,
           0,
           0,
           0,
           0,
           0,
           0,
           0,
           0,
           0,
           0,
           0,
           0,
           0,
           0,
           0,
           0
          ],
          [
           0,
           0,
           0,
           0,
           0,
           0,
           0,
           0,
           0,
           0,
           0,
           0,
           0,
           0,
           0,
           0,
           0,
           0,
           0,
           0,
           0,
           0,
           0,
           0,
           0,
           0
          ],
          [
           0,
           0,
           0,
           0,
           0,
           0,
           0,
           0,
           0,
           0,
           0,
           0,
           0,
           0,
           0,
           0,
           0,
           0,
           0,
           0,
           0,
           0,
           0,
           0,
           0,
           0
          ],
          [
           0,
           0,
           0,
           0,
           0,
           0,
           0,
           0,
           0,
           0,
           -0.011764705882352941,
           -0.07058823529411765,
           -0.058823529411764705,
           0,
           -0.42352941176470593,
           -0.4627450980392157,
           -0.19215686274509802,
           0.43137254901960786,
           0.03529411764705881,
           -0.8980392156862745,
           -0.3176470588235294,
           0.5019607843137255,
           0.9686274509803922,
           0.4980392156862745,
           0,
           0
          ],
          [
           0,
           0,
           0,
           0,
           0,
           0,
           -0.11764705882352941,
           -0.1411764705882353,
           -0.25098039215686274,
           -0.46274509803921565,
           -0.3098039215686274,
           -0.45882352941176474,
           -0.38431372549019616,
           0,
           -0.42352941176470593,
           -0.4627450980392157,
           -0.08235294117647052,
           0.7490196078431373,
           -0.0745098039215687,
           -1.172549019607843,
           -0.09019607843137245,
           1.2,
           1.7333333333333334,
           0.7490196078431373,
           0,
           0
          ],
          [
           0,
           0,
           0,
           0,
           0,
           -0.19215686274509805,
           -1.0509803921568628,
           -0.9411764705882353,
           -0.30980392156862746,
           -0.4627450980392156,
           -0.30980392156862746,
           -0.45882352941176474,
           -0.38431372549019616,
           0,
           -0.42352941176470593,
           -0.45490196078431366,
           0.5450980392156863,
           1.411764705882353,
           -0.031372549019607954,
           -1.0705882352941174,
           0.07843137254901972,
           1.4196078431372547,
           1.8862745098039215,
           0.7490196078431373,
           0,
           0
          ],
          [
           0,
           0,
           0,
           0,
           0,
           -0.2627450980392157,
           -1.9098039215686273,
           -1.8627450980392157,
           -0.4431372549019609,
           -0.4627450980392156,
           -0.29803921568627445,
           -0.3882352941176471,
           -0.1098039215686275,
           0.2784313725490196,
           -0.19215686274509802,
           -0.22352941176470575,
           1.7058823529411766,
           1.9254901960784312,
           -0.06666666666666676,
           -0.17254901960784302,
           0.39607843137254906,
           0.9176470588235294,
           0.9176470588235294,
           0.25098039215686274,
           0,
           0
          ],
          [
           0,
           0,
           0,
           0,
           0,
           -0.2627450980392157,
           -2.105882352941176,
           -2.3333333333333335,
           -0.2980392156862746,
           -0.3803921568627451,
           -0.5725490196078431,
           0.18823529411764706,
           1.1647058823529413,
           1.0823529411764707,
           -0.3176470588235294,
           -0.8274509803921567,
           1.7647058823529413,
           2.2117647058823526,
           0.04313725490196074,
           0.10196078431372552,
           0.16862745098039217,
           0.2196078431372549,
           0.15294117647058825,
           0,
           0,
           0
          ],
          [
           0,
           0,
           0,
           0,
           0,
           -0.07058823529411765,
           -1.172549019607843,
           -1.5882352941176472,
           -0.24313725490196086,
           -0.9294117647058823,
           -1.5607843137254902,
           0.43921568627450974,
           2.1568627450980395,
           1.435294117647059,
           -0.3176470588235294,
           -0.8352941176470587,
           1.1372549019607843,
           1.549019607843137,
           0,
           0,
           0,
           0,
           0,
           0,
           0,
           0
          ],
          [
           0,
           0,
           0,
           0,
           0,
           0,
           -0.3137254901960784,
           -0.6666666666666667,
           -0.10980392156862746,
           -1.4745098039215685,
           -2.552941176470588,
           0.23921568627450962,
           2.9254901960784316,
           1.9019607843137256,
           -0.11764705882352941,
           -0.6039215686274509,
           0.16862745098039217,
           0.6039215686274509,
           0,
           0,
           0,
           0,
           0,
           0,
           0,
           0
          ],
          [
           0,
           0,
           0,
           0,
           0,
           0,
           0,
           -0.054901960784313725,
           -0.00392156862745098,
           -1.1372549019607843,
           -2.7254901960784315,
           -0.8980392156862748,
           2.447058823529412,
           2.0901960784313727,
           0.2823529411764706,
           0,
           0,
           0,
           0,
           0,
           0,
           0,
           0,
           0,
           0,
           0
          ],
          [
           0,
           0,
           0,
           0,
           0,
           0,
           0,
           0,
           0,
           -0.588235294117647,
           -1.8745098039215686,
           -2.0941176470588236,
           0.7098039215686276,
           2.054901960784314,
           0.7411764705882351,
           0.6235294117647059,
           0.4235294117647059,
           0.00392156862745098,
           0,
           0,
           0,
           0,
           0,
           0,
           0,
           0
          ],
          [
           0,
           0,
           0,
           0,
           0,
           0,
           0,
           0,
           0,
           -0.043137254901960784,
           -0.8823529411764706,
           -2.211764705882353,
           -1.2156862745098038,
           0.6352941176470588,
           0.6823529411764704,
           1.1490196078431372,
           1.3176470588235294,
           0.47058823529411764,
           0.09803921568627451,
           0,
           0,
           0,
           0,
           0,
           0,
           0
          ],
          [
           0,
           0,
           0,
           0,
           0,
           0,
           0,
           0,
           0,
           0,
           -0.13725490196078433,
           -1.2627450980392156,
           -1.8627450980392157,
           -1.0862745098039217,
           -0.40784313725490207,
           0.8862745098039215,
           1.72156862745098,
           1.3568627450980393,
           0.6862745098039216,
           0.10588235294117647,
           0,
           0,
           0,
           0,
           0,
           0
          ],
          [
           0,
           0,
           0,
           0,
           0,
           0,
           0,
           0,
           0,
           0,
           0,
           -0.3176470588235294,
           -1.1176470588235294,
           -1.4666666666666666,
           -1.231372549019608,
           -0.6627450980392158,
           0.6705882352941175,
           1.607843137254902,
           1.6784313725490196,
           0.8392156862745097,
           0,
           0,
           0,
           0,
           0,
           0
          ],
          [
           0,
           0,
           0,
           0,
           0,
           0,
           0,
           0,
           0,
           0,
           0,
           0,
           -0.17647058823529413,
           -0.792156862745098,
           -1.1803921568627451,
           -2.1647058823529415,
           -1.215686274509804,
           1.1411764705882352,
           2.3215686274509806,
           1.8156862745098037,
           0.25098039215686274,
           0,
           0,
           0,
           0,
           0
          ],
          [
           0,
           0,
           0,
           0,
           0,
           0,
           0,
           0,
           0,
           0,
           0,
           0,
           -0.1803921568627451,
           -0.5725490196078431,
           -0.9019607843137255,
           -2.384313725490196,
           -1.8941176470588235,
           0.43529411764705883,
           2.7176470588235295,
           2.5215686274509803,
           0.2588235294117647,
           0,
           0,
           0,
           0,
           0
          ],
          [
           0,
           0,
           0,
           0,
           0,
           0,
           0,
           0,
           0,
           0,
           -0.15294117647058825,
           -0.5803921568627451,
           -0.9254901960784314,
           -0.9215686274509803,
           -0.6313725490196078,
           -1.4588235294117649,
           -1.2549019607843137,
           0.45882352941176474,
           2.7058823529411766,
           2.5019607843137255,
           0.2588235294117647,
           0,
           0,
           0,
           0,
           0
          ],
          [
           0,
           0,
           0,
           0,
           0,
           0,
           0,
           0,
           -0.09411764705882353,
           -0.4470588235294118,
           -0.9254901960784314,
           -1.1254901960784314,
           -1.0509803921568628,
           -0.9215686274509803,
           -0.6313725490196078,
           -0.2784313725490196,
           0.42352941176470593,
           1.2470588235294118,
           2.2705882352941176,
           1.5254901960784313,
           0.00784313725490196,
           0,
           0,
           0,
           0,
           0
          ],
          [
           0,
           0,
           0,
           0,
           0,
           0,
           -0.09019607843137255,
           -0.25882352941176473,
           -0.8392156862745098,
           -1.1803921568627451,
           -1.0823529411764707,
           -1.1254901960784314,
           -0.8705882352941177,
           -0.196078431372549,
           0.5803921568627451,
           0.9725490196078432,
           1.0156862745098039,
           1.0745098039215686,
           1.2862745098039214,
           0.7137254901960784,
           0,
           0,
           0,
           0,
           0,
           0
          ],
          [
           0,
           0,
           0,
           0,
           -0.07058823529411765,
           -0.6705882352941176,
           -0.8784313725490196,
           -0.5803921568627453,
           -0.9725490196078432,
           -1.1803921568627451,
           -0.9294117647058824,
           -0.3176470588235294,
           0.5529411764705883,
           0.9450980392156862,
           0.9882352941176471,
           1.0078431372549022,
           1.003921568627451,
           0.796078431372549,
           0.3058823529411765,
           0,
           0,
           0,
           0,
           0,
           0,
           0
          ],
          [
           0,
           0,
           -0.21568627450980393,
           -0.6745098039215687,
           -0.7411764705882352,
           -0.988235294117647,
           -0.9843137254901961,
           -0.5803921568627453,
           -0.8784313725490197,
           -0.6980392156862746,
           0.3137254901960784,
           1.1411764705882355,
           1.2000000000000002,
           0.988235294117647,
           0.9882352941176471,
           0.803921568627451,
           0.3176470588235294,
           0.00784313725490196,
           0,
           0,
           0,
           0,
           0,
           0,
           0,
           0
          ],
          [
           0,
           0,
           -0.7490196078431373,
           -1.6666666666666667,
           -1.2,
           -0.988235294117647,
           -0.7333333333333334,
           0.14117647058823524,
           0.180392156862745,
           0.5019607843137255,
           0.9882352941176471,
           1.2039215686274511,
           1.2000000000000002,
           0.7725490196078431,
           0.3137254901960784,
           0.03529411764705882,
           0,
           0,
           0,
           0,
           0,
           0,
           0,
           0,
           0,
           0
          ],
          [
           0,
           0,
           -0.7490196078431373,
           -1.6666666666666667,
           -1.1294117647058823,
           -0.3176470588235294,
           0.05490196078431364,
           0.4627450980392157,
           0.3137254901960784,
           0.5019607843137255,
           0.9882352941176471,
           0.9764705882352942,
           0.5215686274509804,
           0.043137254901960784,
           0,
           0,
           0,
           0,
           0,
           0,
           0,
           0,
           0,
           0,
           0,
           0
          ],
          [
           0,
           0,
           -0.5333333333333333,
           -0.9921568627450981,
           -0.45882352941176474,
           0,
           0.16078431372549018,
           0.4627450980392157,
           0.3137254901960784,
           0.4666666666666667,
           0.5176470588235295,
           0.06274509803921569,
           0,
           0,
           0,
           0,
           0,
           0,
           0,
           0,
           0,
           0,
           0,
           0,
           0,
           0
          ],
          [
           0,
           0,
           0,
           0,
           0,
           0,
           0,
           0,
           0,
           0,
           0,
           0,
           0,
           0,
           0,
           0,
           0,
           0,
           0,
           0,
           0,
           0,
           0,
           0,
           0,
           0
          ]
         ]
        },
        {
         "coloraxis": "coloraxis",
         "hovertemplate": "x: %{x}<br>y: %{y}<br>color: %{z}<extra></extra>",
         "name": "1",
         "type": "heatmap",
         "xaxis": "x2",
         "yaxis": "y2",
         "z": [
          [
           0,
           0,
           0,
           0,
           0,
           0,
           0,
           0,
           0,
           0,
           0,
           0,
           0,
           0,
           0,
           0,
           0,
           0,
           0,
           0,
           0,
           0,
           0,
           0,
           0,
           0
          ],
          [
           0,
           0,
           0,
           0,
           0,
           0,
           0,
           0,
           0,
           0,
           0,
           0,
           0,
           0,
           0,
           0,
           0,
           0,
           0,
           0,
           0,
           0,
           0,
           0,
           0,
           0
          ],
          [
           0,
           0,
           0,
           0,
           0,
           0,
           0,
           0,
           0,
           0,
           0,
           0,
           0,
           0,
           0,
           0,
           0,
           0,
           0,
           0,
           0,
           0,
           0,
           0,
           0,
           0
          ],
          [
           0,
           0,
           0,
           0,
           0,
           0,
           0,
           0,
           0,
           0,
           -0.011764705882352941,
           -0.07058823529411765,
           -0.058823529411764705,
           0,
           -0.42352941176470593,
           -0.4627450980392157,
           -0.19215686274509802,
           0.43137254901960786,
           0.03529411764705881,
           -0.8980392156862745,
           -0.3176470588235294,
           0.5019607843137255,
           0.9686274509803922,
           0.4980392156862745,
           0,
           0
          ],
          [
           0,
           0,
           0,
           0,
           0,
           0,
           -0.11764705882352941,
           -0.1411764705882353,
           -0.25098039215686274,
           -0.46274509803921565,
           -0.3098039215686274,
           -0.45882352941176474,
           -0.38431372549019616,
           0,
           -0.42352941176470593,
           -0.4627450980392157,
           -0.08235294117647052,
           0.7490196078431373,
           -0.0745098039215687,
           -1.172549019607843,
           -0.09019607843137245,
           1.2,
           1.7333333333333334,
           0.7490196078431373,
           0,
           0
          ],
          [
           0,
           0,
           0,
           0,
           0,
           -0.19215686274509805,
           -1.0509803921568628,
           -0.9411764705882353,
           -0.30980392156862746,
           -0.4627450980392156,
           -0.30980392156862735,
           -0.45882352941176474,
           -0.38431372549019616,
           0,
           -0.42352941176470593,
           -0.45490196078431366,
           0.5450980392156863,
           1.4117647058823528,
           -0.031372549019607954,
           -1.0705882352941176,
           0.07843137254901977,
           1.4196078431372547,
           1.8862745098039215,
           0.7490196078431373,
           0,
           0
          ],
          [
           0,
           0,
           0,
           0,
           0,
           -0.2627450980392157,
           -1.9098039215686273,
           -1.8627450980392157,
           -0.4431372549019609,
           -0.4627450980392156,
           -0.29803921568627445,
           -0.3882352941176471,
           -0.1098039215686275,
           0.2784313725490196,
           -0.19215686274509802,
           -0.22352941176470575,
           1.7058823529411766,
           1.9254901960784312,
           -0.06666666666666676,
           -0.17254901960784302,
           0.3960784313725491,
           0.9176470588235294,
           0.9176470588235294,
           0.25098039215686274,
           0,
           0
          ],
          [
           0,
           0,
           0,
           0,
           0,
           -0.2627450980392157,
           -2.105882352941176,
           -2.3333333333333335,
           -0.2980392156862746,
           -0.3803921568627451,
           -0.5725490196078431,
           0.18823529411764706,
           1.1647058823529413,
           1.0823529411764707,
           -0.31764705882352945,
           -0.8274509803921567,
           1.7647058823529411,
           2.211764705882353,
           0.04313725490196074,
           0.10196078431372552,
           0.16862745098039217,
           0.2196078431372549,
           0.15294117647058825,
           0,
           0,
           0
          ],
          [
           0,
           0,
           0,
           0,
           0,
           -0.07058823529411765,
           -1.172549019607843,
           -1.5882352941176472,
           -0.24313725490196086,
           -0.9294117647058823,
           -1.5607843137254902,
           0.43921568627450974,
           2.1568627450980395,
           1.4352941176470588,
           -0.3176470588235294,
           -0.8352941176470587,
           1.1372549019607843,
           1.549019607843137,
           0,
           0,
           0,
           0,
           0,
           0,
           0,
           0
          ],
          [
           0,
           0,
           0,
           0,
           0,
           0,
           -0.3137254901960784,
           -0.6666666666666667,
           -0.10980392156862746,
           -1.4745098039215685,
           -2.552941176470588,
           0.23921568627450962,
           2.9254901960784316,
           1.9019607843137256,
           -0.11764705882352942,
           -0.6039215686274509,
           0.16862745098039217,
           0.6039215686274509,
           0,
           0,
           0,
           0,
           0,
           0,
           0,
           0
          ],
          [
           0,
           0,
           0,
           0,
           0,
           0,
           0,
           -0.054901960784313725,
           -0.00392156862745098,
           -1.1372549019607843,
           -2.7254901960784315,
           -0.8980392156862746,
           2.447058823529412,
           2.0901960784313727,
           0.2823529411764706,
           0,
           0,
           0,
           0,
           0,
           0,
           0,
           0,
           0,
           0,
           0
          ],
          [
           0,
           0,
           0,
           0,
           0,
           0,
           0,
           0,
           0,
           -0.588235294117647,
           -1.8745098039215686,
           -2.0941176470588236,
           0.7098039215686276,
           2.054901960784314,
           0.7411764705882351,
           0.6235294117647059,
           0.4235294117647059,
           0.00392156862745098,
           0,
           0,
           0,
           0,
           0,
           0,
           0,
           0
          ],
          [
           0,
           0,
           0,
           0,
           0,
           0,
           0,
           0,
           0,
           -0.043137254901960784,
           -0.8823529411764706,
           -2.211764705882353,
           -1.215686274509804,
           0.6352941176470588,
           0.6823529411764706,
           1.1490196078431372,
           1.3176470588235294,
           0.47058823529411764,
           0.09803921568627451,
           0,
           0,
           0,
           0,
           0,
           0,
           0
          ],
          [
           0,
           0,
           0,
           0,
           0,
           0,
           0,
           0,
           0,
           0,
           -0.13725490196078433,
           -1.2627450980392156,
           -1.8627450980392157,
           -1.0862745098039217,
           -0.40784313725490207,
           0.8862745098039215,
           1.7215686274509805,
           1.3568627450980393,
           0.6862745098039216,
           0.10588235294117647,
           0,
           0,
           0,
           0,
           0,
           0
          ],
          [
           0,
           0,
           0,
           0,
           0,
           0,
           0,
           0,
           0,
           0,
           0,
           -0.3176470588235294,
           -1.1176470588235294,
           -1.4666666666666666,
           -1.231372549019608,
           -0.6627450980392158,
           0.6705882352941175,
           1.607843137254902,
           1.6784313725490199,
           0.8392156862745097,
           0,
           0,
           0,
           0,
           0,
           0
          ],
          [
           0,
           0,
           0,
           0,
           0,
           0,
           0,
           0,
           0,
           0,
           0,
           0,
           -0.17647058823529413,
           -0.792156862745098,
           -1.1803921568627451,
           -2.1647058823529415,
           -1.215686274509804,
           1.1411764705882352,
           2.3215686274509806,
           1.8156862745098037,
           0.25098039215686274,
           0,
           0,
           0,
           0,
           0
          ],
          [
           0,
           0,
           0,
           0,
           0,
           0,
           0,
           0,
           0,
           0,
           0,
           0,
           -0.1803921568627451,
           -0.5725490196078431,
           -0.9019607843137255,
           -2.384313725490196,
           -1.8941176470588237,
           0.43529411764705883,
           2.7176470588235295,
           2.5215686274509803,
           0.2588235294117647,
           0,
           0,
           0,
           0,
           0
          ],
          [
           0,
           0,
           0,
           0,
           0,
           0,
           0,
           0,
           0,
           0,
           -0.15294117647058825,
           -0.5803921568627451,
           -0.9254901960784314,
           -0.9215686274509803,
           -0.6313725490196078,
           -1.4588235294117649,
           -1.2549019607843137,
           0.45882352941176474,
           2.7058823529411766,
           2.5019607843137255,
           0.2588235294117647,
           0,
           0,
           0,
           0,
           0
          ],
          [
           0,
           0,
           0,
           0,
           0,
           0,
           0,
           0,
           -0.09411764705882353,
           -0.4470588235294118,
           -0.9254901960784314,
           -1.1254901960784314,
           -1.0509803921568628,
           -0.9215686274509803,
           -0.6313725490196078,
           -0.2784313725490196,
           0.42352941176470593,
           1.2470588235294118,
           2.2705882352941176,
           1.5254901960784313,
           0.00784313725490196,
           0,
           0,
           0,
           0,
           0
          ],
          [
           0,
           0,
           0,
           0,
           0,
           0,
           -0.09019607843137255,
           -0.25882352941176473,
           -0.8392156862745098,
           -1.1803921568627451,
           -1.0823529411764707,
           -1.1254901960784314,
           -0.8705882352941177,
           -0.196078431372549,
           0.5803921568627451,
           0.9725490196078432,
           1.0156862745098039,
           1.0745098039215686,
           1.2862745098039214,
           0.7137254901960784,
           0,
           0,
           0,
           0,
           0,
           0
          ],
          [
           0,
           0,
           0,
           0,
           -0.07058823529411765,
           -0.6705882352941176,
           -0.8784313725490196,
           -0.5803921568627453,
           -0.9725490196078432,
           -1.1803921568627451,
           -0.9294117647058824,
           -0.31764705882352934,
           0.5529411764705883,
           0.9450980392156862,
           0.9882352941176471,
           1.007843137254902,
           1.003921568627451,
           0.796078431372549,
           0.3058823529411765,
           0,
           0,
           0,
           0,
           0,
           0,
           0
          ],
          [
           0,
           0,
           -0.21568627450980393,
           -0.6745098039215687,
           -0.7411764705882352,
           -0.988235294117647,
           -0.9843137254901961,
           -0.5803921568627451,
           -0.8784313725490197,
           -0.6980392156862745,
           0.3137254901960784,
           1.1411764705882355,
           1.2000000000000002,
           0.988235294117647,
           0.9882352941176471,
           0.803921568627451,
           0.3176470588235294,
           0.00784313725490196,
           0,
           0,
           0,
           0,
           0,
           0,
           0,
           0
          ],
          [
           0,
           0,
           -0.7490196078431373,
           -1.6666666666666667,
           -1.2,
           -0.988235294117647,
           -0.7333333333333334,
           0.14117647058823524,
           0.180392156862745,
           0.5019607843137255,
           0.9882352941176471,
           1.2039215686274511,
           1.2000000000000002,
           0.7725490196078431,
           0.3137254901960784,
           0.03529411764705882,
           0,
           0,
           0,
           0,
           0,
           0,
           0,
           0,
           0,
           0
          ],
          [
           0,
           0,
           -0.7490196078431373,
           -1.6666666666666667,
           -1.1294117647058823,
           -0.3176470588235294,
           0.05490196078431364,
           0.4627450980392157,
           0.3137254901960784,
           0.5019607843137255,
           0.9882352941176471,
           0.9764705882352942,
           0.5215686274509804,
           0.043137254901960784,
           0,
           0,
           0,
           0,
           0,
           0,
           0,
           0,
           0,
           0,
           0,
           0
          ],
          [
           0,
           0,
           -0.5333333333333333,
           -0.9921568627450981,
           -0.45882352941176474,
           0,
           0.16078431372549018,
           0.4627450980392157,
           0.3137254901960784,
           0.4666666666666667,
           0.5176470588235295,
           0.06274509803921569,
           0,
           0,
           0,
           0,
           0,
           0,
           0,
           0,
           0,
           0,
           0,
           0,
           0,
           0
          ],
          [
           0,
           0,
           0,
           0,
           0,
           0,
           0,
           0,
           0,
           0,
           0,
           0,
           0,
           0,
           0,
           0,
           0,
           0,
           0,
           0,
           0,
           0,
           0,
           0,
           0,
           0
          ]
         ]
        }
       ],
       "layout": {
        "annotations": [
         {
          "font": {},
          "showarrow": false,
          "text": "Scipy Correlation",
          "x": 0.245,
          "xanchor": "center",
          "xref": "paper",
          "y": 1,
          "yanchor": "bottom",
          "yref": "paper"
         },
         {
          "font": {},
          "showarrow": false,
          "text": "Custom Correlation",
          "x": 0.755,
          "xanchor": "center",
          "xref": "paper",
          "y": 1,
          "yanchor": "bottom",
          "yref": "paper"
         }
        ],
        "coloraxis": {
         "colorscale": [
          [
           0,
           "#0d0887"
          ],
          [
           0.1111111111111111,
           "#46039f"
          ],
          [
           0.2222222222222222,
           "#7201a8"
          ],
          [
           0.3333333333333333,
           "#9c179e"
          ],
          [
           0.4444444444444444,
           "#bd3786"
          ],
          [
           0.5555555555555556,
           "#d8576b"
          ],
          [
           0.6666666666666666,
           "#ed7953"
          ],
          [
           0.7777777777777778,
           "#fb9f3a"
          ],
          [
           0.8888888888888888,
           "#fdca26"
          ],
          [
           1,
           "#f0f921"
          ]
         ]
        },
        "margin": {
         "t": 60
        },
        "template": {
         "data": {
          "bar": [
           {
            "error_x": {
             "color": "#2a3f5f"
            },
            "error_y": {
             "color": "#2a3f5f"
            },
            "marker": {
             "line": {
              "color": "#E5ECF6",
              "width": 0.5
             },
             "pattern": {
              "fillmode": "overlay",
              "size": 10,
              "solidity": 0.2
             }
            },
            "type": "bar"
           }
          ],
          "barpolar": [
           {
            "marker": {
             "line": {
              "color": "#E5ECF6",
              "width": 0.5
             },
             "pattern": {
              "fillmode": "overlay",
              "size": 10,
              "solidity": 0.2
             }
            },
            "type": "barpolar"
           }
          ],
          "carpet": [
           {
            "aaxis": {
             "endlinecolor": "#2a3f5f",
             "gridcolor": "white",
             "linecolor": "white",
             "minorgridcolor": "white",
             "startlinecolor": "#2a3f5f"
            },
            "baxis": {
             "endlinecolor": "#2a3f5f",
             "gridcolor": "white",
             "linecolor": "white",
             "minorgridcolor": "white",
             "startlinecolor": "#2a3f5f"
            },
            "type": "carpet"
           }
          ],
          "choropleth": [
           {
            "colorbar": {
             "outlinewidth": 0,
             "ticks": ""
            },
            "type": "choropleth"
           }
          ],
          "contour": [
           {
            "colorbar": {
             "outlinewidth": 0,
             "ticks": ""
            },
            "colorscale": [
             [
              0,
              "#0d0887"
             ],
             [
              0.1111111111111111,
              "#46039f"
             ],
             [
              0.2222222222222222,
              "#7201a8"
             ],
             [
              0.3333333333333333,
              "#9c179e"
             ],
             [
              0.4444444444444444,
              "#bd3786"
             ],
             [
              0.5555555555555556,
              "#d8576b"
             ],
             [
              0.6666666666666666,
              "#ed7953"
             ],
             [
              0.7777777777777778,
              "#fb9f3a"
             ],
             [
              0.8888888888888888,
              "#fdca26"
             ],
             [
              1,
              "#f0f921"
             ]
            ],
            "type": "contour"
           }
          ],
          "contourcarpet": [
           {
            "colorbar": {
             "outlinewidth": 0,
             "ticks": ""
            },
            "type": "contourcarpet"
           }
          ],
          "heatmap": [
           {
            "colorbar": {
             "outlinewidth": 0,
             "ticks": ""
            },
            "colorscale": [
             [
              0,
              "#0d0887"
             ],
             [
              0.1111111111111111,
              "#46039f"
             ],
             [
              0.2222222222222222,
              "#7201a8"
             ],
             [
              0.3333333333333333,
              "#9c179e"
             ],
             [
              0.4444444444444444,
              "#bd3786"
             ],
             [
              0.5555555555555556,
              "#d8576b"
             ],
             [
              0.6666666666666666,
              "#ed7953"
             ],
             [
              0.7777777777777778,
              "#fb9f3a"
             ],
             [
              0.8888888888888888,
              "#fdca26"
             ],
             [
              1,
              "#f0f921"
             ]
            ],
            "type": "heatmap"
           }
          ],
          "heatmapgl": [
           {
            "colorbar": {
             "outlinewidth": 0,
             "ticks": ""
            },
            "colorscale": [
             [
              0,
              "#0d0887"
             ],
             [
              0.1111111111111111,
              "#46039f"
             ],
             [
              0.2222222222222222,
              "#7201a8"
             ],
             [
              0.3333333333333333,
              "#9c179e"
             ],
             [
              0.4444444444444444,
              "#bd3786"
             ],
             [
              0.5555555555555556,
              "#d8576b"
             ],
             [
              0.6666666666666666,
              "#ed7953"
             ],
             [
              0.7777777777777778,
              "#fb9f3a"
             ],
             [
              0.8888888888888888,
              "#fdca26"
             ],
             [
              1,
              "#f0f921"
             ]
            ],
            "type": "heatmapgl"
           }
          ],
          "histogram": [
           {
            "marker": {
             "pattern": {
              "fillmode": "overlay",
              "size": 10,
              "solidity": 0.2
             }
            },
            "type": "histogram"
           }
          ],
          "histogram2d": [
           {
            "colorbar": {
             "outlinewidth": 0,
             "ticks": ""
            },
            "colorscale": [
             [
              0,
              "#0d0887"
             ],
             [
              0.1111111111111111,
              "#46039f"
             ],
             [
              0.2222222222222222,
              "#7201a8"
             ],
             [
              0.3333333333333333,
              "#9c179e"
             ],
             [
              0.4444444444444444,
              "#bd3786"
             ],
             [
              0.5555555555555556,
              "#d8576b"
             ],
             [
              0.6666666666666666,
              "#ed7953"
             ],
             [
              0.7777777777777778,
              "#fb9f3a"
             ],
             [
              0.8888888888888888,
              "#fdca26"
             ],
             [
              1,
              "#f0f921"
             ]
            ],
            "type": "histogram2d"
           }
          ],
          "histogram2dcontour": [
           {
            "colorbar": {
             "outlinewidth": 0,
             "ticks": ""
            },
            "colorscale": [
             [
              0,
              "#0d0887"
             ],
             [
              0.1111111111111111,
              "#46039f"
             ],
             [
              0.2222222222222222,
              "#7201a8"
             ],
             [
              0.3333333333333333,
              "#9c179e"
             ],
             [
              0.4444444444444444,
              "#bd3786"
             ],
             [
              0.5555555555555556,
              "#d8576b"
             ],
             [
              0.6666666666666666,
              "#ed7953"
             ],
             [
              0.7777777777777778,
              "#fb9f3a"
             ],
             [
              0.8888888888888888,
              "#fdca26"
             ],
             [
              1,
              "#f0f921"
             ]
            ],
            "type": "histogram2dcontour"
           }
          ],
          "mesh3d": [
           {
            "colorbar": {
             "outlinewidth": 0,
             "ticks": ""
            },
            "type": "mesh3d"
           }
          ],
          "parcoords": [
           {
            "line": {
             "colorbar": {
              "outlinewidth": 0,
              "ticks": ""
             }
            },
            "type": "parcoords"
           }
          ],
          "pie": [
           {
            "automargin": true,
            "type": "pie"
           }
          ],
          "scatter": [
           {
            "fillpattern": {
             "fillmode": "overlay",
             "size": 10,
             "solidity": 0.2
            },
            "type": "scatter"
           }
          ],
          "scatter3d": [
           {
            "line": {
             "colorbar": {
              "outlinewidth": 0,
              "ticks": ""
             }
            },
            "marker": {
             "colorbar": {
              "outlinewidth": 0,
              "ticks": ""
             }
            },
            "type": "scatter3d"
           }
          ],
          "scattercarpet": [
           {
            "marker": {
             "colorbar": {
              "outlinewidth": 0,
              "ticks": ""
             }
            },
            "type": "scattercarpet"
           }
          ],
          "scattergeo": [
           {
            "marker": {
             "colorbar": {
              "outlinewidth": 0,
              "ticks": ""
             }
            },
            "type": "scattergeo"
           }
          ],
          "scattergl": [
           {
            "marker": {
             "colorbar": {
              "outlinewidth": 0,
              "ticks": ""
             }
            },
            "type": "scattergl"
           }
          ],
          "scattermapbox": [
           {
            "marker": {
             "colorbar": {
              "outlinewidth": 0,
              "ticks": ""
             }
            },
            "type": "scattermapbox"
           }
          ],
          "scatterpolar": [
           {
            "marker": {
             "colorbar": {
              "outlinewidth": 0,
              "ticks": ""
             }
            },
            "type": "scatterpolar"
           }
          ],
          "scatterpolargl": [
           {
            "marker": {
             "colorbar": {
              "outlinewidth": 0,
              "ticks": ""
             }
            },
            "type": "scatterpolargl"
           }
          ],
          "scatterternary": [
           {
            "marker": {
             "colorbar": {
              "outlinewidth": 0,
              "ticks": ""
             }
            },
            "type": "scatterternary"
           }
          ],
          "surface": [
           {
            "colorbar": {
             "outlinewidth": 0,
             "ticks": ""
            },
            "colorscale": [
             [
              0,
              "#0d0887"
             ],
             [
              0.1111111111111111,
              "#46039f"
             ],
             [
              0.2222222222222222,
              "#7201a8"
             ],
             [
              0.3333333333333333,
              "#9c179e"
             ],
             [
              0.4444444444444444,
              "#bd3786"
             ],
             [
              0.5555555555555556,
              "#d8576b"
             ],
             [
              0.6666666666666666,
              "#ed7953"
             ],
             [
              0.7777777777777778,
              "#fb9f3a"
             ],
             [
              0.8888888888888888,
              "#fdca26"
             ],
             [
              1,
              "#f0f921"
             ]
            ],
            "type": "surface"
           }
          ],
          "table": [
           {
            "cells": {
             "fill": {
              "color": "#EBF0F8"
             },
             "line": {
              "color": "white"
             }
            },
            "header": {
             "fill": {
              "color": "#C8D4E3"
             },
             "line": {
              "color": "white"
             }
            },
            "type": "table"
           }
          ]
         },
         "layout": {
          "annotationdefaults": {
           "arrowcolor": "#2a3f5f",
           "arrowhead": 0,
           "arrowwidth": 1
          },
          "autotypenumbers": "strict",
          "coloraxis": {
           "colorbar": {
            "outlinewidth": 0,
            "ticks": ""
           }
          },
          "colorscale": {
           "diverging": [
            [
             0,
             "#8e0152"
            ],
            [
             0.1,
             "#c51b7d"
            ],
            [
             0.2,
             "#de77ae"
            ],
            [
             0.3,
             "#f1b6da"
            ],
            [
             0.4,
             "#fde0ef"
            ],
            [
             0.5,
             "#f7f7f7"
            ],
            [
             0.6,
             "#e6f5d0"
            ],
            [
             0.7,
             "#b8e186"
            ],
            [
             0.8,
             "#7fbc41"
            ],
            [
             0.9,
             "#4d9221"
            ],
            [
             1,
             "#276419"
            ]
           ],
           "sequential": [
            [
             0,
             "#0d0887"
            ],
            [
             0.1111111111111111,
             "#46039f"
            ],
            [
             0.2222222222222222,
             "#7201a8"
            ],
            [
             0.3333333333333333,
             "#9c179e"
            ],
            [
             0.4444444444444444,
             "#bd3786"
            ],
            [
             0.5555555555555556,
             "#d8576b"
            ],
            [
             0.6666666666666666,
             "#ed7953"
            ],
            [
             0.7777777777777778,
             "#fb9f3a"
            ],
            [
             0.8888888888888888,
             "#fdca26"
            ],
            [
             1,
             "#f0f921"
            ]
           ],
           "sequentialminus": [
            [
             0,
             "#0d0887"
            ],
            [
             0.1111111111111111,
             "#46039f"
            ],
            [
             0.2222222222222222,
             "#7201a8"
            ],
            [
             0.3333333333333333,
             "#9c179e"
            ],
            [
             0.4444444444444444,
             "#bd3786"
            ],
            [
             0.5555555555555556,
             "#d8576b"
            ],
            [
             0.6666666666666666,
             "#ed7953"
            ],
            [
             0.7777777777777778,
             "#fb9f3a"
            ],
            [
             0.8888888888888888,
             "#fdca26"
            ],
            [
             1,
             "#f0f921"
            ]
           ]
          },
          "colorway": [
           "#636efa",
           "#EF553B",
           "#00cc96",
           "#ab63fa",
           "#FFA15A",
           "#19d3f3",
           "#FF6692",
           "#B6E880",
           "#FF97FF",
           "#FECB52"
          ],
          "font": {
           "color": "#2a3f5f"
          },
          "geo": {
           "bgcolor": "white",
           "lakecolor": "white",
           "landcolor": "#E5ECF6",
           "showlakes": true,
           "showland": true,
           "subunitcolor": "white"
          },
          "hoverlabel": {
           "align": "left"
          },
          "hovermode": "closest",
          "mapbox": {
           "style": "light"
          },
          "paper_bgcolor": "white",
          "plot_bgcolor": "#E5ECF6",
          "polar": {
           "angularaxis": {
            "gridcolor": "white",
            "linecolor": "white",
            "ticks": ""
           },
           "bgcolor": "#E5ECF6",
           "radialaxis": {
            "gridcolor": "white",
            "linecolor": "white",
            "ticks": ""
           }
          },
          "scene": {
           "xaxis": {
            "backgroundcolor": "#E5ECF6",
            "gridcolor": "white",
            "gridwidth": 2,
            "linecolor": "white",
            "showbackground": true,
            "ticks": "",
            "zerolinecolor": "white"
           },
           "yaxis": {
            "backgroundcolor": "#E5ECF6",
            "gridcolor": "white",
            "gridwidth": 2,
            "linecolor": "white",
            "showbackground": true,
            "ticks": "",
            "zerolinecolor": "white"
           },
           "zaxis": {
            "backgroundcolor": "#E5ECF6",
            "gridcolor": "white",
            "gridwidth": 2,
            "linecolor": "white",
            "showbackground": true,
            "ticks": "",
            "zerolinecolor": "white"
           }
          },
          "shapedefaults": {
           "line": {
            "color": "#2a3f5f"
           }
          },
          "ternary": {
           "aaxis": {
            "gridcolor": "white",
            "linecolor": "white",
            "ticks": ""
           },
           "baxis": {
            "gridcolor": "white",
            "linecolor": "white",
            "ticks": ""
           },
           "bgcolor": "#E5ECF6",
           "caxis": {
            "gridcolor": "white",
            "linecolor": "white",
            "ticks": ""
           }
          },
          "title": {
           "x": 0.05
          },
          "xaxis": {
           "automargin": true,
           "gridcolor": "white",
           "linecolor": "white",
           "ticks": "",
           "title": {
            "standoff": 15
           },
           "zerolinecolor": "white",
           "zerolinewidth": 2
          },
          "yaxis": {
           "automargin": true,
           "gridcolor": "white",
           "linecolor": "white",
           "ticks": "",
           "title": {
            "standoff": 15
           },
           "zerolinecolor": "white",
           "zerolinewidth": 2
          }
         }
        },
        "xaxis": {
         "anchor": "y",
         "constrain": "domain",
         "domain": [
          0,
          0.49
         ],
         "scaleanchor": "y"
        },
        "xaxis2": {
         "anchor": "y2",
         "domain": [
          0.51,
          1
         ],
         "matches": "x"
        },
        "yaxis": {
         "anchor": "x",
         "autorange": "reversed",
         "constrain": "domain",
         "domain": [
          0,
          1
         ]
        },
        "yaxis2": {
         "anchor": "x2",
         "domain": [
          0,
          1
         ],
         "matches": "y",
         "showticklabels": false
        }
       }
      }
     },
     "metadata": {},
     "output_type": "display_data"
    }
   ],
   "source": [
    "scipy_correlation = correlate2d(input.reshape(28, 28), kernel, mode=\"valid\")\n",
    "custom_correlation = (input[correlation_indices] @ kernel_weights).reshape(nb_horizontal_correlations, nb_vertical_correlations)\n",
    "\n",
    "fig = px.imshow(np.asarray([scipy_correlation, custom_correlation]), facet_col=0)\n",
    "fig.layout.annotations[0]['text'] = \"Scipy Correlation\"\n",
    "fig.layout.annotations[1]['text'] = \"Custom Correlation\"\n",
    "fig.show()"
   ]
  },
  {
   "cell_type": "markdown",
   "metadata": {},
   "source": [
    "## Multiple kernels, single input image and channel cross correlation implementation  \n",
    "The only difference with the previous implementation is that we perform a matrix/matrix dot product instead of a matrix/vector.   \n",
    "The kernel array has been upgraded to a matrix where each column corresponds to a kernel.   "
   ]
  },
  {
   "cell_type": "code",
   "execution_count": 11,
   "metadata": {},
   "outputs": [
    {
     "data": {
      "text/plain": [
       "array([[ 1,  1],\n",
       "       [ 0,  0],\n",
       "       [-1,  1],\n",
       "       [ 1,  0],\n",
       "       [ 0,  0],\n",
       "       [-1,  0],\n",
       "       [ 1, -1],\n",
       "       [ 0,  0],\n",
       "       [-1, -1]])"
      ]
     },
     "execution_count": 11,
     "metadata": {},
     "output_type": "execute_result"
    }
   ],
   "source": [
    "kernels = np.array([\n",
    "    # First kernel\n",
    "    [\n",
    "        [1, 0, -1], \n",
    "        [1, 0, -1],\n",
    "        [1, 0, -1],\n",
    "    ],\n",
    "    # Second kernel\n",
    "    [\n",
    "        [1, 0, 1], \n",
    "        [0, 0, 0],\n",
    "        [-1, 0, -1],\n",
    "    ],\n",
    "])\n",
    "kernels_weights = kernels.reshape(2, -1).T\n",
    "kernels_weights"
   ]
  },
  {
   "cell_type": "code",
   "execution_count": 12,
   "metadata": {},
   "outputs": [
    {
     "data": {
      "text/plain": [
       "(676, 2)"
      ]
     },
     "execution_count": 12,
     "metadata": {},
     "output_type": "execute_result"
    }
   ],
   "source": [
    "# Here we can use the same correlation indices as the previous implementation which pretty convinient\n",
    "flatt_cross_correlation = input[correlation_indices] @ kernels_weights\n",
    "flatt_cross_correlation.shape"
   ]
  },
  {
   "cell_type": "markdown",
   "metadata": {},
   "source": [
    "### Results visualization and comparaison with `scipy.signal`'s `correlated2d`"
   ]
  },
  {
   "cell_type": "code",
   "execution_count": 13,
   "metadata": {},
   "outputs": [
    {
     "data": {
      "text/plain": [
       "(26, 26, 4)"
      ]
     },
     "metadata": {},
     "output_type": "display_data"
    },
    {
     "data": {
      "application/vnd.plotly.v1+json": {
       "config": {
        "plotlyServerURL": "https://plot.ly"
       },
       "data": [
        {
         "coloraxis": "coloraxis",
         "hovertemplate": "x: %{x}<br>y: %{y}<br>color: %{z}<extra></extra>",
         "name": "0",
         "type": "heatmap",
         "xaxis": "x3",
         "yaxis": "y3",
         "z": [
          [
           0,
           0,
           0,
           0,
           0,
           0,
           0,
           0,
           0,
           0,
           0,
           0,
           0,
           0,
           0,
           0,
           0,
           0,
           0,
           0,
           0,
           0,
           0,
           0,
           0,
           0
          ],
          [
           0,
           0,
           0,
           0,
           0,
           0,
           0,
           0,
           0,
           0,
           0,
           0,
           0,
           0,
           0,
           0,
           0,
           0,
           0,
           0,
           0,
           0,
           0,
           0,
           0,
           0
          ],
          [
           0,
           0,
           0,
           0,
           0,
           0,
           0,
           0,
           0,
           0,
           0,
           0,
           0,
           0,
           0,
           0,
           0,
           0,
           0,
           0,
           0,
           0,
           0,
           0,
           0,
           0
          ],
          [
           0,
           0,
           0,
           0,
           0,
           0,
           0,
           0,
           0,
           0,
           -0.011764705882352941,
           -0.07058823529411765,
           -0.058823529411764705,
           0,
           -0.42352941176470593,
           -0.4627450980392157,
           -0.19215686274509802,
           0.43137254901960786,
           0.03529411764705881,
           -0.8980392156862745,
           -0.3176470588235294,
           0.5019607843137255,
           0.9686274509803922,
           0.4980392156862745,
           0,
           0
          ],
          [
           0,
           0,
           0,
           0,
           0,
           0,
           -0.11764705882352941,
           -0.1411764705882353,
           -0.25098039215686274,
           -0.46274509803921565,
           -0.3098039215686274,
           -0.45882352941176474,
           -0.38431372549019616,
           0,
           -0.42352941176470593,
           -0.4627450980392157,
           -0.08235294117647052,
           0.7490196078431373,
           -0.0745098039215687,
           -1.172549019607843,
           -0.09019607843137245,
           1.2,
           1.7333333333333334,
           0.7490196078431373,
           0,
           0
          ],
          [
           0,
           0,
           0,
           0,
           0,
           -0.19215686274509805,
           -1.0509803921568628,
           -0.9411764705882353,
           -0.30980392156862746,
           -0.4627450980392156,
           -0.30980392156862746,
           -0.45882352941176474,
           -0.38431372549019616,
           0,
           -0.42352941176470593,
           -0.45490196078431366,
           0.5450980392156863,
           1.411764705882353,
           -0.031372549019607954,
           -1.0705882352941174,
           0.07843137254901972,
           1.4196078431372547,
           1.8862745098039215,
           0.7490196078431373,
           0,
           0
          ],
          [
           0,
           0,
           0,
           0,
           0,
           -0.2627450980392157,
           -1.9098039215686273,
           -1.8627450980392157,
           -0.4431372549019609,
           -0.4627450980392156,
           -0.29803921568627445,
           -0.3882352941176471,
           -0.1098039215686275,
           0.2784313725490196,
           -0.19215686274509802,
           -0.22352941176470575,
           1.7058823529411766,
           1.9254901960784312,
           -0.06666666666666676,
           -0.17254901960784302,
           0.39607843137254906,
           0.9176470588235294,
           0.9176470588235294,
           0.25098039215686274,
           0,
           0
          ],
          [
           0,
           0,
           0,
           0,
           0,
           -0.2627450980392157,
           -2.105882352941176,
           -2.3333333333333335,
           -0.2980392156862746,
           -0.3803921568627451,
           -0.5725490196078431,
           0.18823529411764706,
           1.1647058823529413,
           1.0823529411764707,
           -0.3176470588235294,
           -0.8274509803921567,
           1.7647058823529413,
           2.2117647058823526,
           0.04313725490196074,
           0.10196078431372552,
           0.16862745098039217,
           0.2196078431372549,
           0.15294117647058825,
           0,
           0,
           0
          ],
          [
           0,
           0,
           0,
           0,
           0,
           -0.07058823529411765,
           -1.172549019607843,
           -1.5882352941176472,
           -0.24313725490196086,
           -0.9294117647058823,
           -1.5607843137254902,
           0.43921568627450974,
           2.1568627450980395,
           1.435294117647059,
           -0.3176470588235294,
           -0.8352941176470587,
           1.1372549019607843,
           1.549019607843137,
           0,
           0,
           0,
           0,
           0,
           0,
           0,
           0
          ],
          [
           0,
           0,
           0,
           0,
           0,
           0,
           -0.3137254901960784,
           -0.6666666666666667,
           -0.10980392156862746,
           -1.4745098039215685,
           -2.552941176470588,
           0.23921568627450962,
           2.9254901960784316,
           1.9019607843137256,
           -0.11764705882352941,
           -0.6039215686274509,
           0.16862745098039217,
           0.6039215686274509,
           0,
           0,
           0,
           0,
           0,
           0,
           0,
           0
          ],
          [
           0,
           0,
           0,
           0,
           0,
           0,
           0,
           -0.054901960784313725,
           -0.00392156862745098,
           -1.1372549019607843,
           -2.7254901960784315,
           -0.8980392156862748,
           2.447058823529412,
           2.0901960784313727,
           0.2823529411764706,
           0,
           0,
           0,
           0,
           0,
           0,
           0,
           0,
           0,
           0,
           0
          ],
          [
           0,
           0,
           0,
           0,
           0,
           0,
           0,
           0,
           0,
           -0.588235294117647,
           -1.8745098039215686,
           -2.0941176470588236,
           0.7098039215686276,
           2.054901960784314,
           0.7411764705882351,
           0.6235294117647059,
           0.4235294117647059,
           0.00392156862745098,
           0,
           0,
           0,
           0,
           0,
           0,
           0,
           0
          ],
          [
           0,
           0,
           0,
           0,
           0,
           0,
           0,
           0,
           0,
           -0.043137254901960784,
           -0.8823529411764706,
           -2.211764705882353,
           -1.2156862745098038,
           0.6352941176470588,
           0.6823529411764704,
           1.1490196078431372,
           1.3176470588235294,
           0.47058823529411764,
           0.09803921568627451,
           0,
           0,
           0,
           0,
           0,
           0,
           0
          ],
          [
           0,
           0,
           0,
           0,
           0,
           0,
           0,
           0,
           0,
           0,
           -0.13725490196078433,
           -1.2627450980392156,
           -1.8627450980392157,
           -1.0862745098039217,
           -0.40784313725490207,
           0.8862745098039215,
           1.72156862745098,
           1.3568627450980393,
           0.6862745098039216,
           0.10588235294117647,
           0,
           0,
           0,
           0,
           0,
           0
          ],
          [
           0,
           0,
           0,
           0,
           0,
           0,
           0,
           0,
           0,
           0,
           0,
           -0.3176470588235294,
           -1.1176470588235294,
           -1.4666666666666666,
           -1.231372549019608,
           -0.6627450980392158,
           0.6705882352941175,
           1.607843137254902,
           1.6784313725490196,
           0.8392156862745097,
           0,
           0,
           0,
           0,
           0,
           0
          ],
          [
           0,
           0,
           0,
           0,
           0,
           0,
           0,
           0,
           0,
           0,
           0,
           0,
           -0.17647058823529413,
           -0.792156862745098,
           -1.1803921568627451,
           -2.1647058823529415,
           -1.215686274509804,
           1.1411764705882352,
           2.3215686274509806,
           1.8156862745098037,
           0.25098039215686274,
           0,
           0,
           0,
           0,
           0
          ],
          [
           0,
           0,
           0,
           0,
           0,
           0,
           0,
           0,
           0,
           0,
           0,
           0,
           -0.1803921568627451,
           -0.5725490196078431,
           -0.9019607843137255,
           -2.384313725490196,
           -1.8941176470588235,
           0.43529411764705883,
           2.7176470588235295,
           2.5215686274509803,
           0.2588235294117647,
           0,
           0,
           0,
           0,
           0
          ],
          [
           0,
           0,
           0,
           0,
           0,
           0,
           0,
           0,
           0,
           0,
           -0.15294117647058825,
           -0.5803921568627451,
           -0.9254901960784314,
           -0.9215686274509803,
           -0.6313725490196078,
           -1.4588235294117649,
           -1.2549019607843137,
           0.45882352941176474,
           2.7058823529411766,
           2.5019607843137255,
           0.2588235294117647,
           0,
           0,
           0,
           0,
           0
          ],
          [
           0,
           0,
           0,
           0,
           0,
           0,
           0,
           0,
           -0.09411764705882353,
           -0.4470588235294118,
           -0.9254901960784314,
           -1.1254901960784314,
           -1.0509803921568628,
           -0.9215686274509803,
           -0.6313725490196078,
           -0.2784313725490196,
           0.42352941176470593,
           1.2470588235294118,
           2.2705882352941176,
           1.5254901960784313,
           0.00784313725490196,
           0,
           0,
           0,
           0,
           0
          ],
          [
           0,
           0,
           0,
           0,
           0,
           0,
           -0.09019607843137255,
           -0.25882352941176473,
           -0.8392156862745098,
           -1.1803921568627451,
           -1.0823529411764707,
           -1.1254901960784314,
           -0.8705882352941177,
           -0.196078431372549,
           0.5803921568627451,
           0.9725490196078432,
           1.0156862745098039,
           1.0745098039215686,
           1.2862745098039214,
           0.7137254901960784,
           0,
           0,
           0,
           0,
           0,
           0
          ],
          [
           0,
           0,
           0,
           0,
           -0.07058823529411765,
           -0.6705882352941176,
           -0.8784313725490196,
           -0.5803921568627453,
           -0.9725490196078432,
           -1.1803921568627451,
           -0.9294117647058824,
           -0.3176470588235294,
           0.5529411764705883,
           0.9450980392156862,
           0.9882352941176471,
           1.0078431372549022,
           1.003921568627451,
           0.796078431372549,
           0.3058823529411765,
           0,
           0,
           0,
           0,
           0,
           0,
           0
          ],
          [
           0,
           0,
           -0.21568627450980393,
           -0.6745098039215687,
           -0.7411764705882352,
           -0.988235294117647,
           -0.9843137254901961,
           -0.5803921568627453,
           -0.8784313725490197,
           -0.6980392156862746,
           0.3137254901960784,
           1.1411764705882355,
           1.2000000000000002,
           0.988235294117647,
           0.9882352941176471,
           0.803921568627451,
           0.3176470588235294,
           0.00784313725490196,
           0,
           0,
           0,
           0,
           0,
           0,
           0,
           0
          ],
          [
           0,
           0,
           -0.7490196078431373,
           -1.6666666666666667,
           -1.2,
           -0.988235294117647,
           -0.7333333333333334,
           0.14117647058823524,
           0.180392156862745,
           0.5019607843137255,
           0.9882352941176471,
           1.2039215686274511,
           1.2000000000000002,
           0.7725490196078431,
           0.3137254901960784,
           0.03529411764705882,
           0,
           0,
           0,
           0,
           0,
           0,
           0,
           0,
           0,
           0
          ],
          [
           0,
           0,
           -0.7490196078431373,
           -1.6666666666666667,
           -1.1294117647058823,
           -0.3176470588235294,
           0.05490196078431364,
           0.4627450980392157,
           0.3137254901960784,
           0.5019607843137255,
           0.9882352941176471,
           0.9764705882352942,
           0.5215686274509804,
           0.043137254901960784,
           0,
           0,
           0,
           0,
           0,
           0,
           0,
           0,
           0,
           0,
           0,
           0
          ],
          [
           0,
           0,
           -0.5333333333333333,
           -0.9921568627450981,
           -0.45882352941176474,
           0,
           0.16078431372549018,
           0.4627450980392157,
           0.3137254901960784,
           0.4666666666666667,
           0.5176470588235295,
           0.06274509803921569,
           0,
           0,
           0,
           0,
           0,
           0,
           0,
           0,
           0,
           0,
           0,
           0,
           0,
           0
          ],
          [
           0,
           0,
           0,
           0,
           0,
           0,
           0,
           0,
           0,
           0,
           0,
           0,
           0,
           0,
           0,
           0,
           0,
           0,
           0,
           0,
           0,
           0,
           0,
           0,
           0,
           0
          ]
         ]
        },
        {
         "coloraxis": "coloraxis",
         "hovertemplate": "x: %{x}<br>y: %{y}<br>color: %{z}<extra></extra>",
         "name": "1",
         "type": "heatmap",
         "xaxis": "x4",
         "yaxis": "y4",
         "z": [
          [
           0,
           0,
           0,
           0,
           0,
           0,
           0,
           0,
           0,
           0,
           0,
           0,
           0,
           0,
           0,
           0,
           0,
           0,
           0,
           0,
           0,
           0,
           0,
           0,
           0,
           0
          ],
          [
           0,
           0,
           0,
           0,
           0,
           0,
           0,
           0,
           0,
           0,
           0,
           0,
           0,
           0,
           0,
           0,
           0,
           0,
           0,
           0,
           0,
           0,
           0,
           0,
           0,
           0
          ],
          [
           0,
           0,
           0,
           0,
           0,
           0,
           0,
           0,
           0,
           0,
           0,
           0,
           0,
           0,
           0,
           0,
           0,
           0,
           0,
           0,
           0,
           0,
           0,
           0,
           0,
           0
          ],
          [
           0,
           0,
           0,
           0,
           0,
           0,
           0,
           0,
           0,
           0,
           -0.011764705882352941,
           -0.07058823529411765,
           -0.08235294117647059,
           -0.1411764705882353,
           -0.5647058823529412,
           -0.6039215686274509,
           -1.1803921568627451,
           -0.6352941176470588,
           -1.3372549019607844,
           -1.1019607843137256,
           -1.619607843137255,
           -1.4980392156862745,
           -0.9686274509803922,
           -0.4980392156862745,
           0,
           0
          ],
          [
           0,
           0,
           0,
           0,
           0,
           0,
           -0.11764705882352941,
           -0.1411764705882353,
           -0.4862745098039216,
           -0.7450980392156863,
           -1.0352941176470587,
           -1.5960784313725491,
           -1.6588235294117646,
           -1.9843137254901961,
           -1.9843137254901961,
           -1.9843137254901961,
           -1.8745098039215686,
           -1.6666666666666667,
           -1.8745098039215686,
           -1.6235294117647059,
           -1.7568627450980392,
           -1.2,
           -0.7647058823529411,
           -0.25098039215686274,
           0,
           0
          ],
          [
           0,
           0,
           0,
           0,
           0,
           -0.19215686274509805,
           -0.9333333333333333,
           -1.184313725490196,
           -1.9254901960784314,
           -1.9843137254901961,
           -1.9725490196078432,
           -1.9137254901960785,
           -1.9019607843137254,
           -1.843137254901961,
           -1.419607843137255,
           -1.3725490196078431,
           -0.1764705882352941,
           -0.6705882352941177,
           0.6509803921568629,
           0.5607843137254903,
           1.1450980392156862,
           1.2784313725490195,
           0.8156862745098039,
           0.4980392156862745,
           0,
           0
          ],
          [
           0,
           0,
           0,
           0,
           0,
           -0.07058823529411765,
           -0.7411764705882352,
           -0.9215686274509804,
           -1.3647058823529412,
           -1.2392156862745098,
           -0.9490196078431374,
           -0.388235294117647,
           -0.10980392156862762,
           0.2784313725490196,
           0.23921568627450995,
           0.3254901960784313,
           0.9058823529411765,
           0.7215686274509805,
           1.8745098039215686,
           1.6235294117647059,
           1.7568627450980392,
           1.2,
           0.7647058823529411,
           0.25098039215686274,
           0,
           0
          ],
          [
           0,
           0,
           0,
           0,
           0,
           0.19215686274509805,
           0.6196078431372549,
           0.5725490196078431,
           1.192156862745098,
           0.3803921568627451,
           0.5725490196078431,
           0.18823529411764706,
           0.9490196078431373,
           1.1803921568627451,
           1.772549019607843,
           1.3725490196078431,
           1.188235294117647,
           0.7019607843137255,
           0.6862745098039216,
           0.5411764705882354,
           0.47450980392156866,
           0.2196078431372549,
           0.15294117647058825,
           0,
           0,
           0
          ],
          [
           0,
           0,
           0,
           0,
           0,
           0.07058823529411765,
           0.8588235294117647,
           1.007843137254902,
           1.8470588235294119,
           1.3254901960784315,
           0.9882352941176471,
           1.0274509803921568,
           0.776470588235294,
           1.3529411764705883,
           1.7450980392156863,
           1.6588235294117646,
           0.9686274509803922,
           0.9450980392156862,
           0,
           0,
           0,
           0,
           0,
           0,
           0,
           0
          ],
          [
           0,
           0,
           0,
           0,
           0,
           0,
           0.3137254901960784,
           0.611764705882353,
           0.7333333333333334,
           1.058823529411765,
           0.41960784313725497,
           0.5058823529411764,
           0.03529411764705889,
           0.05882352941176472,
           0.203921568627451,
           0.6039215686274509,
           0.16862745098039217,
           0.6039215686274509,
           0,
           0,
           0,
           0,
           0,
           0,
           0,
           0
          ],
          [
           0,
           0,
           0,
           0,
           0,
           0,
           0,
           0.054901960784313725,
           0.00392156862745098,
           0.615686274509804,
           0.25098039215686274,
           -0.07843137254901966,
           -0.027450980392156876,
           -0.6392156862745098,
           -0.27450980392156865,
           0,
           0,
           0,
           0,
           0,
           0,
           0,
           0,
           0,
           0,
           0
          ],
          [
           0,
           0,
           0,
           0,
           0,
           0,
           0,
           0,
           0,
           0.5450980392156862,
           0.8549019607843138,
           0.34509803921568616,
           -0.019607843137254832,
           -0.8274509803921568,
           -1.2980392156862746,
           -0.6313725490196078,
           -0.4235294117647059,
           -0.00392156862745098,
           0,
           0,
           0,
           0,
           0,
           0,
           0,
           0
          ],
          [
           0,
           0,
           0,
           0,
           0,
           0,
           0,
           0,
           0,
           0.043137254901960784,
           0.7450980392156863,
           0.7176470588235295,
           0.07843137254901955,
           -0.3176470588235294,
           -1.6588235294117646,
           -1.4588235294117649,
           -1.0901960784313727,
           -0.4666666666666667,
           -0.09803921568627451,
           0,
           0,
           0,
           0,
           0,
           0,
           0
          ],
          [
           0,
           0,
           0,
           0,
           0,
           0,
           0,
           0,
           0,
           0,
           0.13725490196078433,
           0.9450980392156862,
           0.8431372549019607,
           0.8431372549019608,
           0.13725490196078427,
           -1.0901960784313727,
           -1.156862745098039,
           -1.0941176470588236,
           -0.5882352941176471,
           -0.10588235294117647,
           0,
           0,
           0,
           0,
           0,
           0
          ],
          [
           0,
           0,
           0,
           0,
           0,
           0,
           0,
           0,
           0,
           0,
           0,
           0.3176470588235294,
           0.9411764705882353,
           1.2470588235294118,
           1.5686274509803921,
           0.40784313725490207,
           -0.2666666666666666,
           -1.2549019607843137,
           -0.8941176470588236,
           -0.7333333333333333,
           0,
           0,
           0,
           0,
           0,
           0
          ],
          [
           0,
           0,
           0,
           0,
           0,
           0,
           0,
           0,
           0,
           0,
           0,
           0,
           0.17647058823529413,
           0.7294117647058823,
           1.1686274509803922,
           0.7450980392156864,
           0.5882352941176472,
           -0.8549019607843136,
           -0.6549019607843137,
           -0.8705882352941177,
           -0.25098039215686274,
           0,
           0,
           0,
           0,
           0
          ],
          [
           0,
           0,
           0,
           0,
           0,
           0,
           0,
           0,
           0,
           0,
           0,
           0,
           -0.1803921568627451,
           -0.44705882352941173,
           -0.5333333333333333,
           -0.4509803921568627,
           -0.3529411764705882,
           -0.08235294117647052,
           -0.00784313725490196,
           -0.07843137254901966,
           -0.00784313725490196,
           0,
           0,
           0,
           0,
           0
          ],
          [
           0,
           0,
           0,
           0,
           0,
           0,
           0,
           0,
           0,
           0,
           -0.15294117647058825,
           -0.5803921568627451,
           -1.0509803921568628,
           -1.5725490196078433,
           -1.8901960784313725,
           -1.007843137254902,
           -0.9803921568627451,
           0.24705882352941166,
           0.26274509803921575,
           0.26274509803921564,
           0.25098039215686274,
           0,
           0,
           0,
           0,
           0
          ],
          [
           0,
           0,
           0,
           0,
           0,
           0,
           0,
           0,
           -0.09411764705882353,
           -0.4470588235294118,
           -0.9607843137254902,
           -1.4392156862745098,
           -1.6784313725490196,
           -1.4745098039215687,
           -1.0862745098039217,
           -0.2784313725490196,
           0.41176470588235303,
           1.0156862745098039,
           0.6941176470588235,
           0.8117647058823529,
           0.00784313725490196,
           0,
           0,
           0,
           0,
           0
          ],
          [
           0,
           0,
           0,
           0,
           0,
           0,
           -0.09019607843137255,
           -0.25882352941176473,
           -0.9254901960784314,
           -1.2509803921568627,
           -1.6745098039215687,
           -1.4039215686274509,
           -0.9333333333333333,
           -0.19607843137254888,
           0.580392156862745,
           1.2000000000000002,
           1.6549019607843138,
           1.6980392156862747,
           0.9803921568627451,
           0.7137254901960784,
           0,
           0,
           0,
           0,
           0,
           0
          ],
          [
           0,
           0,
           0,
           0,
           -0.07058823529411765,
           -0.6705882352941176,
           -0.9294117647058823,
           -1.6627450980392156,
           -1.7568627450980392,
           -1.5372549019607844,
           -1.0235294117647058,
           -0.3176470588235294,
           0.5529411764705883,
           1.184313725490196,
           1.6705882352941177,
           1.745098039215686,
           1.2980392156862746,
           0.788235294117647,
           0.3058823529411765,
           0,
           0,
           0,
           0,
           0,
           0,
           0
          ],
          [
           0,
           0,
           -0.21568627450980393,
           -0.6745098039215687,
           -1.1019607843137256,
           -1.6666666666666667,
           -1.788235294117647,
           -1.7254901960784315,
           -1.0588235294117647,
           -0.6980392156862746,
           0.31372549019607854,
           0.984313725490196,
           1.4627450980392158,
           1.7254901960784312,
           1.3098039215686275,
           0.7843137254901961,
           0.3176470588235294,
           0.00784313725490196,
           0,
           0,
           0,
           0,
           0,
           0,
           0,
           0
          ],
          [
           0,
           0,
           -0.5333333333333333,
           -0.9921568627450981,
           -1.4549019607843139,
           -1.3137254901960786,
           -0.8941176470588237,
           0.14117647058823513,
           0.5019607843137254,
           1.3921568627450982,
           1.4666666666666668,
           1.6941176470588235,
           1.3058823529411765,
           0.7999999999999999,
           0.3137254901960784,
           0.03529411764705882,
           0,
           0,
           0,
           0,
           0,
           0,
           0,
           0,
           0,
           0
          ],
          [
           0,
           0,
           0.21568627450980393,
           0.6745098039215687,
           1.1019607843137256,
           1.6666666666666667,
           1.8784313725490196,
           1.9843137254901961,
           1.9843137254901961,
           1.9490196078431374,
           1.5137254901960784,
           1,
           0.5215686274509804,
           0.043137254901960784,
           0,
           0,
           0,
           0,
           0,
           0,
           0,
           0,
           0,
           0,
           0,
           0
          ],
          [
           0,
           0,
           0.5333333333333333,
           0.9921568627450981,
           1.5254901960784313,
           1.9843137254901961,
           1.823529411764706,
           1.5215686274509803,
           1.3490196078431373,
           0.592156862745098,
           0.5176470588235295,
           0.06274509803921569,
           0,
           0,
           0,
           0,
           0,
           0,
           0,
           0,
           0,
           0,
           0,
           0,
           0,
           0
          ],
          [
           0,
           0,
           0,
           0,
           0,
           0,
           0,
           0,
           0,
           0,
           0,
           0,
           0,
           0,
           0,
           0,
           0,
           0,
           0,
           0,
           0,
           0,
           0,
           0,
           0,
           0
          ]
         ]
        },
        {
         "coloraxis": "coloraxis",
         "hovertemplate": "x: %{x}<br>y: %{y}<br>color: %{z}<extra></extra>",
         "name": "2",
         "type": "heatmap",
         "xaxis": "x",
         "yaxis": "y",
         "z": [
          [
           0,
           0,
           0,
           0,
           0,
           0,
           0,
           0,
           0,
           0,
           0,
           0,
           0,
           0,
           0,
           0,
           0,
           0,
           0,
           0,
           0,
           0,
           0,
           0,
           0,
           0
          ],
          [
           0,
           0,
           0,
           0,
           0,
           0,
           0,
           0,
           0,
           0,
           0,
           0,
           0,
           0,
           0,
           0,
           0,
           0,
           0,
           0,
           0,
           0,
           0,
           0,
           0,
           0
          ],
          [
           0,
           0,
           0,
           0,
           0,
           0,
           0,
           0,
           0,
           0,
           0,
           0,
           0,
           0,
           0,
           0,
           0,
           0,
           0,
           0,
           0,
           0,
           0,
           0,
           0,
           0
          ],
          [
           0,
           0,
           0,
           0,
           0,
           0,
           0,
           0,
           0,
           0,
           -0.011764705882352941,
           -0.07058823529411765,
           -0.058823529411764705,
           0,
           -0.42352941176470593,
           -0.4627450980392157,
           -0.19215686274509802,
           0.43137254901960786,
           0.03529411764705881,
           -0.8980392156862745,
           -0.3176470588235294,
           0.5019607843137255,
           0.9686274509803922,
           0.4980392156862745,
           0,
           0
          ],
          [
           0,
           0,
           0,
           0,
           0,
           0,
           -0.11764705882352941,
           -0.1411764705882353,
           -0.25098039215686274,
           -0.46274509803921565,
           -0.3098039215686274,
           -0.45882352941176474,
           -0.38431372549019616,
           0,
           -0.42352941176470593,
           -0.4627450980392157,
           -0.08235294117647052,
           0.7490196078431373,
           -0.0745098039215687,
           -1.172549019607843,
           -0.09019607843137245,
           1.2,
           1.7333333333333334,
           0.7490196078431373,
           0,
           0
          ],
          [
           0,
           0,
           0,
           0,
           0,
           -0.19215686274509805,
           -1.0509803921568628,
           -0.9411764705882353,
           -0.30980392156862746,
           -0.4627450980392156,
           -0.30980392156862746,
           -0.45882352941176474,
           -0.38431372549019616,
           0,
           -0.42352941176470593,
           -0.45490196078431366,
           0.5450980392156863,
           1.411764705882353,
           -0.031372549019607954,
           -1.0705882352941174,
           0.07843137254901972,
           1.4196078431372547,
           1.8862745098039215,
           0.7490196078431373,
           0,
           0
          ],
          [
           0,
           0,
           0,
           0,
           0,
           -0.2627450980392157,
           -1.9098039215686273,
           -1.8627450980392157,
           -0.4431372549019609,
           -0.4627450980392156,
           -0.29803921568627445,
           -0.3882352941176471,
           -0.1098039215686275,
           0.2784313725490196,
           -0.19215686274509802,
           -0.22352941176470575,
           1.7058823529411766,
           1.9254901960784312,
           -0.06666666666666676,
           -0.17254901960784302,
           0.39607843137254906,
           0.9176470588235294,
           0.9176470588235294,
           0.25098039215686274,
           0,
           0
          ],
          [
           0,
           0,
           0,
           0,
           0,
           -0.2627450980392157,
           -2.105882352941176,
           -2.3333333333333335,
           -0.2980392156862746,
           -0.3803921568627451,
           -0.5725490196078431,
           0.18823529411764706,
           1.1647058823529413,
           1.0823529411764707,
           -0.3176470588235294,
           -0.8274509803921567,
           1.7647058823529413,
           2.2117647058823526,
           0.04313725490196074,
           0.10196078431372552,
           0.16862745098039217,
           0.2196078431372549,
           0.15294117647058825,
           0,
           0,
           0
          ],
          [
           0,
           0,
           0,
           0,
           0,
           -0.07058823529411765,
           -1.172549019607843,
           -1.5882352941176472,
           -0.24313725490196086,
           -0.9294117647058823,
           -1.5607843137254902,
           0.43921568627450974,
           2.1568627450980395,
           1.435294117647059,
           -0.3176470588235294,
           -0.8352941176470587,
           1.1372549019607843,
           1.549019607843137,
           0,
           0,
           0,
           0,
           0,
           0,
           0,
           0
          ],
          [
           0,
           0,
           0,
           0,
           0,
           0,
           -0.3137254901960784,
           -0.6666666666666667,
           -0.10980392156862746,
           -1.4745098039215685,
           -2.552941176470588,
           0.23921568627450962,
           2.9254901960784316,
           1.9019607843137256,
           -0.11764705882352941,
           -0.6039215686274509,
           0.16862745098039217,
           0.6039215686274509,
           0,
           0,
           0,
           0,
           0,
           0,
           0,
           0
          ],
          [
           0,
           0,
           0,
           0,
           0,
           0,
           0,
           -0.054901960784313725,
           -0.00392156862745098,
           -1.1372549019607843,
           -2.7254901960784315,
           -0.8980392156862748,
           2.447058823529412,
           2.0901960784313727,
           0.2823529411764706,
           0,
           0,
           0,
           0,
           0,
           0,
           0,
           0,
           0,
           0,
           0
          ],
          [
           0,
           0,
           0,
           0,
           0,
           0,
           0,
           0,
           0,
           -0.588235294117647,
           -1.8745098039215686,
           -2.0941176470588236,
           0.7098039215686276,
           2.054901960784314,
           0.7411764705882351,
           0.6235294117647059,
           0.4235294117647059,
           0.00392156862745098,
           0,
           0,
           0,
           0,
           0,
           0,
           0,
           0
          ],
          [
           0,
           0,
           0,
           0,
           0,
           0,
           0,
           0,
           0,
           -0.043137254901960784,
           -0.8823529411764706,
           -2.211764705882353,
           -1.2156862745098038,
           0.6352941176470588,
           0.6823529411764704,
           1.1490196078431372,
           1.3176470588235294,
           0.47058823529411764,
           0.09803921568627451,
           0,
           0,
           0,
           0,
           0,
           0,
           0
          ],
          [
           0,
           0,
           0,
           0,
           0,
           0,
           0,
           0,
           0,
           0,
           -0.13725490196078433,
           -1.2627450980392156,
           -1.8627450980392157,
           -1.0862745098039217,
           -0.40784313725490207,
           0.8862745098039215,
           1.72156862745098,
           1.3568627450980393,
           0.6862745098039216,
           0.10588235294117647,
           0,
           0,
           0,
           0,
           0,
           0
          ],
          [
           0,
           0,
           0,
           0,
           0,
           0,
           0,
           0,
           0,
           0,
           0,
           -0.3176470588235294,
           -1.1176470588235294,
           -1.4666666666666666,
           -1.231372549019608,
           -0.6627450980392158,
           0.6705882352941175,
           1.607843137254902,
           1.6784313725490196,
           0.8392156862745097,
           0,
           0,
           0,
           0,
           0,
           0
          ],
          [
           0,
           0,
           0,
           0,
           0,
           0,
           0,
           0,
           0,
           0,
           0,
           0,
           -0.17647058823529413,
           -0.792156862745098,
           -1.1803921568627451,
           -2.1647058823529415,
           -1.215686274509804,
           1.1411764705882352,
           2.3215686274509806,
           1.8156862745098037,
           0.25098039215686274,
           0,
           0,
           0,
           0,
           0
          ],
          [
           0,
           0,
           0,
           0,
           0,
           0,
           0,
           0,
           0,
           0,
           0,
           0,
           -0.1803921568627451,
           -0.5725490196078431,
           -0.9019607843137255,
           -2.384313725490196,
           -1.8941176470588235,
           0.43529411764705883,
           2.7176470588235295,
           2.5215686274509803,
           0.2588235294117647,
           0,
           0,
           0,
           0,
           0
          ],
          [
           0,
           0,
           0,
           0,
           0,
           0,
           0,
           0,
           0,
           0,
           -0.15294117647058825,
           -0.5803921568627451,
           -0.9254901960784314,
           -0.9215686274509803,
           -0.6313725490196078,
           -1.4588235294117649,
           -1.2549019607843137,
           0.45882352941176474,
           2.7058823529411766,
           2.5019607843137255,
           0.2588235294117647,
           0,
           0,
           0,
           0,
           0
          ],
          [
           0,
           0,
           0,
           0,
           0,
           0,
           0,
           0,
           -0.09411764705882353,
           -0.4470588235294118,
           -0.9254901960784314,
           -1.1254901960784314,
           -1.0509803921568628,
           -0.9215686274509803,
           -0.6313725490196078,
           -0.2784313725490196,
           0.42352941176470593,
           1.2470588235294118,
           2.2705882352941176,
           1.5254901960784313,
           0.00784313725490196,
           0,
           0,
           0,
           0,
           0
          ],
          [
           0,
           0,
           0,
           0,
           0,
           0,
           -0.09019607843137255,
           -0.25882352941176473,
           -0.8392156862745098,
           -1.1803921568627451,
           -1.0823529411764707,
           -1.1254901960784314,
           -0.8705882352941177,
           -0.196078431372549,
           0.5803921568627451,
           0.9725490196078432,
           1.0156862745098039,
           1.0745098039215686,
           1.2862745098039214,
           0.7137254901960784,
           0,
           0,
           0,
           0,
           0,
           0
          ],
          [
           0,
           0,
           0,
           0,
           -0.07058823529411765,
           -0.6705882352941176,
           -0.8784313725490196,
           -0.5803921568627453,
           -0.9725490196078432,
           -1.1803921568627451,
           -0.9294117647058824,
           -0.3176470588235294,
           0.5529411764705883,
           0.9450980392156862,
           0.9882352941176471,
           1.0078431372549022,
           1.003921568627451,
           0.796078431372549,
           0.3058823529411765,
           0,
           0,
           0,
           0,
           0,
           0,
           0
          ],
          [
           0,
           0,
           -0.21568627450980393,
           -0.6745098039215687,
           -0.7411764705882352,
           -0.988235294117647,
           -0.9843137254901961,
           -0.5803921568627453,
           -0.8784313725490197,
           -0.6980392156862746,
           0.3137254901960784,
           1.1411764705882355,
           1.2000000000000002,
           0.988235294117647,
           0.9882352941176471,
           0.803921568627451,
           0.3176470588235294,
           0.00784313725490196,
           0,
           0,
           0,
           0,
           0,
           0,
           0,
           0
          ],
          [
           0,
           0,
           -0.7490196078431373,
           -1.6666666666666667,
           -1.2,
           -0.988235294117647,
           -0.7333333333333334,
           0.14117647058823524,
           0.180392156862745,
           0.5019607843137255,
           0.9882352941176471,
           1.2039215686274511,
           1.2000000000000002,
           0.7725490196078431,
           0.3137254901960784,
           0.03529411764705882,
           0,
           0,
           0,
           0,
           0,
           0,
           0,
           0,
           0,
           0
          ],
          [
           0,
           0,
           -0.7490196078431373,
           -1.6666666666666667,
           -1.1294117647058823,
           -0.3176470588235294,
           0.05490196078431364,
           0.4627450980392157,
           0.3137254901960784,
           0.5019607843137255,
           0.9882352941176471,
           0.9764705882352942,
           0.5215686274509804,
           0.043137254901960784,
           0,
           0,
           0,
           0,
           0,
           0,
           0,
           0,
           0,
           0,
           0,
           0
          ],
          [
           0,
           0,
           -0.5333333333333333,
           -0.9921568627450981,
           -0.45882352941176474,
           0,
           0.16078431372549018,
           0.4627450980392157,
           0.3137254901960784,
           0.4666666666666667,
           0.5176470588235295,
           0.06274509803921569,
           0,
           0,
           0,
           0,
           0,
           0,
           0,
           0,
           0,
           0,
           0,
           0,
           0,
           0
          ],
          [
           0,
           0,
           0,
           0,
           0,
           0,
           0,
           0,
           0,
           0,
           0,
           0,
           0,
           0,
           0,
           0,
           0,
           0,
           0,
           0,
           0,
           0,
           0,
           0,
           0,
           0
          ]
         ]
        },
        {
         "coloraxis": "coloraxis",
         "hovertemplate": "x: %{x}<br>y: %{y}<br>color: %{z}<extra></extra>",
         "name": "3",
         "type": "heatmap",
         "xaxis": "x2",
         "yaxis": "y2",
         "z": [
          [
           0,
           0,
           0,
           0,
           0,
           0,
           0,
           0,
           0,
           0,
           0,
           0,
           0,
           0,
           0,
           0,
           0,
           0,
           0,
           0,
           0,
           0,
           0,
           0,
           0,
           0
          ],
          [
           0,
           0,
           0,
           0,
           0,
           0,
           0,
           0,
           0,
           0,
           0,
           0,
           0,
           0,
           0,
           0,
           0,
           0,
           0,
           0,
           0,
           0,
           0,
           0,
           0,
           0
          ],
          [
           0,
           0,
           0,
           0,
           0,
           0,
           0,
           0,
           0,
           0,
           0,
           0,
           0,
           0,
           0,
           0,
           0,
           0,
           0,
           0,
           0,
           0,
           0,
           0,
           0,
           0
          ],
          [
           0,
           0,
           0,
           0,
           0,
           0,
           0,
           0,
           0,
           0,
           -0.011764705882352941,
           -0.07058823529411765,
           -0.08235294117647059,
           -0.1411764705882353,
           -0.5647058823529412,
           -0.6039215686274509,
           -1.1803921568627451,
           -0.6352941176470588,
           -1.3372549019607844,
           -1.1019607843137256,
           -1.619607843137255,
           -1.4980392156862745,
           -0.9686274509803922,
           -0.4980392156862745,
           0,
           0
          ],
          [
           0,
           0,
           0,
           0,
           0,
           0,
           -0.11764705882352941,
           -0.1411764705882353,
           -0.4862745098039216,
           -0.7450980392156863,
           -1.0352941176470587,
           -1.5960784313725491,
           -1.6588235294117646,
           -1.9843137254901961,
           -1.9843137254901961,
           -1.9843137254901961,
           -1.8745098039215686,
           -1.6666666666666667,
           -1.8745098039215686,
           -1.6235294117647059,
           -1.7568627450980392,
           -1.2,
           -0.7647058823529411,
           -0.25098039215686274,
           0,
           0
          ],
          [
           0,
           0,
           0,
           0,
           0,
           -0.19215686274509805,
           -0.9333333333333333,
           -1.184313725490196,
           -1.9254901960784314,
           -1.9843137254901961,
           -1.9725490196078432,
           -1.9137254901960785,
           -1.9019607843137254,
           -1.843137254901961,
           -1.419607843137255,
           -1.3725490196078431,
           -0.1764705882352941,
           -0.6705882352941177,
           0.6509803921568629,
           0.5607843137254903,
           1.1450980392156862,
           1.2784313725490195,
           0.8156862745098039,
           0.4980392156862745,
           0,
           0
          ],
          [
           0,
           0,
           0,
           0,
           0,
           -0.07058823529411765,
           -0.7411764705882352,
           -0.9215686274509804,
           -1.3647058823529412,
           -1.2392156862745098,
           -0.9490196078431374,
           -0.388235294117647,
           -0.10980392156862762,
           0.2784313725490196,
           0.23921568627450995,
           0.3254901960784313,
           0.9058823529411765,
           0.7215686274509805,
           1.8745098039215686,
           1.6235294117647059,
           1.7568627450980392,
           1.2,
           0.7647058823529411,
           0.25098039215686274,
           0,
           0
          ],
          [
           0,
           0,
           0,
           0,
           0,
           0.19215686274509805,
           0.6196078431372549,
           0.5725490196078431,
           1.192156862745098,
           0.3803921568627451,
           0.5725490196078431,
           0.18823529411764706,
           0.9490196078431373,
           1.1803921568627451,
           1.772549019607843,
           1.3725490196078431,
           1.188235294117647,
           0.7019607843137255,
           0.6862745098039216,
           0.5411764705882354,
           0.47450980392156866,
           0.2196078431372549,
           0.15294117647058825,
           0,
           0,
           0
          ],
          [
           0,
           0,
           0,
           0,
           0,
           0.07058823529411765,
           0.8588235294117647,
           1.007843137254902,
           1.8470588235294119,
           1.3254901960784315,
           0.9882352941176471,
           1.0274509803921568,
           0.776470588235294,
           1.3529411764705883,
           1.7450980392156863,
           1.6588235294117646,
           0.9686274509803922,
           0.9450980392156862,
           0,
           0,
           0,
           0,
           0,
           0,
           0,
           0
          ],
          [
           0,
           0,
           0,
           0,
           0,
           0,
           0.3137254901960784,
           0.611764705882353,
           0.7333333333333334,
           1.058823529411765,
           0.41960784313725497,
           0.5058823529411764,
           0.03529411764705889,
           0.05882352941176472,
           0.203921568627451,
           0.6039215686274509,
           0.16862745098039217,
           0.6039215686274509,
           0,
           0,
           0,
           0,
           0,
           0,
           0,
           0
          ],
          [
           0,
           0,
           0,
           0,
           0,
           0,
           0,
           0.054901960784313725,
           0.00392156862745098,
           0.615686274509804,
           0.25098039215686274,
           -0.07843137254901966,
           -0.027450980392156876,
           -0.6392156862745098,
           -0.27450980392156865,
           0,
           0,
           0,
           0,
           0,
           0,
           0,
           0,
           0,
           0,
           0
          ],
          [
           0,
           0,
           0,
           0,
           0,
           0,
           0,
           0,
           0,
           0.5450980392156862,
           0.8549019607843138,
           0.34509803921568616,
           -0.019607843137254832,
           -0.8274509803921568,
           -1.2980392156862746,
           -0.6313725490196078,
           -0.4235294117647059,
           -0.00392156862745098,
           0,
           0,
           0,
           0,
           0,
           0,
           0,
           0
          ],
          [
           0,
           0,
           0,
           0,
           0,
           0,
           0,
           0,
           0,
           0.043137254901960784,
           0.7450980392156863,
           0.7176470588235295,
           0.07843137254901955,
           -0.3176470588235294,
           -1.6588235294117646,
           -1.4588235294117649,
           -1.0901960784313727,
           -0.4666666666666667,
           -0.09803921568627451,
           0,
           0,
           0,
           0,
           0,
           0,
           0
          ],
          [
           0,
           0,
           0,
           0,
           0,
           0,
           0,
           0,
           0,
           0,
           0.13725490196078433,
           0.9450980392156862,
           0.8431372549019607,
           0.8431372549019608,
           0.13725490196078427,
           -1.0901960784313727,
           -1.156862745098039,
           -1.0941176470588236,
           -0.5882352941176471,
           -0.10588235294117647,
           0,
           0,
           0,
           0,
           0,
           0
          ],
          [
           0,
           0,
           0,
           0,
           0,
           0,
           0,
           0,
           0,
           0,
           0,
           0.3176470588235294,
           0.9411764705882353,
           1.2470588235294118,
           1.5686274509803921,
           0.40784313725490207,
           -0.2666666666666666,
           -1.2549019607843137,
           -0.8941176470588236,
           -0.7333333333333333,
           0,
           0,
           0,
           0,
           0,
           0
          ],
          [
           0,
           0,
           0,
           0,
           0,
           0,
           0,
           0,
           0,
           0,
           0,
           0,
           0.17647058823529413,
           0.7294117647058823,
           1.1686274509803922,
           0.7450980392156864,
           0.5882352941176472,
           -0.8549019607843136,
           -0.6549019607843137,
           -0.8705882352941177,
           -0.25098039215686274,
           0,
           0,
           0,
           0,
           0
          ],
          [
           0,
           0,
           0,
           0,
           0,
           0,
           0,
           0,
           0,
           0,
           0,
           0,
           -0.1803921568627451,
           -0.44705882352941173,
           -0.5333333333333333,
           -0.4509803921568627,
           -0.3529411764705882,
           -0.08235294117647052,
           -0.00784313725490196,
           -0.07843137254901966,
           -0.00784313725490196,
           0,
           0,
           0,
           0,
           0
          ],
          [
           0,
           0,
           0,
           0,
           0,
           0,
           0,
           0,
           0,
           0,
           -0.15294117647058825,
           -0.5803921568627451,
           -1.0509803921568628,
           -1.5725490196078433,
           -1.8901960784313725,
           -1.007843137254902,
           -0.9803921568627451,
           0.24705882352941166,
           0.26274509803921575,
           0.26274509803921564,
           0.25098039215686274,
           0,
           0,
           0,
           0,
           0
          ],
          [
           0,
           0,
           0,
           0,
           0,
           0,
           0,
           0,
           -0.09411764705882353,
           -0.4470588235294118,
           -0.9607843137254902,
           -1.4392156862745098,
           -1.6784313725490196,
           -1.4745098039215687,
           -1.0862745098039217,
           -0.2784313725490196,
           0.41176470588235303,
           1.0156862745098039,
           0.6941176470588235,
           0.8117647058823529,
           0.00784313725490196,
           0,
           0,
           0,
           0,
           0
          ],
          [
           0,
           0,
           0,
           0,
           0,
           0,
           -0.09019607843137255,
           -0.25882352941176473,
           -0.9254901960784314,
           -1.2509803921568627,
           -1.6745098039215687,
           -1.4039215686274509,
           -0.9333333333333333,
           -0.19607843137254888,
           0.580392156862745,
           1.2000000000000002,
           1.6549019607843138,
           1.6980392156862747,
           0.9803921568627451,
           0.7137254901960784,
           0,
           0,
           0,
           0,
           0,
           0
          ],
          [
           0,
           0,
           0,
           0,
           -0.07058823529411765,
           -0.6705882352941176,
           -0.9294117647058823,
           -1.6627450980392156,
           -1.7568627450980392,
           -1.5372549019607844,
           -1.0235294117647058,
           -0.3176470588235294,
           0.5529411764705883,
           1.184313725490196,
           1.6705882352941177,
           1.745098039215686,
           1.2980392156862746,
           0.788235294117647,
           0.3058823529411765,
           0,
           0,
           0,
           0,
           0,
           0,
           0
          ],
          [
           0,
           0,
           -0.21568627450980393,
           -0.6745098039215687,
           -1.1019607843137256,
           -1.6666666666666667,
           -1.788235294117647,
           -1.7254901960784315,
           -1.0588235294117647,
           -0.6980392156862746,
           0.31372549019607854,
           0.984313725490196,
           1.4627450980392158,
           1.7254901960784312,
           1.3098039215686275,
           0.7843137254901961,
           0.3176470588235294,
           0.00784313725490196,
           0,
           0,
           0,
           0,
           0,
           0,
           0,
           0
          ],
          [
           0,
           0,
           -0.5333333333333333,
           -0.9921568627450981,
           -1.4549019607843139,
           -1.3137254901960786,
           -0.8941176470588237,
           0.14117647058823513,
           0.5019607843137254,
           1.3921568627450982,
           1.4666666666666668,
           1.6941176470588235,
           1.3058823529411765,
           0.7999999999999999,
           0.3137254901960784,
           0.03529411764705882,
           0,
           0,
           0,
           0,
           0,
           0,
           0,
           0,
           0,
           0
          ],
          [
           0,
           0,
           0.21568627450980393,
           0.6745098039215687,
           1.1019607843137256,
           1.6666666666666667,
           1.8784313725490196,
           1.9843137254901961,
           1.9843137254901961,
           1.9490196078431374,
           1.5137254901960784,
           1,
           0.5215686274509804,
           0.043137254901960784,
           0,
           0,
           0,
           0,
           0,
           0,
           0,
           0,
           0,
           0,
           0,
           0
          ],
          [
           0,
           0,
           0.5333333333333333,
           0.9921568627450981,
           1.5254901960784313,
           1.9843137254901961,
           1.823529411764706,
           1.5215686274509803,
           1.3490196078431373,
           0.592156862745098,
           0.5176470588235295,
           0.06274509803921569,
           0,
           0,
           0,
           0,
           0,
           0,
           0,
           0,
           0,
           0,
           0,
           0,
           0,
           0
          ],
          [
           0,
           0,
           0,
           0,
           0,
           0,
           0,
           0,
           0,
           0,
           0,
           0,
           0,
           0,
           0,
           0,
           0,
           0,
           0,
           0,
           0,
           0,
           0,
           0,
           0,
           0
          ]
         ]
        }
       ],
       "layout": {
        "annotations": [
         {
          "font": {},
          "showarrow": false,
          "text": "Custom Correlation 0",
          "x": 0.245,
          "xanchor": "center",
          "xref": "paper",
          "y": 0.46499999999999997,
          "yanchor": "bottom",
          "yref": "paper"
         },
         {
          "font": {},
          "showarrow": false,
          "text": "Custom Correlation 1",
          "x": 0.755,
          "xanchor": "center",
          "xref": "paper",
          "y": 0.46499999999999997,
          "yanchor": "bottom",
          "yref": "paper"
         },
         {
          "font": {},
          "showarrow": false,
          "text": "Scipy Correlation 0",
          "x": 0.245,
          "xanchor": "center",
          "xref": "paper",
          "y": 0.9999999999999999,
          "yanchor": "bottom",
          "yref": "paper"
         },
         {
          "font": {},
          "showarrow": false,
          "text": "Scipy Correlation 1",
          "x": 0.755,
          "xanchor": "center",
          "xref": "paper",
          "y": 0.9999999999999999,
          "yanchor": "bottom",
          "yref": "paper"
         }
        ],
        "coloraxis": {
         "colorscale": [
          [
           0,
           "#0d0887"
          ],
          [
           0.1111111111111111,
           "#46039f"
          ],
          [
           0.2222222222222222,
           "#7201a8"
          ],
          [
           0.3333333333333333,
           "#9c179e"
          ],
          [
           0.4444444444444444,
           "#bd3786"
          ],
          [
           0.5555555555555556,
           "#d8576b"
          ],
          [
           0.6666666666666666,
           "#ed7953"
          ],
          [
           0.7777777777777778,
           "#fb9f3a"
          ],
          [
           0.8888888888888888,
           "#fdca26"
          ],
          [
           1,
           "#f0f921"
          ]
         ]
        },
        "margin": {
         "t": 60
        },
        "template": {
         "data": {
          "bar": [
           {
            "error_x": {
             "color": "#2a3f5f"
            },
            "error_y": {
             "color": "#2a3f5f"
            },
            "marker": {
             "line": {
              "color": "#E5ECF6",
              "width": 0.5
             },
             "pattern": {
              "fillmode": "overlay",
              "size": 10,
              "solidity": 0.2
             }
            },
            "type": "bar"
           }
          ],
          "barpolar": [
           {
            "marker": {
             "line": {
              "color": "#E5ECF6",
              "width": 0.5
             },
             "pattern": {
              "fillmode": "overlay",
              "size": 10,
              "solidity": 0.2
             }
            },
            "type": "barpolar"
           }
          ],
          "carpet": [
           {
            "aaxis": {
             "endlinecolor": "#2a3f5f",
             "gridcolor": "white",
             "linecolor": "white",
             "minorgridcolor": "white",
             "startlinecolor": "#2a3f5f"
            },
            "baxis": {
             "endlinecolor": "#2a3f5f",
             "gridcolor": "white",
             "linecolor": "white",
             "minorgridcolor": "white",
             "startlinecolor": "#2a3f5f"
            },
            "type": "carpet"
           }
          ],
          "choropleth": [
           {
            "colorbar": {
             "outlinewidth": 0,
             "ticks": ""
            },
            "type": "choropleth"
           }
          ],
          "contour": [
           {
            "colorbar": {
             "outlinewidth": 0,
             "ticks": ""
            },
            "colorscale": [
             [
              0,
              "#0d0887"
             ],
             [
              0.1111111111111111,
              "#46039f"
             ],
             [
              0.2222222222222222,
              "#7201a8"
             ],
             [
              0.3333333333333333,
              "#9c179e"
             ],
             [
              0.4444444444444444,
              "#bd3786"
             ],
             [
              0.5555555555555556,
              "#d8576b"
             ],
             [
              0.6666666666666666,
              "#ed7953"
             ],
             [
              0.7777777777777778,
              "#fb9f3a"
             ],
             [
              0.8888888888888888,
              "#fdca26"
             ],
             [
              1,
              "#f0f921"
             ]
            ],
            "type": "contour"
           }
          ],
          "contourcarpet": [
           {
            "colorbar": {
             "outlinewidth": 0,
             "ticks": ""
            },
            "type": "contourcarpet"
           }
          ],
          "heatmap": [
           {
            "colorbar": {
             "outlinewidth": 0,
             "ticks": ""
            },
            "colorscale": [
             [
              0,
              "#0d0887"
             ],
             [
              0.1111111111111111,
              "#46039f"
             ],
             [
              0.2222222222222222,
              "#7201a8"
             ],
             [
              0.3333333333333333,
              "#9c179e"
             ],
             [
              0.4444444444444444,
              "#bd3786"
             ],
             [
              0.5555555555555556,
              "#d8576b"
             ],
             [
              0.6666666666666666,
              "#ed7953"
             ],
             [
              0.7777777777777778,
              "#fb9f3a"
             ],
             [
              0.8888888888888888,
              "#fdca26"
             ],
             [
              1,
              "#f0f921"
             ]
            ],
            "type": "heatmap"
           }
          ],
          "heatmapgl": [
           {
            "colorbar": {
             "outlinewidth": 0,
             "ticks": ""
            },
            "colorscale": [
             [
              0,
              "#0d0887"
             ],
             [
              0.1111111111111111,
              "#46039f"
             ],
             [
              0.2222222222222222,
              "#7201a8"
             ],
             [
              0.3333333333333333,
              "#9c179e"
             ],
             [
              0.4444444444444444,
              "#bd3786"
             ],
             [
              0.5555555555555556,
              "#d8576b"
             ],
             [
              0.6666666666666666,
              "#ed7953"
             ],
             [
              0.7777777777777778,
              "#fb9f3a"
             ],
             [
              0.8888888888888888,
              "#fdca26"
             ],
             [
              1,
              "#f0f921"
             ]
            ],
            "type": "heatmapgl"
           }
          ],
          "histogram": [
           {
            "marker": {
             "pattern": {
              "fillmode": "overlay",
              "size": 10,
              "solidity": 0.2
             }
            },
            "type": "histogram"
           }
          ],
          "histogram2d": [
           {
            "colorbar": {
             "outlinewidth": 0,
             "ticks": ""
            },
            "colorscale": [
             [
              0,
              "#0d0887"
             ],
             [
              0.1111111111111111,
              "#46039f"
             ],
             [
              0.2222222222222222,
              "#7201a8"
             ],
             [
              0.3333333333333333,
              "#9c179e"
             ],
             [
              0.4444444444444444,
              "#bd3786"
             ],
             [
              0.5555555555555556,
              "#d8576b"
             ],
             [
              0.6666666666666666,
              "#ed7953"
             ],
             [
              0.7777777777777778,
              "#fb9f3a"
             ],
             [
              0.8888888888888888,
              "#fdca26"
             ],
             [
              1,
              "#f0f921"
             ]
            ],
            "type": "histogram2d"
           }
          ],
          "histogram2dcontour": [
           {
            "colorbar": {
             "outlinewidth": 0,
             "ticks": ""
            },
            "colorscale": [
             [
              0,
              "#0d0887"
             ],
             [
              0.1111111111111111,
              "#46039f"
             ],
             [
              0.2222222222222222,
              "#7201a8"
             ],
             [
              0.3333333333333333,
              "#9c179e"
             ],
             [
              0.4444444444444444,
              "#bd3786"
             ],
             [
              0.5555555555555556,
              "#d8576b"
             ],
             [
              0.6666666666666666,
              "#ed7953"
             ],
             [
              0.7777777777777778,
              "#fb9f3a"
             ],
             [
              0.8888888888888888,
              "#fdca26"
             ],
             [
              1,
              "#f0f921"
             ]
            ],
            "type": "histogram2dcontour"
           }
          ],
          "mesh3d": [
           {
            "colorbar": {
             "outlinewidth": 0,
             "ticks": ""
            },
            "type": "mesh3d"
           }
          ],
          "parcoords": [
           {
            "line": {
             "colorbar": {
              "outlinewidth": 0,
              "ticks": ""
             }
            },
            "type": "parcoords"
           }
          ],
          "pie": [
           {
            "automargin": true,
            "type": "pie"
           }
          ],
          "scatter": [
           {
            "fillpattern": {
             "fillmode": "overlay",
             "size": 10,
             "solidity": 0.2
            },
            "type": "scatter"
           }
          ],
          "scatter3d": [
           {
            "line": {
             "colorbar": {
              "outlinewidth": 0,
              "ticks": ""
             }
            },
            "marker": {
             "colorbar": {
              "outlinewidth": 0,
              "ticks": ""
             }
            },
            "type": "scatter3d"
           }
          ],
          "scattercarpet": [
           {
            "marker": {
             "colorbar": {
              "outlinewidth": 0,
              "ticks": ""
             }
            },
            "type": "scattercarpet"
           }
          ],
          "scattergeo": [
           {
            "marker": {
             "colorbar": {
              "outlinewidth": 0,
              "ticks": ""
             }
            },
            "type": "scattergeo"
           }
          ],
          "scattergl": [
           {
            "marker": {
             "colorbar": {
              "outlinewidth": 0,
              "ticks": ""
             }
            },
            "type": "scattergl"
           }
          ],
          "scattermapbox": [
           {
            "marker": {
             "colorbar": {
              "outlinewidth": 0,
              "ticks": ""
             }
            },
            "type": "scattermapbox"
           }
          ],
          "scatterpolar": [
           {
            "marker": {
             "colorbar": {
              "outlinewidth": 0,
              "ticks": ""
             }
            },
            "type": "scatterpolar"
           }
          ],
          "scatterpolargl": [
           {
            "marker": {
             "colorbar": {
              "outlinewidth": 0,
              "ticks": ""
             }
            },
            "type": "scatterpolargl"
           }
          ],
          "scatterternary": [
           {
            "marker": {
             "colorbar": {
              "outlinewidth": 0,
              "ticks": ""
             }
            },
            "type": "scatterternary"
           }
          ],
          "surface": [
           {
            "colorbar": {
             "outlinewidth": 0,
             "ticks": ""
            },
            "colorscale": [
             [
              0,
              "#0d0887"
             ],
             [
              0.1111111111111111,
              "#46039f"
             ],
             [
              0.2222222222222222,
              "#7201a8"
             ],
             [
              0.3333333333333333,
              "#9c179e"
             ],
             [
              0.4444444444444444,
              "#bd3786"
             ],
             [
              0.5555555555555556,
              "#d8576b"
             ],
             [
              0.6666666666666666,
              "#ed7953"
             ],
             [
              0.7777777777777778,
              "#fb9f3a"
             ],
             [
              0.8888888888888888,
              "#fdca26"
             ],
             [
              1,
              "#f0f921"
             ]
            ],
            "type": "surface"
           }
          ],
          "table": [
           {
            "cells": {
             "fill": {
              "color": "#EBF0F8"
             },
             "line": {
              "color": "white"
             }
            },
            "header": {
             "fill": {
              "color": "#C8D4E3"
             },
             "line": {
              "color": "white"
             }
            },
            "type": "table"
           }
          ]
         },
         "layout": {
          "annotationdefaults": {
           "arrowcolor": "#2a3f5f",
           "arrowhead": 0,
           "arrowwidth": 1
          },
          "autotypenumbers": "strict",
          "coloraxis": {
           "colorbar": {
            "outlinewidth": 0,
            "ticks": ""
           }
          },
          "colorscale": {
           "diverging": [
            [
             0,
             "#8e0152"
            ],
            [
             0.1,
             "#c51b7d"
            ],
            [
             0.2,
             "#de77ae"
            ],
            [
             0.3,
             "#f1b6da"
            ],
            [
             0.4,
             "#fde0ef"
            ],
            [
             0.5,
             "#f7f7f7"
            ],
            [
             0.6,
             "#e6f5d0"
            ],
            [
             0.7,
             "#b8e186"
            ],
            [
             0.8,
             "#7fbc41"
            ],
            [
             0.9,
             "#4d9221"
            ],
            [
             1,
             "#276419"
            ]
           ],
           "sequential": [
            [
             0,
             "#0d0887"
            ],
            [
             0.1111111111111111,
             "#46039f"
            ],
            [
             0.2222222222222222,
             "#7201a8"
            ],
            [
             0.3333333333333333,
             "#9c179e"
            ],
            [
             0.4444444444444444,
             "#bd3786"
            ],
            [
             0.5555555555555556,
             "#d8576b"
            ],
            [
             0.6666666666666666,
             "#ed7953"
            ],
            [
             0.7777777777777778,
             "#fb9f3a"
            ],
            [
             0.8888888888888888,
             "#fdca26"
            ],
            [
             1,
             "#f0f921"
            ]
           ],
           "sequentialminus": [
            [
             0,
             "#0d0887"
            ],
            [
             0.1111111111111111,
             "#46039f"
            ],
            [
             0.2222222222222222,
             "#7201a8"
            ],
            [
             0.3333333333333333,
             "#9c179e"
            ],
            [
             0.4444444444444444,
             "#bd3786"
            ],
            [
             0.5555555555555556,
             "#d8576b"
            ],
            [
             0.6666666666666666,
             "#ed7953"
            ],
            [
             0.7777777777777778,
             "#fb9f3a"
            ],
            [
             0.8888888888888888,
             "#fdca26"
            ],
            [
             1,
             "#f0f921"
            ]
           ]
          },
          "colorway": [
           "#636efa",
           "#EF553B",
           "#00cc96",
           "#ab63fa",
           "#FFA15A",
           "#19d3f3",
           "#FF6692",
           "#B6E880",
           "#FF97FF",
           "#FECB52"
          ],
          "font": {
           "color": "#2a3f5f"
          },
          "geo": {
           "bgcolor": "white",
           "lakecolor": "white",
           "landcolor": "#E5ECF6",
           "showlakes": true,
           "showland": true,
           "subunitcolor": "white"
          },
          "hoverlabel": {
           "align": "left"
          },
          "hovermode": "closest",
          "mapbox": {
           "style": "light"
          },
          "paper_bgcolor": "white",
          "plot_bgcolor": "#E5ECF6",
          "polar": {
           "angularaxis": {
            "gridcolor": "white",
            "linecolor": "white",
            "ticks": ""
           },
           "bgcolor": "#E5ECF6",
           "radialaxis": {
            "gridcolor": "white",
            "linecolor": "white",
            "ticks": ""
           }
          },
          "scene": {
           "xaxis": {
            "backgroundcolor": "#E5ECF6",
            "gridcolor": "white",
            "gridwidth": 2,
            "linecolor": "white",
            "showbackground": true,
            "ticks": "",
            "zerolinecolor": "white"
           },
           "yaxis": {
            "backgroundcolor": "#E5ECF6",
            "gridcolor": "white",
            "gridwidth": 2,
            "linecolor": "white",
            "showbackground": true,
            "ticks": "",
            "zerolinecolor": "white"
           },
           "zaxis": {
            "backgroundcolor": "#E5ECF6",
            "gridcolor": "white",
            "gridwidth": 2,
            "linecolor": "white",
            "showbackground": true,
            "ticks": "",
            "zerolinecolor": "white"
           }
          },
          "shapedefaults": {
           "line": {
            "color": "#2a3f5f"
           }
          },
          "ternary": {
           "aaxis": {
            "gridcolor": "white",
            "linecolor": "white",
            "ticks": ""
           },
           "baxis": {
            "gridcolor": "white",
            "linecolor": "white",
            "ticks": ""
           },
           "bgcolor": "#E5ECF6",
           "caxis": {
            "gridcolor": "white",
            "linecolor": "white",
            "ticks": ""
           }
          },
          "title": {
           "x": 0.05
          },
          "xaxis": {
           "automargin": true,
           "gridcolor": "white",
           "linecolor": "white",
           "ticks": "",
           "title": {
            "standoff": 15
           },
           "zerolinecolor": "white",
           "zerolinewidth": 2
          },
          "yaxis": {
           "automargin": true,
           "gridcolor": "white",
           "linecolor": "white",
           "ticks": "",
           "title": {
            "standoff": 15
           },
           "zerolinecolor": "white",
           "zerolinewidth": 2
          }
         }
        },
        "xaxis": {
         "anchor": "y",
         "constrain": "domain",
         "domain": [
          0,
          0.49
         ],
         "scaleanchor": "y"
        },
        "xaxis2": {
         "anchor": "y2",
         "domain": [
          0.51,
          1
         ],
         "matches": "x"
        },
        "xaxis3": {
         "anchor": "y3",
         "domain": [
          0,
          0.49
         ],
         "matches": "x",
         "showticklabels": false
        },
        "xaxis4": {
         "anchor": "y4",
         "domain": [
          0.51,
          1
         ],
         "matches": "x",
         "showticklabels": false
        },
        "yaxis": {
         "anchor": "x",
         "autorange": "reversed",
         "constrain": "domain",
         "domain": [
          0,
          0.46499999999999997
         ]
        },
        "yaxis2": {
         "anchor": "x2",
         "domain": [
          0,
          0.46499999999999997
         ],
         "matches": "y",
         "showticklabels": false
        },
        "yaxis3": {
         "anchor": "x3",
         "domain": [
          0.5349999999999999,
          0.9999999999999999
         ],
         "matches": "y"
        },
        "yaxis4": {
         "anchor": "x4",
         "domain": [
          0.5349999999999999,
          0.9999999999999999
         ],
         "matches": "y",
         "showticklabels": false
        }
       }
      }
     },
     "metadata": {},
     "output_type": "display_data"
    }
   ],
   "source": [
    "custom_correlations = (input[correlation_indices] @ kernels_weights).reshape(nb_horizontal_correlations, nb_vertical_correlations, kernels.shape[0])\n",
    "scipy_correlations = np.stack([correlate2d(input.reshape(28, 28), kernels[k], mode=\"valid\") for k in range(kernels.shape[0])], axis=2)\n",
    "\n",
    "display(np.concatenate([custom_correlations, scipy_correlations], axis=2).shape)\n",
    "\n",
    "fig = px.imshow(\n",
    "    np.concatenate([custom_correlations, scipy_correlations], axis=2),\n",
    "    facet_col=2,\n",
    "    facet_col_wrap=2,\n",
    ")\n",
    "fig.layout.annotations[0]['text'] = \"Custom Correlation 0\"\n",
    "fig.layout.annotations[1]['text'] = \"Custom Correlation 1\"\n",
    "fig.layout.annotations[2]['text'] = \"Scipy Correlation 0\"\n",
    "fig.layout.annotations[3]['text'] = \"Scipy Correlation 1\"\n",
    "fig.show()"
   ]
  },
  {
   "cell_type": "markdown",
   "metadata": {},
   "source": [
    "## Multiple kernels and channels, single input image, cross correlation implementation\n",
    "Here we need to update the correlation indices because of the new depth dimension.  "
   ]
  },
  {
   "cell_type": "code",
   "execution_count": 14,
   "metadata": {},
   "outputs": [
    {
     "data": {
      "text/plain": [
       "(2, 5, 5, 3)"
      ]
     },
     "execution_count": 14,
     "metadata": {},
     "output_type": "execute_result"
    }
   ],
   "source": [
    "multi_channels_kernels = np.asarray(\n",
    "[\n",
    "    [\n",
    "        # First kernel\n",
    "        # First channel\n",
    "            [\n",
    "            [1, 0, -1, 0, 1], \n",
    "            [1, 0, -1, 0, 1],\n",
    "            [1, 0, -1, 0, 1],\n",
    "            [1, 0, -1, 0, 1],\n",
    "            [1, 0, -1, 0, 1],\n",
    "        ],\n",
    "        # Second channel\n",
    "        [\n",
    "            [1, 0, 1, 1, 1], \n",
    "            [1, 0, 1, 1, 1], \n",
    "            [1, 0, 1, 1, 1],\n",
    "            [1, 0, 1, 1, 1],\n",
    "            [1, 0, 1, 1, 1],\n",
    "        ],\n",
    "        # Third channel\n",
    "        [\n",
    "            [0, 0, 0, 0, 1],\n",
    "            [0, 0, 0, 1, 0],\n",
    "            [0, 0, 1, 0, 0],\n",
    "            [0, 1, 0, 0, 0],\n",
    "            [1, 0, 0, 0, 0],\n",
    "        ],\n",
    "    ],\n",
    "    [\n",
    "        # Second kernel\n",
    "        # First channel\n",
    "        [\n",
    "            [0.5, 0.5, 0.5, 0.5, 0.5], \n",
    "            [0.5, 0.5, 0.5, 0.5, 0.5], \n",
    "            [0.5, 0.5, 0.5, 0.5, 0.5], \n",
    "            [0.5, 0.5, 0.5, 0.5, 0.5],\n",
    "            [0.5, 0.5, 0.5, 0.5, 0.5],\n",
    "        ],\n",
    "        # Second channel\n",
    "        [\n",
    "            [1, 2, 3, 4, 5],\n",
    "            [1, 1, 1, 0, 0],\n",
    "            [0, 1, 1, 1, 0],\n",
    "            [0, 0, 1, 1, 1],\n",
    "            [0, 1, 0, 1, 1],\n",
    "        ],\n",
    "        # Thrid channel\n",
    "        [\n",
    "            [0, 0, 1, 0, 0],\n",
    "            [0, 0.5, 1, 0.5, 0],\n",
    "            [1, 1, 1, 1, 1],\n",
    "            [0, 0.5, 1, 0.5, 0],\n",
    "            [0, 0, 1, 0, 0],\n",
    "        ],\n",
    "    ]\n",
    "])\n",
    "# Above we have declared the kernels with a shape (nb_kernels, nb_channels, width, height) but the input are usually of the shape (nb_inputs, width, height, nb_channels)\n",
    "# To account for this we simply need to swap the width  and depth axes of the kernels\n",
    "multi_channels_kernels = multi_channels_kernels.swapaxes(1, 3)\n",
    "multi_channels_kernels.shape"
   ]
  },
  {
   "cell_type": "code",
   "execution_count": 15,
   "metadata": {},
   "outputs": [
    {
     "data": {
      "text/plain": [
       "(75, 2)"
      ]
     },
     "execution_count": 15,
     "metadata": {},
     "output_type": "execute_result"
    }
   ],
   "source": [
    "# There is most likely a simpler way of doing this...\n",
    "multi_channels_kernels_weights = multi_channels_kernels.reshape(2, -1).T\n",
    "multi_channels_kernels_weights.shape"
   ]
  },
  {
   "cell_type": "markdown",
   "metadata": {},
   "source": [
    "For testing I have chosen this mestirious red and purple eyes frog(however decided to add frogs to the dataset is a genious).  "
   ]
  },
  {
   "cell_type": "code",
   "execution_count": 16,
   "metadata": {},
   "outputs": [
    {
     "data": {
      "text/plain": [
       "(50000, 32, 32, 3)"
      ]
     },
     "metadata": {},
     "output_type": "display_data"
    },
    {
     "data": {
      "application/vnd.plotly.v1+json": {
       "config": {
        "plotlyServerURL": "https://plot.ly"
       },
       "data": [
        {
         "hovertemplate": "x: %{x}<br>y: %{y}<br>color: [%{z[0]}, %{z[1]}, %{z[2]}]<extra></extra>",
         "name": "0",
         "source": "data:image/png;base64,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",
         "type": "image",
         "xaxis": "x",
         "yaxis": "y"
        }
       ],
       "layout": {
        "margin": {
         "t": 60
        },
        "template": {
         "data": {
          "bar": [
           {
            "error_x": {
             "color": "#2a3f5f"
            },
            "error_y": {
             "color": "#2a3f5f"
            },
            "marker": {
             "line": {
              "color": "#E5ECF6",
              "width": 0.5
             },
             "pattern": {
              "fillmode": "overlay",
              "size": 10,
              "solidity": 0.2
             }
            },
            "type": "bar"
           }
          ],
          "barpolar": [
           {
            "marker": {
             "line": {
              "color": "#E5ECF6",
              "width": 0.5
             },
             "pattern": {
              "fillmode": "overlay",
              "size": 10,
              "solidity": 0.2
             }
            },
            "type": "barpolar"
           }
          ],
          "carpet": [
           {
            "aaxis": {
             "endlinecolor": "#2a3f5f",
             "gridcolor": "white",
             "linecolor": "white",
             "minorgridcolor": "white",
             "startlinecolor": "#2a3f5f"
            },
            "baxis": {
             "endlinecolor": "#2a3f5f",
             "gridcolor": "white",
             "linecolor": "white",
             "minorgridcolor": "white",
             "startlinecolor": "#2a3f5f"
            },
            "type": "carpet"
           }
          ],
          "choropleth": [
           {
            "colorbar": {
             "outlinewidth": 0,
             "ticks": ""
            },
            "type": "choropleth"
           }
          ],
          "contour": [
           {
            "colorbar": {
             "outlinewidth": 0,
             "ticks": ""
            },
            "colorscale": [
             [
              0,
              "#0d0887"
             ],
             [
              0.1111111111111111,
              "#46039f"
             ],
             [
              0.2222222222222222,
              "#7201a8"
             ],
             [
              0.3333333333333333,
              "#9c179e"
             ],
             [
              0.4444444444444444,
              "#bd3786"
             ],
             [
              0.5555555555555556,
              "#d8576b"
             ],
             [
              0.6666666666666666,
              "#ed7953"
             ],
             [
              0.7777777777777778,
              "#fb9f3a"
             ],
             [
              0.8888888888888888,
              "#fdca26"
             ],
             [
              1,
              "#f0f921"
             ]
            ],
            "type": "contour"
           }
          ],
          "contourcarpet": [
           {
            "colorbar": {
             "outlinewidth": 0,
             "ticks": ""
            },
            "type": "contourcarpet"
           }
          ],
          "heatmap": [
           {
            "colorbar": {
             "outlinewidth": 0,
             "ticks": ""
            },
            "colorscale": [
             [
              0,
              "#0d0887"
             ],
             [
              0.1111111111111111,
              "#46039f"
             ],
             [
              0.2222222222222222,
              "#7201a8"
             ],
             [
              0.3333333333333333,
              "#9c179e"
             ],
             [
              0.4444444444444444,
              "#bd3786"
             ],
             [
              0.5555555555555556,
              "#d8576b"
             ],
             [
              0.6666666666666666,
              "#ed7953"
             ],
             [
              0.7777777777777778,
              "#fb9f3a"
             ],
             [
              0.8888888888888888,
              "#fdca26"
             ],
             [
              1,
              "#f0f921"
             ]
            ],
            "type": "heatmap"
           }
          ],
          "heatmapgl": [
           {
            "colorbar": {
             "outlinewidth": 0,
             "ticks": ""
            },
            "colorscale": [
             [
              0,
              "#0d0887"
             ],
             [
              0.1111111111111111,
              "#46039f"
             ],
             [
              0.2222222222222222,
              "#7201a8"
             ],
             [
              0.3333333333333333,
              "#9c179e"
             ],
             [
              0.4444444444444444,
              "#bd3786"
             ],
             [
              0.5555555555555556,
              "#d8576b"
             ],
             [
              0.6666666666666666,
              "#ed7953"
             ],
             [
              0.7777777777777778,
              "#fb9f3a"
             ],
             [
              0.8888888888888888,
              "#fdca26"
             ],
             [
              1,
              "#f0f921"
             ]
            ],
            "type": "heatmapgl"
           }
          ],
          "histogram": [
           {
            "marker": {
             "pattern": {
              "fillmode": "overlay",
              "size": 10,
              "solidity": 0.2
             }
            },
            "type": "histogram"
           }
          ],
          "histogram2d": [
           {
            "colorbar": {
             "outlinewidth": 0,
             "ticks": ""
            },
            "colorscale": [
             [
              0,
              "#0d0887"
             ],
             [
              0.1111111111111111,
              "#46039f"
             ],
             [
              0.2222222222222222,
              "#7201a8"
             ],
             [
              0.3333333333333333,
              "#9c179e"
             ],
             [
              0.4444444444444444,
              "#bd3786"
             ],
             [
              0.5555555555555556,
              "#d8576b"
             ],
             [
              0.6666666666666666,
              "#ed7953"
             ],
             [
              0.7777777777777778,
              "#fb9f3a"
             ],
             [
              0.8888888888888888,
              "#fdca26"
             ],
             [
              1,
              "#f0f921"
             ]
            ],
            "type": "histogram2d"
           }
          ],
          "histogram2dcontour": [
           {
            "colorbar": {
             "outlinewidth": 0,
             "ticks": ""
            },
            "colorscale": [
             [
              0,
              "#0d0887"
             ],
             [
              0.1111111111111111,
              "#46039f"
             ],
             [
              0.2222222222222222,
              "#7201a8"
             ],
             [
              0.3333333333333333,
              "#9c179e"
             ],
             [
              0.4444444444444444,
              "#bd3786"
             ],
             [
              0.5555555555555556,
              "#d8576b"
             ],
             [
              0.6666666666666666,
              "#ed7953"
             ],
             [
              0.7777777777777778,
              "#fb9f3a"
             ],
             [
              0.8888888888888888,
              "#fdca26"
             ],
             [
              1,
              "#f0f921"
             ]
            ],
            "type": "histogram2dcontour"
           }
          ],
          "mesh3d": [
           {
            "colorbar": {
             "outlinewidth": 0,
             "ticks": ""
            },
            "type": "mesh3d"
           }
          ],
          "parcoords": [
           {
            "line": {
             "colorbar": {
              "outlinewidth": 0,
              "ticks": ""
             }
            },
            "type": "parcoords"
           }
          ],
          "pie": [
           {
            "automargin": true,
            "type": "pie"
           }
          ],
          "scatter": [
           {
            "fillpattern": {
             "fillmode": "overlay",
             "size": 10,
             "solidity": 0.2
            },
            "type": "scatter"
           }
          ],
          "scatter3d": [
           {
            "line": {
             "colorbar": {
              "outlinewidth": 0,
              "ticks": ""
             }
            },
            "marker": {
             "colorbar": {
              "outlinewidth": 0,
              "ticks": ""
             }
            },
            "type": "scatter3d"
           }
          ],
          "scattercarpet": [
           {
            "marker": {
             "colorbar": {
              "outlinewidth": 0,
              "ticks": ""
             }
            },
            "type": "scattercarpet"
           }
          ],
          "scattergeo": [
           {
            "marker": {
             "colorbar": {
              "outlinewidth": 0,
              "ticks": ""
             }
            },
            "type": "scattergeo"
           }
          ],
          "scattergl": [
           {
            "marker": {
             "colorbar": {
              "outlinewidth": 0,
              "ticks": ""
             }
            },
            "type": "scattergl"
           }
          ],
          "scattermapbox": [
           {
            "marker": {
             "colorbar": {
              "outlinewidth": 0,
              "ticks": ""
             }
            },
            "type": "scattermapbox"
           }
          ],
          "scatterpolar": [
           {
            "marker": {
             "colorbar": {
              "outlinewidth": 0,
              "ticks": ""
             }
            },
            "type": "scatterpolar"
           }
          ],
          "scatterpolargl": [
           {
            "marker": {
             "colorbar": {
              "outlinewidth": 0,
              "ticks": ""
             }
            },
            "type": "scatterpolargl"
           }
          ],
          "scatterternary": [
           {
            "marker": {
             "colorbar": {
              "outlinewidth": 0,
              "ticks": ""
             }
            },
            "type": "scatterternary"
           }
          ],
          "surface": [
           {
            "colorbar": {
             "outlinewidth": 0,
             "ticks": ""
            },
            "colorscale": [
             [
              0,
              "#0d0887"
             ],
             [
              0.1111111111111111,
              "#46039f"
             ],
             [
              0.2222222222222222,
              "#7201a8"
             ],
             [
              0.3333333333333333,
              "#9c179e"
             ],
             [
              0.4444444444444444,
              "#bd3786"
             ],
             [
              0.5555555555555556,
              "#d8576b"
             ],
             [
              0.6666666666666666,
              "#ed7953"
             ],
             [
              0.7777777777777778,
              "#fb9f3a"
             ],
             [
              0.8888888888888888,
              "#fdca26"
             ],
             [
              1,
              "#f0f921"
             ]
            ],
            "type": "surface"
           }
          ],
          "table": [
           {
            "cells": {
             "fill": {
              "color": "#EBF0F8"
             },
             "line": {
              "color": "white"
             }
            },
            "header": {
             "fill": {
              "color": "#C8D4E3"
             },
             "line": {
              "color": "white"
             }
            },
            "type": "table"
           }
          ]
         },
         "layout": {
          "annotationdefaults": {
           "arrowcolor": "#2a3f5f",
           "arrowhead": 0,
           "arrowwidth": 1
          },
          "autotypenumbers": "strict",
          "coloraxis": {
           "colorbar": {
            "outlinewidth": 0,
            "ticks": ""
           }
          },
          "colorscale": {
           "diverging": [
            [
             0,
             "#8e0152"
            ],
            [
             0.1,
             "#c51b7d"
            ],
            [
             0.2,
             "#de77ae"
            ],
            [
             0.3,
             "#f1b6da"
            ],
            [
             0.4,
             "#fde0ef"
            ],
            [
             0.5,
             "#f7f7f7"
            ],
            [
             0.6,
             "#e6f5d0"
            ],
            [
             0.7,
             "#b8e186"
            ],
            [
             0.8,
             "#7fbc41"
            ],
            [
             0.9,
             "#4d9221"
            ],
            [
             1,
             "#276419"
            ]
           ],
           "sequential": [
            [
             0,
             "#0d0887"
            ],
            [
             0.1111111111111111,
             "#46039f"
            ],
            [
             0.2222222222222222,
             "#7201a8"
            ],
            [
             0.3333333333333333,
             "#9c179e"
            ],
            [
             0.4444444444444444,
             "#bd3786"
            ],
            [
             0.5555555555555556,
             "#d8576b"
            ],
            [
             0.6666666666666666,
             "#ed7953"
            ],
            [
             0.7777777777777778,
             "#fb9f3a"
            ],
            [
             0.8888888888888888,
             "#fdca26"
            ],
            [
             1,
             "#f0f921"
            ]
           ],
           "sequentialminus": [
            [
             0,
             "#0d0887"
            ],
            [
             0.1111111111111111,
             "#46039f"
            ],
            [
             0.2222222222222222,
             "#7201a8"
            ],
            [
             0.3333333333333333,
             "#9c179e"
            ],
            [
             0.4444444444444444,
             "#bd3786"
            ],
            [
             0.5555555555555556,
             "#d8576b"
            ],
            [
             0.6666666666666666,
             "#ed7953"
            ],
            [
             0.7777777777777778,
             "#fb9f3a"
            ],
            [
             0.8888888888888888,
             "#fdca26"
            ],
            [
             1,
             "#f0f921"
            ]
           ]
          },
          "colorway": [
           "#636efa",
           "#EF553B",
           "#00cc96",
           "#ab63fa",
           "#FFA15A",
           "#19d3f3",
           "#FF6692",
           "#B6E880",
           "#FF97FF",
           "#FECB52"
          ],
          "font": {
           "color": "#2a3f5f"
          },
          "geo": {
           "bgcolor": "white",
           "lakecolor": "white",
           "landcolor": "#E5ECF6",
           "showlakes": true,
           "showland": true,
           "subunitcolor": "white"
          },
          "hoverlabel": {
           "align": "left"
          },
          "hovermode": "closest",
          "mapbox": {
           "style": "light"
          },
          "paper_bgcolor": "white",
          "plot_bgcolor": "#E5ECF6",
          "polar": {
           "angularaxis": {
            "gridcolor": "white",
            "linecolor": "white",
            "ticks": ""
           },
           "bgcolor": "#E5ECF6",
           "radialaxis": {
            "gridcolor": "white",
            "linecolor": "white",
            "ticks": ""
           }
          },
          "scene": {
           "xaxis": {
            "backgroundcolor": "#E5ECF6",
            "gridcolor": "white",
            "gridwidth": 2,
            "linecolor": "white",
            "showbackground": true,
            "ticks": "",
            "zerolinecolor": "white"
           },
           "yaxis": {
            "backgroundcolor": "#E5ECF6",
            "gridcolor": "white",
            "gridwidth": 2,
            "linecolor": "white",
            "showbackground": true,
            "ticks": "",
            "zerolinecolor": "white"
           },
           "zaxis": {
            "backgroundcolor": "#E5ECF6",
            "gridcolor": "white",
            "gridwidth": 2,
            "linecolor": "white",
            "showbackground": true,
            "ticks": "",
            "zerolinecolor": "white"
           }
          },
          "shapedefaults": {
           "line": {
            "color": "#2a3f5f"
           }
          },
          "ternary": {
           "aaxis": {
            "gridcolor": "white",
            "linecolor": "white",
            "ticks": ""
           },
           "baxis": {
            "gridcolor": "white",
            "linecolor": "white",
            "ticks": ""
           },
           "bgcolor": "#E5ECF6",
           "caxis": {
            "gridcolor": "white",
            "linecolor": "white",
            "ticks": ""
           }
          },
          "title": {
           "x": 0.05
          },
          "xaxis": {
           "automargin": true,
           "gridcolor": "white",
           "linecolor": "white",
           "ticks": "",
           "title": {
            "standoff": 15
           },
           "zerolinecolor": "white",
           "zerolinewidth": 2
          },
          "yaxis": {
           "automargin": true,
           "gridcolor": "white",
           "linecolor": "white",
           "ticks": "",
           "title": {
            "standoff": 15
           },
           "zerolinecolor": "white",
           "zerolinewidth": 2
          }
         }
        },
        "xaxis": {
         "anchor": "y",
         "domain": [
          0,
          1
         ]
        },
        "yaxis": {
         "anchor": "x",
         "domain": [
          0,
          1
         ]
        }
       }
      }
     },
     "metadata": {},
     "output_type": "display_data"
    }
   ],
   "source": [
    "display(cifar_10_train_inputs.shape)\n",
    "multi_channels_input = cifar_10_train_inputs[0]\n",
    "flatten_multi_channels_input = multi_channels_input.ravel()\n",
    "px.imshow(multi_channels_input[:, ])"
   ]
  },
  {
   "cell_type": "code",
   "execution_count": 19,
   "metadata": {},
   "outputs": [
    {
     "data": {
      "text/plain": [
       "array([[[  0,   1,   2],\n",
       "        [  3,   4,   5],\n",
       "        [  6,   7,   8],\n",
       "        [  9,  10,  11],\n",
       "        [ 12,  13,  14]],\n",
       "\n",
       "       [[ 96,  97,  98],\n",
       "        [ 99, 100, 101],\n",
       "        [102, 103, 104],\n",
       "        [105, 106, 107],\n",
       "        [108, 109, 110]],\n",
       "\n",
       "       [[192, 193, 194],\n",
       "        [195, 196, 197],\n",
       "        [198, 199, 200],\n",
       "        [201, 202, 203],\n",
       "        [204, 205, 206]],\n",
       "\n",
       "       [[288, 289, 290],\n",
       "        [291, 292, 293],\n",
       "        [294, 295, 296],\n",
       "        [297, 298, 299],\n",
       "        [300, 301, 302]],\n",
       "\n",
       "       [[384, 385, 386],\n",
       "        [387, 388, 389],\n",
       "        [390, 391, 392],\n",
       "        [393, 394, 395],\n",
       "        [396, 397, 398]]])"
      ]
     },
     "metadata": {},
     "output_type": "display_data"
    }
   ],
   "source": [
    "window_idx = np.arange(multi_channels_kernels.shape[3])\n",
    "window_idx = np.tile(window_idx, multi_channels_kernels.shape[2])\n",
    "window_idx += np.repeat(np.arange(multi_channels_kernels.shape[2]) * cifar_10_train_inputs.shape[3], multi_channels_kernels.shape[3])\n",
    "window_idx = np.tile(window_idx, multi_channels_kernels.shape[1])\n",
    "window_idx += np.repeat(np.arange(multi_channels_kernels.shape[1]) * cifar_10_train_inputs.shape[2] * cifar_10_train_inputs.shape[3], multi_channels_kernels.shape[2] * multi_channels_kernels.shape[3])\n",
    "display(window_idx.reshape(5, 5, 3))"
   ]
  },
  {
   "cell_type": "markdown",
   "metadata": {},
   "source": [
    "### Viewing a the purple eye by adding ofssets to the window indices\n",
    "By hovering on the right eye of the frog in the above plot we can see that the eye is roughly at x:20 and y:5.  \n",
    "Below I demonstrate that by adding the correct offsets we can move the view to that eye.  "
   ]
  },
  {
   "cell_type": "code",
   "execution_count": 38,
   "metadata": {},
   "outputs": [
    {
     "data": {
      "application/vnd.plotly.v1+json": {
       "config": {
        "plotlyServerURL": "https://plot.ly"
       },
       "data": [
        {
         "hovertemplate": "x: %{x}<br>y: %{y}<br>color: [%{z[0]}, %{z[1]}, %{z[2]}]<extra></extra>",
         "name": "0",
         "source": "data:image/png;base64,iVBORw0KGgoAAAANSUhEUgAAAAUAAAAFCAIAAAACDbGyAAAAW0lEQVR4XgFQAK//AWZEKvsBBPfx9h4UJBYWBwLZ4ejt7vEwJy8E+gj/9gAEAQH/BAL/8/Dr9vT5DQ0FBA0ECvn2+s/a2gL8/vsLDgQYEA77/Pj2+vf19v/6/PzSMyqPqbBDfwAAAABJRU5ErkJggg==",
         "type": "image",
         "xaxis": "x",
         "yaxis": "y"
        }
       ],
       "layout": {
        "margin": {
         "t": 60
        },
        "template": {
         "data": {
          "bar": [
           {
            "error_x": {
             "color": "#2a3f5f"
            },
            "error_y": {
             "color": "#2a3f5f"
            },
            "marker": {
             "line": {
              "color": "#E5ECF6",
              "width": 0.5
             },
             "pattern": {
              "fillmode": "overlay",
              "size": 10,
              "solidity": 0.2
             }
            },
            "type": "bar"
           }
          ],
          "barpolar": [
           {
            "marker": {
             "line": {
              "color": "#E5ECF6",
              "width": 0.5
             },
             "pattern": {
              "fillmode": "overlay",
              "size": 10,
              "solidity": 0.2
             }
            },
            "type": "barpolar"
           }
          ],
          "carpet": [
           {
            "aaxis": {
             "endlinecolor": "#2a3f5f",
             "gridcolor": "white",
             "linecolor": "white",
             "minorgridcolor": "white",
             "startlinecolor": "#2a3f5f"
            },
            "baxis": {
             "endlinecolor": "#2a3f5f",
             "gridcolor": "white",
             "linecolor": "white",
             "minorgridcolor": "white",
             "startlinecolor": "#2a3f5f"
            },
            "type": "carpet"
           }
          ],
          "choropleth": [
           {
            "colorbar": {
             "outlinewidth": 0,
             "ticks": ""
            },
            "type": "choropleth"
           }
          ],
          "contour": [
           {
            "colorbar": {
             "outlinewidth": 0,
             "ticks": ""
            },
            "colorscale": [
             [
              0,
              "#0d0887"
             ],
             [
              0.1111111111111111,
              "#46039f"
             ],
             [
              0.2222222222222222,
              "#7201a8"
             ],
             [
              0.3333333333333333,
              "#9c179e"
             ],
             [
              0.4444444444444444,
              "#bd3786"
             ],
             [
              0.5555555555555556,
              "#d8576b"
             ],
             [
              0.6666666666666666,
              "#ed7953"
             ],
             [
              0.7777777777777778,
              "#fb9f3a"
             ],
             [
              0.8888888888888888,
              "#fdca26"
             ],
             [
              1,
              "#f0f921"
             ]
            ],
            "type": "contour"
           }
          ],
          "contourcarpet": [
           {
            "colorbar": {
             "outlinewidth": 0,
             "ticks": ""
            },
            "type": "contourcarpet"
           }
          ],
          "heatmap": [
           {
            "colorbar": {
             "outlinewidth": 0,
             "ticks": ""
            },
            "colorscale": [
             [
              0,
              "#0d0887"
             ],
             [
              0.1111111111111111,
              "#46039f"
             ],
             [
              0.2222222222222222,
              "#7201a8"
             ],
             [
              0.3333333333333333,
              "#9c179e"
             ],
             [
              0.4444444444444444,
              "#bd3786"
             ],
             [
              0.5555555555555556,
              "#d8576b"
             ],
             [
              0.6666666666666666,
              "#ed7953"
             ],
             [
              0.7777777777777778,
              "#fb9f3a"
             ],
             [
              0.8888888888888888,
              "#fdca26"
             ],
             [
              1,
              "#f0f921"
             ]
            ],
            "type": "heatmap"
           }
          ],
          "heatmapgl": [
           {
            "colorbar": {
             "outlinewidth": 0,
             "ticks": ""
            },
            "colorscale": [
             [
              0,
              "#0d0887"
             ],
             [
              0.1111111111111111,
              "#46039f"
             ],
             [
              0.2222222222222222,
              "#7201a8"
             ],
             [
              0.3333333333333333,
              "#9c179e"
             ],
             [
              0.4444444444444444,
              "#bd3786"
             ],
             [
              0.5555555555555556,
              "#d8576b"
             ],
             [
              0.6666666666666666,
              "#ed7953"
             ],
             [
              0.7777777777777778,
              "#fb9f3a"
             ],
             [
              0.8888888888888888,
              "#fdca26"
             ],
             [
              1,
              "#f0f921"
             ]
            ],
            "type": "heatmapgl"
           }
          ],
          "histogram": [
           {
            "marker": {
             "pattern": {
              "fillmode": "overlay",
              "size": 10,
              "solidity": 0.2
             }
            },
            "type": "histogram"
           }
          ],
          "histogram2d": [
           {
            "colorbar": {
             "outlinewidth": 0,
             "ticks": ""
            },
            "colorscale": [
             [
              0,
              "#0d0887"
             ],
             [
              0.1111111111111111,
              "#46039f"
             ],
             [
              0.2222222222222222,
              "#7201a8"
             ],
             [
              0.3333333333333333,
              "#9c179e"
             ],
             [
              0.4444444444444444,
              "#bd3786"
             ],
             [
              0.5555555555555556,
              "#d8576b"
             ],
             [
              0.6666666666666666,
              "#ed7953"
             ],
             [
              0.7777777777777778,
              "#fb9f3a"
             ],
             [
              0.8888888888888888,
              "#fdca26"
             ],
             [
              1,
              "#f0f921"
             ]
            ],
            "type": "histogram2d"
           }
          ],
          "histogram2dcontour": [
           {
            "colorbar": {
             "outlinewidth": 0,
             "ticks": ""
            },
            "colorscale": [
             [
              0,
              "#0d0887"
             ],
             [
              0.1111111111111111,
              "#46039f"
             ],
             [
              0.2222222222222222,
              "#7201a8"
             ],
             [
              0.3333333333333333,
              "#9c179e"
             ],
             [
              0.4444444444444444,
              "#bd3786"
             ],
             [
              0.5555555555555556,
              "#d8576b"
             ],
             [
              0.6666666666666666,
              "#ed7953"
             ],
             [
              0.7777777777777778,
              "#fb9f3a"
             ],
             [
              0.8888888888888888,
              "#fdca26"
             ],
             [
              1,
              "#f0f921"
             ]
            ],
            "type": "histogram2dcontour"
           }
          ],
          "mesh3d": [
           {
            "colorbar": {
             "outlinewidth": 0,
             "ticks": ""
            },
            "type": "mesh3d"
           }
          ],
          "parcoords": [
           {
            "line": {
             "colorbar": {
              "outlinewidth": 0,
              "ticks": ""
             }
            },
            "type": "parcoords"
           }
          ],
          "pie": [
           {
            "automargin": true,
            "type": "pie"
           }
          ],
          "scatter": [
           {
            "fillpattern": {
             "fillmode": "overlay",
             "size": 10,
             "solidity": 0.2
            },
            "type": "scatter"
           }
          ],
          "scatter3d": [
           {
            "line": {
             "colorbar": {
              "outlinewidth": 0,
              "ticks": ""
             }
            },
            "marker": {
             "colorbar": {
              "outlinewidth": 0,
              "ticks": ""
             }
            },
            "type": "scatter3d"
           }
          ],
          "scattercarpet": [
           {
            "marker": {
             "colorbar": {
              "outlinewidth": 0,
              "ticks": ""
             }
            },
            "type": "scattercarpet"
           }
          ],
          "scattergeo": [
           {
            "marker": {
             "colorbar": {
              "outlinewidth": 0,
              "ticks": ""
             }
            },
            "type": "scattergeo"
           }
          ],
          "scattergl": [
           {
            "marker": {
             "colorbar": {
              "outlinewidth": 0,
              "ticks": ""
             }
            },
            "type": "scattergl"
           }
          ],
          "scattermapbox": [
           {
            "marker": {
             "colorbar": {
              "outlinewidth": 0,
              "ticks": ""
             }
            },
            "type": "scattermapbox"
           }
          ],
          "scatterpolar": [
           {
            "marker": {
             "colorbar": {
              "outlinewidth": 0,
              "ticks": ""
             }
            },
            "type": "scatterpolar"
           }
          ],
          "scatterpolargl": [
           {
            "marker": {
             "colorbar": {
              "outlinewidth": 0,
              "ticks": ""
             }
            },
            "type": "scatterpolargl"
           }
          ],
          "scatterternary": [
           {
            "marker": {
             "colorbar": {
              "outlinewidth": 0,
              "ticks": ""
             }
            },
            "type": "scatterternary"
           }
          ],
          "surface": [
           {
            "colorbar": {
             "outlinewidth": 0,
             "ticks": ""
            },
            "colorscale": [
             [
              0,
              "#0d0887"
             ],
             [
              0.1111111111111111,
              "#46039f"
             ],
             [
              0.2222222222222222,
              "#7201a8"
             ],
             [
              0.3333333333333333,
              "#9c179e"
             ],
             [
              0.4444444444444444,
              "#bd3786"
             ],
             [
              0.5555555555555556,
              "#d8576b"
             ],
             [
              0.6666666666666666,
              "#ed7953"
             ],
             [
              0.7777777777777778,
              "#fb9f3a"
             ],
             [
              0.8888888888888888,
              "#fdca26"
             ],
             [
              1,
              "#f0f921"
             ]
            ],
            "type": "surface"
           }
          ],
          "table": [
           {
            "cells": {
             "fill": {
              "color": "#EBF0F8"
             },
             "line": {
              "color": "white"
             }
            },
            "header": {
             "fill": {
              "color": "#C8D4E3"
             },
             "line": {
              "color": "white"
             }
            },
            "type": "table"
           }
          ]
         },
         "layout": {
          "annotationdefaults": {
           "arrowcolor": "#2a3f5f",
           "arrowhead": 0,
           "arrowwidth": 1
          },
          "autotypenumbers": "strict",
          "coloraxis": {
           "colorbar": {
            "outlinewidth": 0,
            "ticks": ""
           }
          },
          "colorscale": {
           "diverging": [
            [
             0,
             "#8e0152"
            ],
            [
             0.1,
             "#c51b7d"
            ],
            [
             0.2,
             "#de77ae"
            ],
            [
             0.3,
             "#f1b6da"
            ],
            [
             0.4,
             "#fde0ef"
            ],
            [
             0.5,
             "#f7f7f7"
            ],
            [
             0.6,
             "#e6f5d0"
            ],
            [
             0.7,
             "#b8e186"
            ],
            [
             0.8,
             "#7fbc41"
            ],
            [
             0.9,
             "#4d9221"
            ],
            [
             1,
             "#276419"
            ]
           ],
           "sequential": [
            [
             0,
             "#0d0887"
            ],
            [
             0.1111111111111111,
             "#46039f"
            ],
            [
             0.2222222222222222,
             "#7201a8"
            ],
            [
             0.3333333333333333,
             "#9c179e"
            ],
            [
             0.4444444444444444,
             "#bd3786"
            ],
            [
             0.5555555555555556,
             "#d8576b"
            ],
            [
             0.6666666666666666,
             "#ed7953"
            ],
            [
             0.7777777777777778,
             "#fb9f3a"
            ],
            [
             0.8888888888888888,
             "#fdca26"
            ],
            [
             1,
             "#f0f921"
            ]
           ],
           "sequentialminus": [
            [
             0,
             "#0d0887"
            ],
            [
             0.1111111111111111,
             "#46039f"
            ],
            [
             0.2222222222222222,
             "#7201a8"
            ],
            [
             0.3333333333333333,
             "#9c179e"
            ],
            [
             0.4444444444444444,
             "#bd3786"
            ],
            [
             0.5555555555555556,
             "#d8576b"
            ],
            [
             0.6666666666666666,
             "#ed7953"
            ],
            [
             0.7777777777777778,
             "#fb9f3a"
            ],
            [
             0.8888888888888888,
             "#fdca26"
            ],
            [
             1,
             "#f0f921"
            ]
           ]
          },
          "colorway": [
           "#636efa",
           "#EF553B",
           "#00cc96",
           "#ab63fa",
           "#FFA15A",
           "#19d3f3",
           "#FF6692",
           "#B6E880",
           "#FF97FF",
           "#FECB52"
          ],
          "font": {
           "color": "#2a3f5f"
          },
          "geo": {
           "bgcolor": "white",
           "lakecolor": "white",
           "landcolor": "#E5ECF6",
           "showlakes": true,
           "showland": true,
           "subunitcolor": "white"
          },
          "hoverlabel": {
           "align": "left"
          },
          "hovermode": "closest",
          "mapbox": {
           "style": "light"
          },
          "paper_bgcolor": "white",
          "plot_bgcolor": "#E5ECF6",
          "polar": {
           "angularaxis": {
            "gridcolor": "white",
            "linecolor": "white",
            "ticks": ""
           },
           "bgcolor": "#E5ECF6",
           "radialaxis": {
            "gridcolor": "white",
            "linecolor": "white",
            "ticks": ""
           }
          },
          "scene": {
           "xaxis": {
            "backgroundcolor": "#E5ECF6",
            "gridcolor": "white",
            "gridwidth": 2,
            "linecolor": "white",
            "showbackground": true,
            "ticks": "",
            "zerolinecolor": "white"
           },
           "yaxis": {
            "backgroundcolor": "#E5ECF6",
            "gridcolor": "white",
            "gridwidth": 2,
            "linecolor": "white",
            "showbackground": true,
            "ticks": "",
            "zerolinecolor": "white"
           },
           "zaxis": {
            "backgroundcolor": "#E5ECF6",
            "gridcolor": "white",
            "gridwidth": 2,
            "linecolor": "white",
            "showbackground": true,
            "ticks": "",
            "zerolinecolor": "white"
           }
          },
          "shapedefaults": {
           "line": {
            "color": "#2a3f5f"
           }
          },
          "ternary": {
           "aaxis": {
            "gridcolor": "white",
            "linecolor": "white",
            "ticks": ""
           },
           "baxis": {
            "gridcolor": "white",
            "linecolor": "white",
            "ticks": ""
           },
           "bgcolor": "#E5ECF6",
           "caxis": {
            "gridcolor": "white",
            "linecolor": "white",
            "ticks": ""
           }
          },
          "title": {
           "x": 0.05
          },
          "xaxis": {
           "automargin": true,
           "gridcolor": "white",
           "linecolor": "white",
           "ticks": "",
           "title": {
            "standoff": 15
           },
           "zerolinecolor": "white",
           "zerolinewidth": 2
          },
          "yaxis": {
           "automargin": true,
           "gridcolor": "white",
           "linecolor": "white",
           "ticks": "",
           "title": {
            "standoff": 15
           },
           "zerolinecolor": "white",
           "zerolinewidth": 2
          }
         }
        },
        "xaxis": {
         "anchor": "y",
         "domain": [
          0,
          1
         ]
        },
        "yaxis": {
         "anchor": "x",
         "domain": [
          0,
          1
         ]
        }
       }
      }
     },
     "metadata": {},
     "output_type": "display_data"
    }
   ],
   "source": [
    "x_offset = cifar_10_train_inputs.shape[3] * 20\n",
    "y_offset = cifar_10_train_inputs.shape[3] * cifar_10_train_inputs.shape[2] * 5\n",
    "px.imshow(flatten_multi_channels_input[window_idx + x_offset + y_offset].reshape(5, 5, 3))"
   ]
  },
  {
   "cell_type": "code",
   "execution_count": 39,
   "metadata": {},
   "outputs": [],
   "source": [
    "def compute_correlation_inidces(input_shape:np.ndarray, kernel_shape:np.ndarray) -> np.ndarray:\n",
    "    window_idx = np.arange(kernel_shape[2])\n",
    "    window_idx = np.tile(window_idx, kernel_shape[1])\n",
    "    window_idx += np.repeat(np.arange(kernel_shape[1]) * input_shape[2], kernel_shape[2])\n",
    "    window_idx = np.tile(window_idx, kernel_shape[0])\n",
    "    window_idx += np.repeat(np.arange(kernel_shape[0]) * input_shape[1] * input_shape[2], kernel_shape[1] * kernel_shape[2])\n",
    "\n",
    "    nb_x_correlations = 1 + input_shape[0] - kernel_shape[0]\n",
    "    nb_y_correlations = 1 + input_shape[1] - kernel_shape[1]\n",
    "    total_nb_correlations = nb_x_correlations * nb_y_correlations\n",
    "\n",
    "    x_offset_multiplicator = input_shape[2]\n",
    "    y_offset_multiplicator = input_shape[2] * input_shape[1]\n",
    "    x_offsets = np.tile(np.arange(nb_x_correlations) * x_offset_multiplicator, nb_y_correlations).reshape(-1, 1)\n",
    "    y_offsets = np.repeat(np.arange(nb_y_correlations) * y_offset_multiplicator, nb_y_correlations).reshape(-1, 1)\n",
    "    correlation_indieces = np.tile(window_idx, (total_nb_correlations, 1)) + x_offsets + y_offsets\n",
    "\n",
    "    return nb_x_correlations, nb_y_correlations, correlation_indieces\n",
    "\n",
    "nb_x_correlations, nb_y_correlations, multi_channels_correlatin_indieces = compute_correlation_inidces(multi_channels_input.shape, multi_channels_kernels.shape[1:])"
   ]
  },
  {
   "cell_type": "code",
   "execution_count": 40,
   "metadata": {},
   "outputs": [
    {
     "data": {
      "text/plain": [
       "(4, 5, 5, 3)"
      ]
     },
     "execution_count": 40,
     "metadata": {},
     "output_type": "execute_result"
    }
   ],
   "source": [
    "multi_channels_correlatin_indieces.reshape(-1, 5, 5, 3)[:4, ...].shape"
   ]
  },
  {
   "cell_type": "markdown",
   "metadata": {},
   "source": [
    "### Visualizing the window \"moving\" over the first two rows of correlation of the image\n",
    "Feel free to compare them to the full image plot."
   ]
  },
  {
   "cell_type": "code",
   "execution_count": 41,
   "metadata": {},
   "outputs": [
    {
     "data": {
      "application/vnd.plotly.v1+json": {
       "config": {
        "plotlyServerURL": "https://plot.ly"
       },
       "data": [
        {
         "hovertemplate": "x: %{x}<br>y: %{y}<br>color: %{z}<extra></extra>",
         "name": "0",
         "source": "data:image/png;base64,iVBORw0KGgoAAAANSUhEUgAAAAUAAAAFCAIAAAACDbGyAAAAWUlEQVR4XmO0trP/8OEdO9M/Ibb/csJcjAIiIh/evBHiYFAU5lCV4GXhZGFkYGeQF+ZQEOcXExVi4WD8w8vLoiYtKMzJzPrvB4sgOwsnOzs/N6coH+vff38B+YERZbYKWpEAAAAASUVORK5CYII=",
         "type": "image",
         "xaxis": "x29",
         "yaxis": "y29"
        },
        {
         "hovertemplate": "x: %{x}<br>y: %{y}<br>color: %{z}<extra></extra>",
         "name": "1",
         "source": "data:image/png;base64,iVBORw0KGgoAAAANSUhEUgAAAAUAAAAFCAIAAAACDbGyAAAAWElEQVR4XgXB3Q5AIBgA0C9Kf4ivFZtNueDGeP+ncuXCbMU5ZD8PXmSsvtkqh5oAAApYrFjHJgZPOw7BijgY71AqTX1Dt6m3smT5ua+XupobLV3LUk4J4Ae+Sg7eWGBlHQAAAABJRU5ErkJggg==",
         "type": "image",
         "xaxis": "x30",
         "yaxis": "y30"
        },
        {
         "hovertemplate": "x: %{x}<br>y: %{y}<br>color: %{z}<extra></extra>",
         "name": "2",
         "source": "data:image/png;base64,iVBORw0KGgoAAAANSUhEUgAAAAUAAAAFCAIAAAACDbGyAAAAW0lEQVR4XgFQAK//ATIwKxIG/x4TChUSCxQQDATg2NUBEwgU/Q0BCRb1/u4EHxMIIBcPFhUSCQoLAQEBBCYbERMJAwX++PTu+v3+AgQPCwkVDgX9/v39AAADBAMF5xWIVpBHKwAAAABJRU5ErkJggg==",
         "type": "image",
         "xaxis": "x31",
         "yaxis": "y31"
        },
        {
         "hovertemplate": "x: %{x}<br>y: %{y}<br>color: %{z}<extra></extra>",
         "name": "3",
         "source": "data:image/png;base64,iVBORw0KGgoAAAANSUhEUgAAAAUAAAAFCAIAAAACDbGyAAAAW0lEQVR4XgFQAK//AUQ2Kh4TChUSCxQQDAYDBQTv5d4U/Q0BCRb1/u70/f8EIBcPFhUSCQoLAQEB9/n4BBcNBQX++PTu+v3+Avf2/AQVEAv9/v39AAADBAMAAgIJUBzHmY79GQAAAABJRU5ErkJggg==",
         "type": "image",
         "xaxis": "x32",
         "yaxis": "y32"
        },
        {
         "hovertemplate": "x: %{x}<br>y: %{y}<br>color: %{z}<extra></extra>",
         "name": "4",
         "source": "data:image/png;base64,iVBORw0KGgoAAAANSUhEUgAAAAUAAAAFCAIAAAACDbGyAAAAVklEQVR4XgXBuRGAIBAAQO44YBADxwEqsQnbsHNTAyLkUQF34dg3txq7zJILUprSdYL2dw+xjQGSvLN6MgCQaylvJdFLDE/rmNOHkpFWvDHGiTPE2t8feKkfNpAZmxgAAAAASUVORK5CYII=",
         "type": "image",
         "xaxis": "x33",
         "yaxis": "y33"
        },
        {
         "hovertemplate": "x: %{x}<br>y: %{y}<br>color: %{z}<extra></extra>",
         "name": "5",
         "source": "data:image/png;base64,iVBORw0KGgoAAAANSUhEUgAAAAUAAAAFCAIAAAACDbGyAAAAUUlEQVR4XgXByRGAIBAEQIYdsVDK8mE+BmIgJq28kMMD7Ma+rcvsjHTsrRIS6biqD19rMDHftMMIIJWcn9IABn9+Vaf4aqOm2ZECoSitS31I/uitHxDqiGPlAAAAAElFTkSuQmCC",
         "type": "image",
         "xaxis": "x34",
         "yaxis": "y34"
        },
        {
         "hovertemplate": "x: %{x}<br>y: %{y}<br>color: %{z}<extra></extra>",
         "name": "6",
         "source": "data:image/png;base64,iVBORw0KGgoAAAANSUhEUgAAAAUAAAAFCAIAAAACDbGyAAAAU0lEQVR4XgXBSw6AIAwFQCjPEowx3sujeBRv6dYEWShQP9QZuy4zuw4+GId4JFxxOz9Vy7neuQgIfZFaH1FrOQSkPZb8EptxGsAezM4QSXsAQNsPyXwi1mvPgCYAAAAASUVORK5CYII=",
         "type": "image",
         "xaxis": "x35",
         "yaxis": "y35"
        },
        {
         "hovertemplate": "x: %{x}<br>y: %{y}<br>color: %{z}<extra></extra>",
         "name": "7",
         "source": "data:image/png;base64,iVBORw0KGgoAAAANSUhEUgAAAAUAAAAFCAIAAAACDbGyAAAAU0lEQVR4XgXByw2AIBAFQBZeIBu1NyuxF/uzAA8GiQf+sM7QeexwrAz8G2oX+PsSsjHXmEobE7Wb3IoQWWbVRYfnqymypW1xRjXNq1UgAJA5SvoBu00nq/D2EGYAAAAASUVORK5CYII=",
         "type": "image",
         "xaxis": "x36",
         "yaxis": "y36"
        },
        {
         "hovertemplate": "x: %{x}<br>y: %{y}<br>color: %{z}<extra></extra>",
         "name": "8",
         "source": "data:image/png;base64,iVBORw0KGgoAAAANSUhEUgAAAAUAAAAFCAIAAAACDbGyAAAAVUlEQVR4XgXBWw5AMBAF0Jn2pjQiWJ6FWIrF+fUnESSSVp/jHF6XmTSu+4lZpnHAsW/ui86HVOqpGa8LwmyspSxSg4reWcN912hKLQgEBgCpJXjR6gfFZybTElDwNQAAAABJRU5ErkJggg==",
         "type": "image",
         "xaxis": "x37",
         "yaxis": "y37"
        },
        {
         "hovertemplate": "x: %{x}<br>y: %{y}<br>color: %{z}<extra></extra>",
         "name": "9",
         "source": "data:image/png;base64,iVBORw0KGgoAAAANSUhEUgAAAAUAAAAFCAIAAAACDbGyAAAAV0lEQVR4XgXByQ2AIBQFQJYXFA1B6c8+bMS6PHr0ToxykiDLd4Zv63I/4Ss0T1bUjPPY35hybZfkPQiFmNKaFaKWrBuEVtyMnWS5B3NmAABQqymSFN6HH3RNJRUdOlm9AAAAAElFTkSuQmCC",
         "type": "image",
         "xaxis": "x38",
         "yaxis": "y38"
        },
        {
         "hovertemplate": "x: %{x}<br>y: %{y}<br>color: %{z}<extra></extra>",
         "name": "10",
         "source": "data:image/png;base64,iVBORw0KGgoAAAANSUhEUgAAAAUAAAAFCAIAAAACDbGyAAAAVUlEQVR4XgXByw2AIAwAUD6NAoag7OUcDuKS3jyaEA/eTG1Lfc/u2/qxLnNxQogI13mQ9NvbAMrcYYjRsGrHUhOTujyN3lAAU3OKYAC0C77qXWuPkPybJikKT5UAvwAAAABJRU5ErkJggg==",
         "type": "image",
         "xaxis": "x39",
         "yaxis": "y39"
        },
        {
         "hovertemplate": "x: %{x}<br>y: %{y}<br>color: %{z}<extra></extra>",
         "name": "11",
         "source": "data:image/png;base64,iVBORw0KGgoAAAANSUhEUgAAAAUAAAAFCAIAAAACDbGyAAAAV0lEQVR4XgXBSwqAIBAAUD9jqBCW5+oWnaNztm0Z0iKIbAYd7T25rcs8BcWFiBARzmO/tLTQa21aARjre6MQfS19ME5pUSyIOHoHgvEFpq9rldLNhZ+cf+fzJ8eNIc+eAAAAAElFTkSuQmCC",
         "type": "image",
         "xaxis": "x40",
         "yaxis": "y40"
        },
        {
         "hovertemplate": "x: %{x}<br>y: %{y}<br>color: %{z}<extra></extra>",
         "name": "12",
         "source": "data:image/png;base64,iVBORw0KGgoAAAANSUhEUgAAAAUAAAAFCAIAAAACDbGyAAAAV0lEQVR4XgXBwQ2AIAwAwApVCokxcT3HcA/38u3TDXiREBEoFe+GY9+UcCkl50yW8L5Owt7apxUaYxC0WlbXuE+jFQFFCOvsLILk540BubL3QVhiSknqD9OVKZeGiIovAAAAAElFTkSuQmCC",
         "type": "image",
         "xaxis": "x41",
         "yaxis": "y41"
        },
        {
         "hovertemplate": "x: %{x}<br>y: %{y}<br>color: %{z}<extra></extra>",
         "name": "13",
         "source": "data:image/png;base64,iVBORw0KGgoAAAANSUhEUgAAAAUAAAAFCAIAAAACDbGyAAAAWElEQVR4XgXByQ2AIBAAQJBVwIgmFGcdlmJjNuDPLy8jAZdjxRm+b2tKCRGVVsQIrvOo9RMdSCkjBlisqaUNvSZiYpBgzeifkDG8WBrj4NxNhXyMkfKk5x+vNCyLAJ3gsQAAAABJRU5ErkJggg==",
         "type": "image",
         "xaxis": "x42",
         "yaxis": "y42"
        },
        {
         "hovertemplate": "x: %{x}<br>y: %{y}<br>color: %{z}<extra></extra>",
         "name": "14",
         "source": "data:image/png;base64,iVBORw0KGgoAAAANSUhEUgAAAAUAAAAFCAIAAAACDbGyAAAAVElEQVR4XgXBwQ2AIAwAwCJVIBCMkzmHo7ief39uAJSCVr1T+7Yys3VWQKhmvM5DD2iMIS7P23Fe4jQ6EdCTaZ3RIXQule8PVPAec+JERNKDi9DkBzIWKLJuFzgKAAAAAElFTkSuQmCC",
         "type": "image",
         "xaxis": "x43",
         "yaxis": "y43"
        },
        {
         "hovertemplate": "x: %{x}<br>y: %{y}<br>color: %{z}<extra></extra>",
         "name": "15",
         "source": "data:image/png;base64,iVBORw0KGgoAAAANSUhEUgAAAAUAAAAFCAIAAAACDbGyAAAAV0lEQVR4XgXByQ2AIBAAwCUSgUDQiD1Zh6XYqF9fRh4Cy7HoDDv2TSpJQDG902z5c51CiIih9cLQ8WV1RDCMIhesjXHCkLB+wIzWtSR+ex+pGGUh0wD9B0BxKeSc3VQSAAAAAElFTkSuQmCC",
         "type": "image",
         "xaxis": "x44",
         "yaxis": "y44"
        },
        {
         "hovertemplate": "x: %{x}<br>y: %{y}<br>color: %{z}<extra></extra>",
         "name": "16",
         "source": "data:image/png;base64,iVBORw0KGgoAAAANSUhEUgAAAAUAAAAFCAIAAAACDbGyAAAAV0lEQVR4XgXBWwqAIBAAQFfFQqWCDtY9ukmH7LO/qKB8u24zsK0LMvThG6eBEcrr2H10tWWIMxdM9toK1aUcSwWtOhnehxhYY0oOHCU/3Z1a9QkbNQ70A4MwK61VbnzBAAAAAElFTkSuQmCC",
         "type": "image",
         "xaxis": "x45",
         "yaxis": "y45"
        },
        {
         "hovertemplate": "x: %{x}<br>y: %{y}<br>color: %{z}<extra></extra>",
         "name": "17",
         "source": "data:image/png;base64,iVBORw0KGgoAAAANSUhEUgAAAAUAAAAFCAIAAAACDbGyAAAAVUlEQVR4XgXByRGAIAwAQEgYDg90tC0rsRA79OnbBhwgEMBdeZ1HiN+yetFrpqze5+aWZdoBRSFSs98op8Jy0EaNDkoMk3XADLVqREWNBVUUDWRHY3+FwiYSo+tHnAAAAABJRU5ErkJggg==",
         "type": "image",
         "xaxis": "x46",
         "yaxis": "y46"
        },
        {
         "hovertemplate": "x: %{x}<br>y: %{y}<br>color: %{z}<extra></extra>",
         "name": "18",
         "source": "data:image/png;base64,iVBORw0KGgoAAAANSUhEUgAAAAUAAAAFCAIAAAACDbGyAAAAU0lEQVR4XgXBSxJAMAwA0Cap/hg640Ku4h5uamtra6RJ1Htw7NtSZ9etcSM3+Ps64V2RnDBnn3wpVRRKiH7MKUScUkZVNAtEZoIP29c/hE4xicIPnVofb9jTikAAAAAASUVORK5CYII=",
         "type": "image",
         "xaxis": "x47",
         "yaxis": "y47"
        },
        {
         "hovertemplate": "x: %{x}<br>y: %{y}<br>color: %{z}<extra></extra>",
         "name": "19",
         "source": "data:image/png;base64,iVBORw0KGgoAAAANSUhEUgAAAAUAAAAFCAIAAAACDbGyAAAAUElEQVR4XgXBuw2AMAwFwNjP5IfEaOzCHCxJSY2gcGIn3NF57GF604awAJDnvhihqxbJrzbpRjUmWUuOyehjNmP3CLh3AfGYg2ki5W5Ul+0HTNogSxK+PLUAAAAASUVORK5CYII=",
         "type": "image",
         "xaxis": "x48",
         "yaxis": "y48"
        },
        {
         "hovertemplate": "x: %{x}<br>y: %{y}<br>color: %{z}<extra></extra>",
         "name": "20",
         "source": "data:image/png;base64,iVBORw0KGgoAAAANSUhEUgAAAAUAAAAFCAIAAAACDbGyAAAAUElEQVR4XgXByRWAIAwFQJMfNkEbsxn7sEyvPk94YAk4Q9d51FKxGABbSpKfu5USxOdSX+0CeInBW9fp4zmYVS2g2gQ0tDHThPOt02r2aN0PRHcfcsQm0A0AAAAASUVORK5CYII=",
         "type": "image",
         "xaxis": "x49",
         "yaxis": "y49"
        },
        {
         "hovertemplate": "x: %{x}<br>y: %{y}<br>color: %{z}<extra></extra>",
         "name": "21",
         "source": "data:image/png;base64,iVBORw0KGgoAAAANSUhEUgAAAAUAAAAFCAIAAAACDbGyAAAAUUlEQVR4XgXByxGAIAwFQMLjH3RsymIsxEY9O57kgCTqLu3bCuMBTLUys2vnkV26+3OplMIu85JCFGr2e8WQDYDqcKBXB6yxiGkIFT9ziNrHD91AGrgZ1CEFAAAAAElFTkSuQmCC",
         "type": "image",
         "xaxis": "x50",
         "yaxis": "y50"
        },
        {
         "hovertemplate": "x: %{x}<br>y: %{y}<br>color: %{z}<extra></extra>",
         "name": "22",
         "source": "data:image/png;base64,iVBORw0KGgoAAAANSUhEUgAAAAUAAAAFCAIAAAACDbGyAAAAUUlEQVR4XgXB2w2AIAwAQPogMRR0LzdxExf11/ihEWkL3sG+rURUchaRGCfW67i/drqlJICRp7IYPDi6BSAI6K5M0F0JA3ZjNUhx5jFqba/aD1YlIWq63j7mAAAAAElFTkSuQmCC",
         "type": "image",
         "xaxis": "x51",
         "yaxis": "y51"
        },
        {
         "hovertemplate": "x: %{x}<br>y: %{y}<br>color: %{z}<extra></extra>",
         "name": "23",
         "source": "data:image/png;base64,iVBORw0KGgoAAAANSUhEUgAAAAUAAAAFCAIAAAACDbGyAAAAUUlEQVR4XgXByQmAMBAAwOwFYTfamZ3YiS369qkIQu7EGTj2bQnBzER8zIXf67x7UzVAARImrzhHc0DggikyweiV0OFo+XtYZeU5UyqxtuHmDxBjH2WWYmL0AAAAAElFTkSuQmCC",
         "type": "image",
         "xaxis": "x52",
         "yaxis": "y52"
        },
        {
         "hovertemplate": "x: %{x}<br>y: %{y}<br>color: %{z}<extra></extra>",
         "name": "24",
         "source": "data:image/png;base64,iVBORw0KGgoAAAANSUhEUgAAAAUAAAAFCAIAAAACDbGyAAAAUklEQVR4XgXByxGAIAwFwORB/BAbtBNLsSjvnq1AD8wACsFd3rdVVUWmVN7O8Nd5hKAMYScEQMJSCcY0a2hmsPY5EKyWeFPNXocx5zd91ag/Mf8lOCIN+txxlwAAAABJRU5ErkJggg==",
         "type": "image",
         "xaxis": "x53",
         "yaxis": "y53"
        },
        {
         "hovertemplate": "x: %{x}<br>y: %{y}<br>color: %{z}<extra></extra>",
         "name": "25",
         "source": "data:image/png;base64,iVBORw0KGgoAAAANSUhEUgAAAAUAAAAFCAIAAAACDbGyAAAAUklEQVR4XgXByRWAIAwFwOQDz61NO7EU2/Hs2Q7kwGMxITjD57GHMJf2DQbB++e+GIFdICBXgRKMadnWbiYq3oFg2tJLfUyOfG9SRI1GTDVm+QEN6Ceg0Z4XSwAAAABJRU5ErkJggg==",
         "type": "image",
         "xaxis": "x54",
         "yaxis": "y54"
        },
        {
         "hovertemplate": "x: %{x}<br>y: %{y}<br>color: %{z}<extra></extra>",
         "name": "26",
         "source": "data:image/png;base64,iVBORw0KGgoAAAANSUhEUgAAAAUAAAAFCAIAAAACDbGyAAAAUUlEQVR4XgXBwRWAIAgAUEB6vWrVBmmUVunctR3yoCaC2P94HvsnbSABcZPGz31hmICoVDVVcoRlW7u7miICk5ukF/qYA5g751wdRkw1Fk3Ffp8XL03xbu6BAAAAAElFTkSuQmCC",
         "type": "image",
         "xaxis": "x55",
         "yaxis": "y55"
        },
        {
         "hovertemplate": "x: %{x}<br>y: %{y}<br>color: %{z}<extra></extra>",
         "name": "27",
         "source": "data:image/png;base64,iVBORw0KGgoAAAANSUhEUgAAAAUAAAAFCAIAAAACDbGyAAAAUklEQVR4XgXBwQ2AIAwAwLY0Ieqe7uEkLuXXr18BgQAt4B2exz6RgLjVphP5uS8gykVUxLClZVv7GKKCCF/wXOMLfVoDOoZPlV1ILhaXJWYtQj/EIjEUfqBV3AAAAABJRU5ErkJggg==",
         "type": "image",
         "xaxis": "x56",
         "yaxis": "y56"
        },
        {
         "hovertemplate": "x: %{x}<br>y: %{y}<br>color: %{z}<extra></extra>",
         "name": "28",
         "source": "data:image/png;base64,iVBORw0KGgoAAAANSUhEUgAAAAUAAAAFCAIAAAACDbGyAAAAVElEQVR4XgXBOw6AIAwAULAlbWMQ5KMmDuqg9z8Yg6ODoO9pn9JdSmB1RD4Xi4Jakdoi77ObckDWr7V4rWMUMO3BkVCIXC95MLVVzJ6tAWbo4BORHw0WDP31rtPYAAAAAElFTkSuQmCC",
         "type": "image",
         "xaxis": "x",
         "yaxis": "y"
        },
        {
         "hovertemplate": "x: %{x}<br>y: %{y}<br>color: %{z}<extra></extra>",
         "name": "29",
         "source": "data:image/png;base64,iVBORw0KGgoAAAANSUhEUgAAAAUAAAAFCAIAAAACDbGyAAAAVUlEQVR4XgXBzRJAIBAA4KVt7Ep+agrjUA68/5M5ORgU31cAgCFYLW2TjsFjX0GwFMfOO8O1Qq9xXwbLQubrPG50TdUpdq1MOSUAnJ0mEqX4mPl50w+tOhAxTfCMpwAAAABJRU5ErkJggg==",
         "type": "image",
         "xaxis": "x2",
         "yaxis": "y2"
        },
        {
         "hovertemplate": "x: %{x}<br>y: %{y}<br>color: %{z}<extra></extra>",
         "name": "30",
         "source": "data:image/png;base64,iVBORw0KGgoAAAANSUhEUgAAAAUAAAAFCAIAAAACDbGyAAAAU0lEQVR4XgXBwQ5AMAwA0HbtoiWILUPigAP//2VODoKO9zAIrFG2sV7mXgrHc5RlaPsUtKwQkfepi0o+X+dxW3bcVpoab9kMgJhYhBx9qvq8lgF/FEsSql/IAdoAAAAASUVORK5CYII=",
         "type": "image",
         "xaxis": "x3",
         "yaxis": "y3"
        },
        {
         "hovertemplate": "x: %{x}<br>y: %{y}<br>color: %{z}<extra></extra>",
         "name": "31",
         "source": "data:image/png;base64,iVBORw0KGgoAAAANSUhEUgAAAAUAAAAFCAIAAAACDbGyAAAAVklEQVR4XgXBSw5AQAwA0LZToSZCJD6Jhdk4gftfyUoYQ6few32ptrkJ61iVZGocpnYceqk9It5P5KkpihzPI2mm+/p46LxmVQDHDoiYnInI+2kGNEs/6VAdwmMRdcAAAAAASUVORK5CYII=",
         "type": "image",
         "xaxis": "x4",
         "yaxis": "y4"
        },
        {
         "hovertemplate": "x: %{x}<br>y: %{y}<br>color: %{z}<extra></extra>",
         "name": "32",
         "source": "data:image/png;base64,iVBORw0KGgoAAAANSUhEUgAAAAUAAAAFCAIAAAACDbGyAAAAUUlEQVR4XgXBuxWAIAwAwCREELFUWt3BZdx/ACuffEO8w/vazyPOjlRU0XLcN78EREwl51Z4Gvl9qgxKXycL7J0RAMMGiMpovAbfugxA1Vq7/s2yIyIfInlpAAAAAElFTkSuQmCC",
         "type": "image",
         "xaxis": "x5",
         "yaxis": "y5"
        },
        {
         "hovertemplate": "x: %{x}<br>y: %{y}<br>color: %{z}<extra></extra>",
         "name": "33",
         "source": "data:image/png;base64,iVBORw0KGgoAAAANSUhEUgAAAAUAAAAFCAIAAAACDbGyAAAATklEQVR4XgXB2w2AIBAEQPbYoKIx9mE3VmPT+mV4wzmD+zrnSbSrwoVUuPgVQMwp1awAv/fpQ2Jo4sx+bKSFpTUieVSS9JMbBqqlNO2l/nejI+cGebCJAAAAAElFTkSuQmCC",
         "type": "image",
         "xaxis": "x6",
         "yaxis": "y6"
        },
        {
         "hovertemplate": "x: %{x}<br>y: %{y}<br>color: %{z}<extra></extra>",
         "name": "34",
         "source": "data:image/png;base64,iVBORw0KGgoAAAANSUhEUgAAAAUAAAAFCAIAAAACDbGyAAAAT0lEQVR4XgXB2QmAMBAFwGzyWImI2IgF2Y39CuJXjs3xnJH7OjlI0VQs5QqPNddSWqWIxojveXPqXt1+bNAFqsF5X2cDAE5EDaRZ57A22X5VMyjULcliCgAAAABJRU5ErkJggg==",
         "type": "image",
         "xaxis": "x7",
         "yaxis": "y7"
        },
        {
         "hovertemplate": "x: %{x}<br>y: %{y}<br>color: %{z}<extra></extra>",
         "name": "35",
         "source": "data:image/png;base64,iVBORw0KGgoAAAANSUhEUgAAAAUAAAAFCAIAAAACDbGyAAAAT0lEQVR4XgXByRGAMAgAwJAgDqN2Yj22Y8M+HB85IIC7cF9nANUutQ01R5ml6wgAYk4z8vt80ioTHNtakmbeKSEgIobbaLgUlxkm6qFh8gOmKSupNX2jeQAAAABJRU5ErkJggg==",
         "type": "image",
         "xaxis": "x8",
         "yaxis": "y8"
        },
        {
         "hovertemplate": "x: %{x}<br>y: %{y}<br>color: %{z}<extra></extra>",
         "name": "36",
         "source": "data:image/png;base64,iVBORw0KGgoAAAANSUhEUgAAAAUAAAAFCAIAAAACDbGyAAAAS0lEQVR4XgXBgQ2AMAgEwGI/1ca4jMu4jUubUCnCeyf3deo7dZhHogoeNYq03stHpi1zaG9y7GstvqGgQACAGTZYF0gypiedMYn2A1XZKNkpiAEAAAAAAElFTkSuQmCC",
         "type": "image",
         "xaxis": "x9",
         "yaxis": "y9"
        },
        {
         "hovertemplate": "x: %{x}<br>y: %{y}<br>color: %{z}<extra></extra>",
         "name": "37",
         "source": "data:image/png;base64,iVBORw0KGgoAAAANSUhEUgAAAAUAAAAFCAIAAAACDbGyAAAAUUlEQVR4XgXBWwqAIBQFQM2DqSGB62gvbaZV+xVEiY/raUZf5/GV2mXCaAdiUFnv1SBn3VNYvNVxW43qDirFAADglFpolpxvSOuTndII+7T3Bz3HJgzfc7MLAAAAAElFTkSuQmCC",
         "type": "image",
         "xaxis": "x10",
         "yaxis": "y10"
        },
        {
         "hovertemplate": "x: %{x}<br>y: %{y}<br>color: %{z}<extra></extra>",
         "name": "38",
         "source": "data:image/png;base64,iVBORw0KGgoAAAANSUhEUgAAAAUAAAAFCAIAAAACDbGyAAAAUklEQVR4XgXB0Q2AIAwFQJAXBAwxYQdXcRhH58tEjUJp65099o1Y4GyAjiHwMZqhKm0taZBOeZmdoQBTcoowgAq3V91U68nE6N+t3BX+6g+z+wGc6ijchISB5wAAAABJRU5ErkJggg==",
         "type": "image",
         "xaxis": "x11",
         "yaxis": "y11"
        },
        {
         "hovertemplate": "x: %{x}<br>y: %{y}<br>color: %{z}<extra></extra>",
         "name": "39",
         "source": "data:image/png;base64,iVBORw0KGgoAAAANSUhEUgAAAAUAAAAFCAIAAAACDbGyAAAAUklEQVR4XgXBWwqAIBAFUHWuoUIEbqGltJY271cgWj7G6Rx9XydIO8iciwxgXZDVjhjmkM16Q2o4qLgHD8VfAbdXyKT08OBcK4S7YMu9MFPl9QPa3CexmBoaHAAAAABJRU5ErkJggg==",
         "type": "image",
         "xaxis": "x12",
         "yaxis": "y12"
        },
        {
         "hovertemplate": "x: %{x}<br>y: %{y}<br>color: %{z}<extra></extra>",
         "name": "40",
         "source": "data:image/png;base64,iVBORw0KGgoAAAANSUhEUgAAAAUAAAAFCAIAAAACDbGyAAAAUklEQVR4XgXBWwqAIBAF0FGnfEAErqG1tJe27pcgWqh37Bz13JfjNacYzdZaJqPPGOZY++YB0o4pHsEz4atvyTz6SCljoLTW0HkpKb0CpkEm5Acagit2JqSfwwAAAABJRU5ErkJggg==",
         "type": "image",
         "xaxis": "x13",
         "yaxis": "y13"
        },
        {
         "hovertemplate": "x: %{x}<br>y: %{y}<br>color: %{z}<extra></extra>",
         "name": "41",
         "source": "data:image/png;base64,iVBORw0KGgoAAAANSUhEUgAAAAUAAAAFCAIAAAACDbGyAAAAUklEQVR4XgXB0Q2AIAwFQJEKwYgmrOA2buPafBlJKwEeeKfu62yt65mstZKZjuBbHWZxwKSNpeDX9HLJ/OU6JkUxPqhIIoKyuZ1SYUALekNPXH8u/C9P0STQgAAAAABJRU5ErkJggg==",
         "type": "image",
         "xaxis": "x14",
         "yaxis": "y14"
        },
        {
         "hovertemplate": "x: %{x}<br>y: %{y}<br>color: %{z}<extra></extra>",
         "name": "42",
         "source": "data:image/png;base64,iVBORw0KGgoAAAANSUhEUgAAAAUAAAAFCAIAAAACDbGyAAAAU0lEQVR4XgXB2w2AIAwAwCLVhkAwjuAybuPY/vqD1PIoemfOY7cTEhFL7qPiusVldqpgFypV0CFUya+0D0zwHp8kiZm1BhehKKbeWEfXkXK77vwDjYUsU3JGZxYAAAAASUVORK5CYII=",
         "type": "image",
         "xaxis": "x15",
         "yaxis": "y15"
        },
        {
         "hovertemplate": "x: %{x}<br>y: %{y}<br>color: %{z}<extra></extra>",
         "name": "43",
         "source": "data:image/png;base64,iVBORw0KGgoAAAANSUhEUgAAAAUAAAAFCAIAAAACDbGyAAAAVUlEQVR4XgXBwQ2AIAwAQJAqMRAfygru4jgu7VNDYoBCafVOn8durc2YurQQNljDxqzMZGtD6hoYU0H6lPbOUStwx5i5+XlRlY0SyCyd5U10PWkc5Adg9y2KTPgBUAAAAABJRU5ErkJggg==",
         "type": "image",
         "xaxis": "x16",
         "yaxis": "y16"
        },
        {
         "hovertemplate": "x: %{x}<br>y: %{y}<br>color: %{z}<extra></extra>",
         "name": "44",
         "source": "data:image/png;base64,iVBORw0KGgoAAAANSUhEUgAAAAUAAAAFCAIAAAACDbGyAAAAVUlEQVR4XgXBUQ5AMAwAUO1qE8SPHcNdHMeJ/QkSim1d5z1Y5un5WDR6P6KpqGl7Y12IXxJoraP3OksFfdel+GIm3PgIKk/IWhShkGS9OK0716jDDT8KNSuCaffx8QAAAABJRU5ErkJggg==",
         "type": "image",
         "xaxis": "x17",
         "yaxis": "y17"
        },
        {
         "hovertemplate": "x: %{x}<br>y: %{y}<br>color: %{z}<extra></extra>",
         "name": "45",
         "source": "data:image/png;base64,iVBORw0KGgoAAAANSUhEUgAAAAUAAAAFCAIAAAACDbGyAAAAVklEQVR4XgXBSxJAMAwA0Captr4LXMBpnMaxzVgYG99IWt6DaRw0vX3fIRlhtnXT8vuIQuG8LXOU+6pCjqoYoyOynNRwJJMQPvLB7qfM25lhag6QZf0BWREkzHoA+IQAAAAASUVORK5CYII=",
         "type": "image",
         "xaxis": "x18",
         "yaxis": "y18"
        },
        {
         "hovertemplate": "x: %{x}<br>y: %{y}<br>color: %{z}<extra></extra>",
         "name": "46",
         "source": "data:image/png;base64,iVBORw0KGgoAAAANSUhEUgAAAAUAAAAFCAIAAAACDbGyAAAAVklEQVR4XgXBOw6AIAwAUFsQChpjIpvn8TBe2pnBxcRPSFvwPdi3NaUFTcelBEs2xpkFovN2COQ8jhRQBFWdMaqMb9HaKkIznljAHvnpsU43cD6/6/0B7Z4g8J0ST2QAAAAASUVORK5CYII=",
         "type": "image",
         "xaxis": "x19",
         "yaxis": "y19"
        },
        {
         "hovertemplate": "x: %{x}<br>y: %{y}<br>color: %{z}<extra></extra>",
         "name": "47",
         "source": "data:image/png;base64,iVBORw0KGgoAAAANSUhEUgAAAAUAAAAFCAIAAAACDbGyAAAAVklEQVR4XgXBOQqAMBAAQPcwl5DK2sra//gY/2opYiN4EHeTOAPLPCE1kpJnl9LHohCM5c47YxVuRFXM2RDlLEyApRaEStaJQmgjr7vEC2Q73vMZ+vEH79AiIfckhFUAAAAASUVORK5CYII=",
         "type": "image",
         "xaxis": "x20",
         "yaxis": "y20"
        },
        {
         "hovertemplate": "x: %{x}<br>y: %{y}<br>color: %{z}<extra></extra>",
         "name": "48",
         "source": "data:image/png;base64,iVBORw0KGgoAAAANSUhEUgAAAAUAAAAFCAIAAAACDbGyAAAAV0lEQVR4XgXBORJAMBQA0PmLLDKjMiqjUjuRu7iqjkKjsMTPT7wHyzxJjJ5djJ9qYiLHwTtjE1xYMqKqIVIVJsgqiFDIOklQV00wltftlf14zntox67rf4P+Im2zpP0qAAAAAElFTkSuQmCC",
         "type": "image",
         "xaxis": "x21",
         "yaxis": "y21"
        },
        {
         "hovertemplate": "x: %{x}<br>y: %{y}<br>color: %{z}<extra></extra>",
         "name": "49",
         "source": "data:image/png;base64,iVBORw0KGgoAAAANSUhEUgAAAAUAAAAFCAIAAAACDbGyAAAAWUlEQVR4XgXBSw5AMBAA0M5M9RtiIV2JlcSJXMY9rVzBpguk2invwbYuVpqUXubinJfW90bpAhd+tQhARcScJUHlTCiQtMkFXNN5pTlluR/nE+9pmEMYoY0/vFIejIfCN0UAAAAASUVORK5CYII=",
         "type": "image",
         "xaxis": "x22",
         "yaxis": "y22"
        },
        {
         "hovertemplate": "x: %{x}<br>y: %{y}<br>color: %{z}<extra></extra>",
         "name": "50",
         "source": "data:image/png;base64,iVBORw0KGgoAAAANSUhEUgAAAAUAAAAFCAIAAAACDbGyAAAAVElEQVR4XgXBQRJAMAwAwCZNDTXl4OoP3uM93mh8AXejlaSxC9u6lPKpSow9YKA2jQIPWhUHHhyqMnmoyh4dViEWiGEgs5y/lwX3477OJtDcpcmAfpEbI9omKabKAAAAAElFTkSuQmCC",
         "type": "image",
         "xaxis": "x23",
         "yaxis": "y23"
        },
        {
         "hovertemplate": "x: %{x}<br>y: %{y}<br>color: %{z}<extra></extra>",
         "name": "51",
         "source": "data:image/png;base64,iVBORw0KGgoAAAANSUhEUgAAAAUAAAAFCAIAAAACDbGyAAAAUklEQVR4XgXBSRJAMBAAwNmimODi6gO+4z0ezMklSmQb3XjsW61F1SM5ZCfcK1krgIwweiVhbDUzAbXyhVvUzWIWY3pzaWB0nZ2TdZgWQwlP+gEncR88BTpgRwAAAABJRU5ErkJggg==",
         "type": "image",
         "xaxis": "x24",
         "yaxis": "y24"
        }
       ],
       "layout": {
        "annotations": [
         {
          "font": {},
          "showarrow": false,
          "text": "facet_col=28",
          "x": 0.008214285714285714,
          "xanchor": "center",
          "xref": "paper",
          "y": 0.46499999999999997,
          "yanchor": "bottom",
          "yref": "paper"
         },
         {
          "font": {},
          "showarrow": false,
          "text": "facet_col=29",
          "x": 0.04464285714285714,
          "xanchor": "center",
          "xref": "paper",
          "y": 0.46499999999999997,
          "yanchor": "bottom",
          "yref": "paper"
         },
         {
          "font": {},
          "showarrow": false,
          "text": "facet_col=30",
          "x": 0.08107142857142857,
          "xanchor": "center",
          "xref": "paper",
          "y": 0.46499999999999997,
          "yanchor": "bottom",
          "yref": "paper"
         },
         {
          "font": {},
          "showarrow": false,
          "text": "facet_col=31",
          "x": 0.1175,
          "xanchor": "center",
          "xref": "paper",
          "y": 0.46499999999999997,
          "yanchor": "bottom",
          "yref": "paper"
         },
         {
          "font": {},
          "showarrow": false,
          "text": "facet_col=32",
          "x": 0.15392857142857141,
          "xanchor": "center",
          "xref": "paper",
          "y": 0.46499999999999997,
          "yanchor": "bottom",
          "yref": "paper"
         },
         {
          "font": {},
          "showarrow": false,
          "text": "facet_col=33",
          "x": 0.1903571428571429,
          "xanchor": "center",
          "xref": "paper",
          "y": 0.46499999999999997,
          "yanchor": "bottom",
          "yref": "paper"
         },
         {
          "font": {},
          "showarrow": false,
          "text": "facet_col=34",
          "x": 0.22678571428571426,
          "xanchor": "center",
          "xref": "paper",
          "y": 0.46499999999999997,
          "yanchor": "bottom",
          "yref": "paper"
         },
         {
          "font": {},
          "showarrow": false,
          "text": "facet_col=35",
          "x": 0.26321428571428573,
          "xanchor": "center",
          "xref": "paper",
          "y": 0.46499999999999997,
          "yanchor": "bottom",
          "yref": "paper"
         },
         {
          "font": {},
          "showarrow": false,
          "text": "facet_col=36",
          "x": 0.2996428571428571,
          "xanchor": "center",
          "xref": "paper",
          "y": 0.46499999999999997,
          "yanchor": "bottom",
          "yref": "paper"
         },
         {
          "font": {},
          "showarrow": false,
          "text": "facet_col=37",
          "x": 0.3360714285714286,
          "xanchor": "center",
          "xref": "paper",
          "y": 0.46499999999999997,
          "yanchor": "bottom",
          "yref": "paper"
         },
         {
          "font": {},
          "showarrow": false,
          "text": "facet_col=38",
          "x": 0.37250000000000005,
          "xanchor": "center",
          "xref": "paper",
          "y": 0.46499999999999997,
          "yanchor": "bottom",
          "yref": "paper"
         },
         {
          "font": {},
          "showarrow": false,
          "text": "facet_col=39",
          "x": 0.4089285714285714,
          "xanchor": "center",
          "xref": "paper",
          "y": 0.46499999999999997,
          "yanchor": "bottom",
          "yref": "paper"
         },
         {
          "font": {},
          "showarrow": false,
          "text": "facet_col=40",
          "x": 0.4453571428571428,
          "xanchor": "center",
          "xref": "paper",
          "y": 0.46499999999999997,
          "yanchor": "bottom",
          "yref": "paper"
         },
         {
          "font": {},
          "showarrow": false,
          "text": "facet_col=41",
          "x": 0.48178571428571426,
          "xanchor": "center",
          "xref": "paper",
          "y": 0.46499999999999997,
          "yanchor": "bottom",
          "yref": "paper"
         },
         {
          "font": {},
          "showarrow": false,
          "text": "facet_col=42",
          "x": 0.5182142857142857,
          "xanchor": "center",
          "xref": "paper",
          "y": 0.46499999999999997,
          "yanchor": "bottom",
          "yref": "paper"
         },
         {
          "font": {},
          "showarrow": false,
          "text": "facet_col=43",
          "x": 0.5546428571428571,
          "xanchor": "center",
          "xref": "paper",
          "y": 0.46499999999999997,
          "yanchor": "bottom",
          "yref": "paper"
         },
         {
          "font": {},
          "showarrow": false,
          "text": "facet_col=44",
          "x": 0.5910714285714286,
          "xanchor": "center",
          "xref": "paper",
          "y": 0.46499999999999997,
          "yanchor": "bottom",
          "yref": "paper"
         },
         {
          "font": {},
          "showarrow": false,
          "text": "facet_col=45",
          "x": 0.6275,
          "xanchor": "center",
          "xref": "paper",
          "y": 0.46499999999999997,
          "yanchor": "bottom",
          "yref": "paper"
         },
         {
          "font": {},
          "showarrow": false,
          "text": "facet_col=46",
          "x": 0.6639285714285714,
          "xanchor": "center",
          "xref": "paper",
          "y": 0.46499999999999997,
          "yanchor": "bottom",
          "yref": "paper"
         },
         {
          "font": {},
          "showarrow": false,
          "text": "facet_col=47",
          "x": 0.7003571428571429,
          "xanchor": "center",
          "xref": "paper",
          "y": 0.46499999999999997,
          "yanchor": "bottom",
          "yref": "paper"
         },
         {
          "font": {},
          "showarrow": false,
          "text": "facet_col=48",
          "x": 0.7367857142857144,
          "xanchor": "center",
          "xref": "paper",
          "y": 0.46499999999999997,
          "yanchor": "bottom",
          "yref": "paper"
         },
         {
          "font": {},
          "showarrow": false,
          "text": "facet_col=49",
          "x": 0.7732142857142856,
          "xanchor": "center",
          "xref": "paper",
          "y": 0.46499999999999997,
          "yanchor": "bottom",
          "yref": "paper"
         },
         {
          "font": {},
          "showarrow": false,
          "text": "facet_col=50",
          "x": 0.8096428571428571,
          "xanchor": "center",
          "xref": "paper",
          "y": 0.46499999999999997,
          "yanchor": "bottom",
          "yref": "paper"
         },
         {
          "font": {},
          "showarrow": false,
          "text": "facet_col=51",
          "x": 0.8460714285714286,
          "xanchor": "center",
          "xref": "paper",
          "y": 0.46499999999999997,
          "yanchor": "bottom",
          "yref": "paper"
         },
         {
          "font": {},
          "showarrow": false,
          "text": "facet_col=0",
          "x": 0.008214285714285714,
          "xanchor": "center",
          "xref": "paper",
          "y": 0.9999999999999999,
          "yanchor": "bottom",
          "yref": "paper"
         },
         {
          "font": {},
          "showarrow": false,
          "text": "facet_col=1",
          "x": 0.04464285714285714,
          "xanchor": "center",
          "xref": "paper",
          "y": 0.9999999999999999,
          "yanchor": "bottom",
          "yref": "paper"
         },
         {
          "font": {},
          "showarrow": false,
          "text": "facet_col=2",
          "x": 0.08107142857142857,
          "xanchor": "center",
          "xref": "paper",
          "y": 0.9999999999999999,
          "yanchor": "bottom",
          "yref": "paper"
         },
         {
          "font": {},
          "showarrow": false,
          "text": "facet_col=3",
          "x": 0.1175,
          "xanchor": "center",
          "xref": "paper",
          "y": 0.9999999999999999,
          "yanchor": "bottom",
          "yref": "paper"
         },
         {
          "font": {},
          "showarrow": false,
          "text": "facet_col=4",
          "x": 0.15392857142857141,
          "xanchor": "center",
          "xref": "paper",
          "y": 0.9999999999999999,
          "yanchor": "bottom",
          "yref": "paper"
         },
         {
          "font": {},
          "showarrow": false,
          "text": "facet_col=5",
          "x": 0.1903571428571429,
          "xanchor": "center",
          "xref": "paper",
          "y": 0.9999999999999999,
          "yanchor": "bottom",
          "yref": "paper"
         },
         {
          "font": {},
          "showarrow": false,
          "text": "facet_col=6",
          "x": 0.22678571428571426,
          "xanchor": "center",
          "xref": "paper",
          "y": 0.9999999999999999,
          "yanchor": "bottom",
          "yref": "paper"
         },
         {
          "font": {},
          "showarrow": false,
          "text": "facet_col=7",
          "x": 0.26321428571428573,
          "xanchor": "center",
          "xref": "paper",
          "y": 0.9999999999999999,
          "yanchor": "bottom",
          "yref": "paper"
         },
         {
          "font": {},
          "showarrow": false,
          "text": "facet_col=8",
          "x": 0.2996428571428571,
          "xanchor": "center",
          "xref": "paper",
          "y": 0.9999999999999999,
          "yanchor": "bottom",
          "yref": "paper"
         },
         {
          "font": {},
          "showarrow": false,
          "text": "facet_col=9",
          "x": 0.3360714285714286,
          "xanchor": "center",
          "xref": "paper",
          "y": 0.9999999999999999,
          "yanchor": "bottom",
          "yref": "paper"
         },
         {
          "font": {},
          "showarrow": false,
          "text": "facet_col=10",
          "x": 0.37250000000000005,
          "xanchor": "center",
          "xref": "paper",
          "y": 0.9999999999999999,
          "yanchor": "bottom",
          "yref": "paper"
         },
         {
          "font": {},
          "showarrow": false,
          "text": "facet_col=11",
          "x": 0.4089285714285714,
          "xanchor": "center",
          "xref": "paper",
          "y": 0.9999999999999999,
          "yanchor": "bottom",
          "yref": "paper"
         },
         {
          "font": {},
          "showarrow": false,
          "text": "facet_col=12",
          "x": 0.4453571428571428,
          "xanchor": "center",
          "xref": "paper",
          "y": 0.9999999999999999,
          "yanchor": "bottom",
          "yref": "paper"
         },
         {
          "font": {},
          "showarrow": false,
          "text": "facet_col=13",
          "x": 0.48178571428571426,
          "xanchor": "center",
          "xref": "paper",
          "y": 0.9999999999999999,
          "yanchor": "bottom",
          "yref": "paper"
         },
         {
          "font": {},
          "showarrow": false,
          "text": "facet_col=14",
          "x": 0.5182142857142857,
          "xanchor": "center",
          "xref": "paper",
          "y": 0.9999999999999999,
          "yanchor": "bottom",
          "yref": "paper"
         },
         {
          "font": {},
          "showarrow": false,
          "text": "facet_col=15",
          "x": 0.5546428571428571,
          "xanchor": "center",
          "xref": "paper",
          "y": 0.9999999999999999,
          "yanchor": "bottom",
          "yref": "paper"
         },
         {
          "font": {},
          "showarrow": false,
          "text": "facet_col=16",
          "x": 0.5910714285714286,
          "xanchor": "center",
          "xref": "paper",
          "y": 0.9999999999999999,
          "yanchor": "bottom",
          "yref": "paper"
         },
         {
          "font": {},
          "showarrow": false,
          "text": "facet_col=17",
          "x": 0.6275,
          "xanchor": "center",
          "xref": "paper",
          "y": 0.9999999999999999,
          "yanchor": "bottom",
          "yref": "paper"
         },
         {
          "font": {},
          "showarrow": false,
          "text": "facet_col=18",
          "x": 0.6639285714285714,
          "xanchor": "center",
          "xref": "paper",
          "y": 0.9999999999999999,
          "yanchor": "bottom",
          "yref": "paper"
         },
         {
          "font": {},
          "showarrow": false,
          "text": "facet_col=19",
          "x": 0.7003571428571429,
          "xanchor": "center",
          "xref": "paper",
          "y": 0.9999999999999999,
          "yanchor": "bottom",
          "yref": "paper"
         },
         {
          "font": {},
          "showarrow": false,
          "text": "facet_col=20",
          "x": 0.7367857142857144,
          "xanchor": "center",
          "xref": "paper",
          "y": 0.9999999999999999,
          "yanchor": "bottom",
          "yref": "paper"
         },
         {
          "font": {},
          "showarrow": false,
          "text": "facet_col=21",
          "x": 0.7732142857142856,
          "xanchor": "center",
          "xref": "paper",
          "y": 0.9999999999999999,
          "yanchor": "bottom",
          "yref": "paper"
         },
         {
          "font": {},
          "showarrow": false,
          "text": "facet_col=22",
          "x": 0.8096428571428571,
          "xanchor": "center",
          "xref": "paper",
          "y": 0.9999999999999999,
          "yanchor": "bottom",
          "yref": "paper"
         },
         {
          "font": {},
          "showarrow": false,
          "text": "facet_col=23",
          "x": 0.8460714285714286,
          "xanchor": "center",
          "xref": "paper",
          "y": 0.9999999999999999,
          "yanchor": "bottom",
          "yref": "paper"
         },
         {
          "font": {},
          "showarrow": false,
          "text": "facet_col=24",
          "x": 0.8825,
          "xanchor": "center",
          "xref": "paper",
          "y": 0.9999999999999999,
          "yanchor": "bottom",
          "yref": "paper"
         },
         {
          "font": {},
          "showarrow": false,
          "text": "facet_col=25",
          "x": 0.9189285714285714,
          "xanchor": "center",
          "xref": "paper",
          "y": 0.9999999999999999,
          "yanchor": "bottom",
          "yref": "paper"
         },
         {
          "font": {},
          "showarrow": false,
          "text": "facet_col=26",
          "x": 0.9553571428571428,
          "xanchor": "center",
          "xref": "paper",
          "y": 0.9999999999999999,
          "yanchor": "bottom",
          "yref": "paper"
         },
         {
          "font": {},
          "showarrow": false,
          "text": "facet_col=27",
          "x": 0.9917857142857143,
          "xanchor": "center",
          "xref": "paper",
          "y": 0.9999999999999999,
          "yanchor": "bottom",
          "yref": "paper"
         }
        ],
        "height": 1000,
        "margin": {
         "t": 60
        },
        "template": {
         "data": {
          "bar": [
           {
            "error_x": {
             "color": "#2a3f5f"
            },
            "error_y": {
             "color": "#2a3f5f"
            },
            "marker": {
             "line": {
              "color": "#E5ECF6",
              "width": 0.5
             },
             "pattern": {
              "fillmode": "overlay",
              "size": 10,
              "solidity": 0.2
             }
            },
            "type": "bar"
           }
          ],
          "barpolar": [
           {
            "marker": {
             "line": {
              "color": "#E5ECF6",
              "width": 0.5
             },
             "pattern": {
              "fillmode": "overlay",
              "size": 10,
              "solidity": 0.2
             }
            },
            "type": "barpolar"
           }
          ],
          "carpet": [
           {
            "aaxis": {
             "endlinecolor": "#2a3f5f",
             "gridcolor": "white",
             "linecolor": "white",
             "minorgridcolor": "white",
             "startlinecolor": "#2a3f5f"
            },
            "baxis": {
             "endlinecolor": "#2a3f5f",
             "gridcolor": "white",
             "linecolor": "white",
             "minorgridcolor": "white",
             "startlinecolor": "#2a3f5f"
            },
            "type": "carpet"
           }
          ],
          "choropleth": [
           {
            "colorbar": {
             "outlinewidth": 0,
             "ticks": ""
            },
            "type": "choropleth"
           }
          ],
          "contour": [
           {
            "colorbar": {
             "outlinewidth": 0,
             "ticks": ""
            },
            "colorscale": [
             [
              0,
              "#0d0887"
             ],
             [
              0.1111111111111111,
              "#46039f"
             ],
             [
              0.2222222222222222,
              "#7201a8"
             ],
             [
              0.3333333333333333,
              "#9c179e"
             ],
             [
              0.4444444444444444,
              "#bd3786"
             ],
             [
              0.5555555555555556,
              "#d8576b"
             ],
             [
              0.6666666666666666,
              "#ed7953"
             ],
             [
              0.7777777777777778,
              "#fb9f3a"
             ],
             [
              0.8888888888888888,
              "#fdca26"
             ],
             [
              1,
              "#f0f921"
             ]
            ],
            "type": "contour"
           }
          ],
          "contourcarpet": [
           {
            "colorbar": {
             "outlinewidth": 0,
             "ticks": ""
            },
            "type": "contourcarpet"
           }
          ],
          "heatmap": [
           {
            "colorbar": {
             "outlinewidth": 0,
             "ticks": ""
            },
            "colorscale": [
             [
              0,
              "#0d0887"
             ],
             [
              0.1111111111111111,
              "#46039f"
             ],
             [
              0.2222222222222222,
              "#7201a8"
             ],
             [
              0.3333333333333333,
              "#9c179e"
             ],
             [
              0.4444444444444444,
              "#bd3786"
             ],
             [
              0.5555555555555556,
              "#d8576b"
             ],
             [
              0.6666666666666666,
              "#ed7953"
             ],
             [
              0.7777777777777778,
              "#fb9f3a"
             ],
             [
              0.8888888888888888,
              "#fdca26"
             ],
             [
              1,
              "#f0f921"
             ]
            ],
            "type": "heatmap"
           }
          ],
          "heatmapgl": [
           {
            "colorbar": {
             "outlinewidth": 0,
             "ticks": ""
            },
            "colorscale": [
             [
              0,
              "#0d0887"
             ],
             [
              0.1111111111111111,
              "#46039f"
             ],
             [
              0.2222222222222222,
              "#7201a8"
             ],
             [
              0.3333333333333333,
              "#9c179e"
             ],
             [
              0.4444444444444444,
              "#bd3786"
             ],
             [
              0.5555555555555556,
              "#d8576b"
             ],
             [
              0.6666666666666666,
              "#ed7953"
             ],
             [
              0.7777777777777778,
              "#fb9f3a"
             ],
             [
              0.8888888888888888,
              "#fdca26"
             ],
             [
              1,
              "#f0f921"
             ]
            ],
            "type": "heatmapgl"
           }
          ],
          "histogram": [
           {
            "marker": {
             "pattern": {
              "fillmode": "overlay",
              "size": 10,
              "solidity": 0.2
             }
            },
            "type": "histogram"
           }
          ],
          "histogram2d": [
           {
            "colorbar": {
             "outlinewidth": 0,
             "ticks": ""
            },
            "colorscale": [
             [
              0,
              "#0d0887"
             ],
             [
              0.1111111111111111,
              "#46039f"
             ],
             [
              0.2222222222222222,
              "#7201a8"
             ],
             [
              0.3333333333333333,
              "#9c179e"
             ],
             [
              0.4444444444444444,
              "#bd3786"
             ],
             [
              0.5555555555555556,
              "#d8576b"
             ],
             [
              0.6666666666666666,
              "#ed7953"
             ],
             [
              0.7777777777777778,
              "#fb9f3a"
             ],
             [
              0.8888888888888888,
              "#fdca26"
             ],
             [
              1,
              "#f0f921"
             ]
            ],
            "type": "histogram2d"
           }
          ],
          "histogram2dcontour": [
           {
            "colorbar": {
             "outlinewidth": 0,
             "ticks": ""
            },
            "colorscale": [
             [
              0,
              "#0d0887"
             ],
             [
              0.1111111111111111,
              "#46039f"
             ],
             [
              0.2222222222222222,
              "#7201a8"
             ],
             [
              0.3333333333333333,
              "#9c179e"
             ],
             [
              0.4444444444444444,
              "#bd3786"
             ],
             [
              0.5555555555555556,
              "#d8576b"
             ],
             [
              0.6666666666666666,
              "#ed7953"
             ],
             [
              0.7777777777777778,
              "#fb9f3a"
             ],
             [
              0.8888888888888888,
              "#fdca26"
             ],
             [
              1,
              "#f0f921"
             ]
            ],
            "type": "histogram2dcontour"
           }
          ],
          "mesh3d": [
           {
            "colorbar": {
             "outlinewidth": 0,
             "ticks": ""
            },
            "type": "mesh3d"
           }
          ],
          "parcoords": [
           {
            "line": {
             "colorbar": {
              "outlinewidth": 0,
              "ticks": ""
             }
            },
            "type": "parcoords"
           }
          ],
          "pie": [
           {
            "automargin": true,
            "type": "pie"
           }
          ],
          "scatter": [
           {
            "fillpattern": {
             "fillmode": "overlay",
             "size": 10,
             "solidity": 0.2
            },
            "type": "scatter"
           }
          ],
          "scatter3d": [
           {
            "line": {
             "colorbar": {
              "outlinewidth": 0,
              "ticks": ""
             }
            },
            "marker": {
             "colorbar": {
              "outlinewidth": 0,
              "ticks": ""
             }
            },
            "type": "scatter3d"
           }
          ],
          "scattercarpet": [
           {
            "marker": {
             "colorbar": {
              "outlinewidth": 0,
              "ticks": ""
             }
            },
            "type": "scattercarpet"
           }
          ],
          "scattergeo": [
           {
            "marker": {
             "colorbar": {
              "outlinewidth": 0,
              "ticks": ""
             }
            },
            "type": "scattergeo"
           }
          ],
          "scattergl": [
           {
            "marker": {
             "colorbar": {
              "outlinewidth": 0,
              "ticks": ""
             }
            },
            "type": "scattergl"
           }
          ],
          "scattermapbox": [
           {
            "marker": {
             "colorbar": {
              "outlinewidth": 0,
              "ticks": ""
             }
            },
            "type": "scattermapbox"
           }
          ],
          "scatterpolar": [
           {
            "marker": {
             "colorbar": {
              "outlinewidth": 0,
              "ticks": ""
             }
            },
            "type": "scatterpolar"
           }
          ],
          "scatterpolargl": [
           {
            "marker": {
             "colorbar": {
              "outlinewidth": 0,
              "ticks": ""
             }
            },
            "type": "scatterpolargl"
           }
          ],
          "scatterternary": [
           {
            "marker": {
             "colorbar": {
              "outlinewidth": 0,
              "ticks": ""
             }
            },
            "type": "scatterternary"
           }
          ],
          "surface": [
           {
            "colorbar": {
             "outlinewidth": 0,
             "ticks": ""
            },
            "colorscale": [
             [
              0,
              "#0d0887"
             ],
             [
              0.1111111111111111,
              "#46039f"
             ],
             [
              0.2222222222222222,
              "#7201a8"
             ],
             [
              0.3333333333333333,
              "#9c179e"
             ],
             [
              0.4444444444444444,
              "#bd3786"
             ],
             [
              0.5555555555555556,
              "#d8576b"
             ],
             [
              0.6666666666666666,
              "#ed7953"
             ],
             [
              0.7777777777777778,
              "#fb9f3a"
             ],
             [
              0.8888888888888888,
              "#fdca26"
             ],
             [
              1,
              "#f0f921"
             ]
            ],
            "type": "surface"
           }
          ],
          "table": [
           {
            "cells": {
             "fill": {
              "color": "#EBF0F8"
             },
             "line": {
              "color": "white"
             }
            },
            "header": {
             "fill": {
              "color": "#C8D4E3"
             },
             "line": {
              "color": "white"
             }
            },
            "type": "table"
           }
          ]
         },
         "layout": {
          "annotationdefaults": {
           "arrowcolor": "#2a3f5f",
           "arrowhead": 0,
           "arrowwidth": 1
          },
          "autotypenumbers": "strict",
          "coloraxis": {
           "colorbar": {
            "outlinewidth": 0,
            "ticks": ""
           }
          },
          "colorscale": {
           "diverging": [
            [
             0,
             "#8e0152"
            ],
            [
             0.1,
             "#c51b7d"
            ],
            [
             0.2,
             "#de77ae"
            ],
            [
             0.3,
             "#f1b6da"
            ],
            [
             0.4,
             "#fde0ef"
            ],
            [
             0.5,
             "#f7f7f7"
            ],
            [
             0.6,
             "#e6f5d0"
            ],
            [
             0.7,
             "#b8e186"
            ],
            [
             0.8,
             "#7fbc41"
            ],
            [
             0.9,
             "#4d9221"
            ],
            [
             1,
             "#276419"
            ]
           ],
           "sequential": [
            [
             0,
             "#0d0887"
            ],
            [
             0.1111111111111111,
             "#46039f"
            ],
            [
             0.2222222222222222,
             "#7201a8"
            ],
            [
             0.3333333333333333,
             "#9c179e"
            ],
            [
             0.4444444444444444,
             "#bd3786"
            ],
            [
             0.5555555555555556,
             "#d8576b"
            ],
            [
             0.6666666666666666,
             "#ed7953"
            ],
            [
             0.7777777777777778,
             "#fb9f3a"
            ],
            [
             0.8888888888888888,
             "#fdca26"
            ],
            [
             1,
             "#f0f921"
            ]
           ],
           "sequentialminus": [
            [
             0,
             "#0d0887"
            ],
            [
             0.1111111111111111,
             "#46039f"
            ],
            [
             0.2222222222222222,
             "#7201a8"
            ],
            [
             0.3333333333333333,
             "#9c179e"
            ],
            [
             0.4444444444444444,
             "#bd3786"
            ],
            [
             0.5555555555555556,
             "#d8576b"
            ],
            [
             0.6666666666666666,
             "#ed7953"
            ],
            [
             0.7777777777777778,
             "#fb9f3a"
            ],
            [
             0.8888888888888888,
             "#fdca26"
            ],
            [
             1,
             "#f0f921"
            ]
           ]
          },
          "colorway": [
           "#636efa",
           "#EF553B",
           "#00cc96",
           "#ab63fa",
           "#FFA15A",
           "#19d3f3",
           "#FF6692",
           "#B6E880",
           "#FF97FF",
           "#FECB52"
          ],
          "font": {
           "color": "#2a3f5f"
          },
          "geo": {
           "bgcolor": "white",
           "lakecolor": "white",
           "landcolor": "#E5ECF6",
           "showlakes": true,
           "showland": true,
           "subunitcolor": "white"
          },
          "hoverlabel": {
           "align": "left"
          },
          "hovermode": "closest",
          "mapbox": {
           "style": "light"
          },
          "paper_bgcolor": "white",
          "plot_bgcolor": "#E5ECF6",
          "polar": {
           "angularaxis": {
            "gridcolor": "white",
            "linecolor": "white",
            "ticks": ""
           },
           "bgcolor": "#E5ECF6",
           "radialaxis": {
            "gridcolor": "white",
            "linecolor": "white",
            "ticks": ""
           }
          },
          "scene": {
           "xaxis": {
            "backgroundcolor": "#E5ECF6",
            "gridcolor": "white",
            "gridwidth": 2,
            "linecolor": "white",
            "showbackground": true,
            "ticks": "",
            "zerolinecolor": "white"
           },
           "yaxis": {
            "backgroundcolor": "#E5ECF6",
            "gridcolor": "white",
            "gridwidth": 2,
            "linecolor": "white",
            "showbackground": true,
            "ticks": "",
            "zerolinecolor": "white"
           },
           "zaxis": {
            "backgroundcolor": "#E5ECF6",
            "gridcolor": "white",
            "gridwidth": 2,
            "linecolor": "white",
            "showbackground": true,
            "ticks": "",
            "zerolinecolor": "white"
           }
          },
          "shapedefaults": {
           "line": {
            "color": "#2a3f5f"
           }
          },
          "ternary": {
           "aaxis": {
            "gridcolor": "white",
            "linecolor": "white",
            "ticks": ""
           },
           "baxis": {
            "gridcolor": "white",
            "linecolor": "white",
            "ticks": ""
           },
           "bgcolor": "#E5ECF6",
           "caxis": {
            "gridcolor": "white",
            "linecolor": "white",
            "ticks": ""
           }
          },
          "title": {
           "x": 0.05
          },
          "xaxis": {
           "automargin": true,
           "gridcolor": "white",
           "linecolor": "white",
           "ticks": "",
           "title": {
            "standoff": 15
           },
           "zerolinecolor": "white",
           "zerolinewidth": 2
          },
          "yaxis": {
           "automargin": true,
           "gridcolor": "white",
           "linecolor": "white",
           "ticks": "",
           "title": {
            "standoff": 15
           },
           "zerolinecolor": "white",
           "zerolinewidth": 2
          }
         }
        },
        "xaxis": {
         "anchor": "y",
         "domain": [
          0,
          0.016428571428571428
         ]
        },
        "xaxis10": {
         "anchor": "y10",
         "domain": [
          0.32785714285714285,
          0.34428571428571425
         ],
         "matches": "x"
        },
        "xaxis11": {
         "anchor": "y11",
         "domain": [
          0.3642857142857143,
          0.3807142857142857
         ],
         "matches": "x"
        },
        "xaxis12": {
         "anchor": "y12",
         "domain": [
          0.4007142857142857,
          0.4171428571428571
         ],
         "matches": "x"
        },
        "xaxis13": {
         "anchor": "y13",
         "domain": [
          0.4371428571428571,
          0.4535714285714285
         ],
         "matches": "x"
        },
        "xaxis14": {
         "anchor": "y14",
         "domain": [
          0.47357142857142853,
          0.48999999999999994
         ],
         "matches": "x"
        },
        "xaxis15": {
         "anchor": "y15",
         "domain": [
          0.51,
          0.5264285714285715
         ],
         "matches": "x"
        },
        "xaxis16": {
         "anchor": "y16",
         "domain": [
          0.5464285714285714,
          0.5628571428571428
         ],
         "matches": "x"
        },
        "xaxis17": {
         "anchor": "y17",
         "domain": [
          0.5828571428571429,
          0.5992857142857143
         ],
         "matches": "x"
        },
        "xaxis18": {
         "anchor": "y18",
         "domain": [
          0.6192857142857142,
          0.6357142857142857
         ],
         "matches": "x"
        },
        "xaxis19": {
         "anchor": "y19",
         "domain": [
          0.6557142857142857,
          0.6721428571428572
         ],
         "matches": "x"
        },
        "xaxis2": {
         "anchor": "y2",
         "domain": [
          0.03642857142857143,
          0.05285714285714285
         ],
         "matches": "x"
        },
        "xaxis20": {
         "anchor": "y20",
         "domain": [
          0.6921428571428572,
          0.7085714285714286
         ],
         "matches": "x"
        },
        "xaxis21": {
         "anchor": "y21",
         "domain": [
          0.7285714285714286,
          0.7450000000000001
         ],
         "matches": "x"
        },
        "xaxis22": {
         "anchor": "y22",
         "domain": [
          0.7649999999999999,
          0.7814285714285714
         ],
         "matches": "x"
        },
        "xaxis23": {
         "anchor": "y23",
         "domain": [
          0.8014285714285714,
          0.8178571428571428
         ],
         "matches": "x"
        },
        "xaxis24": {
         "anchor": "y24",
         "domain": [
          0.8378571428571429,
          0.8542857142857143
         ],
         "matches": "x"
        },
        "xaxis25": {
         "anchor": "y25",
         "domain": [
          0.8742857142857142,
          0.8907142857142857
         ],
         "matches": "x"
        },
        "xaxis26": {
         "anchor": "y26",
         "domain": [
          0.9107142857142857,
          0.9271428571428572
         ],
         "matches": "x"
        },
        "xaxis27": {
         "anchor": "y27",
         "domain": [
          0.9471428571428571,
          0.9635714285714285
         ],
         "matches": "x"
        },
        "xaxis28": {
         "anchor": "y28",
         "domain": [
          0.9835714285714285,
          1
         ],
         "matches": "x"
        },
        "xaxis29": {
         "anchor": "y29",
         "domain": [
          0,
          0.016428571428571428
         ],
         "matches": "x",
         "showticklabels": false
        },
        "xaxis3": {
         "anchor": "y3",
         "domain": [
          0.07285714285714286,
          0.08928571428571429
         ],
         "matches": "x"
        },
        "xaxis30": {
         "anchor": "y30",
         "domain": [
          0.03642857142857143,
          0.05285714285714285
         ],
         "matches": "x",
         "showticklabels": false
        },
        "xaxis31": {
         "anchor": "y31",
         "domain": [
          0.07285714285714286,
          0.08928571428571429
         ],
         "matches": "x",
         "showticklabels": false
        },
        "xaxis32": {
         "anchor": "y32",
         "domain": [
          0.10928571428571428,
          0.1257142857142857
         ],
         "matches": "x",
         "showticklabels": false
        },
        "xaxis33": {
         "anchor": "y33",
         "domain": [
          0.1457142857142857,
          0.16214285714285714
         ],
         "matches": "x",
         "showticklabels": false
        },
        "xaxis34": {
         "anchor": "y34",
         "domain": [
          0.18214285714285716,
          0.1985714285714286
         ],
         "matches": "x",
         "showticklabels": false
        },
        "xaxis35": {
         "anchor": "y35",
         "domain": [
          0.21857142857142856,
          0.235
         ],
         "matches": "x",
         "showticklabels": false
        },
        "xaxis36": {
         "anchor": "y36",
         "domain": [
          0.255,
          0.2714285714285714
         ],
         "matches": "x",
         "showticklabels": false
        },
        "xaxis37": {
         "anchor": "y37",
         "domain": [
          0.2914285714285714,
          0.30785714285714283
         ],
         "matches": "x",
         "showticklabels": false
        },
        "xaxis38": {
         "anchor": "y38",
         "domain": [
          0.32785714285714285,
          0.34428571428571425
         ],
         "matches": "x",
         "showticklabels": false
        },
        "xaxis39": {
         "anchor": "y39",
         "domain": [
          0.3642857142857143,
          0.3807142857142857
         ],
         "matches": "x",
         "showticklabels": false
        },
        "xaxis4": {
         "anchor": "y4",
         "domain": [
          0.10928571428571428,
          0.1257142857142857
         ],
         "matches": "x"
        },
        "xaxis40": {
         "anchor": "y40",
         "domain": [
          0.4007142857142857,
          0.4171428571428571
         ],
         "matches": "x",
         "showticklabels": false
        },
        "xaxis41": {
         "anchor": "y41",
         "domain": [
          0.4371428571428571,
          0.4535714285714285
         ],
         "matches": "x",
         "showticklabels": false
        },
        "xaxis42": {
         "anchor": "y42",
         "domain": [
          0.47357142857142853,
          0.48999999999999994
         ],
         "matches": "x",
         "showticklabels": false
        },
        "xaxis43": {
         "anchor": "y43",
         "domain": [
          0.51,
          0.5264285714285715
         ],
         "matches": "x",
         "showticklabels": false
        },
        "xaxis44": {
         "anchor": "y44",
         "domain": [
          0.5464285714285714,
          0.5628571428571428
         ],
         "matches": "x",
         "showticklabels": false
        },
        "xaxis45": {
         "anchor": "y45",
         "domain": [
          0.5828571428571429,
          0.5992857142857143
         ],
         "matches": "x",
         "showticklabels": false
        },
        "xaxis46": {
         "anchor": "y46",
         "domain": [
          0.6192857142857142,
          0.6357142857142857
         ],
         "matches": "x",
         "showticklabels": false
        },
        "xaxis47": {
         "anchor": "y47",
         "domain": [
          0.6557142857142857,
          0.6721428571428572
         ],
         "matches": "x",
         "showticklabels": false
        },
        "xaxis48": {
         "anchor": "y48",
         "domain": [
          0.6921428571428572,
          0.7085714285714286
         ],
         "matches": "x",
         "showticklabels": false
        },
        "xaxis49": {
         "anchor": "y49",
         "domain": [
          0.7285714285714286,
          0.7450000000000001
         ],
         "matches": "x",
         "showticklabels": false
        },
        "xaxis5": {
         "anchor": "y5",
         "domain": [
          0.1457142857142857,
          0.16214285714285714
         ],
         "matches": "x"
        },
        "xaxis50": {
         "anchor": "y50",
         "domain": [
          0.7649999999999999,
          0.7814285714285714
         ],
         "matches": "x",
         "showticklabels": false
        },
        "xaxis51": {
         "anchor": "y51",
         "domain": [
          0.8014285714285714,
          0.8178571428571428
         ],
         "matches": "x",
         "showticklabels": false
        },
        "xaxis52": {
         "anchor": "y52",
         "domain": [
          0.8378571428571429,
          0.8542857142857143
         ],
         "matches": "x",
         "showticklabels": false
        },
        "xaxis53": {
         "anchor": "y53",
         "domain": [
          0.8742857142857142,
          0.8907142857142857
         ],
         "matches": "x",
         "showticklabels": false
        },
        "xaxis54": {
         "anchor": "y54",
         "domain": [
          0.9107142857142857,
          0.9271428571428572
         ],
         "matches": "x",
         "showticklabels": false
        },
        "xaxis55": {
         "anchor": "y55",
         "domain": [
          0.9471428571428571,
          0.9635714285714285
         ],
         "matches": "x",
         "showticklabels": false
        },
        "xaxis56": {
         "anchor": "y56",
         "domain": [
          0.9835714285714285,
          1
         ],
         "matches": "x",
         "showticklabels": false
        },
        "xaxis6": {
         "anchor": "y6",
         "domain": [
          0.18214285714285716,
          0.1985714285714286
         ],
         "matches": "x"
        },
        "xaxis7": {
         "anchor": "y7",
         "domain": [
          0.21857142857142856,
          0.235
         ],
         "matches": "x"
        },
        "xaxis8": {
         "anchor": "y8",
         "domain": [
          0.255,
          0.2714285714285714
         ],
         "matches": "x"
        },
        "xaxis9": {
         "anchor": "y9",
         "domain": [
          0.2914285714285714,
          0.30785714285714283
         ],
         "matches": "x"
        },
        "yaxis": {
         "anchor": "x",
         "domain": [
          0,
          0.46499999999999997
         ]
        },
        "yaxis10": {
         "anchor": "x10",
         "domain": [
          0,
          0.46499999999999997
         ],
         "matches": "y",
         "showticklabels": false
        },
        "yaxis11": {
         "anchor": "x11",
         "domain": [
          0,
          0.46499999999999997
         ],
         "matches": "y",
         "showticklabels": false
        },
        "yaxis12": {
         "anchor": "x12",
         "domain": [
          0,
          0.46499999999999997
         ],
         "matches": "y",
         "showticklabels": false
        },
        "yaxis13": {
         "anchor": "x13",
         "domain": [
          0,
          0.46499999999999997
         ],
         "matches": "y",
         "showticklabels": false
        },
        "yaxis14": {
         "anchor": "x14",
         "domain": [
          0,
          0.46499999999999997
         ],
         "matches": "y",
         "showticklabels": false
        },
        "yaxis15": {
         "anchor": "x15",
         "domain": [
          0,
          0.46499999999999997
         ],
         "matches": "y",
         "showticklabels": false
        },
        "yaxis16": {
         "anchor": "x16",
         "domain": [
          0,
          0.46499999999999997
         ],
         "matches": "y",
         "showticklabels": false
        },
        "yaxis17": {
         "anchor": "x17",
         "domain": [
          0,
          0.46499999999999997
         ],
         "matches": "y",
         "showticklabels": false
        },
        "yaxis18": {
         "anchor": "x18",
         "domain": [
          0,
          0.46499999999999997
         ],
         "matches": "y",
         "showticklabels": false
        },
        "yaxis19": {
         "anchor": "x19",
         "domain": [
          0,
          0.46499999999999997
         ],
         "matches": "y",
         "showticklabels": false
        },
        "yaxis2": {
         "anchor": "x2",
         "domain": [
          0,
          0.46499999999999997
         ],
         "matches": "y",
         "showticklabels": false
        },
        "yaxis20": {
         "anchor": "x20",
         "domain": [
          0,
          0.46499999999999997
         ],
         "matches": "y",
         "showticklabels": false
        },
        "yaxis21": {
         "anchor": "x21",
         "domain": [
          0,
          0.46499999999999997
         ],
         "matches": "y",
         "showticklabels": false
        },
        "yaxis22": {
         "anchor": "x22",
         "domain": [
          0,
          0.46499999999999997
         ],
         "matches": "y",
         "showticklabels": false
        },
        "yaxis23": {
         "anchor": "x23",
         "domain": [
          0,
          0.46499999999999997
         ],
         "matches": "y",
         "showticklabels": false
        },
        "yaxis24": {
         "anchor": "x24",
         "domain": [
          0,
          0.46499999999999997
         ],
         "matches": "y",
         "showticklabels": false
        },
        "yaxis25": {
         "anchor": "x25",
         "domain": [
          0,
          0.46499999999999997
         ],
         "matches": "y",
         "showticklabels": false
        },
        "yaxis26": {
         "anchor": "x26",
         "domain": [
          0,
          0.46499999999999997
         ],
         "matches": "y",
         "showticklabels": false
        },
        "yaxis27": {
         "anchor": "x27",
         "domain": [
          0,
          0.46499999999999997
         ],
         "matches": "y",
         "showticklabels": false
        },
        "yaxis28": {
         "anchor": "x28",
         "domain": [
          0,
          0.46499999999999997
         ],
         "matches": "y",
         "showticklabels": false
        },
        "yaxis29": {
         "anchor": "x29",
         "domain": [
          0.5349999999999999,
          0.9999999999999999
         ],
         "matches": "y"
        },
        "yaxis3": {
         "anchor": "x3",
         "domain": [
          0,
          0.46499999999999997
         ],
         "matches": "y",
         "showticklabels": false
        },
        "yaxis30": {
         "anchor": "x30",
         "domain": [
          0.5349999999999999,
          0.9999999999999999
         ],
         "matches": "y",
         "showticklabels": false
        },
        "yaxis31": {
         "anchor": "x31",
         "domain": [
          0.5349999999999999,
          0.9999999999999999
         ],
         "matches": "y",
         "showticklabels": false
        },
        "yaxis32": {
         "anchor": "x32",
         "domain": [
          0.5349999999999999,
          0.9999999999999999
         ],
         "matches": "y",
         "showticklabels": false
        },
        "yaxis33": {
         "anchor": "x33",
         "domain": [
          0.5349999999999999,
          0.9999999999999999
         ],
         "matches": "y",
         "showticklabels": false
        },
        "yaxis34": {
         "anchor": "x34",
         "domain": [
          0.5349999999999999,
          0.9999999999999999
         ],
         "matches": "y",
         "showticklabels": false
        },
        "yaxis35": {
         "anchor": "x35",
         "domain": [
          0.5349999999999999,
          0.9999999999999999
         ],
         "matches": "y",
         "showticklabels": false
        },
        "yaxis36": {
         "anchor": "x36",
         "domain": [
          0.5349999999999999,
          0.9999999999999999
         ],
         "matches": "y",
         "showticklabels": false
        },
        "yaxis37": {
         "anchor": "x37",
         "domain": [
          0.5349999999999999,
          0.9999999999999999
         ],
         "matches": "y",
         "showticklabels": false
        },
        "yaxis38": {
         "anchor": "x38",
         "domain": [
          0.5349999999999999,
          0.9999999999999999
         ],
         "matches": "y",
         "showticklabels": false
        },
        "yaxis39": {
         "anchor": "x39",
         "domain": [
          0.5349999999999999,
          0.9999999999999999
         ],
         "matches": "y",
         "showticklabels": false
        },
        "yaxis4": {
         "anchor": "x4",
         "domain": [
          0,
          0.46499999999999997
         ],
         "matches": "y",
         "showticklabels": false
        },
        "yaxis40": {
         "anchor": "x40",
         "domain": [
          0.5349999999999999,
          0.9999999999999999
         ],
         "matches": "y",
         "showticklabels": false
        },
        "yaxis41": {
         "anchor": "x41",
         "domain": [
          0.5349999999999999,
          0.9999999999999999
         ],
         "matches": "y",
         "showticklabels": false
        },
        "yaxis42": {
         "anchor": "x42",
         "domain": [
          0.5349999999999999,
          0.9999999999999999
         ],
         "matches": "y",
         "showticklabels": false
        },
        "yaxis43": {
         "anchor": "x43",
         "domain": [
          0.5349999999999999,
          0.9999999999999999
         ],
         "matches": "y",
         "showticklabels": false
        },
        "yaxis44": {
         "anchor": "x44",
         "domain": [
          0.5349999999999999,
          0.9999999999999999
         ],
         "matches": "y",
         "showticklabels": false
        },
        "yaxis45": {
         "anchor": "x45",
         "domain": [
          0.5349999999999999,
          0.9999999999999999
         ],
         "matches": "y",
         "showticklabels": false
        },
        "yaxis46": {
         "anchor": "x46",
         "domain": [
          0.5349999999999999,
          0.9999999999999999
         ],
         "matches": "y",
         "showticklabels": false
        },
        "yaxis47": {
         "anchor": "x47",
         "domain": [
          0.5349999999999999,
          0.9999999999999999
         ],
         "matches": "y",
         "showticklabels": false
        },
        "yaxis48": {
         "anchor": "x48",
         "domain": [
          0.5349999999999999,
          0.9999999999999999
         ],
         "matches": "y",
         "showticklabels": false
        },
        "yaxis49": {
         "anchor": "x49",
         "domain": [
          0.5349999999999999,
          0.9999999999999999
         ],
         "matches": "y",
         "showticklabels": false
        },
        "yaxis5": {
         "anchor": "x5",
         "domain": [
          0,
          0.46499999999999997
         ],
         "matches": "y",
         "showticklabels": false
        },
        "yaxis50": {
         "anchor": "x50",
         "domain": [
          0.5349999999999999,
          0.9999999999999999
         ],
         "matches": "y",
         "showticklabels": false
        },
        "yaxis51": {
         "anchor": "x51",
         "domain": [
          0.5349999999999999,
          0.9999999999999999
         ],
         "matches": "y",
         "showticklabels": false
        },
        "yaxis52": {
         "anchor": "x52",
         "domain": [
          0.5349999999999999,
          0.9999999999999999
         ],
         "matches": "y",
         "showticklabels": false
        },
        "yaxis53": {
         "anchor": "x53",
         "domain": [
          0.5349999999999999,
          0.9999999999999999
         ],
         "matches": "y",
         "showticklabels": false
        },
        "yaxis54": {
         "anchor": "x54",
         "domain": [
          0.5349999999999999,
          0.9999999999999999
         ],
         "matches": "y",
         "showticklabels": false
        },
        "yaxis55": {
         "anchor": "x55",
         "domain": [
          0.5349999999999999,
          0.9999999999999999
         ],
         "matches": "y",
         "showticklabels": false
        },
        "yaxis56": {
         "anchor": "x56",
         "domain": [
          0.5349999999999999,
          0.9999999999999999
         ],
         "matches": "y",
         "showticklabels": false
        },
        "yaxis6": {
         "anchor": "x6",
         "domain": [
          0,
          0.46499999999999997
         ],
         "matches": "y",
         "showticklabels": false
        },
        "yaxis7": {
         "anchor": "x7",
         "domain": [
          0,
          0.46499999999999997
         ],
         "matches": "y",
         "showticklabels": false
        },
        "yaxis8": {
         "anchor": "x8",
         "domain": [
          0,
          0.46499999999999997
         ],
         "matches": "y",
         "showticklabels": false
        },
        "yaxis9": {
         "anchor": "x9",
         "domain": [
          0,
          0.46499999999999997
         ],
         "matches": "y",
         "showticklabels": false
        }
       }
      }
     },
     "metadata": {},
     "output_type": "display_data"
    }
   ],
   "source": [
    "px.imshow(\n",
    "    flatten_multi_channels_input[multi_channels_correlatin_indieces].reshape(-1, 5, 5, 3)[:nb_horizontal_correlations * 2, ...],\n",
    "    facet_col=0,\n",
    "    facet_col_wrap=28,\n",
    "    height=1000,\n",
    "    facet_col_spacing=0.,\n",
    ")"
   ]
  },
  {
   "cell_type": "markdown",
   "metadata": {},
   "source": [
    "### Computing the correlation"
   ]
  },
  {
   "cell_type": "code",
   "execution_count": 42,
   "metadata": {},
   "outputs": [],
   "source": [
    "multi_channels_flatten_correlation = flatten_multi_channels_input[multi_channels_correlatin_indieces] @ multi_channels_kernels_weights\n",
    "multi_channels_flatten_correlation.shape\n",
    "reshaped_mutli_channels_correlation = (\n",
    "    multi_channels_flatten_correlation\n",
    "    .reshape(\n",
    "        nb_x_correlations,\n",
    "        nb_y_correlations,\n",
    "        multi_channels_kernels.shape[0],\n",
    "    )\n",
    ")"
   ]
  },
  {
   "cell_type": "markdown",
   "metadata": {},
   "source": [
    "### Results visualization and comparaison with `scipy.signal`'s `correlate2d`"
   ]
  },
  {
   "cell_type": "code",
   "execution_count": 43,
   "metadata": {},
   "outputs": [
    {
     "data": {
      "text/plain": [
       "(2, 28, 28)"
      ]
     },
     "metadata": {},
     "output_type": "display_data"
    },
    {
     "data": {
      "text/plain": [
       "'scipy'"
      ]
     },
     "metadata": {},
     "output_type": "display_data"
    },
    {
     "data": {
      "application/vnd.plotly.v1+json": {
       "config": {
        "plotlyServerURL": "https://plot.ly"
       },
       "data": [
        {
         "coloraxis": "coloraxis",
         "hovertemplate": "x: %{x}<br>y: %{y}<br>color: %{z}<extra></extra>",
         "name": "0",
         "type": "heatmap",
         "xaxis": "x",
         "yaxis": "y",
         "z": [
          [
           1570,
           1838,
           2204,
           2403,
           2530,
           2662,
           2700,
           2655,
           2692,
           2765,
           2702,
           2619,
           2654,
           2647,
           2556,
           2547,
           2637,
           2764,
           2838,
           2923,
           3002,
           3036,
           3048,
           3061,
           3032,
           2985,
           2852,
           2689
          ],
          [
           1400,
           1733,
           2086,
           2285,
           2391,
           2433,
           2410,
           2317,
           2285,
           2270,
           2198,
           2147,
           2172,
           2140,
           2053,
           2054,
           2147,
           2225,
           2287,
           2407,
           2504,
           2560,
           2575,
           2629,
           2586,
           2400,
           2126,
           1918
          ],
          [
           1795,
           2058,
           2292,
           2403,
           2456,
           2473,
           2425,
           2390,
           2354,
           2296,
           2169,
           2114,
           2094,
           2061,
           1973,
           1960,
           1975,
           1978,
           2085,
           2221,
           2385,
           2564,
           2731,
           2706,
           2636,
           2474,
           2244,
           2013
          ],
          [
           2090,
           2215,
           2379,
           2404,
           2389,
           2407,
           2476,
           2448,
           2343,
           2236,
           2060,
           1888,
           1931,
           2127,
           2231,
           2273,
           2340,
           2257,
           2190,
           2147,
           2295,
           2600,
           2736,
           2664,
           2641,
           2549,
           2430,
           2241
          ],
          [
           2287,
           2338,
           2473,
           2464,
           2381,
           2450,
           2532,
           2383,
           2161,
           2055,
           1816,
           1546,
           1728,
           2067,
           2314,
           2470,
           2582,
           2445,
           2210,
           2048,
           2165,
           2334,
           2402,
           2456,
           2499,
           2437,
           2298,
           2187
          ],
          [
           2633,
           2642,
           2656,
           2558,
           2497,
           2534,
           2480,
           2254,
           2102,
           1955,
           1682,
           1556,
           1694,
           1851,
           2017,
           2108,
           2124,
           2041,
           1910,
           1869,
           1927,
           2059,
           2177,
           2344,
           2485,
           2440,
           2222,
           2076
          ],
          [
           2958,
           2911,
           2828,
           2734,
           2730,
           2729,
           2558,
           2455,
           2305,
           1965,
           1756,
           1769,
           1790,
           1871,
           1967,
           1913,
           1917,
           2004,
           2211,
           2253,
           2333,
           2526,
           2498,
           2457,
           2548,
           2582,
           2461,
           2387
          ],
          [
           3011,
           2914,
           2858,
           2754,
           2746,
           2725,
           2649,
           2595,
           2391,
           2143,
           2049,
           2049,
           2252,
           2611,
           2712,
           2698,
           2805,
           2818,
           2893,
           2762,
           2826,
           2834,
           2714,
           2533,
           2587,
           2643,
           2625,
           2563
          ],
          [
           3030,
           2880,
           2729,
           2595,
           2556,
           2482,
           2450,
           2514,
           2437,
           2417,
           2508,
           2614,
           2926,
           3298,
           3523,
           3537,
           3586,
           3453,
           3223,
           2924,
           2742,
           2633,
           2512,
           2475,
           2626,
           2729,
           2723,
           2725
          ],
          [
           3264,
           2991,
           2724,
           2535,
           2378,
           2234,
           2231,
           2395,
           2436,
           2597,
           2974,
           3289,
           3466,
           3784,
           4020,
           3972,
           3966,
           3832,
           3687,
           3388,
           3129,
           2933,
           2792,
           2728,
           2773,
           2805,
           2784,
           2772
          ],
          [
           3291,
           3021,
           2823,
           2627,
           2419,
           2288,
           2362,
           2500,
           2525,
           2842,
           3411,
           3743,
           4002,
           4471,
           4669,
           4659,
           4587,
           4630,
           4571,
           4362,
           4173,
           3943,
           3567,
           3298,
           3094,
           2885,
           2764,
           2779
          ],
          [
           3145,
           2864,
           2601,
           2308,
           2165,
           2198,
           2480,
           2699,
           2969,
           3533,
           3863,
           4020,
           4566,
           5031,
           5278,
           5385,
           5393,
           5387,
           5333,
           5150,
           5033,
           4696,
           4284,
           3824,
           3359,
           2907,
           2745,
           2747
          ],
          [
           3127,
           2796,
           2486,
           2229,
           2154,
           2270,
           2714,
           3158,
           3709,
           4199,
           4354,
           4634,
           5176,
           5619,
           5957,
           6011,
           5902,
           5548,
           5311,
           5171,
           4983,
           4684,
           4489,
           4119,
           3545,
           3101,
           2963,
           2876
          ],
          [
           3064,
           2709,
           2460,
           2315,
           2341,
           2657,
           3119,
           3775,
           4338,
           4577,
           4743,
           5129,
           5581,
           5959,
           6089,
           5986,
           5757,
           5418,
           5240,
           5214,
           5185,
           4940,
           4674,
           4257,
           3692,
           3273,
           3127,
           3033
          ],
          [
           2893,
           2595,
           2442,
           2501,
           2721,
           3169,
           3754,
           4447,
           4677,
           4771,
           4759,
           5113,
           5623,
           5796,
           5678,
           5509,
           5332,
           5285,
           5310,
           5544,
           5802,
           5546,
           4989,
           4448,
           3766,
           3117,
           2916,
           2941
          ],
          [
           2865,
           2605,
           2564,
           2780,
           3129,
           3762,
           4595,
           4879,
           4843,
           4752,
           4459,
           4712,
           5144,
           5147,
           4974,
           4968,
           4873,
           4940,
           5174,
           5530,
           5916,
           5712,
           5166,
           4425,
           3529,
           2720,
           2462,
           2568
          ],
          [
           2857,
           2638,
           2831,
           3164,
           3615,
           4471,
           5186,
           4976,
           4734,
           4585,
           4361,
           4487,
           4755,
           4702,
           4555,
           4530,
           4423,
           4377,
           4517,
           4885,
           5266,
           5230,
           4853,
           4144,
           3402,
           2778,
           2502,
           2598
          ],
          [
           2775,
           2660,
           2825,
           3102,
           3786,
           4681,
           4912,
           4726,
           4736,
           4706,
           4497,
           4504,
           4584,
           4394,
           4066,
           3943,
           3923,
           3805,
           3880,
           4246,
           4565,
           4460,
           4086,
           3653,
           3224,
           2916,
           2829,
           3019
          ],
          [
           2683,
           2626,
           2650,
           3054,
           3822,
           4402,
           4421,
           4597,
           4849,
           4801,
           4512,
           4353,
           4161,
           3735,
           3429,
           3383,
           3393,
           3559,
           3823,
           4173,
           4365,
           4152,
           3795,
           3480,
           3167,
           2907,
           2927,
           3217
          ],
          [
           2811,
           2792,
           3019,
           3572,
           4094,
           4339,
           4424,
           4523,
           4637,
           4600,
           4274,
           4032,
           3689,
           3349,
           3086,
           3049,
           3159,
           3420,
           3699,
           3824,
           3845,
           3669,
           3432,
           3235,
           3029,
           2886,
           2934,
           3147
          ],
          [
           2788,
           2760,
           3221,
           3673,
           3952,
           4204,
           4295,
           4268,
           4376,
           4485,
           4294,
           4213,
           4025,
           3632,
           3296,
           3180,
           3121,
           3167,
           3212,
           3177,
           3161,
           3069,
           2990,
           3003,
           3063,
           3110,
           3153,
           3268
          ],
          [
           2749,
           2709,
           2922,
           3127,
           3399,
           3712,
           3843,
           3937,
           4178,
           4252,
           4125,
           4077,
           3929,
           3562,
           3283,
           3105,
           2952,
           2854,
           2841,
           2821,
           2788,
           2855,
           2933,
           3019,
           3112,
           3254,
           3416,
           3599
          ],
          [
           2959,
           2818,
           2767,
           2820,
           3051,
           3293,
           3451,
           3612,
           3816,
           3867,
           3820,
           3657,
           3495,
           3312,
           3128,
           3018,
           2981,
           3028,
           3030,
           2979,
           3002,
           3077,
           3117,
           3096,
           3111,
           3257,
           3486,
           3715
          ],
          [
           3280,
           2975,
           2885,
           2908,
           3018,
           3113,
           3208,
           3352,
           3518,
           3671,
           3573,
           3476,
           3335,
           3114,
           2937,
           2937,
           3014,
           3037,
           2949,
           2818,
           2755,
           2770,
           2848,
           2889,
           3054,
           3307,
           3484,
           3596
          ],
          [
           3492,
           3187,
           3140,
           3148,
           3174,
           3248,
           3261,
           3406,
           3550,
           3578,
           3555,
           3606,
           3431,
           3132,
           2990,
           2973,
           2964,
           2855,
           2744,
           2658,
           2569,
           2574,
           2689,
           2787,
           3028,
           3286,
           3322,
           3197
          ],
          [
           3696,
           3443,
           3383,
           3319,
           3249,
           3251,
           3242,
           3187,
           3201,
           3183,
           3197,
           3208,
           3136,
           2995,
           2949,
           2933,
           2894,
           2855,
           2826,
           2821,
           2830,
           2838,
           2796,
           2673,
           2777,
           3037,
           3029,
           2854
          ],
          [
           3800,
           3622,
           3561,
           3508,
           3447,
           3355,
           3186,
           2979,
           2902,
           2947,
           2955,
           2920,
           2896,
           2914,
           2890,
           2883,
           2937,
           2984,
           2932,
           2855,
           2851,
           2784,
           2615,
           2377,
           2521,
           2859,
           2868,
           2800
          ],
          [
           3905,
           3802,
           3870,
           3893,
           3881,
           3784,
           3548,
           3338,
           3226,
           3172,
           3111,
           3086,
           3068,
           3051,
           3038,
           3065,
           3083,
           3033,
           2948,
           2852,
           2809,
           2764,
           2678,
           2607,
           2866,
           3243,
           3224,
           3162
          ]
         ]
        },
        {
         "coloraxis": "coloraxis",
         "hovertemplate": "x: %{x}<br>y: %{y}<br>color: %{z}<extra></extra>",
         "name": "1",
         "type": "heatmap",
         "xaxis": "x2",
         "yaxis": "y2",
         "z": [
          [
           1988.5,
           2283.5,
           3128.5,
           3688.5,
           4027.5,
           4257.5,
           4310.5,
           4172,
           4096,
           4225.5,
           4272,
           4141.5,
           4186,
           4392,
           4257.5,
           4222,
           4238,
           4358.5,
           4552,
           4662.5,
           4789,
           4843.5,
           4776.5,
           4778,
           4774,
           4747,
           4643.5,
           4537
          ],
          [
           2281,
           2653.5,
           3412,
           3819,
           3997.5,
           4073,
           4103,
           3971.5,
           3881,
           4071,
           4096.5,
           3898,
           3962.5,
           4121,
           3974.5,
           3893.5,
           3909,
           4062.5,
           4205,
           4327.5,
           4554,
           4654,
           4468,
           4476.5,
           4461.5,
           4357,
           4065,
           3796.5
          ],
          [
           2875.5,
           3249.5,
           3823.5,
           4014.5,
           4085.5,
           4084.5,
           4060.5,
           3974.5,
           3952.5,
           4108.5,
           3936,
           3738,
           3739.5,
           3725.5,
           3565,
           3442,
           3525.5,
           3707.5,
           3788,
           3954.5,
           4253.5,
           4514.5,
           4614,
           4413,
           4348.5,
           4245.5,
           3827,
           3403
          ],
          [
           3449.5,
           3721,
           4142,
           4244.5,
           4194.5,
           4142,
           4168,
           4077.5,
           3979,
           3955.5,
           3683.5,
           3373,
           3321.5,
           3370,
           3291.5,
           3186.5,
           3536,
           3728.5,
           3518.5,
           3567,
           3919.5,
           4286.5,
           4596.5,
           4345,
           4321.5,
           4201.5,
           3764.5,
           3281.5
          ],
          [
           3975,
           4051.5,
           4334.5,
           4351.5,
           4264.5,
           4244,
           4273.5,
           4154,
           3945.5,
           3799,
           3435.5,
           2888.5,
           2870,
           3100.5,
           3226,
           3238,
           3732.5,
           3656,
           3286.5,
           3208,
           3472,
           3944,
           4336.5,
           4176,
           4302.5,
           4265,
           3878,
           3501.5
          ],
          [
           4536,
           4444.5,
           4589.5,
           4514.5,
           4383,
           4367.5,
           4361,
           4232.5,
           3919.5,
           3637.5,
           3110.5,
           2523,
           2586,
           2976,
           3339.5,
           3530.5,
           3965,
           3637,
           3239,
           2989,
           3144,
           3617.5,
           3997,
           3978.5,
           4303.5,
           4436.5,
           4153,
           3903.5
          ],
          [
           5018,
           4829.5,
           4855.5,
           4694.5,
           4565.5,
           4561.5,
           4509.5,
           4296,
           3957,
           3547.5,
           2868,
           2535,
           2678.5,
           3113,
           3716.5,
           3990,
           4342.5,
           3972,
           3637.5,
           3281,
           3306,
           3828,
           3969,
           3885,
           4302.5,
           4603.5,
           4427,
           4292.5
          ],
          [
           5331.5,
           5103.5,
           5023.5,
           4761.5,
           4652,
           4692,
           4535,
           4212.5,
           4057,
           3621,
           3011.5,
           3067,
           3262.5,
           3783,
           4335.5,
           4517.5,
           4937,
           4653.5,
           4569.5,
           4102,
           4035.5,
           4298.5,
           4228,
           3947,
           4273.5,
           4716.5,
           4620.5,
           4550.5
          ],
          [
           5550.5,
           5263.5,
           5062.5,
           4782.5,
           4711.5,
           4610.5,
           4298,
           4196,
           4226,
           3807.5,
           3642.5,
           4302,
           4383.5,
           4909.5,
           5384.5,
           5332.5,
           5722.5,
           5609,
           5658.5,
           5108,
           4962,
           4840.5,
           4430,
           4065,
           4306,
           4717.5,
           4698.5,
           4695
          ],
          [
           5694.5,
           5342.5,
           4990,
           4633,
           4454,
           4158,
           3918.5,
           4170,
           4305,
           4224.5,
           4688.5,
           5767,
           5762.5,
           6243.5,
           6753,
           6482,
           6673.5,
           6709,
           6757,
           6356.5,
           6096,
           5696,
           5101,
           4558,
           4607,
           4779.5,
           4768,
           4741.5
          ],
          [
           5635,
           5242.5,
           4849.5,
           4479.5,
           4218.5,
           3659.5,
           3717,
           4267,
           4448,
           4843,
           5899.5,
           6989.5,
           6917.5,
           7644,
           8193.5,
           7991,
           8041.5,
           7985.5,
           7988.5,
           7606.5,
           7315.5,
           6841,
           6040.5,
           5435.5,
           5276,
           4935.5,
           4769,
           4770.5
          ],
          [
           5601.5,
           5060,
           4598.5,
           4207.5,
           3896,
           3275.5,
           3672.5,
           4368.5,
           4743,
           5711,
           6998,
           7530,
           7805,
           8819.5,
           9272,
           9408.5,
           9405.5,
           9184.5,
           9015,
           8741.5,
           8544.5,
           7954,
           7154.5,
           6475,
           6029,
           5129.5,
           4776,
           4762.5
          ],
          [
           5505.5,
           4866.5,
           4440,
           4089.5,
           3789.5,
           3328.5,
           4112,
           4857.5,
           5428,
           6679.5,
           7668.5,
           7597.5,
           8435.5,
           9613,
           10164.5,
           10525,
           10373.5,
           9968,
           9657,
           9493.5,
           9339.5,
           8657.5,
           8129.5,
           7530,
           6714,
           5407,
           4967.5,
           4928
          ],
          [
           5390,
           4718.5,
           4416,
           4125,
           3960.5,
           3922.5,
           4885,
           5617,
           6470.5,
           7780,
           7813,
           7630.5,
           8914.5,
           10039,
           10552,
           10875.5,
           10657.5,
           10093,
           9617,
           9577.5,
           9696,
           9172.5,
           8723.5,
           8212,
           7138,
           5580,
           5115.5,
           5032
          ],
          [
           5243,
           4552,
           4333.5,
           4244.5,
           4392,
           4881,
           5660.5,
           6651,
           7759.5,
           8671,
           7831,
           7757,
           9171,
           9969,
           10073,
           10214.5,
           9953.5,
           9390.5,
           9065.5,
           9164,
           9511.5,
           9379.5,
           8996,
           8403,
           7223,
           5539,
           5006.5,
           4948.5
          ],
          [
           5102.5,
           4516,
           4517,
           4678,
           5144,
           5966,
           6825,
           7958,
           8865,
           9031.5,
           7820,
           7724,
           8917,
           9220,
           8747.5,
           8752,
           8459,
           8264.5,
           8349.5,
           8485.5,
           9062.5,
           9285.5,
           9035,
           8232,
           6938.5,
           5243.5,
           4632,
           4665
          ],
          [
           4959.5,
           4486,
           4743,
           5215.5,
           5988,
           6907,
           7998,
           8989.5,
           9161.5,
           8794.5,
           7622.5,
           7471.5,
           8284.5,
           8188,
           7295,
           7235.5,
           7001,
           7164,
           7477,
           7836,
           8589,
           9001,
           8757.5,
           7736.5,
           6540,
           4985,
           4251.5,
           4424
          ],
          [
           4822.5,
           4448.5,
           4823,
           5508,
           6369,
           7482,
           8368,
           9022,
           8841,
           8209.5,
           7280.5,
           7042.5,
           7449.5,
           7107.5,
           6140,
           6023,
           5927.5,
           6245.5,
           6629,
           7164.5,
           7925,
           8305,
           8055,
           7023,
           5952.5,
           4778.5,
           4189,
           4498
          ],
          [
           4741,
           4439.5,
           4876.5,
           5508,
           6291,
           7439.5,
           8135.5,
           8421.5,
           8231,
           7592,
           7014.5,
           6804.5,
           6789,
           6273,
           5486,
           5387.5,
           5452,
           5726.5,
           6019,
           6465.5,
           7086,
           7420.5,
           7209,
           6387,
           5546,
           4748,
           4451,
           4854.5
          ],
          [
           4785.5,
           4568,
           4959,
           5343.5,
           6049,
           6957.5,
           7445,
           7644,
           7710.5,
           7331.5,
           6986,
           6867.5,
           6564.5,
           6134.5,
           5262,
           5188,
           5331.5,
           5402,
           5519,
           5682.5,
           5987.5,
           6145.5,
           5966.5,
           5456,
           4960,
           4711.5,
           4833,
           5271.5
          ],
          [
           4872.5,
           4659.5,
           4917.5,
           5212,
           5731,
           6354,
           6701.5,
           7042.5,
           7461,
           7493.5,
           7250.5,
           7320.5,
           6955.5,
           6293.5,
           5583.5,
           5412.5,
           5324,
           5152.5,
           5131.5,
           5101.5,
           5089.5,
           4962.5,
           4785.5,
           4698.5,
           4588.5,
           4788,
           5170.5,
           5516.5
          ],
          [
           5059.5,
           4741.5,
           4878.5,
           5148,
           5478,
           5842.5,
           6196,
           6639,
           7167,
           7480.5,
           7376,
           7336.5,
           7158,
           6309,
           5621,
           5425.5,
           5224.5,
           4994.5,
           4915.5,
           4794.5,
           4597,
           4411.5,
           4344.5,
           4456,
           4532.5,
           4927,
           5392.5,
           5595
          ],
          [
           5308,
           4924,
           4949,
           5073.5,
           5300,
           5595.5,
           5905.5,
           6270.5,
           6710,
           7058.5,
           6971.5,
           6996.5,
           6923.5,
           6266,
           5643,
           5317,
           5049.5,
           4992.5,
           4934.5,
           4750.5,
           4581,
           4490.5,
           4449,
           4509.5,
           4722,
           5157.5,
           5550.5,
           5620.5
          ],
          [
           5614.5,
           5049,
           4996,
           5070,
           5145.5,
           5372,
           5638,
           5864,
           6033.5,
           6271,
           6221,
           6310,
           6331,
           5892,
           5469.5,
           5167,
           4912.5,
           4890,
           4935.5,
           4816.5,
           4689.5,
           4659.5,
           4707,
           4747,
           5005,
           5454,
           5711,
           5635
          ],
          [
           6074,
           5340.5,
           5149.5,
           5122,
           5130,
           5262,
           5369,
           5466,
           5478,
           5511.5,
           5478.5,
           5558.5,
           5664.5,
           5467,
           5203,
           4995,
           4856.5,
           4904,
           4967.5,
           4914.5,
           4911.5,
           4856.5,
           4930,
           4983,
           5246.5,
           5672,
           5691,
           5385
          ],
          [
           6513.5,
           5759.5,
           5532,
           5388.5,
           5274,
           5264,
           5223,
           5158,
           5071,
           4991,
           4955.5,
           5059,
           5105.5,
           5067,
           4936,
           4904,
           4941.5,
           5040.5,
           5034,
           4943.5,
           5046.5,
           5003.5,
           4967.5,
           4892.5,
           5172,
           5568.5,
           5321,
           4765
          ],
          [
           6708,
           6089.5,
           6001,
           5843,
           5669.5,
           5569.5,
           5403,
           5242.5,
           5032,
           4852.5,
           4827,
           4922,
           4911.5,
           4885.5,
           4800.5,
           4849.5,
           4987.5,
           5088.5,
           5016.5,
           4857,
           4866,
           4753.5,
           4655.5,
           4453,
           4735,
           5056.5,
           4710.5,
           4136.5
          ],
          [
           6866.5,
           6443.5,
           6526,
           6446.5,
           6328.5,
           6236,
           6021.5,
           5767.5,
           5476,
           5254.5,
           5198,
           5207,
           5155.5,
           5115,
           5016,
           5080,
           5206.5,
           5204,
           5028,
           4816.5,
           4763,
           4579,
           4415.5,
           4222.5,
           4485,
           4747,
           4476.5,
           4211.5
          ]
         ]
        }
       ],
       "layout": {
        "annotations": [
         {
          "font": {},
          "showarrow": false,
          "text": "facet_col=0",
          "x": 0.245,
          "xanchor": "center",
          "xref": "paper",
          "y": 1,
          "yanchor": "bottom",
          "yref": "paper"
         },
         {
          "font": {},
          "showarrow": false,
          "text": "facet_col=1",
          "x": 0.755,
          "xanchor": "center",
          "xref": "paper",
          "y": 1,
          "yanchor": "bottom",
          "yref": "paper"
         }
        ],
        "coloraxis": {
         "colorscale": [
          [
           0,
           "#0d0887"
          ],
          [
           0.1111111111111111,
           "#46039f"
          ],
          [
           0.2222222222222222,
           "#7201a8"
          ],
          [
           0.3333333333333333,
           "#9c179e"
          ],
          [
           0.4444444444444444,
           "#bd3786"
          ],
          [
           0.5555555555555556,
           "#d8576b"
          ],
          [
           0.6666666666666666,
           "#ed7953"
          ],
          [
           0.7777777777777778,
           "#fb9f3a"
          ],
          [
           0.8888888888888888,
           "#fdca26"
          ],
          [
           1,
           "#f0f921"
          ]
         ]
        },
        "margin": {
         "t": 60
        },
        "template": {
         "data": {
          "bar": [
           {
            "error_x": {
             "color": "#2a3f5f"
            },
            "error_y": {
             "color": "#2a3f5f"
            },
            "marker": {
             "line": {
              "color": "#E5ECF6",
              "width": 0.5
             },
             "pattern": {
              "fillmode": "overlay",
              "size": 10,
              "solidity": 0.2
             }
            },
            "type": "bar"
           }
          ],
          "barpolar": [
           {
            "marker": {
             "line": {
              "color": "#E5ECF6",
              "width": 0.5
             },
             "pattern": {
              "fillmode": "overlay",
              "size": 10,
              "solidity": 0.2
             }
            },
            "type": "barpolar"
           }
          ],
          "carpet": [
           {
            "aaxis": {
             "endlinecolor": "#2a3f5f",
             "gridcolor": "white",
             "linecolor": "white",
             "minorgridcolor": "white",
             "startlinecolor": "#2a3f5f"
            },
            "baxis": {
             "endlinecolor": "#2a3f5f",
             "gridcolor": "white",
             "linecolor": "white",
             "minorgridcolor": "white",
             "startlinecolor": "#2a3f5f"
            },
            "type": "carpet"
           }
          ],
          "choropleth": [
           {
            "colorbar": {
             "outlinewidth": 0,
             "ticks": ""
            },
            "type": "choropleth"
           }
          ],
          "contour": [
           {
            "colorbar": {
             "outlinewidth": 0,
             "ticks": ""
            },
            "colorscale": [
             [
              0,
              "#0d0887"
             ],
             [
              0.1111111111111111,
              "#46039f"
             ],
             [
              0.2222222222222222,
              "#7201a8"
             ],
             [
              0.3333333333333333,
              "#9c179e"
             ],
             [
              0.4444444444444444,
              "#bd3786"
             ],
             [
              0.5555555555555556,
              "#d8576b"
             ],
             [
              0.6666666666666666,
              "#ed7953"
             ],
             [
              0.7777777777777778,
              "#fb9f3a"
             ],
             [
              0.8888888888888888,
              "#fdca26"
             ],
             [
              1,
              "#f0f921"
             ]
            ],
            "type": "contour"
           }
          ],
          "contourcarpet": [
           {
            "colorbar": {
             "outlinewidth": 0,
             "ticks": ""
            },
            "type": "contourcarpet"
           }
          ],
          "heatmap": [
           {
            "colorbar": {
             "outlinewidth": 0,
             "ticks": ""
            },
            "colorscale": [
             [
              0,
              "#0d0887"
             ],
             [
              0.1111111111111111,
              "#46039f"
             ],
             [
              0.2222222222222222,
              "#7201a8"
             ],
             [
              0.3333333333333333,
              "#9c179e"
             ],
             [
              0.4444444444444444,
              "#bd3786"
             ],
             [
              0.5555555555555556,
              "#d8576b"
             ],
             [
              0.6666666666666666,
              "#ed7953"
             ],
             [
              0.7777777777777778,
              "#fb9f3a"
             ],
             [
              0.8888888888888888,
              "#fdca26"
             ],
             [
              1,
              "#f0f921"
             ]
            ],
            "type": "heatmap"
           }
          ],
          "heatmapgl": [
           {
            "colorbar": {
             "outlinewidth": 0,
             "ticks": ""
            },
            "colorscale": [
             [
              0,
              "#0d0887"
             ],
             [
              0.1111111111111111,
              "#46039f"
             ],
             [
              0.2222222222222222,
              "#7201a8"
             ],
             [
              0.3333333333333333,
              "#9c179e"
             ],
             [
              0.4444444444444444,
              "#bd3786"
             ],
             [
              0.5555555555555556,
              "#d8576b"
             ],
             [
              0.6666666666666666,
              "#ed7953"
             ],
             [
              0.7777777777777778,
              "#fb9f3a"
             ],
             [
              0.8888888888888888,
              "#fdca26"
             ],
             [
              1,
              "#f0f921"
             ]
            ],
            "type": "heatmapgl"
           }
          ],
          "histogram": [
           {
            "marker": {
             "pattern": {
              "fillmode": "overlay",
              "size": 10,
              "solidity": 0.2
             }
            },
            "type": "histogram"
           }
          ],
          "histogram2d": [
           {
            "colorbar": {
             "outlinewidth": 0,
             "ticks": ""
            },
            "colorscale": [
             [
              0,
              "#0d0887"
             ],
             [
              0.1111111111111111,
              "#46039f"
             ],
             [
              0.2222222222222222,
              "#7201a8"
             ],
             [
              0.3333333333333333,
              "#9c179e"
             ],
             [
              0.4444444444444444,
              "#bd3786"
             ],
             [
              0.5555555555555556,
              "#d8576b"
             ],
             [
              0.6666666666666666,
              "#ed7953"
             ],
             [
              0.7777777777777778,
              "#fb9f3a"
             ],
             [
              0.8888888888888888,
              "#fdca26"
             ],
             [
              1,
              "#f0f921"
             ]
            ],
            "type": "histogram2d"
           }
          ],
          "histogram2dcontour": [
           {
            "colorbar": {
             "outlinewidth": 0,
             "ticks": ""
            },
            "colorscale": [
             [
              0,
              "#0d0887"
             ],
             [
              0.1111111111111111,
              "#46039f"
             ],
             [
              0.2222222222222222,
              "#7201a8"
             ],
             [
              0.3333333333333333,
              "#9c179e"
             ],
             [
              0.4444444444444444,
              "#bd3786"
             ],
             [
              0.5555555555555556,
              "#d8576b"
             ],
             [
              0.6666666666666666,
              "#ed7953"
             ],
             [
              0.7777777777777778,
              "#fb9f3a"
             ],
             [
              0.8888888888888888,
              "#fdca26"
             ],
             [
              1,
              "#f0f921"
             ]
            ],
            "type": "histogram2dcontour"
           }
          ],
          "mesh3d": [
           {
            "colorbar": {
             "outlinewidth": 0,
             "ticks": ""
            },
            "type": "mesh3d"
           }
          ],
          "parcoords": [
           {
            "line": {
             "colorbar": {
              "outlinewidth": 0,
              "ticks": ""
             }
            },
            "type": "parcoords"
           }
          ],
          "pie": [
           {
            "automargin": true,
            "type": "pie"
           }
          ],
          "scatter": [
           {
            "fillpattern": {
             "fillmode": "overlay",
             "size": 10,
             "solidity": 0.2
            },
            "type": "scatter"
           }
          ],
          "scatter3d": [
           {
            "line": {
             "colorbar": {
              "outlinewidth": 0,
              "ticks": ""
             }
            },
            "marker": {
             "colorbar": {
              "outlinewidth": 0,
              "ticks": ""
             }
            },
            "type": "scatter3d"
           }
          ],
          "scattercarpet": [
           {
            "marker": {
             "colorbar": {
              "outlinewidth": 0,
              "ticks": ""
             }
            },
            "type": "scattercarpet"
           }
          ],
          "scattergeo": [
           {
            "marker": {
             "colorbar": {
              "outlinewidth": 0,
              "ticks": ""
             }
            },
            "type": "scattergeo"
           }
          ],
          "scattergl": [
           {
            "marker": {
             "colorbar": {
              "outlinewidth": 0,
              "ticks": ""
             }
            },
            "type": "scattergl"
           }
          ],
          "scattermapbox": [
           {
            "marker": {
             "colorbar": {
              "outlinewidth": 0,
              "ticks": ""
             }
            },
            "type": "scattermapbox"
           }
          ],
          "scatterpolar": [
           {
            "marker": {
             "colorbar": {
              "outlinewidth": 0,
              "ticks": ""
             }
            },
            "type": "scatterpolar"
           }
          ],
          "scatterpolargl": [
           {
            "marker": {
             "colorbar": {
              "outlinewidth": 0,
              "ticks": ""
             }
            },
            "type": "scatterpolargl"
           }
          ],
          "scatterternary": [
           {
            "marker": {
             "colorbar": {
              "outlinewidth": 0,
              "ticks": ""
             }
            },
            "type": "scatterternary"
           }
          ],
          "surface": [
           {
            "colorbar": {
             "outlinewidth": 0,
             "ticks": ""
            },
            "colorscale": [
             [
              0,
              "#0d0887"
             ],
             [
              0.1111111111111111,
              "#46039f"
             ],
             [
              0.2222222222222222,
              "#7201a8"
             ],
             [
              0.3333333333333333,
              "#9c179e"
             ],
             [
              0.4444444444444444,
              "#bd3786"
             ],
             [
              0.5555555555555556,
              "#d8576b"
             ],
             [
              0.6666666666666666,
              "#ed7953"
             ],
             [
              0.7777777777777778,
              "#fb9f3a"
             ],
             [
              0.8888888888888888,
              "#fdca26"
             ],
             [
              1,
              "#f0f921"
             ]
            ],
            "type": "surface"
           }
          ],
          "table": [
           {
            "cells": {
             "fill": {
              "color": "#EBF0F8"
             },
             "line": {
              "color": "white"
             }
            },
            "header": {
             "fill": {
              "color": "#C8D4E3"
             },
             "line": {
              "color": "white"
             }
            },
            "type": "table"
           }
          ]
         },
         "layout": {
          "annotationdefaults": {
           "arrowcolor": "#2a3f5f",
           "arrowhead": 0,
           "arrowwidth": 1
          },
          "autotypenumbers": "strict",
          "coloraxis": {
           "colorbar": {
            "outlinewidth": 0,
            "ticks": ""
           }
          },
          "colorscale": {
           "diverging": [
            [
             0,
             "#8e0152"
            ],
            [
             0.1,
             "#c51b7d"
            ],
            [
             0.2,
             "#de77ae"
            ],
            [
             0.3,
             "#f1b6da"
            ],
            [
             0.4,
             "#fde0ef"
            ],
            [
             0.5,
             "#f7f7f7"
            ],
            [
             0.6,
             "#e6f5d0"
            ],
            [
             0.7,
             "#b8e186"
            ],
            [
             0.8,
             "#7fbc41"
            ],
            [
             0.9,
             "#4d9221"
            ],
            [
             1,
             "#276419"
            ]
           ],
           "sequential": [
            [
             0,
             "#0d0887"
            ],
            [
             0.1111111111111111,
             "#46039f"
            ],
            [
             0.2222222222222222,
             "#7201a8"
            ],
            [
             0.3333333333333333,
             "#9c179e"
            ],
            [
             0.4444444444444444,
             "#bd3786"
            ],
            [
             0.5555555555555556,
             "#d8576b"
            ],
            [
             0.6666666666666666,
             "#ed7953"
            ],
            [
             0.7777777777777778,
             "#fb9f3a"
            ],
            [
             0.8888888888888888,
             "#fdca26"
            ],
            [
             1,
             "#f0f921"
            ]
           ],
           "sequentialminus": [
            [
             0,
             "#0d0887"
            ],
            [
             0.1111111111111111,
             "#46039f"
            ],
            [
             0.2222222222222222,
             "#7201a8"
            ],
            [
             0.3333333333333333,
             "#9c179e"
            ],
            [
             0.4444444444444444,
             "#bd3786"
            ],
            [
             0.5555555555555556,
             "#d8576b"
            ],
            [
             0.6666666666666666,
             "#ed7953"
            ],
            [
             0.7777777777777778,
             "#fb9f3a"
            ],
            [
             0.8888888888888888,
             "#fdca26"
            ],
            [
             1,
             "#f0f921"
            ]
           ]
          },
          "colorway": [
           "#636efa",
           "#EF553B",
           "#00cc96",
           "#ab63fa",
           "#FFA15A",
           "#19d3f3",
           "#FF6692",
           "#B6E880",
           "#FF97FF",
           "#FECB52"
          ],
          "font": {
           "color": "#2a3f5f"
          },
          "geo": {
           "bgcolor": "white",
           "lakecolor": "white",
           "landcolor": "#E5ECF6",
           "showlakes": true,
           "showland": true,
           "subunitcolor": "white"
          },
          "hoverlabel": {
           "align": "left"
          },
          "hovermode": "closest",
          "mapbox": {
           "style": "light"
          },
          "paper_bgcolor": "white",
          "plot_bgcolor": "#E5ECF6",
          "polar": {
           "angularaxis": {
            "gridcolor": "white",
            "linecolor": "white",
            "ticks": ""
           },
           "bgcolor": "#E5ECF6",
           "radialaxis": {
            "gridcolor": "white",
            "linecolor": "white",
            "ticks": ""
           }
          },
          "scene": {
           "xaxis": {
            "backgroundcolor": "#E5ECF6",
            "gridcolor": "white",
            "gridwidth": 2,
            "linecolor": "white",
            "showbackground": true,
            "ticks": "",
            "zerolinecolor": "white"
           },
           "yaxis": {
            "backgroundcolor": "#E5ECF6",
            "gridcolor": "white",
            "gridwidth": 2,
            "linecolor": "white",
            "showbackground": true,
            "ticks": "",
            "zerolinecolor": "white"
           },
           "zaxis": {
            "backgroundcolor": "#E5ECF6",
            "gridcolor": "white",
            "gridwidth": 2,
            "linecolor": "white",
            "showbackground": true,
            "ticks": "",
            "zerolinecolor": "white"
           }
          },
          "shapedefaults": {
           "line": {
            "color": "#2a3f5f"
           }
          },
          "ternary": {
           "aaxis": {
            "gridcolor": "white",
            "linecolor": "white",
            "ticks": ""
           },
           "baxis": {
            "gridcolor": "white",
            "linecolor": "white",
            "ticks": ""
           },
           "bgcolor": "#E5ECF6",
           "caxis": {
            "gridcolor": "white",
            "linecolor": "white",
            "ticks": ""
           }
          },
          "title": {
           "x": 0.05
          },
          "xaxis": {
           "automargin": true,
           "gridcolor": "white",
           "linecolor": "white",
           "ticks": "",
           "title": {
            "standoff": 15
           },
           "zerolinecolor": "white",
           "zerolinewidth": 2
          },
          "yaxis": {
           "automargin": true,
           "gridcolor": "white",
           "linecolor": "white",
           "ticks": "",
           "title": {
            "standoff": 15
           },
           "zerolinecolor": "white",
           "zerolinewidth": 2
          }
         }
        },
        "xaxis": {
         "anchor": "y",
         "constrain": "domain",
         "domain": [
          0,
          0.49
         ],
         "scaleanchor": "y"
        },
        "xaxis2": {
         "anchor": "y2",
         "domain": [
          0.51,
          1
         ],
         "matches": "x"
        },
        "yaxis": {
         "anchor": "x",
         "autorange": "reversed",
         "constrain": "domain",
         "domain": [
          0,
          1
         ]
        },
        "yaxis2": {
         "anchor": "x2",
         "domain": [
          0,
          1
         ],
         "matches": "y",
         "showticklabels": false
        }
       }
      }
     },
     "metadata": {},
     "output_type": "display_data"
    },
    {
     "data": {
      "text/plain": [
       "'custom'"
      ]
     },
     "metadata": {},
     "output_type": "display_data"
    },
    {
     "data": {
      "application/vnd.plotly.v1+json": {
       "config": {
        "plotlyServerURL": "https://plot.ly"
       },
       "data": [
        {
         "coloraxis": "coloraxis",
         "hovertemplate": "x: %{x}<br>y: %{y}<br>color: %{z}<extra></extra>",
         "name": "0",
         "type": "heatmap",
         "xaxis": "x",
         "yaxis": "y",
         "z": [
          [
           1570,
           1838,
           2204,
           2403,
           2530,
           2662,
           2700,
           2655,
           2692,
           2765,
           2702,
           2619,
           2654,
           2647,
           2556,
           2547,
           2637,
           2764,
           2838,
           2923,
           3002,
           3036,
           3048,
           3061,
           3032,
           2985,
           2852,
           2689
          ],
          [
           1400,
           1733,
           2086,
           2285,
           2391,
           2433,
           2410,
           2317,
           2285,
           2270,
           2198,
           2147,
           2172,
           2140,
           2053,
           2054,
           2147,
           2225,
           2287,
           2407,
           2504,
           2560,
           2575,
           2629,
           2586,
           2400,
           2126,
           1918
          ],
          [
           1795,
           2058,
           2292,
           2403,
           2456,
           2473,
           2425,
           2390,
           2354,
           2296,
           2169,
           2114,
           2094,
           2061,
           1973,
           1960,
           1975,
           1978,
           2085,
           2221,
           2385,
           2564,
           2731,
           2706,
           2636,
           2474,
           2244,
           2013
          ],
          [
           2090,
           2215,
           2379,
           2404,
           2389,
           2407,
           2476,
           2448,
           2343,
           2236,
           2060,
           1888,
           1931,
           2127,
           2231,
           2273,
           2340,
           2257,
           2190,
           2147,
           2295,
           2600,
           2736,
           2664,
           2641,
           2549,
           2430,
           2241
          ],
          [
           2287,
           2338,
           2473,
           2464,
           2381,
           2450,
           2532,
           2383,
           2161,
           2055,
           1816,
           1546,
           1728,
           2067,
           2314,
           2470,
           2582,
           2445,
           2210,
           2048,
           2165,
           2334,
           2402,
           2456,
           2499,
           2437,
           2298,
           2187
          ],
          [
           2633,
           2642,
           2656,
           2558,
           2497,
           2534,
           2480,
           2254,
           2102,
           1955,
           1682,
           1556,
           1694,
           1851,
           2017,
           2108,
           2124,
           2041,
           1910,
           1869,
           1927,
           2059,
           2177,
           2344,
           2485,
           2440,
           2222,
           2076
          ],
          [
           2958,
           2911,
           2828,
           2734,
           2730,
           2729,
           2558,
           2455,
           2305,
           1965,
           1756,
           1769,
           1790,
           1871,
           1967,
           1913,
           1917,
           2004,
           2211,
           2253,
           2333,
           2526,
           2498,
           2457,
           2548,
           2582,
           2461,
           2387
          ],
          [
           3011,
           2914,
           2858,
           2754,
           2746,
           2725,
           2649,
           2595,
           2391,
           2143,
           2049,
           2049,
           2252,
           2611,
           2712,
           2698,
           2805,
           2818,
           2893,
           2762,
           2826,
           2834,
           2714,
           2533,
           2587,
           2643,
           2625,
           2563
          ],
          [
           3030,
           2880,
           2729,
           2595,
           2556,
           2482,
           2450,
           2514,
           2437,
           2417,
           2508,
           2614,
           2926,
           3298,
           3523,
           3537,
           3586,
           3453,
           3223,
           2924,
           2742,
           2633,
           2512,
           2475,
           2626,
           2729,
           2723,
           2725
          ],
          [
           3264,
           2991,
           2724,
           2535,
           2378,
           2234,
           2231,
           2395,
           2436,
           2597,
           2974,
           3289,
           3466,
           3784,
           4020,
           3972,
           3966,
           3832,
           3687,
           3388,
           3129,
           2933,
           2792,
           2728,
           2773,
           2805,
           2784,
           2772
          ],
          [
           3291,
           3021,
           2823,
           2627,
           2419,
           2288,
           2362,
           2500,
           2525,
           2842,
           3411,
           3743,
           4002,
           4471,
           4669,
           4659,
           4587,
           4630,
           4571,
           4362,
           4173,
           3943,
           3567,
           3298,
           3094,
           2885,
           2764,
           2779
          ],
          [
           3145,
           2864,
           2601,
           2308,
           2165,
           2198,
           2480,
           2699,
           2969,
           3533,
           3863,
           4020,
           4566,
           5031,
           5278,
           5385,
           5393,
           5387,
           5333,
           5150,
           5033,
           4696,
           4284,
           3824,
           3359,
           2907,
           2745,
           2747
          ],
          [
           3127,
           2796,
           2486,
           2229,
           2154,
           2270,
           2714,
           3158,
           3709,
           4199,
           4354,
           4634,
           5176,
           5619,
           5957,
           6011,
           5902,
           5548,
           5311,
           5171,
           4983,
           4684,
           4489,
           4119,
           3545,
           3101,
           2963,
           2876
          ],
          [
           3064,
           2709,
           2460,
           2315,
           2341,
           2657,
           3119,
           3775,
           4338,
           4577,
           4743,
           5129,
           5581,
           5959,
           6089,
           5986,
           5757,
           5418,
           5240,
           5214,
           5185,
           4940,
           4674,
           4257,
           3692,
           3273,
           3127,
           3033
          ],
          [
           2893,
           2595,
           2442,
           2501,
           2721,
           3169,
           3754,
           4447,
           4677,
           4771,
           4759,
           5113,
           5623,
           5796,
           5678,
           5509,
           5332,
           5285,
           5310,
           5544,
           5802,
           5546,
           4989,
           4448,
           3766,
           3117,
           2916,
           2941
          ],
          [
           2865,
           2605,
           2564,
           2780,
           3129,
           3762,
           4595,
           4879,
           4843,
           4752,
           4459,
           4712,
           5144,
           5147,
           4974,
           4968,
           4873,
           4940,
           5174,
           5530,
           5916,
           5712,
           5166,
           4425,
           3529,
           2720,
           2462,
           2568
          ],
          [
           2857,
           2638,
           2831,
           3164,
           3615,
           4471,
           5186,
           4976,
           4734,
           4585,
           4361,
           4487,
           4755,
           4702,
           4555,
           4530,
           4423,
           4377,
           4517,
           4885,
           5266,
           5230,
           4853,
           4144,
           3402,
           2778,
           2502,
           2598
          ],
          [
           2775,
           2660,
           2825,
           3102,
           3786,
           4681,
           4912,
           4726,
           4736,
           4706,
           4497,
           4504,
           4584,
           4394,
           4066,
           3943,
           3923,
           3805,
           3880,
           4246,
           4565,
           4460,
           4086,
           3653,
           3224,
           2916,
           2829,
           3019
          ],
          [
           2683,
           2626,
           2650,
           3054,
           3822,
           4402,
           4421,
           4597,
           4849,
           4801,
           4512,
           4353,
           4161,
           3735,
           3429,
           3383,
           3393,
           3559,
           3823,
           4173,
           4365,
           4152,
           3795,
           3480,
           3167,
           2907,
           2927,
           3217
          ],
          [
           2811,
           2792,
           3019,
           3572,
           4094,
           4339,
           4424,
           4523,
           4637,
           4600,
           4274,
           4032,
           3689,
           3349,
           3086,
           3049,
           3159,
           3420,
           3699,
           3824,
           3845,
           3669,
           3432,
           3235,
           3029,
           2886,
           2934,
           3147
          ],
          [
           2788,
           2760,
           3221,
           3673,
           3952,
           4204,
           4295,
           4268,
           4376,
           4485,
           4294,
           4213,
           4025,
           3632,
           3296,
           3180,
           3121,
           3167,
           3212,
           3177,
           3161,
           3069,
           2990,
           3003,
           3063,
           3110,
           3153,
           3268
          ],
          [
           2749,
           2709,
           2922,
           3127,
           3399,
           3712,
           3843,
           3937,
           4178,
           4252,
           4125,
           4077,
           3929,
           3562,
           3283,
           3105,
           2952,
           2854,
           2841,
           2821,
           2788,
           2855,
           2933,
           3019,
           3112,
           3254,
           3416,
           3599
          ],
          [
           2959,
           2818,
           2767,
           2820,
           3051,
           3293,
           3451,
           3612,
           3816,
           3867,
           3820,
           3657,
           3495,
           3312,
           3128,
           3018,
           2981,
           3028,
           3030,
           2979,
           3002,
           3077,
           3117,
           3096,
           3111,
           3257,
           3486,
           3715
          ],
          [
           3280,
           2975,
           2885,
           2908,
           3018,
           3113,
           3208,
           3352,
           3518,
           3671,
           3573,
           3476,
           3335,
           3114,
           2937,
           2937,
           3014,
           3037,
           2949,
           2818,
           2755,
           2770,
           2848,
           2889,
           3054,
           3307,
           3484,
           3596
          ],
          [
           3492,
           3187,
           3140,
           3148,
           3174,
           3248,
           3261,
           3406,
           3550,
           3578,
           3555,
           3606,
           3431,
           3132,
           2990,
           2973,
           2964,
           2855,
           2744,
           2658,
           2569,
           2574,
           2689,
           2787,
           3028,
           3286,
           3322,
           3197
          ],
          [
           3696,
           3443,
           3383,
           3319,
           3249,
           3251,
           3242,
           3187,
           3201,
           3183,
           3197,
           3208,
           3136,
           2995,
           2949,
           2933,
           2894,
           2855,
           2826,
           2821,
           2830,
           2838,
           2796,
           2673,
           2777,
           3037,
           3029,
           2854
          ],
          [
           3800,
           3622,
           3561,
           3508,
           3447,
           3355,
           3186,
           2979,
           2902,
           2947,
           2955,
           2920,
           2896,
           2914,
           2890,
           2883,
           2937,
           2984,
           2932,
           2855,
           2851,
           2784,
           2615,
           2377,
           2521,
           2859,
           2868,
           2800
          ],
          [
           3905,
           3802,
           3870,
           3893,
           3881,
           3784,
           3548,
           3338,
           3226,
           3172,
           3111,
           3086,
           3068,
           3051,
           3038,
           3065,
           3083,
           3033,
           2948,
           2852,
           2809,
           2764,
           2678,
           2607,
           2866,
           3243,
           3224,
           3162
          ]
         ]
        },
        {
         "coloraxis": "coloraxis",
         "hovertemplate": "x: %{x}<br>y: %{y}<br>color: %{z}<extra></extra>",
         "name": "1",
         "type": "heatmap",
         "xaxis": "x2",
         "yaxis": "y2",
         "z": [
          [
           1988.5,
           2283.5,
           3128.5,
           3688.5,
           4027.5,
           4257.5,
           4310.5,
           4172,
           4096,
           4225.5,
           4272,
           4141.5,
           4186,
           4392,
           4257.5,
           4222,
           4238,
           4358.5,
           4552,
           4662.5,
           4789,
           4843.5,
           4776.5,
           4778,
           4774,
           4747,
           4643.5,
           4537
          ],
          [
           2281,
           2653.5,
           3412,
           3819,
           3997.5,
           4073,
           4103,
           3971.5,
           3881,
           4071,
           4096.5,
           3898,
           3962.5,
           4121,
           3974.5,
           3893.5,
           3909,
           4062.5,
           4205,
           4327.5,
           4554,
           4654,
           4468,
           4476.5,
           4461.5,
           4357,
           4065,
           3796.5
          ],
          [
           2875.5,
           3249.5,
           3823.5,
           4014.5,
           4085.5,
           4084.5,
           4060.5,
           3974.5,
           3952.5,
           4108.5,
           3936,
           3738,
           3739.5,
           3725.5,
           3565,
           3442,
           3525.5,
           3707.5,
           3788,
           3954.5,
           4253.5,
           4514.5,
           4614,
           4413,
           4348.5,
           4245.5,
           3827,
           3403
          ],
          [
           3449.5,
           3721,
           4142,
           4244.5,
           4194.5,
           4142,
           4168,
           4077.5,
           3979,
           3955.5,
           3683.5,
           3373,
           3321.5,
           3370,
           3291.5,
           3186.5,
           3536,
           3728.5,
           3518.5,
           3567,
           3919.5,
           4286.5,
           4596.5,
           4345,
           4321.5,
           4201.5,
           3764.5,
           3281.5
          ],
          [
           3975,
           4051.5,
           4334.5,
           4351.5,
           4264.5,
           4244,
           4273.5,
           4154,
           3945.5,
           3799,
           3435.5,
           2888.5,
           2870,
           3100.5,
           3226,
           3238,
           3732.5,
           3656,
           3286.5,
           3208,
           3472,
           3944,
           4336.5,
           4176,
           4302.5,
           4265,
           3878,
           3501.5
          ],
          [
           4536,
           4444.5,
           4589.5,
           4514.5,
           4383,
           4367.5,
           4361,
           4232.5,
           3919.5,
           3637.5,
           3110.5,
           2523,
           2586,
           2976,
           3339.5,
           3530.5,
           3965,
           3637,
           3239,
           2989,
           3144,
           3617.5,
           3997,
           3978.5,
           4303.5,
           4436.5,
           4153,
           3903.5
          ],
          [
           5018,
           4829.5,
           4855.5,
           4694.5,
           4565.5,
           4561.5,
           4509.5,
           4296,
           3957,
           3547.5,
           2868,
           2535,
           2678.5,
           3113,
           3716.5,
           3990,
           4342.5,
           3972,
           3637.5,
           3281,
           3306,
           3828,
           3969,
           3885,
           4302.5,
           4603.5,
           4427,
           4292.5
          ],
          [
           5331.5,
           5103.5,
           5023.5,
           4761.5,
           4652,
           4692,
           4535,
           4212.5,
           4057,
           3621,
           3011.5,
           3067,
           3262.5,
           3783,
           4335.5,
           4517.5,
           4937,
           4653.5,
           4569.5,
           4102,
           4035.5,
           4298.5,
           4228,
           3947,
           4273.5,
           4716.5,
           4620.5,
           4550.5
          ],
          [
           5550.5,
           5263.5,
           5062.5,
           4782.5,
           4711.5,
           4610.5,
           4298,
           4196,
           4226,
           3807.5,
           3642.5,
           4302,
           4383.5,
           4909.5,
           5384.5,
           5332.5,
           5722.5,
           5609,
           5658.5,
           5108,
           4962,
           4840.5,
           4430,
           4065,
           4306,
           4717.5,
           4698.5,
           4695
          ],
          [
           5694.5,
           5342.5,
           4990,
           4633,
           4454,
           4158,
           3918.5,
           4170,
           4305,
           4224.5,
           4688.5,
           5767,
           5762.5,
           6243.5,
           6753,
           6482,
           6673.5,
           6709,
           6757,
           6356.5,
           6096,
           5696,
           5101,
           4558,
           4607,
           4779.5,
           4768,
           4741.5
          ],
          [
           5635,
           5242.5,
           4849.5,
           4479.5,
           4218.5,
           3659.5,
           3717,
           4267,
           4448,
           4843,
           5899.5,
           6989.5,
           6917.5,
           7644,
           8193.5,
           7991,
           8041.5,
           7985.5,
           7988.5,
           7606.5,
           7315.5,
           6841,
           6040.5,
           5435.5,
           5276,
           4935.5,
           4769,
           4770.5
          ],
          [
           5601.5,
           5060,
           4598.5,
           4207.5,
           3896,
           3275.5,
           3672.5,
           4368.5,
           4743,
           5711,
           6998,
           7530,
           7805,
           8819.5,
           9272,
           9408.5,
           9405.5,
           9184.5,
           9015,
           8741.5,
           8544.5,
           7954,
           7154.5,
           6475,
           6029,
           5129.5,
           4776,
           4762.5
          ],
          [
           5505.5,
           4866.5,
           4440,
           4089.5,
           3789.5,
           3328.5,
           4112,
           4857.5,
           5428,
           6679.5,
           7668.5,
           7597.5,
           8435.5,
           9613,
           10164.5,
           10525,
           10373.5,
           9968,
           9657,
           9493.5,
           9339.5,
           8657.5,
           8129.5,
           7530,
           6714,
           5407,
           4967.5,
           4928
          ],
          [
           5390,
           4718.5,
           4416,
           4125,
           3960.5,
           3922.5,
           4885,
           5617,
           6470.5,
           7780,
           7813,
           7630.5,
           8914.5,
           10039,
           10552,
           10875.5,
           10657.5,
           10093,
           9617,
           9577.5,
           9696,
           9172.5,
           8723.5,
           8212,
           7138,
           5580,
           5115.5,
           5032
          ],
          [
           5243,
           4552,
           4333.5,
           4244.5,
           4392,
           4881,
           5660.5,
           6651,
           7759.5,
           8671,
           7831,
           7757,
           9171,
           9969,
           10073,
           10214.5,
           9953.5,
           9390.5,
           9065.5,
           9164,
           9511.5,
           9379.5,
           8996,
           8403,
           7223,
           5539,
           5006.5,
           4948.5
          ],
          [
           5102.5,
           4516,
           4517,
           4678,
           5144,
           5966,
           6825,
           7958,
           8865,
           9031.5,
           7820,
           7724,
           8917,
           9220,
           8747.5,
           8752,
           8459,
           8264.5,
           8349.5,
           8485.5,
           9062.5,
           9285.5,
           9035,
           8232,
           6938.5,
           5243.5,
           4632,
           4665
          ],
          [
           4959.5,
           4486,
           4743,
           5215.5,
           5988,
           6907,
           7998,
           8989.5,
           9161.5,
           8794.5,
           7622.5,
           7471.5,
           8284.5,
           8188,
           7295,
           7235.5,
           7001,
           7164,
           7477,
           7836,
           8589,
           9001,
           8757.5,
           7736.5,
           6540,
           4985,
           4251.5,
           4424
          ],
          [
           4822.5,
           4448.5,
           4823,
           5508,
           6369,
           7482,
           8368,
           9022,
           8841,
           8209.5,
           7280.5,
           7042.5,
           7449.5,
           7107.5,
           6140,
           6023,
           5927.5,
           6245.5,
           6629,
           7164.5,
           7925,
           8305,
           8055,
           7023,
           5952.5,
           4778.5,
           4189,
           4498
          ],
          [
           4741,
           4439.5,
           4876.5,
           5508,
           6291,
           7439.5,
           8135.5,
           8421.5,
           8231,
           7592,
           7014.5,
           6804.5,
           6789,
           6273,
           5486,
           5387.5,
           5452,
           5726.5,
           6019,
           6465.5,
           7086,
           7420.5,
           7209,
           6387,
           5546,
           4748,
           4451,
           4854.5
          ],
          [
           4785.5,
           4568,
           4959,
           5343.5,
           6049,
           6957.5,
           7445,
           7644,
           7710.5,
           7331.5,
           6986,
           6867.5,
           6564.5,
           6134.5,
           5262,
           5188,
           5331.5,
           5402,
           5519,
           5682.5,
           5987.5,
           6145.5,
           5966.5,
           5456,
           4960,
           4711.5,
           4833,
           5271.5
          ],
          [
           4872.5,
           4659.5,
           4917.5,
           5212,
           5731,
           6354,
           6701.5,
           7042.5,
           7461,
           7493.5,
           7250.5,
           7320.5,
           6955.5,
           6293.5,
           5583.5,
           5412.5,
           5324,
           5152.5,
           5131.5,
           5101.5,
           5089.5,
           4962.5,
           4785.5,
           4698.5,
           4588.5,
           4788,
           5170.5,
           5516.5
          ],
          [
           5059.5,
           4741.5,
           4878.5,
           5148,
           5478,
           5842.5,
           6196,
           6639,
           7167,
           7480.5,
           7376,
           7336.5,
           7158,
           6309,
           5621,
           5425.5,
           5224.5,
           4994.5,
           4915.5,
           4794.5,
           4597,
           4411.5,
           4344.5,
           4456,
           4532.5,
           4927,
           5392.5,
           5595
          ],
          [
           5308,
           4924,
           4949,
           5073.5,
           5300,
           5595.5,
           5905.5,
           6270.5,
           6710,
           7058.5,
           6971.5,
           6996.5,
           6923.5,
           6266,
           5643,
           5317,
           5049.5,
           4992.5,
           4934.5,
           4750.5,
           4581,
           4490.5,
           4449,
           4509.5,
           4722,
           5157.5,
           5550.5,
           5620.5
          ],
          [
           5614.5,
           5049,
           4996,
           5070,
           5145.5,
           5372,
           5638,
           5864,
           6033.5,
           6271,
           6221,
           6310,
           6331,
           5892,
           5469.5,
           5167,
           4912.5,
           4890,
           4935.5,
           4816.5,
           4689.5,
           4659.5,
           4707,
           4747,
           5005,
           5454,
           5711,
           5635
          ],
          [
           6074,
           5340.5,
           5149.5,
           5122,
           5130,
           5262,
           5369,
           5466,
           5478,
           5511.5,
           5478.5,
           5558.5,
           5664.5,
           5467,
           5203,
           4995,
           4856.5,
           4904,
           4967.5,
           4914.5,
           4911.5,
           4856.5,
           4930,
           4983,
           5246.5,
           5672,
           5691,
           5385
          ],
          [
           6513.5,
           5759.5,
           5532,
           5388.5,
           5274,
           5264,
           5223,
           5158,
           5071,
           4991,
           4955.5,
           5059,
           5105.5,
           5067,
           4936,
           4904,
           4941.5,
           5040.5,
           5034,
           4943.5,
           5046.5,
           5003.5,
           4967.5,
           4892.5,
           5172,
           5568.5,
           5321,
           4765
          ],
          [
           6708,
           6089.5,
           6001,
           5843,
           5669.5,
           5569.5,
           5403,
           5242.5,
           5032,
           4852.5,
           4827,
           4922,
           4911.5,
           4885.5,
           4800.5,
           4849.5,
           4987.5,
           5088.5,
           5016.5,
           4857,
           4866,
           4753.5,
           4655.5,
           4453,
           4735,
           5056.5,
           4710.5,
           4136.5
          ],
          [
           6866.5,
           6443.5,
           6526,
           6446.5,
           6328.5,
           6236,
           6021.5,
           5767.5,
           5476,
           5254.5,
           5198,
           5207,
           5155.5,
           5115,
           5016,
           5080,
           5206.5,
           5204,
           5028,
           4816.5,
           4763,
           4579,
           4415.5,
           4222.5,
           4485,
           4747,
           4476.5,
           4211.5
          ]
         ]
        }
       ],
       "layout": {
        "annotations": [
         {
          "font": {},
          "showarrow": false,
          "text": "facet_col=0",
          "x": 0.245,
          "xanchor": "center",
          "xref": "paper",
          "y": 1,
          "yanchor": "bottom",
          "yref": "paper"
         },
         {
          "font": {},
          "showarrow": false,
          "text": "facet_col=1",
          "x": 0.755,
          "xanchor": "center",
          "xref": "paper",
          "y": 1,
          "yanchor": "bottom",
          "yref": "paper"
         }
        ],
        "coloraxis": {
         "colorscale": [
          [
           0,
           "#0d0887"
          ],
          [
           0.1111111111111111,
           "#46039f"
          ],
          [
           0.2222222222222222,
           "#7201a8"
          ],
          [
           0.3333333333333333,
           "#9c179e"
          ],
          [
           0.4444444444444444,
           "#bd3786"
          ],
          [
           0.5555555555555556,
           "#d8576b"
          ],
          [
           0.6666666666666666,
           "#ed7953"
          ],
          [
           0.7777777777777778,
           "#fb9f3a"
          ],
          [
           0.8888888888888888,
           "#fdca26"
          ],
          [
           1,
           "#f0f921"
          ]
         ]
        },
        "margin": {
         "t": 60
        },
        "template": {
         "data": {
          "bar": [
           {
            "error_x": {
             "color": "#2a3f5f"
            },
            "error_y": {
             "color": "#2a3f5f"
            },
            "marker": {
             "line": {
              "color": "#E5ECF6",
              "width": 0.5
             },
             "pattern": {
              "fillmode": "overlay",
              "size": 10,
              "solidity": 0.2
             }
            },
            "type": "bar"
           }
          ],
          "barpolar": [
           {
            "marker": {
             "line": {
              "color": "#E5ECF6",
              "width": 0.5
             },
             "pattern": {
              "fillmode": "overlay",
              "size": 10,
              "solidity": 0.2
             }
            },
            "type": "barpolar"
           }
          ],
          "carpet": [
           {
            "aaxis": {
             "endlinecolor": "#2a3f5f",
             "gridcolor": "white",
             "linecolor": "white",
             "minorgridcolor": "white",
             "startlinecolor": "#2a3f5f"
            },
            "baxis": {
             "endlinecolor": "#2a3f5f",
             "gridcolor": "white",
             "linecolor": "white",
             "minorgridcolor": "white",
             "startlinecolor": "#2a3f5f"
            },
            "type": "carpet"
           }
          ],
          "choropleth": [
           {
            "colorbar": {
             "outlinewidth": 0,
             "ticks": ""
            },
            "type": "choropleth"
           }
          ],
          "contour": [
           {
            "colorbar": {
             "outlinewidth": 0,
             "ticks": ""
            },
            "colorscale": [
             [
              0,
              "#0d0887"
             ],
             [
              0.1111111111111111,
              "#46039f"
             ],
             [
              0.2222222222222222,
              "#7201a8"
             ],
             [
              0.3333333333333333,
              "#9c179e"
             ],
             [
              0.4444444444444444,
              "#bd3786"
             ],
             [
              0.5555555555555556,
              "#d8576b"
             ],
             [
              0.6666666666666666,
              "#ed7953"
             ],
             [
              0.7777777777777778,
              "#fb9f3a"
             ],
             [
              0.8888888888888888,
              "#fdca26"
             ],
             [
              1,
              "#f0f921"
             ]
            ],
            "type": "contour"
           }
          ],
          "contourcarpet": [
           {
            "colorbar": {
             "outlinewidth": 0,
             "ticks": ""
            },
            "type": "contourcarpet"
           }
          ],
          "heatmap": [
           {
            "colorbar": {
             "outlinewidth": 0,
             "ticks": ""
            },
            "colorscale": [
             [
              0,
              "#0d0887"
             ],
             [
              0.1111111111111111,
              "#46039f"
             ],
             [
              0.2222222222222222,
              "#7201a8"
             ],
             [
              0.3333333333333333,
              "#9c179e"
             ],
             [
              0.4444444444444444,
              "#bd3786"
             ],
             [
              0.5555555555555556,
              "#d8576b"
             ],
             [
              0.6666666666666666,
              "#ed7953"
             ],
             [
              0.7777777777777778,
              "#fb9f3a"
             ],
             [
              0.8888888888888888,
              "#fdca26"
             ],
             [
              1,
              "#f0f921"
             ]
            ],
            "type": "heatmap"
           }
          ],
          "heatmapgl": [
           {
            "colorbar": {
             "outlinewidth": 0,
             "ticks": ""
            },
            "colorscale": [
             [
              0,
              "#0d0887"
             ],
             [
              0.1111111111111111,
              "#46039f"
             ],
             [
              0.2222222222222222,
              "#7201a8"
             ],
             [
              0.3333333333333333,
              "#9c179e"
             ],
             [
              0.4444444444444444,
              "#bd3786"
             ],
             [
              0.5555555555555556,
              "#d8576b"
             ],
             [
              0.6666666666666666,
              "#ed7953"
             ],
             [
              0.7777777777777778,
              "#fb9f3a"
             ],
             [
              0.8888888888888888,
              "#fdca26"
             ],
             [
              1,
              "#f0f921"
             ]
            ],
            "type": "heatmapgl"
           }
          ],
          "histogram": [
           {
            "marker": {
             "pattern": {
              "fillmode": "overlay",
              "size": 10,
              "solidity": 0.2
             }
            },
            "type": "histogram"
           }
          ],
          "histogram2d": [
           {
            "colorbar": {
             "outlinewidth": 0,
             "ticks": ""
            },
            "colorscale": [
             [
              0,
              "#0d0887"
             ],
             [
              0.1111111111111111,
              "#46039f"
             ],
             [
              0.2222222222222222,
              "#7201a8"
             ],
             [
              0.3333333333333333,
              "#9c179e"
             ],
             [
              0.4444444444444444,
              "#bd3786"
             ],
             [
              0.5555555555555556,
              "#d8576b"
             ],
             [
              0.6666666666666666,
              "#ed7953"
             ],
             [
              0.7777777777777778,
              "#fb9f3a"
             ],
             [
              0.8888888888888888,
              "#fdca26"
             ],
             [
              1,
              "#f0f921"
             ]
            ],
            "type": "histogram2d"
           }
          ],
          "histogram2dcontour": [
           {
            "colorbar": {
             "outlinewidth": 0,
             "ticks": ""
            },
            "colorscale": [
             [
              0,
              "#0d0887"
             ],
             [
              0.1111111111111111,
              "#46039f"
             ],
             [
              0.2222222222222222,
              "#7201a8"
             ],
             [
              0.3333333333333333,
              "#9c179e"
             ],
             [
              0.4444444444444444,
              "#bd3786"
             ],
             [
              0.5555555555555556,
              "#d8576b"
             ],
             [
              0.6666666666666666,
              "#ed7953"
             ],
             [
              0.7777777777777778,
              "#fb9f3a"
             ],
             [
              0.8888888888888888,
              "#fdca26"
             ],
             [
              1,
              "#f0f921"
             ]
            ],
            "type": "histogram2dcontour"
           }
          ],
          "mesh3d": [
           {
            "colorbar": {
             "outlinewidth": 0,
             "ticks": ""
            },
            "type": "mesh3d"
           }
          ],
          "parcoords": [
           {
            "line": {
             "colorbar": {
              "outlinewidth": 0,
              "ticks": ""
             }
            },
            "type": "parcoords"
           }
          ],
          "pie": [
           {
            "automargin": true,
            "type": "pie"
           }
          ],
          "scatter": [
           {
            "fillpattern": {
             "fillmode": "overlay",
             "size": 10,
             "solidity": 0.2
            },
            "type": "scatter"
           }
          ],
          "scatter3d": [
           {
            "line": {
             "colorbar": {
              "outlinewidth": 0,
              "ticks": ""
             }
            },
            "marker": {
             "colorbar": {
              "outlinewidth": 0,
              "ticks": ""
             }
            },
            "type": "scatter3d"
           }
          ],
          "scattercarpet": [
           {
            "marker": {
             "colorbar": {
              "outlinewidth": 0,
              "ticks": ""
             }
            },
            "type": "scattercarpet"
           }
          ],
          "scattergeo": [
           {
            "marker": {
             "colorbar": {
              "outlinewidth": 0,
              "ticks": ""
             }
            },
            "type": "scattergeo"
           }
          ],
          "scattergl": [
           {
            "marker": {
             "colorbar": {
              "outlinewidth": 0,
              "ticks": ""
             }
            },
            "type": "scattergl"
           }
          ],
          "scattermapbox": [
           {
            "marker": {
             "colorbar": {
              "outlinewidth": 0,
              "ticks": ""
             }
            },
            "type": "scattermapbox"
           }
          ],
          "scatterpolar": [
           {
            "marker": {
             "colorbar": {
              "outlinewidth": 0,
              "ticks": ""
             }
            },
            "type": "scatterpolar"
           }
          ],
          "scatterpolargl": [
           {
            "marker": {
             "colorbar": {
              "outlinewidth": 0,
              "ticks": ""
             }
            },
            "type": "scatterpolargl"
           }
          ],
          "scatterternary": [
           {
            "marker": {
             "colorbar": {
              "outlinewidth": 0,
              "ticks": ""
             }
            },
            "type": "scatterternary"
           }
          ],
          "surface": [
           {
            "colorbar": {
             "outlinewidth": 0,
             "ticks": ""
            },
            "colorscale": [
             [
              0,
              "#0d0887"
             ],
             [
              0.1111111111111111,
              "#46039f"
             ],
             [
              0.2222222222222222,
              "#7201a8"
             ],
             [
              0.3333333333333333,
              "#9c179e"
             ],
             [
              0.4444444444444444,
              "#bd3786"
             ],
             [
              0.5555555555555556,
              "#d8576b"
             ],
             [
              0.6666666666666666,
              "#ed7953"
             ],
             [
              0.7777777777777778,
              "#fb9f3a"
             ],
             [
              0.8888888888888888,
              "#fdca26"
             ],
             [
              1,
              "#f0f921"
             ]
            ],
            "type": "surface"
           }
          ],
          "table": [
           {
            "cells": {
             "fill": {
              "color": "#EBF0F8"
             },
             "line": {
              "color": "white"
             }
            },
            "header": {
             "fill": {
              "color": "#C8D4E3"
             },
             "line": {
              "color": "white"
             }
            },
            "type": "table"
           }
          ]
         },
         "layout": {
          "annotationdefaults": {
           "arrowcolor": "#2a3f5f",
           "arrowhead": 0,
           "arrowwidth": 1
          },
          "autotypenumbers": "strict",
          "coloraxis": {
           "colorbar": {
            "outlinewidth": 0,
            "ticks": ""
           }
          },
          "colorscale": {
           "diverging": [
            [
             0,
             "#8e0152"
            ],
            [
             0.1,
             "#c51b7d"
            ],
            [
             0.2,
             "#de77ae"
            ],
            [
             0.3,
             "#f1b6da"
            ],
            [
             0.4,
             "#fde0ef"
            ],
            [
             0.5,
             "#f7f7f7"
            ],
            [
             0.6,
             "#e6f5d0"
            ],
            [
             0.7,
             "#b8e186"
            ],
            [
             0.8,
             "#7fbc41"
            ],
            [
             0.9,
             "#4d9221"
            ],
            [
             1,
             "#276419"
            ]
           ],
           "sequential": [
            [
             0,
             "#0d0887"
            ],
            [
             0.1111111111111111,
             "#46039f"
            ],
            [
             0.2222222222222222,
             "#7201a8"
            ],
            [
             0.3333333333333333,
             "#9c179e"
            ],
            [
             0.4444444444444444,
             "#bd3786"
            ],
            [
             0.5555555555555556,
             "#d8576b"
            ],
            [
             0.6666666666666666,
             "#ed7953"
            ],
            [
             0.7777777777777778,
             "#fb9f3a"
            ],
            [
             0.8888888888888888,
             "#fdca26"
            ],
            [
             1,
             "#f0f921"
            ]
           ],
           "sequentialminus": [
            [
             0,
             "#0d0887"
            ],
            [
             0.1111111111111111,
             "#46039f"
            ],
            [
             0.2222222222222222,
             "#7201a8"
            ],
            [
             0.3333333333333333,
             "#9c179e"
            ],
            [
             0.4444444444444444,
             "#bd3786"
            ],
            [
             0.5555555555555556,
             "#d8576b"
            ],
            [
             0.6666666666666666,
             "#ed7953"
            ],
            [
             0.7777777777777778,
             "#fb9f3a"
            ],
            [
             0.8888888888888888,
             "#fdca26"
            ],
            [
             1,
             "#f0f921"
            ]
           ]
          },
          "colorway": [
           "#636efa",
           "#EF553B",
           "#00cc96",
           "#ab63fa",
           "#FFA15A",
           "#19d3f3",
           "#FF6692",
           "#B6E880",
           "#FF97FF",
           "#FECB52"
          ],
          "font": {
           "color": "#2a3f5f"
          },
          "geo": {
           "bgcolor": "white",
           "lakecolor": "white",
           "landcolor": "#E5ECF6",
           "showlakes": true,
           "showland": true,
           "subunitcolor": "white"
          },
          "hoverlabel": {
           "align": "left"
          },
          "hovermode": "closest",
          "mapbox": {
           "style": "light"
          },
          "paper_bgcolor": "white",
          "plot_bgcolor": "#E5ECF6",
          "polar": {
           "angularaxis": {
            "gridcolor": "white",
            "linecolor": "white",
            "ticks": ""
           },
           "bgcolor": "#E5ECF6",
           "radialaxis": {
            "gridcolor": "white",
            "linecolor": "white",
            "ticks": ""
           }
          },
          "scene": {
           "xaxis": {
            "backgroundcolor": "#E5ECF6",
            "gridcolor": "white",
            "gridwidth": 2,
            "linecolor": "white",
            "showbackground": true,
            "ticks": "",
            "zerolinecolor": "white"
           },
           "yaxis": {
            "backgroundcolor": "#E5ECF6",
            "gridcolor": "white",
            "gridwidth": 2,
            "linecolor": "white",
            "showbackground": true,
            "ticks": "",
            "zerolinecolor": "white"
           },
           "zaxis": {
            "backgroundcolor": "#E5ECF6",
            "gridcolor": "white",
            "gridwidth": 2,
            "linecolor": "white",
            "showbackground": true,
            "ticks": "",
            "zerolinecolor": "white"
           }
          },
          "shapedefaults": {
           "line": {
            "color": "#2a3f5f"
           }
          },
          "ternary": {
           "aaxis": {
            "gridcolor": "white",
            "linecolor": "white",
            "ticks": ""
           },
           "baxis": {
            "gridcolor": "white",
            "linecolor": "white",
            "ticks": ""
           },
           "bgcolor": "#E5ECF6",
           "caxis": {
            "gridcolor": "white",
            "linecolor": "white",
            "ticks": ""
           }
          },
          "title": {
           "x": 0.05
          },
          "xaxis": {
           "automargin": true,
           "gridcolor": "white",
           "linecolor": "white",
           "ticks": "",
           "title": {
            "standoff": 15
           },
           "zerolinecolor": "white",
           "zerolinewidth": 2
          },
          "yaxis": {
           "automargin": true,
           "gridcolor": "white",
           "linecolor": "white",
           "ticks": "",
           "title": {
            "standoff": 15
           },
           "zerolinecolor": "white",
           "zerolinewidth": 2
          }
         }
        },
        "xaxis": {
         "anchor": "y",
         "constrain": "domain",
         "domain": [
          0,
          0.49
         ],
         "scaleanchor": "y"
        },
        "xaxis2": {
         "anchor": "y2",
         "domain": [
          0.51,
          1
         ],
         "matches": "x"
        },
        "yaxis": {
         "anchor": "x",
         "autorange": "reversed",
         "constrain": "domain",
         "domain": [
          0,
          1
         ]
        },
        "yaxis2": {
         "anchor": "x2",
         "domain": [
          0,
          1
         ],
         "matches": "y",
         "showticklabels": false
        }
       }
      }
     },
     "metadata": {},
     "output_type": "display_data"
    }
   ],
   "source": [
    "def cross_correlate_multi_channel_2d(multi_channels_input:np.ndarray, multi_channels_kernels:np.ndarray) -> np.ndarray:\n",
    "    activation_maps = []\n",
    "    for kernel in multi_channels_kernels.swapaxes(3, 1):\n",
    "        activation_channel_maps = [correlate2d(input_channel, kernel_channel, mode=\"valid\") for input_channel, kernel_channel in zip(multi_channels_input.swapaxes(2, 0), kernel)]\n",
    "        activation_channel_maps = np.stack(activation_channel_maps)\n",
    "        multi_channel_scipy_cross_correlation = np.sum(activation_channel_maps, axis=0)\n",
    "        activation_maps.append(multi_channel_scipy_cross_correlation.T)\n",
    "    return np.stack(activation_maps)\n",
    "activation_maps = cross_correlate_multi_channel_2d(multi_channels_input, multi_channels_kernels)\n",
    "display(activation_maps.shape)\n",
    "display(\"scipy\")\n",
    "px.imshow(activation_maps, facet_col=0).show()\n",
    "display(\"custom\")\n",
    "px.imshow(\n",
    "    reshaped_mutli_channels_correlation,\n",
    "    facet_col=2\n",
    ")"
   ]
  },
  {
   "cell_type": "markdown",
   "metadata": {},
   "source": [
    "## Multi kernels, channels, inputs cross correlation\n",
    "Here we simply need to modify the flatten input by upgrading it to a 3D array."
   ]
  },
  {
   "cell_type": "markdown",
   "metadata": {},
   "source": [
    "Let's add another forg to the input.  \n",
    "However added frogs to the dataset is a genius.  "
   ]
  },
  {
   "cell_type": "code",
   "execution_count": 44,
   "metadata": {},
   "outputs": [
    {
     "data": {
      "application/vnd.plotly.v1+json": {
       "config": {
        "plotlyServerURL": "https://plot.ly"
       },
       "data": [
        {
         "hovertemplate": "x: %{x}<br>y: %{y}<br>color: %{z}<extra></extra>",
         "name": "0",
         "source": "data:image/png;base64,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",
         "type": "image",
         "xaxis": "x",
         "yaxis": "y"
        },
        {
         "hovertemplate": "x: %{x}<br>y: %{y}<br>color: %{z}<extra></extra>",
         "name": "1",
         "source": "data:image/png;base64,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",
         "type": "image",
         "xaxis": "x2",
         "yaxis": "y2"
        }
       ],
       "layout": {
        "annotations": [
         {
          "font": {},
          "showarrow": false,
          "text": "facet_col=0",
          "x": 0.245,
          "xanchor": "center",
          "xref": "paper",
          "y": 1,
          "yanchor": "bottom",
          "yref": "paper"
         },
         {
          "font": {},
          "showarrow": false,
          "text": "facet_col=1",
          "x": 0.755,
          "xanchor": "center",
          "xref": "paper",
          "y": 1,
          "yanchor": "bottom",
          "yref": "paper"
         }
        ],
        "margin": {
         "t": 60
        },
        "template": {
         "data": {
          "bar": [
           {
            "error_x": {
             "color": "#2a3f5f"
            },
            "error_y": {
             "color": "#2a3f5f"
            },
            "marker": {
             "line": {
              "color": "#E5ECF6",
              "width": 0.5
             },
             "pattern": {
              "fillmode": "overlay",
              "size": 10,
              "solidity": 0.2
             }
            },
            "type": "bar"
           }
          ],
          "barpolar": [
           {
            "marker": {
             "line": {
              "color": "#E5ECF6",
              "width": 0.5
             },
             "pattern": {
              "fillmode": "overlay",
              "size": 10,
              "solidity": 0.2
             }
            },
            "type": "barpolar"
           }
          ],
          "carpet": [
           {
            "aaxis": {
             "endlinecolor": "#2a3f5f",
             "gridcolor": "white",
             "linecolor": "white",
             "minorgridcolor": "white",
             "startlinecolor": "#2a3f5f"
            },
            "baxis": {
             "endlinecolor": "#2a3f5f",
             "gridcolor": "white",
             "linecolor": "white",
             "minorgridcolor": "white",
             "startlinecolor": "#2a3f5f"
            },
            "type": "carpet"
           }
          ],
          "choropleth": [
           {
            "colorbar": {
             "outlinewidth": 0,
             "ticks": ""
            },
            "type": "choropleth"
           }
          ],
          "contour": [
           {
            "colorbar": {
             "outlinewidth": 0,
             "ticks": ""
            },
            "colorscale": [
             [
              0,
              "#0d0887"
             ],
             [
              0.1111111111111111,
              "#46039f"
             ],
             [
              0.2222222222222222,
              "#7201a8"
             ],
             [
              0.3333333333333333,
              "#9c179e"
             ],
             [
              0.4444444444444444,
              "#bd3786"
             ],
             [
              0.5555555555555556,
              "#d8576b"
             ],
             [
              0.6666666666666666,
              "#ed7953"
             ],
             [
              0.7777777777777778,
              "#fb9f3a"
             ],
             [
              0.8888888888888888,
              "#fdca26"
             ],
             [
              1,
              "#f0f921"
             ]
            ],
            "type": "contour"
           }
          ],
          "contourcarpet": [
           {
            "colorbar": {
             "outlinewidth": 0,
             "ticks": ""
            },
            "type": "contourcarpet"
           }
          ],
          "heatmap": [
           {
            "colorbar": {
             "outlinewidth": 0,
             "ticks": ""
            },
            "colorscale": [
             [
              0,
              "#0d0887"
             ],
             [
              0.1111111111111111,
              "#46039f"
             ],
             [
              0.2222222222222222,
              "#7201a8"
             ],
             [
              0.3333333333333333,
              "#9c179e"
             ],
             [
              0.4444444444444444,
              "#bd3786"
             ],
             [
              0.5555555555555556,
              "#d8576b"
             ],
             [
              0.6666666666666666,
              "#ed7953"
             ],
             [
              0.7777777777777778,
              "#fb9f3a"
             ],
             [
              0.8888888888888888,
              "#fdca26"
             ],
             [
              1,
              "#f0f921"
             ]
            ],
            "type": "heatmap"
           }
          ],
          "heatmapgl": [
           {
            "colorbar": {
             "outlinewidth": 0,
             "ticks": ""
            },
            "colorscale": [
             [
              0,
              "#0d0887"
             ],
             [
              0.1111111111111111,
              "#46039f"
             ],
             [
              0.2222222222222222,
              "#7201a8"
             ],
             [
              0.3333333333333333,
              "#9c179e"
             ],
             [
              0.4444444444444444,
              "#bd3786"
             ],
             [
              0.5555555555555556,
              "#d8576b"
             ],
             [
              0.6666666666666666,
              "#ed7953"
             ],
             [
              0.7777777777777778,
              "#fb9f3a"
             ],
             [
              0.8888888888888888,
              "#fdca26"
             ],
             [
              1,
              "#f0f921"
             ]
            ],
            "type": "heatmapgl"
           }
          ],
          "histogram": [
           {
            "marker": {
             "pattern": {
              "fillmode": "overlay",
              "size": 10,
              "solidity": 0.2
             }
            },
            "type": "histogram"
           }
          ],
          "histogram2d": [
           {
            "colorbar": {
             "outlinewidth": 0,
             "ticks": ""
            },
            "colorscale": [
             [
              0,
              "#0d0887"
             ],
             [
              0.1111111111111111,
              "#46039f"
             ],
             [
              0.2222222222222222,
              "#7201a8"
             ],
             [
              0.3333333333333333,
              "#9c179e"
             ],
             [
              0.4444444444444444,
              "#bd3786"
             ],
             [
              0.5555555555555556,
              "#d8576b"
             ],
             [
              0.6666666666666666,
              "#ed7953"
             ],
             [
              0.7777777777777778,
              "#fb9f3a"
             ],
             [
              0.8888888888888888,
              "#fdca26"
             ],
             [
              1,
              "#f0f921"
             ]
            ],
            "type": "histogram2d"
           }
          ],
          "histogram2dcontour": [
           {
            "colorbar": {
             "outlinewidth": 0,
             "ticks": ""
            },
            "colorscale": [
             [
              0,
              "#0d0887"
             ],
             [
              0.1111111111111111,
              "#46039f"
             ],
             [
              0.2222222222222222,
              "#7201a8"
             ],
             [
              0.3333333333333333,
              "#9c179e"
             ],
             [
              0.4444444444444444,
              "#bd3786"
             ],
             [
              0.5555555555555556,
              "#d8576b"
             ],
             [
              0.6666666666666666,
              "#ed7953"
             ],
             [
              0.7777777777777778,
              "#fb9f3a"
             ],
             [
              0.8888888888888888,
              "#fdca26"
             ],
             [
              1,
              "#f0f921"
             ]
            ],
            "type": "histogram2dcontour"
           }
          ],
          "mesh3d": [
           {
            "colorbar": {
             "outlinewidth": 0,
             "ticks": ""
            },
            "type": "mesh3d"
           }
          ],
          "parcoords": [
           {
            "line": {
             "colorbar": {
              "outlinewidth": 0,
              "ticks": ""
             }
            },
            "type": "parcoords"
           }
          ],
          "pie": [
           {
            "automargin": true,
            "type": "pie"
           }
          ],
          "scatter": [
           {
            "fillpattern": {
             "fillmode": "overlay",
             "size": 10,
             "solidity": 0.2
            },
            "type": "scatter"
           }
          ],
          "scatter3d": [
           {
            "line": {
             "colorbar": {
              "outlinewidth": 0,
              "ticks": ""
             }
            },
            "marker": {
             "colorbar": {
              "outlinewidth": 0,
              "ticks": ""
             }
            },
            "type": "scatter3d"
           }
          ],
          "scattercarpet": [
           {
            "marker": {
             "colorbar": {
              "outlinewidth": 0,
              "ticks": ""
             }
            },
            "type": "scattercarpet"
           }
          ],
          "scattergeo": [
           {
            "marker": {
             "colorbar": {
              "outlinewidth": 0,
              "ticks": ""
             }
            },
            "type": "scattergeo"
           }
          ],
          "scattergl": [
           {
            "marker": {
             "colorbar": {
              "outlinewidth": 0,
              "ticks": ""
             }
            },
            "type": "scattergl"
           }
          ],
          "scattermapbox": [
           {
            "marker": {
             "colorbar": {
              "outlinewidth": 0,
              "ticks": ""
             }
            },
            "type": "scattermapbox"
           }
          ],
          "scatterpolar": [
           {
            "marker": {
             "colorbar": {
              "outlinewidth": 0,
              "ticks": ""
             }
            },
            "type": "scatterpolar"
           }
          ],
          "scatterpolargl": [
           {
            "marker": {
             "colorbar": {
              "outlinewidth": 0,
              "ticks": ""
             }
            },
            "type": "scatterpolargl"
           }
          ],
          "scatterternary": [
           {
            "marker": {
             "colorbar": {
              "outlinewidth": 0,
              "ticks": ""
             }
            },
            "type": "scatterternary"
           }
          ],
          "surface": [
           {
            "colorbar": {
             "outlinewidth": 0,
             "ticks": ""
            },
            "colorscale": [
             [
              0,
              "#0d0887"
             ],
             [
              0.1111111111111111,
              "#46039f"
             ],
             [
              0.2222222222222222,
              "#7201a8"
             ],
             [
              0.3333333333333333,
              "#9c179e"
             ],
             [
              0.4444444444444444,
              "#bd3786"
             ],
             [
              0.5555555555555556,
              "#d8576b"
             ],
             [
              0.6666666666666666,
              "#ed7953"
             ],
             [
              0.7777777777777778,
              "#fb9f3a"
             ],
             [
              0.8888888888888888,
              "#fdca26"
             ],
             [
              1,
              "#f0f921"
             ]
            ],
            "type": "surface"
           }
          ],
          "table": [
           {
            "cells": {
             "fill": {
              "color": "#EBF0F8"
             },
             "line": {
              "color": "white"
             }
            },
            "header": {
             "fill": {
              "color": "#C8D4E3"
             },
             "line": {
              "color": "white"
             }
            },
            "type": "table"
           }
          ]
         },
         "layout": {
          "annotationdefaults": {
           "arrowcolor": "#2a3f5f",
           "arrowhead": 0,
           "arrowwidth": 1
          },
          "autotypenumbers": "strict",
          "coloraxis": {
           "colorbar": {
            "outlinewidth": 0,
            "ticks": ""
           }
          },
          "colorscale": {
           "diverging": [
            [
             0,
             "#8e0152"
            ],
            [
             0.1,
             "#c51b7d"
            ],
            [
             0.2,
             "#de77ae"
            ],
            [
             0.3,
             "#f1b6da"
            ],
            [
             0.4,
             "#fde0ef"
            ],
            [
             0.5,
             "#f7f7f7"
            ],
            [
             0.6,
             "#e6f5d0"
            ],
            [
             0.7,
             "#b8e186"
            ],
            [
             0.8,
             "#7fbc41"
            ],
            [
             0.9,
             "#4d9221"
            ],
            [
             1,
             "#276419"
            ]
           ],
           "sequential": [
            [
             0,
             "#0d0887"
            ],
            [
             0.1111111111111111,
             "#46039f"
            ],
            [
             0.2222222222222222,
             "#7201a8"
            ],
            [
             0.3333333333333333,
             "#9c179e"
            ],
            [
             0.4444444444444444,
             "#bd3786"
            ],
            [
             0.5555555555555556,
             "#d8576b"
            ],
            [
             0.6666666666666666,
             "#ed7953"
            ],
            [
             0.7777777777777778,
             "#fb9f3a"
            ],
            [
             0.8888888888888888,
             "#fdca26"
            ],
            [
             1,
             "#f0f921"
            ]
           ],
           "sequentialminus": [
            [
             0,
             "#0d0887"
            ],
            [
             0.1111111111111111,
             "#46039f"
            ],
            [
             0.2222222222222222,
             "#7201a8"
            ],
            [
             0.3333333333333333,
             "#9c179e"
            ],
            [
             0.4444444444444444,
             "#bd3786"
            ],
            [
             0.5555555555555556,
             "#d8576b"
            ],
            [
             0.6666666666666666,
             "#ed7953"
            ],
            [
             0.7777777777777778,
             "#fb9f3a"
            ],
            [
             0.8888888888888888,
             "#fdca26"
            ],
            [
             1,
             "#f0f921"
            ]
           ]
          },
          "colorway": [
           "#636efa",
           "#EF553B",
           "#00cc96",
           "#ab63fa",
           "#FFA15A",
           "#19d3f3",
           "#FF6692",
           "#B6E880",
           "#FF97FF",
           "#FECB52"
          ],
          "font": {
           "color": "#2a3f5f"
          },
          "geo": {
           "bgcolor": "white",
           "lakecolor": "white",
           "landcolor": "#E5ECF6",
           "showlakes": true,
           "showland": true,
           "subunitcolor": "white"
          },
          "hoverlabel": {
           "align": "left"
          },
          "hovermode": "closest",
          "mapbox": {
           "style": "light"
          },
          "paper_bgcolor": "white",
          "plot_bgcolor": "#E5ECF6",
          "polar": {
           "angularaxis": {
            "gridcolor": "white",
            "linecolor": "white",
            "ticks": ""
           },
           "bgcolor": "#E5ECF6",
           "radialaxis": {
            "gridcolor": "white",
            "linecolor": "white",
            "ticks": ""
           }
          },
          "scene": {
           "xaxis": {
            "backgroundcolor": "#E5ECF6",
            "gridcolor": "white",
            "gridwidth": 2,
            "linecolor": "white",
            "showbackground": true,
            "ticks": "",
            "zerolinecolor": "white"
           },
           "yaxis": {
            "backgroundcolor": "#E5ECF6",
            "gridcolor": "white",
            "gridwidth": 2,
            "linecolor": "white",
            "showbackground": true,
            "ticks": "",
            "zerolinecolor": "white"
           },
           "zaxis": {
            "backgroundcolor": "#E5ECF6",
            "gridcolor": "white",
            "gridwidth": 2,
            "linecolor": "white",
            "showbackground": true,
            "ticks": "",
            "zerolinecolor": "white"
           }
          },
          "shapedefaults": {
           "line": {
            "color": "#2a3f5f"
           }
          },
          "ternary": {
           "aaxis": {
            "gridcolor": "white",
            "linecolor": "white",
            "ticks": ""
           },
           "baxis": {
            "gridcolor": "white",
            "linecolor": "white",
            "ticks": ""
           },
           "bgcolor": "#E5ECF6",
           "caxis": {
            "gridcolor": "white",
            "linecolor": "white",
            "ticks": ""
           }
          },
          "title": {
           "x": 0.05
          },
          "xaxis": {
           "automargin": true,
           "gridcolor": "white",
           "linecolor": "white",
           "ticks": "",
           "title": {
            "standoff": 15
           },
           "zerolinecolor": "white",
           "zerolinewidth": 2
          },
          "yaxis": {
           "automargin": true,
           "gridcolor": "white",
           "linecolor": "white",
           "ticks": "",
           "title": {
            "standoff": 15
           },
           "zerolinecolor": "white",
           "zerolinewidth": 2
          }
         }
        },
        "xaxis": {
         "anchor": "y",
         "domain": [
          0,
          0.49
         ]
        },
        "xaxis2": {
         "anchor": "y2",
         "domain": [
          0.51,
          1
         ],
         "matches": "x"
        },
        "yaxis": {
         "anchor": "x",
         "domain": [
          0,
          1
         ]
        },
        "yaxis2": {
         "anchor": "x2",
         "domain": [
          0,
          1
         ],
         "matches": "y",
         "showticklabels": false
        }
       }
      }
     },
     "metadata": {},
     "output_type": "display_data"
    }
   ],
   "source": [
    "inputs = cifar_10_train_inputs[[0, 351]]\n",
    "px.imshow(inputs, facet_col=0)"
   ]
  },
  {
   "cell_type": "code",
   "execution_count": 45,
   "metadata": {},
   "outputs": [
    {
     "data": {
      "text/plain": [
       "(2, 784, 75)"
      ]
     },
     "execution_count": 45,
     "metadata": {},
     "output_type": "execute_result"
    }
   ],
   "source": [
    "flatten_inputs = inputs.reshape(2, -1)\n",
    "multi_inputs_views = flatten_inputs[:, multi_channels_correlatin_indieces]\n",
    "multi_inputs_views.shape"
   ]
  },
  {
   "cell_type": "code",
   "execution_count": 46,
   "metadata": {},
   "outputs": [
    {
     "data": {
      "text/plain": [
       "(2, 28, 28, 2)"
      ]
     },
     "execution_count": 46,
     "metadata": {},
     "output_type": "execute_result"
    }
   ],
   "source": [
    "cross_correlations = (multi_inputs_views @ multi_channels_kernels_weights).reshape(2, 28, 28, 2)\n",
    "cross_correlations.shape"
   ]
  },
  {
   "cell_type": "code",
   "execution_count": 47,
   "metadata": {},
   "outputs": [
    {
     "data": {
      "text/plain": [
       "'custom'"
      ]
     },
     "metadata": {},
     "output_type": "display_data"
    },
    {
     "data": {
      "application/vnd.plotly.v1+json": {
       "config": {
        "plotlyServerURL": "https://plot.ly"
       },
       "data": [
        {
         "coloraxis": "coloraxis",
         "hovertemplate": "x: %{x}<br>y: %{y}<br>color: %{z}<extra></extra>",
         "name": "0",
         "type": "heatmap",
         "xaxis": "x",
         "yaxis": "y",
         "z": [
          [
           1956,
           1888,
           1787,
           1815,
           1907,
           2181,
           2445,
           2545,
           2519,
           2452,
           2307,
           2263,
           2300,
           2316,
           2283,
           2244,
           2128,
           1917,
           1604,
           1250,
           1013,
           922,
           1027,
           1373,
           1768,
           2172,
           2538,
           2635
          ],
          [
           1744,
           1627,
           1587,
           1590,
           1679,
           1909,
           2079,
           2216,
           2338,
           2301,
           2182,
           2200,
           2264,
           2239,
           2184,
           2191,
           2186,
           2137,
           2071,
           1925,
           1762,
           1620,
           1687,
           1983,
           2391,
           2876,
           3347,
           3437
          ],
          [
           1724,
           1648,
           1649,
           1688,
           1669,
           1687,
           1732,
           1721,
           1606,
           1403,
           1179,
           1061,
           1048,
           991,
           977,
           1074,
           1185,
           1348,
           1609,
           1882,
           2008,
           2106,
           2299,
           2535,
           2729,
           3041,
           3351,
           3422
          ],
          [
           1758,
           1758,
           1764,
           1875,
           1846,
           1741,
           1707,
           1564,
           1330,
           1025,
           756,
           566,
           518,
           539,
           604,
           701,
           820,
           972,
           1153,
           1351,
           1560,
           1856,
           2195,
           2419,
           2593,
           2718,
           2789,
           2862
          ],
          [
           1812,
           1904,
           1975,
           2139,
           2159,
           1960,
           1776,
           1630,
           1426,
           1112,
           939,
           905,
           931,
           998,
           1055,
           1173,
           1306,
           1388,
           1456,
           1564,
           1664,
           1809,
           1960,
           2225,
           2470,
           2510,
           2556,
           2830
          ],
          [
           2240,
           2309,
           2381,
           2392,
           2288,
           1994,
           1832,
           1728,
           1480,
           1249,
           1226,
           1274,
           1335,
           1433,
           1482,
           1538,
           1575,
           1583,
           1653,
           1713,
           1693,
           1721,
           1793,
           1962,
           2184,
           2443,
           2773,
           3074
          ],
          [
           2532,
           2599,
           2541,
           2385,
           2149,
           1978,
           2066,
           2121,
           2077,
           2098,
           2179,
           2000,
           1892,
           1751,
           1654,
           1622,
           1609,
           1726,
           1871,
           1884,
           1701,
           1666,
           1572,
           1569,
           1831,
           2379,
           2798,
           3107
          ],
          [
           2662,
           2849,
           2733,
           2472,
           2312,
           2314,
           2405,
           2463,
           2627,
           2785,
           2616,
           2202,
           1936,
           1707,
           1595,
           1637,
           1796,
           2012,
           2039,
           1989,
           1934,
           1924,
           1913,
           2162,
           2444,
           2625,
           2731,
           3024
          ],
          [
           2878,
           3011,
           2798,
           2590,
           2505,
           2429,
           2394,
           2452,
           2696,
           2681,
           2380,
           2096,
           1992,
           1866,
           1804,
           1974,
           2251,
           2319,
           2240,
           2237,
           2132,
           2081,
           2198,
           2472,
           2764,
           2781,
           2637,
           2442
          ],
          [
           2962,
           2909,
           2638,
           2414,
           2268,
           2103,
           2154,
           2453,
           2556,
           2454,
           2368,
           2368,
           2304,
           2262,
           2252,
           2442,
           2475,
           2327,
           2318,
           2253,
           2044,
           1964,
           1980,
           2200,
           2487,
           2524,
           2342,
           2144
          ],
          [
           2774,
           2780,
           2456,
           2138,
           1935,
           1904,
           2328,
           2853,
           3026,
           3159,
           3383,
           3161,
           2732,
           2453,
           2394,
           2502,
           2434,
           2463,
           2549,
           2435,
           2169,
           2043,
           2179,
           2363,
           2368,
           2229,
           2147,
           2263
          ],
          [
           2950,
           3028,
           2628,
           2230,
           2050,
           2281,
           2761,
           3192,
           3472,
           3823,
           3777,
           3183,
           2597,
           2366,
           2303,
           2326,
           2498,
           2678,
           2520,
           2293,
           2183,
           2408,
           2542,
           2561,
           2438,
           2172,
           1952,
           1936
          ],
          [
           2970,
           2842,
           2515,
           2217,
           2078,
           2208,
           2546,
           2950,
           3390,
           3677,
           3559,
           3215,
           2816,
           2592,
           2545,
           2661,
           2753,
           2570,
           2210,
           2081,
           2374,
           2730,
           2678,
           2752,
           2665,
           2201,
           1740,
           1659
          ],
          [
           2553,
           2466,
           2299,
           2202,
           2225,
           2187,
           2332,
           2719,
           3036,
           3059,
           3124,
           3090,
           2866,
           2682,
           2828,
           3063,
           3091,
           2763,
           2458,
           2594,
           2706,
           2468,
           2437,
           2627,
           2390,
           1855,
           1755,
           1960
          ],
          [
           2418,
           2480,
           2390,
           2205,
           2274,
           2222,
           2433,
           2794,
           2862,
           2871,
           2955,
           2885,
           2790,
           2896,
           3076,
           3274,
           3372,
           3184,
           2992,
           2999,
           2781,
           2550,
           2539,
           2547,
           2221,
           1962,
           1939,
           2179
          ],
          [
           2510,
           2579,
           2434,
           2279,
           2188,
           2266,
           2725,
           3002,
           2999,
           3073,
           2991,
           2623,
           2610,
           2884,
           3036,
           3122,
           3192,
           3138,
           2832,
           2588,
           2534,
           2678,
           2682,
           2552,
           2394,
           2177,
           1969,
           1963
          ],
          [
           2511,
           2440,
           2498,
           2477,
           2146,
           2142,
           2521,
           2799,
           2853,
           2963,
           2954,
           2689,
           2587,
           2793,
           3001,
           3141,
           3212,
           3120,
           2738,
           2366,
           2308,
           2567,
           2566,
           2494,
           2303,
           2115,
           1923,
           1849
          ],
          [
           2261,
           2289,
           2420,
           2454,
           2395,
           2310,
           2468,
           2713,
           2896,
           2946,
           3070,
           2916,
           2836,
           2882,
           3031,
           3192,
           3457,
           3324,
           2715,
           2274,
           2276,
           2184,
           2105,
           2199,
           2149,
           1959,
           1891,
           1973
          ],
          [
           2080,
           2259,
           2272,
           2336,
           2541,
           2472,
           2487,
           2729,
           3031,
           3203,
           3310,
           3175,
           3106,
           3054,
           3037,
           3096,
           3255,
           2878,
           2188,
           1915,
           1794,
           1723,
           1807,
           2074,
           2048,
           1919,
           1891,
           1987
          ],
          [
           2120,
           2104,
           2162,
           2293,
           2365,
           2381,
           2451,
           2510,
           2701,
           3002,
           3088,
           2851,
           2752,
           2730,
           2707,
           2744,
           2703,
           2436,
           2057,
           1674,
           1422,
           1605,
           1806,
           1835,
           1709,
           1685,
           1611,
           1533
          ],
          [
           2276,
           1994,
           2063,
           2262,
           2196,
           2171,
           2407,
           2358,
           2254,
           2358,
           2402,
           2193,
           2065,
           2082,
           2218,
           2348,
           2471,
           2565,
           2314,
           1884,
           1703,
           1759,
           1753,
           1666,
           1639,
           1671,
           1627,
           1516
          ],
          [
           2413,
           2167,
           2027,
           2011,
           2060,
           2164,
           2371,
           2514,
           2561,
           2453,
           2190,
           1862,
           1616,
           1559,
           1819,
           1961,
           2132,
           2209,
           2077,
           1827,
           1833,
           1846,
           1879,
           1930,
           1950,
           1930,
           1950,
           1926
          ],
          [
           2513,
           2460,
           2206,
           2003,
           2008,
           2014,
           2036,
           2301,
           2646,
           2738,
           2486,
           2047,
           1686,
           1507,
           1590,
           1669,
           1785,
           1850,
           1881,
           1799,
           1811,
           1885,
           1936,
           1905,
           1862,
           1787,
           1732,
           1757
          ],
          [
           2311,
           2200,
           2129,
           2121,
           1984,
           1878,
           1726,
           1693,
           1886,
           2134,
           2194,
           2033,
           1894,
           1728,
           1699,
           1756,
           1881,
           1976,
           1996,
           1923,
           1834,
           1779,
           1584,
           1390,
           1248,
           1146,
           1091,
           1091
          ],
          [
           2353,
           2017,
           1943,
           1972,
           1974,
           1900,
           1810,
           1551,
           1349,
           1275,
           1280,
           1300,
           1295,
           1309,
           1461,
           1543,
           1712,
           1951,
           2007,
           1986,
           1937,
           1732,
           1551,
           1452,
           1322,
           1308,
           1334,
           1332
          ],
          [
           2883,
           2616,
           2316,
           2177,
           2243,
           2218,
           2109,
           2010,
           1806,
           1480,
           1233,
           1170,
           1100,
           1187,
           1413,
           1498,
           1657,
           2010,
           2198,
           2274,
           2345,
           2212,
           2094,
           1976,
           1921,
           1876,
           1998,
           2078
          ],
          [
           3262,
           3033,
           2816,
           2599,
           2456,
           2389,
           2303,
           2247,
           2174,
           2107,
           2061,
           2049,
           2004,
           1936,
           1985,
           1983,
           2041,
           2266,
           2469,
           2515,
           2542,
           2429,
           2163,
           2030,
           2012,
           2038,
           2116,
           2261
          ],
          [
           3028,
           2730,
           2525,
           2355,
           2192,
           2178,
           2122,
           2042,
           2084,
           2184,
           2342,
           2531,
           2596,
           2554,
           2434,
           2320,
           2290,
           2275,
           2202,
           2152,
           2042,
           1879,
           1712,
           1690,
           1795,
           1913,
           2025,
           2189
          ]
         ]
        },
        {
         "coloraxis": "coloraxis",
         "hovertemplate": "x: %{x}<br>y: %{y}<br>color: %{z}<extra></extra>",
         "name": "1",
         "type": "heatmap",
         "xaxis": "x2",
         "yaxis": "y2",
         "z": [
          [
           3087,
           3106.5,
           2855,
           2901,
           2734.5,
           2764,
           2997.5,
           3526,
           4020,
           3933,
           3597.5,
           3571,
           3573.5,
           3548,
           3545,
           3593,
           3533.5,
           3414.5,
           3348,
           3313.5,
           3245,
           3151.5,
           3257,
           3571.5,
           4076.5,
           4707,
           5425.5,
           5835
          ],
          [
           3091,
           2915,
           2740.5,
           2763.5,
           2612.5,
           2477,
           2475.5,
           2710,
           2770.5,
           2446.5,
           2069.5,
           1985,
           1973.5,
           1937.5,
           1943,
           1979.5,
           1973,
           1967.5,
           2044.5,
           2203,
           2442.5,
           2729,
           3161.5,
           3727,
           4528,
           5272.5,
           5979,
           6283
          ],
          [
           3139.5,
           2844,
           2759,
           2940.5,
           2869.5,
           2612,
           2454,
           2472.5,
           2193.5,
           1713.5,
           1289.5,
           962,
           927,
           889.5,
           888,
           932,
           997.5,
           1068,
           1225.5,
           1490,
           1796,
           2311.5,
           2940,
           3529,
           4256.5,
           5045.5,
           5734,
           5969
          ],
          [
           3065,
           2803,
           2842,
           3247.5,
           3293,
           2955.5,
           2780.5,
           2692,
           2318.5,
           1800.5,
           1331.5,
           842,
           755,
           743.5,
           792,
           893.5,
           999.5,
           1149,
           1311.5,
           1560,
           1863.5,
           2329.5,
           2909,
           3394,
           3988,
           4709.5,
           5198.5,
           5358.5
          ],
          [
           3021.5,
           2954,
           3090,
           3642.5,
           3822,
           3404,
           3228.5,
           3086,
           2760.5,
           2162,
           1670,
           1261.5,
           1168.5,
           1174,
           1267.5,
           1484.5,
           1690,
           1882.5,
           1997.5,
           2381.5,
           2691.5,
           2930,
           3244,
           3454.5,
           3822.5,
           4205,
           4411,
           4676
          ],
          [
           3396,
           3507.5,
           3746,
           4217,
           4326.5,
           3734.5,
           3549,
           3425,
           3115,
           2503,
           2212.5,
           1986,
           1823,
           1888,
           2130.5,
           2346.5,
           2623.5,
           2797,
           2871,
           3256.5,
           3313,
           3484,
           3551.5,
           3449.5,
           3603.5,
           3816.5,
           3835.5,
           4170
          ],
          [
           3874.5,
           4134.5,
           4365.5,
           4544.5,
           4460,
           3882.5,
           3721,
           3761.5,
           3618.5,
           3267.5,
           3434.5,
           3251,
           3012.5,
           2984.5,
           3168,
           3197.5,
           3394,
           3491,
           3604,
           3999.5,
           3760,
           3767,
           3444.5,
           3266,
           3390.5,
           3624.5,
           3655,
           4270.5
          ],
          [
           4441,
           4874.5,
           5003.5,
           4752.5,
           4505,
           4149,
           3970.5,
           4021.5,
           4130,
           4320.5,
           4646.5,
           4205,
           3936.5,
           3761,
           3752.5,
           3742,
           3857.5,
           3973.5,
           4056,
           4246,
           3899,
           3610,
           3042.5,
           3205,
           3407.5,
           3778.5,
           4113.5,
           4939.5
          ],
          [
           5001.5,
           5436.5,
           5358.5,
           4775.5,
           4346.5,
           4131.5,
           4025,
           4205.5,
           4587.5,
           5131,
           5399.5,
           4797.5,
           4560,
           4214,
           4015.5,
           3977,
           4061.5,
           4118,
           4072,
           4125.5,
           3764,
           3345.5,
           2891.5,
           3168,
           3727,
           4500,
           4641,
           5034.5
          ],
          [
           5143,
           5571,
           5220,
           4471,
           4037.5,
           3915.5,
           3938,
           4306,
           4883,
           5440.5,
           5457.5,
           4965.5,
           4625,
           4198,
           3899,
           3868.5,
           3931.5,
           3915,
           3792.5,
           3868.5,
           3479.5,
           2976.5,
           2881.5,
           3562.5,
           4343.5,
           4614,
           4557,
           4703.5
          ],
          [
           4937,
           5401,
           4874,
           4105.5,
           3682.5,
           3663.5,
           3831,
           4377,
           5004,
           5383.5,
           5447.5,
           5142.5,
           4512.5,
           4028.5,
           3668.5,
           3702,
           3819,
           3751,
           3775,
           3930,
           3399.5,
           3045.5,
           3577.5,
           4240.5,
           4561,
           4370,
           4215.5,
           4004
          ],
          [
           4711,
           5096,
           4469.5,
           3785,
           3522,
           3596.5,
           3825,
           4668,
           5215,
           5494.5,
           5685.5,
           5348.5,
           4359.5,
           3893,
           3670,
           3732,
           3867.5,
           3893,
           3974.5,
           3958.5,
           3609,
           3703.5,
           4074.5,
           4321.5,
           4494.5,
           4016,
           3495,
           3162.5
          ],
          [
           4554,
           4684,
           4211.5,
           3671.5,
           3433.5,
           3452,
           3865,
           4911.5,
           5274,
           5616.5,
           5952,
           5812,
           4675.5,
           4107.5,
           4066,
           4120.5,
           4175,
           4198.5,
           4267,
           4261.5,
           3970.5,
           4146.5,
           4396,
           4502.5,
           4312.5,
           3684.5,
           3037,
           2849.5
          ],
          [
           4405,
           4506.5,
           4157.5,
           3730.5,
           3607,
           3472.5,
           4026.5,
           4901,
           5330,
           5758,
           6108,
           6022,
           5120,
           4524.5,
           4590.5,
           4621,
           4815.5,
           4866.5,
           4736.5,
           4617.5,
           4587,
           4721.5,
           4451.5,
           4438,
           4221.5,
           3546.5,
           2981.5,
           3088.5
          ],
          [
           4260,
           4417.5,
           4404.5,
           3873,
           3922,
           3640,
           4009,
           4666,
           5126,
           5507,
           5893.5,
           5843.5,
           5375.5,
           4987.5,
           5115.5,
           5220,
           5607.5,
           5626,
           4988.5,
           4835,
           5034.5,
           4840,
           4245.5,
           4580.5,
           4447,
           3891,
           3251,
           3520.5
          ],
          [
           4168,
           4268,
           4548,
           4114,
           4079.5,
           3765,
           4030,
           4432.5,
           4628,
           5002.5,
           5391,
           5172,
           5095,
           5200,
           5489.5,
           5585.5,
           5961,
           6052.5,
           5243.5,
           5039.5,
           4840,
           4475.5,
           4310.5,
           4856,
           4683.5,
           4346.5,
           3718.5,
           3825
          ],
          [
           4121.5,
           4112.5,
           4448,
           4336.5,
           4130.5,
           3771,
           4159,
           4333,
           4164.5,
           4338,
           4854.5,
           4544,
           4665,
           5179,
           5570.5,
           5713.5,
           6191,
           6311.5,
           5485,
           4941,
           4471.5,
           4191,
           4325,
           4763.5,
           4607.5,
           4458.5,
           3995,
           3853.5
          ],
          [
           4022,
           4012.5,
           4187.5,
           4282,
           4109,
           3909,
           4336,
           4461.5,
           4339.5,
           4354.5,
           4774.5,
           4375.5,
           4476,
           4958.5,
           5334,
           5482.5,
           5978.5,
           5953.5,
           5307.5,
           4496,
           3870.5,
           3702,
           3934,
           4387,
           4344,
           4236.5,
           3827.5,
           3608.5
          ],
          [
           3783.5,
           3900.5,
           3949,
           4099,
           4127,
           4149,
           4349,
           4580.5,
           4857.5,
           5048.5,
           5250,
           4744.5,
           4698.5,
           4854,
           4992,
           4958.5,
           5307.5,
           5240.5,
           4702,
           3729,
           3058,
           3023.5,
           3273.5,
           3681.5,
           3735,
           3655.5,
           3334.5,
           3160.5
          ],
          [
           3566.5,
           3713.5,
           3752,
           3919,
           4038,
           4130,
           4315.5,
           4649.5,
           5011.5,
           5509.5,
           5617.5,
           5128,
           5057.5,
           4717,
           4483.5,
           4237.5,
           4564.5,
           4585.5,
           4081,
           3042,
           2359,
           2406.5,
           2614.5,
           2865.5,
           2922,
           2839.5,
           2678,
           2619
          ],
          [
           3552,
           3576.5,
           3583,
           3798,
           4003.5,
           3910.5,
           4078,
           4526,
           4785.5,
           5207.5,
           5368.5,
           4980.5,
           4821.5,
           4206.5,
           3836.5,
           3607,
           3915.5,
           4058,
           3794.5,
           2864.5,
           2190.5,
           2245.5,
           2363.5,
           2508.5,
           2486.5,
           2437.5,
           2535,
           2511.5
          ],
          [
           3840.5,
           3560.5,
           3418,
           3584,
           3895,
           3731.5,
           3674.5,
           3996,
           4302.5,
           4635.5,
           4524,
           4222.5,
           4052,
           3415,
           3104,
           3073,
           3368,
           3681,
           3750.5,
           2885,
           2357,
           2493,
           2631,
           2753,
           2737.5,
           2648.5,
           2856,
           2790
          ],
          [
           4351,
           3828,
           3444.5,
           3376,
           3516.5,
           3486.5,
           3411.5,
           3411.5,
           3421.5,
           3645,
           3504.5,
           3285,
           3065.5,
           2573.5,
           2423.5,
           2611.5,
           2983.5,
           3412,
           3776.5,
           3284.5,
           2996,
           3147.5,
           3169,
           3178,
           3174,
           3059,
           3049,
           2989
          ],
          [
           4604.5,
           4054,
           3610.5,
           3235.5,
           3041,
           3142.5,
           3180,
           3035.5,
           2835,
           2751,
           2604.5,
           2544.5,
           2450.5,
           2171,
           2154.5,
           2426.5,
           2902.5,
           3432.5,
           3898.5,
           3794,
           3703.5,
           3742.5,
           3558,
           3407.5,
           3254,
           3100,
           2960,
           2922.5
          ],
          [
           4760.5,
           4200.5,
           3867,
           3282.5,
           2980,
           2896,
           2941.5,
           2855.5,
           2632,
           2449.5,
           2220,
           2090.5,
           2062,
           1967.5,
           2104,
           2212.5,
           2684,
           3295,
           3813.5,
           3918.5,
           4054,
           3945.5,
           3651.5,
           3449,
           3173,
           2968.5,
           2920,
           2901
          ],
          [
           5076,
           4641.5,
           4318,
           3757,
           3556.5,
           3295.5,
           3101,
           3047,
           2793,
           2610,
           2437.5,
           2320.5,
           2204,
           2130.5,
           2295,
           2367.5,
           2635,
           3242.5,
           3757.5,
           3882,
           4201,
           4149.5,
           3648.5,
           3455.5,
           3198,
           2865.5,
           2845,
           2833
          ],
          [
           5310.5,
           5059.5,
           4826,
           4352.5,
           4155.5,
           3927.5,
           3703,
           3519.5,
           3239,
           3015,
           2921.5,
           3019,
           3013,
           2939,
           3042.5,
           2966.5,
           3010,
           3382.5,
           3703,
           3795,
           4055,
           3989.5,
           3404,
           3184.5,
           3022,
           2706,
           2744,
           2925.5
          ],
          [
           5519,
           5185,
           4924.5,
           4637.5,
           4458,
           4260.5,
           4155,
           3965,
           3724,
           3473,
           3394.5,
           3643.5,
           3828,
           3843.5,
           3818.5,
           3570,
           3471.5,
           3566,
           3580.5,
           3591.5,
           3701.5,
           3575,
           3142,
           3009.5,
           2988,
           2893,
           3067,
           3439.5
          ]
         ]
        }
       ],
       "layout": {
        "annotations": [
         {
          "font": {},
          "showarrow": false,
          "text": "facet_col=0",
          "x": 0.245,
          "xanchor": "center",
          "xref": "paper",
          "y": 1,
          "yanchor": "bottom",
          "yref": "paper"
         },
         {
          "font": {},
          "showarrow": false,
          "text": "facet_col=1",
          "x": 0.755,
          "xanchor": "center",
          "xref": "paper",
          "y": 1,
          "yanchor": "bottom",
          "yref": "paper"
         }
        ],
        "coloraxis": {
         "colorscale": [
          [
           0,
           "#0d0887"
          ],
          [
           0.1111111111111111,
           "#46039f"
          ],
          [
           0.2222222222222222,
           "#7201a8"
          ],
          [
           0.3333333333333333,
           "#9c179e"
          ],
          [
           0.4444444444444444,
           "#bd3786"
          ],
          [
           0.5555555555555556,
           "#d8576b"
          ],
          [
           0.6666666666666666,
           "#ed7953"
          ],
          [
           0.7777777777777778,
           "#fb9f3a"
          ],
          [
           0.8888888888888888,
           "#fdca26"
          ],
          [
           1,
           "#f0f921"
          ]
         ]
        },
        "margin": {
         "t": 60
        },
        "template": {
         "data": {
          "bar": [
           {
            "error_x": {
             "color": "#2a3f5f"
            },
            "error_y": {
             "color": "#2a3f5f"
            },
            "marker": {
             "line": {
              "color": "#E5ECF6",
              "width": 0.5
             },
             "pattern": {
              "fillmode": "overlay",
              "size": 10,
              "solidity": 0.2
             }
            },
            "type": "bar"
           }
          ],
          "barpolar": [
           {
            "marker": {
             "line": {
              "color": "#E5ECF6",
              "width": 0.5
             },
             "pattern": {
              "fillmode": "overlay",
              "size": 10,
              "solidity": 0.2
             }
            },
            "type": "barpolar"
           }
          ],
          "carpet": [
           {
            "aaxis": {
             "endlinecolor": "#2a3f5f",
             "gridcolor": "white",
             "linecolor": "white",
             "minorgridcolor": "white",
             "startlinecolor": "#2a3f5f"
            },
            "baxis": {
             "endlinecolor": "#2a3f5f",
             "gridcolor": "white",
             "linecolor": "white",
             "minorgridcolor": "white",
             "startlinecolor": "#2a3f5f"
            },
            "type": "carpet"
           }
          ],
          "choropleth": [
           {
            "colorbar": {
             "outlinewidth": 0,
             "ticks": ""
            },
            "type": "choropleth"
           }
          ],
          "contour": [
           {
            "colorbar": {
             "outlinewidth": 0,
             "ticks": ""
            },
            "colorscale": [
             [
              0,
              "#0d0887"
             ],
             [
              0.1111111111111111,
              "#46039f"
             ],
             [
              0.2222222222222222,
              "#7201a8"
             ],
             [
              0.3333333333333333,
              "#9c179e"
             ],
             [
              0.4444444444444444,
              "#bd3786"
             ],
             [
              0.5555555555555556,
              "#d8576b"
             ],
             [
              0.6666666666666666,
              "#ed7953"
             ],
             [
              0.7777777777777778,
              "#fb9f3a"
             ],
             [
              0.8888888888888888,
              "#fdca26"
             ],
             [
              1,
              "#f0f921"
             ]
            ],
            "type": "contour"
           }
          ],
          "contourcarpet": [
           {
            "colorbar": {
             "outlinewidth": 0,
             "ticks": ""
            },
            "type": "contourcarpet"
           }
          ],
          "heatmap": [
           {
            "colorbar": {
             "outlinewidth": 0,
             "ticks": ""
            },
            "colorscale": [
             [
              0,
              "#0d0887"
             ],
             [
              0.1111111111111111,
              "#46039f"
             ],
             [
              0.2222222222222222,
              "#7201a8"
             ],
             [
              0.3333333333333333,
              "#9c179e"
             ],
             [
              0.4444444444444444,
              "#bd3786"
             ],
             [
              0.5555555555555556,
              "#d8576b"
             ],
             [
              0.6666666666666666,
              "#ed7953"
             ],
             [
              0.7777777777777778,
              "#fb9f3a"
             ],
             [
              0.8888888888888888,
              "#fdca26"
             ],
             [
              1,
              "#f0f921"
             ]
            ],
            "type": "heatmap"
           }
          ],
          "heatmapgl": [
           {
            "colorbar": {
             "outlinewidth": 0,
             "ticks": ""
            },
            "colorscale": [
             [
              0,
              "#0d0887"
             ],
             [
              0.1111111111111111,
              "#46039f"
             ],
             [
              0.2222222222222222,
              "#7201a8"
             ],
             [
              0.3333333333333333,
              "#9c179e"
             ],
             [
              0.4444444444444444,
              "#bd3786"
             ],
             [
              0.5555555555555556,
              "#d8576b"
             ],
             [
              0.6666666666666666,
              "#ed7953"
             ],
             [
              0.7777777777777778,
              "#fb9f3a"
             ],
             [
              0.8888888888888888,
              "#fdca26"
             ],
             [
              1,
              "#f0f921"
             ]
            ],
            "type": "heatmapgl"
           }
          ],
          "histogram": [
           {
            "marker": {
             "pattern": {
              "fillmode": "overlay",
              "size": 10,
              "solidity": 0.2
             }
            },
            "type": "histogram"
           }
          ],
          "histogram2d": [
           {
            "colorbar": {
             "outlinewidth": 0,
             "ticks": ""
            },
            "colorscale": [
             [
              0,
              "#0d0887"
             ],
             [
              0.1111111111111111,
              "#46039f"
             ],
             [
              0.2222222222222222,
              "#7201a8"
             ],
             [
              0.3333333333333333,
              "#9c179e"
             ],
             [
              0.4444444444444444,
              "#bd3786"
             ],
             [
              0.5555555555555556,
              "#d8576b"
             ],
             [
              0.6666666666666666,
              "#ed7953"
             ],
             [
              0.7777777777777778,
              "#fb9f3a"
             ],
             [
              0.8888888888888888,
              "#fdca26"
             ],
             [
              1,
              "#f0f921"
             ]
            ],
            "type": "histogram2d"
           }
          ],
          "histogram2dcontour": [
           {
            "colorbar": {
             "outlinewidth": 0,
             "ticks": ""
            },
            "colorscale": [
             [
              0,
              "#0d0887"
             ],
             [
              0.1111111111111111,
              "#46039f"
             ],
             [
              0.2222222222222222,
              "#7201a8"
             ],
             [
              0.3333333333333333,
              "#9c179e"
             ],
             [
              0.4444444444444444,
              "#bd3786"
             ],
             [
              0.5555555555555556,
              "#d8576b"
             ],
             [
              0.6666666666666666,
              "#ed7953"
             ],
             [
              0.7777777777777778,
              "#fb9f3a"
             ],
             [
              0.8888888888888888,
              "#fdca26"
             ],
             [
              1,
              "#f0f921"
             ]
            ],
            "type": "histogram2dcontour"
           }
          ],
          "mesh3d": [
           {
            "colorbar": {
             "outlinewidth": 0,
             "ticks": ""
            },
            "type": "mesh3d"
           }
          ],
          "parcoords": [
           {
            "line": {
             "colorbar": {
              "outlinewidth": 0,
              "ticks": ""
             }
            },
            "type": "parcoords"
           }
          ],
          "pie": [
           {
            "automargin": true,
            "type": "pie"
           }
          ],
          "scatter": [
           {
            "fillpattern": {
             "fillmode": "overlay",
             "size": 10,
             "solidity": 0.2
            },
            "type": "scatter"
           }
          ],
          "scatter3d": [
           {
            "line": {
             "colorbar": {
              "outlinewidth": 0,
              "ticks": ""
             }
            },
            "marker": {
             "colorbar": {
              "outlinewidth": 0,
              "ticks": ""
             }
            },
            "type": "scatter3d"
           }
          ],
          "scattercarpet": [
           {
            "marker": {
             "colorbar": {
              "outlinewidth": 0,
              "ticks": ""
             }
            },
            "type": "scattercarpet"
           }
          ],
          "scattergeo": [
           {
            "marker": {
             "colorbar": {
              "outlinewidth": 0,
              "ticks": ""
             }
            },
            "type": "scattergeo"
           }
          ],
          "scattergl": [
           {
            "marker": {
             "colorbar": {
              "outlinewidth": 0,
              "ticks": ""
             }
            },
            "type": "scattergl"
           }
          ],
          "scattermapbox": [
           {
            "marker": {
             "colorbar": {
              "outlinewidth": 0,
              "ticks": ""
             }
            },
            "type": "scattermapbox"
           }
          ],
          "scatterpolar": [
           {
            "marker": {
             "colorbar": {
              "outlinewidth": 0,
              "ticks": ""
             }
            },
            "type": "scatterpolar"
           }
          ],
          "scatterpolargl": [
           {
            "marker": {
             "colorbar": {
              "outlinewidth": 0,
              "ticks": ""
             }
            },
            "type": "scatterpolargl"
           }
          ],
          "scatterternary": [
           {
            "marker": {
             "colorbar": {
              "outlinewidth": 0,
              "ticks": ""
             }
            },
            "type": "scatterternary"
           }
          ],
          "surface": [
           {
            "colorbar": {
             "outlinewidth": 0,
             "ticks": ""
            },
            "colorscale": [
             [
              0,
              "#0d0887"
             ],
             [
              0.1111111111111111,
              "#46039f"
             ],
             [
              0.2222222222222222,
              "#7201a8"
             ],
             [
              0.3333333333333333,
              "#9c179e"
             ],
             [
              0.4444444444444444,
              "#bd3786"
             ],
             [
              0.5555555555555556,
              "#d8576b"
             ],
             [
              0.6666666666666666,
              "#ed7953"
             ],
             [
              0.7777777777777778,
              "#fb9f3a"
             ],
             [
              0.8888888888888888,
              "#fdca26"
             ],
             [
              1,
              "#f0f921"
             ]
            ],
            "type": "surface"
           }
          ],
          "table": [
           {
            "cells": {
             "fill": {
              "color": "#EBF0F8"
             },
             "line": {
              "color": "white"
             }
            },
            "header": {
             "fill": {
              "color": "#C8D4E3"
             },
             "line": {
              "color": "white"
             }
            },
            "type": "table"
           }
          ]
         },
         "layout": {
          "annotationdefaults": {
           "arrowcolor": "#2a3f5f",
           "arrowhead": 0,
           "arrowwidth": 1
          },
          "autotypenumbers": "strict",
          "coloraxis": {
           "colorbar": {
            "outlinewidth": 0,
            "ticks": ""
           }
          },
          "colorscale": {
           "diverging": [
            [
             0,
             "#8e0152"
            ],
            [
             0.1,
             "#c51b7d"
            ],
            [
             0.2,
             "#de77ae"
            ],
            [
             0.3,
             "#f1b6da"
            ],
            [
             0.4,
             "#fde0ef"
            ],
            [
             0.5,
             "#f7f7f7"
            ],
            [
             0.6,
             "#e6f5d0"
            ],
            [
             0.7,
             "#b8e186"
            ],
            [
             0.8,
             "#7fbc41"
            ],
            [
             0.9,
             "#4d9221"
            ],
            [
             1,
             "#276419"
            ]
           ],
           "sequential": [
            [
             0,
             "#0d0887"
            ],
            [
             0.1111111111111111,
             "#46039f"
            ],
            [
             0.2222222222222222,
             "#7201a8"
            ],
            [
             0.3333333333333333,
             "#9c179e"
            ],
            [
             0.4444444444444444,
             "#bd3786"
            ],
            [
             0.5555555555555556,
             "#d8576b"
            ],
            [
             0.6666666666666666,
             "#ed7953"
            ],
            [
             0.7777777777777778,
             "#fb9f3a"
            ],
            [
             0.8888888888888888,
             "#fdca26"
            ],
            [
             1,
             "#f0f921"
            ]
           ],
           "sequentialminus": [
            [
             0,
             "#0d0887"
            ],
            [
             0.1111111111111111,
             "#46039f"
            ],
            [
             0.2222222222222222,
             "#7201a8"
            ],
            [
             0.3333333333333333,
             "#9c179e"
            ],
            [
             0.4444444444444444,
             "#bd3786"
            ],
            [
             0.5555555555555556,
             "#d8576b"
            ],
            [
             0.6666666666666666,
             "#ed7953"
            ],
            [
             0.7777777777777778,
             "#fb9f3a"
            ],
            [
             0.8888888888888888,
             "#fdca26"
            ],
            [
             1,
             "#f0f921"
            ]
           ]
          },
          "colorway": [
           "#636efa",
           "#EF553B",
           "#00cc96",
           "#ab63fa",
           "#FFA15A",
           "#19d3f3",
           "#FF6692",
           "#B6E880",
           "#FF97FF",
           "#FECB52"
          ],
          "font": {
           "color": "#2a3f5f"
          },
          "geo": {
           "bgcolor": "white",
           "lakecolor": "white",
           "landcolor": "#E5ECF6",
           "showlakes": true,
           "showland": true,
           "subunitcolor": "white"
          },
          "hoverlabel": {
           "align": "left"
          },
          "hovermode": "closest",
          "mapbox": {
           "style": "light"
          },
          "paper_bgcolor": "white",
          "plot_bgcolor": "#E5ECF6",
          "polar": {
           "angularaxis": {
            "gridcolor": "white",
            "linecolor": "white",
            "ticks": ""
           },
           "bgcolor": "#E5ECF6",
           "radialaxis": {
            "gridcolor": "white",
            "linecolor": "white",
            "ticks": ""
           }
          },
          "scene": {
           "xaxis": {
            "backgroundcolor": "#E5ECF6",
            "gridcolor": "white",
            "gridwidth": 2,
            "linecolor": "white",
            "showbackground": true,
            "ticks": "",
            "zerolinecolor": "white"
           },
           "yaxis": {
            "backgroundcolor": "#E5ECF6",
            "gridcolor": "white",
            "gridwidth": 2,
            "linecolor": "white",
            "showbackground": true,
            "ticks": "",
            "zerolinecolor": "white"
           },
           "zaxis": {
            "backgroundcolor": "#E5ECF6",
            "gridcolor": "white",
            "gridwidth": 2,
            "linecolor": "white",
            "showbackground": true,
            "ticks": "",
            "zerolinecolor": "white"
           }
          },
          "shapedefaults": {
           "line": {
            "color": "#2a3f5f"
           }
          },
          "ternary": {
           "aaxis": {
            "gridcolor": "white",
            "linecolor": "white",
            "ticks": ""
           },
           "baxis": {
            "gridcolor": "white",
            "linecolor": "white",
            "ticks": ""
           },
           "bgcolor": "#E5ECF6",
           "caxis": {
            "gridcolor": "white",
            "linecolor": "white",
            "ticks": ""
           }
          },
          "title": {
           "x": 0.05
          },
          "xaxis": {
           "automargin": true,
           "gridcolor": "white",
           "linecolor": "white",
           "ticks": "",
           "title": {
            "standoff": 15
           },
           "zerolinecolor": "white",
           "zerolinewidth": 2
          },
          "yaxis": {
           "automargin": true,
           "gridcolor": "white",
           "linecolor": "white",
           "ticks": "",
           "title": {
            "standoff": 15
           },
           "zerolinecolor": "white",
           "zerolinewidth": 2
          }
         }
        },
        "xaxis": {
         "anchor": "y",
         "constrain": "domain",
         "domain": [
          0,
          0.49
         ],
         "scaleanchor": "y"
        },
        "xaxis2": {
         "anchor": "y2",
         "domain": [
          0.51,
          1
         ],
         "matches": "x"
        },
        "yaxis": {
         "anchor": "x",
         "autorange": "reversed",
         "constrain": "domain",
         "domain": [
          0,
          1
         ]
        },
        "yaxis2": {
         "anchor": "x2",
         "domain": [
          0,
          1
         ],
         "matches": "y",
         "showticklabels": false
        }
       }
      }
     },
     "metadata": {},
     "output_type": "display_data"
    },
    {
     "data": {
      "text/plain": [
       "'scipy'"
      ]
     },
     "metadata": {},
     "output_type": "display_data"
    },
    {
     "data": {
      "application/vnd.plotly.v1+json": {
       "config": {
        "plotlyServerURL": "https://plot.ly"
       },
       "data": [
        {
         "coloraxis": "coloraxis",
         "hovertemplate": "x: %{x}<br>y: %{y}<br>color: %{z}<extra></extra>",
         "name": "0",
         "type": "heatmap",
         "xaxis": "x",
         "yaxis": "y",
         "z": [
          [
           1956,
           1888,
           1787,
           1815,
           1907,
           2181,
           2445,
           2545,
           2519,
           2452,
           2307,
           2263,
           2300,
           2316,
           2283,
           2244,
           2128,
           1917,
           1604,
           1250,
           1013,
           922,
           1027,
           1373,
           1768,
           2172,
           2538,
           2635
          ],
          [
           1744,
           1627,
           1587,
           1590,
           1679,
           1909,
           2079,
           2216,
           2338,
           2301,
           2182,
           2200,
           2264,
           2239,
           2184,
           2191,
           2186,
           2137,
           2071,
           1925,
           1762,
           1620,
           1687,
           1983,
           2391,
           2876,
           3347,
           3437
          ],
          [
           1724,
           1648,
           1649,
           1688,
           1669,
           1687,
           1732,
           1721,
           1606,
           1403,
           1179,
           1061,
           1048,
           991,
           977,
           1074,
           1185,
           1348,
           1609,
           1882,
           2008,
           2106,
           2299,
           2535,
           2729,
           3041,
           3351,
           3422
          ],
          [
           1758,
           1758,
           1764,
           1875,
           1846,
           1741,
           1707,
           1564,
           1330,
           1025,
           756,
           566,
           518,
           539,
           604,
           701,
           820,
           972,
           1153,
           1351,
           1560,
           1856,
           2195,
           2419,
           2593,
           2718,
           2789,
           2862
          ],
          [
           1812,
           1904,
           1975,
           2139,
           2159,
           1960,
           1776,
           1630,
           1426,
           1112,
           939,
           905,
           931,
           998,
           1055,
           1173,
           1306,
           1388,
           1456,
           1564,
           1664,
           1809,
           1960,
           2225,
           2470,
           2510,
           2556,
           2830
          ],
          [
           2240,
           2309,
           2381,
           2392,
           2288,
           1994,
           1832,
           1728,
           1480,
           1249,
           1226,
           1274,
           1335,
           1433,
           1482,
           1538,
           1575,
           1583,
           1653,
           1713,
           1693,
           1721,
           1793,
           1962,
           2184,
           2443,
           2773,
           3074
          ],
          [
           2532,
           2599,
           2541,
           2385,
           2149,
           1978,
           2066,
           2121,
           2077,
           2098,
           2179,
           2000,
           1892,
           1751,
           1654,
           1622,
           1609,
           1726,
           1871,
           1884,
           1701,
           1666,
           1572,
           1569,
           1831,
           2379,
           2798,
           3107
          ],
          [
           2662,
           2849,
           2733,
           2472,
           2312,
           2314,
           2405,
           2463,
           2627,
           2785,
           2616,
           2202,
           1936,
           1707,
           1595,
           1637,
           1796,
           2012,
           2039,
           1989,
           1934,
           1924,
           1913,
           2162,
           2444,
           2625,
           2731,
           3024
          ],
          [
           2878,
           3011,
           2798,
           2590,
           2505,
           2429,
           2394,
           2452,
           2696,
           2681,
           2380,
           2096,
           1992,
           1866,
           1804,
           1974,
           2251,
           2319,
           2240,
           2237,
           2132,
           2081,
           2198,
           2472,
           2764,
           2781,
           2637,
           2442
          ],
          [
           2962,
           2909,
           2638,
           2414,
           2268,
           2103,
           2154,
           2453,
           2556,
           2454,
           2368,
           2368,
           2304,
           2262,
           2252,
           2442,
           2475,
           2327,
           2318,
           2253,
           2044,
           1964,
           1980,
           2200,
           2487,
           2524,
           2342,
           2144
          ],
          [
           2774,
           2780,
           2456,
           2138,
           1935,
           1904,
           2328,
           2853,
           3026,
           3159,
           3383,
           3161,
           2732,
           2453,
           2394,
           2502,
           2434,
           2463,
           2549,
           2435,
           2169,
           2043,
           2179,
           2363,
           2368,
           2229,
           2147,
           2263
          ],
          [
           2950,
           3028,
           2628,
           2230,
           2050,
           2281,
           2761,
           3192,
           3472,
           3823,
           3777,
           3183,
           2597,
           2366,
           2303,
           2326,
           2498,
           2678,
           2520,
           2293,
           2183,
           2408,
           2542,
           2561,
           2438,
           2172,
           1952,
           1936
          ],
          [
           2970,
           2842,
           2515,
           2217,
           2078,
           2208,
           2546,
           2950,
           3390,
           3677,
           3559,
           3215,
           2816,
           2592,
           2545,
           2661,
           2753,
           2570,
           2210,
           2081,
           2374,
           2730,
           2678,
           2752,
           2665,
           2201,
           1740,
           1659
          ],
          [
           2553,
           2466,
           2299,
           2202,
           2225,
           2187,
           2332,
           2719,
           3036,
           3059,
           3124,
           3090,
           2866,
           2682,
           2828,
           3063,
           3091,
           2763,
           2458,
           2594,
           2706,
           2468,
           2437,
           2627,
           2390,
           1855,
           1755,
           1960
          ],
          [
           2418,
           2480,
           2390,
           2205,
           2274,
           2222,
           2433,
           2794,
           2862,
           2871,
           2955,
           2885,
           2790,
           2896,
           3076,
           3274,
           3372,
           3184,
           2992,
           2999,
           2781,
           2550,
           2539,
           2547,
           2221,
           1962,
           1939,
           2179
          ],
          [
           2510,
           2579,
           2434,
           2279,
           2188,
           2266,
           2725,
           3002,
           2999,
           3073,
           2991,
           2623,
           2610,
           2884,
           3036,
           3122,
           3192,
           3138,
           2832,
           2588,
           2534,
           2678,
           2682,
           2552,
           2394,
           2177,
           1969,
           1963
          ],
          [
           2511,
           2440,
           2498,
           2477,
           2146,
           2142,
           2521,
           2799,
           2853,
           2963,
           2954,
           2689,
           2587,
           2793,
           3001,
           3141,
           3212,
           3120,
           2738,
           2366,
           2308,
           2567,
           2566,
           2494,
           2303,
           2115,
           1923,
           1849
          ],
          [
           2261,
           2289,
           2420,
           2454,
           2395,
           2310,
           2468,
           2713,
           2896,
           2946,
           3070,
           2916,
           2836,
           2882,
           3031,
           3192,
           3457,
           3324,
           2715,
           2274,
           2276,
           2184,
           2105,
           2199,
           2149,
           1959,
           1891,
           1973
          ],
          [
           2080,
           2259,
           2272,
           2336,
           2541,
           2472,
           2487,
           2729,
           3031,
           3203,
           3310,
           3175,
           3106,
           3054,
           3037,
           3096,
           3255,
           2878,
           2188,
           1915,
           1794,
           1723,
           1807,
           2074,
           2048,
           1919,
           1891,
           1987
          ],
          [
           2120,
           2104,
           2162,
           2293,
           2365,
           2381,
           2451,
           2510,
           2701,
           3002,
           3088,
           2851,
           2752,
           2730,
           2707,
           2744,
           2703,
           2436,
           2057,
           1674,
           1422,
           1605,
           1806,
           1835,
           1709,
           1685,
           1611,
           1533
          ],
          [
           2276,
           1994,
           2063,
           2262,
           2196,
           2171,
           2407,
           2358,
           2254,
           2358,
           2402,
           2193,
           2065,
           2082,
           2218,
           2348,
           2471,
           2565,
           2314,
           1884,
           1703,
           1759,
           1753,
           1666,
           1639,
           1671,
           1627,
           1516
          ],
          [
           2413,
           2167,
           2027,
           2011,
           2060,
           2164,
           2371,
           2514,
           2561,
           2453,
           2190,
           1862,
           1616,
           1559,
           1819,
           1961,
           2132,
           2209,
           2077,
           1827,
           1833,
           1846,
           1879,
           1930,
           1950,
           1930,
           1950,
           1926
          ],
          [
           2513,
           2460,
           2206,
           2003,
           2008,
           2014,
           2036,
           2301,
           2646,
           2738,
           2486,
           2047,
           1686,
           1507,
           1590,
           1669,
           1785,
           1850,
           1881,
           1799,
           1811,
           1885,
           1936,
           1905,
           1862,
           1787,
           1732,
           1757
          ],
          [
           2311,
           2200,
           2129,
           2121,
           1984,
           1878,
           1726,
           1693,
           1886,
           2134,
           2194,
           2033,
           1894,
           1728,
           1699,
           1756,
           1881,
           1976,
           1996,
           1923,
           1834,
           1779,
           1584,
           1390,
           1248,
           1146,
           1091,
           1091
          ],
          [
           2353,
           2017,
           1943,
           1972,
           1974,
           1900,
           1810,
           1551,
           1349,
           1275,
           1280,
           1300,
           1295,
           1309,
           1461,
           1543,
           1712,
           1951,
           2007,
           1986,
           1937,
           1732,
           1551,
           1452,
           1322,
           1308,
           1334,
           1332
          ],
          [
           2883,
           2616,
           2316,
           2177,
           2243,
           2218,
           2109,
           2010,
           1806,
           1480,
           1233,
           1170,
           1100,
           1187,
           1413,
           1498,
           1657,
           2010,
           2198,
           2274,
           2345,
           2212,
           2094,
           1976,
           1921,
           1876,
           1998,
           2078
          ],
          [
           3262,
           3033,
           2816,
           2599,
           2456,
           2389,
           2303,
           2247,
           2174,
           2107,
           2061,
           2049,
           2004,
           1936,
           1985,
           1983,
           2041,
           2266,
           2469,
           2515,
           2542,
           2429,
           2163,
           2030,
           2012,
           2038,
           2116,
           2261
          ],
          [
           3028,
           2730,
           2525,
           2355,
           2192,
           2178,
           2122,
           2042,
           2084,
           2184,
           2342,
           2531,
           2596,
           2554,
           2434,
           2320,
           2290,
           2275,
           2202,
           2152,
           2042,
           1879,
           1712,
           1690,
           1795,
           1913,
           2025,
           2189
          ]
         ]
        },
        {
         "coloraxis": "coloraxis",
         "hovertemplate": "x: %{x}<br>y: %{y}<br>color: %{z}<extra></extra>",
         "name": "1",
         "type": "heatmap",
         "xaxis": "x2",
         "yaxis": "y2",
         "z": [
          [
           3087,
           3106.5,
           2855,
           2901,
           2734.5,
           2764,
           2997.5,
           3526,
           4020,
           3933,
           3597.5,
           3571,
           3573.5,
           3548,
           3545,
           3593,
           3533.5,
           3414.5,
           3348,
           3313.5,
           3245,
           3151.5,
           3257,
           3571.5,
           4076.5,
           4707,
           5425.5,
           5835
          ],
          [
           3091,
           2915,
           2740.5,
           2763.5,
           2612.5,
           2477,
           2475.5,
           2710,
           2770.5,
           2446.5,
           2069.5,
           1985,
           1973.5,
           1937.5,
           1943,
           1979.5,
           1973,
           1967.5,
           2044.5,
           2203,
           2442.5,
           2729,
           3161.5,
           3727,
           4528,
           5272.5,
           5979,
           6283
          ],
          [
           3139.5,
           2844,
           2759,
           2940.5,
           2869.5,
           2612,
           2454,
           2472.5,
           2193.5,
           1713.5,
           1289.5,
           962,
           927,
           889.5,
           888,
           932,
           997.5,
           1068,
           1225.5,
           1490,
           1796,
           2311.5,
           2940,
           3529,
           4256.5,
           5045.5,
           5734,
           5969
          ],
          [
           3065,
           2803,
           2842,
           3247.5,
           3293,
           2955.5,
           2780.5,
           2692,
           2318.5,
           1800.5,
           1331.5,
           842,
           755,
           743.5,
           792,
           893.5,
           999.5,
           1149,
           1311.5,
           1560,
           1863.5,
           2329.5,
           2909,
           3394,
           3988,
           4709.5,
           5198.5,
           5358.5
          ],
          [
           3021.5,
           2954,
           3090,
           3642.5,
           3822,
           3404,
           3228.5,
           3086,
           2760.5,
           2162,
           1670,
           1261.5,
           1168.5,
           1174,
           1267.5,
           1484.5,
           1690,
           1882.5,
           1997.5,
           2381.5,
           2691.5,
           2930,
           3244,
           3454.5,
           3822.5,
           4205,
           4411,
           4676
          ],
          [
           3396,
           3507.5,
           3746,
           4217,
           4326.5,
           3734.5,
           3549,
           3425,
           3115,
           2503,
           2212.5,
           1986,
           1823,
           1888,
           2130.5,
           2346.5,
           2623.5,
           2797,
           2871,
           3256.5,
           3313,
           3484,
           3551.5,
           3449.5,
           3603.5,
           3816.5,
           3835.5,
           4170
          ],
          [
           3874.5,
           4134.5,
           4365.5,
           4544.5,
           4460,
           3882.5,
           3721,
           3761.5,
           3618.5,
           3267.5,
           3434.5,
           3251,
           3012.5,
           2984.5,
           3168,
           3197.5,
           3394,
           3491,
           3604,
           3999.5,
           3760,
           3767,
           3444.5,
           3266,
           3390.5,
           3624.5,
           3655,
           4270.5
          ],
          [
           4441,
           4874.5,
           5003.5,
           4752.5,
           4505,
           4149,
           3970.5,
           4021.5,
           4130,
           4320.5,
           4646.5,
           4205,
           3936.5,
           3761,
           3752.5,
           3742,
           3857.5,
           3973.5,
           4056,
           4246,
           3899,
           3610,
           3042.5,
           3205,
           3407.5,
           3778.5,
           4113.5,
           4939.5
          ],
          [
           5001.5,
           5436.5,
           5358.5,
           4775.5,
           4346.5,
           4131.5,
           4025,
           4205.5,
           4587.5,
           5131,
           5399.5,
           4797.5,
           4560,
           4214,
           4015.5,
           3977,
           4061.5,
           4118,
           4072,
           4125.5,
           3764,
           3345.5,
           2891.5,
           3168,
           3727,
           4500,
           4641,
           5034.5
          ],
          [
           5143,
           5571,
           5220,
           4471,
           4037.5,
           3915.5,
           3938,
           4306,
           4883,
           5440.5,
           5457.5,
           4965.5,
           4625,
           4198,
           3899,
           3868.5,
           3931.5,
           3915,
           3792.5,
           3868.5,
           3479.5,
           2976.5,
           2881.5,
           3562.5,
           4343.5,
           4614,
           4557,
           4703.5
          ],
          [
           4937,
           5401,
           4874,
           4105.5,
           3682.5,
           3663.5,
           3831,
           4377,
           5004,
           5383.5,
           5447.5,
           5142.5,
           4512.5,
           4028.5,
           3668.5,
           3702,
           3819,
           3751,
           3775,
           3930,
           3399.5,
           3045.5,
           3577.5,
           4240.5,
           4561,
           4370,
           4215.5,
           4004
          ],
          [
           4711,
           5096,
           4469.5,
           3785,
           3522,
           3596.5,
           3825,
           4668,
           5215,
           5494.5,
           5685.5,
           5348.5,
           4359.5,
           3893,
           3670,
           3732,
           3867.5,
           3893,
           3974.5,
           3958.5,
           3609,
           3703.5,
           4074.5,
           4321.5,
           4494.5,
           4016,
           3495,
           3162.5
          ],
          [
           4554,
           4684,
           4211.5,
           3671.5,
           3433.5,
           3452,
           3865,
           4911.5,
           5274,
           5616.5,
           5952,
           5812,
           4675.5,
           4107.5,
           4066,
           4120.5,
           4175,
           4198.5,
           4267,
           4261.5,
           3970.5,
           4146.5,
           4396,
           4502.5,
           4312.5,
           3684.5,
           3037,
           2849.5
          ],
          [
           4405,
           4506.5,
           4157.5,
           3730.5,
           3607,
           3472.5,
           4026.5,
           4901,
           5330,
           5758,
           6108,
           6022,
           5120,
           4524.5,
           4590.5,
           4621,
           4815.5,
           4866.5,
           4736.5,
           4617.5,
           4587,
           4721.5,
           4451.5,
           4438,
           4221.5,
           3546.5,
           2981.5,
           3088.5
          ],
          [
           4260,
           4417.5,
           4404.5,
           3873,
           3922,
           3640,
           4009,
           4666,
           5126,
           5507,
           5893.5,
           5843.5,
           5375.5,
           4987.5,
           5115.5,
           5220,
           5607.5,
           5626,
           4988.5,
           4835,
           5034.5,
           4840,
           4245.5,
           4580.5,
           4447,
           3891,
           3251,
           3520.5
          ],
          [
           4168,
           4268,
           4548,
           4114,
           4079.5,
           3765,
           4030,
           4432.5,
           4628,
           5002.5,
           5391,
           5172,
           5095,
           5200,
           5489.5,
           5585.5,
           5961,
           6052.5,
           5243.5,
           5039.5,
           4840,
           4475.5,
           4310.5,
           4856,
           4683.5,
           4346.5,
           3718.5,
           3825
          ],
          [
           4121.5,
           4112.5,
           4448,
           4336.5,
           4130.5,
           3771,
           4159,
           4333,
           4164.5,
           4338,
           4854.5,
           4544,
           4665,
           5179,
           5570.5,
           5713.5,
           6191,
           6311.5,
           5485,
           4941,
           4471.5,
           4191,
           4325,
           4763.5,
           4607.5,
           4458.5,
           3995,
           3853.5
          ],
          [
           4022,
           4012.5,
           4187.5,
           4282,
           4109,
           3909,
           4336,
           4461.5,
           4339.5,
           4354.5,
           4774.5,
           4375.5,
           4476,
           4958.5,
           5334,
           5482.5,
           5978.5,
           5953.5,
           5307.5,
           4496,
           3870.5,
           3702,
           3934,
           4387,
           4344,
           4236.5,
           3827.5,
           3608.5
          ],
          [
           3783.5,
           3900.5,
           3949,
           4099,
           4127,
           4149,
           4349,
           4580.5,
           4857.5,
           5048.5,
           5250,
           4744.5,
           4698.5,
           4854,
           4992,
           4958.5,
           5307.5,
           5240.5,
           4702,
           3729,
           3058,
           3023.5,
           3273.5,
           3681.5,
           3735,
           3655.5,
           3334.5,
           3160.5
          ],
          [
           3566.5,
           3713.5,
           3752,
           3919,
           4038,
           4130,
           4315.5,
           4649.5,
           5011.5,
           5509.5,
           5617.5,
           5128,
           5057.5,
           4717,
           4483.5,
           4237.5,
           4564.5,
           4585.5,
           4081,
           3042,
           2359,
           2406.5,
           2614.5,
           2865.5,
           2922,
           2839.5,
           2678,
           2619
          ],
          [
           3552,
           3576.5,
           3583,
           3798,
           4003.5,
           3910.5,
           4078,
           4526,
           4785.5,
           5207.5,
           5368.5,
           4980.5,
           4821.5,
           4206.5,
           3836.5,
           3607,
           3915.5,
           4058,
           3794.5,
           2864.5,
           2190.5,
           2245.5,
           2363.5,
           2508.5,
           2486.5,
           2437.5,
           2535,
           2511.5
          ],
          [
           3840.5,
           3560.5,
           3418,
           3584,
           3895,
           3731.5,
           3674.5,
           3996,
           4302.5,
           4635.5,
           4524,
           4222.5,
           4052,
           3415,
           3104,
           3073,
           3368,
           3681,
           3750.5,
           2885,
           2357,
           2493,
           2631,
           2753,
           2737.5,
           2648.5,
           2856,
           2790
          ],
          [
           4351,
           3828,
           3444.5,
           3376,
           3516.5,
           3486.5,
           3411.5,
           3411.5,
           3421.5,
           3645,
           3504.5,
           3285,
           3065.5,
           2573.5,
           2423.5,
           2611.5,
           2983.5,
           3412,
           3776.5,
           3284.5,
           2996,
           3147.5,
           3169,
           3178,
           3174,
           3059,
           3049,
           2989
          ],
          [
           4604.5,
           4054,
           3610.5,
           3235.5,
           3041,
           3142.5,
           3180,
           3035.5,
           2835,
           2751,
           2604.5,
           2544.5,
           2450.5,
           2171,
           2154.5,
           2426.5,
           2902.5,
           3432.5,
           3898.5,
           3794,
           3703.5,
           3742.5,
           3558,
           3407.5,
           3254,
           3100,
           2960,
           2922.5
          ],
          [
           4760.5,
           4200.5,
           3867,
           3282.5,
           2980,
           2896,
           2941.5,
           2855.5,
           2632,
           2449.5,
           2220,
           2090.5,
           2062,
           1967.5,
           2104,
           2212.5,
           2684,
           3295,
           3813.5,
           3918.5,
           4054,
           3945.5,
           3651.5,
           3449,
           3173,
           2968.5,
           2920,
           2901
          ],
          [
           5076,
           4641.5,
           4318,
           3757,
           3556.5,
           3295.5,
           3101,
           3047,
           2793,
           2610,
           2437.5,
           2320.5,
           2204,
           2130.5,
           2295,
           2367.5,
           2635,
           3242.5,
           3757.5,
           3882,
           4201,
           4149.5,
           3648.5,
           3455.5,
           3198,
           2865.5,
           2845,
           2833
          ],
          [
           5310.5,
           5059.5,
           4826,
           4352.5,
           4155.5,
           3927.5,
           3703,
           3519.5,
           3239,
           3015,
           2921.5,
           3019,
           3013,
           2939,
           3042.5,
           2966.5,
           3010,
           3382.5,
           3703,
           3795,
           4055,
           3989.5,
           3404,
           3184.5,
           3022,
           2706,
           2744,
           2925.5
          ],
          [
           5519,
           5185,
           4924.5,
           4637.5,
           4458,
           4260.5,
           4155,
           3965,
           3724,
           3473,
           3394.5,
           3643.5,
           3828,
           3843.5,
           3818.5,
           3570,
           3471.5,
           3566,
           3580.5,
           3591.5,
           3701.5,
           3575,
           3142,
           3009.5,
           2988,
           2893,
           3067,
           3439.5
          ]
         ]
        }
       ],
       "layout": {
        "annotations": [
         {
          "font": {},
          "showarrow": false,
          "text": "facet_col=0",
          "x": 0.245,
          "xanchor": "center",
          "xref": "paper",
          "y": 1,
          "yanchor": "bottom",
          "yref": "paper"
         },
         {
          "font": {},
          "showarrow": false,
          "text": "facet_col=1",
          "x": 0.755,
          "xanchor": "center",
          "xref": "paper",
          "y": 1,
          "yanchor": "bottom",
          "yref": "paper"
         }
        ],
        "coloraxis": {
         "colorscale": [
          [
           0,
           "#0d0887"
          ],
          [
           0.1111111111111111,
           "#46039f"
          ],
          [
           0.2222222222222222,
           "#7201a8"
          ],
          [
           0.3333333333333333,
           "#9c179e"
          ],
          [
           0.4444444444444444,
           "#bd3786"
          ],
          [
           0.5555555555555556,
           "#d8576b"
          ],
          [
           0.6666666666666666,
           "#ed7953"
          ],
          [
           0.7777777777777778,
           "#fb9f3a"
          ],
          [
           0.8888888888888888,
           "#fdca26"
          ],
          [
           1,
           "#f0f921"
          ]
         ]
        },
        "margin": {
         "t": 60
        },
        "template": {
         "data": {
          "bar": [
           {
            "error_x": {
             "color": "#2a3f5f"
            },
            "error_y": {
             "color": "#2a3f5f"
            },
            "marker": {
             "line": {
              "color": "#E5ECF6",
              "width": 0.5
             },
             "pattern": {
              "fillmode": "overlay",
              "size": 10,
              "solidity": 0.2
             }
            },
            "type": "bar"
           }
          ],
          "barpolar": [
           {
            "marker": {
             "line": {
              "color": "#E5ECF6",
              "width": 0.5
             },
             "pattern": {
              "fillmode": "overlay",
              "size": 10,
              "solidity": 0.2
             }
            },
            "type": "barpolar"
           }
          ],
          "carpet": [
           {
            "aaxis": {
             "endlinecolor": "#2a3f5f",
             "gridcolor": "white",
             "linecolor": "white",
             "minorgridcolor": "white",
             "startlinecolor": "#2a3f5f"
            },
            "baxis": {
             "endlinecolor": "#2a3f5f",
             "gridcolor": "white",
             "linecolor": "white",
             "minorgridcolor": "white",
             "startlinecolor": "#2a3f5f"
            },
            "type": "carpet"
           }
          ],
          "choropleth": [
           {
            "colorbar": {
             "outlinewidth": 0,
             "ticks": ""
            },
            "type": "choropleth"
           }
          ],
          "contour": [
           {
            "colorbar": {
             "outlinewidth": 0,
             "ticks": ""
            },
            "colorscale": [
             [
              0,
              "#0d0887"
             ],
             [
              0.1111111111111111,
              "#46039f"
             ],
             [
              0.2222222222222222,
              "#7201a8"
             ],
             [
              0.3333333333333333,
              "#9c179e"
             ],
             [
              0.4444444444444444,
              "#bd3786"
             ],
             [
              0.5555555555555556,
              "#d8576b"
             ],
             [
              0.6666666666666666,
              "#ed7953"
             ],
             [
              0.7777777777777778,
              "#fb9f3a"
             ],
             [
              0.8888888888888888,
              "#fdca26"
             ],
             [
              1,
              "#f0f921"
             ]
            ],
            "type": "contour"
           }
          ],
          "contourcarpet": [
           {
            "colorbar": {
             "outlinewidth": 0,
             "ticks": ""
            },
            "type": "contourcarpet"
           }
          ],
          "heatmap": [
           {
            "colorbar": {
             "outlinewidth": 0,
             "ticks": ""
            },
            "colorscale": [
             [
              0,
              "#0d0887"
             ],
             [
              0.1111111111111111,
              "#46039f"
             ],
             [
              0.2222222222222222,
              "#7201a8"
             ],
             [
              0.3333333333333333,
              "#9c179e"
             ],
             [
              0.4444444444444444,
              "#bd3786"
             ],
             [
              0.5555555555555556,
              "#d8576b"
             ],
             [
              0.6666666666666666,
              "#ed7953"
             ],
             [
              0.7777777777777778,
              "#fb9f3a"
             ],
             [
              0.8888888888888888,
              "#fdca26"
             ],
             [
              1,
              "#f0f921"
             ]
            ],
            "type": "heatmap"
           }
          ],
          "heatmapgl": [
           {
            "colorbar": {
             "outlinewidth": 0,
             "ticks": ""
            },
            "colorscale": [
             [
              0,
              "#0d0887"
             ],
             [
              0.1111111111111111,
              "#46039f"
             ],
             [
              0.2222222222222222,
              "#7201a8"
             ],
             [
              0.3333333333333333,
              "#9c179e"
             ],
             [
              0.4444444444444444,
              "#bd3786"
             ],
             [
              0.5555555555555556,
              "#d8576b"
             ],
             [
              0.6666666666666666,
              "#ed7953"
             ],
             [
              0.7777777777777778,
              "#fb9f3a"
             ],
             [
              0.8888888888888888,
              "#fdca26"
             ],
             [
              1,
              "#f0f921"
             ]
            ],
            "type": "heatmapgl"
           }
          ],
          "histogram": [
           {
            "marker": {
             "pattern": {
              "fillmode": "overlay",
              "size": 10,
              "solidity": 0.2
             }
            },
            "type": "histogram"
           }
          ],
          "histogram2d": [
           {
            "colorbar": {
             "outlinewidth": 0,
             "ticks": ""
            },
            "colorscale": [
             [
              0,
              "#0d0887"
             ],
             [
              0.1111111111111111,
              "#46039f"
             ],
             [
              0.2222222222222222,
              "#7201a8"
             ],
             [
              0.3333333333333333,
              "#9c179e"
             ],
             [
              0.4444444444444444,
              "#bd3786"
             ],
             [
              0.5555555555555556,
              "#d8576b"
             ],
             [
              0.6666666666666666,
              "#ed7953"
             ],
             [
              0.7777777777777778,
              "#fb9f3a"
             ],
             [
              0.8888888888888888,
              "#fdca26"
             ],
             [
              1,
              "#f0f921"
             ]
            ],
            "type": "histogram2d"
           }
          ],
          "histogram2dcontour": [
           {
            "colorbar": {
             "outlinewidth": 0,
             "ticks": ""
            },
            "colorscale": [
             [
              0,
              "#0d0887"
             ],
             [
              0.1111111111111111,
              "#46039f"
             ],
             [
              0.2222222222222222,
              "#7201a8"
             ],
             [
              0.3333333333333333,
              "#9c179e"
             ],
             [
              0.4444444444444444,
              "#bd3786"
             ],
             [
              0.5555555555555556,
              "#d8576b"
             ],
             [
              0.6666666666666666,
              "#ed7953"
             ],
             [
              0.7777777777777778,
              "#fb9f3a"
             ],
             [
              0.8888888888888888,
              "#fdca26"
             ],
             [
              1,
              "#f0f921"
             ]
            ],
            "type": "histogram2dcontour"
           }
          ],
          "mesh3d": [
           {
            "colorbar": {
             "outlinewidth": 0,
             "ticks": ""
            },
            "type": "mesh3d"
           }
          ],
          "parcoords": [
           {
            "line": {
             "colorbar": {
              "outlinewidth": 0,
              "ticks": ""
             }
            },
            "type": "parcoords"
           }
          ],
          "pie": [
           {
            "automargin": true,
            "type": "pie"
           }
          ],
          "scatter": [
           {
            "fillpattern": {
             "fillmode": "overlay",
             "size": 10,
             "solidity": 0.2
            },
            "type": "scatter"
           }
          ],
          "scatter3d": [
           {
            "line": {
             "colorbar": {
              "outlinewidth": 0,
              "ticks": ""
             }
            },
            "marker": {
             "colorbar": {
              "outlinewidth": 0,
              "ticks": ""
             }
            },
            "type": "scatter3d"
           }
          ],
          "scattercarpet": [
           {
            "marker": {
             "colorbar": {
              "outlinewidth": 0,
              "ticks": ""
             }
            },
            "type": "scattercarpet"
           }
          ],
          "scattergeo": [
           {
            "marker": {
             "colorbar": {
              "outlinewidth": 0,
              "ticks": ""
             }
            },
            "type": "scattergeo"
           }
          ],
          "scattergl": [
           {
            "marker": {
             "colorbar": {
              "outlinewidth": 0,
              "ticks": ""
             }
            },
            "type": "scattergl"
           }
          ],
          "scattermapbox": [
           {
            "marker": {
             "colorbar": {
              "outlinewidth": 0,
              "ticks": ""
             }
            },
            "type": "scattermapbox"
           }
          ],
          "scatterpolar": [
           {
            "marker": {
             "colorbar": {
              "outlinewidth": 0,
              "ticks": ""
             }
            },
            "type": "scatterpolar"
           }
          ],
          "scatterpolargl": [
           {
            "marker": {
             "colorbar": {
              "outlinewidth": 0,
              "ticks": ""
             }
            },
            "type": "scatterpolargl"
           }
          ],
          "scatterternary": [
           {
            "marker": {
             "colorbar": {
              "outlinewidth": 0,
              "ticks": ""
             }
            },
            "type": "scatterternary"
           }
          ],
          "surface": [
           {
            "colorbar": {
             "outlinewidth": 0,
             "ticks": ""
            },
            "colorscale": [
             [
              0,
              "#0d0887"
             ],
             [
              0.1111111111111111,
              "#46039f"
             ],
             [
              0.2222222222222222,
              "#7201a8"
             ],
             [
              0.3333333333333333,
              "#9c179e"
             ],
             [
              0.4444444444444444,
              "#bd3786"
             ],
             [
              0.5555555555555556,
              "#d8576b"
             ],
             [
              0.6666666666666666,
              "#ed7953"
             ],
             [
              0.7777777777777778,
              "#fb9f3a"
             ],
             [
              0.8888888888888888,
              "#fdca26"
             ],
             [
              1,
              "#f0f921"
             ]
            ],
            "type": "surface"
           }
          ],
          "table": [
           {
            "cells": {
             "fill": {
              "color": "#EBF0F8"
             },
             "line": {
              "color": "white"
             }
            },
            "header": {
             "fill": {
              "color": "#C8D4E3"
             },
             "line": {
              "color": "white"
             }
            },
            "type": "table"
           }
          ]
         },
         "layout": {
          "annotationdefaults": {
           "arrowcolor": "#2a3f5f",
           "arrowhead": 0,
           "arrowwidth": 1
          },
          "autotypenumbers": "strict",
          "coloraxis": {
           "colorbar": {
            "outlinewidth": 0,
            "ticks": ""
           }
          },
          "colorscale": {
           "diverging": [
            [
             0,
             "#8e0152"
            ],
            [
             0.1,
             "#c51b7d"
            ],
            [
             0.2,
             "#de77ae"
            ],
            [
             0.3,
             "#f1b6da"
            ],
            [
             0.4,
             "#fde0ef"
            ],
            [
             0.5,
             "#f7f7f7"
            ],
            [
             0.6,
             "#e6f5d0"
            ],
            [
             0.7,
             "#b8e186"
            ],
            [
             0.8,
             "#7fbc41"
            ],
            [
             0.9,
             "#4d9221"
            ],
            [
             1,
             "#276419"
            ]
           ],
           "sequential": [
            [
             0,
             "#0d0887"
            ],
            [
             0.1111111111111111,
             "#46039f"
            ],
            [
             0.2222222222222222,
             "#7201a8"
            ],
            [
             0.3333333333333333,
             "#9c179e"
            ],
            [
             0.4444444444444444,
             "#bd3786"
            ],
            [
             0.5555555555555556,
             "#d8576b"
            ],
            [
             0.6666666666666666,
             "#ed7953"
            ],
            [
             0.7777777777777778,
             "#fb9f3a"
            ],
            [
             0.8888888888888888,
             "#fdca26"
            ],
            [
             1,
             "#f0f921"
            ]
           ],
           "sequentialminus": [
            [
             0,
             "#0d0887"
            ],
            [
             0.1111111111111111,
             "#46039f"
            ],
            [
             0.2222222222222222,
             "#7201a8"
            ],
            [
             0.3333333333333333,
             "#9c179e"
            ],
            [
             0.4444444444444444,
             "#bd3786"
            ],
            [
             0.5555555555555556,
             "#d8576b"
            ],
            [
             0.6666666666666666,
             "#ed7953"
            ],
            [
             0.7777777777777778,
             "#fb9f3a"
            ],
            [
             0.8888888888888888,
             "#fdca26"
            ],
            [
             1,
             "#f0f921"
            ]
           ]
          },
          "colorway": [
           "#636efa",
           "#EF553B",
           "#00cc96",
           "#ab63fa",
           "#FFA15A",
           "#19d3f3",
           "#FF6692",
           "#B6E880",
           "#FF97FF",
           "#FECB52"
          ],
          "font": {
           "color": "#2a3f5f"
          },
          "geo": {
           "bgcolor": "white",
           "lakecolor": "white",
           "landcolor": "#E5ECF6",
           "showlakes": true,
           "showland": true,
           "subunitcolor": "white"
          },
          "hoverlabel": {
           "align": "left"
          },
          "hovermode": "closest",
          "mapbox": {
           "style": "light"
          },
          "paper_bgcolor": "white",
          "plot_bgcolor": "#E5ECF6",
          "polar": {
           "angularaxis": {
            "gridcolor": "white",
            "linecolor": "white",
            "ticks": ""
           },
           "bgcolor": "#E5ECF6",
           "radialaxis": {
            "gridcolor": "white",
            "linecolor": "white",
            "ticks": ""
           }
          },
          "scene": {
           "xaxis": {
            "backgroundcolor": "#E5ECF6",
            "gridcolor": "white",
            "gridwidth": 2,
            "linecolor": "white",
            "showbackground": true,
            "ticks": "",
            "zerolinecolor": "white"
           },
           "yaxis": {
            "backgroundcolor": "#E5ECF6",
            "gridcolor": "white",
            "gridwidth": 2,
            "linecolor": "white",
            "showbackground": true,
            "ticks": "",
            "zerolinecolor": "white"
           },
           "zaxis": {
            "backgroundcolor": "#E5ECF6",
            "gridcolor": "white",
            "gridwidth": 2,
            "linecolor": "white",
            "showbackground": true,
            "ticks": "",
            "zerolinecolor": "white"
           }
          },
          "shapedefaults": {
           "line": {
            "color": "#2a3f5f"
           }
          },
          "ternary": {
           "aaxis": {
            "gridcolor": "white",
            "linecolor": "white",
            "ticks": ""
           },
           "baxis": {
            "gridcolor": "white",
            "linecolor": "white",
            "ticks": ""
           },
           "bgcolor": "#E5ECF6",
           "caxis": {
            "gridcolor": "white",
            "linecolor": "white",
            "ticks": ""
           }
          },
          "title": {
           "x": 0.05
          },
          "xaxis": {
           "automargin": true,
           "gridcolor": "white",
           "linecolor": "white",
           "ticks": "",
           "title": {
            "standoff": 15
           },
           "zerolinecolor": "white",
           "zerolinewidth": 2
          },
          "yaxis": {
           "automargin": true,
           "gridcolor": "white",
           "linecolor": "white",
           "ticks": "",
           "title": {
            "standoff": 15
           },
           "zerolinecolor": "white",
           "zerolinewidth": 2
          }
         }
        },
        "xaxis": {
         "anchor": "y",
         "constrain": "domain",
         "domain": [
          0,
          0.49
         ],
         "scaleanchor": "y"
        },
        "xaxis2": {
         "anchor": "y2",
         "domain": [
          0.51,
          1
         ],
         "matches": "x"
        },
        "yaxis": {
         "anchor": "x",
         "autorange": "reversed",
         "constrain": "domain",
         "domain": [
          0,
          1
         ]
        },
        "yaxis2": {
         "anchor": "x2",
         "domain": [
          0,
          1
         ],
         "matches": "y",
         "showticklabels": false
        }
       }
      }
     },
     "metadata": {},
     "output_type": "display_data"
    }
   ],
   "source": [
    "display(\"custom\")\n",
    "px.imshow(cross_correlations[1], facet_col=2).show()\n",
    "display(\"scipy\")\n",
    "scipy_cross_correlations = np.stack([cross_correlate_multi_channel_2d(input, multi_channels_kernels) for input in inputs])\n",
    "px.imshow(scipy_cross_correlations[1], facet_col=0)"
   ]
  },
  {
   "cell_type": "markdown",
   "metadata": {},
   "source": [
    "## Multi kernels, channels and inputs full convolution\n",
    "Here we just need to pad the input and transpose the kernels, then we can perform a valid dcross correlation between the padded input and the transposed kernels."
   ]
  },
  {
   "cell_type": "code",
   "execution_count": 48,
   "metadata": {},
   "outputs": [
    {
     "data": {
      "text/plain": [
       "(2, 40, 40, 3)"
      ]
     },
     "metadata": {},
     "output_type": "display_data"
    },
    {
     "data": {
      "application/vnd.plotly.v1+json": {
       "config": {
        "plotlyServerURL": "https://plot.ly"
       },
       "data": [
        {
         "hovertemplate": "x: %{x}<br>y: %{y}<br>color: %{z}<extra></extra>",
         "name": "0",
         "source": "data:image/png;base64,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",
         "type": "image",
         "xaxis": "x",
         "yaxis": "y"
        },
        {
         "hovertemplate": "x: %{x}<br>y: %{y}<br>color: %{z}<extra></extra>",
         "name": "1",
         "source": "data:image/png;base64,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",
         "type": "image",
         "xaxis": "x2",
         "yaxis": "y2"
        }
       ],
       "layout": {
        "annotations": [
         {
          "font": {},
          "showarrow": false,
          "text": "facet_col=0",
          "x": 0.245,
          "xanchor": "center",
          "xref": "paper",
          "y": 1,
          "yanchor": "bottom",
          "yref": "paper"
         },
         {
          "font": {},
          "showarrow": false,
          "text": "facet_col=1",
          "x": 0.755,
          "xanchor": "center",
          "xref": "paper",
          "y": 1,
          "yanchor": "bottom",
          "yref": "paper"
         }
        ],
        "margin": {
         "t": 60
        },
        "template": {
         "data": {
          "bar": [
           {
            "error_x": {
             "color": "#2a3f5f"
            },
            "error_y": {
             "color": "#2a3f5f"
            },
            "marker": {
             "line": {
              "color": "#E5ECF6",
              "width": 0.5
             },
             "pattern": {
              "fillmode": "overlay",
              "size": 10,
              "solidity": 0.2
             }
            },
            "type": "bar"
           }
          ],
          "barpolar": [
           {
            "marker": {
             "line": {
              "color": "#E5ECF6",
              "width": 0.5
             },
             "pattern": {
              "fillmode": "overlay",
              "size": 10,
              "solidity": 0.2
             }
            },
            "type": "barpolar"
           }
          ],
          "carpet": [
           {
            "aaxis": {
             "endlinecolor": "#2a3f5f",
             "gridcolor": "white",
             "linecolor": "white",
             "minorgridcolor": "white",
             "startlinecolor": "#2a3f5f"
            },
            "baxis": {
             "endlinecolor": "#2a3f5f",
             "gridcolor": "white",
             "linecolor": "white",
             "minorgridcolor": "white",
             "startlinecolor": "#2a3f5f"
            },
            "type": "carpet"
           }
          ],
          "choropleth": [
           {
            "colorbar": {
             "outlinewidth": 0,
             "ticks": ""
            },
            "type": "choropleth"
           }
          ],
          "contour": [
           {
            "colorbar": {
             "outlinewidth": 0,
             "ticks": ""
            },
            "colorscale": [
             [
              0,
              "#0d0887"
             ],
             [
              0.1111111111111111,
              "#46039f"
             ],
             [
              0.2222222222222222,
              "#7201a8"
             ],
             [
              0.3333333333333333,
              "#9c179e"
             ],
             [
              0.4444444444444444,
              "#bd3786"
             ],
             [
              0.5555555555555556,
              "#d8576b"
             ],
             [
              0.6666666666666666,
              "#ed7953"
             ],
             [
              0.7777777777777778,
              "#fb9f3a"
             ],
             [
              0.8888888888888888,
              "#fdca26"
             ],
             [
              1,
              "#f0f921"
             ]
            ],
            "type": "contour"
           }
          ],
          "contourcarpet": [
           {
            "colorbar": {
             "outlinewidth": 0,
             "ticks": ""
            },
            "type": "contourcarpet"
           }
          ],
          "heatmap": [
           {
            "colorbar": {
             "outlinewidth": 0,
             "ticks": ""
            },
            "colorscale": [
             [
              0,
              "#0d0887"
             ],
             [
              0.1111111111111111,
              "#46039f"
             ],
             [
              0.2222222222222222,
              "#7201a8"
             ],
             [
              0.3333333333333333,
              "#9c179e"
             ],
             [
              0.4444444444444444,
              "#bd3786"
             ],
             [
              0.5555555555555556,
              "#d8576b"
             ],
             [
              0.6666666666666666,
              "#ed7953"
             ],
             [
              0.7777777777777778,
              "#fb9f3a"
             ],
             [
              0.8888888888888888,
              "#fdca26"
             ],
             [
              1,
              "#f0f921"
             ]
            ],
            "type": "heatmap"
           }
          ],
          "heatmapgl": [
           {
            "colorbar": {
             "outlinewidth": 0,
             "ticks": ""
            },
            "colorscale": [
             [
              0,
              "#0d0887"
             ],
             [
              0.1111111111111111,
              "#46039f"
             ],
             [
              0.2222222222222222,
              "#7201a8"
             ],
             [
              0.3333333333333333,
              "#9c179e"
             ],
             [
              0.4444444444444444,
              "#bd3786"
             ],
             [
              0.5555555555555556,
              "#d8576b"
             ],
             [
              0.6666666666666666,
              "#ed7953"
             ],
             [
              0.7777777777777778,
              "#fb9f3a"
             ],
             [
              0.8888888888888888,
              "#fdca26"
             ],
             [
              1,
              "#f0f921"
             ]
            ],
            "type": "heatmapgl"
           }
          ],
          "histogram": [
           {
            "marker": {
             "pattern": {
              "fillmode": "overlay",
              "size": 10,
              "solidity": 0.2
             }
            },
            "type": "histogram"
           }
          ],
          "histogram2d": [
           {
            "colorbar": {
             "outlinewidth": 0,
             "ticks": ""
            },
            "colorscale": [
             [
              0,
              "#0d0887"
             ],
             [
              0.1111111111111111,
              "#46039f"
             ],
             [
              0.2222222222222222,
              "#7201a8"
             ],
             [
              0.3333333333333333,
              "#9c179e"
             ],
             [
              0.4444444444444444,
              "#bd3786"
             ],
             [
              0.5555555555555556,
              "#d8576b"
             ],
             [
              0.6666666666666666,
              "#ed7953"
             ],
             [
              0.7777777777777778,
              "#fb9f3a"
             ],
             [
              0.8888888888888888,
              "#fdca26"
             ],
             [
              1,
              "#f0f921"
             ]
            ],
            "type": "histogram2d"
           }
          ],
          "histogram2dcontour": [
           {
            "colorbar": {
             "outlinewidth": 0,
             "ticks": ""
            },
            "colorscale": [
             [
              0,
              "#0d0887"
             ],
             [
              0.1111111111111111,
              "#46039f"
             ],
             [
              0.2222222222222222,
              "#7201a8"
             ],
             [
              0.3333333333333333,
              "#9c179e"
             ],
             [
              0.4444444444444444,
              "#bd3786"
             ],
             [
              0.5555555555555556,
              "#d8576b"
             ],
             [
              0.6666666666666666,
              "#ed7953"
             ],
             [
              0.7777777777777778,
              "#fb9f3a"
             ],
             [
              0.8888888888888888,
              "#fdca26"
             ],
             [
              1,
              "#f0f921"
             ]
            ],
            "type": "histogram2dcontour"
           }
          ],
          "mesh3d": [
           {
            "colorbar": {
             "outlinewidth": 0,
             "ticks": ""
            },
            "type": "mesh3d"
           }
          ],
          "parcoords": [
           {
            "line": {
             "colorbar": {
              "outlinewidth": 0,
              "ticks": ""
             }
            },
            "type": "parcoords"
           }
          ],
          "pie": [
           {
            "automargin": true,
            "type": "pie"
           }
          ],
          "scatter": [
           {
            "fillpattern": {
             "fillmode": "overlay",
             "size": 10,
             "solidity": 0.2
            },
            "type": "scatter"
           }
          ],
          "scatter3d": [
           {
            "line": {
             "colorbar": {
              "outlinewidth": 0,
              "ticks": ""
             }
            },
            "marker": {
             "colorbar": {
              "outlinewidth": 0,
              "ticks": ""
             }
            },
            "type": "scatter3d"
           }
          ],
          "scattercarpet": [
           {
            "marker": {
             "colorbar": {
              "outlinewidth": 0,
              "ticks": ""
             }
            },
            "type": "scattercarpet"
           }
          ],
          "scattergeo": [
           {
            "marker": {
             "colorbar": {
              "outlinewidth": 0,
              "ticks": ""
             }
            },
            "type": "scattergeo"
           }
          ],
          "scattergl": [
           {
            "marker": {
             "colorbar": {
              "outlinewidth": 0,
              "ticks": ""
             }
            },
            "type": "scattergl"
           }
          ],
          "scattermapbox": [
           {
            "marker": {
             "colorbar": {
              "outlinewidth": 0,
              "ticks": ""
             }
            },
            "type": "scattermapbox"
           }
          ],
          "scatterpolar": [
           {
            "marker": {
             "colorbar": {
              "outlinewidth": 0,
              "ticks": ""
             }
            },
            "type": "scatterpolar"
           }
          ],
          "scatterpolargl": [
           {
            "marker": {
             "colorbar": {
              "outlinewidth": 0,
              "ticks": ""
             }
            },
            "type": "scatterpolargl"
           }
          ],
          "scatterternary": [
           {
            "marker": {
             "colorbar": {
              "outlinewidth": 0,
              "ticks": ""
             }
            },
            "type": "scatterternary"
           }
          ],
          "surface": [
           {
            "colorbar": {
             "outlinewidth": 0,
             "ticks": ""
            },
            "colorscale": [
             [
              0,
              "#0d0887"
             ],
             [
              0.1111111111111111,
              "#46039f"
             ],
             [
              0.2222222222222222,
              "#7201a8"
             ],
             [
              0.3333333333333333,
              "#9c179e"
             ],
             [
              0.4444444444444444,
              "#bd3786"
             ],
             [
              0.5555555555555556,
              "#d8576b"
             ],
             [
              0.6666666666666666,
              "#ed7953"
             ],
             [
              0.7777777777777778,
              "#fb9f3a"
             ],
             [
              0.8888888888888888,
              "#fdca26"
             ],
             [
              1,
              "#f0f921"
             ]
            ],
            "type": "surface"
           }
          ],
          "table": [
           {
            "cells": {
             "fill": {
              "color": "#EBF0F8"
             },
             "line": {
              "color": "white"
             }
            },
            "header": {
             "fill": {
              "color": "#C8D4E3"
             },
             "line": {
              "color": "white"
             }
            },
            "type": "table"
           }
          ]
         },
         "layout": {
          "annotationdefaults": {
           "arrowcolor": "#2a3f5f",
           "arrowhead": 0,
           "arrowwidth": 1
          },
          "autotypenumbers": "strict",
          "coloraxis": {
           "colorbar": {
            "outlinewidth": 0,
            "ticks": ""
           }
          },
          "colorscale": {
           "diverging": [
            [
             0,
             "#8e0152"
            ],
            [
             0.1,
             "#c51b7d"
            ],
            [
             0.2,
             "#de77ae"
            ],
            [
             0.3,
             "#f1b6da"
            ],
            [
             0.4,
             "#fde0ef"
            ],
            [
             0.5,
             "#f7f7f7"
            ],
            [
             0.6,
             "#e6f5d0"
            ],
            [
             0.7,
             "#b8e186"
            ],
            [
             0.8,
             "#7fbc41"
            ],
            [
             0.9,
             "#4d9221"
            ],
            [
             1,
             "#276419"
            ]
           ],
           "sequential": [
            [
             0,
             "#0d0887"
            ],
            [
             0.1111111111111111,
             "#46039f"
            ],
            [
             0.2222222222222222,
             "#7201a8"
            ],
            [
             0.3333333333333333,
             "#9c179e"
            ],
            [
             0.4444444444444444,
             "#bd3786"
            ],
            [
             0.5555555555555556,
             "#d8576b"
            ],
            [
             0.6666666666666666,
             "#ed7953"
            ],
            [
             0.7777777777777778,
             "#fb9f3a"
            ],
            [
             0.8888888888888888,
             "#fdca26"
            ],
            [
             1,
             "#f0f921"
            ]
           ],
           "sequentialminus": [
            [
             0,
             "#0d0887"
            ],
            [
             0.1111111111111111,
             "#46039f"
            ],
            [
             0.2222222222222222,
             "#7201a8"
            ],
            [
             0.3333333333333333,
             "#9c179e"
            ],
            [
             0.4444444444444444,
             "#bd3786"
            ],
            [
             0.5555555555555556,
             "#d8576b"
            ],
            [
             0.6666666666666666,
             "#ed7953"
            ],
            [
             0.7777777777777778,
             "#fb9f3a"
            ],
            [
             0.8888888888888888,
             "#fdca26"
            ],
            [
             1,
             "#f0f921"
            ]
           ]
          },
          "colorway": [
           "#636efa",
           "#EF553B",
           "#00cc96",
           "#ab63fa",
           "#FFA15A",
           "#19d3f3",
           "#FF6692",
           "#B6E880",
           "#FF97FF",
           "#FECB52"
          ],
          "font": {
           "color": "#2a3f5f"
          },
          "geo": {
           "bgcolor": "white",
           "lakecolor": "white",
           "landcolor": "#E5ECF6",
           "showlakes": true,
           "showland": true,
           "subunitcolor": "white"
          },
          "hoverlabel": {
           "align": "left"
          },
          "hovermode": "closest",
          "mapbox": {
           "style": "light"
          },
          "paper_bgcolor": "white",
          "plot_bgcolor": "#E5ECF6",
          "polar": {
           "angularaxis": {
            "gridcolor": "white",
            "linecolor": "white",
            "ticks": ""
           },
           "bgcolor": "#E5ECF6",
           "radialaxis": {
            "gridcolor": "white",
            "linecolor": "white",
            "ticks": ""
           }
          },
          "scene": {
           "xaxis": {
            "backgroundcolor": "#E5ECF6",
            "gridcolor": "white",
            "gridwidth": 2,
            "linecolor": "white",
            "showbackground": true,
            "ticks": "",
            "zerolinecolor": "white"
           },
           "yaxis": {
            "backgroundcolor": "#E5ECF6",
            "gridcolor": "white",
            "gridwidth": 2,
            "linecolor": "white",
            "showbackground": true,
            "ticks": "",
            "zerolinecolor": "white"
           },
           "zaxis": {
            "backgroundcolor": "#E5ECF6",
            "gridcolor": "white",
            "gridwidth": 2,
            "linecolor": "white",
            "showbackground": true,
            "ticks": "",
            "zerolinecolor": "white"
           }
          },
          "shapedefaults": {
           "line": {
            "color": "#2a3f5f"
           }
          },
          "ternary": {
           "aaxis": {
            "gridcolor": "white",
            "linecolor": "white",
            "ticks": ""
           },
           "baxis": {
            "gridcolor": "white",
            "linecolor": "white",
            "ticks": ""
           },
           "bgcolor": "#E5ECF6",
           "caxis": {
            "gridcolor": "white",
            "linecolor": "white",
            "ticks": ""
           }
          },
          "title": {
           "x": 0.05
          },
          "xaxis": {
           "automargin": true,
           "gridcolor": "white",
           "linecolor": "white",
           "ticks": "",
           "title": {
            "standoff": 15
           },
           "zerolinecolor": "white",
           "zerolinewidth": 2
          },
          "yaxis": {
           "automargin": true,
           "gridcolor": "white",
           "linecolor": "white",
           "ticks": "",
           "title": {
            "standoff": 15
           },
           "zerolinecolor": "white",
           "zerolinewidth": 2
          }
         }
        },
        "xaxis": {
         "anchor": "y",
         "domain": [
          0,
          0.49
         ]
        },
        "xaxis2": {
         "anchor": "y2",
         "domain": [
          0.51,
          1
         ],
         "matches": "x"
        },
        "yaxis": {
         "anchor": "x",
         "domain": [
          0,
          1
         ]
        },
        "yaxis2": {
         "anchor": "x2",
         "domain": [
          0,
          1
         ],
         "matches": "y",
         "showticklabels": false
        }
       }
      }
     },
     "metadata": {},
     "output_type": "display_data"
    }
   ],
   "source": [
    "pad_width = (\n",
    "    (0, 0), # We don't want to pad along the \"sample dimension\" as this would add samples to the batch\n",
    "    (multi_channels_kernels.shape[1] - 1, multi_channels_kernels.shape[1] - 1), # pad along the x axis\n",
    "    (multi_channels_kernels.shape[2] - 1, multi_channels_kernels.shape[2] - 1), # pad along the y axis\n",
    "    (0, 0), # Don't pad along the \n",
    ")\n",
    "padded_inputs = np.pad(inputs, pad_width, mode=\"constant\")\n",
    "display(padded_inputs.shape)\n",
    "px.imshow(padded_inputs, facet_col=0)"
   ]
  },
  {
   "cell_type": "code",
   "execution_count": 50,
   "metadata": {},
   "outputs": [
    {
     "data": {
      "text/plain": [
       "(2, 40, 40, 3)"
      ]
     },
     "execution_count": 50,
     "metadata": {},
     "output_type": "execute_result"
    }
   ],
   "source": [
    "padded_inputs.shape"
   ]
  },
  {
   "cell_type": "code",
   "execution_count": 51,
   "metadata": {},
   "outputs": [],
   "source": [
    "def compute_correlation_inidces(input_shape:np.ndarray, kernel_shape:np.ndarray) -> np.ndarray:\n",
    "    window_idx = np.arange(kernel_shape[2])\n",
    "    window_idx = np.tile(window_idx, kernel_shape[1])\n",
    "    window_idx += np.repeat(np.arange(kernel_shape[1]) * input_shape[2], kernel_shape[2])\n",
    "    window_idx = np.tile(window_idx, kernel_shape[0])\n",
    "    window_idx += np.repeat(np.arange(kernel_shape[0]) * input_shape[1] * input_shape[2], kernel_shape[1] * kernel_shape[2])\n",
    "\n",
    "    nb_x_correlations = 1 + input_shape[0] - kernel_shape[0]\n",
    "    nb_y_correlations = 1 + input_shape[1] - kernel_shape[1]\n",
    "    total_nb_correlations = nb_x_correlations * nb_y_correlations\n",
    "\n",
    "    x_offset_multiplicator = input_shape[2]\n",
    "    y_offset_multiplicator = input_shape[2] * input_shape[1]\n",
    "    x_offsets = np.tile(np.arange(nb_x_correlations) * x_offset_multiplicator, nb_y_correlations).reshape(-1, 1)\n",
    "    y_offsets = np.repeat(np.arange(nb_y_correlations) * y_offset_multiplicator, nb_y_correlations).reshape(-1, 1)\n",
    "    correlation_indieces = np.tile(window_idx, (total_nb_correlations, 1)) + x_offsets + y_offsets\n",
    "\n",
    "    return nb_x_correlations, nb_y_correlations, correlation_indieces\n",
    "\n",
    "nb_x_correlations, nb_y_correlations, convolution_indices = compute_correlation_inidces(padded_inputs.shape[1:], transposed_kernels.shape[1:])"
   ]
  },
  {
   "cell_type": "code",
   "execution_count": 52,
   "metadata": {},
   "outputs": [
    {
     "data": {
      "text/plain": [
       "(2, 5, 5, 3)"
      ]
     },
     "execution_count": 52,
     "metadata": {},
     "output_type": "execute_result"
    }
   ],
   "source": [
    "flatten_padded_inputs = padded_inputs.reshape(2, -1)\n",
    "padded_inputs_views = flatten_padded_inputs[:, convolution_indices]"
   ]
  },
  {
   "cell_type": "code",
   "execution_count": 63,
   "metadata": {},
   "outputs": [
    {
     "data": {
      "application/vnd.plotly.v1+json": {
       "config": {
        "plotlyServerURL": "https://plot.ly"
       },
       "data": [
        {
         "hovertemplate": "x: %{x}<br>y: %{y}<br>color: %{z}<extra></extra>",
         "name": "0",
         "source": "data:image/png;base64,iVBORw0KGgoAAAANSUhEUgAAAAUAAAAFCAIAAAACDbGyAAAAI0lEQVR4XmNgQAJGCqJMyHxRAQ4UvpQoNwpfiJcThS8mJAwAMCcBOoZjc+4AAAAASUVORK5CYII=",
         "type": "image",
         "xaxis": "x37",
         "yaxis": "y37"
        },
        {
         "hovertemplate": "x: %{x}<br>y: %{y}<br>color: %{z}<extra></extra>",
         "name": "1",
         "source": "data:image/png;base64,iVBORw0KGgoAAAANSUhEUgAAAAUAAAAFCAIAAAACDbGyAAAAM0lEQVR4XmNkgAEjBVFOhm8scL6oAAcvKzOCLyXKzcf2hwnOF+Ll5GD8i+CLCQlzsnEAAK63BIDXrE+iAAAAAElFTkSuQmCC",
         "type": "image",
         "xaxis": "x38",
         "yaxis": "y38"
        },
        {
         "hovertemplate": "x: %{x}<br>y: %{y}<br>color: %{z}<extra></extra>",
         "name": "2",
         "source": "data:image/png;base64,iVBORw0KGgoAAAANSUhEUgAAAAUAAAAFCAIAAAACDbGyAAAARUlEQVR4XmNkYGBgYGAwUhDlZPimrSjOAuGLCnDwsjJzcDBD+VKi3Hxsf3i42JggfCFeTg7Gv+ysLFC+mJAwJxsHEyMLAN5PBSlm1fXMAAAAAElFTkSuQmCC",
         "type": "image",
         "xaxis": "x39",
         "yaxis": "y39"
        },
        {
         "hovertemplate": "x: %{x}<br>y: %{y}<br>color: %{z}<extra></extra>",
         "name": "3",
         "source": "data:image/png;base64,iVBORw0KGgoAAAANSUhEUgAAAAUAAAAFCAIAAAACDbGyAAAAUUlEQVR4XgXBOw6AIBAFwLfLxwUFDQaNVlrbef9jGRo0OEMA7iM7lOtct2g0gDxJMEpEsWoawJ77aN/BW2qVAaTghL7OaB9GBrCk2Vlh0k+pP3WsC1/Uz+AcAAAAAElFTkSuQmCC",
         "type": "image",
         "xaxis": "x40",
         "yaxis": "y40"
        },
        {
         "hovertemplate": "x: %{x}<br>y: %{y}<br>color: %{z}<extra></extra>",
         "name": "4",
         "source": "data:image/png;base64,iVBORw0KGgoAAAANSUhEUgAAAAUAAAAFCAIAAAACDbGyAAAAVUlEQVR4XgXB0Q5AIBQA0G7dcm8Uy2I88ezN/3+Vmc0qOQfOLbJ4jn1evC5fwTiQ04pISVWZGdfYepM7a6AmIaoMjglKo9G6vgiUUxjZkAS8n3S9+QeakhNZgxpXCAAAAABJRU5ErkJggg==",
         "type": "image",
         "xaxis": "x41",
         "yaxis": "y41"
        },
        {
         "hovertemplate": "x: %{x}<br>y: %{y}<br>color: %{z}<extra></extra>",
         "name": "5",
         "source": "data:image/png;base64,iVBORw0KGgoAAAANSUhEUgAAAAUAAAAFCAIAAAACDbGyAAAAU0lEQVR4XgXBMQ6AIAwAwLYUpAo6qSEuOvsE//8jo4lQ8A6vfTiPNY1WqyoApzl6b8g0EclFaVtCDA4JABq2Sh61s9zHSYFzBRbnCfl+8vsVRvMDOp4W4yo/n1sAAAAASUVORK5CYII=",
         "type": "image",
         "xaxis": "x42",
         "yaxis": "y42"
        },
        {
         "hovertemplate": "x: %{x}<br>y: %{y}<br>color: %{z}<extra></extra>",
         "name": "6",
         "source": "data:image/png;base64,iVBORw0KGgoAAAANSUhEUgAAAAUAAAAFCAIAAAACDbGyAAAAUUlEQVR4XgXBSQ6AMAgAQKBUW2Ndjl79iZ/x/4mmRingDJ7Hvk1RTRXAkTmlQMFzztLUAKmMHRIAOLq99aI+8lBmBRaDZVmZkO8qz9cYQxX9ASL8HVIYcUoTAAAAAElFTkSuQmCC",
         "type": "image",
         "xaxis": "x43",
         "yaxis": "y43"
        },
        {
         "hovertemplate": "x: %{x}<br>y: %{y}<br>color: %{z}<extra></extra>",
         "name": "7",
         "source": "data:image/png;base64,iVBORw0KGgoAAAANSUhEUgAAAAUAAAAFCAIAAAACDbGyAAAAS0lEQVR4XgXB2w2AIBAEwD24H0yMWoXlWJJNGwjcY52R97kjIwCKLqeWytaaeSSEXCoFAIU5Ry8Q3fZjDrP087xI6tdtLFep3aIAP0OOKOYQB7c+AAAAAElFTkSuQmCC",
         "type": "image",
         "xaxis": "x44",
         "yaxis": "y44"
        },
        {
         "hovertemplate": "x: %{x}<br>y: %{y}<br>color: %{z}<extra></extra>",
         "name": "8",
         "source": "data:image/png;base64,iVBORw0KGgoAAAANSUhEUgAAAAUAAAAFCAIAAAACDbGyAAAATElEQVR4XgXByQ2AMAwEwHXwBwECRAu0Q0dUzSNRfGSZkfe5E6CoBftwXZfZIweENAsqQOHorRbIte2aUB9xHCdJy6JfD5Wpehaguf2ouCrkCryo+wAAAABJRU5ErkJggg==",
         "type": "image",
         "xaxis": "x45",
         "yaxis": "y45"
        },
        {
         "hovertemplate": "x: %{x}<br>y: %{y}<br>color: %{z}<extra></extra>",
         "name": "9",
         "source": "data:image/png;base64,iVBORw0KGgoAAAANSUhEUgAAAAUAAAAFCAIAAAACDbGyAAAATklEQVR4XgXBgQ2AIAwEQIqNEokRdQXXcSAXR2hL3zt6nxvEYuiuZ9l5XWYPBIgYhigTvH81Brq2PefE6qGUA4CMqNqi0VR1dPMqjVP6AXykKyoJfR+4AAAAAElFTkSuQmCC",
         "type": "image",
         "xaxis": "x46",
         "yaxis": "y46"
        },
        {
         "hovertemplate": "x: %{x}<br>y: %{y}<br>color: %{z}<extra></extra>",
         "name": "10",
         "source": "data:image/png;base64,iVBORw0KGgoAAAANSUhEUgAAAAUAAAAFCAIAAAACDbGyAAAAT0lEQVR4XgXBAQ6AIAgAwImszOmi+kSv6T39u80pCHQX3ufm6cPkpB0D4LZEd+bpymIuMNoHyletVHIwQaLD3VlBpOdSoImOaY07pqRx/QHoUixHfMujHQAAAABJRU5ErkJggg==",
         "type": "image",
         "xaxis": "x47",
         "yaxis": "y47"
        },
        {
         "hovertemplate": "x: %{x}<br>y: %{y}<br>color: %{z}<extra></extra>",
         "name": "11",
         "source": "data:image/png;base64,iVBORw0KGgoAAAANSUhEUgAAAAUAAAAFCAIAAAACDbGyAAAAVklEQVR4XgXByw2AIAwAUCkYCeEXHcJdHMeBPXkx6s0otFB8T6zLnJnGGJSA47xULxlLq0jcqFUEqDg5F60RTMF7iCEoCUTJWPt8HeTCLyaldZXDtt8/Kukm/DLS8zYAAAAASUVORK5CYII=",
         "type": "image",
         "xaxis": "x48",
         "yaxis": "y48"
        },
        {
         "hovertemplate": "x: %{x}<br>y: %{y}<br>color: %{z}<extra></extra>",
         "name": "12",
         "source": "data:image/png;base64,iVBORw0KGgoAAAANSUhEUgAAAAUAAAAFCAIAAAACDbGyAAAAWUlEQVR4XgXBWw5AMBAAwHa7QaSvcAOncRdnJj78iEdChKabds3Ioe8a71DCuu2gAGXmFCkzcYqMBbTGeF3LTM5awQpQAVGotX4+Mc4XvDFgVSVVTstx3ukHK4gkgj2Hj+8AAAAASUVORK5CYII=",
         "type": "image",
         "xaxis": "x49",
         "yaxis": "y49"
        },
        {
         "hovertemplate": "x: %{x}<br>y: %{y}<br>color: %{z}<extra></extra>",
         "name": "13",
         "source": "data:image/png;base64,iVBORw0KGgoAAAANSUhEUgAAAAUAAAAFCAIAAAACDbGyAAAAWUlEQVR4XgXBCQqAIBAAwFzFDsT8Sr/pMz21KCoouuiicNNthhV5JhiM0wwcjIqFs+gJyVkS8rQ3GJUwj6nWAfGm3wDxTZS6nqCs93b4QESR42HVLevhiMsfBWMo8TuZI0cAAAAASUVORK5CYII=",
         "type": "image",
         "xaxis": "x50",
         "yaxis": "y50"
        },
        {
         "hovertemplate": "x: %{x}<br>y: %{y}<br>color: %{z}<extra></extra>",
         "name": "14",
         "source": "data:image/png;base64,iVBORw0KGgoAAAANSUhEUgAAAAUAAAAFCAIAAAACDbGyAAAAV0lEQVR4XgXBDQpAMBQAYNt7WbRwF6dxHAelFEobxdD+nvk+1nftpjQH3siCAqG3dyKfMDf+IQJkX6irytgwLfp2gKWUq3LDdCoT35hxAjHO+3FRghwE/kJlLn8rqIf6AAAAAElFTkSuQmCC",
         "type": "image",
         "xaxis": "x51",
         "yaxis": "y51"
        },
        {
         "hovertemplate": "x: %{x}<br>y: %{y}<br>color: %{z}<extra></extra>",
         "name": "15",
         "source": "data:image/png;base64,iVBORw0KGgoAAAANSUhEUgAAAAUAAAAFCAIAAAACDbGyAAAAV0lEQVR4XgXBWwqAIBAAQHMXSQjrBl6m03TnAqG+ekBpVupqM9XQaw68ayRFst5joVBQ2HATgaeMrVL2jWbZ3AciM3QPG8252uQT0xJwmvfjooICgKuafgvPLKasPmzFAAAAAElFTkSuQmCC",
         "type": "image",
         "xaxis": "x52",
         "yaxis": "y52"
        },
        {
         "hovertemplate": "x: %{x}<br>y: %{y}<br>color: %{z}<extra></extra>",
         "name": "16",
         "source": "data:image/png;base64,iVBORw0KGgoAAAANSUhEUgAAAAUAAAAFCAIAAAACDbGyAAAAW0lEQVR4XgFQAK//AWxHIRAMCf37/fP29vb9+gT/Af7z+vX9/QP2/f78/f4EAP8D4eXs9PkDBv4AGwoEBN3g8evz/Pb8AB8JA1A9MATu8v3/BAYDAwIOCP0WBPOlbSvSEcCCvAAAAABJRU5ErkJggg==",
         "type": "image",
         "xaxis": "x53",
         "yaxis": "y53"
        },
        {
         "hovertemplate": "x: %{x}<br>y: %{y}<br>color: %{z}<extra></extra>",
         "name": "17",
         "source": "data:image/png;base64,iVBORw0KGgoAAAANSUhEUgAAAAUAAAAFCAIAAAACDbGyAAAAW0lEQVR4XgFQAK//AXxTKv37/fP29vb9+gwJDgTz+vX9/QP2/f78/f7z9fsE4eXv9PkDBv4AGwoEBAX3BOPo/Pb8AB8JA1A9MBwZDAT/AwYDAwIOCP0WBPMI7vmqgClspHWVDwAAAABJRU5ErkJggg==",
         "type": "image",
         "xaxis": "x54",
         "yaxis": "y54"
        },
        {
         "hovertemplate": "x: %{x}<br>y: %{y}<br>color: %{z}<extra></extra>",
         "name": "18",
         "source": "data:image/png;base64,iVBORw0KGgoAAAANSUhEUgAAAAUAAAAFCAIAAAACDbGyAAAAW0lEQVR4XgFQAK//AXlOJ/P29vb9+gwJDgcGDATz/Pv2/f78/f7z9fvl7vUE2OHvBv4AGwoEBAX34O3wBOXr/R8JA1A9MBwZDKzN3gQDBwQOCP0WBPMI7vklDhgV/SfMBOHoIQAAAABJRU5ErkJggg==",
         "type": "image",
         "xaxis": "x55",
         "yaxis": "y55"
        },
        {
         "hovertemplate": "x: %{x}<br>y: %{y}<br>color: %{z}<extra></extra>",
         "name": "19",
         "source": "data:image/png;base64,iVBORw0KGgoAAAANSUhEUgAAAAUAAAAFCAIAAAACDbGyAAAAW0lEQVR4XgFQAK//AWxEHfb9+gwJDgcGDAMA+AT2/f78/f7z9fvl7vUFAv4E6Oj2GwoEBAX34O3w+f8DBP72AFA9MBwZDKzN3sfc6AQOCP4WBPMI7vklDhjnEgJxcCdsmZrIKwAAAABJRU5ErkJggg==",
         "type": "image",
         "xaxis": "x56",
         "yaxis": "y56"
        },
        {
         "hovertemplate": "x: %{x}<br>y: %{y}<br>color: %{z}<extra></extra>",
         "name": "20",
         "source": "data:image/png;base64,iVBORw0KGgoAAAANSUhEUgAAAAUAAAAFCAIAAAACDbGyAAAAW0lEQVR4XgFQAK//AWJBFwwJDgcGDAMA+A4NCQT8/f7z9fvl7vUFAv4O9AEEB/UABAX34O3w+f8DBQH/BFAzMBwZDKzN3sfc6Pz++gQWBPMI7vklDhjnEgLp8OoeLiRZp2B/fwAAAABJRU5ErkJggg==",
         "type": "image",
         "xaxis": "x57",
         "yaxis": "y57"
        },
        {
         "hovertemplate": "x: %{x}<br>y: %{y}<br>color: %{z}<extra></extra>",
         "name": "21",
         "source": "data:image/png;base64,iVBORw0KGgoAAAANSUhEUgAAAAUAAAAFCAIAAAACDbGyAAAAW0lEQVR4XgFQAK//AW5KJQcGDAMA+A4NCQYNEATz9fvl7vUFAv4O9AH76OwECPn34O3w+f8DBQH/Dw4NAmhHOjwnHwoEBAEB/wQC/wII7u0lDhggEhoNBAr59vq3XR2oid7YbgAAAABJRU5ErkJggg==",
         "type": "image",
         "xaxis": "x58",
         "yaxis": "y58"
        },
        {
         "hovertemplate": "x: %{x}<br>y: %{y}<br>color: %{z}<extra></extra>",
         "name": "22",
         "source": "data:image/png;base64,iVBORw0KGgoAAAANSUhEUgAAAAUAAAAFCAIAAAACDbGyAAAAW0lEQVR4XgFQAK//AXVQMQMA+A4NCQYNEPf1+ATe6PUFAv4O9AH76Oz38fYE7u3q+f8DBQH/Dw4NOio0AjwnHwoEBAEB/wQC//Pw6wIlDhggEhoNBAr59vrP2tpNSiGnrvBXFQAAAABJRU5ErkJggg==",
         "type": "image",
         "xaxis": "x59",
         "yaxis": "y59"
        },
        {
         "hovertemplate": "x: %{x}<br>y: %{y}<br>color: %{z}<extra></extra>",
         "name": "23",
         "source": "data:image/png;base64,iVBORw0KGgoAAAANSUhEUgAAAAUAAAAFCAIAAAACDbGyAAAAW0lEQVR4XgFQAK//AXhQKQ4NCQYNEPf1+AoDCATg6vsO9AH76Oz38fYeFCQE4urvBQH/Dw4NOio08uf9BAoEBPz++gQC//Pw6/b0+QFkOjHp8Or+Af3//AAC/P6g5Cik0hi+ZgAAAABJRU5ErkJggg==",
         "type": "image",
         "xaxis": "x60",
         "yaxis": "y60"
        },
        {
         "hovertemplate": "x: %{x}<br>y: %{y}<br>color: %{z}<extra></extra>",
         "name": "24",
         "source": "data:image/png;base64,iVBORw0KGgoAAAANSUhEUgAAAAUAAAAFCAIAAAACDbGyAAAAW0lEQVR4XgFQAK//AYZdMgYNEPf1+AoDCPr68QTg5/j76Oz38fYeFCQWFhwC2eHo7e7xMCcvBPoI//YABAEB/wQC//Pw6/b0+Q0NBQQNBAr59vrP2toC/P77Cw5yQSmMyKEVyAAAAABJRU5ErkJggg==",
         "type": "image",
         "xaxis": "x61",
         "yaxis": "y61"
        },
        {
         "hovertemplate": "x: %{x}<br>y: %{y}<br>color: %{z}<extra></extra>",
         "name": "25",
         "source": "data:image/png;base64,iVBORw0KGgoAAAANSUhEUgAAAAUAAAAFCAIAAAACDbGyAAAAW0lEQVR4XgFQAK//AYxqQvf1+AoDCPr68fj4+gTV2+z38fYeFCQWFhwBDfEC7e7xMCcvBPoI//YADwkFBAQC//Pw6/b0+Q0NBQD9AQT59vrP2toC/P77Cw4ADxeQzygG5uMYOwAAAABJRU5ErkJggg==",
         "type": "image",
         "xaxis": "x62",
         "yaxis": "y62"
        },
        {
         "hovertemplate": "x: %{x}<br>y: %{y}<br>color: %{z}<extra></extra>",
         "name": "26",
         "source": "data:image/png;base64,iVBORw0KGgoAAAANSUhEUgAAAAUAAAAFCAIAAAACDbGyAAAAW0lEQVR4XgFQAK//AYNfOgoDCPr68fj4+vr7/ALV1+rp6AYFBBwJDRP/AQQCMCcvBPoI//YADwkFCQcEBPPw6/b0+Q0NBQD9AQgIBQTP2toC/P77Cw4ADxcAAgSk3SASYAUn8gAAAABJRU5ErkJggg==",
         "type": "image",
         "xaxis": "x63",
         "yaxis": "y63"
        },
        {
         "hovertemplate": "x: %{x}<br>y: %{y}<br>color: %{z}<extra></extra>",
         "name": "27",
         "source": "data:image/png;base64,iVBORw0KGgoAAAANSUhEUgAAAAUAAAAFCAIAAAACDbGyAAAAWUlEQVR4XgXBQQ5AMBAAwG3tsiXVg4OL13iK//ihxBFxklTTbFEzap5GkStGkfR8kPWxl4SDsV1W6G/RKJwDOEOmQgUag9+sJXgVM5Vc4HKuqWnB9aDRufoH1mIdWWhJzTAAAAAASUVORK5CYII=",
         "type": "image",
         "xaxis": "x64",
         "yaxis": "y64"
        },
        {
         "hovertemplate": "x: %{x}<br>y: %{y}<br>color: %{z}<extra></extra>",
         "name": "28",
         "source": "data:image/png;base64,iVBORw0KGgoAAAANSUhEUgAAAAUAAAAFCAIAAAACDbGyAAAAWElEQVR4XgXBOw6AIAwA0BZbBRLC4ODiLbyO9/GiDi4mftA0gOB7uMyTSIwpF6hHEMU0GtdXpPDE8xZVX/CGTUcIqmOmnHb4UGtudWORab028AMo8t66Un/HtR5XdUZYoQAAAABJRU5ErkJggg==",
         "type": "image",
         "xaxis": "x65",
         "yaxis": "y65"
        },
        {
         "hovertemplate": "x: %{x}<br>y: %{y}<br>color: %{z}<extra></extra>",
         "name": "29",
         "source": "data:image/png;base64,iVBORw0KGgoAAAANSUhEUgAAAAUAAAAFCAIAAAACDbGyAAAAV0lEQVR4XgXBWwqAIBAAQNd28wHiRxD9dIRu0326cISRxaamzcC2LimXKlqIHJ4sjRsaYLzTefF+ROkNGYUgpCKapxHFx1pTrzsLVL6C4a1CovfW1cYp/w7pIy803cdgAAAAAElFTkSuQmCC",
         "type": "image",
         "xaxis": "x66",
         "yaxis": "y66"
        },
        {
         "hovertemplate": "x: %{x}<br>y: %{y}<br>color: %{z}<extra></extra>",
         "name": "30",
         "source": "data:image/png;base64,iVBORw0KGgoAAAANSUhEUgAAAAUAAAAFCAIAAAACDbGyAAAAWUlEQVR4XgXB0Q5AIBQAUOWm2Ky3mC3vvsb3+FubVw/FlUa6zmHLPOWCHEYXXgwJiAHi5c+4+3vdPNQSELkUwvatMR0oJSpVNkykL412gMxB66bNFJ+XnuMHxq0nCkE/ylsAAAAASUVORK5CYII=",
         "type": "image",
         "xaxis": "x67",
         "yaxis": "y67"
        },
        {
         "hovertemplate": "x: %{x}<br>y: %{y}<br>color: %{z}<extra></extra>",
         "name": "31",
         "source": "data:image/png;base64,iVBORw0KGgoAAAANSUhEUgAAAAUAAAAFCAIAAAACDbGyAAAAW0lEQVR4XgFQAK//AXdPKPD0+PD2+/T2/Pj7AgT09frx8/js8ffg4/H9AwQEAQACBwUFHRgNFhYX6fL4BAYIAwoBBfz9/B4dGg3u8wQPDwoN/v/4+vv/+vIgFQsiQCjy+DXqKwAAAABJRU5ErkJggg==",
         "type": "image",
         "xaxis": "x68",
         "yaxis": "y68"
        },
        {
         "hovertemplate": "x: %{x}<br>y: %{y}<br>color: %{z}<extra></extra>",
         "name": "32",
         "source": "data:image/png;base64,iVBORw0KGgoAAAANSUhEUgAAAAUAAAAFCAIAAAACDbGyAAAAW0lEQVR4XgFQAK//AWdDIPD2+/T2/Pj7Ar3W5wTx8/js8ffg4/H9AwQAAAAEBwUFHRgNFhYX6fL44NHiAgoKBQUD/CUfFSQbEAAAAAQWFA74+vv/+vIgFQsAAAB8CiKJ1Z8utgAAAABJRU5ErkJggg==",
         "type": "image",
         "xaxis": "x69",
         "yaxis": "y69"
        },
        {
         "hovertemplate": "x: %{x}<br>y: %{y}<br>color: %{z}<extra></extra>",
         "name": "33",
         "source": "data:image/png;base64,iVBORw0KGgoAAAANSUhEUgAAAAUAAAAFCAIAAAACDbGyAAAAUklEQVR4XmMMt5T+8u3Pj99Me689Z2BgYHnz7suDxx//MrMwMDAwMDCwyEqIiYmJv/z048HFRwwMDEyszH9U5UVVpAUg8kxCglz/f31SEOWC8AEMehmLTd/RywAAAABJRU5ErkJggg==",
         "type": "image",
         "xaxis": "x70",
         "yaxis": "y70"
        },
        {
         "hovertemplate": "x: %{x}<br>y: %{y}<br>color: %{z}<extra></extra>",
         "name": "34",
         "source": "data:image/png;base64,iVBORw0KGgoAAAANSUhEUgAAAAUAAAAFCAIAAAACDbGyAAAAMklEQVR4XmPw1hd31pJkgANlLgYFXhY4l8nMWE1JSQrBV5UXVZEWQPD///qkIMoF5wMA03sGO4RAeY8AAAAASUVORK5CYII=",
         "type": "image",
         "xaxis": "x71",
         "yaxis": "y71"
        },
        {
         "hovertemplate": "x: %{x}<br>y: %{y}<br>color: %{z}<extra></extra>",
         "name": "35",
         "source": "data:image/png;base64,iVBORw0KGgoAAAANSUhEUgAAAAUAAAAFCAIAAAACDbGyAAAAI0lEQVR4XmNw1pJkQAYKvCzIXCYlJSkUvoq0AApfQZQLmQ8AU9IBqpWnerEAAAAASUVORK5CYII=",
         "type": "image",
         "xaxis": "x72",
         "yaxis": "y72"
        },
        {
         "hovertemplate": "x: %{x}<br>y: %{y}<br>color: %{z}<extra></extra>",
         "name": "36",
         "source": "data:image/png;base64,iVBORw0KGgoAAAANSUhEUgAAAAUAAAAFCAIAAAACDbGyAAAAI0lEQVR4XmNgQALuBrJMyHwpUW4UvhAvJwpfTEgYhS8oIgoAPTcBdCxP4oMAAAAASUVORK5CYII=",
         "type": "image",
         "xaxis": "x",
         "yaxis": "y"
        },
        {
         "hovertemplate": "x: %{x}<br>y: %{y}<br>color: %{z}<extra></extra>",
         "name": "37",
         "source": "data:image/png;base64,iVBORw0KGgoAAAANSUhEUgAAAAUAAAAFCAIAAAACDbGyAAAAM0lEQVR4XmNkgAF3A1le1t8scL6UKDcf2x8mOF+Il5OD8S+CLyYkzMnGgVAvKCIqyMMJAN7QBNleHSG4AAAAAElFTkSuQmCC",
         "type": "image",
         "xaxis": "x2",
         "yaxis": "y2"
        },
        {
         "hovertemplate": "x: %{x}<br>y: %{y}<br>color: %{z}<extra></extra>",
         "name": "38",
         "source": "data:image/png;base64,iVBORw0KGgoAAAANSUhEUgAAAAUAAAAFCAIAAAACDbGyAAAARUlEQVR4XmNkYGBgYGBwN5DlZf0tJcLLAuFLiXLzsf3h4WJjgvCFeDk5GP+ys7JA+WJCwpxsHEyMLFD1giKigjycTEysAASvBVBm7ayCAAAAAElFTkSuQmCC",
         "type": "image",
         "xaxis": "x3",
         "yaxis": "y3"
        },
        {
         "hovertemplate": "x: %{x}<br>y: %{y}<br>color: %{z}<extra></extra>",
         "name": "39",
         "source": "data:image/png;base64,iVBORw0KGgoAAAANSUhEUgAAAAUAAAAFCAIAAAACDbGyAAAAU0lEQVR4XgXBWw5AMBAF0DuTaWm1pC8fTezBLux/JUTETwnnEIBtXbxqNftkSADUMoz6cVbT1xhA9Kant1Ni/cQA5piM7pnkupsACLkEZ5jVce4/vMoNRPk8WVEAAAAASUVORK5CYII=",
         "type": "image",
         "xaxis": "x4",
         "yaxis": "y4"
        },
        {
         "hovertemplate": "x: %{x}<br>y: %{y}<br>color: %{z}<extra></extra>",
         "name": "40",
         "source": "data:image/png;base64,iVBORw0KGgoAAAANSUhEUgAAAAUAAAAFCAIAAAACDbGyAAAAVklEQVR4XgXB0QmAIBAAUO84Ty0tLOtDaIe2aP9JCrEgTOw9OPbNyRKDmw0oVhSXfuDPdgytCNFwckZDVZI6N1ZBuE6zYY1A+Snp/ciHxVuDKK90ljv/d5AVI98sUGcAAAAASUVORK5CYII=",
         "type": "image",
         "xaxis": "x5",
         "yaxis": "y5"
        },
        {
         "hovertemplate": "x: %{x}<br>y: %{y}<br>color: %{z}<extra></extra>",
         "name": "41",
         "source": "data:image/png;base64,iVBORw0KGgoAAAANSUhEUgAAAAUAAAAFCAIAAAACDbGyAAAAV0lEQVR4XgXBbQ5AMAwA0LZqQ7b4QUQm8csV3MT9r0DER6Lr5j3c1jH0vqvRGitRaRqcdwYJADLmRBWqLbnxrQJLAq5NRcjXI+8XGQsO80JUHucu90WqPxfJGa8scjNKAAAAAElFTkSuQmCC",
         "type": "image",
         "xaxis": "x6",
         "yaxis": "y6"
        },
        {
         "hovertemplate": "x: %{x}<br>y: %{y}<br>color: %{z}<extra></extra>",
         "name": "42",
         "source": "data:image/png;base64,iVBORw0KGgoAAAANSUhEUgAAAAUAAAAFCAIAAAACDbGyAAAAUklEQVR4XgXBMQ6AIAwAwLZWEAMR4qCbk4/xM35eg9FC8Q7PY58dWmOlVAWk4A0SADRs+uaLbM9jmCqwKMSYmJDvLM9XGLssldZl8yHx4IitIv/xUxjatfJ4SAAAAABJRU5ErkJggg==",
         "type": "image",
         "xaxis": "x7",
         "yaxis": "y7"
        },
        {
         "hovertemplate": "x: %{x}<br>y: %{y}<br>color: %{z}<extra></extra>",
         "name": "43",
         "source": "data:image/png;base64,iVBORw0KGgoAAAANSUhEUgAAAAUAAAAFCAIAAAACDbGyAAAATUlEQVR4XgXBAQ6AIAgAQCDKreWyT/SgftSfDacIdIfvc6ct6TQHlD4YCQACw3sTAuQ9n72p+izligiuom1MxkXUCICPfOlXyczBY+Uf/JAn8JI5Kw0AAAAASUVORK5CYII=",
         "type": "image",
         "xaxis": "x8",
         "yaxis": "y8"
        },
        {
         "hovertemplate": "x: %{x}<br>y: %{y}<br>color: %{z}<extra></extra>",
         "name": "44",
         "source": "data:image/png;base64,iVBORw0KGgoAAAANSUhEUgAAAAUAAAAFCAIAAAACDbGyAAAATklEQVR4XgXBiQmAMAwAwCRGUKhYcQ73cSTnFWxJ83mHz32peQA2GZ8YAyRmSG8EeG47O7CG1Xpk5nDiV4xxauoE0HUwLyu5B0TOXMryA8pAKBeiR9wkAAAAAElFTkSuQmCC",
         "type": "image",
         "xaxis": "x9",
         "yaxis": "y9"
        },
        {
         "hovertemplate": "x: %{x}<br>y: %{y}<br>color: %{z}<extra></extra>",
         "name": "45",
         "source": "data:image/png;base64,iVBORw0KGgoAAAANSUhEUgAAAAUAAAAFCAIAAAACDbGyAAAATklEQVR4XgXBAQ6AIAgAQDBabFrZ+kXv6Ue9OVJR6A6f+zJAqe2tfUuR0K1+EgDPdY+RSQ1yPty9jaBaQsdJdNRu0goxU6DFwHymlFiBfxcnJVtBEgl7AAAAAElFTkSuQmCC",
         "type": "image",
         "xaxis": "x10",
         "yaxis": "y10"
        },
        {
         "hovertemplate": "x: %{x}<br>y: %{y}<br>color: %{z}<extra></extra>",
         "name": "46",
         "source": "data:image/png;base64,iVBORw0KGgoAAAANSUhEUgAAAAUAAAAFCAIAAAACDbGyAAAAVElEQVR4XgXBUQ5AMAwAUJuKZTqZOIbruJBTSny4hFjWVlfvuWPfCvFL34yTM/FUHq+8ppQxuiaQ82JmrF6kRkRfROlrhSuEoP0IzYENgBikC+d9/ZaTKAGENK34AAAAAElFTkSuQmCC",
         "type": "image",
         "xaxis": "x11",
         "yaxis": "y11"
        },
        {
         "hovertemplate": "x: %{x}<br>y: %{y}<br>color: %{z}<extra></extra>",
         "name": "47",
         "source": "data:image/png;base64,iVBORw0KGgoAAAANSUhEUgAAAAUAAAAFCAIAAAACDbGyAAAAWUlEQVR4XgXBQQ5AMBAAQN02bGq1Em/wHO/xVImDkysRUdpuixkxDr0LyVAtPt6PEyDHrmla0uJlawy01ioJzF4TXU8BIb139Aoxy2pZN5VLJEIucFpmF9wPTkAjt4lqDnkAAAAASUVORK5CYII=",
         "type": "image",
         "xaxis": "x12",
         "yaxis": "y12"
        },
        {
         "hovertemplate": "x: %{x}<br>y: %{y}<br>color: %{z}<extra></extra>",
         "name": "48",
         "source": "data:image/png;base64,iVBORw0KGgoAAAANSUhEUgAAAAUAAAAFCAIAAAACDbGyAAAAW0lEQVR4XgFQAK//AWxGIQ4MCwH/++7w8gIHBgITDQ0QDAoB/vsPDg4A/wMCBAMC+/v4CgwM9PcA3eDxAvb6+AQICP0DB97k7e7y/QIMERT7AA7X3un1+fUICACWtiFiISWdGAAAAABJRU5ErkJggg==",
         "type": "image",
         "xaxis": "x13",
         "yaxis": "y13"
        },
        {
         "hovertemplate": "x: %{x}<br>y: %{y}<br>color: %{z}<extra></extra>",
         "name": "49",
         "source": "data:image/png;base64,iVBORw0KGgoAAAANSUhEUgAAAAUAAAAFCAIAAAACDbGyAAAAW0lEQVR4XgFQAK//AXpSLAH/++7w8gIHBgQFAAIQDAoB/vsPDg4A/wPh5e8C+/v4CgwM9PcA3eDx4+j8AgQICP0DB97k7e7y/f8DBgL7AA7X3un1+fUICAAUCgSD2yTCZxp0KgAAAABJRU5ErkJggg==",
         "type": "image",
         "xaxis": "x14",
         "yaxis": "y14"
        },
        {
         "hovertemplate": "x: %{x}<br>y: %{y}<br>color: %{z}<extra></extra>",
         "name": "50",
         "source": "data:image/png;base64,iVBORw0KGgoAAAANSUhEUgAAAAUAAAAFCAIAAAACDbGyAAAAW0lEQVR4XgFQAK//AXtRJ+7w8gIHBgQFAP39AwQB/vsPDg7z+Pvh5ez0+QMECgwM5uv53eHx6/P89vwAAv0DB97k7e7y/f8DBgMHBATX3un1+fUICAcIBgQJCwphnSdtZ5xflwAAAABJRU5ErkJggg==",
         "type": "image",
         "xaxis": "x15",
         "yaxis": "y15"
        },
        {
         "hovertemplate": "x: %{x}<br>y: %{y}<br>color: %{z}<extra></extra>",
         "name": "51",
         "source": "data:image/png;base64,iVBORw0KGgoAAAANSUhEUgAAAAUAAAAFCAIAAAACDbGyAAAAWUlEQVR4XgXBSQ5AMBQA0PK/DiQVSytncRyHJmnCypDQSaPFe9nQtzmjWJCUwPmAtZT6ftSymQD0JWg8GdW56ugi6QTgNO/HlT6kALnkCW2wnDNOUVRlA/EH+dkkAv6G6lAAAAAASUVORK5CYII=",
         "type": "image",
         "xaxis": "x16",
         "yaxis": "y16"
        },
        {
         "hovertemplate": "x: %{x}<br>y: %{y}<br>color: %{z}<extra></extra>",
         "name": "52",
         "source": "data:image/png;base64,iVBORw0KGgoAAAANSUhEUgAAAAUAAAAFCAIAAAACDbGyAAAAW0lEQVR4XgFQAK//AWtIHwQFAP39A/b3+fz9+gQA/wPh5ez0+QMG/gAbCgQE3eDx6/P89vwAHwkDUD0wBO7y/f8EBgMDAg4I/RYE8wQICAAIBgQJCwoRA/zN3On1RiHmkgKfxgAAAABJRU5ErkJggg==",
         "type": "image",
         "xaxis": "x17",
         "yaxis": "y17"
        },
        {
         "hovertemplate": "x: %{x}<br>y: %{y}<br>color: %{z}<extra></extra>",
         "name": "53",
         "source": "data:image/png;base64,iVBORw0KGgoAAAANSUhEUgAAAAUAAAAFCAIAAAACDbGyAAAAW0lEQVR4XgFQAK//AW9NH/39A/b3+fz9+gMBCwTh5e/0+QMG/gAbCgQEBfcE4+j89vwAHwkDUD0wHBkMBP8DBgMDAg4I/RYE8wju+QQUCgQJCwoRA/zN3On8+gSWfiCBE09zuQAAAABJRU5ErkJggg==",
         "type": "image",
         "xaxis": "x18",
         "yaxis": "y18"
        },
        {
         "hovertemplate": "x: %{x}<br>y: %{y}<br>color: %{z}<extra></extra>",
         "name": "54",
         "source": "data:image/png;base64,iVBORw0KGgoAAAANSUhEUgAAAAUAAAAFCAIAAAACDbGyAAAAW0lEQVR4XgFQAK//AWxKIvb3+fz9+gMBC/L5BgTY4e8G/gAbCgQEBffg7fAE5ev9HwkDUD0wHBkMrM3eBAMHBA4I/RYE8wju+SUOGAQjFQwRA/zN3On8+gT5DxixbCIKi4zmTwAAAABJRU5ErkJggg==",
         "type": "image",
         "xaxis": "x19",
         "yaxis": "y19"
        },
        {
         "hovertemplate": "x: %{x}<br>y: %{y}<br>color: %{z}<extra></extra>",
         "name": "55",
         "source": "data:image/png;base64,iVBORw0KGgoAAAANSUhEUgAAAAUAAAAFCAIAAAACDbGyAAAAW0lEQVR4XgFQAK//AWJBG/z9+gMBC/L5BgUC/gTo6PYbCgQEBffg7fD5/wME/vYAUD0wHBkMrM3ex9zoBA4I/hYE8wju+SUOGOcSAgQRDgvN3On8+gT5DxgVEQiypiKdPp3XRAAAAABJRU5ErkJggg==",
         "type": "image",
         "xaxis": "x20",
         "yaxis": "y20"
        },
        {
         "hovertemplate": "x: %{x}<br>y: %{y}<br>color: %{z}<extra></extra>",
         "name": "56",
         "source": "data:image/png;base64,iVBORw0KGgoAAAANSUhEUgAAAAUAAAAFCAIAAAACDbGyAAAAW0lEQVR4XgFQAK//AV4+FQMBC/L5BgUC/g4KBgQH9QAEBffg7fD5/wMFAf8EUDMwHBkMrM3ex9zo/P76BBYE8wju+SUOGOcSAunw6gTN3On8+gT5DxgVEQgBAA700iFX0PovGQAAAABJRU5ErkJggg==",
         "type": "image",
         "xaxis": "x21",
         "yaxis": "y21"
        },
        {
         "hovertemplate": "x: %{x}<br>y: %{y}<br>color: %{z}<extra></extra>",
         "name": "57",
         "source": "data:image/png;base64,iVBORw0KGgoAAAANSUhEUgAAAAUAAAAFCAIAAAACDbGyAAAAW0lEQVR4XgFQAK//AWE/IPL5BgUC/g4KBvsBBAQI+ffg7fD5/wMFAf8PDg0CaEc6PCcfCgQEAQH/BAL/Agju7SUOGCASGg0ECvn2+gS70+f5DxgVEQgBAA77/PhoeRyDH6vkDAAAAABJRU5ErkJggg==",
         "type": "image",
         "xaxis": "x22",
         "yaxis": "y22"
        },
        {
         "hovertemplate": "x: %{x}<br>y: %{y}<br>color: %{z}<extra></extra>",
         "name": "58",
         "source": "data:image/png;base64,iVBORw0KGgoAAAANSUhEUgAAAAUAAAAFCAIAAAACDbGyAAAAW0lEQVR4XgFQAK//AVM4JgUC/g4KBvsBBPfx9gTu7er5/wMFAf8PDg06KjQCPCcfCgQEAQH/BAL/8/DrAiUOGCASGg0ECvn2+s/a2gTr9fYVEQgBAA77/Pj2+veSLCC2NWVNuQAAAABJRU5ErkJggg==",
         "type": "image",
         "xaxis": "x23",
         "yaxis": "y23"
        },
        {
         "hovertemplate": "x: %{x}<br>y: %{y}<br>color: %{z}<extra></extra>",
         "name": "59",
         "source": "data:image/png;base64,iVBORw0KGgoAAAANSUhEUgAAAAUAAAAFCAIAAAACDbGyAAAAW0lEQVR4XgFQAK//AVg6JA4KBvsBBPfx9h4UJATi6u8FAf8PDg06KjTy5/0ECgQE/P76BAL/8/Dr9vT5AWQ6Menw6v4B/f/8AAL8/gQVEQgBAA77/Pj2+vf19v+GOiitIZ1L0gAAAABJRU5ErkJggg==",
         "type": "image",
         "xaxis": "x24",
         "yaxis": "y24"
        },
        {
         "hovertemplate": "x: %{x}<br>y: %{y}<br>color: %{z}<extra></extra>",
         "name": "60",
         "source": "data:image/png;base64,iVBORw0KGgoAAAANSUhEUgAAAAUAAAAFCAIAAAACDbGyAAAAW0lEQVR4XgFQAK//AWZEKvsBBPfx9h4UJBYWBwLZ4ejt7vEwJy8E+gj/9gAEAQH/BAL/8/Dr9vT5DQ0FBA0ECvn2+s/a2gL8/vsLDgQYEA77/Pj2+vf19v/6/PzSMyqPqbBDfwAAAABJRU5ErkJggg==",
         "type": "image",
         "xaxis": "x25",
         "yaxis": "y25"
        },
        {
         "hovertemplate": "x: %{x}<br>y: %{y}<br>color: %{z}<extra></extra>",
         "name": "61",
         "source": "data:image/png;base64,iVBORw0KGgoAAAANSUhEUgAAAAUAAAAFCAIAAAACDbGyAAAAW0lEQVR4XgFQAK//AWFFLvfx9h4UJBYWB/wB8QLt7vEwJy8E+gj/9gAPCQUEBAL/8/Dr9vT5DQ0FAP0BBPn2+s/a2gL8/vsLDgAPFwIVCwkMCQD/A//6/PwB+/p9DCQ9G7lZOgAAAABJRU5ErkJggg==",
         "type": "image",
         "xaxis": "x26",
         "yaxis": "y26"
        },
        {
         "hovertemplate": "x: %{x}<br>y: %{y}<br>color: %{z}<extra></extra>",
         "name": "62",
         "source": "data:image/png;base64,iVBORw0KGgoAAAANSUhEUgAAAAUAAAAFCAIAAAACDbGyAAAAW0lEQVR4XgFQAK//AVg2JB4UJBYWB/wB8fDv7QIwJy8E+gj/9gAPCQUJBwQE8/Dr9vT5DQ0FAP0BCAgFBM/a2gL8/vsLDgAPFwACBAIMCQD/A//6/PwB+/oB+/t2MB9Mswa38QAAAABJRU5ErkJggg==",
         "type": "image",
         "xaxis": "x27",
         "yaxis": "y27"
        },
        {
         "hovertemplate": "x: %{x}<br>y: %{y}<br>color: %{z}<extra></extra>",
         "name": "63",
         "source": "data:image/png;base64,iVBORw0KGgoAAAANSUhEUgAAAAUAAAAFCAIAAAACDbGyAAAAV0lEQVR4XgXBMQ6AIAwAwLYUAQ2y4ZeMD/K1Jo4OxqgRGQCDdzhPo/eq4H2dxxNe4qRrBGekUYxAHMNmrYQPtZaNFrzsa+56cAMQO9dyFTWVgjkBgiT8AZ2OGyQYrKgHAAAAAElFTkSuQmCC",
         "type": "image",
         "xaxis": "x28",
         "yaxis": "y28"
        },
        {
         "hovertemplate": "x: %{x}<br>y: %{y}<br>color: %{z}<extra></extra>",
         "name": "64",
         "source": "data:image/png;base64,iVBORw0KGgoAAAANSUhEUgAAAAUAAAAFCAIAAAACDbGyAAAAVElEQVR4XgXBMQ6AIAwAwLa0CiSG0Wf5BR/kMx1ciIrKAFW8w2WeFM9jj9f9xJSpZQhOXM8I1Iuw1ggvWiudNR6F17RBGIE4BD98jYsq1gIIQtjI/D1DHRlAsg26AAAAAElFTkSuQmCC",
         "type": "image",
         "xaxis": "x29",
         "yaxis": "y29"
        },
        {
         "hovertemplate": "x: %{x}<br>y: %{y}<br>color: %{z}<extra></extra>",
         "name": "65",
         "source": "data:image/png;base64,iVBORw0KGgoAAAANSUhEUgAAAAUAAAAFCAIAAAACDbGyAAAAVklEQVR4XgXBxw2AMAwAQNuxSYKE8kN82IVV2IZdEaK3kMIdDn23zNN+nNN2jetNzorVjEBapG1qhvgYI4VRJUqIgZc3AbFzZZXy4z/GzwOCEGZSwvwDOqEdVXHAF8QAAAAASUVORK5CYII=",
         "type": "image",
         "xaxis": "x30",
         "yaxis": "y30"
        },
        {
         "hovertemplate": "x: %{x}<br>y: %{y}<br>color: %{z}<extra></extra>",
         "name": "66",
         "source": "data:image/png;base64,iVBORw0KGgoAAAANSUhEUgAAAAUAAAAFCAIAAAACDbGyAAAAW0lEQVR4XgFQAK//AXhQLfP09e3y9uvx9+Dj8QQJBwT09AIHBQUdGA0WFhcECAgFBggDCgEF/P38Hh0aBP4CBA8PCg3+//j6+//68gQB+/sFAgH/AgMFBAT8+flszyFfi5ofZwAAAABJRU5ErkJggg==",
         "type": "image",
         "xaxis": "x31",
         "yaxis": "y31"
        },
        {
         "hovertemplate": "x: %{x}<br>y: %{y}<br>color: %{z}<extra></extra>",
         "name": "67",
         "source": "data:image/png;base64,iVBORw0KGgoAAAANSUhEUgAAAAUAAAAFCAIAAAACDbGyAAAAW0lEQVR4XgFQAK//AWtEIu3y9uvx9+Dj8f0DBAQBAAIHBQUdGA0WFhfp8vgEBggDCgEF/P38Hh0aDe7zBA8PCg3+//j6+//68iAVCwQFAgH/AgMFBAT8+fn//f89TyJU60ifEAAAAABJRU5ErkJggg==",
         "type": "image",
         "xaxis": "x32",
         "yaxis": "y32"
        },
        {
         "hovertemplate": "x: %{x}<br>y: %{y}<br>color: %{z}<extra></extra>",
         "name": "68",
         "source": "data:image/png;base64,iVBORw0KGgoAAAANSUhEUgAAAAUAAAAFCAIAAAACDbGyAAAAW0lEQVR4XgFQAK//AVg2GOvx9+Dj8f0DBODz/AQHBQUdGA0WFhfp8vjg0eICCgoFBQP8JR8VJBsQAAAABBYUDvj6+//68iAVCwAAAAQGBAQFBAT8+fn//f8AAAAWQB4lvSxEHwAAAABJRU5ErkJggg==",
         "type": "image",
         "xaxis": "x33",
         "yaxis": "y33"
        },
        {
         "hovertemplate": "x: %{x}<br>y: %{y}<br>color: %{z}<extra></extra>",
         "name": "69",
         "source": "data:image/png;base64,iVBORw0KGgoAAAANSUhEUgAAAAUAAAAFCAIAAAACDbGyAAAATElEQVR4XmNwVudX5mJQ4GVhYGBgYGBgkZUQExMTf/npx4OLjxgYGJhYmf+oyouqSAtA5JmEBLn+//qkIMoF5fNycTIzMPz/+x/CBwBHrw73cbhrHQAAAABJRU5ErkJggg==",
         "type": "image",
         "xaxis": "x34",
         "yaxis": "y34"
        },
        {
         "hovertemplate": "x: %{x}<br>y: %{y}<br>color: %{z}<extra></extra>",
         "name": "70",
         "source": "data:image/png;base64,iVBORw0KGgoAAAANSUhEUgAAAAUAAAAFCAIAAAACDbGyAAAAMklEQVR4XmNQ5mJQ4GVhgAEmM2M1JSUpBF9VXlRFWgDB///rk4IoF4LPzMDw/+9/OB8A8vMIJLW8zNUAAAAASUVORK5CYII=",
         "type": "image",
         "xaxis": "x35",
         "yaxis": "y35"
        },
        {
         "hovertemplate": "x: %{x}<br>y: %{y}<br>color: %{z}<extra></extra>",
         "name": "71",
         "source": "data:image/png;base64,iVBORw0KGgoAAAANSUhEUgAAAAUAAAAFCAIAAAACDbGyAAAAI0lEQVR4XmNQ4GVhQAJMSkpSKHwVaQEUvoIoFwr//9//yHwAZt4EIUMHQGcAAAAASUVORK5CYII=",
         "type": "image",
         "xaxis": "x36",
         "yaxis": "y36"
        }
       ],
       "layout": {
        "annotations": [
         {
          "font": {},
          "showarrow": false,
          "text": "facet_col=36",
          "x": 0.004166666666666666,
          "xanchor": "center",
          "xref": "paper",
          "y": 0.46499999999999997,
          "yanchor": "bottom",
          "yref": "paper"
         },
         {
          "font": {},
          "showarrow": false,
          "text": "facet_col=37",
          "x": 0.0325,
          "xanchor": "center",
          "xref": "paper",
          "y": 0.46499999999999997,
          "yanchor": "bottom",
          "yref": "paper"
         },
         {
          "font": {},
          "showarrow": false,
          "text": "facet_col=38",
          "x": 0.060833333333333336,
          "xanchor": "center",
          "xref": "paper",
          "y": 0.46499999999999997,
          "yanchor": "bottom",
          "yref": "paper"
         },
         {
          "font": {},
          "showarrow": false,
          "text": "facet_col=39",
          "x": 0.08916666666666666,
          "xanchor": "center",
          "xref": "paper",
          "y": 0.46499999999999997,
          "yanchor": "bottom",
          "yref": "paper"
         },
         {
          "font": {},
          "showarrow": false,
          "text": "facet_col=40",
          "x": 0.1175,
          "xanchor": "center",
          "xref": "paper",
          "y": 0.46499999999999997,
          "yanchor": "bottom",
          "yref": "paper"
         },
         {
          "font": {},
          "showarrow": false,
          "text": "facet_col=41",
          "x": 0.14583333333333331,
          "xanchor": "center",
          "xref": "paper",
          "y": 0.46499999999999997,
          "yanchor": "bottom",
          "yref": "paper"
         },
         {
          "font": {},
          "showarrow": false,
          "text": "facet_col=42",
          "x": 0.17416666666666664,
          "xanchor": "center",
          "xref": "paper",
          "y": 0.46499999999999997,
          "yanchor": "bottom",
          "yref": "paper"
         },
         {
          "font": {},
          "showarrow": false,
          "text": "facet_col=43",
          "x": 0.2025,
          "xanchor": "center",
          "xref": "paper",
          "y": 0.46499999999999997,
          "yanchor": "bottom",
          "yref": "paper"
         },
         {
          "font": {},
          "showarrow": false,
          "text": "facet_col=44",
          "x": 0.23083333333333333,
          "xanchor": "center",
          "xref": "paper",
          "y": 0.46499999999999997,
          "yanchor": "bottom",
          "yref": "paper"
         },
         {
          "font": {},
          "showarrow": false,
          "text": "facet_col=45",
          "x": 0.25916666666666666,
          "xanchor": "center",
          "xref": "paper",
          "y": 0.46499999999999997,
          "yanchor": "bottom",
          "yref": "paper"
         },
         {
          "font": {},
          "showarrow": false,
          "text": "facet_col=46",
          "x": 0.2875,
          "xanchor": "center",
          "xref": "paper",
          "y": 0.46499999999999997,
          "yanchor": "bottom",
          "yref": "paper"
         },
         {
          "font": {},
          "showarrow": false,
          "text": "facet_col=47",
          "x": 0.3158333333333333,
          "xanchor": "center",
          "xref": "paper",
          "y": 0.46499999999999997,
          "yanchor": "bottom",
          "yref": "paper"
         },
         {
          "font": {},
          "showarrow": false,
          "text": "facet_col=48",
          "x": 0.3441666666666666,
          "xanchor": "center",
          "xref": "paper",
          "y": 0.46499999999999997,
          "yanchor": "bottom",
          "yref": "paper"
         },
         {
          "font": {},
          "showarrow": false,
          "text": "facet_col=49",
          "x": 0.37249999999999994,
          "xanchor": "center",
          "xref": "paper",
          "y": 0.46499999999999997,
          "yanchor": "bottom",
          "yref": "paper"
         },
         {
          "font": {},
          "showarrow": false,
          "text": "facet_col=50",
          "x": 0.4008333333333334,
          "xanchor": "center",
          "xref": "paper",
          "y": 0.46499999999999997,
          "yanchor": "bottom",
          "yref": "paper"
         },
         {
          "font": {},
          "showarrow": false,
          "text": "facet_col=51",
          "x": 0.4291666666666666,
          "xanchor": "center",
          "xref": "paper",
          "y": 0.46499999999999997,
          "yanchor": "bottom",
          "yref": "paper"
         },
         {
          "font": {},
          "showarrow": false,
          "text": "facet_col=52",
          "x": 0.4575,
          "xanchor": "center",
          "xref": "paper",
          "y": 0.46499999999999997,
          "yanchor": "bottom",
          "yref": "paper"
         },
         {
          "font": {},
          "showarrow": false,
          "text": "facet_col=53",
          "x": 0.48583333333333334,
          "xanchor": "center",
          "xref": "paper",
          "y": 0.46499999999999997,
          "yanchor": "bottom",
          "yref": "paper"
         },
         {
          "font": {},
          "showarrow": false,
          "text": "facet_col=54",
          "x": 0.5141666666666667,
          "xanchor": "center",
          "xref": "paper",
          "y": 0.46499999999999997,
          "yanchor": "bottom",
          "yref": "paper"
         },
         {
          "font": {},
          "showarrow": false,
          "text": "facet_col=55",
          "x": 0.5425,
          "xanchor": "center",
          "xref": "paper",
          "y": 0.46499999999999997,
          "yanchor": "bottom",
          "yref": "paper"
         },
         {
          "font": {},
          "showarrow": false,
          "text": "facet_col=56",
          "x": 0.5708333333333333,
          "xanchor": "center",
          "xref": "paper",
          "y": 0.46499999999999997,
          "yanchor": "bottom",
          "yref": "paper"
         },
         {
          "font": {},
          "showarrow": false,
          "text": "facet_col=57",
          "x": 0.5991666666666666,
          "xanchor": "center",
          "xref": "paper",
          "y": 0.46499999999999997,
          "yanchor": "bottom",
          "yref": "paper"
         },
         {
          "font": {},
          "showarrow": false,
          "text": "facet_col=58",
          "x": 0.6275,
          "xanchor": "center",
          "xref": "paper",
          "y": 0.46499999999999997,
          "yanchor": "bottom",
          "yref": "paper"
         },
         {
          "font": {},
          "showarrow": false,
          "text": "facet_col=59",
          "x": 0.6558333333333333,
          "xanchor": "center",
          "xref": "paper",
          "y": 0.46499999999999997,
          "yanchor": "bottom",
          "yref": "paper"
         },
         {
          "font": {},
          "showarrow": false,
          "text": "facet_col=60",
          "x": 0.6841666666666666,
          "xanchor": "center",
          "xref": "paper",
          "y": 0.46499999999999997,
          "yanchor": "bottom",
          "yref": "paper"
         },
         {
          "font": {},
          "showarrow": false,
          "text": "facet_col=61",
          "x": 0.7124999999999999,
          "xanchor": "center",
          "xref": "paper",
          "y": 0.46499999999999997,
          "yanchor": "bottom",
          "yref": "paper"
         },
         {
          "font": {},
          "showarrow": false,
          "text": "facet_col=62",
          "x": 0.7408333333333332,
          "xanchor": "center",
          "xref": "paper",
          "y": 0.46499999999999997,
          "yanchor": "bottom",
          "yref": "paper"
         },
         {
          "font": {},
          "showarrow": false,
          "text": "facet_col=63",
          "x": 0.7691666666666667,
          "xanchor": "center",
          "xref": "paper",
          "y": 0.46499999999999997,
          "yanchor": "bottom",
          "yref": "paper"
         },
         {
          "font": {},
          "showarrow": false,
          "text": "facet_col=64",
          "x": 0.7975,
          "xanchor": "center",
          "xref": "paper",
          "y": 0.46499999999999997,
          "yanchor": "bottom",
          "yref": "paper"
         },
         {
          "font": {},
          "showarrow": false,
          "text": "facet_col=65",
          "x": 0.8258333333333332,
          "xanchor": "center",
          "xref": "paper",
          "y": 0.46499999999999997,
          "yanchor": "bottom",
          "yref": "paper"
         },
         {
          "font": {},
          "showarrow": false,
          "text": "facet_col=66",
          "x": 0.8541666666666665,
          "xanchor": "center",
          "xref": "paper",
          "y": 0.46499999999999997,
          "yanchor": "bottom",
          "yref": "paper"
         },
         {
          "font": {},
          "showarrow": false,
          "text": "facet_col=67",
          "x": 0.8825,
          "xanchor": "center",
          "xref": "paper",
          "y": 0.46499999999999997,
          "yanchor": "bottom",
          "yref": "paper"
         },
         {
          "font": {},
          "showarrow": false,
          "text": "facet_col=68",
          "x": 0.9108333333333333,
          "xanchor": "center",
          "xref": "paper",
          "y": 0.46499999999999997,
          "yanchor": "bottom",
          "yref": "paper"
         },
         {
          "font": {},
          "showarrow": false,
          "text": "facet_col=69",
          "x": 0.9391666666666666,
          "xanchor": "center",
          "xref": "paper",
          "y": 0.46499999999999997,
          "yanchor": "bottom",
          "yref": "paper"
         },
         {
          "font": {},
          "showarrow": false,
          "text": "facet_col=70",
          "x": 0.9675,
          "xanchor": "center",
          "xref": "paper",
          "y": 0.46499999999999997,
          "yanchor": "bottom",
          "yref": "paper"
         },
         {
          "font": {},
          "showarrow": false,
          "text": "facet_col=71",
          "x": 0.9958333333333333,
          "xanchor": "center",
          "xref": "paper",
          "y": 0.46499999999999997,
          "yanchor": "bottom",
          "yref": "paper"
         },
         {
          "font": {},
          "showarrow": false,
          "text": "facet_col=0",
          "x": 0.004166666666666666,
          "xanchor": "center",
          "xref": "paper",
          "y": 0.9999999999999999,
          "yanchor": "bottom",
          "yref": "paper"
         },
         {
          "font": {},
          "showarrow": false,
          "text": "facet_col=1",
          "x": 0.0325,
          "xanchor": "center",
          "xref": "paper",
          "y": 0.9999999999999999,
          "yanchor": "bottom",
          "yref": "paper"
         },
         {
          "font": {},
          "showarrow": false,
          "text": "facet_col=2",
          "x": 0.060833333333333336,
          "xanchor": "center",
          "xref": "paper",
          "y": 0.9999999999999999,
          "yanchor": "bottom",
          "yref": "paper"
         },
         {
          "font": {},
          "showarrow": false,
          "text": "facet_col=3",
          "x": 0.08916666666666666,
          "xanchor": "center",
          "xref": "paper",
          "y": 0.9999999999999999,
          "yanchor": "bottom",
          "yref": "paper"
         },
         {
          "font": {},
          "showarrow": false,
          "text": "facet_col=4",
          "x": 0.1175,
          "xanchor": "center",
          "xref": "paper",
          "y": 0.9999999999999999,
          "yanchor": "bottom",
          "yref": "paper"
         },
         {
          "font": {},
          "showarrow": false,
          "text": "facet_col=5",
          "x": 0.14583333333333331,
          "xanchor": "center",
          "xref": "paper",
          "y": 0.9999999999999999,
          "yanchor": "bottom",
          "yref": "paper"
         },
         {
          "font": {},
          "showarrow": false,
          "text": "facet_col=6",
          "x": 0.17416666666666664,
          "xanchor": "center",
          "xref": "paper",
          "y": 0.9999999999999999,
          "yanchor": "bottom",
          "yref": "paper"
         },
         {
          "font": {},
          "showarrow": false,
          "text": "facet_col=7",
          "x": 0.2025,
          "xanchor": "center",
          "xref": "paper",
          "y": 0.9999999999999999,
          "yanchor": "bottom",
          "yref": "paper"
         },
         {
          "font": {},
          "showarrow": false,
          "text": "facet_col=8",
          "x": 0.23083333333333333,
          "xanchor": "center",
          "xref": "paper",
          "y": 0.9999999999999999,
          "yanchor": "bottom",
          "yref": "paper"
         },
         {
          "font": {},
          "showarrow": false,
          "text": "facet_col=9",
          "x": 0.25916666666666666,
          "xanchor": "center",
          "xref": "paper",
          "y": 0.9999999999999999,
          "yanchor": "bottom",
          "yref": "paper"
         },
         {
          "font": {},
          "showarrow": false,
          "text": "facet_col=10",
          "x": 0.2875,
          "xanchor": "center",
          "xref": "paper",
          "y": 0.9999999999999999,
          "yanchor": "bottom",
          "yref": "paper"
         },
         {
          "font": {},
          "showarrow": false,
          "text": "facet_col=11",
          "x": 0.3158333333333333,
          "xanchor": "center",
          "xref": "paper",
          "y": 0.9999999999999999,
          "yanchor": "bottom",
          "yref": "paper"
         },
         {
          "font": {},
          "showarrow": false,
          "text": "facet_col=12",
          "x": 0.3441666666666666,
          "xanchor": "center",
          "xref": "paper",
          "y": 0.9999999999999999,
          "yanchor": "bottom",
          "yref": "paper"
         },
         {
          "font": {},
          "showarrow": false,
          "text": "facet_col=13",
          "x": 0.37249999999999994,
          "xanchor": "center",
          "xref": "paper",
          "y": 0.9999999999999999,
          "yanchor": "bottom",
          "yref": "paper"
         },
         {
          "font": {},
          "showarrow": false,
          "text": "facet_col=14",
          "x": 0.4008333333333334,
          "xanchor": "center",
          "xref": "paper",
          "y": 0.9999999999999999,
          "yanchor": "bottom",
          "yref": "paper"
         },
         {
          "font": {},
          "showarrow": false,
          "text": "facet_col=15",
          "x": 0.4291666666666666,
          "xanchor": "center",
          "xref": "paper",
          "y": 0.9999999999999999,
          "yanchor": "bottom",
          "yref": "paper"
         },
         {
          "font": {},
          "showarrow": false,
          "text": "facet_col=16",
          "x": 0.4575,
          "xanchor": "center",
          "xref": "paper",
          "y": 0.9999999999999999,
          "yanchor": "bottom",
          "yref": "paper"
         },
         {
          "font": {},
          "showarrow": false,
          "text": "facet_col=17",
          "x": 0.48583333333333334,
          "xanchor": "center",
          "xref": "paper",
          "y": 0.9999999999999999,
          "yanchor": "bottom",
          "yref": "paper"
         },
         {
          "font": {},
          "showarrow": false,
          "text": "facet_col=18",
          "x": 0.5141666666666667,
          "xanchor": "center",
          "xref": "paper",
          "y": 0.9999999999999999,
          "yanchor": "bottom",
          "yref": "paper"
         },
         {
          "font": {},
          "showarrow": false,
          "text": "facet_col=19",
          "x": 0.5425,
          "xanchor": "center",
          "xref": "paper",
          "y": 0.9999999999999999,
          "yanchor": "bottom",
          "yref": "paper"
         },
         {
          "font": {},
          "showarrow": false,
          "text": "facet_col=20",
          "x": 0.5708333333333333,
          "xanchor": "center",
          "xref": "paper",
          "y": 0.9999999999999999,
          "yanchor": "bottom",
          "yref": "paper"
         },
         {
          "font": {},
          "showarrow": false,
          "text": "facet_col=21",
          "x": 0.5991666666666666,
          "xanchor": "center",
          "xref": "paper",
          "y": 0.9999999999999999,
          "yanchor": "bottom",
          "yref": "paper"
         },
         {
          "font": {},
          "showarrow": false,
          "text": "facet_col=22",
          "x": 0.6275,
          "xanchor": "center",
          "xref": "paper",
          "y": 0.9999999999999999,
          "yanchor": "bottom",
          "yref": "paper"
         },
         {
          "font": {},
          "showarrow": false,
          "text": "facet_col=23",
          "x": 0.6558333333333333,
          "xanchor": "center",
          "xref": "paper",
          "y": 0.9999999999999999,
          "yanchor": "bottom",
          "yref": "paper"
         },
         {
          "font": {},
          "showarrow": false,
          "text": "facet_col=24",
          "x": 0.6841666666666666,
          "xanchor": "center",
          "xref": "paper",
          "y": 0.9999999999999999,
          "yanchor": "bottom",
          "yref": "paper"
         },
         {
          "font": {},
          "showarrow": false,
          "text": "facet_col=25",
          "x": 0.7124999999999999,
          "xanchor": "center",
          "xref": "paper",
          "y": 0.9999999999999999,
          "yanchor": "bottom",
          "yref": "paper"
         },
         {
          "font": {},
          "showarrow": false,
          "text": "facet_col=26",
          "x": 0.7408333333333332,
          "xanchor": "center",
          "xref": "paper",
          "y": 0.9999999999999999,
          "yanchor": "bottom",
          "yref": "paper"
         },
         {
          "font": {},
          "showarrow": false,
          "text": "facet_col=27",
          "x": 0.7691666666666667,
          "xanchor": "center",
          "xref": "paper",
          "y": 0.9999999999999999,
          "yanchor": "bottom",
          "yref": "paper"
         },
         {
          "font": {},
          "showarrow": false,
          "text": "facet_col=28",
          "x": 0.7975,
          "xanchor": "center",
          "xref": "paper",
          "y": 0.9999999999999999,
          "yanchor": "bottom",
          "yref": "paper"
         },
         {
          "font": {},
          "showarrow": false,
          "text": "facet_col=29",
          "x": 0.8258333333333332,
          "xanchor": "center",
          "xref": "paper",
          "y": 0.9999999999999999,
          "yanchor": "bottom",
          "yref": "paper"
         },
         {
          "font": {},
          "showarrow": false,
          "text": "facet_col=30",
          "x": 0.8541666666666665,
          "xanchor": "center",
          "xref": "paper",
          "y": 0.9999999999999999,
          "yanchor": "bottom",
          "yref": "paper"
         },
         {
          "font": {},
          "showarrow": false,
          "text": "facet_col=31",
          "x": 0.8825,
          "xanchor": "center",
          "xref": "paper",
          "y": 0.9999999999999999,
          "yanchor": "bottom",
          "yref": "paper"
         },
         {
          "font": {},
          "showarrow": false,
          "text": "facet_col=32",
          "x": 0.9108333333333333,
          "xanchor": "center",
          "xref": "paper",
          "y": 0.9999999999999999,
          "yanchor": "bottom",
          "yref": "paper"
         },
         {
          "font": {},
          "showarrow": false,
          "text": "facet_col=33",
          "x": 0.9391666666666666,
          "xanchor": "center",
          "xref": "paper",
          "y": 0.9999999999999999,
          "yanchor": "bottom",
          "yref": "paper"
         },
         {
          "font": {},
          "showarrow": false,
          "text": "facet_col=34",
          "x": 0.9675,
          "xanchor": "center",
          "xref": "paper",
          "y": 0.9999999999999999,
          "yanchor": "bottom",
          "yref": "paper"
         },
         {
          "font": {},
          "showarrow": false,
          "text": "facet_col=35",
          "x": 0.9958333333333333,
          "xanchor": "center",
          "xref": "paper",
          "y": 0.9999999999999999,
          "yanchor": "bottom",
          "yref": "paper"
         }
        ],
        "margin": {
         "t": 60
        },
        "template": {
         "data": {
          "bar": [
           {
            "error_x": {
             "color": "#2a3f5f"
            },
            "error_y": {
             "color": "#2a3f5f"
            },
            "marker": {
             "line": {
              "color": "#E5ECF6",
              "width": 0.5
             },
             "pattern": {
              "fillmode": "overlay",
              "size": 10,
              "solidity": 0.2
             }
            },
            "type": "bar"
           }
          ],
          "barpolar": [
           {
            "marker": {
             "line": {
              "color": "#E5ECF6",
              "width": 0.5
             },
             "pattern": {
              "fillmode": "overlay",
              "size": 10,
              "solidity": 0.2
             }
            },
            "type": "barpolar"
           }
          ],
          "carpet": [
           {
            "aaxis": {
             "endlinecolor": "#2a3f5f",
             "gridcolor": "white",
             "linecolor": "white",
             "minorgridcolor": "white",
             "startlinecolor": "#2a3f5f"
            },
            "baxis": {
             "endlinecolor": "#2a3f5f",
             "gridcolor": "white",
             "linecolor": "white",
             "minorgridcolor": "white",
             "startlinecolor": "#2a3f5f"
            },
            "type": "carpet"
           }
          ],
          "choropleth": [
           {
            "colorbar": {
             "outlinewidth": 0,
             "ticks": ""
            },
            "type": "choropleth"
           }
          ],
          "contour": [
           {
            "colorbar": {
             "outlinewidth": 0,
             "ticks": ""
            },
            "colorscale": [
             [
              0,
              "#0d0887"
             ],
             [
              0.1111111111111111,
              "#46039f"
             ],
             [
              0.2222222222222222,
              "#7201a8"
             ],
             [
              0.3333333333333333,
              "#9c179e"
             ],
             [
              0.4444444444444444,
              "#bd3786"
             ],
             [
              0.5555555555555556,
              "#d8576b"
             ],
             [
              0.6666666666666666,
              "#ed7953"
             ],
             [
              0.7777777777777778,
              "#fb9f3a"
             ],
             [
              0.8888888888888888,
              "#fdca26"
             ],
             [
              1,
              "#f0f921"
             ]
            ],
            "type": "contour"
           }
          ],
          "contourcarpet": [
           {
            "colorbar": {
             "outlinewidth": 0,
             "ticks": ""
            },
            "type": "contourcarpet"
           }
          ],
          "heatmap": [
           {
            "colorbar": {
             "outlinewidth": 0,
             "ticks": ""
            },
            "colorscale": [
             [
              0,
              "#0d0887"
             ],
             [
              0.1111111111111111,
              "#46039f"
             ],
             [
              0.2222222222222222,
              "#7201a8"
             ],
             [
              0.3333333333333333,
              "#9c179e"
             ],
             [
              0.4444444444444444,
              "#bd3786"
             ],
             [
              0.5555555555555556,
              "#d8576b"
             ],
             [
              0.6666666666666666,
              "#ed7953"
             ],
             [
              0.7777777777777778,
              "#fb9f3a"
             ],
             [
              0.8888888888888888,
              "#fdca26"
             ],
             [
              1,
              "#f0f921"
             ]
            ],
            "type": "heatmap"
           }
          ],
          "heatmapgl": [
           {
            "colorbar": {
             "outlinewidth": 0,
             "ticks": ""
            },
            "colorscale": [
             [
              0,
              "#0d0887"
             ],
             [
              0.1111111111111111,
              "#46039f"
             ],
             [
              0.2222222222222222,
              "#7201a8"
             ],
             [
              0.3333333333333333,
              "#9c179e"
             ],
             [
              0.4444444444444444,
              "#bd3786"
             ],
             [
              0.5555555555555556,
              "#d8576b"
             ],
             [
              0.6666666666666666,
              "#ed7953"
             ],
             [
              0.7777777777777778,
              "#fb9f3a"
             ],
             [
              0.8888888888888888,
              "#fdca26"
             ],
             [
              1,
              "#f0f921"
             ]
            ],
            "type": "heatmapgl"
           }
          ],
          "histogram": [
           {
            "marker": {
             "pattern": {
              "fillmode": "overlay",
              "size": 10,
              "solidity": 0.2
             }
            },
            "type": "histogram"
           }
          ],
          "histogram2d": [
           {
            "colorbar": {
             "outlinewidth": 0,
             "ticks": ""
            },
            "colorscale": [
             [
              0,
              "#0d0887"
             ],
             [
              0.1111111111111111,
              "#46039f"
             ],
             [
              0.2222222222222222,
              "#7201a8"
             ],
             [
              0.3333333333333333,
              "#9c179e"
             ],
             [
              0.4444444444444444,
              "#bd3786"
             ],
             [
              0.5555555555555556,
              "#d8576b"
             ],
             [
              0.6666666666666666,
              "#ed7953"
             ],
             [
              0.7777777777777778,
              "#fb9f3a"
             ],
             [
              0.8888888888888888,
              "#fdca26"
             ],
             [
              1,
              "#f0f921"
             ]
            ],
            "type": "histogram2d"
           }
          ],
          "histogram2dcontour": [
           {
            "colorbar": {
             "outlinewidth": 0,
             "ticks": ""
            },
            "colorscale": [
             [
              0,
              "#0d0887"
             ],
             [
              0.1111111111111111,
              "#46039f"
             ],
             [
              0.2222222222222222,
              "#7201a8"
             ],
             [
              0.3333333333333333,
              "#9c179e"
             ],
             [
              0.4444444444444444,
              "#bd3786"
             ],
             [
              0.5555555555555556,
              "#d8576b"
             ],
             [
              0.6666666666666666,
              "#ed7953"
             ],
             [
              0.7777777777777778,
              "#fb9f3a"
             ],
             [
              0.8888888888888888,
              "#fdca26"
             ],
             [
              1,
              "#f0f921"
             ]
            ],
            "type": "histogram2dcontour"
           }
          ],
          "mesh3d": [
           {
            "colorbar": {
             "outlinewidth": 0,
             "ticks": ""
            },
            "type": "mesh3d"
           }
          ],
          "parcoords": [
           {
            "line": {
             "colorbar": {
              "outlinewidth": 0,
              "ticks": ""
             }
            },
            "type": "parcoords"
           }
          ],
          "pie": [
           {
            "automargin": true,
            "type": "pie"
           }
          ],
          "scatter": [
           {
            "fillpattern": {
             "fillmode": "overlay",
             "size": 10,
             "solidity": 0.2
            },
            "type": "scatter"
           }
          ],
          "scatter3d": [
           {
            "line": {
             "colorbar": {
              "outlinewidth": 0,
              "ticks": ""
             }
            },
            "marker": {
             "colorbar": {
              "outlinewidth": 0,
              "ticks": ""
             }
            },
            "type": "scatter3d"
           }
          ],
          "scattercarpet": [
           {
            "marker": {
             "colorbar": {
              "outlinewidth": 0,
              "ticks": ""
             }
            },
            "type": "scattercarpet"
           }
          ],
          "scattergeo": [
           {
            "marker": {
             "colorbar": {
              "outlinewidth": 0,
              "ticks": ""
             }
            },
            "type": "scattergeo"
           }
          ],
          "scattergl": [
           {
            "marker": {
             "colorbar": {
              "outlinewidth": 0,
              "ticks": ""
             }
            },
            "type": "scattergl"
           }
          ],
          "scattermapbox": [
           {
            "marker": {
             "colorbar": {
              "outlinewidth": 0,
              "ticks": ""
             }
            },
            "type": "scattermapbox"
           }
          ],
          "scatterpolar": [
           {
            "marker": {
             "colorbar": {
              "outlinewidth": 0,
              "ticks": ""
             }
            },
            "type": "scatterpolar"
           }
          ],
          "scatterpolargl": [
           {
            "marker": {
             "colorbar": {
              "outlinewidth": 0,
              "ticks": ""
             }
            },
            "type": "scatterpolargl"
           }
          ],
          "scatterternary": [
           {
            "marker": {
             "colorbar": {
              "outlinewidth": 0,
              "ticks": ""
             }
            },
            "type": "scatterternary"
           }
          ],
          "surface": [
           {
            "colorbar": {
             "outlinewidth": 0,
             "ticks": ""
            },
            "colorscale": [
             [
              0,
              "#0d0887"
             ],
             [
              0.1111111111111111,
              "#46039f"
             ],
             [
              0.2222222222222222,
              "#7201a8"
             ],
             [
              0.3333333333333333,
              "#9c179e"
             ],
             [
              0.4444444444444444,
              "#bd3786"
             ],
             [
              0.5555555555555556,
              "#d8576b"
             ],
             [
              0.6666666666666666,
              "#ed7953"
             ],
             [
              0.7777777777777778,
              "#fb9f3a"
             ],
             [
              0.8888888888888888,
              "#fdca26"
             ],
             [
              1,
              "#f0f921"
             ]
            ],
            "type": "surface"
           }
          ],
          "table": [
           {
            "cells": {
             "fill": {
              "color": "#EBF0F8"
             },
             "line": {
              "color": "white"
             }
            },
            "header": {
             "fill": {
              "color": "#C8D4E3"
             },
             "line": {
              "color": "white"
             }
            },
            "type": "table"
           }
          ]
         },
         "layout": {
          "annotationdefaults": {
           "arrowcolor": "#2a3f5f",
           "arrowhead": 0,
           "arrowwidth": 1
          },
          "autotypenumbers": "strict",
          "coloraxis": {
           "colorbar": {
            "outlinewidth": 0,
            "ticks": ""
           }
          },
          "colorscale": {
           "diverging": [
            [
             0,
             "#8e0152"
            ],
            [
             0.1,
             "#c51b7d"
            ],
            [
             0.2,
             "#de77ae"
            ],
            [
             0.3,
             "#f1b6da"
            ],
            [
             0.4,
             "#fde0ef"
            ],
            [
             0.5,
             "#f7f7f7"
            ],
            [
             0.6,
             "#e6f5d0"
            ],
            [
             0.7,
             "#b8e186"
            ],
            [
             0.8,
             "#7fbc41"
            ],
            [
             0.9,
             "#4d9221"
            ],
            [
             1,
             "#276419"
            ]
           ],
           "sequential": [
            [
             0,
             "#0d0887"
            ],
            [
             0.1111111111111111,
             "#46039f"
            ],
            [
             0.2222222222222222,
             "#7201a8"
            ],
            [
             0.3333333333333333,
             "#9c179e"
            ],
            [
             0.4444444444444444,
             "#bd3786"
            ],
            [
             0.5555555555555556,
             "#d8576b"
            ],
            [
             0.6666666666666666,
             "#ed7953"
            ],
            [
             0.7777777777777778,
             "#fb9f3a"
            ],
            [
             0.8888888888888888,
             "#fdca26"
            ],
            [
             1,
             "#f0f921"
            ]
           ],
           "sequentialminus": [
            [
             0,
             "#0d0887"
            ],
            [
             0.1111111111111111,
             "#46039f"
            ],
            [
             0.2222222222222222,
             "#7201a8"
            ],
            [
             0.3333333333333333,
             "#9c179e"
            ],
            [
             0.4444444444444444,
             "#bd3786"
            ],
            [
             0.5555555555555556,
             "#d8576b"
            ],
            [
             0.6666666666666666,
             "#ed7953"
            ],
            [
             0.7777777777777778,
             "#fb9f3a"
            ],
            [
             0.8888888888888888,
             "#fdca26"
            ],
            [
             1,
             "#f0f921"
            ]
           ]
          },
          "colorway": [
           "#636efa",
           "#EF553B",
           "#00cc96",
           "#ab63fa",
           "#FFA15A",
           "#19d3f3",
           "#FF6692",
           "#B6E880",
           "#FF97FF",
           "#FECB52"
          ],
          "font": {
           "color": "#2a3f5f"
          },
          "geo": {
           "bgcolor": "white",
           "lakecolor": "white",
           "landcolor": "#E5ECF6",
           "showlakes": true,
           "showland": true,
           "subunitcolor": "white"
          },
          "hoverlabel": {
           "align": "left"
          },
          "hovermode": "closest",
          "mapbox": {
           "style": "light"
          },
          "paper_bgcolor": "white",
          "plot_bgcolor": "#E5ECF6",
          "polar": {
           "angularaxis": {
            "gridcolor": "white",
            "linecolor": "white",
            "ticks": ""
           },
           "bgcolor": "#E5ECF6",
           "radialaxis": {
            "gridcolor": "white",
            "linecolor": "white",
            "ticks": ""
           }
          },
          "scene": {
           "xaxis": {
            "backgroundcolor": "#E5ECF6",
            "gridcolor": "white",
            "gridwidth": 2,
            "linecolor": "white",
            "showbackground": true,
            "ticks": "",
            "zerolinecolor": "white"
           },
           "yaxis": {
            "backgroundcolor": "#E5ECF6",
            "gridcolor": "white",
            "gridwidth": 2,
            "linecolor": "white",
            "showbackground": true,
            "ticks": "",
            "zerolinecolor": "white"
           },
           "zaxis": {
            "backgroundcolor": "#E5ECF6",
            "gridcolor": "white",
            "gridwidth": 2,
            "linecolor": "white",
            "showbackground": true,
            "ticks": "",
            "zerolinecolor": "white"
           }
          },
          "shapedefaults": {
           "line": {
            "color": "#2a3f5f"
           }
          },
          "ternary": {
           "aaxis": {
            "gridcolor": "white",
            "linecolor": "white",
            "ticks": ""
           },
           "baxis": {
            "gridcolor": "white",
            "linecolor": "white",
            "ticks": ""
           },
           "bgcolor": "#E5ECF6",
           "caxis": {
            "gridcolor": "white",
            "linecolor": "white",
            "ticks": ""
           }
          },
          "title": {
           "x": 0.05
          },
          "xaxis": {
           "automargin": true,
           "gridcolor": "white",
           "linecolor": "white",
           "ticks": "",
           "title": {
            "standoff": 15
           },
           "zerolinecolor": "white",
           "zerolinewidth": 2
          },
          "yaxis": {
           "automargin": true,
           "gridcolor": "white",
           "linecolor": "white",
           "ticks": "",
           "title": {
            "standoff": 15
           },
           "zerolinecolor": "white",
           "zerolinewidth": 2
          }
         }
        },
        "xaxis": {
         "anchor": "y",
         "domain": [
          0,
          0.008333333333333331
         ]
        },
        "xaxis10": {
         "anchor": "y10",
         "domain": [
          0.255,
          0.2633333333333333
         ],
         "matches": "x"
        },
        "xaxis11": {
         "anchor": "y11",
         "domain": [
          0.2833333333333333,
          0.29166666666666663
         ],
         "matches": "x"
        },
        "xaxis12": {
         "anchor": "y12",
         "domain": [
          0.31166666666666665,
          0.31999999999999995
         ],
         "matches": "x"
        },
        "xaxis13": {
         "anchor": "y13",
         "domain": [
          0.33999999999999997,
          0.3483333333333333
         ],
         "matches": "x"
        },
        "xaxis14": {
         "anchor": "y14",
         "domain": [
          0.3683333333333333,
          0.3766666666666666
         ],
         "matches": "x"
        },
        "xaxis15": {
         "anchor": "y15",
         "domain": [
          0.39666666666666667,
          0.405
         ],
         "matches": "x"
        },
        "xaxis16": {
         "anchor": "y16",
         "domain": [
          0.42499999999999993,
          0.43333333333333324
         ],
         "matches": "x"
        },
        "xaxis17": {
         "anchor": "y17",
         "domain": [
          0.4533333333333333,
          0.46166666666666667
         ],
         "matches": "x"
        },
        "xaxis18": {
         "anchor": "y18",
         "domain": [
          0.4816666666666667,
          0.49
         ],
         "matches": "x"
        },
        "xaxis19": {
         "anchor": "y19",
         "domain": [
          0.51,
          0.5183333333333333
         ],
         "matches": "x"
        },
        "xaxis2": {
         "anchor": "y2",
         "domain": [
          0.028333333333333332,
          0.03666666666666667
         ],
         "matches": "x"
        },
        "xaxis20": {
         "anchor": "y20",
         "domain": [
          0.5383333333333333,
          0.5466666666666666
         ],
         "matches": "x"
        },
        "xaxis21": {
         "anchor": "y21",
         "domain": [
          0.5666666666666667,
          0.575
         ],
         "matches": "x"
        },
        "xaxis22": {
         "anchor": "y22",
         "domain": [
          0.595,
          0.6033333333333333
         ],
         "matches": "x"
        },
        "xaxis23": {
         "anchor": "y23",
         "domain": [
          0.6233333333333333,
          0.6316666666666666
         ],
         "matches": "x"
        },
        "xaxis24": {
         "anchor": "y24",
         "domain": [
          0.6516666666666666,
          0.6599999999999999
         ],
         "matches": "x"
        },
        "xaxis25": {
         "anchor": "y25",
         "domain": [
          0.6799999999999999,
          0.6883333333333332
         ],
         "matches": "x"
        },
        "xaxis26": {
         "anchor": "y26",
         "domain": [
          0.7083333333333333,
          0.7166666666666666
         ],
         "matches": "x"
        },
        "xaxis27": {
         "anchor": "y27",
         "domain": [
          0.7366666666666666,
          0.7449999999999999
         ],
         "matches": "x"
        },
        "xaxis28": {
         "anchor": "y28",
         "domain": [
          0.765,
          0.7733333333333333
         ],
         "matches": "x"
        },
        "xaxis29": {
         "anchor": "y29",
         "domain": [
          0.7933333333333333,
          0.8016666666666666
         ],
         "matches": "x"
        },
        "xaxis3": {
         "anchor": "y3",
         "domain": [
          0.056666666666666664,
          0.065
         ],
         "matches": "x"
        },
        "xaxis30": {
         "anchor": "y30",
         "domain": [
          0.8216666666666665,
          0.8299999999999998
         ],
         "matches": "x"
        },
        "xaxis31": {
         "anchor": "y31",
         "domain": [
          0.8499999999999999,
          0.8583333333333332
         ],
         "matches": "x"
        },
        "xaxis32": {
         "anchor": "y32",
         "domain": [
          0.8783333333333333,
          0.8866666666666666
         ],
         "matches": "x"
        },
        "xaxis33": {
         "anchor": "y33",
         "domain": [
          0.9066666666666666,
          0.9149999999999999
         ],
         "matches": "x"
        },
        "xaxis34": {
         "anchor": "y34",
         "domain": [
          0.9349999999999999,
          0.9433333333333332
         ],
         "matches": "x"
        },
        "xaxis35": {
         "anchor": "y35",
         "domain": [
          0.9633333333333334,
          0.9716666666666667
         ],
         "matches": "x"
        },
        "xaxis36": {
         "anchor": "y36",
         "domain": [
          0.9916666666666667,
          1
         ],
         "matches": "x"
        },
        "xaxis37": {
         "anchor": "y37",
         "domain": [
          0,
          0.008333333333333331
         ],
         "matches": "x",
         "showticklabels": false
        },
        "xaxis38": {
         "anchor": "y38",
         "domain": [
          0.028333333333333332,
          0.03666666666666667
         ],
         "matches": "x",
         "showticklabels": false
        },
        "xaxis39": {
         "anchor": "y39",
         "domain": [
          0.056666666666666664,
          0.065
         ],
         "matches": "x",
         "showticklabels": false
        },
        "xaxis4": {
         "anchor": "y4",
         "domain": [
          0.08499999999999999,
          0.09333333333333332
         ],
         "matches": "x"
        },
        "xaxis40": {
         "anchor": "y40",
         "domain": [
          0.08499999999999999,
          0.09333333333333332
         ],
         "matches": "x",
         "showticklabels": false
        },
        "xaxis41": {
         "anchor": "y41",
         "domain": [
          0.11333333333333333,
          0.12166666666666666
         ],
         "matches": "x",
         "showticklabels": false
        },
        "xaxis42": {
         "anchor": "y42",
         "domain": [
          0.14166666666666666,
          0.15
         ],
         "matches": "x",
         "showticklabels": false
        },
        "xaxis43": {
         "anchor": "y43",
         "domain": [
          0.16999999999999998,
          0.17833333333333332
         ],
         "matches": "x",
         "showticklabels": false
        },
        "xaxis44": {
         "anchor": "y44",
         "domain": [
          0.19833333333333333,
          0.20666666666666667
         ],
         "matches": "x",
         "showticklabels": false
        },
        "xaxis45": {
         "anchor": "y45",
         "domain": [
          0.22666666666666666,
          0.235
         ],
         "matches": "x",
         "showticklabels": false
        },
        "xaxis46": {
         "anchor": "y46",
         "domain": [
          0.255,
          0.2633333333333333
         ],
         "matches": "x",
         "showticklabels": false
        },
        "xaxis47": {
         "anchor": "y47",
         "domain": [
          0.2833333333333333,
          0.29166666666666663
         ],
         "matches": "x",
         "showticklabels": false
        },
        "xaxis48": {
         "anchor": "y48",
         "domain": [
          0.31166666666666665,
          0.31999999999999995
         ],
         "matches": "x",
         "showticklabels": false
        },
        "xaxis49": {
         "anchor": "y49",
         "domain": [
          0.33999999999999997,
          0.3483333333333333
         ],
         "matches": "x",
         "showticklabels": false
        },
        "xaxis5": {
         "anchor": "y5",
         "domain": [
          0.11333333333333333,
          0.12166666666666666
         ],
         "matches": "x"
        },
        "xaxis50": {
         "anchor": "y50",
         "domain": [
          0.3683333333333333,
          0.3766666666666666
         ],
         "matches": "x",
         "showticklabels": false
        },
        "xaxis51": {
         "anchor": "y51",
         "domain": [
          0.39666666666666667,
          0.405
         ],
         "matches": "x",
         "showticklabels": false
        },
        "xaxis52": {
         "anchor": "y52",
         "domain": [
          0.42499999999999993,
          0.43333333333333324
         ],
         "matches": "x",
         "showticklabels": false
        },
        "xaxis53": {
         "anchor": "y53",
         "domain": [
          0.4533333333333333,
          0.46166666666666667
         ],
         "matches": "x",
         "showticklabels": false
        },
        "xaxis54": {
         "anchor": "y54",
         "domain": [
          0.4816666666666667,
          0.49
         ],
         "matches": "x",
         "showticklabels": false
        },
        "xaxis55": {
         "anchor": "y55",
         "domain": [
          0.51,
          0.5183333333333333
         ],
         "matches": "x",
         "showticklabels": false
        },
        "xaxis56": {
         "anchor": "y56",
         "domain": [
          0.5383333333333333,
          0.5466666666666666
         ],
         "matches": "x",
         "showticklabels": false
        },
        "xaxis57": {
         "anchor": "y57",
         "domain": [
          0.5666666666666667,
          0.575
         ],
         "matches": "x",
         "showticklabels": false
        },
        "xaxis58": {
         "anchor": "y58",
         "domain": [
          0.595,
          0.6033333333333333
         ],
         "matches": "x",
         "showticklabels": false
        },
        "xaxis59": {
         "anchor": "y59",
         "domain": [
          0.6233333333333333,
          0.6316666666666666
         ],
         "matches": "x",
         "showticklabels": false
        },
        "xaxis6": {
         "anchor": "y6",
         "domain": [
          0.14166666666666666,
          0.15
         ],
         "matches": "x"
        },
        "xaxis60": {
         "anchor": "y60",
         "domain": [
          0.6516666666666666,
          0.6599999999999999
         ],
         "matches": "x",
         "showticklabels": false
        },
        "xaxis61": {
         "anchor": "y61",
         "domain": [
          0.6799999999999999,
          0.6883333333333332
         ],
         "matches": "x",
         "showticklabels": false
        },
        "xaxis62": {
         "anchor": "y62",
         "domain": [
          0.7083333333333333,
          0.7166666666666666
         ],
         "matches": "x",
         "showticklabels": false
        },
        "xaxis63": {
         "anchor": "y63",
         "domain": [
          0.7366666666666666,
          0.7449999999999999
         ],
         "matches": "x",
         "showticklabels": false
        },
        "xaxis64": {
         "anchor": "y64",
         "domain": [
          0.765,
          0.7733333333333333
         ],
         "matches": "x",
         "showticklabels": false
        },
        "xaxis65": {
         "anchor": "y65",
         "domain": [
          0.7933333333333333,
          0.8016666666666666
         ],
         "matches": "x",
         "showticklabels": false
        },
        "xaxis66": {
         "anchor": "y66",
         "domain": [
          0.8216666666666665,
          0.8299999999999998
         ],
         "matches": "x",
         "showticklabels": false
        },
        "xaxis67": {
         "anchor": "y67",
         "domain": [
          0.8499999999999999,
          0.8583333333333332
         ],
         "matches": "x",
         "showticklabels": false
        },
        "xaxis68": {
         "anchor": "y68",
         "domain": [
          0.8783333333333333,
          0.8866666666666666
         ],
         "matches": "x",
         "showticklabels": false
        },
        "xaxis69": {
         "anchor": "y69",
         "domain": [
          0.9066666666666666,
          0.9149999999999999
         ],
         "matches": "x",
         "showticklabels": false
        },
        "xaxis7": {
         "anchor": "y7",
         "domain": [
          0.16999999999999998,
          0.17833333333333332
         ],
         "matches": "x"
        },
        "xaxis70": {
         "anchor": "y70",
         "domain": [
          0.9349999999999999,
          0.9433333333333332
         ],
         "matches": "x",
         "showticklabels": false
        },
        "xaxis71": {
         "anchor": "y71",
         "domain": [
          0.9633333333333334,
          0.9716666666666667
         ],
         "matches": "x",
         "showticklabels": false
        },
        "xaxis72": {
         "anchor": "y72",
         "domain": [
          0.9916666666666667,
          1
         ],
         "matches": "x",
         "showticklabels": false
        },
        "xaxis8": {
         "anchor": "y8",
         "domain": [
          0.19833333333333333,
          0.20666666666666667
         ],
         "matches": "x"
        },
        "xaxis9": {
         "anchor": "y9",
         "domain": [
          0.22666666666666666,
          0.235
         ],
         "matches": "x"
        },
        "yaxis": {
         "anchor": "x",
         "domain": [
          0,
          0.46499999999999997
         ]
        },
        "yaxis10": {
         "anchor": "x10",
         "domain": [
          0,
          0.46499999999999997
         ],
         "matches": "y",
         "showticklabels": false
        },
        "yaxis11": {
         "anchor": "x11",
         "domain": [
          0,
          0.46499999999999997
         ],
         "matches": "y",
         "showticklabels": false
        },
        "yaxis12": {
         "anchor": "x12",
         "domain": [
          0,
          0.46499999999999997
         ],
         "matches": "y",
         "showticklabels": false
        },
        "yaxis13": {
         "anchor": "x13",
         "domain": [
          0,
          0.46499999999999997
         ],
         "matches": "y",
         "showticklabels": false
        },
        "yaxis14": {
         "anchor": "x14",
         "domain": [
          0,
          0.46499999999999997
         ],
         "matches": "y",
         "showticklabels": false
        },
        "yaxis15": {
         "anchor": "x15",
         "domain": [
          0,
          0.46499999999999997
         ],
         "matches": "y",
         "showticklabels": false
        },
        "yaxis16": {
         "anchor": "x16",
         "domain": [
          0,
          0.46499999999999997
         ],
         "matches": "y",
         "showticklabels": false
        },
        "yaxis17": {
         "anchor": "x17",
         "domain": [
          0,
          0.46499999999999997
         ],
         "matches": "y",
         "showticklabels": false
        },
        "yaxis18": {
         "anchor": "x18",
         "domain": [
          0,
          0.46499999999999997
         ],
         "matches": "y",
         "showticklabels": false
        },
        "yaxis19": {
         "anchor": "x19",
         "domain": [
          0,
          0.46499999999999997
         ],
         "matches": "y",
         "showticklabels": false
        },
        "yaxis2": {
         "anchor": "x2",
         "domain": [
          0,
          0.46499999999999997
         ],
         "matches": "y",
         "showticklabels": false
        },
        "yaxis20": {
         "anchor": "x20",
         "domain": [
          0,
          0.46499999999999997
         ],
         "matches": "y",
         "showticklabels": false
        },
        "yaxis21": {
         "anchor": "x21",
         "domain": [
          0,
          0.46499999999999997
         ],
         "matches": "y",
         "showticklabels": false
        },
        "yaxis22": {
         "anchor": "x22",
         "domain": [
          0,
          0.46499999999999997
         ],
         "matches": "y",
         "showticklabels": false
        },
        "yaxis23": {
         "anchor": "x23",
         "domain": [
          0,
          0.46499999999999997
         ],
         "matches": "y",
         "showticklabels": false
        },
        "yaxis24": {
         "anchor": "x24",
         "domain": [
          0,
          0.46499999999999997
         ],
         "matches": "y",
         "showticklabels": false
        },
        "yaxis25": {
         "anchor": "x25",
         "domain": [
          0,
          0.46499999999999997
         ],
         "matches": "y",
         "showticklabels": false
        },
        "yaxis26": {
         "anchor": "x26",
         "domain": [
          0,
          0.46499999999999997
         ],
         "matches": "y",
         "showticklabels": false
        },
        "yaxis27": {
         "anchor": "x27",
         "domain": [
          0,
          0.46499999999999997
         ],
         "matches": "y",
         "showticklabels": false
        },
        "yaxis28": {
         "anchor": "x28",
         "domain": [
          0,
          0.46499999999999997
         ],
         "matches": "y",
         "showticklabels": false
        },
        "yaxis29": {
         "anchor": "x29",
         "domain": [
          0,
          0.46499999999999997
         ],
         "matches": "y",
         "showticklabels": false
        },
        "yaxis3": {
         "anchor": "x3",
         "domain": [
          0,
          0.46499999999999997
         ],
         "matches": "y",
         "showticklabels": false
        },
        "yaxis30": {
         "anchor": "x30",
         "domain": [
          0,
          0.46499999999999997
         ],
         "matches": "y",
         "showticklabels": false
        },
        "yaxis31": {
         "anchor": "x31",
         "domain": [
          0,
          0.46499999999999997
         ],
         "matches": "y",
         "showticklabels": false
        },
        "yaxis32": {
         "anchor": "x32",
         "domain": [
          0,
          0.46499999999999997
         ],
         "matches": "y",
         "showticklabels": false
        },
        "yaxis33": {
         "anchor": "x33",
         "domain": [
          0,
          0.46499999999999997
         ],
         "matches": "y",
         "showticklabels": false
        },
        "yaxis34": {
         "anchor": "x34",
         "domain": [
          0,
          0.46499999999999997
         ],
         "matches": "y",
         "showticklabels": false
        },
        "yaxis35": {
         "anchor": "x35",
         "domain": [
          0,
          0.46499999999999997
         ],
         "matches": "y",
         "showticklabels": false
        },
        "yaxis36": {
         "anchor": "x36",
         "domain": [
          0,
          0.46499999999999997
         ],
         "matches": "y",
         "showticklabels": false
        },
        "yaxis37": {
         "anchor": "x37",
         "domain": [
          0.5349999999999999,
          0.9999999999999999
         ],
         "matches": "y"
        },
        "yaxis38": {
         "anchor": "x38",
         "domain": [
          0.5349999999999999,
          0.9999999999999999
         ],
         "matches": "y",
         "showticklabels": false
        },
        "yaxis39": {
         "anchor": "x39",
         "domain": [
          0.5349999999999999,
          0.9999999999999999
         ],
         "matches": "y",
         "showticklabels": false
        },
        "yaxis4": {
         "anchor": "x4",
         "domain": [
          0,
          0.46499999999999997
         ],
         "matches": "y",
         "showticklabels": false
        },
        "yaxis40": {
         "anchor": "x40",
         "domain": [
          0.5349999999999999,
          0.9999999999999999
         ],
         "matches": "y",
         "showticklabels": false
        },
        "yaxis41": {
         "anchor": "x41",
         "domain": [
          0.5349999999999999,
          0.9999999999999999
         ],
         "matches": "y",
         "showticklabels": false
        },
        "yaxis42": {
         "anchor": "x42",
         "domain": [
          0.5349999999999999,
          0.9999999999999999
         ],
         "matches": "y",
         "showticklabels": false
        },
        "yaxis43": {
         "anchor": "x43",
         "domain": [
          0.5349999999999999,
          0.9999999999999999
         ],
         "matches": "y",
         "showticklabels": false
        },
        "yaxis44": {
         "anchor": "x44",
         "domain": [
          0.5349999999999999,
          0.9999999999999999
         ],
         "matches": "y",
         "showticklabels": false
        },
        "yaxis45": {
         "anchor": "x45",
         "domain": [
          0.5349999999999999,
          0.9999999999999999
         ],
         "matches": "y",
         "showticklabels": false
        },
        "yaxis46": {
         "anchor": "x46",
         "domain": [
          0.5349999999999999,
          0.9999999999999999
         ],
         "matches": "y",
         "showticklabels": false
        },
        "yaxis47": {
         "anchor": "x47",
         "domain": [
          0.5349999999999999,
          0.9999999999999999
         ],
         "matches": "y",
         "showticklabels": false
        },
        "yaxis48": {
         "anchor": "x48",
         "domain": [
          0.5349999999999999,
          0.9999999999999999
         ],
         "matches": "y",
         "showticklabels": false
        },
        "yaxis49": {
         "anchor": "x49",
         "domain": [
          0.5349999999999999,
          0.9999999999999999
         ],
         "matches": "y",
         "showticklabels": false
        },
        "yaxis5": {
         "anchor": "x5",
         "domain": [
          0,
          0.46499999999999997
         ],
         "matches": "y",
         "showticklabels": false
        },
        "yaxis50": {
         "anchor": "x50",
         "domain": [
          0.5349999999999999,
          0.9999999999999999
         ],
         "matches": "y",
         "showticklabels": false
        },
        "yaxis51": {
         "anchor": "x51",
         "domain": [
          0.5349999999999999,
          0.9999999999999999
         ],
         "matches": "y",
         "showticklabels": false
        },
        "yaxis52": {
         "anchor": "x52",
         "domain": [
          0.5349999999999999,
          0.9999999999999999
         ],
         "matches": "y",
         "showticklabels": false
        },
        "yaxis53": {
         "anchor": "x53",
         "domain": [
          0.5349999999999999,
          0.9999999999999999
         ],
         "matches": "y",
         "showticklabels": false
        },
        "yaxis54": {
         "anchor": "x54",
         "domain": [
          0.5349999999999999,
          0.9999999999999999
         ],
         "matches": "y",
         "showticklabels": false
        },
        "yaxis55": {
         "anchor": "x55",
         "domain": [
          0.5349999999999999,
          0.9999999999999999
         ],
         "matches": "y",
         "showticklabels": false
        },
        "yaxis56": {
         "anchor": "x56",
         "domain": [
          0.5349999999999999,
          0.9999999999999999
         ],
         "matches": "y",
         "showticklabels": false
        },
        "yaxis57": {
         "anchor": "x57",
         "domain": [
          0.5349999999999999,
          0.9999999999999999
         ],
         "matches": "y",
         "showticklabels": false
        },
        "yaxis58": {
         "anchor": "x58",
         "domain": [
          0.5349999999999999,
          0.9999999999999999
         ],
         "matches": "y",
         "showticklabels": false
        },
        "yaxis59": {
         "anchor": "x59",
         "domain": [
          0.5349999999999999,
          0.9999999999999999
         ],
         "matches": "y",
         "showticklabels": false
        },
        "yaxis6": {
         "anchor": "x6",
         "domain": [
          0,
          0.46499999999999997
         ],
         "matches": "y",
         "showticklabels": false
        },
        "yaxis60": {
         "anchor": "x60",
         "domain": [
          0.5349999999999999,
          0.9999999999999999
         ],
         "matches": "y",
         "showticklabels": false
        },
        "yaxis61": {
         "anchor": "x61",
         "domain": [
          0.5349999999999999,
          0.9999999999999999
         ],
         "matches": "y",
         "showticklabels": false
        },
        "yaxis62": {
         "anchor": "x62",
         "domain": [
          0.5349999999999999,
          0.9999999999999999
         ],
         "matches": "y",
         "showticklabels": false
        },
        "yaxis63": {
         "anchor": "x63",
         "domain": [
          0.5349999999999999,
          0.9999999999999999
         ],
         "matches": "y",
         "showticklabels": false
        },
        "yaxis64": {
         "anchor": "x64",
         "domain": [
          0.5349999999999999,
          0.9999999999999999
         ],
         "matches": "y",
         "showticklabels": false
        },
        "yaxis65": {
         "anchor": "x65",
         "domain": [
          0.5349999999999999,
          0.9999999999999999
         ],
         "matches": "y",
         "showticklabels": false
        },
        "yaxis66": {
         "anchor": "x66",
         "domain": [
          0.5349999999999999,
          0.9999999999999999
         ],
         "matches": "y",
         "showticklabels": false
        },
        "yaxis67": {
         "anchor": "x67",
         "domain": [
          0.5349999999999999,
          0.9999999999999999
         ],
         "matches": "y",
         "showticklabels": false
        },
        "yaxis68": {
         "anchor": "x68",
         "domain": [
          0.5349999999999999,
          0.9999999999999999
         ],
         "matches": "y",
         "showticklabels": false
        },
        "yaxis69": {
         "anchor": "x69",
         "domain": [
          0.5349999999999999,
          0.9999999999999999
         ],
         "matches": "y",
         "showticklabels": false
        },
        "yaxis7": {
         "anchor": "x7",
         "domain": [
          0,
          0.46499999999999997
         ],
         "matches": "y",
         "showticklabels": false
        },
        "yaxis70": {
         "anchor": "x70",
         "domain": [
          0.5349999999999999,
          0.9999999999999999
         ],
         "matches": "y",
         "showticklabels": false
        },
        "yaxis71": {
         "anchor": "x71",
         "domain": [
          0.5349999999999999,
          0.9999999999999999
         ],
         "matches": "y",
         "showticklabels": false
        },
        "yaxis72": {
         "anchor": "x72",
         "domain": [
          0.5349999999999999,
          0.9999999999999999
         ],
         "matches": "y",
         "showticklabels": false
        },
        "yaxis8": {
         "anchor": "x8",
         "domain": [
          0,
          0.46499999999999997
         ],
         "matches": "y",
         "showticklabels": false
        },
        "yaxis9": {
         "anchor": "x9",
         "domain": [
          0,
          0.46499999999999997
         ],
         "matches": "y",
         "showticklabels": false
        }
       }
      }
     },
     "metadata": {},
     "output_type": "display_data"
    }
   ],
   "source": [
    "line_idx = 8\n",
    "px.imshow(\n",
    "    flatten_padded_inputs[0, convolution_indices].reshape(-1, multi_channels_kernels.shape[1], multi_channels_kernels.shape[2], 3)[nb_x_correlations * line_idx:nb_x_correlations * (line_idx + 2)],\n",
    "    facet_col=0,\n",
    "    facet_col_wrap=nb_x_correlations\n",
    ")"
   ]
  },
  {
   "cell_type": "code",
   "execution_count": 54,
   "metadata": {},
   "outputs": [
    {
     "data": {
      "application/vnd.plotly.v1+json": {
       "config": {
        "plotlyServerURL": "https://plot.ly"
       },
       "data": [
        {
         "coloraxis": "coloraxis",
         "hovertemplate": "x: %{x}<br>y: %{y}<br>color: %{z}<extra></extra>",
         "name": "0",
         "type": "heatmap",
         "xaxis": "x",
         "yaxis": "y",
         "z": [
          [
           165,
           312,
           461,
           735,
           976,
           980,
           1022,
           1107,
           1141,
           1325,
           1604,
           1857,
           2086,
           2232,
           2203,
           2121,
           2099,
           2133,
           2120,
           2133,
           2063,
           1869,
           1586,
           1235,
           851,
           525,
           293,
           198,
           190,
           274,
           414,
           478,
           423,
           398,
           302,
           129
          ],
          [
           173,
           328,
           454,
           668,
           850,
           830,
           815,
           786,
           820,
           1009,
           1236,
           1542,
           1916,
           2103,
           2051,
           2040,
           2090,
           2085,
           2085,
           2127,
           2099,
           2013,
           1930,
           1753,
           1445,
           1111,
           895,
           794,
           787,
           984,
           1259,
           1341,
           1119,
           931,
           631,
           254
          ],
          [
           97,
           215,
           339,
           467,
           583,
           584,
           495,
           415,
           404,
           455,
           554,
           734,
           868,
           800,
           690,
           704,
           685,
           657,
           661,
           697,
           711,
           763,
           914,
           1113,
           1231,
           1289,
           1378,
           1468,
           1495,
           1587,
           1720,
           1746,
           1407,
           1039,
           636,
           288
          ],
          [
           155,
           359,
           544,
           802,
           1032,
           1012,
           880,
           848,
           855,
           982,
           1176,
           1294,
           1203,
           1040,
           947,
           873,
           868,
           891,
           880,
           836,
           759,
           677,
           609,
           564,
           610,
           745,
           956,
           1199,
           1404,
           1583,
           1750,
           1781,
           1400,
           1052,
           709,
           337
          ],
          [
           325,
           630,
           966,
           1495,
           1916,
           1864,
           1798,
           1839,
           1970,
           2346,
           2730,
           2966,
           3086,
           3110,
           2988,
           2972,
           3036,
           3061,
           3021,
           2980,
           2846,
           2603,
           2249,
           1799,
           1386,
           1085,
           1001,
           1203,
           1538,
           1990,
           2443,
           2575,
           2083,
           1694,
           1183,
           540
          ],
          [
           325,
           604,
           933,
           1392,
           1727,
           1602,
           1558,
           1553,
           1644,
           1899,
           2116,
           2315,
           2508,
           2514,
           2410,
           2440,
           2505,
           2469,
           2408,
           2433,
           2444,
           2415,
           2401,
           2322,
           2156,
           1962,
           1984,
           2222,
           2560,
           3010,
           3451,
           3481,
           2863,
           2251,
           1490,
           645
          ],
          [
           343,
           685,
           1044,
           1458,
           1779,
           1684,
           1623,
           1635,
           1606,
           1625,
           1674,
           1678,
           1582,
           1389,
           1173,
           1053,
           1032,
           972,
           961,
           1059,
           1170,
           1335,
           1607,
           1899,
           2039,
           2161,
           2391,
           2663,
           2841,
           3116,
           3372,
           3394,
           2784,
           2146,
           1373,
           582
          ],
          [
           344,
           714,
           985,
           1361,
           1759,
           1746,
           1714,
           1792,
           1766,
           1669,
           1611,
           1469,
           1252,
           963,
           722,
           570,
           522,
           544,
           607,
           687,
           784,
           898,
           1029,
           1191,
           1423,
           1754,
           2156,
           2489,
           2733,
           2856,
           2926,
           3014,
           2447,
           1869,
           1307,
           723
          ],
          [
           330,
           650,
           900,
           1304,
           1778,
           1839,
           1893,
           2030,
           2053,
           1864,
           1658,
           1498,
           1292,
           991,
           845,
           843,
           875,
           922,
           957,
           1050,
           1155,
           1205,
           1241,
           1332,
           1447,
           1602,
           1800,
           2160,
           2510,
           2659,
           2807,
           3089,
           2507,
           1865,
           1384,
           773
          ],
          [
           377,
           722,
           1153,
           1657,
           2197,
           2225,
           2271,
           2262,
           2145,
           1881,
           1751,
           1649,
           1385,
           1152,
           1106,
           1117,
           1168,
           1242,
           1274,
           1301,
           1311,
           1324,
           1422,
           1497,
           1488,
           1551,
           1661,
           1843,
           2089,
           2469,
           2900,
           3175,
           2674,
           2198,
           1454,
           641
          ],
          [
           401,
           769,
           1217,
           1755,
           2315,
           2393,
           2372,
           2272,
           2077,
           1965,
           2080,
           2115,
           2049,
           2021,
           2011,
           1773,
           1638,
           1482,
           1383,
           1360,
           1382,
           1541,
           1715,
           1769,
           1672,
           1738,
           1742,
           1764,
           1992,
           2433,
           2750,
           3018,
           2738,
           2093,
           1229,
           585
          ],
          [
           378,
           770,
           1185,
           1761,
           2467,
           2700,
           2679,
           2527,
           2424,
           2409,
           2413,
           2357,
           2412,
           2444,
           2184,
           1810,
           1618,
           1477,
           1430,
           1537,
           1754,
           1985,
           2027,
           2019,
           2033,
           2064,
           2108,
           2332,
           2515,
           2530,
           2547,
           2825,
           2135,
           1356,
           970,
           602
          ],
          [
           417,
           908,
           1407,
           2074,
           2844,
           2953,
           2784,
           2639,
           2548,
           2369,
           2272,
           2294,
           2439,
           2365,
           2138,
           1962,
           1943,
           1907,
           1890,
           2069,
           2307,
           2346,
           2315,
           2340,
           2241,
           2189,
           2209,
           2284,
           2487,
           2543,
           2485,
           2384,
           1632,
           1139,
           818,
           473
          ],
          [
           447,
           1034,
           1683,
           2323,
           2924,
           2869,
           2623,
           2426,
           2268,
           2047,
           2122,
           2483,
           2610,
           2563,
           2584,
           2582,
           2459,
           2378,
           2347,
           2503,
           2509,
           2407,
           2450,
           2401,
           2123,
           1916,
           1747,
           1883,
           2231,
           2442,
           2455,
           2434,
           1988,
           1483,
           937,
           461
          ],
          [
           428,
           1121,
           1873,
           2432,
           2879,
           2943,
           2639,
           2282,
           2034,
           2010,
           2450,
           2955,
           3181,
           3366,
           3562,
           3257,
           2801,
           2500,
           2420,
           2494,
           2462,
           2564,
           2637,
           2481,
           2121,
           1918,
           2038,
           2356,
           2509,
           2515,
           2469,
           2565,
           2010,
           1399,
           907,
           531
          ],
          [
           479,
           1245,
           1992,
           2540,
           3111,
           3191,
           2771,
           2329,
           2127,
           2369,
           2805,
           3155,
           3438,
           3778,
           3687,
           3118,
           2626,
           2397,
           2285,
           2269,
           2453,
           2615,
           2363,
           2068,
           1983,
           2300,
           2531,
           2721,
           2748,
           2493,
           2131,
           1986,
           1391,
           951,
           725,
           445
          ],
          [
           519,
           1180,
           1850,
           2434,
           2963,
           2819,
           2490,
           2187,
           2071,
           2177,
           2414,
           2735,
           3148,
           3394,
           3286,
           3055,
           2723,
           2477,
           2425,
           2595,
           2689,
           2418,
           2023,
           1926,
           2227,
           2575,
           2635,
           2812,
           2723,
           2225,
           1757,
           1638,
           1249,
           1002,
           790,
           430
          ],
          [
           424,
           1045,
           1665,
           2138,
           2520,
           2441,
           2228,
           2102,
           2149,
           2145,
           2311,
           2686,
           2984,
           2980,
           3010,
           2936,
           2698,
           2526,
           2694,
           2986,
           3036,
           2724,
           2518,
           2688,
           2744,
           2450,
           2444,
           2564,
           2282,
           1779,
           1712,
           1888,
           1593,
           1312,
           1023,
           554
          ],
          [
           341,
           998,
           1690,
           2064,
           2458,
           2512,
           2345,
           2127,
           2185,
           2212,
           2547,
           3017,
           3086,
           3109,
           3110,
           2889,
           2696,
           2796,
           2950,
           3106,
           3160,
           3034,
           2926,
           2934,
           2759,
           2612,
           2572,
           2491,
           2160,
           1888,
           1809,
           2016,
           1660,
           1325,
           974,
           530
          ],
          [
           406,
           990,
           1600,
           2108,
           2552,
           2590,
           2435,
           2284,
           2124,
           2209,
           2722,
           3118,
           3188,
           3319,
           3236,
           2803,
           2627,
           2785,
           2906,
           2954,
           2960,
           2935,
           2710,
           2494,
           2482,
           2701,
           2719,
           2527,
           2312,
           2034,
           1824,
           1833,
           1474,
           1160,
           826,
           408
          ],
          [
           465,
           907,
           1418,
           2000,
           2507,
           2433,
           2495,
           2497,
           2182,
           2126,
           2463,
           2794,
           2932,
           3064,
           3126,
           2920,
           2758,
           2848,
           3024,
           3146,
           3247,
           3192,
           2821,
           2461,
           2415,
           2572,
           2462,
           2376,
           2171,
           1943,
           1840,
           1892,
           1549,
           1279,
           960,
           491
          ],
          [
           400,
           839,
           1296,
           1776,
           2263,
           2325,
           2425,
           2434,
           2460,
           2348,
           2440,
           2675,
           2863,
           2894,
           3062,
           3014,
           3007,
           3051,
           3171,
           3334,
           3618,
           3437,
           2767,
           2386,
           2412,
           2262,
           2143,
           2302,
           2251,
           2030,
           1983,
           2148,
           1744,
           1382,
           1035,
           543
          ],
          [
           331,
           746,
           1285,
           1634,
           2165,
           2334,
           2326,
           2333,
           2516,
           2462,
           2466,
           2621,
           2831,
           2976,
           3082,
           3007,
           3048,
           3119,
           3140,
           3247,
           3411,
           3017,
           2326,
           2089,
           1945,
           1925,
           2079,
           2360,
           2325,
           2192,
           2096,
           2121,
           1638,
           1243,
           841,
           440
          ],
          [
           408,
           834,
           1350,
           1773,
           2214,
           2129,
           2202,
           2314,
           2299,
           2317,
           2439,
           2412,
           2466,
           2715,
           2794,
           2579,
           2583,
           2721,
           2799,
           2893,
           2889,
           2654,
           2272,
           1866,
           1608,
           1800,
           1991,
           1995,
           1870,
           1852,
           1728,
           1583,
           1218,
           921,
           599,
           285
          ],
          [
           487,
           921,
           1381,
           1949,
           2300,
           2038,
           2103,
           2277,
           2200,
           2185,
           2499,
           2510,
           2385,
           2419,
           2421,
           2159,
           2036,
           2117,
           2307,
           2449,
           2579,
           2642,
           2361,
           1932,
           1791,
           1847,
           1840,
           1769,
           1736,
           1747,
           1688,
           1576,
           1253,
           955,
           620,
           300
          ],
          [
           471,
           877,
           1312,
           1839,
           2342,
           2234,
           2126,
           2076,
           2127,
           2239,
           2467,
           2747,
           2961,
           2923,
           2647,
           2233,
           1908,
           1783,
           1966,
           2045,
           2177,
           2173,
           1986,
           1725,
           1735,
           1762,
           1812,
           1877,
           1881,
           1842,
           1862,
           1875,
           1553,
           1149,
           745,
           381
          ],
          [
           514,
           990,
           1365,
           1777,
           2363,
           2391,
           2256,
           2149,
           2133,
           2086,
           2070,
           2334,
           2780,
           3044,
           2903,
           2449,
           2036,
           1766,
           1747,
           1764,
           1838,
           1834,
           1781,
           1639,
           1591,
           1659,
           1703,
           1675,
           1615,
           1543,
           1488,
           1539,
           1223,
           866,
           558,
           283
          ],
          [
           582,
           1120,
           1519,
           1850,
           2193,
           2053,
           2032,
           2160,
           2101,
           1987,
           1826,
           1742,
           1878,
           2126,
           2238,
           2110,
           1980,
           1809,
           1789,
           1838,
           1939,
           1999,
           1925,
           1754,
           1612,
           1557,
           1413,
           1263,
           1151,
           1087,
           1071,
           1065,
           835,
           618,
           407,
           211
          ],
          [
           619,
           1181,
           1728,
           2090,
           2385,
           1994,
           1855,
           1882,
           1964,
           1965,
           1919,
           1688,
           1453,
           1270,
           1157,
           1143,
           1136,
           1183,
           1409,
           1516,
           1678,
           1919,
           1963,
           1908,
           1897,
           1749,
           1642,
           1584,
           1496,
           1500,
           1554,
           1539,
           1252,
           954,
           669,
           357
          ],
          [
           681,
           1327,
           1937,
           2425,
           2953,
           2661,
           2310,
           2129,
           2161,
           2157,
           2076,
           2022,
           1858,
           1541,
           1236,
           1121,
           1016,
           1096,
           1355,
           1503,
           1682,
           2072,
           2327,
           2431,
           2525,
           2425,
           2280,
           2130,
           2078,
           2014,
           2100,
           2156,
           1819,
           1423,
           977,
           494
          ],
          [
           714,
           1394,
           2023,
           2595,
           3128,
           2883,
           2661,
           2411,
           2230,
           2173,
           2097,
           2057,
           2060,
           2078,
           2090,
           2091,
           2047,
           1944,
           1971,
           2003,
           2100,
           2323,
           2535,
           2568,
           2526,
           2372,
           2072,
           1925,
           1922,
           1958,
           2007,
           2118,
           1795,
           1338,
           847,
           405
          ],
          [
           643,
           1251,
           1871,
           2467,
           2875,
           2584,
           2379,
           2176,
           1994,
           1964,
           1909,
           1823,
           1864,
           1966,
           2113,
           2269,
           2317,
           2275,
           2168,
           2083,
           2126,
           2160,
           2118,
           2097,
           1986,
           1819,
           1686,
           1671,
           1735,
           1811,
           1870,
           1981,
           1637,
           1203,
           778,
           389
          ],
          [
           321,
           635,
           1046,
           1348,
           1579,
           1450,
           1340,
           1215,
           1193,
           1097,
           945,
           770,
           596,
           476,
           501,
           529,
           570,
           611,
           625,
           580,
           709,
           853,
           935,
           1024,
           1077,
           1020,
           963,
           905,
           759,
           667,
           675,
           738,
           614,
           506,
           367,
           193
          ],
          [
           426,
           848,
           1256,
           1511,
           1810,
           1735,
           1653,
           1645,
           1644,
           1506,
           1341,
           1180,
           960,
           845,
           865,
           937,
           949,
           965,
           976,
           915,
           925,
           1075,
           1131,
           1179,
           1285,
           1212,
           1074,
           963,
           852,
           831,
           930,
           1082,
           943,
           788,
           543,
           297
          ],
          [
           542,
           1068,
           1455,
           1775,
           2047,
           1887,
           1821,
           1808,
           1813,
           1818,
           1764,
           1701,
           1681,
           1694,
           1808,
           1959,
           1989,
           1927,
           1820,
           1654,
           1530,
           1464,
           1346,
           1260,
           1218,
           1096,
           967,
           978,
           1113,
           1289,
           1511,
           1725,
           1453,
           1105,
           751,
           375
          ],
          [
           406,
           702,
           948,
           1186,
           1365,
           1200,
           1118,
           1070,
           1067,
           1107,
           1127,
           1159,
           1241,
           1311,
           1387,
           1475,
           1501,
           1470,
           1357,
           1230,
           1125,
           999,
           861,
           772,
           704,
           661,
           661,
           772,
           944,
           1107,
           1259,
           1365,
           1089,
           819,
           546,
           264
          ]
         ]
        },
        {
         "coloraxis": "coloraxis",
         "hovertemplate": "x: %{x}<br>y: %{y}<br>color: %{z}<extra></extra>",
         "name": "1",
         "type": "heatmap",
         "xaxis": "x2",
         "yaxis": "y2",
         "z": [
          [
           106.5,
           201.5,
           265,
           410,
           537,
           514.5,
           467.5,
           482,
           576,
           748.5,
           935,
           1063,
           1083,
           1046.5,
           1009,
           1024,
           1032,
           1045,
           1044,
           1015,
           954,
           853,
           669,
           457.5,
           285.5,
           172.5,
           117,
           104.5,
           102,
           151.5,
           239,
           273.5,
           201,
           130.5,
           75,
           29
          ],
          [
           266.5,
           462.5,
           624,
           928,
           1184,
           1143.5,
           1037.5,
           1077.5,
           1287.5,
           1694.5,
           2133,
           2471.5,
           2629.5,
           2647.5,
           2580.5,
           2594.5,
           2617.5,
           2648,
           2627.5,
           2570,
           2461.5,
           2280,
           1962,
           1544.5,
           1088.5,
           727.5,
           567.5,
           572.5,
           619.5,
           801,
           1023.5,
           1074.5,
           780.5,
           514.5,
           309,
           139.5
          ],
          [
           485.5,
           798.5,
           1098,
           1656.5,
           1908.5,
           1795.5,
           1691.5,
           1703.5,
           2064,
           2731.5,
           3358,
           3818,
           4090,
           4197.5,
           4042.5,
           4033.5,
           4105,
           4097,
           4039.5,
           3994.5,
           3845,
           3598,
           3225.5,
           2751,
           2185,
           1667,
           1493,
           1584.5,
           1708,
           2053,
           2367,
           2337,
           1666.5,
           1143,
           657,
           285.5
          ],
          [
           756,
           1175.5,
           1596.5,
           2344,
           2529.5,
           2340.5,
           2215.5,
           2228.5,
           2691,
           3363,
           3885,
           4367,
           4696,
           4764.5,
           4565,
           4617,
           4690.5,
           4632.5,
           4579,
           4563.5,
           4407.5,
           4178,
           3852,
           3442.5,
           2944.5,
           2523.5,
           2536.5,
           2808,
           3032.5,
           3556.5,
           3911.5,
           3735.5,
           2599.5,
           1847.5,
           1051,
           447
          ],
          [
           1077,
           1597,
           2108.5,
           3087,
           3215,
           2868.5,
           2701,
           2795,
           3367.5,
           3938,
           4191.5,
           4539,
           4769,
           4772,
           4560.5,
           4661,
           4710.5,
           4594,
           4570,
           4604,
           4445.5,
           4242.5,
           3967,
           3618.5,
           3289,
           3119.5,
           3472,
           3970.5,
           4242.5,
           4930,
           5389.5,
           5154,
           3425,
           2503,
           1472,
           647.5
          ],
          [
           1104.5,
           1683,
           2121,
           2880.5,
           3069,
           2703,
           2463.5,
           2485.5,
           2899.5,
           3101,
           2970.5,
           3076,
           3091.5,
           2909.5,
           2722.5,
           2809,
           2825.5,
           2709.5,
           2682,
           2786.5,
           2810,
           2823.5,
           2920.5,
           2914,
           2936.5,
           3202,
           4044.5,
           4833,
           5146,
           5801.5,
           6263,
           6075,
           3958.5,
           2935.5,
           1766,
           794.5
          ],
          [
           1106,
           1666,
           2097,
           2777,
           3074.5,
           2769,
           2577,
           2641.5,
           2776.5,
           2641,
           2358,
           2171.5,
           1859.5,
           1464.5,
           1213.5,
           1186,
           1165,
           1081.5,
           1078,
           1213,
           1325.5,
           1448,
           1725.5,
           2058,
           2438,
           2951.5,
           3885,
           4776,
           5203.5,
           5780.5,
           6280,
           6252,
           4029.5,
           3040.5,
           1891,
           857.5
          ],
          [
           1087.5,
           1503.5,
           1926,
           2660,
           3099,
           2911,
           2820,
           2969.5,
           2989,
           2780.5,
           2477.5,
           2078,
           1618.5,
           1144.5,
           850.5,
           700,
           682,
           676.5,
           716,
           816.5,
           941.5,
           1095,
           1301.5,
           1559,
           2107.5,
           2758.5,
           3563,
           4222,
           4565,
           5141.5,
           5746.5,
           5910.5,
           3804.5,
           2969,
           1895.5,
           868.5
          ],
          [
           1025,
           1237,
           1742,
           2562,
           3189.5,
           3124,
           3187,
           3390.5,
           3376,
           3148,
           2867.5,
           2413,
           1955.5,
           1459,
           1125,
           1006.5,
           1031.5,
           1063,
           1110.5,
           1302.5,
           1513,
           1747.5,
           1929.5,
           2065.5,
           2474.5,
           2955,
           3457,
           3828.5,
           4151.5,
           4598,
           5112,
           5334,
           3467.5,
           2792.5,
           1765,
           868
          ],
          [
           1040,
           1185,
           1818,
           2814.5,
           3618,
           3509.5,
           3640,
           3871,
           3793.5,
           3484.5,
           3244,
           2795,
           2401,
           1906,
           1615.5,
           1544,
           1619,
           1707,
           1772.5,
           2031.5,
           2295.5,
           2601,
           2781,
           2888.5,
           3112,
           3444,
           3593.5,
           3555.5,
           3875.5,
           4221.5,
           4588.5,
           4870,
           3145.5,
           2530,
           1652.5,
           840.5
          ],
          [
           1143.5,
           1443,
           2128,
           3299.5,
           4225.5,
           3992.5,
           4033.5,
           4208.5,
           4086,
           3699.5,
           3602,
           3336.5,
           3092.5,
           2764.5,
           2621.5,
           2484,
           2501.5,
           2524.5,
           2570,
           2929.5,
           3210,
           3514,
           3666,
           3627.5,
           3464,
           3558,
           3361.5,
           3237,
           3611.5,
           3988.5,
           4350,
           4736.5,
           2918.5,
           2337,
           1579,
           800.5
          ],
          [
           1259,
           1860,
           2686.5,
           3923.5,
           4855,
           4560.5,
           4477.5,
           4391.5,
           4145,
           3801,
           3959.5,
           3999.5,
           3885,
           3751.5,
           3791.5,
           3565,
           3443.5,
           3356,
           3325.5,
           3735,
           3945.5,
           4137.5,
           4113,
           3922,
           3628,
           3518,
           3146.5,
           3298,
           3833.5,
           4148.5,
           4408.5,
           4895.5,
           2890.5,
           2248,
           1434.5,
           777.5
          ],
          [
           1435.5,
           2352,
           3373.5,
           4490,
           5369.5,
           5053.5,
           4727.5,
           4356.5,
           4036.5,
           3859.5,
           4326,
           4616.5,
           4684.5,
           4705,
           4784.5,
           4424.5,
           4183,
           3859,
           3738.5,
           4196,
           4321.5,
           4432,
           4142,
           3783.5,
           3386,
           3210.5,
           3025.5,
           3612,
           4312,
           4543,
           4439,
           4854.5,
           2906,
           2062.5,
           1236,
           677
          ],
          [
           1586,
           2790.5,
           3977,
           4794.5,
           5536,
           5256,
           4632,
           4100,
           3780.5,
           3925.5,
           4616,
           4894,
           5116,
           5260.5,
           5238.5,
           4731.5,
           4390,
           3973,
           3874,
           4207.5,
           4237.5,
           4254,
           3675.5,
           3335.5,
           3008.5,
           3035.5,
           3231.5,
           4076.5,
           4643.5,
           4798,
           4456,
           4492.5,
           2664,
           1871,
           1136,
           571.5
          ],
          [
           1551,
           2945,
           4080.5,
           4702,
           5234,
           5027,
           4230,
           3717.5,
           3600.5,
           4029.5,
           4753,
           5094,
           5562,
           5580.5,
           5248.5,
           4640.5,
           4167.5,
           3770.5,
           3724.5,
           4099,
           4119,
           3815,
           3254,
           3231,
           3185.5,
           3444.5,
           3743.5,
           4543.5,
           4862,
           4470,
           3898.5,
           3944,
           2288.5,
           1589,
           983.5,
           538.5
          ],
          [
           1452.5,
           2890,
           3910.5,
           4460.5,
           4916,
           4747,
           3918.5,
           3457,
           3543,
           4167.5,
           4718,
           5181,
           5654,
           5455.5,
           4900.5,
           4363.5,
           3845.5,
           3578,
           3674,
           4092,
           4055.5,
           3550,
           3248.5,
           3477.5,
           3720,
           3940.5,
           4289.5,
           4746.5,
           4278.5,
           3497,
           3209,
           3350.5,
           1933.5,
           1362,
           886,
           509
          ],
          [
           1400,
           2757.5,
           3688,
           4198.5,
           4572,
           4269,
           3622.5,
           3367.5,
           3413.5,
           3845,
           4535,
           5428.5,
           5733,
           5656.5,
           5140,
           4557,
           4043.5,
           3788.5,
           3977,
           4370.5,
           4097,
           3646.5,
           3708,
           3931.5,
           4341.5,
           4600.5,
           4611,
           4189.5,
           3510.5,
           2960.5,
           2861,
           3044.5,
           1937.5,
           1483,
           1008.5,
           531.5
          ],
          [
           1334.5,
           2606.5,
           3414.5,
           3871.5,
           4310,
           4039.5,
           3614.5,
           3565.5,
           3487,
           3651.5,
           4586.5,
           5715,
           5822,
           5937,
           5547,
           4924,
           4443,
           4275.5,
           4522.5,
           4762,
           4409.5,
           4239.5,
           4301.5,
           4432.5,
           4770,
           4629.5,
           4328.5,
           3867,
           3258.5,
           2731.5,
           2963.5,
           3393.5,
           2190.5,
           1761,
           1248,
           656
          ],
          [
           1314,
           2457,
           3298.5,
           3801.5,
           4308,
           4142.5,
           3879.5,
           3814,
           3600,
           3728,
           4734,
           5657,
           5669,
           5840,
           5763.5,
           5253.5,
           4970.5,
           4983.5,
           5190.5,
           5271,
           5022.5,
           4961,
           4766.5,
           4719,
           4798.5,
           4726,
           4399.5,
           4016.5,
           3434,
           2975,
           3365,
           3849.5,
           2402.5,
           1983,
           1404.5,
           737.5
          ],
          [
           1351,
           2239,
           3188,
           3760.5,
           4466,
           4193,
           4043,
           4025,
           3847.5,
           3987,
           4711,
           5288.5,
           5176,
           5288.5,
           5523,
           5205,
           5247,
           5511,
           5664.5,
           5749.5,
           5709,
           5497.5,
           4604.5,
           4531.5,
           4851,
           4892.5,
           4346.5,
           4286,
           3873.5,
           3444.5,
           3750.5,
           4057,
           2459.5,
           2079,
           1451.5,
           727.5
          ],
          [
           1286.5,
           1972.5,
           3055.5,
           3669,
           4470.5,
           4166.5,
           4181,
           4182.5,
           3982.5,
           3844,
           4366,
           4828,
           4656.5,
           4554,
           4895.5,
           4800,
           5174,
           5702,
           5968.5,
           6269.5,
           6234,
           5458.5,
           4429,
           4679,
           4702.5,
           4630,
           4375,
           4603.5,
           4198.5,
           3824.5,
           4068,
           4159.5,
           2388,
           2020,
           1430.5,
           691.5
          ],
          [
           1140.5,
           1872.5,
           2900,
           3441,
           4306,
           4111.5,
           4248.5,
           4208,
           4061,
           3896,
           4405,
           4545.5,
           4545.5,
           4381.5,
           4507.5,
           4276.5,
           4822,
           5586.5,
           5937,
           6353.5,
           6323.5,
           5277.5,
           4326.5,
           4385,
           4295.5,
           4346,
           4245,
           4507,
           4205,
           3997.5,
           4001.5,
           3935.5,
           2232,
           1826,
           1266,
           630.5
          ],
          [
           1076,
           1710,
           2726.5,
           3224.5,
           4018.5,
           4012.5,
           4204,
           4219,
           4008,
           4019,
           4602,
           4642.5,
           4853.5,
           4948.5,
           4736,
           4148.5,
           4578.5,
           5316,
           5539,
           5816.5,
           5670.5,
           4710.5,
           3831,
           3641,
           3583,
           3838.5,
           3763.5,
           4034.5,
           3824,
           3759.5,
           3462.5,
           3373.5,
           2037.5,
           1577.5,
           1023,
           516.5
          ],
          [
           1189.5,
           1650,
           2436,
           3124,
           3649.5,
           3788.5,
           4116,
           4206,
           3976,
           4107,
           4680.5,
           4770.5,
           5259.5,
           5676.5,
           5310.5,
           4281,
           4301.5,
           4838,
           5068.5,
           5038.5,
           4639.5,
           3952.5,
           3385,
           2965,
           2837,
           3144.5,
           3210.5,
           3232.5,
           3053,
           3074.5,
           2827,
           2744,
           1755,
           1358.5,
           855.5,
           424.5
          ],
          [
           1370,
           1763,
           2290,
           3022.5,
           3477,
           3562.5,
           3868,
           4136,
           4100.5,
           4077.5,
           4506,
           4768,
           5376.5,
           5816.5,
           5481.5,
           4356.5,
           4141.5,
           4317.5,
           4553.5,
           4292,
           4061.5,
           3649,
           3037.5,
           2546.5,
           2411.5,
           2534.5,
           2620.5,
           2582.5,
           2479.5,
           2555.5,
           2523,
           2548.5,
           1628.5,
           1279.5,
           836.5,
           409
          ],
          [
           1537.5,
           2042.5,
           2441.5,
           2971.5,
           3598.5,
           3480.5,
           3481,
           3866,
           4066,
           4074.5,
           4222.5,
           4476,
           5093.5,
           5257.5,
           4907,
           3937.5,
           3666,
           3668,
           3949,
           3710,
           3508,
           3274,
           2867.5,
           2559,
           2411,
           2351,
           2441,
           2523,
           2521.5,
           2564.5,
           2663,
           2731,
           1754,
           1354.5,
           884,
           440.5
          ],
          [
           1768.5,
           2383,
           2849,
           3258,
           3918,
           3514,
           3246.5,
           3541,
           3690.5,
           3816.5,
           3719.5,
           3851.5,
           4307.5,
           4254,
           3851.5,
           3076,
           2840.5,
           2938.5,
           3318.5,
           3269.5,
           3154.5,
           3265,
           3189.5,
           2946.5,
           2792,
           2724.5,
           2780,
           2752,
           2832,
           2863,
           2904,
           2868,
           1878,
           1401.5,
           887,
           434
          ],
          [
           2013,
           2658,
           3273.5,
           3636,
           4046.5,
           3479,
           3276.5,
           3350.5,
           3159,
           3281.5,
           3117,
           3113.5,
           3390,
           3144,
           2747.5,
           2304.5,
           2155.5,
           2391,
           2914.5,
           2944.5,
           3101.5,
           3565.5,
           3657.5,
           3541,
           3387.5,
           3252.5,
           3183,
           2989.5,
           3065,
           3042,
           2974,
           2860.5,
           1893.5,
           1377.5,
           832.5,
           387
          ],
          [
           2082,
           2796,
           3552,
           3945.5,
           4227.5,
           3550.5,
           3315,
           3262.5,
           3020,
           2898,
           2724.5,
           2672.5,
           2682,
           2420.5,
           2140,
           1921.5,
           1771,
           1981.5,
           2574,
           2665.5,
           3089,
           3755,
           4008.5,
           4022.5,
           3891,
           3664.5,
           3511.5,
           3237,
           3282,
           3097.5,
           3005,
           2895,
           1899.5,
           1380.5,
           848,
           405.5
          ],
          [
           2026.5,
           2775,
           3699.5,
           4149,
           4553,
           4012.5,
           3579,
           3312,
           3312.5,
           3163.5,
           2718,
           2588,
           2539,
           2429,
           2267.5,
           2138.5,
           1990,
           2044.5,
           2523,
           2608.5,
           3078,
           3761.5,
           4101.5,
           4191,
           4140,
           3801.5,
           3462.5,
           3203.5,
           3222,
           2963.5,
           2858,
           2912,
           1954.5,
           1432.5,
           877.5,
           450.5
          ],
          [
           2039,
           2815.5,
           3832,
           4301.5,
           4800.5,
           4516.5,
           4192,
           3827.5,
           3644.5,
           3551.5,
           3179,
           2882.5,
           2741,
           2738,
           2836.5,
           2804,
           2643,
           2570,
           2747.5,
           2840.5,
           3222,
           3730.5,
           3983,
           4116,
           3999,
           3638.5,
           3161,
           2980.5,
           2943,
           2758,
           2678,
           2929.5,
           2041,
           1507.5,
           910.5,
           487.5
          ],
          [
           2058,
           2902.5,
           3983,
           4441,
           4961,
           4682,
           4533.5,
           4381.5,
           4137,
           3889.5,
           3622,
           3392,
           3252,
           3194,
           3397.5,
           3471.5,
           3434,
           3380.5,
           3315.5,
           3192,
           3461.5,
           3704,
           3649.5,
           3737.5,
           3611.5,
           3255,
           2966,
           2794.5,
           2794,
           2884,
           3029,
           3387.5,
           2318.5,
           1783,
           1115.5,
           572.5
          ],
          [
           2007.5,
           2644.5,
           3631,
           4069,
           4625.5,
           4231.5,
           4089.5,
           4088,
           4008,
           3791,
           3490.5,
           3271,
           3125.5,
           3114.5,
           3361.5,
           3439,
           3372,
           3379,
           3241,
           2944.5,
           3091,
           3174.5,
           2944.5,
           3019.5,
           2995,
           2675.5,
           2555,
           2460,
           2550.5,
           2845,
           3153,
           3539,
           2265,
           1867,
           1219.5,
           607.5
          ],
          [
           1887,
           2307,
           2885.5,
           3393.5,
           3803.5,
           3489.5,
           3329,
           3322.5,
           3303.5,
           3198.5,
           3001.5,
           2909.5,
           2763.5,
           2795,
           3056,
           3210,
           3116,
           3068.5,
           2915,
           2627,
           2617,
           2679.5,
           2375,
           2349,
           2413.5,
           2142.5,
           2031.5,
           2044,
           2267,
           2606.5,
           2916.5,
           3210,
           1914.5,
           1628.5,
           1101.5,
           503
          ],
          [
           1370,
           1563.5,
           1899,
           2185,
           2346,
           2181,
           2204.5,
           2141,
           2120.5,
           2048,
           1962,
           2086.5,
           2138,
           2141,
           2339.5,
           2482,
           2494,
           2377.5,
           2139,
           1947.5,
           1863.5,
           1794,
           1525.5,
           1379.5,
           1370.5,
           1222.5,
           1140,
           1343.5,
           1613.5,
           1853,
           2069,
           2246,
           1292,
           1128.5,
           773,
           370.5
          ],
          [
           743.5,
           794.5,
           870,
           1017,
           1048,
           906.5,
           945,
           908.5,
           923.5,
           910,
           872,
           997.5,
           1097.5,
           1135.5,
           1201,
           1238.5,
           1273.5,
           1233,
           1040,
           957,
           902,
           785.5,
           668,
           587.5,
           558.5,
           557,
           573.5,
           773,
           922.5,
           1005.5,
           1100,
           1144.5,
           605,
           515,
           374,
           180.5
          ]
         ]
        }
       ],
       "layout": {
        "annotations": [
         {
          "font": {},
          "showarrow": false,
          "text": "facet_col=0",
          "x": 0.245,
          "xanchor": "center",
          "xref": "paper",
          "y": 1,
          "yanchor": "bottom",
          "yref": "paper"
         },
         {
          "font": {},
          "showarrow": false,
          "text": "facet_col=1",
          "x": 0.755,
          "xanchor": "center",
          "xref": "paper",
          "y": 1,
          "yanchor": "bottom",
          "yref": "paper"
         }
        ],
        "coloraxis": {
         "colorscale": [
          [
           0,
           "#0d0887"
          ],
          [
           0.1111111111111111,
           "#46039f"
          ],
          [
           0.2222222222222222,
           "#7201a8"
          ],
          [
           0.3333333333333333,
           "#9c179e"
          ],
          [
           0.4444444444444444,
           "#bd3786"
          ],
          [
           0.5555555555555556,
           "#d8576b"
          ],
          [
           0.6666666666666666,
           "#ed7953"
          ],
          [
           0.7777777777777778,
           "#fb9f3a"
          ],
          [
           0.8888888888888888,
           "#fdca26"
          ],
          [
           1,
           "#f0f921"
          ]
         ]
        },
        "margin": {
         "t": 60
        },
        "template": {
         "data": {
          "bar": [
           {
            "error_x": {
             "color": "#2a3f5f"
            },
            "error_y": {
             "color": "#2a3f5f"
            },
            "marker": {
             "line": {
              "color": "#E5ECF6",
              "width": 0.5
             },
             "pattern": {
              "fillmode": "overlay",
              "size": 10,
              "solidity": 0.2
             }
            },
            "type": "bar"
           }
          ],
          "barpolar": [
           {
            "marker": {
             "line": {
              "color": "#E5ECF6",
              "width": 0.5
             },
             "pattern": {
              "fillmode": "overlay",
              "size": 10,
              "solidity": 0.2
             }
            },
            "type": "barpolar"
           }
          ],
          "carpet": [
           {
            "aaxis": {
             "endlinecolor": "#2a3f5f",
             "gridcolor": "white",
             "linecolor": "white",
             "minorgridcolor": "white",
             "startlinecolor": "#2a3f5f"
            },
            "baxis": {
             "endlinecolor": "#2a3f5f",
             "gridcolor": "white",
             "linecolor": "white",
             "minorgridcolor": "white",
             "startlinecolor": "#2a3f5f"
            },
            "type": "carpet"
           }
          ],
          "choropleth": [
           {
            "colorbar": {
             "outlinewidth": 0,
             "ticks": ""
            },
            "type": "choropleth"
           }
          ],
          "contour": [
           {
            "colorbar": {
             "outlinewidth": 0,
             "ticks": ""
            },
            "colorscale": [
             [
              0,
              "#0d0887"
             ],
             [
              0.1111111111111111,
              "#46039f"
             ],
             [
              0.2222222222222222,
              "#7201a8"
             ],
             [
              0.3333333333333333,
              "#9c179e"
             ],
             [
              0.4444444444444444,
              "#bd3786"
             ],
             [
              0.5555555555555556,
              "#d8576b"
             ],
             [
              0.6666666666666666,
              "#ed7953"
             ],
             [
              0.7777777777777778,
              "#fb9f3a"
             ],
             [
              0.8888888888888888,
              "#fdca26"
             ],
             [
              1,
              "#f0f921"
             ]
            ],
            "type": "contour"
           }
          ],
          "contourcarpet": [
           {
            "colorbar": {
             "outlinewidth": 0,
             "ticks": ""
            },
            "type": "contourcarpet"
           }
          ],
          "heatmap": [
           {
            "colorbar": {
             "outlinewidth": 0,
             "ticks": ""
            },
            "colorscale": [
             [
              0,
              "#0d0887"
             ],
             [
              0.1111111111111111,
              "#46039f"
             ],
             [
              0.2222222222222222,
              "#7201a8"
             ],
             [
              0.3333333333333333,
              "#9c179e"
             ],
             [
              0.4444444444444444,
              "#bd3786"
             ],
             [
              0.5555555555555556,
              "#d8576b"
             ],
             [
              0.6666666666666666,
              "#ed7953"
             ],
             [
              0.7777777777777778,
              "#fb9f3a"
             ],
             [
              0.8888888888888888,
              "#fdca26"
             ],
             [
              1,
              "#f0f921"
             ]
            ],
            "type": "heatmap"
           }
          ],
          "heatmapgl": [
           {
            "colorbar": {
             "outlinewidth": 0,
             "ticks": ""
            },
            "colorscale": [
             [
              0,
              "#0d0887"
             ],
             [
              0.1111111111111111,
              "#46039f"
             ],
             [
              0.2222222222222222,
              "#7201a8"
             ],
             [
              0.3333333333333333,
              "#9c179e"
             ],
             [
              0.4444444444444444,
              "#bd3786"
             ],
             [
              0.5555555555555556,
              "#d8576b"
             ],
             [
              0.6666666666666666,
              "#ed7953"
             ],
             [
              0.7777777777777778,
              "#fb9f3a"
             ],
             [
              0.8888888888888888,
              "#fdca26"
             ],
             [
              1,
              "#f0f921"
             ]
            ],
            "type": "heatmapgl"
           }
          ],
          "histogram": [
           {
            "marker": {
             "pattern": {
              "fillmode": "overlay",
              "size": 10,
              "solidity": 0.2
             }
            },
            "type": "histogram"
           }
          ],
          "histogram2d": [
           {
            "colorbar": {
             "outlinewidth": 0,
             "ticks": ""
            },
            "colorscale": [
             [
              0,
              "#0d0887"
             ],
             [
              0.1111111111111111,
              "#46039f"
             ],
             [
              0.2222222222222222,
              "#7201a8"
             ],
             [
              0.3333333333333333,
              "#9c179e"
             ],
             [
              0.4444444444444444,
              "#bd3786"
             ],
             [
              0.5555555555555556,
              "#d8576b"
             ],
             [
              0.6666666666666666,
              "#ed7953"
             ],
             [
              0.7777777777777778,
              "#fb9f3a"
             ],
             [
              0.8888888888888888,
              "#fdca26"
             ],
             [
              1,
              "#f0f921"
             ]
            ],
            "type": "histogram2d"
           }
          ],
          "histogram2dcontour": [
           {
            "colorbar": {
             "outlinewidth": 0,
             "ticks": ""
            },
            "colorscale": [
             [
              0,
              "#0d0887"
             ],
             [
              0.1111111111111111,
              "#46039f"
             ],
             [
              0.2222222222222222,
              "#7201a8"
             ],
             [
              0.3333333333333333,
              "#9c179e"
             ],
             [
              0.4444444444444444,
              "#bd3786"
             ],
             [
              0.5555555555555556,
              "#d8576b"
             ],
             [
              0.6666666666666666,
              "#ed7953"
             ],
             [
              0.7777777777777778,
              "#fb9f3a"
             ],
             [
              0.8888888888888888,
              "#fdca26"
             ],
             [
              1,
              "#f0f921"
             ]
            ],
            "type": "histogram2dcontour"
           }
          ],
          "mesh3d": [
           {
            "colorbar": {
             "outlinewidth": 0,
             "ticks": ""
            },
            "type": "mesh3d"
           }
          ],
          "parcoords": [
           {
            "line": {
             "colorbar": {
              "outlinewidth": 0,
              "ticks": ""
             }
            },
            "type": "parcoords"
           }
          ],
          "pie": [
           {
            "automargin": true,
            "type": "pie"
           }
          ],
          "scatter": [
           {
            "fillpattern": {
             "fillmode": "overlay",
             "size": 10,
             "solidity": 0.2
            },
            "type": "scatter"
           }
          ],
          "scatter3d": [
           {
            "line": {
             "colorbar": {
              "outlinewidth": 0,
              "ticks": ""
             }
            },
            "marker": {
             "colorbar": {
              "outlinewidth": 0,
              "ticks": ""
             }
            },
            "type": "scatter3d"
           }
          ],
          "scattercarpet": [
           {
            "marker": {
             "colorbar": {
              "outlinewidth": 0,
              "ticks": ""
             }
            },
            "type": "scattercarpet"
           }
          ],
          "scattergeo": [
           {
            "marker": {
             "colorbar": {
              "outlinewidth": 0,
              "ticks": ""
             }
            },
            "type": "scattergeo"
           }
          ],
          "scattergl": [
           {
            "marker": {
             "colorbar": {
              "outlinewidth": 0,
              "ticks": ""
             }
            },
            "type": "scattergl"
           }
          ],
          "scattermapbox": [
           {
            "marker": {
             "colorbar": {
              "outlinewidth": 0,
              "ticks": ""
             }
            },
            "type": "scattermapbox"
           }
          ],
          "scatterpolar": [
           {
            "marker": {
             "colorbar": {
              "outlinewidth": 0,
              "ticks": ""
             }
            },
            "type": "scatterpolar"
           }
          ],
          "scatterpolargl": [
           {
            "marker": {
             "colorbar": {
              "outlinewidth": 0,
              "ticks": ""
             }
            },
            "type": "scatterpolargl"
           }
          ],
          "scatterternary": [
           {
            "marker": {
             "colorbar": {
              "outlinewidth": 0,
              "ticks": ""
             }
            },
            "type": "scatterternary"
           }
          ],
          "surface": [
           {
            "colorbar": {
             "outlinewidth": 0,
             "ticks": ""
            },
            "colorscale": [
             [
              0,
              "#0d0887"
             ],
             [
              0.1111111111111111,
              "#46039f"
             ],
             [
              0.2222222222222222,
              "#7201a8"
             ],
             [
              0.3333333333333333,
              "#9c179e"
             ],
             [
              0.4444444444444444,
              "#bd3786"
             ],
             [
              0.5555555555555556,
              "#d8576b"
             ],
             [
              0.6666666666666666,
              "#ed7953"
             ],
             [
              0.7777777777777778,
              "#fb9f3a"
             ],
             [
              0.8888888888888888,
              "#fdca26"
             ],
             [
              1,
              "#f0f921"
             ]
            ],
            "type": "surface"
           }
          ],
          "table": [
           {
            "cells": {
             "fill": {
              "color": "#EBF0F8"
             },
             "line": {
              "color": "white"
             }
            },
            "header": {
             "fill": {
              "color": "#C8D4E3"
             },
             "line": {
              "color": "white"
             }
            },
            "type": "table"
           }
          ]
         },
         "layout": {
          "annotationdefaults": {
           "arrowcolor": "#2a3f5f",
           "arrowhead": 0,
           "arrowwidth": 1
          },
          "autotypenumbers": "strict",
          "coloraxis": {
           "colorbar": {
            "outlinewidth": 0,
            "ticks": ""
           }
          },
          "colorscale": {
           "diverging": [
            [
             0,
             "#8e0152"
            ],
            [
             0.1,
             "#c51b7d"
            ],
            [
             0.2,
             "#de77ae"
            ],
            [
             0.3,
             "#f1b6da"
            ],
            [
             0.4,
             "#fde0ef"
            ],
            [
             0.5,
             "#f7f7f7"
            ],
            [
             0.6,
             "#e6f5d0"
            ],
            [
             0.7,
             "#b8e186"
            ],
            [
             0.8,
             "#7fbc41"
            ],
            [
             0.9,
             "#4d9221"
            ],
            [
             1,
             "#276419"
            ]
           ],
           "sequential": [
            [
             0,
             "#0d0887"
            ],
            [
             0.1111111111111111,
             "#46039f"
            ],
            [
             0.2222222222222222,
             "#7201a8"
            ],
            [
             0.3333333333333333,
             "#9c179e"
            ],
            [
             0.4444444444444444,
             "#bd3786"
            ],
            [
             0.5555555555555556,
             "#d8576b"
            ],
            [
             0.6666666666666666,
             "#ed7953"
            ],
            [
             0.7777777777777778,
             "#fb9f3a"
            ],
            [
             0.8888888888888888,
             "#fdca26"
            ],
            [
             1,
             "#f0f921"
            ]
           ],
           "sequentialminus": [
            [
             0,
             "#0d0887"
            ],
            [
             0.1111111111111111,
             "#46039f"
            ],
            [
             0.2222222222222222,
             "#7201a8"
            ],
            [
             0.3333333333333333,
             "#9c179e"
            ],
            [
             0.4444444444444444,
             "#bd3786"
            ],
            [
             0.5555555555555556,
             "#d8576b"
            ],
            [
             0.6666666666666666,
             "#ed7953"
            ],
            [
             0.7777777777777778,
             "#fb9f3a"
            ],
            [
             0.8888888888888888,
             "#fdca26"
            ],
            [
             1,
             "#f0f921"
            ]
           ]
          },
          "colorway": [
           "#636efa",
           "#EF553B",
           "#00cc96",
           "#ab63fa",
           "#FFA15A",
           "#19d3f3",
           "#FF6692",
           "#B6E880",
           "#FF97FF",
           "#FECB52"
          ],
          "font": {
           "color": "#2a3f5f"
          },
          "geo": {
           "bgcolor": "white",
           "lakecolor": "white",
           "landcolor": "#E5ECF6",
           "showlakes": true,
           "showland": true,
           "subunitcolor": "white"
          },
          "hoverlabel": {
           "align": "left"
          },
          "hovermode": "closest",
          "mapbox": {
           "style": "light"
          },
          "paper_bgcolor": "white",
          "plot_bgcolor": "#E5ECF6",
          "polar": {
           "angularaxis": {
            "gridcolor": "white",
            "linecolor": "white",
            "ticks": ""
           },
           "bgcolor": "#E5ECF6",
           "radialaxis": {
            "gridcolor": "white",
            "linecolor": "white",
            "ticks": ""
           }
          },
          "scene": {
           "xaxis": {
            "backgroundcolor": "#E5ECF6",
            "gridcolor": "white",
            "gridwidth": 2,
            "linecolor": "white",
            "showbackground": true,
            "ticks": "",
            "zerolinecolor": "white"
           },
           "yaxis": {
            "backgroundcolor": "#E5ECF6",
            "gridcolor": "white",
            "gridwidth": 2,
            "linecolor": "white",
            "showbackground": true,
            "ticks": "",
            "zerolinecolor": "white"
           },
           "zaxis": {
            "backgroundcolor": "#E5ECF6",
            "gridcolor": "white",
            "gridwidth": 2,
            "linecolor": "white",
            "showbackground": true,
            "ticks": "",
            "zerolinecolor": "white"
           }
          },
          "shapedefaults": {
           "line": {
            "color": "#2a3f5f"
           }
          },
          "ternary": {
           "aaxis": {
            "gridcolor": "white",
            "linecolor": "white",
            "ticks": ""
           },
           "baxis": {
            "gridcolor": "white",
            "linecolor": "white",
            "ticks": ""
           },
           "bgcolor": "#E5ECF6",
           "caxis": {
            "gridcolor": "white",
            "linecolor": "white",
            "ticks": ""
           }
          },
          "title": {
           "x": 0.05
          },
          "xaxis": {
           "automargin": true,
           "gridcolor": "white",
           "linecolor": "white",
           "ticks": "",
           "title": {
            "standoff": 15
           },
           "zerolinecolor": "white",
           "zerolinewidth": 2
          },
          "yaxis": {
           "automargin": true,
           "gridcolor": "white",
           "linecolor": "white",
           "ticks": "",
           "title": {
            "standoff": 15
           },
           "zerolinecolor": "white",
           "zerolinewidth": 2
          }
         }
        },
        "xaxis": {
         "anchor": "y",
         "constrain": "domain",
         "domain": [
          0,
          0.49
         ],
         "scaleanchor": "y"
        },
        "xaxis2": {
         "anchor": "y2",
         "domain": [
          0.51,
          1
         ],
         "matches": "x"
        },
        "yaxis": {
         "anchor": "x",
         "autorange": "reversed",
         "constrain": "domain",
         "domain": [
          0,
          1
         ]
        },
        "yaxis2": {
         "anchor": "x2",
         "domain": [
          0,
          1
         ],
         "matches": "y",
         "showticklabels": false
        }
       }
      }
     },
     "metadata": {},
     "output_type": "display_data"
    }
   ],
   "source": [
    "def scipy_convolution(inputs:np.ndarray, kernels:np.ndarray) -> np.ndarray:\n",
    "    activation_maps = []\n",
    "    kernels = kernels.swapaxes(1, 3)\n",
    "    inputs = inputs.swapaxes(1, 3)\n",
    "    for kernel in kernels:\n",
    "        for input in inputs:\n",
    "            channel_activation_maps = [convolve2d(input_channel, kernel_channel, mode=\"full\") for input_channel, kernel_channel in zip(kernel, input)]\n",
    "            activation_map = np.sum(channel_activation_maps, axis=0).T\n",
    "            activation_maps.append(activation_map)\n",
    "    return np.stack(activation_maps)\n",
    "\n",
    "scipy_convolutions = scipy_convolution(inputs, multi_channels_kernels)\n",
    "px.imshow(\n",
    "    scipy_convolutions[[1, 3]],\n",
    "    facet_col=0,\n",
    "    facet_col_wrap=2,\n",
    ")"
   ]
  },
  {
   "cell_type": "code",
   "execution_count": 67,
   "metadata": {},
   "outputs": [
    {
     "data": {
      "application/vnd.plotly.v1+json": {
       "config": {
        "plotlyServerURL": "https://plot.ly"
       },
       "data": [
        {
         "coloraxis": "coloraxis",
         "hovertemplate": "x: %{x}<br>y: %{y}<br>color: %{z}<extra></extra>",
         "name": "0",
         "type": "heatmap",
         "xaxis": "x",
         "yaxis": "y",
         "z": [
          [
           165,
           312,
           461,
           735,
           976,
           980,
           1022,
           1107,
           1141,
           1325,
           1604,
           1857,
           2086,
           2232,
           2203,
           2121,
           2099,
           2133,
           2120,
           2133,
           2063,
           1869,
           1586,
           1235,
           851,
           525,
           293,
           198,
           190,
           274,
           414,
           478,
           423,
           398,
           302,
           129
          ],
          [
           173,
           328,
           454,
           668,
           850,
           830,
           815,
           786,
           820,
           1009,
           1236,
           1542,
           1916,
           2103,
           2051,
           2040,
           2090,
           2085,
           2085,
           2127,
           2099,
           2013,
           1930,
           1753,
           1445,
           1111,
           895,
           794,
           787,
           984,
           1259,
           1341,
           1119,
           931,
           631,
           254
          ],
          [
           97,
           215,
           339,
           467,
           583,
           584,
           495,
           415,
           404,
           455,
           554,
           734,
           868,
           800,
           690,
           704,
           685,
           657,
           661,
           697,
           711,
           763,
           914,
           1113,
           1231,
           1289,
           1378,
           1468,
           1495,
           1587,
           1720,
           1746,
           1407,
           1039,
           636,
           288
          ],
          [
           155,
           359,
           544,
           802,
           1032,
           1012,
           880,
           848,
           855,
           982,
           1176,
           1294,
           1203,
           1040,
           947,
           873,
           868,
           891,
           880,
           836,
           759,
           677,
           609,
           564,
           610,
           745,
           956,
           1199,
           1404,
           1583,
           1750,
           1781,
           1400,
           1052,
           709,
           337
          ],
          [
           325,
           630,
           966,
           1495,
           1916,
           1864,
           1798,
           1839,
           1970,
           2346,
           2730,
           2966,
           3086,
           3110,
           2988,
           2972,
           3036,
           3061,
           3021,
           2980,
           2846,
           2603,
           2249,
           1799,
           1386,
           1085,
           1001,
           1203,
           1538,
           1990,
           2443,
           2575,
           2083,
           1694,
           1183,
           540
          ],
          [
           325,
           604,
           933,
           1392,
           1727,
           1602,
           1558,
           1553,
           1644,
           1899,
           2116,
           2315,
           2508,
           2514,
           2410,
           2440,
           2505,
           2469,
           2408,
           2433,
           2444,
           2415,
           2401,
           2322,
           2156,
           1962,
           1984,
           2222,
           2560,
           3010,
           3451,
           3481,
           2863,
           2251,
           1490,
           645
          ],
          [
           343,
           685,
           1044,
           1458,
           1779,
           1684,
           1623,
           1635,
           1606,
           1625,
           1674,
           1678,
           1582,
           1389,
           1173,
           1053,
           1032,
           972,
           961,
           1059,
           1170,
           1335,
           1607,
           1899,
           2039,
           2161,
           2391,
           2663,
           2841,
           3116,
           3372,
           3394,
           2784,
           2146,
           1373,
           582
          ],
          [
           344,
           714,
           985,
           1361,
           1759,
           1746,
           1714,
           1792,
           1766,
           1669,
           1611,
           1469,
           1252,
           963,
           722,
           570,
           522,
           544,
           607,
           687,
           784,
           898,
           1029,
           1191,
           1423,
           1754,
           2156,
           2489,
           2733,
           2856,
           2926,
           3014,
           2447,
           1869,
           1307,
           723
          ],
          [
           330,
           650,
           900,
           1304,
           1778,
           1839,
           1893,
           2030,
           2053,
           1864,
           1658,
           1498,
           1292,
           991,
           845,
           843,
           875,
           922,
           957,
           1050,
           1155,
           1205,
           1241,
           1332,
           1447,
           1602,
           1800,
           2160,
           2510,
           2659,
           2807,
           3089,
           2507,
           1865,
           1384,
           773
          ],
          [
           377,
           722,
           1153,
           1657,
           2197,
           2225,
           2271,
           2262,
           2145,
           1881,
           1751,
           1649,
           1385,
           1152,
           1106,
           1117,
           1168,
           1242,
           1274,
           1301,
           1311,
           1324,
           1422,
           1497,
           1488,
           1551,
           1661,
           1843,
           2089,
           2469,
           2900,
           3175,
           2674,
           2198,
           1454,
           641
          ],
          [
           401,
           769,
           1217,
           1755,
           2315,
           2393,
           2372,
           2272,
           2077,
           1965,
           2080,
           2115,
           2049,
           2021,
           2011,
           1773,
           1638,
           1482,
           1383,
           1360,
           1382,
           1541,
           1715,
           1769,
           1672,
           1738,
           1742,
           1764,
           1992,
           2433,
           2750,
           3018,
           2738,
           2093,
           1229,
           585
          ],
          [
           378,
           770,
           1185,
           1761,
           2467,
           2700,
           2679,
           2527,
           2424,
           2409,
           2413,
           2357,
           2412,
           2444,
           2184,
           1810,
           1618,
           1477,
           1430,
           1537,
           1754,
           1985,
           2027,
           2019,
           2033,
           2064,
           2108,
           2332,
           2515,
           2530,
           2547,
           2825,
           2135,
           1356,
           970,
           602
          ],
          [
           417,
           908,
           1407,
           2074,
           2844,
           2953,
           2784,
           2639,
           2548,
           2369,
           2272,
           2294,
           2439,
           2365,
           2138,
           1962,
           1943,
           1907,
           1890,
           2069,
           2307,
           2346,
           2315,
           2340,
           2241,
           2189,
           2209,
           2284,
           2487,
           2543,
           2485,
           2384,
           1632,
           1139,
           818,
           473
          ],
          [
           447,
           1034,
           1683,
           2323,
           2924,
           2869,
           2623,
           2426,
           2268,
           2047,
           2122,
           2483,
           2610,
           2563,
           2584,
           2582,
           2459,
           2378,
           2347,
           2503,
           2509,
           2407,
           2450,
           2401,
           2123,
           1916,
           1747,
           1883,
           2231,
           2442,
           2455,
           2434,
           1988,
           1483,
           937,
           461
          ],
          [
           428,
           1121,
           1873,
           2432,
           2879,
           2943,
           2639,
           2282,
           2034,
           2010,
           2450,
           2955,
           3181,
           3366,
           3562,
           3257,
           2801,
           2500,
           2420,
           2494,
           2462,
           2564,
           2637,
           2481,
           2121,
           1918,
           2038,
           2356,
           2509,
           2515,
           2469,
           2565,
           2010,
           1399,
           907,
           531
          ],
          [
           479,
           1245,
           1992,
           2540,
           3111,
           3191,
           2771,
           2329,
           2127,
           2369,
           2805,
           3155,
           3438,
           3778,
           3687,
           3118,
           2626,
           2397,
           2285,
           2269,
           2453,
           2615,
           2363,
           2068,
           1983,
           2300,
           2531,
           2721,
           2748,
           2493,
           2131,
           1986,
           1391,
           951,
           725,
           445
          ],
          [
           519,
           1180,
           1850,
           2434,
           2963,
           2819,
           2490,
           2187,
           2071,
           2177,
           2414,
           2735,
           3148,
           3394,
           3286,
           3055,
           2723,
           2477,
           2425,
           2595,
           2689,
           2418,
           2023,
           1926,
           2227,
           2575,
           2635,
           2812,
           2723,
           2225,
           1757,
           1638,
           1249,
           1002,
           790,
           430
          ],
          [
           424,
           1045,
           1665,
           2138,
           2520,
           2441,
           2228,
           2102,
           2149,
           2145,
           2311,
           2686,
           2984,
           2980,
           3010,
           2936,
           2698,
           2526,
           2694,
           2986,
           3036,
           2724,
           2518,
           2688,
           2744,
           2450,
           2444,
           2564,
           2282,
           1779,
           1712,
           1888,
           1593,
           1312,
           1023,
           554
          ],
          [
           341,
           998,
           1690,
           2064,
           2458,
           2512,
           2345,
           2127,
           2185,
           2212,
           2547,
           3017,
           3086,
           3109,
           3110,
           2889,
           2696,
           2796,
           2950,
           3106,
           3160,
           3034,
           2926,
           2934,
           2759,
           2612,
           2572,
           2491,
           2160,
           1888,
           1809,
           2016,
           1660,
           1325,
           974,
           530
          ],
          [
           406,
           990,
           1600,
           2108,
           2552,
           2590,
           2435,
           2284,
           2124,
           2209,
           2722,
           3118,
           3188,
           3319,
           3236,
           2803,
           2627,
           2785,
           2906,
           2954,
           2960,
           2935,
           2710,
           2494,
           2482,
           2701,
           2719,
           2527,
           2312,
           2034,
           1824,
           1833,
           1474,
           1160,
           826,
           408
          ],
          [
           465,
           907,
           1418,
           2000,
           2507,
           2433,
           2495,
           2497,
           2182,
           2126,
           2463,
           2794,
           2932,
           3064,
           3126,
           2920,
           2758,
           2848,
           3024,
           3146,
           3247,
           3192,
           2821,
           2461,
           2415,
           2572,
           2462,
           2376,
           2171,
           1943,
           1840,
           1892,
           1549,
           1279,
           960,
           491
          ],
          [
           400,
           839,
           1296,
           1776,
           2263,
           2325,
           2425,
           2434,
           2460,
           2348,
           2440,
           2675,
           2863,
           2894,
           3062,
           3014,
           3007,
           3051,
           3171,
           3334,
           3618,
           3437,
           2767,
           2386,
           2412,
           2262,
           2143,
           2302,
           2251,
           2030,
           1983,
           2148,
           1744,
           1382,
           1035,
           543
          ],
          [
           331,
           746,
           1285,
           1634,
           2165,
           2334,
           2326,
           2333,
           2516,
           2462,
           2466,
           2621,
           2831,
           2976,
           3082,
           3007,
           3048,
           3119,
           3140,
           3247,
           3411,
           3017,
           2326,
           2089,
           1945,
           1925,
           2079,
           2360,
           2325,
           2192,
           2096,
           2121,
           1638,
           1243,
           841,
           440
          ],
          [
           408,
           834,
           1350,
           1773,
           2214,
           2129,
           2202,
           2314,
           2299,
           2317,
           2439,
           2412,
           2466,
           2715,
           2794,
           2579,
           2583,
           2721,
           2799,
           2893,
           2889,
           2654,
           2272,
           1866,
           1608,
           1800,
           1991,
           1995,
           1870,
           1852,
           1728,
           1583,
           1218,
           921,
           599,
           285
          ],
          [
           487,
           921,
           1381,
           1949,
           2300,
           2038,
           2103,
           2277,
           2200,
           2185,
           2499,
           2510,
           2385,
           2419,
           2421,
           2159,
           2036,
           2117,
           2307,
           2449,
           2579,
           2642,
           2361,
           1932,
           1791,
           1847,
           1840,
           1769,
           1736,
           1747,
           1688,
           1576,
           1253,
           955,
           620,
           300
          ],
          [
           471,
           877,
           1312,
           1839,
           2342,
           2234,
           2126,
           2076,
           2127,
           2239,
           2467,
           2747,
           2961,
           2923,
           2647,
           2233,
           1908,
           1783,
           1966,
           2045,
           2177,
           2173,
           1986,
           1725,
           1735,
           1762,
           1812,
           1877,
           1881,
           1842,
           1862,
           1875,
           1553,
           1149,
           745,
           381
          ],
          [
           514,
           990,
           1365,
           1777,
           2363,
           2391,
           2256,
           2149,
           2133,
           2086,
           2070,
           2334,
           2780,
           3044,
           2903,
           2449,
           2036,
           1766,
           1747,
           1764,
           1838,
           1834,
           1781,
           1639,
           1591,
           1659,
           1703,
           1675,
           1615,
           1543,
           1488,
           1539,
           1223,
           866,
           558,
           283
          ],
          [
           582,
           1120,
           1519,
           1850,
           2193,
           2053,
           2032,
           2160,
           2101,
           1987,
           1826,
           1742,
           1878,
           2126,
           2238,
           2110,
           1980,
           1809,
           1789,
           1838,
           1939,
           1999,
           1925,
           1754,
           1612,
           1557,
           1413,
           1263,
           1151,
           1087,
           1071,
           1065,
           835,
           618,
           407,
           211
          ],
          [
           619,
           1181,
           1728,
           2090,
           2385,
           1994,
           1855,
           1882,
           1964,
           1965,
           1919,
           1688,
           1453,
           1270,
           1157,
           1143,
           1136,
           1183,
           1409,
           1516,
           1678,
           1919,
           1963,
           1908,
           1897,
           1749,
           1642,
           1584,
           1496,
           1500,
           1554,
           1539,
           1252,
           954,
           669,
           357
          ],
          [
           681,
           1327,
           1937,
           2425,
           2953,
           2661,
           2310,
           2129,
           2161,
           2157,
           2076,
           2022,
           1858,
           1541,
           1236,
           1121,
           1016,
           1096,
           1355,
           1503,
           1682,
           2072,
           2327,
           2431,
           2525,
           2425,
           2280,
           2130,
           2078,
           2014,
           2100,
           2156,
           1819,
           1423,
           977,
           494
          ],
          [
           714,
           1394,
           2023,
           2595,
           3128,
           2883,
           2661,
           2411,
           2230,
           2173,
           2097,
           2057,
           2060,
           2078,
           2090,
           2091,
           2047,
           1944,
           1971,
           2003,
           2100,
           2323,
           2535,
           2568,
           2526,
           2372,
           2072,
           1925,
           1922,
           1958,
           2007,
           2118,
           1795,
           1338,
           847,
           405
          ],
          [
           643,
           1251,
           1871,
           2467,
           2875,
           2584,
           2379,
           2176,
           1994,
           1964,
           1909,
           1823,
           1864,
           1966,
           2113,
           2269,
           2317,
           2275,
           2168,
           2083,
           2126,
           2160,
           2118,
           2097,
           1986,
           1819,
           1686,
           1671,
           1735,
           1811,
           1870,
           1981,
           1637,
           1203,
           778,
           389
          ],
          [
           321,
           635,
           1046,
           1348,
           1579,
           1450,
           1340,
           1215,
           1193,
           1097,
           945,
           770,
           596,
           476,
           501,
           529,
           570,
           611,
           625,
           580,
           709,
           853,
           935,
           1024,
           1077,
           1020,
           963,
           905,
           759,
           667,
           675,
           738,
           614,
           506,
           367,
           193
          ],
          [
           426,
           848,
           1256,
           1511,
           1810,
           1735,
           1653,
           1645,
           1644,
           1506,
           1341,
           1180,
           960,
           845,
           865,
           937,
           949,
           965,
           976,
           915,
           925,
           1075,
           1131,
           1179,
           1285,
           1212,
           1074,
           963,
           852,
           831,
           930,
           1082,
           943,
           788,
           543,
           297
          ],
          [
           542,
           1068,
           1455,
           1775,
           2047,
           1887,
           1821,
           1808,
           1813,
           1818,
           1764,
           1701,
           1681,
           1694,
           1808,
           1959,
           1989,
           1927,
           1820,
           1654,
           1530,
           1464,
           1346,
           1260,
           1218,
           1096,
           967,
           978,
           1113,
           1289,
           1511,
           1725,
           1453,
           1105,
           751,
           375
          ],
          [
           406,
           702,
           948,
           1186,
           1365,
           1200,
           1118,
           1070,
           1067,
           1107,
           1127,
           1159,
           1241,
           1311,
           1387,
           1475,
           1501,
           1470,
           1357,
           1230,
           1125,
           999,
           861,
           772,
           704,
           661,
           661,
           772,
           944,
           1107,
           1259,
           1365,
           1089,
           819,
           546,
           264
          ]
         ]
        },
        {
         "coloraxis": "coloraxis",
         "hovertemplate": "x: %{x}<br>y: %{y}<br>color: %{z}<extra></extra>",
         "name": "1",
         "type": "heatmap",
         "xaxis": "x2",
         "yaxis": "y2",
         "z": [
          [
           106.5,
           201.5,
           265,
           410,
           537,
           514.5,
           467.5,
           482,
           576,
           748.5,
           935,
           1063,
           1083,
           1046.5,
           1009,
           1024,
           1032,
           1045,
           1044,
           1015,
           954,
           853,
           669,
           457.5,
           285.5,
           172.5,
           117,
           104.5,
           102,
           151.5,
           239,
           273.5,
           201,
           130.5,
           75,
           29
          ],
          [
           266.5,
           462.5,
           624,
           928,
           1184,
           1143.5,
           1037.5,
           1077.5,
           1287.5,
           1694.5,
           2133,
           2471.5,
           2629.5,
           2647.5,
           2580.5,
           2594.5,
           2617.5,
           2648,
           2627.5,
           2570,
           2461.5,
           2280,
           1962,
           1544.5,
           1088.5,
           727.5,
           567.5,
           572.5,
           619.5,
           801,
           1023.5,
           1074.5,
           780.5,
           514.5,
           309,
           139.5
          ],
          [
           485.5,
           798.5,
           1098,
           1656.5,
           1908.5,
           1795.5,
           1691.5,
           1703.5,
           2064,
           2731.5,
           3358,
           3818,
           4090,
           4197.5,
           4042.5,
           4033.5,
           4105,
           4097,
           4039.5,
           3994.5,
           3845,
           3598,
           3225.5,
           2751,
           2185,
           1667,
           1493,
           1584.5,
           1708,
           2053,
           2367,
           2337,
           1666.5,
           1143,
           657,
           285.5
          ],
          [
           756,
           1175.5,
           1596.5,
           2344,
           2529.5,
           2340.5,
           2215.5,
           2228.5,
           2691,
           3363,
           3885,
           4367,
           4696,
           4764.5,
           4565,
           4617,
           4690.5,
           4632.5,
           4579,
           4563.5,
           4407.5,
           4178,
           3852,
           3442.5,
           2944.5,
           2523.5,
           2536.5,
           2808,
           3032.5,
           3556.5,
           3911.5,
           3735.5,
           2599.5,
           1847.5,
           1051,
           447
          ],
          [
           1077,
           1597,
           2108.5,
           3087,
           3215,
           2868.5,
           2701,
           2795,
           3367.5,
           3938,
           4191.5,
           4539,
           4769,
           4772,
           4560.5,
           4661,
           4710.5,
           4594,
           4570,
           4604,
           4445.5,
           4242.5,
           3967,
           3618.5,
           3289,
           3119.5,
           3472,
           3970.5,
           4242.5,
           4930,
           5389.5,
           5154,
           3425,
           2503,
           1472,
           647.5
          ],
          [
           1104.5,
           1683,
           2121,
           2880.5,
           3069,
           2703,
           2463.5,
           2485.5,
           2899.5,
           3101,
           2970.5,
           3076,
           3091.5,
           2909.5,
           2722.5,
           2809,
           2825.5,
           2709.5,
           2682,
           2786.5,
           2810,
           2823.5,
           2920.5,
           2914,
           2936.5,
           3202,
           4044.5,
           4833,
           5146,
           5801.5,
           6263,
           6075,
           3958.5,
           2935.5,
           1766,
           794.5
          ],
          [
           1106,
           1666,
           2097,
           2777,
           3074.5,
           2769,
           2577,
           2641.5,
           2776.5,
           2641,
           2358,
           2171.5,
           1859.5,
           1464.5,
           1213.5,
           1186,
           1165,
           1081.5,
           1078,
           1213,
           1325.5,
           1448,
           1725.5,
           2058,
           2438,
           2951.5,
           3885,
           4776,
           5203.5,
           5780.5,
           6280,
           6252,
           4029.5,
           3040.5,
           1891,
           857.5
          ],
          [
           1087.5,
           1503.5,
           1926,
           2660,
           3099,
           2911,
           2820,
           2969.5,
           2989,
           2780.5,
           2477.5,
           2078,
           1618.5,
           1144.5,
           850.5,
           700,
           682,
           676.5,
           716,
           816.5,
           941.5,
           1095,
           1301.5,
           1559,
           2107.5,
           2758.5,
           3563,
           4222,
           4565,
           5141.5,
           5746.5,
           5910.5,
           3804.5,
           2969,
           1895.5,
           868.5
          ],
          [
           1025,
           1237,
           1742,
           2562,
           3189.5,
           3124,
           3187,
           3390.5,
           3376,
           3148,
           2867.5,
           2413,
           1955.5,
           1459,
           1125,
           1006.5,
           1031.5,
           1063,
           1110.5,
           1302.5,
           1513,
           1747.5,
           1929.5,
           2065.5,
           2474.5,
           2955,
           3457,
           3828.5,
           4151.5,
           4598,
           5112,
           5334,
           3467.5,
           2792.5,
           1765,
           868
          ],
          [
           1040,
           1185,
           1818,
           2814.5,
           3618,
           3509.5,
           3640,
           3871,
           3793.5,
           3484.5,
           3244,
           2795,
           2401,
           1906,
           1615.5,
           1544,
           1619,
           1707,
           1772.5,
           2031.5,
           2295.5,
           2601,
           2781,
           2888.5,
           3112,
           3444,
           3593.5,
           3555.5,
           3875.5,
           4221.5,
           4588.5,
           4870,
           3145.5,
           2530,
           1652.5,
           840.5
          ],
          [
           1143.5,
           1443,
           2128,
           3299.5,
           4225.5,
           3992.5,
           4033.5,
           4208.5,
           4086,
           3699.5,
           3602,
           3336.5,
           3092.5,
           2764.5,
           2621.5,
           2484,
           2501.5,
           2524.5,
           2570,
           2929.5,
           3210,
           3514,
           3666,
           3627.5,
           3464,
           3558,
           3361.5,
           3237,
           3611.5,
           3988.5,
           4350,
           4736.5,
           2918.5,
           2337,
           1579,
           800.5
          ],
          [
           1259,
           1860,
           2686.5,
           3923.5,
           4855,
           4560.5,
           4477.5,
           4391.5,
           4145,
           3801,
           3959.5,
           3999.5,
           3885,
           3751.5,
           3791.5,
           3565,
           3443.5,
           3356,
           3325.5,
           3735,
           3945.5,
           4137.5,
           4113,
           3922,
           3628,
           3518,
           3146.5,
           3298,
           3833.5,
           4148.5,
           4408.5,
           4895.5,
           2890.5,
           2248,
           1434.5,
           777.5
          ],
          [
           1435.5,
           2352,
           3373.5,
           4490,
           5369.5,
           5053.5,
           4727.5,
           4356.5,
           4036.5,
           3859.5,
           4326,
           4616.5,
           4684.5,
           4705,
           4784.5,
           4424.5,
           4183,
           3859,
           3738.5,
           4196,
           4321.5,
           4432,
           4142,
           3783.5,
           3386,
           3210.5,
           3025.5,
           3612,
           4312,
           4543,
           4439,
           4854.5,
           2906,
           2062.5,
           1236,
           677
          ],
          [
           1586,
           2790.5,
           3977,
           4794.5,
           5536,
           5256,
           4632,
           4100,
           3780.5,
           3925.5,
           4616,
           4894,
           5116,
           5260.5,
           5238.5,
           4731.5,
           4390,
           3973,
           3874,
           4207.5,
           4237.5,
           4254,
           3675.5,
           3335.5,
           3008.5,
           3035.5,
           3231.5,
           4076.5,
           4643.5,
           4798,
           4456,
           4492.5,
           2664,
           1871,
           1136,
           571.5
          ],
          [
           1551,
           2945,
           4080.5,
           4702,
           5234,
           5027,
           4230,
           3717.5,
           3600.5,
           4029.5,
           4753,
           5094,
           5562,
           5580.5,
           5248.5,
           4640.5,
           4167.5,
           3770.5,
           3724.5,
           4099,
           4119,
           3815,
           3254,
           3231,
           3185.5,
           3444.5,
           3743.5,
           4543.5,
           4862,
           4470,
           3898.5,
           3944,
           2288.5,
           1589,
           983.5,
           538.5
          ],
          [
           1452.5,
           2890,
           3910.5,
           4460.5,
           4916,
           4747,
           3918.5,
           3457,
           3543,
           4167.5,
           4718,
           5181,
           5654,
           5455.5,
           4900.5,
           4363.5,
           3845.5,
           3578,
           3674,
           4092,
           4055.5,
           3550,
           3248.5,
           3477.5,
           3720,
           3940.5,
           4289.5,
           4746.5,
           4278.5,
           3497,
           3209,
           3350.5,
           1933.5,
           1362,
           886,
           509
          ],
          [
           1400,
           2757.5,
           3688,
           4198.5,
           4572,
           4269,
           3622.5,
           3367.5,
           3413.5,
           3845,
           4535,
           5428.5,
           5733,
           5656.5,
           5140,
           4557,
           4043.5,
           3788.5,
           3977,
           4370.5,
           4097,
           3646.5,
           3708,
           3931.5,
           4341.5,
           4600.5,
           4611,
           4189.5,
           3510.5,
           2960.5,
           2861,
           3044.5,
           1937.5,
           1483,
           1008.5,
           531.5
          ],
          [
           1334.5,
           2606.5,
           3414.5,
           3871.5,
           4310,
           4039.5,
           3614.5,
           3565.5,
           3487,
           3651.5,
           4586.5,
           5715,
           5822,
           5937,
           5547,
           4924,
           4443,
           4275.5,
           4522.5,
           4762,
           4409.5,
           4239.5,
           4301.5,
           4432.5,
           4770,
           4629.5,
           4328.5,
           3867,
           3258.5,
           2731.5,
           2963.5,
           3393.5,
           2190.5,
           1761,
           1248,
           656
          ],
          [
           1314,
           2457,
           3298.5,
           3801.5,
           4308,
           4142.5,
           3879.5,
           3814,
           3600,
           3728,
           4734,
           5657,
           5669,
           5840,
           5763.5,
           5253.5,
           4970.5,
           4983.5,
           5190.5,
           5271,
           5022.5,
           4961,
           4766.5,
           4719,
           4798.5,
           4726,
           4399.5,
           4016.5,
           3434,
           2975,
           3365,
           3849.5,
           2402.5,
           1983,
           1404.5,
           737.5
          ],
          [
           1351,
           2239,
           3188,
           3760.5,
           4466,
           4193,
           4043,
           4025,
           3847.5,
           3987,
           4711,
           5288.5,
           5176,
           5288.5,
           5523,
           5205,
           5247,
           5511,
           5664.5,
           5749.5,
           5709,
           5497.5,
           4604.5,
           4531.5,
           4851,
           4892.5,
           4346.5,
           4286,
           3873.5,
           3444.5,
           3750.5,
           4057,
           2459.5,
           2079,
           1451.5,
           727.5
          ],
          [
           1286.5,
           1972.5,
           3055.5,
           3669,
           4470.5,
           4166.5,
           4181,
           4182.5,
           3982.5,
           3844,
           4366,
           4828,
           4656.5,
           4554,
           4895.5,
           4800,
           5174,
           5702,
           5968.5,
           6269.5,
           6234,
           5458.5,
           4429,
           4679,
           4702.5,
           4630,
           4375,
           4603.5,
           4198.5,
           3824.5,
           4068,
           4159.5,
           2388,
           2020,
           1430.5,
           691.5
          ],
          [
           1140.5,
           1872.5,
           2900,
           3441,
           4306,
           4111.5,
           4248.5,
           4208,
           4061,
           3896,
           4405,
           4545.5,
           4545.5,
           4381.5,
           4507.5,
           4276.5,
           4822,
           5586.5,
           5937,
           6353.5,
           6323.5,
           5277.5,
           4326.5,
           4385,
           4295.5,
           4346,
           4245,
           4507,
           4205,
           3997.5,
           4001.5,
           3935.5,
           2232,
           1826,
           1266,
           630.5
          ],
          [
           1076,
           1710,
           2726.5,
           3224.5,
           4018.5,
           4012.5,
           4204,
           4219,
           4008,
           4019,
           4602,
           4642.5,
           4853.5,
           4948.5,
           4736,
           4148.5,
           4578.5,
           5316,
           5539,
           5816.5,
           5670.5,
           4710.5,
           3831,
           3641,
           3583,
           3838.5,
           3763.5,
           4034.5,
           3824,
           3759.5,
           3462.5,
           3373.5,
           2037.5,
           1577.5,
           1023,
           516.5
          ],
          [
           1189.5,
           1650,
           2436,
           3124,
           3649.5,
           3788.5,
           4116,
           4206,
           3976,
           4107,
           4680.5,
           4770.5,
           5259.5,
           5676.5,
           5310.5,
           4281,
           4301.5,
           4838,
           5068.5,
           5038.5,
           4639.5,
           3952.5,
           3385,
           2965,
           2837,
           3144.5,
           3210.5,
           3232.5,
           3053,
           3074.5,
           2827,
           2744,
           1755,
           1358.5,
           855.5,
           424.5
          ],
          [
           1370,
           1763,
           2290,
           3022.5,
           3477,
           3562.5,
           3868,
           4136,
           4100.5,
           4077.5,
           4506,
           4768,
           5376.5,
           5816.5,
           5481.5,
           4356.5,
           4141.5,
           4317.5,
           4553.5,
           4292,
           4061.5,
           3649,
           3037.5,
           2546.5,
           2411.5,
           2534.5,
           2620.5,
           2582.5,
           2479.5,
           2555.5,
           2523,
           2548.5,
           1628.5,
           1279.5,
           836.5,
           409
          ],
          [
           1537.5,
           2042.5,
           2441.5,
           2971.5,
           3598.5,
           3480.5,
           3481,
           3866,
           4066,
           4074.5,
           4222.5,
           4476,
           5093.5,
           5257.5,
           4907,
           3937.5,
           3666,
           3668,
           3949,
           3710,
           3508,
           3274,
           2867.5,
           2559,
           2411,
           2351,
           2441,
           2523,
           2521.5,
           2564.5,
           2663,
           2731,
           1754,
           1354.5,
           884,
           440.5
          ],
          [
           1768.5,
           2383,
           2849,
           3258,
           3918,
           3514,
           3246.5,
           3541,
           3690.5,
           3816.5,
           3719.5,
           3851.5,
           4307.5,
           4254,
           3851.5,
           3076,
           2840.5,
           2938.5,
           3318.5,
           3269.5,
           3154.5,
           3265,
           3189.5,
           2946.5,
           2792,
           2724.5,
           2780,
           2752,
           2832,
           2863,
           2904,
           2868,
           1878,
           1401.5,
           887,
           434
          ],
          [
           2013,
           2658,
           3273.5,
           3636,
           4046.5,
           3479,
           3276.5,
           3350.5,
           3159,
           3281.5,
           3117,
           3113.5,
           3390,
           3144,
           2747.5,
           2304.5,
           2155.5,
           2391,
           2914.5,
           2944.5,
           3101.5,
           3565.5,
           3657.5,
           3541,
           3387.5,
           3252.5,
           3183,
           2989.5,
           3065,
           3042,
           2974,
           2860.5,
           1893.5,
           1377.5,
           832.5,
           387
          ],
          [
           2082,
           2796,
           3552,
           3945.5,
           4227.5,
           3550.5,
           3315,
           3262.5,
           3020,
           2898,
           2724.5,
           2672.5,
           2682,
           2420.5,
           2140,
           1921.5,
           1771,
           1981.5,
           2574,
           2665.5,
           3089,
           3755,
           4008.5,
           4022.5,
           3891,
           3664.5,
           3511.5,
           3237,
           3282,
           3097.5,
           3005,
           2895,
           1899.5,
           1380.5,
           848,
           405.5
          ],
          [
           2026.5,
           2775,
           3699.5,
           4149,
           4553,
           4012.5,
           3579,
           3312,
           3312.5,
           3163.5,
           2718,
           2588,
           2539,
           2429,
           2267.5,
           2138.5,
           1990,
           2044.5,
           2523,
           2608.5,
           3078,
           3761.5,
           4101.5,
           4191,
           4140,
           3801.5,
           3462.5,
           3203.5,
           3222,
           2963.5,
           2858,
           2912,
           1954.5,
           1432.5,
           877.5,
           450.5
          ],
          [
           2039,
           2815.5,
           3832,
           4301.5,
           4800.5,
           4516.5,
           4192,
           3827.5,
           3644.5,
           3551.5,
           3179,
           2882.5,
           2741,
           2738,
           2836.5,
           2804,
           2643,
           2570,
           2747.5,
           2840.5,
           3222,
           3730.5,
           3983,
           4116,
           3999,
           3638.5,
           3161,
           2980.5,
           2943,
           2758,
           2678,
           2929.5,
           2041,
           1507.5,
           910.5,
           487.5
          ],
          [
           2058,
           2902.5,
           3983,
           4441,
           4961,
           4682,
           4533.5,
           4381.5,
           4137,
           3889.5,
           3622,
           3392,
           3252,
           3194,
           3397.5,
           3471.5,
           3434,
           3380.5,
           3315.5,
           3192,
           3461.5,
           3704,
           3649.5,
           3737.5,
           3611.5,
           3255,
           2966,
           2794.5,
           2794,
           2884,
           3029,
           3387.5,
           2318.5,
           1783,
           1115.5,
           572.5
          ],
          [
           2007.5,
           2644.5,
           3631,
           4069,
           4625.5,
           4231.5,
           4089.5,
           4088,
           4008,
           3791,
           3490.5,
           3271,
           3125.5,
           3114.5,
           3361.5,
           3439,
           3372,
           3379,
           3241,
           2944.5,
           3091,
           3174.5,
           2944.5,
           3019.5,
           2995,
           2675.5,
           2555,
           2460,
           2550.5,
           2845,
           3153,
           3539,
           2265,
           1867,
           1219.5,
           607.5
          ],
          [
           1887,
           2307,
           2885.5,
           3393.5,
           3803.5,
           3489.5,
           3329,
           3322.5,
           3303.5,
           3198.5,
           3001.5,
           2909.5,
           2763.5,
           2795,
           3056,
           3210,
           3116,
           3068.5,
           2915,
           2627,
           2617,
           2679.5,
           2375,
           2349,
           2413.5,
           2142.5,
           2031.5,
           2044,
           2267,
           2606.5,
           2916.5,
           3210,
           1914.5,
           1628.5,
           1101.5,
           503
          ],
          [
           1370,
           1563.5,
           1899,
           2185,
           2346,
           2181,
           2204.5,
           2141,
           2120.5,
           2048,
           1962,
           2086.5,
           2138,
           2141,
           2339.5,
           2482,
           2494,
           2377.5,
           2139,
           1947.5,
           1863.5,
           1794,
           1525.5,
           1379.5,
           1370.5,
           1222.5,
           1140,
           1343.5,
           1613.5,
           1853,
           2069,
           2246,
           1292,
           1128.5,
           773,
           370.5
          ],
          [
           743.5,
           794.5,
           870,
           1017,
           1048,
           906.5,
           945,
           908.5,
           923.5,
           910,
           872,
           997.5,
           1097.5,
           1135.5,
           1201,
           1238.5,
           1273.5,
           1233,
           1040,
           957,
           902,
           785.5,
           668,
           587.5,
           558.5,
           557,
           573.5,
           773,
           922.5,
           1005.5,
           1100,
           1144.5,
           605,
           515,
           374,
           180.5
          ]
         ]
        }
       ],
       "layout": {
        "annotations": [
         {
          "font": {},
          "showarrow": false,
          "text": "facet_col=0",
          "x": 0.245,
          "xanchor": "center",
          "xref": "paper",
          "y": 1,
          "yanchor": "bottom",
          "yref": "paper"
         },
         {
          "font": {},
          "showarrow": false,
          "text": "facet_col=1",
          "x": 0.755,
          "xanchor": "center",
          "xref": "paper",
          "y": 1,
          "yanchor": "bottom",
          "yref": "paper"
         }
        ],
        "coloraxis": {
         "colorscale": [
          [
           0,
           "#0d0887"
          ],
          [
           0.1111111111111111,
           "#46039f"
          ],
          [
           0.2222222222222222,
           "#7201a8"
          ],
          [
           0.3333333333333333,
           "#9c179e"
          ],
          [
           0.4444444444444444,
           "#bd3786"
          ],
          [
           0.5555555555555556,
           "#d8576b"
          ],
          [
           0.6666666666666666,
           "#ed7953"
          ],
          [
           0.7777777777777778,
           "#fb9f3a"
          ],
          [
           0.8888888888888888,
           "#fdca26"
          ],
          [
           1,
           "#f0f921"
          ]
         ]
        },
        "margin": {
         "t": 60
        },
        "template": {
         "data": {
          "bar": [
           {
            "error_x": {
             "color": "#2a3f5f"
            },
            "error_y": {
             "color": "#2a3f5f"
            },
            "marker": {
             "line": {
              "color": "#E5ECF6",
              "width": 0.5
             },
             "pattern": {
              "fillmode": "overlay",
              "size": 10,
              "solidity": 0.2
             }
            },
            "type": "bar"
           }
          ],
          "barpolar": [
           {
            "marker": {
             "line": {
              "color": "#E5ECF6",
              "width": 0.5
             },
             "pattern": {
              "fillmode": "overlay",
              "size": 10,
              "solidity": 0.2
             }
            },
            "type": "barpolar"
           }
          ],
          "carpet": [
           {
            "aaxis": {
             "endlinecolor": "#2a3f5f",
             "gridcolor": "white",
             "linecolor": "white",
             "minorgridcolor": "white",
             "startlinecolor": "#2a3f5f"
            },
            "baxis": {
             "endlinecolor": "#2a3f5f",
             "gridcolor": "white",
             "linecolor": "white",
             "minorgridcolor": "white",
             "startlinecolor": "#2a3f5f"
            },
            "type": "carpet"
           }
          ],
          "choropleth": [
           {
            "colorbar": {
             "outlinewidth": 0,
             "ticks": ""
            },
            "type": "choropleth"
           }
          ],
          "contour": [
           {
            "colorbar": {
             "outlinewidth": 0,
             "ticks": ""
            },
            "colorscale": [
             [
              0,
              "#0d0887"
             ],
             [
              0.1111111111111111,
              "#46039f"
             ],
             [
              0.2222222222222222,
              "#7201a8"
             ],
             [
              0.3333333333333333,
              "#9c179e"
             ],
             [
              0.4444444444444444,
              "#bd3786"
             ],
             [
              0.5555555555555556,
              "#d8576b"
             ],
             [
              0.6666666666666666,
              "#ed7953"
             ],
             [
              0.7777777777777778,
              "#fb9f3a"
             ],
             [
              0.8888888888888888,
              "#fdca26"
             ],
             [
              1,
              "#f0f921"
             ]
            ],
            "type": "contour"
           }
          ],
          "contourcarpet": [
           {
            "colorbar": {
             "outlinewidth": 0,
             "ticks": ""
            },
            "type": "contourcarpet"
           }
          ],
          "heatmap": [
           {
            "colorbar": {
             "outlinewidth": 0,
             "ticks": ""
            },
            "colorscale": [
             [
              0,
              "#0d0887"
             ],
             [
              0.1111111111111111,
              "#46039f"
             ],
             [
              0.2222222222222222,
              "#7201a8"
             ],
             [
              0.3333333333333333,
              "#9c179e"
             ],
             [
              0.4444444444444444,
              "#bd3786"
             ],
             [
              0.5555555555555556,
              "#d8576b"
             ],
             [
              0.6666666666666666,
              "#ed7953"
             ],
             [
              0.7777777777777778,
              "#fb9f3a"
             ],
             [
              0.8888888888888888,
              "#fdca26"
             ],
             [
              1,
              "#f0f921"
             ]
            ],
            "type": "heatmap"
           }
          ],
          "heatmapgl": [
           {
            "colorbar": {
             "outlinewidth": 0,
             "ticks": ""
            },
            "colorscale": [
             [
              0,
              "#0d0887"
             ],
             [
              0.1111111111111111,
              "#46039f"
             ],
             [
              0.2222222222222222,
              "#7201a8"
             ],
             [
              0.3333333333333333,
              "#9c179e"
             ],
             [
              0.4444444444444444,
              "#bd3786"
             ],
             [
              0.5555555555555556,
              "#d8576b"
             ],
             [
              0.6666666666666666,
              "#ed7953"
             ],
             [
              0.7777777777777778,
              "#fb9f3a"
             ],
             [
              0.8888888888888888,
              "#fdca26"
             ],
             [
              1,
              "#f0f921"
             ]
            ],
            "type": "heatmapgl"
           }
          ],
          "histogram": [
           {
            "marker": {
             "pattern": {
              "fillmode": "overlay",
              "size": 10,
              "solidity": 0.2
             }
            },
            "type": "histogram"
           }
          ],
          "histogram2d": [
           {
            "colorbar": {
             "outlinewidth": 0,
             "ticks": ""
            },
            "colorscale": [
             [
              0,
              "#0d0887"
             ],
             [
              0.1111111111111111,
              "#46039f"
             ],
             [
              0.2222222222222222,
              "#7201a8"
             ],
             [
              0.3333333333333333,
              "#9c179e"
             ],
             [
              0.4444444444444444,
              "#bd3786"
             ],
             [
              0.5555555555555556,
              "#d8576b"
             ],
             [
              0.6666666666666666,
              "#ed7953"
             ],
             [
              0.7777777777777778,
              "#fb9f3a"
             ],
             [
              0.8888888888888888,
              "#fdca26"
             ],
             [
              1,
              "#f0f921"
             ]
            ],
            "type": "histogram2d"
           }
          ],
          "histogram2dcontour": [
           {
            "colorbar": {
             "outlinewidth": 0,
             "ticks": ""
            },
            "colorscale": [
             [
              0,
              "#0d0887"
             ],
             [
              0.1111111111111111,
              "#46039f"
             ],
             [
              0.2222222222222222,
              "#7201a8"
             ],
             [
              0.3333333333333333,
              "#9c179e"
             ],
             [
              0.4444444444444444,
              "#bd3786"
             ],
             [
              0.5555555555555556,
              "#d8576b"
             ],
             [
              0.6666666666666666,
              "#ed7953"
             ],
             [
              0.7777777777777778,
              "#fb9f3a"
             ],
             [
              0.8888888888888888,
              "#fdca26"
             ],
             [
              1,
              "#f0f921"
             ]
            ],
            "type": "histogram2dcontour"
           }
          ],
          "mesh3d": [
           {
            "colorbar": {
             "outlinewidth": 0,
             "ticks": ""
            },
            "type": "mesh3d"
           }
          ],
          "parcoords": [
           {
            "line": {
             "colorbar": {
              "outlinewidth": 0,
              "ticks": ""
             }
            },
            "type": "parcoords"
           }
          ],
          "pie": [
           {
            "automargin": true,
            "type": "pie"
           }
          ],
          "scatter": [
           {
            "fillpattern": {
             "fillmode": "overlay",
             "size": 10,
             "solidity": 0.2
            },
            "type": "scatter"
           }
          ],
          "scatter3d": [
           {
            "line": {
             "colorbar": {
              "outlinewidth": 0,
              "ticks": ""
             }
            },
            "marker": {
             "colorbar": {
              "outlinewidth": 0,
              "ticks": ""
             }
            },
            "type": "scatter3d"
           }
          ],
          "scattercarpet": [
           {
            "marker": {
             "colorbar": {
              "outlinewidth": 0,
              "ticks": ""
             }
            },
            "type": "scattercarpet"
           }
          ],
          "scattergeo": [
           {
            "marker": {
             "colorbar": {
              "outlinewidth": 0,
              "ticks": ""
             }
            },
            "type": "scattergeo"
           }
          ],
          "scattergl": [
           {
            "marker": {
             "colorbar": {
              "outlinewidth": 0,
              "ticks": ""
             }
            },
            "type": "scattergl"
           }
          ],
          "scattermapbox": [
           {
            "marker": {
             "colorbar": {
              "outlinewidth": 0,
              "ticks": ""
             }
            },
            "type": "scattermapbox"
           }
          ],
          "scatterpolar": [
           {
            "marker": {
             "colorbar": {
              "outlinewidth": 0,
              "ticks": ""
             }
            },
            "type": "scatterpolar"
           }
          ],
          "scatterpolargl": [
           {
            "marker": {
             "colorbar": {
              "outlinewidth": 0,
              "ticks": ""
             }
            },
            "type": "scatterpolargl"
           }
          ],
          "scatterternary": [
           {
            "marker": {
             "colorbar": {
              "outlinewidth": 0,
              "ticks": ""
             }
            },
            "type": "scatterternary"
           }
          ],
          "surface": [
           {
            "colorbar": {
             "outlinewidth": 0,
             "ticks": ""
            },
            "colorscale": [
             [
              0,
              "#0d0887"
             ],
             [
              0.1111111111111111,
              "#46039f"
             ],
             [
              0.2222222222222222,
              "#7201a8"
             ],
             [
              0.3333333333333333,
              "#9c179e"
             ],
             [
              0.4444444444444444,
              "#bd3786"
             ],
             [
              0.5555555555555556,
              "#d8576b"
             ],
             [
              0.6666666666666666,
              "#ed7953"
             ],
             [
              0.7777777777777778,
              "#fb9f3a"
             ],
             [
              0.8888888888888888,
              "#fdca26"
             ],
             [
              1,
              "#f0f921"
             ]
            ],
            "type": "surface"
           }
          ],
          "table": [
           {
            "cells": {
             "fill": {
              "color": "#EBF0F8"
             },
             "line": {
              "color": "white"
             }
            },
            "header": {
             "fill": {
              "color": "#C8D4E3"
             },
             "line": {
              "color": "white"
             }
            },
            "type": "table"
           }
          ]
         },
         "layout": {
          "annotationdefaults": {
           "arrowcolor": "#2a3f5f",
           "arrowhead": 0,
           "arrowwidth": 1
          },
          "autotypenumbers": "strict",
          "coloraxis": {
           "colorbar": {
            "outlinewidth": 0,
            "ticks": ""
           }
          },
          "colorscale": {
           "diverging": [
            [
             0,
             "#8e0152"
            ],
            [
             0.1,
             "#c51b7d"
            ],
            [
             0.2,
             "#de77ae"
            ],
            [
             0.3,
             "#f1b6da"
            ],
            [
             0.4,
             "#fde0ef"
            ],
            [
             0.5,
             "#f7f7f7"
            ],
            [
             0.6,
             "#e6f5d0"
            ],
            [
             0.7,
             "#b8e186"
            ],
            [
             0.8,
             "#7fbc41"
            ],
            [
             0.9,
             "#4d9221"
            ],
            [
             1,
             "#276419"
            ]
           ],
           "sequential": [
            [
             0,
             "#0d0887"
            ],
            [
             0.1111111111111111,
             "#46039f"
            ],
            [
             0.2222222222222222,
             "#7201a8"
            ],
            [
             0.3333333333333333,
             "#9c179e"
            ],
            [
             0.4444444444444444,
             "#bd3786"
            ],
            [
             0.5555555555555556,
             "#d8576b"
            ],
            [
             0.6666666666666666,
             "#ed7953"
            ],
            [
             0.7777777777777778,
             "#fb9f3a"
            ],
            [
             0.8888888888888888,
             "#fdca26"
            ],
            [
             1,
             "#f0f921"
            ]
           ],
           "sequentialminus": [
            [
             0,
             "#0d0887"
            ],
            [
             0.1111111111111111,
             "#46039f"
            ],
            [
             0.2222222222222222,
             "#7201a8"
            ],
            [
             0.3333333333333333,
             "#9c179e"
            ],
            [
             0.4444444444444444,
             "#bd3786"
            ],
            [
             0.5555555555555556,
             "#d8576b"
            ],
            [
             0.6666666666666666,
             "#ed7953"
            ],
            [
             0.7777777777777778,
             "#fb9f3a"
            ],
            [
             0.8888888888888888,
             "#fdca26"
            ],
            [
             1,
             "#f0f921"
            ]
           ]
          },
          "colorway": [
           "#636efa",
           "#EF553B",
           "#00cc96",
           "#ab63fa",
           "#FFA15A",
           "#19d3f3",
           "#FF6692",
           "#B6E880",
           "#FF97FF",
           "#FECB52"
          ],
          "font": {
           "color": "#2a3f5f"
          },
          "geo": {
           "bgcolor": "white",
           "lakecolor": "white",
           "landcolor": "#E5ECF6",
           "showlakes": true,
           "showland": true,
           "subunitcolor": "white"
          },
          "hoverlabel": {
           "align": "left"
          },
          "hovermode": "closest",
          "mapbox": {
           "style": "light"
          },
          "paper_bgcolor": "white",
          "plot_bgcolor": "#E5ECF6",
          "polar": {
           "angularaxis": {
            "gridcolor": "white",
            "linecolor": "white",
            "ticks": ""
           },
           "bgcolor": "#E5ECF6",
           "radialaxis": {
            "gridcolor": "white",
            "linecolor": "white",
            "ticks": ""
           }
          },
          "scene": {
           "xaxis": {
            "backgroundcolor": "#E5ECF6",
            "gridcolor": "white",
            "gridwidth": 2,
            "linecolor": "white",
            "showbackground": true,
            "ticks": "",
            "zerolinecolor": "white"
           },
           "yaxis": {
            "backgroundcolor": "#E5ECF6",
            "gridcolor": "white",
            "gridwidth": 2,
            "linecolor": "white",
            "showbackground": true,
            "ticks": "",
            "zerolinecolor": "white"
           },
           "zaxis": {
            "backgroundcolor": "#E5ECF6",
            "gridcolor": "white",
            "gridwidth": 2,
            "linecolor": "white",
            "showbackground": true,
            "ticks": "",
            "zerolinecolor": "white"
           }
          },
          "shapedefaults": {
           "line": {
            "color": "#2a3f5f"
           }
          },
          "ternary": {
           "aaxis": {
            "gridcolor": "white",
            "linecolor": "white",
            "ticks": ""
           },
           "baxis": {
            "gridcolor": "white",
            "linecolor": "white",
            "ticks": ""
           },
           "bgcolor": "#E5ECF6",
           "caxis": {
            "gridcolor": "white",
            "linecolor": "white",
            "ticks": ""
           }
          },
          "title": {
           "x": 0.05
          },
          "xaxis": {
           "automargin": true,
           "gridcolor": "white",
           "linecolor": "white",
           "ticks": "",
           "title": {
            "standoff": 15
           },
           "zerolinecolor": "white",
           "zerolinewidth": 2
          },
          "yaxis": {
           "automargin": true,
           "gridcolor": "white",
           "linecolor": "white",
           "ticks": "",
           "title": {
            "standoff": 15
           },
           "zerolinecolor": "white",
           "zerolinewidth": 2
          }
         }
        },
        "xaxis": {
         "anchor": "y",
         "constrain": "domain",
         "domain": [
          0,
          0.49
         ],
         "scaleanchor": "y"
        },
        "xaxis2": {
         "anchor": "y2",
         "domain": [
          0.51,
          1
         ],
         "matches": "x"
        },
        "yaxis": {
         "anchor": "x",
         "autorange": "reversed",
         "constrain": "domain",
         "domain": [
          0,
          1
         ]
        },
        "yaxis2": {
         "anchor": "x2",
         "domain": [
          0,
          1
         ],
         "matches": "y",
         "showticklabels": false
        }
       }
      }
     },
     "metadata": {},
     "output_type": "display_data"
    }
   ],
   "source": [
    "transposed_kernels_weights = np.flip(multi_channels_kernels, axis=(1, 2)).reshape(2, -1).T\n",
    "padded_views = flatten_padded_inputs[:, convolution_indices]\n",
    "flatten_convolutions = padded_views @ transposed_kernels_weights\n",
    "convolutions = flatten_convolutions.reshape(2, nb_x_correlations, nb_y_correlations, 2)\n",
    "\n",
    "px.imshow(convolutions[1], facet_col=2)"
   ]
  }
 ],
 "metadata": {
  "kernelspec": {
   "display_name": "CNN",
   "language": "python",
   "name": "python3"
  },
  "language_info": {
   "codemirror_mode": {
    "name": "ipython",
    "version": 3
   },
   "file_extension": ".py",
   "mimetype": "text/x-python",
   "name": "python",
   "nbconvert_exporter": "python",
   "pygments_lexer": "ipython3",
   "version": "3.12.3"
  }
 },
 "nbformat": 4,
 "nbformat_minor": 2
}
