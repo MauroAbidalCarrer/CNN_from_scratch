{
 "cells": [
  {
   "cell_type": "markdown",
   "metadata": {},
   "source": [
    "# Cross correlation implementation\n",
    "In this notebook, we will implement the cross correlation of a batch of kernels with a batch of input images.  \n",
    "Cross correlation (and convolution) are essentially dot products repeated over the input image.  \n",
    "This is because at each correlation, the kernel and input image values correspond to a fixed \"window index\".  \n",
    "This is a 1D index that make the kernel to the input image.  \n",
    "We just need to compute that index and then repeat it for nb_correlations times with an offset in both the horizontal and vertical direction.  \n"
   ]
  },
  {
   "cell_type": "markdown",
   "metadata": {},
   "source": [
    "## Setup"
   ]
  },
  {
   "cell_type": "markdown",
   "metadata": {},
   "source": [
    "### Imports"
   ]
  },
  {
   "cell_type": "code",
   "execution_count": 2,
   "metadata": {},
   "outputs": [],
   "source": [
    "from os.path import join\n",
    "\n",
    "from scipy.signal import correlate2d\n",
    "import plotly.subplots as sp\n",
    "import numpy as np\n",
    "import plotly.express as px\n",
    "import kagglehub\n",
    "\n",
    "from cifar_10_dataset_loading import load_cifar_10"
   ]
  },
  {
   "cell_type": "markdown",
   "metadata": {},
   "source": [
    "### Data extraction"
   ]
  },
  {
   "cell_type": "code",
   "execution_count": 3,
   "metadata": {},
   "outputs": [],
   "source": [
    "dataset_path = kagglehub.dataset_download(\"hojjatk/mnist-dataset\")\n",
    "train_image_path = join(dataset_path, 'train-images.idx3-ubyte')\n",
    "train_labels_path = join(dataset_path, 'train-labels.idx1-ubyte')\n",
    "test_image_path = join(dataset_path, 't10k-images.idx3-ubyte')\n",
    "test_labels_path = join(dataset_path, 't10k-labels.idx1-ubyte')\n",
    "\n",
    "def load_images(path) -> np.ndarray:\n",
    "    with open(path, 'rb') as f:\n",
    "        return (\n",
    "            np.frombuffer(f.read(), dtype=np.uint8)\n",
    "            [16:]\n",
    "            .reshape(-1, 28**2)\n",
    "            / 255\n",
    "        )\n",
    "\n",
    "def load_labels(path) -> np.ndarray:\n",
    "    with open(path, 'rb') as f:\n",
    "        label_idxs = np.frombuffer(f.read(), dtype=np.uint8)[8:]\n",
    "        labels = np.eye(10)[label_idxs]\n",
    "        return labels\n",
    "\n",
    "train_dataset = load_images(train_image_path)\n",
    "train_labels = load_labels(train_labels_path)\n",
    "test_dataset = load_images(test_image_path)\n",
    "test_labels = load_labels(test_labels_path)"
   ]
  },
  {
   "cell_type": "code",
   "execution_count": 4,
   "metadata": {},
   "outputs": [
    {
     "data": {
      "application/vnd.plotly.v1+json": {
       "config": {
        "plotlyServerURL": "https://plot.ly"
       },
       "data": [
        {
         "coloraxis": "coloraxis",
         "hovertemplate": "x: %{x}<br>y: %{y}<br>color: %{z}<extra></extra>",
         "name": "0",
         "type": "heatmap",
         "xaxis": "x",
         "yaxis": "y",
         "z": [
          [
           0,
           0,
           0,
           0,
           0,
           0,
           0,
           0,
           0,
           0,
           0,
           0,
           0,
           0,
           0,
           0,
           0,
           0,
           0,
           0,
           0,
           0,
           0,
           0,
           0,
           0,
           0,
           0
          ],
          [
           0,
           0,
           0,
           0,
           0,
           0,
           0,
           0,
           0,
           0,
           0,
           0,
           0,
           0,
           0,
           0,
           0,
           0,
           0,
           0,
           0,
           0,
           0,
           0,
           0,
           0,
           0,
           0
          ],
          [
           0,
           0,
           0,
           0,
           0,
           0,
           0,
           0,
           0,
           0,
           0,
           0,
           0,
           0,
           0,
           0,
           0,
           0,
           0,
           0,
           0,
           0,
           0,
           0,
           0,
           0,
           0,
           0
          ],
          [
           0,
           0,
           0,
           0,
           0,
           0,
           0,
           0,
           0,
           0,
           0,
           0,
           0,
           0,
           0,
           0,
           0,
           0,
           0,
           0,
           0,
           0,
           0,
           0,
           0,
           0,
           0,
           0
          ],
          [
           0,
           0,
           0,
           0,
           0,
           0,
           0,
           0,
           0,
           0,
           0,
           0,
           0,
           0,
           0,
           0,
           0,
           0,
           0,
           0,
           0,
           0,
           0,
           0,
           0,
           0,
           0,
           0
          ],
          [
           0,
           0,
           0,
           0,
           0,
           0,
           0,
           0,
           0,
           0,
           0,
           0,
           0.011764705882352941,
           0.07058823529411765,
           0.07058823529411765,
           0.07058823529411765,
           0.49411764705882355,
           0.5333333333333333,
           0.6862745098039216,
           0.10196078431372549,
           0.6509803921568628,
           1,
           0.9686274509803922,
           0.4980392156862745,
           0,
           0,
           0,
           0
          ],
          [
           0,
           0,
           0,
           0,
           0,
           0,
           0,
           0,
           0.11764705882352941,
           0.1411764705882353,
           0.3686274509803922,
           0.6039215686274509,
           0.6666666666666666,
           0.9921568627450981,
           0.9921568627450981,
           0.9921568627450981,
           0.9921568627450981,
           0.9921568627450981,
           0.8823529411764706,
           0.6745098039215687,
           0.9921568627450981,
           0.9490196078431372,
           0.7647058823529411,
           0.25098039215686274,
           0,
           0,
           0,
           0
          ],
          [
           0,
           0,
           0,
           0,
           0,
           0,
           0,
           0.19215686274509805,
           0.9333333333333333,
           0.9921568627450981,
           0.9921568627450981,
           0.9921568627450981,
           0.9921568627450981,
           0.9921568627450981,
           0.9921568627450981,
           0.9921568627450981,
           0.9921568627450981,
           0.984313725490196,
           0.36470588235294116,
           0.3215686274509804,
           0.3215686274509804,
           0.2196078431372549,
           0.15294117647058825,
           0,
           0,
           0,
           0,
           0
          ],
          [
           0,
           0,
           0,
           0,
           0,
           0,
           0,
           0.07058823529411765,
           0.8588235294117647,
           0.9921568627450981,
           0.9921568627450981,
           0.9921568627450981,
           0.9921568627450981,
           0.9921568627450981,
           0.7764705882352941,
           0.7137254901960784,
           0.9686274509803922,
           0.9450980392156862,
           0,
           0,
           0,
           0,
           0,
           0,
           0,
           0,
           0,
           0
          ],
          [
           0,
           0,
           0,
           0,
           0,
           0,
           0,
           0,
           0.3137254901960784,
           0.611764705882353,
           0.4196078431372549,
           0.9921568627450981,
           0.9921568627450981,
           0.803921568627451,
           0.043137254901960784,
           0,
           0.16862745098039217,
           0.6039215686274509,
           0,
           0,
           0,
           0,
           0,
           0,
           0,
           0,
           0,
           0
          ],
          [
           0,
           0,
           0,
           0,
           0,
           0,
           0,
           0,
           0,
           0.054901960784313725,
           0.00392156862745098,
           0.6039215686274509,
           0.9921568627450981,
           0.35294117647058826,
           0,
           0,
           0,
           0,
           0,
           0,
           0,
           0,
           0,
           0,
           0,
           0,
           0,
           0
          ],
          [
           0,
           0,
           0,
           0,
           0,
           0,
           0,
           0,
           0,
           0,
           0,
           0.5450980392156862,
           0.9921568627450981,
           0.7450980392156863,
           0.00784313725490196,
           0,
           0,
           0,
           0,
           0,
           0,
           0,
           0,
           0,
           0,
           0,
           0,
           0
          ],
          [
           0,
           0,
           0,
           0,
           0,
           0,
           0,
           0,
           0,
           0,
           0,
           0.043137254901960784,
           0.7450980392156863,
           0.9921568627450981,
           0.27450980392156865,
           0,
           0,
           0,
           0,
           0,
           0,
           0,
           0,
           0,
           0,
           0,
           0,
           0
          ],
          [
           0,
           0,
           0,
           0,
           0,
           0,
           0,
           0,
           0,
           0,
           0,
           0,
           0.13725490196078433,
           0.9450980392156862,
           0.8823529411764706,
           0.6274509803921569,
           0.4235294117647059,
           0.00392156862745098,
           0,
           0,
           0,
           0,
           0,
           0,
           0,
           0,
           0,
           0
          ],
          [
           0,
           0,
           0,
           0,
           0,
           0,
           0,
           0,
           0,
           0,
           0,
           0,
           0,
           0.3176470588235294,
           0.9411764705882353,
           0.9921568627450981,
           0.9921568627450981,
           0.4666666666666667,
           0.09803921568627451,
           0,
           0,
           0,
           0,
           0,
           0,
           0,
           0,
           0
          ],
          [
           0,
           0,
           0,
           0,
           0,
           0,
           0,
           0,
           0,
           0,
           0,
           0,
           0,
           0,
           0.17647058823529413,
           0.7294117647058823,
           0.9921568627450981,
           0.9921568627450981,
           0.5882352941176471,
           0.10588235294117647,
           0,
           0,
           0,
           0,
           0,
           0,
           0,
           0
          ],
          [
           0,
           0,
           0,
           0,
           0,
           0,
           0,
           0,
           0,
           0,
           0,
           0,
           0,
           0,
           0,
           0.06274509803921569,
           0.36470588235294116,
           0.9882352941176471,
           0.9921568627450981,
           0.7333333333333333,
           0,
           0,
           0,
           0,
           0,
           0,
           0,
           0
          ],
          [
           0,
           0,
           0,
           0,
           0,
           0,
           0,
           0,
           0,
           0,
           0,
           0,
           0,
           0,
           0,
           0,
           0,
           0.9764705882352941,
           0.9921568627450981,
           0.9764705882352941,
           0.25098039215686274,
           0,
           0,
           0,
           0,
           0,
           0,
           0
          ],
          [
           0,
           0,
           0,
           0,
           0,
           0,
           0,
           0,
           0,
           0,
           0,
           0,
           0,
           0,
           0.1803921568627451,
           0.5098039215686274,
           0.7176470588235294,
           0.9921568627450981,
           0.9921568627450981,
           0.8117647058823529,
           0.00784313725490196,
           0,
           0,
           0,
           0,
           0,
           0,
           0
          ],
          [
           0,
           0,
           0,
           0,
           0,
           0,
           0,
           0,
           0,
           0,
           0,
           0,
           0.15294117647058825,
           0.5803921568627451,
           0.8980392156862745,
           0.9921568627450981,
           0.9921568627450981,
           0.9921568627450981,
           0.9803921568627451,
           0.7137254901960784,
           0,
           0,
           0,
           0,
           0,
           0,
           0,
           0
          ],
          [
           0,
           0,
           0,
           0,
           0,
           0,
           0,
           0,
           0,
           0,
           0.09411764705882353,
           0.4470588235294118,
           0.8666666666666667,
           0.9921568627450981,
           0.9921568627450981,
           0.9921568627450981,
           0.9921568627450981,
           0.788235294117647,
           0.3058823529411765,
           0,
           0,
           0,
           0,
           0,
           0,
           0,
           0,
           0
          ],
          [
           0,
           0,
           0,
           0,
           0,
           0,
           0,
           0,
           0.09019607843137255,
           0.25882352941176473,
           0.8352941176470589,
           0.9921568627450981,
           0.9921568627450981,
           0.9921568627450981,
           0.9921568627450981,
           0.7764705882352941,
           0.3176470588235294,
           0.00784313725490196,
           0,
           0,
           0,
           0,
           0,
           0,
           0,
           0,
           0,
           0
          ],
          [
           0,
           0,
           0,
           0,
           0,
           0,
           0.07058823529411765,
           0.6705882352941176,
           0.8588235294117647,
           0.9921568627450981,
           0.9921568627450981,
           0.9921568627450981,
           0.9921568627450981,
           0.7647058823529411,
           0.3137254901960784,
           0.03529411764705882,
           0,
           0,
           0,
           0,
           0,
           0,
           0,
           0,
           0,
           0,
           0,
           0
          ],
          [
           0,
           0,
           0,
           0,
           0.21568627450980393,
           0.6745098039215687,
           0.8862745098039215,
           0.9921568627450981,
           0.9921568627450981,
           0.9921568627450981,
           0.9921568627450981,
           0.9568627450980393,
           0.5215686274509804,
           0.043137254901960784,
           0,
           0,
           0,
           0,
           0,
           0,
           0,
           0,
           0,
           0,
           0,
           0,
           0,
           0
          ],
          [
           0,
           0,
           0,
           0,
           0.5333333333333333,
           0.9921568627450981,
           0.9921568627450981,
           0.9921568627450981,
           0.8313725490196079,
           0.5294117647058824,
           0.5176470588235295,
           0.06274509803921569,
           0,
           0,
           0,
           0,
           0,
           0,
           0,
           0,
           0,
           0,
           0,
           0,
           0,
           0,
           0,
           0
          ],
          [
           0,
           0,
           0,
           0,
           0,
           0,
           0,
           0,
           0,
           0,
           0,
           0,
           0,
           0,
           0,
           0,
           0,
           0,
           0,
           0,
           0,
           0,
           0,
           0,
           0,
           0,
           0,
           0
          ],
          [
           0,
           0,
           0,
           0,
           0,
           0,
           0,
           0,
           0,
           0,
           0,
           0,
           0,
           0,
           0,
           0,
           0,
           0,
           0,
           0,
           0,
           0,
           0,
           0,
           0,
           0,
           0,
           0
          ],
          [
           0,
           0,
           0,
           0,
           0,
           0,
           0,
           0,
           0,
           0,
           0,
           0,
           0,
           0,
           0,
           0,
           0,
           0,
           0,
           0,
           0,
           0,
           0,
           0,
           0,
           0,
           0,
           0
          ]
         ]
        }
       ],
       "layout": {
        "coloraxis": {
         "colorscale": [
          [
           0,
           "rgb(150,0,90)"
          ],
          [
           0.125,
           "rgb(0,0,200)"
          ],
          [
           0.25,
           "rgb(0,25,255)"
          ],
          [
           0.375,
           "rgb(0,152,255)"
          ],
          [
           0.5,
           "rgb(44,255,150)"
          ],
          [
           0.625,
           "rgb(151,255,0)"
          ],
          [
           0.75,
           "rgb(255,234,0)"
          ],
          [
           0.875,
           "rgb(255,111,0)"
          ],
          [
           1,
           "rgb(255,0,0)"
          ]
         ]
        },
        "margin": {
         "t": 60
        },
        "template": {
         "data": {
          "bar": [
           {
            "error_x": {
             "color": "#2a3f5f"
            },
            "error_y": {
             "color": "#2a3f5f"
            },
            "marker": {
             "line": {
              "color": "#E5ECF6",
              "width": 0.5
             },
             "pattern": {
              "fillmode": "overlay",
              "size": 10,
              "solidity": 0.2
             }
            },
            "type": "bar"
           }
          ],
          "barpolar": [
           {
            "marker": {
             "line": {
              "color": "#E5ECF6",
              "width": 0.5
             },
             "pattern": {
              "fillmode": "overlay",
              "size": 10,
              "solidity": 0.2
             }
            },
            "type": "barpolar"
           }
          ],
          "carpet": [
           {
            "aaxis": {
             "endlinecolor": "#2a3f5f",
             "gridcolor": "white",
             "linecolor": "white",
             "minorgridcolor": "white",
             "startlinecolor": "#2a3f5f"
            },
            "baxis": {
             "endlinecolor": "#2a3f5f",
             "gridcolor": "white",
             "linecolor": "white",
             "minorgridcolor": "white",
             "startlinecolor": "#2a3f5f"
            },
            "type": "carpet"
           }
          ],
          "choropleth": [
           {
            "colorbar": {
             "outlinewidth": 0,
             "ticks": ""
            },
            "type": "choropleth"
           }
          ],
          "contour": [
           {
            "colorbar": {
             "outlinewidth": 0,
             "ticks": ""
            },
            "colorscale": [
             [
              0,
              "#0d0887"
             ],
             [
              0.1111111111111111,
              "#46039f"
             ],
             [
              0.2222222222222222,
              "#7201a8"
             ],
             [
              0.3333333333333333,
              "#9c179e"
             ],
             [
              0.4444444444444444,
              "#bd3786"
             ],
             [
              0.5555555555555556,
              "#d8576b"
             ],
             [
              0.6666666666666666,
              "#ed7953"
             ],
             [
              0.7777777777777778,
              "#fb9f3a"
             ],
             [
              0.8888888888888888,
              "#fdca26"
             ],
             [
              1,
              "#f0f921"
             ]
            ],
            "type": "contour"
           }
          ],
          "contourcarpet": [
           {
            "colorbar": {
             "outlinewidth": 0,
             "ticks": ""
            },
            "type": "contourcarpet"
           }
          ],
          "heatmap": [
           {
            "colorbar": {
             "outlinewidth": 0,
             "ticks": ""
            },
            "colorscale": [
             [
              0,
              "#0d0887"
             ],
             [
              0.1111111111111111,
              "#46039f"
             ],
             [
              0.2222222222222222,
              "#7201a8"
             ],
             [
              0.3333333333333333,
              "#9c179e"
             ],
             [
              0.4444444444444444,
              "#bd3786"
             ],
             [
              0.5555555555555556,
              "#d8576b"
             ],
             [
              0.6666666666666666,
              "#ed7953"
             ],
             [
              0.7777777777777778,
              "#fb9f3a"
             ],
             [
              0.8888888888888888,
              "#fdca26"
             ],
             [
              1,
              "#f0f921"
             ]
            ],
            "type": "heatmap"
           }
          ],
          "heatmapgl": [
           {
            "colorbar": {
             "outlinewidth": 0,
             "ticks": ""
            },
            "colorscale": [
             [
              0,
              "#0d0887"
             ],
             [
              0.1111111111111111,
              "#46039f"
             ],
             [
              0.2222222222222222,
              "#7201a8"
             ],
             [
              0.3333333333333333,
              "#9c179e"
             ],
             [
              0.4444444444444444,
              "#bd3786"
             ],
             [
              0.5555555555555556,
              "#d8576b"
             ],
             [
              0.6666666666666666,
              "#ed7953"
             ],
             [
              0.7777777777777778,
              "#fb9f3a"
             ],
             [
              0.8888888888888888,
              "#fdca26"
             ],
             [
              1,
              "#f0f921"
             ]
            ],
            "type": "heatmapgl"
           }
          ],
          "histogram": [
           {
            "marker": {
             "pattern": {
              "fillmode": "overlay",
              "size": 10,
              "solidity": 0.2
             }
            },
            "type": "histogram"
           }
          ],
          "histogram2d": [
           {
            "colorbar": {
             "outlinewidth": 0,
             "ticks": ""
            },
            "colorscale": [
             [
              0,
              "#0d0887"
             ],
             [
              0.1111111111111111,
              "#46039f"
             ],
             [
              0.2222222222222222,
              "#7201a8"
             ],
             [
              0.3333333333333333,
              "#9c179e"
             ],
             [
              0.4444444444444444,
              "#bd3786"
             ],
             [
              0.5555555555555556,
              "#d8576b"
             ],
             [
              0.6666666666666666,
              "#ed7953"
             ],
             [
              0.7777777777777778,
              "#fb9f3a"
             ],
             [
              0.8888888888888888,
              "#fdca26"
             ],
             [
              1,
              "#f0f921"
             ]
            ],
            "type": "histogram2d"
           }
          ],
          "histogram2dcontour": [
           {
            "colorbar": {
             "outlinewidth": 0,
             "ticks": ""
            },
            "colorscale": [
             [
              0,
              "#0d0887"
             ],
             [
              0.1111111111111111,
              "#46039f"
             ],
             [
              0.2222222222222222,
              "#7201a8"
             ],
             [
              0.3333333333333333,
              "#9c179e"
             ],
             [
              0.4444444444444444,
              "#bd3786"
             ],
             [
              0.5555555555555556,
              "#d8576b"
             ],
             [
              0.6666666666666666,
              "#ed7953"
             ],
             [
              0.7777777777777778,
              "#fb9f3a"
             ],
             [
              0.8888888888888888,
              "#fdca26"
             ],
             [
              1,
              "#f0f921"
             ]
            ],
            "type": "histogram2dcontour"
           }
          ],
          "mesh3d": [
           {
            "colorbar": {
             "outlinewidth": 0,
             "ticks": ""
            },
            "type": "mesh3d"
           }
          ],
          "parcoords": [
           {
            "line": {
             "colorbar": {
              "outlinewidth": 0,
              "ticks": ""
             }
            },
            "type": "parcoords"
           }
          ],
          "pie": [
           {
            "automargin": true,
            "type": "pie"
           }
          ],
          "scatter": [
           {
            "fillpattern": {
             "fillmode": "overlay",
             "size": 10,
             "solidity": 0.2
            },
            "type": "scatter"
           }
          ],
          "scatter3d": [
           {
            "line": {
             "colorbar": {
              "outlinewidth": 0,
              "ticks": ""
             }
            },
            "marker": {
             "colorbar": {
              "outlinewidth": 0,
              "ticks": ""
             }
            },
            "type": "scatter3d"
           }
          ],
          "scattercarpet": [
           {
            "marker": {
             "colorbar": {
              "outlinewidth": 0,
              "ticks": ""
             }
            },
            "type": "scattercarpet"
           }
          ],
          "scattergeo": [
           {
            "marker": {
             "colorbar": {
              "outlinewidth": 0,
              "ticks": ""
             }
            },
            "type": "scattergeo"
           }
          ],
          "scattergl": [
           {
            "marker": {
             "colorbar": {
              "outlinewidth": 0,
              "ticks": ""
             }
            },
            "type": "scattergl"
           }
          ],
          "scattermapbox": [
           {
            "marker": {
             "colorbar": {
              "outlinewidth": 0,
              "ticks": ""
             }
            },
            "type": "scattermapbox"
           }
          ],
          "scatterpolar": [
           {
            "marker": {
             "colorbar": {
              "outlinewidth": 0,
              "ticks": ""
             }
            },
            "type": "scatterpolar"
           }
          ],
          "scatterpolargl": [
           {
            "marker": {
             "colorbar": {
              "outlinewidth": 0,
              "ticks": ""
             }
            },
            "type": "scatterpolargl"
           }
          ],
          "scatterternary": [
           {
            "marker": {
             "colorbar": {
              "outlinewidth": 0,
              "ticks": ""
             }
            },
            "type": "scatterternary"
           }
          ],
          "surface": [
           {
            "colorbar": {
             "outlinewidth": 0,
             "ticks": ""
            },
            "colorscale": [
             [
              0,
              "#0d0887"
             ],
             [
              0.1111111111111111,
              "#46039f"
             ],
             [
              0.2222222222222222,
              "#7201a8"
             ],
             [
              0.3333333333333333,
              "#9c179e"
             ],
             [
              0.4444444444444444,
              "#bd3786"
             ],
             [
              0.5555555555555556,
              "#d8576b"
             ],
             [
              0.6666666666666666,
              "#ed7953"
             ],
             [
              0.7777777777777778,
              "#fb9f3a"
             ],
             [
              0.8888888888888888,
              "#fdca26"
             ],
             [
              1,
              "#f0f921"
             ]
            ],
            "type": "surface"
           }
          ],
          "table": [
           {
            "cells": {
             "fill": {
              "color": "#EBF0F8"
             },
             "line": {
              "color": "white"
             }
            },
            "header": {
             "fill": {
              "color": "#C8D4E3"
             },
             "line": {
              "color": "white"
             }
            },
            "type": "table"
           }
          ]
         },
         "layout": {
          "annotationdefaults": {
           "arrowcolor": "#2a3f5f",
           "arrowhead": 0,
           "arrowwidth": 1
          },
          "autotypenumbers": "strict",
          "coloraxis": {
           "colorbar": {
            "outlinewidth": 0,
            "ticks": ""
           }
          },
          "colorscale": {
           "diverging": [
            [
             0,
             "#8e0152"
            ],
            [
             0.1,
             "#c51b7d"
            ],
            [
             0.2,
             "#de77ae"
            ],
            [
             0.3,
             "#f1b6da"
            ],
            [
             0.4,
             "#fde0ef"
            ],
            [
             0.5,
             "#f7f7f7"
            ],
            [
             0.6,
             "#e6f5d0"
            ],
            [
             0.7,
             "#b8e186"
            ],
            [
             0.8,
             "#7fbc41"
            ],
            [
             0.9,
             "#4d9221"
            ],
            [
             1,
             "#276419"
            ]
           ],
           "sequential": [
            [
             0,
             "#0d0887"
            ],
            [
             0.1111111111111111,
             "#46039f"
            ],
            [
             0.2222222222222222,
             "#7201a8"
            ],
            [
             0.3333333333333333,
             "#9c179e"
            ],
            [
             0.4444444444444444,
             "#bd3786"
            ],
            [
             0.5555555555555556,
             "#d8576b"
            ],
            [
             0.6666666666666666,
             "#ed7953"
            ],
            [
             0.7777777777777778,
             "#fb9f3a"
            ],
            [
             0.8888888888888888,
             "#fdca26"
            ],
            [
             1,
             "#f0f921"
            ]
           ],
           "sequentialminus": [
            [
             0,
             "#0d0887"
            ],
            [
             0.1111111111111111,
             "#46039f"
            ],
            [
             0.2222222222222222,
             "#7201a8"
            ],
            [
             0.3333333333333333,
             "#9c179e"
            ],
            [
             0.4444444444444444,
             "#bd3786"
            ],
            [
             0.5555555555555556,
             "#d8576b"
            ],
            [
             0.6666666666666666,
             "#ed7953"
            ],
            [
             0.7777777777777778,
             "#fb9f3a"
            ],
            [
             0.8888888888888888,
             "#fdca26"
            ],
            [
             1,
             "#f0f921"
            ]
           ]
          },
          "colorway": [
           "#636efa",
           "#EF553B",
           "#00cc96",
           "#ab63fa",
           "#FFA15A",
           "#19d3f3",
           "#FF6692",
           "#B6E880",
           "#FF97FF",
           "#FECB52"
          ],
          "font": {
           "color": "#2a3f5f"
          },
          "geo": {
           "bgcolor": "white",
           "lakecolor": "white",
           "landcolor": "#E5ECF6",
           "showlakes": true,
           "showland": true,
           "subunitcolor": "white"
          },
          "hoverlabel": {
           "align": "left"
          },
          "hovermode": "closest",
          "mapbox": {
           "style": "light"
          },
          "paper_bgcolor": "white",
          "plot_bgcolor": "#E5ECF6",
          "polar": {
           "angularaxis": {
            "gridcolor": "white",
            "linecolor": "white",
            "ticks": ""
           },
           "bgcolor": "#E5ECF6",
           "radialaxis": {
            "gridcolor": "white",
            "linecolor": "white",
            "ticks": ""
           }
          },
          "scene": {
           "xaxis": {
            "backgroundcolor": "#E5ECF6",
            "gridcolor": "white",
            "gridwidth": 2,
            "linecolor": "white",
            "showbackground": true,
            "ticks": "",
            "zerolinecolor": "white"
           },
           "yaxis": {
            "backgroundcolor": "#E5ECF6",
            "gridcolor": "white",
            "gridwidth": 2,
            "linecolor": "white",
            "showbackground": true,
            "ticks": "",
            "zerolinecolor": "white"
           },
           "zaxis": {
            "backgroundcolor": "#E5ECF6",
            "gridcolor": "white",
            "gridwidth": 2,
            "linecolor": "white",
            "showbackground": true,
            "ticks": "",
            "zerolinecolor": "white"
           }
          },
          "shapedefaults": {
           "line": {
            "color": "#2a3f5f"
           }
          },
          "ternary": {
           "aaxis": {
            "gridcolor": "white",
            "linecolor": "white",
            "ticks": ""
           },
           "baxis": {
            "gridcolor": "white",
            "linecolor": "white",
            "ticks": ""
           },
           "bgcolor": "#E5ECF6",
           "caxis": {
            "gridcolor": "white",
            "linecolor": "white",
            "ticks": ""
           }
          },
          "title": {
           "x": 0.05
          },
          "xaxis": {
           "automargin": true,
           "gridcolor": "white",
           "linecolor": "white",
           "ticks": "",
           "title": {
            "standoff": 15
           },
           "zerolinecolor": "white",
           "zerolinewidth": 2
          },
          "yaxis": {
           "automargin": true,
           "gridcolor": "white",
           "linecolor": "white",
           "ticks": "",
           "title": {
            "standoff": 15
           },
           "zerolinecolor": "white",
           "zerolinewidth": 2
          }
         }
        },
        "xaxis": {
         "anchor": "y",
         "constrain": "domain",
         "domain": [
          0,
          1
         ],
         "scaleanchor": "y"
        },
        "yaxis": {
         "anchor": "x",
         "autorange": "reversed",
         "constrain": "domain",
         "domain": [
          0,
          1
         ]
        }
       }
      }
     },
     "metadata": {},
     "output_type": "display_data"
    }
   ],
   "source": [
    "px.imshow(train_dataset[0].reshape(28, 28), color_continuous_scale='Rainbow')"
   ]
  },
  {
   "cell_type": "code",
   "execution_count": 5,
   "metadata": {},
   "outputs": [],
   "source": [
    "INPUT_SHAPE = (28, 28)\n",
    "input = train_dataset[0]"
   ]
  },
  {
   "cell_type": "markdown",
   "metadata": {},
   "source": [
    "## Single kernel, single input image, cross correlation implementation"
   ]
  },
  {
   "cell_type": "markdown",
   "metadata": {},
   "source": [
    "First we declare are kernel, we will store it as a vectore this way we can use vector/matrix dot product to compute the cross correlation."
   ]
  },
  {
   "cell_type": "code",
   "execution_count": 6,
   "metadata": {},
   "outputs": [
    {
     "data": {
      "text/plain": [
       "array([ 1,  0, -1,  1,  0, -1,  1,  0, -1])"
      ]
     },
     "execution_count": 6,
     "metadata": {},
     "output_type": "execute_result"
    }
   ],
   "source": [
    "kernel = np.array([\n",
    "    [1, 0, -1], \n",
    "    [1, 0, -1],\n",
    "    [1, 0, -1],\n",
    "])\n",
    "kernel_weights = kernel.ravel()\n",
    "kernel_weights"
   ]
  },
  {
   "cell_type": "markdown",
   "metadata": {},
   "source": [
    "First we will create the \"window\" index of the kernel.  \n",
    "This is the index that will be slid over the input image to compute the cross correlation."
   ]
  },
  {
   "cell_type": "code",
   "execution_count": 7,
   "metadata": {},
   "outputs": [
    {
     "data": {
      "text/plain": [
       "array([ 0,  1,  2, 28, 29, 30, 56, 57, 58])"
      ]
     },
     "execution_count": 7,
     "metadata": {},
     "output_type": "execute_result"
    }
   ],
   "source": [
    "window_index = np.arange(kernel.shape[0])\n",
    "window_index = np.tile(window_index, kernel.shape[1])\n",
    "window_index += np.repeat(np.arange(kernel.shape[0]) * INPUT_SHAPE[0], kernel.shape[1])\n",
    "window_index"
   ]
  },
  {
   "cell_type": "code",
   "execution_count": 8,
   "metadata": {},
   "outputs": [
    {
     "data": {
      "text/plain": [
       "676"
      ]
     },
     "execution_count": 8,
     "metadata": {},
     "output_type": "execute_result"
    }
   ],
   "source": [
    "nb_horizontal_correlations = 1 + INPUT_SHAPE[0] - kernel.shape[0]\n",
    "nb_vertical_correlations = 1 + INPUT_SHAPE[0] - kernel.shape[0]\n",
    "nb_correlations = nb_horizontal_correlations * nb_vertical_correlations\n",
    "nb_correlations"
   ]
  },
  {
   "cell_type": "code",
   "execution_count": 9,
   "metadata": {},
   "outputs": [],
   "source": [
    "# Here we repeat the window index for each correlation and then add the horizontal and vertical offsets and store the result into a matrix.\n",
    "# Each row corresponds to a correlation and each column corresponds to a window index.\n",
    "correlation_indices = np.tile(window_index, (nb_correlations, 1))\n",
    "# The offsets are computed the same way as the window index.\n",
    "# We reshape the offsets by giving them an extra dimension of size 1 to brodcast the addition over the window indices.\n",
    "horizontal_offsets = np.tile(np.arange(nb_horizontal_correlations), nb_vertical_correlations).reshape(-1, 1)\n",
    "vertical_offsets = np.repeat(np.arange(nb_vertical_correlations) * INPUT_SHAPE[0], nb_vertical_correlations).reshape(-1, 1)\n",
    "correlation_indices += horizontal_offsets + vertical_offsets"
   ]
  },
  {
   "cell_type": "code",
   "execution_count": 10,
   "metadata": {},
   "outputs": [
    {
     "data": {
      "application/vnd.plotly.v1+json": {
       "config": {
        "plotlyServerURL": "https://plot.ly"
       },
       "data": [
        {
         "coloraxis": "coloraxis",
         "hovertemplate": "x: %{x}<br>y: %{y}<br>color: %{z}<extra></extra>",
         "name": "0",
         "type": "heatmap",
         "xaxis": "x",
         "yaxis": "y",
         "z": [
          [
           0,
           0,
           0,
           0,
           0,
           0,
           0,
           0,
           0,
           0,
           0,
           0,
           0,
           0,
           0,
           0,
           0,
           0,
           0,
           0,
           0,
           0,
           0,
           0,
           0,
           0
          ],
          [
           0,
           0,
           0,
           0,
           0,
           0,
           0,
           0,
           0,
           0,
           0,
           0,
           0,
           0,
           0,
           0,
           0,
           0,
           0,
           0,
           0,
           0,
           0,
           0,
           0,
           0
          ],
          [
           0,
           0,
           0,
           0,
           0,
           0,
           0,
           0,
           0,
           0,
           0,
           0,
           0,
           0,
           0,
           0,
           0,
           0,
           0,
           0,
           0,
           0,
           0,
           0,
           0,
           0
          ],
          [
           0,
           0,
           0,
           0,
           0,
           0,
           0,
           0,
           0,
           0,
           -0.011764705882352941,
           -0.07058823529411765,
           -0.058823529411764705,
           0,
           -0.42352941176470593,
           -0.4627450980392157,
           -0.19215686274509802,
           0.43137254901960786,
           0.03529411764705881,
           -0.8980392156862745,
           -0.3176470588235294,
           0.5019607843137255,
           0.9686274509803922,
           0.4980392156862745,
           0,
           0
          ],
          [
           0,
           0,
           0,
           0,
           0,
           0,
           -0.11764705882352941,
           -0.1411764705882353,
           -0.25098039215686274,
           -0.46274509803921565,
           -0.3098039215686274,
           -0.45882352941176474,
           -0.38431372549019616,
           0,
           -0.42352941176470593,
           -0.4627450980392157,
           -0.08235294117647052,
           0.7490196078431373,
           -0.0745098039215687,
           -1.172549019607843,
           -0.09019607843137245,
           1.2,
           1.7333333333333334,
           0.7490196078431373,
           0,
           0
          ],
          [
           0,
           0,
           0,
           0,
           0,
           -0.19215686274509805,
           -1.0509803921568628,
           -0.9411764705882353,
           -0.30980392156862746,
           -0.4627450980392156,
           -0.30980392156862746,
           -0.45882352941176474,
           -0.38431372549019616,
           0,
           -0.42352941176470593,
           -0.45490196078431366,
           0.5450980392156863,
           1.411764705882353,
           -0.031372549019607954,
           -1.0705882352941174,
           0.07843137254901972,
           1.4196078431372547,
           1.8862745098039215,
           0.7490196078431373,
           0,
           0
          ],
          [
           0,
           0,
           0,
           0,
           0,
           -0.2627450980392157,
           -1.9098039215686273,
           -1.8627450980392157,
           -0.4431372549019609,
           -0.4627450980392156,
           -0.29803921568627445,
           -0.3882352941176471,
           -0.1098039215686275,
           0.2784313725490196,
           -0.19215686274509802,
           -0.22352941176470575,
           1.7058823529411766,
           1.9254901960784312,
           -0.06666666666666676,
           -0.17254901960784302,
           0.39607843137254906,
           0.9176470588235294,
           0.9176470588235294,
           0.25098039215686274,
           0,
           0
          ],
          [
           0,
           0,
           0,
           0,
           0,
           -0.2627450980392157,
           -2.105882352941176,
           -2.3333333333333335,
           -0.2980392156862746,
           -0.3803921568627451,
           -0.5725490196078431,
           0.18823529411764706,
           1.1647058823529413,
           1.0823529411764707,
           -0.3176470588235294,
           -0.8274509803921567,
           1.7647058823529413,
           2.2117647058823526,
           0.04313725490196074,
           0.10196078431372552,
           0.16862745098039217,
           0.2196078431372549,
           0.15294117647058825,
           0,
           0,
           0
          ],
          [
           0,
           0,
           0,
           0,
           0,
           -0.07058823529411765,
           -1.172549019607843,
           -1.5882352941176472,
           -0.24313725490196086,
           -0.9294117647058823,
           -1.5607843137254902,
           0.43921568627450974,
           2.1568627450980395,
           1.435294117647059,
           -0.3176470588235294,
           -0.8352941176470587,
           1.1372549019607843,
           1.549019607843137,
           0,
           0,
           0,
           0,
           0,
           0,
           0,
           0
          ],
          [
           0,
           0,
           0,
           0,
           0,
           0,
           -0.3137254901960784,
           -0.6666666666666667,
           -0.10980392156862746,
           -1.4745098039215685,
           -2.552941176470588,
           0.23921568627450962,
           2.9254901960784316,
           1.9019607843137256,
           -0.11764705882352941,
           -0.6039215686274509,
           0.16862745098039217,
           0.6039215686274509,
           0,
           0,
           0,
           0,
           0,
           0,
           0,
           0
          ],
          [
           0,
           0,
           0,
           0,
           0,
           0,
           0,
           -0.054901960784313725,
           -0.00392156862745098,
           -1.1372549019607843,
           -2.7254901960784315,
           -0.8980392156862748,
           2.447058823529412,
           2.0901960784313727,
           0.2823529411764706,
           0,
           0,
           0,
           0,
           0,
           0,
           0,
           0,
           0,
           0,
           0
          ],
          [
           0,
           0,
           0,
           0,
           0,
           0,
           0,
           0,
           0,
           -0.588235294117647,
           -1.8745098039215686,
           -2.0941176470588236,
           0.7098039215686276,
           2.054901960784314,
           0.7411764705882351,
           0.6235294117647059,
           0.4235294117647059,
           0.00392156862745098,
           0,
           0,
           0,
           0,
           0,
           0,
           0,
           0
          ],
          [
           0,
           0,
           0,
           0,
           0,
           0,
           0,
           0,
           0,
           -0.043137254901960784,
           -0.8823529411764706,
           -2.211764705882353,
           -1.2156862745098038,
           0.6352941176470588,
           0.6823529411764704,
           1.1490196078431372,
           1.3176470588235294,
           0.47058823529411764,
           0.09803921568627451,
           0,
           0,
           0,
           0,
           0,
           0,
           0
          ],
          [
           0,
           0,
           0,
           0,
           0,
           0,
           0,
           0,
           0,
           0,
           -0.13725490196078433,
           -1.2627450980392156,
           -1.8627450980392157,
           -1.0862745098039217,
           -0.40784313725490207,
           0.8862745098039215,
           1.72156862745098,
           1.3568627450980393,
           0.6862745098039216,
           0.10588235294117647,
           0,
           0,
           0,
           0,
           0,
           0
          ],
          [
           0,
           0,
           0,
           0,
           0,
           0,
           0,
           0,
           0,
           0,
           0,
           -0.3176470588235294,
           -1.1176470588235294,
           -1.4666666666666666,
           -1.231372549019608,
           -0.6627450980392158,
           0.6705882352941175,
           1.607843137254902,
           1.6784313725490196,
           0.8392156862745097,
           0,
           0,
           0,
           0,
           0,
           0
          ],
          [
           0,
           0,
           0,
           0,
           0,
           0,
           0,
           0,
           0,
           0,
           0,
           0,
           -0.17647058823529413,
           -0.792156862745098,
           -1.1803921568627451,
           -2.1647058823529415,
           -1.215686274509804,
           1.1411764705882352,
           2.3215686274509806,
           1.8156862745098037,
           0.25098039215686274,
           0,
           0,
           0,
           0,
           0
          ],
          [
           0,
           0,
           0,
           0,
           0,
           0,
           0,
           0,
           0,
           0,
           0,
           0,
           -0.1803921568627451,
           -0.5725490196078431,
           -0.9019607843137255,
           -2.384313725490196,
           -1.8941176470588235,
           0.43529411764705883,
           2.7176470588235295,
           2.5215686274509803,
           0.2588235294117647,
           0,
           0,
           0,
           0,
           0
          ],
          [
           0,
           0,
           0,
           0,
           0,
           0,
           0,
           0,
           0,
           0,
           -0.15294117647058825,
           -0.5803921568627451,
           -0.9254901960784314,
           -0.9215686274509803,
           -0.6313725490196078,
           -1.4588235294117649,
           -1.2549019607843137,
           0.45882352941176474,
           2.7058823529411766,
           2.5019607843137255,
           0.2588235294117647,
           0,
           0,
           0,
           0,
           0
          ],
          [
           0,
           0,
           0,
           0,
           0,
           0,
           0,
           0,
           -0.09411764705882353,
           -0.4470588235294118,
           -0.9254901960784314,
           -1.1254901960784314,
           -1.0509803921568628,
           -0.9215686274509803,
           -0.6313725490196078,
           -0.2784313725490196,
           0.42352941176470593,
           1.2470588235294118,
           2.2705882352941176,
           1.5254901960784313,
           0.00784313725490196,
           0,
           0,
           0,
           0,
           0
          ],
          [
           0,
           0,
           0,
           0,
           0,
           0,
           -0.09019607843137255,
           -0.25882352941176473,
           -0.8392156862745098,
           -1.1803921568627451,
           -1.0823529411764707,
           -1.1254901960784314,
           -0.8705882352941177,
           -0.196078431372549,
           0.5803921568627451,
           0.9725490196078432,
           1.0156862745098039,
           1.0745098039215686,
           1.2862745098039214,
           0.7137254901960784,
           0,
           0,
           0,
           0,
           0,
           0
          ],
          [
           0,
           0,
           0,
           0,
           -0.07058823529411765,
           -0.6705882352941176,
           -0.8784313725490196,
           -0.5803921568627453,
           -0.9725490196078432,
           -1.1803921568627451,
           -0.9294117647058824,
           -0.3176470588235294,
           0.5529411764705883,
           0.9450980392156862,
           0.9882352941176471,
           1.0078431372549022,
           1.003921568627451,
           0.796078431372549,
           0.3058823529411765,
           0,
           0,
           0,
           0,
           0,
           0,
           0
          ],
          [
           0,
           0,
           -0.21568627450980393,
           -0.6745098039215687,
           -0.7411764705882352,
           -0.988235294117647,
           -0.9843137254901961,
           -0.5803921568627453,
           -0.8784313725490197,
           -0.6980392156862746,
           0.3137254901960784,
           1.1411764705882355,
           1.2000000000000002,
           0.988235294117647,
           0.9882352941176471,
           0.803921568627451,
           0.3176470588235294,
           0.00784313725490196,
           0,
           0,
           0,
           0,
           0,
           0,
           0,
           0
          ],
          [
           0,
           0,
           -0.7490196078431373,
           -1.6666666666666667,
           -1.2,
           -0.988235294117647,
           -0.7333333333333334,
           0.14117647058823524,
           0.180392156862745,
           0.5019607843137255,
           0.9882352941176471,
           1.2039215686274511,
           1.2000000000000002,
           0.7725490196078431,
           0.3137254901960784,
           0.03529411764705882,
           0,
           0,
           0,
           0,
           0,
           0,
           0,
           0,
           0,
           0
          ],
          [
           0,
           0,
           -0.7490196078431373,
           -1.6666666666666667,
           -1.1294117647058823,
           -0.3176470588235294,
           0.05490196078431364,
           0.4627450980392157,
           0.3137254901960784,
           0.5019607843137255,
           0.9882352941176471,
           0.9764705882352942,
           0.5215686274509804,
           0.043137254901960784,
           0,
           0,
           0,
           0,
           0,
           0,
           0,
           0,
           0,
           0,
           0,
           0
          ],
          [
           0,
           0,
           -0.5333333333333333,
           -0.9921568627450981,
           -0.45882352941176474,
           0,
           0.16078431372549018,
           0.4627450980392157,
           0.3137254901960784,
           0.4666666666666667,
           0.5176470588235295,
           0.06274509803921569,
           0,
           0,
           0,
           0,
           0,
           0,
           0,
           0,
           0,
           0,
           0,
           0,
           0,
           0
          ],
          [
           0,
           0,
           0,
           0,
           0,
           0,
           0,
           0,
           0,
           0,
           0,
           0,
           0,
           0,
           0,
           0,
           0,
           0,
           0,
           0,
           0,
           0,
           0,
           0,
           0,
           0
          ]
         ]
        },
        {
         "coloraxis": "coloraxis",
         "hovertemplate": "x: %{x}<br>y: %{y}<br>color: %{z}<extra></extra>",
         "name": "1",
         "type": "heatmap",
         "xaxis": "x2",
         "yaxis": "y2",
         "z": [
          [
           0,
           0,
           0,
           0,
           0,
           0,
           0,
           0,
           0,
           0,
           0,
           0,
           0,
           0,
           0,
           0,
           0,
           0,
           0,
           0,
           0,
           0,
           0,
           0,
           0,
           0
          ],
          [
           0,
           0,
           0,
           0,
           0,
           0,
           0,
           0,
           0,
           0,
           0,
           0,
           0,
           0,
           0,
           0,
           0,
           0,
           0,
           0,
           0,
           0,
           0,
           0,
           0,
           0
          ],
          [
           0,
           0,
           0,
           0,
           0,
           0,
           0,
           0,
           0,
           0,
           0,
           0,
           0,
           0,
           0,
           0,
           0,
           0,
           0,
           0,
           0,
           0,
           0,
           0,
           0,
           0
          ],
          [
           0,
           0,
           0,
           0,
           0,
           0,
           0,
           0,
           0,
           0,
           -0.011764705882352941,
           -0.07058823529411765,
           -0.058823529411764705,
           0,
           -0.42352941176470593,
           -0.4627450980392157,
           -0.19215686274509802,
           0.43137254901960786,
           0.03529411764705881,
           -0.8980392156862745,
           -0.3176470588235294,
           0.5019607843137255,
           0.9686274509803922,
           0.4980392156862745,
           0,
           0
          ],
          [
           0,
           0,
           0,
           0,
           0,
           0,
           -0.11764705882352941,
           -0.1411764705882353,
           -0.25098039215686274,
           -0.46274509803921565,
           -0.3098039215686274,
           -0.45882352941176474,
           -0.38431372549019616,
           0,
           -0.42352941176470593,
           -0.4627450980392157,
           -0.08235294117647052,
           0.7490196078431373,
           -0.0745098039215687,
           -1.172549019607843,
           -0.09019607843137245,
           1.2,
           1.7333333333333334,
           0.7490196078431373,
           0,
           0
          ],
          [
           0,
           0,
           0,
           0,
           0,
           -0.19215686274509805,
           -1.0509803921568628,
           -0.9411764705882353,
           -0.30980392156862746,
           -0.4627450980392156,
           -0.30980392156862735,
           -0.45882352941176474,
           -0.38431372549019616,
           0,
           -0.42352941176470593,
           -0.45490196078431366,
           0.5450980392156863,
           1.4117647058823528,
           -0.031372549019607954,
           -1.0705882352941176,
           0.07843137254901977,
           1.4196078431372547,
           1.8862745098039215,
           0.7490196078431373,
           0,
           0
          ],
          [
           0,
           0,
           0,
           0,
           0,
           -0.2627450980392157,
           -1.9098039215686273,
           -1.8627450980392157,
           -0.4431372549019609,
           -0.4627450980392156,
           -0.29803921568627445,
           -0.3882352941176471,
           -0.1098039215686275,
           0.2784313725490196,
           -0.19215686274509802,
           -0.22352941176470575,
           1.7058823529411766,
           1.9254901960784312,
           -0.06666666666666676,
           -0.17254901960784302,
           0.3960784313725491,
           0.9176470588235294,
           0.9176470588235294,
           0.25098039215686274,
           0,
           0
          ],
          [
           0,
           0,
           0,
           0,
           0,
           -0.2627450980392157,
           -2.105882352941176,
           -2.3333333333333335,
           -0.2980392156862746,
           -0.3803921568627451,
           -0.5725490196078431,
           0.18823529411764706,
           1.1647058823529413,
           1.0823529411764707,
           -0.31764705882352945,
           -0.8274509803921567,
           1.7647058823529411,
           2.211764705882353,
           0.04313725490196074,
           0.10196078431372552,
           0.16862745098039217,
           0.2196078431372549,
           0.15294117647058825,
           0,
           0,
           0
          ],
          [
           0,
           0,
           0,
           0,
           0,
           -0.07058823529411765,
           -1.172549019607843,
           -1.5882352941176472,
           -0.24313725490196086,
           -0.9294117647058823,
           -1.5607843137254902,
           0.43921568627450974,
           2.1568627450980395,
           1.4352941176470588,
           -0.3176470588235294,
           -0.8352941176470587,
           1.1372549019607843,
           1.549019607843137,
           0,
           0,
           0,
           0,
           0,
           0,
           0,
           0
          ],
          [
           0,
           0,
           0,
           0,
           0,
           0,
           -0.3137254901960784,
           -0.6666666666666667,
           -0.10980392156862746,
           -1.4745098039215685,
           -2.552941176470588,
           0.23921568627450962,
           2.9254901960784316,
           1.9019607843137256,
           -0.11764705882352942,
           -0.6039215686274509,
           0.16862745098039217,
           0.6039215686274509,
           0,
           0,
           0,
           0,
           0,
           0,
           0,
           0
          ],
          [
           0,
           0,
           0,
           0,
           0,
           0,
           0,
           -0.054901960784313725,
           -0.00392156862745098,
           -1.1372549019607843,
           -2.7254901960784315,
           -0.8980392156862746,
           2.447058823529412,
           2.0901960784313727,
           0.2823529411764706,
           0,
           0,
           0,
           0,
           0,
           0,
           0,
           0,
           0,
           0,
           0
          ],
          [
           0,
           0,
           0,
           0,
           0,
           0,
           0,
           0,
           0,
           -0.588235294117647,
           -1.8745098039215686,
           -2.0941176470588236,
           0.7098039215686276,
           2.054901960784314,
           0.7411764705882351,
           0.6235294117647059,
           0.4235294117647059,
           0.00392156862745098,
           0,
           0,
           0,
           0,
           0,
           0,
           0,
           0
          ],
          [
           0,
           0,
           0,
           0,
           0,
           0,
           0,
           0,
           0,
           -0.043137254901960784,
           -0.8823529411764706,
           -2.211764705882353,
           -1.215686274509804,
           0.6352941176470588,
           0.6823529411764706,
           1.1490196078431372,
           1.3176470588235294,
           0.47058823529411764,
           0.09803921568627451,
           0,
           0,
           0,
           0,
           0,
           0,
           0
          ],
          [
           0,
           0,
           0,
           0,
           0,
           0,
           0,
           0,
           0,
           0,
           -0.13725490196078433,
           -1.2627450980392156,
           -1.8627450980392157,
           -1.0862745098039217,
           -0.40784313725490207,
           0.8862745098039215,
           1.7215686274509805,
           1.3568627450980393,
           0.6862745098039216,
           0.10588235294117647,
           0,
           0,
           0,
           0,
           0,
           0
          ],
          [
           0,
           0,
           0,
           0,
           0,
           0,
           0,
           0,
           0,
           0,
           0,
           -0.3176470588235294,
           -1.1176470588235294,
           -1.4666666666666666,
           -1.231372549019608,
           -0.6627450980392158,
           0.6705882352941175,
           1.607843137254902,
           1.6784313725490199,
           0.8392156862745097,
           0,
           0,
           0,
           0,
           0,
           0
          ],
          [
           0,
           0,
           0,
           0,
           0,
           0,
           0,
           0,
           0,
           0,
           0,
           0,
           -0.17647058823529413,
           -0.792156862745098,
           -1.1803921568627451,
           -2.1647058823529415,
           -1.215686274509804,
           1.1411764705882352,
           2.3215686274509806,
           1.8156862745098037,
           0.25098039215686274,
           0,
           0,
           0,
           0,
           0
          ],
          [
           0,
           0,
           0,
           0,
           0,
           0,
           0,
           0,
           0,
           0,
           0,
           0,
           -0.1803921568627451,
           -0.5725490196078431,
           -0.9019607843137255,
           -2.384313725490196,
           -1.8941176470588237,
           0.43529411764705883,
           2.7176470588235295,
           2.5215686274509803,
           0.2588235294117647,
           0,
           0,
           0,
           0,
           0
          ],
          [
           0,
           0,
           0,
           0,
           0,
           0,
           0,
           0,
           0,
           0,
           -0.15294117647058825,
           -0.5803921568627451,
           -0.9254901960784314,
           -0.9215686274509803,
           -0.6313725490196078,
           -1.4588235294117649,
           -1.2549019607843137,
           0.45882352941176474,
           2.7058823529411766,
           2.5019607843137255,
           0.2588235294117647,
           0,
           0,
           0,
           0,
           0
          ],
          [
           0,
           0,
           0,
           0,
           0,
           0,
           0,
           0,
           -0.09411764705882353,
           -0.4470588235294118,
           -0.9254901960784314,
           -1.1254901960784314,
           -1.0509803921568628,
           -0.9215686274509803,
           -0.6313725490196078,
           -0.2784313725490196,
           0.42352941176470593,
           1.2470588235294118,
           2.2705882352941176,
           1.5254901960784313,
           0.00784313725490196,
           0,
           0,
           0,
           0,
           0
          ],
          [
           0,
           0,
           0,
           0,
           0,
           0,
           -0.09019607843137255,
           -0.25882352941176473,
           -0.8392156862745098,
           -1.1803921568627451,
           -1.0823529411764707,
           -1.1254901960784314,
           -0.8705882352941177,
           -0.196078431372549,
           0.5803921568627451,
           0.9725490196078432,
           1.0156862745098039,
           1.0745098039215686,
           1.2862745098039214,
           0.7137254901960784,
           0,
           0,
           0,
           0,
           0,
           0
          ],
          [
           0,
           0,
           0,
           0,
           -0.07058823529411765,
           -0.6705882352941176,
           -0.8784313725490196,
           -0.5803921568627453,
           -0.9725490196078432,
           -1.1803921568627451,
           -0.9294117647058824,
           -0.31764705882352934,
           0.5529411764705883,
           0.9450980392156862,
           0.9882352941176471,
           1.007843137254902,
           1.003921568627451,
           0.796078431372549,
           0.3058823529411765,
           0,
           0,
           0,
           0,
           0,
           0,
           0
          ],
          [
           0,
           0,
           -0.21568627450980393,
           -0.6745098039215687,
           -0.7411764705882352,
           -0.988235294117647,
           -0.9843137254901961,
           -0.5803921568627451,
           -0.8784313725490197,
           -0.6980392156862745,
           0.3137254901960784,
           1.1411764705882355,
           1.2000000000000002,
           0.988235294117647,
           0.9882352941176471,
           0.803921568627451,
           0.3176470588235294,
           0.00784313725490196,
           0,
           0,
           0,
           0,
           0,
           0,
           0,
           0
          ],
          [
           0,
           0,
           -0.7490196078431373,
           -1.6666666666666667,
           -1.2,
           -0.988235294117647,
           -0.7333333333333334,
           0.14117647058823524,
           0.180392156862745,
           0.5019607843137255,
           0.9882352941176471,
           1.2039215686274511,
           1.2000000000000002,
           0.7725490196078431,
           0.3137254901960784,
           0.03529411764705882,
           0,
           0,
           0,
           0,
           0,
           0,
           0,
           0,
           0,
           0
          ],
          [
           0,
           0,
           -0.7490196078431373,
           -1.6666666666666667,
           -1.1294117647058823,
           -0.3176470588235294,
           0.05490196078431364,
           0.4627450980392157,
           0.3137254901960784,
           0.5019607843137255,
           0.9882352941176471,
           0.9764705882352942,
           0.5215686274509804,
           0.043137254901960784,
           0,
           0,
           0,
           0,
           0,
           0,
           0,
           0,
           0,
           0,
           0,
           0
          ],
          [
           0,
           0,
           -0.5333333333333333,
           -0.9921568627450981,
           -0.45882352941176474,
           0,
           0.16078431372549018,
           0.4627450980392157,
           0.3137254901960784,
           0.4666666666666667,
           0.5176470588235295,
           0.06274509803921569,
           0,
           0,
           0,
           0,
           0,
           0,
           0,
           0,
           0,
           0,
           0,
           0,
           0,
           0
          ],
          [
           0,
           0,
           0,
           0,
           0,
           0,
           0,
           0,
           0,
           0,
           0,
           0,
           0,
           0,
           0,
           0,
           0,
           0,
           0,
           0,
           0,
           0,
           0,
           0,
           0,
           0
          ]
         ]
        }
       ],
       "layout": {
        "annotations": [
         {
          "font": {},
          "showarrow": false,
          "text": "Scipy Correlation",
          "x": 0.245,
          "xanchor": "center",
          "xref": "paper",
          "y": 1,
          "yanchor": "bottom",
          "yref": "paper"
         },
         {
          "font": {},
          "showarrow": false,
          "text": "Custom Correlation",
          "x": 0.755,
          "xanchor": "center",
          "xref": "paper",
          "y": 1,
          "yanchor": "bottom",
          "yref": "paper"
         }
        ],
        "coloraxis": {
         "colorscale": [
          [
           0,
           "#0d0887"
          ],
          [
           0.1111111111111111,
           "#46039f"
          ],
          [
           0.2222222222222222,
           "#7201a8"
          ],
          [
           0.3333333333333333,
           "#9c179e"
          ],
          [
           0.4444444444444444,
           "#bd3786"
          ],
          [
           0.5555555555555556,
           "#d8576b"
          ],
          [
           0.6666666666666666,
           "#ed7953"
          ],
          [
           0.7777777777777778,
           "#fb9f3a"
          ],
          [
           0.8888888888888888,
           "#fdca26"
          ],
          [
           1,
           "#f0f921"
          ]
         ]
        },
        "margin": {
         "t": 60
        },
        "template": {
         "data": {
          "bar": [
           {
            "error_x": {
             "color": "#2a3f5f"
            },
            "error_y": {
             "color": "#2a3f5f"
            },
            "marker": {
             "line": {
              "color": "#E5ECF6",
              "width": 0.5
             },
             "pattern": {
              "fillmode": "overlay",
              "size": 10,
              "solidity": 0.2
             }
            },
            "type": "bar"
           }
          ],
          "barpolar": [
           {
            "marker": {
             "line": {
              "color": "#E5ECF6",
              "width": 0.5
             },
             "pattern": {
              "fillmode": "overlay",
              "size": 10,
              "solidity": 0.2
             }
            },
            "type": "barpolar"
           }
          ],
          "carpet": [
           {
            "aaxis": {
             "endlinecolor": "#2a3f5f",
             "gridcolor": "white",
             "linecolor": "white",
             "minorgridcolor": "white",
             "startlinecolor": "#2a3f5f"
            },
            "baxis": {
             "endlinecolor": "#2a3f5f",
             "gridcolor": "white",
             "linecolor": "white",
             "minorgridcolor": "white",
             "startlinecolor": "#2a3f5f"
            },
            "type": "carpet"
           }
          ],
          "choropleth": [
           {
            "colorbar": {
             "outlinewidth": 0,
             "ticks": ""
            },
            "type": "choropleth"
           }
          ],
          "contour": [
           {
            "colorbar": {
             "outlinewidth": 0,
             "ticks": ""
            },
            "colorscale": [
             [
              0,
              "#0d0887"
             ],
             [
              0.1111111111111111,
              "#46039f"
             ],
             [
              0.2222222222222222,
              "#7201a8"
             ],
             [
              0.3333333333333333,
              "#9c179e"
             ],
             [
              0.4444444444444444,
              "#bd3786"
             ],
             [
              0.5555555555555556,
              "#d8576b"
             ],
             [
              0.6666666666666666,
              "#ed7953"
             ],
             [
              0.7777777777777778,
              "#fb9f3a"
             ],
             [
              0.8888888888888888,
              "#fdca26"
             ],
             [
              1,
              "#f0f921"
             ]
            ],
            "type": "contour"
           }
          ],
          "contourcarpet": [
           {
            "colorbar": {
             "outlinewidth": 0,
             "ticks": ""
            },
            "type": "contourcarpet"
           }
          ],
          "heatmap": [
           {
            "colorbar": {
             "outlinewidth": 0,
             "ticks": ""
            },
            "colorscale": [
             [
              0,
              "#0d0887"
             ],
             [
              0.1111111111111111,
              "#46039f"
             ],
             [
              0.2222222222222222,
              "#7201a8"
             ],
             [
              0.3333333333333333,
              "#9c179e"
             ],
             [
              0.4444444444444444,
              "#bd3786"
             ],
             [
              0.5555555555555556,
              "#d8576b"
             ],
             [
              0.6666666666666666,
              "#ed7953"
             ],
             [
              0.7777777777777778,
              "#fb9f3a"
             ],
             [
              0.8888888888888888,
              "#fdca26"
             ],
             [
              1,
              "#f0f921"
             ]
            ],
            "type": "heatmap"
           }
          ],
          "heatmapgl": [
           {
            "colorbar": {
             "outlinewidth": 0,
             "ticks": ""
            },
            "colorscale": [
             [
              0,
              "#0d0887"
             ],
             [
              0.1111111111111111,
              "#46039f"
             ],
             [
              0.2222222222222222,
              "#7201a8"
             ],
             [
              0.3333333333333333,
              "#9c179e"
             ],
             [
              0.4444444444444444,
              "#bd3786"
             ],
             [
              0.5555555555555556,
              "#d8576b"
             ],
             [
              0.6666666666666666,
              "#ed7953"
             ],
             [
              0.7777777777777778,
              "#fb9f3a"
             ],
             [
              0.8888888888888888,
              "#fdca26"
             ],
             [
              1,
              "#f0f921"
             ]
            ],
            "type": "heatmapgl"
           }
          ],
          "histogram": [
           {
            "marker": {
             "pattern": {
              "fillmode": "overlay",
              "size": 10,
              "solidity": 0.2
             }
            },
            "type": "histogram"
           }
          ],
          "histogram2d": [
           {
            "colorbar": {
             "outlinewidth": 0,
             "ticks": ""
            },
            "colorscale": [
             [
              0,
              "#0d0887"
             ],
             [
              0.1111111111111111,
              "#46039f"
             ],
             [
              0.2222222222222222,
              "#7201a8"
             ],
             [
              0.3333333333333333,
              "#9c179e"
             ],
             [
              0.4444444444444444,
              "#bd3786"
             ],
             [
              0.5555555555555556,
              "#d8576b"
             ],
             [
              0.6666666666666666,
              "#ed7953"
             ],
             [
              0.7777777777777778,
              "#fb9f3a"
             ],
             [
              0.8888888888888888,
              "#fdca26"
             ],
             [
              1,
              "#f0f921"
             ]
            ],
            "type": "histogram2d"
           }
          ],
          "histogram2dcontour": [
           {
            "colorbar": {
             "outlinewidth": 0,
             "ticks": ""
            },
            "colorscale": [
             [
              0,
              "#0d0887"
             ],
             [
              0.1111111111111111,
              "#46039f"
             ],
             [
              0.2222222222222222,
              "#7201a8"
             ],
             [
              0.3333333333333333,
              "#9c179e"
             ],
             [
              0.4444444444444444,
              "#bd3786"
             ],
             [
              0.5555555555555556,
              "#d8576b"
             ],
             [
              0.6666666666666666,
              "#ed7953"
             ],
             [
              0.7777777777777778,
              "#fb9f3a"
             ],
             [
              0.8888888888888888,
              "#fdca26"
             ],
             [
              1,
              "#f0f921"
             ]
            ],
            "type": "histogram2dcontour"
           }
          ],
          "mesh3d": [
           {
            "colorbar": {
             "outlinewidth": 0,
             "ticks": ""
            },
            "type": "mesh3d"
           }
          ],
          "parcoords": [
           {
            "line": {
             "colorbar": {
              "outlinewidth": 0,
              "ticks": ""
             }
            },
            "type": "parcoords"
           }
          ],
          "pie": [
           {
            "automargin": true,
            "type": "pie"
           }
          ],
          "scatter": [
           {
            "fillpattern": {
             "fillmode": "overlay",
             "size": 10,
             "solidity": 0.2
            },
            "type": "scatter"
           }
          ],
          "scatter3d": [
           {
            "line": {
             "colorbar": {
              "outlinewidth": 0,
              "ticks": ""
             }
            },
            "marker": {
             "colorbar": {
              "outlinewidth": 0,
              "ticks": ""
             }
            },
            "type": "scatter3d"
           }
          ],
          "scattercarpet": [
           {
            "marker": {
             "colorbar": {
              "outlinewidth": 0,
              "ticks": ""
             }
            },
            "type": "scattercarpet"
           }
          ],
          "scattergeo": [
           {
            "marker": {
             "colorbar": {
              "outlinewidth": 0,
              "ticks": ""
             }
            },
            "type": "scattergeo"
           }
          ],
          "scattergl": [
           {
            "marker": {
             "colorbar": {
              "outlinewidth": 0,
              "ticks": ""
             }
            },
            "type": "scattergl"
           }
          ],
          "scattermapbox": [
           {
            "marker": {
             "colorbar": {
              "outlinewidth": 0,
              "ticks": ""
             }
            },
            "type": "scattermapbox"
           }
          ],
          "scatterpolar": [
           {
            "marker": {
             "colorbar": {
              "outlinewidth": 0,
              "ticks": ""
             }
            },
            "type": "scatterpolar"
           }
          ],
          "scatterpolargl": [
           {
            "marker": {
             "colorbar": {
              "outlinewidth": 0,
              "ticks": ""
             }
            },
            "type": "scatterpolargl"
           }
          ],
          "scatterternary": [
           {
            "marker": {
             "colorbar": {
              "outlinewidth": 0,
              "ticks": ""
             }
            },
            "type": "scatterternary"
           }
          ],
          "surface": [
           {
            "colorbar": {
             "outlinewidth": 0,
             "ticks": ""
            },
            "colorscale": [
             [
              0,
              "#0d0887"
             ],
             [
              0.1111111111111111,
              "#46039f"
             ],
             [
              0.2222222222222222,
              "#7201a8"
             ],
             [
              0.3333333333333333,
              "#9c179e"
             ],
             [
              0.4444444444444444,
              "#bd3786"
             ],
             [
              0.5555555555555556,
              "#d8576b"
             ],
             [
              0.6666666666666666,
              "#ed7953"
             ],
             [
              0.7777777777777778,
              "#fb9f3a"
             ],
             [
              0.8888888888888888,
              "#fdca26"
             ],
             [
              1,
              "#f0f921"
             ]
            ],
            "type": "surface"
           }
          ],
          "table": [
           {
            "cells": {
             "fill": {
              "color": "#EBF0F8"
             },
             "line": {
              "color": "white"
             }
            },
            "header": {
             "fill": {
              "color": "#C8D4E3"
             },
             "line": {
              "color": "white"
             }
            },
            "type": "table"
           }
          ]
         },
         "layout": {
          "annotationdefaults": {
           "arrowcolor": "#2a3f5f",
           "arrowhead": 0,
           "arrowwidth": 1
          },
          "autotypenumbers": "strict",
          "coloraxis": {
           "colorbar": {
            "outlinewidth": 0,
            "ticks": ""
           }
          },
          "colorscale": {
           "diverging": [
            [
             0,
             "#8e0152"
            ],
            [
             0.1,
             "#c51b7d"
            ],
            [
             0.2,
             "#de77ae"
            ],
            [
             0.3,
             "#f1b6da"
            ],
            [
             0.4,
             "#fde0ef"
            ],
            [
             0.5,
             "#f7f7f7"
            ],
            [
             0.6,
             "#e6f5d0"
            ],
            [
             0.7,
             "#b8e186"
            ],
            [
             0.8,
             "#7fbc41"
            ],
            [
             0.9,
             "#4d9221"
            ],
            [
             1,
             "#276419"
            ]
           ],
           "sequential": [
            [
             0,
             "#0d0887"
            ],
            [
             0.1111111111111111,
             "#46039f"
            ],
            [
             0.2222222222222222,
             "#7201a8"
            ],
            [
             0.3333333333333333,
             "#9c179e"
            ],
            [
             0.4444444444444444,
             "#bd3786"
            ],
            [
             0.5555555555555556,
             "#d8576b"
            ],
            [
             0.6666666666666666,
             "#ed7953"
            ],
            [
             0.7777777777777778,
             "#fb9f3a"
            ],
            [
             0.8888888888888888,
             "#fdca26"
            ],
            [
             1,
             "#f0f921"
            ]
           ],
           "sequentialminus": [
            [
             0,
             "#0d0887"
            ],
            [
             0.1111111111111111,
             "#46039f"
            ],
            [
             0.2222222222222222,
             "#7201a8"
            ],
            [
             0.3333333333333333,
             "#9c179e"
            ],
            [
             0.4444444444444444,
             "#bd3786"
            ],
            [
             0.5555555555555556,
             "#d8576b"
            ],
            [
             0.6666666666666666,
             "#ed7953"
            ],
            [
             0.7777777777777778,
             "#fb9f3a"
            ],
            [
             0.8888888888888888,
             "#fdca26"
            ],
            [
             1,
             "#f0f921"
            ]
           ]
          },
          "colorway": [
           "#636efa",
           "#EF553B",
           "#00cc96",
           "#ab63fa",
           "#FFA15A",
           "#19d3f3",
           "#FF6692",
           "#B6E880",
           "#FF97FF",
           "#FECB52"
          ],
          "font": {
           "color": "#2a3f5f"
          },
          "geo": {
           "bgcolor": "white",
           "lakecolor": "white",
           "landcolor": "#E5ECF6",
           "showlakes": true,
           "showland": true,
           "subunitcolor": "white"
          },
          "hoverlabel": {
           "align": "left"
          },
          "hovermode": "closest",
          "mapbox": {
           "style": "light"
          },
          "paper_bgcolor": "white",
          "plot_bgcolor": "#E5ECF6",
          "polar": {
           "angularaxis": {
            "gridcolor": "white",
            "linecolor": "white",
            "ticks": ""
           },
           "bgcolor": "#E5ECF6",
           "radialaxis": {
            "gridcolor": "white",
            "linecolor": "white",
            "ticks": ""
           }
          },
          "scene": {
           "xaxis": {
            "backgroundcolor": "#E5ECF6",
            "gridcolor": "white",
            "gridwidth": 2,
            "linecolor": "white",
            "showbackground": true,
            "ticks": "",
            "zerolinecolor": "white"
           },
           "yaxis": {
            "backgroundcolor": "#E5ECF6",
            "gridcolor": "white",
            "gridwidth": 2,
            "linecolor": "white",
            "showbackground": true,
            "ticks": "",
            "zerolinecolor": "white"
           },
           "zaxis": {
            "backgroundcolor": "#E5ECF6",
            "gridcolor": "white",
            "gridwidth": 2,
            "linecolor": "white",
            "showbackground": true,
            "ticks": "",
            "zerolinecolor": "white"
           }
          },
          "shapedefaults": {
           "line": {
            "color": "#2a3f5f"
           }
          },
          "ternary": {
           "aaxis": {
            "gridcolor": "white",
            "linecolor": "white",
            "ticks": ""
           },
           "baxis": {
            "gridcolor": "white",
            "linecolor": "white",
            "ticks": ""
           },
           "bgcolor": "#E5ECF6",
           "caxis": {
            "gridcolor": "white",
            "linecolor": "white",
            "ticks": ""
           }
          },
          "title": {
           "x": 0.05
          },
          "xaxis": {
           "automargin": true,
           "gridcolor": "white",
           "linecolor": "white",
           "ticks": "",
           "title": {
            "standoff": 15
           },
           "zerolinecolor": "white",
           "zerolinewidth": 2
          },
          "yaxis": {
           "automargin": true,
           "gridcolor": "white",
           "linecolor": "white",
           "ticks": "",
           "title": {
            "standoff": 15
           },
           "zerolinecolor": "white",
           "zerolinewidth": 2
          }
         }
        },
        "xaxis": {
         "anchor": "y",
         "constrain": "domain",
         "domain": [
          0,
          0.49
         ],
         "scaleanchor": "y"
        },
        "xaxis2": {
         "anchor": "y2",
         "domain": [
          0.51,
          1
         ],
         "matches": "x"
        },
        "yaxis": {
         "anchor": "x",
         "autorange": "reversed",
         "constrain": "domain",
         "domain": [
          0,
          1
         ]
        },
        "yaxis2": {
         "anchor": "x2",
         "domain": [
          0,
          1
         ],
         "matches": "y",
         "showticklabels": false
        }
       }
      }
     },
     "metadata": {},
     "output_type": "display_data"
    }
   ],
   "source": [
    "scipy_correlation = correlate2d(input.reshape(28, 28), kernel, mode=\"valid\")\n",
    "custom_correlation = (input[correlation_indices] @ kernel_weights).reshape(nb_horizontal_correlations, nb_vertical_correlations)\n",
    "\n",
    "fig = px.imshow(np.asarray([scipy_correlation, custom_correlation]), facet_col=0)\n",
    "fig.layout.annotations[0]['text'] = \"Scipy Correlation\"\n",
    "fig.layout.annotations[1]['text'] = \"Custom Correlation\"\n",
    "fig.show()"
   ]
  },
  {
   "cell_type": "markdown",
   "metadata": {},
   "source": [
    "## Multiple kernels, single input image, cross correlation implementation"
   ]
  },
  {
   "cell_type": "code",
   "execution_count": 11,
   "metadata": {},
   "outputs": [
    {
     "data": {
      "text/plain": [
       "array([[ 1,  1],\n",
       "       [ 0,  0],\n",
       "       [-1,  1],\n",
       "       [ 1,  0],\n",
       "       [ 0,  0],\n",
       "       [-1,  0],\n",
       "       [ 1, -1],\n",
       "       [ 0,  0],\n",
       "       [-1, -1]])"
      ]
     },
     "execution_count": 11,
     "metadata": {},
     "output_type": "execute_result"
    }
   ],
   "source": [
    "kernels = np.array([\n",
    "    [\n",
    "        [1, 0, -1], \n",
    "        [1, 0, -1],\n",
    "        [1, 0, -1],\n",
    "    ],\n",
    "    [\n",
    "        [1, 0, 1], \n",
    "        [0, 0, 0],\n",
    "        [-1, 0, -1],\n",
    "    ],\n",
    "])\n",
    "kernels_weights = kernels.reshape(2, -1).T\n",
    "kernels_weights"
   ]
  },
  {
   "cell_type": "code",
   "execution_count": 12,
   "metadata": {},
   "outputs": [
    {
     "data": {
      "text/plain": [
       "(676, 2)"
      ]
     },
     "execution_count": 12,
     "metadata": {},
     "output_type": "execute_result"
    }
   ],
   "source": [
    "flatt_cross_correlation = input[correlation_indices] @ kernels_weights\n",
    "flatt_cross_correlation.shape"
   ]
  },
  {
   "cell_type": "code",
   "execution_count": 13,
   "metadata": {},
   "outputs": [
    {
     "data": {
      "text/plain": [
       "(26, 26, 2)"
      ]
     },
     "metadata": {},
     "output_type": "display_data"
    },
    {
     "data": {
      "application/vnd.plotly.v1+json": {
       "config": {
        "plotlyServerURL": "https://plot.ly"
       },
       "data": [
        {
         "coloraxis": "coloraxis",
         "hovertemplate": "x: %{x}<br>y: %{y}<br>color: %{z}<extra></extra>",
         "name": "0",
         "type": "heatmap",
         "xaxis": "x",
         "yaxis": "y",
         "z": [
          [
           0,
           0,
           0,
           0,
           0,
           0,
           0,
           0,
           0,
           0,
           0,
           0,
           0,
           0,
           0,
           0,
           0,
           0,
           0,
           0,
           0,
           0,
           0,
           0,
           0,
           0
          ],
          [
           0,
           0,
           0,
           0,
           0,
           0,
           0,
           0,
           0,
           0,
           0,
           0,
           0,
           0,
           0,
           0,
           0,
           0,
           0,
           0,
           0,
           0,
           0,
           0,
           0,
           0
          ],
          [
           0,
           0,
           0,
           0,
           0,
           0,
           0,
           0,
           0,
           0,
           0,
           0,
           0,
           0,
           0,
           0,
           0,
           0,
           0,
           0,
           0,
           0,
           0,
           0,
           0,
           0
          ],
          [
           0,
           0,
           0,
           0,
           0,
           0,
           0,
           0,
           0,
           0,
           -0.011764705882352941,
           -0.07058823529411765,
           -0.08235294117647059,
           -0.1411764705882353,
           -0.5647058823529412,
           -0.6039215686274509,
           -1.1803921568627451,
           -0.6352941176470588,
           -1.3372549019607844,
           -1.1019607843137256,
           -1.619607843137255,
           -1.4980392156862745,
           -0.9686274509803922,
           -0.4980392156862745,
           0,
           0
          ],
          [
           0,
           0,
           0,
           0,
           0,
           0,
           -0.11764705882352941,
           -0.1411764705882353,
           -0.4862745098039216,
           -0.7450980392156863,
           -1.0352941176470587,
           -1.5960784313725491,
           -1.6588235294117646,
           -1.9843137254901961,
           -1.9843137254901961,
           -1.9843137254901961,
           -1.8745098039215686,
           -1.6666666666666667,
           -1.8745098039215686,
           -1.6235294117647059,
           -1.7568627450980392,
           -1.2,
           -0.7647058823529411,
           -0.25098039215686274,
           0,
           0
          ],
          [
           0,
           0,
           0,
           0,
           0,
           -0.19215686274509805,
           -0.9333333333333333,
           -1.184313725490196,
           -1.9254901960784314,
           -1.9843137254901961,
           -1.9725490196078432,
           -1.9137254901960785,
           -1.9019607843137254,
           -1.843137254901961,
           -1.419607843137255,
           -1.3725490196078431,
           -0.1764705882352941,
           -0.6705882352941177,
           0.6509803921568629,
           0.5607843137254903,
           1.1450980392156862,
           1.2784313725490195,
           0.8156862745098039,
           0.4980392156862745,
           0,
           0
          ],
          [
           0,
           0,
           0,
           0,
           0,
           -0.07058823529411765,
           -0.7411764705882352,
           -0.9215686274509804,
           -1.3647058823529412,
           -1.2392156862745098,
           -0.9490196078431374,
           -0.388235294117647,
           -0.10980392156862762,
           0.2784313725490196,
           0.23921568627450995,
           0.3254901960784313,
           0.9058823529411765,
           0.7215686274509805,
           1.8745098039215686,
           1.6235294117647059,
           1.7568627450980392,
           1.2,
           0.7647058823529411,
           0.25098039215686274,
           0,
           0
          ],
          [
           0,
           0,
           0,
           0,
           0,
           0.19215686274509805,
           0.6196078431372549,
           0.5725490196078431,
           1.192156862745098,
           0.3803921568627451,
           0.5725490196078431,
           0.18823529411764706,
           0.9490196078431373,
           1.1803921568627451,
           1.772549019607843,
           1.3725490196078431,
           1.188235294117647,
           0.7019607843137255,
           0.6862745098039216,
           0.5411764705882354,
           0.47450980392156866,
           0.2196078431372549,
           0.15294117647058825,
           0,
           0,
           0
          ],
          [
           0,
           0,
           0,
           0,
           0,
           0.07058823529411765,
           0.8588235294117647,
           1.007843137254902,
           1.8470588235294119,
           1.3254901960784315,
           0.9882352941176471,
           1.0274509803921568,
           0.776470588235294,
           1.3529411764705883,
           1.7450980392156863,
           1.6588235294117646,
           0.9686274509803922,
           0.9450980392156862,
           0,
           0,
           0,
           0,
           0,
           0,
           0,
           0
          ],
          [
           0,
           0,
           0,
           0,
           0,
           0,
           0.3137254901960784,
           0.611764705882353,
           0.7333333333333334,
           1.058823529411765,
           0.41960784313725497,
           0.5058823529411764,
           0.03529411764705889,
           0.05882352941176472,
           0.203921568627451,
           0.6039215686274509,
           0.16862745098039217,
           0.6039215686274509,
           0,
           0,
           0,
           0,
           0,
           0,
           0,
           0
          ],
          [
           0,
           0,
           0,
           0,
           0,
           0,
           0,
           0.054901960784313725,
           0.00392156862745098,
           0.615686274509804,
           0.25098039215686274,
           -0.07843137254901966,
           -0.027450980392156876,
           -0.6392156862745098,
           -0.27450980392156865,
           0,
           0,
           0,
           0,
           0,
           0,
           0,
           0,
           0,
           0,
           0
          ],
          [
           0,
           0,
           0,
           0,
           0,
           0,
           0,
           0,
           0,
           0.5450980392156862,
           0.8549019607843138,
           0.34509803921568616,
           -0.019607843137254832,
           -0.8274509803921568,
           -1.2980392156862746,
           -0.6313725490196078,
           -0.4235294117647059,
           -0.00392156862745098,
           0,
           0,
           0,
           0,
           0,
           0,
           0,
           0
          ],
          [
           0,
           0,
           0,
           0,
           0,
           0,
           0,
           0,
           0,
           0.043137254901960784,
           0.7450980392156863,
           0.7176470588235295,
           0.07843137254901955,
           -0.3176470588235294,
           -1.6588235294117646,
           -1.4588235294117649,
           -1.0901960784313727,
           -0.4666666666666667,
           -0.09803921568627451,
           0,
           0,
           0,
           0,
           0,
           0,
           0
          ],
          [
           0,
           0,
           0,
           0,
           0,
           0,
           0,
           0,
           0,
           0,
           0.13725490196078433,
           0.9450980392156862,
           0.8431372549019607,
           0.8431372549019608,
           0.13725490196078427,
           -1.0901960784313727,
           -1.156862745098039,
           -1.0941176470588236,
           -0.5882352941176471,
           -0.10588235294117647,
           0,
           0,
           0,
           0,
           0,
           0
          ],
          [
           0,
           0,
           0,
           0,
           0,
           0,
           0,
           0,
           0,
           0,
           0,
           0.3176470588235294,
           0.9411764705882353,
           1.2470588235294118,
           1.5686274509803921,
           0.40784313725490207,
           -0.2666666666666666,
           -1.2549019607843137,
           -0.8941176470588236,
           -0.7333333333333333,
           0,
           0,
           0,
           0,
           0,
           0
          ],
          [
           0,
           0,
           0,
           0,
           0,
           0,
           0,
           0,
           0,
           0,
           0,
           0,
           0.17647058823529413,
           0.7294117647058823,
           1.1686274509803922,
           0.7450980392156864,
           0.5882352941176472,
           -0.8549019607843136,
           -0.6549019607843137,
           -0.8705882352941177,
           -0.25098039215686274,
           0,
           0,
           0,
           0,
           0
          ],
          [
           0,
           0,
           0,
           0,
           0,
           0,
           0,
           0,
           0,
           0,
           0,
           0,
           -0.1803921568627451,
           -0.44705882352941173,
           -0.5333333333333333,
           -0.4509803921568627,
           -0.3529411764705882,
           -0.08235294117647052,
           -0.00784313725490196,
           -0.07843137254901966,
           -0.00784313725490196,
           0,
           0,
           0,
           0,
           0
          ],
          [
           0,
           0,
           0,
           0,
           0,
           0,
           0,
           0,
           0,
           0,
           -0.15294117647058825,
           -0.5803921568627451,
           -1.0509803921568628,
           -1.5725490196078433,
           -1.8901960784313725,
           -1.007843137254902,
           -0.9803921568627451,
           0.24705882352941166,
           0.26274509803921575,
           0.26274509803921564,
           0.25098039215686274,
           0,
           0,
           0,
           0,
           0
          ],
          [
           0,
           0,
           0,
           0,
           0,
           0,
           0,
           0,
           -0.09411764705882353,
           -0.4470588235294118,
           -0.9607843137254902,
           -1.4392156862745098,
           -1.6784313725490196,
           -1.4745098039215687,
           -1.0862745098039217,
           -0.2784313725490196,
           0.41176470588235303,
           1.0156862745098039,
           0.6941176470588235,
           0.8117647058823529,
           0.00784313725490196,
           0,
           0,
           0,
           0,
           0
          ],
          [
           0,
           0,
           0,
           0,
           0,
           0,
           -0.09019607843137255,
           -0.25882352941176473,
           -0.9254901960784314,
           -1.2509803921568627,
           -1.6745098039215687,
           -1.4039215686274509,
           -0.9333333333333333,
           -0.19607843137254888,
           0.580392156862745,
           1.2000000000000002,
           1.6549019607843138,
           1.6980392156862747,
           0.9803921568627451,
           0.7137254901960784,
           0,
           0,
           0,
           0,
           0,
           0
          ],
          [
           0,
           0,
           0,
           0,
           -0.07058823529411765,
           -0.6705882352941176,
           -0.9294117647058823,
           -1.6627450980392156,
           -1.7568627450980392,
           -1.5372549019607844,
           -1.0235294117647058,
           -0.3176470588235294,
           0.5529411764705883,
           1.184313725490196,
           1.6705882352941177,
           1.745098039215686,
           1.2980392156862746,
           0.788235294117647,
           0.3058823529411765,
           0,
           0,
           0,
           0,
           0,
           0,
           0
          ],
          [
           0,
           0,
           -0.21568627450980393,
           -0.6745098039215687,
           -1.1019607843137256,
           -1.6666666666666667,
           -1.788235294117647,
           -1.7254901960784315,
           -1.0588235294117647,
           -0.6980392156862746,
           0.31372549019607854,
           0.984313725490196,
           1.4627450980392158,
           1.7254901960784312,
           1.3098039215686275,
           0.7843137254901961,
           0.3176470588235294,
           0.00784313725490196,
           0,
           0,
           0,
           0,
           0,
           0,
           0,
           0
          ],
          [
           0,
           0,
           -0.5333333333333333,
           -0.9921568627450981,
           -1.4549019607843139,
           -1.3137254901960786,
           -0.8941176470588237,
           0.14117647058823513,
           0.5019607843137254,
           1.3921568627450982,
           1.4666666666666668,
           1.6941176470588235,
           1.3058823529411765,
           0.7999999999999999,
           0.3137254901960784,
           0.03529411764705882,
           0,
           0,
           0,
           0,
           0,
           0,
           0,
           0,
           0,
           0
          ],
          [
           0,
           0,
           0.21568627450980393,
           0.6745098039215687,
           1.1019607843137256,
           1.6666666666666667,
           1.8784313725490196,
           1.9843137254901961,
           1.9843137254901961,
           1.9490196078431374,
           1.5137254901960784,
           1,
           0.5215686274509804,
           0.043137254901960784,
           0,
           0,
           0,
           0,
           0,
           0,
           0,
           0,
           0,
           0,
           0,
           0
          ],
          [
           0,
           0,
           0.5333333333333333,
           0.9921568627450981,
           1.5254901960784313,
           1.9843137254901961,
           1.823529411764706,
           1.5215686274509803,
           1.3490196078431373,
           0.592156862745098,
           0.5176470588235295,
           0.06274509803921569,
           0,
           0,
           0,
           0,
           0,
           0,
           0,
           0,
           0,
           0,
           0,
           0,
           0,
           0
          ],
          [
           0,
           0,
           0,
           0,
           0,
           0,
           0,
           0,
           0,
           0,
           0,
           0,
           0,
           0,
           0,
           0,
           0,
           0,
           0,
           0,
           0,
           0,
           0,
           0,
           0,
           0
          ]
         ]
        }
       ],
       "layout": {
        "coloraxis": {
         "colorscale": [
          [
           0,
           "#0d0887"
          ],
          [
           0.1111111111111111,
           "#46039f"
          ],
          [
           0.2222222222222222,
           "#7201a8"
          ],
          [
           0.3333333333333333,
           "#9c179e"
          ],
          [
           0.4444444444444444,
           "#bd3786"
          ],
          [
           0.5555555555555556,
           "#d8576b"
          ],
          [
           0.6666666666666666,
           "#ed7953"
          ],
          [
           0.7777777777777778,
           "#fb9f3a"
          ],
          [
           0.8888888888888888,
           "#fdca26"
          ],
          [
           1,
           "#f0f921"
          ]
         ]
        },
        "margin": {
         "t": 60
        },
        "template": {
         "data": {
          "bar": [
           {
            "error_x": {
             "color": "#2a3f5f"
            },
            "error_y": {
             "color": "#2a3f5f"
            },
            "marker": {
             "line": {
              "color": "#E5ECF6",
              "width": 0.5
             },
             "pattern": {
              "fillmode": "overlay",
              "size": 10,
              "solidity": 0.2
             }
            },
            "type": "bar"
           }
          ],
          "barpolar": [
           {
            "marker": {
             "line": {
              "color": "#E5ECF6",
              "width": 0.5
             },
             "pattern": {
              "fillmode": "overlay",
              "size": 10,
              "solidity": 0.2
             }
            },
            "type": "barpolar"
           }
          ],
          "carpet": [
           {
            "aaxis": {
             "endlinecolor": "#2a3f5f",
             "gridcolor": "white",
             "linecolor": "white",
             "minorgridcolor": "white",
             "startlinecolor": "#2a3f5f"
            },
            "baxis": {
             "endlinecolor": "#2a3f5f",
             "gridcolor": "white",
             "linecolor": "white",
             "minorgridcolor": "white",
             "startlinecolor": "#2a3f5f"
            },
            "type": "carpet"
           }
          ],
          "choropleth": [
           {
            "colorbar": {
             "outlinewidth": 0,
             "ticks": ""
            },
            "type": "choropleth"
           }
          ],
          "contour": [
           {
            "colorbar": {
             "outlinewidth": 0,
             "ticks": ""
            },
            "colorscale": [
             [
              0,
              "#0d0887"
             ],
             [
              0.1111111111111111,
              "#46039f"
             ],
             [
              0.2222222222222222,
              "#7201a8"
             ],
             [
              0.3333333333333333,
              "#9c179e"
             ],
             [
              0.4444444444444444,
              "#bd3786"
             ],
             [
              0.5555555555555556,
              "#d8576b"
             ],
             [
              0.6666666666666666,
              "#ed7953"
             ],
             [
              0.7777777777777778,
              "#fb9f3a"
             ],
             [
              0.8888888888888888,
              "#fdca26"
             ],
             [
              1,
              "#f0f921"
             ]
            ],
            "type": "contour"
           }
          ],
          "contourcarpet": [
           {
            "colorbar": {
             "outlinewidth": 0,
             "ticks": ""
            },
            "type": "contourcarpet"
           }
          ],
          "heatmap": [
           {
            "colorbar": {
             "outlinewidth": 0,
             "ticks": ""
            },
            "colorscale": [
             [
              0,
              "#0d0887"
             ],
             [
              0.1111111111111111,
              "#46039f"
             ],
             [
              0.2222222222222222,
              "#7201a8"
             ],
             [
              0.3333333333333333,
              "#9c179e"
             ],
             [
              0.4444444444444444,
              "#bd3786"
             ],
             [
              0.5555555555555556,
              "#d8576b"
             ],
             [
              0.6666666666666666,
              "#ed7953"
             ],
             [
              0.7777777777777778,
              "#fb9f3a"
             ],
             [
              0.8888888888888888,
              "#fdca26"
             ],
             [
              1,
              "#f0f921"
             ]
            ],
            "type": "heatmap"
           }
          ],
          "heatmapgl": [
           {
            "colorbar": {
             "outlinewidth": 0,
             "ticks": ""
            },
            "colorscale": [
             [
              0,
              "#0d0887"
             ],
             [
              0.1111111111111111,
              "#46039f"
             ],
             [
              0.2222222222222222,
              "#7201a8"
             ],
             [
              0.3333333333333333,
              "#9c179e"
             ],
             [
              0.4444444444444444,
              "#bd3786"
             ],
             [
              0.5555555555555556,
              "#d8576b"
             ],
             [
              0.6666666666666666,
              "#ed7953"
             ],
             [
              0.7777777777777778,
              "#fb9f3a"
             ],
             [
              0.8888888888888888,
              "#fdca26"
             ],
             [
              1,
              "#f0f921"
             ]
            ],
            "type": "heatmapgl"
           }
          ],
          "histogram": [
           {
            "marker": {
             "pattern": {
              "fillmode": "overlay",
              "size": 10,
              "solidity": 0.2
             }
            },
            "type": "histogram"
           }
          ],
          "histogram2d": [
           {
            "colorbar": {
             "outlinewidth": 0,
             "ticks": ""
            },
            "colorscale": [
             [
              0,
              "#0d0887"
             ],
             [
              0.1111111111111111,
              "#46039f"
             ],
             [
              0.2222222222222222,
              "#7201a8"
             ],
             [
              0.3333333333333333,
              "#9c179e"
             ],
             [
              0.4444444444444444,
              "#bd3786"
             ],
             [
              0.5555555555555556,
              "#d8576b"
             ],
             [
              0.6666666666666666,
              "#ed7953"
             ],
             [
              0.7777777777777778,
              "#fb9f3a"
             ],
             [
              0.8888888888888888,
              "#fdca26"
             ],
             [
              1,
              "#f0f921"
             ]
            ],
            "type": "histogram2d"
           }
          ],
          "histogram2dcontour": [
           {
            "colorbar": {
             "outlinewidth": 0,
             "ticks": ""
            },
            "colorscale": [
             [
              0,
              "#0d0887"
             ],
             [
              0.1111111111111111,
              "#46039f"
             ],
             [
              0.2222222222222222,
              "#7201a8"
             ],
             [
              0.3333333333333333,
              "#9c179e"
             ],
             [
              0.4444444444444444,
              "#bd3786"
             ],
             [
              0.5555555555555556,
              "#d8576b"
             ],
             [
              0.6666666666666666,
              "#ed7953"
             ],
             [
              0.7777777777777778,
              "#fb9f3a"
             ],
             [
              0.8888888888888888,
              "#fdca26"
             ],
             [
              1,
              "#f0f921"
             ]
            ],
            "type": "histogram2dcontour"
           }
          ],
          "mesh3d": [
           {
            "colorbar": {
             "outlinewidth": 0,
             "ticks": ""
            },
            "type": "mesh3d"
           }
          ],
          "parcoords": [
           {
            "line": {
             "colorbar": {
              "outlinewidth": 0,
              "ticks": ""
             }
            },
            "type": "parcoords"
           }
          ],
          "pie": [
           {
            "automargin": true,
            "type": "pie"
           }
          ],
          "scatter": [
           {
            "fillpattern": {
             "fillmode": "overlay",
             "size": 10,
             "solidity": 0.2
            },
            "type": "scatter"
           }
          ],
          "scatter3d": [
           {
            "line": {
             "colorbar": {
              "outlinewidth": 0,
              "ticks": ""
             }
            },
            "marker": {
             "colorbar": {
              "outlinewidth": 0,
              "ticks": ""
             }
            },
            "type": "scatter3d"
           }
          ],
          "scattercarpet": [
           {
            "marker": {
             "colorbar": {
              "outlinewidth": 0,
              "ticks": ""
             }
            },
            "type": "scattercarpet"
           }
          ],
          "scattergeo": [
           {
            "marker": {
             "colorbar": {
              "outlinewidth": 0,
              "ticks": ""
             }
            },
            "type": "scattergeo"
           }
          ],
          "scattergl": [
           {
            "marker": {
             "colorbar": {
              "outlinewidth": 0,
              "ticks": ""
             }
            },
            "type": "scattergl"
           }
          ],
          "scattermapbox": [
           {
            "marker": {
             "colorbar": {
              "outlinewidth": 0,
              "ticks": ""
             }
            },
            "type": "scattermapbox"
           }
          ],
          "scatterpolar": [
           {
            "marker": {
             "colorbar": {
              "outlinewidth": 0,
              "ticks": ""
             }
            },
            "type": "scatterpolar"
           }
          ],
          "scatterpolargl": [
           {
            "marker": {
             "colorbar": {
              "outlinewidth": 0,
              "ticks": ""
             }
            },
            "type": "scatterpolargl"
           }
          ],
          "scatterternary": [
           {
            "marker": {
             "colorbar": {
              "outlinewidth": 0,
              "ticks": ""
             }
            },
            "type": "scatterternary"
           }
          ],
          "surface": [
           {
            "colorbar": {
             "outlinewidth": 0,
             "ticks": ""
            },
            "colorscale": [
             [
              0,
              "#0d0887"
             ],
             [
              0.1111111111111111,
              "#46039f"
             ],
             [
              0.2222222222222222,
              "#7201a8"
             ],
             [
              0.3333333333333333,
              "#9c179e"
             ],
             [
              0.4444444444444444,
              "#bd3786"
             ],
             [
              0.5555555555555556,
              "#d8576b"
             ],
             [
              0.6666666666666666,
              "#ed7953"
             ],
             [
              0.7777777777777778,
              "#fb9f3a"
             ],
             [
              0.8888888888888888,
              "#fdca26"
             ],
             [
              1,
              "#f0f921"
             ]
            ],
            "type": "surface"
           }
          ],
          "table": [
           {
            "cells": {
             "fill": {
              "color": "#EBF0F8"
             },
             "line": {
              "color": "white"
             }
            },
            "header": {
             "fill": {
              "color": "#C8D4E3"
             },
             "line": {
              "color": "white"
             }
            },
            "type": "table"
           }
          ]
         },
         "layout": {
          "annotationdefaults": {
           "arrowcolor": "#2a3f5f",
           "arrowhead": 0,
           "arrowwidth": 1
          },
          "autotypenumbers": "strict",
          "coloraxis": {
           "colorbar": {
            "outlinewidth": 0,
            "ticks": ""
           }
          },
          "colorscale": {
           "diverging": [
            [
             0,
             "#8e0152"
            ],
            [
             0.1,
             "#c51b7d"
            ],
            [
             0.2,
             "#de77ae"
            ],
            [
             0.3,
             "#f1b6da"
            ],
            [
             0.4,
             "#fde0ef"
            ],
            [
             0.5,
             "#f7f7f7"
            ],
            [
             0.6,
             "#e6f5d0"
            ],
            [
             0.7,
             "#b8e186"
            ],
            [
             0.8,
             "#7fbc41"
            ],
            [
             0.9,
             "#4d9221"
            ],
            [
             1,
             "#276419"
            ]
           ],
           "sequential": [
            [
             0,
             "#0d0887"
            ],
            [
             0.1111111111111111,
             "#46039f"
            ],
            [
             0.2222222222222222,
             "#7201a8"
            ],
            [
             0.3333333333333333,
             "#9c179e"
            ],
            [
             0.4444444444444444,
             "#bd3786"
            ],
            [
             0.5555555555555556,
             "#d8576b"
            ],
            [
             0.6666666666666666,
             "#ed7953"
            ],
            [
             0.7777777777777778,
             "#fb9f3a"
            ],
            [
             0.8888888888888888,
             "#fdca26"
            ],
            [
             1,
             "#f0f921"
            ]
           ],
           "sequentialminus": [
            [
             0,
             "#0d0887"
            ],
            [
             0.1111111111111111,
             "#46039f"
            ],
            [
             0.2222222222222222,
             "#7201a8"
            ],
            [
             0.3333333333333333,
             "#9c179e"
            ],
            [
             0.4444444444444444,
             "#bd3786"
            ],
            [
             0.5555555555555556,
             "#d8576b"
            ],
            [
             0.6666666666666666,
             "#ed7953"
            ],
            [
             0.7777777777777778,
             "#fb9f3a"
            ],
            [
             0.8888888888888888,
             "#fdca26"
            ],
            [
             1,
             "#f0f921"
            ]
           ]
          },
          "colorway": [
           "#636efa",
           "#EF553B",
           "#00cc96",
           "#ab63fa",
           "#FFA15A",
           "#19d3f3",
           "#FF6692",
           "#B6E880",
           "#FF97FF",
           "#FECB52"
          ],
          "font": {
           "color": "#2a3f5f"
          },
          "geo": {
           "bgcolor": "white",
           "lakecolor": "white",
           "landcolor": "#E5ECF6",
           "showlakes": true,
           "showland": true,
           "subunitcolor": "white"
          },
          "hoverlabel": {
           "align": "left"
          },
          "hovermode": "closest",
          "mapbox": {
           "style": "light"
          },
          "paper_bgcolor": "white",
          "plot_bgcolor": "#E5ECF6",
          "polar": {
           "angularaxis": {
            "gridcolor": "white",
            "linecolor": "white",
            "ticks": ""
           },
           "bgcolor": "#E5ECF6",
           "radialaxis": {
            "gridcolor": "white",
            "linecolor": "white",
            "ticks": ""
           }
          },
          "scene": {
           "xaxis": {
            "backgroundcolor": "#E5ECF6",
            "gridcolor": "white",
            "gridwidth": 2,
            "linecolor": "white",
            "showbackground": true,
            "ticks": "",
            "zerolinecolor": "white"
           },
           "yaxis": {
            "backgroundcolor": "#E5ECF6",
            "gridcolor": "white",
            "gridwidth": 2,
            "linecolor": "white",
            "showbackground": true,
            "ticks": "",
            "zerolinecolor": "white"
           },
           "zaxis": {
            "backgroundcolor": "#E5ECF6",
            "gridcolor": "white",
            "gridwidth": 2,
            "linecolor": "white",
            "showbackground": true,
            "ticks": "",
            "zerolinecolor": "white"
           }
          },
          "shapedefaults": {
           "line": {
            "color": "#2a3f5f"
           }
          },
          "ternary": {
           "aaxis": {
            "gridcolor": "white",
            "linecolor": "white",
            "ticks": ""
           },
           "baxis": {
            "gridcolor": "white",
            "linecolor": "white",
            "ticks": ""
           },
           "bgcolor": "#E5ECF6",
           "caxis": {
            "gridcolor": "white",
            "linecolor": "white",
            "ticks": ""
           }
          },
          "title": {
           "x": 0.05
          },
          "xaxis": {
           "automargin": true,
           "gridcolor": "white",
           "linecolor": "white",
           "ticks": "",
           "title": {
            "standoff": 15
           },
           "zerolinecolor": "white",
           "zerolinewidth": 2
          },
          "yaxis": {
           "automargin": true,
           "gridcolor": "white",
           "linecolor": "white",
           "ticks": "",
           "title": {
            "standoff": 15
           },
           "zerolinecolor": "white",
           "zerolinewidth": 2
          }
         }
        },
        "xaxis": {
         "anchor": "y",
         "constrain": "domain",
         "domain": [
          0,
          1
         ],
         "scaleanchor": "y"
        },
        "yaxis": {
         "anchor": "x",
         "autorange": "reversed",
         "constrain": "domain",
         "domain": [
          0,
          1
         ]
        }
       }
      }
     },
     "metadata": {},
     "output_type": "display_data"
    }
   ],
   "source": [
    "reshaped_cross_correlation = flatt_cross_correlation.reshape(nb_horizontal_correlations, nb_vertical_correlations, -1)\n",
    "display(reshaped_cross_correlation.shape)\n",
    "px.imshow(reshaped_cross_correlation[..., 1])"
   ]
  },
  {
   "cell_type": "code",
   "execution_count": 14,
   "metadata": {},
   "outputs": [
    {
     "data": {
      "text/plain": [
       "np.True_"
      ]
     },
     "execution_count": 14,
     "metadata": {},
     "output_type": "execute_result"
    }
   ],
   "source": [
    "yes = np.matmul(input[correlation_indices], kernels_weights)\n",
    "yes.shape\n",
    "\n",
    "no = input[correlation_indices] @ kernels_weights\n",
    "\n",
    "(yes == no).all()"
   ]
  },
  {
   "cell_type": "code",
   "execution_count": 15,
   "metadata": {},
   "outputs": [
    {
     "data": {
      "text/plain": [
       "(9, 2)"
      ]
     },
     "execution_count": 15,
     "metadata": {},
     "output_type": "execute_result"
    }
   ],
   "source": [
    "kernels_weights.shape\n"
   ]
  },
  {
   "cell_type": "code",
   "execution_count": 16,
   "metadata": {},
   "outputs": [
    {
     "data": {
      "text/plain": [
       "(26, 26, 4)"
      ]
     },
     "metadata": {},
     "output_type": "display_data"
    },
    {
     "data": {
      "application/vnd.plotly.v1+json": {
       "config": {
        "plotlyServerURL": "https://plot.ly"
       },
       "data": [
        {
         "coloraxis": "coloraxis",
         "hovertemplate": "x: %{x}<br>y: %{y}<br>color: %{z}<extra></extra>",
         "name": "0",
         "type": "heatmap",
         "xaxis": "x3",
         "yaxis": "y3",
         "z": [
          [
           0,
           0,
           0,
           0,
           0,
           0,
           0,
           0,
           0,
           0,
           0,
           0,
           0,
           0,
           0,
           0,
           0,
           0,
           0,
           0,
           0,
           0,
           0,
           0,
           0,
           0
          ],
          [
           0,
           0,
           0,
           0,
           0,
           0,
           0,
           0,
           0,
           0,
           0,
           0,
           0,
           0,
           0,
           0,
           0,
           0,
           0,
           0,
           0,
           0,
           0,
           0,
           0,
           0
          ],
          [
           0,
           0,
           0,
           0,
           0,
           0,
           0,
           0,
           0,
           0,
           0,
           0,
           0,
           0,
           0,
           0,
           0,
           0,
           0,
           0,
           0,
           0,
           0,
           0,
           0,
           0
          ],
          [
           0,
           0,
           0,
           0,
           0,
           0,
           0,
           0,
           0,
           0,
           -0.011764705882352941,
           -0.07058823529411765,
           -0.058823529411764705,
           0,
           -0.42352941176470593,
           -0.4627450980392157,
           -0.19215686274509802,
           0.43137254901960786,
           0.03529411764705881,
           -0.8980392156862745,
           -0.3176470588235294,
           0.5019607843137255,
           0.9686274509803922,
           0.4980392156862745,
           0,
           0
          ],
          [
           0,
           0,
           0,
           0,
           0,
           0,
           -0.11764705882352941,
           -0.1411764705882353,
           -0.25098039215686274,
           -0.46274509803921565,
           -0.3098039215686274,
           -0.45882352941176474,
           -0.38431372549019616,
           0,
           -0.42352941176470593,
           -0.4627450980392157,
           -0.08235294117647052,
           0.7490196078431373,
           -0.0745098039215687,
           -1.172549019607843,
           -0.09019607843137245,
           1.2,
           1.7333333333333334,
           0.7490196078431373,
           0,
           0
          ],
          [
           0,
           0,
           0,
           0,
           0,
           -0.19215686274509805,
           -1.0509803921568628,
           -0.9411764705882353,
           -0.30980392156862746,
           -0.4627450980392156,
           -0.30980392156862746,
           -0.45882352941176474,
           -0.38431372549019616,
           0,
           -0.42352941176470593,
           -0.45490196078431366,
           0.5450980392156863,
           1.411764705882353,
           -0.031372549019607954,
           -1.0705882352941174,
           0.07843137254901972,
           1.4196078431372547,
           1.8862745098039215,
           0.7490196078431373,
           0,
           0
          ],
          [
           0,
           0,
           0,
           0,
           0,
           -0.2627450980392157,
           -1.9098039215686273,
           -1.8627450980392157,
           -0.4431372549019609,
           -0.4627450980392156,
           -0.29803921568627445,
           -0.3882352941176471,
           -0.1098039215686275,
           0.2784313725490196,
           -0.19215686274509802,
           -0.22352941176470575,
           1.7058823529411766,
           1.9254901960784312,
           -0.06666666666666676,
           -0.17254901960784302,
           0.39607843137254906,
           0.9176470588235294,
           0.9176470588235294,
           0.25098039215686274,
           0,
           0
          ],
          [
           0,
           0,
           0,
           0,
           0,
           -0.2627450980392157,
           -2.105882352941176,
           -2.3333333333333335,
           -0.2980392156862746,
           -0.3803921568627451,
           -0.5725490196078431,
           0.18823529411764706,
           1.1647058823529413,
           1.0823529411764707,
           -0.3176470588235294,
           -0.8274509803921567,
           1.7647058823529413,
           2.2117647058823526,
           0.04313725490196074,
           0.10196078431372552,
           0.16862745098039217,
           0.2196078431372549,
           0.15294117647058825,
           0,
           0,
           0
          ],
          [
           0,
           0,
           0,
           0,
           0,
           -0.07058823529411765,
           -1.172549019607843,
           -1.5882352941176472,
           -0.24313725490196086,
           -0.9294117647058823,
           -1.5607843137254902,
           0.43921568627450974,
           2.1568627450980395,
           1.435294117647059,
           -0.3176470588235294,
           -0.8352941176470587,
           1.1372549019607843,
           1.549019607843137,
           0,
           0,
           0,
           0,
           0,
           0,
           0,
           0
          ],
          [
           0,
           0,
           0,
           0,
           0,
           0,
           -0.3137254901960784,
           -0.6666666666666667,
           -0.10980392156862746,
           -1.4745098039215685,
           -2.552941176470588,
           0.23921568627450962,
           2.9254901960784316,
           1.9019607843137256,
           -0.11764705882352941,
           -0.6039215686274509,
           0.16862745098039217,
           0.6039215686274509,
           0,
           0,
           0,
           0,
           0,
           0,
           0,
           0
          ],
          [
           0,
           0,
           0,
           0,
           0,
           0,
           0,
           -0.054901960784313725,
           -0.00392156862745098,
           -1.1372549019607843,
           -2.7254901960784315,
           -0.8980392156862748,
           2.447058823529412,
           2.0901960784313727,
           0.2823529411764706,
           0,
           0,
           0,
           0,
           0,
           0,
           0,
           0,
           0,
           0,
           0
          ],
          [
           0,
           0,
           0,
           0,
           0,
           0,
           0,
           0,
           0,
           -0.588235294117647,
           -1.8745098039215686,
           -2.0941176470588236,
           0.7098039215686276,
           2.054901960784314,
           0.7411764705882351,
           0.6235294117647059,
           0.4235294117647059,
           0.00392156862745098,
           0,
           0,
           0,
           0,
           0,
           0,
           0,
           0
          ],
          [
           0,
           0,
           0,
           0,
           0,
           0,
           0,
           0,
           0,
           -0.043137254901960784,
           -0.8823529411764706,
           -2.211764705882353,
           -1.2156862745098038,
           0.6352941176470588,
           0.6823529411764704,
           1.1490196078431372,
           1.3176470588235294,
           0.47058823529411764,
           0.09803921568627451,
           0,
           0,
           0,
           0,
           0,
           0,
           0
          ],
          [
           0,
           0,
           0,
           0,
           0,
           0,
           0,
           0,
           0,
           0,
           -0.13725490196078433,
           -1.2627450980392156,
           -1.8627450980392157,
           -1.0862745098039217,
           -0.40784313725490207,
           0.8862745098039215,
           1.72156862745098,
           1.3568627450980393,
           0.6862745098039216,
           0.10588235294117647,
           0,
           0,
           0,
           0,
           0,
           0
          ],
          [
           0,
           0,
           0,
           0,
           0,
           0,
           0,
           0,
           0,
           0,
           0,
           -0.3176470588235294,
           -1.1176470588235294,
           -1.4666666666666666,
           -1.231372549019608,
           -0.6627450980392158,
           0.6705882352941175,
           1.607843137254902,
           1.6784313725490196,
           0.8392156862745097,
           0,
           0,
           0,
           0,
           0,
           0
          ],
          [
           0,
           0,
           0,
           0,
           0,
           0,
           0,
           0,
           0,
           0,
           0,
           0,
           -0.17647058823529413,
           -0.792156862745098,
           -1.1803921568627451,
           -2.1647058823529415,
           -1.215686274509804,
           1.1411764705882352,
           2.3215686274509806,
           1.8156862745098037,
           0.25098039215686274,
           0,
           0,
           0,
           0,
           0
          ],
          [
           0,
           0,
           0,
           0,
           0,
           0,
           0,
           0,
           0,
           0,
           0,
           0,
           -0.1803921568627451,
           -0.5725490196078431,
           -0.9019607843137255,
           -2.384313725490196,
           -1.8941176470588235,
           0.43529411764705883,
           2.7176470588235295,
           2.5215686274509803,
           0.2588235294117647,
           0,
           0,
           0,
           0,
           0
          ],
          [
           0,
           0,
           0,
           0,
           0,
           0,
           0,
           0,
           0,
           0,
           -0.15294117647058825,
           -0.5803921568627451,
           -0.9254901960784314,
           -0.9215686274509803,
           -0.6313725490196078,
           -1.4588235294117649,
           -1.2549019607843137,
           0.45882352941176474,
           2.7058823529411766,
           2.5019607843137255,
           0.2588235294117647,
           0,
           0,
           0,
           0,
           0
          ],
          [
           0,
           0,
           0,
           0,
           0,
           0,
           0,
           0,
           -0.09411764705882353,
           -0.4470588235294118,
           -0.9254901960784314,
           -1.1254901960784314,
           -1.0509803921568628,
           -0.9215686274509803,
           -0.6313725490196078,
           -0.2784313725490196,
           0.42352941176470593,
           1.2470588235294118,
           2.2705882352941176,
           1.5254901960784313,
           0.00784313725490196,
           0,
           0,
           0,
           0,
           0
          ],
          [
           0,
           0,
           0,
           0,
           0,
           0,
           -0.09019607843137255,
           -0.25882352941176473,
           -0.8392156862745098,
           -1.1803921568627451,
           -1.0823529411764707,
           -1.1254901960784314,
           -0.8705882352941177,
           -0.196078431372549,
           0.5803921568627451,
           0.9725490196078432,
           1.0156862745098039,
           1.0745098039215686,
           1.2862745098039214,
           0.7137254901960784,
           0,
           0,
           0,
           0,
           0,
           0
          ],
          [
           0,
           0,
           0,
           0,
           -0.07058823529411765,
           -0.6705882352941176,
           -0.8784313725490196,
           -0.5803921568627453,
           -0.9725490196078432,
           -1.1803921568627451,
           -0.9294117647058824,
           -0.3176470588235294,
           0.5529411764705883,
           0.9450980392156862,
           0.9882352941176471,
           1.0078431372549022,
           1.003921568627451,
           0.796078431372549,
           0.3058823529411765,
           0,
           0,
           0,
           0,
           0,
           0,
           0
          ],
          [
           0,
           0,
           -0.21568627450980393,
           -0.6745098039215687,
           -0.7411764705882352,
           -0.988235294117647,
           -0.9843137254901961,
           -0.5803921568627453,
           -0.8784313725490197,
           -0.6980392156862746,
           0.3137254901960784,
           1.1411764705882355,
           1.2000000000000002,
           0.988235294117647,
           0.9882352941176471,
           0.803921568627451,
           0.3176470588235294,
           0.00784313725490196,
           0,
           0,
           0,
           0,
           0,
           0,
           0,
           0
          ],
          [
           0,
           0,
           -0.7490196078431373,
           -1.6666666666666667,
           -1.2,
           -0.988235294117647,
           -0.7333333333333334,
           0.14117647058823524,
           0.180392156862745,
           0.5019607843137255,
           0.9882352941176471,
           1.2039215686274511,
           1.2000000000000002,
           0.7725490196078431,
           0.3137254901960784,
           0.03529411764705882,
           0,
           0,
           0,
           0,
           0,
           0,
           0,
           0,
           0,
           0
          ],
          [
           0,
           0,
           -0.7490196078431373,
           -1.6666666666666667,
           -1.1294117647058823,
           -0.3176470588235294,
           0.05490196078431364,
           0.4627450980392157,
           0.3137254901960784,
           0.5019607843137255,
           0.9882352941176471,
           0.9764705882352942,
           0.5215686274509804,
           0.043137254901960784,
           0,
           0,
           0,
           0,
           0,
           0,
           0,
           0,
           0,
           0,
           0,
           0
          ],
          [
           0,
           0,
           -0.5333333333333333,
           -0.9921568627450981,
           -0.45882352941176474,
           0,
           0.16078431372549018,
           0.4627450980392157,
           0.3137254901960784,
           0.4666666666666667,
           0.5176470588235295,
           0.06274509803921569,
           0,
           0,
           0,
           0,
           0,
           0,
           0,
           0,
           0,
           0,
           0,
           0,
           0,
           0
          ],
          [
           0,
           0,
           0,
           0,
           0,
           0,
           0,
           0,
           0,
           0,
           0,
           0,
           0,
           0,
           0,
           0,
           0,
           0,
           0,
           0,
           0,
           0,
           0,
           0,
           0,
           0
          ]
         ]
        },
        {
         "coloraxis": "coloraxis",
         "hovertemplate": "x: %{x}<br>y: %{y}<br>color: %{z}<extra></extra>",
         "name": "1",
         "type": "heatmap",
         "xaxis": "x4",
         "yaxis": "y4",
         "z": [
          [
           0,
           0,
           0,
           0,
           0,
           0,
           0,
           0,
           0,
           0,
           0,
           0,
           0,
           0,
           0,
           0,
           0,
           0,
           0,
           0,
           0,
           0,
           0,
           0,
           0,
           0
          ],
          [
           0,
           0,
           0,
           0,
           0,
           0,
           0,
           0,
           0,
           0,
           0,
           0,
           0,
           0,
           0,
           0,
           0,
           0,
           0,
           0,
           0,
           0,
           0,
           0,
           0,
           0
          ],
          [
           0,
           0,
           0,
           0,
           0,
           0,
           0,
           0,
           0,
           0,
           0,
           0,
           0,
           0,
           0,
           0,
           0,
           0,
           0,
           0,
           0,
           0,
           0,
           0,
           0,
           0
          ],
          [
           0,
           0,
           0,
           0,
           0,
           0,
           0,
           0,
           0,
           0,
           -0.011764705882352941,
           -0.07058823529411765,
           -0.08235294117647059,
           -0.1411764705882353,
           -0.5647058823529412,
           -0.6039215686274509,
           -1.1803921568627451,
           -0.6352941176470588,
           -1.3372549019607844,
           -1.1019607843137256,
           -1.619607843137255,
           -1.4980392156862745,
           -0.9686274509803922,
           -0.4980392156862745,
           0,
           0
          ],
          [
           0,
           0,
           0,
           0,
           0,
           0,
           -0.11764705882352941,
           -0.1411764705882353,
           -0.4862745098039216,
           -0.7450980392156863,
           -1.0352941176470587,
           -1.5960784313725491,
           -1.6588235294117646,
           -1.9843137254901961,
           -1.9843137254901961,
           -1.9843137254901961,
           -1.8745098039215686,
           -1.6666666666666667,
           -1.8745098039215686,
           -1.6235294117647059,
           -1.7568627450980392,
           -1.2,
           -0.7647058823529411,
           -0.25098039215686274,
           0,
           0
          ],
          [
           0,
           0,
           0,
           0,
           0,
           -0.19215686274509805,
           -0.9333333333333333,
           -1.184313725490196,
           -1.9254901960784314,
           -1.9843137254901961,
           -1.9725490196078432,
           -1.9137254901960785,
           -1.9019607843137254,
           -1.843137254901961,
           -1.419607843137255,
           -1.3725490196078431,
           -0.1764705882352941,
           -0.6705882352941177,
           0.6509803921568629,
           0.5607843137254903,
           1.1450980392156862,
           1.2784313725490195,
           0.8156862745098039,
           0.4980392156862745,
           0,
           0
          ],
          [
           0,
           0,
           0,
           0,
           0,
           -0.07058823529411765,
           -0.7411764705882352,
           -0.9215686274509804,
           -1.3647058823529412,
           -1.2392156862745098,
           -0.9490196078431374,
           -0.388235294117647,
           -0.10980392156862762,
           0.2784313725490196,
           0.23921568627450995,
           0.3254901960784313,
           0.9058823529411765,
           0.7215686274509805,
           1.8745098039215686,
           1.6235294117647059,
           1.7568627450980392,
           1.2,
           0.7647058823529411,
           0.25098039215686274,
           0,
           0
          ],
          [
           0,
           0,
           0,
           0,
           0,
           0.19215686274509805,
           0.6196078431372549,
           0.5725490196078431,
           1.192156862745098,
           0.3803921568627451,
           0.5725490196078431,
           0.18823529411764706,
           0.9490196078431373,
           1.1803921568627451,
           1.772549019607843,
           1.3725490196078431,
           1.188235294117647,
           0.7019607843137255,
           0.6862745098039216,
           0.5411764705882354,
           0.47450980392156866,
           0.2196078431372549,
           0.15294117647058825,
           0,
           0,
           0
          ],
          [
           0,
           0,
           0,
           0,
           0,
           0.07058823529411765,
           0.8588235294117647,
           1.007843137254902,
           1.8470588235294119,
           1.3254901960784315,
           0.9882352941176471,
           1.0274509803921568,
           0.776470588235294,
           1.3529411764705883,
           1.7450980392156863,
           1.6588235294117646,
           0.9686274509803922,
           0.9450980392156862,
           0,
           0,
           0,
           0,
           0,
           0,
           0,
           0
          ],
          [
           0,
           0,
           0,
           0,
           0,
           0,
           0.3137254901960784,
           0.611764705882353,
           0.7333333333333334,
           1.058823529411765,
           0.41960784313725497,
           0.5058823529411764,
           0.03529411764705889,
           0.05882352941176472,
           0.203921568627451,
           0.6039215686274509,
           0.16862745098039217,
           0.6039215686274509,
           0,
           0,
           0,
           0,
           0,
           0,
           0,
           0
          ],
          [
           0,
           0,
           0,
           0,
           0,
           0,
           0,
           0.054901960784313725,
           0.00392156862745098,
           0.615686274509804,
           0.25098039215686274,
           -0.07843137254901966,
           -0.027450980392156876,
           -0.6392156862745098,
           -0.27450980392156865,
           0,
           0,
           0,
           0,
           0,
           0,
           0,
           0,
           0,
           0,
           0
          ],
          [
           0,
           0,
           0,
           0,
           0,
           0,
           0,
           0,
           0,
           0.5450980392156862,
           0.8549019607843138,
           0.34509803921568616,
           -0.019607843137254832,
           -0.8274509803921568,
           -1.2980392156862746,
           -0.6313725490196078,
           -0.4235294117647059,
           -0.00392156862745098,
           0,
           0,
           0,
           0,
           0,
           0,
           0,
           0
          ],
          [
           0,
           0,
           0,
           0,
           0,
           0,
           0,
           0,
           0,
           0.043137254901960784,
           0.7450980392156863,
           0.7176470588235295,
           0.07843137254901955,
           -0.3176470588235294,
           -1.6588235294117646,
           -1.4588235294117649,
           -1.0901960784313727,
           -0.4666666666666667,
           -0.09803921568627451,
           0,
           0,
           0,
           0,
           0,
           0,
           0
          ],
          [
           0,
           0,
           0,
           0,
           0,
           0,
           0,
           0,
           0,
           0,
           0.13725490196078433,
           0.9450980392156862,
           0.8431372549019607,
           0.8431372549019608,
           0.13725490196078427,
           -1.0901960784313727,
           -1.156862745098039,
           -1.0941176470588236,
           -0.5882352941176471,
           -0.10588235294117647,
           0,
           0,
           0,
           0,
           0,
           0
          ],
          [
           0,
           0,
           0,
           0,
           0,
           0,
           0,
           0,
           0,
           0,
           0,
           0.3176470588235294,
           0.9411764705882353,
           1.2470588235294118,
           1.5686274509803921,
           0.40784313725490207,
           -0.2666666666666666,
           -1.2549019607843137,
           -0.8941176470588236,
           -0.7333333333333333,
           0,
           0,
           0,
           0,
           0,
           0
          ],
          [
           0,
           0,
           0,
           0,
           0,
           0,
           0,
           0,
           0,
           0,
           0,
           0,
           0.17647058823529413,
           0.7294117647058823,
           1.1686274509803922,
           0.7450980392156864,
           0.5882352941176472,
           -0.8549019607843136,
           -0.6549019607843137,
           -0.8705882352941177,
           -0.25098039215686274,
           0,
           0,
           0,
           0,
           0
          ],
          [
           0,
           0,
           0,
           0,
           0,
           0,
           0,
           0,
           0,
           0,
           0,
           0,
           -0.1803921568627451,
           -0.44705882352941173,
           -0.5333333333333333,
           -0.4509803921568627,
           -0.3529411764705882,
           -0.08235294117647052,
           -0.00784313725490196,
           -0.07843137254901966,
           -0.00784313725490196,
           0,
           0,
           0,
           0,
           0
          ],
          [
           0,
           0,
           0,
           0,
           0,
           0,
           0,
           0,
           0,
           0,
           -0.15294117647058825,
           -0.5803921568627451,
           -1.0509803921568628,
           -1.5725490196078433,
           -1.8901960784313725,
           -1.007843137254902,
           -0.9803921568627451,
           0.24705882352941166,
           0.26274509803921575,
           0.26274509803921564,
           0.25098039215686274,
           0,
           0,
           0,
           0,
           0
          ],
          [
           0,
           0,
           0,
           0,
           0,
           0,
           0,
           0,
           -0.09411764705882353,
           -0.4470588235294118,
           -0.9607843137254902,
           -1.4392156862745098,
           -1.6784313725490196,
           -1.4745098039215687,
           -1.0862745098039217,
           -0.2784313725490196,
           0.41176470588235303,
           1.0156862745098039,
           0.6941176470588235,
           0.8117647058823529,
           0.00784313725490196,
           0,
           0,
           0,
           0,
           0
          ],
          [
           0,
           0,
           0,
           0,
           0,
           0,
           -0.09019607843137255,
           -0.25882352941176473,
           -0.9254901960784314,
           -1.2509803921568627,
           -1.6745098039215687,
           -1.4039215686274509,
           -0.9333333333333333,
           -0.19607843137254888,
           0.580392156862745,
           1.2000000000000002,
           1.6549019607843138,
           1.6980392156862747,
           0.9803921568627451,
           0.7137254901960784,
           0,
           0,
           0,
           0,
           0,
           0
          ],
          [
           0,
           0,
           0,
           0,
           -0.07058823529411765,
           -0.6705882352941176,
           -0.9294117647058823,
           -1.6627450980392156,
           -1.7568627450980392,
           -1.5372549019607844,
           -1.0235294117647058,
           -0.3176470588235294,
           0.5529411764705883,
           1.184313725490196,
           1.6705882352941177,
           1.745098039215686,
           1.2980392156862746,
           0.788235294117647,
           0.3058823529411765,
           0,
           0,
           0,
           0,
           0,
           0,
           0
          ],
          [
           0,
           0,
           -0.21568627450980393,
           -0.6745098039215687,
           -1.1019607843137256,
           -1.6666666666666667,
           -1.788235294117647,
           -1.7254901960784315,
           -1.0588235294117647,
           -0.6980392156862746,
           0.31372549019607854,
           0.984313725490196,
           1.4627450980392158,
           1.7254901960784312,
           1.3098039215686275,
           0.7843137254901961,
           0.3176470588235294,
           0.00784313725490196,
           0,
           0,
           0,
           0,
           0,
           0,
           0,
           0
          ],
          [
           0,
           0,
           -0.5333333333333333,
           -0.9921568627450981,
           -1.4549019607843139,
           -1.3137254901960786,
           -0.8941176470588237,
           0.14117647058823513,
           0.5019607843137254,
           1.3921568627450982,
           1.4666666666666668,
           1.6941176470588235,
           1.3058823529411765,
           0.7999999999999999,
           0.3137254901960784,
           0.03529411764705882,
           0,
           0,
           0,
           0,
           0,
           0,
           0,
           0,
           0,
           0
          ],
          [
           0,
           0,
           0.21568627450980393,
           0.6745098039215687,
           1.1019607843137256,
           1.6666666666666667,
           1.8784313725490196,
           1.9843137254901961,
           1.9843137254901961,
           1.9490196078431374,
           1.5137254901960784,
           1,
           0.5215686274509804,
           0.043137254901960784,
           0,
           0,
           0,
           0,
           0,
           0,
           0,
           0,
           0,
           0,
           0,
           0
          ],
          [
           0,
           0,
           0.5333333333333333,
           0.9921568627450981,
           1.5254901960784313,
           1.9843137254901961,
           1.823529411764706,
           1.5215686274509803,
           1.3490196078431373,
           0.592156862745098,
           0.5176470588235295,
           0.06274509803921569,
           0,
           0,
           0,
           0,
           0,
           0,
           0,
           0,
           0,
           0,
           0,
           0,
           0,
           0
          ],
          [
           0,
           0,
           0,
           0,
           0,
           0,
           0,
           0,
           0,
           0,
           0,
           0,
           0,
           0,
           0,
           0,
           0,
           0,
           0,
           0,
           0,
           0,
           0,
           0,
           0,
           0
          ]
         ]
        },
        {
         "coloraxis": "coloraxis",
         "hovertemplate": "x: %{x}<br>y: %{y}<br>color: %{z}<extra></extra>",
         "name": "2",
         "type": "heatmap",
         "xaxis": "x",
         "yaxis": "y",
         "z": [
          [
           0,
           0,
           0,
           0,
           0,
           0,
           0,
           0,
           0,
           0,
           0,
           0,
           0,
           0,
           0,
           0,
           0,
           0,
           0,
           0,
           0,
           0,
           0,
           0,
           0,
           0
          ],
          [
           0,
           0,
           0,
           0,
           0,
           0,
           0,
           0,
           0,
           0,
           0,
           0,
           0,
           0,
           0,
           0,
           0,
           0,
           0,
           0,
           0,
           0,
           0,
           0,
           0,
           0
          ],
          [
           0,
           0,
           0,
           0,
           0,
           0,
           0,
           0,
           0,
           0,
           0,
           0,
           0,
           0,
           0,
           0,
           0,
           0,
           0,
           0,
           0,
           0,
           0,
           0,
           0,
           0
          ],
          [
           0,
           0,
           0,
           0,
           0,
           0,
           0,
           0,
           0,
           0,
           -0.011764705882352941,
           -0.07058823529411765,
           -0.058823529411764705,
           0,
           -0.42352941176470593,
           -0.4627450980392157,
           -0.19215686274509802,
           0.43137254901960786,
           0.03529411764705881,
           -0.8980392156862745,
           -0.3176470588235294,
           0.5019607843137255,
           0.9686274509803922,
           0.4980392156862745,
           0,
           0
          ],
          [
           0,
           0,
           0,
           0,
           0,
           0,
           -0.11764705882352941,
           -0.1411764705882353,
           -0.25098039215686274,
           -0.46274509803921565,
           -0.3098039215686274,
           -0.45882352941176474,
           -0.38431372549019616,
           0,
           -0.42352941176470593,
           -0.4627450980392157,
           -0.08235294117647052,
           0.7490196078431373,
           -0.0745098039215687,
           -1.172549019607843,
           -0.09019607843137245,
           1.2,
           1.7333333333333334,
           0.7490196078431373,
           0,
           0
          ],
          [
           0,
           0,
           0,
           0,
           0,
           -0.19215686274509805,
           -1.0509803921568628,
           -0.9411764705882353,
           -0.30980392156862746,
           -0.4627450980392156,
           -0.30980392156862746,
           -0.45882352941176474,
           -0.38431372549019616,
           0,
           -0.42352941176470593,
           -0.45490196078431366,
           0.5450980392156863,
           1.411764705882353,
           -0.031372549019607954,
           -1.0705882352941174,
           0.07843137254901972,
           1.4196078431372547,
           1.8862745098039215,
           0.7490196078431373,
           0,
           0
          ],
          [
           0,
           0,
           0,
           0,
           0,
           -0.2627450980392157,
           -1.9098039215686273,
           -1.8627450980392157,
           -0.4431372549019609,
           -0.4627450980392156,
           -0.29803921568627445,
           -0.3882352941176471,
           -0.1098039215686275,
           0.2784313725490196,
           -0.19215686274509802,
           -0.22352941176470575,
           1.7058823529411766,
           1.9254901960784312,
           -0.06666666666666676,
           -0.17254901960784302,
           0.39607843137254906,
           0.9176470588235294,
           0.9176470588235294,
           0.25098039215686274,
           0,
           0
          ],
          [
           0,
           0,
           0,
           0,
           0,
           -0.2627450980392157,
           -2.105882352941176,
           -2.3333333333333335,
           -0.2980392156862746,
           -0.3803921568627451,
           -0.5725490196078431,
           0.18823529411764706,
           1.1647058823529413,
           1.0823529411764707,
           -0.3176470588235294,
           -0.8274509803921567,
           1.7647058823529413,
           2.2117647058823526,
           0.04313725490196074,
           0.10196078431372552,
           0.16862745098039217,
           0.2196078431372549,
           0.15294117647058825,
           0,
           0,
           0
          ],
          [
           0,
           0,
           0,
           0,
           0,
           -0.07058823529411765,
           -1.172549019607843,
           -1.5882352941176472,
           -0.24313725490196086,
           -0.9294117647058823,
           -1.5607843137254902,
           0.43921568627450974,
           2.1568627450980395,
           1.435294117647059,
           -0.3176470588235294,
           -0.8352941176470587,
           1.1372549019607843,
           1.549019607843137,
           0,
           0,
           0,
           0,
           0,
           0,
           0,
           0
          ],
          [
           0,
           0,
           0,
           0,
           0,
           0,
           -0.3137254901960784,
           -0.6666666666666667,
           -0.10980392156862746,
           -1.4745098039215685,
           -2.552941176470588,
           0.23921568627450962,
           2.9254901960784316,
           1.9019607843137256,
           -0.11764705882352941,
           -0.6039215686274509,
           0.16862745098039217,
           0.6039215686274509,
           0,
           0,
           0,
           0,
           0,
           0,
           0,
           0
          ],
          [
           0,
           0,
           0,
           0,
           0,
           0,
           0,
           -0.054901960784313725,
           -0.00392156862745098,
           -1.1372549019607843,
           -2.7254901960784315,
           -0.8980392156862748,
           2.447058823529412,
           2.0901960784313727,
           0.2823529411764706,
           0,
           0,
           0,
           0,
           0,
           0,
           0,
           0,
           0,
           0,
           0
          ],
          [
           0,
           0,
           0,
           0,
           0,
           0,
           0,
           0,
           0,
           -0.588235294117647,
           -1.8745098039215686,
           -2.0941176470588236,
           0.7098039215686276,
           2.054901960784314,
           0.7411764705882351,
           0.6235294117647059,
           0.4235294117647059,
           0.00392156862745098,
           0,
           0,
           0,
           0,
           0,
           0,
           0,
           0
          ],
          [
           0,
           0,
           0,
           0,
           0,
           0,
           0,
           0,
           0,
           -0.043137254901960784,
           -0.8823529411764706,
           -2.211764705882353,
           -1.2156862745098038,
           0.6352941176470588,
           0.6823529411764704,
           1.1490196078431372,
           1.3176470588235294,
           0.47058823529411764,
           0.09803921568627451,
           0,
           0,
           0,
           0,
           0,
           0,
           0
          ],
          [
           0,
           0,
           0,
           0,
           0,
           0,
           0,
           0,
           0,
           0,
           -0.13725490196078433,
           -1.2627450980392156,
           -1.8627450980392157,
           -1.0862745098039217,
           -0.40784313725490207,
           0.8862745098039215,
           1.72156862745098,
           1.3568627450980393,
           0.6862745098039216,
           0.10588235294117647,
           0,
           0,
           0,
           0,
           0,
           0
          ],
          [
           0,
           0,
           0,
           0,
           0,
           0,
           0,
           0,
           0,
           0,
           0,
           -0.3176470588235294,
           -1.1176470588235294,
           -1.4666666666666666,
           -1.231372549019608,
           -0.6627450980392158,
           0.6705882352941175,
           1.607843137254902,
           1.6784313725490196,
           0.8392156862745097,
           0,
           0,
           0,
           0,
           0,
           0
          ],
          [
           0,
           0,
           0,
           0,
           0,
           0,
           0,
           0,
           0,
           0,
           0,
           0,
           -0.17647058823529413,
           -0.792156862745098,
           -1.1803921568627451,
           -2.1647058823529415,
           -1.215686274509804,
           1.1411764705882352,
           2.3215686274509806,
           1.8156862745098037,
           0.25098039215686274,
           0,
           0,
           0,
           0,
           0
          ],
          [
           0,
           0,
           0,
           0,
           0,
           0,
           0,
           0,
           0,
           0,
           0,
           0,
           -0.1803921568627451,
           -0.5725490196078431,
           -0.9019607843137255,
           -2.384313725490196,
           -1.8941176470588235,
           0.43529411764705883,
           2.7176470588235295,
           2.5215686274509803,
           0.2588235294117647,
           0,
           0,
           0,
           0,
           0
          ],
          [
           0,
           0,
           0,
           0,
           0,
           0,
           0,
           0,
           0,
           0,
           -0.15294117647058825,
           -0.5803921568627451,
           -0.9254901960784314,
           -0.9215686274509803,
           -0.6313725490196078,
           -1.4588235294117649,
           -1.2549019607843137,
           0.45882352941176474,
           2.7058823529411766,
           2.5019607843137255,
           0.2588235294117647,
           0,
           0,
           0,
           0,
           0
          ],
          [
           0,
           0,
           0,
           0,
           0,
           0,
           0,
           0,
           -0.09411764705882353,
           -0.4470588235294118,
           -0.9254901960784314,
           -1.1254901960784314,
           -1.0509803921568628,
           -0.9215686274509803,
           -0.6313725490196078,
           -0.2784313725490196,
           0.42352941176470593,
           1.2470588235294118,
           2.2705882352941176,
           1.5254901960784313,
           0.00784313725490196,
           0,
           0,
           0,
           0,
           0
          ],
          [
           0,
           0,
           0,
           0,
           0,
           0,
           -0.09019607843137255,
           -0.25882352941176473,
           -0.8392156862745098,
           -1.1803921568627451,
           -1.0823529411764707,
           -1.1254901960784314,
           -0.8705882352941177,
           -0.196078431372549,
           0.5803921568627451,
           0.9725490196078432,
           1.0156862745098039,
           1.0745098039215686,
           1.2862745098039214,
           0.7137254901960784,
           0,
           0,
           0,
           0,
           0,
           0
          ],
          [
           0,
           0,
           0,
           0,
           -0.07058823529411765,
           -0.6705882352941176,
           -0.8784313725490196,
           -0.5803921568627453,
           -0.9725490196078432,
           -1.1803921568627451,
           -0.9294117647058824,
           -0.3176470588235294,
           0.5529411764705883,
           0.9450980392156862,
           0.9882352941176471,
           1.0078431372549022,
           1.003921568627451,
           0.796078431372549,
           0.3058823529411765,
           0,
           0,
           0,
           0,
           0,
           0,
           0
          ],
          [
           0,
           0,
           -0.21568627450980393,
           -0.6745098039215687,
           -0.7411764705882352,
           -0.988235294117647,
           -0.9843137254901961,
           -0.5803921568627453,
           -0.8784313725490197,
           -0.6980392156862746,
           0.3137254901960784,
           1.1411764705882355,
           1.2000000000000002,
           0.988235294117647,
           0.9882352941176471,
           0.803921568627451,
           0.3176470588235294,
           0.00784313725490196,
           0,
           0,
           0,
           0,
           0,
           0,
           0,
           0
          ],
          [
           0,
           0,
           -0.7490196078431373,
           -1.6666666666666667,
           -1.2,
           -0.988235294117647,
           -0.7333333333333334,
           0.14117647058823524,
           0.180392156862745,
           0.5019607843137255,
           0.9882352941176471,
           1.2039215686274511,
           1.2000000000000002,
           0.7725490196078431,
           0.3137254901960784,
           0.03529411764705882,
           0,
           0,
           0,
           0,
           0,
           0,
           0,
           0,
           0,
           0
          ],
          [
           0,
           0,
           -0.7490196078431373,
           -1.6666666666666667,
           -1.1294117647058823,
           -0.3176470588235294,
           0.05490196078431364,
           0.4627450980392157,
           0.3137254901960784,
           0.5019607843137255,
           0.9882352941176471,
           0.9764705882352942,
           0.5215686274509804,
           0.043137254901960784,
           0,
           0,
           0,
           0,
           0,
           0,
           0,
           0,
           0,
           0,
           0,
           0
          ],
          [
           0,
           0,
           -0.5333333333333333,
           -0.9921568627450981,
           -0.45882352941176474,
           0,
           0.16078431372549018,
           0.4627450980392157,
           0.3137254901960784,
           0.4666666666666667,
           0.5176470588235295,
           0.06274509803921569,
           0,
           0,
           0,
           0,
           0,
           0,
           0,
           0,
           0,
           0,
           0,
           0,
           0,
           0
          ],
          [
           0,
           0,
           0,
           0,
           0,
           0,
           0,
           0,
           0,
           0,
           0,
           0,
           0,
           0,
           0,
           0,
           0,
           0,
           0,
           0,
           0,
           0,
           0,
           0,
           0,
           0
          ]
         ]
        },
        {
         "coloraxis": "coloraxis",
         "hovertemplate": "x: %{x}<br>y: %{y}<br>color: %{z}<extra></extra>",
         "name": "3",
         "type": "heatmap",
         "xaxis": "x2",
         "yaxis": "y2",
         "z": [
          [
           0,
           0,
           0,
           0,
           0,
           0,
           0,
           0,
           0,
           0,
           0,
           0,
           0,
           0,
           0,
           0,
           0,
           0,
           0,
           0,
           0,
           0,
           0,
           0,
           0,
           0
          ],
          [
           0,
           0,
           0,
           0,
           0,
           0,
           0,
           0,
           0,
           0,
           0,
           0,
           0,
           0,
           0,
           0,
           0,
           0,
           0,
           0,
           0,
           0,
           0,
           0,
           0,
           0
          ],
          [
           0,
           0,
           0,
           0,
           0,
           0,
           0,
           0,
           0,
           0,
           0,
           0,
           0,
           0,
           0,
           0,
           0,
           0,
           0,
           0,
           0,
           0,
           0,
           0,
           0,
           0
          ],
          [
           0,
           0,
           0,
           0,
           0,
           0,
           0,
           0,
           0,
           0,
           -0.011764705882352941,
           -0.07058823529411765,
           -0.08235294117647059,
           -0.1411764705882353,
           -0.5647058823529412,
           -0.6039215686274509,
           -1.1803921568627451,
           -0.6352941176470588,
           -1.3372549019607844,
           -1.1019607843137256,
           -1.619607843137255,
           -1.4980392156862745,
           -0.9686274509803922,
           -0.4980392156862745,
           0,
           0
          ],
          [
           0,
           0,
           0,
           0,
           0,
           0,
           -0.11764705882352941,
           -0.1411764705882353,
           -0.4862745098039216,
           -0.7450980392156863,
           -1.0352941176470587,
           -1.5960784313725491,
           -1.6588235294117646,
           -1.9843137254901961,
           -1.9843137254901961,
           -1.9843137254901961,
           -1.8745098039215686,
           -1.6666666666666667,
           -1.8745098039215686,
           -1.6235294117647059,
           -1.7568627450980392,
           -1.2,
           -0.7647058823529411,
           -0.25098039215686274,
           0,
           0
          ],
          [
           0,
           0,
           0,
           0,
           0,
           -0.19215686274509805,
           -0.9333333333333333,
           -1.184313725490196,
           -1.9254901960784314,
           -1.9843137254901961,
           -1.9725490196078432,
           -1.9137254901960785,
           -1.9019607843137254,
           -1.843137254901961,
           -1.419607843137255,
           -1.3725490196078431,
           -0.1764705882352941,
           -0.6705882352941177,
           0.6509803921568629,
           0.5607843137254903,
           1.1450980392156862,
           1.2784313725490195,
           0.8156862745098039,
           0.4980392156862745,
           0,
           0
          ],
          [
           0,
           0,
           0,
           0,
           0,
           -0.07058823529411765,
           -0.7411764705882352,
           -0.9215686274509804,
           -1.3647058823529412,
           -1.2392156862745098,
           -0.9490196078431374,
           -0.388235294117647,
           -0.10980392156862762,
           0.2784313725490196,
           0.23921568627450995,
           0.3254901960784313,
           0.9058823529411765,
           0.7215686274509805,
           1.8745098039215686,
           1.6235294117647059,
           1.7568627450980392,
           1.2,
           0.7647058823529411,
           0.25098039215686274,
           0,
           0
          ],
          [
           0,
           0,
           0,
           0,
           0,
           0.19215686274509805,
           0.6196078431372549,
           0.5725490196078431,
           1.192156862745098,
           0.3803921568627451,
           0.5725490196078431,
           0.18823529411764706,
           0.9490196078431373,
           1.1803921568627451,
           1.772549019607843,
           1.3725490196078431,
           1.188235294117647,
           0.7019607843137255,
           0.6862745098039216,
           0.5411764705882354,
           0.47450980392156866,
           0.2196078431372549,
           0.15294117647058825,
           0,
           0,
           0
          ],
          [
           0,
           0,
           0,
           0,
           0,
           0.07058823529411765,
           0.8588235294117647,
           1.007843137254902,
           1.8470588235294119,
           1.3254901960784315,
           0.9882352941176471,
           1.0274509803921568,
           0.776470588235294,
           1.3529411764705883,
           1.7450980392156863,
           1.6588235294117646,
           0.9686274509803922,
           0.9450980392156862,
           0,
           0,
           0,
           0,
           0,
           0,
           0,
           0
          ],
          [
           0,
           0,
           0,
           0,
           0,
           0,
           0.3137254901960784,
           0.611764705882353,
           0.7333333333333334,
           1.058823529411765,
           0.41960784313725497,
           0.5058823529411764,
           0.03529411764705889,
           0.05882352941176472,
           0.203921568627451,
           0.6039215686274509,
           0.16862745098039217,
           0.6039215686274509,
           0,
           0,
           0,
           0,
           0,
           0,
           0,
           0
          ],
          [
           0,
           0,
           0,
           0,
           0,
           0,
           0,
           0.054901960784313725,
           0.00392156862745098,
           0.615686274509804,
           0.25098039215686274,
           -0.07843137254901966,
           -0.027450980392156876,
           -0.6392156862745098,
           -0.27450980392156865,
           0,
           0,
           0,
           0,
           0,
           0,
           0,
           0,
           0,
           0,
           0
          ],
          [
           0,
           0,
           0,
           0,
           0,
           0,
           0,
           0,
           0,
           0.5450980392156862,
           0.8549019607843138,
           0.34509803921568616,
           -0.019607843137254832,
           -0.8274509803921568,
           -1.2980392156862746,
           -0.6313725490196078,
           -0.4235294117647059,
           -0.00392156862745098,
           0,
           0,
           0,
           0,
           0,
           0,
           0,
           0
          ],
          [
           0,
           0,
           0,
           0,
           0,
           0,
           0,
           0,
           0,
           0.043137254901960784,
           0.7450980392156863,
           0.7176470588235295,
           0.07843137254901955,
           -0.3176470588235294,
           -1.6588235294117646,
           -1.4588235294117649,
           -1.0901960784313727,
           -0.4666666666666667,
           -0.09803921568627451,
           0,
           0,
           0,
           0,
           0,
           0,
           0
          ],
          [
           0,
           0,
           0,
           0,
           0,
           0,
           0,
           0,
           0,
           0,
           0.13725490196078433,
           0.9450980392156862,
           0.8431372549019607,
           0.8431372549019608,
           0.13725490196078427,
           -1.0901960784313727,
           -1.156862745098039,
           -1.0941176470588236,
           -0.5882352941176471,
           -0.10588235294117647,
           0,
           0,
           0,
           0,
           0,
           0
          ],
          [
           0,
           0,
           0,
           0,
           0,
           0,
           0,
           0,
           0,
           0,
           0,
           0.3176470588235294,
           0.9411764705882353,
           1.2470588235294118,
           1.5686274509803921,
           0.40784313725490207,
           -0.2666666666666666,
           -1.2549019607843137,
           -0.8941176470588236,
           -0.7333333333333333,
           0,
           0,
           0,
           0,
           0,
           0
          ],
          [
           0,
           0,
           0,
           0,
           0,
           0,
           0,
           0,
           0,
           0,
           0,
           0,
           0.17647058823529413,
           0.7294117647058823,
           1.1686274509803922,
           0.7450980392156864,
           0.5882352941176472,
           -0.8549019607843136,
           -0.6549019607843137,
           -0.8705882352941177,
           -0.25098039215686274,
           0,
           0,
           0,
           0,
           0
          ],
          [
           0,
           0,
           0,
           0,
           0,
           0,
           0,
           0,
           0,
           0,
           0,
           0,
           -0.1803921568627451,
           -0.44705882352941173,
           -0.5333333333333333,
           -0.4509803921568627,
           -0.3529411764705882,
           -0.08235294117647052,
           -0.00784313725490196,
           -0.07843137254901966,
           -0.00784313725490196,
           0,
           0,
           0,
           0,
           0
          ],
          [
           0,
           0,
           0,
           0,
           0,
           0,
           0,
           0,
           0,
           0,
           -0.15294117647058825,
           -0.5803921568627451,
           -1.0509803921568628,
           -1.5725490196078433,
           -1.8901960784313725,
           -1.007843137254902,
           -0.9803921568627451,
           0.24705882352941166,
           0.26274509803921575,
           0.26274509803921564,
           0.25098039215686274,
           0,
           0,
           0,
           0,
           0
          ],
          [
           0,
           0,
           0,
           0,
           0,
           0,
           0,
           0,
           -0.09411764705882353,
           -0.4470588235294118,
           -0.9607843137254902,
           -1.4392156862745098,
           -1.6784313725490196,
           -1.4745098039215687,
           -1.0862745098039217,
           -0.2784313725490196,
           0.41176470588235303,
           1.0156862745098039,
           0.6941176470588235,
           0.8117647058823529,
           0.00784313725490196,
           0,
           0,
           0,
           0,
           0
          ],
          [
           0,
           0,
           0,
           0,
           0,
           0,
           -0.09019607843137255,
           -0.25882352941176473,
           -0.9254901960784314,
           -1.2509803921568627,
           -1.6745098039215687,
           -1.4039215686274509,
           -0.9333333333333333,
           -0.19607843137254888,
           0.580392156862745,
           1.2000000000000002,
           1.6549019607843138,
           1.6980392156862747,
           0.9803921568627451,
           0.7137254901960784,
           0,
           0,
           0,
           0,
           0,
           0
          ],
          [
           0,
           0,
           0,
           0,
           -0.07058823529411765,
           -0.6705882352941176,
           -0.9294117647058823,
           -1.6627450980392156,
           -1.7568627450980392,
           -1.5372549019607844,
           -1.0235294117647058,
           -0.3176470588235294,
           0.5529411764705883,
           1.184313725490196,
           1.6705882352941177,
           1.745098039215686,
           1.2980392156862746,
           0.788235294117647,
           0.3058823529411765,
           0,
           0,
           0,
           0,
           0,
           0,
           0
          ],
          [
           0,
           0,
           -0.21568627450980393,
           -0.6745098039215687,
           -1.1019607843137256,
           -1.6666666666666667,
           -1.788235294117647,
           -1.7254901960784315,
           -1.0588235294117647,
           -0.6980392156862746,
           0.31372549019607854,
           0.984313725490196,
           1.4627450980392158,
           1.7254901960784312,
           1.3098039215686275,
           0.7843137254901961,
           0.3176470588235294,
           0.00784313725490196,
           0,
           0,
           0,
           0,
           0,
           0,
           0,
           0
          ],
          [
           0,
           0,
           -0.5333333333333333,
           -0.9921568627450981,
           -1.4549019607843139,
           -1.3137254901960786,
           -0.8941176470588237,
           0.14117647058823513,
           0.5019607843137254,
           1.3921568627450982,
           1.4666666666666668,
           1.6941176470588235,
           1.3058823529411765,
           0.7999999999999999,
           0.3137254901960784,
           0.03529411764705882,
           0,
           0,
           0,
           0,
           0,
           0,
           0,
           0,
           0,
           0
          ],
          [
           0,
           0,
           0.21568627450980393,
           0.6745098039215687,
           1.1019607843137256,
           1.6666666666666667,
           1.8784313725490196,
           1.9843137254901961,
           1.9843137254901961,
           1.9490196078431374,
           1.5137254901960784,
           1,
           0.5215686274509804,
           0.043137254901960784,
           0,
           0,
           0,
           0,
           0,
           0,
           0,
           0,
           0,
           0,
           0,
           0
          ],
          [
           0,
           0,
           0.5333333333333333,
           0.9921568627450981,
           1.5254901960784313,
           1.9843137254901961,
           1.823529411764706,
           1.5215686274509803,
           1.3490196078431373,
           0.592156862745098,
           0.5176470588235295,
           0.06274509803921569,
           0,
           0,
           0,
           0,
           0,
           0,
           0,
           0,
           0,
           0,
           0,
           0,
           0,
           0
          ],
          [
           0,
           0,
           0,
           0,
           0,
           0,
           0,
           0,
           0,
           0,
           0,
           0,
           0,
           0,
           0,
           0,
           0,
           0,
           0,
           0,
           0,
           0,
           0,
           0,
           0,
           0
          ]
         ]
        }
       ],
       "layout": {
        "annotations": [
         {
          "font": {},
          "showarrow": false,
          "text": "Custom Correlation 0",
          "x": 0.245,
          "xanchor": "center",
          "xref": "paper",
          "y": 0.46499999999999997,
          "yanchor": "bottom",
          "yref": "paper"
         },
         {
          "font": {},
          "showarrow": false,
          "text": "Custom Correlation 1",
          "x": 0.755,
          "xanchor": "center",
          "xref": "paper",
          "y": 0.46499999999999997,
          "yanchor": "bottom",
          "yref": "paper"
         },
         {
          "font": {},
          "showarrow": false,
          "text": "Scipy Correlation 0",
          "x": 0.245,
          "xanchor": "center",
          "xref": "paper",
          "y": 0.9999999999999999,
          "yanchor": "bottom",
          "yref": "paper"
         },
         {
          "font": {},
          "showarrow": false,
          "text": "Scipy Correlation 1",
          "x": 0.755,
          "xanchor": "center",
          "xref": "paper",
          "y": 0.9999999999999999,
          "yanchor": "bottom",
          "yref": "paper"
         }
        ],
        "coloraxis": {
         "colorscale": [
          [
           0,
           "#0d0887"
          ],
          [
           0.1111111111111111,
           "#46039f"
          ],
          [
           0.2222222222222222,
           "#7201a8"
          ],
          [
           0.3333333333333333,
           "#9c179e"
          ],
          [
           0.4444444444444444,
           "#bd3786"
          ],
          [
           0.5555555555555556,
           "#d8576b"
          ],
          [
           0.6666666666666666,
           "#ed7953"
          ],
          [
           0.7777777777777778,
           "#fb9f3a"
          ],
          [
           0.8888888888888888,
           "#fdca26"
          ],
          [
           1,
           "#f0f921"
          ]
         ]
        },
        "margin": {
         "t": 60
        },
        "template": {
         "data": {
          "bar": [
           {
            "error_x": {
             "color": "#2a3f5f"
            },
            "error_y": {
             "color": "#2a3f5f"
            },
            "marker": {
             "line": {
              "color": "#E5ECF6",
              "width": 0.5
             },
             "pattern": {
              "fillmode": "overlay",
              "size": 10,
              "solidity": 0.2
             }
            },
            "type": "bar"
           }
          ],
          "barpolar": [
           {
            "marker": {
             "line": {
              "color": "#E5ECF6",
              "width": 0.5
             },
             "pattern": {
              "fillmode": "overlay",
              "size": 10,
              "solidity": 0.2
             }
            },
            "type": "barpolar"
           }
          ],
          "carpet": [
           {
            "aaxis": {
             "endlinecolor": "#2a3f5f",
             "gridcolor": "white",
             "linecolor": "white",
             "minorgridcolor": "white",
             "startlinecolor": "#2a3f5f"
            },
            "baxis": {
             "endlinecolor": "#2a3f5f",
             "gridcolor": "white",
             "linecolor": "white",
             "minorgridcolor": "white",
             "startlinecolor": "#2a3f5f"
            },
            "type": "carpet"
           }
          ],
          "choropleth": [
           {
            "colorbar": {
             "outlinewidth": 0,
             "ticks": ""
            },
            "type": "choropleth"
           }
          ],
          "contour": [
           {
            "colorbar": {
             "outlinewidth": 0,
             "ticks": ""
            },
            "colorscale": [
             [
              0,
              "#0d0887"
             ],
             [
              0.1111111111111111,
              "#46039f"
             ],
             [
              0.2222222222222222,
              "#7201a8"
             ],
             [
              0.3333333333333333,
              "#9c179e"
             ],
             [
              0.4444444444444444,
              "#bd3786"
             ],
             [
              0.5555555555555556,
              "#d8576b"
             ],
             [
              0.6666666666666666,
              "#ed7953"
             ],
             [
              0.7777777777777778,
              "#fb9f3a"
             ],
             [
              0.8888888888888888,
              "#fdca26"
             ],
             [
              1,
              "#f0f921"
             ]
            ],
            "type": "contour"
           }
          ],
          "contourcarpet": [
           {
            "colorbar": {
             "outlinewidth": 0,
             "ticks": ""
            },
            "type": "contourcarpet"
           }
          ],
          "heatmap": [
           {
            "colorbar": {
             "outlinewidth": 0,
             "ticks": ""
            },
            "colorscale": [
             [
              0,
              "#0d0887"
             ],
             [
              0.1111111111111111,
              "#46039f"
             ],
             [
              0.2222222222222222,
              "#7201a8"
             ],
             [
              0.3333333333333333,
              "#9c179e"
             ],
             [
              0.4444444444444444,
              "#bd3786"
             ],
             [
              0.5555555555555556,
              "#d8576b"
             ],
             [
              0.6666666666666666,
              "#ed7953"
             ],
             [
              0.7777777777777778,
              "#fb9f3a"
             ],
             [
              0.8888888888888888,
              "#fdca26"
             ],
             [
              1,
              "#f0f921"
             ]
            ],
            "type": "heatmap"
           }
          ],
          "heatmapgl": [
           {
            "colorbar": {
             "outlinewidth": 0,
             "ticks": ""
            },
            "colorscale": [
             [
              0,
              "#0d0887"
             ],
             [
              0.1111111111111111,
              "#46039f"
             ],
             [
              0.2222222222222222,
              "#7201a8"
             ],
             [
              0.3333333333333333,
              "#9c179e"
             ],
             [
              0.4444444444444444,
              "#bd3786"
             ],
             [
              0.5555555555555556,
              "#d8576b"
             ],
             [
              0.6666666666666666,
              "#ed7953"
             ],
             [
              0.7777777777777778,
              "#fb9f3a"
             ],
             [
              0.8888888888888888,
              "#fdca26"
             ],
             [
              1,
              "#f0f921"
             ]
            ],
            "type": "heatmapgl"
           }
          ],
          "histogram": [
           {
            "marker": {
             "pattern": {
              "fillmode": "overlay",
              "size": 10,
              "solidity": 0.2
             }
            },
            "type": "histogram"
           }
          ],
          "histogram2d": [
           {
            "colorbar": {
             "outlinewidth": 0,
             "ticks": ""
            },
            "colorscale": [
             [
              0,
              "#0d0887"
             ],
             [
              0.1111111111111111,
              "#46039f"
             ],
             [
              0.2222222222222222,
              "#7201a8"
             ],
             [
              0.3333333333333333,
              "#9c179e"
             ],
             [
              0.4444444444444444,
              "#bd3786"
             ],
             [
              0.5555555555555556,
              "#d8576b"
             ],
             [
              0.6666666666666666,
              "#ed7953"
             ],
             [
              0.7777777777777778,
              "#fb9f3a"
             ],
             [
              0.8888888888888888,
              "#fdca26"
             ],
             [
              1,
              "#f0f921"
             ]
            ],
            "type": "histogram2d"
           }
          ],
          "histogram2dcontour": [
           {
            "colorbar": {
             "outlinewidth": 0,
             "ticks": ""
            },
            "colorscale": [
             [
              0,
              "#0d0887"
             ],
             [
              0.1111111111111111,
              "#46039f"
             ],
             [
              0.2222222222222222,
              "#7201a8"
             ],
             [
              0.3333333333333333,
              "#9c179e"
             ],
             [
              0.4444444444444444,
              "#bd3786"
             ],
             [
              0.5555555555555556,
              "#d8576b"
             ],
             [
              0.6666666666666666,
              "#ed7953"
             ],
             [
              0.7777777777777778,
              "#fb9f3a"
             ],
             [
              0.8888888888888888,
              "#fdca26"
             ],
             [
              1,
              "#f0f921"
             ]
            ],
            "type": "histogram2dcontour"
           }
          ],
          "mesh3d": [
           {
            "colorbar": {
             "outlinewidth": 0,
             "ticks": ""
            },
            "type": "mesh3d"
           }
          ],
          "parcoords": [
           {
            "line": {
             "colorbar": {
              "outlinewidth": 0,
              "ticks": ""
             }
            },
            "type": "parcoords"
           }
          ],
          "pie": [
           {
            "automargin": true,
            "type": "pie"
           }
          ],
          "scatter": [
           {
            "fillpattern": {
             "fillmode": "overlay",
             "size": 10,
             "solidity": 0.2
            },
            "type": "scatter"
           }
          ],
          "scatter3d": [
           {
            "line": {
             "colorbar": {
              "outlinewidth": 0,
              "ticks": ""
             }
            },
            "marker": {
             "colorbar": {
              "outlinewidth": 0,
              "ticks": ""
             }
            },
            "type": "scatter3d"
           }
          ],
          "scattercarpet": [
           {
            "marker": {
             "colorbar": {
              "outlinewidth": 0,
              "ticks": ""
             }
            },
            "type": "scattercarpet"
           }
          ],
          "scattergeo": [
           {
            "marker": {
             "colorbar": {
              "outlinewidth": 0,
              "ticks": ""
             }
            },
            "type": "scattergeo"
           }
          ],
          "scattergl": [
           {
            "marker": {
             "colorbar": {
              "outlinewidth": 0,
              "ticks": ""
             }
            },
            "type": "scattergl"
           }
          ],
          "scattermapbox": [
           {
            "marker": {
             "colorbar": {
              "outlinewidth": 0,
              "ticks": ""
             }
            },
            "type": "scattermapbox"
           }
          ],
          "scatterpolar": [
           {
            "marker": {
             "colorbar": {
              "outlinewidth": 0,
              "ticks": ""
             }
            },
            "type": "scatterpolar"
           }
          ],
          "scatterpolargl": [
           {
            "marker": {
             "colorbar": {
              "outlinewidth": 0,
              "ticks": ""
             }
            },
            "type": "scatterpolargl"
           }
          ],
          "scatterternary": [
           {
            "marker": {
             "colorbar": {
              "outlinewidth": 0,
              "ticks": ""
             }
            },
            "type": "scatterternary"
           }
          ],
          "surface": [
           {
            "colorbar": {
             "outlinewidth": 0,
             "ticks": ""
            },
            "colorscale": [
             [
              0,
              "#0d0887"
             ],
             [
              0.1111111111111111,
              "#46039f"
             ],
             [
              0.2222222222222222,
              "#7201a8"
             ],
             [
              0.3333333333333333,
              "#9c179e"
             ],
             [
              0.4444444444444444,
              "#bd3786"
             ],
             [
              0.5555555555555556,
              "#d8576b"
             ],
             [
              0.6666666666666666,
              "#ed7953"
             ],
             [
              0.7777777777777778,
              "#fb9f3a"
             ],
             [
              0.8888888888888888,
              "#fdca26"
             ],
             [
              1,
              "#f0f921"
             ]
            ],
            "type": "surface"
           }
          ],
          "table": [
           {
            "cells": {
             "fill": {
              "color": "#EBF0F8"
             },
             "line": {
              "color": "white"
             }
            },
            "header": {
             "fill": {
              "color": "#C8D4E3"
             },
             "line": {
              "color": "white"
             }
            },
            "type": "table"
           }
          ]
         },
         "layout": {
          "annotationdefaults": {
           "arrowcolor": "#2a3f5f",
           "arrowhead": 0,
           "arrowwidth": 1
          },
          "autotypenumbers": "strict",
          "coloraxis": {
           "colorbar": {
            "outlinewidth": 0,
            "ticks": ""
           }
          },
          "colorscale": {
           "diverging": [
            [
             0,
             "#8e0152"
            ],
            [
             0.1,
             "#c51b7d"
            ],
            [
             0.2,
             "#de77ae"
            ],
            [
             0.3,
             "#f1b6da"
            ],
            [
             0.4,
             "#fde0ef"
            ],
            [
             0.5,
             "#f7f7f7"
            ],
            [
             0.6,
             "#e6f5d0"
            ],
            [
             0.7,
             "#b8e186"
            ],
            [
             0.8,
             "#7fbc41"
            ],
            [
             0.9,
             "#4d9221"
            ],
            [
             1,
             "#276419"
            ]
           ],
           "sequential": [
            [
             0,
             "#0d0887"
            ],
            [
             0.1111111111111111,
             "#46039f"
            ],
            [
             0.2222222222222222,
             "#7201a8"
            ],
            [
             0.3333333333333333,
             "#9c179e"
            ],
            [
             0.4444444444444444,
             "#bd3786"
            ],
            [
             0.5555555555555556,
             "#d8576b"
            ],
            [
             0.6666666666666666,
             "#ed7953"
            ],
            [
             0.7777777777777778,
             "#fb9f3a"
            ],
            [
             0.8888888888888888,
             "#fdca26"
            ],
            [
             1,
             "#f0f921"
            ]
           ],
           "sequentialminus": [
            [
             0,
             "#0d0887"
            ],
            [
             0.1111111111111111,
             "#46039f"
            ],
            [
             0.2222222222222222,
             "#7201a8"
            ],
            [
             0.3333333333333333,
             "#9c179e"
            ],
            [
             0.4444444444444444,
             "#bd3786"
            ],
            [
             0.5555555555555556,
             "#d8576b"
            ],
            [
             0.6666666666666666,
             "#ed7953"
            ],
            [
             0.7777777777777778,
             "#fb9f3a"
            ],
            [
             0.8888888888888888,
             "#fdca26"
            ],
            [
             1,
             "#f0f921"
            ]
           ]
          },
          "colorway": [
           "#636efa",
           "#EF553B",
           "#00cc96",
           "#ab63fa",
           "#FFA15A",
           "#19d3f3",
           "#FF6692",
           "#B6E880",
           "#FF97FF",
           "#FECB52"
          ],
          "font": {
           "color": "#2a3f5f"
          },
          "geo": {
           "bgcolor": "white",
           "lakecolor": "white",
           "landcolor": "#E5ECF6",
           "showlakes": true,
           "showland": true,
           "subunitcolor": "white"
          },
          "hoverlabel": {
           "align": "left"
          },
          "hovermode": "closest",
          "mapbox": {
           "style": "light"
          },
          "paper_bgcolor": "white",
          "plot_bgcolor": "#E5ECF6",
          "polar": {
           "angularaxis": {
            "gridcolor": "white",
            "linecolor": "white",
            "ticks": ""
           },
           "bgcolor": "#E5ECF6",
           "radialaxis": {
            "gridcolor": "white",
            "linecolor": "white",
            "ticks": ""
           }
          },
          "scene": {
           "xaxis": {
            "backgroundcolor": "#E5ECF6",
            "gridcolor": "white",
            "gridwidth": 2,
            "linecolor": "white",
            "showbackground": true,
            "ticks": "",
            "zerolinecolor": "white"
           },
           "yaxis": {
            "backgroundcolor": "#E5ECF6",
            "gridcolor": "white",
            "gridwidth": 2,
            "linecolor": "white",
            "showbackground": true,
            "ticks": "",
            "zerolinecolor": "white"
           },
           "zaxis": {
            "backgroundcolor": "#E5ECF6",
            "gridcolor": "white",
            "gridwidth": 2,
            "linecolor": "white",
            "showbackground": true,
            "ticks": "",
            "zerolinecolor": "white"
           }
          },
          "shapedefaults": {
           "line": {
            "color": "#2a3f5f"
           }
          },
          "ternary": {
           "aaxis": {
            "gridcolor": "white",
            "linecolor": "white",
            "ticks": ""
           },
           "baxis": {
            "gridcolor": "white",
            "linecolor": "white",
            "ticks": ""
           },
           "bgcolor": "#E5ECF6",
           "caxis": {
            "gridcolor": "white",
            "linecolor": "white",
            "ticks": ""
           }
          },
          "title": {
           "x": 0.05
          },
          "xaxis": {
           "automargin": true,
           "gridcolor": "white",
           "linecolor": "white",
           "ticks": "",
           "title": {
            "standoff": 15
           },
           "zerolinecolor": "white",
           "zerolinewidth": 2
          },
          "yaxis": {
           "automargin": true,
           "gridcolor": "white",
           "linecolor": "white",
           "ticks": "",
           "title": {
            "standoff": 15
           },
           "zerolinecolor": "white",
           "zerolinewidth": 2
          }
         }
        },
        "xaxis": {
         "anchor": "y",
         "constrain": "domain",
         "domain": [
          0,
          0.49
         ],
         "scaleanchor": "y"
        },
        "xaxis2": {
         "anchor": "y2",
         "domain": [
          0.51,
          1
         ],
         "matches": "x"
        },
        "xaxis3": {
         "anchor": "y3",
         "domain": [
          0,
          0.49
         ],
         "matches": "x",
         "showticklabels": false
        },
        "xaxis4": {
         "anchor": "y4",
         "domain": [
          0.51,
          1
         ],
         "matches": "x",
         "showticklabels": false
        },
        "yaxis": {
         "anchor": "x",
         "autorange": "reversed",
         "constrain": "domain",
         "domain": [
          0,
          0.46499999999999997
         ]
        },
        "yaxis2": {
         "anchor": "x2",
         "domain": [
          0,
          0.46499999999999997
         ],
         "matches": "y",
         "showticklabels": false
        },
        "yaxis3": {
         "anchor": "x3",
         "domain": [
          0.5349999999999999,
          0.9999999999999999
         ],
         "matches": "y"
        },
        "yaxis4": {
         "anchor": "x4",
         "domain": [
          0.5349999999999999,
          0.9999999999999999
         ],
         "matches": "y",
         "showticklabels": false
        }
       }
      }
     },
     "metadata": {},
     "output_type": "display_data"
    }
   ],
   "source": [
    "custom_correlations = (input[correlation_indices] @ kernels_weights).reshape(nb_horizontal_correlations, nb_vertical_correlations, kernels.shape[0])\n",
    "scipy_correlations = np.stack([correlate2d(input.reshape(28, 28), kernels[k], mode=\"valid\") for k in range(kernels.shape[0])], axis=2)\n",
    "\n",
    "display(np.concatenate([custom_correlations, scipy_correlations], axis=2).shape)\n",
    "\n",
    "fig = px.imshow(\n",
    "    np.concatenate([custom_correlations, scipy_correlations], axis=2),\n",
    "    facet_col=2,\n",
    "    facet_col_wrap=2,\n",
    ")\n",
    "fig.layout.annotations[0]['text'] = \"Custom Correlation 0\"\n",
    "fig.layout.annotations[1]['text'] = \"Custom Correlation 1\"\n",
    "fig.layout.annotations[2]['text'] = \"Scipy Correlation 0\"\n",
    "fig.layout.annotations[3]['text'] = \"Scipy Correlation 1\"\n",
    "fig.show()"
   ]
  },
  {
   "cell_type": "markdown",
   "metadata": {},
   "source": [
    "## Multiple kernels, multiple channels, single input image, cross correlation implementation"
   ]
  },
  {
   "cell_type": "code",
   "execution_count": 17,
   "metadata": {},
   "outputs": [
    {
     "data": {
      "text/plain": [
       "(2, 5, 5, 3)"
      ]
     },
     "execution_count": 17,
     "metadata": {},
     "output_type": "execute_result"
    }
   ],
   "source": [
    "multi_channels_kernels = np.asarray(\n",
    "[\n",
    "    [\n",
    "        # First kernel\n",
    "        # First channel\n",
    "            [\n",
    "            [1, 0, -1, 0, 1], \n",
    "            [1, 0, -1, 0, 1],\n",
    "            [1, 0, -1, 0, 1],\n",
    "            [1, 0, -1, 0, 1],\n",
    "            [1, 0, -1, 0, 1],\n",
    "        ],\n",
    "        # Second channel\n",
    "        [\n",
    "            [1, 0, 1, 1, 1], \n",
    "            [1, 0, 1, 1, 1], \n",
    "            [1, 0, 1, 1, 1],\n",
    "            [1, 0, 1, 1, 1],\n",
    "            [1, 0, 1, 1, 1],\n",
    "        ],\n",
    "        # Third channel\n",
    "        [\n",
    "            [0, 0, 0, 0, 1],\n",
    "            [0, 0, 0, 1, 0],\n",
    "            [0, 0, 1, 0, 0],\n",
    "            [0, 1, 0, 0, 0],\n",
    "            [1, 0, 0, 0, 0],\n",
    "        ],\n",
    "    ],\n",
    "    [\n",
    "        # Second kernel\n",
    "        # First channel\n",
    "        [\n",
    "            [0.5, 0.5, 0.5, 0.5, 0.5], \n",
    "            [0.5, 0.5, 0.5, 0.5, 0.5], \n",
    "            [0.5, 0.5, 0.5, 0.5, 0.5], \n",
    "            [0.5, 0.5, 0.5, 0.5, 0.5],\n",
    "            [0.5, 0.5, 0.5, 0.5, 0.5],\n",
    "        ],\n",
    "        # Second channel\n",
    "        [\n",
    "            [1, 2, 3, 4, 5],\n",
    "            [1, 1, 1, 0, 0],\n",
    "            [0, 1, 1, 1, 0],\n",
    "            [0, 0, 1, 1, 1],\n",
    "            [0, 1, 0, 1, 1],\n",
    "        ],\n",
    "        # Thrid channel\n",
    "        [\n",
    "            [0, 0, 1, 0, 0],\n",
    "            [0, 0.5, 1, 0.5, 0],\n",
    "            [1, 1, 1, 1, 1],\n",
    "            [0, 0.5, 1, 0.5, 0],\n",
    "            [0, 0, 1, 0, 0],\n",
    "        ],\n",
    "    ]\n",
    "]).swapaxes(1, 3)\n",
    "multi_channels_kernels.shape"
   ]
  },
  {
   "cell_type": "code",
   "execution_count": 27,
   "metadata": {},
   "outputs": [
    {
     "data": {
      "text/plain": [
       "array([[ 1. ,  0.5],\n",
       "       [ 1. ,  1. ],\n",
       "       [ 0. ,  0. ],\n",
       "       [ 1. ,  0.5],\n",
       "       [ 1. ,  1. ],\n",
       "       [ 0. ,  0. ],\n",
       "       [ 1. ,  0.5],\n",
       "       [ 1. ,  0. ],\n",
       "       [ 0. ,  1. ],\n",
       "       [ 1. ,  0.5],\n",
       "       [ 1. ,  0. ],\n",
       "       [ 0. ,  0. ],\n",
       "       [ 1. ,  0.5],\n",
       "       [ 1. ,  0. ],\n",
       "       [ 1. ,  0. ],\n",
       "       [ 0. ,  0.5],\n",
       "       [ 0. ,  2. ],\n",
       "       [ 0. ,  0. ],\n",
       "       [ 0. ,  0.5],\n",
       "       [ 0. ,  1. ],\n",
       "       [ 0. ,  0.5],\n",
       "       [ 0. ,  0.5],\n",
       "       [ 0. ,  1. ],\n",
       "       [ 0. ,  1. ],\n",
       "       [ 0. ,  0.5],\n",
       "       [ 0. ,  0. ],\n",
       "       [ 1. ,  0.5],\n",
       "       [ 0. ,  0.5],\n",
       "       [ 0. ,  1. ],\n",
       "       [ 0. ,  0. ],\n",
       "       [-1. ,  0.5],\n",
       "       [ 1. ,  3. ],\n",
       "       [ 0. ,  1. ],\n",
       "       [-1. ,  0.5],\n",
       "       [ 1. ,  1. ],\n",
       "       [ 0. ,  1. ],\n",
       "       [-1. ,  0.5],\n",
       "       [ 1. ,  1. ],\n",
       "       [ 1. ,  1. ],\n",
       "       [-1. ,  0.5],\n",
       "       [ 1. ,  1. ],\n",
       "       [ 0. ,  1. ],\n",
       "       [-1. ,  0.5],\n",
       "       [ 1. ,  0. ],\n",
       "       [ 0. ,  1. ],\n",
       "       [ 0. ,  0.5],\n",
       "       [ 1. ,  4. ],\n",
       "       [ 0. ,  0. ],\n",
       "       [ 0. ,  0.5],\n",
       "       [ 1. ,  0. ],\n",
       "       [ 1. ,  0.5],\n",
       "       [ 0. ,  0.5],\n",
       "       [ 1. ,  1. ],\n",
       "       [ 0. ,  1. ],\n",
       "       [ 0. ,  0.5],\n",
       "       [ 1. ,  1. ],\n",
       "       [ 0. ,  0.5],\n",
       "       [ 0. ,  0.5],\n",
       "       [ 1. ,  1. ],\n",
       "       [ 0. ,  0. ],\n",
       "       [ 1. ,  0.5],\n",
       "       [ 1. ,  5. ],\n",
       "       [ 1. ,  0. ],\n",
       "       [ 1. ,  0.5],\n",
       "       [ 1. ,  0. ],\n",
       "       [ 0. ,  0. ],\n",
       "       [ 1. ,  0.5],\n",
       "       [ 1. ,  0. ],\n",
       "       [ 0. ,  1. ],\n",
       "       [ 1. ,  0.5],\n",
       "       [ 1. ,  1. ],\n",
       "       [ 0. ,  0. ],\n",
       "       [ 1. ,  0.5],\n",
       "       [ 1. ,  1. ],\n",
       "       [ 0. ,  0. ]])"
      ]
     },
     "execution_count": 27,
     "metadata": {},
     "output_type": "execute_result"
    }
   ],
   "source": [
    "# There is most likely a simpler way of doing this...\n",
    "multi_channels_kernels_weights = multi_channels_kernels.reshape(2, -1).T\n",
    "multi_channels_kernels_weights"
   ]
  },
  {
   "cell_type": "code",
   "execution_count": 19,
   "metadata": {},
   "outputs": [
    {
     "data": {
      "text/plain": [
       "(50000, 32, 32, 3)"
      ]
     },
     "metadata": {},
     "output_type": "display_data"
    },
    {
     "data": {
      "application/vnd.plotly.v1+json": {
       "config": {
        "plotlyServerURL": "https://plot.ly"
       },
       "data": [
        {
         "hovertemplate": "x: %{x}<br>y: %{y}<br>color: [%{z[0]}, %{z[1]}, %{z[2]}]<extra></extra>",
         "name": "0",
         "source": "data:image/png;base64,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",
         "type": "image",
         "xaxis": "x",
         "yaxis": "y"
        }
       ],
       "layout": {
        "margin": {
         "t": 60
        },
        "template": {
         "data": {
          "bar": [
           {
            "error_x": {
             "color": "#2a3f5f"
            },
            "error_y": {
             "color": "#2a3f5f"
            },
            "marker": {
             "line": {
              "color": "#E5ECF6",
              "width": 0.5
             },
             "pattern": {
              "fillmode": "overlay",
              "size": 10,
              "solidity": 0.2
             }
            },
            "type": "bar"
           }
          ],
          "barpolar": [
           {
            "marker": {
             "line": {
              "color": "#E5ECF6",
              "width": 0.5
             },
             "pattern": {
              "fillmode": "overlay",
              "size": 10,
              "solidity": 0.2
             }
            },
            "type": "barpolar"
           }
          ],
          "carpet": [
           {
            "aaxis": {
             "endlinecolor": "#2a3f5f",
             "gridcolor": "white",
             "linecolor": "white",
             "minorgridcolor": "white",
             "startlinecolor": "#2a3f5f"
            },
            "baxis": {
             "endlinecolor": "#2a3f5f",
             "gridcolor": "white",
             "linecolor": "white",
             "minorgridcolor": "white",
             "startlinecolor": "#2a3f5f"
            },
            "type": "carpet"
           }
          ],
          "choropleth": [
           {
            "colorbar": {
             "outlinewidth": 0,
             "ticks": ""
            },
            "type": "choropleth"
           }
          ],
          "contour": [
           {
            "colorbar": {
             "outlinewidth": 0,
             "ticks": ""
            },
            "colorscale": [
             [
              0,
              "#0d0887"
             ],
             [
              0.1111111111111111,
              "#46039f"
             ],
             [
              0.2222222222222222,
              "#7201a8"
             ],
             [
              0.3333333333333333,
              "#9c179e"
             ],
             [
              0.4444444444444444,
              "#bd3786"
             ],
             [
              0.5555555555555556,
              "#d8576b"
             ],
             [
              0.6666666666666666,
              "#ed7953"
             ],
             [
              0.7777777777777778,
              "#fb9f3a"
             ],
             [
              0.8888888888888888,
              "#fdca26"
             ],
             [
              1,
              "#f0f921"
             ]
            ],
            "type": "contour"
           }
          ],
          "contourcarpet": [
           {
            "colorbar": {
             "outlinewidth": 0,
             "ticks": ""
            },
            "type": "contourcarpet"
           }
          ],
          "heatmap": [
           {
            "colorbar": {
             "outlinewidth": 0,
             "ticks": ""
            },
            "colorscale": [
             [
              0,
              "#0d0887"
             ],
             [
              0.1111111111111111,
              "#46039f"
             ],
             [
              0.2222222222222222,
              "#7201a8"
             ],
             [
              0.3333333333333333,
              "#9c179e"
             ],
             [
              0.4444444444444444,
              "#bd3786"
             ],
             [
              0.5555555555555556,
              "#d8576b"
             ],
             [
              0.6666666666666666,
              "#ed7953"
             ],
             [
              0.7777777777777778,
              "#fb9f3a"
             ],
             [
              0.8888888888888888,
              "#fdca26"
             ],
             [
              1,
              "#f0f921"
             ]
            ],
            "type": "heatmap"
           }
          ],
          "heatmapgl": [
           {
            "colorbar": {
             "outlinewidth": 0,
             "ticks": ""
            },
            "colorscale": [
             [
              0,
              "#0d0887"
             ],
             [
              0.1111111111111111,
              "#46039f"
             ],
             [
              0.2222222222222222,
              "#7201a8"
             ],
             [
              0.3333333333333333,
              "#9c179e"
             ],
             [
              0.4444444444444444,
              "#bd3786"
             ],
             [
              0.5555555555555556,
              "#d8576b"
             ],
             [
              0.6666666666666666,
              "#ed7953"
             ],
             [
              0.7777777777777778,
              "#fb9f3a"
             ],
             [
              0.8888888888888888,
              "#fdca26"
             ],
             [
              1,
              "#f0f921"
             ]
            ],
            "type": "heatmapgl"
           }
          ],
          "histogram": [
           {
            "marker": {
             "pattern": {
              "fillmode": "overlay",
              "size": 10,
              "solidity": 0.2
             }
            },
            "type": "histogram"
           }
          ],
          "histogram2d": [
           {
            "colorbar": {
             "outlinewidth": 0,
             "ticks": ""
            },
            "colorscale": [
             [
              0,
              "#0d0887"
             ],
             [
              0.1111111111111111,
              "#46039f"
             ],
             [
              0.2222222222222222,
              "#7201a8"
             ],
             [
              0.3333333333333333,
              "#9c179e"
             ],
             [
              0.4444444444444444,
              "#bd3786"
             ],
             [
              0.5555555555555556,
              "#d8576b"
             ],
             [
              0.6666666666666666,
              "#ed7953"
             ],
             [
              0.7777777777777778,
              "#fb9f3a"
             ],
             [
              0.8888888888888888,
              "#fdca26"
             ],
             [
              1,
              "#f0f921"
             ]
            ],
            "type": "histogram2d"
           }
          ],
          "histogram2dcontour": [
           {
            "colorbar": {
             "outlinewidth": 0,
             "ticks": ""
            },
            "colorscale": [
             [
              0,
              "#0d0887"
             ],
             [
              0.1111111111111111,
              "#46039f"
             ],
             [
              0.2222222222222222,
              "#7201a8"
             ],
             [
              0.3333333333333333,
              "#9c179e"
             ],
             [
              0.4444444444444444,
              "#bd3786"
             ],
             [
              0.5555555555555556,
              "#d8576b"
             ],
             [
              0.6666666666666666,
              "#ed7953"
             ],
             [
              0.7777777777777778,
              "#fb9f3a"
             ],
             [
              0.8888888888888888,
              "#fdca26"
             ],
             [
              1,
              "#f0f921"
             ]
            ],
            "type": "histogram2dcontour"
           }
          ],
          "mesh3d": [
           {
            "colorbar": {
             "outlinewidth": 0,
             "ticks": ""
            },
            "type": "mesh3d"
           }
          ],
          "parcoords": [
           {
            "line": {
             "colorbar": {
              "outlinewidth": 0,
              "ticks": ""
             }
            },
            "type": "parcoords"
           }
          ],
          "pie": [
           {
            "automargin": true,
            "type": "pie"
           }
          ],
          "scatter": [
           {
            "fillpattern": {
             "fillmode": "overlay",
             "size": 10,
             "solidity": 0.2
            },
            "type": "scatter"
           }
          ],
          "scatter3d": [
           {
            "line": {
             "colorbar": {
              "outlinewidth": 0,
              "ticks": ""
             }
            },
            "marker": {
             "colorbar": {
              "outlinewidth": 0,
              "ticks": ""
             }
            },
            "type": "scatter3d"
           }
          ],
          "scattercarpet": [
           {
            "marker": {
             "colorbar": {
              "outlinewidth": 0,
              "ticks": ""
             }
            },
            "type": "scattercarpet"
           }
          ],
          "scattergeo": [
           {
            "marker": {
             "colorbar": {
              "outlinewidth": 0,
              "ticks": ""
             }
            },
            "type": "scattergeo"
           }
          ],
          "scattergl": [
           {
            "marker": {
             "colorbar": {
              "outlinewidth": 0,
              "ticks": ""
             }
            },
            "type": "scattergl"
           }
          ],
          "scattermapbox": [
           {
            "marker": {
             "colorbar": {
              "outlinewidth": 0,
              "ticks": ""
             }
            },
            "type": "scattermapbox"
           }
          ],
          "scatterpolar": [
           {
            "marker": {
             "colorbar": {
              "outlinewidth": 0,
              "ticks": ""
             }
            },
            "type": "scatterpolar"
           }
          ],
          "scatterpolargl": [
           {
            "marker": {
             "colorbar": {
              "outlinewidth": 0,
              "ticks": ""
             }
            },
            "type": "scatterpolargl"
           }
          ],
          "scatterternary": [
           {
            "marker": {
             "colorbar": {
              "outlinewidth": 0,
              "ticks": ""
             }
            },
            "type": "scatterternary"
           }
          ],
          "surface": [
           {
            "colorbar": {
             "outlinewidth": 0,
             "ticks": ""
            },
            "colorscale": [
             [
              0,
              "#0d0887"
             ],
             [
              0.1111111111111111,
              "#46039f"
             ],
             [
              0.2222222222222222,
              "#7201a8"
             ],
             [
              0.3333333333333333,
              "#9c179e"
             ],
             [
              0.4444444444444444,
              "#bd3786"
             ],
             [
              0.5555555555555556,
              "#d8576b"
             ],
             [
              0.6666666666666666,
              "#ed7953"
             ],
             [
              0.7777777777777778,
              "#fb9f3a"
             ],
             [
              0.8888888888888888,
              "#fdca26"
             ],
             [
              1,
              "#f0f921"
             ]
            ],
            "type": "surface"
           }
          ],
          "table": [
           {
            "cells": {
             "fill": {
              "color": "#EBF0F8"
             },
             "line": {
              "color": "white"
             }
            },
            "header": {
             "fill": {
              "color": "#C8D4E3"
             },
             "line": {
              "color": "white"
             }
            },
            "type": "table"
           }
          ]
         },
         "layout": {
          "annotationdefaults": {
           "arrowcolor": "#2a3f5f",
           "arrowhead": 0,
           "arrowwidth": 1
          },
          "autotypenumbers": "strict",
          "coloraxis": {
           "colorbar": {
            "outlinewidth": 0,
            "ticks": ""
           }
          },
          "colorscale": {
           "diverging": [
            [
             0,
             "#8e0152"
            ],
            [
             0.1,
             "#c51b7d"
            ],
            [
             0.2,
             "#de77ae"
            ],
            [
             0.3,
             "#f1b6da"
            ],
            [
             0.4,
             "#fde0ef"
            ],
            [
             0.5,
             "#f7f7f7"
            ],
            [
             0.6,
             "#e6f5d0"
            ],
            [
             0.7,
             "#b8e186"
            ],
            [
             0.8,
             "#7fbc41"
            ],
            [
             0.9,
             "#4d9221"
            ],
            [
             1,
             "#276419"
            ]
           ],
           "sequential": [
            [
             0,
             "#0d0887"
            ],
            [
             0.1111111111111111,
             "#46039f"
            ],
            [
             0.2222222222222222,
             "#7201a8"
            ],
            [
             0.3333333333333333,
             "#9c179e"
            ],
            [
             0.4444444444444444,
             "#bd3786"
            ],
            [
             0.5555555555555556,
             "#d8576b"
            ],
            [
             0.6666666666666666,
             "#ed7953"
            ],
            [
             0.7777777777777778,
             "#fb9f3a"
            ],
            [
             0.8888888888888888,
             "#fdca26"
            ],
            [
             1,
             "#f0f921"
            ]
           ],
           "sequentialminus": [
            [
             0,
             "#0d0887"
            ],
            [
             0.1111111111111111,
             "#46039f"
            ],
            [
             0.2222222222222222,
             "#7201a8"
            ],
            [
             0.3333333333333333,
             "#9c179e"
            ],
            [
             0.4444444444444444,
             "#bd3786"
            ],
            [
             0.5555555555555556,
             "#d8576b"
            ],
            [
             0.6666666666666666,
             "#ed7953"
            ],
            [
             0.7777777777777778,
             "#fb9f3a"
            ],
            [
             0.8888888888888888,
             "#fdca26"
            ],
            [
             1,
             "#f0f921"
            ]
           ]
          },
          "colorway": [
           "#636efa",
           "#EF553B",
           "#00cc96",
           "#ab63fa",
           "#FFA15A",
           "#19d3f3",
           "#FF6692",
           "#B6E880",
           "#FF97FF",
           "#FECB52"
          ],
          "font": {
           "color": "#2a3f5f"
          },
          "geo": {
           "bgcolor": "white",
           "lakecolor": "white",
           "landcolor": "#E5ECF6",
           "showlakes": true,
           "showland": true,
           "subunitcolor": "white"
          },
          "hoverlabel": {
           "align": "left"
          },
          "hovermode": "closest",
          "mapbox": {
           "style": "light"
          },
          "paper_bgcolor": "white",
          "plot_bgcolor": "#E5ECF6",
          "polar": {
           "angularaxis": {
            "gridcolor": "white",
            "linecolor": "white",
            "ticks": ""
           },
           "bgcolor": "#E5ECF6",
           "radialaxis": {
            "gridcolor": "white",
            "linecolor": "white",
            "ticks": ""
           }
          },
          "scene": {
           "xaxis": {
            "backgroundcolor": "#E5ECF6",
            "gridcolor": "white",
            "gridwidth": 2,
            "linecolor": "white",
            "showbackground": true,
            "ticks": "",
            "zerolinecolor": "white"
           },
           "yaxis": {
            "backgroundcolor": "#E5ECF6",
            "gridcolor": "white",
            "gridwidth": 2,
            "linecolor": "white",
            "showbackground": true,
            "ticks": "",
            "zerolinecolor": "white"
           },
           "zaxis": {
            "backgroundcolor": "#E5ECF6",
            "gridcolor": "white",
            "gridwidth": 2,
            "linecolor": "white",
            "showbackground": true,
            "ticks": "",
            "zerolinecolor": "white"
           }
          },
          "shapedefaults": {
           "line": {
            "color": "#2a3f5f"
           }
          },
          "ternary": {
           "aaxis": {
            "gridcolor": "white",
            "linecolor": "white",
            "ticks": ""
           },
           "baxis": {
            "gridcolor": "white",
            "linecolor": "white",
            "ticks": ""
           },
           "bgcolor": "#E5ECF6",
           "caxis": {
            "gridcolor": "white",
            "linecolor": "white",
            "ticks": ""
           }
          },
          "title": {
           "x": 0.05
          },
          "xaxis": {
           "automargin": true,
           "gridcolor": "white",
           "linecolor": "white",
           "ticks": "",
           "title": {
            "standoff": 15
           },
           "zerolinecolor": "white",
           "zerolinewidth": 2
          },
          "yaxis": {
           "automargin": true,
           "gridcolor": "white",
           "linecolor": "white",
           "ticks": "",
           "title": {
            "standoff": 15
           },
           "zerolinecolor": "white",
           "zerolinewidth": 2
          }
         }
        },
        "xaxis": {
         "anchor": "y",
         "domain": [
          0,
          1
         ]
        },
        "yaxis": {
         "anchor": "x",
         "domain": [
          0,
          1
         ]
        }
       }
      }
     },
     "metadata": {},
     "output_type": "display_data"
    }
   ],
   "source": [
    "cifar_10_train_inputs, cifar_10_train_labels, cifar_10_test_inputs, cifar_10_test_labels = load_cifar_10()\n",
    "display(cifar_10_train_inputs.shape)\n",
    "multi_channels_input = cifar_10_train_inputs[0]\n",
    "flatten_multi_channels_input = multi_channels_input.ravel()\n",
    "px.imshow(multi_channels_input[:, ])"
   ]
  },
  {
   "cell_type": "code",
   "execution_count": 20,
   "metadata": {},
   "outputs": [
    {
     "data": {
      "text/plain": [
       "array([[[  0,   1,   2],\n",
       "        [  3,   4,   5],\n",
       "        [  6,   7,   8],\n",
       "        [  9,  10,  11],\n",
       "        [ 12,  13,  14]],\n",
       "\n",
       "       [[ 96,  97,  98],\n",
       "        [ 99, 100, 101],\n",
       "        [102, 103, 104],\n",
       "        [105, 106, 107],\n",
       "        [108, 109, 110]],\n",
       "\n",
       "       [[192, 193, 194],\n",
       "        [195, 196, 197],\n",
       "        [198, 199, 200],\n",
       "        [201, 202, 203],\n",
       "        [204, 205, 206]],\n",
       "\n",
       "       [[288, 289, 290],\n",
       "        [291, 292, 293],\n",
       "        [294, 295, 296],\n",
       "        [297, 298, 299],\n",
       "        [300, 301, 302]],\n",
       "\n",
       "       [[384, 385, 386],\n",
       "        [387, 388, 389],\n",
       "        [390, 391, 392],\n",
       "        [393, 394, 395],\n",
       "        [396, 397, 398]]])"
      ]
     },
     "metadata": {},
     "output_type": "display_data"
    }
   ],
   "source": [
    "multi_channels_window_index = np.arange(multi_channels_kernels.shape[3])\n",
    "multi_channels_window_index = np.tile(multi_channels_window_index, multi_channels_kernels.shape[2])\n",
    "multi_channels_window_index += np.repeat(np.arange(multi_channels_kernels.shape[2]) * cifar_10_train_inputs.shape[3], multi_channels_kernels.shape[3])\n",
    "multi_channels_window_index = np.tile(multi_channels_window_index, multi_channels_kernels.shape[1])\n",
    "multi_channels_window_index += np.repeat(np.arange(multi_channels_kernels.shape[1]) * cifar_10_train_inputs.shape[2] * cifar_10_train_inputs.shape[3], multi_channels_kernels.shape[2] * multi_channels_kernels.shape[3])\n",
    "display(multi_channels_window_index.reshape(5, 5, 3))"
   ]
  },
  {
   "cell_type": "code",
   "execution_count": 21,
   "metadata": {},
   "outputs": [
    {
     "data": {
      "application/vnd.plotly.v1+json": {
       "config": {
        "plotlyServerURL": "https://plot.ly"
       },
       "data": [
        {
         "hovertemplate": "x: %{x}<br>y: %{y}<br>color: [%{z[0]}, %{z[1]}, %{z[2]}]<extra></extra>",
         "name": "0",
         "source": "data:image/png;base64,iVBORw0KGgoAAAANSUhEUgAAAAUAAAAFCAIAAAACDbGyAAAAW0lEQVR4XgFQAK//AWZEKvsBBPfx9h4UJBYWBwLZ4ejt7vEwJy8E+gj/9gAEAQH/BAL/8/Dr9vT5DQ0FBA0ECvn2+s/a2gL8/vsLDgQYEA77/Pj2+vf19v/6/PzSMyqPqbBDfwAAAABJRU5ErkJggg==",
         "type": "image",
         "xaxis": "x",
         "yaxis": "y"
        }
       ],
       "layout": {
        "margin": {
         "t": 60
        },
        "template": {
         "data": {
          "bar": [
           {
            "error_x": {
             "color": "#2a3f5f"
            },
            "error_y": {
             "color": "#2a3f5f"
            },
            "marker": {
             "line": {
              "color": "#E5ECF6",
              "width": 0.5
             },
             "pattern": {
              "fillmode": "overlay",
              "size": 10,
              "solidity": 0.2
             }
            },
            "type": "bar"
           }
          ],
          "barpolar": [
           {
            "marker": {
             "line": {
              "color": "#E5ECF6",
              "width": 0.5
             },
             "pattern": {
              "fillmode": "overlay",
              "size": 10,
              "solidity": 0.2
             }
            },
            "type": "barpolar"
           }
          ],
          "carpet": [
           {
            "aaxis": {
             "endlinecolor": "#2a3f5f",
             "gridcolor": "white",
             "linecolor": "white",
             "minorgridcolor": "white",
             "startlinecolor": "#2a3f5f"
            },
            "baxis": {
             "endlinecolor": "#2a3f5f",
             "gridcolor": "white",
             "linecolor": "white",
             "minorgridcolor": "white",
             "startlinecolor": "#2a3f5f"
            },
            "type": "carpet"
           }
          ],
          "choropleth": [
           {
            "colorbar": {
             "outlinewidth": 0,
             "ticks": ""
            },
            "type": "choropleth"
           }
          ],
          "contour": [
           {
            "colorbar": {
             "outlinewidth": 0,
             "ticks": ""
            },
            "colorscale": [
             [
              0,
              "#0d0887"
             ],
             [
              0.1111111111111111,
              "#46039f"
             ],
             [
              0.2222222222222222,
              "#7201a8"
             ],
             [
              0.3333333333333333,
              "#9c179e"
             ],
             [
              0.4444444444444444,
              "#bd3786"
             ],
             [
              0.5555555555555556,
              "#d8576b"
             ],
             [
              0.6666666666666666,
              "#ed7953"
             ],
             [
              0.7777777777777778,
              "#fb9f3a"
             ],
             [
              0.8888888888888888,
              "#fdca26"
             ],
             [
              1,
              "#f0f921"
             ]
            ],
            "type": "contour"
           }
          ],
          "contourcarpet": [
           {
            "colorbar": {
             "outlinewidth": 0,
             "ticks": ""
            },
            "type": "contourcarpet"
           }
          ],
          "heatmap": [
           {
            "colorbar": {
             "outlinewidth": 0,
             "ticks": ""
            },
            "colorscale": [
             [
              0,
              "#0d0887"
             ],
             [
              0.1111111111111111,
              "#46039f"
             ],
             [
              0.2222222222222222,
              "#7201a8"
             ],
             [
              0.3333333333333333,
              "#9c179e"
             ],
             [
              0.4444444444444444,
              "#bd3786"
             ],
             [
              0.5555555555555556,
              "#d8576b"
             ],
             [
              0.6666666666666666,
              "#ed7953"
             ],
             [
              0.7777777777777778,
              "#fb9f3a"
             ],
             [
              0.8888888888888888,
              "#fdca26"
             ],
             [
              1,
              "#f0f921"
             ]
            ],
            "type": "heatmap"
           }
          ],
          "heatmapgl": [
           {
            "colorbar": {
             "outlinewidth": 0,
             "ticks": ""
            },
            "colorscale": [
             [
              0,
              "#0d0887"
             ],
             [
              0.1111111111111111,
              "#46039f"
             ],
             [
              0.2222222222222222,
              "#7201a8"
             ],
             [
              0.3333333333333333,
              "#9c179e"
             ],
             [
              0.4444444444444444,
              "#bd3786"
             ],
             [
              0.5555555555555556,
              "#d8576b"
             ],
             [
              0.6666666666666666,
              "#ed7953"
             ],
             [
              0.7777777777777778,
              "#fb9f3a"
             ],
             [
              0.8888888888888888,
              "#fdca26"
             ],
             [
              1,
              "#f0f921"
             ]
            ],
            "type": "heatmapgl"
           }
          ],
          "histogram": [
           {
            "marker": {
             "pattern": {
              "fillmode": "overlay",
              "size": 10,
              "solidity": 0.2
             }
            },
            "type": "histogram"
           }
          ],
          "histogram2d": [
           {
            "colorbar": {
             "outlinewidth": 0,
             "ticks": ""
            },
            "colorscale": [
             [
              0,
              "#0d0887"
             ],
             [
              0.1111111111111111,
              "#46039f"
             ],
             [
              0.2222222222222222,
              "#7201a8"
             ],
             [
              0.3333333333333333,
              "#9c179e"
             ],
             [
              0.4444444444444444,
              "#bd3786"
             ],
             [
              0.5555555555555556,
              "#d8576b"
             ],
             [
              0.6666666666666666,
              "#ed7953"
             ],
             [
              0.7777777777777778,
              "#fb9f3a"
             ],
             [
              0.8888888888888888,
              "#fdca26"
             ],
             [
              1,
              "#f0f921"
             ]
            ],
            "type": "histogram2d"
           }
          ],
          "histogram2dcontour": [
           {
            "colorbar": {
             "outlinewidth": 0,
             "ticks": ""
            },
            "colorscale": [
             [
              0,
              "#0d0887"
             ],
             [
              0.1111111111111111,
              "#46039f"
             ],
             [
              0.2222222222222222,
              "#7201a8"
             ],
             [
              0.3333333333333333,
              "#9c179e"
             ],
             [
              0.4444444444444444,
              "#bd3786"
             ],
             [
              0.5555555555555556,
              "#d8576b"
             ],
             [
              0.6666666666666666,
              "#ed7953"
             ],
             [
              0.7777777777777778,
              "#fb9f3a"
             ],
             [
              0.8888888888888888,
              "#fdca26"
             ],
             [
              1,
              "#f0f921"
             ]
            ],
            "type": "histogram2dcontour"
           }
          ],
          "mesh3d": [
           {
            "colorbar": {
             "outlinewidth": 0,
             "ticks": ""
            },
            "type": "mesh3d"
           }
          ],
          "parcoords": [
           {
            "line": {
             "colorbar": {
              "outlinewidth": 0,
              "ticks": ""
             }
            },
            "type": "parcoords"
           }
          ],
          "pie": [
           {
            "automargin": true,
            "type": "pie"
           }
          ],
          "scatter": [
           {
            "fillpattern": {
             "fillmode": "overlay",
             "size": 10,
             "solidity": 0.2
            },
            "type": "scatter"
           }
          ],
          "scatter3d": [
           {
            "line": {
             "colorbar": {
              "outlinewidth": 0,
              "ticks": ""
             }
            },
            "marker": {
             "colorbar": {
              "outlinewidth": 0,
              "ticks": ""
             }
            },
            "type": "scatter3d"
           }
          ],
          "scattercarpet": [
           {
            "marker": {
             "colorbar": {
              "outlinewidth": 0,
              "ticks": ""
             }
            },
            "type": "scattercarpet"
           }
          ],
          "scattergeo": [
           {
            "marker": {
             "colorbar": {
              "outlinewidth": 0,
              "ticks": ""
             }
            },
            "type": "scattergeo"
           }
          ],
          "scattergl": [
           {
            "marker": {
             "colorbar": {
              "outlinewidth": 0,
              "ticks": ""
             }
            },
            "type": "scattergl"
           }
          ],
          "scattermapbox": [
           {
            "marker": {
             "colorbar": {
              "outlinewidth": 0,
              "ticks": ""
             }
            },
            "type": "scattermapbox"
           }
          ],
          "scatterpolar": [
           {
            "marker": {
             "colorbar": {
              "outlinewidth": 0,
              "ticks": ""
             }
            },
            "type": "scatterpolar"
           }
          ],
          "scatterpolargl": [
           {
            "marker": {
             "colorbar": {
              "outlinewidth": 0,
              "ticks": ""
             }
            },
            "type": "scatterpolargl"
           }
          ],
          "scatterternary": [
           {
            "marker": {
             "colorbar": {
              "outlinewidth": 0,
              "ticks": ""
             }
            },
            "type": "scatterternary"
           }
          ],
          "surface": [
           {
            "colorbar": {
             "outlinewidth": 0,
             "ticks": ""
            },
            "colorscale": [
             [
              0,
              "#0d0887"
             ],
             [
              0.1111111111111111,
              "#46039f"
             ],
             [
              0.2222222222222222,
              "#7201a8"
             ],
             [
              0.3333333333333333,
              "#9c179e"
             ],
             [
              0.4444444444444444,
              "#bd3786"
             ],
             [
              0.5555555555555556,
              "#d8576b"
             ],
             [
              0.6666666666666666,
              "#ed7953"
             ],
             [
              0.7777777777777778,
              "#fb9f3a"
             ],
             [
              0.8888888888888888,
              "#fdca26"
             ],
             [
              1,
              "#f0f921"
             ]
            ],
            "type": "surface"
           }
          ],
          "table": [
           {
            "cells": {
             "fill": {
              "color": "#EBF0F8"
             },
             "line": {
              "color": "white"
             }
            },
            "header": {
             "fill": {
              "color": "#C8D4E3"
             },
             "line": {
              "color": "white"
             }
            },
            "type": "table"
           }
          ]
         },
         "layout": {
          "annotationdefaults": {
           "arrowcolor": "#2a3f5f",
           "arrowhead": 0,
           "arrowwidth": 1
          },
          "autotypenumbers": "strict",
          "coloraxis": {
           "colorbar": {
            "outlinewidth": 0,
            "ticks": ""
           }
          },
          "colorscale": {
           "diverging": [
            [
             0,
             "#8e0152"
            ],
            [
             0.1,
             "#c51b7d"
            ],
            [
             0.2,
             "#de77ae"
            ],
            [
             0.3,
             "#f1b6da"
            ],
            [
             0.4,
             "#fde0ef"
            ],
            [
             0.5,
             "#f7f7f7"
            ],
            [
             0.6,
             "#e6f5d0"
            ],
            [
             0.7,
             "#b8e186"
            ],
            [
             0.8,
             "#7fbc41"
            ],
            [
             0.9,
             "#4d9221"
            ],
            [
             1,
             "#276419"
            ]
           ],
           "sequential": [
            [
             0,
             "#0d0887"
            ],
            [
             0.1111111111111111,
             "#46039f"
            ],
            [
             0.2222222222222222,
             "#7201a8"
            ],
            [
             0.3333333333333333,
             "#9c179e"
            ],
            [
             0.4444444444444444,
             "#bd3786"
            ],
            [
             0.5555555555555556,
             "#d8576b"
            ],
            [
             0.6666666666666666,
             "#ed7953"
            ],
            [
             0.7777777777777778,
             "#fb9f3a"
            ],
            [
             0.8888888888888888,
             "#fdca26"
            ],
            [
             1,
             "#f0f921"
            ]
           ],
           "sequentialminus": [
            [
             0,
             "#0d0887"
            ],
            [
             0.1111111111111111,
             "#46039f"
            ],
            [
             0.2222222222222222,
             "#7201a8"
            ],
            [
             0.3333333333333333,
             "#9c179e"
            ],
            [
             0.4444444444444444,
             "#bd3786"
            ],
            [
             0.5555555555555556,
             "#d8576b"
            ],
            [
             0.6666666666666666,
             "#ed7953"
            ],
            [
             0.7777777777777778,
             "#fb9f3a"
            ],
            [
             0.8888888888888888,
             "#fdca26"
            ],
            [
             1,
             "#f0f921"
            ]
           ]
          },
          "colorway": [
           "#636efa",
           "#EF553B",
           "#00cc96",
           "#ab63fa",
           "#FFA15A",
           "#19d3f3",
           "#FF6692",
           "#B6E880",
           "#FF97FF",
           "#FECB52"
          ],
          "font": {
           "color": "#2a3f5f"
          },
          "geo": {
           "bgcolor": "white",
           "lakecolor": "white",
           "landcolor": "#E5ECF6",
           "showlakes": true,
           "showland": true,
           "subunitcolor": "white"
          },
          "hoverlabel": {
           "align": "left"
          },
          "hovermode": "closest",
          "mapbox": {
           "style": "light"
          },
          "paper_bgcolor": "white",
          "plot_bgcolor": "#E5ECF6",
          "polar": {
           "angularaxis": {
            "gridcolor": "white",
            "linecolor": "white",
            "ticks": ""
           },
           "bgcolor": "#E5ECF6",
           "radialaxis": {
            "gridcolor": "white",
            "linecolor": "white",
            "ticks": ""
           }
          },
          "scene": {
           "xaxis": {
            "backgroundcolor": "#E5ECF6",
            "gridcolor": "white",
            "gridwidth": 2,
            "linecolor": "white",
            "showbackground": true,
            "ticks": "",
            "zerolinecolor": "white"
           },
           "yaxis": {
            "backgroundcolor": "#E5ECF6",
            "gridcolor": "white",
            "gridwidth": 2,
            "linecolor": "white",
            "showbackground": true,
            "ticks": "",
            "zerolinecolor": "white"
           },
           "zaxis": {
            "backgroundcolor": "#E5ECF6",
            "gridcolor": "white",
            "gridwidth": 2,
            "linecolor": "white",
            "showbackground": true,
            "ticks": "",
            "zerolinecolor": "white"
           }
          },
          "shapedefaults": {
           "line": {
            "color": "#2a3f5f"
           }
          },
          "ternary": {
           "aaxis": {
            "gridcolor": "white",
            "linecolor": "white",
            "ticks": ""
           },
           "baxis": {
            "gridcolor": "white",
            "linecolor": "white",
            "ticks": ""
           },
           "bgcolor": "#E5ECF6",
           "caxis": {
            "gridcolor": "white",
            "linecolor": "white",
            "ticks": ""
           }
          },
          "title": {
           "x": 0.05
          },
          "xaxis": {
           "automargin": true,
           "gridcolor": "white",
           "linecolor": "white",
           "ticks": "",
           "title": {
            "standoff": 15
           },
           "zerolinecolor": "white",
           "zerolinewidth": 2
          },
          "yaxis": {
           "automargin": true,
           "gridcolor": "white",
           "linecolor": "white",
           "ticks": "",
           "title": {
            "standoff": 15
           },
           "zerolinecolor": "white",
           "zerolinewidth": 2
          }
         }
        },
        "xaxis": {
         "anchor": "y",
         "domain": [
          0,
          1
         ]
        },
        "yaxis": {
         "anchor": "x",
         "domain": [
          0,
          1
         ]
        }
       }
      }
     },
     "metadata": {},
     "output_type": "display_data"
    }
   ],
   "source": [
    "px.imshow(flatten_multi_channels_input[multi_channels_window_index + (cifar_10_train_inputs.shape[3] * 20) + (cifar_10_train_inputs.shape[3] * cifar_10_train_inputs.shape[2] * 5)].reshape(5, 5, 3))"
   ]
  },
  {
   "cell_type": "code",
   "execution_count": 22,
   "metadata": {},
   "outputs": [
    {
     "data": {
      "text/plain": [
       "784"
      ]
     },
     "execution_count": 22,
     "metadata": {},
     "output_type": "execute_result"
    }
   ],
   "source": [
    "multi_channels_nb_horizontal_correlations = 1 + cifar_10_train_inputs.shape[1] - multi_channels_kernels.shape[1]\n",
    "multi_channels_nb_vertical_correlations = 1 + cifar_10_train_inputs.shape[2] - multi_channels_kernels.shape[2]\n",
    "mutli_channels_nb_correlations = multi_channels_nb_horizontal_correlations * multi_channels_nb_vertical_correlations\n",
    "mutli_channels_nb_correlations"
   ]
  },
  {
   "cell_type": "code",
   "execution_count": 59,
   "metadata": {},
   "outputs": [
    {
     "data": {
      "text/plain": [
       "array([[   0,    1,    2, ...,  396,  397,  398],\n",
       "       [   3,    4,    5, ...,  399,  400,  401],\n",
       "       [   6,    7,    8, ...,  402,  403,  404],\n",
       "       ...,\n",
       "       [2667, 2668, 2669, ..., 3063, 3064, 3065],\n",
       "       [2670, 2671, 2672, ..., 3066, 3067, 3068],\n",
       "       [2673, 2674, 2675, ..., 3069, 3070, 3071]], shape=(784, 75))"
      ]
     },
     "execution_count": 59,
     "metadata": {},
     "output_type": "execute_result"
    }
   ],
   "source": [
    "mutli_channels_x_offset_multiplicator = cifar_10_train_inputs.shape[3]\n",
    "mutli_channels_y_offset_multiplicator = cifar_10_train_inputs.shape[3] * cifar_10_train_inputs.shape[2]\n",
    "mutli_channels_horizontal_offsets = np.tile(np.arange(multi_channels_nb_horizontal_correlations) * mutli_channels_x_offset_multiplicator, multi_channels_nb_vertical_correlations).reshape(-1, 1)\n",
    "multi_channels_vertical_offsets = np.repeat(np.arange(multi_channels_nb_vertical_correlations) * mutli_channels_y_offset_multiplicator, multi_channels_nb_vertical_correlations).reshape(-1, 1)\n",
    "multi_channels_correlatin_indieces = np.tile(multi_channels_window_index, (mutli_channels_nb_correlations, 1)) + mutli_channels_horizontal_offsets + multi_channels_vertical_offsets\n",
    "\n",
    "multi_channels_correlatin_indieces"
   ]
  },
  {
   "cell_type": "code",
   "execution_count": 55,
   "metadata": {},
   "outputs": [
    {
     "data": {
      "text/plain": [
       "(4, 5, 5, 3)"
      ]
     },
     "execution_count": 55,
     "metadata": {},
     "output_type": "execute_result"
    }
   ],
   "source": [
    "multi_channels_correlatin_indieces.reshape(-1, 5, 5, 3)[:4, ...].shape"
   ]
  },
  {
   "cell_type": "code",
   "execution_count": 64,
   "metadata": {},
   "outputs": [
    {
     "data": {
      "application/vnd.plotly.v1+json": {
       "config": {
        "plotlyServerURL": "https://plot.ly"
       },
       "data": [
        {
         "hovertemplate": "x: %{x}<br>y: %{y}<br>color: %{z}<extra></extra>",
         "name": "0",
         "source": "data:image/png;base64,iVBORw0KGgoAAAANSUhEUgAAAAUAAAAFCAIAAAACDbGyAAAAWUlEQVR4XmO0trP/8OEdO9M/Ibb/csJcjAIiIh/evBHiYFAU5lCV4GXhZGFkYGeQF+ZQEOcXExVi4WD8w8vLoiYtKMzJzPrvB4sgOwsnOzs/N6coH+vff38B+YERZbYKWpEAAAAASUVORK5CYII=",
         "type": "image",
         "xaxis": "x29",
         "yaxis": "y29"
        },
        {
         "hovertemplate": "x: %{x}<br>y: %{y}<br>color: %{z}<extra></extra>",
         "name": "1",
         "source": "data:image/png;base64,iVBORw0KGgoAAAANSUhEUgAAAAUAAAAFCAIAAAACDbGyAAAAWElEQVR4XgXB3Q5AIBgA0C9Kf4ivFZtNueDGeP+ncuXCbMU5ZD8PXmSsvtkqh5oAAApYrFjHJgZPOw7BijgY71AqTX1Dt6m3smT5ua+XupobLV3LUk4J4Ae+Sg7eWGBlHQAAAABJRU5ErkJggg==",
         "type": "image",
         "xaxis": "x30",
         "yaxis": "y30"
        },
        {
         "hovertemplate": "x: %{x}<br>y: %{y}<br>color: %{z}<extra></extra>",
         "name": "2",
         "source": "data:image/png;base64,iVBORw0KGgoAAAANSUhEUgAAAAUAAAAFCAIAAAACDbGyAAAAW0lEQVR4XgFQAK//ATIwKxIG/x4TChUSCxQQDATg2NUBEwgU/Q0BCRb1/u4EHxMIIBcPFhUSCQoLAQEBBCYbERMJAwX++PTu+v3+AgQPCwkVDgX9/v39AAADBAMF5xWIVpBHKwAAAABJRU5ErkJggg==",
         "type": "image",
         "xaxis": "x31",
         "yaxis": "y31"
        },
        {
         "hovertemplate": "x: %{x}<br>y: %{y}<br>color: %{z}<extra></extra>",
         "name": "3",
         "source": "data:image/png;base64,iVBORw0KGgoAAAANSUhEUgAAAAUAAAAFCAIAAAACDbGyAAAAW0lEQVR4XgFQAK//AUQ2Kh4TChUSCxQQDAYDBQTv5d4U/Q0BCRb1/u70/f8EIBcPFhUSCQoLAQEB9/n4BBcNBQX++PTu+v3+Avf2/AQVEAv9/v39AAADBAMAAgIJUBzHmY79GQAAAABJRU5ErkJggg==",
         "type": "image",
         "xaxis": "x32",
         "yaxis": "y32"
        },
        {
         "hovertemplate": "x: %{x}<br>y: %{y}<br>color: %{z}<extra></extra>",
         "name": "4",
         "source": "data:image/png;base64,iVBORw0KGgoAAAANSUhEUgAAAAUAAAAFCAIAAAACDbGyAAAAVklEQVR4XgXBuRGAIBAAQO44YBADxwEqsQnbsHNTAyLkUQF34dg3txq7zJILUprSdYL2dw+xjQGSvLN6MgCQaylvJdFLDE/rmNOHkpFWvDHGiTPE2t8feKkfNpAZmxgAAAAASUVORK5CYII=",
         "type": "image",
         "xaxis": "x33",
         "yaxis": "y33"
        },
        {
         "hovertemplate": "x: %{x}<br>y: %{y}<br>color: %{z}<extra></extra>",
         "name": "5",
         "source": "data:image/png;base64,iVBORw0KGgoAAAANSUhEUgAAAAUAAAAFCAIAAAACDbGyAAAAUUlEQVR4XgXByRGAIBAEQIYdsVDK8mE+BmIgJq28kMMD7Ma+rcvsjHTsrRIS6biqD19rMDHftMMIIJWcn9IABn9+Vaf4aqOm2ZECoSitS31I/uitHxDqiGPlAAAAAElFTkSuQmCC",
         "type": "image",
         "xaxis": "x34",
         "yaxis": "y34"
        },
        {
         "hovertemplate": "x: %{x}<br>y: %{y}<br>color: %{z}<extra></extra>",
         "name": "6",
         "source": "data:image/png;base64,iVBORw0KGgoAAAANSUhEUgAAAAUAAAAFCAIAAAACDbGyAAAAU0lEQVR4XgXBSw6AIAwFQCjPEowx3sujeBRv6dYEWShQP9QZuy4zuw4+GId4JFxxOz9Vy7neuQgIfZFaH1FrOQSkPZb8EptxGsAezM4QSXsAQNsPyXwi1mvPgCYAAAAASUVORK5CYII=",
         "type": "image",
         "xaxis": "x35",
         "yaxis": "y35"
        },
        {
         "hovertemplate": "x: %{x}<br>y: %{y}<br>color: %{z}<extra></extra>",
         "name": "7",
         "source": "data:image/png;base64,iVBORw0KGgoAAAANSUhEUgAAAAUAAAAFCAIAAAACDbGyAAAAU0lEQVR4XgXByw2AIBAFQBZeIBu1NyuxF/uzAA8GiQf+sM7QeexwrAz8G2oX+PsSsjHXmEobE7Wb3IoQWWbVRYfnqymypW1xRjXNq1UgAJA5SvoBu00nq/D2EGYAAAAASUVORK5CYII=",
         "type": "image",
         "xaxis": "x36",
         "yaxis": "y36"
        },
        {
         "hovertemplate": "x: %{x}<br>y: %{y}<br>color: %{z}<extra></extra>",
         "name": "8",
         "source": "data:image/png;base64,iVBORw0KGgoAAAANSUhEUgAAAAUAAAAFCAIAAAACDbGyAAAAVUlEQVR4XgXBWw5AMBAF0Jn2pjQiWJ6FWIrF+fUnESSSVp/jHF6XmTSu+4lZpnHAsW/ui86HVOqpGa8LwmyspSxSg4reWcN912hKLQgEBgCpJXjR6gfFZybTElDwNQAAAABJRU5ErkJggg==",
         "type": "image",
         "xaxis": "x37",
         "yaxis": "y37"
        },
        {
         "hovertemplate": "x: %{x}<br>y: %{y}<br>color: %{z}<extra></extra>",
         "name": "9",
         "source": "data:image/png;base64,iVBORw0KGgoAAAANSUhEUgAAAAUAAAAFCAIAAAACDbGyAAAAV0lEQVR4XgXByQ2AIBQFQJYXFA1B6c8+bMS6PHr0ToxykiDLd4Zv63I/4Ss0T1bUjPPY35hybZfkPQiFmNKaFaKWrBuEVtyMnWS5B3NmAABQqymSFN6HH3RNJRUdOlm9AAAAAElFTkSuQmCC",
         "type": "image",
         "xaxis": "x38",
         "yaxis": "y38"
        },
        {
         "hovertemplate": "x: %{x}<br>y: %{y}<br>color: %{z}<extra></extra>",
         "name": "10",
         "source": "data:image/png;base64,iVBORw0KGgoAAAANSUhEUgAAAAUAAAAFCAIAAAACDbGyAAAAVUlEQVR4XgXByw2AIAwAUD6NAoag7OUcDuKS3jyaEA/eTG1Lfc/u2/qxLnNxQogI13mQ9NvbAMrcYYjRsGrHUhOTujyN3lAAU3OKYAC0C77qXWuPkPybJikKT5UAvwAAAABJRU5ErkJggg==",
         "type": "image",
         "xaxis": "x39",
         "yaxis": "y39"
        },
        {
         "hovertemplate": "x: %{x}<br>y: %{y}<br>color: %{z}<extra></extra>",
         "name": "11",
         "source": "data:image/png;base64,iVBORw0KGgoAAAANSUhEUgAAAAUAAAAFCAIAAAACDbGyAAAAV0lEQVR4XgXBSwqAIBAAUD9jqBCW5+oWnaNztm0Z0iKIbAYd7T25rcs8BcWFiBARzmO/tLTQa21aARjre6MQfS19ME5pUSyIOHoHgvEFpq9rldLNhZ+cf+fzJ8eNIc+eAAAAAElFTkSuQmCC",
         "type": "image",
         "xaxis": "x40",
         "yaxis": "y40"
        },
        {
         "hovertemplate": "x: %{x}<br>y: %{y}<br>color: %{z}<extra></extra>",
         "name": "12",
         "source": "data:image/png;base64,iVBORw0KGgoAAAANSUhEUgAAAAUAAAAFCAIAAAACDbGyAAAAV0lEQVR4XgXBwQ2AIAwAwApVCokxcT3HcA/38u3TDXiREBEoFe+GY9+UcCkl50yW8L5Owt7apxUaYxC0WlbXuE+jFQFFCOvsLILk540BubL3QVhiSknqD9OVKZeGiIovAAAAAElFTkSuQmCC",
         "type": "image",
         "xaxis": "x41",
         "yaxis": "y41"
        },
        {
         "hovertemplate": "x: %{x}<br>y: %{y}<br>color: %{z}<extra></extra>",
         "name": "13",
         "source": "data:image/png;base64,iVBORw0KGgoAAAANSUhEUgAAAAUAAAAFCAIAAAACDbGyAAAAWElEQVR4XgXByQ2AIBAAQJBVwIgmFGcdlmJjNuDPLy8jAZdjxRm+b2tKCRGVVsQIrvOo9RMdSCkjBlisqaUNvSZiYpBgzeifkDG8WBrj4NxNhXyMkfKk5x+vNCyLAJ3gsQAAAABJRU5ErkJggg==",
         "type": "image",
         "xaxis": "x42",
         "yaxis": "y42"
        },
        {
         "hovertemplate": "x: %{x}<br>y: %{y}<br>color: %{z}<extra></extra>",
         "name": "14",
         "source": "data:image/png;base64,iVBORw0KGgoAAAANSUhEUgAAAAUAAAAFCAIAAAACDbGyAAAAVElEQVR4XgXBwQ2AIAwAwCJVIBCMkzmHo7ief39uAJSCVr1T+7Yys3VWQKhmvM5DD2iMIS7P23Fe4jQ6EdCTaZ3RIXQule8PVPAec+JERNKDi9DkBzIWKLJuFzgKAAAAAElFTkSuQmCC",
         "type": "image",
         "xaxis": "x43",
         "yaxis": "y43"
        },
        {
         "hovertemplate": "x: %{x}<br>y: %{y}<br>color: %{z}<extra></extra>",
         "name": "15",
         "source": "data:image/png;base64,iVBORw0KGgoAAAANSUhEUgAAAAUAAAAFCAIAAAACDbGyAAAAV0lEQVR4XgXByQ2AIBAAwCUSgUDQiD1Zh6XYqF9fRh4Cy7HoDDv2TSpJQDG902z5c51CiIih9cLQ8WV1RDCMIhesjXHCkLB+wIzWtSR+ex+pGGUh0wD9B0BxKeSc3VQSAAAAAElFTkSuQmCC",
         "type": "image",
         "xaxis": "x44",
         "yaxis": "y44"
        },
        {
         "hovertemplate": "x: %{x}<br>y: %{y}<br>color: %{z}<extra></extra>",
         "name": "16",
         "source": "data:image/png;base64,iVBORw0KGgoAAAANSUhEUgAAAAUAAAAFCAIAAAACDbGyAAAAV0lEQVR4XgXBWwqAIBAAQFfFQqWCDtY9ukmH7LO/qKB8u24zsK0LMvThG6eBEcrr2H10tWWIMxdM9toK1aUcSwWtOhnehxhYY0oOHCU/3Z1a9QkbNQ70A4MwK61VbnzBAAAAAElFTkSuQmCC",
         "type": "image",
         "xaxis": "x45",
         "yaxis": "y45"
        },
        {
         "hovertemplate": "x: %{x}<br>y: %{y}<br>color: %{z}<extra></extra>",
         "name": "17",
         "source": "data:image/png;base64,iVBORw0KGgoAAAANSUhEUgAAAAUAAAAFCAIAAAACDbGyAAAAVUlEQVR4XgXByRGAIAwAQEgYDg90tC0rsRA79OnbBhwgEMBdeZ1HiN+yetFrpqze5+aWZdoBRSFSs98op8Jy0EaNDkoMk3XADLVqREWNBVUUDWRHY3+FwiYSo+tHnAAAAABJRU5ErkJggg==",
         "type": "image",
         "xaxis": "x46",
         "yaxis": "y46"
        },
        {
         "hovertemplate": "x: %{x}<br>y: %{y}<br>color: %{z}<extra></extra>",
         "name": "18",
         "source": "data:image/png;base64,iVBORw0KGgoAAAANSUhEUgAAAAUAAAAFCAIAAAACDbGyAAAAU0lEQVR4XgXBSxJAMAwA0Cap/hg640Ku4h5uamtra6RJ1Htw7NtSZ9etcSM3+Ps64V2RnDBnn3wpVRRKiH7MKUScUkZVNAtEZoIP29c/hE4xicIPnVofb9jTikAAAAAASUVORK5CYII=",
         "type": "image",
         "xaxis": "x47",
         "yaxis": "y47"
        },
        {
         "hovertemplate": "x: %{x}<br>y: %{y}<br>color: %{z}<extra></extra>",
         "name": "19",
         "source": "data:image/png;base64,iVBORw0KGgoAAAANSUhEUgAAAAUAAAAFCAIAAAACDbGyAAAAUElEQVR4XgXBuw2AMAwFwNjP5IfEaOzCHCxJSY2gcGIn3NF57GF604awAJDnvhihqxbJrzbpRjUmWUuOyehjNmP3CLh3AfGYg2ki5W5Ul+0HTNogSxK+PLUAAAAASUVORK5CYII=",
         "type": "image",
         "xaxis": "x48",
         "yaxis": "y48"
        },
        {
         "hovertemplate": "x: %{x}<br>y: %{y}<br>color: %{z}<extra></extra>",
         "name": "20",
         "source": "data:image/png;base64,iVBORw0KGgoAAAANSUhEUgAAAAUAAAAFCAIAAAACDbGyAAAAUElEQVR4XgXByRWAIAwFQJMfNkEbsxn7sEyvPk94YAk4Q9d51FKxGABbSpKfu5USxOdSX+0CeInBW9fp4zmYVS2g2gQ0tDHThPOt02r2aN0PRHcfcsQm0A0AAAAASUVORK5CYII=",
         "type": "image",
         "xaxis": "x49",
         "yaxis": "y49"
        },
        {
         "hovertemplate": "x: %{x}<br>y: %{y}<br>color: %{z}<extra></extra>",
         "name": "21",
         "source": "data:image/png;base64,iVBORw0KGgoAAAANSUhEUgAAAAUAAAAFCAIAAAACDbGyAAAAUUlEQVR4XgXByxGAIAwFQMLjH3RsymIsxEY9O57kgCTqLu3bCuMBTLUys2vnkV26+3OplMIu85JCFGr2e8WQDYDqcKBXB6yxiGkIFT9ziNrHD91AGrgZ1CEFAAAAAElFTkSuQmCC",
         "type": "image",
         "xaxis": "x50",
         "yaxis": "y50"
        },
        {
         "hovertemplate": "x: %{x}<br>y: %{y}<br>color: %{z}<extra></extra>",
         "name": "22",
         "source": "data:image/png;base64,iVBORw0KGgoAAAANSUhEUgAAAAUAAAAFCAIAAAACDbGyAAAAUUlEQVR4XgXB2w2AIAwAQPogMRR0LzdxExf11/ihEWkL3sG+rURUchaRGCfW67i/drqlJICRp7IYPDi6BSAI6K5M0F0JA3ZjNUhx5jFqba/aD1YlIWq63j7mAAAAAElFTkSuQmCC",
         "type": "image",
         "xaxis": "x51",
         "yaxis": "y51"
        },
        {
         "hovertemplate": "x: %{x}<br>y: %{y}<br>color: %{z}<extra></extra>",
         "name": "23",
         "source": "data:image/png;base64,iVBORw0KGgoAAAANSUhEUgAAAAUAAAAFCAIAAAACDbGyAAAAUUlEQVR4XgXByQmAMBAAwOwFYTfamZ3YiS369qkIQu7EGTj2bQnBzER8zIXf67x7UzVAARImrzhHc0DggikyweiV0OFo+XtYZeU5UyqxtuHmDxBjH2WWYmL0AAAAAElFTkSuQmCC",
         "type": "image",
         "xaxis": "x52",
         "yaxis": "y52"
        },
        {
         "hovertemplate": "x: %{x}<br>y: %{y}<br>color: %{z}<extra></extra>",
         "name": "24",
         "source": "data:image/png;base64,iVBORw0KGgoAAAANSUhEUgAAAAUAAAAFCAIAAAACDbGyAAAAUklEQVR4XgXByxGAIAwFwORB/BAbtBNLsSjvnq1AD8wACsFd3rdVVUWmVN7O8Nd5hKAMYScEQMJSCcY0a2hmsPY5EKyWeFPNXocx5zd91ag/Mf8lOCIN+txxlwAAAABJRU5ErkJggg==",
         "type": "image",
         "xaxis": "x53",
         "yaxis": "y53"
        },
        {
         "hovertemplate": "x: %{x}<br>y: %{y}<br>color: %{z}<extra></extra>",
         "name": "25",
         "source": "data:image/png;base64,iVBORw0KGgoAAAANSUhEUgAAAAUAAAAFCAIAAAACDbGyAAAAUklEQVR4XgXByRWAIAwFwOQDz61NO7EU2/Hs2Q7kwGMxITjD57GHMJf2DQbB++e+GIFdICBXgRKMadnWbiYq3oFg2tJLfUyOfG9SRI1GTDVm+QEN6Ceg0Z4XSwAAAABJRU5ErkJggg==",
         "type": "image",
         "xaxis": "x54",
         "yaxis": "y54"
        },
        {
         "hovertemplate": "x: %{x}<br>y: %{y}<br>color: %{z}<extra></extra>",
         "name": "26",
         "source": "data:image/png;base64,iVBORw0KGgoAAAANSUhEUgAAAAUAAAAFCAIAAAACDbGyAAAAUUlEQVR4XgXBwRWAIAgAUEB6vWrVBmmUVunctR3yoCaC2P94HvsnbSABcZPGz31hmICoVDVVcoRlW7u7miICk5ukF/qYA5g751wdRkw1Fk3Ffp8XL03xbu6BAAAAAElFTkSuQmCC",
         "type": "image",
         "xaxis": "x55",
         "yaxis": "y55"
        },
        {
         "hovertemplate": "x: %{x}<br>y: %{y}<br>color: %{z}<extra></extra>",
         "name": "27",
         "source": "data:image/png;base64,iVBORw0KGgoAAAANSUhEUgAAAAUAAAAFCAIAAAACDbGyAAAAUklEQVR4XgXBwQ2AIAwAwLY0Ieqe7uEkLuXXr18BgQAt4B2exz6RgLjVphP5uS8gykVUxLClZVv7GKKCCF/wXOMLfVoDOoZPlV1ILhaXJWYtQj/EIjEUfqBV3AAAAABJRU5ErkJggg==",
         "type": "image",
         "xaxis": "x56",
         "yaxis": "y56"
        },
        {
         "hovertemplate": "x: %{x}<br>y: %{y}<br>color: %{z}<extra></extra>",
         "name": "28",
         "source": "data:image/png;base64,iVBORw0KGgoAAAANSUhEUgAAAAUAAAAFCAIAAAACDbGyAAAAVElEQVR4XgXBOw6AIAwAULAlbWMQ5KMmDuqg9z8Yg6ODoO9pn9JdSmB1RD4Xi4Jakdoi77ObckDWr7V4rWMUMO3BkVCIXC95MLVVzJ6tAWbo4BORHw0WDP31rtPYAAAAAElFTkSuQmCC",
         "type": "image",
         "xaxis": "x",
         "yaxis": "y"
        },
        {
         "hovertemplate": "x: %{x}<br>y: %{y}<br>color: %{z}<extra></extra>",
         "name": "29",
         "source": "data:image/png;base64,iVBORw0KGgoAAAANSUhEUgAAAAUAAAAFCAIAAAACDbGyAAAAVUlEQVR4XgXBzRJAIBAA4KVt7Ep+agrjUA68/5M5ORgU31cAgCFYLW2TjsFjX0GwFMfOO8O1Qq9xXwbLQubrPG50TdUpdq1MOSUAnJ0mEqX4mPl50w+tOhAxTfCMpwAAAABJRU5ErkJggg==",
         "type": "image",
         "xaxis": "x2",
         "yaxis": "y2"
        },
        {
         "hovertemplate": "x: %{x}<br>y: %{y}<br>color: %{z}<extra></extra>",
         "name": "30",
         "source": "data:image/png;base64,iVBORw0KGgoAAAANSUhEUgAAAAUAAAAFCAIAAAACDbGyAAAAU0lEQVR4XgXBwQ5AMAwA0HbtoiWILUPigAP//2VODoKO9zAIrFG2sV7mXgrHc5RlaPsUtKwQkfepi0o+X+dxW3bcVpoab9kMgJhYhBx9qvq8lgF/FEsSql/IAdoAAAAASUVORK5CYII=",
         "type": "image",
         "xaxis": "x3",
         "yaxis": "y3"
        },
        {
         "hovertemplate": "x: %{x}<br>y: %{y}<br>color: %{z}<extra></extra>",
         "name": "31",
         "source": "data:image/png;base64,iVBORw0KGgoAAAANSUhEUgAAAAUAAAAFCAIAAAACDbGyAAAAVklEQVR4XgXBSw5AQAwA0LZToSZCJD6Jhdk4gftfyUoYQ6few32ptrkJ61iVZGocpnYceqk9It5P5KkpihzPI2mm+/p46LxmVQDHDoiYnInI+2kGNEs/6VAdwmMRdcAAAAAASUVORK5CYII=",
         "type": "image",
         "xaxis": "x4",
         "yaxis": "y4"
        },
        {
         "hovertemplate": "x: %{x}<br>y: %{y}<br>color: %{z}<extra></extra>",
         "name": "32",
         "source": "data:image/png;base64,iVBORw0KGgoAAAANSUhEUgAAAAUAAAAFCAIAAAACDbGyAAAAUUlEQVR4XgXBuxWAIAwAwCREELFUWt3BZdx/ACuffEO8w/vazyPOjlRU0XLcN78EREwl51Z4Gvl9qgxKXycL7J0RAMMGiMpovAbfugxA1Vq7/s2yIyIfInlpAAAAAElFTkSuQmCC",
         "type": "image",
         "xaxis": "x5",
         "yaxis": "y5"
        },
        {
         "hovertemplate": "x: %{x}<br>y: %{y}<br>color: %{z}<extra></extra>",
         "name": "33",
         "source": "data:image/png;base64,iVBORw0KGgoAAAANSUhEUgAAAAUAAAAFCAIAAAACDbGyAAAATklEQVR4XgXB2w2AIBAEQPbYoKIx9mE3VmPT+mV4wzmD+zrnSbSrwoVUuPgVQMwp1awAv/fpQ2Jo4sx+bKSFpTUieVSS9JMbBqqlNO2l/nejI+cGebCJAAAAAElFTkSuQmCC",
         "type": "image",
         "xaxis": "x6",
         "yaxis": "y6"
        },
        {
         "hovertemplate": "x: %{x}<br>y: %{y}<br>color: %{z}<extra></extra>",
         "name": "34",
         "source": "data:image/png;base64,iVBORw0KGgoAAAANSUhEUgAAAAUAAAAFCAIAAAACDbGyAAAAT0lEQVR4XgXB2QmAMBAFwGzyWImI2IgF2Y39CuJXjs3xnJH7OjlI0VQs5QqPNddSWqWIxojveXPqXt1+bNAFqsF5X2cDAE5EDaRZ57A22X5VMyjULcliCgAAAABJRU5ErkJggg==",
         "type": "image",
         "xaxis": "x7",
         "yaxis": "y7"
        },
        {
         "hovertemplate": "x: %{x}<br>y: %{y}<br>color: %{z}<extra></extra>",
         "name": "35",
         "source": "data:image/png;base64,iVBORw0KGgoAAAANSUhEUgAAAAUAAAAFCAIAAAACDbGyAAAAT0lEQVR4XgXByRGAMAgAwJAgDqN2Yj22Y8M+HB85IIC7cF9nANUutQ01R5ml6wgAYk4z8vt80ioTHNtakmbeKSEgIobbaLgUlxkm6qFh8gOmKSupNX2jeQAAAABJRU5ErkJggg==",
         "type": "image",
         "xaxis": "x8",
         "yaxis": "y8"
        },
        {
         "hovertemplate": "x: %{x}<br>y: %{y}<br>color: %{z}<extra></extra>",
         "name": "36",
         "source": "data:image/png;base64,iVBORw0KGgoAAAANSUhEUgAAAAUAAAAFCAIAAAACDbGyAAAAS0lEQVR4XgXBgQ2AMAgEwGI/1ca4jMu4jUubUCnCeyf3deo7dZhHogoeNYq03stHpi1zaG9y7GstvqGgQACAGTZYF0gypiedMYn2A1XZKNkpiAEAAAAAAElFTkSuQmCC",
         "type": "image",
         "xaxis": "x9",
         "yaxis": "y9"
        },
        {
         "hovertemplate": "x: %{x}<br>y: %{y}<br>color: %{z}<extra></extra>",
         "name": "37",
         "source": "data:image/png;base64,iVBORw0KGgoAAAANSUhEUgAAAAUAAAAFCAIAAAACDbGyAAAAUUlEQVR4XgXBWwqAIBQFQM2DqSGB62gvbaZV+xVEiY/raUZf5/GV2mXCaAdiUFnv1SBn3VNYvNVxW43qDirFAADglFpolpxvSOuTndII+7T3Bz3HJgzfc7MLAAAAAElFTkSuQmCC",
         "type": "image",
         "xaxis": "x10",
         "yaxis": "y10"
        },
        {
         "hovertemplate": "x: %{x}<br>y: %{y}<br>color: %{z}<extra></extra>",
         "name": "38",
         "source": "data:image/png;base64,iVBORw0KGgoAAAANSUhEUgAAAAUAAAAFCAIAAAACDbGyAAAAUklEQVR4XgXB0Q2AIAwFQJAXBAwxYQdXcRhH58tEjUJp65099o1Y4GyAjiHwMZqhKm0taZBOeZmdoQBTcoowgAq3V91U68nE6N+t3BX+6g+z+wGc6ijchISB5wAAAABJRU5ErkJggg==",
         "type": "image",
         "xaxis": "x11",
         "yaxis": "y11"
        },
        {
         "hovertemplate": "x: %{x}<br>y: %{y}<br>color: %{z}<extra></extra>",
         "name": "39",
         "source": "data:image/png;base64,iVBORw0KGgoAAAANSUhEUgAAAAUAAAAFCAIAAAACDbGyAAAAUklEQVR4XgXBWwqAIBAFUHWuoUIEbqGltJY271cgWj7G6Rx9XydIO8iciwxgXZDVjhjmkM16Q2o4qLgHD8VfAbdXyKT08OBcK4S7YMu9MFPl9QPa3CexmBoaHAAAAABJRU5ErkJggg==",
         "type": "image",
         "xaxis": "x12",
         "yaxis": "y12"
        },
        {
         "hovertemplate": "x: %{x}<br>y: %{y}<br>color: %{z}<extra></extra>",
         "name": "40",
         "source": "data:image/png;base64,iVBORw0KGgoAAAANSUhEUgAAAAUAAAAFCAIAAAACDbGyAAAAUklEQVR4XgXBWwqAIBAF0FGnfEAErqG1tJe27pcgWqh37Bz13JfjNacYzdZaJqPPGOZY++YB0o4pHsEz4atvyTz6SCljoLTW0HkpKb0CpkEm5Acagit2JqSfwwAAAABJRU5ErkJggg==",
         "type": "image",
         "xaxis": "x13",
         "yaxis": "y13"
        },
        {
         "hovertemplate": "x: %{x}<br>y: %{y}<br>color: %{z}<extra></extra>",
         "name": "41",
         "source": "data:image/png;base64,iVBORw0KGgoAAAANSUhEUgAAAAUAAAAFCAIAAAACDbGyAAAAUklEQVR4XgXB0Q2AIAwFQJEKwYgmrOA2buPafBlJKwEeeKfu62yt65mstZKZjuBbHWZxwKSNpeDX9HLJ/OU6JkUxPqhIIoKyuZ1SYUALekNPXH8u/C9P0STQgAAAAABJRU5ErkJggg==",
         "type": "image",
         "xaxis": "x14",
         "yaxis": "y14"
        },
        {
         "hovertemplate": "x: %{x}<br>y: %{y}<br>color: %{z}<extra></extra>",
         "name": "42",
         "source": "data:image/png;base64,iVBORw0KGgoAAAANSUhEUgAAAAUAAAAFCAIAAAACDbGyAAAAU0lEQVR4XgXB2w2AIAwAwCLVhkAwjuAybuPY/vqD1PIoemfOY7cTEhFL7qPiusVldqpgFypV0CFUya+0D0zwHp8kiZm1BhehKKbeWEfXkXK77vwDjYUsU3JGZxYAAAAASUVORK5CYII=",
         "type": "image",
         "xaxis": "x15",
         "yaxis": "y15"
        },
        {
         "hovertemplate": "x: %{x}<br>y: %{y}<br>color: %{z}<extra></extra>",
         "name": "43",
         "source": "data:image/png;base64,iVBORw0KGgoAAAANSUhEUgAAAAUAAAAFCAIAAAACDbGyAAAAVUlEQVR4XgXBwQ2AIAwAQJAqMRAfygru4jgu7VNDYoBCafVOn8durc2YurQQNljDxqzMZGtD6hoYU0H6lPbOUStwx5i5+XlRlY0SyCyd5U10PWkc5Adg9y2KTPgBUAAAAABJRU5ErkJggg==",
         "type": "image",
         "xaxis": "x16",
         "yaxis": "y16"
        },
        {
         "hovertemplate": "x: %{x}<br>y: %{y}<br>color: %{z}<extra></extra>",
         "name": "44",
         "source": "data:image/png;base64,iVBORw0KGgoAAAANSUhEUgAAAAUAAAAFCAIAAAACDbGyAAAAVUlEQVR4XgXBUQ5AMAwAUO1qE8SPHcNdHMeJ/QkSim1d5z1Y5un5WDR6P6KpqGl7Y12IXxJoraP3OksFfdel+GIm3PgIKk/IWhShkGS9OK0716jDDT8KNSuCaffx8QAAAABJRU5ErkJggg==",
         "type": "image",
         "xaxis": "x17",
         "yaxis": "y17"
        },
        {
         "hovertemplate": "x: %{x}<br>y: %{y}<br>color: %{z}<extra></extra>",
         "name": "45",
         "source": "data:image/png;base64,iVBORw0KGgoAAAANSUhEUgAAAAUAAAAFCAIAAAACDbGyAAAAVklEQVR4XgXBSxJAMAwA0Captr4LXMBpnMaxzVgYG99IWt6DaRw0vX3fIRlhtnXT8vuIQuG8LXOU+6pCjqoYoyOynNRwJJMQPvLB7qfM25lhag6QZf0BWREkzHoA+IQAAAAASUVORK5CYII=",
         "type": "image",
         "xaxis": "x18",
         "yaxis": "y18"
        },
        {
         "hovertemplate": "x: %{x}<br>y: %{y}<br>color: %{z}<extra></extra>",
         "name": "46",
         "source": "data:image/png;base64,iVBORw0KGgoAAAANSUhEUgAAAAUAAAAFCAIAAAACDbGyAAAAVklEQVR4XgXBOw6AIAwAUFsQChpjIpvn8TBe2pnBxcRPSFvwPdi3NaUFTcelBEs2xpkFovN2COQ8jhRQBFWdMaqMb9HaKkIznljAHvnpsU43cD6/6/0B7Z4g8J0ST2QAAAAASUVORK5CYII=",
         "type": "image",
         "xaxis": "x19",
         "yaxis": "y19"
        },
        {
         "hovertemplate": "x: %{x}<br>y: %{y}<br>color: %{z}<extra></extra>",
         "name": "47",
         "source": "data:image/png;base64,iVBORw0KGgoAAAANSUhEUgAAAAUAAAAFCAIAAAACDbGyAAAAVklEQVR4XgXBOQqAMBAAQPcwl5DK2sra//gY/2opYiN4EHeTOAPLPCE1kpJnl9LHohCM5c47YxVuRFXM2RDlLEyApRaEStaJQmgjr7vEC2Q73vMZ+vEH79AiIfckhFUAAAAASUVORK5CYII=",
         "type": "image",
         "xaxis": "x20",
         "yaxis": "y20"
        },
        {
         "hovertemplate": "x: %{x}<br>y: %{y}<br>color: %{z}<extra></extra>",
         "name": "48",
         "source": "data:image/png;base64,iVBORw0KGgoAAAANSUhEUgAAAAUAAAAFCAIAAAACDbGyAAAAV0lEQVR4XgXBORJAMBQA0PmLLDKjMiqjUjuRu7iqjkKjsMTPT7wHyzxJjJ5djJ9qYiLHwTtjE1xYMqKqIVIVJsgqiFDIOklQV00wltftlf14zntox67rf4P+Im2zpP0qAAAAAElFTkSuQmCC",
         "type": "image",
         "xaxis": "x21",
         "yaxis": "y21"
        },
        {
         "hovertemplate": "x: %{x}<br>y: %{y}<br>color: %{z}<extra></extra>",
         "name": "49",
         "source": "data:image/png;base64,iVBORw0KGgoAAAANSUhEUgAAAAUAAAAFCAIAAAACDbGyAAAAWUlEQVR4XgXBSw5AMBAA0M5M9RtiIV2JlcSJXMY9rVzBpguk2invwbYuVpqUXubinJfW90bpAhd+tQhARcScJUHlTCiQtMkFXNN5pTlluR/nE+9pmEMYoY0/vFIejIfCN0UAAAAASUVORK5CYII=",
         "type": "image",
         "xaxis": "x22",
         "yaxis": "y22"
        },
        {
         "hovertemplate": "x: %{x}<br>y: %{y}<br>color: %{z}<extra></extra>",
         "name": "50",
         "source": "data:image/png;base64,iVBORw0KGgoAAAANSUhEUgAAAAUAAAAFCAIAAAACDbGyAAAAVElEQVR4XgXBQRJAMAwAwCZNDTXl4OoP3uM93mh8AXejlaSxC9u6lPKpSow9YKA2jQIPWhUHHhyqMnmoyh4dViEWiGEgs5y/lwX3477OJtDcpcmAfpEbI9omKabKAAAAAElFTkSuQmCC",
         "type": "image",
         "xaxis": "x23",
         "yaxis": "y23"
        },
        {
         "hovertemplate": "x: %{x}<br>y: %{y}<br>color: %{z}<extra></extra>",
         "name": "51",
         "source": "data:image/png;base64,iVBORw0KGgoAAAANSUhEUgAAAAUAAAAFCAIAAAACDbGyAAAAUklEQVR4XgXBSRJAMBAAwNmimODi6gO+4z0ezMklSmQb3XjsW61F1SM5ZCfcK1krgIwweiVhbDUzAbXyhVvUzWIWY3pzaWB0nZ2TdZgWQwlP+gEncR88BTpgRwAAAABJRU5ErkJggg==",
         "type": "image",
         "xaxis": "x24",
         "yaxis": "y24"
        },
        {
         "hovertemplate": "x: %{x}<br>y: %{y}<br>color: %{z}<extra></extra>",
         "name": "52",
         "source": "data:image/png;base64,iVBORw0KGgoAAAANSUhEUgAAAAUAAAAFCAIAAAACDbGyAAAAUUlEQVR4XgXBURZAIBAF0JlXcSq+/Pq1Huuxahw5RmVyL2/rEkJkODaOALgwVIIy+Rg+VehXDAha37RTFRu7XiQ/pSq1Iwmcnf04NbbpzuclPwfdIf2dx1KpAAAAAElFTkSuQmCC",
         "type": "image",
         "xaxis": "x25",
         "yaxis": "y25"
        },
        {
         "hovertemplate": "x: %{x}<br>y: %{y}<br>color: %{z}<extra></extra>",
         "name": "53",
         "source": "data:image/png;base64,iVBORw0KGgoAAAANSUhEUgAAAAUAAAAFCAIAAAACDbGyAAAAUUlEQVR4XgXBUQ5AMAwA0LbbIogvF3Ed53FdYaJm067zHm7rghTQBSBKWUiBDKEfh2omKt4RkGnhE2rrHPha5BU1aJFzTEL9NDf0/HzXnfeDf13vKlTibdZWAAAAAElFTkSuQmCC",
         "type": "image",
         "xaxis": "x26",
         "yaxis": "y26"
        },
        {
         "hovertemplate": "x: %{x}<br>y: %{y}<br>color: %{z}<extra></extra>",
         "name": "54",
         "source": "data:image/png;base64,iVBORw0KGgoAAAANSUhEUgAAAAUAAAAFCAIAAAACDbGyAAAAUUlEQVR4XgXBUQqAIAwA0G0aUZ2n03SdDhr0G6Q0bbE5ew/3bcUwAFEVNVVyhGmZm7uaIkIkt49vaH0MYO6xFHHoiSVV5WqxY2Qu+ZErv8eZf5NFMbNep4QSAAAAAElFTkSuQmCC",
         "type": "image",
         "xaxis": "x27",
         "yaxis": "y27"
        },
        {
         "hovertemplate": "x: %{x}<br>y: %{y}<br>color: %{z}<extra></extra>",
         "name": "55",
         "source": "data:image/png;base64,iVBORw0KGgoAAAANSUhEUgAAAAUAAAAFCAIAAAACDbGyAAAAU0lEQVR4XgXB2wmAMAwAwD4CRd3IYdzGPQV/BZu+TE0avbP7thrnGrEwewhuWuahysLWmpwQernN+II3ooq1Q0w1FoqNSxNiB6W+mOnC5zhxePgBRag0bmKgc1oAAAAASUVORK5CYII=",
         "type": "image",
         "xaxis": "x28",
         "yaxis": "y28"
        }
       ],
       "layout": {
        "annotations": [
         {
          "font": {},
          "showarrow": false,
          "text": "=28",
          "x": 0.008214285714285714,
          "xanchor": "center",
          "xref": "paper",
          "y": 0.46499999999999997,
          "yanchor": "bottom",
          "yref": "paper"
         },
         {
          "font": {},
          "showarrow": false,
          "text": "=29",
          "x": 0.04464285714285714,
          "xanchor": "center",
          "xref": "paper",
          "y": 0.46499999999999997,
          "yanchor": "bottom",
          "yref": "paper"
         },
         {
          "font": {},
          "showarrow": false,
          "text": "=30",
          "x": 0.08107142857142857,
          "xanchor": "center",
          "xref": "paper",
          "y": 0.46499999999999997,
          "yanchor": "bottom",
          "yref": "paper"
         },
         {
          "font": {},
          "showarrow": false,
          "text": "=31",
          "x": 0.1175,
          "xanchor": "center",
          "xref": "paper",
          "y": 0.46499999999999997,
          "yanchor": "bottom",
          "yref": "paper"
         },
         {
          "font": {},
          "showarrow": false,
          "text": "=32",
          "x": 0.15392857142857141,
          "xanchor": "center",
          "xref": "paper",
          "y": 0.46499999999999997,
          "yanchor": "bottom",
          "yref": "paper"
         },
         {
          "font": {},
          "showarrow": false,
          "text": "=33",
          "x": 0.1903571428571429,
          "xanchor": "center",
          "xref": "paper",
          "y": 0.46499999999999997,
          "yanchor": "bottom",
          "yref": "paper"
         },
         {
          "font": {},
          "showarrow": false,
          "text": "=34",
          "x": 0.22678571428571426,
          "xanchor": "center",
          "xref": "paper",
          "y": 0.46499999999999997,
          "yanchor": "bottom",
          "yref": "paper"
         },
         {
          "font": {},
          "showarrow": false,
          "text": "=35",
          "x": 0.26321428571428573,
          "xanchor": "center",
          "xref": "paper",
          "y": 0.46499999999999997,
          "yanchor": "bottom",
          "yref": "paper"
         },
         {
          "font": {},
          "showarrow": false,
          "text": "=36",
          "x": 0.2996428571428571,
          "xanchor": "center",
          "xref": "paper",
          "y": 0.46499999999999997,
          "yanchor": "bottom",
          "yref": "paper"
         },
         {
          "font": {},
          "showarrow": false,
          "text": "=37",
          "x": 0.3360714285714286,
          "xanchor": "center",
          "xref": "paper",
          "y": 0.46499999999999997,
          "yanchor": "bottom",
          "yref": "paper"
         },
         {
          "font": {},
          "showarrow": false,
          "text": "=38",
          "x": 0.37250000000000005,
          "xanchor": "center",
          "xref": "paper",
          "y": 0.46499999999999997,
          "yanchor": "bottom",
          "yref": "paper"
         },
         {
          "font": {},
          "showarrow": false,
          "text": "=39",
          "x": 0.4089285714285714,
          "xanchor": "center",
          "xref": "paper",
          "y": 0.46499999999999997,
          "yanchor": "bottom",
          "yref": "paper"
         },
         {
          "font": {},
          "showarrow": false,
          "text": "=40",
          "x": 0.4453571428571428,
          "xanchor": "center",
          "xref": "paper",
          "y": 0.46499999999999997,
          "yanchor": "bottom",
          "yref": "paper"
         },
         {
          "font": {},
          "showarrow": false,
          "text": "=41",
          "x": 0.48178571428571426,
          "xanchor": "center",
          "xref": "paper",
          "y": 0.46499999999999997,
          "yanchor": "bottom",
          "yref": "paper"
         },
         {
          "font": {},
          "showarrow": false,
          "text": "=42",
          "x": 0.5182142857142857,
          "xanchor": "center",
          "xref": "paper",
          "y": 0.46499999999999997,
          "yanchor": "bottom",
          "yref": "paper"
         },
         {
          "font": {},
          "showarrow": false,
          "text": "=43",
          "x": 0.5546428571428571,
          "xanchor": "center",
          "xref": "paper",
          "y": 0.46499999999999997,
          "yanchor": "bottom",
          "yref": "paper"
         },
         {
          "font": {},
          "showarrow": false,
          "text": "=44",
          "x": 0.5910714285714286,
          "xanchor": "center",
          "xref": "paper",
          "y": 0.46499999999999997,
          "yanchor": "bottom",
          "yref": "paper"
         },
         {
          "font": {},
          "showarrow": false,
          "text": "=45",
          "x": 0.6275,
          "xanchor": "center",
          "xref": "paper",
          "y": 0.46499999999999997,
          "yanchor": "bottom",
          "yref": "paper"
         },
         {
          "font": {},
          "showarrow": false,
          "text": "=46",
          "x": 0.6639285714285714,
          "xanchor": "center",
          "xref": "paper",
          "y": 0.46499999999999997,
          "yanchor": "bottom",
          "yref": "paper"
         },
         {
          "font": {},
          "showarrow": false,
          "text": "=47",
          "x": 0.7003571428571429,
          "xanchor": "center",
          "xref": "paper",
          "y": 0.46499999999999997,
          "yanchor": "bottom",
          "yref": "paper"
         },
         {
          "font": {},
          "showarrow": false,
          "text": "=48",
          "x": 0.7367857142857144,
          "xanchor": "center",
          "xref": "paper",
          "y": 0.46499999999999997,
          "yanchor": "bottom",
          "yref": "paper"
         },
         {
          "font": {},
          "showarrow": false,
          "text": "=49",
          "x": 0.7732142857142856,
          "xanchor": "center",
          "xref": "paper",
          "y": 0.46499999999999997,
          "yanchor": "bottom",
          "yref": "paper"
         },
         {
          "font": {},
          "showarrow": false,
          "text": "=50",
          "x": 0.8096428571428571,
          "xanchor": "center",
          "xref": "paper",
          "y": 0.46499999999999997,
          "yanchor": "bottom",
          "yref": "paper"
         },
         {
          "font": {},
          "showarrow": false,
          "text": "=51",
          "x": 0.8460714285714286,
          "xanchor": "center",
          "xref": "paper",
          "y": 0.46499999999999997,
          "yanchor": "bottom",
          "yref": "paper"
         },
         {
          "font": {},
          "showarrow": false,
          "text": "=52",
          "x": 0.8825,
          "xanchor": "center",
          "xref": "paper",
          "y": 0.46499999999999997,
          "yanchor": "bottom",
          "yref": "paper"
         },
         {
          "font": {},
          "showarrow": false,
          "text": "=53",
          "x": 0.9189285714285714,
          "xanchor": "center",
          "xref": "paper",
          "y": 0.46499999999999997,
          "yanchor": "bottom",
          "yref": "paper"
         },
         {
          "font": {},
          "showarrow": false,
          "text": "=54",
          "x": 0.9553571428571428,
          "xanchor": "center",
          "xref": "paper",
          "y": 0.46499999999999997,
          "yanchor": "bottom",
          "yref": "paper"
         },
         {
          "font": {},
          "showarrow": false,
          "text": "=55",
          "x": 0.9917857142857143,
          "xanchor": "center",
          "xref": "paper",
          "y": 0.46499999999999997,
          "yanchor": "bottom",
          "yref": "paper"
         },
         {
          "font": {},
          "showarrow": false,
          "text": "=0",
          "x": 0.008214285714285714,
          "xanchor": "center",
          "xref": "paper",
          "y": 0.9999999999999999,
          "yanchor": "bottom",
          "yref": "paper"
         },
         {
          "font": {},
          "showarrow": false,
          "text": "=1",
          "x": 0.04464285714285714,
          "xanchor": "center",
          "xref": "paper",
          "y": 0.9999999999999999,
          "yanchor": "bottom",
          "yref": "paper"
         },
         {
          "font": {},
          "showarrow": false,
          "text": "=2",
          "x": 0.08107142857142857,
          "xanchor": "center",
          "xref": "paper",
          "y": 0.9999999999999999,
          "yanchor": "bottom",
          "yref": "paper"
         },
         {
          "font": {},
          "showarrow": false,
          "text": "=3",
          "x": 0.1175,
          "xanchor": "center",
          "xref": "paper",
          "y": 0.9999999999999999,
          "yanchor": "bottom",
          "yref": "paper"
         },
         {
          "font": {},
          "showarrow": false,
          "text": "=4",
          "x": 0.15392857142857141,
          "xanchor": "center",
          "xref": "paper",
          "y": 0.9999999999999999,
          "yanchor": "bottom",
          "yref": "paper"
         },
         {
          "font": {},
          "showarrow": false,
          "text": "=5",
          "x": 0.1903571428571429,
          "xanchor": "center",
          "xref": "paper",
          "y": 0.9999999999999999,
          "yanchor": "bottom",
          "yref": "paper"
         },
         {
          "font": {},
          "showarrow": false,
          "text": "=6",
          "x": 0.22678571428571426,
          "xanchor": "center",
          "xref": "paper",
          "y": 0.9999999999999999,
          "yanchor": "bottom",
          "yref": "paper"
         },
         {
          "font": {},
          "showarrow": false,
          "text": "=7",
          "x": 0.26321428571428573,
          "xanchor": "center",
          "xref": "paper",
          "y": 0.9999999999999999,
          "yanchor": "bottom",
          "yref": "paper"
         },
         {
          "font": {},
          "showarrow": false,
          "text": "=8",
          "x": 0.2996428571428571,
          "xanchor": "center",
          "xref": "paper",
          "y": 0.9999999999999999,
          "yanchor": "bottom",
          "yref": "paper"
         },
         {
          "font": {},
          "showarrow": false,
          "text": "=9",
          "x": 0.3360714285714286,
          "xanchor": "center",
          "xref": "paper",
          "y": 0.9999999999999999,
          "yanchor": "bottom",
          "yref": "paper"
         },
         {
          "font": {},
          "showarrow": false,
          "text": "=10",
          "x": 0.37250000000000005,
          "xanchor": "center",
          "xref": "paper",
          "y": 0.9999999999999999,
          "yanchor": "bottom",
          "yref": "paper"
         },
         {
          "font": {},
          "showarrow": false,
          "text": "=11",
          "x": 0.4089285714285714,
          "xanchor": "center",
          "xref": "paper",
          "y": 0.9999999999999999,
          "yanchor": "bottom",
          "yref": "paper"
         },
         {
          "font": {},
          "showarrow": false,
          "text": "=12",
          "x": 0.4453571428571428,
          "xanchor": "center",
          "xref": "paper",
          "y": 0.9999999999999999,
          "yanchor": "bottom",
          "yref": "paper"
         },
         {
          "font": {},
          "showarrow": false,
          "text": "=13",
          "x": 0.48178571428571426,
          "xanchor": "center",
          "xref": "paper",
          "y": 0.9999999999999999,
          "yanchor": "bottom",
          "yref": "paper"
         },
         {
          "font": {},
          "showarrow": false,
          "text": "=14",
          "x": 0.5182142857142857,
          "xanchor": "center",
          "xref": "paper",
          "y": 0.9999999999999999,
          "yanchor": "bottom",
          "yref": "paper"
         },
         {
          "font": {},
          "showarrow": false,
          "text": "=15",
          "x": 0.5546428571428571,
          "xanchor": "center",
          "xref": "paper",
          "y": 0.9999999999999999,
          "yanchor": "bottom",
          "yref": "paper"
         },
         {
          "font": {},
          "showarrow": false,
          "text": "=16",
          "x": 0.5910714285714286,
          "xanchor": "center",
          "xref": "paper",
          "y": 0.9999999999999999,
          "yanchor": "bottom",
          "yref": "paper"
         },
         {
          "font": {},
          "showarrow": false,
          "text": "=17",
          "x": 0.6275,
          "xanchor": "center",
          "xref": "paper",
          "y": 0.9999999999999999,
          "yanchor": "bottom",
          "yref": "paper"
         },
         {
          "font": {},
          "showarrow": false,
          "text": "=18",
          "x": 0.6639285714285714,
          "xanchor": "center",
          "xref": "paper",
          "y": 0.9999999999999999,
          "yanchor": "bottom",
          "yref": "paper"
         },
         {
          "font": {},
          "showarrow": false,
          "text": "=19",
          "x": 0.7003571428571429,
          "xanchor": "center",
          "xref": "paper",
          "y": 0.9999999999999999,
          "yanchor": "bottom",
          "yref": "paper"
         },
         {
          "font": {},
          "showarrow": false,
          "text": "=20",
          "x": 0.7367857142857144,
          "xanchor": "center",
          "xref": "paper",
          "y": 0.9999999999999999,
          "yanchor": "bottom",
          "yref": "paper"
         },
         {
          "font": {},
          "showarrow": false,
          "text": "=21",
          "x": 0.7732142857142856,
          "xanchor": "center",
          "xref": "paper",
          "y": 0.9999999999999999,
          "yanchor": "bottom",
          "yref": "paper"
         },
         {
          "font": {},
          "showarrow": false,
          "text": "=22",
          "x": 0.8096428571428571,
          "xanchor": "center",
          "xref": "paper",
          "y": 0.9999999999999999,
          "yanchor": "bottom",
          "yref": "paper"
         },
         {
          "font": {},
          "showarrow": false,
          "text": "=23",
          "x": 0.8460714285714286,
          "xanchor": "center",
          "xref": "paper",
          "y": 0.9999999999999999,
          "yanchor": "bottom",
          "yref": "paper"
         },
         {
          "font": {},
          "showarrow": false,
          "text": "=24",
          "x": 0.8825,
          "xanchor": "center",
          "xref": "paper",
          "y": 0.9999999999999999,
          "yanchor": "bottom",
          "yref": "paper"
         },
         {
          "font": {},
          "showarrow": false,
          "text": "=25",
          "x": 0.9189285714285714,
          "xanchor": "center",
          "xref": "paper",
          "y": 0.9999999999999999,
          "yanchor": "bottom",
          "yref": "paper"
         },
         {
          "font": {},
          "showarrow": false,
          "text": "=26",
          "x": 0.9553571428571428,
          "xanchor": "center",
          "xref": "paper",
          "y": 0.9999999999999999,
          "yanchor": "bottom",
          "yref": "paper"
         },
         {
          "font": {},
          "showarrow": false,
          "text": "=27",
          "x": 0.9917857142857143,
          "xanchor": "center",
          "xref": "paper",
          "y": 0.9999999999999999,
          "yanchor": "bottom",
          "yref": "paper"
         }
        ],
        "height": 1000,
        "margin": {
         "t": 60
        },
        "template": {
         "data": {
          "bar": [
           {
            "error_x": {
             "color": "#2a3f5f"
            },
            "error_y": {
             "color": "#2a3f5f"
            },
            "marker": {
             "line": {
              "color": "#E5ECF6",
              "width": 0.5
             },
             "pattern": {
              "fillmode": "overlay",
              "size": 10,
              "solidity": 0.2
             }
            },
            "type": "bar"
           }
          ],
          "barpolar": [
           {
            "marker": {
             "line": {
              "color": "#E5ECF6",
              "width": 0.5
             },
             "pattern": {
              "fillmode": "overlay",
              "size": 10,
              "solidity": 0.2
             }
            },
            "type": "barpolar"
           }
          ],
          "carpet": [
           {
            "aaxis": {
             "endlinecolor": "#2a3f5f",
             "gridcolor": "white",
             "linecolor": "white",
             "minorgridcolor": "white",
             "startlinecolor": "#2a3f5f"
            },
            "baxis": {
             "endlinecolor": "#2a3f5f",
             "gridcolor": "white",
             "linecolor": "white",
             "minorgridcolor": "white",
             "startlinecolor": "#2a3f5f"
            },
            "type": "carpet"
           }
          ],
          "choropleth": [
           {
            "colorbar": {
             "outlinewidth": 0,
             "ticks": ""
            },
            "type": "choropleth"
           }
          ],
          "contour": [
           {
            "colorbar": {
             "outlinewidth": 0,
             "ticks": ""
            },
            "colorscale": [
             [
              0,
              "#0d0887"
             ],
             [
              0.1111111111111111,
              "#46039f"
             ],
             [
              0.2222222222222222,
              "#7201a8"
             ],
             [
              0.3333333333333333,
              "#9c179e"
             ],
             [
              0.4444444444444444,
              "#bd3786"
             ],
             [
              0.5555555555555556,
              "#d8576b"
             ],
             [
              0.6666666666666666,
              "#ed7953"
             ],
             [
              0.7777777777777778,
              "#fb9f3a"
             ],
             [
              0.8888888888888888,
              "#fdca26"
             ],
             [
              1,
              "#f0f921"
             ]
            ],
            "type": "contour"
           }
          ],
          "contourcarpet": [
           {
            "colorbar": {
             "outlinewidth": 0,
             "ticks": ""
            },
            "type": "contourcarpet"
           }
          ],
          "heatmap": [
           {
            "colorbar": {
             "outlinewidth": 0,
             "ticks": ""
            },
            "colorscale": [
             [
              0,
              "#0d0887"
             ],
             [
              0.1111111111111111,
              "#46039f"
             ],
             [
              0.2222222222222222,
              "#7201a8"
             ],
             [
              0.3333333333333333,
              "#9c179e"
             ],
             [
              0.4444444444444444,
              "#bd3786"
             ],
             [
              0.5555555555555556,
              "#d8576b"
             ],
             [
              0.6666666666666666,
              "#ed7953"
             ],
             [
              0.7777777777777778,
              "#fb9f3a"
             ],
             [
              0.8888888888888888,
              "#fdca26"
             ],
             [
              1,
              "#f0f921"
             ]
            ],
            "type": "heatmap"
           }
          ],
          "heatmapgl": [
           {
            "colorbar": {
             "outlinewidth": 0,
             "ticks": ""
            },
            "colorscale": [
             [
              0,
              "#0d0887"
             ],
             [
              0.1111111111111111,
              "#46039f"
             ],
             [
              0.2222222222222222,
              "#7201a8"
             ],
             [
              0.3333333333333333,
              "#9c179e"
             ],
             [
              0.4444444444444444,
              "#bd3786"
             ],
             [
              0.5555555555555556,
              "#d8576b"
             ],
             [
              0.6666666666666666,
              "#ed7953"
             ],
             [
              0.7777777777777778,
              "#fb9f3a"
             ],
             [
              0.8888888888888888,
              "#fdca26"
             ],
             [
              1,
              "#f0f921"
             ]
            ],
            "type": "heatmapgl"
           }
          ],
          "histogram": [
           {
            "marker": {
             "pattern": {
              "fillmode": "overlay",
              "size": 10,
              "solidity": 0.2
             }
            },
            "type": "histogram"
           }
          ],
          "histogram2d": [
           {
            "colorbar": {
             "outlinewidth": 0,
             "ticks": ""
            },
            "colorscale": [
             [
              0,
              "#0d0887"
             ],
             [
              0.1111111111111111,
              "#46039f"
             ],
             [
              0.2222222222222222,
              "#7201a8"
             ],
             [
              0.3333333333333333,
              "#9c179e"
             ],
             [
              0.4444444444444444,
              "#bd3786"
             ],
             [
              0.5555555555555556,
              "#d8576b"
             ],
             [
              0.6666666666666666,
              "#ed7953"
             ],
             [
              0.7777777777777778,
              "#fb9f3a"
             ],
             [
              0.8888888888888888,
              "#fdca26"
             ],
             [
              1,
              "#f0f921"
             ]
            ],
            "type": "histogram2d"
           }
          ],
          "histogram2dcontour": [
           {
            "colorbar": {
             "outlinewidth": 0,
             "ticks": ""
            },
            "colorscale": [
             [
              0,
              "#0d0887"
             ],
             [
              0.1111111111111111,
              "#46039f"
             ],
             [
              0.2222222222222222,
              "#7201a8"
             ],
             [
              0.3333333333333333,
              "#9c179e"
             ],
             [
              0.4444444444444444,
              "#bd3786"
             ],
             [
              0.5555555555555556,
              "#d8576b"
             ],
             [
              0.6666666666666666,
              "#ed7953"
             ],
             [
              0.7777777777777778,
              "#fb9f3a"
             ],
             [
              0.8888888888888888,
              "#fdca26"
             ],
             [
              1,
              "#f0f921"
             ]
            ],
            "type": "histogram2dcontour"
           }
          ],
          "mesh3d": [
           {
            "colorbar": {
             "outlinewidth": 0,
             "ticks": ""
            },
            "type": "mesh3d"
           }
          ],
          "parcoords": [
           {
            "line": {
             "colorbar": {
              "outlinewidth": 0,
              "ticks": ""
             }
            },
            "type": "parcoords"
           }
          ],
          "pie": [
           {
            "automargin": true,
            "type": "pie"
           }
          ],
          "scatter": [
           {
            "fillpattern": {
             "fillmode": "overlay",
             "size": 10,
             "solidity": 0.2
            },
            "type": "scatter"
           }
          ],
          "scatter3d": [
           {
            "line": {
             "colorbar": {
              "outlinewidth": 0,
              "ticks": ""
             }
            },
            "marker": {
             "colorbar": {
              "outlinewidth": 0,
              "ticks": ""
             }
            },
            "type": "scatter3d"
           }
          ],
          "scattercarpet": [
           {
            "marker": {
             "colorbar": {
              "outlinewidth": 0,
              "ticks": ""
             }
            },
            "type": "scattercarpet"
           }
          ],
          "scattergeo": [
           {
            "marker": {
             "colorbar": {
              "outlinewidth": 0,
              "ticks": ""
             }
            },
            "type": "scattergeo"
           }
          ],
          "scattergl": [
           {
            "marker": {
             "colorbar": {
              "outlinewidth": 0,
              "ticks": ""
             }
            },
            "type": "scattergl"
           }
          ],
          "scattermapbox": [
           {
            "marker": {
             "colorbar": {
              "outlinewidth": 0,
              "ticks": ""
             }
            },
            "type": "scattermapbox"
           }
          ],
          "scatterpolar": [
           {
            "marker": {
             "colorbar": {
              "outlinewidth": 0,
              "ticks": ""
             }
            },
            "type": "scatterpolar"
           }
          ],
          "scatterpolargl": [
           {
            "marker": {
             "colorbar": {
              "outlinewidth": 0,
              "ticks": ""
             }
            },
            "type": "scatterpolargl"
           }
          ],
          "scatterternary": [
           {
            "marker": {
             "colorbar": {
              "outlinewidth": 0,
              "ticks": ""
             }
            },
            "type": "scatterternary"
           }
          ],
          "surface": [
           {
            "colorbar": {
             "outlinewidth": 0,
             "ticks": ""
            },
            "colorscale": [
             [
              0,
              "#0d0887"
             ],
             [
              0.1111111111111111,
              "#46039f"
             ],
             [
              0.2222222222222222,
              "#7201a8"
             ],
             [
              0.3333333333333333,
              "#9c179e"
             ],
             [
              0.4444444444444444,
              "#bd3786"
             ],
             [
              0.5555555555555556,
              "#d8576b"
             ],
             [
              0.6666666666666666,
              "#ed7953"
             ],
             [
              0.7777777777777778,
              "#fb9f3a"
             ],
             [
              0.8888888888888888,
              "#fdca26"
             ],
             [
              1,
              "#f0f921"
             ]
            ],
            "type": "surface"
           }
          ],
          "table": [
           {
            "cells": {
             "fill": {
              "color": "#EBF0F8"
             },
             "line": {
              "color": "white"
             }
            },
            "header": {
             "fill": {
              "color": "#C8D4E3"
             },
             "line": {
              "color": "white"
             }
            },
            "type": "table"
           }
          ]
         },
         "layout": {
          "annotationdefaults": {
           "arrowcolor": "#2a3f5f",
           "arrowhead": 0,
           "arrowwidth": 1
          },
          "autotypenumbers": "strict",
          "coloraxis": {
           "colorbar": {
            "outlinewidth": 0,
            "ticks": ""
           }
          },
          "colorscale": {
           "diverging": [
            [
             0,
             "#8e0152"
            ],
            [
             0.1,
             "#c51b7d"
            ],
            [
             0.2,
             "#de77ae"
            ],
            [
             0.3,
             "#f1b6da"
            ],
            [
             0.4,
             "#fde0ef"
            ],
            [
             0.5,
             "#f7f7f7"
            ],
            [
             0.6,
             "#e6f5d0"
            ],
            [
             0.7,
             "#b8e186"
            ],
            [
             0.8,
             "#7fbc41"
            ],
            [
             0.9,
             "#4d9221"
            ],
            [
             1,
             "#276419"
            ]
           ],
           "sequential": [
            [
             0,
             "#0d0887"
            ],
            [
             0.1111111111111111,
             "#46039f"
            ],
            [
             0.2222222222222222,
             "#7201a8"
            ],
            [
             0.3333333333333333,
             "#9c179e"
            ],
            [
             0.4444444444444444,
             "#bd3786"
            ],
            [
             0.5555555555555556,
             "#d8576b"
            ],
            [
             0.6666666666666666,
             "#ed7953"
            ],
            [
             0.7777777777777778,
             "#fb9f3a"
            ],
            [
             0.8888888888888888,
             "#fdca26"
            ],
            [
             1,
             "#f0f921"
            ]
           ],
           "sequentialminus": [
            [
             0,
             "#0d0887"
            ],
            [
             0.1111111111111111,
             "#46039f"
            ],
            [
             0.2222222222222222,
             "#7201a8"
            ],
            [
             0.3333333333333333,
             "#9c179e"
            ],
            [
             0.4444444444444444,
             "#bd3786"
            ],
            [
             0.5555555555555556,
             "#d8576b"
            ],
            [
             0.6666666666666666,
             "#ed7953"
            ],
            [
             0.7777777777777778,
             "#fb9f3a"
            ],
            [
             0.8888888888888888,
             "#fdca26"
            ],
            [
             1,
             "#f0f921"
            ]
           ]
          },
          "colorway": [
           "#636efa",
           "#EF553B",
           "#00cc96",
           "#ab63fa",
           "#FFA15A",
           "#19d3f3",
           "#FF6692",
           "#B6E880",
           "#FF97FF",
           "#FECB52"
          ],
          "font": {
           "color": "#2a3f5f"
          },
          "geo": {
           "bgcolor": "white",
           "lakecolor": "white",
           "landcolor": "#E5ECF6",
           "showlakes": true,
           "showland": true,
           "subunitcolor": "white"
          },
          "hoverlabel": {
           "align": "left"
          },
          "hovermode": "closest",
          "mapbox": {
           "style": "light"
          },
          "paper_bgcolor": "white",
          "plot_bgcolor": "#E5ECF6",
          "polar": {
           "angularaxis": {
            "gridcolor": "white",
            "linecolor": "white",
            "ticks": ""
           },
           "bgcolor": "#E5ECF6",
           "radialaxis": {
            "gridcolor": "white",
            "linecolor": "white",
            "ticks": ""
           }
          },
          "scene": {
           "xaxis": {
            "backgroundcolor": "#E5ECF6",
            "gridcolor": "white",
            "gridwidth": 2,
            "linecolor": "white",
            "showbackground": true,
            "ticks": "",
            "zerolinecolor": "white"
           },
           "yaxis": {
            "backgroundcolor": "#E5ECF6",
            "gridcolor": "white",
            "gridwidth": 2,
            "linecolor": "white",
            "showbackground": true,
            "ticks": "",
            "zerolinecolor": "white"
           },
           "zaxis": {
            "backgroundcolor": "#E5ECF6",
            "gridcolor": "white",
            "gridwidth": 2,
            "linecolor": "white",
            "showbackground": true,
            "ticks": "",
            "zerolinecolor": "white"
           }
          },
          "shapedefaults": {
           "line": {
            "color": "#2a3f5f"
           }
          },
          "ternary": {
           "aaxis": {
            "gridcolor": "white",
            "linecolor": "white",
            "ticks": ""
           },
           "baxis": {
            "gridcolor": "white",
            "linecolor": "white",
            "ticks": ""
           },
           "bgcolor": "#E5ECF6",
           "caxis": {
            "gridcolor": "white",
            "linecolor": "white",
            "ticks": ""
           }
          },
          "title": {
           "x": 0.05
          },
          "xaxis": {
           "automargin": true,
           "gridcolor": "white",
           "linecolor": "white",
           "ticks": "",
           "title": {
            "standoff": 15
           },
           "zerolinecolor": "white",
           "zerolinewidth": 2
          },
          "yaxis": {
           "automargin": true,
           "gridcolor": "white",
           "linecolor": "white",
           "ticks": "",
           "title": {
            "standoff": 15
           },
           "zerolinecolor": "white",
           "zerolinewidth": 2
          }
         }
        },
        "xaxis": {
         "anchor": "y",
         "domain": [
          0,
          0.016428571428571428
         ]
        },
        "xaxis10": {
         "anchor": "y10",
         "domain": [
          0.32785714285714285,
          0.34428571428571425
         ],
         "matches": "x"
        },
        "xaxis11": {
         "anchor": "y11",
         "domain": [
          0.3642857142857143,
          0.3807142857142857
         ],
         "matches": "x"
        },
        "xaxis12": {
         "anchor": "y12",
         "domain": [
          0.4007142857142857,
          0.4171428571428571
         ],
         "matches": "x"
        },
        "xaxis13": {
         "anchor": "y13",
         "domain": [
          0.4371428571428571,
          0.4535714285714285
         ],
         "matches": "x"
        },
        "xaxis14": {
         "anchor": "y14",
         "domain": [
          0.47357142857142853,
          0.48999999999999994
         ],
         "matches": "x"
        },
        "xaxis15": {
         "anchor": "y15",
         "domain": [
          0.51,
          0.5264285714285715
         ],
         "matches": "x"
        },
        "xaxis16": {
         "anchor": "y16",
         "domain": [
          0.5464285714285714,
          0.5628571428571428
         ],
         "matches": "x"
        },
        "xaxis17": {
         "anchor": "y17",
         "domain": [
          0.5828571428571429,
          0.5992857142857143
         ],
         "matches": "x"
        },
        "xaxis18": {
         "anchor": "y18",
         "domain": [
          0.6192857142857142,
          0.6357142857142857
         ],
         "matches": "x"
        },
        "xaxis19": {
         "anchor": "y19",
         "domain": [
          0.6557142857142857,
          0.6721428571428572
         ],
         "matches": "x"
        },
        "xaxis2": {
         "anchor": "y2",
         "domain": [
          0.03642857142857143,
          0.05285714285714285
         ],
         "matches": "x"
        },
        "xaxis20": {
         "anchor": "y20",
         "domain": [
          0.6921428571428572,
          0.7085714285714286
         ],
         "matches": "x"
        },
        "xaxis21": {
         "anchor": "y21",
         "domain": [
          0.7285714285714286,
          0.7450000000000001
         ],
         "matches": "x"
        },
        "xaxis22": {
         "anchor": "y22",
         "domain": [
          0.7649999999999999,
          0.7814285714285714
         ],
         "matches": "x"
        },
        "xaxis23": {
         "anchor": "y23",
         "domain": [
          0.8014285714285714,
          0.8178571428571428
         ],
         "matches": "x"
        },
        "xaxis24": {
         "anchor": "y24",
         "domain": [
          0.8378571428571429,
          0.8542857142857143
         ],
         "matches": "x"
        },
        "xaxis25": {
         "anchor": "y25",
         "domain": [
          0.8742857142857142,
          0.8907142857142857
         ],
         "matches": "x"
        },
        "xaxis26": {
         "anchor": "y26",
         "domain": [
          0.9107142857142857,
          0.9271428571428572
         ],
         "matches": "x"
        },
        "xaxis27": {
         "anchor": "y27",
         "domain": [
          0.9471428571428571,
          0.9635714285714285
         ],
         "matches": "x"
        },
        "xaxis28": {
         "anchor": "y28",
         "domain": [
          0.9835714285714285,
          1
         ],
         "matches": "x"
        },
        "xaxis29": {
         "anchor": "y29",
         "domain": [
          0,
          0.016428571428571428
         ],
         "matches": "x",
         "showticklabels": false
        },
        "xaxis3": {
         "anchor": "y3",
         "domain": [
          0.07285714285714286,
          0.08928571428571429
         ],
         "matches": "x"
        },
        "xaxis30": {
         "anchor": "y30",
         "domain": [
          0.03642857142857143,
          0.05285714285714285
         ],
         "matches": "x",
         "showticklabels": false
        },
        "xaxis31": {
         "anchor": "y31",
         "domain": [
          0.07285714285714286,
          0.08928571428571429
         ],
         "matches": "x",
         "showticklabels": false
        },
        "xaxis32": {
         "anchor": "y32",
         "domain": [
          0.10928571428571428,
          0.1257142857142857
         ],
         "matches": "x",
         "showticklabels": false
        },
        "xaxis33": {
         "anchor": "y33",
         "domain": [
          0.1457142857142857,
          0.16214285714285714
         ],
         "matches": "x",
         "showticklabels": false
        },
        "xaxis34": {
         "anchor": "y34",
         "domain": [
          0.18214285714285716,
          0.1985714285714286
         ],
         "matches": "x",
         "showticklabels": false
        },
        "xaxis35": {
         "anchor": "y35",
         "domain": [
          0.21857142857142856,
          0.235
         ],
         "matches": "x",
         "showticklabels": false
        },
        "xaxis36": {
         "anchor": "y36",
         "domain": [
          0.255,
          0.2714285714285714
         ],
         "matches": "x",
         "showticklabels": false
        },
        "xaxis37": {
         "anchor": "y37",
         "domain": [
          0.2914285714285714,
          0.30785714285714283
         ],
         "matches": "x",
         "showticklabels": false
        },
        "xaxis38": {
         "anchor": "y38",
         "domain": [
          0.32785714285714285,
          0.34428571428571425
         ],
         "matches": "x",
         "showticklabels": false
        },
        "xaxis39": {
         "anchor": "y39",
         "domain": [
          0.3642857142857143,
          0.3807142857142857
         ],
         "matches": "x",
         "showticklabels": false
        },
        "xaxis4": {
         "anchor": "y4",
         "domain": [
          0.10928571428571428,
          0.1257142857142857
         ],
         "matches": "x"
        },
        "xaxis40": {
         "anchor": "y40",
         "domain": [
          0.4007142857142857,
          0.4171428571428571
         ],
         "matches": "x",
         "showticklabels": false
        },
        "xaxis41": {
         "anchor": "y41",
         "domain": [
          0.4371428571428571,
          0.4535714285714285
         ],
         "matches": "x",
         "showticklabels": false
        },
        "xaxis42": {
         "anchor": "y42",
         "domain": [
          0.47357142857142853,
          0.48999999999999994
         ],
         "matches": "x",
         "showticklabels": false
        },
        "xaxis43": {
         "anchor": "y43",
         "domain": [
          0.51,
          0.5264285714285715
         ],
         "matches": "x",
         "showticklabels": false
        },
        "xaxis44": {
         "anchor": "y44",
         "domain": [
          0.5464285714285714,
          0.5628571428571428
         ],
         "matches": "x",
         "showticklabels": false
        },
        "xaxis45": {
         "anchor": "y45",
         "domain": [
          0.5828571428571429,
          0.5992857142857143
         ],
         "matches": "x",
         "showticklabels": false
        },
        "xaxis46": {
         "anchor": "y46",
         "domain": [
          0.6192857142857142,
          0.6357142857142857
         ],
         "matches": "x",
         "showticklabels": false
        },
        "xaxis47": {
         "anchor": "y47",
         "domain": [
          0.6557142857142857,
          0.6721428571428572
         ],
         "matches": "x",
         "showticklabels": false
        },
        "xaxis48": {
         "anchor": "y48",
         "domain": [
          0.6921428571428572,
          0.7085714285714286
         ],
         "matches": "x",
         "showticklabels": false
        },
        "xaxis49": {
         "anchor": "y49",
         "domain": [
          0.7285714285714286,
          0.7450000000000001
         ],
         "matches": "x",
         "showticklabels": false
        },
        "xaxis5": {
         "anchor": "y5",
         "domain": [
          0.1457142857142857,
          0.16214285714285714
         ],
         "matches": "x"
        },
        "xaxis50": {
         "anchor": "y50",
         "domain": [
          0.7649999999999999,
          0.7814285714285714
         ],
         "matches": "x",
         "showticklabels": false
        },
        "xaxis51": {
         "anchor": "y51",
         "domain": [
          0.8014285714285714,
          0.8178571428571428
         ],
         "matches": "x",
         "showticklabels": false
        },
        "xaxis52": {
         "anchor": "y52",
         "domain": [
          0.8378571428571429,
          0.8542857142857143
         ],
         "matches": "x",
         "showticklabels": false
        },
        "xaxis53": {
         "anchor": "y53",
         "domain": [
          0.8742857142857142,
          0.8907142857142857
         ],
         "matches": "x",
         "showticklabels": false
        },
        "xaxis54": {
         "anchor": "y54",
         "domain": [
          0.9107142857142857,
          0.9271428571428572
         ],
         "matches": "x",
         "showticklabels": false
        },
        "xaxis55": {
         "anchor": "y55",
         "domain": [
          0.9471428571428571,
          0.9635714285714285
         ],
         "matches": "x",
         "showticklabels": false
        },
        "xaxis56": {
         "anchor": "y56",
         "domain": [
          0.9835714285714285,
          1
         ],
         "matches": "x",
         "showticklabels": false
        },
        "xaxis6": {
         "anchor": "y6",
         "domain": [
          0.18214285714285716,
          0.1985714285714286
         ],
         "matches": "x"
        },
        "xaxis7": {
         "anchor": "y7",
         "domain": [
          0.21857142857142856,
          0.235
         ],
         "matches": "x"
        },
        "xaxis8": {
         "anchor": "y8",
         "domain": [
          0.255,
          0.2714285714285714
         ],
         "matches": "x"
        },
        "xaxis9": {
         "anchor": "y9",
         "domain": [
          0.2914285714285714,
          0.30785714285714283
         ],
         "matches": "x"
        },
        "yaxis": {
         "anchor": "x",
         "domain": [
          0,
          0.46499999999999997
         ]
        },
        "yaxis10": {
         "anchor": "x10",
         "domain": [
          0,
          0.46499999999999997
         ],
         "matches": "y",
         "showticklabels": false
        },
        "yaxis11": {
         "anchor": "x11",
         "domain": [
          0,
          0.46499999999999997
         ],
         "matches": "y",
         "showticklabels": false
        },
        "yaxis12": {
         "anchor": "x12",
         "domain": [
          0,
          0.46499999999999997
         ],
         "matches": "y",
         "showticklabels": false
        },
        "yaxis13": {
         "anchor": "x13",
         "domain": [
          0,
          0.46499999999999997
         ],
         "matches": "y",
         "showticklabels": false
        },
        "yaxis14": {
         "anchor": "x14",
         "domain": [
          0,
          0.46499999999999997
         ],
         "matches": "y",
         "showticklabels": false
        },
        "yaxis15": {
         "anchor": "x15",
         "domain": [
          0,
          0.46499999999999997
         ],
         "matches": "y",
         "showticklabels": false
        },
        "yaxis16": {
         "anchor": "x16",
         "domain": [
          0,
          0.46499999999999997
         ],
         "matches": "y",
         "showticklabels": false
        },
        "yaxis17": {
         "anchor": "x17",
         "domain": [
          0,
          0.46499999999999997
         ],
         "matches": "y",
         "showticklabels": false
        },
        "yaxis18": {
         "anchor": "x18",
         "domain": [
          0,
          0.46499999999999997
         ],
         "matches": "y",
         "showticklabels": false
        },
        "yaxis19": {
         "anchor": "x19",
         "domain": [
          0,
          0.46499999999999997
         ],
         "matches": "y",
         "showticklabels": false
        },
        "yaxis2": {
         "anchor": "x2",
         "domain": [
          0,
          0.46499999999999997
         ],
         "matches": "y",
         "showticklabels": false
        },
        "yaxis20": {
         "anchor": "x20",
         "domain": [
          0,
          0.46499999999999997
         ],
         "matches": "y",
         "showticklabels": false
        },
        "yaxis21": {
         "anchor": "x21",
         "domain": [
          0,
          0.46499999999999997
         ],
         "matches": "y",
         "showticklabels": false
        },
        "yaxis22": {
         "anchor": "x22",
         "domain": [
          0,
          0.46499999999999997
         ],
         "matches": "y",
         "showticklabels": false
        },
        "yaxis23": {
         "anchor": "x23",
         "domain": [
          0,
          0.46499999999999997
         ],
         "matches": "y",
         "showticklabels": false
        },
        "yaxis24": {
         "anchor": "x24",
         "domain": [
          0,
          0.46499999999999997
         ],
         "matches": "y",
         "showticklabels": false
        },
        "yaxis25": {
         "anchor": "x25",
         "domain": [
          0,
          0.46499999999999997
         ],
         "matches": "y",
         "showticklabels": false
        },
        "yaxis26": {
         "anchor": "x26",
         "domain": [
          0,
          0.46499999999999997
         ],
         "matches": "y",
         "showticklabels": false
        },
        "yaxis27": {
         "anchor": "x27",
         "domain": [
          0,
          0.46499999999999997
         ],
         "matches": "y",
         "showticklabels": false
        },
        "yaxis28": {
         "anchor": "x28",
         "domain": [
          0,
          0.46499999999999997
         ],
         "matches": "y",
         "showticklabels": false
        },
        "yaxis29": {
         "anchor": "x29",
         "domain": [
          0.5349999999999999,
          0.9999999999999999
         ],
         "matches": "y"
        },
        "yaxis3": {
         "anchor": "x3",
         "domain": [
          0,
          0.46499999999999997
         ],
         "matches": "y",
         "showticklabels": false
        },
        "yaxis30": {
         "anchor": "x30",
         "domain": [
          0.5349999999999999,
          0.9999999999999999
         ],
         "matches": "y",
         "showticklabels": false
        },
        "yaxis31": {
         "anchor": "x31",
         "domain": [
          0.5349999999999999,
          0.9999999999999999
         ],
         "matches": "y",
         "showticklabels": false
        },
        "yaxis32": {
         "anchor": "x32",
         "domain": [
          0.5349999999999999,
          0.9999999999999999
         ],
         "matches": "y",
         "showticklabels": false
        },
        "yaxis33": {
         "anchor": "x33",
         "domain": [
          0.5349999999999999,
          0.9999999999999999
         ],
         "matches": "y",
         "showticklabels": false
        },
        "yaxis34": {
         "anchor": "x34",
         "domain": [
          0.5349999999999999,
          0.9999999999999999
         ],
         "matches": "y",
         "showticklabels": false
        },
        "yaxis35": {
         "anchor": "x35",
         "domain": [
          0.5349999999999999,
          0.9999999999999999
         ],
         "matches": "y",
         "showticklabels": false
        },
        "yaxis36": {
         "anchor": "x36",
         "domain": [
          0.5349999999999999,
          0.9999999999999999
         ],
         "matches": "y",
         "showticklabels": false
        },
        "yaxis37": {
         "anchor": "x37",
         "domain": [
          0.5349999999999999,
          0.9999999999999999
         ],
         "matches": "y",
         "showticklabels": false
        },
        "yaxis38": {
         "anchor": "x38",
         "domain": [
          0.5349999999999999,
          0.9999999999999999
         ],
         "matches": "y",
         "showticklabels": false
        },
        "yaxis39": {
         "anchor": "x39",
         "domain": [
          0.5349999999999999,
          0.9999999999999999
         ],
         "matches": "y",
         "showticklabels": false
        },
        "yaxis4": {
         "anchor": "x4",
         "domain": [
          0,
          0.46499999999999997
         ],
         "matches": "y",
         "showticklabels": false
        },
        "yaxis40": {
         "anchor": "x40",
         "domain": [
          0.5349999999999999,
          0.9999999999999999
         ],
         "matches": "y",
         "showticklabels": false
        },
        "yaxis41": {
         "anchor": "x41",
         "domain": [
          0.5349999999999999,
          0.9999999999999999
         ],
         "matches": "y",
         "showticklabels": false
        },
        "yaxis42": {
         "anchor": "x42",
         "domain": [
          0.5349999999999999,
          0.9999999999999999
         ],
         "matches": "y",
         "showticklabels": false
        },
        "yaxis43": {
         "anchor": "x43",
         "domain": [
          0.5349999999999999,
          0.9999999999999999
         ],
         "matches": "y",
         "showticklabels": false
        },
        "yaxis44": {
         "anchor": "x44",
         "domain": [
          0.5349999999999999,
          0.9999999999999999
         ],
         "matches": "y",
         "showticklabels": false
        },
        "yaxis45": {
         "anchor": "x45",
         "domain": [
          0.5349999999999999,
          0.9999999999999999
         ],
         "matches": "y",
         "showticklabels": false
        },
        "yaxis46": {
         "anchor": "x46",
         "domain": [
          0.5349999999999999,
          0.9999999999999999
         ],
         "matches": "y",
         "showticklabels": false
        },
        "yaxis47": {
         "anchor": "x47",
         "domain": [
          0.5349999999999999,
          0.9999999999999999
         ],
         "matches": "y",
         "showticklabels": false
        },
        "yaxis48": {
         "anchor": "x48",
         "domain": [
          0.5349999999999999,
          0.9999999999999999
         ],
         "matches": "y",
         "showticklabels": false
        },
        "yaxis49": {
         "anchor": "x49",
         "domain": [
          0.5349999999999999,
          0.9999999999999999
         ],
         "matches": "y",
         "showticklabels": false
        },
        "yaxis5": {
         "anchor": "x5",
         "domain": [
          0,
          0.46499999999999997
         ],
         "matches": "y",
         "showticklabels": false
        },
        "yaxis50": {
         "anchor": "x50",
         "domain": [
          0.5349999999999999,
          0.9999999999999999
         ],
         "matches": "y",
         "showticklabels": false
        },
        "yaxis51": {
         "anchor": "x51",
         "domain": [
          0.5349999999999999,
          0.9999999999999999
         ],
         "matches": "y",
         "showticklabels": false
        },
        "yaxis52": {
         "anchor": "x52",
         "domain": [
          0.5349999999999999,
          0.9999999999999999
         ],
         "matches": "y",
         "showticklabels": false
        },
        "yaxis53": {
         "anchor": "x53",
         "domain": [
          0.5349999999999999,
          0.9999999999999999
         ],
         "matches": "y",
         "showticklabels": false
        },
        "yaxis54": {
         "anchor": "x54",
         "domain": [
          0.5349999999999999,
          0.9999999999999999
         ],
         "matches": "y",
         "showticklabels": false
        },
        "yaxis55": {
         "anchor": "x55",
         "domain": [
          0.5349999999999999,
          0.9999999999999999
         ],
         "matches": "y",
         "showticklabels": false
        },
        "yaxis56": {
         "anchor": "x56",
         "domain": [
          0.5349999999999999,
          0.9999999999999999
         ],
         "matches": "y",
         "showticklabels": false
        },
        "yaxis6": {
         "anchor": "x6",
         "domain": [
          0,
          0.46499999999999997
         ],
         "matches": "y",
         "showticklabels": false
        },
        "yaxis7": {
         "anchor": "x7",
         "domain": [
          0,
          0.46499999999999997
         ],
         "matches": "y",
         "showticklabels": false
        },
        "yaxis8": {
         "anchor": "x8",
         "domain": [
          0,
          0.46499999999999997
         ],
         "matches": "y",
         "showticklabels": false
        },
        "yaxis9": {
         "anchor": "x9",
         "domain": [
          0,
          0.46499999999999997
         ],
         "matches": "y",
         "showticklabels": false
        }
       }
      }
     },
     "metadata": {},
     "output_type": "display_data"
    }
   ],
   "source": [
    "px.imshow(\n",
    "    flatten_multi_channels_input[multi_channels_correlatin_indieces].reshape(-1, 5, 5, 3)[:56, ...],\n",
    "    facet_col=0,\n",
    "    facet_col_wrap=28,\n",
    "    height=1000,\n",
    "    facet_col_spacing=0.,\n",
    "    labels={\"facet_col\": \"\"}\n",
    ")"
   ]
  },
  {
   "cell_type": "code",
   "execution_count": 65,
   "metadata": {},
   "outputs": [
    {
     "data": {
      "text/plain": [
       "(784, 2)"
      ]
     },
     "execution_count": 65,
     "metadata": {},
     "output_type": "execute_result"
    }
   ],
   "source": [
    "multi_channels_flatten_correlation = flatten_multi_channels_input[multi_channels_correlatin_indieces] @ multi_channels_kernels_weights\n",
    "multi_channels_flatten_correlation.shape"
   ]
  },
  {
   "cell_type": "code",
   "execution_count": 76,
   "metadata": {},
   "outputs": [
    {
     "data": {
      "text/plain": [
       "(2, 5, 5, 3)"
      ]
     },
     "execution_count": 76,
     "metadata": {},
     "output_type": "execute_result"
    }
   ],
   "source": [
    "multi_channels_kernels.shape"
   ]
  },
  {
   "cell_type": "code",
   "execution_count": 77,
   "metadata": {},
   "outputs": [
    {
     "name": "stdout",
     "output_type": "stream",
     "text": [
      "[[[ 1.  1.  0.]\n",
      "  [ 1.  1.  0.]\n",
      "  [ 1.  1.  0.]\n",
      "  [ 1.  1.  0.]\n",
      "  [ 1.  1.  1.]]\n",
      "\n",
      " [[ 0.  0.  0.]\n",
      "  [ 0.  0.  0.]\n",
      "  [ 0.  0.  0.]\n",
      "  [ 0.  0.  1.]\n",
      "  [ 0.  0.  0.]]\n",
      "\n",
      " [[-1.  1.  0.]\n",
      "  [-1.  1.  0.]\n",
      "  [-1.  1.  1.]\n",
      "  [-1.  1.  0.]\n",
      "  [-1.  1.  0.]]\n",
      "\n",
      " [[ 0.  1.  0.]\n",
      "  [ 0.  1.  1.]\n",
      "  [ 0.  1.  0.]\n",
      "  [ 0.  1.  0.]\n",
      "  [ 0.  1.  0.]]\n",
      "\n",
      " [[ 1.  1.  1.]\n",
      "  [ 1.  1.  0.]\n",
      "  [ 1.  1.  0.]\n",
      "  [ 1.  1.  0.]\n",
      "  [ 1.  1.  0.]]]\n",
      "[[1. 1. 0.]\n",
      " [1. 1. 0.]\n",
      " [1. 1. 0.]\n",
      " [1. 1. 0.]\n",
      " [1. 1. 1.]]\n",
      "==========\n",
      "[[0. 0. 0.]\n",
      " [0. 0. 0.]\n",
      " [0. 0. 0.]\n",
      " [0. 0. 1.]\n",
      " [0. 0. 0.]]\n",
      "==========\n",
      "[[-1.  1.  0.]\n",
      " [-1.  1.  0.]\n",
      " [-1.  1.  1.]\n",
      " [-1.  1.  0.]\n",
      " [-1.  1.  0.]]\n",
      "==========\n",
      "[[0. 1. 0.]\n",
      " [0. 1. 1.]\n",
      " [0. 1. 0.]\n",
      " [0. 1. 0.]\n",
      " [0. 1. 0.]]\n",
      "==========\n",
      "[[1. 1. 1.]\n",
      " [1. 1. 0.]\n",
      " [1. 1. 0.]\n",
      " [1. 1. 0.]\n",
      " [1. 1. 0.]]\n",
      "==========\n",
      "[[[0.5 1.  0. ]\n",
      "  [0.5 1.  0. ]\n",
      "  [0.5 0.  1. ]\n",
      "  [0.5 0.  0. ]\n",
      "  [0.5 0.  0. ]]\n",
      "\n",
      " [[0.5 2.  0. ]\n",
      "  [0.5 1.  0.5]\n",
      "  [0.5 1.  1. ]\n",
      "  [0.5 0.  0.5]\n",
      "  [0.5 1.  0. ]]\n",
      "\n",
      " [[0.5 3.  1. ]\n",
      "  [0.5 1.  1. ]\n",
      "  [0.5 1.  1. ]\n",
      "  [0.5 1.  1. ]\n",
      "  [0.5 0.  1. ]]\n",
      "\n",
      " [[0.5 4.  0. ]\n",
      "  [0.5 0.  0.5]\n",
      "  [0.5 1.  1. ]\n",
      "  [0.5 1.  0.5]\n",
      "  [0.5 1.  0. ]]\n",
      "\n",
      " [[0.5 5.  0. ]\n",
      "  [0.5 0.  0. ]\n",
      "  [0.5 0.  1. ]\n",
      "  [0.5 1.  0. ]\n",
      "  [0.5 1.  0. ]]]\n",
      "[[0.5 1.  0. ]\n",
      " [0.5 1.  0. ]\n",
      " [0.5 0.  1. ]\n",
      " [0.5 0.  0. ]\n",
      " [0.5 0.  0. ]]\n",
      "==========\n",
      "[[0.5 2.  0. ]\n",
      " [0.5 1.  0.5]\n",
      " [0.5 1.  1. ]\n",
      " [0.5 0.  0.5]\n",
      " [0.5 1.  0. ]]\n",
      "==========\n",
      "[[0.5 3.  1. ]\n",
      " [0.5 1.  1. ]\n",
      " [0.5 1.  1. ]\n",
      " [0.5 1.  1. ]\n",
      " [0.5 0.  1. ]]\n",
      "==========\n",
      "[[0.5 4.  0. ]\n",
      " [0.5 0.  0.5]\n",
      " [0.5 1.  1. ]\n",
      " [0.5 1.  0.5]\n",
      " [0.5 1.  0. ]]\n",
      "==========\n",
      "[[0.5 5.  0. ]\n",
      " [0.5 0.  0. ]\n",
      " [0.5 0.  1. ]\n",
      " [0.5 1.  0. ]\n",
      " [0.5 1.  0. ]]\n",
      "==========\n"
     ]
    }
   ],
   "source": [
    "for kernel in multi_channels_kernels:\n",
    "    print(kernel)\n",
    "    for kernel_channel in kernel:\n",
    "        print(kernel_channel)\n",
    "        print(\"==========\")"
   ]
  },
  {
   "cell_type": "code",
   "execution_count": 72,
   "metadata": {},
   "outputs": [
    {
     "ename": "ValueError",
     "evalue": "correlate2d inputs must both be 2-D arrays",
     "output_type": "error",
     "traceback": [
      "\u001b[0;31m---------------------------------------------------------------------------\u001b[0m",
      "\u001b[0;31mValueError\u001b[0m                                Traceback (most recent call last)",
      "Cell \u001b[0;32mIn[72], line 2\u001b[0m\n\u001b[1;32m      1\u001b[0m reshaped_mutli_channels_correlation \u001b[38;5;241m=\u001b[39m multi_channels_flatten_correlation\u001b[38;5;241m.\u001b[39mreshape(multi_channels_nb_horizontal_correlations, multi_channels_nb_vertical_correlations, \u001b[38;5;241m-\u001b[39m\u001b[38;5;241m1\u001b[39m, )\n\u001b[0;32m----> 2\u001b[0m scipy_mutli_channels_cross_correlatin \u001b[38;5;241m=\u001b[39m np\u001b[38;5;241m.\u001b[39mstack([np\u001b[38;5;241m.\u001b[39mstack([correlate2d(multi_channels_input, kernel_channel, mode\u001b[38;5;241m=\u001b[39m\u001b[38;5;124m\"\u001b[39m\u001b[38;5;124mvalid\u001b[39m\u001b[38;5;124m\"\u001b[39m) \u001b[38;5;28;01mfor\u001b[39;00m kernel_channel \u001b[38;5;129;01min\u001b[39;00m kernel]) \u001b[38;5;28;01mfor\u001b[39;00m kernel \u001b[38;5;129;01min\u001b[39;00m multi_channels_kernels])\n\u001b[1;32m      3\u001b[0m px\u001b[38;5;241m.\u001b[39mimshow(\n\u001b[1;32m      4\u001b[0m     reshaped_mutli_channels_correlation,\n\u001b[1;32m      5\u001b[0m     facet_col\u001b[38;5;241m=\u001b[39m\u001b[38;5;241m2\u001b[39m\n\u001b[1;32m      6\u001b[0m )\n",
      "File \u001b[0;32m~/miniconda3/envs/CNN/lib/python3.12/site-packages/scipy/signal/_signaltools.py:1830\u001b[0m, in \u001b[0;36mcorrelate2d\u001b[0;34m(in1, in2, mode, boundary, fillvalue)\u001b[0m\n\u001b[1;32m   1827\u001b[0m in2 \u001b[38;5;241m=\u001b[39m np\u001b[38;5;241m.\u001b[39masarray(in2)\n\u001b[1;32m   1829\u001b[0m \u001b[38;5;28;01mif\u001b[39;00m \u001b[38;5;129;01mnot\u001b[39;00m in1\u001b[38;5;241m.\u001b[39mndim \u001b[38;5;241m==\u001b[39m in2\u001b[38;5;241m.\u001b[39mndim \u001b[38;5;241m==\u001b[39m \u001b[38;5;241m2\u001b[39m:\n\u001b[0;32m-> 1830\u001b[0m     \u001b[38;5;28;01mraise\u001b[39;00m \u001b[38;5;167;01mValueError\u001b[39;00m(\u001b[38;5;124m'\u001b[39m\u001b[38;5;124mcorrelate2d inputs must both be 2-D arrays\u001b[39m\u001b[38;5;124m'\u001b[39m)\n\u001b[1;32m   1832\u001b[0m swapped_inputs \u001b[38;5;241m=\u001b[39m _inputs_swap_needed(mode, in1\u001b[38;5;241m.\u001b[39mshape, in2\u001b[38;5;241m.\u001b[39mshape)\n\u001b[1;32m   1833\u001b[0m \u001b[38;5;28;01mif\u001b[39;00m swapped_inputs:\n",
      "\u001b[0;31mValueError\u001b[0m: correlate2d inputs must both be 2-D arrays"
     ]
    }
   ],
   "source": [
    "reshaped_mutli_channels_correlation = multi_channels_flatten_correlation.reshape(multi_channels_nb_horizontal_correlations, multi_channels_nb_vertical_correlations, -1, )\n",
    "scipy_mutli_channels_cross_correlatin = np.stack([np.stack([correlate2d(multi_channels_input, kernel_channel, mode=\"valid\") for kernel_channel in kernel]) for kernel in multi_channels_kernels])\n",
    "px.imshow(\n",
    "    reshaped_mutli_channels_correlation,\n",
    "    facet_col=2\n",
    ")"
   ]
  }
 ],
 "metadata": {
  "kernelspec": {
   "display_name": "CNN",
   "language": "python",
   "name": "python3"
  },
  "language_info": {
   "codemirror_mode": {
    "name": "ipython",
    "version": 3
   },
   "file_extension": ".py",
   "mimetype": "text/x-python",
   "name": "python",
   "nbconvert_exporter": "python",
   "pygments_lexer": "ipython3",
   "version": "3.12.3"
  }
 },
 "nbformat": 4,
 "nbformat_minor": 2
}
