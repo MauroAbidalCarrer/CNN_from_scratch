{
 "cells": [
  {
   "cell_type": "markdown",
   "metadata": {},
   "source": [
    "# Cross correlation implementation\n",
    "In this notebook, we will implement the cross correlation of a batch of kernels with a batch of input images.  \n",
    "Cross correlation (and convolution) are essentially dot products repeated over the input image.  \n",
    "This is because at each correlation, the kernel and input image values correspond to a fixed \"window index\".  \n",
    "This is a 1D index that make the kernel to the input image.  \n",
    "We just need to compute that index and then repeat it for nb_correlations times with an offset in both the horizontal and vertical direction.  \n"
   ]
  },
  {
   "cell_type": "markdown",
   "metadata": {},
   "source": [
    "## Setup"
   ]
  },
  {
   "cell_type": "markdown",
   "metadata": {},
   "source": [
    "### Imports"
   ]
  },
  {
   "cell_type": "code",
   "execution_count": 8,
   "metadata": {},
   "outputs": [],
   "source": [
    "from os.path import join\n",
    "\n",
    "from scipy.signal import correlate2d\n",
    "import plotly.subplots as sp\n",
    "import numpy as np\n",
    "import plotly.express as px\n",
    "import kagglehub"
   ]
  },
  {
   "cell_type": "markdown",
   "metadata": {},
   "source": [
    "### Data extraction"
   ]
  },
  {
   "cell_type": "code",
   "execution_count": 9,
   "metadata": {},
   "outputs": [],
   "source": [
    "dataset_path = kagglehub.dataset_download(\"hojjatk/mnist-dataset\")\n",
    "train_image_path = join(dataset_path, 'train-images.idx3-ubyte')\n",
    "train_labels_path = join(dataset_path, 'train-labels.idx1-ubyte')\n",
    "test_image_path = join(dataset_path, 't10k-images.idx3-ubyte')\n",
    "test_labels_path = join(dataset_path, 't10k-labels.idx1-ubyte')\n",
    "\n",
    "def load_images(path) -> np.ndarray:\n",
    "    with open(path, 'rb') as f:\n",
    "        return (\n",
    "            np.frombuffer(f.read(), dtype=np.uint8)\n",
    "            [16:]\n",
    "            .reshape(-1, 28**2)\n",
    "            / 255\n",
    "        )\n",
    "\n",
    "def load_labels(path) -> np.ndarray:\n",
    "    with open(path, 'rb') as f:\n",
    "        label_idxs = np.frombuffer(f.read(), dtype=np.uint8)[8:]\n",
    "        labels = np.eye(10)[label_idxs]\n",
    "        return labels\n",
    "\n",
    "train_dataset = load_images(train_image_path)\n",
    "train_labels = load_labels(train_labels_path)\n",
    "test_dataset = load_images(test_image_path)\n",
    "test_labels = load_labels(test_labels_path)"
   ]
  },
  {
   "cell_type": "code",
   "execution_count": 10,
   "metadata": {},
   "outputs": [
    {
     "data": {
      "application/vnd.plotly.v1+json": {
       "config": {
        "plotlyServerURL": "https://plot.ly"
       },
       "data": [
        {
         "coloraxis": "coloraxis",
         "hovertemplate": "x: %{x}<br>y: %{y}<br>color: %{z}<extra></extra>",
         "name": "0",
         "type": "heatmap",
         "xaxis": "x",
         "yaxis": "y",
         "z": [
          [
           0,
           0,
           0,
           0,
           0,
           0,
           0,
           0,
           0,
           0,
           0,
           0,
           0,
           0,
           0,
           0,
           0,
           0,
           0,
           0,
           0,
           0,
           0,
           0,
           0,
           0,
           0,
           0
          ],
          [
           0,
           0,
           0,
           0,
           0,
           0,
           0,
           0,
           0,
           0,
           0,
           0,
           0,
           0,
           0,
           0,
           0,
           0,
           0,
           0,
           0,
           0,
           0,
           0,
           0,
           0,
           0,
           0
          ],
          [
           0,
           0,
           0,
           0,
           0,
           0,
           0,
           0,
           0,
           0,
           0,
           0,
           0,
           0,
           0,
           0,
           0,
           0,
           0,
           0,
           0,
           0,
           0,
           0,
           0,
           0,
           0,
           0
          ],
          [
           0,
           0,
           0,
           0,
           0,
           0,
           0,
           0,
           0,
           0,
           0,
           0,
           0,
           0,
           0,
           0,
           0,
           0,
           0,
           0,
           0,
           0,
           0,
           0,
           0,
           0,
           0,
           0
          ],
          [
           0,
           0,
           0,
           0,
           0,
           0,
           0,
           0,
           0,
           0,
           0,
           0,
           0,
           0,
           0,
           0,
           0,
           0,
           0,
           0,
           0,
           0,
           0,
           0,
           0,
           0,
           0,
           0
          ],
          [
           0,
           0,
           0,
           0,
           0,
           0,
           0,
           0,
           0,
           0,
           0,
           0,
           0.011764705882352941,
           0.07058823529411765,
           0.07058823529411765,
           0.07058823529411765,
           0.49411764705882355,
           0.5333333333333333,
           0.6862745098039216,
           0.10196078431372549,
           0.6509803921568628,
           1,
           0.9686274509803922,
           0.4980392156862745,
           0,
           0,
           0,
           0
          ],
          [
           0,
           0,
           0,
           0,
           0,
           0,
           0,
           0,
           0.11764705882352941,
           0.1411764705882353,
           0.3686274509803922,
           0.6039215686274509,
           0.6666666666666666,
           0.9921568627450981,
           0.9921568627450981,
           0.9921568627450981,
           0.9921568627450981,
           0.9921568627450981,
           0.8823529411764706,
           0.6745098039215687,
           0.9921568627450981,
           0.9490196078431372,
           0.7647058823529411,
           0.25098039215686274,
           0,
           0,
           0,
           0
          ],
          [
           0,
           0,
           0,
           0,
           0,
           0,
           0,
           0.19215686274509805,
           0.9333333333333333,
           0.9921568627450981,
           0.9921568627450981,
           0.9921568627450981,
           0.9921568627450981,
           0.9921568627450981,
           0.9921568627450981,
           0.9921568627450981,
           0.9921568627450981,
           0.984313725490196,
           0.36470588235294116,
           0.3215686274509804,
           0.3215686274509804,
           0.2196078431372549,
           0.15294117647058825,
           0,
           0,
           0,
           0,
           0
          ],
          [
           0,
           0,
           0,
           0,
           0,
           0,
           0,
           0.07058823529411765,
           0.8588235294117647,
           0.9921568627450981,
           0.9921568627450981,
           0.9921568627450981,
           0.9921568627450981,
           0.9921568627450981,
           0.7764705882352941,
           0.7137254901960784,
           0.9686274509803922,
           0.9450980392156862,
           0,
           0,
           0,
           0,
           0,
           0,
           0,
           0,
           0,
           0
          ],
          [
           0,
           0,
           0,
           0,
           0,
           0,
           0,
           0,
           0.3137254901960784,
           0.611764705882353,
           0.4196078431372549,
           0.9921568627450981,
           0.9921568627450981,
           0.803921568627451,
           0.043137254901960784,
           0,
           0.16862745098039217,
           0.6039215686274509,
           0,
           0,
           0,
           0,
           0,
           0,
           0,
           0,
           0,
           0
          ],
          [
           0,
           0,
           0,
           0,
           0,
           0,
           0,
           0,
           0,
           0.054901960784313725,
           0.00392156862745098,
           0.6039215686274509,
           0.9921568627450981,
           0.35294117647058826,
           0,
           0,
           0,
           0,
           0,
           0,
           0,
           0,
           0,
           0,
           0,
           0,
           0,
           0
          ],
          [
           0,
           0,
           0,
           0,
           0,
           0,
           0,
           0,
           0,
           0,
           0,
           0.5450980392156862,
           0.9921568627450981,
           0.7450980392156863,
           0.00784313725490196,
           0,
           0,
           0,
           0,
           0,
           0,
           0,
           0,
           0,
           0,
           0,
           0,
           0
          ],
          [
           0,
           0,
           0,
           0,
           0,
           0,
           0,
           0,
           0,
           0,
           0,
           0.043137254901960784,
           0.7450980392156863,
           0.9921568627450981,
           0.27450980392156865,
           0,
           0,
           0,
           0,
           0,
           0,
           0,
           0,
           0,
           0,
           0,
           0,
           0
          ],
          [
           0,
           0,
           0,
           0,
           0,
           0,
           0,
           0,
           0,
           0,
           0,
           0,
           0.13725490196078433,
           0.9450980392156862,
           0.8823529411764706,
           0.6274509803921569,
           0.4235294117647059,
           0.00392156862745098,
           0,
           0,
           0,
           0,
           0,
           0,
           0,
           0,
           0,
           0
          ],
          [
           0,
           0,
           0,
           0,
           0,
           0,
           0,
           0,
           0,
           0,
           0,
           0,
           0,
           0.3176470588235294,
           0.9411764705882353,
           0.9921568627450981,
           0.9921568627450981,
           0.4666666666666667,
           0.09803921568627451,
           0,
           0,
           0,
           0,
           0,
           0,
           0,
           0,
           0
          ],
          [
           0,
           0,
           0,
           0,
           0,
           0,
           0,
           0,
           0,
           0,
           0,
           0,
           0,
           0,
           0.17647058823529413,
           0.7294117647058823,
           0.9921568627450981,
           0.9921568627450981,
           0.5882352941176471,
           0.10588235294117647,
           0,
           0,
           0,
           0,
           0,
           0,
           0,
           0
          ],
          [
           0,
           0,
           0,
           0,
           0,
           0,
           0,
           0,
           0,
           0,
           0,
           0,
           0,
           0,
           0,
           0.06274509803921569,
           0.36470588235294116,
           0.9882352941176471,
           0.9921568627450981,
           0.7333333333333333,
           0,
           0,
           0,
           0,
           0,
           0,
           0,
           0
          ],
          [
           0,
           0,
           0,
           0,
           0,
           0,
           0,
           0,
           0,
           0,
           0,
           0,
           0,
           0,
           0,
           0,
           0,
           0.9764705882352941,
           0.9921568627450981,
           0.9764705882352941,
           0.25098039215686274,
           0,
           0,
           0,
           0,
           0,
           0,
           0
          ],
          [
           0,
           0,
           0,
           0,
           0,
           0,
           0,
           0,
           0,
           0,
           0,
           0,
           0,
           0,
           0.1803921568627451,
           0.5098039215686274,
           0.7176470588235294,
           0.9921568627450981,
           0.9921568627450981,
           0.8117647058823529,
           0.00784313725490196,
           0,
           0,
           0,
           0,
           0,
           0,
           0
          ],
          [
           0,
           0,
           0,
           0,
           0,
           0,
           0,
           0,
           0,
           0,
           0,
           0,
           0.15294117647058825,
           0.5803921568627451,
           0.8980392156862745,
           0.9921568627450981,
           0.9921568627450981,
           0.9921568627450981,
           0.9803921568627451,
           0.7137254901960784,
           0,
           0,
           0,
           0,
           0,
           0,
           0,
           0
          ],
          [
           0,
           0,
           0,
           0,
           0,
           0,
           0,
           0,
           0,
           0,
           0.09411764705882353,
           0.4470588235294118,
           0.8666666666666667,
           0.9921568627450981,
           0.9921568627450981,
           0.9921568627450981,
           0.9921568627450981,
           0.788235294117647,
           0.3058823529411765,
           0,
           0,
           0,
           0,
           0,
           0,
           0,
           0,
           0
          ],
          [
           0,
           0,
           0,
           0,
           0,
           0,
           0,
           0,
           0.09019607843137255,
           0.25882352941176473,
           0.8352941176470589,
           0.9921568627450981,
           0.9921568627450981,
           0.9921568627450981,
           0.9921568627450981,
           0.7764705882352941,
           0.3176470588235294,
           0.00784313725490196,
           0,
           0,
           0,
           0,
           0,
           0,
           0,
           0,
           0,
           0
          ],
          [
           0,
           0,
           0,
           0,
           0,
           0,
           0.07058823529411765,
           0.6705882352941176,
           0.8588235294117647,
           0.9921568627450981,
           0.9921568627450981,
           0.9921568627450981,
           0.9921568627450981,
           0.7647058823529411,
           0.3137254901960784,
           0.03529411764705882,
           0,
           0,
           0,
           0,
           0,
           0,
           0,
           0,
           0,
           0,
           0,
           0
          ],
          [
           0,
           0,
           0,
           0,
           0.21568627450980393,
           0.6745098039215687,
           0.8862745098039215,
           0.9921568627450981,
           0.9921568627450981,
           0.9921568627450981,
           0.9921568627450981,
           0.9568627450980393,
           0.5215686274509804,
           0.043137254901960784,
           0,
           0,
           0,
           0,
           0,
           0,
           0,
           0,
           0,
           0,
           0,
           0,
           0,
           0
          ],
          [
           0,
           0,
           0,
           0,
           0.5333333333333333,
           0.9921568627450981,
           0.9921568627450981,
           0.9921568627450981,
           0.8313725490196079,
           0.5294117647058824,
           0.5176470588235295,
           0.06274509803921569,
           0,
           0,
           0,
           0,
           0,
           0,
           0,
           0,
           0,
           0,
           0,
           0,
           0,
           0,
           0,
           0
          ],
          [
           0,
           0,
           0,
           0,
           0,
           0,
           0,
           0,
           0,
           0,
           0,
           0,
           0,
           0,
           0,
           0,
           0,
           0,
           0,
           0,
           0,
           0,
           0,
           0,
           0,
           0,
           0,
           0
          ],
          [
           0,
           0,
           0,
           0,
           0,
           0,
           0,
           0,
           0,
           0,
           0,
           0,
           0,
           0,
           0,
           0,
           0,
           0,
           0,
           0,
           0,
           0,
           0,
           0,
           0,
           0,
           0,
           0
          ],
          [
           0,
           0,
           0,
           0,
           0,
           0,
           0,
           0,
           0,
           0,
           0,
           0,
           0,
           0,
           0,
           0,
           0,
           0,
           0,
           0,
           0,
           0,
           0,
           0,
           0,
           0,
           0,
           0
          ]
         ]
        }
       ],
       "layout": {
        "coloraxis": {
         "colorscale": [
          [
           0,
           "rgb(150,0,90)"
          ],
          [
           0.125,
           "rgb(0,0,200)"
          ],
          [
           0.25,
           "rgb(0,25,255)"
          ],
          [
           0.375,
           "rgb(0,152,255)"
          ],
          [
           0.5,
           "rgb(44,255,150)"
          ],
          [
           0.625,
           "rgb(151,255,0)"
          ],
          [
           0.75,
           "rgb(255,234,0)"
          ],
          [
           0.875,
           "rgb(255,111,0)"
          ],
          [
           1,
           "rgb(255,0,0)"
          ]
         ]
        },
        "margin": {
         "t": 60
        },
        "template": {
         "data": {
          "bar": [
           {
            "error_x": {
             "color": "#2a3f5f"
            },
            "error_y": {
             "color": "#2a3f5f"
            },
            "marker": {
             "line": {
              "color": "#E5ECF6",
              "width": 0.5
             },
             "pattern": {
              "fillmode": "overlay",
              "size": 10,
              "solidity": 0.2
             }
            },
            "type": "bar"
           }
          ],
          "barpolar": [
           {
            "marker": {
             "line": {
              "color": "#E5ECF6",
              "width": 0.5
             },
             "pattern": {
              "fillmode": "overlay",
              "size": 10,
              "solidity": 0.2
             }
            },
            "type": "barpolar"
           }
          ],
          "carpet": [
           {
            "aaxis": {
             "endlinecolor": "#2a3f5f",
             "gridcolor": "white",
             "linecolor": "white",
             "minorgridcolor": "white",
             "startlinecolor": "#2a3f5f"
            },
            "baxis": {
             "endlinecolor": "#2a3f5f",
             "gridcolor": "white",
             "linecolor": "white",
             "minorgridcolor": "white",
             "startlinecolor": "#2a3f5f"
            },
            "type": "carpet"
           }
          ],
          "choropleth": [
           {
            "colorbar": {
             "outlinewidth": 0,
             "ticks": ""
            },
            "type": "choropleth"
           }
          ],
          "contour": [
           {
            "colorbar": {
             "outlinewidth": 0,
             "ticks": ""
            },
            "colorscale": [
             [
              0,
              "#0d0887"
             ],
             [
              0.1111111111111111,
              "#46039f"
             ],
             [
              0.2222222222222222,
              "#7201a8"
             ],
             [
              0.3333333333333333,
              "#9c179e"
             ],
             [
              0.4444444444444444,
              "#bd3786"
             ],
             [
              0.5555555555555556,
              "#d8576b"
             ],
             [
              0.6666666666666666,
              "#ed7953"
             ],
             [
              0.7777777777777778,
              "#fb9f3a"
             ],
             [
              0.8888888888888888,
              "#fdca26"
             ],
             [
              1,
              "#f0f921"
             ]
            ],
            "type": "contour"
           }
          ],
          "contourcarpet": [
           {
            "colorbar": {
             "outlinewidth": 0,
             "ticks": ""
            },
            "type": "contourcarpet"
           }
          ],
          "heatmap": [
           {
            "colorbar": {
             "outlinewidth": 0,
             "ticks": ""
            },
            "colorscale": [
             [
              0,
              "#0d0887"
             ],
             [
              0.1111111111111111,
              "#46039f"
             ],
             [
              0.2222222222222222,
              "#7201a8"
             ],
             [
              0.3333333333333333,
              "#9c179e"
             ],
             [
              0.4444444444444444,
              "#bd3786"
             ],
             [
              0.5555555555555556,
              "#d8576b"
             ],
             [
              0.6666666666666666,
              "#ed7953"
             ],
             [
              0.7777777777777778,
              "#fb9f3a"
             ],
             [
              0.8888888888888888,
              "#fdca26"
             ],
             [
              1,
              "#f0f921"
             ]
            ],
            "type": "heatmap"
           }
          ],
          "heatmapgl": [
           {
            "colorbar": {
             "outlinewidth": 0,
             "ticks": ""
            },
            "colorscale": [
             [
              0,
              "#0d0887"
             ],
             [
              0.1111111111111111,
              "#46039f"
             ],
             [
              0.2222222222222222,
              "#7201a8"
             ],
             [
              0.3333333333333333,
              "#9c179e"
             ],
             [
              0.4444444444444444,
              "#bd3786"
             ],
             [
              0.5555555555555556,
              "#d8576b"
             ],
             [
              0.6666666666666666,
              "#ed7953"
             ],
             [
              0.7777777777777778,
              "#fb9f3a"
             ],
             [
              0.8888888888888888,
              "#fdca26"
             ],
             [
              1,
              "#f0f921"
             ]
            ],
            "type": "heatmapgl"
           }
          ],
          "histogram": [
           {
            "marker": {
             "pattern": {
              "fillmode": "overlay",
              "size": 10,
              "solidity": 0.2
             }
            },
            "type": "histogram"
           }
          ],
          "histogram2d": [
           {
            "colorbar": {
             "outlinewidth": 0,
             "ticks": ""
            },
            "colorscale": [
             [
              0,
              "#0d0887"
             ],
             [
              0.1111111111111111,
              "#46039f"
             ],
             [
              0.2222222222222222,
              "#7201a8"
             ],
             [
              0.3333333333333333,
              "#9c179e"
             ],
             [
              0.4444444444444444,
              "#bd3786"
             ],
             [
              0.5555555555555556,
              "#d8576b"
             ],
             [
              0.6666666666666666,
              "#ed7953"
             ],
             [
              0.7777777777777778,
              "#fb9f3a"
             ],
             [
              0.8888888888888888,
              "#fdca26"
             ],
             [
              1,
              "#f0f921"
             ]
            ],
            "type": "histogram2d"
           }
          ],
          "histogram2dcontour": [
           {
            "colorbar": {
             "outlinewidth": 0,
             "ticks": ""
            },
            "colorscale": [
             [
              0,
              "#0d0887"
             ],
             [
              0.1111111111111111,
              "#46039f"
             ],
             [
              0.2222222222222222,
              "#7201a8"
             ],
             [
              0.3333333333333333,
              "#9c179e"
             ],
             [
              0.4444444444444444,
              "#bd3786"
             ],
             [
              0.5555555555555556,
              "#d8576b"
             ],
             [
              0.6666666666666666,
              "#ed7953"
             ],
             [
              0.7777777777777778,
              "#fb9f3a"
             ],
             [
              0.8888888888888888,
              "#fdca26"
             ],
             [
              1,
              "#f0f921"
             ]
            ],
            "type": "histogram2dcontour"
           }
          ],
          "mesh3d": [
           {
            "colorbar": {
             "outlinewidth": 0,
             "ticks": ""
            },
            "type": "mesh3d"
           }
          ],
          "parcoords": [
           {
            "line": {
             "colorbar": {
              "outlinewidth": 0,
              "ticks": ""
             }
            },
            "type": "parcoords"
           }
          ],
          "pie": [
           {
            "automargin": true,
            "type": "pie"
           }
          ],
          "scatter": [
           {
            "fillpattern": {
             "fillmode": "overlay",
             "size": 10,
             "solidity": 0.2
            },
            "type": "scatter"
           }
          ],
          "scatter3d": [
           {
            "line": {
             "colorbar": {
              "outlinewidth": 0,
              "ticks": ""
             }
            },
            "marker": {
             "colorbar": {
              "outlinewidth": 0,
              "ticks": ""
             }
            },
            "type": "scatter3d"
           }
          ],
          "scattercarpet": [
           {
            "marker": {
             "colorbar": {
              "outlinewidth": 0,
              "ticks": ""
             }
            },
            "type": "scattercarpet"
           }
          ],
          "scattergeo": [
           {
            "marker": {
             "colorbar": {
              "outlinewidth": 0,
              "ticks": ""
             }
            },
            "type": "scattergeo"
           }
          ],
          "scattergl": [
           {
            "marker": {
             "colorbar": {
              "outlinewidth": 0,
              "ticks": ""
             }
            },
            "type": "scattergl"
           }
          ],
          "scattermapbox": [
           {
            "marker": {
             "colorbar": {
              "outlinewidth": 0,
              "ticks": ""
             }
            },
            "type": "scattermapbox"
           }
          ],
          "scatterpolar": [
           {
            "marker": {
             "colorbar": {
              "outlinewidth": 0,
              "ticks": ""
             }
            },
            "type": "scatterpolar"
           }
          ],
          "scatterpolargl": [
           {
            "marker": {
             "colorbar": {
              "outlinewidth": 0,
              "ticks": ""
             }
            },
            "type": "scatterpolargl"
           }
          ],
          "scatterternary": [
           {
            "marker": {
             "colorbar": {
              "outlinewidth": 0,
              "ticks": ""
             }
            },
            "type": "scatterternary"
           }
          ],
          "surface": [
           {
            "colorbar": {
             "outlinewidth": 0,
             "ticks": ""
            },
            "colorscale": [
             [
              0,
              "#0d0887"
             ],
             [
              0.1111111111111111,
              "#46039f"
             ],
             [
              0.2222222222222222,
              "#7201a8"
             ],
             [
              0.3333333333333333,
              "#9c179e"
             ],
             [
              0.4444444444444444,
              "#bd3786"
             ],
             [
              0.5555555555555556,
              "#d8576b"
             ],
             [
              0.6666666666666666,
              "#ed7953"
             ],
             [
              0.7777777777777778,
              "#fb9f3a"
             ],
             [
              0.8888888888888888,
              "#fdca26"
             ],
             [
              1,
              "#f0f921"
             ]
            ],
            "type": "surface"
           }
          ],
          "table": [
           {
            "cells": {
             "fill": {
              "color": "#EBF0F8"
             },
             "line": {
              "color": "white"
             }
            },
            "header": {
             "fill": {
              "color": "#C8D4E3"
             },
             "line": {
              "color": "white"
             }
            },
            "type": "table"
           }
          ]
         },
         "layout": {
          "annotationdefaults": {
           "arrowcolor": "#2a3f5f",
           "arrowhead": 0,
           "arrowwidth": 1
          },
          "autotypenumbers": "strict",
          "coloraxis": {
           "colorbar": {
            "outlinewidth": 0,
            "ticks": ""
           }
          },
          "colorscale": {
           "diverging": [
            [
             0,
             "#8e0152"
            ],
            [
             0.1,
             "#c51b7d"
            ],
            [
             0.2,
             "#de77ae"
            ],
            [
             0.3,
             "#f1b6da"
            ],
            [
             0.4,
             "#fde0ef"
            ],
            [
             0.5,
             "#f7f7f7"
            ],
            [
             0.6,
             "#e6f5d0"
            ],
            [
             0.7,
             "#b8e186"
            ],
            [
             0.8,
             "#7fbc41"
            ],
            [
             0.9,
             "#4d9221"
            ],
            [
             1,
             "#276419"
            ]
           ],
           "sequential": [
            [
             0,
             "#0d0887"
            ],
            [
             0.1111111111111111,
             "#46039f"
            ],
            [
             0.2222222222222222,
             "#7201a8"
            ],
            [
             0.3333333333333333,
             "#9c179e"
            ],
            [
             0.4444444444444444,
             "#bd3786"
            ],
            [
             0.5555555555555556,
             "#d8576b"
            ],
            [
             0.6666666666666666,
             "#ed7953"
            ],
            [
             0.7777777777777778,
             "#fb9f3a"
            ],
            [
             0.8888888888888888,
             "#fdca26"
            ],
            [
             1,
             "#f0f921"
            ]
           ],
           "sequentialminus": [
            [
             0,
             "#0d0887"
            ],
            [
             0.1111111111111111,
             "#46039f"
            ],
            [
             0.2222222222222222,
             "#7201a8"
            ],
            [
             0.3333333333333333,
             "#9c179e"
            ],
            [
             0.4444444444444444,
             "#bd3786"
            ],
            [
             0.5555555555555556,
             "#d8576b"
            ],
            [
             0.6666666666666666,
             "#ed7953"
            ],
            [
             0.7777777777777778,
             "#fb9f3a"
            ],
            [
             0.8888888888888888,
             "#fdca26"
            ],
            [
             1,
             "#f0f921"
            ]
           ]
          },
          "colorway": [
           "#636efa",
           "#EF553B",
           "#00cc96",
           "#ab63fa",
           "#FFA15A",
           "#19d3f3",
           "#FF6692",
           "#B6E880",
           "#FF97FF",
           "#FECB52"
          ],
          "font": {
           "color": "#2a3f5f"
          },
          "geo": {
           "bgcolor": "white",
           "lakecolor": "white",
           "landcolor": "#E5ECF6",
           "showlakes": true,
           "showland": true,
           "subunitcolor": "white"
          },
          "hoverlabel": {
           "align": "left"
          },
          "hovermode": "closest",
          "mapbox": {
           "style": "light"
          },
          "paper_bgcolor": "white",
          "plot_bgcolor": "#E5ECF6",
          "polar": {
           "angularaxis": {
            "gridcolor": "white",
            "linecolor": "white",
            "ticks": ""
           },
           "bgcolor": "#E5ECF6",
           "radialaxis": {
            "gridcolor": "white",
            "linecolor": "white",
            "ticks": ""
           }
          },
          "scene": {
           "xaxis": {
            "backgroundcolor": "#E5ECF6",
            "gridcolor": "white",
            "gridwidth": 2,
            "linecolor": "white",
            "showbackground": true,
            "ticks": "",
            "zerolinecolor": "white"
           },
           "yaxis": {
            "backgroundcolor": "#E5ECF6",
            "gridcolor": "white",
            "gridwidth": 2,
            "linecolor": "white",
            "showbackground": true,
            "ticks": "",
            "zerolinecolor": "white"
           },
           "zaxis": {
            "backgroundcolor": "#E5ECF6",
            "gridcolor": "white",
            "gridwidth": 2,
            "linecolor": "white",
            "showbackground": true,
            "ticks": "",
            "zerolinecolor": "white"
           }
          },
          "shapedefaults": {
           "line": {
            "color": "#2a3f5f"
           }
          },
          "ternary": {
           "aaxis": {
            "gridcolor": "white",
            "linecolor": "white",
            "ticks": ""
           },
           "baxis": {
            "gridcolor": "white",
            "linecolor": "white",
            "ticks": ""
           },
           "bgcolor": "#E5ECF6",
           "caxis": {
            "gridcolor": "white",
            "linecolor": "white",
            "ticks": ""
           }
          },
          "title": {
           "x": 0.05
          },
          "xaxis": {
           "automargin": true,
           "gridcolor": "white",
           "linecolor": "white",
           "ticks": "",
           "title": {
            "standoff": 15
           },
           "zerolinecolor": "white",
           "zerolinewidth": 2
          },
          "yaxis": {
           "automargin": true,
           "gridcolor": "white",
           "linecolor": "white",
           "ticks": "",
           "title": {
            "standoff": 15
           },
           "zerolinecolor": "white",
           "zerolinewidth": 2
          }
         }
        },
        "xaxis": {
         "anchor": "y",
         "constrain": "domain",
         "domain": [
          0,
          1
         ],
         "scaleanchor": "y"
        },
        "yaxis": {
         "anchor": "x",
         "autorange": "reversed",
         "constrain": "domain",
         "domain": [
          0,
          1
         ]
        }
       }
      }
     },
     "metadata": {},
     "output_type": "display_data"
    }
   ],
   "source": [
    "px.imshow(train_dataset[0].reshape(28, 28), color_continuous_scale='Rainbow')"
   ]
  },
  {
   "cell_type": "code",
   "execution_count": 11,
   "metadata": {},
   "outputs": [],
   "source": [
    "INPUT_SHAPE = (28, 28)\n",
    "input = train_dataset[0]"
   ]
  },
  {
   "cell_type": "markdown",
   "metadata": {},
   "source": [
    "## Single kernel, single input image, cross correlation implementation"
   ]
  },
  {
   "cell_type": "markdown",
   "metadata": {},
   "source": [
    "First we declare are kernel, we will store it as a vectore this way we can use vector/matrix dot product to compute the cross correlation."
   ]
  },
  {
   "cell_type": "code",
   "execution_count": 12,
   "metadata": {},
   "outputs": [
    {
     "data": {
      "text/plain": [
       "array([ 1,  0, -1,  1,  0, -1,  1,  0, -1])"
      ]
     },
     "execution_count": 12,
     "metadata": {},
     "output_type": "execute_result"
    }
   ],
   "source": [
    "kernel = np.array([\n",
    "    [1, 0, -1], \n",
    "    [1, 0, -1],\n",
    "    [1, 0, -1],\n",
    "])\n",
    "kernel_weights = kernel.ravel()\n",
    "kernel_weights"
   ]
  },
  {
   "cell_type": "markdown",
   "metadata": {},
   "source": [
    "First we will create the \"window\" index of the kernel.  \n",
    "This is the index that will be slid over the input image to compute the cross correlation."
   ]
  },
  {
   "cell_type": "code",
   "execution_count": 13,
   "metadata": {},
   "outputs": [
    {
     "data": {
      "text/plain": [
       "array([ 0,  1,  2, 28, 29, 30, 56, 57, 58])"
      ]
     },
     "execution_count": 13,
     "metadata": {},
     "output_type": "execute_result"
    }
   ],
   "source": [
    "window_index = np.arange(kernel.shape[0])\n",
    "window_index = np.tile(window_index, kernel.shape[1])\n",
    "window_index += np.repeat(np.arange(kernel.shape[0]) * INPUT_SHAPE[0], kernel.shape[1])\n",
    "window_index"
   ]
  },
  {
   "cell_type": "code",
   "execution_count": 14,
   "metadata": {},
   "outputs": [
    {
     "data": {
      "text/plain": [
       "676"
      ]
     },
     "execution_count": 14,
     "metadata": {},
     "output_type": "execute_result"
    }
   ],
   "source": [
    "nb_horizontal_correlations = 1 + INPUT_SHAPE[0] - kernel.shape[0]\n",
    "nb_vertical_correlations = 1 + INPUT_SHAPE[0] - kernel.shape[0]\n",
    "nb_correlations = nb_horizontal_correlations * nb_vertical_correlations\n",
    "nb_correlations"
   ]
  },
  {
   "cell_type": "code",
   "execution_count": 15,
   "metadata": {},
   "outputs": [],
   "source": [
    "# Here we repeat the window index for each correlation and then add the horizontal and vertical offsets and store the result into a matrix.\n",
    "# Each row corresponds to a correlation and each column corresponds to a window index.\n",
    "correlation_indices = np.tile(window_index, (nb_correlations, 1))\n",
    "# The offsets are computed the same way as the window index.\n",
    "# We reshape the offsets by giving them an extra dimension of size 1 to brodcast the addition over the window indices.\n",
    "horizontal_offsets = np.tile(np.arange(nb_horizontal_correlations), nb_vertical_correlations).reshape(-1, 1)\n",
    "vertical_offsets = np.repeat(np.arange(nb_vertical_correlations) * INPUT_SHAPE[0], nb_vertical_correlations).reshape(-1, 1)\n",
    "correlation_indices += horizontal_offsets + vertical_offsets"
   ]
  },
  {
   "cell_type": "code",
   "execution_count": 16,
   "metadata": {},
   "outputs": [
    {
     "data": {
      "application/vnd.plotly.v1+json": {
       "config": {
        "plotlyServerURL": "https://plot.ly"
       },
       "data": [
        {
         "coloraxis": "coloraxis",
         "hovertemplate": "x: %{x}<br>y: %{y}<br>color: %{z}<extra></extra>",
         "name": "0",
         "type": "heatmap",
         "xaxis": "x",
         "yaxis": "y",
         "z": [
          [
           0,
           0,
           0,
           0,
           0,
           0,
           0,
           0,
           0,
           0,
           0,
           0,
           0,
           0,
           0,
           0,
           0,
           0,
           0,
           0,
           0,
           0,
           0,
           0,
           0,
           0
          ],
          [
           0,
           0,
           0,
           0,
           0,
           0,
           0,
           0,
           0,
           0,
           0,
           0,
           0,
           0,
           0,
           0,
           0,
           0,
           0,
           0,
           0,
           0,
           0,
           0,
           0,
           0
          ],
          [
           0,
           0,
           0,
           0,
           0,
           0,
           0,
           0,
           0,
           0,
           0,
           0,
           0,
           0,
           0,
           0,
           0,
           0,
           0,
           0,
           0,
           0,
           0,
           0,
           0,
           0
          ],
          [
           0,
           0,
           0,
           0,
           0,
           0,
           0,
           0,
           0,
           0,
           -0.011764705882352941,
           -0.07058823529411765,
           -0.058823529411764705,
           0,
           -0.42352941176470593,
           -0.4627450980392157,
           -0.19215686274509802,
           0.43137254901960786,
           0.03529411764705881,
           -0.8980392156862745,
           -0.3176470588235294,
           0.5019607843137255,
           0.9686274509803922,
           0.4980392156862745,
           0,
           0
          ],
          [
           0,
           0,
           0,
           0,
           0,
           0,
           -0.11764705882352941,
           -0.1411764705882353,
           -0.25098039215686274,
           -0.46274509803921565,
           -0.3098039215686274,
           -0.45882352941176474,
           -0.38431372549019616,
           0,
           -0.42352941176470593,
           -0.4627450980392157,
           -0.08235294117647052,
           0.7490196078431373,
           -0.0745098039215687,
           -1.172549019607843,
           -0.09019607843137245,
           1.2,
           1.7333333333333334,
           0.7490196078431373,
           0,
           0
          ],
          [
           0,
           0,
           0,
           0,
           0,
           -0.19215686274509805,
           -1.0509803921568628,
           -0.9411764705882353,
           -0.30980392156862746,
           -0.4627450980392156,
           -0.30980392156862746,
           -0.45882352941176474,
           -0.38431372549019616,
           0,
           -0.42352941176470593,
           -0.45490196078431366,
           0.5450980392156863,
           1.411764705882353,
           -0.031372549019607954,
           -1.0705882352941174,
           0.07843137254901972,
           1.4196078431372547,
           1.8862745098039215,
           0.7490196078431373,
           0,
           0
          ],
          [
           0,
           0,
           0,
           0,
           0,
           -0.2627450980392157,
           -1.9098039215686273,
           -1.8627450980392157,
           -0.4431372549019609,
           -0.4627450980392156,
           -0.29803921568627445,
           -0.3882352941176471,
           -0.1098039215686275,
           0.2784313725490196,
           -0.19215686274509802,
           -0.22352941176470575,
           1.7058823529411766,
           1.9254901960784312,
           -0.06666666666666676,
           -0.17254901960784302,
           0.39607843137254906,
           0.9176470588235294,
           0.9176470588235294,
           0.25098039215686274,
           0,
           0
          ],
          [
           0,
           0,
           0,
           0,
           0,
           -0.2627450980392157,
           -2.105882352941176,
           -2.3333333333333335,
           -0.2980392156862746,
           -0.3803921568627451,
           -0.5725490196078431,
           0.18823529411764706,
           1.1647058823529413,
           1.0823529411764707,
           -0.3176470588235294,
           -0.8274509803921567,
           1.7647058823529413,
           2.2117647058823526,
           0.04313725490196074,
           0.10196078431372552,
           0.16862745098039217,
           0.2196078431372549,
           0.15294117647058825,
           0,
           0,
           0
          ],
          [
           0,
           0,
           0,
           0,
           0,
           -0.07058823529411765,
           -1.172549019607843,
           -1.5882352941176472,
           -0.24313725490196086,
           -0.9294117647058823,
           -1.5607843137254902,
           0.43921568627450974,
           2.1568627450980395,
           1.435294117647059,
           -0.3176470588235294,
           -0.8352941176470587,
           1.1372549019607843,
           1.549019607843137,
           0,
           0,
           0,
           0,
           0,
           0,
           0,
           0
          ],
          [
           0,
           0,
           0,
           0,
           0,
           0,
           -0.3137254901960784,
           -0.6666666666666667,
           -0.10980392156862746,
           -1.4745098039215685,
           -2.552941176470588,
           0.23921568627450962,
           2.9254901960784316,
           1.9019607843137256,
           -0.11764705882352941,
           -0.6039215686274509,
           0.16862745098039217,
           0.6039215686274509,
           0,
           0,
           0,
           0,
           0,
           0,
           0,
           0
          ],
          [
           0,
           0,
           0,
           0,
           0,
           0,
           0,
           -0.054901960784313725,
           -0.00392156862745098,
           -1.1372549019607843,
           -2.7254901960784315,
           -0.8980392156862748,
           2.447058823529412,
           2.0901960784313727,
           0.2823529411764706,
           0,
           0,
           0,
           0,
           0,
           0,
           0,
           0,
           0,
           0,
           0
          ],
          [
           0,
           0,
           0,
           0,
           0,
           0,
           0,
           0,
           0,
           -0.588235294117647,
           -1.8745098039215686,
           -2.0941176470588236,
           0.7098039215686276,
           2.054901960784314,
           0.7411764705882351,
           0.6235294117647059,
           0.4235294117647059,
           0.00392156862745098,
           0,
           0,
           0,
           0,
           0,
           0,
           0,
           0
          ],
          [
           0,
           0,
           0,
           0,
           0,
           0,
           0,
           0,
           0,
           -0.043137254901960784,
           -0.8823529411764706,
           -2.211764705882353,
           -1.2156862745098038,
           0.6352941176470588,
           0.6823529411764704,
           1.1490196078431372,
           1.3176470588235294,
           0.47058823529411764,
           0.09803921568627451,
           0,
           0,
           0,
           0,
           0,
           0,
           0
          ],
          [
           0,
           0,
           0,
           0,
           0,
           0,
           0,
           0,
           0,
           0,
           -0.13725490196078433,
           -1.2627450980392156,
           -1.8627450980392157,
           -1.0862745098039217,
           -0.40784313725490207,
           0.8862745098039215,
           1.72156862745098,
           1.3568627450980393,
           0.6862745098039216,
           0.10588235294117647,
           0,
           0,
           0,
           0,
           0,
           0
          ],
          [
           0,
           0,
           0,
           0,
           0,
           0,
           0,
           0,
           0,
           0,
           0,
           -0.3176470588235294,
           -1.1176470588235294,
           -1.4666666666666666,
           -1.231372549019608,
           -0.6627450980392158,
           0.6705882352941175,
           1.607843137254902,
           1.6784313725490196,
           0.8392156862745097,
           0,
           0,
           0,
           0,
           0,
           0
          ],
          [
           0,
           0,
           0,
           0,
           0,
           0,
           0,
           0,
           0,
           0,
           0,
           0,
           -0.17647058823529413,
           -0.792156862745098,
           -1.1803921568627451,
           -2.1647058823529415,
           -1.215686274509804,
           1.1411764705882352,
           2.3215686274509806,
           1.8156862745098037,
           0.25098039215686274,
           0,
           0,
           0,
           0,
           0
          ],
          [
           0,
           0,
           0,
           0,
           0,
           0,
           0,
           0,
           0,
           0,
           0,
           0,
           -0.1803921568627451,
           -0.5725490196078431,
           -0.9019607843137255,
           -2.384313725490196,
           -1.8941176470588235,
           0.43529411764705883,
           2.7176470588235295,
           2.5215686274509803,
           0.2588235294117647,
           0,
           0,
           0,
           0,
           0
          ],
          [
           0,
           0,
           0,
           0,
           0,
           0,
           0,
           0,
           0,
           0,
           -0.15294117647058825,
           -0.5803921568627451,
           -0.9254901960784314,
           -0.9215686274509803,
           -0.6313725490196078,
           -1.4588235294117649,
           -1.2549019607843137,
           0.45882352941176474,
           2.7058823529411766,
           2.5019607843137255,
           0.2588235294117647,
           0,
           0,
           0,
           0,
           0
          ],
          [
           0,
           0,
           0,
           0,
           0,
           0,
           0,
           0,
           -0.09411764705882353,
           -0.4470588235294118,
           -0.9254901960784314,
           -1.1254901960784314,
           -1.0509803921568628,
           -0.9215686274509803,
           -0.6313725490196078,
           -0.2784313725490196,
           0.42352941176470593,
           1.2470588235294118,
           2.2705882352941176,
           1.5254901960784313,
           0.00784313725490196,
           0,
           0,
           0,
           0,
           0
          ],
          [
           0,
           0,
           0,
           0,
           0,
           0,
           -0.09019607843137255,
           -0.25882352941176473,
           -0.8392156862745098,
           -1.1803921568627451,
           -1.0823529411764707,
           -1.1254901960784314,
           -0.8705882352941177,
           -0.196078431372549,
           0.5803921568627451,
           0.9725490196078432,
           1.0156862745098039,
           1.0745098039215686,
           1.2862745098039214,
           0.7137254901960784,
           0,
           0,
           0,
           0,
           0,
           0
          ],
          [
           0,
           0,
           0,
           0,
           -0.07058823529411765,
           -0.6705882352941176,
           -0.8784313725490196,
           -0.5803921568627453,
           -0.9725490196078432,
           -1.1803921568627451,
           -0.9294117647058824,
           -0.3176470588235294,
           0.5529411764705883,
           0.9450980392156862,
           0.9882352941176471,
           1.0078431372549022,
           1.003921568627451,
           0.796078431372549,
           0.3058823529411765,
           0,
           0,
           0,
           0,
           0,
           0,
           0
          ],
          [
           0,
           0,
           -0.21568627450980393,
           -0.6745098039215687,
           -0.7411764705882352,
           -0.988235294117647,
           -0.9843137254901961,
           -0.5803921568627453,
           -0.8784313725490197,
           -0.6980392156862746,
           0.3137254901960784,
           1.1411764705882355,
           1.2000000000000002,
           0.988235294117647,
           0.9882352941176471,
           0.803921568627451,
           0.3176470588235294,
           0.00784313725490196,
           0,
           0,
           0,
           0,
           0,
           0,
           0,
           0
          ],
          [
           0,
           0,
           -0.7490196078431373,
           -1.6666666666666667,
           -1.2,
           -0.988235294117647,
           -0.7333333333333334,
           0.14117647058823524,
           0.180392156862745,
           0.5019607843137255,
           0.9882352941176471,
           1.2039215686274511,
           1.2000000000000002,
           0.7725490196078431,
           0.3137254901960784,
           0.03529411764705882,
           0,
           0,
           0,
           0,
           0,
           0,
           0,
           0,
           0,
           0
          ],
          [
           0,
           0,
           -0.7490196078431373,
           -1.6666666666666667,
           -1.1294117647058823,
           -0.3176470588235294,
           0.05490196078431364,
           0.4627450980392157,
           0.3137254901960784,
           0.5019607843137255,
           0.9882352941176471,
           0.9764705882352942,
           0.5215686274509804,
           0.043137254901960784,
           0,
           0,
           0,
           0,
           0,
           0,
           0,
           0,
           0,
           0,
           0,
           0
          ],
          [
           0,
           0,
           -0.5333333333333333,
           -0.9921568627450981,
           -0.45882352941176474,
           0,
           0.16078431372549018,
           0.4627450980392157,
           0.3137254901960784,
           0.4666666666666667,
           0.5176470588235295,
           0.06274509803921569,
           0,
           0,
           0,
           0,
           0,
           0,
           0,
           0,
           0,
           0,
           0,
           0,
           0,
           0
          ],
          [
           0,
           0,
           0,
           0,
           0,
           0,
           0,
           0,
           0,
           0,
           0,
           0,
           0,
           0,
           0,
           0,
           0,
           0,
           0,
           0,
           0,
           0,
           0,
           0,
           0,
           0
          ]
         ]
        },
        {
         "coloraxis": "coloraxis",
         "hovertemplate": "x: %{x}<br>y: %{y}<br>color: %{z}<extra></extra>",
         "name": "1",
         "type": "heatmap",
         "xaxis": "x2",
         "yaxis": "y2",
         "z": [
          [
           0,
           0,
           0,
           0,
           0,
           0,
           0,
           0,
           0,
           0,
           0,
           0,
           0,
           0,
           0,
           0,
           0,
           0,
           0,
           0,
           0,
           0,
           0,
           0,
           0,
           0
          ],
          [
           0,
           0,
           0,
           0,
           0,
           0,
           0,
           0,
           0,
           0,
           0,
           0,
           0,
           0,
           0,
           0,
           0,
           0,
           0,
           0,
           0,
           0,
           0,
           0,
           0,
           0
          ],
          [
           0,
           0,
           0,
           0,
           0,
           0,
           0,
           0,
           0,
           0,
           0,
           0,
           0,
           0,
           0,
           0,
           0,
           0,
           0,
           0,
           0,
           0,
           0,
           0,
           0,
           0
          ],
          [
           0,
           0,
           0,
           0,
           0,
           0,
           0,
           0,
           0,
           0,
           -0.011764705882352941,
           -0.07058823529411765,
           -0.058823529411764705,
           0,
           -0.42352941176470593,
           -0.4627450980392157,
           -0.19215686274509802,
           0.43137254901960786,
           0.03529411764705881,
           -0.8980392156862745,
           -0.3176470588235294,
           0.5019607843137255,
           0.9686274509803922,
           0.4980392156862745,
           0,
           0
          ],
          [
           0,
           0,
           0,
           0,
           0,
           0,
           -0.11764705882352941,
           -0.1411764705882353,
           -0.25098039215686274,
           -0.46274509803921565,
           -0.3098039215686274,
           -0.45882352941176474,
           -0.38431372549019616,
           0,
           -0.42352941176470593,
           -0.4627450980392157,
           -0.08235294117647052,
           0.7490196078431373,
           -0.0745098039215687,
           -1.172549019607843,
           -0.09019607843137245,
           1.2,
           1.7333333333333334,
           0.7490196078431373,
           0,
           0
          ],
          [
           0,
           0,
           0,
           0,
           0,
           -0.19215686274509805,
           -1.0509803921568628,
           -0.9411764705882353,
           -0.30980392156862746,
           -0.4627450980392156,
           -0.30980392156862735,
           -0.45882352941176474,
           -0.38431372549019616,
           0,
           -0.42352941176470593,
           -0.45490196078431366,
           0.5450980392156863,
           1.4117647058823528,
           -0.031372549019607954,
           -1.0705882352941176,
           0.07843137254901977,
           1.4196078431372547,
           1.8862745098039215,
           0.7490196078431373,
           0,
           0
          ],
          [
           0,
           0,
           0,
           0,
           0,
           -0.2627450980392157,
           -1.9098039215686273,
           -1.8627450980392157,
           -0.4431372549019609,
           -0.4627450980392156,
           -0.29803921568627445,
           -0.3882352941176471,
           -0.1098039215686275,
           0.2784313725490196,
           -0.19215686274509802,
           -0.22352941176470575,
           1.7058823529411766,
           1.9254901960784312,
           -0.06666666666666676,
           -0.17254901960784302,
           0.3960784313725491,
           0.9176470588235294,
           0.9176470588235294,
           0.25098039215686274,
           0,
           0
          ],
          [
           0,
           0,
           0,
           0,
           0,
           -0.2627450980392157,
           -2.105882352941176,
           -2.3333333333333335,
           -0.2980392156862746,
           -0.3803921568627451,
           -0.5725490196078431,
           0.18823529411764706,
           1.1647058823529413,
           1.0823529411764707,
           -0.31764705882352945,
           -0.8274509803921567,
           1.7647058823529411,
           2.211764705882353,
           0.04313725490196074,
           0.10196078431372552,
           0.16862745098039217,
           0.2196078431372549,
           0.15294117647058825,
           0,
           0,
           0
          ],
          [
           0,
           0,
           0,
           0,
           0,
           -0.07058823529411765,
           -1.172549019607843,
           -1.5882352941176472,
           -0.24313725490196086,
           -0.9294117647058823,
           -1.5607843137254902,
           0.43921568627450974,
           2.1568627450980395,
           1.4352941176470588,
           -0.3176470588235294,
           -0.8352941176470587,
           1.1372549019607843,
           1.549019607843137,
           0,
           0,
           0,
           0,
           0,
           0,
           0,
           0
          ],
          [
           0,
           0,
           0,
           0,
           0,
           0,
           -0.3137254901960784,
           -0.6666666666666667,
           -0.10980392156862746,
           -1.4745098039215685,
           -2.552941176470588,
           0.23921568627450962,
           2.9254901960784316,
           1.9019607843137256,
           -0.11764705882352942,
           -0.6039215686274509,
           0.16862745098039217,
           0.6039215686274509,
           0,
           0,
           0,
           0,
           0,
           0,
           0,
           0
          ],
          [
           0,
           0,
           0,
           0,
           0,
           0,
           0,
           -0.054901960784313725,
           -0.00392156862745098,
           -1.1372549019607843,
           -2.7254901960784315,
           -0.8980392156862746,
           2.447058823529412,
           2.0901960784313727,
           0.2823529411764706,
           0,
           0,
           0,
           0,
           0,
           0,
           0,
           0,
           0,
           0,
           0
          ],
          [
           0,
           0,
           0,
           0,
           0,
           0,
           0,
           0,
           0,
           -0.588235294117647,
           -1.8745098039215686,
           -2.0941176470588236,
           0.7098039215686276,
           2.054901960784314,
           0.7411764705882351,
           0.6235294117647059,
           0.4235294117647059,
           0.00392156862745098,
           0,
           0,
           0,
           0,
           0,
           0,
           0,
           0
          ],
          [
           0,
           0,
           0,
           0,
           0,
           0,
           0,
           0,
           0,
           -0.043137254901960784,
           -0.8823529411764706,
           -2.211764705882353,
           -1.215686274509804,
           0.6352941176470588,
           0.6823529411764706,
           1.1490196078431372,
           1.3176470588235294,
           0.47058823529411764,
           0.09803921568627451,
           0,
           0,
           0,
           0,
           0,
           0,
           0
          ],
          [
           0,
           0,
           0,
           0,
           0,
           0,
           0,
           0,
           0,
           0,
           -0.13725490196078433,
           -1.2627450980392156,
           -1.8627450980392157,
           -1.0862745098039217,
           -0.40784313725490207,
           0.8862745098039215,
           1.7215686274509805,
           1.3568627450980393,
           0.6862745098039216,
           0.10588235294117647,
           0,
           0,
           0,
           0,
           0,
           0
          ],
          [
           0,
           0,
           0,
           0,
           0,
           0,
           0,
           0,
           0,
           0,
           0,
           -0.3176470588235294,
           -1.1176470588235294,
           -1.4666666666666666,
           -1.231372549019608,
           -0.6627450980392158,
           0.6705882352941175,
           1.607843137254902,
           1.6784313725490199,
           0.8392156862745097,
           0,
           0,
           0,
           0,
           0,
           0
          ],
          [
           0,
           0,
           0,
           0,
           0,
           0,
           0,
           0,
           0,
           0,
           0,
           0,
           -0.17647058823529413,
           -0.792156862745098,
           -1.1803921568627451,
           -2.1647058823529415,
           -1.215686274509804,
           1.1411764705882352,
           2.3215686274509806,
           1.8156862745098037,
           0.25098039215686274,
           0,
           0,
           0,
           0,
           0
          ],
          [
           0,
           0,
           0,
           0,
           0,
           0,
           0,
           0,
           0,
           0,
           0,
           0,
           -0.1803921568627451,
           -0.5725490196078431,
           -0.9019607843137255,
           -2.384313725490196,
           -1.8941176470588237,
           0.43529411764705883,
           2.7176470588235295,
           2.5215686274509803,
           0.2588235294117647,
           0,
           0,
           0,
           0,
           0
          ],
          [
           0,
           0,
           0,
           0,
           0,
           0,
           0,
           0,
           0,
           0,
           -0.15294117647058825,
           -0.5803921568627451,
           -0.9254901960784314,
           -0.9215686274509803,
           -0.6313725490196078,
           -1.4588235294117649,
           -1.2549019607843137,
           0.45882352941176474,
           2.7058823529411766,
           2.5019607843137255,
           0.2588235294117647,
           0,
           0,
           0,
           0,
           0
          ],
          [
           0,
           0,
           0,
           0,
           0,
           0,
           0,
           0,
           -0.09411764705882353,
           -0.4470588235294118,
           -0.9254901960784314,
           -1.1254901960784314,
           -1.0509803921568628,
           -0.9215686274509803,
           -0.6313725490196078,
           -0.2784313725490196,
           0.42352941176470593,
           1.2470588235294118,
           2.2705882352941176,
           1.5254901960784313,
           0.00784313725490196,
           0,
           0,
           0,
           0,
           0
          ],
          [
           0,
           0,
           0,
           0,
           0,
           0,
           -0.09019607843137255,
           -0.25882352941176473,
           -0.8392156862745098,
           -1.1803921568627451,
           -1.0823529411764707,
           -1.1254901960784314,
           -0.8705882352941177,
           -0.196078431372549,
           0.5803921568627451,
           0.9725490196078432,
           1.0156862745098039,
           1.0745098039215686,
           1.2862745098039214,
           0.7137254901960784,
           0,
           0,
           0,
           0,
           0,
           0
          ],
          [
           0,
           0,
           0,
           0,
           -0.07058823529411765,
           -0.6705882352941176,
           -0.8784313725490196,
           -0.5803921568627453,
           -0.9725490196078432,
           -1.1803921568627451,
           -0.9294117647058824,
           -0.31764705882352934,
           0.5529411764705883,
           0.9450980392156862,
           0.9882352941176471,
           1.007843137254902,
           1.003921568627451,
           0.796078431372549,
           0.3058823529411765,
           0,
           0,
           0,
           0,
           0,
           0,
           0
          ],
          [
           0,
           0,
           -0.21568627450980393,
           -0.6745098039215687,
           -0.7411764705882352,
           -0.988235294117647,
           -0.9843137254901961,
           -0.5803921568627451,
           -0.8784313725490197,
           -0.6980392156862745,
           0.3137254901960784,
           1.1411764705882355,
           1.2000000000000002,
           0.988235294117647,
           0.9882352941176471,
           0.803921568627451,
           0.3176470588235294,
           0.00784313725490196,
           0,
           0,
           0,
           0,
           0,
           0,
           0,
           0
          ],
          [
           0,
           0,
           -0.7490196078431373,
           -1.6666666666666667,
           -1.2,
           -0.988235294117647,
           -0.7333333333333334,
           0.14117647058823524,
           0.180392156862745,
           0.5019607843137255,
           0.9882352941176471,
           1.2039215686274511,
           1.2000000000000002,
           0.7725490196078431,
           0.3137254901960784,
           0.03529411764705882,
           0,
           0,
           0,
           0,
           0,
           0,
           0,
           0,
           0,
           0
          ],
          [
           0,
           0,
           -0.7490196078431373,
           -1.6666666666666667,
           -1.1294117647058823,
           -0.3176470588235294,
           0.05490196078431364,
           0.4627450980392157,
           0.3137254901960784,
           0.5019607843137255,
           0.9882352941176471,
           0.9764705882352942,
           0.5215686274509804,
           0.043137254901960784,
           0,
           0,
           0,
           0,
           0,
           0,
           0,
           0,
           0,
           0,
           0,
           0
          ],
          [
           0,
           0,
           -0.5333333333333333,
           -0.9921568627450981,
           -0.45882352941176474,
           0,
           0.16078431372549018,
           0.4627450980392157,
           0.3137254901960784,
           0.4666666666666667,
           0.5176470588235295,
           0.06274509803921569,
           0,
           0,
           0,
           0,
           0,
           0,
           0,
           0,
           0,
           0,
           0,
           0,
           0,
           0
          ],
          [
           0,
           0,
           0,
           0,
           0,
           0,
           0,
           0,
           0,
           0,
           0,
           0,
           0,
           0,
           0,
           0,
           0,
           0,
           0,
           0,
           0,
           0,
           0,
           0,
           0,
           0
          ]
         ]
        }
       ],
       "layout": {
        "annotations": [
         {
          "font": {},
          "showarrow": false,
          "text": "Scipy Correlation",
          "x": 0.245,
          "xanchor": "center",
          "xref": "paper",
          "y": 1,
          "yanchor": "bottom",
          "yref": "paper"
         },
         {
          "font": {},
          "showarrow": false,
          "text": "Custom Correlation",
          "x": 0.755,
          "xanchor": "center",
          "xref": "paper",
          "y": 1,
          "yanchor": "bottom",
          "yref": "paper"
         }
        ],
        "coloraxis": {
         "colorscale": [
          [
           0,
           "#0d0887"
          ],
          [
           0.1111111111111111,
           "#46039f"
          ],
          [
           0.2222222222222222,
           "#7201a8"
          ],
          [
           0.3333333333333333,
           "#9c179e"
          ],
          [
           0.4444444444444444,
           "#bd3786"
          ],
          [
           0.5555555555555556,
           "#d8576b"
          ],
          [
           0.6666666666666666,
           "#ed7953"
          ],
          [
           0.7777777777777778,
           "#fb9f3a"
          ],
          [
           0.8888888888888888,
           "#fdca26"
          ],
          [
           1,
           "#f0f921"
          ]
         ]
        },
        "margin": {
         "t": 60
        },
        "template": {
         "data": {
          "bar": [
           {
            "error_x": {
             "color": "#2a3f5f"
            },
            "error_y": {
             "color": "#2a3f5f"
            },
            "marker": {
             "line": {
              "color": "#E5ECF6",
              "width": 0.5
             },
             "pattern": {
              "fillmode": "overlay",
              "size": 10,
              "solidity": 0.2
             }
            },
            "type": "bar"
           }
          ],
          "barpolar": [
           {
            "marker": {
             "line": {
              "color": "#E5ECF6",
              "width": 0.5
             },
             "pattern": {
              "fillmode": "overlay",
              "size": 10,
              "solidity": 0.2
             }
            },
            "type": "barpolar"
           }
          ],
          "carpet": [
           {
            "aaxis": {
             "endlinecolor": "#2a3f5f",
             "gridcolor": "white",
             "linecolor": "white",
             "minorgridcolor": "white",
             "startlinecolor": "#2a3f5f"
            },
            "baxis": {
             "endlinecolor": "#2a3f5f",
             "gridcolor": "white",
             "linecolor": "white",
             "minorgridcolor": "white",
             "startlinecolor": "#2a3f5f"
            },
            "type": "carpet"
           }
          ],
          "choropleth": [
           {
            "colorbar": {
             "outlinewidth": 0,
             "ticks": ""
            },
            "type": "choropleth"
           }
          ],
          "contour": [
           {
            "colorbar": {
             "outlinewidth": 0,
             "ticks": ""
            },
            "colorscale": [
             [
              0,
              "#0d0887"
             ],
             [
              0.1111111111111111,
              "#46039f"
             ],
             [
              0.2222222222222222,
              "#7201a8"
             ],
             [
              0.3333333333333333,
              "#9c179e"
             ],
             [
              0.4444444444444444,
              "#bd3786"
             ],
             [
              0.5555555555555556,
              "#d8576b"
             ],
             [
              0.6666666666666666,
              "#ed7953"
             ],
             [
              0.7777777777777778,
              "#fb9f3a"
             ],
             [
              0.8888888888888888,
              "#fdca26"
             ],
             [
              1,
              "#f0f921"
             ]
            ],
            "type": "contour"
           }
          ],
          "contourcarpet": [
           {
            "colorbar": {
             "outlinewidth": 0,
             "ticks": ""
            },
            "type": "contourcarpet"
           }
          ],
          "heatmap": [
           {
            "colorbar": {
             "outlinewidth": 0,
             "ticks": ""
            },
            "colorscale": [
             [
              0,
              "#0d0887"
             ],
             [
              0.1111111111111111,
              "#46039f"
             ],
             [
              0.2222222222222222,
              "#7201a8"
             ],
             [
              0.3333333333333333,
              "#9c179e"
             ],
             [
              0.4444444444444444,
              "#bd3786"
             ],
             [
              0.5555555555555556,
              "#d8576b"
             ],
             [
              0.6666666666666666,
              "#ed7953"
             ],
             [
              0.7777777777777778,
              "#fb9f3a"
             ],
             [
              0.8888888888888888,
              "#fdca26"
             ],
             [
              1,
              "#f0f921"
             ]
            ],
            "type": "heatmap"
           }
          ],
          "heatmapgl": [
           {
            "colorbar": {
             "outlinewidth": 0,
             "ticks": ""
            },
            "colorscale": [
             [
              0,
              "#0d0887"
             ],
             [
              0.1111111111111111,
              "#46039f"
             ],
             [
              0.2222222222222222,
              "#7201a8"
             ],
             [
              0.3333333333333333,
              "#9c179e"
             ],
             [
              0.4444444444444444,
              "#bd3786"
             ],
             [
              0.5555555555555556,
              "#d8576b"
             ],
             [
              0.6666666666666666,
              "#ed7953"
             ],
             [
              0.7777777777777778,
              "#fb9f3a"
             ],
             [
              0.8888888888888888,
              "#fdca26"
             ],
             [
              1,
              "#f0f921"
             ]
            ],
            "type": "heatmapgl"
           }
          ],
          "histogram": [
           {
            "marker": {
             "pattern": {
              "fillmode": "overlay",
              "size": 10,
              "solidity": 0.2
             }
            },
            "type": "histogram"
           }
          ],
          "histogram2d": [
           {
            "colorbar": {
             "outlinewidth": 0,
             "ticks": ""
            },
            "colorscale": [
             [
              0,
              "#0d0887"
             ],
             [
              0.1111111111111111,
              "#46039f"
             ],
             [
              0.2222222222222222,
              "#7201a8"
             ],
             [
              0.3333333333333333,
              "#9c179e"
             ],
             [
              0.4444444444444444,
              "#bd3786"
             ],
             [
              0.5555555555555556,
              "#d8576b"
             ],
             [
              0.6666666666666666,
              "#ed7953"
             ],
             [
              0.7777777777777778,
              "#fb9f3a"
             ],
             [
              0.8888888888888888,
              "#fdca26"
             ],
             [
              1,
              "#f0f921"
             ]
            ],
            "type": "histogram2d"
           }
          ],
          "histogram2dcontour": [
           {
            "colorbar": {
             "outlinewidth": 0,
             "ticks": ""
            },
            "colorscale": [
             [
              0,
              "#0d0887"
             ],
             [
              0.1111111111111111,
              "#46039f"
             ],
             [
              0.2222222222222222,
              "#7201a8"
             ],
             [
              0.3333333333333333,
              "#9c179e"
             ],
             [
              0.4444444444444444,
              "#bd3786"
             ],
             [
              0.5555555555555556,
              "#d8576b"
             ],
             [
              0.6666666666666666,
              "#ed7953"
             ],
             [
              0.7777777777777778,
              "#fb9f3a"
             ],
             [
              0.8888888888888888,
              "#fdca26"
             ],
             [
              1,
              "#f0f921"
             ]
            ],
            "type": "histogram2dcontour"
           }
          ],
          "mesh3d": [
           {
            "colorbar": {
             "outlinewidth": 0,
             "ticks": ""
            },
            "type": "mesh3d"
           }
          ],
          "parcoords": [
           {
            "line": {
             "colorbar": {
              "outlinewidth": 0,
              "ticks": ""
             }
            },
            "type": "parcoords"
           }
          ],
          "pie": [
           {
            "automargin": true,
            "type": "pie"
           }
          ],
          "scatter": [
           {
            "fillpattern": {
             "fillmode": "overlay",
             "size": 10,
             "solidity": 0.2
            },
            "type": "scatter"
           }
          ],
          "scatter3d": [
           {
            "line": {
             "colorbar": {
              "outlinewidth": 0,
              "ticks": ""
             }
            },
            "marker": {
             "colorbar": {
              "outlinewidth": 0,
              "ticks": ""
             }
            },
            "type": "scatter3d"
           }
          ],
          "scattercarpet": [
           {
            "marker": {
             "colorbar": {
              "outlinewidth": 0,
              "ticks": ""
             }
            },
            "type": "scattercarpet"
           }
          ],
          "scattergeo": [
           {
            "marker": {
             "colorbar": {
              "outlinewidth": 0,
              "ticks": ""
             }
            },
            "type": "scattergeo"
           }
          ],
          "scattergl": [
           {
            "marker": {
             "colorbar": {
              "outlinewidth": 0,
              "ticks": ""
             }
            },
            "type": "scattergl"
           }
          ],
          "scattermapbox": [
           {
            "marker": {
             "colorbar": {
              "outlinewidth": 0,
              "ticks": ""
             }
            },
            "type": "scattermapbox"
           }
          ],
          "scatterpolar": [
           {
            "marker": {
             "colorbar": {
              "outlinewidth": 0,
              "ticks": ""
             }
            },
            "type": "scatterpolar"
           }
          ],
          "scatterpolargl": [
           {
            "marker": {
             "colorbar": {
              "outlinewidth": 0,
              "ticks": ""
             }
            },
            "type": "scatterpolargl"
           }
          ],
          "scatterternary": [
           {
            "marker": {
             "colorbar": {
              "outlinewidth": 0,
              "ticks": ""
             }
            },
            "type": "scatterternary"
           }
          ],
          "surface": [
           {
            "colorbar": {
             "outlinewidth": 0,
             "ticks": ""
            },
            "colorscale": [
             [
              0,
              "#0d0887"
             ],
             [
              0.1111111111111111,
              "#46039f"
             ],
             [
              0.2222222222222222,
              "#7201a8"
             ],
             [
              0.3333333333333333,
              "#9c179e"
             ],
             [
              0.4444444444444444,
              "#bd3786"
             ],
             [
              0.5555555555555556,
              "#d8576b"
             ],
             [
              0.6666666666666666,
              "#ed7953"
             ],
             [
              0.7777777777777778,
              "#fb9f3a"
             ],
             [
              0.8888888888888888,
              "#fdca26"
             ],
             [
              1,
              "#f0f921"
             ]
            ],
            "type": "surface"
           }
          ],
          "table": [
           {
            "cells": {
             "fill": {
              "color": "#EBF0F8"
             },
             "line": {
              "color": "white"
             }
            },
            "header": {
             "fill": {
              "color": "#C8D4E3"
             },
             "line": {
              "color": "white"
             }
            },
            "type": "table"
           }
          ]
         },
         "layout": {
          "annotationdefaults": {
           "arrowcolor": "#2a3f5f",
           "arrowhead": 0,
           "arrowwidth": 1
          },
          "autotypenumbers": "strict",
          "coloraxis": {
           "colorbar": {
            "outlinewidth": 0,
            "ticks": ""
           }
          },
          "colorscale": {
           "diverging": [
            [
             0,
             "#8e0152"
            ],
            [
             0.1,
             "#c51b7d"
            ],
            [
             0.2,
             "#de77ae"
            ],
            [
             0.3,
             "#f1b6da"
            ],
            [
             0.4,
             "#fde0ef"
            ],
            [
             0.5,
             "#f7f7f7"
            ],
            [
             0.6,
             "#e6f5d0"
            ],
            [
             0.7,
             "#b8e186"
            ],
            [
             0.8,
             "#7fbc41"
            ],
            [
             0.9,
             "#4d9221"
            ],
            [
             1,
             "#276419"
            ]
           ],
           "sequential": [
            [
             0,
             "#0d0887"
            ],
            [
             0.1111111111111111,
             "#46039f"
            ],
            [
             0.2222222222222222,
             "#7201a8"
            ],
            [
             0.3333333333333333,
             "#9c179e"
            ],
            [
             0.4444444444444444,
             "#bd3786"
            ],
            [
             0.5555555555555556,
             "#d8576b"
            ],
            [
             0.6666666666666666,
             "#ed7953"
            ],
            [
             0.7777777777777778,
             "#fb9f3a"
            ],
            [
             0.8888888888888888,
             "#fdca26"
            ],
            [
             1,
             "#f0f921"
            ]
           ],
           "sequentialminus": [
            [
             0,
             "#0d0887"
            ],
            [
             0.1111111111111111,
             "#46039f"
            ],
            [
             0.2222222222222222,
             "#7201a8"
            ],
            [
             0.3333333333333333,
             "#9c179e"
            ],
            [
             0.4444444444444444,
             "#bd3786"
            ],
            [
             0.5555555555555556,
             "#d8576b"
            ],
            [
             0.6666666666666666,
             "#ed7953"
            ],
            [
             0.7777777777777778,
             "#fb9f3a"
            ],
            [
             0.8888888888888888,
             "#fdca26"
            ],
            [
             1,
             "#f0f921"
            ]
           ]
          },
          "colorway": [
           "#636efa",
           "#EF553B",
           "#00cc96",
           "#ab63fa",
           "#FFA15A",
           "#19d3f3",
           "#FF6692",
           "#B6E880",
           "#FF97FF",
           "#FECB52"
          ],
          "font": {
           "color": "#2a3f5f"
          },
          "geo": {
           "bgcolor": "white",
           "lakecolor": "white",
           "landcolor": "#E5ECF6",
           "showlakes": true,
           "showland": true,
           "subunitcolor": "white"
          },
          "hoverlabel": {
           "align": "left"
          },
          "hovermode": "closest",
          "mapbox": {
           "style": "light"
          },
          "paper_bgcolor": "white",
          "plot_bgcolor": "#E5ECF6",
          "polar": {
           "angularaxis": {
            "gridcolor": "white",
            "linecolor": "white",
            "ticks": ""
           },
           "bgcolor": "#E5ECF6",
           "radialaxis": {
            "gridcolor": "white",
            "linecolor": "white",
            "ticks": ""
           }
          },
          "scene": {
           "xaxis": {
            "backgroundcolor": "#E5ECF6",
            "gridcolor": "white",
            "gridwidth": 2,
            "linecolor": "white",
            "showbackground": true,
            "ticks": "",
            "zerolinecolor": "white"
           },
           "yaxis": {
            "backgroundcolor": "#E5ECF6",
            "gridcolor": "white",
            "gridwidth": 2,
            "linecolor": "white",
            "showbackground": true,
            "ticks": "",
            "zerolinecolor": "white"
           },
           "zaxis": {
            "backgroundcolor": "#E5ECF6",
            "gridcolor": "white",
            "gridwidth": 2,
            "linecolor": "white",
            "showbackground": true,
            "ticks": "",
            "zerolinecolor": "white"
           }
          },
          "shapedefaults": {
           "line": {
            "color": "#2a3f5f"
           }
          },
          "ternary": {
           "aaxis": {
            "gridcolor": "white",
            "linecolor": "white",
            "ticks": ""
           },
           "baxis": {
            "gridcolor": "white",
            "linecolor": "white",
            "ticks": ""
           },
           "bgcolor": "#E5ECF6",
           "caxis": {
            "gridcolor": "white",
            "linecolor": "white",
            "ticks": ""
           }
          },
          "title": {
           "x": 0.05
          },
          "xaxis": {
           "automargin": true,
           "gridcolor": "white",
           "linecolor": "white",
           "ticks": "",
           "title": {
            "standoff": 15
           },
           "zerolinecolor": "white",
           "zerolinewidth": 2
          },
          "yaxis": {
           "automargin": true,
           "gridcolor": "white",
           "linecolor": "white",
           "ticks": "",
           "title": {
            "standoff": 15
           },
           "zerolinecolor": "white",
           "zerolinewidth": 2
          }
         }
        },
        "xaxis": {
         "anchor": "y",
         "constrain": "domain",
         "domain": [
          0,
          0.49
         ],
         "scaleanchor": "y"
        },
        "xaxis2": {
         "anchor": "y2",
         "domain": [
          0.51,
          1
         ],
         "matches": "x"
        },
        "yaxis": {
         "anchor": "x",
         "autorange": "reversed",
         "constrain": "domain",
         "domain": [
          0,
          1
         ]
        },
        "yaxis2": {
         "anchor": "x2",
         "domain": [
          0,
          1
         ],
         "matches": "y",
         "showticklabels": false
        }
       }
      }
     },
     "metadata": {},
     "output_type": "display_data"
    }
   ],
   "source": [
    "scipy_correlation = correlate2d(input.reshape(28, 28), kernel, mode=\"valid\")\n",
    "custom_correlation = (input[correlation_indices] @ kernel_weights).reshape(nb_horizontal_correlations, nb_vertical_correlations)\n",
    "\n",
    "fig = px.imshow(np.asarray([scipy_correlation, custom_correlation]), facet_col=0)\n",
    "fig.layout.annotations[0]['text'] = \"Scipy Correlation\"\n",
    "fig.layout.annotations[1]['text'] = \"Custom Correlation\"\n",
    "fig.show()"
   ]
  },
  {
   "cell_type": "markdown",
   "metadata": {},
   "source": [
    "## Multiple kernels, single input image, cross correlation implementation"
   ]
  },
  {
   "cell_type": "code",
   "execution_count": 46,
   "metadata": {},
   "outputs": [
    {
     "data": {
      "text/plain": [
       "array([[ 1,  1],\n",
       "       [ 0,  0],\n",
       "       [-1,  1],\n",
       "       [ 1,  0],\n",
       "       [ 0,  0],\n",
       "       [-1,  0],\n",
       "       [ 1, -1],\n",
       "       [ 0,  0],\n",
       "       [-1, -1]])"
      ]
     },
     "execution_count": 46,
     "metadata": {},
     "output_type": "execute_result"
    }
   ],
   "source": [
    "kernels = np.array([\n",
    "    [\n",
    "        [1, 0, -1], \n",
    "        [1, 0, -1],\n",
    "        [1, 0, -1],\n",
    "    ],\n",
    "    [\n",
    "        [1, 0, 1], \n",
    "        [0, 0, 0],\n",
    "        [-1, 0, -1],\n",
    "    ],\n",
    "])\n",
    "kernels_weights = kernels.reshape(2, -1).T\n",
    "kernels_weights"
   ]
  },
  {
   "cell_type": "code",
   "execution_count": 56,
   "metadata": {},
   "outputs": [
    {
     "data": {
      "text/plain": [
       "(676, 2)"
      ]
     },
     "execution_count": 56,
     "metadata": {},
     "output_type": "execute_result"
    }
   ],
   "source": [
    "flatt_cross_correlation = input[correlation_indices] @ kernels_weights\n",
    "flatt_cross_correlation.shape"
   ]
  },
  {
   "cell_type": "code",
   "execution_count": 59,
   "metadata": {},
   "outputs": [
    {
     "data": {
      "text/plain": [
       "(26, 26, 2)"
      ]
     },
     "metadata": {},
     "output_type": "display_data"
    },
    {
     "data": {
      "application/vnd.plotly.v1+json": {
       "config": {
        "plotlyServerURL": "https://plot.ly"
       },
       "data": [
        {
         "coloraxis": "coloraxis",
         "hovertemplate": "x: %{x}<br>y: %{y}<br>color: %{z}<extra></extra>",
         "name": "0",
         "type": "heatmap",
         "xaxis": "x",
         "yaxis": "y",
         "z": [
          [
           0,
           0,
           0,
           0,
           0,
           0,
           0,
           0,
           0,
           0,
           0,
           0,
           0,
           0,
           0,
           0,
           0,
           0,
           0,
           0,
           0,
           0,
           0,
           0,
           0,
           0
          ],
          [
           0,
           0,
           0,
           0,
           0,
           0,
           0,
           0,
           0,
           0,
           0,
           0,
           0,
           0,
           0,
           0,
           0,
           0,
           0,
           0,
           0,
           0,
           0,
           0,
           0,
           0
          ],
          [
           0,
           0,
           0,
           0,
           0,
           0,
           0,
           0,
           0,
           0,
           0,
           0,
           0,
           0,
           0,
           0,
           0,
           0,
           0,
           0,
           0,
           0,
           0,
           0,
           0,
           0
          ],
          [
           0,
           0,
           0,
           0,
           0,
           0,
           0,
           0,
           0,
           0,
           -0.011764705882352941,
           -0.07058823529411765,
           -0.08235294117647059,
           -0.1411764705882353,
           -0.5647058823529412,
           -0.6039215686274509,
           -1.1803921568627451,
           -0.6352941176470588,
           -1.3372549019607844,
           -1.1019607843137256,
           -1.619607843137255,
           -1.4980392156862745,
           -0.9686274509803922,
           -0.4980392156862745,
           0,
           0
          ],
          [
           0,
           0,
           0,
           0,
           0,
           0,
           -0.11764705882352941,
           -0.1411764705882353,
           -0.4862745098039216,
           -0.7450980392156863,
           -1.0352941176470587,
           -1.5960784313725491,
           -1.6588235294117646,
           -1.9843137254901961,
           -1.9843137254901961,
           -1.9843137254901961,
           -1.8745098039215686,
           -1.6666666666666667,
           -1.8745098039215686,
           -1.6235294117647059,
           -1.7568627450980392,
           -1.2,
           -0.7647058823529411,
           -0.25098039215686274,
           0,
           0
          ],
          [
           0,
           0,
           0,
           0,
           0,
           -0.19215686274509805,
           -0.9333333333333333,
           -1.184313725490196,
           -1.9254901960784314,
           -1.9843137254901961,
           -1.9725490196078432,
           -1.9137254901960785,
           -1.9019607843137254,
           -1.843137254901961,
           -1.419607843137255,
           -1.3725490196078431,
           -0.1764705882352941,
           -0.6705882352941177,
           0.6509803921568629,
           0.5607843137254903,
           1.1450980392156862,
           1.2784313725490195,
           0.8156862745098039,
           0.4980392156862745,
           0,
           0
          ],
          [
           0,
           0,
           0,
           0,
           0,
           -0.07058823529411765,
           -0.7411764705882352,
           -0.9215686274509804,
           -1.3647058823529412,
           -1.2392156862745098,
           -0.9490196078431374,
           -0.388235294117647,
           -0.10980392156862762,
           0.2784313725490196,
           0.23921568627450995,
           0.3254901960784313,
           0.9058823529411765,
           0.7215686274509805,
           1.8745098039215686,
           1.6235294117647059,
           1.7568627450980392,
           1.2,
           0.7647058823529411,
           0.25098039215686274,
           0,
           0
          ],
          [
           0,
           0,
           0,
           0,
           0,
           0.19215686274509805,
           0.6196078431372549,
           0.5725490196078431,
           1.192156862745098,
           0.3803921568627451,
           0.5725490196078431,
           0.18823529411764706,
           0.9490196078431373,
           1.1803921568627451,
           1.772549019607843,
           1.3725490196078431,
           1.188235294117647,
           0.7019607843137255,
           0.6862745098039216,
           0.5411764705882354,
           0.47450980392156866,
           0.2196078431372549,
           0.15294117647058825,
           0,
           0,
           0
          ],
          [
           0,
           0,
           0,
           0,
           0,
           0.07058823529411765,
           0.8588235294117647,
           1.007843137254902,
           1.8470588235294119,
           1.3254901960784315,
           0.9882352941176471,
           1.0274509803921568,
           0.776470588235294,
           1.3529411764705883,
           1.7450980392156863,
           1.6588235294117646,
           0.9686274509803922,
           0.9450980392156862,
           0,
           0,
           0,
           0,
           0,
           0,
           0,
           0
          ],
          [
           0,
           0,
           0,
           0,
           0,
           0,
           0.3137254901960784,
           0.611764705882353,
           0.7333333333333334,
           1.058823529411765,
           0.41960784313725497,
           0.5058823529411764,
           0.03529411764705889,
           0.05882352941176472,
           0.203921568627451,
           0.6039215686274509,
           0.16862745098039217,
           0.6039215686274509,
           0,
           0,
           0,
           0,
           0,
           0,
           0,
           0
          ],
          [
           0,
           0,
           0,
           0,
           0,
           0,
           0,
           0.054901960784313725,
           0.00392156862745098,
           0.615686274509804,
           0.25098039215686274,
           -0.07843137254901966,
           -0.027450980392156876,
           -0.6392156862745098,
           -0.27450980392156865,
           0,
           0,
           0,
           0,
           0,
           0,
           0,
           0,
           0,
           0,
           0
          ],
          [
           0,
           0,
           0,
           0,
           0,
           0,
           0,
           0,
           0,
           0.5450980392156862,
           0.8549019607843138,
           0.34509803921568616,
           -0.019607843137254832,
           -0.8274509803921568,
           -1.2980392156862746,
           -0.6313725490196078,
           -0.4235294117647059,
           -0.00392156862745098,
           0,
           0,
           0,
           0,
           0,
           0,
           0,
           0
          ],
          [
           0,
           0,
           0,
           0,
           0,
           0,
           0,
           0,
           0,
           0.043137254901960784,
           0.7450980392156863,
           0.7176470588235295,
           0.07843137254901955,
           -0.3176470588235294,
           -1.6588235294117646,
           -1.4588235294117649,
           -1.0901960784313727,
           -0.4666666666666667,
           -0.09803921568627451,
           0,
           0,
           0,
           0,
           0,
           0,
           0
          ],
          [
           0,
           0,
           0,
           0,
           0,
           0,
           0,
           0,
           0,
           0,
           0.13725490196078433,
           0.9450980392156862,
           0.8431372549019607,
           0.8431372549019608,
           0.13725490196078427,
           -1.0901960784313727,
           -1.156862745098039,
           -1.0941176470588236,
           -0.5882352941176471,
           -0.10588235294117647,
           0,
           0,
           0,
           0,
           0,
           0
          ],
          [
           0,
           0,
           0,
           0,
           0,
           0,
           0,
           0,
           0,
           0,
           0,
           0.3176470588235294,
           0.9411764705882353,
           1.2470588235294118,
           1.5686274509803921,
           0.40784313725490207,
           -0.2666666666666666,
           -1.2549019607843137,
           -0.8941176470588236,
           -0.7333333333333333,
           0,
           0,
           0,
           0,
           0,
           0
          ],
          [
           0,
           0,
           0,
           0,
           0,
           0,
           0,
           0,
           0,
           0,
           0,
           0,
           0.17647058823529413,
           0.7294117647058823,
           1.1686274509803922,
           0.7450980392156864,
           0.5882352941176472,
           -0.8549019607843136,
           -0.6549019607843137,
           -0.8705882352941177,
           -0.25098039215686274,
           0,
           0,
           0,
           0,
           0
          ],
          [
           0,
           0,
           0,
           0,
           0,
           0,
           0,
           0,
           0,
           0,
           0,
           0,
           -0.1803921568627451,
           -0.44705882352941173,
           -0.5333333333333333,
           -0.4509803921568627,
           -0.3529411764705882,
           -0.08235294117647052,
           -0.00784313725490196,
           -0.07843137254901966,
           -0.00784313725490196,
           0,
           0,
           0,
           0,
           0
          ],
          [
           0,
           0,
           0,
           0,
           0,
           0,
           0,
           0,
           0,
           0,
           -0.15294117647058825,
           -0.5803921568627451,
           -1.0509803921568628,
           -1.5725490196078433,
           -1.8901960784313725,
           -1.007843137254902,
           -0.9803921568627451,
           0.24705882352941166,
           0.26274509803921575,
           0.26274509803921564,
           0.25098039215686274,
           0,
           0,
           0,
           0,
           0
          ],
          [
           0,
           0,
           0,
           0,
           0,
           0,
           0,
           0,
           -0.09411764705882353,
           -0.4470588235294118,
           -0.9607843137254902,
           -1.4392156862745098,
           -1.6784313725490196,
           -1.4745098039215687,
           -1.0862745098039217,
           -0.2784313725490196,
           0.41176470588235303,
           1.0156862745098039,
           0.6941176470588235,
           0.8117647058823529,
           0.00784313725490196,
           0,
           0,
           0,
           0,
           0
          ],
          [
           0,
           0,
           0,
           0,
           0,
           0,
           -0.09019607843137255,
           -0.25882352941176473,
           -0.9254901960784314,
           -1.2509803921568627,
           -1.6745098039215687,
           -1.4039215686274509,
           -0.9333333333333333,
           -0.19607843137254888,
           0.580392156862745,
           1.2000000000000002,
           1.6549019607843138,
           1.6980392156862747,
           0.9803921568627451,
           0.7137254901960784,
           0,
           0,
           0,
           0,
           0,
           0
          ],
          [
           0,
           0,
           0,
           0,
           -0.07058823529411765,
           -0.6705882352941176,
           -0.9294117647058823,
           -1.6627450980392156,
           -1.7568627450980392,
           -1.5372549019607844,
           -1.0235294117647058,
           -0.3176470588235294,
           0.5529411764705883,
           1.184313725490196,
           1.6705882352941177,
           1.745098039215686,
           1.2980392156862746,
           0.788235294117647,
           0.3058823529411765,
           0,
           0,
           0,
           0,
           0,
           0,
           0
          ],
          [
           0,
           0,
           -0.21568627450980393,
           -0.6745098039215687,
           -1.1019607843137256,
           -1.6666666666666667,
           -1.788235294117647,
           -1.7254901960784315,
           -1.0588235294117647,
           -0.6980392156862746,
           0.31372549019607854,
           0.984313725490196,
           1.4627450980392158,
           1.7254901960784312,
           1.3098039215686275,
           0.7843137254901961,
           0.3176470588235294,
           0.00784313725490196,
           0,
           0,
           0,
           0,
           0,
           0,
           0,
           0
          ],
          [
           0,
           0,
           -0.5333333333333333,
           -0.9921568627450981,
           -1.4549019607843139,
           -1.3137254901960786,
           -0.8941176470588237,
           0.14117647058823513,
           0.5019607843137254,
           1.3921568627450982,
           1.4666666666666668,
           1.6941176470588235,
           1.3058823529411765,
           0.7999999999999999,
           0.3137254901960784,
           0.03529411764705882,
           0,
           0,
           0,
           0,
           0,
           0,
           0,
           0,
           0,
           0
          ],
          [
           0,
           0,
           0.21568627450980393,
           0.6745098039215687,
           1.1019607843137256,
           1.6666666666666667,
           1.8784313725490196,
           1.9843137254901961,
           1.9843137254901961,
           1.9490196078431374,
           1.5137254901960784,
           1,
           0.5215686274509804,
           0.043137254901960784,
           0,
           0,
           0,
           0,
           0,
           0,
           0,
           0,
           0,
           0,
           0,
           0
          ],
          [
           0,
           0,
           0.5333333333333333,
           0.9921568627450981,
           1.5254901960784313,
           1.9843137254901961,
           1.823529411764706,
           1.5215686274509803,
           1.3490196078431373,
           0.592156862745098,
           0.5176470588235295,
           0.06274509803921569,
           0,
           0,
           0,
           0,
           0,
           0,
           0,
           0,
           0,
           0,
           0,
           0,
           0,
           0
          ],
          [
           0,
           0,
           0,
           0,
           0,
           0,
           0,
           0,
           0,
           0,
           0,
           0,
           0,
           0,
           0,
           0,
           0,
           0,
           0,
           0,
           0,
           0,
           0,
           0,
           0,
           0
          ]
         ]
        }
       ],
       "layout": {
        "coloraxis": {
         "colorscale": [
          [
           0,
           "#0d0887"
          ],
          [
           0.1111111111111111,
           "#46039f"
          ],
          [
           0.2222222222222222,
           "#7201a8"
          ],
          [
           0.3333333333333333,
           "#9c179e"
          ],
          [
           0.4444444444444444,
           "#bd3786"
          ],
          [
           0.5555555555555556,
           "#d8576b"
          ],
          [
           0.6666666666666666,
           "#ed7953"
          ],
          [
           0.7777777777777778,
           "#fb9f3a"
          ],
          [
           0.8888888888888888,
           "#fdca26"
          ],
          [
           1,
           "#f0f921"
          ]
         ]
        },
        "margin": {
         "t": 60
        },
        "template": {
         "data": {
          "bar": [
           {
            "error_x": {
             "color": "#2a3f5f"
            },
            "error_y": {
             "color": "#2a3f5f"
            },
            "marker": {
             "line": {
              "color": "#E5ECF6",
              "width": 0.5
             },
             "pattern": {
              "fillmode": "overlay",
              "size": 10,
              "solidity": 0.2
             }
            },
            "type": "bar"
           }
          ],
          "barpolar": [
           {
            "marker": {
             "line": {
              "color": "#E5ECF6",
              "width": 0.5
             },
             "pattern": {
              "fillmode": "overlay",
              "size": 10,
              "solidity": 0.2
             }
            },
            "type": "barpolar"
           }
          ],
          "carpet": [
           {
            "aaxis": {
             "endlinecolor": "#2a3f5f",
             "gridcolor": "white",
             "linecolor": "white",
             "minorgridcolor": "white",
             "startlinecolor": "#2a3f5f"
            },
            "baxis": {
             "endlinecolor": "#2a3f5f",
             "gridcolor": "white",
             "linecolor": "white",
             "minorgridcolor": "white",
             "startlinecolor": "#2a3f5f"
            },
            "type": "carpet"
           }
          ],
          "choropleth": [
           {
            "colorbar": {
             "outlinewidth": 0,
             "ticks": ""
            },
            "type": "choropleth"
           }
          ],
          "contour": [
           {
            "colorbar": {
             "outlinewidth": 0,
             "ticks": ""
            },
            "colorscale": [
             [
              0,
              "#0d0887"
             ],
             [
              0.1111111111111111,
              "#46039f"
             ],
             [
              0.2222222222222222,
              "#7201a8"
             ],
             [
              0.3333333333333333,
              "#9c179e"
             ],
             [
              0.4444444444444444,
              "#bd3786"
             ],
             [
              0.5555555555555556,
              "#d8576b"
             ],
             [
              0.6666666666666666,
              "#ed7953"
             ],
             [
              0.7777777777777778,
              "#fb9f3a"
             ],
             [
              0.8888888888888888,
              "#fdca26"
             ],
             [
              1,
              "#f0f921"
             ]
            ],
            "type": "contour"
           }
          ],
          "contourcarpet": [
           {
            "colorbar": {
             "outlinewidth": 0,
             "ticks": ""
            },
            "type": "contourcarpet"
           }
          ],
          "heatmap": [
           {
            "colorbar": {
             "outlinewidth": 0,
             "ticks": ""
            },
            "colorscale": [
             [
              0,
              "#0d0887"
             ],
             [
              0.1111111111111111,
              "#46039f"
             ],
             [
              0.2222222222222222,
              "#7201a8"
             ],
             [
              0.3333333333333333,
              "#9c179e"
             ],
             [
              0.4444444444444444,
              "#bd3786"
             ],
             [
              0.5555555555555556,
              "#d8576b"
             ],
             [
              0.6666666666666666,
              "#ed7953"
             ],
             [
              0.7777777777777778,
              "#fb9f3a"
             ],
             [
              0.8888888888888888,
              "#fdca26"
             ],
             [
              1,
              "#f0f921"
             ]
            ],
            "type": "heatmap"
           }
          ],
          "heatmapgl": [
           {
            "colorbar": {
             "outlinewidth": 0,
             "ticks": ""
            },
            "colorscale": [
             [
              0,
              "#0d0887"
             ],
             [
              0.1111111111111111,
              "#46039f"
             ],
             [
              0.2222222222222222,
              "#7201a8"
             ],
             [
              0.3333333333333333,
              "#9c179e"
             ],
             [
              0.4444444444444444,
              "#bd3786"
             ],
             [
              0.5555555555555556,
              "#d8576b"
             ],
             [
              0.6666666666666666,
              "#ed7953"
             ],
             [
              0.7777777777777778,
              "#fb9f3a"
             ],
             [
              0.8888888888888888,
              "#fdca26"
             ],
             [
              1,
              "#f0f921"
             ]
            ],
            "type": "heatmapgl"
           }
          ],
          "histogram": [
           {
            "marker": {
             "pattern": {
              "fillmode": "overlay",
              "size": 10,
              "solidity": 0.2
             }
            },
            "type": "histogram"
           }
          ],
          "histogram2d": [
           {
            "colorbar": {
             "outlinewidth": 0,
             "ticks": ""
            },
            "colorscale": [
             [
              0,
              "#0d0887"
             ],
             [
              0.1111111111111111,
              "#46039f"
             ],
             [
              0.2222222222222222,
              "#7201a8"
             ],
             [
              0.3333333333333333,
              "#9c179e"
             ],
             [
              0.4444444444444444,
              "#bd3786"
             ],
             [
              0.5555555555555556,
              "#d8576b"
             ],
             [
              0.6666666666666666,
              "#ed7953"
             ],
             [
              0.7777777777777778,
              "#fb9f3a"
             ],
             [
              0.8888888888888888,
              "#fdca26"
             ],
             [
              1,
              "#f0f921"
             ]
            ],
            "type": "histogram2d"
           }
          ],
          "histogram2dcontour": [
           {
            "colorbar": {
             "outlinewidth": 0,
             "ticks": ""
            },
            "colorscale": [
             [
              0,
              "#0d0887"
             ],
             [
              0.1111111111111111,
              "#46039f"
             ],
             [
              0.2222222222222222,
              "#7201a8"
             ],
             [
              0.3333333333333333,
              "#9c179e"
             ],
             [
              0.4444444444444444,
              "#bd3786"
             ],
             [
              0.5555555555555556,
              "#d8576b"
             ],
             [
              0.6666666666666666,
              "#ed7953"
             ],
             [
              0.7777777777777778,
              "#fb9f3a"
             ],
             [
              0.8888888888888888,
              "#fdca26"
             ],
             [
              1,
              "#f0f921"
             ]
            ],
            "type": "histogram2dcontour"
           }
          ],
          "mesh3d": [
           {
            "colorbar": {
             "outlinewidth": 0,
             "ticks": ""
            },
            "type": "mesh3d"
           }
          ],
          "parcoords": [
           {
            "line": {
             "colorbar": {
              "outlinewidth": 0,
              "ticks": ""
             }
            },
            "type": "parcoords"
           }
          ],
          "pie": [
           {
            "automargin": true,
            "type": "pie"
           }
          ],
          "scatter": [
           {
            "fillpattern": {
             "fillmode": "overlay",
             "size": 10,
             "solidity": 0.2
            },
            "type": "scatter"
           }
          ],
          "scatter3d": [
           {
            "line": {
             "colorbar": {
              "outlinewidth": 0,
              "ticks": ""
             }
            },
            "marker": {
             "colorbar": {
              "outlinewidth": 0,
              "ticks": ""
             }
            },
            "type": "scatter3d"
           }
          ],
          "scattercarpet": [
           {
            "marker": {
             "colorbar": {
              "outlinewidth": 0,
              "ticks": ""
             }
            },
            "type": "scattercarpet"
           }
          ],
          "scattergeo": [
           {
            "marker": {
             "colorbar": {
              "outlinewidth": 0,
              "ticks": ""
             }
            },
            "type": "scattergeo"
           }
          ],
          "scattergl": [
           {
            "marker": {
             "colorbar": {
              "outlinewidth": 0,
              "ticks": ""
             }
            },
            "type": "scattergl"
           }
          ],
          "scattermapbox": [
           {
            "marker": {
             "colorbar": {
              "outlinewidth": 0,
              "ticks": ""
             }
            },
            "type": "scattermapbox"
           }
          ],
          "scatterpolar": [
           {
            "marker": {
             "colorbar": {
              "outlinewidth": 0,
              "ticks": ""
             }
            },
            "type": "scatterpolar"
           }
          ],
          "scatterpolargl": [
           {
            "marker": {
             "colorbar": {
              "outlinewidth": 0,
              "ticks": ""
             }
            },
            "type": "scatterpolargl"
           }
          ],
          "scatterternary": [
           {
            "marker": {
             "colorbar": {
              "outlinewidth": 0,
              "ticks": ""
             }
            },
            "type": "scatterternary"
           }
          ],
          "surface": [
           {
            "colorbar": {
             "outlinewidth": 0,
             "ticks": ""
            },
            "colorscale": [
             [
              0,
              "#0d0887"
             ],
             [
              0.1111111111111111,
              "#46039f"
             ],
             [
              0.2222222222222222,
              "#7201a8"
             ],
             [
              0.3333333333333333,
              "#9c179e"
             ],
             [
              0.4444444444444444,
              "#bd3786"
             ],
             [
              0.5555555555555556,
              "#d8576b"
             ],
             [
              0.6666666666666666,
              "#ed7953"
             ],
             [
              0.7777777777777778,
              "#fb9f3a"
             ],
             [
              0.8888888888888888,
              "#fdca26"
             ],
             [
              1,
              "#f0f921"
             ]
            ],
            "type": "surface"
           }
          ],
          "table": [
           {
            "cells": {
             "fill": {
              "color": "#EBF0F8"
             },
             "line": {
              "color": "white"
             }
            },
            "header": {
             "fill": {
              "color": "#C8D4E3"
             },
             "line": {
              "color": "white"
             }
            },
            "type": "table"
           }
          ]
         },
         "layout": {
          "annotationdefaults": {
           "arrowcolor": "#2a3f5f",
           "arrowhead": 0,
           "arrowwidth": 1
          },
          "autotypenumbers": "strict",
          "coloraxis": {
           "colorbar": {
            "outlinewidth": 0,
            "ticks": ""
           }
          },
          "colorscale": {
           "diverging": [
            [
             0,
             "#8e0152"
            ],
            [
             0.1,
             "#c51b7d"
            ],
            [
             0.2,
             "#de77ae"
            ],
            [
             0.3,
             "#f1b6da"
            ],
            [
             0.4,
             "#fde0ef"
            ],
            [
             0.5,
             "#f7f7f7"
            ],
            [
             0.6,
             "#e6f5d0"
            ],
            [
             0.7,
             "#b8e186"
            ],
            [
             0.8,
             "#7fbc41"
            ],
            [
             0.9,
             "#4d9221"
            ],
            [
             1,
             "#276419"
            ]
           ],
           "sequential": [
            [
             0,
             "#0d0887"
            ],
            [
             0.1111111111111111,
             "#46039f"
            ],
            [
             0.2222222222222222,
             "#7201a8"
            ],
            [
             0.3333333333333333,
             "#9c179e"
            ],
            [
             0.4444444444444444,
             "#bd3786"
            ],
            [
             0.5555555555555556,
             "#d8576b"
            ],
            [
             0.6666666666666666,
             "#ed7953"
            ],
            [
             0.7777777777777778,
             "#fb9f3a"
            ],
            [
             0.8888888888888888,
             "#fdca26"
            ],
            [
             1,
             "#f0f921"
            ]
           ],
           "sequentialminus": [
            [
             0,
             "#0d0887"
            ],
            [
             0.1111111111111111,
             "#46039f"
            ],
            [
             0.2222222222222222,
             "#7201a8"
            ],
            [
             0.3333333333333333,
             "#9c179e"
            ],
            [
             0.4444444444444444,
             "#bd3786"
            ],
            [
             0.5555555555555556,
             "#d8576b"
            ],
            [
             0.6666666666666666,
             "#ed7953"
            ],
            [
             0.7777777777777778,
             "#fb9f3a"
            ],
            [
             0.8888888888888888,
             "#fdca26"
            ],
            [
             1,
             "#f0f921"
            ]
           ]
          },
          "colorway": [
           "#636efa",
           "#EF553B",
           "#00cc96",
           "#ab63fa",
           "#FFA15A",
           "#19d3f3",
           "#FF6692",
           "#B6E880",
           "#FF97FF",
           "#FECB52"
          ],
          "font": {
           "color": "#2a3f5f"
          },
          "geo": {
           "bgcolor": "white",
           "lakecolor": "white",
           "landcolor": "#E5ECF6",
           "showlakes": true,
           "showland": true,
           "subunitcolor": "white"
          },
          "hoverlabel": {
           "align": "left"
          },
          "hovermode": "closest",
          "mapbox": {
           "style": "light"
          },
          "paper_bgcolor": "white",
          "plot_bgcolor": "#E5ECF6",
          "polar": {
           "angularaxis": {
            "gridcolor": "white",
            "linecolor": "white",
            "ticks": ""
           },
           "bgcolor": "#E5ECF6",
           "radialaxis": {
            "gridcolor": "white",
            "linecolor": "white",
            "ticks": ""
           }
          },
          "scene": {
           "xaxis": {
            "backgroundcolor": "#E5ECF6",
            "gridcolor": "white",
            "gridwidth": 2,
            "linecolor": "white",
            "showbackground": true,
            "ticks": "",
            "zerolinecolor": "white"
           },
           "yaxis": {
            "backgroundcolor": "#E5ECF6",
            "gridcolor": "white",
            "gridwidth": 2,
            "linecolor": "white",
            "showbackground": true,
            "ticks": "",
            "zerolinecolor": "white"
           },
           "zaxis": {
            "backgroundcolor": "#E5ECF6",
            "gridcolor": "white",
            "gridwidth": 2,
            "linecolor": "white",
            "showbackground": true,
            "ticks": "",
            "zerolinecolor": "white"
           }
          },
          "shapedefaults": {
           "line": {
            "color": "#2a3f5f"
           }
          },
          "ternary": {
           "aaxis": {
            "gridcolor": "white",
            "linecolor": "white",
            "ticks": ""
           },
           "baxis": {
            "gridcolor": "white",
            "linecolor": "white",
            "ticks": ""
           },
           "bgcolor": "#E5ECF6",
           "caxis": {
            "gridcolor": "white",
            "linecolor": "white",
            "ticks": ""
           }
          },
          "title": {
           "x": 0.05
          },
          "xaxis": {
           "automargin": true,
           "gridcolor": "white",
           "linecolor": "white",
           "ticks": "",
           "title": {
            "standoff": 15
           },
           "zerolinecolor": "white",
           "zerolinewidth": 2
          },
          "yaxis": {
           "automargin": true,
           "gridcolor": "white",
           "linecolor": "white",
           "ticks": "",
           "title": {
            "standoff": 15
           },
           "zerolinecolor": "white",
           "zerolinewidth": 2
          }
         }
        },
        "xaxis": {
         "anchor": "y",
         "constrain": "domain",
         "domain": [
          0,
          1
         ],
         "scaleanchor": "y"
        },
        "yaxis": {
         "anchor": "x",
         "autorange": "reversed",
         "constrain": "domain",
         "domain": [
          0,
          1
         ]
        }
       }
      }
     },
     "metadata": {},
     "output_type": "display_data"
    }
   ],
   "source": [
    "reshaped_cross_correlation = flatt_cross_correlation.reshape(nb_horizontal_correlations, nb_vertical_correlations, -1)\n",
    "display(reshaped_cross_correlation.shape)\n",
    "px.imshow(reshaped_cross_correlation[..., 1])"
   ]
  },
  {
   "cell_type": "code",
   "execution_count": 71,
   "metadata": {},
   "outputs": [
    {
     "data": {
      "text/plain": [
       "(26, 26, 4)"
      ]
     },
     "metadata": {},
     "output_type": "display_data"
    },
    {
     "data": {
      "application/vnd.plotly.v1+json": {
       "config": {
        "plotlyServerURL": "https://plot.ly"
       },
       "data": [
        {
         "coloraxis": "coloraxis",
         "hovertemplate": "x: %{x}<br>y: %{y}<br>color: %{z}<extra></extra>",
         "name": "0",
         "type": "heatmap",
         "xaxis": "x3",
         "yaxis": "y3",
         "z": [
          [
           0,
           0,
           0,
           0,
           0,
           0,
           0,
           0,
           0,
           0,
           0,
           0,
           0,
           0,
           0,
           0,
           0,
           0,
           0,
           0,
           0,
           0,
           0,
           0,
           0,
           0
          ],
          [
           0,
           0,
           0,
           0,
           0,
           0,
           0,
           0,
           0,
           0,
           0,
           0,
           0,
           0,
           0,
           0,
           0,
           0,
           0,
           0,
           0,
           0,
           0,
           0,
           0,
           0
          ],
          [
           0,
           0,
           0,
           0,
           0,
           0,
           0,
           0,
           0,
           0,
           0,
           0,
           0,
           0,
           0,
           0,
           0,
           0,
           0,
           0,
           0,
           0,
           0,
           0,
           0,
           0
          ],
          [
           0,
           0,
           0,
           0,
           0,
           0,
           0,
           0,
           0,
           0,
           -0.011764705882352941,
           -0.07058823529411765,
           -0.058823529411764705,
           0,
           -0.42352941176470593,
           -0.4627450980392157,
           -0.19215686274509802,
           0.43137254901960786,
           0.03529411764705881,
           -0.8980392156862745,
           -0.3176470588235294,
           0.5019607843137255,
           0.9686274509803922,
           0.4980392156862745,
           0,
           0
          ],
          [
           0,
           0,
           0,
           0,
           0,
           0,
           -0.11764705882352941,
           -0.1411764705882353,
           -0.25098039215686274,
           -0.46274509803921565,
           -0.3098039215686274,
           -0.45882352941176474,
           -0.38431372549019616,
           0,
           -0.42352941176470593,
           -0.4627450980392157,
           -0.08235294117647052,
           0.7490196078431373,
           -0.0745098039215687,
           -1.172549019607843,
           -0.09019607843137245,
           1.2,
           1.7333333333333334,
           0.7490196078431373,
           0,
           0
          ],
          [
           0,
           0,
           0,
           0,
           0,
           -0.19215686274509805,
           -1.0509803921568628,
           -0.9411764705882353,
           -0.30980392156862746,
           -0.4627450980392156,
           -0.30980392156862746,
           -0.45882352941176474,
           -0.38431372549019616,
           0,
           -0.42352941176470593,
           -0.45490196078431366,
           0.5450980392156863,
           1.411764705882353,
           -0.031372549019607954,
           -1.0705882352941174,
           0.07843137254901972,
           1.4196078431372547,
           1.8862745098039215,
           0.7490196078431373,
           0,
           0
          ],
          [
           0,
           0,
           0,
           0,
           0,
           -0.2627450980392157,
           -1.9098039215686273,
           -1.8627450980392157,
           -0.4431372549019609,
           -0.4627450980392156,
           -0.29803921568627445,
           -0.3882352941176471,
           -0.1098039215686275,
           0.2784313725490196,
           -0.19215686274509802,
           -0.22352941176470575,
           1.7058823529411766,
           1.9254901960784312,
           -0.06666666666666676,
           -0.17254901960784302,
           0.39607843137254906,
           0.9176470588235294,
           0.9176470588235294,
           0.25098039215686274,
           0,
           0
          ],
          [
           0,
           0,
           0,
           0,
           0,
           -0.2627450980392157,
           -2.105882352941176,
           -2.3333333333333335,
           -0.2980392156862746,
           -0.3803921568627451,
           -0.5725490196078431,
           0.18823529411764706,
           1.1647058823529413,
           1.0823529411764707,
           -0.3176470588235294,
           -0.8274509803921567,
           1.7647058823529413,
           2.2117647058823526,
           0.04313725490196074,
           0.10196078431372552,
           0.16862745098039217,
           0.2196078431372549,
           0.15294117647058825,
           0,
           0,
           0
          ],
          [
           0,
           0,
           0,
           0,
           0,
           -0.07058823529411765,
           -1.172549019607843,
           -1.5882352941176472,
           -0.24313725490196086,
           -0.9294117647058823,
           -1.5607843137254902,
           0.43921568627450974,
           2.1568627450980395,
           1.435294117647059,
           -0.3176470588235294,
           -0.8352941176470587,
           1.1372549019607843,
           1.549019607843137,
           0,
           0,
           0,
           0,
           0,
           0,
           0,
           0
          ],
          [
           0,
           0,
           0,
           0,
           0,
           0,
           -0.3137254901960784,
           -0.6666666666666667,
           -0.10980392156862746,
           -1.4745098039215685,
           -2.552941176470588,
           0.23921568627450962,
           2.9254901960784316,
           1.9019607843137256,
           -0.11764705882352941,
           -0.6039215686274509,
           0.16862745098039217,
           0.6039215686274509,
           0,
           0,
           0,
           0,
           0,
           0,
           0,
           0
          ],
          [
           0,
           0,
           0,
           0,
           0,
           0,
           0,
           -0.054901960784313725,
           -0.00392156862745098,
           -1.1372549019607843,
           -2.7254901960784315,
           -0.8980392156862748,
           2.447058823529412,
           2.0901960784313727,
           0.2823529411764706,
           0,
           0,
           0,
           0,
           0,
           0,
           0,
           0,
           0,
           0,
           0
          ],
          [
           0,
           0,
           0,
           0,
           0,
           0,
           0,
           0,
           0,
           -0.588235294117647,
           -1.8745098039215686,
           -2.0941176470588236,
           0.7098039215686276,
           2.054901960784314,
           0.7411764705882351,
           0.6235294117647059,
           0.4235294117647059,
           0.00392156862745098,
           0,
           0,
           0,
           0,
           0,
           0,
           0,
           0
          ],
          [
           0,
           0,
           0,
           0,
           0,
           0,
           0,
           0,
           0,
           -0.043137254901960784,
           -0.8823529411764706,
           -2.211764705882353,
           -1.2156862745098038,
           0.6352941176470588,
           0.6823529411764704,
           1.1490196078431372,
           1.3176470588235294,
           0.47058823529411764,
           0.09803921568627451,
           0,
           0,
           0,
           0,
           0,
           0,
           0
          ],
          [
           0,
           0,
           0,
           0,
           0,
           0,
           0,
           0,
           0,
           0,
           -0.13725490196078433,
           -1.2627450980392156,
           -1.8627450980392157,
           -1.0862745098039217,
           -0.40784313725490207,
           0.8862745098039215,
           1.72156862745098,
           1.3568627450980393,
           0.6862745098039216,
           0.10588235294117647,
           0,
           0,
           0,
           0,
           0,
           0
          ],
          [
           0,
           0,
           0,
           0,
           0,
           0,
           0,
           0,
           0,
           0,
           0,
           -0.3176470588235294,
           -1.1176470588235294,
           -1.4666666666666666,
           -1.231372549019608,
           -0.6627450980392158,
           0.6705882352941175,
           1.607843137254902,
           1.6784313725490196,
           0.8392156862745097,
           0,
           0,
           0,
           0,
           0,
           0
          ],
          [
           0,
           0,
           0,
           0,
           0,
           0,
           0,
           0,
           0,
           0,
           0,
           0,
           -0.17647058823529413,
           -0.792156862745098,
           -1.1803921568627451,
           -2.1647058823529415,
           -1.215686274509804,
           1.1411764705882352,
           2.3215686274509806,
           1.8156862745098037,
           0.25098039215686274,
           0,
           0,
           0,
           0,
           0
          ],
          [
           0,
           0,
           0,
           0,
           0,
           0,
           0,
           0,
           0,
           0,
           0,
           0,
           -0.1803921568627451,
           -0.5725490196078431,
           -0.9019607843137255,
           -2.384313725490196,
           -1.8941176470588235,
           0.43529411764705883,
           2.7176470588235295,
           2.5215686274509803,
           0.2588235294117647,
           0,
           0,
           0,
           0,
           0
          ],
          [
           0,
           0,
           0,
           0,
           0,
           0,
           0,
           0,
           0,
           0,
           -0.15294117647058825,
           -0.5803921568627451,
           -0.9254901960784314,
           -0.9215686274509803,
           -0.6313725490196078,
           -1.4588235294117649,
           -1.2549019607843137,
           0.45882352941176474,
           2.7058823529411766,
           2.5019607843137255,
           0.2588235294117647,
           0,
           0,
           0,
           0,
           0
          ],
          [
           0,
           0,
           0,
           0,
           0,
           0,
           0,
           0,
           -0.09411764705882353,
           -0.4470588235294118,
           -0.9254901960784314,
           -1.1254901960784314,
           -1.0509803921568628,
           -0.9215686274509803,
           -0.6313725490196078,
           -0.2784313725490196,
           0.42352941176470593,
           1.2470588235294118,
           2.2705882352941176,
           1.5254901960784313,
           0.00784313725490196,
           0,
           0,
           0,
           0,
           0
          ],
          [
           0,
           0,
           0,
           0,
           0,
           0,
           -0.09019607843137255,
           -0.25882352941176473,
           -0.8392156862745098,
           -1.1803921568627451,
           -1.0823529411764707,
           -1.1254901960784314,
           -0.8705882352941177,
           -0.196078431372549,
           0.5803921568627451,
           0.9725490196078432,
           1.0156862745098039,
           1.0745098039215686,
           1.2862745098039214,
           0.7137254901960784,
           0,
           0,
           0,
           0,
           0,
           0
          ],
          [
           0,
           0,
           0,
           0,
           -0.07058823529411765,
           -0.6705882352941176,
           -0.8784313725490196,
           -0.5803921568627453,
           -0.9725490196078432,
           -1.1803921568627451,
           -0.9294117647058824,
           -0.3176470588235294,
           0.5529411764705883,
           0.9450980392156862,
           0.9882352941176471,
           1.0078431372549022,
           1.003921568627451,
           0.796078431372549,
           0.3058823529411765,
           0,
           0,
           0,
           0,
           0,
           0,
           0
          ],
          [
           0,
           0,
           -0.21568627450980393,
           -0.6745098039215687,
           -0.7411764705882352,
           -0.988235294117647,
           -0.9843137254901961,
           -0.5803921568627453,
           -0.8784313725490197,
           -0.6980392156862746,
           0.3137254901960784,
           1.1411764705882355,
           1.2000000000000002,
           0.988235294117647,
           0.9882352941176471,
           0.803921568627451,
           0.3176470588235294,
           0.00784313725490196,
           0,
           0,
           0,
           0,
           0,
           0,
           0,
           0
          ],
          [
           0,
           0,
           -0.7490196078431373,
           -1.6666666666666667,
           -1.2,
           -0.988235294117647,
           -0.7333333333333334,
           0.14117647058823524,
           0.180392156862745,
           0.5019607843137255,
           0.9882352941176471,
           1.2039215686274511,
           1.2000000000000002,
           0.7725490196078431,
           0.3137254901960784,
           0.03529411764705882,
           0,
           0,
           0,
           0,
           0,
           0,
           0,
           0,
           0,
           0
          ],
          [
           0,
           0,
           -0.7490196078431373,
           -1.6666666666666667,
           -1.1294117647058823,
           -0.3176470588235294,
           0.05490196078431364,
           0.4627450980392157,
           0.3137254901960784,
           0.5019607843137255,
           0.9882352941176471,
           0.9764705882352942,
           0.5215686274509804,
           0.043137254901960784,
           0,
           0,
           0,
           0,
           0,
           0,
           0,
           0,
           0,
           0,
           0,
           0
          ],
          [
           0,
           0,
           -0.5333333333333333,
           -0.9921568627450981,
           -0.45882352941176474,
           0,
           0.16078431372549018,
           0.4627450980392157,
           0.3137254901960784,
           0.4666666666666667,
           0.5176470588235295,
           0.06274509803921569,
           0,
           0,
           0,
           0,
           0,
           0,
           0,
           0,
           0,
           0,
           0,
           0,
           0,
           0
          ],
          [
           0,
           0,
           0,
           0,
           0,
           0,
           0,
           0,
           0,
           0,
           0,
           0,
           0,
           0,
           0,
           0,
           0,
           0,
           0,
           0,
           0,
           0,
           0,
           0,
           0,
           0
          ]
         ]
        },
        {
         "coloraxis": "coloraxis",
         "hovertemplate": "x: %{x}<br>y: %{y}<br>color: %{z}<extra></extra>",
         "name": "1",
         "type": "heatmap",
         "xaxis": "x4",
         "yaxis": "y4",
         "z": [
          [
           0,
           0,
           0,
           0,
           0,
           0,
           0,
           0,
           0,
           0,
           0,
           0,
           0,
           0,
           0,
           0,
           0,
           0,
           0,
           0,
           0,
           0,
           0,
           0,
           0,
           0
          ],
          [
           0,
           0,
           0,
           0,
           0,
           0,
           0,
           0,
           0,
           0,
           0,
           0,
           0,
           0,
           0,
           0,
           0,
           0,
           0,
           0,
           0,
           0,
           0,
           0,
           0,
           0
          ],
          [
           0,
           0,
           0,
           0,
           0,
           0,
           0,
           0,
           0,
           0,
           0,
           0,
           0,
           0,
           0,
           0,
           0,
           0,
           0,
           0,
           0,
           0,
           0,
           0,
           0,
           0
          ],
          [
           0,
           0,
           0,
           0,
           0,
           0,
           0,
           0,
           0,
           0,
           -0.011764705882352941,
           -0.07058823529411765,
           -0.08235294117647059,
           -0.1411764705882353,
           -0.5647058823529412,
           -0.6039215686274509,
           -1.1803921568627451,
           -0.6352941176470588,
           -1.3372549019607844,
           -1.1019607843137256,
           -1.619607843137255,
           -1.4980392156862745,
           -0.9686274509803922,
           -0.4980392156862745,
           0,
           0
          ],
          [
           0,
           0,
           0,
           0,
           0,
           0,
           -0.11764705882352941,
           -0.1411764705882353,
           -0.4862745098039216,
           -0.7450980392156863,
           -1.0352941176470587,
           -1.5960784313725491,
           -1.6588235294117646,
           -1.9843137254901961,
           -1.9843137254901961,
           -1.9843137254901961,
           -1.8745098039215686,
           -1.6666666666666667,
           -1.8745098039215686,
           -1.6235294117647059,
           -1.7568627450980392,
           -1.2,
           -0.7647058823529411,
           -0.25098039215686274,
           0,
           0
          ],
          [
           0,
           0,
           0,
           0,
           0,
           -0.19215686274509805,
           -0.9333333333333333,
           -1.184313725490196,
           -1.9254901960784314,
           -1.9843137254901961,
           -1.9725490196078432,
           -1.9137254901960785,
           -1.9019607843137254,
           -1.843137254901961,
           -1.419607843137255,
           -1.3725490196078431,
           -0.1764705882352941,
           -0.6705882352941177,
           0.6509803921568629,
           0.5607843137254903,
           1.1450980392156862,
           1.2784313725490195,
           0.8156862745098039,
           0.4980392156862745,
           0,
           0
          ],
          [
           0,
           0,
           0,
           0,
           0,
           -0.07058823529411765,
           -0.7411764705882352,
           -0.9215686274509804,
           -1.3647058823529412,
           -1.2392156862745098,
           -0.9490196078431374,
           -0.388235294117647,
           -0.10980392156862762,
           0.2784313725490196,
           0.23921568627450995,
           0.3254901960784313,
           0.9058823529411765,
           0.7215686274509805,
           1.8745098039215686,
           1.6235294117647059,
           1.7568627450980392,
           1.2,
           0.7647058823529411,
           0.25098039215686274,
           0,
           0
          ],
          [
           0,
           0,
           0,
           0,
           0,
           0.19215686274509805,
           0.6196078431372549,
           0.5725490196078431,
           1.192156862745098,
           0.3803921568627451,
           0.5725490196078431,
           0.18823529411764706,
           0.9490196078431373,
           1.1803921568627451,
           1.772549019607843,
           1.3725490196078431,
           1.188235294117647,
           0.7019607843137255,
           0.6862745098039216,
           0.5411764705882354,
           0.47450980392156866,
           0.2196078431372549,
           0.15294117647058825,
           0,
           0,
           0
          ],
          [
           0,
           0,
           0,
           0,
           0,
           0.07058823529411765,
           0.8588235294117647,
           1.007843137254902,
           1.8470588235294119,
           1.3254901960784315,
           0.9882352941176471,
           1.0274509803921568,
           0.776470588235294,
           1.3529411764705883,
           1.7450980392156863,
           1.6588235294117646,
           0.9686274509803922,
           0.9450980392156862,
           0,
           0,
           0,
           0,
           0,
           0,
           0,
           0
          ],
          [
           0,
           0,
           0,
           0,
           0,
           0,
           0.3137254901960784,
           0.611764705882353,
           0.7333333333333334,
           1.058823529411765,
           0.41960784313725497,
           0.5058823529411764,
           0.03529411764705889,
           0.05882352941176472,
           0.203921568627451,
           0.6039215686274509,
           0.16862745098039217,
           0.6039215686274509,
           0,
           0,
           0,
           0,
           0,
           0,
           0,
           0
          ],
          [
           0,
           0,
           0,
           0,
           0,
           0,
           0,
           0.054901960784313725,
           0.00392156862745098,
           0.615686274509804,
           0.25098039215686274,
           -0.07843137254901966,
           -0.027450980392156876,
           -0.6392156862745098,
           -0.27450980392156865,
           0,
           0,
           0,
           0,
           0,
           0,
           0,
           0,
           0,
           0,
           0
          ],
          [
           0,
           0,
           0,
           0,
           0,
           0,
           0,
           0,
           0,
           0.5450980392156862,
           0.8549019607843138,
           0.34509803921568616,
           -0.019607843137254832,
           -0.8274509803921568,
           -1.2980392156862746,
           -0.6313725490196078,
           -0.4235294117647059,
           -0.00392156862745098,
           0,
           0,
           0,
           0,
           0,
           0,
           0,
           0
          ],
          [
           0,
           0,
           0,
           0,
           0,
           0,
           0,
           0,
           0,
           0.043137254901960784,
           0.7450980392156863,
           0.7176470588235295,
           0.07843137254901955,
           -0.3176470588235294,
           -1.6588235294117646,
           -1.4588235294117649,
           -1.0901960784313727,
           -0.4666666666666667,
           -0.09803921568627451,
           0,
           0,
           0,
           0,
           0,
           0,
           0
          ],
          [
           0,
           0,
           0,
           0,
           0,
           0,
           0,
           0,
           0,
           0,
           0.13725490196078433,
           0.9450980392156862,
           0.8431372549019607,
           0.8431372549019608,
           0.13725490196078427,
           -1.0901960784313727,
           -1.156862745098039,
           -1.0941176470588236,
           -0.5882352941176471,
           -0.10588235294117647,
           0,
           0,
           0,
           0,
           0,
           0
          ],
          [
           0,
           0,
           0,
           0,
           0,
           0,
           0,
           0,
           0,
           0,
           0,
           0.3176470588235294,
           0.9411764705882353,
           1.2470588235294118,
           1.5686274509803921,
           0.40784313725490207,
           -0.2666666666666666,
           -1.2549019607843137,
           -0.8941176470588236,
           -0.7333333333333333,
           0,
           0,
           0,
           0,
           0,
           0
          ],
          [
           0,
           0,
           0,
           0,
           0,
           0,
           0,
           0,
           0,
           0,
           0,
           0,
           0.17647058823529413,
           0.7294117647058823,
           1.1686274509803922,
           0.7450980392156864,
           0.5882352941176472,
           -0.8549019607843136,
           -0.6549019607843137,
           -0.8705882352941177,
           -0.25098039215686274,
           0,
           0,
           0,
           0,
           0
          ],
          [
           0,
           0,
           0,
           0,
           0,
           0,
           0,
           0,
           0,
           0,
           0,
           0,
           -0.1803921568627451,
           -0.44705882352941173,
           -0.5333333333333333,
           -0.4509803921568627,
           -0.3529411764705882,
           -0.08235294117647052,
           -0.00784313725490196,
           -0.07843137254901966,
           -0.00784313725490196,
           0,
           0,
           0,
           0,
           0
          ],
          [
           0,
           0,
           0,
           0,
           0,
           0,
           0,
           0,
           0,
           0,
           -0.15294117647058825,
           -0.5803921568627451,
           -1.0509803921568628,
           -1.5725490196078433,
           -1.8901960784313725,
           -1.007843137254902,
           -0.9803921568627451,
           0.24705882352941166,
           0.26274509803921575,
           0.26274509803921564,
           0.25098039215686274,
           0,
           0,
           0,
           0,
           0
          ],
          [
           0,
           0,
           0,
           0,
           0,
           0,
           0,
           0,
           -0.09411764705882353,
           -0.4470588235294118,
           -0.9607843137254902,
           -1.4392156862745098,
           -1.6784313725490196,
           -1.4745098039215687,
           -1.0862745098039217,
           -0.2784313725490196,
           0.41176470588235303,
           1.0156862745098039,
           0.6941176470588235,
           0.8117647058823529,
           0.00784313725490196,
           0,
           0,
           0,
           0,
           0
          ],
          [
           0,
           0,
           0,
           0,
           0,
           0,
           -0.09019607843137255,
           -0.25882352941176473,
           -0.9254901960784314,
           -1.2509803921568627,
           -1.6745098039215687,
           -1.4039215686274509,
           -0.9333333333333333,
           -0.19607843137254888,
           0.580392156862745,
           1.2000000000000002,
           1.6549019607843138,
           1.6980392156862747,
           0.9803921568627451,
           0.7137254901960784,
           0,
           0,
           0,
           0,
           0,
           0
          ],
          [
           0,
           0,
           0,
           0,
           -0.07058823529411765,
           -0.6705882352941176,
           -0.9294117647058823,
           -1.6627450980392156,
           -1.7568627450980392,
           -1.5372549019607844,
           -1.0235294117647058,
           -0.3176470588235294,
           0.5529411764705883,
           1.184313725490196,
           1.6705882352941177,
           1.745098039215686,
           1.2980392156862746,
           0.788235294117647,
           0.3058823529411765,
           0,
           0,
           0,
           0,
           0,
           0,
           0
          ],
          [
           0,
           0,
           -0.21568627450980393,
           -0.6745098039215687,
           -1.1019607843137256,
           -1.6666666666666667,
           -1.788235294117647,
           -1.7254901960784315,
           -1.0588235294117647,
           -0.6980392156862746,
           0.31372549019607854,
           0.984313725490196,
           1.4627450980392158,
           1.7254901960784312,
           1.3098039215686275,
           0.7843137254901961,
           0.3176470588235294,
           0.00784313725490196,
           0,
           0,
           0,
           0,
           0,
           0,
           0,
           0
          ],
          [
           0,
           0,
           -0.5333333333333333,
           -0.9921568627450981,
           -1.4549019607843139,
           -1.3137254901960786,
           -0.8941176470588237,
           0.14117647058823513,
           0.5019607843137254,
           1.3921568627450982,
           1.4666666666666668,
           1.6941176470588235,
           1.3058823529411765,
           0.7999999999999999,
           0.3137254901960784,
           0.03529411764705882,
           0,
           0,
           0,
           0,
           0,
           0,
           0,
           0,
           0,
           0
          ],
          [
           0,
           0,
           0.21568627450980393,
           0.6745098039215687,
           1.1019607843137256,
           1.6666666666666667,
           1.8784313725490196,
           1.9843137254901961,
           1.9843137254901961,
           1.9490196078431374,
           1.5137254901960784,
           1,
           0.5215686274509804,
           0.043137254901960784,
           0,
           0,
           0,
           0,
           0,
           0,
           0,
           0,
           0,
           0,
           0,
           0
          ],
          [
           0,
           0,
           0.5333333333333333,
           0.9921568627450981,
           1.5254901960784313,
           1.9843137254901961,
           1.823529411764706,
           1.5215686274509803,
           1.3490196078431373,
           0.592156862745098,
           0.5176470588235295,
           0.06274509803921569,
           0,
           0,
           0,
           0,
           0,
           0,
           0,
           0,
           0,
           0,
           0,
           0,
           0,
           0
          ],
          [
           0,
           0,
           0,
           0,
           0,
           0,
           0,
           0,
           0,
           0,
           0,
           0,
           0,
           0,
           0,
           0,
           0,
           0,
           0,
           0,
           0,
           0,
           0,
           0,
           0,
           0
          ]
         ]
        },
        {
         "coloraxis": "coloraxis",
         "hovertemplate": "x: %{x}<br>y: %{y}<br>color: %{z}<extra></extra>",
         "name": "2",
         "type": "heatmap",
         "xaxis": "x",
         "yaxis": "y",
         "z": [
          [
           0,
           0,
           0,
           0,
           0,
           0,
           0,
           0,
           0,
           0,
           0,
           0,
           0,
           0,
           0,
           0,
           0,
           0,
           0,
           0,
           0,
           0,
           0,
           0,
           0,
           0
          ],
          [
           0,
           0,
           0,
           0,
           0,
           0,
           0,
           0,
           0,
           0,
           0,
           0,
           0,
           0,
           0,
           0,
           0,
           0,
           0,
           0,
           0,
           0,
           0,
           0,
           0,
           0
          ],
          [
           0,
           0,
           0,
           0,
           0,
           0,
           0,
           0,
           0,
           0,
           0,
           0,
           0,
           0,
           0,
           0,
           0,
           0,
           0,
           0,
           0,
           0,
           0,
           0,
           0,
           0
          ],
          [
           0,
           0,
           0,
           0,
           0,
           0,
           0,
           0,
           0,
           0,
           -0.011764705882352941,
           -0.07058823529411765,
           -0.058823529411764705,
           0,
           -0.42352941176470593,
           -0.4627450980392157,
           -0.19215686274509802,
           0.43137254901960786,
           0.03529411764705881,
           -0.8980392156862745,
           -0.3176470588235294,
           0.5019607843137255,
           0.9686274509803922,
           0.4980392156862745,
           0,
           0
          ],
          [
           0,
           0,
           0,
           0,
           0,
           0,
           -0.11764705882352941,
           -0.1411764705882353,
           -0.25098039215686274,
           -0.46274509803921565,
           -0.3098039215686274,
           -0.45882352941176474,
           -0.38431372549019616,
           0,
           -0.42352941176470593,
           -0.4627450980392157,
           -0.08235294117647052,
           0.7490196078431373,
           -0.0745098039215687,
           -1.172549019607843,
           -0.09019607843137245,
           1.2,
           1.7333333333333334,
           0.7490196078431373,
           0,
           0
          ],
          [
           0,
           0,
           0,
           0,
           0,
           -0.19215686274509805,
           -1.0509803921568628,
           -0.9411764705882353,
           -0.30980392156862746,
           -0.4627450980392156,
           -0.30980392156862746,
           -0.45882352941176474,
           -0.38431372549019616,
           0,
           -0.42352941176470593,
           -0.45490196078431366,
           0.5450980392156863,
           1.411764705882353,
           -0.031372549019607954,
           -1.0705882352941174,
           0.07843137254901972,
           1.4196078431372547,
           1.8862745098039215,
           0.7490196078431373,
           0,
           0
          ],
          [
           0,
           0,
           0,
           0,
           0,
           -0.2627450980392157,
           -1.9098039215686273,
           -1.8627450980392157,
           -0.4431372549019609,
           -0.4627450980392156,
           -0.29803921568627445,
           -0.3882352941176471,
           -0.1098039215686275,
           0.2784313725490196,
           -0.19215686274509802,
           -0.22352941176470575,
           1.7058823529411766,
           1.9254901960784312,
           -0.06666666666666676,
           -0.17254901960784302,
           0.39607843137254906,
           0.9176470588235294,
           0.9176470588235294,
           0.25098039215686274,
           0,
           0
          ],
          [
           0,
           0,
           0,
           0,
           0,
           -0.2627450980392157,
           -2.105882352941176,
           -2.3333333333333335,
           -0.2980392156862746,
           -0.3803921568627451,
           -0.5725490196078431,
           0.18823529411764706,
           1.1647058823529413,
           1.0823529411764707,
           -0.3176470588235294,
           -0.8274509803921567,
           1.7647058823529413,
           2.2117647058823526,
           0.04313725490196074,
           0.10196078431372552,
           0.16862745098039217,
           0.2196078431372549,
           0.15294117647058825,
           0,
           0,
           0
          ],
          [
           0,
           0,
           0,
           0,
           0,
           -0.07058823529411765,
           -1.172549019607843,
           -1.5882352941176472,
           -0.24313725490196086,
           -0.9294117647058823,
           -1.5607843137254902,
           0.43921568627450974,
           2.1568627450980395,
           1.435294117647059,
           -0.3176470588235294,
           -0.8352941176470587,
           1.1372549019607843,
           1.549019607843137,
           0,
           0,
           0,
           0,
           0,
           0,
           0,
           0
          ],
          [
           0,
           0,
           0,
           0,
           0,
           0,
           -0.3137254901960784,
           -0.6666666666666667,
           -0.10980392156862746,
           -1.4745098039215685,
           -2.552941176470588,
           0.23921568627450962,
           2.9254901960784316,
           1.9019607843137256,
           -0.11764705882352941,
           -0.6039215686274509,
           0.16862745098039217,
           0.6039215686274509,
           0,
           0,
           0,
           0,
           0,
           0,
           0,
           0
          ],
          [
           0,
           0,
           0,
           0,
           0,
           0,
           0,
           -0.054901960784313725,
           -0.00392156862745098,
           -1.1372549019607843,
           -2.7254901960784315,
           -0.8980392156862748,
           2.447058823529412,
           2.0901960784313727,
           0.2823529411764706,
           0,
           0,
           0,
           0,
           0,
           0,
           0,
           0,
           0,
           0,
           0
          ],
          [
           0,
           0,
           0,
           0,
           0,
           0,
           0,
           0,
           0,
           -0.588235294117647,
           -1.8745098039215686,
           -2.0941176470588236,
           0.7098039215686276,
           2.054901960784314,
           0.7411764705882351,
           0.6235294117647059,
           0.4235294117647059,
           0.00392156862745098,
           0,
           0,
           0,
           0,
           0,
           0,
           0,
           0
          ],
          [
           0,
           0,
           0,
           0,
           0,
           0,
           0,
           0,
           0,
           -0.043137254901960784,
           -0.8823529411764706,
           -2.211764705882353,
           -1.2156862745098038,
           0.6352941176470588,
           0.6823529411764704,
           1.1490196078431372,
           1.3176470588235294,
           0.47058823529411764,
           0.09803921568627451,
           0,
           0,
           0,
           0,
           0,
           0,
           0
          ],
          [
           0,
           0,
           0,
           0,
           0,
           0,
           0,
           0,
           0,
           0,
           -0.13725490196078433,
           -1.2627450980392156,
           -1.8627450980392157,
           -1.0862745098039217,
           -0.40784313725490207,
           0.8862745098039215,
           1.72156862745098,
           1.3568627450980393,
           0.6862745098039216,
           0.10588235294117647,
           0,
           0,
           0,
           0,
           0,
           0
          ],
          [
           0,
           0,
           0,
           0,
           0,
           0,
           0,
           0,
           0,
           0,
           0,
           -0.3176470588235294,
           -1.1176470588235294,
           -1.4666666666666666,
           -1.231372549019608,
           -0.6627450980392158,
           0.6705882352941175,
           1.607843137254902,
           1.6784313725490196,
           0.8392156862745097,
           0,
           0,
           0,
           0,
           0,
           0
          ],
          [
           0,
           0,
           0,
           0,
           0,
           0,
           0,
           0,
           0,
           0,
           0,
           0,
           -0.17647058823529413,
           -0.792156862745098,
           -1.1803921568627451,
           -2.1647058823529415,
           -1.215686274509804,
           1.1411764705882352,
           2.3215686274509806,
           1.8156862745098037,
           0.25098039215686274,
           0,
           0,
           0,
           0,
           0
          ],
          [
           0,
           0,
           0,
           0,
           0,
           0,
           0,
           0,
           0,
           0,
           0,
           0,
           -0.1803921568627451,
           -0.5725490196078431,
           -0.9019607843137255,
           -2.384313725490196,
           -1.8941176470588235,
           0.43529411764705883,
           2.7176470588235295,
           2.5215686274509803,
           0.2588235294117647,
           0,
           0,
           0,
           0,
           0
          ],
          [
           0,
           0,
           0,
           0,
           0,
           0,
           0,
           0,
           0,
           0,
           -0.15294117647058825,
           -0.5803921568627451,
           -0.9254901960784314,
           -0.9215686274509803,
           -0.6313725490196078,
           -1.4588235294117649,
           -1.2549019607843137,
           0.45882352941176474,
           2.7058823529411766,
           2.5019607843137255,
           0.2588235294117647,
           0,
           0,
           0,
           0,
           0
          ],
          [
           0,
           0,
           0,
           0,
           0,
           0,
           0,
           0,
           -0.09411764705882353,
           -0.4470588235294118,
           -0.9254901960784314,
           -1.1254901960784314,
           -1.0509803921568628,
           -0.9215686274509803,
           -0.6313725490196078,
           -0.2784313725490196,
           0.42352941176470593,
           1.2470588235294118,
           2.2705882352941176,
           1.5254901960784313,
           0.00784313725490196,
           0,
           0,
           0,
           0,
           0
          ],
          [
           0,
           0,
           0,
           0,
           0,
           0,
           -0.09019607843137255,
           -0.25882352941176473,
           -0.8392156862745098,
           -1.1803921568627451,
           -1.0823529411764707,
           -1.1254901960784314,
           -0.8705882352941177,
           -0.196078431372549,
           0.5803921568627451,
           0.9725490196078432,
           1.0156862745098039,
           1.0745098039215686,
           1.2862745098039214,
           0.7137254901960784,
           0,
           0,
           0,
           0,
           0,
           0
          ],
          [
           0,
           0,
           0,
           0,
           -0.07058823529411765,
           -0.6705882352941176,
           -0.8784313725490196,
           -0.5803921568627453,
           -0.9725490196078432,
           -1.1803921568627451,
           -0.9294117647058824,
           -0.3176470588235294,
           0.5529411764705883,
           0.9450980392156862,
           0.9882352941176471,
           1.0078431372549022,
           1.003921568627451,
           0.796078431372549,
           0.3058823529411765,
           0,
           0,
           0,
           0,
           0,
           0,
           0
          ],
          [
           0,
           0,
           -0.21568627450980393,
           -0.6745098039215687,
           -0.7411764705882352,
           -0.988235294117647,
           -0.9843137254901961,
           -0.5803921568627453,
           -0.8784313725490197,
           -0.6980392156862746,
           0.3137254901960784,
           1.1411764705882355,
           1.2000000000000002,
           0.988235294117647,
           0.9882352941176471,
           0.803921568627451,
           0.3176470588235294,
           0.00784313725490196,
           0,
           0,
           0,
           0,
           0,
           0,
           0,
           0
          ],
          [
           0,
           0,
           -0.7490196078431373,
           -1.6666666666666667,
           -1.2,
           -0.988235294117647,
           -0.7333333333333334,
           0.14117647058823524,
           0.180392156862745,
           0.5019607843137255,
           0.9882352941176471,
           1.2039215686274511,
           1.2000000000000002,
           0.7725490196078431,
           0.3137254901960784,
           0.03529411764705882,
           0,
           0,
           0,
           0,
           0,
           0,
           0,
           0,
           0,
           0
          ],
          [
           0,
           0,
           -0.7490196078431373,
           -1.6666666666666667,
           -1.1294117647058823,
           -0.3176470588235294,
           0.05490196078431364,
           0.4627450980392157,
           0.3137254901960784,
           0.5019607843137255,
           0.9882352941176471,
           0.9764705882352942,
           0.5215686274509804,
           0.043137254901960784,
           0,
           0,
           0,
           0,
           0,
           0,
           0,
           0,
           0,
           0,
           0,
           0
          ],
          [
           0,
           0,
           -0.5333333333333333,
           -0.9921568627450981,
           -0.45882352941176474,
           0,
           0.16078431372549018,
           0.4627450980392157,
           0.3137254901960784,
           0.4666666666666667,
           0.5176470588235295,
           0.06274509803921569,
           0,
           0,
           0,
           0,
           0,
           0,
           0,
           0,
           0,
           0,
           0,
           0,
           0,
           0
          ],
          [
           0,
           0,
           0,
           0,
           0,
           0,
           0,
           0,
           0,
           0,
           0,
           0,
           0,
           0,
           0,
           0,
           0,
           0,
           0,
           0,
           0,
           0,
           0,
           0,
           0,
           0
          ]
         ]
        },
        {
         "coloraxis": "coloraxis",
         "hovertemplate": "x: %{x}<br>y: %{y}<br>color: %{z}<extra></extra>",
         "name": "3",
         "type": "heatmap",
         "xaxis": "x2",
         "yaxis": "y2",
         "z": [
          [
           0,
           0,
           0,
           0,
           0,
           0,
           0,
           0,
           0,
           0,
           0,
           0,
           0,
           0,
           0,
           0,
           0,
           0,
           0,
           0,
           0,
           0,
           0,
           0,
           0,
           0
          ],
          [
           0,
           0,
           0,
           0,
           0,
           0,
           0,
           0,
           0,
           0,
           0,
           0,
           0,
           0,
           0,
           0,
           0,
           0,
           0,
           0,
           0,
           0,
           0,
           0,
           0,
           0
          ],
          [
           0,
           0,
           0,
           0,
           0,
           0,
           0,
           0,
           0,
           0,
           0,
           0,
           0,
           0,
           0,
           0,
           0,
           0,
           0,
           0,
           0,
           0,
           0,
           0,
           0,
           0
          ],
          [
           0,
           0,
           0,
           0,
           0,
           0,
           0,
           0,
           0,
           0,
           -0.011764705882352941,
           -0.07058823529411765,
           -0.08235294117647059,
           -0.1411764705882353,
           -0.5647058823529412,
           -0.6039215686274509,
           -1.1803921568627451,
           -0.6352941176470588,
           -1.3372549019607844,
           -1.1019607843137256,
           -1.619607843137255,
           -1.4980392156862745,
           -0.9686274509803922,
           -0.4980392156862745,
           0,
           0
          ],
          [
           0,
           0,
           0,
           0,
           0,
           0,
           -0.11764705882352941,
           -0.1411764705882353,
           -0.4862745098039216,
           -0.7450980392156863,
           -1.0352941176470587,
           -1.5960784313725491,
           -1.6588235294117646,
           -1.9843137254901961,
           -1.9843137254901961,
           -1.9843137254901961,
           -1.8745098039215686,
           -1.6666666666666667,
           -1.8745098039215686,
           -1.6235294117647059,
           -1.7568627450980392,
           -1.2,
           -0.7647058823529411,
           -0.25098039215686274,
           0,
           0
          ],
          [
           0,
           0,
           0,
           0,
           0,
           -0.19215686274509805,
           -0.9333333333333333,
           -1.184313725490196,
           -1.9254901960784314,
           -1.9843137254901961,
           -1.9725490196078432,
           -1.9137254901960785,
           -1.9019607843137254,
           -1.843137254901961,
           -1.419607843137255,
           -1.3725490196078431,
           -0.1764705882352941,
           -0.6705882352941177,
           0.6509803921568629,
           0.5607843137254903,
           1.1450980392156862,
           1.2784313725490195,
           0.8156862745098039,
           0.4980392156862745,
           0,
           0
          ],
          [
           0,
           0,
           0,
           0,
           0,
           -0.07058823529411765,
           -0.7411764705882352,
           -0.9215686274509804,
           -1.3647058823529412,
           -1.2392156862745098,
           -0.9490196078431374,
           -0.388235294117647,
           -0.10980392156862762,
           0.2784313725490196,
           0.23921568627450995,
           0.3254901960784313,
           0.9058823529411765,
           0.7215686274509805,
           1.8745098039215686,
           1.6235294117647059,
           1.7568627450980392,
           1.2,
           0.7647058823529411,
           0.25098039215686274,
           0,
           0
          ],
          [
           0,
           0,
           0,
           0,
           0,
           0.19215686274509805,
           0.6196078431372549,
           0.5725490196078431,
           1.192156862745098,
           0.3803921568627451,
           0.5725490196078431,
           0.18823529411764706,
           0.9490196078431373,
           1.1803921568627451,
           1.772549019607843,
           1.3725490196078431,
           1.188235294117647,
           0.7019607843137255,
           0.6862745098039216,
           0.5411764705882354,
           0.47450980392156866,
           0.2196078431372549,
           0.15294117647058825,
           0,
           0,
           0
          ],
          [
           0,
           0,
           0,
           0,
           0,
           0.07058823529411765,
           0.8588235294117647,
           1.007843137254902,
           1.8470588235294119,
           1.3254901960784315,
           0.9882352941176471,
           1.0274509803921568,
           0.776470588235294,
           1.3529411764705883,
           1.7450980392156863,
           1.6588235294117646,
           0.9686274509803922,
           0.9450980392156862,
           0,
           0,
           0,
           0,
           0,
           0,
           0,
           0
          ],
          [
           0,
           0,
           0,
           0,
           0,
           0,
           0.3137254901960784,
           0.611764705882353,
           0.7333333333333334,
           1.058823529411765,
           0.41960784313725497,
           0.5058823529411764,
           0.03529411764705889,
           0.05882352941176472,
           0.203921568627451,
           0.6039215686274509,
           0.16862745098039217,
           0.6039215686274509,
           0,
           0,
           0,
           0,
           0,
           0,
           0,
           0
          ],
          [
           0,
           0,
           0,
           0,
           0,
           0,
           0,
           0.054901960784313725,
           0.00392156862745098,
           0.615686274509804,
           0.25098039215686274,
           -0.07843137254901966,
           -0.027450980392156876,
           -0.6392156862745098,
           -0.27450980392156865,
           0,
           0,
           0,
           0,
           0,
           0,
           0,
           0,
           0,
           0,
           0
          ],
          [
           0,
           0,
           0,
           0,
           0,
           0,
           0,
           0,
           0,
           0.5450980392156862,
           0.8549019607843138,
           0.34509803921568616,
           -0.019607843137254832,
           -0.8274509803921568,
           -1.2980392156862746,
           -0.6313725490196078,
           -0.4235294117647059,
           -0.00392156862745098,
           0,
           0,
           0,
           0,
           0,
           0,
           0,
           0
          ],
          [
           0,
           0,
           0,
           0,
           0,
           0,
           0,
           0,
           0,
           0.043137254901960784,
           0.7450980392156863,
           0.7176470588235295,
           0.07843137254901955,
           -0.3176470588235294,
           -1.6588235294117646,
           -1.4588235294117649,
           -1.0901960784313727,
           -0.4666666666666667,
           -0.09803921568627451,
           0,
           0,
           0,
           0,
           0,
           0,
           0
          ],
          [
           0,
           0,
           0,
           0,
           0,
           0,
           0,
           0,
           0,
           0,
           0.13725490196078433,
           0.9450980392156862,
           0.8431372549019607,
           0.8431372549019608,
           0.13725490196078427,
           -1.0901960784313727,
           -1.156862745098039,
           -1.0941176470588236,
           -0.5882352941176471,
           -0.10588235294117647,
           0,
           0,
           0,
           0,
           0,
           0
          ],
          [
           0,
           0,
           0,
           0,
           0,
           0,
           0,
           0,
           0,
           0,
           0,
           0.3176470588235294,
           0.9411764705882353,
           1.2470588235294118,
           1.5686274509803921,
           0.40784313725490207,
           -0.2666666666666666,
           -1.2549019607843137,
           -0.8941176470588236,
           -0.7333333333333333,
           0,
           0,
           0,
           0,
           0,
           0
          ],
          [
           0,
           0,
           0,
           0,
           0,
           0,
           0,
           0,
           0,
           0,
           0,
           0,
           0.17647058823529413,
           0.7294117647058823,
           1.1686274509803922,
           0.7450980392156864,
           0.5882352941176472,
           -0.8549019607843136,
           -0.6549019607843137,
           -0.8705882352941177,
           -0.25098039215686274,
           0,
           0,
           0,
           0,
           0
          ],
          [
           0,
           0,
           0,
           0,
           0,
           0,
           0,
           0,
           0,
           0,
           0,
           0,
           -0.1803921568627451,
           -0.44705882352941173,
           -0.5333333333333333,
           -0.4509803921568627,
           -0.3529411764705882,
           -0.08235294117647052,
           -0.00784313725490196,
           -0.07843137254901966,
           -0.00784313725490196,
           0,
           0,
           0,
           0,
           0
          ],
          [
           0,
           0,
           0,
           0,
           0,
           0,
           0,
           0,
           0,
           0,
           -0.15294117647058825,
           -0.5803921568627451,
           -1.0509803921568628,
           -1.5725490196078433,
           -1.8901960784313725,
           -1.007843137254902,
           -0.9803921568627451,
           0.24705882352941166,
           0.26274509803921575,
           0.26274509803921564,
           0.25098039215686274,
           0,
           0,
           0,
           0,
           0
          ],
          [
           0,
           0,
           0,
           0,
           0,
           0,
           0,
           0,
           -0.09411764705882353,
           -0.4470588235294118,
           -0.9607843137254902,
           -1.4392156862745098,
           -1.6784313725490196,
           -1.4745098039215687,
           -1.0862745098039217,
           -0.2784313725490196,
           0.41176470588235303,
           1.0156862745098039,
           0.6941176470588235,
           0.8117647058823529,
           0.00784313725490196,
           0,
           0,
           0,
           0,
           0
          ],
          [
           0,
           0,
           0,
           0,
           0,
           0,
           -0.09019607843137255,
           -0.25882352941176473,
           -0.9254901960784314,
           -1.2509803921568627,
           -1.6745098039215687,
           -1.4039215686274509,
           -0.9333333333333333,
           -0.19607843137254888,
           0.580392156862745,
           1.2000000000000002,
           1.6549019607843138,
           1.6980392156862747,
           0.9803921568627451,
           0.7137254901960784,
           0,
           0,
           0,
           0,
           0,
           0
          ],
          [
           0,
           0,
           0,
           0,
           -0.07058823529411765,
           -0.6705882352941176,
           -0.9294117647058823,
           -1.6627450980392156,
           -1.7568627450980392,
           -1.5372549019607844,
           -1.0235294117647058,
           -0.3176470588235294,
           0.5529411764705883,
           1.184313725490196,
           1.6705882352941177,
           1.745098039215686,
           1.2980392156862746,
           0.788235294117647,
           0.3058823529411765,
           0,
           0,
           0,
           0,
           0,
           0,
           0
          ],
          [
           0,
           0,
           -0.21568627450980393,
           -0.6745098039215687,
           -1.1019607843137256,
           -1.6666666666666667,
           -1.788235294117647,
           -1.7254901960784315,
           -1.0588235294117647,
           -0.6980392156862746,
           0.31372549019607854,
           0.984313725490196,
           1.4627450980392158,
           1.7254901960784312,
           1.3098039215686275,
           0.7843137254901961,
           0.3176470588235294,
           0.00784313725490196,
           0,
           0,
           0,
           0,
           0,
           0,
           0,
           0
          ],
          [
           0,
           0,
           -0.5333333333333333,
           -0.9921568627450981,
           -1.4549019607843139,
           -1.3137254901960786,
           -0.8941176470588237,
           0.14117647058823513,
           0.5019607843137254,
           1.3921568627450982,
           1.4666666666666668,
           1.6941176470588235,
           1.3058823529411765,
           0.7999999999999999,
           0.3137254901960784,
           0.03529411764705882,
           0,
           0,
           0,
           0,
           0,
           0,
           0,
           0,
           0,
           0
          ],
          [
           0,
           0,
           0.21568627450980393,
           0.6745098039215687,
           1.1019607843137256,
           1.6666666666666667,
           1.8784313725490196,
           1.9843137254901961,
           1.9843137254901961,
           1.9490196078431374,
           1.5137254901960784,
           1,
           0.5215686274509804,
           0.043137254901960784,
           0,
           0,
           0,
           0,
           0,
           0,
           0,
           0,
           0,
           0,
           0,
           0
          ],
          [
           0,
           0,
           0.5333333333333333,
           0.9921568627450981,
           1.5254901960784313,
           1.9843137254901961,
           1.823529411764706,
           1.5215686274509803,
           1.3490196078431373,
           0.592156862745098,
           0.5176470588235295,
           0.06274509803921569,
           0,
           0,
           0,
           0,
           0,
           0,
           0,
           0,
           0,
           0,
           0,
           0,
           0,
           0
          ],
          [
           0,
           0,
           0,
           0,
           0,
           0,
           0,
           0,
           0,
           0,
           0,
           0,
           0,
           0,
           0,
           0,
           0,
           0,
           0,
           0,
           0,
           0,
           0,
           0,
           0,
           0
          ]
         ]
        }
       ],
       "layout": {
        "annotations": [
         {
          "font": {},
          "showarrow": false,
          "text": "Custom Correlation 0",
          "x": 0.245,
          "xanchor": "center",
          "xref": "paper",
          "y": 0.46499999999999997,
          "yanchor": "bottom",
          "yref": "paper"
         },
         {
          "font": {},
          "showarrow": false,
          "text": "Custom Correlation 1",
          "x": 0.755,
          "xanchor": "center",
          "xref": "paper",
          "y": 0.46499999999999997,
          "yanchor": "bottom",
          "yref": "paper"
         },
         {
          "font": {},
          "showarrow": false,
          "text": "Scipy Correlation 0",
          "x": 0.245,
          "xanchor": "center",
          "xref": "paper",
          "y": 0.9999999999999999,
          "yanchor": "bottom",
          "yref": "paper"
         },
         {
          "font": {},
          "showarrow": false,
          "text": "Scipy Correlation 1",
          "x": 0.755,
          "xanchor": "center",
          "xref": "paper",
          "y": 0.9999999999999999,
          "yanchor": "bottom",
          "yref": "paper"
         }
        ],
        "coloraxis": {
         "colorscale": [
          [
           0,
           "#0d0887"
          ],
          [
           0.1111111111111111,
           "#46039f"
          ],
          [
           0.2222222222222222,
           "#7201a8"
          ],
          [
           0.3333333333333333,
           "#9c179e"
          ],
          [
           0.4444444444444444,
           "#bd3786"
          ],
          [
           0.5555555555555556,
           "#d8576b"
          ],
          [
           0.6666666666666666,
           "#ed7953"
          ],
          [
           0.7777777777777778,
           "#fb9f3a"
          ],
          [
           0.8888888888888888,
           "#fdca26"
          ],
          [
           1,
           "#f0f921"
          ]
         ]
        },
        "margin": {
         "t": 60
        },
        "template": {
         "data": {
          "bar": [
           {
            "error_x": {
             "color": "#2a3f5f"
            },
            "error_y": {
             "color": "#2a3f5f"
            },
            "marker": {
             "line": {
              "color": "#E5ECF6",
              "width": 0.5
             },
             "pattern": {
              "fillmode": "overlay",
              "size": 10,
              "solidity": 0.2
             }
            },
            "type": "bar"
           }
          ],
          "barpolar": [
           {
            "marker": {
             "line": {
              "color": "#E5ECF6",
              "width": 0.5
             },
             "pattern": {
              "fillmode": "overlay",
              "size": 10,
              "solidity": 0.2
             }
            },
            "type": "barpolar"
           }
          ],
          "carpet": [
           {
            "aaxis": {
             "endlinecolor": "#2a3f5f",
             "gridcolor": "white",
             "linecolor": "white",
             "minorgridcolor": "white",
             "startlinecolor": "#2a3f5f"
            },
            "baxis": {
             "endlinecolor": "#2a3f5f",
             "gridcolor": "white",
             "linecolor": "white",
             "minorgridcolor": "white",
             "startlinecolor": "#2a3f5f"
            },
            "type": "carpet"
           }
          ],
          "choropleth": [
           {
            "colorbar": {
             "outlinewidth": 0,
             "ticks": ""
            },
            "type": "choropleth"
           }
          ],
          "contour": [
           {
            "colorbar": {
             "outlinewidth": 0,
             "ticks": ""
            },
            "colorscale": [
             [
              0,
              "#0d0887"
             ],
             [
              0.1111111111111111,
              "#46039f"
             ],
             [
              0.2222222222222222,
              "#7201a8"
             ],
             [
              0.3333333333333333,
              "#9c179e"
             ],
             [
              0.4444444444444444,
              "#bd3786"
             ],
             [
              0.5555555555555556,
              "#d8576b"
             ],
             [
              0.6666666666666666,
              "#ed7953"
             ],
             [
              0.7777777777777778,
              "#fb9f3a"
             ],
             [
              0.8888888888888888,
              "#fdca26"
             ],
             [
              1,
              "#f0f921"
             ]
            ],
            "type": "contour"
           }
          ],
          "contourcarpet": [
           {
            "colorbar": {
             "outlinewidth": 0,
             "ticks": ""
            },
            "type": "contourcarpet"
           }
          ],
          "heatmap": [
           {
            "colorbar": {
             "outlinewidth": 0,
             "ticks": ""
            },
            "colorscale": [
             [
              0,
              "#0d0887"
             ],
             [
              0.1111111111111111,
              "#46039f"
             ],
             [
              0.2222222222222222,
              "#7201a8"
             ],
             [
              0.3333333333333333,
              "#9c179e"
             ],
             [
              0.4444444444444444,
              "#bd3786"
             ],
             [
              0.5555555555555556,
              "#d8576b"
             ],
             [
              0.6666666666666666,
              "#ed7953"
             ],
             [
              0.7777777777777778,
              "#fb9f3a"
             ],
             [
              0.8888888888888888,
              "#fdca26"
             ],
             [
              1,
              "#f0f921"
             ]
            ],
            "type": "heatmap"
           }
          ],
          "heatmapgl": [
           {
            "colorbar": {
             "outlinewidth": 0,
             "ticks": ""
            },
            "colorscale": [
             [
              0,
              "#0d0887"
             ],
             [
              0.1111111111111111,
              "#46039f"
             ],
             [
              0.2222222222222222,
              "#7201a8"
             ],
             [
              0.3333333333333333,
              "#9c179e"
             ],
             [
              0.4444444444444444,
              "#bd3786"
             ],
             [
              0.5555555555555556,
              "#d8576b"
             ],
             [
              0.6666666666666666,
              "#ed7953"
             ],
             [
              0.7777777777777778,
              "#fb9f3a"
             ],
             [
              0.8888888888888888,
              "#fdca26"
             ],
             [
              1,
              "#f0f921"
             ]
            ],
            "type": "heatmapgl"
           }
          ],
          "histogram": [
           {
            "marker": {
             "pattern": {
              "fillmode": "overlay",
              "size": 10,
              "solidity": 0.2
             }
            },
            "type": "histogram"
           }
          ],
          "histogram2d": [
           {
            "colorbar": {
             "outlinewidth": 0,
             "ticks": ""
            },
            "colorscale": [
             [
              0,
              "#0d0887"
             ],
             [
              0.1111111111111111,
              "#46039f"
             ],
             [
              0.2222222222222222,
              "#7201a8"
             ],
             [
              0.3333333333333333,
              "#9c179e"
             ],
             [
              0.4444444444444444,
              "#bd3786"
             ],
             [
              0.5555555555555556,
              "#d8576b"
             ],
             [
              0.6666666666666666,
              "#ed7953"
             ],
             [
              0.7777777777777778,
              "#fb9f3a"
             ],
             [
              0.8888888888888888,
              "#fdca26"
             ],
             [
              1,
              "#f0f921"
             ]
            ],
            "type": "histogram2d"
           }
          ],
          "histogram2dcontour": [
           {
            "colorbar": {
             "outlinewidth": 0,
             "ticks": ""
            },
            "colorscale": [
             [
              0,
              "#0d0887"
             ],
             [
              0.1111111111111111,
              "#46039f"
             ],
             [
              0.2222222222222222,
              "#7201a8"
             ],
             [
              0.3333333333333333,
              "#9c179e"
             ],
             [
              0.4444444444444444,
              "#bd3786"
             ],
             [
              0.5555555555555556,
              "#d8576b"
             ],
             [
              0.6666666666666666,
              "#ed7953"
             ],
             [
              0.7777777777777778,
              "#fb9f3a"
             ],
             [
              0.8888888888888888,
              "#fdca26"
             ],
             [
              1,
              "#f0f921"
             ]
            ],
            "type": "histogram2dcontour"
           }
          ],
          "mesh3d": [
           {
            "colorbar": {
             "outlinewidth": 0,
             "ticks": ""
            },
            "type": "mesh3d"
           }
          ],
          "parcoords": [
           {
            "line": {
             "colorbar": {
              "outlinewidth": 0,
              "ticks": ""
             }
            },
            "type": "parcoords"
           }
          ],
          "pie": [
           {
            "automargin": true,
            "type": "pie"
           }
          ],
          "scatter": [
           {
            "fillpattern": {
             "fillmode": "overlay",
             "size": 10,
             "solidity": 0.2
            },
            "type": "scatter"
           }
          ],
          "scatter3d": [
           {
            "line": {
             "colorbar": {
              "outlinewidth": 0,
              "ticks": ""
             }
            },
            "marker": {
             "colorbar": {
              "outlinewidth": 0,
              "ticks": ""
             }
            },
            "type": "scatter3d"
           }
          ],
          "scattercarpet": [
           {
            "marker": {
             "colorbar": {
              "outlinewidth": 0,
              "ticks": ""
             }
            },
            "type": "scattercarpet"
           }
          ],
          "scattergeo": [
           {
            "marker": {
             "colorbar": {
              "outlinewidth": 0,
              "ticks": ""
             }
            },
            "type": "scattergeo"
           }
          ],
          "scattergl": [
           {
            "marker": {
             "colorbar": {
              "outlinewidth": 0,
              "ticks": ""
             }
            },
            "type": "scattergl"
           }
          ],
          "scattermapbox": [
           {
            "marker": {
             "colorbar": {
              "outlinewidth": 0,
              "ticks": ""
             }
            },
            "type": "scattermapbox"
           }
          ],
          "scatterpolar": [
           {
            "marker": {
             "colorbar": {
              "outlinewidth": 0,
              "ticks": ""
             }
            },
            "type": "scatterpolar"
           }
          ],
          "scatterpolargl": [
           {
            "marker": {
             "colorbar": {
              "outlinewidth": 0,
              "ticks": ""
             }
            },
            "type": "scatterpolargl"
           }
          ],
          "scatterternary": [
           {
            "marker": {
             "colorbar": {
              "outlinewidth": 0,
              "ticks": ""
             }
            },
            "type": "scatterternary"
           }
          ],
          "surface": [
           {
            "colorbar": {
             "outlinewidth": 0,
             "ticks": ""
            },
            "colorscale": [
             [
              0,
              "#0d0887"
             ],
             [
              0.1111111111111111,
              "#46039f"
             ],
             [
              0.2222222222222222,
              "#7201a8"
             ],
             [
              0.3333333333333333,
              "#9c179e"
             ],
             [
              0.4444444444444444,
              "#bd3786"
             ],
             [
              0.5555555555555556,
              "#d8576b"
             ],
             [
              0.6666666666666666,
              "#ed7953"
             ],
             [
              0.7777777777777778,
              "#fb9f3a"
             ],
             [
              0.8888888888888888,
              "#fdca26"
             ],
             [
              1,
              "#f0f921"
             ]
            ],
            "type": "surface"
           }
          ],
          "table": [
           {
            "cells": {
             "fill": {
              "color": "#EBF0F8"
             },
             "line": {
              "color": "white"
             }
            },
            "header": {
             "fill": {
              "color": "#C8D4E3"
             },
             "line": {
              "color": "white"
             }
            },
            "type": "table"
           }
          ]
         },
         "layout": {
          "annotationdefaults": {
           "arrowcolor": "#2a3f5f",
           "arrowhead": 0,
           "arrowwidth": 1
          },
          "autotypenumbers": "strict",
          "coloraxis": {
           "colorbar": {
            "outlinewidth": 0,
            "ticks": ""
           }
          },
          "colorscale": {
           "diverging": [
            [
             0,
             "#8e0152"
            ],
            [
             0.1,
             "#c51b7d"
            ],
            [
             0.2,
             "#de77ae"
            ],
            [
             0.3,
             "#f1b6da"
            ],
            [
             0.4,
             "#fde0ef"
            ],
            [
             0.5,
             "#f7f7f7"
            ],
            [
             0.6,
             "#e6f5d0"
            ],
            [
             0.7,
             "#b8e186"
            ],
            [
             0.8,
             "#7fbc41"
            ],
            [
             0.9,
             "#4d9221"
            ],
            [
             1,
             "#276419"
            ]
           ],
           "sequential": [
            [
             0,
             "#0d0887"
            ],
            [
             0.1111111111111111,
             "#46039f"
            ],
            [
             0.2222222222222222,
             "#7201a8"
            ],
            [
             0.3333333333333333,
             "#9c179e"
            ],
            [
             0.4444444444444444,
             "#bd3786"
            ],
            [
             0.5555555555555556,
             "#d8576b"
            ],
            [
             0.6666666666666666,
             "#ed7953"
            ],
            [
             0.7777777777777778,
             "#fb9f3a"
            ],
            [
             0.8888888888888888,
             "#fdca26"
            ],
            [
             1,
             "#f0f921"
            ]
           ],
           "sequentialminus": [
            [
             0,
             "#0d0887"
            ],
            [
             0.1111111111111111,
             "#46039f"
            ],
            [
             0.2222222222222222,
             "#7201a8"
            ],
            [
             0.3333333333333333,
             "#9c179e"
            ],
            [
             0.4444444444444444,
             "#bd3786"
            ],
            [
             0.5555555555555556,
             "#d8576b"
            ],
            [
             0.6666666666666666,
             "#ed7953"
            ],
            [
             0.7777777777777778,
             "#fb9f3a"
            ],
            [
             0.8888888888888888,
             "#fdca26"
            ],
            [
             1,
             "#f0f921"
            ]
           ]
          },
          "colorway": [
           "#636efa",
           "#EF553B",
           "#00cc96",
           "#ab63fa",
           "#FFA15A",
           "#19d3f3",
           "#FF6692",
           "#B6E880",
           "#FF97FF",
           "#FECB52"
          ],
          "font": {
           "color": "#2a3f5f"
          },
          "geo": {
           "bgcolor": "white",
           "lakecolor": "white",
           "landcolor": "#E5ECF6",
           "showlakes": true,
           "showland": true,
           "subunitcolor": "white"
          },
          "hoverlabel": {
           "align": "left"
          },
          "hovermode": "closest",
          "mapbox": {
           "style": "light"
          },
          "paper_bgcolor": "white",
          "plot_bgcolor": "#E5ECF6",
          "polar": {
           "angularaxis": {
            "gridcolor": "white",
            "linecolor": "white",
            "ticks": ""
           },
           "bgcolor": "#E5ECF6",
           "radialaxis": {
            "gridcolor": "white",
            "linecolor": "white",
            "ticks": ""
           }
          },
          "scene": {
           "xaxis": {
            "backgroundcolor": "#E5ECF6",
            "gridcolor": "white",
            "gridwidth": 2,
            "linecolor": "white",
            "showbackground": true,
            "ticks": "",
            "zerolinecolor": "white"
           },
           "yaxis": {
            "backgroundcolor": "#E5ECF6",
            "gridcolor": "white",
            "gridwidth": 2,
            "linecolor": "white",
            "showbackground": true,
            "ticks": "",
            "zerolinecolor": "white"
           },
           "zaxis": {
            "backgroundcolor": "#E5ECF6",
            "gridcolor": "white",
            "gridwidth": 2,
            "linecolor": "white",
            "showbackground": true,
            "ticks": "",
            "zerolinecolor": "white"
           }
          },
          "shapedefaults": {
           "line": {
            "color": "#2a3f5f"
           }
          },
          "ternary": {
           "aaxis": {
            "gridcolor": "white",
            "linecolor": "white",
            "ticks": ""
           },
           "baxis": {
            "gridcolor": "white",
            "linecolor": "white",
            "ticks": ""
           },
           "bgcolor": "#E5ECF6",
           "caxis": {
            "gridcolor": "white",
            "linecolor": "white",
            "ticks": ""
           }
          },
          "title": {
           "x": 0.05
          },
          "xaxis": {
           "automargin": true,
           "gridcolor": "white",
           "linecolor": "white",
           "ticks": "",
           "title": {
            "standoff": 15
           },
           "zerolinecolor": "white",
           "zerolinewidth": 2
          },
          "yaxis": {
           "automargin": true,
           "gridcolor": "white",
           "linecolor": "white",
           "ticks": "",
           "title": {
            "standoff": 15
           },
           "zerolinecolor": "white",
           "zerolinewidth": 2
          }
         }
        },
        "xaxis": {
         "anchor": "y",
         "constrain": "domain",
         "domain": [
          0,
          0.49
         ],
         "scaleanchor": "y"
        },
        "xaxis2": {
         "anchor": "y2",
         "domain": [
          0.51,
          1
         ],
         "matches": "x"
        },
        "xaxis3": {
         "anchor": "y3",
         "domain": [
          0,
          0.49
         ],
         "matches": "x",
         "showticklabels": false
        },
        "xaxis4": {
         "anchor": "y4",
         "domain": [
          0.51,
          1
         ],
         "matches": "x",
         "showticklabels": false
        },
        "yaxis": {
         "anchor": "x",
         "autorange": "reversed",
         "constrain": "domain",
         "domain": [
          0,
          0.46499999999999997
         ]
        },
        "yaxis2": {
         "anchor": "x2",
         "domain": [
          0,
          0.46499999999999997
         ],
         "matches": "y",
         "showticklabels": false
        },
        "yaxis3": {
         "anchor": "x3",
         "domain": [
          0.5349999999999999,
          0.9999999999999999
         ],
         "matches": "y"
        },
        "yaxis4": {
         "anchor": "x4",
         "domain": [
          0.5349999999999999,
          0.9999999999999999
         ],
         "matches": "y",
         "showticklabels": false
        }
       }
      }
     },
     "metadata": {},
     "output_type": "display_data"
    }
   ],
   "source": [
    "custom_correlations = (input[correlation_indices] @ kernels_weights).reshape(nb_horizontal_correlations, nb_vertical_correlations, kernels.shape[0])\n",
    "scipy_correlations = np.stack([correlate2d(input.reshape(28, 28), kernels[k], mode=\"valid\") for k in range(kernels.shape[0])], axis=2)\n",
    "\n",
    "display(np.concatenate([custom_correlations, scipy_correlations], axis=2).shape)\n",
    "\n",
    "fig = px.imshow(\n",
    "    np.concatenate([custom_correlations, scipy_correlations], axis=2),\n",
    "    facet_col=2,\n",
    "    facet_col_wrap=2,\n",
    ")\n",
    "fig.layout.annotations[0]['text'] = \"Custom Correlation 0\"\n",
    "fig.layout.annotations[1]['text'] = \"Custom Correlation 1\"\n",
    "fig.layout.annotations[2]['text'] = \"Scipy Correlation 0\"\n",
    "fig.layout.annotations[3]['text'] = \"Scipy Correlation 1\"\n",
    "fig.show()"
   ]
  }
 ],
 "metadata": {
  "kernelspec": {
   "display_name": "CNN",
   "language": "python",
   "name": "python3"
  },
  "language_info": {
   "codemirror_mode": {
    "name": "ipython",
    "version": 3
   },
   "file_extension": ".py",
   "mimetype": "text/x-python",
   "name": "python",
   "nbconvert_exporter": "python",
   "pygments_lexer": "ipython3",
   "version": "3.12.3"
  }
 },
 "nbformat": 4,
 "nbformat_minor": 2
}
