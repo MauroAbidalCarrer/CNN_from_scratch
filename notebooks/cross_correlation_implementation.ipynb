{
 "cells": [
  {
   "cell_type": "markdown",
   "metadata": {},
   "source": [
    "# Cross correlation and convolution implementation from scratch"
   ]
  },
  {
   "cell_type": "markdown",
   "metadata": {},
   "source": [
    "## Motivation\n",
    "For our convolution layers, we need to perform:\n",
    "- a valid cross correlation for the forward pass  \n",
    "- a full convolutions for the backward pass  \n",
    "\n",
    "I initially meant to use `scipy.signal`'s `correlated2d` and `convolve2d` but unfortunatly they only work for a single channel, kernel and sample.  \n",
    "This is unconvinient as I need a mutli samples, kernels and channels operation.  \n",
    "I could wrap them around with three nested `for` loops but this would be a very slow implementation.  \n",
    "This is a \"from scratch\" repo afterall so let's implement a mutli channels, kernels and samples valid cross correlation operation from scratch.  \n",
    "I will simply implement the full convolution operation as a pad of the input, a transpose of the kernels and then a valid cross correlation.   "
   ]
  },
  {
   "cell_type": "markdown",
   "metadata": {},
   "source": [
    "## High level implementation  \n",
    "The valid cross correlation is essentially a vector dot product of the kernel and a subset of the input repeated over the x and y axes.  \n",
    "The reason why this can be simplfied to a repeated vector dot product is beacause the cross correlation of the view and the kernel have fixed matching incdices:  \n",
    "the ith element of the kernel matches the ith element of the view.  \n",
    "Once we have the flatten input and the window index, we can get a single view by indexing the flatten input by the window index.  \n",
    "With this view we can perform a dot product with the kernel to get a single correlation (a single value of our activation map output).  \n",
    "To get the next view on the right we simply need to add the input depth to all the indices in the window index.  \n",
    "To get the next view bellow we simply need to add the input depth times the horizontal length of the input to all the indices in the window index.  \n",
    "To get all the views we will create matrix wehere each row corresponds to a view.  \n",
    "The kernels will be in a second matrix where each column corresponds to a kernel.   \n",
    "To perform the cross correlation we will simply perform a dot product of the two matrices.  \n",
    "That's for a single input, to perform the operation on a batch of inputs we perform a (broadcasted?) dot product between the kenrel matric and a 3d array.  \n",
    "In this 3d array, the first dimension is input, the second the view and the third the value in the view.  "
   ]
  },
  {
   "cell_type": "markdown",
   "metadata": {},
   "source": [
    "## Setup"
   ]
  },
  {
   "cell_type": "markdown",
   "metadata": {},
   "source": [
    "### Imports"
   ]
  },
  {
   "cell_type": "code",
   "execution_count": 5,
   "metadata": {},
   "outputs": [],
   "source": [
    "from os.path import join\n",
    "\n",
    "from scipy.signal import correlate2d, convolve2d\n",
    "import numpy as np\n",
    "import plotly.express as px\n",
    "import kagglehub\n",
    "\n",
    "from cifar_10_dataset_loading import load_cifar_10"
   ]
  },
  {
   "cell_type": "markdown",
   "metadata": {},
   "source": [
    "### Data extraction"
   ]
  },
  {
   "cell_type": "markdown",
   "metadata": {},
   "source": [
    "#### MNIST dataset for single channel implementations"
   ]
  },
  {
   "cell_type": "code",
   "execution_count": 2,
   "metadata": {},
   "outputs": [
    {
     "ename": "ConnectionError",
     "evalue": "HTTPSConnectionPool(host='www.kaggle.com', port=443): Max retries exceeded with url: /api/v1/datasets/view/hojjatk/mnist-dataset (Caused by NameResolutionError(\"<urllib3.connection.HTTPSConnection object at 0x7fdbc1675d00>: Failed to resolve 'www.kaggle.com' ([Errno -2] Name or service not known)\"))",
     "output_type": "error",
     "traceback": [
      "\u001b[0;31m---------------------------------------------------------------------------\u001b[0m",
      "\u001b[0;31mgaierror\u001b[0m                                  Traceback (most recent call last)",
      "File \u001b[0;32m~/miniconda3/envs/CNN/lib/python3.12/site-packages/urllib3/connection.py:199\u001b[0m, in \u001b[0;36mHTTPConnection._new_conn\u001b[0;34m(self)\u001b[0m\n\u001b[1;32m    198\u001b[0m \u001b[38;5;28;01mtry\u001b[39;00m:\n\u001b[0;32m--> 199\u001b[0m     sock \u001b[38;5;241m=\u001b[39m connection\u001b[38;5;241m.\u001b[39mcreate_connection(\n\u001b[1;32m    200\u001b[0m         (\u001b[38;5;28mself\u001b[39m\u001b[38;5;241m.\u001b[39m_dns_host, \u001b[38;5;28mself\u001b[39m\u001b[38;5;241m.\u001b[39mport),\n\u001b[1;32m    201\u001b[0m         \u001b[38;5;28mself\u001b[39m\u001b[38;5;241m.\u001b[39mtimeout,\n\u001b[1;32m    202\u001b[0m         source_address\u001b[38;5;241m=\u001b[39m\u001b[38;5;28mself\u001b[39m\u001b[38;5;241m.\u001b[39msource_address,\n\u001b[1;32m    203\u001b[0m         socket_options\u001b[38;5;241m=\u001b[39m\u001b[38;5;28mself\u001b[39m\u001b[38;5;241m.\u001b[39msocket_options,\n\u001b[1;32m    204\u001b[0m     )\n\u001b[1;32m    205\u001b[0m \u001b[38;5;28;01mexcept\u001b[39;00m socket\u001b[38;5;241m.\u001b[39mgaierror \u001b[38;5;28;01mas\u001b[39;00m e:\n",
      "File \u001b[0;32m~/miniconda3/envs/CNN/lib/python3.12/site-packages/urllib3/util/connection.py:60\u001b[0m, in \u001b[0;36mcreate_connection\u001b[0;34m(address, timeout, source_address, socket_options)\u001b[0m\n\u001b[1;32m     58\u001b[0m     \u001b[38;5;28;01mraise\u001b[39;00m LocationParseError(\u001b[38;5;124mf\u001b[39m\u001b[38;5;124m\"\u001b[39m\u001b[38;5;124m'\u001b[39m\u001b[38;5;132;01m{\u001b[39;00mhost\u001b[38;5;132;01m}\u001b[39;00m\u001b[38;5;124m'\u001b[39m\u001b[38;5;124m, label empty or too long\u001b[39m\u001b[38;5;124m\"\u001b[39m) \u001b[38;5;28;01mfrom\u001b[39;00m \u001b[38;5;28;01mNone\u001b[39;00m\n\u001b[0;32m---> 60\u001b[0m \u001b[38;5;28;01mfor\u001b[39;00m res \u001b[38;5;129;01min\u001b[39;00m socket\u001b[38;5;241m.\u001b[39mgetaddrinfo(host, port, family, socket\u001b[38;5;241m.\u001b[39mSOCK_STREAM):\n\u001b[1;32m     61\u001b[0m     af, socktype, proto, canonname, sa \u001b[38;5;241m=\u001b[39m res\n",
      "File \u001b[0;32m~/miniconda3/envs/CNN/lib/python3.12/socket.py:963\u001b[0m, in \u001b[0;36mgetaddrinfo\u001b[0;34m(host, port, family, type, proto, flags)\u001b[0m\n\u001b[1;32m    962\u001b[0m addrlist \u001b[38;5;241m=\u001b[39m []\n\u001b[0;32m--> 963\u001b[0m \u001b[38;5;28;01mfor\u001b[39;00m res \u001b[38;5;129;01min\u001b[39;00m _socket\u001b[38;5;241m.\u001b[39mgetaddrinfo(host, port, family, \u001b[38;5;28mtype\u001b[39m, proto, flags):\n\u001b[1;32m    964\u001b[0m     af, socktype, proto, canonname, sa \u001b[38;5;241m=\u001b[39m res\n",
      "\u001b[0;31mgaierror\u001b[0m: [Errno -2] Name or service not known",
      "\nThe above exception was the direct cause of the following exception:\n",
      "\u001b[0;31mNameResolutionError\u001b[0m                       Traceback (most recent call last)",
      "File \u001b[0;32m~/miniconda3/envs/CNN/lib/python3.12/site-packages/urllib3/connectionpool.py:789\u001b[0m, in \u001b[0;36mHTTPConnectionPool.urlopen\u001b[0;34m(self, method, url, body, headers, retries, redirect, assert_same_host, timeout, pool_timeout, release_conn, chunked, body_pos, preload_content, decode_content, **response_kw)\u001b[0m\n\u001b[1;32m    788\u001b[0m \u001b[38;5;66;03m# Make the request on the HTTPConnection object\u001b[39;00m\n\u001b[0;32m--> 789\u001b[0m response \u001b[38;5;241m=\u001b[39m \u001b[38;5;28mself\u001b[39m\u001b[38;5;241m.\u001b[39m_make_request(\n\u001b[1;32m    790\u001b[0m     conn,\n\u001b[1;32m    791\u001b[0m     method,\n\u001b[1;32m    792\u001b[0m     url,\n\u001b[1;32m    793\u001b[0m     timeout\u001b[38;5;241m=\u001b[39mtimeout_obj,\n\u001b[1;32m    794\u001b[0m     body\u001b[38;5;241m=\u001b[39mbody,\n\u001b[1;32m    795\u001b[0m     headers\u001b[38;5;241m=\u001b[39mheaders,\n\u001b[1;32m    796\u001b[0m     chunked\u001b[38;5;241m=\u001b[39mchunked,\n\u001b[1;32m    797\u001b[0m     retries\u001b[38;5;241m=\u001b[39mretries,\n\u001b[1;32m    798\u001b[0m     response_conn\u001b[38;5;241m=\u001b[39mresponse_conn,\n\u001b[1;32m    799\u001b[0m     preload_content\u001b[38;5;241m=\u001b[39mpreload_content,\n\u001b[1;32m    800\u001b[0m     decode_content\u001b[38;5;241m=\u001b[39mdecode_content,\n\u001b[1;32m    801\u001b[0m     \u001b[38;5;241m*\u001b[39m\u001b[38;5;241m*\u001b[39mresponse_kw,\n\u001b[1;32m    802\u001b[0m )\n\u001b[1;32m    804\u001b[0m \u001b[38;5;66;03m# Everything went great!\u001b[39;00m\n",
      "File \u001b[0;32m~/miniconda3/envs/CNN/lib/python3.12/site-packages/urllib3/connectionpool.py:490\u001b[0m, in \u001b[0;36mHTTPConnectionPool._make_request\u001b[0;34m(self, conn, method, url, body, headers, retries, timeout, chunked, response_conn, preload_content, decode_content, enforce_content_length)\u001b[0m\n\u001b[1;32m    489\u001b[0m         new_e \u001b[38;5;241m=\u001b[39m _wrap_proxy_error(new_e, conn\u001b[38;5;241m.\u001b[39mproxy\u001b[38;5;241m.\u001b[39mscheme)\n\u001b[0;32m--> 490\u001b[0m     \u001b[38;5;28;01mraise\u001b[39;00m new_e\n\u001b[1;32m    492\u001b[0m \u001b[38;5;66;03m# conn.request() calls http.client.*.request, not the method in\u001b[39;00m\n\u001b[1;32m    493\u001b[0m \u001b[38;5;66;03m# urllib3.request. It also calls makefile (recv) on the socket.\u001b[39;00m\n",
      "File \u001b[0;32m~/miniconda3/envs/CNN/lib/python3.12/site-packages/urllib3/connectionpool.py:466\u001b[0m, in \u001b[0;36mHTTPConnectionPool._make_request\u001b[0;34m(self, conn, method, url, body, headers, retries, timeout, chunked, response_conn, preload_content, decode_content, enforce_content_length)\u001b[0m\n\u001b[1;32m    465\u001b[0m \u001b[38;5;28;01mtry\u001b[39;00m:\n\u001b[0;32m--> 466\u001b[0m     \u001b[38;5;28mself\u001b[39m\u001b[38;5;241m.\u001b[39m_validate_conn(conn)\n\u001b[1;32m    467\u001b[0m \u001b[38;5;28;01mexcept\u001b[39;00m (SocketTimeout, BaseSSLError) \u001b[38;5;28;01mas\u001b[39;00m e:\n",
      "File \u001b[0;32m~/miniconda3/envs/CNN/lib/python3.12/site-packages/urllib3/connectionpool.py:1095\u001b[0m, in \u001b[0;36mHTTPSConnectionPool._validate_conn\u001b[0;34m(self, conn)\u001b[0m\n\u001b[1;32m   1094\u001b[0m \u001b[38;5;28;01mif\u001b[39;00m conn\u001b[38;5;241m.\u001b[39mis_closed:\n\u001b[0;32m-> 1095\u001b[0m     conn\u001b[38;5;241m.\u001b[39mconnect()\n\u001b[1;32m   1097\u001b[0m \u001b[38;5;66;03m# TODO revise this, see https://github.com/urllib3/urllib3/issues/2791\u001b[39;00m\n",
      "File \u001b[0;32m~/miniconda3/envs/CNN/lib/python3.12/site-packages/urllib3/connection.py:693\u001b[0m, in \u001b[0;36mHTTPSConnection.connect\u001b[0;34m(self)\u001b[0m\n\u001b[1;32m    692\u001b[0m sock: socket\u001b[38;5;241m.\u001b[39msocket \u001b[38;5;241m|\u001b[39m ssl\u001b[38;5;241m.\u001b[39mSSLSocket\n\u001b[0;32m--> 693\u001b[0m \u001b[38;5;28mself\u001b[39m\u001b[38;5;241m.\u001b[39msock \u001b[38;5;241m=\u001b[39m sock \u001b[38;5;241m=\u001b[39m \u001b[38;5;28mself\u001b[39m\u001b[38;5;241m.\u001b[39m_new_conn()\n\u001b[1;32m    694\u001b[0m server_hostname: \u001b[38;5;28mstr\u001b[39m \u001b[38;5;241m=\u001b[39m \u001b[38;5;28mself\u001b[39m\u001b[38;5;241m.\u001b[39mhost\n",
      "File \u001b[0;32m~/miniconda3/envs/CNN/lib/python3.12/site-packages/urllib3/connection.py:206\u001b[0m, in \u001b[0;36mHTTPConnection._new_conn\u001b[0;34m(self)\u001b[0m\n\u001b[1;32m    205\u001b[0m \u001b[38;5;28;01mexcept\u001b[39;00m socket\u001b[38;5;241m.\u001b[39mgaierror \u001b[38;5;28;01mas\u001b[39;00m e:\n\u001b[0;32m--> 206\u001b[0m     \u001b[38;5;28;01mraise\u001b[39;00m NameResolutionError(\u001b[38;5;28mself\u001b[39m\u001b[38;5;241m.\u001b[39mhost, \u001b[38;5;28mself\u001b[39m, e) \u001b[38;5;28;01mfrom\u001b[39;00m \u001b[38;5;21;01me\u001b[39;00m\n\u001b[1;32m    207\u001b[0m \u001b[38;5;28;01mexcept\u001b[39;00m SocketTimeout \u001b[38;5;28;01mas\u001b[39;00m e:\n",
      "\u001b[0;31mNameResolutionError\u001b[0m: <urllib3.connection.HTTPSConnection object at 0x7fdbc1675d00>: Failed to resolve 'www.kaggle.com' ([Errno -2] Name or service not known)",
      "\nThe above exception was the direct cause of the following exception:\n",
      "\u001b[0;31mMaxRetryError\u001b[0m                             Traceback (most recent call last)",
      "File \u001b[0;32m~/miniconda3/envs/CNN/lib/python3.12/site-packages/requests/adapters.py:667\u001b[0m, in \u001b[0;36mHTTPAdapter.send\u001b[0;34m(self, request, stream, timeout, verify, cert, proxies)\u001b[0m\n\u001b[1;32m    666\u001b[0m \u001b[38;5;28;01mtry\u001b[39;00m:\n\u001b[0;32m--> 667\u001b[0m     resp \u001b[38;5;241m=\u001b[39m conn\u001b[38;5;241m.\u001b[39murlopen(\n\u001b[1;32m    668\u001b[0m         method\u001b[38;5;241m=\u001b[39mrequest\u001b[38;5;241m.\u001b[39mmethod,\n\u001b[1;32m    669\u001b[0m         url\u001b[38;5;241m=\u001b[39murl,\n\u001b[1;32m    670\u001b[0m         body\u001b[38;5;241m=\u001b[39mrequest\u001b[38;5;241m.\u001b[39mbody,\n\u001b[1;32m    671\u001b[0m         headers\u001b[38;5;241m=\u001b[39mrequest\u001b[38;5;241m.\u001b[39mheaders,\n\u001b[1;32m    672\u001b[0m         redirect\u001b[38;5;241m=\u001b[39m\u001b[38;5;28;01mFalse\u001b[39;00m,\n\u001b[1;32m    673\u001b[0m         assert_same_host\u001b[38;5;241m=\u001b[39m\u001b[38;5;28;01mFalse\u001b[39;00m,\n\u001b[1;32m    674\u001b[0m         preload_content\u001b[38;5;241m=\u001b[39m\u001b[38;5;28;01mFalse\u001b[39;00m,\n\u001b[1;32m    675\u001b[0m         decode_content\u001b[38;5;241m=\u001b[39m\u001b[38;5;28;01mFalse\u001b[39;00m,\n\u001b[1;32m    676\u001b[0m         retries\u001b[38;5;241m=\u001b[39m\u001b[38;5;28mself\u001b[39m\u001b[38;5;241m.\u001b[39mmax_retries,\n\u001b[1;32m    677\u001b[0m         timeout\u001b[38;5;241m=\u001b[39mtimeout,\n\u001b[1;32m    678\u001b[0m         chunked\u001b[38;5;241m=\u001b[39mchunked,\n\u001b[1;32m    679\u001b[0m     )\n\u001b[1;32m    681\u001b[0m \u001b[38;5;28;01mexcept\u001b[39;00m (ProtocolError, \u001b[38;5;167;01mOSError\u001b[39;00m) \u001b[38;5;28;01mas\u001b[39;00m err:\n",
      "File \u001b[0;32m~/miniconda3/envs/CNN/lib/python3.12/site-packages/urllib3/connectionpool.py:843\u001b[0m, in \u001b[0;36mHTTPConnectionPool.urlopen\u001b[0;34m(self, method, url, body, headers, retries, redirect, assert_same_host, timeout, pool_timeout, release_conn, chunked, body_pos, preload_content, decode_content, **response_kw)\u001b[0m\n\u001b[1;32m    841\u001b[0m     new_e \u001b[38;5;241m=\u001b[39m ProtocolError(\u001b[38;5;124m\"\u001b[39m\u001b[38;5;124mConnection aborted.\u001b[39m\u001b[38;5;124m\"\u001b[39m, new_e)\n\u001b[0;32m--> 843\u001b[0m retries \u001b[38;5;241m=\u001b[39m retries\u001b[38;5;241m.\u001b[39mincrement(\n\u001b[1;32m    844\u001b[0m     method, url, error\u001b[38;5;241m=\u001b[39mnew_e, _pool\u001b[38;5;241m=\u001b[39m\u001b[38;5;28mself\u001b[39m, _stacktrace\u001b[38;5;241m=\u001b[39msys\u001b[38;5;241m.\u001b[39mexc_info()[\u001b[38;5;241m2\u001b[39m]\n\u001b[1;32m    845\u001b[0m )\n\u001b[1;32m    846\u001b[0m retries\u001b[38;5;241m.\u001b[39msleep()\n",
      "File \u001b[0;32m~/miniconda3/envs/CNN/lib/python3.12/site-packages/urllib3/util/retry.py:519\u001b[0m, in \u001b[0;36mRetry.increment\u001b[0;34m(self, method, url, response, error, _pool, _stacktrace)\u001b[0m\n\u001b[1;32m    518\u001b[0m     reason \u001b[38;5;241m=\u001b[39m error \u001b[38;5;129;01mor\u001b[39;00m ResponseError(cause)\n\u001b[0;32m--> 519\u001b[0m     \u001b[38;5;28;01mraise\u001b[39;00m MaxRetryError(_pool, url, reason) \u001b[38;5;28;01mfrom\u001b[39;00m \u001b[38;5;21;01mreason\u001b[39;00m  \u001b[38;5;66;03m# type: ignore[arg-type]\u001b[39;00m\n\u001b[1;32m    521\u001b[0m log\u001b[38;5;241m.\u001b[39mdebug(\u001b[38;5;124m\"\u001b[39m\u001b[38;5;124mIncremented Retry for (url=\u001b[39m\u001b[38;5;124m'\u001b[39m\u001b[38;5;132;01m%s\u001b[39;00m\u001b[38;5;124m'\u001b[39m\u001b[38;5;124m): \u001b[39m\u001b[38;5;132;01m%r\u001b[39;00m\u001b[38;5;124m\"\u001b[39m, url, new_retry)\n",
      "\u001b[0;31mMaxRetryError\u001b[0m: HTTPSConnectionPool(host='www.kaggle.com', port=443): Max retries exceeded with url: /api/v1/datasets/view/hojjatk/mnist-dataset (Caused by NameResolutionError(\"<urllib3.connection.HTTPSConnection object at 0x7fdbc1675d00>: Failed to resolve 'www.kaggle.com' ([Errno -2] Name or service not known)\"))",
      "\nDuring handling of the above exception, another exception occurred:\n",
      "\u001b[0;31mConnectionError\u001b[0m                           Traceback (most recent call last)",
      "Cell \u001b[0;32mIn[2], line 1\u001b[0m\n\u001b[0;32m----> 1\u001b[0m dataset_path \u001b[38;5;241m=\u001b[39m kagglehub\u001b[38;5;241m.\u001b[39mdataset_download(\u001b[38;5;124m\"\u001b[39m\u001b[38;5;124mhojjatk/mnist-dataset\u001b[39m\u001b[38;5;124m\"\u001b[39m)\n\u001b[1;32m      2\u001b[0m train_image_path \u001b[38;5;241m=\u001b[39m join(dataset_path, \u001b[38;5;124m'\u001b[39m\u001b[38;5;124mtrain-images.idx3-ubyte\u001b[39m\u001b[38;5;124m'\u001b[39m)\n\u001b[1;32m      3\u001b[0m train_labels_path \u001b[38;5;241m=\u001b[39m join(dataset_path, \u001b[38;5;124m'\u001b[39m\u001b[38;5;124mtrain-labels.idx1-ubyte\u001b[39m\u001b[38;5;124m'\u001b[39m)\n",
      "File \u001b[0;32m~/miniconda3/envs/CNN/lib/python3.12/site-packages/kagglehub/datasets.py:40\u001b[0m, in \u001b[0;36mdataset_download\u001b[0;34m(handle, path, force_download)\u001b[0m\n\u001b[1;32m     38\u001b[0m h \u001b[38;5;241m=\u001b[39m parse_dataset_handle(handle)\n\u001b[1;32m     39\u001b[0m logger\u001b[38;5;241m.\u001b[39minfo(\u001b[38;5;124mf\u001b[39m\u001b[38;5;124m\"\u001b[39m\u001b[38;5;124mDownloading Dataset: \u001b[39m\u001b[38;5;132;01m{\u001b[39;00mh\u001b[38;5;241m.\u001b[39mto_url()\u001b[38;5;132;01m}\u001b[39;00m\u001b[38;5;124m ...\u001b[39m\u001b[38;5;124m\"\u001b[39m, extra\u001b[38;5;241m=\u001b[39m{\u001b[38;5;241m*\u001b[39m\u001b[38;5;241m*\u001b[39mEXTRA_CONSOLE_BLOCK})\n\u001b[0;32m---> 40\u001b[0m \u001b[38;5;28;01mreturn\u001b[39;00m registry\u001b[38;5;241m.\u001b[39mdataset_resolver(h, path, force_download\u001b[38;5;241m=\u001b[39mforce_download)\n",
      "File \u001b[0;32m~/miniconda3/envs/CNN/lib/python3.12/site-packages/kagglehub/registry.py:23\u001b[0m, in \u001b[0;36mMultiImplRegistry.__call__\u001b[0;34m(self, *args, **kwargs)\u001b[0m\n\u001b[1;32m     21\u001b[0m \u001b[38;5;28;01mfor\u001b[39;00m impl \u001b[38;5;129;01min\u001b[39;00m \u001b[38;5;28mreversed\u001b[39m(\u001b[38;5;28mself\u001b[39m\u001b[38;5;241m.\u001b[39m_impls):\n\u001b[1;32m     22\u001b[0m     \u001b[38;5;28;01mif\u001b[39;00m impl\u001b[38;5;241m.\u001b[39mis_supported(\u001b[38;5;241m*\u001b[39margs, \u001b[38;5;241m*\u001b[39m\u001b[38;5;241m*\u001b[39mkwargs):\n\u001b[0;32m---> 23\u001b[0m         \u001b[38;5;28;01mreturn\u001b[39;00m impl(\u001b[38;5;241m*\u001b[39margs, \u001b[38;5;241m*\u001b[39m\u001b[38;5;241m*\u001b[39mkwargs)\n\u001b[1;32m     24\u001b[0m     \u001b[38;5;28;01melse\u001b[39;00m:\n\u001b[1;32m     25\u001b[0m         fails\u001b[38;5;241m.\u001b[39mappend(\u001b[38;5;28mtype\u001b[39m(impl)\u001b[38;5;241m.\u001b[39m\u001b[38;5;18m__name__\u001b[39m)\n",
      "File \u001b[0;32m~/miniconda3/envs/CNN/lib/python3.12/site-packages/kagglehub/http_resolver.py:105\u001b[0m, in \u001b[0;36mDatasetHttpResolver.__call__\u001b[0;34m(self, h, path, force_download)\u001b[0m\n\u001b[1;32m    102\u001b[0m api_client \u001b[38;5;241m=\u001b[39m KaggleApiV1Client()\n\u001b[1;32m    104\u001b[0m \u001b[38;5;28;01mif\u001b[39;00m \u001b[38;5;129;01mnot\u001b[39;00m h\u001b[38;5;241m.\u001b[39mis_versioned():\n\u001b[0;32m--> 105\u001b[0m     h\u001b[38;5;241m.\u001b[39mversion \u001b[38;5;241m=\u001b[39m _get_current_version(api_client, h)\n\u001b[1;32m    107\u001b[0m dataset_path \u001b[38;5;241m=\u001b[39m load_from_cache(h, path)\n\u001b[1;32m    108\u001b[0m \u001b[38;5;28;01mif\u001b[39;00m dataset_path \u001b[38;5;129;01mand\u001b[39;00m \u001b[38;5;129;01mnot\u001b[39;00m force_download:\n",
      "File \u001b[0;32m~/miniconda3/envs/CNN/lib/python3.12/site-packages/kagglehub/http_resolver.py:290\u001b[0m, in \u001b[0;36m_get_current_version\u001b[0;34m(api_client, h)\u001b[0m\n\u001b[1;32m    287\u001b[0m     \u001b[38;5;28;01mreturn\u001b[39;00m json_response[MODEL_INSTANCE_VERSION_FIELD]\n\u001b[1;32m    289\u001b[0m \u001b[38;5;28;01melif\u001b[39;00m \u001b[38;5;28misinstance\u001b[39m(h, DatasetHandle):\n\u001b[0;32m--> 290\u001b[0m     json_response \u001b[38;5;241m=\u001b[39m api_client\u001b[38;5;241m.\u001b[39mget(_build_get_dataset_url_path(h), h)\n\u001b[1;32m    291\u001b[0m     \u001b[38;5;28;01mif\u001b[39;00m DATASET_CURRENT_VERSION_FIELD \u001b[38;5;129;01mnot\u001b[39;00m \u001b[38;5;129;01min\u001b[39;00m json_response:\n\u001b[1;32m    292\u001b[0m         msg \u001b[38;5;241m=\u001b[39m \u001b[38;5;124mf\u001b[39m\u001b[38;5;124m\"\u001b[39m\u001b[38;5;124mInvalid GetDataset API response. Expected to include a \u001b[39m\u001b[38;5;132;01m{\u001b[39;00mDATASET_CURRENT_VERSION_FIELD\u001b[38;5;132;01m}\u001b[39;00m\u001b[38;5;124m field\u001b[39m\u001b[38;5;124m\"\u001b[39m\n",
      "File \u001b[0;32m~/miniconda3/envs/CNN/lib/python3.12/site-packages/kagglehub/clients.py:111\u001b[0m, in \u001b[0;36mKaggleApiV1Client.get\u001b[0;34m(self, path, resource_handle)\u001b[0m\n\u001b[1;32m    109\u001b[0m \u001b[38;5;28;01mdef\u001b[39;00m \u001b[38;5;21mget\u001b[39m(\u001b[38;5;28mself\u001b[39m, path: \u001b[38;5;28mstr\u001b[39m, resource_handle: Optional[ResourceHandle] \u001b[38;5;241m=\u001b[39m \u001b[38;5;28;01mNone\u001b[39;00m) \u001b[38;5;241m-\u001b[39m\u001b[38;5;241m>\u001b[39m \u001b[38;5;28mdict\u001b[39m:\n\u001b[1;32m    110\u001b[0m     url \u001b[38;5;241m=\u001b[39m \u001b[38;5;28mself\u001b[39m\u001b[38;5;241m.\u001b[39m_build_url(path)\n\u001b[0;32m--> 111\u001b[0m     \u001b[38;5;28;01mwith\u001b[39;00m requests\u001b[38;5;241m.\u001b[39mget(\n\u001b[1;32m    112\u001b[0m         url,\n\u001b[1;32m    113\u001b[0m         headers\u001b[38;5;241m=\u001b[39m{\u001b[38;5;124m\"\u001b[39m\u001b[38;5;124mUser-Agent\u001b[39m\u001b[38;5;124m\"\u001b[39m: get_user_agent()},\n\u001b[1;32m    114\u001b[0m         auth\u001b[38;5;241m=\u001b[39m\u001b[38;5;28mself\u001b[39m\u001b[38;5;241m.\u001b[39m_get_auth(),\n\u001b[1;32m    115\u001b[0m         timeout\u001b[38;5;241m=\u001b[39m(DEFAULT_CONNECT_TIMEOUT, DEFAULT_READ_TIMEOUT),\n\u001b[1;32m    116\u001b[0m     ) \u001b[38;5;28;01mas\u001b[39;00m response:\n\u001b[1;32m    117\u001b[0m         kaggle_api_raise_for_status(response, resource_handle)\n\u001b[1;32m    118\u001b[0m         \u001b[38;5;28mself\u001b[39m\u001b[38;5;241m.\u001b[39m_check_for_version_update(response)\n",
      "File \u001b[0;32m~/miniconda3/envs/CNN/lib/python3.12/site-packages/requests/api.py:73\u001b[0m, in \u001b[0;36mget\u001b[0;34m(url, params, **kwargs)\u001b[0m\n\u001b[1;32m     62\u001b[0m \u001b[38;5;28;01mdef\u001b[39;00m \u001b[38;5;21mget\u001b[39m(url, params\u001b[38;5;241m=\u001b[39m\u001b[38;5;28;01mNone\u001b[39;00m, \u001b[38;5;241m*\u001b[39m\u001b[38;5;241m*\u001b[39mkwargs):\n\u001b[1;32m     63\u001b[0m \u001b[38;5;250m    \u001b[39m\u001b[38;5;124mr\u001b[39m\u001b[38;5;124;03m\"\"\"Sends a GET request.\u001b[39;00m\n\u001b[1;32m     64\u001b[0m \n\u001b[1;32m     65\u001b[0m \u001b[38;5;124;03m    :param url: URL for the new :class:`Request` object.\u001b[39;00m\n\u001b[0;32m   (...)\u001b[0m\n\u001b[1;32m     70\u001b[0m \u001b[38;5;124;03m    :rtype: requests.Response\u001b[39;00m\n\u001b[1;32m     71\u001b[0m \u001b[38;5;124;03m    \"\"\"\u001b[39;00m\n\u001b[0;32m---> 73\u001b[0m     \u001b[38;5;28;01mreturn\u001b[39;00m request(\u001b[38;5;124m\"\u001b[39m\u001b[38;5;124mget\u001b[39m\u001b[38;5;124m\"\u001b[39m, url, params\u001b[38;5;241m=\u001b[39mparams, \u001b[38;5;241m*\u001b[39m\u001b[38;5;241m*\u001b[39mkwargs)\n",
      "File \u001b[0;32m~/miniconda3/envs/CNN/lib/python3.12/site-packages/requests/api.py:59\u001b[0m, in \u001b[0;36mrequest\u001b[0;34m(method, url, **kwargs)\u001b[0m\n\u001b[1;32m     55\u001b[0m \u001b[38;5;66;03m# By using the 'with' statement we are sure the session is closed, thus we\u001b[39;00m\n\u001b[1;32m     56\u001b[0m \u001b[38;5;66;03m# avoid leaving sockets open which can trigger a ResourceWarning in some\u001b[39;00m\n\u001b[1;32m     57\u001b[0m \u001b[38;5;66;03m# cases, and look like a memory leak in others.\u001b[39;00m\n\u001b[1;32m     58\u001b[0m \u001b[38;5;28;01mwith\u001b[39;00m sessions\u001b[38;5;241m.\u001b[39mSession() \u001b[38;5;28;01mas\u001b[39;00m session:\n\u001b[0;32m---> 59\u001b[0m     \u001b[38;5;28;01mreturn\u001b[39;00m session\u001b[38;5;241m.\u001b[39mrequest(method\u001b[38;5;241m=\u001b[39mmethod, url\u001b[38;5;241m=\u001b[39murl, \u001b[38;5;241m*\u001b[39m\u001b[38;5;241m*\u001b[39mkwargs)\n",
      "File \u001b[0;32m~/miniconda3/envs/CNN/lib/python3.12/site-packages/requests/sessions.py:589\u001b[0m, in \u001b[0;36mSession.request\u001b[0;34m(self, method, url, params, data, headers, cookies, files, auth, timeout, allow_redirects, proxies, hooks, stream, verify, cert, json)\u001b[0m\n\u001b[1;32m    584\u001b[0m send_kwargs \u001b[38;5;241m=\u001b[39m {\n\u001b[1;32m    585\u001b[0m     \u001b[38;5;124m\"\u001b[39m\u001b[38;5;124mtimeout\u001b[39m\u001b[38;5;124m\"\u001b[39m: timeout,\n\u001b[1;32m    586\u001b[0m     \u001b[38;5;124m\"\u001b[39m\u001b[38;5;124mallow_redirects\u001b[39m\u001b[38;5;124m\"\u001b[39m: allow_redirects,\n\u001b[1;32m    587\u001b[0m }\n\u001b[1;32m    588\u001b[0m send_kwargs\u001b[38;5;241m.\u001b[39mupdate(settings)\n\u001b[0;32m--> 589\u001b[0m resp \u001b[38;5;241m=\u001b[39m \u001b[38;5;28mself\u001b[39m\u001b[38;5;241m.\u001b[39msend(prep, \u001b[38;5;241m*\u001b[39m\u001b[38;5;241m*\u001b[39msend_kwargs)\n\u001b[1;32m    591\u001b[0m \u001b[38;5;28;01mreturn\u001b[39;00m resp\n",
      "File \u001b[0;32m~/miniconda3/envs/CNN/lib/python3.12/site-packages/requests/sessions.py:703\u001b[0m, in \u001b[0;36mSession.send\u001b[0;34m(self, request, **kwargs)\u001b[0m\n\u001b[1;32m    700\u001b[0m start \u001b[38;5;241m=\u001b[39m preferred_clock()\n\u001b[1;32m    702\u001b[0m \u001b[38;5;66;03m# Send the request\u001b[39;00m\n\u001b[0;32m--> 703\u001b[0m r \u001b[38;5;241m=\u001b[39m adapter\u001b[38;5;241m.\u001b[39msend(request, \u001b[38;5;241m*\u001b[39m\u001b[38;5;241m*\u001b[39mkwargs)\n\u001b[1;32m    705\u001b[0m \u001b[38;5;66;03m# Total elapsed time of the request (approximately)\u001b[39;00m\n\u001b[1;32m    706\u001b[0m elapsed \u001b[38;5;241m=\u001b[39m preferred_clock() \u001b[38;5;241m-\u001b[39m start\n",
      "File \u001b[0;32m~/miniconda3/envs/CNN/lib/python3.12/site-packages/requests/adapters.py:700\u001b[0m, in \u001b[0;36mHTTPAdapter.send\u001b[0;34m(self, request, stream, timeout, verify, cert, proxies)\u001b[0m\n\u001b[1;32m    696\u001b[0m     \u001b[38;5;28;01mif\u001b[39;00m \u001b[38;5;28misinstance\u001b[39m(e\u001b[38;5;241m.\u001b[39mreason, _SSLError):\n\u001b[1;32m    697\u001b[0m         \u001b[38;5;66;03m# This branch is for urllib3 v1.22 and later.\u001b[39;00m\n\u001b[1;32m    698\u001b[0m         \u001b[38;5;28;01mraise\u001b[39;00m SSLError(e, request\u001b[38;5;241m=\u001b[39mrequest)\n\u001b[0;32m--> 700\u001b[0m     \u001b[38;5;28;01mraise\u001b[39;00m \u001b[38;5;167;01mConnectionError\u001b[39;00m(e, request\u001b[38;5;241m=\u001b[39mrequest)\n\u001b[1;32m    702\u001b[0m \u001b[38;5;28;01mexcept\u001b[39;00m ClosedPoolError \u001b[38;5;28;01mas\u001b[39;00m e:\n\u001b[1;32m    703\u001b[0m     \u001b[38;5;28;01mraise\u001b[39;00m \u001b[38;5;167;01mConnectionError\u001b[39;00m(e, request\u001b[38;5;241m=\u001b[39mrequest)\n",
      "\u001b[0;31mConnectionError\u001b[0m: HTTPSConnectionPool(host='www.kaggle.com', port=443): Max retries exceeded with url: /api/v1/datasets/view/hojjatk/mnist-dataset (Caused by NameResolutionError(\"<urllib3.connection.HTTPSConnection object at 0x7fdbc1675d00>: Failed to resolve 'www.kaggle.com' ([Errno -2] Name or service not known)\"))"
     ]
    }
   ],
   "source": [
    "dataset_path = kagglehub.dataset_download(\"hojjatk/mnist-dataset\")\n",
    "train_image_path = join(dataset_path, 'train-images.idx3-ubyte')\n",
    "train_labels_path = join(dataset_path, 'train-labels.idx1-ubyte')\n",
    "test_image_path = join(dataset_path, 't10k-images.idx3-ubyte')\n",
    "test_labels_path = join(dataset_path, 't10k-labels.idx1-ubyte')\n",
    "\n",
    "def load_images(path) -> np.ndarray:\n",
    "    with open(path, 'rb') as f:\n",
    "        return (\n",
    "            np.frombuffer(f.read(), dtype=np.uint8)\n",
    "            [16:]\n",
    "            .reshape(-1, 28**2)\n",
    "            / 255\n",
    "        )\n",
    "\n",
    "train_dataset = load_images(train_image_path)"
   ]
  },
  {
   "cell_type": "code",
   "execution_count": 33,
   "metadata": {},
   "outputs": [
    {
     "data": {
      "application/vnd.plotly.v1+json": {
       "config": {
        "plotlyServerURL": "https://plot.ly"
       },
       "data": [
        {
         "coloraxis": "coloraxis",
         "hovertemplate": "x: %{x}<br>y: %{y}<br>color: %{z}<extra></extra>",
         "name": "0",
         "type": "heatmap",
         "xaxis": "x",
         "yaxis": "y",
         "z": [
          [
           0,
           0,
           0,
           0,
           0,
           0,
           0,
           0,
           0,
           0,
           0,
           0,
           0,
           0,
           0,
           0,
           0,
           0,
           0,
           0,
           0,
           0,
           0,
           0,
           0,
           0,
           0,
           0
          ],
          [
           0,
           0,
           0,
           0,
           0,
           0,
           0,
           0,
           0,
           0,
           0,
           0,
           0,
           0,
           0,
           0,
           0,
           0,
           0,
           0,
           0,
           0,
           0,
           0,
           0,
           0,
           0,
           0
          ],
          [
           0,
           0,
           0,
           0,
           0,
           0,
           0,
           0,
           0,
           0,
           0,
           0,
           0,
           0,
           0,
           0,
           0,
           0,
           0,
           0,
           0,
           0,
           0,
           0,
           0,
           0,
           0,
           0
          ],
          [
           0,
           0,
           0,
           0,
           0,
           0,
           0,
           0,
           0,
           0,
           0,
           0,
           0,
           0,
           0,
           0,
           0,
           0,
           0,
           0,
           0,
           0,
           0,
           0,
           0,
           0,
           0,
           0
          ],
          [
           0,
           0,
           0,
           0,
           0,
           0,
           0,
           0,
           0,
           0,
           0,
           0,
           0,
           0,
           0,
           0,
           0,
           0,
           0,
           0,
           0,
           0,
           0,
           0,
           0,
           0,
           0,
           0
          ],
          [
           0,
           0,
           0,
           0,
           0,
           0,
           0,
           0,
           0,
           0,
           0,
           0,
           0.011764705882352941,
           0.07058823529411765,
           0.07058823529411765,
           0.07058823529411765,
           0.49411764705882355,
           0.5333333333333333,
           0.6862745098039216,
           0.10196078431372549,
           0.6509803921568628,
           1,
           0.9686274509803922,
           0.4980392156862745,
           0,
           0,
           0,
           0
          ],
          [
           0,
           0,
           0,
           0,
           0,
           0,
           0,
           0,
           0.11764705882352941,
           0.1411764705882353,
           0.3686274509803922,
           0.6039215686274509,
           0.6666666666666666,
           0.9921568627450981,
           0.9921568627450981,
           0.9921568627450981,
           0.9921568627450981,
           0.9921568627450981,
           0.8823529411764706,
           0.6745098039215687,
           0.9921568627450981,
           0.9490196078431372,
           0.7647058823529411,
           0.25098039215686274,
           0,
           0,
           0,
           0
          ],
          [
           0,
           0,
           0,
           0,
           0,
           0,
           0,
           0.19215686274509805,
           0.9333333333333333,
           0.9921568627450981,
           0.9921568627450981,
           0.9921568627450981,
           0.9921568627450981,
           0.9921568627450981,
           0.9921568627450981,
           0.9921568627450981,
           0.9921568627450981,
           0.984313725490196,
           0.36470588235294116,
           0.3215686274509804,
           0.3215686274509804,
           0.2196078431372549,
           0.15294117647058825,
           0,
           0,
           0,
           0,
           0
          ],
          [
           0,
           0,
           0,
           0,
           0,
           0,
           0,
           0.07058823529411765,
           0.8588235294117647,
           0.9921568627450981,
           0.9921568627450981,
           0.9921568627450981,
           0.9921568627450981,
           0.9921568627450981,
           0.7764705882352941,
           0.7137254901960784,
           0.9686274509803922,
           0.9450980392156862,
           0,
           0,
           0,
           0,
           0,
           0,
           0,
           0,
           0,
           0
          ],
          [
           0,
           0,
           0,
           0,
           0,
           0,
           0,
           0,
           0.3137254901960784,
           0.611764705882353,
           0.4196078431372549,
           0.9921568627450981,
           0.9921568627450981,
           0.803921568627451,
           0.043137254901960784,
           0,
           0.16862745098039217,
           0.6039215686274509,
           0,
           0,
           0,
           0,
           0,
           0,
           0,
           0,
           0,
           0
          ],
          [
           0,
           0,
           0,
           0,
           0,
           0,
           0,
           0,
           0,
           0.054901960784313725,
           0.00392156862745098,
           0.6039215686274509,
           0.9921568627450981,
           0.35294117647058826,
           0,
           0,
           0,
           0,
           0,
           0,
           0,
           0,
           0,
           0,
           0,
           0,
           0,
           0
          ],
          [
           0,
           0,
           0,
           0,
           0,
           0,
           0,
           0,
           0,
           0,
           0,
           0.5450980392156862,
           0.9921568627450981,
           0.7450980392156863,
           0.00784313725490196,
           0,
           0,
           0,
           0,
           0,
           0,
           0,
           0,
           0,
           0,
           0,
           0,
           0
          ],
          [
           0,
           0,
           0,
           0,
           0,
           0,
           0,
           0,
           0,
           0,
           0,
           0.043137254901960784,
           0.7450980392156863,
           0.9921568627450981,
           0.27450980392156865,
           0,
           0,
           0,
           0,
           0,
           0,
           0,
           0,
           0,
           0,
           0,
           0,
           0
          ],
          [
           0,
           0,
           0,
           0,
           0,
           0,
           0,
           0,
           0,
           0,
           0,
           0,
           0.13725490196078433,
           0.9450980392156862,
           0.8823529411764706,
           0.6274509803921569,
           0.4235294117647059,
           0.00392156862745098,
           0,
           0,
           0,
           0,
           0,
           0,
           0,
           0,
           0,
           0
          ],
          [
           0,
           0,
           0,
           0,
           0,
           0,
           0,
           0,
           0,
           0,
           0,
           0,
           0,
           0.3176470588235294,
           0.9411764705882353,
           0.9921568627450981,
           0.9921568627450981,
           0.4666666666666667,
           0.09803921568627451,
           0,
           0,
           0,
           0,
           0,
           0,
           0,
           0,
           0
          ],
          [
           0,
           0,
           0,
           0,
           0,
           0,
           0,
           0,
           0,
           0,
           0,
           0,
           0,
           0,
           0.17647058823529413,
           0.7294117647058823,
           0.9921568627450981,
           0.9921568627450981,
           0.5882352941176471,
           0.10588235294117647,
           0,
           0,
           0,
           0,
           0,
           0,
           0,
           0
          ],
          [
           0,
           0,
           0,
           0,
           0,
           0,
           0,
           0,
           0,
           0,
           0,
           0,
           0,
           0,
           0,
           0.06274509803921569,
           0.36470588235294116,
           0.9882352941176471,
           0.9921568627450981,
           0.7333333333333333,
           0,
           0,
           0,
           0,
           0,
           0,
           0,
           0
          ],
          [
           0,
           0,
           0,
           0,
           0,
           0,
           0,
           0,
           0,
           0,
           0,
           0,
           0,
           0,
           0,
           0,
           0,
           0.9764705882352941,
           0.9921568627450981,
           0.9764705882352941,
           0.25098039215686274,
           0,
           0,
           0,
           0,
           0,
           0,
           0
          ],
          [
           0,
           0,
           0,
           0,
           0,
           0,
           0,
           0,
           0,
           0,
           0,
           0,
           0,
           0,
           0.1803921568627451,
           0.5098039215686274,
           0.7176470588235294,
           0.9921568627450981,
           0.9921568627450981,
           0.8117647058823529,
           0.00784313725490196,
           0,
           0,
           0,
           0,
           0,
           0,
           0
          ],
          [
           0,
           0,
           0,
           0,
           0,
           0,
           0,
           0,
           0,
           0,
           0,
           0,
           0.15294117647058825,
           0.5803921568627451,
           0.8980392156862745,
           0.9921568627450981,
           0.9921568627450981,
           0.9921568627450981,
           0.9803921568627451,
           0.7137254901960784,
           0,
           0,
           0,
           0,
           0,
           0,
           0,
           0
          ],
          [
           0,
           0,
           0,
           0,
           0,
           0,
           0,
           0,
           0,
           0,
           0.09411764705882353,
           0.4470588235294118,
           0.8666666666666667,
           0.9921568627450981,
           0.9921568627450981,
           0.9921568627450981,
           0.9921568627450981,
           0.788235294117647,
           0.3058823529411765,
           0,
           0,
           0,
           0,
           0,
           0,
           0,
           0,
           0
          ],
          [
           0,
           0,
           0,
           0,
           0,
           0,
           0,
           0,
           0.09019607843137255,
           0.25882352941176473,
           0.8352941176470589,
           0.9921568627450981,
           0.9921568627450981,
           0.9921568627450981,
           0.9921568627450981,
           0.7764705882352941,
           0.3176470588235294,
           0.00784313725490196,
           0,
           0,
           0,
           0,
           0,
           0,
           0,
           0,
           0,
           0
          ],
          [
           0,
           0,
           0,
           0,
           0,
           0,
           0.07058823529411765,
           0.6705882352941176,
           0.8588235294117647,
           0.9921568627450981,
           0.9921568627450981,
           0.9921568627450981,
           0.9921568627450981,
           0.7647058823529411,
           0.3137254901960784,
           0.03529411764705882,
           0,
           0,
           0,
           0,
           0,
           0,
           0,
           0,
           0,
           0,
           0,
           0
          ],
          [
           0,
           0,
           0,
           0,
           0.21568627450980393,
           0.6745098039215687,
           0.8862745098039215,
           0.9921568627450981,
           0.9921568627450981,
           0.9921568627450981,
           0.9921568627450981,
           0.9568627450980393,
           0.5215686274509804,
           0.043137254901960784,
           0,
           0,
           0,
           0,
           0,
           0,
           0,
           0,
           0,
           0,
           0,
           0,
           0,
           0
          ],
          [
           0,
           0,
           0,
           0,
           0.5333333333333333,
           0.9921568627450981,
           0.9921568627450981,
           0.9921568627450981,
           0.8313725490196079,
           0.5294117647058824,
           0.5176470588235295,
           0.06274509803921569,
           0,
           0,
           0,
           0,
           0,
           0,
           0,
           0,
           0,
           0,
           0,
           0,
           0,
           0,
           0,
           0
          ],
          [
           0,
           0,
           0,
           0,
           0,
           0,
           0,
           0,
           0,
           0,
           0,
           0,
           0,
           0,
           0,
           0,
           0,
           0,
           0,
           0,
           0,
           0,
           0,
           0,
           0,
           0,
           0,
           0
          ],
          [
           0,
           0,
           0,
           0,
           0,
           0,
           0,
           0,
           0,
           0,
           0,
           0,
           0,
           0,
           0,
           0,
           0,
           0,
           0,
           0,
           0,
           0,
           0,
           0,
           0,
           0,
           0,
           0
          ],
          [
           0,
           0,
           0,
           0,
           0,
           0,
           0,
           0,
           0,
           0,
           0,
           0,
           0,
           0,
           0,
           0,
           0,
           0,
           0,
           0,
           0,
           0,
           0,
           0,
           0,
           0,
           0,
           0
          ]
         ]
        }
       ],
       "layout": {
        "coloraxis": {
         "colorscale": [
          [
           0,
           "#0d0887"
          ],
          [
           0.1111111111111111,
           "#46039f"
          ],
          [
           0.2222222222222222,
           "#7201a8"
          ],
          [
           0.3333333333333333,
           "#9c179e"
          ],
          [
           0.4444444444444444,
           "#bd3786"
          ],
          [
           0.5555555555555556,
           "#d8576b"
          ],
          [
           0.6666666666666666,
           "#ed7953"
          ],
          [
           0.7777777777777778,
           "#fb9f3a"
          ],
          [
           0.8888888888888888,
           "#fdca26"
          ],
          [
           1,
           "#f0f921"
          ]
         ]
        },
        "margin": {
         "t": 60
        },
        "template": {
         "data": {
          "bar": [
           {
            "error_x": {
             "color": "#2a3f5f"
            },
            "error_y": {
             "color": "#2a3f5f"
            },
            "marker": {
             "line": {
              "color": "#E5ECF6",
              "width": 0.5
             },
             "pattern": {
              "fillmode": "overlay",
              "size": 10,
              "solidity": 0.2
             }
            },
            "type": "bar"
           }
          ],
          "barpolar": [
           {
            "marker": {
             "line": {
              "color": "#E5ECF6",
              "width": 0.5
             },
             "pattern": {
              "fillmode": "overlay",
              "size": 10,
              "solidity": 0.2
             }
            },
            "type": "barpolar"
           }
          ],
          "carpet": [
           {
            "aaxis": {
             "endlinecolor": "#2a3f5f",
             "gridcolor": "white",
             "linecolor": "white",
             "minorgridcolor": "white",
             "startlinecolor": "#2a3f5f"
            },
            "baxis": {
             "endlinecolor": "#2a3f5f",
             "gridcolor": "white",
             "linecolor": "white",
             "minorgridcolor": "white",
             "startlinecolor": "#2a3f5f"
            },
            "type": "carpet"
           }
          ],
          "choropleth": [
           {
            "colorbar": {
             "outlinewidth": 0,
             "ticks": ""
            },
            "type": "choropleth"
           }
          ],
          "contour": [
           {
            "colorbar": {
             "outlinewidth": 0,
             "ticks": ""
            },
            "colorscale": [
             [
              0,
              "#0d0887"
             ],
             [
              0.1111111111111111,
              "#46039f"
             ],
             [
              0.2222222222222222,
              "#7201a8"
             ],
             [
              0.3333333333333333,
              "#9c179e"
             ],
             [
              0.4444444444444444,
              "#bd3786"
             ],
             [
              0.5555555555555556,
              "#d8576b"
             ],
             [
              0.6666666666666666,
              "#ed7953"
             ],
             [
              0.7777777777777778,
              "#fb9f3a"
             ],
             [
              0.8888888888888888,
              "#fdca26"
             ],
             [
              1,
              "#f0f921"
             ]
            ],
            "type": "contour"
           }
          ],
          "contourcarpet": [
           {
            "colorbar": {
             "outlinewidth": 0,
             "ticks": ""
            },
            "type": "contourcarpet"
           }
          ],
          "heatmap": [
           {
            "colorbar": {
             "outlinewidth": 0,
             "ticks": ""
            },
            "colorscale": [
             [
              0,
              "#0d0887"
             ],
             [
              0.1111111111111111,
              "#46039f"
             ],
             [
              0.2222222222222222,
              "#7201a8"
             ],
             [
              0.3333333333333333,
              "#9c179e"
             ],
             [
              0.4444444444444444,
              "#bd3786"
             ],
             [
              0.5555555555555556,
              "#d8576b"
             ],
             [
              0.6666666666666666,
              "#ed7953"
             ],
             [
              0.7777777777777778,
              "#fb9f3a"
             ],
             [
              0.8888888888888888,
              "#fdca26"
             ],
             [
              1,
              "#f0f921"
             ]
            ],
            "type": "heatmap"
           }
          ],
          "heatmapgl": [
           {
            "colorbar": {
             "outlinewidth": 0,
             "ticks": ""
            },
            "colorscale": [
             [
              0,
              "#0d0887"
             ],
             [
              0.1111111111111111,
              "#46039f"
             ],
             [
              0.2222222222222222,
              "#7201a8"
             ],
             [
              0.3333333333333333,
              "#9c179e"
             ],
             [
              0.4444444444444444,
              "#bd3786"
             ],
             [
              0.5555555555555556,
              "#d8576b"
             ],
             [
              0.6666666666666666,
              "#ed7953"
             ],
             [
              0.7777777777777778,
              "#fb9f3a"
             ],
             [
              0.8888888888888888,
              "#fdca26"
             ],
             [
              1,
              "#f0f921"
             ]
            ],
            "type": "heatmapgl"
           }
          ],
          "histogram": [
           {
            "marker": {
             "pattern": {
              "fillmode": "overlay",
              "size": 10,
              "solidity": 0.2
             }
            },
            "type": "histogram"
           }
          ],
          "histogram2d": [
           {
            "colorbar": {
             "outlinewidth": 0,
             "ticks": ""
            },
            "colorscale": [
             [
              0,
              "#0d0887"
             ],
             [
              0.1111111111111111,
              "#46039f"
             ],
             [
              0.2222222222222222,
              "#7201a8"
             ],
             [
              0.3333333333333333,
              "#9c179e"
             ],
             [
              0.4444444444444444,
              "#bd3786"
             ],
             [
              0.5555555555555556,
              "#d8576b"
             ],
             [
              0.6666666666666666,
              "#ed7953"
             ],
             [
              0.7777777777777778,
              "#fb9f3a"
             ],
             [
              0.8888888888888888,
              "#fdca26"
             ],
             [
              1,
              "#f0f921"
             ]
            ],
            "type": "histogram2d"
           }
          ],
          "histogram2dcontour": [
           {
            "colorbar": {
             "outlinewidth": 0,
             "ticks": ""
            },
            "colorscale": [
             [
              0,
              "#0d0887"
             ],
             [
              0.1111111111111111,
              "#46039f"
             ],
             [
              0.2222222222222222,
              "#7201a8"
             ],
             [
              0.3333333333333333,
              "#9c179e"
             ],
             [
              0.4444444444444444,
              "#bd3786"
             ],
             [
              0.5555555555555556,
              "#d8576b"
             ],
             [
              0.6666666666666666,
              "#ed7953"
             ],
             [
              0.7777777777777778,
              "#fb9f3a"
             ],
             [
              0.8888888888888888,
              "#fdca26"
             ],
             [
              1,
              "#f0f921"
             ]
            ],
            "type": "histogram2dcontour"
           }
          ],
          "mesh3d": [
           {
            "colorbar": {
             "outlinewidth": 0,
             "ticks": ""
            },
            "type": "mesh3d"
           }
          ],
          "parcoords": [
           {
            "line": {
             "colorbar": {
              "outlinewidth": 0,
              "ticks": ""
             }
            },
            "type": "parcoords"
           }
          ],
          "pie": [
           {
            "automargin": true,
            "type": "pie"
           }
          ],
          "scatter": [
           {
            "fillpattern": {
             "fillmode": "overlay",
             "size": 10,
             "solidity": 0.2
            },
            "type": "scatter"
           }
          ],
          "scatter3d": [
           {
            "line": {
             "colorbar": {
              "outlinewidth": 0,
              "ticks": ""
             }
            },
            "marker": {
             "colorbar": {
              "outlinewidth": 0,
              "ticks": ""
             }
            },
            "type": "scatter3d"
           }
          ],
          "scattercarpet": [
           {
            "marker": {
             "colorbar": {
              "outlinewidth": 0,
              "ticks": ""
             }
            },
            "type": "scattercarpet"
           }
          ],
          "scattergeo": [
           {
            "marker": {
             "colorbar": {
              "outlinewidth": 0,
              "ticks": ""
             }
            },
            "type": "scattergeo"
           }
          ],
          "scattergl": [
           {
            "marker": {
             "colorbar": {
              "outlinewidth": 0,
              "ticks": ""
             }
            },
            "type": "scattergl"
           }
          ],
          "scattermapbox": [
           {
            "marker": {
             "colorbar": {
              "outlinewidth": 0,
              "ticks": ""
             }
            },
            "type": "scattermapbox"
           }
          ],
          "scatterpolar": [
           {
            "marker": {
             "colorbar": {
              "outlinewidth": 0,
              "ticks": ""
             }
            },
            "type": "scatterpolar"
           }
          ],
          "scatterpolargl": [
           {
            "marker": {
             "colorbar": {
              "outlinewidth": 0,
              "ticks": ""
             }
            },
            "type": "scatterpolargl"
           }
          ],
          "scatterternary": [
           {
            "marker": {
             "colorbar": {
              "outlinewidth": 0,
              "ticks": ""
             }
            },
            "type": "scatterternary"
           }
          ],
          "surface": [
           {
            "colorbar": {
             "outlinewidth": 0,
             "ticks": ""
            },
            "colorscale": [
             [
              0,
              "#0d0887"
             ],
             [
              0.1111111111111111,
              "#46039f"
             ],
             [
              0.2222222222222222,
              "#7201a8"
             ],
             [
              0.3333333333333333,
              "#9c179e"
             ],
             [
              0.4444444444444444,
              "#bd3786"
             ],
             [
              0.5555555555555556,
              "#d8576b"
             ],
             [
              0.6666666666666666,
              "#ed7953"
             ],
             [
              0.7777777777777778,
              "#fb9f3a"
             ],
             [
              0.8888888888888888,
              "#fdca26"
             ],
             [
              1,
              "#f0f921"
             ]
            ],
            "type": "surface"
           }
          ],
          "table": [
           {
            "cells": {
             "fill": {
              "color": "#EBF0F8"
             },
             "line": {
              "color": "white"
             }
            },
            "header": {
             "fill": {
              "color": "#C8D4E3"
             },
             "line": {
              "color": "white"
             }
            },
            "type": "table"
           }
          ]
         },
         "layout": {
          "annotationdefaults": {
           "arrowcolor": "#2a3f5f",
           "arrowhead": 0,
           "arrowwidth": 1
          },
          "autotypenumbers": "strict",
          "coloraxis": {
           "colorbar": {
            "outlinewidth": 0,
            "ticks": ""
           }
          },
          "colorscale": {
           "diverging": [
            [
             0,
             "#8e0152"
            ],
            [
             0.1,
             "#c51b7d"
            ],
            [
             0.2,
             "#de77ae"
            ],
            [
             0.3,
             "#f1b6da"
            ],
            [
             0.4,
             "#fde0ef"
            ],
            [
             0.5,
             "#f7f7f7"
            ],
            [
             0.6,
             "#e6f5d0"
            ],
            [
             0.7,
             "#b8e186"
            ],
            [
             0.8,
             "#7fbc41"
            ],
            [
             0.9,
             "#4d9221"
            ],
            [
             1,
             "#276419"
            ]
           ],
           "sequential": [
            [
             0,
             "#0d0887"
            ],
            [
             0.1111111111111111,
             "#46039f"
            ],
            [
             0.2222222222222222,
             "#7201a8"
            ],
            [
             0.3333333333333333,
             "#9c179e"
            ],
            [
             0.4444444444444444,
             "#bd3786"
            ],
            [
             0.5555555555555556,
             "#d8576b"
            ],
            [
             0.6666666666666666,
             "#ed7953"
            ],
            [
             0.7777777777777778,
             "#fb9f3a"
            ],
            [
             0.8888888888888888,
             "#fdca26"
            ],
            [
             1,
             "#f0f921"
            ]
           ],
           "sequentialminus": [
            [
             0,
             "#0d0887"
            ],
            [
             0.1111111111111111,
             "#46039f"
            ],
            [
             0.2222222222222222,
             "#7201a8"
            ],
            [
             0.3333333333333333,
             "#9c179e"
            ],
            [
             0.4444444444444444,
             "#bd3786"
            ],
            [
             0.5555555555555556,
             "#d8576b"
            ],
            [
             0.6666666666666666,
             "#ed7953"
            ],
            [
             0.7777777777777778,
             "#fb9f3a"
            ],
            [
             0.8888888888888888,
             "#fdca26"
            ],
            [
             1,
             "#f0f921"
            ]
           ]
          },
          "colorway": [
           "#636efa",
           "#EF553B",
           "#00cc96",
           "#ab63fa",
           "#FFA15A",
           "#19d3f3",
           "#FF6692",
           "#B6E880",
           "#FF97FF",
           "#FECB52"
          ],
          "font": {
           "color": "#2a3f5f"
          },
          "geo": {
           "bgcolor": "white",
           "lakecolor": "white",
           "landcolor": "#E5ECF6",
           "showlakes": true,
           "showland": true,
           "subunitcolor": "white"
          },
          "hoverlabel": {
           "align": "left"
          },
          "hovermode": "closest",
          "mapbox": {
           "style": "light"
          },
          "paper_bgcolor": "white",
          "plot_bgcolor": "#E5ECF6",
          "polar": {
           "angularaxis": {
            "gridcolor": "white",
            "linecolor": "white",
            "ticks": ""
           },
           "bgcolor": "#E5ECF6",
           "radialaxis": {
            "gridcolor": "white",
            "linecolor": "white",
            "ticks": ""
           }
          },
          "scene": {
           "xaxis": {
            "backgroundcolor": "#E5ECF6",
            "gridcolor": "white",
            "gridwidth": 2,
            "linecolor": "white",
            "showbackground": true,
            "ticks": "",
            "zerolinecolor": "white"
           },
           "yaxis": {
            "backgroundcolor": "#E5ECF6",
            "gridcolor": "white",
            "gridwidth": 2,
            "linecolor": "white",
            "showbackground": true,
            "ticks": "",
            "zerolinecolor": "white"
           },
           "zaxis": {
            "backgroundcolor": "#E5ECF6",
            "gridcolor": "white",
            "gridwidth": 2,
            "linecolor": "white",
            "showbackground": true,
            "ticks": "",
            "zerolinecolor": "white"
           }
          },
          "shapedefaults": {
           "line": {
            "color": "#2a3f5f"
           }
          },
          "ternary": {
           "aaxis": {
            "gridcolor": "white",
            "linecolor": "white",
            "ticks": ""
           },
           "baxis": {
            "gridcolor": "white",
            "linecolor": "white",
            "ticks": ""
           },
           "bgcolor": "#E5ECF6",
           "caxis": {
            "gridcolor": "white",
            "linecolor": "white",
            "ticks": ""
           }
          },
          "title": {
           "x": 0.05
          },
          "xaxis": {
           "automargin": true,
           "gridcolor": "white",
           "linecolor": "white",
           "ticks": "",
           "title": {
            "standoff": 15
           },
           "zerolinecolor": "white",
           "zerolinewidth": 2
          },
          "yaxis": {
           "automargin": true,
           "gridcolor": "white",
           "linecolor": "white",
           "ticks": "",
           "title": {
            "standoff": 15
           },
           "zerolinecolor": "white",
           "zerolinewidth": 2
          }
         }
        },
        "xaxis": {
         "anchor": "y",
         "constrain": "domain",
         "domain": [
          0,
          1
         ],
         "scaleanchor": "y"
        },
        "yaxis": {
         "anchor": "x",
         "autorange": "reversed",
         "constrain": "domain",
         "domain": [
          0,
          1
         ]
        }
       }
      }
     },
     "metadata": {},
     "output_type": "display_data"
    }
   ],
   "source": [
    "px.imshow(train_dataset[0].reshape(28, 28))"
   ]
  },
  {
   "cell_type": "code",
   "execution_count": 4,
   "metadata": {},
   "outputs": [],
   "source": [
    "INPUT_SHAPE = (28, 28)\n",
    "input = train_dataset[0]"
   ]
  },
  {
   "cell_type": "markdown",
   "metadata": {},
   "source": [
    "#### Cifar 10 for multi channels implementations"
   ]
  },
  {
   "cell_type": "code",
   "execution_count": 6,
   "metadata": {},
   "outputs": [],
   "source": [
    "cifar_10_train_inputs, _, _, _ = load_cifar_10()"
   ]
  },
  {
   "cell_type": "markdown",
   "metadata": {},
   "source": [
    "## Single kernel, input image and channel cross correlation implementation"
   ]
  },
  {
   "cell_type": "markdown",
   "metadata": {},
   "source": [
    "First we declare a kernel, we will store it as a vectore this way we can use vector/matrix dot product to compute the cross correlations \"all at once\"."
   ]
  },
  {
   "cell_type": "code",
   "execution_count": 5,
   "metadata": {},
   "outputs": [
    {
     "data": {
      "text/plain": [
       "array([ 1,  0, -1,  1,  0, -1,  1,  0, -1])"
      ]
     },
     "execution_count": 5,
     "metadata": {},
     "output_type": "execute_result"
    }
   ],
   "source": [
    "kernel = np.array([\n",
    "    [1, 0, -1], \n",
    "    [1, 0, -1],\n",
    "    [1, 0, -1],\n",
    "])\n",
    "kernel_weights = kernel.ravel()\n",
    "kernel_weights"
   ]
  },
  {
   "cell_type": "markdown",
   "metadata": {},
   "source": [
    "First we will create the window index of the kernel.  \n",
    "This is the index that will be slid over the input image to compute the cross correlation."
   ]
  },
  {
   "cell_type": "code",
   "execution_count": 6,
   "metadata": {},
   "outputs": [
    {
     "data": {
      "text/plain": [
       "array([ 0,  1,  2, 28, 29, 30, 56, 57, 58])"
      ]
     },
     "execution_count": 6,
     "metadata": {},
     "output_type": "execute_result"
    }
   ],
   "source": [
    "window_index = np.arange(kernel.shape[0])\n",
    "window_index = np.tile(window_index, kernel.shape[1])\n",
    "window_index += np.repeat(np.arange(kernel.shape[0]) * INPUT_SHAPE[0], kernel.shape[1])\n",
    "window_index"
   ]
  },
  {
   "cell_type": "code",
   "execution_count": 7,
   "metadata": {},
   "outputs": [
    {
     "data": {
      "text/plain": [
       "676"
      ]
     },
     "execution_count": 7,
     "metadata": {},
     "output_type": "execute_result"
    }
   ],
   "source": [
    "nb_horizontal_correlations = 1 + INPUT_SHAPE[0] - kernel.shape[0]\n",
    "nb_vertical_correlations = 1 + INPUT_SHAPE[0] - kernel.shape[0]\n",
    "nb_correlations = nb_horizontal_correlations * nb_vertical_correlations\n",
    "nb_correlations"
   ]
  },
  {
   "cell_type": "code",
   "execution_count": 8,
   "metadata": {},
   "outputs": [],
   "source": [
    "# Here we repeat the window index for each correlation and then add the horizontal and vertical offsets and store the result into a matrix.\n",
    "# Each row corresponds to a correlation and each column corresponds to a window index.\n",
    "# The offsets are computed the same way as the window index.\n",
    "# We reshape the offsets by giving them an extra dimension of size 1 to brodcast the addition over the window indices.\n",
    "horizontal_offsets = np.tile(np.arange(nb_horizontal_correlations), nb_vertical_correlations).reshape(-1, 1)\n",
    "vertical_offsets = np.repeat(np.arange(nb_vertical_correlations) * INPUT_SHAPE[0], nb_vertical_correlations).reshape(-1, 1)\n",
    "correlation_indices = np.tile(window_index, (nb_correlations, 1)) + horizontal_offsets + vertical_offsets"
   ]
  },
  {
   "cell_type": "markdown",
   "metadata": {},
   "source": [
    "### result visualization and comparaison with `scipy.signal`'s `correlated2d`"
   ]
  },
  {
   "cell_type": "code",
   "execution_count": 9,
   "metadata": {},
   "outputs": [
    {
     "data": {
      "application/vnd.plotly.v1+json": {
       "config": {
        "plotlyServerURL": "https://plot.ly"
       },
       "data": [
        {
         "coloraxis": "coloraxis",
         "hovertemplate": "x: %{x}<br>y: %{y}<br>color: %{z}<extra></extra>",
         "name": "0",
         "type": "heatmap",
         "xaxis": "x",
         "yaxis": "y",
         "z": [
          [
           0,
           0,
           0,
           0,
           0,
           0,
           0,
           0,
           0,
           0,
           0,
           0,
           0,
           0,
           0,
           0,
           0,
           0,
           0,
           0,
           0,
           0,
           0,
           0,
           0,
           0
          ],
          [
           0,
           0,
           0,
           0,
           0,
           0,
           0,
           0,
           0,
           0,
           0,
           0,
           0,
           0,
           0,
           0,
           0,
           0,
           0,
           0,
           0,
           0,
           0,
           0,
           0,
           0
          ],
          [
           0,
           0,
           0,
           0,
           0,
           0,
           0,
           0,
           0,
           0,
           0,
           0,
           0,
           0,
           0,
           0,
           0,
           0,
           0,
           0,
           0,
           0,
           0,
           0,
           0,
           0
          ],
          [
           0,
           0,
           0,
           0,
           0,
           0,
           0,
           0,
           0,
           0,
           -0.011764705882352941,
           -0.07058823529411765,
           -0.058823529411764705,
           0,
           -0.42352941176470593,
           -0.4627450980392157,
           -0.19215686274509802,
           0.43137254901960786,
           0.03529411764705881,
           -0.8980392156862745,
           -0.3176470588235294,
           0.5019607843137255,
           0.9686274509803922,
           0.4980392156862745,
           0,
           0
          ],
          [
           0,
           0,
           0,
           0,
           0,
           0,
           -0.11764705882352941,
           -0.1411764705882353,
           -0.25098039215686274,
           -0.46274509803921565,
           -0.3098039215686274,
           -0.45882352941176474,
           -0.38431372549019616,
           0,
           -0.42352941176470593,
           -0.4627450980392157,
           -0.08235294117647052,
           0.7490196078431373,
           -0.0745098039215687,
           -1.172549019607843,
           -0.09019607843137245,
           1.2,
           1.7333333333333334,
           0.7490196078431373,
           0,
           0
          ],
          [
           0,
           0,
           0,
           0,
           0,
           -0.19215686274509805,
           -1.0509803921568628,
           -0.9411764705882353,
           -0.30980392156862746,
           -0.4627450980392156,
           -0.30980392156862746,
           -0.45882352941176474,
           -0.38431372549019616,
           0,
           -0.42352941176470593,
           -0.45490196078431366,
           0.5450980392156863,
           1.411764705882353,
           -0.031372549019607954,
           -1.0705882352941174,
           0.07843137254901972,
           1.4196078431372547,
           1.8862745098039215,
           0.7490196078431373,
           0,
           0
          ],
          [
           0,
           0,
           0,
           0,
           0,
           -0.2627450980392157,
           -1.9098039215686273,
           -1.8627450980392157,
           -0.4431372549019609,
           -0.4627450980392156,
           -0.29803921568627445,
           -0.3882352941176471,
           -0.1098039215686275,
           0.2784313725490196,
           -0.19215686274509802,
           -0.22352941176470575,
           1.7058823529411766,
           1.9254901960784312,
           -0.06666666666666676,
           -0.17254901960784302,
           0.39607843137254906,
           0.9176470588235294,
           0.9176470588235294,
           0.25098039215686274,
           0,
           0
          ],
          [
           0,
           0,
           0,
           0,
           0,
           -0.2627450980392157,
           -2.105882352941176,
           -2.3333333333333335,
           -0.2980392156862746,
           -0.3803921568627451,
           -0.5725490196078431,
           0.18823529411764706,
           1.1647058823529413,
           1.0823529411764707,
           -0.3176470588235294,
           -0.8274509803921567,
           1.7647058823529413,
           2.2117647058823526,
           0.04313725490196074,
           0.10196078431372552,
           0.16862745098039217,
           0.2196078431372549,
           0.15294117647058825,
           0,
           0,
           0
          ],
          [
           0,
           0,
           0,
           0,
           0,
           -0.07058823529411765,
           -1.172549019607843,
           -1.5882352941176472,
           -0.24313725490196086,
           -0.9294117647058823,
           -1.5607843137254902,
           0.43921568627450974,
           2.1568627450980395,
           1.435294117647059,
           -0.3176470588235294,
           -0.8352941176470587,
           1.1372549019607843,
           1.549019607843137,
           0,
           0,
           0,
           0,
           0,
           0,
           0,
           0
          ],
          [
           0,
           0,
           0,
           0,
           0,
           0,
           -0.3137254901960784,
           -0.6666666666666667,
           -0.10980392156862746,
           -1.4745098039215685,
           -2.552941176470588,
           0.23921568627450962,
           2.9254901960784316,
           1.9019607843137256,
           -0.11764705882352941,
           -0.6039215686274509,
           0.16862745098039217,
           0.6039215686274509,
           0,
           0,
           0,
           0,
           0,
           0,
           0,
           0
          ],
          [
           0,
           0,
           0,
           0,
           0,
           0,
           0,
           -0.054901960784313725,
           -0.00392156862745098,
           -1.1372549019607843,
           -2.7254901960784315,
           -0.8980392156862748,
           2.447058823529412,
           2.0901960784313727,
           0.2823529411764706,
           0,
           0,
           0,
           0,
           0,
           0,
           0,
           0,
           0,
           0,
           0
          ],
          [
           0,
           0,
           0,
           0,
           0,
           0,
           0,
           0,
           0,
           -0.588235294117647,
           -1.8745098039215686,
           -2.0941176470588236,
           0.7098039215686276,
           2.054901960784314,
           0.7411764705882351,
           0.6235294117647059,
           0.4235294117647059,
           0.00392156862745098,
           0,
           0,
           0,
           0,
           0,
           0,
           0,
           0
          ],
          [
           0,
           0,
           0,
           0,
           0,
           0,
           0,
           0,
           0,
           -0.043137254901960784,
           -0.8823529411764706,
           -2.211764705882353,
           -1.2156862745098038,
           0.6352941176470588,
           0.6823529411764704,
           1.1490196078431372,
           1.3176470588235294,
           0.47058823529411764,
           0.09803921568627451,
           0,
           0,
           0,
           0,
           0,
           0,
           0
          ],
          [
           0,
           0,
           0,
           0,
           0,
           0,
           0,
           0,
           0,
           0,
           -0.13725490196078433,
           -1.2627450980392156,
           -1.8627450980392157,
           -1.0862745098039217,
           -0.40784313725490207,
           0.8862745098039215,
           1.72156862745098,
           1.3568627450980393,
           0.6862745098039216,
           0.10588235294117647,
           0,
           0,
           0,
           0,
           0,
           0
          ],
          [
           0,
           0,
           0,
           0,
           0,
           0,
           0,
           0,
           0,
           0,
           0,
           -0.3176470588235294,
           -1.1176470588235294,
           -1.4666666666666666,
           -1.231372549019608,
           -0.6627450980392158,
           0.6705882352941175,
           1.607843137254902,
           1.6784313725490196,
           0.8392156862745097,
           0,
           0,
           0,
           0,
           0,
           0
          ],
          [
           0,
           0,
           0,
           0,
           0,
           0,
           0,
           0,
           0,
           0,
           0,
           0,
           -0.17647058823529413,
           -0.792156862745098,
           -1.1803921568627451,
           -2.1647058823529415,
           -1.215686274509804,
           1.1411764705882352,
           2.3215686274509806,
           1.8156862745098037,
           0.25098039215686274,
           0,
           0,
           0,
           0,
           0
          ],
          [
           0,
           0,
           0,
           0,
           0,
           0,
           0,
           0,
           0,
           0,
           0,
           0,
           -0.1803921568627451,
           -0.5725490196078431,
           -0.9019607843137255,
           -2.384313725490196,
           -1.8941176470588235,
           0.43529411764705883,
           2.7176470588235295,
           2.5215686274509803,
           0.2588235294117647,
           0,
           0,
           0,
           0,
           0
          ],
          [
           0,
           0,
           0,
           0,
           0,
           0,
           0,
           0,
           0,
           0,
           -0.15294117647058825,
           -0.5803921568627451,
           -0.9254901960784314,
           -0.9215686274509803,
           -0.6313725490196078,
           -1.4588235294117649,
           -1.2549019607843137,
           0.45882352941176474,
           2.7058823529411766,
           2.5019607843137255,
           0.2588235294117647,
           0,
           0,
           0,
           0,
           0
          ],
          [
           0,
           0,
           0,
           0,
           0,
           0,
           0,
           0,
           -0.09411764705882353,
           -0.4470588235294118,
           -0.9254901960784314,
           -1.1254901960784314,
           -1.0509803921568628,
           -0.9215686274509803,
           -0.6313725490196078,
           -0.2784313725490196,
           0.42352941176470593,
           1.2470588235294118,
           2.2705882352941176,
           1.5254901960784313,
           0.00784313725490196,
           0,
           0,
           0,
           0,
           0
          ],
          [
           0,
           0,
           0,
           0,
           0,
           0,
           -0.09019607843137255,
           -0.25882352941176473,
           -0.8392156862745098,
           -1.1803921568627451,
           -1.0823529411764707,
           -1.1254901960784314,
           -0.8705882352941177,
           -0.196078431372549,
           0.5803921568627451,
           0.9725490196078432,
           1.0156862745098039,
           1.0745098039215686,
           1.2862745098039214,
           0.7137254901960784,
           0,
           0,
           0,
           0,
           0,
           0
          ],
          [
           0,
           0,
           0,
           0,
           -0.07058823529411765,
           -0.6705882352941176,
           -0.8784313725490196,
           -0.5803921568627453,
           -0.9725490196078432,
           -1.1803921568627451,
           -0.9294117647058824,
           -0.3176470588235294,
           0.5529411764705883,
           0.9450980392156862,
           0.9882352941176471,
           1.0078431372549022,
           1.003921568627451,
           0.796078431372549,
           0.3058823529411765,
           0,
           0,
           0,
           0,
           0,
           0,
           0
          ],
          [
           0,
           0,
           -0.21568627450980393,
           -0.6745098039215687,
           -0.7411764705882352,
           -0.988235294117647,
           -0.9843137254901961,
           -0.5803921568627453,
           -0.8784313725490197,
           -0.6980392156862746,
           0.3137254901960784,
           1.1411764705882355,
           1.2000000000000002,
           0.988235294117647,
           0.9882352941176471,
           0.803921568627451,
           0.3176470588235294,
           0.00784313725490196,
           0,
           0,
           0,
           0,
           0,
           0,
           0,
           0
          ],
          [
           0,
           0,
           -0.7490196078431373,
           -1.6666666666666667,
           -1.2,
           -0.988235294117647,
           -0.7333333333333334,
           0.14117647058823524,
           0.180392156862745,
           0.5019607843137255,
           0.9882352941176471,
           1.2039215686274511,
           1.2000000000000002,
           0.7725490196078431,
           0.3137254901960784,
           0.03529411764705882,
           0,
           0,
           0,
           0,
           0,
           0,
           0,
           0,
           0,
           0
          ],
          [
           0,
           0,
           -0.7490196078431373,
           -1.6666666666666667,
           -1.1294117647058823,
           -0.3176470588235294,
           0.05490196078431364,
           0.4627450980392157,
           0.3137254901960784,
           0.5019607843137255,
           0.9882352941176471,
           0.9764705882352942,
           0.5215686274509804,
           0.043137254901960784,
           0,
           0,
           0,
           0,
           0,
           0,
           0,
           0,
           0,
           0,
           0,
           0
          ],
          [
           0,
           0,
           -0.5333333333333333,
           -0.9921568627450981,
           -0.45882352941176474,
           0,
           0.16078431372549018,
           0.4627450980392157,
           0.3137254901960784,
           0.4666666666666667,
           0.5176470588235295,
           0.06274509803921569,
           0,
           0,
           0,
           0,
           0,
           0,
           0,
           0,
           0,
           0,
           0,
           0,
           0,
           0
          ],
          [
           0,
           0,
           0,
           0,
           0,
           0,
           0,
           0,
           0,
           0,
           0,
           0,
           0,
           0,
           0,
           0,
           0,
           0,
           0,
           0,
           0,
           0,
           0,
           0,
           0,
           0
          ]
         ]
        },
        {
         "coloraxis": "coloraxis",
         "hovertemplate": "x: %{x}<br>y: %{y}<br>color: %{z}<extra></extra>",
         "name": "1",
         "type": "heatmap",
         "xaxis": "x2",
         "yaxis": "y2",
         "z": [
          [
           0,
           0,
           0,
           0,
           0,
           0,
           0,
           0,
           0,
           0,
           0,
           0,
           0,
           0,
           0,
           0,
           0,
           0,
           0,
           0,
           0,
           0,
           0,
           0,
           0,
           0
          ],
          [
           0,
           0,
           0,
           0,
           0,
           0,
           0,
           0,
           0,
           0,
           0,
           0,
           0,
           0,
           0,
           0,
           0,
           0,
           0,
           0,
           0,
           0,
           0,
           0,
           0,
           0
          ],
          [
           0,
           0,
           0,
           0,
           0,
           0,
           0,
           0,
           0,
           0,
           0,
           0,
           0,
           0,
           0,
           0,
           0,
           0,
           0,
           0,
           0,
           0,
           0,
           0,
           0,
           0
          ],
          [
           0,
           0,
           0,
           0,
           0,
           0,
           0,
           0,
           0,
           0,
           -0.011764705882352941,
           -0.07058823529411765,
           -0.058823529411764705,
           0,
           -0.42352941176470593,
           -0.4627450980392157,
           -0.19215686274509802,
           0.43137254901960786,
           0.03529411764705881,
           -0.8980392156862745,
           -0.3176470588235294,
           0.5019607843137255,
           0.9686274509803922,
           0.4980392156862745,
           0,
           0
          ],
          [
           0,
           0,
           0,
           0,
           0,
           0,
           -0.11764705882352941,
           -0.1411764705882353,
           -0.25098039215686274,
           -0.46274509803921565,
           -0.3098039215686274,
           -0.45882352941176474,
           -0.38431372549019616,
           0,
           -0.42352941176470593,
           -0.4627450980392157,
           -0.08235294117647052,
           0.7490196078431373,
           -0.0745098039215687,
           -1.172549019607843,
           -0.09019607843137245,
           1.2,
           1.7333333333333334,
           0.7490196078431373,
           0,
           0
          ],
          [
           0,
           0,
           0,
           0,
           0,
           -0.19215686274509805,
           -1.0509803921568628,
           -0.9411764705882353,
           -0.30980392156862746,
           -0.4627450980392156,
           -0.30980392156862735,
           -0.45882352941176474,
           -0.38431372549019616,
           0,
           -0.42352941176470593,
           -0.45490196078431366,
           0.5450980392156863,
           1.4117647058823528,
           -0.031372549019607954,
           -1.0705882352941176,
           0.07843137254901977,
           1.4196078431372547,
           1.8862745098039215,
           0.7490196078431373,
           0,
           0
          ],
          [
           0,
           0,
           0,
           0,
           0,
           -0.2627450980392157,
           -1.9098039215686273,
           -1.8627450980392157,
           -0.4431372549019609,
           -0.4627450980392156,
           -0.29803921568627445,
           -0.3882352941176471,
           -0.1098039215686275,
           0.2784313725490196,
           -0.19215686274509802,
           -0.22352941176470575,
           1.7058823529411766,
           1.9254901960784312,
           -0.06666666666666676,
           -0.17254901960784302,
           0.3960784313725491,
           0.9176470588235294,
           0.9176470588235294,
           0.25098039215686274,
           0,
           0
          ],
          [
           0,
           0,
           0,
           0,
           0,
           -0.2627450980392157,
           -2.105882352941176,
           -2.3333333333333335,
           -0.2980392156862746,
           -0.3803921568627451,
           -0.5725490196078431,
           0.18823529411764706,
           1.1647058823529413,
           1.0823529411764707,
           -0.31764705882352945,
           -0.8274509803921567,
           1.7647058823529411,
           2.211764705882353,
           0.04313725490196074,
           0.10196078431372552,
           0.16862745098039217,
           0.2196078431372549,
           0.15294117647058825,
           0,
           0,
           0
          ],
          [
           0,
           0,
           0,
           0,
           0,
           -0.07058823529411765,
           -1.172549019607843,
           -1.5882352941176472,
           -0.24313725490196086,
           -0.9294117647058823,
           -1.5607843137254902,
           0.43921568627450974,
           2.1568627450980395,
           1.4352941176470588,
           -0.3176470588235294,
           -0.8352941176470587,
           1.1372549019607843,
           1.549019607843137,
           0,
           0,
           0,
           0,
           0,
           0,
           0,
           0
          ],
          [
           0,
           0,
           0,
           0,
           0,
           0,
           -0.3137254901960784,
           -0.6666666666666667,
           -0.10980392156862746,
           -1.4745098039215685,
           -2.552941176470588,
           0.23921568627450962,
           2.9254901960784316,
           1.9019607843137256,
           -0.11764705882352942,
           -0.6039215686274509,
           0.16862745098039217,
           0.6039215686274509,
           0,
           0,
           0,
           0,
           0,
           0,
           0,
           0
          ],
          [
           0,
           0,
           0,
           0,
           0,
           0,
           0,
           -0.054901960784313725,
           -0.00392156862745098,
           -1.1372549019607843,
           -2.7254901960784315,
           -0.8980392156862746,
           2.447058823529412,
           2.0901960784313727,
           0.2823529411764706,
           0,
           0,
           0,
           0,
           0,
           0,
           0,
           0,
           0,
           0,
           0
          ],
          [
           0,
           0,
           0,
           0,
           0,
           0,
           0,
           0,
           0,
           -0.588235294117647,
           -1.8745098039215686,
           -2.0941176470588236,
           0.7098039215686276,
           2.054901960784314,
           0.7411764705882351,
           0.6235294117647059,
           0.4235294117647059,
           0.00392156862745098,
           0,
           0,
           0,
           0,
           0,
           0,
           0,
           0
          ],
          [
           0,
           0,
           0,
           0,
           0,
           0,
           0,
           0,
           0,
           -0.043137254901960784,
           -0.8823529411764706,
           -2.211764705882353,
           -1.215686274509804,
           0.6352941176470588,
           0.6823529411764706,
           1.1490196078431372,
           1.3176470588235294,
           0.47058823529411764,
           0.09803921568627451,
           0,
           0,
           0,
           0,
           0,
           0,
           0
          ],
          [
           0,
           0,
           0,
           0,
           0,
           0,
           0,
           0,
           0,
           0,
           -0.13725490196078433,
           -1.2627450980392156,
           -1.8627450980392157,
           -1.0862745098039217,
           -0.40784313725490207,
           0.8862745098039215,
           1.7215686274509805,
           1.3568627450980393,
           0.6862745098039216,
           0.10588235294117647,
           0,
           0,
           0,
           0,
           0,
           0
          ],
          [
           0,
           0,
           0,
           0,
           0,
           0,
           0,
           0,
           0,
           0,
           0,
           -0.3176470588235294,
           -1.1176470588235294,
           -1.4666666666666666,
           -1.231372549019608,
           -0.6627450980392158,
           0.6705882352941175,
           1.607843137254902,
           1.6784313725490199,
           0.8392156862745097,
           0,
           0,
           0,
           0,
           0,
           0
          ],
          [
           0,
           0,
           0,
           0,
           0,
           0,
           0,
           0,
           0,
           0,
           0,
           0,
           -0.17647058823529413,
           -0.792156862745098,
           -1.1803921568627451,
           -2.1647058823529415,
           -1.215686274509804,
           1.1411764705882352,
           2.3215686274509806,
           1.8156862745098037,
           0.25098039215686274,
           0,
           0,
           0,
           0,
           0
          ],
          [
           0,
           0,
           0,
           0,
           0,
           0,
           0,
           0,
           0,
           0,
           0,
           0,
           -0.1803921568627451,
           -0.5725490196078431,
           -0.9019607843137255,
           -2.384313725490196,
           -1.8941176470588237,
           0.43529411764705883,
           2.7176470588235295,
           2.5215686274509803,
           0.2588235294117647,
           0,
           0,
           0,
           0,
           0
          ],
          [
           0,
           0,
           0,
           0,
           0,
           0,
           0,
           0,
           0,
           0,
           -0.15294117647058825,
           -0.5803921568627451,
           -0.9254901960784314,
           -0.9215686274509803,
           -0.6313725490196078,
           -1.4588235294117649,
           -1.2549019607843137,
           0.45882352941176474,
           2.7058823529411766,
           2.5019607843137255,
           0.2588235294117647,
           0,
           0,
           0,
           0,
           0
          ],
          [
           0,
           0,
           0,
           0,
           0,
           0,
           0,
           0,
           -0.09411764705882353,
           -0.4470588235294118,
           -0.9254901960784314,
           -1.1254901960784314,
           -1.0509803921568628,
           -0.9215686274509803,
           -0.6313725490196078,
           -0.2784313725490196,
           0.42352941176470593,
           1.2470588235294118,
           2.2705882352941176,
           1.5254901960784313,
           0.00784313725490196,
           0,
           0,
           0,
           0,
           0
          ],
          [
           0,
           0,
           0,
           0,
           0,
           0,
           -0.09019607843137255,
           -0.25882352941176473,
           -0.8392156862745098,
           -1.1803921568627451,
           -1.0823529411764707,
           -1.1254901960784314,
           -0.8705882352941177,
           -0.196078431372549,
           0.5803921568627451,
           0.9725490196078432,
           1.0156862745098039,
           1.0745098039215686,
           1.2862745098039214,
           0.7137254901960784,
           0,
           0,
           0,
           0,
           0,
           0
          ],
          [
           0,
           0,
           0,
           0,
           -0.07058823529411765,
           -0.6705882352941176,
           -0.8784313725490196,
           -0.5803921568627453,
           -0.9725490196078432,
           -1.1803921568627451,
           -0.9294117647058824,
           -0.31764705882352934,
           0.5529411764705883,
           0.9450980392156862,
           0.9882352941176471,
           1.007843137254902,
           1.003921568627451,
           0.796078431372549,
           0.3058823529411765,
           0,
           0,
           0,
           0,
           0,
           0,
           0
          ],
          [
           0,
           0,
           -0.21568627450980393,
           -0.6745098039215687,
           -0.7411764705882352,
           -0.988235294117647,
           -0.9843137254901961,
           -0.5803921568627451,
           -0.8784313725490197,
           -0.6980392156862745,
           0.3137254901960784,
           1.1411764705882355,
           1.2000000000000002,
           0.988235294117647,
           0.9882352941176471,
           0.803921568627451,
           0.3176470588235294,
           0.00784313725490196,
           0,
           0,
           0,
           0,
           0,
           0,
           0,
           0
          ],
          [
           0,
           0,
           -0.7490196078431373,
           -1.6666666666666667,
           -1.2,
           -0.988235294117647,
           -0.7333333333333334,
           0.14117647058823524,
           0.180392156862745,
           0.5019607843137255,
           0.9882352941176471,
           1.2039215686274511,
           1.2000000000000002,
           0.7725490196078431,
           0.3137254901960784,
           0.03529411764705882,
           0,
           0,
           0,
           0,
           0,
           0,
           0,
           0,
           0,
           0
          ],
          [
           0,
           0,
           -0.7490196078431373,
           -1.6666666666666667,
           -1.1294117647058823,
           -0.3176470588235294,
           0.05490196078431364,
           0.4627450980392157,
           0.3137254901960784,
           0.5019607843137255,
           0.9882352941176471,
           0.9764705882352942,
           0.5215686274509804,
           0.043137254901960784,
           0,
           0,
           0,
           0,
           0,
           0,
           0,
           0,
           0,
           0,
           0,
           0
          ],
          [
           0,
           0,
           -0.5333333333333333,
           -0.9921568627450981,
           -0.45882352941176474,
           0,
           0.16078431372549018,
           0.4627450980392157,
           0.3137254901960784,
           0.4666666666666667,
           0.5176470588235295,
           0.06274509803921569,
           0,
           0,
           0,
           0,
           0,
           0,
           0,
           0,
           0,
           0,
           0,
           0,
           0,
           0
          ],
          [
           0,
           0,
           0,
           0,
           0,
           0,
           0,
           0,
           0,
           0,
           0,
           0,
           0,
           0,
           0,
           0,
           0,
           0,
           0,
           0,
           0,
           0,
           0,
           0,
           0,
           0
          ]
         ]
        }
       ],
       "layout": {
        "annotations": [
         {
          "font": {},
          "showarrow": false,
          "text": "Scipy Correlation",
          "x": 0.245,
          "xanchor": "center",
          "xref": "paper",
          "y": 1,
          "yanchor": "bottom",
          "yref": "paper"
         },
         {
          "font": {},
          "showarrow": false,
          "text": "Custom Correlation",
          "x": 0.755,
          "xanchor": "center",
          "xref": "paper",
          "y": 1,
          "yanchor": "bottom",
          "yref": "paper"
         }
        ],
        "coloraxis": {
         "colorscale": [
          [
           0,
           "#0d0887"
          ],
          [
           0.1111111111111111,
           "#46039f"
          ],
          [
           0.2222222222222222,
           "#7201a8"
          ],
          [
           0.3333333333333333,
           "#9c179e"
          ],
          [
           0.4444444444444444,
           "#bd3786"
          ],
          [
           0.5555555555555556,
           "#d8576b"
          ],
          [
           0.6666666666666666,
           "#ed7953"
          ],
          [
           0.7777777777777778,
           "#fb9f3a"
          ],
          [
           0.8888888888888888,
           "#fdca26"
          ],
          [
           1,
           "#f0f921"
          ]
         ]
        },
        "margin": {
         "t": 60
        },
        "template": {
         "data": {
          "bar": [
           {
            "error_x": {
             "color": "#2a3f5f"
            },
            "error_y": {
             "color": "#2a3f5f"
            },
            "marker": {
             "line": {
              "color": "#E5ECF6",
              "width": 0.5
             },
             "pattern": {
              "fillmode": "overlay",
              "size": 10,
              "solidity": 0.2
             }
            },
            "type": "bar"
           }
          ],
          "barpolar": [
           {
            "marker": {
             "line": {
              "color": "#E5ECF6",
              "width": 0.5
             },
             "pattern": {
              "fillmode": "overlay",
              "size": 10,
              "solidity": 0.2
             }
            },
            "type": "barpolar"
           }
          ],
          "carpet": [
           {
            "aaxis": {
             "endlinecolor": "#2a3f5f",
             "gridcolor": "white",
             "linecolor": "white",
             "minorgridcolor": "white",
             "startlinecolor": "#2a3f5f"
            },
            "baxis": {
             "endlinecolor": "#2a3f5f",
             "gridcolor": "white",
             "linecolor": "white",
             "minorgridcolor": "white",
             "startlinecolor": "#2a3f5f"
            },
            "type": "carpet"
           }
          ],
          "choropleth": [
           {
            "colorbar": {
             "outlinewidth": 0,
             "ticks": ""
            },
            "type": "choropleth"
           }
          ],
          "contour": [
           {
            "colorbar": {
             "outlinewidth": 0,
             "ticks": ""
            },
            "colorscale": [
             [
              0,
              "#0d0887"
             ],
             [
              0.1111111111111111,
              "#46039f"
             ],
             [
              0.2222222222222222,
              "#7201a8"
             ],
             [
              0.3333333333333333,
              "#9c179e"
             ],
             [
              0.4444444444444444,
              "#bd3786"
             ],
             [
              0.5555555555555556,
              "#d8576b"
             ],
             [
              0.6666666666666666,
              "#ed7953"
             ],
             [
              0.7777777777777778,
              "#fb9f3a"
             ],
             [
              0.8888888888888888,
              "#fdca26"
             ],
             [
              1,
              "#f0f921"
             ]
            ],
            "type": "contour"
           }
          ],
          "contourcarpet": [
           {
            "colorbar": {
             "outlinewidth": 0,
             "ticks": ""
            },
            "type": "contourcarpet"
           }
          ],
          "heatmap": [
           {
            "colorbar": {
             "outlinewidth": 0,
             "ticks": ""
            },
            "colorscale": [
             [
              0,
              "#0d0887"
             ],
             [
              0.1111111111111111,
              "#46039f"
             ],
             [
              0.2222222222222222,
              "#7201a8"
             ],
             [
              0.3333333333333333,
              "#9c179e"
             ],
             [
              0.4444444444444444,
              "#bd3786"
             ],
             [
              0.5555555555555556,
              "#d8576b"
             ],
             [
              0.6666666666666666,
              "#ed7953"
             ],
             [
              0.7777777777777778,
              "#fb9f3a"
             ],
             [
              0.8888888888888888,
              "#fdca26"
             ],
             [
              1,
              "#f0f921"
             ]
            ],
            "type": "heatmap"
           }
          ],
          "heatmapgl": [
           {
            "colorbar": {
             "outlinewidth": 0,
             "ticks": ""
            },
            "colorscale": [
             [
              0,
              "#0d0887"
             ],
             [
              0.1111111111111111,
              "#46039f"
             ],
             [
              0.2222222222222222,
              "#7201a8"
             ],
             [
              0.3333333333333333,
              "#9c179e"
             ],
             [
              0.4444444444444444,
              "#bd3786"
             ],
             [
              0.5555555555555556,
              "#d8576b"
             ],
             [
              0.6666666666666666,
              "#ed7953"
             ],
             [
              0.7777777777777778,
              "#fb9f3a"
             ],
             [
              0.8888888888888888,
              "#fdca26"
             ],
             [
              1,
              "#f0f921"
             ]
            ],
            "type": "heatmapgl"
           }
          ],
          "histogram": [
           {
            "marker": {
             "pattern": {
              "fillmode": "overlay",
              "size": 10,
              "solidity": 0.2
             }
            },
            "type": "histogram"
           }
          ],
          "histogram2d": [
           {
            "colorbar": {
             "outlinewidth": 0,
             "ticks": ""
            },
            "colorscale": [
             [
              0,
              "#0d0887"
             ],
             [
              0.1111111111111111,
              "#46039f"
             ],
             [
              0.2222222222222222,
              "#7201a8"
             ],
             [
              0.3333333333333333,
              "#9c179e"
             ],
             [
              0.4444444444444444,
              "#bd3786"
             ],
             [
              0.5555555555555556,
              "#d8576b"
             ],
             [
              0.6666666666666666,
              "#ed7953"
             ],
             [
              0.7777777777777778,
              "#fb9f3a"
             ],
             [
              0.8888888888888888,
              "#fdca26"
             ],
             [
              1,
              "#f0f921"
             ]
            ],
            "type": "histogram2d"
           }
          ],
          "histogram2dcontour": [
           {
            "colorbar": {
             "outlinewidth": 0,
             "ticks": ""
            },
            "colorscale": [
             [
              0,
              "#0d0887"
             ],
             [
              0.1111111111111111,
              "#46039f"
             ],
             [
              0.2222222222222222,
              "#7201a8"
             ],
             [
              0.3333333333333333,
              "#9c179e"
             ],
             [
              0.4444444444444444,
              "#bd3786"
             ],
             [
              0.5555555555555556,
              "#d8576b"
             ],
             [
              0.6666666666666666,
              "#ed7953"
             ],
             [
              0.7777777777777778,
              "#fb9f3a"
             ],
             [
              0.8888888888888888,
              "#fdca26"
             ],
             [
              1,
              "#f0f921"
             ]
            ],
            "type": "histogram2dcontour"
           }
          ],
          "mesh3d": [
           {
            "colorbar": {
             "outlinewidth": 0,
             "ticks": ""
            },
            "type": "mesh3d"
           }
          ],
          "parcoords": [
           {
            "line": {
             "colorbar": {
              "outlinewidth": 0,
              "ticks": ""
             }
            },
            "type": "parcoords"
           }
          ],
          "pie": [
           {
            "automargin": true,
            "type": "pie"
           }
          ],
          "scatter": [
           {
            "fillpattern": {
             "fillmode": "overlay",
             "size": 10,
             "solidity": 0.2
            },
            "type": "scatter"
           }
          ],
          "scatter3d": [
           {
            "line": {
             "colorbar": {
              "outlinewidth": 0,
              "ticks": ""
             }
            },
            "marker": {
             "colorbar": {
              "outlinewidth": 0,
              "ticks": ""
             }
            },
            "type": "scatter3d"
           }
          ],
          "scattercarpet": [
           {
            "marker": {
             "colorbar": {
              "outlinewidth": 0,
              "ticks": ""
             }
            },
            "type": "scattercarpet"
           }
          ],
          "scattergeo": [
           {
            "marker": {
             "colorbar": {
              "outlinewidth": 0,
              "ticks": ""
             }
            },
            "type": "scattergeo"
           }
          ],
          "scattergl": [
           {
            "marker": {
             "colorbar": {
              "outlinewidth": 0,
              "ticks": ""
             }
            },
            "type": "scattergl"
           }
          ],
          "scattermapbox": [
           {
            "marker": {
             "colorbar": {
              "outlinewidth": 0,
              "ticks": ""
             }
            },
            "type": "scattermapbox"
           }
          ],
          "scatterpolar": [
           {
            "marker": {
             "colorbar": {
              "outlinewidth": 0,
              "ticks": ""
             }
            },
            "type": "scatterpolar"
           }
          ],
          "scatterpolargl": [
           {
            "marker": {
             "colorbar": {
              "outlinewidth": 0,
              "ticks": ""
             }
            },
            "type": "scatterpolargl"
           }
          ],
          "scatterternary": [
           {
            "marker": {
             "colorbar": {
              "outlinewidth": 0,
              "ticks": ""
             }
            },
            "type": "scatterternary"
           }
          ],
          "surface": [
           {
            "colorbar": {
             "outlinewidth": 0,
             "ticks": ""
            },
            "colorscale": [
             [
              0,
              "#0d0887"
             ],
             [
              0.1111111111111111,
              "#46039f"
             ],
             [
              0.2222222222222222,
              "#7201a8"
             ],
             [
              0.3333333333333333,
              "#9c179e"
             ],
             [
              0.4444444444444444,
              "#bd3786"
             ],
             [
              0.5555555555555556,
              "#d8576b"
             ],
             [
              0.6666666666666666,
              "#ed7953"
             ],
             [
              0.7777777777777778,
              "#fb9f3a"
             ],
             [
              0.8888888888888888,
              "#fdca26"
             ],
             [
              1,
              "#f0f921"
             ]
            ],
            "type": "surface"
           }
          ],
          "table": [
           {
            "cells": {
             "fill": {
              "color": "#EBF0F8"
             },
             "line": {
              "color": "white"
             }
            },
            "header": {
             "fill": {
              "color": "#C8D4E3"
             },
             "line": {
              "color": "white"
             }
            },
            "type": "table"
           }
          ]
         },
         "layout": {
          "annotationdefaults": {
           "arrowcolor": "#2a3f5f",
           "arrowhead": 0,
           "arrowwidth": 1
          },
          "autotypenumbers": "strict",
          "coloraxis": {
           "colorbar": {
            "outlinewidth": 0,
            "ticks": ""
           }
          },
          "colorscale": {
           "diverging": [
            [
             0,
             "#8e0152"
            ],
            [
             0.1,
             "#c51b7d"
            ],
            [
             0.2,
             "#de77ae"
            ],
            [
             0.3,
             "#f1b6da"
            ],
            [
             0.4,
             "#fde0ef"
            ],
            [
             0.5,
             "#f7f7f7"
            ],
            [
             0.6,
             "#e6f5d0"
            ],
            [
             0.7,
             "#b8e186"
            ],
            [
             0.8,
             "#7fbc41"
            ],
            [
             0.9,
             "#4d9221"
            ],
            [
             1,
             "#276419"
            ]
           ],
           "sequential": [
            [
             0,
             "#0d0887"
            ],
            [
             0.1111111111111111,
             "#46039f"
            ],
            [
             0.2222222222222222,
             "#7201a8"
            ],
            [
             0.3333333333333333,
             "#9c179e"
            ],
            [
             0.4444444444444444,
             "#bd3786"
            ],
            [
             0.5555555555555556,
             "#d8576b"
            ],
            [
             0.6666666666666666,
             "#ed7953"
            ],
            [
             0.7777777777777778,
             "#fb9f3a"
            ],
            [
             0.8888888888888888,
             "#fdca26"
            ],
            [
             1,
             "#f0f921"
            ]
           ],
           "sequentialminus": [
            [
             0,
             "#0d0887"
            ],
            [
             0.1111111111111111,
             "#46039f"
            ],
            [
             0.2222222222222222,
             "#7201a8"
            ],
            [
             0.3333333333333333,
             "#9c179e"
            ],
            [
             0.4444444444444444,
             "#bd3786"
            ],
            [
             0.5555555555555556,
             "#d8576b"
            ],
            [
             0.6666666666666666,
             "#ed7953"
            ],
            [
             0.7777777777777778,
             "#fb9f3a"
            ],
            [
             0.8888888888888888,
             "#fdca26"
            ],
            [
             1,
             "#f0f921"
            ]
           ]
          },
          "colorway": [
           "#636efa",
           "#EF553B",
           "#00cc96",
           "#ab63fa",
           "#FFA15A",
           "#19d3f3",
           "#FF6692",
           "#B6E880",
           "#FF97FF",
           "#FECB52"
          ],
          "font": {
           "color": "#2a3f5f"
          },
          "geo": {
           "bgcolor": "white",
           "lakecolor": "white",
           "landcolor": "#E5ECF6",
           "showlakes": true,
           "showland": true,
           "subunitcolor": "white"
          },
          "hoverlabel": {
           "align": "left"
          },
          "hovermode": "closest",
          "mapbox": {
           "style": "light"
          },
          "paper_bgcolor": "white",
          "plot_bgcolor": "#E5ECF6",
          "polar": {
           "angularaxis": {
            "gridcolor": "white",
            "linecolor": "white",
            "ticks": ""
           },
           "bgcolor": "#E5ECF6",
           "radialaxis": {
            "gridcolor": "white",
            "linecolor": "white",
            "ticks": ""
           }
          },
          "scene": {
           "xaxis": {
            "backgroundcolor": "#E5ECF6",
            "gridcolor": "white",
            "gridwidth": 2,
            "linecolor": "white",
            "showbackground": true,
            "ticks": "",
            "zerolinecolor": "white"
           },
           "yaxis": {
            "backgroundcolor": "#E5ECF6",
            "gridcolor": "white",
            "gridwidth": 2,
            "linecolor": "white",
            "showbackground": true,
            "ticks": "",
            "zerolinecolor": "white"
           },
           "zaxis": {
            "backgroundcolor": "#E5ECF6",
            "gridcolor": "white",
            "gridwidth": 2,
            "linecolor": "white",
            "showbackground": true,
            "ticks": "",
            "zerolinecolor": "white"
           }
          },
          "shapedefaults": {
           "line": {
            "color": "#2a3f5f"
           }
          },
          "ternary": {
           "aaxis": {
            "gridcolor": "white",
            "linecolor": "white",
            "ticks": ""
           },
           "baxis": {
            "gridcolor": "white",
            "linecolor": "white",
            "ticks": ""
           },
           "bgcolor": "#E5ECF6",
           "caxis": {
            "gridcolor": "white",
            "linecolor": "white",
            "ticks": ""
           }
          },
          "title": {
           "x": 0.05
          },
          "xaxis": {
           "automargin": true,
           "gridcolor": "white",
           "linecolor": "white",
           "ticks": "",
           "title": {
            "standoff": 15
           },
           "zerolinecolor": "white",
           "zerolinewidth": 2
          },
          "yaxis": {
           "automargin": true,
           "gridcolor": "white",
           "linecolor": "white",
           "ticks": "",
           "title": {
            "standoff": 15
           },
           "zerolinecolor": "white",
           "zerolinewidth": 2
          }
         }
        },
        "xaxis": {
         "anchor": "y",
         "constrain": "domain",
         "domain": [
          0,
          0.49
         ],
         "scaleanchor": "y"
        },
        "xaxis2": {
         "anchor": "y2",
         "domain": [
          0.51,
          1
         ],
         "matches": "x"
        },
        "yaxis": {
         "anchor": "x",
         "autorange": "reversed",
         "constrain": "domain",
         "domain": [
          0,
          1
         ]
        },
        "yaxis2": {
         "anchor": "x2",
         "domain": [
          0,
          1
         ],
         "matches": "y",
         "showticklabels": false
        }
       }
      }
     },
     "metadata": {},
     "output_type": "display_data"
    }
   ],
   "source": [
    "scipy_correlation = correlate2d(input.reshape(28, 28), kernel, mode=\"valid\")\n",
    "custom_correlation = (input[correlation_indices] @ kernel_weights).reshape(nb_horizontal_correlations, nb_vertical_correlations)\n",
    "\n",
    "fig = px.imshow(np.asarray([scipy_correlation, custom_correlation]), facet_col=0)\n",
    "fig.layout.annotations[0]['text'] = \"Scipy Correlation\"\n",
    "fig.layout.annotations[1]['text'] = \"Custom Correlation\"\n",
    "fig.show()"
   ]
  },
  {
   "cell_type": "markdown",
   "metadata": {},
   "source": [
    "## Multiple kernels, single input image and channel cross correlation implementation  \n",
    "The only difference with the previous implementation is that we perform a matrix/matrix dot product instead of a matrix/vector.   \n",
    "The kernel array has been upgraded to a matrix where each column corresponds to a kernel.   "
   ]
  },
  {
   "cell_type": "code",
   "execution_count": 10,
   "metadata": {},
   "outputs": [
    {
     "data": {
      "text/plain": [
       "array([[ 1,  1],\n",
       "       [ 0,  0],\n",
       "       [-1,  1],\n",
       "       [ 1,  0],\n",
       "       [ 0,  0],\n",
       "       [-1,  0],\n",
       "       [ 1, -1],\n",
       "       [ 0,  0],\n",
       "       [-1, -1]])"
      ]
     },
     "execution_count": 10,
     "metadata": {},
     "output_type": "execute_result"
    }
   ],
   "source": [
    "kernels = np.array([\n",
    "    # First kernel\n",
    "    [\n",
    "        [1, 0, -1], \n",
    "        [1, 0, -1],\n",
    "        [1, 0, -1],\n",
    "    ],\n",
    "    # Second kernel\n",
    "    [\n",
    "        [1, 0, 1], \n",
    "        [0, 0, 0],\n",
    "        [-1, 0, -1],\n",
    "    ],\n",
    "])\n",
    "kernels_weights = kernels.reshape(2, -1).T\n",
    "kernels_weights"
   ]
  },
  {
   "cell_type": "code",
   "execution_count": 11,
   "metadata": {},
   "outputs": [
    {
     "data": {
      "text/plain": [
       "(676, 2)"
      ]
     },
     "execution_count": 11,
     "metadata": {},
     "output_type": "execute_result"
    }
   ],
   "source": [
    "# Here we can use the same correlation indices as the previous implementation which pretty convinient\n",
    "flatt_cross_correlation = input[correlation_indices] @ kernels_weights\n",
    "flatt_cross_correlation.shape"
   ]
  },
  {
   "cell_type": "markdown",
   "metadata": {},
   "source": [
    "### Results visualization and comparaison with `scipy.signal`'s `correlated2d`"
   ]
  },
  {
   "cell_type": "code",
   "execution_count": 13,
   "metadata": {},
   "outputs": [
    {
     "data": {
      "text/plain": [
       "(26, 26, 4)"
      ]
     },
     "metadata": {},
     "output_type": "display_data"
    },
    {
     "data": {
      "application/vnd.plotly.v1+json": {
       "config": {
        "plotlyServerURL": "https://plot.ly"
       },
       "data": [
        {
         "coloraxis": "coloraxis",
         "hovertemplate": "x: %{x}<br>y: %{y}<br>color: %{z}<extra></extra>",
         "name": "0",
         "type": "heatmap",
         "xaxis": "x3",
         "yaxis": "y3",
         "z": [
          [
           0,
           0,
           0,
           0,
           0,
           0,
           0,
           0,
           0,
           0,
           0,
           0,
           0,
           0,
           0,
           0,
           0,
           0,
           0,
           0,
           0,
           0,
           0,
           0,
           0,
           0
          ],
          [
           0,
           0,
           0,
           0,
           0,
           0,
           0,
           0,
           0,
           0,
           0,
           0,
           0,
           0,
           0,
           0,
           0,
           0,
           0,
           0,
           0,
           0,
           0,
           0,
           0,
           0
          ],
          [
           0,
           0,
           0,
           0,
           0,
           0,
           0,
           0,
           0,
           0,
           0,
           0,
           0,
           0,
           0,
           0,
           0,
           0,
           0,
           0,
           0,
           0,
           0,
           0,
           0,
           0
          ],
          [
           0,
           0,
           0,
           0,
           0,
           0,
           0,
           0,
           0,
           0,
           -0.011764705882352941,
           -0.07058823529411765,
           -0.058823529411764705,
           0,
           -0.42352941176470593,
           -0.4627450980392157,
           -0.19215686274509802,
           0.43137254901960786,
           0.03529411764705881,
           -0.8980392156862745,
           -0.3176470588235294,
           0.5019607843137255,
           0.9686274509803922,
           0.4980392156862745,
           0,
           0
          ],
          [
           0,
           0,
           0,
           0,
           0,
           0,
           -0.11764705882352941,
           -0.1411764705882353,
           -0.25098039215686274,
           -0.46274509803921565,
           -0.3098039215686274,
           -0.45882352941176474,
           -0.38431372549019616,
           0,
           -0.42352941176470593,
           -0.4627450980392157,
           -0.08235294117647052,
           0.7490196078431373,
           -0.0745098039215687,
           -1.172549019607843,
           -0.09019607843137245,
           1.2,
           1.7333333333333334,
           0.7490196078431373,
           0,
           0
          ],
          [
           0,
           0,
           0,
           0,
           0,
           -0.19215686274509805,
           -1.0509803921568628,
           -0.9411764705882353,
           -0.30980392156862746,
           -0.4627450980392156,
           -0.30980392156862746,
           -0.45882352941176474,
           -0.38431372549019616,
           0,
           -0.42352941176470593,
           -0.45490196078431366,
           0.5450980392156863,
           1.411764705882353,
           -0.031372549019607954,
           -1.0705882352941174,
           0.07843137254901972,
           1.4196078431372547,
           1.8862745098039215,
           0.7490196078431373,
           0,
           0
          ],
          [
           0,
           0,
           0,
           0,
           0,
           -0.2627450980392157,
           -1.9098039215686273,
           -1.8627450980392157,
           -0.4431372549019609,
           -0.4627450980392156,
           -0.29803921568627445,
           -0.3882352941176471,
           -0.1098039215686275,
           0.2784313725490196,
           -0.19215686274509802,
           -0.22352941176470575,
           1.7058823529411766,
           1.9254901960784312,
           -0.06666666666666676,
           -0.17254901960784302,
           0.39607843137254906,
           0.9176470588235294,
           0.9176470588235294,
           0.25098039215686274,
           0,
           0
          ],
          [
           0,
           0,
           0,
           0,
           0,
           -0.2627450980392157,
           -2.105882352941176,
           -2.3333333333333335,
           -0.2980392156862746,
           -0.3803921568627451,
           -0.5725490196078431,
           0.18823529411764706,
           1.1647058823529413,
           1.0823529411764707,
           -0.3176470588235294,
           -0.8274509803921567,
           1.7647058823529413,
           2.2117647058823526,
           0.04313725490196074,
           0.10196078431372552,
           0.16862745098039217,
           0.2196078431372549,
           0.15294117647058825,
           0,
           0,
           0
          ],
          [
           0,
           0,
           0,
           0,
           0,
           -0.07058823529411765,
           -1.172549019607843,
           -1.5882352941176472,
           -0.24313725490196086,
           -0.9294117647058823,
           -1.5607843137254902,
           0.43921568627450974,
           2.1568627450980395,
           1.435294117647059,
           -0.3176470588235294,
           -0.8352941176470587,
           1.1372549019607843,
           1.549019607843137,
           0,
           0,
           0,
           0,
           0,
           0,
           0,
           0
          ],
          [
           0,
           0,
           0,
           0,
           0,
           0,
           -0.3137254901960784,
           -0.6666666666666667,
           -0.10980392156862746,
           -1.4745098039215685,
           -2.552941176470588,
           0.23921568627450962,
           2.9254901960784316,
           1.9019607843137256,
           -0.11764705882352941,
           -0.6039215686274509,
           0.16862745098039217,
           0.6039215686274509,
           0,
           0,
           0,
           0,
           0,
           0,
           0,
           0
          ],
          [
           0,
           0,
           0,
           0,
           0,
           0,
           0,
           -0.054901960784313725,
           -0.00392156862745098,
           -1.1372549019607843,
           -2.7254901960784315,
           -0.8980392156862748,
           2.447058823529412,
           2.0901960784313727,
           0.2823529411764706,
           0,
           0,
           0,
           0,
           0,
           0,
           0,
           0,
           0,
           0,
           0
          ],
          [
           0,
           0,
           0,
           0,
           0,
           0,
           0,
           0,
           0,
           -0.588235294117647,
           -1.8745098039215686,
           -2.0941176470588236,
           0.7098039215686276,
           2.054901960784314,
           0.7411764705882351,
           0.6235294117647059,
           0.4235294117647059,
           0.00392156862745098,
           0,
           0,
           0,
           0,
           0,
           0,
           0,
           0
          ],
          [
           0,
           0,
           0,
           0,
           0,
           0,
           0,
           0,
           0,
           -0.043137254901960784,
           -0.8823529411764706,
           -2.211764705882353,
           -1.2156862745098038,
           0.6352941176470588,
           0.6823529411764704,
           1.1490196078431372,
           1.3176470588235294,
           0.47058823529411764,
           0.09803921568627451,
           0,
           0,
           0,
           0,
           0,
           0,
           0
          ],
          [
           0,
           0,
           0,
           0,
           0,
           0,
           0,
           0,
           0,
           0,
           -0.13725490196078433,
           -1.2627450980392156,
           -1.8627450980392157,
           -1.0862745098039217,
           -0.40784313725490207,
           0.8862745098039215,
           1.72156862745098,
           1.3568627450980393,
           0.6862745098039216,
           0.10588235294117647,
           0,
           0,
           0,
           0,
           0,
           0
          ],
          [
           0,
           0,
           0,
           0,
           0,
           0,
           0,
           0,
           0,
           0,
           0,
           -0.3176470588235294,
           -1.1176470588235294,
           -1.4666666666666666,
           -1.231372549019608,
           -0.6627450980392158,
           0.6705882352941175,
           1.607843137254902,
           1.6784313725490196,
           0.8392156862745097,
           0,
           0,
           0,
           0,
           0,
           0
          ],
          [
           0,
           0,
           0,
           0,
           0,
           0,
           0,
           0,
           0,
           0,
           0,
           0,
           -0.17647058823529413,
           -0.792156862745098,
           -1.1803921568627451,
           -2.1647058823529415,
           -1.215686274509804,
           1.1411764705882352,
           2.3215686274509806,
           1.8156862745098037,
           0.25098039215686274,
           0,
           0,
           0,
           0,
           0
          ],
          [
           0,
           0,
           0,
           0,
           0,
           0,
           0,
           0,
           0,
           0,
           0,
           0,
           -0.1803921568627451,
           -0.5725490196078431,
           -0.9019607843137255,
           -2.384313725490196,
           -1.8941176470588235,
           0.43529411764705883,
           2.7176470588235295,
           2.5215686274509803,
           0.2588235294117647,
           0,
           0,
           0,
           0,
           0
          ],
          [
           0,
           0,
           0,
           0,
           0,
           0,
           0,
           0,
           0,
           0,
           -0.15294117647058825,
           -0.5803921568627451,
           -0.9254901960784314,
           -0.9215686274509803,
           -0.6313725490196078,
           -1.4588235294117649,
           -1.2549019607843137,
           0.45882352941176474,
           2.7058823529411766,
           2.5019607843137255,
           0.2588235294117647,
           0,
           0,
           0,
           0,
           0
          ],
          [
           0,
           0,
           0,
           0,
           0,
           0,
           0,
           0,
           -0.09411764705882353,
           -0.4470588235294118,
           -0.9254901960784314,
           -1.1254901960784314,
           -1.0509803921568628,
           -0.9215686274509803,
           -0.6313725490196078,
           -0.2784313725490196,
           0.42352941176470593,
           1.2470588235294118,
           2.2705882352941176,
           1.5254901960784313,
           0.00784313725490196,
           0,
           0,
           0,
           0,
           0
          ],
          [
           0,
           0,
           0,
           0,
           0,
           0,
           -0.09019607843137255,
           -0.25882352941176473,
           -0.8392156862745098,
           -1.1803921568627451,
           -1.0823529411764707,
           -1.1254901960784314,
           -0.8705882352941177,
           -0.196078431372549,
           0.5803921568627451,
           0.9725490196078432,
           1.0156862745098039,
           1.0745098039215686,
           1.2862745098039214,
           0.7137254901960784,
           0,
           0,
           0,
           0,
           0,
           0
          ],
          [
           0,
           0,
           0,
           0,
           -0.07058823529411765,
           -0.6705882352941176,
           -0.8784313725490196,
           -0.5803921568627453,
           -0.9725490196078432,
           -1.1803921568627451,
           -0.9294117647058824,
           -0.3176470588235294,
           0.5529411764705883,
           0.9450980392156862,
           0.9882352941176471,
           1.0078431372549022,
           1.003921568627451,
           0.796078431372549,
           0.3058823529411765,
           0,
           0,
           0,
           0,
           0,
           0,
           0
          ],
          [
           0,
           0,
           -0.21568627450980393,
           -0.6745098039215687,
           -0.7411764705882352,
           -0.988235294117647,
           -0.9843137254901961,
           -0.5803921568627453,
           -0.8784313725490197,
           -0.6980392156862746,
           0.3137254901960784,
           1.1411764705882355,
           1.2000000000000002,
           0.988235294117647,
           0.9882352941176471,
           0.803921568627451,
           0.3176470588235294,
           0.00784313725490196,
           0,
           0,
           0,
           0,
           0,
           0,
           0,
           0
          ],
          [
           0,
           0,
           -0.7490196078431373,
           -1.6666666666666667,
           -1.2,
           -0.988235294117647,
           -0.7333333333333334,
           0.14117647058823524,
           0.180392156862745,
           0.5019607843137255,
           0.9882352941176471,
           1.2039215686274511,
           1.2000000000000002,
           0.7725490196078431,
           0.3137254901960784,
           0.03529411764705882,
           0,
           0,
           0,
           0,
           0,
           0,
           0,
           0,
           0,
           0
          ],
          [
           0,
           0,
           -0.7490196078431373,
           -1.6666666666666667,
           -1.1294117647058823,
           -0.3176470588235294,
           0.05490196078431364,
           0.4627450980392157,
           0.3137254901960784,
           0.5019607843137255,
           0.9882352941176471,
           0.9764705882352942,
           0.5215686274509804,
           0.043137254901960784,
           0,
           0,
           0,
           0,
           0,
           0,
           0,
           0,
           0,
           0,
           0,
           0
          ],
          [
           0,
           0,
           -0.5333333333333333,
           -0.9921568627450981,
           -0.45882352941176474,
           0,
           0.16078431372549018,
           0.4627450980392157,
           0.3137254901960784,
           0.4666666666666667,
           0.5176470588235295,
           0.06274509803921569,
           0,
           0,
           0,
           0,
           0,
           0,
           0,
           0,
           0,
           0,
           0,
           0,
           0,
           0
          ],
          [
           0,
           0,
           0,
           0,
           0,
           0,
           0,
           0,
           0,
           0,
           0,
           0,
           0,
           0,
           0,
           0,
           0,
           0,
           0,
           0,
           0,
           0,
           0,
           0,
           0,
           0
          ]
         ]
        },
        {
         "coloraxis": "coloraxis",
         "hovertemplate": "x: %{x}<br>y: %{y}<br>color: %{z}<extra></extra>",
         "name": "1",
         "type": "heatmap",
         "xaxis": "x4",
         "yaxis": "y4",
         "z": [
          [
           0,
           0,
           0,
           0,
           0,
           0,
           0,
           0,
           0,
           0,
           0,
           0,
           0,
           0,
           0,
           0,
           0,
           0,
           0,
           0,
           0,
           0,
           0,
           0,
           0,
           0
          ],
          [
           0,
           0,
           0,
           0,
           0,
           0,
           0,
           0,
           0,
           0,
           0,
           0,
           0,
           0,
           0,
           0,
           0,
           0,
           0,
           0,
           0,
           0,
           0,
           0,
           0,
           0
          ],
          [
           0,
           0,
           0,
           0,
           0,
           0,
           0,
           0,
           0,
           0,
           0,
           0,
           0,
           0,
           0,
           0,
           0,
           0,
           0,
           0,
           0,
           0,
           0,
           0,
           0,
           0
          ],
          [
           0,
           0,
           0,
           0,
           0,
           0,
           0,
           0,
           0,
           0,
           -0.011764705882352941,
           -0.07058823529411765,
           -0.08235294117647059,
           -0.1411764705882353,
           -0.5647058823529412,
           -0.6039215686274509,
           -1.1803921568627451,
           -0.6352941176470588,
           -1.3372549019607844,
           -1.1019607843137256,
           -1.619607843137255,
           -1.4980392156862745,
           -0.9686274509803922,
           -0.4980392156862745,
           0,
           0
          ],
          [
           0,
           0,
           0,
           0,
           0,
           0,
           -0.11764705882352941,
           -0.1411764705882353,
           -0.4862745098039216,
           -0.7450980392156863,
           -1.0352941176470587,
           -1.5960784313725491,
           -1.6588235294117646,
           -1.9843137254901961,
           -1.9843137254901961,
           -1.9843137254901961,
           -1.8745098039215686,
           -1.6666666666666667,
           -1.8745098039215686,
           -1.6235294117647059,
           -1.7568627450980392,
           -1.2,
           -0.7647058823529411,
           -0.25098039215686274,
           0,
           0
          ],
          [
           0,
           0,
           0,
           0,
           0,
           -0.19215686274509805,
           -0.9333333333333333,
           -1.184313725490196,
           -1.9254901960784314,
           -1.9843137254901961,
           -1.9725490196078432,
           -1.9137254901960785,
           -1.9019607843137254,
           -1.843137254901961,
           -1.419607843137255,
           -1.3725490196078431,
           -0.1764705882352941,
           -0.6705882352941177,
           0.6509803921568629,
           0.5607843137254903,
           1.1450980392156862,
           1.2784313725490195,
           0.8156862745098039,
           0.4980392156862745,
           0,
           0
          ],
          [
           0,
           0,
           0,
           0,
           0,
           -0.07058823529411765,
           -0.7411764705882352,
           -0.9215686274509804,
           -1.3647058823529412,
           -1.2392156862745098,
           -0.9490196078431374,
           -0.388235294117647,
           -0.10980392156862762,
           0.2784313725490196,
           0.23921568627450995,
           0.3254901960784313,
           0.9058823529411765,
           0.7215686274509805,
           1.8745098039215686,
           1.6235294117647059,
           1.7568627450980392,
           1.2,
           0.7647058823529411,
           0.25098039215686274,
           0,
           0
          ],
          [
           0,
           0,
           0,
           0,
           0,
           0.19215686274509805,
           0.6196078431372549,
           0.5725490196078431,
           1.192156862745098,
           0.3803921568627451,
           0.5725490196078431,
           0.18823529411764706,
           0.9490196078431373,
           1.1803921568627451,
           1.772549019607843,
           1.3725490196078431,
           1.188235294117647,
           0.7019607843137255,
           0.6862745098039216,
           0.5411764705882354,
           0.47450980392156866,
           0.2196078431372549,
           0.15294117647058825,
           0,
           0,
           0
          ],
          [
           0,
           0,
           0,
           0,
           0,
           0.07058823529411765,
           0.8588235294117647,
           1.007843137254902,
           1.8470588235294119,
           1.3254901960784315,
           0.9882352941176471,
           1.0274509803921568,
           0.776470588235294,
           1.3529411764705883,
           1.7450980392156863,
           1.6588235294117646,
           0.9686274509803922,
           0.9450980392156862,
           0,
           0,
           0,
           0,
           0,
           0,
           0,
           0
          ],
          [
           0,
           0,
           0,
           0,
           0,
           0,
           0.3137254901960784,
           0.611764705882353,
           0.7333333333333334,
           1.058823529411765,
           0.41960784313725497,
           0.5058823529411764,
           0.03529411764705889,
           0.05882352941176472,
           0.203921568627451,
           0.6039215686274509,
           0.16862745098039217,
           0.6039215686274509,
           0,
           0,
           0,
           0,
           0,
           0,
           0,
           0
          ],
          [
           0,
           0,
           0,
           0,
           0,
           0,
           0,
           0.054901960784313725,
           0.00392156862745098,
           0.615686274509804,
           0.25098039215686274,
           -0.07843137254901966,
           -0.027450980392156876,
           -0.6392156862745098,
           -0.27450980392156865,
           0,
           0,
           0,
           0,
           0,
           0,
           0,
           0,
           0,
           0,
           0
          ],
          [
           0,
           0,
           0,
           0,
           0,
           0,
           0,
           0,
           0,
           0.5450980392156862,
           0.8549019607843138,
           0.34509803921568616,
           -0.019607843137254832,
           -0.8274509803921568,
           -1.2980392156862746,
           -0.6313725490196078,
           -0.4235294117647059,
           -0.00392156862745098,
           0,
           0,
           0,
           0,
           0,
           0,
           0,
           0
          ],
          [
           0,
           0,
           0,
           0,
           0,
           0,
           0,
           0,
           0,
           0.043137254901960784,
           0.7450980392156863,
           0.7176470588235295,
           0.07843137254901955,
           -0.3176470588235294,
           -1.6588235294117646,
           -1.4588235294117649,
           -1.0901960784313727,
           -0.4666666666666667,
           -0.09803921568627451,
           0,
           0,
           0,
           0,
           0,
           0,
           0
          ],
          [
           0,
           0,
           0,
           0,
           0,
           0,
           0,
           0,
           0,
           0,
           0.13725490196078433,
           0.9450980392156862,
           0.8431372549019607,
           0.8431372549019608,
           0.13725490196078427,
           -1.0901960784313727,
           -1.156862745098039,
           -1.0941176470588236,
           -0.5882352941176471,
           -0.10588235294117647,
           0,
           0,
           0,
           0,
           0,
           0
          ],
          [
           0,
           0,
           0,
           0,
           0,
           0,
           0,
           0,
           0,
           0,
           0,
           0.3176470588235294,
           0.9411764705882353,
           1.2470588235294118,
           1.5686274509803921,
           0.40784313725490207,
           -0.2666666666666666,
           -1.2549019607843137,
           -0.8941176470588236,
           -0.7333333333333333,
           0,
           0,
           0,
           0,
           0,
           0
          ],
          [
           0,
           0,
           0,
           0,
           0,
           0,
           0,
           0,
           0,
           0,
           0,
           0,
           0.17647058823529413,
           0.7294117647058823,
           1.1686274509803922,
           0.7450980392156864,
           0.5882352941176472,
           -0.8549019607843136,
           -0.6549019607843137,
           -0.8705882352941177,
           -0.25098039215686274,
           0,
           0,
           0,
           0,
           0
          ],
          [
           0,
           0,
           0,
           0,
           0,
           0,
           0,
           0,
           0,
           0,
           0,
           0,
           -0.1803921568627451,
           -0.44705882352941173,
           -0.5333333333333333,
           -0.4509803921568627,
           -0.3529411764705882,
           -0.08235294117647052,
           -0.00784313725490196,
           -0.07843137254901966,
           -0.00784313725490196,
           0,
           0,
           0,
           0,
           0
          ],
          [
           0,
           0,
           0,
           0,
           0,
           0,
           0,
           0,
           0,
           0,
           -0.15294117647058825,
           -0.5803921568627451,
           -1.0509803921568628,
           -1.5725490196078433,
           -1.8901960784313725,
           -1.007843137254902,
           -0.9803921568627451,
           0.24705882352941166,
           0.26274509803921575,
           0.26274509803921564,
           0.25098039215686274,
           0,
           0,
           0,
           0,
           0
          ],
          [
           0,
           0,
           0,
           0,
           0,
           0,
           0,
           0,
           -0.09411764705882353,
           -0.4470588235294118,
           -0.9607843137254902,
           -1.4392156862745098,
           -1.6784313725490196,
           -1.4745098039215687,
           -1.0862745098039217,
           -0.2784313725490196,
           0.41176470588235303,
           1.0156862745098039,
           0.6941176470588235,
           0.8117647058823529,
           0.00784313725490196,
           0,
           0,
           0,
           0,
           0
          ],
          [
           0,
           0,
           0,
           0,
           0,
           0,
           -0.09019607843137255,
           -0.25882352941176473,
           -0.9254901960784314,
           -1.2509803921568627,
           -1.6745098039215687,
           -1.4039215686274509,
           -0.9333333333333333,
           -0.19607843137254888,
           0.580392156862745,
           1.2000000000000002,
           1.6549019607843138,
           1.6980392156862747,
           0.9803921568627451,
           0.7137254901960784,
           0,
           0,
           0,
           0,
           0,
           0
          ],
          [
           0,
           0,
           0,
           0,
           -0.07058823529411765,
           -0.6705882352941176,
           -0.9294117647058823,
           -1.6627450980392156,
           -1.7568627450980392,
           -1.5372549019607844,
           -1.0235294117647058,
           -0.3176470588235294,
           0.5529411764705883,
           1.184313725490196,
           1.6705882352941177,
           1.745098039215686,
           1.2980392156862746,
           0.788235294117647,
           0.3058823529411765,
           0,
           0,
           0,
           0,
           0,
           0,
           0
          ],
          [
           0,
           0,
           -0.21568627450980393,
           -0.6745098039215687,
           -1.1019607843137256,
           -1.6666666666666667,
           -1.788235294117647,
           -1.7254901960784315,
           -1.0588235294117647,
           -0.6980392156862746,
           0.31372549019607854,
           0.984313725490196,
           1.4627450980392158,
           1.7254901960784312,
           1.3098039215686275,
           0.7843137254901961,
           0.3176470588235294,
           0.00784313725490196,
           0,
           0,
           0,
           0,
           0,
           0,
           0,
           0
          ],
          [
           0,
           0,
           -0.5333333333333333,
           -0.9921568627450981,
           -1.4549019607843139,
           -1.3137254901960786,
           -0.8941176470588237,
           0.14117647058823513,
           0.5019607843137254,
           1.3921568627450982,
           1.4666666666666668,
           1.6941176470588235,
           1.3058823529411765,
           0.7999999999999999,
           0.3137254901960784,
           0.03529411764705882,
           0,
           0,
           0,
           0,
           0,
           0,
           0,
           0,
           0,
           0
          ],
          [
           0,
           0,
           0.21568627450980393,
           0.6745098039215687,
           1.1019607843137256,
           1.6666666666666667,
           1.8784313725490196,
           1.9843137254901961,
           1.9843137254901961,
           1.9490196078431374,
           1.5137254901960784,
           1,
           0.5215686274509804,
           0.043137254901960784,
           0,
           0,
           0,
           0,
           0,
           0,
           0,
           0,
           0,
           0,
           0,
           0
          ],
          [
           0,
           0,
           0.5333333333333333,
           0.9921568627450981,
           1.5254901960784313,
           1.9843137254901961,
           1.823529411764706,
           1.5215686274509803,
           1.3490196078431373,
           0.592156862745098,
           0.5176470588235295,
           0.06274509803921569,
           0,
           0,
           0,
           0,
           0,
           0,
           0,
           0,
           0,
           0,
           0,
           0,
           0,
           0
          ],
          [
           0,
           0,
           0,
           0,
           0,
           0,
           0,
           0,
           0,
           0,
           0,
           0,
           0,
           0,
           0,
           0,
           0,
           0,
           0,
           0,
           0,
           0,
           0,
           0,
           0,
           0
          ]
         ]
        },
        {
         "coloraxis": "coloraxis",
         "hovertemplate": "x: %{x}<br>y: %{y}<br>color: %{z}<extra></extra>",
         "name": "2",
         "type": "heatmap",
         "xaxis": "x",
         "yaxis": "y",
         "z": [
          [
           0,
           0,
           0,
           0,
           0,
           0,
           0,
           0,
           0,
           0,
           0,
           0,
           0,
           0,
           0,
           0,
           0,
           0,
           0,
           0,
           0,
           0,
           0,
           0,
           0,
           0
          ],
          [
           0,
           0,
           0,
           0,
           0,
           0,
           0,
           0,
           0,
           0,
           0,
           0,
           0,
           0,
           0,
           0,
           0,
           0,
           0,
           0,
           0,
           0,
           0,
           0,
           0,
           0
          ],
          [
           0,
           0,
           0,
           0,
           0,
           0,
           0,
           0,
           0,
           0,
           0,
           0,
           0,
           0,
           0,
           0,
           0,
           0,
           0,
           0,
           0,
           0,
           0,
           0,
           0,
           0
          ],
          [
           0,
           0,
           0,
           0,
           0,
           0,
           0,
           0,
           0,
           0,
           -0.011764705882352941,
           -0.07058823529411765,
           -0.058823529411764705,
           0,
           -0.42352941176470593,
           -0.4627450980392157,
           -0.19215686274509802,
           0.43137254901960786,
           0.03529411764705881,
           -0.8980392156862745,
           -0.3176470588235294,
           0.5019607843137255,
           0.9686274509803922,
           0.4980392156862745,
           0,
           0
          ],
          [
           0,
           0,
           0,
           0,
           0,
           0,
           -0.11764705882352941,
           -0.1411764705882353,
           -0.25098039215686274,
           -0.46274509803921565,
           -0.3098039215686274,
           -0.45882352941176474,
           -0.38431372549019616,
           0,
           -0.42352941176470593,
           -0.4627450980392157,
           -0.08235294117647052,
           0.7490196078431373,
           -0.0745098039215687,
           -1.172549019607843,
           -0.09019607843137245,
           1.2,
           1.7333333333333334,
           0.7490196078431373,
           0,
           0
          ],
          [
           0,
           0,
           0,
           0,
           0,
           -0.19215686274509805,
           -1.0509803921568628,
           -0.9411764705882353,
           -0.30980392156862746,
           -0.4627450980392156,
           -0.30980392156862746,
           -0.45882352941176474,
           -0.38431372549019616,
           0,
           -0.42352941176470593,
           -0.45490196078431366,
           0.5450980392156863,
           1.411764705882353,
           -0.031372549019607954,
           -1.0705882352941174,
           0.07843137254901972,
           1.4196078431372547,
           1.8862745098039215,
           0.7490196078431373,
           0,
           0
          ],
          [
           0,
           0,
           0,
           0,
           0,
           -0.2627450980392157,
           -1.9098039215686273,
           -1.8627450980392157,
           -0.4431372549019609,
           -0.4627450980392156,
           -0.29803921568627445,
           -0.3882352941176471,
           -0.1098039215686275,
           0.2784313725490196,
           -0.19215686274509802,
           -0.22352941176470575,
           1.7058823529411766,
           1.9254901960784312,
           -0.06666666666666676,
           -0.17254901960784302,
           0.39607843137254906,
           0.9176470588235294,
           0.9176470588235294,
           0.25098039215686274,
           0,
           0
          ],
          [
           0,
           0,
           0,
           0,
           0,
           -0.2627450980392157,
           -2.105882352941176,
           -2.3333333333333335,
           -0.2980392156862746,
           -0.3803921568627451,
           -0.5725490196078431,
           0.18823529411764706,
           1.1647058823529413,
           1.0823529411764707,
           -0.3176470588235294,
           -0.8274509803921567,
           1.7647058823529413,
           2.2117647058823526,
           0.04313725490196074,
           0.10196078431372552,
           0.16862745098039217,
           0.2196078431372549,
           0.15294117647058825,
           0,
           0,
           0
          ],
          [
           0,
           0,
           0,
           0,
           0,
           -0.07058823529411765,
           -1.172549019607843,
           -1.5882352941176472,
           -0.24313725490196086,
           -0.9294117647058823,
           -1.5607843137254902,
           0.43921568627450974,
           2.1568627450980395,
           1.435294117647059,
           -0.3176470588235294,
           -0.8352941176470587,
           1.1372549019607843,
           1.549019607843137,
           0,
           0,
           0,
           0,
           0,
           0,
           0,
           0
          ],
          [
           0,
           0,
           0,
           0,
           0,
           0,
           -0.3137254901960784,
           -0.6666666666666667,
           -0.10980392156862746,
           -1.4745098039215685,
           -2.552941176470588,
           0.23921568627450962,
           2.9254901960784316,
           1.9019607843137256,
           -0.11764705882352941,
           -0.6039215686274509,
           0.16862745098039217,
           0.6039215686274509,
           0,
           0,
           0,
           0,
           0,
           0,
           0,
           0
          ],
          [
           0,
           0,
           0,
           0,
           0,
           0,
           0,
           -0.054901960784313725,
           -0.00392156862745098,
           -1.1372549019607843,
           -2.7254901960784315,
           -0.8980392156862748,
           2.447058823529412,
           2.0901960784313727,
           0.2823529411764706,
           0,
           0,
           0,
           0,
           0,
           0,
           0,
           0,
           0,
           0,
           0
          ],
          [
           0,
           0,
           0,
           0,
           0,
           0,
           0,
           0,
           0,
           -0.588235294117647,
           -1.8745098039215686,
           -2.0941176470588236,
           0.7098039215686276,
           2.054901960784314,
           0.7411764705882351,
           0.6235294117647059,
           0.4235294117647059,
           0.00392156862745098,
           0,
           0,
           0,
           0,
           0,
           0,
           0,
           0
          ],
          [
           0,
           0,
           0,
           0,
           0,
           0,
           0,
           0,
           0,
           -0.043137254901960784,
           -0.8823529411764706,
           -2.211764705882353,
           -1.2156862745098038,
           0.6352941176470588,
           0.6823529411764704,
           1.1490196078431372,
           1.3176470588235294,
           0.47058823529411764,
           0.09803921568627451,
           0,
           0,
           0,
           0,
           0,
           0,
           0
          ],
          [
           0,
           0,
           0,
           0,
           0,
           0,
           0,
           0,
           0,
           0,
           -0.13725490196078433,
           -1.2627450980392156,
           -1.8627450980392157,
           -1.0862745098039217,
           -0.40784313725490207,
           0.8862745098039215,
           1.72156862745098,
           1.3568627450980393,
           0.6862745098039216,
           0.10588235294117647,
           0,
           0,
           0,
           0,
           0,
           0
          ],
          [
           0,
           0,
           0,
           0,
           0,
           0,
           0,
           0,
           0,
           0,
           0,
           -0.3176470588235294,
           -1.1176470588235294,
           -1.4666666666666666,
           -1.231372549019608,
           -0.6627450980392158,
           0.6705882352941175,
           1.607843137254902,
           1.6784313725490196,
           0.8392156862745097,
           0,
           0,
           0,
           0,
           0,
           0
          ],
          [
           0,
           0,
           0,
           0,
           0,
           0,
           0,
           0,
           0,
           0,
           0,
           0,
           -0.17647058823529413,
           -0.792156862745098,
           -1.1803921568627451,
           -2.1647058823529415,
           -1.215686274509804,
           1.1411764705882352,
           2.3215686274509806,
           1.8156862745098037,
           0.25098039215686274,
           0,
           0,
           0,
           0,
           0
          ],
          [
           0,
           0,
           0,
           0,
           0,
           0,
           0,
           0,
           0,
           0,
           0,
           0,
           -0.1803921568627451,
           -0.5725490196078431,
           -0.9019607843137255,
           -2.384313725490196,
           -1.8941176470588235,
           0.43529411764705883,
           2.7176470588235295,
           2.5215686274509803,
           0.2588235294117647,
           0,
           0,
           0,
           0,
           0
          ],
          [
           0,
           0,
           0,
           0,
           0,
           0,
           0,
           0,
           0,
           0,
           -0.15294117647058825,
           -0.5803921568627451,
           -0.9254901960784314,
           -0.9215686274509803,
           -0.6313725490196078,
           -1.4588235294117649,
           -1.2549019607843137,
           0.45882352941176474,
           2.7058823529411766,
           2.5019607843137255,
           0.2588235294117647,
           0,
           0,
           0,
           0,
           0
          ],
          [
           0,
           0,
           0,
           0,
           0,
           0,
           0,
           0,
           -0.09411764705882353,
           -0.4470588235294118,
           -0.9254901960784314,
           -1.1254901960784314,
           -1.0509803921568628,
           -0.9215686274509803,
           -0.6313725490196078,
           -0.2784313725490196,
           0.42352941176470593,
           1.2470588235294118,
           2.2705882352941176,
           1.5254901960784313,
           0.00784313725490196,
           0,
           0,
           0,
           0,
           0
          ],
          [
           0,
           0,
           0,
           0,
           0,
           0,
           -0.09019607843137255,
           -0.25882352941176473,
           -0.8392156862745098,
           -1.1803921568627451,
           -1.0823529411764707,
           -1.1254901960784314,
           -0.8705882352941177,
           -0.196078431372549,
           0.5803921568627451,
           0.9725490196078432,
           1.0156862745098039,
           1.0745098039215686,
           1.2862745098039214,
           0.7137254901960784,
           0,
           0,
           0,
           0,
           0,
           0
          ],
          [
           0,
           0,
           0,
           0,
           -0.07058823529411765,
           -0.6705882352941176,
           -0.8784313725490196,
           -0.5803921568627453,
           -0.9725490196078432,
           -1.1803921568627451,
           -0.9294117647058824,
           -0.3176470588235294,
           0.5529411764705883,
           0.9450980392156862,
           0.9882352941176471,
           1.0078431372549022,
           1.003921568627451,
           0.796078431372549,
           0.3058823529411765,
           0,
           0,
           0,
           0,
           0,
           0,
           0
          ],
          [
           0,
           0,
           -0.21568627450980393,
           -0.6745098039215687,
           -0.7411764705882352,
           -0.988235294117647,
           -0.9843137254901961,
           -0.5803921568627453,
           -0.8784313725490197,
           -0.6980392156862746,
           0.3137254901960784,
           1.1411764705882355,
           1.2000000000000002,
           0.988235294117647,
           0.9882352941176471,
           0.803921568627451,
           0.3176470588235294,
           0.00784313725490196,
           0,
           0,
           0,
           0,
           0,
           0,
           0,
           0
          ],
          [
           0,
           0,
           -0.7490196078431373,
           -1.6666666666666667,
           -1.2,
           -0.988235294117647,
           -0.7333333333333334,
           0.14117647058823524,
           0.180392156862745,
           0.5019607843137255,
           0.9882352941176471,
           1.2039215686274511,
           1.2000000000000002,
           0.7725490196078431,
           0.3137254901960784,
           0.03529411764705882,
           0,
           0,
           0,
           0,
           0,
           0,
           0,
           0,
           0,
           0
          ],
          [
           0,
           0,
           -0.7490196078431373,
           -1.6666666666666667,
           -1.1294117647058823,
           -0.3176470588235294,
           0.05490196078431364,
           0.4627450980392157,
           0.3137254901960784,
           0.5019607843137255,
           0.9882352941176471,
           0.9764705882352942,
           0.5215686274509804,
           0.043137254901960784,
           0,
           0,
           0,
           0,
           0,
           0,
           0,
           0,
           0,
           0,
           0,
           0
          ],
          [
           0,
           0,
           -0.5333333333333333,
           -0.9921568627450981,
           -0.45882352941176474,
           0,
           0.16078431372549018,
           0.4627450980392157,
           0.3137254901960784,
           0.4666666666666667,
           0.5176470588235295,
           0.06274509803921569,
           0,
           0,
           0,
           0,
           0,
           0,
           0,
           0,
           0,
           0,
           0,
           0,
           0,
           0
          ],
          [
           0,
           0,
           0,
           0,
           0,
           0,
           0,
           0,
           0,
           0,
           0,
           0,
           0,
           0,
           0,
           0,
           0,
           0,
           0,
           0,
           0,
           0,
           0,
           0,
           0,
           0
          ]
         ]
        },
        {
         "coloraxis": "coloraxis",
         "hovertemplate": "x: %{x}<br>y: %{y}<br>color: %{z}<extra></extra>",
         "name": "3",
         "type": "heatmap",
         "xaxis": "x2",
         "yaxis": "y2",
         "z": [
          [
           0,
           0,
           0,
           0,
           0,
           0,
           0,
           0,
           0,
           0,
           0,
           0,
           0,
           0,
           0,
           0,
           0,
           0,
           0,
           0,
           0,
           0,
           0,
           0,
           0,
           0
          ],
          [
           0,
           0,
           0,
           0,
           0,
           0,
           0,
           0,
           0,
           0,
           0,
           0,
           0,
           0,
           0,
           0,
           0,
           0,
           0,
           0,
           0,
           0,
           0,
           0,
           0,
           0
          ],
          [
           0,
           0,
           0,
           0,
           0,
           0,
           0,
           0,
           0,
           0,
           0,
           0,
           0,
           0,
           0,
           0,
           0,
           0,
           0,
           0,
           0,
           0,
           0,
           0,
           0,
           0
          ],
          [
           0,
           0,
           0,
           0,
           0,
           0,
           0,
           0,
           0,
           0,
           -0.011764705882352941,
           -0.07058823529411765,
           -0.08235294117647059,
           -0.1411764705882353,
           -0.5647058823529412,
           -0.6039215686274509,
           -1.1803921568627451,
           -0.6352941176470588,
           -1.3372549019607844,
           -1.1019607843137256,
           -1.619607843137255,
           -1.4980392156862745,
           -0.9686274509803922,
           -0.4980392156862745,
           0,
           0
          ],
          [
           0,
           0,
           0,
           0,
           0,
           0,
           -0.11764705882352941,
           -0.1411764705882353,
           -0.4862745098039216,
           -0.7450980392156863,
           -1.0352941176470587,
           -1.5960784313725491,
           -1.6588235294117646,
           -1.9843137254901961,
           -1.9843137254901961,
           -1.9843137254901961,
           -1.8745098039215686,
           -1.6666666666666667,
           -1.8745098039215686,
           -1.6235294117647059,
           -1.7568627450980392,
           -1.2,
           -0.7647058823529411,
           -0.25098039215686274,
           0,
           0
          ],
          [
           0,
           0,
           0,
           0,
           0,
           -0.19215686274509805,
           -0.9333333333333333,
           -1.184313725490196,
           -1.9254901960784314,
           -1.9843137254901961,
           -1.9725490196078432,
           -1.9137254901960785,
           -1.9019607843137254,
           -1.843137254901961,
           -1.419607843137255,
           -1.3725490196078431,
           -0.1764705882352941,
           -0.6705882352941177,
           0.6509803921568629,
           0.5607843137254903,
           1.1450980392156862,
           1.2784313725490195,
           0.8156862745098039,
           0.4980392156862745,
           0,
           0
          ],
          [
           0,
           0,
           0,
           0,
           0,
           -0.07058823529411765,
           -0.7411764705882352,
           -0.9215686274509804,
           -1.3647058823529412,
           -1.2392156862745098,
           -0.9490196078431374,
           -0.388235294117647,
           -0.10980392156862762,
           0.2784313725490196,
           0.23921568627450995,
           0.3254901960784313,
           0.9058823529411765,
           0.7215686274509805,
           1.8745098039215686,
           1.6235294117647059,
           1.7568627450980392,
           1.2,
           0.7647058823529411,
           0.25098039215686274,
           0,
           0
          ],
          [
           0,
           0,
           0,
           0,
           0,
           0.19215686274509805,
           0.6196078431372549,
           0.5725490196078431,
           1.192156862745098,
           0.3803921568627451,
           0.5725490196078431,
           0.18823529411764706,
           0.9490196078431373,
           1.1803921568627451,
           1.772549019607843,
           1.3725490196078431,
           1.188235294117647,
           0.7019607843137255,
           0.6862745098039216,
           0.5411764705882354,
           0.47450980392156866,
           0.2196078431372549,
           0.15294117647058825,
           0,
           0,
           0
          ],
          [
           0,
           0,
           0,
           0,
           0,
           0.07058823529411765,
           0.8588235294117647,
           1.007843137254902,
           1.8470588235294119,
           1.3254901960784315,
           0.9882352941176471,
           1.0274509803921568,
           0.776470588235294,
           1.3529411764705883,
           1.7450980392156863,
           1.6588235294117646,
           0.9686274509803922,
           0.9450980392156862,
           0,
           0,
           0,
           0,
           0,
           0,
           0,
           0
          ],
          [
           0,
           0,
           0,
           0,
           0,
           0,
           0.3137254901960784,
           0.611764705882353,
           0.7333333333333334,
           1.058823529411765,
           0.41960784313725497,
           0.5058823529411764,
           0.03529411764705889,
           0.05882352941176472,
           0.203921568627451,
           0.6039215686274509,
           0.16862745098039217,
           0.6039215686274509,
           0,
           0,
           0,
           0,
           0,
           0,
           0,
           0
          ],
          [
           0,
           0,
           0,
           0,
           0,
           0,
           0,
           0.054901960784313725,
           0.00392156862745098,
           0.615686274509804,
           0.25098039215686274,
           -0.07843137254901966,
           -0.027450980392156876,
           -0.6392156862745098,
           -0.27450980392156865,
           0,
           0,
           0,
           0,
           0,
           0,
           0,
           0,
           0,
           0,
           0
          ],
          [
           0,
           0,
           0,
           0,
           0,
           0,
           0,
           0,
           0,
           0.5450980392156862,
           0.8549019607843138,
           0.34509803921568616,
           -0.019607843137254832,
           -0.8274509803921568,
           -1.2980392156862746,
           -0.6313725490196078,
           -0.4235294117647059,
           -0.00392156862745098,
           0,
           0,
           0,
           0,
           0,
           0,
           0,
           0
          ],
          [
           0,
           0,
           0,
           0,
           0,
           0,
           0,
           0,
           0,
           0.043137254901960784,
           0.7450980392156863,
           0.7176470588235295,
           0.07843137254901955,
           -0.3176470588235294,
           -1.6588235294117646,
           -1.4588235294117649,
           -1.0901960784313727,
           -0.4666666666666667,
           -0.09803921568627451,
           0,
           0,
           0,
           0,
           0,
           0,
           0
          ],
          [
           0,
           0,
           0,
           0,
           0,
           0,
           0,
           0,
           0,
           0,
           0.13725490196078433,
           0.9450980392156862,
           0.8431372549019607,
           0.8431372549019608,
           0.13725490196078427,
           -1.0901960784313727,
           -1.156862745098039,
           -1.0941176470588236,
           -0.5882352941176471,
           -0.10588235294117647,
           0,
           0,
           0,
           0,
           0,
           0
          ],
          [
           0,
           0,
           0,
           0,
           0,
           0,
           0,
           0,
           0,
           0,
           0,
           0.3176470588235294,
           0.9411764705882353,
           1.2470588235294118,
           1.5686274509803921,
           0.40784313725490207,
           -0.2666666666666666,
           -1.2549019607843137,
           -0.8941176470588236,
           -0.7333333333333333,
           0,
           0,
           0,
           0,
           0,
           0
          ],
          [
           0,
           0,
           0,
           0,
           0,
           0,
           0,
           0,
           0,
           0,
           0,
           0,
           0.17647058823529413,
           0.7294117647058823,
           1.1686274509803922,
           0.7450980392156864,
           0.5882352941176472,
           -0.8549019607843136,
           -0.6549019607843137,
           -0.8705882352941177,
           -0.25098039215686274,
           0,
           0,
           0,
           0,
           0
          ],
          [
           0,
           0,
           0,
           0,
           0,
           0,
           0,
           0,
           0,
           0,
           0,
           0,
           -0.1803921568627451,
           -0.44705882352941173,
           -0.5333333333333333,
           -0.4509803921568627,
           -0.3529411764705882,
           -0.08235294117647052,
           -0.00784313725490196,
           -0.07843137254901966,
           -0.00784313725490196,
           0,
           0,
           0,
           0,
           0
          ],
          [
           0,
           0,
           0,
           0,
           0,
           0,
           0,
           0,
           0,
           0,
           -0.15294117647058825,
           -0.5803921568627451,
           -1.0509803921568628,
           -1.5725490196078433,
           -1.8901960784313725,
           -1.007843137254902,
           -0.9803921568627451,
           0.24705882352941166,
           0.26274509803921575,
           0.26274509803921564,
           0.25098039215686274,
           0,
           0,
           0,
           0,
           0
          ],
          [
           0,
           0,
           0,
           0,
           0,
           0,
           0,
           0,
           -0.09411764705882353,
           -0.4470588235294118,
           -0.9607843137254902,
           -1.4392156862745098,
           -1.6784313725490196,
           -1.4745098039215687,
           -1.0862745098039217,
           -0.2784313725490196,
           0.41176470588235303,
           1.0156862745098039,
           0.6941176470588235,
           0.8117647058823529,
           0.00784313725490196,
           0,
           0,
           0,
           0,
           0
          ],
          [
           0,
           0,
           0,
           0,
           0,
           0,
           -0.09019607843137255,
           -0.25882352941176473,
           -0.9254901960784314,
           -1.2509803921568627,
           -1.6745098039215687,
           -1.4039215686274509,
           -0.9333333333333333,
           -0.19607843137254888,
           0.580392156862745,
           1.2000000000000002,
           1.6549019607843138,
           1.6980392156862747,
           0.9803921568627451,
           0.7137254901960784,
           0,
           0,
           0,
           0,
           0,
           0
          ],
          [
           0,
           0,
           0,
           0,
           -0.07058823529411765,
           -0.6705882352941176,
           -0.9294117647058823,
           -1.6627450980392156,
           -1.7568627450980392,
           -1.5372549019607844,
           -1.0235294117647058,
           -0.3176470588235294,
           0.5529411764705883,
           1.184313725490196,
           1.6705882352941177,
           1.745098039215686,
           1.2980392156862746,
           0.788235294117647,
           0.3058823529411765,
           0,
           0,
           0,
           0,
           0,
           0,
           0
          ],
          [
           0,
           0,
           -0.21568627450980393,
           -0.6745098039215687,
           -1.1019607843137256,
           -1.6666666666666667,
           -1.788235294117647,
           -1.7254901960784315,
           -1.0588235294117647,
           -0.6980392156862746,
           0.31372549019607854,
           0.984313725490196,
           1.4627450980392158,
           1.7254901960784312,
           1.3098039215686275,
           0.7843137254901961,
           0.3176470588235294,
           0.00784313725490196,
           0,
           0,
           0,
           0,
           0,
           0,
           0,
           0
          ],
          [
           0,
           0,
           -0.5333333333333333,
           -0.9921568627450981,
           -1.4549019607843139,
           -1.3137254901960786,
           -0.8941176470588237,
           0.14117647058823513,
           0.5019607843137254,
           1.3921568627450982,
           1.4666666666666668,
           1.6941176470588235,
           1.3058823529411765,
           0.7999999999999999,
           0.3137254901960784,
           0.03529411764705882,
           0,
           0,
           0,
           0,
           0,
           0,
           0,
           0,
           0,
           0
          ],
          [
           0,
           0,
           0.21568627450980393,
           0.6745098039215687,
           1.1019607843137256,
           1.6666666666666667,
           1.8784313725490196,
           1.9843137254901961,
           1.9843137254901961,
           1.9490196078431374,
           1.5137254901960784,
           1,
           0.5215686274509804,
           0.043137254901960784,
           0,
           0,
           0,
           0,
           0,
           0,
           0,
           0,
           0,
           0,
           0,
           0
          ],
          [
           0,
           0,
           0.5333333333333333,
           0.9921568627450981,
           1.5254901960784313,
           1.9843137254901961,
           1.823529411764706,
           1.5215686274509803,
           1.3490196078431373,
           0.592156862745098,
           0.5176470588235295,
           0.06274509803921569,
           0,
           0,
           0,
           0,
           0,
           0,
           0,
           0,
           0,
           0,
           0,
           0,
           0,
           0
          ],
          [
           0,
           0,
           0,
           0,
           0,
           0,
           0,
           0,
           0,
           0,
           0,
           0,
           0,
           0,
           0,
           0,
           0,
           0,
           0,
           0,
           0,
           0,
           0,
           0,
           0,
           0
          ]
         ]
        }
       ],
       "layout": {
        "annotations": [
         {
          "font": {},
          "showarrow": false,
          "text": "Custom Correlation 0",
          "x": 0.245,
          "xanchor": "center",
          "xref": "paper",
          "y": 0.46499999999999997,
          "yanchor": "bottom",
          "yref": "paper"
         },
         {
          "font": {},
          "showarrow": false,
          "text": "Custom Correlation 1",
          "x": 0.755,
          "xanchor": "center",
          "xref": "paper",
          "y": 0.46499999999999997,
          "yanchor": "bottom",
          "yref": "paper"
         },
         {
          "font": {},
          "showarrow": false,
          "text": "Scipy Correlation 0",
          "x": 0.245,
          "xanchor": "center",
          "xref": "paper",
          "y": 0.9999999999999999,
          "yanchor": "bottom",
          "yref": "paper"
         },
         {
          "font": {},
          "showarrow": false,
          "text": "Scipy Correlation 1",
          "x": 0.755,
          "xanchor": "center",
          "xref": "paper",
          "y": 0.9999999999999999,
          "yanchor": "bottom",
          "yref": "paper"
         }
        ],
        "coloraxis": {
         "colorscale": [
          [
           0,
           "#0d0887"
          ],
          [
           0.1111111111111111,
           "#46039f"
          ],
          [
           0.2222222222222222,
           "#7201a8"
          ],
          [
           0.3333333333333333,
           "#9c179e"
          ],
          [
           0.4444444444444444,
           "#bd3786"
          ],
          [
           0.5555555555555556,
           "#d8576b"
          ],
          [
           0.6666666666666666,
           "#ed7953"
          ],
          [
           0.7777777777777778,
           "#fb9f3a"
          ],
          [
           0.8888888888888888,
           "#fdca26"
          ],
          [
           1,
           "#f0f921"
          ]
         ]
        },
        "margin": {
         "t": 60
        },
        "template": {
         "data": {
          "bar": [
           {
            "error_x": {
             "color": "#2a3f5f"
            },
            "error_y": {
             "color": "#2a3f5f"
            },
            "marker": {
             "line": {
              "color": "#E5ECF6",
              "width": 0.5
             },
             "pattern": {
              "fillmode": "overlay",
              "size": 10,
              "solidity": 0.2
             }
            },
            "type": "bar"
           }
          ],
          "barpolar": [
           {
            "marker": {
             "line": {
              "color": "#E5ECF6",
              "width": 0.5
             },
             "pattern": {
              "fillmode": "overlay",
              "size": 10,
              "solidity": 0.2
             }
            },
            "type": "barpolar"
           }
          ],
          "carpet": [
           {
            "aaxis": {
             "endlinecolor": "#2a3f5f",
             "gridcolor": "white",
             "linecolor": "white",
             "minorgridcolor": "white",
             "startlinecolor": "#2a3f5f"
            },
            "baxis": {
             "endlinecolor": "#2a3f5f",
             "gridcolor": "white",
             "linecolor": "white",
             "minorgridcolor": "white",
             "startlinecolor": "#2a3f5f"
            },
            "type": "carpet"
           }
          ],
          "choropleth": [
           {
            "colorbar": {
             "outlinewidth": 0,
             "ticks": ""
            },
            "type": "choropleth"
           }
          ],
          "contour": [
           {
            "colorbar": {
             "outlinewidth": 0,
             "ticks": ""
            },
            "colorscale": [
             [
              0,
              "#0d0887"
             ],
             [
              0.1111111111111111,
              "#46039f"
             ],
             [
              0.2222222222222222,
              "#7201a8"
             ],
             [
              0.3333333333333333,
              "#9c179e"
             ],
             [
              0.4444444444444444,
              "#bd3786"
             ],
             [
              0.5555555555555556,
              "#d8576b"
             ],
             [
              0.6666666666666666,
              "#ed7953"
             ],
             [
              0.7777777777777778,
              "#fb9f3a"
             ],
             [
              0.8888888888888888,
              "#fdca26"
             ],
             [
              1,
              "#f0f921"
             ]
            ],
            "type": "contour"
           }
          ],
          "contourcarpet": [
           {
            "colorbar": {
             "outlinewidth": 0,
             "ticks": ""
            },
            "type": "contourcarpet"
           }
          ],
          "heatmap": [
           {
            "colorbar": {
             "outlinewidth": 0,
             "ticks": ""
            },
            "colorscale": [
             [
              0,
              "#0d0887"
             ],
             [
              0.1111111111111111,
              "#46039f"
             ],
             [
              0.2222222222222222,
              "#7201a8"
             ],
             [
              0.3333333333333333,
              "#9c179e"
             ],
             [
              0.4444444444444444,
              "#bd3786"
             ],
             [
              0.5555555555555556,
              "#d8576b"
             ],
             [
              0.6666666666666666,
              "#ed7953"
             ],
             [
              0.7777777777777778,
              "#fb9f3a"
             ],
             [
              0.8888888888888888,
              "#fdca26"
             ],
             [
              1,
              "#f0f921"
             ]
            ],
            "type": "heatmap"
           }
          ],
          "heatmapgl": [
           {
            "colorbar": {
             "outlinewidth": 0,
             "ticks": ""
            },
            "colorscale": [
             [
              0,
              "#0d0887"
             ],
             [
              0.1111111111111111,
              "#46039f"
             ],
             [
              0.2222222222222222,
              "#7201a8"
             ],
             [
              0.3333333333333333,
              "#9c179e"
             ],
             [
              0.4444444444444444,
              "#bd3786"
             ],
             [
              0.5555555555555556,
              "#d8576b"
             ],
             [
              0.6666666666666666,
              "#ed7953"
             ],
             [
              0.7777777777777778,
              "#fb9f3a"
             ],
             [
              0.8888888888888888,
              "#fdca26"
             ],
             [
              1,
              "#f0f921"
             ]
            ],
            "type": "heatmapgl"
           }
          ],
          "histogram": [
           {
            "marker": {
             "pattern": {
              "fillmode": "overlay",
              "size": 10,
              "solidity": 0.2
             }
            },
            "type": "histogram"
           }
          ],
          "histogram2d": [
           {
            "colorbar": {
             "outlinewidth": 0,
             "ticks": ""
            },
            "colorscale": [
             [
              0,
              "#0d0887"
             ],
             [
              0.1111111111111111,
              "#46039f"
             ],
             [
              0.2222222222222222,
              "#7201a8"
             ],
             [
              0.3333333333333333,
              "#9c179e"
             ],
             [
              0.4444444444444444,
              "#bd3786"
             ],
             [
              0.5555555555555556,
              "#d8576b"
             ],
             [
              0.6666666666666666,
              "#ed7953"
             ],
             [
              0.7777777777777778,
              "#fb9f3a"
             ],
             [
              0.8888888888888888,
              "#fdca26"
             ],
             [
              1,
              "#f0f921"
             ]
            ],
            "type": "histogram2d"
           }
          ],
          "histogram2dcontour": [
           {
            "colorbar": {
             "outlinewidth": 0,
             "ticks": ""
            },
            "colorscale": [
             [
              0,
              "#0d0887"
             ],
             [
              0.1111111111111111,
              "#46039f"
             ],
             [
              0.2222222222222222,
              "#7201a8"
             ],
             [
              0.3333333333333333,
              "#9c179e"
             ],
             [
              0.4444444444444444,
              "#bd3786"
             ],
             [
              0.5555555555555556,
              "#d8576b"
             ],
             [
              0.6666666666666666,
              "#ed7953"
             ],
             [
              0.7777777777777778,
              "#fb9f3a"
             ],
             [
              0.8888888888888888,
              "#fdca26"
             ],
             [
              1,
              "#f0f921"
             ]
            ],
            "type": "histogram2dcontour"
           }
          ],
          "mesh3d": [
           {
            "colorbar": {
             "outlinewidth": 0,
             "ticks": ""
            },
            "type": "mesh3d"
           }
          ],
          "parcoords": [
           {
            "line": {
             "colorbar": {
              "outlinewidth": 0,
              "ticks": ""
             }
            },
            "type": "parcoords"
           }
          ],
          "pie": [
           {
            "automargin": true,
            "type": "pie"
           }
          ],
          "scatter": [
           {
            "fillpattern": {
             "fillmode": "overlay",
             "size": 10,
             "solidity": 0.2
            },
            "type": "scatter"
           }
          ],
          "scatter3d": [
           {
            "line": {
             "colorbar": {
              "outlinewidth": 0,
              "ticks": ""
             }
            },
            "marker": {
             "colorbar": {
              "outlinewidth": 0,
              "ticks": ""
             }
            },
            "type": "scatter3d"
           }
          ],
          "scattercarpet": [
           {
            "marker": {
             "colorbar": {
              "outlinewidth": 0,
              "ticks": ""
             }
            },
            "type": "scattercarpet"
           }
          ],
          "scattergeo": [
           {
            "marker": {
             "colorbar": {
              "outlinewidth": 0,
              "ticks": ""
             }
            },
            "type": "scattergeo"
           }
          ],
          "scattergl": [
           {
            "marker": {
             "colorbar": {
              "outlinewidth": 0,
              "ticks": ""
             }
            },
            "type": "scattergl"
           }
          ],
          "scattermapbox": [
           {
            "marker": {
             "colorbar": {
              "outlinewidth": 0,
              "ticks": ""
             }
            },
            "type": "scattermapbox"
           }
          ],
          "scatterpolar": [
           {
            "marker": {
             "colorbar": {
              "outlinewidth": 0,
              "ticks": ""
             }
            },
            "type": "scatterpolar"
           }
          ],
          "scatterpolargl": [
           {
            "marker": {
             "colorbar": {
              "outlinewidth": 0,
              "ticks": ""
             }
            },
            "type": "scatterpolargl"
           }
          ],
          "scatterternary": [
           {
            "marker": {
             "colorbar": {
              "outlinewidth": 0,
              "ticks": ""
             }
            },
            "type": "scatterternary"
           }
          ],
          "surface": [
           {
            "colorbar": {
             "outlinewidth": 0,
             "ticks": ""
            },
            "colorscale": [
             [
              0,
              "#0d0887"
             ],
             [
              0.1111111111111111,
              "#46039f"
             ],
             [
              0.2222222222222222,
              "#7201a8"
             ],
             [
              0.3333333333333333,
              "#9c179e"
             ],
             [
              0.4444444444444444,
              "#bd3786"
             ],
             [
              0.5555555555555556,
              "#d8576b"
             ],
             [
              0.6666666666666666,
              "#ed7953"
             ],
             [
              0.7777777777777778,
              "#fb9f3a"
             ],
             [
              0.8888888888888888,
              "#fdca26"
             ],
             [
              1,
              "#f0f921"
             ]
            ],
            "type": "surface"
           }
          ],
          "table": [
           {
            "cells": {
             "fill": {
              "color": "#EBF0F8"
             },
             "line": {
              "color": "white"
             }
            },
            "header": {
             "fill": {
              "color": "#C8D4E3"
             },
             "line": {
              "color": "white"
             }
            },
            "type": "table"
           }
          ]
         },
         "layout": {
          "annotationdefaults": {
           "arrowcolor": "#2a3f5f",
           "arrowhead": 0,
           "arrowwidth": 1
          },
          "autotypenumbers": "strict",
          "coloraxis": {
           "colorbar": {
            "outlinewidth": 0,
            "ticks": ""
           }
          },
          "colorscale": {
           "diverging": [
            [
             0,
             "#8e0152"
            ],
            [
             0.1,
             "#c51b7d"
            ],
            [
             0.2,
             "#de77ae"
            ],
            [
             0.3,
             "#f1b6da"
            ],
            [
             0.4,
             "#fde0ef"
            ],
            [
             0.5,
             "#f7f7f7"
            ],
            [
             0.6,
             "#e6f5d0"
            ],
            [
             0.7,
             "#b8e186"
            ],
            [
             0.8,
             "#7fbc41"
            ],
            [
             0.9,
             "#4d9221"
            ],
            [
             1,
             "#276419"
            ]
           ],
           "sequential": [
            [
             0,
             "#0d0887"
            ],
            [
             0.1111111111111111,
             "#46039f"
            ],
            [
             0.2222222222222222,
             "#7201a8"
            ],
            [
             0.3333333333333333,
             "#9c179e"
            ],
            [
             0.4444444444444444,
             "#bd3786"
            ],
            [
             0.5555555555555556,
             "#d8576b"
            ],
            [
             0.6666666666666666,
             "#ed7953"
            ],
            [
             0.7777777777777778,
             "#fb9f3a"
            ],
            [
             0.8888888888888888,
             "#fdca26"
            ],
            [
             1,
             "#f0f921"
            ]
           ],
           "sequentialminus": [
            [
             0,
             "#0d0887"
            ],
            [
             0.1111111111111111,
             "#46039f"
            ],
            [
             0.2222222222222222,
             "#7201a8"
            ],
            [
             0.3333333333333333,
             "#9c179e"
            ],
            [
             0.4444444444444444,
             "#bd3786"
            ],
            [
             0.5555555555555556,
             "#d8576b"
            ],
            [
             0.6666666666666666,
             "#ed7953"
            ],
            [
             0.7777777777777778,
             "#fb9f3a"
            ],
            [
             0.8888888888888888,
             "#fdca26"
            ],
            [
             1,
             "#f0f921"
            ]
           ]
          },
          "colorway": [
           "#636efa",
           "#EF553B",
           "#00cc96",
           "#ab63fa",
           "#FFA15A",
           "#19d3f3",
           "#FF6692",
           "#B6E880",
           "#FF97FF",
           "#FECB52"
          ],
          "font": {
           "color": "#2a3f5f"
          },
          "geo": {
           "bgcolor": "white",
           "lakecolor": "white",
           "landcolor": "#E5ECF6",
           "showlakes": true,
           "showland": true,
           "subunitcolor": "white"
          },
          "hoverlabel": {
           "align": "left"
          },
          "hovermode": "closest",
          "mapbox": {
           "style": "light"
          },
          "paper_bgcolor": "white",
          "plot_bgcolor": "#E5ECF6",
          "polar": {
           "angularaxis": {
            "gridcolor": "white",
            "linecolor": "white",
            "ticks": ""
           },
           "bgcolor": "#E5ECF6",
           "radialaxis": {
            "gridcolor": "white",
            "linecolor": "white",
            "ticks": ""
           }
          },
          "scene": {
           "xaxis": {
            "backgroundcolor": "#E5ECF6",
            "gridcolor": "white",
            "gridwidth": 2,
            "linecolor": "white",
            "showbackground": true,
            "ticks": "",
            "zerolinecolor": "white"
           },
           "yaxis": {
            "backgroundcolor": "#E5ECF6",
            "gridcolor": "white",
            "gridwidth": 2,
            "linecolor": "white",
            "showbackground": true,
            "ticks": "",
            "zerolinecolor": "white"
           },
           "zaxis": {
            "backgroundcolor": "#E5ECF6",
            "gridcolor": "white",
            "gridwidth": 2,
            "linecolor": "white",
            "showbackground": true,
            "ticks": "",
            "zerolinecolor": "white"
           }
          },
          "shapedefaults": {
           "line": {
            "color": "#2a3f5f"
           }
          },
          "ternary": {
           "aaxis": {
            "gridcolor": "white",
            "linecolor": "white",
            "ticks": ""
           },
           "baxis": {
            "gridcolor": "white",
            "linecolor": "white",
            "ticks": ""
           },
           "bgcolor": "#E5ECF6",
           "caxis": {
            "gridcolor": "white",
            "linecolor": "white",
            "ticks": ""
           }
          },
          "title": {
           "x": 0.05
          },
          "xaxis": {
           "automargin": true,
           "gridcolor": "white",
           "linecolor": "white",
           "ticks": "",
           "title": {
            "standoff": 15
           },
           "zerolinecolor": "white",
           "zerolinewidth": 2
          },
          "yaxis": {
           "automargin": true,
           "gridcolor": "white",
           "linecolor": "white",
           "ticks": "",
           "title": {
            "standoff": 15
           },
           "zerolinecolor": "white",
           "zerolinewidth": 2
          }
         }
        },
        "xaxis": {
         "anchor": "y",
         "constrain": "domain",
         "domain": [
          0,
          0.49
         ],
         "scaleanchor": "y"
        },
        "xaxis2": {
         "anchor": "y2",
         "domain": [
          0.51,
          1
         ],
         "matches": "x"
        },
        "xaxis3": {
         "anchor": "y3",
         "domain": [
          0,
          0.49
         ],
         "matches": "x",
         "showticklabels": false
        },
        "xaxis4": {
         "anchor": "y4",
         "domain": [
          0.51,
          1
         ],
         "matches": "x",
         "showticklabels": false
        },
        "yaxis": {
         "anchor": "x",
         "autorange": "reversed",
         "constrain": "domain",
         "domain": [
          0,
          0.46499999999999997
         ]
        },
        "yaxis2": {
         "anchor": "x2",
         "domain": [
          0,
          0.46499999999999997
         ],
         "matches": "y",
         "showticklabels": false
        },
        "yaxis3": {
         "anchor": "x3",
         "domain": [
          0.5349999999999999,
          0.9999999999999999
         ],
         "matches": "y"
        },
        "yaxis4": {
         "anchor": "x4",
         "domain": [
          0.5349999999999999,
          0.9999999999999999
         ],
         "matches": "y",
         "showticklabels": false
        }
       }
      }
     },
     "metadata": {},
     "output_type": "display_data"
    }
   ],
   "source": [
    "custom_correlations = (input[correlation_indices] @ kernels_weights).reshape(nb_horizontal_correlations, nb_vertical_correlations, kernels.shape[0])\n",
    "scipy_correlations = np.stack([correlate2d(input.reshape(28, 28), kernels[k], mode=\"valid\") for k in range(kernels.shape[0])], axis=2)\n",
    "\n",
    "display(np.concatenate([custom_correlations, scipy_correlations], axis=2).shape)\n",
    "\n",
    "fig = px.imshow(\n",
    "    np.concatenate([custom_correlations, scipy_correlations], axis=2),\n",
    "    facet_col=2,\n",
    "    facet_col_wrap=2,\n",
    ")\n",
    "fig.layout.annotations[0]['text'] = \"Custom Correlation 0\"\n",
    "fig.layout.annotations[1]['text'] = \"Custom Correlation 1\"\n",
    "fig.layout.annotations[2]['text'] = \"Scipy Correlation 0\"\n",
    "fig.layout.annotations[3]['text'] = \"Scipy Correlation 1\"\n",
    "fig.show()"
   ]
  },
  {
   "cell_type": "markdown",
   "metadata": {},
   "source": [
    "## Multiple kernels and channels, single input image, cross correlation implementation\n",
    "Here we need to update the correlation indices because of the new depth dimension.  "
   ]
  },
  {
   "cell_type": "code",
   "execution_count": 7,
   "metadata": {},
   "outputs": [
    {
     "data": {
      "text/plain": [
       "(2, 5, 5, 3)"
      ]
     },
     "execution_count": 7,
     "metadata": {},
     "output_type": "execute_result"
    }
   ],
   "source": [
    "multi_channels_kernels = np.asarray(\n",
    "[\n",
    "    [\n",
    "        # First kernel\n",
    "        # First channel\n",
    "            [\n",
    "            [1, 0, -1, 0, 1], \n",
    "            [1, 0, -1, 0, 1],\n",
    "            [1, 0, -1, 0, 1],\n",
    "            [1, 0, -1, 0, 1],\n",
    "            [1, 0, -1, 0, 1],\n",
    "        ],\n",
    "        # Second channel\n",
    "        [\n",
    "            [1, 0, 1, 1, 1], \n",
    "            [1, 0, 1, 1, 1], \n",
    "            [1, 0, 1, 1, 1],\n",
    "            [1, 0, 1, 1, 1],\n",
    "            [1, 0, 1, 1, 1],\n",
    "        ],\n",
    "        # Third channel\n",
    "        [\n",
    "            [0, 0, 0, 0, 1],\n",
    "            [0, 0, 0, 1, 0],\n",
    "            [0, 0, 1, 0, 0],\n",
    "            [0, 1, 0, 0, 0],\n",
    "            [1, 0, 0, 0, 0],\n",
    "        ],\n",
    "    ],\n",
    "    [\n",
    "        # Second kernel\n",
    "        # First channel\n",
    "        [\n",
    "            [0.5, 0.5, 0.5, 0.5, 0.5], \n",
    "            [0.5, 0.5, 0.5, 0.5, 0.5], \n",
    "            [0.5, 0.5, 0.5, 0.5, 0.5], \n",
    "            [0.5, 0.5, 0.5, 0.5, 0.5],\n",
    "            [0.5, 0.5, 0.5, 0.5, 0.5],\n",
    "        ],\n",
    "        # Second channel\n",
    "        [\n",
    "            [1, 2, 3, 4, 5],\n",
    "            [1, 1, 1, 0, 0],\n",
    "            [0, 1, 1, 1, 0],\n",
    "            [0, 0, 1, 1, 1],\n",
    "            [0, 1, 0, 1, 1],\n",
    "        ],\n",
    "        # Thrid channel\n",
    "        [\n",
    "            [0, 0, 1, 0, 0],\n",
    "            [0, 0.5, 1, 0.5, 0],\n",
    "            [1, 1, 1, 1, 1],\n",
    "            [0, 0.5, 1, 0.5, 0],\n",
    "            [0, 0, 1, 0, 0],\n",
    "        ],\n",
    "    ]\n",
    "])\n",
    "# Above we have declared the kernels with a shape (nb_kernels, nb_channels, width, height) but the input are usually of the shape (nb_inputs, width, height, nb_channels)\n",
    "# To account for this we simply need to swap the width  and depth axes of the kernels\n",
    "multi_channels_kernels = multi_channels_kernels.swapaxes(1, 3)\n",
    "multi_channels_kernels.shape"
   ]
  },
  {
   "cell_type": "code",
   "execution_count": 8,
   "metadata": {},
   "outputs": [
    {
     "data": {
      "text/plain": [
       "array([[ 1. ,  0.5],\n",
       "       [ 1. ,  1. ],\n",
       "       [ 0. ,  0. ],\n",
       "       [ 1. ,  0.5],\n",
       "       [ 1. ,  1. ],\n",
       "       [ 0. ,  0. ],\n",
       "       [ 1. ,  0.5],\n",
       "       [ 1. ,  0. ],\n",
       "       [ 0. ,  1. ],\n",
       "       [ 1. ,  0.5],\n",
       "       [ 1. ,  0. ],\n",
       "       [ 0. ,  0. ],\n",
       "       [ 1. ,  0.5],\n",
       "       [ 1. ,  0. ],\n",
       "       [ 1. ,  0. ],\n",
       "       [ 0. ,  0.5],\n",
       "       [ 0. ,  2. ],\n",
       "       [ 0. ,  0. ],\n",
       "       [ 0. ,  0.5],\n",
       "       [ 0. ,  1. ],\n",
       "       [ 0. ,  0.5],\n",
       "       [ 0. ,  0.5],\n",
       "       [ 0. ,  1. ],\n",
       "       [ 0. ,  1. ],\n",
       "       [ 0. ,  0.5],\n",
       "       [ 0. ,  0. ],\n",
       "       [ 1. ,  0.5],\n",
       "       [ 0. ,  0.5],\n",
       "       [ 0. ,  1. ],\n",
       "       [ 0. ,  0. ],\n",
       "       [-1. ,  0.5],\n",
       "       [ 1. ,  3. ],\n",
       "       [ 0. ,  1. ],\n",
       "       [-1. ,  0.5],\n",
       "       [ 1. ,  1. ],\n",
       "       [ 0. ,  1. ],\n",
       "       [-1. ,  0.5],\n",
       "       [ 1. ,  1. ],\n",
       "       [ 1. ,  1. ],\n",
       "       [-1. ,  0.5],\n",
       "       [ 1. ,  1. ],\n",
       "       [ 0. ,  1. ],\n",
       "       [-1. ,  0.5],\n",
       "       [ 1. ,  0. ],\n",
       "       [ 0. ,  1. ],\n",
       "       [ 0. ,  0.5],\n",
       "       [ 1. ,  4. ],\n",
       "       [ 0. ,  0. ],\n",
       "       [ 0. ,  0.5],\n",
       "       [ 1. ,  0. ],\n",
       "       [ 1. ,  0.5],\n",
       "       [ 0. ,  0.5],\n",
       "       [ 1. ,  1. ],\n",
       "       [ 0. ,  1. ],\n",
       "       [ 0. ,  0.5],\n",
       "       [ 1. ,  1. ],\n",
       "       [ 0. ,  0.5],\n",
       "       [ 0. ,  0.5],\n",
       "       [ 1. ,  1. ],\n",
       "       [ 0. ,  0. ],\n",
       "       [ 1. ,  0.5],\n",
       "       [ 1. ,  5. ],\n",
       "       [ 1. ,  0. ],\n",
       "       [ 1. ,  0.5],\n",
       "       [ 1. ,  0. ],\n",
       "       [ 0. ,  0. ],\n",
       "       [ 1. ,  0.5],\n",
       "       [ 1. ,  0. ],\n",
       "       [ 0. ,  1. ],\n",
       "       [ 1. ,  0.5],\n",
       "       [ 1. ,  1. ],\n",
       "       [ 0. ,  0. ],\n",
       "       [ 1. ,  0.5],\n",
       "       [ 1. ,  1. ],\n",
       "       [ 0. ,  0. ]])"
      ]
     },
     "execution_count": 8,
     "metadata": {},
     "output_type": "execute_result"
    }
   ],
   "source": [
    "# There is most likely a simpler way of doing this...\n",
    "multi_channels_kernels_weights = multi_channels_kernels.reshape(2, -1).T\n",
    "multi_channels_kernels_weights"
   ]
  },
  {
   "cell_type": "markdown",
   "metadata": {},
   "source": [
    "For testing I have chosen this mestirious red and purple eyes frog(however decided to add frogs to the dataset is a genious).  "
   ]
  },
  {
   "cell_type": "code",
   "execution_count": 9,
   "metadata": {},
   "outputs": [
    {
     "data": {
      "text/plain": [
       "(50000, 32, 32, 3)"
      ]
     },
     "metadata": {},
     "output_type": "display_data"
    },
    {
     "data": {
      "application/vnd.plotly.v1+json": {
       "config": {
        "plotlyServerURL": "https://plot.ly"
       },
       "data": [
        {
         "hovertemplate": "x: %{x}<br>y: %{y}<br>color: [%{z[0]}, %{z[1]}, %{z[2]}]<extra></extra>",
         "name": "0",
         "source": "data:image/png;base64,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",
         "type": "image",
         "xaxis": "x",
         "yaxis": "y"
        }
       ],
       "layout": {
        "margin": {
         "t": 60
        },
        "template": {
         "data": {
          "bar": [
           {
            "error_x": {
             "color": "#2a3f5f"
            },
            "error_y": {
             "color": "#2a3f5f"
            },
            "marker": {
             "line": {
              "color": "#E5ECF6",
              "width": 0.5
             },
             "pattern": {
              "fillmode": "overlay",
              "size": 10,
              "solidity": 0.2
             }
            },
            "type": "bar"
           }
          ],
          "barpolar": [
           {
            "marker": {
             "line": {
              "color": "#E5ECF6",
              "width": 0.5
             },
             "pattern": {
              "fillmode": "overlay",
              "size": 10,
              "solidity": 0.2
             }
            },
            "type": "barpolar"
           }
          ],
          "carpet": [
           {
            "aaxis": {
             "endlinecolor": "#2a3f5f",
             "gridcolor": "white",
             "linecolor": "white",
             "minorgridcolor": "white",
             "startlinecolor": "#2a3f5f"
            },
            "baxis": {
             "endlinecolor": "#2a3f5f",
             "gridcolor": "white",
             "linecolor": "white",
             "minorgridcolor": "white",
             "startlinecolor": "#2a3f5f"
            },
            "type": "carpet"
           }
          ],
          "choropleth": [
           {
            "colorbar": {
             "outlinewidth": 0,
             "ticks": ""
            },
            "type": "choropleth"
           }
          ],
          "contour": [
           {
            "colorbar": {
             "outlinewidth": 0,
             "ticks": ""
            },
            "colorscale": [
             [
              0,
              "#0d0887"
             ],
             [
              0.1111111111111111,
              "#46039f"
             ],
             [
              0.2222222222222222,
              "#7201a8"
             ],
             [
              0.3333333333333333,
              "#9c179e"
             ],
             [
              0.4444444444444444,
              "#bd3786"
             ],
             [
              0.5555555555555556,
              "#d8576b"
             ],
             [
              0.6666666666666666,
              "#ed7953"
             ],
             [
              0.7777777777777778,
              "#fb9f3a"
             ],
             [
              0.8888888888888888,
              "#fdca26"
             ],
             [
              1,
              "#f0f921"
             ]
            ],
            "type": "contour"
           }
          ],
          "contourcarpet": [
           {
            "colorbar": {
             "outlinewidth": 0,
             "ticks": ""
            },
            "type": "contourcarpet"
           }
          ],
          "heatmap": [
           {
            "colorbar": {
             "outlinewidth": 0,
             "ticks": ""
            },
            "colorscale": [
             [
              0,
              "#0d0887"
             ],
             [
              0.1111111111111111,
              "#46039f"
             ],
             [
              0.2222222222222222,
              "#7201a8"
             ],
             [
              0.3333333333333333,
              "#9c179e"
             ],
             [
              0.4444444444444444,
              "#bd3786"
             ],
             [
              0.5555555555555556,
              "#d8576b"
             ],
             [
              0.6666666666666666,
              "#ed7953"
             ],
             [
              0.7777777777777778,
              "#fb9f3a"
             ],
             [
              0.8888888888888888,
              "#fdca26"
             ],
             [
              1,
              "#f0f921"
             ]
            ],
            "type": "heatmap"
           }
          ],
          "heatmapgl": [
           {
            "colorbar": {
             "outlinewidth": 0,
             "ticks": ""
            },
            "colorscale": [
             [
              0,
              "#0d0887"
             ],
             [
              0.1111111111111111,
              "#46039f"
             ],
             [
              0.2222222222222222,
              "#7201a8"
             ],
             [
              0.3333333333333333,
              "#9c179e"
             ],
             [
              0.4444444444444444,
              "#bd3786"
             ],
             [
              0.5555555555555556,
              "#d8576b"
             ],
             [
              0.6666666666666666,
              "#ed7953"
             ],
             [
              0.7777777777777778,
              "#fb9f3a"
             ],
             [
              0.8888888888888888,
              "#fdca26"
             ],
             [
              1,
              "#f0f921"
             ]
            ],
            "type": "heatmapgl"
           }
          ],
          "histogram": [
           {
            "marker": {
             "pattern": {
              "fillmode": "overlay",
              "size": 10,
              "solidity": 0.2
             }
            },
            "type": "histogram"
           }
          ],
          "histogram2d": [
           {
            "colorbar": {
             "outlinewidth": 0,
             "ticks": ""
            },
            "colorscale": [
             [
              0,
              "#0d0887"
             ],
             [
              0.1111111111111111,
              "#46039f"
             ],
             [
              0.2222222222222222,
              "#7201a8"
             ],
             [
              0.3333333333333333,
              "#9c179e"
             ],
             [
              0.4444444444444444,
              "#bd3786"
             ],
             [
              0.5555555555555556,
              "#d8576b"
             ],
             [
              0.6666666666666666,
              "#ed7953"
             ],
             [
              0.7777777777777778,
              "#fb9f3a"
             ],
             [
              0.8888888888888888,
              "#fdca26"
             ],
             [
              1,
              "#f0f921"
             ]
            ],
            "type": "histogram2d"
           }
          ],
          "histogram2dcontour": [
           {
            "colorbar": {
             "outlinewidth": 0,
             "ticks": ""
            },
            "colorscale": [
             [
              0,
              "#0d0887"
             ],
             [
              0.1111111111111111,
              "#46039f"
             ],
             [
              0.2222222222222222,
              "#7201a8"
             ],
             [
              0.3333333333333333,
              "#9c179e"
             ],
             [
              0.4444444444444444,
              "#bd3786"
             ],
             [
              0.5555555555555556,
              "#d8576b"
             ],
             [
              0.6666666666666666,
              "#ed7953"
             ],
             [
              0.7777777777777778,
              "#fb9f3a"
             ],
             [
              0.8888888888888888,
              "#fdca26"
             ],
             [
              1,
              "#f0f921"
             ]
            ],
            "type": "histogram2dcontour"
           }
          ],
          "mesh3d": [
           {
            "colorbar": {
             "outlinewidth": 0,
             "ticks": ""
            },
            "type": "mesh3d"
           }
          ],
          "parcoords": [
           {
            "line": {
             "colorbar": {
              "outlinewidth": 0,
              "ticks": ""
             }
            },
            "type": "parcoords"
           }
          ],
          "pie": [
           {
            "automargin": true,
            "type": "pie"
           }
          ],
          "scatter": [
           {
            "fillpattern": {
             "fillmode": "overlay",
             "size": 10,
             "solidity": 0.2
            },
            "type": "scatter"
           }
          ],
          "scatter3d": [
           {
            "line": {
             "colorbar": {
              "outlinewidth": 0,
              "ticks": ""
             }
            },
            "marker": {
             "colorbar": {
              "outlinewidth": 0,
              "ticks": ""
             }
            },
            "type": "scatter3d"
           }
          ],
          "scattercarpet": [
           {
            "marker": {
             "colorbar": {
              "outlinewidth": 0,
              "ticks": ""
             }
            },
            "type": "scattercarpet"
           }
          ],
          "scattergeo": [
           {
            "marker": {
             "colorbar": {
              "outlinewidth": 0,
              "ticks": ""
             }
            },
            "type": "scattergeo"
           }
          ],
          "scattergl": [
           {
            "marker": {
             "colorbar": {
              "outlinewidth": 0,
              "ticks": ""
             }
            },
            "type": "scattergl"
           }
          ],
          "scattermapbox": [
           {
            "marker": {
             "colorbar": {
              "outlinewidth": 0,
              "ticks": ""
             }
            },
            "type": "scattermapbox"
           }
          ],
          "scatterpolar": [
           {
            "marker": {
             "colorbar": {
              "outlinewidth": 0,
              "ticks": ""
             }
            },
            "type": "scatterpolar"
           }
          ],
          "scatterpolargl": [
           {
            "marker": {
             "colorbar": {
              "outlinewidth": 0,
              "ticks": ""
             }
            },
            "type": "scatterpolargl"
           }
          ],
          "scatterternary": [
           {
            "marker": {
             "colorbar": {
              "outlinewidth": 0,
              "ticks": ""
             }
            },
            "type": "scatterternary"
           }
          ],
          "surface": [
           {
            "colorbar": {
             "outlinewidth": 0,
             "ticks": ""
            },
            "colorscale": [
             [
              0,
              "#0d0887"
             ],
             [
              0.1111111111111111,
              "#46039f"
             ],
             [
              0.2222222222222222,
              "#7201a8"
             ],
             [
              0.3333333333333333,
              "#9c179e"
             ],
             [
              0.4444444444444444,
              "#bd3786"
             ],
             [
              0.5555555555555556,
              "#d8576b"
             ],
             [
              0.6666666666666666,
              "#ed7953"
             ],
             [
              0.7777777777777778,
              "#fb9f3a"
             ],
             [
              0.8888888888888888,
              "#fdca26"
             ],
             [
              1,
              "#f0f921"
             ]
            ],
            "type": "surface"
           }
          ],
          "table": [
           {
            "cells": {
             "fill": {
              "color": "#EBF0F8"
             },
             "line": {
              "color": "white"
             }
            },
            "header": {
             "fill": {
              "color": "#C8D4E3"
             },
             "line": {
              "color": "white"
             }
            },
            "type": "table"
           }
          ]
         },
         "layout": {
          "annotationdefaults": {
           "arrowcolor": "#2a3f5f",
           "arrowhead": 0,
           "arrowwidth": 1
          },
          "autotypenumbers": "strict",
          "coloraxis": {
           "colorbar": {
            "outlinewidth": 0,
            "ticks": ""
           }
          },
          "colorscale": {
           "diverging": [
            [
             0,
             "#8e0152"
            ],
            [
             0.1,
             "#c51b7d"
            ],
            [
             0.2,
             "#de77ae"
            ],
            [
             0.3,
             "#f1b6da"
            ],
            [
             0.4,
             "#fde0ef"
            ],
            [
             0.5,
             "#f7f7f7"
            ],
            [
             0.6,
             "#e6f5d0"
            ],
            [
             0.7,
             "#b8e186"
            ],
            [
             0.8,
             "#7fbc41"
            ],
            [
             0.9,
             "#4d9221"
            ],
            [
             1,
             "#276419"
            ]
           ],
           "sequential": [
            [
             0,
             "#0d0887"
            ],
            [
             0.1111111111111111,
             "#46039f"
            ],
            [
             0.2222222222222222,
             "#7201a8"
            ],
            [
             0.3333333333333333,
             "#9c179e"
            ],
            [
             0.4444444444444444,
             "#bd3786"
            ],
            [
             0.5555555555555556,
             "#d8576b"
            ],
            [
             0.6666666666666666,
             "#ed7953"
            ],
            [
             0.7777777777777778,
             "#fb9f3a"
            ],
            [
             0.8888888888888888,
             "#fdca26"
            ],
            [
             1,
             "#f0f921"
            ]
           ],
           "sequentialminus": [
            [
             0,
             "#0d0887"
            ],
            [
             0.1111111111111111,
             "#46039f"
            ],
            [
             0.2222222222222222,
             "#7201a8"
            ],
            [
             0.3333333333333333,
             "#9c179e"
            ],
            [
             0.4444444444444444,
             "#bd3786"
            ],
            [
             0.5555555555555556,
             "#d8576b"
            ],
            [
             0.6666666666666666,
             "#ed7953"
            ],
            [
             0.7777777777777778,
             "#fb9f3a"
            ],
            [
             0.8888888888888888,
             "#fdca26"
            ],
            [
             1,
             "#f0f921"
            ]
           ]
          },
          "colorway": [
           "#636efa",
           "#EF553B",
           "#00cc96",
           "#ab63fa",
           "#FFA15A",
           "#19d3f3",
           "#FF6692",
           "#B6E880",
           "#FF97FF",
           "#FECB52"
          ],
          "font": {
           "color": "#2a3f5f"
          },
          "geo": {
           "bgcolor": "white",
           "lakecolor": "white",
           "landcolor": "#E5ECF6",
           "showlakes": true,
           "showland": true,
           "subunitcolor": "white"
          },
          "hoverlabel": {
           "align": "left"
          },
          "hovermode": "closest",
          "mapbox": {
           "style": "light"
          },
          "paper_bgcolor": "white",
          "plot_bgcolor": "#E5ECF6",
          "polar": {
           "angularaxis": {
            "gridcolor": "white",
            "linecolor": "white",
            "ticks": ""
           },
           "bgcolor": "#E5ECF6",
           "radialaxis": {
            "gridcolor": "white",
            "linecolor": "white",
            "ticks": ""
           }
          },
          "scene": {
           "xaxis": {
            "backgroundcolor": "#E5ECF6",
            "gridcolor": "white",
            "gridwidth": 2,
            "linecolor": "white",
            "showbackground": true,
            "ticks": "",
            "zerolinecolor": "white"
           },
           "yaxis": {
            "backgroundcolor": "#E5ECF6",
            "gridcolor": "white",
            "gridwidth": 2,
            "linecolor": "white",
            "showbackground": true,
            "ticks": "",
            "zerolinecolor": "white"
           },
           "zaxis": {
            "backgroundcolor": "#E5ECF6",
            "gridcolor": "white",
            "gridwidth": 2,
            "linecolor": "white",
            "showbackground": true,
            "ticks": "",
            "zerolinecolor": "white"
           }
          },
          "shapedefaults": {
           "line": {
            "color": "#2a3f5f"
           }
          },
          "ternary": {
           "aaxis": {
            "gridcolor": "white",
            "linecolor": "white",
            "ticks": ""
           },
           "baxis": {
            "gridcolor": "white",
            "linecolor": "white",
            "ticks": ""
           },
           "bgcolor": "#E5ECF6",
           "caxis": {
            "gridcolor": "white",
            "linecolor": "white",
            "ticks": ""
           }
          },
          "title": {
           "x": 0.05
          },
          "xaxis": {
           "automargin": true,
           "gridcolor": "white",
           "linecolor": "white",
           "ticks": "",
           "title": {
            "standoff": 15
           },
           "zerolinecolor": "white",
           "zerolinewidth": 2
          },
          "yaxis": {
           "automargin": true,
           "gridcolor": "white",
           "linecolor": "white",
           "ticks": "",
           "title": {
            "standoff": 15
           },
           "zerolinecolor": "white",
           "zerolinewidth": 2
          }
         }
        },
        "xaxis": {
         "anchor": "y",
         "domain": [
          0,
          1
         ]
        },
        "yaxis": {
         "anchor": "x",
         "domain": [
          0,
          1
         ]
        }
       }
      }
     },
     "metadata": {},
     "output_type": "display_data"
    }
   ],
   "source": [
    "display(cifar_10_train_inputs.shape)\n",
    "multi_channels_input = cifar_10_train_inputs[0]\n",
    "flatten_multi_channels_input = multi_channels_input.ravel()\n",
    "px.imshow(multi_channels_input[:, ])"
   ]
  },
  {
   "cell_type": "code",
   "execution_count": 10,
   "metadata": {},
   "outputs": [
    {
     "data": {
      "text/plain": [
       "array([[[  0,   1,   2],\n",
       "        [  3,   4,   5],\n",
       "        [  6,   7,   8],\n",
       "        [  9,  10,  11],\n",
       "        [ 12,  13,  14]],\n",
       "\n",
       "       [[ 96,  97,  98],\n",
       "        [ 99, 100, 101],\n",
       "        [102, 103, 104],\n",
       "        [105, 106, 107],\n",
       "        [108, 109, 110]],\n",
       "\n",
       "       [[192, 193, 194],\n",
       "        [195, 196, 197],\n",
       "        [198, 199, 200],\n",
       "        [201, 202, 203],\n",
       "        [204, 205, 206]],\n",
       "\n",
       "       [[288, 289, 290],\n",
       "        [291, 292, 293],\n",
       "        [294, 295, 296],\n",
       "        [297, 298, 299],\n",
       "        [300, 301, 302]],\n",
       "\n",
       "       [[384, 385, 386],\n",
       "        [387, 388, 389],\n",
       "        [390, 391, 392],\n",
       "        [393, 394, 395],\n",
       "        [396, 397, 398]]])"
      ]
     },
     "metadata": {},
     "output_type": "display_data"
    }
   ],
   "source": [
    "multi_channels_window_index = np.arange(multi_channels_kernels.shape[3])\n",
    "multi_channels_window_index = np.tile(multi_channels_window_index, multi_channels_kernels.shape[2])\n",
    "multi_channels_window_index += np.repeat(np.arange(multi_channels_kernels.shape[2]) * cifar_10_train_inputs.shape[3], multi_channels_kernels.shape[3])\n",
    "multi_channels_window_index = np.tile(multi_channels_window_index, multi_channels_kernels.shape[1])\n",
    "multi_channels_window_index += np.repeat(np.arange(multi_channels_kernels.shape[1]) * cifar_10_train_inputs.shape[2] * cifar_10_train_inputs.shape[3], multi_channels_kernels.shape[2] * multi_channels_kernels.shape[3])\n",
    "display(multi_channels_window_index.reshape(5, 5, 3))"
   ]
  },
  {
   "cell_type": "markdown",
   "metadata": {},
   "source": [
    "### Viewing a the purple eye by adding ofssets to the window indices\n",
    "By hovering on the right eye of the frog in the above plot we can see that the eye is roughly at x:20 and y:5.  \n",
    "Below I demonstrate that by adding the correct offsets we can move the view to that eye.  "
   ]
  },
  {
   "cell_type": "code",
   "execution_count": 11,
   "metadata": {},
   "outputs": [
    {
     "data": {
      "application/vnd.plotly.v1+json": {
       "config": {
        "plotlyServerURL": "https://plot.ly"
       },
       "data": [
        {
         "hovertemplate": "x: %{x}<br>y: %{y}<br>color: [%{z[0]}, %{z[1]}, %{z[2]}]<extra></extra>",
         "name": "0",
         "source": "data:image/png;base64,iVBORw0KGgoAAAANSUhEUgAAAAUAAAAFCAIAAAACDbGyAAAAW0lEQVR4XgFQAK//AWZEKvsBBPfx9h4UJBYWBwLZ4ejt7vEwJy8E+gj/9gAEAQH/BAL/8/Dr9vT5DQ0FBA0ECvn2+s/a2gL8/vsLDgQYEA77/Pj2+vf19v/6/PzSMyqPqbBDfwAAAABJRU5ErkJggg==",
         "type": "image",
         "xaxis": "x",
         "yaxis": "y"
        }
       ],
       "layout": {
        "margin": {
         "t": 60
        },
        "template": {
         "data": {
          "bar": [
           {
            "error_x": {
             "color": "#2a3f5f"
            },
            "error_y": {
             "color": "#2a3f5f"
            },
            "marker": {
             "line": {
              "color": "#E5ECF6",
              "width": 0.5
             },
             "pattern": {
              "fillmode": "overlay",
              "size": 10,
              "solidity": 0.2
             }
            },
            "type": "bar"
           }
          ],
          "barpolar": [
           {
            "marker": {
             "line": {
              "color": "#E5ECF6",
              "width": 0.5
             },
             "pattern": {
              "fillmode": "overlay",
              "size": 10,
              "solidity": 0.2
             }
            },
            "type": "barpolar"
           }
          ],
          "carpet": [
           {
            "aaxis": {
             "endlinecolor": "#2a3f5f",
             "gridcolor": "white",
             "linecolor": "white",
             "minorgridcolor": "white",
             "startlinecolor": "#2a3f5f"
            },
            "baxis": {
             "endlinecolor": "#2a3f5f",
             "gridcolor": "white",
             "linecolor": "white",
             "minorgridcolor": "white",
             "startlinecolor": "#2a3f5f"
            },
            "type": "carpet"
           }
          ],
          "choropleth": [
           {
            "colorbar": {
             "outlinewidth": 0,
             "ticks": ""
            },
            "type": "choropleth"
           }
          ],
          "contour": [
           {
            "colorbar": {
             "outlinewidth": 0,
             "ticks": ""
            },
            "colorscale": [
             [
              0,
              "#0d0887"
             ],
             [
              0.1111111111111111,
              "#46039f"
             ],
             [
              0.2222222222222222,
              "#7201a8"
             ],
             [
              0.3333333333333333,
              "#9c179e"
             ],
             [
              0.4444444444444444,
              "#bd3786"
             ],
             [
              0.5555555555555556,
              "#d8576b"
             ],
             [
              0.6666666666666666,
              "#ed7953"
             ],
             [
              0.7777777777777778,
              "#fb9f3a"
             ],
             [
              0.8888888888888888,
              "#fdca26"
             ],
             [
              1,
              "#f0f921"
             ]
            ],
            "type": "contour"
           }
          ],
          "contourcarpet": [
           {
            "colorbar": {
             "outlinewidth": 0,
             "ticks": ""
            },
            "type": "contourcarpet"
           }
          ],
          "heatmap": [
           {
            "colorbar": {
             "outlinewidth": 0,
             "ticks": ""
            },
            "colorscale": [
             [
              0,
              "#0d0887"
             ],
             [
              0.1111111111111111,
              "#46039f"
             ],
             [
              0.2222222222222222,
              "#7201a8"
             ],
             [
              0.3333333333333333,
              "#9c179e"
             ],
             [
              0.4444444444444444,
              "#bd3786"
             ],
             [
              0.5555555555555556,
              "#d8576b"
             ],
             [
              0.6666666666666666,
              "#ed7953"
             ],
             [
              0.7777777777777778,
              "#fb9f3a"
             ],
             [
              0.8888888888888888,
              "#fdca26"
             ],
             [
              1,
              "#f0f921"
             ]
            ],
            "type": "heatmap"
           }
          ],
          "heatmapgl": [
           {
            "colorbar": {
             "outlinewidth": 0,
             "ticks": ""
            },
            "colorscale": [
             [
              0,
              "#0d0887"
             ],
             [
              0.1111111111111111,
              "#46039f"
             ],
             [
              0.2222222222222222,
              "#7201a8"
             ],
             [
              0.3333333333333333,
              "#9c179e"
             ],
             [
              0.4444444444444444,
              "#bd3786"
             ],
             [
              0.5555555555555556,
              "#d8576b"
             ],
             [
              0.6666666666666666,
              "#ed7953"
             ],
             [
              0.7777777777777778,
              "#fb9f3a"
             ],
             [
              0.8888888888888888,
              "#fdca26"
             ],
             [
              1,
              "#f0f921"
             ]
            ],
            "type": "heatmapgl"
           }
          ],
          "histogram": [
           {
            "marker": {
             "pattern": {
              "fillmode": "overlay",
              "size": 10,
              "solidity": 0.2
             }
            },
            "type": "histogram"
           }
          ],
          "histogram2d": [
           {
            "colorbar": {
             "outlinewidth": 0,
             "ticks": ""
            },
            "colorscale": [
             [
              0,
              "#0d0887"
             ],
             [
              0.1111111111111111,
              "#46039f"
             ],
             [
              0.2222222222222222,
              "#7201a8"
             ],
             [
              0.3333333333333333,
              "#9c179e"
             ],
             [
              0.4444444444444444,
              "#bd3786"
             ],
             [
              0.5555555555555556,
              "#d8576b"
             ],
             [
              0.6666666666666666,
              "#ed7953"
             ],
             [
              0.7777777777777778,
              "#fb9f3a"
             ],
             [
              0.8888888888888888,
              "#fdca26"
             ],
             [
              1,
              "#f0f921"
             ]
            ],
            "type": "histogram2d"
           }
          ],
          "histogram2dcontour": [
           {
            "colorbar": {
             "outlinewidth": 0,
             "ticks": ""
            },
            "colorscale": [
             [
              0,
              "#0d0887"
             ],
             [
              0.1111111111111111,
              "#46039f"
             ],
             [
              0.2222222222222222,
              "#7201a8"
             ],
             [
              0.3333333333333333,
              "#9c179e"
             ],
             [
              0.4444444444444444,
              "#bd3786"
             ],
             [
              0.5555555555555556,
              "#d8576b"
             ],
             [
              0.6666666666666666,
              "#ed7953"
             ],
             [
              0.7777777777777778,
              "#fb9f3a"
             ],
             [
              0.8888888888888888,
              "#fdca26"
             ],
             [
              1,
              "#f0f921"
             ]
            ],
            "type": "histogram2dcontour"
           }
          ],
          "mesh3d": [
           {
            "colorbar": {
             "outlinewidth": 0,
             "ticks": ""
            },
            "type": "mesh3d"
           }
          ],
          "parcoords": [
           {
            "line": {
             "colorbar": {
              "outlinewidth": 0,
              "ticks": ""
             }
            },
            "type": "parcoords"
           }
          ],
          "pie": [
           {
            "automargin": true,
            "type": "pie"
           }
          ],
          "scatter": [
           {
            "fillpattern": {
             "fillmode": "overlay",
             "size": 10,
             "solidity": 0.2
            },
            "type": "scatter"
           }
          ],
          "scatter3d": [
           {
            "line": {
             "colorbar": {
              "outlinewidth": 0,
              "ticks": ""
             }
            },
            "marker": {
             "colorbar": {
              "outlinewidth": 0,
              "ticks": ""
             }
            },
            "type": "scatter3d"
           }
          ],
          "scattercarpet": [
           {
            "marker": {
             "colorbar": {
              "outlinewidth": 0,
              "ticks": ""
             }
            },
            "type": "scattercarpet"
           }
          ],
          "scattergeo": [
           {
            "marker": {
             "colorbar": {
              "outlinewidth": 0,
              "ticks": ""
             }
            },
            "type": "scattergeo"
           }
          ],
          "scattergl": [
           {
            "marker": {
             "colorbar": {
              "outlinewidth": 0,
              "ticks": ""
             }
            },
            "type": "scattergl"
           }
          ],
          "scattermapbox": [
           {
            "marker": {
             "colorbar": {
              "outlinewidth": 0,
              "ticks": ""
             }
            },
            "type": "scattermapbox"
           }
          ],
          "scatterpolar": [
           {
            "marker": {
             "colorbar": {
              "outlinewidth": 0,
              "ticks": ""
             }
            },
            "type": "scatterpolar"
           }
          ],
          "scatterpolargl": [
           {
            "marker": {
             "colorbar": {
              "outlinewidth": 0,
              "ticks": ""
             }
            },
            "type": "scatterpolargl"
           }
          ],
          "scatterternary": [
           {
            "marker": {
             "colorbar": {
              "outlinewidth": 0,
              "ticks": ""
             }
            },
            "type": "scatterternary"
           }
          ],
          "surface": [
           {
            "colorbar": {
             "outlinewidth": 0,
             "ticks": ""
            },
            "colorscale": [
             [
              0,
              "#0d0887"
             ],
             [
              0.1111111111111111,
              "#46039f"
             ],
             [
              0.2222222222222222,
              "#7201a8"
             ],
             [
              0.3333333333333333,
              "#9c179e"
             ],
             [
              0.4444444444444444,
              "#bd3786"
             ],
             [
              0.5555555555555556,
              "#d8576b"
             ],
             [
              0.6666666666666666,
              "#ed7953"
             ],
             [
              0.7777777777777778,
              "#fb9f3a"
             ],
             [
              0.8888888888888888,
              "#fdca26"
             ],
             [
              1,
              "#f0f921"
             ]
            ],
            "type": "surface"
           }
          ],
          "table": [
           {
            "cells": {
             "fill": {
              "color": "#EBF0F8"
             },
             "line": {
              "color": "white"
             }
            },
            "header": {
             "fill": {
              "color": "#C8D4E3"
             },
             "line": {
              "color": "white"
             }
            },
            "type": "table"
           }
          ]
         },
         "layout": {
          "annotationdefaults": {
           "arrowcolor": "#2a3f5f",
           "arrowhead": 0,
           "arrowwidth": 1
          },
          "autotypenumbers": "strict",
          "coloraxis": {
           "colorbar": {
            "outlinewidth": 0,
            "ticks": ""
           }
          },
          "colorscale": {
           "diverging": [
            [
             0,
             "#8e0152"
            ],
            [
             0.1,
             "#c51b7d"
            ],
            [
             0.2,
             "#de77ae"
            ],
            [
             0.3,
             "#f1b6da"
            ],
            [
             0.4,
             "#fde0ef"
            ],
            [
             0.5,
             "#f7f7f7"
            ],
            [
             0.6,
             "#e6f5d0"
            ],
            [
             0.7,
             "#b8e186"
            ],
            [
             0.8,
             "#7fbc41"
            ],
            [
             0.9,
             "#4d9221"
            ],
            [
             1,
             "#276419"
            ]
           ],
           "sequential": [
            [
             0,
             "#0d0887"
            ],
            [
             0.1111111111111111,
             "#46039f"
            ],
            [
             0.2222222222222222,
             "#7201a8"
            ],
            [
             0.3333333333333333,
             "#9c179e"
            ],
            [
             0.4444444444444444,
             "#bd3786"
            ],
            [
             0.5555555555555556,
             "#d8576b"
            ],
            [
             0.6666666666666666,
             "#ed7953"
            ],
            [
             0.7777777777777778,
             "#fb9f3a"
            ],
            [
             0.8888888888888888,
             "#fdca26"
            ],
            [
             1,
             "#f0f921"
            ]
           ],
           "sequentialminus": [
            [
             0,
             "#0d0887"
            ],
            [
             0.1111111111111111,
             "#46039f"
            ],
            [
             0.2222222222222222,
             "#7201a8"
            ],
            [
             0.3333333333333333,
             "#9c179e"
            ],
            [
             0.4444444444444444,
             "#bd3786"
            ],
            [
             0.5555555555555556,
             "#d8576b"
            ],
            [
             0.6666666666666666,
             "#ed7953"
            ],
            [
             0.7777777777777778,
             "#fb9f3a"
            ],
            [
             0.8888888888888888,
             "#fdca26"
            ],
            [
             1,
             "#f0f921"
            ]
           ]
          },
          "colorway": [
           "#636efa",
           "#EF553B",
           "#00cc96",
           "#ab63fa",
           "#FFA15A",
           "#19d3f3",
           "#FF6692",
           "#B6E880",
           "#FF97FF",
           "#FECB52"
          ],
          "font": {
           "color": "#2a3f5f"
          },
          "geo": {
           "bgcolor": "white",
           "lakecolor": "white",
           "landcolor": "#E5ECF6",
           "showlakes": true,
           "showland": true,
           "subunitcolor": "white"
          },
          "hoverlabel": {
           "align": "left"
          },
          "hovermode": "closest",
          "mapbox": {
           "style": "light"
          },
          "paper_bgcolor": "white",
          "plot_bgcolor": "#E5ECF6",
          "polar": {
           "angularaxis": {
            "gridcolor": "white",
            "linecolor": "white",
            "ticks": ""
           },
           "bgcolor": "#E5ECF6",
           "radialaxis": {
            "gridcolor": "white",
            "linecolor": "white",
            "ticks": ""
           }
          },
          "scene": {
           "xaxis": {
            "backgroundcolor": "#E5ECF6",
            "gridcolor": "white",
            "gridwidth": 2,
            "linecolor": "white",
            "showbackground": true,
            "ticks": "",
            "zerolinecolor": "white"
           },
           "yaxis": {
            "backgroundcolor": "#E5ECF6",
            "gridcolor": "white",
            "gridwidth": 2,
            "linecolor": "white",
            "showbackground": true,
            "ticks": "",
            "zerolinecolor": "white"
           },
           "zaxis": {
            "backgroundcolor": "#E5ECF6",
            "gridcolor": "white",
            "gridwidth": 2,
            "linecolor": "white",
            "showbackground": true,
            "ticks": "",
            "zerolinecolor": "white"
           }
          },
          "shapedefaults": {
           "line": {
            "color": "#2a3f5f"
           }
          },
          "ternary": {
           "aaxis": {
            "gridcolor": "white",
            "linecolor": "white",
            "ticks": ""
           },
           "baxis": {
            "gridcolor": "white",
            "linecolor": "white",
            "ticks": ""
           },
           "bgcolor": "#E5ECF6",
           "caxis": {
            "gridcolor": "white",
            "linecolor": "white",
            "ticks": ""
           }
          },
          "title": {
           "x": 0.05
          },
          "xaxis": {
           "automargin": true,
           "gridcolor": "white",
           "linecolor": "white",
           "ticks": "",
           "title": {
            "standoff": 15
           },
           "zerolinecolor": "white",
           "zerolinewidth": 2
          },
          "yaxis": {
           "automargin": true,
           "gridcolor": "white",
           "linecolor": "white",
           "ticks": "",
           "title": {
            "standoff": 15
           },
           "zerolinecolor": "white",
           "zerolinewidth": 2
          }
         }
        },
        "xaxis": {
         "anchor": "y",
         "domain": [
          0,
          1
         ]
        },
        "yaxis": {
         "anchor": "x",
         "domain": [
          0,
          1
         ]
        }
       }
      }
     },
     "metadata": {},
     "output_type": "display_data"
    }
   ],
   "source": [
    "x_offset = cifar_10_train_inputs.shape[3] * 20\n",
    "y_offset = cifar_10_train_inputs.shape[3] * cifar_10_train_inputs.shape[2] * 5\n",
    "px.imshow(flatten_multi_channels_input[multi_channels_window_index + x_offset + y_offset].reshape(5, 5, 3))"
   ]
  },
  {
   "cell_type": "code",
   "execution_count": 12,
   "metadata": {},
   "outputs": [
    {
     "data": {
      "text/plain": [
       "784"
      ]
     },
     "execution_count": 12,
     "metadata": {},
     "output_type": "execute_result"
    }
   ],
   "source": [
    "multi_channels_nb_horizontal_correlations = 1 + cifar_10_train_inputs.shape[1] - multi_channels_kernels.shape[1]\n",
    "multi_channels_nb_vertical_correlations = 1 + cifar_10_train_inputs.shape[2] - multi_channels_kernels.shape[2]\n",
    "mutli_channels_nb_correlations = multi_channels_nb_horizontal_correlations * multi_channels_nb_vertical_correlations\n",
    "mutli_channels_nb_correlations"
   ]
  },
  {
   "cell_type": "code",
   "execution_count": 13,
   "metadata": {},
   "outputs": [
    {
     "data": {
      "text/plain": [
       "array([[   0,    1,    2, ...,  396,  397,  398],\n",
       "       [   3,    4,    5, ...,  399,  400,  401],\n",
       "       [   6,    7,    8, ...,  402,  403,  404],\n",
       "       ...,\n",
       "       [2667, 2668, 2669, ..., 3063, 3064, 3065],\n",
       "       [2670, 2671, 2672, ..., 3066, 3067, 3068],\n",
       "       [2673, 2674, 2675, ..., 3069, 3070, 3071]], shape=(784, 75))"
      ]
     },
     "execution_count": 13,
     "metadata": {},
     "output_type": "execute_result"
    }
   ],
   "source": [
    "mutli_channels_x_offset_multiplicator = cifar_10_train_inputs.shape[3]\n",
    "mutli_channels_y_offset_multiplicator = cifar_10_train_inputs.shape[3] * cifar_10_train_inputs.shape[2]\n",
    "mutli_channels_horizontal_offsets = np.tile(np.arange(multi_channels_nb_horizontal_correlations) * mutli_channels_x_offset_multiplicator, multi_channels_nb_vertical_correlations).reshape(-1, 1)\n",
    "multi_channels_vertical_offsets = np.repeat(np.arange(multi_channels_nb_vertical_correlations) * mutli_channels_y_offset_multiplicator, multi_channels_nb_vertical_correlations).reshape(-1, 1)\n",
    "multi_channels_correlatin_indieces = np.tile(multi_channels_window_index, (mutli_channels_nb_correlations, 1)) + mutli_channels_horizontal_offsets + multi_channels_vertical_offsets\n",
    "\n",
    "multi_channels_correlatin_indieces"
   ]
  },
  {
   "cell_type": "code",
   "execution_count": 14,
   "metadata": {},
   "outputs": [
    {
     "data": {
      "text/plain": [
       "(4, 5, 5, 3)"
      ]
     },
     "execution_count": 14,
     "metadata": {},
     "output_type": "execute_result"
    }
   ],
   "source": [
    "multi_channels_correlatin_indieces.reshape(-1, 5, 5, 3)[:4, ...].shape"
   ]
  },
  {
   "cell_type": "markdown",
   "metadata": {},
   "source": [
    "### Visualizing the window \"moving\" over the first two rows of the image\n",
    "Feel free to compare them to the full image plot."
   ]
  },
  {
   "cell_type": "code",
   "execution_count": 17,
   "metadata": {},
   "outputs": [
    {
     "data": {
      "application/vnd.plotly.v1+json": {
       "config": {
        "plotlyServerURL": "https://plot.ly"
       },
       "data": [
        {
         "hovertemplate": "x: %{x}<br>y: %{y}<br>color: %{z}<extra></extra>",
         "name": "0",
         "source": "data:image/png;base64,iVBORw0KGgoAAAANSUhEUgAAAAUAAAAFCAIAAAACDbGyAAAAWUlEQVR4XmO0trP/8OEdO9M/Ibb/csJcjAIiIh/evBHiYFAU5lCV4GXhZGFkYGeQF+ZQEOcXExVi4WD8w8vLoiYtKMzJzPrvB4sgOwsnOzs/N6coH+vff38B+YERZbYKWpEAAAAASUVORK5CYII=",
         "type": "image",
         "xaxis": "x29",
         "yaxis": "y29"
        },
        {
         "hovertemplate": "x: %{x}<br>y: %{y}<br>color: %{z}<extra></extra>",
         "name": "1",
         "source": "data:image/png;base64,iVBORw0KGgoAAAANSUhEUgAAAAUAAAAFCAIAAAACDbGyAAAAWElEQVR4XgXB3Q5AIBgA0C9Kf4ivFZtNueDGeP+ncuXCbMU5ZD8PXmSsvtkqh5oAAApYrFjHJgZPOw7BijgY71AqTX1Dt6m3smT5ua+XupobLV3LUk4J4Ae+Sg7eWGBlHQAAAABJRU5ErkJggg==",
         "type": "image",
         "xaxis": "x30",
         "yaxis": "y30"
        },
        {
         "hovertemplate": "x: %{x}<br>y: %{y}<br>color: %{z}<extra></extra>",
         "name": "2",
         "source": "data:image/png;base64,iVBORw0KGgoAAAANSUhEUgAAAAUAAAAFCAIAAAACDbGyAAAAW0lEQVR4XgFQAK//ATIwKxIG/x4TChUSCxQQDATg2NUBEwgU/Q0BCRb1/u4EHxMIIBcPFhUSCQoLAQEBBCYbERMJAwX++PTu+v3+AgQPCwkVDgX9/v39AAADBAMF5xWIVpBHKwAAAABJRU5ErkJggg==",
         "type": "image",
         "xaxis": "x31",
         "yaxis": "y31"
        },
        {
         "hovertemplate": "x: %{x}<br>y: %{y}<br>color: %{z}<extra></extra>",
         "name": "3",
         "source": "data:image/png;base64,iVBORw0KGgoAAAANSUhEUgAAAAUAAAAFCAIAAAACDbGyAAAAW0lEQVR4XgFQAK//AUQ2Kh4TChUSCxQQDAYDBQTv5d4U/Q0BCRb1/u70/f8EIBcPFhUSCQoLAQEB9/n4BBcNBQX++PTu+v3+Avf2/AQVEAv9/v39AAADBAMAAgIJUBzHmY79GQAAAABJRU5ErkJggg==",
         "type": "image",
         "xaxis": "x32",
         "yaxis": "y32"
        },
        {
         "hovertemplate": "x: %{x}<br>y: %{y}<br>color: %{z}<extra></extra>",
         "name": "4",
         "source": "data:image/png;base64,iVBORw0KGgoAAAANSUhEUgAAAAUAAAAFCAIAAAACDbGyAAAAVklEQVR4XgXBuRGAIBAAQO44YBADxwEqsQnbsHNTAyLkUQF34dg3txq7zJILUprSdYL2dw+xjQGSvLN6MgCQaylvJdFLDE/rmNOHkpFWvDHGiTPE2t8feKkfNpAZmxgAAAAASUVORK5CYII=",
         "type": "image",
         "xaxis": "x33",
         "yaxis": "y33"
        },
        {
         "hovertemplate": "x: %{x}<br>y: %{y}<br>color: %{z}<extra></extra>",
         "name": "5",
         "source": "data:image/png;base64,iVBORw0KGgoAAAANSUhEUgAAAAUAAAAFCAIAAAACDbGyAAAAUUlEQVR4XgXByRGAIBAEQIYdsVDK8mE+BmIgJq28kMMD7Ma+rcvsjHTsrRIS6biqD19rMDHftMMIIJWcn9IABn9+Vaf4aqOm2ZECoSitS31I/uitHxDqiGPlAAAAAElFTkSuQmCC",
         "type": "image",
         "xaxis": "x34",
         "yaxis": "y34"
        },
        {
         "hovertemplate": "x: %{x}<br>y: %{y}<br>color: %{z}<extra></extra>",
         "name": "6",
         "source": "data:image/png;base64,iVBORw0KGgoAAAANSUhEUgAAAAUAAAAFCAIAAAACDbGyAAAAU0lEQVR4XgXBSw6AIAwFQCjPEowx3sujeBRv6dYEWShQP9QZuy4zuw4+GId4JFxxOz9Vy7neuQgIfZFaH1FrOQSkPZb8EptxGsAezM4QSXsAQNsPyXwi1mvPgCYAAAAASUVORK5CYII=",
         "type": "image",
         "xaxis": "x35",
         "yaxis": "y35"
        },
        {
         "hovertemplate": "x: %{x}<br>y: %{y}<br>color: %{z}<extra></extra>",
         "name": "7",
         "source": "data:image/png;base64,iVBORw0KGgoAAAANSUhEUgAAAAUAAAAFCAIAAAACDbGyAAAAU0lEQVR4XgXByw2AIBAFQBZeIBu1NyuxF/uzAA8GiQf+sM7QeexwrAz8G2oX+PsSsjHXmEobE7Wb3IoQWWbVRYfnqymypW1xRjXNq1UgAJA5SvoBu00nq/D2EGYAAAAASUVORK5CYII=",
         "type": "image",
         "xaxis": "x36",
         "yaxis": "y36"
        },
        {
         "hovertemplate": "x: %{x}<br>y: %{y}<br>color: %{z}<extra></extra>",
         "name": "8",
         "source": "data:image/png;base64,iVBORw0KGgoAAAANSUhEUgAAAAUAAAAFCAIAAAACDbGyAAAAVUlEQVR4XgXBWw5AMBAF0Jn2pjQiWJ6FWIrF+fUnESSSVp/jHF6XmTSu+4lZpnHAsW/ui86HVOqpGa8LwmyspSxSg4reWcN912hKLQgEBgCpJXjR6gfFZybTElDwNQAAAABJRU5ErkJggg==",
         "type": "image",
         "xaxis": "x37",
         "yaxis": "y37"
        },
        {
         "hovertemplate": "x: %{x}<br>y: %{y}<br>color: %{z}<extra></extra>",
         "name": "9",
         "source": "data:image/png;base64,iVBORw0KGgoAAAANSUhEUgAAAAUAAAAFCAIAAAACDbGyAAAAV0lEQVR4XgXByQ2AIBQFQJYXFA1B6c8+bMS6PHr0ToxykiDLd4Zv63I/4Ss0T1bUjPPY35hybZfkPQiFmNKaFaKWrBuEVtyMnWS5B3NmAABQqymSFN6HH3RNJRUdOlm9AAAAAElFTkSuQmCC",
         "type": "image",
         "xaxis": "x38",
         "yaxis": "y38"
        },
        {
         "hovertemplate": "x: %{x}<br>y: %{y}<br>color: %{z}<extra></extra>",
         "name": "10",
         "source": "data:image/png;base64,iVBORw0KGgoAAAANSUhEUgAAAAUAAAAFCAIAAAACDbGyAAAAVUlEQVR4XgXByw2AIAwAUD6NAoag7OUcDuKS3jyaEA/eTG1Lfc/u2/qxLnNxQogI13mQ9NvbAMrcYYjRsGrHUhOTujyN3lAAU3OKYAC0C77qXWuPkPybJikKT5UAvwAAAABJRU5ErkJggg==",
         "type": "image",
         "xaxis": "x39",
         "yaxis": "y39"
        },
        {
         "hovertemplate": "x: %{x}<br>y: %{y}<br>color: %{z}<extra></extra>",
         "name": "11",
         "source": "data:image/png;base64,iVBORw0KGgoAAAANSUhEUgAAAAUAAAAFCAIAAAACDbGyAAAAV0lEQVR4XgXBSwqAIBAAUD9jqBCW5+oWnaNztm0Z0iKIbAYd7T25rcs8BcWFiBARzmO/tLTQa21aARjre6MQfS19ME5pUSyIOHoHgvEFpq9rldLNhZ+cf+fzJ8eNIc+eAAAAAElFTkSuQmCC",
         "type": "image",
         "xaxis": "x40",
         "yaxis": "y40"
        },
        {
         "hovertemplate": "x: %{x}<br>y: %{y}<br>color: %{z}<extra></extra>",
         "name": "12",
         "source": "data:image/png;base64,iVBORw0KGgoAAAANSUhEUgAAAAUAAAAFCAIAAAACDbGyAAAAV0lEQVR4XgXBwQ2AIAwAwApVCokxcT3HcA/38u3TDXiREBEoFe+GY9+UcCkl50yW8L5Owt7apxUaYxC0WlbXuE+jFQFFCOvsLILk540BubL3QVhiSknqD9OVKZeGiIovAAAAAElFTkSuQmCC",
         "type": "image",
         "xaxis": "x41",
         "yaxis": "y41"
        },
        {
         "hovertemplate": "x: %{x}<br>y: %{y}<br>color: %{z}<extra></extra>",
         "name": "13",
         "source": "data:image/png;base64,iVBORw0KGgoAAAANSUhEUgAAAAUAAAAFCAIAAAACDbGyAAAAWElEQVR4XgXByQ2AIBAAQJBVwIgmFGcdlmJjNuDPLy8jAZdjxRm+b2tKCRGVVsQIrvOo9RMdSCkjBlisqaUNvSZiYpBgzeifkDG8WBrj4NxNhXyMkfKk5x+vNCyLAJ3gsQAAAABJRU5ErkJggg==",
         "type": "image",
         "xaxis": "x42",
         "yaxis": "y42"
        },
        {
         "hovertemplate": "x: %{x}<br>y: %{y}<br>color: %{z}<extra></extra>",
         "name": "14",
         "source": "data:image/png;base64,iVBORw0KGgoAAAANSUhEUgAAAAUAAAAFCAIAAAACDbGyAAAAVElEQVR4XgXBwQ2AIAwAwCJVIBCMkzmHo7ief39uAJSCVr1T+7Yys3VWQKhmvM5DD2iMIS7P23Fe4jQ6EdCTaZ3RIXQule8PVPAec+JERNKDi9DkBzIWKLJuFzgKAAAAAElFTkSuQmCC",
         "type": "image",
         "xaxis": "x43",
         "yaxis": "y43"
        },
        {
         "hovertemplate": "x: %{x}<br>y: %{y}<br>color: %{z}<extra></extra>",
         "name": "15",
         "source": "data:image/png;base64,iVBORw0KGgoAAAANSUhEUgAAAAUAAAAFCAIAAAACDbGyAAAAV0lEQVR4XgXByQ2AIBAAwCUSgUDQiD1Zh6XYqF9fRh4Cy7HoDDv2TSpJQDG902z5c51CiIih9cLQ8WV1RDCMIhesjXHCkLB+wIzWtSR+ex+pGGUh0wD9B0BxKeSc3VQSAAAAAElFTkSuQmCC",
         "type": "image",
         "xaxis": "x44",
         "yaxis": "y44"
        },
        {
         "hovertemplate": "x: %{x}<br>y: %{y}<br>color: %{z}<extra></extra>",
         "name": "16",
         "source": "data:image/png;base64,iVBORw0KGgoAAAANSUhEUgAAAAUAAAAFCAIAAAACDbGyAAAAV0lEQVR4XgXBWwqAIBAAQFfFQqWCDtY9ukmH7LO/qKB8u24zsK0LMvThG6eBEcrr2H10tWWIMxdM9toK1aUcSwWtOhnehxhYY0oOHCU/3Z1a9QkbNQ70A4MwK61VbnzBAAAAAElFTkSuQmCC",
         "type": "image",
         "xaxis": "x45",
         "yaxis": "y45"
        },
        {
         "hovertemplate": "x: %{x}<br>y: %{y}<br>color: %{z}<extra></extra>",
         "name": "17",
         "source": "data:image/png;base64,iVBORw0KGgoAAAANSUhEUgAAAAUAAAAFCAIAAAACDbGyAAAAVUlEQVR4XgXByRGAIAwAQEgYDg90tC0rsRA79OnbBhwgEMBdeZ1HiN+yetFrpqze5+aWZdoBRSFSs98op8Jy0EaNDkoMk3XADLVqREWNBVUUDWRHY3+FwiYSo+tHnAAAAABJRU5ErkJggg==",
         "type": "image",
         "xaxis": "x46",
         "yaxis": "y46"
        },
        {
         "hovertemplate": "x: %{x}<br>y: %{y}<br>color: %{z}<extra></extra>",
         "name": "18",
         "source": "data:image/png;base64,iVBORw0KGgoAAAANSUhEUgAAAAUAAAAFCAIAAAACDbGyAAAAU0lEQVR4XgXBSxJAMAwA0Cap/hg640Ku4h5uamtra6RJ1Htw7NtSZ9etcSM3+Ps64V2RnDBnn3wpVRRKiH7MKUScUkZVNAtEZoIP29c/hE4xicIPnVofb9jTikAAAAAASUVORK5CYII=",
         "type": "image",
         "xaxis": "x47",
         "yaxis": "y47"
        },
        {
         "hovertemplate": "x: %{x}<br>y: %{y}<br>color: %{z}<extra></extra>",
         "name": "19",
         "source": "data:image/png;base64,iVBORw0KGgoAAAANSUhEUgAAAAUAAAAFCAIAAAACDbGyAAAAUElEQVR4XgXBuw2AMAwFwNjP5IfEaOzCHCxJSY2gcGIn3NF57GF604awAJDnvhihqxbJrzbpRjUmWUuOyehjNmP3CLh3AfGYg2ki5W5Ul+0HTNogSxK+PLUAAAAASUVORK5CYII=",
         "type": "image",
         "xaxis": "x48",
         "yaxis": "y48"
        },
        {
         "hovertemplate": "x: %{x}<br>y: %{y}<br>color: %{z}<extra></extra>",
         "name": "20",
         "source": "data:image/png;base64,iVBORw0KGgoAAAANSUhEUgAAAAUAAAAFCAIAAAACDbGyAAAAUElEQVR4XgXByRWAIAwFQJMfNkEbsxn7sEyvPk94YAk4Q9d51FKxGABbSpKfu5USxOdSX+0CeInBW9fp4zmYVS2g2gQ0tDHThPOt02r2aN0PRHcfcsQm0A0AAAAASUVORK5CYII=",
         "type": "image",
         "xaxis": "x49",
         "yaxis": "y49"
        },
        {
         "hovertemplate": "x: %{x}<br>y: %{y}<br>color: %{z}<extra></extra>",
         "name": "21",
         "source": "data:image/png;base64,iVBORw0KGgoAAAANSUhEUgAAAAUAAAAFCAIAAAACDbGyAAAAUUlEQVR4XgXByxGAIAwFQMLjH3RsymIsxEY9O57kgCTqLu3bCuMBTLUys2vnkV26+3OplMIu85JCFGr2e8WQDYDqcKBXB6yxiGkIFT9ziNrHD91AGrgZ1CEFAAAAAElFTkSuQmCC",
         "type": "image",
         "xaxis": "x50",
         "yaxis": "y50"
        },
        {
         "hovertemplate": "x: %{x}<br>y: %{y}<br>color: %{z}<extra></extra>",
         "name": "22",
         "source": "data:image/png;base64,iVBORw0KGgoAAAANSUhEUgAAAAUAAAAFCAIAAAACDbGyAAAAUUlEQVR4XgXB2w2AIAwAQPogMRR0LzdxExf11/ihEWkL3sG+rURUchaRGCfW67i/drqlJICRp7IYPDi6BSAI6K5M0F0JA3ZjNUhx5jFqba/aD1YlIWq63j7mAAAAAElFTkSuQmCC",
         "type": "image",
         "xaxis": "x51",
         "yaxis": "y51"
        },
        {
         "hovertemplate": "x: %{x}<br>y: %{y}<br>color: %{z}<extra></extra>",
         "name": "23",
         "source": "data:image/png;base64,iVBORw0KGgoAAAANSUhEUgAAAAUAAAAFCAIAAAACDbGyAAAAUUlEQVR4XgXByQmAMBAAwOwFYTfamZ3YiS369qkIQu7EGTj2bQnBzER8zIXf67x7UzVAARImrzhHc0DggikyweiV0OFo+XtYZeU5UyqxtuHmDxBjH2WWYmL0AAAAAElFTkSuQmCC",
         "type": "image",
         "xaxis": "x52",
         "yaxis": "y52"
        },
        {
         "hovertemplate": "x: %{x}<br>y: %{y}<br>color: %{z}<extra></extra>",
         "name": "24",
         "source": "data:image/png;base64,iVBORw0KGgoAAAANSUhEUgAAAAUAAAAFCAIAAAACDbGyAAAAUklEQVR4XgXByxGAIAwFwORB/BAbtBNLsSjvnq1AD8wACsFd3rdVVUWmVN7O8Nd5hKAMYScEQMJSCcY0a2hmsPY5EKyWeFPNXocx5zd91ag/Mf8lOCIN+txxlwAAAABJRU5ErkJggg==",
         "type": "image",
         "xaxis": "x53",
         "yaxis": "y53"
        },
        {
         "hovertemplate": "x: %{x}<br>y: %{y}<br>color: %{z}<extra></extra>",
         "name": "25",
         "source": "data:image/png;base64,iVBORw0KGgoAAAANSUhEUgAAAAUAAAAFCAIAAAACDbGyAAAAUklEQVR4XgXByRWAIAwFwOQDz61NO7EU2/Hs2Q7kwGMxITjD57GHMJf2DQbB++e+GIFdICBXgRKMadnWbiYq3oFg2tJLfUyOfG9SRI1GTDVm+QEN6Ceg0Z4XSwAAAABJRU5ErkJggg==",
         "type": "image",
         "xaxis": "x54",
         "yaxis": "y54"
        },
        {
         "hovertemplate": "x: %{x}<br>y: %{y}<br>color: %{z}<extra></extra>",
         "name": "26",
         "source": "data:image/png;base64,iVBORw0KGgoAAAANSUhEUgAAAAUAAAAFCAIAAAACDbGyAAAAUUlEQVR4XgXBwRWAIAgAUEB6vWrVBmmUVunctR3yoCaC2P94HvsnbSABcZPGz31hmICoVDVVcoRlW7u7miICk5ukF/qYA5g751wdRkw1Fk3Ffp8XL03xbu6BAAAAAElFTkSuQmCC",
         "type": "image",
         "xaxis": "x55",
         "yaxis": "y55"
        },
        {
         "hovertemplate": "x: %{x}<br>y: %{y}<br>color: %{z}<extra></extra>",
         "name": "27",
         "source": "data:image/png;base64,iVBORw0KGgoAAAANSUhEUgAAAAUAAAAFCAIAAAACDbGyAAAAUklEQVR4XgXBwQ2AIAwAwLY0Ieqe7uEkLuXXr18BgQAt4B2exz6RgLjVphP5uS8gykVUxLClZVv7GKKCCF/wXOMLfVoDOoZPlV1ILhaXJWYtQj/EIjEUfqBV3AAAAABJRU5ErkJggg==",
         "type": "image",
         "xaxis": "x56",
         "yaxis": "y56"
        },
        {
         "hovertemplate": "x: %{x}<br>y: %{y}<br>color: %{z}<extra></extra>",
         "name": "28",
         "source": "data:image/png;base64,iVBORw0KGgoAAAANSUhEUgAAAAUAAAAFCAIAAAACDbGyAAAAVElEQVR4XgXBOw6AIAwAULAlbWMQ5KMmDuqg9z8Yg6ODoO9pn9JdSmB1RD4Xi4Jakdoi77ObckDWr7V4rWMUMO3BkVCIXC95MLVVzJ6tAWbo4BORHw0WDP31rtPYAAAAAElFTkSuQmCC",
         "type": "image",
         "xaxis": "x",
         "yaxis": "y"
        },
        {
         "hovertemplate": "x: %{x}<br>y: %{y}<br>color: %{z}<extra></extra>",
         "name": "29",
         "source": "data:image/png;base64,iVBORw0KGgoAAAANSUhEUgAAAAUAAAAFCAIAAAACDbGyAAAAVUlEQVR4XgXBzRJAIBAA4KVt7Ep+agrjUA68/5M5ORgU31cAgCFYLW2TjsFjX0GwFMfOO8O1Qq9xXwbLQubrPG50TdUpdq1MOSUAnJ0mEqX4mPl50w+tOhAxTfCMpwAAAABJRU5ErkJggg==",
         "type": "image",
         "xaxis": "x2",
         "yaxis": "y2"
        },
        {
         "hovertemplate": "x: %{x}<br>y: %{y}<br>color: %{z}<extra></extra>",
         "name": "30",
         "source": "data:image/png;base64,iVBORw0KGgoAAAANSUhEUgAAAAUAAAAFCAIAAAACDbGyAAAAU0lEQVR4XgXBwQ5AMAwA0HbtoiWILUPigAP//2VODoKO9zAIrFG2sV7mXgrHc5RlaPsUtKwQkfepi0o+X+dxW3bcVpoab9kMgJhYhBx9qvq8lgF/FEsSql/IAdoAAAAASUVORK5CYII=",
         "type": "image",
         "xaxis": "x3",
         "yaxis": "y3"
        },
        {
         "hovertemplate": "x: %{x}<br>y: %{y}<br>color: %{z}<extra></extra>",
         "name": "31",
         "source": "data:image/png;base64,iVBORw0KGgoAAAANSUhEUgAAAAUAAAAFCAIAAAACDbGyAAAAVklEQVR4XgXBSw5AQAwA0LZToSZCJD6Jhdk4gftfyUoYQ6few32ptrkJ61iVZGocpnYceqk9It5P5KkpihzPI2mm+/p46LxmVQDHDoiYnInI+2kGNEs/6VAdwmMRdcAAAAAASUVORK5CYII=",
         "type": "image",
         "xaxis": "x4",
         "yaxis": "y4"
        },
        {
         "hovertemplate": "x: %{x}<br>y: %{y}<br>color: %{z}<extra></extra>",
         "name": "32",
         "source": "data:image/png;base64,iVBORw0KGgoAAAANSUhEUgAAAAUAAAAFCAIAAAACDbGyAAAAUUlEQVR4XgXBuxWAIAwAwCREELFUWt3BZdx/ACuffEO8w/vazyPOjlRU0XLcN78EREwl51Z4Gvl9qgxKXycL7J0RAMMGiMpovAbfugxA1Vq7/s2yIyIfInlpAAAAAElFTkSuQmCC",
         "type": "image",
         "xaxis": "x5",
         "yaxis": "y5"
        },
        {
         "hovertemplate": "x: %{x}<br>y: %{y}<br>color: %{z}<extra></extra>",
         "name": "33",
         "source": "data:image/png;base64,iVBORw0KGgoAAAANSUhEUgAAAAUAAAAFCAIAAAACDbGyAAAATklEQVR4XgXB2w2AIBAEQPbYoKIx9mE3VmPT+mV4wzmD+zrnSbSrwoVUuPgVQMwp1awAv/fpQ2Jo4sx+bKSFpTUieVSS9JMbBqqlNO2l/nejI+cGebCJAAAAAElFTkSuQmCC",
         "type": "image",
         "xaxis": "x6",
         "yaxis": "y6"
        },
        {
         "hovertemplate": "x: %{x}<br>y: %{y}<br>color: %{z}<extra></extra>",
         "name": "34",
         "source": "data:image/png;base64,iVBORw0KGgoAAAANSUhEUgAAAAUAAAAFCAIAAAACDbGyAAAAT0lEQVR4XgXB2QmAMBAFwGzyWImI2IgF2Y39CuJXjs3xnJH7OjlI0VQs5QqPNddSWqWIxojveXPqXt1+bNAFqsF5X2cDAE5EDaRZ57A22X5VMyjULcliCgAAAABJRU5ErkJggg==",
         "type": "image",
         "xaxis": "x7",
         "yaxis": "y7"
        },
        {
         "hovertemplate": "x: %{x}<br>y: %{y}<br>color: %{z}<extra></extra>",
         "name": "35",
         "source": "data:image/png;base64,iVBORw0KGgoAAAANSUhEUgAAAAUAAAAFCAIAAAACDbGyAAAAT0lEQVR4XgXByRGAMAgAwJAgDqN2Yj22Y8M+HB85IIC7cF9nANUutQ01R5ml6wgAYk4z8vt80ioTHNtakmbeKSEgIobbaLgUlxkm6qFh8gOmKSupNX2jeQAAAABJRU5ErkJggg==",
         "type": "image",
         "xaxis": "x8",
         "yaxis": "y8"
        },
        {
         "hovertemplate": "x: %{x}<br>y: %{y}<br>color: %{z}<extra></extra>",
         "name": "36",
         "source": "data:image/png;base64,iVBORw0KGgoAAAANSUhEUgAAAAUAAAAFCAIAAAACDbGyAAAAS0lEQVR4XgXBgQ2AMAgEwGI/1ca4jMu4jUubUCnCeyf3deo7dZhHogoeNYq03stHpi1zaG9y7GstvqGgQACAGTZYF0gypiedMYn2A1XZKNkpiAEAAAAAAElFTkSuQmCC",
         "type": "image",
         "xaxis": "x9",
         "yaxis": "y9"
        },
        {
         "hovertemplate": "x: %{x}<br>y: %{y}<br>color: %{z}<extra></extra>",
         "name": "37",
         "source": "data:image/png;base64,iVBORw0KGgoAAAANSUhEUgAAAAUAAAAFCAIAAAACDbGyAAAAUUlEQVR4XgXBWwqAIBQFQM2DqSGB62gvbaZV+xVEiY/raUZf5/GV2mXCaAdiUFnv1SBn3VNYvNVxW43qDirFAADglFpolpxvSOuTndII+7T3Bz3HJgzfc7MLAAAAAElFTkSuQmCC",
         "type": "image",
         "xaxis": "x10",
         "yaxis": "y10"
        },
        {
         "hovertemplate": "x: %{x}<br>y: %{y}<br>color: %{z}<extra></extra>",
         "name": "38",
         "source": "data:image/png;base64,iVBORw0KGgoAAAANSUhEUgAAAAUAAAAFCAIAAAACDbGyAAAAUklEQVR4XgXB0Q2AIAwFQJAXBAwxYQdXcRhH58tEjUJp65099o1Y4GyAjiHwMZqhKm0taZBOeZmdoQBTcoowgAq3V91U68nE6N+t3BX+6g+z+wGc6ijchISB5wAAAABJRU5ErkJggg==",
         "type": "image",
         "xaxis": "x11",
         "yaxis": "y11"
        },
        {
         "hovertemplate": "x: %{x}<br>y: %{y}<br>color: %{z}<extra></extra>",
         "name": "39",
         "source": "data:image/png;base64,iVBORw0KGgoAAAANSUhEUgAAAAUAAAAFCAIAAAACDbGyAAAAUklEQVR4XgXBWwqAIBAFUHWuoUIEbqGltJY271cgWj7G6Rx9XydIO8iciwxgXZDVjhjmkM16Q2o4qLgHD8VfAbdXyKT08OBcK4S7YMu9MFPl9QPa3CexmBoaHAAAAABJRU5ErkJggg==",
         "type": "image",
         "xaxis": "x12",
         "yaxis": "y12"
        },
        {
         "hovertemplate": "x: %{x}<br>y: %{y}<br>color: %{z}<extra></extra>",
         "name": "40",
         "source": "data:image/png;base64,iVBORw0KGgoAAAANSUhEUgAAAAUAAAAFCAIAAAACDbGyAAAAUklEQVR4XgXBWwqAIBAF0FGnfEAErqG1tJe27pcgWqh37Bz13JfjNacYzdZaJqPPGOZY++YB0o4pHsEz4atvyTz6SCljoLTW0HkpKb0CpkEm5Acagit2JqSfwwAAAABJRU5ErkJggg==",
         "type": "image",
         "xaxis": "x13",
         "yaxis": "y13"
        },
        {
         "hovertemplate": "x: %{x}<br>y: %{y}<br>color: %{z}<extra></extra>",
         "name": "41",
         "source": "data:image/png;base64,iVBORw0KGgoAAAANSUhEUgAAAAUAAAAFCAIAAAACDbGyAAAAUklEQVR4XgXB0Q2AIAwFQJEKwYgmrOA2buPafBlJKwEeeKfu62yt65mstZKZjuBbHWZxwKSNpeDX9HLJ/OU6JkUxPqhIIoKyuZ1SYUALekNPXH8u/C9P0STQgAAAAABJRU5ErkJggg==",
         "type": "image",
         "xaxis": "x14",
         "yaxis": "y14"
        },
        {
         "hovertemplate": "x: %{x}<br>y: %{y}<br>color: %{z}<extra></extra>",
         "name": "42",
         "source": "data:image/png;base64,iVBORw0KGgoAAAANSUhEUgAAAAUAAAAFCAIAAAACDbGyAAAAU0lEQVR4XgXB2w2AIAwAwCLVhkAwjuAybuPY/vqD1PIoemfOY7cTEhFL7qPiusVldqpgFypV0CFUya+0D0zwHp8kiZm1BhehKKbeWEfXkXK77vwDjYUsU3JGZxYAAAAASUVORK5CYII=",
         "type": "image",
         "xaxis": "x15",
         "yaxis": "y15"
        },
        {
         "hovertemplate": "x: %{x}<br>y: %{y}<br>color: %{z}<extra></extra>",
         "name": "43",
         "source": "data:image/png;base64,iVBORw0KGgoAAAANSUhEUgAAAAUAAAAFCAIAAAACDbGyAAAAVUlEQVR4XgXBwQ2AIAwAQJAqMRAfygru4jgu7VNDYoBCafVOn8durc2YurQQNljDxqzMZGtD6hoYU0H6lPbOUStwx5i5+XlRlY0SyCyd5U10PWkc5Adg9y2KTPgBUAAAAABJRU5ErkJggg==",
         "type": "image",
         "xaxis": "x16",
         "yaxis": "y16"
        },
        {
         "hovertemplate": "x: %{x}<br>y: %{y}<br>color: %{z}<extra></extra>",
         "name": "44",
         "source": "data:image/png;base64,iVBORw0KGgoAAAANSUhEUgAAAAUAAAAFCAIAAAACDbGyAAAAVUlEQVR4XgXBUQ5AMAwAUO1qE8SPHcNdHMeJ/QkSim1d5z1Y5un5WDR6P6KpqGl7Y12IXxJoraP3OksFfdel+GIm3PgIKk/IWhShkGS9OK0716jDDT8KNSuCaffx8QAAAABJRU5ErkJggg==",
         "type": "image",
         "xaxis": "x17",
         "yaxis": "y17"
        },
        {
         "hovertemplate": "x: %{x}<br>y: %{y}<br>color: %{z}<extra></extra>",
         "name": "45",
         "source": "data:image/png;base64,iVBORw0KGgoAAAANSUhEUgAAAAUAAAAFCAIAAAACDbGyAAAAVklEQVR4XgXBSxJAMAwA0Captr4LXMBpnMaxzVgYG99IWt6DaRw0vX3fIRlhtnXT8vuIQuG8LXOU+6pCjqoYoyOynNRwJJMQPvLB7qfM25lhag6QZf0BWREkzHoA+IQAAAAASUVORK5CYII=",
         "type": "image",
         "xaxis": "x18",
         "yaxis": "y18"
        },
        {
         "hovertemplate": "x: %{x}<br>y: %{y}<br>color: %{z}<extra></extra>",
         "name": "46",
         "source": "data:image/png;base64,iVBORw0KGgoAAAANSUhEUgAAAAUAAAAFCAIAAAACDbGyAAAAVklEQVR4XgXBOw6AIAwAUFsQChpjIpvn8TBe2pnBxcRPSFvwPdi3NaUFTcelBEs2xpkFovN2COQ8jhRQBFWdMaqMb9HaKkIznljAHvnpsU43cD6/6/0B7Z4g8J0ST2QAAAAASUVORK5CYII=",
         "type": "image",
         "xaxis": "x19",
         "yaxis": "y19"
        },
        {
         "hovertemplate": "x: %{x}<br>y: %{y}<br>color: %{z}<extra></extra>",
         "name": "47",
         "source": "data:image/png;base64,iVBORw0KGgoAAAANSUhEUgAAAAUAAAAFCAIAAAACDbGyAAAAVklEQVR4XgXBOQqAMBAAQPcwl5DK2sra//gY/2opYiN4EHeTOAPLPCE1kpJnl9LHohCM5c47YxVuRFXM2RDlLEyApRaEStaJQmgjr7vEC2Q73vMZ+vEH79AiIfckhFUAAAAASUVORK5CYII=",
         "type": "image",
         "xaxis": "x20",
         "yaxis": "y20"
        },
        {
         "hovertemplate": "x: %{x}<br>y: %{y}<br>color: %{z}<extra></extra>",
         "name": "48",
         "source": "data:image/png;base64,iVBORw0KGgoAAAANSUhEUgAAAAUAAAAFCAIAAAACDbGyAAAAV0lEQVR4XgXBORJAMBQA0PmLLDKjMiqjUjuRu7iqjkKjsMTPT7wHyzxJjJ5djJ9qYiLHwTtjE1xYMqKqIVIVJsgqiFDIOklQV00wltftlf14zntox67rf4P+Im2zpP0qAAAAAElFTkSuQmCC",
         "type": "image",
         "xaxis": "x21",
         "yaxis": "y21"
        },
        {
         "hovertemplate": "x: %{x}<br>y: %{y}<br>color: %{z}<extra></extra>",
         "name": "49",
         "source": "data:image/png;base64,iVBORw0KGgoAAAANSUhEUgAAAAUAAAAFCAIAAAACDbGyAAAAWUlEQVR4XgXBSw5AMBAA0M5M9RtiIV2JlcSJXMY9rVzBpguk2invwbYuVpqUXubinJfW90bpAhd+tQhARcScJUHlTCiQtMkFXNN5pTlluR/nE+9pmEMYoY0/vFIejIfCN0UAAAAASUVORK5CYII=",
         "type": "image",
         "xaxis": "x22",
         "yaxis": "y22"
        },
        {
         "hovertemplate": "x: %{x}<br>y: %{y}<br>color: %{z}<extra></extra>",
         "name": "50",
         "source": "data:image/png;base64,iVBORw0KGgoAAAANSUhEUgAAAAUAAAAFCAIAAAACDbGyAAAAVElEQVR4XgXBQRJAMAwAwCZNDTXl4OoP3uM93mh8AXejlaSxC9u6lPKpSow9YKA2jQIPWhUHHhyqMnmoyh4dViEWiGEgs5y/lwX3477OJtDcpcmAfpEbI9omKabKAAAAAElFTkSuQmCC",
         "type": "image",
         "xaxis": "x23",
         "yaxis": "y23"
        },
        {
         "hovertemplate": "x: %{x}<br>y: %{y}<br>color: %{z}<extra></extra>",
         "name": "51",
         "source": "data:image/png;base64,iVBORw0KGgoAAAANSUhEUgAAAAUAAAAFCAIAAAACDbGyAAAAUklEQVR4XgXBSRJAMBAAwNmimODi6gO+4z0ezMklSmQb3XjsW61F1SM5ZCfcK1krgIwweiVhbDUzAbXyhVvUzWIWY3pzaWB0nZ2TdZgWQwlP+gEncR88BTpgRwAAAABJRU5ErkJggg==",
         "type": "image",
         "xaxis": "x24",
         "yaxis": "y24"
        },
        {
         "hovertemplate": "x: %{x}<br>y: %{y}<br>color: %{z}<extra></extra>",
         "name": "52",
         "source": "data:image/png;base64,iVBORw0KGgoAAAANSUhEUgAAAAUAAAAFCAIAAAACDbGyAAAAUUlEQVR4XgXBURZAIBAF0JlXcSq+/Pq1Huuxahw5RmVyL2/rEkJkODaOALgwVIIy+Rg+VehXDAha37RTFRu7XiQ/pSq1Iwmcnf04NbbpzuclPwfdIf2dx1KpAAAAAElFTkSuQmCC",
         "type": "image",
         "xaxis": "x25",
         "yaxis": "y25"
        },
        {
         "hovertemplate": "x: %{x}<br>y: %{y}<br>color: %{z}<extra></extra>",
         "name": "53",
         "source": "data:image/png;base64,iVBORw0KGgoAAAANSUhEUgAAAAUAAAAFCAIAAAACDbGyAAAAUUlEQVR4XgXBUQ5AMAwA0LbbIogvF3Ed53FdYaJm067zHm7rghTQBSBKWUiBDKEfh2omKt4RkGnhE2rrHPha5BU1aJFzTEL9NDf0/HzXnfeDf13vKlTibdZWAAAAAElFTkSuQmCC",
         "type": "image",
         "xaxis": "x26",
         "yaxis": "y26"
        },
        {
         "hovertemplate": "x: %{x}<br>y: %{y}<br>color: %{z}<extra></extra>",
         "name": "54",
         "source": "data:image/png;base64,iVBORw0KGgoAAAANSUhEUgAAAAUAAAAFCAIAAAACDbGyAAAAUUlEQVR4XgXBUQqAIAwA0G0aUZ2n03SdDhr0G6Q0bbE5ew/3bcUwAFEVNVVyhGmZm7uaIkIkt49vaH0MYO6xFHHoiSVV5WqxY2Qu+ZErv8eZf5NFMbNep4QSAAAAAElFTkSuQmCC",
         "type": "image",
         "xaxis": "x27",
         "yaxis": "y27"
        },
        {
         "hovertemplate": "x: %{x}<br>y: %{y}<br>color: %{z}<extra></extra>",
         "name": "55",
         "source": "data:image/png;base64,iVBORw0KGgoAAAANSUhEUgAAAAUAAAAFCAIAAAACDbGyAAAAU0lEQVR4XgXB2wmAMAwAwD4CRd3IYdzGPQV/BZu+TE0avbP7thrnGrEwewhuWuahysLWmpwQernN+II3ooq1Q0w1FoqNSxNiB6W+mOnC5zhxePgBRag0bmKgc1oAAAAASUVORK5CYII=",
         "type": "image",
         "xaxis": "x28",
         "yaxis": "y28"
        }
       ],
       "layout": {
        "annotations": [
         {
          "font": {},
          "showarrow": false,
          "text": "facet_col=28",
          "x": 0.008214285714285714,
          "xanchor": "center",
          "xref": "paper",
          "y": 0.46499999999999997,
          "yanchor": "bottom",
          "yref": "paper"
         },
         {
          "font": {},
          "showarrow": false,
          "text": "facet_col=29",
          "x": 0.04464285714285714,
          "xanchor": "center",
          "xref": "paper",
          "y": 0.46499999999999997,
          "yanchor": "bottom",
          "yref": "paper"
         },
         {
          "font": {},
          "showarrow": false,
          "text": "facet_col=30",
          "x": 0.08107142857142857,
          "xanchor": "center",
          "xref": "paper",
          "y": 0.46499999999999997,
          "yanchor": "bottom",
          "yref": "paper"
         },
         {
          "font": {},
          "showarrow": false,
          "text": "facet_col=31",
          "x": 0.1175,
          "xanchor": "center",
          "xref": "paper",
          "y": 0.46499999999999997,
          "yanchor": "bottom",
          "yref": "paper"
         },
         {
          "font": {},
          "showarrow": false,
          "text": "facet_col=32",
          "x": 0.15392857142857141,
          "xanchor": "center",
          "xref": "paper",
          "y": 0.46499999999999997,
          "yanchor": "bottom",
          "yref": "paper"
         },
         {
          "font": {},
          "showarrow": false,
          "text": "facet_col=33",
          "x": 0.1903571428571429,
          "xanchor": "center",
          "xref": "paper",
          "y": 0.46499999999999997,
          "yanchor": "bottom",
          "yref": "paper"
         },
         {
          "font": {},
          "showarrow": false,
          "text": "facet_col=34",
          "x": 0.22678571428571426,
          "xanchor": "center",
          "xref": "paper",
          "y": 0.46499999999999997,
          "yanchor": "bottom",
          "yref": "paper"
         },
         {
          "font": {},
          "showarrow": false,
          "text": "facet_col=35",
          "x": 0.26321428571428573,
          "xanchor": "center",
          "xref": "paper",
          "y": 0.46499999999999997,
          "yanchor": "bottom",
          "yref": "paper"
         },
         {
          "font": {},
          "showarrow": false,
          "text": "facet_col=36",
          "x": 0.2996428571428571,
          "xanchor": "center",
          "xref": "paper",
          "y": 0.46499999999999997,
          "yanchor": "bottom",
          "yref": "paper"
         },
         {
          "font": {},
          "showarrow": false,
          "text": "facet_col=37",
          "x": 0.3360714285714286,
          "xanchor": "center",
          "xref": "paper",
          "y": 0.46499999999999997,
          "yanchor": "bottom",
          "yref": "paper"
         },
         {
          "font": {},
          "showarrow": false,
          "text": "facet_col=38",
          "x": 0.37250000000000005,
          "xanchor": "center",
          "xref": "paper",
          "y": 0.46499999999999997,
          "yanchor": "bottom",
          "yref": "paper"
         },
         {
          "font": {},
          "showarrow": false,
          "text": "facet_col=39",
          "x": 0.4089285714285714,
          "xanchor": "center",
          "xref": "paper",
          "y": 0.46499999999999997,
          "yanchor": "bottom",
          "yref": "paper"
         },
         {
          "font": {},
          "showarrow": false,
          "text": "facet_col=40",
          "x": 0.4453571428571428,
          "xanchor": "center",
          "xref": "paper",
          "y": 0.46499999999999997,
          "yanchor": "bottom",
          "yref": "paper"
         },
         {
          "font": {},
          "showarrow": false,
          "text": "facet_col=41",
          "x": 0.48178571428571426,
          "xanchor": "center",
          "xref": "paper",
          "y": 0.46499999999999997,
          "yanchor": "bottom",
          "yref": "paper"
         },
         {
          "font": {},
          "showarrow": false,
          "text": "facet_col=42",
          "x": 0.5182142857142857,
          "xanchor": "center",
          "xref": "paper",
          "y": 0.46499999999999997,
          "yanchor": "bottom",
          "yref": "paper"
         },
         {
          "font": {},
          "showarrow": false,
          "text": "facet_col=43",
          "x": 0.5546428571428571,
          "xanchor": "center",
          "xref": "paper",
          "y": 0.46499999999999997,
          "yanchor": "bottom",
          "yref": "paper"
         },
         {
          "font": {},
          "showarrow": false,
          "text": "facet_col=44",
          "x": 0.5910714285714286,
          "xanchor": "center",
          "xref": "paper",
          "y": 0.46499999999999997,
          "yanchor": "bottom",
          "yref": "paper"
         },
         {
          "font": {},
          "showarrow": false,
          "text": "facet_col=45",
          "x": 0.6275,
          "xanchor": "center",
          "xref": "paper",
          "y": 0.46499999999999997,
          "yanchor": "bottom",
          "yref": "paper"
         },
         {
          "font": {},
          "showarrow": false,
          "text": "facet_col=46",
          "x": 0.6639285714285714,
          "xanchor": "center",
          "xref": "paper",
          "y": 0.46499999999999997,
          "yanchor": "bottom",
          "yref": "paper"
         },
         {
          "font": {},
          "showarrow": false,
          "text": "facet_col=47",
          "x": 0.7003571428571429,
          "xanchor": "center",
          "xref": "paper",
          "y": 0.46499999999999997,
          "yanchor": "bottom",
          "yref": "paper"
         },
         {
          "font": {},
          "showarrow": false,
          "text": "facet_col=48",
          "x": 0.7367857142857144,
          "xanchor": "center",
          "xref": "paper",
          "y": 0.46499999999999997,
          "yanchor": "bottom",
          "yref": "paper"
         },
         {
          "font": {},
          "showarrow": false,
          "text": "facet_col=49",
          "x": 0.7732142857142856,
          "xanchor": "center",
          "xref": "paper",
          "y": 0.46499999999999997,
          "yanchor": "bottom",
          "yref": "paper"
         },
         {
          "font": {},
          "showarrow": false,
          "text": "facet_col=50",
          "x": 0.8096428571428571,
          "xanchor": "center",
          "xref": "paper",
          "y": 0.46499999999999997,
          "yanchor": "bottom",
          "yref": "paper"
         },
         {
          "font": {},
          "showarrow": false,
          "text": "facet_col=51",
          "x": 0.8460714285714286,
          "xanchor": "center",
          "xref": "paper",
          "y": 0.46499999999999997,
          "yanchor": "bottom",
          "yref": "paper"
         },
         {
          "font": {},
          "showarrow": false,
          "text": "facet_col=52",
          "x": 0.8825,
          "xanchor": "center",
          "xref": "paper",
          "y": 0.46499999999999997,
          "yanchor": "bottom",
          "yref": "paper"
         },
         {
          "font": {},
          "showarrow": false,
          "text": "facet_col=53",
          "x": 0.9189285714285714,
          "xanchor": "center",
          "xref": "paper",
          "y": 0.46499999999999997,
          "yanchor": "bottom",
          "yref": "paper"
         },
         {
          "font": {},
          "showarrow": false,
          "text": "facet_col=54",
          "x": 0.9553571428571428,
          "xanchor": "center",
          "xref": "paper",
          "y": 0.46499999999999997,
          "yanchor": "bottom",
          "yref": "paper"
         },
         {
          "font": {},
          "showarrow": false,
          "text": "facet_col=55",
          "x": 0.9917857142857143,
          "xanchor": "center",
          "xref": "paper",
          "y": 0.46499999999999997,
          "yanchor": "bottom",
          "yref": "paper"
         },
         {
          "font": {},
          "showarrow": false,
          "text": "facet_col=0",
          "x": 0.008214285714285714,
          "xanchor": "center",
          "xref": "paper",
          "y": 0.9999999999999999,
          "yanchor": "bottom",
          "yref": "paper"
         },
         {
          "font": {},
          "showarrow": false,
          "text": "facet_col=1",
          "x": 0.04464285714285714,
          "xanchor": "center",
          "xref": "paper",
          "y": 0.9999999999999999,
          "yanchor": "bottom",
          "yref": "paper"
         },
         {
          "font": {},
          "showarrow": false,
          "text": "facet_col=2",
          "x": 0.08107142857142857,
          "xanchor": "center",
          "xref": "paper",
          "y": 0.9999999999999999,
          "yanchor": "bottom",
          "yref": "paper"
         },
         {
          "font": {},
          "showarrow": false,
          "text": "facet_col=3",
          "x": 0.1175,
          "xanchor": "center",
          "xref": "paper",
          "y": 0.9999999999999999,
          "yanchor": "bottom",
          "yref": "paper"
         },
         {
          "font": {},
          "showarrow": false,
          "text": "facet_col=4",
          "x": 0.15392857142857141,
          "xanchor": "center",
          "xref": "paper",
          "y": 0.9999999999999999,
          "yanchor": "bottom",
          "yref": "paper"
         },
         {
          "font": {},
          "showarrow": false,
          "text": "facet_col=5",
          "x": 0.1903571428571429,
          "xanchor": "center",
          "xref": "paper",
          "y": 0.9999999999999999,
          "yanchor": "bottom",
          "yref": "paper"
         },
         {
          "font": {},
          "showarrow": false,
          "text": "facet_col=6",
          "x": 0.22678571428571426,
          "xanchor": "center",
          "xref": "paper",
          "y": 0.9999999999999999,
          "yanchor": "bottom",
          "yref": "paper"
         },
         {
          "font": {},
          "showarrow": false,
          "text": "facet_col=7",
          "x": 0.26321428571428573,
          "xanchor": "center",
          "xref": "paper",
          "y": 0.9999999999999999,
          "yanchor": "bottom",
          "yref": "paper"
         },
         {
          "font": {},
          "showarrow": false,
          "text": "facet_col=8",
          "x": 0.2996428571428571,
          "xanchor": "center",
          "xref": "paper",
          "y": 0.9999999999999999,
          "yanchor": "bottom",
          "yref": "paper"
         },
         {
          "font": {},
          "showarrow": false,
          "text": "facet_col=9",
          "x": 0.3360714285714286,
          "xanchor": "center",
          "xref": "paper",
          "y": 0.9999999999999999,
          "yanchor": "bottom",
          "yref": "paper"
         },
         {
          "font": {},
          "showarrow": false,
          "text": "facet_col=10",
          "x": 0.37250000000000005,
          "xanchor": "center",
          "xref": "paper",
          "y": 0.9999999999999999,
          "yanchor": "bottom",
          "yref": "paper"
         },
         {
          "font": {},
          "showarrow": false,
          "text": "facet_col=11",
          "x": 0.4089285714285714,
          "xanchor": "center",
          "xref": "paper",
          "y": 0.9999999999999999,
          "yanchor": "bottom",
          "yref": "paper"
         },
         {
          "font": {},
          "showarrow": false,
          "text": "facet_col=12",
          "x": 0.4453571428571428,
          "xanchor": "center",
          "xref": "paper",
          "y": 0.9999999999999999,
          "yanchor": "bottom",
          "yref": "paper"
         },
         {
          "font": {},
          "showarrow": false,
          "text": "facet_col=13",
          "x": 0.48178571428571426,
          "xanchor": "center",
          "xref": "paper",
          "y": 0.9999999999999999,
          "yanchor": "bottom",
          "yref": "paper"
         },
         {
          "font": {},
          "showarrow": false,
          "text": "facet_col=14",
          "x": 0.5182142857142857,
          "xanchor": "center",
          "xref": "paper",
          "y": 0.9999999999999999,
          "yanchor": "bottom",
          "yref": "paper"
         },
         {
          "font": {},
          "showarrow": false,
          "text": "facet_col=15",
          "x": 0.5546428571428571,
          "xanchor": "center",
          "xref": "paper",
          "y": 0.9999999999999999,
          "yanchor": "bottom",
          "yref": "paper"
         },
         {
          "font": {},
          "showarrow": false,
          "text": "facet_col=16",
          "x": 0.5910714285714286,
          "xanchor": "center",
          "xref": "paper",
          "y": 0.9999999999999999,
          "yanchor": "bottom",
          "yref": "paper"
         },
         {
          "font": {},
          "showarrow": false,
          "text": "facet_col=17",
          "x": 0.6275,
          "xanchor": "center",
          "xref": "paper",
          "y": 0.9999999999999999,
          "yanchor": "bottom",
          "yref": "paper"
         },
         {
          "font": {},
          "showarrow": false,
          "text": "facet_col=18",
          "x": 0.6639285714285714,
          "xanchor": "center",
          "xref": "paper",
          "y": 0.9999999999999999,
          "yanchor": "bottom",
          "yref": "paper"
         },
         {
          "font": {},
          "showarrow": false,
          "text": "facet_col=19",
          "x": 0.7003571428571429,
          "xanchor": "center",
          "xref": "paper",
          "y": 0.9999999999999999,
          "yanchor": "bottom",
          "yref": "paper"
         },
         {
          "font": {},
          "showarrow": false,
          "text": "facet_col=20",
          "x": 0.7367857142857144,
          "xanchor": "center",
          "xref": "paper",
          "y": 0.9999999999999999,
          "yanchor": "bottom",
          "yref": "paper"
         },
         {
          "font": {},
          "showarrow": false,
          "text": "facet_col=21",
          "x": 0.7732142857142856,
          "xanchor": "center",
          "xref": "paper",
          "y": 0.9999999999999999,
          "yanchor": "bottom",
          "yref": "paper"
         },
         {
          "font": {},
          "showarrow": false,
          "text": "facet_col=22",
          "x": 0.8096428571428571,
          "xanchor": "center",
          "xref": "paper",
          "y": 0.9999999999999999,
          "yanchor": "bottom",
          "yref": "paper"
         },
         {
          "font": {},
          "showarrow": false,
          "text": "facet_col=23",
          "x": 0.8460714285714286,
          "xanchor": "center",
          "xref": "paper",
          "y": 0.9999999999999999,
          "yanchor": "bottom",
          "yref": "paper"
         },
         {
          "font": {},
          "showarrow": false,
          "text": "facet_col=24",
          "x": 0.8825,
          "xanchor": "center",
          "xref": "paper",
          "y": 0.9999999999999999,
          "yanchor": "bottom",
          "yref": "paper"
         },
         {
          "font": {},
          "showarrow": false,
          "text": "facet_col=25",
          "x": 0.9189285714285714,
          "xanchor": "center",
          "xref": "paper",
          "y": 0.9999999999999999,
          "yanchor": "bottom",
          "yref": "paper"
         },
         {
          "font": {},
          "showarrow": false,
          "text": "facet_col=26",
          "x": 0.9553571428571428,
          "xanchor": "center",
          "xref": "paper",
          "y": 0.9999999999999999,
          "yanchor": "bottom",
          "yref": "paper"
         },
         {
          "font": {},
          "showarrow": false,
          "text": "facet_col=27",
          "x": 0.9917857142857143,
          "xanchor": "center",
          "xref": "paper",
          "y": 0.9999999999999999,
          "yanchor": "bottom",
          "yref": "paper"
         }
        ],
        "height": 1000,
        "margin": {
         "t": 60
        },
        "template": {
         "data": {
          "bar": [
           {
            "error_x": {
             "color": "#2a3f5f"
            },
            "error_y": {
             "color": "#2a3f5f"
            },
            "marker": {
             "line": {
              "color": "#E5ECF6",
              "width": 0.5
             },
             "pattern": {
              "fillmode": "overlay",
              "size": 10,
              "solidity": 0.2
             }
            },
            "type": "bar"
           }
          ],
          "barpolar": [
           {
            "marker": {
             "line": {
              "color": "#E5ECF6",
              "width": 0.5
             },
             "pattern": {
              "fillmode": "overlay",
              "size": 10,
              "solidity": 0.2
             }
            },
            "type": "barpolar"
           }
          ],
          "carpet": [
           {
            "aaxis": {
             "endlinecolor": "#2a3f5f",
             "gridcolor": "white",
             "linecolor": "white",
             "minorgridcolor": "white",
             "startlinecolor": "#2a3f5f"
            },
            "baxis": {
             "endlinecolor": "#2a3f5f",
             "gridcolor": "white",
             "linecolor": "white",
             "minorgridcolor": "white",
             "startlinecolor": "#2a3f5f"
            },
            "type": "carpet"
           }
          ],
          "choropleth": [
           {
            "colorbar": {
             "outlinewidth": 0,
             "ticks": ""
            },
            "type": "choropleth"
           }
          ],
          "contour": [
           {
            "colorbar": {
             "outlinewidth": 0,
             "ticks": ""
            },
            "colorscale": [
             [
              0,
              "#0d0887"
             ],
             [
              0.1111111111111111,
              "#46039f"
             ],
             [
              0.2222222222222222,
              "#7201a8"
             ],
             [
              0.3333333333333333,
              "#9c179e"
             ],
             [
              0.4444444444444444,
              "#bd3786"
             ],
             [
              0.5555555555555556,
              "#d8576b"
             ],
             [
              0.6666666666666666,
              "#ed7953"
             ],
             [
              0.7777777777777778,
              "#fb9f3a"
             ],
             [
              0.8888888888888888,
              "#fdca26"
             ],
             [
              1,
              "#f0f921"
             ]
            ],
            "type": "contour"
           }
          ],
          "contourcarpet": [
           {
            "colorbar": {
             "outlinewidth": 0,
             "ticks": ""
            },
            "type": "contourcarpet"
           }
          ],
          "heatmap": [
           {
            "colorbar": {
             "outlinewidth": 0,
             "ticks": ""
            },
            "colorscale": [
             [
              0,
              "#0d0887"
             ],
             [
              0.1111111111111111,
              "#46039f"
             ],
             [
              0.2222222222222222,
              "#7201a8"
             ],
             [
              0.3333333333333333,
              "#9c179e"
             ],
             [
              0.4444444444444444,
              "#bd3786"
             ],
             [
              0.5555555555555556,
              "#d8576b"
             ],
             [
              0.6666666666666666,
              "#ed7953"
             ],
             [
              0.7777777777777778,
              "#fb9f3a"
             ],
             [
              0.8888888888888888,
              "#fdca26"
             ],
             [
              1,
              "#f0f921"
             ]
            ],
            "type": "heatmap"
           }
          ],
          "heatmapgl": [
           {
            "colorbar": {
             "outlinewidth": 0,
             "ticks": ""
            },
            "colorscale": [
             [
              0,
              "#0d0887"
             ],
             [
              0.1111111111111111,
              "#46039f"
             ],
             [
              0.2222222222222222,
              "#7201a8"
             ],
             [
              0.3333333333333333,
              "#9c179e"
             ],
             [
              0.4444444444444444,
              "#bd3786"
             ],
             [
              0.5555555555555556,
              "#d8576b"
             ],
             [
              0.6666666666666666,
              "#ed7953"
             ],
             [
              0.7777777777777778,
              "#fb9f3a"
             ],
             [
              0.8888888888888888,
              "#fdca26"
             ],
             [
              1,
              "#f0f921"
             ]
            ],
            "type": "heatmapgl"
           }
          ],
          "histogram": [
           {
            "marker": {
             "pattern": {
              "fillmode": "overlay",
              "size": 10,
              "solidity": 0.2
             }
            },
            "type": "histogram"
           }
          ],
          "histogram2d": [
           {
            "colorbar": {
             "outlinewidth": 0,
             "ticks": ""
            },
            "colorscale": [
             [
              0,
              "#0d0887"
             ],
             [
              0.1111111111111111,
              "#46039f"
             ],
             [
              0.2222222222222222,
              "#7201a8"
             ],
             [
              0.3333333333333333,
              "#9c179e"
             ],
             [
              0.4444444444444444,
              "#bd3786"
             ],
             [
              0.5555555555555556,
              "#d8576b"
             ],
             [
              0.6666666666666666,
              "#ed7953"
             ],
             [
              0.7777777777777778,
              "#fb9f3a"
             ],
             [
              0.8888888888888888,
              "#fdca26"
             ],
             [
              1,
              "#f0f921"
             ]
            ],
            "type": "histogram2d"
           }
          ],
          "histogram2dcontour": [
           {
            "colorbar": {
             "outlinewidth": 0,
             "ticks": ""
            },
            "colorscale": [
             [
              0,
              "#0d0887"
             ],
             [
              0.1111111111111111,
              "#46039f"
             ],
             [
              0.2222222222222222,
              "#7201a8"
             ],
             [
              0.3333333333333333,
              "#9c179e"
             ],
             [
              0.4444444444444444,
              "#bd3786"
             ],
             [
              0.5555555555555556,
              "#d8576b"
             ],
             [
              0.6666666666666666,
              "#ed7953"
             ],
             [
              0.7777777777777778,
              "#fb9f3a"
             ],
             [
              0.8888888888888888,
              "#fdca26"
             ],
             [
              1,
              "#f0f921"
             ]
            ],
            "type": "histogram2dcontour"
           }
          ],
          "mesh3d": [
           {
            "colorbar": {
             "outlinewidth": 0,
             "ticks": ""
            },
            "type": "mesh3d"
           }
          ],
          "parcoords": [
           {
            "line": {
             "colorbar": {
              "outlinewidth": 0,
              "ticks": ""
             }
            },
            "type": "parcoords"
           }
          ],
          "pie": [
           {
            "automargin": true,
            "type": "pie"
           }
          ],
          "scatter": [
           {
            "fillpattern": {
             "fillmode": "overlay",
             "size": 10,
             "solidity": 0.2
            },
            "type": "scatter"
           }
          ],
          "scatter3d": [
           {
            "line": {
             "colorbar": {
              "outlinewidth": 0,
              "ticks": ""
             }
            },
            "marker": {
             "colorbar": {
              "outlinewidth": 0,
              "ticks": ""
             }
            },
            "type": "scatter3d"
           }
          ],
          "scattercarpet": [
           {
            "marker": {
             "colorbar": {
              "outlinewidth": 0,
              "ticks": ""
             }
            },
            "type": "scattercarpet"
           }
          ],
          "scattergeo": [
           {
            "marker": {
             "colorbar": {
              "outlinewidth": 0,
              "ticks": ""
             }
            },
            "type": "scattergeo"
           }
          ],
          "scattergl": [
           {
            "marker": {
             "colorbar": {
              "outlinewidth": 0,
              "ticks": ""
             }
            },
            "type": "scattergl"
           }
          ],
          "scattermapbox": [
           {
            "marker": {
             "colorbar": {
              "outlinewidth": 0,
              "ticks": ""
             }
            },
            "type": "scattermapbox"
           }
          ],
          "scatterpolar": [
           {
            "marker": {
             "colorbar": {
              "outlinewidth": 0,
              "ticks": ""
             }
            },
            "type": "scatterpolar"
           }
          ],
          "scatterpolargl": [
           {
            "marker": {
             "colorbar": {
              "outlinewidth": 0,
              "ticks": ""
             }
            },
            "type": "scatterpolargl"
           }
          ],
          "scatterternary": [
           {
            "marker": {
             "colorbar": {
              "outlinewidth": 0,
              "ticks": ""
             }
            },
            "type": "scatterternary"
           }
          ],
          "surface": [
           {
            "colorbar": {
             "outlinewidth": 0,
             "ticks": ""
            },
            "colorscale": [
             [
              0,
              "#0d0887"
             ],
             [
              0.1111111111111111,
              "#46039f"
             ],
             [
              0.2222222222222222,
              "#7201a8"
             ],
             [
              0.3333333333333333,
              "#9c179e"
             ],
             [
              0.4444444444444444,
              "#bd3786"
             ],
             [
              0.5555555555555556,
              "#d8576b"
             ],
             [
              0.6666666666666666,
              "#ed7953"
             ],
             [
              0.7777777777777778,
              "#fb9f3a"
             ],
             [
              0.8888888888888888,
              "#fdca26"
             ],
             [
              1,
              "#f0f921"
             ]
            ],
            "type": "surface"
           }
          ],
          "table": [
           {
            "cells": {
             "fill": {
              "color": "#EBF0F8"
             },
             "line": {
              "color": "white"
             }
            },
            "header": {
             "fill": {
              "color": "#C8D4E3"
             },
             "line": {
              "color": "white"
             }
            },
            "type": "table"
           }
          ]
         },
         "layout": {
          "annotationdefaults": {
           "arrowcolor": "#2a3f5f",
           "arrowhead": 0,
           "arrowwidth": 1
          },
          "autotypenumbers": "strict",
          "coloraxis": {
           "colorbar": {
            "outlinewidth": 0,
            "ticks": ""
           }
          },
          "colorscale": {
           "diverging": [
            [
             0,
             "#8e0152"
            ],
            [
             0.1,
             "#c51b7d"
            ],
            [
             0.2,
             "#de77ae"
            ],
            [
             0.3,
             "#f1b6da"
            ],
            [
             0.4,
             "#fde0ef"
            ],
            [
             0.5,
             "#f7f7f7"
            ],
            [
             0.6,
             "#e6f5d0"
            ],
            [
             0.7,
             "#b8e186"
            ],
            [
             0.8,
             "#7fbc41"
            ],
            [
             0.9,
             "#4d9221"
            ],
            [
             1,
             "#276419"
            ]
           ],
           "sequential": [
            [
             0,
             "#0d0887"
            ],
            [
             0.1111111111111111,
             "#46039f"
            ],
            [
             0.2222222222222222,
             "#7201a8"
            ],
            [
             0.3333333333333333,
             "#9c179e"
            ],
            [
             0.4444444444444444,
             "#bd3786"
            ],
            [
             0.5555555555555556,
             "#d8576b"
            ],
            [
             0.6666666666666666,
             "#ed7953"
            ],
            [
             0.7777777777777778,
             "#fb9f3a"
            ],
            [
             0.8888888888888888,
             "#fdca26"
            ],
            [
             1,
             "#f0f921"
            ]
           ],
           "sequentialminus": [
            [
             0,
             "#0d0887"
            ],
            [
             0.1111111111111111,
             "#46039f"
            ],
            [
             0.2222222222222222,
             "#7201a8"
            ],
            [
             0.3333333333333333,
             "#9c179e"
            ],
            [
             0.4444444444444444,
             "#bd3786"
            ],
            [
             0.5555555555555556,
             "#d8576b"
            ],
            [
             0.6666666666666666,
             "#ed7953"
            ],
            [
             0.7777777777777778,
             "#fb9f3a"
            ],
            [
             0.8888888888888888,
             "#fdca26"
            ],
            [
             1,
             "#f0f921"
            ]
           ]
          },
          "colorway": [
           "#636efa",
           "#EF553B",
           "#00cc96",
           "#ab63fa",
           "#FFA15A",
           "#19d3f3",
           "#FF6692",
           "#B6E880",
           "#FF97FF",
           "#FECB52"
          ],
          "font": {
           "color": "#2a3f5f"
          },
          "geo": {
           "bgcolor": "white",
           "lakecolor": "white",
           "landcolor": "#E5ECF6",
           "showlakes": true,
           "showland": true,
           "subunitcolor": "white"
          },
          "hoverlabel": {
           "align": "left"
          },
          "hovermode": "closest",
          "mapbox": {
           "style": "light"
          },
          "paper_bgcolor": "white",
          "plot_bgcolor": "#E5ECF6",
          "polar": {
           "angularaxis": {
            "gridcolor": "white",
            "linecolor": "white",
            "ticks": ""
           },
           "bgcolor": "#E5ECF6",
           "radialaxis": {
            "gridcolor": "white",
            "linecolor": "white",
            "ticks": ""
           }
          },
          "scene": {
           "xaxis": {
            "backgroundcolor": "#E5ECF6",
            "gridcolor": "white",
            "gridwidth": 2,
            "linecolor": "white",
            "showbackground": true,
            "ticks": "",
            "zerolinecolor": "white"
           },
           "yaxis": {
            "backgroundcolor": "#E5ECF6",
            "gridcolor": "white",
            "gridwidth": 2,
            "linecolor": "white",
            "showbackground": true,
            "ticks": "",
            "zerolinecolor": "white"
           },
           "zaxis": {
            "backgroundcolor": "#E5ECF6",
            "gridcolor": "white",
            "gridwidth": 2,
            "linecolor": "white",
            "showbackground": true,
            "ticks": "",
            "zerolinecolor": "white"
           }
          },
          "shapedefaults": {
           "line": {
            "color": "#2a3f5f"
           }
          },
          "ternary": {
           "aaxis": {
            "gridcolor": "white",
            "linecolor": "white",
            "ticks": ""
           },
           "baxis": {
            "gridcolor": "white",
            "linecolor": "white",
            "ticks": ""
           },
           "bgcolor": "#E5ECF6",
           "caxis": {
            "gridcolor": "white",
            "linecolor": "white",
            "ticks": ""
           }
          },
          "title": {
           "x": 0.05
          },
          "xaxis": {
           "automargin": true,
           "gridcolor": "white",
           "linecolor": "white",
           "ticks": "",
           "title": {
            "standoff": 15
           },
           "zerolinecolor": "white",
           "zerolinewidth": 2
          },
          "yaxis": {
           "automargin": true,
           "gridcolor": "white",
           "linecolor": "white",
           "ticks": "",
           "title": {
            "standoff": 15
           },
           "zerolinecolor": "white",
           "zerolinewidth": 2
          }
         }
        },
        "xaxis": {
         "anchor": "y",
         "domain": [
          0,
          0.016428571428571428
         ]
        },
        "xaxis10": {
         "anchor": "y10",
         "domain": [
          0.32785714285714285,
          0.34428571428571425
         ],
         "matches": "x"
        },
        "xaxis11": {
         "anchor": "y11",
         "domain": [
          0.3642857142857143,
          0.3807142857142857
         ],
         "matches": "x"
        },
        "xaxis12": {
         "anchor": "y12",
         "domain": [
          0.4007142857142857,
          0.4171428571428571
         ],
         "matches": "x"
        },
        "xaxis13": {
         "anchor": "y13",
         "domain": [
          0.4371428571428571,
          0.4535714285714285
         ],
         "matches": "x"
        },
        "xaxis14": {
         "anchor": "y14",
         "domain": [
          0.47357142857142853,
          0.48999999999999994
         ],
         "matches": "x"
        },
        "xaxis15": {
         "anchor": "y15",
         "domain": [
          0.51,
          0.5264285714285715
         ],
         "matches": "x"
        },
        "xaxis16": {
         "anchor": "y16",
         "domain": [
          0.5464285714285714,
          0.5628571428571428
         ],
         "matches": "x"
        },
        "xaxis17": {
         "anchor": "y17",
         "domain": [
          0.5828571428571429,
          0.5992857142857143
         ],
         "matches": "x"
        },
        "xaxis18": {
         "anchor": "y18",
         "domain": [
          0.6192857142857142,
          0.6357142857142857
         ],
         "matches": "x"
        },
        "xaxis19": {
         "anchor": "y19",
         "domain": [
          0.6557142857142857,
          0.6721428571428572
         ],
         "matches": "x"
        },
        "xaxis2": {
         "anchor": "y2",
         "domain": [
          0.03642857142857143,
          0.05285714285714285
         ],
         "matches": "x"
        },
        "xaxis20": {
         "anchor": "y20",
         "domain": [
          0.6921428571428572,
          0.7085714285714286
         ],
         "matches": "x"
        },
        "xaxis21": {
         "anchor": "y21",
         "domain": [
          0.7285714285714286,
          0.7450000000000001
         ],
         "matches": "x"
        },
        "xaxis22": {
         "anchor": "y22",
         "domain": [
          0.7649999999999999,
          0.7814285714285714
         ],
         "matches": "x"
        },
        "xaxis23": {
         "anchor": "y23",
         "domain": [
          0.8014285714285714,
          0.8178571428571428
         ],
         "matches": "x"
        },
        "xaxis24": {
         "anchor": "y24",
         "domain": [
          0.8378571428571429,
          0.8542857142857143
         ],
         "matches": "x"
        },
        "xaxis25": {
         "anchor": "y25",
         "domain": [
          0.8742857142857142,
          0.8907142857142857
         ],
         "matches": "x"
        },
        "xaxis26": {
         "anchor": "y26",
         "domain": [
          0.9107142857142857,
          0.9271428571428572
         ],
         "matches": "x"
        },
        "xaxis27": {
         "anchor": "y27",
         "domain": [
          0.9471428571428571,
          0.9635714285714285
         ],
         "matches": "x"
        },
        "xaxis28": {
         "anchor": "y28",
         "domain": [
          0.9835714285714285,
          1
         ],
         "matches": "x"
        },
        "xaxis29": {
         "anchor": "y29",
         "domain": [
          0,
          0.016428571428571428
         ],
         "matches": "x",
         "showticklabels": false
        },
        "xaxis3": {
         "anchor": "y3",
         "domain": [
          0.07285714285714286,
          0.08928571428571429
         ],
         "matches": "x"
        },
        "xaxis30": {
         "anchor": "y30",
         "domain": [
          0.03642857142857143,
          0.05285714285714285
         ],
         "matches": "x",
         "showticklabels": false
        },
        "xaxis31": {
         "anchor": "y31",
         "domain": [
          0.07285714285714286,
          0.08928571428571429
         ],
         "matches": "x",
         "showticklabels": false
        },
        "xaxis32": {
         "anchor": "y32",
         "domain": [
          0.10928571428571428,
          0.1257142857142857
         ],
         "matches": "x",
         "showticklabels": false
        },
        "xaxis33": {
         "anchor": "y33",
         "domain": [
          0.1457142857142857,
          0.16214285714285714
         ],
         "matches": "x",
         "showticklabels": false
        },
        "xaxis34": {
         "anchor": "y34",
         "domain": [
          0.18214285714285716,
          0.1985714285714286
         ],
         "matches": "x",
         "showticklabels": false
        },
        "xaxis35": {
         "anchor": "y35",
         "domain": [
          0.21857142857142856,
          0.235
         ],
         "matches": "x",
         "showticklabels": false
        },
        "xaxis36": {
         "anchor": "y36",
         "domain": [
          0.255,
          0.2714285714285714
         ],
         "matches": "x",
         "showticklabels": false
        },
        "xaxis37": {
         "anchor": "y37",
         "domain": [
          0.2914285714285714,
          0.30785714285714283
         ],
         "matches": "x",
         "showticklabels": false
        },
        "xaxis38": {
         "anchor": "y38",
         "domain": [
          0.32785714285714285,
          0.34428571428571425
         ],
         "matches": "x",
         "showticklabels": false
        },
        "xaxis39": {
         "anchor": "y39",
         "domain": [
          0.3642857142857143,
          0.3807142857142857
         ],
         "matches": "x",
         "showticklabels": false
        },
        "xaxis4": {
         "anchor": "y4",
         "domain": [
          0.10928571428571428,
          0.1257142857142857
         ],
         "matches": "x"
        },
        "xaxis40": {
         "anchor": "y40",
         "domain": [
          0.4007142857142857,
          0.4171428571428571
         ],
         "matches": "x",
         "showticklabels": false
        },
        "xaxis41": {
         "anchor": "y41",
         "domain": [
          0.4371428571428571,
          0.4535714285714285
         ],
         "matches": "x",
         "showticklabels": false
        },
        "xaxis42": {
         "anchor": "y42",
         "domain": [
          0.47357142857142853,
          0.48999999999999994
         ],
         "matches": "x",
         "showticklabels": false
        },
        "xaxis43": {
         "anchor": "y43",
         "domain": [
          0.51,
          0.5264285714285715
         ],
         "matches": "x",
         "showticklabels": false
        },
        "xaxis44": {
         "anchor": "y44",
         "domain": [
          0.5464285714285714,
          0.5628571428571428
         ],
         "matches": "x",
         "showticklabels": false
        },
        "xaxis45": {
         "anchor": "y45",
         "domain": [
          0.5828571428571429,
          0.5992857142857143
         ],
         "matches": "x",
         "showticklabels": false
        },
        "xaxis46": {
         "anchor": "y46",
         "domain": [
          0.6192857142857142,
          0.6357142857142857
         ],
         "matches": "x",
         "showticklabels": false
        },
        "xaxis47": {
         "anchor": "y47",
         "domain": [
          0.6557142857142857,
          0.6721428571428572
         ],
         "matches": "x",
         "showticklabels": false
        },
        "xaxis48": {
         "anchor": "y48",
         "domain": [
          0.6921428571428572,
          0.7085714285714286
         ],
         "matches": "x",
         "showticklabels": false
        },
        "xaxis49": {
         "anchor": "y49",
         "domain": [
          0.7285714285714286,
          0.7450000000000001
         ],
         "matches": "x",
         "showticklabels": false
        },
        "xaxis5": {
         "anchor": "y5",
         "domain": [
          0.1457142857142857,
          0.16214285714285714
         ],
         "matches": "x"
        },
        "xaxis50": {
         "anchor": "y50",
         "domain": [
          0.7649999999999999,
          0.7814285714285714
         ],
         "matches": "x",
         "showticklabels": false
        },
        "xaxis51": {
         "anchor": "y51",
         "domain": [
          0.8014285714285714,
          0.8178571428571428
         ],
         "matches": "x",
         "showticklabels": false
        },
        "xaxis52": {
         "anchor": "y52",
         "domain": [
          0.8378571428571429,
          0.8542857142857143
         ],
         "matches": "x",
         "showticklabels": false
        },
        "xaxis53": {
         "anchor": "y53",
         "domain": [
          0.8742857142857142,
          0.8907142857142857
         ],
         "matches": "x",
         "showticklabels": false
        },
        "xaxis54": {
         "anchor": "y54",
         "domain": [
          0.9107142857142857,
          0.9271428571428572
         ],
         "matches": "x",
         "showticklabels": false
        },
        "xaxis55": {
         "anchor": "y55",
         "domain": [
          0.9471428571428571,
          0.9635714285714285
         ],
         "matches": "x",
         "showticklabels": false
        },
        "xaxis56": {
         "anchor": "y56",
         "domain": [
          0.9835714285714285,
          1
         ],
         "matches": "x",
         "showticklabels": false
        },
        "xaxis6": {
         "anchor": "y6",
         "domain": [
          0.18214285714285716,
          0.1985714285714286
         ],
         "matches": "x"
        },
        "xaxis7": {
         "anchor": "y7",
         "domain": [
          0.21857142857142856,
          0.235
         ],
         "matches": "x"
        },
        "xaxis8": {
         "anchor": "y8",
         "domain": [
          0.255,
          0.2714285714285714
         ],
         "matches": "x"
        },
        "xaxis9": {
         "anchor": "y9",
         "domain": [
          0.2914285714285714,
          0.30785714285714283
         ],
         "matches": "x"
        },
        "yaxis": {
         "anchor": "x",
         "domain": [
          0,
          0.46499999999999997
         ]
        },
        "yaxis10": {
         "anchor": "x10",
         "domain": [
          0,
          0.46499999999999997
         ],
         "matches": "y",
         "showticklabels": false
        },
        "yaxis11": {
         "anchor": "x11",
         "domain": [
          0,
          0.46499999999999997
         ],
         "matches": "y",
         "showticklabels": false
        },
        "yaxis12": {
         "anchor": "x12",
         "domain": [
          0,
          0.46499999999999997
         ],
         "matches": "y",
         "showticklabels": false
        },
        "yaxis13": {
         "anchor": "x13",
         "domain": [
          0,
          0.46499999999999997
         ],
         "matches": "y",
         "showticklabels": false
        },
        "yaxis14": {
         "anchor": "x14",
         "domain": [
          0,
          0.46499999999999997
         ],
         "matches": "y",
         "showticklabels": false
        },
        "yaxis15": {
         "anchor": "x15",
         "domain": [
          0,
          0.46499999999999997
         ],
         "matches": "y",
         "showticklabels": false
        },
        "yaxis16": {
         "anchor": "x16",
         "domain": [
          0,
          0.46499999999999997
         ],
         "matches": "y",
         "showticklabels": false
        },
        "yaxis17": {
         "anchor": "x17",
         "domain": [
          0,
          0.46499999999999997
         ],
         "matches": "y",
         "showticklabels": false
        },
        "yaxis18": {
         "anchor": "x18",
         "domain": [
          0,
          0.46499999999999997
         ],
         "matches": "y",
         "showticklabels": false
        },
        "yaxis19": {
         "anchor": "x19",
         "domain": [
          0,
          0.46499999999999997
         ],
         "matches": "y",
         "showticklabels": false
        },
        "yaxis2": {
         "anchor": "x2",
         "domain": [
          0,
          0.46499999999999997
         ],
         "matches": "y",
         "showticklabels": false
        },
        "yaxis20": {
         "anchor": "x20",
         "domain": [
          0,
          0.46499999999999997
         ],
         "matches": "y",
         "showticklabels": false
        },
        "yaxis21": {
         "anchor": "x21",
         "domain": [
          0,
          0.46499999999999997
         ],
         "matches": "y",
         "showticklabels": false
        },
        "yaxis22": {
         "anchor": "x22",
         "domain": [
          0,
          0.46499999999999997
         ],
         "matches": "y",
         "showticklabels": false
        },
        "yaxis23": {
         "anchor": "x23",
         "domain": [
          0,
          0.46499999999999997
         ],
         "matches": "y",
         "showticklabels": false
        },
        "yaxis24": {
         "anchor": "x24",
         "domain": [
          0,
          0.46499999999999997
         ],
         "matches": "y",
         "showticklabels": false
        },
        "yaxis25": {
         "anchor": "x25",
         "domain": [
          0,
          0.46499999999999997
         ],
         "matches": "y",
         "showticklabels": false
        },
        "yaxis26": {
         "anchor": "x26",
         "domain": [
          0,
          0.46499999999999997
         ],
         "matches": "y",
         "showticklabels": false
        },
        "yaxis27": {
         "anchor": "x27",
         "domain": [
          0,
          0.46499999999999997
         ],
         "matches": "y",
         "showticklabels": false
        },
        "yaxis28": {
         "anchor": "x28",
         "domain": [
          0,
          0.46499999999999997
         ],
         "matches": "y",
         "showticklabels": false
        },
        "yaxis29": {
         "anchor": "x29",
         "domain": [
          0.5349999999999999,
          0.9999999999999999
         ],
         "matches": "y"
        },
        "yaxis3": {
         "anchor": "x3",
         "domain": [
          0,
          0.46499999999999997
         ],
         "matches": "y",
         "showticklabels": false
        },
        "yaxis30": {
         "anchor": "x30",
         "domain": [
          0.5349999999999999,
          0.9999999999999999
         ],
         "matches": "y",
         "showticklabels": false
        },
        "yaxis31": {
         "anchor": "x31",
         "domain": [
          0.5349999999999999,
          0.9999999999999999
         ],
         "matches": "y",
         "showticklabels": false
        },
        "yaxis32": {
         "anchor": "x32",
         "domain": [
          0.5349999999999999,
          0.9999999999999999
         ],
         "matches": "y",
         "showticklabels": false
        },
        "yaxis33": {
         "anchor": "x33",
         "domain": [
          0.5349999999999999,
          0.9999999999999999
         ],
         "matches": "y",
         "showticklabels": false
        },
        "yaxis34": {
         "anchor": "x34",
         "domain": [
          0.5349999999999999,
          0.9999999999999999
         ],
         "matches": "y",
         "showticklabels": false
        },
        "yaxis35": {
         "anchor": "x35",
         "domain": [
          0.5349999999999999,
          0.9999999999999999
         ],
         "matches": "y",
         "showticklabels": false
        },
        "yaxis36": {
         "anchor": "x36",
         "domain": [
          0.5349999999999999,
          0.9999999999999999
         ],
         "matches": "y",
         "showticklabels": false
        },
        "yaxis37": {
         "anchor": "x37",
         "domain": [
          0.5349999999999999,
          0.9999999999999999
         ],
         "matches": "y",
         "showticklabels": false
        },
        "yaxis38": {
         "anchor": "x38",
         "domain": [
          0.5349999999999999,
          0.9999999999999999
         ],
         "matches": "y",
         "showticklabels": false
        },
        "yaxis39": {
         "anchor": "x39",
         "domain": [
          0.5349999999999999,
          0.9999999999999999
         ],
         "matches": "y",
         "showticklabels": false
        },
        "yaxis4": {
         "anchor": "x4",
         "domain": [
          0,
          0.46499999999999997
         ],
         "matches": "y",
         "showticklabels": false
        },
        "yaxis40": {
         "anchor": "x40",
         "domain": [
          0.5349999999999999,
          0.9999999999999999
         ],
         "matches": "y",
         "showticklabels": false
        },
        "yaxis41": {
         "anchor": "x41",
         "domain": [
          0.5349999999999999,
          0.9999999999999999
         ],
         "matches": "y",
         "showticklabels": false
        },
        "yaxis42": {
         "anchor": "x42",
         "domain": [
          0.5349999999999999,
          0.9999999999999999
         ],
         "matches": "y",
         "showticklabels": false
        },
        "yaxis43": {
         "anchor": "x43",
         "domain": [
          0.5349999999999999,
          0.9999999999999999
         ],
         "matches": "y",
         "showticklabels": false
        },
        "yaxis44": {
         "anchor": "x44",
         "domain": [
          0.5349999999999999,
          0.9999999999999999
         ],
         "matches": "y",
         "showticklabels": false
        },
        "yaxis45": {
         "anchor": "x45",
         "domain": [
          0.5349999999999999,
          0.9999999999999999
         ],
         "matches": "y",
         "showticklabels": false
        },
        "yaxis46": {
         "anchor": "x46",
         "domain": [
          0.5349999999999999,
          0.9999999999999999
         ],
         "matches": "y",
         "showticklabels": false
        },
        "yaxis47": {
         "anchor": "x47",
         "domain": [
          0.5349999999999999,
          0.9999999999999999
         ],
         "matches": "y",
         "showticklabels": false
        },
        "yaxis48": {
         "anchor": "x48",
         "domain": [
          0.5349999999999999,
          0.9999999999999999
         ],
         "matches": "y",
         "showticklabels": false
        },
        "yaxis49": {
         "anchor": "x49",
         "domain": [
          0.5349999999999999,
          0.9999999999999999
         ],
         "matches": "y",
         "showticklabels": false
        },
        "yaxis5": {
         "anchor": "x5",
         "domain": [
          0,
          0.46499999999999997
         ],
         "matches": "y",
         "showticklabels": false
        },
        "yaxis50": {
         "anchor": "x50",
         "domain": [
          0.5349999999999999,
          0.9999999999999999
         ],
         "matches": "y",
         "showticklabels": false
        },
        "yaxis51": {
         "anchor": "x51",
         "domain": [
          0.5349999999999999,
          0.9999999999999999
         ],
         "matches": "y",
         "showticklabels": false
        },
        "yaxis52": {
         "anchor": "x52",
         "domain": [
          0.5349999999999999,
          0.9999999999999999
         ],
         "matches": "y",
         "showticklabels": false
        },
        "yaxis53": {
         "anchor": "x53",
         "domain": [
          0.5349999999999999,
          0.9999999999999999
         ],
         "matches": "y",
         "showticklabels": false
        },
        "yaxis54": {
         "anchor": "x54",
         "domain": [
          0.5349999999999999,
          0.9999999999999999
         ],
         "matches": "y",
         "showticklabels": false
        },
        "yaxis55": {
         "anchor": "x55",
         "domain": [
          0.5349999999999999,
          0.9999999999999999
         ],
         "matches": "y",
         "showticklabels": false
        },
        "yaxis56": {
         "anchor": "x56",
         "domain": [
          0.5349999999999999,
          0.9999999999999999
         ],
         "matches": "y",
         "showticklabels": false
        },
        "yaxis6": {
         "anchor": "x6",
         "domain": [
          0,
          0.46499999999999997
         ],
         "matches": "y",
         "showticklabels": false
        },
        "yaxis7": {
         "anchor": "x7",
         "domain": [
          0,
          0.46499999999999997
         ],
         "matches": "y",
         "showticklabels": false
        },
        "yaxis8": {
         "anchor": "x8",
         "domain": [
          0,
          0.46499999999999997
         ],
         "matches": "y",
         "showticklabels": false
        },
        "yaxis9": {
         "anchor": "x9",
         "domain": [
          0,
          0.46499999999999997
         ],
         "matches": "y",
         "showticklabels": false
        }
       }
      }
     },
     "metadata": {},
     "output_type": "display_data"
    }
   ],
   "source": [
    "px.imshow(\n",
    "    flatten_multi_channels_input[multi_channels_correlatin_indieces].reshape(-1, 5, 5, 3)[:nb_horizontal_correlations * 2, ...],\n",
    "    facet_col=0,\n",
    "    facet_col_wrap=28,\n",
    "    height=1000,\n",
    "    facet_col_spacing=0.,\n",
    ")"
   ]
  },
  {
   "cell_type": "markdown",
   "metadata": {},
   "source": [
    "### Computing the correlation"
   ]
  },
  {
   "cell_type": "code",
   "execution_count": 19,
   "metadata": {},
   "outputs": [],
   "source": [
    "multi_channels_flatten_correlation = flatten_multi_channels_input[multi_channels_correlatin_indieces] @ multi_channels_kernels_weights\n",
    "multi_channels_flatten_correlation.shape\n",
    "reshaped_mutli_channels_correlation = (\n",
    "    multi_channels_flatten_correlation\n",
    "    .reshape(\n",
    "        multi_channels_nb_horizontal_correlations,\n",
    "        multi_channels_nb_vertical_correlations,\n",
    "        multi_channels_kernels.shape[0],\n",
    "    )\n",
    ")"
   ]
  },
  {
   "cell_type": "markdown",
   "metadata": {},
   "source": [
    "### Results visualization and comparaison with `scipy.signal`'s `correlate2d`"
   ]
  },
  {
   "cell_type": "code",
   "execution_count": 20,
   "metadata": {},
   "outputs": [
    {
     "data": {
      "text/plain": [
       "(2, 28, 28)"
      ]
     },
     "metadata": {},
     "output_type": "display_data"
    },
    {
     "data": {
      "text/plain": [
       "'scipy'"
      ]
     },
     "metadata": {},
     "output_type": "display_data"
    },
    {
     "data": {
      "application/vnd.plotly.v1+json": {
       "config": {
        "plotlyServerURL": "https://plot.ly"
       },
       "data": [
        {
         "coloraxis": "coloraxis",
         "hovertemplate": "x: %{x}<br>y: %{y}<br>color: %{z}<extra></extra>",
         "name": "0",
         "type": "heatmap",
         "xaxis": "x",
         "yaxis": "y",
         "z": [
          [
           1570,
           1838,
           2204,
           2403,
           2530,
           2662,
           2700,
           2655,
           2692,
           2765,
           2702,
           2619,
           2654,
           2647,
           2556,
           2547,
           2637,
           2764,
           2838,
           2923,
           3002,
           3036,
           3048,
           3061,
           3032,
           2985,
           2852,
           2689
          ],
          [
           1400,
           1733,
           2086,
           2285,
           2391,
           2433,
           2410,
           2317,
           2285,
           2270,
           2198,
           2147,
           2172,
           2140,
           2053,
           2054,
           2147,
           2225,
           2287,
           2407,
           2504,
           2560,
           2575,
           2629,
           2586,
           2400,
           2126,
           1918
          ],
          [
           1795,
           2058,
           2292,
           2403,
           2456,
           2473,
           2425,
           2390,
           2354,
           2296,
           2169,
           2114,
           2094,
           2061,
           1973,
           1960,
           1975,
           1978,
           2085,
           2221,
           2385,
           2564,
           2731,
           2706,
           2636,
           2474,
           2244,
           2013
          ],
          [
           2090,
           2215,
           2379,
           2404,
           2389,
           2407,
           2476,
           2448,
           2343,
           2236,
           2060,
           1888,
           1931,
           2127,
           2231,
           2273,
           2340,
           2257,
           2190,
           2147,
           2295,
           2600,
           2736,
           2664,
           2641,
           2549,
           2430,
           2241
          ],
          [
           2287,
           2338,
           2473,
           2464,
           2381,
           2450,
           2532,
           2383,
           2161,
           2055,
           1816,
           1546,
           1728,
           2067,
           2314,
           2470,
           2582,
           2445,
           2210,
           2048,
           2165,
           2334,
           2402,
           2456,
           2499,
           2437,
           2298,
           2187
          ],
          [
           2633,
           2642,
           2656,
           2558,
           2497,
           2534,
           2480,
           2254,
           2102,
           1955,
           1682,
           1556,
           1694,
           1851,
           2017,
           2108,
           2124,
           2041,
           1910,
           1869,
           1927,
           2059,
           2177,
           2344,
           2485,
           2440,
           2222,
           2076
          ],
          [
           2958,
           2911,
           2828,
           2734,
           2730,
           2729,
           2558,
           2455,
           2305,
           1965,
           1756,
           1769,
           1790,
           1871,
           1967,
           1913,
           1917,
           2004,
           2211,
           2253,
           2333,
           2526,
           2498,
           2457,
           2548,
           2582,
           2461,
           2387
          ],
          [
           3011,
           2914,
           2858,
           2754,
           2746,
           2725,
           2649,
           2595,
           2391,
           2143,
           2049,
           2049,
           2252,
           2611,
           2712,
           2698,
           2805,
           2818,
           2893,
           2762,
           2826,
           2834,
           2714,
           2533,
           2587,
           2643,
           2625,
           2563
          ],
          [
           3030,
           2880,
           2729,
           2595,
           2556,
           2482,
           2450,
           2514,
           2437,
           2417,
           2508,
           2614,
           2926,
           3298,
           3523,
           3537,
           3586,
           3453,
           3223,
           2924,
           2742,
           2633,
           2512,
           2475,
           2626,
           2729,
           2723,
           2725
          ],
          [
           3264,
           2991,
           2724,
           2535,
           2378,
           2234,
           2231,
           2395,
           2436,
           2597,
           2974,
           3289,
           3466,
           3784,
           4020,
           3972,
           3966,
           3832,
           3687,
           3388,
           3129,
           2933,
           2792,
           2728,
           2773,
           2805,
           2784,
           2772
          ],
          [
           3291,
           3021,
           2823,
           2627,
           2419,
           2288,
           2362,
           2500,
           2525,
           2842,
           3411,
           3743,
           4002,
           4471,
           4669,
           4659,
           4587,
           4630,
           4571,
           4362,
           4173,
           3943,
           3567,
           3298,
           3094,
           2885,
           2764,
           2779
          ],
          [
           3145,
           2864,
           2601,
           2308,
           2165,
           2198,
           2480,
           2699,
           2969,
           3533,
           3863,
           4020,
           4566,
           5031,
           5278,
           5385,
           5393,
           5387,
           5333,
           5150,
           5033,
           4696,
           4284,
           3824,
           3359,
           2907,
           2745,
           2747
          ],
          [
           3127,
           2796,
           2486,
           2229,
           2154,
           2270,
           2714,
           3158,
           3709,
           4199,
           4354,
           4634,
           5176,
           5619,
           5957,
           6011,
           5902,
           5548,
           5311,
           5171,
           4983,
           4684,
           4489,
           4119,
           3545,
           3101,
           2963,
           2876
          ],
          [
           3064,
           2709,
           2460,
           2315,
           2341,
           2657,
           3119,
           3775,
           4338,
           4577,
           4743,
           5129,
           5581,
           5959,
           6089,
           5986,
           5757,
           5418,
           5240,
           5214,
           5185,
           4940,
           4674,
           4257,
           3692,
           3273,
           3127,
           3033
          ],
          [
           2893,
           2595,
           2442,
           2501,
           2721,
           3169,
           3754,
           4447,
           4677,
           4771,
           4759,
           5113,
           5623,
           5796,
           5678,
           5509,
           5332,
           5285,
           5310,
           5544,
           5802,
           5546,
           4989,
           4448,
           3766,
           3117,
           2916,
           2941
          ],
          [
           2865,
           2605,
           2564,
           2780,
           3129,
           3762,
           4595,
           4879,
           4843,
           4752,
           4459,
           4712,
           5144,
           5147,
           4974,
           4968,
           4873,
           4940,
           5174,
           5530,
           5916,
           5712,
           5166,
           4425,
           3529,
           2720,
           2462,
           2568
          ],
          [
           2857,
           2638,
           2831,
           3164,
           3615,
           4471,
           5186,
           4976,
           4734,
           4585,
           4361,
           4487,
           4755,
           4702,
           4555,
           4530,
           4423,
           4377,
           4517,
           4885,
           5266,
           5230,
           4853,
           4144,
           3402,
           2778,
           2502,
           2598
          ],
          [
           2775,
           2660,
           2825,
           3102,
           3786,
           4681,
           4912,
           4726,
           4736,
           4706,
           4497,
           4504,
           4584,
           4394,
           4066,
           3943,
           3923,
           3805,
           3880,
           4246,
           4565,
           4460,
           4086,
           3653,
           3224,
           2916,
           2829,
           3019
          ],
          [
           2683,
           2626,
           2650,
           3054,
           3822,
           4402,
           4421,
           4597,
           4849,
           4801,
           4512,
           4353,
           4161,
           3735,
           3429,
           3383,
           3393,
           3559,
           3823,
           4173,
           4365,
           4152,
           3795,
           3480,
           3167,
           2907,
           2927,
           3217
          ],
          [
           2811,
           2792,
           3019,
           3572,
           4094,
           4339,
           4424,
           4523,
           4637,
           4600,
           4274,
           4032,
           3689,
           3349,
           3086,
           3049,
           3159,
           3420,
           3699,
           3824,
           3845,
           3669,
           3432,
           3235,
           3029,
           2886,
           2934,
           3147
          ],
          [
           2788,
           2760,
           3221,
           3673,
           3952,
           4204,
           4295,
           4268,
           4376,
           4485,
           4294,
           4213,
           4025,
           3632,
           3296,
           3180,
           3121,
           3167,
           3212,
           3177,
           3161,
           3069,
           2990,
           3003,
           3063,
           3110,
           3153,
           3268
          ],
          [
           2749,
           2709,
           2922,
           3127,
           3399,
           3712,
           3843,
           3937,
           4178,
           4252,
           4125,
           4077,
           3929,
           3562,
           3283,
           3105,
           2952,
           2854,
           2841,
           2821,
           2788,
           2855,
           2933,
           3019,
           3112,
           3254,
           3416,
           3599
          ],
          [
           2959,
           2818,
           2767,
           2820,
           3051,
           3293,
           3451,
           3612,
           3816,
           3867,
           3820,
           3657,
           3495,
           3312,
           3128,
           3018,
           2981,
           3028,
           3030,
           2979,
           3002,
           3077,
           3117,
           3096,
           3111,
           3257,
           3486,
           3715
          ],
          [
           3280,
           2975,
           2885,
           2908,
           3018,
           3113,
           3208,
           3352,
           3518,
           3671,
           3573,
           3476,
           3335,
           3114,
           2937,
           2937,
           3014,
           3037,
           2949,
           2818,
           2755,
           2770,
           2848,
           2889,
           3054,
           3307,
           3484,
           3596
          ],
          [
           3492,
           3187,
           3140,
           3148,
           3174,
           3248,
           3261,
           3406,
           3550,
           3578,
           3555,
           3606,
           3431,
           3132,
           2990,
           2973,
           2964,
           2855,
           2744,
           2658,
           2569,
           2574,
           2689,
           2787,
           3028,
           3286,
           3322,
           3197
          ],
          [
           3696,
           3443,
           3383,
           3319,
           3249,
           3251,
           3242,
           3187,
           3201,
           3183,
           3197,
           3208,
           3136,
           2995,
           2949,
           2933,
           2894,
           2855,
           2826,
           2821,
           2830,
           2838,
           2796,
           2673,
           2777,
           3037,
           3029,
           2854
          ],
          [
           3800,
           3622,
           3561,
           3508,
           3447,
           3355,
           3186,
           2979,
           2902,
           2947,
           2955,
           2920,
           2896,
           2914,
           2890,
           2883,
           2937,
           2984,
           2932,
           2855,
           2851,
           2784,
           2615,
           2377,
           2521,
           2859,
           2868,
           2800
          ],
          [
           3905,
           3802,
           3870,
           3893,
           3881,
           3784,
           3548,
           3338,
           3226,
           3172,
           3111,
           3086,
           3068,
           3051,
           3038,
           3065,
           3083,
           3033,
           2948,
           2852,
           2809,
           2764,
           2678,
           2607,
           2866,
           3243,
           3224,
           3162
          ]
         ]
        },
        {
         "coloraxis": "coloraxis",
         "hovertemplate": "x: %{x}<br>y: %{y}<br>color: %{z}<extra></extra>",
         "name": "1",
         "type": "heatmap",
         "xaxis": "x2",
         "yaxis": "y2",
         "z": [
          [
           1988.5,
           2283.5,
           3128.5,
           3688.5,
           4027.5,
           4257.5,
           4310.5,
           4172,
           4096,
           4225.5,
           4272,
           4141.5,
           4186,
           4392,
           4257.5,
           4222,
           4238,
           4358.5,
           4552,
           4662.5,
           4789,
           4843.5,
           4776.5,
           4778,
           4774,
           4747,
           4643.5,
           4537
          ],
          [
           2281,
           2653.5,
           3412,
           3819,
           3997.5,
           4073,
           4103,
           3971.5,
           3881,
           4071,
           4096.5,
           3898,
           3962.5,
           4121,
           3974.5,
           3893.5,
           3909,
           4062.5,
           4205,
           4327.5,
           4554,
           4654,
           4468,
           4476.5,
           4461.5,
           4357,
           4065,
           3796.5
          ],
          [
           2875.5,
           3249.5,
           3823.5,
           4014.5,
           4085.5,
           4084.5,
           4060.5,
           3974.5,
           3952.5,
           4108.5,
           3936,
           3738,
           3739.5,
           3725.5,
           3565,
           3442,
           3525.5,
           3707.5,
           3788,
           3954.5,
           4253.5,
           4514.5,
           4614,
           4413,
           4348.5,
           4245.5,
           3827,
           3403
          ],
          [
           3449.5,
           3721,
           4142,
           4244.5,
           4194.5,
           4142,
           4168,
           4077.5,
           3979,
           3955.5,
           3683.5,
           3373,
           3321.5,
           3370,
           3291.5,
           3186.5,
           3536,
           3728.5,
           3518.5,
           3567,
           3919.5,
           4286.5,
           4596.5,
           4345,
           4321.5,
           4201.5,
           3764.5,
           3281.5
          ],
          [
           3975,
           4051.5,
           4334.5,
           4351.5,
           4264.5,
           4244,
           4273.5,
           4154,
           3945.5,
           3799,
           3435.5,
           2888.5,
           2870,
           3100.5,
           3226,
           3238,
           3732.5,
           3656,
           3286.5,
           3208,
           3472,
           3944,
           4336.5,
           4176,
           4302.5,
           4265,
           3878,
           3501.5
          ],
          [
           4536,
           4444.5,
           4589.5,
           4514.5,
           4383,
           4367.5,
           4361,
           4232.5,
           3919.5,
           3637.5,
           3110.5,
           2523,
           2586,
           2976,
           3339.5,
           3530.5,
           3965,
           3637,
           3239,
           2989,
           3144,
           3617.5,
           3997,
           3978.5,
           4303.5,
           4436.5,
           4153,
           3903.5
          ],
          [
           5018,
           4829.5,
           4855.5,
           4694.5,
           4565.5,
           4561.5,
           4509.5,
           4296,
           3957,
           3547.5,
           2868,
           2535,
           2678.5,
           3113,
           3716.5,
           3990,
           4342.5,
           3972,
           3637.5,
           3281,
           3306,
           3828,
           3969,
           3885,
           4302.5,
           4603.5,
           4427,
           4292.5
          ],
          [
           5331.5,
           5103.5,
           5023.5,
           4761.5,
           4652,
           4692,
           4535,
           4212.5,
           4057,
           3621,
           3011.5,
           3067,
           3262.5,
           3783,
           4335.5,
           4517.5,
           4937,
           4653.5,
           4569.5,
           4102,
           4035.5,
           4298.5,
           4228,
           3947,
           4273.5,
           4716.5,
           4620.5,
           4550.5
          ],
          [
           5550.5,
           5263.5,
           5062.5,
           4782.5,
           4711.5,
           4610.5,
           4298,
           4196,
           4226,
           3807.5,
           3642.5,
           4302,
           4383.5,
           4909.5,
           5384.5,
           5332.5,
           5722.5,
           5609,
           5658.5,
           5108,
           4962,
           4840.5,
           4430,
           4065,
           4306,
           4717.5,
           4698.5,
           4695
          ],
          [
           5694.5,
           5342.5,
           4990,
           4633,
           4454,
           4158,
           3918.5,
           4170,
           4305,
           4224.5,
           4688.5,
           5767,
           5762.5,
           6243.5,
           6753,
           6482,
           6673.5,
           6709,
           6757,
           6356.5,
           6096,
           5696,
           5101,
           4558,
           4607,
           4779.5,
           4768,
           4741.5
          ],
          [
           5635,
           5242.5,
           4849.5,
           4479.5,
           4218.5,
           3659.5,
           3717,
           4267,
           4448,
           4843,
           5899.5,
           6989.5,
           6917.5,
           7644,
           8193.5,
           7991,
           8041.5,
           7985.5,
           7988.5,
           7606.5,
           7315.5,
           6841,
           6040.5,
           5435.5,
           5276,
           4935.5,
           4769,
           4770.5
          ],
          [
           5601.5,
           5060,
           4598.5,
           4207.5,
           3896,
           3275.5,
           3672.5,
           4368.5,
           4743,
           5711,
           6998,
           7530,
           7805,
           8819.5,
           9272,
           9408.5,
           9405.5,
           9184.5,
           9015,
           8741.5,
           8544.5,
           7954,
           7154.5,
           6475,
           6029,
           5129.5,
           4776,
           4762.5
          ],
          [
           5505.5,
           4866.5,
           4440,
           4089.5,
           3789.5,
           3328.5,
           4112,
           4857.5,
           5428,
           6679.5,
           7668.5,
           7597.5,
           8435.5,
           9613,
           10164.5,
           10525,
           10373.5,
           9968,
           9657,
           9493.5,
           9339.5,
           8657.5,
           8129.5,
           7530,
           6714,
           5407,
           4967.5,
           4928
          ],
          [
           5390,
           4718.5,
           4416,
           4125,
           3960.5,
           3922.5,
           4885,
           5617,
           6470.5,
           7780,
           7813,
           7630.5,
           8914.5,
           10039,
           10552,
           10875.5,
           10657.5,
           10093,
           9617,
           9577.5,
           9696,
           9172.5,
           8723.5,
           8212,
           7138,
           5580,
           5115.5,
           5032
          ],
          [
           5243,
           4552,
           4333.5,
           4244.5,
           4392,
           4881,
           5660.5,
           6651,
           7759.5,
           8671,
           7831,
           7757,
           9171,
           9969,
           10073,
           10214.5,
           9953.5,
           9390.5,
           9065.5,
           9164,
           9511.5,
           9379.5,
           8996,
           8403,
           7223,
           5539,
           5006.5,
           4948.5
          ],
          [
           5102.5,
           4516,
           4517,
           4678,
           5144,
           5966,
           6825,
           7958,
           8865,
           9031.5,
           7820,
           7724,
           8917,
           9220,
           8747.5,
           8752,
           8459,
           8264.5,
           8349.5,
           8485.5,
           9062.5,
           9285.5,
           9035,
           8232,
           6938.5,
           5243.5,
           4632,
           4665
          ],
          [
           4959.5,
           4486,
           4743,
           5215.5,
           5988,
           6907,
           7998,
           8989.5,
           9161.5,
           8794.5,
           7622.5,
           7471.5,
           8284.5,
           8188,
           7295,
           7235.5,
           7001,
           7164,
           7477,
           7836,
           8589,
           9001,
           8757.5,
           7736.5,
           6540,
           4985,
           4251.5,
           4424
          ],
          [
           4822.5,
           4448.5,
           4823,
           5508,
           6369,
           7482,
           8368,
           9022,
           8841,
           8209.5,
           7280.5,
           7042.5,
           7449.5,
           7107.5,
           6140,
           6023,
           5927.5,
           6245.5,
           6629,
           7164.5,
           7925,
           8305,
           8055,
           7023,
           5952.5,
           4778.5,
           4189,
           4498
          ],
          [
           4741,
           4439.5,
           4876.5,
           5508,
           6291,
           7439.5,
           8135.5,
           8421.5,
           8231,
           7592,
           7014.5,
           6804.5,
           6789,
           6273,
           5486,
           5387.5,
           5452,
           5726.5,
           6019,
           6465.5,
           7086,
           7420.5,
           7209,
           6387,
           5546,
           4748,
           4451,
           4854.5
          ],
          [
           4785.5,
           4568,
           4959,
           5343.5,
           6049,
           6957.5,
           7445,
           7644,
           7710.5,
           7331.5,
           6986,
           6867.5,
           6564.5,
           6134.5,
           5262,
           5188,
           5331.5,
           5402,
           5519,
           5682.5,
           5987.5,
           6145.5,
           5966.5,
           5456,
           4960,
           4711.5,
           4833,
           5271.5
          ],
          [
           4872.5,
           4659.5,
           4917.5,
           5212,
           5731,
           6354,
           6701.5,
           7042.5,
           7461,
           7493.5,
           7250.5,
           7320.5,
           6955.5,
           6293.5,
           5583.5,
           5412.5,
           5324,
           5152.5,
           5131.5,
           5101.5,
           5089.5,
           4962.5,
           4785.5,
           4698.5,
           4588.5,
           4788,
           5170.5,
           5516.5
          ],
          [
           5059.5,
           4741.5,
           4878.5,
           5148,
           5478,
           5842.5,
           6196,
           6639,
           7167,
           7480.5,
           7376,
           7336.5,
           7158,
           6309,
           5621,
           5425.5,
           5224.5,
           4994.5,
           4915.5,
           4794.5,
           4597,
           4411.5,
           4344.5,
           4456,
           4532.5,
           4927,
           5392.5,
           5595
          ],
          [
           5308,
           4924,
           4949,
           5073.5,
           5300,
           5595.5,
           5905.5,
           6270.5,
           6710,
           7058.5,
           6971.5,
           6996.5,
           6923.5,
           6266,
           5643,
           5317,
           5049.5,
           4992.5,
           4934.5,
           4750.5,
           4581,
           4490.5,
           4449,
           4509.5,
           4722,
           5157.5,
           5550.5,
           5620.5
          ],
          [
           5614.5,
           5049,
           4996,
           5070,
           5145.5,
           5372,
           5638,
           5864,
           6033.5,
           6271,
           6221,
           6310,
           6331,
           5892,
           5469.5,
           5167,
           4912.5,
           4890,
           4935.5,
           4816.5,
           4689.5,
           4659.5,
           4707,
           4747,
           5005,
           5454,
           5711,
           5635
          ],
          [
           6074,
           5340.5,
           5149.5,
           5122,
           5130,
           5262,
           5369,
           5466,
           5478,
           5511.5,
           5478.5,
           5558.5,
           5664.5,
           5467,
           5203,
           4995,
           4856.5,
           4904,
           4967.5,
           4914.5,
           4911.5,
           4856.5,
           4930,
           4983,
           5246.5,
           5672,
           5691,
           5385
          ],
          [
           6513.5,
           5759.5,
           5532,
           5388.5,
           5274,
           5264,
           5223,
           5158,
           5071,
           4991,
           4955.5,
           5059,
           5105.5,
           5067,
           4936,
           4904,
           4941.5,
           5040.5,
           5034,
           4943.5,
           5046.5,
           5003.5,
           4967.5,
           4892.5,
           5172,
           5568.5,
           5321,
           4765
          ],
          [
           6708,
           6089.5,
           6001,
           5843,
           5669.5,
           5569.5,
           5403,
           5242.5,
           5032,
           4852.5,
           4827,
           4922,
           4911.5,
           4885.5,
           4800.5,
           4849.5,
           4987.5,
           5088.5,
           5016.5,
           4857,
           4866,
           4753.5,
           4655.5,
           4453,
           4735,
           5056.5,
           4710.5,
           4136.5
          ],
          [
           6866.5,
           6443.5,
           6526,
           6446.5,
           6328.5,
           6236,
           6021.5,
           5767.5,
           5476,
           5254.5,
           5198,
           5207,
           5155.5,
           5115,
           5016,
           5080,
           5206.5,
           5204,
           5028,
           4816.5,
           4763,
           4579,
           4415.5,
           4222.5,
           4485,
           4747,
           4476.5,
           4211.5
          ]
         ]
        }
       ],
       "layout": {
        "annotations": [
         {
          "font": {},
          "showarrow": false,
          "text": "facet_col=0",
          "x": 0.245,
          "xanchor": "center",
          "xref": "paper",
          "y": 1,
          "yanchor": "bottom",
          "yref": "paper"
         },
         {
          "font": {},
          "showarrow": false,
          "text": "facet_col=1",
          "x": 0.755,
          "xanchor": "center",
          "xref": "paper",
          "y": 1,
          "yanchor": "bottom",
          "yref": "paper"
         }
        ],
        "coloraxis": {
         "colorscale": [
          [
           0,
           "#0d0887"
          ],
          [
           0.1111111111111111,
           "#46039f"
          ],
          [
           0.2222222222222222,
           "#7201a8"
          ],
          [
           0.3333333333333333,
           "#9c179e"
          ],
          [
           0.4444444444444444,
           "#bd3786"
          ],
          [
           0.5555555555555556,
           "#d8576b"
          ],
          [
           0.6666666666666666,
           "#ed7953"
          ],
          [
           0.7777777777777778,
           "#fb9f3a"
          ],
          [
           0.8888888888888888,
           "#fdca26"
          ],
          [
           1,
           "#f0f921"
          ]
         ]
        },
        "margin": {
         "t": 60
        },
        "template": {
         "data": {
          "bar": [
           {
            "error_x": {
             "color": "#2a3f5f"
            },
            "error_y": {
             "color": "#2a3f5f"
            },
            "marker": {
             "line": {
              "color": "#E5ECF6",
              "width": 0.5
             },
             "pattern": {
              "fillmode": "overlay",
              "size": 10,
              "solidity": 0.2
             }
            },
            "type": "bar"
           }
          ],
          "barpolar": [
           {
            "marker": {
             "line": {
              "color": "#E5ECF6",
              "width": 0.5
             },
             "pattern": {
              "fillmode": "overlay",
              "size": 10,
              "solidity": 0.2
             }
            },
            "type": "barpolar"
           }
          ],
          "carpet": [
           {
            "aaxis": {
             "endlinecolor": "#2a3f5f",
             "gridcolor": "white",
             "linecolor": "white",
             "minorgridcolor": "white",
             "startlinecolor": "#2a3f5f"
            },
            "baxis": {
             "endlinecolor": "#2a3f5f",
             "gridcolor": "white",
             "linecolor": "white",
             "minorgridcolor": "white",
             "startlinecolor": "#2a3f5f"
            },
            "type": "carpet"
           }
          ],
          "choropleth": [
           {
            "colorbar": {
             "outlinewidth": 0,
             "ticks": ""
            },
            "type": "choropleth"
           }
          ],
          "contour": [
           {
            "colorbar": {
             "outlinewidth": 0,
             "ticks": ""
            },
            "colorscale": [
             [
              0,
              "#0d0887"
             ],
             [
              0.1111111111111111,
              "#46039f"
             ],
             [
              0.2222222222222222,
              "#7201a8"
             ],
             [
              0.3333333333333333,
              "#9c179e"
             ],
             [
              0.4444444444444444,
              "#bd3786"
             ],
             [
              0.5555555555555556,
              "#d8576b"
             ],
             [
              0.6666666666666666,
              "#ed7953"
             ],
             [
              0.7777777777777778,
              "#fb9f3a"
             ],
             [
              0.8888888888888888,
              "#fdca26"
             ],
             [
              1,
              "#f0f921"
             ]
            ],
            "type": "contour"
           }
          ],
          "contourcarpet": [
           {
            "colorbar": {
             "outlinewidth": 0,
             "ticks": ""
            },
            "type": "contourcarpet"
           }
          ],
          "heatmap": [
           {
            "colorbar": {
             "outlinewidth": 0,
             "ticks": ""
            },
            "colorscale": [
             [
              0,
              "#0d0887"
             ],
             [
              0.1111111111111111,
              "#46039f"
             ],
             [
              0.2222222222222222,
              "#7201a8"
             ],
             [
              0.3333333333333333,
              "#9c179e"
             ],
             [
              0.4444444444444444,
              "#bd3786"
             ],
             [
              0.5555555555555556,
              "#d8576b"
             ],
             [
              0.6666666666666666,
              "#ed7953"
             ],
             [
              0.7777777777777778,
              "#fb9f3a"
             ],
             [
              0.8888888888888888,
              "#fdca26"
             ],
             [
              1,
              "#f0f921"
             ]
            ],
            "type": "heatmap"
           }
          ],
          "heatmapgl": [
           {
            "colorbar": {
             "outlinewidth": 0,
             "ticks": ""
            },
            "colorscale": [
             [
              0,
              "#0d0887"
             ],
             [
              0.1111111111111111,
              "#46039f"
             ],
             [
              0.2222222222222222,
              "#7201a8"
             ],
             [
              0.3333333333333333,
              "#9c179e"
             ],
             [
              0.4444444444444444,
              "#bd3786"
             ],
             [
              0.5555555555555556,
              "#d8576b"
             ],
             [
              0.6666666666666666,
              "#ed7953"
             ],
             [
              0.7777777777777778,
              "#fb9f3a"
             ],
             [
              0.8888888888888888,
              "#fdca26"
             ],
             [
              1,
              "#f0f921"
             ]
            ],
            "type": "heatmapgl"
           }
          ],
          "histogram": [
           {
            "marker": {
             "pattern": {
              "fillmode": "overlay",
              "size": 10,
              "solidity": 0.2
             }
            },
            "type": "histogram"
           }
          ],
          "histogram2d": [
           {
            "colorbar": {
             "outlinewidth": 0,
             "ticks": ""
            },
            "colorscale": [
             [
              0,
              "#0d0887"
             ],
             [
              0.1111111111111111,
              "#46039f"
             ],
             [
              0.2222222222222222,
              "#7201a8"
             ],
             [
              0.3333333333333333,
              "#9c179e"
             ],
             [
              0.4444444444444444,
              "#bd3786"
             ],
             [
              0.5555555555555556,
              "#d8576b"
             ],
             [
              0.6666666666666666,
              "#ed7953"
             ],
             [
              0.7777777777777778,
              "#fb9f3a"
             ],
             [
              0.8888888888888888,
              "#fdca26"
             ],
             [
              1,
              "#f0f921"
             ]
            ],
            "type": "histogram2d"
           }
          ],
          "histogram2dcontour": [
           {
            "colorbar": {
             "outlinewidth": 0,
             "ticks": ""
            },
            "colorscale": [
             [
              0,
              "#0d0887"
             ],
             [
              0.1111111111111111,
              "#46039f"
             ],
             [
              0.2222222222222222,
              "#7201a8"
             ],
             [
              0.3333333333333333,
              "#9c179e"
             ],
             [
              0.4444444444444444,
              "#bd3786"
             ],
             [
              0.5555555555555556,
              "#d8576b"
             ],
             [
              0.6666666666666666,
              "#ed7953"
             ],
             [
              0.7777777777777778,
              "#fb9f3a"
             ],
             [
              0.8888888888888888,
              "#fdca26"
             ],
             [
              1,
              "#f0f921"
             ]
            ],
            "type": "histogram2dcontour"
           }
          ],
          "mesh3d": [
           {
            "colorbar": {
             "outlinewidth": 0,
             "ticks": ""
            },
            "type": "mesh3d"
           }
          ],
          "parcoords": [
           {
            "line": {
             "colorbar": {
              "outlinewidth": 0,
              "ticks": ""
             }
            },
            "type": "parcoords"
           }
          ],
          "pie": [
           {
            "automargin": true,
            "type": "pie"
           }
          ],
          "scatter": [
           {
            "fillpattern": {
             "fillmode": "overlay",
             "size": 10,
             "solidity": 0.2
            },
            "type": "scatter"
           }
          ],
          "scatter3d": [
           {
            "line": {
             "colorbar": {
              "outlinewidth": 0,
              "ticks": ""
             }
            },
            "marker": {
             "colorbar": {
              "outlinewidth": 0,
              "ticks": ""
             }
            },
            "type": "scatter3d"
           }
          ],
          "scattercarpet": [
           {
            "marker": {
             "colorbar": {
              "outlinewidth": 0,
              "ticks": ""
             }
            },
            "type": "scattercarpet"
           }
          ],
          "scattergeo": [
           {
            "marker": {
             "colorbar": {
              "outlinewidth": 0,
              "ticks": ""
             }
            },
            "type": "scattergeo"
           }
          ],
          "scattergl": [
           {
            "marker": {
             "colorbar": {
              "outlinewidth": 0,
              "ticks": ""
             }
            },
            "type": "scattergl"
           }
          ],
          "scattermapbox": [
           {
            "marker": {
             "colorbar": {
              "outlinewidth": 0,
              "ticks": ""
             }
            },
            "type": "scattermapbox"
           }
          ],
          "scatterpolar": [
           {
            "marker": {
             "colorbar": {
              "outlinewidth": 0,
              "ticks": ""
             }
            },
            "type": "scatterpolar"
           }
          ],
          "scatterpolargl": [
           {
            "marker": {
             "colorbar": {
              "outlinewidth": 0,
              "ticks": ""
             }
            },
            "type": "scatterpolargl"
           }
          ],
          "scatterternary": [
           {
            "marker": {
             "colorbar": {
              "outlinewidth": 0,
              "ticks": ""
             }
            },
            "type": "scatterternary"
           }
          ],
          "surface": [
           {
            "colorbar": {
             "outlinewidth": 0,
             "ticks": ""
            },
            "colorscale": [
             [
              0,
              "#0d0887"
             ],
             [
              0.1111111111111111,
              "#46039f"
             ],
             [
              0.2222222222222222,
              "#7201a8"
             ],
             [
              0.3333333333333333,
              "#9c179e"
             ],
             [
              0.4444444444444444,
              "#bd3786"
             ],
             [
              0.5555555555555556,
              "#d8576b"
             ],
             [
              0.6666666666666666,
              "#ed7953"
             ],
             [
              0.7777777777777778,
              "#fb9f3a"
             ],
             [
              0.8888888888888888,
              "#fdca26"
             ],
             [
              1,
              "#f0f921"
             ]
            ],
            "type": "surface"
           }
          ],
          "table": [
           {
            "cells": {
             "fill": {
              "color": "#EBF0F8"
             },
             "line": {
              "color": "white"
             }
            },
            "header": {
             "fill": {
              "color": "#C8D4E3"
             },
             "line": {
              "color": "white"
             }
            },
            "type": "table"
           }
          ]
         },
         "layout": {
          "annotationdefaults": {
           "arrowcolor": "#2a3f5f",
           "arrowhead": 0,
           "arrowwidth": 1
          },
          "autotypenumbers": "strict",
          "coloraxis": {
           "colorbar": {
            "outlinewidth": 0,
            "ticks": ""
           }
          },
          "colorscale": {
           "diverging": [
            [
             0,
             "#8e0152"
            ],
            [
             0.1,
             "#c51b7d"
            ],
            [
             0.2,
             "#de77ae"
            ],
            [
             0.3,
             "#f1b6da"
            ],
            [
             0.4,
             "#fde0ef"
            ],
            [
             0.5,
             "#f7f7f7"
            ],
            [
             0.6,
             "#e6f5d0"
            ],
            [
             0.7,
             "#b8e186"
            ],
            [
             0.8,
             "#7fbc41"
            ],
            [
             0.9,
             "#4d9221"
            ],
            [
             1,
             "#276419"
            ]
           ],
           "sequential": [
            [
             0,
             "#0d0887"
            ],
            [
             0.1111111111111111,
             "#46039f"
            ],
            [
             0.2222222222222222,
             "#7201a8"
            ],
            [
             0.3333333333333333,
             "#9c179e"
            ],
            [
             0.4444444444444444,
             "#bd3786"
            ],
            [
             0.5555555555555556,
             "#d8576b"
            ],
            [
             0.6666666666666666,
             "#ed7953"
            ],
            [
             0.7777777777777778,
             "#fb9f3a"
            ],
            [
             0.8888888888888888,
             "#fdca26"
            ],
            [
             1,
             "#f0f921"
            ]
           ],
           "sequentialminus": [
            [
             0,
             "#0d0887"
            ],
            [
             0.1111111111111111,
             "#46039f"
            ],
            [
             0.2222222222222222,
             "#7201a8"
            ],
            [
             0.3333333333333333,
             "#9c179e"
            ],
            [
             0.4444444444444444,
             "#bd3786"
            ],
            [
             0.5555555555555556,
             "#d8576b"
            ],
            [
             0.6666666666666666,
             "#ed7953"
            ],
            [
             0.7777777777777778,
             "#fb9f3a"
            ],
            [
             0.8888888888888888,
             "#fdca26"
            ],
            [
             1,
             "#f0f921"
            ]
           ]
          },
          "colorway": [
           "#636efa",
           "#EF553B",
           "#00cc96",
           "#ab63fa",
           "#FFA15A",
           "#19d3f3",
           "#FF6692",
           "#B6E880",
           "#FF97FF",
           "#FECB52"
          ],
          "font": {
           "color": "#2a3f5f"
          },
          "geo": {
           "bgcolor": "white",
           "lakecolor": "white",
           "landcolor": "#E5ECF6",
           "showlakes": true,
           "showland": true,
           "subunitcolor": "white"
          },
          "hoverlabel": {
           "align": "left"
          },
          "hovermode": "closest",
          "mapbox": {
           "style": "light"
          },
          "paper_bgcolor": "white",
          "plot_bgcolor": "#E5ECF6",
          "polar": {
           "angularaxis": {
            "gridcolor": "white",
            "linecolor": "white",
            "ticks": ""
           },
           "bgcolor": "#E5ECF6",
           "radialaxis": {
            "gridcolor": "white",
            "linecolor": "white",
            "ticks": ""
           }
          },
          "scene": {
           "xaxis": {
            "backgroundcolor": "#E5ECF6",
            "gridcolor": "white",
            "gridwidth": 2,
            "linecolor": "white",
            "showbackground": true,
            "ticks": "",
            "zerolinecolor": "white"
           },
           "yaxis": {
            "backgroundcolor": "#E5ECF6",
            "gridcolor": "white",
            "gridwidth": 2,
            "linecolor": "white",
            "showbackground": true,
            "ticks": "",
            "zerolinecolor": "white"
           },
           "zaxis": {
            "backgroundcolor": "#E5ECF6",
            "gridcolor": "white",
            "gridwidth": 2,
            "linecolor": "white",
            "showbackground": true,
            "ticks": "",
            "zerolinecolor": "white"
           }
          },
          "shapedefaults": {
           "line": {
            "color": "#2a3f5f"
           }
          },
          "ternary": {
           "aaxis": {
            "gridcolor": "white",
            "linecolor": "white",
            "ticks": ""
           },
           "baxis": {
            "gridcolor": "white",
            "linecolor": "white",
            "ticks": ""
           },
           "bgcolor": "#E5ECF6",
           "caxis": {
            "gridcolor": "white",
            "linecolor": "white",
            "ticks": ""
           }
          },
          "title": {
           "x": 0.05
          },
          "xaxis": {
           "automargin": true,
           "gridcolor": "white",
           "linecolor": "white",
           "ticks": "",
           "title": {
            "standoff": 15
           },
           "zerolinecolor": "white",
           "zerolinewidth": 2
          },
          "yaxis": {
           "automargin": true,
           "gridcolor": "white",
           "linecolor": "white",
           "ticks": "",
           "title": {
            "standoff": 15
           },
           "zerolinecolor": "white",
           "zerolinewidth": 2
          }
         }
        },
        "xaxis": {
         "anchor": "y",
         "constrain": "domain",
         "domain": [
          0,
          0.49
         ],
         "scaleanchor": "y"
        },
        "xaxis2": {
         "anchor": "y2",
         "domain": [
          0.51,
          1
         ],
         "matches": "x"
        },
        "yaxis": {
         "anchor": "x",
         "autorange": "reversed",
         "constrain": "domain",
         "domain": [
          0,
          1
         ]
        },
        "yaxis2": {
         "anchor": "x2",
         "domain": [
          0,
          1
         ],
         "matches": "y",
         "showticklabels": false
        }
       }
      }
     },
     "metadata": {},
     "output_type": "display_data"
    },
    {
     "data": {
      "text/plain": [
       "'custom'"
      ]
     },
     "metadata": {},
     "output_type": "display_data"
    },
    {
     "data": {
      "application/vnd.plotly.v1+json": {
       "config": {
        "plotlyServerURL": "https://plot.ly"
       },
       "data": [
        {
         "coloraxis": "coloraxis",
         "hovertemplate": "x: %{x}<br>y: %{y}<br>color: %{z}<extra></extra>",
         "name": "0",
         "type": "heatmap",
         "xaxis": "x",
         "yaxis": "y",
         "z": [
          [
           1570,
           1838,
           2204,
           2403,
           2530,
           2662,
           2700,
           2655,
           2692,
           2765,
           2702,
           2619,
           2654,
           2647,
           2556,
           2547,
           2637,
           2764,
           2838,
           2923,
           3002,
           3036,
           3048,
           3061,
           3032,
           2985,
           2852,
           2689
          ],
          [
           1400,
           1733,
           2086,
           2285,
           2391,
           2433,
           2410,
           2317,
           2285,
           2270,
           2198,
           2147,
           2172,
           2140,
           2053,
           2054,
           2147,
           2225,
           2287,
           2407,
           2504,
           2560,
           2575,
           2629,
           2586,
           2400,
           2126,
           1918
          ],
          [
           1795,
           2058,
           2292,
           2403,
           2456,
           2473,
           2425,
           2390,
           2354,
           2296,
           2169,
           2114,
           2094,
           2061,
           1973,
           1960,
           1975,
           1978,
           2085,
           2221,
           2385,
           2564,
           2731,
           2706,
           2636,
           2474,
           2244,
           2013
          ],
          [
           2090,
           2215,
           2379,
           2404,
           2389,
           2407,
           2476,
           2448,
           2343,
           2236,
           2060,
           1888,
           1931,
           2127,
           2231,
           2273,
           2340,
           2257,
           2190,
           2147,
           2295,
           2600,
           2736,
           2664,
           2641,
           2549,
           2430,
           2241
          ],
          [
           2287,
           2338,
           2473,
           2464,
           2381,
           2450,
           2532,
           2383,
           2161,
           2055,
           1816,
           1546,
           1728,
           2067,
           2314,
           2470,
           2582,
           2445,
           2210,
           2048,
           2165,
           2334,
           2402,
           2456,
           2499,
           2437,
           2298,
           2187
          ],
          [
           2633,
           2642,
           2656,
           2558,
           2497,
           2534,
           2480,
           2254,
           2102,
           1955,
           1682,
           1556,
           1694,
           1851,
           2017,
           2108,
           2124,
           2041,
           1910,
           1869,
           1927,
           2059,
           2177,
           2344,
           2485,
           2440,
           2222,
           2076
          ],
          [
           2958,
           2911,
           2828,
           2734,
           2730,
           2729,
           2558,
           2455,
           2305,
           1965,
           1756,
           1769,
           1790,
           1871,
           1967,
           1913,
           1917,
           2004,
           2211,
           2253,
           2333,
           2526,
           2498,
           2457,
           2548,
           2582,
           2461,
           2387
          ],
          [
           3011,
           2914,
           2858,
           2754,
           2746,
           2725,
           2649,
           2595,
           2391,
           2143,
           2049,
           2049,
           2252,
           2611,
           2712,
           2698,
           2805,
           2818,
           2893,
           2762,
           2826,
           2834,
           2714,
           2533,
           2587,
           2643,
           2625,
           2563
          ],
          [
           3030,
           2880,
           2729,
           2595,
           2556,
           2482,
           2450,
           2514,
           2437,
           2417,
           2508,
           2614,
           2926,
           3298,
           3523,
           3537,
           3586,
           3453,
           3223,
           2924,
           2742,
           2633,
           2512,
           2475,
           2626,
           2729,
           2723,
           2725
          ],
          [
           3264,
           2991,
           2724,
           2535,
           2378,
           2234,
           2231,
           2395,
           2436,
           2597,
           2974,
           3289,
           3466,
           3784,
           4020,
           3972,
           3966,
           3832,
           3687,
           3388,
           3129,
           2933,
           2792,
           2728,
           2773,
           2805,
           2784,
           2772
          ],
          [
           3291,
           3021,
           2823,
           2627,
           2419,
           2288,
           2362,
           2500,
           2525,
           2842,
           3411,
           3743,
           4002,
           4471,
           4669,
           4659,
           4587,
           4630,
           4571,
           4362,
           4173,
           3943,
           3567,
           3298,
           3094,
           2885,
           2764,
           2779
          ],
          [
           3145,
           2864,
           2601,
           2308,
           2165,
           2198,
           2480,
           2699,
           2969,
           3533,
           3863,
           4020,
           4566,
           5031,
           5278,
           5385,
           5393,
           5387,
           5333,
           5150,
           5033,
           4696,
           4284,
           3824,
           3359,
           2907,
           2745,
           2747
          ],
          [
           3127,
           2796,
           2486,
           2229,
           2154,
           2270,
           2714,
           3158,
           3709,
           4199,
           4354,
           4634,
           5176,
           5619,
           5957,
           6011,
           5902,
           5548,
           5311,
           5171,
           4983,
           4684,
           4489,
           4119,
           3545,
           3101,
           2963,
           2876
          ],
          [
           3064,
           2709,
           2460,
           2315,
           2341,
           2657,
           3119,
           3775,
           4338,
           4577,
           4743,
           5129,
           5581,
           5959,
           6089,
           5986,
           5757,
           5418,
           5240,
           5214,
           5185,
           4940,
           4674,
           4257,
           3692,
           3273,
           3127,
           3033
          ],
          [
           2893,
           2595,
           2442,
           2501,
           2721,
           3169,
           3754,
           4447,
           4677,
           4771,
           4759,
           5113,
           5623,
           5796,
           5678,
           5509,
           5332,
           5285,
           5310,
           5544,
           5802,
           5546,
           4989,
           4448,
           3766,
           3117,
           2916,
           2941
          ],
          [
           2865,
           2605,
           2564,
           2780,
           3129,
           3762,
           4595,
           4879,
           4843,
           4752,
           4459,
           4712,
           5144,
           5147,
           4974,
           4968,
           4873,
           4940,
           5174,
           5530,
           5916,
           5712,
           5166,
           4425,
           3529,
           2720,
           2462,
           2568
          ],
          [
           2857,
           2638,
           2831,
           3164,
           3615,
           4471,
           5186,
           4976,
           4734,
           4585,
           4361,
           4487,
           4755,
           4702,
           4555,
           4530,
           4423,
           4377,
           4517,
           4885,
           5266,
           5230,
           4853,
           4144,
           3402,
           2778,
           2502,
           2598
          ],
          [
           2775,
           2660,
           2825,
           3102,
           3786,
           4681,
           4912,
           4726,
           4736,
           4706,
           4497,
           4504,
           4584,
           4394,
           4066,
           3943,
           3923,
           3805,
           3880,
           4246,
           4565,
           4460,
           4086,
           3653,
           3224,
           2916,
           2829,
           3019
          ],
          [
           2683,
           2626,
           2650,
           3054,
           3822,
           4402,
           4421,
           4597,
           4849,
           4801,
           4512,
           4353,
           4161,
           3735,
           3429,
           3383,
           3393,
           3559,
           3823,
           4173,
           4365,
           4152,
           3795,
           3480,
           3167,
           2907,
           2927,
           3217
          ],
          [
           2811,
           2792,
           3019,
           3572,
           4094,
           4339,
           4424,
           4523,
           4637,
           4600,
           4274,
           4032,
           3689,
           3349,
           3086,
           3049,
           3159,
           3420,
           3699,
           3824,
           3845,
           3669,
           3432,
           3235,
           3029,
           2886,
           2934,
           3147
          ],
          [
           2788,
           2760,
           3221,
           3673,
           3952,
           4204,
           4295,
           4268,
           4376,
           4485,
           4294,
           4213,
           4025,
           3632,
           3296,
           3180,
           3121,
           3167,
           3212,
           3177,
           3161,
           3069,
           2990,
           3003,
           3063,
           3110,
           3153,
           3268
          ],
          [
           2749,
           2709,
           2922,
           3127,
           3399,
           3712,
           3843,
           3937,
           4178,
           4252,
           4125,
           4077,
           3929,
           3562,
           3283,
           3105,
           2952,
           2854,
           2841,
           2821,
           2788,
           2855,
           2933,
           3019,
           3112,
           3254,
           3416,
           3599
          ],
          [
           2959,
           2818,
           2767,
           2820,
           3051,
           3293,
           3451,
           3612,
           3816,
           3867,
           3820,
           3657,
           3495,
           3312,
           3128,
           3018,
           2981,
           3028,
           3030,
           2979,
           3002,
           3077,
           3117,
           3096,
           3111,
           3257,
           3486,
           3715
          ],
          [
           3280,
           2975,
           2885,
           2908,
           3018,
           3113,
           3208,
           3352,
           3518,
           3671,
           3573,
           3476,
           3335,
           3114,
           2937,
           2937,
           3014,
           3037,
           2949,
           2818,
           2755,
           2770,
           2848,
           2889,
           3054,
           3307,
           3484,
           3596
          ],
          [
           3492,
           3187,
           3140,
           3148,
           3174,
           3248,
           3261,
           3406,
           3550,
           3578,
           3555,
           3606,
           3431,
           3132,
           2990,
           2973,
           2964,
           2855,
           2744,
           2658,
           2569,
           2574,
           2689,
           2787,
           3028,
           3286,
           3322,
           3197
          ],
          [
           3696,
           3443,
           3383,
           3319,
           3249,
           3251,
           3242,
           3187,
           3201,
           3183,
           3197,
           3208,
           3136,
           2995,
           2949,
           2933,
           2894,
           2855,
           2826,
           2821,
           2830,
           2838,
           2796,
           2673,
           2777,
           3037,
           3029,
           2854
          ],
          [
           3800,
           3622,
           3561,
           3508,
           3447,
           3355,
           3186,
           2979,
           2902,
           2947,
           2955,
           2920,
           2896,
           2914,
           2890,
           2883,
           2937,
           2984,
           2932,
           2855,
           2851,
           2784,
           2615,
           2377,
           2521,
           2859,
           2868,
           2800
          ],
          [
           3905,
           3802,
           3870,
           3893,
           3881,
           3784,
           3548,
           3338,
           3226,
           3172,
           3111,
           3086,
           3068,
           3051,
           3038,
           3065,
           3083,
           3033,
           2948,
           2852,
           2809,
           2764,
           2678,
           2607,
           2866,
           3243,
           3224,
           3162
          ]
         ]
        },
        {
         "coloraxis": "coloraxis",
         "hovertemplate": "x: %{x}<br>y: %{y}<br>color: %{z}<extra></extra>",
         "name": "1",
         "type": "heatmap",
         "xaxis": "x2",
         "yaxis": "y2",
         "z": [
          [
           1988.5,
           2283.5,
           3128.5,
           3688.5,
           4027.5,
           4257.5,
           4310.5,
           4172,
           4096,
           4225.5,
           4272,
           4141.5,
           4186,
           4392,
           4257.5,
           4222,
           4238,
           4358.5,
           4552,
           4662.5,
           4789,
           4843.5,
           4776.5,
           4778,
           4774,
           4747,
           4643.5,
           4537
          ],
          [
           2281,
           2653.5,
           3412,
           3819,
           3997.5,
           4073,
           4103,
           3971.5,
           3881,
           4071,
           4096.5,
           3898,
           3962.5,
           4121,
           3974.5,
           3893.5,
           3909,
           4062.5,
           4205,
           4327.5,
           4554,
           4654,
           4468,
           4476.5,
           4461.5,
           4357,
           4065,
           3796.5
          ],
          [
           2875.5,
           3249.5,
           3823.5,
           4014.5,
           4085.5,
           4084.5,
           4060.5,
           3974.5,
           3952.5,
           4108.5,
           3936,
           3738,
           3739.5,
           3725.5,
           3565,
           3442,
           3525.5,
           3707.5,
           3788,
           3954.5,
           4253.5,
           4514.5,
           4614,
           4413,
           4348.5,
           4245.5,
           3827,
           3403
          ],
          [
           3449.5,
           3721,
           4142,
           4244.5,
           4194.5,
           4142,
           4168,
           4077.5,
           3979,
           3955.5,
           3683.5,
           3373,
           3321.5,
           3370,
           3291.5,
           3186.5,
           3536,
           3728.5,
           3518.5,
           3567,
           3919.5,
           4286.5,
           4596.5,
           4345,
           4321.5,
           4201.5,
           3764.5,
           3281.5
          ],
          [
           3975,
           4051.5,
           4334.5,
           4351.5,
           4264.5,
           4244,
           4273.5,
           4154,
           3945.5,
           3799,
           3435.5,
           2888.5,
           2870,
           3100.5,
           3226,
           3238,
           3732.5,
           3656,
           3286.5,
           3208,
           3472,
           3944,
           4336.5,
           4176,
           4302.5,
           4265,
           3878,
           3501.5
          ],
          [
           4536,
           4444.5,
           4589.5,
           4514.5,
           4383,
           4367.5,
           4361,
           4232.5,
           3919.5,
           3637.5,
           3110.5,
           2523,
           2586,
           2976,
           3339.5,
           3530.5,
           3965,
           3637,
           3239,
           2989,
           3144,
           3617.5,
           3997,
           3978.5,
           4303.5,
           4436.5,
           4153,
           3903.5
          ],
          [
           5018,
           4829.5,
           4855.5,
           4694.5,
           4565.5,
           4561.5,
           4509.5,
           4296,
           3957,
           3547.5,
           2868,
           2535,
           2678.5,
           3113,
           3716.5,
           3990,
           4342.5,
           3972,
           3637.5,
           3281,
           3306,
           3828,
           3969,
           3885,
           4302.5,
           4603.5,
           4427,
           4292.5
          ],
          [
           5331.5,
           5103.5,
           5023.5,
           4761.5,
           4652,
           4692,
           4535,
           4212.5,
           4057,
           3621,
           3011.5,
           3067,
           3262.5,
           3783,
           4335.5,
           4517.5,
           4937,
           4653.5,
           4569.5,
           4102,
           4035.5,
           4298.5,
           4228,
           3947,
           4273.5,
           4716.5,
           4620.5,
           4550.5
          ],
          [
           5550.5,
           5263.5,
           5062.5,
           4782.5,
           4711.5,
           4610.5,
           4298,
           4196,
           4226,
           3807.5,
           3642.5,
           4302,
           4383.5,
           4909.5,
           5384.5,
           5332.5,
           5722.5,
           5609,
           5658.5,
           5108,
           4962,
           4840.5,
           4430,
           4065,
           4306,
           4717.5,
           4698.5,
           4695
          ],
          [
           5694.5,
           5342.5,
           4990,
           4633,
           4454,
           4158,
           3918.5,
           4170,
           4305,
           4224.5,
           4688.5,
           5767,
           5762.5,
           6243.5,
           6753,
           6482,
           6673.5,
           6709,
           6757,
           6356.5,
           6096,
           5696,
           5101,
           4558,
           4607,
           4779.5,
           4768,
           4741.5
          ],
          [
           5635,
           5242.5,
           4849.5,
           4479.5,
           4218.5,
           3659.5,
           3717,
           4267,
           4448,
           4843,
           5899.5,
           6989.5,
           6917.5,
           7644,
           8193.5,
           7991,
           8041.5,
           7985.5,
           7988.5,
           7606.5,
           7315.5,
           6841,
           6040.5,
           5435.5,
           5276,
           4935.5,
           4769,
           4770.5
          ],
          [
           5601.5,
           5060,
           4598.5,
           4207.5,
           3896,
           3275.5,
           3672.5,
           4368.5,
           4743,
           5711,
           6998,
           7530,
           7805,
           8819.5,
           9272,
           9408.5,
           9405.5,
           9184.5,
           9015,
           8741.5,
           8544.5,
           7954,
           7154.5,
           6475,
           6029,
           5129.5,
           4776,
           4762.5
          ],
          [
           5505.5,
           4866.5,
           4440,
           4089.5,
           3789.5,
           3328.5,
           4112,
           4857.5,
           5428,
           6679.5,
           7668.5,
           7597.5,
           8435.5,
           9613,
           10164.5,
           10525,
           10373.5,
           9968,
           9657,
           9493.5,
           9339.5,
           8657.5,
           8129.5,
           7530,
           6714,
           5407,
           4967.5,
           4928
          ],
          [
           5390,
           4718.5,
           4416,
           4125,
           3960.5,
           3922.5,
           4885,
           5617,
           6470.5,
           7780,
           7813,
           7630.5,
           8914.5,
           10039,
           10552,
           10875.5,
           10657.5,
           10093,
           9617,
           9577.5,
           9696,
           9172.5,
           8723.5,
           8212,
           7138,
           5580,
           5115.5,
           5032
          ],
          [
           5243,
           4552,
           4333.5,
           4244.5,
           4392,
           4881,
           5660.5,
           6651,
           7759.5,
           8671,
           7831,
           7757,
           9171,
           9969,
           10073,
           10214.5,
           9953.5,
           9390.5,
           9065.5,
           9164,
           9511.5,
           9379.5,
           8996,
           8403,
           7223,
           5539,
           5006.5,
           4948.5
          ],
          [
           5102.5,
           4516,
           4517,
           4678,
           5144,
           5966,
           6825,
           7958,
           8865,
           9031.5,
           7820,
           7724,
           8917,
           9220,
           8747.5,
           8752,
           8459,
           8264.5,
           8349.5,
           8485.5,
           9062.5,
           9285.5,
           9035,
           8232,
           6938.5,
           5243.5,
           4632,
           4665
          ],
          [
           4959.5,
           4486,
           4743,
           5215.5,
           5988,
           6907,
           7998,
           8989.5,
           9161.5,
           8794.5,
           7622.5,
           7471.5,
           8284.5,
           8188,
           7295,
           7235.5,
           7001,
           7164,
           7477,
           7836,
           8589,
           9001,
           8757.5,
           7736.5,
           6540,
           4985,
           4251.5,
           4424
          ],
          [
           4822.5,
           4448.5,
           4823,
           5508,
           6369,
           7482,
           8368,
           9022,
           8841,
           8209.5,
           7280.5,
           7042.5,
           7449.5,
           7107.5,
           6140,
           6023,
           5927.5,
           6245.5,
           6629,
           7164.5,
           7925,
           8305,
           8055,
           7023,
           5952.5,
           4778.5,
           4189,
           4498
          ],
          [
           4741,
           4439.5,
           4876.5,
           5508,
           6291,
           7439.5,
           8135.5,
           8421.5,
           8231,
           7592,
           7014.5,
           6804.5,
           6789,
           6273,
           5486,
           5387.5,
           5452,
           5726.5,
           6019,
           6465.5,
           7086,
           7420.5,
           7209,
           6387,
           5546,
           4748,
           4451,
           4854.5
          ],
          [
           4785.5,
           4568,
           4959,
           5343.5,
           6049,
           6957.5,
           7445,
           7644,
           7710.5,
           7331.5,
           6986,
           6867.5,
           6564.5,
           6134.5,
           5262,
           5188,
           5331.5,
           5402,
           5519,
           5682.5,
           5987.5,
           6145.5,
           5966.5,
           5456,
           4960,
           4711.5,
           4833,
           5271.5
          ],
          [
           4872.5,
           4659.5,
           4917.5,
           5212,
           5731,
           6354,
           6701.5,
           7042.5,
           7461,
           7493.5,
           7250.5,
           7320.5,
           6955.5,
           6293.5,
           5583.5,
           5412.5,
           5324,
           5152.5,
           5131.5,
           5101.5,
           5089.5,
           4962.5,
           4785.5,
           4698.5,
           4588.5,
           4788,
           5170.5,
           5516.5
          ],
          [
           5059.5,
           4741.5,
           4878.5,
           5148,
           5478,
           5842.5,
           6196,
           6639,
           7167,
           7480.5,
           7376,
           7336.5,
           7158,
           6309,
           5621,
           5425.5,
           5224.5,
           4994.5,
           4915.5,
           4794.5,
           4597,
           4411.5,
           4344.5,
           4456,
           4532.5,
           4927,
           5392.5,
           5595
          ],
          [
           5308,
           4924,
           4949,
           5073.5,
           5300,
           5595.5,
           5905.5,
           6270.5,
           6710,
           7058.5,
           6971.5,
           6996.5,
           6923.5,
           6266,
           5643,
           5317,
           5049.5,
           4992.5,
           4934.5,
           4750.5,
           4581,
           4490.5,
           4449,
           4509.5,
           4722,
           5157.5,
           5550.5,
           5620.5
          ],
          [
           5614.5,
           5049,
           4996,
           5070,
           5145.5,
           5372,
           5638,
           5864,
           6033.5,
           6271,
           6221,
           6310,
           6331,
           5892,
           5469.5,
           5167,
           4912.5,
           4890,
           4935.5,
           4816.5,
           4689.5,
           4659.5,
           4707,
           4747,
           5005,
           5454,
           5711,
           5635
          ],
          [
           6074,
           5340.5,
           5149.5,
           5122,
           5130,
           5262,
           5369,
           5466,
           5478,
           5511.5,
           5478.5,
           5558.5,
           5664.5,
           5467,
           5203,
           4995,
           4856.5,
           4904,
           4967.5,
           4914.5,
           4911.5,
           4856.5,
           4930,
           4983,
           5246.5,
           5672,
           5691,
           5385
          ],
          [
           6513.5,
           5759.5,
           5532,
           5388.5,
           5274,
           5264,
           5223,
           5158,
           5071,
           4991,
           4955.5,
           5059,
           5105.5,
           5067,
           4936,
           4904,
           4941.5,
           5040.5,
           5034,
           4943.5,
           5046.5,
           5003.5,
           4967.5,
           4892.5,
           5172,
           5568.5,
           5321,
           4765
          ],
          [
           6708,
           6089.5,
           6001,
           5843,
           5669.5,
           5569.5,
           5403,
           5242.5,
           5032,
           4852.5,
           4827,
           4922,
           4911.5,
           4885.5,
           4800.5,
           4849.5,
           4987.5,
           5088.5,
           5016.5,
           4857,
           4866,
           4753.5,
           4655.5,
           4453,
           4735,
           5056.5,
           4710.5,
           4136.5
          ],
          [
           6866.5,
           6443.5,
           6526,
           6446.5,
           6328.5,
           6236,
           6021.5,
           5767.5,
           5476,
           5254.5,
           5198,
           5207,
           5155.5,
           5115,
           5016,
           5080,
           5206.5,
           5204,
           5028,
           4816.5,
           4763,
           4579,
           4415.5,
           4222.5,
           4485,
           4747,
           4476.5,
           4211.5
          ]
         ]
        }
       ],
       "layout": {
        "annotations": [
         {
          "font": {},
          "showarrow": false,
          "text": "facet_col=0",
          "x": 0.245,
          "xanchor": "center",
          "xref": "paper",
          "y": 1,
          "yanchor": "bottom",
          "yref": "paper"
         },
         {
          "font": {},
          "showarrow": false,
          "text": "facet_col=1",
          "x": 0.755,
          "xanchor": "center",
          "xref": "paper",
          "y": 1,
          "yanchor": "bottom",
          "yref": "paper"
         }
        ],
        "coloraxis": {
         "colorscale": [
          [
           0,
           "#0d0887"
          ],
          [
           0.1111111111111111,
           "#46039f"
          ],
          [
           0.2222222222222222,
           "#7201a8"
          ],
          [
           0.3333333333333333,
           "#9c179e"
          ],
          [
           0.4444444444444444,
           "#bd3786"
          ],
          [
           0.5555555555555556,
           "#d8576b"
          ],
          [
           0.6666666666666666,
           "#ed7953"
          ],
          [
           0.7777777777777778,
           "#fb9f3a"
          ],
          [
           0.8888888888888888,
           "#fdca26"
          ],
          [
           1,
           "#f0f921"
          ]
         ]
        },
        "margin": {
         "t": 60
        },
        "template": {
         "data": {
          "bar": [
           {
            "error_x": {
             "color": "#2a3f5f"
            },
            "error_y": {
             "color": "#2a3f5f"
            },
            "marker": {
             "line": {
              "color": "#E5ECF6",
              "width": 0.5
             },
             "pattern": {
              "fillmode": "overlay",
              "size": 10,
              "solidity": 0.2
             }
            },
            "type": "bar"
           }
          ],
          "barpolar": [
           {
            "marker": {
             "line": {
              "color": "#E5ECF6",
              "width": 0.5
             },
             "pattern": {
              "fillmode": "overlay",
              "size": 10,
              "solidity": 0.2
             }
            },
            "type": "barpolar"
           }
          ],
          "carpet": [
           {
            "aaxis": {
             "endlinecolor": "#2a3f5f",
             "gridcolor": "white",
             "linecolor": "white",
             "minorgridcolor": "white",
             "startlinecolor": "#2a3f5f"
            },
            "baxis": {
             "endlinecolor": "#2a3f5f",
             "gridcolor": "white",
             "linecolor": "white",
             "minorgridcolor": "white",
             "startlinecolor": "#2a3f5f"
            },
            "type": "carpet"
           }
          ],
          "choropleth": [
           {
            "colorbar": {
             "outlinewidth": 0,
             "ticks": ""
            },
            "type": "choropleth"
           }
          ],
          "contour": [
           {
            "colorbar": {
             "outlinewidth": 0,
             "ticks": ""
            },
            "colorscale": [
             [
              0,
              "#0d0887"
             ],
             [
              0.1111111111111111,
              "#46039f"
             ],
             [
              0.2222222222222222,
              "#7201a8"
             ],
             [
              0.3333333333333333,
              "#9c179e"
             ],
             [
              0.4444444444444444,
              "#bd3786"
             ],
             [
              0.5555555555555556,
              "#d8576b"
             ],
             [
              0.6666666666666666,
              "#ed7953"
             ],
             [
              0.7777777777777778,
              "#fb9f3a"
             ],
             [
              0.8888888888888888,
              "#fdca26"
             ],
             [
              1,
              "#f0f921"
             ]
            ],
            "type": "contour"
           }
          ],
          "contourcarpet": [
           {
            "colorbar": {
             "outlinewidth": 0,
             "ticks": ""
            },
            "type": "contourcarpet"
           }
          ],
          "heatmap": [
           {
            "colorbar": {
             "outlinewidth": 0,
             "ticks": ""
            },
            "colorscale": [
             [
              0,
              "#0d0887"
             ],
             [
              0.1111111111111111,
              "#46039f"
             ],
             [
              0.2222222222222222,
              "#7201a8"
             ],
             [
              0.3333333333333333,
              "#9c179e"
             ],
             [
              0.4444444444444444,
              "#bd3786"
             ],
             [
              0.5555555555555556,
              "#d8576b"
             ],
             [
              0.6666666666666666,
              "#ed7953"
             ],
             [
              0.7777777777777778,
              "#fb9f3a"
             ],
             [
              0.8888888888888888,
              "#fdca26"
             ],
             [
              1,
              "#f0f921"
             ]
            ],
            "type": "heatmap"
           }
          ],
          "heatmapgl": [
           {
            "colorbar": {
             "outlinewidth": 0,
             "ticks": ""
            },
            "colorscale": [
             [
              0,
              "#0d0887"
             ],
             [
              0.1111111111111111,
              "#46039f"
             ],
             [
              0.2222222222222222,
              "#7201a8"
             ],
             [
              0.3333333333333333,
              "#9c179e"
             ],
             [
              0.4444444444444444,
              "#bd3786"
             ],
             [
              0.5555555555555556,
              "#d8576b"
             ],
             [
              0.6666666666666666,
              "#ed7953"
             ],
             [
              0.7777777777777778,
              "#fb9f3a"
             ],
             [
              0.8888888888888888,
              "#fdca26"
             ],
             [
              1,
              "#f0f921"
             ]
            ],
            "type": "heatmapgl"
           }
          ],
          "histogram": [
           {
            "marker": {
             "pattern": {
              "fillmode": "overlay",
              "size": 10,
              "solidity": 0.2
             }
            },
            "type": "histogram"
           }
          ],
          "histogram2d": [
           {
            "colorbar": {
             "outlinewidth": 0,
             "ticks": ""
            },
            "colorscale": [
             [
              0,
              "#0d0887"
             ],
             [
              0.1111111111111111,
              "#46039f"
             ],
             [
              0.2222222222222222,
              "#7201a8"
             ],
             [
              0.3333333333333333,
              "#9c179e"
             ],
             [
              0.4444444444444444,
              "#bd3786"
             ],
             [
              0.5555555555555556,
              "#d8576b"
             ],
             [
              0.6666666666666666,
              "#ed7953"
             ],
             [
              0.7777777777777778,
              "#fb9f3a"
             ],
             [
              0.8888888888888888,
              "#fdca26"
             ],
             [
              1,
              "#f0f921"
             ]
            ],
            "type": "histogram2d"
           }
          ],
          "histogram2dcontour": [
           {
            "colorbar": {
             "outlinewidth": 0,
             "ticks": ""
            },
            "colorscale": [
             [
              0,
              "#0d0887"
             ],
             [
              0.1111111111111111,
              "#46039f"
             ],
             [
              0.2222222222222222,
              "#7201a8"
             ],
             [
              0.3333333333333333,
              "#9c179e"
             ],
             [
              0.4444444444444444,
              "#bd3786"
             ],
             [
              0.5555555555555556,
              "#d8576b"
             ],
             [
              0.6666666666666666,
              "#ed7953"
             ],
             [
              0.7777777777777778,
              "#fb9f3a"
             ],
             [
              0.8888888888888888,
              "#fdca26"
             ],
             [
              1,
              "#f0f921"
             ]
            ],
            "type": "histogram2dcontour"
           }
          ],
          "mesh3d": [
           {
            "colorbar": {
             "outlinewidth": 0,
             "ticks": ""
            },
            "type": "mesh3d"
           }
          ],
          "parcoords": [
           {
            "line": {
             "colorbar": {
              "outlinewidth": 0,
              "ticks": ""
             }
            },
            "type": "parcoords"
           }
          ],
          "pie": [
           {
            "automargin": true,
            "type": "pie"
           }
          ],
          "scatter": [
           {
            "fillpattern": {
             "fillmode": "overlay",
             "size": 10,
             "solidity": 0.2
            },
            "type": "scatter"
           }
          ],
          "scatter3d": [
           {
            "line": {
             "colorbar": {
              "outlinewidth": 0,
              "ticks": ""
             }
            },
            "marker": {
             "colorbar": {
              "outlinewidth": 0,
              "ticks": ""
             }
            },
            "type": "scatter3d"
           }
          ],
          "scattercarpet": [
           {
            "marker": {
             "colorbar": {
              "outlinewidth": 0,
              "ticks": ""
             }
            },
            "type": "scattercarpet"
           }
          ],
          "scattergeo": [
           {
            "marker": {
             "colorbar": {
              "outlinewidth": 0,
              "ticks": ""
             }
            },
            "type": "scattergeo"
           }
          ],
          "scattergl": [
           {
            "marker": {
             "colorbar": {
              "outlinewidth": 0,
              "ticks": ""
             }
            },
            "type": "scattergl"
           }
          ],
          "scattermapbox": [
           {
            "marker": {
             "colorbar": {
              "outlinewidth": 0,
              "ticks": ""
             }
            },
            "type": "scattermapbox"
           }
          ],
          "scatterpolar": [
           {
            "marker": {
             "colorbar": {
              "outlinewidth": 0,
              "ticks": ""
             }
            },
            "type": "scatterpolar"
           }
          ],
          "scatterpolargl": [
           {
            "marker": {
             "colorbar": {
              "outlinewidth": 0,
              "ticks": ""
             }
            },
            "type": "scatterpolargl"
           }
          ],
          "scatterternary": [
           {
            "marker": {
             "colorbar": {
              "outlinewidth": 0,
              "ticks": ""
             }
            },
            "type": "scatterternary"
           }
          ],
          "surface": [
           {
            "colorbar": {
             "outlinewidth": 0,
             "ticks": ""
            },
            "colorscale": [
             [
              0,
              "#0d0887"
             ],
             [
              0.1111111111111111,
              "#46039f"
             ],
             [
              0.2222222222222222,
              "#7201a8"
             ],
             [
              0.3333333333333333,
              "#9c179e"
             ],
             [
              0.4444444444444444,
              "#bd3786"
             ],
             [
              0.5555555555555556,
              "#d8576b"
             ],
             [
              0.6666666666666666,
              "#ed7953"
             ],
             [
              0.7777777777777778,
              "#fb9f3a"
             ],
             [
              0.8888888888888888,
              "#fdca26"
             ],
             [
              1,
              "#f0f921"
             ]
            ],
            "type": "surface"
           }
          ],
          "table": [
           {
            "cells": {
             "fill": {
              "color": "#EBF0F8"
             },
             "line": {
              "color": "white"
             }
            },
            "header": {
             "fill": {
              "color": "#C8D4E3"
             },
             "line": {
              "color": "white"
             }
            },
            "type": "table"
           }
          ]
         },
         "layout": {
          "annotationdefaults": {
           "arrowcolor": "#2a3f5f",
           "arrowhead": 0,
           "arrowwidth": 1
          },
          "autotypenumbers": "strict",
          "coloraxis": {
           "colorbar": {
            "outlinewidth": 0,
            "ticks": ""
           }
          },
          "colorscale": {
           "diverging": [
            [
             0,
             "#8e0152"
            ],
            [
             0.1,
             "#c51b7d"
            ],
            [
             0.2,
             "#de77ae"
            ],
            [
             0.3,
             "#f1b6da"
            ],
            [
             0.4,
             "#fde0ef"
            ],
            [
             0.5,
             "#f7f7f7"
            ],
            [
             0.6,
             "#e6f5d0"
            ],
            [
             0.7,
             "#b8e186"
            ],
            [
             0.8,
             "#7fbc41"
            ],
            [
             0.9,
             "#4d9221"
            ],
            [
             1,
             "#276419"
            ]
           ],
           "sequential": [
            [
             0,
             "#0d0887"
            ],
            [
             0.1111111111111111,
             "#46039f"
            ],
            [
             0.2222222222222222,
             "#7201a8"
            ],
            [
             0.3333333333333333,
             "#9c179e"
            ],
            [
             0.4444444444444444,
             "#bd3786"
            ],
            [
             0.5555555555555556,
             "#d8576b"
            ],
            [
             0.6666666666666666,
             "#ed7953"
            ],
            [
             0.7777777777777778,
             "#fb9f3a"
            ],
            [
             0.8888888888888888,
             "#fdca26"
            ],
            [
             1,
             "#f0f921"
            ]
           ],
           "sequentialminus": [
            [
             0,
             "#0d0887"
            ],
            [
             0.1111111111111111,
             "#46039f"
            ],
            [
             0.2222222222222222,
             "#7201a8"
            ],
            [
             0.3333333333333333,
             "#9c179e"
            ],
            [
             0.4444444444444444,
             "#bd3786"
            ],
            [
             0.5555555555555556,
             "#d8576b"
            ],
            [
             0.6666666666666666,
             "#ed7953"
            ],
            [
             0.7777777777777778,
             "#fb9f3a"
            ],
            [
             0.8888888888888888,
             "#fdca26"
            ],
            [
             1,
             "#f0f921"
            ]
           ]
          },
          "colorway": [
           "#636efa",
           "#EF553B",
           "#00cc96",
           "#ab63fa",
           "#FFA15A",
           "#19d3f3",
           "#FF6692",
           "#B6E880",
           "#FF97FF",
           "#FECB52"
          ],
          "font": {
           "color": "#2a3f5f"
          },
          "geo": {
           "bgcolor": "white",
           "lakecolor": "white",
           "landcolor": "#E5ECF6",
           "showlakes": true,
           "showland": true,
           "subunitcolor": "white"
          },
          "hoverlabel": {
           "align": "left"
          },
          "hovermode": "closest",
          "mapbox": {
           "style": "light"
          },
          "paper_bgcolor": "white",
          "plot_bgcolor": "#E5ECF6",
          "polar": {
           "angularaxis": {
            "gridcolor": "white",
            "linecolor": "white",
            "ticks": ""
           },
           "bgcolor": "#E5ECF6",
           "radialaxis": {
            "gridcolor": "white",
            "linecolor": "white",
            "ticks": ""
           }
          },
          "scene": {
           "xaxis": {
            "backgroundcolor": "#E5ECF6",
            "gridcolor": "white",
            "gridwidth": 2,
            "linecolor": "white",
            "showbackground": true,
            "ticks": "",
            "zerolinecolor": "white"
           },
           "yaxis": {
            "backgroundcolor": "#E5ECF6",
            "gridcolor": "white",
            "gridwidth": 2,
            "linecolor": "white",
            "showbackground": true,
            "ticks": "",
            "zerolinecolor": "white"
           },
           "zaxis": {
            "backgroundcolor": "#E5ECF6",
            "gridcolor": "white",
            "gridwidth": 2,
            "linecolor": "white",
            "showbackground": true,
            "ticks": "",
            "zerolinecolor": "white"
           }
          },
          "shapedefaults": {
           "line": {
            "color": "#2a3f5f"
           }
          },
          "ternary": {
           "aaxis": {
            "gridcolor": "white",
            "linecolor": "white",
            "ticks": ""
           },
           "baxis": {
            "gridcolor": "white",
            "linecolor": "white",
            "ticks": ""
           },
           "bgcolor": "#E5ECF6",
           "caxis": {
            "gridcolor": "white",
            "linecolor": "white",
            "ticks": ""
           }
          },
          "title": {
           "x": 0.05
          },
          "xaxis": {
           "automargin": true,
           "gridcolor": "white",
           "linecolor": "white",
           "ticks": "",
           "title": {
            "standoff": 15
           },
           "zerolinecolor": "white",
           "zerolinewidth": 2
          },
          "yaxis": {
           "automargin": true,
           "gridcolor": "white",
           "linecolor": "white",
           "ticks": "",
           "title": {
            "standoff": 15
           },
           "zerolinecolor": "white",
           "zerolinewidth": 2
          }
         }
        },
        "xaxis": {
         "anchor": "y",
         "constrain": "domain",
         "domain": [
          0,
          0.49
         ],
         "scaleanchor": "y"
        },
        "xaxis2": {
         "anchor": "y2",
         "domain": [
          0.51,
          1
         ],
         "matches": "x"
        },
        "yaxis": {
         "anchor": "x",
         "autorange": "reversed",
         "constrain": "domain",
         "domain": [
          0,
          1
         ]
        },
        "yaxis2": {
         "anchor": "x2",
         "domain": [
          0,
          1
         ],
         "matches": "y",
         "showticklabels": false
        }
       }
      }
     },
     "metadata": {},
     "output_type": "display_data"
    }
   ],
   "source": [
    "def cross_correlate_multi_channel_2d(multi_channels_input:np.ndarray, multi_channels_kernels:np.ndarray) -> np.ndarray:\n",
    "    activation_maps = []\n",
    "    for kernel in multi_channels_kernels.swapaxes(3, 1):\n",
    "        activation_channel_maps = [correlate2d(input_channel, kernel_channel, mode=\"valid\") for input_channel, kernel_channel in zip(multi_channels_input.swapaxes(2, 0), kernel)]\n",
    "        activation_channel_maps = np.stack(activation_channel_maps)\n",
    "        multi_channel_scipy_cross_correlation = np.sum(activation_channel_maps, axis=0)\n",
    "        activation_maps.append(multi_channel_scipy_cross_correlation.T)\n",
    "    return np.stack(activation_maps)\n",
    "activation_maps = cross_correlate_multi_channel_2d(multi_channels_input, multi_channels_kernels)\n",
    "display(activation_maps.shape)\n",
    "display(\"scipy\")\n",
    "px.imshow(activation_maps, facet_col=0).show()\n",
    "display(\"custom\")\n",
    "px.imshow(\n",
    "    reshaped_mutli_channels_correlation,\n",
    "    facet_col=2\n",
    ")"
   ]
  },
  {
   "cell_type": "markdown",
   "metadata": {},
   "source": [
    "## Multi kernels, channels, inputs cross correlation\n",
    "Here we simply need to modify the flatten input by upgrading it to a 3D array."
   ]
  },
  {
   "cell_type": "markdown",
   "metadata": {},
   "source": [
    "Let's add another forg to the input."
   ]
  },
  {
   "cell_type": "code",
   "execution_count": 21,
   "metadata": {},
   "outputs": [
    {
     "data": {
      "application/vnd.plotly.v1+json": {
       "config": {
        "plotlyServerURL": "https://plot.ly"
       },
       "data": [
        {
         "hovertemplate": "x: %{x}<br>y: %{y}<br>color: %{z}<extra></extra>",
         "name": "0",
         "source": "data:image/png;base64,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",
         "type": "image",
         "xaxis": "x",
         "yaxis": "y"
        },
        {
         "hovertemplate": "x: %{x}<br>y: %{y}<br>color: %{z}<extra></extra>",
         "name": "1",
         "source": "data:image/png;base64,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",
         "type": "image",
         "xaxis": "x2",
         "yaxis": "y2"
        }
       ],
       "layout": {
        "annotations": [
         {
          "font": {},
          "showarrow": false,
          "text": "facet_col=0",
          "x": 0.245,
          "xanchor": "center",
          "xref": "paper",
          "y": 1,
          "yanchor": "bottom",
          "yref": "paper"
         },
         {
          "font": {},
          "showarrow": false,
          "text": "facet_col=1",
          "x": 0.755,
          "xanchor": "center",
          "xref": "paper",
          "y": 1,
          "yanchor": "bottom",
          "yref": "paper"
         }
        ],
        "margin": {
         "t": 60
        },
        "template": {
         "data": {
          "bar": [
           {
            "error_x": {
             "color": "#2a3f5f"
            },
            "error_y": {
             "color": "#2a3f5f"
            },
            "marker": {
             "line": {
              "color": "#E5ECF6",
              "width": 0.5
             },
             "pattern": {
              "fillmode": "overlay",
              "size": 10,
              "solidity": 0.2
             }
            },
            "type": "bar"
           }
          ],
          "barpolar": [
           {
            "marker": {
             "line": {
              "color": "#E5ECF6",
              "width": 0.5
             },
             "pattern": {
              "fillmode": "overlay",
              "size": 10,
              "solidity": 0.2
             }
            },
            "type": "barpolar"
           }
          ],
          "carpet": [
           {
            "aaxis": {
             "endlinecolor": "#2a3f5f",
             "gridcolor": "white",
             "linecolor": "white",
             "minorgridcolor": "white",
             "startlinecolor": "#2a3f5f"
            },
            "baxis": {
             "endlinecolor": "#2a3f5f",
             "gridcolor": "white",
             "linecolor": "white",
             "minorgridcolor": "white",
             "startlinecolor": "#2a3f5f"
            },
            "type": "carpet"
           }
          ],
          "choropleth": [
           {
            "colorbar": {
             "outlinewidth": 0,
             "ticks": ""
            },
            "type": "choropleth"
           }
          ],
          "contour": [
           {
            "colorbar": {
             "outlinewidth": 0,
             "ticks": ""
            },
            "colorscale": [
             [
              0,
              "#0d0887"
             ],
             [
              0.1111111111111111,
              "#46039f"
             ],
             [
              0.2222222222222222,
              "#7201a8"
             ],
             [
              0.3333333333333333,
              "#9c179e"
             ],
             [
              0.4444444444444444,
              "#bd3786"
             ],
             [
              0.5555555555555556,
              "#d8576b"
             ],
             [
              0.6666666666666666,
              "#ed7953"
             ],
             [
              0.7777777777777778,
              "#fb9f3a"
             ],
             [
              0.8888888888888888,
              "#fdca26"
             ],
             [
              1,
              "#f0f921"
             ]
            ],
            "type": "contour"
           }
          ],
          "contourcarpet": [
           {
            "colorbar": {
             "outlinewidth": 0,
             "ticks": ""
            },
            "type": "contourcarpet"
           }
          ],
          "heatmap": [
           {
            "colorbar": {
             "outlinewidth": 0,
             "ticks": ""
            },
            "colorscale": [
             [
              0,
              "#0d0887"
             ],
             [
              0.1111111111111111,
              "#46039f"
             ],
             [
              0.2222222222222222,
              "#7201a8"
             ],
             [
              0.3333333333333333,
              "#9c179e"
             ],
             [
              0.4444444444444444,
              "#bd3786"
             ],
             [
              0.5555555555555556,
              "#d8576b"
             ],
             [
              0.6666666666666666,
              "#ed7953"
             ],
             [
              0.7777777777777778,
              "#fb9f3a"
             ],
             [
              0.8888888888888888,
              "#fdca26"
             ],
             [
              1,
              "#f0f921"
             ]
            ],
            "type": "heatmap"
           }
          ],
          "heatmapgl": [
           {
            "colorbar": {
             "outlinewidth": 0,
             "ticks": ""
            },
            "colorscale": [
             [
              0,
              "#0d0887"
             ],
             [
              0.1111111111111111,
              "#46039f"
             ],
             [
              0.2222222222222222,
              "#7201a8"
             ],
             [
              0.3333333333333333,
              "#9c179e"
             ],
             [
              0.4444444444444444,
              "#bd3786"
             ],
             [
              0.5555555555555556,
              "#d8576b"
             ],
             [
              0.6666666666666666,
              "#ed7953"
             ],
             [
              0.7777777777777778,
              "#fb9f3a"
             ],
             [
              0.8888888888888888,
              "#fdca26"
             ],
             [
              1,
              "#f0f921"
             ]
            ],
            "type": "heatmapgl"
           }
          ],
          "histogram": [
           {
            "marker": {
             "pattern": {
              "fillmode": "overlay",
              "size": 10,
              "solidity": 0.2
             }
            },
            "type": "histogram"
           }
          ],
          "histogram2d": [
           {
            "colorbar": {
             "outlinewidth": 0,
             "ticks": ""
            },
            "colorscale": [
             [
              0,
              "#0d0887"
             ],
             [
              0.1111111111111111,
              "#46039f"
             ],
             [
              0.2222222222222222,
              "#7201a8"
             ],
             [
              0.3333333333333333,
              "#9c179e"
             ],
             [
              0.4444444444444444,
              "#bd3786"
             ],
             [
              0.5555555555555556,
              "#d8576b"
             ],
             [
              0.6666666666666666,
              "#ed7953"
             ],
             [
              0.7777777777777778,
              "#fb9f3a"
             ],
             [
              0.8888888888888888,
              "#fdca26"
             ],
             [
              1,
              "#f0f921"
             ]
            ],
            "type": "histogram2d"
           }
          ],
          "histogram2dcontour": [
           {
            "colorbar": {
             "outlinewidth": 0,
             "ticks": ""
            },
            "colorscale": [
             [
              0,
              "#0d0887"
             ],
             [
              0.1111111111111111,
              "#46039f"
             ],
             [
              0.2222222222222222,
              "#7201a8"
             ],
             [
              0.3333333333333333,
              "#9c179e"
             ],
             [
              0.4444444444444444,
              "#bd3786"
             ],
             [
              0.5555555555555556,
              "#d8576b"
             ],
             [
              0.6666666666666666,
              "#ed7953"
             ],
             [
              0.7777777777777778,
              "#fb9f3a"
             ],
             [
              0.8888888888888888,
              "#fdca26"
             ],
             [
              1,
              "#f0f921"
             ]
            ],
            "type": "histogram2dcontour"
           }
          ],
          "mesh3d": [
           {
            "colorbar": {
             "outlinewidth": 0,
             "ticks": ""
            },
            "type": "mesh3d"
           }
          ],
          "parcoords": [
           {
            "line": {
             "colorbar": {
              "outlinewidth": 0,
              "ticks": ""
             }
            },
            "type": "parcoords"
           }
          ],
          "pie": [
           {
            "automargin": true,
            "type": "pie"
           }
          ],
          "scatter": [
           {
            "fillpattern": {
             "fillmode": "overlay",
             "size": 10,
             "solidity": 0.2
            },
            "type": "scatter"
           }
          ],
          "scatter3d": [
           {
            "line": {
             "colorbar": {
              "outlinewidth": 0,
              "ticks": ""
             }
            },
            "marker": {
             "colorbar": {
              "outlinewidth": 0,
              "ticks": ""
             }
            },
            "type": "scatter3d"
           }
          ],
          "scattercarpet": [
           {
            "marker": {
             "colorbar": {
              "outlinewidth": 0,
              "ticks": ""
             }
            },
            "type": "scattercarpet"
           }
          ],
          "scattergeo": [
           {
            "marker": {
             "colorbar": {
              "outlinewidth": 0,
              "ticks": ""
             }
            },
            "type": "scattergeo"
           }
          ],
          "scattergl": [
           {
            "marker": {
             "colorbar": {
              "outlinewidth": 0,
              "ticks": ""
             }
            },
            "type": "scattergl"
           }
          ],
          "scattermapbox": [
           {
            "marker": {
             "colorbar": {
              "outlinewidth": 0,
              "ticks": ""
             }
            },
            "type": "scattermapbox"
           }
          ],
          "scatterpolar": [
           {
            "marker": {
             "colorbar": {
              "outlinewidth": 0,
              "ticks": ""
             }
            },
            "type": "scatterpolar"
           }
          ],
          "scatterpolargl": [
           {
            "marker": {
             "colorbar": {
              "outlinewidth": 0,
              "ticks": ""
             }
            },
            "type": "scatterpolargl"
           }
          ],
          "scatterternary": [
           {
            "marker": {
             "colorbar": {
              "outlinewidth": 0,
              "ticks": ""
             }
            },
            "type": "scatterternary"
           }
          ],
          "surface": [
           {
            "colorbar": {
             "outlinewidth": 0,
             "ticks": ""
            },
            "colorscale": [
             [
              0,
              "#0d0887"
             ],
             [
              0.1111111111111111,
              "#46039f"
             ],
             [
              0.2222222222222222,
              "#7201a8"
             ],
             [
              0.3333333333333333,
              "#9c179e"
             ],
             [
              0.4444444444444444,
              "#bd3786"
             ],
             [
              0.5555555555555556,
              "#d8576b"
             ],
             [
              0.6666666666666666,
              "#ed7953"
             ],
             [
              0.7777777777777778,
              "#fb9f3a"
             ],
             [
              0.8888888888888888,
              "#fdca26"
             ],
             [
              1,
              "#f0f921"
             ]
            ],
            "type": "surface"
           }
          ],
          "table": [
           {
            "cells": {
             "fill": {
              "color": "#EBF0F8"
             },
             "line": {
              "color": "white"
             }
            },
            "header": {
             "fill": {
              "color": "#C8D4E3"
             },
             "line": {
              "color": "white"
             }
            },
            "type": "table"
           }
          ]
         },
         "layout": {
          "annotationdefaults": {
           "arrowcolor": "#2a3f5f",
           "arrowhead": 0,
           "arrowwidth": 1
          },
          "autotypenumbers": "strict",
          "coloraxis": {
           "colorbar": {
            "outlinewidth": 0,
            "ticks": ""
           }
          },
          "colorscale": {
           "diverging": [
            [
             0,
             "#8e0152"
            ],
            [
             0.1,
             "#c51b7d"
            ],
            [
             0.2,
             "#de77ae"
            ],
            [
             0.3,
             "#f1b6da"
            ],
            [
             0.4,
             "#fde0ef"
            ],
            [
             0.5,
             "#f7f7f7"
            ],
            [
             0.6,
             "#e6f5d0"
            ],
            [
             0.7,
             "#b8e186"
            ],
            [
             0.8,
             "#7fbc41"
            ],
            [
             0.9,
             "#4d9221"
            ],
            [
             1,
             "#276419"
            ]
           ],
           "sequential": [
            [
             0,
             "#0d0887"
            ],
            [
             0.1111111111111111,
             "#46039f"
            ],
            [
             0.2222222222222222,
             "#7201a8"
            ],
            [
             0.3333333333333333,
             "#9c179e"
            ],
            [
             0.4444444444444444,
             "#bd3786"
            ],
            [
             0.5555555555555556,
             "#d8576b"
            ],
            [
             0.6666666666666666,
             "#ed7953"
            ],
            [
             0.7777777777777778,
             "#fb9f3a"
            ],
            [
             0.8888888888888888,
             "#fdca26"
            ],
            [
             1,
             "#f0f921"
            ]
           ],
           "sequentialminus": [
            [
             0,
             "#0d0887"
            ],
            [
             0.1111111111111111,
             "#46039f"
            ],
            [
             0.2222222222222222,
             "#7201a8"
            ],
            [
             0.3333333333333333,
             "#9c179e"
            ],
            [
             0.4444444444444444,
             "#bd3786"
            ],
            [
             0.5555555555555556,
             "#d8576b"
            ],
            [
             0.6666666666666666,
             "#ed7953"
            ],
            [
             0.7777777777777778,
             "#fb9f3a"
            ],
            [
             0.8888888888888888,
             "#fdca26"
            ],
            [
             1,
             "#f0f921"
            ]
           ]
          },
          "colorway": [
           "#636efa",
           "#EF553B",
           "#00cc96",
           "#ab63fa",
           "#FFA15A",
           "#19d3f3",
           "#FF6692",
           "#B6E880",
           "#FF97FF",
           "#FECB52"
          ],
          "font": {
           "color": "#2a3f5f"
          },
          "geo": {
           "bgcolor": "white",
           "lakecolor": "white",
           "landcolor": "#E5ECF6",
           "showlakes": true,
           "showland": true,
           "subunitcolor": "white"
          },
          "hoverlabel": {
           "align": "left"
          },
          "hovermode": "closest",
          "mapbox": {
           "style": "light"
          },
          "paper_bgcolor": "white",
          "plot_bgcolor": "#E5ECF6",
          "polar": {
           "angularaxis": {
            "gridcolor": "white",
            "linecolor": "white",
            "ticks": ""
           },
           "bgcolor": "#E5ECF6",
           "radialaxis": {
            "gridcolor": "white",
            "linecolor": "white",
            "ticks": ""
           }
          },
          "scene": {
           "xaxis": {
            "backgroundcolor": "#E5ECF6",
            "gridcolor": "white",
            "gridwidth": 2,
            "linecolor": "white",
            "showbackground": true,
            "ticks": "",
            "zerolinecolor": "white"
           },
           "yaxis": {
            "backgroundcolor": "#E5ECF6",
            "gridcolor": "white",
            "gridwidth": 2,
            "linecolor": "white",
            "showbackground": true,
            "ticks": "",
            "zerolinecolor": "white"
           },
           "zaxis": {
            "backgroundcolor": "#E5ECF6",
            "gridcolor": "white",
            "gridwidth": 2,
            "linecolor": "white",
            "showbackground": true,
            "ticks": "",
            "zerolinecolor": "white"
           }
          },
          "shapedefaults": {
           "line": {
            "color": "#2a3f5f"
           }
          },
          "ternary": {
           "aaxis": {
            "gridcolor": "white",
            "linecolor": "white",
            "ticks": ""
           },
           "baxis": {
            "gridcolor": "white",
            "linecolor": "white",
            "ticks": ""
           },
           "bgcolor": "#E5ECF6",
           "caxis": {
            "gridcolor": "white",
            "linecolor": "white",
            "ticks": ""
           }
          },
          "title": {
           "x": 0.05
          },
          "xaxis": {
           "automargin": true,
           "gridcolor": "white",
           "linecolor": "white",
           "ticks": "",
           "title": {
            "standoff": 15
           },
           "zerolinecolor": "white",
           "zerolinewidth": 2
          },
          "yaxis": {
           "automargin": true,
           "gridcolor": "white",
           "linecolor": "white",
           "ticks": "",
           "title": {
            "standoff": 15
           },
           "zerolinecolor": "white",
           "zerolinewidth": 2
          }
         }
        },
        "xaxis": {
         "anchor": "y",
         "domain": [
          0,
          0.49
         ]
        },
        "xaxis2": {
         "anchor": "y2",
         "domain": [
          0.51,
          1
         ],
         "matches": "x"
        },
        "yaxis": {
         "anchor": "x",
         "domain": [
          0,
          1
         ]
        },
        "yaxis2": {
         "anchor": "x2",
         "domain": [
          0,
          1
         ],
         "matches": "y",
         "showticklabels": false
        }
       }
      }
     },
     "metadata": {},
     "output_type": "display_data"
    }
   ],
   "source": [
    "inputs = cifar_10_train_inputs[[0, 351]]\n",
    "px.imshow(inputs, facet_col=0)"
   ]
  },
  {
   "cell_type": "code",
   "execution_count": 25,
   "metadata": {},
   "outputs": [
    {
     "data": {
      "text/plain": [
       "(2, 784, 75)"
      ]
     },
     "execution_count": 25,
     "metadata": {},
     "output_type": "execute_result"
    }
   ],
   "source": [
    "flatten_inputs = inputs.reshape(2, -1)\n",
    "multi_inputs_views = flatten_inputs[:, multi_channels_correlatin_indieces]\n",
    "multi_inputs_views.shape"
   ]
  },
  {
   "cell_type": "code",
   "execution_count": 26,
   "metadata": {},
   "outputs": [
    {
     "data": {
      "text/plain": [
       "(2, 28, 28, 2)"
      ]
     },
     "execution_count": 26,
     "metadata": {},
     "output_type": "execute_result"
    }
   ],
   "source": [
    "cross_correlations = (multi_inputs_views @ multi_channels_kernels_weights).reshape(2, 28, 28, 2)\n",
    "cross_correlations.shape"
   ]
  },
  {
   "cell_type": "code",
   "execution_count": 28,
   "metadata": {},
   "outputs": [
    {
     "data": {
      "text/plain": [
       "'custom'"
      ]
     },
     "metadata": {},
     "output_type": "display_data"
    },
    {
     "data": {
      "application/vnd.plotly.v1+json": {
       "config": {
        "plotlyServerURL": "https://plot.ly"
       },
       "data": [
        {
         "coloraxis": "coloraxis",
         "hovertemplate": "x: %{x}<br>y: %{y}<br>color: %{z}<extra></extra>",
         "name": "0",
         "type": "heatmap",
         "xaxis": "x",
         "yaxis": "y",
         "z": [
          [
           1956,
           1888,
           1787,
           1815,
           1907,
           2181,
           2445,
           2545,
           2519,
           2452,
           2307,
           2263,
           2300,
           2316,
           2283,
           2244,
           2128,
           1917,
           1604,
           1250,
           1013,
           922,
           1027,
           1373,
           1768,
           2172,
           2538,
           2635
          ],
          [
           1744,
           1627,
           1587,
           1590,
           1679,
           1909,
           2079,
           2216,
           2338,
           2301,
           2182,
           2200,
           2264,
           2239,
           2184,
           2191,
           2186,
           2137,
           2071,
           1925,
           1762,
           1620,
           1687,
           1983,
           2391,
           2876,
           3347,
           3437
          ],
          [
           1724,
           1648,
           1649,
           1688,
           1669,
           1687,
           1732,
           1721,
           1606,
           1403,
           1179,
           1061,
           1048,
           991,
           977,
           1074,
           1185,
           1348,
           1609,
           1882,
           2008,
           2106,
           2299,
           2535,
           2729,
           3041,
           3351,
           3422
          ],
          [
           1758,
           1758,
           1764,
           1875,
           1846,
           1741,
           1707,
           1564,
           1330,
           1025,
           756,
           566,
           518,
           539,
           604,
           701,
           820,
           972,
           1153,
           1351,
           1560,
           1856,
           2195,
           2419,
           2593,
           2718,
           2789,
           2862
          ],
          [
           1812,
           1904,
           1975,
           2139,
           2159,
           1960,
           1776,
           1630,
           1426,
           1112,
           939,
           905,
           931,
           998,
           1055,
           1173,
           1306,
           1388,
           1456,
           1564,
           1664,
           1809,
           1960,
           2225,
           2470,
           2510,
           2556,
           2830
          ],
          [
           2240,
           2309,
           2381,
           2392,
           2288,
           1994,
           1832,
           1728,
           1480,
           1249,
           1226,
           1274,
           1335,
           1433,
           1482,
           1538,
           1575,
           1583,
           1653,
           1713,
           1693,
           1721,
           1793,
           1962,
           2184,
           2443,
           2773,
           3074
          ],
          [
           2532,
           2599,
           2541,
           2385,
           2149,
           1978,
           2066,
           2121,
           2077,
           2098,
           2179,
           2000,
           1892,
           1751,
           1654,
           1622,
           1609,
           1726,
           1871,
           1884,
           1701,
           1666,
           1572,
           1569,
           1831,
           2379,
           2798,
           3107
          ],
          [
           2662,
           2849,
           2733,
           2472,
           2312,
           2314,
           2405,
           2463,
           2627,
           2785,
           2616,
           2202,
           1936,
           1707,
           1595,
           1637,
           1796,
           2012,
           2039,
           1989,
           1934,
           1924,
           1913,
           2162,
           2444,
           2625,
           2731,
           3024
          ],
          [
           2878,
           3011,
           2798,
           2590,
           2505,
           2429,
           2394,
           2452,
           2696,
           2681,
           2380,
           2096,
           1992,
           1866,
           1804,
           1974,
           2251,
           2319,
           2240,
           2237,
           2132,
           2081,
           2198,
           2472,
           2764,
           2781,
           2637,
           2442
          ],
          [
           2962,
           2909,
           2638,
           2414,
           2268,
           2103,
           2154,
           2453,
           2556,
           2454,
           2368,
           2368,
           2304,
           2262,
           2252,
           2442,
           2475,
           2327,
           2318,
           2253,
           2044,
           1964,
           1980,
           2200,
           2487,
           2524,
           2342,
           2144
          ],
          [
           2774,
           2780,
           2456,
           2138,
           1935,
           1904,
           2328,
           2853,
           3026,
           3159,
           3383,
           3161,
           2732,
           2453,
           2394,
           2502,
           2434,
           2463,
           2549,
           2435,
           2169,
           2043,
           2179,
           2363,
           2368,
           2229,
           2147,
           2263
          ],
          [
           2950,
           3028,
           2628,
           2230,
           2050,
           2281,
           2761,
           3192,
           3472,
           3823,
           3777,
           3183,
           2597,
           2366,
           2303,
           2326,
           2498,
           2678,
           2520,
           2293,
           2183,
           2408,
           2542,
           2561,
           2438,
           2172,
           1952,
           1936
          ],
          [
           2970,
           2842,
           2515,
           2217,
           2078,
           2208,
           2546,
           2950,
           3390,
           3677,
           3559,
           3215,
           2816,
           2592,
           2545,
           2661,
           2753,
           2570,
           2210,
           2081,
           2374,
           2730,
           2678,
           2752,
           2665,
           2201,
           1740,
           1659
          ],
          [
           2553,
           2466,
           2299,
           2202,
           2225,
           2187,
           2332,
           2719,
           3036,
           3059,
           3124,
           3090,
           2866,
           2682,
           2828,
           3063,
           3091,
           2763,
           2458,
           2594,
           2706,
           2468,
           2437,
           2627,
           2390,
           1855,
           1755,
           1960
          ],
          [
           2418,
           2480,
           2390,
           2205,
           2274,
           2222,
           2433,
           2794,
           2862,
           2871,
           2955,
           2885,
           2790,
           2896,
           3076,
           3274,
           3372,
           3184,
           2992,
           2999,
           2781,
           2550,
           2539,
           2547,
           2221,
           1962,
           1939,
           2179
          ],
          [
           2510,
           2579,
           2434,
           2279,
           2188,
           2266,
           2725,
           3002,
           2999,
           3073,
           2991,
           2623,
           2610,
           2884,
           3036,
           3122,
           3192,
           3138,
           2832,
           2588,
           2534,
           2678,
           2682,
           2552,
           2394,
           2177,
           1969,
           1963
          ],
          [
           2511,
           2440,
           2498,
           2477,
           2146,
           2142,
           2521,
           2799,
           2853,
           2963,
           2954,
           2689,
           2587,
           2793,
           3001,
           3141,
           3212,
           3120,
           2738,
           2366,
           2308,
           2567,
           2566,
           2494,
           2303,
           2115,
           1923,
           1849
          ],
          [
           2261,
           2289,
           2420,
           2454,
           2395,
           2310,
           2468,
           2713,
           2896,
           2946,
           3070,
           2916,
           2836,
           2882,
           3031,
           3192,
           3457,
           3324,
           2715,
           2274,
           2276,
           2184,
           2105,
           2199,
           2149,
           1959,
           1891,
           1973
          ],
          [
           2080,
           2259,
           2272,
           2336,
           2541,
           2472,
           2487,
           2729,
           3031,
           3203,
           3310,
           3175,
           3106,
           3054,
           3037,
           3096,
           3255,
           2878,
           2188,
           1915,
           1794,
           1723,
           1807,
           2074,
           2048,
           1919,
           1891,
           1987
          ],
          [
           2120,
           2104,
           2162,
           2293,
           2365,
           2381,
           2451,
           2510,
           2701,
           3002,
           3088,
           2851,
           2752,
           2730,
           2707,
           2744,
           2703,
           2436,
           2057,
           1674,
           1422,
           1605,
           1806,
           1835,
           1709,
           1685,
           1611,
           1533
          ],
          [
           2276,
           1994,
           2063,
           2262,
           2196,
           2171,
           2407,
           2358,
           2254,
           2358,
           2402,
           2193,
           2065,
           2082,
           2218,
           2348,
           2471,
           2565,
           2314,
           1884,
           1703,
           1759,
           1753,
           1666,
           1639,
           1671,
           1627,
           1516
          ],
          [
           2413,
           2167,
           2027,
           2011,
           2060,
           2164,
           2371,
           2514,
           2561,
           2453,
           2190,
           1862,
           1616,
           1559,
           1819,
           1961,
           2132,
           2209,
           2077,
           1827,
           1833,
           1846,
           1879,
           1930,
           1950,
           1930,
           1950,
           1926
          ],
          [
           2513,
           2460,
           2206,
           2003,
           2008,
           2014,
           2036,
           2301,
           2646,
           2738,
           2486,
           2047,
           1686,
           1507,
           1590,
           1669,
           1785,
           1850,
           1881,
           1799,
           1811,
           1885,
           1936,
           1905,
           1862,
           1787,
           1732,
           1757
          ],
          [
           2311,
           2200,
           2129,
           2121,
           1984,
           1878,
           1726,
           1693,
           1886,
           2134,
           2194,
           2033,
           1894,
           1728,
           1699,
           1756,
           1881,
           1976,
           1996,
           1923,
           1834,
           1779,
           1584,
           1390,
           1248,
           1146,
           1091,
           1091
          ],
          [
           2353,
           2017,
           1943,
           1972,
           1974,
           1900,
           1810,
           1551,
           1349,
           1275,
           1280,
           1300,
           1295,
           1309,
           1461,
           1543,
           1712,
           1951,
           2007,
           1986,
           1937,
           1732,
           1551,
           1452,
           1322,
           1308,
           1334,
           1332
          ],
          [
           2883,
           2616,
           2316,
           2177,
           2243,
           2218,
           2109,
           2010,
           1806,
           1480,
           1233,
           1170,
           1100,
           1187,
           1413,
           1498,
           1657,
           2010,
           2198,
           2274,
           2345,
           2212,
           2094,
           1976,
           1921,
           1876,
           1998,
           2078
          ],
          [
           3262,
           3033,
           2816,
           2599,
           2456,
           2389,
           2303,
           2247,
           2174,
           2107,
           2061,
           2049,
           2004,
           1936,
           1985,
           1983,
           2041,
           2266,
           2469,
           2515,
           2542,
           2429,
           2163,
           2030,
           2012,
           2038,
           2116,
           2261
          ],
          [
           3028,
           2730,
           2525,
           2355,
           2192,
           2178,
           2122,
           2042,
           2084,
           2184,
           2342,
           2531,
           2596,
           2554,
           2434,
           2320,
           2290,
           2275,
           2202,
           2152,
           2042,
           1879,
           1712,
           1690,
           1795,
           1913,
           2025,
           2189
          ]
         ]
        },
        {
         "coloraxis": "coloraxis",
         "hovertemplate": "x: %{x}<br>y: %{y}<br>color: %{z}<extra></extra>",
         "name": "1",
         "type": "heatmap",
         "xaxis": "x2",
         "yaxis": "y2",
         "z": [
          [
           3087,
           3106.5,
           2855,
           2901,
           2734.5,
           2764,
           2997.5,
           3526,
           4020,
           3933,
           3597.5,
           3571,
           3573.5,
           3548,
           3545,
           3593,
           3533.5,
           3414.5,
           3348,
           3313.5,
           3245,
           3151.5,
           3257,
           3571.5,
           4076.5,
           4707,
           5425.5,
           5835
          ],
          [
           3091,
           2915,
           2740.5,
           2763.5,
           2612.5,
           2477,
           2475.5,
           2710,
           2770.5,
           2446.5,
           2069.5,
           1985,
           1973.5,
           1937.5,
           1943,
           1979.5,
           1973,
           1967.5,
           2044.5,
           2203,
           2442.5,
           2729,
           3161.5,
           3727,
           4528,
           5272.5,
           5979,
           6283
          ],
          [
           3139.5,
           2844,
           2759,
           2940.5,
           2869.5,
           2612,
           2454,
           2472.5,
           2193.5,
           1713.5,
           1289.5,
           962,
           927,
           889.5,
           888,
           932,
           997.5,
           1068,
           1225.5,
           1490,
           1796,
           2311.5,
           2940,
           3529,
           4256.5,
           5045.5,
           5734,
           5969
          ],
          [
           3065,
           2803,
           2842,
           3247.5,
           3293,
           2955.5,
           2780.5,
           2692,
           2318.5,
           1800.5,
           1331.5,
           842,
           755,
           743.5,
           792,
           893.5,
           999.5,
           1149,
           1311.5,
           1560,
           1863.5,
           2329.5,
           2909,
           3394,
           3988,
           4709.5,
           5198.5,
           5358.5
          ],
          [
           3021.5,
           2954,
           3090,
           3642.5,
           3822,
           3404,
           3228.5,
           3086,
           2760.5,
           2162,
           1670,
           1261.5,
           1168.5,
           1174,
           1267.5,
           1484.5,
           1690,
           1882.5,
           1997.5,
           2381.5,
           2691.5,
           2930,
           3244,
           3454.5,
           3822.5,
           4205,
           4411,
           4676
          ],
          [
           3396,
           3507.5,
           3746,
           4217,
           4326.5,
           3734.5,
           3549,
           3425,
           3115,
           2503,
           2212.5,
           1986,
           1823,
           1888,
           2130.5,
           2346.5,
           2623.5,
           2797,
           2871,
           3256.5,
           3313,
           3484,
           3551.5,
           3449.5,
           3603.5,
           3816.5,
           3835.5,
           4170
          ],
          [
           3874.5,
           4134.5,
           4365.5,
           4544.5,
           4460,
           3882.5,
           3721,
           3761.5,
           3618.5,
           3267.5,
           3434.5,
           3251,
           3012.5,
           2984.5,
           3168,
           3197.5,
           3394,
           3491,
           3604,
           3999.5,
           3760,
           3767,
           3444.5,
           3266,
           3390.5,
           3624.5,
           3655,
           4270.5
          ],
          [
           4441,
           4874.5,
           5003.5,
           4752.5,
           4505,
           4149,
           3970.5,
           4021.5,
           4130,
           4320.5,
           4646.5,
           4205,
           3936.5,
           3761,
           3752.5,
           3742,
           3857.5,
           3973.5,
           4056,
           4246,
           3899,
           3610,
           3042.5,
           3205,
           3407.5,
           3778.5,
           4113.5,
           4939.5
          ],
          [
           5001.5,
           5436.5,
           5358.5,
           4775.5,
           4346.5,
           4131.5,
           4025,
           4205.5,
           4587.5,
           5131,
           5399.5,
           4797.5,
           4560,
           4214,
           4015.5,
           3977,
           4061.5,
           4118,
           4072,
           4125.5,
           3764,
           3345.5,
           2891.5,
           3168,
           3727,
           4500,
           4641,
           5034.5
          ],
          [
           5143,
           5571,
           5220,
           4471,
           4037.5,
           3915.5,
           3938,
           4306,
           4883,
           5440.5,
           5457.5,
           4965.5,
           4625,
           4198,
           3899,
           3868.5,
           3931.5,
           3915,
           3792.5,
           3868.5,
           3479.5,
           2976.5,
           2881.5,
           3562.5,
           4343.5,
           4614,
           4557,
           4703.5
          ],
          [
           4937,
           5401,
           4874,
           4105.5,
           3682.5,
           3663.5,
           3831,
           4377,
           5004,
           5383.5,
           5447.5,
           5142.5,
           4512.5,
           4028.5,
           3668.5,
           3702,
           3819,
           3751,
           3775,
           3930,
           3399.5,
           3045.5,
           3577.5,
           4240.5,
           4561,
           4370,
           4215.5,
           4004
          ],
          [
           4711,
           5096,
           4469.5,
           3785,
           3522,
           3596.5,
           3825,
           4668,
           5215,
           5494.5,
           5685.5,
           5348.5,
           4359.5,
           3893,
           3670,
           3732,
           3867.5,
           3893,
           3974.5,
           3958.5,
           3609,
           3703.5,
           4074.5,
           4321.5,
           4494.5,
           4016,
           3495,
           3162.5
          ],
          [
           4554,
           4684,
           4211.5,
           3671.5,
           3433.5,
           3452,
           3865,
           4911.5,
           5274,
           5616.5,
           5952,
           5812,
           4675.5,
           4107.5,
           4066,
           4120.5,
           4175,
           4198.5,
           4267,
           4261.5,
           3970.5,
           4146.5,
           4396,
           4502.5,
           4312.5,
           3684.5,
           3037,
           2849.5
          ],
          [
           4405,
           4506.5,
           4157.5,
           3730.5,
           3607,
           3472.5,
           4026.5,
           4901,
           5330,
           5758,
           6108,
           6022,
           5120,
           4524.5,
           4590.5,
           4621,
           4815.5,
           4866.5,
           4736.5,
           4617.5,
           4587,
           4721.5,
           4451.5,
           4438,
           4221.5,
           3546.5,
           2981.5,
           3088.5
          ],
          [
           4260,
           4417.5,
           4404.5,
           3873,
           3922,
           3640,
           4009,
           4666,
           5126,
           5507,
           5893.5,
           5843.5,
           5375.5,
           4987.5,
           5115.5,
           5220,
           5607.5,
           5626,
           4988.5,
           4835,
           5034.5,
           4840,
           4245.5,
           4580.5,
           4447,
           3891,
           3251,
           3520.5
          ],
          [
           4168,
           4268,
           4548,
           4114,
           4079.5,
           3765,
           4030,
           4432.5,
           4628,
           5002.5,
           5391,
           5172,
           5095,
           5200,
           5489.5,
           5585.5,
           5961,
           6052.5,
           5243.5,
           5039.5,
           4840,
           4475.5,
           4310.5,
           4856,
           4683.5,
           4346.5,
           3718.5,
           3825
          ],
          [
           4121.5,
           4112.5,
           4448,
           4336.5,
           4130.5,
           3771,
           4159,
           4333,
           4164.5,
           4338,
           4854.5,
           4544,
           4665,
           5179,
           5570.5,
           5713.5,
           6191,
           6311.5,
           5485,
           4941,
           4471.5,
           4191,
           4325,
           4763.5,
           4607.5,
           4458.5,
           3995,
           3853.5
          ],
          [
           4022,
           4012.5,
           4187.5,
           4282,
           4109,
           3909,
           4336,
           4461.5,
           4339.5,
           4354.5,
           4774.5,
           4375.5,
           4476,
           4958.5,
           5334,
           5482.5,
           5978.5,
           5953.5,
           5307.5,
           4496,
           3870.5,
           3702,
           3934,
           4387,
           4344,
           4236.5,
           3827.5,
           3608.5
          ],
          [
           3783.5,
           3900.5,
           3949,
           4099,
           4127,
           4149,
           4349,
           4580.5,
           4857.5,
           5048.5,
           5250,
           4744.5,
           4698.5,
           4854,
           4992,
           4958.5,
           5307.5,
           5240.5,
           4702,
           3729,
           3058,
           3023.5,
           3273.5,
           3681.5,
           3735,
           3655.5,
           3334.5,
           3160.5
          ],
          [
           3566.5,
           3713.5,
           3752,
           3919,
           4038,
           4130,
           4315.5,
           4649.5,
           5011.5,
           5509.5,
           5617.5,
           5128,
           5057.5,
           4717,
           4483.5,
           4237.5,
           4564.5,
           4585.5,
           4081,
           3042,
           2359,
           2406.5,
           2614.5,
           2865.5,
           2922,
           2839.5,
           2678,
           2619
          ],
          [
           3552,
           3576.5,
           3583,
           3798,
           4003.5,
           3910.5,
           4078,
           4526,
           4785.5,
           5207.5,
           5368.5,
           4980.5,
           4821.5,
           4206.5,
           3836.5,
           3607,
           3915.5,
           4058,
           3794.5,
           2864.5,
           2190.5,
           2245.5,
           2363.5,
           2508.5,
           2486.5,
           2437.5,
           2535,
           2511.5
          ],
          [
           3840.5,
           3560.5,
           3418,
           3584,
           3895,
           3731.5,
           3674.5,
           3996,
           4302.5,
           4635.5,
           4524,
           4222.5,
           4052,
           3415,
           3104,
           3073,
           3368,
           3681,
           3750.5,
           2885,
           2357,
           2493,
           2631,
           2753,
           2737.5,
           2648.5,
           2856,
           2790
          ],
          [
           4351,
           3828,
           3444.5,
           3376,
           3516.5,
           3486.5,
           3411.5,
           3411.5,
           3421.5,
           3645,
           3504.5,
           3285,
           3065.5,
           2573.5,
           2423.5,
           2611.5,
           2983.5,
           3412,
           3776.5,
           3284.5,
           2996,
           3147.5,
           3169,
           3178,
           3174,
           3059,
           3049,
           2989
          ],
          [
           4604.5,
           4054,
           3610.5,
           3235.5,
           3041,
           3142.5,
           3180,
           3035.5,
           2835,
           2751,
           2604.5,
           2544.5,
           2450.5,
           2171,
           2154.5,
           2426.5,
           2902.5,
           3432.5,
           3898.5,
           3794,
           3703.5,
           3742.5,
           3558,
           3407.5,
           3254,
           3100,
           2960,
           2922.5
          ],
          [
           4760.5,
           4200.5,
           3867,
           3282.5,
           2980,
           2896,
           2941.5,
           2855.5,
           2632,
           2449.5,
           2220,
           2090.5,
           2062,
           1967.5,
           2104,
           2212.5,
           2684,
           3295,
           3813.5,
           3918.5,
           4054,
           3945.5,
           3651.5,
           3449,
           3173,
           2968.5,
           2920,
           2901
          ],
          [
           5076,
           4641.5,
           4318,
           3757,
           3556.5,
           3295.5,
           3101,
           3047,
           2793,
           2610,
           2437.5,
           2320.5,
           2204,
           2130.5,
           2295,
           2367.5,
           2635,
           3242.5,
           3757.5,
           3882,
           4201,
           4149.5,
           3648.5,
           3455.5,
           3198,
           2865.5,
           2845,
           2833
          ],
          [
           5310.5,
           5059.5,
           4826,
           4352.5,
           4155.5,
           3927.5,
           3703,
           3519.5,
           3239,
           3015,
           2921.5,
           3019,
           3013,
           2939,
           3042.5,
           2966.5,
           3010,
           3382.5,
           3703,
           3795,
           4055,
           3989.5,
           3404,
           3184.5,
           3022,
           2706,
           2744,
           2925.5
          ],
          [
           5519,
           5185,
           4924.5,
           4637.5,
           4458,
           4260.5,
           4155,
           3965,
           3724,
           3473,
           3394.5,
           3643.5,
           3828,
           3843.5,
           3818.5,
           3570,
           3471.5,
           3566,
           3580.5,
           3591.5,
           3701.5,
           3575,
           3142,
           3009.5,
           2988,
           2893,
           3067,
           3439.5
          ]
         ]
        }
       ],
       "layout": {
        "annotations": [
         {
          "font": {},
          "showarrow": false,
          "text": "facet_col=0",
          "x": 0.245,
          "xanchor": "center",
          "xref": "paper",
          "y": 1,
          "yanchor": "bottom",
          "yref": "paper"
         },
         {
          "font": {},
          "showarrow": false,
          "text": "facet_col=1",
          "x": 0.755,
          "xanchor": "center",
          "xref": "paper",
          "y": 1,
          "yanchor": "bottom",
          "yref": "paper"
         }
        ],
        "coloraxis": {
         "colorscale": [
          [
           0,
           "#0d0887"
          ],
          [
           0.1111111111111111,
           "#46039f"
          ],
          [
           0.2222222222222222,
           "#7201a8"
          ],
          [
           0.3333333333333333,
           "#9c179e"
          ],
          [
           0.4444444444444444,
           "#bd3786"
          ],
          [
           0.5555555555555556,
           "#d8576b"
          ],
          [
           0.6666666666666666,
           "#ed7953"
          ],
          [
           0.7777777777777778,
           "#fb9f3a"
          ],
          [
           0.8888888888888888,
           "#fdca26"
          ],
          [
           1,
           "#f0f921"
          ]
         ]
        },
        "margin": {
         "t": 60
        },
        "template": {
         "data": {
          "bar": [
           {
            "error_x": {
             "color": "#2a3f5f"
            },
            "error_y": {
             "color": "#2a3f5f"
            },
            "marker": {
             "line": {
              "color": "#E5ECF6",
              "width": 0.5
             },
             "pattern": {
              "fillmode": "overlay",
              "size": 10,
              "solidity": 0.2
             }
            },
            "type": "bar"
           }
          ],
          "barpolar": [
           {
            "marker": {
             "line": {
              "color": "#E5ECF6",
              "width": 0.5
             },
             "pattern": {
              "fillmode": "overlay",
              "size": 10,
              "solidity": 0.2
             }
            },
            "type": "barpolar"
           }
          ],
          "carpet": [
           {
            "aaxis": {
             "endlinecolor": "#2a3f5f",
             "gridcolor": "white",
             "linecolor": "white",
             "minorgridcolor": "white",
             "startlinecolor": "#2a3f5f"
            },
            "baxis": {
             "endlinecolor": "#2a3f5f",
             "gridcolor": "white",
             "linecolor": "white",
             "minorgridcolor": "white",
             "startlinecolor": "#2a3f5f"
            },
            "type": "carpet"
           }
          ],
          "choropleth": [
           {
            "colorbar": {
             "outlinewidth": 0,
             "ticks": ""
            },
            "type": "choropleth"
           }
          ],
          "contour": [
           {
            "colorbar": {
             "outlinewidth": 0,
             "ticks": ""
            },
            "colorscale": [
             [
              0,
              "#0d0887"
             ],
             [
              0.1111111111111111,
              "#46039f"
             ],
             [
              0.2222222222222222,
              "#7201a8"
             ],
             [
              0.3333333333333333,
              "#9c179e"
             ],
             [
              0.4444444444444444,
              "#bd3786"
             ],
             [
              0.5555555555555556,
              "#d8576b"
             ],
             [
              0.6666666666666666,
              "#ed7953"
             ],
             [
              0.7777777777777778,
              "#fb9f3a"
             ],
             [
              0.8888888888888888,
              "#fdca26"
             ],
             [
              1,
              "#f0f921"
             ]
            ],
            "type": "contour"
           }
          ],
          "contourcarpet": [
           {
            "colorbar": {
             "outlinewidth": 0,
             "ticks": ""
            },
            "type": "contourcarpet"
           }
          ],
          "heatmap": [
           {
            "colorbar": {
             "outlinewidth": 0,
             "ticks": ""
            },
            "colorscale": [
             [
              0,
              "#0d0887"
             ],
             [
              0.1111111111111111,
              "#46039f"
             ],
             [
              0.2222222222222222,
              "#7201a8"
             ],
             [
              0.3333333333333333,
              "#9c179e"
             ],
             [
              0.4444444444444444,
              "#bd3786"
             ],
             [
              0.5555555555555556,
              "#d8576b"
             ],
             [
              0.6666666666666666,
              "#ed7953"
             ],
             [
              0.7777777777777778,
              "#fb9f3a"
             ],
             [
              0.8888888888888888,
              "#fdca26"
             ],
             [
              1,
              "#f0f921"
             ]
            ],
            "type": "heatmap"
           }
          ],
          "heatmapgl": [
           {
            "colorbar": {
             "outlinewidth": 0,
             "ticks": ""
            },
            "colorscale": [
             [
              0,
              "#0d0887"
             ],
             [
              0.1111111111111111,
              "#46039f"
             ],
             [
              0.2222222222222222,
              "#7201a8"
             ],
             [
              0.3333333333333333,
              "#9c179e"
             ],
             [
              0.4444444444444444,
              "#bd3786"
             ],
             [
              0.5555555555555556,
              "#d8576b"
             ],
             [
              0.6666666666666666,
              "#ed7953"
             ],
             [
              0.7777777777777778,
              "#fb9f3a"
             ],
             [
              0.8888888888888888,
              "#fdca26"
             ],
             [
              1,
              "#f0f921"
             ]
            ],
            "type": "heatmapgl"
           }
          ],
          "histogram": [
           {
            "marker": {
             "pattern": {
              "fillmode": "overlay",
              "size": 10,
              "solidity": 0.2
             }
            },
            "type": "histogram"
           }
          ],
          "histogram2d": [
           {
            "colorbar": {
             "outlinewidth": 0,
             "ticks": ""
            },
            "colorscale": [
             [
              0,
              "#0d0887"
             ],
             [
              0.1111111111111111,
              "#46039f"
             ],
             [
              0.2222222222222222,
              "#7201a8"
             ],
             [
              0.3333333333333333,
              "#9c179e"
             ],
             [
              0.4444444444444444,
              "#bd3786"
             ],
             [
              0.5555555555555556,
              "#d8576b"
             ],
             [
              0.6666666666666666,
              "#ed7953"
             ],
             [
              0.7777777777777778,
              "#fb9f3a"
             ],
             [
              0.8888888888888888,
              "#fdca26"
             ],
             [
              1,
              "#f0f921"
             ]
            ],
            "type": "histogram2d"
           }
          ],
          "histogram2dcontour": [
           {
            "colorbar": {
             "outlinewidth": 0,
             "ticks": ""
            },
            "colorscale": [
             [
              0,
              "#0d0887"
             ],
             [
              0.1111111111111111,
              "#46039f"
             ],
             [
              0.2222222222222222,
              "#7201a8"
             ],
             [
              0.3333333333333333,
              "#9c179e"
             ],
             [
              0.4444444444444444,
              "#bd3786"
             ],
             [
              0.5555555555555556,
              "#d8576b"
             ],
             [
              0.6666666666666666,
              "#ed7953"
             ],
             [
              0.7777777777777778,
              "#fb9f3a"
             ],
             [
              0.8888888888888888,
              "#fdca26"
             ],
             [
              1,
              "#f0f921"
             ]
            ],
            "type": "histogram2dcontour"
           }
          ],
          "mesh3d": [
           {
            "colorbar": {
             "outlinewidth": 0,
             "ticks": ""
            },
            "type": "mesh3d"
           }
          ],
          "parcoords": [
           {
            "line": {
             "colorbar": {
              "outlinewidth": 0,
              "ticks": ""
             }
            },
            "type": "parcoords"
           }
          ],
          "pie": [
           {
            "automargin": true,
            "type": "pie"
           }
          ],
          "scatter": [
           {
            "fillpattern": {
             "fillmode": "overlay",
             "size": 10,
             "solidity": 0.2
            },
            "type": "scatter"
           }
          ],
          "scatter3d": [
           {
            "line": {
             "colorbar": {
              "outlinewidth": 0,
              "ticks": ""
             }
            },
            "marker": {
             "colorbar": {
              "outlinewidth": 0,
              "ticks": ""
             }
            },
            "type": "scatter3d"
           }
          ],
          "scattercarpet": [
           {
            "marker": {
             "colorbar": {
              "outlinewidth": 0,
              "ticks": ""
             }
            },
            "type": "scattercarpet"
           }
          ],
          "scattergeo": [
           {
            "marker": {
             "colorbar": {
              "outlinewidth": 0,
              "ticks": ""
             }
            },
            "type": "scattergeo"
           }
          ],
          "scattergl": [
           {
            "marker": {
             "colorbar": {
              "outlinewidth": 0,
              "ticks": ""
             }
            },
            "type": "scattergl"
           }
          ],
          "scattermapbox": [
           {
            "marker": {
             "colorbar": {
              "outlinewidth": 0,
              "ticks": ""
             }
            },
            "type": "scattermapbox"
           }
          ],
          "scatterpolar": [
           {
            "marker": {
             "colorbar": {
              "outlinewidth": 0,
              "ticks": ""
             }
            },
            "type": "scatterpolar"
           }
          ],
          "scatterpolargl": [
           {
            "marker": {
             "colorbar": {
              "outlinewidth": 0,
              "ticks": ""
             }
            },
            "type": "scatterpolargl"
           }
          ],
          "scatterternary": [
           {
            "marker": {
             "colorbar": {
              "outlinewidth": 0,
              "ticks": ""
             }
            },
            "type": "scatterternary"
           }
          ],
          "surface": [
           {
            "colorbar": {
             "outlinewidth": 0,
             "ticks": ""
            },
            "colorscale": [
             [
              0,
              "#0d0887"
             ],
             [
              0.1111111111111111,
              "#46039f"
             ],
             [
              0.2222222222222222,
              "#7201a8"
             ],
             [
              0.3333333333333333,
              "#9c179e"
             ],
             [
              0.4444444444444444,
              "#bd3786"
             ],
             [
              0.5555555555555556,
              "#d8576b"
             ],
             [
              0.6666666666666666,
              "#ed7953"
             ],
             [
              0.7777777777777778,
              "#fb9f3a"
             ],
             [
              0.8888888888888888,
              "#fdca26"
             ],
             [
              1,
              "#f0f921"
             ]
            ],
            "type": "surface"
           }
          ],
          "table": [
           {
            "cells": {
             "fill": {
              "color": "#EBF0F8"
             },
             "line": {
              "color": "white"
             }
            },
            "header": {
             "fill": {
              "color": "#C8D4E3"
             },
             "line": {
              "color": "white"
             }
            },
            "type": "table"
           }
          ]
         },
         "layout": {
          "annotationdefaults": {
           "arrowcolor": "#2a3f5f",
           "arrowhead": 0,
           "arrowwidth": 1
          },
          "autotypenumbers": "strict",
          "coloraxis": {
           "colorbar": {
            "outlinewidth": 0,
            "ticks": ""
           }
          },
          "colorscale": {
           "diverging": [
            [
             0,
             "#8e0152"
            ],
            [
             0.1,
             "#c51b7d"
            ],
            [
             0.2,
             "#de77ae"
            ],
            [
             0.3,
             "#f1b6da"
            ],
            [
             0.4,
             "#fde0ef"
            ],
            [
             0.5,
             "#f7f7f7"
            ],
            [
             0.6,
             "#e6f5d0"
            ],
            [
             0.7,
             "#b8e186"
            ],
            [
             0.8,
             "#7fbc41"
            ],
            [
             0.9,
             "#4d9221"
            ],
            [
             1,
             "#276419"
            ]
           ],
           "sequential": [
            [
             0,
             "#0d0887"
            ],
            [
             0.1111111111111111,
             "#46039f"
            ],
            [
             0.2222222222222222,
             "#7201a8"
            ],
            [
             0.3333333333333333,
             "#9c179e"
            ],
            [
             0.4444444444444444,
             "#bd3786"
            ],
            [
             0.5555555555555556,
             "#d8576b"
            ],
            [
             0.6666666666666666,
             "#ed7953"
            ],
            [
             0.7777777777777778,
             "#fb9f3a"
            ],
            [
             0.8888888888888888,
             "#fdca26"
            ],
            [
             1,
             "#f0f921"
            ]
           ],
           "sequentialminus": [
            [
             0,
             "#0d0887"
            ],
            [
             0.1111111111111111,
             "#46039f"
            ],
            [
             0.2222222222222222,
             "#7201a8"
            ],
            [
             0.3333333333333333,
             "#9c179e"
            ],
            [
             0.4444444444444444,
             "#bd3786"
            ],
            [
             0.5555555555555556,
             "#d8576b"
            ],
            [
             0.6666666666666666,
             "#ed7953"
            ],
            [
             0.7777777777777778,
             "#fb9f3a"
            ],
            [
             0.8888888888888888,
             "#fdca26"
            ],
            [
             1,
             "#f0f921"
            ]
           ]
          },
          "colorway": [
           "#636efa",
           "#EF553B",
           "#00cc96",
           "#ab63fa",
           "#FFA15A",
           "#19d3f3",
           "#FF6692",
           "#B6E880",
           "#FF97FF",
           "#FECB52"
          ],
          "font": {
           "color": "#2a3f5f"
          },
          "geo": {
           "bgcolor": "white",
           "lakecolor": "white",
           "landcolor": "#E5ECF6",
           "showlakes": true,
           "showland": true,
           "subunitcolor": "white"
          },
          "hoverlabel": {
           "align": "left"
          },
          "hovermode": "closest",
          "mapbox": {
           "style": "light"
          },
          "paper_bgcolor": "white",
          "plot_bgcolor": "#E5ECF6",
          "polar": {
           "angularaxis": {
            "gridcolor": "white",
            "linecolor": "white",
            "ticks": ""
           },
           "bgcolor": "#E5ECF6",
           "radialaxis": {
            "gridcolor": "white",
            "linecolor": "white",
            "ticks": ""
           }
          },
          "scene": {
           "xaxis": {
            "backgroundcolor": "#E5ECF6",
            "gridcolor": "white",
            "gridwidth": 2,
            "linecolor": "white",
            "showbackground": true,
            "ticks": "",
            "zerolinecolor": "white"
           },
           "yaxis": {
            "backgroundcolor": "#E5ECF6",
            "gridcolor": "white",
            "gridwidth": 2,
            "linecolor": "white",
            "showbackground": true,
            "ticks": "",
            "zerolinecolor": "white"
           },
           "zaxis": {
            "backgroundcolor": "#E5ECF6",
            "gridcolor": "white",
            "gridwidth": 2,
            "linecolor": "white",
            "showbackground": true,
            "ticks": "",
            "zerolinecolor": "white"
           }
          },
          "shapedefaults": {
           "line": {
            "color": "#2a3f5f"
           }
          },
          "ternary": {
           "aaxis": {
            "gridcolor": "white",
            "linecolor": "white",
            "ticks": ""
           },
           "baxis": {
            "gridcolor": "white",
            "linecolor": "white",
            "ticks": ""
           },
           "bgcolor": "#E5ECF6",
           "caxis": {
            "gridcolor": "white",
            "linecolor": "white",
            "ticks": ""
           }
          },
          "title": {
           "x": 0.05
          },
          "xaxis": {
           "automargin": true,
           "gridcolor": "white",
           "linecolor": "white",
           "ticks": "",
           "title": {
            "standoff": 15
           },
           "zerolinecolor": "white",
           "zerolinewidth": 2
          },
          "yaxis": {
           "automargin": true,
           "gridcolor": "white",
           "linecolor": "white",
           "ticks": "",
           "title": {
            "standoff": 15
           },
           "zerolinecolor": "white",
           "zerolinewidth": 2
          }
         }
        },
        "xaxis": {
         "anchor": "y",
         "constrain": "domain",
         "domain": [
          0,
          0.49
         ],
         "scaleanchor": "y"
        },
        "xaxis2": {
         "anchor": "y2",
         "domain": [
          0.51,
          1
         ],
         "matches": "x"
        },
        "yaxis": {
         "anchor": "x",
         "autorange": "reversed",
         "constrain": "domain",
         "domain": [
          0,
          1
         ]
        },
        "yaxis2": {
         "anchor": "x2",
         "domain": [
          0,
          1
         ],
         "matches": "y",
         "showticklabels": false
        }
       }
      }
     },
     "metadata": {},
     "output_type": "display_data"
    },
    {
     "data": {
      "text/plain": [
       "'scipy'"
      ]
     },
     "metadata": {},
     "output_type": "display_data"
    },
    {
     "data": {
      "application/vnd.plotly.v1+json": {
       "config": {
        "plotlyServerURL": "https://plot.ly"
       },
       "data": [
        {
         "coloraxis": "coloraxis",
         "hovertemplate": "x: %{x}<br>y: %{y}<br>color: %{z}<extra></extra>",
         "name": "0",
         "type": "heatmap",
         "xaxis": "x",
         "yaxis": "y",
         "z": [
          [
           1956,
           1888,
           1787,
           1815,
           1907,
           2181,
           2445,
           2545,
           2519,
           2452,
           2307,
           2263,
           2300,
           2316,
           2283,
           2244,
           2128,
           1917,
           1604,
           1250,
           1013,
           922,
           1027,
           1373,
           1768,
           2172,
           2538,
           2635
          ],
          [
           1744,
           1627,
           1587,
           1590,
           1679,
           1909,
           2079,
           2216,
           2338,
           2301,
           2182,
           2200,
           2264,
           2239,
           2184,
           2191,
           2186,
           2137,
           2071,
           1925,
           1762,
           1620,
           1687,
           1983,
           2391,
           2876,
           3347,
           3437
          ],
          [
           1724,
           1648,
           1649,
           1688,
           1669,
           1687,
           1732,
           1721,
           1606,
           1403,
           1179,
           1061,
           1048,
           991,
           977,
           1074,
           1185,
           1348,
           1609,
           1882,
           2008,
           2106,
           2299,
           2535,
           2729,
           3041,
           3351,
           3422
          ],
          [
           1758,
           1758,
           1764,
           1875,
           1846,
           1741,
           1707,
           1564,
           1330,
           1025,
           756,
           566,
           518,
           539,
           604,
           701,
           820,
           972,
           1153,
           1351,
           1560,
           1856,
           2195,
           2419,
           2593,
           2718,
           2789,
           2862
          ],
          [
           1812,
           1904,
           1975,
           2139,
           2159,
           1960,
           1776,
           1630,
           1426,
           1112,
           939,
           905,
           931,
           998,
           1055,
           1173,
           1306,
           1388,
           1456,
           1564,
           1664,
           1809,
           1960,
           2225,
           2470,
           2510,
           2556,
           2830
          ],
          [
           2240,
           2309,
           2381,
           2392,
           2288,
           1994,
           1832,
           1728,
           1480,
           1249,
           1226,
           1274,
           1335,
           1433,
           1482,
           1538,
           1575,
           1583,
           1653,
           1713,
           1693,
           1721,
           1793,
           1962,
           2184,
           2443,
           2773,
           3074
          ],
          [
           2532,
           2599,
           2541,
           2385,
           2149,
           1978,
           2066,
           2121,
           2077,
           2098,
           2179,
           2000,
           1892,
           1751,
           1654,
           1622,
           1609,
           1726,
           1871,
           1884,
           1701,
           1666,
           1572,
           1569,
           1831,
           2379,
           2798,
           3107
          ],
          [
           2662,
           2849,
           2733,
           2472,
           2312,
           2314,
           2405,
           2463,
           2627,
           2785,
           2616,
           2202,
           1936,
           1707,
           1595,
           1637,
           1796,
           2012,
           2039,
           1989,
           1934,
           1924,
           1913,
           2162,
           2444,
           2625,
           2731,
           3024
          ],
          [
           2878,
           3011,
           2798,
           2590,
           2505,
           2429,
           2394,
           2452,
           2696,
           2681,
           2380,
           2096,
           1992,
           1866,
           1804,
           1974,
           2251,
           2319,
           2240,
           2237,
           2132,
           2081,
           2198,
           2472,
           2764,
           2781,
           2637,
           2442
          ],
          [
           2962,
           2909,
           2638,
           2414,
           2268,
           2103,
           2154,
           2453,
           2556,
           2454,
           2368,
           2368,
           2304,
           2262,
           2252,
           2442,
           2475,
           2327,
           2318,
           2253,
           2044,
           1964,
           1980,
           2200,
           2487,
           2524,
           2342,
           2144
          ],
          [
           2774,
           2780,
           2456,
           2138,
           1935,
           1904,
           2328,
           2853,
           3026,
           3159,
           3383,
           3161,
           2732,
           2453,
           2394,
           2502,
           2434,
           2463,
           2549,
           2435,
           2169,
           2043,
           2179,
           2363,
           2368,
           2229,
           2147,
           2263
          ],
          [
           2950,
           3028,
           2628,
           2230,
           2050,
           2281,
           2761,
           3192,
           3472,
           3823,
           3777,
           3183,
           2597,
           2366,
           2303,
           2326,
           2498,
           2678,
           2520,
           2293,
           2183,
           2408,
           2542,
           2561,
           2438,
           2172,
           1952,
           1936
          ],
          [
           2970,
           2842,
           2515,
           2217,
           2078,
           2208,
           2546,
           2950,
           3390,
           3677,
           3559,
           3215,
           2816,
           2592,
           2545,
           2661,
           2753,
           2570,
           2210,
           2081,
           2374,
           2730,
           2678,
           2752,
           2665,
           2201,
           1740,
           1659
          ],
          [
           2553,
           2466,
           2299,
           2202,
           2225,
           2187,
           2332,
           2719,
           3036,
           3059,
           3124,
           3090,
           2866,
           2682,
           2828,
           3063,
           3091,
           2763,
           2458,
           2594,
           2706,
           2468,
           2437,
           2627,
           2390,
           1855,
           1755,
           1960
          ],
          [
           2418,
           2480,
           2390,
           2205,
           2274,
           2222,
           2433,
           2794,
           2862,
           2871,
           2955,
           2885,
           2790,
           2896,
           3076,
           3274,
           3372,
           3184,
           2992,
           2999,
           2781,
           2550,
           2539,
           2547,
           2221,
           1962,
           1939,
           2179
          ],
          [
           2510,
           2579,
           2434,
           2279,
           2188,
           2266,
           2725,
           3002,
           2999,
           3073,
           2991,
           2623,
           2610,
           2884,
           3036,
           3122,
           3192,
           3138,
           2832,
           2588,
           2534,
           2678,
           2682,
           2552,
           2394,
           2177,
           1969,
           1963
          ],
          [
           2511,
           2440,
           2498,
           2477,
           2146,
           2142,
           2521,
           2799,
           2853,
           2963,
           2954,
           2689,
           2587,
           2793,
           3001,
           3141,
           3212,
           3120,
           2738,
           2366,
           2308,
           2567,
           2566,
           2494,
           2303,
           2115,
           1923,
           1849
          ],
          [
           2261,
           2289,
           2420,
           2454,
           2395,
           2310,
           2468,
           2713,
           2896,
           2946,
           3070,
           2916,
           2836,
           2882,
           3031,
           3192,
           3457,
           3324,
           2715,
           2274,
           2276,
           2184,
           2105,
           2199,
           2149,
           1959,
           1891,
           1973
          ],
          [
           2080,
           2259,
           2272,
           2336,
           2541,
           2472,
           2487,
           2729,
           3031,
           3203,
           3310,
           3175,
           3106,
           3054,
           3037,
           3096,
           3255,
           2878,
           2188,
           1915,
           1794,
           1723,
           1807,
           2074,
           2048,
           1919,
           1891,
           1987
          ],
          [
           2120,
           2104,
           2162,
           2293,
           2365,
           2381,
           2451,
           2510,
           2701,
           3002,
           3088,
           2851,
           2752,
           2730,
           2707,
           2744,
           2703,
           2436,
           2057,
           1674,
           1422,
           1605,
           1806,
           1835,
           1709,
           1685,
           1611,
           1533
          ],
          [
           2276,
           1994,
           2063,
           2262,
           2196,
           2171,
           2407,
           2358,
           2254,
           2358,
           2402,
           2193,
           2065,
           2082,
           2218,
           2348,
           2471,
           2565,
           2314,
           1884,
           1703,
           1759,
           1753,
           1666,
           1639,
           1671,
           1627,
           1516
          ],
          [
           2413,
           2167,
           2027,
           2011,
           2060,
           2164,
           2371,
           2514,
           2561,
           2453,
           2190,
           1862,
           1616,
           1559,
           1819,
           1961,
           2132,
           2209,
           2077,
           1827,
           1833,
           1846,
           1879,
           1930,
           1950,
           1930,
           1950,
           1926
          ],
          [
           2513,
           2460,
           2206,
           2003,
           2008,
           2014,
           2036,
           2301,
           2646,
           2738,
           2486,
           2047,
           1686,
           1507,
           1590,
           1669,
           1785,
           1850,
           1881,
           1799,
           1811,
           1885,
           1936,
           1905,
           1862,
           1787,
           1732,
           1757
          ],
          [
           2311,
           2200,
           2129,
           2121,
           1984,
           1878,
           1726,
           1693,
           1886,
           2134,
           2194,
           2033,
           1894,
           1728,
           1699,
           1756,
           1881,
           1976,
           1996,
           1923,
           1834,
           1779,
           1584,
           1390,
           1248,
           1146,
           1091,
           1091
          ],
          [
           2353,
           2017,
           1943,
           1972,
           1974,
           1900,
           1810,
           1551,
           1349,
           1275,
           1280,
           1300,
           1295,
           1309,
           1461,
           1543,
           1712,
           1951,
           2007,
           1986,
           1937,
           1732,
           1551,
           1452,
           1322,
           1308,
           1334,
           1332
          ],
          [
           2883,
           2616,
           2316,
           2177,
           2243,
           2218,
           2109,
           2010,
           1806,
           1480,
           1233,
           1170,
           1100,
           1187,
           1413,
           1498,
           1657,
           2010,
           2198,
           2274,
           2345,
           2212,
           2094,
           1976,
           1921,
           1876,
           1998,
           2078
          ],
          [
           3262,
           3033,
           2816,
           2599,
           2456,
           2389,
           2303,
           2247,
           2174,
           2107,
           2061,
           2049,
           2004,
           1936,
           1985,
           1983,
           2041,
           2266,
           2469,
           2515,
           2542,
           2429,
           2163,
           2030,
           2012,
           2038,
           2116,
           2261
          ],
          [
           3028,
           2730,
           2525,
           2355,
           2192,
           2178,
           2122,
           2042,
           2084,
           2184,
           2342,
           2531,
           2596,
           2554,
           2434,
           2320,
           2290,
           2275,
           2202,
           2152,
           2042,
           1879,
           1712,
           1690,
           1795,
           1913,
           2025,
           2189
          ]
         ]
        },
        {
         "coloraxis": "coloraxis",
         "hovertemplate": "x: %{x}<br>y: %{y}<br>color: %{z}<extra></extra>",
         "name": "1",
         "type": "heatmap",
         "xaxis": "x2",
         "yaxis": "y2",
         "z": [
          [
           3087,
           3106.5,
           2855,
           2901,
           2734.5,
           2764,
           2997.5,
           3526,
           4020,
           3933,
           3597.5,
           3571,
           3573.5,
           3548,
           3545,
           3593,
           3533.5,
           3414.5,
           3348,
           3313.5,
           3245,
           3151.5,
           3257,
           3571.5,
           4076.5,
           4707,
           5425.5,
           5835
          ],
          [
           3091,
           2915,
           2740.5,
           2763.5,
           2612.5,
           2477,
           2475.5,
           2710,
           2770.5,
           2446.5,
           2069.5,
           1985,
           1973.5,
           1937.5,
           1943,
           1979.5,
           1973,
           1967.5,
           2044.5,
           2203,
           2442.5,
           2729,
           3161.5,
           3727,
           4528,
           5272.5,
           5979,
           6283
          ],
          [
           3139.5,
           2844,
           2759,
           2940.5,
           2869.5,
           2612,
           2454,
           2472.5,
           2193.5,
           1713.5,
           1289.5,
           962,
           927,
           889.5,
           888,
           932,
           997.5,
           1068,
           1225.5,
           1490,
           1796,
           2311.5,
           2940,
           3529,
           4256.5,
           5045.5,
           5734,
           5969
          ],
          [
           3065,
           2803,
           2842,
           3247.5,
           3293,
           2955.5,
           2780.5,
           2692,
           2318.5,
           1800.5,
           1331.5,
           842,
           755,
           743.5,
           792,
           893.5,
           999.5,
           1149,
           1311.5,
           1560,
           1863.5,
           2329.5,
           2909,
           3394,
           3988,
           4709.5,
           5198.5,
           5358.5
          ],
          [
           3021.5,
           2954,
           3090,
           3642.5,
           3822,
           3404,
           3228.5,
           3086,
           2760.5,
           2162,
           1670,
           1261.5,
           1168.5,
           1174,
           1267.5,
           1484.5,
           1690,
           1882.5,
           1997.5,
           2381.5,
           2691.5,
           2930,
           3244,
           3454.5,
           3822.5,
           4205,
           4411,
           4676
          ],
          [
           3396,
           3507.5,
           3746,
           4217,
           4326.5,
           3734.5,
           3549,
           3425,
           3115,
           2503,
           2212.5,
           1986,
           1823,
           1888,
           2130.5,
           2346.5,
           2623.5,
           2797,
           2871,
           3256.5,
           3313,
           3484,
           3551.5,
           3449.5,
           3603.5,
           3816.5,
           3835.5,
           4170
          ],
          [
           3874.5,
           4134.5,
           4365.5,
           4544.5,
           4460,
           3882.5,
           3721,
           3761.5,
           3618.5,
           3267.5,
           3434.5,
           3251,
           3012.5,
           2984.5,
           3168,
           3197.5,
           3394,
           3491,
           3604,
           3999.5,
           3760,
           3767,
           3444.5,
           3266,
           3390.5,
           3624.5,
           3655,
           4270.5
          ],
          [
           4441,
           4874.5,
           5003.5,
           4752.5,
           4505,
           4149,
           3970.5,
           4021.5,
           4130,
           4320.5,
           4646.5,
           4205,
           3936.5,
           3761,
           3752.5,
           3742,
           3857.5,
           3973.5,
           4056,
           4246,
           3899,
           3610,
           3042.5,
           3205,
           3407.5,
           3778.5,
           4113.5,
           4939.5
          ],
          [
           5001.5,
           5436.5,
           5358.5,
           4775.5,
           4346.5,
           4131.5,
           4025,
           4205.5,
           4587.5,
           5131,
           5399.5,
           4797.5,
           4560,
           4214,
           4015.5,
           3977,
           4061.5,
           4118,
           4072,
           4125.5,
           3764,
           3345.5,
           2891.5,
           3168,
           3727,
           4500,
           4641,
           5034.5
          ],
          [
           5143,
           5571,
           5220,
           4471,
           4037.5,
           3915.5,
           3938,
           4306,
           4883,
           5440.5,
           5457.5,
           4965.5,
           4625,
           4198,
           3899,
           3868.5,
           3931.5,
           3915,
           3792.5,
           3868.5,
           3479.5,
           2976.5,
           2881.5,
           3562.5,
           4343.5,
           4614,
           4557,
           4703.5
          ],
          [
           4937,
           5401,
           4874,
           4105.5,
           3682.5,
           3663.5,
           3831,
           4377,
           5004,
           5383.5,
           5447.5,
           5142.5,
           4512.5,
           4028.5,
           3668.5,
           3702,
           3819,
           3751,
           3775,
           3930,
           3399.5,
           3045.5,
           3577.5,
           4240.5,
           4561,
           4370,
           4215.5,
           4004
          ],
          [
           4711,
           5096,
           4469.5,
           3785,
           3522,
           3596.5,
           3825,
           4668,
           5215,
           5494.5,
           5685.5,
           5348.5,
           4359.5,
           3893,
           3670,
           3732,
           3867.5,
           3893,
           3974.5,
           3958.5,
           3609,
           3703.5,
           4074.5,
           4321.5,
           4494.5,
           4016,
           3495,
           3162.5
          ],
          [
           4554,
           4684,
           4211.5,
           3671.5,
           3433.5,
           3452,
           3865,
           4911.5,
           5274,
           5616.5,
           5952,
           5812,
           4675.5,
           4107.5,
           4066,
           4120.5,
           4175,
           4198.5,
           4267,
           4261.5,
           3970.5,
           4146.5,
           4396,
           4502.5,
           4312.5,
           3684.5,
           3037,
           2849.5
          ],
          [
           4405,
           4506.5,
           4157.5,
           3730.5,
           3607,
           3472.5,
           4026.5,
           4901,
           5330,
           5758,
           6108,
           6022,
           5120,
           4524.5,
           4590.5,
           4621,
           4815.5,
           4866.5,
           4736.5,
           4617.5,
           4587,
           4721.5,
           4451.5,
           4438,
           4221.5,
           3546.5,
           2981.5,
           3088.5
          ],
          [
           4260,
           4417.5,
           4404.5,
           3873,
           3922,
           3640,
           4009,
           4666,
           5126,
           5507,
           5893.5,
           5843.5,
           5375.5,
           4987.5,
           5115.5,
           5220,
           5607.5,
           5626,
           4988.5,
           4835,
           5034.5,
           4840,
           4245.5,
           4580.5,
           4447,
           3891,
           3251,
           3520.5
          ],
          [
           4168,
           4268,
           4548,
           4114,
           4079.5,
           3765,
           4030,
           4432.5,
           4628,
           5002.5,
           5391,
           5172,
           5095,
           5200,
           5489.5,
           5585.5,
           5961,
           6052.5,
           5243.5,
           5039.5,
           4840,
           4475.5,
           4310.5,
           4856,
           4683.5,
           4346.5,
           3718.5,
           3825
          ],
          [
           4121.5,
           4112.5,
           4448,
           4336.5,
           4130.5,
           3771,
           4159,
           4333,
           4164.5,
           4338,
           4854.5,
           4544,
           4665,
           5179,
           5570.5,
           5713.5,
           6191,
           6311.5,
           5485,
           4941,
           4471.5,
           4191,
           4325,
           4763.5,
           4607.5,
           4458.5,
           3995,
           3853.5
          ],
          [
           4022,
           4012.5,
           4187.5,
           4282,
           4109,
           3909,
           4336,
           4461.5,
           4339.5,
           4354.5,
           4774.5,
           4375.5,
           4476,
           4958.5,
           5334,
           5482.5,
           5978.5,
           5953.5,
           5307.5,
           4496,
           3870.5,
           3702,
           3934,
           4387,
           4344,
           4236.5,
           3827.5,
           3608.5
          ],
          [
           3783.5,
           3900.5,
           3949,
           4099,
           4127,
           4149,
           4349,
           4580.5,
           4857.5,
           5048.5,
           5250,
           4744.5,
           4698.5,
           4854,
           4992,
           4958.5,
           5307.5,
           5240.5,
           4702,
           3729,
           3058,
           3023.5,
           3273.5,
           3681.5,
           3735,
           3655.5,
           3334.5,
           3160.5
          ],
          [
           3566.5,
           3713.5,
           3752,
           3919,
           4038,
           4130,
           4315.5,
           4649.5,
           5011.5,
           5509.5,
           5617.5,
           5128,
           5057.5,
           4717,
           4483.5,
           4237.5,
           4564.5,
           4585.5,
           4081,
           3042,
           2359,
           2406.5,
           2614.5,
           2865.5,
           2922,
           2839.5,
           2678,
           2619
          ],
          [
           3552,
           3576.5,
           3583,
           3798,
           4003.5,
           3910.5,
           4078,
           4526,
           4785.5,
           5207.5,
           5368.5,
           4980.5,
           4821.5,
           4206.5,
           3836.5,
           3607,
           3915.5,
           4058,
           3794.5,
           2864.5,
           2190.5,
           2245.5,
           2363.5,
           2508.5,
           2486.5,
           2437.5,
           2535,
           2511.5
          ],
          [
           3840.5,
           3560.5,
           3418,
           3584,
           3895,
           3731.5,
           3674.5,
           3996,
           4302.5,
           4635.5,
           4524,
           4222.5,
           4052,
           3415,
           3104,
           3073,
           3368,
           3681,
           3750.5,
           2885,
           2357,
           2493,
           2631,
           2753,
           2737.5,
           2648.5,
           2856,
           2790
          ],
          [
           4351,
           3828,
           3444.5,
           3376,
           3516.5,
           3486.5,
           3411.5,
           3411.5,
           3421.5,
           3645,
           3504.5,
           3285,
           3065.5,
           2573.5,
           2423.5,
           2611.5,
           2983.5,
           3412,
           3776.5,
           3284.5,
           2996,
           3147.5,
           3169,
           3178,
           3174,
           3059,
           3049,
           2989
          ],
          [
           4604.5,
           4054,
           3610.5,
           3235.5,
           3041,
           3142.5,
           3180,
           3035.5,
           2835,
           2751,
           2604.5,
           2544.5,
           2450.5,
           2171,
           2154.5,
           2426.5,
           2902.5,
           3432.5,
           3898.5,
           3794,
           3703.5,
           3742.5,
           3558,
           3407.5,
           3254,
           3100,
           2960,
           2922.5
          ],
          [
           4760.5,
           4200.5,
           3867,
           3282.5,
           2980,
           2896,
           2941.5,
           2855.5,
           2632,
           2449.5,
           2220,
           2090.5,
           2062,
           1967.5,
           2104,
           2212.5,
           2684,
           3295,
           3813.5,
           3918.5,
           4054,
           3945.5,
           3651.5,
           3449,
           3173,
           2968.5,
           2920,
           2901
          ],
          [
           5076,
           4641.5,
           4318,
           3757,
           3556.5,
           3295.5,
           3101,
           3047,
           2793,
           2610,
           2437.5,
           2320.5,
           2204,
           2130.5,
           2295,
           2367.5,
           2635,
           3242.5,
           3757.5,
           3882,
           4201,
           4149.5,
           3648.5,
           3455.5,
           3198,
           2865.5,
           2845,
           2833
          ],
          [
           5310.5,
           5059.5,
           4826,
           4352.5,
           4155.5,
           3927.5,
           3703,
           3519.5,
           3239,
           3015,
           2921.5,
           3019,
           3013,
           2939,
           3042.5,
           2966.5,
           3010,
           3382.5,
           3703,
           3795,
           4055,
           3989.5,
           3404,
           3184.5,
           3022,
           2706,
           2744,
           2925.5
          ],
          [
           5519,
           5185,
           4924.5,
           4637.5,
           4458,
           4260.5,
           4155,
           3965,
           3724,
           3473,
           3394.5,
           3643.5,
           3828,
           3843.5,
           3818.5,
           3570,
           3471.5,
           3566,
           3580.5,
           3591.5,
           3701.5,
           3575,
           3142,
           3009.5,
           2988,
           2893,
           3067,
           3439.5
          ]
         ]
        }
       ],
       "layout": {
        "annotations": [
         {
          "font": {},
          "showarrow": false,
          "text": "facet_col=0",
          "x": 0.245,
          "xanchor": "center",
          "xref": "paper",
          "y": 1,
          "yanchor": "bottom",
          "yref": "paper"
         },
         {
          "font": {},
          "showarrow": false,
          "text": "facet_col=1",
          "x": 0.755,
          "xanchor": "center",
          "xref": "paper",
          "y": 1,
          "yanchor": "bottom",
          "yref": "paper"
         }
        ],
        "coloraxis": {
         "colorscale": [
          [
           0,
           "#0d0887"
          ],
          [
           0.1111111111111111,
           "#46039f"
          ],
          [
           0.2222222222222222,
           "#7201a8"
          ],
          [
           0.3333333333333333,
           "#9c179e"
          ],
          [
           0.4444444444444444,
           "#bd3786"
          ],
          [
           0.5555555555555556,
           "#d8576b"
          ],
          [
           0.6666666666666666,
           "#ed7953"
          ],
          [
           0.7777777777777778,
           "#fb9f3a"
          ],
          [
           0.8888888888888888,
           "#fdca26"
          ],
          [
           1,
           "#f0f921"
          ]
         ]
        },
        "margin": {
         "t": 60
        },
        "template": {
         "data": {
          "bar": [
           {
            "error_x": {
             "color": "#2a3f5f"
            },
            "error_y": {
             "color": "#2a3f5f"
            },
            "marker": {
             "line": {
              "color": "#E5ECF6",
              "width": 0.5
             },
             "pattern": {
              "fillmode": "overlay",
              "size": 10,
              "solidity": 0.2
             }
            },
            "type": "bar"
           }
          ],
          "barpolar": [
           {
            "marker": {
             "line": {
              "color": "#E5ECF6",
              "width": 0.5
             },
             "pattern": {
              "fillmode": "overlay",
              "size": 10,
              "solidity": 0.2
             }
            },
            "type": "barpolar"
           }
          ],
          "carpet": [
           {
            "aaxis": {
             "endlinecolor": "#2a3f5f",
             "gridcolor": "white",
             "linecolor": "white",
             "minorgridcolor": "white",
             "startlinecolor": "#2a3f5f"
            },
            "baxis": {
             "endlinecolor": "#2a3f5f",
             "gridcolor": "white",
             "linecolor": "white",
             "minorgridcolor": "white",
             "startlinecolor": "#2a3f5f"
            },
            "type": "carpet"
           }
          ],
          "choropleth": [
           {
            "colorbar": {
             "outlinewidth": 0,
             "ticks": ""
            },
            "type": "choropleth"
           }
          ],
          "contour": [
           {
            "colorbar": {
             "outlinewidth": 0,
             "ticks": ""
            },
            "colorscale": [
             [
              0,
              "#0d0887"
             ],
             [
              0.1111111111111111,
              "#46039f"
             ],
             [
              0.2222222222222222,
              "#7201a8"
             ],
             [
              0.3333333333333333,
              "#9c179e"
             ],
             [
              0.4444444444444444,
              "#bd3786"
             ],
             [
              0.5555555555555556,
              "#d8576b"
             ],
             [
              0.6666666666666666,
              "#ed7953"
             ],
             [
              0.7777777777777778,
              "#fb9f3a"
             ],
             [
              0.8888888888888888,
              "#fdca26"
             ],
             [
              1,
              "#f0f921"
             ]
            ],
            "type": "contour"
           }
          ],
          "contourcarpet": [
           {
            "colorbar": {
             "outlinewidth": 0,
             "ticks": ""
            },
            "type": "contourcarpet"
           }
          ],
          "heatmap": [
           {
            "colorbar": {
             "outlinewidth": 0,
             "ticks": ""
            },
            "colorscale": [
             [
              0,
              "#0d0887"
             ],
             [
              0.1111111111111111,
              "#46039f"
             ],
             [
              0.2222222222222222,
              "#7201a8"
             ],
             [
              0.3333333333333333,
              "#9c179e"
             ],
             [
              0.4444444444444444,
              "#bd3786"
             ],
             [
              0.5555555555555556,
              "#d8576b"
             ],
             [
              0.6666666666666666,
              "#ed7953"
             ],
             [
              0.7777777777777778,
              "#fb9f3a"
             ],
             [
              0.8888888888888888,
              "#fdca26"
             ],
             [
              1,
              "#f0f921"
             ]
            ],
            "type": "heatmap"
           }
          ],
          "heatmapgl": [
           {
            "colorbar": {
             "outlinewidth": 0,
             "ticks": ""
            },
            "colorscale": [
             [
              0,
              "#0d0887"
             ],
             [
              0.1111111111111111,
              "#46039f"
             ],
             [
              0.2222222222222222,
              "#7201a8"
             ],
             [
              0.3333333333333333,
              "#9c179e"
             ],
             [
              0.4444444444444444,
              "#bd3786"
             ],
             [
              0.5555555555555556,
              "#d8576b"
             ],
             [
              0.6666666666666666,
              "#ed7953"
             ],
             [
              0.7777777777777778,
              "#fb9f3a"
             ],
             [
              0.8888888888888888,
              "#fdca26"
             ],
             [
              1,
              "#f0f921"
             ]
            ],
            "type": "heatmapgl"
           }
          ],
          "histogram": [
           {
            "marker": {
             "pattern": {
              "fillmode": "overlay",
              "size": 10,
              "solidity": 0.2
             }
            },
            "type": "histogram"
           }
          ],
          "histogram2d": [
           {
            "colorbar": {
             "outlinewidth": 0,
             "ticks": ""
            },
            "colorscale": [
             [
              0,
              "#0d0887"
             ],
             [
              0.1111111111111111,
              "#46039f"
             ],
             [
              0.2222222222222222,
              "#7201a8"
             ],
             [
              0.3333333333333333,
              "#9c179e"
             ],
             [
              0.4444444444444444,
              "#bd3786"
             ],
             [
              0.5555555555555556,
              "#d8576b"
             ],
             [
              0.6666666666666666,
              "#ed7953"
             ],
             [
              0.7777777777777778,
              "#fb9f3a"
             ],
             [
              0.8888888888888888,
              "#fdca26"
             ],
             [
              1,
              "#f0f921"
             ]
            ],
            "type": "histogram2d"
           }
          ],
          "histogram2dcontour": [
           {
            "colorbar": {
             "outlinewidth": 0,
             "ticks": ""
            },
            "colorscale": [
             [
              0,
              "#0d0887"
             ],
             [
              0.1111111111111111,
              "#46039f"
             ],
             [
              0.2222222222222222,
              "#7201a8"
             ],
             [
              0.3333333333333333,
              "#9c179e"
             ],
             [
              0.4444444444444444,
              "#bd3786"
             ],
             [
              0.5555555555555556,
              "#d8576b"
             ],
             [
              0.6666666666666666,
              "#ed7953"
             ],
             [
              0.7777777777777778,
              "#fb9f3a"
             ],
             [
              0.8888888888888888,
              "#fdca26"
             ],
             [
              1,
              "#f0f921"
             ]
            ],
            "type": "histogram2dcontour"
           }
          ],
          "mesh3d": [
           {
            "colorbar": {
             "outlinewidth": 0,
             "ticks": ""
            },
            "type": "mesh3d"
           }
          ],
          "parcoords": [
           {
            "line": {
             "colorbar": {
              "outlinewidth": 0,
              "ticks": ""
             }
            },
            "type": "parcoords"
           }
          ],
          "pie": [
           {
            "automargin": true,
            "type": "pie"
           }
          ],
          "scatter": [
           {
            "fillpattern": {
             "fillmode": "overlay",
             "size": 10,
             "solidity": 0.2
            },
            "type": "scatter"
           }
          ],
          "scatter3d": [
           {
            "line": {
             "colorbar": {
              "outlinewidth": 0,
              "ticks": ""
             }
            },
            "marker": {
             "colorbar": {
              "outlinewidth": 0,
              "ticks": ""
             }
            },
            "type": "scatter3d"
           }
          ],
          "scattercarpet": [
           {
            "marker": {
             "colorbar": {
              "outlinewidth": 0,
              "ticks": ""
             }
            },
            "type": "scattercarpet"
           }
          ],
          "scattergeo": [
           {
            "marker": {
             "colorbar": {
              "outlinewidth": 0,
              "ticks": ""
             }
            },
            "type": "scattergeo"
           }
          ],
          "scattergl": [
           {
            "marker": {
             "colorbar": {
              "outlinewidth": 0,
              "ticks": ""
             }
            },
            "type": "scattergl"
           }
          ],
          "scattermapbox": [
           {
            "marker": {
             "colorbar": {
              "outlinewidth": 0,
              "ticks": ""
             }
            },
            "type": "scattermapbox"
           }
          ],
          "scatterpolar": [
           {
            "marker": {
             "colorbar": {
              "outlinewidth": 0,
              "ticks": ""
             }
            },
            "type": "scatterpolar"
           }
          ],
          "scatterpolargl": [
           {
            "marker": {
             "colorbar": {
              "outlinewidth": 0,
              "ticks": ""
             }
            },
            "type": "scatterpolargl"
           }
          ],
          "scatterternary": [
           {
            "marker": {
             "colorbar": {
              "outlinewidth": 0,
              "ticks": ""
             }
            },
            "type": "scatterternary"
           }
          ],
          "surface": [
           {
            "colorbar": {
             "outlinewidth": 0,
             "ticks": ""
            },
            "colorscale": [
             [
              0,
              "#0d0887"
             ],
             [
              0.1111111111111111,
              "#46039f"
             ],
             [
              0.2222222222222222,
              "#7201a8"
             ],
             [
              0.3333333333333333,
              "#9c179e"
             ],
             [
              0.4444444444444444,
              "#bd3786"
             ],
             [
              0.5555555555555556,
              "#d8576b"
             ],
             [
              0.6666666666666666,
              "#ed7953"
             ],
             [
              0.7777777777777778,
              "#fb9f3a"
             ],
             [
              0.8888888888888888,
              "#fdca26"
             ],
             [
              1,
              "#f0f921"
             ]
            ],
            "type": "surface"
           }
          ],
          "table": [
           {
            "cells": {
             "fill": {
              "color": "#EBF0F8"
             },
             "line": {
              "color": "white"
             }
            },
            "header": {
             "fill": {
              "color": "#C8D4E3"
             },
             "line": {
              "color": "white"
             }
            },
            "type": "table"
           }
          ]
         },
         "layout": {
          "annotationdefaults": {
           "arrowcolor": "#2a3f5f",
           "arrowhead": 0,
           "arrowwidth": 1
          },
          "autotypenumbers": "strict",
          "coloraxis": {
           "colorbar": {
            "outlinewidth": 0,
            "ticks": ""
           }
          },
          "colorscale": {
           "diverging": [
            [
             0,
             "#8e0152"
            ],
            [
             0.1,
             "#c51b7d"
            ],
            [
             0.2,
             "#de77ae"
            ],
            [
             0.3,
             "#f1b6da"
            ],
            [
             0.4,
             "#fde0ef"
            ],
            [
             0.5,
             "#f7f7f7"
            ],
            [
             0.6,
             "#e6f5d0"
            ],
            [
             0.7,
             "#b8e186"
            ],
            [
             0.8,
             "#7fbc41"
            ],
            [
             0.9,
             "#4d9221"
            ],
            [
             1,
             "#276419"
            ]
           ],
           "sequential": [
            [
             0,
             "#0d0887"
            ],
            [
             0.1111111111111111,
             "#46039f"
            ],
            [
             0.2222222222222222,
             "#7201a8"
            ],
            [
             0.3333333333333333,
             "#9c179e"
            ],
            [
             0.4444444444444444,
             "#bd3786"
            ],
            [
             0.5555555555555556,
             "#d8576b"
            ],
            [
             0.6666666666666666,
             "#ed7953"
            ],
            [
             0.7777777777777778,
             "#fb9f3a"
            ],
            [
             0.8888888888888888,
             "#fdca26"
            ],
            [
             1,
             "#f0f921"
            ]
           ],
           "sequentialminus": [
            [
             0,
             "#0d0887"
            ],
            [
             0.1111111111111111,
             "#46039f"
            ],
            [
             0.2222222222222222,
             "#7201a8"
            ],
            [
             0.3333333333333333,
             "#9c179e"
            ],
            [
             0.4444444444444444,
             "#bd3786"
            ],
            [
             0.5555555555555556,
             "#d8576b"
            ],
            [
             0.6666666666666666,
             "#ed7953"
            ],
            [
             0.7777777777777778,
             "#fb9f3a"
            ],
            [
             0.8888888888888888,
             "#fdca26"
            ],
            [
             1,
             "#f0f921"
            ]
           ]
          },
          "colorway": [
           "#636efa",
           "#EF553B",
           "#00cc96",
           "#ab63fa",
           "#FFA15A",
           "#19d3f3",
           "#FF6692",
           "#B6E880",
           "#FF97FF",
           "#FECB52"
          ],
          "font": {
           "color": "#2a3f5f"
          },
          "geo": {
           "bgcolor": "white",
           "lakecolor": "white",
           "landcolor": "#E5ECF6",
           "showlakes": true,
           "showland": true,
           "subunitcolor": "white"
          },
          "hoverlabel": {
           "align": "left"
          },
          "hovermode": "closest",
          "mapbox": {
           "style": "light"
          },
          "paper_bgcolor": "white",
          "plot_bgcolor": "#E5ECF6",
          "polar": {
           "angularaxis": {
            "gridcolor": "white",
            "linecolor": "white",
            "ticks": ""
           },
           "bgcolor": "#E5ECF6",
           "radialaxis": {
            "gridcolor": "white",
            "linecolor": "white",
            "ticks": ""
           }
          },
          "scene": {
           "xaxis": {
            "backgroundcolor": "#E5ECF6",
            "gridcolor": "white",
            "gridwidth": 2,
            "linecolor": "white",
            "showbackground": true,
            "ticks": "",
            "zerolinecolor": "white"
           },
           "yaxis": {
            "backgroundcolor": "#E5ECF6",
            "gridcolor": "white",
            "gridwidth": 2,
            "linecolor": "white",
            "showbackground": true,
            "ticks": "",
            "zerolinecolor": "white"
           },
           "zaxis": {
            "backgroundcolor": "#E5ECF6",
            "gridcolor": "white",
            "gridwidth": 2,
            "linecolor": "white",
            "showbackground": true,
            "ticks": "",
            "zerolinecolor": "white"
           }
          },
          "shapedefaults": {
           "line": {
            "color": "#2a3f5f"
           }
          },
          "ternary": {
           "aaxis": {
            "gridcolor": "white",
            "linecolor": "white",
            "ticks": ""
           },
           "baxis": {
            "gridcolor": "white",
            "linecolor": "white",
            "ticks": ""
           },
           "bgcolor": "#E5ECF6",
           "caxis": {
            "gridcolor": "white",
            "linecolor": "white",
            "ticks": ""
           }
          },
          "title": {
           "x": 0.05
          },
          "xaxis": {
           "automargin": true,
           "gridcolor": "white",
           "linecolor": "white",
           "ticks": "",
           "title": {
            "standoff": 15
           },
           "zerolinecolor": "white",
           "zerolinewidth": 2
          },
          "yaxis": {
           "automargin": true,
           "gridcolor": "white",
           "linecolor": "white",
           "ticks": "",
           "title": {
            "standoff": 15
           },
           "zerolinecolor": "white",
           "zerolinewidth": 2
          }
         }
        },
        "xaxis": {
         "anchor": "y",
         "constrain": "domain",
         "domain": [
          0,
          0.49
         ],
         "scaleanchor": "y"
        },
        "xaxis2": {
         "anchor": "y2",
         "domain": [
          0.51,
          1
         ],
         "matches": "x"
        },
        "yaxis": {
         "anchor": "x",
         "autorange": "reversed",
         "constrain": "domain",
         "domain": [
          0,
          1
         ]
        },
        "yaxis2": {
         "anchor": "x2",
         "domain": [
          0,
          1
         ],
         "matches": "y",
         "showticklabels": false
        }
       }
      }
     },
     "metadata": {},
     "output_type": "display_data"
    }
   ],
   "source": [
    "display(\"custom\")\n",
    "px.imshow(cross_correlations[1], facet_col=2).show()\n",
    "display(\"scipy\")\n",
    "scipy_cross_correlations = np.stack([cross_correlate_multi_channel_2d(input, multi_channels_kernels) for input in inputs])\n",
    "px.imshow(scipy_cross_correlations[1], facet_col=0)"
   ]
  }
 ],
 "metadata": {
  "kernelspec": {
   "display_name": "CNN",
   "language": "python",
   "name": "python3"
  },
  "language_info": {
   "codemirror_mode": {
    "name": "ipython",
    "version": 3
   },
   "file_extension": ".py",
   "mimetype": "text/x-python",
   "name": "python",
   "nbconvert_exporter": "python",
   "pygments_lexer": "ipython3",
   "version": "3.12.3"
  }
 },
 "nbformat": 4,
 "nbformat_minor": 2
}
