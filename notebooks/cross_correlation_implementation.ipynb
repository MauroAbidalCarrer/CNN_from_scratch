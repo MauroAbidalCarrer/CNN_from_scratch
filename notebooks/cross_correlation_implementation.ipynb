{
 "cells": [
  {
   "cell_type": "code",
   "execution_count": 2,
   "metadata": {},
   "outputs": [],
   "source": [
    "import numpy as np\n",
    "import plotly.express as px\n",
    "from numpy import ndarray\n",
    "from numpy.lib.stride_tricks import as_strided\n",
    "\n",
    "from cifar_10_dataset_loading import load_cifar_10"
   ]
  },
  {
   "cell_type": "code",
   "execution_count": 3,
   "metadata": {},
   "outputs": [],
   "source": [
    "x_train, y_train, x_test, y_test = load_cifar_10()"
   ]
  },
  {
   "cell_type": "code",
   "execution_count": 4,
   "metadata": {},
   "outputs": [
    {
     "data": {
      "application/vnd.plotly.v1+json": {
       "config": {
        "plotlyServerURL": "https://plot.ly"
       },
       "data": [
        {
         "hovertemplate": "x: %{x}<br>y: %{y}<br>color: %{z}<extra></extra>",
         "name": "0",
         "source": "data:image/png;base64,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",
         "type": "image",
         "xaxis": "x",
         "yaxis": "y"
        },
        {
         "hovertemplate": "x: %{x}<br>y: %{y}<br>color: %{z}<extra></extra>",
         "name": "1",
         "source": "data:image/png;base64,iVBORw0KGgoAAAANSUhEUgAAACAAAAAgCAIAAAD8GO2jAAAHrklEQVR4XjWUS5Ncx3GFT2ZV3Uc/pgeDwQADARQlUZStCNEmI2z/Zv8G77TwwuGFZYoKh2BGmBTxEIjBzHRPd99blZnHi6Yyall54tSXWUf+9d9+P8/zw263323bYeetujUFkiSRpIquL2dnq8XYgZzn9rDbt+Y5p81mffX0cr1eHY777XZ32E/zXGudUxZrHiSIWluWNI6rxbDYXFyaTfub9+/+549/uP/4oct5GBd9XzabM4+63WpY5FTcmVK+uLh48fL5s6dPSpdrnb/99tvvv3t7+3G7WAzrTd/MSYbHcZqyVVNVAIAQ6fXrt69e/e+b7//PbR6GblyMX375Zd+/LKWf52btqCJPr66unz1bLVY//OX1dnf/809fLhZjs/bD278ul+O1PhKRINxinltu1lRVVQUxHfe3tzfjOJxt1h/e7//67mPXD//wxVd3H3dTu23uAnZJPv/8s1rnP/z3139+9Wqq81eH43rVz3W629193N4RLfeFgBsFmlurKeWuK6WkiHZ5efH+7Xe1zrW2QP78737Xj2e394fb+3uzBsZmtSTx5t2bP/7pm9dv3wXl6s2z8/W42z4cDvu7+4dpf+iHPnclqWpK2ZoxAIChqqVW294/fPhwe5z86umLz37997d3u8NhqjU8KOQwLna77f3d2/32TdT7ZmV3+xFtud/vW2u1tjqHKIlwjeCcPZwiPvkUPh8e3v7wl/vbW0i6fvHp7774x/1+d3d7SyZKIkRTHleLu93NNL1fL3bFpvc3xrbd7qbD8SDQnIqWAtUAI8JrzUAwPAir9X57//7H9y3i089+/ekvfrVcjv/577/frC9Kt6QKYV1OF+crzbLd15u7CdUiDakr+3l2crE6C+ktQpoRSSQozEETMAIeTujV85ef/Oo3l1dPifju1TfjuFitVlO1XNJ6uYpp+3gzVPj+ED/eMEwWjwctvU9NS//o8ebskf74/l07bAX9+vx8GLrcZ4oiAllzenzx1T/9c0hy6GH/cP2zn7+8ev7N1/9Vhv4Xv3xxffVkuns7djLPrR+6s81FrW2xGI7Hqc4mqZydPX70+Orq6ZM/f/0f42J1/bNPluuz/HyUkKjUKdKuIpRuEWS/Wj7pfllv3lFtc/Hs+vrFJ9eXwyeXHz5+uLnZ393boWYPyFHexz2geRildEhd7sbtbs4lNOUyLPOZhIvuycYIN7PmAVKCJNmk/Parf1muHrkO37/+0GMG+LCL4zHMAEkMjVBGFIiKNrOgnD+5Xq7Xkou55xZuopNzMph5kAwECVJEh83lcH4GJBJQRPPpsJ8O1WqQIgBD3E+XRVRJlq7/zW+/EBXR5BH5dnZT2bvsW8y1mnkLBkEC1KCSAjIjFO5su4f9cT66NQQhCItQ15wlZRF1DzAkFYIRBCPvZjfh5D43b0bzsICTpIB+AiUQoZtPXg/TNHuYKLMCoCIAhSZopoi7S3gAJEkCzI1upLl7OCkREcEIEEICAEmQASc9vDarEQ10IOSkrICcsoCUkIg4aZMAcpAUUkBB0HnKDQjIn3oAEEAEza2aV48WYcFIUFGFUARBmruICCMiiJ/MZbWIJEKqMKUgwBCC5qenEBAhgubWamtuQQ/SAYhARUlJuRfN7g4Qf3N0qow2SeQsIoKc0ABEeDjdI8KdgAqhNLHmFm4RHoyQn0qd0FwkpfATADnhEYGIZPgs3vTkB+IOetCJCImABwMRUJiEububuXuQKiIiEaEp912XUz6xJ0kGT4srkseiQZgzCAdzyimlnNgiADGPeW7zXN2auLuZeXMzRqioAu5crJbdMErO0ZwE8bdDCpnZJkXqRDWlEDijk5RVZioAR+76JHu3A9EiLNymcFNIBjJRRXU8My1CoSoRJBBymjDJDG+aIACIcAeVIUlTrwpVFwx93yWdVCarR9LdSKoqVJD17PzRerNJpSNBKgAza83dcdrBvBz7rvQpd0Ec6hwGqaERoSpJHRKA5CSltJR+ohtBUaikcXj87Eq7vutK33WlZAL7/eHu/qE2J0WD+fH5RrUENchSUq1WUswWjQwaIAKhSN9342KhSUFXpaiUcVw+euSiYbYcusVQSslmzqGYDRYEaeb5sD8QCUil64Y+913xwFTbca7NXYLVWzjdqSqlZEGooBv74WydxsWh1kWfIXRvEWZmEdF1qZckIu6Wt7sHUErpSpKsWrreiZRUFdNc2Xw+TmwBMNHWiz6nVIZheflkPD/XpAKGtMlmPzTy9IlpxpxLKUVEclDqNIW1zWrskqYEJYAUkabJo04dkLMSYJb1k8fTPFsZpF+k3ClEFC4EPOSEUyQkJaoIg2aWI/x4PFaVs7NVN+ko0KRZJAuU7LMUBaAEgui78eWL5w/VZldSVaAKqmiBZIEmQOF0I0Pco01zzukERChBRmuzupKI5lmkX/bH4+RmERRSRDelJItKQlFKUkWAFZzDjREU2CnlxYPN5rxZLtbjMiVdLofSZTOf56N7EDp0OWXCc6U7SIp7tHleCsY+adY+py6rit5Ntq3tENGIOAWwqIqUzFyS5L5LOZWsAjDcWotgLqVkEeXQFRDNEKC4rPJwnGoNp4czrGG9GDcaSX1ANIipNGhAIZpN/x9hsgd1iprXFQAAAABJRU5ErkJggg==",
         "type": "image",
         "xaxis": "x2",
         "yaxis": "y2"
        },
        {
         "hovertemplate": "x: %{x}<br>y: %{y}<br>color: %{z}<extra></extra>",
         "name": "2",
         "source": "data:image/png;base64,iVBORw0KGgoAAAANSUhEUgAAACAAAAAgCAIAAAD8GO2jAAAKD0lEQVR4XgXBaY8cx2EA0Dr77unpOXZ2Zy/uyZugLYkWbcuWKNtxxCCAEyA/JEB+lj8kCGI4iGzZUpxYpkNSPJbLJfecnZ27Z/qsruqqynvwX+67iZCl3f75x2uj0ei0HymFl+rWpz/+8O7Hf2+4YTZ4mU+OqeMXVeJ7dZf4LBlJmWYCnIyGLy4m//Vk/H/v4hlTUGvPhgZBXMj91fpmxzkeJYRiQBWOkvjd+6NFzMczvSiqs2G+unrqN55yIXyUUQQLkTEpgK6UwbOk4MWCUrTm4cZuuNu2v/lu8uWzSZSqj+6uXN9e5WV5c63lW+Dpq5fwnz/0DdNJmHBtOYj5LAYCIIfAnY4jsRWx1PFdjcwkUykrXc+j1MizGIkqrBPXQU2Tri05dd/ojSazOd/av7m9/70qmyE2i+J4PLwg2PacpR02OhE6qqSGGENduRaNcna+yE8TGfG01LgSCGoFwFRrrQHAkCIENYIGki0bbDTtW+vW9RXqWiiKRpP+CZHAMEjoUpKVYD4tHFVBiAjFpiZQa9MiFoUoR3EFmEYQaEw00BhACAAAGiCgoQYVAEUFzhM4yEsTUVOaOY+667ioqmWn026HpDAQK8vj0/eAC5dajkWlqkxC667hm6hp4hqFSioNEIQQgwqrCiiglaoUkghTrGwDuRR1PHytbnmmB1EwGSYWdlqhE9pGxhGhFKdCRrnc7BK7gbmsVKY8A2gCNloAGuR3b2UGsNZaaAg0wJhgVRlYNHzLI7gTWjVXJ0weDWcjxms5L3m+0qxBhLJs0Ds+JHmpUgWPYvl96nVbYRoPS1RwKS23HrhCm2I7wpdzqZQyDdMwFdbAM2wKqmYNh77lEk0MlVjI29jvbt4ZRf3joxfvetGri8nDXe+j3W1CDbwcoKzQEqjl0EuX09QDotKe27iMZleJWKpDirES0Ldh4BsWNaUGjMnbu0vLdYMnSZblGFqMBsfD+ckkBta1oOFdnBy+HaIP9jxybT3YMn3Hbi7VK2SZEEClgQLobDDuRazRqq+26GEvrUG8t+pYhrKCIJ0VkxwaTms8GbX9egmd6WX5/PxkkeWFYLsr61tB44eP/w5kF4PeG+IaqrFeo1YjGo9n0xHLjP6M5ponTDp+5xePPg2c4IMFpfkbCtnxWW8x4YOISaeT0M1UEQDcg1H/MpdxNldcYC731pf/6fEjrdlXX/63DTKiOWrV1gG0C35MTKu53BzKq7PzQd2mn3/y03prq3fwrGZZw1n8drgYzuUoyR0/DIiN42nYDA+upl+/OPLDQFS6u7zy8KOP//FXX1wcPfu3X//r4Ori0z2bVLTGcGhi06gtD+bJ4Pjq7GrAJWkFHSTFwauD/tEbt96ecTAusTRct+kKLiazqWd34oS9endUlHkViZ/85Ge/+ttfFln25W9/e/rsfxYXPVTkz44qcjbPzdEVkOz88mIaldGcCVaurTTNWucvb86SvOyu7Ef5IueMMVZJlUmV5mxjdSNsLb188fTkohd41k8fPvzsBx/+6T9/c/r+DeK8UcRtmfp1AKkmw7i4iUkpQFKKLJ772DCCwBLg/cWUm94Pf/zZ/ta1Z3/+fTHuS1mVopLQaC+vdtd3qSU5QFs7+//w+IuN0D148tXL5y9XA4dIJrJUaeDYVqPbIY1GOwNhITQlrc4yElz0h0WzQRmEH3z/zqefP1KMmZYT+HVkmv3pInCCRr1eFYvT3rlv0E+++Cyfz7/+69fb26uff/Lw9Mk3k1lEEIEA+x6VlJC2i4+Oe5ZnY9upIdKPsvaS51lq0Lt88+LbumM8ePj5WnftOJkAv7VphabObN23CdZt/2qmD5788WrQf/Tg/trKqkjHOS6pC1IhEMQ769RyJcnj2Gu0i1LkaWa7tobW3rqXzq92WuHhYPLdkz9ZEBOIyyxCddel+majjhQuq2m32frRvXt/eP52dHVZZPMkHfHxcZcUQR1GEiJMlpu05kI0HEWgLG7tXJvGXCjOeRnNklazU293HcdX5fjpk6/eH34rRc7iKYVsY3N3/85jAMw8L7RB40qOEp4psxCqVl8qrVpwbXO9G2wvm2cjdjzKCdI5W4yA4rf3d+Px2TzOQgzSgkQJ3N2+1qX5/z57uRjzVqstOBoO8rYqP/rR42bjRszG//6b371+d3zvzoZl6WSedHdu6LuNJD3PFomJ9OiUFSwj7bo1mQ/eHL768M79bwZ9LkrbarJSclZwze9ev7G7J0fRoGbi02g2muZJJ1hEfcP2z4++BYLd2euqsjg5OHAsAKsYAqvXO5nPiiXPAoVUHBCgcKXZu5NjFxk1272xXosraUpSr5kFUChs31u5kbIFGxyO0gNeyZRXVxfvPd8eX55Nx3LAGMjYZsexMT5//aLIJYIaaVUkAgLoGwrhKjc0iOLk9UVvpWPf3r41TKr3k0WFzI3OcsVTJ2jcvfdg99aD9Ws7acnf9wbD0VU27VPTej0sXl3mmcBJzq+iYrYoQQUAwErAshRYSkAxub617A6zcZ5NZvNvD083W6s3dnZ1pZ8//8tJ79I2jjeux7/82d/kLB/Pi3lRXi0KWelKaykVAWI7wC2KeCZmldIA2UihElQVtKkBTMwXkrQ6TdtzCZ4977OL89mLo/4vHnzvB3duR9PBn797xrg8GY4n06s8mb09vcyYOOWLi+EoDLsE0TtLdtdVmldAoVFhKAS32ygvKkQMUSpDqUxAonlBiLy+GRi0ak+L3x/Hv/7ym5PB4NH923srwX/84Y+DaPr8+VNd8XHMC4lYJY4n423eLJgKbFrztEM80/Y3VTGKknrNoJjtrboiqUSZR6lHXNOmokiFqnlwSwq8Z7+ZgsOjk6vx9N7W2vpK23O9JMkMTEyPXHKRC/x6mDffXi35ZsNpmIFXcy0TJkZ+zhl8fZavBHaZpYNYHfV1WnIyGC0wggqSmLnvp9yzjQfreDtQbwbzJ3+dma65FATXNtYpkGlZoiSHlXYQBZJg03LdRo5ANh76fJrMkkGsLhZqlrCzSE8EmMayAQRhZZ4zsN5dnksQNuuzqMwkqbno1oY7y+TlaHTan4yKMnSssNEu4ypKpqFJ1VxM8+z6mhMliygaNxxapsaiUjREcwZO09Iker1Bd32DbO0ux7GQogrbtXudgCW8N0mRFYwZaOXZTj3ozfhgPHck8S3xccd6p0wKqpZdZgI7erq97T7rN2uO3XGMw8GQKzjvTX1c3Vut7QdktWGQ0OkEdjXP0nySvztJ6ybdX/EAxp2UT3i5APDmpkGvexmgYcsnhnd/L1xMx0lczhk0dWmW0uX5LJrGBF5ETEi66hm3lmpbba9uQEwEqZResGq8yDBfzMaL1xnabDsU6bptIg2ZkojKMHCbTggMM2NVw6zckL5IFCAgzfh3k3TI5JQpClVg2jXfvb1dW61TBDUBKmf6/wH6NRatfi0evgAAAABJRU5ErkJggg==",
         "type": "image",
         "xaxis": "x3",
         "yaxis": "y3"
        },
        {
         "hovertemplate": "x: %{x}<br>y: %{y}<br>color: %{z}<extra></extra>",
         "name": "3",
         "source": "data:image/png;base64,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",
         "type": "image",
         "xaxis": "x4",
         "yaxis": "y4"
        }
       ],
       "layout": {
        "annotations": [
         {
          "font": {},
          "showarrow": false,
          "text": "facet_col=0",
          "x": 0.1175,
          "xanchor": "center",
          "xref": "paper",
          "y": 1,
          "yanchor": "bottom",
          "yref": "paper"
         },
         {
          "font": {},
          "showarrow": false,
          "text": "facet_col=1",
          "x": 0.3725,
          "xanchor": "center",
          "xref": "paper",
          "y": 1,
          "yanchor": "bottom",
          "yref": "paper"
         },
         {
          "font": {},
          "showarrow": false,
          "text": "facet_col=2",
          "x": 0.6275,
          "xanchor": "center",
          "xref": "paper",
          "y": 1,
          "yanchor": "bottom",
          "yref": "paper"
         },
         {
          "font": {},
          "showarrow": false,
          "text": "facet_col=3",
          "x": 0.8824999999999998,
          "xanchor": "center",
          "xref": "paper",
          "y": 1,
          "yanchor": "bottom",
          "yref": "paper"
         }
        ],
        "margin": {
         "t": 60
        },
        "template": {
         "data": {
          "bar": [
           {
            "error_x": {
             "color": "#2a3f5f"
            },
            "error_y": {
             "color": "#2a3f5f"
            },
            "marker": {
             "line": {
              "color": "#E5ECF6",
              "width": 0.5
             },
             "pattern": {
              "fillmode": "overlay",
              "size": 10,
              "solidity": 0.2
             }
            },
            "type": "bar"
           }
          ],
          "barpolar": [
           {
            "marker": {
             "line": {
              "color": "#E5ECF6",
              "width": 0.5
             },
             "pattern": {
              "fillmode": "overlay",
              "size": 10,
              "solidity": 0.2
             }
            },
            "type": "barpolar"
           }
          ],
          "carpet": [
           {
            "aaxis": {
             "endlinecolor": "#2a3f5f",
             "gridcolor": "white",
             "linecolor": "white",
             "minorgridcolor": "white",
             "startlinecolor": "#2a3f5f"
            },
            "baxis": {
             "endlinecolor": "#2a3f5f",
             "gridcolor": "white",
             "linecolor": "white",
             "minorgridcolor": "white",
             "startlinecolor": "#2a3f5f"
            },
            "type": "carpet"
           }
          ],
          "choropleth": [
           {
            "colorbar": {
             "outlinewidth": 0,
             "ticks": ""
            },
            "type": "choropleth"
           }
          ],
          "contour": [
           {
            "colorbar": {
             "outlinewidth": 0,
             "ticks": ""
            },
            "colorscale": [
             [
              0,
              "#0d0887"
             ],
             [
              0.1111111111111111,
              "#46039f"
             ],
             [
              0.2222222222222222,
              "#7201a8"
             ],
             [
              0.3333333333333333,
              "#9c179e"
             ],
             [
              0.4444444444444444,
              "#bd3786"
             ],
             [
              0.5555555555555556,
              "#d8576b"
             ],
             [
              0.6666666666666666,
              "#ed7953"
             ],
             [
              0.7777777777777778,
              "#fb9f3a"
             ],
             [
              0.8888888888888888,
              "#fdca26"
             ],
             [
              1,
              "#f0f921"
             ]
            ],
            "type": "contour"
           }
          ],
          "contourcarpet": [
           {
            "colorbar": {
             "outlinewidth": 0,
             "ticks": ""
            },
            "type": "contourcarpet"
           }
          ],
          "heatmap": [
           {
            "colorbar": {
             "outlinewidth": 0,
             "ticks": ""
            },
            "colorscale": [
             [
              0,
              "#0d0887"
             ],
             [
              0.1111111111111111,
              "#46039f"
             ],
             [
              0.2222222222222222,
              "#7201a8"
             ],
             [
              0.3333333333333333,
              "#9c179e"
             ],
             [
              0.4444444444444444,
              "#bd3786"
             ],
             [
              0.5555555555555556,
              "#d8576b"
             ],
             [
              0.6666666666666666,
              "#ed7953"
             ],
             [
              0.7777777777777778,
              "#fb9f3a"
             ],
             [
              0.8888888888888888,
              "#fdca26"
             ],
             [
              1,
              "#f0f921"
             ]
            ],
            "type": "heatmap"
           }
          ],
          "heatmapgl": [
           {
            "colorbar": {
             "outlinewidth": 0,
             "ticks": ""
            },
            "colorscale": [
             [
              0,
              "#0d0887"
             ],
             [
              0.1111111111111111,
              "#46039f"
             ],
             [
              0.2222222222222222,
              "#7201a8"
             ],
             [
              0.3333333333333333,
              "#9c179e"
             ],
             [
              0.4444444444444444,
              "#bd3786"
             ],
             [
              0.5555555555555556,
              "#d8576b"
             ],
             [
              0.6666666666666666,
              "#ed7953"
             ],
             [
              0.7777777777777778,
              "#fb9f3a"
             ],
             [
              0.8888888888888888,
              "#fdca26"
             ],
             [
              1,
              "#f0f921"
             ]
            ],
            "type": "heatmapgl"
           }
          ],
          "histogram": [
           {
            "marker": {
             "pattern": {
              "fillmode": "overlay",
              "size": 10,
              "solidity": 0.2
             }
            },
            "type": "histogram"
           }
          ],
          "histogram2d": [
           {
            "colorbar": {
             "outlinewidth": 0,
             "ticks": ""
            },
            "colorscale": [
             [
              0,
              "#0d0887"
             ],
             [
              0.1111111111111111,
              "#46039f"
             ],
             [
              0.2222222222222222,
              "#7201a8"
             ],
             [
              0.3333333333333333,
              "#9c179e"
             ],
             [
              0.4444444444444444,
              "#bd3786"
             ],
             [
              0.5555555555555556,
              "#d8576b"
             ],
             [
              0.6666666666666666,
              "#ed7953"
             ],
             [
              0.7777777777777778,
              "#fb9f3a"
             ],
             [
              0.8888888888888888,
              "#fdca26"
             ],
             [
              1,
              "#f0f921"
             ]
            ],
            "type": "histogram2d"
           }
          ],
          "histogram2dcontour": [
           {
            "colorbar": {
             "outlinewidth": 0,
             "ticks": ""
            },
            "colorscale": [
             [
              0,
              "#0d0887"
             ],
             [
              0.1111111111111111,
              "#46039f"
             ],
             [
              0.2222222222222222,
              "#7201a8"
             ],
             [
              0.3333333333333333,
              "#9c179e"
             ],
             [
              0.4444444444444444,
              "#bd3786"
             ],
             [
              0.5555555555555556,
              "#d8576b"
             ],
             [
              0.6666666666666666,
              "#ed7953"
             ],
             [
              0.7777777777777778,
              "#fb9f3a"
             ],
             [
              0.8888888888888888,
              "#fdca26"
             ],
             [
              1,
              "#f0f921"
             ]
            ],
            "type": "histogram2dcontour"
           }
          ],
          "mesh3d": [
           {
            "colorbar": {
             "outlinewidth": 0,
             "ticks": ""
            },
            "type": "mesh3d"
           }
          ],
          "parcoords": [
           {
            "line": {
             "colorbar": {
              "outlinewidth": 0,
              "ticks": ""
             }
            },
            "type": "parcoords"
           }
          ],
          "pie": [
           {
            "automargin": true,
            "type": "pie"
           }
          ],
          "scatter": [
           {
            "fillpattern": {
             "fillmode": "overlay",
             "size": 10,
             "solidity": 0.2
            },
            "type": "scatter"
           }
          ],
          "scatter3d": [
           {
            "line": {
             "colorbar": {
              "outlinewidth": 0,
              "ticks": ""
             }
            },
            "marker": {
             "colorbar": {
              "outlinewidth": 0,
              "ticks": ""
             }
            },
            "type": "scatter3d"
           }
          ],
          "scattercarpet": [
           {
            "marker": {
             "colorbar": {
              "outlinewidth": 0,
              "ticks": ""
             }
            },
            "type": "scattercarpet"
           }
          ],
          "scattergeo": [
           {
            "marker": {
             "colorbar": {
              "outlinewidth": 0,
              "ticks": ""
             }
            },
            "type": "scattergeo"
           }
          ],
          "scattergl": [
           {
            "marker": {
             "colorbar": {
              "outlinewidth": 0,
              "ticks": ""
             }
            },
            "type": "scattergl"
           }
          ],
          "scattermapbox": [
           {
            "marker": {
             "colorbar": {
              "outlinewidth": 0,
              "ticks": ""
             }
            },
            "type": "scattermapbox"
           }
          ],
          "scatterpolar": [
           {
            "marker": {
             "colorbar": {
              "outlinewidth": 0,
              "ticks": ""
             }
            },
            "type": "scatterpolar"
           }
          ],
          "scatterpolargl": [
           {
            "marker": {
             "colorbar": {
              "outlinewidth": 0,
              "ticks": ""
             }
            },
            "type": "scatterpolargl"
           }
          ],
          "scatterternary": [
           {
            "marker": {
             "colorbar": {
              "outlinewidth": 0,
              "ticks": ""
             }
            },
            "type": "scatterternary"
           }
          ],
          "surface": [
           {
            "colorbar": {
             "outlinewidth": 0,
             "ticks": ""
            },
            "colorscale": [
             [
              0,
              "#0d0887"
             ],
             [
              0.1111111111111111,
              "#46039f"
             ],
             [
              0.2222222222222222,
              "#7201a8"
             ],
             [
              0.3333333333333333,
              "#9c179e"
             ],
             [
              0.4444444444444444,
              "#bd3786"
             ],
             [
              0.5555555555555556,
              "#d8576b"
             ],
             [
              0.6666666666666666,
              "#ed7953"
             ],
             [
              0.7777777777777778,
              "#fb9f3a"
             ],
             [
              0.8888888888888888,
              "#fdca26"
             ],
             [
              1,
              "#f0f921"
             ]
            ],
            "type": "surface"
           }
          ],
          "table": [
           {
            "cells": {
             "fill": {
              "color": "#EBF0F8"
             },
             "line": {
              "color": "white"
             }
            },
            "header": {
             "fill": {
              "color": "#C8D4E3"
             },
             "line": {
              "color": "white"
             }
            },
            "type": "table"
           }
          ]
         },
         "layout": {
          "annotationdefaults": {
           "arrowcolor": "#2a3f5f",
           "arrowhead": 0,
           "arrowwidth": 1
          },
          "autotypenumbers": "strict",
          "coloraxis": {
           "colorbar": {
            "outlinewidth": 0,
            "ticks": ""
           }
          },
          "colorscale": {
           "diverging": [
            [
             0,
             "#8e0152"
            ],
            [
             0.1,
             "#c51b7d"
            ],
            [
             0.2,
             "#de77ae"
            ],
            [
             0.3,
             "#f1b6da"
            ],
            [
             0.4,
             "#fde0ef"
            ],
            [
             0.5,
             "#f7f7f7"
            ],
            [
             0.6,
             "#e6f5d0"
            ],
            [
             0.7,
             "#b8e186"
            ],
            [
             0.8,
             "#7fbc41"
            ],
            [
             0.9,
             "#4d9221"
            ],
            [
             1,
             "#276419"
            ]
           ],
           "sequential": [
            [
             0,
             "#0d0887"
            ],
            [
             0.1111111111111111,
             "#46039f"
            ],
            [
             0.2222222222222222,
             "#7201a8"
            ],
            [
             0.3333333333333333,
             "#9c179e"
            ],
            [
             0.4444444444444444,
             "#bd3786"
            ],
            [
             0.5555555555555556,
             "#d8576b"
            ],
            [
             0.6666666666666666,
             "#ed7953"
            ],
            [
             0.7777777777777778,
             "#fb9f3a"
            ],
            [
             0.8888888888888888,
             "#fdca26"
            ],
            [
             1,
             "#f0f921"
            ]
           ],
           "sequentialminus": [
            [
             0,
             "#0d0887"
            ],
            [
             0.1111111111111111,
             "#46039f"
            ],
            [
             0.2222222222222222,
             "#7201a8"
            ],
            [
             0.3333333333333333,
             "#9c179e"
            ],
            [
             0.4444444444444444,
             "#bd3786"
            ],
            [
             0.5555555555555556,
             "#d8576b"
            ],
            [
             0.6666666666666666,
             "#ed7953"
            ],
            [
             0.7777777777777778,
             "#fb9f3a"
            ],
            [
             0.8888888888888888,
             "#fdca26"
            ],
            [
             1,
             "#f0f921"
            ]
           ]
          },
          "colorway": [
           "#636efa",
           "#EF553B",
           "#00cc96",
           "#ab63fa",
           "#FFA15A",
           "#19d3f3",
           "#FF6692",
           "#B6E880",
           "#FF97FF",
           "#FECB52"
          ],
          "font": {
           "color": "#2a3f5f"
          },
          "geo": {
           "bgcolor": "white",
           "lakecolor": "white",
           "landcolor": "#E5ECF6",
           "showlakes": true,
           "showland": true,
           "subunitcolor": "white"
          },
          "hoverlabel": {
           "align": "left"
          },
          "hovermode": "closest",
          "mapbox": {
           "style": "light"
          },
          "paper_bgcolor": "white",
          "plot_bgcolor": "#E5ECF6",
          "polar": {
           "angularaxis": {
            "gridcolor": "white",
            "linecolor": "white",
            "ticks": ""
           },
           "bgcolor": "#E5ECF6",
           "radialaxis": {
            "gridcolor": "white",
            "linecolor": "white",
            "ticks": ""
           }
          },
          "scene": {
           "xaxis": {
            "backgroundcolor": "#E5ECF6",
            "gridcolor": "white",
            "gridwidth": 2,
            "linecolor": "white",
            "showbackground": true,
            "ticks": "",
            "zerolinecolor": "white"
           },
           "yaxis": {
            "backgroundcolor": "#E5ECF6",
            "gridcolor": "white",
            "gridwidth": 2,
            "linecolor": "white",
            "showbackground": true,
            "ticks": "",
            "zerolinecolor": "white"
           },
           "zaxis": {
            "backgroundcolor": "#E5ECF6",
            "gridcolor": "white",
            "gridwidth": 2,
            "linecolor": "white",
            "showbackground": true,
            "ticks": "",
            "zerolinecolor": "white"
           }
          },
          "shapedefaults": {
           "line": {
            "color": "#2a3f5f"
           }
          },
          "ternary": {
           "aaxis": {
            "gridcolor": "white",
            "linecolor": "white",
            "ticks": ""
           },
           "baxis": {
            "gridcolor": "white",
            "linecolor": "white",
            "ticks": ""
           },
           "bgcolor": "#E5ECF6",
           "caxis": {
            "gridcolor": "white",
            "linecolor": "white",
            "ticks": ""
           }
          },
          "title": {
           "x": 0.05
          },
          "xaxis": {
           "automargin": true,
           "gridcolor": "white",
           "linecolor": "white",
           "ticks": "",
           "title": {
            "standoff": 15
           },
           "zerolinecolor": "white",
           "zerolinewidth": 2
          },
          "yaxis": {
           "automargin": true,
           "gridcolor": "white",
           "linecolor": "white",
           "ticks": "",
           "title": {
            "standoff": 15
           },
           "zerolinecolor": "white",
           "zerolinewidth": 2
          }
         }
        },
        "xaxis": {
         "anchor": "y",
         "domain": [
          0,
          0.235
         ]
        },
        "xaxis2": {
         "anchor": "y2",
         "domain": [
          0.255,
          0.49
         ],
         "matches": "x"
        },
        "xaxis3": {
         "anchor": "y3",
         "domain": [
          0.51,
          0.745
         ],
         "matches": "x"
        },
        "xaxis4": {
         "anchor": "y4",
         "domain": [
          0.7649999999999999,
          0.9999999999999999
         ],
         "matches": "x"
        },
        "yaxis": {
         "anchor": "x",
         "domain": [
          0,
          1
         ]
        },
        "yaxis2": {
         "anchor": "x2",
         "domain": [
          0,
          1
         ],
         "matches": "y",
         "showticklabels": false
        },
        "yaxis3": {
         "anchor": "x3",
         "domain": [
          0,
          1
         ],
         "matches": "y",
         "showticklabels": false
        },
        "yaxis4": {
         "anchor": "x4",
         "domain": [
          0,
          1
         ],
         "matches": "y",
         "showticklabels": false
        }
       }
      }
     },
     "metadata": {},
     "output_type": "display_data"
    }
   ],
   "source": [
    "IMAGES_IDX = [0, 392, 351, 333]\n",
    "images = x_train[IMAGES_IDX]\n",
    "px.imshow(images, facet_col=0)"
   ]
  },
  {
   "cell_type": "code",
   "execution_count": 5,
   "metadata": {},
   "outputs": [
    {
     "data": {
      "text/plain": [
       "(2, 3, 5, 5)"
      ]
     },
     "execution_count": 5,
     "metadata": {},
     "output_type": "execute_result"
    }
   ],
   "source": [
    "kernels = np.asarray(\n",
    "[\n",
    "    [\n",
    "        # First kernel\n",
    "        # First channel\n",
    "            [\n",
    "            [1, 0, -1, 0, 1], \n",
    "            [1, 0, -1, 0, 1],\n",
    "            [1, 0, -1, 0, 1],\n",
    "            [1, 0, -1, 0, 1],\n",
    "            [1, 0, -1, 0, 1],\n",
    "        ],\n",
    "        # Second channel\n",
    "        [\n",
    "            [1, 0, 1, 1, 1], \n",
    "            [1, 0, 1, 1, 1], \n",
    "            [1, 0, 1, 1, 1],\n",
    "            [1, 0, 1, 1, 1],\n",
    "            [1, 0, 1, 1, 1],\n",
    "        ],\n",
    "        # Third channel\n",
    "        [\n",
    "            [0, 0, 0, 0, 1],\n",
    "            [0, 0, 0, 1, 0],\n",
    "            [0, 0, 1, 0, 0],\n",
    "            [0, 1, 0, 0, 0],\n",
    "            [1, 0, 0, 0, 0],\n",
    "        ],\n",
    "    ],\n",
    "    [\n",
    "        # Second kernel\n",
    "        # First channel\n",
    "        [\n",
    "            [0.5, 0.5, 0.5, 0.5, 0.5], \n",
    "            [0.5, 0.5, 0.5, 0.5, 0.5], \n",
    "            [0.5, 0.5, 0.5, 0.5, 0.5], \n",
    "            [0.5, 0.5, 0.5, 0.5, 0.5],\n",
    "            [0.5, 0.5, 0.5, 0.5, 0.5],\n",
    "        ],\n",
    "        # Second channel\n",
    "        [\n",
    "            [1, 2, 3, 4, 5],\n",
    "            [1, 1, 1, 0, 0],\n",
    "            [0, 1, 1, 1, 0],\n",
    "            [0, 0, 1, 1, 1],\n",
    "            [0, 1, 0, 1, 1],\n",
    "        ],\n",
    "        # Thrid channel\n",
    "        [\n",
    "            [0, 0, 1, 0, 0],\n",
    "            [0, 0.5, 1, 0.5, 0],\n",
    "            [1, 1, 1, 1, 1],\n",
    "            [0, 0.5, 1, 0.5, 0],\n",
    "            [0, 0, 1, 0, 0],\n",
    "        ],\n",
    "    ]\n",
    "]) #.swapaxes(1, 3)\n",
    "kernels.shape"
   ]
  },
  {
   "cell_type": "code",
   "execution_count": 13,
   "metadata": {},
   "outputs": [
    {
     "name": "stdout",
     "output_type": "stream",
     "text": [
      "(4, 32, 32, 3)\n",
      "(3072, 32, 1, 1024)\n"
     ]
    }
   ],
   "source": [
    "print(images.shape)\n",
    "print(images.strides)"
   ]
  },
  {
   "cell_type": "code",
   "execution_count": 19,
   "metadata": {},
   "outputs": [
    {
     "name": "stdout",
     "output_type": "stream",
     "text": [
      "(4, 7, 7, 8, 8, 3)\n",
      "(3072, 128, 4, 32, 1, 1024)\n"
     ]
    }
   ],
   "source": [
    "def sliding_window_2d(inputs:ndarray, window_shape:tuple[int, int], stride:int=1) -> ndarray:\n",
    "    x_remainder = (inputs.shape[1] - window_shape[0]) % stride\n",
    "    y_remainder = (inputs.shape[2] - window_shape[1]) % stride\n",
    "    assert x_remainder == 0 and y_remainder == 0, \"Incorrect strides.\"\n",
    "    views_shape = (\n",
    "        inputs.shape[0],\n",
    "        1 + (inputs.shape[1] - window_shape[0]) // stride,\n",
    "        1 + (inputs.shape[2] - window_shape[1]) // stride,\n",
    "        *window_shape,\n",
    "        inputs.shape[3],\n",
    "    )\n",
    "    strides = (\n",
    "        inputs.strides[0],\n",
    "        inputs.strides[1] * stride,\n",
    "        inputs.strides[2] * stride,\n",
    "        *inputs.strides[1:],\n",
    "    )\n",
    "    return as_strided(inputs, views_shape, strides)\n",
    "\n",
    "views = sliding_window_2d(images, (8, 8), 4)"
   ]
  },
  {
   "cell_type": "code",
   "execution_count": 22,
   "metadata": {},
   "outputs": [
    {
     "data": {
      "application/vnd.plotly.v1+json": {
       "config": {
        "plotlyServerURL": "https://plot.ly"
       },
       "data": [
        {
         "hovertemplate": "x: %{x}<br>y: %{y}<br>color: %{z}<extra></extra>",
         "name": "0",
         "source": "data:image/png;base64,iVBORw0KGgoAAAANSUhEUgAAAAgAAAAICAIAAABLbSncAAAAp0lEQVR4XgXBy1LDMAwF0CtFbuz0MUlL6MAK1uz4/2+CTprYrWVbPYd+v+aA+PN9/Ti52moFjCQXk3n0R9d533FnIQQttYHMsnzO+9OuHIYdmQJG1p4pMkjOxyD51jsZ+uGZVFsZx8nM5P18SX8PJlmjplyEuqiVAZne5ukQmN1t+ddt5VobmjkRsCPnAPTeDdgLmJkVTdJDSRNQtm3JyoX9Gu9LvL8AxuFRp9Bof3YAAAAASUVORK5CYII=",
         "type": "image",
         "xaxis": "x",
         "yaxis": "y"
        },
        {
         "hovertemplate": "x: %{x}<br>y: %{y}<br>color: %{z}<extra></extra>",
         "name": "1",
         "source": "data:image/png;base64,iVBORw0KGgoAAAANSUhEUgAAAAgAAAAICAIAAABLbSncAAAAsElEQVR4XgXB20oDMRAA0Ml0SrO7aXetPikiqL/jH/mfgg99ErF0i9DYsMncPCe8v70qgAdq4tV4P40U8HiaKQ0dixoE99bEtbE5uzYE8OBWS0Ztt9vtlPpgPO52pEBsMk037t4UmZc+pe9TxUsVCavCWsVKWyhGXW0OX2ei2KGqgfmaUooM8ePwea1X6oeBABGRwTbdOP/kMv8+7yO1pQrGv5IvJT88kkt+ugsv9+t/+Z5pk1mGABgAAAAASUVORK5CYII=",
         "type": "image",
         "xaxis": "x2",
         "yaxis": "y2"
        },
        {
         "hovertemplate": "x: %{x}<br>y: %{y}<br>color: %{z}<extra></extra>",
         "name": "2",
         "source": "data:image/png;base64,iVBORw0KGgoAAAANSUhEUgAAAAgAAAAICAIAAABLbSncAAAAvklEQVR4XgXB3WrCMBQA4Pycpce2tur0Ri8GCtvlXsN32QMPBhNFBYdRqTFZ2vQkfh//Wi8noxq4+DtrIcWoHFAg4xzwmKgLMYVEXQJlOkskHUV4HQ6LAu+NrqvK+LA76kcrVWQCpAjB52X5+Ge/22Z/6o9nio4J13lAJJltDpfrnZJUMoMKI5TjaWD4vfmxrUXMUMGgyMeyB6xm+mScvi0n2HqGRf6xWojWg/U29eZtylfzF+f54v1TJX9rwhO8x2RBOr1igwAAAABJRU5ErkJggg==",
         "type": "image",
         "xaxis": "x3",
         "yaxis": "y3"
        },
        {
         "hovertemplate": "x: %{x}<br>y: %{y}<br>color: %{z}<extra></extra>",
         "name": "3",
         "source": "data:image/png;base64,iVBORw0KGgoAAAANSUhEUgAAAAgAAAAICAIAAABLbSncAAAAyUlEQVR4XgXBTVLCMBgA0LTf15C0oYKOTpniOAwj7pQLuHbrQTya93DFDdDBBaMOUGhjYtPmx/eil6fZSHDXO6m1dp3g+YAKIC2GyMtOOQfaeeu8VP22UknskQT43O5/DVBPyhQx+dscTiYAvm/qnbTakhsOz4/L6US8rj7e1t9YNS4gBYhz5q5Qssrc5sXXeYyMEUaRZ+kY7Gr9Yzs0Z8XlmOFURCxL7+ZlbFoLSdMcEeohzfB+RsvFAw3tse756IIc4LqYnJT6B45rWmu1jCLFAAAAAElFTkSuQmCC",
         "type": "image",
         "xaxis": "x4",
         "yaxis": "y4"
        },
        {
         "hovertemplate": "x: %{x}<br>y: %{y}<br>color: %{z}<extra></extra>",
         "name": "4",
         "source": "data:image/png;base64,iVBORw0KGgoAAAANSUhEUgAAAAgAAAAICAIAAABLbSncAAAA00lEQVR4XgHIADf/AWJBFwwJDgcGDAMA+A4NCQYNEPf1+AoDCAT8/f7z9fvl7vUFAv4O9AH76Oz38fYeFCQEB/UABAX34O3w+f8DBQH/Dw4NOio08uf9BFAzMBwZDKzN3sfc6Pz++gQC//Pw6/b0+QQWBPMI7vklDhjnEgLp8Or59vrP2toC/P4Ezdzp/PoE+Q8YFREIAQAO+/z49vr39fb/BPwRFfLy7wQD8Q0GCxMRIyMlHt/iy9ja5QQNHRMA7QMdGBnw9fUiKCUOEQoOESnv6/NqKWDA5f+P8wAAAABJRU5ErkJggg==",
         "type": "image",
         "xaxis": "x5",
         "yaxis": "y5"
        },
        {
         "hovertemplate": "x: %{x}<br>y: %{y}<br>color: %{z}<extra></extra>",
         "name": "5",
         "source": "data:image/png;base64,iVBORw0KGgoAAAANSUhEUgAAAAgAAAAICAIAAABLbSncAAAAxklEQVR4XgXBwWrCMBgA4PzxT4yVtArDeRge5kQ8KbsMfJe9zl5uh123XtSBKDhXg22a/omN3wcf769SD+rKJR1FZJwj8qFlEbcH549/tbGTh5fR6Am0aYpzWVb8Z3c8/5vVfImkomVZT/S6CIwjQEQer5eTLRutBbuBUkKqDmpMGktfec5D6/spyx4ZxyxLcDxIfXCW6spGCgE8MWCCA86fp9PZZPP7+Z3vJTYxliEgR4lv61k6TNLhojhdC2OE7PPY9e3tDtCiXl/Tm2eyAAAAAElFTkSuQmCC",
         "type": "image",
         "xaxis": "x6",
         "yaxis": "y6"
        },
        {
         "hovertemplate": "x: %{x}<br>y: %{y}<br>color: %{z}<extra></extra>",
         "name": "6",
         "source": "data:image/png;base64,iVBORw0KGgoAAAANSUhEUgAAAAgAAAAICAIAAABLbSncAAAArklEQVR4XgXBUW7CMAwAUNu1aQWq+sNgmgbaHXYd7sM1kbYPJsFGS1aS2Il5D4+HzxhzVqvgtxBvs4bZohILv2M/pr9rCP/jPV7Gx+lrLA2zzzCsJc0cArUiu9d+s9n+TJFNr1Cw62TRNUsUK7bfvfW/d/6ezjBsgXgYln31mNXz9PGy4myGmgFBCJ0aYbaUvDi1nNyDavSKwsLUECAiMRjIYkXeai21QlEjBHd/AmT2Y7JkpVa0AAAAAElFTkSuQmCC",
         "type": "image",
         "xaxis": "x7",
         "yaxis": "y7"
        }
       ],
       "layout": {
        "annotations": [
         {
          "font": {},
          "showarrow": false,
          "text": "facet_col=0",
          "x": 0.06285714285714285,
          "xanchor": "center",
          "xref": "paper",
          "y": 1,
          "yanchor": "bottom",
          "yref": "paper"
         },
         {
          "font": {},
          "showarrow": false,
          "text": "facet_col=1",
          "x": 0.20857142857142852,
          "xanchor": "center",
          "xref": "paper",
          "y": 1,
          "yanchor": "bottom",
          "yref": "paper"
         },
         {
          "font": {},
          "showarrow": false,
          "text": "facet_col=2",
          "x": 0.3542857142857142,
          "xanchor": "center",
          "xref": "paper",
          "y": 1,
          "yanchor": "bottom",
          "yref": "paper"
         },
         {
          "font": {},
          "showarrow": false,
          "text": "facet_col=3",
          "x": 0.5,
          "xanchor": "center",
          "xref": "paper",
          "y": 1,
          "yanchor": "bottom",
          "yref": "paper"
         },
         {
          "font": {},
          "showarrow": false,
          "text": "facet_col=4",
          "x": 0.6457142857142856,
          "xanchor": "center",
          "xref": "paper",
          "y": 1,
          "yanchor": "bottom",
          "yref": "paper"
         },
         {
          "font": {},
          "showarrow": false,
          "text": "facet_col=5",
          "x": 0.7914285714285713,
          "xanchor": "center",
          "xref": "paper",
          "y": 1,
          "yanchor": "bottom",
          "yref": "paper"
         },
         {
          "font": {},
          "showarrow": false,
          "text": "facet_col=6",
          "x": 0.937142857142857,
          "xanchor": "center",
          "xref": "paper",
          "y": 1,
          "yanchor": "bottom",
          "yref": "paper"
         }
        ],
        "margin": {
         "t": 60
        },
        "template": {
         "data": {
          "bar": [
           {
            "error_x": {
             "color": "#2a3f5f"
            },
            "error_y": {
             "color": "#2a3f5f"
            },
            "marker": {
             "line": {
              "color": "#E5ECF6",
              "width": 0.5
             },
             "pattern": {
              "fillmode": "overlay",
              "size": 10,
              "solidity": 0.2
             }
            },
            "type": "bar"
           }
          ],
          "barpolar": [
           {
            "marker": {
             "line": {
              "color": "#E5ECF6",
              "width": 0.5
             },
             "pattern": {
              "fillmode": "overlay",
              "size": 10,
              "solidity": 0.2
             }
            },
            "type": "barpolar"
           }
          ],
          "carpet": [
           {
            "aaxis": {
             "endlinecolor": "#2a3f5f",
             "gridcolor": "white",
             "linecolor": "white",
             "minorgridcolor": "white",
             "startlinecolor": "#2a3f5f"
            },
            "baxis": {
             "endlinecolor": "#2a3f5f",
             "gridcolor": "white",
             "linecolor": "white",
             "minorgridcolor": "white",
             "startlinecolor": "#2a3f5f"
            },
            "type": "carpet"
           }
          ],
          "choropleth": [
           {
            "colorbar": {
             "outlinewidth": 0,
             "ticks": ""
            },
            "type": "choropleth"
           }
          ],
          "contour": [
           {
            "colorbar": {
             "outlinewidth": 0,
             "ticks": ""
            },
            "colorscale": [
             [
              0,
              "#0d0887"
             ],
             [
              0.1111111111111111,
              "#46039f"
             ],
             [
              0.2222222222222222,
              "#7201a8"
             ],
             [
              0.3333333333333333,
              "#9c179e"
             ],
             [
              0.4444444444444444,
              "#bd3786"
             ],
             [
              0.5555555555555556,
              "#d8576b"
             ],
             [
              0.6666666666666666,
              "#ed7953"
             ],
             [
              0.7777777777777778,
              "#fb9f3a"
             ],
             [
              0.8888888888888888,
              "#fdca26"
             ],
             [
              1,
              "#f0f921"
             ]
            ],
            "type": "contour"
           }
          ],
          "contourcarpet": [
           {
            "colorbar": {
             "outlinewidth": 0,
             "ticks": ""
            },
            "type": "contourcarpet"
           }
          ],
          "heatmap": [
           {
            "colorbar": {
             "outlinewidth": 0,
             "ticks": ""
            },
            "colorscale": [
             [
              0,
              "#0d0887"
             ],
             [
              0.1111111111111111,
              "#46039f"
             ],
             [
              0.2222222222222222,
              "#7201a8"
             ],
             [
              0.3333333333333333,
              "#9c179e"
             ],
             [
              0.4444444444444444,
              "#bd3786"
             ],
             [
              0.5555555555555556,
              "#d8576b"
             ],
             [
              0.6666666666666666,
              "#ed7953"
             ],
             [
              0.7777777777777778,
              "#fb9f3a"
             ],
             [
              0.8888888888888888,
              "#fdca26"
             ],
             [
              1,
              "#f0f921"
             ]
            ],
            "type": "heatmap"
           }
          ],
          "heatmapgl": [
           {
            "colorbar": {
             "outlinewidth": 0,
             "ticks": ""
            },
            "colorscale": [
             [
              0,
              "#0d0887"
             ],
             [
              0.1111111111111111,
              "#46039f"
             ],
             [
              0.2222222222222222,
              "#7201a8"
             ],
             [
              0.3333333333333333,
              "#9c179e"
             ],
             [
              0.4444444444444444,
              "#bd3786"
             ],
             [
              0.5555555555555556,
              "#d8576b"
             ],
             [
              0.6666666666666666,
              "#ed7953"
             ],
             [
              0.7777777777777778,
              "#fb9f3a"
             ],
             [
              0.8888888888888888,
              "#fdca26"
             ],
             [
              1,
              "#f0f921"
             ]
            ],
            "type": "heatmapgl"
           }
          ],
          "histogram": [
           {
            "marker": {
             "pattern": {
              "fillmode": "overlay",
              "size": 10,
              "solidity": 0.2
             }
            },
            "type": "histogram"
           }
          ],
          "histogram2d": [
           {
            "colorbar": {
             "outlinewidth": 0,
             "ticks": ""
            },
            "colorscale": [
             [
              0,
              "#0d0887"
             ],
             [
              0.1111111111111111,
              "#46039f"
             ],
             [
              0.2222222222222222,
              "#7201a8"
             ],
             [
              0.3333333333333333,
              "#9c179e"
             ],
             [
              0.4444444444444444,
              "#bd3786"
             ],
             [
              0.5555555555555556,
              "#d8576b"
             ],
             [
              0.6666666666666666,
              "#ed7953"
             ],
             [
              0.7777777777777778,
              "#fb9f3a"
             ],
             [
              0.8888888888888888,
              "#fdca26"
             ],
             [
              1,
              "#f0f921"
             ]
            ],
            "type": "histogram2d"
           }
          ],
          "histogram2dcontour": [
           {
            "colorbar": {
             "outlinewidth": 0,
             "ticks": ""
            },
            "colorscale": [
             [
              0,
              "#0d0887"
             ],
             [
              0.1111111111111111,
              "#46039f"
             ],
             [
              0.2222222222222222,
              "#7201a8"
             ],
             [
              0.3333333333333333,
              "#9c179e"
             ],
             [
              0.4444444444444444,
              "#bd3786"
             ],
             [
              0.5555555555555556,
              "#d8576b"
             ],
             [
              0.6666666666666666,
              "#ed7953"
             ],
             [
              0.7777777777777778,
              "#fb9f3a"
             ],
             [
              0.8888888888888888,
              "#fdca26"
             ],
             [
              1,
              "#f0f921"
             ]
            ],
            "type": "histogram2dcontour"
           }
          ],
          "mesh3d": [
           {
            "colorbar": {
             "outlinewidth": 0,
             "ticks": ""
            },
            "type": "mesh3d"
           }
          ],
          "parcoords": [
           {
            "line": {
             "colorbar": {
              "outlinewidth": 0,
              "ticks": ""
             }
            },
            "type": "parcoords"
           }
          ],
          "pie": [
           {
            "automargin": true,
            "type": "pie"
           }
          ],
          "scatter": [
           {
            "fillpattern": {
             "fillmode": "overlay",
             "size": 10,
             "solidity": 0.2
            },
            "type": "scatter"
           }
          ],
          "scatter3d": [
           {
            "line": {
             "colorbar": {
              "outlinewidth": 0,
              "ticks": ""
             }
            },
            "marker": {
             "colorbar": {
              "outlinewidth": 0,
              "ticks": ""
             }
            },
            "type": "scatter3d"
           }
          ],
          "scattercarpet": [
           {
            "marker": {
             "colorbar": {
              "outlinewidth": 0,
              "ticks": ""
             }
            },
            "type": "scattercarpet"
           }
          ],
          "scattergeo": [
           {
            "marker": {
             "colorbar": {
              "outlinewidth": 0,
              "ticks": ""
             }
            },
            "type": "scattergeo"
           }
          ],
          "scattergl": [
           {
            "marker": {
             "colorbar": {
              "outlinewidth": 0,
              "ticks": ""
             }
            },
            "type": "scattergl"
           }
          ],
          "scattermapbox": [
           {
            "marker": {
             "colorbar": {
              "outlinewidth": 0,
              "ticks": ""
             }
            },
            "type": "scattermapbox"
           }
          ],
          "scatterpolar": [
           {
            "marker": {
             "colorbar": {
              "outlinewidth": 0,
              "ticks": ""
             }
            },
            "type": "scatterpolar"
           }
          ],
          "scatterpolargl": [
           {
            "marker": {
             "colorbar": {
              "outlinewidth": 0,
              "ticks": ""
             }
            },
            "type": "scatterpolargl"
           }
          ],
          "scatterternary": [
           {
            "marker": {
             "colorbar": {
              "outlinewidth": 0,
              "ticks": ""
             }
            },
            "type": "scatterternary"
           }
          ],
          "surface": [
           {
            "colorbar": {
             "outlinewidth": 0,
             "ticks": ""
            },
            "colorscale": [
             [
              0,
              "#0d0887"
             ],
             [
              0.1111111111111111,
              "#46039f"
             ],
             [
              0.2222222222222222,
              "#7201a8"
             ],
             [
              0.3333333333333333,
              "#9c179e"
             ],
             [
              0.4444444444444444,
              "#bd3786"
             ],
             [
              0.5555555555555556,
              "#d8576b"
             ],
             [
              0.6666666666666666,
              "#ed7953"
             ],
             [
              0.7777777777777778,
              "#fb9f3a"
             ],
             [
              0.8888888888888888,
              "#fdca26"
             ],
             [
              1,
              "#f0f921"
             ]
            ],
            "type": "surface"
           }
          ],
          "table": [
           {
            "cells": {
             "fill": {
              "color": "#EBF0F8"
             },
             "line": {
              "color": "white"
             }
            },
            "header": {
             "fill": {
              "color": "#C8D4E3"
             },
             "line": {
              "color": "white"
             }
            },
            "type": "table"
           }
          ]
         },
         "layout": {
          "annotationdefaults": {
           "arrowcolor": "#2a3f5f",
           "arrowhead": 0,
           "arrowwidth": 1
          },
          "autotypenumbers": "strict",
          "coloraxis": {
           "colorbar": {
            "outlinewidth": 0,
            "ticks": ""
           }
          },
          "colorscale": {
           "diverging": [
            [
             0,
             "#8e0152"
            ],
            [
             0.1,
             "#c51b7d"
            ],
            [
             0.2,
             "#de77ae"
            ],
            [
             0.3,
             "#f1b6da"
            ],
            [
             0.4,
             "#fde0ef"
            ],
            [
             0.5,
             "#f7f7f7"
            ],
            [
             0.6,
             "#e6f5d0"
            ],
            [
             0.7,
             "#b8e186"
            ],
            [
             0.8,
             "#7fbc41"
            ],
            [
             0.9,
             "#4d9221"
            ],
            [
             1,
             "#276419"
            ]
           ],
           "sequential": [
            [
             0,
             "#0d0887"
            ],
            [
             0.1111111111111111,
             "#46039f"
            ],
            [
             0.2222222222222222,
             "#7201a8"
            ],
            [
             0.3333333333333333,
             "#9c179e"
            ],
            [
             0.4444444444444444,
             "#bd3786"
            ],
            [
             0.5555555555555556,
             "#d8576b"
            ],
            [
             0.6666666666666666,
             "#ed7953"
            ],
            [
             0.7777777777777778,
             "#fb9f3a"
            ],
            [
             0.8888888888888888,
             "#fdca26"
            ],
            [
             1,
             "#f0f921"
            ]
           ],
           "sequentialminus": [
            [
             0,
             "#0d0887"
            ],
            [
             0.1111111111111111,
             "#46039f"
            ],
            [
             0.2222222222222222,
             "#7201a8"
            ],
            [
             0.3333333333333333,
             "#9c179e"
            ],
            [
             0.4444444444444444,
             "#bd3786"
            ],
            [
             0.5555555555555556,
             "#d8576b"
            ],
            [
             0.6666666666666666,
             "#ed7953"
            ],
            [
             0.7777777777777778,
             "#fb9f3a"
            ],
            [
             0.8888888888888888,
             "#fdca26"
            ],
            [
             1,
             "#f0f921"
            ]
           ]
          },
          "colorway": [
           "#636efa",
           "#EF553B",
           "#00cc96",
           "#ab63fa",
           "#FFA15A",
           "#19d3f3",
           "#FF6692",
           "#B6E880",
           "#FF97FF",
           "#FECB52"
          ],
          "font": {
           "color": "#2a3f5f"
          },
          "geo": {
           "bgcolor": "white",
           "lakecolor": "white",
           "landcolor": "#E5ECF6",
           "showlakes": true,
           "showland": true,
           "subunitcolor": "white"
          },
          "hoverlabel": {
           "align": "left"
          },
          "hovermode": "closest",
          "mapbox": {
           "style": "light"
          },
          "paper_bgcolor": "white",
          "plot_bgcolor": "#E5ECF6",
          "polar": {
           "angularaxis": {
            "gridcolor": "white",
            "linecolor": "white",
            "ticks": ""
           },
           "bgcolor": "#E5ECF6",
           "radialaxis": {
            "gridcolor": "white",
            "linecolor": "white",
            "ticks": ""
           }
          },
          "scene": {
           "xaxis": {
            "backgroundcolor": "#E5ECF6",
            "gridcolor": "white",
            "gridwidth": 2,
            "linecolor": "white",
            "showbackground": true,
            "ticks": "",
            "zerolinecolor": "white"
           },
           "yaxis": {
            "backgroundcolor": "#E5ECF6",
            "gridcolor": "white",
            "gridwidth": 2,
            "linecolor": "white",
            "showbackground": true,
            "ticks": "",
            "zerolinecolor": "white"
           },
           "zaxis": {
            "backgroundcolor": "#E5ECF6",
            "gridcolor": "white",
            "gridwidth": 2,
            "linecolor": "white",
            "showbackground": true,
            "ticks": "",
            "zerolinecolor": "white"
           }
          },
          "shapedefaults": {
           "line": {
            "color": "#2a3f5f"
           }
          },
          "ternary": {
           "aaxis": {
            "gridcolor": "white",
            "linecolor": "white",
            "ticks": ""
           },
           "baxis": {
            "gridcolor": "white",
            "linecolor": "white",
            "ticks": ""
           },
           "bgcolor": "#E5ECF6",
           "caxis": {
            "gridcolor": "white",
            "linecolor": "white",
            "ticks": ""
           }
          },
          "title": {
           "x": 0.05
          },
          "xaxis": {
           "automargin": true,
           "gridcolor": "white",
           "linecolor": "white",
           "ticks": "",
           "title": {
            "standoff": 15
           },
           "zerolinecolor": "white",
           "zerolinewidth": 2
          },
          "yaxis": {
           "automargin": true,
           "gridcolor": "white",
           "linecolor": "white",
           "ticks": "",
           "title": {
            "standoff": 15
           },
           "zerolinecolor": "white",
           "zerolinewidth": 2
          }
         }
        },
        "xaxis": {
         "anchor": "y",
         "domain": [
          0,
          0.1257142857142857
         ]
        },
        "xaxis2": {
         "anchor": "y2",
         "domain": [
          0.14571428571428569,
          0.27142857142857135
         ],
         "matches": "x"
        },
        "xaxis3": {
         "anchor": "y3",
         "domain": [
          0.29142857142857137,
          0.41714285714285704
         ],
         "matches": "x"
        },
        "xaxis4": {
         "anchor": "y4",
         "domain": [
          0.4371428571428571,
          0.5628571428571428
         ],
         "matches": "x"
        },
        "xaxis5": {
         "anchor": "y5",
         "domain": [
          0.5828571428571427,
          0.7085714285714284
         ],
         "matches": "x"
        },
        "xaxis6": {
         "anchor": "y6",
         "domain": [
          0.7285714285714284,
          0.8542857142857141
         ],
         "matches": "x"
        },
        "xaxis7": {
         "anchor": "y7",
         "domain": [
          0.8742857142857142,
          0.9999999999999999
         ],
         "matches": "x"
        },
        "yaxis": {
         "anchor": "x",
         "domain": [
          0,
          1
         ]
        },
        "yaxis2": {
         "anchor": "x2",
         "domain": [
          0,
          1
         ],
         "matches": "y",
         "showticklabels": false
        },
        "yaxis3": {
         "anchor": "x3",
         "domain": [
          0,
          1
         ],
         "matches": "y",
         "showticklabels": false
        },
        "yaxis4": {
         "anchor": "x4",
         "domain": [
          0,
          1
         ],
         "matches": "y",
         "showticklabels": false
        },
        "yaxis5": {
         "anchor": "x5",
         "domain": [
          0,
          1
         ],
         "matches": "y",
         "showticklabels": false
        },
        "yaxis6": {
         "anchor": "x6",
         "domain": [
          0,
          1
         ],
         "matches": "y",
         "showticklabels": false
        },
        "yaxis7": {
         "anchor": "x7",
         "domain": [
          0,
          1
         ],
         "matches": "y",
         "showticklabels": false
        }
       }
      }
     },
     "metadata": {},
     "output_type": "display_data"
    }
   ],
   "source": [
    "px.imshow(views[0, 1], facet_col=0)"
   ]
  },
  {
   "cell_type": "code",
   "execution_count": 31,
   "metadata": {},
   "outputs": [
    {
     "data": {
      "text/plain": [
       "(4, 7, 7, 8, 8, 3)"
      ]
     },
     "execution_count": 31,
     "metadata": {},
     "output_type": "execute_result"
    }
   ],
   "source": [
    "views.shape"
   ]
  },
  {
   "cell_type": "code",
   "execution_count": 29,
   "metadata": {},
   "outputs": [
    {
     "data": {
      "text/plain": [
       "(2, 8, 8, 3)"
      ]
     },
     "execution_count": 29,
     "metadata": {},
     "output_type": "execute_result"
    }
   ],
   "source": [
    "padded_kernels = np.pad(kernels.swapaxes(1, 3), ((0, 0), (0, 3), (0, 3), (0, 0)))\n",
    "padded_kernels.shape"
   ]
  },
  {
   "cell_type": "code",
   "execution_count": 32,
   "metadata": {},
   "outputs": [],
   "source": [
    "padded_kernels = np.pad(kernels.swapaxes(1, 3), ((0, 0), (0, 3), (0, 3), (0, 0)))\n",
    "correlations = np.tensordot(views, padded_kernels, axes=([5, 3, 4], [3, 1, 2]))"
   ]
  },
  {
   "cell_type": "code",
   "execution_count": 33,
   "metadata": {},
   "outputs": [
    {
     "data": {
      "application/vnd.plotly.v1+json": {
       "config": {
        "plotlyServerURL": "https://plot.ly"
       },
       "data": [
        {
         "coloraxis": "coloraxis",
         "hovertemplate": "x: %{x}<br>y: %{y}<br>color: %{z}<extra></extra>",
         "name": "0",
         "type": "heatmap",
         "xaxis": "x",
         "yaxis": "y",
         "z": [
          [
           1956,
           1907,
           2519,
           2300,
           2128,
           1013,
           1768
          ],
          [
           1812,
           2159,
           1426,
           931,
           1306,
           1664,
           2470
          ],
          [
           2878,
           2505,
           2696,
           1992,
           2251,
           2132,
           2764
          ],
          [
           2970,
           2078,
           3390,
           2816,
           2753,
           2374,
           2665
          ],
          [
           2511,
           2146,
           2853,
           2587,
           3212,
           2308,
           2303
          ],
          [
           2276,
           2196,
           2254,
           2065,
           2471,
           1703,
           1639
          ],
          [
           2353,
           1974,
           1349,
           1295,
           1712,
           1937,
           1322
          ]
         ]
        },
        {
         "coloraxis": "coloraxis",
         "hovertemplate": "x: %{x}<br>y: %{y}<br>color: %{z}<extra></extra>",
         "name": "1",
         "type": "heatmap",
         "xaxis": "x2",
         "yaxis": "y2",
         "z": [
          [
           3087,
           2734.5,
           4020,
           3573.5,
           3533.5,
           3245,
           4076.5
          ],
          [
           3021.5,
           3822,
           2760.5,
           1168.5,
           1690,
           2691.5,
           3822.5
          ],
          [
           5001.5,
           4346.5,
           4587.5,
           4560,
           4061.5,
           3764,
           3727
          ],
          [
           4554,
           3433.5,
           5274,
           4675.5,
           4175,
           3970.5,
           4312.5
          ],
          [
           4121.5,
           4130.5,
           4164.5,
           4665,
           6191,
           4471.5,
           4607.5
          ],
          [
           3552,
           4003.5,
           4785.5,
           4821.5,
           3915.5,
           2190.5,
           2486.5
          ],
          [
           4760.5,
           2980,
           2632,
           2062,
           2684,
           4054,
           3173
          ]
         ]
        }
       ],
       "layout": {
        "annotations": [
         {
          "font": {},
          "showarrow": false,
          "text": "facet_col=0",
          "x": 0.245,
          "xanchor": "center",
          "xref": "paper",
          "y": 1,
          "yanchor": "bottom",
          "yref": "paper"
         },
         {
          "font": {},
          "showarrow": false,
          "text": "facet_col=1",
          "x": 0.755,
          "xanchor": "center",
          "xref": "paper",
          "y": 1,
          "yanchor": "bottom",
          "yref": "paper"
         }
        ],
        "coloraxis": {
         "colorscale": [
          [
           0,
           "#0d0887"
          ],
          [
           0.1111111111111111,
           "#46039f"
          ],
          [
           0.2222222222222222,
           "#7201a8"
          ],
          [
           0.3333333333333333,
           "#9c179e"
          ],
          [
           0.4444444444444444,
           "#bd3786"
          ],
          [
           0.5555555555555556,
           "#d8576b"
          ],
          [
           0.6666666666666666,
           "#ed7953"
          ],
          [
           0.7777777777777778,
           "#fb9f3a"
          ],
          [
           0.8888888888888888,
           "#fdca26"
          ],
          [
           1,
           "#f0f921"
          ]
         ]
        },
        "margin": {
         "t": 60
        },
        "template": {
         "data": {
          "bar": [
           {
            "error_x": {
             "color": "#2a3f5f"
            },
            "error_y": {
             "color": "#2a3f5f"
            },
            "marker": {
             "line": {
              "color": "#E5ECF6",
              "width": 0.5
             },
             "pattern": {
              "fillmode": "overlay",
              "size": 10,
              "solidity": 0.2
             }
            },
            "type": "bar"
           }
          ],
          "barpolar": [
           {
            "marker": {
             "line": {
              "color": "#E5ECF6",
              "width": 0.5
             },
             "pattern": {
              "fillmode": "overlay",
              "size": 10,
              "solidity": 0.2
             }
            },
            "type": "barpolar"
           }
          ],
          "carpet": [
           {
            "aaxis": {
             "endlinecolor": "#2a3f5f",
             "gridcolor": "white",
             "linecolor": "white",
             "minorgridcolor": "white",
             "startlinecolor": "#2a3f5f"
            },
            "baxis": {
             "endlinecolor": "#2a3f5f",
             "gridcolor": "white",
             "linecolor": "white",
             "minorgridcolor": "white",
             "startlinecolor": "#2a3f5f"
            },
            "type": "carpet"
           }
          ],
          "choropleth": [
           {
            "colorbar": {
             "outlinewidth": 0,
             "ticks": ""
            },
            "type": "choropleth"
           }
          ],
          "contour": [
           {
            "colorbar": {
             "outlinewidth": 0,
             "ticks": ""
            },
            "colorscale": [
             [
              0,
              "#0d0887"
             ],
             [
              0.1111111111111111,
              "#46039f"
             ],
             [
              0.2222222222222222,
              "#7201a8"
             ],
             [
              0.3333333333333333,
              "#9c179e"
             ],
             [
              0.4444444444444444,
              "#bd3786"
             ],
             [
              0.5555555555555556,
              "#d8576b"
             ],
             [
              0.6666666666666666,
              "#ed7953"
             ],
             [
              0.7777777777777778,
              "#fb9f3a"
             ],
             [
              0.8888888888888888,
              "#fdca26"
             ],
             [
              1,
              "#f0f921"
             ]
            ],
            "type": "contour"
           }
          ],
          "contourcarpet": [
           {
            "colorbar": {
             "outlinewidth": 0,
             "ticks": ""
            },
            "type": "contourcarpet"
           }
          ],
          "heatmap": [
           {
            "colorbar": {
             "outlinewidth": 0,
             "ticks": ""
            },
            "colorscale": [
             [
              0,
              "#0d0887"
             ],
             [
              0.1111111111111111,
              "#46039f"
             ],
             [
              0.2222222222222222,
              "#7201a8"
             ],
             [
              0.3333333333333333,
              "#9c179e"
             ],
             [
              0.4444444444444444,
              "#bd3786"
             ],
             [
              0.5555555555555556,
              "#d8576b"
             ],
             [
              0.6666666666666666,
              "#ed7953"
             ],
             [
              0.7777777777777778,
              "#fb9f3a"
             ],
             [
              0.8888888888888888,
              "#fdca26"
             ],
             [
              1,
              "#f0f921"
             ]
            ],
            "type": "heatmap"
           }
          ],
          "heatmapgl": [
           {
            "colorbar": {
             "outlinewidth": 0,
             "ticks": ""
            },
            "colorscale": [
             [
              0,
              "#0d0887"
             ],
             [
              0.1111111111111111,
              "#46039f"
             ],
             [
              0.2222222222222222,
              "#7201a8"
             ],
             [
              0.3333333333333333,
              "#9c179e"
             ],
             [
              0.4444444444444444,
              "#bd3786"
             ],
             [
              0.5555555555555556,
              "#d8576b"
             ],
             [
              0.6666666666666666,
              "#ed7953"
             ],
             [
              0.7777777777777778,
              "#fb9f3a"
             ],
             [
              0.8888888888888888,
              "#fdca26"
             ],
             [
              1,
              "#f0f921"
             ]
            ],
            "type": "heatmapgl"
           }
          ],
          "histogram": [
           {
            "marker": {
             "pattern": {
              "fillmode": "overlay",
              "size": 10,
              "solidity": 0.2
             }
            },
            "type": "histogram"
           }
          ],
          "histogram2d": [
           {
            "colorbar": {
             "outlinewidth": 0,
             "ticks": ""
            },
            "colorscale": [
             [
              0,
              "#0d0887"
             ],
             [
              0.1111111111111111,
              "#46039f"
             ],
             [
              0.2222222222222222,
              "#7201a8"
             ],
             [
              0.3333333333333333,
              "#9c179e"
             ],
             [
              0.4444444444444444,
              "#bd3786"
             ],
             [
              0.5555555555555556,
              "#d8576b"
             ],
             [
              0.6666666666666666,
              "#ed7953"
             ],
             [
              0.7777777777777778,
              "#fb9f3a"
             ],
             [
              0.8888888888888888,
              "#fdca26"
             ],
             [
              1,
              "#f0f921"
             ]
            ],
            "type": "histogram2d"
           }
          ],
          "histogram2dcontour": [
           {
            "colorbar": {
             "outlinewidth": 0,
             "ticks": ""
            },
            "colorscale": [
             [
              0,
              "#0d0887"
             ],
             [
              0.1111111111111111,
              "#46039f"
             ],
             [
              0.2222222222222222,
              "#7201a8"
             ],
             [
              0.3333333333333333,
              "#9c179e"
             ],
             [
              0.4444444444444444,
              "#bd3786"
             ],
             [
              0.5555555555555556,
              "#d8576b"
             ],
             [
              0.6666666666666666,
              "#ed7953"
             ],
             [
              0.7777777777777778,
              "#fb9f3a"
             ],
             [
              0.8888888888888888,
              "#fdca26"
             ],
             [
              1,
              "#f0f921"
             ]
            ],
            "type": "histogram2dcontour"
           }
          ],
          "mesh3d": [
           {
            "colorbar": {
             "outlinewidth": 0,
             "ticks": ""
            },
            "type": "mesh3d"
           }
          ],
          "parcoords": [
           {
            "line": {
             "colorbar": {
              "outlinewidth": 0,
              "ticks": ""
             }
            },
            "type": "parcoords"
           }
          ],
          "pie": [
           {
            "automargin": true,
            "type": "pie"
           }
          ],
          "scatter": [
           {
            "fillpattern": {
             "fillmode": "overlay",
             "size": 10,
             "solidity": 0.2
            },
            "type": "scatter"
           }
          ],
          "scatter3d": [
           {
            "line": {
             "colorbar": {
              "outlinewidth": 0,
              "ticks": ""
             }
            },
            "marker": {
             "colorbar": {
              "outlinewidth": 0,
              "ticks": ""
             }
            },
            "type": "scatter3d"
           }
          ],
          "scattercarpet": [
           {
            "marker": {
             "colorbar": {
              "outlinewidth": 0,
              "ticks": ""
             }
            },
            "type": "scattercarpet"
           }
          ],
          "scattergeo": [
           {
            "marker": {
             "colorbar": {
              "outlinewidth": 0,
              "ticks": ""
             }
            },
            "type": "scattergeo"
           }
          ],
          "scattergl": [
           {
            "marker": {
             "colorbar": {
              "outlinewidth": 0,
              "ticks": ""
             }
            },
            "type": "scattergl"
           }
          ],
          "scattermapbox": [
           {
            "marker": {
             "colorbar": {
              "outlinewidth": 0,
              "ticks": ""
             }
            },
            "type": "scattermapbox"
           }
          ],
          "scatterpolar": [
           {
            "marker": {
             "colorbar": {
              "outlinewidth": 0,
              "ticks": ""
             }
            },
            "type": "scatterpolar"
           }
          ],
          "scatterpolargl": [
           {
            "marker": {
             "colorbar": {
              "outlinewidth": 0,
              "ticks": ""
             }
            },
            "type": "scatterpolargl"
           }
          ],
          "scatterternary": [
           {
            "marker": {
             "colorbar": {
              "outlinewidth": 0,
              "ticks": ""
             }
            },
            "type": "scatterternary"
           }
          ],
          "surface": [
           {
            "colorbar": {
             "outlinewidth": 0,
             "ticks": ""
            },
            "colorscale": [
             [
              0,
              "#0d0887"
             ],
             [
              0.1111111111111111,
              "#46039f"
             ],
             [
              0.2222222222222222,
              "#7201a8"
             ],
             [
              0.3333333333333333,
              "#9c179e"
             ],
             [
              0.4444444444444444,
              "#bd3786"
             ],
             [
              0.5555555555555556,
              "#d8576b"
             ],
             [
              0.6666666666666666,
              "#ed7953"
             ],
             [
              0.7777777777777778,
              "#fb9f3a"
             ],
             [
              0.8888888888888888,
              "#fdca26"
             ],
             [
              1,
              "#f0f921"
             ]
            ],
            "type": "surface"
           }
          ],
          "table": [
           {
            "cells": {
             "fill": {
              "color": "#EBF0F8"
             },
             "line": {
              "color": "white"
             }
            },
            "header": {
             "fill": {
              "color": "#C8D4E3"
             },
             "line": {
              "color": "white"
             }
            },
            "type": "table"
           }
          ]
         },
         "layout": {
          "annotationdefaults": {
           "arrowcolor": "#2a3f5f",
           "arrowhead": 0,
           "arrowwidth": 1
          },
          "autotypenumbers": "strict",
          "coloraxis": {
           "colorbar": {
            "outlinewidth": 0,
            "ticks": ""
           }
          },
          "colorscale": {
           "diverging": [
            [
             0,
             "#8e0152"
            ],
            [
             0.1,
             "#c51b7d"
            ],
            [
             0.2,
             "#de77ae"
            ],
            [
             0.3,
             "#f1b6da"
            ],
            [
             0.4,
             "#fde0ef"
            ],
            [
             0.5,
             "#f7f7f7"
            ],
            [
             0.6,
             "#e6f5d0"
            ],
            [
             0.7,
             "#b8e186"
            ],
            [
             0.8,
             "#7fbc41"
            ],
            [
             0.9,
             "#4d9221"
            ],
            [
             1,
             "#276419"
            ]
           ],
           "sequential": [
            [
             0,
             "#0d0887"
            ],
            [
             0.1111111111111111,
             "#46039f"
            ],
            [
             0.2222222222222222,
             "#7201a8"
            ],
            [
             0.3333333333333333,
             "#9c179e"
            ],
            [
             0.4444444444444444,
             "#bd3786"
            ],
            [
             0.5555555555555556,
             "#d8576b"
            ],
            [
             0.6666666666666666,
             "#ed7953"
            ],
            [
             0.7777777777777778,
             "#fb9f3a"
            ],
            [
             0.8888888888888888,
             "#fdca26"
            ],
            [
             1,
             "#f0f921"
            ]
           ],
           "sequentialminus": [
            [
             0,
             "#0d0887"
            ],
            [
             0.1111111111111111,
             "#46039f"
            ],
            [
             0.2222222222222222,
             "#7201a8"
            ],
            [
             0.3333333333333333,
             "#9c179e"
            ],
            [
             0.4444444444444444,
             "#bd3786"
            ],
            [
             0.5555555555555556,
             "#d8576b"
            ],
            [
             0.6666666666666666,
             "#ed7953"
            ],
            [
             0.7777777777777778,
             "#fb9f3a"
            ],
            [
             0.8888888888888888,
             "#fdca26"
            ],
            [
             1,
             "#f0f921"
            ]
           ]
          },
          "colorway": [
           "#636efa",
           "#EF553B",
           "#00cc96",
           "#ab63fa",
           "#FFA15A",
           "#19d3f3",
           "#FF6692",
           "#B6E880",
           "#FF97FF",
           "#FECB52"
          ],
          "font": {
           "color": "#2a3f5f"
          },
          "geo": {
           "bgcolor": "white",
           "lakecolor": "white",
           "landcolor": "#E5ECF6",
           "showlakes": true,
           "showland": true,
           "subunitcolor": "white"
          },
          "hoverlabel": {
           "align": "left"
          },
          "hovermode": "closest",
          "mapbox": {
           "style": "light"
          },
          "paper_bgcolor": "white",
          "plot_bgcolor": "#E5ECF6",
          "polar": {
           "angularaxis": {
            "gridcolor": "white",
            "linecolor": "white",
            "ticks": ""
           },
           "bgcolor": "#E5ECF6",
           "radialaxis": {
            "gridcolor": "white",
            "linecolor": "white",
            "ticks": ""
           }
          },
          "scene": {
           "xaxis": {
            "backgroundcolor": "#E5ECF6",
            "gridcolor": "white",
            "gridwidth": 2,
            "linecolor": "white",
            "showbackground": true,
            "ticks": "",
            "zerolinecolor": "white"
           },
           "yaxis": {
            "backgroundcolor": "#E5ECF6",
            "gridcolor": "white",
            "gridwidth": 2,
            "linecolor": "white",
            "showbackground": true,
            "ticks": "",
            "zerolinecolor": "white"
           },
           "zaxis": {
            "backgroundcolor": "#E5ECF6",
            "gridcolor": "white",
            "gridwidth": 2,
            "linecolor": "white",
            "showbackground": true,
            "ticks": "",
            "zerolinecolor": "white"
           }
          },
          "shapedefaults": {
           "line": {
            "color": "#2a3f5f"
           }
          },
          "ternary": {
           "aaxis": {
            "gridcolor": "white",
            "linecolor": "white",
            "ticks": ""
           },
           "baxis": {
            "gridcolor": "white",
            "linecolor": "white",
            "ticks": ""
           },
           "bgcolor": "#E5ECF6",
           "caxis": {
            "gridcolor": "white",
            "linecolor": "white",
            "ticks": ""
           }
          },
          "title": {
           "x": 0.05
          },
          "xaxis": {
           "automargin": true,
           "gridcolor": "white",
           "linecolor": "white",
           "ticks": "",
           "title": {
            "standoff": 15
           },
           "zerolinecolor": "white",
           "zerolinewidth": 2
          },
          "yaxis": {
           "automargin": true,
           "gridcolor": "white",
           "linecolor": "white",
           "ticks": "",
           "title": {
            "standoff": 15
           },
           "zerolinecolor": "white",
           "zerolinewidth": 2
          }
         }
        },
        "xaxis": {
         "anchor": "y",
         "constrain": "domain",
         "domain": [
          0,
          0.49
         ],
         "scaleanchor": "y"
        },
        "xaxis2": {
         "anchor": "y2",
         "domain": [
          0.51,
          1
         ],
         "matches": "x"
        },
        "yaxis": {
         "anchor": "x",
         "autorange": "reversed",
         "constrain": "domain",
         "domain": [
          0,
          1
         ]
        },
        "yaxis2": {
         "anchor": "x2",
         "domain": [
          0,
          1
         ],
         "matches": "y",
         "showticklabels": false
        }
       }
      }
     },
     "metadata": {},
     "output_type": "display_data"
    }
   ],
   "source": [
    "px.imshow(correlations[2], facet_col=2)"
   ]
  },
  {
   "cell_type": "code",
   "execution_count": 67,
   "metadata": {},
   "outputs": [
    {
     "data": {
      "application/vnd.plotly.v1+json": {
       "config": {
        "plotlyServerURL": "https://plot.ly"
       },
       "data": [
        {
         "coloraxis": "coloraxis",
         "hovertemplate": "x: %{x}<br>y: %{y}<br>color: %{z}<extra></extra>",
         "name": "0",
         "type": "heatmap",
         "xaxis": "x",
         "yaxis": "y",
         "z": [
          [
           165,
           312,
           461,
           735,
           976,
           980,
           1022,
           1107,
           1141,
           1325,
           1604,
           1857,
           2086,
           2232,
           2203,
           2121,
           2099,
           2133,
           2120,
           2133,
           2063,
           1869,
           1586,
           1235,
           851,
           525,
           293,
           198,
           190,
           274,
           414,
           478,
           423,
           398,
           302,
           129
          ],
          [
           173,
           328,
           454,
           668,
           850,
           830,
           815,
           786,
           820,
           1009,
           1236,
           1542,
           1916,
           2103,
           2051,
           2040,
           2090,
           2085,
           2085,
           2127,
           2099,
           2013,
           1930,
           1753,
           1445,
           1111,
           895,
           794,
           787,
           984,
           1259,
           1341,
           1119,
           931,
           631,
           254
          ],
          [
           97,
           215,
           339,
           467,
           583,
           584,
           495,
           415,
           404,
           455,
           554,
           734,
           868,
           800,
           690,
           704,
           685,
           657,
           661,
           697,
           711,
           763,
           914,
           1113,
           1231,
           1289,
           1378,
           1468,
           1495,
           1587,
           1720,
           1746,
           1407,
           1039,
           636,
           288
          ],
          [
           155,
           359,
           544,
           802,
           1032,
           1012,
           880,
           848,
           855,
           982,
           1176,
           1294,
           1203,
           1040,
           947,
           873,
           868,
           891,
           880,
           836,
           759,
           677,
           609,
           564,
           610,
           745,
           956,
           1199,
           1404,
           1583,
           1750,
           1781,
           1400,
           1052,
           709,
           337
          ],
          [
           325,
           630,
           966,
           1495,
           1916,
           1864,
           1798,
           1839,
           1970,
           2346,
           2730,
           2966,
           3086,
           3110,
           2988,
           2972,
           3036,
           3061,
           3021,
           2980,
           2846,
           2603,
           2249,
           1799,
           1386,
           1085,
           1001,
           1203,
           1538,
           1990,
           2443,
           2575,
           2083,
           1694,
           1183,
           540
          ],
          [
           325,
           604,
           933,
           1392,
           1727,
           1602,
           1558,
           1553,
           1644,
           1899,
           2116,
           2315,
           2508,
           2514,
           2410,
           2440,
           2505,
           2469,
           2408,
           2433,
           2444,
           2415,
           2401,
           2322,
           2156,
           1962,
           1984,
           2222,
           2560,
           3010,
           3451,
           3481,
           2863,
           2251,
           1490,
           645
          ],
          [
           343,
           685,
           1044,
           1458,
           1779,
           1684,
           1623,
           1635,
           1606,
           1625,
           1674,
           1678,
           1582,
           1389,
           1173,
           1053,
           1032,
           972,
           961,
           1059,
           1170,
           1335,
           1607,
           1899,
           2039,
           2161,
           2391,
           2663,
           2841,
           3116,
           3372,
           3394,
           2784,
           2146,
           1373,
           582
          ],
          [
           344,
           714,
           985,
           1361,
           1759,
           1746,
           1714,
           1792,
           1766,
           1669,
           1611,
           1469,
           1252,
           963,
           722,
           570,
           522,
           544,
           607,
           687,
           784,
           898,
           1029,
           1191,
           1423,
           1754,
           2156,
           2489,
           2733,
           2856,
           2926,
           3014,
           2447,
           1869,
           1307,
           723
          ],
          [
           330,
           650,
           900,
           1304,
           1778,
           1839,
           1893,
           2030,
           2053,
           1864,
           1658,
           1498,
           1292,
           991,
           845,
           843,
           875,
           922,
           957,
           1050,
           1155,
           1205,
           1241,
           1332,
           1447,
           1602,
           1800,
           2160,
           2510,
           2659,
           2807,
           3089,
           2507,
           1865,
           1384,
           773
          ],
          [
           377,
           722,
           1153,
           1657,
           2197,
           2225,
           2271,
           2262,
           2145,
           1881,
           1751,
           1649,
           1385,
           1152,
           1106,
           1117,
           1168,
           1242,
           1274,
           1301,
           1311,
           1324,
           1422,
           1497,
           1488,
           1551,
           1661,
           1843,
           2089,
           2469,
           2900,
           3175,
           2674,
           2198,
           1454,
           641
          ],
          [
           401,
           769,
           1217,
           1755,
           2315,
           2393,
           2372,
           2272,
           2077,
           1965,
           2080,
           2115,
           2049,
           2021,
           2011,
           1773,
           1638,
           1482,
           1383,
           1360,
           1382,
           1541,
           1715,
           1769,
           1672,
           1738,
           1742,
           1764,
           1992,
           2433,
           2750,
           3018,
           2738,
           2093,
           1229,
           585
          ],
          [
           378,
           770,
           1185,
           1761,
           2467,
           2700,
           2679,
           2527,
           2424,
           2409,
           2413,
           2357,
           2412,
           2444,
           2184,
           1810,
           1618,
           1477,
           1430,
           1537,
           1754,
           1985,
           2027,
           2019,
           2033,
           2064,
           2108,
           2332,
           2515,
           2530,
           2547,
           2825,
           2135,
           1356,
           970,
           602
          ],
          [
           417,
           908,
           1407,
           2074,
           2844,
           2953,
           2784,
           2639,
           2548,
           2369,
           2272,
           2294,
           2439,
           2365,
           2138,
           1962,
           1943,
           1907,
           1890,
           2069,
           2307,
           2346,
           2315,
           2340,
           2241,
           2189,
           2209,
           2284,
           2487,
           2543,
           2485,
           2384,
           1632,
           1139,
           818,
           473
          ],
          [
           447,
           1034,
           1683,
           2323,
           2924,
           2869,
           2623,
           2426,
           2268,
           2047,
           2122,
           2483,
           2610,
           2563,
           2584,
           2582,
           2459,
           2378,
           2347,
           2503,
           2509,
           2407,
           2450,
           2401,
           2123,
           1916,
           1747,
           1883,
           2231,
           2442,
           2455,
           2434,
           1988,
           1483,
           937,
           461
          ],
          [
           428,
           1121,
           1873,
           2432,
           2879,
           2943,
           2639,
           2282,
           2034,
           2010,
           2450,
           2955,
           3181,
           3366,
           3562,
           3257,
           2801,
           2500,
           2420,
           2494,
           2462,
           2564,
           2637,
           2481,
           2121,
           1918,
           2038,
           2356,
           2509,
           2515,
           2469,
           2565,
           2010,
           1399,
           907,
           531
          ],
          [
           479,
           1245,
           1992,
           2540,
           3111,
           3191,
           2771,
           2329,
           2127,
           2369,
           2805,
           3155,
           3438,
           3778,
           3687,
           3118,
           2626,
           2397,
           2285,
           2269,
           2453,
           2615,
           2363,
           2068,
           1983,
           2300,
           2531,
           2721,
           2748,
           2493,
           2131,
           1986,
           1391,
           951,
           725,
           445
          ],
          [
           519,
           1180,
           1850,
           2434,
           2963,
           2819,
           2490,
           2187,
           2071,
           2177,
           2414,
           2735,
           3148,
           3394,
           3286,
           3055,
           2723,
           2477,
           2425,
           2595,
           2689,
           2418,
           2023,
           1926,
           2227,
           2575,
           2635,
           2812,
           2723,
           2225,
           1757,
           1638,
           1249,
           1002,
           790,
           430
          ],
          [
           424,
           1045,
           1665,
           2138,
           2520,
           2441,
           2228,
           2102,
           2149,
           2145,
           2311,
           2686,
           2984,
           2980,
           3010,
           2936,
           2698,
           2526,
           2694,
           2986,
           3036,
           2724,
           2518,
           2688,
           2744,
           2450,
           2444,
           2564,
           2282,
           1779,
           1712,
           1888,
           1593,
           1312,
           1023,
           554
          ],
          [
           341,
           998,
           1690,
           2064,
           2458,
           2512,
           2345,
           2127,
           2185,
           2212,
           2547,
           3017,
           3086,
           3109,
           3110,
           2889,
           2696,
           2796,
           2950,
           3106,
           3160,
           3034,
           2926,
           2934,
           2759,
           2612,
           2572,
           2491,
           2160,
           1888,
           1809,
           2016,
           1660,
           1325,
           974,
           530
          ],
          [
           406,
           990,
           1600,
           2108,
           2552,
           2590,
           2435,
           2284,
           2124,
           2209,
           2722,
           3118,
           3188,
           3319,
           3236,
           2803,
           2627,
           2785,
           2906,
           2954,
           2960,
           2935,
           2710,
           2494,
           2482,
           2701,
           2719,
           2527,
           2312,
           2034,
           1824,
           1833,
           1474,
           1160,
           826,
           408
          ],
          [
           465,
           907,
           1418,
           2000,
           2507,
           2433,
           2495,
           2497,
           2182,
           2126,
           2463,
           2794,
           2932,
           3064,
           3126,
           2920,
           2758,
           2848,
           3024,
           3146,
           3247,
           3192,
           2821,
           2461,
           2415,
           2572,
           2462,
           2376,
           2171,
           1943,
           1840,
           1892,
           1549,
           1279,
           960,
           491
          ],
          [
           400,
           839,
           1296,
           1776,
           2263,
           2325,
           2425,
           2434,
           2460,
           2348,
           2440,
           2675,
           2863,
           2894,
           3062,
           3014,
           3007,
           3051,
           3171,
           3334,
           3618,
           3437,
           2767,
           2386,
           2412,
           2262,
           2143,
           2302,
           2251,
           2030,
           1983,
           2148,
           1744,
           1382,
           1035,
           543
          ],
          [
           331,
           746,
           1285,
           1634,
           2165,
           2334,
           2326,
           2333,
           2516,
           2462,
           2466,
           2621,
           2831,
           2976,
           3082,
           3007,
           3048,
           3119,
           3140,
           3247,
           3411,
           3017,
           2326,
           2089,
           1945,
           1925,
           2079,
           2360,
           2325,
           2192,
           2096,
           2121,
           1638,
           1243,
           841,
           440
          ],
          [
           408,
           834,
           1350,
           1773,
           2214,
           2129,
           2202,
           2314,
           2299,
           2317,
           2439,
           2412,
           2466,
           2715,
           2794,
           2579,
           2583,
           2721,
           2799,
           2893,
           2889,
           2654,
           2272,
           1866,
           1608,
           1800,
           1991,
           1995,
           1870,
           1852,
           1728,
           1583,
           1218,
           921,
           599,
           285
          ],
          [
           487,
           921,
           1381,
           1949,
           2300,
           2038,
           2103,
           2277,
           2200,
           2185,
           2499,
           2510,
           2385,
           2419,
           2421,
           2159,
           2036,
           2117,
           2307,
           2449,
           2579,
           2642,
           2361,
           1932,
           1791,
           1847,
           1840,
           1769,
           1736,
           1747,
           1688,
           1576,
           1253,
           955,
           620,
           300
          ],
          [
           471,
           877,
           1312,
           1839,
           2342,
           2234,
           2126,
           2076,
           2127,
           2239,
           2467,
           2747,
           2961,
           2923,
           2647,
           2233,
           1908,
           1783,
           1966,
           2045,
           2177,
           2173,
           1986,
           1725,
           1735,
           1762,
           1812,
           1877,
           1881,
           1842,
           1862,
           1875,
           1553,
           1149,
           745,
           381
          ],
          [
           514,
           990,
           1365,
           1777,
           2363,
           2391,
           2256,
           2149,
           2133,
           2086,
           2070,
           2334,
           2780,
           3044,
           2903,
           2449,
           2036,
           1766,
           1747,
           1764,
           1838,
           1834,
           1781,
           1639,
           1591,
           1659,
           1703,
           1675,
           1615,
           1543,
           1488,
           1539,
           1223,
           866,
           558,
           283
          ],
          [
           582,
           1120,
           1519,
           1850,
           2193,
           2053,
           2032,
           2160,
           2101,
           1987,
           1826,
           1742,
           1878,
           2126,
           2238,
           2110,
           1980,
           1809,
           1789,
           1838,
           1939,
           1999,
           1925,
           1754,
           1612,
           1557,
           1413,
           1263,
           1151,
           1087,
           1071,
           1065,
           835,
           618,
           407,
           211
          ],
          [
           619,
           1181,
           1728,
           2090,
           2385,
           1994,
           1855,
           1882,
           1964,
           1965,
           1919,
           1688,
           1453,
           1270,
           1157,
           1143,
           1136,
           1183,
           1409,
           1516,
           1678,
           1919,
           1963,
           1908,
           1897,
           1749,
           1642,
           1584,
           1496,
           1500,
           1554,
           1539,
           1252,
           954,
           669,
           357
          ],
          [
           681,
           1327,
           1937,
           2425,
           2953,
           2661,
           2310,
           2129,
           2161,
           2157,
           2076,
           2022,
           1858,
           1541,
           1236,
           1121,
           1016,
           1096,
           1355,
           1503,
           1682,
           2072,
           2327,
           2431,
           2525,
           2425,
           2280,
           2130,
           2078,
           2014,
           2100,
           2156,
           1819,
           1423,
           977,
           494
          ],
          [
           714,
           1394,
           2023,
           2595,
           3128,
           2883,
           2661,
           2411,
           2230,
           2173,
           2097,
           2057,
           2060,
           2078,
           2090,
           2091,
           2047,
           1944,
           1971,
           2003,
           2100,
           2323,
           2535,
           2568,
           2526,
           2372,
           2072,
           1925,
           1922,
           1958,
           2007,
           2118,
           1795,
           1338,
           847,
           405
          ],
          [
           643,
           1251,
           1871,
           2467,
           2875,
           2584,
           2379,
           2176,
           1994,
           1964,
           1909,
           1823,
           1864,
           1966,
           2113,
           2269,
           2317,
           2275,
           2168,
           2083,
           2126,
           2160,
           2118,
           2097,
           1986,
           1819,
           1686,
           1671,
           1735,
           1811,
           1870,
           1981,
           1637,
           1203,
           778,
           389
          ],
          [
           321,
           635,
           1046,
           1348,
           1579,
           1450,
           1340,
           1215,
           1193,
           1097,
           945,
           770,
           596,
           476,
           501,
           529,
           570,
           611,
           625,
           580,
           709,
           853,
           935,
           1024,
           1077,
           1020,
           963,
           905,
           759,
           667,
           675,
           738,
           614,
           506,
           367,
           193
          ],
          [
           426,
           848,
           1256,
           1511,
           1810,
           1735,
           1653,
           1645,
           1644,
           1506,
           1341,
           1180,
           960,
           845,
           865,
           937,
           949,
           965,
           976,
           915,
           925,
           1075,
           1131,
           1179,
           1285,
           1212,
           1074,
           963,
           852,
           831,
           930,
           1082,
           943,
           788,
           543,
           297
          ],
          [
           542,
           1068,
           1455,
           1775,
           2047,
           1887,
           1821,
           1808,
           1813,
           1818,
           1764,
           1701,
           1681,
           1694,
           1808,
           1959,
           1989,
           1927,
           1820,
           1654,
           1530,
           1464,
           1346,
           1260,
           1218,
           1096,
           967,
           978,
           1113,
           1289,
           1511,
           1725,
           1453,
           1105,
           751,
           375
          ],
          [
           406,
           702,
           948,
           1186,
           1365,
           1200,
           1118,
           1070,
           1067,
           1107,
           1127,
           1159,
           1241,
           1311,
           1387,
           1475,
           1501,
           1470,
           1357,
           1230,
           1125,
           999,
           861,
           772,
           704,
           661,
           661,
           772,
           944,
           1107,
           1259,
           1365,
           1089,
           819,
           546,
           264
          ]
         ]
        },
        {
         "coloraxis": "coloraxis",
         "hovertemplate": "x: %{x}<br>y: %{y}<br>color: %{z}<extra></extra>",
         "name": "1",
         "type": "heatmap",
         "xaxis": "x2",
         "yaxis": "y2",
         "z": [
          [
           106.5,
           201.5,
           265,
           410,
           537,
           514.5,
           467.5,
           482,
           576,
           748.5,
           935,
           1063,
           1083,
           1046.5,
           1009,
           1024,
           1032,
           1045,
           1044,
           1015,
           954,
           853,
           669,
           457.5,
           285.5,
           172.5,
           117,
           104.5,
           102,
           151.5,
           239,
           273.5,
           201,
           130.5,
           75,
           29
          ],
          [
           266.5,
           462.5,
           624,
           928,
           1184,
           1143.5,
           1037.5,
           1077.5,
           1287.5,
           1694.5,
           2133,
           2471.5,
           2629.5,
           2647.5,
           2580.5,
           2594.5,
           2617.5,
           2648,
           2627.5,
           2570,
           2461.5,
           2280,
           1962,
           1544.5,
           1088.5,
           727.5,
           567.5,
           572.5,
           619.5,
           801,
           1023.5,
           1074.5,
           780.5,
           514.5,
           309,
           139.5
          ],
          [
           485.5,
           798.5,
           1098,
           1656.5,
           1908.5,
           1795.5,
           1691.5,
           1703.5,
           2064,
           2731.5,
           3358,
           3818,
           4090,
           4197.5,
           4042.5,
           4033.5,
           4105,
           4097,
           4039.5,
           3994.5,
           3845,
           3598,
           3225.5,
           2751,
           2185,
           1667,
           1493,
           1584.5,
           1708,
           2053,
           2367,
           2337,
           1666.5,
           1143,
           657,
           285.5
          ],
          [
           756,
           1175.5,
           1596.5,
           2344,
           2529.5,
           2340.5,
           2215.5,
           2228.5,
           2691,
           3363,
           3885,
           4367,
           4696,
           4764.5,
           4565,
           4617,
           4690.5,
           4632.5,
           4579,
           4563.5,
           4407.5,
           4178,
           3852,
           3442.5,
           2944.5,
           2523.5,
           2536.5,
           2808,
           3032.5,
           3556.5,
           3911.5,
           3735.5,
           2599.5,
           1847.5,
           1051,
           447
          ],
          [
           1077,
           1597,
           2108.5,
           3087,
           3215,
           2868.5,
           2701,
           2795,
           3367.5,
           3938,
           4191.5,
           4539,
           4769,
           4772,
           4560.5,
           4661,
           4710.5,
           4594,
           4570,
           4604,
           4445.5,
           4242.5,
           3967,
           3618.5,
           3289,
           3119.5,
           3472,
           3970.5,
           4242.5,
           4930,
           5389.5,
           5154,
           3425,
           2503,
           1472,
           647.5
          ],
          [
           1104.5,
           1683,
           2121,
           2880.5,
           3069,
           2703,
           2463.5,
           2485.5,
           2899.5,
           3101,
           2970.5,
           3076,
           3091.5,
           2909.5,
           2722.5,
           2809,
           2825.5,
           2709.5,
           2682,
           2786.5,
           2810,
           2823.5,
           2920.5,
           2914,
           2936.5,
           3202,
           4044.5,
           4833,
           5146,
           5801.5,
           6263,
           6075,
           3958.5,
           2935.5,
           1766,
           794.5
          ],
          [
           1106,
           1666,
           2097,
           2777,
           3074.5,
           2769,
           2577,
           2641.5,
           2776.5,
           2641,
           2358,
           2171.5,
           1859.5,
           1464.5,
           1213.5,
           1186,
           1165,
           1081.5,
           1078,
           1213,
           1325.5,
           1448,
           1725.5,
           2058,
           2438,
           2951.5,
           3885,
           4776,
           5203.5,
           5780.5,
           6280,
           6252,
           4029.5,
           3040.5,
           1891,
           857.5
          ],
          [
           1087.5,
           1503.5,
           1926,
           2660,
           3099,
           2911,
           2820,
           2969.5,
           2989,
           2780.5,
           2477.5,
           2078,
           1618.5,
           1144.5,
           850.5,
           700,
           682,
           676.5,
           716,
           816.5,
           941.5,
           1095,
           1301.5,
           1559,
           2107.5,
           2758.5,
           3563,
           4222,
           4565,
           5141.5,
           5746.5,
           5910.5,
           3804.5,
           2969,
           1895.5,
           868.5
          ],
          [
           1025,
           1237,
           1742,
           2562,
           3189.5,
           3124,
           3187,
           3390.5,
           3376,
           3148,
           2867.5,
           2413,
           1955.5,
           1459,
           1125,
           1006.5,
           1031.5,
           1063,
           1110.5,
           1302.5,
           1513,
           1747.5,
           1929.5,
           2065.5,
           2474.5,
           2955,
           3457,
           3828.5,
           4151.5,
           4598,
           5112,
           5334,
           3467.5,
           2792.5,
           1765,
           868
          ],
          [
           1040,
           1185,
           1818,
           2814.5,
           3618,
           3509.5,
           3640,
           3871,
           3793.5,
           3484.5,
           3244,
           2795,
           2401,
           1906,
           1615.5,
           1544,
           1619,
           1707,
           1772.5,
           2031.5,
           2295.5,
           2601,
           2781,
           2888.5,
           3112,
           3444,
           3593.5,
           3555.5,
           3875.5,
           4221.5,
           4588.5,
           4870,
           3145.5,
           2530,
           1652.5,
           840.5
          ],
          [
           1143.5,
           1443,
           2128,
           3299.5,
           4225.5,
           3992.5,
           4033.5,
           4208.5,
           4086,
           3699.5,
           3602,
           3336.5,
           3092.5,
           2764.5,
           2621.5,
           2484,
           2501.5,
           2524.5,
           2570,
           2929.5,
           3210,
           3514,
           3666,
           3627.5,
           3464,
           3558,
           3361.5,
           3237,
           3611.5,
           3988.5,
           4350,
           4736.5,
           2918.5,
           2337,
           1579,
           800.5
          ],
          [
           1259,
           1860,
           2686.5,
           3923.5,
           4855,
           4560.5,
           4477.5,
           4391.5,
           4145,
           3801,
           3959.5,
           3999.5,
           3885,
           3751.5,
           3791.5,
           3565,
           3443.5,
           3356,
           3325.5,
           3735,
           3945.5,
           4137.5,
           4113,
           3922,
           3628,
           3518,
           3146.5,
           3298,
           3833.5,
           4148.5,
           4408.5,
           4895.5,
           2890.5,
           2248,
           1434.5,
           777.5
          ],
          [
           1435.5,
           2352,
           3373.5,
           4490,
           5369.5,
           5053.5,
           4727.5,
           4356.5,
           4036.5,
           3859.5,
           4326,
           4616.5,
           4684.5,
           4705,
           4784.5,
           4424.5,
           4183,
           3859,
           3738.5,
           4196,
           4321.5,
           4432,
           4142,
           3783.5,
           3386,
           3210.5,
           3025.5,
           3612,
           4312,
           4543,
           4439,
           4854.5,
           2906,
           2062.5,
           1236,
           677
          ],
          [
           1586,
           2790.5,
           3977,
           4794.5,
           5536,
           5256,
           4632,
           4100,
           3780.5,
           3925.5,
           4616,
           4894,
           5116,
           5260.5,
           5238.5,
           4731.5,
           4390,
           3973,
           3874,
           4207.5,
           4237.5,
           4254,
           3675.5,
           3335.5,
           3008.5,
           3035.5,
           3231.5,
           4076.5,
           4643.5,
           4798,
           4456,
           4492.5,
           2664,
           1871,
           1136,
           571.5
          ],
          [
           1551,
           2945,
           4080.5,
           4702,
           5234,
           5027,
           4230,
           3717.5,
           3600.5,
           4029.5,
           4753,
           5094,
           5562,
           5580.5,
           5248.5,
           4640.5,
           4167.5,
           3770.5,
           3724.5,
           4099,
           4119,
           3815,
           3254,
           3231,
           3185.5,
           3444.5,
           3743.5,
           4543.5,
           4862,
           4470,
           3898.5,
           3944,
           2288.5,
           1589,
           983.5,
           538.5
          ],
          [
           1452.5,
           2890,
           3910.5,
           4460.5,
           4916,
           4747,
           3918.5,
           3457,
           3543,
           4167.5,
           4718,
           5181,
           5654,
           5455.5,
           4900.5,
           4363.5,
           3845.5,
           3578,
           3674,
           4092,
           4055.5,
           3550,
           3248.5,
           3477.5,
           3720,
           3940.5,
           4289.5,
           4746.5,
           4278.5,
           3497,
           3209,
           3350.5,
           1933.5,
           1362,
           886,
           509
          ],
          [
           1400,
           2757.5,
           3688,
           4198.5,
           4572,
           4269,
           3622.5,
           3367.5,
           3413.5,
           3845,
           4535,
           5428.5,
           5733,
           5656.5,
           5140,
           4557,
           4043.5,
           3788.5,
           3977,
           4370.5,
           4097,
           3646.5,
           3708,
           3931.5,
           4341.5,
           4600.5,
           4611,
           4189.5,
           3510.5,
           2960.5,
           2861,
           3044.5,
           1937.5,
           1483,
           1008.5,
           531.5
          ],
          [
           1334.5,
           2606.5,
           3414.5,
           3871.5,
           4310,
           4039.5,
           3614.5,
           3565.5,
           3487,
           3651.5,
           4586.5,
           5715,
           5822,
           5937,
           5547,
           4924,
           4443,
           4275.5,
           4522.5,
           4762,
           4409.5,
           4239.5,
           4301.5,
           4432.5,
           4770,
           4629.5,
           4328.5,
           3867,
           3258.5,
           2731.5,
           2963.5,
           3393.5,
           2190.5,
           1761,
           1248,
           656
          ],
          [
           1314,
           2457,
           3298.5,
           3801.5,
           4308,
           4142.5,
           3879.5,
           3814,
           3600,
           3728,
           4734,
           5657,
           5669,
           5840,
           5763.5,
           5253.5,
           4970.5,
           4983.5,
           5190.5,
           5271,
           5022.5,
           4961,
           4766.5,
           4719,
           4798.5,
           4726,
           4399.5,
           4016.5,
           3434,
           2975,
           3365,
           3849.5,
           2402.5,
           1983,
           1404.5,
           737.5
          ],
          [
           1351,
           2239,
           3188,
           3760.5,
           4466,
           4193,
           4043,
           4025,
           3847.5,
           3987,
           4711,
           5288.5,
           5176,
           5288.5,
           5523,
           5205,
           5247,
           5511,
           5664.5,
           5749.5,
           5709,
           5497.5,
           4604.5,
           4531.5,
           4851,
           4892.5,
           4346.5,
           4286,
           3873.5,
           3444.5,
           3750.5,
           4057,
           2459.5,
           2079,
           1451.5,
           727.5
          ],
          [
           1286.5,
           1972.5,
           3055.5,
           3669,
           4470.5,
           4166.5,
           4181,
           4182.5,
           3982.5,
           3844,
           4366,
           4828,
           4656.5,
           4554,
           4895.5,
           4800,
           5174,
           5702,
           5968.5,
           6269.5,
           6234,
           5458.5,
           4429,
           4679,
           4702.5,
           4630,
           4375,
           4603.5,
           4198.5,
           3824.5,
           4068,
           4159.5,
           2388,
           2020,
           1430.5,
           691.5
          ],
          [
           1140.5,
           1872.5,
           2900,
           3441,
           4306,
           4111.5,
           4248.5,
           4208,
           4061,
           3896,
           4405,
           4545.5,
           4545.5,
           4381.5,
           4507.5,
           4276.5,
           4822,
           5586.5,
           5937,
           6353.5,
           6323.5,
           5277.5,
           4326.5,
           4385,
           4295.5,
           4346,
           4245,
           4507,
           4205,
           3997.5,
           4001.5,
           3935.5,
           2232,
           1826,
           1266,
           630.5
          ],
          [
           1076,
           1710,
           2726.5,
           3224.5,
           4018.5,
           4012.5,
           4204,
           4219,
           4008,
           4019,
           4602,
           4642.5,
           4853.5,
           4948.5,
           4736,
           4148.5,
           4578.5,
           5316,
           5539,
           5816.5,
           5670.5,
           4710.5,
           3831,
           3641,
           3583,
           3838.5,
           3763.5,
           4034.5,
           3824,
           3759.5,
           3462.5,
           3373.5,
           2037.5,
           1577.5,
           1023,
           516.5
          ],
          [
           1189.5,
           1650,
           2436,
           3124,
           3649.5,
           3788.5,
           4116,
           4206,
           3976,
           4107,
           4680.5,
           4770.5,
           5259.5,
           5676.5,
           5310.5,
           4281,
           4301.5,
           4838,
           5068.5,
           5038.5,
           4639.5,
           3952.5,
           3385,
           2965,
           2837,
           3144.5,
           3210.5,
           3232.5,
           3053,
           3074.5,
           2827,
           2744,
           1755,
           1358.5,
           855.5,
           424.5
          ],
          [
           1370,
           1763,
           2290,
           3022.5,
           3477,
           3562.5,
           3868,
           4136,
           4100.5,
           4077.5,
           4506,
           4768,
           5376.5,
           5816.5,
           5481.5,
           4356.5,
           4141.5,
           4317.5,
           4553.5,
           4292,
           4061.5,
           3649,
           3037.5,
           2546.5,
           2411.5,
           2534.5,
           2620.5,
           2582.5,
           2479.5,
           2555.5,
           2523,
           2548.5,
           1628.5,
           1279.5,
           836.5,
           409
          ],
          [
           1537.5,
           2042.5,
           2441.5,
           2971.5,
           3598.5,
           3480.5,
           3481,
           3866,
           4066,
           4074.5,
           4222.5,
           4476,
           5093.5,
           5257.5,
           4907,
           3937.5,
           3666,
           3668,
           3949,
           3710,
           3508,
           3274,
           2867.5,
           2559,
           2411,
           2351,
           2441,
           2523,
           2521.5,
           2564.5,
           2663,
           2731,
           1754,
           1354.5,
           884,
           440.5
          ],
          [
           1768.5,
           2383,
           2849,
           3258,
           3918,
           3514,
           3246.5,
           3541,
           3690.5,
           3816.5,
           3719.5,
           3851.5,
           4307.5,
           4254,
           3851.5,
           3076,
           2840.5,
           2938.5,
           3318.5,
           3269.5,
           3154.5,
           3265,
           3189.5,
           2946.5,
           2792,
           2724.5,
           2780,
           2752,
           2832,
           2863,
           2904,
           2868,
           1878,
           1401.5,
           887,
           434
          ],
          [
           2013,
           2658,
           3273.5,
           3636,
           4046.5,
           3479,
           3276.5,
           3350.5,
           3159,
           3281.5,
           3117,
           3113.5,
           3390,
           3144,
           2747.5,
           2304.5,
           2155.5,
           2391,
           2914.5,
           2944.5,
           3101.5,
           3565.5,
           3657.5,
           3541,
           3387.5,
           3252.5,
           3183,
           2989.5,
           3065,
           3042,
           2974,
           2860.5,
           1893.5,
           1377.5,
           832.5,
           387
          ],
          [
           2082,
           2796,
           3552,
           3945.5,
           4227.5,
           3550.5,
           3315,
           3262.5,
           3020,
           2898,
           2724.5,
           2672.5,
           2682,
           2420.5,
           2140,
           1921.5,
           1771,
           1981.5,
           2574,
           2665.5,
           3089,
           3755,
           4008.5,
           4022.5,
           3891,
           3664.5,
           3511.5,
           3237,
           3282,
           3097.5,
           3005,
           2895,
           1899.5,
           1380.5,
           848,
           405.5
          ],
          [
           2026.5,
           2775,
           3699.5,
           4149,
           4553,
           4012.5,
           3579,
           3312,
           3312.5,
           3163.5,
           2718,
           2588,
           2539,
           2429,
           2267.5,
           2138.5,
           1990,
           2044.5,
           2523,
           2608.5,
           3078,
           3761.5,
           4101.5,
           4191,
           4140,
           3801.5,
           3462.5,
           3203.5,
           3222,
           2963.5,
           2858,
           2912,
           1954.5,
           1432.5,
           877.5,
           450.5
          ],
          [
           2039,
           2815.5,
           3832,
           4301.5,
           4800.5,
           4516.5,
           4192,
           3827.5,
           3644.5,
           3551.5,
           3179,
           2882.5,
           2741,
           2738,
           2836.5,
           2804,
           2643,
           2570,
           2747.5,
           2840.5,
           3222,
           3730.5,
           3983,
           4116,
           3999,
           3638.5,
           3161,
           2980.5,
           2943,
           2758,
           2678,
           2929.5,
           2041,
           1507.5,
           910.5,
           487.5
          ],
          [
           2058,
           2902.5,
           3983,
           4441,
           4961,
           4682,
           4533.5,
           4381.5,
           4137,
           3889.5,
           3622,
           3392,
           3252,
           3194,
           3397.5,
           3471.5,
           3434,
           3380.5,
           3315.5,
           3192,
           3461.5,
           3704,
           3649.5,
           3737.5,
           3611.5,
           3255,
           2966,
           2794.5,
           2794,
           2884,
           3029,
           3387.5,
           2318.5,
           1783,
           1115.5,
           572.5
          ],
          [
           2007.5,
           2644.5,
           3631,
           4069,
           4625.5,
           4231.5,
           4089.5,
           4088,
           4008,
           3791,
           3490.5,
           3271,
           3125.5,
           3114.5,
           3361.5,
           3439,
           3372,
           3379,
           3241,
           2944.5,
           3091,
           3174.5,
           2944.5,
           3019.5,
           2995,
           2675.5,
           2555,
           2460,
           2550.5,
           2845,
           3153,
           3539,
           2265,
           1867,
           1219.5,
           607.5
          ],
          [
           1887,
           2307,
           2885.5,
           3393.5,
           3803.5,
           3489.5,
           3329,
           3322.5,
           3303.5,
           3198.5,
           3001.5,
           2909.5,
           2763.5,
           2795,
           3056,
           3210,
           3116,
           3068.5,
           2915,
           2627,
           2617,
           2679.5,
           2375,
           2349,
           2413.5,
           2142.5,
           2031.5,
           2044,
           2267,
           2606.5,
           2916.5,
           3210,
           1914.5,
           1628.5,
           1101.5,
           503
          ],
          [
           1370,
           1563.5,
           1899,
           2185,
           2346,
           2181,
           2204.5,
           2141,
           2120.5,
           2048,
           1962,
           2086.5,
           2138,
           2141,
           2339.5,
           2482,
           2494,
           2377.5,
           2139,
           1947.5,
           1863.5,
           1794,
           1525.5,
           1379.5,
           1370.5,
           1222.5,
           1140,
           1343.5,
           1613.5,
           1853,
           2069,
           2246,
           1292,
           1128.5,
           773,
           370.5
          ],
          [
           743.5,
           794.5,
           870,
           1017,
           1048,
           906.5,
           945,
           908.5,
           923.5,
           910,
           872,
           997.5,
           1097.5,
           1135.5,
           1201,
           1238.5,
           1273.5,
           1233,
           1040,
           957,
           902,
           785.5,
           668,
           587.5,
           558.5,
           557,
           573.5,
           773,
           922.5,
           1005.5,
           1100,
           1144.5,
           605,
           515,
           374,
           180.5
          ]
         ]
        }
       ],
       "layout": {
        "annotations": [
         {
          "font": {},
          "showarrow": false,
          "text": "facet_col=0",
          "x": 0.245,
          "xanchor": "center",
          "xref": "paper",
          "y": 1,
          "yanchor": "bottom",
          "yref": "paper"
         },
         {
          "font": {},
          "showarrow": false,
          "text": "facet_col=1",
          "x": 0.755,
          "xanchor": "center",
          "xref": "paper",
          "y": 1,
          "yanchor": "bottom",
          "yref": "paper"
         }
        ],
        "coloraxis": {
         "colorscale": [
          [
           0,
           "#0d0887"
          ],
          [
           0.1111111111111111,
           "#46039f"
          ],
          [
           0.2222222222222222,
           "#7201a8"
          ],
          [
           0.3333333333333333,
           "#9c179e"
          ],
          [
           0.4444444444444444,
           "#bd3786"
          ],
          [
           0.5555555555555556,
           "#d8576b"
          ],
          [
           0.6666666666666666,
           "#ed7953"
          ],
          [
           0.7777777777777778,
           "#fb9f3a"
          ],
          [
           0.8888888888888888,
           "#fdca26"
          ],
          [
           1,
           "#f0f921"
          ]
         ]
        },
        "margin": {
         "t": 60
        },
        "template": {
         "data": {
          "bar": [
           {
            "error_x": {
             "color": "#2a3f5f"
            },
            "error_y": {
             "color": "#2a3f5f"
            },
            "marker": {
             "line": {
              "color": "#E5ECF6",
              "width": 0.5
             },
             "pattern": {
              "fillmode": "overlay",
              "size": 10,
              "solidity": 0.2
             }
            },
            "type": "bar"
           }
          ],
          "barpolar": [
           {
            "marker": {
             "line": {
              "color": "#E5ECF6",
              "width": 0.5
             },
             "pattern": {
              "fillmode": "overlay",
              "size": 10,
              "solidity": 0.2
             }
            },
            "type": "barpolar"
           }
          ],
          "carpet": [
           {
            "aaxis": {
             "endlinecolor": "#2a3f5f",
             "gridcolor": "white",
             "linecolor": "white",
             "minorgridcolor": "white",
             "startlinecolor": "#2a3f5f"
            },
            "baxis": {
             "endlinecolor": "#2a3f5f",
             "gridcolor": "white",
             "linecolor": "white",
             "minorgridcolor": "white",
             "startlinecolor": "#2a3f5f"
            },
            "type": "carpet"
           }
          ],
          "choropleth": [
           {
            "colorbar": {
             "outlinewidth": 0,
             "ticks": ""
            },
            "type": "choropleth"
           }
          ],
          "contour": [
           {
            "colorbar": {
             "outlinewidth": 0,
             "ticks": ""
            },
            "colorscale": [
             [
              0,
              "#0d0887"
             ],
             [
              0.1111111111111111,
              "#46039f"
             ],
             [
              0.2222222222222222,
              "#7201a8"
             ],
             [
              0.3333333333333333,
              "#9c179e"
             ],
             [
              0.4444444444444444,
              "#bd3786"
             ],
             [
              0.5555555555555556,
              "#d8576b"
             ],
             [
              0.6666666666666666,
              "#ed7953"
             ],
             [
              0.7777777777777778,
              "#fb9f3a"
             ],
             [
              0.8888888888888888,
              "#fdca26"
             ],
             [
              1,
              "#f0f921"
             ]
            ],
            "type": "contour"
           }
          ],
          "contourcarpet": [
           {
            "colorbar": {
             "outlinewidth": 0,
             "ticks": ""
            },
            "type": "contourcarpet"
           }
          ],
          "heatmap": [
           {
            "colorbar": {
             "outlinewidth": 0,
             "ticks": ""
            },
            "colorscale": [
             [
              0,
              "#0d0887"
             ],
             [
              0.1111111111111111,
              "#46039f"
             ],
             [
              0.2222222222222222,
              "#7201a8"
             ],
             [
              0.3333333333333333,
              "#9c179e"
             ],
             [
              0.4444444444444444,
              "#bd3786"
             ],
             [
              0.5555555555555556,
              "#d8576b"
             ],
             [
              0.6666666666666666,
              "#ed7953"
             ],
             [
              0.7777777777777778,
              "#fb9f3a"
             ],
             [
              0.8888888888888888,
              "#fdca26"
             ],
             [
              1,
              "#f0f921"
             ]
            ],
            "type": "heatmap"
           }
          ],
          "heatmapgl": [
           {
            "colorbar": {
             "outlinewidth": 0,
             "ticks": ""
            },
            "colorscale": [
             [
              0,
              "#0d0887"
             ],
             [
              0.1111111111111111,
              "#46039f"
             ],
             [
              0.2222222222222222,
              "#7201a8"
             ],
             [
              0.3333333333333333,
              "#9c179e"
             ],
             [
              0.4444444444444444,
              "#bd3786"
             ],
             [
              0.5555555555555556,
              "#d8576b"
             ],
             [
              0.6666666666666666,
              "#ed7953"
             ],
             [
              0.7777777777777778,
              "#fb9f3a"
             ],
             [
              0.8888888888888888,
              "#fdca26"
             ],
             [
              1,
              "#f0f921"
             ]
            ],
            "type": "heatmapgl"
           }
          ],
          "histogram": [
           {
            "marker": {
             "pattern": {
              "fillmode": "overlay",
              "size": 10,
              "solidity": 0.2
             }
            },
            "type": "histogram"
           }
          ],
          "histogram2d": [
           {
            "colorbar": {
             "outlinewidth": 0,
             "ticks": ""
            },
            "colorscale": [
             [
              0,
              "#0d0887"
             ],
             [
              0.1111111111111111,
              "#46039f"
             ],
             [
              0.2222222222222222,
              "#7201a8"
             ],
             [
              0.3333333333333333,
              "#9c179e"
             ],
             [
              0.4444444444444444,
              "#bd3786"
             ],
             [
              0.5555555555555556,
              "#d8576b"
             ],
             [
              0.6666666666666666,
              "#ed7953"
             ],
             [
              0.7777777777777778,
              "#fb9f3a"
             ],
             [
              0.8888888888888888,
              "#fdca26"
             ],
             [
              1,
              "#f0f921"
             ]
            ],
            "type": "histogram2d"
           }
          ],
          "histogram2dcontour": [
           {
            "colorbar": {
             "outlinewidth": 0,
             "ticks": ""
            },
            "colorscale": [
             [
              0,
              "#0d0887"
             ],
             [
              0.1111111111111111,
              "#46039f"
             ],
             [
              0.2222222222222222,
              "#7201a8"
             ],
             [
              0.3333333333333333,
              "#9c179e"
             ],
             [
              0.4444444444444444,
              "#bd3786"
             ],
             [
              0.5555555555555556,
              "#d8576b"
             ],
             [
              0.6666666666666666,
              "#ed7953"
             ],
             [
              0.7777777777777778,
              "#fb9f3a"
             ],
             [
              0.8888888888888888,
              "#fdca26"
             ],
             [
              1,
              "#f0f921"
             ]
            ],
            "type": "histogram2dcontour"
           }
          ],
          "mesh3d": [
           {
            "colorbar": {
             "outlinewidth": 0,
             "ticks": ""
            },
            "type": "mesh3d"
           }
          ],
          "parcoords": [
           {
            "line": {
             "colorbar": {
              "outlinewidth": 0,
              "ticks": ""
             }
            },
            "type": "parcoords"
           }
          ],
          "pie": [
           {
            "automargin": true,
            "type": "pie"
           }
          ],
          "scatter": [
           {
            "fillpattern": {
             "fillmode": "overlay",
             "size": 10,
             "solidity": 0.2
            },
            "type": "scatter"
           }
          ],
          "scatter3d": [
           {
            "line": {
             "colorbar": {
              "outlinewidth": 0,
              "ticks": ""
             }
            },
            "marker": {
             "colorbar": {
              "outlinewidth": 0,
              "ticks": ""
             }
            },
            "type": "scatter3d"
           }
          ],
          "scattercarpet": [
           {
            "marker": {
             "colorbar": {
              "outlinewidth": 0,
              "ticks": ""
             }
            },
            "type": "scattercarpet"
           }
          ],
          "scattergeo": [
           {
            "marker": {
             "colorbar": {
              "outlinewidth": 0,
              "ticks": ""
             }
            },
            "type": "scattergeo"
           }
          ],
          "scattergl": [
           {
            "marker": {
             "colorbar": {
              "outlinewidth": 0,
              "ticks": ""
             }
            },
            "type": "scattergl"
           }
          ],
          "scattermapbox": [
           {
            "marker": {
             "colorbar": {
              "outlinewidth": 0,
              "ticks": ""
             }
            },
            "type": "scattermapbox"
           }
          ],
          "scatterpolar": [
           {
            "marker": {
             "colorbar": {
              "outlinewidth": 0,
              "ticks": ""
             }
            },
            "type": "scatterpolar"
           }
          ],
          "scatterpolargl": [
           {
            "marker": {
             "colorbar": {
              "outlinewidth": 0,
              "ticks": ""
             }
            },
            "type": "scatterpolargl"
           }
          ],
          "scatterternary": [
           {
            "marker": {
             "colorbar": {
              "outlinewidth": 0,
              "ticks": ""
             }
            },
            "type": "scatterternary"
           }
          ],
          "surface": [
           {
            "colorbar": {
             "outlinewidth": 0,
             "ticks": ""
            },
            "colorscale": [
             [
              0,
              "#0d0887"
             ],
             [
              0.1111111111111111,
              "#46039f"
             ],
             [
              0.2222222222222222,
              "#7201a8"
             ],
             [
              0.3333333333333333,
              "#9c179e"
             ],
             [
              0.4444444444444444,
              "#bd3786"
             ],
             [
              0.5555555555555556,
              "#d8576b"
             ],
             [
              0.6666666666666666,
              "#ed7953"
             ],
             [
              0.7777777777777778,
              "#fb9f3a"
             ],
             [
              0.8888888888888888,
              "#fdca26"
             ],
             [
              1,
              "#f0f921"
             ]
            ],
            "type": "surface"
           }
          ],
          "table": [
           {
            "cells": {
             "fill": {
              "color": "#EBF0F8"
             },
             "line": {
              "color": "white"
             }
            },
            "header": {
             "fill": {
              "color": "#C8D4E3"
             },
             "line": {
              "color": "white"
             }
            },
            "type": "table"
           }
          ]
         },
         "layout": {
          "annotationdefaults": {
           "arrowcolor": "#2a3f5f",
           "arrowhead": 0,
           "arrowwidth": 1
          },
          "autotypenumbers": "strict",
          "coloraxis": {
           "colorbar": {
            "outlinewidth": 0,
            "ticks": ""
           }
          },
          "colorscale": {
           "diverging": [
            [
             0,
             "#8e0152"
            ],
            [
             0.1,
             "#c51b7d"
            ],
            [
             0.2,
             "#de77ae"
            ],
            [
             0.3,
             "#f1b6da"
            ],
            [
             0.4,
             "#fde0ef"
            ],
            [
             0.5,
             "#f7f7f7"
            ],
            [
             0.6,
             "#e6f5d0"
            ],
            [
             0.7,
             "#b8e186"
            ],
            [
             0.8,
             "#7fbc41"
            ],
            [
             0.9,
             "#4d9221"
            ],
            [
             1,
             "#276419"
            ]
           ],
           "sequential": [
            [
             0,
             "#0d0887"
            ],
            [
             0.1111111111111111,
             "#46039f"
            ],
            [
             0.2222222222222222,
             "#7201a8"
            ],
            [
             0.3333333333333333,
             "#9c179e"
            ],
            [
             0.4444444444444444,
             "#bd3786"
            ],
            [
             0.5555555555555556,
             "#d8576b"
            ],
            [
             0.6666666666666666,
             "#ed7953"
            ],
            [
             0.7777777777777778,
             "#fb9f3a"
            ],
            [
             0.8888888888888888,
             "#fdca26"
            ],
            [
             1,
             "#f0f921"
            ]
           ],
           "sequentialminus": [
            [
             0,
             "#0d0887"
            ],
            [
             0.1111111111111111,
             "#46039f"
            ],
            [
             0.2222222222222222,
             "#7201a8"
            ],
            [
             0.3333333333333333,
             "#9c179e"
            ],
            [
             0.4444444444444444,
             "#bd3786"
            ],
            [
             0.5555555555555556,
             "#d8576b"
            ],
            [
             0.6666666666666666,
             "#ed7953"
            ],
            [
             0.7777777777777778,
             "#fb9f3a"
            ],
            [
             0.8888888888888888,
             "#fdca26"
            ],
            [
             1,
             "#f0f921"
            ]
           ]
          },
          "colorway": [
           "#636efa",
           "#EF553B",
           "#00cc96",
           "#ab63fa",
           "#FFA15A",
           "#19d3f3",
           "#FF6692",
           "#B6E880",
           "#FF97FF",
           "#FECB52"
          ],
          "font": {
           "color": "#2a3f5f"
          },
          "geo": {
           "bgcolor": "white",
           "lakecolor": "white",
           "landcolor": "#E5ECF6",
           "showlakes": true,
           "showland": true,
           "subunitcolor": "white"
          },
          "hoverlabel": {
           "align": "left"
          },
          "hovermode": "closest",
          "mapbox": {
           "style": "light"
          },
          "paper_bgcolor": "white",
          "plot_bgcolor": "#E5ECF6",
          "polar": {
           "angularaxis": {
            "gridcolor": "white",
            "linecolor": "white",
            "ticks": ""
           },
           "bgcolor": "#E5ECF6",
           "radialaxis": {
            "gridcolor": "white",
            "linecolor": "white",
            "ticks": ""
           }
          },
          "scene": {
           "xaxis": {
            "backgroundcolor": "#E5ECF6",
            "gridcolor": "white",
            "gridwidth": 2,
            "linecolor": "white",
            "showbackground": true,
            "ticks": "",
            "zerolinecolor": "white"
           },
           "yaxis": {
            "backgroundcolor": "#E5ECF6",
            "gridcolor": "white",
            "gridwidth": 2,
            "linecolor": "white",
            "showbackground": true,
            "ticks": "",
            "zerolinecolor": "white"
           },
           "zaxis": {
            "backgroundcolor": "#E5ECF6",
            "gridcolor": "white",
            "gridwidth": 2,
            "linecolor": "white",
            "showbackground": true,
            "ticks": "",
            "zerolinecolor": "white"
           }
          },
          "shapedefaults": {
           "line": {
            "color": "#2a3f5f"
           }
          },
          "ternary": {
           "aaxis": {
            "gridcolor": "white",
            "linecolor": "white",
            "ticks": ""
           },
           "baxis": {
            "gridcolor": "white",
            "linecolor": "white",
            "ticks": ""
           },
           "bgcolor": "#E5ECF6",
           "caxis": {
            "gridcolor": "white",
            "linecolor": "white",
            "ticks": ""
           }
          },
          "title": {
           "x": 0.05
          },
          "xaxis": {
           "automargin": true,
           "gridcolor": "white",
           "linecolor": "white",
           "ticks": "",
           "title": {
            "standoff": 15
           },
           "zerolinecolor": "white",
           "zerolinewidth": 2
          },
          "yaxis": {
           "automargin": true,
           "gridcolor": "white",
           "linecolor": "white",
           "ticks": "",
           "title": {
            "standoff": 15
           },
           "zerolinecolor": "white",
           "zerolinewidth": 2
          }
         }
        },
        "xaxis": {
         "anchor": "y",
         "constrain": "domain",
         "domain": [
          0,
          0.49
         ],
         "scaleanchor": "y"
        },
        "xaxis2": {
         "anchor": "y2",
         "domain": [
          0.51,
          1
         ],
         "matches": "x"
        },
        "yaxis": {
         "anchor": "x",
         "autorange": "reversed",
         "constrain": "domain",
         "domain": [
          0,
          1
         ]
        },
        "yaxis2": {
         "anchor": "x2",
         "domain": [
          0,
          1
         ],
         "matches": "y",
         "showticklabels": false
        }
       }
      }
     },
     "metadata": {},
     "output_type": "display_data"
    }
   ],
   "source": [
    "def valid_correlate(inputs:np.ndarray, kernels:np.ndarray) -> np.ndarray:\n",
    "    return np.einsum(\n",
    "        \"bijcxy, kxyc -> bijk\",\n",
    "        sliding_window_view(inputs, (kernels.shape[1], kernels.shape[1]), (1, 2)),\n",
    "        kernels\n",
    "    )\n",
    "\n",
    "def full_convolve(inputs:np.ndarray, k:np.ndarray) -> np.ndarray:\n",
    "    pad = ((0, 0), (k.shape[1]-1, k.shape[1]-1), (k.shape[2]-1, k.shape[2]-1), (0, 0))\n",
    "    return valid_correlate(np.pad(inputs, pad, \"constant\"), np.flip(k, (1, 2)))\n",
    "\n",
    "convolutions = full_convolve(images, kernels)\n",
    "px.imshow(convolutions[2], facet_col=2)\n"
   ]
  }
 ],
 "metadata": {
  "kernelspec": {
   "display_name": "CNN",
   "language": "python",
   "name": "python3"
  },
  "language_info": {
   "codemirror_mode": {
    "name": "ipython",
    "version": 3
   },
   "file_extension": ".py",
   "mimetype": "text/x-python",
   "name": "python",
   "nbconvert_exporter": "python",
   "pygments_lexer": "ipython3",
   "version": "3.12.3"
  }
 },
 "nbformat": 4,
 "nbformat_minor": 2
}
