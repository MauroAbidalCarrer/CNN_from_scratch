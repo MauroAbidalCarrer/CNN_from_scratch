{
 "cells": [
  {
   "cell_type": "markdown",
   "metadata": {},
   "source": [
    "# Cifar 10 "
   ]
  },
  {
   "cell_type": "markdown",
   "metadata": {},
   "source": [
    "## Setup"
   ]
  },
  {
   "cell_type": "markdown",
   "metadata": {},
   "source": [
    "### Imports"
   ]
  },
  {
   "cell_type": "code",
   "execution_count": 2,
   "metadata": {},
   "outputs": [],
   "source": [
    "from functools import reduce\n",
    "\n",
    "import numpy as np\n",
    "import plotly.io as pio\n",
    "from numpy import ndarray\n",
    "import plotly.express as px\n",
    "from numpy import array_split as split\n",
    "\n",
    "from optimizers import Adam\n",
    "from metrics import accuracy\n",
    "from constants import MAX_NB_SAMPLES\n",
    "from losses import BinaryCrossentropy\n",
    "from cifar_10_dataset_loading import load_cifar_10\n",
    "from layers import Convolutional, Linear, Relu, BatchNorm, Flatten, Softmax, MaxPool, Layer, LeakyRelu"
   ]
  },
  {
   "cell_type": "code",
   "execution_count": 3,
   "metadata": {},
   "outputs": [],
   "source": [
    "pio.renderers.default = \"jupyterlab+png\""
   ]
  },
  {
   "cell_type": "markdown",
   "metadata": {},
   "source": [
    "### Data extraction"
   ]
  },
  {
   "cell_type": "code",
   "execution_count": 4,
   "metadata": {},
   "outputs": [],
   "source": [
    "x_train, y_train, x_test, y_test = load_cifar_10()"
   ]
  },
  {
   "cell_type": "code",
   "execution_count": 5,
   "metadata": {},
   "outputs": [],
   "source": [
    "classes = y_train.argmax(axis=1)"
   ]
  },
  {
   "cell_type": "code",
   "execution_count": 6,
   "metadata": {},
   "outputs": [
    {
     "data": {
      "text/plain": [
       "dtype('float64')"
      ]
     },
     "execution_count": 6,
     "metadata": {},
     "output_type": "execute_result"
    }
   ],
   "source": [
    "# Change range from [0, 255] to [-1, 1]\n",
    "x_train = x_train / 255  \n",
    "x_train.dtype"
   ]
  },
  {
   "cell_type": "code",
   "execution_count": 7,
   "metadata": {},
   "outputs": [
    {
     "ename": "ValueError",
     "evalue": "\nImage export using the \"kaleido\" engine requires the kaleido package,\nwhich can be installed using pip:\n    $ pip install -U kaleido\n",
     "output_type": "error",
     "traceback": [
      "\u001b[31m---------------------------------------------------------------------------\u001b[39m",
      "\u001b[31mValueError\u001b[39m                                Traceback (most recent call last)",
      "\u001b[36mFile \u001b[39m\u001b[32m~/miniconda3/envs/CNN/lib/python3.12/site-packages/IPython/core/formatters.py:984\u001b[39m, in \u001b[36mIPythonDisplayFormatter.__call__\u001b[39m\u001b[34m(self, obj)\u001b[39m\n\u001b[32m    982\u001b[39m method = get_real_method(obj, \u001b[38;5;28mself\u001b[39m.print_method)\n\u001b[32m    983\u001b[39m \u001b[38;5;28;01mif\u001b[39;00m method \u001b[38;5;129;01mis\u001b[39;00m \u001b[38;5;129;01mnot\u001b[39;00m \u001b[38;5;28;01mNone\u001b[39;00m:\n\u001b[32m--> \u001b[39m\u001b[32m984\u001b[39m     method()\n\u001b[32m    985\u001b[39m     \u001b[38;5;28;01mreturn\u001b[39;00m \u001b[38;5;28;01mTrue\u001b[39;00m\n",
      "\u001b[36mFile \u001b[39m\u001b[32m~/miniconda3/envs/CNN/lib/python3.12/site-packages/plotly/basedatatypes.py:832\u001b[39m, in \u001b[36mBaseFigure._ipython_display_\u001b[39m\u001b[34m(self)\u001b[39m\n\u001b[32m    829\u001b[39m \u001b[38;5;28;01mimport\u001b[39;00m\u001b[38;5;250m \u001b[39m\u001b[34;01mplotly\u001b[39;00m\u001b[34;01m.\u001b[39;00m\u001b[34;01mio\u001b[39;00m\u001b[38;5;250m \u001b[39m\u001b[38;5;28;01mas\u001b[39;00m\u001b[38;5;250m \u001b[39m\u001b[34;01mpio\u001b[39;00m\n\u001b[32m    831\u001b[39m \u001b[38;5;28;01mif\u001b[39;00m pio.renderers.render_on_display \u001b[38;5;129;01mand\u001b[39;00m pio.renderers.default:\n\u001b[32m--> \u001b[39m\u001b[32m832\u001b[39m     pio.show(\u001b[38;5;28mself\u001b[39m)\n\u001b[32m    833\u001b[39m \u001b[38;5;28;01melse\u001b[39;00m:\n\u001b[32m    834\u001b[39m     \u001b[38;5;28mprint\u001b[39m(\u001b[38;5;28mrepr\u001b[39m(\u001b[38;5;28mself\u001b[39m))\n",
      "\u001b[36mFile \u001b[39m\u001b[32m~/miniconda3/envs/CNN/lib/python3.12/site-packages/plotly/io/_renderers.py:386\u001b[39m, in \u001b[36mshow\u001b[39m\u001b[34m(fig, renderer, validate, **kwargs)\u001b[39m\n\u001b[32m    383\u001b[39m fig_dict = validate_coerce_fig_to_dict(fig, validate)\n\u001b[32m    385\u001b[39m \u001b[38;5;66;03m# Mimetype renderers\u001b[39;00m\n\u001b[32m--> \u001b[39m\u001b[32m386\u001b[39m bundle = renderers._build_mime_bundle(fig_dict, renderers_string=renderer, **kwargs)\n\u001b[32m    387\u001b[39m \u001b[38;5;28;01mif\u001b[39;00m bundle:\n\u001b[32m    388\u001b[39m     \u001b[38;5;28;01mif\u001b[39;00m \u001b[38;5;129;01mnot\u001b[39;00m ipython_display:\n",
      "\u001b[36mFile \u001b[39m\u001b[32m~/miniconda3/envs/CNN/lib/python3.12/site-packages/plotly/io/_renderers.py:294\u001b[39m, in \u001b[36mRenderersConfig._build_mime_bundle\u001b[39m\u001b[34m(self, fig_dict, renderers_string, **kwargs)\u001b[39m\n\u001b[32m    291\u001b[39m             \u001b[38;5;28;01mif\u001b[39;00m \u001b[38;5;28mhasattr\u001b[39m(renderer, k):\n\u001b[32m    292\u001b[39m                 \u001b[38;5;28msetattr\u001b[39m(renderer, k, v)\n\u001b[32m--> \u001b[39m\u001b[32m294\u001b[39m         bundle.update(renderer.to_mimebundle(fig_dict))\n\u001b[32m    296\u001b[39m \u001b[38;5;28;01mreturn\u001b[39;00m bundle\n",
      "\u001b[36mFile \u001b[39m\u001b[32m~/miniconda3/envs/CNN/lib/python3.12/site-packages/plotly/io/_base_renderers.py:126\u001b[39m, in \u001b[36mImageRenderer.to_mimebundle\u001b[39m\u001b[34m(self, fig_dict)\u001b[39m\n\u001b[32m    125\u001b[39m \u001b[38;5;28;01mdef\u001b[39;00m\u001b[38;5;250m \u001b[39m\u001b[34mto_mimebundle\u001b[39m(\u001b[38;5;28mself\u001b[39m, fig_dict):\n\u001b[32m--> \u001b[39m\u001b[32m126\u001b[39m     image_bytes = to_image(\n\u001b[32m    127\u001b[39m         fig_dict,\n\u001b[32m    128\u001b[39m         \u001b[38;5;28mformat\u001b[39m=\u001b[38;5;28mself\u001b[39m.format,\n\u001b[32m    129\u001b[39m         width=\u001b[38;5;28mself\u001b[39m.width,\n\u001b[32m    130\u001b[39m         height=\u001b[38;5;28mself\u001b[39m.height,\n\u001b[32m    131\u001b[39m         scale=\u001b[38;5;28mself\u001b[39m.scale,\n\u001b[32m    132\u001b[39m         validate=\u001b[38;5;28;01mFalse\u001b[39;00m,\n\u001b[32m    133\u001b[39m         engine=\u001b[38;5;28mself\u001b[39m.engine,\n\u001b[32m    134\u001b[39m     )\n\u001b[32m    136\u001b[39m     \u001b[38;5;28;01mif\u001b[39;00m \u001b[38;5;28mself\u001b[39m.b64_encode:\n\u001b[32m    137\u001b[39m         image_str = base64.b64encode(image_bytes).decode(\u001b[33m\"\u001b[39m\u001b[33mutf8\u001b[39m\u001b[33m\"\u001b[39m)\n",
      "\u001b[36mFile \u001b[39m\u001b[32m~/miniconda3/envs/CNN/lib/python3.12/site-packages/plotly/io/_kaleido.py:132\u001b[39m, in \u001b[36mto_image\u001b[39m\u001b[34m(fig, format, width, height, scale, validate, engine)\u001b[39m\n\u001b[32m    130\u001b[39m     \u001b[38;5;66;03m# Raise informative error message if Kaleido is not installed\u001b[39;00m\n\u001b[32m    131\u001b[39m     \u001b[38;5;28;01mif\u001b[39;00m scope \u001b[38;5;129;01mis\u001b[39;00m \u001b[38;5;28;01mNone\u001b[39;00m:\n\u001b[32m--> \u001b[39m\u001b[32m132\u001b[39m         \u001b[38;5;28;01mraise\u001b[39;00m \u001b[38;5;167;01mValueError\u001b[39;00m(\n\u001b[32m    133\u001b[39m \u001b[38;5;250m            \u001b[39m\u001b[33;03m\"\"\"\u001b[39;00m\n\u001b[32m    134\u001b[39m \u001b[33;03mImage export using the \"kaleido\" engine requires the kaleido package,\u001b[39;00m\n\u001b[32m    135\u001b[39m \u001b[33;03mwhich can be installed using pip:\u001b[39;00m\n\u001b[32m    136\u001b[39m \u001b[33;03m    $ pip install -U kaleido\u001b[39;00m\n\u001b[32m    137\u001b[39m \u001b[33;03m\"\"\"\u001b[39;00m\n\u001b[32m    138\u001b[39m         )\n\u001b[32m    140\u001b[39m     \u001b[38;5;66;03m# Validate figure\u001b[39;00m\n\u001b[32m    141\u001b[39m     \u001b[38;5;66;03m# ---------------\u001b[39;00m\n\u001b[32m    142\u001b[39m     fig_dict = validate_coerce_fig_to_dict(fig, validate)\n",
      "\u001b[31mValueError\u001b[39m: \nImage export using the \"kaleido\" engine requires the kaleido package,\nwhich can be installed using pip:\n    $ pip install -U kaleido\n"
     ]
    },
    {
     "ename": "ValueError",
     "evalue": "\nImage export using the \"kaleido\" engine requires the kaleido package,\nwhich can be installed using pip:\n    $ pip install -U kaleido\n",
     "output_type": "error",
     "traceback": [
      "\u001b[31m---------------------------------------------------------------------------\u001b[39m",
      "\u001b[31mValueError\u001b[39m                                Traceback (most recent call last)",
      "\u001b[36mFile \u001b[39m\u001b[32m~/miniconda3/envs/CNN/lib/python3.12/site-packages/IPython/core/formatters.py:1036\u001b[39m, in \u001b[36mMimeBundleFormatter.__call__\u001b[39m\u001b[34m(self, obj, include, exclude)\u001b[39m\n\u001b[32m   1033\u001b[39m     method = get_real_method(obj, \u001b[38;5;28mself\u001b[39m.print_method)\n\u001b[32m   1035\u001b[39m     \u001b[38;5;28;01mif\u001b[39;00m method \u001b[38;5;129;01mis\u001b[39;00m \u001b[38;5;129;01mnot\u001b[39;00m \u001b[38;5;28;01mNone\u001b[39;00m:\n\u001b[32m-> \u001b[39m\u001b[32m1036\u001b[39m         \u001b[38;5;28;01mreturn\u001b[39;00m method(include=include, exclude=exclude)\n\u001b[32m   1037\u001b[39m     \u001b[38;5;28;01mreturn\u001b[39;00m \u001b[38;5;28;01mNone\u001b[39;00m\n\u001b[32m   1038\u001b[39m \u001b[38;5;28;01melse\u001b[39;00m:\n",
      "\u001b[36mFile \u001b[39m\u001b[32m~/miniconda3/envs/CNN/lib/python3.12/site-packages/plotly/basedatatypes.py:823\u001b[39m, in \u001b[36mBaseFigure._repr_mimebundle_\u001b[39m\u001b[34m(self, include, exclude, validate, **kwargs)\u001b[39m\n\u001b[32m    820\u001b[39m \u001b[38;5;28;01mfrom\u001b[39;00m\u001b[38;5;250m \u001b[39m\u001b[34;01mplotly\u001b[39;00m\u001b[34;01m.\u001b[39;00m\u001b[34;01mio\u001b[39;00m\u001b[34;01m.\u001b[39;00m\u001b[34;01m_utils\u001b[39;00m\u001b[38;5;250m \u001b[39m\u001b[38;5;28;01mimport\u001b[39;00m validate_coerce_fig_to_dict\n\u001b[32m    822\u001b[39m fig_dict = validate_coerce_fig_to_dict(\u001b[38;5;28mself\u001b[39m, validate)\n\u001b[32m--> \u001b[39m\u001b[32m823\u001b[39m \u001b[38;5;28;01mreturn\u001b[39;00m renderers._build_mime_bundle(fig_dict, renderer_str, **kwargs)\n",
      "\u001b[36mFile \u001b[39m\u001b[32m~/miniconda3/envs/CNN/lib/python3.12/site-packages/plotly/io/_renderers.py:294\u001b[39m, in \u001b[36mRenderersConfig._build_mime_bundle\u001b[39m\u001b[34m(self, fig_dict, renderers_string, **kwargs)\u001b[39m\n\u001b[32m    291\u001b[39m             \u001b[38;5;28;01mif\u001b[39;00m \u001b[38;5;28mhasattr\u001b[39m(renderer, k):\n\u001b[32m    292\u001b[39m                 \u001b[38;5;28msetattr\u001b[39m(renderer, k, v)\n\u001b[32m--> \u001b[39m\u001b[32m294\u001b[39m         bundle.update(renderer.to_mimebundle(fig_dict))\n\u001b[32m    296\u001b[39m \u001b[38;5;28;01mreturn\u001b[39;00m bundle\n",
      "\u001b[36mFile \u001b[39m\u001b[32m~/miniconda3/envs/CNN/lib/python3.12/site-packages/plotly/io/_base_renderers.py:126\u001b[39m, in \u001b[36mImageRenderer.to_mimebundle\u001b[39m\u001b[34m(self, fig_dict)\u001b[39m\n\u001b[32m    125\u001b[39m \u001b[38;5;28;01mdef\u001b[39;00m\u001b[38;5;250m \u001b[39m\u001b[34mto_mimebundle\u001b[39m(\u001b[38;5;28mself\u001b[39m, fig_dict):\n\u001b[32m--> \u001b[39m\u001b[32m126\u001b[39m     image_bytes = to_image(\n\u001b[32m    127\u001b[39m         fig_dict,\n\u001b[32m    128\u001b[39m         \u001b[38;5;28mformat\u001b[39m=\u001b[38;5;28mself\u001b[39m.format,\n\u001b[32m    129\u001b[39m         width=\u001b[38;5;28mself\u001b[39m.width,\n\u001b[32m    130\u001b[39m         height=\u001b[38;5;28mself\u001b[39m.height,\n\u001b[32m    131\u001b[39m         scale=\u001b[38;5;28mself\u001b[39m.scale,\n\u001b[32m    132\u001b[39m         validate=\u001b[38;5;28;01mFalse\u001b[39;00m,\n\u001b[32m    133\u001b[39m         engine=\u001b[38;5;28mself\u001b[39m.engine,\n\u001b[32m    134\u001b[39m     )\n\u001b[32m    136\u001b[39m     \u001b[38;5;28;01mif\u001b[39;00m \u001b[38;5;28mself\u001b[39m.b64_encode:\n\u001b[32m    137\u001b[39m         image_str = base64.b64encode(image_bytes).decode(\u001b[33m\"\u001b[39m\u001b[33mutf8\u001b[39m\u001b[33m\"\u001b[39m)\n",
      "\u001b[36mFile \u001b[39m\u001b[32m~/miniconda3/envs/CNN/lib/python3.12/site-packages/plotly/io/_kaleido.py:132\u001b[39m, in \u001b[36mto_image\u001b[39m\u001b[34m(fig, format, width, height, scale, validate, engine)\u001b[39m\n\u001b[32m    130\u001b[39m     \u001b[38;5;66;03m# Raise informative error message if Kaleido is not installed\u001b[39;00m\n\u001b[32m    131\u001b[39m     \u001b[38;5;28;01mif\u001b[39;00m scope \u001b[38;5;129;01mis\u001b[39;00m \u001b[38;5;28;01mNone\u001b[39;00m:\n\u001b[32m--> \u001b[39m\u001b[32m132\u001b[39m         \u001b[38;5;28;01mraise\u001b[39;00m \u001b[38;5;167;01mValueError\u001b[39;00m(\n\u001b[32m    133\u001b[39m \u001b[38;5;250m            \u001b[39m\u001b[33;03m\"\"\"\u001b[39;00m\n\u001b[32m    134\u001b[39m \u001b[33;03mImage export using the \"kaleido\" engine requires the kaleido package,\u001b[39;00m\n\u001b[32m    135\u001b[39m \u001b[33;03mwhich can be installed using pip:\u001b[39;00m\n\u001b[32m    136\u001b[39m \u001b[33;03m    $ pip install -U kaleido\u001b[39;00m\n\u001b[32m    137\u001b[39m \u001b[33;03m\"\"\"\u001b[39;00m\n\u001b[32m    138\u001b[39m         )\n\u001b[32m    140\u001b[39m     \u001b[38;5;66;03m# Validate figure\u001b[39;00m\n\u001b[32m    141\u001b[39m     \u001b[38;5;66;03m# ---------------\u001b[39;00m\n\u001b[32m    142\u001b[39m     fig_dict = validate_coerce_fig_to_dict(fig, validate)\n",
      "\u001b[31mValueError\u001b[39m: \nImage export using the \"kaleido\" engine requires the kaleido package,\nwhich can be installed using pip:\n    $ pip install -U kaleido\n"
     ]
    },
    {
     "ename": "ValueError",
     "evalue": "\nImage export using the \"kaleido\" engine requires the kaleido package,\nwhich can be installed using pip:\n    $ pip install -U kaleido\n",
     "output_type": "error",
     "traceback": [
      "\u001b[31m---------------------------------------------------------------------------\u001b[39m",
      "\u001b[31mValueError\u001b[39m                                Traceback (most recent call last)",
      "\u001b[36mFile \u001b[39m\u001b[32m~/miniconda3/envs/CNN/lib/python3.12/site-packages/IPython/core/formatters.py:406\u001b[39m, in \u001b[36mBaseFormatter.__call__\u001b[39m\u001b[34m(self, obj)\u001b[39m\n\u001b[32m    404\u001b[39m     method = get_real_method(obj, \u001b[38;5;28mself\u001b[39m.print_method)\n\u001b[32m    405\u001b[39m     \u001b[38;5;28;01mif\u001b[39;00m method \u001b[38;5;129;01mis\u001b[39;00m \u001b[38;5;129;01mnot\u001b[39;00m \u001b[38;5;28;01mNone\u001b[39;00m:\n\u001b[32m--> \u001b[39m\u001b[32m406\u001b[39m         \u001b[38;5;28;01mreturn\u001b[39;00m method()\n\u001b[32m    407\u001b[39m     \u001b[38;5;28;01mreturn\u001b[39;00m \u001b[38;5;28;01mNone\u001b[39;00m\n\u001b[32m    408\u001b[39m \u001b[38;5;28;01melse\u001b[39;00m:\n",
      "\u001b[36mFile \u001b[39m\u001b[32m~/miniconda3/envs/CNN/lib/python3.12/site-packages/plotly/basedatatypes.py:806\u001b[39m, in \u001b[36mBaseFigure._repr_html_\u001b[39m\u001b[34m(self)\u001b[39m\n\u001b[32m    802\u001b[39m \u001b[38;5;28;01mdef\u001b[39;00m\u001b[38;5;250m \u001b[39m\u001b[34m_repr_html_\u001b[39m(\u001b[38;5;28mself\u001b[39m):\n\u001b[32m    803\u001b[39m \u001b[38;5;250m    \u001b[39m\u001b[33;03m\"\"\"\u001b[39;00m\n\u001b[32m    804\u001b[39m \u001b[33;03m    Customize html representation\u001b[39;00m\n\u001b[32m    805\u001b[39m \u001b[33;03m    \"\"\"\u001b[39;00m\n\u001b[32m--> \u001b[39m\u001b[32m806\u001b[39m     bundle = \u001b[38;5;28mself\u001b[39m._repr_mimebundle_()\n\u001b[32m    807\u001b[39m     \u001b[38;5;28;01mif\u001b[39;00m \u001b[33m\"\u001b[39m\u001b[33mtext/html\u001b[39m\u001b[33m\"\u001b[39m \u001b[38;5;129;01min\u001b[39;00m bundle:\n\u001b[32m    808\u001b[39m         \u001b[38;5;28;01mreturn\u001b[39;00m bundle[\u001b[33m\"\u001b[39m\u001b[33mtext/html\u001b[39m\u001b[33m\"\u001b[39m]\n",
      "\u001b[36mFile \u001b[39m\u001b[32m~/miniconda3/envs/CNN/lib/python3.12/site-packages/plotly/basedatatypes.py:823\u001b[39m, in \u001b[36mBaseFigure._repr_mimebundle_\u001b[39m\u001b[34m(self, include, exclude, validate, **kwargs)\u001b[39m\n\u001b[32m    820\u001b[39m \u001b[38;5;28;01mfrom\u001b[39;00m\u001b[38;5;250m \u001b[39m\u001b[34;01mplotly\u001b[39;00m\u001b[34;01m.\u001b[39;00m\u001b[34;01mio\u001b[39;00m\u001b[34;01m.\u001b[39;00m\u001b[34;01m_utils\u001b[39;00m\u001b[38;5;250m \u001b[39m\u001b[38;5;28;01mimport\u001b[39;00m validate_coerce_fig_to_dict\n\u001b[32m    822\u001b[39m fig_dict = validate_coerce_fig_to_dict(\u001b[38;5;28mself\u001b[39m, validate)\n\u001b[32m--> \u001b[39m\u001b[32m823\u001b[39m \u001b[38;5;28;01mreturn\u001b[39;00m renderers._build_mime_bundle(fig_dict, renderer_str, **kwargs)\n",
      "\u001b[36mFile \u001b[39m\u001b[32m~/miniconda3/envs/CNN/lib/python3.12/site-packages/plotly/io/_renderers.py:294\u001b[39m, in \u001b[36mRenderersConfig._build_mime_bundle\u001b[39m\u001b[34m(self, fig_dict, renderers_string, **kwargs)\u001b[39m\n\u001b[32m    291\u001b[39m             \u001b[38;5;28;01mif\u001b[39;00m \u001b[38;5;28mhasattr\u001b[39m(renderer, k):\n\u001b[32m    292\u001b[39m                 \u001b[38;5;28msetattr\u001b[39m(renderer, k, v)\n\u001b[32m--> \u001b[39m\u001b[32m294\u001b[39m         bundle.update(renderer.to_mimebundle(fig_dict))\n\u001b[32m    296\u001b[39m \u001b[38;5;28;01mreturn\u001b[39;00m bundle\n",
      "\u001b[36mFile \u001b[39m\u001b[32m~/miniconda3/envs/CNN/lib/python3.12/site-packages/plotly/io/_base_renderers.py:126\u001b[39m, in \u001b[36mImageRenderer.to_mimebundle\u001b[39m\u001b[34m(self, fig_dict)\u001b[39m\n\u001b[32m    125\u001b[39m \u001b[38;5;28;01mdef\u001b[39;00m\u001b[38;5;250m \u001b[39m\u001b[34mto_mimebundle\u001b[39m(\u001b[38;5;28mself\u001b[39m, fig_dict):\n\u001b[32m--> \u001b[39m\u001b[32m126\u001b[39m     image_bytes = to_image(\n\u001b[32m    127\u001b[39m         fig_dict,\n\u001b[32m    128\u001b[39m         \u001b[38;5;28mformat\u001b[39m=\u001b[38;5;28mself\u001b[39m.format,\n\u001b[32m    129\u001b[39m         width=\u001b[38;5;28mself\u001b[39m.width,\n\u001b[32m    130\u001b[39m         height=\u001b[38;5;28mself\u001b[39m.height,\n\u001b[32m    131\u001b[39m         scale=\u001b[38;5;28mself\u001b[39m.scale,\n\u001b[32m    132\u001b[39m         validate=\u001b[38;5;28;01mFalse\u001b[39;00m,\n\u001b[32m    133\u001b[39m         engine=\u001b[38;5;28mself\u001b[39m.engine,\n\u001b[32m    134\u001b[39m     )\n\u001b[32m    136\u001b[39m     \u001b[38;5;28;01mif\u001b[39;00m \u001b[38;5;28mself\u001b[39m.b64_encode:\n\u001b[32m    137\u001b[39m         image_str = base64.b64encode(image_bytes).decode(\u001b[33m\"\u001b[39m\u001b[33mutf8\u001b[39m\u001b[33m\"\u001b[39m)\n",
      "\u001b[36mFile \u001b[39m\u001b[32m~/miniconda3/envs/CNN/lib/python3.12/site-packages/plotly/io/_kaleido.py:132\u001b[39m, in \u001b[36mto_image\u001b[39m\u001b[34m(fig, format, width, height, scale, validate, engine)\u001b[39m\n\u001b[32m    130\u001b[39m     \u001b[38;5;66;03m# Raise informative error message if Kaleido is not installed\u001b[39;00m\n\u001b[32m    131\u001b[39m     \u001b[38;5;28;01mif\u001b[39;00m scope \u001b[38;5;129;01mis\u001b[39;00m \u001b[38;5;28;01mNone\u001b[39;00m:\n\u001b[32m--> \u001b[39m\u001b[32m132\u001b[39m         \u001b[38;5;28;01mraise\u001b[39;00m \u001b[38;5;167;01mValueError\u001b[39;00m(\n\u001b[32m    133\u001b[39m \u001b[38;5;250m            \u001b[39m\u001b[33;03m\"\"\"\u001b[39;00m\n\u001b[32m    134\u001b[39m \u001b[33;03mImage export using the \"kaleido\" engine requires the kaleido package,\u001b[39;00m\n\u001b[32m    135\u001b[39m \u001b[33;03mwhich can be installed using pip:\u001b[39;00m\n\u001b[32m    136\u001b[39m \u001b[33;03m    $ pip install -U kaleido\u001b[39;00m\n\u001b[32m    137\u001b[39m \u001b[33;03m\"\"\"\u001b[39;00m\n\u001b[32m    138\u001b[39m         )\n\u001b[32m    140\u001b[39m     \u001b[38;5;66;03m# Validate figure\u001b[39;00m\n\u001b[32m    141\u001b[39m     \u001b[38;5;66;03m# ---------------\u001b[39;00m\n\u001b[32m    142\u001b[39m     fig_dict = validate_coerce_fig_to_dict(fig, validate)\n",
      "\u001b[31mValueError\u001b[39m: \nImage export using the \"kaleido\" engine requires the kaleido package,\nwhich can be installed using pip:\n    $ pip install -U kaleido\n"
     ]
    },
    {
     "data": {
      "text/plain": [
       "Figure({\n",
       "    'data': [{'hovertemplate': 'x: %{x}<br>y: %{y}<extra></extra>',\n",
       "              'name': '0',\n",
       "              'source': ('data:image/png;base64,iVBORw0K' ... 'MWt9uTwQaBnAAAAABJRU5ErkJggg=='),\n",
       "              'type': 'image',\n",
       "              'xaxis': 'x9',\n",
       "              'yaxis': 'y9'},\n",
       "             {'hovertemplate': 'x: %{x}<br>y: %{y}<extra></extra>',\n",
       "              'name': '1',\n",
       "              'source': ('data:image/png;base64,iVBORw0K' ... 'L/D3rJ7tGeNu6YAAAAAElFTkSuQmCC'),\n",
       "              'type': 'image',\n",
       "              'xaxis': 'x10',\n",
       "              'yaxis': 'y10'},\n",
       "             {'hovertemplate': 'x: %{x}<br>y: %{y}<extra></extra>',\n",
       "              'name': '2',\n",
       "              'source': ('data:image/png;base64,iVBORw0K' ... '8DurQ+JXmoPD0AAAAASUVORK5CYII='),\n",
       "              'type': 'image',\n",
       "              'xaxis': 'x11',\n",
       "              'yaxis': 'y11'},\n",
       "             {'hovertemplate': 'x: %{x}<br>y: %{y}<extra></extra>',\n",
       "              'name': '3',\n",
       "              'source': ('data:image/png;base64,iVBORw0K' ... '8CelHOkblk4wAAAABJRU5ErkJggg=='),\n",
       "              'type': 'image',\n",
       "              'xaxis': 'x12',\n",
       "              'yaxis': 'y12'},\n",
       "             {'hovertemplate': 'x: %{x}<br>y: %{y}<extra></extra>',\n",
       "              'name': '4',\n",
       "              'source': ('data:image/png;base64,iVBORw0K' ... 'j4H8QiUWJuI3c6AAAAAElFTkSuQmCC'),\n",
       "              'type': 'image',\n",
       "              'xaxis': 'x5',\n",
       "              'yaxis': 'y5'},\n",
       "             {'hovertemplate': 'x: %{x}<br>y: %{y}<extra></extra>',\n",
       "              'name': '5',\n",
       "              'source': ('data:image/png;base64,iVBORw0K' ... '4/lT4K+Dh5d3gAAAAASUVORK5CYII='),\n",
       "              'type': 'image',\n",
       "              'xaxis': 'x6',\n",
       "              'yaxis': 'y6'},\n",
       "             {'hovertemplate': 'x: %{x}<br>y: %{y}<extra></extra>',\n",
       "              'name': '6',\n",
       "              'source': ('data:image/png;base64,iVBORw0K' ... 'L+HyKRj90gr+ReAAAAAElFTkSuQmCC'),\n",
       "              'type': 'image',\n",
       "              'xaxis': 'x7',\n",
       "              'yaxis': 'y7'},\n",
       "             {'hovertemplate': 'x: %{x}<br>y: %{y}<extra></extra>',\n",
       "              'name': '7',\n",
       "              'source': ('data:image/png;base64,iVBORw0K' ... 'GP9tdWet6JsQAAAABJRU5ErkJggg=='),\n",
       "              'type': 'image',\n",
       "              'xaxis': 'x8',\n",
       "              'yaxis': 'y8'},\n",
       "             {'hovertemplate': 'x: %{x}<br>y: %{y}<extra></extra>',\n",
       "              'name': '8',\n",
       "              'source': ('data:image/png;base64,iVBORw0K' ... 'P+DfEawo6Sg4r6AAAAAElFTkSuQmCC'),\n",
       "              'type': 'image',\n",
       "              'xaxis': 'x',\n",
       "              'yaxis': 'y'}],\n",
       "    'layout': {'annotations': [{'font': {},\n",
       "                                'showarrow': False,\n",
       "                                'text': 'facet_col=8',\n",
       "                                'x': 0.1175,\n",
       "                                'xanchor': 'center',\n",
       "                                'xref': 'paper',\n",
       "                                'y': 0.2866666666666666,\n",
       "                                'yanchor': 'bottom',\n",
       "                                'yref': 'paper'},\n",
       "                               {'font': {},\n",
       "                                'showarrow': False,\n",
       "                                'text': 'facet_col=4',\n",
       "                                'x': 0.1175,\n",
       "                                'xanchor': 'center',\n",
       "                                'xref': 'paper',\n",
       "                                'y': 0.6433333333333333,\n",
       "                                'yanchor': 'bottom',\n",
       "                                'yref': 'paper'},\n",
       "                               {'font': {},\n",
       "                                'showarrow': False,\n",
       "                                'text': 'facet_col=5',\n",
       "                                'x': 0.3725,\n",
       "                                'xanchor': 'center',\n",
       "                                'xref': 'paper',\n",
       "                                'y': 0.6433333333333333,\n",
       "                                'yanchor': 'bottom',\n",
       "                                'yref': 'paper'},\n",
       "                               {'font': {},\n",
       "                                'showarrow': False,\n",
       "                                'text': 'facet_col=6',\n",
       "                                'x': 0.6275,\n",
       "                                'xanchor': 'center',\n",
       "                                'xref': 'paper',\n",
       "                                'y': 0.6433333333333333,\n",
       "                                'yanchor': 'bottom',\n",
       "                                'yref': 'paper'},\n",
       "                               {'font': {},\n",
       "                                'showarrow': False,\n",
       "                                'text': 'facet_col=7',\n",
       "                                'x': 0.8824999999999998,\n",
       "                                'xanchor': 'center',\n",
       "                                'xref': 'paper',\n",
       "                                'y': 0.6433333333333333,\n",
       "                                'yanchor': 'bottom',\n",
       "                                'yref': 'paper'},\n",
       "                               {'font': {},\n",
       "                                'showarrow': False,\n",
       "                                'text': 'facet_col=0',\n",
       "                                'x': 0.1175,\n",
       "                                'xanchor': 'center',\n",
       "                                'xref': 'paper',\n",
       "                                'y': 0.9999999999999999,\n",
       "                                'yanchor': 'bottom',\n",
       "                                'yref': 'paper'},\n",
       "                               {'font': {},\n",
       "                                'showarrow': False,\n",
       "                                'text': 'facet_col=1',\n",
       "                                'x': 0.3725,\n",
       "                                'xanchor': 'center',\n",
       "                                'xref': 'paper',\n",
       "                                'y': 0.9999999999999999,\n",
       "                                'yanchor': 'bottom',\n",
       "                                'yref': 'paper'},\n",
       "                               {'font': {},\n",
       "                                'showarrow': False,\n",
       "                                'text': 'facet_col=2',\n",
       "                                'x': 0.6275,\n",
       "                                'xanchor': 'center',\n",
       "                                'xref': 'paper',\n",
       "                                'y': 0.9999999999999999,\n",
       "                                'yanchor': 'bottom',\n",
       "                                'yref': 'paper'},\n",
       "                               {'font': {},\n",
       "                                'showarrow': False,\n",
       "                                'text': 'facet_col=3',\n",
       "                                'x': 0.8824999999999998,\n",
       "                                'xanchor': 'center',\n",
       "                                'xref': 'paper',\n",
       "                                'y': 0.9999999999999999,\n",
       "                                'yanchor': 'bottom',\n",
       "                                'yref': 'paper'}],\n",
       "               'template': '...',\n",
       "               'title': {'text': 'cifar10 subset inspection'},\n",
       "               'xaxis': {'anchor': 'y', 'domain': [0.0, 0.235]},\n",
       "               'xaxis10': {'anchor': 'y10', 'domain': [0.255, 0.49], 'matches': 'x', 'showticklabels': False},\n",
       "               'xaxis11': {'anchor': 'y11', 'domain': [0.51, 0.745], 'matches': 'x', 'showticklabels': False},\n",
       "               'xaxis12': {'anchor': 'y12',\n",
       "                           'domain': [0.7649999999999999, 0.9999999999999999],\n",
       "                           'matches': 'x',\n",
       "                           'showticklabels': False},\n",
       "               'xaxis2': {'anchor': 'y2', 'domain': [0.255, 0.49], 'matches': 'x'},\n",
       "               'xaxis3': {'anchor': 'y3', 'domain': [0.51, 0.745], 'matches': 'x'},\n",
       "               'xaxis4': {'anchor': 'y4', 'domain': [0.7649999999999999, 0.9999999999999999], 'matches': 'x'},\n",
       "               'xaxis5': {'anchor': 'y5', 'domain': [0.0, 0.235], 'matches': 'x', 'showticklabels': False},\n",
       "               'xaxis6': {'anchor': 'y6', 'domain': [0.255, 0.49], 'matches': 'x', 'showticklabels': False},\n",
       "               'xaxis7': {'anchor': 'y7', 'domain': [0.51, 0.745], 'matches': 'x', 'showticklabels': False},\n",
       "               'xaxis8': {'anchor': 'y8',\n",
       "                          'domain': [0.7649999999999999, 0.9999999999999999],\n",
       "                          'matches': 'x',\n",
       "                          'showticklabels': False},\n",
       "               'xaxis9': {'anchor': 'y9', 'domain': [0.0, 0.235], 'matches': 'x', 'showticklabels': False},\n",
       "               'yaxis': {'anchor': 'x', 'domain': [0.0, 0.2866666666666666]},\n",
       "               'yaxis10': {'anchor': 'x10',\n",
       "                           'domain': [0.7133333333333333, 0.9999999999999999],\n",
       "                           'matches': 'y',\n",
       "                           'showticklabels': False},\n",
       "               'yaxis11': {'anchor': 'x11',\n",
       "                           'domain': [0.7133333333333333, 0.9999999999999999],\n",
       "                           'matches': 'y',\n",
       "                           'showticklabels': False},\n",
       "               'yaxis12': {'anchor': 'x12',\n",
       "                           'domain': [0.7133333333333333, 0.9999999999999999],\n",
       "                           'matches': 'y',\n",
       "                           'showticklabels': False},\n",
       "               'yaxis2': {'anchor': 'x2', 'domain': [0.0, 0.2866666666666666], 'matches': 'y', 'showticklabels': False},\n",
       "               'yaxis3': {'anchor': 'x3', 'domain': [0.0, 0.2866666666666666], 'matches': 'y', 'showticklabels': False},\n",
       "               'yaxis4': {'anchor': 'x4', 'domain': [0.0, 0.2866666666666666], 'matches': 'y', 'showticklabels': False},\n",
       "               'yaxis5': {'anchor': 'x5', 'domain': [0.35666666666666663, 0.6433333333333333], 'matches': 'y'},\n",
       "               'yaxis6': {'anchor': 'x6',\n",
       "                          'domain': [0.35666666666666663, 0.6433333333333333],\n",
       "                          'matches': 'y',\n",
       "                          'showticklabels': False},\n",
       "               'yaxis7': {'anchor': 'x7',\n",
       "                          'domain': [0.35666666666666663, 0.6433333333333333],\n",
       "                          'matches': 'y',\n",
       "                          'showticklabels': False},\n",
       "               'yaxis8': {'anchor': 'x8',\n",
       "                          'domain': [0.35666666666666663, 0.6433333333333333],\n",
       "                          'matches': 'y',\n",
       "                          'showticklabels': False},\n",
       "               'yaxis9': {'anchor': 'x9', 'domain': [0.7133333333333333, 0.9999999999999999], 'matches': 'y'}}\n",
       "})"
      ]
     },
     "execution_count": 7,
     "metadata": {},
     "output_type": "execute_result"
    }
   ],
   "source": [
    "IMGS_IDX = [0, 1, 5673, 5494, 2, 55, 66, 776, 564]\n",
    "x = x_train[IMGS_IDX]\n",
    "y = y_train[IMGS_IDX]\n",
    "px.imshow(x, facet_col=0, facet_col_wrap=4, title=\"cifar10 subset inspection\")"
   ]
  },
  {
   "cell_type": "code",
   "execution_count": 8,
   "metadata": {},
   "outputs": [
    {
     "data": {
      "text/plain": [
       "(10000, 32, 32, 3)"
      ]
     },
     "execution_count": 8,
     "metadata": {},
     "output_type": "execute_result"
    }
   ],
   "source": [
    "NB_SAMPLES_PER_CLASS = 1000\n",
    "NB_CLASSES = 10\n",
    "\n",
    "class_masks = y_train.argmax(1, keepdims=True) == np.arange(NB_CLASSES)\n",
    "take_first_n_of_class = lambda data, class_idx: data[class_masks[:, class_idx]][:NB_SAMPLES_PER_CLASS]\n",
    "take_first_n_of_each_class = lambda data: np.concatenate([take_first_n_of_class(data, class_idx) for class_idx in range(NB_CLASSES)], axis=0)\n",
    "x_train_subset = take_first_n_of_each_class(x_train)\n",
    "y_train_subset = take_first_n_of_each_class(y_train)\n",
    "x_train_subset.shape"
   ]
  },
  {
   "cell_type": "markdown",
   "metadata": {},
   "source": [
    "## Fitting cifar10"
   ]
  },
  {
   "cell_type": "markdown",
   "metadata": {},
   "source": [
    "### Model declaration"
   ]
  },
  {
   "cell_type": "code",
   "execution_count": 9,
   "metadata": {},
   "outputs": [],
   "source": [
    "def create_nn() -> list[Layer]:\n",
    "    return [\n",
    "        Convolutional((10, 7, 7, 3)),\n",
    "        BatchNorm(),\n",
    "        Relu(),\n",
    "        MaxPool((2, 2)),\n",
    "        Flatten(),\n",
    "        Linear(1690, 300),\n",
    "        LeakyRelu(),\n",
    "        Linear(300, y.shape[1]),\n",
    "        Softmax(),\n",
    "    ]"
   ]
  },
  {
   "cell_type": "markdown",
   "metadata": {},
   "source": [
    "### Optimizer"
   ]
  },
  {
   "cell_type": "code",
   "execution_count": 10,
   "metadata": {},
   "outputs": [],
   "source": [
    "def create_optimizer(nn:list[Layer]) -> Adam:\n",
    "    return Adam(\n",
    "        nn,\n",
    "        x_train,\n",
    "        y_train,\n",
    "        BinaryCrossentropy(),\n",
    "        starting_lr=0.015,\n",
    "        lr_decay=0.0001,\n",
    "        momentum_weight=0.8,\n",
    "        ada_grad_weight=0.999,\n",
    "        l2_weight=0.0,\n",
    "    )"
   ]
  },
  {
   "cell_type": "code",
   "execution_count": 11,
   "metadata": {},
   "outputs": [],
   "source": [
    "NB_TEST_BATCHES = int(np.ceil(len(x_test) / MAX_NB_SAMPLES))\n",
    "loss = BinaryCrossentropy()\n",
    "\n",
    "def test_accuracy(metric_line:dict, nn:list[Layer], **_) -> dict:\n",
    "    y_test_pred = []\n",
    "    for x_test_subset in split(x_test, NB_TEST_BATCHES):\n",
    "        y_test_pred.append(reduce(lambda x, l: l.forward(x), nn, x_test_subset))\n",
    "    y_test_pred = np.concatenate(y_test_pred)\n",
    "    metric_line[\"test_accuracy\"] =  np.mean(y_test_pred.argmax(1) == y_test.argmax(1))\n",
    "    metric_line[\"test_loss\"] = loss.forward(y_test_pred, y_test)\n",
    "    return metric_line\n"
   ]
  },
  {
   "cell_type": "markdown",
   "metadata": {},
   "source": [
    "### Training"
   ]
  },
  {
   "cell_type": "code",
   "execution_count": 12,
   "metadata": {},
   "outputs": [],
   "source": [
    "nn = create_nn()\n",
    "first_optimizer = create_optimizer(nn)"
   ]
  },
  {
   "cell_type": "code",
   "execution_count": 13,
   "metadata": {},
   "outputs": [
    {
     "data": {
      "application/vnd.jupyter.widget-view+json": {
       "model_id": "3821431ea2c14635bcd5e9945ac8dc39",
       "version_major": 2,
       "version_minor": 0
      },
      "text/plain": [
       "FigureWidget({\n",
       "    'data': [{'hovertemplate': 'variable=loss<br>epoch=%{x}<br>value=%{y}<extra></extra>',\n",
       "              'legendgroup': 'loss',\n",
       "              'line': {'color': '#636efa', 'dash': 'solid'},\n",
       "              'marker': {'symbol': 'circle'},\n",
       "              'mode': 'lines+markers',\n",
       "              'name': 'loss',\n",
       "              'orientation': 'v',\n",
       "              'showlegend': True,\n",
       "              'type': 'scatter',\n",
       "              'uid': 'd9a2f2bc-e406-42af-9bd4-d8932d1e5c78',\n",
       "              'x': array([0]),\n",
       "              'xaxis': 'x5',\n",
       "              'y': array([0.32508263]),\n",
       "              'yaxis': 'y5'},\n",
       "             {'hovertemplate': 'variable=accuracy<br>epoch=%{x}<br>value=%{y}<extra></extra>',\n",
       "              'legendgroup': 'accuracy',\n",
       "              'line': {'color': '#EF553B', 'dash': 'solid'},\n",
       "              'marker': {'symbol': 'circle'},\n",
       "              'mode': 'lines+markers',\n",
       "              'name': 'accuracy',\n",
       "              'orientation': 'v',\n",
       "              'showlegend': True,\n",
       "              'type': 'scatter',\n",
       "              'uid': '589ec388-88f8-49b8-865f-fb3d1d8b7d43',\n",
       "              'x': array([0]),\n",
       "              'xaxis': 'x4',\n",
       "              'y': array([0.10224]),\n",
       "              'yaxis': 'y4'},\n",
       "             {'hovertemplate': 'variable=test_accuracy<br>epoch=%{x}<br>value=%{y}<extra></extra>',\n",
       "              'legendgroup': 'test_accuracy',\n",
       "              'line': {'color': '#00cc96', 'dash': 'solid'},\n",
       "              'marker': {'symbol': 'circle'},\n",
       "              'mode': 'lines+markers',\n",
       "              'name': 'test_accuracy',\n",
       "              'orientation': 'v',\n",
       "              'showlegend': True,\n",
       "              'type': 'scatter',\n",
       "              'uid': '4d98c6a2-6863-4785-8279-7ae02a541c5b',\n",
       "              'x': array([0]),\n",
       "              'xaxis': 'x3',\n",
       "              'y': array([0.1016]),\n",
       "              'yaxis': 'y3'},\n",
       "             {'hovertemplate': 'variable=test_loss<br>epoch=%{x}<br>value=%{y}<extra></extra>',\n",
       "              'legendgroup': 'test_loss',\n",
       "              'line': {'color': '#ab63fa', 'dash': 'solid'},\n",
       "              'marker': {'symbol': 'circle'},\n",
       "              'mode': 'lines+markers',\n",
       "              'name': 'test_loss',\n",
       "              'orientation': 'v',\n",
       "              'showlegend': True,\n",
       "              'type': 'scatter',\n",
       "              'uid': 'ac9f7217-fa8d-4696-9498-ace336dd72d1',\n",
       "              'x': array([0]),\n",
       "              'xaxis': 'x2',\n",
       "              'y': array([0.32508265]),\n",
       "              'yaxis': 'y2'},\n",
       "             {'hovertemplate': 'variable=learning_rate<br>epoch=%{x}<br>value=%{y}<extra></extra>',\n",
       "              'legendgroup': 'learning_rate',\n",
       "              'line': {'color': '#FFA15A', 'dash': 'solid'},\n",
       "              'marker': {'symbol': 'circle'},\n",
       "              'mode': 'lines+markers',\n",
       "              'name': 'learning_rate',\n",
       "              'orientation': 'v',\n",
       "              'showlegend': True,\n",
       "              'type': 'scatter',\n",
       "              'uid': '0a84c64d-86d7-408d-9ee5-8b83faaa97e1',\n",
       "              'x': array([0]),\n",
       "              'xaxis': 'x',\n",
       "              'y': array([0.015]),\n",
       "              'yaxis': 'y'}],\n",
       "    'layout': {'annotations': [{'showarrow': False,\n",
       "                                'text': 'variable=learning_rate',\n",
       "                                'textangle': 90,\n",
       "                                'x': 0.98,\n",
       "                                'xanchor': 'left',\n",
       "                                'xref': 'paper',\n",
       "                                'y': 0.08800000000000001,\n",
       "                                'yanchor': 'middle',\n",
       "                                'yref': 'paper'},\n",
       "                               {'showarrow': False,\n",
       "                                'text': 'variable=test_loss',\n",
       "                                'textangle': 90,\n",
       "                                'x': 0.98,\n",
       "                                'xanchor': 'left',\n",
       "                                'xref': 'paper',\n",
       "                                'y': 0.29400000000000004,\n",
       "                                'yanchor': 'middle',\n",
       "                                'yref': 'paper'},\n",
       "                               {'showarrow': False,\n",
       "                                'text': 'variable=test_accuracy',\n",
       "                                'textangle': 90,\n",
       "                                'x': 0.98,\n",
       "                                'xanchor': 'left',\n",
       "                                'xref': 'paper',\n",
       "                                'y': 0.5,\n",
       "                                'yanchor': 'middle',\n",
       "                                'yref': 'paper'},\n",
       "                               {'showarrow': False,\n",
       "                                'text': 'variable=accuracy',\n",
       "                                'textangle': 90,\n",
       "                                'x': 0.98,\n",
       "                                'xanchor': 'left',\n",
       "                                'xref': 'paper',\n",
       "                                'y': 0.706,\n",
       "                                'yanchor': 'middle',\n",
       "                                'yref': 'paper'},\n",
       "                               {'showarrow': False,\n",
       "                                'text': 'variable=loss',\n",
       "                                'textangle': 90,\n",
       "                                'x': 0.98,\n",
       "                                'xanchor': 'left',\n",
       "                                'xref': 'paper',\n",
       "                                'y': 0.912,\n",
       "                                'yanchor': 'middle',\n",
       "                                'yref': 'paper'}],\n",
       "               'height': 600,\n",
       "               'legend': {'title': {'text': 'variable'}, 'tracegroupgap': 0},\n",
       "               'margin': {'t': 60},\n",
       "               'template': '...',\n",
       "               'xaxis': {'anchor': 'y', 'domain': [0.0, 0.98], 'title': {'text': 'epoch'}},\n",
       "               'xaxis2': {'anchor': 'y2', 'domain': [0.0, 0.98], 'matches': 'x', 'showticklabels': False},\n",
       "               'xaxis3': {'anchor': 'y3', 'domain': [0.0, 0.98], 'matches': 'x', 'showticklabels': False},\n",
       "               'xaxis4': {'anchor': 'y4', 'domain': [0.0, 0.98], 'matches': 'x', 'showticklabels': False},\n",
       "               'xaxis5': {'anchor': 'y5', 'domain': [0.0, 0.98], 'matches': 'x', 'showticklabels': False},\n",
       "               'yaxis': {'anchor': 'x', 'domain': [0.0, 0.17600000000000002], 'title': {'text': 'value'}},\n",
       "               'yaxis2': {'anchor': 'x2', 'domain': [0.20600000000000002, 0.382], 'title': {'text': 'value'}},\n",
       "               'yaxis3': {'anchor': 'x3', 'domain': [0.41200000000000003, 0.5880000000000001], 'title': {'text': 'value'}},\n",
       "               'yaxis4': {'anchor': 'x4', 'domain': [0.618, 0.794], 'title': {'text': 'value'}},\n",
       "               'yaxis5': {'anchor': 'x5', 'domain': [0.8240000000000001, 1.0], 'title': {'text': 'value'}}}\n",
       "})"
      ]
     },
     "metadata": {},
     "output_type": "display_data"
    }
   ],
   "source": [
    "bad_training_stats = (\n",
    "    first_optimizer\n",
    "    .optimize_nn(\n",
    "        epochs=35,\n",
    "        batch_size=500,\n",
    "        metrics=[accuracy, test_accuracy],\n",
    "        plt_x=\"epoch\",\n",
    "        plt_ys=[\n",
    "            \"loss\",\n",
    "            \"accuracy\",\n",
    "            \"test_accuracy\",\n",
    "            \"test_loss\",\n",
    "            \"learning_rate\",\n",
    "        ],\n",
    "        height=600,\n",
    "    )\n",
    ")"
   ]
  },
  {
   "cell_type": "code",
   "execution_count": 57,
   "metadata": {},
   "outputs": [
    {
     "data": {
      "text/plain": [
       "{'test_accuracy': np.float64(0.6157),\n",
       " 'test_loss': np.float64(0.19704411015083267)}"
      ]
     },
     "execution_count": 57,
     "metadata": {},
     "output_type": "execute_result"
    },
    {
     "ename": "",
     "evalue": "",
     "output_type": "error",
     "traceback": [
      "\u001b[1;31mnotebook controller is DISPOSED. \n",
      "\u001b[1;31mView Jupyter <a href='command:jupyter.viewOutput'>log</a> for further details."
     ]
    },
    {
     "ename": "",
     "evalue": "",
     "output_type": "error",
     "traceback": [
      "\u001b[1;31mnotebook controller is DISPOSED. \n",
      "\u001b[1;31mView Jupyter <a href='command:jupyter.viewOutput'>log</a> for further details."
     ]
    }
   ],
   "source": [
    "test_accuracy({}, nn)"
   ]
  },
  {
   "cell_type": "markdown",
   "metadata": {},
   "source": [
    "### Inspecting the trained model"
   ]
  },
  {
   "cell_type": "code",
   "execution_count": 48,
   "metadata": {},
   "outputs": [
    {
     "data": {
      "application/vnd.plotly.v1+json": {
       "config": {
        "plotlyServerURL": "https://plot.ly"
       },
       "data": [
        {
         "hovertemplate": "x: %{x}<br>y: %{y}<extra></extra>",
         "name": "0",
         "source": "data:image/png;base64,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",
         "type": "image",
         "xaxis": "x",
         "yaxis": "y"
        }
       ],
       "layout": {
        "margin": {
         "t": 60
        },
        "template": {
         "data": {
          "bar": [
           {
            "error_x": {
             "color": "#2a3f5f"
            },
            "error_y": {
             "color": "#2a3f5f"
            },
            "marker": {
             "line": {
              "color": "#E5ECF6",
              "width": 0.5
             },
             "pattern": {
              "fillmode": "overlay",
              "size": 10,
              "solidity": 0.2
             }
            },
            "type": "bar"
           }
          ],
          "barpolar": [
           {
            "marker": {
             "line": {
              "color": "#E5ECF6",
              "width": 0.5
             },
             "pattern": {
              "fillmode": "overlay",
              "size": 10,
              "solidity": 0.2
             }
            },
            "type": "barpolar"
           }
          ],
          "carpet": [
           {
            "aaxis": {
             "endlinecolor": "#2a3f5f",
             "gridcolor": "white",
             "linecolor": "white",
             "minorgridcolor": "white",
             "startlinecolor": "#2a3f5f"
            },
            "baxis": {
             "endlinecolor": "#2a3f5f",
             "gridcolor": "white",
             "linecolor": "white",
             "minorgridcolor": "white",
             "startlinecolor": "#2a3f5f"
            },
            "type": "carpet"
           }
          ],
          "choropleth": [
           {
            "colorbar": {
             "outlinewidth": 0,
             "ticks": ""
            },
            "type": "choropleth"
           }
          ],
          "contour": [
           {
            "colorbar": {
             "outlinewidth": 0,
             "ticks": ""
            },
            "colorscale": [
             [
              0,
              "#0d0887"
             ],
             [
              0.1111111111111111,
              "#46039f"
             ],
             [
              0.2222222222222222,
              "#7201a8"
             ],
             [
              0.3333333333333333,
              "#9c179e"
             ],
             [
              0.4444444444444444,
              "#bd3786"
             ],
             [
              0.5555555555555556,
              "#d8576b"
             ],
             [
              0.6666666666666666,
              "#ed7953"
             ],
             [
              0.7777777777777778,
              "#fb9f3a"
             ],
             [
              0.8888888888888888,
              "#fdca26"
             ],
             [
              1,
              "#f0f921"
             ]
            ],
            "type": "contour"
           }
          ],
          "contourcarpet": [
           {
            "colorbar": {
             "outlinewidth": 0,
             "ticks": ""
            },
            "type": "contourcarpet"
           }
          ],
          "heatmap": [
           {
            "colorbar": {
             "outlinewidth": 0,
             "ticks": ""
            },
            "colorscale": [
             [
              0,
              "#0d0887"
             ],
             [
              0.1111111111111111,
              "#46039f"
             ],
             [
              0.2222222222222222,
              "#7201a8"
             ],
             [
              0.3333333333333333,
              "#9c179e"
             ],
             [
              0.4444444444444444,
              "#bd3786"
             ],
             [
              0.5555555555555556,
              "#d8576b"
             ],
             [
              0.6666666666666666,
              "#ed7953"
             ],
             [
              0.7777777777777778,
              "#fb9f3a"
             ],
             [
              0.8888888888888888,
              "#fdca26"
             ],
             [
              1,
              "#f0f921"
             ]
            ],
            "type": "heatmap"
           }
          ],
          "heatmapgl": [
           {
            "colorbar": {
             "outlinewidth": 0,
             "ticks": ""
            },
            "colorscale": [
             [
              0,
              "#0d0887"
             ],
             [
              0.1111111111111111,
              "#46039f"
             ],
             [
              0.2222222222222222,
              "#7201a8"
             ],
             [
              0.3333333333333333,
              "#9c179e"
             ],
             [
              0.4444444444444444,
              "#bd3786"
             ],
             [
              0.5555555555555556,
              "#d8576b"
             ],
             [
              0.6666666666666666,
              "#ed7953"
             ],
             [
              0.7777777777777778,
              "#fb9f3a"
             ],
             [
              0.8888888888888888,
              "#fdca26"
             ],
             [
              1,
              "#f0f921"
             ]
            ],
            "type": "heatmapgl"
           }
          ],
          "histogram": [
           {
            "marker": {
             "pattern": {
              "fillmode": "overlay",
              "size": 10,
              "solidity": 0.2
             }
            },
            "type": "histogram"
           }
          ],
          "histogram2d": [
           {
            "colorbar": {
             "outlinewidth": 0,
             "ticks": ""
            },
            "colorscale": [
             [
              0,
              "#0d0887"
             ],
             [
              0.1111111111111111,
              "#46039f"
             ],
             [
              0.2222222222222222,
              "#7201a8"
             ],
             [
              0.3333333333333333,
              "#9c179e"
             ],
             [
              0.4444444444444444,
              "#bd3786"
             ],
             [
              0.5555555555555556,
              "#d8576b"
             ],
             [
              0.6666666666666666,
              "#ed7953"
             ],
             [
              0.7777777777777778,
              "#fb9f3a"
             ],
             [
              0.8888888888888888,
              "#fdca26"
             ],
             [
              1,
              "#f0f921"
             ]
            ],
            "type": "histogram2d"
           }
          ],
          "histogram2dcontour": [
           {
            "colorbar": {
             "outlinewidth": 0,
             "ticks": ""
            },
            "colorscale": [
             [
              0,
              "#0d0887"
             ],
             [
              0.1111111111111111,
              "#46039f"
             ],
             [
              0.2222222222222222,
              "#7201a8"
             ],
             [
              0.3333333333333333,
              "#9c179e"
             ],
             [
              0.4444444444444444,
              "#bd3786"
             ],
             [
              0.5555555555555556,
              "#d8576b"
             ],
             [
              0.6666666666666666,
              "#ed7953"
             ],
             [
              0.7777777777777778,
              "#fb9f3a"
             ],
             [
              0.8888888888888888,
              "#fdca26"
             ],
             [
              1,
              "#f0f921"
             ]
            ],
            "type": "histogram2dcontour"
           }
          ],
          "mesh3d": [
           {
            "colorbar": {
             "outlinewidth": 0,
             "ticks": ""
            },
            "type": "mesh3d"
           }
          ],
          "parcoords": [
           {
            "line": {
             "colorbar": {
              "outlinewidth": 0,
              "ticks": ""
             }
            },
            "type": "parcoords"
           }
          ],
          "pie": [
           {
            "automargin": true,
            "type": "pie"
           }
          ],
          "scatter": [
           {
            "fillpattern": {
             "fillmode": "overlay",
             "size": 10,
             "solidity": 0.2
            },
            "type": "scatter"
           }
          ],
          "scatter3d": [
           {
            "line": {
             "colorbar": {
              "outlinewidth": 0,
              "ticks": ""
             }
            },
            "marker": {
             "colorbar": {
              "outlinewidth": 0,
              "ticks": ""
             }
            },
            "type": "scatter3d"
           }
          ],
          "scattercarpet": [
           {
            "marker": {
             "colorbar": {
              "outlinewidth": 0,
              "ticks": ""
             }
            },
            "type": "scattercarpet"
           }
          ],
          "scattergeo": [
           {
            "marker": {
             "colorbar": {
              "outlinewidth": 0,
              "ticks": ""
             }
            },
            "type": "scattergeo"
           }
          ],
          "scattergl": [
           {
            "marker": {
             "colorbar": {
              "outlinewidth": 0,
              "ticks": ""
             }
            },
            "type": "scattergl"
           }
          ],
          "scattermapbox": [
           {
            "marker": {
             "colorbar": {
              "outlinewidth": 0,
              "ticks": ""
             }
            },
            "type": "scattermapbox"
           }
          ],
          "scatterpolar": [
           {
            "marker": {
             "colorbar": {
              "outlinewidth": 0,
              "ticks": ""
             }
            },
            "type": "scatterpolar"
           }
          ],
          "scatterpolargl": [
           {
            "marker": {
             "colorbar": {
              "outlinewidth": 0,
              "ticks": ""
             }
            },
            "type": "scatterpolargl"
           }
          ],
          "scatterternary": [
           {
            "marker": {
             "colorbar": {
              "outlinewidth": 0,
              "ticks": ""
             }
            },
            "type": "scatterternary"
           }
          ],
          "surface": [
           {
            "colorbar": {
             "outlinewidth": 0,
             "ticks": ""
            },
            "colorscale": [
             [
              0,
              "#0d0887"
             ],
             [
              0.1111111111111111,
              "#46039f"
             ],
             [
              0.2222222222222222,
              "#7201a8"
             ],
             [
              0.3333333333333333,
              "#9c179e"
             ],
             [
              0.4444444444444444,
              "#bd3786"
             ],
             [
              0.5555555555555556,
              "#d8576b"
             ],
             [
              0.6666666666666666,
              "#ed7953"
             ],
             [
              0.7777777777777778,
              "#fb9f3a"
             ],
             [
              0.8888888888888888,
              "#fdca26"
             ],
             [
              1,
              "#f0f921"
             ]
            ],
            "type": "surface"
           }
          ],
          "table": [
           {
            "cells": {
             "fill": {
              "color": "#EBF0F8"
             },
             "line": {
              "color": "white"
             }
            },
            "header": {
             "fill": {
              "color": "#C8D4E3"
             },
             "line": {
              "color": "white"
             }
            },
            "type": "table"
           }
          ]
         },
         "layout": {
          "annotationdefaults": {
           "arrowcolor": "#2a3f5f",
           "arrowhead": 0,
           "arrowwidth": 1
          },
          "autotypenumbers": "strict",
          "coloraxis": {
           "colorbar": {
            "outlinewidth": 0,
            "ticks": ""
           }
          },
          "colorscale": {
           "diverging": [
            [
             0,
             "#8e0152"
            ],
            [
             0.1,
             "#c51b7d"
            ],
            [
             0.2,
             "#de77ae"
            ],
            [
             0.3,
             "#f1b6da"
            ],
            [
             0.4,
             "#fde0ef"
            ],
            [
             0.5,
             "#f7f7f7"
            ],
            [
             0.6,
             "#e6f5d0"
            ],
            [
             0.7,
             "#b8e186"
            ],
            [
             0.8,
             "#7fbc41"
            ],
            [
             0.9,
             "#4d9221"
            ],
            [
             1,
             "#276419"
            ]
           ],
           "sequential": [
            [
             0,
             "#0d0887"
            ],
            [
             0.1111111111111111,
             "#46039f"
            ],
            [
             0.2222222222222222,
             "#7201a8"
            ],
            [
             0.3333333333333333,
             "#9c179e"
            ],
            [
             0.4444444444444444,
             "#bd3786"
            ],
            [
             0.5555555555555556,
             "#d8576b"
            ],
            [
             0.6666666666666666,
             "#ed7953"
            ],
            [
             0.7777777777777778,
             "#fb9f3a"
            ],
            [
             0.8888888888888888,
             "#fdca26"
            ],
            [
             1,
             "#f0f921"
            ]
           ],
           "sequentialminus": [
            [
             0,
             "#0d0887"
            ],
            [
             0.1111111111111111,
             "#46039f"
            ],
            [
             0.2222222222222222,
             "#7201a8"
            ],
            [
             0.3333333333333333,
             "#9c179e"
            ],
            [
             0.4444444444444444,
             "#bd3786"
            ],
            [
             0.5555555555555556,
             "#d8576b"
            ],
            [
             0.6666666666666666,
             "#ed7953"
            ],
            [
             0.7777777777777778,
             "#fb9f3a"
            ],
            [
             0.8888888888888888,
             "#fdca26"
            ],
            [
             1,
             "#f0f921"
            ]
           ]
          },
          "colorway": [
           "#636efa",
           "#EF553B",
           "#00cc96",
           "#ab63fa",
           "#FFA15A",
           "#19d3f3",
           "#FF6692",
           "#B6E880",
           "#FF97FF",
           "#FECB52"
          ],
          "font": {
           "color": "#2a3f5f"
          },
          "geo": {
           "bgcolor": "white",
           "lakecolor": "white",
           "landcolor": "#E5ECF6",
           "showlakes": true,
           "showland": true,
           "subunitcolor": "white"
          },
          "hoverlabel": {
           "align": "left"
          },
          "hovermode": "closest",
          "mapbox": {
           "style": "light"
          },
          "paper_bgcolor": "white",
          "plot_bgcolor": "#E5ECF6",
          "polar": {
           "angularaxis": {
            "gridcolor": "white",
            "linecolor": "white",
            "ticks": ""
           },
           "bgcolor": "#E5ECF6",
           "radialaxis": {
            "gridcolor": "white",
            "linecolor": "white",
            "ticks": ""
           }
          },
          "scene": {
           "xaxis": {
            "backgroundcolor": "#E5ECF6",
            "gridcolor": "white",
            "gridwidth": 2,
            "linecolor": "white",
            "showbackground": true,
            "ticks": "",
            "zerolinecolor": "white"
           },
           "yaxis": {
            "backgroundcolor": "#E5ECF6",
            "gridcolor": "white",
            "gridwidth": 2,
            "linecolor": "white",
            "showbackground": true,
            "ticks": "",
            "zerolinecolor": "white"
           },
           "zaxis": {
            "backgroundcolor": "#E5ECF6",
            "gridcolor": "white",
            "gridwidth": 2,
            "linecolor": "white",
            "showbackground": true,
            "ticks": "",
            "zerolinecolor": "white"
           }
          },
          "shapedefaults": {
           "line": {
            "color": "#2a3f5f"
           }
          },
          "ternary": {
           "aaxis": {
            "gridcolor": "white",
            "linecolor": "white",
            "ticks": ""
           },
           "baxis": {
            "gridcolor": "white",
            "linecolor": "white",
            "ticks": ""
           },
           "bgcolor": "#E5ECF6",
           "caxis": {
            "gridcolor": "white",
            "linecolor": "white",
            "ticks": ""
           }
          },
          "title": {
           "x": 0.05
          },
          "xaxis": {
           "automargin": true,
           "gridcolor": "white",
           "linecolor": "white",
           "ticks": "",
           "title": {
            "standoff": 15
           },
           "zerolinecolor": "white",
           "zerolinewidth": 2
          },
          "yaxis": {
           "automargin": true,
           "gridcolor": "white",
           "linecolor": "white",
           "ticks": "",
           "title": {
            "standoff": 15
           },
           "zerolinecolor": "white",
           "zerolinewidth": 2
          }
         }
        },
        "xaxis": {
         "anchor": "y",
         "domain": [
          0,
          1
         ]
        },
        "yaxis": {
         "anchor": "x",
         "domain": [
          0,
          1
         ]
        }
       }
      }
     },
     "metadata": {},
     "output_type": "display_data"
    },
    {
     "ename": "",
     "evalue": "",
     "output_type": "error",
     "traceback": [
      "\u001b[1;31mnotebook controller is DISPOSED. \n",
      "\u001b[1;31mView Jupyter <a href='command:jupyter.viewOutput'>log</a> for further details."
     ]
    },
    {
     "ename": "",
     "evalue": "",
     "output_type": "error",
     "traceback": [
      "\u001b[1;31mnotebook controller is DISPOSED. \n",
      "\u001b[1;31mView Jupyter <a href='command:jupyter.viewOutput'>log</a> for further details."
     ]
    }
   ],
   "source": [
    "TARGET_IMG = 30\n",
    "px.imshow(x_train[TARGET_IMG])"
   ]
  },
  {
   "cell_type": "code",
   "execution_count": 49,
   "metadata": {},
   "outputs": [
    {
     "data": {
      "application/vnd.plotly.v1+json": {
       "config": {
        "plotlyServerURL": "https://plot.ly"
       },
       "data": [
        {
         "coloraxis": "coloraxis",
         "hovertemplate": "x: %{x}<br>y: %{y}<br>color: %{z}<extra></extra>",
         "name": "0",
         "type": "heatmap",
         "xaxis": "x",
         "yaxis": "y",
         "z": [
          [
           0,
           0,
           0,
           0,
           0,
           0,
           0,
           0,
           0,
           0,
           0,
           0,
           0
          ],
          [
           0,
           0,
           0,
           0,
           0,
           0,
           0,
           0,
           0,
           0,
           0,
           0,
           0
          ],
          [
           0,
           0.029213225347117178,
           0,
           0,
           0,
           0,
           0,
           0.12703552834329898,
           0.00036938373379047373,
           0,
           0,
           0,
           0
          ],
          [
           0,
           0,
           0.02275080004560126,
           0,
           0.04565422692420279,
           0.3373817592149677,
           0.4056059237930889,
           0.2114809210594786,
           0.16174248949105388,
           0.06176108724563656,
           0,
           0,
           0
          ],
          [
           0,
           0.2274738205631728,
           0.33248552090276673,
           0.2399845577544922,
           0.011589752177540796,
           0.042706604312219315,
           0,
           0,
           0,
           0,
           0,
           0,
           0
          ],
          [
           0,
           0,
           0.09325397394450549,
           0.3194445735134098,
           0.17676677595724985,
           0,
           0.016452380328923877,
           0,
           0,
           0,
           0,
           0,
           0
          ],
          [
           0,
           0,
           0.10724282318788306,
           0,
           0.15346996013694522,
           0.34919128514853004,
           0.4064102664107584,
           0.42577440509529385,
           0.16539208539536124,
           0.08353805792477317,
           0,
           0,
           0
          ],
          [
           0,
           0,
           0,
           0,
           0,
           0,
           0,
           0,
           0.0190170773412838,
           0.24215136936571283,
           0.0662273473282633,
           0,
           0
          ],
          [
           0,
           0,
           0,
           0,
           0.29637623872782914,
           0.7484623830906154,
           0.5355118999057071,
           0.48899267012759595,
           0.09001187631044935,
           0,
           0.2863069753269427,
           0.30267868196608594,
           0.2328039580808455
          ],
          [
           0.5592845780204552,
           0.13469858814973598,
           0,
           0,
           0.08605646897002175,
           0.11867096850505546,
           0,
           0,
           0.11979733243413851,
           0.12823566878252632,
           0,
           0,
           0.16426797821538733
          ],
          [
           0.2861827174978586,
           0.21585713076277466,
           0.21732803761131705,
           0.15603287156369974,
           0,
           0,
           0.03803519550591236,
           0.03204391085941238,
           0,
           0.167526876100304,
           0.09888432463971517,
           0,
           0
          ],
          [
           0,
           0,
           0,
           0,
           0,
           0,
           0,
           0,
           0,
           0,
           0,
           0.2154508553421158,
           0.1862781397548938
          ],
          [
           0,
           0,
           0,
           0,
           0,
           0,
           0,
           0,
           0,
           0,
           0,
           0,
           0
          ]
         ]
        },
        {
         "coloraxis": "coloraxis",
         "hovertemplate": "x: %{x}<br>y: %{y}<br>color: %{z}<extra></extra>",
         "name": "1",
         "type": "heatmap",
         "xaxis": "x2",
         "yaxis": "y2",
         "z": [
          [
           0,
           0,
           0,
           0,
           0,
           0,
           0,
           0,
           0,
           0,
           0,
           0,
           0
          ],
          [
           0,
           0,
           0,
           0,
           0,
           0,
           0,
           0,
           0,
           0,
           0,
           0,
           0
          ],
          [
           0,
           0,
           0,
           0,
           0,
           0,
           0,
           0.05843244321691596,
           0,
           0,
           0,
           0,
           0
          ],
          [
           0,
           0,
           0,
           0,
           0,
           0,
           0.11710975419857778,
           0.18279668590540038,
           0,
           0,
           0,
           0,
           0
          ],
          [
           0,
           0,
           0,
           0,
           0,
           0,
           0.1809918004217917,
           0.18265489899613818,
           0.009841503736566781,
           0,
           0,
           0,
           0
          ],
          [
           0,
           0,
           0,
           0,
           0.08209307421102252,
           0.09274035479242204,
           0.15021147440197608,
           0.2685735617404421,
           0.30887053602619124,
           0.06682800066040809,
           0,
           0,
           0
          ],
          [
           0,
           0,
           0,
           0,
           0.16218081968196313,
           0.20203767251547794,
           0.22556513968254127,
           0.21128606581765275,
           0.27868088161222987,
           0.15116333071873272,
           0.042612674625610886,
           0,
           0
          ],
          [
           0,
           0,
           0,
           0,
           0.1753403211827642,
           0.17085147183018307,
           0.11441053807900131,
           0.2433245204487815,
           0.1479829626503995,
           0.3365883836508469,
           0.3068797624594737,
           0.116599966306553,
           0
          ],
          [
           0,
           0,
           0,
           0.012364854106559464,
           0.17158009481166714,
           0.09799281897470824,
           0.028385605830357014,
           0,
           0.010964740533347644,
           0.34994005265223366,
           0.4084809221550038,
           0.2765569422693894,
           0.11582163007772273
          ],
          [
           0,
           0,
           0,
           0.07327633759304802,
           0.22947680953740185,
           0.027094582861931144,
           0,
           0,
           0,
           0.1096435206034928,
           0.2531334418052742,
           0.22425756248492873,
           0.18977073742733114
          ],
          [
           0,
           0,
           0,
           0,
           0,
           0,
           0,
           0,
           0,
           0,
           0.005249452323055681,
           0.032517504875997166,
           0.050367827494732176
          ],
          [
           0,
           0,
           0,
           0,
           0,
           0,
           0,
           0,
           0,
           0,
           0,
           0.012503510657830091,
           0
          ],
          [
           0,
           0,
           0,
           0,
           0,
           0,
           0,
           0,
           0,
           0,
           0,
           0,
           0.009359854618822688
          ]
         ]
        },
        {
         "coloraxis": "coloraxis",
         "hovertemplate": "x: %{x}<br>y: %{y}<br>color: %{z}<extra></extra>",
         "name": "2",
         "type": "heatmap",
         "xaxis": "x3",
         "yaxis": "y3",
         "z": [
          [
           0,
           0,
           0,
           0,
           0,
           0,
           0,
           0,
           0,
           0,
           0,
           0,
           0
          ],
          [
           0,
           0,
           0,
           0,
           0,
           0,
           0,
           0,
           0,
           0,
           0,
           0,
           0
          ],
          [
           0,
           0,
           0,
           0,
           0.027466749469670138,
           0.07395730971916964,
           0.04029157122797378,
           0,
           0,
           0,
           0,
           0,
           0
          ],
          [
           0,
           0,
           0.010661914400876552,
           0.10693200111924474,
           0.15635835155990205,
           0.1817810368058956,
           0.1268803734454833,
           0,
           0,
           0,
           0,
           0,
           0
          ],
          [
           0.002791613997381006,
           0.13455978034447,
           0.22812194560902457,
           0.2759081307565283,
           0.2877066652370325,
           0.2575377272461599,
           0.19797008146978137,
           0.19146466212305807,
           0.18427221018873066,
           0.1372573404612191,
           0.03416304083604091,
           0,
           0
          ],
          [
           0.02973832004073666,
           0.12105815080220288,
           0.1702323794316486,
           0.18533482818132463,
           0.16487730862772007,
           0.15181981229821673,
           0.11148153960369798,
           0.13190922179748338,
           0.14905448245459532,
           0.0983908553398874,
           0.043915162771537355,
           0,
           0
          ],
          [
           0.07668138146097993,
           0.16433271066205632,
           0.18584189452395133,
           0.1456595663030979,
           0.09860411902626383,
           0.11282314503406117,
           0.20886602919825176,
           0.3166246998430467,
           0.3538116241171267,
           0.30885276063883477,
           0.14493708803680877,
           0.03286804041411595,
           0
          ],
          [
           0,
           0,
           0,
           0,
           0.04444854169680147,
           0.09831634088456524,
           0.18423729589421203,
           0.275226686557451,
           0.35713063226229386,
           0.3377832371775592,
           0.20430332244068453,
           0.0920368989965723,
           0.004218663761052975
          ],
          [
           0,
           0,
           0,
           0.026672772682456127,
           0.015801245819771808,
           0,
           0,
           0.0894521143225875,
           0.16841015408796062,
           0.2001796052373763,
           0.16224324407199678,
           0.07706880302116056,
           0.004727651178128539
          ],
          [
           0.11077496712833075,
           0.06459152017718912,
           0,
           0,
           0.14212310246230073,
           0.20104849585667944,
           0.10943096124758285,
           0.01770447708584554,
           0,
           0,
           0,
           0.03050303088996838,
           0.039075110813842615
          ],
          [
           0.15437672885934678,
           0.22995998440913618,
           0.21864288687711,
           0.16190870894288334,
           0.09454849477309374,
           0.02224976358701475,
           0,
           0.018383973341115047,
           0,
           0,
           0,
           0.0037073522524396912,
           0.026952893995852736
          ],
          [
           0.13235333782768868,
           0.1354912370785033,
           0.06071908800930996,
           0,
           0,
           0,
           0,
           0,
           0,
           0,
           0,
           0,
           0
          ],
          [
           0,
           0,
           0,
           0,
           0,
           0,
           0,
           0,
           0,
           0,
           0,
           0.0010608981646512902,
           0
          ]
         ]
        },
        {
         "coloraxis": "coloraxis",
         "hovertemplate": "x: %{x}<br>y: %{y}<br>color: %{z}<extra></extra>",
         "name": "3",
         "type": "heatmap",
         "xaxis": "x4",
         "yaxis": "y4",
         "z": [
          [
           0,
           0,
           0,
           0,
           0,
           0,
           0,
           0,
           0,
           0,
           0,
           0,
           0
          ],
          [
           0,
           0,
           0,
           0,
           0,
           0,
           0,
           0,
           0,
           0,
           0,
           0,
           0
          ],
          [
           0,
           0,
           0,
           0,
           0,
           0.00474737694243918,
           0,
           0,
           0,
           0,
           0,
           0,
           0
          ],
          [
           0,
           0,
           0.09682053963007206,
           0.06131060649501707,
           0,
           0.0004467835256464492,
           0,
           0,
           0.12014143045008233,
           0.03448359569196735,
           0,
           0,
           0
          ],
          [
           0,
           0,
           0,
           0,
           0.02896722461340892,
           0,
           0.08356542915471452,
           0.07722310837873847,
           0,
           0,
           0,
           0,
           0
          ],
          [
           0,
           0,
           0.12735448556908543,
           0.22508110857003363,
           0.13579742339377918,
           0.013775566679112006,
           0,
           0,
           0,
           0.0195879096192228,
           0,
           0,
           0
          ],
          [
           0.1749224264318365,
           0.2902956155349543,
           0,
           0,
           0,
           0.05191899210750864,
           0,
           0.02370427306463535,
           0,
           0,
           0,
           0,
           0
          ],
          [
           0,
           0.02971556283977525,
           0.22375970086352795,
           0.4318720439900442,
           0.23013037892898044,
           0,
           0,
           0.07816630377112405,
           0.21665469051748834,
           0.19720124297773448,
           0,
           0,
           0
          ],
          [
           0.18521985903996033,
           0.3271549604336036,
           0.09789882230535149,
           0.36302104790324574,
           0,
           0.4785888247869683,
           0.3425581955721032,
           0,
           0,
           0.01294431957424877,
           0.15693766048403965,
           0,
           0
          ],
          [
           0,
           0,
           0,
           1.0177752628607188,
           1.106155108855393,
           0.6785234137612165,
           0.2033919621356102,
           0.3325053238126052,
           0.2568391168058177,
           0,
           0,
           0.14341333914517065,
           0
          ],
          [
           0.022027952411174473,
           0.5605237144071704,
           0.6494891249572877,
           0.7803758264817768,
           0,
           0,
           0,
           0,
           0,
           0.022711428704268538,
           0.011809064007087366,
           0,
           0
          ],
          [
           0.11094577439719425,
           0.3237654224017845,
           0,
           0,
           0.02258234906967671,
           0,
           0,
           0,
           0,
           0,
           0,
           0.10558449630813008,
           0.015405969456830981
          ],
          [
           0,
           0,
           0,
           0,
           0,
           0,
           0,
           0,
           0,
           0,
           0,
           0,
           0.03307088444513076
          ]
         ]
        },
        {
         "coloraxis": "coloraxis",
         "hovertemplate": "x: %{x}<br>y: %{y}<br>color: %{z}<extra></extra>",
         "name": "4",
         "type": "heatmap",
         "xaxis": "x5",
         "yaxis": "y5",
         "z": [
          [
           0,
           0,
           0,
           0,
           0,
           0,
           0,
           0,
           0,
           0,
           0,
           0,
           0
          ],
          [
           0,
           0,
           0,
           0,
           0,
           0,
           0,
           0,
           0,
           0,
           0,
           0,
           0
          ],
          [
           0,
           0,
           0,
           0,
           0,
           0,
           0,
           0,
           0,
           0,
           0,
           0,
           0
          ],
          [
           0,
           0,
           0,
           0,
           0,
           0,
           0,
           0,
           0.001304090133416036,
           0,
           0,
           0,
           0
          ],
          [
           0,
           0,
           0,
           0,
           0,
           0,
           0,
           0,
           0,
           0,
           0,
           0,
           0
          ],
          [
           0,
           0,
           0,
           0.025989285571720866,
           0,
           0,
           0,
           0,
           0,
           0,
           0,
           0,
           0
          ],
          [
           0,
           0,
           0,
           0,
           0,
           0,
           0,
           0,
           0.050799962773787455,
           0.013487769017079931,
           0,
           0,
           0
          ],
          [
           0,
           0,
           0,
           0,
           0,
           0,
           0,
           0,
           0.05012691865143459,
           0.16519391558512975,
           0,
           0,
           0
          ],
          [
           0.03726062208115494,
           0.17161149364670109,
           0.06273870129355918,
           0,
           0,
           0.23641744413262544,
           0.3874893238428746,
           0.13600528485396318,
           0,
           0,
           0,
           0,
           0
          ],
          [
           0.783433951747159,
           0.23055136684202726,
           0.2218024583563395,
           0,
           0,
           0,
           0,
           0,
           0,
           0,
           0,
           0,
           0
          ],
          [
           0.6463175795919129,
           0.31621697720641373,
           0,
           0,
           0,
           0,
           0,
           0,
           0,
           0,
           0.052261166685155125,
           0,
           0
          ],
          [
           0,
           0,
           0,
           0,
           0,
           0,
           0,
           0,
           0,
           0,
           0,
           0.15025378394149458,
           0.1870027815186195
          ],
          [
           0,
           0,
           0,
           0,
           0,
           0,
           0,
           0,
           0,
           0,
           0,
           0,
           0.013278387739294406
          ]
         ]
        },
        {
         "coloraxis": "coloraxis",
         "hovertemplate": "x: %{x}<br>y: %{y}<br>color: %{z}<extra></extra>",
         "name": "5",
         "type": "heatmap",
         "xaxis": "x6",
         "yaxis": "y6",
         "z": [
          [
           0,
           0,
           0,
           0,
           0,
           0,
           0,
           0,
           0,
           0,
           0,
           0,
           0
          ],
          [
           0,
           0,
           0,
           0,
           0,
           0,
           0,
           0,
           0,
           0,
           0,
           0,
           0
          ],
          [
           0,
           0,
           0,
           0,
           0,
           0.00678368617881428,
           0,
           0,
           0,
           0,
           0,
           0,
           0
          ],
          [
           0,
           0,
           0.016617617237263238,
           0.05994231517937465,
           0.006536133225297197,
           0,
           0,
           0,
           0,
           0,
           0,
           0,
           0
          ],
          [
           0,
           0,
           0.011334900820225285,
           0.10470964565290378,
           0.11005484565320034,
           0,
           0,
           0,
           0,
           0,
           0,
           0,
           0
          ],
          [
           0,
           0,
           0,
           0.030914826788556088,
           0.019635232080017023,
           0.09275785080734181,
           0.05889080176658898,
           0,
           0,
           0,
           0,
           0,
           0
          ],
          [
           0.07727540238714398,
           0.00987968295938721,
           0.11099302548072593,
           0,
           0,
           0,
           0,
           0,
           0,
           0,
           0,
           0,
           0
          ],
          [
           0.12832803610593,
           0.28698701331044385,
           0.19745336105014963,
           0.19327051792245672,
           0.05401393457243803,
           0,
           0,
           0,
           0,
           0.10601546867730355,
           0.00227534966302842,
           0,
           0
          ],
          [
           0.03542530684122924,
           0.49394886108846014,
           0.46379721999002155,
           0.06761882634379587,
           0,
           0.02435729615042434,
           0.16628092497363064,
           0,
           0.026458012229535532,
           0,
           0.051652515889854894,
           0,
           0
          ],
          [
           0,
           0.1773826996879053,
           0.3730306768412761,
           0.1574200158232659,
           0,
           0,
           0.1734828573216741,
           0.11898353192983666,
           0.12355749247640171,
           0.2867803650810934,
           0.2291137325812512,
           0,
           0
          ],
          [
           0,
           0,
           0,
           0.10030693077304323,
           0.1120404597089878,
           0.05296896704304316,
           0,
           0,
           0,
           0.13567029976647757,
           0.3616731959138857,
           0.4901862994081645,
           0
          ],
          [
           0,
           0,
           0,
           0,
           0,
           0,
           0,
           0,
           0,
           0,
           0,
           0.5137596229099515,
           0.44954761417158673
          ],
          [
           0,
           0,
           0,
           0,
           0,
           0,
           0,
           0,
           0,
           0,
           0,
           0,
           0.27118939858049684
          ]
         ]
        },
        {
         "coloraxis": "coloraxis",
         "hovertemplate": "x: %{x}<br>y: %{y}<br>color: %{z}<extra></extra>",
         "name": "6",
         "type": "heatmap",
         "xaxis": "x7",
         "yaxis": "y7",
         "z": [
          [
           0,
           0,
           0,
           0,
           0,
           0,
           0,
           0,
           0,
           0,
           0,
           0,
           0
          ],
          [
           0,
           0,
           0,
           0,
           0,
           0,
           0,
           0,
           0,
           0,
           0,
           0,
           0
          ],
          [
           0,
           0,
           0,
           0,
           0,
           0,
           0,
           0,
           0,
           0,
           0,
           0,
           0
          ],
          [
           0,
           0,
           0,
           0,
           0,
           0,
           0,
           0,
           0,
           0,
           0,
           0,
           0
          ],
          [
           0,
           0,
           0,
           0,
           0,
           0,
           0,
           0,
           0,
           0,
           0,
           0,
           0
          ],
          [
           0,
           0,
           0,
           0.1087826001076555,
           0,
           0.09802735396837048,
           0,
           0,
           0,
           0,
           0,
           0,
           0
          ],
          [
           0,
           0,
           0.08852098194656288,
           0.17718160835434504,
           0.151561355742869,
           0.12031021787218099,
           0,
           0,
           0,
           0,
           0,
           0,
           0
          ],
          [
           0.47225875787443294,
           0.5365419403038265,
           0.5190529550474615,
           0.1267504079982783,
           0.14677777232384748,
           0.11525590680845599,
           0,
           0.009689299044864652,
           0,
           0,
           0,
           0,
           0
          ],
          [
           0,
           0,
           0,
           0,
           0,
           0,
           0,
           0.2526003801835359,
           0.17216231790933867,
           0.2446406861793915,
           0,
           0,
           0
          ],
          [
           0,
           0,
           0,
           0,
           0,
           0,
           0,
           0.13184437288840034,
           0.16879148539523048,
           0.37276015487162184,
           0.07330553076037039,
           0,
           0
          ],
          [
           0,
           0.04948562995999484,
           0,
           0,
           0,
           0,
           0,
           0,
           0,
           0,
           0,
           0,
           0
          ],
          [
           0,
           0,
           0,
           0,
           0,
           0,
           0,
           0,
           0,
           0,
           0,
           0,
           0
          ],
          [
           0,
           0,
           0,
           0,
           0,
           0,
           0,
           0,
           0,
           0,
           0,
           0,
           0
          ]
         ]
        },
        {
         "coloraxis": "coloraxis",
         "hovertemplate": "x: %{x}<br>y: %{y}<br>color: %{z}<extra></extra>",
         "name": "7",
         "type": "heatmap",
         "xaxis": "x8",
         "yaxis": "y8",
         "z": [
          [
           0,
           0,
           0,
           0,
           0,
           0,
           0,
           0,
           0,
           0,
           0,
           0,
           0
          ],
          [
           0,
           0,
           0,
           0,
           0,
           0.0573765063081155,
           0,
           0,
           0,
           0,
           0,
           0,
           0
          ],
          [
           0,
           0,
           0,
           0,
           0,
           0.1241995761091266,
           0,
           0,
           0.0688254497313433,
           0,
           0,
           0,
           0
          ],
          [
           0,
           0,
           0.23466816184922457,
           0,
           0.1067670624484206,
           0.0205577448217219,
           0.06309523418020294,
           0.15904259453380803,
           0.15682419884760268,
           0.1368148932471554,
           0,
           0,
           0
          ],
          [
           0,
           0,
           0.2813239001966031,
           0,
           0.16046984252984264,
           0,
           0.1325360922444466,
           0.18839875617147722,
           0.07946398896305357,
           0.26112307285491826,
           0,
           0,
           0
          ],
          [
           0,
           0,
           0.04866560234893397,
           0.08275728064248522,
           0,
           0,
           0.01614785380214047,
           0.03047221037175825,
           0.10205844417876753,
           0.22301648672086255,
           0,
           0,
           0
          ],
          [
           0,
           0,
           0.06602444417167436,
           0.10784286602889501,
           0,
           0.019072371038247396,
           0,
           0,
           0.4064492096989342,
           0.009694524778656177,
           0,
           0,
           0
          ],
          [
           0.11166221722334554,
           0,
           0.043952215613905,
           0,
           0,
           0.011123877688782619,
           0,
           0,
           0.34403381775656705,
           0.16794016166843256,
           0.08161826394441951,
           0,
           0
          ],
          [
           0.16626381643688293,
           0,
           0,
           0,
           0,
           0.0016356768862136606,
           0,
           0,
           0.15943925793910485,
           0.1710537320490388,
           0.02198969639780854,
           0.04615428893069973,
           0
          ],
          [
           0.19627943781109009,
           0.09752569998727037,
           0.046147710001972875,
           0,
           0,
           0,
           0,
           0,
           0.1296475106139051,
           0.013225640997721541,
           0.018814791202256598,
           0,
           0
          ],
          [
           0.12086308190251036,
           0.16398960847415578,
           0,
           0,
           0,
           0,
           0,
           0,
           0,
           0,
           0.02905056179011109,
           0,
           0
          ],
          [
           0.12469776344267647,
           0.0640801992236941,
           0,
           0,
           0,
           0,
           0,
           0,
           0,
           0,
           0,
           0,
           0
          ],
          [
           0,
           0,
           0,
           0,
           0,
           0,
           0,
           0,
           0,
           0,
           0,
           0,
           0
          ]
         ]
        },
        {
         "coloraxis": "coloraxis",
         "hovertemplate": "x: %{x}<br>y: %{y}<br>color: %{z}<extra></extra>",
         "name": "8",
         "type": "heatmap",
         "xaxis": "x9",
         "yaxis": "y9",
         "z": [
          [
           0.026653293065225885,
           0.03250924150080552,
           0.03709079800414895,
           0.03972248646439329,
           0.04478265191841651,
           0.04078803150583985,
           0.046427438238439096,
           0.04232449165195012,
           0.04242520967930074,
           0.04497976110382527,
           0.04328539416518093,
           0.03912996513792376,
           0.03091539258305203
          ],
          [
           0.02890566540279208,
           0.04312422946683714,
           0.04505623548599805,
           0.05801587924155109,
           0.060557196937458244,
           0.049365941284490844,
           0.06301673415759379,
           0.07546172413731798,
           0.07068776669976011,
           0.06455114615027223,
           0.04800510557747767,
           0.03196716785835612,
           0.03147490738575418
          ],
          [
           0.04088963702931747,
           0.07714702957420483,
           0.07601176244789606,
           0.06690749317063428,
           0.06241459525190028,
           0.02989677554273565,
           0.07864992190742667,
           0.11659940585937784,
           0.11391993733103178,
           0.10087792702760458,
           0.07411862144072848,
           0.04139652441618384,
           0.03404387081051501
          ],
          [
           0.045540292582974734,
           0.06559838199920269,
           0.06039232566165639,
           0.03986367092218292,
           0.022763896853094306,
           0.03464781743160837,
           0.05061310225577127,
           0.05946500614640947,
           0.06856630809383864,
           0.0843888261777085,
           0.07421737055108121,
           0.04129594977835957,
           0.033913376563049144
          ],
          [
           0.04398412978954627,
           0.05024423771940131,
           0.031206608156361105,
           0.047665007339413146,
           0.0810928127981958,
           0.08556112269842056,
           0.03426572318303999,
           0.023695969687345136,
           0.1186367958944359,
           0.14246360093499388,
           0.09564111247009276,
           0.05035842490397551,
           0.03977275323206657
          ],
          [
           0.03980830507031051,
           0.03566434289898612,
           0.031335329476716946,
           0.08726180149070394,
           0.1219169472620508,
           0.11557411598968738,
           0.10188101461154353,
           0.11089543958404298,
           0.1145360740181552,
           0.12048786009992796,
           0.08573388559963706,
           0.05285364752405895,
           0.04099881058554508
          ],
          [
           0.1221856121972571,
           0.17885576009826962,
           0.17023720930503733,
           0.1302266227286135,
           0.13861956862478358,
           0.11843196097256425,
           0.13683181353267607,
           0.14059409186295044,
           0.0863662844167993,
           0.008472077284524471,
           0.040024652360449664,
           0.04310207712390147,
           0.039322646338856654
          ],
          [
           0.26916188975569966,
           0.2632244675889882,
           0.18647257081695895,
           0.21316012545857846,
           0.25389116321397115,
           0.24082834942168665,
           0.1911967468625201,
           0.18042017176012862,
           0.10662227688517129,
           0.01771608737268901,
           0.0224036670453639,
           0.03276924217625516,
           0.04003204501541184
          ],
          [
           0.23287759307338454,
           0.22829704885851462,
           0.1976637583312783,
           0.2691524286606216,
           0.2926644913476287,
           0.20075147760089035,
           0.15584806970335566,
           0.1538694740558886,
           0.09930744595275222,
           0.030759359191285023,
           0.016594671607053593,
           0.02972231717529116,
           0.03816512337077926
          ],
          [
           0.08061354849124848,
           0.13131440463985694,
           0.18410437484391273,
           0.17628012093508372,
           0.03295442045692336,
           0,
           0.06297475629208256,
           0.0614961376476007,
           0.056220682994360935,
           0.07805232649118538,
           0.02651882255480954,
           0.02773174298897941,
           0.060770160006856935
          ],
          [
           0,
           0.02174803022597513,
           0.04049699428675396,
           0.040723776031500604,
           0.06464975509889373,
           0.07328472267844854,
           0.06305458831769047,
           0.06506251398102184,
           0.07531328252607314,
           0.09402051220984071,
           0.08810695803030268,
           0.08486714831023982,
           0.06977634671490832
          ],
          [
           0,
           0.0393776024467645,
           0.08200532510930547,
           0.08577927950234816,
           0.07836571988251298,
           0.059731454802765926,
           0.04848854609757118,
           0.05544763893218975,
           0.06779143082138069,
           0.07474125607019264,
           0.07979902199191725,
           0.08736814983004916,
           0.07822082445760822
          ],
          [
           0.032057518165764916,
           0.06669009024595221,
           0.07092399050728758,
           0.05001832076746761,
           0.04487856211774263,
           0.04604573930777807,
           0.04255000893630187,
           0.048197483902179344,
           0.048257391829228,
           0.04022839383348133,
           0.04336233544640085,
           0.06090796501480013,
           0.06456368759876847
          ]
         ]
        },
        {
         "coloraxis": "coloraxis",
         "hovertemplate": "x: %{x}<br>y: %{y}<br>color: %{z}<extra></extra>",
         "name": "9",
         "type": "heatmap",
         "xaxis": "x10",
         "yaxis": "y10",
         "z": [
          [
           0,
           0,
           0,
           0,
           0,
           0,
           0,
           0,
           0,
           0,
           0,
           0,
           0
          ],
          [
           0,
           0,
           0,
           0,
           0,
           0,
           0,
           0,
           0,
           0,
           0,
           0,
           0
          ],
          [
           0,
           0,
           0,
           0,
           0,
           0,
           0,
           0,
           0,
           0,
           0,
           0,
           0
          ],
          [
           0,
           0,
           0,
           0,
           0,
           0,
           0,
           0,
           0,
           0,
           0,
           0,
           0
          ],
          [
           0,
           0,
           0,
           0,
           0,
           0,
           0,
           0,
           0,
           0,
           0,
           0,
           0
          ],
          [
           0,
           0,
           0,
           0,
           0,
           0.051982567145315184,
           0.05809146413821903,
           0.04413968135614782,
           0,
           0,
           0,
           0,
           0
          ],
          [
           0,
           0,
           0,
           0,
           0,
           0,
           0.036615780497719685,
           0.08556498817093866,
           0,
           0,
           0,
           0,
           0
          ],
          [
           0,
           0,
           0.14847330273692222,
           0.21549254124446,
           0.19475800226082934,
           0.22622882100274117,
           0.0878070048248884,
           0,
           0,
           0,
           0,
           0,
           0
          ],
          [
           0,
           0,
           0,
           0,
           0,
           0,
           0,
           0,
           0,
           0,
           0,
           0,
           0
          ],
          [
           0,
           0,
           0,
           0,
           0,
           0,
           0,
           0,
           0,
           0,
           0,
           0,
           0
          ],
          [
           0,
           0,
           0,
           0,
           0,
           0,
           0,
           0,
           0,
           0,
           0,
           0,
           0
          ],
          [
           0,
           0,
           0,
           0,
           0,
           0,
           0,
           0,
           0,
           0,
           0,
           0,
           0
          ],
          [
           0,
           0,
           0,
           0,
           0,
           0,
           0,
           0,
           0,
           0,
           0,
           0,
           0
          ]
         ]
        }
       ],
       "layout": {
        "annotations": [
         {
          "font": {},
          "showarrow": false,
          "text": "facet_col=0",
          "x": 0.04100000000000001,
          "xanchor": "center",
          "xref": "paper",
          "y": 1,
          "yanchor": "bottom",
          "yref": "paper"
         },
         {
          "font": {},
          "showarrow": false,
          "text": "facet_col=1",
          "x": 0.14300000000000004,
          "xanchor": "center",
          "xref": "paper",
          "y": 1,
          "yanchor": "bottom",
          "yref": "paper"
         },
         {
          "font": {},
          "showarrow": false,
          "text": "facet_col=2",
          "x": 0.24500000000000005,
          "xanchor": "center",
          "xref": "paper",
          "y": 1,
          "yanchor": "bottom",
          "yref": "paper"
         },
         {
          "font": {},
          "showarrow": false,
          "text": "facet_col=3",
          "x": 0.3470000000000001,
          "xanchor": "center",
          "xref": "paper",
          "y": 1,
          "yanchor": "bottom",
          "yref": "paper"
         },
         {
          "font": {},
          "showarrow": false,
          "text": "facet_col=4",
          "x": 0.44900000000000007,
          "xanchor": "center",
          "xref": "paper",
          "y": 1,
          "yanchor": "bottom",
          "yref": "paper"
         },
         {
          "font": {},
          "showarrow": false,
          "text": "facet_col=5",
          "x": 0.5510000000000002,
          "xanchor": "center",
          "xref": "paper",
          "y": 1,
          "yanchor": "bottom",
          "yref": "paper"
         },
         {
          "font": {},
          "showarrow": false,
          "text": "facet_col=6",
          "x": 0.6530000000000001,
          "xanchor": "center",
          "xref": "paper",
          "y": 1,
          "yanchor": "bottom",
          "yref": "paper"
         },
         {
          "font": {},
          "showarrow": false,
          "text": "facet_col=7",
          "x": 0.7550000000000001,
          "xanchor": "center",
          "xref": "paper",
          "y": 1,
          "yanchor": "bottom",
          "yref": "paper"
         },
         {
          "font": {},
          "showarrow": false,
          "text": "facet_col=8",
          "x": 0.8570000000000002,
          "xanchor": "center",
          "xref": "paper",
          "y": 1,
          "yanchor": "bottom",
          "yref": "paper"
         },
         {
          "font": {},
          "showarrow": false,
          "text": "facet_col=9",
          "x": 0.9590000000000002,
          "xanchor": "center",
          "xref": "paper",
          "y": 1,
          "yanchor": "bottom",
          "yref": "paper"
         }
        ],
        "coloraxis": {
         "colorscale": [
          [
           0,
           "#0d0887"
          ],
          [
           0.1111111111111111,
           "#46039f"
          ],
          [
           0.2222222222222222,
           "#7201a8"
          ],
          [
           0.3333333333333333,
           "#9c179e"
          ],
          [
           0.4444444444444444,
           "#bd3786"
          ],
          [
           0.5555555555555556,
           "#d8576b"
          ],
          [
           0.6666666666666666,
           "#ed7953"
          ],
          [
           0.7777777777777778,
           "#fb9f3a"
          ],
          [
           0.8888888888888888,
           "#fdca26"
          ],
          [
           1,
           "#f0f921"
          ]
         ]
        },
        "margin": {
         "t": 60
        },
        "template": {
         "data": {
          "bar": [
           {
            "error_x": {
             "color": "#2a3f5f"
            },
            "error_y": {
             "color": "#2a3f5f"
            },
            "marker": {
             "line": {
              "color": "#E5ECF6",
              "width": 0.5
             },
             "pattern": {
              "fillmode": "overlay",
              "size": 10,
              "solidity": 0.2
             }
            },
            "type": "bar"
           }
          ],
          "barpolar": [
           {
            "marker": {
             "line": {
              "color": "#E5ECF6",
              "width": 0.5
             },
             "pattern": {
              "fillmode": "overlay",
              "size": 10,
              "solidity": 0.2
             }
            },
            "type": "barpolar"
           }
          ],
          "carpet": [
           {
            "aaxis": {
             "endlinecolor": "#2a3f5f",
             "gridcolor": "white",
             "linecolor": "white",
             "minorgridcolor": "white",
             "startlinecolor": "#2a3f5f"
            },
            "baxis": {
             "endlinecolor": "#2a3f5f",
             "gridcolor": "white",
             "linecolor": "white",
             "minorgridcolor": "white",
             "startlinecolor": "#2a3f5f"
            },
            "type": "carpet"
           }
          ],
          "choropleth": [
           {
            "colorbar": {
             "outlinewidth": 0,
             "ticks": ""
            },
            "type": "choropleth"
           }
          ],
          "contour": [
           {
            "colorbar": {
             "outlinewidth": 0,
             "ticks": ""
            },
            "colorscale": [
             [
              0,
              "#0d0887"
             ],
             [
              0.1111111111111111,
              "#46039f"
             ],
             [
              0.2222222222222222,
              "#7201a8"
             ],
             [
              0.3333333333333333,
              "#9c179e"
             ],
             [
              0.4444444444444444,
              "#bd3786"
             ],
             [
              0.5555555555555556,
              "#d8576b"
             ],
             [
              0.6666666666666666,
              "#ed7953"
             ],
             [
              0.7777777777777778,
              "#fb9f3a"
             ],
             [
              0.8888888888888888,
              "#fdca26"
             ],
             [
              1,
              "#f0f921"
             ]
            ],
            "type": "contour"
           }
          ],
          "contourcarpet": [
           {
            "colorbar": {
             "outlinewidth": 0,
             "ticks": ""
            },
            "type": "contourcarpet"
           }
          ],
          "heatmap": [
           {
            "colorbar": {
             "outlinewidth": 0,
             "ticks": ""
            },
            "colorscale": [
             [
              0,
              "#0d0887"
             ],
             [
              0.1111111111111111,
              "#46039f"
             ],
             [
              0.2222222222222222,
              "#7201a8"
             ],
             [
              0.3333333333333333,
              "#9c179e"
             ],
             [
              0.4444444444444444,
              "#bd3786"
             ],
             [
              0.5555555555555556,
              "#d8576b"
             ],
             [
              0.6666666666666666,
              "#ed7953"
             ],
             [
              0.7777777777777778,
              "#fb9f3a"
             ],
             [
              0.8888888888888888,
              "#fdca26"
             ],
             [
              1,
              "#f0f921"
             ]
            ],
            "type": "heatmap"
           }
          ],
          "heatmapgl": [
           {
            "colorbar": {
             "outlinewidth": 0,
             "ticks": ""
            },
            "colorscale": [
             [
              0,
              "#0d0887"
             ],
             [
              0.1111111111111111,
              "#46039f"
             ],
             [
              0.2222222222222222,
              "#7201a8"
             ],
             [
              0.3333333333333333,
              "#9c179e"
             ],
             [
              0.4444444444444444,
              "#bd3786"
             ],
             [
              0.5555555555555556,
              "#d8576b"
             ],
             [
              0.6666666666666666,
              "#ed7953"
             ],
             [
              0.7777777777777778,
              "#fb9f3a"
             ],
             [
              0.8888888888888888,
              "#fdca26"
             ],
             [
              1,
              "#f0f921"
             ]
            ],
            "type": "heatmapgl"
           }
          ],
          "histogram": [
           {
            "marker": {
             "pattern": {
              "fillmode": "overlay",
              "size": 10,
              "solidity": 0.2
             }
            },
            "type": "histogram"
           }
          ],
          "histogram2d": [
           {
            "colorbar": {
             "outlinewidth": 0,
             "ticks": ""
            },
            "colorscale": [
             [
              0,
              "#0d0887"
             ],
             [
              0.1111111111111111,
              "#46039f"
             ],
             [
              0.2222222222222222,
              "#7201a8"
             ],
             [
              0.3333333333333333,
              "#9c179e"
             ],
             [
              0.4444444444444444,
              "#bd3786"
             ],
             [
              0.5555555555555556,
              "#d8576b"
             ],
             [
              0.6666666666666666,
              "#ed7953"
             ],
             [
              0.7777777777777778,
              "#fb9f3a"
             ],
             [
              0.8888888888888888,
              "#fdca26"
             ],
             [
              1,
              "#f0f921"
             ]
            ],
            "type": "histogram2d"
           }
          ],
          "histogram2dcontour": [
           {
            "colorbar": {
             "outlinewidth": 0,
             "ticks": ""
            },
            "colorscale": [
             [
              0,
              "#0d0887"
             ],
             [
              0.1111111111111111,
              "#46039f"
             ],
             [
              0.2222222222222222,
              "#7201a8"
             ],
             [
              0.3333333333333333,
              "#9c179e"
             ],
             [
              0.4444444444444444,
              "#bd3786"
             ],
             [
              0.5555555555555556,
              "#d8576b"
             ],
             [
              0.6666666666666666,
              "#ed7953"
             ],
             [
              0.7777777777777778,
              "#fb9f3a"
             ],
             [
              0.8888888888888888,
              "#fdca26"
             ],
             [
              1,
              "#f0f921"
             ]
            ],
            "type": "histogram2dcontour"
           }
          ],
          "mesh3d": [
           {
            "colorbar": {
             "outlinewidth": 0,
             "ticks": ""
            },
            "type": "mesh3d"
           }
          ],
          "parcoords": [
           {
            "line": {
             "colorbar": {
              "outlinewidth": 0,
              "ticks": ""
             }
            },
            "type": "parcoords"
           }
          ],
          "pie": [
           {
            "automargin": true,
            "type": "pie"
           }
          ],
          "scatter": [
           {
            "fillpattern": {
             "fillmode": "overlay",
             "size": 10,
             "solidity": 0.2
            },
            "type": "scatter"
           }
          ],
          "scatter3d": [
           {
            "line": {
             "colorbar": {
              "outlinewidth": 0,
              "ticks": ""
             }
            },
            "marker": {
             "colorbar": {
              "outlinewidth": 0,
              "ticks": ""
             }
            },
            "type": "scatter3d"
           }
          ],
          "scattercarpet": [
           {
            "marker": {
             "colorbar": {
              "outlinewidth": 0,
              "ticks": ""
             }
            },
            "type": "scattercarpet"
           }
          ],
          "scattergeo": [
           {
            "marker": {
             "colorbar": {
              "outlinewidth": 0,
              "ticks": ""
             }
            },
            "type": "scattergeo"
           }
          ],
          "scattergl": [
           {
            "marker": {
             "colorbar": {
              "outlinewidth": 0,
              "ticks": ""
             }
            },
            "type": "scattergl"
           }
          ],
          "scattermapbox": [
           {
            "marker": {
             "colorbar": {
              "outlinewidth": 0,
              "ticks": ""
             }
            },
            "type": "scattermapbox"
           }
          ],
          "scatterpolar": [
           {
            "marker": {
             "colorbar": {
              "outlinewidth": 0,
              "ticks": ""
             }
            },
            "type": "scatterpolar"
           }
          ],
          "scatterpolargl": [
           {
            "marker": {
             "colorbar": {
              "outlinewidth": 0,
              "ticks": ""
             }
            },
            "type": "scatterpolargl"
           }
          ],
          "scatterternary": [
           {
            "marker": {
             "colorbar": {
              "outlinewidth": 0,
              "ticks": ""
             }
            },
            "type": "scatterternary"
           }
          ],
          "surface": [
           {
            "colorbar": {
             "outlinewidth": 0,
             "ticks": ""
            },
            "colorscale": [
             [
              0,
              "#0d0887"
             ],
             [
              0.1111111111111111,
              "#46039f"
             ],
             [
              0.2222222222222222,
              "#7201a8"
             ],
             [
              0.3333333333333333,
              "#9c179e"
             ],
             [
              0.4444444444444444,
              "#bd3786"
             ],
             [
              0.5555555555555556,
              "#d8576b"
             ],
             [
              0.6666666666666666,
              "#ed7953"
             ],
             [
              0.7777777777777778,
              "#fb9f3a"
             ],
             [
              0.8888888888888888,
              "#fdca26"
             ],
             [
              1,
              "#f0f921"
             ]
            ],
            "type": "surface"
           }
          ],
          "table": [
           {
            "cells": {
             "fill": {
              "color": "#EBF0F8"
             },
             "line": {
              "color": "white"
             }
            },
            "header": {
             "fill": {
              "color": "#C8D4E3"
             },
             "line": {
              "color": "white"
             }
            },
            "type": "table"
           }
          ]
         },
         "layout": {
          "annotationdefaults": {
           "arrowcolor": "#2a3f5f",
           "arrowhead": 0,
           "arrowwidth": 1
          },
          "autotypenumbers": "strict",
          "coloraxis": {
           "colorbar": {
            "outlinewidth": 0,
            "ticks": ""
           }
          },
          "colorscale": {
           "diverging": [
            [
             0,
             "#8e0152"
            ],
            [
             0.1,
             "#c51b7d"
            ],
            [
             0.2,
             "#de77ae"
            ],
            [
             0.3,
             "#f1b6da"
            ],
            [
             0.4,
             "#fde0ef"
            ],
            [
             0.5,
             "#f7f7f7"
            ],
            [
             0.6,
             "#e6f5d0"
            ],
            [
             0.7,
             "#b8e186"
            ],
            [
             0.8,
             "#7fbc41"
            ],
            [
             0.9,
             "#4d9221"
            ],
            [
             1,
             "#276419"
            ]
           ],
           "sequential": [
            [
             0,
             "#0d0887"
            ],
            [
             0.1111111111111111,
             "#46039f"
            ],
            [
             0.2222222222222222,
             "#7201a8"
            ],
            [
             0.3333333333333333,
             "#9c179e"
            ],
            [
             0.4444444444444444,
             "#bd3786"
            ],
            [
             0.5555555555555556,
             "#d8576b"
            ],
            [
             0.6666666666666666,
             "#ed7953"
            ],
            [
             0.7777777777777778,
             "#fb9f3a"
            ],
            [
             0.8888888888888888,
             "#fdca26"
            ],
            [
             1,
             "#f0f921"
            ]
           ],
           "sequentialminus": [
            [
             0,
             "#0d0887"
            ],
            [
             0.1111111111111111,
             "#46039f"
            ],
            [
             0.2222222222222222,
             "#7201a8"
            ],
            [
             0.3333333333333333,
             "#9c179e"
            ],
            [
             0.4444444444444444,
             "#bd3786"
            ],
            [
             0.5555555555555556,
             "#d8576b"
            ],
            [
             0.6666666666666666,
             "#ed7953"
            ],
            [
             0.7777777777777778,
             "#fb9f3a"
            ],
            [
             0.8888888888888888,
             "#fdca26"
            ],
            [
             1,
             "#f0f921"
            ]
           ]
          },
          "colorway": [
           "#636efa",
           "#EF553B",
           "#00cc96",
           "#ab63fa",
           "#FFA15A",
           "#19d3f3",
           "#FF6692",
           "#B6E880",
           "#FF97FF",
           "#FECB52"
          ],
          "font": {
           "color": "#2a3f5f"
          },
          "geo": {
           "bgcolor": "white",
           "lakecolor": "white",
           "landcolor": "#E5ECF6",
           "showlakes": true,
           "showland": true,
           "subunitcolor": "white"
          },
          "hoverlabel": {
           "align": "left"
          },
          "hovermode": "closest",
          "mapbox": {
           "style": "light"
          },
          "paper_bgcolor": "white",
          "plot_bgcolor": "#E5ECF6",
          "polar": {
           "angularaxis": {
            "gridcolor": "white",
            "linecolor": "white",
            "ticks": ""
           },
           "bgcolor": "#E5ECF6",
           "radialaxis": {
            "gridcolor": "white",
            "linecolor": "white",
            "ticks": ""
           }
          },
          "scene": {
           "xaxis": {
            "backgroundcolor": "#E5ECF6",
            "gridcolor": "white",
            "gridwidth": 2,
            "linecolor": "white",
            "showbackground": true,
            "ticks": "",
            "zerolinecolor": "white"
           },
           "yaxis": {
            "backgroundcolor": "#E5ECF6",
            "gridcolor": "white",
            "gridwidth": 2,
            "linecolor": "white",
            "showbackground": true,
            "ticks": "",
            "zerolinecolor": "white"
           },
           "zaxis": {
            "backgroundcolor": "#E5ECF6",
            "gridcolor": "white",
            "gridwidth": 2,
            "linecolor": "white",
            "showbackground": true,
            "ticks": "",
            "zerolinecolor": "white"
           }
          },
          "shapedefaults": {
           "line": {
            "color": "#2a3f5f"
           }
          },
          "ternary": {
           "aaxis": {
            "gridcolor": "white",
            "linecolor": "white",
            "ticks": ""
           },
           "baxis": {
            "gridcolor": "white",
            "linecolor": "white",
            "ticks": ""
           },
           "bgcolor": "#E5ECF6",
           "caxis": {
            "gridcolor": "white",
            "linecolor": "white",
            "ticks": ""
           }
          },
          "title": {
           "x": 0.05
          },
          "xaxis": {
           "automargin": true,
           "gridcolor": "white",
           "linecolor": "white",
           "ticks": "",
           "title": {
            "standoff": 15
           },
           "zerolinecolor": "white",
           "zerolinewidth": 2
          },
          "yaxis": {
           "automargin": true,
           "gridcolor": "white",
           "linecolor": "white",
           "ticks": "",
           "title": {
            "standoff": 15
           },
           "zerolinecolor": "white",
           "zerolinewidth": 2
          }
         }
        },
        "xaxis": {
         "anchor": "y",
         "constrain": "domain",
         "domain": [
          0,
          0.08200000000000002
         ],
         "scaleanchor": "y"
        },
        "xaxis10": {
         "anchor": "y10",
         "domain": [
          0.9180000000000001,
          1
         ],
         "matches": "x"
        },
        "xaxis2": {
         "anchor": "y2",
         "domain": [
          0.10200000000000002,
          0.18400000000000005
         ],
         "matches": "x"
        },
        "xaxis3": {
         "anchor": "y3",
         "domain": [
          0.20400000000000004,
          0.28600000000000003
         ],
         "matches": "x"
        },
        "xaxis4": {
         "anchor": "y4",
         "domain": [
          0.30600000000000005,
          0.38800000000000007
         ],
         "matches": "x"
        },
        "xaxis5": {
         "anchor": "y5",
         "domain": [
          0.4080000000000001,
          0.4900000000000001
         ],
         "matches": "x"
        },
        "xaxis6": {
         "anchor": "y6",
         "domain": [
          0.5100000000000001,
          0.5920000000000001
         ],
         "matches": "x"
        },
        "xaxis7": {
         "anchor": "y7",
         "domain": [
          0.6120000000000001,
          0.6940000000000002
         ],
         "matches": "x"
        },
        "xaxis8": {
         "anchor": "y8",
         "domain": [
          0.7140000000000001,
          0.796
         ],
         "matches": "x"
        },
        "xaxis9": {
         "anchor": "y9",
         "domain": [
          0.8160000000000002,
          0.8980000000000001
         ],
         "matches": "x"
        },
        "yaxis": {
         "anchor": "x",
         "autorange": "reversed",
         "constrain": "domain",
         "domain": [
          0,
          1
         ]
        },
        "yaxis10": {
         "anchor": "x10",
         "domain": [
          0,
          1
         ],
         "matches": "y",
         "showticklabels": false
        },
        "yaxis2": {
         "anchor": "x2",
         "domain": [
          0,
          1
         ],
         "matches": "y",
         "showticklabels": false
        },
        "yaxis3": {
         "anchor": "x3",
         "domain": [
          0,
          1
         ],
         "matches": "y",
         "showticklabels": false
        },
        "yaxis4": {
         "anchor": "x4",
         "domain": [
          0,
          1
         ],
         "matches": "y",
         "showticklabels": false
        },
        "yaxis5": {
         "anchor": "x5",
         "domain": [
          0,
          1
         ],
         "matches": "y",
         "showticklabels": false
        },
        "yaxis6": {
         "anchor": "x6",
         "domain": [
          0,
          1
         ],
         "matches": "y",
         "showticklabels": false
        },
        "yaxis7": {
         "anchor": "x7",
         "domain": [
          0,
          1
         ],
         "matches": "y",
         "showticklabels": false
        },
        "yaxis8": {
         "anchor": "x8",
         "domain": [
          0,
          1
         ],
         "matches": "y",
         "showticklabels": false
        },
        "yaxis9": {
         "anchor": "x9",
         "domain": [
          0,
          1
         ],
         "matches": "y",
         "showticklabels": false
        }
       }
      }
     },
     "metadata": {},
     "output_type": "display_data"
    },
    {
     "ename": "",
     "evalue": "",
     "output_type": "error",
     "traceback": [
      "\u001b[1;31mnotebook controller is DISPOSED. \n",
      "\u001b[1;31mView Jupyter <a href='command:jupyter.viewOutput'>log</a> for further details."
     ]
    },
    {
     "ename": "",
     "evalue": "",
     "output_type": "error",
     "traceback": [
      "\u001b[1;31mnotebook controller is DISPOSED. \n",
      "\u001b[1;31mView Jupyter <a href='command:jupyter.viewOutput'>log</a> for further details."
     ]
    }
   ],
   "source": [
    "imgs = x_train[:1000]\n",
    "convs =  reduce(lambda x, l: l.forward(x), nn[:4], imgs) #nn[1].forward(nn[0].forward(img))\n",
    "convs.shape\n",
    "px.imshow(convs[TARGET_IMG], facet_col=2, facet_col_wrap=10)"
   ]
  },
  {
   "cell_type": "code",
   "execution_count": 50,
   "metadata": {},
   "outputs": [
    {
     "data": {
      "text/plain": [
       "array([ 7719.74183977,  8931.58709477, 10115.75223513,  9194.23981924,\n",
       "        8602.83988914,  7674.09249867,  4996.55641602, 10728.88280182,\n",
       "       10886.05589166,  5669.60871381])"
      ]
     },
     "execution_count": 50,
     "metadata": {},
     "output_type": "execute_result"
    },
    {
     "ename": "",
     "evalue": "",
     "output_type": "error",
     "traceback": [
      "\u001b[1;31mnotebook controller is DISPOSED. \n",
      "\u001b[1;31mView Jupyter <a href='command:jupyter.viewOutput'>log</a> for further details."
     ]
    },
    {
     "ename": "",
     "evalue": "",
     "output_type": "error",
     "traceback": [
      "\u001b[1;31mnotebook controller is DISPOSED. \n",
      "\u001b[1;31mView Jupyter <a href='command:jupyter.viewOutput'>log</a> for further details."
     ]
    }
   ],
   "source": [
    "convs.sum(axis=(0, 1, 2))"
   ]
  },
  {
   "cell_type": "code",
   "execution_count": 51,
   "metadata": {},
   "outputs": [
    {
     "data": {
      "text/plain": [
       "array([-8.60164992e+01, -1.18365224e+02, -2.32756473e+01, -6.25690387e+01,\n",
       "       -2.28385667e+00, -2.81551023e+01, -1.15327951e+02, -7.76404920e+01,\n",
       "       -9.07740285e+01, -2.05771979e+01, -3.38352490e+01, -9.07732004e+01,\n",
       "       -9.48983579e+01, -1.94305021e+01,  2.07848614e+02, -7.46897649e+01,\n",
       "        3.33579168e+02, -2.35657362e+01, -1.34667598e+02, -3.40132722e+01,\n",
       "       -1.31026879e+02, -2.31315062e+01, -5.28386016e+01, -3.80135423e+01,\n",
       "       -7.09538485e+01, -2.25460797e+01, -1.26517255e+02, -1.13663198e+02,\n",
       "       -6.58836027e+01,  5.50391863e+01, -5.52291037e+01, -2.78577127e+01,\n",
       "       -2.67129279e+01, -6.63689766e+01, -5.41602931e+01, -1.71797327e+01,\n",
       "       -1.30976866e+02, -1.80078864e+02, -2.19202188e+01, -3.62954397e+01,\n",
       "       -2.20648117e+01, -2.25367607e+01, -3.98178803e+01, -2.92110303e+01,\n",
       "       -4.26180175e+01, -1.03067172e+02, -2.24610579e+01, -6.10107673e+01,\n",
       "       -4.07890550e+01,  6.64278020e+01, -3.35255030e+01,  3.71562275e+02,\n",
       "        3.15453257e+03,  3.85456155e+03, -1.10187926e+02, -1.16292966e+02,\n",
       "        3.76632549e+02, -1.53584431e+01, -1.27772584e+02, -2.05867852e+01,\n",
       "       -2.94272614e+01, -3.15444007e+01, -1.58729538e+01, -1.97048254e+01,\n",
       "       -1.22838310e+02,  1.10512396e+02, -5.69554319e+01,  2.03099772e+02,\n",
       "       -1.57141851e+02, -2.54824686e+01, -3.08112332e+01, -2.14568177e+01,\n",
       "       -3.02367980e+01,  1.99868043e+02, -1.13477358e+02, -3.53765949e+01,\n",
       "       -4.72848560e+01,  3.50332439e+02, -3.96542357e+01, -2.07828220e+01,\n",
       "       -1.16619895e+02, -4.29393526e+01, -9.72660500e+01, -4.84055390e+01,\n",
       "       -1.35856011e+02, -2.03374977e+02, -4.54899121e+01, -7.31901880e+01,\n",
       "       -1.98860392e+01, -1.83334633e+01, -4.05549595e+01, -3.24085944e+01,\n",
       "       -7.45510379e+01, -2.03526046e+01, -1.14423705e+02,  5.99980420e+02,\n",
       "       -2.30122370e+01, -6.81117647e+01, -1.97009386e+01, -7.84006591e+01,\n",
       "       -9.54605500e+01, -1.01277752e+02, -3.38095453e+01, -3.26369861e+01,\n",
       "       -6.75936949e+01, -3.70833850e+01, -3.25788453e+01, -2.10144522e+01,\n",
       "       -2.33980490e+01, -8.48980012e+01, -1.71383142e+01,  8.47418804e+02,\n",
       "       -4.18699023e+01, -2.37356149e+01,  1.30938794e+02, -9.45665283e+01,\n",
       "       -1.55941746e+02, -2.48206865e+01, -2.52356865e+01, -1.68268570e+02,\n",
       "       -2.23435902e+01, -1.28870348e+02, -2.62735415e+02, -4.00714167e+01,\n",
       "       -1.14218677e+02, -2.26512395e+01, -1.21484998e+02, -1.12269823e+02,\n",
       "       -1.08123392e+02, -3.69057321e+01, -8.31205441e+01, -2.76590823e+01,\n",
       "        1.85926598e+03, -3.78953462e+01, -7.87076582e+01, -1.91859697e+01,\n",
       "       -4.34115586e+01,  3.91203805e+02, -1.05781522e+02, -2.21426762e+02,\n",
       "        1.39369155e+02, -1.69614136e+02, -1.87408596e+01,  4.92985658e-01,\n",
       "       -2.49660542e+01, -1.79144484e+01, -5.50505853e+01, -4.53925902e+01,\n",
       "        9.21358162e+01, -1.02776381e+02,  9.83439203e+01, -4.19719034e+01,\n",
       "       -8.45522457e+01, -3.34884179e+01, -3.97486256e+01, -3.24437037e+01,\n",
       "        2.52036755e+02,  5.02320209e+02, -2.19213296e+01, -9.07802474e+01,\n",
       "       -7.11020073e+01,  8.52437263e+02, -3.92032547e+01, -9.37197271e+01,\n",
       "        5.03040601e+01,  1.04394460e+02, -2.04468048e+01, -3.33639888e+01,\n",
       "       -2.01761823e+01, -3.92358960e+01, -8.70406019e+01, -2.53151817e+01,\n",
       "       -4.07062518e+01,  3.23211823e+01, -4.53510962e+01, -2.31455237e+01,\n",
       "       -3.96246093e+01, -6.93372082e+01, -3.57515037e+01, -4.52202407e+01,\n",
       "       -3.08596287e+01, -3.20823531e+01, -4.52808750e+01, -2.20177324e+01,\n",
       "       -1.62368897e+02, -7.97796783e+01, -4.78691988e+01, -7.25593900e+01,\n",
       "       -7.67120200e+01, -4.72043168e+01, -1.49531443e+02, -6.25722848e+01,\n",
       "       -7.62744005e+01, -1.21335494e+02, -9.10666763e+01, -4.22004835e+01,\n",
       "       -1.33440077e+02, -3.99958621e+01, -1.74455417e+01, -1.78101581e+02,\n",
       "       -1.42435745e+02, -5.05378363e+01, -2.52031764e+01, -9.89924975e+01,\n",
       "       -7.12770220e+01, -1.27556803e+02, -9.51376203e+01, -3.33864122e+01,\n",
       "       -3.04814527e+01, -1.50688955e+02, -5.98964296e+01, -1.77958350e+01,\n",
       "       -6.66694968e+01, -3.38046216e+01, -3.29979613e+01, -5.61280312e+01,\n",
       "       -2.41551963e+01, -4.98477188e+01, -3.94335522e+01, -4.02392132e+01,\n",
       "        3.55873547e+02, -2.10642283e+01,  2.26144844e+03, -1.84741090e+01,\n",
       "       -1.14756849e+02, -3.44038505e+01, -2.20506351e+02, -2.63957201e+01,\n",
       "       -3.47371705e+01,  7.47569726e+02, -8.41546862e+01, -4.82496939e+01,\n",
       "       -1.22552905e+02, -1.56765896e+01, -4.01543155e+01,  1.07269819e+03,\n",
       "       -4.33890251e+01, -2.81898343e+01, -4.23603608e+01,  6.14262293e+02,\n",
       "       -3.28119078e+01, -6.72116791e+01, -1.47936458e+01, -3.32951935e+01,\n",
       "        4.55709046e+02, -1.50107105e+01, -8.25212355e+01, -4.06315698e+01,\n",
       "       -8.23268929e+01, -2.28854258e+01, -1.82179538e+01, -3.66515137e+01,\n",
       "       -5.36222745e+01, -1.80942204e+01, -4.67631664e+01,  6.90000148e+02,\n",
       "       -3.41187119e+01, -2.18220759e+01, -3.93544708e+01, -2.32195765e+01,\n",
       "       -2.48589109e+01, -2.84189446e+01, -4.09509329e+01, -1.75528970e+02,\n",
       "       -3.33821683e+01, -1.41715901e+01,  4.62279886e+02, -5.69955784e+01,\n",
       "       -1.74815841e+02, -6.29055338e+01, -1.47955108e+02, -3.37924361e+01,\n",
       "       -3.75998646e+01,  4.13434841e+02, -5.15978728e+01, -4.01631449e+01,\n",
       "        1.41598766e+02, -5.16059733e+01, -2.47452524e+01,  2.23767059e+03,\n",
       "       -3.24233471e+01, -8.14299986e+01, -3.41708101e+01,  1.06239740e+03,\n",
       "       -3.57397322e+01, -2.27127485e+01, -8.72685115e+01, -5.87589955e+01,\n",
       "       -2.10220906e+01, -1.87299237e+01, -5.42963291e+01, -1.02565626e+02,\n",
       "        7.81516930e+01, -2.21942206e+01, -3.31556976e+01, -2.57888259e+01,\n",
       "       -1.45646453e+01, -7.19210671e+01,  2.88170766e+02, -1.09015617e+02])"
      ]
     },
     "execution_count": 51,
     "metadata": {},
     "output_type": "execute_result"
    },
    {
     "ename": "",
     "evalue": "",
     "output_type": "error",
     "traceback": [
      "\u001b[1;31mnotebook controller is DISPOSED. \n",
      "\u001b[1;31mView Jupyter <a href='command:jupyter.viewOutput'>log</a> for further details."
     ]
    },
    {
     "ename": "",
     "evalue": "",
     "output_type": "error",
     "traceback": [
      "\u001b[1;31mnotebook controller is DISPOSED. \n",
      "\u001b[1;31mView Jupyter <a href='command:jupyter.viewOutput'>log</a> for further details."
     ]
    }
   ],
   "source": [
    "activations = reduce(lambda x, l: l.forward(x), nn[:7], imgs) #nn[1].forward(nn[0].forward(img))\n",
    "activations.sum(axis=(0))"
   ]
  },
  {
   "cell_type": "code",
   "execution_count": 52,
   "metadata": {},
   "outputs": [
    {
     "data": {
      "text/plain": [
       "(1, 13, 13, 10)"
      ]
     },
     "execution_count": 52,
     "metadata": {},
     "output_type": "execute_result"
    },
    {
     "ename": "",
     "evalue": "",
     "output_type": "error",
     "traceback": [
      "\u001b[1;31mnotebook controller is DISPOSED. \n",
      "\u001b[1;31mView Jupyter <a href='command:jupyter.viewOutput'>log</a> for further details."
     ]
    },
    {
     "ename": "",
     "evalue": "",
     "output_type": "error",
     "traceback": [
      "\u001b[1;31mnotebook controller is DISPOSED. \n",
      "\u001b[1;31mView Jupyter <a href='command:jupyter.viewOutput'>log</a> for further details."
     ]
    }
   ],
   "source": [
    "convs[[250]].shape"
   ]
  },
  {
   "cell_type": "code",
   "execution_count": 53,
   "metadata": {},
   "outputs": [
    {
     "data": {
      "application/vnd.plotly.v1+json": {
       "config": {
        "plotlyServerURL": "https://plot.ly"
       },
       "data": [
        {
         "hovertemplate": "x: %{x}<br>y: %{y}<extra></extra>",
         "name": "0",
         "source": "data:image/png;base64,iVBORw0KGgoAAAANSUhEUgAAAAcAAAAHCAIAAABLMMCEAAAApUlEQVR4XgGaAGX/AZh+p+zy5ywpEfD39/8NEO30/hwYFwT+Afb9A/nq8+3y+/bx9ev18vzy7OQE9fz59PjwAwMQCgH+/wL+B/767ubwBAobIPX58fsLEhUOBjUiGfXv9/35AgTm+PXt/fyzzNb7+/McFQ0Q9f8fDxUEGREDBRMh+PsX1NbS+PL29vMBy9XTBAvv3g4dECIsJDxAJvj/FP/hAOvX1j9EWNWYaA4OAAAAAElFTkSuQmCC",
         "type": "image",
         "xaxis": "x",
         "yaxis": "y"
        },
        {
         "hovertemplate": "x: %{x}<br>y: %{y}<extra></extra>",
         "name": "1",
         "source": "data:image/png;base64,iVBORw0KGgoAAAANSUhEUgAAAAcAAAAHCAIAAABLMMCEAAAAlklEQVR4XgXBSw6CMBQAwPb1WSpIgQUSoyvi2byCl/FmbnRhDBgbPrVA6McZer3clJVZta9P/JB9YH4QfcdGlKQ4Q04NtP08kN8wqy/6Y+1JrtdXStRoWuY6LjjEW4HMMjLRpbNaIV2SCFDot0wS5szUNuD6quA5rijZkO5C5Naxs8FYRxCEQDI+uSx5mPKYetgA8jH4P1E8Q3ECUG9SAAAAAElFTkSuQmCC",
         "type": "image",
         "xaxis": "x2",
         "yaxis": "y2"
        },
        {
         "hovertemplate": "x: %{x}<br>y: %{y}<extra></extra>",
         "name": "2",
         "source": "data:image/png;base64,iVBORw0KGgoAAAANSUhEUgAAAAcAAAAHCAIAAABLMMCEAAAAiUlEQVR4XgXBURKCIBAA0IVdZbEZdPywDt1vp+lC1dgYqCgo0HvieX+IPBvNYQkHgS0oOkPZv5z92oJ2FVGjJwnTSJ/Vu1wH2doW0oWkktQo8v3glDm6myeABiFtQgC55vrWemO2MaUdQkRTVTQRL6Qg17iXM6cEJRSmeVx2HbEq6+8sLBVjz/Ufav1Fg1cdvasAAAAASUVORK5CYII=",
         "type": "image",
         "xaxis": "x3",
         "yaxis": "y3"
        },
        {
         "hovertemplate": "x: %{x}<br>y: %{y}<extra></extra>",
         "name": "3",
         "source": "data:image/png;base64,iVBORw0KGgoAAAANSUhEUgAAAAcAAAAHCAIAAABLMMCEAAAApUlEQVR4XgGaAGX/AXKWeBH+8BgG+xMPGvn4FdHV+RoMFAQGBAU8ODUZDxHV1/LH0OH08wEXCPcEGSMd3fAEorbX4NvpCQICSDcsE/n9Ahn1+sGarNKjuv70Ajo/MigvGQ0PBQTv2/gUECdud0AWFhP+9e7eudTu6vgE5NbtHyEnCwQH7+Dj8ebh6uPs+gkUBBEKHBoKEOjW1Pv09Q4KBx4mIfUFEd6NRlfsox4fAAAAAElFTkSuQmCC",
         "type": "image",
         "xaxis": "x4",
         "yaxis": "y4"
        },
        {
         "hovertemplate": "x: %{x}<br>y: %{y}<extra></extra>",
         "name": "4",
         "source": "data:image/png;base64,iVBORw0KGgoAAAANSUhEUgAAAAcAAAAHCAIAAABLMMCEAAAApUlEQVR4XgGaAGX/Aatxmf//8SUWA/jz9P8LCPPs6BQMCATq/QLw9AEDExIBAw778vb17gPr6vQE/hQE6PYABPwCHRwcDP4B//0GBfv1AhkTBunn48nL1t7d4vr3/gUFESIjJAQWFg0sKx+/zuHBt8LcAwUcGA/i5hEE9QX0KDwk+RgL6+fi9+rp5gD14gABBN//9wEDBQkfEQ4RAP4dFAcLAioqJrDFRThDjTw8AAAAAElFTkSuQmCC",
         "type": "image",
         "xaxis": "x5",
         "yaxis": "y5"
        },
        {
         "hovertemplate": "x: %{x}<br>y: %{y}<extra></extra>",
         "name": "5",
         "source": "data:image/png;base64,iVBORw0KGgoAAAANSUhEUgAAAAcAAAAHCAIAAABLMMCEAAAApUlEQVR4XgGaAGX/AZS5ofn3/QD1+PHn8+Tk8BIP/hcbAALFvtL97PUjCA1CJiY6JikNAhPz7wQCA/Ls2dHY1M7l/PQDJxkZIhsa//8IBDQZCt/p9uPj6AMCESgmHiQgG/wK+QQUDAX+AP/l/v/m6esOFxgCDAX+/wQCBP8ACwUEIxoUEQwF5vDu5vb9AAAGBOr8BO/5/BMKAwUHAOvy9gPq+BUF/4dPRncdVTxiAAAAAElFTkSuQmCC",
         "type": "image",
         "xaxis": "x6",
         "yaxis": "y6"
        },
        {
         "hovertemplate": "x: %{x}<br>y: %{y}<extra></extra>",
         "name": "6",
         "source": "data:image/png;base64,iVBORw0KGgoAAAANSUhEUgAAAAcAAAAHCAIAAABLMMCEAAAApUlEQVR4XgGaAGX/Abmcl9Hd6w4KBxoUD87e8u7x91k/HgTU9fbg+/sgCxACBgjpCfoECAXxDw4E8A0O+xgJ6woM+woM6wn++/f43vsABOcAAu4KBvMIBAIRCPLoBAUA//788AT66en/+wH1BQLr9OMK7/cZ/vwk8wwEex4O5u38FgT/Cw389AcM+vT8MQ4MBPna6f3v+gMKAuj899f0AP8DBe7w9S1rTYZDwHk+AAAAAElFTkSuQmCC",
         "type": "image",
         "xaxis": "x7",
         "yaxis": "y7"
        },
        {
         "hovertemplate": "x: %{x}<br>y: %{y}<extra></extra>",
         "name": "7",
         "source": "data:image/png;base64,iVBORw0KGgoAAAANSUhEUgAAAAcAAAAHCAIAAABLMMCEAAAAoElEQVR4XgXBuw6CMBQAUHtbaXkLgkQkhrg5+Kdu/oL/4+Di4KIJr9AggopYHp6D9scDSuoZB0XoP+gz+lE3MiTTJw3NzsA3nhDfbCyJSz1UdbbwHZXK19PFcR3GMOpbmDw6V1s1BYnP2XIekhEN7xI8qlOBy2/X2hpSKRmxjADYoEb3tB3rYOdHefpqxCAwUObFvKS2tN4GeVUIBIph/QGyHUH/tSJuggAAAABJRU5ErkJggg==",
         "type": "image",
         "xaxis": "x8",
         "yaxis": "y8"
        },
        {
         "hovertemplate": "x: %{x}<br>y: %{y}<extra></extra>",
         "name": "8",
         "source": "data:image/png;base64,iVBORw0KGgoAAAANSUhEUgAAAAcAAAAHCAIAAABLMMCEAAAAhElEQVR4XgXBAQ7CIAwAwNJW2IBMF838q4lf8It+YVncKDCKd+bzes+6M7LE5Tve15vfVHkmmGisGDQsC850NIeFpbB1Fxee6h7jD4LkvRVGE/wQM7kkue9nlCxg+DpNCNRra8fKm8IBziCD1JxSG9CcaqX5jJU8a06k2gtSV2u6ZYqkf2C9QkdDJ5tdAAAAAElFTkSuQmCC",
         "type": "image",
         "xaxis": "x9",
         "yaxis": "y9"
        },
        {
         "hovertemplate": "x: %{x}<br>y: %{y}<extra></extra>",
         "name": "9",
         "source": "data:image/png;base64,iVBORw0KGgoAAAANSUhEUgAAAAcAAAAHCAIAAABLMMCEAAAAnElEQVR4XgXBSQ6CMBQAUFp+W8IUFFyZmGjiwpUJJt7CG3gMz+uGsFAGU6aWDuB76PV8nO55cj7awdGjqotyKD+wz2+7y1WIRQmJiZceKEUUDGFV08mK21GBvwnSlG0dHGQ+ULWiXskOs7XnHEIfrEREj+bXelEWJrHVyBqN9YyXxfXiiDBCCACFb82BWkwWeBcTCtzWVLMQTT39ARubR9xX7IQLAAAAAElFTkSuQmCC",
         "type": "image",
         "xaxis": "x10",
         "yaxis": "y10"
        }
       ],
       "layout": {
        "annotations": [
         {
          "font": {},
          "showarrow": false,
          "text": "facet_col=0",
          "x": 0.04100000000000001,
          "xanchor": "center",
          "xref": "paper",
          "y": 1,
          "yanchor": "bottom",
          "yref": "paper"
         },
         {
          "font": {},
          "showarrow": false,
          "text": "facet_col=1",
          "x": 0.14300000000000004,
          "xanchor": "center",
          "xref": "paper",
          "y": 1,
          "yanchor": "bottom",
          "yref": "paper"
         },
         {
          "font": {},
          "showarrow": false,
          "text": "facet_col=2",
          "x": 0.24500000000000005,
          "xanchor": "center",
          "xref": "paper",
          "y": 1,
          "yanchor": "bottom",
          "yref": "paper"
         },
         {
          "font": {},
          "showarrow": false,
          "text": "facet_col=3",
          "x": 0.3470000000000001,
          "xanchor": "center",
          "xref": "paper",
          "y": 1,
          "yanchor": "bottom",
          "yref": "paper"
         },
         {
          "font": {},
          "showarrow": false,
          "text": "facet_col=4",
          "x": 0.44900000000000007,
          "xanchor": "center",
          "xref": "paper",
          "y": 1,
          "yanchor": "bottom",
          "yref": "paper"
         },
         {
          "font": {},
          "showarrow": false,
          "text": "facet_col=5",
          "x": 0.5510000000000002,
          "xanchor": "center",
          "xref": "paper",
          "y": 1,
          "yanchor": "bottom",
          "yref": "paper"
         },
         {
          "font": {},
          "showarrow": false,
          "text": "facet_col=6",
          "x": 0.6530000000000001,
          "xanchor": "center",
          "xref": "paper",
          "y": 1,
          "yanchor": "bottom",
          "yref": "paper"
         },
         {
          "font": {},
          "showarrow": false,
          "text": "facet_col=7",
          "x": 0.7550000000000001,
          "xanchor": "center",
          "xref": "paper",
          "y": 1,
          "yanchor": "bottom",
          "yref": "paper"
         },
         {
          "font": {},
          "showarrow": false,
          "text": "facet_col=8",
          "x": 0.8570000000000002,
          "xanchor": "center",
          "xref": "paper",
          "y": 1,
          "yanchor": "bottom",
          "yref": "paper"
         },
         {
          "font": {},
          "showarrow": false,
          "text": "facet_col=9",
          "x": 0.9590000000000002,
          "xanchor": "center",
          "xref": "paper",
          "y": 1,
          "yanchor": "bottom",
          "yref": "paper"
         }
        ],
        "margin": {
         "t": 60
        },
        "template": {
         "data": {
          "bar": [
           {
            "error_x": {
             "color": "#2a3f5f"
            },
            "error_y": {
             "color": "#2a3f5f"
            },
            "marker": {
             "line": {
              "color": "#E5ECF6",
              "width": 0.5
             },
             "pattern": {
              "fillmode": "overlay",
              "size": 10,
              "solidity": 0.2
             }
            },
            "type": "bar"
           }
          ],
          "barpolar": [
           {
            "marker": {
             "line": {
              "color": "#E5ECF6",
              "width": 0.5
             },
             "pattern": {
              "fillmode": "overlay",
              "size": 10,
              "solidity": 0.2
             }
            },
            "type": "barpolar"
           }
          ],
          "carpet": [
           {
            "aaxis": {
             "endlinecolor": "#2a3f5f",
             "gridcolor": "white",
             "linecolor": "white",
             "minorgridcolor": "white",
             "startlinecolor": "#2a3f5f"
            },
            "baxis": {
             "endlinecolor": "#2a3f5f",
             "gridcolor": "white",
             "linecolor": "white",
             "minorgridcolor": "white",
             "startlinecolor": "#2a3f5f"
            },
            "type": "carpet"
           }
          ],
          "choropleth": [
           {
            "colorbar": {
             "outlinewidth": 0,
             "ticks": ""
            },
            "type": "choropleth"
           }
          ],
          "contour": [
           {
            "colorbar": {
             "outlinewidth": 0,
             "ticks": ""
            },
            "colorscale": [
             [
              0,
              "#0d0887"
             ],
             [
              0.1111111111111111,
              "#46039f"
             ],
             [
              0.2222222222222222,
              "#7201a8"
             ],
             [
              0.3333333333333333,
              "#9c179e"
             ],
             [
              0.4444444444444444,
              "#bd3786"
             ],
             [
              0.5555555555555556,
              "#d8576b"
             ],
             [
              0.6666666666666666,
              "#ed7953"
             ],
             [
              0.7777777777777778,
              "#fb9f3a"
             ],
             [
              0.8888888888888888,
              "#fdca26"
             ],
             [
              1,
              "#f0f921"
             ]
            ],
            "type": "contour"
           }
          ],
          "contourcarpet": [
           {
            "colorbar": {
             "outlinewidth": 0,
             "ticks": ""
            },
            "type": "contourcarpet"
           }
          ],
          "heatmap": [
           {
            "colorbar": {
             "outlinewidth": 0,
             "ticks": ""
            },
            "colorscale": [
             [
              0,
              "#0d0887"
             ],
             [
              0.1111111111111111,
              "#46039f"
             ],
             [
              0.2222222222222222,
              "#7201a8"
             ],
             [
              0.3333333333333333,
              "#9c179e"
             ],
             [
              0.4444444444444444,
              "#bd3786"
             ],
             [
              0.5555555555555556,
              "#d8576b"
             ],
             [
              0.6666666666666666,
              "#ed7953"
             ],
             [
              0.7777777777777778,
              "#fb9f3a"
             ],
             [
              0.8888888888888888,
              "#fdca26"
             ],
             [
              1,
              "#f0f921"
             ]
            ],
            "type": "heatmap"
           }
          ],
          "heatmapgl": [
           {
            "colorbar": {
             "outlinewidth": 0,
             "ticks": ""
            },
            "colorscale": [
             [
              0,
              "#0d0887"
             ],
             [
              0.1111111111111111,
              "#46039f"
             ],
             [
              0.2222222222222222,
              "#7201a8"
             ],
             [
              0.3333333333333333,
              "#9c179e"
             ],
             [
              0.4444444444444444,
              "#bd3786"
             ],
             [
              0.5555555555555556,
              "#d8576b"
             ],
             [
              0.6666666666666666,
              "#ed7953"
             ],
             [
              0.7777777777777778,
              "#fb9f3a"
             ],
             [
              0.8888888888888888,
              "#fdca26"
             ],
             [
              1,
              "#f0f921"
             ]
            ],
            "type": "heatmapgl"
           }
          ],
          "histogram": [
           {
            "marker": {
             "pattern": {
              "fillmode": "overlay",
              "size": 10,
              "solidity": 0.2
             }
            },
            "type": "histogram"
           }
          ],
          "histogram2d": [
           {
            "colorbar": {
             "outlinewidth": 0,
             "ticks": ""
            },
            "colorscale": [
             [
              0,
              "#0d0887"
             ],
             [
              0.1111111111111111,
              "#46039f"
             ],
             [
              0.2222222222222222,
              "#7201a8"
             ],
             [
              0.3333333333333333,
              "#9c179e"
             ],
             [
              0.4444444444444444,
              "#bd3786"
             ],
             [
              0.5555555555555556,
              "#d8576b"
             ],
             [
              0.6666666666666666,
              "#ed7953"
             ],
             [
              0.7777777777777778,
              "#fb9f3a"
             ],
             [
              0.8888888888888888,
              "#fdca26"
             ],
             [
              1,
              "#f0f921"
             ]
            ],
            "type": "histogram2d"
           }
          ],
          "histogram2dcontour": [
           {
            "colorbar": {
             "outlinewidth": 0,
             "ticks": ""
            },
            "colorscale": [
             [
              0,
              "#0d0887"
             ],
             [
              0.1111111111111111,
              "#46039f"
             ],
             [
              0.2222222222222222,
              "#7201a8"
             ],
             [
              0.3333333333333333,
              "#9c179e"
             ],
             [
              0.4444444444444444,
              "#bd3786"
             ],
             [
              0.5555555555555556,
              "#d8576b"
             ],
             [
              0.6666666666666666,
              "#ed7953"
             ],
             [
              0.7777777777777778,
              "#fb9f3a"
             ],
             [
              0.8888888888888888,
              "#fdca26"
             ],
             [
              1,
              "#f0f921"
             ]
            ],
            "type": "histogram2dcontour"
           }
          ],
          "mesh3d": [
           {
            "colorbar": {
             "outlinewidth": 0,
             "ticks": ""
            },
            "type": "mesh3d"
           }
          ],
          "parcoords": [
           {
            "line": {
             "colorbar": {
              "outlinewidth": 0,
              "ticks": ""
             }
            },
            "type": "parcoords"
           }
          ],
          "pie": [
           {
            "automargin": true,
            "type": "pie"
           }
          ],
          "scatter": [
           {
            "fillpattern": {
             "fillmode": "overlay",
             "size": 10,
             "solidity": 0.2
            },
            "type": "scatter"
           }
          ],
          "scatter3d": [
           {
            "line": {
             "colorbar": {
              "outlinewidth": 0,
              "ticks": ""
             }
            },
            "marker": {
             "colorbar": {
              "outlinewidth": 0,
              "ticks": ""
             }
            },
            "type": "scatter3d"
           }
          ],
          "scattercarpet": [
           {
            "marker": {
             "colorbar": {
              "outlinewidth": 0,
              "ticks": ""
             }
            },
            "type": "scattercarpet"
           }
          ],
          "scattergeo": [
           {
            "marker": {
             "colorbar": {
              "outlinewidth": 0,
              "ticks": ""
             }
            },
            "type": "scattergeo"
           }
          ],
          "scattergl": [
           {
            "marker": {
             "colorbar": {
              "outlinewidth": 0,
              "ticks": ""
             }
            },
            "type": "scattergl"
           }
          ],
          "scattermapbox": [
           {
            "marker": {
             "colorbar": {
              "outlinewidth": 0,
              "ticks": ""
             }
            },
            "type": "scattermapbox"
           }
          ],
          "scatterpolar": [
           {
            "marker": {
             "colorbar": {
              "outlinewidth": 0,
              "ticks": ""
             }
            },
            "type": "scatterpolar"
           }
          ],
          "scatterpolargl": [
           {
            "marker": {
             "colorbar": {
              "outlinewidth": 0,
              "ticks": ""
             }
            },
            "type": "scatterpolargl"
           }
          ],
          "scatterternary": [
           {
            "marker": {
             "colorbar": {
              "outlinewidth": 0,
              "ticks": ""
             }
            },
            "type": "scatterternary"
           }
          ],
          "surface": [
           {
            "colorbar": {
             "outlinewidth": 0,
             "ticks": ""
            },
            "colorscale": [
             [
              0,
              "#0d0887"
             ],
             [
              0.1111111111111111,
              "#46039f"
             ],
             [
              0.2222222222222222,
              "#7201a8"
             ],
             [
              0.3333333333333333,
              "#9c179e"
             ],
             [
              0.4444444444444444,
              "#bd3786"
             ],
             [
              0.5555555555555556,
              "#d8576b"
             ],
             [
              0.6666666666666666,
              "#ed7953"
             ],
             [
              0.7777777777777778,
              "#fb9f3a"
             ],
             [
              0.8888888888888888,
              "#fdca26"
             ],
             [
              1,
              "#f0f921"
             ]
            ],
            "type": "surface"
           }
          ],
          "table": [
           {
            "cells": {
             "fill": {
              "color": "#EBF0F8"
             },
             "line": {
              "color": "white"
             }
            },
            "header": {
             "fill": {
              "color": "#C8D4E3"
             },
             "line": {
              "color": "white"
             }
            },
            "type": "table"
           }
          ]
         },
         "layout": {
          "annotationdefaults": {
           "arrowcolor": "#2a3f5f",
           "arrowhead": 0,
           "arrowwidth": 1
          },
          "autotypenumbers": "strict",
          "coloraxis": {
           "colorbar": {
            "outlinewidth": 0,
            "ticks": ""
           }
          },
          "colorscale": {
           "diverging": [
            [
             0,
             "#8e0152"
            ],
            [
             0.1,
             "#c51b7d"
            ],
            [
             0.2,
             "#de77ae"
            ],
            [
             0.3,
             "#f1b6da"
            ],
            [
             0.4,
             "#fde0ef"
            ],
            [
             0.5,
             "#f7f7f7"
            ],
            [
             0.6,
             "#e6f5d0"
            ],
            [
             0.7,
             "#b8e186"
            ],
            [
             0.8,
             "#7fbc41"
            ],
            [
             0.9,
             "#4d9221"
            ],
            [
             1,
             "#276419"
            ]
           ],
           "sequential": [
            [
             0,
             "#0d0887"
            ],
            [
             0.1111111111111111,
             "#46039f"
            ],
            [
             0.2222222222222222,
             "#7201a8"
            ],
            [
             0.3333333333333333,
             "#9c179e"
            ],
            [
             0.4444444444444444,
             "#bd3786"
            ],
            [
             0.5555555555555556,
             "#d8576b"
            ],
            [
             0.6666666666666666,
             "#ed7953"
            ],
            [
             0.7777777777777778,
             "#fb9f3a"
            ],
            [
             0.8888888888888888,
             "#fdca26"
            ],
            [
             1,
             "#f0f921"
            ]
           ],
           "sequentialminus": [
            [
             0,
             "#0d0887"
            ],
            [
             0.1111111111111111,
             "#46039f"
            ],
            [
             0.2222222222222222,
             "#7201a8"
            ],
            [
             0.3333333333333333,
             "#9c179e"
            ],
            [
             0.4444444444444444,
             "#bd3786"
            ],
            [
             0.5555555555555556,
             "#d8576b"
            ],
            [
             0.6666666666666666,
             "#ed7953"
            ],
            [
             0.7777777777777778,
             "#fb9f3a"
            ],
            [
             0.8888888888888888,
             "#fdca26"
            ],
            [
             1,
             "#f0f921"
            ]
           ]
          },
          "colorway": [
           "#636efa",
           "#EF553B",
           "#00cc96",
           "#ab63fa",
           "#FFA15A",
           "#19d3f3",
           "#FF6692",
           "#B6E880",
           "#FF97FF",
           "#FECB52"
          ],
          "font": {
           "color": "#2a3f5f"
          },
          "geo": {
           "bgcolor": "white",
           "lakecolor": "white",
           "landcolor": "#E5ECF6",
           "showlakes": true,
           "showland": true,
           "subunitcolor": "white"
          },
          "hoverlabel": {
           "align": "left"
          },
          "hovermode": "closest",
          "mapbox": {
           "style": "light"
          },
          "paper_bgcolor": "white",
          "plot_bgcolor": "#E5ECF6",
          "polar": {
           "angularaxis": {
            "gridcolor": "white",
            "linecolor": "white",
            "ticks": ""
           },
           "bgcolor": "#E5ECF6",
           "radialaxis": {
            "gridcolor": "white",
            "linecolor": "white",
            "ticks": ""
           }
          },
          "scene": {
           "xaxis": {
            "backgroundcolor": "#E5ECF6",
            "gridcolor": "white",
            "gridwidth": 2,
            "linecolor": "white",
            "showbackground": true,
            "ticks": "",
            "zerolinecolor": "white"
           },
           "yaxis": {
            "backgroundcolor": "#E5ECF6",
            "gridcolor": "white",
            "gridwidth": 2,
            "linecolor": "white",
            "showbackground": true,
            "ticks": "",
            "zerolinecolor": "white"
           },
           "zaxis": {
            "backgroundcolor": "#E5ECF6",
            "gridcolor": "white",
            "gridwidth": 2,
            "linecolor": "white",
            "showbackground": true,
            "ticks": "",
            "zerolinecolor": "white"
           }
          },
          "shapedefaults": {
           "line": {
            "color": "#2a3f5f"
           }
          },
          "ternary": {
           "aaxis": {
            "gridcolor": "white",
            "linecolor": "white",
            "ticks": ""
           },
           "baxis": {
            "gridcolor": "white",
            "linecolor": "white",
            "ticks": ""
           },
           "bgcolor": "#E5ECF6",
           "caxis": {
            "gridcolor": "white",
            "linecolor": "white",
            "ticks": ""
           }
          },
          "title": {
           "x": 0.05
          },
          "xaxis": {
           "automargin": true,
           "gridcolor": "white",
           "linecolor": "white",
           "ticks": "",
           "title": {
            "standoff": 15
           },
           "zerolinecolor": "white",
           "zerolinewidth": 2
          },
          "yaxis": {
           "automargin": true,
           "gridcolor": "white",
           "linecolor": "white",
           "ticks": "",
           "title": {
            "standoff": 15
           },
           "zerolinecolor": "white",
           "zerolinewidth": 2
          }
         }
        },
        "xaxis": {
         "anchor": "y",
         "domain": [
          0,
          0.08200000000000002
         ]
        },
        "xaxis10": {
         "anchor": "y10",
         "domain": [
          0.9180000000000001,
          1
         ],
         "matches": "x"
        },
        "xaxis2": {
         "anchor": "y2",
         "domain": [
          0.10200000000000002,
          0.18400000000000005
         ],
         "matches": "x"
        },
        "xaxis3": {
         "anchor": "y3",
         "domain": [
          0.20400000000000004,
          0.28600000000000003
         ],
         "matches": "x"
        },
        "xaxis4": {
         "anchor": "y4",
         "domain": [
          0.30600000000000005,
          0.38800000000000007
         ],
         "matches": "x"
        },
        "xaxis5": {
         "anchor": "y5",
         "domain": [
          0.4080000000000001,
          0.4900000000000001
         ],
         "matches": "x"
        },
        "xaxis6": {
         "anchor": "y6",
         "domain": [
          0.5100000000000001,
          0.5920000000000001
         ],
         "matches": "x"
        },
        "xaxis7": {
         "anchor": "y7",
         "domain": [
          0.6120000000000001,
          0.6940000000000002
         ],
         "matches": "x"
        },
        "xaxis8": {
         "anchor": "y8",
         "domain": [
          0.7140000000000001,
          0.796
         ],
         "matches": "x"
        },
        "xaxis9": {
         "anchor": "y9",
         "domain": [
          0.8160000000000002,
          0.8980000000000001
         ],
         "matches": "x"
        },
        "yaxis": {
         "anchor": "x",
         "domain": [
          0,
          1
         ]
        },
        "yaxis10": {
         "anchor": "x10",
         "domain": [
          0,
          1
         ],
         "matches": "y",
         "showticklabels": false
        },
        "yaxis2": {
         "anchor": "x2",
         "domain": [
          0,
          1
         ],
         "matches": "y",
         "showticklabels": false
        },
        "yaxis3": {
         "anchor": "x3",
         "domain": [
          0,
          1
         ],
         "matches": "y",
         "showticklabels": false
        },
        "yaxis4": {
         "anchor": "x4",
         "domain": [
          0,
          1
         ],
         "matches": "y",
         "showticklabels": false
        },
        "yaxis5": {
         "anchor": "x5",
         "domain": [
          0,
          1
         ],
         "matches": "y",
         "showticklabels": false
        },
        "yaxis6": {
         "anchor": "x6",
         "domain": [
          0,
          1
         ],
         "matches": "y",
         "showticklabels": false
        },
        "yaxis7": {
         "anchor": "x7",
         "domain": [
          0,
          1
         ],
         "matches": "y",
         "showticklabels": false
        },
        "yaxis8": {
         "anchor": "x8",
         "domain": [
          0,
          1
         ],
         "matches": "y",
         "showticklabels": false
        },
        "yaxis9": {
         "anchor": "x9",
         "domain": [
          0,
          1
         ],
         "matches": "y",
         "showticklabels": false
        }
       }
      }
     },
     "metadata": {},
     "output_type": "display_data"
    },
    {
     "ename": "",
     "evalue": "",
     "output_type": "error",
     "traceback": [
      "\u001b[1;31mnotebook controller is DISPOSED. \n",
      "\u001b[1;31mView Jupyter <a href='command:jupyter.viewOutput'>log</a> for further details."
     ]
    },
    {
     "ename": "",
     "evalue": "",
     "output_type": "error",
     "traceback": [
      "\u001b[1;31mnotebook controller is DISPOSED. \n",
      "\u001b[1;31mView Jupyter <a href='command:jupyter.viewOutput'>log</a> for further details."
     ]
    }
   ],
   "source": [
    "def min_max_normalize(arr:np.ndarray, axis:tuple) -> np.ndarray:\n",
    "    return (arr - arr.min(axis, keepdims=True)) / (arr.max(axis, keepdims=True) - arr.min(axis, keepdims=True))\n",
    "\n",
    "MIN = nn[0].kernels.min()\n",
    "MAX = nn[0].kernels.max()\n",
    "normed_kernels = (nn[0].kernels - MIN) / (MAX - MIN)\n",
    "normed_kernels.shape\n",
    "\n",
    "px.imshow(normed_kernels, facet_col=0, facet_col_wrap=10)"
   ]
  },
  {
   "cell_type": "code",
   "execution_count": 54,
   "metadata": {},
   "outputs": [
    {
     "data": {
      "text/plain": [
       "array([[[[-1.10414266e-11, -3.70473200e-11,  3.55217559e-11,\n",
       "           6.16767165e-11, -2.76272697e-11,  5.34983152e-12,\n",
       "           1.37586063e-11, -1.21864915e-11, -2.56220143e-11,\n",
       "           4.92803367e-11]]]])"
      ]
     },
     "execution_count": 54,
     "metadata": {},
     "output_type": "execute_result"
    },
    {
     "ename": "",
     "evalue": "",
     "output_type": "error",
     "traceback": [
      "\u001b[1;31mnotebook controller is DISPOSED. \n",
      "\u001b[1;31mView Jupyter <a href='command:jupyter.viewOutput'>log</a> for further details."
     ]
    },
    {
     "ename": "",
     "evalue": "",
     "output_type": "error",
     "traceback": [
      "\u001b[1;31mnotebook controller is DISPOSED. \n",
      "\u001b[1;31mView Jupyter <a href='command:jupyter.viewOutput'>log</a> for further details."
     ]
    }
   ],
   "source": [
    "nn[0].biases"
   ]
  },
  {
   "cell_type": "code",
   "execution_count": 55,
   "metadata": {},
   "outputs": [
    {
     "data": {
      "text/plain": [
       "array([[[[0.20932831, 0.23406881, 0.1505719 , 0.19395444, 0.3094428 ,\n",
       "          0.18919149, 0.31170608, 0.17962052, 0.09901286, 0.38034674]]]])"
      ]
     },
     "execution_count": 55,
     "metadata": {},
     "output_type": "execute_result"
    },
    {
     "ename": "",
     "evalue": "",
     "output_type": "error",
     "traceback": [
      "\u001b[1;31mnotebook controller is DISPOSED. \n",
      "\u001b[1;31mView Jupyter <a href='command:jupyter.viewOutput'>log</a> for further details."
     ]
    },
    {
     "ename": "",
     "evalue": "",
     "output_type": "error",
     "traceback": [
      "\u001b[1;31mnotebook controller is DISPOSED. \n",
      "\u001b[1;31mView Jupyter <a href='command:jupyter.viewOutput'>log</a> for further details."
     ]
    }
   ],
   "source": [
    "nn[1].gamma"
   ]
  },
  {
   "cell_type": "code",
   "execution_count": 56,
   "metadata": {},
   "outputs": [
    {
     "data": {
      "text/plain": [
       "array([[[[-0.17915293, -0.15849705, -0.0209361 , -0.15138397,\n",
       "          -0.27241212, -0.12763163, -0.43994823, -0.09065728,\n",
       "           0.02132964, -0.47120438]]]])"
      ]
     },
     "execution_count": 56,
     "metadata": {},
     "output_type": "execute_result"
    },
    {
     "ename": "",
     "evalue": "",
     "output_type": "error",
     "traceback": [
      "\u001b[1;31mnotebook controller is DISPOSED. \n",
      "\u001b[1;31mView Jupyter <a href='command:jupyter.viewOutput'>log</a> for further details."
     ]
    },
    {
     "ename": "",
     "evalue": "",
     "output_type": "error",
     "traceback": [
      "\u001b[1;31mnotebook controller is DISPOSED. \n",
      "\u001b[1;31mView Jupyter <a href='command:jupyter.viewOutput'>log</a> for further details."
     ]
    }
   ],
   "source": [
    "nn[1].beta"
   ]
  },
  {
   "cell_type": "markdown",
   "metadata": {},
   "source": [
    "## Conclusion\n"
   ]
  }
 ],
 "metadata": {
  "kernelspec": {
   "display_name": "CNN",
   "language": "python",
   "name": "python3"
  },
  "language_info": {
   "codemirror_mode": {
    "name": "ipython",
    "version": 3
   },
   "file_extension": ".py",
   "mimetype": "text/x-python",
   "name": "python",
   "nbconvert_exporter": "python",
   "pygments_lexer": "ipython3",
   "version": "3.12.3"
  }
 },
 "nbformat": 4,
 "nbformat_minor": 2
}
