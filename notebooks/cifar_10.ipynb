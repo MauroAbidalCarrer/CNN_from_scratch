{
 "cells": [
  {
   "cell_type": "markdown",
   "metadata": {},
   "source": [
    "# Cifar 10 "
   ]
  },
  {
   "cell_type": "markdown",
   "metadata": {},
   "source": [
    "## Setup"
   ]
  },
  {
   "cell_type": "markdown",
   "metadata": {},
   "source": [
    "### Imports"
   ]
  },
  {
   "cell_type": "code",
   "execution_count": 13,
   "metadata": {},
   "outputs": [],
   "source": [
    "from functools import reduce\n",
    "\n",
    "import numpy as np\n",
    "import plotly.io as pio\n",
    "from numpy import ndarray\n",
    "import plotly.express as px\n",
    "from numpy import array_split as split\n",
    "\n",
    "from optimizers import Adam\n",
    "from metrics import accuracy\n",
    "from constants import MAX_NB_SAMPLES\n",
    "from losses import BinaryCrossentropy\n",
    "from cifar_10_dataset_loading import load_cifar_10\n",
    "from layers import Convolutional, Linear, Relu, BatchNorm, Flatten, Softmax, MaxPool, Layer, LeakyRelu"
   ]
  },
  {
   "cell_type": "code",
   "execution_count": 14,
   "metadata": {},
   "outputs": [],
   "source": [
    "pio.renderers.default = \"jupyterlab+png\""
   ]
  },
  {
   "cell_type": "markdown",
   "metadata": {},
   "source": [
    "### Data extraction"
   ]
  },
  {
   "cell_type": "code",
   "execution_count": 15,
   "metadata": {},
   "outputs": [],
   "source": [
    "x_train, y_train, x_test, y_test = load_cifar_10()"
   ]
  },
  {
   "cell_type": "code",
   "execution_count": 16,
   "metadata": {},
   "outputs": [],
   "source": [
    "classes = y_train.argmax(axis=1)"
   ]
  },
  {
   "cell_type": "code",
   "execution_count": 17,
   "metadata": {},
   "outputs": [
    {
     "data": {
      "text/plain": [
       "dtype('float64')"
      ]
     },
     "execution_count": 17,
     "metadata": {},
     "output_type": "execute_result"
    }
   ],
   "source": [
    "# Change range from [0, 255] to [-1, 1]\n",
    "x_train = x_train / 255  \n",
    "x_train.dtype"
   ]
  },
  {
   "cell_type": "code",
   "execution_count": 18,
   "metadata": {},
   "outputs": [
    {
     "data": {
      "application/vnd.plotly.v1+json": {
       "config": {
        "plotlyServerURL": "https://plot.ly"
       },
       "data": [
        {
         "hovertemplate": "x: %{x}<br>y: %{y}<extra></extra>",
         "name": "0",
         "source": "data:image/png;base64,iVBORw0KGgoAAAANSUhEUgAAACAAAAAgCAIAAAD8GO2jAAAL60lEQVR4XhWW+VvTB7bGvz/0PtPl1mIVBRyBBEIICdn3hIRA2EIgkITsKwmBrIQ9IYHsZA8EEjYBBZSCFq3XuoxVsVXbUafWOnZq1Zkuju1Mp7N4O/PMPPPMfeYy/8D5nPO873nPAWgMJhxZiUXD2cSKzib8iJwZNzenbW3ZIWnWoQx0t4zpuKkB+ZRdFDXyfNqGqIk3YeK6tdXxvta4vTlkrIsYOXFLy7xDuh7Qb0YsR32GFX/PStAyP2bIuLuBnP37AQB482UAd+hlCS7XwYd7pZUeEWJcjB3kIUz1kK7aEmN9aR+nxFoPsjdCRngIawPIWHdoTIr0KJCjHdCAFOXmw5w8SECKDsoJIRU1pKG7JKQRAXZUTAHy83JzfgJgDr0swB60NcJ8CqJfSXLyUX0tcHsrws5DmporjU1lXgXaLUb5FWSPlDzagRvgwR0dKL+aGNCQ4gaGR4Ybl2I8UqxfQUgZ2X4VdViIdQix1qYKAJS/t2z/S2Jivon504F60BCnpL8RYmSAzGyQU1g5JiNYm8v7WsqmjdSQHOURVg5zy4e4MI8YP9oODypwUR01oqMElHi3COGXY4MyTFiJ88uwY2KsswOtYpQA2OJcWvFrBhbYw4O6W0qdLaWO1vJ+DtTcCB6TYHxSnIldZGkAuQUVzlaohX24k3XQxoEMtWEcbbAJJTZhqgmoqcnOmrACt4t38mAjvPLu2mIx5VAz6mBtRT7QgD4sJOTZmiA+fllEUhkQVviE8JEWiKUeNMpHuNqhRla+ubGot6XIwgF3sg6pGLlaZrGAXCahlhrYFdo6pIRYOsxpTGh4EW21o63SzAZLiHm10DdKXgWKX38J0NaV9zaXujrgfuEuABEUlI9yCp2cIo8AGVMR3Tywgwc1N4DbsHvY8L0c2N4uXK6RfJAFyaGW7mNC3mzFFUWUglF2W1zEmzPV+cQYC7tUTTusYUKkVWU1qEJggI8Z4YL8MlRCSwhJ0J728pgMFZUiAyJ0SIqckCMt9dBG6D5cwauwA3sai/aeN9R96mkf46LY5Qery/byCYWuFoadTAq30+e6q6JqYj8XaqwDd9WAxhU0AwcJRPVsLx8WlOO8YvRIO8K1a9MOhL8D4Wwrj2qJARWBU7GfmJ+DPZyDOPymCPrGXRP5CytjTdagp2JaKg41w/M40DxuyQFzbWlYQwtrqT75rp3QIwL4mKhyQk0GFh3SRXvLUj8/oWe5pIQxEXZchPbI8SEtPahly+iFzJJXGKCceuh+Hrawm1AwXw/KVEOSvCpnM6WLCtMQQSJ0XnNZbhezOCInRBSEXeVDSnxQifeKKkMKErA4qjoyxF8a4s9Y6kP66qi+Jm5gTxhqkr3tTjG7rfx1LWGvrHJvJ7kwKqfEhZiMmDjRBInxkRMdlISCe8ZnSukIhqoCS21+WAYLiCtDclxMS4moSX4RckJJAdL90mlr07S1LqwleRQUn4o1JCR1cyr83fUOAamXvmdadCDSenB9sGVroG5ej18dbMpoKWed/FVbw43Zvk/fcl2dVo21lluY+QkNPqqmBZXkiJoSkuGCYmRIQQZSA6KkqS5hZE8Zq2dsHKeUJSSDJVUgaxuii3Iwxtv32Sztf1ywndnOX26NXs3oPj5u+2Rt4LPjwzuT8o9WtFfmJKtOrl+AdbeUBcQ4v7wqoKTvNh6W4yNSdEhOBlYCnYsj/JSZM2lgBRU0Ga20EXGgHZ8nRO0zk/JPmLDP31FcjFJ2Vrr//OidJ9ezv73i/fqK41dn7Y9O2x+csv18y3p1rf90VL86zI2rKROamnEZLaAgpzrpu4CYtgpID/Cy1poZC3vGyIqoGW2oXCml2Mgu1+AKfO2V1+f7fpYxp7twd9ecX/785P8+u/nXZ5f/9PTEiyfrz25Nfb0T/8Ony0/uHf/q/vnPry8tDbd6pRSfmhFQ03c94v1PNJGBzCBvWk9M60kzelxIQ2RW5NbAiyRYcB8LcmHa9nRnK6ZqWDMy7y3Zb26E//79w3//3+/+/a8nf/v+1g9fvPvt/ZOf3zz23Re3/vni+YvnN1aCrWNqzLiW6lbgx+SYcQnSLSEC2QHepBozpcXN6XZlwVSX5wppMHsdZN3Z/OUvNu5dWE7LyDdDwl8s255eWfrxm/t/++M3f/79599/dfu7L67fOD8/G9Xff3/xny8ePXu0vZ5qTXvokz5GwkWKDCKd6sJ+fjkw08udkKASuqpMd01YStdXl1ma4FM9NQ/OJ/7x48MzMwNnRpqevuP75tbxbz859/vHN796eOP25Y1L67HzK95rpyInl43n3jJ+9/j8l/dW10IN04PwxAA4PghKu8pSIyVeAwyY728baob0t6FdMsq4nDwqQCupxecWY3/65uE/fnx+cqLnZ0HJi1+d/fbxjfe2Uu8eC2xMD0yPdGQHectuwaVl26MbyYcfzv/w61s/PHxnY4wZ6ciZaH/dL3jdI8qJGg/NeYlA2tjo4cO8MlxIQQhKMWE17lTa9sdnH//r7394/tkH2xH9lrPp6YXYB1thl5QU7qR75Oi5fuYJDyeow86N8+5cTP3lt3f/8vWD39zcWhqqHuH+t6M5x16zR896Q8fZl3ASgcmeGk9bmU+E8XUg/aLKhIH25ObqX3/34MFHl9/fntvwKRZ6SDvTmnNpo1eEmjFQsyba24HWGQvRq6pM9tVuz9rvXDx27dTMh2em590ifWOBtR08IoE7FVgLvzQygt0FVI9xiwMdaG87fDf9F4a4meGOjeTwlY2ZC0vBUxO6EwN1NzK6awu2eUvNrh3mjeQFGzVlwCUNxHAXKdJFz9g4SRMr2cuO9TX06iG9vUXO4RLfIDQ2WHluTQAkDaxAW0lcioyLETEZdq63wbu7hNqqM5Ge7Yj56tzwx8cct5f7NgPSOQsrrSVMd+GzJsqCrSprqZrqoU0Zaeke2qSB7tOgXd1Q93hhX3iPJfRy3+irmQjio0sGYLK78T+lpRVZDf6YtXHWVD3TQ53roWw5299yic8ljQ9Px+5uBj85m8zaOXENacpAjqpQc+aqI72seSsz0UUyc8vkdLCw6qBRlx9MgYeT+zXOlwx9rxzNMq+d1gFZMyfUBolI0DM62mwPc8HKWLbXrg21nglorqXNG27hnc3QV7c2b53JXD8RenfKPG2qHueXJ7X4JXvNgrVqgHO4Bb6Hh81XNoHGh1ChCejIYFGfLi/hrHjvhHwx2Ay87eVOSd4Md5TsMsKyyrgKs2Bhrw8JNhz8SxH9xrBk1tZ8KWtbcopWXOJNvyJrbQjLcf4OeFAC9wohHkFpWIGfNNbELYyIHe8xQp0KaNiAuHpU/Mvz/REzFbizzH/PVzCnz/fywKNc2IQEk+okzJrICyZqRscMi2kePmLBSt9wtkzqaH7J7uHDz1nq502ssAwdV2OP2JirfaxFM3PRXjtp3P2pEEEZ8lSg/vOLpstH5EMiNPDotPj9SM7m6L653pKABDzOL4mpMFN6QkpNiCpwjlZwQAxL6/BTXZSoiugRoMf5uLiKvmCpy/YwE2pCWI6c6aZkjLSshZG1MqNdxEkz5e5bhnvbRrcS04AuAJ5ekN+ePXA5k/d2/KdLjoJUd2FKj1uwNM8am+KdlHFJWUSByhgYyS56QIob52M87biYBD+rpy/2sLJddHdr6XgHLNlFSpurZuxsTxetX4y8fKRze0pMPvwKaN8rwP2TmtsL4A9XC3aWD12cBp8KFx91VsyY8WE1xi9GxpWUmU7GlJqU1lGiclxEio/KiBkDdd5En+2uOmKrjqmQDi7IK4SmDNRwN0NWV47Ney1qpB8L1ZOLfkIA7wfejWu2XRWXpwo/WMj/cAV8+3jp1YXi7Wjx0nBZXFeW0mLSWnJSgU8q8XE5LiEnTKqpcR091kmf1JCnlfCwEDTUVmZvPDzaDu2pLaQWvQb+LyCgolzKqLQMsIAABs5ODW76VOdS4ivZ2jub7MdXuY93Gj85X7+zzjszyd8Iita9inWPatWlWOgXHnXI1tzK7KA80SPIdLesGut2h7PLaCNyql/DcohpilpkdyvlZKLn0aXE3LDQpWj8f2vi2ZuEDuOfAAAAAElFTkSuQmCC",
         "type": "image",
         "xaxis": "x9",
         "yaxis": "y9"
        },
        {
         "hovertemplate": "x: %{x}<br>y: %{y}<extra></extra>",
         "name": "1",
         "source": "data:image/png;base64,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",
         "type": "image",
         "xaxis": "x10",
         "yaxis": "y10"
        },
        {
         "hovertemplate": "x: %{x}<br>y: %{y}<extra></extra>",
         "name": "2",
         "source": "data:image/png;base64,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",
         "type": "image",
         "xaxis": "x11",
         "yaxis": "y11"
        },
        {
         "hovertemplate": "x: %{x}<br>y: %{y}<extra></extra>",
         "name": "3",
         "source": "data:image/png;base64,iVBORw0KGgoAAAANSUhEUgAAACAAAAAgCAIAAAD8GO2jAAAFRElEQVR4Xq2W+TPbaRzHY+NqHbOMcTO7gk5V6xxrMOq+qiGOVusYrZvElUgiQYO6QkKCcQ3aoUxna8afuC/fZzfT/VbLbr1/yHzzHO/38zmfR6FQKLy8vJRKpbe3t5cExZ0DUh8fn+Tk5KioKJTk0z8Pcer8/HyNRqNSqTBFDN6ZNYIoMjKyra2ttbU1NTX13r17jPwi4W5kBEt2dvbU1FR3d3dubm5gYKBs9mcBS0BAwMuXL81mc1dXV319fVxcHKb4+fmJWSHz/10ntsXGxnZ0dIyMjCwsLPT19ZWWlmJNeHg4Svfv3/f39+fD19f3Wg2hfYNXmX7w4EF/f//6+rrD4dDpdC0tLeXl5YWFhZWVlYjx8fjxY5bJd0oCgv1HAoAzvnjxYmNjw+12z87OarXa169f47TBwUE+3r59W1JSIlhkUEjni4mJwbdy0q+BQHt7+4aExcVFu91OVLAJ19XV1TU3NycmJsr3SKCGMG58fLynpwc3yqc9YF1tbS3sq6ur8/PzOzs7BwcHY2NjHJ9CKSsrCwsLE5XvK4EiJTYhISE1NTVzc3OHh4csFsV0DYSl8fHxUOMfm80G+4cPH0hf/NbY2KhWq/Py8rKysijMSgkFBQV8Yxxrtre3EXj16pWHSg4xStoYDAY2IOByuY6OjtAj4GhQjG/evCHylOTAwACDRAVhpvAMLt3f36+oqPBQySFGaRijo6PT09MEYGVlBV+hZLFYCDh0VqsVXgQIjF6vxyGdnZ0I4MOhoSG8lJmZ6aGSQ4ympaUNDw9jAZHAAnwF0eTkJCPQ8ZckRg8BlplMJvSoUFKD0sFEuo6H6hoQQGwkGaDDgr29PX57e3vxAOm0traGAMLn5+dOpxM9BJDBS+zKyMggTQn7d9kBiUHoRFJSVigtLS/xywj+2d3dRRLSjx8/Xl5eElW+cV1TU1N0dLSc61t4SZdPaGgouSi6UHV1NSclBhBhBNEmqQgmI1++fLm4uKDgCVhDQ0NwcLBgkJN+jb+L8h9QmRyNw8II9ZIEwk6q8Jfjn5ycnJ2d4UP18+eBAQFyumvhoeaXCtJqdZ8//7m26rC9I2XduOj9+/ekCrnL2V1u9+npp4PdvZHeHlVcrNJL6nTY8EMzrnC1TqGgPgnpp5PzDefmpNmyvLzscruo7ZmZGbLr9PQUc7Z2dt0bLpN24I/UR78GBCrpg2xV3qQgBChpHOJ0uOwrzinrDH63r9oRwDkYcXx8fHC0N7u8YLG9a2zSPM3Pi4+K8ffzxwzFNd323xACKSkpEFmnbEaT1To1QwAoPLxPHdASVu0rJ8c7m5vOnoGh8uoaTb0m48kTeqXSx/u2LsrJycEbIwZjn3ZkVG/AXYsLi0ajkRIhW13rjiWz/mDdYdKbqiqeqWvVJUXFV3ftbWIgUFRUhIDOMNGl1Y0bjbA71hw4ispaWlpenJ/rVD/rbmq2Tc60t7SXl5bRByPCwxW35KcgKAKLxTo2aekdG9ObzVubW9tb2/Qibmy93qAbGqzMzy3Iyqqv01BrdfV1qkQVeXGzAZ4Uon9BZELDaBzV6+mjxUXFtMKgoCC6NMVVWvS0sKDgt98TGpoae/v6Uh6liCyXM8ogVqSnp3MuvDExMcGp6Xf0Gc8a6jwhIYFeUlVVRbIxRb/jOvrRXeaBEOD+ozsOSyASvJd4WIgaFGUIV1JSEqaIZwAN5uHDhxgnp/sWwkyeSRhBj+Qeptlx13/9JBFrKHVetMjwwSA35X973bKatMN87pCIiAj5tARUsUw8zuVzN0IcE7D/2reQB99j/wu4R+8Q6wsJkgAAAABJRU5ErkJggg==",
         "type": "image",
         "xaxis": "x12",
         "yaxis": "y12"
        },
        {
         "hovertemplate": "x: %{x}<br>y: %{y}<extra></extra>",
         "name": "4",
         "source": "data:image/png;base64,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",
         "type": "image",
         "xaxis": "x5",
         "yaxis": "y5"
        },
        {
         "hovertemplate": "x: %{x}<br>y: %{y}<extra></extra>",
         "name": "5",
         "source": "data:image/png;base64,iVBORw0KGgoAAAANSUhEUgAAACAAAAAgCAIAAAD8GO2jAAAMKElEQVR4Xh1W+TMbihrNf/DmtrVUrYkQilKlqrpq61KlWrrQqlK7aql9i4qtqYjWEkuIPbVTkTSRxBIhllgSCRIidkIsESLCvc97M998P5055ztzZs58AHTvV+wktG7qK341DUX39YE9eJ9indrg0MlBMvjY+m7owHQlcTKFxI9oYHyORjq+9LmRkPFudL6BtVdGnENQOb96p+vahgry6sLbGCmLUip3q0GwTd6XLa5ujo5P4QDNrNzuFUzjSFV0kc/rxBtPfG0CU1y/Yf1aafC+maIqfNwYl8harF7c6Z1a7C5vTwyKefytMIrArK4kxxLZJRtS4eb+VhujFF7v2zWXvXcyKZZzRIcs8f48Z45B6qkDdIt+9K7+bh7sza1Hh+eEhiADMqsQRb+RrUMIhrCGwWmmDVU0keNobAx/bZjCrMpDR+QVJyHKv8T8dMH2pDQxkL38lm5ebQkleHgDKTkdPDzmy45WFtd4/eMkGqMGsHr8W3jQP7HXyZHjaZst7TN1wwv9q3tTS9JR7jp5cqlzaKa6hZaBoxcPsDuw+KxPcS4BYfYxyGdwrG/LCGLyDLNFoq9UT65QRTK6VME9lG1I9teXN7iCNZpomwWQKzbkp+K5YxJTVjOyS+LtTezLl+QnYsXJoeR4aXS5ZlzYxhWMj7BozEkisRsbmejl9vZmHNwLS8nuEdauKsY2D/mc1YHNgy2RZGFhg7q02ru9M3d0vH18sqs4lQGkxzs7x8sLh2PsPSpd1MLcxolkXPnp9ump/EixsysXcnkTZCKF0E4i4onUrs7S8ryISM/0n35UVglzEdc/31Dfk9xMzx9aILIXBmbmqVwhfkE8Kj5YkCkO/vnnH8DKweiuYkl6LJIqxLN7TPJyGZ5fPLH+Ryyf2ThcoI32f/uWnxz7LS7sa8iHSFgC8kcWOguRXkNOIs2mUDnF1aSkdIxHMxNGXyydWe/ckvC6uBUNjALeytT85hx3hQ7YPJhSnO5KFCyJYnJfMde7iIa3h7aNIQcX6sp+VX/wCnN5/MbVyd3d5a2DrZPdvSf+XmGZKbltf5q6Z8ppM7XFdbFl7dHM1TrBHm5T1rN+MIZjoVIb39bTkN0cVOtEIODweOvwRHx4loRCJDsRLkrp/XMtPaO4lHS4u5uf62P3x3auNjfuPbxr7+Lw4u979na37Z7bu4YGRmN/Vw0Lmmv/pLQPZA7Nly/u4/n7FYytTNIqtGIkIqfjYzURWowPAQgO+0Z2Gvmyxp1TtkIhOTlRrB0uU9nU5Mz0ezZ3He7bx3xJSkqAR31J9XsbeM/qhrWx4Z2rpi6Oz/NL8kYXcL+6Itv7sod5bVtyHm+b0sUva2LDUNR4TEdxJb4qEuUD2JTPrB1zhIrOtRP60cnWycmhVL67frjay6K7ub62u/2AjOsaHpwvzG/29/lke/f+w1u3bl2/bnPjTuiXT4T+mlo8HDeImVjqn1nhLooXRmYH2oexNd0/usf+kMep8KY4wI5i7t9//z0+PRCfLG/L1vZkor2jVfmpdGiS5R8Uk5n0nTPKo/VyExNy/P3C33i+//uh3dUrV61trid+/1zeikRWJmJpSBKrmjhaxZyjTa2M9c+SSJMNlMmmUuK3AtwPAHf3t0SxuCadmFwfYAh6WGuDc7vsbZmItTCenpuekADNTEdEhEH93ge+een20sXxycN7Ny0sAz56o9szsuvCYJWh2c1Q0mg9e7l3ZVewKV0h86vbOPk9PHwR/ntMWQBgQNAikBD4uzjmYlsnp5Ey/WdksW98sYsuaKiiQmMy/B/a2ZpADEz09Q2BIBMw2PzyZds7tgmw2Bxsck5TSCk5HlrzMbk6uJSS2jVVOydhsHY6eHs9ywe8PhYxGe0L4K4O80VDHFEfeaa2kp5XRMloZmZ38Qooc7Dm8dCGwaSMvATLa9e0L2nqXNLQ09IyNzJ54uASFBEQ/dMnqzG8gZZDHPuV0RjypdS+oid8crthXd63dcTibvQS+luT8xIALX251b2wmpFk7HDmzz8psJbQOkY+TzTC2aJ0ziL6livIQ83v33jraoKA6poQHZC58VUH+2d+IYH+sc8j8l5n46IIrPIa8vfY0ld5hNBOTjFfRGYtUwjM5sIOVCIGCugYK0Z1BvZON25JloViHn6isoH+nT7dxhD2tjBR5KmWAU4XLD7dDHJFT0v3MtjwiqHZg/tPvD8EvvJ84vPp2ffamFIyNLchNKHMK77CJxcXgRsqwHYXwX9lwqpgUWVfAPxdGn0pd2S2Y128dHRyMLvFwLPSsIz4im4ostEX/SeqlYrKyUTdt3pgADIwBBsZ6pvaWNu5Pvd86e4UFPOsrDUV11caiw50T3nklnTfG/HkXYaDR7JzMDIAWglLr08G7MhWt444LD4e31M6NNPbPVtV0u+TRXTNbHmV2eSa2eiWj41H51W9dH5ndtnCQO+KIcTcyuL+Q1snZxe7T9AXPxs/V/VFpNV/DES+do62dgy1CUr2CU57E5nrH1MSklDuA2Bw+itIuV0cbDUhL608trwvuWwgMr3FK6PVK6U+LA7zOR+bVoNuDPKOsLpqo69rZAgxs7p657b1Qzv7O0Exf8PKX+QSAjLb/H2zXz8Ntnd4e9s3wj0NFUfoayOMtCSggwFB8Bef0c6Ns9BaRklmWVwlMamakQprCE1t9I6r8Qkr/lBYk1tb1OT3JsTcyFJXW9/IwNTS1MrCzNLW9kZi+jME2qeg4ntmUbKDt+0Dl3tPPR1cAhyjMsKn+Wedr8A0VgLy6e9/TcXjBCX5pJzEwujEfP8qCpI80YahwONqPKJKPTFVmMr8Go+nb82NLSC6l40NTY0NjCF6+jY2luFfXVNLAmE/oM4ezlduml6/e83W+e7953fvOFlHxH1CVxR5B78DEDfj6jhxpeScckJhLam8oqOwj921trfWQEdH579LRERjCiuykr45P3K2MrM0OaPW1dfXBYOBulZW13ziHsFx7kn4x/dC1UFXtPUhEEMTg8umhoZXDcCGID0jAxOrK4DWkeJw5IvU/Ajy4K9lMZ+3zMtthKf/ikqrDkkrjM7NK0BnFwe4e9+1unXdzNxIzwACAuvqAEFAnTMHwfGvk1ockQPPg3Ic9c0gOjpgkK4eCKR7BgGBgSAwWBcCBnhG22sb6PgFe/aOkuhz5FpaQRjyFQzjXdwal43KgiVkxIVGPfvbyVBXH6wNNNKDmEAgQC1NTQ2Nm9ctouNDywiIwXlSGQ5lYmWuoQECAnW1dECaOkAtHW0dkM7ZBjxws/ocGzAw1CPan2UIqwkTqEoKMvqnR1Kxb1pWRpDXx8e29ubGpppqGlpq6nra2hCQjvYlNc1L6uamJgmw0OF54rS4P7sGevuR1XVr87MzzgS0tHU0tbW1gTpnA6AMd8yucTcP51hCfCs9q64bgaHmJZVEe0Q7hcVHvXZ+a2Fqqa2lo6qkqqV2CaihDtLUOCsloKaW9c1rUMTnkcWOiTUa5ndJATY9JNlDy0BTWVVFE3hJC6j1PwkgCCA8mF6SCIb5+BZqdnFrUnt/2dh8/6iAmfIzOcj/81m2RhBj9UuaF1XULiqpqimrqquqaVy8qH5RTQ8Mfhf4ir3a3SPEVPTASZxmFP7rlwyvZERUXm3Ghy8eFjfMDQzAgLqRFKa4mb1OnZjBs4XUjX2hVL7fOlyZgIgM9Pr4wOa+HhCipQm6dFFD5YKq0nklVWUldVXVi8oqhobgqDTvrnkMaRbVNV3PXR0U7AyL9qYkkrUV8RxlsBNdXoLISAV0slFsEW5NOrcgZi+ImSLpFGEQHZr3LCjF66nji6sm5iCgnrqalsqFi8oXVC6cUzp/7vz/fKioWVtZFmO+Ty31bOwtyBXykxPZkXRbsrG+MssbZfSwRgZmxlnD3d2AtW3e7NYEg9/WQIN3sau2DwSdo/nIOk94UfgzJzczY3N1NU0VJbUL51XP/6V8/i8l5fNKNpYWbo4uLg5Pfzc2nB4rThQK+dHukWRTvDK7wmPOjzMYxGZCfRGlpZxUVwTYlgi3ZesrOzPCjXHRruDsY9yXrojFnAUBOywwwkDXUE1FXfn/Auf+Uv7rP+fO4n3p9ASenJKVhqwqxUj3N47ka0eyZcnGLIdOov+uotYXViITEUlBqG+RpYio/wKMq+sdUPt6HQAAAABJRU5ErkJggg==",
         "type": "image",
         "xaxis": "x6",
         "yaxis": "y6"
        },
        {
         "hovertemplate": "x: %{x}<br>y: %{y}<extra></extra>",
         "name": "6",
         "source": "data:image/png;base64,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",
         "type": "image",
         "xaxis": "x7",
         "yaxis": "y7"
        },
        {
         "hovertemplate": "x: %{x}<br>y: %{y}<extra></extra>",
         "name": "7",
         "source": "data:image/png;base64,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",
         "type": "image",
         "xaxis": "x8",
         "yaxis": "y8"
        },
        {
         "hovertemplate": "x: %{x}<br>y: %{y}<extra></extra>",
         "name": "8",
         "source": "data:image/png;base64,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",
         "type": "image",
         "xaxis": "x",
         "yaxis": "y"
        }
       ],
       "layout": {
        "annotations": [
         {
          "font": {},
          "showarrow": false,
          "text": "facet_col=8",
          "x": 0.1175,
          "xanchor": "center",
          "xref": "paper",
          "y": 0.2866666666666666,
          "yanchor": "bottom",
          "yref": "paper"
         },
         {
          "font": {},
          "showarrow": false,
          "text": "facet_col=4",
          "x": 0.1175,
          "xanchor": "center",
          "xref": "paper",
          "y": 0.6433333333333333,
          "yanchor": "bottom",
          "yref": "paper"
         },
         {
          "font": {},
          "showarrow": false,
          "text": "facet_col=5",
          "x": 0.3725,
          "xanchor": "center",
          "xref": "paper",
          "y": 0.6433333333333333,
          "yanchor": "bottom",
          "yref": "paper"
         },
         {
          "font": {},
          "showarrow": false,
          "text": "facet_col=6",
          "x": 0.6275,
          "xanchor": "center",
          "xref": "paper",
          "y": 0.6433333333333333,
          "yanchor": "bottom",
          "yref": "paper"
         },
         {
          "font": {},
          "showarrow": false,
          "text": "facet_col=7",
          "x": 0.8824999999999998,
          "xanchor": "center",
          "xref": "paper",
          "y": 0.6433333333333333,
          "yanchor": "bottom",
          "yref": "paper"
         },
         {
          "font": {},
          "showarrow": false,
          "text": "facet_col=0",
          "x": 0.1175,
          "xanchor": "center",
          "xref": "paper",
          "y": 0.9999999999999999,
          "yanchor": "bottom",
          "yref": "paper"
         },
         {
          "font": {},
          "showarrow": false,
          "text": "facet_col=1",
          "x": 0.3725,
          "xanchor": "center",
          "xref": "paper",
          "y": 0.9999999999999999,
          "yanchor": "bottom",
          "yref": "paper"
         },
         {
          "font": {},
          "showarrow": false,
          "text": "facet_col=2",
          "x": 0.6275,
          "xanchor": "center",
          "xref": "paper",
          "y": 0.9999999999999999,
          "yanchor": "bottom",
          "yref": "paper"
         },
         {
          "font": {},
          "showarrow": false,
          "text": "facet_col=3",
          "x": 0.8824999999999998,
          "xanchor": "center",
          "xref": "paper",
          "y": 0.9999999999999999,
          "yanchor": "bottom",
          "yref": "paper"
         }
        ],
        "template": {
         "data": {
          "bar": [
           {
            "error_x": {
             "color": "#2a3f5f"
            },
            "error_y": {
             "color": "#2a3f5f"
            },
            "marker": {
             "line": {
              "color": "#E5ECF6",
              "width": 0.5
             },
             "pattern": {
              "fillmode": "overlay",
              "size": 10,
              "solidity": 0.2
             }
            },
            "type": "bar"
           }
          ],
          "barpolar": [
           {
            "marker": {
             "line": {
              "color": "#E5ECF6",
              "width": 0.5
             },
             "pattern": {
              "fillmode": "overlay",
              "size": 10,
              "solidity": 0.2
             }
            },
            "type": "barpolar"
           }
          ],
          "carpet": [
           {
            "aaxis": {
             "endlinecolor": "#2a3f5f",
             "gridcolor": "white",
             "linecolor": "white",
             "minorgridcolor": "white",
             "startlinecolor": "#2a3f5f"
            },
            "baxis": {
             "endlinecolor": "#2a3f5f",
             "gridcolor": "white",
             "linecolor": "white",
             "minorgridcolor": "white",
             "startlinecolor": "#2a3f5f"
            },
            "type": "carpet"
           }
          ],
          "choropleth": [
           {
            "colorbar": {
             "outlinewidth": 0,
             "ticks": ""
            },
            "type": "choropleth"
           }
          ],
          "contour": [
           {
            "colorbar": {
             "outlinewidth": 0,
             "ticks": ""
            },
            "colorscale": [
             [
              0,
              "#0d0887"
             ],
             [
              0.1111111111111111,
              "#46039f"
             ],
             [
              0.2222222222222222,
              "#7201a8"
             ],
             [
              0.3333333333333333,
              "#9c179e"
             ],
             [
              0.4444444444444444,
              "#bd3786"
             ],
             [
              0.5555555555555556,
              "#d8576b"
             ],
             [
              0.6666666666666666,
              "#ed7953"
             ],
             [
              0.7777777777777778,
              "#fb9f3a"
             ],
             [
              0.8888888888888888,
              "#fdca26"
             ],
             [
              1,
              "#f0f921"
             ]
            ],
            "type": "contour"
           }
          ],
          "contourcarpet": [
           {
            "colorbar": {
             "outlinewidth": 0,
             "ticks": ""
            },
            "type": "contourcarpet"
           }
          ],
          "heatmap": [
           {
            "colorbar": {
             "outlinewidth": 0,
             "ticks": ""
            },
            "colorscale": [
             [
              0,
              "#0d0887"
             ],
             [
              0.1111111111111111,
              "#46039f"
             ],
             [
              0.2222222222222222,
              "#7201a8"
             ],
             [
              0.3333333333333333,
              "#9c179e"
             ],
             [
              0.4444444444444444,
              "#bd3786"
             ],
             [
              0.5555555555555556,
              "#d8576b"
             ],
             [
              0.6666666666666666,
              "#ed7953"
             ],
             [
              0.7777777777777778,
              "#fb9f3a"
             ],
             [
              0.8888888888888888,
              "#fdca26"
             ],
             [
              1,
              "#f0f921"
             ]
            ],
            "type": "heatmap"
           }
          ],
          "heatmapgl": [
           {
            "colorbar": {
             "outlinewidth": 0,
             "ticks": ""
            },
            "colorscale": [
             [
              0,
              "#0d0887"
             ],
             [
              0.1111111111111111,
              "#46039f"
             ],
             [
              0.2222222222222222,
              "#7201a8"
             ],
             [
              0.3333333333333333,
              "#9c179e"
             ],
             [
              0.4444444444444444,
              "#bd3786"
             ],
             [
              0.5555555555555556,
              "#d8576b"
             ],
             [
              0.6666666666666666,
              "#ed7953"
             ],
             [
              0.7777777777777778,
              "#fb9f3a"
             ],
             [
              0.8888888888888888,
              "#fdca26"
             ],
             [
              1,
              "#f0f921"
             ]
            ],
            "type": "heatmapgl"
           }
          ],
          "histogram": [
           {
            "marker": {
             "pattern": {
              "fillmode": "overlay",
              "size": 10,
              "solidity": 0.2
             }
            },
            "type": "histogram"
           }
          ],
          "histogram2d": [
           {
            "colorbar": {
             "outlinewidth": 0,
             "ticks": ""
            },
            "colorscale": [
             [
              0,
              "#0d0887"
             ],
             [
              0.1111111111111111,
              "#46039f"
             ],
             [
              0.2222222222222222,
              "#7201a8"
             ],
             [
              0.3333333333333333,
              "#9c179e"
             ],
             [
              0.4444444444444444,
              "#bd3786"
             ],
             [
              0.5555555555555556,
              "#d8576b"
             ],
             [
              0.6666666666666666,
              "#ed7953"
             ],
             [
              0.7777777777777778,
              "#fb9f3a"
             ],
             [
              0.8888888888888888,
              "#fdca26"
             ],
             [
              1,
              "#f0f921"
             ]
            ],
            "type": "histogram2d"
           }
          ],
          "histogram2dcontour": [
           {
            "colorbar": {
             "outlinewidth": 0,
             "ticks": ""
            },
            "colorscale": [
             [
              0,
              "#0d0887"
             ],
             [
              0.1111111111111111,
              "#46039f"
             ],
             [
              0.2222222222222222,
              "#7201a8"
             ],
             [
              0.3333333333333333,
              "#9c179e"
             ],
             [
              0.4444444444444444,
              "#bd3786"
             ],
             [
              0.5555555555555556,
              "#d8576b"
             ],
             [
              0.6666666666666666,
              "#ed7953"
             ],
             [
              0.7777777777777778,
              "#fb9f3a"
             ],
             [
              0.8888888888888888,
              "#fdca26"
             ],
             [
              1,
              "#f0f921"
             ]
            ],
            "type": "histogram2dcontour"
           }
          ],
          "mesh3d": [
           {
            "colorbar": {
             "outlinewidth": 0,
             "ticks": ""
            },
            "type": "mesh3d"
           }
          ],
          "parcoords": [
           {
            "line": {
             "colorbar": {
              "outlinewidth": 0,
              "ticks": ""
             }
            },
            "type": "parcoords"
           }
          ],
          "pie": [
           {
            "automargin": true,
            "type": "pie"
           }
          ],
          "scatter": [
           {
            "fillpattern": {
             "fillmode": "overlay",
             "size": 10,
             "solidity": 0.2
            },
            "type": "scatter"
           }
          ],
          "scatter3d": [
           {
            "line": {
             "colorbar": {
              "outlinewidth": 0,
              "ticks": ""
             }
            },
            "marker": {
             "colorbar": {
              "outlinewidth": 0,
              "ticks": ""
             }
            },
            "type": "scatter3d"
           }
          ],
          "scattercarpet": [
           {
            "marker": {
             "colorbar": {
              "outlinewidth": 0,
              "ticks": ""
             }
            },
            "type": "scattercarpet"
           }
          ],
          "scattergeo": [
           {
            "marker": {
             "colorbar": {
              "outlinewidth": 0,
              "ticks": ""
             }
            },
            "type": "scattergeo"
           }
          ],
          "scattergl": [
           {
            "marker": {
             "colorbar": {
              "outlinewidth": 0,
              "ticks": ""
             }
            },
            "type": "scattergl"
           }
          ],
          "scattermapbox": [
           {
            "marker": {
             "colorbar": {
              "outlinewidth": 0,
              "ticks": ""
             }
            },
            "type": "scattermapbox"
           }
          ],
          "scatterpolar": [
           {
            "marker": {
             "colorbar": {
              "outlinewidth": 0,
              "ticks": ""
             }
            },
            "type": "scatterpolar"
           }
          ],
          "scatterpolargl": [
           {
            "marker": {
             "colorbar": {
              "outlinewidth": 0,
              "ticks": ""
             }
            },
            "type": "scatterpolargl"
           }
          ],
          "scatterternary": [
           {
            "marker": {
             "colorbar": {
              "outlinewidth": 0,
              "ticks": ""
             }
            },
            "type": "scatterternary"
           }
          ],
          "surface": [
           {
            "colorbar": {
             "outlinewidth": 0,
             "ticks": ""
            },
            "colorscale": [
             [
              0,
              "#0d0887"
             ],
             [
              0.1111111111111111,
              "#46039f"
             ],
             [
              0.2222222222222222,
              "#7201a8"
             ],
             [
              0.3333333333333333,
              "#9c179e"
             ],
             [
              0.4444444444444444,
              "#bd3786"
             ],
             [
              0.5555555555555556,
              "#d8576b"
             ],
             [
              0.6666666666666666,
              "#ed7953"
             ],
             [
              0.7777777777777778,
              "#fb9f3a"
             ],
             [
              0.8888888888888888,
              "#fdca26"
             ],
             [
              1,
              "#f0f921"
             ]
            ],
            "type": "surface"
           }
          ],
          "table": [
           {
            "cells": {
             "fill": {
              "color": "#EBF0F8"
             },
             "line": {
              "color": "white"
             }
            },
            "header": {
             "fill": {
              "color": "#C8D4E3"
             },
             "line": {
              "color": "white"
             }
            },
            "type": "table"
           }
          ]
         },
         "layout": {
          "annotationdefaults": {
           "arrowcolor": "#2a3f5f",
           "arrowhead": 0,
           "arrowwidth": 1
          },
          "autotypenumbers": "strict",
          "coloraxis": {
           "colorbar": {
            "outlinewidth": 0,
            "ticks": ""
           }
          },
          "colorscale": {
           "diverging": [
            [
             0,
             "#8e0152"
            ],
            [
             0.1,
             "#c51b7d"
            ],
            [
             0.2,
             "#de77ae"
            ],
            [
             0.3,
             "#f1b6da"
            ],
            [
             0.4,
             "#fde0ef"
            ],
            [
             0.5,
             "#f7f7f7"
            ],
            [
             0.6,
             "#e6f5d0"
            ],
            [
             0.7,
             "#b8e186"
            ],
            [
             0.8,
             "#7fbc41"
            ],
            [
             0.9,
             "#4d9221"
            ],
            [
             1,
             "#276419"
            ]
           ],
           "sequential": [
            [
             0,
             "#0d0887"
            ],
            [
             0.1111111111111111,
             "#46039f"
            ],
            [
             0.2222222222222222,
             "#7201a8"
            ],
            [
             0.3333333333333333,
             "#9c179e"
            ],
            [
             0.4444444444444444,
             "#bd3786"
            ],
            [
             0.5555555555555556,
             "#d8576b"
            ],
            [
             0.6666666666666666,
             "#ed7953"
            ],
            [
             0.7777777777777778,
             "#fb9f3a"
            ],
            [
             0.8888888888888888,
             "#fdca26"
            ],
            [
             1,
             "#f0f921"
            ]
           ],
           "sequentialminus": [
            [
             0,
             "#0d0887"
            ],
            [
             0.1111111111111111,
             "#46039f"
            ],
            [
             0.2222222222222222,
             "#7201a8"
            ],
            [
             0.3333333333333333,
             "#9c179e"
            ],
            [
             0.4444444444444444,
             "#bd3786"
            ],
            [
             0.5555555555555556,
             "#d8576b"
            ],
            [
             0.6666666666666666,
             "#ed7953"
            ],
            [
             0.7777777777777778,
             "#fb9f3a"
            ],
            [
             0.8888888888888888,
             "#fdca26"
            ],
            [
             1,
             "#f0f921"
            ]
           ]
          },
          "colorway": [
           "#636efa",
           "#EF553B",
           "#00cc96",
           "#ab63fa",
           "#FFA15A",
           "#19d3f3",
           "#FF6692",
           "#B6E880",
           "#FF97FF",
           "#FECB52"
          ],
          "font": {
           "color": "#2a3f5f"
          },
          "geo": {
           "bgcolor": "white",
           "lakecolor": "white",
           "landcolor": "#E5ECF6",
           "showlakes": true,
           "showland": true,
           "subunitcolor": "white"
          },
          "hoverlabel": {
           "align": "left"
          },
          "hovermode": "closest",
          "mapbox": {
           "style": "light"
          },
          "paper_bgcolor": "white",
          "plot_bgcolor": "#E5ECF6",
          "polar": {
           "angularaxis": {
            "gridcolor": "white",
            "linecolor": "white",
            "ticks": ""
           },
           "bgcolor": "#E5ECF6",
           "radialaxis": {
            "gridcolor": "white",
            "linecolor": "white",
            "ticks": ""
           }
          },
          "scene": {
           "xaxis": {
            "backgroundcolor": "#E5ECF6",
            "gridcolor": "white",
            "gridwidth": 2,
            "linecolor": "white",
            "showbackground": true,
            "ticks": "",
            "zerolinecolor": "white"
           },
           "yaxis": {
            "backgroundcolor": "#E5ECF6",
            "gridcolor": "white",
            "gridwidth": 2,
            "linecolor": "white",
            "showbackground": true,
            "ticks": "",
            "zerolinecolor": "white"
           },
           "zaxis": {
            "backgroundcolor": "#E5ECF6",
            "gridcolor": "white",
            "gridwidth": 2,
            "linecolor": "white",
            "showbackground": true,
            "ticks": "",
            "zerolinecolor": "white"
           }
          },
          "shapedefaults": {
           "line": {
            "color": "#2a3f5f"
           }
          },
          "ternary": {
           "aaxis": {
            "gridcolor": "white",
            "linecolor": "white",
            "ticks": ""
           },
           "baxis": {
            "gridcolor": "white",
            "linecolor": "white",
            "ticks": ""
           },
           "bgcolor": "#E5ECF6",
           "caxis": {
            "gridcolor": "white",
            "linecolor": "white",
            "ticks": ""
           }
          },
          "title": {
           "x": 0.05
          },
          "xaxis": {
           "automargin": true,
           "gridcolor": "white",
           "linecolor": "white",
           "ticks": "",
           "title": {
            "standoff": 15
           },
           "zerolinecolor": "white",
           "zerolinewidth": 2
          },
          "yaxis": {
           "automargin": true,
           "gridcolor": "white",
           "linecolor": "white",
           "ticks": "",
           "title": {
            "standoff": 15
           },
           "zerolinecolor": "white",
           "zerolinewidth": 2
          }
         }
        },
        "title": {
         "text": "cifar10 subset inspection"
        },
        "xaxis": {
         "anchor": "y",
         "domain": [
          0,
          0.235
         ]
        },
        "xaxis10": {
         "anchor": "y10",
         "domain": [
          0.255,
          0.49
         ],
         "matches": "x",
         "showticklabels": false
        },
        "xaxis11": {
         "anchor": "y11",
         "domain": [
          0.51,
          0.745
         ],
         "matches": "x",
         "showticklabels": false
        },
        "xaxis12": {
         "anchor": "y12",
         "domain": [
          0.7649999999999999,
          0.9999999999999999
         ],
         "matches": "x",
         "showticklabels": false
        },
        "xaxis2": {
         "anchor": "y2",
         "domain": [
          0.255,
          0.49
         ],
         "matches": "x"
        },
        "xaxis3": {
         "anchor": "y3",
         "domain": [
          0.51,
          0.745
         ],
         "matches": "x"
        },
        "xaxis4": {
         "anchor": "y4",
         "domain": [
          0.7649999999999999,
          0.9999999999999999
         ],
         "matches": "x"
        },
        "xaxis5": {
         "anchor": "y5",
         "domain": [
          0,
          0.235
         ],
         "matches": "x",
         "showticklabels": false
        },
        "xaxis6": {
         "anchor": "y6",
         "domain": [
          0.255,
          0.49
         ],
         "matches": "x",
         "showticklabels": false
        },
        "xaxis7": {
         "anchor": "y7",
         "domain": [
          0.51,
          0.745
         ],
         "matches": "x",
         "showticklabels": false
        },
        "xaxis8": {
         "anchor": "y8",
         "domain": [
          0.7649999999999999,
          0.9999999999999999
         ],
         "matches": "x",
         "showticklabels": false
        },
        "xaxis9": {
         "anchor": "y9",
         "domain": [
          0,
          0.235
         ],
         "matches": "x",
         "showticklabels": false
        },
        "yaxis": {
         "anchor": "x",
         "domain": [
          0,
          0.2866666666666666
         ]
        },
        "yaxis10": {
         "anchor": "x10",
         "domain": [
          0.7133333333333333,
          0.9999999999999999
         ],
         "matches": "y",
         "showticklabels": false
        },
        "yaxis11": {
         "anchor": "x11",
         "domain": [
          0.7133333333333333,
          0.9999999999999999
         ],
         "matches": "y",
         "showticklabels": false
        },
        "yaxis12": {
         "anchor": "x12",
         "domain": [
          0.7133333333333333,
          0.9999999999999999
         ],
         "matches": "y",
         "showticklabels": false
        },
        "yaxis2": {
         "anchor": "x2",
         "domain": [
          0,
          0.2866666666666666
         ],
         "matches": "y",
         "showticklabels": false
        },
        "yaxis3": {
         "anchor": "x3",
         "domain": [
          0,
          0.2866666666666666
         ],
         "matches": "y",
         "showticklabels": false
        },
        "yaxis4": {
         "anchor": "x4",
         "domain": [
          0,
          0.2866666666666666
         ],
         "matches": "y",
         "showticklabels": false
        },
        "yaxis5": {
         "anchor": "x5",
         "domain": [
          0.35666666666666663,
          0.6433333333333333
         ],
         "matches": "y"
        },
        "yaxis6": {
         "anchor": "x6",
         "domain": [
          0.35666666666666663,
          0.6433333333333333
         ],
         "matches": "y",
         "showticklabels": false
        },
        "yaxis7": {
         "anchor": "x7",
         "domain": [
          0.35666666666666663,
          0.6433333333333333
         ],
         "matches": "y",
         "showticklabels": false
        },
        "yaxis8": {
         "anchor": "x8",
         "domain": [
          0.35666666666666663,
          0.6433333333333333
         ],
         "matches": "y",
         "showticklabels": false
        },
        "yaxis9": {
         "anchor": "x9",
         "domain": [
          0.7133333333333333,
          0.9999999999999999
         ],
         "matches": "y"
        }
       }
      },
      "image/png": "[encoded data removed]"
     },
     "metadata": {},
     "output_type": "display_data"
    }
   ],
   "source": [
    "IMGS_IDX = [0, 1, 5673, 5494, 2, 55, 66, 776, 564]\n",
    "x = x_train[IMGS_IDX]\n",
    "y = y_train[IMGS_IDX]\n",
    "px.imshow(x, facet_col=0, facet_col_wrap=4, title=\"cifar10 subset inspection\")"
   ]
  },
  {
   "cell_type": "code",
   "execution_count": 19,
   "metadata": {},
   "outputs": [
    {
     "ename": "KeyboardInterrupt",
     "evalue": "",
     "output_type": "error",
     "traceback": [
      "\u001b[31m---------------------------------------------------------------------------\u001b[39m",
      "\u001b[31mKeyboardInterrupt\u001b[39m                         Traceback (most recent call last)",
      "\u001b[36mCell\u001b[39m\u001b[36m \u001b[39m\u001b[32mIn[19]\u001b[39m\u001b[32m, line 7\u001b[39m\n\u001b[32m      5\u001b[39m take_first_n_of_class = \u001b[38;5;28;01mlambda\u001b[39;00m data, class_idx: data[class_masks[:, class_idx]][:NB_SAMPLES_PER_CLASS]\n\u001b[32m      6\u001b[39m take_first_n_of_each_class = \u001b[38;5;28;01mlambda\u001b[39;00m data: np.concatenate([take_first_n_of_class(data, class_idx) \u001b[38;5;28;01mfor\u001b[39;00m class_idx \u001b[38;5;129;01min\u001b[39;00m \u001b[38;5;28mrange\u001b[39m(NB_CLASSES)], axis=\u001b[32m0\u001b[39m)\n\u001b[32m----> \u001b[39m\u001b[32m7\u001b[39m x_train_subset = take_first_n_of_each_class(x_train)\n\u001b[32m      8\u001b[39m y_train_subset = take_first_n_of_each_class(y_train)\n\u001b[32m      9\u001b[39m x_train_subset.shape\n",
      "\u001b[36mCell\u001b[39m\u001b[36m \u001b[39m\u001b[32mIn[19]\u001b[39m\u001b[32m, line 6\u001b[39m, in \u001b[36m<lambda>\u001b[39m\u001b[34m(data)\u001b[39m\n\u001b[32m      4\u001b[39m class_masks = y_train.argmax(\u001b[32m1\u001b[39m, keepdims=\u001b[38;5;28;01mTrue\u001b[39;00m) == np.arange(NB_CLASSES)\n\u001b[32m      5\u001b[39m take_first_n_of_class = \u001b[38;5;28;01mlambda\u001b[39;00m data, class_idx: data[class_masks[:, class_idx]][:NB_SAMPLES_PER_CLASS]\n\u001b[32m----> \u001b[39m\u001b[32m6\u001b[39m take_first_n_of_each_class = \u001b[38;5;28;01mlambda\u001b[39;00m data: np.concatenate([take_first_n_of_class(data, class_idx) \u001b[38;5;28;01mfor\u001b[39;00m class_idx \u001b[38;5;129;01min\u001b[39;00m \u001b[38;5;28mrange\u001b[39m(NB_CLASSES)], axis=\u001b[32m0\u001b[39m)\n\u001b[32m      7\u001b[39m x_train_subset = take_first_n_of_each_class(x_train)\n\u001b[32m      8\u001b[39m y_train_subset = take_first_n_of_each_class(y_train)\n",
      "\u001b[31mKeyboardInterrupt\u001b[39m: "
     ]
    }
   ],
   "source": [
    "NB_SAMPLES_PER_CLASS = 1000\n",
    "NB_CLASSES = 10\n",
    "\n",
    "class_masks = y_train.argmax(1, keepdims=True) == np.arange(NB_CLASSES)\n",
    "take_first_n_of_class = lambda data, class_idx: data[class_masks[:, class_idx]][:NB_SAMPLES_PER_CLASS]\n",
    "take_first_n_of_each_class = lambda data: np.concatenate([take_first_n_of_class(data, class_idx) for class_idx in range(NB_CLASSES)], axis=0)\n",
    "x_train_subset = take_first_n_of_each_class(x_train)\n",
    "y_train_subset = take_first_n_of_each_class(y_train)\n",
    "x_train_subset.shape"
   ]
  },
  {
   "cell_type": "markdown",
   "metadata": {},
   "source": [
    "## Fitting cifar10"
   ]
  },
  {
   "cell_type": "markdown",
   "metadata": {},
   "source": [
    "### Model declaration"
   ]
  },
  {
   "cell_type": "code",
   "execution_count": 8,
   "metadata": {},
   "outputs": [],
   "source": [
    "def create_nn() -> list[Layer]:\n",
    "    return [\n",
    "        Convolutional((10, 7, 7, 3)),\n",
    "        BatchNorm(),\n",
    "        Relu(),\n",
    "        MaxPool((2, 2)),\n",
    "        Flatten(),\n",
    "        Linear(1690, 300),\n",
    "        LeakyRelu(),\n",
    "        Linear(300, y.shape[1]),\n",
    "        Softmax(),\n",
    "    ]"
   ]
  },
  {
   "cell_type": "markdown",
   "metadata": {},
   "source": [
    "### Optimizer"
   ]
  },
  {
   "cell_type": "code",
   "execution_count": 9,
   "metadata": {},
   "outputs": [],
   "source": [
    "def create_optimizer(nn:list[Layer]) -> Adam:\n",
    "    return Adam(\n",
    "        nn,\n",
    "        x_train,\n",
    "        y_train,\n",
    "        BinaryCrossentropy(),\n",
    "        starting_lr=0.015,\n",
    "        lr_decay=0.0001,\n",
    "        momentum_weight=0.8,\n",
    "        ada_grad_weight=0.999,\n",
    "        l2_weight=0.0,\n",
    "    )"
   ]
  },
  {
   "cell_type": "code",
   "execution_count": 10,
   "metadata": {},
   "outputs": [],
   "source": [
    "NB_TEST_BATCHES = int(np.ceil(len(x_test) / MAX_NB_SAMPLES))\n",
    "loss = BinaryCrossentropy()\n",
    "\n",
    "def test_accuracy(metric_line:dict, nn:list[Layer], **_) -> dict:\n",
    "    y_test_pred = []\n",
    "    for x_test_subset in split(x_test, NB_TEST_BATCHES):\n",
    "        y_test_pred.append(reduce(lambda x, l: l.forward(x), nn, x_test_subset))\n",
    "    y_test_pred = np.concatenate(y_test_pred)\n",
    "    metric_line[\"test_accuracy\"] =  np.mean(y_test_pred.argmax(1) == y_test.argmax(1))\n",
    "    metric_line[\"test_loss\"] = loss.forward(y_test_pred, y_test)\n",
    "    return metric_line\n"
   ]
  },
  {
   "cell_type": "markdown",
   "metadata": {},
   "source": [
    "### Training"
   ]
  },
  {
   "cell_type": "code",
   "execution_count": 11,
   "metadata": {},
   "outputs": [],
   "source": [
    "nn = create_nn()\n",
    "first_optimizer = create_optimizer(nn)"
   ]
  },
  {
   "cell_type": "code",
   "execution_count": 12,
   "metadata": {},
   "outputs": [
    {
     "data": {
      "application/vnd.jupyter.widget-view+json": {
       "model_id": "f26f4b33c936478d86d4c0ab39c81b00",
       "version_major": 2,
       "version_minor": 0
      },
      "text/plain": [
       "FigureWidget({\n",
       "    'data': [{'hovertemplate': 'variable=loss<br>epoch=%{x}<br>value=%{y}<extra></extra>',\n",
       "              'legendgroup': 'loss',\n",
       "              'line': {'color': '#636efa', 'dash': 'solid'},\n",
       "              'marker': {'symbol': 'circle'},\n",
       "              'mode': 'lines+markers',\n",
       "              'name': 'loss',\n",
       "              'orientation': 'v',\n",
       "              'showlegend': True,\n",
       "              'type': 'scatter',\n",
       "              'uid': '99a9def7-1496-4ccc-92f2-f0e30a5af3ab',\n",
       "              'x': array([0]),\n",
       "              'xaxis': 'x5',\n",
       "              'y': array([0.3250852]),\n",
       "              'yaxis': 'y5'},\n",
       "             {'hovertemplate': 'variable=accuracy<br>epoch=%{x}<br>value=%{y}<extra></extra>',\n",
       "              'legendgroup': 'accuracy',\n",
       "              'line': {'color': '#EF553B', 'dash': 'solid'},\n",
       "              'marker': {'symbol': 'circle'},\n",
       "              'mode': 'lines+markers',\n",
       "              'name': 'accuracy',\n",
       "              'orientation': 'v',\n",
       "              'showlegend': True,\n",
       "              'type': 'scatter',\n",
       "              'uid': '9c242893-998a-469b-ba29-5515ad469b50',\n",
       "              'x': array([0]),\n",
       "              'xaxis': 'x4',\n",
       "              'y': array([0.1213]),\n",
       "              'yaxis': 'y4'},\n",
       "             {'hovertemplate': 'variable=test_accuracy<br>epoch=%{x}<br>value=%{y}<extra></extra>',\n",
       "              'legendgroup': 'test_accuracy',\n",
       "              'line': {'color': '#00cc96', 'dash': 'solid'},\n",
       "              'marker': {'symbol': 'circle'},\n",
       "              'mode': 'lines+markers',\n",
       "              'name': 'test_accuracy',\n",
       "              'orientation': 'v',\n",
       "              'showlegend': True,\n",
       "              'type': 'scatter',\n",
       "              'uid': '1ea17960-402d-4342-9aef-53de4c2f919c',\n",
       "              'x': array([0]),\n",
       "              'xaxis': 'x3',\n",
       "              'y': array([0.121]),\n",
       "              'yaxis': 'y3'},\n",
       "             {'hovertemplate': 'variable=test_loss<br>epoch=%{x}<br>value=%{y}<extra></extra>',\n",
       "              'legendgroup': 'test_loss',\n",
       "              'line': {'color': '#ab63fa', 'dash': 'solid'},\n",
       "              'marker': {'symbol': 'circle'},\n",
       "              'mode': 'lines+markers',\n",
       "              'name': 'test_loss',\n",
       "              'orientation': 'v',\n",
       "              'showlegend': True,\n",
       "              'type': 'scatter',\n",
       "              'uid': '79230fdf-fa81-422c-a873-c29641c48ff6',\n",
       "              'x': array([0]),\n",
       "              'xaxis': 'x2',\n",
       "              'y': array([0.32508546]),\n",
       "              'yaxis': 'y2'},\n",
       "             {'hovertemplate': 'variable=learning_rate<br>epoch=%{x}<br>value=%{y}<extra></extra>',\n",
       "              'legendgroup': 'learning_rate',\n",
       "              'line': {'color': '#FFA15A', 'dash': 'solid'},\n",
       "              'marker': {'symbol': 'circle'},\n",
       "              'mode': 'lines+markers',\n",
       "              'name': 'learning_rate',\n",
       "              'orientation': 'v',\n",
       "              'showlegend': True,\n",
       "              'type': 'scatter',\n",
       "              'uid': '805b3663-27c4-4672-9e36-b3e651a94269',\n",
       "              'x': array([0]),\n",
       "              'xaxis': 'x',\n",
       "              'y': array([0.015]),\n",
       "              'yaxis': 'y'}],\n",
       "    'layout': {'annotations': [{'showarrow': False,\n",
       "                                'text': 'variable=learning_rate',\n",
       "                                'textangle': 90,\n",
       "                                'x': 0.98,\n",
       "                                'xanchor': 'left',\n",
       "                                'xref': 'paper',\n",
       "                                'y': 0.08800000000000001,\n",
       "                                'yanchor': 'middle',\n",
       "                                'yref': 'paper'},\n",
       "                               {'showarrow': False,\n",
       "                                'text': 'variable=test_loss',\n",
       "                                'textangle': 90,\n",
       "                                'x': 0.98,\n",
       "                                'xanchor': 'left',\n",
       "                                'xref': 'paper',\n",
       "                                'y': 0.29400000000000004,\n",
       "                                'yanchor': 'middle',\n",
       "                                'yref': 'paper'},\n",
       "                               {'showarrow': False,\n",
       "                                'text': 'variable=test_accuracy',\n",
       "                                'textangle': 90,\n",
       "                                'x': 0.98,\n",
       "                                'xanchor': 'left',\n",
       "                                'xref': 'paper',\n",
       "                                'y': 0.5,\n",
       "                                'yanchor': 'middle',\n",
       "                                'yref': 'paper'},\n",
       "                               {'showarrow': False,\n",
       "                                'text': 'variable=accuracy',\n",
       "                                'textangle': 90,\n",
       "                                'x': 0.98,\n",
       "                                'xanchor': 'left',\n",
       "                                'xref': 'paper',\n",
       "                                'y': 0.706,\n",
       "                                'yanchor': 'middle',\n",
       "                                'yref': 'paper'},\n",
       "                               {'showarrow': False,\n",
       "                                'text': 'variable=loss',\n",
       "                                'textangle': 90,\n",
       "                                'x': 0.98,\n",
       "                                'xanchor': 'left',\n",
       "                                'xref': 'paper',\n",
       "                                'y': 0.912,\n",
       "                                'yanchor': 'middle',\n",
       "                                'yref': 'paper'}],\n",
       "               'height': 600,\n",
       "               'legend': {'title': {'text': 'variable'}, 'tracegroupgap': 0},\n",
       "               'margin': {'t': 60},\n",
       "               'template': '...',\n",
       "               'xaxis': {'anchor': 'y', 'domain': [0.0, 0.98], 'title': {'text': 'epoch'}},\n",
       "               'xaxis2': {'anchor': 'y2', 'domain': [0.0, 0.98], 'matches': 'x', 'showticklabels': False},\n",
       "               'xaxis3': {'anchor': 'y3', 'domain': [0.0, 0.98], 'matches': 'x', 'showticklabels': False},\n",
       "               'xaxis4': {'anchor': 'y4', 'domain': [0.0, 0.98], 'matches': 'x', 'showticklabels': False},\n",
       "               'xaxis5': {'anchor': 'y5', 'domain': [0.0, 0.98], 'matches': 'x', 'showticklabels': False},\n",
       "               'yaxis': {'anchor': 'x', 'domain': [0.0, 0.17600000000000002], 'title': {'text': 'value'}},\n",
       "               'yaxis2': {'anchor': 'x2', 'domain': [0.20600000000000002, 0.382], 'title': {'text': 'value'}},\n",
       "               'yaxis3': {'anchor': 'x3', 'domain': [0.41200000000000003, 0.5880000000000001], 'title': {'text': 'value'}},\n",
       "               'yaxis4': {'anchor': 'x4', 'domain': [0.618, 0.794], 'title': {'text': 'value'}},\n",
       "               'yaxis5': {'anchor': 'x5', 'domain': [0.8240000000000001, 1.0], 'title': {'text': 'value'}}}\n",
       "})"
      ]
     },
     "metadata": {},
     "output_type": "display_data"
    },
    {
     "name": "stdout",
     "output_type": "stream",
     "text": [
      "Caught KeyboardInterrupt exception, returning training metrics.\n"
     ]
    }
   ],
   "source": [
    "bad_training_stats = (\n",
    "    first_optimizer\n",
    "    .optimize_nn(\n",
    "        epochs=35,\n",
    "        batch_size=500,\n",
    "        metrics=[accuracy, test_accuracy],\n",
    "        plt_x=\"epoch\",\n",
    "        plt_ys=[\n",
    "            \"loss\",\n",
    "            \"accuracy\",\n",
    "            \"test_accuracy\",\n",
    "            \"test_loss\",\n",
    "            \"learning_rate\",\n",
    "        ],\n",
    "        height=600,\n",
    "    )\n",
    ")"
   ]
  },
  {
   "cell_type": "code",
   "execution_count": 20,
   "metadata": {},
   "outputs": [
    {
     "data": {
      "text/plain": [
       "{'test_accuracy': np.float64(0.3074),\n",
       " 'test_loss': np.float64(0.2805231878394473)}"
      ]
     },
     "execution_count": 20,
     "metadata": {},
     "output_type": "execute_result"
    }
   ],
   "source": [
    "test_accuracy({}, nn)"
   ]
  },
  {
   "cell_type": "markdown",
   "metadata": {},
   "source": [
    "### Inspecting the trained model"
   ]
  },
  {
   "cell_type": "code",
   "execution_count": 21,
   "metadata": {},
   "outputs": [
    {
     "data": {
      "application/vnd.plotly.v1+json": {
       "config": {
        "plotlyServerURL": "https://plot.ly"
       },
       "data": [
        {
         "hovertemplate": "x: %{x}<br>y: %{y}<extra></extra>",
         "name": "0",
         "source": "data:image/png;base64,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",
         "type": "image",
         "xaxis": "x",
         "yaxis": "y"
        }
       ],
       "layout": {
        "margin": {
         "t": 60
        },
        "template": {
         "data": {
          "bar": [
           {
            "error_x": {
             "color": "#2a3f5f"
            },
            "error_y": {
             "color": "#2a3f5f"
            },
            "marker": {
             "line": {
              "color": "#E5ECF6",
              "width": 0.5
             },
             "pattern": {
              "fillmode": "overlay",
              "size": 10,
              "solidity": 0.2
             }
            },
            "type": "bar"
           }
          ],
          "barpolar": [
           {
            "marker": {
             "line": {
              "color": "#E5ECF6",
              "width": 0.5
             },
             "pattern": {
              "fillmode": "overlay",
              "size": 10,
              "solidity": 0.2
             }
            },
            "type": "barpolar"
           }
          ],
          "carpet": [
           {
            "aaxis": {
             "endlinecolor": "#2a3f5f",
             "gridcolor": "white",
             "linecolor": "white",
             "minorgridcolor": "white",
             "startlinecolor": "#2a3f5f"
            },
            "baxis": {
             "endlinecolor": "#2a3f5f",
             "gridcolor": "white",
             "linecolor": "white",
             "minorgridcolor": "white",
             "startlinecolor": "#2a3f5f"
            },
            "type": "carpet"
           }
          ],
          "choropleth": [
           {
            "colorbar": {
             "outlinewidth": 0,
             "ticks": ""
            },
            "type": "choropleth"
           }
          ],
          "contour": [
           {
            "colorbar": {
             "outlinewidth": 0,
             "ticks": ""
            },
            "colorscale": [
             [
              0,
              "#0d0887"
             ],
             [
              0.1111111111111111,
              "#46039f"
             ],
             [
              0.2222222222222222,
              "#7201a8"
             ],
             [
              0.3333333333333333,
              "#9c179e"
             ],
             [
              0.4444444444444444,
              "#bd3786"
             ],
             [
              0.5555555555555556,
              "#d8576b"
             ],
             [
              0.6666666666666666,
              "#ed7953"
             ],
             [
              0.7777777777777778,
              "#fb9f3a"
             ],
             [
              0.8888888888888888,
              "#fdca26"
             ],
             [
              1,
              "#f0f921"
             ]
            ],
            "type": "contour"
           }
          ],
          "contourcarpet": [
           {
            "colorbar": {
             "outlinewidth": 0,
             "ticks": ""
            },
            "type": "contourcarpet"
           }
          ],
          "heatmap": [
           {
            "colorbar": {
             "outlinewidth": 0,
             "ticks": ""
            },
            "colorscale": [
             [
              0,
              "#0d0887"
             ],
             [
              0.1111111111111111,
              "#46039f"
             ],
             [
              0.2222222222222222,
              "#7201a8"
             ],
             [
              0.3333333333333333,
              "#9c179e"
             ],
             [
              0.4444444444444444,
              "#bd3786"
             ],
             [
              0.5555555555555556,
              "#d8576b"
             ],
             [
              0.6666666666666666,
              "#ed7953"
             ],
             [
              0.7777777777777778,
              "#fb9f3a"
             ],
             [
              0.8888888888888888,
              "#fdca26"
             ],
             [
              1,
              "#f0f921"
             ]
            ],
            "type": "heatmap"
           }
          ],
          "heatmapgl": [
           {
            "colorbar": {
             "outlinewidth": 0,
             "ticks": ""
            },
            "colorscale": [
             [
              0,
              "#0d0887"
             ],
             [
              0.1111111111111111,
              "#46039f"
             ],
             [
              0.2222222222222222,
              "#7201a8"
             ],
             [
              0.3333333333333333,
              "#9c179e"
             ],
             [
              0.4444444444444444,
              "#bd3786"
             ],
             [
              0.5555555555555556,
              "#d8576b"
             ],
             [
              0.6666666666666666,
              "#ed7953"
             ],
             [
              0.7777777777777778,
              "#fb9f3a"
             ],
             [
              0.8888888888888888,
              "#fdca26"
             ],
             [
              1,
              "#f0f921"
             ]
            ],
            "type": "heatmapgl"
           }
          ],
          "histogram": [
           {
            "marker": {
             "pattern": {
              "fillmode": "overlay",
              "size": 10,
              "solidity": 0.2
             }
            },
            "type": "histogram"
           }
          ],
          "histogram2d": [
           {
            "colorbar": {
             "outlinewidth": 0,
             "ticks": ""
            },
            "colorscale": [
             [
              0,
              "#0d0887"
             ],
             [
              0.1111111111111111,
              "#46039f"
             ],
             [
              0.2222222222222222,
              "#7201a8"
             ],
             [
              0.3333333333333333,
              "#9c179e"
             ],
             [
              0.4444444444444444,
              "#bd3786"
             ],
             [
              0.5555555555555556,
              "#d8576b"
             ],
             [
              0.6666666666666666,
              "#ed7953"
             ],
             [
              0.7777777777777778,
              "#fb9f3a"
             ],
             [
              0.8888888888888888,
              "#fdca26"
             ],
             [
              1,
              "#f0f921"
             ]
            ],
            "type": "histogram2d"
           }
          ],
          "histogram2dcontour": [
           {
            "colorbar": {
             "outlinewidth": 0,
             "ticks": ""
            },
            "colorscale": [
             [
              0,
              "#0d0887"
             ],
             [
              0.1111111111111111,
              "#46039f"
             ],
             [
              0.2222222222222222,
              "#7201a8"
             ],
             [
              0.3333333333333333,
              "#9c179e"
             ],
             [
              0.4444444444444444,
              "#bd3786"
             ],
             [
              0.5555555555555556,
              "#d8576b"
             ],
             [
              0.6666666666666666,
              "#ed7953"
             ],
             [
              0.7777777777777778,
              "#fb9f3a"
             ],
             [
              0.8888888888888888,
              "#fdca26"
             ],
             [
              1,
              "#f0f921"
             ]
            ],
            "type": "histogram2dcontour"
           }
          ],
          "mesh3d": [
           {
            "colorbar": {
             "outlinewidth": 0,
             "ticks": ""
            },
            "type": "mesh3d"
           }
          ],
          "parcoords": [
           {
            "line": {
             "colorbar": {
              "outlinewidth": 0,
              "ticks": ""
             }
            },
            "type": "parcoords"
           }
          ],
          "pie": [
           {
            "automargin": true,
            "type": "pie"
           }
          ],
          "scatter": [
           {
            "fillpattern": {
             "fillmode": "overlay",
             "size": 10,
             "solidity": 0.2
            },
            "type": "scatter"
           }
          ],
          "scatter3d": [
           {
            "line": {
             "colorbar": {
              "outlinewidth": 0,
              "ticks": ""
             }
            },
            "marker": {
             "colorbar": {
              "outlinewidth": 0,
              "ticks": ""
             }
            },
            "type": "scatter3d"
           }
          ],
          "scattercarpet": [
           {
            "marker": {
             "colorbar": {
              "outlinewidth": 0,
              "ticks": ""
             }
            },
            "type": "scattercarpet"
           }
          ],
          "scattergeo": [
           {
            "marker": {
             "colorbar": {
              "outlinewidth": 0,
              "ticks": ""
             }
            },
            "type": "scattergeo"
           }
          ],
          "scattergl": [
           {
            "marker": {
             "colorbar": {
              "outlinewidth": 0,
              "ticks": ""
             }
            },
            "type": "scattergl"
           }
          ],
          "scattermapbox": [
           {
            "marker": {
             "colorbar": {
              "outlinewidth": 0,
              "ticks": ""
             }
            },
            "type": "scattermapbox"
           }
          ],
          "scatterpolar": [
           {
            "marker": {
             "colorbar": {
              "outlinewidth": 0,
              "ticks": ""
             }
            },
            "type": "scatterpolar"
           }
          ],
          "scatterpolargl": [
           {
            "marker": {
             "colorbar": {
              "outlinewidth": 0,
              "ticks": ""
             }
            },
            "type": "scatterpolargl"
           }
          ],
          "scatterternary": [
           {
            "marker": {
             "colorbar": {
              "outlinewidth": 0,
              "ticks": ""
             }
            },
            "type": "scatterternary"
           }
          ],
          "surface": [
           {
            "colorbar": {
             "outlinewidth": 0,
             "ticks": ""
            },
            "colorscale": [
             [
              0,
              "#0d0887"
             ],
             [
              0.1111111111111111,
              "#46039f"
             ],
             [
              0.2222222222222222,
              "#7201a8"
             ],
             [
              0.3333333333333333,
              "#9c179e"
             ],
             [
              0.4444444444444444,
              "#bd3786"
             ],
             [
              0.5555555555555556,
              "#d8576b"
             ],
             [
              0.6666666666666666,
              "#ed7953"
             ],
             [
              0.7777777777777778,
              "#fb9f3a"
             ],
             [
              0.8888888888888888,
              "#fdca26"
             ],
             [
              1,
              "#f0f921"
             ]
            ],
            "type": "surface"
           }
          ],
          "table": [
           {
            "cells": {
             "fill": {
              "color": "#EBF0F8"
             },
             "line": {
              "color": "white"
             }
            },
            "header": {
             "fill": {
              "color": "#C8D4E3"
             },
             "line": {
              "color": "white"
             }
            },
            "type": "table"
           }
          ]
         },
         "layout": {
          "annotationdefaults": {
           "arrowcolor": "#2a3f5f",
           "arrowhead": 0,
           "arrowwidth": 1
          },
          "autotypenumbers": "strict",
          "coloraxis": {
           "colorbar": {
            "outlinewidth": 0,
            "ticks": ""
           }
          },
          "colorscale": {
           "diverging": [
            [
             0,
             "#8e0152"
            ],
            [
             0.1,
             "#c51b7d"
            ],
            [
             0.2,
             "#de77ae"
            ],
            [
             0.3,
             "#f1b6da"
            ],
            [
             0.4,
             "#fde0ef"
            ],
            [
             0.5,
             "#f7f7f7"
            ],
            [
             0.6,
             "#e6f5d0"
            ],
            [
             0.7,
             "#b8e186"
            ],
            [
             0.8,
             "#7fbc41"
            ],
            [
             0.9,
             "#4d9221"
            ],
            [
             1,
             "#276419"
            ]
           ],
           "sequential": [
            [
             0,
             "#0d0887"
            ],
            [
             0.1111111111111111,
             "#46039f"
            ],
            [
             0.2222222222222222,
             "#7201a8"
            ],
            [
             0.3333333333333333,
             "#9c179e"
            ],
            [
             0.4444444444444444,
             "#bd3786"
            ],
            [
             0.5555555555555556,
             "#d8576b"
            ],
            [
             0.6666666666666666,
             "#ed7953"
            ],
            [
             0.7777777777777778,
             "#fb9f3a"
            ],
            [
             0.8888888888888888,
             "#fdca26"
            ],
            [
             1,
             "#f0f921"
            ]
           ],
           "sequentialminus": [
            [
             0,
             "#0d0887"
            ],
            [
             0.1111111111111111,
             "#46039f"
            ],
            [
             0.2222222222222222,
             "#7201a8"
            ],
            [
             0.3333333333333333,
             "#9c179e"
            ],
            [
             0.4444444444444444,
             "#bd3786"
            ],
            [
             0.5555555555555556,
             "#d8576b"
            ],
            [
             0.6666666666666666,
             "#ed7953"
            ],
            [
             0.7777777777777778,
             "#fb9f3a"
            ],
            [
             0.8888888888888888,
             "#fdca26"
            ],
            [
             1,
             "#f0f921"
            ]
           ]
          },
          "colorway": [
           "#636efa",
           "#EF553B",
           "#00cc96",
           "#ab63fa",
           "#FFA15A",
           "#19d3f3",
           "#FF6692",
           "#B6E880",
           "#FF97FF",
           "#FECB52"
          ],
          "font": {
           "color": "#2a3f5f"
          },
          "geo": {
           "bgcolor": "white",
           "lakecolor": "white",
           "landcolor": "#E5ECF6",
           "showlakes": true,
           "showland": true,
           "subunitcolor": "white"
          },
          "hoverlabel": {
           "align": "left"
          },
          "hovermode": "closest",
          "mapbox": {
           "style": "light"
          },
          "paper_bgcolor": "white",
          "plot_bgcolor": "#E5ECF6",
          "polar": {
           "angularaxis": {
            "gridcolor": "white",
            "linecolor": "white",
            "ticks": ""
           },
           "bgcolor": "#E5ECF6",
           "radialaxis": {
            "gridcolor": "white",
            "linecolor": "white",
            "ticks": ""
           }
          },
          "scene": {
           "xaxis": {
            "backgroundcolor": "#E5ECF6",
            "gridcolor": "white",
            "gridwidth": 2,
            "linecolor": "white",
            "showbackground": true,
            "ticks": "",
            "zerolinecolor": "white"
           },
           "yaxis": {
            "backgroundcolor": "#E5ECF6",
            "gridcolor": "white",
            "gridwidth": 2,
            "linecolor": "white",
            "showbackground": true,
            "ticks": "",
            "zerolinecolor": "white"
           },
           "zaxis": {
            "backgroundcolor": "#E5ECF6",
            "gridcolor": "white",
            "gridwidth": 2,
            "linecolor": "white",
            "showbackground": true,
            "ticks": "",
            "zerolinecolor": "white"
           }
          },
          "shapedefaults": {
           "line": {
            "color": "#2a3f5f"
           }
          },
          "ternary": {
           "aaxis": {
            "gridcolor": "white",
            "linecolor": "white",
            "ticks": ""
           },
           "baxis": {
            "gridcolor": "white",
            "linecolor": "white",
            "ticks": ""
           },
           "bgcolor": "#E5ECF6",
           "caxis": {
            "gridcolor": "white",
            "linecolor": "white",
            "ticks": ""
           }
          },
          "title": {
           "x": 0.05
          },
          "xaxis": {
           "automargin": true,
           "gridcolor": "white",
           "linecolor": "white",
           "ticks": "",
           "title": {
            "standoff": 15
           },
           "zerolinecolor": "white",
           "zerolinewidth": 2
          },
          "yaxis": {
           "automargin": true,
           "gridcolor": "white",
           "linecolor": "white",
           "ticks": "",
           "title": {
            "standoff": 15
           },
           "zerolinecolor": "white",
           "zerolinewidth": 2
          }
         }
        },
        "xaxis": {
         "anchor": "y",
         "domain": [
          0,
          1
         ]
        },
        "yaxis": {
         "anchor": "x",
         "domain": [
          0,
          1
         ]
        }
       }
      },
      "image/png": "[encoded data removed]"
     },
     "metadata": {},
     "output_type": "display_data"
    }
   ],
   "source": [
    "TARGET_IMG = 30\n",
    "px.imshow(x_train[TARGET_IMG])"
   ]
  },
  {
   "cell_type": "code",
   "execution_count": 22,
   "metadata": {},
   "outputs": [
    {
     "data": {
      "application/vnd.plotly.v1+json": {
       "config": {
        "plotlyServerURL": "https://plot.ly"
       },
       "data": [
        {
         "coloraxis": "coloraxis",
         "hovertemplate": "x: %{x}<br>y: %{y}<br>color: %{z}<extra></extra>",
         "name": "0",
         "type": "heatmap",
         "xaxis": "x",
         "yaxis": "y",
         "z": [
          [
           0,
           0,
           0,
           0,
           0,
           0,
           0,
           0,
           0,
           0,
           0,
           0,
           0
          ],
          [
           0,
           0,
           0,
           0,
           0,
           0,
           0,
           0,
           0,
           0,
           0,
           0,
           0
          ],
          [
           0,
           0,
           0,
           0,
           0,
           0,
           0,
           0,
           0,
           0,
           0,
           0,
           0
          ],
          [
           0,
           0,
           0,
           0,
           0,
           0.023459869612705686,
           0.11913421895264864,
           0.16766736281606848,
           0.16060255061312884,
           0.058521355169735834,
           0,
           0,
           0
          ],
          [
           0,
           0,
           0,
           0,
           0,
           0.06571952632505518,
           0.13382308567707657,
           0.16377129665559875,
           0.18433390124079596,
           0.09983641815406114,
           0,
           0,
           0
          ],
          [
           0,
           0,
           0,
           0.0436253079413077,
           0.17077835647491507,
           0.2536242269411457,
           0.2761582200918289,
           0.19959604006472714,
           0.14765474184901878,
           0.060019319302297425,
           0,
           0,
           0
          ],
          [
           0,
           0,
           0.06667983802700095,
           0.19153016089808206,
           0.3747918783995783,
           0.4690062846562798,
           0.43476784832924764,
           0.2702271440665711,
           0.10928987833193776,
           0,
           0,
           0,
           0
          ],
          [
           0,
           0.02903741355221573,
           0.1585962640526089,
           0.25542186226974994,
           0.25951458146531114,
           0.26014992598199416,
           0.18296076126619104,
           0.0080715420363075,
           0,
           0,
           0,
           0,
           0
          ],
          [
           0,
           0,
           0.051830610298973956,
           0.11374139798821614,
           0.12833095841828634,
           0.09734534727615968,
           0,
           0,
           0,
           0,
           0,
           0,
           0
          ],
          [
           0,
           0,
           0,
           0,
           0.08911126477550874,
           0.08770846478446537,
           0,
           0,
           0,
           0,
           0,
           0,
           0
          ],
          [
           0,
           0,
           0,
           0,
           0,
           0,
           0,
           0,
           0,
           0,
           0,
           0,
           0
          ],
          [
           0,
           0,
           0,
           0,
           0,
           0,
           0,
           0,
           0,
           0,
           0,
           0,
           0
          ],
          [
           0,
           0,
           0,
           0,
           0,
           0,
           0,
           0,
           0,
           0,
           0,
           0,
           0
          ]
         ]
        },
        {
         "coloraxis": "coloraxis",
         "hovertemplate": "x: %{x}<br>y: %{y}<br>color: %{z}<extra></extra>",
         "name": "1",
         "type": "heatmap",
         "xaxis": "x2",
         "yaxis": "y2",
         "z": [
          [
           0,
           0,
           0,
           0,
           0,
           0,
           0,
           0,
           0,
           0,
           0,
           0,
           0
          ],
          [
           0,
           0,
           0,
           0,
           0,
           0,
           0,
           0,
           0,
           0,
           0,
           0,
           0
          ],
          [
           0,
           0,
           0,
           0,
           0,
           0,
           0,
           0,
           0,
           0,
           0,
           0,
           0
          ],
          [
           0,
           0,
           0,
           0,
           0.13373519495084052,
           0.29738622530264147,
           0.26776665972354263,
           0.15099812055922718,
           0,
           0,
           0,
           0,
           0
          ],
          [
           0,
           0,
           0.012189164812885511,
           0.1712887784200257,
           0.3984145344737555,
           0.5130620157494722,
           0.4764938911253854,
           0.2423112760118784,
           0,
           0,
           0,
           0,
           0
          ],
          [
           0,
           0.16201962964721478,
           0.41749784788833133,
           0.6231887765874367,
           0.7253376624975184,
           0.7620561883051037,
           0.726288231595939,
           0.467809859371223,
           0.21838246982260923,
           0,
           0,
           0,
           0
          ],
          [
           0,
           0.060276011368616655,
           0.4305129903200864,
           0.6961170743710454,
           0.8558517162490092,
           0.9924731036661724,
           0.943871357132395,
           0.8563248436957608,
           0.6735273284030364,
           0.33594937794208346,
           0,
           0,
           0
          ],
          [
           0,
           0,
           0.2556097403709344,
           0.41324386095858623,
           0.5056815139281052,
           0.5709847682416213,
           0.5663007613717214,
           0.7193629367233422,
           0.7080714355355077,
           0.5347604022834664,
           0.24186653420874038,
           0,
           0
          ],
          [
           0,
           0,
           0,
           0,
           0,
           0.037613662096786404,
           0.07280717941440334,
           0.34959748729735873,
           0.5042967618324679,
           0.5293419749162492,
           0.4720436983349303,
           0.20565294448037863,
           0.0034744509339054708
          ],
          [
           0,
           0,
           0,
           0,
           0.022643192737190898,
           0.058718280404672474,
           0.04914648159176388,
           0.1508816808291396,
           0.28942128781900944,
           0.3912093160481994,
           0.42160299904633536,
           0.25771155151773284,
           0.04494792168688
          ],
          [
           0,
           0,
           0,
           0,
           0,
           0,
           0,
           0,
           0,
           0,
           0.06617565642798345,
           0.08396865741147014,
           0
          ],
          [
           0,
           0,
           0,
           0,
           0,
           0,
           0,
           0,
           0,
           0,
           0,
           0,
           0
          ],
          [
           0,
           0,
           0,
           0,
           0,
           0,
           0,
           0,
           0,
           0,
           0,
           0,
           0
          ]
         ]
        },
        {
         "coloraxis": "coloraxis",
         "hovertemplate": "x: %{x}<br>y: %{y}<br>color: %{z}<extra></extra>",
         "name": "2",
         "type": "heatmap",
         "xaxis": "x3",
         "yaxis": "y3",
         "z": [
          [
           0,
           0,
           0,
           0,
           0,
           0,
           0,
           0,
           0,
           0,
           0,
           0,
           0
          ],
          [
           0,
           0,
           0,
           0,
           0,
           0,
           0,
           0,
           0,
           0,
           0,
           0,
           0
          ],
          [
           0,
           0,
           0,
           0,
           0,
           0,
           0,
           0,
           0.027572226051723936,
           0.02860762019950469,
           0,
           0,
           0
          ],
          [
           0,
           0,
           0,
           0,
           0,
           0,
           0,
           0,
           0,
           0.014581063893616963,
           0,
           0,
           0
          ],
          [
           0,
           0,
           0,
           0,
           0,
           0,
           0,
           0,
           0,
           0,
           0,
           0,
           0
          ],
          [
           0,
           0,
           0,
           0,
           0,
           0,
           0,
           0,
           0,
           0,
           0,
           0,
           0
          ],
          [
           0,
           0,
           0,
           0,
           0,
           0,
           0,
           0,
           0,
           0,
           0,
           0,
           0
          ],
          [
           0.521768693886822,
           0.3481024062667986,
           0,
           0,
           0,
           0,
           0,
           0,
           0,
           0,
           0,
           0,
           0
          ],
          [
           1.155399589227405,
           1.0951537598584287,
           0.6276294428262204,
           0.11602159794154354,
           0,
           0,
           0,
           0,
           0,
           0,
           0,
           0,
           0
          ],
          [
           1.3535330204911236,
           1.3235550036262198,
           0.8464340036908495,
           0.2425206774620529,
           0,
           0,
           0,
           0,
           0,
           0,
           0,
           0,
           0
          ],
          [
           0.8820703425840408,
           0.9291947651219463,
           0.6813519866352453,
           0.19206997374501034,
           0,
           0,
           0,
           0,
           0,
           0,
           0,
           0,
           0
          ],
          [
           0.0032895515763450844,
           0.04405957099345664,
           0.034232290098230256,
           0,
           0,
           0,
           0,
           0,
           0,
           0,
           0,
           0,
           0
          ],
          [
           0,
           0,
           0,
           0,
           0,
           0,
           0,
           0,
           0,
           0,
           0,
           0,
           0
          ]
         ]
        },
        {
         "coloraxis": "coloraxis",
         "hovertemplate": "x: %{x}<br>y: %{y}<br>color: %{z}<extra></extra>",
         "name": "3",
         "type": "heatmap",
         "xaxis": "x4",
         "yaxis": "y4",
         "z": [
          [
           0,
           0,
           0,
           0,
           0,
           0,
           0,
           0,
           0,
           0,
           0,
           0,
           0
          ],
          [
           0,
           0,
           0,
           0,
           0,
           0,
           0,
           0,
           0,
           0,
           0,
           0,
           0
          ],
          [
           0,
           0,
           0,
           0,
           0,
           0,
           0,
           0.047337250487100524,
           0.13603623090466715,
           0.12768503892168426,
           0.01295418423778999,
           0,
           0
          ],
          [
           0,
           0,
           0,
           0,
           0,
           0,
           0,
           0,
           0.11434243179014064,
           0.12615400745534244,
           0.045208778740589206,
           0,
           0
          ],
          [
           0,
           0,
           0,
           0,
           0,
           0,
           0,
           0,
           0.0020710045081975825,
           0.07968315347079352,
           0.04238310655562344,
           0,
           0
          ],
          [
           0,
           0,
           0,
           0,
           0,
           0,
           0,
           0,
           0,
           0,
           0,
           0,
           0
          ],
          [
           0,
           0,
           0,
           0,
           0,
           0,
           0,
           0,
           0,
           0,
           0,
           0,
           0
          ],
          [
           0.4790562291008709,
           0.2888583323243346,
           0,
           0,
           0,
           0,
           0,
           0,
           0,
           0,
           0,
           0,
           0
          ],
          [
           0.6176567385236806,
           0.4910290475340359,
           0.23280443103329468,
           0,
           0,
           0,
           0,
           0,
           0,
           0,
           0,
           0,
           0
          ],
          [
           0.7268421819352888,
           0.6610922138684114,
           0.40625080871548097,
           0.07372382022663976,
           0,
           0,
           0,
           0,
           0,
           0,
           0,
           0,
           0
          ],
          [
           0.5860743481326458,
           0.5536703496348778,
           0.3906562328759731,
           0.07673436232697001,
           0,
           0,
           0,
           0,
           0,
           0,
           0,
           0,
           0
          ],
          [
           0,
           0,
           0.003263339307634172,
           0,
           0.0035539554599121614,
           0.017709109711635307,
           0.01622177529466773,
           0,
           0,
           0,
           0,
           0,
           0
          ],
          [
           0,
           0,
           0,
           0,
           0.02336011527646281,
           0.01971982933496752,
           0.019385851003498544,
           0.0094745469938608,
           0,
           0,
           0,
           0,
           0
          ]
         ]
        },
        {
         "coloraxis": "coloraxis",
         "hovertemplate": "x: %{x}<br>y: %{y}<br>color: %{z}<extra></extra>",
         "name": "4",
         "type": "heatmap",
         "xaxis": "x5",
         "yaxis": "y5",
         "z": [
          [
           0,
           0,
           0,
           0,
           0,
           0,
           0,
           0,
           0,
           0,
           0,
           0,
           0
          ],
          [
           0,
           0,
           0,
           0,
           0,
           0,
           0,
           0,
           0,
           0,
           0,
           0,
           0
          ],
          [
           0,
           0,
           0,
           0,
           0,
           0,
           0,
           0,
           0,
           0,
           0,
           0,
           0
          ],
          [
           0,
           0,
           0,
           0,
           0.04860653824597,
           0.13956616945011657,
           0.16915541647975701,
           0.19447460439683767,
           0.16014217164656053,
           0.05956995008049265,
           0,
           0,
           0
          ],
          [
           0,
           0,
           0,
           0.004657003331653364,
           0.09981097050230475,
           0.21652418874366858,
           0.2629756655273912,
           0.23622611607327343,
           0.19735475539572356,
           0.09687734582696067,
           0,
           0,
           0
          ],
          [
           0,
           0.0008859703795702778,
           0.1143421755231035,
           0.2158902333912151,
           0.3326566855532533,
           0.4128513072831857,
           0.42492383130470707,
           0.3313321869962406,
           0.208758595531726,
           0.08868516901330575,
           0,
           0,
           0
          ],
          [
           0,
           0,
           0.16412823915518132,
           0.3411251154934087,
           0.5356641746752597,
           0.6503333514917113,
           0.6170448298477267,
           0.4620776128229274,
           0.24353554202841993,
           0.09502166074805335,
           0,
           0,
           0
          ],
          [
           0,
           0,
           0.20198774644226608,
           0.3780896907263778,
           0.36963040360740634,
           0.38745967333343195,
           0.30775441402516085,
           0.17930604292117303,
           0.10196153357361953,
           0,
           0,
           0,
           0
          ],
          [
           0,
           0,
           0.009336070881376224,
           0.06909984320951479,
           0.05673892395767177,
           0.05753124796224557,
           0,
           0,
           0,
           0,
           0,
           0,
           0
          ],
          [
           0,
           0,
           0,
           0,
           0.051387668540739395,
           0.07686963327549123,
           0,
           0,
           0,
           0,
           0,
           0,
           0.010949208787630949
          ],
          [
           0,
           0,
           0,
           0,
           0,
           0,
           0,
           0,
           0,
           0,
           0,
           0,
           0
          ],
          [
           0,
           0,
           0,
           0,
           0,
           0,
           0,
           0,
           0,
           0,
           0,
           0,
           0
          ],
          [
           0,
           0,
           0,
           0,
           0,
           0,
           0,
           0,
           0,
           0,
           0,
           0,
           0
          ]
         ]
        },
        {
         "coloraxis": "coloraxis",
         "hovertemplate": "x: %{x}<br>y: %{y}<br>color: %{z}<extra></extra>",
         "name": "5",
         "type": "heatmap",
         "xaxis": "x6",
         "yaxis": "y6",
         "z": [
          [
           0,
           0,
           0,
           0,
           0,
           0,
           0,
           0,
           0,
           0,
           0,
           0,
           0
          ],
          [
           0,
           0,
           0,
           0,
           0,
           0,
           0,
           0,
           0,
           0,
           0,
           0,
           0
          ],
          [
           0,
           0,
           0,
           0,
           0,
           0,
           0,
           0,
           0,
           0,
           0,
           0,
           0
          ],
          [
           0,
           0,
           0,
           0,
           0,
           0,
           0,
           0,
           0,
           0,
           0,
           0,
           0
          ],
          [
           0,
           0,
           0,
           0,
           0,
           0,
           0,
           0,
           0,
           0,
           0,
           0,
           0
          ],
          [
           0,
           0,
           0,
           0,
           0,
           0,
           0,
           0,
           0,
           0,
           0,
           0,
           0
          ],
          [
           0,
           0,
           0,
           0,
           0,
           0,
           0,
           0,
           0,
           0,
           0,
           0,
           0
          ],
          [
           0.07930327654944153,
           0,
           0,
           0,
           0,
           0,
           0,
           0,
           0,
           0,
           0,
           0,
           0
          ],
          [
           0.5051857901419763,
           0.4517144566863943,
           0.06419143954986195,
           0,
           0,
           0,
           0,
           0,
           0,
           0,
           0,
           0,
           0
          ],
          [
           0.7935106692974861,
           0.727014641634902,
           0.37353622784636586,
           0,
           0,
           0,
           0,
           0,
           0,
           0,
           0,
           0,
           0
          ],
          [
           0.6820175593987947,
           0.6319483660761667,
           0.35599908530193747,
           0.0469810669501281,
           0,
           0,
           0,
           0,
           0,
           0,
           0,
           0,
           0
          ],
          [
           0.2100507013355516,
           0.20864383911397666,
           0.1087024047204676,
           0,
           0,
           0,
           0,
           0,
           0,
           0,
           0,
           0,
           0
          ],
          [
           0,
           0,
           0,
           0,
           0,
           0,
           0,
           0,
           0,
           0,
           0,
           0,
           0
          ]
         ]
        },
        {
         "coloraxis": "coloraxis",
         "hovertemplate": "x: %{x}<br>y: %{y}<br>color: %{z}<extra></extra>",
         "name": "6",
         "type": "heatmap",
         "xaxis": "x7",
         "yaxis": "y7",
         "z": [
          [
           0,
           0,
           0,
           0,
           0,
           0,
           0,
           0,
           0,
           0,
           0,
           0,
           0
          ],
          [
           0,
           0,
           0,
           0,
           0,
           0,
           0,
           0,
           0,
           0,
           0,
           0,
           0
          ],
          [
           0,
           0,
           0,
           0,
           0,
           0,
           0,
           0,
           0,
           0,
           0,
           0,
           0
          ],
          [
           0,
           0,
           0,
           0,
           0,
           0,
           0,
           0.11654954316915916,
           0.16839675624502037,
           0.062131167198742454,
           0,
           0,
           0
          ],
          [
           0,
           0,
           0,
           0,
           0,
           0,
           0,
           0.09312611737134113,
           0.1572481012122599,
           0.07472288989862547,
           0,
           0,
           0
          ],
          [
           0,
           0,
           0,
           0,
           0.004682151363594067,
           0.050173490816049604,
           0.06408555957396345,
           0.00596587237519941,
           0.05854329542547776,
           0,
           0,
           0,
           0
          ],
          [
           0,
           0,
           0,
           0.0758980456873552,
           0.22382755752699807,
           0.3285401498937283,
           0.28380539761163764,
           0.10394135443722441,
           0,
           0,
           0,
           0,
           0
          ],
          [
           0,
           0.05820281475922112,
           0.10385911555041921,
           0.12107983125210425,
           0.10506341145942527,
           0.10479543630327948,
           0.029086316964665182,
           0,
           0,
           0,
           0,
           0,
           0
          ],
          [
           0,
           0.010421008975748602,
           0.04275166822490639,
           0.047553320825743484,
           0.05776866721069701,
           0.0486209177399376,
           0,
           0,
           0,
           0,
           0,
           0,
           0
          ],
          [
           0,
           0,
           0,
           0,
           0.06268938867262563,
           0.08804128953015822,
           0,
           0,
           0,
           0,
           0,
           0,
           0
          ],
          [
           0,
           0,
           0,
           0,
           0,
           0,
           0,
           0,
           0,
           0,
           0,
           0,
           0
          ],
          [
           0,
           0,
           0,
           0,
           0,
           0,
           0,
           0,
           0,
           0,
           0,
           0,
           0
          ],
          [
           0,
           0,
           0,
           0,
           0,
           0,
           0,
           0,
           0,
           0,
           0,
           0,
           0
          ]
         ]
        },
        {
         "coloraxis": "coloraxis",
         "hovertemplate": "x: %{x}<br>y: %{y}<br>color: %{z}<extra></extra>",
         "name": "7",
         "type": "heatmap",
         "xaxis": "x8",
         "yaxis": "y8",
         "z": [
          [
           0,
           0,
           0,
           0,
           0,
           0,
           0,
           0,
           0,
           0,
           0,
           0,
           0
          ],
          [
           0,
           0,
           0,
           0,
           0,
           0,
           0,
           0.034451118154695926,
           0.020614081258281847,
           0,
           0,
           0,
           0
          ],
          [
           0,
           0,
           0,
           0,
           0,
           0,
           0,
           0.07120841241463294,
           0.15469317567576213,
           0.13657495849774481,
           0.05116108404890557,
           0,
           0
          ],
          [
           0,
           0,
           0,
           0,
           0,
           0,
           0,
           0.18640238625501282,
           0.2827261269427079,
           0.24303546620919064,
           0.10551215976471551,
           0,
           0
          ],
          [
           0,
           0,
           0,
           0,
           0,
           0,
           0,
           0.1739757981505179,
           0.2938836919522852,
           0.25764455971797223,
           0.10998541259809685,
           0,
           0
          ],
          [
           0,
           0,
           0,
           0,
           0,
           0,
           0,
           0,
           0.13598939371985702,
           0.10728268284727965,
           0.04023769271329952,
           0,
           0
          ],
          [
           0,
           0,
           0,
           0,
           0.015477589781781986,
           0.039817737218546145,
           0,
           0,
           0,
           0,
           0,
           0,
           0
          ],
          [
           0.30581991279193294,
           0.3209836283143946,
           0.24976445259770635,
           0.09524948754495027,
           0.011913240806686709,
           0,
           0,
           0,
           0,
           0,
           0,
           0,
           0
          ],
          [
           0.3728945261813143,
           0.343507587331312,
           0.2822327595810988,
           0.12118434844393072,
           0,
           0,
           0,
           0,
           0,
           0,
           0,
           0,
           0
          ],
          [
           0.04899112751211482,
           0.012853795319656691,
           0,
           0,
           0,
           0,
           0,
           0,
           0,
           0,
           0,
           0,
           0
          ],
          [
           0,
           0,
           0,
           0,
           0,
           0,
           0,
           0,
           0,
           0,
           0,
           0,
           0
          ],
          [
           0,
           0,
           0,
           0,
           0,
           0.02433338924877093,
           0.03327226799892952,
           0.016726783826823466,
           0,
           0,
           0,
           0,
           0
          ],
          [
           0,
           0,
           0,
           0,
           0.005898472950723099,
           0.003964678802602983,
           0.017392468620212487,
           0.011159003124490918,
           0,
           0,
           0,
           0,
           0
          ]
         ]
        },
        {
         "coloraxis": "coloraxis",
         "hovertemplate": "x: %{x}<br>y: %{y}<br>color: %{z}<extra></extra>",
         "name": "8",
         "type": "heatmap",
         "xaxis": "x9",
         "yaxis": "y9",
         "z": [
          [
           0,
           0,
           0,
           0,
           0,
           0,
           0,
           0,
           0,
           0,
           0,
           0,
           0
          ],
          [
           0,
           0,
           0,
           0,
           0,
           0,
           0,
           0,
           0,
           0,
           0,
           0,
           0
          ],
          [
           0,
           0,
           0,
           0,
           0,
           0,
           0,
           0,
           0,
           0.014107991720193336,
           0,
           0,
           0
          ],
          [
           0,
           0,
           0,
           0,
           0,
           0,
           0,
           0,
           0,
           0,
           0,
           0,
           0
          ],
          [
           0,
           0,
           0,
           0,
           0,
           0,
           0,
           0,
           0,
           0,
           0,
           0,
           0
          ],
          [
           0,
           0,
           0,
           0,
           0,
           0,
           0,
           0,
           0,
           0,
           0,
           0,
           0
          ],
          [
           0,
           0,
           0,
           0,
           0,
           0,
           0,
           0,
           0,
           0,
           0,
           0,
           0
          ],
          [
           0.32767869836549324,
           0.09246507777824134,
           0,
           0,
           0,
           0,
           0,
           0,
           0,
           0,
           0,
           0,
           0
          ],
          [
           0.5742121699642634,
           0.4587559936960931,
           0.05317420828579819,
           0,
           0,
           0,
           0,
           0,
           0,
           0,
           0,
           0,
           0
          ],
          [
           0.8894543839780135,
           0.7957166912138048,
           0.3447346545476413,
           0,
           0,
           0,
           0,
           0,
           0,
           0,
           0,
           0,
           0
          ],
          [
           0.8396978093727322,
           0.7548975112955019,
           0.40470976795881364,
           0.19754945201764187,
           0.03989150490897822,
           0.028308918747121325,
           0.019676289680801068,
           0.013350461211074832,
           0,
           0,
           0,
           0,
           0
          ],
          [
           0.37197070195011206,
           0.3620484590422135,
           0.26609251463149164,
           0.12792935589495033,
           0,
           0,
           0,
           0,
           0,
           0,
           0,
           0,
           0
          ],
          [
           0.01699956816231013,
           0.009999506533950236,
           0,
           0,
           0,
           0,
           0,
           0,
           0,
           0,
           0,
           0,
           0
          ]
         ]
        },
        {
         "coloraxis": "coloraxis",
         "hovertemplate": "x: %{x}<br>y: %{y}<br>color: %{z}<extra></extra>",
         "name": "9",
         "type": "heatmap",
         "xaxis": "x10",
         "yaxis": "y10",
         "z": [
          [
           0,
           0,
           0,
           0,
           0,
           0,
           0,
           0,
           0,
           0,
           0,
           0,
           0
          ],
          [
           0,
           0,
           0,
           0,
           0,
           0,
           0,
           0,
           0,
           0,
           0,
           0,
           0
          ],
          [
           0,
           0,
           0,
           0,
           0,
           0,
           0,
           0,
           0,
           0,
           0,
           0,
           0
          ],
          [
           0,
           0,
           0,
           0,
           0,
           0.04937751813622904,
           0.07337039977557425,
           0.09536276049141801,
           0.04088231629710265,
           0,
           0,
           0,
           0
          ],
          [
           0,
           0,
           0,
           0,
           0.05409029830402029,
           0.1762268591799318,
           0.2041595110658092,
           0.16685385132114433,
           0.08662578410385924,
           0,
           0,
           0,
           0
          ],
          [
           0,
           0,
           0.029851534047020567,
           0.16796738846635767,
           0.30344014175896294,
           0.40932109713234344,
           0.4268284230659606,
           0.3095984625900099,
           0.1829881094269954,
           0.049340751357482615,
           0,
           0,
           0
          ],
          [
           0,
           0,
           0.1863933798022609,
           0.3151857526184829,
           0.4950041720201176,
           0.61208405478755,
           0.5793831308665192,
           0.44103430126245424,
           0.23238079975009884,
           0.06243148421957567,
           0,
           0,
           0
          ],
          [
           0,
           0,
           0.23267836601218572,
           0.33946478921320145,
           0.3351914647422821,
           0.3624266571787357,
           0.31425401739791414,
           0.1865062302692132,
           0.07932397224135346,
           0,
           0,
           0,
           0
          ],
          [
           0,
           0,
           0.033927158322122564,
           0.14570057988001134,
           0.2233356734714711,
           0.22047399695231384,
           0.0839922444704917,
           0,
           0,
           0,
           0,
           0,
           0
          ],
          [
           0,
           0,
           0,
           0,
           0.05042671751903277,
           0.0723283441715114,
           0,
           0,
           0,
           0,
           0,
           0,
           0
          ],
          [
           0,
           0,
           0,
           0,
           0,
           0,
           0,
           0,
           0,
           0,
           0,
           0,
           0
          ],
          [
           0,
           0,
           0,
           0,
           0,
           0,
           0,
           0,
           0,
           0,
           0,
           0,
           0
          ],
          [
           0,
           0,
           0,
           0,
           0,
           0,
           0,
           0,
           0,
           0,
           0,
           0,
           0
          ]
         ]
        }
       ],
       "layout": {
        "annotations": [
         {
          "font": {},
          "showarrow": false,
          "text": "facet_col=0",
          "x": 0.04100000000000001,
          "xanchor": "center",
          "xref": "paper",
          "y": 1,
          "yanchor": "bottom",
          "yref": "paper"
         },
         {
          "font": {},
          "showarrow": false,
          "text": "facet_col=1",
          "x": 0.14300000000000004,
          "xanchor": "center",
          "xref": "paper",
          "y": 1,
          "yanchor": "bottom",
          "yref": "paper"
         },
         {
          "font": {},
          "showarrow": false,
          "text": "facet_col=2",
          "x": 0.24500000000000005,
          "xanchor": "center",
          "xref": "paper",
          "y": 1,
          "yanchor": "bottom",
          "yref": "paper"
         },
         {
          "font": {},
          "showarrow": false,
          "text": "facet_col=3",
          "x": 0.3470000000000001,
          "xanchor": "center",
          "xref": "paper",
          "y": 1,
          "yanchor": "bottom",
          "yref": "paper"
         },
         {
          "font": {},
          "showarrow": false,
          "text": "facet_col=4",
          "x": 0.44900000000000007,
          "xanchor": "center",
          "xref": "paper",
          "y": 1,
          "yanchor": "bottom",
          "yref": "paper"
         },
         {
          "font": {},
          "showarrow": false,
          "text": "facet_col=5",
          "x": 0.5510000000000002,
          "xanchor": "center",
          "xref": "paper",
          "y": 1,
          "yanchor": "bottom",
          "yref": "paper"
         },
         {
          "font": {},
          "showarrow": false,
          "text": "facet_col=6",
          "x": 0.6530000000000001,
          "xanchor": "center",
          "xref": "paper",
          "y": 1,
          "yanchor": "bottom",
          "yref": "paper"
         },
         {
          "font": {},
          "showarrow": false,
          "text": "facet_col=7",
          "x": 0.7550000000000001,
          "xanchor": "center",
          "xref": "paper",
          "y": 1,
          "yanchor": "bottom",
          "yref": "paper"
         },
         {
          "font": {},
          "showarrow": false,
          "text": "facet_col=8",
          "x": 0.8570000000000002,
          "xanchor": "center",
          "xref": "paper",
          "y": 1,
          "yanchor": "bottom",
          "yref": "paper"
         },
         {
          "font": {},
          "showarrow": false,
          "text": "facet_col=9",
          "x": 0.9590000000000002,
          "xanchor": "center",
          "xref": "paper",
          "y": 1,
          "yanchor": "bottom",
          "yref": "paper"
         }
        ],
        "coloraxis": {
         "colorscale": [
          [
           0,
           "#0d0887"
          ],
          [
           0.1111111111111111,
           "#46039f"
          ],
          [
           0.2222222222222222,
           "#7201a8"
          ],
          [
           0.3333333333333333,
           "#9c179e"
          ],
          [
           0.4444444444444444,
           "#bd3786"
          ],
          [
           0.5555555555555556,
           "#d8576b"
          ],
          [
           0.6666666666666666,
           "#ed7953"
          ],
          [
           0.7777777777777778,
           "#fb9f3a"
          ],
          [
           0.8888888888888888,
           "#fdca26"
          ],
          [
           1,
           "#f0f921"
          ]
         ]
        },
        "margin": {
         "t": 60
        },
        "template": {
         "data": {
          "bar": [
           {
            "error_x": {
             "color": "#2a3f5f"
            },
            "error_y": {
             "color": "#2a3f5f"
            },
            "marker": {
             "line": {
              "color": "#E5ECF6",
              "width": 0.5
             },
             "pattern": {
              "fillmode": "overlay",
              "size": 10,
              "solidity": 0.2
             }
            },
            "type": "bar"
           }
          ],
          "barpolar": [
           {
            "marker": {
             "line": {
              "color": "#E5ECF6",
              "width": 0.5
             },
             "pattern": {
              "fillmode": "overlay",
              "size": 10,
              "solidity": 0.2
             }
            },
            "type": "barpolar"
           }
          ],
          "carpet": [
           {
            "aaxis": {
             "endlinecolor": "#2a3f5f",
             "gridcolor": "white",
             "linecolor": "white",
             "minorgridcolor": "white",
             "startlinecolor": "#2a3f5f"
            },
            "baxis": {
             "endlinecolor": "#2a3f5f",
             "gridcolor": "white",
             "linecolor": "white",
             "minorgridcolor": "white",
             "startlinecolor": "#2a3f5f"
            },
            "type": "carpet"
           }
          ],
          "choropleth": [
           {
            "colorbar": {
             "outlinewidth": 0,
             "ticks": ""
            },
            "type": "choropleth"
           }
          ],
          "contour": [
           {
            "colorbar": {
             "outlinewidth": 0,
             "ticks": ""
            },
            "colorscale": [
             [
              0,
              "#0d0887"
             ],
             [
              0.1111111111111111,
              "#46039f"
             ],
             [
              0.2222222222222222,
              "#7201a8"
             ],
             [
              0.3333333333333333,
              "#9c179e"
             ],
             [
              0.4444444444444444,
              "#bd3786"
             ],
             [
              0.5555555555555556,
              "#d8576b"
             ],
             [
              0.6666666666666666,
              "#ed7953"
             ],
             [
              0.7777777777777778,
              "#fb9f3a"
             ],
             [
              0.8888888888888888,
              "#fdca26"
             ],
             [
              1,
              "#f0f921"
             ]
            ],
            "type": "contour"
           }
          ],
          "contourcarpet": [
           {
            "colorbar": {
             "outlinewidth": 0,
             "ticks": ""
            },
            "type": "contourcarpet"
           }
          ],
          "heatmap": [
           {
            "colorbar": {
             "outlinewidth": 0,
             "ticks": ""
            },
            "colorscale": [
             [
              0,
              "#0d0887"
             ],
             [
              0.1111111111111111,
              "#46039f"
             ],
             [
              0.2222222222222222,
              "#7201a8"
             ],
             [
              0.3333333333333333,
              "#9c179e"
             ],
             [
              0.4444444444444444,
              "#bd3786"
             ],
             [
              0.5555555555555556,
              "#d8576b"
             ],
             [
              0.6666666666666666,
              "#ed7953"
             ],
             [
              0.7777777777777778,
              "#fb9f3a"
             ],
             [
              0.8888888888888888,
              "#fdca26"
             ],
             [
              1,
              "#f0f921"
             ]
            ],
            "type": "heatmap"
           }
          ],
          "heatmapgl": [
           {
            "colorbar": {
             "outlinewidth": 0,
             "ticks": ""
            },
            "colorscale": [
             [
              0,
              "#0d0887"
             ],
             [
              0.1111111111111111,
              "#46039f"
             ],
             [
              0.2222222222222222,
              "#7201a8"
             ],
             [
              0.3333333333333333,
              "#9c179e"
             ],
             [
              0.4444444444444444,
              "#bd3786"
             ],
             [
              0.5555555555555556,
              "#d8576b"
             ],
             [
              0.6666666666666666,
              "#ed7953"
             ],
             [
              0.7777777777777778,
              "#fb9f3a"
             ],
             [
              0.8888888888888888,
              "#fdca26"
             ],
             [
              1,
              "#f0f921"
             ]
            ],
            "type": "heatmapgl"
           }
          ],
          "histogram": [
           {
            "marker": {
             "pattern": {
              "fillmode": "overlay",
              "size": 10,
              "solidity": 0.2
             }
            },
            "type": "histogram"
           }
          ],
          "histogram2d": [
           {
            "colorbar": {
             "outlinewidth": 0,
             "ticks": ""
            },
            "colorscale": [
             [
              0,
              "#0d0887"
             ],
             [
              0.1111111111111111,
              "#46039f"
             ],
             [
              0.2222222222222222,
              "#7201a8"
             ],
             [
              0.3333333333333333,
              "#9c179e"
             ],
             [
              0.4444444444444444,
              "#bd3786"
             ],
             [
              0.5555555555555556,
              "#d8576b"
             ],
             [
              0.6666666666666666,
              "#ed7953"
             ],
             [
              0.7777777777777778,
              "#fb9f3a"
             ],
             [
              0.8888888888888888,
              "#fdca26"
             ],
             [
              1,
              "#f0f921"
             ]
            ],
            "type": "histogram2d"
           }
          ],
          "histogram2dcontour": [
           {
            "colorbar": {
             "outlinewidth": 0,
             "ticks": ""
            },
            "colorscale": [
             [
              0,
              "#0d0887"
             ],
             [
              0.1111111111111111,
              "#46039f"
             ],
             [
              0.2222222222222222,
              "#7201a8"
             ],
             [
              0.3333333333333333,
              "#9c179e"
             ],
             [
              0.4444444444444444,
              "#bd3786"
             ],
             [
              0.5555555555555556,
              "#d8576b"
             ],
             [
              0.6666666666666666,
              "#ed7953"
             ],
             [
              0.7777777777777778,
              "#fb9f3a"
             ],
             [
              0.8888888888888888,
              "#fdca26"
             ],
             [
              1,
              "#f0f921"
             ]
            ],
            "type": "histogram2dcontour"
           }
          ],
          "mesh3d": [
           {
            "colorbar": {
             "outlinewidth": 0,
             "ticks": ""
            },
            "type": "mesh3d"
           }
          ],
          "parcoords": [
           {
            "line": {
             "colorbar": {
              "outlinewidth": 0,
              "ticks": ""
             }
            },
            "type": "parcoords"
           }
          ],
          "pie": [
           {
            "automargin": true,
            "type": "pie"
           }
          ],
          "scatter": [
           {
            "fillpattern": {
             "fillmode": "overlay",
             "size": 10,
             "solidity": 0.2
            },
            "type": "scatter"
           }
          ],
          "scatter3d": [
           {
            "line": {
             "colorbar": {
              "outlinewidth": 0,
              "ticks": ""
             }
            },
            "marker": {
             "colorbar": {
              "outlinewidth": 0,
              "ticks": ""
             }
            },
            "type": "scatter3d"
           }
          ],
          "scattercarpet": [
           {
            "marker": {
             "colorbar": {
              "outlinewidth": 0,
              "ticks": ""
             }
            },
            "type": "scattercarpet"
           }
          ],
          "scattergeo": [
           {
            "marker": {
             "colorbar": {
              "outlinewidth": 0,
              "ticks": ""
             }
            },
            "type": "scattergeo"
           }
          ],
          "scattergl": [
           {
            "marker": {
             "colorbar": {
              "outlinewidth": 0,
              "ticks": ""
             }
            },
            "type": "scattergl"
           }
          ],
          "scattermapbox": [
           {
            "marker": {
             "colorbar": {
              "outlinewidth": 0,
              "ticks": ""
             }
            },
            "type": "scattermapbox"
           }
          ],
          "scatterpolar": [
           {
            "marker": {
             "colorbar": {
              "outlinewidth": 0,
              "ticks": ""
             }
            },
            "type": "scatterpolar"
           }
          ],
          "scatterpolargl": [
           {
            "marker": {
             "colorbar": {
              "outlinewidth": 0,
              "ticks": ""
             }
            },
            "type": "scatterpolargl"
           }
          ],
          "scatterternary": [
           {
            "marker": {
             "colorbar": {
              "outlinewidth": 0,
              "ticks": ""
             }
            },
            "type": "scatterternary"
           }
          ],
          "surface": [
           {
            "colorbar": {
             "outlinewidth": 0,
             "ticks": ""
            },
            "colorscale": [
             [
              0,
              "#0d0887"
             ],
             [
              0.1111111111111111,
              "#46039f"
             ],
             [
              0.2222222222222222,
              "#7201a8"
             ],
             [
              0.3333333333333333,
              "#9c179e"
             ],
             [
              0.4444444444444444,
              "#bd3786"
             ],
             [
              0.5555555555555556,
              "#d8576b"
             ],
             [
              0.6666666666666666,
              "#ed7953"
             ],
             [
              0.7777777777777778,
              "#fb9f3a"
             ],
             [
              0.8888888888888888,
              "#fdca26"
             ],
             [
              1,
              "#f0f921"
             ]
            ],
            "type": "surface"
           }
          ],
          "table": [
           {
            "cells": {
             "fill": {
              "color": "#EBF0F8"
             },
             "line": {
              "color": "white"
             }
            },
            "header": {
             "fill": {
              "color": "#C8D4E3"
             },
             "line": {
              "color": "white"
             }
            },
            "type": "table"
           }
          ]
         },
         "layout": {
          "annotationdefaults": {
           "arrowcolor": "#2a3f5f",
           "arrowhead": 0,
           "arrowwidth": 1
          },
          "autotypenumbers": "strict",
          "coloraxis": {
           "colorbar": {
            "outlinewidth": 0,
            "ticks": ""
           }
          },
          "colorscale": {
           "diverging": [
            [
             0,
             "#8e0152"
            ],
            [
             0.1,
             "#c51b7d"
            ],
            [
             0.2,
             "#de77ae"
            ],
            [
             0.3,
             "#f1b6da"
            ],
            [
             0.4,
             "#fde0ef"
            ],
            [
             0.5,
             "#f7f7f7"
            ],
            [
             0.6,
             "#e6f5d0"
            ],
            [
             0.7,
             "#b8e186"
            ],
            [
             0.8,
             "#7fbc41"
            ],
            [
             0.9,
             "#4d9221"
            ],
            [
             1,
             "#276419"
            ]
           ],
           "sequential": [
            [
             0,
             "#0d0887"
            ],
            [
             0.1111111111111111,
             "#46039f"
            ],
            [
             0.2222222222222222,
             "#7201a8"
            ],
            [
             0.3333333333333333,
             "#9c179e"
            ],
            [
             0.4444444444444444,
             "#bd3786"
            ],
            [
             0.5555555555555556,
             "#d8576b"
            ],
            [
             0.6666666666666666,
             "#ed7953"
            ],
            [
             0.7777777777777778,
             "#fb9f3a"
            ],
            [
             0.8888888888888888,
             "#fdca26"
            ],
            [
             1,
             "#f0f921"
            ]
           ],
           "sequentialminus": [
            [
             0,
             "#0d0887"
            ],
            [
             0.1111111111111111,
             "#46039f"
            ],
            [
             0.2222222222222222,
             "#7201a8"
            ],
            [
             0.3333333333333333,
             "#9c179e"
            ],
            [
             0.4444444444444444,
             "#bd3786"
            ],
            [
             0.5555555555555556,
             "#d8576b"
            ],
            [
             0.6666666666666666,
             "#ed7953"
            ],
            [
             0.7777777777777778,
             "#fb9f3a"
            ],
            [
             0.8888888888888888,
             "#fdca26"
            ],
            [
             1,
             "#f0f921"
            ]
           ]
          },
          "colorway": [
           "#636efa",
           "#EF553B",
           "#00cc96",
           "#ab63fa",
           "#FFA15A",
           "#19d3f3",
           "#FF6692",
           "#B6E880",
           "#FF97FF",
           "#FECB52"
          ],
          "font": {
           "color": "#2a3f5f"
          },
          "geo": {
           "bgcolor": "white",
           "lakecolor": "white",
           "landcolor": "#E5ECF6",
           "showlakes": true,
           "showland": true,
           "subunitcolor": "white"
          },
          "hoverlabel": {
           "align": "left"
          },
          "hovermode": "closest",
          "mapbox": {
           "style": "light"
          },
          "paper_bgcolor": "white",
          "plot_bgcolor": "#E5ECF6",
          "polar": {
           "angularaxis": {
            "gridcolor": "white",
            "linecolor": "white",
            "ticks": ""
           },
           "bgcolor": "#E5ECF6",
           "radialaxis": {
            "gridcolor": "white",
            "linecolor": "white",
            "ticks": ""
           }
          },
          "scene": {
           "xaxis": {
            "backgroundcolor": "#E5ECF6",
            "gridcolor": "white",
            "gridwidth": 2,
            "linecolor": "white",
            "showbackground": true,
            "ticks": "",
            "zerolinecolor": "white"
           },
           "yaxis": {
            "backgroundcolor": "#E5ECF6",
            "gridcolor": "white",
            "gridwidth": 2,
            "linecolor": "white",
            "showbackground": true,
            "ticks": "",
            "zerolinecolor": "white"
           },
           "zaxis": {
            "backgroundcolor": "#E5ECF6",
            "gridcolor": "white",
            "gridwidth": 2,
            "linecolor": "white",
            "showbackground": true,
            "ticks": "",
            "zerolinecolor": "white"
           }
          },
          "shapedefaults": {
           "line": {
            "color": "#2a3f5f"
           }
          },
          "ternary": {
           "aaxis": {
            "gridcolor": "white",
            "linecolor": "white",
            "ticks": ""
           },
           "baxis": {
            "gridcolor": "white",
            "linecolor": "white",
            "ticks": ""
           },
           "bgcolor": "#E5ECF6",
           "caxis": {
            "gridcolor": "white",
            "linecolor": "white",
            "ticks": ""
           }
          },
          "title": {
           "x": 0.05
          },
          "xaxis": {
           "automargin": true,
           "gridcolor": "white",
           "linecolor": "white",
           "ticks": "",
           "title": {
            "standoff": 15
           },
           "zerolinecolor": "white",
           "zerolinewidth": 2
          },
          "yaxis": {
           "automargin": true,
           "gridcolor": "white",
           "linecolor": "white",
           "ticks": "",
           "title": {
            "standoff": 15
           },
           "zerolinecolor": "white",
           "zerolinewidth": 2
          }
         }
        },
        "xaxis": {
         "anchor": "y",
         "constrain": "domain",
         "domain": [
          0,
          0.08200000000000002
         ],
         "scaleanchor": "y"
        },
        "xaxis10": {
         "anchor": "y10",
         "domain": [
          0.9180000000000001,
          1
         ],
         "matches": "x"
        },
        "xaxis2": {
         "anchor": "y2",
         "domain": [
          0.10200000000000002,
          0.18400000000000005
         ],
         "matches": "x"
        },
        "xaxis3": {
         "anchor": "y3",
         "domain": [
          0.20400000000000004,
          0.28600000000000003
         ],
         "matches": "x"
        },
        "xaxis4": {
         "anchor": "y4",
         "domain": [
          0.30600000000000005,
          0.38800000000000007
         ],
         "matches": "x"
        },
        "xaxis5": {
         "anchor": "y5",
         "domain": [
          0.4080000000000001,
          0.4900000000000001
         ],
         "matches": "x"
        },
        "xaxis6": {
         "anchor": "y6",
         "domain": [
          0.5100000000000001,
          0.5920000000000001
         ],
         "matches": "x"
        },
        "xaxis7": {
         "anchor": "y7",
         "domain": [
          0.6120000000000001,
          0.6940000000000002
         ],
         "matches": "x"
        },
        "xaxis8": {
         "anchor": "y8",
         "domain": [
          0.7140000000000001,
          0.796
         ],
         "matches": "x"
        },
        "xaxis9": {
         "anchor": "y9",
         "domain": [
          0.8160000000000002,
          0.8980000000000001
         ],
         "matches": "x"
        },
        "yaxis": {
         "anchor": "x",
         "autorange": "reversed",
         "constrain": "domain",
         "domain": [
          0,
          1
         ]
        },
        "yaxis10": {
         "anchor": "x10",
         "domain": [
          0,
          1
         ],
         "matches": "y",
         "showticklabels": false
        },
        "yaxis2": {
         "anchor": "x2",
         "domain": [
          0,
          1
         ],
         "matches": "y",
         "showticklabels": false
        },
        "yaxis3": {
         "anchor": "x3",
         "domain": [
          0,
          1
         ],
         "matches": "y",
         "showticklabels": false
        },
        "yaxis4": {
         "anchor": "x4",
         "domain": [
          0,
          1
         ],
         "matches": "y",
         "showticklabels": false
        },
        "yaxis5": {
         "anchor": "x5",
         "domain": [
          0,
          1
         ],
         "matches": "y",
         "showticklabels": false
        },
        "yaxis6": {
         "anchor": "x6",
         "domain": [
          0,
          1
         ],
         "matches": "y",
         "showticklabels": false
        },
        "yaxis7": {
         "anchor": "x7",
         "domain": [
          0,
          1
         ],
         "matches": "y",
         "showticklabels": false
        },
        "yaxis8": {
         "anchor": "x8",
         "domain": [
          0,
          1
         ],
         "matches": "y",
         "showticklabels": false
        },
        "yaxis9": {
         "anchor": "x9",
         "domain": [
          0,
          1
         ],
         "matches": "y",
         "showticklabels": false
        }
       }
      },
      "image/png": "[encoded data removed]"
     },
     "metadata": {},
     "output_type": "display_data"
    }
   ],
   "source": [
    "imgs = x_train[:1000]\n",
    "convs =  reduce(lambda x, l: l.forward(x), nn[:4], imgs) #nn[1].forward(nn[0].forward(img))\n",
    "convs.shape\n",
    "px.imshow(convs[TARGET_IMG], facet_col=2, facet_col_wrap=10)"
   ]
  },
  {
   "cell_type": "code",
   "execution_count": 23,
   "metadata": {},
   "outputs": [
    {
     "data": {
      "text/plain": [
       "array([32111.6383575 , 30699.11710184, 26908.29922216, 30331.28295851,\n",
       "       31989.08823763, 26132.04711765, 27440.72312157, 32822.2326105 ,\n",
       "       39425.09879529, 31102.05584458])"
      ]
     },
     "execution_count": 23,
     "metadata": {},
     "output_type": "execute_result"
    }
   ],
   "source": [
    "convs.sum(axis=(0, 1, 2))"
   ]
  },
  {
   "cell_type": "code",
   "execution_count": 24,
   "metadata": {},
   "outputs": [
    {
     "data": {
      "text/plain": [
       "array([-1.20195478e+02, -1.25015417e+02, -1.84601649e+02, -1.86088371e+02,\n",
       "        1.60229777e+02, -7.25425683e+01, -8.62610263e+01, -1.26348398e+02,\n",
       "       -9.72008854e+01, -6.25493252e+01,  9.89383890e+01, -1.42763649e+02,\n",
       "       -1.15027644e+02, -1.19476584e+02, -1.13631171e+02, -1.11887042e+02,\n",
       "       -1.27404474e+02, -7.84281009e+01, -1.81209303e+02, -1.43048045e+02,\n",
       "       -1.78217616e+02,  2.91647574e+03, -1.31215824e+02, -1.13245298e+02,\n",
       "       -6.95578195e+01, -1.31756265e+02, -1.40148908e+02, -1.20854923e+02,\n",
       "       -1.03386872e+02,  7.79644363e+02, -1.42694485e+02, -1.55959872e+02,\n",
       "       -1.39954061e+02, -1.28666264e+02, -1.20176756e+02, -1.20776235e+02,\n",
       "       -1.45484380e+02,  3.33977439e+01, -9.69479853e+01, -5.38139417e+01,\n",
       "       -1.26609715e+02, -1.22030644e+02, -1.13365335e+02, -1.13194871e+02,\n",
       "       -1.98126044e+02, -6.42413586e+01, -1.86097753e+02, -8.76589053e+01,\n",
       "       -1.30424087e+02, -7.12899785e+01, -1.45508396e+01, -1.32010392e+02,\n",
       "        1.95263333e+03, -2.05504593e+02, -1.02814915e+02, -1.09021414e+02,\n",
       "       -1.15465664e+02, -8.40883673e+01, -5.84663367e+01, -1.95013182e+02,\n",
       "       -7.09256243e+01, -6.54619147e+01, -1.29706495e+02, -3.75800079e+01,\n",
       "       -1.25612557e+02, -1.38795650e+02,  1.16591347e+03, -1.33098529e+02,\n",
       "       -1.39563162e+02, -1.89663987e+02, -9.31090738e+01, -3.50849712e+01,\n",
       "       -1.44122435e+02, -1.38389188e+02, -8.90596555e+01, -6.51772595e+01,\n",
       "       -1.37074582e+02, -7.55803306e+01, -8.62971454e+01, -1.22670695e+02,\n",
       "       -1.19715770e+02, -1.30761657e+02, -7.90373169e+01, -1.54186267e+02,\n",
       "       -1.36130527e+02, -1.71782462e+01, -1.14319442e+02, -1.12489089e+02,\n",
       "       -5.77111639e+01, -6.05244748e+01, -1.48554714e+02, -8.60780240e+01,\n",
       "       -7.11068619e+01, -1.04803559e+02, -4.42187215e+01, -1.43695987e+02,\n",
       "       -1.80522526e+02, -1.32647611e+02, -1.11000987e+02, -1.41660865e+02,\n",
       "       -8.04001284e+01, -1.30078359e+02, -7.89693079e+01, -5.46749888e+01,\n",
       "       -1.40182565e+02, -1.16704143e+02, -1.32923222e+02, -9.78231094e+01,\n",
       "       -3.40900855e+01, -1.35310564e+02, -1.56219184e+02, -1.61678625e+02,\n",
       "        1.75744372e+03, -1.15112128e+02, -1.00999120e+02, -6.44951322e+01,\n",
       "       -7.61384455e+01, -6.98799208e+01, -1.41544130e+02, -1.02347666e+02,\n",
       "       -1.15718746e+02, -1.43693156e+02, -1.19254754e+02, -1.21562881e+02,\n",
       "       -1.29912142e+02, -1.24850433e+02, -1.96247625e+02, -9.69322875e+01,\n",
       "       -6.79785086e+01, -1.33134953e+02, -1.34901125e+02,  4.23653635e+02,\n",
       "       -5.99410152e+01, -1.40163823e+02, -7.34908764e+01, -1.21193887e+02,\n",
       "       -8.26567347e+01, -1.39141900e+02,  2.11651119e+03, -4.61671058e+01,\n",
       "       -9.95080858e+01, -9.79769450e+01,  2.86782579e+03, -1.42859036e+02,\n",
       "       -2.01855623e+02, -5.76798004e+01, -1.30557706e+02, -1.39043690e+02,\n",
       "       -1.09069821e+02, -1.05284716e+02, -8.87855514e+01, -1.94790616e+02,\n",
       "       -1.21178840e+02, -1.72728351e+02, -4.83702378e+01,  2.03999730e+00,\n",
       "       -8.58324603e+01, -9.50935620e+01, -7.65432122e+01, -1.73631604e+02,\n",
       "       -1.60819804e+02, -8.59075309e+01, -2.00801511e+02, -1.18932615e+02,\n",
       "       -5.90967892e+01, -1.04766057e+02, -4.43435170e+01, -9.93263452e+01,\n",
       "       -1.07499635e+02, -1.94840978e+02, -7.72903410e+01, -1.16785814e+02,\n",
       "       -2.95768542e+01, -1.05516816e+02,  2.31249269e+03, -1.21767835e+02,\n",
       "       -1.07227987e+02, -1.89037217e+02, -7.55466080e+01, -1.42029645e+02,\n",
       "       -1.48489551e+02, -1.13968571e+02, -1.18270609e+02, -1.35459486e+02,\n",
       "       -5.41995438e+01, -1.87463323e+02, -1.11966217e+02,  7.40528202e+02,\n",
       "       -1.95577369e+02, -1.28222681e+02, -1.43193451e+02, -1.16492493e+02,\n",
       "       -1.01027194e+02,  3.58643345e+02, -1.06696333e+02, -8.69693059e+01,\n",
       "       -9.66320217e+01, -1.61866536e+01, -1.37847101e+02,  3.59897537e+03,\n",
       "       -9.52604617e+01, -1.43157606e+02, -5.46760860e+01, -3.28490541e+01,\n",
       "       -4.92209756e+01, -1.43721151e+02, -1.67379043e+02, -1.17224800e+02,\n",
       "       -6.57541578e+01, -1.36539511e+02, -6.12705179e+01, -1.03983538e+02,\n",
       "       -1.19364714e+02, -1.31269255e+02, -1.42263538e+02, -7.27467627e+01,\n",
       "       -1.68794556e+02, -7.50524365e+01, -8.31913659e+01, -5.40537052e+01,\n",
       "        2.16470258e+01, -4.92787240e+00, -1.39791321e+02, -5.66207699e+01,\n",
       "       -1.02854901e+02, -2.13516143e+02,  1.81858892e+03, -1.00389431e+02,\n",
       "       -5.78833132e+01, -1.35302828e+02, -1.08848468e+02, -1.51838403e+02,\n",
       "       -1.18156017e+02, -1.17249144e+02, -1.66174939e+02, -3.10343911e+01,\n",
       "        2.42893739e+03, -2.00251387e+02, -1.66699159e+02, -1.42962939e+02,\n",
       "       -6.86042801e+01, -1.23028097e+02, -1.47487967e+02, -1.75058567e+02,\n",
       "       -5.05047382e+01, -9.98251851e+01, -6.65877355e+01, -1.60846639e+02,\n",
       "       -1.27779667e+02, -1.05663761e+02, -1.49610099e+02, -1.16493629e+02,\n",
       "        1.04543230e+02,  8.17224921e+01, -6.58268015e+01, -1.43407820e+02,\n",
       "       -8.07859321e+01, -1.32554129e+02, -1.86455608e+02, -1.95070048e+02,\n",
       "       -1.91010427e+02,  1.85527308e+02, -1.91213409e+02, -1.45844086e+02,\n",
       "       -1.25923635e+02, -8.49108491e+01, -1.21313607e+02, -1.33796179e+02,\n",
       "       -1.52972975e+02, -1.32961434e+02, -8.45049872e+01, -1.35694179e+02,\n",
       "       -8.53002167e+01, -1.36231627e+02, -1.70327420e+02, -7.03616385e+01,\n",
       "        6.87272413e+02, -1.10489851e+02, -1.35345523e+02, -1.90206959e+02,\n",
       "       -1.15820731e+02, -1.26492358e+02, -1.40916524e+02,  9.93773979e+02,\n",
       "       -7.28314840e+01,  5.51711832e+02, -1.02142874e+02, -1.57036002e+02,\n",
       "       -3.24745082e+01,  4.14636155e+02, -2.86747516e+01, -1.36417680e+02,\n",
       "       -1.08670148e+02,  1.11594947e+02, -1.91748736e+02, -1.04317457e+02,\n",
       "       -1.32803111e+02, -8.51310896e+01, -4.54654275e+01, -1.55540132e+02])"
      ]
     },
     "execution_count": 24,
     "metadata": {},
     "output_type": "execute_result"
    }
   ],
   "source": [
    "activations = reduce(lambda x, l: l.forward(x), nn[:7], imgs) #nn[1].forward(nn[0].forward(img))\n",
    "activations.sum(axis=(0))"
   ]
  },
  {
   "cell_type": "code",
   "execution_count": 25,
   "metadata": {},
   "outputs": [
    {
     "data": {
      "text/plain": [
       "(1, 13, 13, 10)"
      ]
     },
     "execution_count": 25,
     "metadata": {},
     "output_type": "execute_result"
    }
   ],
   "source": [
    "convs[[250]].shape"
   ]
  },
  {
   "cell_type": "code",
   "execution_count": 26,
   "metadata": {},
   "outputs": [
    {
     "data": {
      "application/vnd.plotly.v1+json": {
       "config": {
        "plotlyServerURL": "https://plot.ly"
       },
       "data": [
        {
         "hovertemplate": "x: %{x}<br>y: %{y}<extra></extra>",
         "name": "0",
         "source": "data:image/png;base64,iVBORw0KGgoAAAANSUhEUgAAAAcAAAAHCAIAAABLMMCEAAAApUlEQVR4XgGaAGX/AOOhiNqjntK3m8a7rNC4pMqzo9DDyADioobcoIPmpXnTr3rJloO9mW/Du4sA15F+14t564pt3Y9szJV71I5v1rN6ANGYc8qPgcuHh9mZbd+IcdGCZtSscgDLoHu/k4S9k4G4mpDComm6m23RuIgAyKuH0JaIx49+xJSEu6J+tp+AvayaANO8l8u1ktehj8+hkMeyksKvmsi7tBysX9sNVQ+XAAAAAElFTkSuQmCC",
         "type": "image",
         "xaxis": "x",
         "yaxis": "y"
        },
        {
         "hovertemplate": "x: %{x}<br>y: %{y}<extra></extra>",
         "name": "1",
         "source": "data:image/png;base64,iVBORw0KGgoAAAANSUhEUgAAAAcAAAAHCAIAAABLMMCEAAAApUlEQVR4XgGaAGX/AFOK31B65k+B4VWJykmE3Uiew1evzABSfudSh8JMgbpKgbo9j7c0j7NKn70AQobkPpS3JoTEIG/HJXDLMl/FNYXUAFJ/4DGUsimOqzFYwUFky0Fmy0OF2QBHlukho8RYkqcjpL9KfNJOgNRQrdUATKbtKKfCbpeoX5WoTo3GU3vTU6DUAFzl8Yetuomns2exxFyz0WKq6GbZ6GmTUInn0wdtAAAAAElFTkSuQmCC",
         "type": "image",
         "xaxis": "x2",
         "yaxis": "y2"
        },
        {
         "hovertemplate": "x: %{x}<br>y: %{y}<extra></extra>",
         "name": "2",
         "source": "data:image/png;base64,iVBORw0KGgoAAAANSUhEUgAAAAcAAAAHCAIAAABLMMCEAAAApUlEQVR4XgGaAGX/AN43ZesnY+g+bOE+a9JaYb9eaa90eADeAFT2FFn3GGHnLWDcLWW0QFCzTV0A4iFU3jZd9yFo6DVY6T5eyUJXukNXAMVAOslPSOQwS9klVtwyXdAwVsExSwC4Sz66Uy7UMkbUI0PWJ0rQMkfHJjYArj01nzhTpzhLvDQ4qjlLqjdHqjE7ALJKSKY8SLBGQJ9LTq1CQas2Qq04PoOcQJkk7/TdAAAAAElFTkSuQmCC",
         "type": "image",
         "xaxis": "x3",
         "yaxis": "y3"
        },
        {
         "hovertemplate": "x: %{x}<br>y: %{y}<extra></extra>",
         "name": "3",
         "source": "data:image/png;base64,iVBORw0KGgoAAAANSUhEUgAAAAcAAAAHCAIAAABLMMCEAAAApUlEQVR4XgGaAGX/AMiBT6uBVL1zWq6GV7yAU7qDU8OBYgCnf1OaelOcfVaff1eef1ipeViveGAAqYVXnX5XnoBYnoFYnoRaq29drn1WAKiEVp2AV56CWJ2BV5uCV6lvWq1/UgC2f06ggVWhhFieglabgVSob1ixclYAnXxilXlirXpMnX9SmX5QpmlQrntIAKeEY599Ybt+R62GT6uDTLZ5RcV9Rg6vSJbwWkw0AAAAAElFTkSuQmCC",
         "type": "image",
         "xaxis": "x4",
         "yaxis": "y4"
        },
        {
         "hovertemplate": "x: %{x}<br>y: %{y}<extra></extra>",
         "name": "4",
         "source": "data:image/png;base64,iVBORw0KGgoAAAANSUhEUgAAAAcAAAAHCAIAAABLMMCEAAAApUlEQVR4XgGaAGX/ANXHts+yp8+1qbnAnbzHocHPoND1sADKqaK+c46/b4+rm4ivoYy1nYrIx6EAyaqhv2qNv3x9qpaHr4uMtImTsJfGAMmsnr9PisCHgKuKi7CSlLWEoq2fywDLpajCf4SwlZKvlZWxgpy1hKXCksYA0LKpxYuWs5mrtI2ttYqwuYm3spbdAMfSzb+m0r+cy6yR3bCS37CM4siMyC7dYUMhnUBUAAAAAElFTkSuQmCC",
         "type": "image",
         "xaxis": "x5",
         "yaxis": "y5"
        },
        {
         "hovertemplate": "x: %{x}<br>y: %{y}<extra></extra>",
         "name": "5",
         "source": "data:image/png;base64,iVBORw0KGgoAAAANSUhEUgAAAAcAAAAHCAIAAABLMMCEAAAAoUlEQVR4Xg3GSQ6CMAAAwP7MJQJlLbK00lJtIJx8Bjc1hgNEICIIGDUxHnyAb9M5DaiTMBf0QfDLtd4Cfuj8KyTQIKOyrSueDVgpOTxSUnoOeOJJv5JuTO2JkvMwY/ROpmD0FxcC20BvmNYyeNhonWOAlsknAiuuN65dCS1fq2fPAt3S/K8QahrzNAoLZNS+CcZY7jHKtvY+YbsoqIU0YP0HwQ09yiaXYeUAAAAASUVORK5CYII=",
         "type": "image",
         "xaxis": "x6",
         "yaxis": "y6"
        },
        {
         "hovertemplate": "x: %{x}<br>y: %{y}<extra></extra>",
         "name": "6",
         "source": "data:image/png;base64,iVBORw0KGgoAAAANSUhEUgAAAAcAAAAHCAIAAABLMMCEAAAApUlEQVR4XgGaAGX/ANmtotKrjeCckueSi9mohb6glNC+pgDJnoS+gG/IcHfIbHXBeXaqhYK7mo4AxZuAuYJuu35+uodwvH97qYJ+u5eKAMGOibSDbbZ2dLyEasF7dMFya7yPgACwmJG7kHTPg3XrcnT3d1nTb1PBkHcAzKF4x35e6nFe/3de6XhNsH9suIp5AOPCf9ihYuS+buK1UNKdfLKRg7+hkf/CWLU/F+WNAAAAAElFTkSuQmCC",
         "type": "image",
         "xaxis": "x7",
         "yaxis": "y7"
        },
        {
         "hovertemplate": "x: %{x}<br>y: %{y}<extra></extra>",
         "name": "7",
         "source": "data:image/png;base64,iVBORw0KGgoAAAANSUhEUgAAAAcAAAAHCAIAAABLMMCEAAAApUlEQVR4XgGaAGX/ANJ+fcZ1eMVzdsF1fMB5c8B7dc2BeQDBc3Syd2mzd2qxa3PCa2Svf2O+hGUAw4BquXlounhoyWRos3xesXxfwYBeAOB3YdJwZNF1Y8tyYMt3Vsp2VtZ1XwDqeWHLgWLMhGTQdWLPdWLKcV/YdV0A6XNgxH9fyIJhznJjyW5hyGxe23BbAPp9X9qCXNtzceN0Xdl/Vt5yVux4V2JLURd8oBhBAAAAAElFTkSuQmCC",
         "type": "image",
         "xaxis": "x8",
         "yaxis": "y8"
        },
        {
         "hovertemplate": "x: %{x}<br>y: %{y}<extra></extra>",
         "name": "8",
         "source": "data:image/png;base64,iVBORw0KGgoAAAANSUhEUgAAAAcAAAAHCAIAAABLMMCEAAAApUlEQVR4XgGaAGX/ALB5LY9xQZdrP59wK6l1LaBvKqNrOgCrfTWNd0qaczKgdzWpaTmab0OgcEIAqn83oHo3m3Y0nXY0nXI0l2xBlnhGAK2COaJ8OZx2NJl0MZdxL5ptP6B/RwCvgjiifTecdzObdDGdcC+McT+hf0MAu4g5qH42nnYwnnQuoHAsoG46oX0+AOCHOsCHM696K695KLR2JqJ4NrKFODjyQGZq8rHZAAAAAElFTkSuQmCC",
         "type": "image",
         "xaxis": "x9",
         "yaxis": "y9"
        },
        {
         "hovertemplate": "x: %{x}<br>y: %{y}<extra></extra>",
         "name": "9",
         "source": "data:image/png;base64,iVBORw0KGgoAAAANSUhEUgAAAAcAAAAHCAIAAABLMMCEAAAAoElEQVR4XgXBOw6CMAAA0F6YxUVO4GI0+IdagajQArVBPi1/IsGExoU4Ojt5Ct8Dn99jLOqcVzlvS1c2dJT1F8g2c6deo18Ck7BVfN+VpfMGfUT5zCQQ+SfbP+LbMsqsF+iYf4YWNg7EMLwdosgRdgU66qbz/RUiZwGJiqgORcLAM8Rc1fKJhpV1oGzoFosUg0IWQ4IHQeKG8T5Ow6xu5R8cgWKd4f4T9AAAAABJRU5ErkJggg==",
         "type": "image",
         "xaxis": "x10",
         "yaxis": "y10"
        }
       ],
       "layout": {
        "annotations": [
         {
          "font": {},
          "showarrow": false,
          "text": "facet_col=0",
          "x": 0.04100000000000001,
          "xanchor": "center",
          "xref": "paper",
          "y": 1,
          "yanchor": "bottom",
          "yref": "paper"
         },
         {
          "font": {},
          "showarrow": false,
          "text": "facet_col=1",
          "x": 0.14300000000000004,
          "xanchor": "center",
          "xref": "paper",
          "y": 1,
          "yanchor": "bottom",
          "yref": "paper"
         },
         {
          "font": {},
          "showarrow": false,
          "text": "facet_col=2",
          "x": 0.24500000000000005,
          "xanchor": "center",
          "xref": "paper",
          "y": 1,
          "yanchor": "bottom",
          "yref": "paper"
         },
         {
          "font": {},
          "showarrow": false,
          "text": "facet_col=3",
          "x": 0.3470000000000001,
          "xanchor": "center",
          "xref": "paper",
          "y": 1,
          "yanchor": "bottom",
          "yref": "paper"
         },
         {
          "font": {},
          "showarrow": false,
          "text": "facet_col=4",
          "x": 0.44900000000000007,
          "xanchor": "center",
          "xref": "paper",
          "y": 1,
          "yanchor": "bottom",
          "yref": "paper"
         },
         {
          "font": {},
          "showarrow": false,
          "text": "facet_col=5",
          "x": 0.5510000000000002,
          "xanchor": "center",
          "xref": "paper",
          "y": 1,
          "yanchor": "bottom",
          "yref": "paper"
         },
         {
          "font": {},
          "showarrow": false,
          "text": "facet_col=6",
          "x": 0.6530000000000001,
          "xanchor": "center",
          "xref": "paper",
          "y": 1,
          "yanchor": "bottom",
          "yref": "paper"
         },
         {
          "font": {},
          "showarrow": false,
          "text": "facet_col=7",
          "x": 0.7550000000000001,
          "xanchor": "center",
          "xref": "paper",
          "y": 1,
          "yanchor": "bottom",
          "yref": "paper"
         },
         {
          "font": {},
          "showarrow": false,
          "text": "facet_col=8",
          "x": 0.8570000000000002,
          "xanchor": "center",
          "xref": "paper",
          "y": 1,
          "yanchor": "bottom",
          "yref": "paper"
         },
         {
          "font": {},
          "showarrow": false,
          "text": "facet_col=9",
          "x": 0.9590000000000002,
          "xanchor": "center",
          "xref": "paper",
          "y": 1,
          "yanchor": "bottom",
          "yref": "paper"
         }
        ],
        "margin": {
         "t": 60
        },
        "template": {
         "data": {
          "bar": [
           {
            "error_x": {
             "color": "#2a3f5f"
            },
            "error_y": {
             "color": "#2a3f5f"
            },
            "marker": {
             "line": {
              "color": "#E5ECF6",
              "width": 0.5
             },
             "pattern": {
              "fillmode": "overlay",
              "size": 10,
              "solidity": 0.2
             }
            },
            "type": "bar"
           }
          ],
          "barpolar": [
           {
            "marker": {
             "line": {
              "color": "#E5ECF6",
              "width": 0.5
             },
             "pattern": {
              "fillmode": "overlay",
              "size": 10,
              "solidity": 0.2
             }
            },
            "type": "barpolar"
           }
          ],
          "carpet": [
           {
            "aaxis": {
             "endlinecolor": "#2a3f5f",
             "gridcolor": "white",
             "linecolor": "white",
             "minorgridcolor": "white",
             "startlinecolor": "#2a3f5f"
            },
            "baxis": {
             "endlinecolor": "#2a3f5f",
             "gridcolor": "white",
             "linecolor": "white",
             "minorgridcolor": "white",
             "startlinecolor": "#2a3f5f"
            },
            "type": "carpet"
           }
          ],
          "choropleth": [
           {
            "colorbar": {
             "outlinewidth": 0,
             "ticks": ""
            },
            "type": "choropleth"
           }
          ],
          "contour": [
           {
            "colorbar": {
             "outlinewidth": 0,
             "ticks": ""
            },
            "colorscale": [
             [
              0,
              "#0d0887"
             ],
             [
              0.1111111111111111,
              "#46039f"
             ],
             [
              0.2222222222222222,
              "#7201a8"
             ],
             [
              0.3333333333333333,
              "#9c179e"
             ],
             [
              0.4444444444444444,
              "#bd3786"
             ],
             [
              0.5555555555555556,
              "#d8576b"
             ],
             [
              0.6666666666666666,
              "#ed7953"
             ],
             [
              0.7777777777777778,
              "#fb9f3a"
             ],
             [
              0.8888888888888888,
              "#fdca26"
             ],
             [
              1,
              "#f0f921"
             ]
            ],
            "type": "contour"
           }
          ],
          "contourcarpet": [
           {
            "colorbar": {
             "outlinewidth": 0,
             "ticks": ""
            },
            "type": "contourcarpet"
           }
          ],
          "heatmap": [
           {
            "colorbar": {
             "outlinewidth": 0,
             "ticks": ""
            },
            "colorscale": [
             [
              0,
              "#0d0887"
             ],
             [
              0.1111111111111111,
              "#46039f"
             ],
             [
              0.2222222222222222,
              "#7201a8"
             ],
             [
              0.3333333333333333,
              "#9c179e"
             ],
             [
              0.4444444444444444,
              "#bd3786"
             ],
             [
              0.5555555555555556,
              "#d8576b"
             ],
             [
              0.6666666666666666,
              "#ed7953"
             ],
             [
              0.7777777777777778,
              "#fb9f3a"
             ],
             [
              0.8888888888888888,
              "#fdca26"
             ],
             [
              1,
              "#f0f921"
             ]
            ],
            "type": "heatmap"
           }
          ],
          "heatmapgl": [
           {
            "colorbar": {
             "outlinewidth": 0,
             "ticks": ""
            },
            "colorscale": [
             [
              0,
              "#0d0887"
             ],
             [
              0.1111111111111111,
              "#46039f"
             ],
             [
              0.2222222222222222,
              "#7201a8"
             ],
             [
              0.3333333333333333,
              "#9c179e"
             ],
             [
              0.4444444444444444,
              "#bd3786"
             ],
             [
              0.5555555555555556,
              "#d8576b"
             ],
             [
              0.6666666666666666,
              "#ed7953"
             ],
             [
              0.7777777777777778,
              "#fb9f3a"
             ],
             [
              0.8888888888888888,
              "#fdca26"
             ],
             [
              1,
              "#f0f921"
             ]
            ],
            "type": "heatmapgl"
           }
          ],
          "histogram": [
           {
            "marker": {
             "pattern": {
              "fillmode": "overlay",
              "size": 10,
              "solidity": 0.2
             }
            },
            "type": "histogram"
           }
          ],
          "histogram2d": [
           {
            "colorbar": {
             "outlinewidth": 0,
             "ticks": ""
            },
            "colorscale": [
             [
              0,
              "#0d0887"
             ],
             [
              0.1111111111111111,
              "#46039f"
             ],
             [
              0.2222222222222222,
              "#7201a8"
             ],
             [
              0.3333333333333333,
              "#9c179e"
             ],
             [
              0.4444444444444444,
              "#bd3786"
             ],
             [
              0.5555555555555556,
              "#d8576b"
             ],
             [
              0.6666666666666666,
              "#ed7953"
             ],
             [
              0.7777777777777778,
              "#fb9f3a"
             ],
             [
              0.8888888888888888,
              "#fdca26"
             ],
             [
              1,
              "#f0f921"
             ]
            ],
            "type": "histogram2d"
           }
          ],
          "histogram2dcontour": [
           {
            "colorbar": {
             "outlinewidth": 0,
             "ticks": ""
            },
            "colorscale": [
             [
              0,
              "#0d0887"
             ],
             [
              0.1111111111111111,
              "#46039f"
             ],
             [
              0.2222222222222222,
              "#7201a8"
             ],
             [
              0.3333333333333333,
              "#9c179e"
             ],
             [
              0.4444444444444444,
              "#bd3786"
             ],
             [
              0.5555555555555556,
              "#d8576b"
             ],
             [
              0.6666666666666666,
              "#ed7953"
             ],
             [
              0.7777777777777778,
              "#fb9f3a"
             ],
             [
              0.8888888888888888,
              "#fdca26"
             ],
             [
              1,
              "#f0f921"
             ]
            ],
            "type": "histogram2dcontour"
           }
          ],
          "mesh3d": [
           {
            "colorbar": {
             "outlinewidth": 0,
             "ticks": ""
            },
            "type": "mesh3d"
           }
          ],
          "parcoords": [
           {
            "line": {
             "colorbar": {
              "outlinewidth": 0,
              "ticks": ""
             }
            },
            "type": "parcoords"
           }
          ],
          "pie": [
           {
            "automargin": true,
            "type": "pie"
           }
          ],
          "scatter": [
           {
            "fillpattern": {
             "fillmode": "overlay",
             "size": 10,
             "solidity": 0.2
            },
            "type": "scatter"
           }
          ],
          "scatter3d": [
           {
            "line": {
             "colorbar": {
              "outlinewidth": 0,
              "ticks": ""
             }
            },
            "marker": {
             "colorbar": {
              "outlinewidth": 0,
              "ticks": ""
             }
            },
            "type": "scatter3d"
           }
          ],
          "scattercarpet": [
           {
            "marker": {
             "colorbar": {
              "outlinewidth": 0,
              "ticks": ""
             }
            },
            "type": "scattercarpet"
           }
          ],
          "scattergeo": [
           {
            "marker": {
             "colorbar": {
              "outlinewidth": 0,
              "ticks": ""
             }
            },
            "type": "scattergeo"
           }
          ],
          "scattergl": [
           {
            "marker": {
             "colorbar": {
              "outlinewidth": 0,
              "ticks": ""
             }
            },
            "type": "scattergl"
           }
          ],
          "scattermapbox": [
           {
            "marker": {
             "colorbar": {
              "outlinewidth": 0,
              "ticks": ""
             }
            },
            "type": "scattermapbox"
           }
          ],
          "scatterpolar": [
           {
            "marker": {
             "colorbar": {
              "outlinewidth": 0,
              "ticks": ""
             }
            },
            "type": "scatterpolar"
           }
          ],
          "scatterpolargl": [
           {
            "marker": {
             "colorbar": {
              "outlinewidth": 0,
              "ticks": ""
             }
            },
            "type": "scatterpolargl"
           }
          ],
          "scatterternary": [
           {
            "marker": {
             "colorbar": {
              "outlinewidth": 0,
              "ticks": ""
             }
            },
            "type": "scatterternary"
           }
          ],
          "surface": [
           {
            "colorbar": {
             "outlinewidth": 0,
             "ticks": ""
            },
            "colorscale": [
             [
              0,
              "#0d0887"
             ],
             [
              0.1111111111111111,
              "#46039f"
             ],
             [
              0.2222222222222222,
              "#7201a8"
             ],
             [
              0.3333333333333333,
              "#9c179e"
             ],
             [
              0.4444444444444444,
              "#bd3786"
             ],
             [
              0.5555555555555556,
              "#d8576b"
             ],
             [
              0.6666666666666666,
              "#ed7953"
             ],
             [
              0.7777777777777778,
              "#fb9f3a"
             ],
             [
              0.8888888888888888,
              "#fdca26"
             ],
             [
              1,
              "#f0f921"
             ]
            ],
            "type": "surface"
           }
          ],
          "table": [
           {
            "cells": {
             "fill": {
              "color": "#EBF0F8"
             },
             "line": {
              "color": "white"
             }
            },
            "header": {
             "fill": {
              "color": "#C8D4E3"
             },
             "line": {
              "color": "white"
             }
            },
            "type": "table"
           }
          ]
         },
         "layout": {
          "annotationdefaults": {
           "arrowcolor": "#2a3f5f",
           "arrowhead": 0,
           "arrowwidth": 1
          },
          "autotypenumbers": "strict",
          "coloraxis": {
           "colorbar": {
            "outlinewidth": 0,
            "ticks": ""
           }
          },
          "colorscale": {
           "diverging": [
            [
             0,
             "#8e0152"
            ],
            [
             0.1,
             "#c51b7d"
            ],
            [
             0.2,
             "#de77ae"
            ],
            [
             0.3,
             "#f1b6da"
            ],
            [
             0.4,
             "#fde0ef"
            ],
            [
             0.5,
             "#f7f7f7"
            ],
            [
             0.6,
             "#e6f5d0"
            ],
            [
             0.7,
             "#b8e186"
            ],
            [
             0.8,
             "#7fbc41"
            ],
            [
             0.9,
             "#4d9221"
            ],
            [
             1,
             "#276419"
            ]
           ],
           "sequential": [
            [
             0,
             "#0d0887"
            ],
            [
             0.1111111111111111,
             "#46039f"
            ],
            [
             0.2222222222222222,
             "#7201a8"
            ],
            [
             0.3333333333333333,
             "#9c179e"
            ],
            [
             0.4444444444444444,
             "#bd3786"
            ],
            [
             0.5555555555555556,
             "#d8576b"
            ],
            [
             0.6666666666666666,
             "#ed7953"
            ],
            [
             0.7777777777777778,
             "#fb9f3a"
            ],
            [
             0.8888888888888888,
             "#fdca26"
            ],
            [
             1,
             "#f0f921"
            ]
           ],
           "sequentialminus": [
            [
             0,
             "#0d0887"
            ],
            [
             0.1111111111111111,
             "#46039f"
            ],
            [
             0.2222222222222222,
             "#7201a8"
            ],
            [
             0.3333333333333333,
             "#9c179e"
            ],
            [
             0.4444444444444444,
             "#bd3786"
            ],
            [
             0.5555555555555556,
             "#d8576b"
            ],
            [
             0.6666666666666666,
             "#ed7953"
            ],
            [
             0.7777777777777778,
             "#fb9f3a"
            ],
            [
             0.8888888888888888,
             "#fdca26"
            ],
            [
             1,
             "#f0f921"
            ]
           ]
          },
          "colorway": [
           "#636efa",
           "#EF553B",
           "#00cc96",
           "#ab63fa",
           "#FFA15A",
           "#19d3f3",
           "#FF6692",
           "#B6E880",
           "#FF97FF",
           "#FECB52"
          ],
          "font": {
           "color": "#2a3f5f"
          },
          "geo": {
           "bgcolor": "white",
           "lakecolor": "white",
           "landcolor": "#E5ECF6",
           "showlakes": true,
           "showland": true,
           "subunitcolor": "white"
          },
          "hoverlabel": {
           "align": "left"
          },
          "hovermode": "closest",
          "mapbox": {
           "style": "light"
          },
          "paper_bgcolor": "white",
          "plot_bgcolor": "#E5ECF6",
          "polar": {
           "angularaxis": {
            "gridcolor": "white",
            "linecolor": "white",
            "ticks": ""
           },
           "bgcolor": "#E5ECF6",
           "radialaxis": {
            "gridcolor": "white",
            "linecolor": "white",
            "ticks": ""
           }
          },
          "scene": {
           "xaxis": {
            "backgroundcolor": "#E5ECF6",
            "gridcolor": "white",
            "gridwidth": 2,
            "linecolor": "white",
            "showbackground": true,
            "ticks": "",
            "zerolinecolor": "white"
           },
           "yaxis": {
            "backgroundcolor": "#E5ECF6",
            "gridcolor": "white",
            "gridwidth": 2,
            "linecolor": "white",
            "showbackground": true,
            "ticks": "",
            "zerolinecolor": "white"
           },
           "zaxis": {
            "backgroundcolor": "#E5ECF6",
            "gridcolor": "white",
            "gridwidth": 2,
            "linecolor": "white",
            "showbackground": true,
            "ticks": "",
            "zerolinecolor": "white"
           }
          },
          "shapedefaults": {
           "line": {
            "color": "#2a3f5f"
           }
          },
          "ternary": {
           "aaxis": {
            "gridcolor": "white",
            "linecolor": "white",
            "ticks": ""
           },
           "baxis": {
            "gridcolor": "white",
            "linecolor": "white",
            "ticks": ""
           },
           "bgcolor": "#E5ECF6",
           "caxis": {
            "gridcolor": "white",
            "linecolor": "white",
            "ticks": ""
           }
          },
          "title": {
           "x": 0.05
          },
          "xaxis": {
           "automargin": true,
           "gridcolor": "white",
           "linecolor": "white",
           "ticks": "",
           "title": {
            "standoff": 15
           },
           "zerolinecolor": "white",
           "zerolinewidth": 2
          },
          "yaxis": {
           "automargin": true,
           "gridcolor": "white",
           "linecolor": "white",
           "ticks": "",
           "title": {
            "standoff": 15
           },
           "zerolinecolor": "white",
           "zerolinewidth": 2
          }
         }
        },
        "xaxis": {
         "anchor": "y",
         "domain": [
          0,
          0.08200000000000002
         ]
        },
        "xaxis10": {
         "anchor": "y10",
         "domain": [
          0.9180000000000001,
          1
         ],
         "matches": "x"
        },
        "xaxis2": {
         "anchor": "y2",
         "domain": [
          0.10200000000000002,
          0.18400000000000005
         ],
         "matches": "x"
        },
        "xaxis3": {
         "anchor": "y3",
         "domain": [
          0.20400000000000004,
          0.28600000000000003
         ],
         "matches": "x"
        },
        "xaxis4": {
         "anchor": "y4",
         "domain": [
          0.30600000000000005,
          0.38800000000000007
         ],
         "matches": "x"
        },
        "xaxis5": {
         "anchor": "y5",
         "domain": [
          0.4080000000000001,
          0.4900000000000001
         ],
         "matches": "x"
        },
        "xaxis6": {
         "anchor": "y6",
         "domain": [
          0.5100000000000001,
          0.5920000000000001
         ],
         "matches": "x"
        },
        "xaxis7": {
         "anchor": "y7",
         "domain": [
          0.6120000000000001,
          0.6940000000000002
         ],
         "matches": "x"
        },
        "xaxis8": {
         "anchor": "y8",
         "domain": [
          0.7140000000000001,
          0.796
         ],
         "matches": "x"
        },
        "xaxis9": {
         "anchor": "y9",
         "domain": [
          0.8160000000000002,
          0.8980000000000001
         ],
         "matches": "x"
        },
        "yaxis": {
         "anchor": "x",
         "domain": [
          0,
          1
         ]
        },
        "yaxis10": {
         "anchor": "x10",
         "domain": [
          0,
          1
         ],
         "matches": "y",
         "showticklabels": false
        },
        "yaxis2": {
         "anchor": "x2",
         "domain": [
          0,
          1
         ],
         "matches": "y",
         "showticklabels": false
        },
        "yaxis3": {
         "anchor": "x3",
         "domain": [
          0,
          1
         ],
         "matches": "y",
         "showticklabels": false
        },
        "yaxis4": {
         "anchor": "x4",
         "domain": [
          0,
          1
         ],
         "matches": "y",
         "showticklabels": false
        },
        "yaxis5": {
         "anchor": "x5",
         "domain": [
          0,
          1
         ],
         "matches": "y",
         "showticklabels": false
        },
        "yaxis6": {
         "anchor": "x6",
         "domain": [
          0,
          1
         ],
         "matches": "y",
         "showticklabels": false
        },
        "yaxis7": {
         "anchor": "x7",
         "domain": [
          0,
          1
         ],
         "matches": "y",
         "showticklabels": false
        },
        "yaxis8": {
         "anchor": "x8",
         "domain": [
          0,
          1
         ],
         "matches": "y",
         "showticklabels": false
        },
        "yaxis9": {
         "anchor": "x9",
         "domain": [
          0,
          1
         ],
         "matches": "y",
         "showticklabels": false
        }
       }
      },
      "image/png": "[encoded data removed]"
     },
     "metadata": {},
     "output_type": "display_data"
    }
   ],
   "source": [
    "def min_max_normalize(arr:np.ndarray, axis:tuple) -> np.ndarray:\n",
    "    return (arr - arr.min(axis, keepdims=True)) / (arr.max(axis, keepdims=True) - arr.min(axis, keepdims=True))\n",
    "\n",
    "MIN = nn[0].kernels.min()\n",
    "MAX = nn[0].kernels.max()\n",
    "normed_kernels = (nn[0].kernels - MIN) / (MAX - MIN)\n",
    "normed_kernels.shape\n",
    "\n",
    "px.imshow(normed_kernels, facet_col=0, facet_col_wrap=10)"
   ]
  },
  {
   "cell_type": "code",
   "execution_count": 27,
   "metadata": {},
   "outputs": [
    {
     "data": {
      "text/plain": [
       "array([[[[-1.74582055e-11, -1.94787953e-11, -2.45241359e-12,\n",
       "           2.34985050e-11, -2.10898029e-12,  3.01306657e-11,\n",
       "           6.36692657e-12,  1.13347949e-11, -1.65673111e-11,\n",
       "          -2.46318108e-12]]]])"
      ]
     },
     "execution_count": 27,
     "metadata": {},
     "output_type": "execute_result"
    }
   ],
   "source": [
    "nn[0].biases"
   ]
  },
  {
   "cell_type": "code",
   "execution_count": 28,
   "metadata": {},
   "outputs": [
    {
     "data": {
      "text/plain": [
       "array([[[[0.69260885, 0.68402262, 0.6971479 , 0.71282591, 0.69029645,\n",
       "          0.67647933, 0.65845691, 0.70235144, 0.76765371, 0.69632771]]]])"
      ]
     },
     "execution_count": 28,
     "metadata": {},
     "output_type": "execute_result"
    }
   ],
   "source": [
    "nn[1].gamma"
   ]
  },
  {
   "cell_type": "code",
   "execution_count": 29,
   "metadata": {},
   "outputs": [
    {
     "data": {
      "text/plain": [
       "array([[[[-0.28947369, -0.30271636, -0.30736937, -0.26575864,\n",
       "          -0.29314423, -0.30799168, -0.32569963, -0.27961124,\n",
       "          -0.20743394, -0.3167011 ]]]])"
      ]
     },
     "execution_count": 29,
     "metadata": {},
     "output_type": "execute_result"
    }
   ],
   "source": [
    "nn[1].beta"
   ]
  },
  {
   "cell_type": "markdown",
   "metadata": {},
   "source": [
    "## Conclusion\n"
   ]
  }
 ],
 "metadata": {
  "kernelspec": {
   "display_name": "CNN",
   "language": "python",
   "name": "python3"
  },
  "language_info": {
   "codemirror_mode": {
    "name": "ipython",
    "version": 3
   },
   "file_extension": ".py",
   "mimetype": "text/x-python",
   "name": "python",
   "nbconvert_exporter": "python",
   "pygments_lexer": "ipython3",
   "version": "3.12.9"
  }
 },
 "nbformat": 4,
 "nbformat_minor": 2
}
