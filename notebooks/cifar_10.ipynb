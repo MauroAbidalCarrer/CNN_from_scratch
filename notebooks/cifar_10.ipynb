{
 "cells": [
  {
   "cell_type": "code",
   "execution_count": 12,
   "metadata": {},
   "outputs": [],
   "source": [
    "import numpy as np\n",
    "from numpy import ndarray\n",
    "import plotly.express as px\n",
    "\n",
    "from optimizers import Adam\n",
    "from losses import BinaryCrossentropy\n",
    "from cifar_10_dataset_loading import load_cifar_10\n",
    "from metrics import accuracy, nn_params_stats, activations_stats\n",
    "from layers import Convolutional, Linear, Relu, BatchNorm, Flatten, Softmax, MaxPool, Layer"
   ]
  },
  {
   "cell_type": "markdown",
   "metadata": {},
   "source": [
    "## Setup"
   ]
  },
  {
   "cell_type": "markdown",
   "metadata": {},
   "source": [
    "### Data extraction"
   ]
  },
  {
   "cell_type": "code",
   "execution_count": 13,
   "metadata": {},
   "outputs": [],
   "source": [
    "x_train, y_train, x_test, y_test = load_cifar_10()"
   ]
  },
  {
   "cell_type": "code",
   "execution_count": 14,
   "metadata": {},
   "outputs": [],
   "source": [
    "classes = y_train.argmax(axis=1)"
   ]
  },
  {
   "cell_type": "code",
   "execution_count": 15,
   "metadata": {},
   "outputs": [
    {
     "data": {
      "text/plain": [
       "dtype('float64')"
      ]
     },
     "execution_count": 15,
     "metadata": {},
     "output_type": "execute_result"
    }
   ],
   "source": [
    "# Change range from [0, 255] to [-1, 1]\n",
    "x_train = x_train / 255  \n",
    "x_train.dtype"
   ]
  },
  {
   "cell_type": "code",
   "execution_count": 16,
   "metadata": {},
   "outputs": [
    {
     "data": {
      "application/vnd.plotly.v1+json": {
       "config": {
        "plotlyServerURL": "https://plot.ly"
       },
       "data": [
        {
         "hovertemplate": "x: %{x}<br>y: %{y}<extra></extra>",
         "name": "0",
         "source": "data:image/png;base64,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",
         "type": "image",
         "xaxis": "x9",
         "yaxis": "y9"
        },
        {
         "hovertemplate": "x: %{x}<br>y: %{y}<extra></extra>",
         "name": "1",
         "source": "data:image/png;base64,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",
         "type": "image",
         "xaxis": "x10",
         "yaxis": "y10"
        },
        {
         "hovertemplate": "x: %{x}<br>y: %{y}<extra></extra>",
         "name": "2",
         "source": "data:image/png;base64,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",
         "type": "image",
         "xaxis": "x11",
         "yaxis": "y11"
        },
        {
         "hovertemplate": "x: %{x}<br>y: %{y}<extra></extra>",
         "name": "3",
         "source": "data:image/png;base64,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",
         "type": "image",
         "xaxis": "x12",
         "yaxis": "y12"
        },
        {
         "hovertemplate": "x: %{x}<br>y: %{y}<extra></extra>",
         "name": "4",
         "source": "data:image/png;base64,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",
         "type": "image",
         "xaxis": "x5",
         "yaxis": "y5"
        },
        {
         "hovertemplate": "x: %{x}<br>y: %{y}<extra></extra>",
         "name": "5",
         "source": "data:image/png;base64,iVBORw0KGgoAAAANSUhEUgAAACAAAAAgCAIAAAD8GO2jAAAKQElEQVR4XiXSWbMc10EA4HNOn96mu2fp2e/cZe7cXYtl2QJJMUXhOECFSqVc5CVvVIr/QBUPPPAP+AF5AN4CVZjEgZjgpGLZlmSjNdK9urvuNlvP2vtyNh7y/YYP/vTBPxo2RxKyCvj87dmT377lIlrbKd699ueW0rjo7i811jx6BlXPndAnj47PXk821jf/+sc/wLbfH8/kpIUlOPMml2+Pl1aKt2/8SZBMNFSq6pt+MHbGPWwXbbtkjvv4iwe/u7jaCwbS4tKCTO1wSvSal0ZE43Ujj4rWcqjycP03/vCZVaoPp+no5Khe71xfvYeE+XD+8wj6+epiQasZcp0xllE28zLHCbHd4IiWESsulu6T2MjsbLGyUTQQUDlWzY2VO0EwcHoHtTppVG4sLWwG6zHg2t6r5yPvVJb1r8JPquV2wdZLoWKaEMJQhzZEuZEbur6nqxRvFlczUikY4da7C1OvPJ9mDW2pVSwxKfaDKZdEhCOUWq5HMHCc4fDo9CSNk+KybjcqmmFsLN4EmLtpeH/7R7W8irgFWJ5QgRBt1HVTvYnL8C7QMGNP52ymy9V6o9PUbEXKIaAXlMmx80BRra3W96PAhzCycy1FKvTGjt2sL9V27ErDLpdlYsLMqhU2BAkn3gliY0NvVUoNhBYgVDERCmEhplWFYC9zfXxZ5LKCDQQkBZqd6ge9c7f3dkwyhiQg65XttTsi4aam1KuWifJnV8dXF7sYV8NFTwd5hQMGA666guCcUlGRCrvhM0OpYqECKA2iszP/ZRbTlrW8WFqlTDvc7z783+fxPMiSxPODemMhX7QIdJq3kmob47TR615ddE+239muVxcqynI5t/Lq6tHYC28tfSgrSpwNsAJ0A1kxvwAA1XPFnsuf7b8mi2GSuruPyMPPnk5GI0niiiTNPffoZL+9sr7a6Zh0S2G+hJVoRhqVxZXmZskwLEWhPAxpdHD1SJC0Zmtz+nsYZWOAIBBUApDDaJR0r4YOceUvPtvbf36cRUFMM9eb6Kpm5qw49gXjpmG12mv3v39j/YZxdPjaKij1RqNRqaVgNEn7Xhb3e+FsmFawHbEJHtD9aTooaKCibJl8ZUFryc3hm+iQI9rvH+qK/s7tP1J0M4mzudM9OrpMQzcJFC6JreGSdKuEVB+wJiSlnLKehGo8Y37SjTy1ADY504/Or7AlVXWjlMJeIjwdZhhgSzKvrW3jv1J3n7zynNH3PvywUG0/ffL8+XyENN2QcZJlo8n4YP+oc73E4yrMlRS9OhlTXVu3YC5I9DxyWgvLFCqDuI4xwhW8SXjbF7OIEAkEANKSmteQZddW3r/2XnOhNQ3ibv8CSFJzeWXc74VeqFmg0IBDx5l5PrTk4exUUFEptA3dLIOyqmMGwvPuS1Ot4364KxlymM4mQRREWU7XDD1XEliz+MpOPhgGn3726XjkeXMnisYki2WQ6Qq+efv6ynZ9Gl2EgPVHqGy0FmoN22wpWO1GuzF0i/IqZejCeYPdKdPQLuMszZgfkzAzM0J8MA7ZeOl6uhsMfvO7r4bnPSA4JRRLSFaUYqVRqdWDIEUKWSgXLobTh3tfLM2anYXOcqtTq5Q0tJTDTSmR+r1DXNAWWSIykM3ii/58Gid+taiWLI1LE8Oevf/desGqfvLPnzl9BwIhYySres7IT90ZGZHqQiGvVr9z7eazk6/2zr7GeFqtyzWjiUXecQd+EIOkjg9OH4d8DnMMCW3uZ248LhpbreIfE+Ry8UKvVErQOnzcmzpfcE4QwgBiJiBN4Lw/ZyhCGt4pFJeLK5479iPa78/UainO0u7QPZ8NmSFhxVAH49712kfXFu4FJNq7ehwGw9G0K2mlwM1BkjeMYmdl/UXuaRiHElYoE1lKaAIiL6ORqNuo57yNZjMJan0nFOwwDakfSZeDWUpIKgK8ubpTrKRqqlMiGoUWFZuHvcuL+bdZgqfjnmWWKsqqZZVKxWpCMgEQYSJJMm8WSipUdVDOmTWt+bXrnPd6hNL+2Hnyao+mcrHQrJRbRdPCFXWtpNm9y/Nnr39daWxE0nk3OHV9l0YYQJoG85TIprldrbdmvpuQDEKJEuLO57l8KqtaQMcymJt5XPDLvcG5c54t21tQTnNYpOmQ8RgfnJ4ddJ8utyrTKH7+6FetdVWS7CxiEALCSkkoLC2na3q5XFUv1SiNJYQAY2kcIyUjKXQDAH1bUgUVAAYF7oVEidtr7fdu3gUa//rF5/hf/+ufFDs1Ou+i0qLUhyjkuFBgNIUwSIgXEygpa5BBmiUkyxglsow5T+M4lnWpnC/nqCU5ayAJu6+Psxk3LXMceKV5slrfWO1sDM58fP0Do2xvaGhx6IVhxo6OJ5vb2/c3P7ocHxwNXsqSpHKT0iQMXAAFxhhCEKchYZlqFEKCVKFE8+DJty+6ZxNNxoILEYJveo+5z7a3rj389iFe32zOHTE8DQ2m7XR2CElWa1try9uzYMTmWE0awEDO8CqIPBlDRUZZFgvAOReUcjf1Gk0lQBfeycvgNU5SzZ+GEEGBxM+Pf/kL9GvNVHB83v7my89tJbt35872+vtRLP7n8X8+2P2VoFFeauTVFRalx8cHrjcVgHFGgeCMMwEFxkiD5YB4pYa203m39+VxljJEIRAcIACAAIBGlOL/+PdPHvxi/y++q/3pfft8fn7eOzy9fGYXc/VSI/Dt+cDtezNnOnbGDqFEVRRFlrI4pVwIIkxQbWt3rjduFtZPvlJ/GtG5DCETQnABAUdIcCpQ73T28cd/+ZO/+dvtjY4kDUp5ePudu4GfXjmjOCT9q97L3Vfn3YsgirIsy7IkIymnFHCRpKmsgZvbNwp5c+4Oinl5YamIZAgAgEIIAYQAEEL893/3DyuLq4WC2ncOBt1BSiCDqqovnhy/qeHSbDZ3JpOJ52aEqLJEGYUcQiBhCamGIuUQlGiasZK1+OOf/HDvYPfTn30Zx6mWwxBgwAFCEl67tiYx5ay7f3W5P/K8Zq292dy+1b7/y/jTwe48ir04iSllEKGMMEgBQghCITgcO+7Z8UDFxjQ9RoXZ+to2LBBVlS2lVmmWXjx9/fLhfjD38Ddv/m199YZmFTut7fWOVit3DKX8+e8/yUgoUhZGfpYRSZIFF5RxzpkEGEYS4xzLoL6YG6dvCUuW6+16vrW+sPSjD0wNFn0S7azduXfzzO0Psa1WFaZUzJVMjgDIIIy/fPGz3/7ff9Mw3x9HU89lgDNKKaECCCEAoRxhSYJSMV9aX9hp4I5tt4u5hgQ5TeIszHzfG477VWwuvnvXa0/xjdZHIY/P+68vBweVYvNW5wMsp6tVk8j2AIVCgDRJCKF/uAEAkBDqtJeatUXKRcNqb9a/IyBgLKQZCX03Cd0sIpk7GbojRVZZlmIVK6qc1yWtkV/JqXlLbdzb/Pi9lT8LXN5/8S9v9nY54wKAP8QWnBUsq9VovP/ebSRbrhvE6RQrHAiWxcng7HQ+GaZJeNXtjmaTnGEoGP4/lT4K+Dh5d3gAAAAASUVORK5CYII=",
         "type": "image",
         "xaxis": "x6",
         "yaxis": "y6"
        },
        {
         "hovertemplate": "x: %{x}<br>y: %{y}<extra></extra>",
         "name": "6",
         "source": "data:image/png;base64,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",
         "type": "image",
         "xaxis": "x7",
         "yaxis": "y7"
        },
        {
         "hovertemplate": "x: %{x}<br>y: %{y}<extra></extra>",
         "name": "7",
         "source": "data:image/png;base64,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",
         "type": "image",
         "xaxis": "x8",
         "yaxis": "y8"
        },
        {
         "hovertemplate": "x: %{x}<br>y: %{y}<extra></extra>",
         "name": "8",
         "source": "data:image/png;base64,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",
         "type": "image",
         "xaxis": "x",
         "yaxis": "y"
        }
       ],
       "layout": {
        "annotations": [
         {
          "font": {},
          "showarrow": false,
          "text": "facet_col=8",
          "x": 0.1175,
          "xanchor": "center",
          "xref": "paper",
          "y": 0.2866666666666666,
          "yanchor": "bottom",
          "yref": "paper"
         },
         {
          "font": {},
          "showarrow": false,
          "text": "facet_col=4",
          "x": 0.1175,
          "xanchor": "center",
          "xref": "paper",
          "y": 0.6433333333333333,
          "yanchor": "bottom",
          "yref": "paper"
         },
         {
          "font": {},
          "showarrow": false,
          "text": "facet_col=5",
          "x": 0.3725,
          "xanchor": "center",
          "xref": "paper",
          "y": 0.6433333333333333,
          "yanchor": "bottom",
          "yref": "paper"
         },
         {
          "font": {},
          "showarrow": false,
          "text": "facet_col=6",
          "x": 0.6275,
          "xanchor": "center",
          "xref": "paper",
          "y": 0.6433333333333333,
          "yanchor": "bottom",
          "yref": "paper"
         },
         {
          "font": {},
          "showarrow": false,
          "text": "facet_col=7",
          "x": 0.8824999999999998,
          "xanchor": "center",
          "xref": "paper",
          "y": 0.6433333333333333,
          "yanchor": "bottom",
          "yref": "paper"
         },
         {
          "font": {},
          "showarrow": false,
          "text": "facet_col=0",
          "x": 0.1175,
          "xanchor": "center",
          "xref": "paper",
          "y": 0.9999999999999999,
          "yanchor": "bottom",
          "yref": "paper"
         },
         {
          "font": {},
          "showarrow": false,
          "text": "facet_col=1",
          "x": 0.3725,
          "xanchor": "center",
          "xref": "paper",
          "y": 0.9999999999999999,
          "yanchor": "bottom",
          "yref": "paper"
         },
         {
          "font": {},
          "showarrow": false,
          "text": "facet_col=2",
          "x": 0.6275,
          "xanchor": "center",
          "xref": "paper",
          "y": 0.9999999999999999,
          "yanchor": "bottom",
          "yref": "paper"
         },
         {
          "font": {},
          "showarrow": false,
          "text": "facet_col=3",
          "x": 0.8824999999999998,
          "xanchor": "center",
          "xref": "paper",
          "y": 0.9999999999999999,
          "yanchor": "bottom",
          "yref": "paper"
         }
        ],
        "margin": {
         "t": 60
        },
        "template": {
         "data": {
          "bar": [
           {
            "error_x": {
             "color": "#2a3f5f"
            },
            "error_y": {
             "color": "#2a3f5f"
            },
            "marker": {
             "line": {
              "color": "#E5ECF6",
              "width": 0.5
             },
             "pattern": {
              "fillmode": "overlay",
              "size": 10,
              "solidity": 0.2
             }
            },
            "type": "bar"
           }
          ],
          "barpolar": [
           {
            "marker": {
             "line": {
              "color": "#E5ECF6",
              "width": 0.5
             },
             "pattern": {
              "fillmode": "overlay",
              "size": 10,
              "solidity": 0.2
             }
            },
            "type": "barpolar"
           }
          ],
          "carpet": [
           {
            "aaxis": {
             "endlinecolor": "#2a3f5f",
             "gridcolor": "white",
             "linecolor": "white",
             "minorgridcolor": "white",
             "startlinecolor": "#2a3f5f"
            },
            "baxis": {
             "endlinecolor": "#2a3f5f",
             "gridcolor": "white",
             "linecolor": "white",
             "minorgridcolor": "white",
             "startlinecolor": "#2a3f5f"
            },
            "type": "carpet"
           }
          ],
          "choropleth": [
           {
            "colorbar": {
             "outlinewidth": 0,
             "ticks": ""
            },
            "type": "choropleth"
           }
          ],
          "contour": [
           {
            "colorbar": {
             "outlinewidth": 0,
             "ticks": ""
            },
            "colorscale": [
             [
              0,
              "#0d0887"
             ],
             [
              0.1111111111111111,
              "#46039f"
             ],
             [
              0.2222222222222222,
              "#7201a8"
             ],
             [
              0.3333333333333333,
              "#9c179e"
             ],
             [
              0.4444444444444444,
              "#bd3786"
             ],
             [
              0.5555555555555556,
              "#d8576b"
             ],
             [
              0.6666666666666666,
              "#ed7953"
             ],
             [
              0.7777777777777778,
              "#fb9f3a"
             ],
             [
              0.8888888888888888,
              "#fdca26"
             ],
             [
              1,
              "#f0f921"
             ]
            ],
            "type": "contour"
           }
          ],
          "contourcarpet": [
           {
            "colorbar": {
             "outlinewidth": 0,
             "ticks": ""
            },
            "type": "contourcarpet"
           }
          ],
          "heatmap": [
           {
            "colorbar": {
             "outlinewidth": 0,
             "ticks": ""
            },
            "colorscale": [
             [
              0,
              "#0d0887"
             ],
             [
              0.1111111111111111,
              "#46039f"
             ],
             [
              0.2222222222222222,
              "#7201a8"
             ],
             [
              0.3333333333333333,
              "#9c179e"
             ],
             [
              0.4444444444444444,
              "#bd3786"
             ],
             [
              0.5555555555555556,
              "#d8576b"
             ],
             [
              0.6666666666666666,
              "#ed7953"
             ],
             [
              0.7777777777777778,
              "#fb9f3a"
             ],
             [
              0.8888888888888888,
              "#fdca26"
             ],
             [
              1,
              "#f0f921"
             ]
            ],
            "type": "heatmap"
           }
          ],
          "heatmapgl": [
           {
            "colorbar": {
             "outlinewidth": 0,
             "ticks": ""
            },
            "colorscale": [
             [
              0,
              "#0d0887"
             ],
             [
              0.1111111111111111,
              "#46039f"
             ],
             [
              0.2222222222222222,
              "#7201a8"
             ],
             [
              0.3333333333333333,
              "#9c179e"
             ],
             [
              0.4444444444444444,
              "#bd3786"
             ],
             [
              0.5555555555555556,
              "#d8576b"
             ],
             [
              0.6666666666666666,
              "#ed7953"
             ],
             [
              0.7777777777777778,
              "#fb9f3a"
             ],
             [
              0.8888888888888888,
              "#fdca26"
             ],
             [
              1,
              "#f0f921"
             ]
            ],
            "type": "heatmapgl"
           }
          ],
          "histogram": [
           {
            "marker": {
             "pattern": {
              "fillmode": "overlay",
              "size": 10,
              "solidity": 0.2
             }
            },
            "type": "histogram"
           }
          ],
          "histogram2d": [
           {
            "colorbar": {
             "outlinewidth": 0,
             "ticks": ""
            },
            "colorscale": [
             [
              0,
              "#0d0887"
             ],
             [
              0.1111111111111111,
              "#46039f"
             ],
             [
              0.2222222222222222,
              "#7201a8"
             ],
             [
              0.3333333333333333,
              "#9c179e"
             ],
             [
              0.4444444444444444,
              "#bd3786"
             ],
             [
              0.5555555555555556,
              "#d8576b"
             ],
             [
              0.6666666666666666,
              "#ed7953"
             ],
             [
              0.7777777777777778,
              "#fb9f3a"
             ],
             [
              0.8888888888888888,
              "#fdca26"
             ],
             [
              1,
              "#f0f921"
             ]
            ],
            "type": "histogram2d"
           }
          ],
          "histogram2dcontour": [
           {
            "colorbar": {
             "outlinewidth": 0,
             "ticks": ""
            },
            "colorscale": [
             [
              0,
              "#0d0887"
             ],
             [
              0.1111111111111111,
              "#46039f"
             ],
             [
              0.2222222222222222,
              "#7201a8"
             ],
             [
              0.3333333333333333,
              "#9c179e"
             ],
             [
              0.4444444444444444,
              "#bd3786"
             ],
             [
              0.5555555555555556,
              "#d8576b"
             ],
             [
              0.6666666666666666,
              "#ed7953"
             ],
             [
              0.7777777777777778,
              "#fb9f3a"
             ],
             [
              0.8888888888888888,
              "#fdca26"
             ],
             [
              1,
              "#f0f921"
             ]
            ],
            "type": "histogram2dcontour"
           }
          ],
          "mesh3d": [
           {
            "colorbar": {
             "outlinewidth": 0,
             "ticks": ""
            },
            "type": "mesh3d"
           }
          ],
          "parcoords": [
           {
            "line": {
             "colorbar": {
              "outlinewidth": 0,
              "ticks": ""
             }
            },
            "type": "parcoords"
           }
          ],
          "pie": [
           {
            "automargin": true,
            "type": "pie"
           }
          ],
          "scatter": [
           {
            "fillpattern": {
             "fillmode": "overlay",
             "size": 10,
             "solidity": 0.2
            },
            "type": "scatter"
           }
          ],
          "scatter3d": [
           {
            "line": {
             "colorbar": {
              "outlinewidth": 0,
              "ticks": ""
             }
            },
            "marker": {
             "colorbar": {
              "outlinewidth": 0,
              "ticks": ""
             }
            },
            "type": "scatter3d"
           }
          ],
          "scattercarpet": [
           {
            "marker": {
             "colorbar": {
              "outlinewidth": 0,
              "ticks": ""
             }
            },
            "type": "scattercarpet"
           }
          ],
          "scattergeo": [
           {
            "marker": {
             "colorbar": {
              "outlinewidth": 0,
              "ticks": ""
             }
            },
            "type": "scattergeo"
           }
          ],
          "scattergl": [
           {
            "marker": {
             "colorbar": {
              "outlinewidth": 0,
              "ticks": ""
             }
            },
            "type": "scattergl"
           }
          ],
          "scattermapbox": [
           {
            "marker": {
             "colorbar": {
              "outlinewidth": 0,
              "ticks": ""
             }
            },
            "type": "scattermapbox"
           }
          ],
          "scatterpolar": [
           {
            "marker": {
             "colorbar": {
              "outlinewidth": 0,
              "ticks": ""
             }
            },
            "type": "scatterpolar"
           }
          ],
          "scatterpolargl": [
           {
            "marker": {
             "colorbar": {
              "outlinewidth": 0,
              "ticks": ""
             }
            },
            "type": "scatterpolargl"
           }
          ],
          "scatterternary": [
           {
            "marker": {
             "colorbar": {
              "outlinewidth": 0,
              "ticks": ""
             }
            },
            "type": "scatterternary"
           }
          ],
          "surface": [
           {
            "colorbar": {
             "outlinewidth": 0,
             "ticks": ""
            },
            "colorscale": [
             [
              0,
              "#0d0887"
             ],
             [
              0.1111111111111111,
              "#46039f"
             ],
             [
              0.2222222222222222,
              "#7201a8"
             ],
             [
              0.3333333333333333,
              "#9c179e"
             ],
             [
              0.4444444444444444,
              "#bd3786"
             ],
             [
              0.5555555555555556,
              "#d8576b"
             ],
             [
              0.6666666666666666,
              "#ed7953"
             ],
             [
              0.7777777777777778,
              "#fb9f3a"
             ],
             [
              0.8888888888888888,
              "#fdca26"
             ],
             [
              1,
              "#f0f921"
             ]
            ],
            "type": "surface"
           }
          ],
          "table": [
           {
            "cells": {
             "fill": {
              "color": "#EBF0F8"
             },
             "line": {
              "color": "white"
             }
            },
            "header": {
             "fill": {
              "color": "#C8D4E3"
             },
             "line": {
              "color": "white"
             }
            },
            "type": "table"
           }
          ]
         },
         "layout": {
          "annotationdefaults": {
           "arrowcolor": "#2a3f5f",
           "arrowhead": 0,
           "arrowwidth": 1
          },
          "autotypenumbers": "strict",
          "coloraxis": {
           "colorbar": {
            "outlinewidth": 0,
            "ticks": ""
           }
          },
          "colorscale": {
           "diverging": [
            [
             0,
             "#8e0152"
            ],
            [
             0.1,
             "#c51b7d"
            ],
            [
             0.2,
             "#de77ae"
            ],
            [
             0.3,
             "#f1b6da"
            ],
            [
             0.4,
             "#fde0ef"
            ],
            [
             0.5,
             "#f7f7f7"
            ],
            [
             0.6,
             "#e6f5d0"
            ],
            [
             0.7,
             "#b8e186"
            ],
            [
             0.8,
             "#7fbc41"
            ],
            [
             0.9,
             "#4d9221"
            ],
            [
             1,
             "#276419"
            ]
           ],
           "sequential": [
            [
             0,
             "#0d0887"
            ],
            [
             0.1111111111111111,
             "#46039f"
            ],
            [
             0.2222222222222222,
             "#7201a8"
            ],
            [
             0.3333333333333333,
             "#9c179e"
            ],
            [
             0.4444444444444444,
             "#bd3786"
            ],
            [
             0.5555555555555556,
             "#d8576b"
            ],
            [
             0.6666666666666666,
             "#ed7953"
            ],
            [
             0.7777777777777778,
             "#fb9f3a"
            ],
            [
             0.8888888888888888,
             "#fdca26"
            ],
            [
             1,
             "#f0f921"
            ]
           ],
           "sequentialminus": [
            [
             0,
             "#0d0887"
            ],
            [
             0.1111111111111111,
             "#46039f"
            ],
            [
             0.2222222222222222,
             "#7201a8"
            ],
            [
             0.3333333333333333,
             "#9c179e"
            ],
            [
             0.4444444444444444,
             "#bd3786"
            ],
            [
             0.5555555555555556,
             "#d8576b"
            ],
            [
             0.6666666666666666,
             "#ed7953"
            ],
            [
             0.7777777777777778,
             "#fb9f3a"
            ],
            [
             0.8888888888888888,
             "#fdca26"
            ],
            [
             1,
             "#f0f921"
            ]
           ]
          },
          "colorway": [
           "#636efa",
           "#EF553B",
           "#00cc96",
           "#ab63fa",
           "#FFA15A",
           "#19d3f3",
           "#FF6692",
           "#B6E880",
           "#FF97FF",
           "#FECB52"
          ],
          "font": {
           "color": "#2a3f5f"
          },
          "geo": {
           "bgcolor": "white",
           "lakecolor": "white",
           "landcolor": "#E5ECF6",
           "showlakes": true,
           "showland": true,
           "subunitcolor": "white"
          },
          "hoverlabel": {
           "align": "left"
          },
          "hovermode": "closest",
          "mapbox": {
           "style": "light"
          },
          "paper_bgcolor": "white",
          "plot_bgcolor": "#E5ECF6",
          "polar": {
           "angularaxis": {
            "gridcolor": "white",
            "linecolor": "white",
            "ticks": ""
           },
           "bgcolor": "#E5ECF6",
           "radialaxis": {
            "gridcolor": "white",
            "linecolor": "white",
            "ticks": ""
           }
          },
          "scene": {
           "xaxis": {
            "backgroundcolor": "#E5ECF6",
            "gridcolor": "white",
            "gridwidth": 2,
            "linecolor": "white",
            "showbackground": true,
            "ticks": "",
            "zerolinecolor": "white"
           },
           "yaxis": {
            "backgroundcolor": "#E5ECF6",
            "gridcolor": "white",
            "gridwidth": 2,
            "linecolor": "white",
            "showbackground": true,
            "ticks": "",
            "zerolinecolor": "white"
           },
           "zaxis": {
            "backgroundcolor": "#E5ECF6",
            "gridcolor": "white",
            "gridwidth": 2,
            "linecolor": "white",
            "showbackground": true,
            "ticks": "",
            "zerolinecolor": "white"
           }
          },
          "shapedefaults": {
           "line": {
            "color": "#2a3f5f"
           }
          },
          "ternary": {
           "aaxis": {
            "gridcolor": "white",
            "linecolor": "white",
            "ticks": ""
           },
           "baxis": {
            "gridcolor": "white",
            "linecolor": "white",
            "ticks": ""
           },
           "bgcolor": "#E5ECF6",
           "caxis": {
            "gridcolor": "white",
            "linecolor": "white",
            "ticks": ""
           }
          },
          "title": {
           "x": 0.05
          },
          "xaxis": {
           "automargin": true,
           "gridcolor": "white",
           "linecolor": "white",
           "ticks": "",
           "title": {
            "standoff": 15
           },
           "zerolinecolor": "white",
           "zerolinewidth": 2
          },
          "yaxis": {
           "automargin": true,
           "gridcolor": "white",
           "linecolor": "white",
           "ticks": "",
           "title": {
            "standoff": 15
           },
           "zerolinecolor": "white",
           "zerolinewidth": 2
          }
         }
        },
        "xaxis": {
         "anchor": "y",
         "domain": [
          0,
          0.235
         ]
        },
        "xaxis10": {
         "anchor": "y10",
         "domain": [
          0.255,
          0.49
         ],
         "matches": "x",
         "showticklabels": false
        },
        "xaxis11": {
         "anchor": "y11",
         "domain": [
          0.51,
          0.745
         ],
         "matches": "x",
         "showticklabels": false
        },
        "xaxis12": {
         "anchor": "y12",
         "domain": [
          0.7649999999999999,
          0.9999999999999999
         ],
         "matches": "x",
         "showticklabels": false
        },
        "xaxis2": {
         "anchor": "y2",
         "domain": [
          0.255,
          0.49
         ],
         "matches": "x"
        },
        "xaxis3": {
         "anchor": "y3",
         "domain": [
          0.51,
          0.745
         ],
         "matches": "x"
        },
        "xaxis4": {
         "anchor": "y4",
         "domain": [
          0.7649999999999999,
          0.9999999999999999
         ],
         "matches": "x"
        },
        "xaxis5": {
         "anchor": "y5",
         "domain": [
          0,
          0.235
         ],
         "matches": "x",
         "showticklabels": false
        },
        "xaxis6": {
         "anchor": "y6",
         "domain": [
          0.255,
          0.49
         ],
         "matches": "x",
         "showticklabels": false
        },
        "xaxis7": {
         "anchor": "y7",
         "domain": [
          0.51,
          0.745
         ],
         "matches": "x",
         "showticklabels": false
        },
        "xaxis8": {
         "anchor": "y8",
         "domain": [
          0.7649999999999999,
          0.9999999999999999
         ],
         "matches": "x",
         "showticklabels": false
        },
        "xaxis9": {
         "anchor": "y9",
         "domain": [
          0,
          0.235
         ],
         "matches": "x",
         "showticklabels": false
        },
        "yaxis": {
         "anchor": "x",
         "domain": [
          0,
          0.2866666666666666
         ]
        },
        "yaxis10": {
         "anchor": "x10",
         "domain": [
          0.7133333333333333,
          0.9999999999999999
         ],
         "matches": "y",
         "showticklabels": false
        },
        "yaxis11": {
         "anchor": "x11",
         "domain": [
          0.7133333333333333,
          0.9999999999999999
         ],
         "matches": "y",
         "showticklabels": false
        },
        "yaxis12": {
         "anchor": "x12",
         "domain": [
          0.7133333333333333,
          0.9999999999999999
         ],
         "matches": "y",
         "showticklabels": false
        },
        "yaxis2": {
         "anchor": "x2",
         "domain": [
          0,
          0.2866666666666666
         ],
         "matches": "y",
         "showticklabels": false
        },
        "yaxis3": {
         "anchor": "x3",
         "domain": [
          0,
          0.2866666666666666
         ],
         "matches": "y",
         "showticklabels": false
        },
        "yaxis4": {
         "anchor": "x4",
         "domain": [
          0,
          0.2866666666666666
         ],
         "matches": "y",
         "showticklabels": false
        },
        "yaxis5": {
         "anchor": "x5",
         "domain": [
          0.35666666666666663,
          0.6433333333333333
         ],
         "matches": "y"
        },
        "yaxis6": {
         "anchor": "x6",
         "domain": [
          0.35666666666666663,
          0.6433333333333333
         ],
         "matches": "y",
         "showticklabels": false
        },
        "yaxis7": {
         "anchor": "x7",
         "domain": [
          0.35666666666666663,
          0.6433333333333333
         ],
         "matches": "y",
         "showticklabels": false
        },
        "yaxis8": {
         "anchor": "x8",
         "domain": [
          0.35666666666666663,
          0.6433333333333333
         ],
         "matches": "y",
         "showticklabels": false
        },
        "yaxis9": {
         "anchor": "x9",
         "domain": [
          0.7133333333333333,
          0.9999999999999999
         ],
         "matches": "y"
        }
       }
      }
     },
     "metadata": {},
     "output_type": "display_data"
    }
   ],
   "source": [
    "IMGS_IDX = [0, 1, 5673, 5494, 2, 55, 66, 776, 564]\n",
    "x = x_train[IMGS_IDX]\n",
    "y = y_train[IMGS_IDX]\n",
    "px.imshow(x, facet_col=0, facet_col_wrap=4)"
   ]
  },
  {
   "cell_type": "markdown",
   "metadata": {},
   "source": [
    "### Model declaration"
   ]
  },
  {
   "cell_type": "code",
   "execution_count": 17,
   "metadata": {},
   "outputs": [],
   "source": [
    "def create_nn() -> list[Layer]:\n",
    "    return [\n",
    "        Convolutional((10, 5, 5, 3)),\n",
    "        BatchNorm(),\n",
    "        Relu(),\n",
    "        MaxPool((2, 2)),\n",
    "        Convolutional((32, 3, 3, 10)),\n",
    "        BatchNorm(),\n",
    "        Relu(),\n",
    "        MaxPool((2, 2)),\n",
    "        Flatten(),\n",
    "        Linear(1152, 128),\n",
    "        Relu(),\n",
    "        Linear(128, y.shape[1]),\n",
    "        Softmax(),\n",
    "    ]"
   ]
  },
  {
   "cell_type": "markdown",
   "metadata": {},
   "source": [
    "## Training"
   ]
  },
  {
   "cell_type": "code",
   "execution_count": 18,
   "metadata": {},
   "outputs": [
    {
     "data": {
      "application/vnd.jupyter.widget-view+json": {
       "model_id": "f059c7fd240e4341bfb4437b8750a98e",
       "version_major": 2,
       "version_minor": 0
      },
      "text/plain": [
       "FigureWidget({\n",
       "    'data': [{'hovertemplate': 'variable=loss<br>epoch=%{x}<br>value=%{y}<extra></extra>',\n",
       "              'legendgroup': 'loss',\n",
       "              'marker': {'color': '#636efa', 'symbol': 'circle'},\n",
       "              'mode': 'markers',\n",
       "              'name': 'loss',\n",
       "              'orientation': 'v',\n",
       "              'showlegend': True,\n",
       "              'type': 'scatter',\n",
       "              'uid': 'ddf5ff33-7e83-4bc8-8127-28dd6871db13',\n",
       "              'x': array([0]),\n",
       "              'xaxis': 'x2',\n",
       "              'y': array([0.32506977]),\n",
       "              'yaxis': 'y2'},\n",
       "             {'hovertemplate': 'variable=accuracy<br>epoch=%{x}<br>value=%{y}<extra></extra>',\n",
       "              'legendgroup': 'accuracy',\n",
       "              'marker': {'color': '#EF553B', 'symbol': 'circle'},\n",
       "              'mode': 'markers',\n",
       "              'name': 'accuracy',\n",
       "              'orientation': 'v',\n",
       "              'showlegend': True,\n",
       "              'type': 'scatter',\n",
       "              'uid': '4a28084d-1f28-4d75-b499-83f15a9a9f4d',\n",
       "              'x': array([0]),\n",
       "              'xaxis': 'x',\n",
       "              'y': array([0.33333333]),\n",
       "              'yaxis': 'y'}],\n",
       "    'layout': {'annotations': [{'showarrow': False,\n",
       "                                'text': 'variable=accuracy',\n",
       "                                'textangle': 90,\n",
       "                                'x': 0.98,\n",
       "                                'xanchor': 'left',\n",
       "                                'xref': 'paper',\n",
       "                                'y': 0.2425,\n",
       "                                'yanchor': 'middle',\n",
       "                                'yref': 'paper'},\n",
       "                               {'showarrow': False,\n",
       "                                'text': 'variable=loss',\n",
       "                                'textangle': 90,\n",
       "                                'x': 0.98,\n",
       "                                'xanchor': 'left',\n",
       "                                'xref': 'paper',\n",
       "                                'y': 0.7575000000000001,\n",
       "                                'yanchor': 'middle',\n",
       "                                'yref': 'paper'}],\n",
       "               'legend': {'title': {'text': 'variable'}, 'tracegroupgap': 0},\n",
       "               'margin': {'t': 60},\n",
       "               'template': '...',\n",
       "               'xaxis': {'anchor': 'y', 'domain': [0.0, 0.98], 'title': {'text': 'epoch'}},\n",
       "               'xaxis2': {'anchor': 'y2', 'domain': [0.0, 0.98], 'matches': 'x', 'showticklabels': False},\n",
       "               'yaxis': {'anchor': 'x', 'domain': [0.0, 0.485], 'title': {'text': 'value'}},\n",
       "               'yaxis2': {'anchor': 'x2', 'domain': [0.515, 1.0], 'title': {'text': 'value'}}}\n",
       "})"
      ]
     },
     "metadata": {},
     "output_type": "display_data"
    }
   ],
   "source": [
    "training_stats = (\n",
    "    Adam(\n",
    "        create_nn(),\n",
    "        x,\n",
    "        y,\n",
    "        BinaryCrossentropy(),\n",
    "        starting_lr=0.015,\n",
    "        lr_decay=0.0005,\n",
    "        momentum_weight=0.9,\n",
    "        ada_grad_weight=0.9,\n",
    "    )\n",
    "    .optimize_nn(\n",
    "        epochs=10,\n",
    "        batch_size=128,\n",
    "        plt_x=\"epoch\",\n",
    "        plt_ys=[\"loss\", \"accuracy\"]\n",
    "    )\n",
    ")"
   ]
  },
  {
   "cell_type": "code",
   "execution_count": 19,
   "metadata": {},
   "outputs": [
    {
     "data": {
      "text/plain": [
       "(5000, 32, 32, 3)"
      ]
     },
     "execution_count": 19,
     "metadata": {},
     "output_type": "execute_result"
    }
   ],
   "source": [
    "N_SAMPLES_PER_CLASS = 500\n",
    "NB_CLASSES = 10\n",
    "\n",
    "class_masks = y_train.argmax(1, keepdims=True) == np.arange(NB_CLASSES)\n",
    "take_first_n_of_class = lambda data, class_idx: data[class_masks[:, class_idx]][:N_SAMPLES_PER_CLASS]\n",
    "take_first_n_of_each_class = lambda data: np.concatenate([take_first_n_of_class(data, class_idx) for class_idx in range(NB_CLASSES)], axis=0)\n",
    "even_x_train = take_first_n_of_each_class(x_train)\n",
    "even_y_train = take_first_n_of_each_class(y_train)\n",
    "even_x_train.shape"
   ]
  },
  {
   "cell_type": "code",
   "execution_count": null,
   "metadata": {},
   "outputs": [],
   "source": [
    "bad_nn = create_nn()\n",
    "bad_optimizer = Adam(\n",
    "    bad_nn,\n",
    "    even_x_train,\n",
    "    even_y_train,\n",
    "    BinaryCrossentropy(),\n",
    "    starting_lr=0.025,\n",
    "    lr_decay=0.00015,\n",
    "    momentum_weight=0.85,\n",
    "    ada_grad_weight=0.999,\n",
    ")"
   ]
  },
  {
   "cell_type": "code",
   "execution_count": null,
   "metadata": {},
   "outputs": [
    {
     "data": {
      "application/vnd.jupyter.widget-view+json": {
       "model_id": "05dc36e683df4455bfcbf41b0d0a4cbc",
       "version_major": 2,
       "version_minor": 0
      },
      "text/plain": [
       "FigureWidget({\n",
       "    'data': [{'hovertemplate': 'variable=loss<br>epoch=%{x}<br>value=%{y}<extra></extra>',\n",
       "              'legendgroup': 'loss',\n",
       "              'marker': {'color': '#636efa', 'symbol': 'circle'},\n",
       "              'mode': 'markers',\n",
       "              'name': 'loss',\n",
       "              'orientation': 'v',\n",
       "              'showlegend': True,\n",
       "              'type': 'scatter',\n",
       "              'uid': '1b916d1a-6596-4428-b7cf-a0d4d05e17d3',\n",
       "              'x': array([0]),\n",
       "              'xaxis': 'x3',\n",
       "              'y': array([0.32507915]),\n",
       "              'yaxis': 'y3'},\n",
       "             {'hovertemplate': 'variable=accuracy<br>epoch=%{x}<br>value=%{y}<extra></extra>',\n",
       "              'legendgroup': 'accuracy',\n",
       "              'marker': {'color': '#EF553B', 'symbol': 'circle'},\n",
       "              'mode': 'markers',\n",
       "              'name': 'accuracy',\n",
       "              'orientation': 'v',\n",
       "              'showlegend': True,\n",
       "              'type': 'scatter',\n",
       "              'uid': '2bc74049-88bc-4ad0-a470-0a8bdf4e8758',\n",
       "              'x': array([0]),\n",
       "              'xaxis': 'x2',\n",
       "              'y': array([0.117]),\n",
       "              'yaxis': 'y2'},\n",
       "             {'hovertemplate': 'variable=learning_rate<br>epoch=%{x}<br>value=%{y}<extra></extra>',\n",
       "              'legendgroup': 'learning_rate',\n",
       "              'marker': {'color': '#00cc96', 'symbol': 'circle'},\n",
       "              'mode': 'markers',\n",
       "              'name': 'learning_rate',\n",
       "              'orientation': 'v',\n",
       "              'showlegend': True,\n",
       "              'type': 'scatter',\n",
       "              'uid': 'f95e9145-2426-4395-99f2-f0ec73bda1e0',\n",
       "              'x': array([0]),\n",
       "              'xaxis': 'x',\n",
       "              'y': array([0.025]),\n",
       "              'yaxis': 'y'}],\n",
       "    'layout': {'annotations': [{'showarrow': False,\n",
       "                                'text': 'variable=learning_rate',\n",
       "                                'textangle': 90,\n",
       "                                'x': 0.98,\n",
       "                                'xanchor': 'left',\n",
       "                                'xref': 'paper',\n",
       "                                'y': 0.15666666666666665,\n",
       "                                'yanchor': 'middle',\n",
       "                                'yref': 'paper'},\n",
       "                               {'showarrow': False,\n",
       "                                'text': 'variable=accuracy',\n",
       "                                'textangle': 90,\n",
       "                                'x': 0.98,\n",
       "                                'xanchor': 'left',\n",
       "                                'xref': 'paper',\n",
       "                                'y': 0.4999999999999999,\n",
       "                                'yanchor': 'middle',\n",
       "                                'yref': 'paper'},\n",
       "                               {'showarrow': False,\n",
       "                                'text': 'variable=loss',\n",
       "                                'textangle': 90,\n",
       "                                'x': 0.98,\n",
       "                                'xanchor': 'left',\n",
       "                                'xref': 'paper',\n",
       "                                'y': 0.8433333333333332,\n",
       "                                'yanchor': 'middle',\n",
       "                                'yref': 'paper'}],\n",
       "               'height': 850,\n",
       "               'legend': {'title': {'text': 'variable'}, 'tracegroupgap': 0},\n",
       "               'margin': {'t': 60},\n",
       "               'template': '...',\n",
       "               'xaxis': {'anchor': 'y', 'domain': [0.0, 0.98], 'title': {'text': 'epoch'}},\n",
       "               'xaxis2': {'anchor': 'y2', 'domain': [0.0, 0.98], 'matches': 'x', 'showticklabels': False},\n",
       "               'xaxis3': {'anchor': 'y3', 'domain': [0.0, 0.98], 'matches': 'x', 'showticklabels': False},\n",
       "               'yaxis': {'anchor': 'x', 'domain': [0.0, 0.3133333333333333], 'title': {'text': 'value'}},\n",
       "               'yaxis2': {'anchor': 'x2', 'domain': [0.34333333333333327, 0.6566666666666665], 'title': {'text': 'value'}},\n",
       "               'yaxis3': {'anchor': 'x3', 'domain': [0.6866666666666665, 0.9999999999999998], 'title': {'text': 'value'}}}\n",
       "})"
      ]
     },
     "metadata": {},
     "output_type": "display_data"
    }
   ],
   "source": [
    "bad_training_stats = (\n",
    "    bad_optimizer\n",
    "    .optimize_nn(\n",
    "        epochs=100,\n",
    "        batch_size=200,\n",
    "        metrics=[accuracy, nn_params_stats, activations_stats],\n",
    "        plt_x=\"epoch\",\n",
    "        plt_ys=[\n",
    "            \"loss\", \n",
    "            \"accuracy\",\n",
    "            \"learning_rate\",\n",
    "        ],\n",
    "        height=850,\n",
    "    )\n",
    ")"
   ]
  },
  {
   "cell_type": "code",
   "execution_count": null,
   "metadata": {},
   "outputs": [
    {
     "name": "stdout",
     "output_type": "stream",
     "text": [
      "Caught KeyboardInterrupt exception, returning training metrics.\n",
      "0 accuracy: 0.586\n"
     ]
    }
   ],
   "source": [
    "from copy import deepcopy\n",
    "\n",
    "best_accuracy = 0\n",
    "try:\n",
    "    iteration = 0\n",
    "    while True:\n",
    "        starting_nn = create_nn()\n",
    "        nn = deepcopy(starting_nn)\n",
    "        optimizer = Adam(\n",
    "            nn,\n",
    "            even_x_train,   \n",
    "            even_y_train,\n",
    "            BinaryCrossentropy(),\n",
    "            starting_lr=0.025,\n",
    "            lr_decay=0.0005,\n",
    "            momentum_weight=0.9,\n",
    "            ada_grad_weight=0.999,\n",
    "        )\n",
    "        training_stats = (\n",
    "            optimizer\n",
    "            .optimize_nn(\n",
    "                epochs=50,\n",
    "                batch_size=100,\n",
    "                metrics=[accuracy, nn_params_stats, activations_stats],\n",
    "            )\n",
    "        )\n",
    "        print(iteration, \"accuracy:\", training_stats[\"accuracy\"].max())\n",
    "        if training_stats[\"accuracy\"].max() > best_accuracy:\n",
    "            best_starting_nn, best_nn, best_optimizer, best_training_stats = starting_nn, nn, optimizer, training_stats\n",
    "            best_accuracy = training_stats[\"accuracy\"].max()\n",
    "        if training_stats[\"accuracy\"].max() > 50:\n",
    "            break\n",
    "        iteration += 1\n",
    "except KeyboardInterrupt:\n",
    "    print()\n",
    "print(\"Best accuracy:\", best_accuracy)"
   ]
  },
  {
   "cell_type": "code",
   "execution_count": null,
   "metadata": {},
   "outputs": [
    {
     "data": {
      "text/plain": [
       "[<layers.Convolutional at 0x7fc6a629ff80>,\n",
       " <layers.BatchNorm at 0x7fc6a629c860>,\n",
       " <layers.Relu at 0x7fc6a629d6d0>,\n",
       " <layers.MaxPool at 0x7fc6a629fef0>,\n",
       " <layers.Convolutional at 0x7fc6a629fbf0>,\n",
       " <layers.BatchNorm at 0x7fc6a660ef00>,\n",
       " <layers.Relu at 0x7fc6ac160ad0>,\n",
       " <layers.MaxPool at 0x7fc6a629c6b0>,\n",
       " <layers.Flatten at 0x7fc6a629fd10>,\n",
       " <layers.Linear at 0x7fc6a629fce0>,\n",
       " <layers.Relu at 0x7fc6ac45ffb0>,\n",
       " <layers.Linear at 0x7fc6a629d160>,\n",
       " <layers.Softmax at 0x7fc6a629c7d0>]"
      ]
     },
     "execution_count": 118,
     "metadata": {},
     "output_type": "execute_result"
    }
   ],
   "source": [
    "nn"
   ]
  },
  {
   "cell_type": "code",
   "execution_count": null,
   "metadata": {},
   "outputs": [
    {
     "data": {
      "application/vnd.plotly.v1+json": {
       "config": {
        "plotlyServerURL": "https://plot.ly"
       },
       "data": [
        {
         "hovertemplate": "x: %{x}<br>y: %{y}<extra></extra>",
         "name": "0",
         "source": "data:image/png;base64,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",
         "type": "image",
         "xaxis": "x",
         "yaxis": "y"
        }
       ],
       "layout": {
        "margin": {
         "t": 60
        },
        "template": {
         "data": {
          "bar": [
           {
            "error_x": {
             "color": "#2a3f5f"
            },
            "error_y": {
             "color": "#2a3f5f"
            },
            "marker": {
             "line": {
              "color": "#E5ECF6",
              "width": 0.5
             },
             "pattern": {
              "fillmode": "overlay",
              "size": 10,
              "solidity": 0.2
             }
            },
            "type": "bar"
           }
          ],
          "barpolar": [
           {
            "marker": {
             "line": {
              "color": "#E5ECF6",
              "width": 0.5
             },
             "pattern": {
              "fillmode": "overlay",
              "size": 10,
              "solidity": 0.2
             }
            },
            "type": "barpolar"
           }
          ],
          "carpet": [
           {
            "aaxis": {
             "endlinecolor": "#2a3f5f",
             "gridcolor": "white",
             "linecolor": "white",
             "minorgridcolor": "white",
             "startlinecolor": "#2a3f5f"
            },
            "baxis": {
             "endlinecolor": "#2a3f5f",
             "gridcolor": "white",
             "linecolor": "white",
             "minorgridcolor": "white",
             "startlinecolor": "#2a3f5f"
            },
            "type": "carpet"
           }
          ],
          "choropleth": [
           {
            "colorbar": {
             "outlinewidth": 0,
             "ticks": ""
            },
            "type": "choropleth"
           }
          ],
          "contour": [
           {
            "colorbar": {
             "outlinewidth": 0,
             "ticks": ""
            },
            "colorscale": [
             [
              0,
              "#0d0887"
             ],
             [
              0.1111111111111111,
              "#46039f"
             ],
             [
              0.2222222222222222,
              "#7201a8"
             ],
             [
              0.3333333333333333,
              "#9c179e"
             ],
             [
              0.4444444444444444,
              "#bd3786"
             ],
             [
              0.5555555555555556,
              "#d8576b"
             ],
             [
              0.6666666666666666,
              "#ed7953"
             ],
             [
              0.7777777777777778,
              "#fb9f3a"
             ],
             [
              0.8888888888888888,
              "#fdca26"
             ],
             [
              1,
              "#f0f921"
             ]
            ],
            "type": "contour"
           }
          ],
          "contourcarpet": [
           {
            "colorbar": {
             "outlinewidth": 0,
             "ticks": ""
            },
            "type": "contourcarpet"
           }
          ],
          "heatmap": [
           {
            "colorbar": {
             "outlinewidth": 0,
             "ticks": ""
            },
            "colorscale": [
             [
              0,
              "#0d0887"
             ],
             [
              0.1111111111111111,
              "#46039f"
             ],
             [
              0.2222222222222222,
              "#7201a8"
             ],
             [
              0.3333333333333333,
              "#9c179e"
             ],
             [
              0.4444444444444444,
              "#bd3786"
             ],
             [
              0.5555555555555556,
              "#d8576b"
             ],
             [
              0.6666666666666666,
              "#ed7953"
             ],
             [
              0.7777777777777778,
              "#fb9f3a"
             ],
             [
              0.8888888888888888,
              "#fdca26"
             ],
             [
              1,
              "#f0f921"
             ]
            ],
            "type": "heatmap"
           }
          ],
          "heatmapgl": [
           {
            "colorbar": {
             "outlinewidth": 0,
             "ticks": ""
            },
            "colorscale": [
             [
              0,
              "#0d0887"
             ],
             [
              0.1111111111111111,
              "#46039f"
             ],
             [
              0.2222222222222222,
              "#7201a8"
             ],
             [
              0.3333333333333333,
              "#9c179e"
             ],
             [
              0.4444444444444444,
              "#bd3786"
             ],
             [
              0.5555555555555556,
              "#d8576b"
             ],
             [
              0.6666666666666666,
              "#ed7953"
             ],
             [
              0.7777777777777778,
              "#fb9f3a"
             ],
             [
              0.8888888888888888,
              "#fdca26"
             ],
             [
              1,
              "#f0f921"
             ]
            ],
            "type": "heatmapgl"
           }
          ],
          "histogram": [
           {
            "marker": {
             "pattern": {
              "fillmode": "overlay",
              "size": 10,
              "solidity": 0.2
             }
            },
            "type": "histogram"
           }
          ],
          "histogram2d": [
           {
            "colorbar": {
             "outlinewidth": 0,
             "ticks": ""
            },
            "colorscale": [
             [
              0,
              "#0d0887"
             ],
             [
              0.1111111111111111,
              "#46039f"
             ],
             [
              0.2222222222222222,
              "#7201a8"
             ],
             [
              0.3333333333333333,
              "#9c179e"
             ],
             [
              0.4444444444444444,
              "#bd3786"
             ],
             [
              0.5555555555555556,
              "#d8576b"
             ],
             [
              0.6666666666666666,
              "#ed7953"
             ],
             [
              0.7777777777777778,
              "#fb9f3a"
             ],
             [
              0.8888888888888888,
              "#fdca26"
             ],
             [
              1,
              "#f0f921"
             ]
            ],
            "type": "histogram2d"
           }
          ],
          "histogram2dcontour": [
           {
            "colorbar": {
             "outlinewidth": 0,
             "ticks": ""
            },
            "colorscale": [
             [
              0,
              "#0d0887"
             ],
             [
              0.1111111111111111,
              "#46039f"
             ],
             [
              0.2222222222222222,
              "#7201a8"
             ],
             [
              0.3333333333333333,
              "#9c179e"
             ],
             [
              0.4444444444444444,
              "#bd3786"
             ],
             [
              0.5555555555555556,
              "#d8576b"
             ],
             [
              0.6666666666666666,
              "#ed7953"
             ],
             [
              0.7777777777777778,
              "#fb9f3a"
             ],
             [
              0.8888888888888888,
              "#fdca26"
             ],
             [
              1,
              "#f0f921"
             ]
            ],
            "type": "histogram2dcontour"
           }
          ],
          "mesh3d": [
           {
            "colorbar": {
             "outlinewidth": 0,
             "ticks": ""
            },
            "type": "mesh3d"
           }
          ],
          "parcoords": [
           {
            "line": {
             "colorbar": {
              "outlinewidth": 0,
              "ticks": ""
             }
            },
            "type": "parcoords"
           }
          ],
          "pie": [
           {
            "automargin": true,
            "type": "pie"
           }
          ],
          "scatter": [
           {
            "fillpattern": {
             "fillmode": "overlay",
             "size": 10,
             "solidity": 0.2
            },
            "type": "scatter"
           }
          ],
          "scatter3d": [
           {
            "line": {
             "colorbar": {
              "outlinewidth": 0,
              "ticks": ""
             }
            },
            "marker": {
             "colorbar": {
              "outlinewidth": 0,
              "ticks": ""
             }
            },
            "type": "scatter3d"
           }
          ],
          "scattercarpet": [
           {
            "marker": {
             "colorbar": {
              "outlinewidth": 0,
              "ticks": ""
             }
            },
            "type": "scattercarpet"
           }
          ],
          "scattergeo": [
           {
            "marker": {
             "colorbar": {
              "outlinewidth": 0,
              "ticks": ""
             }
            },
            "type": "scattergeo"
           }
          ],
          "scattergl": [
           {
            "marker": {
             "colorbar": {
              "outlinewidth": 0,
              "ticks": ""
             }
            },
            "type": "scattergl"
           }
          ],
          "scattermapbox": [
           {
            "marker": {
             "colorbar": {
              "outlinewidth": 0,
              "ticks": ""
             }
            },
            "type": "scattermapbox"
           }
          ],
          "scatterpolar": [
           {
            "marker": {
             "colorbar": {
              "outlinewidth": 0,
              "ticks": ""
             }
            },
            "type": "scatterpolar"
           }
          ],
          "scatterpolargl": [
           {
            "marker": {
             "colorbar": {
              "outlinewidth": 0,
              "ticks": ""
             }
            },
            "type": "scatterpolargl"
           }
          ],
          "scatterternary": [
           {
            "marker": {
             "colorbar": {
              "outlinewidth": 0,
              "ticks": ""
             }
            },
            "type": "scatterternary"
           }
          ],
          "surface": [
           {
            "colorbar": {
             "outlinewidth": 0,
             "ticks": ""
            },
            "colorscale": [
             [
              0,
              "#0d0887"
             ],
             [
              0.1111111111111111,
              "#46039f"
             ],
             [
              0.2222222222222222,
              "#7201a8"
             ],
             [
              0.3333333333333333,
              "#9c179e"
             ],
             [
              0.4444444444444444,
              "#bd3786"
             ],
             [
              0.5555555555555556,
              "#d8576b"
             ],
             [
              0.6666666666666666,
              "#ed7953"
             ],
             [
              0.7777777777777778,
              "#fb9f3a"
             ],
             [
              0.8888888888888888,
              "#fdca26"
             ],
             [
              1,
              "#f0f921"
             ]
            ],
            "type": "surface"
           }
          ],
          "table": [
           {
            "cells": {
             "fill": {
              "color": "#EBF0F8"
             },
             "line": {
              "color": "white"
             }
            },
            "header": {
             "fill": {
              "color": "#C8D4E3"
             },
             "line": {
              "color": "white"
             }
            },
            "type": "table"
           }
          ]
         },
         "layout": {
          "annotationdefaults": {
           "arrowcolor": "#2a3f5f",
           "arrowhead": 0,
           "arrowwidth": 1
          },
          "autotypenumbers": "strict",
          "coloraxis": {
           "colorbar": {
            "outlinewidth": 0,
            "ticks": ""
           }
          },
          "colorscale": {
           "diverging": [
            [
             0,
             "#8e0152"
            ],
            [
             0.1,
             "#c51b7d"
            ],
            [
             0.2,
             "#de77ae"
            ],
            [
             0.3,
             "#f1b6da"
            ],
            [
             0.4,
             "#fde0ef"
            ],
            [
             0.5,
             "#f7f7f7"
            ],
            [
             0.6,
             "#e6f5d0"
            ],
            [
             0.7,
             "#b8e186"
            ],
            [
             0.8,
             "#7fbc41"
            ],
            [
             0.9,
             "#4d9221"
            ],
            [
             1,
             "#276419"
            ]
           ],
           "sequential": [
            [
             0,
             "#0d0887"
            ],
            [
             0.1111111111111111,
             "#46039f"
            ],
            [
             0.2222222222222222,
             "#7201a8"
            ],
            [
             0.3333333333333333,
             "#9c179e"
            ],
            [
             0.4444444444444444,
             "#bd3786"
            ],
            [
             0.5555555555555556,
             "#d8576b"
            ],
            [
             0.6666666666666666,
             "#ed7953"
            ],
            [
             0.7777777777777778,
             "#fb9f3a"
            ],
            [
             0.8888888888888888,
             "#fdca26"
            ],
            [
             1,
             "#f0f921"
            ]
           ],
           "sequentialminus": [
            [
             0,
             "#0d0887"
            ],
            [
             0.1111111111111111,
             "#46039f"
            ],
            [
             0.2222222222222222,
             "#7201a8"
            ],
            [
             0.3333333333333333,
             "#9c179e"
            ],
            [
             0.4444444444444444,
             "#bd3786"
            ],
            [
             0.5555555555555556,
             "#d8576b"
            ],
            [
             0.6666666666666666,
             "#ed7953"
            ],
            [
             0.7777777777777778,
             "#fb9f3a"
            ],
            [
             0.8888888888888888,
             "#fdca26"
            ],
            [
             1,
             "#f0f921"
            ]
           ]
          },
          "colorway": [
           "#636efa",
           "#EF553B",
           "#00cc96",
           "#ab63fa",
           "#FFA15A",
           "#19d3f3",
           "#FF6692",
           "#B6E880",
           "#FF97FF",
           "#FECB52"
          ],
          "font": {
           "color": "#2a3f5f"
          },
          "geo": {
           "bgcolor": "white",
           "lakecolor": "white",
           "landcolor": "#E5ECF6",
           "showlakes": true,
           "showland": true,
           "subunitcolor": "white"
          },
          "hoverlabel": {
           "align": "left"
          },
          "hovermode": "closest",
          "mapbox": {
           "style": "light"
          },
          "paper_bgcolor": "white",
          "plot_bgcolor": "#E5ECF6",
          "polar": {
           "angularaxis": {
            "gridcolor": "white",
            "linecolor": "white",
            "ticks": ""
           },
           "bgcolor": "#E5ECF6",
           "radialaxis": {
            "gridcolor": "white",
            "linecolor": "white",
            "ticks": ""
           }
          },
          "scene": {
           "xaxis": {
            "backgroundcolor": "#E5ECF6",
            "gridcolor": "white",
            "gridwidth": 2,
            "linecolor": "white",
            "showbackground": true,
            "ticks": "",
            "zerolinecolor": "white"
           },
           "yaxis": {
            "backgroundcolor": "#E5ECF6",
            "gridcolor": "white",
            "gridwidth": 2,
            "linecolor": "white",
            "showbackground": true,
            "ticks": "",
            "zerolinecolor": "white"
           },
           "zaxis": {
            "backgroundcolor": "#E5ECF6",
            "gridcolor": "white",
            "gridwidth": 2,
            "linecolor": "white",
            "showbackground": true,
            "ticks": "",
            "zerolinecolor": "white"
           }
          },
          "shapedefaults": {
           "line": {
            "color": "#2a3f5f"
           }
          },
          "ternary": {
           "aaxis": {
            "gridcolor": "white",
            "linecolor": "white",
            "ticks": ""
           },
           "baxis": {
            "gridcolor": "white",
            "linecolor": "white",
            "ticks": ""
           },
           "bgcolor": "#E5ECF6",
           "caxis": {
            "gridcolor": "white",
            "linecolor": "white",
            "ticks": ""
           }
          },
          "title": {
           "x": 0.05
          },
          "xaxis": {
           "automargin": true,
           "gridcolor": "white",
           "linecolor": "white",
           "ticks": "",
           "title": {
            "standoff": 15
           },
           "zerolinecolor": "white",
           "zerolinewidth": 2
          },
          "yaxis": {
           "automargin": true,
           "gridcolor": "white",
           "linecolor": "white",
           "ticks": "",
           "title": {
            "standoff": 15
           },
           "zerolinecolor": "white",
           "zerolinewidth": 2
          }
         }
        },
        "xaxis": {
         "anchor": "y",
         "domain": [
          0,
          1
         ]
        },
        "yaxis": {
         "anchor": "x",
         "domain": [
          0,
          1
         ]
        }
       }
      }
     },
     "metadata": {},
     "output_type": "display_data"
    }
   ],
   "source": [
    "px.imshow(x_train[5673])"
   ]
  },
  {
   "cell_type": "code",
   "execution_count": null,
   "metadata": {},
   "outputs": [
    {
     "data": {
      "application/vnd.plotly.v1+json": {
       "config": {
        "plotlyServerURL": "https://plot.ly"
       },
       "data": [
        {
         "coloraxis": "coloraxis",
         "hovertemplate": "x: %{x}<br>y: %{y}<br>color: %{z}<extra></extra>",
         "name": "0",
         "type": "heatmap",
         "xaxis": "x",
         "yaxis": "y",
         "z": [
          [
           1.7217938824910466,
           1.5795923862525396,
           1.65667691269207,
           1.7687636387145966,
           1.7656968285431829,
           1.4689947778107646,
           0.8845807254133475,
           0.7542543574000864,
           0.5158329882337968,
           0.2347247953894686,
           0.20734119331063128,
           0.1917401695356164,
           0.10305169884940854,
           0.12162307016112187,
           0.17297131386351433,
           0.20979946296748167,
           0.23399211217959787,
           0.21240651748843403,
           0.15750461598501989,
           0.1390294511622696,
           0.18246780190064452,
           0.2832517706354424,
           0.469447277312231,
           0.6895435896439213,
           0.8156581111719282,
           0.845544054189487,
           0.7311337584465417,
           0.6240052100124391
          ],
          [
           1.8023592562408057,
           1.6279202605867398,
           1.8024469697600818,
           1.869562105582061,
           1.6173034033981906,
           1.5205973327686233,
           0.950209272280252,
           0.2520430705488921,
           -0.028033517752899806,
           -0.2563621253434211,
           -0.19604162661448993,
           -0.012926970360437107,
           0.05335938740390084,
           0.10405374930989797,
           0.1477088301306551,
           0.16476942100027037,
           0.19406520462889926,
           0.21920641220048748,
           0.2661148047041636,
           0.3616642947777329,
           0.4497029991621457,
           0.4617411680349705,
           0.5008989369645563,
           0.7224753084616399,
           0.8037540533041238,
           0.7356267377459399,
           0.6794552565914365,
           0.6525449571709213
          ],
          [
           1.6885007513858614,
           1.502353048689515,
           1.5938880025339606,
           1.5421092522933564,
           1.2594577187012173,
           1.5230329006702428,
           1.3871123497662403,
           0.44840416307126696,
           -0.0909247048254263,
           -0.3151353536261334,
           -0.3336350157255013,
           -0.09908011621427804,
           0.024019433978117677,
           0.05582425148801101,
           0.1331470787336428,
           0.18574655007142957,
           0.21167824586454498,
           0.3196016359579283,
           0.43726451217711326,
           0.5333675965167298,
           0.5507345025724925,
           0.5374354931285688,
           0.5889049144802317,
           0.6681305735641263,
           0.6230027712038966,
           0.5772071465663233,
           0.6173195358486387,
           0.5865050564766661
          ],
          [
           1.4756719241161722,
           1.2618724645188417,
           1.1592115152825315,
           0.9592977846190514,
           0.7596996054871616,
           1.0310284464099733,
           1.3813220588844635,
           0.8721083786207544,
           0.1509390202111301,
           -0.22695984138125674,
           -0.5947549334881588,
           -0.43317009531393497,
           -0.272461947272538,
           -0.2571416503311878,
           -0.08847757091640834,
           0.14312247013703358,
           0.25443977368405374,
           0.3761109029397527,
           0.46635446019563265,
           0.5220922580869083,
           0.5531730382842435,
           0.6798666672720138,
           0.6810107013480408,
           0.5336915741368986,
           0.45129984687874863,
           0.5118226611538916,
           0.5540735449221769,
           0.5123516144018729
          ],
          [
           1.1537015605693228,
           0.929635361825744,
           0.69860226109307,
           0.4885589340623414,
           0.35088463573224243,
           0.4875298822326077,
           1.1055841504910056,
           1.1894945894353632,
           0.5663377549769625,
           0.16436074946093296,
           -0.4605053064376606,
           -0.5746826224062467,
           -0.5691051542364896,
           -0.6401251770200176,
           -0.4691568886190682,
           -0.28035674327881105,
           -0.11059992952085557,
           0.029520540559861308,
           0.03924309934667086,
           0.17806897376042619,
           0.4956173212216567,
           0.6386132316463793,
           0.4994301767468152,
           0.31891604094619896,
           0.33167203989492905,
           0.39423699033124954,
           0.37799751350198735,
           0.36194209481094486
          ],
          [
           0.5989678639773424,
           0.46789523983197695,
           0.38715880853017687,
           0.2984666516402326,
           0.22609412949865765,
           0.27613562226809396,
           0.8205852545685589,
           1.2899154915723618,
           0.9592592983884343,
           0.8141528979376567,
           0.2673861858574551,
           -0.29371803076747344,
           -0.7867244522766046,
           -1.0089539727849028,
           -0.5700461845289442,
           -0.5754563056966449,
           -0.6220219727029654,
           -0.5837740428890539,
           -0.620714368350529,
           -0.29302365731357777,
           0.23672297102627848,
           0.34163065299862455,
           0.20245168990718013,
           0.23943889713525462,
           0.30345319223175404,
           0.2419050510199554,
           0.1660973610053012,
           0.13661017019576527
          ],
          [
           -0.09236640894402937,
           -0.19342066547602493,
           -0.22482063641134992,
           -0.2697935901278092,
           -0.2877182029040503,
           -0.30920523041570597,
           0.055416782363690964,
           0.7183640741208244,
           0.857231567946966,
           1.269617300902745,
           1.3221449288631681,
           0.7071117304536285,
           -0.18549519008108634,
           -0.7630951253630913,
           -0.14706780212537146,
           -0.220225975645521,
           -0.5549013805192975,
           -0.8497245509001652,
           -0.8800791580367122,
           -0.3604475833893313,
           0.18879261705840217,
           0.2143670758241019,
           0.19980945712610673,
           0.3212642358206492,
           0.25254456426961647,
           0.14870865678270695,
           0.08212300943381695,
           0.050899851839680654
          ],
          [
           -0.1864667176748364,
           -0.40488028816298255,
           -0.5720231855849716,
           -0.7161195019464464,
           -0.7491871769174716,
           -0.8119696977846784,
           -0.6649152501262368,
           -0.1528676139288208,
           0.289511916460744,
           1.1664006830244287,
           1.9097774808190457,
           1.649258719064764,
           0.8416409555178224,
           0.06053270498006441,
           0.5020859148766753,
           0.5408273420923901,
           0.18869577329548742,
           -0.3466857065809473,
           -0.6238972161909713,
           -0.23277497493940352,
           0.15355154766471923,
           0.2672425976064583,
           0.3641799104593428,
           0.33490156454410996,
           0.19533678222222264,
           0.12536496103715059,
           0.0805006000867024,
           0.03816441630058992
          ],
          [
           0.3787541495797961,
           0.10820504037712275,
           -0.16486268526996045,
           -0.46110641833405913,
           -0.5990513332028571,
           -0.6307398899759078,
           -0.620469928388407,
           -0.5326248159507068,
           -0.26172708112458737,
           0.5551160652637113,
           1.4276923181067949,
           1.5171248332696552,
           1.1905779399964305,
           0.5077039969274045,
           0.8926486702779626,
           1.4029634454291817,
           1.1943971692051136,
           0.7173482925764791,
           0.06027317719456021,
           -0.07076290233059224,
           -0.004872846193013536,
           0.25433689500175866,
           0.36683162785160356,
           0.2616473229161375,
           0.16146241846602546,
           0.08846662634304092,
           0.050917925007042175,
           -0.005903008637435425
          ],
          [
           1.401704605319998,
           1.1408288813302268,
           0.8470470840465714,
           0.4699977405906598,
           0.1845308076928529,
           0.09682460468578791,
           -0.057325292308973375,
           -0.36402473281819475,
           -0.46060056994763826,
           0.019328316433010695,
           0.5659988375771163,
           0.9236794517687752,
           1.1835164039183403,
           0.49407192002653644,
           0.6056556508293583,
           1.639841624463621,
           1.6329053089040184,
           1.2585457284379777,
           0.28951094669929006,
           -0.24950307011181333,
           -0.3826043670656573,
           -0.23264544242221258,
           -0.07354403270802529,
           0.06878032787116772,
           0.11188967179713707,
           0.05528793500395901,
           0.019242049087446145,
           -0.02105514913607287
          ],
          [
           2.4244198581283793,
           2.4591524615404006,
           2.169935566549004,
           1.8201962973801613,
           1.535986937411544,
           1.3850378992236492,
           1.0229393483122764,
           0.4998566786026098,
           0.1396667994875316,
           0.17659915804666104,
           0.24780506593164447,
           0.45712612866647634,
           0.8657633784135406,
           0.25044906664927025,
           -0.10170517521492978,
           0.9125457951448785,
           1.3266055100348466,
           1.2130753630620676,
           0.1104849355999021,
           -0.8019947919437935,
           -1.1454736618312076,
           -1.1719850876722089,
           -1.0465335582424886,
           -0.7084571384233047,
           -0.34990450907349296,
           -0.1881422936135581,
           -0.06021944310917976,
           0.018744078905601258
          ],
          [
           2.1199530003589113,
           2.6972481820983423,
           2.7617165606832432,
           2.5813011110772535,
           2.3097903804649214,
           2.216805847142484,
           1.91528441348341,
           1.4338216994073045,
           1.0601956981211624,
           0.8748720601642208,
           0.682944020433534,
           0.7690256337867696,
           1.1394891836690983,
           0.8045233823789533,
           0.07744119808252431,
           0.36205615883620074,
           0.8169634997320354,
           1.0618412446769838,
           0.3906888260187327,
           -0.8021073431711916,
           -1.679019591089303,
           -2.0069677673931996,
           -1.9381062901064325,
           -1.748970482419172,
           -1.343817513023673,
           -0.9747811458455662,
           -0.5930874537943283,
           -0.2616588090904483
          ],
          [
           0.9610667232311336,
           1.653095613540838,
           2.2497623314588684,
           2.606844597750283,
           2.4480875684556325,
           2.2679030061677707,
           2.1090099302140475,
           1.7852895474571497,
           1.5031181755242486,
           1.3054341087746486,
           1.1587608263163685,
           1.357548847934537,
           1.7451177634014714,
           1.6204785079353958,
           0.9428253125803601,
           0.5951819107428413,
           0.7539947686038588,
           1.1543120422026596,
           1.1959222550361488,
           0.2886431890418904,
           -1.0241235305554865,
           -1.9361451702599837,
           -2.204545195863284,
           -2.274730240726812,
           -2.086236704757942,
           -1.8138332176517018,
           -1.4265029038357657,
           -1.0490429540561843
          ],
          [
           0.290493526585687,
           0.5651394692607664,
           1.125019805843677,
           1.8945013324356552,
           2.19925579732338,
           2.1983297146443666,
           2.2262936794044537,
           2.047020316907158,
           1.827120353380288,
           1.6120098896173338,
           1.4753017370107564,
           1.608703131865957,
           2.1116409232044475,
           2.067678173725817,
           1.7076662058482501,
           1.2000561997841515,
           1.0992384347643853,
           1.493916385759787,
           1.9792064693683302,
           1.7649117470964282,
           0.8678812841498891,
           -0.2789225098169346,
           -1.219709555678107,
           -1.868847139220322,
           -2.1716189869076614,
           -2.2330788575642724,
           -2.058211096859182,
           -1.8124367437659386
          ],
          [
           0.16649561371806584,
           0.14087416361081323,
           0.2717382568945677,
           0.7785921613200288,
           1.3134566694876275,
           1.6616992360267684,
           2.0431514789033476,
           2.210529167122337,
           2.0406092273858927,
           1.756293354638251,
           1.5950689194992567,
           1.589683198618659,
           2.2034093371127783,
           2.382197468555393,
           2.2574045260223676,
           1.6622176789716323,
           1.354406810017479,
           1.5677739484922748,
           2.0530919062455637,
           2.4343079301608013,
           2.3007743572136494,
           1.7699459392115025,
           0.9591574594517416,
           0.09371917442095784,
           -0.6057764283544431,
           -1.200392849418874,
           -1.548741839963676,
           -1.6626243260173492
          ],
          [
           0.17129193870759662,
           0.126678534707869,
           0.047935852232521114,
           0.12662029674835143,
           0.3875224120750018,
           0.6123660033827745,
           1.0327388655218082,
           1.6307090681355427,
           1.700539824161344,
           1.2954274157678702,
           1.0755096469057512,
           0.9281663773008284,
           1.5960893026459981,
           2.1165328619567583,
           2.2364567895785696,
           1.75105070638828,
           1.424700769694661,
           1.5345696895783723,
           1.9024292314434172,
           2.5533598354949776,
           2.9620183445016908,
           2.9836640289999643,
           2.797216408886485,
           2.4889580333077905,
           2.0993327021616106,
           1.4669409998039373,
           0.7420950938462516,
           -0.06316932920059881
          ],
          [
           0.10844249598477346,
           0.11980714868868059,
           0.07501507959628556,
           0.025950280494089983,
           0.0472430614904249,
           -0.012670731032419835,
           -0.011907805793512805,
           0.563065709373872,
           1.1038444849553155,
           0.9007623412859158,
           0.515277655379343,
           0.13555314255428028,
           0.7348705281826309,
           1.4145432246695966,
           1.8503569902761128,
           1.7853866665637768,
           1.6222771984998536,
           1.67052027967377,
           2.167766809094806,
           3.0396136437408323,
           3.557448405051133,
           3.559952380239712,
           3.4126523864932605,
           3.278059851355044,
           3.172144235523076,
           2.9078981839923146,
           2.4394001139060224,
           1.5997749120454023
          ],
          [
           0.015666287154885494,
           0.053619039238378574,
           0.09092526526183947,
           0.0890105518507659,
           0.04434944068748908,
           -0.08332028206992781,
           -0.35947287071600903,
           -0.2201495959748188,
           0.2400910406084264,
           0.2612084684357061,
           0.01608011988051533,
           -0.38841021294491435,
           0.012467996698033834,
           0.6560745783623441,
           1.3109698218787997,
           1.5545870624893534,
           1.4953930412196497,
           1.337247923870479,
           1.8057012097648517,
           2.591414145911902,
           3.0556284756252095,
           3.1173300712320153,
           3.0240743862064696,
           2.8464870223063428,
           2.7206242084764876,
           2.6251832304641307,
           2.422903049636854,
           2.00290430582759
          ],
          [
           -0.08212891463922017,
           -0.039923976382868875,
           0.022086185206135533,
           0.03198802445357751,
           -0.004828300203076341,
           -0.05854003929087126,
           -0.25713022864024576,
           -0.3191700471937557,
           -0.2861443469065324,
           -0.5049469071868598,
           -0.6316184246316241,
           -0.806149463547635,
           -0.4757014321727951,
           0.10833984040292383,
           0.8419469117982963,
           1.0612887981195338,
           0.9820065401995979,
           0.7999126105977967,
           1.2029261591429274,
           1.7088924590786674,
           1.9583610214609959,
           2.039370016290803,
           1.9896414930935002,
           1.7931494890232758,
           1.5667320098821709,
           1.4202641390125414,
           1.2093944177420175,
           0.92508562243408
          ],
          [
           -0.15078387908633306,
           -0.12207932325496845,
           -0.09014998719268486,
           -0.09807906994170179,
           -0.1305716071975475,
           -0.11897318483859193,
           -0.17715581745849535,
           -0.14168158147218074,
           -0.1999077092436075,
           -0.6604805286317503,
           -0.890856941697729,
           -1.0577015347309946,
           -0.7067245458329063,
           -0.19017942415747974,
           0.43260180330700504,
           0.4990657326097024,
           0.25009813325749,
           0.13583781152169155,
           0.4659639624836174,
           0.7102031998147684,
           0.7643215489228883,
           0.7384931932511121,
           0.6142968993850288,
           0.4354048317311878,
           0.24039300345834277,
           0.0859105768652294,
           -0.08570171722748599,
           -0.23121056114216137
          ],
          [
           -0.1743426102955254,
           -0.1809548445274553,
           -0.21302849882629388,
           -0.2273748973349094,
           -0.2374214501007022,
           -0.20836165379736743,
           -0.2182641854034843,
           -0.11807327511319793,
           -0.12415273518619835,
           -0.6265313243554311,
           -0.933099831735146,
           -1.1734053626611785,
           -0.7974696503208216,
           -0.36594616271641095,
           0.0025276145330653255,
           -0.0447768451984239,
           -0.4690557676806864,
           -0.6281954476727085,
           -0.4974579472156854,
           -0.3600321537510383,
           -0.26221682144565367,
           -0.15148552599725235,
           -0.09259179192533645,
           -0.09420555526096036,
           -0.13418010927777463,
           -0.2015885628598832,
           -0.28559213258500243,
           -0.3303627460907544
          ],
          [
           -0.21245391589427248,
           -0.23314081434176476,
           -0.2847302454095368,
           -0.3091462825730657,
           -0.3202694630014546,
           -0.2700029895976627,
           -0.2503893373645915,
           -0.16560819798173992,
           -0.12845585909873924,
           -0.6285422792232829,
           -0.9376538866227735,
           -1.2428618868542887,
           -0.8752436328190334,
           -0.5065344624991528,
           -0.3415256177318133,
           -0.3233210119506014,
           -0.6395745377626862,
           -0.5955249832062264,
           -0.5022988330746956,
           -0.4293036258364759,
           -0.34779060525316546,
           -0.23258649242874901,
           -0.1261617672539409,
           -0.08880615347723986,
           -0.1270104254174944,
           -0.18405245983050517,
           -0.24360787121388533,
           -0.30214466522410793
          ],
          [
           -0.2546670854379958,
           -0.2332887532848184,
           -0.2661328287109503,
           -0.3011419754896653,
           -0.31469961851984246,
           -0.26894062238250066,
           -0.25383086903215984,
           -0.1806297049524312,
           -0.10686158219901548,
           -0.5681450237169536,
           -0.7417279680820745,
           -1.0804385111910473,
           -0.8263610741798824,
           -0.48367615039029793,
           -0.4441267330256206,
           -0.42263810891846193,
           -0.5894879481484343,
           -0.39068908040440614,
           -0.32548829943360497,
           -0.34353576885880116,
           -0.34822746297676116,
           -0.29587792654633566,
           -0.2148641652439766,
           -0.14756897225593507,
           -0.16977963593210182,
           -0.20069294941864174,
           -0.2387473324170259,
           -0.3056961737835699
          ],
          [
           -0.2710709954597827,
           -0.23433126449963698,
           -0.23992021143036496,
           -0.24899717671093996,
           -0.23790464040436715,
           -0.23278377819153656,
           -0.2532471267476078,
           -0.20052973675267266,
           -0.07239544664830161,
           -0.4358195845984158,
           -0.34099192563617636,
           -0.6383625017826025,
           -0.5909140920810627,
           -0.3540503863064706,
           -0.41183857294747944,
           -0.48119996106804735,
           -0.49873312975210066,
           -0.31434902653712543,
           -0.3280493836000898,
           -0.3705932779321259,
           -0.3771164568510687,
           -0.3377253175962895,
           -0.289274529421858,
           -0.21566813261623435,
           -0.19624951367133997,
           -0.15318151934824248,
           -0.15323706635494366,
           -0.2217191929230688
          ],
          [
           -0.24712503305467598,
           -0.23625912580854241,
           -0.25029336648250294,
           -0.22224195561396792,
           -0.1985948176651547,
           -0.21603212290925838,
           -0.24844205171839234,
           -0.21009909292223955,
           0.004620461230376016,
           -0.18114689246486199,
           0.1769163496012823,
           -0.008349652704176647,
           -0.09080740467337639,
           -0.11442090532273458,
           -0.3118505383856018,
           -0.5088343065452297,
           -0.404503295782572,
           -0.3017734136174584,
           -0.34863595463161084,
           -0.3734970647326192,
           -0.3543043161132812,
           -0.32438636932231263,
           -0.3121842793818313,
           -0.27723803711412126,
           -0.2270645221399174,
           -0.11601483852122041,
           -0.056724540180803196,
           -0.14481219416133723
          ],
          [
           -0.23299022274609366,
           -0.24524094204379526,
           -0.2552995570941982,
           -0.20977347105602534,
           -0.1914797302714391,
           -0.21117034984499788,
           -0.23832404481366293,
           -0.2351764133108089,
           0.05510679963589954,
           0.08568331528876771,
           0.6243242767821369,
           0.6224693412774069,
           0.6099591263083977,
           0.29824691933015945,
           -0.12202154862742376,
           -0.42124844271719103,
           -0.3374092408309454,
           -0.35223068791231554,
           -0.3941780159505626,
           -0.37604886528150633,
           -0.3195176465490422,
           -0.2811141635231346,
           -0.2848556046316593,
           -0.27701380713573814,
           -0.24852098716686627,
           -0.1310029464175273,
           -0.01927769334544166,
           -0.08185754015786356
          ],
          [
           -0.2668848759180846,
           -0.3036303641054708,
           -0.2934488601643898,
           -0.24580664118407541,
           -0.23907095670750184,
           -0.254204740629904,
           -0.292588966519637,
           -0.32889834949848423,
           -0.04435155698894616,
           0.11351141799426637,
           0.7206074077568068,
           0.9457194243056168,
           1.076972331454691,
           0.5740979528513647,
           0.040478984888746516,
           -0.27122680606729394,
           -0.34783232423708804,
           -0.4279632879500073,
           -0.43826976598562445,
           -0.3697933599929903,
           -0.3039317744825865,
           -0.2799413695176815,
           -0.30238792867395264,
           -0.2968093797696208,
           -0.2706514391839447,
           -0.18378959309411597,
           -0.0809132359821787,
           -0.09109388037598043
          ],
          [
           -0.29048470228412,
           -0.3487255848318665,
           -0.34883481878058326,
           -0.3241661631028075,
           -0.2941651808978137,
           -0.2977492107097513,
           -0.3256446091520096,
           -0.35641266510126385,
           -0.20069348050508157,
           -0.12227549087027767,
           0.42121238481273493,
           0.8410093887711734,
           1.00091632103699,
           0.5431687513579514,
           0.08463153225257536,
           -0.18005790693884277,
           -0.37312352822479916,
           -0.43015004350610947,
           -0.43472158651175236,
           -0.3575883790357635,
           -0.31482861929136213,
           -0.326356984981743,
           -0.3752428178792639,
           -0.3722942967167356,
           -0.32876483030575626,
           -0.2646121718086301,
           -0.20839168248809264,
           -0.20160016981112566
          ]
         ]
        },
        {
         "coloraxis": "coloraxis",
         "hovertemplate": "x: %{x}<br>y: %{y}<br>color: %{z}<extra></extra>",
         "name": "1",
         "type": "heatmap",
         "xaxis": "x2",
         "yaxis": "y2",
         "z": [
          [
           2.2481807899776194,
           3.2155456614856623,
           3.4605908668936016,
           3.7505224308868055,
           2.697257586137599,
           1.465932043760805,
           2.246551292592138,
           2.749542961822096,
           2.0393763036957644,
           0.7628494604160276,
           -0.7092495925771247,
           -1.2955815221591616,
           -1.535478556370578,
           -1.6379430770542986,
           -1.4833474645674465,
           -1.2404048976550874,
           -1.0967542119464968,
           -1.1293486317964323,
           -1.3541087892668808,
           -1.5732970745390036,
           -1.710315924612166,
           -1.804208255982626,
           -1.826158619927558,
           -1.5319072483566465,
           -0.7958023699125694,
           -0.11306610543752033,
           0.4730119039861297,
           0.8623429807131224
          ],
          [
           3.4272304064416925,
           4.441584309342525,
           4.159667337521294,
           2.8494955214286977,
           1.4470594707682232,
           0.8937285683013432,
           1.4943077065958166,
           1.826603342677679,
           1.6602575034974456,
           0.5193203735638758,
           -1.1142006097025035,
           -1.5781265127032027,
           -1.2423092360412493,
           -1.2046276571516454,
           -1.1108981836407337,
           -1.046791215940889,
           -1.0917061757158462,
           -1.2496100581107537,
           -1.3319160849943232,
           -1.314030347315432,
           -1.2938771616236435,
           -1.2206160860289943,
           -0.8960202768778006,
           -0.5450303024313133,
           -0.17011514586172916,
           0.07414016948849933,
           0.5414859056420347,
           0.6113660536321861
          ],
          [
           4.525424882146274,
           4.932337468801317,
           3.3145401909568446,
           1.1843449066772724,
           0.5965298934708265,
           0.24292639769850077,
           -0.43715046451885464,
           0.026023672797800712,
           1.1662796941964921,
           1.0471088775527684,
           -0.36106826725627705,
           -1.2735191156416135,
           -0.9450463543760015,
           -0.9410304497965825,
           -0.936666813810592,
           -0.9547295018084851,
           -1.0398648667596637,
           -1.1647679185037338,
           -1.1262552891898958,
           -1.152527476435739,
           -1.1492592912391666,
           -0.8764856531233817,
           -0.4129509659201616,
           -0.12751854100252563,
           -0.05192735516288477,
           0.2700124080238707,
           0.4563385800630715,
           0.02858482732037604
          ],
          [
           4.795360212381535,
           3.747728329266563,
           1.5851514637694009,
           0.256901870565436,
           0.15541927316325688,
           -0.8994838633071478,
           -2.262859051208106,
           -1.5128692685519702,
           0.461256649833904,
           0.9706560959067925,
           -0.043243528772632045,
           -1.2020351702983114,
           -1.221554887978646,
           -1.3442194008464607,
           -1.3553966178143937,
           -1.1263636890654594,
           -0.9728542876355187,
           -1.1554513567232934,
           -1.287777361864391,
           -1.3643477053587338,
           -1.1969377596662785,
           -0.8645611269018192,
           -0.5198102026532905,
           -0.4348903918959885,
           0.009015069130054898,
           0.4483134320287253,
           -0.014021177147422126,
           -0.5120380101501325
          ],
          [
           3.6325715886010252,
           1.737506966638545,
           0.213435529603766,
           -0.3145861324843795,
           -0.36875251298152334,
           -1.1242314173029393,
           -2.415046744943675,
           -2.1861272839569885,
           -0.29106956071491014,
           0.10706142837648303,
           -0.19316903706215238,
           -0.7716420242860905,
           -0.7937703565375789,
           -0.8968896661133741,
           -1.6326797902466879,
           -1.8521524811967094,
           -1.6980839434979949,
           -1.6395236744113384,
           -1.8889495320406735,
           -1.9097392391365848,
           -1.6037268554331827,
           -1.348175508084216,
           -1.1279697709210916,
           -0.43353388912076873,
           0.46824474035741126,
           0.31574902068996635,
           -0.47689553351641467,
           -0.7985259926613381
          ],
          [
           1.721337960960911,
           0.10376354598776483,
           -0.7335745259895481,
           -0.8497274325776638,
           -0.6746189307555712,
           -0.7912705354353715,
           -1.850765372107913,
           -2.302139634504072,
           -0.8755733056260843,
           -0.8040529213015423,
           -0.587438987961111,
           -0.2887208496308622,
           0.20275899121354024,
           0.8249008705919572,
           -0.989390654771362,
           -2.3951709412901874,
           -2.3821600137953016,
           -1.5840341266105944,
           -1.7431537610462793,
           -2.1348538498831187,
           -2.2896587227960388,
           -1.8575372333358602,
           -0.7553534543733205,
           0.6157603376218677,
           0.7417580938484165,
           -0.21455065254151418,
           -0.7536788324597828,
           -0.9024497530176139
          ],
          [
           -0.09104383113463899,
           -1.3843192104775333,
           -2.00003390915486,
           -1.8604769687617702,
           -1.643286100674025,
           -1.6181593442350624,
           -2.3072958178107754,
           -2.97393627796094,
           -2.1415766349117087,
           -2.5032306776496123,
           -1.9638211027764296,
           -0.035150256800692614,
           1.8935602419055537,
           3.620900007508232,
           0.7992417535989578,
           -2.148541448416921,
           -2.0805968901348484,
           -0.3383566240922594,
           0.02951453257678749,
           -1.0066723358270797,
           -1.7544670863863658,
           -0.9673025614054811,
           0.8032501189957848,
           1.2078036899273112,
           0.12712037179300295,
           -0.6557037221639856,
           -0.7982299678506277,
           -0.8891621608667202
          ],
          [
           -0.8566481905562564,
           -1.789260392701909,
           -2.2866428041824753,
           -2.0419119927167726,
           -1.9792738762668682,
           -2.066994507913626,
           -2.6604864679494478,
           -3.1424829186256917,
           -2.6477340133619767,
           -3.370351658399443,
           -2.8245862845807457,
           -0.45937367786293765,
           2.069805722520394,
           4.197082674431201,
           1.095896922926794,
           -2.0265710569803366,
           -1.2053197859619302,
           1.2930974923288183,
           2.6824942394408176,
           1.2353851438157197,
           0.03560764121380933,
           0.8335946620442634,
           1.6631389653683133,
           0.6063165840183005,
           -0.45929372636489674,
           -0.7313106662256895,
           -0.8183392836074699,
           -0.9099757213510656
          ],
          [
           -0.8021507071500174,
           -0.8361737028858527,
           -0.7082456779334231,
           -0.5529203886921825,
           -0.8085420887034998,
           -1.1748685261060623,
           -1.5464075117372729,
           -1.4963759260801277,
           -1.2394326762658423,
           -2.3389988729346904,
           -2.4380117187068877,
           -1.318782773786707,
           0.22195462777570296,
           2.527139767059001,
           0.23036113135460679,
           -2.001977506062281,
           -0.992576213705535,
           1.6167140730869693,
           4.201033949141644,
           3.1586419619198516,
           1.8544619366723967,
           1.6643566480819296,
           1.1137677773856318,
           -0.17656235451868174,
           -0.7324412778624736,
           -0.910830596908349,
           -1.0306237622923358,
           -1.0996442118046788
          ],
          [
           -0.7993568414059715,
           -0.033874474905173646,
           0.8970237362969571,
           1.252342060836355,
           0.8628724056104367,
           0.21709275779666704,
           0.02336015514995804,
           0.6321893250693509,
           1.0289045211467407,
           -0.1393791774849203,
           -1.2164066132731257,
           -1.4231003914414289,
           -1.1737625235589855,
           0.5940006054909437,
           0.23109738833248805,
           -1.3528424809412374,
           -1.5754807800135757,
           -0.10851607883855935,
           3.2468556470492556,
           3.447815020500647,
           2.058808996536235,
           0.5210022634813369,
           -0.7727293490517488,
           -1.0521050861116557,
           -1.0230381899702068,
           -1.1673188460295978,
           -1.2940240329905002,
           -1.2937401782016793
          ],
          [
           -1.1646140027783307,
           -0.4357486280399779,
           0.6440579127246444,
           1.3294676386711828,
           1.5788567328389003,
           1.1806283007696066,
           1.0968728580921572,
           1.9639729576798803,
           2.3233804306160537,
           1.2073454047682457,
           -0.12715623225316047,
           -1.0705266267799023,
           -1.4305029292109837,
           -0.31624192718383165,
           0.8109583902183073,
           -0.5585336554699031,
           -1.8267266667843607,
           -1.7188633990855218,
           1.236078118519062,
           2.723728111597718,
           1.4946907853787876,
           -0.6822905684385586,
           -2.208263496010258,
           -2.4143630868776915,
           -2.2757497078921194,
           -1.9622569118452828,
           -1.7762517762680945,
           -1.41021817394316
          ],
          [
           -1.6258149260144987,
           -1.6517139052668537,
           -1.0597919029075444,
           -0.2246465184215634,
           0.9669567583890042,
           1.4166511602892413,
           1.7626757783051552,
           2.4433535126435175,
           2.306424547780305,
           1.4519615899074352,
           0.6693677542799057,
           -0.17955300972932609,
           -0.8179854078295614,
           0.49650681018023546,
           1.8087154617038137,
           0.6357817535133554,
           -1.1058870947805977,
           -2.0360359772127143,
           -0.15620977785921664,
           1.4450887063518796,
           1.202227515367006,
           -0.06938212209667827,
           -1.8018321560010633,
           -2.7344564096946153,
           -3.1505057375839822,
           -2.9760424759729185,
           -2.6417943566560136,
           -2.0753352730471075
          ],
          [
           -1.74825272328605,
           -2.3748262226135726,
           -2.1595822814853327,
           -1.6174069348050255,
           -0.30703564613504464,
           0.8779892942597534,
           1.7417638150710304,
           1.96719111338908,
           1.6415381507909421,
           1.6123136031192313,
           1.4352155174860923,
           1.1514363386383102,
           0.3572798145557121,
           0.7976433916700891,
           1.7216452085494298,
           1.3497806886793593,
           -0.058624848059327384,
           -1.4977794472182744,
           -1.0002197290738302,
           0.23826286369338312,
           1.2324075537659644,
           1.4684070112914602,
           0.2458336462221229,
           -1.1993568645342632,
           -2.040497030988967,
           -2.257656336079907,
           -2.4764607833538683,
           -2.453185683668958
          ],
          [
           -1.4440474686819234,
           -1.9718449220636918,
           -2.0150738147623146,
           -2.0866682894239474,
           -1.4214264261390066,
           -0.25464522014654634,
           0.5825202323126626,
           0.7749710726498424,
           1.119470520668108,
           2.1923377702594666,
           2.6531475879057673,
           2.1341571893085254,
           0.6104823959924521,
           0.3242692985343937,
           1.4351145810399493,
           2.1279328744027537,
           1.0079758025341625,
           -0.8367495197505006,
           -1.8011977141982838,
           -1.0315682746766304,
           0.9192173841840843,
           2.171352797619356,
           1.9865007989316519,
           1.1678778246479262,
           0.23811848745335773,
           -0.11963669751609829,
           -0.7584532548065149,
           -1.2537145406382173
          ],
          [
           -1.2913523825763071,
           -1.280428389729553,
           -1.3236249818177108,
           -1.773063493905885,
           -1.765830900558607,
           -1.079350938820005,
           -0.554599040209605,
           -0.46968754505659216,
           0.2715289171648715,
           2.081806206792905,
           3.1434812304115214,
           2.681935219945197,
           0.42101223846913993,
           -0.08116359028650116,
           0.4373023694088646,
           1.3677377100779027,
           0.9042005985524144,
           -0.5795643053596846,
           -1.8938914270060823,
           -1.9169120788575609,
           -0.18119365826923406,
           1.4583637694416534,
           2.2459059407198323,
           2.709983400668359,
           2.8782287064915724,
           2.968576632233465,
           2.453696241360703,
           2.0262396560958607
          ],
          [
           -1.3185966433745622,
           -1.0696269421474893,
           -0.8955527924847937,
           -1.172658069855448,
           -1.4805082832065044,
           -1.3231640542350727,
           -1.0166192510108107,
           -1.297552385553833,
           -1.1626887249085778,
           0.6816855908567991,
           2.2201107730399006,
           2.5458176647260045,
           0.2348442271158907,
           -1.0132983886113551,
           -1.6222856804959604,
           -0.6919342175500169,
           -0.016292402026598762,
           -0.6440375398397454,
           -1.5106525112192444,
           -1.686112021727161,
           -0.517118147394216,
           1.2015029327457825,
           2.844394346079269,
           4.271886806763359,
           5.004287906993481,
           5.471542742062101,
           5.623779695650693,
           5.757581216682538
          ],
          [
           -1.2819701784610067,
           -1.1019907118759447,
           -0.8828414862426202,
           -0.8639426710318201,
           -1.0208427444158281,
           -0.9698944961992211,
           -0.9267438553873022,
           -1.6401675744298356,
           -2.1722181784050734,
           -0.7831583815250671,
           1.0321227471184962,
           2.088049499784034,
           -0.043004326450228614,
           -2.188163520046084,
           -3.4876882183759452,
           -2.404052307774261,
           -0.6409185861234973,
           0.3375180715121133,
           0.3102199682737994,
           0.24820435437469068,
           0.7342451835139421,
           2.0147914022341284,
           3.6601297949407945,
           4.7592510880732855,
           4.934873593606381,
           4.9133026315797395,
           5.062184630666666,
           5.503400678830532
          ],
          [
           -1.1964269482182426,
           -1.0792187858730267,
           -0.9051308281731174,
           -0.812983303273059,
           -0.8423967684750824,
           -0.7207095192631808,
           -0.6138189533220726,
           -1.6008030024072653,
           -2.379816606838043,
           -1.3383832137431781,
           0.09468341008539549,
           1.2696430840252204,
           -0.691261150929663,
           -3.1492769037145387,
           -4.762161560754262,
           -3.1422187160434873,
           -0.6060101902271229,
           1.2661580971213289,
           1.4696963803797214,
           0.5149037152766935,
           0.14178383290001995,
           1.1655293200982793,
           2.5529373663115185,
           3.2197452983299817,
           3.0176461076828844,
           2.5986137384520007,
           2.4807972606525577,
           2.8811497771779977
          ],
          [
           -1.08096937459163,
           -0.9645094732436132,
           -0.9059814139002857,
           -0.8889263127597948,
           -0.8983307472713051,
           -0.9656774723654908,
           -0.8368512648548727,
           -1.6183345036057766,
           -2.4045582141677615,
           -1.2248385682755996,
           0.07765660866336532,
           0.6234988566642536,
           -1.6592792717832803,
           -3.9789233547543343,
           -5.3408192710027045,
           -3.4937884375798385,
           -0.5972584800358768,
           1.493616873489831,
           1.2612037398767486,
           -0.3739514994813635,
           -0.9104643956797493,
           0.07957128000247449,
           0.8734503931314601,
           0.9363902691702686,
           0.6758223974501381,
           0.2814139032199181,
           0.08893720789297066,
           0.11929443304828291
          ],
          [
           -0.9039872046363515,
           -0.8728364820929136,
           -0.9529052168937855,
           -1.00602174212186,
           -1.0387002595611208,
           -1.2504016091248285,
           -1.400827703701634,
           -1.9285515966790847,
           -2.164446358700033,
           -0.6714383207142859,
           0.2834308172461768,
           -0.0054468159942756555,
           -2.476119343713883,
           -4.44857642625378,
           -5.153607121922374,
           -2.9757525696409277,
           -0.19463046776167314,
           1.3731111843829642,
           0.15041755094267406,
           -1.8169854666159369,
           -2.085485405644426,
           -1.485486029567949,
           -1.085015128558396,
           -1.0328485200421833,
           -1.0704303339256356,
           -1.181316199522655,
           -1.2292049812376855,
           -1.216219720628422
          ],
          [
           -0.6777345503040626,
           -0.8802162347924877,
           -1.0476830701585662,
           -1.0520425467722125,
           -1.1129545441197986,
           -1.4276914845974997,
           -1.5955565183771605,
           -1.9385363798516377,
           -1.876243902552164,
           -0.3375877893390279,
           0.024168819862079083,
           -0.6162836978236346,
           -2.9616750286369102,
           -4.6947512061986005,
           -4.69498630000739,
           -2.188163035777455,
           0.07397464576923751,
           0.45289353333677296,
           -1.1429768966662908,
           -2.7096748521137735,
           -2.532139938528919,
           -2.0021633812747934,
           -1.7114674231900855,
           -1.6090940469509092,
           -1.485564868143216,
           -1.3905745521169206,
           -1.3475344234144133,
           -1.2921399131382074
          ],
          [
           -0.6659317327988468,
           -0.9713307317116736,
           -1.0709753645193327,
           -1.0722966312289581,
           -1.218467713253465,
           -1.5287997905982744,
           -1.5829170468984106,
           -1.7422886411225071,
           -1.7910817005914765,
           -0.46331357040270643,
           -0.6683560403943807,
           -1.3148203273108492,
           -3.4516314542914945,
           -4.88927898960015,
           -3.9840281842547847,
           -1.6344642715447135,
           0.08719518654021519,
           -0.15140325046507647,
           -1.4542554035261757,
           -2.276466955049224,
           -1.9620932798895778,
           -1.7246096860722302,
           -1.7146500721941451,
           -1.7861393037042703,
           -1.6093322693123409,
           -1.4365350116828375,
           -1.3373825222477023,
           -1.3440614729509361
          ],
          [
           -0.6885017297022151,
           -0.956542289874118,
           -1.0718267207888064,
           -1.1790564242664998,
           -1.3270598361006218,
           -1.4625565924549864,
           -1.4333065601035142,
           -1.540183435814671,
           -1.836422587500283,
           -0.8428090417221638,
           -1.5990710370905445,
           -2.092109775906417,
           -3.6674605071277373,
           -4.3877654259991665,
           -2.7112228016583444,
           -0.8292778234195572,
           0.3920913410245095,
           -0.026329835033535698,
           -1.2602418715697756,
           -1.69059456022308,
           -1.5180745641518656,
           -1.6846196302264607,
           -1.8952633420170064,
           -1.9496702906933066,
           -1.7508613434790214,
           -1.5742844156301272,
           -1.5104360887564194,
           -1.449942781199534
          ],
          [
           -0.6151251087360962,
           -0.9646888352991522,
           -1.1554163725323718,
           -1.2657525033269383,
           -1.2927824063409872,
           -1.3821228641255676,
           -1.3587946866875489,
           -1.4454001486334411,
           -2.021176744899785,
           -1.3464714649990641,
           -2.4510966271994814,
           -2.596332164551925,
           -3.3733327298486593,
           -2.960177216659418,
           -0.9982504956875562,
           0.24877489113326479,
           0.8515383958940501,
           0.032402313262925864,
           -1.1641482766786089,
           -1.3433545210603706,
           -1.3874983270536796,
           -1.7344351934370912,
           -1.9439440656886198,
           -1.9034910378693182,
           -1.6924287749416778,
           -1.6284016229477936,
           -1.6436846041046613,
           -1.4485414528025609
          ],
          [
           -0.6088952884790441,
           -1.0495606769427064,
           -1.2007576552560608,
           -1.270191060754431,
           -1.3520485410939442,
           -1.4572293245651224,
           -1.385416719991496,
           -1.4848868285274524,
           -2.2281554353493425,
           -1.7591741429326702,
           -3.0186471658151732,
           -2.6834817783275473,
           -2.5474941054826306,
           -1.0346980502133367,
           0.7542403908302824,
           1.2566616895766256,
           1.007743524880567,
           -0.21371778203225728,
           -1.190900903198187,
           -1.2405285984724501,
           -1.4526363127809314,
           -1.7946711714217096,
           -1.8458555900804356,
           -1.7196244785031776,
           -1.5053715507077132,
           -1.5905793677874824,
           -1.720181105360729,
           -1.5105204626671107
          ],
          [
           -0.7807867578632,
           -1.1224108386515084,
           -1.214139254914735,
           -1.3163616734446673,
           -1.5360951317206224,
           -1.5689755485496473,
           -1.504327959336969,
           -1.650318053424352,
           -2.3338620152446587,
           -1.9499103223289203,
           -3.1478023253480005,
           -2.4567903127998436,
           -1.5310709123561907,
           0.5672024474013322,
           1.9677191256996744,
           1.8517263914638096,
           0.7988838805517144,
           -0.6425964947849885,
           -1.2803996327574911,
           -1.386669795012029,
           -1.64797958375297,
           -1.8142918403630734,
           -1.615143226489726,
           -1.4110296437770047,
           -1.352736554850582,
           -1.6048802371872568,
           -1.8111177611319889,
           -1.6192474427029153
          ],
          [
           -0.9953820508983918,
           -1.1491434418830129,
           -1.2302524389481455,
           -1.438251299468674,
           -1.6749404382639261,
           -1.6685690444541632,
           -1.6515372666850305,
           -1.7493552486785928,
           -2.214401163199268,
           -1.8916286811453817,
           -2.883439524403743,
           -2.1378648223410073,
           -1.1270409099142715,
           1.0982400441096403,
           2.257160964994101,
           1.8386802668704254,
           0.37811408195256047,
           -0.9682856204924543,
           -1.1598843804416488,
           -1.4389284571049903,
           -1.7130695739698416,
           -1.7413355564774269,
           -1.4208317641871706,
           -1.2773337677607761,
           -1.3719024442578656,
           -1.6703303061726495,
           -1.8576904405733108,
           -1.6847810826473701
          ],
          [
           -1.0762163568452534,
           -1.2094280072288908,
           -1.3351538912977805,
           -1.587770992409108,
           -1.756047993797481,
           -1.6847087211841734,
           -1.6331415772053315,
           -1.6391949992847235,
           -1.876299611435484,
           -1.5737788373571902,
           -2.290374873278237,
           -1.9668333911462221,
           -1.579526288044018,
           0.39457710995605033,
           1.5679634676581076,
           1.089757994283835,
           -0.1827334978862074,
           -0.8781256027453358,
           -0.9078030599885141,
           -1.360209953187431,
           -1.709554564535447,
           -1.6615327981906358,
           -1.3422889815421335,
           -1.2803612362752554,
           -1.4784795143837401,
           -1.7785688132417647,
           -1.9134729767660072,
           -1.7830596676694541
          ]
         ]
        },
        {
         "coloraxis": "coloraxis",
         "hovertemplate": "x: %{x}<br>y: %{y}<br>color: %{z}<extra></extra>",
         "name": "2",
         "type": "heatmap",
         "xaxis": "x3",
         "yaxis": "y3",
         "z": [
          [
           -0.353573483693138,
           -1.4588710136545107,
           -2.5916146056320346,
           -2.713222392061738,
           -1.9828789100955169,
           -1.5710192378296608,
           -1.1833246290135144,
           -0.4994125505693846,
           -0.5264126786980156,
           -0.2991390616455847,
           0.35519035227147727,
           0.9227666296799507,
           1.1187549099203709,
           1.0372155432097416,
           0.9552598984838225,
           0.806372350713464,
           0.7075354245138967,
           0.7503176194358242,
           0.9866159544658131,
           1.2421136605314091,
           1.390537946821992,
           1.4683729289414602,
           1.2478203960660152,
           0.7704167239696774,
           0.25192232413749294,
           -0.14126060723483916,
           -0.48552594252573555,
           -0.7919859156072537
          ],
          [
           -1.6578504844394892,
           -2.7444575136861182,
           -3.3847585268480187,
           -2.692676727352404,
           -1.7113251480445286,
           -1.953189516958764,
           -1.5334537672888549,
           0.14528812205159247,
           0.6851082958689328,
           0.6731732953450702,
           1.099082274791116,
           1.2480529031257395,
           1.1002376850825213,
           0.9599463927751642,
           0.858296501322768,
           0.7472187196190406,
           0.7262843892753208,
           0.7769769933074268,
           0.8810905120189426,
           0.826318236973231,
           0.7647423645945008,
           0.6650141720968594,
           0.5930138168728494,
           0.2637455974548487,
           -0.10843102820616793,
           -0.3803424972719017,
           -0.7735705392079432,
           -0.7489559283265123
          ],
          [
           -2.844515637533002,
           -3.479590891061198,
           -2.8393033588743375,
           -1.296642381281659,
           -1.0789730210336772,
           -1.5429475774821477,
           -1.092544704060413,
           0.496723042636633,
           1.3314687155869085,
           0.8667475600864125,
           1.0457772396495253,
           1.2799864477085485,
           1.0694985833280688,
           0.8585595338102524,
           0.7534932168691415,
           0.6508182877823068,
           0.6513410566940759,
           0.5849272731315546,
           0.46693605141596456,
           0.32338342085662897,
           0.20072821126139367,
           0.13870033301950474,
           0.1545625853654353,
           0.048354108881561914,
           -0.18122678916377685,
           -0.6313045745566824,
           -0.7984072655595371,
           -0.5120607509374808
          ],
          [
           -3.272720043173724,
           -2.7372655121175398,
           -1.1930066261979042,
           -0.2652161922760736,
           -0.3024934315259262,
           -0.07474453128426536,
           -0.14560728042733082,
           0.27762951328500407,
           1.1478855614306755,
           0.9915896588082568,
           1.597971206693641,
           2.41988625516405,
           2.2377869303288342,
           1.4450553011451621,
           0.899613468594344,
           0.6998020823799471,
           0.7595127678296092,
           0.5623182961752337,
           0.32855044765936203,
           0.16378577932551694,
           0.2062567857434408,
           0.3512207122421094,
           0.3205837019256815,
           0.19821225977451296,
           -0.2624289039715082,
           -0.7055453957677346,
           -0.49779096560837055,
           -0.1790808954805931
          ],
          [
           -2.5077227329289786,
           -1.178180360535233,
           -0.12213353230586474,
           0.3678639936954692,
           0.5678431915457041,
           0.7219678056081605,
           0.3680747709892791,
           -0.06906983889629434,
           0.45906099956936863,
           0.700873730384096,
           1.802296857109528,
           3.1641368149611564,
           3.347679961387407,
           2.258032535762192,
           1.3846471917716598,
           1.6990067334468995,
           2.089044595323205,
           1.7721613641587692,
           1.1193214673202836,
           0.6804716978793249,
           0.8343355957495178,
           0.967234021592328,
           0.7840845255003078,
           0.131295293770351,
           -0.5039921125994338,
           -0.4266848373632023,
           0.001650678141165679,
           0.15771491064174367
          ],
          [
           -0.7689459719533493,
           0.20404118830296045,
           0.7403408574362071,
           1.0658768688127869,
           0.8565522041283609,
           0.6667227371901567,
           0.48205284776510815,
           -0.08246828854848107,
           -0.13648984669361872,
           -0.0880983690146829,
           1.2745814425495856,
           2.776588964956769,
           3.0190152375793056,
           2.1237790670599566,
           1.2727589318812311,
           2.593862565895122,
           3.7886365724089677,
           3.475063499510033,
           2.2565294472210264,
           1.6914061500292694,
           1.5878703952301951,
           1.4268181305953975,
           0.559209810552293,
           -0.6016374662963766,
           -0.5520280307743272,
           0.12325808041143926,
           0.4345923929690566,
           0.44331262297903196
          ],
          [
           1.3699396573752507,
           2.1540205102916428,
           2.5545894345602362,
           2.542559971302108,
           2.1372602494364297,
           1.9478132188826494,
           1.8700625893560867,
           1.5124814611057462,
           0.6513968767844408,
           -0.2403303464144572,
           0.35120231400719426,
           0.926260342281132,
           0.786463756719867,
           0.46534560087195453,
           0.09874096173974299,
           2.1059457402249797,
           3.796585443528616,
           3.672689940681293,
           2.3727939607477464,
           1.6522227896686674,
           1.5279800540933475,
           0.7662344504567515,
           -0.6428625256957429,
           -0.8721829786926323,
           -0.02853572766229387,
           0.48289142466513246,
           0.5664383565455079,
           0.602731917389698
          ],
          [
           2.394400265867054,
           3.280967177535929,
           3.623955383482843,
           3.5672765827969366,
           3.291364184217661,
           3.308848087538102,
           3.588094738127935,
           3.5658843514573317,
           2.1871732366377765,
           0.8280969200967165,
           0.4742293354275574,
           -0.56096569611613,
           -1.0655579170114728,
           -0.5873254341492662,
           -0.5153108385792722,
           0.6795837243933678,
           1.840779016345401,
           2.058583811208475,
           1.0609541899649133,
           0.3819170054154568,
           0.22811805392325826,
           -0.7482175007293389,
           -1.2672351831339999,
           -0.4330639409488005,
           0.28356140005386166,
           0.4752209673268051,
           0.571985010046935,
           0.6819545145368114
          ],
          [
           1.403357366821472,
           2.2185705950802466,
           2.6553900985066807,
           2.759124514549058,
           2.78937627025929,
           2.9857610779262527,
           3.3683311830696994,
           3.508777058702883,
           2.3166068169989886,
           1.2483210944002572,
           0.9866412070825755,
           -0.0700499205324063,
           -0.621733204983249,
           0.22082460407005475,
           0.18328830129743093,
           -0.3446682413835819,
           -0.24338667425248436,
           0.11771272261204943,
           -0.16630612080970034,
           -0.819586259584246,
           -1.1702068959004657,
           -1.531012480753452,
           -0.8995727490254268,
           0.03959059483485869,
           0.3900680681427983,
           0.4809547155178231,
           0.6222347702517702,
           0.7701362682177415
          ],
          [
           -0.7140811052599195,
           -0.41579878771017853,
           0.09462375789945383,
           0.5232109476358064,
           1.0387163040407281,
           1.3401768224809285,
           1.5622884728232662,
           1.6463274719624357,
           1.1164124299771152,
           0.9795435318158617,
           1.2380600461249038,
           0.6760300850500629,
           0.2813499026676066,
           1.112755373404908,
           0.9492449061976536,
           -0.2415666915586294,
           -0.45479399596292025,
           -0.18698018637670907,
           0.31802215318243765,
           0.03236910968214732,
           -0.20818642745055768,
           -0.117360804412284,
           0.33240635274737007,
           0.43770142481474494,
           0.4887370009166707,
           0.6182200222862969,
           0.7800682791539053,
           0.8871234376155761
          ],
          [
           -1.8541756500588156,
           -2.155521341941885,
           -2.015621014553074,
           -1.6036959410678735,
           -0.8217652651034502,
           -0.4732694775640117,
           -0.2216446931357071,
           -0.17501108927629758,
           -0.1941568511074783,
           0.4423835360523034,
           1.1371321796361082,
           0.8231303631811255,
           0.8532161063018875,
           1.2446996121463878,
           1.3020655192045283,
           0.5051294127060832,
           -0.005001001063798166,
           0.31797031109157337,
           1.21295305075319,
           1.6484918845881258,
           2.5824696162307275,
           3.006689775477209,
           2.8424497058677725,
           2.2139844395380863,
           1.5669514139525513,
           1.2208221064527547,
           1.030053503526337,
           0.9040788448434743
          ],
          [
           -1.2925605631696626,
           -1.7989639298939422,
           -2.062328849053498,
           -2.2288248613868924,
           -1.8959310468500614,
           -1.7107567512329713,
           -1.5710928104946884,
           -1.4909511790481034,
           -0.9379239206461711,
           -0.10443141530274178,
           -0.03966075068390287,
           -0.214966701231836,
           0.020137747171366044,
           -0.02887613317103957,
           0.4398364364099374,
           1.0033314398396165,
           0.5086159085009568,
           0.3380937587725603,
           1.1937369018753974,
           2.255307085891657,
           3.926861541661304,
           4.59192517901548,
           4.8070136031327015,
           4.861680446216515,
           4.197173995323134,
           3.192565092532046,
           2.1304272268150832,
           1.3582346659226485
          ],
          [
           0.08106936651296179,
           -0.32390566046695957,
           -1.0913991166239727,
           -1.9014741861456217,
           -2.043713834693142,
           -2.2408697409556995,
           -2.3900529982862198,
           -2.092186747451562,
           -1.2088450950563547,
           -0.6973999963339076,
           -1.175644124488139,
           -1.5398804755796691,
           -1.6262528061634023,
           -1.2546751047998046,
           -0.7409115493229238,
           0.2887437956157975,
           0.34698325722539636,
           -0.1489321785901103,
           0.3080578675286021,
           1.5349098261578227,
           3.1092593432300863,
           3.876738821559485,
           4.5565205372806625,
           5.297344613477485,
           5.528761772104766,
           5.104327609628756,
           4.102376061982702,
           3.083161707879924
          ],
          [
           0.787372106789872,
           0.7993582727402493,
           0.05405419012539328,
           -0.9301455373594847,
           -1.4920951157311277,
           -1.9882180921505468,
           -2.5388319217554742,
           -2.609131105546819,
           -1.84823878039632,
           -1.543115627605162,
           -2.100993338109603,
           -2.7129156809398514,
           -2.8835193431106156,
           -2.0280772502065427,
           -1.7835871076956373,
           -1.0155745761136425,
           -0.5801659574315658,
           -0.5148544416541234,
           -0.23291674486397654,
           0.04424011980555767,
           0.832784276483647,
           1.9279826836690481,
           2.9852627440441264,
           3.896158908737557,
           4.500027350372099,
           4.773710356355598,
           4.617711722920436,
           4.429677651578832
          ],
          [
           0.711582232779803,
           0.7940096676484988,
           0.6999234058878392,
           0.2772134630876548,
           -0.43633002449958636,
           -0.955011188544008,
           -1.599832525285365,
           -2.5627654471053725,
           -2.5301955137613246,
           -2.0964047507176247,
           -2.619487299816818,
           -2.9247589952546997,
           -3.229098233572163,
           -2.804976443111546,
           -2.443144634088111,
           -1.3371003539181612,
           -0.6798133793121865,
           -0.3192966275669368,
           -0.2773000573067419,
           -0.46026147702408715,
           -0.48041364761739513,
           -0.15237285251844382,
           0.4974835535926768,
           0.9322997656232702,
           1.218606520217028,
           1.744966477232577,
           2.1153519424927367,
           2.4811959577476324
          ],
          [
           0.7357353896730385,
           0.5783232073268331,
           0.5793717277821788,
           0.703962326667225,
           0.4970345740023928,
           0.028773837122639756,
           -0.5111823447205942,
           -1.5054765799345302,
           -1.8884187480743269,
           -1.5256084143750688,
           -2.0286909968630837,
           -2.4907897402542516,
           -3.0706728344451153,
           -2.4806981152961742,
           -1.7361114741505508,
           -0.5663633369590971,
           -0.1380546245907773,
           -0.0846648186975563,
           -0.5298283589969356,
           -1.03589839291535,
           -1.3471146120120416,
           -1.7384363905494067,
           -2.3619896096755713,
           -3.107290209468293,
           -3.540091164476511,
           -3.2893278756409914,
           -2.616803814738623,
           -1.856948109146441
          ],
          [
           0.7873068413407537,
           0.5881914219126704,
           0.4166628866903755,
           0.4624078210663801,
           0.5343168813074295,
           0.4025032120125885,
           0.17279932009640211,
           -0.4083234016723448,
           -0.721271420490041,
           -0.5927182346943493,
           -1.1568826474535587,
           -1.8823086243543792,
           -2.1788810437567467,
           -1.276226543131841,
           -0.699679976792612,
           0.22148884942542577,
           -0.16377393924734449,
           -1.1582477040109838,
           -2.517450543578087,
           -3.0992487553829435,
           -3.26282596757033,
           -3.6872201251773915,
           -4.393267150899711,
           -5.065699263983641,
           -5.393771470843826,
           -5.455789797670437,
           -5.114067456174345,
           -4.442499408382548
          ],
          [
           0.7696904368822731,
           0.5271739453895701,
           0.3169150183023991,
           0.2866354293782435,
           0.23567166149545393,
           0.07064094029090412,
           0.2534572978283055,
           0.5091509344908196,
           0.5021834722764755,
           0.1880452648014846,
           -0.5805814945768454,
           -1.2691826108851358,
           -1.2638835300019529,
           -0.059789464895764394,
           0.3928291970938972,
           0.8258271937547578,
           -0.46289184879974765,
           -2.0317785990166266,
           -3.430391543786876,
           -3.546135467771073,
           -3.337683587180067,
           -3.800263591310074,
           -4.371040884865911,
           -4.533207369250406,
           -4.3220509421784366,
           -4.022420799553667,
           -3.7292334873633575,
           -3.5908760010806593
          ],
          [
           0.6950913522262425,
           0.45454865980129555,
           0.30932572806494935,
           0.22616780079832405,
           0.18058397890056588,
           0.04417099745798886,
           0.07455896900922632,
           0.486691822531206,
           1.1243720080054278,
           0.9025310702471744,
           -0.3257832091056787,
           -0.8269692377404048,
           -0.36021408445709446,
           0.9136128096527414,
           1.23209127471532,
           1.1374957221394508,
           -0.6662902201556269,
           -2.3121296633856674,
           -2.9986130046704065,
           -2.1626817855700664,
           -1.7815432174387138,
           -2.247505058804378,
           -2.4894059776980018,
           -2.2254445356747996,
           -1.8074696411960038,
           -1.4557752937869832,
           -1.1738913651682392,
           -1.0922319154451952
          ],
          [
           0.580531861800234,
           0.4028032582757616,
           0.37042380682830583,
           0.34775642861186434,
           0.26985655783933754,
           0.29473447826474597,
           0.3975408848526288,
           0.49970735159858837,
           0.9336810516237397,
           0.8613109007913438,
           -0.1682702512963374,
           -0.27045711486840573,
           0.44594660049301027,
           1.602754543973564,
           1.9211156913585787,
           1.4989673759850908,
           -0.39290561882079666,
           -1.5838551310173927,
           -1.3299711333097501,
           -0.21303821936323777,
           -0.07175731983463299,
           -0.3508095406027021,
           -0.45457401496775995,
           -0.2694622075587888,
           0.03891826132706494,
           0.23683271418816293,
           0.2789789735487732,
           0.32581717479604616
          ],
          [
           0.4465823053815735,
           0.409140448018688,
           0.4507101574305772,
           0.40124920479104664,
           0.38645685554742937,
           0.4862272987555427,
           0.6730397587536434,
           0.7081926985592122,
           0.7233512394870883,
           0.6714764529968462,
           0.0912560166057852,
           0.4649528715311594,
           1.098283056579529,
           2.06428307544805,
           2.3256476460052586,
           1.2418252574103517,
           -0.3694669051321213,
           -0.6761146451673071,
           0.13042424700677116,
           0.9751571181564902,
           0.7972016320019885,
           0.4408501639232841,
           0.28745438995536415,
           0.3756568623068134,
           0.5349797820233346,
           0.6197373442741121,
           0.5990299813072777,
           0.6256861037204383
          ],
          [
           0.42865123181898757,
           0.44980352873016666,
           0.4788316825716681,
           0.4422755710247356,
           0.5191537362105592,
           0.6584921771295632,
           0.750302402853714,
           0.6864205815629685,
           0.6472376940446424,
           0.721090033236103,
           0.3692950511551377,
           1.2804074521088795,
           1.9465517289660244,
           2.60893844366966,
           2.500257148989188,
           0.9284138141883086,
           -0.32978658080309364,
           -0.29710184577395105,
           0.5245191389024948,
           0.925369124789756,
           0.656701059424384,
           0.40157195208950514,
           0.4188784127751761,
           0.5452508782200011,
           0.6486885691575396,
           0.5932275034580627,
           0.6066573014373579,
           0.7531697421985725
          ],
          [
           0.3952460788208985,
           0.42102798337445047,
           0.4048836557073638,
           0.4784469188366639,
           0.5888724301681657,
           0.6593079416999502,
           0.6614426418077689,
           0.5711524505139212,
           0.5585130794310877,
           0.7946192526857596,
           0.6573434618761733,
           2.0065764690799663,
           2.618197204611652,
           2.7943547827307627,
           2.0771379242683246,
           0.5505534327580845,
           -0.3701730082080462,
           -0.3049946541877272,
           0.5096146765623593,
           0.6885465495949035,
           0.5264360181407534,
           0.5379756011946544,
           0.7154106119534113,
           0.739605892466532,
           0.6931428414430412,
           0.5528712836457711,
           0.639506084535164,
           0.8492563773064379
          ],
          [
           0.2975578826260952,
           0.3806304982503716,
           0.3873865467666229,
           0.42360990363285844,
           0.45644809976943057,
           0.5269640647935087,
           0.5468244446880514,
           0.47918747680184737,
           0.49497004977774006,
           0.8584775518644243,
           0.8054518313095916,
           2.192853072425217,
           2.527601778839962,
           2.4331543104821542,
           1.1506054185843955,
           -0.13231447142120598,
           -0.6361495280066066,
           -0.27123486463330226,
           0.5332897188850088,
           0.5351500586649472,
           0.5412438757126053,
           0.7103100945753646,
           0.886449172471601,
           0.8262838777779602,
           0.6295690848201702,
           0.4509267276397573,
           0.5713614725299949,
           0.7342849090907195
          ],
          [
           0.20634488595587114,
           0.3722403047333741,
           0.3600471140153905,
           0.2891039871897582,
           0.3569512737007001,
           0.49493536806617155,
           0.5021168802235249,
           0.4665155896523784,
           0.459668562637387,
           0.7396363907132911,
           0.5805197066772619,
           1.6395730333250742,
           1.5089908879675875,
           1.486857687996582,
           0.023247351147893558,
           -0.7883101450426986,
           -0.7522019118170472,
           -0.11425961412453875,
           0.4790818968798043,
           0.42719532795553594,
           0.602760376770996,
           0.8070376428695213,
           0.8951294694833126,
           0.7269848063888069,
           0.49110287493363936,
           0.35830723097808514,
           0.4864878878888762,
           0.6092070185744093
          ],
          [
           0.23272028883758517,
           0.371444337926946,
           0.2963578202116785,
           0.27534828116068066,
           0.43113245272951106,
           0.5433847751038291,
           0.5412218552862988,
           0.5922054419487787,
           0.586244768292883,
           0.5493383217898501,
           0.16236925780690767,
           0.6284034321996222,
           0.06170303134716748,
           0.26149066180663444,
           -0.9367749330721773,
           -1.1509312826128533,
           -0.5824134901599629,
           0.1895497412497003,
           0.4425561973804774,
           0.42305061694854157,
           0.6485336149854787,
           0.8009658472634219,
           0.7265170779064145,
           0.4866954300331572,
           0.3617633306381194,
           0.3444791845423434,
           0.45389655097692283,
           0.5124400528790783
          ],
          [
           0.34841530613789073,
           0.3615886542252496,
           0.32991191109767354,
           0.43899553776461175,
           0.5860424987408718,
           0.6969560340583558,
           0.7300325325571818,
           0.7938759323181578,
           0.8644373852667406,
           0.6287211520582053,
           -0.03640856001882656,
           -0.19263107299586787,
           -0.924821123070068,
           -0.6902319695130212,
           -1.4158144657690013,
           -1.1325509370642484,
           -0.29289659152623426,
           0.4004151170380119,
           0.41864494183841683,
           0.4517501824990422,
           0.6880423089613923,
           0.739878531123754,
           0.5783392722592923,
           0.37521581435058504,
           0.37045391177410175,
           0.47401691180201666,
           0.5686229777601224,
           0.494169209564281
          ],
          [
           0.3890417939973194,
           0.3889708168086067,
           0.4547696833093763,
           0.6177548979658963,
           0.7488099978265886,
           0.8039558327696623,
           0.7879442507721534,
           0.8681590937814664,
           1.0475462049689435,
           0.7906031904818708,
           0.05483249210649757,
           -0.3563458506235381,
           -0.8446463997233542,
           -0.6926022365901007,
           -1.183474243626302,
           -0.7086464457600035,
           -0.06535960825776796,
           0.3335648152930544,
           0.30509512034374037,
           0.43354276833862937,
           0.6930649084712786,
           0.699204075914374,
           0.5566315008011296,
           0.44543360958198486,
           0.4783578616386881,
           0.6028260860700043,
           0.7084177840614071,
           0.6282966295066444
          ]
         ]
        },
        {
         "coloraxis": "coloraxis",
         "hovertemplate": "x: %{x}<br>y: %{y}<br>color: %{z}<extra></extra>",
         "name": "3",
         "type": "heatmap",
         "xaxis": "x4",
         "yaxis": "y4",
         "z": [
          [
           -1.6982994693442155,
           -1.178837293552155,
           -0.8481520083540611,
           -0.6194280724474291,
           -0.4330566689663704,
           -0.5546268853045639,
           -0.7477556871039316,
           -0.8782756908197341,
           -1.1927375531089652,
           -0.5967263163426091,
           0.08373600057154235,
           0.11365096205775407,
           0.1613509741959856,
           0.23031959917094702,
           0.22330925281847566,
           0.1808067467752225,
           0.10926037960692836,
           0.07996997748974755,
           -0.06784978980450185,
           -0.26946804797035545,
           -0.3602401500688939,
           -0.33090899090780324,
           -0.29863386804937464,
           -0.34932880710405967,
           -0.3220596662244407,
           -0.26240414044374516,
           -0.2622817692484817,
           -0.24623882754724277
          ],
          [
           -0.8972735432800238,
           -0.6704887528832895,
           -0.4855699019147592,
           -0.3142663499808629,
           -0.20474269454779168,
           -0.3937446558982258,
           -0.4803826157218328,
           -0.3608958396949029,
           -0.6036649474766684,
           -0.516415158481722,
           0.13889706691123552,
           0.27051770331031155,
           0.17373041021747704,
           0.18460176491529942,
           0.17727114033319474,
           0.1568537842315137,
           0.11972912134074853,
           0.05372688857883664,
           -0.04850833425516962,
           -0.0190355012094644,
           0.10056929968302722,
           0.08754567382186243,
           -0.11889935564877616,
           -0.26336807288090713,
           -0.23915549606171344,
           -0.01575715679412193,
           0.043223122778528654,
           0.09067160736209734
          ],
          [
           -0.48769814222729874,
           -0.3765913047756793,
           -0.30882248142627494,
           -0.3183212485967429,
           -0.40960179478522013,
           -0.5070330241125298,
           -0.45726514268208773,
           -0.36101262365904996,
           -0.3596116355270075,
           -0.5586194273238286,
           -0.20853906262191088,
           0.051904357796878416,
           0.014186013424396626,
           0.17971571658714802,
           0.251123866317665,
           0.1533259599110133,
           0.07388301698917238,
           0.055272422271617404,
           0.02949691192456657,
           0.14606617202284325,
           0.16360253321540802,
           -0.07504165056611797,
           -0.2604046538269658,
           -0.1375014072093853,
           0.06671006407821578,
           0.13741204017396524,
           0.248966501923151,
           0.37076002968569327
          ],
          [
           -0.4392358507962632,
           -0.2697026284432972,
           -0.12711227832456942,
           -0.11888562337520028,
           -0.26189810317518725,
           -0.25621938847219083,
           -0.21572835893644024,
           -0.4491917161687971,
           -0.5300012803409888,
           -0.8737413148403538,
           -1.222131552373264,
           -1.247955677074488,
           -1.216755462680193,
           -0.39385148399717157,
           0.29941004620092915,
           0.15306101205308537,
           -0.15650317624332297,
           -0.10897610690991011,
           0.0065381818545799456,
           -0.01675153033770139,
           -0.3518826394389817,
           -0.5273049499722687,
           -0.3533406672041278,
           0.06160504199087726,
           0.2805085603793764,
           0.30085761707927705,
           0.35925241461118124,
           0.40279835176347034
          ],
          [
           -0.24322853369777359,
           -0.039174039826471184,
           0.08410080634486053,
           0.049274216290874175,
           0.051632932296424565,
           -0.03251721483628983,
           -0.2132549585383261,
           -0.4517613294933895,
           -0.5172445079570493,
           -0.8149702506478959,
           -1.4720303355084101,
           -1.6213334186866533,
           -1.866290967073454,
           -1.3444948520956168,
           -0.6282281349050604,
           -0.6062585031631721,
           -0.913767949916294,
           -0.9903252044704483,
           -0.5680315333684433,
           -0.32096178007424064,
           -0.40604330401580757,
           -0.3103284297625718,
           0.0808330895534767,
           0.3719656329505144,
           0.4420885124609388,
           0.43294686198486626,
           0.4311871134587565,
           0.49075221422126225
          ],
          [
           -0.1731158235605725,
           -0.10638869310297117,
           -0.12578655909242067,
           -0.11819784245131867,
           -0.018015215396300563,
           -0.034613794707806796,
           -0.13041754351490042,
           -0.3238876842788336,
           -0.3791291801810023,
           -0.5238662457399196,
           -1.0253286130830204,
           -1.0416435372848378,
           -1.3116753550953222,
           -1.1195606145049497,
           -1.124942816703144,
           -1.4992569821183703,
           -1.5258153926322553,
           -1.8445192292388783,
           -1.5408661548181106,
           -0.6960640833597646,
           -0.09516920904122883,
           0.17448858580308854,
           0.4267046941958681,
           0.47075071497170423,
           0.5024596887338663,
           0.61949490646318,
           0.641328231550481,
           0.6605581944613367
          ],
          [
           -1.0891009600260102,
           -1.1653610904326783,
           -1.1905673273988444,
           -1.1135814188277375,
           -1.0335225935003376,
           -1.0077320931105518,
           -1.0841832591511844,
           -1.210491116289202,
           -1.002499879051538,
           -0.6702220832294965,
           -0.3836839726667869,
           -0.09902726663915215,
           -0.6352226457897843,
           -0.6860615563563357,
           -0.729653535245311,
           -1.292785122047504,
           -1.1119545514997597,
           -1.5442665618777658,
           -1.4521530347587763,
           -0.599107644597826,
           0.10981982429722537,
           0.35341633785238025,
           0.46126742929615866,
           0.5586513132199289,
           0.710401741042024,
           0.7767875474413816,
           0.7490443640604995,
           0.7707506265681462
          ],
          [
           -1.4145184515044125,
           -1.7291313485082571,
           -1.7905949272286208,
           -1.7784592342556238,
           -1.8915434095933636,
           -2.077231175389986,
           -2.1856702191829944,
           -2.186560768686695,
           -1.8345308389231314,
           -1.4825320909105166,
           -1.0124579177347102,
           -0.6476805011705586,
           -0.7898344864015739,
           -0.5861149073383155,
           -0.4506176423316244,
           -0.6636773878790919,
           -0.2487776972245441,
           -0.9397264309065222,
           -0.9571754080638585,
           -0.045409684358012445,
           0.39913340242733664,
           0.45010978893561737,
           0.5915271175954535,
           0.8358287236093153,
           0.8888991571490198,
           0.8219662654868374,
           0.7788253950860607,
           0.7797886129392143
          ],
          [
           -0.031808912503354526,
           -0.6160285888393568,
           -1.2316208066814462,
           -1.4284237519966383,
           -1.4216494493255922,
           -1.4935214515451498,
           -1.5456846299653824,
           -1.5141278440003096,
           -1.42428534493042,
           -1.6010759117969882,
           -1.5083731361788504,
           -1.7504750434272565,
           -2.007264391485975,
           -1.3794778395160543,
           -1.125816070931042,
           -1.2862626681469276,
           -0.4233984475688138,
           -0.6895004368950874,
           -0.9907259015963119,
           -0.18967156431593757,
           0.3320397331598126,
           0.6982656292883435,
           0.8069572379519648,
           0.8583440386618115,
           0.8308531930880195,
           0.8334306618638417,
           0.8218532691267455,
           0.7597076650986466
          ],
          [
           0.5782118027129574,
           0.3845379867607738,
           -0.23112594200560657,
           -0.8874376956525665,
           -1.147770013098073,
           -0.9702728725550169,
           -0.7387063165250215,
           -0.7075818262614924,
           -0.9400966591608675,
           -1.4826705771935433,
           -1.7357980879496895,
           -1.8644551168854384,
           -1.995883085209022,
           -1.419750937161477,
           -1.5055248619697597,
           -2.097718404530695,
           -1.57646989456703,
           -1.29762289366317,
           -1.5748093394273113,
           -1.2763757628956203,
           -1.0732887152006758,
           0.013018503098768355,
           0.8550605699338185,
           0.9297744983590934,
           0.7802486204437107,
           0.7282886424060117,
           0.7128365853207971,
           0.7085514404502232
          ],
          [
           0.03554647885445688,
           0.03392768239450336,
           0.008507553317285893,
           -0.26815363843906664,
           -0.831490692653061,
           -1.1414144078720105,
           -1.1954326205300385,
           -1.136586251531052,
           -1.3267190848784787,
           -1.4523444502899063,
           -1.3501091662693352,
           -1.377007603956294,
           -1.485807855937317,
           -1.437397133325381,
           -1.6446729062400574,
           -1.8417353415874789,
           -1.7488832637983227,
           -1.6761643113629117,
           -1.9273887408628188,
           -1.7969738315131487,
           -2.1675412806653553,
           -1.865562942991327,
           -0.9752986751787672,
           -0.08871442849316788,
           0.36446464206237017,
           0.6565417799978813,
           0.8420986370862364,
           0.7853372825379416
          ],
          [
           -0.2625945720122077,
           -0.37014904368916357,
           -0.30514203212465896,
           -0.0909987974132733,
           -0.14861529398703163,
           -0.5381581317160888,
           -1.0762464176545965,
           -1.0490976758356865,
           -1.0673523162163325,
           -0.98013464283343,
           -0.6522043470965486,
           -0.7817879893434426,
           -0.9559146529125638,
           -1.1768522910033798,
           -1.6216397789538832,
           -1.6650561303780178,
           -1.5903406304119867,
           -1.5284599682061333,
           -1.5234688985354394,
           -1.408826963410944,
           -1.6039143339775335,
           -1.9262933000176472,
           -2.2468544544750895,
           -2.0223685085619634,
           -1.443223624903672,
           -0.692643360694749,
           0.22597289985403268,
           0.7601495756477074
          ],
          [
           -0.014576007072405067,
           -0.18066061371212727,
           -0.22999039327791487,
           -0.1418908371586028,
           0.0496674707953197,
           0.18291555466885362,
           -0.12955665163391203,
           -0.32289903816684956,
           -0.5065147814595515,
           -0.5272906520126237,
           -0.4023289570294189,
           -0.3275594386807816,
           -0.422408851225812,
           -0.5097110419014242,
           -0.8252916097613775,
           -1.0009491245975148,
           -0.9721841586186524,
           -1.4187949032856384,
           -1.4212179769841276,
           -1.2109056141192196,
           -1.2342937555148952,
           -1.3640027170689597,
           -1.6455776519132668,
           -1.876458337709856,
           -2.0182445689688353,
           -2.0105349040954357,
           -1.5407818937941624,
           -0.7841158428902465
          ],
          [
           0.490061211745494,
           0.2288092934111533,
           0.05059895956174885,
           -0.042585655389264364,
           -0.0526735856139573,
           0.09659955724343688,
           0.2822233633362515,
           0.3692519165988042,
           0.06788134339900814,
           -0.43318058203676607,
           -0.4961830775636559,
           0.00510883342289253,
           0.3073302143181067,
           0.22747540801055077,
           -0.03864111043110319,
           -0.798049563234522,
           -0.8984851489752493,
           -1.214320569078319,
           -1.272883411376886,
           -1.2398811842144144,
           -1.3109537097165298,
           -1.3621672856087852,
           -1.3963976084421847,
           -1.3982169069359813,
           -1.4151191946650734,
           -1.526764481854586,
           -1.7396746105142342,
           -1.8484205129858116
          ],
          [
           0.7864052767990262,
           0.6000599861947554,
           0.3921129549521493,
           0.1576354447808226,
           -0.018048097567531327,
           -0.03649902279405205,
           0.08040685609052814,
           0.22737985648099163,
           0.5333857297362287,
           0.49145676606974553,
           0.09525660079480913,
           0.21517338114261045,
           0.6000696760137819,
           0.29984812680856415,
           0.010995051008375722,
           -0.6349408926032272,
           -0.9095388375898772,
           -1.2300984925256209,
           -1.2211419665312346,
           -1.2712619734879222,
           -1.401176417992252,
           -1.3485622882710868,
           -1.182268157218464,
           -0.788258599590242,
           -0.6268954368911553,
           -0.5536167420072325,
           -0.4603112436275027,
           -0.3769526055918514
          ],
          [
           0.8047665039417075,
           0.7270813491170005,
           0.6676981100615419,
           0.532744338582112,
           0.34727200862590796,
           0.21332915668545663,
           0.2489956780842998,
           0.08174820213566655,
           -0.02377832940262218,
           0.4132271246863284,
           0.5721547850559506,
           0.5593323525678823,
           0.5840917486163905,
           0.10379920464038783,
           -0.3257293998339247,
           -0.9354456945615629,
           -1.0439709909474681,
           -1.151176025954231,
           -0.9702243904526353,
           -0.915515035853634,
           -0.8924179031002052,
           -0.536339755883525,
           -0.15371903786522118,
           0.3155024639679671,
           0.8001977156731911,
           1.143230489934508,
           1.3703046860691916,
           1.4899414165715728
          ],
          [
           0.7898182492628978,
           0.7855413093697775,
           0.8252487628985689,
           0.7787807624005828,
           0.741915717861109,
           0.5758232072248541,
           0.35096657221488237,
           0.12651234430800296,
           -0.1994871428286965,
           -0.054703420420532875,
           0.2863253215778374,
           0.516544868424833,
           0.4905528717265011,
           -0.051370532872724056,
           -0.44390718482798214,
           -0.7332110631544463,
           -0.25689719692402757,
           0.1891621871432381,
           0.5526815859112989,
           0.5141738136264616,
           0.35176025614021045,
           0.3553560303772786,
           0.529560840993972,
           0.7039889878026523,
           0.8059613873071433,
           0.9561862566636264,
           1.1939226993033012,
           1.3537450410738336
          ],
          [
           0.8919315426803489,
           0.8804516607355151,
           0.881154376917629,
           0.8424347566239554,
           0.8354676472682444,
           0.8191984358664689,
           0.5931712517287013,
           0.2946358755083358,
           0.11653154194235754,
           0.1945525592197646,
           0.3808293950653125,
           0.6496570566483744,
           0.6626513900989477,
           0.025959217854027862,
           -0.41105342264247013,
           -0.4325953808001344,
           0.10618061421753702,
           0.4918986338286634,
           0.9354855653646436,
           0.7364307096433995,
           0.48031166317130436,
           0.24409150438841604,
           0.13600975749496044,
           0.06715664398637666,
           -0.03789505765078853,
           -0.1391323896402993,
           -0.14465059876563338,
           0.04030794349733372
          ],
          [
           0.9449341847971261,
           0.8766051494088521,
           0.8189810557356898,
           0.7812812638609145,
           0.8025672985801656,
           0.8116638456435915,
           0.794038097960861,
           0.6634926499447522,
           0.538045269138271,
           0.5811605888419475,
           0.47172457034351717,
           0.5805515592628295,
           0.5513012416672901,
           -0.0870910967322438,
           -0.5174131021387359,
           -0.5179280704466179,
           -0.13077628090186602,
           -0.14691185074224164,
           0.13375769663888895,
           -0.14351032474697703,
           -0.37676908389716707,
           -0.41945712745391184,
           -0.3312017758852807,
           -0.19783432719860314,
           -0.11566895009100328,
           -0.027209513400958223,
           0.04375088449487855,
           0.19665703855598385
          ],
          [
           0.9200819530610141,
           0.8417326296108629,
           0.7593594292459176,
           0.6823878266397527,
           0.7100435922768853,
           0.7501809292084035,
           0.7875442974011239,
           0.7638649235878225,
           0.6475294093397604,
           0.6789412377099289,
           0.48686945463610376,
           0.3881219175338659,
           0.33027695193172485,
           -0.32216753377527974,
           -0.6615701864949208,
           -0.7329495921083572,
           -0.44887577971069154,
           -0.28849003667576095,
           0.07066884178236027,
           0.04203403966802471,
           0.11865908975670436,
           0.341032447127503,
           0.5072059631288897,
           0.5817525542839856,
           0.610646281110505,
           0.6372116463798457,
           0.6926710570550122,
           0.7343881031263603
          ],
          [
           0.9153238297945601,
           0.8804297147022431,
           0.8201535282705156,
           0.7296645246229688,
           0.7290294050107603,
           0.7616944940158811,
           0.762164074378289,
           0.7506571016347949,
           0.6741683548935451,
           0.6999559244720231,
           0.526310413360639,
           0.24100061887253815,
           0.06830652021967726,
           -0.5341447365243925,
           -0.5567643401360051,
           -0.3590445229129872,
           -0.08160704780752998,
           0.4075712450504302,
           0.7905427961160364,
           0.7286423556817591,
           0.7623676290344127,
           0.861027992482955,
           0.8388245407736817,
           0.8201212756120065,
           0.8064428558202108,
           0.772573719667235,
           0.7724034809623205,
           0.7944631217856706
          ],
          [
           0.9576994355339348,
           0.8860592085506752,
           0.8086964019529436,
           0.7366757619713176,
           0.7452714605670006,
           0.7657312809243578,
           0.7753189679268577,
           0.7837029172097085,
           0.7215554676599317,
           0.6598308889786657,
           0.3248653349592792,
           -0.11242997412869773,
           -0.3173299139266118,
           -0.886352796935876,
           -0.552840170913144,
           -0.07656422582109762,
           0.24852624013826663,
           0.8743050493531698,
           1.042063846146033,
           0.9251811390163804,
           0.9075259163268126,
           0.9252065114888796,
           0.8409504410571197,
           0.8212067987532297,
           0.8650580495178182,
           0.8558049785398779,
           0.8177193396800088,
           0.8296947755891404
          ],
          [
           0.9305220850542449,
           0.8156477649247298,
           0.7419373139814454,
           0.7242419236171095,
           0.7392919419512554,
           0.764303968349118,
           0.7778189452180087,
           0.7569910848063587,
           0.646989231698486,
           0.5284059082803668,
           0.06371938441559227,
           -0.43227864520246617,
           -0.515457580841236,
           -1.0499206177850755,
           -0.45372354680239796,
           0.17987310921394742,
           0.475469921897251,
           1.0653506842128033,
           1.0930966236332311,
           1.0269374475551218,
           1.0074830144789915,
           0.9607322562810323,
           0.8762580412784623,
           0.8629974178231802,
           0.9067834572520158,
           0.917617750695917,
           0.8623299492614794,
           0.822133079891836
          ],
          [
           0.8423025018587565,
           0.8194592642534267,
           0.795475394730455,
           0.78325700802293,
           0.7910388679362328,
           0.76276290990152,
           0.7379326111935821,
           0.7104640858573895,
           0.580093132863869,
           0.4547892078144313,
           0.08456093588092473,
           -0.33287738851899584,
           -0.28769360083907725,
           -0.7457015060741623,
           -0.13054819737460033,
           0.42372177910268394,
           0.7183156372052306,
           1.1178227446938842,
           1.05409888629027,
           1.0261260170179154,
           1.045962441048257,
           1.0305664903903338,
           0.9503727038108537,
           0.9671542192004116,
           0.9680409693825014,
           0.9648123414279758,
           0.9467671963277441,
           0.9502336982315323
          ],
          [
           0.8475350848862121,
           0.8312583010866417,
           0.8542326765117131,
           0.8332451789039318,
           0.7921222378009338,
           0.7343115198248331,
           0.6916651754649259,
           0.6832864402723605,
           0.6074884918454823,
           0.5988331661223666,
           0.41285612922418335,
           0.08638384816989284,
           0.04782063413014865,
           -0.384980103578668,
           0.1835122153999416,
           0.4229598248419145,
           0.7984295198396482,
           0.994191670643218,
           0.9708220560398402,
           1.0147845121954466,
           1.0635709217888587,
           1.0731454691422264,
           1.0408099604505032,
           1.0940328054592834,
           1.0958295613609395,
           1.0431564351050302,
           0.9961822064018132,
           1.0140815061111075
          ],
          [
           0.9073134783359031,
           0.8609659762447263,
           0.8209455265234035,
           0.7750245910215875,
           0.7454658557470499,
           0.7013089148493061,
           0.6925335914462027,
           0.7092440423937952,
           0.6786999156175831,
           0.7012742235340886,
           0.6269425717648712,
           0.4483941973918224,
           0.34676504895152555,
           -0.06426359064751219,
           0.4413713460334284,
           0.410195363438427,
           0.7807299365678616,
           0.8683411474942506,
           0.8916189022891281,
           1.0186194692031767,
           1.1202807428418822,
           1.1265076944312442,
           1.1129118836778387,
           1.1475247805786055,
           1.1573521606652424,
           1.1248784479895833,
           1.0647950745566208,
           1.051681264235135
          ],
          [
           0.9211186027421279,
           0.8617809654717006,
           0.7855618768362305,
           0.7305888676690463,
           0.71619681683047,
           0.7477247645773989,
           0.7668231398866381,
           0.7099088832285653,
           0.6187114604188433,
           0.5768546811548143,
           0.4864587009891681,
           0.4869577803814381,
           0.6031952075660734,
           0.33712765258401717,
           0.6465826609296197,
           0.4843618185027294,
           0.8460261025401765,
           0.8826566525114412,
           0.8826303544561996,
           1.0168227214881675,
           1.1103886514671089,
           1.1332687955591128,
           1.137756408393921,
           1.1803367712464692,
           1.172279616577709,
           1.1369156768056778,
           1.0892645041139517,
           1.0651780663500363
          ],
          [
           0.9202757838877879,
           0.8388227421306174,
           0.7878121705562773,
           0.750963504722056,
           0.7415041634417946,
           0.771047393772677,
           0.7736228851342216,
           0.6879060521720146,
           0.5660244816670668,
           0.4889225816353915,
           0.3107841767991188,
           0.3126247092654624,
           0.3603641179133,
           0.221452885500124,
           0.5004808649093014,
           0.5897318866864627,
           0.9361391012652223,
           0.9348337970072313,
           0.9578303567097302,
           1.0613941095523265,
           1.1258939169566529,
           1.1488757457993282,
           1.1264532350654684,
           1.1548722401152822,
           1.1462561885825813,
           1.1221878940467405,
           1.1108316522517954,
           1.0691290988900624
          ]
         ]
        },
        {
         "coloraxis": "coloraxis",
         "hovertemplate": "x: %{x}<br>y: %{y}<br>color: %{z}<extra></extra>",
         "name": "4",
         "type": "heatmap",
         "xaxis": "x5",
         "yaxis": "y5",
         "z": [
          [
           0.3180641930439459,
           0.4335441545900846,
           0.9916470204548005,
           2.158664380988931,
           2.1565608630037243,
           1.0225194177015946,
           1.0968876742026015,
           1.5461939818051729,
           1.5467456515850455,
           1.8411744595005604,
           2.47454196982573,
           1.9157241155220275,
           1.5081189157570511,
           1.2840790225711687,
           1.236623603246932,
           1.1964091949561368,
           1.1229391579363004,
           1.1980303204674962,
           1.026386756337521,
           0.8666871305895331,
           0.6832834749909128,
           0.5153129361527949,
           0.4074959255895519,
           0.4029393319974546,
           0.6116433792000068,
           0.6565447996243952,
           0.6020995670310877,
           0.7613771429405471
          ],
          [
           1.4572790550700252,
           1.5761182155225089,
           2.7210472933577186,
           3.4469406854563513,
           1.8959414078716819,
           1.3335621652825418,
           1.6377742521952028,
           1.1102487728263242,
           1.0978520095003672,
           1.0926185477493693,
           1.6273696107602835,
           1.3432180264420328,
           1.0719296172063841,
           1.06843927287118,
           1.10763279129808,
           0.9723962973661284,
           0.836799953531707,
           0.7700242575185277,
           0.5596110446467896,
           0.605700851543739,
           0.5032864943930949,
           0.5444982716038896,
           0.381245551500201,
           0.7445127346886715,
           0.8170977369375747,
           0.6525467179659104,
           1.0014904952174408,
           1.1681126818391032
          ],
          [
           2.590712017103874,
           2.8558707536352723,
           3.778915148578088,
           3.496022424921772,
           2.1371296373836755,
           1.8679988341565767,
           1.8859825809682547,
           0.9942685717158577,
           0.593171395174362,
           0.7470886816598957,
           0.6243233610084303,
           1.137422367572955,
           1.0076718460676837,
           1.0396277612438047,
           1.052568084297572,
           0.8765863343410948,
           0.5573387199489069,
           0.3988992187303986,
           0.23986642222657406,
           0.3244252443236402,
           0.4473340625050408,
           0.4318038085628063,
           0.6011428420685001,
           0.8970355685185467,
           0.5353032605025206,
           0.730771151811014,
           1.1159421479858658,
           1.1835252815491715
          ],
          [
           3.445025032491741,
           3.7377338341478525,
           3.943506472676721,
           3.0213166006690977,
           2.2055400510451366,
           2.1846513576848325,
           1.8432811431128333,
           0.31970571668070596,
           -0.12813663125654873,
           0.5677018772166111,
           -0.4653534509442201,
           0.11011777534489844,
           -0.057425040836396046,
           0.24661185756275114,
           0.7950667376291942,
           0.859754695941278,
           0.4931811132076882,
           0.4362740728020248,
           0.3170460858437645,
           0.5741388452922672,
           0.7157679406433569,
           0.7083478692205928,
           0.8872113391552976,
           0.7285509079968555,
           0.906445787048836,
           1.3271210640124258,
           1.2759640927784135,
           1.2602237503383753
          ],
          [
           3.735998704582293,
           3.6437426516009683,
           3.146997698349555,
           2.2492772195382695,
           1.7413088473201528,
           1.5982884295553554,
           1.3399919471212058,
           0.2321620637599951,
           -0.3714520411308151,
           0.6458623262462189,
           -0.30036269080247235,
           -0.42516387269620104,
           -1.4255186821035801,
           -1.1048976699029804,
           0.5701460207888798,
           0.3420727389519109,
           0.05290156771431653,
           -0.11592039030894352,
           0.06442876891042554,
           0.9026933047124409,
           1.35129448425223,
           1.2163437702624635,
           0.6751308697523875,
           0.7379707442448931,
           1.5767377091975128,
           1.721524382356932,
           1.5210465048560713,
           1.4580832337838814
          ],
          [
           3.234530243968309,
           2.7250442866462548,
           2.05087262936758,
           1.5742525667250988,
           1.3342268250465161,
           0.9984947597185018,
           1.0116616504931595,
           0.46562937206620114,
           -0.41839447639594063,
           0.30459385522145443,
           0.1270766768076012,
           -0.052589557942235576,
           -1.5459047220496012,
           -1.7361261837657431,
           0.7240798456921806,
           -0.4174849602746007,
           -0.5449485951531798,
           -1.3170526749266367,
           -0.995981065482833,
           0.41910828376964876,
           1.4795326718614419,
           0.7216020413151025,
           0.40285610248557924,
           1.4108319743442381,
           1.946902959484886,
           1.9058006994668641,
           1.6852299899767762,
           1.5628631355620803
          ],
          [
           1.775110549782636,
           1.2076690574970226,
           0.5925755351573667,
           0.267970380102133,
           0.18616333601121707,
           -0.014532870824058353,
           0.20739265852371117,
           -0.20603715551003277,
           -0.7343955947016273,
           -0.4558212867737811,
           0.11347055132184483,
           -0.07560839544642867,
           -1.350357330785708,
           -0.7310180203330808,
           1.258839149447259,
           -0.9633231000113783,
           -0.45083166213237047,
           -1.7064866844786923,
           -1.7740870903051467,
           0.3292273592827523,
           1.1212719175993988,
           0.2870120793538761,
           1.1989278938457542,
           2.329617981734572,
           2.2294352480274386,
           1.8999808112770986,
           1.7217497118282998,
           1.7152009826186774
          ],
          [
           1.0012754367758143,
           0.21152767605559442,
           -0.48561164006699375,
           -0.707490012027768,
           -0.7649485998180706,
           -0.8708133235103223,
           -0.7266841668397764,
           -1.2026942240313039,
           -1.341890756324775,
           -1.328847783548782,
           0.14730783577914855,
           0.14304340529498935,
           -1.2501272949360476,
           0.7861813211501951,
           1.3139096423457173,
           -1.20207111177865,
           -0.6960929853295371,
           -1.583571018977028,
           -1.565051032321577,
           0.7121918750408569,
           0.5177975063102673,
           0.6841594352885798,
           2.1682353478727148,
           2.6642476991853647,
           2.213502300667285,
           1.7909512813023296,
           1.7420499896666493,
           1.7053043003294555
          ],
          [
           1.254017889986215,
           0.255281671303612,
           -0.4485632733263716,
           -0.5335491142365834,
           -0.6542630332692546,
           -0.5203194361870154,
           -0.6508170292693306,
           -1.084202738362603,
           -1.2166634070946816,
           -1.263457006488971,
           -0.06043177325617549,
           -0.855152624559479,
           -1.3259992538276464,
           0.385170939319689,
           -0.3726106730933205,
           -0.7924683410096077,
           -0.6369411074567926,
           -1.125688738606108,
           -0.7880553894778862,
           1.227442185613177,
           0.3824272814102424,
           1.5766555694229778,
           2.422987212394275,
           2.334639267761663,
           2.0313642384479293,
           1.7803832691551387,
           1.6809764938339073,
           1.5314407940023376
          ],
          [
           1.2047366913767226,
           0.6353111571294345,
           -0.10710030293325867,
           -0.39748715121794487,
           -0.7852573974216946,
           -0.42267539452985137,
           -0.8634661431199878,
           -0.8842322684825304,
           -1.0321339992842216,
           -0.6930868600559924,
           -0.13078787346421017,
           -1.77406023633923,
           -0.9453353308511757,
           -0.2658038759032665,
           -1.5656513675786483,
           -0.45867426768626507,
           -0.47414397456474255,
           -0.4816352130403566,
           -0.4257647578110171,
           1.0864091552648776,
           0.7105457590307067,
           1.641882298939343,
           1.887930852594844,
           1.876395235086608,
           1.761910134888725,
           1.6873523481497794,
           1.5474311798119325,
           1.3566912638259674
          ],
          [
           1.4188827004708209,
           1.628484938363382,
           1.4264585446356266,
           0.9987126557905476,
           0.35488187070314864,
           0.45132217597707164,
           -0.40366655072313906,
           -0.2446334375379604,
           -0.35927285531683417,
           -0.03566754934457994,
           -0.5543354782918587,
           -1.6808139813515224,
           -1.2210226510129605,
           -1.0951819395851552,
           -1.7271538751070055,
           -0.5638958019509368,
           -0.7706219320641358,
           -0.9585742159615113,
           -0.16946046119580438,
           0.6963831333745465,
           -0.04985059377889928,
           -0.0010104953215815948,
           0.1866111281077026,
           0.5279794065308098,
           1.1248915380310793,
           1.2595742361076194,
           1.4733497630590806,
           1.3815276497344318
          ],
          [
           1.4954740042231913,
           1.429270753828928,
           1.6964564659775472,
           2.0287798441036102,
           1.8140683826497606,
           1.478395909698428,
           0.8340059429162692,
           0.7778262625978005,
           0.5110763265265155,
           0.612078618376265,
           -0.31251788922364854,
           -0.9885542359421821,
           -0.4897142393244349,
           -1.0802327718745004,
           -1.593048207001957,
           -0.45224343849433113,
           -0.40604670122374875,
           -1.8329858106038106,
           -0.5095576191313735,
           0.8849093184125657,
           0.05459906210991455,
           -1.0352458076744178,
           -1.3286359576498263,
           -1.3314717152231448,
           -0.7461686139043328,
           -0.2693794107970169,
           0.7136433192798521,
           1.072926664968104
          ],
          [
           1.7925546226581948,
           1.0850455835645487,
           0.6762914647204405,
           1.3078078142888585,
           1.8207180598203556,
           1.6335058098773736,
           1.3208287060561914,
           0.9827700805689852,
           0.6750481898946579,
           0.4291700047426021,
           0.11294777391974578,
           -0.09457371827209499,
           1.1021114134022767,
           0.20636649963162437,
           -0.31432836134635045,
           0.0654796179407301,
           0.16744001654398358,
           -1.6441301727763582,
           -1.1355796025616187,
           -0.20619535713066273,
           0.015014110131975456,
           -0.245707689508453,
           -0.9836766670711133,
           -1.4753972724390638,
           -1.8557404240652602,
           -1.8028016766662298,
           -0.9013512884789895,
           -0.3778408674386545
          ],
          [
           1.9530811811185305,
           1.381204909107732,
           0.9093802282927088,
           0.9288519326678168,
           1.0763344240686146,
           1.262695446256295,
           1.584391293358737,
           1.0977200074157365,
           0.652305309706311,
           0.4371979140204932,
           0.09048288070600957,
           0.14635790443179297,
           1.3800015841112838,
           0.6139550250562754,
           0.5549123109435182,
           0.2121073537186588,
           0.6928687618580633,
           -0.24085459639353124,
           -0.26483215010181416,
           -0.35821940877153957,
           -0.4425962765961289,
           0.26831098774762224,
           -0.017426902537343414,
           -0.6991322848327804,
           -1.3149104283628423,
           -1.5359019718622298,
           -1.6796752064198817,
           -1.8894309541801744
          ],
          [
           1.776101441017766,
           1.3281145512263999,
           1.3585976086523508,
           1.3232671270520178,
           0.9164789020451085,
           0.6668134376014816,
           1.1004701299219253,
           1.3176955783565965,
           1.0253172510550796,
           0.8936411246872834,
           0.6571908922781358,
           0.41917228678285806,
           1.1819707144984664,
           0.6888374322013755,
           1.101856377345795,
           0.43589787191430784,
           0.7622017311579847,
           0.4014007744870213,
           0.2660693484140522,
           0.5103303359588337,
           0.571548994399223,
           0.8966282321375981,
           0.8055725029628352,
           0.3931438575650805,
           -0.15773169474054616,
           -0.2233570375669579,
           -0.4738516008093563,
           -1.0421717230627299
          ],
          [
           1.864793366996019,
           1.4237765574821468,
           1.4442654309981524,
           1.5280898741775615,
           1.2247916919036403,
           0.7423030456958599,
           0.1804938307799877,
           0.18496138301080717,
           0.15604460635020403,
           0.14286582698447337,
           0.2937212647407816,
           -0.09689863042162616,
           0.48145979059785216,
           0.0394543798140482,
           0.4818325891705372,
           0.011741639899044976,
           0.26923967313673236,
           0.08219577381580861,
           0.12826104761755963,
           0.7386680847604887,
           1.4275791157315507,
           1.6923253043375568,
           2.0508462983530724,
           2.3779584073339346,
           2.2614681626480433,
           1.9406533138306155,
           1.6484725556929871,
           1.42040469434072
          ],
          [
           1.8610163975194047,
           1.4712362321792138,
           1.4397941706795168,
           1.4398795090769783,
           1.2417228358050254,
           0.9350940013298616,
           0.46484888716527006,
           -0.018749901924451418,
           -0.7963401043914528,
           -0.9833528928439216,
           -0.8831216700930632,
           -0.9771231992120509,
           -0.18220597948818196,
           -0.6606398896209215,
           -0.8884422903922987,
           -1.0661743770868592,
           0.2037745988670321,
           -0.06686772349458031,
           0.8864040932246139,
           1.768041448019087,
           2.0957624349482606,
           2.1304254214480967,
           2.794009286744053,
           3.40691688912586,
           3.5235054193937496,
           3.1913900219425835,
           2.7010726493887915,
           2.3378825635298797
          ],
          [
           1.7172461386455802,
           1.3728332741370517,
           1.3408424748505414,
           1.2870996416767517,
           1.213316521813573,
           0.9149962652325023,
           0.5804818614440637,
           0.5929510742494154,
           -0.24781206782269527,
           -1.498630372543793,
           -1.9546782224812982,
           -1.481158992155836,
           -0.8537982384214279,
           -1.6830219040666647,
           -2.1272546775489927,
           -2.3840844045482696,
           -0.8731680947815622,
           -0.7889020565134238,
           1.399847574713133,
           2.2546036344685922,
           1.912613002702015,
           1.884278572638359,
           2.7138370780057084,
           3.265764395008929,
           3.309523583743453,
           3.1600969009072366,
           2.9202491185052826,
           2.4567070687530776
          ],
          [
           1.6526952061000344,
           1.2612627342056943,
           1.0854176339122639,
           0.9171930909117045,
           0.9261053180749932,
           0.9822855944919116,
           0.5489265665260208,
           0.39181663445341613,
           0.1690804597637649,
           -1.3744273493339283,
           -2.579969701398965,
           -2.339193753976319,
           -1.6111733738849825,
           -2.4920522281314703,
           -2.8607324295830137,
           -2.7713676160761094,
           -1.987603606310084,
           -1.4500651387819161,
           1.1500690227708121,
           1.1679715985128274,
           0.8172693288231592,
           1.2885643124722046,
           2.1378670946238314,
           2.7634046672997665,
           2.7564095521489964,
           2.563355788916634,
           2.221809681708817,
           1.873919406744498
          ],
          [
           1.6229396112958003,
           1.1860739501546966,
           0.7567432901397222,
           0.4688772615878084,
           0.5613111746948534,
           0.7827610324951897,
           0.6348417025510252,
           0.44438504037640586,
           0.30484627072073395,
           -0.8696432403965387,
           -1.9226685102654173,
           -2.520027018554709,
           -2.0811609133160918,
           -2.8914322472562195,
           -3.1719608434028435,
           -2.5298886671587106,
           -2.0000007946152047,
           -0.6356616366260858,
           1.412770982868747,
           0.5930291579833555,
           0.05286364364781693,
           0.5590883837639673,
           0.9840467409845985,
           0.9801303699626677,
           0.8555225114604077,
           0.6896449527545159,
           0.32327312554097076,
           0.1624028854060863
          ],
          [
           1.5589144947596836,
           1.1174011725996378,
           0.5490172106689775,
           0.20319800300184507,
           0.23505887917362195,
           0.4070664967652947,
           0.37007004727608744,
           0.410783917029674,
           0.3144144539951601,
           -0.6783403453854596,
           -1.3182466225974152,
           -2.4184071323394534,
           -2.1702468605203635,
           -3.2553796364490477,
           -3.3102182173722148,
           -2.480680019270159,
           -2.5138059010483524,
           -0.34347282122688483,
           0.48996694700927335,
           -0.7749151127006609,
           -1.1128100356456594,
           -0.5852320321555909,
           -0.10523781303370572,
           0.03920530998537636,
           0.18719236346761073,
           0.23977035767775617,
           0.2808862290286343,
           0.3250606817904409
          ],
          [
           1.4034191803208929,
           0.8797863705678294,
           0.335817653807012,
           0.06974588189870767,
           0.03432544703149615,
           0.14008959892774642,
           0.09742313230543503,
           0.1824554723811108,
           0.17196571360012092,
           -0.6934254873349216,
           -1.2177366067181414,
           -2.5312266600560513,
           -2.2307442258391075,
           -3.8269625584656612,
           -3.307042608560087,
           -2.073687274455789,
           -2.1651080840462416,
           0.6302013202613846,
           0.7702867707279706,
           -0.2611135932394306,
           -0.34124221074448224,
           0.025667308319826554,
           0.0843314690390814,
           0.27843679534611787,
           0.3399301804843767,
           0.380288426743114,
           0.5122187215921932,
           0.5489389863768647
          ],
          [
           1.1188808951008782,
           0.611384005689276,
           0.21100093428595545,
           -0.0838006967421347,
           -0.04752997354294841,
           -0.031236260894868306,
           -0.1453993580468852,
           -0.02308576545071206,
           0.10317151536522084,
           -0.726962564642711,
           -1.1542915340888085,
           -2.285946435076469,
           -2.15860685870985,
           -4.057216113309698,
           -2.746269365863878,
           -1.7086964366330224,
           -1.0853473336249748,
           1.4922720422622309,
           1.0678091403187735,
           0.5082358907153635,
           0.5341773652205196,
           0.5455060964045132,
           0.22921702289869886,
           0.2680403216551811,
           0.21453448987216753,
           0.3890356018113637,
           0.48224137278176205,
           0.454217213958479
          ],
          [
           0.8035013988993334,
           0.43135829887248933,
           0.10735356891817391,
           -0.10999596556472707,
           -0.018289128263320076,
           -0.12846842614562304,
           -0.23055157278798788,
           -0.19397815563467324,
           -0.01394939733422923,
           -0.7994671436181059,
           -0.9917210232055614,
           -1.8576535213042482,
           -1.8740709248695278,
           -3.5755743590634816,
           -1.733814910378984,
           -1.5344664600059161,
           -0.03862083120734772,
           1.5866473103287206,
           0.7515439293167383,
           0.5611465310047149,
           0.7696638195495833,
           0.6214931091996797,
           0.33850249821908984,
           0.295397557677217,
           0.24148406940743294,
           0.43959313888510204,
           0.5386018563807027,
           0.5146844383085514
          ],
          [
           0.5818603339468235,
           0.26919026466314044,
           -0.0804269086767675,
           -0.06491503183801028,
           0.007456143162523132,
           -0.11236279213785805,
           -0.16947917588879768,
           -0.17735093448505268,
           -0.05319513435021411,
           -0.7591926738143565,
           -0.6838283323407021,
           -1.4636054183116363,
           -1.3954094629687024,
           -2.542550999676792,
           -0.7685893534650307,
           -1.2671743723224616,
           0.7597511368144918,
           1.1001625265666708,
           0.279684179914707,
           0.43808320866014777,
           0.7483347249823397,
           0.5713824009620515,
           0.3616732010998388,
           0.3880188316904369,
           0.4022295573632866,
           0.46725799620272773,
           0.6004330562814073,
           0.5624792677234037
          ],
          [
           0.5897898585619687,
           0.11604851452679654,
           -0.12111744775473837,
           -0.0009583687281184416,
           0.015799124066320613,
           -0.0000663359954910514,
           0.016757993910734015,
           0.017096522067050923,
           -0.01430642095335316,
           -0.515929582971729,
           -0.47256319366279265,
           -0.8564739810976404,
           -0.642513442417346,
           -1.1830600965175497,
           0.08933966354628137,
           -0.5113816465089952,
           1.1632701469542628,
           0.47741590600957445,
           -0.04288948259053216,
           0.4315706038303301,
           0.715225188430998,
           0.5175533458937105,
           0.348797187899963,
           0.5000706759300213,
           0.6015190239099406,
           0.6246126839913689,
           0.655864288010976,
           0.5264563453566224
          ],
          [
           0.5988342094251363,
           0.019116558726729405,
           -0.08071002151547418,
           -0.026118372497198894,
           -0.04818466240618241,
           0.010508028106378409,
           0.12764988507733602,
           0.11215018909385549,
           -0.027939992562123983,
           -0.436213393310918,
           -0.7489099891469434,
           -0.49098461318382713,
           -0.1864939283423226,
           -0.40424335269844514,
           0.4301449739100908,
           0.3852417273688483,
           0.9232566029424084,
           0.040595542750550884,
           -0.13464489137174446,
           0.4990102355711782,
           0.6584004270746946,
           0.4944467822834793,
           0.39140266244840705,
           0.584585812331212,
           0.6495574290311772,
           0.713718608593051,
           0.6841901171469104,
           0.5756098920582733
          ],
          [
           0.4373225652240894,
           0.01759989855086308,
           -0.060488244725512674,
           -0.20405577230429428,
           -0.24790371236953546,
           -0.1423301225669878,
           0.01989566677796667,
           0.031109255795267077,
           0.0495969195886129,
           -0.5421395987209039,
           -1.1558463487163606,
           -0.5815938746718303,
           -0.6156594974784146,
           -0.6254128113654415,
           0.21167447065408515,
           0.4831861379120176,
           0.4139118785527339,
           -0.025821272859457234,
           0.07647996854887096,
           0.6646279601708704,
           0.6317424675927124,
           0.44758365125314564,
           0.3874958015997273,
           0.5626899180419425,
           0.5595536547538027,
           0.5720460321156114,
           0.532802258045405,
           0.49491061256712054
          ]
         ]
        },
        {
         "coloraxis": "coloraxis",
         "hovertemplate": "x: %{x}<br>y: %{y}<br>color: %{z}<extra></extra>",
         "name": "5",
         "type": "heatmap",
         "xaxis": "x6",
         "yaxis": "y6",
         "z": [
          [
           1.2395859517995322,
           4.339187646934899,
           6.678012340894065,
           4.375098242283434,
           2.756450075449095,
           4.711649017800604,
           3.1378215386030384,
           1.661649260758387,
           3.6512014383754923,
           3.5754827088614434,
           1.7852005855062298,
           0.5446166851206709,
           0.34783888646210154,
           0.3696830149002698,
           0.22819317123422866,
           0.41202241253271676,
           0.5731698635894231,
           0.5156475770898304,
           0.3365174908619231,
           -0.02929354323079747,
           -0.6624811236445359,
           -1.0278840612832796,
           -0.44514584080682995,
           0.05819510761602675,
           0.08734225389297234,
           0.9084424945799632,
           2.066750707202528,
           2.371620067112178
          ],
          [
           3.915678294844304,
           6.6193097927957645,
           6.7408413496485755,
           4.164970823956196,
           2.639223259429037,
           4.847851964163442,
           3.846771309021989,
           0.1733726758800248,
           1.8102798667022633,
           2.5760584496557,
           1.1521794399529892,
           0.11068167124054851,
           0.2824540908439507,
           0.4687936881257492,
           0.4275212020910136,
           0.4913069296181491,
           0.45315236968228156,
           0.2546498120442756,
           -0.16518555612366148,
           -0.29016246789414313,
           -0.3669494628970892,
           0.5105942165895679,
           0.690832916068003,
           0.49199196050233723,
           0.8206950643387539,
           1.5899121635658777,
           2.346666867478076,
           1.7195646285767223
          ],
          [
           6.362785276235188,
           7.024980057172715,
           5.117725586042268,
           2.4637926099184764,
           1.9837899926822198,
           3.142941755005173,
           2.5979721269261127,
           -0.14659192094429574,
           0.1881639008640026,
           2.5694462940688347,
           1.634296182423993,
           0.5037938845026958,
           0.54021183824588,
           0.6882086231530689,
           0.44999486600807487,
           0.6221329581452253,
           0.39942718879892547,
           0.08308947295578961,
           0.07482779478172374,
           0.6316392766721344,
           1.3154114900603213,
           1.4072005526450377,
           0.4322666038336606,
           0.44055814725645476,
           1.3882644175002028,
           2.2771201768416294,
           2.260791383966832,
           1.4337819801396015
          ],
          [
           6.822688592306523,
           5.648496944658006,
           3.1661575834432174,
           1.592014764283647,
           1.6354050141894438,
           1.097028558302185,
           1.043753939607045,
           -0.08192808296785936,
           -0.8225612859560477,
           3.1375308928352443,
           1.7016557858043662,
           -0.8355911717447942,
           -0.49226049205709643,
           1.0377323633052389,
           1.0954675137999481,
           0.8035340704772216,
           -0.0698204951214344,
           -0.07082302904416649,
           0.6846164951760592,
           1.645200944632342,
           1.2626527804726975,
           -0.26077790982053906,
           -0.3298945761262192,
           1.0399658263828107,
           2.1310511343222713,
           2.4168965225401497,
           1.6561883405383608,
           1.206088300754936
          ],
          [
           5.364191054277117,
           3.547927042741119,
           1.978579080627989,
           0.9615109408776955,
           0.7696999679529779,
           0.3295679963115226,
           0.3661606002680408,
           0.1895651351672929,
           -0.8934655915252191,
           3.2158637576103577,
           0.758867050335197,
           -3.49928267347747,
           -1.808277482885475,
           1.6166597110890495,
           3.0013391348624827,
           0.7141854389594992,
           -1.8006453636257134,
           -0.8592049517537635,
           1.756608277155007,
           1.9855965790004553,
           -0.47229250652068056,
           -1.5887249259858085,
           0.18366060207336632,
           2.1303725318567412,
           2.6664288708399204,
           1.884851290047786,
           1.0520078010774983,
           0.9678919915218673
          ],
          [
           3.588809961278633,
           2.0225974797786654,
           0.8750358429677333,
           0.058323304882474725,
           0.4717240977319503,
           0.5211956974998262,
           0.13175533303905118,
           0.2847749908158048,
           -0.39007876678640774,
           3.372978389536404,
           0.617553417799262,
           -3.5949754954171493,
           -0.052448698556727735,
           1.9921877012602986,
           4.063592124924178,
           -0.010667734590908862,
           -4.282888097154664,
           -2.423045473385028,
           2.295988530532153,
           1.1269612078800746,
           -1.7253689902903582,
           -0.962258227346171,
           1.6926363822548318,
           3.1775919648219895,
           2.279191863948979,
           1.1455928016597037,
           0.8543122030583464,
           0.765899433769731
          ],
          [
           1.746827529561929,
           0.5153740413647295,
           -0.30273199945959417,
           -0.5521773035460259,
           0.545361328630428,
           0.7522287751870635,
           0.12362026731359688,
           -0.6338248529598994,
           -0.6462811244943288,
           2.0892232472272636,
           -0.6435576477682433,
           -2.35266701039286,
           3.1367797897979655,
           2.668670887493393,
           4.614615824298737,
           0.30330149678319696,
           -4.623791154587072,
           -2.4856386694599624,
           2.0447043131647247,
           0.601578142087212,
           -0.8483850210631135,
           1.1518821812376363,
           3.360869805032932,
           2.923602432220098,
           1.306759794471813,
           0.8319894326251961,
           0.7021519576527296,
           0.44899884622475433
          ],
          [
           -0.7000361432147225,
           -1.462543724852384,
           -1.4575772320194451,
           -1.250589238460595,
           -0.19651300984112507,
           -0.35257872241095767,
           -1.453227218817577,
           -3.0697817750128946,
           -1.3588339017104634,
           0.8703974995516015,
           -1.284037294637911,
           0.505449090839134,
           4.669602022499707,
           1.9497076176295978,
           4.101879279322553,
           2.1601980882596226,
           -2.911455731949312,
           -0.8729658396691172,
           2.551370612394662,
           2.4397125097166588,
           1.9821173878153147,
           3.407256639664217,
           3.554346756879278,
           1.8953479707179453,
           0.8908698536133917,
           0.6839718563876241,
           0.49826460545759155,
           0.3198744095139535
          ],
          [
           -0.5067841072523919,
           -0.9634316863167064,
           -0.5886667856279787,
           0.04274081058411516,
           0.4150253013037288,
           -0.24437588438629942,
           -1.4444956040875008,
           -2.4659113773202033,
           0.2972133961173551,
           1.2194223004212565,
           -1.086469341979155,
           1.1201174800319957,
           2.8085550460510547,
           -0.9651938781967161,
           1.5531989530977437,
           4.131577682820311,
           -1.0547600106572097,
           0.030420512434177538,
           2.659385751458783,
           4.919649104321486,
           4.62675652513875,
           4.385043200165987,
           2.712067322537178,
           1.2562281805977102,
           0.7967527620898317,
           0.5044595684093119,
           0.3504060215531973,
           0.24885431528855828
          ],
          [
           1.336027318866062,
           0.9217323192500638,
           0.6515390792055464,
           1.4448275003835684,
           1.3326376508999318,
           1.2750001197981913,
           0.7699520959226547,
           1.0020502364814936,
           3.032117800050306,
           2.303320962813601,
           -0.30003785489026635,
           0.1087869261734653,
           0.8996009902757237,
           -1.6720547221645115,
           0.030475379965480554,
           4.478747693227629,
           -0.14701556209157862,
           0.5712383073621468,
           2.0863721849513257,
           4.3376614076568005,
           4.663530128838615,
           3.760435038025667,
           1.743231503710946,
           0.8374142698815533,
           0.5069956700164469,
           0.24495612291327373,
           0.10860487382816497,
           0.030060958802891502
          ],
          [
           1.4542763264584742,
           1.7657484858265384,
           1.5295796470234557,
           1.6489157071742033,
           0.5708875914572648,
           1.6688487973824864,
           2.128236230962693,
           2.7879125012863573,
           3.5004449639669977,
           2.1246691016100603,
           0.2292686621284461,
           1.1581970903474772,
           1.460096769888423,
           0.04326768209680065,
           0.5592450345591754,
           2.9988208559962817,
           0.08161332338001837,
           0.6839361742401955,
           1.5448536903361272,
           1.6452677709383803,
           1.381777784441765,
           1.621944565406193,
           1.3341946805244507,
           0.32049727386397,
           0.23906417766618604,
           0.052722006743348815,
           -0.1426934449392655,
           -0.12657982923263333
          ],
          [
           0.34005081306274215,
           0.5624262114849591,
           1.3765028538900257,
           1.927416231864739,
           0.6061189987450056,
           1.4435297113728802,
           2.3549156415884154,
           2.601654229208619,
           2.1667258511290557,
           1.211240653218301,
           1.2489574002938382,
           2.2669473461723317,
           1.357133402532197,
           0.41087901262371157,
           1.3135148673165227,
           2.0739920977368747,
           1.1924333664217137,
           1.295190863809542,
           1.9213497444575824,
           0.9537304995539053,
           -0.11510419522619142,
           -0.1907916144969085,
           0.23601735653189038,
           -1.0560866439647412,
           -0.7318379194360946,
           -0.37082002547082593,
           -0.08458494859109944,
           -0.033143031351493435
          ],
          [
           -0.22828890710312633,
           -0.7725537333525058,
           -0.06487370750283161,
           1.2964298311698448,
           1.2949288762368385,
           1.865093286028562,
           2.900954392880826,
           2.5186923322506147,
           1.52570161793715,
           1.1401852328272648,
           2.72000978313425,
           3.299428880668545,
           2.8385102250748613,
           0.8313202117113094,
           1.4877839717335666,
           1.62395921936253,
           1.890016770130754,
           1.4616595874140037,
           1.4032922309880296,
           1.0484167279406011,
           1.3196107196212161,
           1.31336787830878,
           0.2951444567506264,
           -1.427925128543234,
           -1.552710395444282,
           -1.3180297152895153,
           -0.34183718834194743,
           -0.05460453241864249
          ],
          [
           -0.02694510813227413,
           -0.507247699729117,
           -0.5261396806177522,
           0.04973396464562074,
           0.6497152667291967,
           1.0602669394028985,
           2.310869139960779,
           2.3206499641221736,
           0.832433885691424,
           0.4542691074446322,
           2.8787633724170556,
           3.375917369670589,
           3.825068998648623,
           0.897476125135368,
           1.4823267865008516,
           1.6778809009468019,
           2.108191558550457,
           1.182620896252714,
           0.2505848813273204,
           0.4980006395948363,
           1.3156966734384772,
           2.342037693845281,
           2.184102697340953,
           1.1588598784716635,
           0.4669686176810218,
           -0.2931526078498311,
           -0.3300324106431404,
           -0.8363292778967889
          ],
          [
           0.12899226283600151,
           0.17986371430901094,
           0.035375015570089485,
           -0.30147238155114586,
           -0.16382874293618965,
           -0.37989893526706264,
           0.6904561288668715,
           2.539914009854391,
           1.4328914280870368,
           -0.16298467369601488,
           2.3187108012280664,
           3.0911949833285517,
           4.105840052978109,
           1.708916016303675,
           1.4886686751993394,
           0.8743799016856655,
           0.9536627955730879,
           0.999304908446621,
           0.5841201535679892,
           0.7218707005045221,
           0.2782166339325808,
           0.8379737976036358,
           1.6444036730388865,
           2.392412544643922,
           2.920610812012305,
           2.6330620648599177,
           1.8823705447976073,
           0.14056047087135115
          ],
          [
           0.0999953460091656,
           0.40884771895874134,
           0.46260322964166983,
           0.07452247722958427,
           -0.1091228534869021,
           -0.44061971289239865,
           -0.4636697939555433,
           1.7875098787918202,
           1.9863017637341684,
           -0.31641038382444464,
           1.7571766299373417,
           3.0406665462499047,
           3.974544697509962,
           1.1774287649188309,
           0.21065261398951463,
           -1.0008782180600648,
           -1.496164338086703,
           0.02222327160361015,
           1.161469164374958,
           0.6829329436318349,
           -0.39721117175291265,
           0.08149910342321698,
           1.90246767127908,
           3.414227590583208,
           4.506530581106947,
           5.045929028490606,
           5.023453083160029,
           4.710297657784123
          ],
          [
           -0.05457880793151404,
           0.2786259753665127,
           0.42140198186727307,
           0.26332607108765993,
           0.16042059344955195,
           0.36395574557324434,
           0.04541138430667402,
           0.6649470603669801,
           -0.16694204735231866,
           -1.7419255416803003,
           1.3957417066745728,
           3.2507705587275377,
           3.1811704834940873,
           -0.04791398330080232,
           -1.427875172189348,
           -3.834602928250981,
           -3.0256358813572257,
           0.3568508394481518,
           2.463314959145125,
           1.2721252415117343,
           0.6198454990402419,
           2.0517608455067773,
           4.238607815572739,
           5.403596259257986,
           5.8860934150896504,
           6.088382575514009,
           5.778984233792046,
           6.175230684254026
          ],
          [
           -0.003493364132600041,
           0.3764730418147507,
           0.3906289833061709,
           0.3181297410717536,
           0.4195622298151159,
           0.8609550215294804,
           0.7963796208586629,
           0.7694793458709677,
           -1.0237994767202117,
           -2.33695889549993,
           1.3669130523819362,
           3.464363989908652,
           2.3608727105782807,
           -1.0732473032623333,
           -2.525313004163161,
           -5.132122645215171,
           -1.2375005162865391,
           3.836215531230296,
           5.352165206054772,
           2.8125232471105823,
           1.4831641237009126,
           2.4058767826539813,
           3.8310606518068373,
           4.080609804985072,
           3.655153593106238,
           3.3105180121649034,
           2.894390291721023,
           3.1989286549835882
          ],
          [
           0.34028098558038483,
           0.4573738775735286,
           0.298583036011581,
           0.42748176845593666,
           0.6145311273435717,
           0.7968788600656342,
           0.6854469845815571,
           0.7382687246429912,
           -0.7689686713016165,
           -1.9245158555559954,
           1.7569445214639843,
           3.403028654824175,
           1.5182570068973331,
           -1.894175069036268,
           -3.5164589229214855,
           -5.2696499829758,
           -0.12885696709347294,
           4.1646959141546365,
           3.892201221797557,
           0.7371631461466944,
           -0.07710060888569747,
           1.0289520342244671,
           1.8559345367547593,
           2.050167647627931,
           1.6366668065525178,
           1.4347436791440369,
           1.472810801587887,
           1.5961079902276123
          ],
          [
           0.523700023237782,
           0.3056387034684176,
           0.13357303169229806,
           0.45578030505230827,
           0.6630986239958743,
           0.523326656694412,
           0.14014212780401736,
           0.2661147317501622,
           -0.4620619369100539,
           -1.5048767975901116,
           2.0837107518755893,
           2.6731494282497716,
           0.38848735306213983,
           -2.31944657175385,
           -4.11582089013559,
           -3.890525124491505,
           1.5779294260747054,
           4.292744173914561,
           2.271950944879145,
           -0.21914736736963036,
           -0.2746336664796182,
           0.5226171089465089,
           0.9274267295290531,
           0.8431564585750213,
           0.5010391470527031,
           0.5772633834544811,
           0.7683635725721274,
           0.6018632644956702
          ],
          [
           0.5710090140993036,
           0.2637406520618123,
           0.096870633402249,
           0.43025417366229984,
           0.48732721389325184,
           0.24732693798658945,
           -0.14417347063319175,
           -0.018738017457033074,
           -0.10792882172766971,
           -1.2193836418732027,
           2.284645398949909,
           1.6542461640242252,
           -0.5758987137790265,
           -2.168033867162707,
           -4.3500865693774085,
           -2.0123351954219153,
           2.874792949096899,
           4.017675888843524,
           1.1025917064620419,
           -0.37947902656924104,
           -0.0848891289389534,
           0.289166520283647,
           0.49006727158249674,
           0.14865300146542282,
           -0.1297330745413231,
           0.18244064396727788,
           0.38814357809254507,
           0.06166992393505999
          ],
          [
           0.6243956061005385,
           0.3209387580873876,
           0.18232549097699935,
           0.49695363681457655,
           0.38195683237028283,
           0.006497195895381225,
           -0.24109190387013324,
           0.02572314361576511,
           0.16344292778046088,
           -0.9604828842680172,
           2.6111970904118853,
           0.25604483839306136,
           -1.7785853004366863,
           -2.105950481598364,
           -4.04444521480226,
           -0.2933745571473171,
           3.2364373303217024,
           3.1306622476649717,
           0.39010644211663387,
           -0.011442738812189712,
           0.28256770156226585,
           0.37154986690341535,
           0.19314160782024836,
           -0.12190285163739512,
           -0.27298788596926193,
           0.2037194477287564,
           0.2975221427579935,
           -0.2055230931617097
          ],
          [
           0.706499037159388,
           0.18783897770797364,
           0.16233658479736912,
           0.32726409506178816,
           0.12285165943565657,
           -0.1424715046555336,
           -0.1773430080921512,
           0.17186355036629475,
           0.4399089222806501,
           -0.8515766012300828,
           2.182067477274808,
           -1.535781616717566,
           -2.97636371311251,
           -2.374998466805135,
           -2.8400730710419704,
           1.311011802217848,
           3.5885380137051364,
           2.4564055292914033,
           0.21294273147542453,
           0.4290996758105544,
           0.43935703263330445,
           0.1336134918249844,
           -0.32128705503550103,
           -0.3471392050944152,
           -0.2544409451477224,
           0.3605707023503723,
           0.1483764585807481,
           -0.5048931857998223
          ],
          [
           0.7534616763178895,
           0.12712268657347492,
           0.18822043650248288,
           0.26089383449137704,
           0.18430011301124982,
           0.01344644134302575,
           0.0830337881920068,
           0.27030713121309025,
           0.6541452339245737,
           -1.0122645183520698,
           1.2085990330415979,
           -2.553032411441961,
           -2.8920743187481857,
           -2.175916525667159,
           -0.5284731041796501,
           2.92696571343093,
           3.8756258354399,
           1.7913606638586046,
           0.26542051109159526,
           0.6180553383271291,
           0.29229747552685725,
           -0.2638946738554585,
           -0.5491508723537323,
           -0.4005906629732946,
           -0.1772626328414738,
           0.394674471989839,
           -0.04550836286267479,
           -0.6331810670020642
          ],
          [
           0.5640488993488988,
           0.2185399232867128,
           0.33594496135133933,
           0.46436739737431576,
           0.2907683497450684,
           0.05028262805598438,
           0.1570507107619118,
           0.19501187633216555,
           0.49658297883951646,
           -1.3221863465347434,
           0.5133453738942028,
           -2.55397453784849,
           -1.879984387358618,
           -1.5736491181827752,
           1.8227944951594584,
           3.9298778011794844,
           3.542136207841475,
           1.0411550012501687,
           0.515349020846562,
           0.7776358680864469,
           0.14414681313408184,
           -0.4464712156164844,
           -0.4371662223379441,
           -0.18804202764217204,
           0.05826897684542354,
           0.31698690118903494,
           -0.03809353284124528,
           -0.36628808900261267
          ],
          [
           0.3893431502741716,
           0.2981597936330227,
           0.4591822792363731,
           0.4470355779805877,
           0.11718028764400767,
           -0.08312400691079047,
           0.06936865647888313,
           0.10579550707718932,
           -0.07387744693119114,
           -1.41375975012591,
           0.39654737716680305,
           -1.838077431103068,
           -1.0898024912389177,
           -0.7903243033644255,
           3.229073608026252,
           4.033400708593978,
           2.565747391775458,
           0.5555867678142128,
           0.8395519795571524,
           0.8251078660661624,
           -0.07640476992966416,
           -0.5409584142335623,
           -0.2538039842735974,
           0.1781107160598684,
           0.2722288865051169,
           0.08726057997371128,
           -0.24675542054354194,
           -0.3377502187884823
          ],
          [
           0.3786718789856898,
           0.3793521208842765,
           0.3817977308937128,
           0.18993352352178738,
           -0.050244481641772976,
           -0.2233942795691527,
           0.011951828666067477,
           0.07080905172904928,
           -0.8493799828315273,
           -1.4103113904224287,
           0.3921246022889375,
           -1.020275805589547,
           -0.5605157400548252,
           0.301227786312699,
           3.314633938494666,
           3.4532648507574706,
           1.469025718382372,
           0.44602386022066415,
           0.9312073763694575,
           0.7568882693330025,
           -0.1920198959845959,
           -0.3780346196538419,
           0.01769277860509333,
           0.37282446655865775,
           0.2474547960503658,
           -0.07483425800927623,
           -0.36565405409018303,
           -0.2824747498743999
          ],
          [
           0.3708036002717636,
           0.37310545632787256,
           0.20950536149230625,
           -0.11398233617240505,
           -0.23520851946491927,
           -0.27294234183986765,
           0.07521905630260495,
           -0.16084729208659798,
           -1.3446797441485234,
           -1.1468730287004583,
           0.09616069972383212,
           -0.3581473530895455,
           -0.1056430143023529,
           0.5834161068184652,
           2.1724713563872537,
           2.4392094644989517,
           0.9194496895590857,
           0.7545609712343311,
           0.9977968334803461,
           0.6473979446796438,
           -0.2671134493257329,
           -0.2324724209215282,
           0.16856330688399135,
           0.2908289231966845,
           0.03880228531354302,
           -0.17891525486317905,
           -0.4078075262924755,
           -0.22113863679567103
          ]
         ]
        },
        {
         "coloraxis": "coloraxis",
         "hovertemplate": "x: %{x}<br>y: %{y}<br>color: %{z}<extra></extra>",
         "name": "6",
         "type": "heatmap",
         "xaxis": "x7",
         "yaxis": "y7",
         "z": [
          [
           1.6103763869548122,
           2.0429700129733632,
           2.436770756566427,
           2.394208124896921,
           1.9946814785939861,
           1.725363554025067,
           1.4606203618222793,
           0.6390255796720955,
           0.507897377359546,
           -0.002093594338722915,
           -0.6707805245001235,
           -0.952690370036274,
           -1.1058727873328007,
           -1.079845855642604,
           -0.9869824342840468,
           -0.8801024229384891,
           -0.8266661415756238,
           -0.8310192095905218,
           -0.9252061443637241,
           -1.0191543753467158,
           -1.0863589507731377,
           -1.0870637368631149,
           -0.8611991096074869,
           -0.47922299483788294,
           -0.15301975667455497,
           0.10882116869410963,
           0.3167291773625722,
           0.29470926693742183
          ],
          [
           2.253320530790129,
           2.612161923917639,
           2.723298496258797,
           2.378107448774625,
           1.7948684277527733,
           1.6365519066390548,
           1.3868250803011324,
           0.03424142576867728,
           -0.6240818476435335,
           -0.633468831125068,
           -1.2099330754470392,
           -1.2962731924781716,
           -1.129124970247233,
           -1.0308850783807617,
           -0.9504391051355932,
           -0.8757168072676917,
           -0.8559565438621755,
           -0.8618891605694015,
           -0.9306986412267602,
           -0.9142139921430446,
           -0.825602674965493,
           -0.6241025383524015,
           -0.4222950726899917,
           -0.18366347524726695,
           0.05875443221310117,
           0.10685087793863046,
           0.18624228158809852,
           0.08793703382650842
          ],
          [
           2.7663238597518465,
           2.7414110731289254,
           2.294203089417652,
           1.5734001684962338,
           1.1954034760285706,
           1.133489787638311,
           0.954151130667319,
           -0.13271663929251754,
           -1.0414687822898145,
           -0.6472703081665525,
           -0.9605201873574702,
           -1.3044296931113353,
           -1.0393426316581005,
           -0.9348988266281836,
           -0.9142862502094408,
           -0.8131148522554279,
           -0.7915698823941285,
           -0.7947099602177621,
           -0.7390767026492067,
           -0.5816207934702446,
           -0.2972716384923639,
           -0.14923717898234723,
           -0.15214898455361886,
           -0.1457322689056867,
           -0.09101790908876922,
           0.025781108387711416,
           0.03163386986764283,
           -0.09932370460483159
          ],
          [
           2.626517903740853,
           2.0037593866447585,
           1.208417671965797,
           0.5467969378981058,
           0.24573833598357175,
           0.16638635131495327,
           0.3530045750377413,
           0.012520693892276169,
           -0.8373506606128993,
           -0.5607084175103939,
           -0.7364362826655018,
           -1.648069785410807,
           -1.5782273619100669,
           -1.2805854354450161,
           -1.081491474253705,
           -0.8459273241984536,
           -0.7807847200729299,
           -0.741837449790758,
           -0.5639660694244727,
           -0.2821711009156186,
           -0.1374217308114607,
           -0.27817735155150525,
           -0.39925776619885756,
           -0.40962039291473695,
           -0.24139617845065564,
           -0.019056481886774668,
           -0.12693354943215895,
           -0.31069172393094263
          ],
          [
           1.750221798027535,
           0.8355335817643458,
           0.1950964592998926,
           -0.2629575696636525,
           -0.5181623935299028,
           -0.4485026923485301,
           -0.040693115501742205,
           0.2265273832935093,
           -0.31953011400496223,
           -0.39383983647070786,
           -0.6128162931963295,
           -1.8741658288366594,
           -2.1887874028025815,
           -1.7173907468965535,
           -1.2348493313532196,
           -1.1973775324653593,
           -1.3859630130627192,
           -1.2580959008490646,
           -0.9098109550877341,
           -0.6385040811787049,
           -0.7148855204398918,
           -0.8404083619551157,
           -0.8191749439437586,
           -0.5276875429975064,
           -0.23301155391024003,
           -0.2325731505449481,
           -0.4526537416078563,
           -0.6295209040906382
          ],
          [
           0.6394310076667012,
           -0.07962565447024228,
           -0.4667712442476029,
           -0.7531024974265451,
           -0.7595471535813626,
           -0.6120257115897394,
           -0.26908388861355015,
           0.22281491319593882,
           0.09897460097608979,
           -0.031548377906334135,
           -0.333240325683065,
           -1.390023732616942,
           -1.7651821477686442,
           -1.4575333134631574,
           -1.0467070766918731,
           -1.459728344318498,
           -2.3166754939371206,
           -2.197713955816511,
           -1.6639509442958023,
           -1.5066516199182414,
           -1.481442168343361,
           -1.2098249362919917,
           -0.7650617242955094,
           -0.23693156063277476,
           -0.26449229612479147,
           -0.6321939770386887,
           -0.8473321992270574,
           -0.9351507977706254
          ],
          [
           -0.4558291623414923,
           -1.0654282743987804,
           -1.3489664144312634,
           -1.47674798625392,
           -1.3237531527434137,
           -1.173478562132296,
           -0.9204691159738037,
           -0.5190941787141482,
           -0.22118593762385963,
           0.0715554978817523,
           0.08915042896757819,
           -0.21223023694849336,
           -0.3785617737916471,
           -0.31345898118521687,
           -0.25615055600603637,
           -1.0006019141734381,
           -2.294104607514091,
           -2.335204106539276,
           -1.8141105504901969,
           -1.5591449367590893,
           -1.4142264469247119,
           -0.9168468461352576,
           -0.27216768473806024,
           -0.12749948816175116,
           -0.5398100491994887,
           -0.9265002252138744,
           -1.0433409462251588,
           -1.087787693349304
          ],
          [
           -1.0913585235531083,
           -1.7015178731314973,
           -1.9550394099235624,
           -2.0168356432925143,
           -1.8985194582848584,
           -1.8633542493112194,
           -1.915781287672412,
           -1.781978764774863,
           -1.1424279981726455,
           -0.2732738056669869,
           0.321124592834665,
           1.0071494755982577,
           0.8598371481449175,
           0.45575396174816585,
           0.38125435866950275,
           0.05168459029658101,
           -0.9750095532519422,
           -1.3481589513354202,
           -0.8562206199053455,
           -0.5284679005355172,
           -0.5237548011308495,
           -0.275835040460766,
           -0.023512808613510683,
           -0.3667529701146288,
           -0.7858624255799245,
           -0.9994515675855026,
           -1.0902634047045163,
           -1.1496449442938166
          ],
          [
           -0.6076039456649642,
           -1.019996610001399,
           -1.2463708829176021,
           -1.3691471386123977,
           -1.5122057480098328,
           -1.6815427173320683,
           -1.903961244656812,
           -1.9451156085976575,
           -1.3162836508987548,
           -0.35476272559992117,
           0.22168226742194697,
           0.8471925582615029,
           0.8459057587560107,
           0.20121267327983594,
           0.1958890588940888,
           0.9267335779138529,
           0.7050027629165908,
           -0.10705247845681559,
           0.22410912605372868,
           0.4896882041311793,
           0.28134028884732043,
           0.02009210664826455,
           -0.1868912103861074,
           -0.6616138690969606,
           -0.9449034760200629,
           -1.0512700216405615,
           -1.1557351575819663,
           -1.2233577442229642
          ],
          [
           0.6812585148985103,
           0.6839887628166207,
           0.507180023715012,
           0.2515079933669996,
           -0.16680418584635076,
           -0.4483962382459519,
           -0.6095920817882442,
           -0.7018477636303004,
           -0.41338905054496283,
           -0.015299054672571422,
           0.07642437817040115,
           0.06691722405208356,
           0.19292009638876095,
           -0.22489733282326163,
           -0.24173458874021708,
           0.9919522279391947,
           1.3574191690977724,
           0.3738652998125356,
           0.34309054762055924,
           0.23090068790371454,
           -0.1585297760674394,
           -0.676022398448705,
           -0.9931331851192846,
           -1.103419998213862,
           -1.1370895013102396,
           -1.1946101890499476,
           -1.2809679120741424,
           -1.3312249781470975
          ],
          [
           1.53966262418417,
           1.8983833077397683,
           2.005047128257147,
           1.8278777552684815,
           1.4050280957806813,
           1.1893883587503669,
           1.0641116149531569,
           0.7555119249467371,
           0.555634319786518,
           0.23572609176053927,
           -0.19080046760770736,
           -0.2602099913499667,
           -0.0704100123164681,
           -0.18009746062006143,
           -0.39811069871558924,
           0.36679971958657553,
           1.0234463624799264,
           0.14382674887747393,
           -0.2689826460434684,
           -0.6886300636927243,
           -1.6287259812297008,
           -2.1480605037548464,
           -2.3457752574122663,
           -2.2133574882806792,
           -1.8651118236627031,
           -1.6316191743255257,
           -1.5383591520854143,
           -1.4218349675608066
          ],
          [
           1.1476300221163038,
           1.5385808939094527,
           1.8963342497397222,
           2.1505638311197983,
           2.1257895891625997,
           2.080022542149207,
           2.02762820741132,
           1.554866451392039,
           0.9421077575279938,
           0.4809561225849822,
           0.31162705670874413,
           0.3933336554231549,
           0.6253799423363954,
           0.4986004138345129,
           -0.05410998066737416,
           -0.07738887545612333,
           0.5793718298841636,
           0.2079527601462513,
           -0.5900245628645167,
           -1.0755855563960182,
           -2.2137254694695856,
           -2.795443152297343,
           -3.209662949276708,
           -3.4356709724465837,
           -3.234510918928496,
           -2.719983190346788,
           -2.247295367048664,
           -1.7915341581974027
          ],
          [
           0.01871439678130049,
           0.4047571710589054,
           0.9108545541042267,
           1.4882599492827002,
           1.8036869007909813,
           2.0086529916429683,
           2.160719761550057,
           1.859190225567564,
           1.2010239315474065,
           0.9426197213980837,
           1.1361388602097655,
           1.294193740423263,
           1.6005353837610379,
           1.2807538205916962,
           0.621700833124735,
           0.32031270790718247,
           0.5316739180483258,
           0.7004261106144684,
           0.017941178730898844,
           -0.528981798910245,
           -1.4900869203239642,
           -2.012001109619853,
           -2.633869585286695,
           -3.3072708877845245,
           -3.7153849300564135,
           -3.5945810914544767,
           -3.160009774085463,
           -2.6824456129633183
          ],
          [
           -0.8216304707991618,
           -0.5749486194539222,
           -0.017517204699415534,
           0.6533003612858456,
           1.075850598400677,
           1.394564544704108,
           1.8075968329917793,
           2.026764400513071,
           1.5507823076130438,
           1.3666712423879042,
           1.5496486039496493,
           1.654727643988136,
           1.8924279293422157,
           1.7218214782409142,
           1.335156872842274,
           1.177618285716464,
           1.027184707026513,
           1.1654849804705085,
           0.9626311299106775,
           0.7718163999542439,
           0.1277864027239075,
           -0.5335554472170679,
           -1.180827561583163,
           -1.925998833977164,
           -2.5844734413147123,
           -3.0065946309672222,
           -3.124562555972833,
           -3.2635518308672573
          ],
          [
           -1.064628444852858,
           -1.001957800920667,
           -0.7423288324468768,
           -0.2660835435505641,
           0.1909763038531197,
           0.4951565764396447,
           0.8973467035772903,
           1.6694009159611478,
           1.6727392966098389,
           1.2776426966570402,
           1.4735267396697744,
           1.6626680456886902,
           1.8975992632999783,
           2.000613377401659,
           1.7528613669122182,
           1.3697172574690728,
           1.0586306778180252,
           1.084740534401504,
           1.2971793853308173,
           1.5418506216400192,
           1.5014842400198143,
           1.1127190901785866,
           0.6533054200053784,
           0.1074065728638326,
           -0.4153349714105525,
           -1.0140135458146686,
           -1.5053004635545508,
           -2.0825136268461453
          ],
          [
           -1.0939711303454966,
           -1.0603008552865028,
           -1.0427873158757675,
           -0.9440494874458147,
           -0.7132420895888024,
           -0.3950899565592837,
           -0.13037732620179537,
           0.5718332916411609,
           0.9920836645153696,
           0.5455391206344994,
           0.692935996869365,
           1.1149569688034129,
           1.4471489186618274,
           1.4347697946816362,
           1.2287010144635984,
           0.7670709838037281,
           0.5500036752150103,
           0.6643266480325755,
           1.1603467340793996,
           1.59046070836007,
           1.9858944275787453,
           2.197255950688812,
           2.467805783861211,
           2.666728509845466,
           2.5113173351432496,
           1.9939371072604128,
           1.3297831986368096,
           0.6735153677673696
          ],
          [
           -1.1623261922009234,
           -1.131259522904538,
           -1.1115686618875373,
           -1.1257774855554543,
           -1.1046411586879419,
           -0.9783454475285562,
           -0.7995575364477514,
           -0.3792645716538676,
           -0.0574655620353558,
           -0.41248998584900287,
           -0.39303198578216314,
           0.12122404460398917,
           0.4683326425414338,
           0.3286602736519414,
           0.2186000464610406,
           -0.22732731119524763,
           0.03532374798859428,
           0.6747988939150537,
           1.6128551364895873,
           2.2577154920843747,
           2.6749343687829095,
           3.1488283505143597,
           3.653773024491068,
           4.125456626292631,
           4.18347432877417,
           3.921269560438861,
           3.38999586589371,
           2.642832193101164
          ],
          [
           -1.2258558688906713,
           -1.1713170919602653,
           -1.0929080141267922,
           -1.085349802700924,
           -1.0673443041973756,
           -1.0929393490653003,
           -1.2265525238438761,
           -1.1688512210028565,
           -0.9836008271474034,
           -1.147260373524761,
           -1.1781523786057289,
           -0.8294304802201615,
           -0.5618951672877553,
           -0.8066196506587555,
           -0.7199021280220874,
           -0.8687013123547588,
           -0.11171180726863711,
           0.9645199966316201,
           1.9758811277834178,
           2.5619634758352023,
           2.7080337047815513,
           3.0604967061416186,
           3.387397443536648,
           3.4980454578231672,
           3.3071402514523722,
           3.0029661583832477,
           2.684053049336241,
           2.172256902826548
          ],
          [
           -1.221911916953908,
           -1.1632257572061764,
           -1.1160365122305707,
           -1.1070897060360785,
           -1.105295736896275,
           -1.1238806751863883,
           -1.3373862111186732,
           -1.5242833193604168,
           -1.5741731306206757,
           -1.6596579234763094,
           -1.494105164587213,
           -1.3419217247564261,
           -1.313627345769782,
           -1.5654329126204738,
           -1.3274392678076654,
           -1.0945714995926354,
           -0.21299918845229088,
           0.7682907357686591,
           1.3281894770027463,
           1.2977412424011177,
           1.1797441326441866,
           1.3799940063261542,
           1.4753292543797842,
           1.2819131303192006,
           0.9552401632221846,
           0.6352244997195763,
           0.3637450996369639,
           0.04106963231884009
          ],
          [
           -1.2004274635295529,
           -1.1931076658279407,
           -1.2288017466350492,
           -1.2621513241530984,
           -1.2677361496728161,
           -1.3022676264271433,
           -1.438020444667395,
           -1.4936229300656467,
           -1.536795824999591,
           -1.7460086964906743,
           -1.6285401827250996,
           -1.607632200409201,
           -1.8143421894086065,
           -2.025919102894393,
           -1.813061172498887,
           -1.4391834185869352,
           -0.6555191105694389,
           -0.13643279085339488,
           -0.08303659282300208,
           -0.5927201246333468,
           -0.7903199183587512,
           -0.7131165240333766,
           -0.6461298504227461,
           -0.7974722027640719,
           -1.0171066665221802,
           -1.159195915904953,
           -1.2658536896926562,
           -1.4144888271201053
          ],
          [
           -1.220613471960831,
           -1.2721395022420725,
           -1.3652522988364202,
           -1.3983611852031759,
           -1.4266650446112463,
           -1.488793998555184,
           -1.5790545517458807,
           -1.5264146824194333,
           -1.458020897804619,
           -1.7219665006695197,
           -1.7460844849642814,
           -1.852377438746851,
           -2.122431234160384,
           -2.3017830884789428,
           -2.2194025200716694,
           -1.8276108738388008,
           -1.2826242777252945,
           -1.2680462257365024,
           -1.4086433907667066,
           -1.8717408756641731,
           -1.8166157035610095,
           -1.6059504270236862,
           -1.4264040744680848,
           -1.424817282423358,
           -1.5013489201341481,
           -1.5210811312330674,
           -1.5270110082258537,
           -1.5949515307489386
          ],
          [
           -1.282163607126297,
           -1.3334255583174297,
           -1.4337014770830854,
           -1.4717324443915705,
           -1.5215472917421717,
           -1.5930355983181048,
           -1.6419868698361015,
           -1.5527948692983014,
           -1.4546969182222083,
           -1.7069903212762174,
           -1.7509183200602592,
           -2.079015507202963,
           -2.412108716621295,
           -2.5019039082813133,
           -2.409531713826079,
           -1.8903325184587665,
           -1.3704928346261993,
           -1.4598527158579735,
           -1.5894379433328516,
           -1.8743381750131927,
           -1.710418508673257,
           -1.5502754309350966,
           -1.4988315335399482,
           -1.5065039929232467,
           -1.5571055819068245,
           -1.543336708016482,
           -1.543308552784422,
           -1.6464594287393535
          ],
          [
           -1.292419144069796,
           -1.3497611977365094,
           -1.4355345542808693,
           -1.5260195913226495,
           -1.5832556608553956,
           -1.6050288414749625,
           -1.6168284101347994,
           -1.512271135562731,
           -1.3748999113098972,
           -1.6479980945867125,
           -1.737742069049717,
           -2.205135850295767,
           -2.573955645181887,
           -2.5362657474552988,
           -2.2264465032344183,
           -1.7194440714077852,
           -1.2310041304018915,
           -1.2591880287460997,
           -1.533313920652172,
           -1.745088228734942,
           -1.6336506274912703,
           -1.6176587714382782,
           -1.6775618855373557,
           -1.6605728701289024,
           -1.6342596040662882,
           -1.577209490134543,
           -1.5644263641780758,
           -1.686533435856882
          ],
          [
           -1.2698563604461361,
           -1.3839666538767137,
           -1.458873590746815,
           -1.5150105722894902,
           -1.5336108520925382,
           -1.5413046550139877,
           -1.549675906461133,
           -1.4675461708888504,
           -1.3272536720621082,
           -1.6242405782820657,
           -1.6948575013006542,
           -2.082754263569949,
           -2.3323846816119387,
           -2.2273036901086645,
           -1.6297272286964142,
           -1.2736110923751545,
           -1.0731013265205627,
           -1.1270280556204817,
           -1.6027956030014439,
           -1.7186409650237335,
           -1.6940107622336353,
           -1.760959794039485,
           -1.8140723899350557,
           -1.7476864241390535,
           -1.6397666579976344,
           -1.5457919921369152,
           -1.5345202101267406,
           -1.637667983547575
          ],
          [
           -1.2621521199274346,
           -1.4225122616457369,
           -1.4686368883396712,
           -1.4553936941211227,
           -1.462498963354368,
           -1.5032605826693848,
           -1.516494229730717,
           -1.4732977717131814,
           -1.3489376502114845,
           -1.5557315783932824,
           -1.4275481419470575,
           -1.5592295466928938,
           -1.5495208857297742,
           -1.5123406235681491,
           -0.8910902391251314,
           -0.767547394724041,
           -0.9857035548314272,
           -1.140647134275118,
           -1.6752648459399961,
           -1.7067687012937265,
           -1.7498941113512299,
           -1.8287100358193573,
           -1.8471955124730965,
           -1.7269802114625712,
           -1.5998850947703818,
           -1.5048786596114372,
           -1.494730126144269,
           -1.558775990813921
          ],
          [
           -1.2745984211004433,
           -1.428432868198385,
           -1.4430337448400374,
           -1.44105205207331,
           -1.4852443362158065,
           -1.5510330314145055,
           -1.5634626536409937,
           -1.5438698808699503,
           -1.4318585566633342,
           -1.399781867544765,
           -0.9793805355045418,
           -0.809830776355204,
           -0.5861974656249016,
           -0.7008193952890311,
           -0.3325737760744599,
           -0.4874376873911893,
           -1.0126491883518511,
           -1.348335759247864,
           -1.735329737400419,
           -1.7132289051259746,
           -1.7738283204324699,
           -1.8209167519053673,
           -1.7886742779400788,
           -1.64353174212044,
           -1.5664094374105364,
           -1.5112699152641702,
           -1.488157936760867,
           -1.5150495436308655
          ],
          [
           -1.357723965840685,
           -1.4516859370225341,
           -1.489026345397263,
           -1.5394831608862267,
           -1.611064902357851,
           -1.681956062839172,
           -1.676991510305064,
           -1.6364942988177287,
           -1.5472000143705258,
           -1.3664971452445096,
           -0.7641629304052212,
           -0.39949778754086657,
           -0.04029591817762507,
           -0.25001970934683254,
           -0.14116255514839104,
           -0.4836606574670768,
           -1.0892980215146566,
           -1.581240070169001,
           -1.7386454666662567,
           -1.7131203157800177,
           -1.7814856053188821,
           -1.8020872775825794,
           -1.725785058077237,
           -1.6241437880153446,
           -1.609989570880125,
           -1.6048702495906846,
           -1.572763174950027,
           -1.5330371336272872
          ],
          [
           -1.4553476507142507,
           -1.5262891422666194,
           -1.596552226880247,
           -1.6724883300995312,
           -1.7416457604596078,
           -1.7532334897659037,
           -1.7147621251422893,
           -1.7021713797073401,
           -1.6563913495494464,
           -1.4870633235470663,
           -0.9177825184122854,
           -0.48526981685537696,
           -0.12648997368849235,
           -0.42748712912918907,
           -0.367489549549621,
           -0.782673202357155,
           -1.1995182260181187,
           -1.638132942394579,
           -1.6527932514334913,
           -1.6911198777766363,
           -1.7896491389617628,
           -1.8250222835508714,
           -1.7502271478279505,
           -1.704005403205989,
           -1.726942233859876,
           -1.7514619759984251,
           -1.7345433552959655,
           -1.6641166000930925
          ]
         ]
        },
        {
         "coloraxis": "coloraxis",
         "hovertemplate": "x: %{x}<br>y: %{y}<br>color: %{z}<extra></extra>",
         "name": "7",
         "type": "heatmap",
         "xaxis": "x8",
         "yaxis": "y8",
         "z": [
          [
           0.7855965788088077,
           1.6544690299814921,
           2.1150432016006824,
           0.39610283483285913,
           1.3924624020155734,
           2.393159967722889,
           0.97459477097353,
           0.6874279111247129,
           0.8786578947749247,
           -0.14409896358251983,
           0.28666402096677035,
           0.8370181297842444,
           0.9645896285635933,
           1.1251255713532502,
           1.0728054130032445,
           1.138246671846757,
           1.111390996774065,
           1.0801853390952225,
           1.3163447112429763,
           1.216320783478719,
           0.8150675763321353,
           0.6975000099007137,
           1.073026138168549,
           1.22222343892367,
           1.082631691972487,
           1.6488052734853798,
           1.6822333007970305,
           1.21160436339258
          ],
          [
           1.6260371698133818,
           2.060390092867089,
           1.873036927102953,
           1.7567949378979368,
           2.9045539163611696,
           3.3463793652366407,
           1.4919876721895489,
           0.8408760390132273,
           1.3120599018829557,
           0.2549246780727068,
           0.08851809696275836,
           0.7380699100343049,
           0.8118288765143555,
           0.8970442458134511,
           0.9506126376537782,
           1.1081110041983862,
           1.1260780701231736,
           1.1341668818507002,
           0.9412246452232884,
           0.6510994001826763,
           0.5392411821231206,
           1.0463021294289483,
           1.4807070449167838,
           1.3460975036240486,
           1.2656832973140266,
           1.334855511461104,
           1.0966844038634334,
           0.6839556132905208
          ],
          [
           2.4825674179612505,
           1.9859380788577994,
           2.001733942229656,
           2.1282788083877042,
           1.995636334391695,
           1.9907283754550948,
           1.131515195483648,
           0.8936583794826201,
           1.775403671799173,
           1.5613677890543207,
           0.5588563375071743,
           1.2073896360883336,
           1.480030855480255,
           1.225742986890348,
           1.059007597746437,
           1.247739889989069,
           1.1719122459434272,
           0.9634615324516633,
           0.9349567615511105,
           1.3944041596363348,
           2.0604103974291763,
           2.430025101214553,
           1.8053719357009843,
           1.4527922166495586,
           1.3424714876260415,
           1.1998114633021888,
           1.1330405680787317,
           1.2547066516860113
          ],
          [
           1.9455581992506574,
           1.6047123749415848,
           1.5448492385749748,
           1.0391483411011464,
           0.7905289910300834,
           1.356161371639631,
           1.311424937448641,
           0.6139818528156126,
           1.3072121992351429,
           2.643183197674585,
           1.3288676392203211,
           1.2021982962696138,
           1.876820098330624,
           1.515813221249731,
           1.2131155362147856,
           1.5227618718120293,
           1.3434386758786905,
           1.3552379305358568,
           1.760134225263899,
           2.274596016288619,
           2.298879779127825,
           1.3292995295159054,
           0.7751720776392121,
           1.143504260266209,
           1.241286747928583,
           1.1831734329788,
           1.3102515862520128,
           1.5316038110374117
          ],
          [
           0.9968470259190005,
           1.163480353064148,
           1.2283772770483508,
           1.114977043882998,
           1.0957763981535076,
           1.5670859947107743,
           1.7680108004793658,
           0.8071974284990897,
           0.6376233401927944,
           2.5482892866192546,
           0.2905787208768993,
           -1.3292087476440682,
           -0.11518063785512145,
           0.3812525386569582,
           1.2172800816176224,
           1.7979856366873825,
           1.5998732632054944,
           1.9151527244910236,
           2.168096458588658,
           1.732482205868224,
           0.4457319331831632,
           0.03242127419609808,
           0.7598161287476297,
           1.2221175086529368,
           1.11967231927633,
           1.1657924591597089,
           1.226241983453943,
           1.0665558596490174
          ],
          [
           1.2565477498923485,
           1.3386885571791611,
           1.378212584474072,
           1.3068445562096351,
           1.368719694733331,
           1.5343016743104885,
           1.9257125397415995,
           1.5137406156658662,
           0.7247600937592078,
           2.588558837720736,
           0.3448531784192629,
           -0.9306509699355534,
           0.7031734126451843,
           -0.20734413557983333,
           0.47306376396105687,
           0.2823996257113095,
           -0.09501124955585638,
           0.7467654850293632,
           1.0815443108783989,
           -0.007011614157218293,
           -0.11835062417050923,
           1.0818378483782312,
           1.5295693357856843,
           1.095519682545322,
           0.8666135428784887,
           1.1389362906152594,
           1.1057861575106442,
           0.9639144628031983
          ],
          [
           1.7850418121936675,
           1.7362280555689673,
           1.667961905554765,
           1.5451722525965823,
           2.00400644431507,
           2.0958566785461508,
           2.545436784349623,
           2.513150168006563,
           1.6264331882924032,
           3.3144903785197,
           1.6041854950350354,
           1.2318096389569082,
           2.9351671475045107,
           0.2476522846180641,
           0.6862227315171642,
           -0.694072775769103,
           -1.666949730404568,
           -0.13044380354107776,
           -0.39596272869793214,
           -1.5101999405241584,
           0.09883030825654471,
           1.6007009649143757,
           1.248500394525907,
           0.9018510675506729,
           0.9896717181089671,
           1.2039108851992,
           1.2011668811172842,
           1.155061946357518
          ],
          [
           -0.03661615568533527,
           -0.10296048046448925,
           -0.0971691938797159,
           -0.08870734185774554,
           0.4690060342455883,
           0.34239564125991306,
           0.5594437878545521,
           0.5140016371446726,
           0.35234664885237854,
           2.034741200401435,
           1.4002846429726552,
           2.6685553328781313,
           3.8044629747464214,
           1.345678316260203,
           3.4586420604899004,
           1.6590835302057707,
           -0.39587839955758986,
           1.537903502020401,
           0.673737068363559,
           -0.35785621126806166,
           0.6507279972930691,
           1.1164916832716585,
           0.8145728363102782,
           1.0279981608786486,
           1.1915804585483714,
           1.194388652452302,
           1.2251193255462614,
           1.2070875135150438
          ],
          [
           -0.06346691210219624,
           -0.3229391990688375,
           -0.42622394610047687,
           -0.598847678341051,
           -0.6433987575723841,
           -1.296318216143799,
           -1.6482211335515988,
           -1.571601140775645,
           -0.587528512574993,
           0.8161128705590859,
           0.5267050961877064,
           2.4851282552382528,
           2.61145579529527,
           0.5900400960577246,
           4.1543405124965815,
           3.36344339138914,
           0.8756570940892151,
           2.860410985827122,
           2.6027897231853423,
           2.020702136618192,
           1.5096379211036284,
           0.9739276128934633,
           1.0539574598688715,
           1.4084277235898557,
           1.446465677115536,
           1.3396074660410267,
           1.2925067797797025,
           1.2958588287584256
          ],
          [
           2.856168608654513,
           2.837667036413872,
           2.111487910781734,
           1.726858754749957,
           1.456867299796963,
           1.2532957856568532,
           1.1420345607516231,
           1.3187750531575018,
           1.9291600355003267,
           1.5796980381546968,
           0.3523278068658521,
           0.31990261899564276,
           -0.16693950928277523,
           -1.5912487089571663,
           2.0529194341428445,
           2.6730702435506983,
           0.3633878031940794,
           2.589615641503304,
           2.895254680577196,
           2.459282266120618,
           1.8110219049331235,
           1.4984330877963319,
           1.5937264871763075,
           1.4618902674283945,
           1.3327698168850224,
           1.28090517908426,
           1.2914035906634007,
           1.2247441739405585
          ],
          [
           3.119424563264264,
           3.72835987092989,
           3.499347818440082,
           3.021923199183248,
           2.2667409434380925,
           2.724623073480096,
           2.9459348253619866,
           2.713836479198925,
           2.6761572363269917,
           1.63491829284387,
           0.3854798642245032,
           0.6859116523110398,
           0.965073132244584,
           0.2351582881266665,
           1.909039783909078,
           2.2548582969379787,
           -0.690842582263415,
           0.7450690171807706,
           1.0331021146564803,
           0.10413296932976812,
           -0.2544996510015294,
           0.22886520224783613,
           1.1095410064981381,
           1.4985603956284033,
           1.7043100495903951,
           1.3826676534456206,
           1.1888967452192312,
           1.138884655125664
          ],
          [
           1.541015253785214,
           2.1196681152662427,
           2.890552864899499,
           3.1719972016969793,
           2.295619404481733,
           2.2737232723440246,
           1.5325989276766936,
           0.49133598603791195,
           0.6750796855238037,
           0.6031939104359892,
           0.6456066841158983,
           2.0484293517937635,
           2.0217290741552283,
           0.58090713534244,
           1.084426153018522,
           1.987616481427802,
           0.34743089568290897,
           0.2784695379034876,
           -0.16869339359810764,
           -0.4085141677567501,
           -1.1437561018770277,
           -1.6865087909868104,
           -1.372937163121218,
           -0.47506050635390706,
           1.0549645285673457,
           1.4247838760926723,
           1.4622876242997818,
           1.52522202368855
          ],
          [
           0.9798930316492687,
           1.126420096992446,
           1.3858956022896889,
           2.265410993384824,
           2.57219738034071,
           2.9261888370442497,
           2.0625676501867614,
           1.0787778758608095,
           1.4169378784119575,
           1.6859200943082415,
           2.208357336309219,
           2.0797856432396635,
           1.7794808711238543,
           0.4853580510869353,
           1.0015334498550181,
           2.0220294264954997,
           1.5924135610226398,
           1.4044523365269694,
           0.7558269305355607,
           1.407985630564154,
           1.38411969807238,
           0.35531962860416955,
           -1.3888058309558378,
           -2.6213219027839783,
           -1.9598370357721804,
           -1.017170386391171,
           0.18848380567364442,
           1.174382330663368
          ],
          [
           1.1318479156674885,
           1.3575621924327925,
           1.1271574826298953,
           1.429136965924076,
           1.7262399250399039,
           2.722865746746513,
           3.23008307725173,
           2.799171760140197,
           2.353396809044117,
           2.2931209277376574,
           2.402854439752999,
           1.84300506972367,
           2.6362196892196677,
           2.0646075406663393,
           2.09796519850063,
           2.4069217896336106,
           2.0927493102060053,
           1.883633732416859,
           1.300158629363705,
           1.7193976259616561,
           1.980588698895118,
           2.2768350483331448,
           1.568411299490601,
           0.06331148421352961,
           -0.8701705370777726,
           -1.7773607812338617,
           -1.7471222557925457,
           -1.4390392221987767
          ],
          [
           1.2210316863855308,
           1.4837596709700538,
           1.4384494123696152,
           1.3955772512943811,
           0.880112007660899,
           0.9776483550252468,
           2.0739035669286237,
           2.720835282167651,
           1.891411122891812,
           1.383375160046818,
           1.7992959152905548,
           1.5987747708702507,
           2.8234370038494987,
           2.467385645810952,
           3.014623328404335,
           2.9444750366051142,
           2.6141026079807026,
           2.4737579141707977,
           2.1609463536640576,
           2.0627901419351384,
           1.5654567639771568,
           1.787380449231795,
           2.1053047869131323,
           1.619065553529315,
           1.2114478009826173,
           0.15414833297887198,
           -0.9115628870198054,
           -2.6031984638300836
          ],
          [
           1.2400382166751658,
           1.3850965943010172,
           1.2655672608820256,
           1.3058871460857893,
           0.9823893004455776,
           0.6534960734861646,
           0.9918637754230597,
           2.065710640364446,
           2.1424369880561343,
           1.9115585501976007,
           3.0785803637780473,
           2.2010243724252967,
           2.809419116092924,
           2.1128600803777946,
           2.9540011842051124,
           2.4808571277660585,
           2.016717297264428,
           2.277471554190569,
           2.152120632768103,
           2.0217880547317337,
           1.4840756033995723,
           1.2840680088477976,
           1.2737322543210507,
           1.0268228725452417,
           1.2770245776341071,
           1.3971628809208314,
           1.4902209246602993,
           1.0353642218123058
          ],
          [
           1.142832261060329,
           1.2399443477328043,
           1.103493429134546,
           1.2401820609114909,
           1.2725877018887308,
           1.12959914385246,
           1.1412835939085488,
           1.5149627602808085,
           0.730746898171871,
           0.18025040781222068,
           2.3223887258592044,
           1.9676378499740492,
           2.2217033427121073,
           1.3056694741357573,
           1.7506607120754625,
           0.7710082884218844,
           0.685666956700163,
           1.1196508815596617,
           0.7970965034816492,
           0.6282267965945388,
           1.4483280111131147,
           2.6835352124948826,
           3.652106839286657,
           4.075641747417895,
           4.4160241911681,
           4.617183673392531,
           4.894059629441957,
           5.226729851857264
          ],
          [
           1.040579421545615,
           1.1643108352797582,
           1.1476138766750663,
           1.2790151943243269,
           1.4183609143707805,
           1.2189296989091734,
           1.0582025691419499,
           1.3760177426648126,
           0.09975594216726602,
           -1.029864836541314,
           0.7966687123755977,
           0.9439425353987676,
           1.5705187505374798,
           1.1908481157312734,
           1.6818803449934543,
           0.5174084077152663,
           2.143146792231714,
           3.4487840776644028,
           3.521646116293672,
           3.8625514888931853,
           4.435387584046354,
           4.773520440354573,
           4.698484238773585,
           4.481760514481413,
           4.089783430163726,
           3.5613035358314598,
           3.0770168884212485,
           2.4704799756183906
          ],
          [
           1.2904896949431441,
           1.3345543511184552,
           1.287515994057764,
           1.3924860452003411,
           1.4017444059516275,
           1.2782661778518867,
           0.8902489142593808,
           1.4862258361297522,
           1.2957295048767028,
           0.32833595124841153,
           1.2883002299146638,
           0.7869711625049496,
           1.5849800368976212,
           1.5973560156134097,
           2.0442868637864744,
           1.1113154178110112,
           2.9597176961280613,
           3.369607534031135,
           2.8303195937914385,
           2.984358118375701,
           2.6413258660347316,
           1.8683526259674745,
           1.1997046006898104,
           0.7552181248429735,
           0.38016295657575505,
           0.059297594574621915,
           -0.18887134866014565,
           -0.3624054818940259
          ],
          [
           1.304345505289697,
           1.1379084403527087,
           1.0961687536111602,
           1.2523806837434868,
           1.217460956123294,
           1.1964117749693033,
           0.9892422503558644,
           1.440812611767257,
           1.3472751408988537,
           0.4405192813449451,
           1.5289159928261211,
           0.8709783764813154,
           1.206035668510725,
           1.3998545076537081,
           1.4153797667322392,
           0.477069002651326,
           1.256088466678919,
           0.1127296196420371,
           -0.7260161912256236,
           -0.5674919877744018,
           -0.4574856841449997,
           -0.279359513319704,
           -0.0063198962548174364,
           0.16704301709799174,
           0.3176641580675247,
           0.6391653288128758,
           0.7116227350079212,
           0.7479682106713705
          ],
          [
           1.0464191783817784,
           0.9429088163106911,
           0.9756735649696471,
           1.0389382986049898,
           0.9330999792846352,
           0.9582985355634498,
           0.9536543711008381,
           1.284036558650599,
           0.9900555369260629,
           0.024747984011605828,
           1.5244844434287637,
           0.6922338175066195,
           0.81869481984576,
           1.3329826376977827,
           0.8069192256951462,
           0.17974999264843006,
           0.8558617193646892,
           0.1486208740417887,
           0.21883500329720262,
           0.6753684604778234,
           0.778669838681021,
           0.9525805930541378,
           1.1520740390517403,
           1.0858497247249246,
           1.0840280531957518,
           1.2646843631286164,
           1.1451340669664607,
           0.9176341821910459
          ],
          [
           1.1208520969731468,
           1.1581959995810562,
           1.1065623398007638,
           1.1712679539093693,
           1.0488881488534543,
           1.0618372707423458,
           0.9896246068200576,
           1.25284806925566,
           1.1284727751881498,
           0.2290090315033162,
           2.03545520092809,
           0.6738127063007928,
           1.0301218178149756,
           1.5971414640322474,
           0.32388301090157157,
           0.6707783964341855,
           1.0202084288276,
           0.4972092065113729,
           0.9269490897714104,
           1.3158046955770646,
           1.1574229235810565,
           1.1338214162100757,
           1.2109788067125546,
           1.1234739115729817,
           1.071450739799716,
           1.1893681274810737,
           1.025747682827563,
           0.8591335140815604
          ],
          [
           1.1713726379007705,
           1.1086662796082218,
           1.0359861782124165,
           1.1455877874992653,
           1.0829108172615165,
           1.0362160344382163,
           0.9934424511840212,
           1.2486329028421017,
           1.361907784272346,
           0.4087352048033215,
           2.2011728713852436,
           0.1856979170749089,
           0.7287171734101592,
           1.0958730741769123,
           -0.5034615138346441,
           0.8720089494202828,
           0.8583090771478628,
           0.3393446067547996,
           0.9408762491047169,
           1.2117958997430436,
           1.0369662839724423,
           1.0545430613253939,
           1.0491894044409744,
           1.0418796050514536,
           1.0255024227244363,
           1.260335396558591,
           1.1490919667911828,
           0.9628030852887082
          ],
          [
           1.0484302482954924,
           0.9634533553737588,
           0.9837703651713418,
           0.965027924856529,
           0.8980423233001738,
           0.9899414109064146,
           1.0588530791691086,
           1.2358872830473941,
           1.4694725299333875,
           0.336897827379701,
           1.9610111613253112,
           -0.227218607670713,
           0.6736787046272356,
           0.7806978034194316,
           -0.39646438013730556,
           1.0107745416609775,
           0.7408693223611813,
           0.5564306196096924,
           1.1040812278018806,
           1.168494919319218,
           0.9217398305790561,
           0.9045724476864714,
           0.949032937183687,
           0.9824362741045358,
           1.0088620627737515,
           1.21833345329125,
           1.0667686710198045,
           0.8229130044825259
          ],
          [
           0.9663942754807338,
           1.0986826483624008,
           1.173207581098373,
           1.1639663806691454,
           1.2020860104079532,
           1.2675208564875147,
           1.2076194036928205,
           1.238703087808313,
           1.5127826060645024,
           0.31024317184228334,
           2.212523300496035,
           0.34671907493633625,
           1.4986516209443541,
           1.2125454204669726,
           0.6514601284369569,
           1.243911742218453,
           0.6576102882968083,
           0.8142774595825514,
           1.0247104993358565,
           1.0175551715206361,
           0.8654770026835283,
           0.9843554102228225,
           1.1056810778740338,
           1.1352865475053615,
           1.069707101709601,
           1.2007347854933776,
           1.1002643640057876,
           1.0732461169739598
          ],
          [
           1.0579094342358892,
           1.194375324664466,
           1.2359141587150297,
           1.2701245895546056,
           1.2673384727557178,
           1.1668469088022493,
           1.1272679434677915,
           1.216136831029913,
           1.5102433174538268,
           0.6805992134489803,
           2.8544928970652776,
           1.1211738336421315,
           1.9547055605367913,
           1.2838807503825416,
           1.2475458440363538,
           1.008040606893032,
           0.4192451233931793,
           0.8898822274148228,
           1.0022376851794172,
           1.0477572505173947,
           0.965586534035628,
           1.1138998628205241,
           1.1583740598494583,
           1.2048187111673276,
           1.195444681748014,
           1.3120801670097848,
           1.2473237954013177,
           1.2217612284515524
          ],
          [
           1.2150879704355673,
           1.1967613303376616,
           1.116869307811322,
           1.0695804371597106,
           1.0531804529992395,
           0.9893359445703352,
           1.1405134030536415,
           1.2568535079273118,
           1.4096577082331099,
           1.0994609877391295,
           2.9692454271431017,
           1.3689119520755764,
           2.0059712005808192,
           1.3708985744237163,
           1.5542954509322138,
           0.9287658799795079,
           0.43091394147106343,
           0.8881852351260205,
           0.9035916524341367,
           0.938757855851494,
           0.9190434542349926,
           1.1332338397697075,
           1.1772963685935198,
           1.2121212497737626,
           1.1888207645393714,
           1.2880267169404467,
           1.239631394572569,
           1.12349073396762
          ],
          [
           1.1205720198872835,
           1.1310190238009177,
           1.0279556372498035,
           1.0216614071586203,
           1.0141025141868831,
           1.0368382263560387,
           1.2329806482855798,
           1.1211466408663577,
           1.087107382694061,
           1.0109866997144399,
           2.1973113676792915,
           1.1103799760692854,
           2.2666978650736658,
           1.741655213772078,
           1.8278893734129849,
           1.2211819650681377,
           0.7392569695347545,
           0.9526789850390741,
           0.9062071889133897,
           0.9273112115619573,
           0.9207243161128857,
           1.1489904767230288,
           1.204513909708593,
           1.1371087070231594,
           1.0763543707318055,
           1.1911968163333748,
           1.2313899238457953,
           1.2560182234244557
          ]
         ]
        },
        {
         "coloraxis": "coloraxis",
         "hovertemplate": "x: %{x}<br>y: %{y}<br>color: %{z}<extra></extra>",
         "name": "8",
         "type": "heatmap",
         "xaxis": "x9",
         "yaxis": "y9",
         "z": [
          [
           -2.1599407706186162,
           -1.3145779983050012,
           0.6556489465952823,
           0.6224638557466992,
           -0.26190965964178703,
           0.48511978700503855,
           0.25268661894724054,
           -1.0288380795994851,
           -1.0945086964322,
           -0.4391552261599069,
           -0.3558728224896862,
           -1.1403603310301884,
           -1.3703226706022975,
           -1.2055115596750803,
           -1.1078825692334024,
           -0.974925815023544,
           -0.8586409333258842,
           -0.9332895682384574,
           -1.0505677808408667,
           -1.1654129650095975,
           -1.3489269681690539,
           -1.6414640133747844,
           -1.5398272450393593,
           -0.9405033072418868,
           -0.7300480126663238,
           -0.517981612206767,
           -0.07310142110273743,
           0.3123258406580024
          ],
          [
           -1.325751222113012,
           0.19016182138772508,
           1.1565545769401098,
           0.5261327978857815,
           0.27080255013094967,
           1.361573123454983,
           1.1142338266560152,
           -1.2448941489822274,
           -2.572075232777479,
           -2.4843105601853757,
           -1.5276053355971557,
           -1.448268264672257,
           -1.5169735764700816,
           -1.2596818356032293,
           -1.0792088090581764,
           -0.9854241738975245,
           -0.9272436644589229,
           -0.8596563541820159,
           -0.9330217738159943,
           -1.1410101947852669,
           -1.3757325213806846,
           -1.3941829102595755,
           -1.0984634940007918,
           -0.8455311562653112,
           -0.6719601860454305,
           -0.14468964354160635,
           0.380330134615112,
           0.12147741949170932
          ],
          [
           0.3059812329142906,
           1.1935543635178125,
           0.9779221787323177,
           0.5227950942765799,
           0.7341176938832276,
           1.3147463604710818,
           1.22142579313009,
           -0.8526843283290082,
           -2.8700700006337816,
           -3.08406320487877,
           -2.19173715779917,
           -1.5253677987614522,
           -1.5612768210427528,
           -1.224369285216055,
           -1.0269334295002508,
           -0.9414080659235673,
           -0.8103178089515166,
           -0.7300068334289851,
           -0.9520092948050674,
           -0.986082417292992,
           -0.7884540570603638,
           -0.33283848711648617,
           -0.5239381347612628,
           -0.8642991119982553,
           -0.46144988258766345,
           0.16790736671832762,
           0.3482758749635958,
           -0.004244954217402008
          ],
          [
           1.2259440479309784,
           1.1542714505771912,
           0.507744006314026,
           0.1782236473672384,
           -0.022766771899142058,
           -0.27947638394225144,
           0.5232105108190231,
           -0.07026074957150064,
           -2.303739731800951,
           -2.8110863709798743,
           -2.5669445244841227,
           -2.489831089159207,
           -2.6614193139703555,
           -1.631966994535781,
           -0.7884607364277341,
           -0.676400728312885,
           -0.8927733714502809,
           -0.969202422327128,
           -0.8527398562666255,
           -0.32670588980730764,
           0.27454362091889206,
           0.05015741916660987,
           -0.7222426645366666,
           -0.7182671083863656,
           -0.04517104697796259,
           0.26408758172685254,
           0.19423653861801493,
           0.2399090646565215
          ],
          [
           0.71259787121777,
           0.16332949057309976,
           -0.2462494218679059,
           -0.6649143525468035,
           -1.1086576861445145,
           -1.1806486668354805,
           -0.06753683567630131,
           0.5740234745750504,
           -1.0985261103466826,
           -1.6403436317444462,
           -2.11574829072986,
           -3.7983496645145,
           -4.8136652261892365,
           -3.164870155574286,
           -1.1832971465465973,
           -0.834890019782467,
           -1.7355080392521351,
           -2.123256811279248,
           -1.051305174848963,
           0.29992867163269543,
           0.06576251349772855,
           -1.255425266062662,
           -1.4225658790312377,
           -0.4598823340315004,
           0.19647964048813849,
           0.22823099171325112,
           0.20232557304473786,
           0.28131404675664395
          ],
          [
           -0.47618439481655445,
           -0.7730804721672837,
           -0.9587962417230802,
           -1.298675307402319,
           -1.3605606440527471,
           -1.170781435472858,
           -0.5699594398290527,
           0.4200781936776161,
           -0.12985352830544494,
           -0.28657016902587995,
           -1.4516406691742216,
           -4.327443601473036,
           -5.754307937124098,
           -4.367720654529668,
           -2.0533363316311335,
           -1.6551030668100144,
           -2.9649737116853605,
           -4.142130051526146,
           -2.469127693856977,
           -0.8455998580272028,
           -1.5379071044041428,
           -2.174169334224896,
           -1.0124729992789114,
           0.23801546819569186,
           0.24807768537896346,
           0.027817026932784372,
           0.04227496990099977,
           0.02811167405185583
          ],
          [
           -1.7564957150187883,
           -2.0456242442226653,
           -2.227447615145788,
           -2.409864574030993,
           -2.223940563688886,
           -1.8397164106861226,
           -1.4557563680778287,
           -0.7979872269492694,
           -0.44197402764658367,
           0.29958765821021094,
           -0.525435777027134,
           -2.895398509850746,
           -3.5710975754347842,
           -3.46400591746013,
           -2.146870976300753,
           -2.123868885611947,
           -3.6683677390112392,
           -5.484679795029785,
           -4.258810251661421,
           -2.96789909815152,
           -2.5284335163166034,
           -1.335375823729731,
           0.16705123198043426,
           0.38952123435881114,
           -0.003954521936702593,
           -0.05930436133473588,
           -0.06587026782171723,
           -0.10741467904991897
          ],
          [
           -2.695008281434465,
           -3.439838351615536,
           -3.626081511580147,
           -3.649857374562155,
           -3.3170996027549893,
           -3.052644364707375,
           -3.0162509456039,
           -3.0561715471693853,
           -2.1767993576283167,
           -0.4180252459223693,
           0.09822503674622196,
           -0.4125971196531091,
           -0.5353677363521722,
           -2.451552470513848,
           -2.3077718391039617,
           -1.3041431634895737,
           -2.510684425360854,
           -4.705982695340441,
           -4.783386840725382,
           -3.590216523339715,
           -1.9190233887959889,
           -0.0002917095794364166,
           0.4641059082809992,
           0.1404394611218477,
           0.06203602590370161,
           0.03679922859791068,
           -0.030207613476582296,
           -0.12873113850393958
          ],
          [
           -2.279511732662671,
           -3.5899708873446032,
           -4.115343466608608,
           -4.210345373228876,
           -3.95887348212072,
           -4.004308712637023,
           -4.441548731615702,
           -5.074885763176176,
           -4.003866065211436,
           -1.9387540005140553,
           -0.9418739643201874,
           0.3168504499544542,
           0.47614508425967894,
           -2.032405021043688,
           -2.4156579863759977,
           0.001669083027650009,
           0.1813453956053377,
           -2.201404745395845,
           -4.093569991241085,
           -2.698367739526938,
           -0.5188776840590945,
           0.6718492893891875,
           0.3341574930324911,
           0.11937106472749626,
           0.15588908064896922,
           0.13475811809593263,
           0.04077216812213347,
           -0.08333771749970459
          ],
          [
           0.018709416845007598,
           -0.8941576024211786,
           -2.2368552174279213,
           -3.1497696988341337,
           -3.571945590302596,
           -3.8624686982922856,
           -4.271092417240582,
           -4.683272307870373,
           -3.8799138896791403,
           -2.498272965741593,
           -1.6998622424731922,
           -0.3594173938655395,
           -0.38514083849376446,
           -2.3634778450019462,
           -2.6821385797061637,
           -0.35946724161210053,
           1.0686780780472405,
           -0.13523187059845304,
           -2.938999708029569,
           -2.6918803531248066,
           -1.3590092712886421,
           -0.22766568931863482,
           0.17536121926688275,
           0.2061078282462132,
           0.12748453036317542,
           0.14979326264599335,
           0.0688523501379893,
           0.0010373562602579711
          ],
          [
           2.06260805653146,
           2.33784976350753,
           1.3766926993259405,
           0.020055767617138287,
           -1.630598858075238,
           -2.280752985032909,
           -2.1701347376082443,
           -2.041386550161282,
           -2.1576724563590073,
           -2.337980281043423,
           -2.3523366802197336,
           -1.9504670094105494,
           -1.5653048718532667,
           -2.333812258881821,
           -3.150410547082681,
           -1.6095832152020426,
           0.06213718904659682,
           0.2720430458569776,
           -1.7248305243774835,
           -3.5180778709490035,
           -4.399715981077517,
           -3.5685427046329146,
           -1.730337556747505,
           -0.7393304641992995,
           -0.4576811640094207,
           -0.20489556408027743,
           -0.0602746326463921,
           -0.1405811050294829
          ],
          [
           2.106629841491464,
           2.6659651051589637,
           2.8382353062990604,
           2.5394445482178334,
           1.024592678766063,
           0.020514051698457214,
           -0.10366621383882235,
           -0.1894016286239658,
           -1.1517262461170161,
           -2.190404917714985,
           -2.2444663248752885,
           -1.5577357878590954,
           -1.060189860713726,
           -1.0200998536620247,
           -2.647030126031296,
           -2.70727557403664,
           -1.1202737294253091,
           -0.23055856954248957,
           -1.1423935482360306,
           -3.691538729175986,
           -5.941174098160075,
           -6.480574000008895,
           -5.337509432019679,
           -4.101624766821642,
           -2.945616453640933,
           -1.904000682621302,
           -0.8895343400240163,
           -0.45027442094993436
          ],
          [
           0.855898032714327,
           1.3646870935062148,
           2.0644410351320106,
           2.69195428848704,
           2.3924357079221497,
           1.8351974524145356,
           1.25336727565247,
           0.4359989588515186,
           -0.7557982278841742,
           -1.747109778690037,
           -1.1631594590139747,
           0.19539019597354967,
           0.8351914562432637,
           0.2922964346512896,
           -1.3885829905668072,
           -3.0303260785089425,
           -1.792791652914262,
           -0.5215071534259121,
           -0.8865286868874123,
           -2.8561572019374624,
           -5.063879284775093,
           -6.15684587499269,
           -6.51804456814656,
           -6.69733387392929,
           -6.14633633049196,
           -5.134873097791719,
           -3.621384376842084,
           -2.0411734049137324
          ],
          [
           -0.163853177283297,
           0.16078618980681092,
           0.9228986284117512,
           1.8072637998511025,
           2.286260400377521,
           2.372015964490759,
           2.3286212704848084,
           1.9780015565330826,
           0.92105386676943,
           -0.3332028165544743,
           -0.00883259371972095,
           1.056523390862099,
           2.190678525040117,
           1.607704932665806,
           0.5949434668315593,
           -1.175160812314676,
           -1.0697468628172182,
           -0.25187930734450414,
           -0.3181072512076232,
           -0.8492071732922091,
           -2.595275834397574,
           -4.450190858470223,
           -5.549553324143345,
           -6.250146415173005,
           -6.72599898957326,
           -6.712987486429918,
           -6.111219387319722,
           -5.058837195090355
          ],
          [
           -0.2356476589701571,
           -0.22536354775975084,
           0.10668832877340118,
           0.8319177047878151,
           1.5660558032424698,
           1.651024833872019,
           2.14610771084795,
           3.2991040486117575,
           3.0902765109517674,
           1.3695505049567949,
           0.4579857829895566,
           1.1125462231669596,
           3.125923660334359,
           3.5941967293442905,
           2.590486835055033,
           0.5590868797195995,
           -0.5926921968470471,
           -0.4576536714113885,
           0.2697891114605625,
           0.7717268644197234,
           -0.13535115650130247,
           -1.8887628738766775,
           -3.496881787345501,
           -4.115893213362433,
           -4.435374782191929,
           -4.915899532203472,
           -5.034194281660571,
           -5.471871121264168
          ],
          [
           -0.09095736090751044,
           -0.04923077671230708,
           -0.023112844477715278,
           0.054938208421199064,
           0.4386158958562193,
           0.6102337489197188,
           0.8609476371962527,
           2.32448538746788,
           3.222588464339639,
           2.159905227165187,
           0.927298979193118,
           1.1784347278766107,
           3.500627646017691,
           4.263933828510454,
           3.5680298585763937,
           1.6226897069777682,
           -0.27595168245489854,
           -0.9088109869165528,
           0.2695296217366535,
           1.5065713427099099,
           1.1537519374014904,
           0.3191239647616765,
           -0.26272472314193124,
           -0.5243241810664923,
           -0.6199604799134608,
           -1.1591574418311543,
           -1.7691925343102546,
           -2.6424340651441813
          ],
          [
           -0.17674264501416864,
           -0.016792196083785293,
           0.0559611560501887,
           -0.11571403812443976,
           -0.2283380300806318,
           0.02729288140922803,
           0.19463555314759462,
           1.2564604683356109,
           2.2020687269793524,
           1.462000520004767,
           1.174901681871586,
           1.6877889186752495,
           3.212247959317971,
           3.7057074523747704,
           3.5399457055707693,
           1.6241617023866333,
           -0.34575986157004907,
           -0.31774260128102993,
           1.3678729459627919,
           2.237785562461595,
           2.099584815527349,
           1.8899923636789868,
           2.0635287145954484,
           2.2203920089223312,
           2.529511950519325,
           2.6470623268585305,
           2.0621801011325744,
           1.292027804702642
          ],
          [
           -0.31871049476340024,
           -0.050835891934637,
           0.1035892507375481,
           -0.029094348919070423,
           -0.1363232985627491,
           0.045282606247376844,
           -0.019500741412689537,
           0.25962234277850404,
           0.8013928455681593,
           0.3252891034796035,
           0.3496002155523731,
           1.3542249689061783,
           2.3846095710524264,
           2.450952110555965,
           2.371623835997006,
           0.5133530367447764,
           -0.622471233117593,
           0.3843143586437572,
           2.509796932519581,
           2.9342888215350054,
           3.1230944764842907,
           3.472513602609612,
           3.8123830128811442,
           4.090709149135168,
           4.216255690399637,
           4.348890366716217,
           4.198688089893099,
           3.978341151684291
          ],
          [
           -0.3692277680429339,
           -0.05939586060715113,
           0.06667664241145388,
           0.050035991075177144,
           0.0792024350295939,
           0.1697989053463339,
           -0.03828187679986117,
           -0.4161142273229749,
           -0.6889800230395017,
           -0.7174432638537354,
           -0.13721335654030042,
           0.7945393706821425,
           1.629538872808539,
           1.4066781489077091,
           1.2998281841896713,
           -0.17644634066087084,
           0.04861092713583837,
           1.5768495040124226,
           3.200684517029877,
           3.5539513472337507,
           3.7640002929522534,
           4.08420165221898,
           3.8860648342378874,
           3.5501967059862887,
           3.1827352887551723,
           2.820402049052964,
           2.5396626576110726,
           2.2939230313570933
          ],
          [
           -0.2676498787076822,
           -0.03231136299207249,
           -0.010741543482662652,
           0.007882108940695354,
           0.08566527851631678,
           0.09618652665083627,
           -0.1646492142747703,
           -0.3324025751796494,
           -0.6052481365905233,
           -0.9441698483402963,
           -0.3406230122627946,
           0.4100472380177973,
           1.0518281516342007,
           0.6382121626359513,
           0.4279494501402319,
           -0.3250272740316012,
           0.5620177988452023,
           1.8561627146866058,
           2.135272302187219,
           1.9796723806450611,
           1.9001017906960072,
           1.7185258363286962,
           1.4682970954079257,
           1.109916758163008,
           0.647791124624871,
           0.35014368711746946,
           0.31027731950739834,
           0.18739105239404164
          ],
          [
           -0.19565258132865848,
           -0.10617848111183281,
           -0.07898775982040934,
           -0.06626086346646343,
           -0.05654172499940957,
           -0.09392456800043869,
           -0.26033598589285256,
           -0.2638095517764916,
           -0.21153077289937353,
           -0.8584303279211402,
           -0.6093717881948766,
           -0.047230707197439326,
           0.2547920310667737,
           -0.15202205348557635,
           -0.5857946331005768,
           -0.9683813490221697,
           -0.36078206018762765,
           0.1503378679373999,
           -0.1213195312197729,
           -0.2500374038873055,
           0.06100472137300195,
           0.3216358245099631,
           0.4292787327078177,
           0.37035336797171425,
           0.07548669812677555,
           -0.08982744009108351,
           0.019563860591444826,
           -0.03155489625867386
          ],
          [
           -0.28567439779624293,
           -0.16338333064659,
           -0.09576655237669224,
           -0.09914745667853997,
           -0.13803522547887126,
           -0.19648923746525185,
           -0.3140045803221483,
           -0.2402987864264834,
           -0.1031635980246064,
           -0.7666891876526839,
           -0.53028179797508,
           -0.6176625352582623,
           -0.8871253836206223,
           -1.101685601883247,
           -1.3586425324364284,
           -1.334142890256774,
           -0.6988609980839776,
           -0.359383256292496,
           -0.6267094221747007,
           -0.37781498027008525,
           0.06880434405480929,
           0.40315482808447056,
           0.4931938159293632,
           0.36691964547054223,
           0.17691346713258793,
           0.08990113650443543,
           0.04036708846768611,
           -0.17104812371238148
          ],
          [
           -0.15179237425810538,
           -0.043347333850329295,
           -0.0580386843334168,
           -0.07577298537666732,
           -0.10384927618653228,
           -0.16533282899737867,
           -0.20315429813418984,
           -0.07567469395249615,
           0.1439984952031692,
           -0.43327858131542674,
           -0.19036389678403087,
           -1.1274601395642376,
           -1.8280548363421762,
           -1.9339491229331238,
           -2.0138785609012717,
           -1.3865110149701667,
           -0.5352290011419291,
           -0.21817262300564955,
           -0.4998436506060318,
           -0.21331581639707536,
           0.16723585015572573,
           0.33832916598529816,
           0.27878766568751856,
           0.22919690026577022,
           0.15599440382427376,
           0.22258352512473822,
           0.08302034506754774,
           -0.2471542341902186
          ],
          [
           0.006495502933135666,
           -0.003990262904666475,
           -0.013796497525820406,
           0.0043858834124800294,
           -0.0014241824865853792,
           -0.06887548523983256,
           -0.05020520312564353,
           0.0821508988742109,
           0.415688893598271,
           -0.04557580057259747,
           0.04023569878568517,
           -1.4222899680022856,
           -2.2462325491517694,
           -2.5819181586211273,
           -2.3406055131991885,
           -1.1862129851531495,
           -0.2738614413668987,
           -0.2927957287702451,
           -0.3364795013905887,
           -0.05332936967326568,
           0.1793071148753722,
           0.21514630428799864,
           0.0654678885452048,
           0.0954024446037175,
           0.1943854512287868,
           0.3777578969289236,
           0.30728813497402185,
           -0.08303269923170925
          ],
          [
           -0.01571534954667919,
           -0.06415680245736471,
           0.04126514470129089,
           0.12356101147216503,
           0.09003280825236426,
           0.053189366455841824,
           0.04272598032748853,
           0.10821484061957831,
           0.5201552102738158,
           0.13448867600704562,
           0.1907508157560257,
           -1.0443478051143291,
           -1.6461533420283363,
           -2.5269336925772268,
           -1.91193467522581,
           -0.7489812572100609,
           -0.03616673132406567,
           -0.24314599896336503,
           -0.14500012532691448,
           0.10596032230898955,
           0.14184744434895336,
           0.058562999935451554,
           -0.015426453482646874,
           0.10277605912331245,
           0.3088180203535351,
           0.4757010112731348,
           0.4287401025907285,
           0.12946349962963122
          ],
          [
           -0.030119877683178198,
           -0.027567150731813816,
           0.14414974575345196,
           0.2631178944005851,
           0.21594021118708828,
           0.1405969734848609,
           0.02579309777866562,
           -0.04949360387547741,
           0.3005050758179305,
           0.12648883644222986,
           0.6808962812169564,
           0.23590399021981412,
           -0.07688992988298454,
           -1.5962047363729739,
           -0.9943410294846083,
           -0.2878906884580731,
           -0.1499552032162627,
           -0.29318267544014176,
           -0.09585985525612356,
           0.14998649558904398,
           0.1276012585227133,
           0.02529509220961962,
           0.07967724349197969,
           0.2928302806773109,
           0.46877308966379805,
           0.571829392218581,
           0.4989525668933722,
           0.3691998258283845
          ],
          [
           0.022191677084323236,
           0.11607486173422876,
           0.21907479441213862,
           0.2094197356729981,
           0.1784117355364332,
           0.00771334026503695,
           -0.13431815602583913,
           -0.17405465041172075,
           -0.12340181750221363,
           -0.08493740185910559,
           1.0745897607139256,
           1.4757166347383874,
           1.2948914581090745,
           -0.20892187237721271,
           -0.12051355439868006,
           -0.14365088960527217,
           -0.378390419318003,
           -0.3475760148639416,
           -0.13048503878130235,
           0.13674983217369363,
           0.1581083494291251,
           0.13970836747510973,
           0.20421626007903115,
           0.4274978541621366,
           0.5450531449443234,
           0.5846895864969467,
           0.5903941652058958,
           0.5836032089567987
          ],
          [
           0.07182505271178174,
           0.1551962687352646,
           0.14524327833870554,
           0.031178192203354382,
           -0.021643035499231078,
           -0.12305444539902571,
           -0.09678757529017595,
           -0.1212621721445456,
           -0.46041269886166275,
           -0.3521565856033658,
           0.8792975497589025,
           1.5693638853012564,
           1.7816194405261476,
           0.9154338991278818,
           0.2785664723187309,
           -0.1704366135111171,
           -0.292799267982226,
           -0.15796706929279336,
           -0.1178545476666848,
           0.09228965151971957,
           0.09893127898318188,
           0.17554415687202773,
           0.27705175544933613,
           0.4563298541504692,
           0.5055808514115133,
           0.49510906896407103,
           0.49180425007397266,
           0.5447845768020853
          ]
         ]
        },
        {
         "coloraxis": "coloraxis",
         "hovertemplate": "x: %{x}<br>y: %{y}<br>color: %{z}<extra></extra>",
         "name": "9",
         "type": "heatmap",
         "xaxis": "x10",
         "yaxis": "y10",
         "z": [
          [
           1.4047704563652867,
           2.0997161467961254,
           1.4946257631942659,
           1.3033566928539766,
           2.106789513340253,
           1.8908731850332907,
           0.6647796195196314,
           -0.569480198918894,
           -0.9430833017427855,
           -1.9562061098031707,
           -1.6047906697011132,
           -1.339958006884292,
           -1.2731880746270416,
           -1.1315123188605596,
           -1.0396058665603374,
           -1.1118066211031579,
           -1.2186010822748308,
           -1.2699776157310319,
           -1.3799560516903755,
           -1.561121420573385,
           -1.5379779344804465,
           -1.0661160971365735,
           -0.6157216352758613,
           -0.42661948475892714,
           -0.37017684317302124,
           -0.02585723834941056,
           -0.0857871422360248,
           -0.566964942319543
          ],
          [
           2.531361545261035,
           1.8199832627958623,
           1.0946227240280795,
           1.741475826516467,
           1.708156130929636,
           0.720062255890958,
           0.043081789381092195,
           -0.7366623204531058,
           -0.747826812607301,
           -1.5404270626180518,
           -1.8468476225735413,
           -1.264717436305638,
           -1.1680681898218879,
           -1.1414968700032144,
           -1.0702936670852716,
           -1.073787309095661,
           -1.10446494838045,
           -1.0879438296790271,
           -1.1267490322230143,
           -0.8631404442039379,
           -0.3188079767151894,
           0.049811127693003776,
           -0.04745102606135598,
           -0.09418983840025641,
           0.0437712065582162,
           -0.024318115073676094,
           -0.17500615403307135,
           -0.254781455206242
          ],
          [
           2.04591112989935,
           0.8437739484829416,
           0.7039470060698416,
           0.6356593490381164,
           -0.11245757129967882,
           -0.4825899175871742,
           -0.5222326342411415,
           -1.0180442553651894,
           -1.0304426469412338,
           -0.7853499707822093,
           -1.8004921867889068,
           -1.5183462362877416,
           -1.2099177807316877,
           -1.1266791206425113,
           -1.0084275604966226,
           -0.9295007617567929,
           -0.9386865503981543,
           -0.785320297590781,
           -0.4614007744971999,
           0.05451024848797359,
           0.283999217062057,
           -0.12208990503299388,
           -0.5024289980326822,
           -0.18931546960387785,
           0.1452880725193838,
           -0.09710187910426915,
           -0.14776582468030397,
           0.18693729513693202
          ],
          [
           0.4458355961660847,
           0.12000963293032563,
           0.14765337858524807,
           -0.34995132749525304,
           -0.6829572383589788,
           -0.6564234069284072,
           -0.3534669492787477,
           -0.9765744201220079,
           -1.5665198050618305,
           -1.0235173762187486,
           -2.451296575947067,
           -3.3051689866520855,
           -2.6694906945992036,
           -1.9094253490433277,
           -1.2589651854386275,
           -1.0154412523782224,
           -1.0972529481340847,
           -0.7281738574846768,
           -0.2123019746856496,
           -0.30877126003054073,
           -0.8749569409608238,
           -1.3595798209443177,
           -0.8004194704277441,
           -0.03926502710800861,
           -0.009485936836362674,
           -0.22843374947768857,
           -0.27376604470313215,
           -0.10038632327896346
          ],
          [
           -0.3266986894371478,
           -0.52570160089415,
           -0.6118603226346291,
           -0.7963988828961018,
           -0.9847069291460243,
           -0.7294465686409315,
           -0.20869650064234535,
           -0.38250001636577063,
           -1.0222977008367877,
           -1.0767326930039516,
           -2.152259220583339,
           -3.443618520056324,
           -3.1472370319981913,
           -2.867676043723553,
           -2.526893461870996,
           -2.5266518551407566,
           -2.3217982761223492,
           -1.7812405512876213,
           -1.3735690632436492,
           -1.5026686703836136,
           -1.6677370165409073,
           -0.9168735891005677,
           -0.005171690989021593,
           -0.1599981636099213,
           -0.4611255861095583,
           -0.39143196406850134,
           -0.3662745658240562,
           -0.5400194252414615
          ],
          [
           -0.7893164528606453,
           -1.1709881819396997,
           -1.312162183689399,
           -1.349691170333629,
           -1.2166203065896042,
           -0.8350976413671731,
           -0.36253682192431885,
           -0.12628711073810112,
           -0.47767213457650354,
           -0.7774264065607984,
           -0.5922654782558403,
           -0.5738203402154743,
           -0.7380089159364356,
           -1.9591790857154803,
           -2.938949414372158,
           -4.018061552679079,
           -3.66107022429156,
           -3.141391002839314,
           -3.198150413196122,
           -2.99937189994656,
           -1.482501237278191,
           0.08141575519949662,
           0.012052392237157039,
           -0.5117755755267106,
           -0.6500651133584875,
           -0.5402591290180638,
           -0.567657590141576,
           -0.7615168457121484
          ],
          [
           -2.45078295746968,
           -2.811649924930567,
           -2.8530337573967888,
           -2.7488948772640693,
           -2.503374847407476,
           -2.3446820063614617,
           -1.8959671840892798,
           -1.443662460975236,
           -1.2487350502270367,
           -1.079365034430115,
           0.12489175980131106,
           0.9721470823372826,
           0.46824825938547865,
           -0.39499451817776016,
           -0.8822398633566826,
           -2.1928375637230944,
           -2.435826903201285,
           -2.020736531550132,
           -2.6135617180998434,
           -2.3856292217580406,
           -0.7645296614316014,
           -0.14311991327823492,
           -0.5460207138630401,
           -0.6304515931379527,
           -0.5869025710273111,
           -0.6429542826429557,
           -0.7932288176045955,
           -0.8681026861230096
          ],
          [
           -2.8764834445261274,
           -3.3898984763945306,
           -3.5117226977336697,
           -3.6180863512380066,
           -3.80174169938887,
           -4.146442642066086,
           -4.00412031091162,
           -3.3539816411269516,
           -2.5079166821815795,
           -1.862092558861364,
           -0.25975638414847224,
           0.7051439243182143,
           -0.5263442957290015,
           -0.2836710373201707,
           0.5552791107519925,
           0.34146931136738834,
           -0.3925406007969857,
           -0.09093479056623666,
           -0.18986046259434503,
           0.4035445266153699,
           0.22448197674565185,
           -0.44845457013265266,
           -0.6753801755479525,
           -0.49392765958522855,
           -0.4802171933638961,
           -0.7360542631401603,
           -0.8617893830881656,
           -0.9085962440714064
          ],
          [
           0.07267755084336647,
           -0.49141172504004665,
           -1.098559443555615,
           -1.6030231156380244,
           -2.021888190220733,
           -2.2086787815096374,
           -2.226262027261246,
           -1.6456980149884348,
           -1.212368897480007,
           -1.2812774198343195,
           -1.083028081430709,
           -1.3483378109822521,
           -2.7068908719225933,
           -1.7862248705564785,
           -0.27307805094915777,
           0.4259116254284756,
           -0.023801286939165944,
           0.01825825277679405,
           0.5605731053348448,
           1.185478577209036,
           0.22251585241879468,
           -0.48981989350408034,
           -0.4672939164528531,
           -0.4956222688487673,
           -0.7018797540794959,
           -0.8310626551268947,
           -0.8547475106705305,
           -0.9307563855864971
          ],
          [
           1.7627372920532178,
           1.8927299153113124,
           1.242537957383893,
           0.37176396615485785,
           -0.19906248966685275,
           0.06371753740116659,
           0.34175519814364597,
           0.548274204826843,
           -0.0767002079580763,
           -0.5131477975722435,
           -0.8289063790024047,
           -1.6942393619521676,
           -1.917335787713425,
           -1.4255355520658395,
           -0.666874616496188,
           -0.4132697580116116,
           -1.016987733536845,
           -1.3098064952954527,
           -0.9483930003291785,
           -1.3773886413112943,
           -1.9906479941811903,
           -1.8239735982972218,
           -1.0417936187635852,
           -0.9172462521330846,
           -1.0861108597299107,
           -1.066323037693914,
           -1.0016836285792625,
           -0.9690522142071925
          ],
          [
           0.8510068270676174,
           1.4950987118318875,
           2.004958856983084,
           1.7200135781163948,
           0.9016969956943397,
           0.5761822896663453,
           0.2815444219594512,
           -0.3129002562673724,
           -0.977878734878433,
           -0.7787136585168539,
           -0.5560060095744702,
           -0.5797154593573505,
           -0.048894890636025146,
           -0.3438311255110849,
           -0.7319878262917279,
           -0.3219227064334065,
           -0.6871385216998129,
           -2.221867368910874,
           -2.454019254467937,
           -3.4128314028346436,
           -4.245070213514593,
           -4.670062556117426,
           -3.9195828427864274,
           -2.719999455965972,
           -1.8214805590507026,
           -1.4705150256967803,
           -1.1791709264642911,
           -0.9957311556416137
          ],
          [
           0.21005501693534956,
           0.3440037047015093,
           1.0950718111082467,
           1.873115117658209,
           2.3186151099694863,
           1.9133104297185166,
           0.8209707210681574,
           -0.4127995416661052,
           -0.5848799136827932,
           0.002086294845159209,
           0.4246262228647657,
           0.5370188206806545,
           0.11787056755719727,
           -0.579910672767493,
           -1.1266677562723657,
           -0.38280711436548137,
           0.6113356437619688,
           -1.3289545075312525,
           -2.170526265290902,
           -2.055124081823619,
           -2.6780213721624433,
           -4.198327673791043,
           -5.682680302548253,
           -5.809439807315228,
           -4.636909344924018,
           -3.4577097551391,
           -2.3121045031280274,
           -1.4033943187526328
          ],
          [
           0.0755390095503301,
           0.17778309914632417,
           0.11866782349951976,
           0.6099264798797546,
           1.69677240480788,
           2.303047783077697,
           2.1343520974862926,
           1.2363701779984073,
           1.0136560975268534,
           1.244333261075956,
           1.4324606734610497,
           1.1086835825442358,
           1.1865414615508094,
           0.8216062201839083,
           0.2411192153359415,
           -0.03778524931494398,
           0.6190286133569385,
           -0.34223927858322506,
           -1.4893289128441367,
           -1.1555731891447676,
           -1.158198461240521,
           -1.2513651847019944,
           -2.7003569171210193,
           -4.343347217088205,
           -5.312448704982012,
           -5.377709501085598,
           -4.812814770201023,
           -3.645408068406895
          ],
          [
           -0.2703181812578788,
           0.059849560288889214,
           0.13743200965235292,
           0.12335954590208431,
           0.09782658167806502,
           0.6511944392433557,
           1.6549799317107212,
           1.8161972453767918,
           1.320300614420433,
           1.1933266068265371,
           1.0215038535618095,
           1.0049180620825484,
           1.8076530202574375,
           1.5513611353273051,
           1.0431078530335434,
           0.7853914825268293,
           0.6336999174285067,
           0.7100609162817375,
           -0.10644614796347451,
           -0.4948876073718533,
           -1.2109397019822419,
           -1.1125136749835225,
           -0.7489573248123644,
           -0.8773620340947856,
           -1.9403853007332041,
           -3.0339075321806908,
           -4.231488320143997,
           -4.99183513341885
          ],
          [
           -0.5614451083081813,
           -0.48900659700537047,
           -0.25931643508168445,
           -0.019493610627272506,
           -0.2640240649062654,
           -0.43540480650959335,
           0.2835718095640397,
           1.3716250294661532,
           1.4358176478915092,
           1.5489851651171687,
           1.41083387430567,
           1.33494214011074,
           1.4331543118734633,
           1.3220475807242629,
           0.8139401442259775,
           0.5022485265561711,
           0.2120598764892253,
           0.7325466536678413,
           1.0012698460090135,
           0.7386319638552288,
           0.012931416294329368,
           -0.292868575496078,
           -0.18720562478829328,
           0.04176204323542976,
           0.2327619904200645,
           0.26971292764430055,
           0.027774389919904108,
           -0.8604698532869676
          ],
          [
           -0.7553279642453348,
           -0.8029964232841447,
           -0.7800254278659472,
           -0.5162261106822477,
           -0.26544951640790304,
           -0.20397808491065578,
           -0.32669542226015685,
           0.028355466978722266,
           0.10604201472415486,
           0.5322071242622315,
           1.3925646745078317,
           1.2626474793555615,
           0.7344607014368596,
           0.2635113228657756,
           -0.3507432223938638,
           -0.6787810734870141,
           -0.3252251215613503,
           0.29091784760888884,
           0.7187978003347859,
           1.0241449816863317,
           1.5899288744426114,
           2.2675117615624494,
           2.940015912176853,
           2.9849757675406856,
           3.0154798703837917,
           3.032970282601565,
           3.291635785375031,
           3.6719180311773485
          ],
          [
           -0.9199346371486454,
           -0.9092818434395057,
           -0.8974877584777446,
           -0.7646469983088149,
           -0.5668257543690127,
           -0.34875318379029463,
           -0.3449084518880432,
           -0.4506922910880413,
           -0.9975714542014817,
           -1.4125195585480177,
           -0.5124045704263113,
           0.10861529475497012,
           -0.07098148926319026,
           -0.3848414333002416,
           -0.7139455105133206,
           -0.6879740200678593,
           0.6966951782540627,
           1.820905735891811,
           2.3250685723456233,
           2.4815137526351396,
           3.282716824613166,
           3.950619882152658,
           4.363253745693925,
           4.42233402230689,
           4.083125511665387,
           3.623977443175776,
           3.1238062940019207,
           2.621164419905023
          ],
          [
           -0.8024206534028745,
           -0.7969004025891,
           -0.7494732469895784,
           -0.7231144547653603,
           -0.6667125731418916,
           -0.7608847875627798,
           -0.8149430836992246,
           -0.6015564822867225,
           -0.2473083091940057,
           -0.5255525274768819,
           -1.124983620582642,
           -0.9819902046240627,
           -0.622414014091132,
           -0.5598119215402211,
           -0.5148287672537263,
           -0.09912807361766296,
           1.5505189329286007,
           2.2214509476021593,
           2.7131811715828125,
           3.0270705557312603,
           2.95338809558105,
           2.439575873684979,
           1.7798279750118338,
           1.4860284235716887,
           1.035287117311864,
           0.5756688778919932,
           0.22354454802183954,
           -0.46254541042494124
          ],
          [
           -0.7602577556103252,
           -0.8470506164170494,
           -0.7961572262074418,
           -0.7609192620678444,
           -0.7890543785920718,
           -0.9408125898286122,
           -1.1203377685135094,
           -0.9639411716738984,
           -0.33627593767988445,
           -0.16287095540718788,
           -0.8675464742922739,
           -1.4176336167598844,
           -1.0330606279496526,
           -0.8908409593577609,
           -0.5852263403088673,
           -0.06565796831889226,
           0.27018577370628094,
           -0.47987949518957573,
           -0.6904937897136689,
           -0.2426044141078338,
           -0.37411242364599706,
           -0.4337936863761618,
           -0.5454041677594513,
           -0.5559312971828002,
           -0.5219200220925885,
           -0.5010348591294046,
           -0.5320355059107025,
           -0.7726726632200276
          ],
          [
           -0.996180999032982,
           -1.0404809986890944,
           -0.9323324307698273,
           -0.9527526929543884,
           -1.0621071470376222,
           -1.0911197963817059,
           -1.123280008286911,
           -0.9921871932705933,
           -0.8444844258059727,
           -1.0067636314839823,
           -1.1558717859481544,
           -1.6313822929692956,
           -1.4841626900600107,
           -1.3489954253902545,
           -0.872673984766339,
           -0.29834629254929584,
           -0.6769174369986323,
           -1.0467291405503891,
           -0.9206082361071443,
           -0.6788707644320877,
           -0.7674452468920272,
           -0.7929807808643283,
           -0.7040229211000537,
           -0.7677390322493093,
           -0.7464780864990799,
           -0.6698797871439207,
           -0.7555664415552993,
           -0.9155595527265963
          ],
          [
           -1.0868479429405433,
           -0.9887081494808523,
           -0.8720033453796087,
           -0.9854687219541718,
           -1.1451054586241416,
           -1.1669853630916105,
           -1.1240888855937916,
           -1.0360077349334933,
           -1.0421720895789555,
           -1.2988545756246874,
           -1.4880272628074644,
           -1.8120441056972385,
           -1.601895883348419,
           -1.4233472656562882,
           -1.030090691291131,
           -0.6756807712704697,
           -1.14453973041832,
           -1.0278326054867368,
           -0.3486490483331808,
           -0.2789752838492331,
           -0.5080236258614383,
           -0.6642131092591803,
           -0.7395040533030462,
           -0.8277920001178659,
           -0.8199851037614413,
           -0.8954463933373528,
           -1.0434216913549945,
           -1.1089256018070166
          ],
          [
           -1.0342728517676096,
           -0.969459626388282,
           -0.9709063908335669,
           -0.9891691751470861,
           -1.041862446487217,
           -1.0752079780682355,
           -1.1139182527692602,
           -1.0548512873442781,
           -1.0875692030640227,
           -1.3626327577916029,
           -1.7832730531757819,
           -2.2035835175187186,
           -1.7665705214612228,
           -1.6818813668918815,
           -1.2127274631918081,
           -0.7750432257450206,
           -1.1349908446827521,
           -1.1167613167948889,
           -0.5286862814243444,
           -0.508745512264557,
           -0.7168705212438559,
           -0.8287581421290127,
           -0.886150651350553,
           -0.9022265955557971,
           -0.8718624653931082,
           -0.9185940102942753,
           -1.0633344266478368,
           -1.0794875412477958
          ],
          [
           -1.0233390503474615,
           -1.061196294247821,
           -1.0957356375589489,
           -1.089039838287074,
           -1.0670160201837824,
           -1.0371227101464753,
           -1.014577757457856,
           -0.9931321392293107,
           -1.0947172885305696,
           -1.507869115027633,
           -2.0767476318512763,
           -2.373070221546106,
           -1.749716157700259,
           -1.6008416734190227,
           -1.1175526453554316,
           -0.8828854386041851,
           -1.0523869264610788,
           -1.0660626364368584,
           -0.7149248737118483,
           -0.9567782854174957,
           -1.0562455812538638,
           -1.0711652367797515,
           -1.0533080219398487,
           -0.9333319758520386,
           -0.9442717821631093,
           -0.9435096812846633,
           -1.0233720783625952,
           -1.0585000203636987
          ],
          [
           -1.010318249044195,
           -0.9398311178341296,
           -0.8868738989066268,
           -0.9505516942184338,
           -0.8974075207031527,
           -0.824611503026299,
           -0.8447647872919624,
           -0.9140151017060361,
           -1.022679397496554,
           -1.470940556484419,
           -1.7637213064721369,
           -1.5926799496253865,
           -0.9790206366774039,
           -0.7407198500711152,
           -0.3352504975870537,
           -0.8539970595310112,
           -0.9784755385835135,
           -0.9502960954363481,
           -0.8774793396916414,
           -1.2076535798898527,
           -1.2270558828562206,
           -1.1421692756947555,
           -0.9891107728465136,
           -0.8711921086420477,
           -0.8812238956584411,
           -0.9390906290676723,
           -0.9107675610458101,
           -0.8626253693948307
          ],
          [
           -0.8875317368033627,
           -0.7856471449363394,
           -0.7927586599115028,
           -0.8043671904632402,
           -0.7843951443872491,
           -0.7882372436023545,
           -0.8813246198489973,
           -0.8665066474338223,
           -0.8510731900856849,
           -1.0730207087318444,
           -0.8592015058848019,
           -0.47692862541314185,
           -0.25028563915679136,
           -0.15515547456143497,
           0.09792082120165257,
           -0.93120427849873,
           -1.0773598886296898,
           -0.8025454293258396,
           -0.9950016387389804,
           -1.1689179948476796,
           -1.1310438469338728,
           -1.0011056292079483,
           -0.8556640388125057,
           -0.7967112579058776,
           -0.7764366826756214,
           -0.8458604267134509,
           -0.7655199171388736,
           -0.6646778179068268
          ],
          [
           -0.6631022965089576,
           -0.7723776647248084,
           -0.9036131839635545,
           -0.9313264974499795,
           -0.968160107032249,
           -0.9927091118318077,
           -0.9773311068370114,
           -0.9035133447195967,
           -0.7783313241514003,
           -0.56609984577135,
           -0.08714842688855107,
           0.1806181578231355,
           0.12762058054675196,
           0.048909330122670625,
           -0.04767410774950376,
           -0.9290866606281882,
           -1.2069334518345274,
           -0.7577972384303369,
           -1.0356671630948893,
           -1.0761070267412471,
           -0.9885684779368916,
           -0.8698457144081359,
           -0.8592880016948967,
           -0.8108624318036316,
           -0.8082219700331218,
           -0.7788114725830826,
           -0.7457756993866348,
           -0.8296109340913383
          ],
          [
           -0.7155791604582593,
           -0.8803734212509413,
           -1.003049423561429,
           -1.1019598625315261,
           -1.1151984039159597,
           -1.117595006893666,
           -1.1098015682097058,
           -1.134892204268934,
           -0.9844577306561326,
           -0.5628985057894413,
           -0.19465992006139782,
           0.12138353205934727,
           0.2841418930206,
           0.15046706456594772,
           -0.30637412160850996,
           -0.7871255660981727,
           -1.0054972431341156,
           -0.7547953547422805,
           -1.0992934754576376,
           -1.0995361920078333,
           -0.9681695556287688,
           -0.8090529304459765,
           -0.8590918315654782,
           -0.8887457939172398,
           -0.9615166260977732,
           -0.8763908495262922,
           -0.7752442137024601,
           -0.8910716343655087
          ],
          [
           -0.9327887751925996,
           -1.046117286778755,
           -1.0802340001327275,
           -1.1086924431537037,
           -1.130968214875109,
           -1.1635306665260678,
           -1.2337895674143686,
           -1.3572461907158229,
           -1.0792296053257737,
           -0.7957118999689979,
           -0.6456710742146471,
           -0.44176733564430115,
           -0.2667528539694959,
           -0.6505038153052223,
           -0.9061961576591335,
           -0.7681441353205064,
           -0.6696803949799913,
           -0.7596160501858602,
           -0.9776745182004329,
           -1.0063621765254105,
           -0.9891055545262615,
           -0.9595425265725593,
           -0.9998834110621904,
           -1.0565602314972098,
           -1.0746021343878542,
           -1.0060464312497595,
           -0.9656050537036183,
           -1.0369177169002373
          ]
         ]
        }
       ],
       "layout": {
        "annotations": [
         {
          "font": {},
          "showarrow": false,
          "text": "facet_col=0",
          "x": 0.04100000000000001,
          "xanchor": "center",
          "xref": "paper",
          "y": 1,
          "yanchor": "bottom",
          "yref": "paper"
         },
         {
          "font": {},
          "showarrow": false,
          "text": "facet_col=1",
          "x": 0.14300000000000004,
          "xanchor": "center",
          "xref": "paper",
          "y": 1,
          "yanchor": "bottom",
          "yref": "paper"
         },
         {
          "font": {},
          "showarrow": false,
          "text": "facet_col=2",
          "x": 0.24500000000000005,
          "xanchor": "center",
          "xref": "paper",
          "y": 1,
          "yanchor": "bottom",
          "yref": "paper"
         },
         {
          "font": {},
          "showarrow": false,
          "text": "facet_col=3",
          "x": 0.3470000000000001,
          "xanchor": "center",
          "xref": "paper",
          "y": 1,
          "yanchor": "bottom",
          "yref": "paper"
         },
         {
          "font": {},
          "showarrow": false,
          "text": "facet_col=4",
          "x": 0.44900000000000007,
          "xanchor": "center",
          "xref": "paper",
          "y": 1,
          "yanchor": "bottom",
          "yref": "paper"
         },
         {
          "font": {},
          "showarrow": false,
          "text": "facet_col=5",
          "x": 0.5510000000000002,
          "xanchor": "center",
          "xref": "paper",
          "y": 1,
          "yanchor": "bottom",
          "yref": "paper"
         },
         {
          "font": {},
          "showarrow": false,
          "text": "facet_col=6",
          "x": 0.6530000000000001,
          "xanchor": "center",
          "xref": "paper",
          "y": 1,
          "yanchor": "bottom",
          "yref": "paper"
         },
         {
          "font": {},
          "showarrow": false,
          "text": "facet_col=7",
          "x": 0.7550000000000001,
          "xanchor": "center",
          "xref": "paper",
          "y": 1,
          "yanchor": "bottom",
          "yref": "paper"
         },
         {
          "font": {},
          "showarrow": false,
          "text": "facet_col=8",
          "x": 0.8570000000000002,
          "xanchor": "center",
          "xref": "paper",
          "y": 1,
          "yanchor": "bottom",
          "yref": "paper"
         },
         {
          "font": {},
          "showarrow": false,
          "text": "facet_col=9",
          "x": 0.9590000000000002,
          "xanchor": "center",
          "xref": "paper",
          "y": 1,
          "yanchor": "bottom",
          "yref": "paper"
         }
        ],
        "coloraxis": {
         "colorscale": [
          [
           0,
           "#0d0887"
          ],
          [
           0.1111111111111111,
           "#46039f"
          ],
          [
           0.2222222222222222,
           "#7201a8"
          ],
          [
           0.3333333333333333,
           "#9c179e"
          ],
          [
           0.4444444444444444,
           "#bd3786"
          ],
          [
           0.5555555555555556,
           "#d8576b"
          ],
          [
           0.6666666666666666,
           "#ed7953"
          ],
          [
           0.7777777777777778,
           "#fb9f3a"
          ],
          [
           0.8888888888888888,
           "#fdca26"
          ],
          [
           1,
           "#f0f921"
          ]
         ]
        },
        "margin": {
         "t": 60
        },
        "template": {
         "data": {
          "bar": [
           {
            "error_x": {
             "color": "#2a3f5f"
            },
            "error_y": {
             "color": "#2a3f5f"
            },
            "marker": {
             "line": {
              "color": "#E5ECF6",
              "width": 0.5
             },
             "pattern": {
              "fillmode": "overlay",
              "size": 10,
              "solidity": 0.2
             }
            },
            "type": "bar"
           }
          ],
          "barpolar": [
           {
            "marker": {
             "line": {
              "color": "#E5ECF6",
              "width": 0.5
             },
             "pattern": {
              "fillmode": "overlay",
              "size": 10,
              "solidity": 0.2
             }
            },
            "type": "barpolar"
           }
          ],
          "carpet": [
           {
            "aaxis": {
             "endlinecolor": "#2a3f5f",
             "gridcolor": "white",
             "linecolor": "white",
             "minorgridcolor": "white",
             "startlinecolor": "#2a3f5f"
            },
            "baxis": {
             "endlinecolor": "#2a3f5f",
             "gridcolor": "white",
             "linecolor": "white",
             "minorgridcolor": "white",
             "startlinecolor": "#2a3f5f"
            },
            "type": "carpet"
           }
          ],
          "choropleth": [
           {
            "colorbar": {
             "outlinewidth": 0,
             "ticks": ""
            },
            "type": "choropleth"
           }
          ],
          "contour": [
           {
            "colorbar": {
             "outlinewidth": 0,
             "ticks": ""
            },
            "colorscale": [
             [
              0,
              "#0d0887"
             ],
             [
              0.1111111111111111,
              "#46039f"
             ],
             [
              0.2222222222222222,
              "#7201a8"
             ],
             [
              0.3333333333333333,
              "#9c179e"
             ],
             [
              0.4444444444444444,
              "#bd3786"
             ],
             [
              0.5555555555555556,
              "#d8576b"
             ],
             [
              0.6666666666666666,
              "#ed7953"
             ],
             [
              0.7777777777777778,
              "#fb9f3a"
             ],
             [
              0.8888888888888888,
              "#fdca26"
             ],
             [
              1,
              "#f0f921"
             ]
            ],
            "type": "contour"
           }
          ],
          "contourcarpet": [
           {
            "colorbar": {
             "outlinewidth": 0,
             "ticks": ""
            },
            "type": "contourcarpet"
           }
          ],
          "heatmap": [
           {
            "colorbar": {
             "outlinewidth": 0,
             "ticks": ""
            },
            "colorscale": [
             [
              0,
              "#0d0887"
             ],
             [
              0.1111111111111111,
              "#46039f"
             ],
             [
              0.2222222222222222,
              "#7201a8"
             ],
             [
              0.3333333333333333,
              "#9c179e"
             ],
             [
              0.4444444444444444,
              "#bd3786"
             ],
             [
              0.5555555555555556,
              "#d8576b"
             ],
             [
              0.6666666666666666,
              "#ed7953"
             ],
             [
              0.7777777777777778,
              "#fb9f3a"
             ],
             [
              0.8888888888888888,
              "#fdca26"
             ],
             [
              1,
              "#f0f921"
             ]
            ],
            "type": "heatmap"
           }
          ],
          "heatmapgl": [
           {
            "colorbar": {
             "outlinewidth": 0,
             "ticks": ""
            },
            "colorscale": [
             [
              0,
              "#0d0887"
             ],
             [
              0.1111111111111111,
              "#46039f"
             ],
             [
              0.2222222222222222,
              "#7201a8"
             ],
             [
              0.3333333333333333,
              "#9c179e"
             ],
             [
              0.4444444444444444,
              "#bd3786"
             ],
             [
              0.5555555555555556,
              "#d8576b"
             ],
             [
              0.6666666666666666,
              "#ed7953"
             ],
             [
              0.7777777777777778,
              "#fb9f3a"
             ],
             [
              0.8888888888888888,
              "#fdca26"
             ],
             [
              1,
              "#f0f921"
             ]
            ],
            "type": "heatmapgl"
           }
          ],
          "histogram": [
           {
            "marker": {
             "pattern": {
              "fillmode": "overlay",
              "size": 10,
              "solidity": 0.2
             }
            },
            "type": "histogram"
           }
          ],
          "histogram2d": [
           {
            "colorbar": {
             "outlinewidth": 0,
             "ticks": ""
            },
            "colorscale": [
             [
              0,
              "#0d0887"
             ],
             [
              0.1111111111111111,
              "#46039f"
             ],
             [
              0.2222222222222222,
              "#7201a8"
             ],
             [
              0.3333333333333333,
              "#9c179e"
             ],
             [
              0.4444444444444444,
              "#bd3786"
             ],
             [
              0.5555555555555556,
              "#d8576b"
             ],
             [
              0.6666666666666666,
              "#ed7953"
             ],
             [
              0.7777777777777778,
              "#fb9f3a"
             ],
             [
              0.8888888888888888,
              "#fdca26"
             ],
             [
              1,
              "#f0f921"
             ]
            ],
            "type": "histogram2d"
           }
          ],
          "histogram2dcontour": [
           {
            "colorbar": {
             "outlinewidth": 0,
             "ticks": ""
            },
            "colorscale": [
             [
              0,
              "#0d0887"
             ],
             [
              0.1111111111111111,
              "#46039f"
             ],
             [
              0.2222222222222222,
              "#7201a8"
             ],
             [
              0.3333333333333333,
              "#9c179e"
             ],
             [
              0.4444444444444444,
              "#bd3786"
             ],
             [
              0.5555555555555556,
              "#d8576b"
             ],
             [
              0.6666666666666666,
              "#ed7953"
             ],
             [
              0.7777777777777778,
              "#fb9f3a"
             ],
             [
              0.8888888888888888,
              "#fdca26"
             ],
             [
              1,
              "#f0f921"
             ]
            ],
            "type": "histogram2dcontour"
           }
          ],
          "mesh3d": [
           {
            "colorbar": {
             "outlinewidth": 0,
             "ticks": ""
            },
            "type": "mesh3d"
           }
          ],
          "parcoords": [
           {
            "line": {
             "colorbar": {
              "outlinewidth": 0,
              "ticks": ""
             }
            },
            "type": "parcoords"
           }
          ],
          "pie": [
           {
            "automargin": true,
            "type": "pie"
           }
          ],
          "scatter": [
           {
            "fillpattern": {
             "fillmode": "overlay",
             "size": 10,
             "solidity": 0.2
            },
            "type": "scatter"
           }
          ],
          "scatter3d": [
           {
            "line": {
             "colorbar": {
              "outlinewidth": 0,
              "ticks": ""
             }
            },
            "marker": {
             "colorbar": {
              "outlinewidth": 0,
              "ticks": ""
             }
            },
            "type": "scatter3d"
           }
          ],
          "scattercarpet": [
           {
            "marker": {
             "colorbar": {
              "outlinewidth": 0,
              "ticks": ""
             }
            },
            "type": "scattercarpet"
           }
          ],
          "scattergeo": [
           {
            "marker": {
             "colorbar": {
              "outlinewidth": 0,
              "ticks": ""
             }
            },
            "type": "scattergeo"
           }
          ],
          "scattergl": [
           {
            "marker": {
             "colorbar": {
              "outlinewidth": 0,
              "ticks": ""
             }
            },
            "type": "scattergl"
           }
          ],
          "scattermapbox": [
           {
            "marker": {
             "colorbar": {
              "outlinewidth": 0,
              "ticks": ""
             }
            },
            "type": "scattermapbox"
           }
          ],
          "scatterpolar": [
           {
            "marker": {
             "colorbar": {
              "outlinewidth": 0,
              "ticks": ""
             }
            },
            "type": "scatterpolar"
           }
          ],
          "scatterpolargl": [
           {
            "marker": {
             "colorbar": {
              "outlinewidth": 0,
              "ticks": ""
             }
            },
            "type": "scatterpolargl"
           }
          ],
          "scatterternary": [
           {
            "marker": {
             "colorbar": {
              "outlinewidth": 0,
              "ticks": ""
             }
            },
            "type": "scatterternary"
           }
          ],
          "surface": [
           {
            "colorbar": {
             "outlinewidth": 0,
             "ticks": ""
            },
            "colorscale": [
             [
              0,
              "#0d0887"
             ],
             [
              0.1111111111111111,
              "#46039f"
             ],
             [
              0.2222222222222222,
              "#7201a8"
             ],
             [
              0.3333333333333333,
              "#9c179e"
             ],
             [
              0.4444444444444444,
              "#bd3786"
             ],
             [
              0.5555555555555556,
              "#d8576b"
             ],
             [
              0.6666666666666666,
              "#ed7953"
             ],
             [
              0.7777777777777778,
              "#fb9f3a"
             ],
             [
              0.8888888888888888,
              "#fdca26"
             ],
             [
              1,
              "#f0f921"
             ]
            ],
            "type": "surface"
           }
          ],
          "table": [
           {
            "cells": {
             "fill": {
              "color": "#EBF0F8"
             },
             "line": {
              "color": "white"
             }
            },
            "header": {
             "fill": {
              "color": "#C8D4E3"
             },
             "line": {
              "color": "white"
             }
            },
            "type": "table"
           }
          ]
         },
         "layout": {
          "annotationdefaults": {
           "arrowcolor": "#2a3f5f",
           "arrowhead": 0,
           "arrowwidth": 1
          },
          "autotypenumbers": "strict",
          "coloraxis": {
           "colorbar": {
            "outlinewidth": 0,
            "ticks": ""
           }
          },
          "colorscale": {
           "diverging": [
            [
             0,
             "#8e0152"
            ],
            [
             0.1,
             "#c51b7d"
            ],
            [
             0.2,
             "#de77ae"
            ],
            [
             0.3,
             "#f1b6da"
            ],
            [
             0.4,
             "#fde0ef"
            ],
            [
             0.5,
             "#f7f7f7"
            ],
            [
             0.6,
             "#e6f5d0"
            ],
            [
             0.7,
             "#b8e186"
            ],
            [
             0.8,
             "#7fbc41"
            ],
            [
             0.9,
             "#4d9221"
            ],
            [
             1,
             "#276419"
            ]
           ],
           "sequential": [
            [
             0,
             "#0d0887"
            ],
            [
             0.1111111111111111,
             "#46039f"
            ],
            [
             0.2222222222222222,
             "#7201a8"
            ],
            [
             0.3333333333333333,
             "#9c179e"
            ],
            [
             0.4444444444444444,
             "#bd3786"
            ],
            [
             0.5555555555555556,
             "#d8576b"
            ],
            [
             0.6666666666666666,
             "#ed7953"
            ],
            [
             0.7777777777777778,
             "#fb9f3a"
            ],
            [
             0.8888888888888888,
             "#fdca26"
            ],
            [
             1,
             "#f0f921"
            ]
           ],
           "sequentialminus": [
            [
             0,
             "#0d0887"
            ],
            [
             0.1111111111111111,
             "#46039f"
            ],
            [
             0.2222222222222222,
             "#7201a8"
            ],
            [
             0.3333333333333333,
             "#9c179e"
            ],
            [
             0.4444444444444444,
             "#bd3786"
            ],
            [
             0.5555555555555556,
             "#d8576b"
            ],
            [
             0.6666666666666666,
             "#ed7953"
            ],
            [
             0.7777777777777778,
             "#fb9f3a"
            ],
            [
             0.8888888888888888,
             "#fdca26"
            ],
            [
             1,
             "#f0f921"
            ]
           ]
          },
          "colorway": [
           "#636efa",
           "#EF553B",
           "#00cc96",
           "#ab63fa",
           "#FFA15A",
           "#19d3f3",
           "#FF6692",
           "#B6E880",
           "#FF97FF",
           "#FECB52"
          ],
          "font": {
           "color": "#2a3f5f"
          },
          "geo": {
           "bgcolor": "white",
           "lakecolor": "white",
           "landcolor": "#E5ECF6",
           "showlakes": true,
           "showland": true,
           "subunitcolor": "white"
          },
          "hoverlabel": {
           "align": "left"
          },
          "hovermode": "closest",
          "mapbox": {
           "style": "light"
          },
          "paper_bgcolor": "white",
          "plot_bgcolor": "#E5ECF6",
          "polar": {
           "angularaxis": {
            "gridcolor": "white",
            "linecolor": "white",
            "ticks": ""
           },
           "bgcolor": "#E5ECF6",
           "radialaxis": {
            "gridcolor": "white",
            "linecolor": "white",
            "ticks": ""
           }
          },
          "scene": {
           "xaxis": {
            "backgroundcolor": "#E5ECF6",
            "gridcolor": "white",
            "gridwidth": 2,
            "linecolor": "white",
            "showbackground": true,
            "ticks": "",
            "zerolinecolor": "white"
           },
           "yaxis": {
            "backgroundcolor": "#E5ECF6",
            "gridcolor": "white",
            "gridwidth": 2,
            "linecolor": "white",
            "showbackground": true,
            "ticks": "",
            "zerolinecolor": "white"
           },
           "zaxis": {
            "backgroundcolor": "#E5ECF6",
            "gridcolor": "white",
            "gridwidth": 2,
            "linecolor": "white",
            "showbackground": true,
            "ticks": "",
            "zerolinecolor": "white"
           }
          },
          "shapedefaults": {
           "line": {
            "color": "#2a3f5f"
           }
          },
          "ternary": {
           "aaxis": {
            "gridcolor": "white",
            "linecolor": "white",
            "ticks": ""
           },
           "baxis": {
            "gridcolor": "white",
            "linecolor": "white",
            "ticks": ""
           },
           "bgcolor": "#E5ECF6",
           "caxis": {
            "gridcolor": "white",
            "linecolor": "white",
            "ticks": ""
           }
          },
          "title": {
           "x": 0.05
          },
          "xaxis": {
           "automargin": true,
           "gridcolor": "white",
           "linecolor": "white",
           "ticks": "",
           "title": {
            "standoff": 15
           },
           "zerolinecolor": "white",
           "zerolinewidth": 2
          },
          "yaxis": {
           "automargin": true,
           "gridcolor": "white",
           "linecolor": "white",
           "ticks": "",
           "title": {
            "standoff": 15
           },
           "zerolinecolor": "white",
           "zerolinewidth": 2
          }
         }
        },
        "xaxis": {
         "anchor": "y",
         "constrain": "domain",
         "domain": [
          0,
          0.08200000000000002
         ],
         "scaleanchor": "y"
        },
        "xaxis10": {
         "anchor": "y10",
         "domain": [
          0.9180000000000001,
          1
         ],
         "matches": "x"
        },
        "xaxis2": {
         "anchor": "y2",
         "domain": [
          0.10200000000000002,
          0.18400000000000005
         ],
         "matches": "x"
        },
        "xaxis3": {
         "anchor": "y3",
         "domain": [
          0.20400000000000004,
          0.28600000000000003
         ],
         "matches": "x"
        },
        "xaxis4": {
         "anchor": "y4",
         "domain": [
          0.30600000000000005,
          0.38800000000000007
         ],
         "matches": "x"
        },
        "xaxis5": {
         "anchor": "y5",
         "domain": [
          0.4080000000000001,
          0.4900000000000001
         ],
         "matches": "x"
        },
        "xaxis6": {
         "anchor": "y6",
         "domain": [
          0.5100000000000001,
          0.5920000000000001
         ],
         "matches": "x"
        },
        "xaxis7": {
         "anchor": "y7",
         "domain": [
          0.6120000000000001,
          0.6940000000000002
         ],
         "matches": "x"
        },
        "xaxis8": {
         "anchor": "y8",
         "domain": [
          0.7140000000000001,
          0.796
         ],
         "matches": "x"
        },
        "xaxis9": {
         "anchor": "y9",
         "domain": [
          0.8160000000000002,
          0.8980000000000001
         ],
         "matches": "x"
        },
        "yaxis": {
         "anchor": "x",
         "autorange": "reversed",
         "constrain": "domain",
         "domain": [
          0,
          1
         ]
        },
        "yaxis10": {
         "anchor": "x10",
         "domain": [
          0,
          1
         ],
         "matches": "y",
         "showticklabels": false
        },
        "yaxis2": {
         "anchor": "x2",
         "domain": [
          0,
          1
         ],
         "matches": "y",
         "showticklabels": false
        },
        "yaxis3": {
         "anchor": "x3",
         "domain": [
          0,
          1
         ],
         "matches": "y",
         "showticklabels": false
        },
        "yaxis4": {
         "anchor": "x4",
         "domain": [
          0,
          1
         ],
         "matches": "y",
         "showticklabels": false
        },
        "yaxis5": {
         "anchor": "x5",
         "domain": [
          0,
          1
         ],
         "matches": "y",
         "showticklabels": false
        },
        "yaxis6": {
         "anchor": "x6",
         "domain": [
          0,
          1
         ],
         "matches": "y",
         "showticklabels": false
        },
        "yaxis7": {
         "anchor": "x7",
         "domain": [
          0,
          1
         ],
         "matches": "y",
         "showticklabels": false
        },
        "yaxis8": {
         "anchor": "x8",
         "domain": [
          0,
          1
         ],
         "matches": "y",
         "showticklabels": false
        },
        "yaxis9": {
         "anchor": "x9",
         "domain": [
          0,
          1
         ],
         "matches": "y",
         "showticklabels": false
        }
       }
      }
     },
     "metadata": {},
     "output_type": "display_data"
    }
   ],
   "source": [
    "img = x_train[[5673]]\n",
    "convs = nn[1].forward(nn[0].forward(img))\n",
    "convs.shape\n",
    "px.imshow(convs[0], facet_col=2)"
   ]
  },
  {
   "cell_type": "code",
   "execution_count": null,
   "metadata": {},
   "outputs": [
    {
     "data": {
      "text/plain": [
       "array([[0.34507341, 0.10575061, 0.0240158 , 0.03988019, 0.00964173,\n",
       "        0.02572158, 0.00364022, 0.04975087, 0.24413487, 0.15239071]])"
      ]
     },
     "execution_count": 54,
     "metadata": {},
     "output_type": "execute_result"
    }
   ],
   "source": [
    "reduce(lambda x, l: l.forward(x), nn, img) #.argmax(axis=1)"
   ]
  },
  {
   "cell_type": "code",
   "execution_count": null,
   "metadata": {},
   "outputs": [
    {
     "data": {
      "text/plain": [
       "array([1., 0., 0., 0., 0., 0., 0., 0., 0., 0.])"
      ]
     },
     "execution_count": 50,
     "metadata": {},
     "output_type": "execute_result"
    }
   ],
   "source": [
    "y_train[5673]"
   ]
  },
  {
   "cell_type": "code",
   "execution_count": null,
   "metadata": {},
   "outputs": [
    {
     "data": {
      "text/plain": [
       "[<layers.Convolutional at 0x7fc6a629ff80>,\n",
       " <layers.BatchNorm at 0x7fc6a629c860>,\n",
       " <layers.Relu at 0x7fc6a629d6d0>,\n",
       " <layers.MaxPool at 0x7fc6a629fef0>,\n",
       " <layers.Convolutional at 0x7fc6a629fbf0>,\n",
       " <layers.BatchNorm at 0x7fc6a660ef00>,\n",
       " <layers.Relu at 0x7fc6ac160ad0>,\n",
       " <layers.MaxPool at 0x7fc6a629c6b0>,\n",
       " <layers.Flatten at 0x7fc6a629fd10>,\n",
       " <layers.Linear at 0x7fc6a629fce0>,\n",
       " <layers.Relu at 0x7fc6ac45ffb0>,\n",
       " <layers.Linear at 0x7fc6a629d160>,\n",
       " <layers.Softmax at 0x7fc6a629c7d0>]"
      ]
     },
     "execution_count": 135,
     "metadata": {},
     "output_type": "execute_result"
    }
   ],
   "source": [
    "nn"
   ]
  },
  {
   "cell_type": "code",
   "execution_count": null,
   "metadata": {},
   "outputs": [],
   "source": [
    "def min_max_normalize(arr:np.ndarray, axis:tuple) -> np.ndarray:\n",
    "    return (arr - arr.min(axis)) / (arr.max(axis) - arr.min(axis))\n"
   ]
  },
  {
   "cell_type": "code",
   "execution_count": null,
   "metadata": {},
   "outputs": [
    {
     "data": {
      "application/vnd.plotly.v1+json": {
       "config": {
        "plotlyServerURL": "https://plot.ly"
       },
       "data": [
        {
         "coloraxis": "coloraxis",
         "hovertemplate": "x: %{x}<br>y: %{y}<br>color: %{z}<extra></extra>",
         "name": "0",
         "type": "heatmap",
         "xaxis": "x",
         "yaxis": "y",
         "z": [
          [
           -11.492905577199888,
           -8.475319482878087,
           -5.552499139506185,
           -5.089976034669913,
           -5.46764475492773,
           -4.274370603093942,
           -4.1953259187677245,
           -1.9151773428634002,
           -1.2344869125479032,
           -2.400270434702109,
           -1.9735948405574155,
           -1.8581957421001387
          ],
          [
           -8.739158597450157,
           -3.6736050046331026,
           -1.6551003262837387,
           -4.150606005640912,
           -4.524053637922179,
           -4.110762093387404,
           -7.022600505734077,
           -4.452721486016419,
           -4.749468587298416,
           -3.647401149949503,
           -2.635438597601763,
           -4.145954800961626
          ],
          [
           -4.7728310301892085,
           -4.840486969112851,
           -2.4651594592322645,
           -3.927671706898844,
           -3.6191320589700746,
           -3.820928285345298,
           -10.145477708967833,
           -4.956059373792483,
           -5.177101251340791,
           -4.659551952539572,
           -5.724077264714837,
           -4.713877698363481
          ],
          [
           -7.129796454472196,
           -7.225870544071408,
           -4.0283473727416235,
           -3.5050839777942073,
           -1.9337222965573595,
           -1.5738604213590428,
           -5.490771754767179,
           -4.499658009219644,
           -6.749559203539612,
           -9.183639271452284,
           -7.074609045337517,
           -4.596594706098845
          ],
          [
           -9.023977212099899,
           -8.245315870101475,
           -6.670263550305686,
           -7.588245434201885,
           -5.545345667517476,
           -5.026609969586216,
           -4.9125030396994624,
           -4.182922726218497,
           -8.217774976966293,
           -9.734920055053466,
           -9.897630429496223,
           -7.555879983485983
          ],
          [
           -6.1688260596835836,
           -8.705092300815677,
           -9.045824054739967,
           -7.634665604288194,
           -8.088439011648727,
           -9.084756039834094,
           -7.522803315928459,
           -4.921484649760264,
           -7.833583252018559,
           -9.834746656836039,
           -12.670543336148073,
           -12.214327711109139
          ],
          [
           -3.4074599809924324,
           -3.228605856886915,
           -7.720786310947151,
           -7.041472477654004,
           -7.133727783630591,
           -11.843119993638085,
           -7.880394059708489,
           -6.327836994951829,
           -7.542286012465737,
           -10.880526777230223,
           -15.789805538224151,
           -19.182943710031427
          ],
          [
           -3.0828871324661824,
           -1.4296930912546637,
           -3.999018249901357,
           -3.847065859720582,
           -2.5644393046458682,
           -8.956063021715638,
           -6.200402302173821,
           -4.3066525754994025,
           -10.453761845878752,
           -12.668006920957163,
           -15.328925298732296,
           -17.510264767462175
          ],
          [
           -1.5995297105737807,
           -1.8393414301217625,
           -3.2434625033942055,
           -1.528008951098472,
           -3.7865286176766837,
           -6.15470074377669,
           -1.078242502574273,
           -1.774108327975235,
           -6.763744983902562,
           -6.699516714642879,
           -8.749417226990342,
           -8.69333954185782
          ],
          [
           -1.646697365260561,
           -1.66569671857845,
           -1.9953284860363318,
           -1.0293804301466305,
           -4.263416115060617,
           -5.698480321823883,
           -1.4268834516171203,
           -3.4254283642894974,
           -5.297105654519697,
           -3.3355311681346045,
           -4.654126115796372,
           -4.257292314809737
          ],
          [
           -1.7880642612119544,
           -1.5355853907220454,
           -1.44135381950926,
           -1.9282890203284975,
           -4.9817083094992425,
           -3.199776915962997,
           -1.5076038905940472,
           -4.328024843111195,
           -3.4391503647139627,
           -2.9561111957648643,
           -2.7077688152024275,
           -2.5195300746774563
          ],
          [
           -1.7433554737213648,
           -1.6402983005585632,
           -1.2991034156006982,
           -1.1613872335284356,
           -3.842448682338669,
           -1.2462523350927133,
           -2.7440686465152617,
           -4.292010716387746,
           -3.128849537411845,
           -3.123380057770698,
           -2.589825634356872,
           -2.9977470210864365
          ]
         ]
        }
       ],
       "layout": {
        "coloraxis": {
         "colorscale": [
          [
           0,
           "#0d0887"
          ],
          [
           0.1111111111111111,
           "#46039f"
          ],
          [
           0.2222222222222222,
           "#7201a8"
          ],
          [
           0.3333333333333333,
           "#9c179e"
          ],
          [
           0.4444444444444444,
           "#bd3786"
          ],
          [
           0.5555555555555556,
           "#d8576b"
          ],
          [
           0.6666666666666666,
           "#ed7953"
          ],
          [
           0.7777777777777778,
           "#fb9f3a"
          ],
          [
           0.8888888888888888,
           "#fdca26"
          ],
          [
           1,
           "#f0f921"
          ]
         ]
        },
        "margin": {
         "t": 60
        },
        "template": {
         "data": {
          "bar": [
           {
            "error_x": {
             "color": "#2a3f5f"
            },
            "error_y": {
             "color": "#2a3f5f"
            },
            "marker": {
             "line": {
              "color": "#E5ECF6",
              "width": 0.5
             },
             "pattern": {
              "fillmode": "overlay",
              "size": 10,
              "solidity": 0.2
             }
            },
            "type": "bar"
           }
          ],
          "barpolar": [
           {
            "marker": {
             "line": {
              "color": "#E5ECF6",
              "width": 0.5
             },
             "pattern": {
              "fillmode": "overlay",
              "size": 10,
              "solidity": 0.2
             }
            },
            "type": "barpolar"
           }
          ],
          "carpet": [
           {
            "aaxis": {
             "endlinecolor": "#2a3f5f",
             "gridcolor": "white",
             "linecolor": "white",
             "minorgridcolor": "white",
             "startlinecolor": "#2a3f5f"
            },
            "baxis": {
             "endlinecolor": "#2a3f5f",
             "gridcolor": "white",
             "linecolor": "white",
             "minorgridcolor": "white",
             "startlinecolor": "#2a3f5f"
            },
            "type": "carpet"
           }
          ],
          "choropleth": [
           {
            "colorbar": {
             "outlinewidth": 0,
             "ticks": ""
            },
            "type": "choropleth"
           }
          ],
          "contour": [
           {
            "colorbar": {
             "outlinewidth": 0,
             "ticks": ""
            },
            "colorscale": [
             [
              0,
              "#0d0887"
             ],
             [
              0.1111111111111111,
              "#46039f"
             ],
             [
              0.2222222222222222,
              "#7201a8"
             ],
             [
              0.3333333333333333,
              "#9c179e"
             ],
             [
              0.4444444444444444,
              "#bd3786"
             ],
             [
              0.5555555555555556,
              "#d8576b"
             ],
             [
              0.6666666666666666,
              "#ed7953"
             ],
             [
              0.7777777777777778,
              "#fb9f3a"
             ],
             [
              0.8888888888888888,
              "#fdca26"
             ],
             [
              1,
              "#f0f921"
             ]
            ],
            "type": "contour"
           }
          ],
          "contourcarpet": [
           {
            "colorbar": {
             "outlinewidth": 0,
             "ticks": ""
            },
            "type": "contourcarpet"
           }
          ],
          "heatmap": [
           {
            "colorbar": {
             "outlinewidth": 0,
             "ticks": ""
            },
            "colorscale": [
             [
              0,
              "#0d0887"
             ],
             [
              0.1111111111111111,
              "#46039f"
             ],
             [
              0.2222222222222222,
              "#7201a8"
             ],
             [
              0.3333333333333333,
              "#9c179e"
             ],
             [
              0.4444444444444444,
              "#bd3786"
             ],
             [
              0.5555555555555556,
              "#d8576b"
             ],
             [
              0.6666666666666666,
              "#ed7953"
             ],
             [
              0.7777777777777778,
              "#fb9f3a"
             ],
             [
              0.8888888888888888,
              "#fdca26"
             ],
             [
              1,
              "#f0f921"
             ]
            ],
            "type": "heatmap"
           }
          ],
          "heatmapgl": [
           {
            "colorbar": {
             "outlinewidth": 0,
             "ticks": ""
            },
            "colorscale": [
             [
              0,
              "#0d0887"
             ],
             [
              0.1111111111111111,
              "#46039f"
             ],
             [
              0.2222222222222222,
              "#7201a8"
             ],
             [
              0.3333333333333333,
              "#9c179e"
             ],
             [
              0.4444444444444444,
              "#bd3786"
             ],
             [
              0.5555555555555556,
              "#d8576b"
             ],
             [
              0.6666666666666666,
              "#ed7953"
             ],
             [
              0.7777777777777778,
              "#fb9f3a"
             ],
             [
              0.8888888888888888,
              "#fdca26"
             ],
             [
              1,
              "#f0f921"
             ]
            ],
            "type": "heatmapgl"
           }
          ],
          "histogram": [
           {
            "marker": {
             "pattern": {
              "fillmode": "overlay",
              "size": 10,
              "solidity": 0.2
             }
            },
            "type": "histogram"
           }
          ],
          "histogram2d": [
           {
            "colorbar": {
             "outlinewidth": 0,
             "ticks": ""
            },
            "colorscale": [
             [
              0,
              "#0d0887"
             ],
             [
              0.1111111111111111,
              "#46039f"
             ],
             [
              0.2222222222222222,
              "#7201a8"
             ],
             [
              0.3333333333333333,
              "#9c179e"
             ],
             [
              0.4444444444444444,
              "#bd3786"
             ],
             [
              0.5555555555555556,
              "#d8576b"
             ],
             [
              0.6666666666666666,
              "#ed7953"
             ],
             [
              0.7777777777777778,
              "#fb9f3a"
             ],
             [
              0.8888888888888888,
              "#fdca26"
             ],
             [
              1,
              "#f0f921"
             ]
            ],
            "type": "histogram2d"
           }
          ],
          "histogram2dcontour": [
           {
            "colorbar": {
             "outlinewidth": 0,
             "ticks": ""
            },
            "colorscale": [
             [
              0,
              "#0d0887"
             ],
             [
              0.1111111111111111,
              "#46039f"
             ],
             [
              0.2222222222222222,
              "#7201a8"
             ],
             [
              0.3333333333333333,
              "#9c179e"
             ],
             [
              0.4444444444444444,
              "#bd3786"
             ],
             [
              0.5555555555555556,
              "#d8576b"
             ],
             [
              0.6666666666666666,
              "#ed7953"
             ],
             [
              0.7777777777777778,
              "#fb9f3a"
             ],
             [
              0.8888888888888888,
              "#fdca26"
             ],
             [
              1,
              "#f0f921"
             ]
            ],
            "type": "histogram2dcontour"
           }
          ],
          "mesh3d": [
           {
            "colorbar": {
             "outlinewidth": 0,
             "ticks": ""
            },
            "type": "mesh3d"
           }
          ],
          "parcoords": [
           {
            "line": {
             "colorbar": {
              "outlinewidth": 0,
              "ticks": ""
             }
            },
            "type": "parcoords"
           }
          ],
          "pie": [
           {
            "automargin": true,
            "type": "pie"
           }
          ],
          "scatter": [
           {
            "fillpattern": {
             "fillmode": "overlay",
             "size": 10,
             "solidity": 0.2
            },
            "type": "scatter"
           }
          ],
          "scatter3d": [
           {
            "line": {
             "colorbar": {
              "outlinewidth": 0,
              "ticks": ""
             }
            },
            "marker": {
             "colorbar": {
              "outlinewidth": 0,
              "ticks": ""
             }
            },
            "type": "scatter3d"
           }
          ],
          "scattercarpet": [
           {
            "marker": {
             "colorbar": {
              "outlinewidth": 0,
              "ticks": ""
             }
            },
            "type": "scattercarpet"
           }
          ],
          "scattergeo": [
           {
            "marker": {
             "colorbar": {
              "outlinewidth": 0,
              "ticks": ""
             }
            },
            "type": "scattergeo"
           }
          ],
          "scattergl": [
           {
            "marker": {
             "colorbar": {
              "outlinewidth": 0,
              "ticks": ""
             }
            },
            "type": "scattergl"
           }
          ],
          "scattermapbox": [
           {
            "marker": {
             "colorbar": {
              "outlinewidth": 0,
              "ticks": ""
             }
            },
            "type": "scattermapbox"
           }
          ],
          "scatterpolar": [
           {
            "marker": {
             "colorbar": {
              "outlinewidth": 0,
              "ticks": ""
             }
            },
            "type": "scatterpolar"
           }
          ],
          "scatterpolargl": [
           {
            "marker": {
             "colorbar": {
              "outlinewidth": 0,
              "ticks": ""
             }
            },
            "type": "scatterpolargl"
           }
          ],
          "scatterternary": [
           {
            "marker": {
             "colorbar": {
              "outlinewidth": 0,
              "ticks": ""
             }
            },
            "type": "scatterternary"
           }
          ],
          "surface": [
           {
            "colorbar": {
             "outlinewidth": 0,
             "ticks": ""
            },
            "colorscale": [
             [
              0,
              "#0d0887"
             ],
             [
              0.1111111111111111,
              "#46039f"
             ],
             [
              0.2222222222222222,
              "#7201a8"
             ],
             [
              0.3333333333333333,
              "#9c179e"
             ],
             [
              0.4444444444444444,
              "#bd3786"
             ],
             [
              0.5555555555555556,
              "#d8576b"
             ],
             [
              0.6666666666666666,
              "#ed7953"
             ],
             [
              0.7777777777777778,
              "#fb9f3a"
             ],
             [
              0.8888888888888888,
              "#fdca26"
             ],
             [
              1,
              "#f0f921"
             ]
            ],
            "type": "surface"
           }
          ],
          "table": [
           {
            "cells": {
             "fill": {
              "color": "#EBF0F8"
             },
             "line": {
              "color": "white"
             }
            },
            "header": {
             "fill": {
              "color": "#C8D4E3"
             },
             "line": {
              "color": "white"
             }
            },
            "type": "table"
           }
          ]
         },
         "layout": {
          "annotationdefaults": {
           "arrowcolor": "#2a3f5f",
           "arrowhead": 0,
           "arrowwidth": 1
          },
          "autotypenumbers": "strict",
          "coloraxis": {
           "colorbar": {
            "outlinewidth": 0,
            "ticks": ""
           }
          },
          "colorscale": {
           "diverging": [
            [
             0,
             "#8e0152"
            ],
            [
             0.1,
             "#c51b7d"
            ],
            [
             0.2,
             "#de77ae"
            ],
            [
             0.3,
             "#f1b6da"
            ],
            [
             0.4,
             "#fde0ef"
            ],
            [
             0.5,
             "#f7f7f7"
            ],
            [
             0.6,
             "#e6f5d0"
            ],
            [
             0.7,
             "#b8e186"
            ],
            [
             0.8,
             "#7fbc41"
            ],
            [
             0.9,
             "#4d9221"
            ],
            [
             1,
             "#276419"
            ]
           ],
           "sequential": [
            [
             0,
             "#0d0887"
            ],
            [
             0.1111111111111111,
             "#46039f"
            ],
            [
             0.2222222222222222,
             "#7201a8"
            ],
            [
             0.3333333333333333,
             "#9c179e"
            ],
            [
             0.4444444444444444,
             "#bd3786"
            ],
            [
             0.5555555555555556,
             "#d8576b"
            ],
            [
             0.6666666666666666,
             "#ed7953"
            ],
            [
             0.7777777777777778,
             "#fb9f3a"
            ],
            [
             0.8888888888888888,
             "#fdca26"
            ],
            [
             1,
             "#f0f921"
            ]
           ],
           "sequentialminus": [
            [
             0,
             "#0d0887"
            ],
            [
             0.1111111111111111,
             "#46039f"
            ],
            [
             0.2222222222222222,
             "#7201a8"
            ],
            [
             0.3333333333333333,
             "#9c179e"
            ],
            [
             0.4444444444444444,
             "#bd3786"
            ],
            [
             0.5555555555555556,
             "#d8576b"
            ],
            [
             0.6666666666666666,
             "#ed7953"
            ],
            [
             0.7777777777777778,
             "#fb9f3a"
            ],
            [
             0.8888888888888888,
             "#fdca26"
            ],
            [
             1,
             "#f0f921"
            ]
           ]
          },
          "colorway": [
           "#636efa",
           "#EF553B",
           "#00cc96",
           "#ab63fa",
           "#FFA15A",
           "#19d3f3",
           "#FF6692",
           "#B6E880",
           "#FF97FF",
           "#FECB52"
          ],
          "font": {
           "color": "#2a3f5f"
          },
          "geo": {
           "bgcolor": "white",
           "lakecolor": "white",
           "landcolor": "#E5ECF6",
           "showlakes": true,
           "showland": true,
           "subunitcolor": "white"
          },
          "hoverlabel": {
           "align": "left"
          },
          "hovermode": "closest",
          "mapbox": {
           "style": "light"
          },
          "paper_bgcolor": "white",
          "plot_bgcolor": "#E5ECF6",
          "polar": {
           "angularaxis": {
            "gridcolor": "white",
            "linecolor": "white",
            "ticks": ""
           },
           "bgcolor": "#E5ECF6",
           "radialaxis": {
            "gridcolor": "white",
            "linecolor": "white",
            "ticks": ""
           }
          },
          "scene": {
           "xaxis": {
            "backgroundcolor": "#E5ECF6",
            "gridcolor": "white",
            "gridwidth": 2,
            "linecolor": "white",
            "showbackground": true,
            "ticks": "",
            "zerolinecolor": "white"
           },
           "yaxis": {
            "backgroundcolor": "#E5ECF6",
            "gridcolor": "white",
            "gridwidth": 2,
            "linecolor": "white",
            "showbackground": true,
            "ticks": "",
            "zerolinecolor": "white"
           },
           "zaxis": {
            "backgroundcolor": "#E5ECF6",
            "gridcolor": "white",
            "gridwidth": 2,
            "linecolor": "white",
            "showbackground": true,
            "ticks": "",
            "zerolinecolor": "white"
           }
          },
          "shapedefaults": {
           "line": {
            "color": "#2a3f5f"
           }
          },
          "ternary": {
           "aaxis": {
            "gridcolor": "white",
            "linecolor": "white",
            "ticks": ""
           },
           "baxis": {
            "gridcolor": "white",
            "linecolor": "white",
            "ticks": ""
           },
           "bgcolor": "#E5ECF6",
           "caxis": {
            "gridcolor": "white",
            "linecolor": "white",
            "ticks": ""
           }
          },
          "title": {
           "x": 0.05
          },
          "xaxis": {
           "automargin": true,
           "gridcolor": "white",
           "linecolor": "white",
           "ticks": "",
           "title": {
            "standoff": 15
           },
           "zerolinecolor": "white",
           "zerolinewidth": 2
          },
          "yaxis": {
           "automargin": true,
           "gridcolor": "white",
           "linecolor": "white",
           "ticks": "",
           "title": {
            "standoff": 15
           },
           "zerolinecolor": "white",
           "zerolinewidth": 2
          }
         }
        },
        "xaxis": {
         "anchor": "y",
         "constrain": "domain",
         "domain": [
          0,
          1
         ],
         "scaleanchor": "y"
        },
        "yaxis": {
         "anchor": "x",
         "autorange": "reversed",
         "constrain": "domain",
         "domain": [
          0,
          1
         ]
        }
       }
      }
     },
     "metadata": {},
     "output_type": "display_data"
    }
   ],
   "source": [
    "from functools import reduce\n",
    "\n",
    "img = x_train[[5673]]\n",
    "convs = reduce(lambda x, l: l.forward(x), nn[:6], img) #nn[1].forward(nn[0].forward(img))\n",
    "convs.shape\n",
    "normed_convs = convs #(convs - convs.min(axis=3, keepdims=True)) / (convs.max(axis=3, keepdims=True) - convs.min(axis=3, keepdims=True))\n",
    "px.imshow(normed_convs.sum(axis=3)[0])"
   ]
  },
  {
   "cell_type": "code",
   "execution_count": null,
   "metadata": {},
   "outputs": [
    {
     "data": {
      "application/vnd.plotly.v1+json": {
       "config": {
        "plotlyServerURL": "https://plot.ly"
       },
       "data": [
        {
         "hovertemplate": "x: %{x}<br>y: %{y}<extra></extra>",
         "name": "0",
         "source": "data:image/png;base64,iVBORw0KGgoAAAANSUhEUgAAAAUAAAAFCAIAAAACDbGyAAAAW0lEQVR4XgFQAK//AH/lOv/9y43C/6ic/+Md/wFXqQAayUgVGWt5X0wApAAE5jIN3rS+H+gvZPkCnHtKAu8MAwt7VB6lBwAtFgVk1AFEkxAq5PAkYSfOXwfF+/XY9iKR5JEmGgAAAABJRU5ErkJggg==",
         "type": "image",
         "xaxis": "x",
         "yaxis": "y"
        },
        {
         "hovertemplate": "x: %{x}<br>y: %{y}<extra></extra>",
         "name": "1",
         "source": "data:image/png;base64,iVBORw0KGgoAAAANSUhEUgAAAAUAAAAFCAIAAAACDbGyAAAAW0lEQVR4XgFQAK//AADjjDf/1E70twXYOABSCATx6C4L5SuDxwUDwOSv1PgEDpPWAOoTTe+cah7kPd0AAgC19wD58DNdBhZNQ4UAAASB7aMe+ufiu9RPDQMINQC3WCLIQVGMJwAAAABJRU5ErkJggg==",
         "type": "image",
         "xaxis": "x2",
         "yaxis": "y2"
        },
        {
         "hovertemplate": "x: %{x}<br>y: %{y}<extra></extra>",
         "name": "2",
         "source": "data:image/png;base64,iVBORw0KGgoAAAANSUhEUgAAAAUAAAAFCAIAAAACDbGyAAAAW0lEQVR4XgFQAK//AHygNxqISAAAACxPMdL/fQEAADcAACg3E3jnMPv+3ZMEABnJOiQ7NDH/Bw/S7CnwAXliCicj9ec5AFlBAIhMSwRgOacm5AC5+wAfAABxAdIhtxsNqE0QAQAAAABJRU5ErkJggg==",
         "type": "image",
         "xaxis": "x3",
         "yaxis": "y3"
        },
        {
         "hovertemplate": "x: %{x}<br>y: %{y}<extra></extra>",
         "name": "3",
         "source": "data:image/png;base64,iVBORw0KGgoAAAANSUhEUgAAAAUAAAAFCAIAAAACDbGyAAAAW0lEQVR4XgFQAK//ATCy29AKviLUo94o1xmtCQTamMwEIvXzWaclOuMS9ukBTr//BNXoIhgWjO2kUu7oARlGowDXAa639N8WQ5shiQC7zf9IAGFdAABwHiK6AAYg2CQwUL7y4AAAAABJRU5ErkJggg==",
         "type": "image",
         "xaxis": "x4",
         "yaxis": "y4"
        },
        {
         "hovertemplate": "x: %{x}<br>y: %{y}<extra></extra>",
         "name": "4",
         "source": "data:image/png;base64,iVBORw0KGgoAAAANSUhEUgAAAAUAAAAFCAIAAAACDbGyAAAAW0lEQVR4XgFQAK//AVqA/8kyAAHSnxkT4WCyCgEsYsfqGRjqAyAA6rpEA/sCISH76ukgAPQALjxG0gPDBC0kz7MJ1SNbJSkDM9IMKgSF/KoP6uwUAUzEiZyHA9zx7h/GdXhAJwAAAABJRU5ErkJggg==",
         "type": "image",
         "xaxis": "x5",
         "yaxis": "y5"
        },
        {
         "hovertemplate": "x: %{x}<br>y: %{y}<extra></extra>",
         "name": "5",
         "source": "data:image/png;base64,iVBORw0KGgoAAAANSUhEUgAAAAUAAAAFCAIAAAACDbGyAAAAW0lEQVR4XgFQAK//AfymAPQuOqbqEcPH1w573gKt5C0PK0DrCT2+yu3QOTMBg/+JNtTK498XuM7fIUg6AID//5L/nh56FwAAAEH3zQKaAOK8+NdDT0YOADNDCDJCEiVG3SRd9wAAAABJRU5ErkJggg==",
         "type": "image",
         "xaxis": "x6",
         "yaxis": "y6"
        },
        {
         "hovertemplate": "x: %{x}<br>y: %{y}<extra></extra>",
         "name": "6",
         "source": "data:image/png;base64,iVBORw0KGgoAAAANSUhEUgAAAAUAAAAFCAIAAAACDbGyAAAAW0lEQVR4XgFQAK//ATz/urh/xu+BORwAxcqp4wLDAEXzACPt8/jQ6Kj/MxAEuvfx9+0Ms42eO0j72jOkBJq1VvkHebSzsQFLPuIFJQEAewBHBEn5GNHsxuYuZma6kyhlhit/nAAAAABJRU5ErkJggg==",
         "type": "image",
         "xaxis": "x7",
         "yaxis": "y7"
        },
        {
         "hovertemplate": "x: %{x}<br>y: %{y}<extra></extra>",
         "name": "7",
         "source": "data:image/png;base64,iVBORw0KGgoAAAANSUhEUgAAAAUAAAAFCAIAAAACDbGyAAAAW0lEQVR4XgFQAK//AIEApQcOhSoeVRkAGNS2QARHeuVNFAoxcZ/AnGYCSSICerCRzQ4GtMDngtzwKnvQATQAANk9TAUr+v+yzFTdkwQ93G5/I/1MAAPBDAM/r4+U7x9ivNN2igAAAABJRU5ErkJggg==",
         "type": "image",
         "xaxis": "x8",
         "yaxis": "y8"
        },
        {
         "hovertemplate": "x: %{x}<br>y: %{y}<extra></extra>",
         "name": "8",
         "source": "data:image/png;base64,iVBORw0KGgoAAAANSUhEUgAAAAUAAAAFCAIAAAACDbGyAAAAW0lEQVR4XgFQAK//AYw6h2ofpgmOPO0L9bBP9gQFJyAEGUrLawLxrvTJAE0ALABCqQAAzAAAzAAzphK8Akaha8QAALwAAAMqUlmiQwEW/Pf4rGEIyuB5tk6TJ/SQyh6ecnJ94AAAAABJRU5ErkJggg==",
         "type": "image",
         "xaxis": "x9",
         "yaxis": "y9"
        },
        {
         "hovertemplate": "x: %{x}<br>y: %{y}<extra></extra>",
         "name": "9",
         "source": "data:image/png;base64,iVBORw0KGgoAAAANSUhEUgAAAAUAAAAFCAIAAAACDbGyAAAAW0lEQVR4XgFQAK//Af9SX6auoRFnGPb76FMRVgLbWv0sRQDLmegsJAC+GQgANM5n5P+l///L///KUpE5BMyI5lBtEwwp3P7DB87wPwEtpO/TnJMAOgMAvOAAIbg0iSbhbrdvwgAAAABJRU5ErkJggg==",
         "type": "image",
         "xaxis": "x10",
         "yaxis": "y10"
        }
       ],
       "layout": {
        "annotations": [
         {
          "font": {},
          "showarrow": false,
          "text": "facet_col=0",
          "x": 0.04100000000000001,
          "xanchor": "center",
          "xref": "paper",
          "y": 1,
          "yanchor": "bottom",
          "yref": "paper"
         },
         {
          "font": {},
          "showarrow": false,
          "text": "facet_col=1",
          "x": 0.14300000000000004,
          "xanchor": "center",
          "xref": "paper",
          "y": 1,
          "yanchor": "bottom",
          "yref": "paper"
         },
         {
          "font": {},
          "showarrow": false,
          "text": "facet_col=2",
          "x": 0.24500000000000005,
          "xanchor": "center",
          "xref": "paper",
          "y": 1,
          "yanchor": "bottom",
          "yref": "paper"
         },
         {
          "font": {},
          "showarrow": false,
          "text": "facet_col=3",
          "x": 0.3470000000000001,
          "xanchor": "center",
          "xref": "paper",
          "y": 1,
          "yanchor": "bottom",
          "yref": "paper"
         },
         {
          "font": {},
          "showarrow": false,
          "text": "facet_col=4",
          "x": 0.44900000000000007,
          "xanchor": "center",
          "xref": "paper",
          "y": 1,
          "yanchor": "bottom",
          "yref": "paper"
         },
         {
          "font": {},
          "showarrow": false,
          "text": "facet_col=5",
          "x": 0.5510000000000002,
          "xanchor": "center",
          "xref": "paper",
          "y": 1,
          "yanchor": "bottom",
          "yref": "paper"
         },
         {
          "font": {},
          "showarrow": false,
          "text": "facet_col=6",
          "x": 0.6530000000000001,
          "xanchor": "center",
          "xref": "paper",
          "y": 1,
          "yanchor": "bottom",
          "yref": "paper"
         },
         {
          "font": {},
          "showarrow": false,
          "text": "facet_col=7",
          "x": 0.7550000000000001,
          "xanchor": "center",
          "xref": "paper",
          "y": 1,
          "yanchor": "bottom",
          "yref": "paper"
         },
         {
          "font": {},
          "showarrow": false,
          "text": "facet_col=8",
          "x": 0.8570000000000002,
          "xanchor": "center",
          "xref": "paper",
          "y": 1,
          "yanchor": "bottom",
          "yref": "paper"
         },
         {
          "font": {},
          "showarrow": false,
          "text": "facet_col=9",
          "x": 0.9590000000000002,
          "xanchor": "center",
          "xref": "paper",
          "y": 1,
          "yanchor": "bottom",
          "yref": "paper"
         }
        ],
        "margin": {
         "t": 60
        },
        "template": {
         "data": {
          "bar": [
           {
            "error_x": {
             "color": "#2a3f5f"
            },
            "error_y": {
             "color": "#2a3f5f"
            },
            "marker": {
             "line": {
              "color": "#E5ECF6",
              "width": 0.5
             },
             "pattern": {
              "fillmode": "overlay",
              "size": 10,
              "solidity": 0.2
             }
            },
            "type": "bar"
           }
          ],
          "barpolar": [
           {
            "marker": {
             "line": {
              "color": "#E5ECF6",
              "width": 0.5
             },
             "pattern": {
              "fillmode": "overlay",
              "size": 10,
              "solidity": 0.2
             }
            },
            "type": "barpolar"
           }
          ],
          "carpet": [
           {
            "aaxis": {
             "endlinecolor": "#2a3f5f",
             "gridcolor": "white",
             "linecolor": "white",
             "minorgridcolor": "white",
             "startlinecolor": "#2a3f5f"
            },
            "baxis": {
             "endlinecolor": "#2a3f5f",
             "gridcolor": "white",
             "linecolor": "white",
             "minorgridcolor": "white",
             "startlinecolor": "#2a3f5f"
            },
            "type": "carpet"
           }
          ],
          "choropleth": [
           {
            "colorbar": {
             "outlinewidth": 0,
             "ticks": ""
            },
            "type": "choropleth"
           }
          ],
          "contour": [
           {
            "colorbar": {
             "outlinewidth": 0,
             "ticks": ""
            },
            "colorscale": [
             [
              0,
              "#0d0887"
             ],
             [
              0.1111111111111111,
              "#46039f"
             ],
             [
              0.2222222222222222,
              "#7201a8"
             ],
             [
              0.3333333333333333,
              "#9c179e"
             ],
             [
              0.4444444444444444,
              "#bd3786"
             ],
             [
              0.5555555555555556,
              "#d8576b"
             ],
             [
              0.6666666666666666,
              "#ed7953"
             ],
             [
              0.7777777777777778,
              "#fb9f3a"
             ],
             [
              0.8888888888888888,
              "#fdca26"
             ],
             [
              1,
              "#f0f921"
             ]
            ],
            "type": "contour"
           }
          ],
          "contourcarpet": [
           {
            "colorbar": {
             "outlinewidth": 0,
             "ticks": ""
            },
            "type": "contourcarpet"
           }
          ],
          "heatmap": [
           {
            "colorbar": {
             "outlinewidth": 0,
             "ticks": ""
            },
            "colorscale": [
             [
              0,
              "#0d0887"
             ],
             [
              0.1111111111111111,
              "#46039f"
             ],
             [
              0.2222222222222222,
              "#7201a8"
             ],
             [
              0.3333333333333333,
              "#9c179e"
             ],
             [
              0.4444444444444444,
              "#bd3786"
             ],
             [
              0.5555555555555556,
              "#d8576b"
             ],
             [
              0.6666666666666666,
              "#ed7953"
             ],
             [
              0.7777777777777778,
              "#fb9f3a"
             ],
             [
              0.8888888888888888,
              "#fdca26"
             ],
             [
              1,
              "#f0f921"
             ]
            ],
            "type": "heatmap"
           }
          ],
          "heatmapgl": [
           {
            "colorbar": {
             "outlinewidth": 0,
             "ticks": ""
            },
            "colorscale": [
             [
              0,
              "#0d0887"
             ],
             [
              0.1111111111111111,
              "#46039f"
             ],
             [
              0.2222222222222222,
              "#7201a8"
             ],
             [
              0.3333333333333333,
              "#9c179e"
             ],
             [
              0.4444444444444444,
              "#bd3786"
             ],
             [
              0.5555555555555556,
              "#d8576b"
             ],
             [
              0.6666666666666666,
              "#ed7953"
             ],
             [
              0.7777777777777778,
              "#fb9f3a"
             ],
             [
              0.8888888888888888,
              "#fdca26"
             ],
             [
              1,
              "#f0f921"
             ]
            ],
            "type": "heatmapgl"
           }
          ],
          "histogram": [
           {
            "marker": {
             "pattern": {
              "fillmode": "overlay",
              "size": 10,
              "solidity": 0.2
             }
            },
            "type": "histogram"
           }
          ],
          "histogram2d": [
           {
            "colorbar": {
             "outlinewidth": 0,
             "ticks": ""
            },
            "colorscale": [
             [
              0,
              "#0d0887"
             ],
             [
              0.1111111111111111,
              "#46039f"
             ],
             [
              0.2222222222222222,
              "#7201a8"
             ],
             [
              0.3333333333333333,
              "#9c179e"
             ],
             [
              0.4444444444444444,
              "#bd3786"
             ],
             [
              0.5555555555555556,
              "#d8576b"
             ],
             [
              0.6666666666666666,
              "#ed7953"
             ],
             [
              0.7777777777777778,
              "#fb9f3a"
             ],
             [
              0.8888888888888888,
              "#fdca26"
             ],
             [
              1,
              "#f0f921"
             ]
            ],
            "type": "histogram2d"
           }
          ],
          "histogram2dcontour": [
           {
            "colorbar": {
             "outlinewidth": 0,
             "ticks": ""
            },
            "colorscale": [
             [
              0,
              "#0d0887"
             ],
             [
              0.1111111111111111,
              "#46039f"
             ],
             [
              0.2222222222222222,
              "#7201a8"
             ],
             [
              0.3333333333333333,
              "#9c179e"
             ],
             [
              0.4444444444444444,
              "#bd3786"
             ],
             [
              0.5555555555555556,
              "#d8576b"
             ],
             [
              0.6666666666666666,
              "#ed7953"
             ],
             [
              0.7777777777777778,
              "#fb9f3a"
             ],
             [
              0.8888888888888888,
              "#fdca26"
             ],
             [
              1,
              "#f0f921"
             ]
            ],
            "type": "histogram2dcontour"
           }
          ],
          "mesh3d": [
           {
            "colorbar": {
             "outlinewidth": 0,
             "ticks": ""
            },
            "type": "mesh3d"
           }
          ],
          "parcoords": [
           {
            "line": {
             "colorbar": {
              "outlinewidth": 0,
              "ticks": ""
             }
            },
            "type": "parcoords"
           }
          ],
          "pie": [
           {
            "automargin": true,
            "type": "pie"
           }
          ],
          "scatter": [
           {
            "fillpattern": {
             "fillmode": "overlay",
             "size": 10,
             "solidity": 0.2
            },
            "type": "scatter"
           }
          ],
          "scatter3d": [
           {
            "line": {
             "colorbar": {
              "outlinewidth": 0,
              "ticks": ""
             }
            },
            "marker": {
             "colorbar": {
              "outlinewidth": 0,
              "ticks": ""
             }
            },
            "type": "scatter3d"
           }
          ],
          "scattercarpet": [
           {
            "marker": {
             "colorbar": {
              "outlinewidth": 0,
              "ticks": ""
             }
            },
            "type": "scattercarpet"
           }
          ],
          "scattergeo": [
           {
            "marker": {
             "colorbar": {
              "outlinewidth": 0,
              "ticks": ""
             }
            },
            "type": "scattergeo"
           }
          ],
          "scattergl": [
           {
            "marker": {
             "colorbar": {
              "outlinewidth": 0,
              "ticks": ""
             }
            },
            "type": "scattergl"
           }
          ],
          "scattermapbox": [
           {
            "marker": {
             "colorbar": {
              "outlinewidth": 0,
              "ticks": ""
             }
            },
            "type": "scattermapbox"
           }
          ],
          "scatterpolar": [
           {
            "marker": {
             "colorbar": {
              "outlinewidth": 0,
              "ticks": ""
             }
            },
            "type": "scatterpolar"
           }
          ],
          "scatterpolargl": [
           {
            "marker": {
             "colorbar": {
              "outlinewidth": 0,
              "ticks": ""
             }
            },
            "type": "scatterpolargl"
           }
          ],
          "scatterternary": [
           {
            "marker": {
             "colorbar": {
              "outlinewidth": 0,
              "ticks": ""
             }
            },
            "type": "scatterternary"
           }
          ],
          "surface": [
           {
            "colorbar": {
             "outlinewidth": 0,
             "ticks": ""
            },
            "colorscale": [
             [
              0,
              "#0d0887"
             ],
             [
              0.1111111111111111,
              "#46039f"
             ],
             [
              0.2222222222222222,
              "#7201a8"
             ],
             [
              0.3333333333333333,
              "#9c179e"
             ],
             [
              0.4444444444444444,
              "#bd3786"
             ],
             [
              0.5555555555555556,
              "#d8576b"
             ],
             [
              0.6666666666666666,
              "#ed7953"
             ],
             [
              0.7777777777777778,
              "#fb9f3a"
             ],
             [
              0.8888888888888888,
              "#fdca26"
             ],
             [
              1,
              "#f0f921"
             ]
            ],
            "type": "surface"
           }
          ],
          "table": [
           {
            "cells": {
             "fill": {
              "color": "#EBF0F8"
             },
             "line": {
              "color": "white"
             }
            },
            "header": {
             "fill": {
              "color": "#C8D4E3"
             },
             "line": {
              "color": "white"
             }
            },
            "type": "table"
           }
          ]
         },
         "layout": {
          "annotationdefaults": {
           "arrowcolor": "#2a3f5f",
           "arrowhead": 0,
           "arrowwidth": 1
          },
          "autotypenumbers": "strict",
          "coloraxis": {
           "colorbar": {
            "outlinewidth": 0,
            "ticks": ""
           }
          },
          "colorscale": {
           "diverging": [
            [
             0,
             "#8e0152"
            ],
            [
             0.1,
             "#c51b7d"
            ],
            [
             0.2,
             "#de77ae"
            ],
            [
             0.3,
             "#f1b6da"
            ],
            [
             0.4,
             "#fde0ef"
            ],
            [
             0.5,
             "#f7f7f7"
            ],
            [
             0.6,
             "#e6f5d0"
            ],
            [
             0.7,
             "#b8e186"
            ],
            [
             0.8,
             "#7fbc41"
            ],
            [
             0.9,
             "#4d9221"
            ],
            [
             1,
             "#276419"
            ]
           ],
           "sequential": [
            [
             0,
             "#0d0887"
            ],
            [
             0.1111111111111111,
             "#46039f"
            ],
            [
             0.2222222222222222,
             "#7201a8"
            ],
            [
             0.3333333333333333,
             "#9c179e"
            ],
            [
             0.4444444444444444,
             "#bd3786"
            ],
            [
             0.5555555555555556,
             "#d8576b"
            ],
            [
             0.6666666666666666,
             "#ed7953"
            ],
            [
             0.7777777777777778,
             "#fb9f3a"
            ],
            [
             0.8888888888888888,
             "#fdca26"
            ],
            [
             1,
             "#f0f921"
            ]
           ],
           "sequentialminus": [
            [
             0,
             "#0d0887"
            ],
            [
             0.1111111111111111,
             "#46039f"
            ],
            [
             0.2222222222222222,
             "#7201a8"
            ],
            [
             0.3333333333333333,
             "#9c179e"
            ],
            [
             0.4444444444444444,
             "#bd3786"
            ],
            [
             0.5555555555555556,
             "#d8576b"
            ],
            [
             0.6666666666666666,
             "#ed7953"
            ],
            [
             0.7777777777777778,
             "#fb9f3a"
            ],
            [
             0.8888888888888888,
             "#fdca26"
            ],
            [
             1,
             "#f0f921"
            ]
           ]
          },
          "colorway": [
           "#636efa",
           "#EF553B",
           "#00cc96",
           "#ab63fa",
           "#FFA15A",
           "#19d3f3",
           "#FF6692",
           "#B6E880",
           "#FF97FF",
           "#FECB52"
          ],
          "font": {
           "color": "#2a3f5f"
          },
          "geo": {
           "bgcolor": "white",
           "lakecolor": "white",
           "landcolor": "#E5ECF6",
           "showlakes": true,
           "showland": true,
           "subunitcolor": "white"
          },
          "hoverlabel": {
           "align": "left"
          },
          "hovermode": "closest",
          "mapbox": {
           "style": "light"
          },
          "paper_bgcolor": "white",
          "plot_bgcolor": "#E5ECF6",
          "polar": {
           "angularaxis": {
            "gridcolor": "white",
            "linecolor": "white",
            "ticks": ""
           },
           "bgcolor": "#E5ECF6",
           "radialaxis": {
            "gridcolor": "white",
            "linecolor": "white",
            "ticks": ""
           }
          },
          "scene": {
           "xaxis": {
            "backgroundcolor": "#E5ECF6",
            "gridcolor": "white",
            "gridwidth": 2,
            "linecolor": "white",
            "showbackground": true,
            "ticks": "",
            "zerolinecolor": "white"
           },
           "yaxis": {
            "backgroundcolor": "#E5ECF6",
            "gridcolor": "white",
            "gridwidth": 2,
            "linecolor": "white",
            "showbackground": true,
            "ticks": "",
            "zerolinecolor": "white"
           },
           "zaxis": {
            "backgroundcolor": "#E5ECF6",
            "gridcolor": "white",
            "gridwidth": 2,
            "linecolor": "white",
            "showbackground": true,
            "ticks": "",
            "zerolinecolor": "white"
           }
          },
          "shapedefaults": {
           "line": {
            "color": "#2a3f5f"
           }
          },
          "ternary": {
           "aaxis": {
            "gridcolor": "white",
            "linecolor": "white",
            "ticks": ""
           },
           "baxis": {
            "gridcolor": "white",
            "linecolor": "white",
            "ticks": ""
           },
           "bgcolor": "#E5ECF6",
           "caxis": {
            "gridcolor": "white",
            "linecolor": "white",
            "ticks": ""
           }
          },
          "title": {
           "x": 0.05
          },
          "xaxis": {
           "automargin": true,
           "gridcolor": "white",
           "linecolor": "white",
           "ticks": "",
           "title": {
            "standoff": 15
           },
           "zerolinecolor": "white",
           "zerolinewidth": 2
          },
          "yaxis": {
           "automargin": true,
           "gridcolor": "white",
           "linecolor": "white",
           "ticks": "",
           "title": {
            "standoff": 15
           },
           "zerolinecolor": "white",
           "zerolinewidth": 2
          }
         }
        },
        "xaxis": {
         "anchor": "y",
         "domain": [
          0,
          0.08200000000000002
         ]
        },
        "xaxis10": {
         "anchor": "y10",
         "domain": [
          0.9180000000000001,
          1
         ],
         "matches": "x"
        },
        "xaxis2": {
         "anchor": "y2",
         "domain": [
          0.10200000000000002,
          0.18400000000000005
         ],
         "matches": "x"
        },
        "xaxis3": {
         "anchor": "y3",
         "domain": [
          0.20400000000000004,
          0.28600000000000003
         ],
         "matches": "x"
        },
        "xaxis4": {
         "anchor": "y4",
         "domain": [
          0.30600000000000005,
          0.38800000000000007
         ],
         "matches": "x"
        },
        "xaxis5": {
         "anchor": "y5",
         "domain": [
          0.4080000000000001,
          0.4900000000000001
         ],
         "matches": "x"
        },
        "xaxis6": {
         "anchor": "y6",
         "domain": [
          0.5100000000000001,
          0.5920000000000001
         ],
         "matches": "x"
        },
        "xaxis7": {
         "anchor": "y7",
         "domain": [
          0.6120000000000001,
          0.6940000000000002
         ],
         "matches": "x"
        },
        "xaxis8": {
         "anchor": "y8",
         "domain": [
          0.7140000000000001,
          0.796
         ],
         "matches": "x"
        },
        "xaxis9": {
         "anchor": "y9",
         "domain": [
          0.8160000000000002,
          0.8980000000000001
         ],
         "matches": "x"
        },
        "yaxis": {
         "anchor": "x",
         "domain": [
          0,
          1
         ]
        },
        "yaxis10": {
         "anchor": "x10",
         "domain": [
          0,
          1
         ],
         "matches": "y",
         "showticklabels": false
        },
        "yaxis2": {
         "anchor": "x2",
         "domain": [
          0,
          1
         ],
         "matches": "y",
         "showticklabels": false
        },
        "yaxis3": {
         "anchor": "x3",
         "domain": [
          0,
          1
         ],
         "matches": "y",
         "showticklabels": false
        },
        "yaxis4": {
         "anchor": "x4",
         "domain": [
          0,
          1
         ],
         "matches": "y",
         "showticklabels": false
        },
        "yaxis5": {
         "anchor": "x5",
         "domain": [
          0,
          1
         ],
         "matches": "y",
         "showticklabels": false
        },
        "yaxis6": {
         "anchor": "x6",
         "domain": [
          0,
          1
         ],
         "matches": "y",
         "showticklabels": false
        },
        "yaxis7": {
         "anchor": "x7",
         "domain": [
          0,
          1
         ],
         "matches": "y",
         "showticklabels": false
        },
        "yaxis8": {
         "anchor": "x8",
         "domain": [
          0,
          1
         ],
         "matches": "y",
         "showticklabels": false
        },
        "yaxis9": {
         "anchor": "x9",
         "domain": [
          0,
          1
         ],
         "matches": "y",
         "showticklabels": false
        }
       }
      }
     },
     "metadata": {},
     "output_type": "display_data"
    }
   ],
   "source": [
    "px.imshow(min_max_normalize(nn[0].kernels[..., 0] , (0)), facet_col=0)"
   ]
  }
 ],
 "metadata": {
  "kernelspec": {
   "display_name": "CNN",
   "language": "python",
   "name": "python3"
  },
  "language_info": {
   "codemirror_mode": {
    "name": "ipython",
    "version": 3
   },
   "file_extension": ".py",
   "mimetype": "text/x-python",
   "name": "python",
   "nbconvert_exporter": "python",
   "pygments_lexer": "ipython3",
   "version": "3.12.9"
  }
 },
 "nbformat": 4,
 "nbformat_minor": 2
}
