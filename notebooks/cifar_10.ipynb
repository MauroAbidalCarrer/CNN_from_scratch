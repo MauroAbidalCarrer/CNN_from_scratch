{
 "cells": [
  {
   "cell_type": "code",
   "execution_count": 1,
   "metadata": {},
   "outputs": [],
   "source": [
    "import numpy as np\n",
    "from numpy import ndarray\n",
    "import plotly.express as px\n",
    "\n",
    "from optimizers import Adam\n",
    "from losses import BinaryCrossentropy\n",
    "from metrics import accuracy, gradient_stats, nn_params_stats, activations_stats\n",
    "from cifar_10_dataset_loading import load_cifar_10\n",
    "from layers import Convolutional, Linear, Relu, BatchNorm, Flatten, Softmax, MaxPool, Layer"
   ]
  },
  {
   "cell_type": "markdown",
   "metadata": {},
   "source": [
    "## Setup"
   ]
  },
  {
   "cell_type": "markdown",
   "metadata": {},
   "source": [
    "### Data extraction"
   ]
  },
  {
   "cell_type": "code",
   "execution_count": 2,
   "metadata": {},
   "outputs": [],
   "source": [
    "x_train, y_train, x_test, y_test = load_cifar_10()"
   ]
  },
  {
   "cell_type": "code",
   "execution_count": 3,
   "metadata": {},
   "outputs": [],
   "source": [
    "classes = y_train.argmax(axis=1)"
   ]
  },
  {
   "cell_type": "code",
   "execution_count": 4,
   "metadata": {},
   "outputs": [
    {
     "data": {
      "text/plain": [
       "dtype('float64')"
      ]
     },
     "execution_count": 4,
     "metadata": {},
     "output_type": "execute_result"
    }
   ],
   "source": [
    "# Change range from [0, 255] to [-1, 1]\n",
    "x_train = x_train / 255  \n",
    "x_train.dtype"
   ]
  },
  {
   "cell_type": "code",
   "execution_count": 5,
   "metadata": {},
   "outputs": [
    {
     "data": {
      "application/vnd.plotly.v1+json": {
       "config": {
        "plotlyServerURL": "https://plot.ly"
       },
       "data": [
        {
         "hovertemplate": "x: %{x}<br>y: %{y}<extra></extra>",
         "name": "0",
         "source": "data:image/png;base64,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",
         "type": "image",
         "xaxis": "x9",
         "yaxis": "y9"
        },
        {
         "hovertemplate": "x: %{x}<br>y: %{y}<extra></extra>",
         "name": "1",
         "source": "data:image/png;base64,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",
         "type": "image",
         "xaxis": "x10",
         "yaxis": "y10"
        },
        {
         "hovertemplate": "x: %{x}<br>y: %{y}<extra></extra>",
         "name": "2",
         "source": "data:image/png;base64,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",
         "type": "image",
         "xaxis": "x11",
         "yaxis": "y11"
        },
        {
         "hovertemplate": "x: %{x}<br>y: %{y}<extra></extra>",
         "name": "3",
         "source": "data:image/png;base64,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",
         "type": "image",
         "xaxis": "x12",
         "yaxis": "y12"
        },
        {
         "hovertemplate": "x: %{x}<br>y: %{y}<extra></extra>",
         "name": "4",
         "source": "data:image/png;base64,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",
         "type": "image",
         "xaxis": "x5",
         "yaxis": "y5"
        },
        {
         "hovertemplate": "x: %{x}<br>y: %{y}<extra></extra>",
         "name": "5",
         "source": "data:image/png;base64,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",
         "type": "image",
         "xaxis": "x6",
         "yaxis": "y6"
        },
        {
         "hovertemplate": "x: %{x}<br>y: %{y}<extra></extra>",
         "name": "6",
         "source": "data:image/png;base64,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",
         "type": "image",
         "xaxis": "x7",
         "yaxis": "y7"
        },
        {
         "hovertemplate": "x: %{x}<br>y: %{y}<extra></extra>",
         "name": "7",
         "source": "data:image/png;base64,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",
         "type": "image",
         "xaxis": "x8",
         "yaxis": "y8"
        },
        {
         "hovertemplate": "x: %{x}<br>y: %{y}<extra></extra>",
         "name": "8",
         "source": "data:image/png;base64,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",
         "type": "image",
         "xaxis": "x",
         "yaxis": "y"
        }
       ],
       "layout": {
        "annotations": [
         {
          "font": {},
          "showarrow": false,
          "text": "facet_col=8",
          "x": 0.1175,
          "xanchor": "center",
          "xref": "paper",
          "y": 0.2866666666666666,
          "yanchor": "bottom",
          "yref": "paper"
         },
         {
          "font": {},
          "showarrow": false,
          "text": "facet_col=4",
          "x": 0.1175,
          "xanchor": "center",
          "xref": "paper",
          "y": 0.6433333333333333,
          "yanchor": "bottom",
          "yref": "paper"
         },
         {
          "font": {},
          "showarrow": false,
          "text": "facet_col=5",
          "x": 0.3725,
          "xanchor": "center",
          "xref": "paper",
          "y": 0.6433333333333333,
          "yanchor": "bottom",
          "yref": "paper"
         },
         {
          "font": {},
          "showarrow": false,
          "text": "facet_col=6",
          "x": 0.6275,
          "xanchor": "center",
          "xref": "paper",
          "y": 0.6433333333333333,
          "yanchor": "bottom",
          "yref": "paper"
         },
         {
          "font": {},
          "showarrow": false,
          "text": "facet_col=7",
          "x": 0.8824999999999998,
          "xanchor": "center",
          "xref": "paper",
          "y": 0.6433333333333333,
          "yanchor": "bottom",
          "yref": "paper"
         },
         {
          "font": {},
          "showarrow": false,
          "text": "facet_col=0",
          "x": 0.1175,
          "xanchor": "center",
          "xref": "paper",
          "y": 0.9999999999999999,
          "yanchor": "bottom",
          "yref": "paper"
         },
         {
          "font": {},
          "showarrow": false,
          "text": "facet_col=1",
          "x": 0.3725,
          "xanchor": "center",
          "xref": "paper",
          "y": 0.9999999999999999,
          "yanchor": "bottom",
          "yref": "paper"
         },
         {
          "font": {},
          "showarrow": false,
          "text": "facet_col=2",
          "x": 0.6275,
          "xanchor": "center",
          "xref": "paper",
          "y": 0.9999999999999999,
          "yanchor": "bottom",
          "yref": "paper"
         },
         {
          "font": {},
          "showarrow": false,
          "text": "facet_col=3",
          "x": 0.8824999999999998,
          "xanchor": "center",
          "xref": "paper",
          "y": 0.9999999999999999,
          "yanchor": "bottom",
          "yref": "paper"
         }
        ],
        "margin": {
         "t": 60
        },
        "template": {
         "data": {
          "bar": [
           {
            "error_x": {
             "color": "#2a3f5f"
            },
            "error_y": {
             "color": "#2a3f5f"
            },
            "marker": {
             "line": {
              "color": "#E5ECF6",
              "width": 0.5
             },
             "pattern": {
              "fillmode": "overlay",
              "size": 10,
              "solidity": 0.2
             }
            },
            "type": "bar"
           }
          ],
          "barpolar": [
           {
            "marker": {
             "line": {
              "color": "#E5ECF6",
              "width": 0.5
             },
             "pattern": {
              "fillmode": "overlay",
              "size": 10,
              "solidity": 0.2
             }
            },
            "type": "barpolar"
           }
          ],
          "carpet": [
           {
            "aaxis": {
             "endlinecolor": "#2a3f5f",
             "gridcolor": "white",
             "linecolor": "white",
             "minorgridcolor": "white",
             "startlinecolor": "#2a3f5f"
            },
            "baxis": {
             "endlinecolor": "#2a3f5f",
             "gridcolor": "white",
             "linecolor": "white",
             "minorgridcolor": "white",
             "startlinecolor": "#2a3f5f"
            },
            "type": "carpet"
           }
          ],
          "choropleth": [
           {
            "colorbar": {
             "outlinewidth": 0,
             "ticks": ""
            },
            "type": "choropleth"
           }
          ],
          "contour": [
           {
            "colorbar": {
             "outlinewidth": 0,
             "ticks": ""
            },
            "colorscale": [
             [
              0,
              "#0d0887"
             ],
             [
              0.1111111111111111,
              "#46039f"
             ],
             [
              0.2222222222222222,
              "#7201a8"
             ],
             [
              0.3333333333333333,
              "#9c179e"
             ],
             [
              0.4444444444444444,
              "#bd3786"
             ],
             [
              0.5555555555555556,
              "#d8576b"
             ],
             [
              0.6666666666666666,
              "#ed7953"
             ],
             [
              0.7777777777777778,
              "#fb9f3a"
             ],
             [
              0.8888888888888888,
              "#fdca26"
             ],
             [
              1,
              "#f0f921"
             ]
            ],
            "type": "contour"
           }
          ],
          "contourcarpet": [
           {
            "colorbar": {
             "outlinewidth": 0,
             "ticks": ""
            },
            "type": "contourcarpet"
           }
          ],
          "heatmap": [
           {
            "colorbar": {
             "outlinewidth": 0,
             "ticks": ""
            },
            "colorscale": [
             [
              0,
              "#0d0887"
             ],
             [
              0.1111111111111111,
              "#46039f"
             ],
             [
              0.2222222222222222,
              "#7201a8"
             ],
             [
              0.3333333333333333,
              "#9c179e"
             ],
             [
              0.4444444444444444,
              "#bd3786"
             ],
             [
              0.5555555555555556,
              "#d8576b"
             ],
             [
              0.6666666666666666,
              "#ed7953"
             ],
             [
              0.7777777777777778,
              "#fb9f3a"
             ],
             [
              0.8888888888888888,
              "#fdca26"
             ],
             [
              1,
              "#f0f921"
             ]
            ],
            "type": "heatmap"
           }
          ],
          "heatmapgl": [
           {
            "colorbar": {
             "outlinewidth": 0,
             "ticks": ""
            },
            "colorscale": [
             [
              0,
              "#0d0887"
             ],
             [
              0.1111111111111111,
              "#46039f"
             ],
             [
              0.2222222222222222,
              "#7201a8"
             ],
             [
              0.3333333333333333,
              "#9c179e"
             ],
             [
              0.4444444444444444,
              "#bd3786"
             ],
             [
              0.5555555555555556,
              "#d8576b"
             ],
             [
              0.6666666666666666,
              "#ed7953"
             ],
             [
              0.7777777777777778,
              "#fb9f3a"
             ],
             [
              0.8888888888888888,
              "#fdca26"
             ],
             [
              1,
              "#f0f921"
             ]
            ],
            "type": "heatmapgl"
           }
          ],
          "histogram": [
           {
            "marker": {
             "pattern": {
              "fillmode": "overlay",
              "size": 10,
              "solidity": 0.2
             }
            },
            "type": "histogram"
           }
          ],
          "histogram2d": [
           {
            "colorbar": {
             "outlinewidth": 0,
             "ticks": ""
            },
            "colorscale": [
             [
              0,
              "#0d0887"
             ],
             [
              0.1111111111111111,
              "#46039f"
             ],
             [
              0.2222222222222222,
              "#7201a8"
             ],
             [
              0.3333333333333333,
              "#9c179e"
             ],
             [
              0.4444444444444444,
              "#bd3786"
             ],
             [
              0.5555555555555556,
              "#d8576b"
             ],
             [
              0.6666666666666666,
              "#ed7953"
             ],
             [
              0.7777777777777778,
              "#fb9f3a"
             ],
             [
              0.8888888888888888,
              "#fdca26"
             ],
             [
              1,
              "#f0f921"
             ]
            ],
            "type": "histogram2d"
           }
          ],
          "histogram2dcontour": [
           {
            "colorbar": {
             "outlinewidth": 0,
             "ticks": ""
            },
            "colorscale": [
             [
              0,
              "#0d0887"
             ],
             [
              0.1111111111111111,
              "#46039f"
             ],
             [
              0.2222222222222222,
              "#7201a8"
             ],
             [
              0.3333333333333333,
              "#9c179e"
             ],
             [
              0.4444444444444444,
              "#bd3786"
             ],
             [
              0.5555555555555556,
              "#d8576b"
             ],
             [
              0.6666666666666666,
              "#ed7953"
             ],
             [
              0.7777777777777778,
              "#fb9f3a"
             ],
             [
              0.8888888888888888,
              "#fdca26"
             ],
             [
              1,
              "#f0f921"
             ]
            ],
            "type": "histogram2dcontour"
           }
          ],
          "mesh3d": [
           {
            "colorbar": {
             "outlinewidth": 0,
             "ticks": ""
            },
            "type": "mesh3d"
           }
          ],
          "parcoords": [
           {
            "line": {
             "colorbar": {
              "outlinewidth": 0,
              "ticks": ""
             }
            },
            "type": "parcoords"
           }
          ],
          "pie": [
           {
            "automargin": true,
            "type": "pie"
           }
          ],
          "scatter": [
           {
            "fillpattern": {
             "fillmode": "overlay",
             "size": 10,
             "solidity": 0.2
            },
            "type": "scatter"
           }
          ],
          "scatter3d": [
           {
            "line": {
             "colorbar": {
              "outlinewidth": 0,
              "ticks": ""
             }
            },
            "marker": {
             "colorbar": {
              "outlinewidth": 0,
              "ticks": ""
             }
            },
            "type": "scatter3d"
           }
          ],
          "scattercarpet": [
           {
            "marker": {
             "colorbar": {
              "outlinewidth": 0,
              "ticks": ""
             }
            },
            "type": "scattercarpet"
           }
          ],
          "scattergeo": [
           {
            "marker": {
             "colorbar": {
              "outlinewidth": 0,
              "ticks": ""
             }
            },
            "type": "scattergeo"
           }
          ],
          "scattergl": [
           {
            "marker": {
             "colorbar": {
              "outlinewidth": 0,
              "ticks": ""
             }
            },
            "type": "scattergl"
           }
          ],
          "scattermapbox": [
           {
            "marker": {
             "colorbar": {
              "outlinewidth": 0,
              "ticks": ""
             }
            },
            "type": "scattermapbox"
           }
          ],
          "scatterpolar": [
           {
            "marker": {
             "colorbar": {
              "outlinewidth": 0,
              "ticks": ""
             }
            },
            "type": "scatterpolar"
           }
          ],
          "scatterpolargl": [
           {
            "marker": {
             "colorbar": {
              "outlinewidth": 0,
              "ticks": ""
             }
            },
            "type": "scatterpolargl"
           }
          ],
          "scatterternary": [
           {
            "marker": {
             "colorbar": {
              "outlinewidth": 0,
              "ticks": ""
             }
            },
            "type": "scatterternary"
           }
          ],
          "surface": [
           {
            "colorbar": {
             "outlinewidth": 0,
             "ticks": ""
            },
            "colorscale": [
             [
              0,
              "#0d0887"
             ],
             [
              0.1111111111111111,
              "#46039f"
             ],
             [
              0.2222222222222222,
              "#7201a8"
             ],
             [
              0.3333333333333333,
              "#9c179e"
             ],
             [
              0.4444444444444444,
              "#bd3786"
             ],
             [
              0.5555555555555556,
              "#d8576b"
             ],
             [
              0.6666666666666666,
              "#ed7953"
             ],
             [
              0.7777777777777778,
              "#fb9f3a"
             ],
             [
              0.8888888888888888,
              "#fdca26"
             ],
             [
              1,
              "#f0f921"
             ]
            ],
            "type": "surface"
           }
          ],
          "table": [
           {
            "cells": {
             "fill": {
              "color": "#EBF0F8"
             },
             "line": {
              "color": "white"
             }
            },
            "header": {
             "fill": {
              "color": "#C8D4E3"
             },
             "line": {
              "color": "white"
             }
            },
            "type": "table"
           }
          ]
         },
         "layout": {
          "annotationdefaults": {
           "arrowcolor": "#2a3f5f",
           "arrowhead": 0,
           "arrowwidth": 1
          },
          "autotypenumbers": "strict",
          "coloraxis": {
           "colorbar": {
            "outlinewidth": 0,
            "ticks": ""
           }
          },
          "colorscale": {
           "diverging": [
            [
             0,
             "#8e0152"
            ],
            [
             0.1,
             "#c51b7d"
            ],
            [
             0.2,
             "#de77ae"
            ],
            [
             0.3,
             "#f1b6da"
            ],
            [
             0.4,
             "#fde0ef"
            ],
            [
             0.5,
             "#f7f7f7"
            ],
            [
             0.6,
             "#e6f5d0"
            ],
            [
             0.7,
             "#b8e186"
            ],
            [
             0.8,
             "#7fbc41"
            ],
            [
             0.9,
             "#4d9221"
            ],
            [
             1,
             "#276419"
            ]
           ],
           "sequential": [
            [
             0,
             "#0d0887"
            ],
            [
             0.1111111111111111,
             "#46039f"
            ],
            [
             0.2222222222222222,
             "#7201a8"
            ],
            [
             0.3333333333333333,
             "#9c179e"
            ],
            [
             0.4444444444444444,
             "#bd3786"
            ],
            [
             0.5555555555555556,
             "#d8576b"
            ],
            [
             0.6666666666666666,
             "#ed7953"
            ],
            [
             0.7777777777777778,
             "#fb9f3a"
            ],
            [
             0.8888888888888888,
             "#fdca26"
            ],
            [
             1,
             "#f0f921"
            ]
           ],
           "sequentialminus": [
            [
             0,
             "#0d0887"
            ],
            [
             0.1111111111111111,
             "#46039f"
            ],
            [
             0.2222222222222222,
             "#7201a8"
            ],
            [
             0.3333333333333333,
             "#9c179e"
            ],
            [
             0.4444444444444444,
             "#bd3786"
            ],
            [
             0.5555555555555556,
             "#d8576b"
            ],
            [
             0.6666666666666666,
             "#ed7953"
            ],
            [
             0.7777777777777778,
             "#fb9f3a"
            ],
            [
             0.8888888888888888,
             "#fdca26"
            ],
            [
             1,
             "#f0f921"
            ]
           ]
          },
          "colorway": [
           "#636efa",
           "#EF553B",
           "#00cc96",
           "#ab63fa",
           "#FFA15A",
           "#19d3f3",
           "#FF6692",
           "#B6E880",
           "#FF97FF",
           "#FECB52"
          ],
          "font": {
           "color": "#2a3f5f"
          },
          "geo": {
           "bgcolor": "white",
           "lakecolor": "white",
           "landcolor": "#E5ECF6",
           "showlakes": true,
           "showland": true,
           "subunitcolor": "white"
          },
          "hoverlabel": {
           "align": "left"
          },
          "hovermode": "closest",
          "mapbox": {
           "style": "light"
          },
          "paper_bgcolor": "white",
          "plot_bgcolor": "#E5ECF6",
          "polar": {
           "angularaxis": {
            "gridcolor": "white",
            "linecolor": "white",
            "ticks": ""
           },
           "bgcolor": "#E5ECF6",
           "radialaxis": {
            "gridcolor": "white",
            "linecolor": "white",
            "ticks": ""
           }
          },
          "scene": {
           "xaxis": {
            "backgroundcolor": "#E5ECF6",
            "gridcolor": "white",
            "gridwidth": 2,
            "linecolor": "white",
            "showbackground": true,
            "ticks": "",
            "zerolinecolor": "white"
           },
           "yaxis": {
            "backgroundcolor": "#E5ECF6",
            "gridcolor": "white",
            "gridwidth": 2,
            "linecolor": "white",
            "showbackground": true,
            "ticks": "",
            "zerolinecolor": "white"
           },
           "zaxis": {
            "backgroundcolor": "#E5ECF6",
            "gridcolor": "white",
            "gridwidth": 2,
            "linecolor": "white",
            "showbackground": true,
            "ticks": "",
            "zerolinecolor": "white"
           }
          },
          "shapedefaults": {
           "line": {
            "color": "#2a3f5f"
           }
          },
          "ternary": {
           "aaxis": {
            "gridcolor": "white",
            "linecolor": "white",
            "ticks": ""
           },
           "baxis": {
            "gridcolor": "white",
            "linecolor": "white",
            "ticks": ""
           },
           "bgcolor": "#E5ECF6",
           "caxis": {
            "gridcolor": "white",
            "linecolor": "white",
            "ticks": ""
           }
          },
          "title": {
           "x": 0.05
          },
          "xaxis": {
           "automargin": true,
           "gridcolor": "white",
           "linecolor": "white",
           "ticks": "",
           "title": {
            "standoff": 15
           },
           "zerolinecolor": "white",
           "zerolinewidth": 2
          },
          "yaxis": {
           "automargin": true,
           "gridcolor": "white",
           "linecolor": "white",
           "ticks": "",
           "title": {
            "standoff": 15
           },
           "zerolinecolor": "white",
           "zerolinewidth": 2
          }
         }
        },
        "xaxis": {
         "anchor": "y",
         "domain": [
          0,
          0.235
         ]
        },
        "xaxis10": {
         "anchor": "y10",
         "domain": [
          0.255,
          0.49
         ],
         "matches": "x",
         "showticklabels": false
        },
        "xaxis11": {
         "anchor": "y11",
         "domain": [
          0.51,
          0.745
         ],
         "matches": "x",
         "showticklabels": false
        },
        "xaxis12": {
         "anchor": "y12",
         "domain": [
          0.7649999999999999,
          0.9999999999999999
         ],
         "matches": "x",
         "showticklabels": false
        },
        "xaxis2": {
         "anchor": "y2",
         "domain": [
          0.255,
          0.49
         ],
         "matches": "x"
        },
        "xaxis3": {
         "anchor": "y3",
         "domain": [
          0.51,
          0.745
         ],
         "matches": "x"
        },
        "xaxis4": {
         "anchor": "y4",
         "domain": [
          0.7649999999999999,
          0.9999999999999999
         ],
         "matches": "x"
        },
        "xaxis5": {
         "anchor": "y5",
         "domain": [
          0,
          0.235
         ],
         "matches": "x",
         "showticklabels": false
        },
        "xaxis6": {
         "anchor": "y6",
         "domain": [
          0.255,
          0.49
         ],
         "matches": "x",
         "showticklabels": false
        },
        "xaxis7": {
         "anchor": "y7",
         "domain": [
          0.51,
          0.745
         ],
         "matches": "x",
         "showticklabels": false
        },
        "xaxis8": {
         "anchor": "y8",
         "domain": [
          0.7649999999999999,
          0.9999999999999999
         ],
         "matches": "x",
         "showticklabels": false
        },
        "xaxis9": {
         "anchor": "y9",
         "domain": [
          0,
          0.235
         ],
         "matches": "x",
         "showticklabels": false
        },
        "yaxis": {
         "anchor": "x",
         "domain": [
          0,
          0.2866666666666666
         ]
        },
        "yaxis10": {
         "anchor": "x10",
         "domain": [
          0.7133333333333333,
          0.9999999999999999
         ],
         "matches": "y",
         "showticklabels": false
        },
        "yaxis11": {
         "anchor": "x11",
         "domain": [
          0.7133333333333333,
          0.9999999999999999
         ],
         "matches": "y",
         "showticklabels": false
        },
        "yaxis12": {
         "anchor": "x12",
         "domain": [
          0.7133333333333333,
          0.9999999999999999
         ],
         "matches": "y",
         "showticklabels": false
        },
        "yaxis2": {
         "anchor": "x2",
         "domain": [
          0,
          0.2866666666666666
         ],
         "matches": "y",
         "showticklabels": false
        },
        "yaxis3": {
         "anchor": "x3",
         "domain": [
          0,
          0.2866666666666666
         ],
         "matches": "y",
         "showticklabels": false
        },
        "yaxis4": {
         "anchor": "x4",
         "domain": [
          0,
          0.2866666666666666
         ],
         "matches": "y",
         "showticklabels": false
        },
        "yaxis5": {
         "anchor": "x5",
         "domain": [
          0.35666666666666663,
          0.6433333333333333
         ],
         "matches": "y"
        },
        "yaxis6": {
         "anchor": "x6",
         "domain": [
          0.35666666666666663,
          0.6433333333333333
         ],
         "matches": "y",
         "showticklabels": false
        },
        "yaxis7": {
         "anchor": "x7",
         "domain": [
          0.35666666666666663,
          0.6433333333333333
         ],
         "matches": "y",
         "showticklabels": false
        },
        "yaxis8": {
         "anchor": "x8",
         "domain": [
          0.35666666666666663,
          0.6433333333333333
         ],
         "matches": "y",
         "showticklabels": false
        },
        "yaxis9": {
         "anchor": "x9",
         "domain": [
          0.7133333333333333,
          0.9999999999999999
         ],
         "matches": "y"
        }
       }
      }
     },
     "metadata": {},
     "output_type": "display_data"
    }
   ],
   "source": [
    "IMGS_IDX = [0, 351, 5673, 5494, 32, 55, 66, 776, 564]\n",
    "x = x_train[IMGS_IDX]\n",
    "y = y_train[IMGS_IDX]\n",
    "px.imshow(x, facet_col=0, facet_col_wrap=4)"
   ]
  },
  {
   "cell_type": "markdown",
   "metadata": {},
   "source": [
    "### Model declaration"
   ]
  },
  {
   "cell_type": "code",
   "execution_count": 6,
   "metadata": {},
   "outputs": [],
   "source": [
    "def create_nn() -> list[Layer]:\n",
    "    return [\n",
    "        Convolutional((10, 5, 5, 3), 0.005),\n",
    "        BatchNorm(),\n",
    "        Relu(),\n",
    "        MaxPool((2, 2)),\n",
    "        Convolutional((10, 3, 3, 10), 0.005),\n",
    "        BatchNorm(),\n",
    "        Relu(),\n",
    "        MaxPool((2, 2)),\n",
    "        Flatten(),\n",
    "        Linear(360, 64),\n",
    "        Relu(),\n",
    "        Linear(64, y.shape[1]),\n",
    "        Softmax(),\n",
    "    ]"
   ]
  },
  {
   "cell_type": "markdown",
   "metadata": {},
   "source": [
    "## Training"
   ]
  },
  {
   "cell_type": "code",
   "execution_count": 7,
   "metadata": {},
   "outputs": [
    {
     "data": {
      "application/vnd.jupyter.widget-view+json": {
       "model_id": "0fbf850f59d44090b6ccca1a9cb4b46d",
       "version_major": 2,
       "version_minor": 0
      },
      "text/plain": [
       "FigureWidget({\n",
       "    'data': [{'hovertemplate': 'variable=loss<br>epoch=%{x}<br>value=%{y}<extra></extra>',\n",
       "              'legendgroup': 'loss',\n",
       "              'marker': {'color': '#636efa', 'symbol': 'circle'},\n",
       "              'mode': 'markers',\n",
       "              'name': 'loss',\n",
       "              'orientation': 'v',\n",
       "              'showlegend': True,\n",
       "              'type': 'scatter',\n",
       "              'uid': '50a6c05c-e678-47ad-877f-3da30bc2f1d4',\n",
       "              'x': array([0]),\n",
       "              'xaxis': 'x2',\n",
       "              'y': array([0.32508328]),\n",
       "              'yaxis': 'y2'},\n",
       "             {'hovertemplate': 'variable=accuracy<br>epoch=%{x}<br>value=%{y}<extra></extra>',\n",
       "              'legendgroup': 'accuracy',\n",
       "              'marker': {'color': '#EF553B', 'symbol': 'circle'},\n",
       "              'mode': 'markers',\n",
       "              'name': 'accuracy',\n",
       "              'orientation': 'v',\n",
       "              'showlegend': True,\n",
       "              'type': 'scatter',\n",
       "              'uid': '1d323453-a0e1-4f55-a4b3-f08358bd236b',\n",
       "              'x': array([0]),\n",
       "              'xaxis': 'x',\n",
       "              'y': array([0.]),\n",
       "              'yaxis': 'y'}],\n",
       "    'layout': {'annotations': [{'showarrow': False,\n",
       "                                'text': 'variable=accuracy',\n",
       "                                'textangle': 90,\n",
       "                                'x': 0.98,\n",
       "                                'xanchor': 'left',\n",
       "                                'xref': 'paper',\n",
       "                                'y': 0.2425,\n",
       "                                'yanchor': 'middle',\n",
       "                                'yref': 'paper'},\n",
       "                               {'showarrow': False,\n",
       "                                'text': 'variable=loss',\n",
       "                                'textangle': 90,\n",
       "                                'x': 0.98,\n",
       "                                'xanchor': 'left',\n",
       "                                'xref': 'paper',\n",
       "                                'y': 0.7575000000000001,\n",
       "                                'yanchor': 'middle',\n",
       "                                'yref': 'paper'}],\n",
       "               'legend': {'title': {'text': 'variable'}, 'tracegroupgap': 0},\n",
       "               'margin': {'t': 60},\n",
       "               'template': '...',\n",
       "               'xaxis': {'anchor': 'y', 'domain': [0.0, 0.98], 'title': {'text': 'epoch'}},\n",
       "               'xaxis2': {'anchor': 'y2', 'domain': [0.0, 0.98], 'matches': 'x', 'showticklabels': False},\n",
       "               'yaxis': {'anchor': 'x', 'domain': [0.0, 0.485], 'title': {'text': 'value'}},\n",
       "               'yaxis2': {'anchor': 'x2', 'domain': [0.515, 1.0], 'title': {'text': 'value'}}}\n",
       "})"
      ]
     },
     "metadata": {},
     "output_type": "display_data"
    }
   ],
   "source": [
    "training_stats = (\n",
    "    Adam(\n",
    "        create_nn(),\n",
    "        x,\n",
    "        y,\n",
    "        BinaryCrossentropy(),\n",
    "        starting_lr=0.025,\n",
    "        lr_decay=0.0005,\n",
    "        momentum_weight=0.9,\n",
    "        ada_grad_weight=0.9,\n",
    "    )\n",
    "    .optimize_nn(\n",
    "        epochs=10,\n",
    "        batch_size=128,\n",
    "        plt_x=\"epoch\",\n",
    "        plt_ys=[\"loss\", \"accuracy\"]\n",
    "    )\n",
    ")"
   ]
  },
  {
   "cell_type": "code",
   "execution_count": 8,
   "metadata": {},
   "outputs": [
    {
     "data": {
      "text/plain": [
       "(100, 32, 32, 3)"
      ]
     },
     "execution_count": 8,
     "metadata": {},
     "output_type": "execute_result"
    }
   ],
   "source": [
    "N_SAMPLES_PER_CLASS = 10\n",
    "NB_CLASSES = 10\n",
    "\n",
    "class_masks = y_train.argmax(1, keepdims=True) == np.arange(NB_CLASSES)\n",
    "take_first_n_of_class = lambda data, class_idx: data[class_masks[:, class_idx]][:N_SAMPLES_PER_CLASS]\n",
    "take_first_n_of_each_class = lambda data: np.concatenate([take_first_n_of_class(data, class_idx) for class_idx in range(NB_CLASSES)], axis=0)\n",
    "even_x_train = take_first_n_of_each_class(x_train)\n",
    "even_y_train = take_first_n_of_each_class(y_train)\n",
    "even_x_train.shape"
   ]
  },
  {
   "cell_type": "code",
   "execution_count": 9,
   "metadata": {},
   "outputs": [],
   "source": [
    "bad_nn = create_nn()\n",
    "bad_optimizer = Adam(\n",
    "    bad_nn,\n",
    "    even_x_train,\n",
    "    even_y_train,\n",
    "    BinaryCrossentropy(),\n",
    "    starting_lr=0.015,\n",
    "    lr_decay=0.0001,\n",
    "    momentum_weight=0.99,\n",
    "    ada_grad_weight=0.99,\n",
    ")"
   ]
  },
  {
   "cell_type": "code",
   "execution_count": 10,
   "metadata": {},
   "outputs": [
    {
     "data": {
      "application/vnd.jupyter.widget-view+json": {
       "model_id": "3e1226ebb7034cada4396b26cf74a8f2",
       "version_major": 2,
       "version_minor": 0
      },
      "text/plain": [
       "FigureWidget({\n",
       "    'data': [{'hovertemplate': 'variable=loss<br>epoch=%{x}<br>value=%{y}<extra></extra>',\n",
       "              'legendgroup': 'loss',\n",
       "              'marker': {'color': '#636efa', 'symbol': 'circle'},\n",
       "              'mode': 'markers',\n",
       "              'name': 'loss',\n",
       "              'orientation': 'v',\n",
       "              'showlegend': True,\n",
       "              'type': 'scatter',\n",
       "              'uid': 'c31ae49f-624c-446f-a397-fc841a0009dc',\n",
       "              'x': array([0]),\n",
       "              'xaxis': 'x7',\n",
       "              'y': array([0.32508214]),\n",
       "              'yaxis': 'y7'},\n",
       "             {'hovertemplate': 'variable=accuracy<br>epoch=%{x}<br>value=%{y}<extra></extra>',\n",
       "              'legendgroup': 'accuracy',\n",
       "              'marker': {'color': '#EF553B', 'symbol': 'circle'},\n",
       "              'mode': 'markers',\n",
       "              'name': 'accuracy',\n",
       "              'orientation': 'v',\n",
       "              'showlegend': True,\n",
       "              'type': 'scatter',\n",
       "              'uid': 'ba959d77-407c-42fc-888b-75cd39ce3fce',\n",
       "              'x': array([0]),\n",
       "              'xaxis': 'x6',\n",
       "              'y': array([0.12]),\n",
       "              'yaxis': 'y6'},\n",
       "             {'hovertemplate': 'variable=Convolutional_0_kernels_mean<br>epoch=%{x}<br>value=%{y}<extra></extra>',\n",
       "              'legendgroup': 'Convolutional_0_kernels_mean',\n",
       "              'marker': {'color': '#00cc96', 'symbol': 'circle'},\n",
       "              'mode': 'markers',\n",
       "              'name': 'Convolutional_0_kernels_mean',\n",
       "              'orientation': 'v',\n",
       "              'showlegend': True,\n",
       "              'type': 'scatter',\n",
       "              'uid': '81e72b32-53ba-4201-8bf9-94c00227522a',\n",
       "              'x': array([0]),\n",
       "              'xaxis': 'x5',\n",
       "              'y': array([0.00247908]),\n",
       "              'yaxis': 'y5'},\n",
       "             {'hovertemplate': 'variable=Convolutional_0_kernels_std<br>epoch=%{x}<br>value=%{y}<extra></extra>',\n",
       "              'legendgroup': 'Convolutional_0_kernels_std',\n",
       "              'marker': {'color': '#ab63fa', 'symbol': 'circle'},\n",
       "              'mode': 'markers',\n",
       "              'name': 'Convolutional_0_kernels_std',\n",
       "              'orientation': 'v',\n",
       "              'showlegend': True,\n",
       "              'type': 'scatter',\n",
       "              'uid': 'ce5209e3-3e6a-4cee-8e6d-b9413abb7d5f',\n",
       "              'x': array([0]),\n",
       "              'xaxis': 'x4',\n",
       "              'y': array([0.00147826]),\n",
       "              'yaxis': 'y4'},\n",
       "             {'hovertemplate': 'variable=Convolutional_0_kernels_l1<br>epoch=%{x}<br>value=%{y}<extra></extra>',\n",
       "              'legendgroup': 'Convolutional_0_kernels_l1',\n",
       "              'marker': {'color': '#FFA15A', 'symbol': 'circle'},\n",
       "              'mode': 'markers',\n",
       "              'name': 'Convolutional_0_kernels_l1',\n",
       "              'orientation': 'v',\n",
       "              'showlegend': True,\n",
       "              'type': 'scatter',\n",
       "              'uid': '610624ab-62a9-44cf-b766-432f9da2aa93',\n",
       "              'x': array([0]),\n",
       "              'xaxis': 'x3',\n",
       "              'y': array([1.85931362]),\n",
       "              'yaxis': 'y3'},\n",
       "             {'hovertemplate': 'variable=Convolutional_0_kernels_l2<br>epoch=%{x}<br>value=%{y}<extra></extra>',\n",
       "              'legendgroup': 'Convolutional_0_kernels_l2',\n",
       "              'marker': {'color': '#19d3f3', 'symbol': 'circle'},\n",
       "              'mode': 'markers',\n",
       "              'name': 'Convolutional_0_kernels_l2',\n",
       "              'orientation': 'v',\n",
       "              'showlegend': True,\n",
       "              'type': 'scatter',\n",
       "              'uid': '63d0d2d0-5615-40a6-94b8-964fb1dc41ff',\n",
       "              'x': array([0]),\n",
       "              'xaxis': 'x2',\n",
       "              'y': array([0.07904643]),\n",
       "              'yaxis': 'y2'},\n",
       "             {'hovertemplate': 'variable=learning_rate<br>epoch=%{x}<br>value=%{y}<extra></extra>',\n",
       "              'legendgroup': 'learning_rate',\n",
       "              'marker': {'color': '#FF6692', 'symbol': 'circle'},\n",
       "              'mode': 'markers',\n",
       "              'name': 'learning_rate',\n",
       "              'orientation': 'v',\n",
       "              'showlegend': True,\n",
       "              'type': 'scatter',\n",
       "              'uid': '031dedcb-74ab-4d62-b889-cae942ce9f34',\n",
       "              'x': array([0]),\n",
       "              'xaxis': 'x',\n",
       "              'y': array([0.015]),\n",
       "              'yaxis': 'y'}],\n",
       "    'layout': {'annotations': [{'showarrow': False,\n",
       "                                'text': 'variable=learning_rate',\n",
       "                                'textangle': 90,\n",
       "                                'x': 0.98,\n",
       "                                'xanchor': 'left',\n",
       "                                'xref': 'paper',\n",
       "                                'y': 0.05857142857142857,\n",
       "                                'yanchor': 'middle',\n",
       "                                'yref': 'paper'},\n",
       "                               {'showarrow': False,\n",
       "                                'text': 'variable=Convolutional_0_kernels_l2',\n",
       "                                'textangle': 90,\n",
       "                                'x': 0.98,\n",
       "                                'xanchor': 'left',\n",
       "                                'xref': 'paper',\n",
       "                                'y': 0.2057142857142857,\n",
       "                                'yanchor': 'middle',\n",
       "                                'yref': 'paper'},\n",
       "                               {'showarrow': False,\n",
       "                                'text': 'variable=Convolutional_0_kernels_l1',\n",
       "                                'textangle': 90,\n",
       "                                'x': 0.98,\n",
       "                                'xanchor': 'left',\n",
       "                                'xref': 'paper',\n",
       "                                'y': 0.35285714285714287,\n",
       "                                'yanchor': 'middle',\n",
       "                                'yref': 'paper'},\n",
       "                               {'showarrow': False,\n",
       "                                'text': 'variable=Convolutional_0_kernels_std',\n",
       "                                'textangle': 90,\n",
       "                                'x': 0.98,\n",
       "                                'xanchor': 'left',\n",
       "                                'xref': 'paper',\n",
       "                                'y': 0.49999999999999994,\n",
       "                                'yanchor': 'middle',\n",
       "                                'yref': 'paper'},\n",
       "                               {'showarrow': False,\n",
       "                                'text': 'variable=Convolutional_0_kernels_mean',\n",
       "                                'textangle': 90,\n",
       "                                'x': 0.98,\n",
       "                                'xanchor': 'left',\n",
       "                                'xref': 'paper',\n",
       "                                'y': 0.647142857142857,\n",
       "                                'yanchor': 'middle',\n",
       "                                'yref': 'paper'},\n",
       "                               {'showarrow': False,\n",
       "                                'text': 'variable=accuracy',\n",
       "                                'textangle': 90,\n",
       "                                'x': 0.98,\n",
       "                                'xanchor': 'left',\n",
       "                                'xref': 'paper',\n",
       "                                'y': 0.7942857142857143,\n",
       "                                'yanchor': 'middle',\n",
       "                                'yref': 'paper'},\n",
       "                               {'showarrow': False,\n",
       "                                'text': 'variable=loss',\n",
       "                                'textangle': 90,\n",
       "                                'x': 0.98,\n",
       "                                'xanchor': 'left',\n",
       "                                'xref': 'paper',\n",
       "                                'y': 0.9414285714285713,\n",
       "                                'yanchor': 'middle',\n",
       "                                'yref': 'paper'}],\n",
       "               'height': 850,\n",
       "               'legend': {'title': {'text': 'variable'}, 'tracegroupgap': 0},\n",
       "               'margin': {'t': 60},\n",
       "               'template': '...',\n",
       "               'xaxis': {'anchor': 'y', 'domain': [0.0, 0.98], 'title': {'text': 'epoch'}},\n",
       "               'xaxis2': {'anchor': 'y2', 'domain': [0.0, 0.98], 'matches': 'x', 'showticklabels': False},\n",
       "               'xaxis3': {'anchor': 'y3', 'domain': [0.0, 0.98], 'matches': 'x', 'showticklabels': False},\n",
       "               'xaxis4': {'anchor': 'y4', 'domain': [0.0, 0.98], 'matches': 'x', 'showticklabels': False},\n",
       "               'xaxis5': {'anchor': 'y5', 'domain': [0.0, 0.98], 'matches': 'x', 'showticklabels': False},\n",
       "               'xaxis6': {'anchor': 'y6', 'domain': [0.0, 0.98], 'matches': 'x', 'showticklabels': False},\n",
       "               'xaxis7': {'anchor': 'y7', 'domain': [0.0, 0.98], 'matches': 'x', 'showticklabels': False},\n",
       "               'yaxis': {'anchor': 'x', 'domain': [0.0, 0.11714285714285715], 'title': {'text': 'value'}},\n",
       "               'yaxis2': {'anchor': 'x2', 'domain': [0.14714285714285713, 0.2642857142857143], 'title': {'text': 'value'}},\n",
       "               'yaxis3': {'anchor': 'x3', 'domain': [0.29428571428571426, 0.4114285714285714], 'title': {'text': 'value'}},\n",
       "               'yaxis4': {'anchor': 'x4', 'domain': [0.4414285714285714, 0.5585714285714285], 'title': {'text': 'value'}},\n",
       "               'yaxis5': {'anchor': 'x5', 'domain': [0.5885714285714285, 0.7057142857142856], 'title': {'text': 'value'}},\n",
       "               'yaxis6': {'anchor': 'x6', 'domain': [0.7357142857142858, 0.8528571428571429], 'title': {'text': 'value'}},\n",
       "               'yaxis7': {'anchor': 'x7', 'domain': [0.8828571428571428, 0.9999999999999999], 'title': {'text': 'value'}}}\n",
       "})"
      ]
     },
     "metadata": {},
     "output_type": "display_data"
    }
   ],
   "source": [
    "bad_training_stats = (\n",
    "    bad_optimizer\n",
    "    .optimize_nn(\n",
    "        epochs=50,\n",
    "        batch_size=50,\n",
    "        metrics=[accuracy, nn_params_stats, activations_stats],\n",
    "        plt_x=\"epoch\",\n",
    "        plt_ys=[\n",
    "            \"loss\", \n",
    "            \"accuracy\",\n",
    "            \"Convolutional_0_kernels_mean\",\n",
    "            \"Convolutional_0_kernels_std\",\n",
    "            # \"Convolutional_0_biases_mean\",\n",
    "            # \"Convolutional_0_biases_std\",\n",
    "            \"Convolutional_0_kernels_l1\",\n",
    "            \"Convolutional_0_kernels_l2\",\n",
    "            # \"Convolutional_0_activation_l1\",\n",
    "            \"learning_rate\",\n",
    "        ],\n",
    "        height=850,\n",
    "    )\n",
    ")"
   ]
  },
  {
   "cell_type": "code",
   "execution_count": 12,
   "metadata": {},
   "outputs": [
    {
     "name": "stdout",
     "output_type": "stream",
     "text": [
      "0 accuracy: 0.6\n",
      "1 accuracy: 0.78\n",
      "2 accuracy: 0.91\n",
      "3 accuracy: 0.98\n",
      "4 accuracy: 0.98\n",
      "5 accuracy: 1.0\n",
      "6 accuracy: 0.71\n",
      "7 accuracy: 0.91\n",
      "8 accuracy: 0.92\n",
      "9 accuracy: 0.93\n",
      "10 accuracy: 0.93\n",
      "\n",
      "Best accuracy: 1.0\n"
     ]
    }
   ],
   "source": [
    "from copy import deepcopy\n",
    "\n",
    "best_accuracy = 0\n",
    "try:\n",
    "    iteration = 0\n",
    "    while True:\n",
    "        starting_nn = create_nn()\n",
    "        nn = deepcopy(starting_nn)\n",
    "        optimizer = Adam(\n",
    "            nn,\n",
    "            even_x_train,   \n",
    "            even_y_train,\n",
    "            BinaryCrossentropy(),\n",
    "            starting_lr=0.025,\n",
    "            lr_decay=0.0005,\n",
    "            momentum_weight=0.9,\n",
    "            ada_grad_weight=0.9,\n",
    "        )\n",
    "        training_stats = (\n",
    "            optimizer\n",
    "            .optimize_nn(\n",
    "                epochs=50,\n",
    "                batch_size=100,\n",
    "                metrics=[accuracy, nn_params_stats, activations_stats],\n",
    "            )\n",
    "        )\n",
    "        print(iteration, \"accuracy:\", training_stats[\"accuracy\"].max())\n",
    "        if training_stats[\"accuracy\"].max() > best_accuracy:\n",
    "            best_starting_nn, best_nn, best_optimizer, best_training_stats = starting_nn, nn, optimizer, training_stats\n",
    "            best_accuracy = training_stats[\"accuracy\"].max()\n",
    "        if training_stats[\"accuracy\"].max() > 50:\n",
    "            break\n",
    "        iteration += 1\n",
    "except KeyboardInterrupt:\n",
    "    print()\n",
    "print(\"Best accuracy:\", best_accuracy)"
   ]
  }
 ],
 "metadata": {
  "kernelspec": {
   "display_name": "CNN",
   "language": "python",
   "name": "python3"
  },
  "language_info": {
   "codemirror_mode": {
    "name": "ipython",
    "version": 3
   },
   "file_extension": ".py",
   "mimetype": "text/x-python",
   "name": "python",
   "nbconvert_exporter": "python",
   "pygments_lexer": "ipython3",
   "version": "3.12.3"
  }
 },
 "nbformat": 4,
 "nbformat_minor": 2
}
