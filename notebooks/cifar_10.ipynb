{
 "cells": [
  {
   "cell_type": "code",
   "execution_count": 1,
   "metadata": {},
   "outputs": [],
   "source": [
    "import numpy as np\n",
    "import plotly.express as px\n",
    "\n",
    "from losses import BinaryCrossentropy\n",
    "from optimizers import SGD_with_decay, Adam\n",
    "from cifar_10_dataset_loading import load_cifar_10\n",
    "from layers import Convolutional, Linear, Relu, Sigmoid, Flatten, Softmax, MaxPool, Layer"
   ]
  },
  {
   "cell_type": "markdown",
   "metadata": {},
   "source": [
    "## Setup"
   ]
  },
  {
   "cell_type": "markdown",
   "metadata": {},
   "source": [
    "### Data extraction"
   ]
  },
  {
   "cell_type": "code",
   "execution_count": 2,
   "metadata": {},
   "outputs": [],
   "source": [
    "x_train, y_train, x_test, y_test = load_cifar_10()"
   ]
  },
  {
   "cell_type": "code",
   "execution_count": 3,
   "metadata": {},
   "outputs": [],
   "source": [
    "classes = y_train.argmax(axis=1)"
   ]
  },
  {
   "cell_type": "code",
   "execution_count": 4,
   "metadata": {},
   "outputs": [
    {
     "data": {
      "text/plain": [
       "dtype('float64')"
      ]
     },
     "execution_count": 4,
     "metadata": {},
     "output_type": "execute_result"
    }
   ],
   "source": [
    "# Change range from [0, 255] to [-1, 1]\n",
    "x_train = x_train / 255  \n",
    "x_train.dtype"
   ]
  },
  {
   "cell_type": "code",
   "execution_count": 5,
   "metadata": {},
   "outputs": [
    {
     "data": {
      "application/vnd.plotly.v1+json": {
       "config": {
        "plotlyServerURL": "https://plot.ly"
       },
       "data": [
        {
         "hovertemplate": "x: %{x}<br>y: %{y}<extra></extra>",
         "name": "0",
         "source": "data:image/png;base64,iVBORw0KGgoAAAANSUhEUgAAACAAAAAgCAIAAAD8GO2jAAAJZElEQVR4XgXB2Y8dWX0A4LP8TtWp9W59l97stt1ux4zGHhiDRiYJGfECLyhv+e/CPxBFCEWRIuUBIQUemJFRBpuJ8d7r7bvVvVV1Tp0934d/+o8/q6p1TPwwCndG6XiY7fXziDKIE0Rhvam0DYN+jzijlOq6jifcISdk0+uXKDitNEWMUlrkeZZljHGpdMAEEdBK24Dh5auX1XI55AiP+J4rcDJp/bpxIeBIdFpIZZxfUswhWOspgTiORddar3E3IhQZpRLgjdJrZ9M0w4RhyhAhojPWGAoxJIBRjO6O+Mm0NxkPkzTDGEvVdUYFjKMkQTYEr3rD1JoQscQ5RKNY6c5YnEYxZAmPYotbErxFmGKUZ2nTCmMNwajebYFjWxRwdjgYJZT5rllr54kUlkSo7OcQxdW2BkDDIq13re5a2ZmAcJ5lRkvigMWxcwYoVspELCLeqmaDXIgpst5vWwWDGJI47mXJuGTOO4cQBYoIUd4AAATvlAyU3N5WzrhaCOF0npRIOYo8wYHGXLZdykoIoeu0NNajUDVdJUwjbGcIjPu8YJRzSmhIksRY5xEOQWsbnDY+mOB0gKjWrXNUOG+dr1tzuW4Z8WWDzc1SbsWdvdPJ5AgXW7VZNU27rbvlVn443zoKcDDOysjmaYSDQSjg4JUUBOFR0csyvtsue2VZd+bj5bJRNPLoMAVg8sOqUoEyHHpl8fwHz3bXLojQ22NKQNOQmLHjWTGZTOe7DoZFArqKGaRxqqQx3vb7gxCCdsSYLs3zq4V6+3G7qK2w6G5C//kfvjjaz//t23d/fHNjvQYS6mohGlUUDDnMOYs4TTGzzt45PijWNUyGI7nuCIZGGKktYCqMIwhJo/uDUrvw7uJqvXMBIkpJyd0Ear5WD8vZ9ZDMq1sl9IvXr4n1JitRb4oI9Hpp4UOnTdC7k3EGg73xIE8IYdVuY9qGOOeRDwzynBvE//rudatazmMeQZKlA2q/fTO3GlRvNh5wjEpjO6FlK4K2FhuNMGIEB0IZgFUquACIMMwYQijmLEUZIEIIMcjHSW95U4vl5v6Qqw7xLH304JCozlK2222AbosoGw0ePHh45/2nP33/+jICFUJjLRCIWMS89x5hjAnIzmAjEbJtu9OGWMIbUe9EfXgMwdZ39/CDAyY6fHj2NArdZmuS/git6PFsv2rb+3/3sByk5eDxZlFvtlsWZSTExjvvkTOWYBRCAIddcDaEkPAkL9KrhXx/sQAWovlVN188nLCf/9PDt5fr4nC8N5rdLub9fkY8iwi9XVwCrxbV9eV1w1jaL72UIQDBBHvvCMaYEBcQ9Pu5Bds0XTBuW28/fpo3TZNwcv1+N+XR4eHd/sE9VnvE2dHTn/Cby8QuHOratttPx9p5nOVH2UHRn9Wrm9v5ymDWaYVIyGKuZcMiBnW1Al0zTBBFQKlotoMi62dcbnaTg9Hhk5/95UK/fqOf7w+rSk8fPCVIaLXoB7+7XSXa7A+HlYvZk4Gsrv/nP397cb6gEUMIy4AMIsQYoBg52QSECbIO041Bu10ISu/3sh9//fXRo6/+/df/OstyquXlu7ez+z/go9Ms1GJ9m/iBlmJZi/743mh2IpuSlMhFHSbYGI2tw8FZC4ADcsZgQoCgIA32aDhKZ6n90bOzx8+/2tw2sd3ePzry2M8mY9tZUWltrZHgUP728uK7v3zz/Cs9mo129S1L0d5J5glx2lmlt4tK1Sl466TyUZYDMEr06WzAE3Jy9/jp33+9/+jJn//46zvHg9lnn0fjB5D2RNfIXT2/Ot/ML5wRScH39tj51Yvp/qEVTZAKtxsXZMAhiVk0Y7sYA6OwqYXrcJImlITJKD2/rh786BdHn/8CoYGp217RG5990cLw5Ys/KdnudtXy8hN1mnM4vHf45OzU0ozRPosMdJ34eOmtswQ1lKajbHowAiW7NAbMKSM2OJvk9Ff/8qvnv/x5uTedv/srJbaqt4sP/3dVu9/95jd5wjrVzKa9ssjeX5xrYocHJ2eff4lcvK4uRIc30uIAnfRNCKHpHvcR+KCRd9h6GwzGgcflF19+GTP26s8vNldvlerqzfr8zasmJMx1OdCSZ+NB73p+Y40RdXP+/hNCL5um5hBsPFnZMkl4WiQJxLXYWW8BIe+tBpY66zSy097gv377H8Ppy8n+sRZbxuI8K4HQjLHZZCTrTULj1WJptCt4opvmby++uf7+tbISMeoIzY4ylGkSd9zbAUoef3YPvMcRUA4eERxo5rVZLm+axU1idh7R4WDUPxhbpy6vbgIKhIC2lmKW8dR6RK1HODi9JR7vxEbHsjhQbVLVXnctGZX39yYjQnDM4yQgmyZ8MpoEo0ZF1Iut3s51vRSijsshyUaPnjzzkOhAPIamEd6hiAJnYK19fbH45tXVd2+v13bH+8CiqGlsK0NWjKRwJAKilfIh8jQWRlLqU55kxThKe9PJXr1ZCG3Gx6fCx5/9+KePv3hGgLeNEkJijDHy15dXn97fNEImeToeTnDH8HU2uN074/eO+kdvXt3AdEzMaiWdb1sUiAOAshxFjMl2lzBAGr75wx/uP5pfXNwQgtOYURonSdY2Ukpprc6T+PkPz3hRWmqdEfK8IzWfpMUPzz6b9KffXr+HO8dRD/M352K+CNrFeQ6t2DrfUETWi1Xd2M5sadgW+WB+s75oOx/wdDzC3myqTZzF/V4RUaK0Q8BaRXTDMk9Oj2cHs9H5xXy1EFAOmFyIwYSiLF3OVac1RKXWyBtnnNrKTZbEnehkt9TGOeNCoM1OlGVSlj0pxXK1yfMME4JtiCCJOYoienJ6IkX4/e9f/e/rWwAOvIyGOQGpWOJ3G0COJHzimHeqilJgEFGaquC10SFgHFDQnesQA4aiuNpspDa9fgmEEIgEsvNlvWls3W7/+3ffzwWCpmGI5nnWsSRkMe/1fLOTzW7eCGc6V0QjzphVCoBEBLGYYkzSHAgg62yUQNlP1+u6Dr4cjoTVf/uw+v678+mwnB6liPi9XgEXH5GqeDG2PDG9HA2H0LSiqsRmFW1WiHrqQ3DOIe8IQphgCiAdCRYxb6xYOykcsKoR2qH1Tn54s6pWrW7drDd7fPdwJxE4tmeiZ8orYpe8h/tjPiB2KHy1TqollS04G6FAvPWd7KIookDrzsumY0EXpPBkZwzEWeAs7kf6Pup//jR79OTpyenpT74SF1fN/wMWt9uTwQaBnAAAAABJRU5ErkJggg==",
         "type": "image",
         "xaxis": "x9",
         "yaxis": "y9"
        },
        {
         "hovertemplate": "x: %{x}<br>y: %{y}<extra></extra>",
         "name": "1",
         "source": "data:image/png;base64,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",
         "type": "image",
         "xaxis": "x10",
         "yaxis": "y10"
        },
        {
         "hovertemplate": "x: %{x}<br>y: %{y}<extra></extra>",
         "name": "2",
         "source": "data:image/png;base64,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",
         "type": "image",
         "xaxis": "x11",
         "yaxis": "y11"
        },
        {
         "hovertemplate": "x: %{x}<br>y: %{y}<extra></extra>",
         "name": "3",
         "source": "data:image/png;base64,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",
         "type": "image",
         "xaxis": "x12",
         "yaxis": "y12"
        },
        {
         "hovertemplate": "x: %{x}<br>y: %{y}<extra></extra>",
         "name": "4",
         "source": "data:image/png;base64,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",
         "type": "image",
         "xaxis": "x5",
         "yaxis": "y5"
        },
        {
         "hovertemplate": "x: %{x}<br>y: %{y}<extra></extra>",
         "name": "5",
         "source": "data:image/png;base64,iVBORw0KGgoAAAANSUhEUgAAACAAAAAgCAIAAAD8GO2jAAAKQElEQVR4XiXSWbMc10EA4HNOn96mu2fp2e/cZe7cXYtl2QJJMUXhOECFSqVc5CVvVIr/QBUPPPAP+AF5AN4CVZjEgZjgpGLZlmSjNdK9urvuNlvP2vtyNh7y/YYP/vTBPxo2RxKyCvj87dmT377lIlrbKd699ueW0rjo7i811jx6BlXPndAnj47PXk821jf/+sc/wLbfH8/kpIUlOPMml2+Pl1aKt2/8SZBMNFSq6pt+MHbGPWwXbbtkjvv4iwe/u7jaCwbS4tKCTO1wSvSal0ZE43Ujj4rWcqjycP03/vCZVaoPp+no5Khe71xfvYeE+XD+8wj6+epiQasZcp0xllE28zLHCbHd4IiWESsulu6T2MjsbLGyUTQQUDlWzY2VO0EwcHoHtTppVG4sLWwG6zHg2t6r5yPvVJb1r8JPquV2wdZLoWKaEMJQhzZEuZEbur6nqxRvFlczUikY4da7C1OvPJ9mDW2pVSwxKfaDKZdEhCOUWq5HMHCc4fDo9CSNk+KybjcqmmFsLN4EmLtpeH/7R7W8irgFWJ5QgRBt1HVTvYnL8C7QMGNP52ymy9V6o9PUbEXKIaAXlMmx80BRra3W96PAhzCycy1FKvTGjt2sL9V27ErDLpdlYsLMqhU2BAkn3gliY0NvVUoNhBYgVDERCmEhplWFYC9zfXxZ5LKCDQQkBZqd6ge9c7f3dkwyhiQg65XttTsi4aam1KuWifJnV8dXF7sYV8NFTwd5hQMGA666guCcUlGRCrvhM0OpYqECKA2iszP/ZRbTlrW8WFqlTDvc7z783+fxPMiSxPODemMhX7QIdJq3kmob47TR615ddE+239muVxcqynI5t/Lq6tHYC28tfSgrSpwNsAJ0A1kxvwAA1XPFnsuf7b8mi2GSuruPyMPPnk5GI0niiiTNPffoZL+9sr7a6Zh0S2G+hJVoRhqVxZXmZskwLEWhPAxpdHD1SJC0Zmtz+nsYZWOAIBBUApDDaJR0r4YOceUvPtvbf36cRUFMM9eb6Kpm5qw49gXjpmG12mv3v39j/YZxdPjaKij1RqNRqaVgNEn7Xhb3e+FsmFawHbEJHtD9aTooaKCibJl8ZUFryc3hm+iQI9rvH+qK/s7tP1J0M4mzudM9OrpMQzcJFC6JreGSdKuEVB+wJiSlnLKehGo8Y37SjTy1ADY504/Or7AlVXWjlMJeIjwdZhhgSzKvrW3jv1J3n7zynNH3PvywUG0/ffL8+XyENN2QcZJlo8n4YP+oc73E4yrMlRS9OhlTXVu3YC5I9DxyWgvLFCqDuI4xwhW8SXjbF7OIEAkEANKSmteQZddW3r/2XnOhNQ3ibv8CSFJzeWXc74VeqFmg0IBDx5l5PrTk4exUUFEptA3dLIOyqmMGwvPuS1Ot4364KxlymM4mQRREWU7XDD1XEliz+MpOPhgGn3726XjkeXMnisYki2WQ6Qq+efv6ynZ9Gl2EgPVHqGy0FmoN22wpWO1GuzF0i/IqZejCeYPdKdPQLuMszZgfkzAzM0J8MA7ZeOl6uhsMfvO7r4bnPSA4JRRLSFaUYqVRqdWDIEUKWSgXLobTh3tfLM2anYXOcqtTq5Q0tJTDTSmR+r1DXNAWWSIykM3ii/58Gid+taiWLI1LE8Oevf/desGqfvLPnzl9BwIhYySres7IT90ZGZHqQiGvVr9z7eazk6/2zr7GeFqtyzWjiUXecQd+EIOkjg9OH4d8DnMMCW3uZ248LhpbreIfE+Ry8UKvVErQOnzcmzpfcE4QwgBiJiBN4Lw/ZyhCGt4pFJeLK5479iPa78/UainO0u7QPZ8NmSFhxVAH49712kfXFu4FJNq7ehwGw9G0K2mlwM1BkjeMYmdl/UXuaRiHElYoE1lKaAIiL6ORqNuo57yNZjMJan0nFOwwDakfSZeDWUpIKgK8ubpTrKRqqlMiGoUWFZuHvcuL+bdZgqfjnmWWKsqqZZVKxWpCMgEQYSJJMm8WSipUdVDOmTWt+bXrnPd6hNL+2Hnyao+mcrHQrJRbRdPCFXWtpNm9y/Nnr39daWxE0nk3OHV9l0YYQJoG85TIprldrbdmvpuQDEKJEuLO57l8KqtaQMcymJt5XPDLvcG5c54t21tQTnNYpOmQ8RgfnJ4ddJ8utyrTKH7+6FetdVWS7CxiEALCSkkoLC2na3q5XFUv1SiNJYQAY2kcIyUjKXQDAH1bUgUVAAYF7oVEidtr7fdu3gUa//rF5/hf/+ufFDs1Ou+i0qLUhyjkuFBgNIUwSIgXEygpa5BBmiUkyxglsow5T+M4lnWpnC/nqCU5ayAJu6+Psxk3LXMceKV5slrfWO1sDM58fP0Do2xvaGhx6IVhxo6OJ5vb2/c3P7ocHxwNXsqSpHKT0iQMXAAFxhhCEKchYZlqFEKCVKFE8+DJty+6ZxNNxoILEYJveo+5z7a3rj389iFe32zOHTE8DQ2m7XR2CElWa1try9uzYMTmWE0awEDO8CqIPBlDRUZZFgvAOReUcjf1Gk0lQBfeycvgNU5SzZ+GEEGBxM+Pf/kL9GvNVHB83v7my89tJbt35872+vtRLP7n8X8+2P2VoFFeauTVFRalx8cHrjcVgHFGgeCMMwEFxkiD5YB4pYa203m39+VxljJEIRAcIACAAIBGlOL/+PdPHvxi/y++q/3pfft8fn7eOzy9fGYXc/VSI/Dt+cDtezNnOnbGDqFEVRRFlrI4pVwIIkxQbWt3rjduFtZPvlJ/GtG5DCETQnABAUdIcCpQ73T28cd/+ZO/+dvtjY4kDUp5ePudu4GfXjmjOCT9q97L3Vfn3YsgirIsy7IkIymnFHCRpKmsgZvbNwp5c+4Oinl5YamIZAgAgEIIAYQAEEL893/3DyuLq4WC2ncOBt1BSiCDqqovnhy/qeHSbDZ3JpOJ52aEqLJEGYUcQiBhCamGIuUQlGiasZK1+OOf/HDvYPfTn30Zx6mWwxBgwAFCEl67tiYx5ay7f3W5P/K8Zq292dy+1b7/y/jTwe48ir04iSllEKGMMEgBQghCITgcO+7Z8UDFxjQ9RoXZ+to2LBBVlS2lVmmWXjx9/fLhfjD38Ddv/m199YZmFTut7fWOVit3DKX8+e8/yUgoUhZGfpYRSZIFF5RxzpkEGEYS4xzLoL6YG6dvCUuW6+16vrW+sPSjD0wNFn0S7azduXfzzO0Psa1WFaZUzJVMjgDIIIy/fPGz3/7ff9Mw3x9HU89lgDNKKaECCCEAoRxhSYJSMV9aX9hp4I5tt4u5hgQ5TeIszHzfG477VWwuvnvXa0/xjdZHIY/P+68vBweVYvNW5wMsp6tVk8j2AIVCgDRJCKF/uAEAkBDqtJeatUXKRcNqb9a/IyBgLKQZCX03Cd0sIpk7GbojRVZZlmIVK6qc1yWtkV/JqXlLbdzb/Pi9lT8LXN5/8S9v9nY54wKAP8QWnBUsq9VovP/ebSRbrhvE6RQrHAiWxcng7HQ+GaZJeNXtjmaTnGEoGP4/lT4K+Dh5d3gAAAAASUVORK5CYII=",
         "type": "image",
         "xaxis": "x6",
         "yaxis": "y6"
        },
        {
         "hovertemplate": "x: %{x}<br>y: %{y}<extra></extra>",
         "name": "6",
         "source": "data:image/png;base64,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",
         "type": "image",
         "xaxis": "x7",
         "yaxis": "y7"
        },
        {
         "hovertemplate": "x: %{x}<br>y: %{y}<extra></extra>",
         "name": "7",
         "source": "data:image/png;base64,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",
         "type": "image",
         "xaxis": "x8",
         "yaxis": "y8"
        },
        {
         "hovertemplate": "x: %{x}<br>y: %{y}<extra></extra>",
         "name": "8",
         "source": "data:image/png;base64,iVBORw0KGgoAAAANSUhEUgAAACAAAAAgCAIAAAD8GO2jAAAGGElEQVR4Xo1WTW8dxxGs6p79fHykJCoSKTmwIkcBoiD/Icgx9/yV/EKfAwSQBJ9yoB0rtESF4tP72p3pymH3kYpjI2lggd2e2e6q6t7e4Z/+/BccTCpSHO516/85Iwn4dEMSgIDpNXLaYsndAE3hJAIGAJBEzJvu7NYhAJoSGO7CQeTknfIBTO7AHBo6RPg/0E9GQlPemQFnFOSUlckTIWpmZgdw8/VzQt0C5MR4xo1Z34NoJFNKpv+OQxKQ8KOSHOLe7SInSWczTkhpc3xLZgAOxA5FOhCCNC9P67c4zGYG0KzPlDsOAOb4tJSS3ynBOcH/tCncZxLNzzowuLXU+NxAAPQZIswv3Kr6E0ZgSjDVc3LNUEmSgFJKn7c8p9689ehA+WdMhjLdzZh4yHagmKrkt9KGhKmqdwz+o4Y/Mh4kOUSbaeDuE2Kq/MAKCCgO0GfX/N39tBGH/FObCjIe0E+ELNWJirltBMZcDEG6g6R5A0lJmFYAo1EGTHKDzohpEyWRFJD2m09N0xhNiiIRiEPvA4DylPDuAgASiIiAMQyEm5VSJHhVhyjISAEi0ps3r87Ozk5Ojtu2NavGEhLN5olECvhMU1JSRFFMQyHazheLxatXr9br9XK5fPT4SVU15lZyiYi6atOLr35FYxmHTR6s6rxq3X3GKiLKNPamdiJgpJtVVd113WLRpHqoUvryy4ef1m3XdoujZM6mqV+/evX6zZvT0/PklRvLOOxW1zc326E7PlksFovFwswIRqYZ3ZQMTZWqhlXtbdsnr0uJT+vV11//NRRHi16lXOXr4we5CHnMb775+8W3l0wnabvbJssf3l8etUdPHj/s7h1vN1vEvusWIN3rvm2ayvsm9V0Lj7brb1brN6+/KTk223xx8c7Mzh5VVbJxH9c3l/sxl1KO+tM//uHl+dMvUt/1jN3z588TfYyA6eHTx23T0rhY9KxgxtpT5FApu0FXNx8uLr67fH99vDzZjyKqcT9eXV3/4vRB1x3d6xdHy6WZdV1X17WgVFdNGcbdfleGIaTHZ4/PH53mnOuqhql4Hsdy8/HjZrX7cHX99v31h+vVbrfru36ziyg6WvbHy+XD0/tPz8/api4RnhIAd48IM0sGfPv2+5cvf/Pdxbeb9bquq7Zpcx4jYrvbbfPww7sP/3z7Hkrb7ZjFum2eP/913/fuqa68TkjuZqgswL2Qh6G4ewmSLJnpwYN75LO331+uPm1XN+thKCG//vjxh8vLzXZXt31d96enX/T9yWazD6jr2+VyaWZ1nRQZKKEwmBglBIOogmz0VCWoStvNKucxxJub7Wq1X2/zxT/+No5jXddPzp88ffrLpu3p1TDG0TGTJXMCAoopBBC1AiKLVLkXkTQzRkQuDniSxnv3Th7cf3Rx8W61HiKibuqvXrw4PztfLDrECHqBUsNhzMOQPTtQQtkImg9yQm4wChpHmGghlVKMDCml6jiX2O325+dfDGNJVXr27Nn9+w9yHjfbLRiAhTCMJQIlLMpIIpeRhGQRhaTbNPwlc5GASEyzJ/3r45DzSLJbLH/7u9/XdV2lFIJklhoZIpSHGMcgLeD7yBBCHhEAQof/AThNN4I0mEGIANOn3SioqlIhKIsB233OOUcUAIHIJUqZngiLEhGKed5Bh5MOASAC4QYjFQbSRaZPu2zum/0QUaZzE4ASBRLIUEQJCYQBDGYYJFSVV1W93w+lAJhPPUZPZkYjAahEBpCGQpQgUQooGQkQSJKmGS4VQCXmQ5uZuXvbNsM45pxDhqka7il5ghDDFL1tKzdLoEtSgGaIAsDdJEVIESqKCEJASKIYY1bhar+NEjQzCALJZKYyZOWurUvJxyf9k6fnm/UmIQSJgARE0FBynv5HkAxIiTTkHKWMBpOEDHerazdLlmo3M3eSu90OqiqvjGzq5ur91Wq1TlBQEuDuJAyFxplHoPJEKmL0rmmaY0WY+W63JemecomcS4xjGaGIKGHW7taFzg/vbkrJRUzHfVos+uRmhDFKyVEiJAkKGb2UHLKjo0Xb1tvt2s2JGHPZ7/fDUEpRRAFI0pNTQYiSGdu6HbP+DfEawo6Sg4r6AAAAAElFTkSuQmCC",
         "type": "image",
         "xaxis": "x",
         "yaxis": "y"
        }
       ],
       "layout": {
        "annotations": [
         {
          "font": {},
          "showarrow": false,
          "text": "facet_col=8",
          "x": 0.1175,
          "xanchor": "center",
          "xref": "paper",
          "y": 0.2866666666666666,
          "yanchor": "bottom",
          "yref": "paper"
         },
         {
          "font": {},
          "showarrow": false,
          "text": "facet_col=4",
          "x": 0.1175,
          "xanchor": "center",
          "xref": "paper",
          "y": 0.6433333333333333,
          "yanchor": "bottom",
          "yref": "paper"
         },
         {
          "font": {},
          "showarrow": false,
          "text": "facet_col=5",
          "x": 0.3725,
          "xanchor": "center",
          "xref": "paper",
          "y": 0.6433333333333333,
          "yanchor": "bottom",
          "yref": "paper"
         },
         {
          "font": {},
          "showarrow": false,
          "text": "facet_col=6",
          "x": 0.6275,
          "xanchor": "center",
          "xref": "paper",
          "y": 0.6433333333333333,
          "yanchor": "bottom",
          "yref": "paper"
         },
         {
          "font": {},
          "showarrow": false,
          "text": "facet_col=7",
          "x": 0.8824999999999998,
          "xanchor": "center",
          "xref": "paper",
          "y": 0.6433333333333333,
          "yanchor": "bottom",
          "yref": "paper"
         },
         {
          "font": {},
          "showarrow": false,
          "text": "facet_col=0",
          "x": 0.1175,
          "xanchor": "center",
          "xref": "paper",
          "y": 0.9999999999999999,
          "yanchor": "bottom",
          "yref": "paper"
         },
         {
          "font": {},
          "showarrow": false,
          "text": "facet_col=1",
          "x": 0.3725,
          "xanchor": "center",
          "xref": "paper",
          "y": 0.9999999999999999,
          "yanchor": "bottom",
          "yref": "paper"
         },
         {
          "font": {},
          "showarrow": false,
          "text": "facet_col=2",
          "x": 0.6275,
          "xanchor": "center",
          "xref": "paper",
          "y": 0.9999999999999999,
          "yanchor": "bottom",
          "yref": "paper"
         },
         {
          "font": {},
          "showarrow": false,
          "text": "facet_col=3",
          "x": 0.8824999999999998,
          "xanchor": "center",
          "xref": "paper",
          "y": 0.9999999999999999,
          "yanchor": "bottom",
          "yref": "paper"
         }
        ],
        "margin": {
         "t": 60
        },
        "template": {
         "data": {
          "bar": [
           {
            "error_x": {
             "color": "#2a3f5f"
            },
            "error_y": {
             "color": "#2a3f5f"
            },
            "marker": {
             "line": {
              "color": "#E5ECF6",
              "width": 0.5
             },
             "pattern": {
              "fillmode": "overlay",
              "size": 10,
              "solidity": 0.2
             }
            },
            "type": "bar"
           }
          ],
          "barpolar": [
           {
            "marker": {
             "line": {
              "color": "#E5ECF6",
              "width": 0.5
             },
             "pattern": {
              "fillmode": "overlay",
              "size": 10,
              "solidity": 0.2
             }
            },
            "type": "barpolar"
           }
          ],
          "carpet": [
           {
            "aaxis": {
             "endlinecolor": "#2a3f5f",
             "gridcolor": "white",
             "linecolor": "white",
             "minorgridcolor": "white",
             "startlinecolor": "#2a3f5f"
            },
            "baxis": {
             "endlinecolor": "#2a3f5f",
             "gridcolor": "white",
             "linecolor": "white",
             "minorgridcolor": "white",
             "startlinecolor": "#2a3f5f"
            },
            "type": "carpet"
           }
          ],
          "choropleth": [
           {
            "colorbar": {
             "outlinewidth": 0,
             "ticks": ""
            },
            "type": "choropleth"
           }
          ],
          "contour": [
           {
            "colorbar": {
             "outlinewidth": 0,
             "ticks": ""
            },
            "colorscale": [
             [
              0,
              "#0d0887"
             ],
             [
              0.1111111111111111,
              "#46039f"
             ],
             [
              0.2222222222222222,
              "#7201a8"
             ],
             [
              0.3333333333333333,
              "#9c179e"
             ],
             [
              0.4444444444444444,
              "#bd3786"
             ],
             [
              0.5555555555555556,
              "#d8576b"
             ],
             [
              0.6666666666666666,
              "#ed7953"
             ],
             [
              0.7777777777777778,
              "#fb9f3a"
             ],
             [
              0.8888888888888888,
              "#fdca26"
             ],
             [
              1,
              "#f0f921"
             ]
            ],
            "type": "contour"
           }
          ],
          "contourcarpet": [
           {
            "colorbar": {
             "outlinewidth": 0,
             "ticks": ""
            },
            "type": "contourcarpet"
           }
          ],
          "heatmap": [
           {
            "colorbar": {
             "outlinewidth": 0,
             "ticks": ""
            },
            "colorscale": [
             [
              0,
              "#0d0887"
             ],
             [
              0.1111111111111111,
              "#46039f"
             ],
             [
              0.2222222222222222,
              "#7201a8"
             ],
             [
              0.3333333333333333,
              "#9c179e"
             ],
             [
              0.4444444444444444,
              "#bd3786"
             ],
             [
              0.5555555555555556,
              "#d8576b"
             ],
             [
              0.6666666666666666,
              "#ed7953"
             ],
             [
              0.7777777777777778,
              "#fb9f3a"
             ],
             [
              0.8888888888888888,
              "#fdca26"
             ],
             [
              1,
              "#f0f921"
             ]
            ],
            "type": "heatmap"
           }
          ],
          "heatmapgl": [
           {
            "colorbar": {
             "outlinewidth": 0,
             "ticks": ""
            },
            "colorscale": [
             [
              0,
              "#0d0887"
             ],
             [
              0.1111111111111111,
              "#46039f"
             ],
             [
              0.2222222222222222,
              "#7201a8"
             ],
             [
              0.3333333333333333,
              "#9c179e"
             ],
             [
              0.4444444444444444,
              "#bd3786"
             ],
             [
              0.5555555555555556,
              "#d8576b"
             ],
             [
              0.6666666666666666,
              "#ed7953"
             ],
             [
              0.7777777777777778,
              "#fb9f3a"
             ],
             [
              0.8888888888888888,
              "#fdca26"
             ],
             [
              1,
              "#f0f921"
             ]
            ],
            "type": "heatmapgl"
           }
          ],
          "histogram": [
           {
            "marker": {
             "pattern": {
              "fillmode": "overlay",
              "size": 10,
              "solidity": 0.2
             }
            },
            "type": "histogram"
           }
          ],
          "histogram2d": [
           {
            "colorbar": {
             "outlinewidth": 0,
             "ticks": ""
            },
            "colorscale": [
             [
              0,
              "#0d0887"
             ],
             [
              0.1111111111111111,
              "#46039f"
             ],
             [
              0.2222222222222222,
              "#7201a8"
             ],
             [
              0.3333333333333333,
              "#9c179e"
             ],
             [
              0.4444444444444444,
              "#bd3786"
             ],
             [
              0.5555555555555556,
              "#d8576b"
             ],
             [
              0.6666666666666666,
              "#ed7953"
             ],
             [
              0.7777777777777778,
              "#fb9f3a"
             ],
             [
              0.8888888888888888,
              "#fdca26"
             ],
             [
              1,
              "#f0f921"
             ]
            ],
            "type": "histogram2d"
           }
          ],
          "histogram2dcontour": [
           {
            "colorbar": {
             "outlinewidth": 0,
             "ticks": ""
            },
            "colorscale": [
             [
              0,
              "#0d0887"
             ],
             [
              0.1111111111111111,
              "#46039f"
             ],
             [
              0.2222222222222222,
              "#7201a8"
             ],
             [
              0.3333333333333333,
              "#9c179e"
             ],
             [
              0.4444444444444444,
              "#bd3786"
             ],
             [
              0.5555555555555556,
              "#d8576b"
             ],
             [
              0.6666666666666666,
              "#ed7953"
             ],
             [
              0.7777777777777778,
              "#fb9f3a"
             ],
             [
              0.8888888888888888,
              "#fdca26"
             ],
             [
              1,
              "#f0f921"
             ]
            ],
            "type": "histogram2dcontour"
           }
          ],
          "mesh3d": [
           {
            "colorbar": {
             "outlinewidth": 0,
             "ticks": ""
            },
            "type": "mesh3d"
           }
          ],
          "parcoords": [
           {
            "line": {
             "colorbar": {
              "outlinewidth": 0,
              "ticks": ""
             }
            },
            "type": "parcoords"
           }
          ],
          "pie": [
           {
            "automargin": true,
            "type": "pie"
           }
          ],
          "scatter": [
           {
            "fillpattern": {
             "fillmode": "overlay",
             "size": 10,
             "solidity": 0.2
            },
            "type": "scatter"
           }
          ],
          "scatter3d": [
           {
            "line": {
             "colorbar": {
              "outlinewidth": 0,
              "ticks": ""
             }
            },
            "marker": {
             "colorbar": {
              "outlinewidth": 0,
              "ticks": ""
             }
            },
            "type": "scatter3d"
           }
          ],
          "scattercarpet": [
           {
            "marker": {
             "colorbar": {
              "outlinewidth": 0,
              "ticks": ""
             }
            },
            "type": "scattercarpet"
           }
          ],
          "scattergeo": [
           {
            "marker": {
             "colorbar": {
              "outlinewidth": 0,
              "ticks": ""
             }
            },
            "type": "scattergeo"
           }
          ],
          "scattergl": [
           {
            "marker": {
             "colorbar": {
              "outlinewidth": 0,
              "ticks": ""
             }
            },
            "type": "scattergl"
           }
          ],
          "scattermapbox": [
           {
            "marker": {
             "colorbar": {
              "outlinewidth": 0,
              "ticks": ""
             }
            },
            "type": "scattermapbox"
           }
          ],
          "scatterpolar": [
           {
            "marker": {
             "colorbar": {
              "outlinewidth": 0,
              "ticks": ""
             }
            },
            "type": "scatterpolar"
           }
          ],
          "scatterpolargl": [
           {
            "marker": {
             "colorbar": {
              "outlinewidth": 0,
              "ticks": ""
             }
            },
            "type": "scatterpolargl"
           }
          ],
          "scatterternary": [
           {
            "marker": {
             "colorbar": {
              "outlinewidth": 0,
              "ticks": ""
             }
            },
            "type": "scatterternary"
           }
          ],
          "surface": [
           {
            "colorbar": {
             "outlinewidth": 0,
             "ticks": ""
            },
            "colorscale": [
             [
              0,
              "#0d0887"
             ],
             [
              0.1111111111111111,
              "#46039f"
             ],
             [
              0.2222222222222222,
              "#7201a8"
             ],
             [
              0.3333333333333333,
              "#9c179e"
             ],
             [
              0.4444444444444444,
              "#bd3786"
             ],
             [
              0.5555555555555556,
              "#d8576b"
             ],
             [
              0.6666666666666666,
              "#ed7953"
             ],
             [
              0.7777777777777778,
              "#fb9f3a"
             ],
             [
              0.8888888888888888,
              "#fdca26"
             ],
             [
              1,
              "#f0f921"
             ]
            ],
            "type": "surface"
           }
          ],
          "table": [
           {
            "cells": {
             "fill": {
              "color": "#EBF0F8"
             },
             "line": {
              "color": "white"
             }
            },
            "header": {
             "fill": {
              "color": "#C8D4E3"
             },
             "line": {
              "color": "white"
             }
            },
            "type": "table"
           }
          ]
         },
         "layout": {
          "annotationdefaults": {
           "arrowcolor": "#2a3f5f",
           "arrowhead": 0,
           "arrowwidth": 1
          },
          "autotypenumbers": "strict",
          "coloraxis": {
           "colorbar": {
            "outlinewidth": 0,
            "ticks": ""
           }
          },
          "colorscale": {
           "diverging": [
            [
             0,
             "#8e0152"
            ],
            [
             0.1,
             "#c51b7d"
            ],
            [
             0.2,
             "#de77ae"
            ],
            [
             0.3,
             "#f1b6da"
            ],
            [
             0.4,
             "#fde0ef"
            ],
            [
             0.5,
             "#f7f7f7"
            ],
            [
             0.6,
             "#e6f5d0"
            ],
            [
             0.7,
             "#b8e186"
            ],
            [
             0.8,
             "#7fbc41"
            ],
            [
             0.9,
             "#4d9221"
            ],
            [
             1,
             "#276419"
            ]
           ],
           "sequential": [
            [
             0,
             "#0d0887"
            ],
            [
             0.1111111111111111,
             "#46039f"
            ],
            [
             0.2222222222222222,
             "#7201a8"
            ],
            [
             0.3333333333333333,
             "#9c179e"
            ],
            [
             0.4444444444444444,
             "#bd3786"
            ],
            [
             0.5555555555555556,
             "#d8576b"
            ],
            [
             0.6666666666666666,
             "#ed7953"
            ],
            [
             0.7777777777777778,
             "#fb9f3a"
            ],
            [
             0.8888888888888888,
             "#fdca26"
            ],
            [
             1,
             "#f0f921"
            ]
           ],
           "sequentialminus": [
            [
             0,
             "#0d0887"
            ],
            [
             0.1111111111111111,
             "#46039f"
            ],
            [
             0.2222222222222222,
             "#7201a8"
            ],
            [
             0.3333333333333333,
             "#9c179e"
            ],
            [
             0.4444444444444444,
             "#bd3786"
            ],
            [
             0.5555555555555556,
             "#d8576b"
            ],
            [
             0.6666666666666666,
             "#ed7953"
            ],
            [
             0.7777777777777778,
             "#fb9f3a"
            ],
            [
             0.8888888888888888,
             "#fdca26"
            ],
            [
             1,
             "#f0f921"
            ]
           ]
          },
          "colorway": [
           "#636efa",
           "#EF553B",
           "#00cc96",
           "#ab63fa",
           "#FFA15A",
           "#19d3f3",
           "#FF6692",
           "#B6E880",
           "#FF97FF",
           "#FECB52"
          ],
          "font": {
           "color": "#2a3f5f"
          },
          "geo": {
           "bgcolor": "white",
           "lakecolor": "white",
           "landcolor": "#E5ECF6",
           "showlakes": true,
           "showland": true,
           "subunitcolor": "white"
          },
          "hoverlabel": {
           "align": "left"
          },
          "hovermode": "closest",
          "mapbox": {
           "style": "light"
          },
          "paper_bgcolor": "white",
          "plot_bgcolor": "#E5ECF6",
          "polar": {
           "angularaxis": {
            "gridcolor": "white",
            "linecolor": "white",
            "ticks": ""
           },
           "bgcolor": "#E5ECF6",
           "radialaxis": {
            "gridcolor": "white",
            "linecolor": "white",
            "ticks": ""
           }
          },
          "scene": {
           "xaxis": {
            "backgroundcolor": "#E5ECF6",
            "gridcolor": "white",
            "gridwidth": 2,
            "linecolor": "white",
            "showbackground": true,
            "ticks": "",
            "zerolinecolor": "white"
           },
           "yaxis": {
            "backgroundcolor": "#E5ECF6",
            "gridcolor": "white",
            "gridwidth": 2,
            "linecolor": "white",
            "showbackground": true,
            "ticks": "",
            "zerolinecolor": "white"
           },
           "zaxis": {
            "backgroundcolor": "#E5ECF6",
            "gridcolor": "white",
            "gridwidth": 2,
            "linecolor": "white",
            "showbackground": true,
            "ticks": "",
            "zerolinecolor": "white"
           }
          },
          "shapedefaults": {
           "line": {
            "color": "#2a3f5f"
           }
          },
          "ternary": {
           "aaxis": {
            "gridcolor": "white",
            "linecolor": "white",
            "ticks": ""
           },
           "baxis": {
            "gridcolor": "white",
            "linecolor": "white",
            "ticks": ""
           },
           "bgcolor": "#E5ECF6",
           "caxis": {
            "gridcolor": "white",
            "linecolor": "white",
            "ticks": ""
           }
          },
          "title": {
           "x": 0.05
          },
          "xaxis": {
           "automargin": true,
           "gridcolor": "white",
           "linecolor": "white",
           "ticks": "",
           "title": {
            "standoff": 15
           },
           "zerolinecolor": "white",
           "zerolinewidth": 2
          },
          "yaxis": {
           "automargin": true,
           "gridcolor": "white",
           "linecolor": "white",
           "ticks": "",
           "title": {
            "standoff": 15
           },
           "zerolinecolor": "white",
           "zerolinewidth": 2
          }
         }
        },
        "xaxis": {
         "anchor": "y",
         "domain": [
          0,
          0.235
         ]
        },
        "xaxis10": {
         "anchor": "y10",
         "domain": [
          0.255,
          0.49
         ],
         "matches": "x",
         "showticklabels": false
        },
        "xaxis11": {
         "anchor": "y11",
         "domain": [
          0.51,
          0.745
         ],
         "matches": "x",
         "showticklabels": false
        },
        "xaxis12": {
         "anchor": "y12",
         "domain": [
          0.7649999999999999,
          0.9999999999999999
         ],
         "matches": "x",
         "showticklabels": false
        },
        "xaxis2": {
         "anchor": "y2",
         "domain": [
          0.255,
          0.49
         ],
         "matches": "x"
        },
        "xaxis3": {
         "anchor": "y3",
         "domain": [
          0.51,
          0.745
         ],
         "matches": "x"
        },
        "xaxis4": {
         "anchor": "y4",
         "domain": [
          0.7649999999999999,
          0.9999999999999999
         ],
         "matches": "x"
        },
        "xaxis5": {
         "anchor": "y5",
         "domain": [
          0,
          0.235
         ],
         "matches": "x",
         "showticklabels": false
        },
        "xaxis6": {
         "anchor": "y6",
         "domain": [
          0.255,
          0.49
         ],
         "matches": "x",
         "showticklabels": false
        },
        "xaxis7": {
         "anchor": "y7",
         "domain": [
          0.51,
          0.745
         ],
         "matches": "x",
         "showticklabels": false
        },
        "xaxis8": {
         "anchor": "y8",
         "domain": [
          0.7649999999999999,
          0.9999999999999999
         ],
         "matches": "x",
         "showticklabels": false
        },
        "xaxis9": {
         "anchor": "y9",
         "domain": [
          0,
          0.235
         ],
         "matches": "x",
         "showticklabels": false
        },
        "yaxis": {
         "anchor": "x",
         "domain": [
          0,
          0.2866666666666666
         ]
        },
        "yaxis10": {
         "anchor": "x10",
         "domain": [
          0.7133333333333333,
          0.9999999999999999
         ],
         "matches": "y",
         "showticklabels": false
        },
        "yaxis11": {
         "anchor": "x11",
         "domain": [
          0.7133333333333333,
          0.9999999999999999
         ],
         "matches": "y",
         "showticklabels": false
        },
        "yaxis12": {
         "anchor": "x12",
         "domain": [
          0.7133333333333333,
          0.9999999999999999
         ],
         "matches": "y",
         "showticklabels": false
        },
        "yaxis2": {
         "anchor": "x2",
         "domain": [
          0,
          0.2866666666666666
         ],
         "matches": "y",
         "showticklabels": false
        },
        "yaxis3": {
         "anchor": "x3",
         "domain": [
          0,
          0.2866666666666666
         ],
         "matches": "y",
         "showticklabels": false
        },
        "yaxis4": {
         "anchor": "x4",
         "domain": [
          0,
          0.2866666666666666
         ],
         "matches": "y",
         "showticklabels": false
        },
        "yaxis5": {
         "anchor": "x5",
         "domain": [
          0.35666666666666663,
          0.6433333333333333
         ],
         "matches": "y"
        },
        "yaxis6": {
         "anchor": "x6",
         "domain": [
          0.35666666666666663,
          0.6433333333333333
         ],
         "matches": "y",
         "showticklabels": false
        },
        "yaxis7": {
         "anchor": "x7",
         "domain": [
          0.35666666666666663,
          0.6433333333333333
         ],
         "matches": "y",
         "showticklabels": false
        },
        "yaxis8": {
         "anchor": "x8",
         "domain": [
          0.35666666666666663,
          0.6433333333333333
         ],
         "matches": "y",
         "showticklabels": false
        },
        "yaxis9": {
         "anchor": "x9",
         "domain": [
          0.7133333333333333,
          0.9999999999999999
         ],
         "matches": "y"
        }
       }
      }
     },
     "metadata": {},
     "output_type": "display_data"
    }
   ],
   "source": [
    "IMGS_IDX = [0, 351, 5673, 5494, 32, 55, 66, 776, 564]\n",
    "x = x_train[IMGS_IDX]\n",
    "y = y_train[IMGS_IDX]\n",
    "px.imshow(x, facet_col=0, facet_col_wrap=4)"
   ]
  },
  {
   "cell_type": "markdown",
   "metadata": {},
   "source": [
    "### Model declaration"
   ]
  },
  {
   "cell_type": "code",
   "execution_count": 6,
   "metadata": {},
   "outputs": [],
   "source": [
    "def create_nn() -> list[Layer]:\n",
    "    return [\n",
    "        Convolutional((10, 5, 5, 3)),\n",
    "        Relu(),\n",
    "        MaxPool((2, 2)),\n",
    "        Convolutional((10, 3, 3, 10)),\n",
    "        Relu(),\n",
    "        MaxPool((2, 2)),\n",
    "        Flatten(),\n",
    "        Linear(360, 64),\n",
    "        Relu(),\n",
    "        Linear(64, y.shape[1]),\n",
    "        Softmax(),\n",
    "    ]"
   ]
  },
  {
   "cell_type": "markdown",
   "metadata": {},
   "source": [
    "## Training"
   ]
  },
  {
   "cell_type": "code",
   "execution_count": 7,
   "metadata": {},
   "outputs": [
    {
     "data": {
      "application/vnd.jupyter.widget-view+json": {
       "model_id": "acc3f08aa12f4525a0d4cbf73a94e779",
       "version_major": 2,
       "version_minor": 0
      },
      "text/plain": [
       "Output()"
      ]
     },
     "metadata": {},
     "output_type": "display_data"
    },
    {
     "data": {
      "text/html": [
       "<pre style=\"white-space:pre;overflow-x:auto;line-height:normal;font-family:Menlo,'DejaVu Sans Mono',consolas,'Courier New',monospace\"></pre>\n"
      ],
      "text/plain": []
     },
     "metadata": {},
     "output_type": "display_data"
    }
   ],
   "source": [
    "training_stats = (\n",
    "    Adam(\n",
    "        starting_lr=0.01,\n",
    "        lr_decay=0.0005,\n",
    "        momentum_weight=0.9,\n",
    "        ada_grad_weight=0.9,\n",
    "    )\n",
    "    .optimize_nn(\n",
    "        create_nn(),\n",
    "        x,\n",
    "        y,\n",
    "        epochs=100,\n",
    "        batch_size=128,\n",
    "        loss=BinaryCrossentropy(),\n",
    "    )\n",
    ")"
   ]
  },
  {
   "cell_type": "code",
   "execution_count": 8,
   "metadata": {},
   "outputs": [
    {
     "data": {
      "application/vnd.plotly.v1+json": {
       "config": {
        "plotlyServerURL": "https://plot.ly"
       },
       "data": [
        {
         "hovertemplate": "variable=loss<br>iteration=%{x}<br>value=%{y}<extra></extra>",
         "legendgroup": "loss",
         "marker": {
          "color": "#636efa",
          "symbol": "circle"
         },
         "mode": "markers",
         "name": "loss",
         "orientation": "v",
         "showlegend": true,
         "type": "scatter",
         "x": [
          0,
          1,
          2,
          3,
          4,
          5,
          6,
          7,
          8,
          9,
          10,
          11,
          12,
          13,
          14,
          15,
          16,
          17,
          18,
          19,
          20,
          21,
          22,
          23,
          24,
          25,
          26,
          27,
          28,
          29,
          30,
          31,
          32,
          33,
          34,
          35,
          36,
          37,
          38,
          39,
          40,
          41,
          42,
          43,
          44,
          45,
          46,
          47,
          48,
          49,
          50,
          51,
          52,
          53,
          54,
          55,
          56,
          57,
          58,
          59,
          60,
          61,
          62,
          63,
          64,
          65,
          66,
          67,
          68,
          69,
          70,
          71,
          72,
          73,
          74,
          75,
          76,
          77,
          78,
          79,
          80,
          81,
          82,
          83,
          84,
          85,
          86,
          87,
          88,
          89,
          90,
          91,
          92,
          93,
          94,
          95,
          96,
          97,
          98,
          99
         ],
         "xaxis": "x3",
         "y": [
          0.32508297460140567,
          0.3240041340510989,
          0.31771348113290904,
          0.285962032359851,
          0.2741619418507922,
          0.2656371577534656,
          0.26618946390204695,
          0.26616041804937823,
          0.26253560919983954,
          0.25853910866328067,
          0.2571487786723341,
          0.25586906478101645,
          0.25335498194394224,
          0.24969315834957911,
          0.24549908132784365,
          0.23780003647121914,
          0.22612508874455228,
          0.21089379766500052,
          0.19112695309502184,
          0.16734556984461096,
          0.1351496945661969,
          0.11546839774166834,
          0.07913443465164985,
          0.06445859195796501,
          0.054166249316285685,
          0.03578327699208239,
          0.0434780010025488,
          0.03343189512839409,
          0.022569819428687386,
          0.04636154883960385,
          0.00568610503479989,
          0.023869220223297256,
          0.0016446456362642276,
          0.03881487793879171,
          0.000262806827981909,
          0.03993597266241087,
          0.0011296013908634406,
          0.10472098589415088,
          0.025579454048636232,
          0.0000694667774602476,
          0.1426371915793027,
          0.007840220968236077,
          0.00007149690372509989,
          0.031081388871213422,
          0.019643689749320563,
          0.00023111525063274668,
          0.00002228089010716595,
          0.00005570018312463174,
          0.00034459187653160137,
          0.005052713786472209,
          0.006353259398359111,
          0.0011310139671288136,
          0.0004104151563835507,
          0.0002294405069287114,
          0.00008912901909628503,
          0.00006226264256250962,
          0.00023366774049508922,
          0.0012064646471558929,
          0.0009990373547913674,
          0.0006221702013851981,
          0.0005608305461120475,
          0.0008860475489903081,
          0.0011430165697120778,
          0.00039952035444003483,
          0.00014907370861815442,
          0.0000826463635378033,
          0.00006743381511963369,
          0.0000889776995018196,
          0.00013994261552813814,
          0.000173742156789537,
          0.0001164964109156587,
          0.0000617782701450528,
          0.00002770781240391141,
          0.000011168604754887761,
          0.000004512320537077833,
          0.000002037227195085342,
          0.0000010024186746885079,
          5.555017077813142e-7,
          3.566481237052614e-7,
          2.6693676432383975e-7,
          2.2752579614360718e-7,
          2.1263324151716975e-7,
          2.106465993980304e-7,
          2.154818214562597e-7,
          2.2431958821853117e-7,
          2.3648034277987055e-7,
          2.5119455211739507e-7,
          2.6755679000683317e-7,
          2.8451522548528804e-7,
          3.019759461724727e-7,
          3.1983786576666167e-7,
          3.3776704472552095e-7,
          3.5329527566529507e-7,
          3.68657476785498e-7,
          3.837391800898591e-7,
          3.984051881987253e-7,
          4.1248756515628877e-7,
          4.2577317223927357e-7,
          4.382325739620418e-7,
          4.494972536696611e-7
         ],
         "yaxis": "y3"
        },
        {
         "hovertemplate": "variable=accuracy<br>iteration=%{x}<br>value=%{y}<extra></extra>",
         "legendgroup": "accuracy",
         "marker": {
          "color": "#EF553B",
          "symbol": "circle"
         },
         "mode": "markers",
         "name": "accuracy",
         "orientation": "v",
         "showlegend": true,
         "type": "scatter",
         "x": [
          0,
          1,
          2,
          3,
          4,
          5,
          6,
          7,
          8,
          9,
          10,
          11,
          12,
          13,
          14,
          15,
          16,
          17,
          18,
          19,
          20,
          21,
          22,
          23,
          24,
          25,
          26,
          27,
          28,
          29,
          30,
          31,
          32,
          33,
          34,
          35,
          36,
          37,
          38,
          39,
          40,
          41,
          42,
          43,
          44,
          45,
          46,
          47,
          48,
          49,
          50,
          51,
          52,
          53,
          54,
          55,
          56,
          57,
          58,
          59,
          60,
          61,
          62,
          63,
          64,
          65,
          66,
          67,
          68,
          69,
          70,
          71,
          72,
          73,
          74,
          75,
          76,
          77,
          78,
          79,
          80,
          81,
          82,
          83,
          84,
          85,
          86,
          87,
          88,
          89,
          90,
          91,
          92,
          93,
          94,
          95,
          96,
          97,
          98,
          99
         ],
         "xaxis": "x2",
         "y": [
          0.1111111111111111,
          0.3333333333333333,
          0.3333333333333333,
          0.3333333333333333,
          0.3333333333333333,
          0.3333333333333333,
          0.3333333333333333,
          0.3333333333333333,
          0.3333333333333333,
          0.3333333333333333,
          0.3333333333333333,
          0.3333333333333333,
          0.3333333333333333,
          0.3333333333333333,
          0.3333333333333333,
          0.3333333333333333,
          0.5555555555555556,
          0.4444444444444444,
          0.4444444444444444,
          0.5555555555555556,
          0.7777777777777778,
          0.6666666666666666,
          0.7777777777777778,
          0.7777777777777778,
          0.8888888888888888,
          0.8888888888888888,
          0.8888888888888888,
          1,
          0.8888888888888888,
          0.8888888888888888,
          1,
          0.8888888888888888,
          1,
          0.8888888888888888,
          1,
          0.8888888888888888,
          1,
          0.8888888888888888,
          0.8888888888888888,
          1,
          0.8888888888888888,
          1,
          1,
          0.8888888888888888,
          0.8888888888888888,
          1,
          1,
          1,
          1,
          1,
          1,
          1,
          1,
          1,
          1,
          1,
          1,
          1,
          1,
          1,
          1,
          1,
          1,
          1,
          1,
          1,
          1,
          1,
          1,
          1,
          1,
          1,
          1,
          1,
          1,
          1,
          1,
          1,
          1,
          1,
          1,
          1,
          1,
          1,
          1,
          1,
          1,
          1,
          1,
          1,
          1,
          1,
          1,
          1,
          1,
          1,
          1,
          1,
          1,
          1
         ],
         "yaxis": "y2"
        },
        {
         "hovertemplate": "variable=learning_rate<br>iteration=%{x}<br>value=%{y}<extra></extra>",
         "legendgroup": "learning_rate",
         "marker": {
          "color": "#00cc96",
          "symbol": "circle"
         },
         "mode": "markers",
         "name": "learning_rate",
         "orientation": "v",
         "showlegend": true,
         "type": "scatter",
         "x": [
          0,
          1,
          2,
          3,
          4,
          5,
          6,
          7,
          8,
          9,
          10,
          11,
          12,
          13,
          14,
          15,
          16,
          17,
          18,
          19,
          20,
          21,
          22,
          23,
          24,
          25,
          26,
          27,
          28,
          29,
          30,
          31,
          32,
          33,
          34,
          35,
          36,
          37,
          38,
          39,
          40,
          41,
          42,
          43,
          44,
          45,
          46,
          47,
          48,
          49,
          50,
          51,
          52,
          53,
          54,
          55,
          56,
          57,
          58,
          59,
          60,
          61,
          62,
          63,
          64,
          65,
          66,
          67,
          68,
          69,
          70,
          71,
          72,
          73,
          74,
          75,
          76,
          77,
          78,
          79,
          80,
          81,
          82,
          83,
          84,
          85,
          86,
          87,
          88,
          89,
          90,
          91,
          92,
          93,
          94,
          95,
          96,
          97,
          98,
          99
         ],
         "xaxis": "x",
         "y": [
          0.01,
          0.009995002498750625,
          0.009990009990009992,
          0.009985022466300548,
          0.00998003992015968,
          0.009975062344139652,
          0.009970089730807579,
          0.009965122072745391,
          0.0099601593625498,
          0.009955201592832256,
          0.009950248756218907,
          0.009945300845350571,
          0.009940357852882704,
          0.009935419771485345,
          0.0099304865938431,
          0.009925558312655087,
          0.00992063492063492,
          0.00991571641051066,
          0.009910802775024779,
          0.009905894006934125,
          0.009900990099009901,
          0.009896091044037606,
          0.009891196834817014,
          0.009886307464162135,
          0.009881422924901186,
          0.009876543209876543,
          0.00987166831194472,
          0.00986679822397632,
          0.009861932938856016,
          0.009857072449482505,
          0.009852216748768475,
          0.00984736582964057,
          0.00984251968503937,
          0.009837678307919331,
          0.009832841691248772,
          0.009828009828009828,
          0.009823182711198428,
          0.009818360333824251,
          0.009813542688910697,
          0.00980872976949485,
          0.00980392156862745,
          0.009799118079372856,
          0.009794319294809012,
          0.00978952520802741,
          0.009784735812133072,
          0.009779951100244499,
          0.009775171065493648,
          0.009770395701025891,
          0.009765625,
          0.009760858955588092,
          0.009756097560975611,
          0.009751340809361287,
          0.009746588693957114,
          0.00974184120798831,
          0.009737098344693282,
          0.009732360097323601,
          0.009727626459143969,
          0.009722897423432183,
          0.009718172983479108,
          0.009713453132588635,
          0.009708737864077669,
          0.00970402717127608,
          0.009699321047526674,
          0.009694619486185167,
          0.009689922480620155,
          0.009685230024213076,
          0.009680542110358181,
          0.009675858732462506,
          0.009671179883945842,
          0.009666505558240696,
          0.009661835748792272,
          0.009657170449058426,
          0.009652509652509652,
          0.00964785335262904,
          0.009643201542912247,
          0.009638554216867469,
          0.009633911368015413,
          0.009629272989889264,
          0.00962463907603465,
          0.009620009620009619,
          0.009615384615384616,
          0.009610764055742432,
          0.009606147934678195,
          0.009601536245799328,
          0.009596928982725527,
          0.00959232613908873,
          0.009587727708533078,
          0.009583133684714902,
          0.009578544061302681,
          0.009573958831977022,
          0.009569377990430623,
          0.009564801530368244,
          0.009560229445506692,
          0.009555661729574774,
          0.009551098376313277,
          0.009546539379474939,
          0.009541984732824428,
          0.009537434430138294,
          0.009532888465204958,
          0.009528346831824677
         ],
         "yaxis": "y"
        }
       ],
       "layout": {
        "annotations": [
         {
          "font": {},
          "showarrow": false,
          "text": "variable=learning_rate",
          "textangle": 90,
          "x": 0.98,
          "xanchor": "left",
          "xref": "paper",
          "y": 0.15666666666666665,
          "yanchor": "middle",
          "yref": "paper"
         },
         {
          "font": {},
          "showarrow": false,
          "text": "variable=accuracy",
          "textangle": 90,
          "x": 0.98,
          "xanchor": "left",
          "xref": "paper",
          "y": 0.4999999999999999,
          "yanchor": "middle",
          "yref": "paper"
         },
         {
          "font": {},
          "showarrow": false,
          "text": "variable=loss",
          "textangle": 90,
          "x": 0.98,
          "xanchor": "left",
          "xref": "paper",
          "y": 0.8433333333333332,
          "yanchor": "middle",
          "yref": "paper"
         }
        ],
        "height": 700,
        "legend": {
         "title": {
          "text": "variable"
         },
         "tracegroupgap": 0
        },
        "template": {
         "data": {
          "bar": [
           {
            "error_x": {
             "color": "#2a3f5f"
            },
            "error_y": {
             "color": "#2a3f5f"
            },
            "marker": {
             "line": {
              "color": "#E5ECF6",
              "width": 0.5
             },
             "pattern": {
              "fillmode": "overlay",
              "size": 10,
              "solidity": 0.2
             }
            },
            "type": "bar"
           }
          ],
          "barpolar": [
           {
            "marker": {
             "line": {
              "color": "#E5ECF6",
              "width": 0.5
             },
             "pattern": {
              "fillmode": "overlay",
              "size": 10,
              "solidity": 0.2
             }
            },
            "type": "barpolar"
           }
          ],
          "carpet": [
           {
            "aaxis": {
             "endlinecolor": "#2a3f5f",
             "gridcolor": "white",
             "linecolor": "white",
             "minorgridcolor": "white",
             "startlinecolor": "#2a3f5f"
            },
            "baxis": {
             "endlinecolor": "#2a3f5f",
             "gridcolor": "white",
             "linecolor": "white",
             "minorgridcolor": "white",
             "startlinecolor": "#2a3f5f"
            },
            "type": "carpet"
           }
          ],
          "choropleth": [
           {
            "colorbar": {
             "outlinewidth": 0,
             "ticks": ""
            },
            "type": "choropleth"
           }
          ],
          "contour": [
           {
            "colorbar": {
             "outlinewidth": 0,
             "ticks": ""
            },
            "colorscale": [
             [
              0,
              "#0d0887"
             ],
             [
              0.1111111111111111,
              "#46039f"
             ],
             [
              0.2222222222222222,
              "#7201a8"
             ],
             [
              0.3333333333333333,
              "#9c179e"
             ],
             [
              0.4444444444444444,
              "#bd3786"
             ],
             [
              0.5555555555555556,
              "#d8576b"
             ],
             [
              0.6666666666666666,
              "#ed7953"
             ],
             [
              0.7777777777777778,
              "#fb9f3a"
             ],
             [
              0.8888888888888888,
              "#fdca26"
             ],
             [
              1,
              "#f0f921"
             ]
            ],
            "type": "contour"
           }
          ],
          "contourcarpet": [
           {
            "colorbar": {
             "outlinewidth": 0,
             "ticks": ""
            },
            "type": "contourcarpet"
           }
          ],
          "heatmap": [
           {
            "colorbar": {
             "outlinewidth": 0,
             "ticks": ""
            },
            "colorscale": [
             [
              0,
              "#0d0887"
             ],
             [
              0.1111111111111111,
              "#46039f"
             ],
             [
              0.2222222222222222,
              "#7201a8"
             ],
             [
              0.3333333333333333,
              "#9c179e"
             ],
             [
              0.4444444444444444,
              "#bd3786"
             ],
             [
              0.5555555555555556,
              "#d8576b"
             ],
             [
              0.6666666666666666,
              "#ed7953"
             ],
             [
              0.7777777777777778,
              "#fb9f3a"
             ],
             [
              0.8888888888888888,
              "#fdca26"
             ],
             [
              1,
              "#f0f921"
             ]
            ],
            "type": "heatmap"
           }
          ],
          "heatmapgl": [
           {
            "colorbar": {
             "outlinewidth": 0,
             "ticks": ""
            },
            "colorscale": [
             [
              0,
              "#0d0887"
             ],
             [
              0.1111111111111111,
              "#46039f"
             ],
             [
              0.2222222222222222,
              "#7201a8"
             ],
             [
              0.3333333333333333,
              "#9c179e"
             ],
             [
              0.4444444444444444,
              "#bd3786"
             ],
             [
              0.5555555555555556,
              "#d8576b"
             ],
             [
              0.6666666666666666,
              "#ed7953"
             ],
             [
              0.7777777777777778,
              "#fb9f3a"
             ],
             [
              0.8888888888888888,
              "#fdca26"
             ],
             [
              1,
              "#f0f921"
             ]
            ],
            "type": "heatmapgl"
           }
          ],
          "histogram": [
           {
            "marker": {
             "pattern": {
              "fillmode": "overlay",
              "size": 10,
              "solidity": 0.2
             }
            },
            "type": "histogram"
           }
          ],
          "histogram2d": [
           {
            "colorbar": {
             "outlinewidth": 0,
             "ticks": ""
            },
            "colorscale": [
             [
              0,
              "#0d0887"
             ],
             [
              0.1111111111111111,
              "#46039f"
             ],
             [
              0.2222222222222222,
              "#7201a8"
             ],
             [
              0.3333333333333333,
              "#9c179e"
             ],
             [
              0.4444444444444444,
              "#bd3786"
             ],
             [
              0.5555555555555556,
              "#d8576b"
             ],
             [
              0.6666666666666666,
              "#ed7953"
             ],
             [
              0.7777777777777778,
              "#fb9f3a"
             ],
             [
              0.8888888888888888,
              "#fdca26"
             ],
             [
              1,
              "#f0f921"
             ]
            ],
            "type": "histogram2d"
           }
          ],
          "histogram2dcontour": [
           {
            "colorbar": {
             "outlinewidth": 0,
             "ticks": ""
            },
            "colorscale": [
             [
              0,
              "#0d0887"
             ],
             [
              0.1111111111111111,
              "#46039f"
             ],
             [
              0.2222222222222222,
              "#7201a8"
             ],
             [
              0.3333333333333333,
              "#9c179e"
             ],
             [
              0.4444444444444444,
              "#bd3786"
             ],
             [
              0.5555555555555556,
              "#d8576b"
             ],
             [
              0.6666666666666666,
              "#ed7953"
             ],
             [
              0.7777777777777778,
              "#fb9f3a"
             ],
             [
              0.8888888888888888,
              "#fdca26"
             ],
             [
              1,
              "#f0f921"
             ]
            ],
            "type": "histogram2dcontour"
           }
          ],
          "mesh3d": [
           {
            "colorbar": {
             "outlinewidth": 0,
             "ticks": ""
            },
            "type": "mesh3d"
           }
          ],
          "parcoords": [
           {
            "line": {
             "colorbar": {
              "outlinewidth": 0,
              "ticks": ""
             }
            },
            "type": "parcoords"
           }
          ],
          "pie": [
           {
            "automargin": true,
            "type": "pie"
           }
          ],
          "scatter": [
           {
            "fillpattern": {
             "fillmode": "overlay",
             "size": 10,
             "solidity": 0.2
            },
            "type": "scatter"
           }
          ],
          "scatter3d": [
           {
            "line": {
             "colorbar": {
              "outlinewidth": 0,
              "ticks": ""
             }
            },
            "marker": {
             "colorbar": {
              "outlinewidth": 0,
              "ticks": ""
             }
            },
            "type": "scatter3d"
           }
          ],
          "scattercarpet": [
           {
            "marker": {
             "colorbar": {
              "outlinewidth": 0,
              "ticks": ""
             }
            },
            "type": "scattercarpet"
           }
          ],
          "scattergeo": [
           {
            "marker": {
             "colorbar": {
              "outlinewidth": 0,
              "ticks": ""
             }
            },
            "type": "scattergeo"
           }
          ],
          "scattergl": [
           {
            "marker": {
             "colorbar": {
              "outlinewidth": 0,
              "ticks": ""
             }
            },
            "type": "scattergl"
           }
          ],
          "scattermapbox": [
           {
            "marker": {
             "colorbar": {
              "outlinewidth": 0,
              "ticks": ""
             }
            },
            "type": "scattermapbox"
           }
          ],
          "scatterpolar": [
           {
            "marker": {
             "colorbar": {
              "outlinewidth": 0,
              "ticks": ""
             }
            },
            "type": "scatterpolar"
           }
          ],
          "scatterpolargl": [
           {
            "marker": {
             "colorbar": {
              "outlinewidth": 0,
              "ticks": ""
             }
            },
            "type": "scatterpolargl"
           }
          ],
          "scatterternary": [
           {
            "marker": {
             "colorbar": {
              "outlinewidth": 0,
              "ticks": ""
             }
            },
            "type": "scatterternary"
           }
          ],
          "surface": [
           {
            "colorbar": {
             "outlinewidth": 0,
             "ticks": ""
            },
            "colorscale": [
             [
              0,
              "#0d0887"
             ],
             [
              0.1111111111111111,
              "#46039f"
             ],
             [
              0.2222222222222222,
              "#7201a8"
             ],
             [
              0.3333333333333333,
              "#9c179e"
             ],
             [
              0.4444444444444444,
              "#bd3786"
             ],
             [
              0.5555555555555556,
              "#d8576b"
             ],
             [
              0.6666666666666666,
              "#ed7953"
             ],
             [
              0.7777777777777778,
              "#fb9f3a"
             ],
             [
              0.8888888888888888,
              "#fdca26"
             ],
             [
              1,
              "#f0f921"
             ]
            ],
            "type": "surface"
           }
          ],
          "table": [
           {
            "cells": {
             "fill": {
              "color": "#EBF0F8"
             },
             "line": {
              "color": "white"
             }
            },
            "header": {
             "fill": {
              "color": "#C8D4E3"
             },
             "line": {
              "color": "white"
             }
            },
            "type": "table"
           }
          ]
         },
         "layout": {
          "annotationdefaults": {
           "arrowcolor": "#2a3f5f",
           "arrowhead": 0,
           "arrowwidth": 1
          },
          "autotypenumbers": "strict",
          "coloraxis": {
           "colorbar": {
            "outlinewidth": 0,
            "ticks": ""
           }
          },
          "colorscale": {
           "diverging": [
            [
             0,
             "#8e0152"
            ],
            [
             0.1,
             "#c51b7d"
            ],
            [
             0.2,
             "#de77ae"
            ],
            [
             0.3,
             "#f1b6da"
            ],
            [
             0.4,
             "#fde0ef"
            ],
            [
             0.5,
             "#f7f7f7"
            ],
            [
             0.6,
             "#e6f5d0"
            ],
            [
             0.7,
             "#b8e186"
            ],
            [
             0.8,
             "#7fbc41"
            ],
            [
             0.9,
             "#4d9221"
            ],
            [
             1,
             "#276419"
            ]
           ],
           "sequential": [
            [
             0,
             "#0d0887"
            ],
            [
             0.1111111111111111,
             "#46039f"
            ],
            [
             0.2222222222222222,
             "#7201a8"
            ],
            [
             0.3333333333333333,
             "#9c179e"
            ],
            [
             0.4444444444444444,
             "#bd3786"
            ],
            [
             0.5555555555555556,
             "#d8576b"
            ],
            [
             0.6666666666666666,
             "#ed7953"
            ],
            [
             0.7777777777777778,
             "#fb9f3a"
            ],
            [
             0.8888888888888888,
             "#fdca26"
            ],
            [
             1,
             "#f0f921"
            ]
           ],
           "sequentialminus": [
            [
             0,
             "#0d0887"
            ],
            [
             0.1111111111111111,
             "#46039f"
            ],
            [
             0.2222222222222222,
             "#7201a8"
            ],
            [
             0.3333333333333333,
             "#9c179e"
            ],
            [
             0.4444444444444444,
             "#bd3786"
            ],
            [
             0.5555555555555556,
             "#d8576b"
            ],
            [
             0.6666666666666666,
             "#ed7953"
            ],
            [
             0.7777777777777778,
             "#fb9f3a"
            ],
            [
             0.8888888888888888,
             "#fdca26"
            ],
            [
             1,
             "#f0f921"
            ]
           ]
          },
          "colorway": [
           "#636efa",
           "#EF553B",
           "#00cc96",
           "#ab63fa",
           "#FFA15A",
           "#19d3f3",
           "#FF6692",
           "#B6E880",
           "#FF97FF",
           "#FECB52"
          ],
          "font": {
           "color": "#2a3f5f"
          },
          "geo": {
           "bgcolor": "white",
           "lakecolor": "white",
           "landcolor": "#E5ECF6",
           "showlakes": true,
           "showland": true,
           "subunitcolor": "white"
          },
          "hoverlabel": {
           "align": "left"
          },
          "hovermode": "closest",
          "mapbox": {
           "style": "light"
          },
          "paper_bgcolor": "white",
          "plot_bgcolor": "#E5ECF6",
          "polar": {
           "angularaxis": {
            "gridcolor": "white",
            "linecolor": "white",
            "ticks": ""
           },
           "bgcolor": "#E5ECF6",
           "radialaxis": {
            "gridcolor": "white",
            "linecolor": "white",
            "ticks": ""
           }
          },
          "scene": {
           "xaxis": {
            "backgroundcolor": "#E5ECF6",
            "gridcolor": "white",
            "gridwidth": 2,
            "linecolor": "white",
            "showbackground": true,
            "ticks": "",
            "zerolinecolor": "white"
           },
           "yaxis": {
            "backgroundcolor": "#E5ECF6",
            "gridcolor": "white",
            "gridwidth": 2,
            "linecolor": "white",
            "showbackground": true,
            "ticks": "",
            "zerolinecolor": "white"
           },
           "zaxis": {
            "backgroundcolor": "#E5ECF6",
            "gridcolor": "white",
            "gridwidth": 2,
            "linecolor": "white",
            "showbackground": true,
            "ticks": "",
            "zerolinecolor": "white"
           }
          },
          "shapedefaults": {
           "line": {
            "color": "#2a3f5f"
           }
          },
          "ternary": {
           "aaxis": {
            "gridcolor": "white",
            "linecolor": "white",
            "ticks": ""
           },
           "baxis": {
            "gridcolor": "white",
            "linecolor": "white",
            "ticks": ""
           },
           "bgcolor": "#E5ECF6",
           "caxis": {
            "gridcolor": "white",
            "linecolor": "white",
            "ticks": ""
           }
          },
          "title": {
           "x": 0.05
          },
          "xaxis": {
           "automargin": true,
           "gridcolor": "white",
           "linecolor": "white",
           "ticks": "",
           "title": {
            "standoff": 15
           },
           "zerolinecolor": "white",
           "zerolinewidth": 2
          },
          "yaxis": {
           "automargin": true,
           "gridcolor": "white",
           "linecolor": "white",
           "ticks": "",
           "title": {
            "standoff": 15
           },
           "zerolinecolor": "white",
           "zerolinewidth": 2
          }
         }
        },
        "title": {
         "text": "Training Metrics Over epochs"
        },
        "xaxis": {
         "anchor": "y",
         "domain": [
          0,
          0.98
         ],
         "title": {
          "text": "iteration"
         }
        },
        "xaxis2": {
         "anchor": "y2",
         "domain": [
          0,
          0.98
         ],
         "matches": "x",
         "showticklabels": false
        },
        "xaxis3": {
         "anchor": "y3",
         "domain": [
          0,
          0.98
         ],
         "matches": "x",
         "showticklabels": false
        },
        "yaxis": {
         "anchor": "x",
         "domain": [
          0,
          0.3133333333333333
         ],
         "title": {
          "text": "value"
         }
        },
        "yaxis2": {
         "anchor": "x2",
         "domain": [
          0.34333333333333327,
          0.6566666666666665
         ],
         "title": {
          "text": "value"
         }
        },
        "yaxis3": {
         "anchor": "x3",
         "domain": [
          0.6866666666666665,
          0.9999999999999998
         ],
         "title": {
          "text": "value"
         }
        }
       }
      }
     },
     "metadata": {},
     "output_type": "display_data"
    }
   ],
   "source": [
    "fig = (\n",
    "    px.scatter(\n",
    "        training_stats.melt([\"iteration\"], [\"loss\",  \"accuracy\", \"learning_rate\"]), \n",
    "        x=\"iteration\",\n",
    "        y=\"value\",\n",
    "        color=\"variable\",\n",
    "        facet_row=\"variable\",\n",
    "        title=\"Training Metrics Over epochs\",\n",
    "        height=700,\n",
    "    )\n",
    "    .update_yaxes(matches=None)\n",
    ")\n",
    "fig.show()"
   ]
  },
  {
   "cell_type": "code",
   "execution_count": 39,
   "metadata": {},
   "outputs": [
    {
     "data": {
      "application/vnd.jupyter.widget-view+json": {
       "model_id": "d4967b29ed934a7c8023b907110ca365",
       "version_major": 2,
       "version_minor": 0
      },
      "text/plain": [
       "Output()"
      ]
     },
     "metadata": {},
     "output_type": "display_data"
    },
    {
     "data": {
      "text/html": [
       "<pre style=\"white-space:pre;overflow-x:auto;line-height:normal;font-family:Menlo,'DejaVu Sans Mono',consolas,'Courier New',monospace\"></pre>\n"
      ],
      "text/plain": []
     },
     "metadata": {},
     "output_type": "display_data"
    }
   ],
   "source": [
    "N_SAMPLES = 100\n",
    "nn = create_nn()\n",
    "optimizer = Adam(\n",
    "    starting_lr=0.01,\n",
    "    lr_decay=0.0001,\n",
    "    momentum_weight=0.99,\n",
    "    ada_grad_weight=0.99,\n",
    ")\n",
    "training_stats = (\n",
    "    optimizer\n",
    "    .optimize_nn(\n",
    "        nn,\n",
    "        x_train[:N_SAMPLES],\n",
    "        y_train[:N_SAMPLES],\n",
    "        epochs=200,\n",
    "        batch_size=128,\n",
    "        loss=BinaryCrossentropy(),\n",
    "    )\n",
    ")"
   ]
  },
  {
   "cell_type": "code",
   "execution_count": 40,
   "metadata": {},
   "outputs": [
    {
     "data": {
      "application/vnd.plotly.v1+json": {
       "config": {
        "plotlyServerURL": "https://plot.ly"
       },
       "data": [
        {
         "hovertemplate": "variable=loss<br>iteration=%{x}<br>value=%{y}<extra></extra>",
         "legendgroup": "loss",
         "marker": {
          "color": "#636efa",
          "symbol": "circle"
         },
         "mode": "markers",
         "name": "loss",
         "orientation": "v",
         "showlegend": true,
         "type": "scatter",
         "x": [
          0,
          1,
          2,
          3,
          4,
          5,
          6,
          7,
          8,
          9,
          10,
          11,
          12,
          13,
          14,
          15,
          16,
          17,
          18,
          19,
          20,
          21,
          22,
          23,
          24,
          25,
          26,
          27,
          28,
          29,
          30,
          31,
          32,
          33,
          34,
          35,
          36,
          37,
          38,
          39,
          40,
          41,
          42,
          43,
          44,
          45,
          46,
          47,
          48,
          49,
          50,
          51,
          52,
          53,
          54,
          55,
          56,
          57,
          58,
          59,
          60,
          61,
          62,
          63,
          64,
          65,
          66,
          67,
          68,
          69,
          70,
          71,
          72,
          73,
          74,
          75,
          76,
          77,
          78,
          79,
          80,
          81,
          82,
          83,
          84,
          85,
          86,
          87,
          88,
          89,
          90,
          91,
          92,
          93,
          94,
          95,
          96,
          97,
          98,
          99,
          100,
          101,
          102,
          103,
          104,
          105,
          106,
          107,
          108,
          109,
          110,
          111,
          112,
          113,
          114,
          115,
          116,
          117,
          118,
          119,
          120,
          121,
          122,
          123,
          124,
          125,
          126,
          127,
          128,
          129,
          130,
          131,
          132,
          133,
          134,
          135,
          136,
          137,
          138,
          139,
          140,
          141,
          142,
          143,
          144,
          145,
          146,
          147,
          148,
          149,
          150,
          151,
          152,
          153,
          154,
          155,
          156,
          157,
          158,
          159,
          160,
          161,
          162,
          163,
          164,
          165,
          166,
          167,
          168,
          169,
          170,
          171,
          172,
          173,
          174,
          175,
          176,
          177,
          178,
          179,
          180,
          181,
          182,
          183,
          184,
          185,
          186,
          187,
          188,
          189,
          190,
          191,
          192,
          193,
          194,
          195,
          196,
          197,
          198,
          199
         ],
         "xaxis": "x3",
         "y": [
          0.32508297318407037,
          0.32429881522714615,
          0.3186503845282219,
          0.31772862133455826,
          0.3197246180841114,
          0.31864506844927176,
          0.3165690748112373,
          0.3180452575287206,
          0.3148098506453682,
          0.31542243842375456,
          0.3152137484625027,
          0.3124537109472483,
          0.30848629710606934,
          0.3078153248305492,
          0.30161071922760085,
          0.30041800692608617,
          0.29891392010543183,
          0.2955976856129091,
          0.2991963207587305,
          0.29435666604921606,
          0.294054216990481,
          0.2926372035205605,
          0.2883670557725059,
          0.2889983398423831,
          0.2876648669952247,
          0.28408685014425755,
          0.283376438125968,
          0.28315937014387976,
          0.28105431621371163,
          0.2800159390196052,
          0.27950416467814193,
          0.27690577536690114,
          0.275391670054828,
          0.2745889847535399,
          0.271068901700532,
          0.269168399434294,
          0.26754161728923476,
          0.2657323193235086,
          0.26290879577422716,
          0.2610154434653337,
          0.2583298975072599,
          0.254898740607356,
          0.252089447256073,
          0.24991039334702547,
          0.2476182607304645,
          0.24507305925707157,
          0.24163259011253604,
          0.2386732927605098,
          0.23489734063323714,
          0.22992189157025256,
          0.2319069073505777,
          0.22687787578664398,
          0.2200500560102061,
          0.22217536290318904,
          0.21734825391916499,
          0.2101357334562428,
          0.2144476265278855,
          0.20710715299418136,
          0.20460787279136633,
          0.20555678914485873,
          0.20276374092820088,
          0.19668427609404981,
          0.19850369893652778,
          0.19573452405927186,
          0.19296780479901585,
          0.18512167503066382,
          0.18613562493081162,
          0.187384778651643,
          0.18151058330835912,
          0.18220877959592757,
          0.17849741173093575,
          0.17860440348474735,
          0.1755633511661309,
          0.17613583983420414,
          0.17577682819705037,
          0.17181629282336985,
          0.17044314153017598,
          0.1687265422810238,
          0.1635220055703504,
          0.16419705343071683,
          0.1642130516166671,
          0.1580424094411087,
          0.15950131030442521,
          0.15521136760998716,
          0.15562648823554429,
          0.15273017233091551,
          0.15885602923954206,
          0.15167146932015982,
          0.15166645191020214,
          0.14698300118600577,
          0.14562349152085155,
          0.14414926033639386,
          0.14369179945106975,
          0.1402006491561289,
          0.1413302019529733,
          0.13858500586792205,
          0.1399060617758281,
          0.13669788248218925,
          0.1360905376167906,
          0.13648834897058892,
          0.13396980385345456,
          0.1348599728104567,
          0.1329014204549253,
          0.13029364680265387,
          0.13014258414700094,
          0.12978746059655444,
          0.1301072448996527,
          0.12733484424044092,
          0.12801773187714274,
          0.12742518858162083,
          0.12431020476255782,
          0.1215428846188809,
          0.12337151238737473,
          0.12127596152530222,
          0.12305007779849861,
          0.12034511126782964,
          0.11970873202226485,
          0.11906415776080305,
          0.11750250225048006,
          0.11805190520553904,
          0.11788056571999633,
          0.1177511369503071,
          0.1166760064399334,
          0.1163841728620697,
          0.11331007818257031,
          0.11286739298209285,
          0.11292691528075556,
          0.11291020932803796,
          0.11206922725568225,
          0.1121091218441671,
          0.11138659631302619,
          0.11387364570661404,
          0.1097003077451867,
          0.10974431228967603,
          0.11588381344721387,
          0.10722893341993894,
          0.1647558661600787,
          0.10577687984048371,
          0.14136762143970696,
          0.13159223433899153,
          0.10939452749901357,
          0.12098273392719484,
          0.11784408939961033,
          0.11464474776549238,
          0.12048613815961656,
          0.1519851584176529,
          0.13434480172224458,
          0.13364579964474443,
          0.12663060622967176,
          0.11285119828157139,
          0.1121837038372307,
          0.13955939962949523,
          0.1598205645558408,
          0.14034602959588743,
          0.11512658511138107,
          0.11020050036041405,
          0.11004479231339806,
          0.1259357197426944,
          0.12362206473559144,
          0.11861838501040646,
          0.1180059122690096,
          0.11956511754567989,
          0.11740158040196164,
          0.11966595727603008,
          0.12754073319833797,
          0.12793746216666957,
          0.1311107142273487,
          0.12797928031335856,
          0.12059812010768331,
          0.1200106761398961,
          0.1204992763295489,
          0.11589797265104543,
          0.1173219456094669,
          0.11376264467563141,
          0.12235768402928877,
          0.11277982763297867,
          0.10734549060314785,
          0.1069560887654726,
          0.10404714731860523,
          0.1102011342059277,
          0.11073205480715399,
          0.11174532977589163,
          0.11266904152135485,
          0.11447710570993633,
          0.11548681509084212,
          0.11351766286874036,
          0.11319907999329844,
          0.10590731508691621,
          0.10640516909721115,
          0.1089348652330966,
          0.11128986308366788,
          0.1132243288069942,
          0.10673183084898671,
          0.10407736317332844,
          0.10340657005470871,
          0.10521141736964706,
          0.10917746090188163,
          0.10627968075628494,
          0.10387380678130465,
          0.1066834134759311
         ],
         "yaxis": "y3"
        },
        {
         "hovertemplate": "variable=accuracy<br>iteration=%{x}<br>value=%{y}<extra></extra>",
         "legendgroup": "accuracy",
         "marker": {
          "color": "#EF553B",
          "symbol": "circle"
         },
         "mode": "markers",
         "name": "accuracy",
         "orientation": "v",
         "showlegend": true,
         "type": "scatter",
         "x": [
          0,
          1,
          2,
          3,
          4,
          5,
          6,
          7,
          8,
          9,
          10,
          11,
          12,
          13,
          14,
          15,
          16,
          17,
          18,
          19,
          20,
          21,
          22,
          23,
          24,
          25,
          26,
          27,
          28,
          29,
          30,
          31,
          32,
          33,
          34,
          35,
          36,
          37,
          38,
          39,
          40,
          41,
          42,
          43,
          44,
          45,
          46,
          47,
          48,
          49,
          50,
          51,
          52,
          53,
          54,
          55,
          56,
          57,
          58,
          59,
          60,
          61,
          62,
          63,
          64,
          65,
          66,
          67,
          68,
          69,
          70,
          71,
          72,
          73,
          74,
          75,
          76,
          77,
          78,
          79,
          80,
          81,
          82,
          83,
          84,
          85,
          86,
          87,
          88,
          89,
          90,
          91,
          92,
          93,
          94,
          95,
          96,
          97,
          98,
          99,
          100,
          101,
          102,
          103,
          104,
          105,
          106,
          107,
          108,
          109,
          110,
          111,
          112,
          113,
          114,
          115,
          116,
          117,
          118,
          119,
          120,
          121,
          122,
          123,
          124,
          125,
          126,
          127,
          128,
          129,
          130,
          131,
          132,
          133,
          134,
          135,
          136,
          137,
          138,
          139,
          140,
          141,
          142,
          143,
          144,
          145,
          146,
          147,
          148,
          149,
          150,
          151,
          152,
          153,
          154,
          155,
          156,
          157,
          158,
          159,
          160,
          161,
          162,
          163,
          164,
          165,
          166,
          167,
          168,
          169,
          170,
          171,
          172,
          173,
          174,
          175,
          176,
          177,
          178,
          179,
          180,
          181,
          182,
          183,
          184,
          185,
          186,
          187,
          188,
          189,
          190,
          191,
          192,
          193,
          194,
          195,
          196,
          197,
          198,
          199
         ],
         "xaxis": "x2",
         "y": [
          0.09,
          0.16,
          0.16,
          0.16,
          0.16,
          0.16,
          0.16,
          0.16,
          0.16,
          0.16,
          0.19,
          0.19,
          0.19,
          0.19,
          0.22,
          0.25,
          0.23,
          0.22,
          0.23,
          0.21,
          0.22,
          0.23,
          0.26,
          0.26,
          0.26,
          0.28,
          0.28,
          0.31,
          0.35,
          0.29,
          0.28,
          0.32,
          0.36,
          0.34,
          0.4,
          0.34,
          0.33,
          0.34,
          0.34,
          0.34,
          0.36,
          0.41,
          0.41,
          0.4,
          0.42,
          0.41,
          0.42,
          0.43,
          0.46,
          0.46,
          0.49,
          0.47,
          0.47,
          0.44,
          0.47,
          0.49,
          0.47,
          0.51,
          0.53,
          0.52,
          0.53,
          0.51,
          0.53,
          0.5,
          0.52,
          0.57,
          0.58,
          0.58,
          0.59,
          0.59,
          0.58,
          0.56,
          0.56,
          0.54,
          0.56,
          0.58,
          0.6,
          0.61,
          0.61,
          0.62,
          0.62,
          0.63,
          0.63,
          0.62,
          0.62,
          0.61,
          0.61,
          0.61,
          0.6,
          0.62,
          0.64,
          0.62,
          0.63,
          0.64,
          0.63,
          0.65,
          0.63,
          0.65,
          0.66,
          0.66,
          0.65,
          0.64,
          0.64,
          0.67,
          0.66,
          0.65,
          0.65,
          0.65,
          0.66,
          0.68,
          0.69,
          0.7,
          0.7,
          0.7,
          0.69,
          0.7,
          0.71,
          0.69,
          0.68,
          0.71,
          0.7,
          0.7,
          0.7,
          0.71,
          0.71,
          0.69,
          0.69,
          0.7,
          0.68,
          0.7,
          0.71,
          0.71,
          0.73,
          0.71,
          0.72,
          0.74,
          0.72,
          0.73,
          0.68,
          0.73,
          0.72,
          0.69,
          0.73,
          0.71,
          0.7,
          0.69,
          0.69,
          0.72,
          0.72,
          0.71,
          0.72,
          0.63,
          0.6,
          0.63,
          0.71,
          0.72,
          0.73,
          0.71,
          0.72,
          0.71,
          0.71,
          0.69,
          0.68,
          0.69,
          0.66,
          0.67,
          0.67,
          0.66,
          0.68,
          0.72,
          0.71,
          0.73,
          0.72,
          0.73,
          0.74,
          0.74,
          0.76,
          0.76,
          0.78,
          0.73,
          0.74,
          0.73,
          0.72,
          0.72,
          0.72,
          0.72,
          0.7,
          0.73,
          0.73,
          0.72,
          0.72,
          0.72,
          0.74,
          0.75,
          0.74,
          0.74,
          0.75,
          0.76,
          0.73,
          0.74
         ],
         "yaxis": "y2"
        },
        {
         "hovertemplate": "variable=learning_rate<br>iteration=%{x}<br>value=%{y}<extra></extra>",
         "legendgroup": "learning_rate",
         "marker": {
          "color": "#00cc96",
          "symbol": "circle"
         },
         "mode": "markers",
         "name": "learning_rate",
         "orientation": "v",
         "showlegend": true,
         "type": "scatter",
         "x": [
          0,
          1,
          2,
          3,
          4,
          5,
          6,
          7,
          8,
          9,
          10,
          11,
          12,
          13,
          14,
          15,
          16,
          17,
          18,
          19,
          20,
          21,
          22,
          23,
          24,
          25,
          26,
          27,
          28,
          29,
          30,
          31,
          32,
          33,
          34,
          35,
          36,
          37,
          38,
          39,
          40,
          41,
          42,
          43,
          44,
          45,
          46,
          47,
          48,
          49,
          50,
          51,
          52,
          53,
          54,
          55,
          56,
          57,
          58,
          59,
          60,
          61,
          62,
          63,
          64,
          65,
          66,
          67,
          68,
          69,
          70,
          71,
          72,
          73,
          74,
          75,
          76,
          77,
          78,
          79,
          80,
          81,
          82,
          83,
          84,
          85,
          86,
          87,
          88,
          89,
          90,
          91,
          92,
          93,
          94,
          95,
          96,
          97,
          98,
          99,
          100,
          101,
          102,
          103,
          104,
          105,
          106,
          107,
          108,
          109,
          110,
          111,
          112,
          113,
          114,
          115,
          116,
          117,
          118,
          119,
          120,
          121,
          122,
          123,
          124,
          125,
          126,
          127,
          128,
          129,
          130,
          131,
          132,
          133,
          134,
          135,
          136,
          137,
          138,
          139,
          140,
          141,
          142,
          143,
          144,
          145,
          146,
          147,
          148,
          149,
          150,
          151,
          152,
          153,
          154,
          155,
          156,
          157,
          158,
          159,
          160,
          161,
          162,
          163,
          164,
          165,
          166,
          167,
          168,
          169,
          170,
          171,
          172,
          173,
          174,
          175,
          176,
          177,
          178,
          179,
          180,
          181,
          182,
          183,
          184,
          185,
          186,
          187,
          188,
          189,
          190,
          191,
          192,
          193,
          194,
          195,
          196,
          197,
          198,
          199
         ],
         "xaxis": "x",
         "y": [
          0.01,
          0.009999000099990002,
          0.009998000399920017,
          0.009997000899730081,
          0.009996001599360257,
          0.009995002498750625,
          0.009994003597841297,
          0.0099930048965724,
          0.009992006394884094,
          0.009991008092716556,
          0.009990009990009992,
          0.009989012086704625,
          0.00998801438274071,
          0.009987016878058523,
          0.009986019572598362,
          0.009985022466300548,
          0.009984025559105431,
          0.009983028850953379,
          0.009982032341784788,
          0.009981036031540075,
          0.00998003992015968,
          0.009979044007584073,
          0.009978048293753742,
          0.0099770527786092,
          0.009976057462090982,
          0.009975062344139652,
          0.009974067424695792,
          0.009973072703700011,
          0.009972078181092942,
          0.009971083856815237,
          0.009970089730807579,
          0.009969095803010666,
          0.00996810207336523,
          0.00996710854181202,
          0.009966115208291807,
          0.009965122072745391,
          0.00996412913511359,
          0.009963136395337252,
          0.009962143853357242,
          0.009961151509114453,
          0.0099601593625498,
          0.009959167413604223,
          0.009958175662218682,
          0.009957184108334164,
          0.009956192751891677,
          0.009955201592832256,
          0.009954210631096954,
          0.009953219866626855,
          0.009952229299363059,
          0.009951238929246693,
          0.009950248756218907,
          0.009949258780220873,
          0.00994826900119379,
          0.00994727941907888,
          0.009946290033817386,
          0.009945300845350571,
          0.00994431185361973,
          0.009943323058566173,
          0.00994233446013124,
          0.009941346058256287,
          0.009940357852882704,
          0.009939369843951894,
          0.009938382031405287,
          0.009937394415184339,
          0.009936406995230525,
          0.009935419771485345,
          0.009934432743890324,
          0.009933445912387009,
          0.009932459276916966,
          0.00993147283742179,
          0.0099304865938431,
          0.00992950054612253,
          0.009928514694201746,
          0.009927529038022435,
          0.009926543577526304,
          0.009925558312655087,
          0.009924573243350535,
          0.009923588369554431,
          0.009922603691208573,
          0.009921619208254788,
          0.00992063492063492,
          0.009919650828290844,
          0.009918666931164452,
          0.00991768322919766,
          0.009916699722332408,
          0.00991571641051066,
          0.009914733293674401,
          0.00991375037176564,
          0.009912767644726409,
          0.009911785112498761,
          0.009910802775024779,
          0.009909820632246555,
          0.009908838684106223,
          0.009907856930545923,
          0.009906875371507825,
          0.009905894006934125,
          0.009904912836767036,
          0.009903931860948796,
          0.009902951079421667,
          0.009901970492127933,
          0.009900990099009901,
          0.0099000099000099,
          0.009899029895070284,
          0.009898050084133426,
          0.009897070467141727,
          0.009896091044037606,
          0.009895111814763508,
          0.009894132779261898,
          0.009893153937475268,
          0.009892175289346128,
          0.009891196834817014,
          0.00989021857383048,
          0.009889240506329113,
          0.009888262632255512,
          0.009887284951552304,
          0.009886307464162135,
          0.009885330170027679,
          0.009884353069091628,
          0.0098833761612967,
          0.009882399446585631,
          0.009881422924901186,
          0.009880446596186148,
          0.009879470460383323,
          0.009878494517435544,
          0.009877518767285659,
          0.009876543209876543,
          0.009875567845151097,
          0.009874592673052237,
          0.009873617693522907,
          0.009872642906506073,
          0.00987166831194472,
          0.009870693909781857,
          0.00986971969996052,
          0.009868745682423763,
          0.009867771857114663,
          0.00986679822397632,
          0.009865824782951855,
          0.009864851533984413,
          0.009863878477017163,
          0.009862905611993293,
          0.009861932938856016,
          0.009860960457548565,
          0.009859988168014198,
          0.009859016070196194,
          0.009858044164037856,
          0.009857072449482505,
          0.009856100926473488,
          0.009855129594954175,
          0.009854158454867956,
          0.009853187506158243,
          0.009852216748768475,
          0.009851246182642106,
          0.009850275807722615,
          0.009849305623953511,
          0.009848335631278314,
          0.00984736582964057,
          0.009846396218983852,
          0.009845426799251747,
          0.009844457570387872,
          0.00984348853233586,
          0.00984251968503937,
          0.009841551028442082,
          0.0098405825624877,
          0.009839614287119946,
          0.009838646202282567,
          0.009837678307919331,
          0.009836710603974032,
          0.009835743090390479,
          0.009834775767112511,
          0.009833808634083981,
          0.009832841691248772,
          0.009831874938550783,
          0.009830908375933936,
          0.00982994200334218,
          0.00982897582071948,
          0.009828009828009828,
          0.009827044025157232,
          0.009826078412105728,
          0.009825112988799371,
          0.009824147755182238,
          0.009823182711198428,
          0.009822217856792064,
          0.009821253191907287,
          0.009820288716488264,
          0.009819324430479184,
          0.009818360333824251,
          0.009817396426467702,
          0.009816432708353785,
          0.009815469179426778,
          0.009814505839630975,
          0.009813542688910697,
          0.009812579727210285,
          0.009811616954474096,
          0.00981065437064652,
          0.009809691975671964,
          0.00980872976949485,
          0.00980776775205963,
          0.009806805923310777,
          0.009805844283192783,
          0.009804882831650161
         ],
         "yaxis": "y"
        }
       ],
       "layout": {
        "annotations": [
         {
          "font": {},
          "showarrow": false,
          "text": "variable=learning_rate",
          "textangle": 90,
          "x": 0.98,
          "xanchor": "left",
          "xref": "paper",
          "y": 0.15666666666666665,
          "yanchor": "middle",
          "yref": "paper"
         },
         {
          "font": {},
          "showarrow": false,
          "text": "variable=accuracy",
          "textangle": 90,
          "x": 0.98,
          "xanchor": "left",
          "xref": "paper",
          "y": 0.4999999999999999,
          "yanchor": "middle",
          "yref": "paper"
         },
         {
          "font": {},
          "showarrow": false,
          "text": "variable=loss",
          "textangle": 90,
          "x": 0.98,
          "xanchor": "left",
          "xref": "paper",
          "y": 0.8433333333333332,
          "yanchor": "middle",
          "yref": "paper"
         }
        ],
        "height": 700,
        "legend": {
         "title": {
          "text": "variable"
         },
         "tracegroupgap": 0
        },
        "template": {
         "data": {
          "bar": [
           {
            "error_x": {
             "color": "#2a3f5f"
            },
            "error_y": {
             "color": "#2a3f5f"
            },
            "marker": {
             "line": {
              "color": "#E5ECF6",
              "width": 0.5
             },
             "pattern": {
              "fillmode": "overlay",
              "size": 10,
              "solidity": 0.2
             }
            },
            "type": "bar"
           }
          ],
          "barpolar": [
           {
            "marker": {
             "line": {
              "color": "#E5ECF6",
              "width": 0.5
             },
             "pattern": {
              "fillmode": "overlay",
              "size": 10,
              "solidity": 0.2
             }
            },
            "type": "barpolar"
           }
          ],
          "carpet": [
           {
            "aaxis": {
             "endlinecolor": "#2a3f5f",
             "gridcolor": "white",
             "linecolor": "white",
             "minorgridcolor": "white",
             "startlinecolor": "#2a3f5f"
            },
            "baxis": {
             "endlinecolor": "#2a3f5f",
             "gridcolor": "white",
             "linecolor": "white",
             "minorgridcolor": "white",
             "startlinecolor": "#2a3f5f"
            },
            "type": "carpet"
           }
          ],
          "choropleth": [
           {
            "colorbar": {
             "outlinewidth": 0,
             "ticks": ""
            },
            "type": "choropleth"
           }
          ],
          "contour": [
           {
            "colorbar": {
             "outlinewidth": 0,
             "ticks": ""
            },
            "colorscale": [
             [
              0,
              "#0d0887"
             ],
             [
              0.1111111111111111,
              "#46039f"
             ],
             [
              0.2222222222222222,
              "#7201a8"
             ],
             [
              0.3333333333333333,
              "#9c179e"
             ],
             [
              0.4444444444444444,
              "#bd3786"
             ],
             [
              0.5555555555555556,
              "#d8576b"
             ],
             [
              0.6666666666666666,
              "#ed7953"
             ],
             [
              0.7777777777777778,
              "#fb9f3a"
             ],
             [
              0.8888888888888888,
              "#fdca26"
             ],
             [
              1,
              "#f0f921"
             ]
            ],
            "type": "contour"
           }
          ],
          "contourcarpet": [
           {
            "colorbar": {
             "outlinewidth": 0,
             "ticks": ""
            },
            "type": "contourcarpet"
           }
          ],
          "heatmap": [
           {
            "colorbar": {
             "outlinewidth": 0,
             "ticks": ""
            },
            "colorscale": [
             [
              0,
              "#0d0887"
             ],
             [
              0.1111111111111111,
              "#46039f"
             ],
             [
              0.2222222222222222,
              "#7201a8"
             ],
             [
              0.3333333333333333,
              "#9c179e"
             ],
             [
              0.4444444444444444,
              "#bd3786"
             ],
             [
              0.5555555555555556,
              "#d8576b"
             ],
             [
              0.6666666666666666,
              "#ed7953"
             ],
             [
              0.7777777777777778,
              "#fb9f3a"
             ],
             [
              0.8888888888888888,
              "#fdca26"
             ],
             [
              1,
              "#f0f921"
             ]
            ],
            "type": "heatmap"
           }
          ],
          "heatmapgl": [
           {
            "colorbar": {
             "outlinewidth": 0,
             "ticks": ""
            },
            "colorscale": [
             [
              0,
              "#0d0887"
             ],
             [
              0.1111111111111111,
              "#46039f"
             ],
             [
              0.2222222222222222,
              "#7201a8"
             ],
             [
              0.3333333333333333,
              "#9c179e"
             ],
             [
              0.4444444444444444,
              "#bd3786"
             ],
             [
              0.5555555555555556,
              "#d8576b"
             ],
             [
              0.6666666666666666,
              "#ed7953"
             ],
             [
              0.7777777777777778,
              "#fb9f3a"
             ],
             [
              0.8888888888888888,
              "#fdca26"
             ],
             [
              1,
              "#f0f921"
             ]
            ],
            "type": "heatmapgl"
           }
          ],
          "histogram": [
           {
            "marker": {
             "pattern": {
              "fillmode": "overlay",
              "size": 10,
              "solidity": 0.2
             }
            },
            "type": "histogram"
           }
          ],
          "histogram2d": [
           {
            "colorbar": {
             "outlinewidth": 0,
             "ticks": ""
            },
            "colorscale": [
             [
              0,
              "#0d0887"
             ],
             [
              0.1111111111111111,
              "#46039f"
             ],
             [
              0.2222222222222222,
              "#7201a8"
             ],
             [
              0.3333333333333333,
              "#9c179e"
             ],
             [
              0.4444444444444444,
              "#bd3786"
             ],
             [
              0.5555555555555556,
              "#d8576b"
             ],
             [
              0.6666666666666666,
              "#ed7953"
             ],
             [
              0.7777777777777778,
              "#fb9f3a"
             ],
             [
              0.8888888888888888,
              "#fdca26"
             ],
             [
              1,
              "#f0f921"
             ]
            ],
            "type": "histogram2d"
           }
          ],
          "histogram2dcontour": [
           {
            "colorbar": {
             "outlinewidth": 0,
             "ticks": ""
            },
            "colorscale": [
             [
              0,
              "#0d0887"
             ],
             [
              0.1111111111111111,
              "#46039f"
             ],
             [
              0.2222222222222222,
              "#7201a8"
             ],
             [
              0.3333333333333333,
              "#9c179e"
             ],
             [
              0.4444444444444444,
              "#bd3786"
             ],
             [
              0.5555555555555556,
              "#d8576b"
             ],
             [
              0.6666666666666666,
              "#ed7953"
             ],
             [
              0.7777777777777778,
              "#fb9f3a"
             ],
             [
              0.8888888888888888,
              "#fdca26"
             ],
             [
              1,
              "#f0f921"
             ]
            ],
            "type": "histogram2dcontour"
           }
          ],
          "mesh3d": [
           {
            "colorbar": {
             "outlinewidth": 0,
             "ticks": ""
            },
            "type": "mesh3d"
           }
          ],
          "parcoords": [
           {
            "line": {
             "colorbar": {
              "outlinewidth": 0,
              "ticks": ""
             }
            },
            "type": "parcoords"
           }
          ],
          "pie": [
           {
            "automargin": true,
            "type": "pie"
           }
          ],
          "scatter": [
           {
            "fillpattern": {
             "fillmode": "overlay",
             "size": 10,
             "solidity": 0.2
            },
            "type": "scatter"
           }
          ],
          "scatter3d": [
           {
            "line": {
             "colorbar": {
              "outlinewidth": 0,
              "ticks": ""
             }
            },
            "marker": {
             "colorbar": {
              "outlinewidth": 0,
              "ticks": ""
             }
            },
            "type": "scatter3d"
           }
          ],
          "scattercarpet": [
           {
            "marker": {
             "colorbar": {
              "outlinewidth": 0,
              "ticks": ""
             }
            },
            "type": "scattercarpet"
           }
          ],
          "scattergeo": [
           {
            "marker": {
             "colorbar": {
              "outlinewidth": 0,
              "ticks": ""
             }
            },
            "type": "scattergeo"
           }
          ],
          "scattergl": [
           {
            "marker": {
             "colorbar": {
              "outlinewidth": 0,
              "ticks": ""
             }
            },
            "type": "scattergl"
           }
          ],
          "scattermapbox": [
           {
            "marker": {
             "colorbar": {
              "outlinewidth": 0,
              "ticks": ""
             }
            },
            "type": "scattermapbox"
           }
          ],
          "scatterpolar": [
           {
            "marker": {
             "colorbar": {
              "outlinewidth": 0,
              "ticks": ""
             }
            },
            "type": "scatterpolar"
           }
          ],
          "scatterpolargl": [
           {
            "marker": {
             "colorbar": {
              "outlinewidth": 0,
              "ticks": ""
             }
            },
            "type": "scatterpolargl"
           }
          ],
          "scatterternary": [
           {
            "marker": {
             "colorbar": {
              "outlinewidth": 0,
              "ticks": ""
             }
            },
            "type": "scatterternary"
           }
          ],
          "surface": [
           {
            "colorbar": {
             "outlinewidth": 0,
             "ticks": ""
            },
            "colorscale": [
             [
              0,
              "#0d0887"
             ],
             [
              0.1111111111111111,
              "#46039f"
             ],
             [
              0.2222222222222222,
              "#7201a8"
             ],
             [
              0.3333333333333333,
              "#9c179e"
             ],
             [
              0.4444444444444444,
              "#bd3786"
             ],
             [
              0.5555555555555556,
              "#d8576b"
             ],
             [
              0.6666666666666666,
              "#ed7953"
             ],
             [
              0.7777777777777778,
              "#fb9f3a"
             ],
             [
              0.8888888888888888,
              "#fdca26"
             ],
             [
              1,
              "#f0f921"
             ]
            ],
            "type": "surface"
           }
          ],
          "table": [
           {
            "cells": {
             "fill": {
              "color": "#EBF0F8"
             },
             "line": {
              "color": "white"
             }
            },
            "header": {
             "fill": {
              "color": "#C8D4E3"
             },
             "line": {
              "color": "white"
             }
            },
            "type": "table"
           }
          ]
         },
         "layout": {
          "annotationdefaults": {
           "arrowcolor": "#2a3f5f",
           "arrowhead": 0,
           "arrowwidth": 1
          },
          "autotypenumbers": "strict",
          "coloraxis": {
           "colorbar": {
            "outlinewidth": 0,
            "ticks": ""
           }
          },
          "colorscale": {
           "diverging": [
            [
             0,
             "#8e0152"
            ],
            [
             0.1,
             "#c51b7d"
            ],
            [
             0.2,
             "#de77ae"
            ],
            [
             0.3,
             "#f1b6da"
            ],
            [
             0.4,
             "#fde0ef"
            ],
            [
             0.5,
             "#f7f7f7"
            ],
            [
             0.6,
             "#e6f5d0"
            ],
            [
             0.7,
             "#b8e186"
            ],
            [
             0.8,
             "#7fbc41"
            ],
            [
             0.9,
             "#4d9221"
            ],
            [
             1,
             "#276419"
            ]
           ],
           "sequential": [
            [
             0,
             "#0d0887"
            ],
            [
             0.1111111111111111,
             "#46039f"
            ],
            [
             0.2222222222222222,
             "#7201a8"
            ],
            [
             0.3333333333333333,
             "#9c179e"
            ],
            [
             0.4444444444444444,
             "#bd3786"
            ],
            [
             0.5555555555555556,
             "#d8576b"
            ],
            [
             0.6666666666666666,
             "#ed7953"
            ],
            [
             0.7777777777777778,
             "#fb9f3a"
            ],
            [
             0.8888888888888888,
             "#fdca26"
            ],
            [
             1,
             "#f0f921"
            ]
           ],
           "sequentialminus": [
            [
             0,
             "#0d0887"
            ],
            [
             0.1111111111111111,
             "#46039f"
            ],
            [
             0.2222222222222222,
             "#7201a8"
            ],
            [
             0.3333333333333333,
             "#9c179e"
            ],
            [
             0.4444444444444444,
             "#bd3786"
            ],
            [
             0.5555555555555556,
             "#d8576b"
            ],
            [
             0.6666666666666666,
             "#ed7953"
            ],
            [
             0.7777777777777778,
             "#fb9f3a"
            ],
            [
             0.8888888888888888,
             "#fdca26"
            ],
            [
             1,
             "#f0f921"
            ]
           ]
          },
          "colorway": [
           "#636efa",
           "#EF553B",
           "#00cc96",
           "#ab63fa",
           "#FFA15A",
           "#19d3f3",
           "#FF6692",
           "#B6E880",
           "#FF97FF",
           "#FECB52"
          ],
          "font": {
           "color": "#2a3f5f"
          },
          "geo": {
           "bgcolor": "white",
           "lakecolor": "white",
           "landcolor": "#E5ECF6",
           "showlakes": true,
           "showland": true,
           "subunitcolor": "white"
          },
          "hoverlabel": {
           "align": "left"
          },
          "hovermode": "closest",
          "mapbox": {
           "style": "light"
          },
          "paper_bgcolor": "white",
          "plot_bgcolor": "#E5ECF6",
          "polar": {
           "angularaxis": {
            "gridcolor": "white",
            "linecolor": "white",
            "ticks": ""
           },
           "bgcolor": "#E5ECF6",
           "radialaxis": {
            "gridcolor": "white",
            "linecolor": "white",
            "ticks": ""
           }
          },
          "scene": {
           "xaxis": {
            "backgroundcolor": "#E5ECF6",
            "gridcolor": "white",
            "gridwidth": 2,
            "linecolor": "white",
            "showbackground": true,
            "ticks": "",
            "zerolinecolor": "white"
           },
           "yaxis": {
            "backgroundcolor": "#E5ECF6",
            "gridcolor": "white",
            "gridwidth": 2,
            "linecolor": "white",
            "showbackground": true,
            "ticks": "",
            "zerolinecolor": "white"
           },
           "zaxis": {
            "backgroundcolor": "#E5ECF6",
            "gridcolor": "white",
            "gridwidth": 2,
            "linecolor": "white",
            "showbackground": true,
            "ticks": "",
            "zerolinecolor": "white"
           }
          },
          "shapedefaults": {
           "line": {
            "color": "#2a3f5f"
           }
          },
          "ternary": {
           "aaxis": {
            "gridcolor": "white",
            "linecolor": "white",
            "ticks": ""
           },
           "baxis": {
            "gridcolor": "white",
            "linecolor": "white",
            "ticks": ""
           },
           "bgcolor": "#E5ECF6",
           "caxis": {
            "gridcolor": "white",
            "linecolor": "white",
            "ticks": ""
           }
          },
          "title": {
           "x": 0.05
          },
          "xaxis": {
           "automargin": true,
           "gridcolor": "white",
           "linecolor": "white",
           "ticks": "",
           "title": {
            "standoff": 15
           },
           "zerolinecolor": "white",
           "zerolinewidth": 2
          },
          "yaxis": {
           "automargin": true,
           "gridcolor": "white",
           "linecolor": "white",
           "ticks": "",
           "title": {
            "standoff": 15
           },
           "zerolinecolor": "white",
           "zerolinewidth": 2
          }
         }
        },
        "title": {
         "text": "Training Metrics Over epochs"
        },
        "xaxis": {
         "anchor": "y",
         "domain": [
          0,
          0.98
         ],
         "title": {
          "text": "iteration"
         }
        },
        "xaxis2": {
         "anchor": "y2",
         "domain": [
          0,
          0.98
         ],
         "matches": "x",
         "showticklabels": false
        },
        "xaxis3": {
         "anchor": "y3",
         "domain": [
          0,
          0.98
         ],
         "matches": "x",
         "showticklabels": false
        },
        "yaxis": {
         "anchor": "x",
         "domain": [
          0,
          0.3133333333333333
         ],
         "title": {
          "text": "value"
         }
        },
        "yaxis2": {
         "anchor": "x2",
         "domain": [
          0.34333333333333327,
          0.6566666666666665
         ],
         "title": {
          "text": "value"
         }
        },
        "yaxis3": {
         "anchor": "x3",
         "domain": [
          0.6866666666666665,
          0.9999999999999998
         ],
         "title": {
          "text": "value"
         }
        }
       }
      }
     },
     "metadata": {},
     "output_type": "display_data"
    }
   ],
   "source": [
    "fig = (\n",
    "    px.scatter(\n",
    "        training_stats.melt([\"iteration\"], [\"loss\",  \"accuracy\", \"learning_rate\"]), \n",
    "        x=\"iteration\",\n",
    "        y=\"value\",\n",
    "        color=\"variable\",\n",
    "        facet_row=\"variable\",\n",
    "        title=\"Training Metrics Over epochs\",\n",
    "        height=700,\n",
    "    )\n",
    "    .update_yaxes(matches=None)\n",
    ")\n",
    "fig.show()"
   ]
  }
 ],
 "metadata": {
  "kernelspec": {
   "display_name": "CNN",
   "language": "python",
   "name": "python3"
  },
  "language_info": {
   "codemirror_mode": {
    "name": "ipython",
    "version": 3
   },
   "file_extension": ".py",
   "mimetype": "text/x-python",
   "name": "python",
   "nbconvert_exporter": "python",
   "pygments_lexer": "ipython3",
   "version": "3.12.3"
  }
 },
 "nbformat": 4,
 "nbformat_minor": 2
}
