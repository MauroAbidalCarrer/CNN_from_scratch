{
 "cells": [
  {
   "cell_type": "code",
   "execution_count": 28,
   "metadata": {},
   "outputs": [],
   "source": [
    "import numpy as np\n",
    "from numpy import ndarray\n",
    "import plotly.express as px\n",
    "\n",
    "from optimizers import Adam\n",
    "from losses import BinaryCrossentropy\n",
    "from cifar_10_dataset_loading import load_cifar_10\n",
    "from metrics import accuracy, nn_params_stats, activations_stats\n",
    "from layers import Convolutional, Linear, Relu, BatchNorm, Flatten, Softmax, MaxPool, Layer"
   ]
  },
  {
   "cell_type": "markdown",
   "metadata": {},
   "source": [
    "## Setup"
   ]
  },
  {
   "cell_type": "markdown",
   "metadata": {},
   "source": [
    "### Data extraction"
   ]
  },
  {
   "cell_type": "code",
   "execution_count": 29,
   "metadata": {},
   "outputs": [],
   "source": [
    "x_train, y_train, x_test, y_test = load_cifar_10()"
   ]
  },
  {
   "cell_type": "code",
   "execution_count": 30,
   "metadata": {},
   "outputs": [],
   "source": [
    "classes = y_train.argmax(axis=1)"
   ]
  },
  {
   "cell_type": "code",
   "execution_count": 31,
   "metadata": {},
   "outputs": [
    {
     "data": {
      "text/plain": [
       "dtype('float64')"
      ]
     },
     "execution_count": 31,
     "metadata": {},
     "output_type": "execute_result"
    }
   ],
   "source": [
    "# Change range from [0, 255] to [-1, 1]\n",
    "x_train = x_train / 255  \n",
    "x_train.dtype"
   ]
  },
  {
   "cell_type": "code",
   "execution_count": 32,
   "metadata": {},
   "outputs": [
    {
     "data": {
      "application/vnd.plotly.v1+json": {
       "config": {
        "plotlyServerURL": "https://plot.ly"
       },
       "data": [
        {
         "hovertemplate": "x: %{x}<br>y: %{y}<extra></extra>",
         "name": "0",
         "source": "data:image/png;base64,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",
         "type": "image",
         "xaxis": "x9",
         "yaxis": "y9"
        },
        {
         "hovertemplate": "x: %{x}<br>y: %{y}<extra></extra>",
         "name": "1",
         "source": "data:image/png;base64,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",
         "type": "image",
         "xaxis": "x10",
         "yaxis": "y10"
        },
        {
         "hovertemplate": "x: %{x}<br>y: %{y}<extra></extra>",
         "name": "2",
         "source": "data:image/png;base64,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",
         "type": "image",
         "xaxis": "x11",
         "yaxis": "y11"
        },
        {
         "hovertemplate": "x: %{x}<br>y: %{y}<extra></extra>",
         "name": "3",
         "source": "data:image/png;base64,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",
         "type": "image",
         "xaxis": "x12",
         "yaxis": "y12"
        },
        {
         "hovertemplate": "x: %{x}<br>y: %{y}<extra></extra>",
         "name": "4",
         "source": "data:image/png;base64,iVBORw0KGgoAAAANSUhEUgAAACAAAAAgCAIAAAD8GO2jAAAH8klEQVR4Xo1WWY8cVxU+59xbW3dP9/SMPeNlbA02UYRIQIqEIiWELAgJCUdBIHjigReExH+CF955AUFEECI4ODhxEtszjpdxbM/mWXqrqu7a7nIOD+0gZGEpn66qdG/V/ZZzSzqFIsLM8FUggIhVUY7Gw6Wlvjd10mqpMBIkBlRPv/0EGgCI6OnlZ6Mps/Heg93bWZYXr771/W4SAxACPotCA4CIPL38/yAihHK4+/Dmh/+0VRl0+lWedZeWGFCQnkVBAIBfDYBim/Lx7na3lZw7vUquGR3sg/cgIPJMkmclexpz++Px6NGjnf2DweHRaDYe3rnx2fj4GEBA5Fll+KoCACLi9/f2Hu7sXb1+6/qtrbKYHexsb1z7uJoViggQn94BAF8KMIAA/I+FuSf2IvzlE2R21tlpWe8djW/d39k+GlVFcefjj3bubLJYFhEG8AACAgDC86Gf8D254ZOZzDM7BAJEfGIPz6+vtxa6eVEB0ubucaIjXZtbV95fPrvaX7uATlBQAJnkv4c+T0AACIAogAIgAizM3hgjMg83z6D6/RPf/d4bq6fPVpUZj8v7O4dZbbbvbm28/68mnwqKJxEUBHAgDsQ/ERCcC8zrgiBe3Nb9e7dv326MYeF5aBbFoF959bUfvf12FMa+lp1BunU8mmX13cvXHnx204ObQlVx7bkZF8ODyf7uYFsDAIvgvOjeIQEg7u7v/PHPf8rz7JXh8ZuvvxVFEYswgPPcWVi49M6l+3fv/e0v7+XW3dk/7GMS1/Tvd/+qlzu0ulikWcD+IN/Lplld1/Mz8IA0mYyyyRgVHg6OP7z20Se3buTjtLHmmy++sHLyhFI6n5Zpmq6vrZ1ZW/nlr36xu//F1Rs3m0Jt7R22TqnR5mb5B7j46kuT2bQs8wZTYxtm0QANsweELB9evvLB9uO9YZ5Oiim1w7hpH4+Gl69cXl8/F0XR/t7AGlOV6WyaBhq+8Z0L1+9vmKnspXkrjNZ68cNrn6qI6MxS5koFABI2TYObn1/VOrDGTNL00xsbG3fv9FaWncblEycHXxzc3tw4e3a1102UVo0R09Ti64DgzNpK1AuuXb712Qd32auWgm8vtvvdBXWil56Mx8SBiZ11ZVnqKx9dqfKiHbcvXXrHSfTJxp3eQr/i+szKqj2qsqIst+72I2r32p3+ybjNvUXV63a73U7Sab3x1svZMNvcfOAt7qR1EAT60E0nzi0klJzY3z3I80I/ePQgO54897XnkqT9+PHx9sOdTjtpbIl5VaUOCL9+8cLFk72Ffvf4OOsv0elz7Wlehgwxq+7J3g9++OZ4kh/tHQ8bbmX5SrerUc4uLLVXT+0/emTKqS6yrKyrqBVn02x799Fir+uLGuvm4PD+weMhUvPzn/6EZ+O/f/CP7Zv7y73wcAvPnjmf2SMIjpeWV198/gXzY/273/6+mtaP0xnosDE8G47O9LphEpxYWcRf/+Zn42y6dvrc+vkL7773PgoGjgfbuwGDZY+neq+9/nKTDze37hZ7LiS/uBy3Wwt5VvQXE+NBonbSXd64vTU8GKnGJYGWCFsnOqfOrXhmpbTuLfUsQT7LP79+/ejhQwLd0kFIoRhDgGunzy4t9CdldWH9+W0/SccjHy0eFXVZ+nR8hErVOEnLLyhMWIUSqhLYO26HSafXV4pYvO4s9fRC24yK4b3dc50eUjit6pocJnGEanA0/uTqjdWFhdEkzapqxlANcwDUKkwCqY0ZpKkn1dIJElGsABjEFkWV51V/eREYNYckHkNFgfXnu0uO1LSqVLdDYVwdZU1aTkfTIVPalOsvfetwMEonWafTrsvCBnHduMoyEcZhLGg9sNKanDDz8SB1HnSIlKbTdJIbIydPnTEM9x5sD9KM4oRarYK5sZLPmsFkVlV+cDgsskKstKIWocIodjoI220VhnVjGNg4wyhhHC0sdFutjrXCDjVUATTgMCwUHKA6cDwzDKNMBWXJLIyVcyI+DML9wdB5RsDBZAKI4n2QJN0w9M6LiNKUQECKgiDEMBRmVESotcbAisyqZpznY9O4QItTdVVjY6wwkWr3ukoppbUQiIhSSilFhETARKSU0uzZCyEpRUSICEjM3jlwzunZdJbnRTGriqJGhO5iN0oiAECiRIdBGCmlgkArrT2zyLwZgSICFO+9c05ErHMeRGmltRaROI6jQAv7KIr0cDSyxte1McYEcRDEYVVVpIhIASkRdN6RpqQVIRGIeGaY/4gAAkBZlt57HWghRCJEFBEABIE4TqIo0tYaENI6iCKIkgQQUINSigW8oPdekVKhooBCHYiI915EAIA9ENHi4qK1tjHGo8zZnXPOWfAWQLz3enl5mSDwXqxjj1LXFSpEJGY2nhUrgLmet47nrhGBWZzz7EVp5Zyzzll2pNRcQylFIN57Ztbdbpc9glBjbF7OdKBUoLz34CEgcszsPYsHJBQEnvdOYc8CxMKmMtZaBgFCAWBmAWnFcagVIWqtNQIhirFN3VTWGlJKE4ln41zjPBIi0fzCbl5dYABB9MyCTBoDFcz7uoh4LywAwoQEws56zcxNY6w1xtSmMcY6FkZApVQcRaSVd05EmBlJISARhUoBQF3XzjlFpJQSkaZpyrJCxDiOFZEzDSHFcaSttdYa5xyIaK2BFAIopYhICK1zWmvvPYIoFRA9qbIwh2FIRHOZIAjmW+YfbhhHraiFAIj4H8QiUWJuI3c6AAAAAElFTkSuQmCC",
         "type": "image",
         "xaxis": "x5",
         "yaxis": "y5"
        },
        {
         "hovertemplate": "x: %{x}<br>y: %{y}<extra></extra>",
         "name": "5",
         "source": "data:image/png;base64,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",
         "type": "image",
         "xaxis": "x6",
         "yaxis": "y6"
        },
        {
         "hovertemplate": "x: %{x}<br>y: %{y}<extra></extra>",
         "name": "6",
         "source": "data:image/png;base64,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",
         "type": "image",
         "xaxis": "x7",
         "yaxis": "y7"
        },
        {
         "hovertemplate": "x: %{x}<br>y: %{y}<extra></extra>",
         "name": "7",
         "source": "data:image/png;base64,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",
         "type": "image",
         "xaxis": "x8",
         "yaxis": "y8"
        },
        {
         "hovertemplate": "x: %{x}<br>y: %{y}<extra></extra>",
         "name": "8",
         "source": "data:image/png;base64,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",
         "type": "image",
         "xaxis": "x",
         "yaxis": "y"
        }
       ],
       "layout": {
        "annotations": [
         {
          "font": {},
          "showarrow": false,
          "text": "facet_col=8",
          "x": 0.1175,
          "xanchor": "center",
          "xref": "paper",
          "y": 0.2866666666666666,
          "yanchor": "bottom",
          "yref": "paper"
         },
         {
          "font": {},
          "showarrow": false,
          "text": "facet_col=4",
          "x": 0.1175,
          "xanchor": "center",
          "xref": "paper",
          "y": 0.6433333333333333,
          "yanchor": "bottom",
          "yref": "paper"
         },
         {
          "font": {},
          "showarrow": false,
          "text": "facet_col=5",
          "x": 0.3725,
          "xanchor": "center",
          "xref": "paper",
          "y": 0.6433333333333333,
          "yanchor": "bottom",
          "yref": "paper"
         },
         {
          "font": {},
          "showarrow": false,
          "text": "facet_col=6",
          "x": 0.6275,
          "xanchor": "center",
          "xref": "paper",
          "y": 0.6433333333333333,
          "yanchor": "bottom",
          "yref": "paper"
         },
         {
          "font": {},
          "showarrow": false,
          "text": "facet_col=7",
          "x": 0.8824999999999998,
          "xanchor": "center",
          "xref": "paper",
          "y": 0.6433333333333333,
          "yanchor": "bottom",
          "yref": "paper"
         },
         {
          "font": {},
          "showarrow": false,
          "text": "facet_col=0",
          "x": 0.1175,
          "xanchor": "center",
          "xref": "paper",
          "y": 0.9999999999999999,
          "yanchor": "bottom",
          "yref": "paper"
         },
         {
          "font": {},
          "showarrow": false,
          "text": "facet_col=1",
          "x": 0.3725,
          "xanchor": "center",
          "xref": "paper",
          "y": 0.9999999999999999,
          "yanchor": "bottom",
          "yref": "paper"
         },
         {
          "font": {},
          "showarrow": false,
          "text": "facet_col=2",
          "x": 0.6275,
          "xanchor": "center",
          "xref": "paper",
          "y": 0.9999999999999999,
          "yanchor": "bottom",
          "yref": "paper"
         },
         {
          "font": {},
          "showarrow": false,
          "text": "facet_col=3",
          "x": 0.8824999999999998,
          "xanchor": "center",
          "xref": "paper",
          "y": 0.9999999999999999,
          "yanchor": "bottom",
          "yref": "paper"
         }
        ],
        "margin": {
         "t": 60
        },
        "template": {
         "data": {
          "bar": [
           {
            "error_x": {
             "color": "#2a3f5f"
            },
            "error_y": {
             "color": "#2a3f5f"
            },
            "marker": {
             "line": {
              "color": "#E5ECF6",
              "width": 0.5
             },
             "pattern": {
              "fillmode": "overlay",
              "size": 10,
              "solidity": 0.2
             }
            },
            "type": "bar"
           }
          ],
          "barpolar": [
           {
            "marker": {
             "line": {
              "color": "#E5ECF6",
              "width": 0.5
             },
             "pattern": {
              "fillmode": "overlay",
              "size": 10,
              "solidity": 0.2
             }
            },
            "type": "barpolar"
           }
          ],
          "carpet": [
           {
            "aaxis": {
             "endlinecolor": "#2a3f5f",
             "gridcolor": "white",
             "linecolor": "white",
             "minorgridcolor": "white",
             "startlinecolor": "#2a3f5f"
            },
            "baxis": {
             "endlinecolor": "#2a3f5f",
             "gridcolor": "white",
             "linecolor": "white",
             "minorgridcolor": "white",
             "startlinecolor": "#2a3f5f"
            },
            "type": "carpet"
           }
          ],
          "choropleth": [
           {
            "colorbar": {
             "outlinewidth": 0,
             "ticks": ""
            },
            "type": "choropleth"
           }
          ],
          "contour": [
           {
            "colorbar": {
             "outlinewidth": 0,
             "ticks": ""
            },
            "colorscale": [
             [
              0,
              "#0d0887"
             ],
             [
              0.1111111111111111,
              "#46039f"
             ],
             [
              0.2222222222222222,
              "#7201a8"
             ],
             [
              0.3333333333333333,
              "#9c179e"
             ],
             [
              0.4444444444444444,
              "#bd3786"
             ],
             [
              0.5555555555555556,
              "#d8576b"
             ],
             [
              0.6666666666666666,
              "#ed7953"
             ],
             [
              0.7777777777777778,
              "#fb9f3a"
             ],
             [
              0.8888888888888888,
              "#fdca26"
             ],
             [
              1,
              "#f0f921"
             ]
            ],
            "type": "contour"
           }
          ],
          "contourcarpet": [
           {
            "colorbar": {
             "outlinewidth": 0,
             "ticks": ""
            },
            "type": "contourcarpet"
           }
          ],
          "heatmap": [
           {
            "colorbar": {
             "outlinewidth": 0,
             "ticks": ""
            },
            "colorscale": [
             [
              0,
              "#0d0887"
             ],
             [
              0.1111111111111111,
              "#46039f"
             ],
             [
              0.2222222222222222,
              "#7201a8"
             ],
             [
              0.3333333333333333,
              "#9c179e"
             ],
             [
              0.4444444444444444,
              "#bd3786"
             ],
             [
              0.5555555555555556,
              "#d8576b"
             ],
             [
              0.6666666666666666,
              "#ed7953"
             ],
             [
              0.7777777777777778,
              "#fb9f3a"
             ],
             [
              0.8888888888888888,
              "#fdca26"
             ],
             [
              1,
              "#f0f921"
             ]
            ],
            "type": "heatmap"
           }
          ],
          "heatmapgl": [
           {
            "colorbar": {
             "outlinewidth": 0,
             "ticks": ""
            },
            "colorscale": [
             [
              0,
              "#0d0887"
             ],
             [
              0.1111111111111111,
              "#46039f"
             ],
             [
              0.2222222222222222,
              "#7201a8"
             ],
             [
              0.3333333333333333,
              "#9c179e"
             ],
             [
              0.4444444444444444,
              "#bd3786"
             ],
             [
              0.5555555555555556,
              "#d8576b"
             ],
             [
              0.6666666666666666,
              "#ed7953"
             ],
             [
              0.7777777777777778,
              "#fb9f3a"
             ],
             [
              0.8888888888888888,
              "#fdca26"
             ],
             [
              1,
              "#f0f921"
             ]
            ],
            "type": "heatmapgl"
           }
          ],
          "histogram": [
           {
            "marker": {
             "pattern": {
              "fillmode": "overlay",
              "size": 10,
              "solidity": 0.2
             }
            },
            "type": "histogram"
           }
          ],
          "histogram2d": [
           {
            "colorbar": {
             "outlinewidth": 0,
             "ticks": ""
            },
            "colorscale": [
             [
              0,
              "#0d0887"
             ],
             [
              0.1111111111111111,
              "#46039f"
             ],
             [
              0.2222222222222222,
              "#7201a8"
             ],
             [
              0.3333333333333333,
              "#9c179e"
             ],
             [
              0.4444444444444444,
              "#bd3786"
             ],
             [
              0.5555555555555556,
              "#d8576b"
             ],
             [
              0.6666666666666666,
              "#ed7953"
             ],
             [
              0.7777777777777778,
              "#fb9f3a"
             ],
             [
              0.8888888888888888,
              "#fdca26"
             ],
             [
              1,
              "#f0f921"
             ]
            ],
            "type": "histogram2d"
           }
          ],
          "histogram2dcontour": [
           {
            "colorbar": {
             "outlinewidth": 0,
             "ticks": ""
            },
            "colorscale": [
             [
              0,
              "#0d0887"
             ],
             [
              0.1111111111111111,
              "#46039f"
             ],
             [
              0.2222222222222222,
              "#7201a8"
             ],
             [
              0.3333333333333333,
              "#9c179e"
             ],
             [
              0.4444444444444444,
              "#bd3786"
             ],
             [
              0.5555555555555556,
              "#d8576b"
             ],
             [
              0.6666666666666666,
              "#ed7953"
             ],
             [
              0.7777777777777778,
              "#fb9f3a"
             ],
             [
              0.8888888888888888,
              "#fdca26"
             ],
             [
              1,
              "#f0f921"
             ]
            ],
            "type": "histogram2dcontour"
           }
          ],
          "mesh3d": [
           {
            "colorbar": {
             "outlinewidth": 0,
             "ticks": ""
            },
            "type": "mesh3d"
           }
          ],
          "parcoords": [
           {
            "line": {
             "colorbar": {
              "outlinewidth": 0,
              "ticks": ""
             }
            },
            "type": "parcoords"
           }
          ],
          "pie": [
           {
            "automargin": true,
            "type": "pie"
           }
          ],
          "scatter": [
           {
            "fillpattern": {
             "fillmode": "overlay",
             "size": 10,
             "solidity": 0.2
            },
            "type": "scatter"
           }
          ],
          "scatter3d": [
           {
            "line": {
             "colorbar": {
              "outlinewidth": 0,
              "ticks": ""
             }
            },
            "marker": {
             "colorbar": {
              "outlinewidth": 0,
              "ticks": ""
             }
            },
            "type": "scatter3d"
           }
          ],
          "scattercarpet": [
           {
            "marker": {
             "colorbar": {
              "outlinewidth": 0,
              "ticks": ""
             }
            },
            "type": "scattercarpet"
           }
          ],
          "scattergeo": [
           {
            "marker": {
             "colorbar": {
              "outlinewidth": 0,
              "ticks": ""
             }
            },
            "type": "scattergeo"
           }
          ],
          "scattergl": [
           {
            "marker": {
             "colorbar": {
              "outlinewidth": 0,
              "ticks": ""
             }
            },
            "type": "scattergl"
           }
          ],
          "scattermapbox": [
           {
            "marker": {
             "colorbar": {
              "outlinewidth": 0,
              "ticks": ""
             }
            },
            "type": "scattermapbox"
           }
          ],
          "scatterpolar": [
           {
            "marker": {
             "colorbar": {
              "outlinewidth": 0,
              "ticks": ""
             }
            },
            "type": "scatterpolar"
           }
          ],
          "scatterpolargl": [
           {
            "marker": {
             "colorbar": {
              "outlinewidth": 0,
              "ticks": ""
             }
            },
            "type": "scatterpolargl"
           }
          ],
          "scatterternary": [
           {
            "marker": {
             "colorbar": {
              "outlinewidth": 0,
              "ticks": ""
             }
            },
            "type": "scatterternary"
           }
          ],
          "surface": [
           {
            "colorbar": {
             "outlinewidth": 0,
             "ticks": ""
            },
            "colorscale": [
             [
              0,
              "#0d0887"
             ],
             [
              0.1111111111111111,
              "#46039f"
             ],
             [
              0.2222222222222222,
              "#7201a8"
             ],
             [
              0.3333333333333333,
              "#9c179e"
             ],
             [
              0.4444444444444444,
              "#bd3786"
             ],
             [
              0.5555555555555556,
              "#d8576b"
             ],
             [
              0.6666666666666666,
              "#ed7953"
             ],
             [
              0.7777777777777778,
              "#fb9f3a"
             ],
             [
              0.8888888888888888,
              "#fdca26"
             ],
             [
              1,
              "#f0f921"
             ]
            ],
            "type": "surface"
           }
          ],
          "table": [
           {
            "cells": {
             "fill": {
              "color": "#EBF0F8"
             },
             "line": {
              "color": "white"
             }
            },
            "header": {
             "fill": {
              "color": "#C8D4E3"
             },
             "line": {
              "color": "white"
             }
            },
            "type": "table"
           }
          ]
         },
         "layout": {
          "annotationdefaults": {
           "arrowcolor": "#2a3f5f",
           "arrowhead": 0,
           "arrowwidth": 1
          },
          "autotypenumbers": "strict",
          "coloraxis": {
           "colorbar": {
            "outlinewidth": 0,
            "ticks": ""
           }
          },
          "colorscale": {
           "diverging": [
            [
             0,
             "#8e0152"
            ],
            [
             0.1,
             "#c51b7d"
            ],
            [
             0.2,
             "#de77ae"
            ],
            [
             0.3,
             "#f1b6da"
            ],
            [
             0.4,
             "#fde0ef"
            ],
            [
             0.5,
             "#f7f7f7"
            ],
            [
             0.6,
             "#e6f5d0"
            ],
            [
             0.7,
             "#b8e186"
            ],
            [
             0.8,
             "#7fbc41"
            ],
            [
             0.9,
             "#4d9221"
            ],
            [
             1,
             "#276419"
            ]
           ],
           "sequential": [
            [
             0,
             "#0d0887"
            ],
            [
             0.1111111111111111,
             "#46039f"
            ],
            [
             0.2222222222222222,
             "#7201a8"
            ],
            [
             0.3333333333333333,
             "#9c179e"
            ],
            [
             0.4444444444444444,
             "#bd3786"
            ],
            [
             0.5555555555555556,
             "#d8576b"
            ],
            [
             0.6666666666666666,
             "#ed7953"
            ],
            [
             0.7777777777777778,
             "#fb9f3a"
            ],
            [
             0.8888888888888888,
             "#fdca26"
            ],
            [
             1,
             "#f0f921"
            ]
           ],
           "sequentialminus": [
            [
             0,
             "#0d0887"
            ],
            [
             0.1111111111111111,
             "#46039f"
            ],
            [
             0.2222222222222222,
             "#7201a8"
            ],
            [
             0.3333333333333333,
             "#9c179e"
            ],
            [
             0.4444444444444444,
             "#bd3786"
            ],
            [
             0.5555555555555556,
             "#d8576b"
            ],
            [
             0.6666666666666666,
             "#ed7953"
            ],
            [
             0.7777777777777778,
             "#fb9f3a"
            ],
            [
             0.8888888888888888,
             "#fdca26"
            ],
            [
             1,
             "#f0f921"
            ]
           ]
          },
          "colorway": [
           "#636efa",
           "#EF553B",
           "#00cc96",
           "#ab63fa",
           "#FFA15A",
           "#19d3f3",
           "#FF6692",
           "#B6E880",
           "#FF97FF",
           "#FECB52"
          ],
          "font": {
           "color": "#2a3f5f"
          },
          "geo": {
           "bgcolor": "white",
           "lakecolor": "white",
           "landcolor": "#E5ECF6",
           "showlakes": true,
           "showland": true,
           "subunitcolor": "white"
          },
          "hoverlabel": {
           "align": "left"
          },
          "hovermode": "closest",
          "mapbox": {
           "style": "light"
          },
          "paper_bgcolor": "white",
          "plot_bgcolor": "#E5ECF6",
          "polar": {
           "angularaxis": {
            "gridcolor": "white",
            "linecolor": "white",
            "ticks": ""
           },
           "bgcolor": "#E5ECF6",
           "radialaxis": {
            "gridcolor": "white",
            "linecolor": "white",
            "ticks": ""
           }
          },
          "scene": {
           "xaxis": {
            "backgroundcolor": "#E5ECF6",
            "gridcolor": "white",
            "gridwidth": 2,
            "linecolor": "white",
            "showbackground": true,
            "ticks": "",
            "zerolinecolor": "white"
           },
           "yaxis": {
            "backgroundcolor": "#E5ECF6",
            "gridcolor": "white",
            "gridwidth": 2,
            "linecolor": "white",
            "showbackground": true,
            "ticks": "",
            "zerolinecolor": "white"
           },
           "zaxis": {
            "backgroundcolor": "#E5ECF6",
            "gridcolor": "white",
            "gridwidth": 2,
            "linecolor": "white",
            "showbackground": true,
            "ticks": "",
            "zerolinecolor": "white"
           }
          },
          "shapedefaults": {
           "line": {
            "color": "#2a3f5f"
           }
          },
          "ternary": {
           "aaxis": {
            "gridcolor": "white",
            "linecolor": "white",
            "ticks": ""
           },
           "baxis": {
            "gridcolor": "white",
            "linecolor": "white",
            "ticks": ""
           },
           "bgcolor": "#E5ECF6",
           "caxis": {
            "gridcolor": "white",
            "linecolor": "white",
            "ticks": ""
           }
          },
          "title": {
           "x": 0.05
          },
          "xaxis": {
           "automargin": true,
           "gridcolor": "white",
           "linecolor": "white",
           "ticks": "",
           "title": {
            "standoff": 15
           },
           "zerolinecolor": "white",
           "zerolinewidth": 2
          },
          "yaxis": {
           "automargin": true,
           "gridcolor": "white",
           "linecolor": "white",
           "ticks": "",
           "title": {
            "standoff": 15
           },
           "zerolinecolor": "white",
           "zerolinewidth": 2
          }
         }
        },
        "xaxis": {
         "anchor": "y",
         "domain": [
          0,
          0.235
         ]
        },
        "xaxis10": {
         "anchor": "y10",
         "domain": [
          0.255,
          0.49
         ],
         "matches": "x",
         "showticklabels": false
        },
        "xaxis11": {
         "anchor": "y11",
         "domain": [
          0.51,
          0.745
         ],
         "matches": "x",
         "showticklabels": false
        },
        "xaxis12": {
         "anchor": "y12",
         "domain": [
          0.7649999999999999,
          0.9999999999999999
         ],
         "matches": "x",
         "showticklabels": false
        },
        "xaxis2": {
         "anchor": "y2",
         "domain": [
          0.255,
          0.49
         ],
         "matches": "x"
        },
        "xaxis3": {
         "anchor": "y3",
         "domain": [
          0.51,
          0.745
         ],
         "matches": "x"
        },
        "xaxis4": {
         "anchor": "y4",
         "domain": [
          0.7649999999999999,
          0.9999999999999999
         ],
         "matches": "x"
        },
        "xaxis5": {
         "anchor": "y5",
         "domain": [
          0,
          0.235
         ],
         "matches": "x",
         "showticklabels": false
        },
        "xaxis6": {
         "anchor": "y6",
         "domain": [
          0.255,
          0.49
         ],
         "matches": "x",
         "showticklabels": false
        },
        "xaxis7": {
         "anchor": "y7",
         "domain": [
          0.51,
          0.745
         ],
         "matches": "x",
         "showticklabels": false
        },
        "xaxis8": {
         "anchor": "y8",
         "domain": [
          0.7649999999999999,
          0.9999999999999999
         ],
         "matches": "x",
         "showticklabels": false
        },
        "xaxis9": {
         "anchor": "y9",
         "domain": [
          0,
          0.235
         ],
         "matches": "x",
         "showticklabels": false
        },
        "yaxis": {
         "anchor": "x",
         "domain": [
          0,
          0.2866666666666666
         ]
        },
        "yaxis10": {
         "anchor": "x10",
         "domain": [
          0.7133333333333333,
          0.9999999999999999
         ],
         "matches": "y",
         "showticklabels": false
        },
        "yaxis11": {
         "anchor": "x11",
         "domain": [
          0.7133333333333333,
          0.9999999999999999
         ],
         "matches": "y",
         "showticklabels": false
        },
        "yaxis12": {
         "anchor": "x12",
         "domain": [
          0.7133333333333333,
          0.9999999999999999
         ],
         "matches": "y",
         "showticklabels": false
        },
        "yaxis2": {
         "anchor": "x2",
         "domain": [
          0,
          0.2866666666666666
         ],
         "matches": "y",
         "showticklabels": false
        },
        "yaxis3": {
         "anchor": "x3",
         "domain": [
          0,
          0.2866666666666666
         ],
         "matches": "y",
         "showticklabels": false
        },
        "yaxis4": {
         "anchor": "x4",
         "domain": [
          0,
          0.2866666666666666
         ],
         "matches": "y",
         "showticklabels": false
        },
        "yaxis5": {
         "anchor": "x5",
         "domain": [
          0.35666666666666663,
          0.6433333333333333
         ],
         "matches": "y"
        },
        "yaxis6": {
         "anchor": "x6",
         "domain": [
          0.35666666666666663,
          0.6433333333333333
         ],
         "matches": "y",
         "showticklabels": false
        },
        "yaxis7": {
         "anchor": "x7",
         "domain": [
          0.35666666666666663,
          0.6433333333333333
         ],
         "matches": "y",
         "showticklabels": false
        },
        "yaxis8": {
         "anchor": "x8",
         "domain": [
          0.35666666666666663,
          0.6433333333333333
         ],
         "matches": "y",
         "showticklabels": false
        },
        "yaxis9": {
         "anchor": "x9",
         "domain": [
          0.7133333333333333,
          0.9999999999999999
         ],
         "matches": "y"
        }
       }
      }
     },
     "metadata": {},
     "output_type": "display_data"
    }
   ],
   "source": [
    "IMGS_IDX = [0, 1, 5673, 5494, 2, 55, 66, 776, 564]\n",
    "x = x_train[IMGS_IDX]\n",
    "y = y_train[IMGS_IDX]\n",
    "px.imshow(x, facet_col=0, facet_col_wrap=4)"
   ]
  },
  {
   "cell_type": "markdown",
   "metadata": {},
   "source": [
    "### Model declaration"
   ]
  },
  {
   "cell_type": "code",
   "execution_count": 33,
   "metadata": {},
   "outputs": [],
   "source": [
    "def create_nn() -> list[Layer]:\n",
    "    return [\n",
    "        Convolutional((10, 7, 7, 3)),\n",
    "        BatchNorm(),\n",
    "        Relu(),\n",
    "        MaxPool((2, 2)),\n",
    "        Convolutional((20, 3, 3, 10)),\n",
    "        BatchNorm(),\n",
    "        Relu(),\n",
    "        # MaxPool((2, 2)),\n",
    "        Flatten(),\n",
    "        Linear(2420, 128),\n",
    "        Relu(),\n",
    "        Linear(128, y.shape[1]),\n",
    "        Softmax(),\n",
    "    ]"
   ]
  },
  {
   "cell_type": "markdown",
   "metadata": {},
   "source": [
    "## Training"
   ]
  },
  {
   "cell_type": "code",
   "execution_count": 34,
   "metadata": {},
   "outputs": [
    {
     "data": {
      "application/vnd.jupyter.widget-view+json": {
       "model_id": "3450768b1cd84d4eb856aa11f781b1ad",
       "version_major": 2,
       "version_minor": 0
      },
      "text/plain": [
       "FigureWidget({\n",
       "    'data': [{'hovertemplate': 'variable=loss<br>epoch=%{x}<br>value=%{y}<extra></extra>',\n",
       "              'legendgroup': 'loss',\n",
       "              'marker': {'color': '#636efa', 'symbol': 'circle'},\n",
       "              'mode': 'markers',\n",
       "              'name': 'loss',\n",
       "              'orientation': 'v',\n",
       "              'showlegend': True,\n",
       "              'type': 'scatter',\n",
       "              'uid': '935c2c10-ed4b-4574-a918-47dc386dd6db',\n",
       "              'x': array([0]),\n",
       "              'xaxis': 'x2',\n",
       "              'y': array([0.32508203]),\n",
       "              'yaxis': 'y2'},\n",
       "             {'hovertemplate': 'variable=accuracy<br>epoch=%{x}<br>value=%{y}<extra></extra>',\n",
       "              'legendgroup': 'accuracy',\n",
       "              'marker': {'color': '#EF553B', 'symbol': 'circle'},\n",
       "              'mode': 'markers',\n",
       "              'name': 'accuracy',\n",
       "              'orientation': 'v',\n",
       "              'showlegend': True,\n",
       "              'type': 'scatter',\n",
       "              'uid': '49e053e8-1adc-4ef1-87be-3504b01c26a0',\n",
       "              'x': array([0]),\n",
       "              'xaxis': 'x',\n",
       "              'y': array([0.11111111]),\n",
       "              'yaxis': 'y'}],\n",
       "    'layout': {'annotations': [{'showarrow': False,\n",
       "                                'text': 'variable=accuracy',\n",
       "                                'textangle': 90,\n",
       "                                'x': 0.98,\n",
       "                                'xanchor': 'left',\n",
       "                                'xref': 'paper',\n",
       "                                'y': 0.2425,\n",
       "                                'yanchor': 'middle',\n",
       "                                'yref': 'paper'},\n",
       "                               {'showarrow': False,\n",
       "                                'text': 'variable=loss',\n",
       "                                'textangle': 90,\n",
       "                                'x': 0.98,\n",
       "                                'xanchor': 'left',\n",
       "                                'xref': 'paper',\n",
       "                                'y': 0.7575000000000001,\n",
       "                                'yanchor': 'middle',\n",
       "                                'yref': 'paper'}],\n",
       "               'legend': {'title': {'text': 'variable'}, 'tracegroupgap': 0},\n",
       "               'margin': {'t': 60},\n",
       "               'template': '...',\n",
       "               'xaxis': {'anchor': 'y', 'domain': [0.0, 0.98], 'title': {'text': 'epoch'}},\n",
       "               'xaxis2': {'anchor': 'y2', 'domain': [0.0, 0.98], 'matches': 'x', 'showticklabels': False},\n",
       "               'yaxis': {'anchor': 'x', 'domain': [0.0, 0.485], 'title': {'text': 'value'}},\n",
       "               'yaxis2': {'anchor': 'x2', 'domain': [0.515, 1.0], 'title': {'text': 'value'}}}\n",
       "})"
      ]
     },
     "metadata": {},
     "output_type": "display_data"
    }
   ],
   "source": [
    "training_stats = (\n",
    "    Adam(\n",
    "        create_nn(),\n",
    "        x,\n",
    "        y,\n",
    "        BinaryCrossentropy(),\n",
    "        starting_lr=0.015,\n",
    "        lr_decay=0.0005,\n",
    "        momentum_weight=0.9,\n",
    "        ada_grad_weight=0.9,\n",
    "    )\n",
    "    .optimize_nn(\n",
    "        epochs=10,\n",
    "        batch_size=128,\n",
    "        plt_x=\"epoch\",\n",
    "        plt_ys=[\"loss\", \"accuracy\"]\n",
    "    )\n",
    ")"
   ]
  },
  {
   "cell_type": "code",
   "execution_count": 35,
   "metadata": {},
   "outputs": [
    {
     "data": {
      "text/plain": [
       "(5000, 32, 32, 3)"
      ]
     },
     "execution_count": 35,
     "metadata": {},
     "output_type": "execute_result"
    }
   ],
   "source": [
    "N_SAMPLES_PER_CLASS = 500\n",
    "NB_CLASSES = 10\n",
    "\n",
    "class_masks = y_train.argmax(1, keepdims=True) == np.arange(NB_CLASSES)\n",
    "take_first_n_of_class = lambda data, class_idx: data[class_masks[:, class_idx]][:N_SAMPLES_PER_CLASS]\n",
    "take_first_n_of_each_class = lambda data: np.concatenate([take_first_n_of_class(data, class_idx) for class_idx in range(NB_CLASSES)], axis=0)\n",
    "even_x_train = take_first_n_of_each_class(x_train)\n",
    "even_y_train = take_first_n_of_each_class(y_train)\n",
    "even_x_train.shape"
   ]
  },
  {
   "cell_type": "code",
   "execution_count": 36,
   "metadata": {},
   "outputs": [],
   "source": [
    "bad_nn = create_nn()\n",
    "bad_optimizer = Adam(\n",
    "    bad_nn,\n",
    "    even_x_train,\n",
    "    even_y_train,\n",
    "    BinaryCrossentropy(),\n",
    "    starting_lr=0.025,\n",
    "    lr_decay=0.0001,\n",
    "    momentum_weight=0.85,\n",
    "    ada_grad_weight=0.999,\n",
    ")"
   ]
  },
  {
   "cell_type": "code",
   "execution_count": 37,
   "metadata": {},
   "outputs": [
    {
     "name": "stdout",
     "output_type": "stream",
     "text": [
      "Caught KeyboardInterrupt exception, returning training metrics.\n"
     ]
    }
   ],
   "source": [
    "bad_training_stats = (\n",
    "    bad_optimizer\n",
    "    .optimize_nn(\n",
    "        epochs=100,\n",
    "        batch_size=200,\n",
    "        metrics=[accuracy, nn_params_stats, activations_stats],\n",
    "        plt_x=\"epoch\",\n",
    "        plt_ys=[\n",
    "            \"loss\",\n",
    "            \"accuracy\",\n",
    "            \"learning_rate\",\n",
    "        ],\n",
    "        height=850,\n",
    "    )\n",
    ")"
   ]
  },
  {
   "cell_type": "code",
   "execution_count": null,
   "metadata": {},
   "outputs": [
    {
     "data": {
      "text/plain": [
       "loss        0.096776\n",
       "accuracy    0.790400\n",
       "dtype: float64"
      ]
     },
     "metadata": {},
     "output_type": "display_data"
    }
   ],
   "source": [
    "display(bad_training_stats.agg({\"loss\":\"min\", \"accuracy\":\"max\"}))"
   ]
  },
  {
   "cell_type": "code",
   "execution_count": null,
   "metadata": {},
   "outputs": [
    {
     "name": "stdout",
     "output_type": "stream",
     "text": [
      "0 accuracy: 0.5978\n",
      "Caught KeyboardInterrupt exception, returning training metrics.\n",
      "1 accuracy: 0.2254\n"
     ]
    }
   ],
   "source": [
    "from copy import deepcopy\n",
    "\n",
    "best_accuracy = 0\n",
    "try:\n",
    "    iteration = 0\n",
    "    while True:\n",
    "        starting_nn = create_nn()\n",
    "        nn = deepcopy(starting_nn)\n",
    "        optimizer = Adam(\n",
    "            nn,\n",
    "            even_x_train,   \n",
    "            even_y_train,\n",
    "            BinaryCrossentropy(),\n",
    "            starting_lr=0.025,\n",
    "            lr_decay=0.0005,\n",
    "            momentum_weight=0.9,\n",
    "            ada_grad_weight=0.999,\n",
    "        )\n",
    "        training_stats = (\n",
    "            optimizer\n",
    "            .optimize_nn(\n",
    "                epochs=50,\n",
    "                batch_size=100,\n",
    "                metrics=[accuracy, nn_params_stats, activations_stats],\n",
    "                catch_interrupt=False\n",
    "            )\n",
    "        )\n",
    "        print(iteration, \"accuracy:\", training_stats[\"accuracy\"].max())\n",
    "        if training_stats[\"accuracy\"].max() > best_accuracy:\n",
    "            best_starting_nn, best_nn, best_optimizer, best_training_stats = starting_nn, nn, optimizer, training_stats\n",
    "            best_accuracy = training_stats[\"accuracy\"].max()\n",
    "        if training_stats[\"accuracy\"].max() > 50:\n",
    "            break\n",
    "        iteration += 1\n",
    "except KeyboardInterrupt:\n",
    "    print()\n",
    "print(\"Best accuracy:\", best_accuracy)"
   ]
  },
  {
   "cell_type": "code",
   "execution_count": null,
   "metadata": {},
   "outputs": [],
   "source": [
    "nn = bad_nn"
   ]
  },
  {
   "cell_type": "code",
   "execution_count": null,
   "metadata": {},
   "outputs": [
    {
     "data": {
      "application/vnd.plotly.v1+json": {
       "config": {
        "plotlyServerURL": "https://plot.ly"
       },
       "data": [
        {
         "hovertemplate": "x: %{x}<br>y: %{y}<extra></extra>",
         "name": "0",
         "source": "data:image/png;base64,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",
         "type": "image",
         "xaxis": "x",
         "yaxis": "y"
        }
       ],
       "layout": {
        "margin": {
         "t": 60
        },
        "template": {
         "data": {
          "bar": [
           {
            "error_x": {
             "color": "#2a3f5f"
            },
            "error_y": {
             "color": "#2a3f5f"
            },
            "marker": {
             "line": {
              "color": "#E5ECF6",
              "width": 0.5
             },
             "pattern": {
              "fillmode": "overlay",
              "size": 10,
              "solidity": 0.2
             }
            },
            "type": "bar"
           }
          ],
          "barpolar": [
           {
            "marker": {
             "line": {
              "color": "#E5ECF6",
              "width": 0.5
             },
             "pattern": {
              "fillmode": "overlay",
              "size": 10,
              "solidity": 0.2
             }
            },
            "type": "barpolar"
           }
          ],
          "carpet": [
           {
            "aaxis": {
             "endlinecolor": "#2a3f5f",
             "gridcolor": "white",
             "linecolor": "white",
             "minorgridcolor": "white",
             "startlinecolor": "#2a3f5f"
            },
            "baxis": {
             "endlinecolor": "#2a3f5f",
             "gridcolor": "white",
             "linecolor": "white",
             "minorgridcolor": "white",
             "startlinecolor": "#2a3f5f"
            },
            "type": "carpet"
           }
          ],
          "choropleth": [
           {
            "colorbar": {
             "outlinewidth": 0,
             "ticks": ""
            },
            "type": "choropleth"
           }
          ],
          "contour": [
           {
            "colorbar": {
             "outlinewidth": 0,
             "ticks": ""
            },
            "colorscale": [
             [
              0,
              "#0d0887"
             ],
             [
              0.1111111111111111,
              "#46039f"
             ],
             [
              0.2222222222222222,
              "#7201a8"
             ],
             [
              0.3333333333333333,
              "#9c179e"
             ],
             [
              0.4444444444444444,
              "#bd3786"
             ],
             [
              0.5555555555555556,
              "#d8576b"
             ],
             [
              0.6666666666666666,
              "#ed7953"
             ],
             [
              0.7777777777777778,
              "#fb9f3a"
             ],
             [
              0.8888888888888888,
              "#fdca26"
             ],
             [
              1,
              "#f0f921"
             ]
            ],
            "type": "contour"
           }
          ],
          "contourcarpet": [
           {
            "colorbar": {
             "outlinewidth": 0,
             "ticks": ""
            },
            "type": "contourcarpet"
           }
          ],
          "heatmap": [
           {
            "colorbar": {
             "outlinewidth": 0,
             "ticks": ""
            },
            "colorscale": [
             [
              0,
              "#0d0887"
             ],
             [
              0.1111111111111111,
              "#46039f"
             ],
             [
              0.2222222222222222,
              "#7201a8"
             ],
             [
              0.3333333333333333,
              "#9c179e"
             ],
             [
              0.4444444444444444,
              "#bd3786"
             ],
             [
              0.5555555555555556,
              "#d8576b"
             ],
             [
              0.6666666666666666,
              "#ed7953"
             ],
             [
              0.7777777777777778,
              "#fb9f3a"
             ],
             [
              0.8888888888888888,
              "#fdca26"
             ],
             [
              1,
              "#f0f921"
             ]
            ],
            "type": "heatmap"
           }
          ],
          "heatmapgl": [
           {
            "colorbar": {
             "outlinewidth": 0,
             "ticks": ""
            },
            "colorscale": [
             [
              0,
              "#0d0887"
             ],
             [
              0.1111111111111111,
              "#46039f"
             ],
             [
              0.2222222222222222,
              "#7201a8"
             ],
             [
              0.3333333333333333,
              "#9c179e"
             ],
             [
              0.4444444444444444,
              "#bd3786"
             ],
             [
              0.5555555555555556,
              "#d8576b"
             ],
             [
              0.6666666666666666,
              "#ed7953"
             ],
             [
              0.7777777777777778,
              "#fb9f3a"
             ],
             [
              0.8888888888888888,
              "#fdca26"
             ],
             [
              1,
              "#f0f921"
             ]
            ],
            "type": "heatmapgl"
           }
          ],
          "histogram": [
           {
            "marker": {
             "pattern": {
              "fillmode": "overlay",
              "size": 10,
              "solidity": 0.2
             }
            },
            "type": "histogram"
           }
          ],
          "histogram2d": [
           {
            "colorbar": {
             "outlinewidth": 0,
             "ticks": ""
            },
            "colorscale": [
             [
              0,
              "#0d0887"
             ],
             [
              0.1111111111111111,
              "#46039f"
             ],
             [
              0.2222222222222222,
              "#7201a8"
             ],
             [
              0.3333333333333333,
              "#9c179e"
             ],
             [
              0.4444444444444444,
              "#bd3786"
             ],
             [
              0.5555555555555556,
              "#d8576b"
             ],
             [
              0.6666666666666666,
              "#ed7953"
             ],
             [
              0.7777777777777778,
              "#fb9f3a"
             ],
             [
              0.8888888888888888,
              "#fdca26"
             ],
             [
              1,
              "#f0f921"
             ]
            ],
            "type": "histogram2d"
           }
          ],
          "histogram2dcontour": [
           {
            "colorbar": {
             "outlinewidth": 0,
             "ticks": ""
            },
            "colorscale": [
             [
              0,
              "#0d0887"
             ],
             [
              0.1111111111111111,
              "#46039f"
             ],
             [
              0.2222222222222222,
              "#7201a8"
             ],
             [
              0.3333333333333333,
              "#9c179e"
             ],
             [
              0.4444444444444444,
              "#bd3786"
             ],
             [
              0.5555555555555556,
              "#d8576b"
             ],
             [
              0.6666666666666666,
              "#ed7953"
             ],
             [
              0.7777777777777778,
              "#fb9f3a"
             ],
             [
              0.8888888888888888,
              "#fdca26"
             ],
             [
              1,
              "#f0f921"
             ]
            ],
            "type": "histogram2dcontour"
           }
          ],
          "mesh3d": [
           {
            "colorbar": {
             "outlinewidth": 0,
             "ticks": ""
            },
            "type": "mesh3d"
           }
          ],
          "parcoords": [
           {
            "line": {
             "colorbar": {
              "outlinewidth": 0,
              "ticks": ""
             }
            },
            "type": "parcoords"
           }
          ],
          "pie": [
           {
            "automargin": true,
            "type": "pie"
           }
          ],
          "scatter": [
           {
            "fillpattern": {
             "fillmode": "overlay",
             "size": 10,
             "solidity": 0.2
            },
            "type": "scatter"
           }
          ],
          "scatter3d": [
           {
            "line": {
             "colorbar": {
              "outlinewidth": 0,
              "ticks": ""
             }
            },
            "marker": {
             "colorbar": {
              "outlinewidth": 0,
              "ticks": ""
             }
            },
            "type": "scatter3d"
           }
          ],
          "scattercarpet": [
           {
            "marker": {
             "colorbar": {
              "outlinewidth": 0,
              "ticks": ""
             }
            },
            "type": "scattercarpet"
           }
          ],
          "scattergeo": [
           {
            "marker": {
             "colorbar": {
              "outlinewidth": 0,
              "ticks": ""
             }
            },
            "type": "scattergeo"
           }
          ],
          "scattergl": [
           {
            "marker": {
             "colorbar": {
              "outlinewidth": 0,
              "ticks": ""
             }
            },
            "type": "scattergl"
           }
          ],
          "scattermapbox": [
           {
            "marker": {
             "colorbar": {
              "outlinewidth": 0,
              "ticks": ""
             }
            },
            "type": "scattermapbox"
           }
          ],
          "scatterpolar": [
           {
            "marker": {
             "colorbar": {
              "outlinewidth": 0,
              "ticks": ""
             }
            },
            "type": "scatterpolar"
           }
          ],
          "scatterpolargl": [
           {
            "marker": {
             "colorbar": {
              "outlinewidth": 0,
              "ticks": ""
             }
            },
            "type": "scatterpolargl"
           }
          ],
          "scatterternary": [
           {
            "marker": {
             "colorbar": {
              "outlinewidth": 0,
              "ticks": ""
             }
            },
            "type": "scatterternary"
           }
          ],
          "surface": [
           {
            "colorbar": {
             "outlinewidth": 0,
             "ticks": ""
            },
            "colorscale": [
             [
              0,
              "#0d0887"
             ],
             [
              0.1111111111111111,
              "#46039f"
             ],
             [
              0.2222222222222222,
              "#7201a8"
             ],
             [
              0.3333333333333333,
              "#9c179e"
             ],
             [
              0.4444444444444444,
              "#bd3786"
             ],
             [
              0.5555555555555556,
              "#d8576b"
             ],
             [
              0.6666666666666666,
              "#ed7953"
             ],
             [
              0.7777777777777778,
              "#fb9f3a"
             ],
             [
              0.8888888888888888,
              "#fdca26"
             ],
             [
              1,
              "#f0f921"
             ]
            ],
            "type": "surface"
           }
          ],
          "table": [
           {
            "cells": {
             "fill": {
              "color": "#EBF0F8"
             },
             "line": {
              "color": "white"
             }
            },
            "header": {
             "fill": {
              "color": "#C8D4E3"
             },
             "line": {
              "color": "white"
             }
            },
            "type": "table"
           }
          ]
         },
         "layout": {
          "annotationdefaults": {
           "arrowcolor": "#2a3f5f",
           "arrowhead": 0,
           "arrowwidth": 1
          },
          "autotypenumbers": "strict",
          "coloraxis": {
           "colorbar": {
            "outlinewidth": 0,
            "ticks": ""
           }
          },
          "colorscale": {
           "diverging": [
            [
             0,
             "#8e0152"
            ],
            [
             0.1,
             "#c51b7d"
            ],
            [
             0.2,
             "#de77ae"
            ],
            [
             0.3,
             "#f1b6da"
            ],
            [
             0.4,
             "#fde0ef"
            ],
            [
             0.5,
             "#f7f7f7"
            ],
            [
             0.6,
             "#e6f5d0"
            ],
            [
             0.7,
             "#b8e186"
            ],
            [
             0.8,
             "#7fbc41"
            ],
            [
             0.9,
             "#4d9221"
            ],
            [
             1,
             "#276419"
            ]
           ],
           "sequential": [
            [
             0,
             "#0d0887"
            ],
            [
             0.1111111111111111,
             "#46039f"
            ],
            [
             0.2222222222222222,
             "#7201a8"
            ],
            [
             0.3333333333333333,
             "#9c179e"
            ],
            [
             0.4444444444444444,
             "#bd3786"
            ],
            [
             0.5555555555555556,
             "#d8576b"
            ],
            [
             0.6666666666666666,
             "#ed7953"
            ],
            [
             0.7777777777777778,
             "#fb9f3a"
            ],
            [
             0.8888888888888888,
             "#fdca26"
            ],
            [
             1,
             "#f0f921"
            ]
           ],
           "sequentialminus": [
            [
             0,
             "#0d0887"
            ],
            [
             0.1111111111111111,
             "#46039f"
            ],
            [
             0.2222222222222222,
             "#7201a8"
            ],
            [
             0.3333333333333333,
             "#9c179e"
            ],
            [
             0.4444444444444444,
             "#bd3786"
            ],
            [
             0.5555555555555556,
             "#d8576b"
            ],
            [
             0.6666666666666666,
             "#ed7953"
            ],
            [
             0.7777777777777778,
             "#fb9f3a"
            ],
            [
             0.8888888888888888,
             "#fdca26"
            ],
            [
             1,
             "#f0f921"
            ]
           ]
          },
          "colorway": [
           "#636efa",
           "#EF553B",
           "#00cc96",
           "#ab63fa",
           "#FFA15A",
           "#19d3f3",
           "#FF6692",
           "#B6E880",
           "#FF97FF",
           "#FECB52"
          ],
          "font": {
           "color": "#2a3f5f"
          },
          "geo": {
           "bgcolor": "white",
           "lakecolor": "white",
           "landcolor": "#E5ECF6",
           "showlakes": true,
           "showland": true,
           "subunitcolor": "white"
          },
          "hoverlabel": {
           "align": "left"
          },
          "hovermode": "closest",
          "mapbox": {
           "style": "light"
          },
          "paper_bgcolor": "white",
          "plot_bgcolor": "#E5ECF6",
          "polar": {
           "angularaxis": {
            "gridcolor": "white",
            "linecolor": "white",
            "ticks": ""
           },
           "bgcolor": "#E5ECF6",
           "radialaxis": {
            "gridcolor": "white",
            "linecolor": "white",
            "ticks": ""
           }
          },
          "scene": {
           "xaxis": {
            "backgroundcolor": "#E5ECF6",
            "gridcolor": "white",
            "gridwidth": 2,
            "linecolor": "white",
            "showbackground": true,
            "ticks": "",
            "zerolinecolor": "white"
           },
           "yaxis": {
            "backgroundcolor": "#E5ECF6",
            "gridcolor": "white",
            "gridwidth": 2,
            "linecolor": "white",
            "showbackground": true,
            "ticks": "",
            "zerolinecolor": "white"
           },
           "zaxis": {
            "backgroundcolor": "#E5ECF6",
            "gridcolor": "white",
            "gridwidth": 2,
            "linecolor": "white",
            "showbackground": true,
            "ticks": "",
            "zerolinecolor": "white"
           }
          },
          "shapedefaults": {
           "line": {
            "color": "#2a3f5f"
           }
          },
          "ternary": {
           "aaxis": {
            "gridcolor": "white",
            "linecolor": "white",
            "ticks": ""
           },
           "baxis": {
            "gridcolor": "white",
            "linecolor": "white",
            "ticks": ""
           },
           "bgcolor": "#E5ECF6",
           "caxis": {
            "gridcolor": "white",
            "linecolor": "white",
            "ticks": ""
           }
          },
          "title": {
           "x": 0.05
          },
          "xaxis": {
           "automargin": true,
           "gridcolor": "white",
           "linecolor": "white",
           "ticks": "",
           "title": {
            "standoff": 15
           },
           "zerolinecolor": "white",
           "zerolinewidth": 2
          },
          "yaxis": {
           "automargin": true,
           "gridcolor": "white",
           "linecolor": "white",
           "ticks": "",
           "title": {
            "standoff": 15
           },
           "zerolinecolor": "white",
           "zerolinewidth": 2
          }
         }
        },
        "xaxis": {
         "anchor": "y",
         "domain": [
          0,
          1
         ]
        },
        "yaxis": {
         "anchor": "x",
         "domain": [
          0,
          1
         ]
        }
       }
      }
     },
     "metadata": {},
     "output_type": "display_data"
    }
   ],
   "source": [
    "px.imshow(x_train[5673])"
   ]
  },
  {
   "cell_type": "code",
   "execution_count": 38,
   "metadata": {},
   "outputs": [
    {
     "data": {
      "application/vnd.plotly.v1+json": {
       "config": {
        "plotlyServerURL": "https://plot.ly"
       },
       "data": [
        {
         "coloraxis": "coloraxis",
         "hovertemplate": "x: %{x}<br>y: %{y}<br>color: %{z}<extra></extra>",
         "name": "0",
         "type": "heatmap",
         "xaxis": "x",
         "yaxis": "y",
         "z": [
          [
           2.2064715665427346,
           1.316297093258406,
           0.7993083745009582,
           0.528412326109075,
           0.06296491693654604,
           -0.4539764370796586,
           -0.6286449109263614,
           -0.42137817169069225,
           -0.10072509235135307,
           -0.2599099572836313,
           -0.7231250489474399,
           -0.9992796721997028,
           -1.0163925157859617,
           -1.040183329849606,
           -1.1212424945061013,
           -1.1349473624861204,
           -1.104971193869639,
           -1.0497351637295094,
           -0.9867094935322515,
           -0.9610361825528372,
           -0.9658221744421314,
           -0.8624115518235613,
           -0.575074645364715,
           -0.2826646551493548,
           -0.27521666979393467,
           -0.5667216211415279
          ],
          [
           1.2885831992538068,
           0.6098115098066879,
           0.26218533435510327,
           -0.12111565769430521,
           -0.18376724727531069,
           -0.41428168499126006,
           -1.0770141685039587,
           -1.1123518027540358,
           -0.623304089772319,
           -0.5143188680993324,
           -0.5773256771884646,
           -0.36540554528952807,
           -0.17796573395984638,
           -0.424277772496394,
           -0.9102618407576651,
           -1.1251686912164467,
           -1.0705492835460548,
           -1.0013696835483228,
           -1.0665129194854797,
           -1.1869096650966857,
           -1.1894878137643454,
           -0.8494278348661786,
           -0.4031124226028261,
           -0.3243889342000381,
           -0.6776653757407245,
           -1.0315916144487167
          ],
          [
           0.6608081522214384,
           0.17993098860793366,
           -0.19120626098973603,
           -0.4804851431046153,
           -0.20791261544522066,
           -0.3607662294492221,
           -1.1908837316405503,
           -1.3241240440363327,
           -0.919512103183086,
           -0.8639790483548928,
           -0.750970859571426,
           0.0641600000949325,
           0.46769173918609264,
           0.04303346452587453,
           -0.7318483782154452,
           -1.0596584811907803,
           -0.804096356830931,
           -0.5142670312926605,
           -0.687491874005645,
           -1.0302127405982384,
           -0.961564888985899,
           -0.5158510283282737,
           -0.33850654140248204,
           -0.7208277383325794,
           -1.1837148799415256,
           -1.3701193216563001
          ],
          [
           0.18241603806043138,
           -0.23993323043952863,
           -0.5830652869720203,
           -0.6126343647884095,
           -0.2922052268544738,
           -0.3116882217732613,
           -0.8496802810698156,
           -0.9789032864104091,
           -0.7283714332876661,
           -0.8640816271554256,
           -0.8627633051564603,
           0.2549720555797952,
           0.7848602514079992,
           0.2276817810320122,
           -0.649593723635501,
           -1.0120744319025465,
           -0.41483679859918365,
           0.3107435874159996,
           0.16630483767341175,
           -0.3620509681896872,
           -0.4314710487373624,
           -0.34170001679579587,
           -0.7043914505788116,
           -1.2155435784303052,
           -1.4294822669567337,
           -1.5600486942129286
          ],
          [
           -0.24923268294575918,
           -0.40337910700294033,
           -0.4329669680204221,
           -0.30265801931602665,
           -0.1292723151019588,
           0.0299390262495125,
           -0.12956135851412254,
           -0.08587303824844639,
           0.06351821334047214,
           -0.2481710329219099,
           -0.5556857336803466,
           0.10889243519299252,
           0.5579614231139582,
           0.2522173227362201,
           -0.41172782037140154,
           -0.9000061482675114,
           -0.09837623456441413,
           0.8702019924179443,
           0.7735184592086621,
           0.1502713242798812,
           -0.24518561222391477,
           -0.6732374782695443,
           -1.1928528575855617,
           -1.4303461702435305,
           -1.5736980465005093,
           -1.8061500719089019
          ],
          [
           -0.5615154380085821,
           -0.27853503531003154,
           -0.10363955396007729,
           -0.0670882748908459,
           -0.026423183769486158,
           0.20362589181814683,
           0.4146562343532316,
           0.7554969161913596,
           0.8154339865693914,
           0.3679634717964684,
           -0.10422903169634534,
           0.04392293537624736,
           0.5214986073274215,
           0.6803261488494541,
           0.2528152938639643,
           -0.5721280871629766,
           -0.06234742880241528,
           0.8406558618655704,
           0.9571822755979245,
           0.4096649166416775,
           -0.32698566060129586,
           -1.007185634961681,
           -1.3557265367727436,
           -1.5738091139927215,
           -1.9285299834293008,
           -2.134527881370124
          ],
          [
           -0.5239832802895119,
           -0.1400379151463702,
           0.2058348475647429,
           0.3957386158484346,
           0.45057476360617854,
           0.5847428074351055,
           0.8818838252571644,
           1.1891159141121035,
           1.0354583624503282,
           0.6897303692919332,
           0.2436715645388874,
           0.013032531842768424,
           0.675347827513022,
           1.2055931475237704,
           0.866503193709824,
           -0.24469148695390075,
           -0.24149174199511914,
           0.5536993967885351,
           1.0124988167054596,
           0.6110307691769745,
           -0.40536392645553876,
           -1.1384257747471678,
           -1.4901414819526624,
           -1.9020185625459158,
           -2.219398811896084,
           -2.2682535408731246
          ],
          [
           -0.6224761323043311,
           -0.37433200994923455,
           0.12785721939208994,
           0.5856401491683123,
           0.8873714620241111,
           0.9871116290415323,
           1.125715250833534,
           1.287134301425659,
           1.0941243101620466,
           1.093584090418343,
           0.7863801911705255,
           0.2440954672513218,
           0.7045384101800736,
           1.1437577995993347,
           1.0383814723019302,
           0.11525648863103077,
           -0.40589775928048133,
           0.32755288410783345,
           0.9628746483032651,
           0.7510620435435189,
           0.02428696671197783,
           -0.6038628489112696,
           -1.4383434316156096,
           -2.09561338663097,
           -2.294585514087057,
           -2.310022115761562
          ],
          [
           -0.7605995772342642,
           -0.6818195815979554,
           -0.32784703766226975,
           0.07435851724416498,
           0.5056241999495079,
           0.7036012981537834,
           0.8091212753965409,
           0.9801605014201762,
           1.1262425160055747,
           1.476341009424468,
           1.2680328810372261,
           0.6909047030613908,
           0.7428664950405395,
           0.9977650298090373,
           1.4256683885722716,
           0.8524573924085905,
           -0.2548094393484135,
           -0.020779740197511387,
           0.3221746191699122,
           0.43930073858080676,
           0.4334737814589189,
           0.10440774275417031,
           -0.8115654724544661,
           -1.439280035245067,
           -1.758239581521702,
           -2.0120604269999744
          ],
          [
           -0.5176702167445401,
           -0.4442862554211051,
           -0.4369658706668583,
           -0.31238535436179793,
           0.034478099938312745,
           0.3257962791507971,
           0.528335409116693,
           0.8128093306861692,
           1.1977188696364878,
           1.4610617812202178,
           1.068400057493688,
           0.6688960270701989,
           0.3453003768965701,
           0.486007223210563,
           1.497576350341912,
           1.3613527809422385,
           0.3165355497237461,
           0.1099344965810416,
           -0.1890998178933424,
           -0.048016686902170314,
           0.3004862955353169,
           0.18810723932680973,
           -0.23850041441544967,
           -0.48227809704818103,
           -0.683801584446688,
           -1.0141632030456627
          ],
          [
           -0.41598136775296235,
           -0.15343649269721982,
           -0.2294398347974026,
           -0.23496805721733682,
           -0.029274827879410825,
           0.20327683798514107,
           0.31804370954383154,
           0.5068879066854646,
           0.898161262993665,
           1.073658267148831,
           0.7423706093978761,
           0.5059459538787232,
           -0.01600097819045687,
           0.02342378328477146,
           1.1293431042295747,
           1.3284631860597544,
           0.5804998877439556,
           0.27578000528526747,
           -0.10892750799137851,
           -0.10936350679428297,
           0.12319839381220365,
           0.15472800293819877,
           0.13467565314900165,
           0.06789560169064957,
           0.01267698971554343,
           -0.15004733128777825
          ],
          [
           -0.8203299662661407,
           -0.5216239191602656,
           -0.3985290213314059,
           -0.24272580737963634,
           -0.12823879543569927,
           -0.06687488613273773,
           -0.18163018141674825,
           -0.31595764486409483,
           -0.02186238773912974,
           0.44677562642675506,
           0.6893661307307375,
           0.4891262364006921,
           -0.2356517998119344,
           -0.5783325369123878,
           0.14912576536826028,
           0.6862104644753138,
           0.40410140093204894,
           0.2571897485993526,
           0.06539247715442897,
           -0.013370410246760223,
           0.2471152106136112,
           0.45256571706067117,
           0.5491189512237697,
           0.49878263797955236,
           0.4381477642880156,
           0.32272535390237955
          ],
          [
           -1.364163299857218,
           -1.1498790039391678,
           -0.953763146452701,
           -0.7281694940651191,
           -0.5358987156888856,
           -0.3558130304049669,
           -0.5355815370620332,
           -0.8776077148655972,
           -0.7213538086980069,
           -0.1522203841341746,
           0.4204505944269823,
           0.20161213174794024,
           -0.7207938627465333,
           -1.4394734910473495,
           -0.8524187710960331,
           -0.009860077002890488,
           0.31538119919065966,
           0.4833644483811945,
           0.3315626746547402,
           0.18544797697393456,
           0.5569344919923702,
           1.0368026964543162,
           1.1807755249295777,
           0.9739499748557066,
           0.7360897931330779,
           0.48798480574493697
          ],
          [
           -1.7242330917751671,
           -1.4997214341110316,
           -1.2933842331161853,
           -1.2301790174762233,
           -1.0939187121795158,
           -0.6926410421392728,
           -0.6949096494822137,
           -1.0964555075936069,
           -1.1350246869745766,
           -0.725234572548026,
           -0.1851515351702946,
           -0.4395308251983213,
           -1.2906244515346992,
           -1.9723230530804439,
           -1.4791591176706478,
           -0.559540370833725,
           0.4105297951123603,
           0.9839547133349384,
           0.7667461302144105,
           0.5769578943475964,
           0.9098650400250028,
           1.3438052681480852,
           1.4744562836786588,
           1.2217257260918801,
           0.896870435367962,
           0.4056118479137376
          ],
          [
           -1.9405772180773904,
           -1.7435796582120404,
           -1.582383772823174,
           -1.554761844180815,
           -1.564074675834344,
           -1.327239190277933,
           -1.1876821396623523,
           -1.4631951937139773,
           -1.613450716558205,
           -1.3198124434625405,
           -0.8277811266165983,
           -1.1339129899773617,
           -1.768852623379455,
           -2.1994008958049402,
           -1.7979890618971694,
           -0.7860348845144367,
           0.5200801271695872,
           1.0894450661583552,
           0.7738468753319336,
           0.5010547701651491,
           0.6427958538590555,
           0.8995924540114744,
           0.9353838864554782,
           0.728487381120489,
           0.45560570165473835,
           -0.0607486204629466
          ],
          [
           -2.028279581071141,
           -2.0077908326044467,
           -1.9782768750028177,
           -1.931369342253256,
           -1.9784168986964379,
           -1.9232686973627442,
           -1.7708941834913503,
           -1.90251490663277,
           -1.9739110419110064,
           -1.6227270504340454,
           -1.2860174945785383,
           -1.742651756363927,
           -2.1219007664395297,
           -2.3779185471087096,
           -1.9186179709257307,
           -0.8028356427935084,
           0.39206639409095545,
           0.5464649870181677,
           0.11976579027193202,
           -0.045586083419175694,
           0.04634854022449808,
           0.14156931927808936,
           0.0636493150668509,
           -0.22441548512562282,
           -0.587310578530402,
           -1.0205370269052703
          ],
          [
           -2.0998696954208844,
           -2.1807090417086124,
           -2.2363591787498964,
           -2.2251183430979378,
           -2.2741979060583577,
           -2.2620999315877834,
           -2.1399940416333982,
           -2.178918445567201,
           -2.2557690183495405,
           -2.0197911202432697,
           -1.7701704178112165,
           -2.2490487449856507,
           -2.5610468533639485,
           -2.8079391586490816,
           -2.2555049730335304,
           -1.2011686531376218,
           -0.3933625721412257,
           -0.5491250994101993,
           -0.9550554559205116,
           -1.0905365500901005,
           -0.9709179223785653,
           -0.7382926586374777,
           -0.6104601970074279,
           -0.7239227108380315,
           -0.9490801328601013,
           -1.225312320093164
          ],
          [
           -2.205553991185676,
           -2.2647288922529043,
           -2.3255814950474445,
           -2.3952534479472565,
           -2.5112022783486587,
           -2.53165564560563,
           -2.480410287304603,
           -2.484258257530877,
           -2.568349829326933,
           -2.499682809794866,
           -2.300164146388198,
           -2.7354316996883243,
           -2.9581748078887475,
           -3.0643384616885774,
           -2.379560651739758,
           -1.4542619925954434,
           -0.9645008180456935,
           -1.1226854701783304,
           -1.3429911722664558,
           -1.4575885341649357,
           -1.3145246501711516,
           -1.1192324096262805,
           -1.0808396663611273,
           -1.1693981977901193,
           -1.2317144648945892,
           -1.357278276095872
          ],
          [
           -2.2459516993522683,
           -2.3208472213833753,
           -2.4084220767329896,
           -2.489777521335598,
           -2.6383818281628546,
           -2.7451165155250754,
           -2.762104172747117,
           -2.7268971316446233,
           -2.773268580290825,
           -2.7011122149222784,
           -2.524152157716889,
           -2.9542826830496858,
           -2.9991677412334843,
           -2.8283073309995044,
           -2.0155051572513116,
           -1.3213102945298842,
           -1.1132190517268672,
           -1.3192825580332501,
           -1.6184119667820882,
           -1.820285375489125,
           -1.8099117713871395,
           -1.844959503800784,
           -2.0380578222140073,
           -2.189700499404977,
           -2.2131518814149245,
           -2.2854835821220822
          ],
          [
           -2.258745257775929,
           -2.403431211950616,
           -2.5200200937453765,
           -2.580202974385881,
           -2.6621605441834952,
           -2.7102944505042026,
           -2.7043655912863462,
           -2.7462882394983588,
           -2.8802750386180596,
           -2.872838594840861,
           -2.726392248316035,
           -2.9641254736499567,
           -2.693887139524852,
           -2.3101032516425235,
           -1.5929742235614452,
           -1.2857287357061864,
           -1.4544746527677423,
           -1.9325191672997755,
           -2.5170723547418756,
           -2.748304882855115,
           -2.7655278599804953,
           -2.8437083726525216,
           -2.9421361945615,
           -2.9447005713028576,
           -2.884460021269171,
           -2.8820387048107587
          ],
          [
           -2.36797313999916,
           -2.5388007077128876,
           -2.615594440015657,
           -2.6490334722338393,
           -2.6978309473941504,
           -2.679363373838063,
           -2.645035688836048,
           -2.78991573219885,
           -2.973533285745686,
           -3.0656804696929063,
           -2.9084665031013586,
           -2.8175279020803528,
           -2.3157132769179642,
           -1.8815286120088892,
           -1.475848870774339,
           -1.5991166785006268,
           -2.0470996174413196,
           -2.5744264317641177,
           -3.030464516856862,
           -3.063875719681123,
           -3.030901173341727,
           -3.013238556778968,
           -2.9967343151733647,
           -2.9401284129581837,
           -2.9064497936657308,
           -2.9222957530293305
          ],
          [
           -2.4545513545591415,
           -2.5795775476916685,
           -2.631690317959795,
           -2.687052084416071,
           -2.7435463040355814,
           -2.7176367709229563,
           -2.6777694469607454,
           -2.8196327668685184,
           -2.9361708243058606,
           -3.0883830911053725,
           -2.841212743896186,
           -2.5295275985308923,
           -1.9496760274219065,
           -1.4463704007509044,
           -1.237353702733681,
           -1.6312066025999723,
           -2.193343023467072,
           -2.678238148060122,
           -3.001141824688829,
           -2.9842483121962937,
           -3.019520868091049,
           -3.005352212333902,
           -2.966521681179006,
           -2.9225673783060397,
           -2.9384347410288116,
           -2.9806455439590276
          ],
          [
           -2.4990873181704796,
           -2.596039064056816,
           -2.6845776463249367,
           -2.7649943287918415,
           -2.8025487804348668,
           -2.762043938738876,
           -2.664621946628351,
           -2.7299776559017808,
           -2.7556201484065355,
           -2.916010988452924,
           -2.6199590600079308,
           -2.4034914949546304,
           -1.824523736969306,
           -1.2048923395426545,
           -1.1479964955488684,
           -1.6554845116962393,
           -2.207183804154757,
           -2.6952184558733725,
           -2.969339660521346,
           -2.9987271692204187,
           -3.0618958411031807,
           -3.037339349326002,
           -2.982222065900243,
           -2.955843020298638,
           -2.9871729517741215,
           -3.0305715145354677
          ],
          [
           -2.582158480096281,
           -2.6814645377144277,
           -2.7913922218364506,
           -2.8472829799642154,
           -2.8662091208675795,
           -2.8200696715746796,
           -2.630315106938963,
           -2.615203925355074,
           -2.559166840928877,
           -2.6780772597197835,
           -2.4151056244900744,
           -2.5174567085162693,
           -1.9099633769979096,
           -1.236600519253706,
           -1.371314963087368,
           -1.8156029630948693,
           -2.252563892825055,
           -2.7390986896201426,
           -2.9292173070602727,
           -3.0173144384081407,
           -3.1010555663315227,
           -3.0639626168700316,
           -3.0202666598785566,
           -3.0281321115051174,
           -3.063305264696938,
           -3.098012943578013
          ],
          [
           -2.702030538142437,
           -2.7991573979700703,
           -2.864370606768044,
           -2.874006526156172,
           -2.888551598880934,
           -2.8421203115489413,
           -2.6703167808954418,
           -2.631397174099193,
           -2.422613265670928,
           -2.381150436891026,
           -2.1578248312201738,
           -2.5098479157177027,
           -1.952830753347639,
           -1.4973864700220632,
           -1.7337233297781114,
           -1.9985245340764881,
           -2.3521700572130175,
           -2.799675585647723,
           -2.9263122588254227,
           -3.067999030437263,
           -3.162650701161178,
           -3.1050372955993035,
           -3.06845755285271,
           -3.0980848247346633,
           -3.143013800165142,
           -3.174295351120697
          ],
          [
           -2.8086007319151065,
           -2.883282523465733,
           -2.8797271251418666,
           -2.882310145373048,
           -2.8985526211408574,
           -2.8644280615450715,
           -2.78823279636837,
           -2.7323853884464597,
           -2.344021900832961,
           -2.1500823157734947,
           -1.9643496120705604,
           -2.372198680976264,
           -2.0355242312558692,
           -1.8417659635202048,
           -1.9626565587985707,
           -2.1248932847807724,
           -2.547565721427745,
           -2.8956793524557183,
           -2.978477660541664,
           -3.1214238189484282,
           -3.200518662640846,
           -3.1515116504611056,
           -3.1344882198678636,
           -3.1747664939697997,
           -3.217012360214042,
           -3.221845412100729
          ]
         ]
        },
        {
         "coloraxis": "coloraxis",
         "hovertemplate": "x: %{x}<br>y: %{y}<br>color: %{z}<extra></extra>",
         "name": "1",
         "type": "heatmap",
         "xaxis": "x2",
         "yaxis": "y2",
         "z": [
          [
           -2.905219180589163,
           -3.0106401705015804,
           -2.5620849106826884,
           -1.522931942710013,
           -1.5841177952743006,
           -1.5317725449170956,
           0.22691586936195457,
           1.6189060596231606,
           2.9050219577946463,
           2.9168985605774362,
           1.8887479970066963,
           1.4976507898955451,
           1.3463973372043152,
           0.8576934344255711,
           0.6374591771802842,
           0.7076331769722195,
           0.736840898517545,
           0.872089826229252,
           0.6417789319605406,
           0.21020175558292647,
           0.22470696525439088,
           0.24233078584313955,
           0.07319202030112104,
           -0.2923028518641715,
           -0.855421761629804,
           -0.8778952681028481
          ],
          [
           -2.6824964872683394,
           -2.084325533357093,
           -1.014152111710899,
           0.3231638302613159,
           -0.2870849810664744,
           -1.689340090955611,
           0.04605864913614843,
           0.9846530010854186,
           1.602997568600415,
           3.3082773184903953,
           2.3546538107131774,
           1.3876659573695975,
           1.262720948935995,
           0.5684848213311984,
           0.24678819517636935,
           0.5850017934117147,
           0.6613645118161514,
           0.36580159462121953,
           -0.28430781989818965,
           -0.5005183115896258,
           -0.16595632686485196,
           0.004962700406563325,
           -0.027201846700683485,
           -0.36242830026895345,
           -0.5441827345567861,
           -0.5264807629816511
          ],
          [
           -1.72012353819744,
           -0.805186002647036,
           0.6466501075012808,
           1.7457836173485854,
           0.6058927228140869,
           -1.2785575727442526,
           -0.07061609786647849,
           0.045064723723450384,
           0.27981921276465166,
           3.527022519955783,
           3.9761325827609917,
           2.6609477530480126,
           2.0264758796084235,
           0.5935784108257559,
           0.2620107619710627,
           0.8139673375153225,
           0.9037087726927118,
           0.5741692098963832,
           -0.11992579955237892,
           -0.1924254435840803,
           0.20819214864925217,
           0.30063809420651677,
           -0.01180245146701453,
           -0.22804202635137993,
           -0.03875952603891919,
           -0.08898316681083007
          ],
          [
           -0.24925686228067645,
           0.8679123345706701,
           2.0954863469131877,
           1.8410015352882687,
           0.6944666390337138,
           -0.13297415641711263,
           -0.18673213982259718,
           -1.1494833723148492,
           -1.245401828920358,
           2.4492595365158545,
           4.778707890360126,
           4.065229636212627,
           3.323653875051968,
           1.4546759548651282,
           1.258430726962813,
           1.926985361666659,
           1.906904681711434,
           1.8565670657143944,
           0.9988059880939306,
           0.2840012210433884,
           0.44709520355785454,
           0.40438901255477305,
           -0.13925749505424456,
           -0.08138785431382267,
           0.20177818741971032,
           0.4899608471329111
          ],
          [
           1.4800532569822136,
           2.0997526485726365,
           2.2399073417189626,
           1.0838307369116147,
           0.6409712308213631,
           0.5318246728588869,
           -0.2625075426148763,
           -1.3349058776280809,
           -2.3219807559484202,
           -0.32417595557976386,
           2.6710407040278845,
           3.304114999427968,
           2.902020130886365,
           2.094776147708897,
           2.5986272452235903,
           3.2536448219585936,
           3.538179667615296,
           4.016181585868275,
           2.505814519545382,
           0.9277209490786316,
           0.5415703784397583,
           0.1645144326248399,
           -0.23637007066286442,
           0.04568667304509222,
           0.4564494094959377,
           1.0845055032066813
          ],
          [
           3.5715347860206315,
           3.312641081270019,
           2.683642895696972,
           1.7182838681241845,
           1.5476816581955088,
           1.8143253764563143,
           1.373371379641994,
           0.23100157275659722,
           -1.7902554247991977,
           -2.8453232366480923,
           -0.9584320664980955,
           0.9980638346691726,
           0.871642409063734,
           1.510388534201864,
           2.517994295102139,
           2.710420086966793,
           3.07188328932513,
           4.227323775786489,
           2.9713199124282768,
           1.211441397767412,
           0.2549870574606628,
           -0.27024508931076596,
           -0.2878618929760046,
           0.18631288924736988,
           0.962743788288043,
           1.5329928032932214
          ],
          [
           4.062857554954868,
           3.9732787628571957,
           3.812356032480127,
           3.3775476817211323,
           3.304451947804946,
           3.8686672890485143,
           3.6925664114311814,
           2.415974007926757,
           -0.14002416513295934,
           -3.0024527698555645,
           -2.759656515518263,
           -1.3844922120332153,
           -1.1799911475945168,
           0.5201715502225442,
           1.1146853460983634,
           0.5814166067849371,
           0.46996692984568533,
           1.6825673556737222,
           2.0540072241621576,
           1.3099655378608595,
           -0.1219295981875248,
           -0.8988551950364702,
           -0.31443483282457896,
           0.8892324254485435,
           1.758978128196012,
           1.4481645316272997
          ],
          [
           1.0506387503906813,
           1.5886953350618787,
           2.163437761523342,
           2.42041145896704,
           2.463904758942201,
           2.81384224810946,
           2.895829153527851,
           2.3508842240870256,
           0.9095403566182761,
           -0.886955663027507,
           -1.123361264105292,
           -1.4933605536012302,
           -1.476521444336433,
           0.9604988029324087,
           0.9870637417300252,
           -0.8922879466437857,
           -1.9890069820118166,
           -1.524824735800617,
           1.207921371691653,
           2.211872471959406,
           0.7316571185090199,
           -0.7916673160362228,
           0.1739252090475017,
           1.642055117305846,
           1.7041606972794034,
           1.1876295676212
          ],
          [
           -2.3270735771166895,
           -1.853841284767657,
           -0.8315096130200182,
           0.003359586204302545,
           0.21748080031216782,
           0.43017216698058974,
           0.7197435199080487,
           0.7351117743008457,
           0.8881018146395201,
           0.6843011890821391,
           0.1861722760610764,
           -1.0850800571049524,
           -1.2548240505945492,
           1.55482741186471,
           1.4398321044849447,
           -0.8704186073338772,
           -2.1158884610924353,
           -3.147680399036554,
           1.3422492323798019,
           4.355159962719279,
           2.9588420173416483,
           1.2351350199216107,
           1.8598477158184394,
           1.8841224431894217,
           1.4122628355381899,
           1.264459967276998
          ],
          [
           -3.9046186609037123,
           -4.094129431047567,
           -3.270437074858737,
           -2.1021735974314546,
           -1.469659441445808,
           -1.1047604704924012,
           -0.49854900084228626,
           -0.30197959157991106,
           0.4708998744652806,
           1.185636724222999,
           0.6869884926278386,
           -1.2411267057492608,
           -1.3166564785898496,
           1.5156699587142315,
           0.8958332345456347,
           -0.04330986245525781,
           -0.179775732314012,
           -2.6430601741581317,
           1.5429885502072729,
           6.328769492899842,
           6.112232756642127,
           4.866692113179181,
           4.3067398557555725,
           2.96410420625134,
           2.071597536410042,
           1.6364217556527998
          ],
          [
           -2.9542435507770537,
           -4.0231681089481794,
           -4.394820994237029,
           -3.722389452659071,
           -2.992043603098777,
           -2.4083521510326453,
           -1.576393492080478,
           -1.024861751657184,
           -0.06271794249410834,
           0.9378453563761061,
           0.635254897169988,
           -1.6345950145531742,
           -1.686902789432597,
           0.517544055674678,
           0.0062381156609554456,
           0.7359994980191248,
           0.8168243483628002,
           -2.6423867720126926,
           -0.19137842501130709,
           5.25744012474592,
           7.149546315101678,
           7.762068563627335,
           6.61942475921874,
           5.259567633833297,
           4.159458119793952,
           3.149793773238909
          ],
          [
           -0.7923245366543928,
           -2.343955941687875,
           -3.7334210052910333,
           -3.98629781168691,
           -3.7965139296727584,
           -3.4839392758367724,
           -2.7876908597725523,
           -1.9337919598377717,
           -1.0189179455763693,
           0.05176123664273968,
           -0.644972051441837,
           -2.893957975583378,
           -2.784814365196111,
           -1.6589266998873735,
           -1.48758620479992,
           0.6011244429456511,
           1.3026282144586063,
           -2.260600741391338,
           -2.7046038097461635,
           1.7827722022758414,
           4.44579793238579,
           6.669695190602921,
           6.8867837775441,
           6.645757127468139,
           6.013118294030694,
           5.345975682425599
          ],
          [
           0.8203940103177133,
           -0.3121019353896728,
           -2.019922096243985,
           -2.848019286631263,
           -3.031272169945869,
           -3.3285551530443303,
           -3.3902590415052796,
           -2.292735784687815,
           -1.7104267943858353,
           -0.8331790743500663,
           -1.265965169451722,
           -3.007557996142668,
           -3.5749946450171226,
           -3.354285583818443,
           -2.5288624917057305,
           -0.21421380240424925,
           1.0792641296918215,
           -1.405294284271001,
           -3.8829945459158965,
           -1.6968969019942621,
           0.4883140633784406,
           3.102379823707801,
           4.620423541600673,
           5.2286902237806645,
           5.391962811388482,
           5.997856141883531
          ],
          [
           1.1440601556491536,
           0.8165406389131482,
           -0.029883664039984992,
           -0.8301555003446294,
           -1.493946255359444,
           -2.4319204889600785,
           -3.259000084508956,
           -2.638253967686305,
           -2.342970846690623,
           -1.5571178686519356,
           -1.3529301853093099,
           -2.6531548814347863,
           -3.643181833685569,
           -3.752993973730396,
           -3.0070975336422445,
           -1.1842246557284417,
           0.17602411385482986,
           -0.5940703708876026,
           -2.8810105637042183,
           -3.3451014205357947,
           -2.5787532733230414,
           -0.48517156913662907,
           1.1131829129597806,
           1.6180632061401394,
           2.12115097764177,
           3.168959287178078
          ],
          [
           0.9126854307116006,
           0.7299460443515383,
           0.8642082712102872,
           0.7723560239589812,
           0.14135893093909963,
           -0.8084322629418809,
           -1.6293914298686927,
           -1.5515216698433307,
           -1.7115155316074762,
           -1.5001416611871874,
           -0.7266327481369227,
           -1.1274715698201372,
           -1.9284643297948958,
           -2.3336622028436973,
           -1.999746066813652,
           -0.7165764763668382,
           0.33295917037680334,
           -0.5615725436293512,
           -2.6103137187570864,
           -4.221072829806475,
           -4.735689206723903,
           -4.26745215164456,
           -3.5077516241840616,
           -3.1128079594765317,
           -2.9319927502826557,
           -2.1747296494431554
          ],
          [
           1.0438213058249088,
           0.7064334401097295,
           0.9286651679310409,
           1.1149172356675656,
           1.0701540178811821,
           0.9085375546248229,
           0.4112739504047118,
           0.42764952652897215,
           0.23653740771756565,
           -0.5051841684665493,
           0.0587498523122954,
           0.6699136959186069,
           0.06446783920903515,
           -0.649471913999414,
           -0.9589622859866856,
           -1.5056312239848308,
           -1.2363379075931884,
           -2.3319023458989014,
           -3.9385206881019394,
           -5.312758514279687,
           -6.059907179001765,
           -6.2675545655535165,
           -6.024928240486122,
           -5.481570769323874,
           -5.08631760771883,
           -4.397175396759229
          ],
          [
           1.158898995263497,
           0.8785932017073513,
           0.9968354904926995,
           0.942462324541879,
           0.9112407759107253,
           1.3516257707593022,
           1.4530121244067147,
           1.5425342860821492,
           1.6775272482987602,
           0.5556308251526187,
           0.227027069768639,
           1.3639223363658668,
           1.8337713920853744,
           0.9710385976473723,
           -0.638518516666983,
           -2.520396379110355,
           -2.6663600557956126,
           -3.631382977426,
           -4.109761065678051,
           -4.50683960195594,
           -5.112763096948548,
           -5.246077981956727,
           -4.580592696338967,
           -3.1265847264080873,
           -2.343787775790623,
           -1.871433667074112
          ],
          [
           1.251518975608491,
           1.0426630606744962,
           1.178890614801671,
           1.1502797842392898,
           0.9869710747389011,
           1.1525022402306384,
           1.5063418651481437,
           2.1386097240216393,
           2.6083199620694875,
           1.5419445164875614,
           0.7648728649748189,
           1.905139831320767,
           3.106804341431167,
           2.244428171935257,
           0.3759150944874314,
           -1.5541206373687904,
           -1.7440382897318298,
           -1.9931538826971922,
           -1.053690768168888,
           -0.7453061768293908,
           -1.8627342380259817,
           -2.399534362954886,
           -1.8161198941321164,
           -0.6021490394103207,
           0.05414157686247267,
           0.4753291559798675
          ],
          [
           1.345627506803485,
           1.271348420450042,
           1.4507927802866305,
           1.431949409361594,
           1.3903869304314553,
           1.4240383554725076,
           1.3232753960892731,
           1.7726112610621203,
           2.546570935768492,
           2.2719358368335323,
           1.5569156752390567,
           2.3803745352479324,
           3.7861303526766643,
           2.7113876782832627,
           0.8631621647295085,
           -0.6829235360549203,
           -1.022614974723615,
           -0.7411682367446574,
           1.2131293609800622,
           1.4600064280478018,
           -0.002279893556989432,
           -0.6274904974939329,
           0.13120444563890998,
           1.1428011538461011,
           1.6659074005659233,
           1.9608498412202882
          ],
          [
           1.3548937580981915,
           1.4357471534268307,
           1.6157673942277895,
           1.5825381383791246,
           1.5724643065989494,
           1.6263491124355736,
           1.3816785486767076,
           1.4008819568527069,
           1.7535326177845723,
           2.0478666869878794,
           2.2625253914968946,
           3.244595701534865,
           4.2419231651326434,
           2.746436332384683,
           0.9397818353849131,
           0.02233350612126117,
           -0.13001697309251492,
           0.7460034161087501,
           3.3028312035169094,
           2.6777807333908927,
           1.07993614610221,
           0.7684389028869351,
           1.3505170170008027,
           1.6592156185052902,
           1.8281051189790904,
           1.9280472994544313
          ],
          [
           1.4004930038800247,
           1.5896055565053024,
           1.7121465108332168,
           1.633086685037823,
           1.6314818167514522,
           1.6393920312995465,
           1.307690377632366,
           1.1563183026603439,
           1.3733631716579948,
           1.796690636478706,
           2.7407336603642536,
           4.232996800686816,
           4.6191045417934955,
           2.814695445305364,
           1.0861318704913931,
           0.22682760347379488,
           0.18338427908446087,
           1.5128731399228936,
           3.735586272410065,
           2.1798817235602703,
           1.0101373678689964,
           0.9491712599611779,
           1.2358959959804965,
           1.2986930689030527,
           1.3013119140088327,
           1.4843221087724787
          ],
          [
           1.661629225953655,
           1.7898199782444273,
           1.7206839977403021,
           1.6152067279774682,
           1.6985710170718749,
           1.6713712254654314,
           1.2799420395800123,
           1.0707403903182886,
           1.407901618646083,
           1.8355091583203702,
           2.7163663203969413,
           4.404768030798157,
           4.516872434925205,
           2.5449342581667747,
           0.99221623401222,
           0.05857435187311255,
           0.2830141421418633,
           1.9212170851576773,
           3.2195088576391027,
           1.6329055565072519,
           1.260642157240636,
           1.4233835890139996,
           1.5021468080368763,
           1.4246508956488657,
           1.2966305646409237,
           1.3752188495622004
          ],
          [
           1.767287539531047,
           1.7439183314186089,
           1.5231356428550586,
           1.4497886565616926,
           1.6322369890494612,
           1.645750452016121,
           1.30817357227126,
           1.1478222622626983,
           1.4251544027594418,
           1.4009692847081405,
           1.8349028494017667,
           3.4033354624844194,
           3.4241297195844678,
           1.5990108273591197,
           0.7403046079633331,
           0.08391717220860606,
           0.6100566167998471,
           2.488819549318884,
           2.679559007544211,
           1.5406940144580812,
           1.680915154253042,
           1.9024432199298493,
           1.7455453511370393,
           1.464866091580475,
           1.2100752472882923,
           1.136360513771433
          ],
          [
           1.8307777769712184,
           1.6697394205335905,
           1.4545235302728932,
           1.4204572384293028,
           1.5546045842198484,
           1.6169027341424735,
           1.48747016903264,
           1.3792311839271068,
           1.3402791628072968,
           0.7312184284142462,
           0.528481055769906,
           1.6005029447189214,
           1.71645259129824,
           0.532488710631926,
           0.87046742818829,
           0.46501969674530835,
           1.139697046744381,
           3.1382445745307326,
           2.2888541778878153,
           1.5745010330438358,
           1.863459948716189,
           2.00406988010519,
           1.629142957779703,
           1.372902274465683,
           1.1222287510974547,
           0.9921794274287017
          ],
          [
           1.9237023014422996,
           1.6587085231663004,
           1.509738986755852,
           1.4857968342718524,
           1.577256542056678,
           1.5914346424779802,
           1.6573619764621408,
           1.5746627358247425,
           1.2764275045763425,
           0.31750559983998683,
           -0.6184126654112571,
           -0.3773545148898454,
           -0.047111882066761535,
           -0.48700193753552756,
           1.1379245219984337,
           1.2030003154774012,
           1.914774157846951,
           3.4253117585270516,
           1.9801361670608992,
           1.6725452909644565,
           1.9312823339890683,
           1.8939334119844888,
           1.4923353417494223,
           1.3800323381243438,
           1.2307016906514572,
           1.1528366995198014
          ],
          [
           1.9912830836737032,
           1.7167159147516236,
           1.628764467721434,
           1.6674367696134156,
           1.7082754619064469,
           1.5982915098872148,
           1.8032856061737412,
           1.8043486398968804,
           1.544934503783562,
           0.3773680741319626,
           -1.1289311382995484,
           -1.566899627500686,
           -1.066244268234862,
           -1.0266311047946144,
           1.4506387068673778,
           1.8531764270638313,
           2.6263762692450876,
           3.2251817006934846,
           1.8054012920847202,
           1.783250753648328,
           1.9589976482027978,
           1.7660889905688473,
           1.4637976641449313,
           1.4438716624637562,
           1.4238241903067648,
           1.3819055080888873
          ]
         ]
        },
        {
         "coloraxis": "coloraxis",
         "hovertemplate": "x: %{x}<br>y: %{y}<br>color: %{z}<extra></extra>",
         "name": "2",
         "type": "heatmap",
         "xaxis": "x3",
         "yaxis": "y3",
         "z": [
          [
           3.5713802351748223,
           2.2770476734009026,
           1.106006113321176,
           -0.5678017732521068,
           -1.639691655915107,
           -1.6798099401899094,
           -0.9922293159085009,
           -0.3523061742751608,
           0.4480852209735149,
           0.44699395259494645,
           -0.0761899413615662,
           -0.4805871974472127,
           -0.7520930515590354,
           -0.6324948801470349,
           -0.8297880185647741,
           -1.2124651530347386,
           -1.3866934570662242,
           -1.4550644307843874,
           -1.540531798260894,
           -1.5824947108322331,
           -1.4275006973817204,
           -0.8824265200135674,
           -0.2164955238890705,
           0.30636287054298916,
           0.49709078109824456,
           0.2300187475466846
          ],
          [
           2.840443337213559,
           1.4292659602387066,
           0.004838639059394523,
           -1.086457717523951,
           -2.064947974997099,
           -2.8784290809180355,
           -2.554852685528054,
           -1.7677255766204483,
           -0.9357961618564911,
           -0.14089121142576422,
           0.47816537917499047,
           0.7962874066182504,
           0.5135907991982314,
           0.362193800720193,
           -0.26928391233238275,
           -0.9732812810449992,
           -1.1254741921398868,
           -1.1414196406136796,
           -1.4120418418969898,
           -1.631484237676561,
           -1.2575511195424605,
           -0.4872073821978972,
           0.16077583797663186,
           0.6761797290168585,
           0.6956940453144136,
           0.020219067231086685
          ],
          [
           1.7405863221923925,
           0.08148758531130063,
           -0.9933750335914757,
           -0.9513637400453285,
           -1.793538067619098,
           -3.342095007561368,
           -3.24367456866045,
           -2.55615146933029,
           -2.4617316000674494,
           -1.4064223476749955,
           0.6505787516499948,
           1.5761112521389113,
           1.63332816269373,
           1.504584392724693,
           0.16086104955814584,
           -0.6850267563742092,
           -0.3690740958509328,
           -0.42057769272946877,
           -0.7058013532678891,
           -0.8351357389935262,
           -0.6371520377780917,
           -0.10453158502825322,
           0.5196839861986577,
           0.7814648383916067,
           0.4171937134829733,
           -0.3107785346969922
          ],
          [
           0.12620089713864457,
           -1.302553993463187,
           -1.4339730736519836,
           -0.5607604549895518,
           -1.0572182084124293,
           -2.7207067865292656,
           -2.8106009558213465,
           -2.582278921526334,
           -3.7135739567566803,
           -3.4138771634704055,
           -0.29630340965543406,
           1.5228680433978952,
           1.901106610064345,
           2.0035532305030355,
           0.1902080533955841,
           -0.4131340780732601,
           0.674533072078523,
           0.7992117217296644,
           0.8175282475781658,
           0.7519928990853921,
           0.2656784619319944,
           0.265054210111357,
           0.7805294218495056,
           0.6771025301077995,
           -0.04520518982797683,
           -0.6215941897582095
          ],
          [
           -1.2721984108596005,
           -1.6142859114760046,
           -1.0320109058453424,
           -0.20607496800919078,
           -0.3199674171402112,
           -1.4333749620382887,
           -1.87608725905954,
           -2.0422952788999913,
           -3.503221894583884,
           -3.9283821676479507,
           -1.3214244175801282,
           0.7084605589850996,
           1.5860414150574031,
           1.5966396559877387,
           -0.6579466666982258,
           -0.59061168472521,
           1.1065945142865405,
           1.6952487143915118,
           2.5231994736788774,
           2.3381549295373745,
           1.160743636404952,
           0.9018797900939552,
           1.0406325373588936,
           0.3979679831383278,
           -0.48777299382790257,
           -0.974516587186024
          ],
          [
           -1.720208595639184,
           -1.037866284358192,
           -0.17125886789525052,
           0.4002600003307746,
           0.4983636033818786,
           0.06430885320245916,
           -0.21739560313814105,
           -0.38112394723651716,
           -1.9683680790746967,
           -3.0013675267659394,
           -1.8785016688561915,
           -0.42741193358340224,
           0.9082747401322808,
           0.7942016070423275,
           -1.5748411808263443,
           -1.1527703714087396,
           0.6784056465644499,
           2.0893663478388627,
           3.6590048172175624,
           3.3727401226362597,
           1.95052648064147,
           1.5502938282059404,
           0.8897746740175778,
           -0.20820720625482947,
           -1.0566993122629218,
           -1.357551801717653
          ],
          [
           -2.6834044629666094,
           -1.536797312888445,
           -0.3082846225123712,
           0.2945835504580365,
           0.7071340383660747,
           1.1388180422459733,
           1.352302957577643,
           1.493252104009666,
           0.26157036442950754,
           -1.3927766880828307,
           -2.231947353614143,
           -1.0637961848749087,
           0.35610626029047443,
           -0.3178215189386402,
           -1.9329790007031675,
           -1.1859904618158963,
           0.40677158530702173,
           2.1666690776561195,
           4.31706465153625,
           4.268420078925611,
           2.823246980532523,
           1.669535750089694,
           0.021170881364195537,
           -1.1075489628682267,
           -1.4727032210350992,
           -1.4391894193199568
          ],
          [
           -3.897978759379674,
           -3.039473856937996,
           -1.8148015749581488,
           -0.8915642691454172,
           -0.01754955429705296,
           0.9353319777641829,
           1.670119666104681,
           2.21063496819927,
           1.5437798709033006,
           0.35307468145713083,
           -1.1834300192970737,
           -0.6289755419969133,
           0.2727967737389817,
           -0.901741594940906,
           -1.9136513555842471,
           -1.3410494146331637,
           0.2984656451186877,
           1.4791111985950691,
           3.5584540435213485,
           4.8830087168356675,
           4.045515530153853,
           2.0216205432651897,
           -0.11059448683928447,
           -1.2672397647205904,
           -1.4824752942468216,
           -1.3970214909621355
          ],
          [
           -4.396868345675276,
           -4.106425457894019,
           -3.368486202657511,
           -2.381604168765486,
           -1.3061229779185228,
           -0.14085697280661008,
           1.1562152230609526,
           2.1953221963464946,
           2.133975013862445,
           1.4512470428702906,
           0.12908226903953157,
           -0.30116482254135113,
           0.3537594244683493,
           -0.2544576194639589,
           -0.9525539124773259,
           -1.0415957994650245,
           0.008846226347135389,
           0.2827441334736964,
           1.8450592379148263,
           3.8914880945196417,
           4.331843741984771,
           2.813889590916042,
           1.1444088339589582,
           0.18904914636494463,
           -0.5347543183575767,
           -0.9270488342928184
          ],
          [
           -3.9445109314576206,
           -4.455001243688588,
           -4.175874566450804,
           -3.4494861997482342,
           -2.584228548630084,
           -1.4888899608273902,
           0.0016152307717446357,
           1.1092140699680673,
           1.462855823536693,
           1.2733300299857442,
           0.5154735395801884,
           -0.3367358635361585,
           0.21642252307204324,
           0.5522698980036631,
           -0.07028770112855176,
           -0.5551271308807094,
           -0.2995921649469907,
           -1.2003110600186395,
           -0.2401719343879175,
           2.0184533984589956,
           3.2201364268021946,
           3.118270358734353,
           2.641667794568443,
           2.1602223520734842,
           1.4801229288689004,
           0.8804540289075091
          ],
          [
           -2.5112941945518665,
           -3.6458619154504914,
           -4.0003903247993495,
           -3.6551267337988484,
           -3.192940926808202,
           -2.7825623453677677,
           -1.8754163831566986,
           -0.9706388421878518,
           -0.4923725636271182,
           -0.017364706584583,
           0.0152465403678812,
           -1.1292338698658178,
           -0.9320650805746479,
           0.4387411228876552,
           -0.030722088976584683,
           -1.1336973057108921,
           -1.1162016898461014,
           -2.144019882446764,
           -2.4985317745868887,
           -0.6670038686000348,
           1.4186176995679662,
           2.921907936365102,
           3.4425305157516313,
           3.47248094229755,
           3.2272504323052855,
           3.0609336797636137
          ],
          [
           -1.1950789156386286,
           -2.1172925438590875,
           -2.832638080849403,
           -3.110547554774257,
           -3.0806594752268577,
           -2.9802981414960588,
           -2.852694046079513,
           -2.400570802050228,
           -1.430655257423311,
           -0.2423981568454055,
           0.11477208088488944,
           -1.2263300328570386,
           -2.2534448186312535,
           -1.3871903403455654,
           -1.630549248584555,
           -2.5626279130617595,
           -2.502555871816461,
           -2.9622911310902698,
           -4.082040752122875,
           -3.0588786822774185,
           -0.9854891842590645,
           1.4490108591894526,
           2.990382289860447,
           3.7420570358898733,
           4.079931816625352,
           4.410024258814034
          ],
          [
           -0.5907818464630289,
           -0.8224677786876875,
           -1.3437288626411739,
           -1.8230734903887096,
           -2.339943715564398,
           -2.6741673544488247,
           -2.726984212641965,
           -2.3521173838886,
           -1.3492718551495733,
           0.1567935012118713,
           0.39567989620783517,
           -1.1524248558862713,
           -3.2201639396000665,
           -3.451475057995765,
           -3.613345510426228,
           -3.5569695237116052,
           -3.2250198326411486,
           -3.5556990473091545,
           -4.975087884995154,
           -4.661676765245181,
           -3.124633338181969,
           -0.7654089076523665,
           1.6311705081485746,
           3.3114461649707243,
           4.098167725942652,
           4.824863241577863
          ],
          [
           -0.6476424651110891,
           -0.23925717915970574,
           -0.3953101718394099,
           -0.4723524438629594,
           -0.6472507774479459,
           -1.494639210353111,
           -2.477557990214967,
           -2.1481323247748527,
           -1.0426699502445604,
           0.38794291938786163,
           0.444610977353884,
           -1.1794837030417646,
           -3.7362861028370373,
           -4.986789576456136,
           -5.01720343703217,
           -3.8265618750530352,
           -2.870175537141418,
           -2.9878696423714253,
           -3.823012093590341,
           -4.11271332611768,
           -3.7674702496458163,
           -2.5239725306767022,
           -0.30227960185604197,
           1.6811322577258554,
           2.748365483657893,
           3.473931679062747
          ],
          [
           -0.9168668065466099,
           -0.4499560776203776,
           -0.27266023340527906,
           0.03722318707992889,
           0.368196607016284,
           -0.13452730922796136,
           -1.4755281243886764,
           -1.6068760926306571,
           -0.4123582265698351,
           0.8623808380108415,
           0.8260359380210447,
           -0.7245411199073262,
           -3.428930748695927,
           -5.4726544947968945,
           -5.3929343598082555,
           -3.389549180471077,
           -1.8233401896586412,
           -1.532092183065643,
           -1.8620343055540873,
           -2.8305401160584163,
           -3.2165998657444685,
           -2.8789432669007358,
           -2.0198194329488595,
           -1.1659659864638472,
           -0.3792501622432398,
           0.41319866574434894
          ],
          [
           -0.9592042629062097,
           -0.7649910537291058,
           -0.6496533336172268,
           -0.34940688751868026,
           0.303805673799159,
           0.34102317045294606,
           -0.6544002086246288,
           -0.862136240080347,
           0.47074608492610737,
           1.3831796357930786,
           1.1820190127148293,
           -0.3044445587994103,
           -3.1610351059853494,
           -5.314639542483103,
           -4.664088432402673,
           -2.546323576866779,
           -1.0967436840247449,
           -0.7967301598376715,
           -1.2303189716055787,
           -2.515424470690603,
           -2.677541230494181,
           -2.016621532024322,
           -1.4978421016658219,
           -1.472622037103522,
           -1.53783590981098,
           -1.3262596000978775
          ],
          [
           -0.778442818264573,
           -0.7992988030401128,
           -0.7928205015650669,
           -0.8235469619816618,
           -0.37917882921463597,
           0.06395076306246505,
           -0.4363449083053104,
           -0.5231846671450567,
           1.05999839328018,
           1.9366683814668118,
           1.0842944608872611,
           -0.7513024132137451,
           -3.1901027179003663,
           -4.672421776827385,
           -3.084780296562295,
           -0.9391402395734767,
           0.33120580261016896,
           0.6793771318600104,
           -0.25852329408861424,
           -1.6084300223886394,
           -1.588138453679425,
           -0.9739397300983181,
           -0.7143436634728637,
           -0.6791783074120339,
           -0.7750355357727203,
           -1.0684510564514678
          ],
          [
           -0.5366890607298527,
           -0.6383301191957123,
           -0.6990648128420568,
           -0.8584988526421848,
           -0.962864125010116,
           -0.8209327936029173,
           -0.9166279665889527,
           -0.6640677962354373,
           1.0141986355322852,
           2.24854849037548,
           1.2169636031699647,
           -1.0471433400355847,
           -3.0110465794240824,
           -3.644062717463136,
           -1.292180827593128,
           0.8282565845964935,
           1.8086389800560714,
           1.7716032176273118,
           0.38543670887499415,
           -0.6826762161151436,
           -0.6453611920893048,
           -0.5180537029937987,
           -0.7833225697650563,
           -0.9838229194849485,
           -0.9543008473340828,
           -1.080557390662883
          ],
          [
           -0.3925907000734634,
           -0.5283176480995839,
           -0.6022708784497283,
           -0.7884268972714272,
           -1.121552004016962,
           -1.2898261798360975,
           -1.3895763598332167,
           -1.003287597881755,
           0.45087616039523937,
           1.609605038714075,
           0.8283124466782166,
           -1.064787221804656,
           -2.52486501022146,
           -2.347404761554115,
           0.47856946736142647,
           2.0904787479523748,
           2.596661625870232,
           1.748966573368046,
           -0.16000421742592563,
           -0.9309847381784675,
           -0.9060731726963233,
           -1.2254062331272118,
           -1.6321347968260573,
           -1.715377109466494,
           -1.598585959421996,
           -1.4184677330297704
          ],
          [
           -0.3822884976954194,
           -0.5976312839039143,
           -0.7019987234603762,
           -0.8537022279393717,
           -1.0745492190730992,
           -1.2135415309008168,
           -1.4473801847319445,
           -1.1582447723703244,
           -0.15699330180833448,
           0.2606248029891405,
           -0.6071213944599891,
           -1.5075794296437062,
           -1.9947967397971103,
           -1.2798632763448157,
           1.5055828480069253,
           2.398759548592424,
           2.4087629008288696,
           0.9700511426199518,
           -0.650598608670007,
           -0.9733946501450903,
           -1.0091467870893052,
           -1.5462863026979328,
           -1.828980394771497,
           -1.7023765631558838,
           -1.5739010655590513,
           -1.3434036623192411
          ],
          [
           -0.4542398916582694,
           -0.7050630247512617,
           -0.8005420633431155,
           -0.8428290435459048,
           -0.9484295030950121,
           -1.074177377186648,
           -1.3942805491923704,
           -1.3499390586013862,
           -0.9945453740949196,
           -1.1502715499732652,
           -1.904585139430353,
           -1.9137803020780058,
           -1.2741658983183457,
           0.061635941724978216,
           2.2551540836274855,
           2.3315370834441937,
           1.8756214860217726,
           0.14052049965553626,
           -0.7078078766637655,
           -0.5296717310668337,
           -0.604049296271466,
           -1.1402081679210452,
           -1.419173821000213,
           -1.3914610164928316,
           -1.411449030194671,
           -1.3393186372347388
          ],
          [
           -0.5422910789932531,
           -0.7451986309907598,
           -0.8050792192810589,
           -0.8526590672358554,
           -0.9555760269346254,
           -0.9844042163808953,
           -1.318307393083828,
           -1.6741454039118249,
           -1.9029270320527798,
           -2.302730507498418,
           -2.748347927321203,
           -2.162861545647048,
           -0.58285202876858,
           1.4603079199791849,
           2.9753449678601545,
           2.4232691373810145,
           1.5697642822018614,
           -0.1981405646265852,
           -0.6493260649030779,
           -0.503225873005649,
           -0.704741510140988,
           -1.1368152322217377,
           -1.323742973754105,
           -1.3324661914096834,
           -1.4214191988287643,
           -1.468762346319608
          ],
          [
           -0.5198511092360232,
           -0.7402479910407148,
           -0.859984715750487,
           -0.960322017741449,
           -1.045287084729654,
           -0.9498057037859421,
           -1.2701808228418858,
           -1.8420820888582135,
           -2.3909300612708697,
           -3.059286759130898,
           -3.4413686134700816,
           -2.3576062234871165,
           -0.14888070949666976,
           2.1656565171662345,
           3.168216294492346,
           2.4073218040114117,
           1.1965835009409747,
           -0.36083802003348964,
           -0.6697528162787627,
           -0.7566130673896385,
           -0.998332778521748,
           -1.1946212378162688,
           -1.194623036224459,
           -1.177474054847127,
           -1.381787902045486,
           -1.599205619196689
          ],
          [
           -0.5596507711862629,
           -0.7830875679274852,
           -0.8742443129596371,
           -1.0044439870416066,
           -1.0648873836075416,
           -0.9240332344699189,
           -1.2203321106488803,
           -1.8087902380583898,
           -2.306406853468981,
           -3.2759099875672595,
           -3.765327728571984,
           -2.338576255157694,
           -0.027447188704924574,
           1.9884506684634695,
           2.8678110910303483,
           2.2189021205735173,
           0.6293908392209171,
           -0.42310027742399375,
           -0.6225454588334244,
           -0.8544138172423112,
           -1.1040018833245058,
           -1.0989446312229072,
           -0.9894818382714485,
           -1.0151066251686998,
           -1.310591781444601,
           -1.6212427413160313
          ],
          [
           -0.6367924707885364,
           -0.8071264101160768,
           -0.8857324596040405,
           -1.0356403591732062,
           -1.0781666050466154,
           -0.9786901325907007,
           -1.1617796179785151,
           -1.5359108007532454,
           -1.7150185453707596,
           -2.740135363009249,
           -3.2222538428089793,
           -2.0001663833295567,
           -0.3101111377397855,
           1.0627441690059873,
           1.9851518455487807,
           1.5083158269377368,
           0.07063271269548954,
           -0.3105905018132265,
           -0.5344577157974945,
           -0.8564236938279419,
           -1.0609435594700616,
           -0.9478219890736322,
           -0.8369404207160106,
           -0.9123105865909549,
           -1.286467196539261,
           -1.6141699416825357
          ],
          [
           -0.7262573644696823,
           -0.7941699039578864,
           -0.9621122075304017,
           -1.1274547515809834,
           -1.1252474461158335,
           -1.1154327559841086,
           -1.0923275101805727,
           -1.0413479877299148,
           -0.8357712383238837,
           -1.654567576620907,
           -2.1185091491941384,
           -1.8336582338861405,
           -0.8093902941038541,
           0.07983658388832005,
           0.763359612824638,
           0.5690164569417544,
           -0.14403374005539316,
           -0.22471803508458255,
           -0.4835409598696312,
           -0.7998293576089989,
           -0.9296037022923533,
           -0.7977564254147153,
           -0.7600773525103566,
           -0.8770242094346419,
           -1.247967208599321,
           -1.5799609223258444
          ]
         ]
        },
        {
         "coloraxis": "coloraxis",
         "hovertemplate": "x: %{x}<br>y: %{y}<br>color: %{z}<extra></extra>",
         "name": "3",
         "type": "heatmap",
         "xaxis": "x4",
         "yaxis": "y4",
         "z": [
          [
           -0.21381956759641563,
           0.0004398614731184747,
           0.12036052208149473,
           -0.40055664363694476,
           -0.8831901845185983,
           -1.5440018435224305,
           -1.656110907192523,
           -1.2796978093851235,
           -1.2648849593160212,
           -1.811730068152926,
           -2.292643796884768,
           -2.3307376010489875,
           -2.4181559496974554,
           -2.528861266178211,
           -2.471315046723211,
           -2.276993579517489,
           -2.053233980148813,
           -1.9381316564544369,
           -2.0917989375002675,
           -2.218627421177438,
           -2.079142415552991,
           -1.8022756991520952,
           -1.5964081896543647,
           -1.6886023031998227,
           -1.7323221297224591,
           -1.4676142690978964
          ],
          [
           -0.2646701237060449,
           -0.16170147054653072,
           -0.21479372302306876,
           -0.5990415063489452,
           -1.1277508908528615,
           -1.6749733942983382,
           -1.9652023270991879,
           -2.2241248755012055,
           -2.2207924398917194,
           -2.362956759830265,
           -2.6260023822135365,
           -2.7379500575576534,
           -2.8711604290487154,
           -2.93024839542635,
           -2.5316822684949036,
           -2.0938919340907542,
           -1.9903836678025537,
           -2.275217773271987,
           -2.444476598372084,
           -2.2103585651759996,
           -1.8243287315571226,
           -1.7129725538544416,
           -1.8435362278250274,
           -1.8740389719901245,
           -1.6834279822022482,
           -1.4398694633890656
          ],
          [
           -0.4670613449970211,
           -0.6480709022997724,
           -0.9185481152229852,
           -1.12614306101205,
           -1.3791148092827779,
           -1.4813446660578498,
           -1.749093348687637,
           -2.6613253205527423,
           -2.7185699527843923,
           -2.481300010966173,
           -2.569951427281268,
           -2.910888027561205,
           -3.546068060485337,
           -3.881643615852341,
           -3.256969093889018,
           -2.4414729289133335,
           -2.403071874556649,
           -2.829064994456745,
           -2.7617127109003725,
           -2.157933682997666,
           -1.7909290256986143,
           -1.9700323908771544,
           -2.1207227238851987,
           -1.8742422478466,
           -1.6266418584013107,
           -1.54997510154363
          ],
          [
           -0.8218394441625082,
           -1.0966790567025608,
           -1.3447949960776213,
           -1.5842971284764635,
           -1.70630717518759,
           -1.455842643292077,
           -1.5225693705457206,
           -2.7553687365883697,
           -2.595066204598803,
           -1.9019690321850704,
           -2.241552688192944,
           -2.686917152024447,
           -3.623008400532693,
           -4.2425443130385405,
           -3.9977993608577913,
           -3.2602147484555655,
           -3.152633241287119,
           -3.36101489984162,
           -3.1850167685158257,
           -2.56084951453928,
           -2.2305413199060267,
           -2.2198793484432997,
           -2.0623567850822804,
           -1.770819704523184,
           -1.6704486069682214,
           -1.6914421318749642
          ],
          [
           -1.8269431922283457,
           -2.123442034387198,
           -2.5819149553369534,
           -2.957360701919538,
           -2.9816618672494366,
           -2.496498553688122,
           -2.054986818111915,
           -2.7640963664838347,
           -2.4378173236861627,
           -1.591665488400394,
           -2.007221529975546,
           -2.072819605906135,
           -2.674683619720809,
           -3.1148372496679135,
           -3.4302525170621014,
           -3.36579514601872,
           -3.2403654368135415,
           -3.0189180994488565,
           -2.9398534571145056,
           -2.701593471637201,
           -2.4718834549732094,
           -2.18510081472453,
           -1.8974433509520159,
           -1.787307530180506,
           -1.7789929089731042,
           -1.8606490716274982
          ],
          [
           -2.6603758424826727,
           -3.3416116966858245,
           -3.993494814078958,
           -4.293983666795081,
           -4.173532675616445,
           -3.536028731301742,
           -2.891968698297979,
           -2.9300269403463632,
           -2.3799108609814463,
           -1.7460148142611838,
           -2.1821710406007866,
           -1.7726076175737955,
           -1.7048954951789916,
           -1.810304637540652,
           -2.332090005144694,
           -2.7868124423044867,
           -2.504651422277247,
           -1.8176899551576757,
           -1.8348827332066582,
           -2.2272701664980623,
           -2.3637612791955256,
           -2.0837520680636117,
           -1.8511470794428373,
           -1.7491120348620064,
           -1.754433601722886,
           -1.8698332283264805
          ],
          [
           -2.3586277947996344,
           -3.036638398653113,
           -3.603741741615726,
           -3.9002151448475955,
           -3.76481524312824,
           -3.31001525427265,
           -3.103214299804504,
           -2.8859640411214786,
           -2.455125278662921,
           -2.1405303925913803,
           -2.6888071763627197,
           -2.098002333926095,
           -1.4709327438688375,
           -1.2606533702490228,
           -1.573145627392167,
           -2.4779057634972794,
           -1.9621843278881572,
           -0.9797148047382735,
           -0.93307692544009,
           -1.7748612517187639,
           -2.086715280541454,
           -1.863974725007262,
           -1.6038354013052274,
           -1.5170147374020502,
           -1.701222182754563,
           -1.9791172182343437
          ],
          [
           -1.8022434973855557,
           -2.1509453683433346,
           -2.4482020064100314,
           -2.762318089640935,
           -2.810023628167955,
           -2.8739024830867814,
           -3.1504057174292512,
           -2.8063368643118225,
           -2.3971005122124986,
           -2.1744055236733297,
           -2.393055219526345,
           -1.8854566638265635,
           -1.2116705915801689,
           -0.8449949210041202,
           -0.7468463730657476,
           -2.5226773723539506,
           -2.7403127465039203,
           -1.809854040962796,
           -1.2073636064452558,
           -1.737738185020866,
           -2.1375754367328432,
           -2.1001564371454755,
           -1.6601689634513215,
           -1.593193291327421,
           -1.9038377903556438,
           -2.1061409273984055
          ],
          [
           -1.0878244698299784,
           -1.355263575018903,
           -1.3274863292545158,
           -1.4864350576292356,
           -1.7900813786260816,
           -2.348007646040551,
           -2.8413058688025052,
           -2.525842777255792,
           -2.1242308443438476,
           -2.2798402238891518,
           -2.3335708136767486,
           -2.087194898349906,
           -1.4896108592920596,
           -1.0420912758730163,
           -0.5937573561967628,
           -2.20966113550519,
           -3.3243310031626625,
           -3.3217025013004955,
           -2.288489740244522,
           -2.306989920918197,
           -2.9483666930351613,
           -3.015869091317536,
           -2.6023017140875107,
           -2.398567223389759,
           -2.3911648181177014,
           -2.2946870829300545
          ],
          [
           -0.5671141111223637,
           -0.7359242302358255,
           -0.43509142193099737,
           -0.26904669102610845,
           -0.42677455778741913,
           -1.108381284929732,
           -1.7347311473565303,
           -1.6925369405185624,
           -1.6341808493875571,
           -2.010930890711728,
           -2.1925489476401134,
           -2.1994449655978086,
           -1.7875912342441198,
           -1.4893041479194042,
           -1.0342622712445007,
           -1.7005996183723797,
           -2.924565261323128,
           -3.606634101270047,
           -2.936362035794203,
           -2.768172769936746,
           -3.672428723930347,
           -4.190130002335023,
           -4.20942970936879,
           -3.828722600852366,
           -3.382732932219553,
           -2.994977584745815
          ],
          [
           -0.5320348743820338,
           -0.4333846743532339,
           -0.11777728820215483,
           0.15901645619595595,
           0.2777537621638684,
           0.010879741304371748,
           -0.33180939683062594,
           -0.26447618046113175,
           -0.25091938490975707,
           -0.4764047948445116,
           -0.9867559484912832,
           -1.3440563955339804,
           -1.4638073938657326,
           -1.6518096347766729,
           -1.4104816919863792,
           -1.4746182789431859,
           -2.5692254515390154,
           -3.327150015546054,
           -3.1420632404470137,
           -2.8853061332191405,
           -3.529023763876036,
           -4.207936742867848,
           -5.005808492638142,
           -5.03663774599259,
           -4.599161208296002,
           -4.009415780856374
          ],
          [
           -1.109946679573584,
           -0.7749856900703863,
           -0.45718949997075997,
           -0.1307169954090568,
           0.07803428083564379,
           0.17890411369770298,
           0.36579541193175324,
           0.7657474885784936,
           0.9734997728356805,
           1.0456302504153598,
           0.1199396134760713,
           -0.555881231407751,
           -0.775547234874269,
           -0.9493065027222451,
           -0.9842438089821853,
           -0.7050031109833146,
           -1.6014991936561807,
           -2.416111280154805,
           -2.911228144507572,
           -2.845770233247207,
           -3.198342623003536,
           -3.576366235411223,
           -4.317925242454053,
           -4.829402219735419,
           -5.0227532291219665,
           -4.698114997286373
          ],
          [
           -1.9026614861460236,
           -1.50011306549698,
           -1.104399489818575,
           -0.5819056126028446,
           -0.07793502794757212,
           0.28856744927063827,
           0.492377268242042,
           0.9499010137818755,
           1.25541858047658,
           1.6013938485097603,
           0.8885073259181782,
           0.31037237266703355,
           -0.09699789079230503,
           -0.14103967455991184,
           -0.32609402882941496,
           0.10604689724473682,
           -0.42249998980472214,
           -1.3012895649437337,
           -1.9258129131999864,
           -1.9965453205451535,
           -2.219497585442335,
           -2.5623189520945977,
           -3.079572222329315,
           -3.370790139409663,
           -3.5053958637877467,
           -3.357045598280952
          ],
          [
           -2.299759493287061,
           -2.1184158581673986,
           -1.7548306386398294,
           -1.1640265184013705,
           -0.6194513350012858,
           -0.1802458018862998,
           -0.006840983610032714,
           0.32195357625443166,
           0.6012735045464124,
           1.3710614920599051,
           1.2574165602702545,
           0.8024759449746239,
           -0.028013767775257437,
           -0.36321370831102606,
           -0.4194337514145767,
           -0.018938794280810134,
           -0.11070131647976567,
           -0.5114238673976375,
           -0.4409762482412536,
           -0.009650952875143837,
           0.2744971272540955,
           0.3111456025513937,
           -0.13327839897074267,
           -0.7643542402281549,
           -0.9179037263729313,
           -0.8193957406095144
          ],
          [
           -2.2984342535025015,
           -2.3126884101282124,
           -2.1735001254961186,
           -1.8201408142317614,
           -1.521346748426414,
           -1.185944773912586,
           -0.6580153377814637,
           -0.1762826259686605,
           -0.0673715899689602,
           0.5248774700362426,
           0.7799543073517479,
           0.7166942654373625,
           0.10307153358854415,
           -0.03323624383097634,
           0.35472136071788385,
           0.7473736953785826,
           0.7169597776240824,
           0.48986825289334246,
           0.7474854920059755,
           1.3405600468891172,
           1.9029983249839282,
           2.2836629282946976,
           2.3336082722396876,
           1.7562093950294877,
           1.0937157385222844,
           0.607581771505558
          ],
          [
           -2.1436298507505605,
           -2.075876379541608,
           -2.04727671322778,
           -2.0692038431899538,
           -2.038263873939013,
           -1.9146206085724544,
           -1.2333003640833127,
           -0.43734165026876437,
           -0.48046193802691683,
           -0.5477303191919933,
           -0.2705754192993457,
           0.04881671717005753,
           -0.17268991485345841,
           -0.0344285799800812,
           0.4464596729718926,
           0.594517111232965,
           0.6040486836368502,
           0.8214750505700306,
           1.1129845318310194,
           1.2731363531935258,
           1.4657501098860262,
           1.7957558360385792,
           2.142433353301101,
           2.2565905455998854,
           2.0708060108234863,
           1.5271279257681967
          ],
          [
           -2.076316717351687,
           -1.9115997573006824,
           -1.8788190855132583,
           -2.075696165913228,
           -2.239722398784076,
           -2.397674859092371,
           -2.033814662195987,
           -1.2308301663486363,
           -1.1923883462503908,
           -1.34571290397667,
           -1.130513684626444,
           -0.8882368958180057,
           -0.6624152222212689,
           -0.4396264891422932,
           -0.5010250099515396,
           -0.6966916940132717,
           -0.4911871746382106,
           0.0475634044591291,
           0.455796388501317,
           0.6562646781788002,
           0.6553475004839744,
           0.8268004968045479,
           1.1224089286274122,
           1.3981208957753244,
           1.5251835152879287,
           1.2768505715621872
          ],
          [
           -2.093793413414907,
           -1.9710141211973664,
           -1.9529680154837337,
           -2.0841422023054044,
           -2.19806172839111,
           -2.4212316221149774,
           -2.454846148447722,
           -1.8809784399704716,
           -1.944530298832154,
           -2.0800780505119763,
           -1.6508516446329717,
           -1.4101226948078214,
           -1.0709310491833792,
           -0.9967625131547186,
           -1.348259760565974,
           -1.594573719054024,
           -1.0679452160275966,
           -0.33856544464432514,
           -0.11803791489257565,
           -0.21714630640899335,
           -0.4853498099045339,
           -0.4571239580497939,
           -0.18622538715913306,
           -0.10365397691627787,
           -0.19280347509835583,
           -0.4188400762603408
          ],
          [
           -2.113526036524713,
           -2.067144288638564,
           -2.035728214493157,
           -2.1092863846655696,
           -2.1615307747379986,
           -2.1822331059625526,
           -2.2937337590988,
           -2.098964798066253,
           -2.4528825454379763,
           -2.634910972042679,
           -2.263775617529566,
           -1.979453949524029,
           -1.5770941972223844,
           -1.854193851744056,
           -2.3999393056517797,
           -2.6618263230273076,
           -1.9466475349397356,
           -1.2363879915953402,
           -1.095129205527174,
           -1.510359766577807,
           -1.7668148521647713,
           -1.601971576392466,
           -1.2174686396040664,
           -1.0373122146239386,
           -1.1449552794325388,
           -1.2655735330854334
          ],
          [
           -2.1184611832398987,
           -2.09081665989518,
           -2.0751097780883176,
           -2.076572609428671,
           -2.1057114789219926,
           -2.1371699925301972,
           -2.3208124249114563,
           -2.3005521133351574,
           -2.9066867244889876,
           -2.8839624037009557,
           -2.5211927721177667,
           -2.3743399626054247,
           -2.0790143468265505,
           -2.7520024918107557,
           -3.280552968632529,
           -3.3558346009961264,
           -2.3591717989128185,
           -1.687806228978176,
           -1.3836396186250717,
           -1.7743522829100693,
           -1.9226559092502848,
           -1.7150175595244945,
           -1.5240639000685905,
           -1.627468521694201,
           -1.8274132228680946,
           -1.8924228001313874
          ],
          [
           -2.056625867593764,
           -2.0433172600489806,
           -2.061510980990433,
           -2.033206778312256,
           -2.017874812069139,
           -2.1056986130266435,
           -2.4270550166808276,
           -2.4602829957973618,
           -3.1745175186609753,
           -3.0257610085502264,
           -2.6053119727481713,
           -2.4345178894183954,
           -2.317492848384325,
           -3.121527399467425,
           -3.328548836404152,
           -3.04373419913932,
           -2.0889007143386835,
           -1.7857693859232373,
           -1.9099302415200854,
           -2.490579868725426,
           -2.5481846080171917,
           -2.3195001999359386,
           -2.143575029599588,
           -2.260104034442293,
           -2.359599608402834,
           -2.2437991547885954
          ],
          [
           -1.8791421392336947,
           -1.926281626121857,
           -1.9911360278266843,
           -1.9606917281023424,
           -1.974579228364312,
           -2.036680452094197,
           -2.357516251912965,
           -2.4227764127222233,
           -3.0679617659942027,
           -2.8421821888048244,
           -2.562426351709543,
           -2.3429623512257347,
           -2.3041043049190577,
           -3.0450947700533666,
           -3.1647159687906496,
           -2.6399964186230083,
           -1.9088066905642036,
           -1.8575958166844648,
           -2.1698065981479804,
           -2.6381889256946494,
           -2.5312690638682254,
           -2.3067777340584574,
           -2.194861735133471,
           -2.277420503747419,
           -2.294334926866433,
           -2.179271853881397
          ],
          [
           -1.8007926984319216,
           -1.893595559189171,
           -1.9541030814354703,
           -1.9565498467331082,
           -1.998325350582813,
           -2.0149408143113745,
           -2.245367558765322,
           -2.204927812543799,
           -2.6775160449873976,
           -2.4762813782464574,
           -2.4151166850637193,
           -2.133616007244697,
           -2.1906604626190065,
           -2.7179810913610263,
           -2.779436364159616,
           -2.1690534029270636,
           -1.7355154277198181,
           -1.7951260012024528,
           -2.154660298004579,
           -2.347543054109826,
           -2.2311572066142094,
           -2.150725978267695,
           -2.1741690209386317,
           -2.2366924385864664,
           -2.1974845696304897,
           -2.120551717390651
          ],
          [
           -1.785746454082232,
           -1.9252105398509682,
           -1.9882563186946576,
           -1.995179754168533,
           -2.0438890361125504,
           -2.0822935275983925,
           -2.1043226305376193,
           -1.8900659063486875,
           -2.1123352247096125,
           -2.0270564234028,
           -1.9945078363081494,
           -1.7439714004593205,
           -1.9551344749393391,
           -2.2543134714524804,
           -2.173042002933084,
           -1.6659117175481912,
           -1.6030723788617383,
           -1.7075461888550765,
           -2.1476747878032576,
           -2.1744241878491226,
           -2.0710424613311016,
           -2.1102151173988566,
           -2.1984421105786254,
           -2.2004920192651793,
           -2.1373142215454264,
           -2.0802897820918234
          ],
          [
           -1.849843564375362,
           -1.9809028303688239,
           -2.0363969127660324,
           -2.081979754761002,
           -2.19681703967711,
           -2.298400907191205,
           -2.1221847579762687,
           -1.7581697734885064,
           -1.6675204073306824,
           -1.6085843704762046,
           -1.5083350966195568,
           -1.4775257599069698,
           -1.7257283903250158,
           -1.7426461196103349,
           -1.4834867796873445,
           -1.331566867971802,
           -1.541069831961994,
           -1.7244772571595985,
           -2.114065030946575,
           -2.0724875387326227,
           -2.0349448413195868,
           -2.1171915942685713,
           -2.199940096022684,
           -2.1439626819364084,
           -2.0535837586877252,
           -2.026766470834976
          ],
          [
           -1.9581646336361487,
           -2.0384185591247466,
           -2.0729917108038576,
           -2.131573414454265,
           -2.29009626515492,
           -2.3904819057820923,
           -2.1210319950039827,
           -1.8070294433720793,
           -1.5394014315573474,
           -1.6079253817758317,
           -1.4686822679532385,
           -1.5718988880833593,
           -1.5914365573395657,
           -1.2746282538493898,
           -0.9095692102527181,
           -1.1542888908358164,
           -1.4448445097851716,
           -1.7572603955708874,
           -2.0682675609228633,
           -2.0680350014167623,
           -2.1348863454167852,
           -2.1984479701753252,
           -2.1977504380657904,
           -2.116888661338398,
           -2.058895844791997,
           -2.10707601893857
          ]
         ]
        },
        {
         "coloraxis": "coloraxis",
         "hovertemplate": "x: %{x}<br>y: %{y}<br>color: %{z}<extra></extra>",
         "name": "4",
         "type": "heatmap",
         "xaxis": "x5",
         "yaxis": "y5",
         "z": [
          [
           -1.6857516054730413,
           -1.0027579390108592,
           -0.960338038834247,
           -1.044213091780903,
           -0.7144692423956938,
           -0.3153463934913478,
           -0.11903631473379966,
           -0.6431236085789784,
           -0.6506266582527225,
           -0.2947682541894728,
           -0.8285350649444579,
           -0.7167474654329066,
           0.06382749074241234,
           0.1673888729411124,
           0.2152141348182808,
           0.41643427365420416,
           0.40176115191825734,
           0.14984227763825966,
           -0.0180855441476504,
           0.06656048174396954,
           0.4230027970919842,
           0.7286938266890677,
           0.5685342911059255,
           0.16451276111304833,
           -0.01705755635837289,
           -0.3892619135396511
          ],
          [
           -1.8020908807986844,
           -1.1714623549605752,
           -1.037144847820763,
           -1.5907695828676625,
           -0.9347130727050442,
           -0.14368283731375137,
           -0.1256636955135214,
           -0.2659563711332595,
           -0.1427364291430825,
           0.8567948943125873,
           0.9111862415368578,
           0.2999130498473382,
           0.36281071735189097,
           -0.2156577623812329,
           -0.2625106285100082,
           0.3184017299950169,
           0.356570023958386,
           -0.07563924503360286,
           0.10269281219004955,
           0.6523888175769099,
           0.911517344702739,
           0.5613387327689981,
           0.14478988796106906,
           -0.27636883111128535,
           -0.5623981264021197,
           -0.6098612277470212
          ],
          [
           -1.8591550769298246,
           -1.259252702657271,
           -1.2769010055741092,
           -1.8444594216345784,
           -0.8115947696307025,
           0.10927733967068012,
           -0.24558578392401115,
           0.11349431765210256,
           0.7267385809231398,
           1.7941260245100938,
           1.9057853828803113,
           0.8270686400874901,
           0.6618651991697538,
           -0.0922688326394408,
           -0.16536833312744748,
           0.4268929356077338,
           0.3286368843924413,
           0.129896210845288,
           0.31534558618152553,
           0.4477515867058541,
           0.27091326354268996,
           -0.13391719034368088,
           -0.32056521661959353,
           -0.6513242592177656,
           -0.8080945130509347,
           -0.6225531177749417
          ],
          [
           -1.7700804384404751,
           -1.33134979170508,
           -1.3347991302968305,
           -1.3666936922872006,
           -0.4751945153908541,
           0.26623966843665514,
           0.09064137729959133,
           0.2959407784139638,
           1.013239291907001,
           1.7757870369370874,
           1.5746906552318163,
           0.7562377719350086,
           1.1071143773516643,
           0.6501626004881826,
           0.9053785923775853,
           1.1927149284948682,
           0.46366904645767637,
           0.6944223138797054,
           0.5508610508266832,
           -0.4365754880970757,
           -0.8643421872382105,
           -0.6855130807415392,
           -0.7679689091982669,
           -0.9154606038693157,
           -0.890141864022071,
           -0.7997866298402257
          ],
          [
           -1.3213310597982564,
           -1.096374704765212,
           -0.9043453825323918,
           -0.6920646254287538,
           -0.3282395796161043,
           0.43761695986484767,
           0.7138038122928464,
           0.11239654152739795,
           0.9243548020856149,
           1.4157136830609236,
           0.7874291492193741,
           0.8795676037744271,
           1.6861219204607485,
           1.1093520025049939,
           1.7163033177547633,
           1.8631843073380505,
           0.5260843682001577,
           1.08050456241244,
           0.6802181787680814,
           -0.8258137887245897,
           -1.1273973775287875,
           -0.7928771157850807,
           -0.8546380039044593,
           -0.8304125013947045,
           -0.8158881393469485,
           -0.9842478278742645
          ],
          [
           0.04382242445051959,
           0.4118313593019351,
           0.4700095309958692,
           0.5253596746658231,
           0.7241972146465344,
           1.3527799214639091,
           1.5222873470001574,
           -0.07455277070670391,
           0.6971391569852436,
           1.1833345427784803,
           0.04803243823534675,
           0.9367767222036576,
           1.8026185828636883,
           1.0522063807034363,
           1.8119352886144675,
           1.839784638721139,
           0.3596319177489693,
           1.1383285628014208,
           0.8020517576285475,
           -0.576683664675472,
           -0.7475650249802279,
           -0.6019909308393222,
           -0.5686063948448912,
           -0.7102581935370342,
           -0.9681521391400524,
           -1.1369128942858482
          ],
          [
           0.44540412862723083,
           1.307497689893311,
           1.4165408081401432,
           1.4070256553016032,
           1.3644061540476047,
           1.482670242719308,
           1.5168197974610935,
           -0.07551768886959254,
           0.8439122304711271,
           1.6154791286616024,
           0.4610886030034314,
           1.6027839903597063,
           1.724408963967965,
           0.7910501050378618,
           1.5451938627461996,
           1.7466104727821588,
           0.25322778251021405,
           1.2395035449987457,
           1.4057013123641058,
           -0.12392130263902634,
           -0.7611721184214152,
           -0.823278243459597,
           -0.5519903594625316,
           -0.9635816479236917,
           -1.2417630956439587,
           -1.0370156168582536
          ],
          [
           0.2864533079024456,
           1.192977394825177,
           1.7247394503204103,
           1.931003412504762,
           1.5623441373747369,
           1.242780370439974,
           1.1713658061320777,
           0.30952803324813066,
           1.6528951843413977,
           2.2178456515900278,
           0.7887757096112824,
           1.4131464409465657,
           0.7610005074544595,
           0.0810448842967246,
           1.1774099165587275,
           2.0127299114234964,
           0.4978094509384943,
           1.1590424547306428,
           1.7344815983796167,
           0.20428048434995463,
           -0.6138237727739941,
           -1.1648184115886706,
           -1.4121689452985415,
           -1.538353282808333,
           -1.1289562837679021,
           -0.7363106248743576
          ],
          [
           0.6249951983599674,
           1.187981567850171,
           1.5930341538314838,
           2.0206210714831543,
           2.0473123741169954,
           2.0946372583595982,
           1.9260828391412006,
           1.4391603104512196,
           2.39430222909553,
           1.959679293224148,
           0.33673392670863805,
           1.158827967590626,
           0.47392924486733595,
           -0.09154570575382842,
           1.206914225906281,
           1.6155020114805452,
           0.674448176543426,
           1.1787409640647777,
           1.2806284548227271,
           -0.005622726229041725,
           -0.09851447713300299,
           -0.7096509563545117,
           -1.8466337462159021,
           -2.028868699946838,
           -1.361631216501805,
           -0.9784259893713533
          ],
          [
           0.41607256798478476,
           0.8215930880655644,
           1.0628661268884898,
           1.2691187669014123,
           1.7588674984284234,
           2.4792725527056154,
           2.4348897567999734,
           2.067351048112956,
           2.4069486989641096,
           1.5672273442331868,
           0.5663597669022129,
           1.936097705751695,
           1.1522340236871584,
           0.1942254642304669,
           1.710265874825029,
           1.1129481417348819,
           0.35801242397487865,
           0.9579314278804721,
           0.6307532892142701,
           -0.3792734547307922,
           0.007889982264865647,
           -0.06654476117927993,
           -0.6926850890409687,
           -1.0296346595714692,
           -1.1089056574084535,
           -1.277742831794256
          ],
          [
           -0.5120892147736874,
           -0.43127957466075506,
           -0.15277490842685465,
           -0.087139549448907,
           0.2997915350005397,
           0.8220674404175438,
           0.9912536389884824,
           1.0280768666020652,
           1.3090125393137573,
           0.6826919137098232,
           0.4346669983186014,
           1.8724505275717007,
           1.2367853878261243,
           0.45024948797360187,
           2.2220205566092925,
           1.269645969994158,
           0.5327656851000224,
           0.9875262864819584,
           0.6918156982544368,
           0.14176302847208416,
           0.5176138418405922,
           0.5752996030437506,
           0.4482855701169349,
           0.17998839461647342,
           -0.12220424441965988,
           -0.43302934239638147
          ],
          [
           -0.9092654567481143,
           -1.114744765566266,
           -0.9333266797885119,
           -0.8112173704503801,
           -0.3921024405350666,
           -0.3575822344454992,
           -0.25232146724292936,
           0.2388038848593541,
           0.655548942115421,
           0.42395765091945226,
           0.4659667021094339,
           1.2328403086486026,
           0.7743139993791036,
           0.30327559975588014,
           2.0413040957337723,
           1.539418260213421,
           0.8088212452105479,
           1.2987565089739124,
           1.2484326809807778,
           0.8231111785526642,
           1.1848590022552696,
           1.4861665145032066,
           1.3986972308780978,
           0.9328916768198702,
           0.5718205629454783,
           0.4149693107819825
          ],
          [
           -0.8098551425024543,
           -0.8136066703810464,
           -0.5852007143192567,
           -0.8201568892019481,
           -0.7022344524268301,
           -0.6394775069553655,
           -0.4867572961224844,
           -0.04879803704638619,
           0.07141788769711142,
           -0.005294187600970335,
           0.25067420144462427,
           0.5081590075218438,
           0.10519158993298337,
           -0.1101705432865338,
           1.1167708025359517,
           1.5126047510081335,
           0.9054661725573903,
           1.24644237844158,
           1.2930917356280736,
           1.049630182703265,
           1.5632771479551542,
           2.0025314863790404,
           1.9881074559627923,
           1.7538409359950835,
           1.541279159643449,
           1.3565652170068363
          ],
          [
           -0.692334744719996,
           -0.5014423276641374,
           -0.25245529267609923,
           -0.5738322591846894,
           -0.8608914393939541,
           -0.9963596310522916,
           -0.8551101545508332,
           -0.17494342680599245,
           -0.1815401907350775,
           -0.7559393490598847,
           -0.5741439770931285,
           0.02036228474076396,
           -0.2316970976582146,
           0.2205794525562843,
           1.0361946680003697,
           1.452329122203024,
           0.7391443233578365,
           1.0018387308229468,
           1.0313117622132342,
           0.6449029998693172,
           0.8908360502565562,
           1.0409421250556425,
           0.9968242430047921,
           1.2367346862719697,
           1.3654375758223498,
           1.365194614115365
          ],
          [
           -0.6250628864747535,
           -0.39597319108972995,
           -0.24780407677010957,
           -0.36544592767017425,
           -0.5258366435076262,
           -0.6584699559454182,
           -0.6020094485226659,
           -0.014142956217759017,
           -0.15462455301224248,
           -0.7776224016578865,
           -1.019004656075972,
           -0.3077404693576881,
           -0.47823702081979813,
           0.5749799977537726,
           1.0591709007541552,
           0.8046343032052419,
           0.16588548320680907,
           0.26253979810559547,
           0.13006911550946917,
           -0.17029955108851985,
           -0.3496477980006206,
           -0.45904582540595285,
           -0.698989701818023,
           -0.4642245176253257,
           -0.08758953043810391,
           0.3133870159856076
          ],
          [
           -0.6510498053946023,
           -0.4868837040123999,
           -0.3732607609754989,
           -0.21423934080813922,
           -0.21714936746801783,
           -0.29157302621549347,
           0.022352910450607277,
           0.3920849883109727,
           -0.30287402849521383,
           -0.5804197521080082,
           -0.8945854631623656,
           -0.36329891088686606,
           -0.5548644251908267,
           0.42308176704959854,
           0.35437554183010467,
           -0.4882480605178402,
           -1.0406539250398796,
           -0.7994664048640293,
           -0.9299040302945097,
           -0.6541802427978881,
           -0.5816248714697011,
           -0.5917303128912843,
           -0.7421736671471337,
           -0.7599684040968302,
           -0.6457662425620142,
           -0.2267411122630304
          ],
          [
           -0.5471336162081624,
           -0.4050649637597481,
           -0.39213190941547105,
           -0.15580471946176022,
           -0.03317165912167727,
           -0.23820089698751412,
           0.24276557558788814,
           0.8056143741939953,
           -0.10901519549920935,
           -0.38727717052200994,
           -0.6566974780432367,
           -0.22467219346304873,
           -0.38997517365230994,
           0.7206699928454436,
           0.6364628874388492,
           -0.03504329495852074,
           -0.25502224048637107,
           0.198412525987346,
           -0.04591931668665453,
           -0.037471546233019654,
           -0.34446234837080447,
           -0.584558828233113,
           -0.9250717687169033,
           -1.2770724166808196,
           -1.5309054467724144,
           -1.5151323017079203
          ],
          [
           -0.37588670664358514,
           -0.2723501891422563,
           -0.2701133068033499,
           -0.11621196889367774,
           0.00688854050841195,
           -0.30108103944611986,
           0.1978589008586756,
           1.1153142789699357,
           0.28795353213730585,
           0.018349476821187427,
           0.08951838439747029,
           0.31452274939129565,
           -0.013485895217875438,
           1.4182226217894782,
           1.1766582192149266,
           0.5197487463884147,
           0.1812600906680863,
           0.2320433145870095,
           -0.3890730311805666,
           -0.6458627385216733,
           -1.0499570754003624,
           -1.283391841458724,
           -1.633739102109907,
           -2.0810566694778045,
           -2.253879288992746,
           -2.2590635599788977
          ],
          [
           -0.2863029234240881,
           -0.17410202310152917,
           -0.17475101391298614,
           -0.08289146320567953,
           0.062179879665894486,
           -0.24651633262003025,
           0.17177059410143605,
           1.2450764685940245,
           0.536138771034324,
           0.28056464102176226,
           0.8887384555606188,
           1.0060184339199578,
           0.4626645862787674,
           1.9992907562781563,
           1.1503655763175735,
           0.48524107785484843,
           0.0841412711762148,
           -0.27060578163381,
           -1.1076461150363013,
           -1.3490628099256692,
           -1.411868842551136,
           -1.5348932131857933,
           -1.7446734145051868,
           -2.0497942102053166,
           -2.009614506748078,
           -1.8221798715178132
          ],
          [
           -0.2648198826828585,
           -0.15651275562419192,
           -0.16659568656147694,
           -0.06863814200256449,
           0.08781653004309192,
           -0.10495404831108568,
           0.19444579150665328,
           1.0468804107257883,
           0.3750044868253468,
           0.3572208427977447,
           1.194005711604471,
           1.2077164808814955,
           0.9246936772233838,
           2.3154583842426324,
           0.6344955531145907,
           0.1105882866185926,
           -0.047540532402430585,
           -0.7019192889804674,
           -1.4151763824214427,
           -1.344533425664301,
           -0.9837952206085384,
           -0.9052705308756676,
           -0.8706762421594024,
           -0.8751552729763582,
           -0.7418238283797218,
           -0.5147107155326186
          ],
          [
           -0.1946194893954052,
           -0.11420747513454554,
           -0.04296455485906331,
           0.09223304376883015,
           0.17631397314494396,
           0.016084193844707717,
           0.2404695004084843,
           1.0009062829210258,
           0.3366194684875803,
           0.7169377366942055,
           1.5654922093339758,
           1.4184021260377917,
           1.373907748272139,
           2.2917373067590763,
           0.3222911265285432,
           0.0804213146733021,
           0.2629268899797985,
           -0.4646887618412118,
           -0.7251314101217671,
           -0.147884972176912,
           0.12866964926461918,
           0.08607963902260664,
           0.010332217854377379,
           -0.17914903681926675,
           -0.2173901043063508,
           -0.059983563735505036
          ],
          [
           -0.18242697441403227,
           -0.13762360299850618,
           0.013256534316043067,
           0.10239177445755661,
           0.15499878830947866,
           0.0802588909484996,
           0.23328597452338828,
           1.0507387516901587,
           0.3485227476362215,
           0.9358642686681247,
           1.6574518530178048,
           1.4655233742242753,
           1.5132115337734455,
           1.8906703340148758,
           0.3358105430048002,
           0.19787573131328953,
           0.2715444151705987,
           -0.3852710829518956,
           -0.4416103374992364,
           0.11893911130610377,
           0.12655613575232713,
           -0.031296713392743536,
           -0.09324771114144764,
           -0.2675892404023413,
           -0.25188454774026026,
           -0.03501369192731707
          ],
          [
           -0.19028323607016634,
           -0.17145610423754304,
           -0.03426030632320021,
           0.044521332928201124,
           0.1517691475263714,
           0.1429127248175175,
           0.22453006769753972,
           0.9975591262963438,
           0.12410195419411801,
           0.8542134114452666,
           1.4342236940321782,
           1.3991555985569724,
           1.5850766464758883,
           1.5823842185835675,
           0.5058761213642985,
           0.37572699150178546,
           0.10056078198144593,
           -0.5200024371447826,
           -0.4496650307065807,
           -0.06285453772039587,
           -0.13823211458053059,
           -0.22263967330606177,
           -0.22033555541405492,
           -0.37994043951112255,
           -0.29704583015157676,
           -0.06792797933340139
          ],
          [
           -0.20666307589432964,
           -0.1040334043033973,
           0.01172812130797335,
           0.11587685234620457,
           0.1898917101293011,
           0.11530944116892519,
           0.11230279102654346,
           0.8486843998662056,
           -0.1652914244646826,
           0.782333868864947,
           1.2640108906776084,
           1.3496298365240738,
           1.6180500428299482,
           1.49970815454556,
           0.6260668783724586,
           0.5425416487939074,
           -0.026397082486358858,
           -0.6570212689994843,
           -0.38647040955045986,
           -0.13227959780358955,
           -0.2535387372345777,
           -0.2897779406438103,
           -0.21530177117989835,
           -0.37668986221831424,
           -0.27161727094507826,
           -0.08447200738392763
          ],
          [
           -0.2051531286204198,
           -0.03652455945637534,
           0.08539830318926557,
           0.2023285003511209,
           0.14291499368550326,
           0.041160059040069974,
           0.052152725931887994,
           0.7655526132885953,
           -0.2989234421568145,
           0.9237964944517475,
           1.1649555416612445,
           1.1086909310537632,
           1.2622089044871379,
           1.3138569206540258,
           0.49273333046147366,
           0.571568443475773,
           -0.21569477079243798,
           -0.7800199725295625,
           -0.2489092793538361,
           -0.20344870426260414,
           -0.3499852834999668,
           -0.34968490919827355,
           -0.21422696701232208,
           -0.35320027540505217,
           -0.25122310756814253,
           -0.1394863871972184
          ],
          [
           -0.1915774316250639,
           0.01833748645179839,
           0.12987860881246127,
           0.17445235122073158,
           0.07622617586095888,
           0.08473489014795242,
           0.1581780935027599,
           0.7760122147461971,
           -0.20703579328117522,
           0.9669599709824358,
           0.8690982079924194,
           0.9387045299877649,
           0.8108143026329161,
           0.8561129255048029,
           0.017642165991904935,
           0.20989644537432392,
           -0.5932532942486237,
           -0.7909120910246413,
           -0.11671043743411058,
           -0.21761156196688397,
           -0.33399140098319313,
           -0.3060529830769792,
           -0.2139581266039245,
           -0.37028301744520875,
           -0.30838144232817827,
           -0.22513438235228533
          ]
         ]
        },
        {
         "coloraxis": "coloraxis",
         "hovertemplate": "x: %{x}<br>y: %{y}<br>color: %{z}<extra></extra>",
         "name": "5",
         "type": "heatmap",
         "xaxis": "x6",
         "yaxis": "y6",
         "z": [
          [
           2.7832642613704026,
           1.6618167118320852,
           0.8894483522515587,
           -0.04504092977611285,
           0.07224979966126144,
           0.7007194250277186,
           0.9810279016475812,
           0.5287048134134505,
           -0.5594095969882772,
           -1.257359183283898,
           -1.5799982358352818,
           -1.2039966429809323,
           -0.9102880842566436,
           -0.7757717340871013,
           -0.8427706807339075,
           -0.8680646573471795,
           -0.8943718354201712,
           -0.8429929066818942,
           -0.4618793813282148,
           -0.0983344079871078,
           0.07698142794996277,
           0.06163126739747138,
           -0.037163512893645945,
           -0.02552764376323957,
           -0.04488835316432971,
           -0.2699014683490342
          ],
          [
           1.5737399952195505,
           0.5097697259498862,
           -0.2907716905910709,
           -1.2065665342153107,
           -1.3174263927968641,
           -0.5115834769953602,
           0.5472842428459713,
           1.2688099461779565,
           0.8373545903990217,
           0.26526199976347276,
           -0.47724500199891395,
           -1.0207462220052765,
           -0.9593012487387963,
           -0.8023088837804017,
           -0.7803158632381588,
           -0.776320325266337,
           -0.8163473406552038,
           -0.6521322181447311,
           -0.34091931004733655,
           -0.22953662145031373,
           -0.18408116709786992,
           -0.18286125700769584,
           -0.026766336842178995,
           0.04632380623207555,
           -0.21188397563864642,
           -0.7216988925679584
          ],
          [
           0.5021897496584619,
           -0.31376719124112373,
           -1.1384434572700708,
           -1.693852972297126,
           -2.0794239696050947,
           -1.7569822426869592,
           -0.5812885912041237,
           0.9615395988729943,
           1.0490953202410305,
           0.871229551092454,
           0.49680362762640506,
           -0.565840060554587,
           -0.452690100555558,
           -0.5511126494071954,
           -0.7134997685675993,
           -0.7909638939627237,
           -1.0047100044183155,
           -1.1215016037947383,
           -0.9181584623071757,
           -0.7725529742658149,
           -0.6503112124186314,
           -0.31552515267493625,
           -0.027579387342581585,
           -0.19919499973480803,
           -0.8135345331709652,
           -1.1985292232061022
          ],
          [
           -0.48943489430124576,
           -1.2991279078721103,
           -1.4942774763534943,
           -1.3533208686175318,
           -1.763305293663283,
           -1.9829877423655318,
           -0.9980410746057538,
           0.46911580276806764,
           0.6895438862942614,
           1.1526904540257124,
           1.6204126615015868,
           0.5368140177838986,
           0.4348917136155267,
           -0.4933337416324304,
           -1.0340250947012168,
           -0.6579769473600421,
           -0.9124859189013733,
           -1.4861047500181688,
           -1.4235793119139766,
           -1.236553058438249,
           -0.9195623302600916,
           -0.41069472374420785,
           -0.3377657000380888,
           -0.7928615447881493,
           -1.2997060254594635,
           -1.397598309609142
          ],
          [
           -1.2901209751774592,
           -1.58556467891795,
           -1.1276268006948897,
           -0.7041565773986583,
           -0.9689369624021708,
           -1.6406265217295997,
           -1.2997056869834105,
           -0.7696366284266661,
           -0.418662190580866,
           1.1071431864274923,
           2.5208539568633497,
           2.194060201158575,
           1.7698213349327343,
           -0.08478325999547076,
           -0.7658687758345387,
           0.32461134712512096,
           -0.2022311273213966,
           -0.8614952732929588,
           -1.1002446123001253,
           -1.0741389177589988,
           -0.5986821654026241,
           -0.15006956653404036,
           -0.44607171222860065,
           -0.9881208179358152,
           -1.2712943769405367,
           -1.4963095356288498
          ],
          [
           -1.1010725482370534,
           -0.961259646499492,
           -0.5719610481769762,
           -0.4163963732018176,
           -0.6842738076177676,
           -1.5301151087220832,
           -1.6711052159785194,
           -1.7797426711009927,
           -1.2695506356281352,
           1.1041047738008802,
           2.712562006928367,
           3.6333990233705826,
           3.3381726414588027,
           0.7887543711723833,
           0.2952357244822671,
           1.946455399801422,
           1.24124943857653,
           0.8651238173562831,
           0.2628608532161171,
           -0.20475940173417306,
           0.0005681857801670409,
           0.10117607044285648,
           -0.4816802242555127,
           -1.013006773407132,
           -1.332281462176698,
           -1.580650755055568
          ],
          [
           0.2579576212883411,
           0.44399133682196823,
           0.38977407583907986,
           0.14176716185323157,
           -0.11469818755176386,
           -0.5713720404275433,
           -0.7433070802977344,
           -1.313243900741079,
           -1.188560364931712,
           0.4037691488476548,
           1.1772020391120188,
           2.8375975358125705,
           3.088827696579091,
           0.8090487302508534,
           0.9884758090087064,
           3.103667134538656,
           3.1351071058580744,
           3.197533461910966,
           2.120757174744785,
           0.6276691173666576,
           0.19408629822285028,
           -0.19635891277758466,
           -0.8673644080592162,
           -1.3694433619535278,
           -1.6057180048014263,
           -1.5331764799868481
          ],
          [
           1.6413718135202418,
           2.235332344288465,
           2.056913200250309,
           1.6931086025056823,
           1.485973799063495,
           1.5110726550892313,
           1.384763572686051,
           0.38118486686856146,
           -0.37620283843807717,
           -0.7142896194335026,
           -1.1167976137958644,
           0.9307294619006395,
           1.6100887178736873,
           0.049501278768572576,
           0.6486207322490517,
           2.59471729212874,
           3.8090672384635207,
           4.521366518605694,
           3.2753454717053154,
           0.7390752815828,
           -0.39825877253142034,
           -1.1755031731879544,
           -1.5850111631196975,
           -1.8049369618840339,
           -1.697175559836602,
           -1.5279683480562691
          ],
          [
           1.894026381256667,
           3.0062495254363357,
           3.443959922492639,
           3.5364088667962488,
           3.392803350940243,
           3.5464519757804753,
           3.4773673987283944,
           2.308270226197408,
           1.1892289404730016,
           0.10425636742610933,
           -0.9778750909334759,
           0.5857432256965344,
           0.9807629248659063,
           -0.6429021548123068,
           -0.6922933970360409,
           0.3206690392249282,
           2.2029008601457116,
           3.545915939722864,
           2.8712000506750948,
           0.6088262338879019,
           -0.8861050811155652,
           -2.164963196429743,
           -2.4835546722728146,
           -2.4127202597186734,
           -2.008231428292764,
           -1.7417697471656988
          ],
          [
           0.2063292127072227,
           1.4760717427741938,
           2.5882780843207525,
           3.33619213878269,
           3.5576063173486396,
           3.8473003121960865,
           3.95510912906182,
           3.230951076873918,
           2.6058289593797532,
           1.3883400702953206,
           0.4832095788990466,
           1.107249175751309,
           1.4619057325012679,
           0.24593006913752857,
           -0.367914384288217,
           -0.6175774400254067,
           0.5358423317327247,
           1.9244432524499016,
           1.9362774622226735,
           0.7531071951009073,
           -0.47847989977306027,
           -1.8742694227533985,
           -2.5672190905253416,
           -2.6644187077079002,
           -2.5254376481103034,
           -2.2887720253468684
          ],
          [
           -2.2948772080700905,
           -1.4546375070514554,
           -0.11180199629555021,
           1.1079444138421106,
           1.8816488489931027,
           2.3902631779350925,
           2.5358334605357515,
           2.3285509322752644,
           2.17888001944377,
           1.235588620511916,
           1.0205894298014133,
           1.4109131833365969,
           2.2259716377393177,
           2.0965784520308985,
           1.4100743709967825,
           0.1195050307775799,
           0.17557948073244,
           1.567884366111953,
           2.2180861713100444,
           2.1353148077191606,
           1.0592880985537532,
           -0.2272193844199048,
           -1.1829243009987573,
           -1.663092469961108,
           -1.8795023773143598,
           -2.104133835323357
          ],
          [
           -3.0585991628266767,
           -3.0879321954923507,
           -2.2778162890257967,
           -1.175792024455946,
           -0.2530936513476145,
           0.40765293980356476,
           0.835372616188096,
           1.2704864963476616,
           1.2499253502255607,
           0.7657424633915554,
           0.6456100777237542,
           0.8115379746110137,
           1.7556439895992377,
           2.536231193238747,
           2.085157690675756,
           0.588470108263425,
           0.21114192004332266,
           1.6531594953330062,
           2.8217047148275936,
           4.030638076575526,
           3.9433975776256096,
           3.0429526620949474,
           1.8083030123563764,
           0.6352705266399729,
           -0.08792963922281094,
           -0.8355347187413948
          ],
          [
           -2.361830967626697,
           -2.8319160737168154,
           -2.9359777098642015,
           -2.6103395018650897,
           -2.0746325302812028,
           -1.4089032222818836,
           -0.6477866557673273,
           0.47109279284366246,
           1.1076098072051903,
           0.7933705782320094,
           0.22073917559825906,
           -0.2698347880924025,
           0.35840985012353166,
           1.5046206297082123,
           1.6788787130591971,
           0.8550388536600607,
           -0.08523293828555467,
           0.8748783701279809,
           2.1311678017782643,
           3.913022860898014,
           5.066886337617754,
           5.324620540817543,
           4.965490894186092,
           3.9574894995704453,
           2.7537541424051084,
           1.409984273789569
          ],
          [
           -1.5974465658356398,
           -1.8979521586547299,
           -2.4883860815812446,
           -2.7916318071733803,
           -2.904189997500912,
           -2.7487054808398033,
           -2.228070750906861,
           -1.024795252774644,
           0.024655000013123818,
           -0.1649532368359965,
           -0.9302988640900833,
           -1.8580911920966225,
           -1.6379308996219084,
           -0.3528692565539893,
           0.4721400113735942,
           0.5960952776749541,
           -0.3426768451900352,
           -0.38033928436898634,
           0.4773964767351536,
           1.9514960634647158,
           3.5047123565527585,
           4.797968173391652,
           5.78833893003768,
           6.203880641857612,
           5.912873670773588,
           5.045883858197123
          ],
          [
           -1.3837723895103897,
           -1.3405793766938445,
           -1.790377007522113,
           -2.0875146499080985,
           -2.4178167569208764,
           -3.1204400495499867,
           -3.6596533415124206,
           -2.8294673153544743,
           -1.719923328290816,
           -1.4578208327013074,
           -2.095916816282568,
           -3.2830480873501235,
           -3.7931968934982168,
           -2.9721960676885373,
           -1.473063644033592,
           -0.635732591533635,
           -0.6767067192717824,
           -0.48172608021658075,
           0.18787804782711282,
           1.3091264929465494,
           2.6654870022896877,
           3.8283604019701736,
           4.636086771513738,
           5.209040045512995,
           5.665840316611759,
           5.8968752284066
          ],
          [
           -1.511850000652815,
           -1.3252228660204106,
           -1.4621195784829306,
           -1.5380343951161939,
           -1.6776311780411481,
           -2.4379361019574124,
           -3.5983869609475434,
           -3.5354689228652183,
           -2.6093130891620175,
           -2.2609127854227666,
           -2.7659612644541927,
           -4.020499394659467,
           -4.892211173697553,
           -4.308221388662667,
           -2.112766315665702,
           -0.6964292456473773,
           -0.33323943650306426,
           -0.12534652460861428,
           -0.14167664078739495,
           0.394814854594992,
           1.3155036231277153,
           1.8908384786088486,
           1.8779681451759211,
           1.7900433858400207,
           1.9055451795150278,
           2.3589604058291487
          ],
          [
           -1.5368593116615892,
           -1.5358939276503123,
           -1.5736587190088287,
           -1.4515151987293853,
           -1.3895520932505931,
           -1.8197556544797098,
           -2.6571417470468734,
           -2.880258989238143,
           -2.545283582146455,
           -2.712960055933584,
           -3.38383438423259,
           -4.615854354708626,
           -5.362889791998777,
           -4.444936963405718,
           -2.0751911367387272,
           -0.7890083843474502,
           -0.6527604770479534,
           -0.9487252098718941,
           -1.789693933941146,
           -1.6047724081605756,
           -0.9514285709888637,
           -0.5420255034147895,
           -0.7330403636566937,
           -1.1354804155368605,
           -1.4646140786522102,
           -1.504597804291167
          ],
          [
           -1.5640934365714365,
           -1.6790610914907755,
           -1.742067013164279,
           -1.7290069372578203,
           -1.6390780437111307,
           -1.7825462659013702,
           -2.095782161130589,
           -1.961318832061377,
           -1.7593479235236078,
           -2.313274316619799,
           -3.335746989975469,
           -4.635628332195931,
           -5.2378490724646865,
           -3.861798367088682,
           -1.7461069711295396,
           -1.06384680331616,
           -1.2471725334213226,
           -2.033981043237543,
           -3.17450411548405,
           -2.9861948688011073,
           -2.6418236274571747,
           -2.6143602222415585,
           -2.917866632830588,
           -3.346916602628717,
           -3.6608751271029796,
           -3.9164826693253243
          ],
          [
           -1.619205590990266,
           -1.7468992345641374,
           -1.84891759805389,
           -1.9550044607578232,
           -2.06464793655573,
           -2.0975505462931383,
           -2.0044279484481744,
           -1.5321759353379278,
           -1.1811331035092272,
           -1.7957738406900696,
           -2.7049254371499734,
           -4.063068579964284,
           -4.71072161428216,
           -2.9556569445834247,
           -1.3800475717334761,
           -1.2910353751505157,
           -1.7866593726176343,
           -3.045690389510509,
           -4.304309008833543,
           -4.189498834633084,
           -3.8690655384012005,
           -3.886115813222893,
           -3.948018788835026,
           -3.985563589031385,
           -3.914830149661868,
           -3.857861849348533
          ],
          [
           -1.6457663521176151,
           -1.8085902128627227,
           -1.9845468566880822,
           -2.080425407622552,
           -2.1753343382949097,
           -2.2235842803445194,
           -2.0870091816328715,
           -1.5383128225783285,
           -1.1093206944414298,
           -1.8580625411883305,
           -2.567135116244802,
           -3.689081280044267,
           -4.081551247664071,
           -2.050712897480572,
           -1.172433498617676,
           -1.2861999748778437,
           -1.6846405183166282,
           -3.26717459769022,
           -4.121555509868324,
           -3.861034741314522,
           -3.5501106513193745,
           -3.4697660624514306,
           -3.2221910878263893,
           -2.8565004541458068,
           -2.6336532996063964,
           -2.405559450884744
          ],
          [
           -1.7209309350006041,
           -1.909037980901608,
           -2.0298586406274852,
           -2.063152927367533,
           -2.086864735560704,
           -2.1255090554443807,
           -2.09078046921873,
           -1.6282557866489409,
           -1.3509671180963245,
           -2.072505635210166,
           -2.472986857197379,
           -3.3089402819012452,
           -3.1386197640406963,
           -1.2497616075986726,
           -0.9338587670358145,
           -0.9874890597366569,
           -1.210139902396586,
           -2.5898484686742607,
           -2.689850876081851,
           -2.3070152688700825,
           -2.307055857228641,
           -2.475509505722617,
           -2.3599862513782535,
           -2.148021956251573,
           -2.029585450518749,
           -1.8932430078041245
          ],
          [
           -1.8888783635258535,
           -1.9772949917602292,
           -1.9739132568442863,
           -1.937596090298384,
           -1.9689690055890554,
           -2.009905401603324,
           -2.0893738707366083,
           -1.8642703787295258,
           -1.8230575988992856,
           -2.238514201082947,
           -1.9773687005900098,
           -2.43020038191363,
           -1.6861133021635195,
           -0.2598546337597464,
           -0.5421800186419279,
           -0.6499670872525674,
           -1.1816259092411934,
           -2.355505024596332,
           -2.2012571955056788,
           -2.0571428333379855,
           -2.280212041252261,
           -2.496386073037685,
           -2.3946997552088987,
           -2.2845427151937634,
           -2.1816761131128617,
           -1.9985546477736333
          ],
          [
           -1.9809646428351266,
           -1.9877191567016785,
           -1.9586379930201017,
           -1.9604239197764137,
           -1.9899456882127544,
           -2.0127378268574616,
           -2.2593402756540026,
           -2.2268032256834647,
           -2.2506313357476615,
           -2.2503864000599463,
           -1.342324609405463,
           -1.2533643772456036,
           -0.17536586649863617,
           0.5600169400219536,
           -0.2865380500312922,
           -0.6167263675412685,
           -1.5707525943859062,
           -2.357062968558882,
           -2.173568437073702,
           -2.1645599360030237,
           -2.411016420291302,
           -2.4990175807354995,
           -2.3907304582550686,
           -2.3252781508971596,
           -2.252394834461799,
           -2.0389594568667504
          ],
          [
           -1.9676929785887673,
           -2.0378971834450685,
           -2.0434774055003992,
           -2.075351073512165,
           -2.053429130619227,
           -2.055538035992105,
           -2.4011384496910892,
           -2.4117999273369666,
           -2.529642018868027,
           -2.2634233558802683,
           -1.0203555929806776,
           -0.23051607983131644,
           0.9527372684030023,
           1.0571190950061786,
           -0.06058210578934875,
           -0.6745423355831782,
           -1.9852002238254034,
           -2.354735964483861,
           -2.2072310774612904,
           -2.211797540779333,
           -2.3889190084042933,
           -2.3535770671513196,
           -2.2566167605810037,
           -2.290840492313151,
           -2.3204997227346307,
           -2.157897340118263
          ],
          [
           -2.05000269158461,
           -2.124135898487739,
           -2.1599711366685255,
           -2.1665224576822646,
           -2.068938241672305,
           -2.0540453640932768,
           -2.3775209121534466,
           -2.4172402843278022,
           -2.6909055138076488,
           -2.47336530787348,
           -1.203304480193522,
           0.04069638203293657,
           1.2362139029862043,
           1.0610846155611613,
           -0.15735570966106993,
           -0.9604648853145414,
           -2.306326076615972,
           -2.3613376774138266,
           -2.2823256004393255,
           -2.298874757717257,
           -2.3322247301881527,
           -2.226515534085486,
           -2.171767685489736,
           -2.3070052673814967,
           -2.4413230760155393,
           -2.3397191242495534
          ],
          [
           -2.1621343956926165,
           -2.1928920958645928,
           -2.2909892188738183,
           -2.275916848543368,
           -2.1624624557071157,
           -2.136095462220817,
           -2.314871464406085,
           -2.3003335677253802,
           -2.667258579782177,
           -2.589764695531248,
           -1.6533282735494133,
           -0.6296178774678861,
           0.4408962429886495,
           0.16400413855526663,
           -0.8069725689627714,
           -1.4811174546746022,
           -2.333502196467164,
           -2.3164924167181065,
           -2.2759417217097417,
           -2.323022699769741,
           -2.300602439374312,
           -2.2239111987144815,
           -2.261932379362846,
           -2.4464770673814877,
           -2.580532458172677,
           -2.507477291938689
          ]
         ]
        },
        {
         "coloraxis": "coloraxis",
         "hovertemplate": "x: %{x}<br>y: %{y}<br>color: %{z}<extra></extra>",
         "name": "6",
         "type": "heatmap",
         "xaxis": "x7",
         "yaxis": "y7",
         "z": [
          [
           -0.8564400787657178,
           -0.9912839589486205,
           -0.8798877898743169,
           -1.5203326008098277,
           -1.916453244809592,
           -2.2250954850963196,
           -2.120902844822418,
           -2.3606113672900895,
           -2.930150578017844,
           -2.3622954298230887,
           -2.480575995145494,
           -2.6399996682930524,
           -2.471548961748316,
           -2.4516534150059925,
           -2.367231649849759,
           -2.052056994502209,
           -1.8088841181373951,
           -1.8391529318044764,
           -2.0948006999528523,
           -2.1293787650621674,
           -1.819236405045926,
           -1.6539355233015298,
           -1.3915968476450442,
           -1.2598741448958288,
           -1.0998271869987595,
           -0.9165790070744773
          ],
          [
           -1.3083793574121017,
           -1.2302567519404628,
           -1.117174098757765,
           -1.7489862259583628,
           -2.244136225371564,
           -2.2147691652454378,
           -2.5498565467998504,
           -3.664239090564056,
           -4.225590422947606,
           -3.289609033164738,
           -2.7729650329884494,
           -3.221660534356035,
           -3.0603711463683734,
           -2.799008111974939,
           -2.4173244257907176,
           -2.0144543205840364,
           -1.9780799839036578,
           -2.4145804080370823,
           -2.5660519826708823,
           -2.095667883922401,
           -1.7058080189532985,
           -1.6274411873496593,
           -1.334467088362155,
           -1.1295625834196363,
           -1.0918065480973147,
           -1.0954921490907754
          ],
          [
           -1.6201340305339027,
           -1.901276847594867,
           -1.746955287623431,
           -2.053213056638269,
           -2.5182502953781265,
           -2.0552896765825213,
           -2.169012376649504,
           -3.6196067403036767,
           -4.022504789082323,
           -3.3254007307048266,
           -2.7622376885061373,
           -3.3942590428388772,
           -3.7692174698450067,
           -3.653365700389818,
           -3.059246335018144,
           -2.7717182674403023,
           -2.9968702042274993,
           -3.137874289278109,
           -2.525829514083614,
           -1.8893510975651342,
           -1.6577192340233142,
           -1.4673187048065761,
           -1.2531250442249635,
           -1.078378014136535,
           -1.2400392371807094,
           -1.2830624968136393
          ],
          [
           -2.430242493941945,
           -2.527882814397034,
           -2.2980827679239475,
           -2.638810512831917,
           -2.789157366350137,
           -1.8574549305157861,
           -1.513150102800194,
           -3.156910589321028,
           -3.0780896765517647,
           -2.1945742675671847,
           -2.3776483675999085,
           -2.8875908282754605,
           -3.798215930444842,
           -4.322136137103604,
           -3.8224573461176945,
           -3.4583342462621345,
           -3.937877338321564,
           -3.555621491795793,
           -2.498545149247855,
           -2.053483212343917,
           -1.8035386227999108,
           -1.5361335162483034,
           -1.3743503776652202,
           -1.2821548447988305,
           -1.3078396276136726,
           -1.2365027798541421
          ],
          [
           -3.9046264270860385,
           -3.652398027122837,
           -3.8178715355386164,
           -4.149619434899426,
           -4.109164556874656,
           -3.2167287083014706,
           -2.3112413288918305,
           -3.708102701488937,
           -3.265612146402079,
           -1.874815351329849,
           -2.3087260970353265,
           -2.241138303847779,
           -2.962610078726959,
           -3.3979361681822233,
           -2.930656076228726,
           -2.7230897451530245,
           -3.4362784318270942,
           -3.0736372728133228,
           -2.271851743079373,
           -1.793712303570354,
           -1.667661967192373,
           -1.5425915358684703,
           -1.3461426388857058,
           -1.319591072719056,
           -1.2955936670265153,
           -1.3979773276786558
          ],
          [
           -4.111516508748894,
           -4.21101881993498,
           -4.617754960604513,
           -4.921658461376076,
           -5.031405226829504,
           -4.214301595634476,
           -3.1013686344340297,
           -3.975021683548677,
           -3.3820551555382767,
           -2.219606927448683,
           -2.7415874388747286,
           -2.2980084380233285,
           -2.7972089194109646,
           -2.911481485637216,
           -2.0702304755951464,
           -1.6468345346282935,
           -2.3889911835053956,
           -2.2511431003891955,
           -1.3387862816061578,
           -0.9572285624066775,
           -1.261758875440946,
           -1.3380877486982858,
           -1.2572978723028678,
           -1.3423263565020642,
           -1.3736215797350693,
           -1.4825909907008994
          ],
          [
           -2.804994122004646,
           -3.0355454861398794,
           -3.3517253781587444,
           -3.5482839156837116,
           -3.525010733703344,
           -3.0043164761906223,
           -2.5274323716381533,
           -3.1963395001930333,
           -3.1383322127097824,
           -2.4898593940870546,
           -3.349932736816002,
           -3.08512823455213,
           -3.2882882973621843,
           -3.629620053811031,
           -2.4987269676956125,
           -1.5121759464080544,
           -1.9664771115866324,
           -2.045126875401273,
           -0.8141146936961927,
           -0.49469684781995693,
           -0.9161928321988227,
           -1.3058518608224898,
           -1.3116587261639054,
           -1.2430785863656477,
           -1.3842916995452614,
           -1.563545440036203
          ],
          [
           -2.2184925662672947,
           -2.5165453533240942,
           -2.73094946806678,
           -2.7570391392519156,
           -2.720958911030432,
           -2.6295377503633546,
           -2.6923759338596085,
           -3.0514800312856187,
           -2.8581235198731925,
           -1.9106903852766626,
           -2.4286681137051738,
           -2.6325855621228245,
           -2.6214080166796623,
           -3.0425614019343366,
           -2.1892836894647307,
           -2.151552051845173,
           -2.962089323500688,
           -3.3105161267895733,
           -2.011890651397403,
           -1.5283799833311449,
           -1.5478517235870004,
           -1.805934024082563,
           -1.567102496290486,
           -1.4247932635201352,
           -1.5559329312861465,
           -1.5205165086017234
          ],
          [
           -1.7413531456159113,
           -2.1827006116969265,
           -2.354759381864949,
           -2.685204877618866,
           -2.9649301843337703,
           -2.946844137476866,
           -3.0854464228890652,
           -3.208188551584076,
           -2.453604885772763,
           -1.8993461559974179,
           -2.0167734387300604,
           -1.9202422961930492,
           -2.0446886187556124,
           -2.644007974911675,
           -1.9450989715724298,
           -2.2077894940098184,
           -3.4342890378679725,
           -4.476719923870894,
           -3.5874321318697198,
           -3.4014753685950048,
           -3.4567139077061833,
           -2.776894256150248,
           -2.280483655321356,
           -2.1929086485905893,
           -1.96656678596735,
           -1.6792179610468607
          ],
          [
           -1.0525650912521471,
           -1.3620431238639414,
           -1.240182362425226,
           -1.4990906516801648,
           -1.7854096225245577,
           -1.870430933761586,
           -2.074125042421138,
           -2.2757285160028347,
           -1.9000483263283403,
           -1.9945830796538104,
           -2.417580378044145,
           -2.0317551159061344,
           -1.8785517210293925,
           -2.818898641036566,
           -2.0811917275911895,
           -1.4105606501715895,
           -2.4375206451111002,
           -3.795627449166591,
           -3.7791994638029096,
           -4.011362553628032,
           -4.680448201199725,
           -4.260342086505409,
           -3.8099100033986546,
           -3.38582206239227,
           -2.895559985033096,
           -2.410139503178944
          ],
          [
           -0.6197201698217476,
           -0.8350239425953467,
           -0.7154888481338354,
           -0.6246336862365063,
           -0.5750221911106861,
           -0.7356623351489258,
           -1.0070038034164144,
           -1.12495351299372,
           -1.233371012216258,
           -1.1397274984413759,
           -1.7622640197839878,
           -1.4904663600865742,
           -1.2642439469352302,
           -2.77642687409759,
           -2.3899869220193812,
           -1.7475965472858797,
           -2.7191889031606413,
           -3.3372215332015287,
           -3.5977783313737115,
           -3.7912895621029072,
           -4.0393308891614135,
           -4.109964034656199,
           -4.546486215421501,
           -4.435806196447899,
           -4.0237130271569175,
           -3.2515724077704453
          ],
          [
           -0.9638028436159045,
           -0.9831566345478306,
           -0.7887841056441075,
           -0.7001726091468109,
           -0.7058050097504729,
           -0.8454289529214377,
           -0.8089014350697454,
           -0.5119477463692483,
           -0.420454801970902,
           -0.1968334113954575,
           -1.0132427755204574,
           -0.7853723992896436,
           -0.6118198306869593,
           -2.2784106900934686,
           -2.5985220526471173,
           -1.8451200454593881,
           -2.7350515346388486,
           -3.2792837148703686,
           -3.590702705913086,
           -3.8640729488877175,
           -3.802583515116553,
           -3.41316282039407,
           -3.4635847944197033,
           -3.7818707468623862,
           -4.094656735201431,
           -3.7387792797961783
          ],
          [
           -1.3934148553485775,
           -1.2732069110968673,
           -0.9329859325684075,
           -0.6633182508452894,
           -0.4510803368712524,
           -0.4972985299222281,
           -0.37893849503166743,
           0.4362763944566641,
           0.5724155224278924,
           0.3305826292051346,
           -0.3494537838033198,
           -0.11828095761217994,
           -0.6558246124709785,
           -1.8415506717509451,
           -2.488873870904895,
           -1.5312852890360413,
           -1.8615876541072591,
           -2.7018349243917,
           -2.8289185803186134,
           -3.197413654699214,
           -3.395121156446298,
           -3.227971508434836,
           -2.617248917189746,
           -2.0273806623827433,
           -1.7355427257246698,
           -1.382729269907867
          ],
          [
           -1.5149088644267477,
           -1.3844992994752292,
           -1.017965969691693,
           -0.6057106961635873,
           -0.3626056497308068,
           -0.41377943981452714,
           -0.4465334504276408,
           0.4125043604510297,
           0.6901710361730884,
           0.40993491798938475,
           -0.40088442094144217,
           -0.2497227859571336,
           -0.9540099174952683,
           -1.7373684244039491,
           -2.3481452922668993,
           -2.1762126857599045,
           -1.9567612447124585,
           -1.6196930181962377,
           -0.7688502328572732,
           -0.852245175815859,
           -0.7358507249869224,
           -0.4202532705230946,
           -0.22579138584444736,
           0.07697777190056154,
           0.6644404811012952,
           1.228990586228714
          ],
          [
           -1.6029061127109092,
           -1.549242199458812,
           -1.2272874185736957,
           -0.8684225824571989,
           -0.8198680543607361,
           -0.9187232471113204,
           -0.49194999770794756,
           0.20807949379203006,
           0.3365180568728743,
           0.2953061283184786,
           -0.29555516299066276,
           0.08116666193266742,
           -0.3885769437518658,
           -0.6384130973098701,
           -0.6315763375884673,
           -0.6739259023458258,
           -0.3841376575982207,
           0.13501978960843664,
           0.9506158636260076,
           1.0946579872118436,
           1.0174124081255953,
           1.1576013619928363,
           1.1713687236785666,
           0.7454629021103258,
           0.20649801961255188,
           0.13533996541749893
          ],
          [
           -1.3901966284702638,
           -1.4233905712190316,
           -1.3836869820111874,
           -1.18113357690049,
           -0.9527927205185184,
           -1.1512949078697963,
           -0.40642498810302485,
           0.8636028250090537,
           0.6848220142557957,
           0.256493859595041,
           -0.2100814114366778,
           0.13550377138258352,
           -0.38619943997258344,
           -0.005152870676035759,
           0.2121126151835735,
           -0.24860783389664332,
           -0.3445974117429307,
           0.1520216583163545,
           0.36933536507069853,
           0.15828636031480658,
           -0.20711356916034274,
           -0.18810594580657836,
           -0.020357344309719805,
           0.07465939781502828,
           -0.09552887407598809,
           -0.11872783745277404
          ],
          [
           -1.2635643810010229,
           -1.250945955749606,
           -1.3639941191988778,
           -1.4800904863691036,
           -1.2489372170016595,
           -1.519115427261725,
           -1.2453480335165965,
           0.33167087556786035,
           0.47322666900585464,
           -0.054585629792634593,
           -0.7324832703526398,
           -0.6698070371214212,
           -0.7773659171382051,
           -0.36394200514498887,
           -0.654978353274644,
           -1.161390411719494,
           -1.4977492826194414,
           -0.9292506257206755,
           -0.4323366264468078,
           -0.17545168777635722,
           -0.2732888100968711,
           -0.13468788083446448,
           0.29974558808478635,
           0.7179799623830019,
           0.9949133368603218,
           1.0089727279878895
          ],
          [
           -1.315584872540332,
           -1.2702170856412127,
           -1.3218241094695824,
           -1.4564934254845534,
           -1.517358734729872,
           -2.0119311325824616,
           -1.9608501784429255,
           -0.3828430731884911,
           -0.38350610399858787,
           -0.9870565302507421,
           -0.9971358198594193,
           -0.8888627401276034,
           -0.9266687006762206,
           -0.1517919686588689,
           -0.30299247639613625,
           -0.4979726974612977,
           -0.6165701441081853,
           0.13421462259294925,
           0.605995738298887,
           0.6385225990180379,
           0.307114763939754,
           0.11930579719871393,
           0.17840589376019955,
           -0.022432985735826083,
           -0.04232112837778046,
           -0.01317703708331086
          ],
          [
           -1.2592115492395375,
           -1.1870165829105992,
           -1.276009041743412,
           -1.4321091290953987,
           -1.460980474396631,
           -1.8605634584124475,
           -2.0035531034820298,
           -0.7194797348599579,
           -0.8201867041050733,
           -1.5766783018133563,
           -1.579020666294423,
           -1.261043772706925,
           -1.0286491618764064,
           -0.09644550388182926,
           -0.357228125568835,
           -0.6640482341260221,
           -0.5937491115091078,
           -0.023953457602973405,
           0.1620326205721505,
           -0.3092978810807434,
           -0.7786078245126017,
           -1.088081830360359,
           -1.0077986177556817,
           -1.024019965218443,
           -1.1031114308091843,
           -0.9584057116845284
          ],
          [
           -1.2073213928418856,
           -1.2176222246670694,
           -1.3454909880779715,
           -1.432777817293149,
           -1.400935967454207,
           -1.678881298874277,
           -1.9148694770953643,
           -1.0071459860041223,
           -1.5610274572452125,
           -2.1053414973997313,
           -2.1527993643842844,
           -1.8936311722802042,
           -1.320858568995373,
           -0.7388499760103086,
           -1.2245425991416785,
           -1.6826517384099748,
           -1.387375674551754,
           -0.8776778806772167,
           -0.574609519027566,
           -0.8853267099510551,
           -1.0176675856528972,
           -0.9730329304174388,
           -0.9558142926805826,
           -1.052925794119436,
           -1.2139949868166193,
           -1.1533083031235918
          ],
          [
           -1.2149691191262293,
           -1.2590638234623517,
           -1.3230549990115013,
           -1.3139549081429078,
           -1.248717667494791,
           -1.4999527838857345,
           -1.8515093217734302,
           -1.1669331982108462,
           -2.149917084165821,
           -2.5422428912633626,
           -2.2929503553840402,
           -1.9459137044647032,
           -1.371387610587397,
           -1.0117914841653084,
           -1.3396018772788838,
           -1.8797754570567222,
           -1.463497521658173,
           -1.0121214083422492,
           -1.1005152097444493,
           -1.3235456875929787,
           -1.2851405205783413,
           -1.165381603286754,
           -1.0836688244221002,
           -1.2668613216305387,
           -1.4190989909209266,
           -1.2472273323775698
          ],
          [
           -0.9598125710574797,
           -1.023796334677175,
           -1.0786114614098805,
           -1.076430111904539,
           -1.0470354126444148,
           -1.1955890700159326,
           -1.6346968716731858,
           -1.1009172179100775,
           -2.0910963884010765,
           -2.2798497038377943,
           -2.0849359779685894,
           -1.5482817723448485,
           -1.0967751353063675,
           -1.014424806538952,
           -1.2990831839078028,
           -1.7721605312985955,
           -1.3478491561531873,
           -0.9827125658486288,
           -1.3340946665385351,
           -1.4610927811967414,
           -1.3142122940311278,
           -1.1779458211817246,
           -1.037298200620099,
           -1.1574541636826905,
           -1.2446822111898599,
           -1.0967793174305132
          ],
          [
           -0.8043376488997512,
           -0.9146071511655415,
           -1.0261049018591835,
           -1.0229290874114199,
           -0.9887428562616497,
           -1.092299698619995,
           -1.4932180413107945,
           -0.8794632916005312,
           -1.8765206491422635,
           -1.9366235924154598,
           -1.8698462342971616,
           -1.2614509094502204,
           -1.0761683963572628,
           -1.2104231036867938,
           -1.3312131894465558,
           -1.3913597154306308,
           -1.0687393906194012,
           -0.9370561881097821,
           -1.2883803503158868,
           -1.217307842455051,
           -1.0781389481425885,
           -1.0113035377297472,
           -0.9500162542978939,
           -1.0577812831074973,
           -1.1110494061209482,
           -0.986013250521713
          ],
          [
           -0.8439564872432971,
           -1.0124543153186272,
           -1.100500972869476,
           -1.0662806866221501,
           -1.0710769832296025,
           -1.2202988062437872,
           -1.4060234048146674,
           -0.7088776144718583,
           -1.695347739829951,
           -1.664338190336138,
           -1.4919314959051075,
           -0.9756629582606384,
           -1.1764235898337723,
           -1.184037186245583,
           -1.200061163968951,
           -0.9762330097013358,
           -0.7592312665735462,
           -0.8429439309814133,
           -1.176818665086553,
           -1.0483444822666288,
           -0.9325294059316193,
           -0.9661787714851428,
           -0.9492966191715603,
           -1.018236973670589,
           -1.1028146140521429,
           -0.9918417587274624
          ],
          [
           -0.9504544595165086,
           -1.0759154176572439,
           -1.1406161059481612,
           -1.1683324114847145,
           -1.2840832109213416,
           -1.5164461714899184,
           -1.5435979934099817,
           -0.882365292847969,
           -1.5783844758141203,
           -1.2978734034111634,
           -0.959248176368217,
           -0.6337180492698046,
           -1.130569996227605,
           -0.9969412121111579,
           -1.096113382545767,
           -0.8259852594378767,
           -0.6171835694198148,
           -0.9379433916579378,
           -1.0730342732922213,
           -0.9152772423324695,
           -0.863087073562643,
           -0.9420039665687903,
           -0.9246299868522481,
           -0.9821470012436427,
           -1.0397743210157755,
           -0.9711584101053413
          ],
          [
           -1.0429687121525588,
           -1.1073749388162255,
           -1.205982084934658,
           -1.2679825287301991,
           -1.471620888331391,
           -1.659408971967738,
           -1.6013630806281378,
           -1.0338258346351146,
           -1.4022708838957512,
           -1.2062851855021512,
           -0.9316267544435486,
           -0.585785473653569,
           -1.1504569731425518,
           -1.049833873877171,
           -1.110495388624575,
           -0.8481366080947729,
           -0.5382204774398796,
           -1.0523814246369123,
           -1.031076115090709,
           -0.869348497649702,
           -0.8779795938471757,
           -0.9668053157525964,
           -0.9433007818083817,
           -1.0086577150910505,
           -1.0405056674069408,
           -1.0789664636541596
          ]
         ]
        },
        {
         "coloraxis": "coloraxis",
         "hovertemplate": "x: %{x}<br>y: %{y}<br>color: %{z}<extra></extra>",
         "name": "7",
         "type": "heatmap",
         "xaxis": "x8",
         "yaxis": "y8",
         "z": [
          [
           -2.1165201688026616,
           -2.0903810854949763,
           -1.381087789351916,
           -0.31530724579987285,
           -0.26806971414925107,
           -1.1780338403503587,
           -1.2288531878453561,
           -1.1139350101107595,
           -1.3204884815403477,
           -1.2180875907022726,
           -1.039700247364387,
           -0.9041995702552507,
           -0.8271900786975163,
           -0.8073517454482873,
           -0.8768813172458724,
           -0.8489719983667185,
           -0.6764741221392935,
           -0.5581536154682263,
           -0.6335129918849428,
           -0.8125686814552786,
           -0.9739388866327866,
           -0.8630625174332138,
           -0.7259586603339067,
           -0.6057238675143941,
           -0.5658484778009351,
           -0.9049801711372049
          ],
          [
           -2.1883199178277764,
           -1.6698535107766608,
           -1.0084653897970177,
           -0.7338397821549485,
           -0.5190841686285197,
           -0.9932313803598924,
           -1.4922798373714508,
           -1.4130154408554136,
           -1.922814428435329,
           -2.1071027557605237,
           -1.5223302322740262,
           -1.0023675033426316,
           -0.49692571532857144,
           -0.488381782606247,
           -0.7610222069315304,
           -0.7607953154357943,
           -0.6122167532201054,
           -0.6739809890183346,
           -0.8648902668776935,
           -0.924768040305861,
           -0.7490710650004335,
           -0.5988427857545878,
           -0.4897566221974015,
           -0.5732463874338097,
           -0.8776704620983667,
           -1.053178551497384
          ],
          [
           -1.8396504152882025,
           -1.0589143340193674,
           -0.7226407700768056,
           -0.9226421621206192,
           -0.7355123405178459,
           -0.5550296408982991,
           -1.152564368240843,
           -1.0322421255007894,
           -1.8523300742611635,
           -2.506963157776969,
           -2.035055476503655,
           -1.7328205205444909,
           -1.2397257337321812,
           -1.4524344541967849,
           -1.6352205531707287,
           -1.049141771671283,
           -0.6430601302094682,
           -0.6361842146441816,
           -0.631196366376959,
           -0.621125040106118,
           -0.6538291243022569,
           -0.6876837242412092,
           -0.7899313485636792,
           -1.0957746570331979,
           -1.2859111465621704,
           -1.0079011709013646
          ],
          [
           -1.3344858096007597,
           -0.8411395743260964,
           -0.6454694547461476,
           -0.6785694488982439,
           -0.43402024118517135,
           -0.10200827452110361,
           -0.7413230585762274,
           -0.45721590867117134,
           -1.1291904071629857,
           -1.9815461771603817,
           -1.7829165094931108,
           -2.191548350018648,
           -1.779159523263215,
           -2.2808663726349785,
           -2.791811154571853,
           -1.7783848198719734,
           -1.0470900149462428,
           -0.8892059336047042,
           -0.6554755060771127,
           -0.6214689034182095,
           -0.7315272303157653,
           -0.7657762788630189,
           -1.09550251705009,
           -1.3669476153295979,
           -1.160124491781306,
           -0.8329095469904039
          ],
          [
           -1.5485664177132366,
           -1.2725662327273788,
           -1.1203538437409084,
           -1.0329690861204923,
           -0.7834863385613239,
           -0.42365287420626563,
           -0.4169817767460212,
           0.34994167399180487,
           0.26270434302953405,
           -0.3870263444662865,
           -0.6219877776513768,
           -1.8903849080093347,
           -1.3821826794632894,
           -1.9309187370657364,
           -2.7722277335345265,
           -1.8699898917841582,
           -1.54974389394873,
           -1.3447389025491137,
           -1.2223782654711932,
           -1.1810666446734037,
           -0.9535385417196223,
           -0.9715561753892051,
           -1.3638828391324154,
           -1.2635995597772056,
           -0.9002073604886585,
           -0.8361436277454414
          ],
          [
           -2.0421452511857576,
           -2.046858979566818,
           -1.9832403955885671,
           -2.02442231013027,
           -1.9162859143205067,
           -1.4658671159961705,
           -0.9010291740822931,
           -0.383622558699117,
           -0.27128578453629504,
           0.017688329508513734,
           -0.08669029760511049,
           -1.4925666833389277,
           -0.44736692917371307,
           -0.5202164109855206,
           -1.4815256156064214,
           -1.1366928685027504,
           -1.613326234087546,
           -1.6773214777400154,
           -1.5779313398686856,
           -1.3595247933097097,
           -1.2128635203332787,
           -1.439035854276335,
           -1.4901261869693907,
           -1.116146700233402,
           -0.8768388020621808,
           -0.9575801340479411
          ],
          [
           -1.9112829655716423,
           -2.2692481097224086,
           -2.3129343846287176,
           -2.2347931500717326,
           -2.0180232664333713,
           -1.8790467912746873,
           -1.5974378098191155,
           -1.7672263346825423,
           -1.9871380206610916,
           -1.308094181258991,
           -1.0971578037503598,
           -1.9748075004414394,
           -0.6394959181793477,
           0.2987089947226149,
           -0.4095936009210075,
           -0.5749512160517058,
           -1.489873891399284,
           -1.5468095905697665,
           -1.0990923129523182,
           -1.1238904862818335,
           -1.3241255095229811,
           -1.5497973801673153,
           -1.191389193286605,
           -0.8605292222782361,
           -0.8483817214583411,
           -0.9421600804370243
          ],
          [
           -0.9682074348609226,
           -1.50697398345585,
           -1.8639360231884716,
           -1.8408876900337907,
           -1.604839394521484,
           -1.5938686952745333,
           -1.5224770070024158,
           -1.980224151939022,
           -1.999781585335134,
           -1.2621967865679977,
           -1.3302151010290268,
           -2.1144464566978725,
           -1.4052288417512089,
           -0.2915160227032413,
           -1.1029700370041182,
           -1.3066717280295648,
           -2.2380368002368396,
           -2.0497042294259775,
           -1.1584437261517708,
           -1.3446088361073456,
           -1.200593362345879,
           -0.7477910452157204,
           -0.3549780292426358,
           -0.608922888442144,
           -0.8155554466776881,
           -0.8423176984732985
          ],
          [
           -0.010501673146298018,
           -0.3700016165274919,
           -0.9416415729133595,
           -1.1940796297892722,
           -1.4145620624300355,
           -1.5149547186234855,
           -1.2566041146003881,
           -1.3843068584456577,
           -1.0337211657809653,
           -0.5461360443590332,
           -1.1523828364576867,
           -1.9075326273129516,
           -1.7795987210249502,
           -0.6683477459692984,
           -1.1244793454322757,
           -1.4397651373013214,
           -2.5550221103045834,
           -2.796301392863324,
           -2.524527974440763,
           -2.859453308512083,
           -2.2195085706271613,
           -1.2366126821365595,
           -0.33973383326827883,
           -0.20237255277128052,
           -0.3454578370361234,
           -0.454623723182604
          ],
          [
           -0.19389237485418293,
           -0.15629182599292885,
           -0.5940220690721311,
           -0.832011517180014,
           -1.1950573374573363,
           -1.4900766693258303,
           -1.513049787588106,
           -1.2789294550356205,
           -0.4777499297447918,
           -0.4439140304677964,
           -0.9886956933790079,
           -1.1683039088115343,
           -1.3163574859510563,
           -0.8858392525570293,
           -0.7431763835134857,
           -0.8603258626698544,
           -1.76338933474962,
           -2.4309204785718848,
           -2.753885885196734,
           -3.417006313951979,
           -3.385514706372799,
           -3.14772749997955,
           -2.4056422544330256,
           -1.3968268318707722,
           -0.5628653935655291,
           -0.1443905506472018
          ],
          [
           -0.25904263215295076,
           0.011328344870879858,
           -0.14877400187741707,
           -0.1813753671645228,
           -0.2751713109938314,
           -0.8101006431547844,
           -1.4167905739675035,
           -1.38021338483028,
           -0.6167248959014517,
           -0.44767514125441277,
           -0.5037405476332122,
           -0.5801621949129481,
           -0.6815256553694367,
           -0.7963012471744562,
           -0.6412466467894551,
           -0.6603741673042898,
           -1.1125142541921298,
           -1.7652704467142133,
           -2.1655701374379177,
           -2.633954282866351,
           -2.9590087235470905,
           -3.5326794581988565,
           -3.645752630751744,
           -3.3365864717742673,
           -2.5991297643916855,
           -1.7255200630501875
          ],
          [
           -0.3937733271784205,
           -0.0030683783976251933,
           0.20699099585728453,
           0.38541757089016415,
           0.7370303667734257,
           0.3118733768906954,
           -0.5011735633487692,
           -0.6865332243940859,
           -0.35400181578568046,
           -0.08790102749159834,
           0.2014300801647877,
           -0.20764560207863492,
           -0.6083804642250229,
           -0.8008132769819862,
           -0.4931285760974521,
           -0.5564153101080909,
           -1.0675416794109647,
           -1.1780974234391342,
           -1.272229807299624,
           -1.8929931215215938,
           -2.414800304580959,
           -2.972768066931308,
           -3.2404645691659892,
           -3.533926757122803,
           -3.6320072930916254,
           -3.461864832734528
          ],
          [
           -0.586261048053002,
           -0.6111373659499899,
           -0.20865399624713782,
           -0.025872909376534525,
           0.4316289524680188,
           0.6984517217801118,
           0.4012887363090385,
           0.07081157198200838,
           0.38621310820248267,
           0.3227901372040989,
           0.5426397790296924,
           0.15828436897304587,
           -0.24100655387559622,
           -0.44486428605704076,
           -0.19856124947462322,
           -0.15454630230825944,
           -1.0227198855370259,
           -1.2520843768037668,
           -1.1598550521260678,
           -1.3523163072377478,
           -1.625659353054461,
           -1.9564982572831318,
           -2.175330368975612,
           -2.6008649129517005,
           -2.858839547662231,
           -3.032224595306647
          ],
          [
           -0.35094299880558705,
           -0.5568184788390464,
           -0.5026381150627928,
           -0.46937001712107307,
           -0.21865940775850562,
           0.28695312918335525,
           0.35975832602505764,
           0.04590038920133688,
           0.4878087630977621,
           0.43610943175942074,
           0.831988419712695,
           0.6549341968080729,
           0.18836528752384496,
           0.013235599704318535,
           -0.02402120886721526,
           0.45251246036871695,
           0.028226045425648327,
           -0.47970358746603614,
           -0.9974416940765365,
           -1.2121758848174313,
           -0.9910322516291284,
           -0.86196351582976,
           -1.085502863406748,
           -1.4595646515120748,
           -1.721183362038396,
           -1.972442048420113
          ],
          [
           -0.475376828947901,
           -0.2434588798814209,
           -0.24401671413411813,
           -0.3982273156561532,
           -0.38317893154474575,
           0.12245525216912934,
           0.3031383192303917,
           0.09238616357514351,
           0.5355907906729431,
           0.7452841440966564,
           1.1734761960997329,
           1.204278834481818,
           0.7539816190844424,
           0.6752034822448298,
           0.8827014264528852,
           1.5502543390628347,
           1.292236698052123,
           0.7233970826723382,
           -0.3029977791200473,
           -1.0693448465675661,
           -1.189083913046704,
           -1.2579186919715106,
           -1.3530721001783643,
           -1.260251253459875,
           -1.0811423495676142,
           -0.948128093962645
          ],
          [
           -0.7758378357117807,
           -0.49686410221095756,
           -0.22016001657299755,
           -0.06789054336766331,
           -0.24679410505110116,
           -0.15052357314778808,
           0.04412170749434596,
           0.027708135774414888,
           0.514435390169877,
           0.776110802177753,
           1.0136853752893498,
           1.186156427133532,
           1.1211157913533678,
           1.0643229799326235,
           1.2055942074117287,
           1.4978151747724693,
           1.070417088734522,
           0.701741144911532,
           0.17514500586850024,
           0.015673917015227024,
           -0.06938384261056518,
           -0.48917098481561383,
           -0.9638042125889612,
           -1.0893171337208103,
           -1.0333648328814322,
           -0.674490798940919
          ],
          [
           -0.9177244042478763,
           -0.7265442354539751,
           -0.4766683115599968,
           -0.12128699552064748,
           0.06359132172364068,
           0.10383438208871376,
           -0.04922180751862926,
           -0.17589328854887293,
           0.3257522285483285,
           0.5015718318333358,
           0.7348961869889419,
           1.1878033213859502,
           1.2870846474206892,
           1.1104620857194314,
           1.2452369333623963,
           1.231566816990668,
           0.5741880129435559,
           0.2842534268685938,
           0.1484704805334125,
           0.49399271178563287,
           0.4104268114205143,
           0.0581869572466871,
           -0.2475139945650796,
           -0.5321058740235125,
           -0.8363903667282491,
           -0.8957576526622633
          ],
          [
           -0.8643527043269806,
           -0.6757834202018199,
           -0.504613715798148,
           -0.41255495785873314,
           -0.23268047555179977,
           0.16314179875030665,
           0.2522697781967642,
           -0.04538394431447579,
           0.128260849664102,
           0.1358229441308475,
           0.4330217266355856,
           1.1036367643369662,
           1.06219771420033,
           0.8783195442162941,
           0.9029850605756684,
           0.6052511881558795,
           0.11610612095922435,
           0.3189112867239876,
           0.496130134261769,
           0.7100646029552096,
           0.4495422427194451,
           0.17354788577805658,
           0.0548936995884709,
           0.04590996258240887,
           0.032871882247693884,
           -0.1867446795812504
          ],
          [
           -0.7552863329870961,
           -0.5749255400549211,
           -0.45421922406615955,
           -0.4468514072389072,
           -0.5367145780581941,
           -0.3949408763424331,
           -0.02766005667606597,
           -0.08862660016426993,
           -0.044055903198563784,
           -0.44978832273057345,
           -0.07873062297598044,
           0.8854796139696632,
           0.745234233100736,
           1.039245159509645,
           0.8097623485387555,
           0.061950146931640804,
           -0.26172828407437626,
           0.2806084654474753,
           0.6270227768964038,
           0.689190026633713,
           0.4614646902853874,
           0.390109352511834,
           0.4935759688825472,
           0.576434268745339,
           0.5653954682750884,
           0.37031591459417534
          ],
          [
           -0.6566314110621869,
           -0.4835683821059775,
           -0.42481695082406573,
           -0.3588457993549075,
           -0.35554819969072826,
           -0.3329216279682342,
           -0.11895930829397205,
           -0.345173379598042,
           -0.20187263534555083,
           -0.7528749188182564,
           -0.3705848072229988,
           0.7401383639990764,
           0.49987051129661686,
           1.3435394154898725,
           0.8775943774643011,
           0.0696042215749566,
           0.060633750891246674,
           0.5076980332325856,
           0.6776072299133444,
           0.509504576222934,
           0.29917054118486697,
           0.17772794814859327,
           0.13900871669923986,
           0.10288602948681735,
           -0.08910946951908172,
           -0.34446677679285315
          ],
          [
           -0.544775892812406,
           -0.39624199067226307,
           -0.36735258377167856,
           -0.28798290870831544,
           -0.21919742923377789,
           -0.16305437942999368,
           -0.08153466296752998,
           -0.494788051640325,
           -0.25257581983952593,
           -0.7363930784555844,
           -0.3996869256983452,
           0.5763044528820518,
           0.1778432496149671,
           0.7615988941484642,
           -0.19361720329588716,
           -0.8102773190226009,
           -0.5110652584676529,
           -0.16325594017687967,
           -0.10083878735057106,
           -0.3247989617549042,
           -0.3854757518374999,
           -0.3221312348804468,
           -0.23452130995455,
           -0.22341868458042807,
           -0.3713650996350119,
           -0.5581452125739683
          ],
          [
           -0.4383336124038302,
           -0.3043436847856701,
           -0.289276635948379,
           -0.2584409187215127,
           -0.23723293260169803,
           -0.182408189644086,
           -0.0969355623814745,
           -0.4353220642149014,
           -0.09673321979180727,
           -0.5594204418302704,
           -0.3330907665633325,
           0.2922783440309342,
           -0.17771171901928967,
           0.059202891711686134,
           -0.9598918586645234,
           -1.2005782592676726,
           -0.7125082779063033,
           -0.3621072756060473,
           -0.3292215886324065,
           -0.47956376201658285,
           -0.4503524296378964,
           -0.3298658629815597,
           -0.21031208464831103,
           -0.21188381900532077,
           -0.3468671762057499,
           -0.47222531106065185
          ],
          [
           -0.38336807396562933,
           -0.2967702093975745,
           -0.26449952596305615,
           -0.25668646920579347,
           -0.22713031602173905,
           -0.16152614522972314,
           0.039582112621175725,
           -0.14140142842996317,
           0.18752108205910833,
           -0.19983291346732673,
           -0.11089244987491176,
           -0.024143754992375754,
           -0.5012420236933203,
           -0.4528313992148203,
           -1.1915918449017804,
           -1.0885540762484498,
           -0.5836760650041756,
           -0.26424112105696207,
           -0.3146840278855891,
           -0.3810555003268398,
           -0.3421223239603283,
           -0.26152163271229584,
           -0.22711377326386434,
           -0.2650900341634013,
           -0.3569843724743606,
           -0.4101959320964633
          ],
          [
           -0.3082479861335828,
           -0.27048278673011933,
           -0.2610412258251257,
           -0.2333327629936096,
           -0.15435071324282418,
           -0.13942311772948052,
           0.0798633618455371,
           0.07849093936103269,
           0.3761306064334595,
           0.16162502039508453,
           0.19556383602041172,
           -0.07475633537281545,
           -0.5135895337940805,
           -0.706378472445507,
           -1.3011035060496212,
           -0.971280849975783,
           -0.44758252020958117,
           -0.2106578670002554,
           -0.3254171895982401,
           -0.3257495413978879,
           -0.2469292587998786,
           -0.21875610985432486,
           -0.25461883186479595,
           -0.3168445040653114,
           -0.31702772162766785,
           -0.32203797787701066
          ],
          [
           -0.3057520133501454,
           -0.28931422578940774,
           -0.27112507924409157,
           -0.22332121689637152,
           -0.17394703181871202,
           -0.23569248453386699,
           -0.167116610747926,
           -0.05732626192792312,
           0.3123452482432775,
           0.3937334564175097,
           0.44189924014204274,
           0.0762204887488569,
           -0.3949107329356669,
           -0.6635822014178755,
           -1.1961149620177896,
           -0.7427344446702392,
           -0.31139347333726275,
           -0.2843089198049437,
           -0.39550923682902495,
           -0.3389301777805767,
           -0.24197827765546837,
           -0.24891427538167288,
           -0.2747374177136407,
           -0.34723175785470933,
           -0.293308244088611,
           -0.23421250851273845
          ],
          [
           -0.3020345800335823,
           -0.26931831531983663,
           -0.21955857657509847,
           -0.17097254972192966,
           -0.1938919540640171,
           -0.2700289115484476,
           -0.3100211412869757,
           -0.12442275536788894,
           0.21217561842367638,
           0.4242655509763933,
           0.30157021390849803,
           0.055371065624655214,
           -0.22502024320321662,
           -0.25060375107087673,
           -0.6072211009105025,
           -0.19914077502810085,
           -0.1594080038698651,
           -0.3793122711602236,
           -0.40555862153898026,
           -0.3385969527881216,
           -0.3117618193278663,
           -0.34703645324151694,
           -0.31003225768730847,
           -0.3096753475030787,
           -0.23185227950376297,
           -0.20633466065520534
          ]
         ]
        },
        {
         "coloraxis": "coloraxis",
         "hovertemplate": "x: %{x}<br>y: %{y}<br>color: %{z}<extra></extra>",
         "name": "8",
         "type": "heatmap",
         "xaxis": "x9",
         "yaxis": "y9",
         "z": [
          [
           2.2474157830896213,
           1.9054845922227988,
           1.5747522252320914,
           1.1602371400331326,
           0.5224615360768448,
           -0.04573181812039473,
           -0.25432213961344896,
           -0.37700853360855496,
           -0.4527229484946837,
           -0.6291974576035814,
           -0.805693515773227,
           -0.9205215485707388,
           -0.9228253501123433,
           -0.9791609400822321,
           -0.9992356415678398,
           -0.9033202467041335,
           -0.6955097155242327,
           -0.5700558340107955,
           -0.6300215800228959,
           -0.6405254877695887,
           -0.4207638308816192,
           -0.13073561112969956,
           0.08442192929315878,
           0.10874467004834559,
           0.09271897616865549,
           0.09948131598785043
          ],
          [
           1.579024061140765,
           1.160631926139211,
           0.9365703885376089,
           0.7535836131198792,
           0.22677723473153283,
           -0.3840535798519292,
           -0.7672525614227763,
           -1.2113679500169123,
           -1.291442281047275,
           -1.2992779761947797,
           -1.2793479102451921,
           -1.384529681113555,
           -1.2725829613794524,
           -1.1509832246949556,
           -0.9625995917125862,
           -0.7600419992862527,
           -0.6467733765011173,
           -0.8253481815550762,
           -0.8768157811710388,
           -0.6023331052981249,
           -0.3164012450357221,
           -0.19471159919159964,
           -0.12950168721216465,
           -0.07343268623339055,
           -0.10358079895469169,
           -0.1982305190888105
          ],
          [
           0.7405713004749217,
           0.4059251235223443,
           0.31060164576956645,
           0.16146779601609834,
           -0.07244131981817697,
           -0.16810386618868164,
           -0.3713146791717441,
           -1.1263574924868365,
           -1.3460956643626796,
           -1.2013863032186225,
           -1.3029114627319311,
           -1.5694812895803525,
           -1.8183807863740773,
           -1.9605093275536134,
           -1.6578199307621238,
           -1.1951373731627026,
           -1.1872221141751977,
           -1.2723248558592255,
           -0.9168886907739451,
           -0.47876099466717215,
           -0.3650130929760643,
           -0.4388424904865901,
           -0.3733485329593193,
           -0.26231347364197455,
           -0.34879230830504965,
           -0.4622650938670163
          ],
          [
           -0.05921048229426262,
           -0.12043787020886071,
           -0.18502865425194095,
           -0.3730395441404533,
           -0.20766932131905952,
           0.1870479975236206,
           0.04427033688034404,
           -0.9484289938149195,
           -1.006577090235821,
           -0.4509276304231535,
           -0.806765166595304,
           -1.2068964178334551,
           -1.5989587455531442,
           -2.1496918422482407,
           -2.2503638102292203,
           -1.7761693370539906,
           -1.7905596856351604,
           -1.5721348139954745,
           -0.993300975321129,
           -0.672730472360003,
           -0.643868262697989,
           -0.5582045091009168,
           -0.39019923782062665,
           -0.39555808265495873,
           -0.534675133300041,
           -0.6715835679469748
          ],
          [
           -1.1802792410187117,
           -1.19231953861353,
           -1.4349074038113252,
           -1.6057133435182331,
           -1.384863774895232,
           -0.7950610126251425,
           -0.5101230428085416,
           -0.9188743991123502,
           -0.602525276482782,
           0.18387023635830652,
           -0.08547056993399987,
           -0.27463939628028833,
           -0.4290028945167682,
           -1.064942974908009,
           -1.5732944213594264,
           -1.4218448622395323,
           -1.4525738972132065,
           -1.022863469445475,
           -0.6726515675611007,
           -0.6860917817476238,
           -0.6275899409292427,
           -0.3583051075503576,
           -0.335913223054865,
           -0.6022314113056645,
           -0.8248093253802802,
           -0.9384598660401955
          ],
          [
           -1.5232880234556918,
           -1.8423349984120738,
           -2.176170266293466,
           -2.3789149688981617,
           -2.264167801905708,
           -1.5284887184731346,
           -0.9849314057101088,
           -0.9860830631306978,
           -0.48382998245222353,
           0.10531392700548786,
           -0.12246654342633606,
           0.023130618307146855,
           0.42625612613800007,
           -0.09538513780407254,
           -0.6393971416454483,
           -0.5326248043924003,
           -0.45335883804508953,
           0.024367843015173307,
           0.22151791071202825,
           -0.11239757850732651,
           -0.2725007742647809,
           -0.31061392537131943,
           -0.6069354320009256,
           -0.8871436729313658,
           -0.9781887354401699,
           -1.0225438238231257
          ],
          [
           -0.8040535408287293,
           -1.158029874169207,
           -1.418683108429888,
           -1.544198013015248,
           -1.41639828657998,
           -0.9393928761234025,
           -0.6992044577022437,
           -0.6562557176381068,
           -0.40771565058288345,
           -0.06477499277555793,
           -0.36559142133092076,
           -0.4323467867104891,
           0.23621207537338368,
           0.14199311734162995,
           -0.07378299565031138,
           -0.054393010435835276,
           0.09871869090901786,
           0.647018806098518,
           0.929010365094453,
           0.3427221579391672,
           -0.16044933516331447,
           -0.5708680772691793,
           -0.809337496238586,
           -0.8721720921715996,
           -0.958946278677643,
           -1.1337315516350772
          ],
          [
           0.03071168624127507,
           -0.19262946594975702,
           -0.34188450827948735,
           -0.5044165683152355,
           -0.48447311102467877,
           -0.38105662579915645,
           -0.4142328796629519,
           -0.28796944211055686,
           -0.00234938952489977,
           0.30384869735787173,
           0.06477483943875045,
           -0.23229281032675486,
           0.3805263531234177,
           0.6266066114485445,
           0.5218482931240256,
           -0.1667772856960023,
           -0.8772339126626727,
           -0.359098250171262,
           0.3582099090692729,
           -0.19873575242408434,
           -0.7849227757765962,
           -0.972846217633293,
           -0.86501874242263,
           -0.8973711835298147,
           -1.0757679244824976,
           -1.2205292793649616
          ],
          [
           0.7823879555006594,
           0.6021313928300196,
           0.6418436296514147,
           0.4649239140796028,
           0.21839512526895027,
           -0.011387339414282494,
           -0.13229004613320022,
           -0.005509575304097958,
           0.3466376719897421,
           0.3980171158795947,
           0.03634262389310078,
           -0.2552361617120177,
           0.31164175118772003,
           0.8222938214293891,
           0.9421082691981317,
           0.1476425731337095,
           -1.3229985893012743,
           -1.498649326360276,
           -0.8608172822783724,
           -1.4378040315601248,
           -2.1327255733126043,
           -1.990201109157507,
           -1.5504442416847266,
           -1.38333724029654,
           -1.3434352765181434,
           -1.2595404209478724
          ],
          [
           0.9984684642661001,
           1.005432376551223,
           1.2627047830113058,
           1.3934069131070688,
           1.3013640385593563,
           0.9368353878394473,
           0.6148372894005891,
           0.5910849546721633,
           0.6562230523544503,
           0.5144096642685627,
           0.15252303279769214,
           0.04582061483271921,
           0.41788095049526525,
           0.6541117308834756,
           0.9952475203995488,
           0.6335222635424207,
           -0.9005186955260776,
           -1.4534591791950138,
           -1.1734779845523708,
           -1.8244606484550392,
           -2.6651744610651953,
           -2.9722156456446545,
           -2.870902188838289,
           -2.5410560395727333,
           -2.1077019054639203,
           -1.6509571635552625
          ],
          [
           0.8784548674205686,
           1.039372245414119,
           1.4014767306062446,
           1.764356618483907,
           1.9177761967779205,
           1.6775443575182152,
           1.3226227201876377,
           1.2193685645740684,
           1.3315250992202101,
           1.4166015501256526,
           1.0166322218936352,
           0.8817008351001325,
           0.814943297692414,
           0.5011507552778276,
           0.6834949031111852,
           0.7559991669680424,
           -0.5015069894247622,
           -1.3283659780537893,
           -1.1648709142208566,
           -1.377080541557343,
           -1.794747442232984,
           -2.4300359844501953,
           -3.0716825169163795,
           -3.247020411219413,
           -2.974320045659114,
           -2.452886898439215
          ],
          [
           0.3361440499557273,
           0.6739011169934928,
           1.0072302054254743,
           1.4185564319570176,
           1.738585947142663,
           1.6494454863778327,
           1.6186093697761028,
           1.8576677340368217,
           2.17394717832338,
           2.392122597994042,
           1.9070322036822644,
           1.6190766248135997,
           1.180503484330401,
           0.6789328372569259,
           0.7204567052226278,
           1.182772866080912,
           0.36844189876684613,
           -0.6359889829630264,
           -0.8593717604906539,
           -1.0031456793453857,
           -1.094612791459353,
           -1.445295356436964,
           -1.9795550525018972,
           -2.4678424032645077,
           -2.791667529412485,
           -2.713948351932491
          ],
          [
           -0.44475308695347265,
           -0.016686887349854074,
           0.36798797483146656,
           0.7690920826328911,
           1.2720892895752987,
           1.463204799191964,
           1.5654555545887807,
           2.0184959279565997,
           2.5053725567789304,
           2.66189947929652,
           2.1393444207168275,
           1.7223991498843008,
           1.1671720585490333,
           0.8464466074004529,
           0.9976796290408763,
           1.5403798879633002,
           1.0659058058753224,
           0.30128978646268295,
           0.13485075480373515,
           0.024792189030227063,
           -0.11317117181726855,
           -0.2944985910215965,
           -0.45909469530943064,
           -0.5973522858445212,
           -0.7173883999365951,
           -0.7085198968687612
          ],
          [
           -0.9439899333792428,
           -0.7192609149981994,
           -0.2933250327456104,
           0.15141264661733117,
           0.5626002024109644,
           0.8140928428766245,
           0.9511950631990103,
           1.2588814505940153,
           1.6390475494470738,
           1.979927759621908,
           1.8251883529398736,
           1.5584027814512067,
           0.9007900826874402,
           0.48910719446057377,
           0.5420357847166779,
           1.144637340277263,
           1.2691059433715612,
           1.3756269798169105,
           1.6853440847978578,
           1.9940077363324917,
           2.2988741993681194,
           2.469908041001718,
           2.2426629963031828,
           1.8093759747726543,
           1.622373016999024,
           1.5743973761919696
          ],
          [
           -1.1343059925752952,
           -1.0203942741662249,
           -0.7822688091991872,
           -0.507917816033882,
           -0.20697995902020452,
           0.03895659548753205,
           0.351836270218069,
           0.6523981946713424,
           0.7641790795630601,
           1.0519095280621964,
           1.2830761173867236,
           1.3054685508545132,
           0.6242585777772764,
           0.6374416994387047,
           1.186016662704619,
           2.0435015137120196,
           2.38840729496212,
           2.737873464165748,
           2.929421403805377,
           3.1060578394793508,
           3.438060137802868,
           3.8024548749583835,
           3.7598284700506954,
           3.0836499833695785,
           2.32523851390631,
           1.759687095496596
          ],
          [
           -1.1263790984021802,
           -1.0226909560329993,
           -0.8995647892411351,
           -0.8670134222922306,
           -0.7965224209509867,
           -0.6254983434443837,
           -0.16629967725870246,
           0.3138471290252666,
           0.21725017425165843,
           0.1260546184930848,
           0.352031891759151,
           0.492080698438967,
           0.08140677928445633,
           0.4613849034693647,
           1.0012169888094096,
           1.6191140016313579,
           1.9757455485989959,
           2.5402031610739315,
           2.5972562008875304,
           2.5668464781319487,
           2.7509289623968316,
           2.994728420400119,
           3.1105154258079657,
           2.925013580838667,
           2.5478959932879937,
           1.9627693442801903
          ],
          [
           -1.1196595763759507,
           -1.0059811076296188,
           -0.9570570910360379,
           -1.0009834786888157,
           -1.089124667712797,
           -1.2197535987249732,
           -0.9621465933922435,
           -0.31537957437244507,
           -0.30659124360581624,
           -0.6594172394317391,
           -0.5930922684872915,
           -0.4019451546390827,
           -0.4534461717050721,
           0.050258403727358014,
           0.32010655952095596,
           0.7215328187583789,
           1.0220338876528332,
           1.5253980429526786,
           1.5972468564196478,
           1.6477326497386815,
           1.7537096723852903,
           1.8601692698039476,
           1.9501050362402506,
           1.8700724054768711,
           1.6973758337928642,
           1.4094159410792348
          ],
          [
           -1.140586225165078,
           -1.0584149189417749,
           -1.057890542691048,
           -1.1384584313338257,
           -1.2197642378658817,
           -1.3915614461593986,
           -1.379192359961164,
           -0.8809262842306904,
           -0.9041195390603107,
           -1.2753588231986415,
           -1.1454234465147293,
           -0.8857819720905091,
           -0.7930251415936193,
           -0.26954880366858414,
           -0.1275474436776638,
           0.06237512143959878,
           0.3602595885425253,
           0.7535126453803527,
           0.6629632196225719,
           0.5796099293741417,
           0.5039058193242674,
           0.4562881409955664,
           0.48038085723926754,
           0.4276457336289548,
           0.29728827404515606,
           0.11702647131188654
          ],
          [
           -1.1320033014951767,
           -1.116735543616745,
           -1.1505893743495432,
           -1.237498762049787,
           -1.2999897577459716,
           -1.382859058637655,
           -1.400953982499999,
           -1.0462612925844879,
           -1.3035491749437362,
           -1.838825691154694,
           -1.7834317294284692,
           -1.432079853715745,
           -1.1035006836678252,
           -0.6807182489725874,
           -0.724601578884239,
           -0.7861067351917033,
           -0.5222211560591674,
           -0.2075835255592236,
           -0.37594171493006867,
           -0.6217093350482076,
           -0.7996063992676408,
           -0.753717894841119,
           -0.5489456668929259,
           -0.42507355713466255,
           -0.4788036419701738,
           -0.554949100997491
          ],
          [
           -1.1873631100213506,
           -1.208476877171916,
           -1.2558600965493858,
           -1.2932001282051422,
           -1.309239875957512,
           -1.3663350244205252,
           -1.4370634908970867,
           -1.2693769337773826,
           -1.7879614521644056,
           -2.2272956119569693,
           -2.0709970783311333,
           -1.7340370437576635,
           -1.3818959778775226,
           -1.065064881937736,
           -1.2315045352094296,
           -1.4283014301215176,
           -1.1074420008253434,
           -0.7727013325777912,
           -0.7916165116524811,
           -0.9620188132027279,
           -1.0501102844436025,
           -0.9806008887268642,
           -0.9012811202011308,
           -0.9787797587617451,
           -1.1172200327107573,
           -1.1801645061075916
          ],
          [
           -1.1893631252495476,
           -1.220483915934207,
           -1.2644198319821833,
           -1.277803140253455,
           -1.2752881358755876,
           -1.3307230788443407,
           -1.4916180379528965,
           -1.494174762960297,
           -2.102637714911406,
           -2.322402149954879,
           -2.021423591242322,
           -1.5806792032096428,
           -1.3713806087779516,
           -1.1545222270722517,
           -1.3514681006305993,
           -1.5198273968423652,
           -1.1679712640017146,
           -1.0202968932059577,
           -1.2538783397801387,
           -1.5587293159564832,
           -1.6345327442370379,
           -1.5505237439019304,
           -1.4370889616563658,
           -1.4960620127736128,
           -1.5462719044793611,
           -1.481141204763416
          ],
          [
           -1.0599408615671115,
           -1.1326385853905787,
           -1.2252984388862131,
           -1.237822981932023,
           -1.2414776368715834,
           -1.274811649034381,
           -1.4770839230753057,
           -1.5008860606441417,
           -1.994763182257181,
           -2.074900324036388,
           -1.803176311913094,
           -1.17120317029501,
           -1.0577854115493177,
           -0.9988031931836976,
           -1.3157398665685223,
           -1.3672816506352201,
           -1.072997910454466,
           -1.1563724136756446,
           -1.4819090075198642,
           -1.7307512956300461,
           -1.716362862509325,
           -1.5986783043476982,
           -1.4515886264558662,
           -1.4633338862843406,
           -1.4804246177773825,
           -1.4031616149218928
          ],
          [
           -1.0385813766759553,
           -1.150358267604567,
           -1.2173433468657417,
           -1.2231274297427703,
           -1.2365593493191214,
           -1.2587655779863816,
           -1.379447130522204,
           -1.2832873910486178,
           -1.6241189065706338,
           -1.6249723943194798,
           -1.4154215050573435,
           -0.7069961985972211,
           -0.7663643328118057,
           -0.7439316275234746,
           -1.114144617174321,
           -1.1050770138939894,
           -0.9915692153840014,
           -1.240779081440784,
           -1.4976240390383329,
           -1.5941818356248938,
           -1.5544527080160198,
           -1.483694959856745,
           -1.4030439415873497,
           -1.4191403211725149,
           -1.4318694495178494,
           -1.3732164028497946
          ],
          [
           -1.0888311454493607,
           -1.1984538070347932,
           -1.2510556595668612,
           -1.2583540376563327,
           -1.2768937297261416,
           -1.3142039550583882,
           -1.2521143443857756,
           -1.0146372202340967,
           -1.1824454025411768,
           -1.1120458802917486,
           -0.8211319849039371,
           -0.2214369311825543,
           -0.5047054522041723,
           -0.46875985901024675,
           -0.8803243881560665,
           -0.9205003798214904,
           -0.9519842242374994,
           -1.2620308611764186,
           -1.4821543645657738,
           -1.5024637748526992,
           -1.4495592889520128,
           -1.4388923052377796,
           -1.4020981736394589,
           -1.4032376637945574,
           -1.4015181009192559,
           -1.376447159754017
          ],
          [
           -1.1779338445153997,
           -1.2568448206992522,
           -1.327517682804677,
           -1.3567579139028774,
           -1.418189046756419,
           -1.4951327379717403,
           -1.3256593526138725,
           -0.9811192741951449,
           -0.8930454548469022,
           -0.6574670486923252,
           -0.3033691351207072,
           -0.019019197219413142,
           -0.4005629458452052,
           -0.31594125710047316,
           -0.7030811543591611,
           -0.8338399558173546,
           -0.9498043051008331,
           -1.2816247095031468,
           -1.4587175510376686,
           -1.4482410854080048,
           -1.426145526288996,
           -1.4510333388887415,
           -1.4349485252115712,
           -1.4434602371164527,
           -1.411282795142105,
           -1.399957207972607
          ],
          [
           -1.2577500152498418,
           -1.335930240864353,
           -1.3920940395981547,
           -1.4196023100080093,
           -1.5266276158314434,
           -1.577878211034661,
           -1.3283047080285575,
           -0.9929783017169684,
           -0.7645974115161577,
           -0.5924460182673514,
           -0.3937041727179963,
           -0.31185731641330516,
           -0.5778203317370934,
           -0.344245706685885,
           -0.5637777454892031,
           -0.6949131114092715,
           -0.9110203022986174,
           -1.2663766527768732,
           -1.4214589495240781,
           -1.4386036090889305,
           -1.4901780857938998,
           -1.5396319019123823,
           -1.5215613078418684,
           -1.5258421366022028,
           -1.49494057354237,
           -1.5070261259574766
          ]
         ]
        },
        {
         "coloraxis": "coloraxis",
         "hovertemplate": "x: %{x}<br>y: %{y}<br>color: %{z}<extra></extra>",
         "name": "9",
         "type": "heatmap",
         "xaxis": "x10",
         "yaxis": "y10",
         "z": [
          [
           -1.1912584466420428,
           -0.5433896476084811,
           0.35915606046126153,
           0.7529838652583319,
           1.1398000649743967,
           0.8035953831401174,
           -0.045015682796619494,
           -0.6314194265513083,
           -0.245937098133847,
           0.6112802166976395,
           1.4723180314083182,
           1.3467038589310798,
           0.9348378306354292,
           0.8245033572823766,
           0.7974899945944736,
           0.9044294758093538,
           1.1238275291730608,
           1.441565974605736,
           1.6094966674238473,
           1.632163847666581,
           1.4851005418490337,
           1.1615359170116275,
           0.9102580625462862,
           0.4534833105419883,
           0.12509715863159543,
           0.13370886809935068
          ],
          [
           -1.6902196762570822,
           -0.4775829078812116,
           0.2892136171678005,
           0.6797905088065467,
           1.6982130916196234,
           1.6041166505151954,
           0.8765511160721711,
           -0.04735617428601735,
           -0.17809777384295433,
           0.3940407336307729,
           0.7325718930451587,
           0.5070154222644537,
           0.26325559064179394,
           0.8140081723294131,
           1.2634502847065494,
           1.2095267051639538,
           1.1458554836860815,
           1.21095939889744,
           1.198220047861097,
           1.1976218762252835,
           0.986828993614403,
           0.6920238234445444,
           0.47848088064369837,
           0.13240003349648344,
           -0.05765546372529651,
           0.06771428310273342
          ],
          [
           -1.1766189227209018,
           0.052992071911112215,
           0.9107138797198925,
           1.1767837264745622,
           1.8655174917982515,
           2.26312234620662,
           1.9915204658875716,
           0.4447790361349387,
           0.011611775022322024,
           0.5495259659830622,
           0.3648699633007076,
           -0.008155464631904419,
           -0.5471983540877673,
           0.07680669061342449,
           1.0437884828195068,
           1.0976268345207907,
           0.6991416247927279,
           0.3639314172308436,
           0.7291069461442449,
           1.2256721150235583,
           1.0508362382370833,
           0.4475809177810283,
           -0.028550047833916126,
           -0.27574549918834135,
           -0.15540416275610502,
           0.11877786229077414
          ],
          [
           -0.25842581646749363,
           1.0752192730159602,
           1.6333696112939928,
           1.218984057096893,
           1.6938478529493342,
           3.032552595289519,
           2.777759594245357,
           0.5592841338971415,
           0.6606901271842525,
           1.7268733537859582,
           1.0604834707221429,
           -0.10158923427005095,
           -1.086000612504701,
           -0.2556242731508974,
           0.9606786120752507,
           0.8345706002347605,
           0.2249616516006805,
           -0.3523440383381312,
           0.603894655645796,
           1.679854732648534,
           1.3939913041728262,
           0.19413992457085694,
           -0.4164729486571709,
           -0.3424524559997827,
           -0.015494117928544937,
           0.1639109711669473
          ],
          [
           0.42039379354130557,
           1.326820156797051,
           1.2350451973198322,
           0.5914533844904224,
           1.000816643549528,
           2.5621038937246006,
           2.717494591854511,
           1.2326951818021294,
           2.1996467863892604,
           3.5802940306340933,
           2.5393498365917218,
           0.33003477745977705,
           -1.2082039308027879,
           0.4614138558654556,
           2.015233793512975,
           1.3172319465151867,
           0.2636439962241526,
           -0.37874760807565433,
           0.7995542170443228,
           1.8634349532057648,
           1.0079295061890714,
           -0.3309975909617423,
           -0.6125044750034979,
           -0.2840588355538224,
           0.006390907138843938,
           0.30378440446135924
          ],
          [
           1.0983193103484068,
           0.9802795287761031,
           0.5299719100179026,
           0.10227782879705172,
           0.24813266075527685,
           1.5252762936209483,
           2.274314271874344,
           1.5566357174697383,
           3.0156166889144145,
           3.9646339201434,
           2.704605564570968,
           0.6266343439164147,
           -0.8842972735781084,
           1.651532297368025,
           3.4221660831002687,
           2.5361996917594936,
           0.945045311734601,
           -0.34073277480489905,
           0.5038934410697531,
           1.3788145110704784,
           0.23367980307276925,
           -0.7870052761574734,
           -0.7294829605184397,
           -0.29365687988212164,
           0.15805035101374887,
           0.5251424352069483
          ],
          [
           2.243759235314737,
           1.3988738145224286,
           0.5805226982474287,
           0.4147056131936232,
           0.6783027410624154,
           1.5771578196450178,
           1.9259444740198148,
           1.227527517231408,
           2.425629492422597,
           2.745213927369613,
           1.6448169550499085,
           0.33272826032247943,
           -0.5504246998145207,
           2.7001633489292036,
           4.59278937924872,
           3.102180244524746,
           1.1853550916528475,
           -0.7541665388829782,
           -0.7546333089194032,
           0.0740508342594729,
           -0.5514014175113656,
           -0.8567115743200232,
           -0.551514295450748,
           0.08990340693822074,
           0.572836041604629,
           0.48764511380209036
          ],
          [
           3.431413350749388,
           2.528883702559857,
           1.5785541619679517,
           1.3716289436111975,
           1.6710983392694967,
           2.076686313472905,
           1.7283353814716396,
           0.9148783498547393,
           1.6962425456106618,
           1.8935070676086934,
           1.1586210776825465,
           0.36219053670336404,
           -0.5269493080419542,
           2.617211177480177,
           4.685599375796449,
           2.487360325417551,
           0.03543005787124853,
           -1.992113364654862,
           -2.1080786178308597,
           -1.4174943557725355,
           -1.4378437923870693,
           -0.6503629748223211,
           0.3804485662673866,
           0.9206260895437594,
           0.7169302049331332,
           0.354638733370929
          ],
          [
           3.5929852275258085,
           2.8823183175317864,
           2.389255679833242,
           2.203528061004432,
           2.096436042571254,
           1.7351827833763147,
           0.9015699549698718,
           0.3539327101326975,
           1.2744252898843,
           1.6821085089735113,
           1.4320443009523993,
           1.2189284354006251,
           -0.45284354788941183,
           1.5144122395990158,
           3.7106508040932376,
           2.303434418939376,
           -0.13010965466465496,
           -2.9466309632462915,
           -2.900592195848075,
           -1.9929194372580397,
           -2.0079378434395045,
           -1.0134886908331753,
           0.6369138833032527,
           1.239283793890418,
           0.8686340048401704,
           0.6717524187677304
          ],
          [
           2.98314716772264,
           2.6168793974970264,
           2.3391187478230395,
           2.3122796107279178,
           2.151072865840153,
           1.355793497758889,
           0.2627052378116095,
           0.29072041106096147,
           1.5492057781166468,
           2.035820086798475,
           2.2141038413189102,
           2.221254992414382,
           0.06511534785434503,
           0.62034477578556,
           2.578336648521051,
           2.2604312806683766,
           0.9751574868614711,
           -2.0908638973569778,
           -2.3208706321819976,
           -1.4861397425953462,
           -1.6564481120361552,
           -1.0704145145336295,
           -0.17071172284723668,
           0.16238823846563621,
           0.3788340822239044,
           0.7805221280920772
          ],
          [
           2.154504039242255,
           2.3956927223648634,
           2.4475487598033125,
           2.2569321628270536,
           1.9852262566861678,
           1.5572658123446337,
           0.8250435568125457,
           0.9869792311810524,
           1.8435744581810565,
           2.2250086468126495,
           2.6625725839487315,
           2.898068637974064,
           1.266321225091004,
           0.564178106562274,
           1.6005305243045362,
           2.353655362167085,
           2.4602684648383923,
           0.0012284380294449448,
           -0.4647335221453891,
           -0.23509537363522448,
           -0.6990103720849025,
           -0.34874330364117767,
           -0.43370219994831183,
           -0.5560463066326441,
           -0.5281240549333036,
           -0.22122085759700771
          ],
          [
           1.3280054881538577,
           1.6228116058999844,
           2.2184690593937924,
           2.2301228290814445,
           2.004033476855071,
           1.8880906471955052,
           1.6660626343908413,
           1.8345351808398003,
           1.8504889343724007,
           1.7229628273793827,
           2.2007149229638157,
           3.195096244078571,
           2.439959346094114,
           0.8916403681573657,
           1.222735254076356,
           2.760192371434767,
           3.7046041587387,
           1.970897945229102,
           1.3710009002825565,
           1.4115116596606812,
           0.6238187208765015,
           0.26799647532179294,
           -0.279127704007874,
           -0.37406632185128685,
           -0.7755859324754585,
           -0.8893299021705926
          ],
          [
           1.1565926855843822,
           0.8510594613483747,
           1.0727179025680837,
           1.2592549511752427,
           1.6291502134138924,
           1.9784878573818334,
           1.918751494139587,
           1.9924419963798505,
           1.4502606431526714,
           0.9592940306582064,
           1.151848628833073,
           2.6702079344509158,
           2.7714002352180125,
           1.327477405584247,
           1.2506363014181268,
           2.2960417522047343,
           3.8042731557540432,
           3.0404978945449144,
           2.4732710616883935,
           2.615389066195363,
           2.1514605666083746,
           1.919841809412989,
           0.9991906174605439,
           0.40669801300923836,
           -0.2276572380381502,
           -0.4377008244080617
          ],
          [
           0.957422560619897,
           0.5846508571270608,
           0.5403570371160425,
           0.33841313190563377,
           0.4676119298039842,
           1.1457644896992831,
           1.7797321470902143,
           1.8003869399863826,
           0.5748535099509242,
           0.033733919973839344,
           0.2301914181379724,
           2.1034040649853063,
           3.0360246437486738,
           2.1700542829286493,
           1.4735670379936516,
           1.7168795995250985,
           3.349313186679901,
           3.759735954490102,
           3.4741516998884396,
           3.1884760130321737,
           2.7646211939155876,
           3.221436201603739,
           3.0217170939388076,
           2.115333344720502,
           1.0683149816652087,
           0.38769604016708387
          ],
          [
           0.531898804629517,
           0.4397531778085511,
           0.7170825809127729,
           0.4771996514394553,
           -0.1438864308534611,
           -0.013575340829638072,
           1.2105304390271274,
           1.690363851673247,
           0.09601867578645573,
           -0.8662838304346167,
           -0.5260185019403346,
           1.8941902273123987,
           3.2133421892856586,
           3.11996053514702,
           2.4192940015174567,
           2.2859742442018516,
           3.286336597578108,
           4.06493652788092,
           4.4593245669336055,
           3.452267216325678,
           2.197817935676064,
           1.886387835083244,
           1.9335553509760923,
           1.8970143326028333,
           1.3936689814680743,
           0.8480467881496412
          ],
          [
           0.40917986425454483,
           0.2843488198562363,
           0.5929525116852241,
           0.6643329926404695,
           0.025045631596631757,
           -0.39797326331414073,
           0.5079651529150722,
           1.269020635312555,
           -0.10187707859344397,
           -1.2276290187488872,
           -1.1204083377448986,
           1.6793287945208273,
           3.6126859016994777,
           4.127002507721751,
           3.1772181533739454,
           1.8306763696465094,
           1.8622122250931445,
           2.5988962932678668,
           3.6912046650561976,
           2.8438259134236588,
           1.3061042582466424,
           0.28085377777947473,
           -0.13116547551359592,
           -0.026408959633588802,
           -0.057079625703973624,
           -0.17660957527054966
          ],
          [
           0.3287236813439043,
           0.21959066115349846,
           0.3171310756137381,
           0.42012240222750996,
           0.18952340045641125,
           -0.04296044023640311,
           0.7061695350104165,
           1.2331974350891226,
           -0.4157747355908007,
           -1.6657209050530044,
           -1.2512024765544236,
           2.0342452015971837,
           4.385934812022519,
           4.781893358090674,
           2.849682670834426,
           0.36150855073878985,
           -0.16198342367830165,
           0.5954568917828792,
           1.9232364566293256,
           1.2246207712071828,
           -0.21949427721750692,
           -1.149328015053666,
           -1.348920917256161,
           -1.1462466045275628,
           -1.1881839258110833,
           -1.336420365937431
          ],
          [
           0.20542439299531046,
           0.17854360627221733,
           0.18683724220391673,
           0.16796157581638615,
           0.1571180464991877,
           0.20136244945224235,
           1.099341308936761,
           1.5818324661694472,
           -0.38739390064061696,
           -1.9329062866482838,
           -1.4031022817203125,
           2.123941843767696,
           4.665623247466554,
           4.51175766214283,
           1.504128860324077,
           -1.8324761385591684,
           -2.397496045820422,
           -0.7862788644195565,
           0.9002568037795741,
           0.3266201188569272,
           -0.8521839464387152,
           -1.4532545677419368,
           -1.226877236407181,
           -0.5935185151789183,
           -0.31362870062617365,
           -0.3056755778550079
          ],
          [
           0.23213483828162174,
           0.17578417665530166,
           0.13505472459729906,
           0.1293881373976722,
           0.30569101246992214,
           0.3557509939303287,
           0.882766000017782,
           1.251224605197811,
           -0.3902910573392796,
           -1.4013812577834561,
           -1.0850815479710132,
           1.9257851089892482,
           4.489988234458916,
           3.689292654443222,
           0.2886911631540461,
           -2.8675605000817384,
           -2.906512399227115,
           -0.647353977001334,
           1.3051310981729896,
           1.0609159164615052,
           0.08041172267259067,
           -0.2426005208810743,
           0.08751118611491804,
           0.5804227141018992,
           0.7162865437833844,
           0.5784525297034299
          ],
          [
           0.2920549942871006,
           0.19133366222085513,
           0.18248233558205418,
           0.23308890790384718,
           0.4963412391586432,
           0.5496647744384776,
           0.7907183981279414,
           0.8697696193030471,
           -0.7883011464656967,
           -1.0115461469294162,
           -0.16799354331666072,
           2.3460467671289114,
           4.212686239812929,
           2.707694655473689,
           -0.19704742794436625,
           -2.433380595039009,
           -1.942359102524359,
           0.35566814433292054,
           1.747054400387818,
           1.2268256149791186,
           0.40853708713701864,
           0.38867082590018837,
           0.663777609040012,
           0.6349332689425466,
           0.5403885180530217,
           0.4269424955832073
          ],
          [
           0.36994202538594123,
           0.3012600553861122,
           0.3150264391136502,
           0.3634011511693088,
           0.5536126778698705,
           0.569878260775144,
           0.7597407932166139,
           0.7416114345078443,
           -0.7938559230936207,
           -0.4317229963221564,
           0.7497136576332536,
           2.8588706840480183,
           3.797864345264374,
           1.5974544814671385,
           -0.7814393342386178,
           -2.1922584668673135,
           -1.246800655349384,
           0.8413224640190619,
           1.5714430050993315,
           0.5257621226376844,
           0.039098505040010334,
           0.2127392348981263,
           0.41537999372757844,
           0.3111924683478052,
           0.21670610896150733,
           0.2696711958331509
          ],
          [
           0.4766516802865905,
           0.45047070341138046,
           0.3985718187260584,
           0.4320299000340512,
           0.5690976830683101,
           0.489522197779783,
           0.572187325112099,
           0.8105702651832197,
           -0.201700154877538,
           0.7255358027868638,
           1.633613393582381,
           3.0645517327430145,
           3.1990896826637076,
           0.3543831730438184,
           -1.4555619373066442,
           -2.067729997802067,
           -0.7567253980964087,
           0.7546617129902053,
           0.979851059200024,
           0.1270629739613881,
           0.10008787913921091,
           0.36340217031752614,
           0.4687204522926158,
           0.34780596894739013,
           0.305055878258622,
           0.3874706614981131
          ],
          [
           0.5573569357163406,
           0.45029418265181337,
           0.39053480613177094,
           0.495772954511477,
           0.5536130738115168,
           0.40302080865875484,
           0.5285317795612655,
           1.204941436275059,
           0.7203197551604059,
           2.079742896679634,
           2.541928655607975,
           3.0271225485443556,
           2.2279044689975884,
           -0.9915492024324332,
           -1.9887163759983881,
           -1.7750390393811935,
           -0.3078945267512604,
           0.6138557366112005,
           0.5107188298551371,
           0.1608876649270301,
           0.41609073810681313,
           0.5534897571579729,
           0.4796979070103638,
           0.3201765019144901,
           0.38186222650939705,
           0.5080764008061611
          ],
          [
           0.5350075528570565,
           0.38878295120819534,
           0.38232734634160603,
           0.45789734993805037,
           0.4282395852719573,
           0.3136340256976862,
           0.626655106638979,
           1.6001345744576305,
           1.4511283109902948,
           3.0287600216699344,
           3.0228343768877695,
           2.6365649711213006,
           1.033248048623149,
           -2.059603026472815,
           -2.2474503537150747,
           -1.498403798496939,
           -0.0642714324556698,
           0.6008721330864325,
           0.33774819964666686,
           0.29145979413674294,
           0.5908072776323872,
           0.5407239931970845,
           0.31353332898550934,
           0.2310575651588671,
           0.41193882910784496,
           0.5675523001750342
          ],
          [
           0.4424690972635311,
           0.33622922450216236,
           0.38051998717732016,
           0.4020068281849678,
           0.3711599363351396,
           0.297979312640263,
           0.6160621824669238,
           1.612104161236822,
           1.5909814014781691,
           3.1168052646131255,
           2.813622142778791,
           1.9972457114538078,
           0.02485551292021526,
           -2.5131366065452756,
           -1.9263778948313424,
           -1.0402213796780182,
           0.2113586764347366,
           0.6296406896130394,
           0.17628481687044195,
           0.38001754028962687,
           0.5466929490559342,
           0.33018853623391103,
           0.0759139288749765,
           0.12399541377346124,
           0.3783134938171459,
           0.5376300136896934
          ],
          [
           0.41466979017457706,
           0.30607056134241994,
           0.41751917790148857,
           0.5159849633263406,
           0.45064948408053623,
           0.3498202620419574,
           0.6097127778528991,
           1.3439904301891343,
           1.213168491146941,
           2.4426001485425104,
           2.0992743816439434,
           1.313678064530036,
           -0.6418686734693425,
           -2.3509068425094726,
           -1.104068131977721,
           -0.2845660274076406,
           0.5656229335072945,
           0.5273673780261185,
           0.08749858518333775,
           0.39440010878409426,
           0.3720567120785695,
           0.018576771851376295,
           -0.12288494576649811,
           0.0666316988862552,
           0.38238995985607005,
           0.5185746637068815
          ]
         ]
        }
       ],
       "layout": {
        "annotations": [
         {
          "font": {},
          "showarrow": false,
          "text": "facet_col=0",
          "x": 0.04100000000000001,
          "xanchor": "center",
          "xref": "paper",
          "y": 1,
          "yanchor": "bottom",
          "yref": "paper"
         },
         {
          "font": {},
          "showarrow": false,
          "text": "facet_col=1",
          "x": 0.14300000000000004,
          "xanchor": "center",
          "xref": "paper",
          "y": 1,
          "yanchor": "bottom",
          "yref": "paper"
         },
         {
          "font": {},
          "showarrow": false,
          "text": "facet_col=2",
          "x": 0.24500000000000005,
          "xanchor": "center",
          "xref": "paper",
          "y": 1,
          "yanchor": "bottom",
          "yref": "paper"
         },
         {
          "font": {},
          "showarrow": false,
          "text": "facet_col=3",
          "x": 0.3470000000000001,
          "xanchor": "center",
          "xref": "paper",
          "y": 1,
          "yanchor": "bottom",
          "yref": "paper"
         },
         {
          "font": {},
          "showarrow": false,
          "text": "facet_col=4",
          "x": 0.44900000000000007,
          "xanchor": "center",
          "xref": "paper",
          "y": 1,
          "yanchor": "bottom",
          "yref": "paper"
         },
         {
          "font": {},
          "showarrow": false,
          "text": "facet_col=5",
          "x": 0.5510000000000002,
          "xanchor": "center",
          "xref": "paper",
          "y": 1,
          "yanchor": "bottom",
          "yref": "paper"
         },
         {
          "font": {},
          "showarrow": false,
          "text": "facet_col=6",
          "x": 0.6530000000000001,
          "xanchor": "center",
          "xref": "paper",
          "y": 1,
          "yanchor": "bottom",
          "yref": "paper"
         },
         {
          "font": {},
          "showarrow": false,
          "text": "facet_col=7",
          "x": 0.7550000000000001,
          "xanchor": "center",
          "xref": "paper",
          "y": 1,
          "yanchor": "bottom",
          "yref": "paper"
         },
         {
          "font": {},
          "showarrow": false,
          "text": "facet_col=8",
          "x": 0.8570000000000002,
          "xanchor": "center",
          "xref": "paper",
          "y": 1,
          "yanchor": "bottom",
          "yref": "paper"
         },
         {
          "font": {},
          "showarrow": false,
          "text": "facet_col=9",
          "x": 0.9590000000000002,
          "xanchor": "center",
          "xref": "paper",
          "y": 1,
          "yanchor": "bottom",
          "yref": "paper"
         }
        ],
        "coloraxis": {
         "colorscale": [
          [
           0,
           "#0d0887"
          ],
          [
           0.1111111111111111,
           "#46039f"
          ],
          [
           0.2222222222222222,
           "#7201a8"
          ],
          [
           0.3333333333333333,
           "#9c179e"
          ],
          [
           0.4444444444444444,
           "#bd3786"
          ],
          [
           0.5555555555555556,
           "#d8576b"
          ],
          [
           0.6666666666666666,
           "#ed7953"
          ],
          [
           0.7777777777777778,
           "#fb9f3a"
          ],
          [
           0.8888888888888888,
           "#fdca26"
          ],
          [
           1,
           "#f0f921"
          ]
         ]
        },
        "margin": {
         "t": 60
        },
        "template": {
         "data": {
          "bar": [
           {
            "error_x": {
             "color": "#2a3f5f"
            },
            "error_y": {
             "color": "#2a3f5f"
            },
            "marker": {
             "line": {
              "color": "#E5ECF6",
              "width": 0.5
             },
             "pattern": {
              "fillmode": "overlay",
              "size": 10,
              "solidity": 0.2
             }
            },
            "type": "bar"
           }
          ],
          "barpolar": [
           {
            "marker": {
             "line": {
              "color": "#E5ECF6",
              "width": 0.5
             },
             "pattern": {
              "fillmode": "overlay",
              "size": 10,
              "solidity": 0.2
             }
            },
            "type": "barpolar"
           }
          ],
          "carpet": [
           {
            "aaxis": {
             "endlinecolor": "#2a3f5f",
             "gridcolor": "white",
             "linecolor": "white",
             "minorgridcolor": "white",
             "startlinecolor": "#2a3f5f"
            },
            "baxis": {
             "endlinecolor": "#2a3f5f",
             "gridcolor": "white",
             "linecolor": "white",
             "minorgridcolor": "white",
             "startlinecolor": "#2a3f5f"
            },
            "type": "carpet"
           }
          ],
          "choropleth": [
           {
            "colorbar": {
             "outlinewidth": 0,
             "ticks": ""
            },
            "type": "choropleth"
           }
          ],
          "contour": [
           {
            "colorbar": {
             "outlinewidth": 0,
             "ticks": ""
            },
            "colorscale": [
             [
              0,
              "#0d0887"
             ],
             [
              0.1111111111111111,
              "#46039f"
             ],
             [
              0.2222222222222222,
              "#7201a8"
             ],
             [
              0.3333333333333333,
              "#9c179e"
             ],
             [
              0.4444444444444444,
              "#bd3786"
             ],
             [
              0.5555555555555556,
              "#d8576b"
             ],
             [
              0.6666666666666666,
              "#ed7953"
             ],
             [
              0.7777777777777778,
              "#fb9f3a"
             ],
             [
              0.8888888888888888,
              "#fdca26"
             ],
             [
              1,
              "#f0f921"
             ]
            ],
            "type": "contour"
           }
          ],
          "contourcarpet": [
           {
            "colorbar": {
             "outlinewidth": 0,
             "ticks": ""
            },
            "type": "contourcarpet"
           }
          ],
          "heatmap": [
           {
            "colorbar": {
             "outlinewidth": 0,
             "ticks": ""
            },
            "colorscale": [
             [
              0,
              "#0d0887"
             ],
             [
              0.1111111111111111,
              "#46039f"
             ],
             [
              0.2222222222222222,
              "#7201a8"
             ],
             [
              0.3333333333333333,
              "#9c179e"
             ],
             [
              0.4444444444444444,
              "#bd3786"
             ],
             [
              0.5555555555555556,
              "#d8576b"
             ],
             [
              0.6666666666666666,
              "#ed7953"
             ],
             [
              0.7777777777777778,
              "#fb9f3a"
             ],
             [
              0.8888888888888888,
              "#fdca26"
             ],
             [
              1,
              "#f0f921"
             ]
            ],
            "type": "heatmap"
           }
          ],
          "heatmapgl": [
           {
            "colorbar": {
             "outlinewidth": 0,
             "ticks": ""
            },
            "colorscale": [
             [
              0,
              "#0d0887"
             ],
             [
              0.1111111111111111,
              "#46039f"
             ],
             [
              0.2222222222222222,
              "#7201a8"
             ],
             [
              0.3333333333333333,
              "#9c179e"
             ],
             [
              0.4444444444444444,
              "#bd3786"
             ],
             [
              0.5555555555555556,
              "#d8576b"
             ],
             [
              0.6666666666666666,
              "#ed7953"
             ],
             [
              0.7777777777777778,
              "#fb9f3a"
             ],
             [
              0.8888888888888888,
              "#fdca26"
             ],
             [
              1,
              "#f0f921"
             ]
            ],
            "type": "heatmapgl"
           }
          ],
          "histogram": [
           {
            "marker": {
             "pattern": {
              "fillmode": "overlay",
              "size": 10,
              "solidity": 0.2
             }
            },
            "type": "histogram"
           }
          ],
          "histogram2d": [
           {
            "colorbar": {
             "outlinewidth": 0,
             "ticks": ""
            },
            "colorscale": [
             [
              0,
              "#0d0887"
             ],
             [
              0.1111111111111111,
              "#46039f"
             ],
             [
              0.2222222222222222,
              "#7201a8"
             ],
             [
              0.3333333333333333,
              "#9c179e"
             ],
             [
              0.4444444444444444,
              "#bd3786"
             ],
             [
              0.5555555555555556,
              "#d8576b"
             ],
             [
              0.6666666666666666,
              "#ed7953"
             ],
             [
              0.7777777777777778,
              "#fb9f3a"
             ],
             [
              0.8888888888888888,
              "#fdca26"
             ],
             [
              1,
              "#f0f921"
             ]
            ],
            "type": "histogram2d"
           }
          ],
          "histogram2dcontour": [
           {
            "colorbar": {
             "outlinewidth": 0,
             "ticks": ""
            },
            "colorscale": [
             [
              0,
              "#0d0887"
             ],
             [
              0.1111111111111111,
              "#46039f"
             ],
             [
              0.2222222222222222,
              "#7201a8"
             ],
             [
              0.3333333333333333,
              "#9c179e"
             ],
             [
              0.4444444444444444,
              "#bd3786"
             ],
             [
              0.5555555555555556,
              "#d8576b"
             ],
             [
              0.6666666666666666,
              "#ed7953"
             ],
             [
              0.7777777777777778,
              "#fb9f3a"
             ],
             [
              0.8888888888888888,
              "#fdca26"
             ],
             [
              1,
              "#f0f921"
             ]
            ],
            "type": "histogram2dcontour"
           }
          ],
          "mesh3d": [
           {
            "colorbar": {
             "outlinewidth": 0,
             "ticks": ""
            },
            "type": "mesh3d"
           }
          ],
          "parcoords": [
           {
            "line": {
             "colorbar": {
              "outlinewidth": 0,
              "ticks": ""
             }
            },
            "type": "parcoords"
           }
          ],
          "pie": [
           {
            "automargin": true,
            "type": "pie"
           }
          ],
          "scatter": [
           {
            "fillpattern": {
             "fillmode": "overlay",
             "size": 10,
             "solidity": 0.2
            },
            "type": "scatter"
           }
          ],
          "scatter3d": [
           {
            "line": {
             "colorbar": {
              "outlinewidth": 0,
              "ticks": ""
             }
            },
            "marker": {
             "colorbar": {
              "outlinewidth": 0,
              "ticks": ""
             }
            },
            "type": "scatter3d"
           }
          ],
          "scattercarpet": [
           {
            "marker": {
             "colorbar": {
              "outlinewidth": 0,
              "ticks": ""
             }
            },
            "type": "scattercarpet"
           }
          ],
          "scattergeo": [
           {
            "marker": {
             "colorbar": {
              "outlinewidth": 0,
              "ticks": ""
             }
            },
            "type": "scattergeo"
           }
          ],
          "scattergl": [
           {
            "marker": {
             "colorbar": {
              "outlinewidth": 0,
              "ticks": ""
             }
            },
            "type": "scattergl"
           }
          ],
          "scattermapbox": [
           {
            "marker": {
             "colorbar": {
              "outlinewidth": 0,
              "ticks": ""
             }
            },
            "type": "scattermapbox"
           }
          ],
          "scatterpolar": [
           {
            "marker": {
             "colorbar": {
              "outlinewidth": 0,
              "ticks": ""
             }
            },
            "type": "scatterpolar"
           }
          ],
          "scatterpolargl": [
           {
            "marker": {
             "colorbar": {
              "outlinewidth": 0,
              "ticks": ""
             }
            },
            "type": "scatterpolargl"
           }
          ],
          "scatterternary": [
           {
            "marker": {
             "colorbar": {
              "outlinewidth": 0,
              "ticks": ""
             }
            },
            "type": "scatterternary"
           }
          ],
          "surface": [
           {
            "colorbar": {
             "outlinewidth": 0,
             "ticks": ""
            },
            "colorscale": [
             [
              0,
              "#0d0887"
             ],
             [
              0.1111111111111111,
              "#46039f"
             ],
             [
              0.2222222222222222,
              "#7201a8"
             ],
             [
              0.3333333333333333,
              "#9c179e"
             ],
             [
              0.4444444444444444,
              "#bd3786"
             ],
             [
              0.5555555555555556,
              "#d8576b"
             ],
             [
              0.6666666666666666,
              "#ed7953"
             ],
             [
              0.7777777777777778,
              "#fb9f3a"
             ],
             [
              0.8888888888888888,
              "#fdca26"
             ],
             [
              1,
              "#f0f921"
             ]
            ],
            "type": "surface"
           }
          ],
          "table": [
           {
            "cells": {
             "fill": {
              "color": "#EBF0F8"
             },
             "line": {
              "color": "white"
             }
            },
            "header": {
             "fill": {
              "color": "#C8D4E3"
             },
             "line": {
              "color": "white"
             }
            },
            "type": "table"
           }
          ]
         },
         "layout": {
          "annotationdefaults": {
           "arrowcolor": "#2a3f5f",
           "arrowhead": 0,
           "arrowwidth": 1
          },
          "autotypenumbers": "strict",
          "coloraxis": {
           "colorbar": {
            "outlinewidth": 0,
            "ticks": ""
           }
          },
          "colorscale": {
           "diverging": [
            [
             0,
             "#8e0152"
            ],
            [
             0.1,
             "#c51b7d"
            ],
            [
             0.2,
             "#de77ae"
            ],
            [
             0.3,
             "#f1b6da"
            ],
            [
             0.4,
             "#fde0ef"
            ],
            [
             0.5,
             "#f7f7f7"
            ],
            [
             0.6,
             "#e6f5d0"
            ],
            [
             0.7,
             "#b8e186"
            ],
            [
             0.8,
             "#7fbc41"
            ],
            [
             0.9,
             "#4d9221"
            ],
            [
             1,
             "#276419"
            ]
           ],
           "sequential": [
            [
             0,
             "#0d0887"
            ],
            [
             0.1111111111111111,
             "#46039f"
            ],
            [
             0.2222222222222222,
             "#7201a8"
            ],
            [
             0.3333333333333333,
             "#9c179e"
            ],
            [
             0.4444444444444444,
             "#bd3786"
            ],
            [
             0.5555555555555556,
             "#d8576b"
            ],
            [
             0.6666666666666666,
             "#ed7953"
            ],
            [
             0.7777777777777778,
             "#fb9f3a"
            ],
            [
             0.8888888888888888,
             "#fdca26"
            ],
            [
             1,
             "#f0f921"
            ]
           ],
           "sequentialminus": [
            [
             0,
             "#0d0887"
            ],
            [
             0.1111111111111111,
             "#46039f"
            ],
            [
             0.2222222222222222,
             "#7201a8"
            ],
            [
             0.3333333333333333,
             "#9c179e"
            ],
            [
             0.4444444444444444,
             "#bd3786"
            ],
            [
             0.5555555555555556,
             "#d8576b"
            ],
            [
             0.6666666666666666,
             "#ed7953"
            ],
            [
             0.7777777777777778,
             "#fb9f3a"
            ],
            [
             0.8888888888888888,
             "#fdca26"
            ],
            [
             1,
             "#f0f921"
            ]
           ]
          },
          "colorway": [
           "#636efa",
           "#EF553B",
           "#00cc96",
           "#ab63fa",
           "#FFA15A",
           "#19d3f3",
           "#FF6692",
           "#B6E880",
           "#FF97FF",
           "#FECB52"
          ],
          "font": {
           "color": "#2a3f5f"
          },
          "geo": {
           "bgcolor": "white",
           "lakecolor": "white",
           "landcolor": "#E5ECF6",
           "showlakes": true,
           "showland": true,
           "subunitcolor": "white"
          },
          "hoverlabel": {
           "align": "left"
          },
          "hovermode": "closest",
          "mapbox": {
           "style": "light"
          },
          "paper_bgcolor": "white",
          "plot_bgcolor": "#E5ECF6",
          "polar": {
           "angularaxis": {
            "gridcolor": "white",
            "linecolor": "white",
            "ticks": ""
           },
           "bgcolor": "#E5ECF6",
           "radialaxis": {
            "gridcolor": "white",
            "linecolor": "white",
            "ticks": ""
           }
          },
          "scene": {
           "xaxis": {
            "backgroundcolor": "#E5ECF6",
            "gridcolor": "white",
            "gridwidth": 2,
            "linecolor": "white",
            "showbackground": true,
            "ticks": "",
            "zerolinecolor": "white"
           },
           "yaxis": {
            "backgroundcolor": "#E5ECF6",
            "gridcolor": "white",
            "gridwidth": 2,
            "linecolor": "white",
            "showbackground": true,
            "ticks": "",
            "zerolinecolor": "white"
           },
           "zaxis": {
            "backgroundcolor": "#E5ECF6",
            "gridcolor": "white",
            "gridwidth": 2,
            "linecolor": "white",
            "showbackground": true,
            "ticks": "",
            "zerolinecolor": "white"
           }
          },
          "shapedefaults": {
           "line": {
            "color": "#2a3f5f"
           }
          },
          "ternary": {
           "aaxis": {
            "gridcolor": "white",
            "linecolor": "white",
            "ticks": ""
           },
           "baxis": {
            "gridcolor": "white",
            "linecolor": "white",
            "ticks": ""
           },
           "bgcolor": "#E5ECF6",
           "caxis": {
            "gridcolor": "white",
            "linecolor": "white",
            "ticks": ""
           }
          },
          "title": {
           "x": 0.05
          },
          "xaxis": {
           "automargin": true,
           "gridcolor": "white",
           "linecolor": "white",
           "ticks": "",
           "title": {
            "standoff": 15
           },
           "zerolinecolor": "white",
           "zerolinewidth": 2
          },
          "yaxis": {
           "automargin": true,
           "gridcolor": "white",
           "linecolor": "white",
           "ticks": "",
           "title": {
            "standoff": 15
           },
           "zerolinecolor": "white",
           "zerolinewidth": 2
          }
         }
        },
        "xaxis": {
         "anchor": "y",
         "constrain": "domain",
         "domain": [
          0,
          0.08200000000000002
         ],
         "scaleanchor": "y"
        },
        "xaxis10": {
         "anchor": "y10",
         "domain": [
          0.9180000000000001,
          1
         ],
         "matches": "x"
        },
        "xaxis2": {
         "anchor": "y2",
         "domain": [
          0.10200000000000002,
          0.18400000000000005
         ],
         "matches": "x"
        },
        "xaxis3": {
         "anchor": "y3",
         "domain": [
          0.20400000000000004,
          0.28600000000000003
         ],
         "matches": "x"
        },
        "xaxis4": {
         "anchor": "y4",
         "domain": [
          0.30600000000000005,
          0.38800000000000007
         ],
         "matches": "x"
        },
        "xaxis5": {
         "anchor": "y5",
         "domain": [
          0.4080000000000001,
          0.4900000000000001
         ],
         "matches": "x"
        },
        "xaxis6": {
         "anchor": "y6",
         "domain": [
          0.5100000000000001,
          0.5920000000000001
         ],
         "matches": "x"
        },
        "xaxis7": {
         "anchor": "y7",
         "domain": [
          0.6120000000000001,
          0.6940000000000002
         ],
         "matches": "x"
        },
        "xaxis8": {
         "anchor": "y8",
         "domain": [
          0.7140000000000001,
          0.796
         ],
         "matches": "x"
        },
        "xaxis9": {
         "anchor": "y9",
         "domain": [
          0.8160000000000002,
          0.8980000000000001
         ],
         "matches": "x"
        },
        "yaxis": {
         "anchor": "x",
         "autorange": "reversed",
         "constrain": "domain",
         "domain": [
          0,
          1
         ]
        },
        "yaxis10": {
         "anchor": "x10",
         "domain": [
          0,
          1
         ],
         "matches": "y",
         "showticklabels": false
        },
        "yaxis2": {
         "anchor": "x2",
         "domain": [
          0,
          1
         ],
         "matches": "y",
         "showticklabels": false
        },
        "yaxis3": {
         "anchor": "x3",
         "domain": [
          0,
          1
         ],
         "matches": "y",
         "showticklabels": false
        },
        "yaxis4": {
         "anchor": "x4",
         "domain": [
          0,
          1
         ],
         "matches": "y",
         "showticklabels": false
        },
        "yaxis5": {
         "anchor": "x5",
         "domain": [
          0,
          1
         ],
         "matches": "y",
         "showticklabels": false
        },
        "yaxis6": {
         "anchor": "x6",
         "domain": [
          0,
          1
         ],
         "matches": "y",
         "showticklabels": false
        },
        "yaxis7": {
         "anchor": "x7",
         "domain": [
          0,
          1
         ],
         "matches": "y",
         "showticklabels": false
        },
        "yaxis8": {
         "anchor": "x8",
         "domain": [
          0,
          1
         ],
         "matches": "y",
         "showticklabels": false
        },
        "yaxis9": {
         "anchor": "x9",
         "domain": [
          0,
          1
         ],
         "matches": "y",
         "showticklabels": false
        }
       }
      }
     },
     "metadata": {},
     "output_type": "display_data"
    }
   ],
   "source": [
    "img = x_train[[5673]]\n",
    "convs = nn[1].forward(nn[0].forward(img))\n",
    "convs.shape\n",
    "px.imshow(convs[0], facet_col=2)"
   ]
  },
  {
   "cell_type": "code",
   "execution_count": null,
   "metadata": {},
   "outputs": [
    {
     "data": {
      "text/plain": [
       "array([[0.34507341, 0.10575061, 0.0240158 , 0.03988019, 0.00964173,\n",
       "        0.02572158, 0.00364022, 0.04975087, 0.24413487, 0.15239071]])"
      ]
     },
     "execution_count": 54,
     "metadata": {},
     "output_type": "execute_result"
    }
   ],
   "source": [
    "reduce(lambda x, l: l.forward(x), nn, img) #.argmax(axis=1)"
   ]
  },
  {
   "cell_type": "code",
   "execution_count": null,
   "metadata": {},
   "outputs": [
    {
     "data": {
      "text/plain": [
       "array([1., 0., 0., 0., 0., 0., 0., 0., 0., 0.])"
      ]
     },
     "execution_count": 50,
     "metadata": {},
     "output_type": "execute_result"
    }
   ],
   "source": [
    "y_train[5673]"
   ]
  },
  {
   "cell_type": "code",
   "execution_count": null,
   "metadata": {},
   "outputs": [
    {
     "data": {
      "text/plain": [
       "[<layers.Convolutional at 0x7fc6a629ff80>,\n",
       " <layers.BatchNorm at 0x7fc6a629c860>,\n",
       " <layers.Relu at 0x7fc6a629d6d0>,\n",
       " <layers.MaxPool at 0x7fc6a629fef0>,\n",
       " <layers.Convolutional at 0x7fc6a629fbf0>,\n",
       " <layers.BatchNorm at 0x7fc6a660ef00>,\n",
       " <layers.Relu at 0x7fc6ac160ad0>,\n",
       " <layers.MaxPool at 0x7fc6a629c6b0>,\n",
       " <layers.Flatten at 0x7fc6a629fd10>,\n",
       " <layers.Linear at 0x7fc6a629fce0>,\n",
       " <layers.Relu at 0x7fc6ac45ffb0>,\n",
       " <layers.Linear at 0x7fc6a629d160>,\n",
       " <layers.Softmax at 0x7fc6a629c7d0>]"
      ]
     },
     "execution_count": 135,
     "metadata": {},
     "output_type": "execute_result"
    }
   ],
   "source": [
    "nn"
   ]
  },
  {
   "cell_type": "code",
   "execution_count": null,
   "metadata": {},
   "outputs": [],
   "source": []
  },
  {
   "cell_type": "code",
   "execution_count": 44,
   "metadata": {},
   "outputs": [
    {
     "data": {
      "application/vnd.plotly.v1+json": {
       "config": {
        "plotlyServerURL": "https://plot.ly"
       },
       "data": [
        {
         "coloraxis": "coloraxis",
         "hovertemplate": "x: %{x}<br>y: %{y}<br>color: %{z}<extra></extra>",
         "name": "0",
         "type": "heatmap",
         "xaxis": "x",
         "yaxis": "y",
         "z": [
          [
           0.20219686033300316,
           0.5398287686539478,
           0.19474665221675858,
           0.5540034730450456,
           0.504965136170485,
           0.3870781259384984,
           0.22871759456471077,
           0.09113369020128634,
           0.4681488573156883,
           0.5170277135298116,
           0.2881358029015919
          ],
          [
           0.1812616290459209,
           0.2765152399579938,
           0.4282057823761875,
           0.5226613665263158,
           0.6345703539947645,
           0.7242908199843476,
           0.8200529451179404,
           0.5040636527798967,
           0.8085879388808376,
           0.7218462553086532,
           0.20660019437729635
          ],
          [
           0.48679225909319895,
           0.4702066351360178,
           0.5022060657267339,
           0.8766554421100661,
           0.7212124581763535,
           0.5902820278188109,
           0.8559962295114195,
           0.590018615303348,
           0.47525511644865925,
           0.4537853751603714,
           0.22719452474941923
          ],
          [
           0.6138661412593069,
           0.6788459649258309,
           0.6554644755466315,
           0.832596568096538,
           0.8632137345127722,
           0.5402971378178661,
           0.8920622063424265,
           0.7319848369760389,
           0.46402222355931166,
           0.3071428634614221,
           0.23227948175756824
          ],
          [
           0.665012181191668,
           0.8413873099765234,
           0.8243304852428974,
           0.32606704242172346,
           0.7566832841255827,
           0.5070736691945705,
           0.831290641205222,
           0.6860696720964344,
           0.5591108289894501,
           0.4598127996824564,
           0.6803525271073154
          ],
          [
           0.2627307014385229,
           0.451322961489933,
           0.4296418275144307,
           0.4008552611067629,
           0.784164585117989,
           0.6022650638264844,
           0.23354108498255885,
           0.637214138542352,
           0.6632033899393579,
           0.7353021424261604,
           0.6536187489647535
          ],
          [
           0.1344025059615458,
           0.14019129232680108,
           0.1140934050916091,
           0.12838780588147153,
           0.2551370282873994,
           0.6058467530586208,
           0.1864682589607315,
           0.7544907202299083,
           0.8778928562363117,
           0.9254959558803684,
           0.9379659531846161
          ],
          [
           0.15408145191803488,
           0.1056406362373034,
           0.10721559757780381,
           0.06398167259081784,
           0.029866109516922968,
           0.20782622594598954,
           0.07707529558451641,
           0.4714568571268947,
           0.5047214255134873,
           0.4158715717064701,
           0.5690193212428297
          ],
          [
           0.11583510885638391,
           0.08566877408634013,
           0.08647973530934214,
           0.1898802134283673,
           0.16224581167516505,
           0.1015336988956735,
           0.3426645914235986,
           0.07470390751845282,
           0.21539631396026576,
           0.08143570542507718,
           0.14567305552435286
          ],
          [
           0.10049281929921662,
           0.14238943585910474,
           0.08643886854225091,
           0.21853634262143204,
           0.39005377827277543,
           0.29011609148408685,
           0.05423966747568174,
           0.23598695439745443,
           0.21954207212481827,
           0.08122377537388334,
           0.09366036060404079
          ],
          [
           0.09491151592764382,
           0.10097713824904636,
           0.09379561737498433,
           0.33035528150979443,
           0.49230071146345233,
           0.5523615390452997,
           0.3258052027868039,
           0.12649917513354442,
           0.07008452715044952,
           0.08674085157519233,
           0.14622046398167213
          ]
         ]
        },
        {
         "coloraxis": "coloraxis",
         "hovertemplate": "x: %{x}<br>y: %{y}<br>color: %{z}<extra></extra>",
         "name": "1",
         "type": "heatmap",
         "xaxis": "x2",
         "yaxis": "y2",
         "z": [
          [
           0.20010654126521843,
           0.5322621911822373,
           0.1899892629603941,
           0.5589993236856211,
           0.5215510571801006,
           0.41048250462623154,
           0.23056412343090762,
           0.08990633731430729,
           0.46044489883088585,
           0.49056550416199673,
           0.2398717408403482
          ],
          [
           0.18992985473518764,
           0.29298732270797984,
           0.4421597335849441,
           0.5367365242368923,
           0.6467140556127771,
           0.7484282281115492,
           0.8524189713752155,
           0.519235931507403,
           0.8262215009147493,
           0.7132403671431509,
           0.16559142717977815
          ],
          [
           0.4979481253304971,
           0.487557013732197,
           0.5280846607234221,
           0.9030787980747152,
           0.7429606646247832,
           0.618742777557893,
           0.8931837456601651,
           0.6079862297530723,
           0.5030071353975324,
           0.46736281656097495,
           0.2155442555958078
          ],
          [
           0.6303724266379324,
           0.6992509053091355,
           0.6845480324719307,
           0.8776773195313203,
           0.8913038790623593,
           0.5614607539084653,
           0.9158629698739637,
           0.754770150937303,
           0.47954936997883296,
           0.33520990217148133,
           0.24856510007883573
          ],
          [
           0.6666398300341838,
           0.8512078587342315,
           0.8483578670519504,
           0.3700307423560598,
           0.8027734080950905,
           0.521818436673484,
           0.8561775138815791,
           0.7213704563834373,
           0.5776750449142332,
           0.4855350633419359,
           0.7101630429484175
          ],
          [
           0.23501460239888755,
           0.4401306636193082,
           0.4351330335033643,
           0.43513599851033175,
           0.8209487107840998,
           0.6272668727182211,
           0.2611222547004959,
           0.6676788244379763,
           0.6866032082609944,
           0.759614575289423,
           0.6804365055008816
          ],
          [
           0.08935505335012393,
           0.1069345191599797,
           0.10612316471960537,
           0.14162851137279203,
           0.2774830770598903,
           0.6305192305877514,
           0.2076659576909049,
           0.7848628307313238,
           0.9108189691130583,
           0.9505378252367598,
           0.9634321089452111
          ],
          [
           0.1077951230573614,
           0.06705875370598978,
           0.07328965266291562,
           0.06493517753553976,
           0.047986441314778305,
           0.24174856009728715,
           0.11521694412173655,
           0.5326044048014753,
           0.5200954287629999,
           0.421241107044725,
           0.5697798495080599
          ],
          [
           0.06957486884002377,
           0.051119473063116365,
           0.05041391732764057,
           0.19212227598143625,
           0.18193480417455335,
           0.1571698241299954,
           0.37111361311405994,
           0.0793017035357303,
           0.20112355372380425,
           0.058933245973104134,
           0.10356852636290324
          ],
          [
           0.05703437818338619,
           0.10504382692945606,
           0.054982479948698294,
           0.22001675929689954,
           0.40719492932301027,
           0.32986472467584266,
           0.1017012335738405,
           0.2301956596200821,
           0.19822741886084674,
           0.0470764789683177,
           0.055498851796827994
          ],
          [
           0.05386849325934293,
           0.060243006933300106,
           0.07157570893756221,
           0.33055276283674667,
           0.49825429033881574,
           0.5639090993262685,
           0.3395613522430153,
           0.1130642847419288,
           0.03809890244217275,
           0.04860798660511902,
           0.10307888530491187
          ]
         ]
        },
        {
         "coloraxis": "coloraxis",
         "hovertemplate": "x: %{x}<br>y: %{y}<br>color: %{z}<extra></extra>",
         "name": "2",
         "type": "heatmap",
         "xaxis": "x3",
         "yaxis": "y3",
         "z": [
          [
           0.21292594346363858,
           0.5492170424389838,
           0.20969302648331356,
           0.579201083399147,
           0.5437187580618014,
           0.4483500088480213,
           0.2517969652770466,
           0.11265640170611683,
           0.4842950908338444,
           0.5226663423525478,
           0.2789175988405082
          ],
          [
           0.20794754827336187,
           0.3114141273333701,
           0.4501389878670504,
           0.5482935290560077,
           0.6533154195658765,
           0.758450746741853,
           0.8783419563119214,
           0.5331499177155348,
           0.8534687539089703,
           0.73800647451237,
           0.20118447290073013
          ],
          [
           0.5106017858365518,
           0.5003645991072121,
           0.5361513924427977,
           0.91331568360397,
           0.7542687794959747,
           0.6268821357793812,
           0.9080512233521544,
           0.6127343115562852,
           0.5101682787807861,
           0.4749184246338309,
           0.23450006912325252
          ],
          [
           0.6393077394736321,
           0.712365737651472,
           0.695001732313935,
           0.8929371547890668,
           0.9096658013384884,
           0.5761422529080069,
           0.928610546628873,
           0.7664411147944852,
           0.48712362148509714,
           0.34144305104232353,
           0.2589625275111799
          ],
          [
           0.684102387806688,
           0.8745888157471144,
           0.8713418930463461,
           0.3916533645626874,
           0.8278832311296342,
           0.5323706488333073,
           0.8765666430530609,
           0.741150013783188,
           0.587665029680599,
           0.48768168835053927,
           0.7133286666127976
          ],
          [
           0.2647558508456482,
           0.46196601542377025,
           0.45338261209257646,
           0.4560937068981629,
           0.8341205023690675,
           0.6367036831025448,
           0.2727995414350753,
           0.6759320777791299,
           0.6930738171457397,
           0.7652902859570074,
           0.6844334476295526
          ],
          [
           0.12418604705382126,
           0.13760861262871305,
           0.12161864075830121,
           0.16233573514865873,
           0.2814893997990652,
           0.6357959709507672,
           0.21813839605876484,
           0.793959609207045,
           0.9184872676003899,
           0.9572274255599721,
           0.9674969792782933
          ],
          [
           0.14270496313730394,
           0.0993978653561956,
           0.11051943276964069,
           0.08776641335591534,
           0.04893160962643079,
           0.24302060426944377,
           0.12526494502632826,
           0.5326539569239046,
           0.5251799296524878,
           0.4298695136536282,
           0.5808476514874904
          ],
          [
           0.10538330745889109,
           0.08031312196621526,
           0.08792905893952031,
           0.2028003811426787,
           0.17878396228371024,
           0.1599144811102686,
           0.3809846329203221,
           0.0949727217609138,
           0.22183392961470308,
           0.08366001017310709,
           0.13924273667816023
          ],
          [
           0.09143511352613438,
           0.1368801690184454,
           0.08893500597946259,
           0.23102570794896254,
           0.4066729436249168,
           0.332022187215722,
           0.11964971904833856,
           0.24168627473744175,
           0.22215912704677862,
           0.07883713820053223,
           0.0857627377389139
          ],
          [
           0.08691919141875006,
           0.09529405683138899,
           0.09711240029375309,
           0.3386251813738594,
           0.5016974209647896,
           0.56706484356095,
           0.3487270500589258,
           0.12969199045731938,
           0.06959656548420146,
           0.07998252713858023,
           0.1367602261737573
          ]
         ]
        },
        {
         "coloraxis": "coloraxis",
         "hovertemplate": "x: %{x}<br>y: %{y}<br>color: %{z}<extra></extra>",
         "name": "3",
         "type": "heatmap",
         "xaxis": "x4",
         "yaxis": "y4",
         "z": [
          [
           0.15526753445265512,
           0.7750351290208968,
           1,
           1,
           1,
           0.581901980736819,
           0.3577598566896781,
           0.8021990248668859,
           0.7420207894655046,
           0.8530527866430876,
           0.7018451643393301
          ],
          [
           0.7386256908379678,
           0.7850319536071428,
           1,
           1,
           1,
           1,
           0.8856562834951904,
           1,
           0.9265185705822411,
           0.5732599873323849,
           0.5026584924007433
          ],
          [
           1,
           1,
           1,
           1,
           1,
           1,
           0.8557352148434934,
           0.6963948636724474,
           0.08825336503100416,
           0,
           0.2308013374204527
          ],
          [
           1,
           1,
           1,
           0.9955085360663339,
           0.9768005120609277,
           1,
           0.6808234509945604,
           0.5776351583281937,
           0.23825219782857163,
           0,
           0.07729063024299823
          ],
          [
           0.7882876652444092,
           0.7860338581948028,
           1,
           1,
           1,
           1,
           0.9875274399694691,
           1,
           0.8649839851773029,
           0.4583340903902433,
           0.49316244399811815
          ],
          [
           0.2584461221898897,
           0.4277650490129908,
           0.34337610933024654,
           1,
           0.8072407907300457,
           1,
           1,
           1,
           1,
           0.950977394792985,
           0.6179315117466123
          ],
          [
           0.33085110150632524,
           0.32048588019429397,
           0,
           0.7119357636162481,
           0.25086097101067417,
           0.9503114819789457,
           1,
           1,
           0.621574485593178,
           0.7749197317854654,
           0.5563403791597433
          ],
          [
           0.462434086118038,
           0.7001693959384384,
           0.33927349794790174,
           0.8500474413219627,
           0.3376869061012327,
           0.792451480165742,
           1,
           0,
           0,
           0,
           0
          ],
          [
           0.4570041706783852,
           0.7637216531252198,
           0.843101279165177,
           0.9066520817057391,
           0.6331463822337337,
           1,
           0.8129982566180457,
           0.11157439749536019,
           0.23590482489151357,
           0.25720945945093976,
           0.40648534677549075
          ],
          [
           0.49656885699011777,
           0.8125589744881887,
           0.8668478834576686,
           1,
           1,
           1,
           0.968364434136273,
           0.5483006961948255,
           0.41915098228671244,
           0.41065056904654995,
           0.44029899280978807
          ],
          [
           0.4955038288928103,
           0.8188333217115454,
           0.8665513180421502,
           1,
           1,
           1,
           0.745489665427109,
           0.5006834512559267,
           0.3950192349110223,
           0.40859610887593506,
           0.49591188985050183
          ]
         ]
        },
        {
         "coloraxis": "coloraxis",
         "hovertemplate": "x: %{x}<br>y: %{y}<br>color: %{z}<extra></extra>",
         "name": "4",
         "type": "heatmap",
         "xaxis": "x5",
         "yaxis": "y5",
         "z": [
          [
           0.7831556224853797,
           0.7848317486514622,
           0.11330601013727039,
           0,
           0.2263506729396298,
           1,
           1,
           1,
           0.8585320795125649,
           0.8197216703511907,
           0.6255309753342043
          ],
          [
           1,
           1,
           0.5938231192726188,
           0,
           0,
           0,
           0.4047521785494961,
           0.35225935696665056,
           0,
           0.6327588873453724,
           0.5329418555522895
          ],
          [
           0,
           0,
           0.08560981201099988,
           0.43842512884105656,
           0.35679075217414047,
           0,
           0,
           0.29931543812173866,
           0.3971358247870732,
           1,
           0.9738556159168825
          ],
          [
           0,
           0.07323490353887115,
           0.09439149152184217,
           0.6495474283570571,
           0.9903901639584042,
           0.3811018409083826,
           0.8525126895919506,
           1,
           0.7127892715629676,
           1,
           1
          ],
          [
           0.6835299323142128,
           0.9399255968105429,
           0.9773366132729754,
           0.41117396729031086,
           0.43004159876949893,
           0,
           0.5098624426860545,
           0.19183259199200894,
           0.12807990870663355,
           0.20218020514370427,
           0.8692895114101569
          ],
          [
           0.8044217605171491,
           0.8757158963313918,
           0.671969325358028,
           0.4926825627833366,
           0.3489959833721467,
           0.36240780653752575,
           0.5189882393223428,
           0.4978523951522717,
           0.3396437378399143,
           0.30964028459854337,
           0.05563694751875604
          ],
          [
           0.74359203555447,
           1,
           1,
           1,
           0.28062021731638886,
           0.6515362977772949,
           0.14252091950963683,
           0.06648997235297908,
           0.04585043035559068,
           0.5231424566712124,
           0.5908245267873213
          ],
          [
           0.6352835090935949,
           0.5229623868874309,
           1,
           0.47202742553911836,
           0,
           0.4076655213208083,
           0.5875088530192851,
           0.08271807080328294,
           1,
           1,
           1
          ],
          [
           0.5828101090642216,
           0.2577225618643298,
           0.41187263439362254,
           0,
           0,
           0.3618451856609585,
           1,
           0.0958129189623316,
           0.8473231572725721,
           1,
           0.6507056978532146
          ],
          [
           0.38726408080880936,
           0.28761367506660607,
           0.3995901894047227,
           0,
           0,
           0,
           0.23262289386220344,
           0,
           0.47606341076521413,
           0.862725292428209,
           0.4604472058190187
          ],
          [
           0.4131226867537838,
           0.3357475179899099,
           0.15299989705963962,
           0,
           0,
           0,
           0,
           0,
           0.5391164584884132,
           0.5203240101734155,
           0.4812658123688354
          ]
         ]
        },
        {
         "coloraxis": "coloraxis",
         "hovertemplate": "x: %{x}<br>y: %{y}<br>color: %{z}<extra></extra>",
         "name": "5",
         "type": "heatmap",
         "xaxis": "x6",
         "yaxis": "y6",
         "z": [
          [
           0.1890948071527959,
           0.5255839975000253,
           0.1807081824140199,
           0.539696284453353,
           0.49005800428027374,
           0.3637046486544818,
           0.21537680754991564,
           0.07408991880762335,
           0.4491712903171354,
           0.49180243984878386,
           0.25498647531587293
          ],
          [
           0.16729875362957083,
           0.26173269049114656,
           0.4215145322669194,
           0.5158989153397241,
           0.630123075996239,
           0.7184224110105687,
           0.8086233956968608,
           0.49648245076795405,
           0.7881754674073242,
           0.7018250418273748,
           0.17592782042961577
          ],
          [
           0.48013936300622073,
           0.4638712017770408,
           0.4977089236100429,
           0.8721916555690774,
           0.7159852915463053,
           0.585093727337262,
           0.8485935647539445,
           0.5856904050961116,
           0.46503080476571557,
           0.4434951096807018,
           0.2085511415355572
          ],
          [
           0.6065099072796256,
           0.671725114378644,
           0.6497395324826059,
           0.8250773285637358,
           0.8564888044986426,
           0.5357906972711522,
           0.8883428541961453,
           0.727550306812336,
           0.4593905006646555,
           0.2994313887100686,
           0.2208518661780613
          ],
          [
           0.6509738538850223,
           0.8277336576145955,
           0.8122359639629992,
           0.3131670946424256,
           0.7418486531635371,
           0.5009118827419149,
           0.8211569718092667,
           0.6774172247039999,
           0.5552920560765217,
           0.4581225083162028,
           0.6786282257452325
          ],
          [
           0.23258597144813017,
           0.42906956471663,
           0.4091479574316566,
           0.37378597229132,
           0.7667156746397701,
           0.59248464415302,
           0.22493436243909598,
           0.6326281891955263,
           0.6612428743645292,
           0.7343584389046871,
           0.6527247380675489
          ],
          [
           0.10155933943671618,
           0.10668225652772474,
           0.092606115058525,
           0.09463959868153815,
           0.24057952903172725,
           0.5951016256001049,
           0.1758069381665555,
           0.7433234943528348,
           0.8697918802806507,
           0.9209386912796904,
           0.9341207626132664
          ],
          [
           0.12403201938027286,
           0.07480432252941857,
           0.06834957850007194,
           0.02732077988720362,
           0.018936229533485477,
           0.19577373144728896,
           0.056627882245073126,
           0.43456497560423624,
           0.4913653368121918,
           0.4063411846951758,
           0.5593836174582631
          ],
          [
           0.08512178278896898,
           0.058142121099845644,
           0.046635833751504,
           0.16781757136683736,
           0.15452676011364733,
           0.08275922585721568,
           0.3208493444449301,
           0.03927858209957573,
           0.19161868783121672,
           0.056945839812490955,
           0.1114797643600335
          ],
          [
           0.07026350776821501,
           0.11240830183887135,
           0.05166583208190675,
           0.20069464600917,
           0.38231702808812373,
           0.27379565675871953,
           0.0068738576046421945,
           0.2173167481363693,
           0.19223841633379865,
           0.047769138879686174,
           0.06616393362813643
          ],
          [
           0.06498272484645573,
           0.06763303533838384,
           0.06682915164360927,
           0.3195038311032614,
           0.48568616846344137,
           0.540553013325305,
           0.29640898013812916,
           0.10417621747705053,
           0.03465565547484689,
           0.05455294633095293,
           0.11686176644390707
          ]
         ]
        },
        {
         "coloraxis": "coloraxis",
         "hovertemplate": "x: %{x}<br>y: %{y}<br>color: %{z}<extra></extra>",
         "name": "6",
         "type": "heatmap",
         "xaxis": "x7",
         "yaxis": "y7",
         "z": [
          [
           0.24640441790795092,
           0.5909686431611528,
           0.24580386848014615,
           0.6052240701858274,
           0.5593852590300393,
           0.47672830865932625,
           0.2775690421887188,
           0.1489704313687454,
           0.5311709390294101,
           0.5935912395312425,
           0.38402535203099936
          ],
          [
           0.23293987388500184,
           0.33885559338706844,
           0.45864453038560254,
           0.5528679153805897,
           0.6539344918384887,
           0.7562899979809656,
           0.8756144659757596,
           0.5321561349634486,
           0.8768009005032096,
           0.7824603966186309,
           0.2939973351618312
          ],
          [
           0.5148772351495065,
           0.5004491918324796,
           0.530020019874581,
           0.9081773005149806,
           0.7504464060170698,
           0.6223395640228523,
           0.8979919455632971,
           0.6041666620322974,
           0.5063312450549227,
           0.48312780051939924,
           0.27880655976875746
          ],
          [
           0.6447523762762514,
           0.710144800004451,
           0.6845833938724089,
           0.8822359988763463,
           0.9046628268940373,
           0.5736728292091687,
           0.9252248893222326,
           0.7541398941397284,
           0.4797843189041029,
           0.3297252656415693,
           0.26418838829008034
          ],
          [
           0.719249133644121,
           0.8992086158426226,
           0.8764339048512941,
           0.390957241675707,
           0.8309999225739877,
           0.5366138371637513,
           0.8887142287106484,
           0.7327452924970043,
           0.5749469653205428,
           0.467442319428188,
           0.687836178203589
          ],
          [
           0.35352714433777815,
           0.5234578629018771,
           0.49624215373859687,
           0.49349467618118736,
           0.8576984600197047,
           0.6472556477527992,
           0.2790746220821313,
           0.6676674623846267,
           0.6760296065586671,
           0.7420389989337071,
           0.6580613784140306
          ],
          [
           0.22699709138802293,
           0.23687254505816252,
           0.17430859648409086,
           0.22330440671255022,
           0.3071625950325575,
           0.6499312447146719,
           0.22686703513179138,
           0.7997574422056065,
           0.9124811012793733,
           0.9429425954730923,
           0.9513236467667248
          ],
          [
           0.23824469290675213,
           0.19269414922844758,
           0.2130648830058451,
           0.16087850179489552,
           0.06571927575021741,
           0.2518045852700214,
           0.13789385695538614,
           0.5823407681469437,
           0.5470766874432712,
           0.44478719969308245,
           0.6001139040398593
          ],
          [
           0.20153077063548686,
           0.16327365630735308,
           0.19566740042209668,
           0.24994437697594385,
           0.18676425760351864,
           0.16439168934848153,
           0.40057796797753,
           0.1690014040843274,
           0.2833246636923731,
           0.14723819450768771,
           0.23879387048416564
          ],
          [
           0.18450508560674916,
           0.22891755930022692,
           0.19061313802977067,
           0.2710234890087851,
           0.414016266373793,
           0.34021961137951556,
           0.17406139546510266,
           0.28468676240937046,
           0.2950551658247205,
           0.17202634825147808,
           0.16941771324719718
          ],
          [
           0.178265698652095,
           0.1974537215434496,
           0.17818976432196074,
           0.3651956645383834,
           0.5121230451059047,
           0.5851410192305017,
           0.40101195758216807,
           0.185231415709383,
           0.16595186931309575,
           0.17470374604504346,
           0.2278750880655174
          ]
         ]
        },
        {
         "coloraxis": "coloraxis",
         "hovertemplate": "x: %{x}<br>y: %{y}<br>color: %{z}<extra></extra>",
         "name": "7",
         "type": "heatmap",
         "xaxis": "x8",
         "yaxis": "y8",
         "z": [
          [
           0.2515952715055542,
           0.5935120563928629,
           0.25251830501084305,
           0.6207449557992939,
           0.5840642397558827,
           0.5135721660582561,
           0.29070853519530837,
           0.1613691340561416,
           0.5367853430633042,
           0.58990667160663,
           0.36732991260538866
          ],
          [
           0.2505546557448889,
           0.3611118278998847,
           0.4727605992954475,
           0.5690815501328667,
           0.6663844963761717,
           0.7778445255277873,
           0.9135176823836626,
           0.5524681006531074,
           0.9024856193959783,
           0.787885141101507,
           0.28097890745687615
          ],
          [
           0.5297825793715246,
           0.5204093258181526,
           0.5534182334279903,
           0.9314199355677478,
           0.7718482149014074,
           0.6461459540221424,
           0.9311480725491733,
           0.6209922038818474,
           0.529940025184418,
           0.4971625659032204,
           0.2802301900267778
          ],
          [
           0.6603172882432238,
           0.7314426612909392,
           0.7114127960742153,
           0.9211083344578034,
           0.9346250715453054,
           0.5974987780021739,
           0.9484749849557245,
           0.7785649697047337,
           0.49722748853207066,
           0.3557231860868745,
           0.2832905027568823
          ],
          [
           0.728343105032666,
           0.9172588172324382,
           0.9065891686485575,
           0.43316947161804326,
           0.8752846272280633,
           0.5528991454994909,
           0.9155537794720223,
           0.7697267765039458,
           0.5962233077829848,
           0.4893049767128639,
           0.713680008647395
          ],
          [
           0.3471707329365082,
           0.5257756542710611,
           0.5092015573690302,
           0.5295674321155632,
           0.8891088140975983,
           0.6708618829019273,
           0.3058875805759792,
           0.6952115743824353,
           0.697644469686377,
           0.7639579353765521,
           0.6804547097682185
          ],
          [
           0.21076224523913917,
           0.22859070675468457,
           0.17712252670079282,
           0.24643985460826698,
           0.32621774994100966,
           0.671024914698247,
           0.2484148077186317,
           0.8267252626317309,
           0.9394717320304217,
           0.9644787761821076,
           0.9712774482705331
          ],
          [
           0.22093081160019729,
           0.18064395694869376,
           0.20787027475244643,
           0.17631254047753847,
           0.08075190590268282,
           0.27792619084212955,
           0.17349403043845035,
           0.6288312669930335,
           0.5604411988093271,
           0.45364373429137733,
           0.6063141561952634
          ],
          [
           0.18479952444109066,
           0.1522666719695317,
           0.1878168806577644,
           0.2583661593838669,
           0.20035455034851932,
           0.20659433761785306,
           0.42752778864375457,
           0.1810239142363628,
           0.283018077497942,
           0.14345621026860317,
           0.22589991334947246
          ],
          [
           0.16903051692968488,
           0.21685618675233032,
           0.1833573784088603,
           0.2783744955982004,
           0.42750433701777124,
           0.369696978494209,
           0.2185498525142733,
           0.2861543968468159,
           0.29080764953311605,
           0.16125646611597397,
           0.15603510681600544
          ],
          [
           0.1637114544625056,
           0.18436849995652346,
           0.173485540756779,
           0.3690608905797956,
           0.5186142874457388,
           0.5944948099721172,
           0.41365696897866294,
           0.18343203177319503,
           0.1570515078823326,
           0.1605361603929779,
           0.2121608516056741
          ]
         ]
        },
        {
         "coloraxis": "coloraxis",
         "hovertemplate": "x: %{x}<br>y: %{y}<br>color: %{z}<extra></extra>",
         "name": "8",
         "type": "heatmap",
         "xaxis": "x9",
         "yaxis": "y9",
         "z": [
          [
           1,
           1,
           0.2764336205778948,
           0.3827502549967746,
           0.4394589816193253,
           0.7876911926252357,
           0.4267536699758189,
           0.5580239671291403,
           0.8959288429260134,
           0.435872077461765,
           0.3909205981136381
          ],
          [
           0.8234613817506523,
           0.9717519224150727,
           0.5882774567819486,
           0.08600809431413005,
           0.21542158473989495,
           0.6370674188196543,
           0.5337143072425724,
           0.24216582275917062,
           0.6343873914410374,
           0.5750883114934763,
           0.5669425264573275
          ],
          [
           0.3174607043438394,
           0.22276964158550186,
           0.3408384031847347,
           0.3983488881989417,
           0,
           0.2817670183838415,
           0.0927540933857272,
           0,
           0.3110012702995826,
           0.9176849151190686,
           1
          ],
          [
           0.20074815799453766,
           0,
           0,
           0.6765612718673075,
           0.577312780464681,
           0.27795815514253563,
           0.2966135791896099,
           0,
           0.26172222639995446,
           0.9355376212462713,
           0.9294171995434696
          ],
          [
           0.3657671654905685,
           0.18016720440940845,
           0,
           0,
           0.5506480274258055,
           0.3477070613388198,
           0.7640670214465103,
           0,
           0,
           0.3354942283390515,
           0.6544181715272257
          ],
          [
           0.6131920012702958,
           0.3948881715200834,
           0,
           0,
           0.8905271093264634,
           0.45427727135440593,
           0.39412183939339124,
           0.3705313850448434,
           0,
           0,
           0
          ],
          [
           0.7398153013847912,
           0.8864471435721769,
           0.26079037847983466,
           0.5009480737910121,
           1,
           1,
           0.22848685451392167,
           0.5847082608010303,
           0,
           0,
           0
          ],
          [
           0.6370709279477904,
           0.9167692419017385,
           0.7944176912337947,
           1,
           1,
           1,
           0,
           0.6036810389813084,
           0.49229552273483845,
           0.15715166804664724,
           0.3141130468969016
          ],
          [
           0.7121221526503596,
           0.6872346345029072,
           0.5203802660586839,
           0.8074617967122069,
           1,
           0.7719358314891694,
           0.19186142892590533,
           1,
           1,
           0.44028016027762396,
           0.6922783920691308
          ],
          [
           0.653305345260333,
           0.7318739883135471,
           0.7758227404572499,
           0.858289493023719,
           0.9150564193266741,
           0.32155918936164923,
           0.047538975610090094,
           0.8679118369840049,
           0.9846938248305174,
           0.8256215768199199,
           0.5714461295524269
          ],
          [
           0.6459905385284387,
           0.8705449775070141,
           1,
           0.712579886117869,
           0.4813589444072721,
           0.2863565842911958,
           0.74679521441598,
           0.8308393948527363,
           1,
           0.8362138697297321,
           0.6633719648709075
          ]
         ]
        },
        {
         "coloraxis": "coloraxis",
         "hovertemplate": "x: %{x}<br>y: %{y}<br>color: %{z}<extra></extra>",
         "name": "9",
         "type": "heatmap",
         "xaxis": "x10",
         "yaxis": "y10",
         "z": [
          [
           0.22207944975605545,
           0.5583546910066217,
           0.21672933369159417,
           0.5858294050675901,
           0.5476600155311705,
           0.44869600895496115,
           0.25419305108303836,
           0.11744215174345238,
           0.4904596863345635,
           0.5357809548723667,
           0.30213948903820087
          ],
          [
           0.21136900608434142,
           0.3144416721909708,
           0.4498192199772894,
           0.5480741857630326,
           0.6548613694714143,
           0.7591609324042611,
           0.8768404656866482,
           0.5319215546907582,
           0.854106667038483,
           0.7442562561938465,
           0.21990387213364712
          ],
          [
           0.5110185824765311,
           0.500010705808507,
           0.5340678143297446,
           0.9102716891260048,
           0.7529926489881681,
           0.6277680639173139,
           0.9083291152119061,
           0.6123693106025999,
           0.510715581605006,
           0.4746358301217105,
           0.24122773196105934
          ],
          [
           0.6423374898817195,
           0.7132224753031179,
           0.6938915787275427,
           0.8912905437089151,
           0.9068355957796849,
           0.5753747741725181,
           0.9291714087112346,
           0.7648380137803401,
           0.4880394909903925,
           0.33885759632036344,
           0.2565522824707895
          ],
          [
           0.6945176376270273,
           0.882888747259395,
           0.8748239612983737,
           0.39382527488730834,
           0.8276725306659082,
           0.5329967268310455,
           0.8804803764589935,
           0.7396388969030371,
           0.5864373812747304,
           0.48445385011614744,
           0.7064720166091097
          ],
          [
           0.28552787315849293,
           0.4781182899868613,
           0.4652067918764942,
           0.46679610329088317,
           0.8400072112648448,
           0.6389789626496083,
           0.2744352013602131,
           0.6736907782646404,
           0.6885601098732854,
           0.7605525447430319,
           0.679075771317287
          ],
          [
           0.1471948568762888,
           0.1604419739942536,
           0.13472898579210166,
           0.1766998648102344,
           0.28797289024818906,
           0.637948440527838,
           0.21876320273006164,
           0.795217703429327,
           0.9172417734755721,
           0.9551030152348392,
           0.9664928369704074
          ],
          [
           0.1639172171992376,
           0.1198216945299789,
           0.13518429506290522,
           0.10570942454777872,
           0.05304662860255019,
           0.24478595613795268,
           0.12747787896249885,
           0.5470826086697049,
           0.53160762937638,
           0.4347690403528196,
           0.5877418743399836
          ],
          [
           0.126382035683806,
           0.0984325410452852,
           0.11407782687382957,
           0.21583676150819303,
           0.18138884957744159,
           0.1622197864325539,
           0.3858053948007744,
           0.11257794569297744,
           0.23669337238843607,
           0.09807170411913167,
           0.16312119420767895
          ],
          [
           0.11191829392521745,
           0.15746610321511378,
           0.11228790026053456,
           0.24034297404547314,
           0.4095388329250613,
           0.33779489858154294,
           0.1346223490654174,
           0.25166453056149035,
           0.24003092901402742,
           0.0996398489610329,
           0.10430449589514872
          ],
          [
           0.10711344377981118,
           0.1182555003710118,
           0.11544612856243895,
           0.3443118303096541,
           0.5049991667128791,
           0.5751210971619722,
           0.36411156754172164,
           0.1428774675490039,
           0.09271316510412415,
           0.10168604985105906,
           0.15696326246124967
          ]
         ]
        },
        {
         "coloraxis": "coloraxis",
         "hovertemplate": "x: %{x}<br>y: %{y}<br>color: %{z}<extra></extra>",
         "name": "10",
         "type": "heatmap",
         "xaxis": "x11",
         "yaxis": "y11",
         "z": [
          [
           0.1694440257827387,
           0.4994661400495193,
           0.1571777874787007,
           0.5329230544402448,
           0.49504632919260433,
           0.3632543565068989,
           0.20887208771064994,
           0.06212338154555692,
           0.42477159488886673,
           0.4423424168931236,
           0.18118577173412898
          ],
          [
           0.1679942277001812,
           0.2594367072053382,
           0.41835272746479346,
           0.5132598970333883,
           0.6288637153788531,
           0.7171497416794447,
           0.8123062462099819,
           0.5013170976310358,
           0.77920169356847,
           0.6710888023150804,
           0.11865856514535025
          ],
          [
           0.47747769025490605,
           0.4635987650804774,
           0.496833284491633,
           0.8662094798460505,
           0.7082537260345019,
           0.5804315795021111,
           0.8459659318568081,
           0.5933859544586836,
           0.4779312956980719,
           0.449018438948504,
           0.19555098855102857
          ],
          [
           0.5927463300985111,
           0.6604362860611611,
           0.6417106558891287,
           0.8043839753406168,
           0.8392460490254102,
           0.5232671524885376,
           0.8756447124587481,
           0.7335324442518075,
           0.47369508065266386,
           0.3331163328752242,
           0.24815503984207635
          ],
          [
           0.6141199894387795,
           0.7880286775952624,
           0.7832996138851056,
           0.2805560161129865,
           0.7055379955200192,
           0.4863571114793398,
           0.7901910758180303,
           0.6730585555414573,
           0.5691872281611289,
           0.48255651862199533,
           0.710599709332247
          ],
          [
           0.17548882341118324,
           0.38297502950293066,
           0.3746241353223495,
           0.334353398322138,
           0.7316720236861245,
           0.5694264016012351,
           0.203259508072336,
           0.6254655521880323,
           0.6681166210328664,
           0.7484142239175723,
           0.6714032946317819
          ],
          [
           0.04365295068415628,
           0.05216333651078919,
           0.06820267790601911,
           0.06801443604666108,
           0.22886681133273878,
           0.5833123479433351,
           0.16439643107102933,
           0.7290086079267155,
           0.8659206830740415,
           0.9236895221195272,
           0.9393620892994204
          ],
          [
           0.07121731272722608,
           0.027994396579810208,
           0.02796005296322196,
           0.011448772868740931,
           0.02522350591898885,
           0.20441119425148263,
           0.054326829127499615,
           0.4123966197301699,
           0.4782248361908792,
           0.39448721361346867,
           0.5430328768605203
          ],
          [
           0.03525771186996463,
           0.017607315844386965,
           0.0005189970627366029,
           0.16039085874150766,
           0.16935847835612647,
           0.11305904538754326,
           0.31824923245025266,
           0.013713097003189324,
           0.1648076345653578,
           0.02547116253318428,
           0.05919013924872016
          ],
          [
           0.02366077577734824,
           0.06559352944294163,
           0,
           0.1930194344327834,
           0.3967684925817942,
           0.2915603279313822,
           0,
           0.20591295583555638,
           0.1663769677074556,
           0.008078354938363532,
           0.02373644356057664
          ],
          [
           0.020038534940927416,
           0.01593611614192341,
           0.026428723627362972,
           0.3102110513733101,
           0.48534900956447724,
           0.5343424143270353,
           0.27981893834005106,
           0.08818715721083259,
           0,
           0.01206749266082013,
           0.06984724355400192
          ]
         ]
        },
        {
         "coloraxis": "coloraxis",
         "hovertemplate": "x: %{x}<br>y: %{y}<br>color: %{z}<extra></extra>",
         "name": "11",
         "type": "heatmap",
         "xaxis": "x12",
         "yaxis": "y12",
         "z": [
          [
           0.23193459028482077,
           0.5687857765551765,
           0.23060300446171592,
           0.6023975552244982,
           0.5634327823475997,
           0.47408114646777705,
           0.26702814947237985,
           0.13197031681649715,
           0.5037095376391904,
           0.5475435935290721,
           0.3135633922158324
          ],
          [
           0.227966549524986,
           0.335047170197403,
           0.461756944697112,
           0.5623267157966719,
           0.6636711108191287,
           0.7725429099649521,
           0.8978542748762508,
           0.5427866876819194,
           0.8713031377726826,
           0.7549887238509474,
           0.23142512724463848
          ],
          [
           0.521917985436832,
           0.5130099846255839,
           0.5472480780173709,
           0.9257381325068866,
           0.7696023418907989,
           0.645880331176682,
           0.9294410413229427,
           0.6210376555049876,
           0.5211728007858704,
           0.4831450909451101,
           0.25085957239773016
          ],
          [
           0.6563380139828872,
           0.7291400134843766,
           0.7104782110493089,
           0.9132703796666504,
           0.9265097852424964,
           0.5932107154662406,
           0.9455365789399747,
           0.781064479300614,
           0.4962554918699977,
           0.34960157301048134,
           0.2668131012784755
          ],
          [
           0.7129943836930752,
           0.9048595593610865,
           0.9014413434192645,
           0.42448772876364854,
           0.8597772368777273,
           0.5462060013756803,
           0.9015441985743249,
           0.7671219287156124,
           0.5987276181740994,
           0.49333921710224543,
           0.7150935605029691
          ],
          [
           0.30557883988853374,
           0.4978000027478862,
           0.48887626822600866,
           0.5053517703583013,
           0.8695268594614808,
           0.659564605558808,
           0.2953900546712393,
           0.6928221717996867,
           0.7025076024765555,
           0.7725335773353758,
           0.6890559810159524
          ],
          [
           0.16035384503460146,
           0.1801144141357413,
           0.1498708587757914,
           0.20933086038059787,
           0.30726631938080295,
           0.6561333051334067,
           0.23671269997537597,
           0.8181045441443536,
           0.9399308349816246,
           0.9719064327110377,
           0.9811240063278188
          ],
          [
           0.17395971153857112,
           0.1353799540671988,
           0.15442058586309312,
           0.13200149080610654,
           0.06735416073457827,
           0.2624443809011772,
           0.15120711837562936,
           0.5953802015396878,
           0.549099714726554,
           0.4475224615910688,
           0.6002075003198698
          ],
          [
           0.13717218984588922,
           0.1119646434786995,
           0.1343368577515169,
           0.23368636636113144,
           0.1936278756070322,
           0.18499561817747417,
           0.4029369648768148,
           0.13820289225196883,
           0.24835438752731293,
           0.10980209918180515,
           0.17880492729986805
          ],
          [
           0.12290917426168142,
           0.17126036833241212,
           0.13122460798934107,
           0.2576395483834154,
           0.4217545403309324,
           0.35289677879918774,
           0.17003451482869344,
           0.2628769005286271,
           0.25090021010539276,
           0.11336481283725001,
           0.11492441814624185
          ],
          [
           0.11846775434733985,
           0.13388822467355077,
           0.13147237054093594,
           0.3545172317079931,
           0.5127953304259012,
           0.5829888389869207,
           0.38278351089908885,
           0.1537102092380706,
           0.10710176869866744,
           0.11399139131643107,
           0.16691596220226748
          ]
         ]
        },
        {
         "coloraxis": "coloraxis",
         "hovertemplate": "x: %{x}<br>y: %{y}<br>color: %{z}<extra></extra>",
         "name": "12",
         "type": "heatmap",
         "xaxis": "x13",
         "yaxis": "y13",
         "z": [
          [
           0.2307698762475963,
           0.5680467048885536,
           0.23178672475768558,
           0.6070674066570356,
           0.5681312693064271,
           0.4749399900588713,
           0.2675714931292738,
           0.1325624304006808,
           0.500421568554135,
           0.5415480075417077,
           0.3045282339671454
          ],
          [
           0.2299551712952624,
           0.338547710069637,
           0.4637752957633677,
           0.5657127262011573,
           0.6666444171113066,
           0.7757607105187713,
           0.9057646113930722,
           0.5471611724545075,
           0.870318331945592,
           0.7502185832224622,
           0.22349315952644297
          ],
          [
           0.5244479694578557,
           0.5172524299727623,
           0.551362999366196,
           0.9282935115028795,
           0.7725704337230235,
           0.6501494495075719,
           0.9352882265915358,
           0.6252804881007011,
           0.5240404949680416,
           0.482265625908363,
           0.24821876866050988
          ],
          [
           0.6587176826371701,
           0.7331286234374728,
           0.7151711942873759,
           0.9180709736252946,
           0.9300793720553379,
           0.5975502359475384,
           0.9489865030501877,
           0.785800967048739,
           0.5005750668708436,
           0.3528855247203991,
           0.26923243108363853
          ],
          [
           0.7128254849499198,
           0.906870872646199,
           0.9062046415977718,
           0.4309001921555662,
           0.8630299071428694,
           0.5483440774362459,
           0.9059432336010705,
           0.7747537071597778,
           0.6057671900923723,
           0.4990828380302469,
           0.7211455357859589
          ],
          [
           0.300191459231296,
           0.496132633677447,
           0.4889964193339672,
           0.5098805847975363,
           0.8714708053949027,
           0.6625081478759829,
           0.3006357897969131,
           0.6987782889356988,
           0.7082962520191953,
           0.7784614806312083,
           0.693850276455525
          ],
          [
           0.15254291518088847,
           0.17567117580691466,
           0.1493776298950057,
           0.21005395865929066,
           0.31002075816697355,
           0.6587119433256785,
           0.23914744310086986,
           0.8229160747161413,
           0.944718378208812,
           0.975865393263689,
           0.9843178404467673
          ],
          [
           0.1665084324494773,
           0.1297931139949693,
           0.15240754327486966,
           0.13282046461773292,
           0.07154611035543276,
           0.26625747126242977,
           0.1544971872050147,
           0.5971535158968876,
           0.5480365587063765,
           0.44656053464043066,
           0.5987832011842533
          ],
          [
           0.12964663059070958,
           0.10669357163309995,
           0.13039622761259434,
           0.2343851124967888,
           0.19760684314727725,
           0.1913787933663993,
           0.4013669099775029,
           0.1343547914707973,
           0.24453670382075088,
           0.10401748175078769,
           0.1714601055853064
          ],
          [
           0.1157742780168628,
           0.16567369884409883,
           0.12684705184596803,
           0.2580671728383334,
           0.42601290786458135,
           0.3565462726978399,
           0.16215232029173782,
           0.26063530570494936,
           0.2468481254989483,
           0.1042224986788902,
           0.10835762190374193
          ],
          [
           0.11129951802144396,
           0.1275282097997017,
           0.12871955626615117,
           0.354574318920053,
           0.5141469852269643,
           0.5831014690227263,
           0.37653502860344074,
           0.15064495984555942,
           0.10001518427562339,
           0.10480947881345842,
           0.15959634823128152
          ]
         ]
        },
        {
         "coloraxis": "coloraxis",
         "hovertemplate": "x: %{x}<br>y: %{y}<br>color: %{z}<extra></extra>",
         "name": "13",
         "type": "heatmap",
         "xaxis": "x14",
         "yaxis": "y14",
         "z": [
          [
           0.3118438403018786,
           0.6605688267150592,
           0.32206297371316756,
           0.6954570460616051,
           0.6656882009548031,
           0.6441913939560557,
           0.3588967387541092,
           0.2420227115794979,
           0.6205760457948756,
           0.6868921995893897,
           0.4830301685504619
          ],
          [
           0.3272307470842441,
           0.45232160110553254,
           0.519028024169657,
           0.6162708868082802,
           0.6972967158251367,
           0.8278777714713458,
           1,
           0.5974357654445693,
           1,
           0.8670045769245658,
           0.38798368085334245
          ],
          [
           0.5730030232690542,
           0.5680871960769308,
           0.5991323778542531,
           0.9809478532971493,
           0.8191846146395249,
           0.699021037757839,
           1,
           0.6476695924308827,
           0.580342286871355,
           0.541858645755913,
           0.3494070764924853
          ],
          [
           0.708513263746872,
           0.781837720133788,
           0.7610165427259611,
           1,
           1,
           0.6509807023640354,
           1,
           0.8182728534080445,
           0.5259423085919132,
           0.3979627135047264,
           0.33512793734056295
          ],
          [
           0.803727329929769,
           1,
           0.9887513257880616,
           0.536690054898578,
           0.9905332058453267,
           0.5989049399841662,
           1,
           0.8474467489567491,
           0.6276955811046313,
           0.5103066970640513,
           0.7356738100204332
          ],
          [
           0.46493226446375613,
           0.6226177128694363,
           0.6046148175189388,
           0.6718904092050574,
           1,
           0.7411983225021294,
           0.37857559638205796,
           0.7486451550432618,
           0.7261316283456292,
           0.7841995255008252,
           0.6974034915780015
          ],
          [
           0.32533197091709276,
           0.3536143401692891,
           0.2594388496108081,
           0.3869225164588128,
           0.40531812485269453,
           0.7402888205356045,
           0.3142515418478506,
           0.9013719445941819,
           1,
           1,
           1
          ],
          [
           0.3228903089073839,
           0.29056115529598153,
           0.3462370545207505,
           0.3156448941133862,
           0.13779684899603667,
           0.35203782482862833,
           0.2756566470341598,
           0.8065127625802267,
           0.625239882190912,
           0.4974551254662768,
           0.6504934775868667
          ],
          [
           0.2894385660234626,
           0.25041536812825843,
           0.3302070427010117,
           0.34521938877094205,
           0.2428780088813026,
           0.3153362103519567,
           0.5193320371123847,
           0.3158934920184643,
           0.3736230834782126,
           0.2295744566090564,
           0.3433534524256825
          ],
          [
           0.2724430977915645,
           0.3254637853261919,
           0.31737323742000556,
           0.3545072818609153,
           0.46953997089745597,
           0.45296644638970557,
           0.40213327077492256,
           0.3537127922434789,
           0.39045636049308985,
           0.27730331780751044,
           0.25018405053076803
          ],
          [
           0.266882539575242,
           0.30562426446460267,
           0.28260116201725743,
           0.4185358064477338,
           0.5499412922584199,
           0.6435336660187141,
           0.5214095420325018,
           0.2627201233513827,
           0.2820411281836121,
           0.27084300676900785,
           0.31210780823467804
          ]
         ]
        },
        {
         "coloraxis": "coloraxis",
         "hovertemplate": "x: %{x}<br>y: %{y}<br>color: %{z}<extra></extra>",
         "name": "14",
         "type": "heatmap",
         "xaxis": "x15",
         "yaxis": "y15",
         "z": [
          [
           0.36135724885435627,
           0.8567459222853429,
           0.6010824938680183,
           0.43985967341730003,
           0,
           0.006922397545606039,
           0.05403446222715508,
           0.01470157596893426,
           1,
           1,
           1
          ],
          [
           0,
           0.13277967827059098,
           0.5910585829350898,
           0.7278486132346624,
           0.5652660507997409,
           0.5594806358757682,
           0,
           0,
           0.8426568794944747,
           1,
           1
          ],
          [
           0.2425336663283174,
           0.01737299959030834,
           0,
           0.6127347696522846,
           0.5202845797915904,
           0.5871764180554001,
           0.5935904702861414,
           0.09551404463523644,
           0,
           0.4906731748584828,
           0.8957524766182805
          ],
          [
           0.7437916235946898,
           0.4977012358003263,
           0.25620139213482535,
           0,
           0.28609811448183564,
           0.19188342172941825,
           0.3248783934956228,
           0.020553464031382373,
           0,
           0.06133493024866607,
           0.26531914051541605
          ],
          [
           1,
           0.8269337586383649,
           0.8877375758482227,
           0.2649732273731522,
           0.26008161670844887,
           0.4436844273048288,
           0,
           0.4119668749245621,
           0.334569291220949,
           0,
           0
          ],
          [
           1,
           1,
           1,
           0.44060975185278345,
           0.4309505565790615,
           0.5516295300973069,
           0,
           0.521347338231697,
           0.6675655171861185,
           0.5966390092035444,
           0.4132768663522079
          ],
          [
           1,
           0.7451703545539878,
           0.34414161580855457,
           0.45075408091615915,
           0.22606919573687626,
           0.6711169868051937,
           0.41720918045777516,
           0.709383009938309,
           0.9198646358044619,
           0.763813504640376,
           0.7692822868991135
          ],
          [
           1,
           1,
           0.5612502045776526,
           0.633180849077584,
           0.11631793454640293,
           0.3290067312809604,
           0.05845425558281287,
           0.4995516273597695,
           0.42828435763386014,
           0.3088820031445989,
           0.4822982644385665
          ],
          [
           1,
           1,
           1,
           0.6902616241920151,
           0.3253423810367707,
           0.014213050192013353,
           0,
           0.820238902324823,
           0.750753423008896,
           0.5199028265437596,
           1
          ],
          [
           1,
           1,
           1,
           0.7522564096289385,
           0.46408569133160754,
           0.09902443407506212,
           0.17417180260654475,
           1,
           1,
           1,
           1
          ],
          [
           1,
           1,
           0.8883677596221969,
           0.8559376682929454,
           0.5992978172022072,
           0.3858703880029589,
           0.9016932334677074,
           1,
           0.9256188397933186,
           1,
           1
          ]
         ]
        },
        {
         "coloraxis": "coloraxis",
         "hovertemplate": "x: %{x}<br>y: %{y}<br>color: %{z}<extra></extra>",
         "name": "15",
         "type": "heatmap",
         "xaxis": "x16",
         "yaxis": "y16",
         "z": [
          [
           0.23136800248615394,
           0.568574819713804,
           0.22750649790899308,
           0.5974592530431067,
           0.5620210385955283,
           0.478874595930524,
           0.26886663317226567,
           0.13245752627762364,
           0.506584393401949,
           0.5513051438980308,
           0.3143882457086216
          ],
          [
           0.2274672855599981,
           0.33371488302940816,
           0.4605716982914433,
           0.5584046688134983,
           0.6602932358957811,
           0.7693751728381168,
           0.8982033410636678,
           0.542333985799892,
           0.8765196703492802,
           0.7607589161947098,
           0.23256136662739646
          ],
          [
           0.5201380106797298,
           0.510777090652844,
           0.5458277485685331,
           0.9240275986639058,
           0.7642274414489483,
           0.6378127925400968,
           0.9234103933560469,
           0.6177886402260334,
           0.519681330963484,
           0.4864252267916231,
           0.2536158040007074
          ],
          [
           0.6502341937014924,
           0.723041201644942,
           0.7049745534070098,
           0.9103900492066627,
           0.924130734304966,
           0.5875292531303803,
           0.9410997647476981,
           0.7744854784233042,
           0.49243235136537783,
           0.3507251549722603,
           0.27044352321560067
          ],
          [
           0.7045096484499184,
           0.8947546775661871,
           0.8897052155521407,
           0.4153184564361397,
           0.8561068101011627,
           0.5428409128458213,
           0.8965377958292747,
           0.7572145982497628,
           0.592819988131668,
           0.49082867717384493,
           0.7161549925471254
          ],
          [
           0.2988705344648682,
           0.48913590439755994,
           0.4789999941645699,
           0.49104819635223335,
           0.8634520040710526,
           0.6551374000185337,
           0.28967489575370226,
           0.687784843325547,
           0.6967079605596779,
           0.7668065756540309,
           0.6855368866346604
          ],
          [
           0.1586035358669842,
           0.17418807847447196,
           0.1447916634798834,
           0.19911925643888184,
           0.30317142912282824,
           0.653721047296045,
           0.23286502319556857,
           0.8111255690687429,
           0.9305172285822532,
           0.9624289117829824,
           0.9721795080346456
          ],
          [
           0.1730310574064978,
           0.13104418434442008,
           0.14937741052947856,
           0.1239439430970338,
           0.06340582210545322,
           0.2613007474890963,
           0.1504095192784863,
           0.5819636459351658,
           0.5430876146880058,
           0.4422389648441149,
           0.5937505852206045
          ],
          [
           0.13615139169676077,
           0.10838108947881404,
           0.1281182823760818,
           0.22621936023872685,
           0.18878889131503251,
           0.1850824415313339,
           0.40621434877380114,
           0.1329810958137286,
           0.2481141340343593,
           0.10930004518452562,
           0.1742528624439223
          ],
          [
           0.1216375983921621,
           0.168303865435711,
           0.12684491367520054,
           0.2511216975138791,
           0.41633749067318243,
           0.3525942808323204,
           0.1724833412934304,
           0.26053929305686024,
           0.25135529924457695,
           0.11328700309331266,
           0.11332526642128536
          ],
          [
           0.11711480283472389,
           0.13047841877073263,
           0.12753554759781446,
           0.3513832704414045,
           0.5097235997762856,
           0.5810945489256987,
           0.3804274205608629,
           0.15205289004763667,
           0.1068846618926449,
           0.11310624024098288,
           0.16627636749180355
          ]
         ]
        },
        {
         "coloraxis": "coloraxis",
         "hovertemplate": "x: %{x}<br>y: %{y}<br>color: %{z}<extra></extra>",
         "name": "16",
         "type": "heatmap",
         "xaxis": "x17",
         "yaxis": "y17",
         "z": [
          [
           0,
           0,
           0,
           0.9837881179623842,
           0.6932718443348085,
           0,
           0,
           0,
           0,
           0,
           0
          ],
          [
           0.17040718345263972,
           0,
           0,
           0.17209267880583554,
           0.7071096451762616,
           0.9354492061467863,
           0.6384644626731277,
           0.6365160671761676,
           0.1710681243099213,
           0,
           0
          ],
          [
           0.48140173165307876,
           0.34348287197969024,
           0.19458435087093734,
           0,
           0.23067464376822477,
           0.4816940167737737,
           0.21363773034199765,
           1,
           1,
           0.3717287274981503,
           0
          ],
          [
           0.5242952338083963,
           0.5208191707306606,
           0.7407212341918215,
           0.24422901289737606,
           0,
           0,
           0,
           0.8912370108287045,
           1,
           0.48437434735002605,
           0
          ],
          [
           0,
           0,
           0.3987473354225293,
           0.053796580373161866,
           0,
           0.28360727325810225,
           0.2417730711972551,
           0.1293191741180904,
           1,
           1,
           1
          ],
          [
           0,
           0,
           0.01407254966563506,
           0.29398733401084937,
           0,
           0,
           0.08276778894545078,
           0,
           0.5483599917846814,
           1,
           1
          ],
          [
           0.1454752561027836,
           0.27216629107272455,
           0.25971953421378785,
           0.5831984056482732,
           0,
           0,
           0,
           0,
           0.05642683566203747,
           0.6080201703996075,
           0.9446684004620692
          ],
          [
           0,
           0.26987116750294016,
           0.41886503261266117,
           0.8916280487052003,
           0.17387253362201252,
           0,
           0.29183105446485136,
           1,
           0.294497642409794,
           0.2558796635147201,
           0.1435781713748644
          ],
          [
           0,
           0.03704277238468099,
           0.25399286521452236,
           1,
           0.5147920295658638,
           0,
           0.6335322175931947,
           0.8377493619038957,
           0,
           0.19328776774171366,
           0.2832999847051051
          ],
          [
           0.024143808652212495,
           0,
           0.08320938472906587,
           0.8825090493176164,
           0.8101050409536551,
           0.2961865339899551,
           1,
           0.4020548282055165,
           0,
           0.13556711214834274,
           0.009617626548332939
          ],
          [
           0.03356417902474387,
           0.02017898860558117,
           0,
           0.3847972773719051,
           0.5926480388759708,
           0.8125630415573195,
           1,
           0.17471434696181787,
           0.053949462887644156,
           0.13990220083829064,
           0
          ]
         ]
        },
        {
         "coloraxis": "coloraxis",
         "hovertemplate": "x: %{x}<br>y: %{y}<br>color: %{z}<extra></extra>",
         "name": "17",
         "type": "heatmap",
         "xaxis": "x18",
         "yaxis": "y18",
         "z": [
          [
           0.15391037918421788,
           0.4904943251365478,
           0.1564627437270803,
           0.539715877693405,
           0.5186568085570074,
           0.40513807839160076,
           0.22289575735951553,
           0.07983931813928086,
           0.42549025903107257,
           0.43343352680093405,
           0.15090755900176542
          ],
          [
           0.1939095452004793,
           0.2841316689942714,
           0.42727417583368027,
           0.516346494354345,
           0.6361477837036008,
           0.7309209979412886,
           0.8254828129429602,
           0.512428714065994,
           0.7763397333276518,
           0.6647255972469553,
           0.09021760065465775
          ],
          [
           0.4856844878232379,
           0.47044127213664866,
           0.505330042143853,
           0.866359859227797,
           0.70238845693964,
           0.5698442688893082,
           0.8286052586681911,
           0.5987625098822602,
           0.486220934528675,
           0.46318665760071626,
           0.1976087364257827
          ],
          [
           0.5809322717350524,
           0.6466354576301563,
           0.6312406777740969,
           0.7877331542672242,
           0.8162261036550106,
           0.502640041757365,
           0.8586869180635245,
           0.7313746609798466,
           0.48002783263378235,
           0.36293085857704355,
           0.28061118939288127
          ],
          [
           0.5674921320993017,
           0.7276420989930261,
           0.718607381285243,
           0.214484869978601,
           0.6410359266088829,
           0.4683554170140989,
           0.7649314651498133,
           0.6505395030586641,
           0.5731787791920678,
           0.5019254652106224,
           0.7362565661427289
          ],
          [
           0.11498750917332855,
           0.31884301902650036,
           0.29408593894538854,
           0.22070859118692057,
           0.6595345357895466,
           0.5420489590912994,
           0.183981487152245,
           0.5992723852150558,
           0.6474999614834589,
           0.7315498740237839,
           0.6588305128305479
          ],
          [
           0,
           0,
           0.028987215694572976,
           0,
           0.20016953268229795,
           0.5666427938746494,
           0.1456685726061316,
           0.670607565165213,
           0.784972125760275,
           0.8653408458258561,
           0.894758093479245
          ],
          [
           0.04099029497275055,
           0,
           0,
           0,
           0.03134572269266149,
           0.2205668401300765,
           0.07423948224372771,
           0.3457631540597405,
           0.4315513615453862,
           0.35419761183897,
           0.49177281344568524
          ],
          [
           0.007774868072640112,
           0,
           0,
           0.18558332909012396,
           0.19298672606324527,
           0.19234117172478343,
           0.3779817267811558,
           0,
           0.14046103595915796,
           0,
           0
          ],
          [
           0,
           0.05048641277822995,
           0.005147567677286046,
           0.21740876054181865,
           0.4226346349672382,
           0.3677618085771001,
           0.13924980260123102,
           0.20875734673248275,
           0.16521834359916812,
           0,
           0
          ],
          [
           0,
           0,
           0.022891355637469385,
           0.31837596543148716,
           0.4985369006019861,
           0.5677997300079228,
           0.3290873368193613,
           0.09002470528179424,
           0.006100668243758025,
           0,
           0.04567638694010936
          ]
         ]
        },
        {
         "coloraxis": "coloraxis",
         "hovertemplate": "x: %{x}<br>y: %{y}<br>color: %{z}<extra></extra>",
         "name": "18",
         "type": "heatmap",
         "xaxis": "x19",
         "yaxis": "y19",
         "z": [
          [
           0.25257992511012345,
           0.5925942419116366,
           0.2548676383140989,
           0.630452251578832,
           0.5992907754219357,
           0.5355280968353876,
           0.29823179648948994,
           0.166490475875706,
           0.5371946702563832,
           0.5812949157915751,
           0.349336504983598
          ],
          [
           0.2605365578293336,
           0.37433348663270183,
           0.48096804468233184,
           0.5797743027981505,
           0.6746734933048646,
           0.7932009873583905,
           0.9399466647770106,
           0.56532171746852,
           0.9161689113990066,
           0.7871985329897273,
           0.26716384565811474
          ],
          [
           0.5397595871834978,
           0.5342463100512898,
           0.5680265320522897,
           0.9456771182774568,
           0.7855360782203078,
           0.6626554874876036,
           0.9537169066804728,
           0.6320407073712007,
           0.5442230568885909,
           0.505402993392451,
           0.27900453584804835
          ],
          [
           0.6700634616639712,
           0.745581249195435,
           0.7292395302617013,
           0.945011434588646,
           0.9522429627360297,
           0.6116650051272365,
           0.9621334453722953,
           0.795166119304801,
           0.5089930005405418,
           0.3740922470720459,
           0.2959255656878766
          ],
          [
           0.7311141554096575,
           0.9264192404198291,
           0.9252933291924683,
           0.4597786946512018,
           0.9016063841221822,
           0.5618546537853214,
           0.9307641672716435,
           0.794992557836716,
           0.6121781109669295,
           0.506027872538166,
           0.7328192688194023
          ],
          [
           0.33723665721475293,
           0.5233351868972511,
           0.5148684209450253,
           0.5479925891328757,
           0.9051847314500078,
           0.6823656881603652,
           0.31969728118027435,
           0.7121451767292017,
           0.7130495443864857,
           0.7810324767737574,
           0.6981139396293635
          ],
          [
           0.19439866934440247,
           0.21800448492106053,
           0.17571864592963224,
           0.25531986768967607,
           0.33585850139911905,
           0.6813205938163156,
           0.25826286162552436,
           0.8412911944910849,
           0.9564071696333323,
           0.9786837917470043,
           0.9856896273585691
          ],
          [
           0.20562605993813335,
           0.1700052259037374,
           0.20074808130791394,
           0.18160589449188286,
           0.09031660444654645,
           0.29069045147100964,
           0.1864145197535815,
           0.6467942276584043,
           0.5650130400182112,
           0.4568749926419989,
           0.6090917092879016
          ],
          [
           0.17021448038871761,
           0.14230509844990297,
           0.17842471672263452,
           0.26271811250937604,
           0.20991855991871045,
           0.22790386340416216,
           0.4374159131269358,
           0.18309617076912044,
           0.2779472709644649,
           0.13705748122899972,
           0.2133047493412097
          ],
          [
           0.15542166983154088,
           0.20543091963520094,
           0.17448665376278077,
           0.28275245541884136,
           0.43647109452746047,
           0.3841092848981809,
           0.23720135651692,
           0.2850912203924648,
           0.2839773093991783,
           0.15012323305035988,
           0.14362260952163433
          ],
          [
           0.1507209137420797,
           0.1723106311550714,
           0.16784423145620914,
           0.3703547065837804,
           0.5216859713311376,
           0.5974350146100493,
           0.41782306110050604,
           0.17941863505528177,
           0.14733208062989114,
           0.1478782316978328,
           0.19813521988931684
          ]
         ]
        },
        {
         "coloraxis": "coloraxis",
         "hovertemplate": "x: %{x}<br>y: %{y}<br>color: %{z}<extra></extra>",
         "name": "19",
         "type": "heatmap",
         "xaxis": "x20",
         "yaxis": "y20",
         "z": [
          [
           0.23809158559718246,
           0.577818073215628,
           0.23661046021856807,
           0.6035872704575882,
           0.5635884960606433,
           0.48109997051699926,
           0.27518779554217615,
           0.14356751203723864,
           0.5168805806563095,
           0.5657754505905601,
           0.3402100611290232
          ],
          [
           0.23399573224472792,
           0.34035047197324986,
           0.4618416787983656,
           0.5572531203484629,
           0.6580297955924747,
           0.7634388031516718,
           0.8889627205110746,
           0.5400012095074582,
           0.8741304785994665,
           0.766394951886584,
           0.2568551376706861
          ],
          [
           0.5179094912439183,
           0.5071854540873862,
           0.5400021883024468,
           0.9162481394645804,
           0.7587367517287134,
           0.6314866524637406,
           0.9106053205713449,
           0.613757296617798,
           0.516219549069157,
           0.48626819147289946,
           0.26636660850079436
          ],
          [
           0.6472090573777732,
           0.7172367183421483,
           0.6967567435298196,
           0.8969018813805634,
           0.9155601596489925,
           0.5830307024547587,
           0.932603029370328,
           0.7676994379186994,
           0.49022084735474036,
           0.3462156952679014,
           0.27337956324545576
          ],
          [
           0.7096541815706877,
           0.8961643104401749,
           0.885860344085284,
           0.40644900892537306,
           0.84256909895689,
           0.54094043013561,
           0.8918556031278182,
           0.7485627197676623,
           0.5889232711974952,
           0.4836210971454864,
           0.7076083827712398
          ],
          [
           0.32167606144885164,
           0.5043244765422913,
           0.4884122378039344,
           0.497903295406856,
           0.8598757084506754,
           0.652637524335521,
           0.28712068143884917,
           0.680563524661966,
           0.6903327307239653,
           0.7579849295177934,
           0.6743563773271221
          ],
          [
           0.18648237944889984,
           0.20367422052292958,
           0.16082999875738724,
           0.21757765498965598,
           0.3087660470599441,
           0.6546116623885323,
           0.23311508561859912,
           0.8081518238395989,
           0.9247117867646037,
           0.9561385660728843,
           0.9637614222983151
          ],
          [
           0.19981150262154934,
           0.159127170844503,
           0.18056280562486202,
           0.14886561882427254,
           0.07010855844170846,
           0.26152066562296333,
           0.14886056053545083,
           0.5890730492996814,
           0.546017031289659,
           0.44394770866421823,
           0.5961768680297562
          ],
          [
           0.16351130002541905,
           0.13301541110247023,
           0.15950178018936514,
           0.24191256254274818,
           0.19325244126851351,
           0.18147451129838515,
           0.40305066480536617,
           0.15231767938514962,
           0.2643928323278326,
           0.12593177874434117,
           0.20269423553955557
          ],
          [
           0.14795697482784625,
           0.1949216243079194,
           0.15599919810708038,
           0.2643160018875343,
           0.4199334578777382,
           0.34850946232241653,
           0.17003153626750336,
           0.27236746698655656,
           0.270479241702052,
           0.13668610064397127,
           0.13685605771358406
          ],
          [
           0.14261812335382362,
           0.15971889060675337,
           0.15078209845647944,
           0.35879307537950034,
           0.5115636566215938,
           0.5811109602623356,
           0.38656186780158164,
           0.16772029866164817,
           0.13165203569449394,
           0.13707236175747667,
           0.19138535333480786
          ]
         ]
        }
       ],
       "layout": {
        "annotations": [
         {
          "font": {},
          "showarrow": false,
          "text": "facet_col=0",
          "x": 0.0155,
          "xanchor": "center",
          "xref": "paper",
          "y": 1,
          "yanchor": "bottom",
          "yref": "paper"
         },
         {
          "font": {},
          "showarrow": false,
          "text": "facet_col=1",
          "x": 0.0665,
          "xanchor": "center",
          "xref": "paper",
          "y": 1,
          "yanchor": "bottom",
          "yref": "paper"
         },
         {
          "font": {},
          "showarrow": false,
          "text": "facet_col=2",
          "x": 0.11750000000000001,
          "xanchor": "center",
          "xref": "paper",
          "y": 1,
          "yanchor": "bottom",
          "yref": "paper"
         },
         {
          "font": {},
          "showarrow": false,
          "text": "facet_col=3",
          "x": 0.16849999999999998,
          "xanchor": "center",
          "xref": "paper",
          "y": 1,
          "yanchor": "bottom",
          "yref": "paper"
         },
         {
          "font": {},
          "showarrow": false,
          "text": "facet_col=4",
          "x": 0.21950000000000003,
          "xanchor": "center",
          "xref": "paper",
          "y": 1,
          "yanchor": "bottom",
          "yref": "paper"
         },
         {
          "font": {},
          "showarrow": false,
          "text": "facet_col=5",
          "x": 0.2705,
          "xanchor": "center",
          "xref": "paper",
          "y": 1,
          "yanchor": "bottom",
          "yref": "paper"
         },
         {
          "font": {},
          "showarrow": false,
          "text": "facet_col=6",
          "x": 0.3215,
          "xanchor": "center",
          "xref": "paper",
          "y": 1,
          "yanchor": "bottom",
          "yref": "paper"
         },
         {
          "font": {},
          "showarrow": false,
          "text": "facet_col=7",
          "x": 0.3725,
          "xanchor": "center",
          "xref": "paper",
          "y": 1,
          "yanchor": "bottom",
          "yref": "paper"
         },
         {
          "font": {},
          "showarrow": false,
          "text": "facet_col=8",
          "x": 0.42350000000000004,
          "xanchor": "center",
          "xref": "paper",
          "y": 1,
          "yanchor": "bottom",
          "yref": "paper"
         },
         {
          "font": {},
          "showarrow": false,
          "text": "facet_col=9",
          "x": 0.47450000000000003,
          "xanchor": "center",
          "xref": "paper",
          "y": 1,
          "yanchor": "bottom",
          "yref": "paper"
         },
         {
          "font": {},
          "showarrow": false,
          "text": "facet_col=10",
          "x": 0.5255000000000001,
          "xanchor": "center",
          "xref": "paper",
          "y": 1,
          "yanchor": "bottom",
          "yref": "paper"
         },
         {
          "font": {},
          "showarrow": false,
          "text": "facet_col=11",
          "x": 0.5765,
          "xanchor": "center",
          "xref": "paper",
          "y": 1,
          "yanchor": "bottom",
          "yref": "paper"
         },
         {
          "font": {},
          "showarrow": false,
          "text": "facet_col=12",
          "x": 0.6275,
          "xanchor": "center",
          "xref": "paper",
          "y": 1,
          "yanchor": "bottom",
          "yref": "paper"
         },
         {
          "font": {},
          "showarrow": false,
          "text": "facet_col=13",
          "x": 0.6785000000000001,
          "xanchor": "center",
          "xref": "paper",
          "y": 1,
          "yanchor": "bottom",
          "yref": "paper"
         },
         {
          "font": {},
          "showarrow": false,
          "text": "facet_col=14",
          "x": 0.7295,
          "xanchor": "center",
          "xref": "paper",
          "y": 1,
          "yanchor": "bottom",
          "yref": "paper"
         },
         {
          "font": {},
          "showarrow": false,
          "text": "facet_col=15",
          "x": 0.7805,
          "xanchor": "center",
          "xref": "paper",
          "y": 1,
          "yanchor": "bottom",
          "yref": "paper"
         },
         {
          "font": {},
          "showarrow": false,
          "text": "facet_col=16",
          "x": 0.8315000000000001,
          "xanchor": "center",
          "xref": "paper",
          "y": 1,
          "yanchor": "bottom",
          "yref": "paper"
         },
         {
          "font": {},
          "showarrow": false,
          "text": "facet_col=17",
          "x": 0.8825000000000001,
          "xanchor": "center",
          "xref": "paper",
          "y": 1,
          "yanchor": "bottom",
          "yref": "paper"
         },
         {
          "font": {},
          "showarrow": false,
          "text": "facet_col=18",
          "x": 0.9335,
          "xanchor": "center",
          "xref": "paper",
          "y": 1,
          "yanchor": "bottom",
          "yref": "paper"
         },
         {
          "font": {},
          "showarrow": false,
          "text": "facet_col=19",
          "x": 0.9844999999999999,
          "xanchor": "center",
          "xref": "paper",
          "y": 1,
          "yanchor": "bottom",
          "yref": "paper"
         }
        ],
        "coloraxis": {
         "colorscale": [
          [
           0,
           "#0d0887"
          ],
          [
           0.1111111111111111,
           "#46039f"
          ],
          [
           0.2222222222222222,
           "#7201a8"
          ],
          [
           0.3333333333333333,
           "#9c179e"
          ],
          [
           0.4444444444444444,
           "#bd3786"
          ],
          [
           0.5555555555555556,
           "#d8576b"
          ],
          [
           0.6666666666666666,
           "#ed7953"
          ],
          [
           0.7777777777777778,
           "#fb9f3a"
          ],
          [
           0.8888888888888888,
           "#fdca26"
          ],
          [
           1,
           "#f0f921"
          ]
         ]
        },
        "margin": {
         "t": 60
        },
        "template": {
         "data": {
          "bar": [
           {
            "error_x": {
             "color": "#2a3f5f"
            },
            "error_y": {
             "color": "#2a3f5f"
            },
            "marker": {
             "line": {
              "color": "#E5ECF6",
              "width": 0.5
             },
             "pattern": {
              "fillmode": "overlay",
              "size": 10,
              "solidity": 0.2
             }
            },
            "type": "bar"
           }
          ],
          "barpolar": [
           {
            "marker": {
             "line": {
              "color": "#E5ECF6",
              "width": 0.5
             },
             "pattern": {
              "fillmode": "overlay",
              "size": 10,
              "solidity": 0.2
             }
            },
            "type": "barpolar"
           }
          ],
          "carpet": [
           {
            "aaxis": {
             "endlinecolor": "#2a3f5f",
             "gridcolor": "white",
             "linecolor": "white",
             "minorgridcolor": "white",
             "startlinecolor": "#2a3f5f"
            },
            "baxis": {
             "endlinecolor": "#2a3f5f",
             "gridcolor": "white",
             "linecolor": "white",
             "minorgridcolor": "white",
             "startlinecolor": "#2a3f5f"
            },
            "type": "carpet"
           }
          ],
          "choropleth": [
           {
            "colorbar": {
             "outlinewidth": 0,
             "ticks": ""
            },
            "type": "choropleth"
           }
          ],
          "contour": [
           {
            "colorbar": {
             "outlinewidth": 0,
             "ticks": ""
            },
            "colorscale": [
             [
              0,
              "#0d0887"
             ],
             [
              0.1111111111111111,
              "#46039f"
             ],
             [
              0.2222222222222222,
              "#7201a8"
             ],
             [
              0.3333333333333333,
              "#9c179e"
             ],
             [
              0.4444444444444444,
              "#bd3786"
             ],
             [
              0.5555555555555556,
              "#d8576b"
             ],
             [
              0.6666666666666666,
              "#ed7953"
             ],
             [
              0.7777777777777778,
              "#fb9f3a"
             ],
             [
              0.8888888888888888,
              "#fdca26"
             ],
             [
              1,
              "#f0f921"
             ]
            ],
            "type": "contour"
           }
          ],
          "contourcarpet": [
           {
            "colorbar": {
             "outlinewidth": 0,
             "ticks": ""
            },
            "type": "contourcarpet"
           }
          ],
          "heatmap": [
           {
            "colorbar": {
             "outlinewidth": 0,
             "ticks": ""
            },
            "colorscale": [
             [
              0,
              "#0d0887"
             ],
             [
              0.1111111111111111,
              "#46039f"
             ],
             [
              0.2222222222222222,
              "#7201a8"
             ],
             [
              0.3333333333333333,
              "#9c179e"
             ],
             [
              0.4444444444444444,
              "#bd3786"
             ],
             [
              0.5555555555555556,
              "#d8576b"
             ],
             [
              0.6666666666666666,
              "#ed7953"
             ],
             [
              0.7777777777777778,
              "#fb9f3a"
             ],
             [
              0.8888888888888888,
              "#fdca26"
             ],
             [
              1,
              "#f0f921"
             ]
            ],
            "type": "heatmap"
           }
          ],
          "heatmapgl": [
           {
            "colorbar": {
             "outlinewidth": 0,
             "ticks": ""
            },
            "colorscale": [
             [
              0,
              "#0d0887"
             ],
             [
              0.1111111111111111,
              "#46039f"
             ],
             [
              0.2222222222222222,
              "#7201a8"
             ],
             [
              0.3333333333333333,
              "#9c179e"
             ],
             [
              0.4444444444444444,
              "#bd3786"
             ],
             [
              0.5555555555555556,
              "#d8576b"
             ],
             [
              0.6666666666666666,
              "#ed7953"
             ],
             [
              0.7777777777777778,
              "#fb9f3a"
             ],
             [
              0.8888888888888888,
              "#fdca26"
             ],
             [
              1,
              "#f0f921"
             ]
            ],
            "type": "heatmapgl"
           }
          ],
          "histogram": [
           {
            "marker": {
             "pattern": {
              "fillmode": "overlay",
              "size": 10,
              "solidity": 0.2
             }
            },
            "type": "histogram"
           }
          ],
          "histogram2d": [
           {
            "colorbar": {
             "outlinewidth": 0,
             "ticks": ""
            },
            "colorscale": [
             [
              0,
              "#0d0887"
             ],
             [
              0.1111111111111111,
              "#46039f"
             ],
             [
              0.2222222222222222,
              "#7201a8"
             ],
             [
              0.3333333333333333,
              "#9c179e"
             ],
             [
              0.4444444444444444,
              "#bd3786"
             ],
             [
              0.5555555555555556,
              "#d8576b"
             ],
             [
              0.6666666666666666,
              "#ed7953"
             ],
             [
              0.7777777777777778,
              "#fb9f3a"
             ],
             [
              0.8888888888888888,
              "#fdca26"
             ],
             [
              1,
              "#f0f921"
             ]
            ],
            "type": "histogram2d"
           }
          ],
          "histogram2dcontour": [
           {
            "colorbar": {
             "outlinewidth": 0,
             "ticks": ""
            },
            "colorscale": [
             [
              0,
              "#0d0887"
             ],
             [
              0.1111111111111111,
              "#46039f"
             ],
             [
              0.2222222222222222,
              "#7201a8"
             ],
             [
              0.3333333333333333,
              "#9c179e"
             ],
             [
              0.4444444444444444,
              "#bd3786"
             ],
             [
              0.5555555555555556,
              "#d8576b"
             ],
             [
              0.6666666666666666,
              "#ed7953"
             ],
             [
              0.7777777777777778,
              "#fb9f3a"
             ],
             [
              0.8888888888888888,
              "#fdca26"
             ],
             [
              1,
              "#f0f921"
             ]
            ],
            "type": "histogram2dcontour"
           }
          ],
          "mesh3d": [
           {
            "colorbar": {
             "outlinewidth": 0,
             "ticks": ""
            },
            "type": "mesh3d"
           }
          ],
          "parcoords": [
           {
            "line": {
             "colorbar": {
              "outlinewidth": 0,
              "ticks": ""
             }
            },
            "type": "parcoords"
           }
          ],
          "pie": [
           {
            "automargin": true,
            "type": "pie"
           }
          ],
          "scatter": [
           {
            "fillpattern": {
             "fillmode": "overlay",
             "size": 10,
             "solidity": 0.2
            },
            "type": "scatter"
           }
          ],
          "scatter3d": [
           {
            "line": {
             "colorbar": {
              "outlinewidth": 0,
              "ticks": ""
             }
            },
            "marker": {
             "colorbar": {
              "outlinewidth": 0,
              "ticks": ""
             }
            },
            "type": "scatter3d"
           }
          ],
          "scattercarpet": [
           {
            "marker": {
             "colorbar": {
              "outlinewidth": 0,
              "ticks": ""
             }
            },
            "type": "scattercarpet"
           }
          ],
          "scattergeo": [
           {
            "marker": {
             "colorbar": {
              "outlinewidth": 0,
              "ticks": ""
             }
            },
            "type": "scattergeo"
           }
          ],
          "scattergl": [
           {
            "marker": {
             "colorbar": {
              "outlinewidth": 0,
              "ticks": ""
             }
            },
            "type": "scattergl"
           }
          ],
          "scattermapbox": [
           {
            "marker": {
             "colorbar": {
              "outlinewidth": 0,
              "ticks": ""
             }
            },
            "type": "scattermapbox"
           }
          ],
          "scatterpolar": [
           {
            "marker": {
             "colorbar": {
              "outlinewidth": 0,
              "ticks": ""
             }
            },
            "type": "scatterpolar"
           }
          ],
          "scatterpolargl": [
           {
            "marker": {
             "colorbar": {
              "outlinewidth": 0,
              "ticks": ""
             }
            },
            "type": "scatterpolargl"
           }
          ],
          "scatterternary": [
           {
            "marker": {
             "colorbar": {
              "outlinewidth": 0,
              "ticks": ""
             }
            },
            "type": "scatterternary"
           }
          ],
          "surface": [
           {
            "colorbar": {
             "outlinewidth": 0,
             "ticks": ""
            },
            "colorscale": [
             [
              0,
              "#0d0887"
             ],
             [
              0.1111111111111111,
              "#46039f"
             ],
             [
              0.2222222222222222,
              "#7201a8"
             ],
             [
              0.3333333333333333,
              "#9c179e"
             ],
             [
              0.4444444444444444,
              "#bd3786"
             ],
             [
              0.5555555555555556,
              "#d8576b"
             ],
             [
              0.6666666666666666,
              "#ed7953"
             ],
             [
              0.7777777777777778,
              "#fb9f3a"
             ],
             [
              0.8888888888888888,
              "#fdca26"
             ],
             [
              1,
              "#f0f921"
             ]
            ],
            "type": "surface"
           }
          ],
          "table": [
           {
            "cells": {
             "fill": {
              "color": "#EBF0F8"
             },
             "line": {
              "color": "white"
             }
            },
            "header": {
             "fill": {
              "color": "#C8D4E3"
             },
             "line": {
              "color": "white"
             }
            },
            "type": "table"
           }
          ]
         },
         "layout": {
          "annotationdefaults": {
           "arrowcolor": "#2a3f5f",
           "arrowhead": 0,
           "arrowwidth": 1
          },
          "autotypenumbers": "strict",
          "coloraxis": {
           "colorbar": {
            "outlinewidth": 0,
            "ticks": ""
           }
          },
          "colorscale": {
           "diverging": [
            [
             0,
             "#8e0152"
            ],
            [
             0.1,
             "#c51b7d"
            ],
            [
             0.2,
             "#de77ae"
            ],
            [
             0.3,
             "#f1b6da"
            ],
            [
             0.4,
             "#fde0ef"
            ],
            [
             0.5,
             "#f7f7f7"
            ],
            [
             0.6,
             "#e6f5d0"
            ],
            [
             0.7,
             "#b8e186"
            ],
            [
             0.8,
             "#7fbc41"
            ],
            [
             0.9,
             "#4d9221"
            ],
            [
             1,
             "#276419"
            ]
           ],
           "sequential": [
            [
             0,
             "#0d0887"
            ],
            [
             0.1111111111111111,
             "#46039f"
            ],
            [
             0.2222222222222222,
             "#7201a8"
            ],
            [
             0.3333333333333333,
             "#9c179e"
            ],
            [
             0.4444444444444444,
             "#bd3786"
            ],
            [
             0.5555555555555556,
             "#d8576b"
            ],
            [
             0.6666666666666666,
             "#ed7953"
            ],
            [
             0.7777777777777778,
             "#fb9f3a"
            ],
            [
             0.8888888888888888,
             "#fdca26"
            ],
            [
             1,
             "#f0f921"
            ]
           ],
           "sequentialminus": [
            [
             0,
             "#0d0887"
            ],
            [
             0.1111111111111111,
             "#46039f"
            ],
            [
             0.2222222222222222,
             "#7201a8"
            ],
            [
             0.3333333333333333,
             "#9c179e"
            ],
            [
             0.4444444444444444,
             "#bd3786"
            ],
            [
             0.5555555555555556,
             "#d8576b"
            ],
            [
             0.6666666666666666,
             "#ed7953"
            ],
            [
             0.7777777777777778,
             "#fb9f3a"
            ],
            [
             0.8888888888888888,
             "#fdca26"
            ],
            [
             1,
             "#f0f921"
            ]
           ]
          },
          "colorway": [
           "#636efa",
           "#EF553B",
           "#00cc96",
           "#ab63fa",
           "#FFA15A",
           "#19d3f3",
           "#FF6692",
           "#B6E880",
           "#FF97FF",
           "#FECB52"
          ],
          "font": {
           "color": "#2a3f5f"
          },
          "geo": {
           "bgcolor": "white",
           "lakecolor": "white",
           "landcolor": "#E5ECF6",
           "showlakes": true,
           "showland": true,
           "subunitcolor": "white"
          },
          "hoverlabel": {
           "align": "left"
          },
          "hovermode": "closest",
          "mapbox": {
           "style": "light"
          },
          "paper_bgcolor": "white",
          "plot_bgcolor": "#E5ECF6",
          "polar": {
           "angularaxis": {
            "gridcolor": "white",
            "linecolor": "white",
            "ticks": ""
           },
           "bgcolor": "#E5ECF6",
           "radialaxis": {
            "gridcolor": "white",
            "linecolor": "white",
            "ticks": ""
           }
          },
          "scene": {
           "xaxis": {
            "backgroundcolor": "#E5ECF6",
            "gridcolor": "white",
            "gridwidth": 2,
            "linecolor": "white",
            "showbackground": true,
            "ticks": "",
            "zerolinecolor": "white"
           },
           "yaxis": {
            "backgroundcolor": "#E5ECF6",
            "gridcolor": "white",
            "gridwidth": 2,
            "linecolor": "white",
            "showbackground": true,
            "ticks": "",
            "zerolinecolor": "white"
           },
           "zaxis": {
            "backgroundcolor": "#E5ECF6",
            "gridcolor": "white",
            "gridwidth": 2,
            "linecolor": "white",
            "showbackground": true,
            "ticks": "",
            "zerolinecolor": "white"
           }
          },
          "shapedefaults": {
           "line": {
            "color": "#2a3f5f"
           }
          },
          "ternary": {
           "aaxis": {
            "gridcolor": "white",
            "linecolor": "white",
            "ticks": ""
           },
           "baxis": {
            "gridcolor": "white",
            "linecolor": "white",
            "ticks": ""
           },
           "bgcolor": "#E5ECF6",
           "caxis": {
            "gridcolor": "white",
            "linecolor": "white",
            "ticks": ""
           }
          },
          "title": {
           "x": 0.05
          },
          "xaxis": {
           "automargin": true,
           "gridcolor": "white",
           "linecolor": "white",
           "ticks": "",
           "title": {
            "standoff": 15
           },
           "zerolinecolor": "white",
           "zerolinewidth": 2
          },
          "yaxis": {
           "automargin": true,
           "gridcolor": "white",
           "linecolor": "white",
           "ticks": "",
           "title": {
            "standoff": 15
           },
           "zerolinecolor": "white",
           "zerolinewidth": 2
          }
         }
        },
        "xaxis": {
         "anchor": "y",
         "constrain": "domain",
         "domain": [
          0,
          0.031
         ],
         "scaleanchor": "y"
        },
        "xaxis10": {
         "anchor": "y10",
         "domain": [
          0.459,
          0.49
         ],
         "matches": "x"
        },
        "xaxis11": {
         "anchor": "y11",
         "domain": [
          0.51,
          0.541
         ],
         "matches": "x"
        },
        "xaxis12": {
         "anchor": "y12",
         "domain": [
          0.5609999999999999,
          0.592
         ],
         "matches": "x"
        },
        "xaxis13": {
         "anchor": "y13",
         "domain": [
          0.612,
          0.643
         ],
         "matches": "x"
        },
        "xaxis14": {
         "anchor": "y14",
         "domain": [
          0.663,
          0.6940000000000001
         ],
         "matches": "x"
        },
        "xaxis15": {
         "anchor": "y15",
         "domain": [
          0.714,
          0.745
         ],
         "matches": "x"
        },
        "xaxis16": {
         "anchor": "y16",
         "domain": [
          0.7649999999999999,
          0.7959999999999999
         ],
         "matches": "x"
        },
        "xaxis17": {
         "anchor": "y17",
         "domain": [
          0.8160000000000001,
          0.8470000000000001
         ],
         "matches": "x"
        },
        "xaxis18": {
         "anchor": "y18",
         "domain": [
          0.867,
          0.898
         ],
         "matches": "x"
        },
        "xaxis19": {
         "anchor": "y19",
         "domain": [
          0.918,
          0.9490000000000001
         ],
         "matches": "x"
        },
        "xaxis2": {
         "anchor": "y2",
         "domain": [
          0.051000000000000004,
          0.082
         ],
         "matches": "x"
        },
        "xaxis20": {
         "anchor": "y20",
         "domain": [
          0.969,
          1
         ],
         "matches": "x"
        },
        "xaxis3": {
         "anchor": "y3",
         "domain": [
          0.10200000000000001,
          0.133
         ],
         "matches": "x"
        },
        "xaxis4": {
         "anchor": "y4",
         "domain": [
          0.153,
          0.184
         ],
         "matches": "x"
        },
        "xaxis5": {
         "anchor": "y5",
         "domain": [
          0.20400000000000001,
          0.23500000000000001
         ],
         "matches": "x"
        },
        "xaxis6": {
         "anchor": "y6",
         "domain": [
          0.255,
          0.28600000000000003
         ],
         "matches": "x"
        },
        "xaxis7": {
         "anchor": "y7",
         "domain": [
          0.306,
          0.33699999999999997
         ],
         "matches": "x"
        },
        "xaxis8": {
         "anchor": "y8",
         "domain": [
          0.357,
          0.388
         ],
         "matches": "x"
        },
        "xaxis9": {
         "anchor": "y9",
         "domain": [
          0.40800000000000003,
          0.43900000000000006
         ],
         "matches": "x"
        },
        "yaxis": {
         "anchor": "x",
         "autorange": "reversed",
         "constrain": "domain",
         "domain": [
          0,
          1
         ]
        },
        "yaxis10": {
         "anchor": "x10",
         "domain": [
          0,
          1
         ],
         "matches": "y",
         "showticklabels": false
        },
        "yaxis11": {
         "anchor": "x11",
         "domain": [
          0,
          1
         ],
         "matches": "y",
         "showticklabels": false
        },
        "yaxis12": {
         "anchor": "x12",
         "domain": [
          0,
          1
         ],
         "matches": "y",
         "showticklabels": false
        },
        "yaxis13": {
         "anchor": "x13",
         "domain": [
          0,
          1
         ],
         "matches": "y",
         "showticklabels": false
        },
        "yaxis14": {
         "anchor": "x14",
         "domain": [
          0,
          1
         ],
         "matches": "y",
         "showticklabels": false
        },
        "yaxis15": {
         "anchor": "x15",
         "domain": [
          0,
          1
         ],
         "matches": "y",
         "showticklabels": false
        },
        "yaxis16": {
         "anchor": "x16",
         "domain": [
          0,
          1
         ],
         "matches": "y",
         "showticklabels": false
        },
        "yaxis17": {
         "anchor": "x17",
         "domain": [
          0,
          1
         ],
         "matches": "y",
         "showticklabels": false
        },
        "yaxis18": {
         "anchor": "x18",
         "domain": [
          0,
          1
         ],
         "matches": "y",
         "showticklabels": false
        },
        "yaxis19": {
         "anchor": "x19",
         "domain": [
          0,
          1
         ],
         "matches": "y",
         "showticklabels": false
        },
        "yaxis2": {
         "anchor": "x2",
         "domain": [
          0,
          1
         ],
         "matches": "y",
         "showticklabels": false
        },
        "yaxis20": {
         "anchor": "x20",
         "domain": [
          0,
          1
         ],
         "matches": "y",
         "showticklabels": false
        },
        "yaxis3": {
         "anchor": "x3",
         "domain": [
          0,
          1
         ],
         "matches": "y",
         "showticklabels": false
        },
        "yaxis4": {
         "anchor": "x4",
         "domain": [
          0,
          1
         ],
         "matches": "y",
         "showticklabels": false
        },
        "yaxis5": {
         "anchor": "x5",
         "domain": [
          0,
          1
         ],
         "matches": "y",
         "showticklabels": false
        },
        "yaxis6": {
         "anchor": "x6",
         "domain": [
          0,
          1
         ],
         "matches": "y",
         "showticklabels": false
        },
        "yaxis7": {
         "anchor": "x7",
         "domain": [
          0,
          1
         ],
         "matches": "y",
         "showticklabels": false
        },
        "yaxis8": {
         "anchor": "x8",
         "domain": [
          0,
          1
         ],
         "matches": "y",
         "showticklabels": false
        },
        "yaxis9": {
         "anchor": "x9",
         "domain": [
          0,
          1
         ],
         "matches": "y",
         "showticklabels": false
        }
       }
      }
     },
     "metadata": {},
     "output_type": "display_data"
    }
   ],
   "source": [
    "from functools import reduce\n",
    "\n",
    "img = x_train[[5673]]\n",
    "convs = reduce(lambda x, l: l.forward(x), nn[:6], img) #nn[1].forward(nn[0].forward(img))\n",
    "convs.shape\n",
    "normed_convs = (convs - convs.min(axis=3, keepdims=True)) / (convs.max(axis=3, keepdims=True) - convs.min(axis=3, keepdims=True))\n",
    "normed_convs.shape\n",
    "px.imshow(normed_convs[0], facet_col=2)"
   ]
  },
  {
   "cell_type": "code",
   "execution_count": 62,
   "metadata": {},
   "outputs": [
    {
     "data": {
      "application/vnd.plotly.v1+json": {
       "config": {
        "plotlyServerURL": "https://plot.ly"
       },
       "data": [
        {
         "hovertemplate": "x: %{x}<br>y: %{y}<extra></extra>",
         "name": "0",
         "source": "data:image/png;base64,iVBORw0KGgoAAAANSUhEUgAAAAcAAAAHCAIAAABLMMCEAAAAiUlEQVR4XgXBMUqCAQAG0PeDuJi4GIjQUJNLk4vg0OgBBBfHxpaG9hK8gjdIcHLwAiK0/Il6Agc9QlNI9PleYR9N7i7GVTe0eMZPZJ2jeI8yPqJfUe8yMEeNFQv3R0/hP22JcYyikY7KA5ui/ErPkB2P3Cpe48TymwO/vJn+xUvM4hLZmoRzfOYKk1s1jR/CWrIAAAAASUVORK5CYII=",
         "type": "image",
         "xaxis": "x",
         "yaxis": "y"
        },
        {
         "hovertemplate": "x: %{x}<br>y: %{y}<extra></extra>",
         "name": "1",
         "source": "data:image/png;base64,iVBORw0KGgoAAAANSUhEUgAAAAcAAAAHCAIAAABLMMCEAAAAh0lEQVR4XgXBIWpCAQAG4O/BkgdQGAYx2MbSwqoH8AQ2DyBWu8XiGVZXBzvBDCKCCIJgsegDkyiyN8b4932UiTJOM1nJVfrCV9IRr/F3lrm8CaNEL15iHPM4xLKIDzZUTD3/aLP3wCcXar+q3bp42tIhGpnInQweYxjvUWgli6JZd9TlRoPvf1cCP5/uQ/mqAAAAAElFTkSuQmCC",
         "type": "image",
         "xaxis": "x2",
         "yaxis": "y2"
        },
        {
         "hovertemplate": "x: %{x}<br>y: %{y}<extra></extra>",
         "name": "2",
         "source": "data:image/png;base64,iVBORw0KGgoAAAANSUhEUgAAAAcAAAAHCAIAAABLMMCEAAAAfklEQVR4XgXBsYoBAAAG4I9MpIiRurqJkSxKsdnY7gEs9xj3GmajQTYZFYvJ5A0sspgupd/3yUVG0hbbu8Rf1EqelGlymzXfHeOrbwV5ZNpQociNL1pKrE87wxVV3pxpKOxjzoY6gxNrHuSoF/1YSkxSlh8ys5BfOUi84j+6HzoiMiJXqV8DAAAAAElFTkSuQmCC",
         "type": "image",
         "xaxis": "x3",
         "yaxis": "y3"
        },
        {
         "hovertemplate": "x: %{x}<br>y: %{y}<extra></extra>",
         "name": "3",
         "source": "data:image/png;base64,iVBORw0KGgoAAAANSUhEUgAAAAcAAAAHCAIAAABLMMCEAAAAdElEQVR4XgXBIQ5BAQAG4M9mxmaK7gCCJNpM1Em6OzDdCRxFQBOcQjGvvoa9wPt9H9uo4hp5ekcR57CMbdoS5U4WYh4ZyFgMYhSbuHyk6UWNioo7v45jI/pmpTd4UFNpNrLOYa9LixsFPeQyiWGsIl85ydQf3Jw8fc1SDEQAAAAASUVORK5CYII=",
         "type": "image",
         "xaxis": "x4",
         "yaxis": "y4"
        },
        {
         "hovertemplate": "x: %{x}<br>y: %{y}<extra></extra>",
         "name": "4",
         "source": "data:image/png;base64,iVBORw0KGgoAAAANSUhEUgAAAAcAAAAHCAIAAABLMMCEAAAAa0lEQVR4XgXBwQrBcBwA4G/rvxLJDpTUODggN7stDt5gz+wtlAdQWistpdTP97mENqzCLIjlNdxCJs7ceTe+JypaEs+jV82WPSUbsjo0HFiwJjEn7ch50FPSMZD/KEBHz4SMNKIgMWbKwIc/NxAbHigj8ekAAAAASUVORK5CYII=",
         "type": "image",
         "xaxis": "x5",
         "yaxis": "y5"
        },
        {
         "hovertemplate": "x: %{x}<br>y: %{y}<extra></extra>",
         "name": "5",
         "source": "data:image/png;base64,iVBORw0KGgoAAAANSUhEUgAAAAcAAAAHCAIAAABLMMCEAAAAi0lEQVR4XgXBMUpCAQAG4O/JA6E1rCACGyWTOoSUJxBdHBycxCXcO0NjdAyHbhAtUQ8CEVrCycXBwUV+v0/MPuRWzuRFjNKJkscF1QUN01Ou/exTGvf+3+KJA3VO+CbP8kr+/MYqqsh7zYZzfGpt7WRXfHko1WlqF/3KhCHzO1dFLll3abPkhkHX/RG1ni7gqb1ZgAAAAABJRU5ErkJggg==",
         "type": "image",
         "xaxis": "x6",
         "yaxis": "y6"
        },
        {
         "hovertemplate": "x: %{x}<br>y: %{y}<extra></extra>",
         "name": "6",
         "source": "data:image/png;base64,iVBORw0KGgoAAAANSUhEUgAAAAcAAAAHCAIAAABLMMCEAAAAeUlEQVR4XgXBsapBAQAG4O/clMWl5Awn3cFusXg2m115Ao+gLEal250tym46YZBIBob/fh+ZSW0fqeVtFYuIMibxm6G0RP8kRdDhRZc3tx7jhgFXPpXLnW9+aH85zj3wVL0UF840mcY2pawldnFYSuEvRpx5ULNh7R9w9TYJ7KFE3wAAAABJRU5ErkJggg==",
         "type": "image",
         "xaxis": "x7",
         "yaxis": "y7"
        },
        {
         "hovertemplate": "x: %{x}<br>y: %{y}<extra></extra>",
         "name": "7",
         "source": "data:image/png;base64,iVBORw0KGgoAAAANSUhEUgAAAAcAAAAHCAIAAABLMMCEAAAAgUlEQVR4XgXBv4oBAAAH4M+fQcpAUfIGdIvBC/ACynTd7CHuEa7jCWRUpstkUgaj2WAzSCne4Px8n1nIr21ilKksSV024ls1mcunTBxChvIlP+6RnWw8o2jAi4fmigod9bOyKn2mbjXtf068lLXoWdccuZZ0PzQoLOLCnistxvzxBrl/MHlXZRg/AAAAAElFTkSuQmCC",
         "type": "image",
         "xaxis": "x8",
         "yaxis": "y8"
        },
        {
         "hovertemplate": "x: %{x}<br>y: %{y}<extra></extra>",
         "name": "8",
         "source": "data:image/png;base64,iVBORw0KGgoAAAANSUhEUgAAAAcAAAAHCAIAAABLMMCEAAAAfUlEQVR4XgXBsQpBYRgA0PMPSrrFopSBlBewmD2MxSSD0aC8AnUHszewmA1Gm0Epi1Aig4XPOcky/FjKt/YcWY+kmugzdWXOmybnFBpcyKhyUv/oSdGhQMaONl1KUigbPrU48KXGnTCJlXiIl02ItcilWeiy50YlxdhCcfAHSesrOfjkUskAAAAASUVORK5CYII=",
         "type": "image",
         "xaxis": "x9",
         "yaxis": "y9"
        },
        {
         "hovertemplate": "x: %{x}<br>y: %{y}<extra></extra>",
         "name": "9",
         "source": "data:image/png;base64,iVBORw0KGgoAAAANSUhEUgAAAAcAAAAHCAIAAABLMMCEAAAAeUlEQVR4XgXBIQ6BAQAG0MfY/AlJsb9JggvYmCAIHIHNGUxRnUAQBcE9TLFxB5tkkhN83qOai8QqyihSiCGTDCTusUhDxqKsOMaP7T6TnRElX7V0Kgqm1OnS4qlq5rBkRJMXbR70Q9a3yEnePpEr55C9PDOXjZxE7w/tCjN+bV1RTQAAAABJRU5ErkJggg==",
         "type": "image",
         "xaxis": "x10",
         "yaxis": "y10"
        }
       ],
       "layout": {
        "annotations": [
         {
          "font": {},
          "showarrow": false,
          "text": "facet_col=0",
          "x": 0.04100000000000001,
          "xanchor": "center",
          "xref": "paper",
          "y": 1,
          "yanchor": "bottom",
          "yref": "paper"
         },
         {
          "font": {},
          "showarrow": false,
          "text": "facet_col=1",
          "x": 0.14300000000000004,
          "xanchor": "center",
          "xref": "paper",
          "y": 1,
          "yanchor": "bottom",
          "yref": "paper"
         },
         {
          "font": {},
          "showarrow": false,
          "text": "facet_col=2",
          "x": 0.24500000000000005,
          "xanchor": "center",
          "xref": "paper",
          "y": 1,
          "yanchor": "bottom",
          "yref": "paper"
         },
         {
          "font": {},
          "showarrow": false,
          "text": "facet_col=3",
          "x": 0.3470000000000001,
          "xanchor": "center",
          "xref": "paper",
          "y": 1,
          "yanchor": "bottom",
          "yref": "paper"
         },
         {
          "font": {},
          "showarrow": false,
          "text": "facet_col=4",
          "x": 0.44900000000000007,
          "xanchor": "center",
          "xref": "paper",
          "y": 1,
          "yanchor": "bottom",
          "yref": "paper"
         },
         {
          "font": {},
          "showarrow": false,
          "text": "facet_col=5",
          "x": 0.5510000000000002,
          "xanchor": "center",
          "xref": "paper",
          "y": 1,
          "yanchor": "bottom",
          "yref": "paper"
         },
         {
          "font": {},
          "showarrow": false,
          "text": "facet_col=6",
          "x": 0.6530000000000001,
          "xanchor": "center",
          "xref": "paper",
          "y": 1,
          "yanchor": "bottom",
          "yref": "paper"
         },
         {
          "font": {},
          "showarrow": false,
          "text": "facet_col=7",
          "x": 0.7550000000000001,
          "xanchor": "center",
          "xref": "paper",
          "y": 1,
          "yanchor": "bottom",
          "yref": "paper"
         },
         {
          "font": {},
          "showarrow": false,
          "text": "facet_col=8",
          "x": 0.8570000000000002,
          "xanchor": "center",
          "xref": "paper",
          "y": 1,
          "yanchor": "bottom",
          "yref": "paper"
         },
         {
          "font": {},
          "showarrow": false,
          "text": "facet_col=9",
          "x": 0.9590000000000002,
          "xanchor": "center",
          "xref": "paper",
          "y": 1,
          "yanchor": "bottom",
          "yref": "paper"
         }
        ],
        "margin": {
         "t": 60
        },
        "template": {
         "data": {
          "bar": [
           {
            "error_x": {
             "color": "#2a3f5f"
            },
            "error_y": {
             "color": "#2a3f5f"
            },
            "marker": {
             "line": {
              "color": "#E5ECF6",
              "width": 0.5
             },
             "pattern": {
              "fillmode": "overlay",
              "size": 10,
              "solidity": 0.2
             }
            },
            "type": "bar"
           }
          ],
          "barpolar": [
           {
            "marker": {
             "line": {
              "color": "#E5ECF6",
              "width": 0.5
             },
             "pattern": {
              "fillmode": "overlay",
              "size": 10,
              "solidity": 0.2
             }
            },
            "type": "barpolar"
           }
          ],
          "carpet": [
           {
            "aaxis": {
             "endlinecolor": "#2a3f5f",
             "gridcolor": "white",
             "linecolor": "white",
             "minorgridcolor": "white",
             "startlinecolor": "#2a3f5f"
            },
            "baxis": {
             "endlinecolor": "#2a3f5f",
             "gridcolor": "white",
             "linecolor": "white",
             "minorgridcolor": "white",
             "startlinecolor": "#2a3f5f"
            },
            "type": "carpet"
           }
          ],
          "choropleth": [
           {
            "colorbar": {
             "outlinewidth": 0,
             "ticks": ""
            },
            "type": "choropleth"
           }
          ],
          "contour": [
           {
            "colorbar": {
             "outlinewidth": 0,
             "ticks": ""
            },
            "colorscale": [
             [
              0,
              "#0d0887"
             ],
             [
              0.1111111111111111,
              "#46039f"
             ],
             [
              0.2222222222222222,
              "#7201a8"
             ],
             [
              0.3333333333333333,
              "#9c179e"
             ],
             [
              0.4444444444444444,
              "#bd3786"
             ],
             [
              0.5555555555555556,
              "#d8576b"
             ],
             [
              0.6666666666666666,
              "#ed7953"
             ],
             [
              0.7777777777777778,
              "#fb9f3a"
             ],
             [
              0.8888888888888888,
              "#fdca26"
             ],
             [
              1,
              "#f0f921"
             ]
            ],
            "type": "contour"
           }
          ],
          "contourcarpet": [
           {
            "colorbar": {
             "outlinewidth": 0,
             "ticks": ""
            },
            "type": "contourcarpet"
           }
          ],
          "heatmap": [
           {
            "colorbar": {
             "outlinewidth": 0,
             "ticks": ""
            },
            "colorscale": [
             [
              0,
              "#0d0887"
             ],
             [
              0.1111111111111111,
              "#46039f"
             ],
             [
              0.2222222222222222,
              "#7201a8"
             ],
             [
              0.3333333333333333,
              "#9c179e"
             ],
             [
              0.4444444444444444,
              "#bd3786"
             ],
             [
              0.5555555555555556,
              "#d8576b"
             ],
             [
              0.6666666666666666,
              "#ed7953"
             ],
             [
              0.7777777777777778,
              "#fb9f3a"
             ],
             [
              0.8888888888888888,
              "#fdca26"
             ],
             [
              1,
              "#f0f921"
             ]
            ],
            "type": "heatmap"
           }
          ],
          "heatmapgl": [
           {
            "colorbar": {
             "outlinewidth": 0,
             "ticks": ""
            },
            "colorscale": [
             [
              0,
              "#0d0887"
             ],
             [
              0.1111111111111111,
              "#46039f"
             ],
             [
              0.2222222222222222,
              "#7201a8"
             ],
             [
              0.3333333333333333,
              "#9c179e"
             ],
             [
              0.4444444444444444,
              "#bd3786"
             ],
             [
              0.5555555555555556,
              "#d8576b"
             ],
             [
              0.6666666666666666,
              "#ed7953"
             ],
             [
              0.7777777777777778,
              "#fb9f3a"
             ],
             [
              0.8888888888888888,
              "#fdca26"
             ],
             [
              1,
              "#f0f921"
             ]
            ],
            "type": "heatmapgl"
           }
          ],
          "histogram": [
           {
            "marker": {
             "pattern": {
              "fillmode": "overlay",
              "size": 10,
              "solidity": 0.2
             }
            },
            "type": "histogram"
           }
          ],
          "histogram2d": [
           {
            "colorbar": {
             "outlinewidth": 0,
             "ticks": ""
            },
            "colorscale": [
             [
              0,
              "#0d0887"
             ],
             [
              0.1111111111111111,
              "#46039f"
             ],
             [
              0.2222222222222222,
              "#7201a8"
             ],
             [
              0.3333333333333333,
              "#9c179e"
             ],
             [
              0.4444444444444444,
              "#bd3786"
             ],
             [
              0.5555555555555556,
              "#d8576b"
             ],
             [
              0.6666666666666666,
              "#ed7953"
             ],
             [
              0.7777777777777778,
              "#fb9f3a"
             ],
             [
              0.8888888888888888,
              "#fdca26"
             ],
             [
              1,
              "#f0f921"
             ]
            ],
            "type": "histogram2d"
           }
          ],
          "histogram2dcontour": [
           {
            "colorbar": {
             "outlinewidth": 0,
             "ticks": ""
            },
            "colorscale": [
             [
              0,
              "#0d0887"
             ],
             [
              0.1111111111111111,
              "#46039f"
             ],
             [
              0.2222222222222222,
              "#7201a8"
             ],
             [
              0.3333333333333333,
              "#9c179e"
             ],
             [
              0.4444444444444444,
              "#bd3786"
             ],
             [
              0.5555555555555556,
              "#d8576b"
             ],
             [
              0.6666666666666666,
              "#ed7953"
             ],
             [
              0.7777777777777778,
              "#fb9f3a"
             ],
             [
              0.8888888888888888,
              "#fdca26"
             ],
             [
              1,
              "#f0f921"
             ]
            ],
            "type": "histogram2dcontour"
           }
          ],
          "mesh3d": [
           {
            "colorbar": {
             "outlinewidth": 0,
             "ticks": ""
            },
            "type": "mesh3d"
           }
          ],
          "parcoords": [
           {
            "line": {
             "colorbar": {
              "outlinewidth": 0,
              "ticks": ""
             }
            },
            "type": "parcoords"
           }
          ],
          "pie": [
           {
            "automargin": true,
            "type": "pie"
           }
          ],
          "scatter": [
           {
            "fillpattern": {
             "fillmode": "overlay",
             "size": 10,
             "solidity": 0.2
            },
            "type": "scatter"
           }
          ],
          "scatter3d": [
           {
            "line": {
             "colorbar": {
              "outlinewidth": 0,
              "ticks": ""
             }
            },
            "marker": {
             "colorbar": {
              "outlinewidth": 0,
              "ticks": ""
             }
            },
            "type": "scatter3d"
           }
          ],
          "scattercarpet": [
           {
            "marker": {
             "colorbar": {
              "outlinewidth": 0,
              "ticks": ""
             }
            },
            "type": "scattercarpet"
           }
          ],
          "scattergeo": [
           {
            "marker": {
             "colorbar": {
              "outlinewidth": 0,
              "ticks": ""
             }
            },
            "type": "scattergeo"
           }
          ],
          "scattergl": [
           {
            "marker": {
             "colorbar": {
              "outlinewidth": 0,
              "ticks": ""
             }
            },
            "type": "scattergl"
           }
          ],
          "scattermapbox": [
           {
            "marker": {
             "colorbar": {
              "outlinewidth": 0,
              "ticks": ""
             }
            },
            "type": "scattermapbox"
           }
          ],
          "scatterpolar": [
           {
            "marker": {
             "colorbar": {
              "outlinewidth": 0,
              "ticks": ""
             }
            },
            "type": "scatterpolar"
           }
          ],
          "scatterpolargl": [
           {
            "marker": {
             "colorbar": {
              "outlinewidth": 0,
              "ticks": ""
             }
            },
            "type": "scatterpolargl"
           }
          ],
          "scatterternary": [
           {
            "marker": {
             "colorbar": {
              "outlinewidth": 0,
              "ticks": ""
             }
            },
            "type": "scatterternary"
           }
          ],
          "surface": [
           {
            "colorbar": {
             "outlinewidth": 0,
             "ticks": ""
            },
            "colorscale": [
             [
              0,
              "#0d0887"
             ],
             [
              0.1111111111111111,
              "#46039f"
             ],
             [
              0.2222222222222222,
              "#7201a8"
             ],
             [
              0.3333333333333333,
              "#9c179e"
             ],
             [
              0.4444444444444444,
              "#bd3786"
             ],
             [
              0.5555555555555556,
              "#d8576b"
             ],
             [
              0.6666666666666666,
              "#ed7953"
             ],
             [
              0.7777777777777778,
              "#fb9f3a"
             ],
             [
              0.8888888888888888,
              "#fdca26"
             ],
             [
              1,
              "#f0f921"
             ]
            ],
            "type": "surface"
           }
          ],
          "table": [
           {
            "cells": {
             "fill": {
              "color": "#EBF0F8"
             },
             "line": {
              "color": "white"
             }
            },
            "header": {
             "fill": {
              "color": "#C8D4E3"
             },
             "line": {
              "color": "white"
             }
            },
            "type": "table"
           }
          ]
         },
         "layout": {
          "annotationdefaults": {
           "arrowcolor": "#2a3f5f",
           "arrowhead": 0,
           "arrowwidth": 1
          },
          "autotypenumbers": "strict",
          "coloraxis": {
           "colorbar": {
            "outlinewidth": 0,
            "ticks": ""
           }
          },
          "colorscale": {
           "diverging": [
            [
             0,
             "#8e0152"
            ],
            [
             0.1,
             "#c51b7d"
            ],
            [
             0.2,
             "#de77ae"
            ],
            [
             0.3,
             "#f1b6da"
            ],
            [
             0.4,
             "#fde0ef"
            ],
            [
             0.5,
             "#f7f7f7"
            ],
            [
             0.6,
             "#e6f5d0"
            ],
            [
             0.7,
             "#b8e186"
            ],
            [
             0.8,
             "#7fbc41"
            ],
            [
             0.9,
             "#4d9221"
            ],
            [
             1,
             "#276419"
            ]
           ],
           "sequential": [
            [
             0,
             "#0d0887"
            ],
            [
             0.1111111111111111,
             "#46039f"
            ],
            [
             0.2222222222222222,
             "#7201a8"
            ],
            [
             0.3333333333333333,
             "#9c179e"
            ],
            [
             0.4444444444444444,
             "#bd3786"
            ],
            [
             0.5555555555555556,
             "#d8576b"
            ],
            [
             0.6666666666666666,
             "#ed7953"
            ],
            [
             0.7777777777777778,
             "#fb9f3a"
            ],
            [
             0.8888888888888888,
             "#fdca26"
            ],
            [
             1,
             "#f0f921"
            ]
           ],
           "sequentialminus": [
            [
             0,
             "#0d0887"
            ],
            [
             0.1111111111111111,
             "#46039f"
            ],
            [
             0.2222222222222222,
             "#7201a8"
            ],
            [
             0.3333333333333333,
             "#9c179e"
            ],
            [
             0.4444444444444444,
             "#bd3786"
            ],
            [
             0.5555555555555556,
             "#d8576b"
            ],
            [
             0.6666666666666666,
             "#ed7953"
            ],
            [
             0.7777777777777778,
             "#fb9f3a"
            ],
            [
             0.8888888888888888,
             "#fdca26"
            ],
            [
             1,
             "#f0f921"
            ]
           ]
          },
          "colorway": [
           "#636efa",
           "#EF553B",
           "#00cc96",
           "#ab63fa",
           "#FFA15A",
           "#19d3f3",
           "#FF6692",
           "#B6E880",
           "#FF97FF",
           "#FECB52"
          ],
          "font": {
           "color": "#2a3f5f"
          },
          "geo": {
           "bgcolor": "white",
           "lakecolor": "white",
           "landcolor": "#E5ECF6",
           "showlakes": true,
           "showland": true,
           "subunitcolor": "white"
          },
          "hoverlabel": {
           "align": "left"
          },
          "hovermode": "closest",
          "mapbox": {
           "style": "light"
          },
          "paper_bgcolor": "white",
          "plot_bgcolor": "#E5ECF6",
          "polar": {
           "angularaxis": {
            "gridcolor": "white",
            "linecolor": "white",
            "ticks": ""
           },
           "bgcolor": "#E5ECF6",
           "radialaxis": {
            "gridcolor": "white",
            "linecolor": "white",
            "ticks": ""
           }
          },
          "scene": {
           "xaxis": {
            "backgroundcolor": "#E5ECF6",
            "gridcolor": "white",
            "gridwidth": 2,
            "linecolor": "white",
            "showbackground": true,
            "ticks": "",
            "zerolinecolor": "white"
           },
           "yaxis": {
            "backgroundcolor": "#E5ECF6",
            "gridcolor": "white",
            "gridwidth": 2,
            "linecolor": "white",
            "showbackground": true,
            "ticks": "",
            "zerolinecolor": "white"
           },
           "zaxis": {
            "backgroundcolor": "#E5ECF6",
            "gridcolor": "white",
            "gridwidth": 2,
            "linecolor": "white",
            "showbackground": true,
            "ticks": "",
            "zerolinecolor": "white"
           }
          },
          "shapedefaults": {
           "line": {
            "color": "#2a3f5f"
           }
          },
          "ternary": {
           "aaxis": {
            "gridcolor": "white",
            "linecolor": "white",
            "ticks": ""
           },
           "baxis": {
            "gridcolor": "white",
            "linecolor": "white",
            "ticks": ""
           },
           "bgcolor": "#E5ECF6",
           "caxis": {
            "gridcolor": "white",
            "linecolor": "white",
            "ticks": ""
           }
          },
          "title": {
           "x": 0.05
          },
          "xaxis": {
           "automargin": true,
           "gridcolor": "white",
           "linecolor": "white",
           "ticks": "",
           "title": {
            "standoff": 15
           },
           "zerolinecolor": "white",
           "zerolinewidth": 2
          },
          "yaxis": {
           "automargin": true,
           "gridcolor": "white",
           "linecolor": "white",
           "ticks": "",
           "title": {
            "standoff": 15
           },
           "zerolinecolor": "white",
           "zerolinewidth": 2
          }
         }
        },
        "xaxis": {
         "anchor": "y",
         "domain": [
          0,
          0.08200000000000002
         ]
        },
        "xaxis10": {
         "anchor": "y10",
         "domain": [
          0.9180000000000001,
          1
         ],
         "matches": "x"
        },
        "xaxis2": {
         "anchor": "y2",
         "domain": [
          0.10200000000000002,
          0.18400000000000005
         ],
         "matches": "x"
        },
        "xaxis3": {
         "anchor": "y3",
         "domain": [
          0.20400000000000004,
          0.28600000000000003
         ],
         "matches": "x"
        },
        "xaxis4": {
         "anchor": "y4",
         "domain": [
          0.30600000000000005,
          0.38800000000000007
         ],
         "matches": "x"
        },
        "xaxis5": {
         "anchor": "y5",
         "domain": [
          0.4080000000000001,
          0.4900000000000001
         ],
         "matches": "x"
        },
        "xaxis6": {
         "anchor": "y6",
         "domain": [
          0.5100000000000001,
          0.5920000000000001
         ],
         "matches": "x"
        },
        "xaxis7": {
         "anchor": "y7",
         "domain": [
          0.6120000000000001,
          0.6940000000000002
         ],
         "matches": "x"
        },
        "xaxis8": {
         "anchor": "y8",
         "domain": [
          0.7140000000000001,
          0.796
         ],
         "matches": "x"
        },
        "xaxis9": {
         "anchor": "y9",
         "domain": [
          0.8160000000000002,
          0.8980000000000001
         ],
         "matches": "x"
        },
        "yaxis": {
         "anchor": "x",
         "domain": [
          0,
          1
         ]
        },
        "yaxis10": {
         "anchor": "x10",
         "domain": [
          0,
          1
         ],
         "matches": "y",
         "showticklabels": false
        },
        "yaxis2": {
         "anchor": "x2",
         "domain": [
          0,
          1
         ],
         "matches": "y",
         "showticklabels": false
        },
        "yaxis3": {
         "anchor": "x3",
         "domain": [
          0,
          1
         ],
         "matches": "y",
         "showticklabels": false
        },
        "yaxis4": {
         "anchor": "x4",
         "domain": [
          0,
          1
         ],
         "matches": "y",
         "showticklabels": false
        },
        "yaxis5": {
         "anchor": "x5",
         "domain": [
          0,
          1
         ],
         "matches": "y",
         "showticklabels": false
        },
        "yaxis6": {
         "anchor": "x6",
         "domain": [
          0,
          1
         ],
         "matches": "y",
         "showticklabels": false
        },
        "yaxis7": {
         "anchor": "x7",
         "domain": [
          0,
          1
         ],
         "matches": "y",
         "showticklabels": false
        },
        "yaxis8": {
         "anchor": "x8",
         "domain": [
          0,
          1
         ],
         "matches": "y",
         "showticklabels": false
        },
        "yaxis9": {
         "anchor": "x9",
         "domain": [
          0,
          1
         ],
         "matches": "y",
         "showticklabels": false
        }
       }
      }
     },
     "metadata": {},
     "output_type": "display_data"
    }
   ],
   "source": [
    "def min_max_normalize(arr:np.ndarray, axis:tuple) -> np.ndarray:\n",
    "    return (arr - arr.min(axis, keepdims=True)) / (arr.max(axis, keepdims=True) - arr.min(axis, keepdims=True))\n",
    "\n",
    "normed_kernels = min_max_normalize(nn[0].kernels , (3))\n",
    "normed_kernels.shape\n",
    "\n",
    "px.imshow(normed_kernels, facet_col=0)"
   ]
  },
  {
   "cell_type": "code",
   "execution_count": 63,
   "metadata": {},
   "outputs": [
    {
     "data": {
      "text/plain": [
       "{'accuracy': np.float64(0.3358)}"
      ]
     },
     "execution_count": 63,
     "metadata": {},
     "output_type": "execute_result"
    }
   ],
   "source": [
    "y_test_pred = reduce(lambda x, l: l.forward(x), nn, x_test)\n",
    "accuracy({}, y_test_pred, y_test)"
   ]
  }
 ],
 "metadata": {
  "kernelspec": {
   "display_name": "CNN",
   "language": "python",
   "name": "python3"
  },
  "language_info": {
   "codemirror_mode": {
    "name": "ipython",
    "version": 3
   },
   "file_extension": ".py",
   "mimetype": "text/x-python",
   "name": "python",
   "nbconvert_exporter": "python",
   "pygments_lexer": "ipython3",
   "version": "3.12.9"
  }
 },
 "nbformat": 4,
 "nbformat_minor": 2
}
