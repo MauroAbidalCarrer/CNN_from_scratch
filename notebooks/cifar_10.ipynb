{
 "cells": [
  {
   "cell_type": "markdown",
   "metadata": {},
   "source": [
    "# Cifar 10 "
   ]
  },
  {
   "cell_type": "markdown",
   "metadata": {},
   "source": [
    "## Setup"
   ]
  },
  {
   "cell_type": "markdown",
   "metadata": {},
   "source": [
    "### Imports"
   ]
  },
  {
   "cell_type": "code",
   "execution_count": 1,
   "metadata": {},
   "outputs": [],
   "source": [
    "from functools import reduce\n",
    "\n",
    "import numpy as np\n",
    "import plotly.io as pio\n",
    "from numpy import ndarray\n",
    "import plotly.express as px\n",
    "from numpy import array_split as split\n",
    "\n",
    "from optimizers import Adam\n",
    "from metrics import accuracy\n",
    "from constants import MAX_NB_SAMPLES\n",
    "from losses import BinaryCrossentropy\n",
    "from cifar_10_dataset_loading import load_cifar_10\n",
    "from layers import Convolutional, Linear, Relu, BatchNorm, Flatten, Softmax, MaxPool, Layer, LeakyRelu"
   ]
  },
  {
   "cell_type": "code",
   "execution_count": 2,
   "metadata": {},
   "outputs": [],
   "source": [
    "pio.renderers.default = \"jupyterlab+png\""
   ]
  },
  {
   "cell_type": "markdown",
   "metadata": {},
   "source": [
    "### Data extraction"
   ]
  },
  {
   "cell_type": "code",
   "execution_count": 3,
   "metadata": {},
   "outputs": [],
   "source": [
    "x_train, y_train, x_test, y_test = load_cifar_10()"
   ]
  },
  {
   "cell_type": "code",
   "execution_count": 4,
   "metadata": {},
   "outputs": [],
   "source": [
    "classes = y_train.argmax(axis=1)"
   ]
  },
  {
   "cell_type": "code",
   "execution_count": 5,
   "metadata": {},
   "outputs": [
    {
     "data": {
      "text/plain": [
       "dtype('float64')"
      ]
     },
     "execution_count": 5,
     "metadata": {},
     "output_type": "execute_result"
    }
   ],
   "source": [
    "# Change range from [0, 255] to [-1, 1]\n",
    "x_train = x_train / 255  \n",
    "x_train.dtype"
   ]
  },
  {
   "cell_type": "code",
   "execution_count": 6,
   "metadata": {},
   "outputs": [
    {
     "data": {
      "application/vnd.plotly.v1+json": {
       "config": {
        "plotlyServerURL": "https://plot.ly"
       },
       "data": [
        {
         "hovertemplate": "x: %{x}<br>y: %{y}<extra></extra>",
         "name": "0",
         "source": "data:image/png;base64,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",
         "type": "image",
         "xaxis": "x9",
         "yaxis": "y9"
        },
        {
         "hovertemplate": "x: %{x}<br>y: %{y}<extra></extra>",
         "name": "1",
         "source": "data:image/png;base64,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",
         "type": "image",
         "xaxis": "x10",
         "yaxis": "y10"
        },
        {
         "hovertemplate": "x: %{x}<br>y: %{y}<extra></extra>",
         "name": "2",
         "source": "data:image/png;base64,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",
         "type": "image",
         "xaxis": "x11",
         "yaxis": "y11"
        },
        {
         "hovertemplate": "x: %{x}<br>y: %{y}<extra></extra>",
         "name": "3",
         "source": "data:image/png;base64,iVBORw0KGgoAAAANSUhEUgAAACAAAAAgCAIAAAD8GO2jAAAFRElEQVR4Xq2W+TPbaRzHY+NqHbOMcTO7gk5V6xxrMOq+qiGOVusYrZvElUgiQYO6QkKCcQ3aoUxna8afuC/fZzfT/VbLbr1/yHzzHO/38zmfR6FQKLy8vJRKpbe3t5cExZ0DUh8fn+Tk5KioKJTk0z8Pcer8/HyNRqNSqTBFDN6ZNYIoMjKyra2ttbU1NTX13r17jPwi4W5kBEt2dvbU1FR3d3dubm5gYKBs9mcBS0BAwMuXL81mc1dXV319fVxcHKb4+fmJWSHz/10ntsXGxnZ0dIyMjCwsLPT19ZWWlmJNeHg4Svfv3/f39+fD19f3Wg2hfYNXmX7w4EF/f//6+rrD4dDpdC0tLeXl5YWFhZWVlYjx8fjxY5bJd0oCgv1HAoAzvnjxYmNjw+12z87OarXa169f47TBwUE+3r59W1JSIlhkUEjni4mJwbdy0q+BQHt7+4aExcVFu91OVLAJ19XV1TU3NycmJsr3SKCGMG58fLynpwc3yqc9YF1tbS3sq6ur8/PzOzs7BwcHY2NjHJ9CKSsrCwsLE5XvK4EiJTYhISE1NTVzc3OHh4csFsV0DYSl8fHxUOMfm80G+4cPH0hf/NbY2KhWq/Py8rKysijMSgkFBQV8Yxxrtre3EXj16pWHSg4xStoYDAY2IOByuY6OjtAj4GhQjG/evCHylOTAwACDRAVhpvAMLt3f36+oqPBQySFGaRijo6PT09MEYGVlBV+hZLFYCDh0VqsVXgQIjF6vxyGdnZ0I4MOhoSG8lJmZ6aGSQ4ympaUNDw9jAZHAAnwF0eTkJCPQ8ZckRg8BlplMJvSoUFKD0sFEuo6H6hoQQGwkGaDDgr29PX57e3vxAOm0traGAMLn5+dOpxM9BJDBS+zKyMggTQn7d9kBiUHoRFJSVigtLS/xywj+2d3dRRLSjx8/Xl5eElW+cV1TU1N0dLSc61t4SZdPaGgouSi6UHV1NSclBhBhBNEmqQgmI1++fLm4uKDgCVhDQ0NwcLBgkJN+jb+L8h9QmRyNw8II9ZIEwk6q8Jfjn5ycnJ2d4UP18+eBAQFyumvhoeaXCtJqdZ8//7m26rC9I2XduOj9+/ekCrnL2V1u9+npp4PdvZHeHlVcrNJL6nTY8EMzrnC1TqGgPgnpp5PzDefmpNmyvLzscruo7ZmZGbLr9PQUc7Z2dt0bLpN24I/UR78GBCrpg2xV3qQgBChpHOJ0uOwrzinrDH63r9oRwDkYcXx8fHC0N7u8YLG9a2zSPM3Pi4+K8ffzxwzFNd323xACKSkpEFmnbEaT1To1QwAoPLxPHdASVu0rJ8c7m5vOnoGh8uoaTb0m48kTeqXSx/u2LsrJycEbIwZjn3ZkVG/AXYsLi0ajkRIhW13rjiWz/mDdYdKbqiqeqWvVJUXFV3ftbWIgUFRUhIDOMNGl1Y0bjbA71hw4ispaWlpenJ/rVD/rbmq2Tc60t7SXl5bRByPCwxW35KcgKAKLxTo2aekdG9ObzVubW9tb2/Qibmy93qAbGqzMzy3Iyqqv01BrdfV1qkQVeXGzAZ4Uon9BZELDaBzV6+mjxUXFtMKgoCC6NMVVWvS0sKDgt98TGpoae/v6Uh6liCyXM8ogVqSnp3MuvDExMcGp6Xf0Gc8a6jwhIYFeUlVVRbIxRb/jOvrRXeaBEOD+ozsOSyASvJd4WIgaFGUIV1JSEqaIZwAN5uHDhxgnp/sWwkyeSRhBj+Qeptlx13/9JBFrKHVetMjwwSA35X973bKatMN87pCIiAj5tARUsUw8zuVzN0IcE7D/2reQB99j/wu4R+8Q6wsJkgAAAABJRU5ErkJggg==",
         "type": "image",
         "xaxis": "x12",
         "yaxis": "y12"
        },
        {
         "hovertemplate": "x: %{x}<br>y: %{y}<extra></extra>",
         "name": "4",
         "source": "data:image/png;base64,iVBORw0KGgoAAAANSUhEUgAAACAAAAAgCAIAAAD8GO2jAAAJtUlEQVR4XpVT+3cTdRbPH7GKQB/pK2knad6TpHk3mUxmMq88ZiaPpk2bpE1T2/RJaUtPpUKX8gahioouIMsexAfouroeUY+gB1xw11VZFg8F2dVFFx9AKW0e7X7T6noOxx/wnk/umWTu+Xzu/dwbweLiYv4+I5dfyC/cuTVz7erVmVs3b974OjN7O5/L5MDn3tKfQ7D4K+O761/+7fTb77/+8p+OHr753/8sLmYXFxfy91b9HAWBhfsL0M7iQu7CX04f2rr+mUcHD+3YdP3yxcX8PBgtd2/tz/ErJsgv5DJ3b7310u+PT21+8+nth7es/+z0ycXMLODP5hfurf4p7lcA9ALcuP7llf07Nk2NDhzaOLJvqPPFqW3f/vtqPpfNgvUUCn4h7l8AUMydP3tqXc/DTSTeF+J2dDXvXdv17vFjMz/8AMh/mf4nAbCkhSX8FAtLi8kDb/PLb8C3XG7mzPtvp9vidljngnXdPLW1M7Zv3ZoLZ07n8pnCGgBNbqm4wJBfxrJAbkmjYGQBoAIcJLi+3Fw+nynMvvRrLnfnqy+nh/p7NZBMI1E46nRDYXZnInJsx8TX//o8A649k1+cB3WLS2L5ZSwL/Mj8YwJmZPPZTGZ29hbQWB6iMEF+7u7srT+eOEE4cEk5pBTXsibT+gi/Ldn81uEDt2/+kMsW1l2gXVjIFP4chW9LAv/3Jl9QBq1kM/MXLnx6/vzZO0Ajn10+uEwue2d29rsb3z2+63FVtUpWKtWKpQ2oY30wOJXs/Pjd9+azc99nZ2ays5nc3eu3rn9x44vp69MFgXyBd8mT+fl8dh5c4/SVzzdvm1w3Nvzan1+dnbuTX8xlF7JzuezN2zOZ+ey1K9f6Uj0yoaS6XKyWSDpd5KQn/OTQ6GeffPSPb6bPXfrrxxfPvfHh8aMnDx587cllAdBj/saNby5/fnF6+p8fnD21fWo73xLCGHxguP/qV1dms7fnF+5+8/23l65czmTnc9m5v390jqOpktLSMmG5S6IZdDBrSM/O8dFX3nrp4PGDTxzZs+sPG7YcGp08sA4IzGWzd7K5O5enLxw4+NT4prGu4XQk3RLsjHrCbFNb9LkXDp06986Hn3zw8usnnj9x7OPPzr9/5uSH506ObeiugoSlxWWS1SKv0thlc6Qp92OTY3sP7Zp49reTz26YfObR8cfXCT69cPbipY8++fTMe6ff2DW1NZ6O920cTE+uHd+/rXO430GhTe2NXYNtPSOp1EB7vKs51hFMdgbHJ9OTT/SzYayipKxsdaWkpDIskz9sMqU9RFOrn0x6vS0hKsI5fITgqQM7dz+2cf9TO69/Nf32qXca2+PjuzcN7Xzk6VeeG53YoLGb6hxat1vPhRwtHcHUGn5oIrRpT3Lq4MizL27cu/8RJ1q3ctWKkpUPmUqKompNXK/3WjUYaaY5r0qvr4RqBUPru1IdkR1bx29+//Xho0ctLmeqvzOWjg2PD/b09mkQc2MyuH40uX37mrVr2yY3tx880r93X+rp340cObbphRN7tuwYUcOSopUPVK94EK0URVQark4dDzHpnpQaVpYIhYKu3qZozD81tfnatUsT2zbTvL+tPRFvbmjmfS6TBbZoX33z+RMv7evuC3oQc9zv6EkgW8diE8PxibHEE7vXvf7akY0TY+XlZaUPrJT+ZhVaLbVKIdxpirc31lm0Kq1CkOzguAasd6B192ObcApzkziDuQw1kFUMGarERrN2aLSrNx1y4ipDrcwml3js6gbSRpnhJsoSdFsCXrw5GlFrdaXFleUPCiWrK6HyKo1WSfpduNdJsrhgcDQR6+Ti7YFkLKCSijVSiUWhsEkU1grIVFEd5L1bNo8N9yWSqRCGYnoNTOFOpN5sUKvMErFFBmnltaIqUbVEXiyESorEZUVVJSUVsMkQjAUbWsOhREDw6I7+kc3dA4OJZo+L0Ws9BpNDqTHWKkxSlaMWdlitAR+TjkZYGq8zW6UqWA7r5LBerdWbFEoYkghXFRcXCcU18pJyqbCytgwcVIUIUirdLNOQjIZaGwTr964Z3tozMtzWSiBdKJbCCIdSbTGabPWIAYLVclgLlCCNugLyc0GjzSmRa3VGu1yp08F1tTW1Kx5YvXJFiVyuE0GqCkghkikrIKhaLtdYraiXcQc8gp6N7amR2EB/60i8KYlgDpFUVlZpczjtBC2vVkshTbVQIltZDa0SW8yIQmmAILjeTipVBr2pvqZWVSwUFRVXiquVlZCiWARVyhU1KiVsMltwop6kMb9X0LOuK9Xf3jOQTrW10k4CKodKVpfLFFolbKwSKStFqtVF4lUPVQpLoIpqRWmVTFgllyqNUpVRUWeRaY0Stb5aDotlGrFKK1LB1bBOZjBr7Q6zC7eTlJvlBAOjfQ/3dSY6kr5gwGRFRGJZcUkVyOIahbBKVi5WiiRwjUwvVZkkGhOkNtZqLYq6epXRrjHbVUZbQUZnksB1kM4gNZhlJqvcbNM6nEYnasFw1OMVtHe3hVsaGM6HuN1mG6LRmWoVMIBMpVNozbAJ0VtdZoSwYYwZpUxO0uQkjAhhQSmLizQiuM7m1FoRpdEmM1qVVjvsQDV2p4WgnB4vQtNUIChgI36G97gotwVB7Bhux9x11nojmBFBzShucrr1dtSKUbiPd7NBtz/g8nIAmI/HfQEA8ArUGBCsDsUNGGHESZAtBO1kvCQfYJuiAiZAMRxDeBkn4SZZP8n5HaQbZSiEpuop2uImjMBN2kMEgt6GRk84QgVCJB8EcPuDJBdmgo3gwUH5bLS3nilkk5syuHDgj5Px4H5WEOtoTnS0tiQTkXgslGjxRoJUkKVDPBlgUdaH+LwALo7FeY4M8FQgsAyC41HGj5A+l4dzkF4LRoEJQPuAHWSzm7S5CbBkB0ULeobS6TXd6YHeZLozlGjmWhrYlgZvU5Bu4IkQ7wqwTtYL4OL9bp51s34AzO9DPR4n47MTHrCJOrtLZ0d1iEuP4lrEBSOolaTBejGvj+R4Qe9QT/dgd6qnI5psYaNhPtYYSkT9TSEi4EP8jJPzoLwPC/jdIQ7jWBdgZ/2o3+f0eoFv4NJtBGVxkwBmArRP1LkwHeqyEiTm9WAeBkDQPZhu726Pd8RCLSE6CLpjUB/l8tFuzkuGeRoohTl3iAUaeIDHgTmhEB2JAKAsa/d4EJ/PxXHg2UpRsMOhRRALSdppGiFwlCRo1ifo6E0B9mhbU6g56IsE6DDPhHlfY4iNNvhbInRjkGkKkQW7ODrS4Glq8kajIDORCBkOYzxvo2kAp98PxHROp8ZuN2AY4mFozs9wfg/P/g/33UU+jGtOAQAAAABJRU5ErkJggg==",
         "type": "image",
         "xaxis": "x5",
         "yaxis": "y5"
        },
        {
         "hovertemplate": "x: %{x}<br>y: %{y}<extra></extra>",
         "name": "5",
         "source": "data:image/png;base64,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",
         "type": "image",
         "xaxis": "x6",
         "yaxis": "y6"
        },
        {
         "hovertemplate": "x: %{x}<br>y: %{y}<extra></extra>",
         "name": "6",
         "source": "data:image/png;base64,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",
         "type": "image",
         "xaxis": "x7",
         "yaxis": "y7"
        },
        {
         "hovertemplate": "x: %{x}<br>y: %{y}<extra></extra>",
         "name": "7",
         "source": "data:image/png;base64,iVBORw0KGgoAAAANSUhEUgAAACAAAAAgCAIAAAD8GO2jAAALqElEQVR4Xj2W6VeTSRbGc840skMIIIQACiKC7QICkU0ghD2sAlmA5A0QSEhIyEr2BUjIQshCgiQkJMGwioIgsrg02qi0KDraOm13T8+c6S/zb8xr98w8p069derD83vvvXXrFARJupR0MXaQ0mnRj/L78Uwylkah8AdpEg5TI5NkXf42PjEO19rUS+oAOrAqqUijkppHFQoRjzqGpfqayd4Gire524np97Wy7xL755uZi52iewNMH77f10i93QQpAK5GJ4VXll7fXnY+9um8BolCwBke7B8VsTVyUVZWVmJqWm0luq0R09qIAQETGqVWLtCoZXQdQJ/Ds/1k7jwwMNPKnMULF7t5i13Dd/uVOzz2Iq7XUwvyIEWkrOgEKPx0lGiAsGnl359RL83aJax+JY8+OSq+UZgfn3g25+rV/GvZtehyPmtoXDU2rlBqxw0crYChBfokN3v4dV3MMoBZTuFW0hS1/KmuiU2xYLVjYLFpYKEVUki4CouFxcXFELE1a1MSt3ZYyqYL6b1SVu/UGM+qkZYVFFWj0I01dRQSIBjiCrkSLoOrVhhvuT2zHptaKeCxgGFWJ4PcQAcw4mGcTEGadPGFqwDN39Qzh4EU4a/CYmITExFSGX/NZdQKGV2tjSrBkJJPo2HLdnzmWb1GwOIw+migO7WnH48l4G62yLhSt90xPWmZGNEruAI6saOtElVfjMRhinCNxV3kKvJkPX4K1TmDhpQD1xFJSennL0zoNc5JLZ8GCJk9DrPOMj7CxKEfONVv9+/P33JK+aKmuuYCZFF9bTWmBo1BV3Q21ysFfDFXLOHJgI5udNGN0rws5OW07Ixk5LW02o7cDk15t68OUk4qiE+Ix7fjF31uh0m/NDe9uex+efB4Z33DruAcLE//9u7F8fNnSpEImX0tIy3tSsa58ylJF9NTKgqzpnQK74xjTKYW8eXYltaq0gJUYW7OpXTk1cwKVBaWVwp4GyCFbdnR0TCgizht1bntE/tba08ebh4ePP948n5nyX28f/f3L+9++/Jx1jbZjW8B2uprUPmJcFjG+eTqkuyhXuyDlQWnyaZVqsU8HotK4dCpNzE1lSXFFDIOO1RBdrVAMspS4k/HlhTkc+ikWatmfXn+6Pn3R4dHx69enbx48uHo6a+f37w7fmoaF1NwtXwKViFgFOZn52ZnduMxxCaUy6R1W6wjIrHLbtvd2trbfqAdG+3E4mXDQqaKSHXjIWmFifGxMXlXLomYgNukohHbl7zuz+9Pfvnx/cc3hx/fPPvy4XDVZxwg1ve2VsoHu+V8JpnYgamu6O9qw2FK9ArhtNE4Ipbub29/ePfh4/uPWxtbbCZXKpBwlGSWjwTJqb4YHw3DoEt2l53P1uYkDMBp1uxtLO7dW3i2e+/k5f6jDY9Z3jcEYOTMnjmTQcxmA51EmVDiskzSyVjPjHXRO69Vjx8+P7y7urG38/jo5fHYiI5FY3EVANvbCSluRCLi4onY5p0V1/MN313PpMsycs/v3Lnn9zsmD7b8K7dUztE+DZfkNqmX3A7tiHpwgL2xdn9/a5Pe27V7f+Pwu5fOGdfJm7e3rNMT48Z3rz8seFaH2TyViTHkwkHyanLOppxrba7zOsw/vfv+u53FBZd5akIzN2PRydhLtlGvdmheR58d56+4bfoxuX5cp9OYjl6+2bq/3lxfAZ6it69O7q1tfPn8acnnM2mNB3vP9+8/GezvF2hJbDcWgsTkJCSfyS/M12vVhwdPfvr07uT1kVjAJ3e1c6ldBhHNLOrdnFXv+B2mUaWUz52bddusjuOjd/fX19taKoRsqnfW5Z71vDl6fWdh0TXtvO2+vTC3gMM2scbxA85myPX6XOjpWHhScg7yulAoX11d12on0ehKVEmBhEOdGuWaJNS9xen1OYeExb67sPR4b2/a5nj66Pna6lpLA4pEqBPxh/Tjhse7T9YWlx1TdrVCxWEwO4Fmro1IsldBcsqvRsCgUTExYdCoy1lISj+rtv5mdm4uMi97TMq1a4QWBXN7wTGpkDmMls2V1TvLi1qN3jE9t7O930fuwN+sopAJCplyd2v/tturH1P3k4G2Jgxb0ku3teNt5ZBvr12ARUVERYWFR4bEwRNKSiuv5eZdy8uurCwf7Ae6msoVLJLHqrml197xzmtk0nnPrNUypVUb93eebq9vTqhVvUCHWCi5s7Ru1k+OKeQ8Fh1EyidYzDkCwYGGnEtPjI4KgUEDIyJPRcdEZWZcRCTCL146X1JWUFacU3MjS87unjFrNpb80wb9yDB3Yd5lm7IP82TeOf9vP//j5cFzPpspl0jvLK3Oz3nmXZ4Zi3lEJdD4RLzl7i5nNSQpJT4aTE9kYGRkSEREGAKRAIVGnElNrK4vLSnJ7u6ol3Aos3YTCDCNjTgnDbO3puRSJZXCUinGXrw4+uHoWCYW03p77FOmhw+29rceGdU6g0U55KL0OduIUzWQC5cup6VnhIVGhH9VKAwGBee4hJhWQmNbe83NRpSIQ3FZdStehxU8nhoNg0brBvruLG/ZrM7b8yuH3/8waTAT2nB2q+WXL78+2n4qFAtExqF2TXW7HtVlqYQUokuzr+eGRoA1jgStw8JCQkODQ8NDyqtKKX3Ers6WERl7Wgf27biIw6QA5Ia6xk4CsLayuXj73v7u97sPD5y35ha9S399++H3f/7b713mKbg9Y4QaEbJRhcQbSiHZqEsZeamxZ8ITz8SByfnqHhocGHQq+WwSjtDWRcR2Ehr5Ax0CBhnXjOEM0hkDDGof1Wa1z3tWnh28Vil1Q4O89ZX1H14eHx+9lwsVNH7fTVFdlSC3TnytXV0CyarITM2BJ2RCEWdjIyPD/4wAVEBgUEpaakUNuqGpGn+zshVTWlmcQ2prGlMpVCrp6IjM5fQs+O/k5RVcyrzc0Y4d12pstmlCY3s3raOaXlI+dLVWmAMYGyAZxemIy3GRScGh0KDQ0BAQEBLyFfBNQOA3AQGx8NPXi5CYOnQfGS8a6sfVo6vLb1Sgi1CoAoAEEAikjIyLZTeKM1KSse2Ng4wBVi9tgNFT1lFQ1HOlmoPsNrZC0pHn05ApYQnBp0IC/qhz+Ff74ODAwKC/gPrmm7DwcHg84npeHpHQKhUM3rJOEAntHQQslUrN/PZKQ2NTTUVZKhzWVFUy0NczoTXIVSpsL76CWFlFK2kWoyEJGfCUnOTTqTBYLBRUVFQUGELoHwoICDj1VYEBASFBgUGJ8NhhLv3g0UOgE19VUY7H48+mpAEA+WJ6alJMOL6pyu9x7mzvTphsfJmCKuS0Mlrr6CgI4gIi+XIC/FxsQiIcBESCdQgHKxEGAoL+q+CgIBBwKhoa1tJQwxmklhXntzQ31tbVIRKTSktuZF/OzM+6aNErf/l88t2TZ/qJaYV6ki/TEBl9aBwKAk+FIzLiI2JDIiLD/gT8yQj5Q1/twXSB/x8YkJQQRyLgyJ24uqpySg+5BNSNGxM6jWF8VMRlnbz67te/vV9bXTeanEbr3LjBIZRrGHwO5Ez6meRMRBgsGGzj/wP+jACcQffQsNDgkFPR0dC6qkrLhGHB6/a6HDKJqKe39+GDzX/9/edlv9fvcf36+cPbV69cjnmz1W2wzBgsTq3RqTFMQ67kZWVkp0Njwr+ag40Acv4ncP21uUNDgoIDzpxJ5A2x/B7P5t3VJ3sP+TyuzWb/6dPH98cvR+RicOfnTz9urG5YzU7btEdntiq0eoVmSqwwQ+Bnk8+mnwXvhtjTsVGwmChYdDiYrPCIsAjwGxkBjQwBgwkPTU1NYQwMOGx27Yjc6/Gw+SKD2ebzL4yMKOfnnB9ev3jx9JHVbLfY3dYZn8FsVxtNErVpWDkBKShHpWWkI5Lg8AR47On4eDgiAZEEi4mBgpc4GFMUFBwRUdDUc6mUXorf6324sba/v68F30Im26jO2N1He7S/9/On9yu3fQrlGLhpmJrV6K1ak1WsNgrHDP8Bp6fHRCuPep8AAAAASUVORK5CYII=",
         "type": "image",
         "xaxis": "x8",
         "yaxis": "y8"
        },
        {
         "hovertemplate": "x: %{x}<br>y: %{y}<extra></extra>",
         "name": "8",
         "source": "data:image/png;base64,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",
         "type": "image",
         "xaxis": "x",
         "yaxis": "y"
        }
       ],
       "layout": {
        "annotations": [
         {
          "font": {},
          "showarrow": false,
          "text": "facet_col=8",
          "x": 0.1175,
          "xanchor": "center",
          "xref": "paper",
          "y": 0.2866666666666666,
          "yanchor": "bottom",
          "yref": "paper"
         },
         {
          "font": {},
          "showarrow": false,
          "text": "facet_col=4",
          "x": 0.1175,
          "xanchor": "center",
          "xref": "paper",
          "y": 0.6433333333333333,
          "yanchor": "bottom",
          "yref": "paper"
         },
         {
          "font": {},
          "showarrow": false,
          "text": "facet_col=5",
          "x": 0.3725,
          "xanchor": "center",
          "xref": "paper",
          "y": 0.6433333333333333,
          "yanchor": "bottom",
          "yref": "paper"
         },
         {
          "font": {},
          "showarrow": false,
          "text": "facet_col=6",
          "x": 0.6275,
          "xanchor": "center",
          "xref": "paper",
          "y": 0.6433333333333333,
          "yanchor": "bottom",
          "yref": "paper"
         },
         {
          "font": {},
          "showarrow": false,
          "text": "facet_col=7",
          "x": 0.8824999999999998,
          "xanchor": "center",
          "xref": "paper",
          "y": 0.6433333333333333,
          "yanchor": "bottom",
          "yref": "paper"
         },
         {
          "font": {},
          "showarrow": false,
          "text": "facet_col=0",
          "x": 0.1175,
          "xanchor": "center",
          "xref": "paper",
          "y": 0.9999999999999999,
          "yanchor": "bottom",
          "yref": "paper"
         },
         {
          "font": {},
          "showarrow": false,
          "text": "facet_col=1",
          "x": 0.3725,
          "xanchor": "center",
          "xref": "paper",
          "y": 0.9999999999999999,
          "yanchor": "bottom",
          "yref": "paper"
         },
         {
          "font": {},
          "showarrow": false,
          "text": "facet_col=2",
          "x": 0.6275,
          "xanchor": "center",
          "xref": "paper",
          "y": 0.9999999999999999,
          "yanchor": "bottom",
          "yref": "paper"
         },
         {
          "font": {},
          "showarrow": false,
          "text": "facet_col=3",
          "x": 0.8824999999999998,
          "xanchor": "center",
          "xref": "paper",
          "y": 0.9999999999999999,
          "yanchor": "bottom",
          "yref": "paper"
         }
        ],
        "template": {
         "data": {
          "bar": [
           {
            "error_x": {
             "color": "#2a3f5f"
            },
            "error_y": {
             "color": "#2a3f5f"
            },
            "marker": {
             "line": {
              "color": "#E5ECF6",
              "width": 0.5
             },
             "pattern": {
              "fillmode": "overlay",
              "size": 10,
              "solidity": 0.2
             }
            },
            "type": "bar"
           }
          ],
          "barpolar": [
           {
            "marker": {
             "line": {
              "color": "#E5ECF6",
              "width": 0.5
             },
             "pattern": {
              "fillmode": "overlay",
              "size": 10,
              "solidity": 0.2
             }
            },
            "type": "barpolar"
           }
          ],
          "carpet": [
           {
            "aaxis": {
             "endlinecolor": "#2a3f5f",
             "gridcolor": "white",
             "linecolor": "white",
             "minorgridcolor": "white",
             "startlinecolor": "#2a3f5f"
            },
            "baxis": {
             "endlinecolor": "#2a3f5f",
             "gridcolor": "white",
             "linecolor": "white",
             "minorgridcolor": "white",
             "startlinecolor": "#2a3f5f"
            },
            "type": "carpet"
           }
          ],
          "choropleth": [
           {
            "colorbar": {
             "outlinewidth": 0,
             "ticks": ""
            },
            "type": "choropleth"
           }
          ],
          "contour": [
           {
            "colorbar": {
             "outlinewidth": 0,
             "ticks": ""
            },
            "colorscale": [
             [
              0,
              "#0d0887"
             ],
             [
              0.1111111111111111,
              "#46039f"
             ],
             [
              0.2222222222222222,
              "#7201a8"
             ],
             [
              0.3333333333333333,
              "#9c179e"
             ],
             [
              0.4444444444444444,
              "#bd3786"
             ],
             [
              0.5555555555555556,
              "#d8576b"
             ],
             [
              0.6666666666666666,
              "#ed7953"
             ],
             [
              0.7777777777777778,
              "#fb9f3a"
             ],
             [
              0.8888888888888888,
              "#fdca26"
             ],
             [
              1,
              "#f0f921"
             ]
            ],
            "type": "contour"
           }
          ],
          "contourcarpet": [
           {
            "colorbar": {
             "outlinewidth": 0,
             "ticks": ""
            },
            "type": "contourcarpet"
           }
          ],
          "heatmap": [
           {
            "colorbar": {
             "outlinewidth": 0,
             "ticks": ""
            },
            "colorscale": [
             [
              0,
              "#0d0887"
             ],
             [
              0.1111111111111111,
              "#46039f"
             ],
             [
              0.2222222222222222,
              "#7201a8"
             ],
             [
              0.3333333333333333,
              "#9c179e"
             ],
             [
              0.4444444444444444,
              "#bd3786"
             ],
             [
              0.5555555555555556,
              "#d8576b"
             ],
             [
              0.6666666666666666,
              "#ed7953"
             ],
             [
              0.7777777777777778,
              "#fb9f3a"
             ],
             [
              0.8888888888888888,
              "#fdca26"
             ],
             [
              1,
              "#f0f921"
             ]
            ],
            "type": "heatmap"
           }
          ],
          "heatmapgl": [
           {
            "colorbar": {
             "outlinewidth": 0,
             "ticks": ""
            },
            "colorscale": [
             [
              0,
              "#0d0887"
             ],
             [
              0.1111111111111111,
              "#46039f"
             ],
             [
              0.2222222222222222,
              "#7201a8"
             ],
             [
              0.3333333333333333,
              "#9c179e"
             ],
             [
              0.4444444444444444,
              "#bd3786"
             ],
             [
              0.5555555555555556,
              "#d8576b"
             ],
             [
              0.6666666666666666,
              "#ed7953"
             ],
             [
              0.7777777777777778,
              "#fb9f3a"
             ],
             [
              0.8888888888888888,
              "#fdca26"
             ],
             [
              1,
              "#f0f921"
             ]
            ],
            "type": "heatmapgl"
           }
          ],
          "histogram": [
           {
            "marker": {
             "pattern": {
              "fillmode": "overlay",
              "size": 10,
              "solidity": 0.2
             }
            },
            "type": "histogram"
           }
          ],
          "histogram2d": [
           {
            "colorbar": {
             "outlinewidth": 0,
             "ticks": ""
            },
            "colorscale": [
             [
              0,
              "#0d0887"
             ],
             [
              0.1111111111111111,
              "#46039f"
             ],
             [
              0.2222222222222222,
              "#7201a8"
             ],
             [
              0.3333333333333333,
              "#9c179e"
             ],
             [
              0.4444444444444444,
              "#bd3786"
             ],
             [
              0.5555555555555556,
              "#d8576b"
             ],
             [
              0.6666666666666666,
              "#ed7953"
             ],
             [
              0.7777777777777778,
              "#fb9f3a"
             ],
             [
              0.8888888888888888,
              "#fdca26"
             ],
             [
              1,
              "#f0f921"
             ]
            ],
            "type": "histogram2d"
           }
          ],
          "histogram2dcontour": [
           {
            "colorbar": {
             "outlinewidth": 0,
             "ticks": ""
            },
            "colorscale": [
             [
              0,
              "#0d0887"
             ],
             [
              0.1111111111111111,
              "#46039f"
             ],
             [
              0.2222222222222222,
              "#7201a8"
             ],
             [
              0.3333333333333333,
              "#9c179e"
             ],
             [
              0.4444444444444444,
              "#bd3786"
             ],
             [
              0.5555555555555556,
              "#d8576b"
             ],
             [
              0.6666666666666666,
              "#ed7953"
             ],
             [
              0.7777777777777778,
              "#fb9f3a"
             ],
             [
              0.8888888888888888,
              "#fdca26"
             ],
             [
              1,
              "#f0f921"
             ]
            ],
            "type": "histogram2dcontour"
           }
          ],
          "mesh3d": [
           {
            "colorbar": {
             "outlinewidth": 0,
             "ticks": ""
            },
            "type": "mesh3d"
           }
          ],
          "parcoords": [
           {
            "line": {
             "colorbar": {
              "outlinewidth": 0,
              "ticks": ""
             }
            },
            "type": "parcoords"
           }
          ],
          "pie": [
           {
            "automargin": true,
            "type": "pie"
           }
          ],
          "scatter": [
           {
            "fillpattern": {
             "fillmode": "overlay",
             "size": 10,
             "solidity": 0.2
            },
            "type": "scatter"
           }
          ],
          "scatter3d": [
           {
            "line": {
             "colorbar": {
              "outlinewidth": 0,
              "ticks": ""
             }
            },
            "marker": {
             "colorbar": {
              "outlinewidth": 0,
              "ticks": ""
             }
            },
            "type": "scatter3d"
           }
          ],
          "scattercarpet": [
           {
            "marker": {
             "colorbar": {
              "outlinewidth": 0,
              "ticks": ""
             }
            },
            "type": "scattercarpet"
           }
          ],
          "scattergeo": [
           {
            "marker": {
             "colorbar": {
              "outlinewidth": 0,
              "ticks": ""
             }
            },
            "type": "scattergeo"
           }
          ],
          "scattergl": [
           {
            "marker": {
             "colorbar": {
              "outlinewidth": 0,
              "ticks": ""
             }
            },
            "type": "scattergl"
           }
          ],
          "scattermapbox": [
           {
            "marker": {
             "colorbar": {
              "outlinewidth": 0,
              "ticks": ""
             }
            },
            "type": "scattermapbox"
           }
          ],
          "scatterpolar": [
           {
            "marker": {
             "colorbar": {
              "outlinewidth": 0,
              "ticks": ""
             }
            },
            "type": "scatterpolar"
           }
          ],
          "scatterpolargl": [
           {
            "marker": {
             "colorbar": {
              "outlinewidth": 0,
              "ticks": ""
             }
            },
            "type": "scatterpolargl"
           }
          ],
          "scatterternary": [
           {
            "marker": {
             "colorbar": {
              "outlinewidth": 0,
              "ticks": ""
             }
            },
            "type": "scatterternary"
           }
          ],
          "surface": [
           {
            "colorbar": {
             "outlinewidth": 0,
             "ticks": ""
            },
            "colorscale": [
             [
              0,
              "#0d0887"
             ],
             [
              0.1111111111111111,
              "#46039f"
             ],
             [
              0.2222222222222222,
              "#7201a8"
             ],
             [
              0.3333333333333333,
              "#9c179e"
             ],
             [
              0.4444444444444444,
              "#bd3786"
             ],
             [
              0.5555555555555556,
              "#d8576b"
             ],
             [
              0.6666666666666666,
              "#ed7953"
             ],
             [
              0.7777777777777778,
              "#fb9f3a"
             ],
             [
              0.8888888888888888,
              "#fdca26"
             ],
             [
              1,
              "#f0f921"
             ]
            ],
            "type": "surface"
           }
          ],
          "table": [
           {
            "cells": {
             "fill": {
              "color": "#EBF0F8"
             },
             "line": {
              "color": "white"
             }
            },
            "header": {
             "fill": {
              "color": "#C8D4E3"
             },
             "line": {
              "color": "white"
             }
            },
            "type": "table"
           }
          ]
         },
         "layout": {
          "annotationdefaults": {
           "arrowcolor": "#2a3f5f",
           "arrowhead": 0,
           "arrowwidth": 1
          },
          "autotypenumbers": "strict",
          "coloraxis": {
           "colorbar": {
            "outlinewidth": 0,
            "ticks": ""
           }
          },
          "colorscale": {
           "diverging": [
            [
             0,
             "#8e0152"
            ],
            [
             0.1,
             "#c51b7d"
            ],
            [
             0.2,
             "#de77ae"
            ],
            [
             0.3,
             "#f1b6da"
            ],
            [
             0.4,
             "#fde0ef"
            ],
            [
             0.5,
             "#f7f7f7"
            ],
            [
             0.6,
             "#e6f5d0"
            ],
            [
             0.7,
             "#b8e186"
            ],
            [
             0.8,
             "#7fbc41"
            ],
            [
             0.9,
             "#4d9221"
            ],
            [
             1,
             "#276419"
            ]
           ],
           "sequential": [
            [
             0,
             "#0d0887"
            ],
            [
             0.1111111111111111,
             "#46039f"
            ],
            [
             0.2222222222222222,
             "#7201a8"
            ],
            [
             0.3333333333333333,
             "#9c179e"
            ],
            [
             0.4444444444444444,
             "#bd3786"
            ],
            [
             0.5555555555555556,
             "#d8576b"
            ],
            [
             0.6666666666666666,
             "#ed7953"
            ],
            [
             0.7777777777777778,
             "#fb9f3a"
            ],
            [
             0.8888888888888888,
             "#fdca26"
            ],
            [
             1,
             "#f0f921"
            ]
           ],
           "sequentialminus": [
            [
             0,
             "#0d0887"
            ],
            [
             0.1111111111111111,
             "#46039f"
            ],
            [
             0.2222222222222222,
             "#7201a8"
            ],
            [
             0.3333333333333333,
             "#9c179e"
            ],
            [
             0.4444444444444444,
             "#bd3786"
            ],
            [
             0.5555555555555556,
             "#d8576b"
            ],
            [
             0.6666666666666666,
             "#ed7953"
            ],
            [
             0.7777777777777778,
             "#fb9f3a"
            ],
            [
             0.8888888888888888,
             "#fdca26"
            ],
            [
             1,
             "#f0f921"
            ]
           ]
          },
          "colorway": [
           "#636efa",
           "#EF553B",
           "#00cc96",
           "#ab63fa",
           "#FFA15A",
           "#19d3f3",
           "#FF6692",
           "#B6E880",
           "#FF97FF",
           "#FECB52"
          ],
          "font": {
           "color": "#2a3f5f"
          },
          "geo": {
           "bgcolor": "white",
           "lakecolor": "white",
           "landcolor": "#E5ECF6",
           "showlakes": true,
           "showland": true,
           "subunitcolor": "white"
          },
          "hoverlabel": {
           "align": "left"
          },
          "hovermode": "closest",
          "mapbox": {
           "style": "light"
          },
          "paper_bgcolor": "white",
          "plot_bgcolor": "#E5ECF6",
          "polar": {
           "angularaxis": {
            "gridcolor": "white",
            "linecolor": "white",
            "ticks": ""
           },
           "bgcolor": "#E5ECF6",
           "radialaxis": {
            "gridcolor": "white",
            "linecolor": "white",
            "ticks": ""
           }
          },
          "scene": {
           "xaxis": {
            "backgroundcolor": "#E5ECF6",
            "gridcolor": "white",
            "gridwidth": 2,
            "linecolor": "white",
            "showbackground": true,
            "ticks": "",
            "zerolinecolor": "white"
           },
           "yaxis": {
            "backgroundcolor": "#E5ECF6",
            "gridcolor": "white",
            "gridwidth": 2,
            "linecolor": "white",
            "showbackground": true,
            "ticks": "",
            "zerolinecolor": "white"
           },
           "zaxis": {
            "backgroundcolor": "#E5ECF6",
            "gridcolor": "white",
            "gridwidth": 2,
            "linecolor": "white",
            "showbackground": true,
            "ticks": "",
            "zerolinecolor": "white"
           }
          },
          "shapedefaults": {
           "line": {
            "color": "#2a3f5f"
           }
          },
          "ternary": {
           "aaxis": {
            "gridcolor": "white",
            "linecolor": "white",
            "ticks": ""
           },
           "baxis": {
            "gridcolor": "white",
            "linecolor": "white",
            "ticks": ""
           },
           "bgcolor": "#E5ECF6",
           "caxis": {
            "gridcolor": "white",
            "linecolor": "white",
            "ticks": ""
           }
          },
          "title": {
           "x": 0.05
          },
          "xaxis": {
           "automargin": true,
           "gridcolor": "white",
           "linecolor": "white",
           "ticks": "",
           "title": {
            "standoff": 15
           },
           "zerolinecolor": "white",
           "zerolinewidth": 2
          },
          "yaxis": {
           "automargin": true,
           "gridcolor": "white",
           "linecolor": "white",
           "ticks": "",
           "title": {
            "standoff": 15
           },
           "zerolinecolor": "white",
           "zerolinewidth": 2
          }
         }
        },
        "title": {
         "text": "cifar10 subset inspection"
        },
        "xaxis": {
         "anchor": "y",
         "domain": [
          0,
          0.235
         ]
        },
        "xaxis10": {
         "anchor": "y10",
         "domain": [
          0.255,
          0.49
         ],
         "matches": "x",
         "showticklabels": false
        },
        "xaxis11": {
         "anchor": "y11",
         "domain": [
          0.51,
          0.745
         ],
         "matches": "x",
         "showticklabels": false
        },
        "xaxis12": {
         "anchor": "y12",
         "domain": [
          0.7649999999999999,
          0.9999999999999999
         ],
         "matches": "x",
         "showticklabels": false
        },
        "xaxis2": {
         "anchor": "y2",
         "domain": [
          0.255,
          0.49
         ],
         "matches": "x"
        },
        "xaxis3": {
         "anchor": "y3",
         "domain": [
          0.51,
          0.745
         ],
         "matches": "x"
        },
        "xaxis4": {
         "anchor": "y4",
         "domain": [
          0.7649999999999999,
          0.9999999999999999
         ],
         "matches": "x"
        },
        "xaxis5": {
         "anchor": "y5",
         "domain": [
          0,
          0.235
         ],
         "matches": "x",
         "showticklabels": false
        },
        "xaxis6": {
         "anchor": "y6",
         "domain": [
          0.255,
          0.49
         ],
         "matches": "x",
         "showticklabels": false
        },
        "xaxis7": {
         "anchor": "y7",
         "domain": [
          0.51,
          0.745
         ],
         "matches": "x",
         "showticklabels": false
        },
        "xaxis8": {
         "anchor": "y8",
         "domain": [
          0.7649999999999999,
          0.9999999999999999
         ],
         "matches": "x",
         "showticklabels": false
        },
        "xaxis9": {
         "anchor": "y9",
         "domain": [
          0,
          0.235
         ],
         "matches": "x",
         "showticklabels": false
        },
        "yaxis": {
         "anchor": "x",
         "domain": [
          0,
          0.2866666666666666
         ]
        },
        "yaxis10": {
         "anchor": "x10",
         "domain": [
          0.7133333333333333,
          0.9999999999999999
         ],
         "matches": "y",
         "showticklabels": false
        },
        "yaxis11": {
         "anchor": "x11",
         "domain": [
          0.7133333333333333,
          0.9999999999999999
         ],
         "matches": "y",
         "showticklabels": false
        },
        "yaxis12": {
         "anchor": "x12",
         "domain": [
          0.7133333333333333,
          0.9999999999999999
         ],
         "matches": "y",
         "showticklabels": false
        },
        "yaxis2": {
         "anchor": "x2",
         "domain": [
          0,
          0.2866666666666666
         ],
         "matches": "y",
         "showticklabels": false
        },
        "yaxis3": {
         "anchor": "x3",
         "domain": [
          0,
          0.2866666666666666
         ],
         "matches": "y",
         "showticklabels": false
        },
        "yaxis4": {
         "anchor": "x4",
         "domain": [
          0,
          0.2866666666666666
         ],
         "matches": "y",
         "showticklabels": false
        },
        "yaxis5": {
         "anchor": "x5",
         "domain": [
          0.35666666666666663,
          0.6433333333333333
         ],
         "matches": "y"
        },
        "yaxis6": {
         "anchor": "x6",
         "domain": [
          0.35666666666666663,
          0.6433333333333333
         ],
         "matches": "y",
         "showticklabels": false
        },
        "yaxis7": {
         "anchor": "x7",
         "domain": [
          0.35666666666666663,
          0.6433333333333333
         ],
         "matches": "y",
         "showticklabels": false
        },
        "yaxis8": {
         "anchor": "x8",
         "domain": [
          0.35666666666666663,
          0.6433333333333333
         ],
         "matches": "y",
         "showticklabels": false
        },
        "yaxis9": {
         "anchor": "x9",
         "domain": [
          0.7133333333333333,
          0.9999999999999999
         ],
         "matches": "y"
        }
       }
      },
      "image/png": "[encoded data removed]"
     },
     "metadata": {},
     "output_type": "display_data"
    }
   ],
   "source": [
    "IMGS_IDX = [0, 1, 5673, 5494, 2, 55, 66, 776, 564]\n",
    "x = x_train[IMGS_IDX]\n",
    "y = y_train[IMGS_IDX]\n",
    "px.imshow(x, facet_col=0, facet_col_wrap=4, title=\"cifar10 subset inspection\")"
   ]
  },
  {
   "cell_type": "code",
   "execution_count": 7,
   "metadata": {},
   "outputs": [
    {
     "data": {
      "text/plain": [
       "(10000, 32, 32, 3)"
      ]
     },
     "execution_count": 7,
     "metadata": {},
     "output_type": "execute_result"
    }
   ],
   "source": [
    "NB_SAMPLES_PER_CLASS = 1000\n",
    "NB_CLASSES = 10\n",
    "\n",
    "class_masks = y_train.argmax(1, keepdims=True) == np.arange(NB_CLASSES)\n",
    "take_first_n_of_class = lambda data, class_idx: data[class_masks[:, class_idx]][:NB_SAMPLES_PER_CLASS]\n",
    "take_first_n_of_each_class = lambda data: np.concatenate([take_first_n_of_class(data, class_idx) for class_idx in range(NB_CLASSES)], axis=0)\n",
    "x_train_subset = take_first_n_of_each_class(x_train)\n",
    "y_train_subset = take_first_n_of_each_class(y_train)\n",
    "x_train_subset.shape"
   ]
  },
  {
   "cell_type": "markdown",
   "metadata": {},
   "source": [
    "## Fitting cifar10"
   ]
  },
  {
   "cell_type": "markdown",
   "metadata": {},
   "source": [
    "### Model declaration"
   ]
  },
  {
   "cell_type": "code",
   "execution_count": 8,
   "metadata": {},
   "outputs": [],
   "source": [
    "def create_nn() -> list[Layer]:\n",
    "    return [\n",
    "        Convolutional((10, 7, 7, 3)),\n",
    "        BatchNorm(),\n",
    "        Relu(),\n",
    "        MaxPool((2, 2)),\n",
    "        Flatten(),\n",
    "        Linear(1690, 300),\n",
    "        LeakyRelu(),\n",
    "        Linear(300, y.shape[1]),\n",
    "        Softmax(),\n",
    "    ]"
   ]
  },
  {
   "cell_type": "markdown",
   "metadata": {},
   "source": [
    "### Optimizer"
   ]
  },
  {
   "cell_type": "code",
   "execution_count": 9,
   "metadata": {},
   "outputs": [],
   "source": [
    "def create_optimizer(nn:list[Layer]) -> Adam:\n",
    "    return Adam(\n",
    "        nn,\n",
    "        x_train,\n",
    "        y_train,\n",
    "        BinaryCrossentropy(),\n",
    "        starting_lr=0.015,\n",
    "        lr_decay=0.0001,\n",
    "        momentum_weight=0.8,\n",
    "        ada_grad_weight=0.999,\n",
    "        l2_weight=0.0,\n",
    "    )"
   ]
  },
  {
   "cell_type": "code",
   "execution_count": 10,
   "metadata": {},
   "outputs": [],
   "source": [
    "NB_TEST_BATCHES = int(np.ceil(len(x_test) / MAX_NB_SAMPLES))\n",
    "loss = BinaryCrossentropy()\n",
    "\n",
    "def test_accuracy(metric_line:dict, nn:list[Layer], **_) -> dict:\n",
    "    y_test_pred = []\n",
    "    for x_test_subset in split(x_test, NB_TEST_BATCHES):\n",
    "        y_test_pred.append(reduce(lambda x, l: l.forward(x), nn, x_test_subset))\n",
    "    y_test_pred = np.concatenate(y_test_pred)\n",
    "    metric_line[\"test_accuracy\"] =  np.mean(y_test_pred.argmax(1) == y_test.argmax(1))\n",
    "    metric_line[\"test_loss\"] = loss.forward(y_test_pred, y_test)\n",
    "    return metric_line\n"
   ]
  },
  {
   "cell_type": "markdown",
   "metadata": {},
   "source": [
    "### Training"
   ]
  },
  {
   "cell_type": "code",
   "execution_count": 11,
   "metadata": {},
   "outputs": [],
   "source": [
    "nn = create_nn()\n",
    "first_optimizer = create_optimizer(nn)"
   ]
  },
  {
   "cell_type": "code",
   "execution_count": 12,
   "metadata": {},
   "outputs": [],
   "source": [
    "bad_training_stats = (\n",
    "    first_optimizer\n",
    "    .optimize_nn(\n",
    "        epochs=35,\n",
    "        batch_size=500,\n",
    "        metrics=[accuracy, test_accuracy],\n",
    "        height=600,\n",
    "    )\n",
    ")"
   ]
  },
  {
   "cell_type": "code",
   "execution_count": 13,
   "metadata": {},
   "outputs": [
    {
     "data": {
      "application/vnd.plotly.v1+json": {
       "config": {
        "plotlyServerURL": "https://plot.ly"
       },
       "data": [
        {
         "hovertemplate": "variable=loss<br>epoch=%{x}<br>value=%{y}<extra></extra>",
         "legendgroup": "loss",
         "line": {
          "color": "#636efa",
          "dash": "solid"
         },
         "marker": {
          "symbol": "circle"
         },
         "mode": "lines+markers",
         "name": "loss",
         "orientation": "v",
         "showlegend": true,
         "type": "scatter",
         "x": [
          0,
          1,
          2,
          3,
          4,
          5,
          6,
          7,
          8,
          9,
          10,
          11,
          12,
          13,
          14,
          15,
          16,
          17,
          18,
          19,
          20,
          21,
          22,
          23,
          24,
          25,
          26,
          27,
          28,
          29,
          30,
          31,
          32,
          33,
          34
         ],
         "xaxis": "x5",
         "y": [
          0.32508411505435186,
          0.2687285676691545,
          0.22964695971292384,
          0.21315377543308645,
          0.20040419912142915,
          0.2017355673823698,
          0.18374970338188357,
          0.1724587508148479,
          0.17330997015959204,
          0.1603012293921559,
          0.1566751519837681,
          0.1494467629566379,
          0.14050057532040952,
          0.14048742917356313,
          0.12457732637701278,
          0.11985003855690143,
          0.11872449984261721,
          0.10794283400226494,
          0.10839494366452826,
          0.10180640069480039,
          0.09839387963291299,
          0.08849012848276157,
          0.0826386323801076,
          0.08172745330156406,
          0.07674596689263113,
          0.0716598706219472,
          0.07544525947461064,
          0.06568276493594866,
          0.06665965876914012,
          0.058983690874629506,
          0.05822687433564238,
          0.053314866946345886,
          0.04938338616362238,
          0.05384318488297053,
          0.047439577848099046
         ],
         "yaxis": "y5"
        },
        {
         "hovertemplate": "variable=accuracy<br>epoch=%{x}<br>value=%{y}<extra></extra>",
         "legendgroup": "accuracy",
         "line": {
          "color": "#EF553B",
          "dash": "solid"
         },
         "marker": {
          "symbol": "circle"
         },
         "mode": "lines+markers",
         "name": "accuracy",
         "orientation": "v",
         "showlegend": true,
         "type": "scatter",
         "x": [
          0,
          1,
          2,
          3,
          4,
          5,
          6,
          7,
          8,
          9,
          10,
          11,
          12,
          13,
          14,
          15,
          16,
          17,
          18,
          19,
          20,
          21,
          22,
          23,
          24,
          25,
          26,
          27,
          28,
          29,
          30,
          31,
          32,
          33,
          34
         ],
         "xaxis": "x4",
         "y": [
          0.09616,
          0.33974,
          0.45978,
          0.50714,
          0.5432,
          0.54628,
          0.59094,
          0.62072,
          0.61854,
          0.65154,
          0.65858,
          0.67832,
          0.70208,
          0.7023,
          0.74194,
          0.75078,
          0.7567,
          0.781,
          0.779,
          0.79614,
          0.79916,
          0.82374,
          0.83546,
          0.83838,
          0.84898,
          0.85906,
          0.85162,
          0.87338,
          0.8691,
          0.8876,
          0.8877,
          0.89906,
          0.90736,
          0.89706,
          0.9095
         ],
         "yaxis": "y4"
        },
        {
         "hovertemplate": "variable=test_accuracy<br>epoch=%{x}<br>value=%{y}<extra></extra>",
         "legendgroup": "test_accuracy",
         "line": {
          "color": "#00cc96",
          "dash": "solid"
         },
         "marker": {
          "symbol": "circle"
         },
         "mode": "lines+markers",
         "name": "test_accuracy",
         "orientation": "v",
         "showlegend": true,
         "type": "scatter",
         "x": [
          0,
          1,
          2,
          3,
          4,
          5,
          6,
          7,
          8,
          9,
          10,
          11,
          12,
          13,
          14,
          15,
          16,
          17,
          18,
          19,
          20,
          21,
          22,
          23,
          24,
          25,
          26,
          27,
          28,
          29,
          30,
          31,
          32,
          33,
          34
         ],
         "xaxis": "x3",
         "y": [
          0.0976,
          0.3432,
          0.4534,
          0.5008,
          0.5157,
          0.5096,
          0.5458,
          0.5575,
          0.5515,
          0.571,
          0.5709,
          0.5778,
          0.5817,
          0.5731,
          0.5887,
          0.5863,
          0.5777,
          0.5915,
          0.5789,
          0.5787,
          0.5783,
          0.5806,
          0.5827,
          0.5771,
          0.569,
          0.5696,
          0.5687,
          0.5725,
          0.5636,
          0.5633,
          0.5638,
          0.5653,
          0.5628,
          0.5588,
          0.5579
         ],
         "yaxis": "y3"
        },
        {
         "hovertemplate": "variable=test_loss<br>epoch=%{x}<br>value=%{y}<extra></extra>",
         "legendgroup": "test_loss",
         "line": {
          "color": "#ab63fa",
          "dash": "solid"
         },
         "marker": {
          "symbol": "circle"
         },
         "mode": "lines+markers",
         "name": "test_loss",
         "orientation": "v",
         "showlegend": true,
         "type": "scatter",
         "x": [
          0,
          1,
          2,
          3,
          4,
          5,
          6,
          7,
          8,
          9,
          10,
          11,
          12,
          13,
          14,
          15,
          16,
          17,
          18,
          19,
          20,
          21,
          22,
          23,
          24,
          25,
          26,
          27,
          28,
          29,
          30,
          31,
          32,
          33,
          34
         ],
         "xaxis": "x2",
         "y": [
          0.32508450099377567,
          0.26810504517077194,
          0.23202213766292204,
          0.21828579492762884,
          0.21017954270288766,
          0.2149476994543173,
          0.20217632406323094,
          0.1978312919508208,
          0.20155871346141685,
          0.1953473420333721,
          0.1969604583622363,
          0.19693473599855174,
          0.1945319870777354,
          0.2033326426080752,
          0.19808895000253227,
          0.20718553013272184,
          0.21156925487203007,
          0.21839516581407442,
          0.22108202233705274,
          0.2240320360661085,
          0.24122726620096427,
          0.24856509459571377,
          0.2558960738545037,
          0.260750231839325,
          0.28124132075252944,
          0.2894888792516898,
          0.2885650388874668,
          0.3067694121590536,
          0.3184114430167601,
          0.33776483789630185,
          0.3353675435255807,
          0.3480310332068252,
          0.3658629944689262,
          0.35999580175728807,
          0.37667628453178054
         ],
         "yaxis": "y2"
        },
        {
         "hovertemplate": "variable=learning_rate<br>epoch=%{x}<br>value=%{y}<extra></extra>",
         "legendgroup": "learning_rate",
         "line": {
          "color": "#FFA15A",
          "dash": "solid"
         },
         "marker": {
          "symbol": "circle"
         },
         "mode": "lines+markers",
         "name": "learning_rate",
         "orientation": "v",
         "showlegend": true,
         "type": "scatter",
         "x": [
          0,
          1,
          2,
          3,
          4,
          5,
          6,
          7,
          8,
          9,
          10,
          11,
          12,
          13,
          14,
          15,
          16,
          17,
          18,
          19,
          20,
          21,
          22,
          23,
          24,
          25,
          26,
          27,
          28,
          29,
          30,
          31,
          32,
          33,
          34
         ],
         "xaxis": "x",
         "y": [
          0.015,
          0.01485148514851485,
          0.014705882352941176,
          0.014563106796116504,
          0.014423076923076922,
          0.014285714285714285,
          0.014150943396226414,
          0.014018691588785045,
          0.013888888888888888,
          0.013761467889908256,
          0.013636363636363634,
          0.013513513513513513,
          0.01339285714285714,
          0.013274336283185842,
          0.013157894736842103,
          0.013043478260869566,
          0.01293103448275862,
          0.01282051282051282,
          0.012711864406779662,
          0.012605042016806723,
          0.0125,
          0.012396694214876033,
          0.012295081967213115,
          0.012195121951219513,
          0.012096774193548387,
          0.012,
          0.011904761904761904,
          0.011811023622047244,
          0.01171875,
          0.011627906976744186,
          0.011538461538461537,
          0.011450381679389311,
          0.011363636363636362,
          0.011278195488721804,
          0.011194029850746268
         ],
         "yaxis": "y"
        }
       ],
       "layout": {
        "annotations": [
         {
          "font": {},
          "showarrow": false,
          "text": "variable=learning_rate",
          "textangle": 90,
          "x": 0.98,
          "xanchor": "left",
          "xref": "paper",
          "y": 0.08800000000000001,
          "yanchor": "middle",
          "yref": "paper"
         },
         {
          "font": {},
          "showarrow": false,
          "text": "variable=test_loss",
          "textangle": 90,
          "x": 0.98,
          "xanchor": "left",
          "xref": "paper",
          "y": 0.29400000000000004,
          "yanchor": "middle",
          "yref": "paper"
         },
         {
          "font": {},
          "showarrow": false,
          "text": "variable=test_accuracy",
          "textangle": 90,
          "x": 0.98,
          "xanchor": "left",
          "xref": "paper",
          "y": 0.5,
          "yanchor": "middle",
          "yref": "paper"
         },
         {
          "font": {},
          "showarrow": false,
          "text": "variable=accuracy",
          "textangle": 90,
          "x": 0.98,
          "xanchor": "left",
          "xref": "paper",
          "y": 0.706,
          "yanchor": "middle",
          "yref": "paper"
         },
         {
          "font": {},
          "showarrow": false,
          "text": "variable=loss",
          "textangle": 90,
          "x": 0.98,
          "xanchor": "left",
          "xref": "paper",
          "y": 0.912,
          "yanchor": "middle",
          "yref": "paper"
         }
        ],
        "height": 600,
        "legend": {
         "title": {
          "text": "variable"
         },
         "tracegroupgap": 0
        },
        "margin": {
         "t": 60
        },
        "template": {
         "data": {
          "bar": [
           {
            "error_x": {
             "color": "#2a3f5f"
            },
            "error_y": {
             "color": "#2a3f5f"
            },
            "marker": {
             "line": {
              "color": "#E5ECF6",
              "width": 0.5
             },
             "pattern": {
              "fillmode": "overlay",
              "size": 10,
              "solidity": 0.2
             }
            },
            "type": "bar"
           }
          ],
          "barpolar": [
           {
            "marker": {
             "line": {
              "color": "#E5ECF6",
              "width": 0.5
             },
             "pattern": {
              "fillmode": "overlay",
              "size": 10,
              "solidity": 0.2
             }
            },
            "type": "barpolar"
           }
          ],
          "carpet": [
           {
            "aaxis": {
             "endlinecolor": "#2a3f5f",
             "gridcolor": "white",
             "linecolor": "white",
             "minorgridcolor": "white",
             "startlinecolor": "#2a3f5f"
            },
            "baxis": {
             "endlinecolor": "#2a3f5f",
             "gridcolor": "white",
             "linecolor": "white",
             "minorgridcolor": "white",
             "startlinecolor": "#2a3f5f"
            },
            "type": "carpet"
           }
          ],
          "choropleth": [
           {
            "colorbar": {
             "outlinewidth": 0,
             "ticks": ""
            },
            "type": "choropleth"
           }
          ],
          "contour": [
           {
            "colorbar": {
             "outlinewidth": 0,
             "ticks": ""
            },
            "colorscale": [
             [
              0,
              "#0d0887"
             ],
             [
              0.1111111111111111,
              "#46039f"
             ],
             [
              0.2222222222222222,
              "#7201a8"
             ],
             [
              0.3333333333333333,
              "#9c179e"
             ],
             [
              0.4444444444444444,
              "#bd3786"
             ],
             [
              0.5555555555555556,
              "#d8576b"
             ],
             [
              0.6666666666666666,
              "#ed7953"
             ],
             [
              0.7777777777777778,
              "#fb9f3a"
             ],
             [
              0.8888888888888888,
              "#fdca26"
             ],
             [
              1,
              "#f0f921"
             ]
            ],
            "type": "contour"
           }
          ],
          "contourcarpet": [
           {
            "colorbar": {
             "outlinewidth": 0,
             "ticks": ""
            },
            "type": "contourcarpet"
           }
          ],
          "heatmap": [
           {
            "colorbar": {
             "outlinewidth": 0,
             "ticks": ""
            },
            "colorscale": [
             [
              0,
              "#0d0887"
             ],
             [
              0.1111111111111111,
              "#46039f"
             ],
             [
              0.2222222222222222,
              "#7201a8"
             ],
             [
              0.3333333333333333,
              "#9c179e"
             ],
             [
              0.4444444444444444,
              "#bd3786"
             ],
             [
              0.5555555555555556,
              "#d8576b"
             ],
             [
              0.6666666666666666,
              "#ed7953"
             ],
             [
              0.7777777777777778,
              "#fb9f3a"
             ],
             [
              0.8888888888888888,
              "#fdca26"
             ],
             [
              1,
              "#f0f921"
             ]
            ],
            "type": "heatmap"
           }
          ],
          "heatmapgl": [
           {
            "colorbar": {
             "outlinewidth": 0,
             "ticks": ""
            },
            "colorscale": [
             [
              0,
              "#0d0887"
             ],
             [
              0.1111111111111111,
              "#46039f"
             ],
             [
              0.2222222222222222,
              "#7201a8"
             ],
             [
              0.3333333333333333,
              "#9c179e"
             ],
             [
              0.4444444444444444,
              "#bd3786"
             ],
             [
              0.5555555555555556,
              "#d8576b"
             ],
             [
              0.6666666666666666,
              "#ed7953"
             ],
             [
              0.7777777777777778,
              "#fb9f3a"
             ],
             [
              0.8888888888888888,
              "#fdca26"
             ],
             [
              1,
              "#f0f921"
             ]
            ],
            "type": "heatmapgl"
           }
          ],
          "histogram": [
           {
            "marker": {
             "pattern": {
              "fillmode": "overlay",
              "size": 10,
              "solidity": 0.2
             }
            },
            "type": "histogram"
           }
          ],
          "histogram2d": [
           {
            "colorbar": {
             "outlinewidth": 0,
             "ticks": ""
            },
            "colorscale": [
             [
              0,
              "#0d0887"
             ],
             [
              0.1111111111111111,
              "#46039f"
             ],
             [
              0.2222222222222222,
              "#7201a8"
             ],
             [
              0.3333333333333333,
              "#9c179e"
             ],
             [
              0.4444444444444444,
              "#bd3786"
             ],
             [
              0.5555555555555556,
              "#d8576b"
             ],
             [
              0.6666666666666666,
              "#ed7953"
             ],
             [
              0.7777777777777778,
              "#fb9f3a"
             ],
             [
              0.8888888888888888,
              "#fdca26"
             ],
             [
              1,
              "#f0f921"
             ]
            ],
            "type": "histogram2d"
           }
          ],
          "histogram2dcontour": [
           {
            "colorbar": {
             "outlinewidth": 0,
             "ticks": ""
            },
            "colorscale": [
             [
              0,
              "#0d0887"
             ],
             [
              0.1111111111111111,
              "#46039f"
             ],
             [
              0.2222222222222222,
              "#7201a8"
             ],
             [
              0.3333333333333333,
              "#9c179e"
             ],
             [
              0.4444444444444444,
              "#bd3786"
             ],
             [
              0.5555555555555556,
              "#d8576b"
             ],
             [
              0.6666666666666666,
              "#ed7953"
             ],
             [
              0.7777777777777778,
              "#fb9f3a"
             ],
             [
              0.8888888888888888,
              "#fdca26"
             ],
             [
              1,
              "#f0f921"
             ]
            ],
            "type": "histogram2dcontour"
           }
          ],
          "mesh3d": [
           {
            "colorbar": {
             "outlinewidth": 0,
             "ticks": ""
            },
            "type": "mesh3d"
           }
          ],
          "parcoords": [
           {
            "line": {
             "colorbar": {
              "outlinewidth": 0,
              "ticks": ""
             }
            },
            "type": "parcoords"
           }
          ],
          "pie": [
           {
            "automargin": true,
            "type": "pie"
           }
          ],
          "scatter": [
           {
            "fillpattern": {
             "fillmode": "overlay",
             "size": 10,
             "solidity": 0.2
            },
            "type": "scatter"
           }
          ],
          "scatter3d": [
           {
            "line": {
             "colorbar": {
              "outlinewidth": 0,
              "ticks": ""
             }
            },
            "marker": {
             "colorbar": {
              "outlinewidth": 0,
              "ticks": ""
             }
            },
            "type": "scatter3d"
           }
          ],
          "scattercarpet": [
           {
            "marker": {
             "colorbar": {
              "outlinewidth": 0,
              "ticks": ""
             }
            },
            "type": "scattercarpet"
           }
          ],
          "scattergeo": [
           {
            "marker": {
             "colorbar": {
              "outlinewidth": 0,
              "ticks": ""
             }
            },
            "type": "scattergeo"
           }
          ],
          "scattergl": [
           {
            "marker": {
             "colorbar": {
              "outlinewidth": 0,
              "ticks": ""
             }
            },
            "type": "scattergl"
           }
          ],
          "scattermapbox": [
           {
            "marker": {
             "colorbar": {
              "outlinewidth": 0,
              "ticks": ""
             }
            },
            "type": "scattermapbox"
           }
          ],
          "scatterpolar": [
           {
            "marker": {
             "colorbar": {
              "outlinewidth": 0,
              "ticks": ""
             }
            },
            "type": "scatterpolar"
           }
          ],
          "scatterpolargl": [
           {
            "marker": {
             "colorbar": {
              "outlinewidth": 0,
              "ticks": ""
             }
            },
            "type": "scatterpolargl"
           }
          ],
          "scatterternary": [
           {
            "marker": {
             "colorbar": {
              "outlinewidth": 0,
              "ticks": ""
             }
            },
            "type": "scatterternary"
           }
          ],
          "surface": [
           {
            "colorbar": {
             "outlinewidth": 0,
             "ticks": ""
            },
            "colorscale": [
             [
              0,
              "#0d0887"
             ],
             [
              0.1111111111111111,
              "#46039f"
             ],
             [
              0.2222222222222222,
              "#7201a8"
             ],
             [
              0.3333333333333333,
              "#9c179e"
             ],
             [
              0.4444444444444444,
              "#bd3786"
             ],
             [
              0.5555555555555556,
              "#d8576b"
             ],
             [
              0.6666666666666666,
              "#ed7953"
             ],
             [
              0.7777777777777778,
              "#fb9f3a"
             ],
             [
              0.8888888888888888,
              "#fdca26"
             ],
             [
              1,
              "#f0f921"
             ]
            ],
            "type": "surface"
           }
          ],
          "table": [
           {
            "cells": {
             "fill": {
              "color": "#EBF0F8"
             },
             "line": {
              "color": "white"
             }
            },
            "header": {
             "fill": {
              "color": "#C8D4E3"
             },
             "line": {
              "color": "white"
             }
            },
            "type": "table"
           }
          ]
         },
         "layout": {
          "annotationdefaults": {
           "arrowcolor": "#2a3f5f",
           "arrowhead": 0,
           "arrowwidth": 1
          },
          "autotypenumbers": "strict",
          "coloraxis": {
           "colorbar": {
            "outlinewidth": 0,
            "ticks": ""
           }
          },
          "colorscale": {
           "diverging": [
            [
             0,
             "#8e0152"
            ],
            [
             0.1,
             "#c51b7d"
            ],
            [
             0.2,
             "#de77ae"
            ],
            [
             0.3,
             "#f1b6da"
            ],
            [
             0.4,
             "#fde0ef"
            ],
            [
             0.5,
             "#f7f7f7"
            ],
            [
             0.6,
             "#e6f5d0"
            ],
            [
             0.7,
             "#b8e186"
            ],
            [
             0.8,
             "#7fbc41"
            ],
            [
             0.9,
             "#4d9221"
            ],
            [
             1,
             "#276419"
            ]
           ],
           "sequential": [
            [
             0,
             "#0d0887"
            ],
            [
             0.1111111111111111,
             "#46039f"
            ],
            [
             0.2222222222222222,
             "#7201a8"
            ],
            [
             0.3333333333333333,
             "#9c179e"
            ],
            [
             0.4444444444444444,
             "#bd3786"
            ],
            [
             0.5555555555555556,
             "#d8576b"
            ],
            [
             0.6666666666666666,
             "#ed7953"
            ],
            [
             0.7777777777777778,
             "#fb9f3a"
            ],
            [
             0.8888888888888888,
             "#fdca26"
            ],
            [
             1,
             "#f0f921"
            ]
           ],
           "sequentialminus": [
            [
             0,
             "#0d0887"
            ],
            [
             0.1111111111111111,
             "#46039f"
            ],
            [
             0.2222222222222222,
             "#7201a8"
            ],
            [
             0.3333333333333333,
             "#9c179e"
            ],
            [
             0.4444444444444444,
             "#bd3786"
            ],
            [
             0.5555555555555556,
             "#d8576b"
            ],
            [
             0.6666666666666666,
             "#ed7953"
            ],
            [
             0.7777777777777778,
             "#fb9f3a"
            ],
            [
             0.8888888888888888,
             "#fdca26"
            ],
            [
             1,
             "#f0f921"
            ]
           ]
          },
          "colorway": [
           "#636efa",
           "#EF553B",
           "#00cc96",
           "#ab63fa",
           "#FFA15A",
           "#19d3f3",
           "#FF6692",
           "#B6E880",
           "#FF97FF",
           "#FECB52"
          ],
          "font": {
           "color": "#2a3f5f"
          },
          "geo": {
           "bgcolor": "white",
           "lakecolor": "white",
           "landcolor": "#E5ECF6",
           "showlakes": true,
           "showland": true,
           "subunitcolor": "white"
          },
          "hoverlabel": {
           "align": "left"
          },
          "hovermode": "closest",
          "mapbox": {
           "style": "light"
          },
          "paper_bgcolor": "white",
          "plot_bgcolor": "#E5ECF6",
          "polar": {
           "angularaxis": {
            "gridcolor": "white",
            "linecolor": "white",
            "ticks": ""
           },
           "bgcolor": "#E5ECF6",
           "radialaxis": {
            "gridcolor": "white",
            "linecolor": "white",
            "ticks": ""
           }
          },
          "scene": {
           "xaxis": {
            "backgroundcolor": "#E5ECF6",
            "gridcolor": "white",
            "gridwidth": 2,
            "linecolor": "white",
            "showbackground": true,
            "ticks": "",
            "zerolinecolor": "white"
           },
           "yaxis": {
            "backgroundcolor": "#E5ECF6",
            "gridcolor": "white",
            "gridwidth": 2,
            "linecolor": "white",
            "showbackground": true,
            "ticks": "",
            "zerolinecolor": "white"
           },
           "zaxis": {
            "backgroundcolor": "#E5ECF6",
            "gridcolor": "white",
            "gridwidth": 2,
            "linecolor": "white",
            "showbackground": true,
            "ticks": "",
            "zerolinecolor": "white"
           }
          },
          "shapedefaults": {
           "line": {
            "color": "#2a3f5f"
           }
          },
          "ternary": {
           "aaxis": {
            "gridcolor": "white",
            "linecolor": "white",
            "ticks": ""
           },
           "baxis": {
            "gridcolor": "white",
            "linecolor": "white",
            "ticks": ""
           },
           "bgcolor": "#E5ECF6",
           "caxis": {
            "gridcolor": "white",
            "linecolor": "white",
            "ticks": ""
           }
          },
          "title": {
           "x": 0.05
          },
          "xaxis": {
           "automargin": true,
           "gridcolor": "white",
           "linecolor": "white",
           "ticks": "",
           "title": {
            "standoff": 15
           },
           "zerolinecolor": "white",
           "zerolinewidth": 2
          },
          "yaxis": {
           "automargin": true,
           "gridcolor": "white",
           "linecolor": "white",
           "ticks": "",
           "title": {
            "standoff": 15
           },
           "zerolinecolor": "white",
           "zerolinewidth": 2
          }
         }
        },
        "xaxis": {
         "anchor": "y",
         "domain": [
          0,
          0.98
         ],
         "title": {
          "text": "epoch"
         }
        },
        "xaxis2": {
         "anchor": "y2",
         "domain": [
          0,
          0.98
         ],
         "matches": "x",
         "showticklabels": false
        },
        "xaxis3": {
         "anchor": "y3",
         "domain": [
          0,
          0.98
         ],
         "matches": "x",
         "showticklabels": false
        },
        "xaxis4": {
         "anchor": "y4",
         "domain": [
          0,
          0.98
         ],
         "matches": "x",
         "showticklabels": false
        },
        "xaxis5": {
         "anchor": "y5",
         "domain": [
          0,
          0.98
         ],
         "matches": "x",
         "showticklabels": false
        },
        "yaxis": {
         "anchor": "x",
         "domain": [
          0,
          0.17600000000000002
         ],
         "title": {
          "text": "value"
         }
        },
        "yaxis2": {
         "anchor": "x2",
         "domain": [
          0.20600000000000002,
          0.382
         ],
         "title": {
          "text": "value"
         }
        },
        "yaxis3": {
         "anchor": "x3",
         "domain": [
          0.41200000000000003,
          0.5880000000000001
         ],
         "title": {
          "text": "value"
         }
        },
        "yaxis4": {
         "anchor": "x4",
         "domain": [
          0.618,
          0.794
         ],
         "title": {
          "text": "value"
         }
        },
        "yaxis5": {
         "anchor": "x5",
         "domain": [
          0.8240000000000001,
          1
         ],
         "title": {
          "text": "value"
         }
        }
       }
      },
      "image/png": "[encoded data removed]"
     },
     "metadata": {},
     "output_type": "display_data"
    }
   ],
   "source": [
    "px.line(\n",
    "    bad_training_stats.melt(\"epoch\", [\"loss\",\n",
    "            \"accuracy\",\n",
    "            \"test_accuracy\",\n",
    "            \"test_loss\",\n",
    "            \"learning_rate\",\n",
    "        ]),\n",
    "    x=\"epoch\",\n",
    "    y=\"value\",\n",
    "    facet_row=\"variable\",\n",
    "    color=\"variable\",\n",
    "    markers=True,\n",
    "    height=600,\n",
    ").update_yaxes(matches=None)"
   ]
  },
  {
   "cell_type": "markdown",
   "metadata": {},
   "source": [
    "Looking at the training stats, we can see that the model started overfitting on the training dataset at epoch ~14.  \n",
    "This means that we would probably need to add a data augmentation technique and some regulirazation."
   ]
  },
  {
   "cell_type": "code",
   "execution_count": 14,
   "metadata": {},
   "outputs": [
    {
     "data": {
      "text/plain": [
       "{'test_accuracy': np.float64(0.56),\n",
       " 'test_loss': np.float64(0.3861144762963465)}"
      ]
     },
     "execution_count": 14,
     "metadata": {},
     "output_type": "execute_result"
    }
   ],
   "source": [
    "test_accuracy({}, nn)"
   ]
  },
  {
   "cell_type": "markdown",
   "metadata": {},
   "source": [
    "## Inspecting the trained model"
   ]
  },
  {
   "cell_type": "markdown",
   "metadata": {},
   "source": [
    "Let's peak an image to view the activations through the network."
   ]
  },
  {
   "cell_type": "code",
   "execution_count": 15,
   "metadata": {},
   "outputs": [
    {
     "data": {
      "application/vnd.plotly.v1+json": {
       "config": {
        "plotlyServerURL": "https://plot.ly"
       },
       "data": [
        {
         "hovertemplate": "x: %{x}<br>y: %{y}<extra></extra>",
         "name": "0",
         "source": "data:image/png;base64,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",
         "type": "image",
         "xaxis": "x",
         "yaxis": "y"
        }
       ],
       "layout": {
        "margin": {
         "t": 60
        },
        "template": {
         "data": {
          "bar": [
           {
            "error_x": {
             "color": "#2a3f5f"
            },
            "error_y": {
             "color": "#2a3f5f"
            },
            "marker": {
             "line": {
              "color": "#E5ECF6",
              "width": 0.5
             },
             "pattern": {
              "fillmode": "overlay",
              "size": 10,
              "solidity": 0.2
             }
            },
            "type": "bar"
           }
          ],
          "barpolar": [
           {
            "marker": {
             "line": {
              "color": "#E5ECF6",
              "width": 0.5
             },
             "pattern": {
              "fillmode": "overlay",
              "size": 10,
              "solidity": 0.2
             }
            },
            "type": "barpolar"
           }
          ],
          "carpet": [
           {
            "aaxis": {
             "endlinecolor": "#2a3f5f",
             "gridcolor": "white",
             "linecolor": "white",
             "minorgridcolor": "white",
             "startlinecolor": "#2a3f5f"
            },
            "baxis": {
             "endlinecolor": "#2a3f5f",
             "gridcolor": "white",
             "linecolor": "white",
             "minorgridcolor": "white",
             "startlinecolor": "#2a3f5f"
            },
            "type": "carpet"
           }
          ],
          "choropleth": [
           {
            "colorbar": {
             "outlinewidth": 0,
             "ticks": ""
            },
            "type": "choropleth"
           }
          ],
          "contour": [
           {
            "colorbar": {
             "outlinewidth": 0,
             "ticks": ""
            },
            "colorscale": [
             [
              0,
              "#0d0887"
             ],
             [
              0.1111111111111111,
              "#46039f"
             ],
             [
              0.2222222222222222,
              "#7201a8"
             ],
             [
              0.3333333333333333,
              "#9c179e"
             ],
             [
              0.4444444444444444,
              "#bd3786"
             ],
             [
              0.5555555555555556,
              "#d8576b"
             ],
             [
              0.6666666666666666,
              "#ed7953"
             ],
             [
              0.7777777777777778,
              "#fb9f3a"
             ],
             [
              0.8888888888888888,
              "#fdca26"
             ],
             [
              1,
              "#f0f921"
             ]
            ],
            "type": "contour"
           }
          ],
          "contourcarpet": [
           {
            "colorbar": {
             "outlinewidth": 0,
             "ticks": ""
            },
            "type": "contourcarpet"
           }
          ],
          "heatmap": [
           {
            "colorbar": {
             "outlinewidth": 0,
             "ticks": ""
            },
            "colorscale": [
             [
              0,
              "#0d0887"
             ],
             [
              0.1111111111111111,
              "#46039f"
             ],
             [
              0.2222222222222222,
              "#7201a8"
             ],
             [
              0.3333333333333333,
              "#9c179e"
             ],
             [
              0.4444444444444444,
              "#bd3786"
             ],
             [
              0.5555555555555556,
              "#d8576b"
             ],
             [
              0.6666666666666666,
              "#ed7953"
             ],
             [
              0.7777777777777778,
              "#fb9f3a"
             ],
             [
              0.8888888888888888,
              "#fdca26"
             ],
             [
              1,
              "#f0f921"
             ]
            ],
            "type": "heatmap"
           }
          ],
          "heatmapgl": [
           {
            "colorbar": {
             "outlinewidth": 0,
             "ticks": ""
            },
            "colorscale": [
             [
              0,
              "#0d0887"
             ],
             [
              0.1111111111111111,
              "#46039f"
             ],
             [
              0.2222222222222222,
              "#7201a8"
             ],
             [
              0.3333333333333333,
              "#9c179e"
             ],
             [
              0.4444444444444444,
              "#bd3786"
             ],
             [
              0.5555555555555556,
              "#d8576b"
             ],
             [
              0.6666666666666666,
              "#ed7953"
             ],
             [
              0.7777777777777778,
              "#fb9f3a"
             ],
             [
              0.8888888888888888,
              "#fdca26"
             ],
             [
              1,
              "#f0f921"
             ]
            ],
            "type": "heatmapgl"
           }
          ],
          "histogram": [
           {
            "marker": {
             "pattern": {
              "fillmode": "overlay",
              "size": 10,
              "solidity": 0.2
             }
            },
            "type": "histogram"
           }
          ],
          "histogram2d": [
           {
            "colorbar": {
             "outlinewidth": 0,
             "ticks": ""
            },
            "colorscale": [
             [
              0,
              "#0d0887"
             ],
             [
              0.1111111111111111,
              "#46039f"
             ],
             [
              0.2222222222222222,
              "#7201a8"
             ],
             [
              0.3333333333333333,
              "#9c179e"
             ],
             [
              0.4444444444444444,
              "#bd3786"
             ],
             [
              0.5555555555555556,
              "#d8576b"
             ],
             [
              0.6666666666666666,
              "#ed7953"
             ],
             [
              0.7777777777777778,
              "#fb9f3a"
             ],
             [
              0.8888888888888888,
              "#fdca26"
             ],
             [
              1,
              "#f0f921"
             ]
            ],
            "type": "histogram2d"
           }
          ],
          "histogram2dcontour": [
           {
            "colorbar": {
             "outlinewidth": 0,
             "ticks": ""
            },
            "colorscale": [
             [
              0,
              "#0d0887"
             ],
             [
              0.1111111111111111,
              "#46039f"
             ],
             [
              0.2222222222222222,
              "#7201a8"
             ],
             [
              0.3333333333333333,
              "#9c179e"
             ],
             [
              0.4444444444444444,
              "#bd3786"
             ],
             [
              0.5555555555555556,
              "#d8576b"
             ],
             [
              0.6666666666666666,
              "#ed7953"
             ],
             [
              0.7777777777777778,
              "#fb9f3a"
             ],
             [
              0.8888888888888888,
              "#fdca26"
             ],
             [
              1,
              "#f0f921"
             ]
            ],
            "type": "histogram2dcontour"
           }
          ],
          "mesh3d": [
           {
            "colorbar": {
             "outlinewidth": 0,
             "ticks": ""
            },
            "type": "mesh3d"
           }
          ],
          "parcoords": [
           {
            "line": {
             "colorbar": {
              "outlinewidth": 0,
              "ticks": ""
             }
            },
            "type": "parcoords"
           }
          ],
          "pie": [
           {
            "automargin": true,
            "type": "pie"
           }
          ],
          "scatter": [
           {
            "fillpattern": {
             "fillmode": "overlay",
             "size": 10,
             "solidity": 0.2
            },
            "type": "scatter"
           }
          ],
          "scatter3d": [
           {
            "line": {
             "colorbar": {
              "outlinewidth": 0,
              "ticks": ""
             }
            },
            "marker": {
             "colorbar": {
              "outlinewidth": 0,
              "ticks": ""
             }
            },
            "type": "scatter3d"
           }
          ],
          "scattercarpet": [
           {
            "marker": {
             "colorbar": {
              "outlinewidth": 0,
              "ticks": ""
             }
            },
            "type": "scattercarpet"
           }
          ],
          "scattergeo": [
           {
            "marker": {
             "colorbar": {
              "outlinewidth": 0,
              "ticks": ""
             }
            },
            "type": "scattergeo"
           }
          ],
          "scattergl": [
           {
            "marker": {
             "colorbar": {
              "outlinewidth": 0,
              "ticks": ""
             }
            },
            "type": "scattergl"
           }
          ],
          "scattermapbox": [
           {
            "marker": {
             "colorbar": {
              "outlinewidth": 0,
              "ticks": ""
             }
            },
            "type": "scattermapbox"
           }
          ],
          "scatterpolar": [
           {
            "marker": {
             "colorbar": {
              "outlinewidth": 0,
              "ticks": ""
             }
            },
            "type": "scatterpolar"
           }
          ],
          "scatterpolargl": [
           {
            "marker": {
             "colorbar": {
              "outlinewidth": 0,
              "ticks": ""
             }
            },
            "type": "scatterpolargl"
           }
          ],
          "scatterternary": [
           {
            "marker": {
             "colorbar": {
              "outlinewidth": 0,
              "ticks": ""
             }
            },
            "type": "scatterternary"
           }
          ],
          "surface": [
           {
            "colorbar": {
             "outlinewidth": 0,
             "ticks": ""
            },
            "colorscale": [
             [
              0,
              "#0d0887"
             ],
             [
              0.1111111111111111,
              "#46039f"
             ],
             [
              0.2222222222222222,
              "#7201a8"
             ],
             [
              0.3333333333333333,
              "#9c179e"
             ],
             [
              0.4444444444444444,
              "#bd3786"
             ],
             [
              0.5555555555555556,
              "#d8576b"
             ],
             [
              0.6666666666666666,
              "#ed7953"
             ],
             [
              0.7777777777777778,
              "#fb9f3a"
             ],
             [
              0.8888888888888888,
              "#fdca26"
             ],
             [
              1,
              "#f0f921"
             ]
            ],
            "type": "surface"
           }
          ],
          "table": [
           {
            "cells": {
             "fill": {
              "color": "#EBF0F8"
             },
             "line": {
              "color": "white"
             }
            },
            "header": {
             "fill": {
              "color": "#C8D4E3"
             },
             "line": {
              "color": "white"
             }
            },
            "type": "table"
           }
          ]
         },
         "layout": {
          "annotationdefaults": {
           "arrowcolor": "#2a3f5f",
           "arrowhead": 0,
           "arrowwidth": 1
          },
          "autotypenumbers": "strict",
          "coloraxis": {
           "colorbar": {
            "outlinewidth": 0,
            "ticks": ""
           }
          },
          "colorscale": {
           "diverging": [
            [
             0,
             "#8e0152"
            ],
            [
             0.1,
             "#c51b7d"
            ],
            [
             0.2,
             "#de77ae"
            ],
            [
             0.3,
             "#f1b6da"
            ],
            [
             0.4,
             "#fde0ef"
            ],
            [
             0.5,
             "#f7f7f7"
            ],
            [
             0.6,
             "#e6f5d0"
            ],
            [
             0.7,
             "#b8e186"
            ],
            [
             0.8,
             "#7fbc41"
            ],
            [
             0.9,
             "#4d9221"
            ],
            [
             1,
             "#276419"
            ]
           ],
           "sequential": [
            [
             0,
             "#0d0887"
            ],
            [
             0.1111111111111111,
             "#46039f"
            ],
            [
             0.2222222222222222,
             "#7201a8"
            ],
            [
             0.3333333333333333,
             "#9c179e"
            ],
            [
             0.4444444444444444,
             "#bd3786"
            ],
            [
             0.5555555555555556,
             "#d8576b"
            ],
            [
             0.6666666666666666,
             "#ed7953"
            ],
            [
             0.7777777777777778,
             "#fb9f3a"
            ],
            [
             0.8888888888888888,
             "#fdca26"
            ],
            [
             1,
             "#f0f921"
            ]
           ],
           "sequentialminus": [
            [
             0,
             "#0d0887"
            ],
            [
             0.1111111111111111,
             "#46039f"
            ],
            [
             0.2222222222222222,
             "#7201a8"
            ],
            [
             0.3333333333333333,
             "#9c179e"
            ],
            [
             0.4444444444444444,
             "#bd3786"
            ],
            [
             0.5555555555555556,
             "#d8576b"
            ],
            [
             0.6666666666666666,
             "#ed7953"
            ],
            [
             0.7777777777777778,
             "#fb9f3a"
            ],
            [
             0.8888888888888888,
             "#fdca26"
            ],
            [
             1,
             "#f0f921"
            ]
           ]
          },
          "colorway": [
           "#636efa",
           "#EF553B",
           "#00cc96",
           "#ab63fa",
           "#FFA15A",
           "#19d3f3",
           "#FF6692",
           "#B6E880",
           "#FF97FF",
           "#FECB52"
          ],
          "font": {
           "color": "#2a3f5f"
          },
          "geo": {
           "bgcolor": "white",
           "lakecolor": "white",
           "landcolor": "#E5ECF6",
           "showlakes": true,
           "showland": true,
           "subunitcolor": "white"
          },
          "hoverlabel": {
           "align": "left"
          },
          "hovermode": "closest",
          "mapbox": {
           "style": "light"
          },
          "paper_bgcolor": "white",
          "plot_bgcolor": "#E5ECF6",
          "polar": {
           "angularaxis": {
            "gridcolor": "white",
            "linecolor": "white",
            "ticks": ""
           },
           "bgcolor": "#E5ECF6",
           "radialaxis": {
            "gridcolor": "white",
            "linecolor": "white",
            "ticks": ""
           }
          },
          "scene": {
           "xaxis": {
            "backgroundcolor": "#E5ECF6",
            "gridcolor": "white",
            "gridwidth": 2,
            "linecolor": "white",
            "showbackground": true,
            "ticks": "",
            "zerolinecolor": "white"
           },
           "yaxis": {
            "backgroundcolor": "#E5ECF6",
            "gridcolor": "white",
            "gridwidth": 2,
            "linecolor": "white",
            "showbackground": true,
            "ticks": "",
            "zerolinecolor": "white"
           },
           "zaxis": {
            "backgroundcolor": "#E5ECF6",
            "gridcolor": "white",
            "gridwidth": 2,
            "linecolor": "white",
            "showbackground": true,
            "ticks": "",
            "zerolinecolor": "white"
           }
          },
          "shapedefaults": {
           "line": {
            "color": "#2a3f5f"
           }
          },
          "ternary": {
           "aaxis": {
            "gridcolor": "white",
            "linecolor": "white",
            "ticks": ""
           },
           "baxis": {
            "gridcolor": "white",
            "linecolor": "white",
            "ticks": ""
           },
           "bgcolor": "#E5ECF6",
           "caxis": {
            "gridcolor": "white",
            "linecolor": "white",
            "ticks": ""
           }
          },
          "title": {
           "x": 0.05
          },
          "xaxis": {
           "automargin": true,
           "gridcolor": "white",
           "linecolor": "white",
           "ticks": "",
           "title": {
            "standoff": 15
           },
           "zerolinecolor": "white",
           "zerolinewidth": 2
          },
          "yaxis": {
           "automargin": true,
           "gridcolor": "white",
           "linecolor": "white",
           "ticks": "",
           "title": {
            "standoff": 15
           },
           "zerolinecolor": "white",
           "zerolinewidth": 2
          }
         }
        },
        "xaxis": {
         "anchor": "y",
         "domain": [
          0,
          1
         ]
        },
        "yaxis": {
         "anchor": "x",
         "domain": [
          0,
          1
         ]
        }
       }
      },
      "image/png": "[encoded data removed]"
     },
     "metadata": {},
     "output_type": "display_data"
    }
   ],
   "source": [
    "TARGET_IMG = 30\n",
    "px.imshow(x_train[TARGET_IMG])"
   ]
  },
  {
   "cell_type": "code",
   "execution_count": 16,
   "metadata": {},
   "outputs": [
    {
     "data": {
      "application/vnd.plotly.v1+json": {
       "config": {
        "plotlyServerURL": "https://plot.ly"
       },
       "data": [
        {
         "coloraxis": "coloraxis",
         "hovertemplate": "x: %{x}<br>y: %{y}<br>color: %{z}<extra></extra>",
         "name": "0",
         "type": "heatmap",
         "xaxis": "x",
         "yaxis": "y",
         "z": [
          [
           0,
           0,
           0,
           0,
           0,
           0,
           0,
           0,
           0,
           0,
           0,
           0,
           0
          ],
          [
           0,
           0,
           0,
           0,
           0,
           0,
           0,
           0,
           0,
           0,
           0,
           0,
           0
          ],
          [
           0,
           0,
           0,
           0,
           0,
           0,
           0,
           0,
           0,
           0.04108345785109685,
           0,
           0,
           0
          ],
          [
           0,
           0,
           0,
           0,
           0.007923072445070234,
           0,
           0,
           0,
           0,
           0,
           0,
           0,
           0
          ],
          [
           0,
           0,
           0,
           0,
           0.11454827109603083,
           0.10968264831800939,
           0.029493688454353018,
           0.3017509091287139,
           0,
           0,
           0,
           0,
           0
          ],
          [
           0,
           0,
           0,
           0,
           0,
           0.09815068040681268,
           0.1285143733462939,
           0.20301095566776572,
           0.027389225584352084,
           0,
           0,
           0,
           0
          ],
          [
           0.13933901328595966,
           0.25208466893484643,
           0.03249317033816179,
           0.18766703891944564,
           0.09377819791914016,
           0,
           0,
           0.09012926545249672,
           0,
           0,
           0,
           0,
           0
          ],
          [
           0.07855254028505565,
           0.6989610742101462,
           0.7698294923169717,
           0.554769655360899,
           0.5849556259081057,
           0.5416893618574963,
           0.7545626749595193,
           0.5811808450084193,
           0.14528764260659327,
           0,
           0,
           0,
           0
          ],
          [
           0,
           0.4206095209993023,
           0.920786414720917,
           0.3664679509227274,
           0,
           0,
           0.22612878686075016,
           0.32784181533670825,
           0.455791473493879,
           0.32688562231959045,
           0,
           0,
           0
          ],
          [
           0,
           0,
           0,
           0.07280187743840166,
           0.08894387884543958,
           0.012845602267004597,
           0,
           0,
           0,
           0.2813319228320787,
           0.5995519315881259,
           0.8089304778555744,
           0
          ],
          [
           0,
           0,
           0,
           0,
           0.003483560994705426,
           0.05057419495295534,
           0,
           0,
           0,
           0,
           0.10722753247213113,
           1.0053928841137123,
           1.1060137073329228
          ],
          [
           0,
           0,
           0,
           0,
           0,
           0,
           0,
           0,
           0,
           0,
           0,
           0,
           0.9361474879595166
          ],
          [
           0,
           0,
           0,
           0,
           0,
           0,
           0,
           0,
           0,
           0,
           0,
           0,
           0
          ]
         ]
        },
        {
         "coloraxis": "coloraxis",
         "hovertemplate": "x: %{x}<br>y: %{y}<br>color: %{z}<extra></extra>",
         "name": "1",
         "type": "heatmap",
         "xaxis": "x2",
         "yaxis": "y2",
         "z": [
          [
           0,
           0,
           0,
           0,
           0,
           0,
           0,
           0,
           0,
           0,
           0,
           0,
           0
          ],
          [
           0,
           0,
           0,
           0,
           0,
           0,
           0,
           0,
           0,
           0,
           0,
           0,
           0
          ],
          [
           0,
           0,
           0,
           0,
           0,
           0,
           0,
           0,
           0,
           0,
           0,
           0,
           0
          ],
          [
           0,
           0,
           0,
           0,
           0,
           0,
           0,
           0,
           0,
           0,
           0,
           0,
           0
          ],
          [
           0,
           0,
           0,
           0,
           0,
           0,
           0,
           0,
           0,
           0,
           0,
           0,
           0
          ],
          [
           0,
           0,
           0,
           0,
           0,
           0.18328571122581916,
           0.15024115513254543,
           0,
           0,
           0,
           0,
           0,
           0
          ],
          [
           0,
           0,
           0.1294720396627188,
           0,
           0.11496061280390302,
           0.17332032229602312,
           0.1274388214726907,
           0,
           0.5230038578982532,
           0.06795040285912146,
           0,
           0,
           0
          ],
          [
           0,
           0,
           0.7032546717310242,
           0.3299227200966448,
           0,
           0.0427082667457197,
           0.032810427130521624,
           0.4019694706125594,
           0.6164559536575287,
           0.29125619308260076,
           0,
           0,
           0
          ],
          [
           0,
           0.014123686597337981,
           0,
           0,
           0.42148600556521987,
           0.7277887179749225,
           0.4010288045493551,
           0.7052310112369169,
           0.6598514822713539,
           0.18806851657735624,
           0.24379362949615657,
           0,
           0
          ],
          [
           0,
           0,
           0,
           0,
           0,
           0,
           0.020901635617032732,
           0.5516194525596523,
           0.6876905226300916,
           0.3112424115629979,
           0.387933649507745,
           0,
           0
          ],
          [
           0,
           0,
           0,
           0,
           0,
           0,
           0,
           0,
           0,
           0.029009369439868538,
           0.3993564019779563,
           0.05359148601377517,
           0
          ],
          [
           0,
           0,
           0,
           0,
           0,
           0,
           0,
           0,
           0,
           0,
           0,
           0.14059875543636124,
           0
          ],
          [
           0,
           0,
           0,
           0,
           0,
           0,
           0,
           0,
           0,
           0,
           0,
           0,
           0
          ]
         ]
        },
        {
         "coloraxis": "coloraxis",
         "hovertemplate": "x: %{x}<br>y: %{y}<br>color: %{z}<extra></extra>",
         "name": "2",
         "type": "heatmap",
         "xaxis": "x3",
         "yaxis": "y3",
         "z": [
          [
           0,
           0,
           0,
           0,
           0,
           0,
           0,
           0,
           0,
           0,
           0,
           0,
           0
          ],
          [
           0,
           0,
           0,
           0,
           0,
           0,
           0,
           0,
           0,
           0,
           0,
           0,
           0
          ],
          [
           0,
           0,
           0,
           0,
           0,
           0.12129351419095546,
           0,
           0,
           0,
           0,
           0,
           0,
           0
          ],
          [
           0,
           0.02822141599899597,
           0.37673473918963074,
           0.2727254801321157,
           0.06960645653791792,
           0.3639114093011996,
           0.42545654912596254,
           0.3843138650376837,
           0.7697928391816996,
           0,
           0,
           0,
           0
          ],
          [
           0,
           0.17017085021735856,
           0.26574001515257106,
           0.0031955309900132955,
           0,
           0,
           0.39436783400996067,
           0.3450107256386383,
           0,
           0,
           0.008517321765918906,
           0,
           0
          ],
          [
           0,
           0.061447632907357774,
           1.3313779727645283,
           0.7795629617474585,
           0.4999539363952492,
           0,
           0.024805420859634275,
           0,
           0,
           0.2559160775995988,
           0,
           0,
           0
          ],
          [
           0,
           0,
           0,
           0,
           0.0772523754445334,
           0.6001371904297831,
           0.510547619895486,
           0,
           0.5537837638305355,
           0.3471840475841621,
           0,
           0,
           0
          ],
          [
           0,
           0,
           0.43520946628540735,
           0.5078816644730509,
           0,
           0,
           0.3574396535014246,
           0.3056674380899125,
           0.6160209386627487,
           0.5156263852610812,
           0.23286458491485906,
           0,
           0
          ],
          [
           0.3588978011454306,
           0.6292591746235597,
           0,
           0,
           2.3923912350748884,
           2.770947928703318,
           1.7101712544714878,
           0.0973755453190292,
           0,
           0.3296480542799939,
           0.5928681205031295,
           0.5165211756103629,
           0
          ],
          [
           1.0442048013394731,
           0.24170864659891744,
           1.8642168698337587,
           1.60122320555476,
           1.9311827746468029,
           0,
           0.6662592400754569,
           1.114784877888071,
           0.7889650668888809,
           0,
           0,
           0.6017992857079891,
           0.33666301208225835
          ],
          [
           1.5264973574301504,
           1.3170795959817232,
           1.2817485474315582,
           0,
           0,
           0,
           0,
           0,
           0,
           0.8670514974311209,
           0.8057244587807643,
           0,
           0.20249865649375043
          ],
          [
           0,
           0,
           0,
           0,
           0,
           0,
           0,
           0,
           0,
           0,
           0.5819501999834629,
           1.2350837290544816,
           0.9990281095543191
          ],
          [
           0,
           0,
           0,
           0,
           0,
           0,
           0,
           0,
           0,
           0,
           0,
           0,
           0.8132888233277512
          ]
         ]
        },
        {
         "coloraxis": "coloraxis",
         "hovertemplate": "x: %{x}<br>y: %{y}<br>color: %{z}<extra></extra>",
         "name": "3",
         "type": "heatmap",
         "xaxis": "x4",
         "yaxis": "y4",
         "z": [
          [
           0.0020317870261466926,
           0,
           0,
           0,
           0,
           0,
           0,
           0,
           0,
           0,
           0,
           0,
           0
          ],
          [
           0.008308221931805,
           0,
           0,
           0.0047452344302597,
           0,
           0,
           0,
           0,
           0,
           0,
           0,
           0,
           0
          ],
          [
           0.02421477452499498,
           0.01389082729192449,
           0,
           0,
           0.03294144391586552,
           0.09860768469224945,
           0.0673870321899347,
           0,
           0,
           0,
           0,
           0,
           0
          ],
          [
           0.0075375400072451755,
           0,
           0,
           0.04273853150715669,
           0.16200110534114937,
           0.21036113180970323,
           0.14467993388645353,
           0,
           0,
           0,
           0,
           0,
           0
          ],
          [
           0.026965187372820023,
           0.10753222788297594,
           0.220679721582376,
           0.34304655867445644,
           0.3834390880771025,
           0.37013456926864874,
           0.3631306684618149,
           0.28299358577665834,
           0.14244923201146045,
           0.018427025103759626,
           0,
           0,
           0
          ],
          [
           0.02655938468466109,
           0.19133334735714075,
           0.2599151579041394,
           0.30017515518972665,
           0.3357223926450841,
           0.31563910952840846,
           0.28366602303011407,
           0.30687138633018646,
           0.2775885749949835,
           0.13197210683535585,
           0.033754230448618264,
           0,
           0
          ],
          [
           0.0944146501566755,
           0.24643946531771344,
           0.25496412009018604,
           0.280537933046976,
           0.2826084221623842,
           0.3222921086110963,
           0.4139581322645665,
           0.5400081402238291,
           0.5275397769207966,
           0.4220709435297135,
           0.22626999929565134,
           0.047917832115660634,
           0
          ],
          [
           0,
           0,
           0,
           0.12740018772110448,
           0.20150070873531398,
           0.2679468642089444,
           0.3809880601820765,
           0.50546734210707,
           0.5781957325559689,
           0.5461158237771219,
           0.38159823284353533,
           0.17739090910807753,
           0.005419921292613695
          ],
          [
           0,
           0,
           0,
           0.14222589686809514,
           0.09117756955387332,
           0.06879235786683363,
           0.20726383238190893,
           0.3710442669877572,
           0.4667373872462106,
           0.46686676998326504,
           0.3832917750843618,
           0.1997089650231729,
           0.06595936934874667
          ],
          [
           0,
           0,
           0,
           0.005748586577719254,
           0.11213180859834351,
           0.14334303167104337,
           0.08844976818240988,
           0.026701196453768936,
           0,
           0.14317315791002017,
           0.1630969901574326,
           0.14497314509584927,
           0.12087245933924219
          ],
          [
           0.02116292899582328,
           0.06318566590755798,
           0.08293493126194114,
           0.09606447479739454,
           0.03976492864182257,
           0,
           0,
           0,
           0,
           0,
           0.0729752482812472,
           0.11810472062211709,
           0.12714470899151598
          ],
          [
           0.07615700572547492,
           0.06913407325861913,
           0,
           0,
           0,
           0,
           0,
           0,
           0,
           0,
           0,
           0.018822947596059875,
           0.08452483655552057
          ],
          [
           0,
           0,
           0,
           0,
           0,
           0,
           0,
           0,
           0,
           0,
           0,
           0,
           0.027550119992819918
          ]
         ]
        },
        {
         "coloraxis": "coloraxis",
         "hovertemplate": "x: %{x}<br>y: %{y}<br>color: %{z}<extra></extra>",
         "name": "4",
         "type": "heatmap",
         "xaxis": "x5",
         "yaxis": "y5",
         "z": [
          [
           0,
           0,
           0,
           0,
           0,
           0,
           0,
           0,
           0,
           0,
           0,
           0,
           0
          ],
          [
           0,
           0,
           0,
           0,
           0,
           0,
           0,
           0,
           0,
           0,
           0,
           0,
           0
          ],
          [
           0,
           0,
           0,
           0,
           0,
           0,
           0.16769305598575768,
           0,
           0,
           0,
           0,
           0,
           0
          ],
          [
           0,
           0,
           0,
           0,
           0,
           0,
           0.27911689105475457,
           0,
           0.026996091706769643,
           0,
           0,
           0,
           0
          ],
          [
           0,
           0,
           0,
           0.2809858525058522,
           0.047609505985582334,
           0.12348368612332244,
           0.05708555652377345,
           0,
           0.027505158143370068,
           0,
           0.25782073650728043,
           0,
           0
          ],
          [
           0,
           0,
           0,
           0.19942160450810587,
           0.05424033255840216,
           0.11888512357541248,
           0,
           0,
           0,
           0,
           0.23359185452754616,
           0,
           0
          ],
          [
           0,
           0,
           0,
           0.1598383314635688,
           0.011054359053780882,
           0,
           0,
           0,
           0,
           0.19718166031115714,
           0,
           0,
           0
          ],
          [
           0,
           0,
           0,
           0.08507915277596362,
           0,
           0,
           0,
           0,
           0,
           0.23991487002958056,
           0.31464166032751306,
           0,
           0
          ],
          [
           0,
           0,
           0,
           0.12013490310581681,
           0,
           0,
           0,
           0,
           0,
           0.19423888213275958,
           0.4600102469652555,
           0,
           0
          ],
          [
           0.5028896509473539,
           0.1825797942755759,
           0.5977303602929885,
           0.21058868956571059,
           0,
           0,
           0,
           0,
           0,
           0.09500966647662829,
           0.3028907882261478,
           0,
           0
          ],
          [
           0.4776026292086417,
           0.20992960871718325,
           0.5471843852957776,
           0.14689438581663794,
           0,
           0,
           0,
           0,
           0,
           0.07012318850374938,
           0,
           0.1502982097356878,
           0
          ],
          [
           0,
           0.12569182711538013,
           0.138877848288191,
           0.1804944254401088,
           0,
           0,
           0,
           0,
           0,
           0,
           0,
           0.132986257371349,
           0.032345527063190216
          ],
          [
           0,
           0.08136368243270431,
           0,
           0,
           0,
           0,
           0,
           0,
           0,
           0,
           0,
           0,
           0.042328224220976984
          ]
         ]
        },
        {
         "coloraxis": "coloraxis",
         "hovertemplate": "x: %{x}<br>y: %{y}<br>color: %{z}<extra></extra>",
         "name": "5",
         "type": "heatmap",
         "xaxis": "x6",
         "yaxis": "y6",
         "z": [
          [
           0,
           0,
           0,
           0,
           0,
           0,
           0,
           0,
           0,
           0,
           0,
           0,
           0
          ],
          [
           0,
           0,
           0,
           0,
           0,
           0,
           0,
           0,
           0,
           0,
           0,
           0,
           0
          ],
          [
           0,
           0,
           0,
           0,
           0,
           0,
           0,
           0,
           0,
           0.03180931131495768,
           0,
           0,
           0
          ],
          [
           0,
           0,
           0,
           0,
           0,
           0,
           0,
           0,
           0,
           0.013297009142086258,
           0,
           0,
           0
          ],
          [
           0,
           0,
           0,
           0,
           0,
           0.030703935882200717,
           0.41576066099455283,
           0.41464952146723927,
           0,
           0,
           0,
           0,
           0
          ],
          [
           0,
           0.08944923738501798,
           0.24323877399477828,
           0.6329655098470339,
           0.612515018748051,
           0,
           0,
           0,
           0,
           0,
           0,
           0,
           0
          ],
          [
           0.008904644433148812,
           0.1445804593061905,
           0.18590435674971723,
           0.5026173228002453,
           0.7920467371462638,
           0.4085004040558495,
           0.2742996035320538,
           0,
           0,
           0,
           0,
           0,
           0
          ],
          [
           0.45834252978528617,
           0.7327948561225883,
           0.8887844654234478,
           0.7641784048337488,
           0.3467610996756731,
           0.4780782942466279,
           0.5756774971299023,
           0.7947696367413022,
           0.5149479814936704,
           0.06987448288891562,
           0,
           0,
           0
          ],
          [
           0.16267638009545998,
           0.5164872916184107,
           0.37457697042246746,
           0,
           0,
           0,
           0,
           0,
           0,
           0.18968031055038276,
           0.2614300869681278,
           0.04692695006118486,
           0
          ],
          [
           0,
           0,
           0,
           0.5889191394638014,
           0.5880064631692361,
           0.8740452843531459,
           1.1235656896911745,
           0.9717163854074322,
           0.5751373040706576,
           0.4277643057337081,
           0.22333304864991926,
           0.4682145416898265,
           0.2914264118449644
          ],
          [
           0.34538423954906033,
           0.5704814547010213,
           0.11198114920465635,
           0.22161434643479422,
           0,
           0,
           0,
           0,
           0,
           0.012461798901164611,
           0,
           0,
           0
          ],
          [
           0,
           0,
           0,
           0,
           0,
           0,
           0,
           0,
           0,
           0,
           0,
           0,
           0
          ],
          [
           0,
           0,
           0,
           0,
           0,
           0,
           0,
           0,
           0,
           0,
           0,
           0,
           0.11511517488605216
          ]
         ]
        },
        {
         "coloraxis": "coloraxis",
         "hovertemplate": "x: %{x}<br>y: %{y}<br>color: %{z}<extra></extra>",
         "name": "6",
         "type": "heatmap",
         "xaxis": "x7",
         "yaxis": "y7",
         "z": [
          [
           0,
           0,
           0,
           0,
           0,
           0,
           0,
           0,
           0,
           0,
           0,
           0,
           0
          ],
          [
           0,
           0,
           0,
           0,
           0,
           0,
           0,
           0,
           0,
           0,
           0,
           0,
           0
          ],
          [
           0,
           0,
           0,
           0,
           0,
           0,
           0,
           0,
           0,
           0,
           0,
           0,
           0
          ],
          [
           0,
           0,
           0,
           0,
           0,
           0,
           0,
           0,
           0,
           0,
           0,
           0,
           0
          ],
          [
           0,
           0,
           0,
           0,
           0,
           0,
           0,
           0,
           0,
           0,
           0,
           0,
           0
          ],
          [
           0,
           0,
           0,
           0,
           0,
           0,
           0,
           0.1387074894379834,
           0,
           0,
           0,
           0,
           0
          ],
          [
           0,
           0,
           0,
           0,
           0,
           0,
           0.028338145778339707,
           0.07101328859898914,
           0,
           0,
           0,
           0,
           0
          ],
          [
           0,
           0,
           0,
           0.09827468340964263,
           0.6712445649763017,
           0.6996631951212013,
           0.4549693835093427,
           0.252881187228184,
           0.021359624427634283,
           0,
           0,
           0,
           0
          ],
          [
           0,
           0,
           0.0030340872625187476,
           0.5375625028294286,
           0.6488097969444415,
           0.15036564873244695,
           0,
           0,
           0,
           0,
           0,
           0,
           0
          ],
          [
           0,
           0,
           0,
           0,
           0,
           0,
           0,
           0,
           0,
           0,
           0,
           0,
           0
          ],
          [
           0,
           0,
           0,
           0,
           0,
           0,
           0,
           0,
           0,
           0,
           0,
           0,
           0
          ],
          [
           0,
           0,
           0,
           0,
           0,
           0,
           0,
           0,
           0,
           0,
           0,
           0,
           0
          ],
          [
           0,
           0,
           0,
           0,
           0,
           0,
           0,
           0,
           0,
           0,
           0,
           0,
           0
          ]
         ]
        },
        {
         "coloraxis": "coloraxis",
         "hovertemplate": "x: %{x}<br>y: %{y}<br>color: %{z}<extra></extra>",
         "name": "7",
         "type": "heatmap",
         "xaxis": "x8",
         "yaxis": "y8",
         "z": [
          [
           0,
           0,
           0,
           0,
           0,
           0,
           0,
           0,
           0,
           0,
           0,
           0,
           0
          ],
          [
           0,
           0,
           0,
           0,
           0.0365602466417459,
           0,
           0,
           0,
           0,
           0,
           0,
           0,
           0
          ],
          [
           0,
           0.04266308808178379,
           0,
           0,
           0,
           0.02589783124117173,
           0.05541519150459179,
           0.05779875232185172,
           0,
           0,
           0,
           0,
           0
          ],
          [
           0,
           0.048144032755198185,
           0,
           0,
           0,
           0.15728801321023134,
           0,
           0,
           0.07088425857156422,
           0.12909249069128298,
           0,
           0,
           0
          ],
          [
           0,
           0,
           0,
           0.04127551382255765,
           0.10231417986369407,
           0.13539480547924293,
           0,
           0.24398663826488354,
           0.4499738219724328,
           0.18260285365996326,
           0,
           0,
           0
          ],
          [
           0,
           0,
           0.07189901258498127,
           0.1335181524975968,
           0.2360371580272716,
           0.08155923145437705,
           0.11445345116528072,
           0.2836887019466728,
           0.043390453824207614,
           0,
           0,
           0,
           0
          ],
          [
           0,
           0.42376586914666453,
           0.24703234934058294,
           0.14060075124407084,
           0.1860928889721129,
           0.0908420163540532,
           0.10956217321856676,
           0.2888959118523548,
           0,
           0,
           0,
           0,
           0
          ],
          [
           0.14947330035949646,
           0.03220711829281134,
           0,
           0.7255395032531751,
           0.8617096962875654,
           0.20863680934349865,
           0.1476716734614107,
           0.12882494610176015,
           0.09806389145417022,
           0,
           0,
           0,
           0
          ],
          [
           0,
           0.10027264278438441,
           0.922668350953513,
           1.1342217796493477,
           0.5315419232812677,
           0,
           0,
           0,
           0,
           0,
           0,
           0,
           0
          ],
          [
           0,
           0.18143876770204997,
           0.37941547556532623,
           0,
           0.32766056845913666,
           0.2611942245085404,
           0.03931357065426358,
           0,
           0.16992504768703487,
           0.07814482808615933,
           0,
           0.1912527044384037,
           0.15544766793406622
          ],
          [
           0,
           0,
           0.522187013443421,
           0.6946061692292871,
           0.7446630110939618,
           0,
           0,
           0,
           0.1814607213274293,
           0,
           0.14035450734007843,
           0,
           0
          ],
          [
           0.11466986213133978,
           0.507147028633983,
           0.5891304372397277,
           0,
           0,
           0,
           0,
           0,
           0,
           0,
           0,
           0,
           0
          ],
          [
           0.10444587081295964,
           0,
           0,
           0,
           0,
           0,
           0,
           0,
           0,
           0,
           0,
           0,
           0
          ]
         ]
        },
        {
         "coloraxis": "coloraxis",
         "hovertemplate": "x: %{x}<br>y: %{y}<br>color: %{z}<extra></extra>",
         "name": "8",
         "type": "heatmap",
         "xaxis": "x9",
         "yaxis": "y9",
         "z": [
          [
           0,
           0,
           0,
           0,
           0,
           0,
           0,
           0,
           0,
           0,
           0,
           0,
           0
          ],
          [
           0,
           0,
           0,
           0,
           0,
           0,
           0,
           0,
           0,
           0,
           0,
           0,
           0
          ],
          [
           0,
           0,
           0,
           0,
           0,
           0,
           0,
           0,
           0,
           0,
           0,
           0,
           0
          ],
          [
           0,
           0,
           0,
           0,
           0,
           0,
           0,
           0,
           0.03547463941744411,
           0,
           0,
           0,
           0
          ],
          [
           0,
           0,
           0,
           0,
           0,
           0,
           0,
           0,
           0,
           0,
           0,
           0,
           0
          ],
          [
           0,
           0,
           0,
           0,
           0,
           0,
           0,
           0,
           0,
           0,
           0,
           0,
           0
          ],
          [
           0,
           0,
           0,
           0,
           0.0714322450506617,
           0.20387056289764416,
           0.15203435732435788,
           0,
           0,
           0,
           0,
           0,
           0
          ],
          [
           0,
           0,
           0,
           0,
           0,
           0,
           0,
           0,
           0,
           0,
           0,
           0,
           0
          ],
          [
           0,
           0,
           0,
           0,
           0,
           0,
           0,
           0,
           0,
           0,
           0,
           0,
           0
          ],
          [
           0,
           0,
           0,
           0,
           0.15590934687824076,
           0.14231593812419863,
           0,
           0,
           0,
           0,
           0,
           0,
           0
          ],
          [
           0,
           0,
           0,
           0,
           0,
           0,
           0,
           0,
           0,
           0,
           0,
           0,
           0
          ],
          [
           0,
           0,
           0,
           0,
           0,
           0,
           0,
           0,
           0,
           0,
           0,
           0,
           0
          ],
          [
           0,
           0,
           0,
           0,
           0,
           0,
           0,
           0,
           0,
           0,
           0,
           0,
           0
          ]
         ]
        },
        {
         "coloraxis": "coloraxis",
         "hovertemplate": "x: %{x}<br>y: %{y}<br>color: %{z}<extra></extra>",
         "name": "9",
         "type": "heatmap",
         "xaxis": "x10",
         "yaxis": "y10",
         "z": [
          [
           0,
           0,
           0,
           0,
           0,
           0,
           0,
           0,
           0,
           0,
           0,
           0,
           0
          ],
          [
           0,
           0,
           0,
           0,
           0,
           0,
           0,
           0,
           0,
           0,
           0,
           0,
           0
          ],
          [
           0,
           0,
           0,
           0,
           0,
           0,
           0,
           0,
           0,
           0,
           0,
           0,
           0
          ],
          [
           0,
           0.0329832482230876,
           0.009645304583927455,
           0,
           0,
           0,
           0.14284402701631693,
           0,
           0,
           0,
           0.027225634942436072,
           0,
           0
          ],
          [
           0,
           0.04019233511953113,
           0.08419945399007195,
           0,
           0,
           0.10099715542078103,
           0,
           0,
           0,
           0,
           0,
           0,
           0
          ],
          [
           0.12653494992783704,
           0.031079300877596694,
           0.23665714835709994,
           0.7584219788831188,
           0.19498395375777894,
           0.3517715434576267,
           0.1716746691882613,
           0.1581909054532588,
           0,
           0,
           0.05178392234384804,
           0,
           0
          ],
          [
           0,
           0.3556917068022966,
           0.18761497038024688,
           0,
           0,
           0.09656131112005717,
           0.020952425503972166,
           0.09265047834670131,
           0.12165508899499822,
           0,
           0,
           0,
           0
          ],
          [
           0.2578456440147265,
           0.12952829994339132,
           0.4780700211361097,
           0.27147065729558656,
           0,
           0,
           0,
           0.17187263547217646,
           0.4635600221071325,
           0.48946642692668346,
           0.11959013041043376,
           0,
           0
          ],
          [
           0,
           0,
           1.1529896586842416,
           0.5130581160599625,
           0.48100030145269007,
           0.3836396329968553,
           1.4614691119585186,
           1.0907865560513637,
           0.33590187216241035,
           0,
           0.3164396758685864,
           0,
           0
          ],
          [
           0.060647978429559046,
           0,
           1.1638280789468658,
           0,
           0,
           0,
           0,
           0.35972314535703603,
           0.37734704161240945,
           0.5946429559733544,
           0,
           0,
           0
          ],
          [
           0.338568261720467,
           0,
           0,
           0,
           0,
           0.0006338105807825178,
           0.06022924112079833,
           0.0584836636725031,
           0.02510039540642439,
           0,
           0.5216042759064525,
           0.267195238340033,
           0.23583335213601403
          ],
          [
           0.1278783952060321,
           0,
           0,
           0,
           0,
           0,
           0,
           0,
           0.037732469770550614,
           0,
           0,
           0.13721891508458733,
           0.6450763123663612
          ],
          [
           0.21803308865344162,
           0,
           0,
           0,
           0,
           0,
           0,
           0,
           0,
           0,
           0.03663908412955319,
           0,
           0
          ]
         ]
        }
       ],
       "layout": {
        "annotations": [
         {
          "font": {},
          "showarrow": false,
          "text": "facet_col=0",
          "x": 0.04100000000000001,
          "xanchor": "center",
          "xref": "paper",
          "y": 1,
          "yanchor": "bottom",
          "yref": "paper"
         },
         {
          "font": {},
          "showarrow": false,
          "text": "facet_col=1",
          "x": 0.14300000000000004,
          "xanchor": "center",
          "xref": "paper",
          "y": 1,
          "yanchor": "bottom",
          "yref": "paper"
         },
         {
          "font": {},
          "showarrow": false,
          "text": "facet_col=2",
          "x": 0.24500000000000005,
          "xanchor": "center",
          "xref": "paper",
          "y": 1,
          "yanchor": "bottom",
          "yref": "paper"
         },
         {
          "font": {},
          "showarrow": false,
          "text": "facet_col=3",
          "x": 0.3470000000000001,
          "xanchor": "center",
          "xref": "paper",
          "y": 1,
          "yanchor": "bottom",
          "yref": "paper"
         },
         {
          "font": {},
          "showarrow": false,
          "text": "facet_col=4",
          "x": 0.44900000000000007,
          "xanchor": "center",
          "xref": "paper",
          "y": 1,
          "yanchor": "bottom",
          "yref": "paper"
         },
         {
          "font": {},
          "showarrow": false,
          "text": "facet_col=5",
          "x": 0.5510000000000002,
          "xanchor": "center",
          "xref": "paper",
          "y": 1,
          "yanchor": "bottom",
          "yref": "paper"
         },
         {
          "font": {},
          "showarrow": false,
          "text": "facet_col=6",
          "x": 0.6530000000000001,
          "xanchor": "center",
          "xref": "paper",
          "y": 1,
          "yanchor": "bottom",
          "yref": "paper"
         },
         {
          "font": {},
          "showarrow": false,
          "text": "facet_col=7",
          "x": 0.7550000000000001,
          "xanchor": "center",
          "xref": "paper",
          "y": 1,
          "yanchor": "bottom",
          "yref": "paper"
         },
         {
          "font": {},
          "showarrow": false,
          "text": "facet_col=8",
          "x": 0.8570000000000002,
          "xanchor": "center",
          "xref": "paper",
          "y": 1,
          "yanchor": "bottom",
          "yref": "paper"
         },
         {
          "font": {},
          "showarrow": false,
          "text": "facet_col=9",
          "x": 0.9590000000000002,
          "xanchor": "center",
          "xref": "paper",
          "y": 1,
          "yanchor": "bottom",
          "yref": "paper"
         }
        ],
        "coloraxis": {
         "colorscale": [
          [
           0,
           "#0d0887"
          ],
          [
           0.1111111111111111,
           "#46039f"
          ],
          [
           0.2222222222222222,
           "#7201a8"
          ],
          [
           0.3333333333333333,
           "#9c179e"
          ],
          [
           0.4444444444444444,
           "#bd3786"
          ],
          [
           0.5555555555555556,
           "#d8576b"
          ],
          [
           0.6666666666666666,
           "#ed7953"
          ],
          [
           0.7777777777777778,
           "#fb9f3a"
          ],
          [
           0.8888888888888888,
           "#fdca26"
          ],
          [
           1,
           "#f0f921"
          ]
         ]
        },
        "margin": {
         "t": 60
        },
        "template": {
         "data": {
          "bar": [
           {
            "error_x": {
             "color": "#2a3f5f"
            },
            "error_y": {
             "color": "#2a3f5f"
            },
            "marker": {
             "line": {
              "color": "#E5ECF6",
              "width": 0.5
             },
             "pattern": {
              "fillmode": "overlay",
              "size": 10,
              "solidity": 0.2
             }
            },
            "type": "bar"
           }
          ],
          "barpolar": [
           {
            "marker": {
             "line": {
              "color": "#E5ECF6",
              "width": 0.5
             },
             "pattern": {
              "fillmode": "overlay",
              "size": 10,
              "solidity": 0.2
             }
            },
            "type": "barpolar"
           }
          ],
          "carpet": [
           {
            "aaxis": {
             "endlinecolor": "#2a3f5f",
             "gridcolor": "white",
             "linecolor": "white",
             "minorgridcolor": "white",
             "startlinecolor": "#2a3f5f"
            },
            "baxis": {
             "endlinecolor": "#2a3f5f",
             "gridcolor": "white",
             "linecolor": "white",
             "minorgridcolor": "white",
             "startlinecolor": "#2a3f5f"
            },
            "type": "carpet"
           }
          ],
          "choropleth": [
           {
            "colorbar": {
             "outlinewidth": 0,
             "ticks": ""
            },
            "type": "choropleth"
           }
          ],
          "contour": [
           {
            "colorbar": {
             "outlinewidth": 0,
             "ticks": ""
            },
            "colorscale": [
             [
              0,
              "#0d0887"
             ],
             [
              0.1111111111111111,
              "#46039f"
             ],
             [
              0.2222222222222222,
              "#7201a8"
             ],
             [
              0.3333333333333333,
              "#9c179e"
             ],
             [
              0.4444444444444444,
              "#bd3786"
             ],
             [
              0.5555555555555556,
              "#d8576b"
             ],
             [
              0.6666666666666666,
              "#ed7953"
             ],
             [
              0.7777777777777778,
              "#fb9f3a"
             ],
             [
              0.8888888888888888,
              "#fdca26"
             ],
             [
              1,
              "#f0f921"
             ]
            ],
            "type": "contour"
           }
          ],
          "contourcarpet": [
           {
            "colorbar": {
             "outlinewidth": 0,
             "ticks": ""
            },
            "type": "contourcarpet"
           }
          ],
          "heatmap": [
           {
            "colorbar": {
             "outlinewidth": 0,
             "ticks": ""
            },
            "colorscale": [
             [
              0,
              "#0d0887"
             ],
             [
              0.1111111111111111,
              "#46039f"
             ],
             [
              0.2222222222222222,
              "#7201a8"
             ],
             [
              0.3333333333333333,
              "#9c179e"
             ],
             [
              0.4444444444444444,
              "#bd3786"
             ],
             [
              0.5555555555555556,
              "#d8576b"
             ],
             [
              0.6666666666666666,
              "#ed7953"
             ],
             [
              0.7777777777777778,
              "#fb9f3a"
             ],
             [
              0.8888888888888888,
              "#fdca26"
             ],
             [
              1,
              "#f0f921"
             ]
            ],
            "type": "heatmap"
           }
          ],
          "heatmapgl": [
           {
            "colorbar": {
             "outlinewidth": 0,
             "ticks": ""
            },
            "colorscale": [
             [
              0,
              "#0d0887"
             ],
             [
              0.1111111111111111,
              "#46039f"
             ],
             [
              0.2222222222222222,
              "#7201a8"
             ],
             [
              0.3333333333333333,
              "#9c179e"
             ],
             [
              0.4444444444444444,
              "#bd3786"
             ],
             [
              0.5555555555555556,
              "#d8576b"
             ],
             [
              0.6666666666666666,
              "#ed7953"
             ],
             [
              0.7777777777777778,
              "#fb9f3a"
             ],
             [
              0.8888888888888888,
              "#fdca26"
             ],
             [
              1,
              "#f0f921"
             ]
            ],
            "type": "heatmapgl"
           }
          ],
          "histogram": [
           {
            "marker": {
             "pattern": {
              "fillmode": "overlay",
              "size": 10,
              "solidity": 0.2
             }
            },
            "type": "histogram"
           }
          ],
          "histogram2d": [
           {
            "colorbar": {
             "outlinewidth": 0,
             "ticks": ""
            },
            "colorscale": [
             [
              0,
              "#0d0887"
             ],
             [
              0.1111111111111111,
              "#46039f"
             ],
             [
              0.2222222222222222,
              "#7201a8"
             ],
             [
              0.3333333333333333,
              "#9c179e"
             ],
             [
              0.4444444444444444,
              "#bd3786"
             ],
             [
              0.5555555555555556,
              "#d8576b"
             ],
             [
              0.6666666666666666,
              "#ed7953"
             ],
             [
              0.7777777777777778,
              "#fb9f3a"
             ],
             [
              0.8888888888888888,
              "#fdca26"
             ],
             [
              1,
              "#f0f921"
             ]
            ],
            "type": "histogram2d"
           }
          ],
          "histogram2dcontour": [
           {
            "colorbar": {
             "outlinewidth": 0,
             "ticks": ""
            },
            "colorscale": [
             [
              0,
              "#0d0887"
             ],
             [
              0.1111111111111111,
              "#46039f"
             ],
             [
              0.2222222222222222,
              "#7201a8"
             ],
             [
              0.3333333333333333,
              "#9c179e"
             ],
             [
              0.4444444444444444,
              "#bd3786"
             ],
             [
              0.5555555555555556,
              "#d8576b"
             ],
             [
              0.6666666666666666,
              "#ed7953"
             ],
             [
              0.7777777777777778,
              "#fb9f3a"
             ],
             [
              0.8888888888888888,
              "#fdca26"
             ],
             [
              1,
              "#f0f921"
             ]
            ],
            "type": "histogram2dcontour"
           }
          ],
          "mesh3d": [
           {
            "colorbar": {
             "outlinewidth": 0,
             "ticks": ""
            },
            "type": "mesh3d"
           }
          ],
          "parcoords": [
           {
            "line": {
             "colorbar": {
              "outlinewidth": 0,
              "ticks": ""
             }
            },
            "type": "parcoords"
           }
          ],
          "pie": [
           {
            "automargin": true,
            "type": "pie"
           }
          ],
          "scatter": [
           {
            "fillpattern": {
             "fillmode": "overlay",
             "size": 10,
             "solidity": 0.2
            },
            "type": "scatter"
           }
          ],
          "scatter3d": [
           {
            "line": {
             "colorbar": {
              "outlinewidth": 0,
              "ticks": ""
             }
            },
            "marker": {
             "colorbar": {
              "outlinewidth": 0,
              "ticks": ""
             }
            },
            "type": "scatter3d"
           }
          ],
          "scattercarpet": [
           {
            "marker": {
             "colorbar": {
              "outlinewidth": 0,
              "ticks": ""
             }
            },
            "type": "scattercarpet"
           }
          ],
          "scattergeo": [
           {
            "marker": {
             "colorbar": {
              "outlinewidth": 0,
              "ticks": ""
             }
            },
            "type": "scattergeo"
           }
          ],
          "scattergl": [
           {
            "marker": {
             "colorbar": {
              "outlinewidth": 0,
              "ticks": ""
             }
            },
            "type": "scattergl"
           }
          ],
          "scattermapbox": [
           {
            "marker": {
             "colorbar": {
              "outlinewidth": 0,
              "ticks": ""
             }
            },
            "type": "scattermapbox"
           }
          ],
          "scatterpolar": [
           {
            "marker": {
             "colorbar": {
              "outlinewidth": 0,
              "ticks": ""
             }
            },
            "type": "scatterpolar"
           }
          ],
          "scatterpolargl": [
           {
            "marker": {
             "colorbar": {
              "outlinewidth": 0,
              "ticks": ""
             }
            },
            "type": "scatterpolargl"
           }
          ],
          "scatterternary": [
           {
            "marker": {
             "colorbar": {
              "outlinewidth": 0,
              "ticks": ""
             }
            },
            "type": "scatterternary"
           }
          ],
          "surface": [
           {
            "colorbar": {
             "outlinewidth": 0,
             "ticks": ""
            },
            "colorscale": [
             [
              0,
              "#0d0887"
             ],
             [
              0.1111111111111111,
              "#46039f"
             ],
             [
              0.2222222222222222,
              "#7201a8"
             ],
             [
              0.3333333333333333,
              "#9c179e"
             ],
             [
              0.4444444444444444,
              "#bd3786"
             ],
             [
              0.5555555555555556,
              "#d8576b"
             ],
             [
              0.6666666666666666,
              "#ed7953"
             ],
             [
              0.7777777777777778,
              "#fb9f3a"
             ],
             [
              0.8888888888888888,
              "#fdca26"
             ],
             [
              1,
              "#f0f921"
             ]
            ],
            "type": "surface"
           }
          ],
          "table": [
           {
            "cells": {
             "fill": {
              "color": "#EBF0F8"
             },
             "line": {
              "color": "white"
             }
            },
            "header": {
             "fill": {
              "color": "#C8D4E3"
             },
             "line": {
              "color": "white"
             }
            },
            "type": "table"
           }
          ]
         },
         "layout": {
          "annotationdefaults": {
           "arrowcolor": "#2a3f5f",
           "arrowhead": 0,
           "arrowwidth": 1
          },
          "autotypenumbers": "strict",
          "coloraxis": {
           "colorbar": {
            "outlinewidth": 0,
            "ticks": ""
           }
          },
          "colorscale": {
           "diverging": [
            [
             0,
             "#8e0152"
            ],
            [
             0.1,
             "#c51b7d"
            ],
            [
             0.2,
             "#de77ae"
            ],
            [
             0.3,
             "#f1b6da"
            ],
            [
             0.4,
             "#fde0ef"
            ],
            [
             0.5,
             "#f7f7f7"
            ],
            [
             0.6,
             "#e6f5d0"
            ],
            [
             0.7,
             "#b8e186"
            ],
            [
             0.8,
             "#7fbc41"
            ],
            [
             0.9,
             "#4d9221"
            ],
            [
             1,
             "#276419"
            ]
           ],
           "sequential": [
            [
             0,
             "#0d0887"
            ],
            [
             0.1111111111111111,
             "#46039f"
            ],
            [
             0.2222222222222222,
             "#7201a8"
            ],
            [
             0.3333333333333333,
             "#9c179e"
            ],
            [
             0.4444444444444444,
             "#bd3786"
            ],
            [
             0.5555555555555556,
             "#d8576b"
            ],
            [
             0.6666666666666666,
             "#ed7953"
            ],
            [
             0.7777777777777778,
             "#fb9f3a"
            ],
            [
             0.8888888888888888,
             "#fdca26"
            ],
            [
             1,
             "#f0f921"
            ]
           ],
           "sequentialminus": [
            [
             0,
             "#0d0887"
            ],
            [
             0.1111111111111111,
             "#46039f"
            ],
            [
             0.2222222222222222,
             "#7201a8"
            ],
            [
             0.3333333333333333,
             "#9c179e"
            ],
            [
             0.4444444444444444,
             "#bd3786"
            ],
            [
             0.5555555555555556,
             "#d8576b"
            ],
            [
             0.6666666666666666,
             "#ed7953"
            ],
            [
             0.7777777777777778,
             "#fb9f3a"
            ],
            [
             0.8888888888888888,
             "#fdca26"
            ],
            [
             1,
             "#f0f921"
            ]
           ]
          },
          "colorway": [
           "#636efa",
           "#EF553B",
           "#00cc96",
           "#ab63fa",
           "#FFA15A",
           "#19d3f3",
           "#FF6692",
           "#B6E880",
           "#FF97FF",
           "#FECB52"
          ],
          "font": {
           "color": "#2a3f5f"
          },
          "geo": {
           "bgcolor": "white",
           "lakecolor": "white",
           "landcolor": "#E5ECF6",
           "showlakes": true,
           "showland": true,
           "subunitcolor": "white"
          },
          "hoverlabel": {
           "align": "left"
          },
          "hovermode": "closest",
          "mapbox": {
           "style": "light"
          },
          "paper_bgcolor": "white",
          "plot_bgcolor": "#E5ECF6",
          "polar": {
           "angularaxis": {
            "gridcolor": "white",
            "linecolor": "white",
            "ticks": ""
           },
           "bgcolor": "#E5ECF6",
           "radialaxis": {
            "gridcolor": "white",
            "linecolor": "white",
            "ticks": ""
           }
          },
          "scene": {
           "xaxis": {
            "backgroundcolor": "#E5ECF6",
            "gridcolor": "white",
            "gridwidth": 2,
            "linecolor": "white",
            "showbackground": true,
            "ticks": "",
            "zerolinecolor": "white"
           },
           "yaxis": {
            "backgroundcolor": "#E5ECF6",
            "gridcolor": "white",
            "gridwidth": 2,
            "linecolor": "white",
            "showbackground": true,
            "ticks": "",
            "zerolinecolor": "white"
           },
           "zaxis": {
            "backgroundcolor": "#E5ECF6",
            "gridcolor": "white",
            "gridwidth": 2,
            "linecolor": "white",
            "showbackground": true,
            "ticks": "",
            "zerolinecolor": "white"
           }
          },
          "shapedefaults": {
           "line": {
            "color": "#2a3f5f"
           }
          },
          "ternary": {
           "aaxis": {
            "gridcolor": "white",
            "linecolor": "white",
            "ticks": ""
           },
           "baxis": {
            "gridcolor": "white",
            "linecolor": "white",
            "ticks": ""
           },
           "bgcolor": "#E5ECF6",
           "caxis": {
            "gridcolor": "white",
            "linecolor": "white",
            "ticks": ""
           }
          },
          "title": {
           "x": 0.05
          },
          "xaxis": {
           "automargin": true,
           "gridcolor": "white",
           "linecolor": "white",
           "ticks": "",
           "title": {
            "standoff": 15
           },
           "zerolinecolor": "white",
           "zerolinewidth": 2
          },
          "yaxis": {
           "automargin": true,
           "gridcolor": "white",
           "linecolor": "white",
           "ticks": "",
           "title": {
            "standoff": 15
           },
           "zerolinecolor": "white",
           "zerolinewidth": 2
          }
         }
        },
        "xaxis": {
         "anchor": "y",
         "constrain": "domain",
         "domain": [
          0,
          0.08200000000000002
         ],
         "scaleanchor": "y"
        },
        "xaxis10": {
         "anchor": "y10",
         "domain": [
          0.9180000000000001,
          1
         ],
         "matches": "x"
        },
        "xaxis2": {
         "anchor": "y2",
         "domain": [
          0.10200000000000002,
          0.18400000000000005
         ],
         "matches": "x"
        },
        "xaxis3": {
         "anchor": "y3",
         "domain": [
          0.20400000000000004,
          0.28600000000000003
         ],
         "matches": "x"
        },
        "xaxis4": {
         "anchor": "y4",
         "domain": [
          0.30600000000000005,
          0.38800000000000007
         ],
         "matches": "x"
        },
        "xaxis5": {
         "anchor": "y5",
         "domain": [
          0.4080000000000001,
          0.4900000000000001
         ],
         "matches": "x"
        },
        "xaxis6": {
         "anchor": "y6",
         "domain": [
          0.5100000000000001,
          0.5920000000000001
         ],
         "matches": "x"
        },
        "xaxis7": {
         "anchor": "y7",
         "domain": [
          0.6120000000000001,
          0.6940000000000002
         ],
         "matches": "x"
        },
        "xaxis8": {
         "anchor": "y8",
         "domain": [
          0.7140000000000001,
          0.796
         ],
         "matches": "x"
        },
        "xaxis9": {
         "anchor": "y9",
         "domain": [
          0.8160000000000002,
          0.8980000000000001
         ],
         "matches": "x"
        },
        "yaxis": {
         "anchor": "x",
         "autorange": "reversed",
         "constrain": "domain",
         "domain": [
          0,
          1
         ]
        },
        "yaxis10": {
         "anchor": "x10",
         "domain": [
          0,
          1
         ],
         "matches": "y",
         "showticklabels": false
        },
        "yaxis2": {
         "anchor": "x2",
         "domain": [
          0,
          1
         ],
         "matches": "y",
         "showticklabels": false
        },
        "yaxis3": {
         "anchor": "x3",
         "domain": [
          0,
          1
         ],
         "matches": "y",
         "showticklabels": false
        },
        "yaxis4": {
         "anchor": "x4",
         "domain": [
          0,
          1
         ],
         "matches": "y",
         "showticklabels": false
        },
        "yaxis5": {
         "anchor": "x5",
         "domain": [
          0,
          1
         ],
         "matches": "y",
         "showticklabels": false
        },
        "yaxis6": {
         "anchor": "x6",
         "domain": [
          0,
          1
         ],
         "matches": "y",
         "showticklabels": false
        },
        "yaxis7": {
         "anchor": "x7",
         "domain": [
          0,
          1
         ],
         "matches": "y",
         "showticklabels": false
        },
        "yaxis8": {
         "anchor": "x8",
         "domain": [
          0,
          1
         ],
         "matches": "y",
         "showticklabels": false
        },
        "yaxis9": {
         "anchor": "x9",
         "domain": [
          0,
          1
         ],
         "matches": "y",
         "showticklabels": false
        }
       }
      },
      "image/png": "[encoded data removed]"
     },
     "metadata": {},
     "output_type": "display_data"
    }
   ],
   "source": [
    "imgs = x_train[:1000]\n",
    "convs =  reduce(lambda x, l: l.forward(x), nn[:4], imgs) #nn[1].forward(nn[0].forward(img))\n",
    "convs.shape\n",
    "px.imshow(convs[TARGET_IMG], facet_col=2, facet_col_wrap=10)"
   ]
  },
  {
   "cell_type": "code",
   "execution_count": 17,
   "metadata": {},
   "outputs": [
    {
     "data": {
      "text/plain": [
       "array([15048.33560038, 14666.10817639, 29416.26412636, 20955.22428276,\n",
       "       19559.16124418, 13819.26604813,  8322.62953316, 20057.92254003,\n",
       "        8735.62854146, 28443.67596118])"
      ]
     },
     "execution_count": 17,
     "metadata": {},
     "output_type": "execute_result"
    }
   ],
   "source": [
    "convs.sum(axis=(0, 1, 2))"
   ]
  },
  {
   "cell_type": "code",
   "execution_count": 18,
   "metadata": {},
   "outputs": [
    {
     "data": {
      "text/plain": [
       "array([-1.68286973e+02, -1.96650461e+02, -2.06744722e+02, -3.54501401e+01,\n",
       "       -2.15018025e+02, -8.61722670e+01, -4.61239120e+01, -1.51640548e+02,\n",
       "       -3.44775217e+01, -9.96202505e+01, -4.28206598e+02, -1.13372032e+02,\n",
       "       -4.22994703e+01, -2.25407365e+02,  1.88653629e+02, -8.93955748e+01,\n",
       "        5.95113422e+02, -2.74071048e+02, -2.73151997e+02,  1.06261848e+03,\n",
       "       -3.03181540e+02,  4.72682274e+02, -1.23636758e+02, -2.64143650e+02,\n",
       "       -2.74153809e+01, -2.85795753e+02, -7.84506447e+01, -4.55319610e+01,\n",
       "        1.66153501e+03, -1.28374320e+02, -3.98886030e+01, -9.52546860e+01,\n",
       "       -1.19186705e+02, -3.70614725e+02, -2.33280781e+02, -3.00743118e+02,\n",
       "       -3.25388300e+01, -5.64229280e+01, -2.49335290e+02, -3.87628907e+01,\n",
       "       -2.61578474e+02, -7.26005753e+01, -2.20334458e+02, -3.31473107e+02,\n",
       "       -8.95064550e+01, -2.81735367e+01, -2.23058362e+02, -1.40285224e+02,\n",
       "        5.93020873e+02, -8.75559540e+01, -1.14099612e+02, -2.77228066e+02,\n",
       "       -3.43608020e+01, -2.74798750e+01, -2.36041468e+02, -3.33993782e+02,\n",
       "       -3.08063288e+02, -1.43660169e+02, -8.67029090e+01, -1.10625899e+02,\n",
       "        4.12248733e+02, -3.12086695e+01,  4.12988949e+02, -3.55373133e+02,\n",
       "       -1.65607696e+02, -9.92524855e+01, -4.77932119e+01, -3.15770757e+01,\n",
       "       -8.63737960e+01, -1.23953841e+02, -5.64873265e+01, -8.78926905e+01,\n",
       "       -5.04258623e+01,  3.24609951e+01,  3.31059175e+01, -2.16056172e+02,\n",
       "        1.46073310e+03,  7.84153421e+03, -1.55628555e+02, -1.84915436e+02,\n",
       "       -1.49546018e+02, -1.31000733e+02, -9.28867498e+01, -6.81932331e+01,\n",
       "       -1.32818022e+02, -2.03121467e+02, -8.21412148e+01, -2.76911535e+02,\n",
       "       -1.00742169e+02, -4.31541277e+01, -5.98932697e+01, -1.16517113e+02,\n",
       "        2.15800684e+03, -5.38905333e+01, -7.89880536e+01, -9.68706284e+01,\n",
       "       -1.41141413e+02,  1.46383961e+02, -7.37096243e+01, -2.39156287e+02,\n",
       "       -1.24838378e+02, -1.15108259e+02, -1.26871978e+01, -3.15511709e+02,\n",
       "       -3.95904399e+01, -7.59437754e+01, -2.08270595e+02, -1.66374626e+02,\n",
       "       -6.99827830e+01, -8.63100280e+01, -2.14189234e+02, -3.29800381e+01,\n",
       "       -7.43487299e+01, -5.64601642e+01, -2.70959016e+02, -3.52280807e+01,\n",
       "       -7.24181266e+01, -2.37956807e+02, -2.14392435e+02, -3.06442826e+02,\n",
       "        2.61997626e+02, -1.76677975e+02, -3.00773015e+01, -2.23291773e+02,\n",
       "        5.91871462e+02, -8.15097134e+01, -1.80960418e+02, -6.76193872e+01,\n",
       "        3.33945657e+01,  8.08891843e+02,  1.10207214e+00, -4.04495994e+01,\n",
       "       -1.13198890e+02, -1.01823270e+02, -1.26704126e+02, -5.62771287e+01,\n",
       "       -1.73457917e+02, -1.86656141e+02,  8.10490657e+02, -8.86005525e+01,\n",
       "       -3.21167989e+01, -1.50053406e+02, -7.10830213e+01, -2.10426053e+02,\n",
       "       -2.72068497e+02, -1.69381752e+02, -3.68648124e+01, -2.17506290e+02,\n",
       "       -6.92091369e+01, -3.09876922e+02, -7.84975198e+01, -7.50722124e+01,\n",
       "       -3.28014380e+01, -3.30777871e+01, -6.03559577e+01, -6.03669033e+01,\n",
       "       -2.12215568e+02, -4.11038294e+01,  3.81086136e+02, -3.29568689e+01,\n",
       "       -2.76944495e+02, -3.72338555e+01, -2.95666680e+02, -3.13245140e+02,\n",
       "       -1.77434804e+02, -3.66203240e+01, -1.91334841e+02, -3.36394453e+02,\n",
       "       -2.95024620e+02, -2.82658029e+02, -1.70454697e+02, -3.74201776e+01,\n",
       "        5.27783283e+02, -6.61957722e+01, -3.12842824e+01, -9.53097722e+01,\n",
       "        1.94817033e+03, -1.35369270e+02, -3.50877210e+01, -7.20798335e+01,\n",
       "       -3.98055567e+01, -1.80088014e+02, -2.65031108e+02, -1.09320124e+02,\n",
       "       -3.14929625e+01,  6.94330817e+01, -6.89278235e+01, -2.83803838e+02,\n",
       "       -5.66052818e+01, -3.04706798e+01, -5.79501000e+01, -1.47866130e+02,\n",
       "       -1.00256455e+02, -7.26121288e+01, -3.70932783e+01, -7.90624571e+01,\n",
       "       -4.61109746e+01, -2.03994520e+02, -4.69740404e+01, -2.05081038e+02,\n",
       "       -3.74793989e+01, -8.18411667e+01, -6.19652010e+01, -5.91837093e+01,\n",
       "       -2.25949067e+02,  5.31064999e+02,  7.91672194e+01, -9.27088595e+01,\n",
       "        5.04459452e+02, -1.03792977e+02, -6.11092466e+01,  1.58622562e+03,\n",
       "       -3.45928271e+01, -2.41793749e+02,  7.14919710e+01, -2.68987962e+02,\n",
       "       -3.32997948e+02, -2.75910541e+02, -3.30440628e+01, -3.10437566e+02,\n",
       "       -2.48286734e+02, -1.35094225e+02, -9.58163944e+01, -3.16110728e+02,\n",
       "        2.81534864e+01, -5.80452273e+01, -8.06796376e+01, -1.21579516e+02,\n",
       "       -2.75304054e+01, -5.57493419e+01,  4.55372597e+02, -2.00672463e+02,\n",
       "       -4.04239093e+01, -9.28645554e+01, -1.83762005e+02, -5.01606908e+01,\n",
       "       -5.00574438e+02, -4.78530944e+01, -8.54128855e+01, -3.13098281e+02,\n",
       "       -5.74616997e+01, -7.04462367e+01, -3.66491995e+01, -1.79188184e+02,\n",
       "       -4.58410067e+02, -1.00132445e+02, -1.53722268e+00, -3.26828285e+02,\n",
       "        4.24870865e+03, -8.79983282e+01, -9.64570636e+01, -2.83672831e+02,\n",
       "       -6.71192742e+01, -1.57537016e+02, -2.34740748e+02, -2.11117855e+02,\n",
       "       -3.53249123e+02, -3.75340279e+01, -3.40824118e+02, -2.96386042e+02,\n",
       "       -3.64177659e+01, -1.07471710e+02, -6.15571685e+01, -1.29243324e+02,\n",
       "       -2.68327944e+02, -2.05923151e+02, -1.51718719e+02, -2.11215566e+02,\n",
       "       -2.71366111e+02, -2.70193569e+02,  2.26209031e+03, -6.70867518e+01,\n",
       "       -2.94659158e+01, -1.67620365e+02, -1.10594733e+02, -5.76041429e+01,\n",
       "       -4.82296295e+01,  1.67234591e+03, -7.00387343e+01, -1.46825678e+02,\n",
       "       -2.54132436e+01, -6.09734564e+01, -2.52267770e+02, -6.14289595e+01,\n",
       "       -2.51587329e+01, -1.64920699e+02, -1.07578001e+02, -3.27176655e+01,\n",
       "        4.33217514e-01, -1.45188410e+02, -6.49345138e+01, -3.73281928e+02,\n",
       "        3.74018080e+03, -9.39631706e+01, -9.80253560e+01, -2.16402968e+02,\n",
       "       -5.56083444e+01, -8.26359279e+01, -4.46385109e+01, -1.44473955e+02])"
      ]
     },
     "execution_count": 18,
     "metadata": {},
     "output_type": "execute_result"
    }
   ],
   "source": [
    "activations = reduce(lambda x, l: l.forward(x), nn[:7], imgs) #nn[1].forward(nn[0].forward(img))\n",
    "activations.sum(axis=(0))"
   ]
  },
  {
   "cell_type": "code",
   "execution_count": 19,
   "metadata": {},
   "outputs": [
    {
     "data": {
      "text/plain": [
       "(1, 13, 13, 10)"
      ]
     },
     "execution_count": 19,
     "metadata": {},
     "output_type": "execute_result"
    }
   ],
   "source": [
    "convs[[250]].shape"
   ]
  },
  {
   "cell_type": "code",
   "execution_count": 20,
   "metadata": {},
   "outputs": [
    {
     "data": {
      "application/vnd.plotly.v1+json": {
       "config": {
        "plotlyServerURL": "https://plot.ly"
       },
       "data": [
        {
         "hovertemplate": "x: %{x}<br>y: %{y}<extra></extra>",
         "name": "0",
         "source": "data:image/png;base64,iVBORw0KGgoAAAANSUhEUgAAAAcAAAAHCAIAAABLMMCEAAAAo0lEQVR4XmPIaKxPqWmPTCp1NHNyMrZOSklNK8piSCzMKmifVN69sqy6z8vRMTrMPyM3niHI3yY+vyitbHJu+cTw8LCgQOfgEFuGpDCzhJy0tMoJ2V3rUyra4tNTwiLcGJL81eMjXbJLGiqXnilbuy2/bWpUQhBDdrR5pId2kKtNdlVL2dQZxe1daSkRDLWZnlmBBiGmqjn+/tVJ2Vk+obFWJgCoYzoRjQVphgAAAABJRU5ErkJggg==",
         "type": "image",
         "xaxis": "x",
         "yaxis": "y"
        },
        {
         "hovertemplate": "x: %{x}<br>y: %{y}<extra></extra>",
         "name": "1",
         "source": "data:image/png;base64,iVBORw0KGgoAAAANSUhEUgAAAAcAAAAHCAIAAABLMMCEAAAApUlEQVR4XgGaAGX/AFtfeFZxpkdgmFlllWNhhUM+U1BEPABbepZUgblUfrxNY5lQXI1GUH9aWGgAW3l+X4OjS2KLNDtkSkl1Y2qgbW2DAGp1cX+JlUY/WSMYNE9CXWtujn+GkwCKfW6Je31GL0MwGjFIOVBfX3SIjpUAjXBgdV1lTD5XRTpXV1NuZ2Z4lpORAG5PRlVFUVVWeGxtk3J0jWxkcIN1bdZbOwBI6ZcCAAAAAElFTkSuQmCC",
         "type": "image",
         "xaxis": "x2",
         "yaxis": "y2"
        },
        {
         "hovertemplate": "x: %{x}<br>y: %{y}<extra></extra>",
         "name": "2",
         "source": "data:image/png;base64,iVBORw0KGgoAAAANSUhEUgAAAAcAAAAHCAIAAABLMMCEAAAAo0lEQVR4XmNI8I4pisyqj83qSs5ujMksCM3ODMpjCPaMTAxJLYvOrw7LKglMi/WIiXSLYgiLSi0sqOwqbWnLbmnOaqhJyc2NiGTondmfkZOurmpqJKPvom2bGRw5qaWUoXd6s6Ovg5ylgYWrvaWTg3eQZ09nMUOgT0BgjH/NvOamJROrZ/R6xMY7uboyePkkxuZlp3RWuuemhpYUh+WURCQkAwATdjhp3CcE5QAAAABJRU5ErkJggg==",
         "type": "image",
         "xaxis": "x3",
         "yaxis": "y3"
        },
        {
         "hovertemplate": "x: %{x}<br>y: %{y}<extra></extra>",
         "name": "3",
         "source": "data:image/png;base64,iVBORw0KGgoAAAANSUhEUgAAAAcAAAAHCAIAAABLMMCEAAAAoklEQVR4XmNoSk2sz0hpy09qyIxqyY1tSIvozg5nSIsMS4qJTUyIjYyOSEhJiomKyowJZ4hJTgxKTnNLSLFMyrBLL7JKL4jOyWNwzi/wKK93qmyzre+zr5piXdblUVrDYJWVZ1PVrFvVaVg7Wb94ql5Ru3N+BYNzSopTcbVVVZthdb9OfodRRoV3Wg6DX3yif3aJS0a5aWqVcUKFbVR2ZEImAFgIOOzzVhKsAAAAAElFTkSuQmCC",
         "type": "image",
         "xaxis": "x4",
         "yaxis": "y4"
        },
        {
         "hovertemplate": "x: %{x}<br>y: %{y}<extra></extra>",
         "name": "4",
         "source": "data:image/png;base64,iVBORw0KGgoAAAANSUhEUgAAAAcAAAAHCAIAAABLMMCEAAAAoklEQVR4XmOYkBrvpmOdF5xQnZadn5iQnZOSkBnP0JBTJsGnnh6Z2dfYWVJcEp4W45cSydBb18fMIJ8ZnT2ppauuqjIqJdI/OYShvqqLl101LzFnQl1raXZOdGxgaEowQ0Fhk6qyTXJMVkNlS056dmp6bHhKOENUZKGLY3hKYn5SUl5sdGJaSmx8chhDTlZVakJeZnpJVGxWakZ2aWludmYUAMxlOF18m6T9AAAAAElFTkSuQmCC",
         "type": "image",
         "xaxis": "x5",
         "yaxis": "y5"
        },
        {
         "hovertemplate": "x: %{x}<br>y: %{y}<extra></extra>",
         "name": "5",
         "source": "data:image/png;base64,iVBORw0KGgoAAAANSUhEUgAAAAcAAAAHCAIAAABLMMCEAAAAo0lEQVR4XmNISUhLTYmqLo1PSgmNSItKyEtKLylksA8t9y2vzeysj62uCqutDaso88suYFCxKLSJqnJKr7QuqFWLLVQPSdYNTWaQNk+Wtg2TcfBVdA7V9YyzC00OTs5laIqvWtXVtrijYlJlaWN+aVl2YXVmDsNkl8Q18Ukb0+OWZ6a2hcf2J6VPSUln6LaO6HYKaPX0rvQNyvcMrQyNL/KKAADoYzkioDw5zwAAAABJRU5ErkJggg==",
         "type": "image",
         "xaxis": "x6",
         "yaxis": "y6"
        },
        {
         "hovertemplate": "x: %{x}<br>y: %{y}<extra></extra>",
         "name": "6",
         "source": "data:image/png;base64,iVBORw0KGgoAAAANSUhEUgAAAAcAAAAHCAIAAABLMMCEAAAAoklEQVR4XmOI8UzNjalI8MnMiCguzWyqr54UFdfIUJLT2do4syy7OS2yNDGmoqZhdlnrcobI2Lq88klJiQ2pyfUJWS3FbQuCMloYgoEaq/pLCruaO2YVN/QllDa7xaYxRCWV1jZ2VxXW5mWWhITGuweG2Hq6M0TklpR1dyXnFCTlF8bnZmWUZwfHBTM4BkY4h8dp2bvbhoZ6xoR4hnpbONkCAEoLPLwpYse1AAAAAElFTkSuQmCC",
         "type": "image",
         "xaxis": "x7",
         "yaxis": "y7"
        },
        {
         "hovertemplate": "x: %{x}<br>y: %{y}<extra></extra>",
         "name": "7",
         "source": "data:image/png;base64,iVBORw0KGgoAAAANSUhEUgAAAAcAAAAHCAIAAABLMMCEAAAApUlEQVR4XgGaAGX/AFR8ZmB6X32HcGFiU0BCO2dyaFNoXABpgGVodV9eWUw6LyxFSESGloZleGYAZXdVUVtELS4hRDk2oqSImLKZXGxfAElVOD9DMkpGOaeVhKzKqVNcbUhQVwBSXUBgY1Sci4S0wKtiX3ozLUhVTl8AY3NVfYZ5ipCYa2WIRz1ZSTxRXlNnAFdnRGh3aVthak5LZFpRal9RaGhkfCBKOV/+6l9sAAAAAElFTkSuQmCC",
         "type": "image",
         "xaxis": "x8",
         "yaxis": "y8"
        },
        {
         "hovertemplate": "x: %{x}<br>y: %{y}<extra></extra>",
         "name": "8",
         "source": "data:image/png;base64,iVBORw0KGgoAAAANSUhEUgAAAAcAAAAHCAIAAABLMMCEAAAAn0lEQVR4XgXB2w6CIAAAUH6s23rrom5ZUopLk0ARKTRn+oDVZrVZaz712p92DujNtbFuaCsdYlfdVSbTXHDgMlvWrGx40cj2e3u+VPu5AD+2aII8Hzprg1EnxCiVFEgGWWBOhn19NCgYynybORZIAiMWGxPOlotpme9Puy2HEHzeSffL44qEx+Cs4jzCwkHgSmn3yKpaRjwgoScicsDkD/viPIElJ1DLAAAAAElFTkSuQmCC",
         "type": "image",
         "xaxis": "x9",
         "yaxis": "y9"
        },
        {
         "hovertemplate": "x: %{x}<br>y: %{y}<extra></extra>",
         "name": "9",
         "source": "data:image/png;base64,iVBORw0KGgoAAAANSUhEUgAAAAcAAAAHCAIAAABLMMCEAAAAo0lEQVR4XmOoLqtSVVVu3NtgF+IaGBRaUlae5J/JUN7SqOdqPPN/l56Hjq2rbVVtaWZIJkNCTrmuk9W0h13eSQ7xGcFNHVVJ4VkMaSnFhha2hbPKc5syG1qriorK43zTGAqS01w83bwzQ71iwx09gwwNbeN9YxgqclPTchLyOkt9E9OcAhKzy8om9FYwFMYFpCcH5pQnh8TGRCXFtTTnZfk7AgAeuzji/plkwgAAAABJRU5ErkJggg==",
         "type": "image",
         "xaxis": "x10",
         "yaxis": "y10"
        }
       ],
       "layout": {
        "annotations": [
         {
          "font": {},
          "showarrow": false,
          "text": "facet_col=0",
          "x": 0.04100000000000001,
          "xanchor": "center",
          "xref": "paper",
          "y": 1,
          "yanchor": "bottom",
          "yref": "paper"
         },
         {
          "font": {},
          "showarrow": false,
          "text": "facet_col=1",
          "x": 0.14300000000000004,
          "xanchor": "center",
          "xref": "paper",
          "y": 1,
          "yanchor": "bottom",
          "yref": "paper"
         },
         {
          "font": {},
          "showarrow": false,
          "text": "facet_col=2",
          "x": 0.24500000000000005,
          "xanchor": "center",
          "xref": "paper",
          "y": 1,
          "yanchor": "bottom",
          "yref": "paper"
         },
         {
          "font": {},
          "showarrow": false,
          "text": "facet_col=3",
          "x": 0.3470000000000001,
          "xanchor": "center",
          "xref": "paper",
          "y": 1,
          "yanchor": "bottom",
          "yref": "paper"
         },
         {
          "font": {},
          "showarrow": false,
          "text": "facet_col=4",
          "x": 0.44900000000000007,
          "xanchor": "center",
          "xref": "paper",
          "y": 1,
          "yanchor": "bottom",
          "yref": "paper"
         },
         {
          "font": {},
          "showarrow": false,
          "text": "facet_col=5",
          "x": 0.5510000000000002,
          "xanchor": "center",
          "xref": "paper",
          "y": 1,
          "yanchor": "bottom",
          "yref": "paper"
         },
         {
          "font": {},
          "showarrow": false,
          "text": "facet_col=6",
          "x": 0.6530000000000001,
          "xanchor": "center",
          "xref": "paper",
          "y": 1,
          "yanchor": "bottom",
          "yref": "paper"
         },
         {
          "font": {},
          "showarrow": false,
          "text": "facet_col=7",
          "x": 0.7550000000000001,
          "xanchor": "center",
          "xref": "paper",
          "y": 1,
          "yanchor": "bottom",
          "yref": "paper"
         },
         {
          "font": {},
          "showarrow": false,
          "text": "facet_col=8",
          "x": 0.8570000000000002,
          "xanchor": "center",
          "xref": "paper",
          "y": 1,
          "yanchor": "bottom",
          "yref": "paper"
         },
         {
          "font": {},
          "showarrow": false,
          "text": "facet_col=9",
          "x": 0.9590000000000002,
          "xanchor": "center",
          "xref": "paper",
          "y": 1,
          "yanchor": "bottom",
          "yref": "paper"
         }
        ],
        "margin": {
         "t": 60
        },
        "template": {
         "data": {
          "bar": [
           {
            "error_x": {
             "color": "#2a3f5f"
            },
            "error_y": {
             "color": "#2a3f5f"
            },
            "marker": {
             "line": {
              "color": "#E5ECF6",
              "width": 0.5
             },
             "pattern": {
              "fillmode": "overlay",
              "size": 10,
              "solidity": 0.2
             }
            },
            "type": "bar"
           }
          ],
          "barpolar": [
           {
            "marker": {
             "line": {
              "color": "#E5ECF6",
              "width": 0.5
             },
             "pattern": {
              "fillmode": "overlay",
              "size": 10,
              "solidity": 0.2
             }
            },
            "type": "barpolar"
           }
          ],
          "carpet": [
           {
            "aaxis": {
             "endlinecolor": "#2a3f5f",
             "gridcolor": "white",
             "linecolor": "white",
             "minorgridcolor": "white",
             "startlinecolor": "#2a3f5f"
            },
            "baxis": {
             "endlinecolor": "#2a3f5f",
             "gridcolor": "white",
             "linecolor": "white",
             "minorgridcolor": "white",
             "startlinecolor": "#2a3f5f"
            },
            "type": "carpet"
           }
          ],
          "choropleth": [
           {
            "colorbar": {
             "outlinewidth": 0,
             "ticks": ""
            },
            "type": "choropleth"
           }
          ],
          "contour": [
           {
            "colorbar": {
             "outlinewidth": 0,
             "ticks": ""
            },
            "colorscale": [
             [
              0,
              "#0d0887"
             ],
             [
              0.1111111111111111,
              "#46039f"
             ],
             [
              0.2222222222222222,
              "#7201a8"
             ],
             [
              0.3333333333333333,
              "#9c179e"
             ],
             [
              0.4444444444444444,
              "#bd3786"
             ],
             [
              0.5555555555555556,
              "#d8576b"
             ],
             [
              0.6666666666666666,
              "#ed7953"
             ],
             [
              0.7777777777777778,
              "#fb9f3a"
             ],
             [
              0.8888888888888888,
              "#fdca26"
             ],
             [
              1,
              "#f0f921"
             ]
            ],
            "type": "contour"
           }
          ],
          "contourcarpet": [
           {
            "colorbar": {
             "outlinewidth": 0,
             "ticks": ""
            },
            "type": "contourcarpet"
           }
          ],
          "heatmap": [
           {
            "colorbar": {
             "outlinewidth": 0,
             "ticks": ""
            },
            "colorscale": [
             [
              0,
              "#0d0887"
             ],
             [
              0.1111111111111111,
              "#46039f"
             ],
             [
              0.2222222222222222,
              "#7201a8"
             ],
             [
              0.3333333333333333,
              "#9c179e"
             ],
             [
              0.4444444444444444,
              "#bd3786"
             ],
             [
              0.5555555555555556,
              "#d8576b"
             ],
             [
              0.6666666666666666,
              "#ed7953"
             ],
             [
              0.7777777777777778,
              "#fb9f3a"
             ],
             [
              0.8888888888888888,
              "#fdca26"
             ],
             [
              1,
              "#f0f921"
             ]
            ],
            "type": "heatmap"
           }
          ],
          "heatmapgl": [
           {
            "colorbar": {
             "outlinewidth": 0,
             "ticks": ""
            },
            "colorscale": [
             [
              0,
              "#0d0887"
             ],
             [
              0.1111111111111111,
              "#46039f"
             ],
             [
              0.2222222222222222,
              "#7201a8"
             ],
             [
              0.3333333333333333,
              "#9c179e"
             ],
             [
              0.4444444444444444,
              "#bd3786"
             ],
             [
              0.5555555555555556,
              "#d8576b"
             ],
             [
              0.6666666666666666,
              "#ed7953"
             ],
             [
              0.7777777777777778,
              "#fb9f3a"
             ],
             [
              0.8888888888888888,
              "#fdca26"
             ],
             [
              1,
              "#f0f921"
             ]
            ],
            "type": "heatmapgl"
           }
          ],
          "histogram": [
           {
            "marker": {
             "pattern": {
              "fillmode": "overlay",
              "size": 10,
              "solidity": 0.2
             }
            },
            "type": "histogram"
           }
          ],
          "histogram2d": [
           {
            "colorbar": {
             "outlinewidth": 0,
             "ticks": ""
            },
            "colorscale": [
             [
              0,
              "#0d0887"
             ],
             [
              0.1111111111111111,
              "#46039f"
             ],
             [
              0.2222222222222222,
              "#7201a8"
             ],
             [
              0.3333333333333333,
              "#9c179e"
             ],
             [
              0.4444444444444444,
              "#bd3786"
             ],
             [
              0.5555555555555556,
              "#d8576b"
             ],
             [
              0.6666666666666666,
              "#ed7953"
             ],
             [
              0.7777777777777778,
              "#fb9f3a"
             ],
             [
              0.8888888888888888,
              "#fdca26"
             ],
             [
              1,
              "#f0f921"
             ]
            ],
            "type": "histogram2d"
           }
          ],
          "histogram2dcontour": [
           {
            "colorbar": {
             "outlinewidth": 0,
             "ticks": ""
            },
            "colorscale": [
             [
              0,
              "#0d0887"
             ],
             [
              0.1111111111111111,
              "#46039f"
             ],
             [
              0.2222222222222222,
              "#7201a8"
             ],
             [
              0.3333333333333333,
              "#9c179e"
             ],
             [
              0.4444444444444444,
              "#bd3786"
             ],
             [
              0.5555555555555556,
              "#d8576b"
             ],
             [
              0.6666666666666666,
              "#ed7953"
             ],
             [
              0.7777777777777778,
              "#fb9f3a"
             ],
             [
              0.8888888888888888,
              "#fdca26"
             ],
             [
              1,
              "#f0f921"
             ]
            ],
            "type": "histogram2dcontour"
           }
          ],
          "mesh3d": [
           {
            "colorbar": {
             "outlinewidth": 0,
             "ticks": ""
            },
            "type": "mesh3d"
           }
          ],
          "parcoords": [
           {
            "line": {
             "colorbar": {
              "outlinewidth": 0,
              "ticks": ""
             }
            },
            "type": "parcoords"
           }
          ],
          "pie": [
           {
            "automargin": true,
            "type": "pie"
           }
          ],
          "scatter": [
           {
            "fillpattern": {
             "fillmode": "overlay",
             "size": 10,
             "solidity": 0.2
            },
            "type": "scatter"
           }
          ],
          "scatter3d": [
           {
            "line": {
             "colorbar": {
              "outlinewidth": 0,
              "ticks": ""
             }
            },
            "marker": {
             "colorbar": {
              "outlinewidth": 0,
              "ticks": ""
             }
            },
            "type": "scatter3d"
           }
          ],
          "scattercarpet": [
           {
            "marker": {
             "colorbar": {
              "outlinewidth": 0,
              "ticks": ""
             }
            },
            "type": "scattercarpet"
           }
          ],
          "scattergeo": [
           {
            "marker": {
             "colorbar": {
              "outlinewidth": 0,
              "ticks": ""
             }
            },
            "type": "scattergeo"
           }
          ],
          "scattergl": [
           {
            "marker": {
             "colorbar": {
              "outlinewidth": 0,
              "ticks": ""
             }
            },
            "type": "scattergl"
           }
          ],
          "scattermapbox": [
           {
            "marker": {
             "colorbar": {
              "outlinewidth": 0,
              "ticks": ""
             }
            },
            "type": "scattermapbox"
           }
          ],
          "scatterpolar": [
           {
            "marker": {
             "colorbar": {
              "outlinewidth": 0,
              "ticks": ""
             }
            },
            "type": "scatterpolar"
           }
          ],
          "scatterpolargl": [
           {
            "marker": {
             "colorbar": {
              "outlinewidth": 0,
              "ticks": ""
             }
            },
            "type": "scatterpolargl"
           }
          ],
          "scatterternary": [
           {
            "marker": {
             "colorbar": {
              "outlinewidth": 0,
              "ticks": ""
             }
            },
            "type": "scatterternary"
           }
          ],
          "surface": [
           {
            "colorbar": {
             "outlinewidth": 0,
             "ticks": ""
            },
            "colorscale": [
             [
              0,
              "#0d0887"
             ],
             [
              0.1111111111111111,
              "#46039f"
             ],
             [
              0.2222222222222222,
              "#7201a8"
             ],
             [
              0.3333333333333333,
              "#9c179e"
             ],
             [
              0.4444444444444444,
              "#bd3786"
             ],
             [
              0.5555555555555556,
              "#d8576b"
             ],
             [
              0.6666666666666666,
              "#ed7953"
             ],
             [
              0.7777777777777778,
              "#fb9f3a"
             ],
             [
              0.8888888888888888,
              "#fdca26"
             ],
             [
              1,
              "#f0f921"
             ]
            ],
            "type": "surface"
           }
          ],
          "table": [
           {
            "cells": {
             "fill": {
              "color": "#EBF0F8"
             },
             "line": {
              "color": "white"
             }
            },
            "header": {
             "fill": {
              "color": "#C8D4E3"
             },
             "line": {
              "color": "white"
             }
            },
            "type": "table"
           }
          ]
         },
         "layout": {
          "annotationdefaults": {
           "arrowcolor": "#2a3f5f",
           "arrowhead": 0,
           "arrowwidth": 1
          },
          "autotypenumbers": "strict",
          "coloraxis": {
           "colorbar": {
            "outlinewidth": 0,
            "ticks": ""
           }
          },
          "colorscale": {
           "diverging": [
            [
             0,
             "#8e0152"
            ],
            [
             0.1,
             "#c51b7d"
            ],
            [
             0.2,
             "#de77ae"
            ],
            [
             0.3,
             "#f1b6da"
            ],
            [
             0.4,
             "#fde0ef"
            ],
            [
             0.5,
             "#f7f7f7"
            ],
            [
             0.6,
             "#e6f5d0"
            ],
            [
             0.7,
             "#b8e186"
            ],
            [
             0.8,
             "#7fbc41"
            ],
            [
             0.9,
             "#4d9221"
            ],
            [
             1,
             "#276419"
            ]
           ],
           "sequential": [
            [
             0,
             "#0d0887"
            ],
            [
             0.1111111111111111,
             "#46039f"
            ],
            [
             0.2222222222222222,
             "#7201a8"
            ],
            [
             0.3333333333333333,
             "#9c179e"
            ],
            [
             0.4444444444444444,
             "#bd3786"
            ],
            [
             0.5555555555555556,
             "#d8576b"
            ],
            [
             0.6666666666666666,
             "#ed7953"
            ],
            [
             0.7777777777777778,
             "#fb9f3a"
            ],
            [
             0.8888888888888888,
             "#fdca26"
            ],
            [
             1,
             "#f0f921"
            ]
           ],
           "sequentialminus": [
            [
             0,
             "#0d0887"
            ],
            [
             0.1111111111111111,
             "#46039f"
            ],
            [
             0.2222222222222222,
             "#7201a8"
            ],
            [
             0.3333333333333333,
             "#9c179e"
            ],
            [
             0.4444444444444444,
             "#bd3786"
            ],
            [
             0.5555555555555556,
             "#d8576b"
            ],
            [
             0.6666666666666666,
             "#ed7953"
            ],
            [
             0.7777777777777778,
             "#fb9f3a"
            ],
            [
             0.8888888888888888,
             "#fdca26"
            ],
            [
             1,
             "#f0f921"
            ]
           ]
          },
          "colorway": [
           "#636efa",
           "#EF553B",
           "#00cc96",
           "#ab63fa",
           "#FFA15A",
           "#19d3f3",
           "#FF6692",
           "#B6E880",
           "#FF97FF",
           "#FECB52"
          ],
          "font": {
           "color": "#2a3f5f"
          },
          "geo": {
           "bgcolor": "white",
           "lakecolor": "white",
           "landcolor": "#E5ECF6",
           "showlakes": true,
           "showland": true,
           "subunitcolor": "white"
          },
          "hoverlabel": {
           "align": "left"
          },
          "hovermode": "closest",
          "mapbox": {
           "style": "light"
          },
          "paper_bgcolor": "white",
          "plot_bgcolor": "#E5ECF6",
          "polar": {
           "angularaxis": {
            "gridcolor": "white",
            "linecolor": "white",
            "ticks": ""
           },
           "bgcolor": "#E5ECF6",
           "radialaxis": {
            "gridcolor": "white",
            "linecolor": "white",
            "ticks": ""
           }
          },
          "scene": {
           "xaxis": {
            "backgroundcolor": "#E5ECF6",
            "gridcolor": "white",
            "gridwidth": 2,
            "linecolor": "white",
            "showbackground": true,
            "ticks": "",
            "zerolinecolor": "white"
           },
           "yaxis": {
            "backgroundcolor": "#E5ECF6",
            "gridcolor": "white",
            "gridwidth": 2,
            "linecolor": "white",
            "showbackground": true,
            "ticks": "",
            "zerolinecolor": "white"
           },
           "zaxis": {
            "backgroundcolor": "#E5ECF6",
            "gridcolor": "white",
            "gridwidth": 2,
            "linecolor": "white",
            "showbackground": true,
            "ticks": "",
            "zerolinecolor": "white"
           }
          },
          "shapedefaults": {
           "line": {
            "color": "#2a3f5f"
           }
          },
          "ternary": {
           "aaxis": {
            "gridcolor": "white",
            "linecolor": "white",
            "ticks": ""
           },
           "baxis": {
            "gridcolor": "white",
            "linecolor": "white",
            "ticks": ""
           },
           "bgcolor": "#E5ECF6",
           "caxis": {
            "gridcolor": "white",
            "linecolor": "white",
            "ticks": ""
           }
          },
          "title": {
           "x": 0.05
          },
          "xaxis": {
           "automargin": true,
           "gridcolor": "white",
           "linecolor": "white",
           "ticks": "",
           "title": {
            "standoff": 15
           },
           "zerolinecolor": "white",
           "zerolinewidth": 2
          },
          "yaxis": {
           "automargin": true,
           "gridcolor": "white",
           "linecolor": "white",
           "ticks": "",
           "title": {
            "standoff": 15
           },
           "zerolinecolor": "white",
           "zerolinewidth": 2
          }
         }
        },
        "xaxis": {
         "anchor": "y",
         "domain": [
          0,
          0.08200000000000002
         ]
        },
        "xaxis10": {
         "anchor": "y10",
         "domain": [
          0.9180000000000001,
          1
         ],
         "matches": "x"
        },
        "xaxis2": {
         "anchor": "y2",
         "domain": [
          0.10200000000000002,
          0.18400000000000005
         ],
         "matches": "x"
        },
        "xaxis3": {
         "anchor": "y3",
         "domain": [
          0.20400000000000004,
          0.28600000000000003
         ],
         "matches": "x"
        },
        "xaxis4": {
         "anchor": "y4",
         "domain": [
          0.30600000000000005,
          0.38800000000000007
         ],
         "matches": "x"
        },
        "xaxis5": {
         "anchor": "y5",
         "domain": [
          0.4080000000000001,
          0.4900000000000001
         ],
         "matches": "x"
        },
        "xaxis6": {
         "anchor": "y6",
         "domain": [
          0.5100000000000001,
          0.5920000000000001
         ],
         "matches": "x"
        },
        "xaxis7": {
         "anchor": "y7",
         "domain": [
          0.6120000000000001,
          0.6940000000000002
         ],
         "matches": "x"
        },
        "xaxis8": {
         "anchor": "y8",
         "domain": [
          0.7140000000000001,
          0.796
         ],
         "matches": "x"
        },
        "xaxis9": {
         "anchor": "y9",
         "domain": [
          0.8160000000000002,
          0.8980000000000001
         ],
         "matches": "x"
        },
        "yaxis": {
         "anchor": "x",
         "domain": [
          0,
          1
         ]
        },
        "yaxis10": {
         "anchor": "x10",
         "domain": [
          0,
          1
         ],
         "matches": "y",
         "showticklabels": false
        },
        "yaxis2": {
         "anchor": "x2",
         "domain": [
          0,
          1
         ],
         "matches": "y",
         "showticklabels": false
        },
        "yaxis3": {
         "anchor": "x3",
         "domain": [
          0,
          1
         ],
         "matches": "y",
         "showticklabels": false
        },
        "yaxis4": {
         "anchor": "x4",
         "domain": [
          0,
          1
         ],
         "matches": "y",
         "showticklabels": false
        },
        "yaxis5": {
         "anchor": "x5",
         "domain": [
          0,
          1
         ],
         "matches": "y",
         "showticklabels": false
        },
        "yaxis6": {
         "anchor": "x6",
         "domain": [
          0,
          1
         ],
         "matches": "y",
         "showticklabels": false
        },
        "yaxis7": {
         "anchor": "x7",
         "domain": [
          0,
          1
         ],
         "matches": "y",
         "showticklabels": false
        },
        "yaxis8": {
         "anchor": "x8",
         "domain": [
          0,
          1
         ],
         "matches": "y",
         "showticklabels": false
        },
        "yaxis9": {
         "anchor": "x9",
         "domain": [
          0,
          1
         ],
         "matches": "y",
         "showticklabels": false
        }
       }
      },
      "image/png": "[encoded data removed]"
     },
     "metadata": {},
     "output_type": "display_data"
    }
   ],
   "source": [
    "def min_max_normalize(arr:np.ndarray, axis:tuple) -> np.ndarray:\n",
    "    return (arr - arr.min(axis, keepdims=True)) / (arr.max(axis, keepdims=True) - arr.min(axis, keepdims=True))\n",
    "\n",
    "MIN = nn[0].kernels.min()\n",
    "MAX = nn[0].kernels.max()\n",
    "normed_kernels = (nn[0].kernels - MIN) / (MAX - MIN)\n",
    "normed_kernels.shape\n",
    "\n",
    "px.imshow(normed_kernels, facet_col=0, facet_col_wrap=10)"
   ]
  },
  {
   "cell_type": "code",
   "execution_count": 21,
   "metadata": {},
   "outputs": [
    {
     "data": {
      "text/plain": [
       "array([[[[ 8.42639485e-12, -1.75344698e-11,  2.48404878e-11,\n",
       "           3.83153923e-11,  2.16357063e-12, -3.00830674e-11,\n",
       "          -6.22100131e-12,  1.18847556e-11, -5.10125637e-11,\n",
       "          -7.37448126e-12]]]])"
      ]
     },
     "execution_count": 21,
     "metadata": {},
     "output_type": "execute_result"
    }
   ],
   "source": [
    "nn[0].biases"
   ]
  },
  {
   "cell_type": "code",
   "execution_count": 22,
   "metadata": {},
   "outputs": [
    {
     "data": {
      "text/plain": [
       "array([[[[0.38608128, 0.66709622, 0.56305379, 0.25400912, 0.41576247,\n",
       "          0.42090398, 0.68163719, 0.33882058, 0.60693249, 0.38165039]]]])"
      ]
     },
     "execution_count": 22,
     "metadata": {},
     "output_type": "execute_result"
    }
   ],
   "source": [
    "nn[1].gamma"
   ]
  },
  {
   "cell_type": "code",
   "execution_count": 23,
   "metadata": {},
   "outputs": [
    {
     "data": {
      "text/plain": [
       "array([[[[-0.2947325 , -0.72720792, -0.37745905,  0.02124765,\n",
       "          -0.26840579, -0.36625753, -0.94605281, -0.16557258,\n",
       "          -0.74552249, -0.17921048]]]])"
      ]
     },
     "execution_count": 23,
     "metadata": {},
     "output_type": "execute_result"
    }
   ],
   "source": [
    "nn[1].beta"
   ]
  },
  {
   "cell_type": "markdown",
   "metadata": {},
   "source": [
    "## Conclusion\n"
   ]
  }
 ],
 "metadata": {
  "kernelspec": {
   "display_name": "CNN",
   "language": "python",
   "name": "python3"
  },
  "language_info": {
   "codemirror_mode": {
    "name": "ipython",
    "version": 3
   },
   "file_extension": ".py",
   "mimetype": "text/x-python",
   "name": "python",
   "nbconvert_exporter": "python",
   "pygments_lexer": "ipython3",
   "version": "3.12.9"
  }
 },
 "nbformat": 4,
 "nbformat_minor": 2
}
