{
 "cells": [
  {
   "cell_type": "code",
   "execution_count": 26,
   "metadata": {},
   "outputs": [],
   "source": [
    "import numpy as np\n",
    "from numpy import ndarray\n",
    "import plotly.express as px\n",
    "\n",
    "from optimizers import Adam\n",
    "from losses import BinaryCrossentropy\n",
    "from cifar_10_dataset_loading import load_cifar_10\n",
    "from metrics import accuracy, nn_params_stats, activations_stats\n",
    "from layers import Convolutional, Linear, Relu, BatchNorm, Flatten, Softmax, MaxPool, Layer"
   ]
  },
  {
   "cell_type": "markdown",
   "metadata": {},
   "source": [
    "## Setup"
   ]
  },
  {
   "cell_type": "markdown",
   "metadata": {},
   "source": [
    "### Data extraction"
   ]
  },
  {
   "cell_type": "code",
   "execution_count": 27,
   "metadata": {},
   "outputs": [],
   "source": [
    "x_train, y_train, x_test, y_test = load_cifar_10()"
   ]
  },
  {
   "cell_type": "code",
   "execution_count": 28,
   "metadata": {},
   "outputs": [],
   "source": [
    "classes = y_train.argmax(axis=1)"
   ]
  },
  {
   "cell_type": "code",
   "execution_count": 29,
   "metadata": {},
   "outputs": [
    {
     "data": {
      "text/plain": [
       "dtype('float64')"
      ]
     },
     "execution_count": 29,
     "metadata": {},
     "output_type": "execute_result"
    }
   ],
   "source": [
    "# Change range from [0, 255] to [-1, 1]\n",
    "x_train = x_train / 255  \n",
    "x_train.dtype"
   ]
  },
  {
   "cell_type": "code",
   "execution_count": 30,
   "metadata": {},
   "outputs": [
    {
     "data": {
      "application/vnd.plotly.v1+json": {
       "config": {
        "plotlyServerURL": "https://plot.ly"
       },
       "data": [
        {
         "hovertemplate": "x: %{x}<br>y: %{y}<extra></extra>",
         "name": "0",
         "source": "data:image/png;base64,iVBORw0KGgoAAAANSUhEUgAAACAAAAAgCAIAAAD8GO2jAAAJZElEQVR4XgXB2Y8dWX0A4LP8TtWp9W59l97stt1ux4zGHhiDRiYJGfECLyhv+e/CPxBFCEWRIuUBIQUemJFRBpuJ8d7r7bvVvVV1Tp0934d/+o8/q6p1TPwwCndG6XiY7fXziDKIE0Rhvam0DYN+jzijlOq6jifcISdk0+uXKDitNEWMUlrkeZZljHGpdMAEEdBK24Dh5auX1XI55AiP+J4rcDJp/bpxIeBIdFpIZZxfUswhWOspgTiORddar3E3IhQZpRLgjdJrZ9M0w4RhyhAhojPWGAoxJIBRjO6O+Mm0NxkPkzTDGEvVdUYFjKMkQTYEr3rD1JoQscQ5RKNY6c5YnEYxZAmPYotbErxFmGKUZ2nTCmMNwajebYFjWxRwdjgYJZT5rllr54kUlkSo7OcQxdW2BkDDIq13re5a2ZmAcJ5lRkvigMWxcwYoVspELCLeqmaDXIgpst5vWwWDGJI47mXJuGTOO4cQBYoIUd4AAATvlAyU3N5WzrhaCOF0npRIOYo8wYHGXLZdykoIoeu0NNajUDVdJUwjbGcIjPu8YJRzSmhIksRY5xEOQWsbnDY+mOB0gKjWrXNUOG+dr1tzuW4Z8WWDzc1SbsWdvdPJ5AgXW7VZNU27rbvlVn443zoKcDDOysjmaYSDQSjg4JUUBOFR0csyvtsue2VZd+bj5bJRNPLoMAVg8sOqUoEyHHpl8fwHz3bXLojQ22NKQNOQmLHjWTGZTOe7DoZFArqKGaRxqqQx3vb7gxCCdsSYLs3zq4V6+3G7qK2w6G5C//kfvjjaz//t23d/fHNjvQYS6mohGlUUDDnMOYs4TTGzzt45PijWNUyGI7nuCIZGGKktYCqMIwhJo/uDUrvw7uJqvXMBIkpJyd0Ear5WD8vZ9ZDMq1sl9IvXr4n1JitRb4oI9Hpp4UOnTdC7k3EGg73xIE8IYdVuY9qGOOeRDwzynBvE//rudatazmMeQZKlA2q/fTO3GlRvNh5wjEpjO6FlK4K2FhuNMGIEB0IZgFUquACIMMwYQijmLEUZIEIIMcjHSW95U4vl5v6Qqw7xLH304JCozlK2222AbosoGw0ePHh45/2nP33/+jICFUJjLRCIWMS89x5hjAnIzmAjEbJtu9OGWMIbUe9EfXgMwdZ39/CDAyY6fHj2NArdZmuS/git6PFsv2rb+3/3sByk5eDxZlFvtlsWZSTExjvvkTOWYBRCAIddcDaEkPAkL9KrhXx/sQAWovlVN188nLCf/9PDt5fr4nC8N5rdLub9fkY8iwi9XVwCrxbV9eV1w1jaL72UIQDBBHvvCMaYEBcQ9Pu5Bds0XTBuW28/fpo3TZNwcv1+N+XR4eHd/sE9VnvE2dHTn/Cby8QuHOratttPx9p5nOVH2UHRn9Wrm9v5ymDWaYVIyGKuZcMiBnW1Al0zTBBFQKlotoMi62dcbnaTg9Hhk5/95UK/fqOf7w+rSk8fPCVIaLXoB7+7XSXa7A+HlYvZk4Gsrv/nP397cb6gEUMIy4AMIsQYoBg52QSECbIO041Bu10ISu/3sh9//fXRo6/+/df/OstyquXlu7ez+z/go9Ms1GJ9m/iBlmJZi/743mh2IpuSlMhFHSbYGI2tw8FZC4ADcsZgQoCgIA32aDhKZ6n90bOzx8+/2tw2sd3ePzry2M8mY9tZUWltrZHgUP728uK7v3zz/Cs9mo129S1L0d5J5glx2lmlt4tK1Sl466TyUZYDMEr06WzAE3Jy9/jp33+9/+jJn//46zvHg9lnn0fjB5D2RNfIXT2/Ot/ML5wRScH39tj51Yvp/qEVTZAKtxsXZMAhiVk0Y7sYA6OwqYXrcJImlITJKD2/rh786BdHn/8CoYGp217RG5990cLw5Ys/KdnudtXy8hN1mnM4vHf45OzU0ozRPosMdJ34eOmtswQ1lKajbHowAiW7NAbMKSM2OJvk9Ff/8qvnv/x5uTedv/srJbaqt4sP/3dVu9/95jd5wjrVzKa9ssjeX5xrYocHJ2eff4lcvK4uRIc30uIAnfRNCKHpHvcR+KCRd9h6GwzGgcflF19+GTP26s8vNldvlerqzfr8zasmJMx1OdCSZ+NB73p+Y40RdXP+/hNCL5um5hBsPFnZMkl4WiQJxLXYWW8BIe+tBpY66zSy097gv377H8Ppy8n+sRZbxuI8K4HQjLHZZCTrTULj1WJptCt4opvmby++uf7+tbISMeoIzY4ylGkSd9zbAUoef3YPvMcRUA4eERxo5rVZLm+axU1idh7R4WDUPxhbpy6vbgIKhIC2lmKW8dR6RK1HODi9JR7vxEbHsjhQbVLVXnctGZX39yYjQnDM4yQgmyZ8MpoEo0ZF1Iut3s51vRSijsshyUaPnjzzkOhAPIamEd6hiAJnYK19fbH45tXVd2+v13bH+8CiqGlsK0NWjKRwJAKilfIh8jQWRlLqU55kxThKe9PJXr1ZCG3Gx6fCx5/9+KePv3hGgLeNEkJijDHy15dXn97fNEImeToeTnDH8HU2uN074/eO+kdvXt3AdEzMaiWdb1sUiAOAshxFjMl2lzBAGr75wx/uP5pfXNwQgtOYURonSdY2Ukpprc6T+PkPz3hRWmqdEfK8IzWfpMUPzz6b9KffXr+HO8dRD/M352K+CNrFeQ6t2DrfUETWi1Xd2M5sadgW+WB+s75oOx/wdDzC3myqTZzF/V4RUaK0Q8BaRXTDMk9Oj2cHs9H5xXy1EFAOmFyIwYSiLF3OVac1RKXWyBtnnNrKTZbEnehkt9TGOeNCoM1OlGVSlj0pxXK1yfMME4JtiCCJOYoienJ6IkX4/e9f/e/rWwAOvIyGOQGpWOJ3G0COJHzimHeqilJgEFGaquC10SFgHFDQnesQA4aiuNpspDa9fgmEEIgEsvNlvWls3W7/+3ffzwWCpmGI5nnWsSRkMe/1fLOTzW7eCGc6V0QjzphVCoBEBLGYYkzSHAgg62yUQNlP1+u6Dr4cjoTVf/uw+v678+mwnB6liPi9XgEXH5GqeDG2PDG9HA2H0LSiqsRmFW1WiHrqQ3DOIe8IQphgCiAdCRYxb6xYOykcsKoR2qH1Tn54s6pWrW7drDd7fPdwJxE4tmeiZ8orYpe8h/tjPiB2KHy1TqollS04G6FAvPWd7KIookDrzsumY0EXpPBkZwzEWeAs7kf6Pup//jR79OTpyenpT74SF1fN/wMWt9uTwQaBnAAAAABJRU5ErkJggg==",
         "type": "image",
         "xaxis": "x9",
         "yaxis": "y9"
        },
        {
         "hovertemplate": "x: %{x}<br>y: %{y}<extra></extra>",
         "name": "1",
         "source": "data:image/png;base64,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",
         "type": "image",
         "xaxis": "x10",
         "yaxis": "y10"
        },
        {
         "hovertemplate": "x: %{x}<br>y: %{y}<extra></extra>",
         "name": "2",
         "source": "data:image/png;base64,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",
         "type": "image",
         "xaxis": "x11",
         "yaxis": "y11"
        },
        {
         "hovertemplate": "x: %{x}<br>y: %{y}<extra></extra>",
         "name": "3",
         "source": "data:image/png;base64,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",
         "type": "image",
         "xaxis": "x12",
         "yaxis": "y12"
        },
        {
         "hovertemplate": "x: %{x}<br>y: %{y}<extra></extra>",
         "name": "4",
         "source": "data:image/png;base64,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",
         "type": "image",
         "xaxis": "x5",
         "yaxis": "y5"
        },
        {
         "hovertemplate": "x: %{x}<br>y: %{y}<extra></extra>",
         "name": "5",
         "source": "data:image/png;base64,iVBORw0KGgoAAAANSUhEUgAAACAAAAAgCAIAAAD8GO2jAAAKQElEQVR4XiXSWbMc10EA4HNOn96mu2fp2e/cZe7cXYtl2QJJMUXhOECFSqVc5CVvVIr/QBUPPPAP+AF5AN4CVZjEgZjgpGLZlmSjNdK9urvuNlvP2vtyNh7y/YYP/vTBPxo2RxKyCvj87dmT377lIlrbKd699ueW0rjo7i811jx6BlXPndAnj47PXk821jf/+sc/wLbfH8/kpIUlOPMml2+Pl1aKt2/8SZBMNFSq6pt+MHbGPWwXbbtkjvv4iwe/u7jaCwbS4tKCTO1wSvSal0ZE43Ujj4rWcqjycP03/vCZVaoPp+no5Khe71xfvYeE+XD+8wj6+epiQasZcp0xllE28zLHCbHd4IiWESsulu6T2MjsbLGyUTQQUDlWzY2VO0EwcHoHtTppVG4sLWwG6zHg2t6r5yPvVJb1r8JPquV2wdZLoWKaEMJQhzZEuZEbur6nqxRvFlczUikY4da7C1OvPJ9mDW2pVSwxKfaDKZdEhCOUWq5HMHCc4fDo9CSNk+KybjcqmmFsLN4EmLtpeH/7R7W8irgFWJ5QgRBt1HVTvYnL8C7QMGNP52ymy9V6o9PUbEXKIaAXlMmx80BRra3W96PAhzCycy1FKvTGjt2sL9V27ErDLpdlYsLMqhU2BAkn3gliY0NvVUoNhBYgVDERCmEhplWFYC9zfXxZ5LKCDQQkBZqd6ge9c7f3dkwyhiQg65XttTsi4aam1KuWifJnV8dXF7sYV8NFTwd5hQMGA666guCcUlGRCrvhM0OpYqECKA2iszP/ZRbTlrW8WFqlTDvc7z783+fxPMiSxPODemMhX7QIdJq3kmob47TR615ddE+239muVxcqynI5t/Lq6tHYC28tfSgrSpwNsAJ0A1kxvwAA1XPFnsuf7b8mi2GSuruPyMPPnk5GI0niiiTNPffoZL+9sr7a6Zh0S2G+hJVoRhqVxZXmZskwLEWhPAxpdHD1SJC0Zmtz+nsYZWOAIBBUApDDaJR0r4YOceUvPtvbf36cRUFMM9eb6Kpm5qw49gXjpmG12mv3v39j/YZxdPjaKij1RqNRqaVgNEn7Xhb3e+FsmFawHbEJHtD9aTooaKCibJl8ZUFryc3hm+iQI9rvH+qK/s7tP1J0M4mzudM9OrpMQzcJFC6JreGSdKuEVB+wJiSlnLKehGo8Y37SjTy1ADY504/Or7AlVXWjlMJeIjwdZhhgSzKvrW3jv1J3n7zynNH3PvywUG0/ffL8+XyENN2QcZJlo8n4YP+oc73E4yrMlRS9OhlTXVu3YC5I9DxyWgvLFCqDuI4xwhW8SXjbF7OIEAkEANKSmteQZddW3r/2XnOhNQ3ibv8CSFJzeWXc74VeqFmg0IBDx5l5PrTk4exUUFEptA3dLIOyqmMGwvPuS1Ot4364KxlymM4mQRREWU7XDD1XEliz+MpOPhgGn3726XjkeXMnisYki2WQ6Qq+efv6ynZ9Gl2EgPVHqGy0FmoN22wpWO1GuzF0i/IqZejCeYPdKdPQLuMszZgfkzAzM0J8MA7ZeOl6uhsMfvO7r4bnPSA4JRRLSFaUYqVRqdWDIEUKWSgXLobTh3tfLM2anYXOcqtTq5Q0tJTDTSmR+r1DXNAWWSIykM3ii/58Gid+taiWLI1LE8Oevf/desGqfvLPnzl9BwIhYySres7IT90ZGZHqQiGvVr9z7eazk6/2zr7GeFqtyzWjiUXecQd+EIOkjg9OH4d8DnMMCW3uZ248LhpbreIfE+Ry8UKvVErQOnzcmzpfcE4QwgBiJiBN4Lw/ZyhCGt4pFJeLK5479iPa78/UainO0u7QPZ8NmSFhxVAH49712kfXFu4FJNq7ehwGw9G0K2mlwM1BkjeMYmdl/UXuaRiHElYoE1lKaAIiL6ORqNuo57yNZjMJan0nFOwwDakfSZeDWUpIKgK8ubpTrKRqqlMiGoUWFZuHvcuL+bdZgqfjnmWWKsqqZZVKxWpCMgEQYSJJMm8WSipUdVDOmTWt+bXrnPd6hNL+2Hnyao+mcrHQrJRbRdPCFXWtpNm9y/Nnr39daWxE0nk3OHV9l0YYQJoG85TIprldrbdmvpuQDEKJEuLO57l8KqtaQMcymJt5XPDLvcG5c54t21tQTnNYpOmQ8RgfnJ4ddJ8utyrTKH7+6FetdVWS7CxiEALCSkkoLC2na3q5XFUv1SiNJYQAY2kcIyUjKXQDAH1bUgUVAAYF7oVEidtr7fdu3gUa//rF5/hf/+ufFDs1Ou+i0qLUhyjkuFBgNIUwSIgXEygpa5BBmiUkyxglsow5T+M4lnWpnC/nqCU5ayAJu6+Psxk3LXMceKV5slrfWO1sDM58fP0Do2xvaGhx6IVhxo6OJ5vb2/c3P7ocHxwNXsqSpHKT0iQMXAAFxhhCEKchYZlqFEKCVKFE8+DJty+6ZxNNxoILEYJveo+5z7a3rj389iFe32zOHTE8DQ2m7XR2CElWa1try9uzYMTmWE0awEDO8CqIPBlDRUZZFgvAOReUcjf1Gk0lQBfeycvgNU5SzZ+GEEGBxM+Pf/kL9GvNVHB83v7my89tJbt35872+vtRLP7n8X8+2P2VoFFeauTVFRalx8cHrjcVgHFGgeCMMwEFxkiD5YB4pYa203m39+VxljJEIRAcIACAAIBGlOL/+PdPHvxi/y++q/3pfft8fn7eOzy9fGYXc/VSI/Dt+cDtezNnOnbGDqFEVRRFlrI4pVwIIkxQbWt3rjduFtZPvlJ/GtG5DCETQnABAUdIcCpQ73T28cd/+ZO/+dvtjY4kDUp5ePudu4GfXjmjOCT9q97L3Vfn3YsgirIsy7IkIymnFHCRpKmsgZvbNwp5c+4Oinl5YamIZAgAgEIIAYQAEEL893/3DyuLq4WC2ncOBt1BSiCDqqovnhy/qeHSbDZ3JpOJ52aEqLJEGYUcQiBhCamGIuUQlGiasZK1+OOf/HDvYPfTn30Zx6mWwxBgwAFCEl67tiYx5ay7f3W5P/K8Zq292dy+1b7/y/jTwe48ir04iSllEKGMMEgBQghCITgcO+7Z8UDFxjQ9RoXZ+to2LBBVlS2lVmmWXjx9/fLhfjD38Ddv/m199YZmFTut7fWOVit3DKX8+e8/yUgoUhZGfpYRSZIFF5RxzpkEGEYS4xzLoL6YG6dvCUuW6+16vrW+sPSjD0wNFn0S7azduXfzzO0Psa1WFaZUzJVMjgDIIIy/fPGz3/7ff9Mw3x9HU89lgDNKKaECCCEAoRxhSYJSMV9aX9hp4I5tt4u5hgQ5TeIszHzfG477VWwuvnvXa0/xjdZHIY/P+68vBweVYvNW5wMsp6tVk8j2AIVCgDRJCKF/uAEAkBDqtJeatUXKRcNqb9a/IyBgLKQZCX03Cd0sIpk7GbojRVZZlmIVK6qc1yWtkV/JqXlLbdzb/Pi9lT8LXN5/8S9v9nY54wKAP8QWnBUsq9VovP/ebSRbrhvE6RQrHAiWxcng7HQ+GaZJeNXtjmaTnGEoGP4/lT4K+Dh5d3gAAAAASUVORK5CYII=",
         "type": "image",
         "xaxis": "x6",
         "yaxis": "y6"
        },
        {
         "hovertemplate": "x: %{x}<br>y: %{y}<extra></extra>",
         "name": "6",
         "source": "data:image/png;base64,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",
         "type": "image",
         "xaxis": "x7",
         "yaxis": "y7"
        },
        {
         "hovertemplate": "x: %{x}<br>y: %{y}<extra></extra>",
         "name": "7",
         "source": "data:image/png;base64,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",
         "type": "image",
         "xaxis": "x8",
         "yaxis": "y8"
        },
        {
         "hovertemplate": "x: %{x}<br>y: %{y}<extra></extra>",
         "name": "8",
         "source": "data:image/png;base64,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",
         "type": "image",
         "xaxis": "x",
         "yaxis": "y"
        }
       ],
       "layout": {
        "annotations": [
         {
          "font": {},
          "showarrow": false,
          "text": "facet_col=8",
          "x": 0.1175,
          "xanchor": "center",
          "xref": "paper",
          "y": 0.2866666666666666,
          "yanchor": "bottom",
          "yref": "paper"
         },
         {
          "font": {},
          "showarrow": false,
          "text": "facet_col=4",
          "x": 0.1175,
          "xanchor": "center",
          "xref": "paper",
          "y": 0.6433333333333333,
          "yanchor": "bottom",
          "yref": "paper"
         },
         {
          "font": {},
          "showarrow": false,
          "text": "facet_col=5",
          "x": 0.3725,
          "xanchor": "center",
          "xref": "paper",
          "y": 0.6433333333333333,
          "yanchor": "bottom",
          "yref": "paper"
         },
         {
          "font": {},
          "showarrow": false,
          "text": "facet_col=6",
          "x": 0.6275,
          "xanchor": "center",
          "xref": "paper",
          "y": 0.6433333333333333,
          "yanchor": "bottom",
          "yref": "paper"
         },
         {
          "font": {},
          "showarrow": false,
          "text": "facet_col=7",
          "x": 0.8824999999999998,
          "xanchor": "center",
          "xref": "paper",
          "y": 0.6433333333333333,
          "yanchor": "bottom",
          "yref": "paper"
         },
         {
          "font": {},
          "showarrow": false,
          "text": "facet_col=0",
          "x": 0.1175,
          "xanchor": "center",
          "xref": "paper",
          "y": 0.9999999999999999,
          "yanchor": "bottom",
          "yref": "paper"
         },
         {
          "font": {},
          "showarrow": false,
          "text": "facet_col=1",
          "x": 0.3725,
          "xanchor": "center",
          "xref": "paper",
          "y": 0.9999999999999999,
          "yanchor": "bottom",
          "yref": "paper"
         },
         {
          "font": {},
          "showarrow": false,
          "text": "facet_col=2",
          "x": 0.6275,
          "xanchor": "center",
          "xref": "paper",
          "y": 0.9999999999999999,
          "yanchor": "bottom",
          "yref": "paper"
         },
         {
          "font": {},
          "showarrow": false,
          "text": "facet_col=3",
          "x": 0.8824999999999998,
          "xanchor": "center",
          "xref": "paper",
          "y": 0.9999999999999999,
          "yanchor": "bottom",
          "yref": "paper"
         }
        ],
        "margin": {
         "t": 60
        },
        "template": {
         "data": {
          "bar": [
           {
            "error_x": {
             "color": "#2a3f5f"
            },
            "error_y": {
             "color": "#2a3f5f"
            },
            "marker": {
             "line": {
              "color": "#E5ECF6",
              "width": 0.5
             },
             "pattern": {
              "fillmode": "overlay",
              "size": 10,
              "solidity": 0.2
             }
            },
            "type": "bar"
           }
          ],
          "barpolar": [
           {
            "marker": {
             "line": {
              "color": "#E5ECF6",
              "width": 0.5
             },
             "pattern": {
              "fillmode": "overlay",
              "size": 10,
              "solidity": 0.2
             }
            },
            "type": "barpolar"
           }
          ],
          "carpet": [
           {
            "aaxis": {
             "endlinecolor": "#2a3f5f",
             "gridcolor": "white",
             "linecolor": "white",
             "minorgridcolor": "white",
             "startlinecolor": "#2a3f5f"
            },
            "baxis": {
             "endlinecolor": "#2a3f5f",
             "gridcolor": "white",
             "linecolor": "white",
             "minorgridcolor": "white",
             "startlinecolor": "#2a3f5f"
            },
            "type": "carpet"
           }
          ],
          "choropleth": [
           {
            "colorbar": {
             "outlinewidth": 0,
             "ticks": ""
            },
            "type": "choropleth"
           }
          ],
          "contour": [
           {
            "colorbar": {
             "outlinewidth": 0,
             "ticks": ""
            },
            "colorscale": [
             [
              0,
              "#0d0887"
             ],
             [
              0.1111111111111111,
              "#46039f"
             ],
             [
              0.2222222222222222,
              "#7201a8"
             ],
             [
              0.3333333333333333,
              "#9c179e"
             ],
             [
              0.4444444444444444,
              "#bd3786"
             ],
             [
              0.5555555555555556,
              "#d8576b"
             ],
             [
              0.6666666666666666,
              "#ed7953"
             ],
             [
              0.7777777777777778,
              "#fb9f3a"
             ],
             [
              0.8888888888888888,
              "#fdca26"
             ],
             [
              1,
              "#f0f921"
             ]
            ],
            "type": "contour"
           }
          ],
          "contourcarpet": [
           {
            "colorbar": {
             "outlinewidth": 0,
             "ticks": ""
            },
            "type": "contourcarpet"
           }
          ],
          "heatmap": [
           {
            "colorbar": {
             "outlinewidth": 0,
             "ticks": ""
            },
            "colorscale": [
             [
              0,
              "#0d0887"
             ],
             [
              0.1111111111111111,
              "#46039f"
             ],
             [
              0.2222222222222222,
              "#7201a8"
             ],
             [
              0.3333333333333333,
              "#9c179e"
             ],
             [
              0.4444444444444444,
              "#bd3786"
             ],
             [
              0.5555555555555556,
              "#d8576b"
             ],
             [
              0.6666666666666666,
              "#ed7953"
             ],
             [
              0.7777777777777778,
              "#fb9f3a"
             ],
             [
              0.8888888888888888,
              "#fdca26"
             ],
             [
              1,
              "#f0f921"
             ]
            ],
            "type": "heatmap"
           }
          ],
          "heatmapgl": [
           {
            "colorbar": {
             "outlinewidth": 0,
             "ticks": ""
            },
            "colorscale": [
             [
              0,
              "#0d0887"
             ],
             [
              0.1111111111111111,
              "#46039f"
             ],
             [
              0.2222222222222222,
              "#7201a8"
             ],
             [
              0.3333333333333333,
              "#9c179e"
             ],
             [
              0.4444444444444444,
              "#bd3786"
             ],
             [
              0.5555555555555556,
              "#d8576b"
             ],
             [
              0.6666666666666666,
              "#ed7953"
             ],
             [
              0.7777777777777778,
              "#fb9f3a"
             ],
             [
              0.8888888888888888,
              "#fdca26"
             ],
             [
              1,
              "#f0f921"
             ]
            ],
            "type": "heatmapgl"
           }
          ],
          "histogram": [
           {
            "marker": {
             "pattern": {
              "fillmode": "overlay",
              "size": 10,
              "solidity": 0.2
             }
            },
            "type": "histogram"
           }
          ],
          "histogram2d": [
           {
            "colorbar": {
             "outlinewidth": 0,
             "ticks": ""
            },
            "colorscale": [
             [
              0,
              "#0d0887"
             ],
             [
              0.1111111111111111,
              "#46039f"
             ],
             [
              0.2222222222222222,
              "#7201a8"
             ],
             [
              0.3333333333333333,
              "#9c179e"
             ],
             [
              0.4444444444444444,
              "#bd3786"
             ],
             [
              0.5555555555555556,
              "#d8576b"
             ],
             [
              0.6666666666666666,
              "#ed7953"
             ],
             [
              0.7777777777777778,
              "#fb9f3a"
             ],
             [
              0.8888888888888888,
              "#fdca26"
             ],
             [
              1,
              "#f0f921"
             ]
            ],
            "type": "histogram2d"
           }
          ],
          "histogram2dcontour": [
           {
            "colorbar": {
             "outlinewidth": 0,
             "ticks": ""
            },
            "colorscale": [
             [
              0,
              "#0d0887"
             ],
             [
              0.1111111111111111,
              "#46039f"
             ],
             [
              0.2222222222222222,
              "#7201a8"
             ],
             [
              0.3333333333333333,
              "#9c179e"
             ],
             [
              0.4444444444444444,
              "#bd3786"
             ],
             [
              0.5555555555555556,
              "#d8576b"
             ],
             [
              0.6666666666666666,
              "#ed7953"
             ],
             [
              0.7777777777777778,
              "#fb9f3a"
             ],
             [
              0.8888888888888888,
              "#fdca26"
             ],
             [
              1,
              "#f0f921"
             ]
            ],
            "type": "histogram2dcontour"
           }
          ],
          "mesh3d": [
           {
            "colorbar": {
             "outlinewidth": 0,
             "ticks": ""
            },
            "type": "mesh3d"
           }
          ],
          "parcoords": [
           {
            "line": {
             "colorbar": {
              "outlinewidth": 0,
              "ticks": ""
             }
            },
            "type": "parcoords"
           }
          ],
          "pie": [
           {
            "automargin": true,
            "type": "pie"
           }
          ],
          "scatter": [
           {
            "fillpattern": {
             "fillmode": "overlay",
             "size": 10,
             "solidity": 0.2
            },
            "type": "scatter"
           }
          ],
          "scatter3d": [
           {
            "line": {
             "colorbar": {
              "outlinewidth": 0,
              "ticks": ""
             }
            },
            "marker": {
             "colorbar": {
              "outlinewidth": 0,
              "ticks": ""
             }
            },
            "type": "scatter3d"
           }
          ],
          "scattercarpet": [
           {
            "marker": {
             "colorbar": {
              "outlinewidth": 0,
              "ticks": ""
             }
            },
            "type": "scattercarpet"
           }
          ],
          "scattergeo": [
           {
            "marker": {
             "colorbar": {
              "outlinewidth": 0,
              "ticks": ""
             }
            },
            "type": "scattergeo"
           }
          ],
          "scattergl": [
           {
            "marker": {
             "colorbar": {
              "outlinewidth": 0,
              "ticks": ""
             }
            },
            "type": "scattergl"
           }
          ],
          "scattermapbox": [
           {
            "marker": {
             "colorbar": {
              "outlinewidth": 0,
              "ticks": ""
             }
            },
            "type": "scattermapbox"
           }
          ],
          "scatterpolar": [
           {
            "marker": {
             "colorbar": {
              "outlinewidth": 0,
              "ticks": ""
             }
            },
            "type": "scatterpolar"
           }
          ],
          "scatterpolargl": [
           {
            "marker": {
             "colorbar": {
              "outlinewidth": 0,
              "ticks": ""
             }
            },
            "type": "scatterpolargl"
           }
          ],
          "scatterternary": [
           {
            "marker": {
             "colorbar": {
              "outlinewidth": 0,
              "ticks": ""
             }
            },
            "type": "scatterternary"
           }
          ],
          "surface": [
           {
            "colorbar": {
             "outlinewidth": 0,
             "ticks": ""
            },
            "colorscale": [
             [
              0,
              "#0d0887"
             ],
             [
              0.1111111111111111,
              "#46039f"
             ],
             [
              0.2222222222222222,
              "#7201a8"
             ],
             [
              0.3333333333333333,
              "#9c179e"
             ],
             [
              0.4444444444444444,
              "#bd3786"
             ],
             [
              0.5555555555555556,
              "#d8576b"
             ],
             [
              0.6666666666666666,
              "#ed7953"
             ],
             [
              0.7777777777777778,
              "#fb9f3a"
             ],
             [
              0.8888888888888888,
              "#fdca26"
             ],
             [
              1,
              "#f0f921"
             ]
            ],
            "type": "surface"
           }
          ],
          "table": [
           {
            "cells": {
             "fill": {
              "color": "#EBF0F8"
             },
             "line": {
              "color": "white"
             }
            },
            "header": {
             "fill": {
              "color": "#C8D4E3"
             },
             "line": {
              "color": "white"
             }
            },
            "type": "table"
           }
          ]
         },
         "layout": {
          "annotationdefaults": {
           "arrowcolor": "#2a3f5f",
           "arrowhead": 0,
           "arrowwidth": 1
          },
          "autotypenumbers": "strict",
          "coloraxis": {
           "colorbar": {
            "outlinewidth": 0,
            "ticks": ""
           }
          },
          "colorscale": {
           "diverging": [
            [
             0,
             "#8e0152"
            ],
            [
             0.1,
             "#c51b7d"
            ],
            [
             0.2,
             "#de77ae"
            ],
            [
             0.3,
             "#f1b6da"
            ],
            [
             0.4,
             "#fde0ef"
            ],
            [
             0.5,
             "#f7f7f7"
            ],
            [
             0.6,
             "#e6f5d0"
            ],
            [
             0.7,
             "#b8e186"
            ],
            [
             0.8,
             "#7fbc41"
            ],
            [
             0.9,
             "#4d9221"
            ],
            [
             1,
             "#276419"
            ]
           ],
           "sequential": [
            [
             0,
             "#0d0887"
            ],
            [
             0.1111111111111111,
             "#46039f"
            ],
            [
             0.2222222222222222,
             "#7201a8"
            ],
            [
             0.3333333333333333,
             "#9c179e"
            ],
            [
             0.4444444444444444,
             "#bd3786"
            ],
            [
             0.5555555555555556,
             "#d8576b"
            ],
            [
             0.6666666666666666,
             "#ed7953"
            ],
            [
             0.7777777777777778,
             "#fb9f3a"
            ],
            [
             0.8888888888888888,
             "#fdca26"
            ],
            [
             1,
             "#f0f921"
            ]
           ],
           "sequentialminus": [
            [
             0,
             "#0d0887"
            ],
            [
             0.1111111111111111,
             "#46039f"
            ],
            [
             0.2222222222222222,
             "#7201a8"
            ],
            [
             0.3333333333333333,
             "#9c179e"
            ],
            [
             0.4444444444444444,
             "#bd3786"
            ],
            [
             0.5555555555555556,
             "#d8576b"
            ],
            [
             0.6666666666666666,
             "#ed7953"
            ],
            [
             0.7777777777777778,
             "#fb9f3a"
            ],
            [
             0.8888888888888888,
             "#fdca26"
            ],
            [
             1,
             "#f0f921"
            ]
           ]
          },
          "colorway": [
           "#636efa",
           "#EF553B",
           "#00cc96",
           "#ab63fa",
           "#FFA15A",
           "#19d3f3",
           "#FF6692",
           "#B6E880",
           "#FF97FF",
           "#FECB52"
          ],
          "font": {
           "color": "#2a3f5f"
          },
          "geo": {
           "bgcolor": "white",
           "lakecolor": "white",
           "landcolor": "#E5ECF6",
           "showlakes": true,
           "showland": true,
           "subunitcolor": "white"
          },
          "hoverlabel": {
           "align": "left"
          },
          "hovermode": "closest",
          "mapbox": {
           "style": "light"
          },
          "paper_bgcolor": "white",
          "plot_bgcolor": "#E5ECF6",
          "polar": {
           "angularaxis": {
            "gridcolor": "white",
            "linecolor": "white",
            "ticks": ""
           },
           "bgcolor": "#E5ECF6",
           "radialaxis": {
            "gridcolor": "white",
            "linecolor": "white",
            "ticks": ""
           }
          },
          "scene": {
           "xaxis": {
            "backgroundcolor": "#E5ECF6",
            "gridcolor": "white",
            "gridwidth": 2,
            "linecolor": "white",
            "showbackground": true,
            "ticks": "",
            "zerolinecolor": "white"
           },
           "yaxis": {
            "backgroundcolor": "#E5ECF6",
            "gridcolor": "white",
            "gridwidth": 2,
            "linecolor": "white",
            "showbackground": true,
            "ticks": "",
            "zerolinecolor": "white"
           },
           "zaxis": {
            "backgroundcolor": "#E5ECF6",
            "gridcolor": "white",
            "gridwidth": 2,
            "linecolor": "white",
            "showbackground": true,
            "ticks": "",
            "zerolinecolor": "white"
           }
          },
          "shapedefaults": {
           "line": {
            "color": "#2a3f5f"
           }
          },
          "ternary": {
           "aaxis": {
            "gridcolor": "white",
            "linecolor": "white",
            "ticks": ""
           },
           "baxis": {
            "gridcolor": "white",
            "linecolor": "white",
            "ticks": ""
           },
           "bgcolor": "#E5ECF6",
           "caxis": {
            "gridcolor": "white",
            "linecolor": "white",
            "ticks": ""
           }
          },
          "title": {
           "x": 0.05
          },
          "xaxis": {
           "automargin": true,
           "gridcolor": "white",
           "linecolor": "white",
           "ticks": "",
           "title": {
            "standoff": 15
           },
           "zerolinecolor": "white",
           "zerolinewidth": 2
          },
          "yaxis": {
           "automargin": true,
           "gridcolor": "white",
           "linecolor": "white",
           "ticks": "",
           "title": {
            "standoff": 15
           },
           "zerolinecolor": "white",
           "zerolinewidth": 2
          }
         }
        },
        "xaxis": {
         "anchor": "y",
         "domain": [
          0,
          0.235
         ]
        },
        "xaxis10": {
         "anchor": "y10",
         "domain": [
          0.255,
          0.49
         ],
         "matches": "x",
         "showticklabels": false
        },
        "xaxis11": {
         "anchor": "y11",
         "domain": [
          0.51,
          0.745
         ],
         "matches": "x",
         "showticklabels": false
        },
        "xaxis12": {
         "anchor": "y12",
         "domain": [
          0.7649999999999999,
          0.9999999999999999
         ],
         "matches": "x",
         "showticklabels": false
        },
        "xaxis2": {
         "anchor": "y2",
         "domain": [
          0.255,
          0.49
         ],
         "matches": "x"
        },
        "xaxis3": {
         "anchor": "y3",
         "domain": [
          0.51,
          0.745
         ],
         "matches": "x"
        },
        "xaxis4": {
         "anchor": "y4",
         "domain": [
          0.7649999999999999,
          0.9999999999999999
         ],
         "matches": "x"
        },
        "xaxis5": {
         "anchor": "y5",
         "domain": [
          0,
          0.235
         ],
         "matches": "x",
         "showticklabels": false
        },
        "xaxis6": {
         "anchor": "y6",
         "domain": [
          0.255,
          0.49
         ],
         "matches": "x",
         "showticklabels": false
        },
        "xaxis7": {
         "anchor": "y7",
         "domain": [
          0.51,
          0.745
         ],
         "matches": "x",
         "showticklabels": false
        },
        "xaxis8": {
         "anchor": "y8",
         "domain": [
          0.7649999999999999,
          0.9999999999999999
         ],
         "matches": "x",
         "showticklabels": false
        },
        "xaxis9": {
         "anchor": "y9",
         "domain": [
          0,
          0.235
         ],
         "matches": "x",
         "showticklabels": false
        },
        "yaxis": {
         "anchor": "x",
         "domain": [
          0,
          0.2866666666666666
         ]
        },
        "yaxis10": {
         "anchor": "x10",
         "domain": [
          0.7133333333333333,
          0.9999999999999999
         ],
         "matches": "y",
         "showticklabels": false
        },
        "yaxis11": {
         "anchor": "x11",
         "domain": [
          0.7133333333333333,
          0.9999999999999999
         ],
         "matches": "y",
         "showticklabels": false
        },
        "yaxis12": {
         "anchor": "x12",
         "domain": [
          0.7133333333333333,
          0.9999999999999999
         ],
         "matches": "y",
         "showticklabels": false
        },
        "yaxis2": {
         "anchor": "x2",
         "domain": [
          0,
          0.2866666666666666
         ],
         "matches": "y",
         "showticklabels": false
        },
        "yaxis3": {
         "anchor": "x3",
         "domain": [
          0,
          0.2866666666666666
         ],
         "matches": "y",
         "showticklabels": false
        },
        "yaxis4": {
         "anchor": "x4",
         "domain": [
          0,
          0.2866666666666666
         ],
         "matches": "y",
         "showticklabels": false
        },
        "yaxis5": {
         "anchor": "x5",
         "domain": [
          0.35666666666666663,
          0.6433333333333333
         ],
         "matches": "y"
        },
        "yaxis6": {
         "anchor": "x6",
         "domain": [
          0.35666666666666663,
          0.6433333333333333
         ],
         "matches": "y",
         "showticklabels": false
        },
        "yaxis7": {
         "anchor": "x7",
         "domain": [
          0.35666666666666663,
          0.6433333333333333
         ],
         "matches": "y",
         "showticklabels": false
        },
        "yaxis8": {
         "anchor": "x8",
         "domain": [
          0.35666666666666663,
          0.6433333333333333
         ],
         "matches": "y",
         "showticklabels": false
        },
        "yaxis9": {
         "anchor": "x9",
         "domain": [
          0.7133333333333333,
          0.9999999999999999
         ],
         "matches": "y"
        }
       }
      }
     },
     "metadata": {},
     "output_type": "display_data"
    }
   ],
   "source": [
    "IMGS_IDX = [0, 1, 5673, 5494, 2, 55, 66, 776, 564]\n",
    "x = x_train[IMGS_IDX]\n",
    "y = y_train[IMGS_IDX]\n",
    "px.imshow(x, facet_col=0, facet_col_wrap=4)"
   ]
  },
  {
   "cell_type": "markdown",
   "metadata": {},
   "source": [
    "### Model declaration"
   ]
  },
  {
   "cell_type": "code",
   "execution_count": 31,
   "metadata": {},
   "outputs": [],
   "source": [
    "def create_nn() -> list[Layer]:\n",
    "    return [\n",
    "        Convolutional((10, 7, 7, 3)),\n",
    "        BatchNorm(),\n",
    "        Relu(),\n",
    "        MaxPool((2, 2)),\n",
    "        # Convolutional((20, 3, 3, 10)),\n",
    "        # BatchNorm(),\n",
    "        # Relu(),\n",
    "        # MaxPool((2, 2)),\n",
    "        Flatten(),\n",
    "        Linear(1690, 300),\n",
    "        Relu(),\n",
    "        Linear(300, y.shape[1]),\n",
    "        Softmax(),\n",
    "    ]"
   ]
  },
  {
   "cell_type": "markdown",
   "metadata": {},
   "source": [
    "## Training"
   ]
  },
  {
   "cell_type": "code",
   "execution_count": 32,
   "metadata": {},
   "outputs": [
    {
     "data": {
      "application/vnd.jupyter.widget-view+json": {
       "model_id": "67d602289f1a43ab957875e887c6cc0b",
       "version_major": 2,
       "version_minor": 0
      },
      "text/plain": [
       "FigureWidget({\n",
       "    'data': [{'hovertemplate': 'variable=loss<br>epoch=%{x}<br>value=%{y}<extra></extra>',\n",
       "              'legendgroup': 'loss',\n",
       "              'marker': {'color': '#636efa', 'symbol': 'circle'},\n",
       "              'mode': 'markers',\n",
       "              'name': 'loss',\n",
       "              'orientation': 'v',\n",
       "              'showlegend': True,\n",
       "              'type': 'scatter',\n",
       "              'uid': '69c76af0-5332-4d67-b139-d9999861351b',\n",
       "              'x': array([0]),\n",
       "              'xaxis': 'x2',\n",
       "              'y': array([0.32509669]),\n",
       "              'yaxis': 'y2'},\n",
       "             {'hovertemplate': 'variable=accuracy<br>epoch=%{x}<br>value=%{y}<extra></extra>',\n",
       "              'legendgroup': 'accuracy',\n",
       "              'marker': {'color': '#EF553B', 'symbol': 'circle'},\n",
       "              'mode': 'markers',\n",
       "              'name': 'accuracy',\n",
       "              'orientation': 'v',\n",
       "              'showlegend': True,\n",
       "              'type': 'scatter',\n",
       "              'uid': 'c82e153b-e4eb-408d-b2b3-ee027067eb8a',\n",
       "              'x': array([0]),\n",
       "              'xaxis': 'x',\n",
       "              'y': array([0.]),\n",
       "              'yaxis': 'y'}],\n",
       "    'layout': {'annotations': [{'showarrow': False,\n",
       "                                'text': 'variable=accuracy',\n",
       "                                'textangle': 90,\n",
       "                                'x': 0.98,\n",
       "                                'xanchor': 'left',\n",
       "                                'xref': 'paper',\n",
       "                                'y': 0.2425,\n",
       "                                'yanchor': 'middle',\n",
       "                                'yref': 'paper'},\n",
       "                               {'showarrow': False,\n",
       "                                'text': 'variable=loss',\n",
       "                                'textangle': 90,\n",
       "                                'x': 0.98,\n",
       "                                'xanchor': 'left',\n",
       "                                'xref': 'paper',\n",
       "                                'y': 0.7575000000000001,\n",
       "                                'yanchor': 'middle',\n",
       "                                'yref': 'paper'}],\n",
       "               'legend': {'title': {'text': 'variable'}, 'tracegroupgap': 0},\n",
       "               'margin': {'t': 60},\n",
       "               'template': '...',\n",
       "               'xaxis': {'anchor': 'y', 'domain': [0.0, 0.98], 'title': {'text': 'epoch'}},\n",
       "               'xaxis2': {'anchor': 'y2', 'domain': [0.0, 0.98], 'matches': 'x', 'showticklabels': False},\n",
       "               'yaxis': {'anchor': 'x', 'domain': [0.0, 0.485], 'title': {'text': 'value'}},\n",
       "               'yaxis2': {'anchor': 'x2', 'domain': [0.515, 1.0], 'title': {'text': 'value'}}}\n",
       "})"
      ]
     },
     "metadata": {},
     "output_type": "display_data"
    }
   ],
   "source": [
    "training_stats = (\n",
    "    Adam(\n",
    "        create_nn(),\n",
    "        x,\n",
    "        y,\n",
    "        BinaryCrossentropy(),\n",
    "        starting_lr=0.05,\n",
    "        lr_decay=0.0005,\n",
    "        momentum_weight=0.9,\n",
    "        ada_grad_weight=0.9,\n",
    "    )\n",
    "    .optimize_nn(\n",
    "        epochs=10,\n",
    "        batch_size=128,\n",
    "        plt_x=\"epoch\",\n",
    "        plt_ys=[\"loss\", \"accuracy\"]\n",
    "    )\n",
    ")"
   ]
  },
  {
   "cell_type": "code",
   "execution_count": 33,
   "metadata": {},
   "outputs": [
    {
     "data": {
      "text/plain": [
       "(10000, 32, 32, 3)"
      ]
     },
     "execution_count": 33,
     "metadata": {},
     "output_type": "execute_result"
    }
   ],
   "source": [
    "N_SAMPLES_PER_CLASS = 1000\n",
    "NB_CLASSES = 10\n",
    "\n",
    "class_masks = y_train.argmax(1, keepdims=True) == np.arange(NB_CLASSES)\n",
    "take_first_n_of_class = lambda data, class_idx: data[class_masks[:, class_idx]][:N_SAMPLES_PER_CLASS]\n",
    "take_first_n_of_each_class = lambda data: np.concatenate([take_first_n_of_class(data, class_idx) for class_idx in range(NB_CLASSES)], axis=0)\n",
    "even_x_train = take_first_n_of_each_class(x_train)\n",
    "even_y_train = take_first_n_of_each_class(y_train)\n",
    "even_x_train.shape"
   ]
  },
  {
   "cell_type": "code",
   "execution_count": 34,
   "metadata": {},
   "outputs": [],
   "source": [
    "bad_nn = create_nn()\n",
    "bad_optimizer = Adam(\n",
    "    bad_nn,\n",
    "    even_x_train,\n",
    "    even_y_train,\n",
    "    BinaryCrossentropy(),\n",
    "    starting_lr=0.015,\n",
    "    lr_decay=0.0001,\n",
    "    momentum_weight=0.75,\n",
    "    ada_grad_weight=0.999,\n",
    ")"
   ]
  },
  {
   "cell_type": "code",
   "execution_count": 35,
   "metadata": {},
   "outputs": [
    {
     "data": {
      "application/vnd.jupyter.widget-view+json": {
       "model_id": "b4634266ec584111b05451c71a7b8e3d",
       "version_major": 2,
       "version_minor": 0
      },
      "text/plain": [
       "FigureWidget({\n",
       "    'data': [{'hovertemplate': 'variable=loss<br>epoch=%{x}<br>value=%{y}<extra></extra>',\n",
       "              'legendgroup': 'loss',\n",
       "              'marker': {'color': '#636efa', 'symbol': 'circle'},\n",
       "              'mode': 'markers',\n",
       "              'name': 'loss',\n",
       "              'orientation': 'v',\n",
       "              'showlegend': True,\n",
       "              'type': 'scatter',\n",
       "              'uid': '77bdfc20-abc2-4892-a06d-dd55a243138f',\n",
       "              'x': array([0]),\n",
       "              'xaxis': 'x3',\n",
       "              'y': array([0.32508227]),\n",
       "              'yaxis': 'y3'},\n",
       "             {'hovertemplate': 'variable=accuracy<br>epoch=%{x}<br>value=%{y}<extra></extra>',\n",
       "              'legendgroup': 'accuracy',\n",
       "              'marker': {'color': '#EF553B', 'symbol': 'circle'},\n",
       "              'mode': 'markers',\n",
       "              'name': 'accuracy',\n",
       "              'orientation': 'v',\n",
       "              'showlegend': True,\n",
       "              'type': 'scatter',\n",
       "              'uid': 'd2332178-ee28-4754-a0da-30071a8c6403',\n",
       "              'x': array([0]),\n",
       "              'xaxis': 'x2',\n",
       "              'y': array([0.1124]),\n",
       "              'yaxis': 'y2'},\n",
       "             {'hovertemplate': 'variable=learning_rate<br>epoch=%{x}<br>value=%{y}<extra></extra>',\n",
       "              'legendgroup': 'learning_rate',\n",
       "              'marker': {'color': '#00cc96', 'symbol': 'circle'},\n",
       "              'mode': 'markers',\n",
       "              'name': 'learning_rate',\n",
       "              'orientation': 'v',\n",
       "              'showlegend': True,\n",
       "              'type': 'scatter',\n",
       "              'uid': 'e98de0be-6c87-4edb-97dd-124d87c03fe0',\n",
       "              'x': array([0]),\n",
       "              'xaxis': 'x',\n",
       "              'y': array([0.015]),\n",
       "              'yaxis': 'y'}],\n",
       "    'layout': {'annotations': [{'showarrow': False,\n",
       "                                'text': 'variable=learning_rate',\n",
       "                                'textangle': 90,\n",
       "                                'x': 0.98,\n",
       "                                'xanchor': 'left',\n",
       "                                'xref': 'paper',\n",
       "                                'y': 0.15666666666666665,\n",
       "                                'yanchor': 'middle',\n",
       "                                'yref': 'paper'},\n",
       "                               {'showarrow': False,\n",
       "                                'text': 'variable=accuracy',\n",
       "                                'textangle': 90,\n",
       "                                'x': 0.98,\n",
       "                                'xanchor': 'left',\n",
       "                                'xref': 'paper',\n",
       "                                'y': 0.4999999999999999,\n",
       "                                'yanchor': 'middle',\n",
       "                                'yref': 'paper'},\n",
       "                               {'showarrow': False,\n",
       "                                'text': 'variable=loss',\n",
       "                                'textangle': 90,\n",
       "                                'x': 0.98,\n",
       "                                'xanchor': 'left',\n",
       "                                'xref': 'paper',\n",
       "                                'y': 0.8433333333333332,\n",
       "                                'yanchor': 'middle',\n",
       "                                'yref': 'paper'}],\n",
       "               'height': 650,\n",
       "               'legend': {'title': {'text': 'variable'}, 'tracegroupgap': 0},\n",
       "               'margin': {'t': 60},\n",
       "               'template': '...',\n",
       "               'xaxis': {'anchor': 'y', 'domain': [0.0, 0.98], 'title': {'text': 'epoch'}},\n",
       "               'xaxis2': {'anchor': 'y2', 'domain': [0.0, 0.98], 'matches': 'x', 'showticklabels': False},\n",
       "               'xaxis3': {'anchor': 'y3', 'domain': [0.0, 0.98], 'matches': 'x', 'showticklabels': False},\n",
       "               'yaxis': {'anchor': 'x', 'domain': [0.0, 0.3133333333333333], 'title': {'text': 'value'}},\n",
       "               'yaxis2': {'anchor': 'x2', 'domain': [0.34333333333333327, 0.6566666666666665], 'title': {'text': 'value'}},\n",
       "               'yaxis3': {'anchor': 'x3', 'domain': [0.6866666666666665, 0.9999999999999998], 'title': {'text': 'value'}}}\n",
       "})"
      ]
     },
     "metadata": {},
     "output_type": "display_data"
    },
    {
     "name": "stdout",
     "output_type": "stream",
     "text": [
      "Caught KeyboardInterrupt exception, returning training metrics.\n"
     ]
    }
   ],
   "source": [
    "bad_training_stats = (\n",
    "    bad_optimizer\n",
    "    .optimize_nn(\n",
    "        epochs=100,\n",
    "        batch_size=500,\n",
    "        metrics=[accuracy],\n",
    "        plt_x=\"epoch\",\n",
    "        plt_ys=[\n",
    "            \"loss\",\n",
    "            \"accuracy\",\n",
    "            \"learning_rate\",\n",
    "        ],\n",
    "        height=650,\n",
    "    )\n",
    ")"
   ]
  },
  {
   "cell_type": "code",
   "execution_count": 36,
   "metadata": {},
   "outputs": [
    {
     "name": "stdout",
     "output_type": "stream",
     "text": [
      "metric recording: 1092.1415445804596s\n",
      "steps performing: 4653.3830235004425s\n"
     ]
    }
   ],
   "source": [
    "from time_utils import print_time_dict\n",
    "print_time_dict()"
   ]
  },
  {
   "cell_type": "code",
   "execution_count": 37,
   "metadata": {},
   "outputs": [
    {
     "data": {
      "text/plain": [
       "loss        0.05057\n",
       "accuracy    0.90380\n",
       "dtype: float64"
      ]
     },
     "metadata": {},
     "output_type": "display_data"
    }
   ],
   "source": [
    "display(bad_training_stats.agg({\"loss\":\"min\", \"accuracy\":\"max\"}))"
   ]
  },
  {
   "cell_type": "code",
   "execution_count": 38,
   "metadata": {},
   "outputs": [
    {
     "data": {
      "text/plain": [
       "{'accuracy': np.float64(0.4183)}"
      ]
     },
     "execution_count": 38,
     "metadata": {},
     "output_type": "execute_result"
    }
   ],
   "source": [
    "from functools import reduce\n",
    "\n",
    "y_test_pred = reduce(lambda x, l: l.forward(x), bad_nn, x_test)\n",
    "accuracy({}, y_test_pred, y_test)"
   ]
  },
  {
   "cell_type": "code",
   "execution_count": null,
   "metadata": {},
   "outputs": [
    {
     "name": "stdout",
     "output_type": "stream",
     "text": [
      "0 accuracy: 0.1\n",
      "1 accuracy: 0.1148\n",
      "2 accuracy: 0.1\n",
      "3 accuracy: 0.6314\n",
      "\n",
      "Best accuracy: 0.6314\n"
     ]
    }
   ],
   "source": [
    "from copy import deepcopy\n",
    "\n",
    "best_accuracy = 0\n",
    "try:\n",
    "    iteration = 0\n",
    "    while True:\n",
    "        starting_nn = create_nn()\n",
    "        nn = deepcopy(starting_nn)\n",
    "        optimizer = Adam(\n",
    "            nn,\n",
    "            even_x_train,   \n",
    "            even_y_train,\n",
    "            BinaryCrossentropy(),\n",
    "            starting_lr=0.025,\n",
    "            lr_decay=0.0005,\n",
    "            momentum_weight=0.9,\n",
    "            ada_grad_weight=0.999,\n",
    "        )\n",
    "        training_stats = (\n",
    "            optimizer\n",
    "            .optimize_nn(\n",
    "                epochs=50,\n",
    "                batch_size=100,\n",
    "                metrics=[accuracy, nn_params_stats, activations_stats],\n",
    "                catch_interrupt=False\n",
    "            )\n",
    "        )\n",
    "        print(iteration, \"accuracy:\", training_stats[\"accuracy\"].max())\n",
    "        if training_stats[\"accuracy\"].max() > best_accuracy:\n",
    "            best_starting_nn, best_nn, best_optimizer, best_training_stats = starting_nn, nn, optimizer, training_stats\n",
    "            best_accuracy = training_stats[\"accuracy\"].max()\n",
    "        if training_stats[\"accuracy\"].max() > 50:\n",
    "            break\n",
    "        iteration += 1\n",
    "except KeyboardInterrupt:\n",
    "    print()\n",
    "print(\"Best accuracy:\", best_accuracy)"
   ]
  },
  {
   "cell_type": "code",
   "execution_count": null,
   "metadata": {},
   "outputs": [],
   "source": [
    "nn = bad_nn"
   ]
  },
  {
   "cell_type": "code",
   "execution_count": null,
   "metadata": {},
   "outputs": [
    {
     "data": {
      "application/vnd.plotly.v1+json": {
       "config": {
        "plotlyServerURL": "https://plot.ly"
       },
       "data": [
        {
         "hovertemplate": "x: %{x}<br>y: %{y}<extra></extra>",
         "name": "0",
         "source": "data:image/png;base64,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",
         "type": "image",
         "xaxis": "x",
         "yaxis": "y"
        }
       ],
       "layout": {
        "margin": {
         "t": 60
        },
        "template": {
         "data": {
          "bar": [
           {
            "error_x": {
             "color": "#2a3f5f"
            },
            "error_y": {
             "color": "#2a3f5f"
            },
            "marker": {
             "line": {
              "color": "#E5ECF6",
              "width": 0.5
             },
             "pattern": {
              "fillmode": "overlay",
              "size": 10,
              "solidity": 0.2
             }
            },
            "type": "bar"
           }
          ],
          "barpolar": [
           {
            "marker": {
             "line": {
              "color": "#E5ECF6",
              "width": 0.5
             },
             "pattern": {
              "fillmode": "overlay",
              "size": 10,
              "solidity": 0.2
             }
            },
            "type": "barpolar"
           }
          ],
          "carpet": [
           {
            "aaxis": {
             "endlinecolor": "#2a3f5f",
             "gridcolor": "white",
             "linecolor": "white",
             "minorgridcolor": "white",
             "startlinecolor": "#2a3f5f"
            },
            "baxis": {
             "endlinecolor": "#2a3f5f",
             "gridcolor": "white",
             "linecolor": "white",
             "minorgridcolor": "white",
             "startlinecolor": "#2a3f5f"
            },
            "type": "carpet"
           }
          ],
          "choropleth": [
           {
            "colorbar": {
             "outlinewidth": 0,
             "ticks": ""
            },
            "type": "choropleth"
           }
          ],
          "contour": [
           {
            "colorbar": {
             "outlinewidth": 0,
             "ticks": ""
            },
            "colorscale": [
             [
              0,
              "#0d0887"
             ],
             [
              0.1111111111111111,
              "#46039f"
             ],
             [
              0.2222222222222222,
              "#7201a8"
             ],
             [
              0.3333333333333333,
              "#9c179e"
             ],
             [
              0.4444444444444444,
              "#bd3786"
             ],
             [
              0.5555555555555556,
              "#d8576b"
             ],
             [
              0.6666666666666666,
              "#ed7953"
             ],
             [
              0.7777777777777778,
              "#fb9f3a"
             ],
             [
              0.8888888888888888,
              "#fdca26"
             ],
             [
              1,
              "#f0f921"
             ]
            ],
            "type": "contour"
           }
          ],
          "contourcarpet": [
           {
            "colorbar": {
             "outlinewidth": 0,
             "ticks": ""
            },
            "type": "contourcarpet"
           }
          ],
          "heatmap": [
           {
            "colorbar": {
             "outlinewidth": 0,
             "ticks": ""
            },
            "colorscale": [
             [
              0,
              "#0d0887"
             ],
             [
              0.1111111111111111,
              "#46039f"
             ],
             [
              0.2222222222222222,
              "#7201a8"
             ],
             [
              0.3333333333333333,
              "#9c179e"
             ],
             [
              0.4444444444444444,
              "#bd3786"
             ],
             [
              0.5555555555555556,
              "#d8576b"
             ],
             [
              0.6666666666666666,
              "#ed7953"
             ],
             [
              0.7777777777777778,
              "#fb9f3a"
             ],
             [
              0.8888888888888888,
              "#fdca26"
             ],
             [
              1,
              "#f0f921"
             ]
            ],
            "type": "heatmap"
           }
          ],
          "heatmapgl": [
           {
            "colorbar": {
             "outlinewidth": 0,
             "ticks": ""
            },
            "colorscale": [
             [
              0,
              "#0d0887"
             ],
             [
              0.1111111111111111,
              "#46039f"
             ],
             [
              0.2222222222222222,
              "#7201a8"
             ],
             [
              0.3333333333333333,
              "#9c179e"
             ],
             [
              0.4444444444444444,
              "#bd3786"
             ],
             [
              0.5555555555555556,
              "#d8576b"
             ],
             [
              0.6666666666666666,
              "#ed7953"
             ],
             [
              0.7777777777777778,
              "#fb9f3a"
             ],
             [
              0.8888888888888888,
              "#fdca26"
             ],
             [
              1,
              "#f0f921"
             ]
            ],
            "type": "heatmapgl"
           }
          ],
          "histogram": [
           {
            "marker": {
             "pattern": {
              "fillmode": "overlay",
              "size": 10,
              "solidity": 0.2
             }
            },
            "type": "histogram"
           }
          ],
          "histogram2d": [
           {
            "colorbar": {
             "outlinewidth": 0,
             "ticks": ""
            },
            "colorscale": [
             [
              0,
              "#0d0887"
             ],
             [
              0.1111111111111111,
              "#46039f"
             ],
             [
              0.2222222222222222,
              "#7201a8"
             ],
             [
              0.3333333333333333,
              "#9c179e"
             ],
             [
              0.4444444444444444,
              "#bd3786"
             ],
             [
              0.5555555555555556,
              "#d8576b"
             ],
             [
              0.6666666666666666,
              "#ed7953"
             ],
             [
              0.7777777777777778,
              "#fb9f3a"
             ],
             [
              0.8888888888888888,
              "#fdca26"
             ],
             [
              1,
              "#f0f921"
             ]
            ],
            "type": "histogram2d"
           }
          ],
          "histogram2dcontour": [
           {
            "colorbar": {
             "outlinewidth": 0,
             "ticks": ""
            },
            "colorscale": [
             [
              0,
              "#0d0887"
             ],
             [
              0.1111111111111111,
              "#46039f"
             ],
             [
              0.2222222222222222,
              "#7201a8"
             ],
             [
              0.3333333333333333,
              "#9c179e"
             ],
             [
              0.4444444444444444,
              "#bd3786"
             ],
             [
              0.5555555555555556,
              "#d8576b"
             ],
             [
              0.6666666666666666,
              "#ed7953"
             ],
             [
              0.7777777777777778,
              "#fb9f3a"
             ],
             [
              0.8888888888888888,
              "#fdca26"
             ],
             [
              1,
              "#f0f921"
             ]
            ],
            "type": "histogram2dcontour"
           }
          ],
          "mesh3d": [
           {
            "colorbar": {
             "outlinewidth": 0,
             "ticks": ""
            },
            "type": "mesh3d"
           }
          ],
          "parcoords": [
           {
            "line": {
             "colorbar": {
              "outlinewidth": 0,
              "ticks": ""
             }
            },
            "type": "parcoords"
           }
          ],
          "pie": [
           {
            "automargin": true,
            "type": "pie"
           }
          ],
          "scatter": [
           {
            "fillpattern": {
             "fillmode": "overlay",
             "size": 10,
             "solidity": 0.2
            },
            "type": "scatter"
           }
          ],
          "scatter3d": [
           {
            "line": {
             "colorbar": {
              "outlinewidth": 0,
              "ticks": ""
             }
            },
            "marker": {
             "colorbar": {
              "outlinewidth": 0,
              "ticks": ""
             }
            },
            "type": "scatter3d"
           }
          ],
          "scattercarpet": [
           {
            "marker": {
             "colorbar": {
              "outlinewidth": 0,
              "ticks": ""
             }
            },
            "type": "scattercarpet"
           }
          ],
          "scattergeo": [
           {
            "marker": {
             "colorbar": {
              "outlinewidth": 0,
              "ticks": ""
             }
            },
            "type": "scattergeo"
           }
          ],
          "scattergl": [
           {
            "marker": {
             "colorbar": {
              "outlinewidth": 0,
              "ticks": ""
             }
            },
            "type": "scattergl"
           }
          ],
          "scattermapbox": [
           {
            "marker": {
             "colorbar": {
              "outlinewidth": 0,
              "ticks": ""
             }
            },
            "type": "scattermapbox"
           }
          ],
          "scatterpolar": [
           {
            "marker": {
             "colorbar": {
              "outlinewidth": 0,
              "ticks": ""
             }
            },
            "type": "scatterpolar"
           }
          ],
          "scatterpolargl": [
           {
            "marker": {
             "colorbar": {
              "outlinewidth": 0,
              "ticks": ""
             }
            },
            "type": "scatterpolargl"
           }
          ],
          "scatterternary": [
           {
            "marker": {
             "colorbar": {
              "outlinewidth": 0,
              "ticks": ""
             }
            },
            "type": "scatterternary"
           }
          ],
          "surface": [
           {
            "colorbar": {
             "outlinewidth": 0,
             "ticks": ""
            },
            "colorscale": [
             [
              0,
              "#0d0887"
             ],
             [
              0.1111111111111111,
              "#46039f"
             ],
             [
              0.2222222222222222,
              "#7201a8"
             ],
             [
              0.3333333333333333,
              "#9c179e"
             ],
             [
              0.4444444444444444,
              "#bd3786"
             ],
             [
              0.5555555555555556,
              "#d8576b"
             ],
             [
              0.6666666666666666,
              "#ed7953"
             ],
             [
              0.7777777777777778,
              "#fb9f3a"
             ],
             [
              0.8888888888888888,
              "#fdca26"
             ],
             [
              1,
              "#f0f921"
             ]
            ],
            "type": "surface"
           }
          ],
          "table": [
           {
            "cells": {
             "fill": {
              "color": "#EBF0F8"
             },
             "line": {
              "color": "white"
             }
            },
            "header": {
             "fill": {
              "color": "#C8D4E3"
             },
             "line": {
              "color": "white"
             }
            },
            "type": "table"
           }
          ]
         },
         "layout": {
          "annotationdefaults": {
           "arrowcolor": "#2a3f5f",
           "arrowhead": 0,
           "arrowwidth": 1
          },
          "autotypenumbers": "strict",
          "coloraxis": {
           "colorbar": {
            "outlinewidth": 0,
            "ticks": ""
           }
          },
          "colorscale": {
           "diverging": [
            [
             0,
             "#8e0152"
            ],
            [
             0.1,
             "#c51b7d"
            ],
            [
             0.2,
             "#de77ae"
            ],
            [
             0.3,
             "#f1b6da"
            ],
            [
             0.4,
             "#fde0ef"
            ],
            [
             0.5,
             "#f7f7f7"
            ],
            [
             0.6,
             "#e6f5d0"
            ],
            [
             0.7,
             "#b8e186"
            ],
            [
             0.8,
             "#7fbc41"
            ],
            [
             0.9,
             "#4d9221"
            ],
            [
             1,
             "#276419"
            ]
           ],
           "sequential": [
            [
             0,
             "#0d0887"
            ],
            [
             0.1111111111111111,
             "#46039f"
            ],
            [
             0.2222222222222222,
             "#7201a8"
            ],
            [
             0.3333333333333333,
             "#9c179e"
            ],
            [
             0.4444444444444444,
             "#bd3786"
            ],
            [
             0.5555555555555556,
             "#d8576b"
            ],
            [
             0.6666666666666666,
             "#ed7953"
            ],
            [
             0.7777777777777778,
             "#fb9f3a"
            ],
            [
             0.8888888888888888,
             "#fdca26"
            ],
            [
             1,
             "#f0f921"
            ]
           ],
           "sequentialminus": [
            [
             0,
             "#0d0887"
            ],
            [
             0.1111111111111111,
             "#46039f"
            ],
            [
             0.2222222222222222,
             "#7201a8"
            ],
            [
             0.3333333333333333,
             "#9c179e"
            ],
            [
             0.4444444444444444,
             "#bd3786"
            ],
            [
             0.5555555555555556,
             "#d8576b"
            ],
            [
             0.6666666666666666,
             "#ed7953"
            ],
            [
             0.7777777777777778,
             "#fb9f3a"
            ],
            [
             0.8888888888888888,
             "#fdca26"
            ],
            [
             1,
             "#f0f921"
            ]
           ]
          },
          "colorway": [
           "#636efa",
           "#EF553B",
           "#00cc96",
           "#ab63fa",
           "#FFA15A",
           "#19d3f3",
           "#FF6692",
           "#B6E880",
           "#FF97FF",
           "#FECB52"
          ],
          "font": {
           "color": "#2a3f5f"
          },
          "geo": {
           "bgcolor": "white",
           "lakecolor": "white",
           "landcolor": "#E5ECF6",
           "showlakes": true,
           "showland": true,
           "subunitcolor": "white"
          },
          "hoverlabel": {
           "align": "left"
          },
          "hovermode": "closest",
          "mapbox": {
           "style": "light"
          },
          "paper_bgcolor": "white",
          "plot_bgcolor": "#E5ECF6",
          "polar": {
           "angularaxis": {
            "gridcolor": "white",
            "linecolor": "white",
            "ticks": ""
           },
           "bgcolor": "#E5ECF6",
           "radialaxis": {
            "gridcolor": "white",
            "linecolor": "white",
            "ticks": ""
           }
          },
          "scene": {
           "xaxis": {
            "backgroundcolor": "#E5ECF6",
            "gridcolor": "white",
            "gridwidth": 2,
            "linecolor": "white",
            "showbackground": true,
            "ticks": "",
            "zerolinecolor": "white"
           },
           "yaxis": {
            "backgroundcolor": "#E5ECF6",
            "gridcolor": "white",
            "gridwidth": 2,
            "linecolor": "white",
            "showbackground": true,
            "ticks": "",
            "zerolinecolor": "white"
           },
           "zaxis": {
            "backgroundcolor": "#E5ECF6",
            "gridcolor": "white",
            "gridwidth": 2,
            "linecolor": "white",
            "showbackground": true,
            "ticks": "",
            "zerolinecolor": "white"
           }
          },
          "shapedefaults": {
           "line": {
            "color": "#2a3f5f"
           }
          },
          "ternary": {
           "aaxis": {
            "gridcolor": "white",
            "linecolor": "white",
            "ticks": ""
           },
           "baxis": {
            "gridcolor": "white",
            "linecolor": "white",
            "ticks": ""
           },
           "bgcolor": "#E5ECF6",
           "caxis": {
            "gridcolor": "white",
            "linecolor": "white",
            "ticks": ""
           }
          },
          "title": {
           "x": 0.05
          },
          "xaxis": {
           "automargin": true,
           "gridcolor": "white",
           "linecolor": "white",
           "ticks": "",
           "title": {
            "standoff": 15
           },
           "zerolinecolor": "white",
           "zerolinewidth": 2
          },
          "yaxis": {
           "automargin": true,
           "gridcolor": "white",
           "linecolor": "white",
           "ticks": "",
           "title": {
            "standoff": 15
           },
           "zerolinecolor": "white",
           "zerolinewidth": 2
          }
         }
        },
        "xaxis": {
         "anchor": "y",
         "domain": [
          0,
          1
         ]
        },
        "yaxis": {
         "anchor": "x",
         "domain": [
          0,
          1
         ]
        }
       }
      }
     },
     "metadata": {},
     "output_type": "display_data"
    }
   ],
   "source": [
    "px.imshow(x_train[231])"
   ]
  },
  {
   "cell_type": "code",
   "execution_count": null,
   "metadata": {},
   "outputs": [
    {
     "data": {
      "text/plain": [
       "array([0., 0., 0., 0., 0., 0., 0., 1., 0., 0.])"
      ]
     },
     "execution_count": 39,
     "metadata": {},
     "output_type": "execute_result"
    }
   ],
   "source": [
    "y_train[230]"
   ]
  },
  {
   "cell_type": "code",
   "execution_count": null,
   "metadata": {},
   "outputs": [
    {
     "data": {
      "text/plain": [
       "[<layers.Convolutional at 0x7f5782c627b0>,\n",
       " <layers.BatchNorm at 0x7f57d042cb00>,\n",
       " <layers.Relu at 0x7f5782237590>,\n",
       " <layers.MaxPool at 0x7f5782237290>,\n",
       " <layers.Flatten at 0x7f57822368a0>,\n",
       " <layers.Linear at 0x7f5782237020>,\n",
       " <layers.Relu at 0x7f5782b81fa0>,\n",
       " <layers.Linear at 0x7f5782236a50>,\n",
       " <layers.Softmax at 0x7f57d042c980>]"
      ]
     },
     "execution_count": 44,
     "metadata": {},
     "output_type": "execute_result"
    }
   ],
   "source": [
    "nn"
   ]
  },
  {
   "cell_type": "code",
   "execution_count": null,
   "metadata": {},
   "outputs": [
    {
     "data": {
      "application/vnd.plotly.v1+json": {
       "config": {
        "plotlyServerURL": "https://plot.ly"
       },
       "data": [
        {
         "coloraxis": "coloraxis",
         "hovertemplate": "x: %{x}<br>y: %{y}<br>color: %{z}<extra></extra>",
         "name": "0",
         "type": "heatmap",
         "xaxis": "x",
         "yaxis": "y",
         "z": [
          [
           0,
           0,
           0,
           0,
           0,
           0,
           0,
           0,
           0,
           0,
           0,
           0,
           0
          ],
          [
           0,
           0,
           0,
           0,
           0,
           0,
           0,
           0,
           0,
           0,
           0,
           0,
           0
          ],
          [
           0,
           0,
           0,
           0,
           0,
           0,
           0,
           0,
           0,
           0,
           0,
           0,
           0
          ],
          [
           0,
           0,
           0,
           0,
           0,
           0,
           0,
           0,
           0,
           0,
           0,
           0,
           0
          ],
          [
           0,
           0,
           0,
           0,
           0,
           0,
           0,
           0,
           0,
           0,
           0,
           0,
           0
          ],
          [
           0,
           0,
           0,
           0,
           0,
           0,
           0,
           0,
           0,
           0,
           0,
           0,
           0
          ],
          [
           0,
           0,
           0,
           0,
           0,
           0,
           0,
           0,
           0,
           0,
           0,
           0,
           0
          ],
          [
           0,
           0,
           0,
           0,
           0,
           0,
           0,
           0,
           0,
           0,
           0,
           0,
           0
          ],
          [
           0,
           0,
           0,
           0,
           0,
           0,
           0,
           0,
           0,
           0,
           0,
           0,
           0
          ],
          [
           0,
           0,
           0,
           0,
           0,
           0,
           0,
           0,
           0,
           0,
           0,
           0,
           0
          ],
          [
           0,
           0,
           0,
           0,
           0,
           0,
           0,
           0,
           0,
           0,
           0,
           0,
           0
          ],
          [
           0,
           0,
           0,
           0,
           0,
           0,
           0,
           0,
           0,
           0,
           0,
           0,
           0
          ],
          [
           0,
           0,
           0,
           0,
           0,
           0,
           0,
           0,
           0,
           0,
           0,
           0,
           0
          ]
         ]
        },
        {
         "coloraxis": "coloraxis",
         "hovertemplate": "x: %{x}<br>y: %{y}<br>color: %{z}<extra></extra>",
         "name": "1",
         "type": "heatmap",
         "xaxis": "x2",
         "yaxis": "y2",
         "z": [
          [
           0,
           0,
           0,
           0,
           0,
           0,
           0,
           0,
           0,
           0,
           0,
           0,
           0
          ],
          [
           0,
           0,
           0,
           0,
           0,
           0,
           0,
           0,
           0,
           0,
           0,
           0,
           0
          ],
          [
           0,
           0,
           0,
           0,
           0,
           0,
           0,
           0,
           0,
           0,
           0,
           0,
           0
          ],
          [
           0,
           0,
           0,
           0,
           0,
           0,
           0,
           0,
           0,
           0,
           0,
           0,
           0
          ],
          [
           0,
           0,
           0,
           0,
           0,
           0,
           0,
           0,
           0,
           0,
           0,
           0,
           0
          ],
          [
           0,
           0,
           0,
           0,
           0,
           0,
           0,
           0,
           0,
           0,
           0,
           0,
           0
          ],
          [
           0,
           0,
           0,
           0,
           0,
           0,
           0,
           0,
           0,
           0,
           0,
           0,
           0
          ],
          [
           0,
           0.25871521958055,
           0.18575148335027003,
           0,
           0,
           0,
           0,
           0,
           0,
           0,
           0,
           0,
           0
          ],
          [
           0,
           0.2023259798098993,
           0.7793362011690739,
           1.0131568811659317,
           0.7865305975065873,
           0,
           0,
           0,
           0,
           0.015469199220476293,
           0,
           0,
           0
          ],
          [
           0,
           0,
           0.47868797784076045,
           1.4064258548715574,
           1.6151936375645575,
           0.23913254663176842,
           0,
           0,
           0.3915270879795356,
           0,
           0,
           0,
           0
          ],
          [
           0,
           0,
           0,
           0,
           0,
           0,
           0,
           0.10734320875862924,
           0,
           0,
           0,
           0,
           0
          ],
          [
           0,
           0,
           0,
           0,
           0,
           0,
           0,
           0,
           0,
           0,
           0,
           0,
           0
          ],
          [
           0,
           0,
           0,
           0,
           0,
           0,
           0,
           0,
           0,
           0,
           0,
           0,
           0
          ]
         ]
        },
        {
         "coloraxis": "coloraxis",
         "hovertemplate": "x: %{x}<br>y: %{y}<br>color: %{z}<extra></extra>",
         "name": "2",
         "type": "heatmap",
         "xaxis": "x3",
         "yaxis": "y3",
         "z": [
          [
           0,
           0,
           0,
           0,
           0,
           0,
           0,
           0,
           0,
           0,
           0,
           0,
           0
          ],
          [
           0,
           0,
           0,
           0,
           0,
           0,
           0,
           0,
           0,
           0,
           0,
           0,
           0
          ],
          [
           0,
           0,
           0,
           0,
           0,
           0,
           0,
           0,
           0,
           0,
           0,
           0,
           0
          ],
          [
           0,
           0,
           0,
           0,
           0,
           0,
           0,
           0,
           0,
           0,
           0,
           0,
           0
          ],
          [
           0,
           0,
           0,
           0,
           0,
           0,
           0,
           0,
           0,
           0,
           0,
           0,
           0
          ],
          [
           0,
           0,
           0,
           0,
           0,
           0,
           0,
           0,
           0,
           0,
           0,
           0,
           0
          ],
          [
           0,
           0,
           0,
           0,
           0,
           0,
           0,
           0,
           0,
           0,
           0,
           0,
           0
          ],
          [
           0,
           0,
           0,
           0,
           0,
           0,
           0,
           0,
           0,
           0,
           0,
           0,
           0
          ],
          [
           0,
           0,
           0,
           0,
           0,
           0,
           0,
           0,
           0,
           0,
           0,
           0,
           0
          ],
          [
           0,
           0,
           0,
           0,
           0,
           0,
           0,
           0,
           0,
           0,
           0,
           0,
           0
          ],
          [
           0,
           0,
           0,
           0,
           0,
           0,
           0,
           0,
           0,
           0,
           0,
           0,
           0
          ],
          [
           0,
           0,
           0,
           0,
           0,
           0,
           0,
           0,
           0,
           0,
           0,
           0,
           0
          ],
          [
           0,
           0,
           0,
           0,
           0,
           0,
           0,
           0,
           0,
           0,
           0,
           0,
           0
          ]
         ]
        },
        {
         "coloraxis": "coloraxis",
         "hovertemplate": "x: %{x}<br>y: %{y}<br>color: %{z}<extra></extra>",
         "name": "3",
         "type": "heatmap",
         "xaxis": "x4",
         "yaxis": "y4",
         "z": [
          [
           0,
           0,
           0,
           0,
           0.025095513186357277,
           0.00609296943998161,
           0,
           0,
           0,
           0.0035489513494457725,
           0,
           0,
           0
          ],
          [
           0,
           0,
           0,
           0,
           0,
           0,
           0,
           0,
           0.00885299739512968,
           0,
           0,
           0,
           0
          ],
          [
           0,
           0,
           0,
           0,
           0.1051312803321025,
           0.01491215852892358,
           0,
           0,
           0,
           0,
           0,
           0,
           0
          ],
          [
           0,
           0,
           0,
           0,
           0,
           0,
           0,
           0,
           0,
           0,
           0,
           0,
           0
          ],
          [
           0,
           0,
           0,
           0,
           0,
           0,
           0,
           0,
           0,
           0,
           0,
           0,
           0
          ],
          [
           0,
           0,
           0,
           0,
           0,
           0,
           0,
           0,
           0,
           0,
           0,
           0,
           0
          ],
          [
           0,
           0,
           0,
           0,
           0,
           0,
           0,
           0,
           0,
           0,
           0,
           0,
           0
          ],
          [
           0,
           0,
           0,
           0,
           0,
           0,
           0,
           0,
           0,
           0,
           0,
           0,
           0
          ],
          [
           0,
           0,
           0,
           0,
           0,
           0,
           0,
           0,
           0,
           0,
           0,
           0,
           0
          ],
          [
           0,
           0,
           0,
           0,
           0,
           0,
           0,
           0,
           0,
           0,
           0,
           0,
           0
          ],
          [
           0,
           0,
           0,
           0,
           0,
           0,
           0,
           0.04964665879701213,
           0,
           0,
           0,
           0,
           0
          ],
          [
           0,
           0,
           0,
           0,
           0,
           0,
           0,
           0,
           0,
           0,
           0,
           0,
           0
          ],
          [
           0,
           0,
           0,
           0,
           0,
           0,
           0,
           0,
           0,
           0,
           0,
           0,
           0
          ]
         ]
        },
        {
         "coloraxis": "coloraxis",
         "hovertemplate": "x: %{x}<br>y: %{y}<br>color: %{z}<extra></extra>",
         "name": "4",
         "type": "heatmap",
         "xaxis": "x5",
         "yaxis": "y5",
         "z": [
          [
           0,
           0,
           0,
           0,
           0,
           0.05589598094838563,
           0.04622636979664105,
           0,
           0,
           0,
           0,
           0.17899137782075578,
           0.13362671399210715
          ],
          [
           0,
           0,
           0,
           0,
           0,
           0,
           0,
           0.08223975873955777,
           0,
           0,
           0,
           0.19619135165858295,
           0.28558955289994437
          ],
          [
           0.008205166973388023,
           0.1312131063874816,
           0.05771773174947889,
           0,
           0,
           0.012053317374158101,
           0.24941467228516725,
           0.13610535309239855,
           0,
           0,
           0,
           0,
           0.1733637932678467
          ],
          [
           0,
           0,
           0,
           0,
           0,
           0,
           0.02725330562505468,
           0,
           0,
           0,
           0,
           0,
           0
          ],
          [
           0,
           0,
           0,
           0,
           0,
           0,
           0,
           0,
           0,
           0,
           0,
           0,
           0
          ],
          [
           0,
           0,
           0,
           0,
           0,
           0,
           0,
           0,
           0,
           0,
           0,
           0,
           0
          ],
          [
           0,
           0.0929853576803654,
           0,
           0.1792192321331831,
           0.23530928821319783,
           0.3366119522199946,
           0,
           0,
           0,
           0,
           0,
           0,
           0
          ],
          [
           0,
           0,
           0.2661561806065732,
           0.30262000090760866,
           0.4479644619836083,
           0.23052404460503037,
           0,
           0,
           0,
           0,
           0,
           0,
           0
          ],
          [
           0,
           0,
           0,
           0.2810134569671032,
           0.5135546199151934,
           0,
           0,
           0.315819241899016,
           0.31156155393564045,
           0,
           0,
           0,
           0
          ],
          [
           0.050621557026997804,
           0,
           0,
           0,
           0,
           0,
           0.09138345069162909,
           0.0288697088960026,
           0,
           0,
           0,
           0,
           0
          ],
          [
           0,
           0.012253962305187105,
           0,
           0,
           0,
           0.09289566077399894,
           0.14560081338057365,
           0,
           0,
           0,
           0,
           0,
           0
          ],
          [
           0,
           0,
           0,
           0,
           0,
           0,
           0,
           0,
           0,
           0,
           0,
           0,
           0
          ],
          [
           0,
           0,
           0,
           0,
           0,
           0,
           0,
           0,
           0,
           0,
           0,
           0,
           0
          ]
         ]
        },
        {
         "coloraxis": "coloraxis",
         "hovertemplate": "x: %{x}<br>y: %{y}<br>color: %{z}<extra></extra>",
         "name": "5",
         "type": "heatmap",
         "xaxis": "x6",
         "yaxis": "y6",
         "z": [
          [
           0,
           0,
           0,
           0,
           0,
           0,
           0,
           0,
           0,
           0.13920044644462348,
           0,
           0,
           0
          ],
          [
           0,
           0,
           0,
           0,
           0,
           0.14775402880164368,
           0,
           0,
           0,
           0.35912121960054466,
           0.3414067858739289,
           0,
           0
          ],
          [
           0,
           0,
           0,
           0,
           0.01622542795734061,
           0.27420535941343394,
           0,
           0,
           0,
           0.19635479006872325,
           0.2904288206312291,
           0,
           0
          ],
          [
           0,
           0,
           0,
           0,
           0.2471754710600682,
           0.32760642094430303,
           0.24047835448923527,
           0,
           0,
           0.21968611035866492,
           0.1818652177620632,
           0,
           0
          ],
          [
           0,
           0,
           0.24576446776153493,
           0.07226375382986294,
           0.4216924547536758,
           0.02562650178867787,
           0,
           0,
           0,
           0,
           0.11686881684056627,
           0,
           0
          ],
          [
           0,
           0,
           0.02328870951830031,
           0,
           0.0838545079975388,
           0.025973066810614842,
           0.042365246100737775,
           0,
           0,
           0.1504716050571322,
           0,
           0,
           0
          ],
          [
           0.4620048167303714,
           0,
           0,
           0.037687605809326286,
           0.015377569012241743,
           0.3082061568958785,
           0,
           0,
           0,
           0,
           0,
           0,
           0
          ],
          [
           0.30181650646567104,
           0,
           0,
           0,
           0,
           0.5641074293835024,
           0.710638022033933,
           0,
           0,
           0,
           0,
           0,
           0
          ],
          [
           0,
           0,
           0,
           0,
           0,
           0,
           0,
           0,
           0,
           0,
           0,
           0,
           0
          ],
          [
           0,
           0,
           0,
           0,
           0,
           0,
           0,
           0,
           0,
           0.24542805045080107,
           0.40692298075842315,
           0,
           0
          ],
          [
           0,
           0,
           0,
           0,
           0,
           0,
           0,
           0,
           0.17632162766010917,
           0.6884311690104392,
           0,
           0,
           0
          ],
          [
           0,
           0,
           0,
           0,
           0,
           0,
           0,
           0.250578903751667,
           0,
           0.17837730256139483,
           0,
           0,
           0
          ],
          [
           0,
           0,
           0,
           0,
           0,
           0,
           0,
           0,
           0,
           0,
           0,
           0,
           0
          ]
         ]
        },
        {
         "coloraxis": "coloraxis",
         "hovertemplate": "x: %{x}<br>y: %{y}<br>color: %{z}<extra></extra>",
         "name": "6",
         "type": "heatmap",
         "xaxis": "x7",
         "yaxis": "y7",
         "z": [
          [
           0,
           0,
           0,
           0,
           0,
           0,
           0,
           0,
           0,
           0,
           0,
           0,
           0
          ],
          [
           0,
           0,
           0,
           0,
           0,
           0,
           0,
           0,
           0,
           0,
           0,
           0,
           0
          ],
          [
           0,
           0,
           0,
           0,
           0,
           0,
           0,
           0,
           0,
           0,
           0,
           0,
           0
          ],
          [
           0,
           0,
           0,
           0,
           0,
           0,
           0,
           0,
           0,
           0,
           0,
           0,
           0
          ],
          [
           0,
           0,
           0,
           0,
           0,
           0,
           0,
           0,
           0,
           0,
           0,
           0,
           0
          ],
          [
           0,
           0,
           0,
           0,
           0,
           0,
           0,
           0,
           0,
           0,
           0,
           0,
           0
          ],
          [
           0,
           0,
           0,
           0,
           0,
           0,
           0,
           0,
           0,
           0,
           0,
           0,
           0
          ],
          [
           0,
           0,
           0,
           0,
           0,
           0,
           0,
           0,
           0,
           0,
           0,
           0,
           0
          ],
          [
           0,
           0,
           0,
           0,
           0,
           0,
           0,
           0,
           0,
           0,
           0,
           0,
           0
          ],
          [
           0,
           0,
           0,
           0,
           0,
           0,
           0,
           0,
           0,
           0,
           0,
           0,
           0
          ],
          [
           0,
           0,
           0,
           0,
           0,
           0,
           0,
           0,
           0,
           0,
           0,
           0,
           0
          ],
          [
           0,
           0,
           0,
           0,
           0,
           0,
           0,
           0,
           0,
           0,
           0,
           0,
           0
          ],
          [
           0,
           0,
           0,
           0,
           0,
           0,
           0,
           0,
           0,
           0,
           0,
           0,
           0
          ]
         ]
        },
        {
         "coloraxis": "coloraxis",
         "hovertemplate": "x: %{x}<br>y: %{y}<br>color: %{z}<extra></extra>",
         "name": "7",
         "type": "heatmap",
         "xaxis": "x8",
         "yaxis": "y8",
         "z": [
          [
           0.22297178150792407,
           0.1938577859462866,
           0.26248371688778543,
           0.35966329884146186,
           0.32525721141928426,
           0.4668886613374952,
           0.507082190676565,
           0.5270485238372737,
           0.47877624526410945,
           0.5085396559392826,
           0.5746970945310509,
           0.5805350217335207,
           0.5000405599741853
          ],
          [
           0.23293171286336245,
           0.22267620821800582,
           0.28389961602406105,
           0.42653083169504813,
           0.4935642168842983,
           0.45183978252833057,
           0.5010109495978569,
           0.5976350725877108,
           0.6320613620505585,
           0.5187360813463188,
           0.6687168206525763,
           0.5345718626946961,
           0.5288471846809454
          ],
          [
           0.4244799136766818,
           0.49525888637121984,
           0.47697439639486394,
           0.4570581571932213,
           0.5903065624851377,
           0.49334935388908197,
           0.6528472299390174,
           0.6483523845750588,
           0.6286591368501981,
           0.678307347378939,
           0.7000451392854269,
           0.566643921631809,
           0.49757089441008073
          ],
          [
           0.37608729296814336,
           0.5398062798780681,
           0.4429451614496943,
           0.5480456290939725,
           0.592489634932361,
           0.46221306206123025,
           0.5346145124966823,
           0.657910495330098,
           0.5744386726212031,
           0.5064028019024283,
           0.609305007295466,
           0.5201722522505459,
           0.48501642996506866
          ],
          [
           0.18505855868649201,
           0.47015372362018215,
           0.5573397965573129,
           0.4084936769814128,
           0.5291297856832354,
           0.5008033601763072,
           0.4336606047205688,
           0.5191863802013257,
           0.47406399173409597,
           0.37455516193633687,
           0.4920279304013687,
           0.41699168676749654,
           0.38426844559083373
          ],
          [
           0.017871637857534678,
           0.15171575050835284,
           0.2423306542298897,
           0.3601137749659684,
           0.31835472619136435,
           0.5738193241533102,
           0.4303742331208944,
           0.523627601616522,
           0.37206934942972625,
           0.3557576824991078,
           0.2411802595671652,
           0.2918784612022964,
           0.29975736151691135
          ],
          [
           0.2500676603690041,
           0,
           0,
           0,
           0,
           0.5027800348541007,
           0.4037074643025328,
           0.22665571555095482,
           0.13633477710853542,
           0.1971077094123504,
           0.3072057471461446,
           0.5575017742552412,
           0.2526931828408485
          ],
          [
           0.355685909927553,
           0.12346045183508658,
           0,
           0,
           0.014994574711579334,
           0.0570171867202921,
           0.07065646123692179,
           0,
           0.19722522341718618,
           0.41280183353713384,
           0.5077362882768788,
           0.3274738111028219,
           0.17246034929494303
          ],
          [
           0.13149366204022161,
           0.18453452396047093,
           0.12961255712843794,
           0.12713357314114015,
           0.2127785196517999,
           0,
           0.15535276783350788,
           0.33935746832968605,
           0.19972459958582722,
           0.49587994104801203,
           0.29587722168277797,
           0.1566872492235339,
           0.2883888148134284
          ],
          [
           0.1379665140982418,
           0.2573454037370344,
           0.24179489775784713,
           0.10175117059896766,
           0.11200646125655,
           0,
           0.33538602508208504,
           0.4030305365482758,
           0.005753680886936674,
           0.24089221093798252,
           0.2005806639891347,
           0.22032013913162884,
           0.3645526031956412
          ],
          [
           0.16459404782644582,
           0.2201922721828335,
           0.19904500651768586,
           0.18170257718931848,
           0.07761884540198966,
           0.15920034233528785,
           0.1081967794259533,
           0.2942883774840984,
           0,
           0.33485849667824397,
           0.2230262596680167,
           0.2761215338595118,
           0.23198122333452792
          ],
          [
           0.15262441864654558,
           0.23308839019417638,
           0.19418618200573046,
           0.2859444582183813,
           0.16909037562589402,
           0.22745248726590395,
           0.12513685644713213,
           0.20037846699480416,
           0.08417694614142535,
           0.2824764469541009,
           0.3396443303157677,
           0.1569630806437956,
           0.22128225959724207
          ],
          [
           0.15337571186649634,
           0.18830247903739772,
           0.1947555358185058,
           0.22810949951481074,
           0.03476167423140594,
           0.10924677557185203,
           0,
           0.2264164823594385,
           0.16591718958189322,
           0.3433415109127843,
           0.29181574969538393,
           0.17032023565219467,
           0.2649632308367257
          ]
         ]
        },
        {
         "coloraxis": "coloraxis",
         "hovertemplate": "x: %{x}<br>y: %{y}<br>color: %{z}<extra></extra>",
         "name": "8",
         "type": "heatmap",
         "xaxis": "x9",
         "yaxis": "y9",
         "z": [
          [
           0,
           0,
           0,
           0,
           0,
           0,
           0,
           0,
           0,
           0,
           0,
           0,
           0
          ],
          [
           0,
           0,
           0,
           0,
           0,
           0,
           0,
           0,
           0,
           0,
           0.09545146338194188,
           0,
           0
          ],
          [
           0,
           0,
           0,
           0,
           0.03778992240172485,
           0.07169298115885048,
           0.2114667974040001,
           0,
           0.108237709331229,
           0.0020368914011428263,
           0.13167329024453256,
           0,
           0
          ],
          [
           0,
           0,
           0,
           0,
           0,
           0,
           0,
           0,
           0.14895996000920997,
           0.3162459122618828,
           0.24464834917785616,
           0.15244135530482827,
           0
          ],
          [
           0,
           0,
           0.059494588601858966,
           0.09370882142432868,
           0,
           0,
           0,
           0,
           0,
           0.0021666871261132314,
           0,
           0.029530952758215268,
           0
          ],
          [
           0,
           0,
           0,
           0.10128172791084045,
           0,
           0.14813691372194482,
           0,
           0.0454643993863908,
           0,
           0,
           0,
           0,
           0
          ],
          [
           0,
           0,
           0,
           0,
           0,
           0,
           0,
           0,
           0,
           0,
           0,
           0,
           0
          ],
          [
           0,
           0,
           0,
           0,
           0,
           0,
           0,
           0,
           0,
           0,
           0,
           0,
           0
          ],
          [
           0,
           0,
           0,
           0,
           0,
           0,
           0,
           0.04092750495590569,
           0,
           0,
           0,
           0,
           0
          ],
          [
           0,
           0,
           0,
           0,
           0,
           0,
           0,
           0,
           0,
           0,
           0,
           0,
           0
          ],
          [
           0,
           0,
           0,
           0,
           0,
           0,
           0,
           0,
           0,
           0,
           0,
           0,
           0
          ],
          [
           0,
           0,
           0,
           0,
           0,
           0,
           0,
           0,
           0,
           0,
           0,
           0,
           0
          ],
          [
           0,
           0,
           0,
           0,
           0,
           0,
           0,
           0,
           0,
           0,
           0,
           0,
           0
          ]
         ]
        },
        {
         "coloraxis": "coloraxis",
         "hovertemplate": "x: %{x}<br>y: %{y}<br>color: %{z}<extra></extra>",
         "name": "9",
         "type": "heatmap",
         "xaxis": "x10",
         "yaxis": "y10",
         "z": [
          [
           0,
           0,
           0,
           0,
           0,
           0,
           0,
           0,
           0,
           0,
           0,
           0,
           0
          ],
          [
           0,
           0,
           0,
           0,
           0,
           0,
           0,
           0,
           0,
           0,
           0,
           0,
           0
          ],
          [
           0,
           0,
           0,
           0,
           0,
           0,
           0,
           0,
           0,
           0,
           0,
           0,
           0
          ],
          [
           0,
           0,
           0,
           0,
           0,
           0,
           0,
           0,
           0,
           0,
           0,
           0,
           0
          ],
          [
           0,
           0,
           0,
           0,
           0,
           0,
           0,
           0,
           0,
           0,
           0,
           0,
           0
          ],
          [
           0,
           0,
           0,
           0,
           0,
           0,
           0,
           0,
           0,
           0,
           0,
           0,
           0
          ],
          [
           0,
           0,
           0,
           0,
           0,
           0,
           0,
           0,
           0,
           0,
           0,
           0,
           0
          ],
          [
           0,
           0,
           0,
           0,
           0,
           0,
           0,
           0,
           0,
           0,
           0,
           0,
           0
          ],
          [
           0,
           0,
           0,
           0,
           0,
           0,
           0,
           0,
           0,
           0,
           0,
           0,
           0
          ],
          [
           0,
           0,
           0,
           0,
           0,
           0,
           0,
           0,
           0,
           0,
           0,
           0,
           0
          ],
          [
           0,
           0,
           0,
           0,
           0,
           0,
           0,
           0,
           0,
           0,
           0,
           0,
           0
          ],
          [
           0,
           0,
           0,
           0,
           0,
           0,
           0,
           0,
           0,
           0,
           0,
           0,
           0
          ],
          [
           0,
           0,
           0,
           0,
           0,
           0,
           0,
           0,
           0,
           0,
           0,
           0,
           0
          ]
         ]
        }
       ],
       "layout": {
        "annotations": [
         {
          "font": {},
          "showarrow": false,
          "text": "facet_col=0",
          "x": 0.04100000000000001,
          "xanchor": "center",
          "xref": "paper",
          "y": 1,
          "yanchor": "bottom",
          "yref": "paper"
         },
         {
          "font": {},
          "showarrow": false,
          "text": "facet_col=1",
          "x": 0.14300000000000004,
          "xanchor": "center",
          "xref": "paper",
          "y": 1,
          "yanchor": "bottom",
          "yref": "paper"
         },
         {
          "font": {},
          "showarrow": false,
          "text": "facet_col=2",
          "x": 0.24500000000000005,
          "xanchor": "center",
          "xref": "paper",
          "y": 1,
          "yanchor": "bottom",
          "yref": "paper"
         },
         {
          "font": {},
          "showarrow": false,
          "text": "facet_col=3",
          "x": 0.3470000000000001,
          "xanchor": "center",
          "xref": "paper",
          "y": 1,
          "yanchor": "bottom",
          "yref": "paper"
         },
         {
          "font": {},
          "showarrow": false,
          "text": "facet_col=4",
          "x": 0.44900000000000007,
          "xanchor": "center",
          "xref": "paper",
          "y": 1,
          "yanchor": "bottom",
          "yref": "paper"
         },
         {
          "font": {},
          "showarrow": false,
          "text": "facet_col=5",
          "x": 0.5510000000000002,
          "xanchor": "center",
          "xref": "paper",
          "y": 1,
          "yanchor": "bottom",
          "yref": "paper"
         },
         {
          "font": {},
          "showarrow": false,
          "text": "facet_col=6",
          "x": 0.6530000000000001,
          "xanchor": "center",
          "xref": "paper",
          "y": 1,
          "yanchor": "bottom",
          "yref": "paper"
         },
         {
          "font": {},
          "showarrow": false,
          "text": "facet_col=7",
          "x": 0.7550000000000001,
          "xanchor": "center",
          "xref": "paper",
          "y": 1,
          "yanchor": "bottom",
          "yref": "paper"
         },
         {
          "font": {},
          "showarrow": false,
          "text": "facet_col=8",
          "x": 0.8570000000000002,
          "xanchor": "center",
          "xref": "paper",
          "y": 1,
          "yanchor": "bottom",
          "yref": "paper"
         },
         {
          "font": {},
          "showarrow": false,
          "text": "facet_col=9",
          "x": 0.9590000000000002,
          "xanchor": "center",
          "xref": "paper",
          "y": 1,
          "yanchor": "bottom",
          "yref": "paper"
         }
        ],
        "coloraxis": {
         "colorscale": [
          [
           0,
           "#0d0887"
          ],
          [
           0.1111111111111111,
           "#46039f"
          ],
          [
           0.2222222222222222,
           "#7201a8"
          ],
          [
           0.3333333333333333,
           "#9c179e"
          ],
          [
           0.4444444444444444,
           "#bd3786"
          ],
          [
           0.5555555555555556,
           "#d8576b"
          ],
          [
           0.6666666666666666,
           "#ed7953"
          ],
          [
           0.7777777777777778,
           "#fb9f3a"
          ],
          [
           0.8888888888888888,
           "#fdca26"
          ],
          [
           1,
           "#f0f921"
          ]
         ]
        },
        "margin": {
         "t": 60
        },
        "template": {
         "data": {
          "bar": [
           {
            "error_x": {
             "color": "#2a3f5f"
            },
            "error_y": {
             "color": "#2a3f5f"
            },
            "marker": {
             "line": {
              "color": "#E5ECF6",
              "width": 0.5
             },
             "pattern": {
              "fillmode": "overlay",
              "size": 10,
              "solidity": 0.2
             }
            },
            "type": "bar"
           }
          ],
          "barpolar": [
           {
            "marker": {
             "line": {
              "color": "#E5ECF6",
              "width": 0.5
             },
             "pattern": {
              "fillmode": "overlay",
              "size": 10,
              "solidity": 0.2
             }
            },
            "type": "barpolar"
           }
          ],
          "carpet": [
           {
            "aaxis": {
             "endlinecolor": "#2a3f5f",
             "gridcolor": "white",
             "linecolor": "white",
             "minorgridcolor": "white",
             "startlinecolor": "#2a3f5f"
            },
            "baxis": {
             "endlinecolor": "#2a3f5f",
             "gridcolor": "white",
             "linecolor": "white",
             "minorgridcolor": "white",
             "startlinecolor": "#2a3f5f"
            },
            "type": "carpet"
           }
          ],
          "choropleth": [
           {
            "colorbar": {
             "outlinewidth": 0,
             "ticks": ""
            },
            "type": "choropleth"
           }
          ],
          "contour": [
           {
            "colorbar": {
             "outlinewidth": 0,
             "ticks": ""
            },
            "colorscale": [
             [
              0,
              "#0d0887"
             ],
             [
              0.1111111111111111,
              "#46039f"
             ],
             [
              0.2222222222222222,
              "#7201a8"
             ],
             [
              0.3333333333333333,
              "#9c179e"
             ],
             [
              0.4444444444444444,
              "#bd3786"
             ],
             [
              0.5555555555555556,
              "#d8576b"
             ],
             [
              0.6666666666666666,
              "#ed7953"
             ],
             [
              0.7777777777777778,
              "#fb9f3a"
             ],
             [
              0.8888888888888888,
              "#fdca26"
             ],
             [
              1,
              "#f0f921"
             ]
            ],
            "type": "contour"
           }
          ],
          "contourcarpet": [
           {
            "colorbar": {
             "outlinewidth": 0,
             "ticks": ""
            },
            "type": "contourcarpet"
           }
          ],
          "heatmap": [
           {
            "colorbar": {
             "outlinewidth": 0,
             "ticks": ""
            },
            "colorscale": [
             [
              0,
              "#0d0887"
             ],
             [
              0.1111111111111111,
              "#46039f"
             ],
             [
              0.2222222222222222,
              "#7201a8"
             ],
             [
              0.3333333333333333,
              "#9c179e"
             ],
             [
              0.4444444444444444,
              "#bd3786"
             ],
             [
              0.5555555555555556,
              "#d8576b"
             ],
             [
              0.6666666666666666,
              "#ed7953"
             ],
             [
              0.7777777777777778,
              "#fb9f3a"
             ],
             [
              0.8888888888888888,
              "#fdca26"
             ],
             [
              1,
              "#f0f921"
             ]
            ],
            "type": "heatmap"
           }
          ],
          "heatmapgl": [
           {
            "colorbar": {
             "outlinewidth": 0,
             "ticks": ""
            },
            "colorscale": [
             [
              0,
              "#0d0887"
             ],
             [
              0.1111111111111111,
              "#46039f"
             ],
             [
              0.2222222222222222,
              "#7201a8"
             ],
             [
              0.3333333333333333,
              "#9c179e"
             ],
             [
              0.4444444444444444,
              "#bd3786"
             ],
             [
              0.5555555555555556,
              "#d8576b"
             ],
             [
              0.6666666666666666,
              "#ed7953"
             ],
             [
              0.7777777777777778,
              "#fb9f3a"
             ],
             [
              0.8888888888888888,
              "#fdca26"
             ],
             [
              1,
              "#f0f921"
             ]
            ],
            "type": "heatmapgl"
           }
          ],
          "histogram": [
           {
            "marker": {
             "pattern": {
              "fillmode": "overlay",
              "size": 10,
              "solidity": 0.2
             }
            },
            "type": "histogram"
           }
          ],
          "histogram2d": [
           {
            "colorbar": {
             "outlinewidth": 0,
             "ticks": ""
            },
            "colorscale": [
             [
              0,
              "#0d0887"
             ],
             [
              0.1111111111111111,
              "#46039f"
             ],
             [
              0.2222222222222222,
              "#7201a8"
             ],
             [
              0.3333333333333333,
              "#9c179e"
             ],
             [
              0.4444444444444444,
              "#bd3786"
             ],
             [
              0.5555555555555556,
              "#d8576b"
             ],
             [
              0.6666666666666666,
              "#ed7953"
             ],
             [
              0.7777777777777778,
              "#fb9f3a"
             ],
             [
              0.8888888888888888,
              "#fdca26"
             ],
             [
              1,
              "#f0f921"
             ]
            ],
            "type": "histogram2d"
           }
          ],
          "histogram2dcontour": [
           {
            "colorbar": {
             "outlinewidth": 0,
             "ticks": ""
            },
            "colorscale": [
             [
              0,
              "#0d0887"
             ],
             [
              0.1111111111111111,
              "#46039f"
             ],
             [
              0.2222222222222222,
              "#7201a8"
             ],
             [
              0.3333333333333333,
              "#9c179e"
             ],
             [
              0.4444444444444444,
              "#bd3786"
             ],
             [
              0.5555555555555556,
              "#d8576b"
             ],
             [
              0.6666666666666666,
              "#ed7953"
             ],
             [
              0.7777777777777778,
              "#fb9f3a"
             ],
             [
              0.8888888888888888,
              "#fdca26"
             ],
             [
              1,
              "#f0f921"
             ]
            ],
            "type": "histogram2dcontour"
           }
          ],
          "mesh3d": [
           {
            "colorbar": {
             "outlinewidth": 0,
             "ticks": ""
            },
            "type": "mesh3d"
           }
          ],
          "parcoords": [
           {
            "line": {
             "colorbar": {
              "outlinewidth": 0,
              "ticks": ""
             }
            },
            "type": "parcoords"
           }
          ],
          "pie": [
           {
            "automargin": true,
            "type": "pie"
           }
          ],
          "scatter": [
           {
            "fillpattern": {
             "fillmode": "overlay",
             "size": 10,
             "solidity": 0.2
            },
            "type": "scatter"
           }
          ],
          "scatter3d": [
           {
            "line": {
             "colorbar": {
              "outlinewidth": 0,
              "ticks": ""
             }
            },
            "marker": {
             "colorbar": {
              "outlinewidth": 0,
              "ticks": ""
             }
            },
            "type": "scatter3d"
           }
          ],
          "scattercarpet": [
           {
            "marker": {
             "colorbar": {
              "outlinewidth": 0,
              "ticks": ""
             }
            },
            "type": "scattercarpet"
           }
          ],
          "scattergeo": [
           {
            "marker": {
             "colorbar": {
              "outlinewidth": 0,
              "ticks": ""
             }
            },
            "type": "scattergeo"
           }
          ],
          "scattergl": [
           {
            "marker": {
             "colorbar": {
              "outlinewidth": 0,
              "ticks": ""
             }
            },
            "type": "scattergl"
           }
          ],
          "scattermapbox": [
           {
            "marker": {
             "colorbar": {
              "outlinewidth": 0,
              "ticks": ""
             }
            },
            "type": "scattermapbox"
           }
          ],
          "scatterpolar": [
           {
            "marker": {
             "colorbar": {
              "outlinewidth": 0,
              "ticks": ""
             }
            },
            "type": "scatterpolar"
           }
          ],
          "scatterpolargl": [
           {
            "marker": {
             "colorbar": {
              "outlinewidth": 0,
              "ticks": ""
             }
            },
            "type": "scatterpolargl"
           }
          ],
          "scatterternary": [
           {
            "marker": {
             "colorbar": {
              "outlinewidth": 0,
              "ticks": ""
             }
            },
            "type": "scatterternary"
           }
          ],
          "surface": [
           {
            "colorbar": {
             "outlinewidth": 0,
             "ticks": ""
            },
            "colorscale": [
             [
              0,
              "#0d0887"
             ],
             [
              0.1111111111111111,
              "#46039f"
             ],
             [
              0.2222222222222222,
              "#7201a8"
             ],
             [
              0.3333333333333333,
              "#9c179e"
             ],
             [
              0.4444444444444444,
              "#bd3786"
             ],
             [
              0.5555555555555556,
              "#d8576b"
             ],
             [
              0.6666666666666666,
              "#ed7953"
             ],
             [
              0.7777777777777778,
              "#fb9f3a"
             ],
             [
              0.8888888888888888,
              "#fdca26"
             ],
             [
              1,
              "#f0f921"
             ]
            ],
            "type": "surface"
           }
          ],
          "table": [
           {
            "cells": {
             "fill": {
              "color": "#EBF0F8"
             },
             "line": {
              "color": "white"
             }
            },
            "header": {
             "fill": {
              "color": "#C8D4E3"
             },
             "line": {
              "color": "white"
             }
            },
            "type": "table"
           }
          ]
         },
         "layout": {
          "annotationdefaults": {
           "arrowcolor": "#2a3f5f",
           "arrowhead": 0,
           "arrowwidth": 1
          },
          "autotypenumbers": "strict",
          "coloraxis": {
           "colorbar": {
            "outlinewidth": 0,
            "ticks": ""
           }
          },
          "colorscale": {
           "diverging": [
            [
             0,
             "#8e0152"
            ],
            [
             0.1,
             "#c51b7d"
            ],
            [
             0.2,
             "#de77ae"
            ],
            [
             0.3,
             "#f1b6da"
            ],
            [
             0.4,
             "#fde0ef"
            ],
            [
             0.5,
             "#f7f7f7"
            ],
            [
             0.6,
             "#e6f5d0"
            ],
            [
             0.7,
             "#b8e186"
            ],
            [
             0.8,
             "#7fbc41"
            ],
            [
             0.9,
             "#4d9221"
            ],
            [
             1,
             "#276419"
            ]
           ],
           "sequential": [
            [
             0,
             "#0d0887"
            ],
            [
             0.1111111111111111,
             "#46039f"
            ],
            [
             0.2222222222222222,
             "#7201a8"
            ],
            [
             0.3333333333333333,
             "#9c179e"
            ],
            [
             0.4444444444444444,
             "#bd3786"
            ],
            [
             0.5555555555555556,
             "#d8576b"
            ],
            [
             0.6666666666666666,
             "#ed7953"
            ],
            [
             0.7777777777777778,
             "#fb9f3a"
            ],
            [
             0.8888888888888888,
             "#fdca26"
            ],
            [
             1,
             "#f0f921"
            ]
           ],
           "sequentialminus": [
            [
             0,
             "#0d0887"
            ],
            [
             0.1111111111111111,
             "#46039f"
            ],
            [
             0.2222222222222222,
             "#7201a8"
            ],
            [
             0.3333333333333333,
             "#9c179e"
            ],
            [
             0.4444444444444444,
             "#bd3786"
            ],
            [
             0.5555555555555556,
             "#d8576b"
            ],
            [
             0.6666666666666666,
             "#ed7953"
            ],
            [
             0.7777777777777778,
             "#fb9f3a"
            ],
            [
             0.8888888888888888,
             "#fdca26"
            ],
            [
             1,
             "#f0f921"
            ]
           ]
          },
          "colorway": [
           "#636efa",
           "#EF553B",
           "#00cc96",
           "#ab63fa",
           "#FFA15A",
           "#19d3f3",
           "#FF6692",
           "#B6E880",
           "#FF97FF",
           "#FECB52"
          ],
          "font": {
           "color": "#2a3f5f"
          },
          "geo": {
           "bgcolor": "white",
           "lakecolor": "white",
           "landcolor": "#E5ECF6",
           "showlakes": true,
           "showland": true,
           "subunitcolor": "white"
          },
          "hoverlabel": {
           "align": "left"
          },
          "hovermode": "closest",
          "mapbox": {
           "style": "light"
          },
          "paper_bgcolor": "white",
          "plot_bgcolor": "#E5ECF6",
          "polar": {
           "angularaxis": {
            "gridcolor": "white",
            "linecolor": "white",
            "ticks": ""
           },
           "bgcolor": "#E5ECF6",
           "radialaxis": {
            "gridcolor": "white",
            "linecolor": "white",
            "ticks": ""
           }
          },
          "scene": {
           "xaxis": {
            "backgroundcolor": "#E5ECF6",
            "gridcolor": "white",
            "gridwidth": 2,
            "linecolor": "white",
            "showbackground": true,
            "ticks": "",
            "zerolinecolor": "white"
           },
           "yaxis": {
            "backgroundcolor": "#E5ECF6",
            "gridcolor": "white",
            "gridwidth": 2,
            "linecolor": "white",
            "showbackground": true,
            "ticks": "",
            "zerolinecolor": "white"
           },
           "zaxis": {
            "backgroundcolor": "#E5ECF6",
            "gridcolor": "white",
            "gridwidth": 2,
            "linecolor": "white",
            "showbackground": true,
            "ticks": "",
            "zerolinecolor": "white"
           }
          },
          "shapedefaults": {
           "line": {
            "color": "#2a3f5f"
           }
          },
          "ternary": {
           "aaxis": {
            "gridcolor": "white",
            "linecolor": "white",
            "ticks": ""
           },
           "baxis": {
            "gridcolor": "white",
            "linecolor": "white",
            "ticks": ""
           },
           "bgcolor": "#E5ECF6",
           "caxis": {
            "gridcolor": "white",
            "linecolor": "white",
            "ticks": ""
           }
          },
          "title": {
           "x": 0.05
          },
          "xaxis": {
           "automargin": true,
           "gridcolor": "white",
           "linecolor": "white",
           "ticks": "",
           "title": {
            "standoff": 15
           },
           "zerolinecolor": "white",
           "zerolinewidth": 2
          },
          "yaxis": {
           "automargin": true,
           "gridcolor": "white",
           "linecolor": "white",
           "ticks": "",
           "title": {
            "standoff": 15
           },
           "zerolinecolor": "white",
           "zerolinewidth": 2
          }
         }
        },
        "xaxis": {
         "anchor": "y",
         "constrain": "domain",
         "domain": [
          0,
          0.08200000000000002
         ],
         "scaleanchor": "y"
        },
        "xaxis10": {
         "anchor": "y10",
         "domain": [
          0.9180000000000001,
          1
         ],
         "matches": "x"
        },
        "xaxis2": {
         "anchor": "y2",
         "domain": [
          0.10200000000000002,
          0.18400000000000005
         ],
         "matches": "x"
        },
        "xaxis3": {
         "anchor": "y3",
         "domain": [
          0.20400000000000004,
          0.28600000000000003
         ],
         "matches": "x"
        },
        "xaxis4": {
         "anchor": "y4",
         "domain": [
          0.30600000000000005,
          0.38800000000000007
         ],
         "matches": "x"
        },
        "xaxis5": {
         "anchor": "y5",
         "domain": [
          0.4080000000000001,
          0.4900000000000001
         ],
         "matches": "x"
        },
        "xaxis6": {
         "anchor": "y6",
         "domain": [
          0.5100000000000001,
          0.5920000000000001
         ],
         "matches": "x"
        },
        "xaxis7": {
         "anchor": "y7",
         "domain": [
          0.6120000000000001,
          0.6940000000000002
         ],
         "matches": "x"
        },
        "xaxis8": {
         "anchor": "y8",
         "domain": [
          0.7140000000000001,
          0.796
         ],
         "matches": "x"
        },
        "xaxis9": {
         "anchor": "y9",
         "domain": [
          0.8160000000000002,
          0.8980000000000001
         ],
         "matches": "x"
        },
        "yaxis": {
         "anchor": "x",
         "autorange": "reversed",
         "constrain": "domain",
         "domain": [
          0,
          1
         ]
        },
        "yaxis10": {
         "anchor": "x10",
         "domain": [
          0,
          1
         ],
         "matches": "y",
         "showticklabels": false
        },
        "yaxis2": {
         "anchor": "x2",
         "domain": [
          0,
          1
         ],
         "matches": "y",
         "showticklabels": false
        },
        "yaxis3": {
         "anchor": "x3",
         "domain": [
          0,
          1
         ],
         "matches": "y",
         "showticklabels": false
        },
        "yaxis4": {
         "anchor": "x4",
         "domain": [
          0,
          1
         ],
         "matches": "y",
         "showticklabels": false
        },
        "yaxis5": {
         "anchor": "x5",
         "domain": [
          0,
          1
         ],
         "matches": "y",
         "showticklabels": false
        },
        "yaxis6": {
         "anchor": "x6",
         "domain": [
          0,
          1
         ],
         "matches": "y",
         "showticklabels": false
        },
        "yaxis7": {
         "anchor": "x7",
         "domain": [
          0,
          1
         ],
         "matches": "y",
         "showticklabels": false
        },
        "yaxis8": {
         "anchor": "x8",
         "domain": [
          0,
          1
         ],
         "matches": "y",
         "showticklabels": false
        },
        "yaxis9": {
         "anchor": "x9",
         "domain": [
          0,
          1
         ],
         "matches": "y",
         "showticklabels": false
        }
       }
      }
     },
     "metadata": {},
     "output_type": "display_data"
    }
   ],
   "source": [
    "from functools import reduce\n",
    "\n",
    "img = x_train[:1000]\n",
    "convs =  reduce(lambda x, l: l.forward(x), nn[:4], img) #nn[1].forward(nn[0].forward(img))\n",
    "convs.shape\n",
    "px.imshow(convs[231], facet_col=2)"
   ]
  },
  {
   "cell_type": "code",
   "execution_count": null,
   "metadata": {},
   "outputs": [
    {
     "data": {
      "text/plain": [
       "array([[0.34507341, 0.10575061, 0.0240158 , 0.03988019, 0.00964173,\n",
       "        0.02572158, 0.00364022, 0.04975087, 0.24413487, 0.15239071]])"
      ]
     },
     "execution_count": 54,
     "metadata": {},
     "output_type": "execute_result"
    }
   ],
   "source": [
    "reduce(lambda x, l: l.forward(x), nn, img) #.argmax(axis=1)"
   ]
  },
  {
   "cell_type": "code",
   "execution_count": null,
   "metadata": {},
   "outputs": [
    {
     "data": {
      "text/plain": [
       "array([1., 0., 0., 0., 0., 0., 0., 0., 0., 0.])"
      ]
     },
     "execution_count": 50,
     "metadata": {},
     "output_type": "execute_result"
    }
   ],
   "source": [
    "y_train[5673]"
   ]
  },
  {
   "cell_type": "code",
   "execution_count": null,
   "metadata": {},
   "outputs": [
    {
     "data": {
      "text/plain": [
       "[<layers.Convolutional at 0x7fc6a629ff80>,\n",
       " <layers.BatchNorm at 0x7fc6a629c860>,\n",
       " <layers.Relu at 0x7fc6a629d6d0>,\n",
       " <layers.MaxPool at 0x7fc6a629fef0>,\n",
       " <layers.Convolutional at 0x7fc6a629fbf0>,\n",
       " <layers.BatchNorm at 0x7fc6a660ef00>,\n",
       " <layers.Relu at 0x7fc6ac160ad0>,\n",
       " <layers.MaxPool at 0x7fc6a629c6b0>,\n",
       " <layers.Flatten at 0x7fc6a629fd10>,\n",
       " <layers.Linear at 0x7fc6a629fce0>,\n",
       " <layers.Relu at 0x7fc6ac45ffb0>,\n",
       " <layers.Linear at 0x7fc6a629d160>,\n",
       " <layers.Softmax at 0x7fc6a629c7d0>]"
      ]
     },
     "execution_count": 135,
     "metadata": {},
     "output_type": "execute_result"
    }
   ],
   "source": [
    "nn"
   ]
  },
  {
   "cell_type": "code",
   "execution_count": null,
   "metadata": {},
   "outputs": [],
   "source": []
  },
  {
   "cell_type": "code",
   "execution_count": null,
   "metadata": {},
   "outputs": [
    {
     "data": {
      "application/vnd.plotly.v1+json": {
       "config": {
        "plotlyServerURL": "https://plot.ly"
       },
       "data": [
        {
         "coloraxis": "coloraxis",
         "hovertemplate": "x: %{x}<br>y: %{y}<br>color: %{z}<extra></extra>",
         "name": "0",
         "type": "heatmap",
         "xaxis": "x",
         "yaxis": "y",
         "z": [
          [
           0.20219686033300316,
           0.5398287686539478,
           0.19474665221675858,
           0.5540034730450456,
           0.504965136170485,
           0.3870781259384984,
           0.22871759456471077,
           0.09113369020128634,
           0.4681488573156883,
           0.5170277135298116,
           0.2881358029015919
          ],
          [
           0.1812616290459209,
           0.2765152399579938,
           0.4282057823761875,
           0.5226613665263158,
           0.6345703539947645,
           0.7242908199843476,
           0.8200529451179404,
           0.5040636527798967,
           0.8085879388808376,
           0.7218462553086532,
           0.20660019437729635
          ],
          [
           0.48679225909319895,
           0.4702066351360178,
           0.5022060657267339,
           0.8766554421100661,
           0.7212124581763535,
           0.5902820278188109,
           0.8559962295114195,
           0.590018615303348,
           0.47525511644865925,
           0.4537853751603714,
           0.22719452474941923
          ],
          [
           0.6138661412593069,
           0.6788459649258309,
           0.6554644755466315,
           0.832596568096538,
           0.8632137345127722,
           0.5402971378178661,
           0.8920622063424265,
           0.7319848369760389,
           0.46402222355931166,
           0.3071428634614221,
           0.23227948175756824
          ],
          [
           0.665012181191668,
           0.8413873099765234,
           0.8243304852428974,
           0.32606704242172346,
           0.7566832841255827,
           0.5070736691945705,
           0.831290641205222,
           0.6860696720964344,
           0.5591108289894501,
           0.4598127996824564,
           0.6803525271073154
          ],
          [
           0.2627307014385229,
           0.451322961489933,
           0.4296418275144307,
           0.4008552611067629,
           0.784164585117989,
           0.6022650638264844,
           0.23354108498255885,
           0.637214138542352,
           0.6632033899393579,
           0.7353021424261604,
           0.6536187489647535
          ],
          [
           0.1344025059615458,
           0.14019129232680108,
           0.1140934050916091,
           0.12838780588147153,
           0.2551370282873994,
           0.6058467530586208,
           0.1864682589607315,
           0.7544907202299083,
           0.8778928562363117,
           0.9254959558803684,
           0.9379659531846161
          ],
          [
           0.15408145191803488,
           0.1056406362373034,
           0.10721559757780381,
           0.06398167259081784,
           0.029866109516922968,
           0.20782622594598954,
           0.07707529558451641,
           0.4714568571268947,
           0.5047214255134873,
           0.4158715717064701,
           0.5690193212428297
          ],
          [
           0.11583510885638391,
           0.08566877408634013,
           0.08647973530934214,
           0.1898802134283673,
           0.16224581167516505,
           0.1015336988956735,
           0.3426645914235986,
           0.07470390751845282,
           0.21539631396026576,
           0.08143570542507718,
           0.14567305552435286
          ],
          [
           0.10049281929921662,
           0.14238943585910474,
           0.08643886854225091,
           0.21853634262143204,
           0.39005377827277543,
           0.29011609148408685,
           0.05423966747568174,
           0.23598695439745443,
           0.21954207212481827,
           0.08122377537388334,
           0.09366036060404079
          ],
          [
           0.09491151592764382,
           0.10097713824904636,
           0.09379561737498433,
           0.33035528150979443,
           0.49230071146345233,
           0.5523615390452997,
           0.3258052027868039,
           0.12649917513354442,
           0.07008452715044952,
           0.08674085157519233,
           0.14622046398167213
          ]
         ]
        },
        {
         "coloraxis": "coloraxis",
         "hovertemplate": "x: %{x}<br>y: %{y}<br>color: %{z}<extra></extra>",
         "name": "1",
         "type": "heatmap",
         "xaxis": "x2",
         "yaxis": "y2",
         "z": [
          [
           0.20010654126521843,
           0.5322621911822373,
           0.1899892629603941,
           0.5589993236856211,
           0.5215510571801006,
           0.41048250462623154,
           0.23056412343090762,
           0.08990633731430729,
           0.46044489883088585,
           0.49056550416199673,
           0.2398717408403482
          ],
          [
           0.18992985473518764,
           0.29298732270797984,
           0.4421597335849441,
           0.5367365242368923,
           0.6467140556127771,
           0.7484282281115492,
           0.8524189713752155,
           0.519235931507403,
           0.8262215009147493,
           0.7132403671431509,
           0.16559142717977815
          ],
          [
           0.4979481253304971,
           0.487557013732197,
           0.5280846607234221,
           0.9030787980747152,
           0.7429606646247832,
           0.618742777557893,
           0.8931837456601651,
           0.6079862297530723,
           0.5030071353975324,
           0.46736281656097495,
           0.2155442555958078
          ],
          [
           0.6303724266379324,
           0.6992509053091355,
           0.6845480324719307,
           0.8776773195313203,
           0.8913038790623593,
           0.5614607539084653,
           0.9158629698739637,
           0.754770150937303,
           0.47954936997883296,
           0.33520990217148133,
           0.24856510007883573
          ],
          [
           0.6666398300341838,
           0.8512078587342315,
           0.8483578670519504,
           0.3700307423560598,
           0.8027734080950905,
           0.521818436673484,
           0.8561775138815791,
           0.7213704563834373,
           0.5776750449142332,
           0.4855350633419359,
           0.7101630429484175
          ],
          [
           0.23501460239888755,
           0.4401306636193082,
           0.4351330335033643,
           0.43513599851033175,
           0.8209487107840998,
           0.6272668727182211,
           0.2611222547004959,
           0.6676788244379763,
           0.6866032082609944,
           0.759614575289423,
           0.6804365055008816
          ],
          [
           0.08935505335012393,
           0.1069345191599797,
           0.10612316471960537,
           0.14162851137279203,
           0.2774830770598903,
           0.6305192305877514,
           0.2076659576909049,
           0.7848628307313238,
           0.9108189691130583,
           0.9505378252367598,
           0.9634321089452111
          ],
          [
           0.1077951230573614,
           0.06705875370598978,
           0.07328965266291562,
           0.06493517753553976,
           0.047986441314778305,
           0.24174856009728715,
           0.11521694412173655,
           0.5326044048014753,
           0.5200954287629999,
           0.421241107044725,
           0.5697798495080599
          ],
          [
           0.06957486884002377,
           0.051119473063116365,
           0.05041391732764057,
           0.19212227598143625,
           0.18193480417455335,
           0.1571698241299954,
           0.37111361311405994,
           0.0793017035357303,
           0.20112355372380425,
           0.058933245973104134,
           0.10356852636290324
          ],
          [
           0.05703437818338619,
           0.10504382692945606,
           0.054982479948698294,
           0.22001675929689954,
           0.40719492932301027,
           0.32986472467584266,
           0.1017012335738405,
           0.2301956596200821,
           0.19822741886084674,
           0.0470764789683177,
           0.055498851796827994
          ],
          [
           0.05386849325934293,
           0.060243006933300106,
           0.07157570893756221,
           0.33055276283674667,
           0.49825429033881574,
           0.5639090993262685,
           0.3395613522430153,
           0.1130642847419288,
           0.03809890244217275,
           0.04860798660511902,
           0.10307888530491187
          ]
         ]
        },
        {
         "coloraxis": "coloraxis",
         "hovertemplate": "x: %{x}<br>y: %{y}<br>color: %{z}<extra></extra>",
         "name": "2",
         "type": "heatmap",
         "xaxis": "x3",
         "yaxis": "y3",
         "z": [
          [
           0.21292594346363858,
           0.5492170424389838,
           0.20969302648331356,
           0.579201083399147,
           0.5437187580618014,
           0.4483500088480213,
           0.2517969652770466,
           0.11265640170611683,
           0.4842950908338444,
           0.5226663423525478,
           0.2789175988405082
          ],
          [
           0.20794754827336187,
           0.3114141273333701,
           0.4501389878670504,
           0.5482935290560077,
           0.6533154195658765,
           0.758450746741853,
           0.8783419563119214,
           0.5331499177155348,
           0.8534687539089703,
           0.73800647451237,
           0.20118447290073013
          ],
          [
           0.5106017858365518,
           0.5003645991072121,
           0.5361513924427977,
           0.91331568360397,
           0.7542687794959747,
           0.6268821357793812,
           0.9080512233521544,
           0.6127343115562852,
           0.5101682787807861,
           0.4749184246338309,
           0.23450006912325252
          ],
          [
           0.6393077394736321,
           0.712365737651472,
           0.695001732313935,
           0.8929371547890668,
           0.9096658013384884,
           0.5761422529080069,
           0.928610546628873,
           0.7664411147944852,
           0.48712362148509714,
           0.34144305104232353,
           0.2589625275111799
          ],
          [
           0.684102387806688,
           0.8745888157471144,
           0.8713418930463461,
           0.3916533645626874,
           0.8278832311296342,
           0.5323706488333073,
           0.8765666430530609,
           0.741150013783188,
           0.587665029680599,
           0.48768168835053927,
           0.7133286666127976
          ],
          [
           0.2647558508456482,
           0.46196601542377025,
           0.45338261209257646,
           0.4560937068981629,
           0.8341205023690675,
           0.6367036831025448,
           0.2727995414350753,
           0.6759320777791299,
           0.6930738171457397,
           0.7652902859570074,
           0.6844334476295526
          ],
          [
           0.12418604705382126,
           0.13760861262871305,
           0.12161864075830121,
           0.16233573514865873,
           0.2814893997990652,
           0.6357959709507672,
           0.21813839605876484,
           0.793959609207045,
           0.9184872676003899,
           0.9572274255599721,
           0.9674969792782933
          ],
          [
           0.14270496313730394,
           0.0993978653561956,
           0.11051943276964069,
           0.08776641335591534,
           0.04893160962643079,
           0.24302060426944377,
           0.12526494502632826,
           0.5326539569239046,
           0.5251799296524878,
           0.4298695136536282,
           0.5808476514874904
          ],
          [
           0.10538330745889109,
           0.08031312196621526,
           0.08792905893952031,
           0.2028003811426787,
           0.17878396228371024,
           0.1599144811102686,
           0.3809846329203221,
           0.0949727217609138,
           0.22183392961470308,
           0.08366001017310709,
           0.13924273667816023
          ],
          [
           0.09143511352613438,
           0.1368801690184454,
           0.08893500597946259,
           0.23102570794896254,
           0.4066729436249168,
           0.332022187215722,
           0.11964971904833856,
           0.24168627473744175,
           0.22215912704677862,
           0.07883713820053223,
           0.0857627377389139
          ],
          [
           0.08691919141875006,
           0.09529405683138899,
           0.09711240029375309,
           0.3386251813738594,
           0.5016974209647896,
           0.56706484356095,
           0.3487270500589258,
           0.12969199045731938,
           0.06959656548420146,
           0.07998252713858023,
           0.1367602261737573
          ]
         ]
        },
        {
         "coloraxis": "coloraxis",
         "hovertemplate": "x: %{x}<br>y: %{y}<br>color: %{z}<extra></extra>",
         "name": "3",
         "type": "heatmap",
         "xaxis": "x4",
         "yaxis": "y4",
         "z": [
          [
           0.15526753445265512,
           0.7750351290208968,
           1,
           1,
           1,
           0.581901980736819,
           0.3577598566896781,
           0.8021990248668859,
           0.7420207894655046,
           0.8530527866430876,
           0.7018451643393301
          ],
          [
           0.7386256908379678,
           0.7850319536071428,
           1,
           1,
           1,
           1,
           0.8856562834951904,
           1,
           0.9265185705822411,
           0.5732599873323849,
           0.5026584924007433
          ],
          [
           1,
           1,
           1,
           1,
           1,
           1,
           0.8557352148434934,
           0.6963948636724474,
           0.08825336503100416,
           0,
           0.2308013374204527
          ],
          [
           1,
           1,
           1,
           0.9955085360663339,
           0.9768005120609277,
           1,
           0.6808234509945604,
           0.5776351583281937,
           0.23825219782857163,
           0,
           0.07729063024299823
          ],
          [
           0.7882876652444092,
           0.7860338581948028,
           1,
           1,
           1,
           1,
           0.9875274399694691,
           1,
           0.8649839851773029,
           0.4583340903902433,
           0.49316244399811815
          ],
          [
           0.2584461221898897,
           0.4277650490129908,
           0.34337610933024654,
           1,
           0.8072407907300457,
           1,
           1,
           1,
           1,
           0.950977394792985,
           0.6179315117466123
          ],
          [
           0.33085110150632524,
           0.32048588019429397,
           0,
           0.7119357636162481,
           0.25086097101067417,
           0.9503114819789457,
           1,
           1,
           0.621574485593178,
           0.7749197317854654,
           0.5563403791597433
          ],
          [
           0.462434086118038,
           0.7001693959384384,
           0.33927349794790174,
           0.8500474413219627,
           0.3376869061012327,
           0.792451480165742,
           1,
           0,
           0,
           0,
           0
          ],
          [
           0.4570041706783852,
           0.7637216531252198,
           0.843101279165177,
           0.9066520817057391,
           0.6331463822337337,
           1,
           0.8129982566180457,
           0.11157439749536019,
           0.23590482489151357,
           0.25720945945093976,
           0.40648534677549075
          ],
          [
           0.49656885699011777,
           0.8125589744881887,
           0.8668478834576686,
           1,
           1,
           1,
           0.968364434136273,
           0.5483006961948255,
           0.41915098228671244,
           0.41065056904654995,
           0.44029899280978807
          ],
          [
           0.4955038288928103,
           0.8188333217115454,
           0.8665513180421502,
           1,
           1,
           1,
           0.745489665427109,
           0.5006834512559267,
           0.3950192349110223,
           0.40859610887593506,
           0.49591188985050183
          ]
         ]
        },
        {
         "coloraxis": "coloraxis",
         "hovertemplate": "x: %{x}<br>y: %{y}<br>color: %{z}<extra></extra>",
         "name": "4",
         "type": "heatmap",
         "xaxis": "x5",
         "yaxis": "y5",
         "z": [
          [
           0.7831556224853797,
           0.7848317486514622,
           0.11330601013727039,
           0,
           0.2263506729396298,
           1,
           1,
           1,
           0.8585320795125649,
           0.8197216703511907,
           0.6255309753342043
          ],
          [
           1,
           1,
           0.5938231192726188,
           0,
           0,
           0,
           0.4047521785494961,
           0.35225935696665056,
           0,
           0.6327588873453724,
           0.5329418555522895
          ],
          [
           0,
           0,
           0.08560981201099988,
           0.43842512884105656,
           0.35679075217414047,
           0,
           0,
           0.29931543812173866,
           0.3971358247870732,
           1,
           0.9738556159168825
          ],
          [
           0,
           0.07323490353887115,
           0.09439149152184217,
           0.6495474283570571,
           0.9903901639584042,
           0.3811018409083826,
           0.8525126895919506,
           1,
           0.7127892715629676,
           1,
           1
          ],
          [
           0.6835299323142128,
           0.9399255968105429,
           0.9773366132729754,
           0.41117396729031086,
           0.43004159876949893,
           0,
           0.5098624426860545,
           0.19183259199200894,
           0.12807990870663355,
           0.20218020514370427,
           0.8692895114101569
          ],
          [
           0.8044217605171491,
           0.8757158963313918,
           0.671969325358028,
           0.4926825627833366,
           0.3489959833721467,
           0.36240780653752575,
           0.5189882393223428,
           0.4978523951522717,
           0.3396437378399143,
           0.30964028459854337,
           0.05563694751875604
          ],
          [
           0.74359203555447,
           1,
           1,
           1,
           0.28062021731638886,
           0.6515362977772949,
           0.14252091950963683,
           0.06648997235297908,
           0.04585043035559068,
           0.5231424566712124,
           0.5908245267873213
          ],
          [
           0.6352835090935949,
           0.5229623868874309,
           1,
           0.47202742553911836,
           0,
           0.4076655213208083,
           0.5875088530192851,
           0.08271807080328294,
           1,
           1,
           1
          ],
          [
           0.5828101090642216,
           0.2577225618643298,
           0.41187263439362254,
           0,
           0,
           0.3618451856609585,
           1,
           0.0958129189623316,
           0.8473231572725721,
           1,
           0.6507056978532146
          ],
          [
           0.38726408080880936,
           0.28761367506660607,
           0.3995901894047227,
           0,
           0,
           0,
           0.23262289386220344,
           0,
           0.47606341076521413,
           0.862725292428209,
           0.4604472058190187
          ],
          [
           0.4131226867537838,
           0.3357475179899099,
           0.15299989705963962,
           0,
           0,
           0,
           0,
           0,
           0.5391164584884132,
           0.5203240101734155,
           0.4812658123688354
          ]
         ]
        },
        {
         "coloraxis": "coloraxis",
         "hovertemplate": "x: %{x}<br>y: %{y}<br>color: %{z}<extra></extra>",
         "name": "5",
         "type": "heatmap",
         "xaxis": "x6",
         "yaxis": "y6",
         "z": [
          [
           0.1890948071527959,
           0.5255839975000253,
           0.1807081824140199,
           0.539696284453353,
           0.49005800428027374,
           0.3637046486544818,
           0.21537680754991564,
           0.07408991880762335,
           0.4491712903171354,
           0.49180243984878386,
           0.25498647531587293
          ],
          [
           0.16729875362957083,
           0.26173269049114656,
           0.4215145322669194,
           0.5158989153397241,
           0.630123075996239,
           0.7184224110105687,
           0.8086233956968608,
           0.49648245076795405,
           0.7881754674073242,
           0.7018250418273748,
           0.17592782042961577
          ],
          [
           0.48013936300622073,
           0.4638712017770408,
           0.4977089236100429,
           0.8721916555690774,
           0.7159852915463053,
           0.585093727337262,
           0.8485935647539445,
           0.5856904050961116,
           0.46503080476571557,
           0.4434951096807018,
           0.2085511415355572
          ],
          [
           0.6065099072796256,
           0.671725114378644,
           0.6497395324826059,
           0.8250773285637358,
           0.8564888044986426,
           0.5357906972711522,
           0.8883428541961453,
           0.727550306812336,
           0.4593905006646555,
           0.2994313887100686,
           0.2208518661780613
          ],
          [
           0.6509738538850223,
           0.8277336576145955,
           0.8122359639629992,
           0.3131670946424256,
           0.7418486531635371,
           0.5009118827419149,
           0.8211569718092667,
           0.6774172247039999,
           0.5552920560765217,
           0.4581225083162028,
           0.6786282257452325
          ],
          [
           0.23258597144813017,
           0.42906956471663,
           0.4091479574316566,
           0.37378597229132,
           0.7667156746397701,
           0.59248464415302,
           0.22493436243909598,
           0.6326281891955263,
           0.6612428743645292,
           0.7343584389046871,
           0.6527247380675489
          ],
          [
           0.10155933943671618,
           0.10668225652772474,
           0.092606115058525,
           0.09463959868153815,
           0.24057952903172725,
           0.5951016256001049,
           0.1758069381665555,
           0.7433234943528348,
           0.8697918802806507,
           0.9209386912796904,
           0.9341207626132664
          ],
          [
           0.12403201938027286,
           0.07480432252941857,
           0.06834957850007194,
           0.02732077988720362,
           0.018936229533485477,
           0.19577373144728896,
           0.056627882245073126,
           0.43456497560423624,
           0.4913653368121918,
           0.4063411846951758,
           0.5593836174582631
          ],
          [
           0.08512178278896898,
           0.058142121099845644,
           0.046635833751504,
           0.16781757136683736,
           0.15452676011364733,
           0.08275922585721568,
           0.3208493444449301,
           0.03927858209957573,
           0.19161868783121672,
           0.056945839812490955,
           0.1114797643600335
          ],
          [
           0.07026350776821501,
           0.11240830183887135,
           0.05166583208190675,
           0.20069464600917,
           0.38231702808812373,
           0.27379565675871953,
           0.0068738576046421945,
           0.2173167481363693,
           0.19223841633379865,
           0.047769138879686174,
           0.06616393362813643
          ],
          [
           0.06498272484645573,
           0.06763303533838384,
           0.06682915164360927,
           0.3195038311032614,
           0.48568616846344137,
           0.540553013325305,
           0.29640898013812916,
           0.10417621747705053,
           0.03465565547484689,
           0.05455294633095293,
           0.11686176644390707
          ]
         ]
        },
        {
         "coloraxis": "coloraxis",
         "hovertemplate": "x: %{x}<br>y: %{y}<br>color: %{z}<extra></extra>",
         "name": "6",
         "type": "heatmap",
         "xaxis": "x7",
         "yaxis": "y7",
         "z": [
          [
           0.24640441790795092,
           0.5909686431611528,
           0.24580386848014615,
           0.6052240701858274,
           0.5593852590300393,
           0.47672830865932625,
           0.2775690421887188,
           0.1489704313687454,
           0.5311709390294101,
           0.5935912395312425,
           0.38402535203099936
          ],
          [
           0.23293987388500184,
           0.33885559338706844,
           0.45864453038560254,
           0.5528679153805897,
           0.6539344918384887,
           0.7562899979809656,
           0.8756144659757596,
           0.5321561349634486,
           0.8768009005032096,
           0.7824603966186309,
           0.2939973351618312
          ],
          [
           0.5148772351495065,
           0.5004491918324796,
           0.530020019874581,
           0.9081773005149806,
           0.7504464060170698,
           0.6223395640228523,
           0.8979919455632971,
           0.6041666620322974,
           0.5063312450549227,
           0.48312780051939924,
           0.27880655976875746
          ],
          [
           0.6447523762762514,
           0.710144800004451,
           0.6845833938724089,
           0.8822359988763463,
           0.9046628268940373,
           0.5736728292091687,
           0.9252248893222326,
           0.7541398941397284,
           0.4797843189041029,
           0.3297252656415693,
           0.26418838829008034
          ],
          [
           0.719249133644121,
           0.8992086158426226,
           0.8764339048512941,
           0.390957241675707,
           0.8309999225739877,
           0.5366138371637513,
           0.8887142287106484,
           0.7327452924970043,
           0.5749469653205428,
           0.467442319428188,
           0.687836178203589
          ],
          [
           0.35352714433777815,
           0.5234578629018771,
           0.49624215373859687,
           0.49349467618118736,
           0.8576984600197047,
           0.6472556477527992,
           0.2790746220821313,
           0.6676674623846267,
           0.6760296065586671,
           0.7420389989337071,
           0.6580613784140306
          ],
          [
           0.22699709138802293,
           0.23687254505816252,
           0.17430859648409086,
           0.22330440671255022,
           0.3071625950325575,
           0.6499312447146719,
           0.22686703513179138,
           0.7997574422056065,
           0.9124811012793733,
           0.9429425954730923,
           0.9513236467667248
          ],
          [
           0.23824469290675213,
           0.19269414922844758,
           0.2130648830058451,
           0.16087850179489552,
           0.06571927575021741,
           0.2518045852700214,
           0.13789385695538614,
           0.5823407681469437,
           0.5470766874432712,
           0.44478719969308245,
           0.6001139040398593
          ],
          [
           0.20153077063548686,
           0.16327365630735308,
           0.19566740042209668,
           0.24994437697594385,
           0.18676425760351864,
           0.16439168934848153,
           0.40057796797753,
           0.1690014040843274,
           0.2833246636923731,
           0.14723819450768771,
           0.23879387048416564
          ],
          [
           0.18450508560674916,
           0.22891755930022692,
           0.19061313802977067,
           0.2710234890087851,
           0.414016266373793,
           0.34021961137951556,
           0.17406139546510266,
           0.28468676240937046,
           0.2950551658247205,
           0.17202634825147808,
           0.16941771324719718
          ],
          [
           0.178265698652095,
           0.1974537215434496,
           0.17818976432196074,
           0.3651956645383834,
           0.5121230451059047,
           0.5851410192305017,
           0.40101195758216807,
           0.185231415709383,
           0.16595186931309575,
           0.17470374604504346,
           0.2278750880655174
          ]
         ]
        },
        {
         "coloraxis": "coloraxis",
         "hovertemplate": "x: %{x}<br>y: %{y}<br>color: %{z}<extra></extra>",
         "name": "7",
         "type": "heatmap",
         "xaxis": "x8",
         "yaxis": "y8",
         "z": [
          [
           0.2515952715055542,
           0.5935120563928629,
           0.25251830501084305,
           0.6207449557992939,
           0.5840642397558827,
           0.5135721660582561,
           0.29070853519530837,
           0.1613691340561416,
           0.5367853430633042,
           0.58990667160663,
           0.36732991260538866
          ],
          [
           0.2505546557448889,
           0.3611118278998847,
           0.4727605992954475,
           0.5690815501328667,
           0.6663844963761717,
           0.7778445255277873,
           0.9135176823836626,
           0.5524681006531074,
           0.9024856193959783,
           0.787885141101507,
           0.28097890745687615
          ],
          [
           0.5297825793715246,
           0.5204093258181526,
           0.5534182334279903,
           0.9314199355677478,
           0.7718482149014074,
           0.6461459540221424,
           0.9311480725491733,
           0.6209922038818474,
           0.529940025184418,
           0.4971625659032204,
           0.2802301900267778
          ],
          [
           0.6603172882432238,
           0.7314426612909392,
           0.7114127960742153,
           0.9211083344578034,
           0.9346250715453054,
           0.5974987780021739,
           0.9484749849557245,
           0.7785649697047337,
           0.49722748853207066,
           0.3557231860868745,
           0.2832905027568823
          ],
          [
           0.728343105032666,
           0.9172588172324382,
           0.9065891686485575,
           0.43316947161804326,
           0.8752846272280633,
           0.5528991454994909,
           0.9155537794720223,
           0.7697267765039458,
           0.5962233077829848,
           0.4893049767128639,
           0.713680008647395
          ],
          [
           0.3471707329365082,
           0.5257756542710611,
           0.5092015573690302,
           0.5295674321155632,
           0.8891088140975983,
           0.6708618829019273,
           0.3058875805759792,
           0.6952115743824353,
           0.697644469686377,
           0.7639579353765521,
           0.6804547097682185
          ],
          [
           0.21076224523913917,
           0.22859070675468457,
           0.17712252670079282,
           0.24643985460826698,
           0.32621774994100966,
           0.671024914698247,
           0.2484148077186317,
           0.8267252626317309,
           0.9394717320304217,
           0.9644787761821076,
           0.9712774482705331
          ],
          [
           0.22093081160019729,
           0.18064395694869376,
           0.20787027475244643,
           0.17631254047753847,
           0.08075190590268282,
           0.27792619084212955,
           0.17349403043845035,
           0.6288312669930335,
           0.5604411988093271,
           0.45364373429137733,
           0.6063141561952634
          ],
          [
           0.18479952444109066,
           0.1522666719695317,
           0.1878168806577644,
           0.2583661593838669,
           0.20035455034851932,
           0.20659433761785306,
           0.42752778864375457,
           0.1810239142363628,
           0.283018077497942,
           0.14345621026860317,
           0.22589991334947246
          ],
          [
           0.16903051692968488,
           0.21685618675233032,
           0.1833573784088603,
           0.2783744955982004,
           0.42750433701777124,
           0.369696978494209,
           0.2185498525142733,
           0.2861543968468159,
           0.29080764953311605,
           0.16125646611597397,
           0.15603510681600544
          ],
          [
           0.1637114544625056,
           0.18436849995652346,
           0.173485540756779,
           0.3690608905797956,
           0.5186142874457388,
           0.5944948099721172,
           0.41365696897866294,
           0.18343203177319503,
           0.1570515078823326,
           0.1605361603929779,
           0.2121608516056741
          ]
         ]
        },
        {
         "coloraxis": "coloraxis",
         "hovertemplate": "x: %{x}<br>y: %{y}<br>color: %{z}<extra></extra>",
         "name": "8",
         "type": "heatmap",
         "xaxis": "x9",
         "yaxis": "y9",
         "z": [
          [
           1,
           1,
           0.2764336205778948,
           0.3827502549967746,
           0.4394589816193253,
           0.7876911926252357,
           0.4267536699758189,
           0.5580239671291403,
           0.8959288429260134,
           0.435872077461765,
           0.3909205981136381
          ],
          [
           0.8234613817506523,
           0.9717519224150727,
           0.5882774567819486,
           0.08600809431413005,
           0.21542158473989495,
           0.6370674188196543,
           0.5337143072425724,
           0.24216582275917062,
           0.6343873914410374,
           0.5750883114934763,
           0.5669425264573275
          ],
          [
           0.3174607043438394,
           0.22276964158550186,
           0.3408384031847347,
           0.3983488881989417,
           0,
           0.2817670183838415,
           0.0927540933857272,
           0,
           0.3110012702995826,
           0.9176849151190686,
           1
          ],
          [
           0.20074815799453766,
           0,
           0,
           0.6765612718673075,
           0.577312780464681,
           0.27795815514253563,
           0.2966135791896099,
           0,
           0.26172222639995446,
           0.9355376212462713,
           0.9294171995434696
          ],
          [
           0.3657671654905685,
           0.18016720440940845,
           0,
           0,
           0.5506480274258055,
           0.3477070613388198,
           0.7640670214465103,
           0,
           0,
           0.3354942283390515,
           0.6544181715272257
          ],
          [
           0.6131920012702958,
           0.3948881715200834,
           0,
           0,
           0.8905271093264634,
           0.45427727135440593,
           0.39412183939339124,
           0.3705313850448434,
           0,
           0,
           0
          ],
          [
           0.7398153013847912,
           0.8864471435721769,
           0.26079037847983466,
           0.5009480737910121,
           1,
           1,
           0.22848685451392167,
           0.5847082608010303,
           0,
           0,
           0
          ],
          [
           0.6370709279477904,
           0.9167692419017385,
           0.7944176912337947,
           1,
           1,
           1,
           0,
           0.6036810389813084,
           0.49229552273483845,
           0.15715166804664724,
           0.3141130468969016
          ],
          [
           0.7121221526503596,
           0.6872346345029072,
           0.5203802660586839,
           0.8074617967122069,
           1,
           0.7719358314891694,
           0.19186142892590533,
           1,
           1,
           0.44028016027762396,
           0.6922783920691308
          ],
          [
           0.653305345260333,
           0.7318739883135471,
           0.7758227404572499,
           0.858289493023719,
           0.9150564193266741,
           0.32155918936164923,
           0.047538975610090094,
           0.8679118369840049,
           0.9846938248305174,
           0.8256215768199199,
           0.5714461295524269
          ],
          [
           0.6459905385284387,
           0.8705449775070141,
           1,
           0.712579886117869,
           0.4813589444072721,
           0.2863565842911958,
           0.74679521441598,
           0.8308393948527363,
           1,
           0.8362138697297321,
           0.6633719648709075
          ]
         ]
        },
        {
         "coloraxis": "coloraxis",
         "hovertemplate": "x: %{x}<br>y: %{y}<br>color: %{z}<extra></extra>",
         "name": "9",
         "type": "heatmap",
         "xaxis": "x10",
         "yaxis": "y10",
         "z": [
          [
           0.22207944975605545,
           0.5583546910066217,
           0.21672933369159417,
           0.5858294050675901,
           0.5476600155311705,
           0.44869600895496115,
           0.25419305108303836,
           0.11744215174345238,
           0.4904596863345635,
           0.5357809548723667,
           0.30213948903820087
          ],
          [
           0.21136900608434142,
           0.3144416721909708,
           0.4498192199772894,
           0.5480741857630326,
           0.6548613694714143,
           0.7591609324042611,
           0.8768404656866482,
           0.5319215546907582,
           0.854106667038483,
           0.7442562561938465,
           0.21990387213364712
          ],
          [
           0.5110185824765311,
           0.500010705808507,
           0.5340678143297446,
           0.9102716891260048,
           0.7529926489881681,
           0.6277680639173139,
           0.9083291152119061,
           0.6123693106025999,
           0.510715581605006,
           0.4746358301217105,
           0.24122773196105934
          ],
          [
           0.6423374898817195,
           0.7132224753031179,
           0.6938915787275427,
           0.8912905437089151,
           0.9068355957796849,
           0.5753747741725181,
           0.9291714087112346,
           0.7648380137803401,
           0.4880394909903925,
           0.33885759632036344,
           0.2565522824707895
          ],
          [
           0.6945176376270273,
           0.882888747259395,
           0.8748239612983737,
           0.39382527488730834,
           0.8276725306659082,
           0.5329967268310455,
           0.8804803764589935,
           0.7396388969030371,
           0.5864373812747304,
           0.48445385011614744,
           0.7064720166091097
          ],
          [
           0.28552787315849293,
           0.4781182899868613,
           0.4652067918764942,
           0.46679610329088317,
           0.8400072112648448,
           0.6389789626496083,
           0.2744352013602131,
           0.6736907782646404,
           0.6885601098732854,
           0.7605525447430319,
           0.679075771317287
          ],
          [
           0.1471948568762888,
           0.1604419739942536,
           0.13472898579210166,
           0.1766998648102344,
           0.28797289024818906,
           0.637948440527838,
           0.21876320273006164,
           0.795217703429327,
           0.9172417734755721,
           0.9551030152348392,
           0.9664928369704074
          ],
          [
           0.1639172171992376,
           0.1198216945299789,
           0.13518429506290522,
           0.10570942454777872,
           0.05304662860255019,
           0.24478595613795268,
           0.12747787896249885,
           0.5470826086697049,
           0.53160762937638,
           0.4347690403528196,
           0.5877418743399836
          ],
          [
           0.126382035683806,
           0.0984325410452852,
           0.11407782687382957,
           0.21583676150819303,
           0.18138884957744159,
           0.1622197864325539,
           0.3858053948007744,
           0.11257794569297744,
           0.23669337238843607,
           0.09807170411913167,
           0.16312119420767895
          ],
          [
           0.11191829392521745,
           0.15746610321511378,
           0.11228790026053456,
           0.24034297404547314,
           0.4095388329250613,
           0.33779489858154294,
           0.1346223490654174,
           0.25166453056149035,
           0.24003092901402742,
           0.0996398489610329,
           0.10430449589514872
          ],
          [
           0.10711344377981118,
           0.1182555003710118,
           0.11544612856243895,
           0.3443118303096541,
           0.5049991667128791,
           0.5751210971619722,
           0.36411156754172164,
           0.1428774675490039,
           0.09271316510412415,
           0.10168604985105906,
           0.15696326246124967
          ]
         ]
        },
        {
         "coloraxis": "coloraxis",
         "hovertemplate": "x: %{x}<br>y: %{y}<br>color: %{z}<extra></extra>",
         "name": "10",
         "type": "heatmap",
         "xaxis": "x11",
         "yaxis": "y11",
         "z": [
          [
           0.1694440257827387,
           0.4994661400495193,
           0.1571777874787007,
           0.5329230544402448,
           0.49504632919260433,
           0.3632543565068989,
           0.20887208771064994,
           0.06212338154555692,
           0.42477159488886673,
           0.4423424168931236,
           0.18118577173412898
          ],
          [
           0.1679942277001812,
           0.2594367072053382,
           0.41835272746479346,
           0.5132598970333883,
           0.6288637153788531,
           0.7171497416794447,
           0.8123062462099819,
           0.5013170976310358,
           0.77920169356847,
           0.6710888023150804,
           0.11865856514535025
          ],
          [
           0.47747769025490605,
           0.4635987650804774,
           0.496833284491633,
           0.8662094798460505,
           0.7082537260345019,
           0.5804315795021111,
           0.8459659318568081,
           0.5933859544586836,
           0.4779312956980719,
           0.449018438948504,
           0.19555098855102857
          ],
          [
           0.5927463300985111,
           0.6604362860611611,
           0.6417106558891287,
           0.8043839753406168,
           0.8392460490254102,
           0.5232671524885376,
           0.8756447124587481,
           0.7335324442518075,
           0.47369508065266386,
           0.3331163328752242,
           0.24815503984207635
          ],
          [
           0.6141199894387795,
           0.7880286775952624,
           0.7832996138851056,
           0.2805560161129865,
           0.7055379955200192,
           0.4863571114793398,
           0.7901910758180303,
           0.6730585555414573,
           0.5691872281611289,
           0.48255651862199533,
           0.710599709332247
          ],
          [
           0.17548882341118324,
           0.38297502950293066,
           0.3746241353223495,
           0.334353398322138,
           0.7316720236861245,
           0.5694264016012351,
           0.203259508072336,
           0.6254655521880323,
           0.6681166210328664,
           0.7484142239175723,
           0.6714032946317819
          ],
          [
           0.04365295068415628,
           0.05216333651078919,
           0.06820267790601911,
           0.06801443604666108,
           0.22886681133273878,
           0.5833123479433351,
           0.16439643107102933,
           0.7290086079267155,
           0.8659206830740415,
           0.9236895221195272,
           0.9393620892994204
          ],
          [
           0.07121731272722608,
           0.027994396579810208,
           0.02796005296322196,
           0.011448772868740931,
           0.02522350591898885,
           0.20441119425148263,
           0.054326829127499615,
           0.4123966197301699,
           0.4782248361908792,
           0.39448721361346867,
           0.5430328768605203
          ],
          [
           0.03525771186996463,
           0.017607315844386965,
           0.0005189970627366029,
           0.16039085874150766,
           0.16935847835612647,
           0.11305904538754326,
           0.31824923245025266,
           0.013713097003189324,
           0.1648076345653578,
           0.02547116253318428,
           0.05919013924872016
          ],
          [
           0.02366077577734824,
           0.06559352944294163,
           0,
           0.1930194344327834,
           0.3967684925817942,
           0.2915603279313822,
           0,
           0.20591295583555638,
           0.1663769677074556,
           0.008078354938363532,
           0.02373644356057664
          ],
          [
           0.020038534940927416,
           0.01593611614192341,
           0.026428723627362972,
           0.3102110513733101,
           0.48534900956447724,
           0.5343424143270353,
           0.27981893834005106,
           0.08818715721083259,
           0,
           0.01206749266082013,
           0.06984724355400192
          ]
         ]
        },
        {
         "coloraxis": "coloraxis",
         "hovertemplate": "x: %{x}<br>y: %{y}<br>color: %{z}<extra></extra>",
         "name": "11",
         "type": "heatmap",
         "xaxis": "x12",
         "yaxis": "y12",
         "z": [
          [
           0.23193459028482077,
           0.5687857765551765,
           0.23060300446171592,
           0.6023975552244982,
           0.5634327823475997,
           0.47408114646777705,
           0.26702814947237985,
           0.13197031681649715,
           0.5037095376391904,
           0.5475435935290721,
           0.3135633922158324
          ],
          [
           0.227966549524986,
           0.335047170197403,
           0.461756944697112,
           0.5623267157966719,
           0.6636711108191287,
           0.7725429099649521,
           0.8978542748762508,
           0.5427866876819194,
           0.8713031377726826,
           0.7549887238509474,
           0.23142512724463848
          ],
          [
           0.521917985436832,
           0.5130099846255839,
           0.5472480780173709,
           0.9257381325068866,
           0.7696023418907989,
           0.645880331176682,
           0.9294410413229427,
           0.6210376555049876,
           0.5211728007858704,
           0.4831450909451101,
           0.25085957239773016
          ],
          [
           0.6563380139828872,
           0.7291400134843766,
           0.7104782110493089,
           0.9132703796666504,
           0.9265097852424964,
           0.5932107154662406,
           0.9455365789399747,
           0.781064479300614,
           0.4962554918699977,
           0.34960157301048134,
           0.2668131012784755
          ],
          [
           0.7129943836930752,
           0.9048595593610865,
           0.9014413434192645,
           0.42448772876364854,
           0.8597772368777273,
           0.5462060013756803,
           0.9015441985743249,
           0.7671219287156124,
           0.5987276181740994,
           0.49333921710224543,
           0.7150935605029691
          ],
          [
           0.30557883988853374,
           0.4978000027478862,
           0.48887626822600866,
           0.5053517703583013,
           0.8695268594614808,
           0.659564605558808,
           0.2953900546712393,
           0.6928221717996867,
           0.7025076024765555,
           0.7725335773353758,
           0.6890559810159524
          ],
          [
           0.16035384503460146,
           0.1801144141357413,
           0.1498708587757914,
           0.20933086038059787,
           0.30726631938080295,
           0.6561333051334067,
           0.23671269997537597,
           0.8181045441443536,
           0.9399308349816246,
           0.9719064327110377,
           0.9811240063278188
          ],
          [
           0.17395971153857112,
           0.1353799540671988,
           0.15442058586309312,
           0.13200149080610654,
           0.06735416073457827,
           0.2624443809011772,
           0.15120711837562936,
           0.5953802015396878,
           0.549099714726554,
           0.4475224615910688,
           0.6002075003198698
          ],
          [
           0.13717218984588922,
           0.1119646434786995,
           0.1343368577515169,
           0.23368636636113144,
           0.1936278756070322,
           0.18499561817747417,
           0.4029369648768148,
           0.13820289225196883,
           0.24835438752731293,
           0.10980209918180515,
           0.17880492729986805
          ],
          [
           0.12290917426168142,
           0.17126036833241212,
           0.13122460798934107,
           0.2576395483834154,
           0.4217545403309324,
           0.35289677879918774,
           0.17003451482869344,
           0.2628769005286271,
           0.25090021010539276,
           0.11336481283725001,
           0.11492441814624185
          ],
          [
           0.11846775434733985,
           0.13388822467355077,
           0.13147237054093594,
           0.3545172317079931,
           0.5127953304259012,
           0.5829888389869207,
           0.38278351089908885,
           0.1537102092380706,
           0.10710176869866744,
           0.11399139131643107,
           0.16691596220226748
          ]
         ]
        },
        {
         "coloraxis": "coloraxis",
         "hovertemplate": "x: %{x}<br>y: %{y}<br>color: %{z}<extra></extra>",
         "name": "12",
         "type": "heatmap",
         "xaxis": "x13",
         "yaxis": "y13",
         "z": [
          [
           0.2307698762475963,
           0.5680467048885536,
           0.23178672475768558,
           0.6070674066570356,
           0.5681312693064271,
           0.4749399900588713,
           0.2675714931292738,
           0.1325624304006808,
           0.500421568554135,
           0.5415480075417077,
           0.3045282339671454
          ],
          [
           0.2299551712952624,
           0.338547710069637,
           0.4637752957633677,
           0.5657127262011573,
           0.6666444171113066,
           0.7757607105187713,
           0.9057646113930722,
           0.5471611724545075,
           0.870318331945592,
           0.7502185832224622,
           0.22349315952644297
          ],
          [
           0.5244479694578557,
           0.5172524299727623,
           0.551362999366196,
           0.9282935115028795,
           0.7725704337230235,
           0.6501494495075719,
           0.9352882265915358,
           0.6252804881007011,
           0.5240404949680416,
           0.482265625908363,
           0.24821876866050988
          ],
          [
           0.6587176826371701,
           0.7331286234374728,
           0.7151711942873759,
           0.9180709736252946,
           0.9300793720553379,
           0.5975502359475384,
           0.9489865030501877,
           0.785800967048739,
           0.5005750668708436,
           0.3528855247203991,
           0.26923243108363853
          ],
          [
           0.7128254849499198,
           0.906870872646199,
           0.9062046415977718,
           0.4309001921555662,
           0.8630299071428694,
           0.5483440774362459,
           0.9059432336010705,
           0.7747537071597778,
           0.6057671900923723,
           0.4990828380302469,
           0.7211455357859589
          ],
          [
           0.300191459231296,
           0.496132633677447,
           0.4889964193339672,
           0.5098805847975363,
           0.8714708053949027,
           0.6625081478759829,
           0.3006357897969131,
           0.6987782889356988,
           0.7082962520191953,
           0.7784614806312083,
           0.693850276455525
          ],
          [
           0.15254291518088847,
           0.17567117580691466,
           0.1493776298950057,
           0.21005395865929066,
           0.31002075816697355,
           0.6587119433256785,
           0.23914744310086986,
           0.8229160747161413,
           0.944718378208812,
           0.975865393263689,
           0.9843178404467673
          ],
          [
           0.1665084324494773,
           0.1297931139949693,
           0.15240754327486966,
           0.13282046461773292,
           0.07154611035543276,
           0.26625747126242977,
           0.1544971872050147,
           0.5971535158968876,
           0.5480365587063765,
           0.44656053464043066,
           0.5987832011842533
          ],
          [
           0.12964663059070958,
           0.10669357163309995,
           0.13039622761259434,
           0.2343851124967888,
           0.19760684314727725,
           0.1913787933663993,
           0.4013669099775029,
           0.1343547914707973,
           0.24453670382075088,
           0.10401748175078769,
           0.1714601055853064
          ],
          [
           0.1157742780168628,
           0.16567369884409883,
           0.12684705184596803,
           0.2580671728383334,
           0.42601290786458135,
           0.3565462726978399,
           0.16215232029173782,
           0.26063530570494936,
           0.2468481254989483,
           0.1042224986788902,
           0.10835762190374193
          ],
          [
           0.11129951802144396,
           0.1275282097997017,
           0.12871955626615117,
           0.354574318920053,
           0.5141469852269643,
           0.5831014690227263,
           0.37653502860344074,
           0.15064495984555942,
           0.10001518427562339,
           0.10480947881345842,
           0.15959634823128152
          ]
         ]
        },
        {
         "coloraxis": "coloraxis",
         "hovertemplate": "x: %{x}<br>y: %{y}<br>color: %{z}<extra></extra>",
         "name": "13",
         "type": "heatmap",
         "xaxis": "x14",
         "yaxis": "y14",
         "z": [
          [
           0.3118438403018786,
           0.6605688267150592,
           0.32206297371316756,
           0.6954570460616051,
           0.6656882009548031,
           0.6441913939560557,
           0.3588967387541092,
           0.2420227115794979,
           0.6205760457948756,
           0.6868921995893897,
           0.4830301685504619
          ],
          [
           0.3272307470842441,
           0.45232160110553254,
           0.519028024169657,
           0.6162708868082802,
           0.6972967158251367,
           0.8278777714713458,
           1,
           0.5974357654445693,
           1,
           0.8670045769245658,
           0.38798368085334245
          ],
          [
           0.5730030232690542,
           0.5680871960769308,
           0.5991323778542531,
           0.9809478532971493,
           0.8191846146395249,
           0.699021037757839,
           1,
           0.6476695924308827,
           0.580342286871355,
           0.541858645755913,
           0.3494070764924853
          ],
          [
           0.708513263746872,
           0.781837720133788,
           0.7610165427259611,
           1,
           1,
           0.6509807023640354,
           1,
           0.8182728534080445,
           0.5259423085919132,
           0.3979627135047264,
           0.33512793734056295
          ],
          [
           0.803727329929769,
           1,
           0.9887513257880616,
           0.536690054898578,
           0.9905332058453267,
           0.5989049399841662,
           1,
           0.8474467489567491,
           0.6276955811046313,
           0.5103066970640513,
           0.7356738100204332
          ],
          [
           0.46493226446375613,
           0.6226177128694363,
           0.6046148175189388,
           0.6718904092050574,
           1,
           0.7411983225021294,
           0.37857559638205796,
           0.7486451550432618,
           0.7261316283456292,
           0.7841995255008252,
           0.6974034915780015
          ],
          [
           0.32533197091709276,
           0.3536143401692891,
           0.2594388496108081,
           0.3869225164588128,
           0.40531812485269453,
           0.7402888205356045,
           0.3142515418478506,
           0.9013719445941819,
           1,
           1,
           1
          ],
          [
           0.3228903089073839,
           0.29056115529598153,
           0.3462370545207505,
           0.3156448941133862,
           0.13779684899603667,
           0.35203782482862833,
           0.2756566470341598,
           0.8065127625802267,
           0.625239882190912,
           0.4974551254662768,
           0.6504934775868667
          ],
          [
           0.2894385660234626,
           0.25041536812825843,
           0.3302070427010117,
           0.34521938877094205,
           0.2428780088813026,
           0.3153362103519567,
           0.5193320371123847,
           0.3158934920184643,
           0.3736230834782126,
           0.2295744566090564,
           0.3433534524256825
          ],
          [
           0.2724430977915645,
           0.3254637853261919,
           0.31737323742000556,
           0.3545072818609153,
           0.46953997089745597,
           0.45296644638970557,
           0.40213327077492256,
           0.3537127922434789,
           0.39045636049308985,
           0.27730331780751044,
           0.25018405053076803
          ],
          [
           0.266882539575242,
           0.30562426446460267,
           0.28260116201725743,
           0.4185358064477338,
           0.5499412922584199,
           0.6435336660187141,
           0.5214095420325018,
           0.2627201233513827,
           0.2820411281836121,
           0.27084300676900785,
           0.31210780823467804
          ]
         ]
        },
        {
         "coloraxis": "coloraxis",
         "hovertemplate": "x: %{x}<br>y: %{y}<br>color: %{z}<extra></extra>",
         "name": "14",
         "type": "heatmap",
         "xaxis": "x15",
         "yaxis": "y15",
         "z": [
          [
           0.36135724885435627,
           0.8567459222853429,
           0.6010824938680183,
           0.43985967341730003,
           0,
           0.006922397545606039,
           0.05403446222715508,
           0.01470157596893426,
           1,
           1,
           1
          ],
          [
           0,
           0.13277967827059098,
           0.5910585829350898,
           0.7278486132346624,
           0.5652660507997409,
           0.5594806358757682,
           0,
           0,
           0.8426568794944747,
           1,
           1
          ],
          [
           0.2425336663283174,
           0.01737299959030834,
           0,
           0.6127347696522846,
           0.5202845797915904,
           0.5871764180554001,
           0.5935904702861414,
           0.09551404463523644,
           0,
           0.4906731748584828,
           0.8957524766182805
          ],
          [
           0.7437916235946898,
           0.4977012358003263,
           0.25620139213482535,
           0,
           0.28609811448183564,
           0.19188342172941825,
           0.3248783934956228,
           0.020553464031382373,
           0,
           0.06133493024866607,
           0.26531914051541605
          ],
          [
           1,
           0.8269337586383649,
           0.8877375758482227,
           0.2649732273731522,
           0.26008161670844887,
           0.4436844273048288,
           0,
           0.4119668749245621,
           0.334569291220949,
           0,
           0
          ],
          [
           1,
           1,
           1,
           0.44060975185278345,
           0.4309505565790615,
           0.5516295300973069,
           0,
           0.521347338231697,
           0.6675655171861185,
           0.5966390092035444,
           0.4132768663522079
          ],
          [
           1,
           0.7451703545539878,
           0.34414161580855457,
           0.45075408091615915,
           0.22606919573687626,
           0.6711169868051937,
           0.41720918045777516,
           0.709383009938309,
           0.9198646358044619,
           0.763813504640376,
           0.7692822868991135
          ],
          [
           1,
           1,
           0.5612502045776526,
           0.633180849077584,
           0.11631793454640293,
           0.3290067312809604,
           0.05845425558281287,
           0.4995516273597695,
           0.42828435763386014,
           0.3088820031445989,
           0.4822982644385665
          ],
          [
           1,
           1,
           1,
           0.6902616241920151,
           0.3253423810367707,
           0.014213050192013353,
           0,
           0.820238902324823,
           0.750753423008896,
           0.5199028265437596,
           1
          ],
          [
           1,
           1,
           1,
           0.7522564096289385,
           0.46408569133160754,
           0.09902443407506212,
           0.17417180260654475,
           1,
           1,
           1,
           1
          ],
          [
           1,
           1,
           0.8883677596221969,
           0.8559376682929454,
           0.5992978172022072,
           0.3858703880029589,
           0.9016932334677074,
           1,
           0.9256188397933186,
           1,
           1
          ]
         ]
        },
        {
         "coloraxis": "coloraxis",
         "hovertemplate": "x: %{x}<br>y: %{y}<br>color: %{z}<extra></extra>",
         "name": "15",
         "type": "heatmap",
         "xaxis": "x16",
         "yaxis": "y16",
         "z": [
          [
           0.23136800248615394,
           0.568574819713804,
           0.22750649790899308,
           0.5974592530431067,
           0.5620210385955283,
           0.478874595930524,
           0.26886663317226567,
           0.13245752627762364,
           0.506584393401949,
           0.5513051438980308,
           0.3143882457086216
          ],
          [
           0.2274672855599981,
           0.33371488302940816,
           0.4605716982914433,
           0.5584046688134983,
           0.6602932358957811,
           0.7693751728381168,
           0.8982033410636678,
           0.542333985799892,
           0.8765196703492802,
           0.7607589161947098,
           0.23256136662739646
          ],
          [
           0.5201380106797298,
           0.510777090652844,
           0.5458277485685331,
           0.9240275986639058,
           0.7642274414489483,
           0.6378127925400968,
           0.9234103933560469,
           0.6177886402260334,
           0.519681330963484,
           0.4864252267916231,
           0.2536158040007074
          ],
          [
           0.6502341937014924,
           0.723041201644942,
           0.7049745534070098,
           0.9103900492066627,
           0.924130734304966,
           0.5875292531303803,
           0.9410997647476981,
           0.7744854784233042,
           0.49243235136537783,
           0.3507251549722603,
           0.27044352321560067
          ],
          [
           0.7045096484499184,
           0.8947546775661871,
           0.8897052155521407,
           0.4153184564361397,
           0.8561068101011627,
           0.5428409128458213,
           0.8965377958292747,
           0.7572145982497628,
           0.592819988131668,
           0.49082867717384493,
           0.7161549925471254
          ],
          [
           0.2988705344648682,
           0.48913590439755994,
           0.4789999941645699,
           0.49104819635223335,
           0.8634520040710526,
           0.6551374000185337,
           0.28967489575370226,
           0.687784843325547,
           0.6967079605596779,
           0.7668065756540309,
           0.6855368866346604
          ],
          [
           0.1586035358669842,
           0.17418807847447196,
           0.1447916634798834,
           0.19911925643888184,
           0.30317142912282824,
           0.653721047296045,
           0.23286502319556857,
           0.8111255690687429,
           0.9305172285822532,
           0.9624289117829824,
           0.9721795080346456
          ],
          [
           0.1730310574064978,
           0.13104418434442008,
           0.14937741052947856,
           0.1239439430970338,
           0.06340582210545322,
           0.2613007474890963,
           0.1504095192784863,
           0.5819636459351658,
           0.5430876146880058,
           0.4422389648441149,
           0.5937505852206045
          ],
          [
           0.13615139169676077,
           0.10838108947881404,
           0.1281182823760818,
           0.22621936023872685,
           0.18878889131503251,
           0.1850824415313339,
           0.40621434877380114,
           0.1329810958137286,
           0.2481141340343593,
           0.10930004518452562,
           0.1742528624439223
          ],
          [
           0.1216375983921621,
           0.168303865435711,
           0.12684491367520054,
           0.2511216975138791,
           0.41633749067318243,
           0.3525942808323204,
           0.1724833412934304,
           0.26053929305686024,
           0.25135529924457695,
           0.11328700309331266,
           0.11332526642128536
          ],
          [
           0.11711480283472389,
           0.13047841877073263,
           0.12753554759781446,
           0.3513832704414045,
           0.5097235997762856,
           0.5810945489256987,
           0.3804274205608629,
           0.15205289004763667,
           0.1068846618926449,
           0.11310624024098288,
           0.16627636749180355
          ]
         ]
        },
        {
         "coloraxis": "coloraxis",
         "hovertemplate": "x: %{x}<br>y: %{y}<br>color: %{z}<extra></extra>",
         "name": "16",
         "type": "heatmap",
         "xaxis": "x17",
         "yaxis": "y17",
         "z": [
          [
           0,
           0,
           0,
           0.9837881179623842,
           0.6932718443348085,
           0,
           0,
           0,
           0,
           0,
           0
          ],
          [
           0.17040718345263972,
           0,
           0,
           0.17209267880583554,
           0.7071096451762616,
           0.9354492061467863,
           0.6384644626731277,
           0.6365160671761676,
           0.1710681243099213,
           0,
           0
          ],
          [
           0.48140173165307876,
           0.34348287197969024,
           0.19458435087093734,
           0,
           0.23067464376822477,
           0.4816940167737737,
           0.21363773034199765,
           1,
           1,
           0.3717287274981503,
           0
          ],
          [
           0.5242952338083963,
           0.5208191707306606,
           0.7407212341918215,
           0.24422901289737606,
           0,
           0,
           0,
           0.8912370108287045,
           1,
           0.48437434735002605,
           0
          ],
          [
           0,
           0,
           0.3987473354225293,
           0.053796580373161866,
           0,
           0.28360727325810225,
           0.2417730711972551,
           0.1293191741180904,
           1,
           1,
           1
          ],
          [
           0,
           0,
           0.01407254966563506,
           0.29398733401084937,
           0,
           0,
           0.08276778894545078,
           0,
           0.5483599917846814,
           1,
           1
          ],
          [
           0.1454752561027836,
           0.27216629107272455,
           0.25971953421378785,
           0.5831984056482732,
           0,
           0,
           0,
           0,
           0.05642683566203747,
           0.6080201703996075,
           0.9446684004620692
          ],
          [
           0,
           0.26987116750294016,
           0.41886503261266117,
           0.8916280487052003,
           0.17387253362201252,
           0,
           0.29183105446485136,
           1,
           0.294497642409794,
           0.2558796635147201,
           0.1435781713748644
          ],
          [
           0,
           0.03704277238468099,
           0.25399286521452236,
           1,
           0.5147920295658638,
           0,
           0.6335322175931947,
           0.8377493619038957,
           0,
           0.19328776774171366,
           0.2832999847051051
          ],
          [
           0.024143808652212495,
           0,
           0.08320938472906587,
           0.8825090493176164,
           0.8101050409536551,
           0.2961865339899551,
           1,
           0.4020548282055165,
           0,
           0.13556711214834274,
           0.009617626548332939
          ],
          [
           0.03356417902474387,
           0.02017898860558117,
           0,
           0.3847972773719051,
           0.5926480388759708,
           0.8125630415573195,
           1,
           0.17471434696181787,
           0.053949462887644156,
           0.13990220083829064,
           0
          ]
         ]
        },
        {
         "coloraxis": "coloraxis",
         "hovertemplate": "x: %{x}<br>y: %{y}<br>color: %{z}<extra></extra>",
         "name": "17",
         "type": "heatmap",
         "xaxis": "x18",
         "yaxis": "y18",
         "z": [
          [
           0.15391037918421788,
           0.4904943251365478,
           0.1564627437270803,
           0.539715877693405,
           0.5186568085570074,
           0.40513807839160076,
           0.22289575735951553,
           0.07983931813928086,
           0.42549025903107257,
           0.43343352680093405,
           0.15090755900176542
          ],
          [
           0.1939095452004793,
           0.2841316689942714,
           0.42727417583368027,
           0.516346494354345,
           0.6361477837036008,
           0.7309209979412886,
           0.8254828129429602,
           0.512428714065994,
           0.7763397333276518,
           0.6647255972469553,
           0.09021760065465775
          ],
          [
           0.4856844878232379,
           0.47044127213664866,
           0.505330042143853,
           0.866359859227797,
           0.70238845693964,
           0.5698442688893082,
           0.8286052586681911,
           0.5987625098822602,
           0.486220934528675,
           0.46318665760071626,
           0.1976087364257827
          ],
          [
           0.5809322717350524,
           0.6466354576301563,
           0.6312406777740969,
           0.7877331542672242,
           0.8162261036550106,
           0.502640041757365,
           0.8586869180635245,
           0.7313746609798466,
           0.48002783263378235,
           0.36293085857704355,
           0.28061118939288127
          ],
          [
           0.5674921320993017,
           0.7276420989930261,
           0.718607381285243,
           0.214484869978601,
           0.6410359266088829,
           0.4683554170140989,
           0.7649314651498133,
           0.6505395030586641,
           0.5731787791920678,
           0.5019254652106224,
           0.7362565661427289
          ],
          [
           0.11498750917332855,
           0.31884301902650036,
           0.29408593894538854,
           0.22070859118692057,
           0.6595345357895466,
           0.5420489590912994,
           0.183981487152245,
           0.5992723852150558,
           0.6474999614834589,
           0.7315498740237839,
           0.6588305128305479
          ],
          [
           0,
           0,
           0.028987215694572976,
           0,
           0.20016953268229795,
           0.5666427938746494,
           0.1456685726061316,
           0.670607565165213,
           0.784972125760275,
           0.8653408458258561,
           0.894758093479245
          ],
          [
           0.04099029497275055,
           0,
           0,
           0,
           0.03134572269266149,
           0.2205668401300765,
           0.07423948224372771,
           0.3457631540597405,
           0.4315513615453862,
           0.35419761183897,
           0.49177281344568524
          ],
          [
           0.007774868072640112,
           0,
           0,
           0.18558332909012396,
           0.19298672606324527,
           0.19234117172478343,
           0.3779817267811558,
           0,
           0.14046103595915796,
           0,
           0
          ],
          [
           0,
           0.05048641277822995,
           0.005147567677286046,
           0.21740876054181865,
           0.4226346349672382,
           0.3677618085771001,
           0.13924980260123102,
           0.20875734673248275,
           0.16521834359916812,
           0,
           0
          ],
          [
           0,
           0,
           0.022891355637469385,
           0.31837596543148716,
           0.4985369006019861,
           0.5677997300079228,
           0.3290873368193613,
           0.09002470528179424,
           0.006100668243758025,
           0,
           0.04567638694010936
          ]
         ]
        },
        {
         "coloraxis": "coloraxis",
         "hovertemplate": "x: %{x}<br>y: %{y}<br>color: %{z}<extra></extra>",
         "name": "18",
         "type": "heatmap",
         "xaxis": "x19",
         "yaxis": "y19",
         "z": [
          [
           0.25257992511012345,
           0.5925942419116366,
           0.2548676383140989,
           0.630452251578832,
           0.5992907754219357,
           0.5355280968353876,
           0.29823179648948994,
           0.166490475875706,
           0.5371946702563832,
           0.5812949157915751,
           0.349336504983598
          ],
          [
           0.2605365578293336,
           0.37433348663270183,
           0.48096804468233184,
           0.5797743027981505,
           0.6746734933048646,
           0.7932009873583905,
           0.9399466647770106,
           0.56532171746852,
           0.9161689113990066,
           0.7871985329897273,
           0.26716384565811474
          ],
          [
           0.5397595871834978,
           0.5342463100512898,
           0.5680265320522897,
           0.9456771182774568,
           0.7855360782203078,
           0.6626554874876036,
           0.9537169066804728,
           0.6320407073712007,
           0.5442230568885909,
           0.505402993392451,
           0.27900453584804835
          ],
          [
           0.6700634616639712,
           0.745581249195435,
           0.7292395302617013,
           0.945011434588646,
           0.9522429627360297,
           0.6116650051272365,
           0.9621334453722953,
           0.795166119304801,
           0.5089930005405418,
           0.3740922470720459,
           0.2959255656878766
          ],
          [
           0.7311141554096575,
           0.9264192404198291,
           0.9252933291924683,
           0.4597786946512018,
           0.9016063841221822,
           0.5618546537853214,
           0.9307641672716435,
           0.794992557836716,
           0.6121781109669295,
           0.506027872538166,
           0.7328192688194023
          ],
          [
           0.33723665721475293,
           0.5233351868972511,
           0.5148684209450253,
           0.5479925891328757,
           0.9051847314500078,
           0.6823656881603652,
           0.31969728118027435,
           0.7121451767292017,
           0.7130495443864857,
           0.7810324767737574,
           0.6981139396293635
          ],
          [
           0.19439866934440247,
           0.21800448492106053,
           0.17571864592963224,
           0.25531986768967607,
           0.33585850139911905,
           0.6813205938163156,
           0.25826286162552436,
           0.8412911944910849,
           0.9564071696333323,
           0.9786837917470043,
           0.9856896273585691
          ],
          [
           0.20562605993813335,
           0.1700052259037374,
           0.20074808130791394,
           0.18160589449188286,
           0.09031660444654645,
           0.29069045147100964,
           0.1864145197535815,
           0.6467942276584043,
           0.5650130400182112,
           0.4568749926419989,
           0.6090917092879016
          ],
          [
           0.17021448038871761,
           0.14230509844990297,
           0.17842471672263452,
           0.26271811250937604,
           0.20991855991871045,
           0.22790386340416216,
           0.4374159131269358,
           0.18309617076912044,
           0.2779472709644649,
           0.13705748122899972,
           0.2133047493412097
          ],
          [
           0.15542166983154088,
           0.20543091963520094,
           0.17448665376278077,
           0.28275245541884136,
           0.43647109452746047,
           0.3841092848981809,
           0.23720135651692,
           0.2850912203924648,
           0.2839773093991783,
           0.15012323305035988,
           0.14362260952163433
          ],
          [
           0.1507209137420797,
           0.1723106311550714,
           0.16784423145620914,
           0.3703547065837804,
           0.5216859713311376,
           0.5974350146100493,
           0.41782306110050604,
           0.17941863505528177,
           0.14733208062989114,
           0.1478782316978328,
           0.19813521988931684
          ]
         ]
        },
        {
         "coloraxis": "coloraxis",
         "hovertemplate": "x: %{x}<br>y: %{y}<br>color: %{z}<extra></extra>",
         "name": "19",
         "type": "heatmap",
         "xaxis": "x20",
         "yaxis": "y20",
         "z": [
          [
           0.23809158559718246,
           0.577818073215628,
           0.23661046021856807,
           0.6035872704575882,
           0.5635884960606433,
           0.48109997051699926,
           0.27518779554217615,
           0.14356751203723864,
           0.5168805806563095,
           0.5657754505905601,
           0.3402100611290232
          ],
          [
           0.23399573224472792,
           0.34035047197324986,
           0.4618416787983656,
           0.5572531203484629,
           0.6580297955924747,
           0.7634388031516718,
           0.8889627205110746,
           0.5400012095074582,
           0.8741304785994665,
           0.766394951886584,
           0.2568551376706861
          ],
          [
           0.5179094912439183,
           0.5071854540873862,
           0.5400021883024468,
           0.9162481394645804,
           0.7587367517287134,
           0.6314866524637406,
           0.9106053205713449,
           0.613757296617798,
           0.516219549069157,
           0.48626819147289946,
           0.26636660850079436
          ],
          [
           0.6472090573777732,
           0.7172367183421483,
           0.6967567435298196,
           0.8969018813805634,
           0.9155601596489925,
           0.5830307024547587,
           0.932603029370328,
           0.7676994379186994,
           0.49022084735474036,
           0.3462156952679014,
           0.27337956324545576
          ],
          [
           0.7096541815706877,
           0.8961643104401749,
           0.885860344085284,
           0.40644900892537306,
           0.84256909895689,
           0.54094043013561,
           0.8918556031278182,
           0.7485627197676623,
           0.5889232711974952,
           0.4836210971454864,
           0.7076083827712398
          ],
          [
           0.32167606144885164,
           0.5043244765422913,
           0.4884122378039344,
           0.497903295406856,
           0.8598757084506754,
           0.652637524335521,
           0.28712068143884917,
           0.680563524661966,
           0.6903327307239653,
           0.7579849295177934,
           0.6743563773271221
          ],
          [
           0.18648237944889984,
           0.20367422052292958,
           0.16082999875738724,
           0.21757765498965598,
           0.3087660470599441,
           0.6546116623885323,
           0.23311508561859912,
           0.8081518238395989,
           0.9247117867646037,
           0.9561385660728843,
           0.9637614222983151
          ],
          [
           0.19981150262154934,
           0.159127170844503,
           0.18056280562486202,
           0.14886561882427254,
           0.07010855844170846,
           0.26152066562296333,
           0.14886056053545083,
           0.5890730492996814,
           0.546017031289659,
           0.44394770866421823,
           0.5961768680297562
          ],
          [
           0.16351130002541905,
           0.13301541110247023,
           0.15950178018936514,
           0.24191256254274818,
           0.19325244126851351,
           0.18147451129838515,
           0.40305066480536617,
           0.15231767938514962,
           0.2643928323278326,
           0.12593177874434117,
           0.20269423553955557
          ],
          [
           0.14795697482784625,
           0.1949216243079194,
           0.15599919810708038,
           0.2643160018875343,
           0.4199334578777382,
           0.34850946232241653,
           0.17003153626750336,
           0.27236746698655656,
           0.270479241702052,
           0.13668610064397127,
           0.13685605771358406
          ],
          [
           0.14261812335382362,
           0.15971889060675337,
           0.15078209845647944,
           0.35879307537950034,
           0.5115636566215938,
           0.5811109602623356,
           0.38656186780158164,
           0.16772029866164817,
           0.13165203569449394,
           0.13707236175747667,
           0.19138535333480786
          ]
         ]
        }
       ],
       "layout": {
        "annotations": [
         {
          "font": {},
          "showarrow": false,
          "text": "facet_col=0",
          "x": 0.0155,
          "xanchor": "center",
          "xref": "paper",
          "y": 1,
          "yanchor": "bottom",
          "yref": "paper"
         },
         {
          "font": {},
          "showarrow": false,
          "text": "facet_col=1",
          "x": 0.0665,
          "xanchor": "center",
          "xref": "paper",
          "y": 1,
          "yanchor": "bottom",
          "yref": "paper"
         },
         {
          "font": {},
          "showarrow": false,
          "text": "facet_col=2",
          "x": 0.11750000000000001,
          "xanchor": "center",
          "xref": "paper",
          "y": 1,
          "yanchor": "bottom",
          "yref": "paper"
         },
         {
          "font": {},
          "showarrow": false,
          "text": "facet_col=3",
          "x": 0.16849999999999998,
          "xanchor": "center",
          "xref": "paper",
          "y": 1,
          "yanchor": "bottom",
          "yref": "paper"
         },
         {
          "font": {},
          "showarrow": false,
          "text": "facet_col=4",
          "x": 0.21950000000000003,
          "xanchor": "center",
          "xref": "paper",
          "y": 1,
          "yanchor": "bottom",
          "yref": "paper"
         },
         {
          "font": {},
          "showarrow": false,
          "text": "facet_col=5",
          "x": 0.2705,
          "xanchor": "center",
          "xref": "paper",
          "y": 1,
          "yanchor": "bottom",
          "yref": "paper"
         },
         {
          "font": {},
          "showarrow": false,
          "text": "facet_col=6",
          "x": 0.3215,
          "xanchor": "center",
          "xref": "paper",
          "y": 1,
          "yanchor": "bottom",
          "yref": "paper"
         },
         {
          "font": {},
          "showarrow": false,
          "text": "facet_col=7",
          "x": 0.3725,
          "xanchor": "center",
          "xref": "paper",
          "y": 1,
          "yanchor": "bottom",
          "yref": "paper"
         },
         {
          "font": {},
          "showarrow": false,
          "text": "facet_col=8",
          "x": 0.42350000000000004,
          "xanchor": "center",
          "xref": "paper",
          "y": 1,
          "yanchor": "bottom",
          "yref": "paper"
         },
         {
          "font": {},
          "showarrow": false,
          "text": "facet_col=9",
          "x": 0.47450000000000003,
          "xanchor": "center",
          "xref": "paper",
          "y": 1,
          "yanchor": "bottom",
          "yref": "paper"
         },
         {
          "font": {},
          "showarrow": false,
          "text": "facet_col=10",
          "x": 0.5255000000000001,
          "xanchor": "center",
          "xref": "paper",
          "y": 1,
          "yanchor": "bottom",
          "yref": "paper"
         },
         {
          "font": {},
          "showarrow": false,
          "text": "facet_col=11",
          "x": 0.5765,
          "xanchor": "center",
          "xref": "paper",
          "y": 1,
          "yanchor": "bottom",
          "yref": "paper"
         },
         {
          "font": {},
          "showarrow": false,
          "text": "facet_col=12",
          "x": 0.6275,
          "xanchor": "center",
          "xref": "paper",
          "y": 1,
          "yanchor": "bottom",
          "yref": "paper"
         },
         {
          "font": {},
          "showarrow": false,
          "text": "facet_col=13",
          "x": 0.6785000000000001,
          "xanchor": "center",
          "xref": "paper",
          "y": 1,
          "yanchor": "bottom",
          "yref": "paper"
         },
         {
          "font": {},
          "showarrow": false,
          "text": "facet_col=14",
          "x": 0.7295,
          "xanchor": "center",
          "xref": "paper",
          "y": 1,
          "yanchor": "bottom",
          "yref": "paper"
         },
         {
          "font": {},
          "showarrow": false,
          "text": "facet_col=15",
          "x": 0.7805,
          "xanchor": "center",
          "xref": "paper",
          "y": 1,
          "yanchor": "bottom",
          "yref": "paper"
         },
         {
          "font": {},
          "showarrow": false,
          "text": "facet_col=16",
          "x": 0.8315000000000001,
          "xanchor": "center",
          "xref": "paper",
          "y": 1,
          "yanchor": "bottom",
          "yref": "paper"
         },
         {
          "font": {},
          "showarrow": false,
          "text": "facet_col=17",
          "x": 0.8825000000000001,
          "xanchor": "center",
          "xref": "paper",
          "y": 1,
          "yanchor": "bottom",
          "yref": "paper"
         },
         {
          "font": {},
          "showarrow": false,
          "text": "facet_col=18",
          "x": 0.9335,
          "xanchor": "center",
          "xref": "paper",
          "y": 1,
          "yanchor": "bottom",
          "yref": "paper"
         },
         {
          "font": {},
          "showarrow": false,
          "text": "facet_col=19",
          "x": 0.9844999999999999,
          "xanchor": "center",
          "xref": "paper",
          "y": 1,
          "yanchor": "bottom",
          "yref": "paper"
         }
        ],
        "coloraxis": {
         "colorscale": [
          [
           0,
           "#0d0887"
          ],
          [
           0.1111111111111111,
           "#46039f"
          ],
          [
           0.2222222222222222,
           "#7201a8"
          ],
          [
           0.3333333333333333,
           "#9c179e"
          ],
          [
           0.4444444444444444,
           "#bd3786"
          ],
          [
           0.5555555555555556,
           "#d8576b"
          ],
          [
           0.6666666666666666,
           "#ed7953"
          ],
          [
           0.7777777777777778,
           "#fb9f3a"
          ],
          [
           0.8888888888888888,
           "#fdca26"
          ],
          [
           1,
           "#f0f921"
          ]
         ]
        },
        "margin": {
         "t": 60
        },
        "template": {
         "data": {
          "bar": [
           {
            "error_x": {
             "color": "#2a3f5f"
            },
            "error_y": {
             "color": "#2a3f5f"
            },
            "marker": {
             "line": {
              "color": "#E5ECF6",
              "width": 0.5
             },
             "pattern": {
              "fillmode": "overlay",
              "size": 10,
              "solidity": 0.2
             }
            },
            "type": "bar"
           }
          ],
          "barpolar": [
           {
            "marker": {
             "line": {
              "color": "#E5ECF6",
              "width": 0.5
             },
             "pattern": {
              "fillmode": "overlay",
              "size": 10,
              "solidity": 0.2
             }
            },
            "type": "barpolar"
           }
          ],
          "carpet": [
           {
            "aaxis": {
             "endlinecolor": "#2a3f5f",
             "gridcolor": "white",
             "linecolor": "white",
             "minorgridcolor": "white",
             "startlinecolor": "#2a3f5f"
            },
            "baxis": {
             "endlinecolor": "#2a3f5f",
             "gridcolor": "white",
             "linecolor": "white",
             "minorgridcolor": "white",
             "startlinecolor": "#2a3f5f"
            },
            "type": "carpet"
           }
          ],
          "choropleth": [
           {
            "colorbar": {
             "outlinewidth": 0,
             "ticks": ""
            },
            "type": "choropleth"
           }
          ],
          "contour": [
           {
            "colorbar": {
             "outlinewidth": 0,
             "ticks": ""
            },
            "colorscale": [
             [
              0,
              "#0d0887"
             ],
             [
              0.1111111111111111,
              "#46039f"
             ],
             [
              0.2222222222222222,
              "#7201a8"
             ],
             [
              0.3333333333333333,
              "#9c179e"
             ],
             [
              0.4444444444444444,
              "#bd3786"
             ],
             [
              0.5555555555555556,
              "#d8576b"
             ],
             [
              0.6666666666666666,
              "#ed7953"
             ],
             [
              0.7777777777777778,
              "#fb9f3a"
             ],
             [
              0.8888888888888888,
              "#fdca26"
             ],
             [
              1,
              "#f0f921"
             ]
            ],
            "type": "contour"
           }
          ],
          "contourcarpet": [
           {
            "colorbar": {
             "outlinewidth": 0,
             "ticks": ""
            },
            "type": "contourcarpet"
           }
          ],
          "heatmap": [
           {
            "colorbar": {
             "outlinewidth": 0,
             "ticks": ""
            },
            "colorscale": [
             [
              0,
              "#0d0887"
             ],
             [
              0.1111111111111111,
              "#46039f"
             ],
             [
              0.2222222222222222,
              "#7201a8"
             ],
             [
              0.3333333333333333,
              "#9c179e"
             ],
             [
              0.4444444444444444,
              "#bd3786"
             ],
             [
              0.5555555555555556,
              "#d8576b"
             ],
             [
              0.6666666666666666,
              "#ed7953"
             ],
             [
              0.7777777777777778,
              "#fb9f3a"
             ],
             [
              0.8888888888888888,
              "#fdca26"
             ],
             [
              1,
              "#f0f921"
             ]
            ],
            "type": "heatmap"
           }
          ],
          "heatmapgl": [
           {
            "colorbar": {
             "outlinewidth": 0,
             "ticks": ""
            },
            "colorscale": [
             [
              0,
              "#0d0887"
             ],
             [
              0.1111111111111111,
              "#46039f"
             ],
             [
              0.2222222222222222,
              "#7201a8"
             ],
             [
              0.3333333333333333,
              "#9c179e"
             ],
             [
              0.4444444444444444,
              "#bd3786"
             ],
             [
              0.5555555555555556,
              "#d8576b"
             ],
             [
              0.6666666666666666,
              "#ed7953"
             ],
             [
              0.7777777777777778,
              "#fb9f3a"
             ],
             [
              0.8888888888888888,
              "#fdca26"
             ],
             [
              1,
              "#f0f921"
             ]
            ],
            "type": "heatmapgl"
           }
          ],
          "histogram": [
           {
            "marker": {
             "pattern": {
              "fillmode": "overlay",
              "size": 10,
              "solidity": 0.2
             }
            },
            "type": "histogram"
           }
          ],
          "histogram2d": [
           {
            "colorbar": {
             "outlinewidth": 0,
             "ticks": ""
            },
            "colorscale": [
             [
              0,
              "#0d0887"
             ],
             [
              0.1111111111111111,
              "#46039f"
             ],
             [
              0.2222222222222222,
              "#7201a8"
             ],
             [
              0.3333333333333333,
              "#9c179e"
             ],
             [
              0.4444444444444444,
              "#bd3786"
             ],
             [
              0.5555555555555556,
              "#d8576b"
             ],
             [
              0.6666666666666666,
              "#ed7953"
             ],
             [
              0.7777777777777778,
              "#fb9f3a"
             ],
             [
              0.8888888888888888,
              "#fdca26"
             ],
             [
              1,
              "#f0f921"
             ]
            ],
            "type": "histogram2d"
           }
          ],
          "histogram2dcontour": [
           {
            "colorbar": {
             "outlinewidth": 0,
             "ticks": ""
            },
            "colorscale": [
             [
              0,
              "#0d0887"
             ],
             [
              0.1111111111111111,
              "#46039f"
             ],
             [
              0.2222222222222222,
              "#7201a8"
             ],
             [
              0.3333333333333333,
              "#9c179e"
             ],
             [
              0.4444444444444444,
              "#bd3786"
             ],
             [
              0.5555555555555556,
              "#d8576b"
             ],
             [
              0.6666666666666666,
              "#ed7953"
             ],
             [
              0.7777777777777778,
              "#fb9f3a"
             ],
             [
              0.8888888888888888,
              "#fdca26"
             ],
             [
              1,
              "#f0f921"
             ]
            ],
            "type": "histogram2dcontour"
           }
          ],
          "mesh3d": [
           {
            "colorbar": {
             "outlinewidth": 0,
             "ticks": ""
            },
            "type": "mesh3d"
           }
          ],
          "parcoords": [
           {
            "line": {
             "colorbar": {
              "outlinewidth": 0,
              "ticks": ""
             }
            },
            "type": "parcoords"
           }
          ],
          "pie": [
           {
            "automargin": true,
            "type": "pie"
           }
          ],
          "scatter": [
           {
            "fillpattern": {
             "fillmode": "overlay",
             "size": 10,
             "solidity": 0.2
            },
            "type": "scatter"
           }
          ],
          "scatter3d": [
           {
            "line": {
             "colorbar": {
              "outlinewidth": 0,
              "ticks": ""
             }
            },
            "marker": {
             "colorbar": {
              "outlinewidth": 0,
              "ticks": ""
             }
            },
            "type": "scatter3d"
           }
          ],
          "scattercarpet": [
           {
            "marker": {
             "colorbar": {
              "outlinewidth": 0,
              "ticks": ""
             }
            },
            "type": "scattercarpet"
           }
          ],
          "scattergeo": [
           {
            "marker": {
             "colorbar": {
              "outlinewidth": 0,
              "ticks": ""
             }
            },
            "type": "scattergeo"
           }
          ],
          "scattergl": [
           {
            "marker": {
             "colorbar": {
              "outlinewidth": 0,
              "ticks": ""
             }
            },
            "type": "scattergl"
           }
          ],
          "scattermapbox": [
           {
            "marker": {
             "colorbar": {
              "outlinewidth": 0,
              "ticks": ""
             }
            },
            "type": "scattermapbox"
           }
          ],
          "scatterpolar": [
           {
            "marker": {
             "colorbar": {
              "outlinewidth": 0,
              "ticks": ""
             }
            },
            "type": "scatterpolar"
           }
          ],
          "scatterpolargl": [
           {
            "marker": {
             "colorbar": {
              "outlinewidth": 0,
              "ticks": ""
             }
            },
            "type": "scatterpolargl"
           }
          ],
          "scatterternary": [
           {
            "marker": {
             "colorbar": {
              "outlinewidth": 0,
              "ticks": ""
             }
            },
            "type": "scatterternary"
           }
          ],
          "surface": [
           {
            "colorbar": {
             "outlinewidth": 0,
             "ticks": ""
            },
            "colorscale": [
             [
              0,
              "#0d0887"
             ],
             [
              0.1111111111111111,
              "#46039f"
             ],
             [
              0.2222222222222222,
              "#7201a8"
             ],
             [
              0.3333333333333333,
              "#9c179e"
             ],
             [
              0.4444444444444444,
              "#bd3786"
             ],
             [
              0.5555555555555556,
              "#d8576b"
             ],
             [
              0.6666666666666666,
              "#ed7953"
             ],
             [
              0.7777777777777778,
              "#fb9f3a"
             ],
             [
              0.8888888888888888,
              "#fdca26"
             ],
             [
              1,
              "#f0f921"
             ]
            ],
            "type": "surface"
           }
          ],
          "table": [
           {
            "cells": {
             "fill": {
              "color": "#EBF0F8"
             },
             "line": {
              "color": "white"
             }
            },
            "header": {
             "fill": {
              "color": "#C8D4E3"
             },
             "line": {
              "color": "white"
             }
            },
            "type": "table"
           }
          ]
         },
         "layout": {
          "annotationdefaults": {
           "arrowcolor": "#2a3f5f",
           "arrowhead": 0,
           "arrowwidth": 1
          },
          "autotypenumbers": "strict",
          "coloraxis": {
           "colorbar": {
            "outlinewidth": 0,
            "ticks": ""
           }
          },
          "colorscale": {
           "diverging": [
            [
             0,
             "#8e0152"
            ],
            [
             0.1,
             "#c51b7d"
            ],
            [
             0.2,
             "#de77ae"
            ],
            [
             0.3,
             "#f1b6da"
            ],
            [
             0.4,
             "#fde0ef"
            ],
            [
             0.5,
             "#f7f7f7"
            ],
            [
             0.6,
             "#e6f5d0"
            ],
            [
             0.7,
             "#b8e186"
            ],
            [
             0.8,
             "#7fbc41"
            ],
            [
             0.9,
             "#4d9221"
            ],
            [
             1,
             "#276419"
            ]
           ],
           "sequential": [
            [
             0,
             "#0d0887"
            ],
            [
             0.1111111111111111,
             "#46039f"
            ],
            [
             0.2222222222222222,
             "#7201a8"
            ],
            [
             0.3333333333333333,
             "#9c179e"
            ],
            [
             0.4444444444444444,
             "#bd3786"
            ],
            [
             0.5555555555555556,
             "#d8576b"
            ],
            [
             0.6666666666666666,
             "#ed7953"
            ],
            [
             0.7777777777777778,
             "#fb9f3a"
            ],
            [
             0.8888888888888888,
             "#fdca26"
            ],
            [
             1,
             "#f0f921"
            ]
           ],
           "sequentialminus": [
            [
             0,
             "#0d0887"
            ],
            [
             0.1111111111111111,
             "#46039f"
            ],
            [
             0.2222222222222222,
             "#7201a8"
            ],
            [
             0.3333333333333333,
             "#9c179e"
            ],
            [
             0.4444444444444444,
             "#bd3786"
            ],
            [
             0.5555555555555556,
             "#d8576b"
            ],
            [
             0.6666666666666666,
             "#ed7953"
            ],
            [
             0.7777777777777778,
             "#fb9f3a"
            ],
            [
             0.8888888888888888,
             "#fdca26"
            ],
            [
             1,
             "#f0f921"
            ]
           ]
          },
          "colorway": [
           "#636efa",
           "#EF553B",
           "#00cc96",
           "#ab63fa",
           "#FFA15A",
           "#19d3f3",
           "#FF6692",
           "#B6E880",
           "#FF97FF",
           "#FECB52"
          ],
          "font": {
           "color": "#2a3f5f"
          },
          "geo": {
           "bgcolor": "white",
           "lakecolor": "white",
           "landcolor": "#E5ECF6",
           "showlakes": true,
           "showland": true,
           "subunitcolor": "white"
          },
          "hoverlabel": {
           "align": "left"
          },
          "hovermode": "closest",
          "mapbox": {
           "style": "light"
          },
          "paper_bgcolor": "white",
          "plot_bgcolor": "#E5ECF6",
          "polar": {
           "angularaxis": {
            "gridcolor": "white",
            "linecolor": "white",
            "ticks": ""
           },
           "bgcolor": "#E5ECF6",
           "radialaxis": {
            "gridcolor": "white",
            "linecolor": "white",
            "ticks": ""
           }
          },
          "scene": {
           "xaxis": {
            "backgroundcolor": "#E5ECF6",
            "gridcolor": "white",
            "gridwidth": 2,
            "linecolor": "white",
            "showbackground": true,
            "ticks": "",
            "zerolinecolor": "white"
           },
           "yaxis": {
            "backgroundcolor": "#E5ECF6",
            "gridcolor": "white",
            "gridwidth": 2,
            "linecolor": "white",
            "showbackground": true,
            "ticks": "",
            "zerolinecolor": "white"
           },
           "zaxis": {
            "backgroundcolor": "#E5ECF6",
            "gridcolor": "white",
            "gridwidth": 2,
            "linecolor": "white",
            "showbackground": true,
            "ticks": "",
            "zerolinecolor": "white"
           }
          },
          "shapedefaults": {
           "line": {
            "color": "#2a3f5f"
           }
          },
          "ternary": {
           "aaxis": {
            "gridcolor": "white",
            "linecolor": "white",
            "ticks": ""
           },
           "baxis": {
            "gridcolor": "white",
            "linecolor": "white",
            "ticks": ""
           },
           "bgcolor": "#E5ECF6",
           "caxis": {
            "gridcolor": "white",
            "linecolor": "white",
            "ticks": ""
           }
          },
          "title": {
           "x": 0.05
          },
          "xaxis": {
           "automargin": true,
           "gridcolor": "white",
           "linecolor": "white",
           "ticks": "",
           "title": {
            "standoff": 15
           },
           "zerolinecolor": "white",
           "zerolinewidth": 2
          },
          "yaxis": {
           "automargin": true,
           "gridcolor": "white",
           "linecolor": "white",
           "ticks": "",
           "title": {
            "standoff": 15
           },
           "zerolinecolor": "white",
           "zerolinewidth": 2
          }
         }
        },
        "xaxis": {
         "anchor": "y",
         "constrain": "domain",
         "domain": [
          0,
          0.031
         ],
         "scaleanchor": "y"
        },
        "xaxis10": {
         "anchor": "y10",
         "domain": [
          0.459,
          0.49
         ],
         "matches": "x"
        },
        "xaxis11": {
         "anchor": "y11",
         "domain": [
          0.51,
          0.541
         ],
         "matches": "x"
        },
        "xaxis12": {
         "anchor": "y12",
         "domain": [
          0.5609999999999999,
          0.592
         ],
         "matches": "x"
        },
        "xaxis13": {
         "anchor": "y13",
         "domain": [
          0.612,
          0.643
         ],
         "matches": "x"
        },
        "xaxis14": {
         "anchor": "y14",
         "domain": [
          0.663,
          0.6940000000000001
         ],
         "matches": "x"
        },
        "xaxis15": {
         "anchor": "y15",
         "domain": [
          0.714,
          0.745
         ],
         "matches": "x"
        },
        "xaxis16": {
         "anchor": "y16",
         "domain": [
          0.7649999999999999,
          0.7959999999999999
         ],
         "matches": "x"
        },
        "xaxis17": {
         "anchor": "y17",
         "domain": [
          0.8160000000000001,
          0.8470000000000001
         ],
         "matches": "x"
        },
        "xaxis18": {
         "anchor": "y18",
         "domain": [
          0.867,
          0.898
         ],
         "matches": "x"
        },
        "xaxis19": {
         "anchor": "y19",
         "domain": [
          0.918,
          0.9490000000000001
         ],
         "matches": "x"
        },
        "xaxis2": {
         "anchor": "y2",
         "domain": [
          0.051000000000000004,
          0.082
         ],
         "matches": "x"
        },
        "xaxis20": {
         "anchor": "y20",
         "domain": [
          0.969,
          1
         ],
         "matches": "x"
        },
        "xaxis3": {
         "anchor": "y3",
         "domain": [
          0.10200000000000001,
          0.133
         ],
         "matches": "x"
        },
        "xaxis4": {
         "anchor": "y4",
         "domain": [
          0.153,
          0.184
         ],
         "matches": "x"
        },
        "xaxis5": {
         "anchor": "y5",
         "domain": [
          0.20400000000000001,
          0.23500000000000001
         ],
         "matches": "x"
        },
        "xaxis6": {
         "anchor": "y6",
         "domain": [
          0.255,
          0.28600000000000003
         ],
         "matches": "x"
        },
        "xaxis7": {
         "anchor": "y7",
         "domain": [
          0.306,
          0.33699999999999997
         ],
         "matches": "x"
        },
        "xaxis8": {
         "anchor": "y8",
         "domain": [
          0.357,
          0.388
         ],
         "matches": "x"
        },
        "xaxis9": {
         "anchor": "y9",
         "domain": [
          0.40800000000000003,
          0.43900000000000006
         ],
         "matches": "x"
        },
        "yaxis": {
         "anchor": "x",
         "autorange": "reversed",
         "constrain": "domain",
         "domain": [
          0,
          1
         ]
        },
        "yaxis10": {
         "anchor": "x10",
         "domain": [
          0,
          1
         ],
         "matches": "y",
         "showticklabels": false
        },
        "yaxis11": {
         "anchor": "x11",
         "domain": [
          0,
          1
         ],
         "matches": "y",
         "showticklabels": false
        },
        "yaxis12": {
         "anchor": "x12",
         "domain": [
          0,
          1
         ],
         "matches": "y",
         "showticklabels": false
        },
        "yaxis13": {
         "anchor": "x13",
         "domain": [
          0,
          1
         ],
         "matches": "y",
         "showticklabels": false
        },
        "yaxis14": {
         "anchor": "x14",
         "domain": [
          0,
          1
         ],
         "matches": "y",
         "showticklabels": false
        },
        "yaxis15": {
         "anchor": "x15",
         "domain": [
          0,
          1
         ],
         "matches": "y",
         "showticklabels": false
        },
        "yaxis16": {
         "anchor": "x16",
         "domain": [
          0,
          1
         ],
         "matches": "y",
         "showticklabels": false
        },
        "yaxis17": {
         "anchor": "x17",
         "domain": [
          0,
          1
         ],
         "matches": "y",
         "showticklabels": false
        },
        "yaxis18": {
         "anchor": "x18",
         "domain": [
          0,
          1
         ],
         "matches": "y",
         "showticklabels": false
        },
        "yaxis19": {
         "anchor": "x19",
         "domain": [
          0,
          1
         ],
         "matches": "y",
         "showticklabels": false
        },
        "yaxis2": {
         "anchor": "x2",
         "domain": [
          0,
          1
         ],
         "matches": "y",
         "showticklabels": false
        },
        "yaxis20": {
         "anchor": "x20",
         "domain": [
          0,
          1
         ],
         "matches": "y",
         "showticklabels": false
        },
        "yaxis3": {
         "anchor": "x3",
         "domain": [
          0,
          1
         ],
         "matches": "y",
         "showticklabels": false
        },
        "yaxis4": {
         "anchor": "x4",
         "domain": [
          0,
          1
         ],
         "matches": "y",
         "showticklabels": false
        },
        "yaxis5": {
         "anchor": "x5",
         "domain": [
          0,
          1
         ],
         "matches": "y",
         "showticklabels": false
        },
        "yaxis6": {
         "anchor": "x6",
         "domain": [
          0,
          1
         ],
         "matches": "y",
         "showticklabels": false
        },
        "yaxis7": {
         "anchor": "x7",
         "domain": [
          0,
          1
         ],
         "matches": "y",
         "showticklabels": false
        },
        "yaxis8": {
         "anchor": "x8",
         "domain": [
          0,
          1
         ],
         "matches": "y",
         "showticklabels": false
        },
        "yaxis9": {
         "anchor": "x9",
         "domain": [
          0,
          1
         ],
         "matches": "y",
         "showticklabels": false
        }
       }
      }
     },
     "metadata": {},
     "output_type": "display_data"
    }
   ],
   "source": [
    "from functools import reduce\n",
    "\n",
    "img = x_train[[5673]]\n",
    "convs = reduce(lambda x, l: l.forward(x), nn[:6], img) #nn[1].forward(nn[0].forward(img))\n",
    "convs.shape\n",
    "normed_convs = (convs - convs.min(axis=3, keepdims=True)) / (convs.max(axis=3, keepdims=True) - convs.min(axis=3, keepdims=True))\n",
    "normed_convs.shape\n",
    "px.imshow(normed_convs[0], facet_col=2)"
   ]
  },
  {
   "cell_type": "code",
   "execution_count": null,
   "metadata": {},
   "outputs": [
    {
     "data": {
      "application/vnd.plotly.v1+json": {
       "config": {
        "plotlyServerURL": "https://plot.ly"
       },
       "data": [
        {
         "hovertemplate": "x: %{x}<br>y: %{y}<extra></extra>",
         "name": "0",
         "source": "data:image/png;base64,iVBORw0KGgoAAAANSUhEUgAAAAcAAAAHCAIAAABLMMCEAAAAiUlEQVR4XgXBMUqCAQAG0PeDuJi4GIjQUJNLk4vg0OgBBBfHxpaG9hK8gjdIcHLwAiK0/Il6Agc9QlNI9PleYR9N7i7GVTe0eMZPZJ2jeI8yPqJfUe8yMEeNFQv3R0/hP22JcYyikY7KA5ui/ErPkB2P3Cpe48TymwO/vJn+xUvM4hLZmoRzfOYKk1s1jR/CWrIAAAAASUVORK5CYII=",
         "type": "image",
         "xaxis": "x",
         "yaxis": "y"
        },
        {
         "hovertemplate": "x: %{x}<br>y: %{y}<extra></extra>",
         "name": "1",
         "source": "data:image/png;base64,iVBORw0KGgoAAAANSUhEUgAAAAcAAAAHCAIAAABLMMCEAAAAh0lEQVR4XgXBIWpCAQAG4O/BkgdQGAYx2MbSwqoH8AQ2DyBWu8XiGVZXBzvBDCKCCIJgsegDkyiyN8b4932UiTJOM1nJVfrCV9IRr/F3lrm8CaNEL15iHPM4xLKIDzZUTD3/aLP3wCcXar+q3bp42tIhGpnInQweYxjvUWgli6JZd9TlRoPvf1cCP5/uQ/mqAAAAAElFTkSuQmCC",
         "type": "image",
         "xaxis": "x2",
         "yaxis": "y2"
        },
        {
         "hovertemplate": "x: %{x}<br>y: %{y}<extra></extra>",
         "name": "2",
         "source": "data:image/png;base64,iVBORw0KGgoAAAANSUhEUgAAAAcAAAAHCAIAAABLMMCEAAAAfklEQVR4XgXBsYoBAAAG4I9MpIiRurqJkSxKsdnY7gEs9xj3GmajQTYZFYvJ5A0sspgupd/3yUVG0hbbu8Rf1EqelGlymzXfHeOrbwV5ZNpQociNL1pKrE87wxVV3pxpKOxjzoY6gxNrHuSoF/1YSkxSlh8ys5BfOUi84j+6HzoiMiJXqV8DAAAAAElFTkSuQmCC",
         "type": "image",
         "xaxis": "x3",
         "yaxis": "y3"
        },
        {
         "hovertemplate": "x: %{x}<br>y: %{y}<extra></extra>",
         "name": "3",
         "source": "data:image/png;base64,iVBORw0KGgoAAAANSUhEUgAAAAcAAAAHCAIAAABLMMCEAAAAdElEQVR4XgXBIQ5BAQAG4M9mxmaK7gCCJNpM1Em6OzDdCRxFQBOcQjGvvoa9wPt9H9uo4hp5ekcR57CMbdoS5U4WYh4ZyFgMYhSbuHyk6UWNioo7v45jI/pmpTd4UFNpNrLOYa9LixsFPeQyiWGsIl85ydQf3Jw8fc1SDEQAAAAASUVORK5CYII=",
         "type": "image",
         "xaxis": "x4",
         "yaxis": "y4"
        },
        {
         "hovertemplate": "x: %{x}<br>y: %{y}<extra></extra>",
         "name": "4",
         "source": "data:image/png;base64,iVBORw0KGgoAAAANSUhEUgAAAAcAAAAHCAIAAABLMMCEAAAAa0lEQVR4XgXBwQrBcBwA4G/rvxLJDpTUODggN7stDt5gz+wtlAdQWistpdTP97mENqzCLIjlNdxCJs7ceTe+JypaEs+jV82WPSUbsjo0HFiwJjEn7ch50FPSMZD/KEBHz4SMNKIgMWbKwIc/NxAbHigj8ekAAAAASUVORK5CYII=",
         "type": "image",
         "xaxis": "x5",
         "yaxis": "y5"
        },
        {
         "hovertemplate": "x: %{x}<br>y: %{y}<extra></extra>",
         "name": "5",
         "source": "data:image/png;base64,iVBORw0KGgoAAAANSUhEUgAAAAcAAAAHCAIAAABLMMCEAAAAi0lEQVR4XgXBMUpCAQAG4O/JA6E1rCACGyWTOoSUJxBdHBycxCXcO0NjdAyHbhAtUQ8CEVrCycXBwUV+v0/MPuRWzuRFjNKJkscF1QUN01Ou/exTGvf+3+KJA3VO+CbP8kr+/MYqqsh7zYZzfGpt7WRXfHko1WlqF/3KhCHzO1dFLll3abPkhkHX/RG1ni7gqb1ZgAAAAABJRU5ErkJggg==",
         "type": "image",
         "xaxis": "x6",
         "yaxis": "y6"
        },
        {
         "hovertemplate": "x: %{x}<br>y: %{y}<extra></extra>",
         "name": "6",
         "source": "data:image/png;base64,iVBORw0KGgoAAAANSUhEUgAAAAcAAAAHCAIAAABLMMCEAAAAeUlEQVR4XgXBsapBAQAG4O/clMWl5Awn3cFusXg2m115Ao+gLEal250tym46YZBIBob/fh+ZSW0fqeVtFYuIMibxm6G0RP8kRdDhRZc3tx7jhgFXPpXLnW9+aH85zj3wVL0UF840mcY2pawldnFYSuEvRpx5ULNh7R9w9TYJ7KFE3wAAAABJRU5ErkJggg==",
         "type": "image",
         "xaxis": "x7",
         "yaxis": "y7"
        },
        {
         "hovertemplate": "x: %{x}<br>y: %{y}<extra></extra>",
         "name": "7",
         "source": "data:image/png;base64,iVBORw0KGgoAAAANSUhEUgAAAAcAAAAHCAIAAABLMMCEAAAAgUlEQVR4XgXBv4oBAAAH4M+fQcpAUfIGdIvBC/ACynTd7CHuEa7jCWRUpstkUgaj2WAzSCne4Px8n1nIr21ilKksSV024ls1mcunTBxChvIlP+6RnWw8o2jAi4fmigod9bOyKn2mbjXtf068lLXoWdccuZZ0PzQoLOLCnistxvzxBrl/MHlXZRg/AAAAAElFTkSuQmCC",
         "type": "image",
         "xaxis": "x8",
         "yaxis": "y8"
        },
        {
         "hovertemplate": "x: %{x}<br>y: %{y}<extra></extra>",
         "name": "8",
         "source": "data:image/png;base64,iVBORw0KGgoAAAANSUhEUgAAAAcAAAAHCAIAAABLMMCEAAAAfUlEQVR4XgXBsQpBYRgA0PMPSrrFopSBlBewmD2MxSSD0aC8AnUHszewmA1Gm0Epi1Aig4XPOcky/FjKt/YcWY+kmugzdWXOmybnFBpcyKhyUv/oSdGhQMaONl1KUigbPrU48KXGnTCJlXiIl02ItcilWeiy50YlxdhCcfAHSesrOfjkUskAAAAASUVORK5CYII=",
         "type": "image",
         "xaxis": "x9",
         "yaxis": "y9"
        },
        {
         "hovertemplate": "x: %{x}<br>y: %{y}<extra></extra>",
         "name": "9",
         "source": "data:image/png;base64,iVBORw0KGgoAAAANSUhEUgAAAAcAAAAHCAIAAABLMMCEAAAAeUlEQVR4XgXBIQ6BAQAG0MfY/AlJsb9JggvYmCAIHIHNGUxRnUAQBcE9TLFxB5tkkhN83qOai8QqyihSiCGTDCTusUhDxqKsOMaP7T6TnRElX7V0Kgqm1OnS4qlq5rBkRJMXbR70Q9a3yEnePpEr55C9PDOXjZxE7w/tCjN+bV1RTQAAAABJRU5ErkJggg==",
         "type": "image",
         "xaxis": "x10",
         "yaxis": "y10"
        }
       ],
       "layout": {
        "annotations": [
         {
          "font": {},
          "showarrow": false,
          "text": "facet_col=0",
          "x": 0.04100000000000001,
          "xanchor": "center",
          "xref": "paper",
          "y": 1,
          "yanchor": "bottom",
          "yref": "paper"
         },
         {
          "font": {},
          "showarrow": false,
          "text": "facet_col=1",
          "x": 0.14300000000000004,
          "xanchor": "center",
          "xref": "paper",
          "y": 1,
          "yanchor": "bottom",
          "yref": "paper"
         },
         {
          "font": {},
          "showarrow": false,
          "text": "facet_col=2",
          "x": 0.24500000000000005,
          "xanchor": "center",
          "xref": "paper",
          "y": 1,
          "yanchor": "bottom",
          "yref": "paper"
         },
         {
          "font": {},
          "showarrow": false,
          "text": "facet_col=3",
          "x": 0.3470000000000001,
          "xanchor": "center",
          "xref": "paper",
          "y": 1,
          "yanchor": "bottom",
          "yref": "paper"
         },
         {
          "font": {},
          "showarrow": false,
          "text": "facet_col=4",
          "x": 0.44900000000000007,
          "xanchor": "center",
          "xref": "paper",
          "y": 1,
          "yanchor": "bottom",
          "yref": "paper"
         },
         {
          "font": {},
          "showarrow": false,
          "text": "facet_col=5",
          "x": 0.5510000000000002,
          "xanchor": "center",
          "xref": "paper",
          "y": 1,
          "yanchor": "bottom",
          "yref": "paper"
         },
         {
          "font": {},
          "showarrow": false,
          "text": "facet_col=6",
          "x": 0.6530000000000001,
          "xanchor": "center",
          "xref": "paper",
          "y": 1,
          "yanchor": "bottom",
          "yref": "paper"
         },
         {
          "font": {},
          "showarrow": false,
          "text": "facet_col=7",
          "x": 0.7550000000000001,
          "xanchor": "center",
          "xref": "paper",
          "y": 1,
          "yanchor": "bottom",
          "yref": "paper"
         },
         {
          "font": {},
          "showarrow": false,
          "text": "facet_col=8",
          "x": 0.8570000000000002,
          "xanchor": "center",
          "xref": "paper",
          "y": 1,
          "yanchor": "bottom",
          "yref": "paper"
         },
         {
          "font": {},
          "showarrow": false,
          "text": "facet_col=9",
          "x": 0.9590000000000002,
          "xanchor": "center",
          "xref": "paper",
          "y": 1,
          "yanchor": "bottom",
          "yref": "paper"
         }
        ],
        "margin": {
         "t": 60
        },
        "template": {
         "data": {
          "bar": [
           {
            "error_x": {
             "color": "#2a3f5f"
            },
            "error_y": {
             "color": "#2a3f5f"
            },
            "marker": {
             "line": {
              "color": "#E5ECF6",
              "width": 0.5
             },
             "pattern": {
              "fillmode": "overlay",
              "size": 10,
              "solidity": 0.2
             }
            },
            "type": "bar"
           }
          ],
          "barpolar": [
           {
            "marker": {
             "line": {
              "color": "#E5ECF6",
              "width": 0.5
             },
             "pattern": {
              "fillmode": "overlay",
              "size": 10,
              "solidity": 0.2
             }
            },
            "type": "barpolar"
           }
          ],
          "carpet": [
           {
            "aaxis": {
             "endlinecolor": "#2a3f5f",
             "gridcolor": "white",
             "linecolor": "white",
             "minorgridcolor": "white",
             "startlinecolor": "#2a3f5f"
            },
            "baxis": {
             "endlinecolor": "#2a3f5f",
             "gridcolor": "white",
             "linecolor": "white",
             "minorgridcolor": "white",
             "startlinecolor": "#2a3f5f"
            },
            "type": "carpet"
           }
          ],
          "choropleth": [
           {
            "colorbar": {
             "outlinewidth": 0,
             "ticks": ""
            },
            "type": "choropleth"
           }
          ],
          "contour": [
           {
            "colorbar": {
             "outlinewidth": 0,
             "ticks": ""
            },
            "colorscale": [
             [
              0,
              "#0d0887"
             ],
             [
              0.1111111111111111,
              "#46039f"
             ],
             [
              0.2222222222222222,
              "#7201a8"
             ],
             [
              0.3333333333333333,
              "#9c179e"
             ],
             [
              0.4444444444444444,
              "#bd3786"
             ],
             [
              0.5555555555555556,
              "#d8576b"
             ],
             [
              0.6666666666666666,
              "#ed7953"
             ],
             [
              0.7777777777777778,
              "#fb9f3a"
             ],
             [
              0.8888888888888888,
              "#fdca26"
             ],
             [
              1,
              "#f0f921"
             ]
            ],
            "type": "contour"
           }
          ],
          "contourcarpet": [
           {
            "colorbar": {
             "outlinewidth": 0,
             "ticks": ""
            },
            "type": "contourcarpet"
           }
          ],
          "heatmap": [
           {
            "colorbar": {
             "outlinewidth": 0,
             "ticks": ""
            },
            "colorscale": [
             [
              0,
              "#0d0887"
             ],
             [
              0.1111111111111111,
              "#46039f"
             ],
             [
              0.2222222222222222,
              "#7201a8"
             ],
             [
              0.3333333333333333,
              "#9c179e"
             ],
             [
              0.4444444444444444,
              "#bd3786"
             ],
             [
              0.5555555555555556,
              "#d8576b"
             ],
             [
              0.6666666666666666,
              "#ed7953"
             ],
             [
              0.7777777777777778,
              "#fb9f3a"
             ],
             [
              0.8888888888888888,
              "#fdca26"
             ],
             [
              1,
              "#f0f921"
             ]
            ],
            "type": "heatmap"
           }
          ],
          "heatmapgl": [
           {
            "colorbar": {
             "outlinewidth": 0,
             "ticks": ""
            },
            "colorscale": [
             [
              0,
              "#0d0887"
             ],
             [
              0.1111111111111111,
              "#46039f"
             ],
             [
              0.2222222222222222,
              "#7201a8"
             ],
             [
              0.3333333333333333,
              "#9c179e"
             ],
             [
              0.4444444444444444,
              "#bd3786"
             ],
             [
              0.5555555555555556,
              "#d8576b"
             ],
             [
              0.6666666666666666,
              "#ed7953"
             ],
             [
              0.7777777777777778,
              "#fb9f3a"
             ],
             [
              0.8888888888888888,
              "#fdca26"
             ],
             [
              1,
              "#f0f921"
             ]
            ],
            "type": "heatmapgl"
           }
          ],
          "histogram": [
           {
            "marker": {
             "pattern": {
              "fillmode": "overlay",
              "size": 10,
              "solidity": 0.2
             }
            },
            "type": "histogram"
           }
          ],
          "histogram2d": [
           {
            "colorbar": {
             "outlinewidth": 0,
             "ticks": ""
            },
            "colorscale": [
             [
              0,
              "#0d0887"
             ],
             [
              0.1111111111111111,
              "#46039f"
             ],
             [
              0.2222222222222222,
              "#7201a8"
             ],
             [
              0.3333333333333333,
              "#9c179e"
             ],
             [
              0.4444444444444444,
              "#bd3786"
             ],
             [
              0.5555555555555556,
              "#d8576b"
             ],
             [
              0.6666666666666666,
              "#ed7953"
             ],
             [
              0.7777777777777778,
              "#fb9f3a"
             ],
             [
              0.8888888888888888,
              "#fdca26"
             ],
             [
              1,
              "#f0f921"
             ]
            ],
            "type": "histogram2d"
           }
          ],
          "histogram2dcontour": [
           {
            "colorbar": {
             "outlinewidth": 0,
             "ticks": ""
            },
            "colorscale": [
             [
              0,
              "#0d0887"
             ],
             [
              0.1111111111111111,
              "#46039f"
             ],
             [
              0.2222222222222222,
              "#7201a8"
             ],
             [
              0.3333333333333333,
              "#9c179e"
             ],
             [
              0.4444444444444444,
              "#bd3786"
             ],
             [
              0.5555555555555556,
              "#d8576b"
             ],
             [
              0.6666666666666666,
              "#ed7953"
             ],
             [
              0.7777777777777778,
              "#fb9f3a"
             ],
             [
              0.8888888888888888,
              "#fdca26"
             ],
             [
              1,
              "#f0f921"
             ]
            ],
            "type": "histogram2dcontour"
           }
          ],
          "mesh3d": [
           {
            "colorbar": {
             "outlinewidth": 0,
             "ticks": ""
            },
            "type": "mesh3d"
           }
          ],
          "parcoords": [
           {
            "line": {
             "colorbar": {
              "outlinewidth": 0,
              "ticks": ""
             }
            },
            "type": "parcoords"
           }
          ],
          "pie": [
           {
            "automargin": true,
            "type": "pie"
           }
          ],
          "scatter": [
           {
            "fillpattern": {
             "fillmode": "overlay",
             "size": 10,
             "solidity": 0.2
            },
            "type": "scatter"
           }
          ],
          "scatter3d": [
           {
            "line": {
             "colorbar": {
              "outlinewidth": 0,
              "ticks": ""
             }
            },
            "marker": {
             "colorbar": {
              "outlinewidth": 0,
              "ticks": ""
             }
            },
            "type": "scatter3d"
           }
          ],
          "scattercarpet": [
           {
            "marker": {
             "colorbar": {
              "outlinewidth": 0,
              "ticks": ""
             }
            },
            "type": "scattercarpet"
           }
          ],
          "scattergeo": [
           {
            "marker": {
             "colorbar": {
              "outlinewidth": 0,
              "ticks": ""
             }
            },
            "type": "scattergeo"
           }
          ],
          "scattergl": [
           {
            "marker": {
             "colorbar": {
              "outlinewidth": 0,
              "ticks": ""
             }
            },
            "type": "scattergl"
           }
          ],
          "scattermapbox": [
           {
            "marker": {
             "colorbar": {
              "outlinewidth": 0,
              "ticks": ""
             }
            },
            "type": "scattermapbox"
           }
          ],
          "scatterpolar": [
           {
            "marker": {
             "colorbar": {
              "outlinewidth": 0,
              "ticks": ""
             }
            },
            "type": "scatterpolar"
           }
          ],
          "scatterpolargl": [
           {
            "marker": {
             "colorbar": {
              "outlinewidth": 0,
              "ticks": ""
             }
            },
            "type": "scatterpolargl"
           }
          ],
          "scatterternary": [
           {
            "marker": {
             "colorbar": {
              "outlinewidth": 0,
              "ticks": ""
             }
            },
            "type": "scatterternary"
           }
          ],
          "surface": [
           {
            "colorbar": {
             "outlinewidth": 0,
             "ticks": ""
            },
            "colorscale": [
             [
              0,
              "#0d0887"
             ],
             [
              0.1111111111111111,
              "#46039f"
             ],
             [
              0.2222222222222222,
              "#7201a8"
             ],
             [
              0.3333333333333333,
              "#9c179e"
             ],
             [
              0.4444444444444444,
              "#bd3786"
             ],
             [
              0.5555555555555556,
              "#d8576b"
             ],
             [
              0.6666666666666666,
              "#ed7953"
             ],
             [
              0.7777777777777778,
              "#fb9f3a"
             ],
             [
              0.8888888888888888,
              "#fdca26"
             ],
             [
              1,
              "#f0f921"
             ]
            ],
            "type": "surface"
           }
          ],
          "table": [
           {
            "cells": {
             "fill": {
              "color": "#EBF0F8"
             },
             "line": {
              "color": "white"
             }
            },
            "header": {
             "fill": {
              "color": "#C8D4E3"
             },
             "line": {
              "color": "white"
             }
            },
            "type": "table"
           }
          ]
         },
         "layout": {
          "annotationdefaults": {
           "arrowcolor": "#2a3f5f",
           "arrowhead": 0,
           "arrowwidth": 1
          },
          "autotypenumbers": "strict",
          "coloraxis": {
           "colorbar": {
            "outlinewidth": 0,
            "ticks": ""
           }
          },
          "colorscale": {
           "diverging": [
            [
             0,
             "#8e0152"
            ],
            [
             0.1,
             "#c51b7d"
            ],
            [
             0.2,
             "#de77ae"
            ],
            [
             0.3,
             "#f1b6da"
            ],
            [
             0.4,
             "#fde0ef"
            ],
            [
             0.5,
             "#f7f7f7"
            ],
            [
             0.6,
             "#e6f5d0"
            ],
            [
             0.7,
             "#b8e186"
            ],
            [
             0.8,
             "#7fbc41"
            ],
            [
             0.9,
             "#4d9221"
            ],
            [
             1,
             "#276419"
            ]
           ],
           "sequential": [
            [
             0,
             "#0d0887"
            ],
            [
             0.1111111111111111,
             "#46039f"
            ],
            [
             0.2222222222222222,
             "#7201a8"
            ],
            [
             0.3333333333333333,
             "#9c179e"
            ],
            [
             0.4444444444444444,
             "#bd3786"
            ],
            [
             0.5555555555555556,
             "#d8576b"
            ],
            [
             0.6666666666666666,
             "#ed7953"
            ],
            [
             0.7777777777777778,
             "#fb9f3a"
            ],
            [
             0.8888888888888888,
             "#fdca26"
            ],
            [
             1,
             "#f0f921"
            ]
           ],
           "sequentialminus": [
            [
             0,
             "#0d0887"
            ],
            [
             0.1111111111111111,
             "#46039f"
            ],
            [
             0.2222222222222222,
             "#7201a8"
            ],
            [
             0.3333333333333333,
             "#9c179e"
            ],
            [
             0.4444444444444444,
             "#bd3786"
            ],
            [
             0.5555555555555556,
             "#d8576b"
            ],
            [
             0.6666666666666666,
             "#ed7953"
            ],
            [
             0.7777777777777778,
             "#fb9f3a"
            ],
            [
             0.8888888888888888,
             "#fdca26"
            ],
            [
             1,
             "#f0f921"
            ]
           ]
          },
          "colorway": [
           "#636efa",
           "#EF553B",
           "#00cc96",
           "#ab63fa",
           "#FFA15A",
           "#19d3f3",
           "#FF6692",
           "#B6E880",
           "#FF97FF",
           "#FECB52"
          ],
          "font": {
           "color": "#2a3f5f"
          },
          "geo": {
           "bgcolor": "white",
           "lakecolor": "white",
           "landcolor": "#E5ECF6",
           "showlakes": true,
           "showland": true,
           "subunitcolor": "white"
          },
          "hoverlabel": {
           "align": "left"
          },
          "hovermode": "closest",
          "mapbox": {
           "style": "light"
          },
          "paper_bgcolor": "white",
          "plot_bgcolor": "#E5ECF6",
          "polar": {
           "angularaxis": {
            "gridcolor": "white",
            "linecolor": "white",
            "ticks": ""
           },
           "bgcolor": "#E5ECF6",
           "radialaxis": {
            "gridcolor": "white",
            "linecolor": "white",
            "ticks": ""
           }
          },
          "scene": {
           "xaxis": {
            "backgroundcolor": "#E5ECF6",
            "gridcolor": "white",
            "gridwidth": 2,
            "linecolor": "white",
            "showbackground": true,
            "ticks": "",
            "zerolinecolor": "white"
           },
           "yaxis": {
            "backgroundcolor": "#E5ECF6",
            "gridcolor": "white",
            "gridwidth": 2,
            "linecolor": "white",
            "showbackground": true,
            "ticks": "",
            "zerolinecolor": "white"
           },
           "zaxis": {
            "backgroundcolor": "#E5ECF6",
            "gridcolor": "white",
            "gridwidth": 2,
            "linecolor": "white",
            "showbackground": true,
            "ticks": "",
            "zerolinecolor": "white"
           }
          },
          "shapedefaults": {
           "line": {
            "color": "#2a3f5f"
           }
          },
          "ternary": {
           "aaxis": {
            "gridcolor": "white",
            "linecolor": "white",
            "ticks": ""
           },
           "baxis": {
            "gridcolor": "white",
            "linecolor": "white",
            "ticks": ""
           },
           "bgcolor": "#E5ECF6",
           "caxis": {
            "gridcolor": "white",
            "linecolor": "white",
            "ticks": ""
           }
          },
          "title": {
           "x": 0.05
          },
          "xaxis": {
           "automargin": true,
           "gridcolor": "white",
           "linecolor": "white",
           "ticks": "",
           "title": {
            "standoff": 15
           },
           "zerolinecolor": "white",
           "zerolinewidth": 2
          },
          "yaxis": {
           "automargin": true,
           "gridcolor": "white",
           "linecolor": "white",
           "ticks": "",
           "title": {
            "standoff": 15
           },
           "zerolinecolor": "white",
           "zerolinewidth": 2
          }
         }
        },
        "xaxis": {
         "anchor": "y",
         "domain": [
          0,
          0.08200000000000002
         ]
        },
        "xaxis10": {
         "anchor": "y10",
         "domain": [
          0.9180000000000001,
          1
         ],
         "matches": "x"
        },
        "xaxis2": {
         "anchor": "y2",
         "domain": [
          0.10200000000000002,
          0.18400000000000005
         ],
         "matches": "x"
        },
        "xaxis3": {
         "anchor": "y3",
         "domain": [
          0.20400000000000004,
          0.28600000000000003
         ],
         "matches": "x"
        },
        "xaxis4": {
         "anchor": "y4",
         "domain": [
          0.30600000000000005,
          0.38800000000000007
         ],
         "matches": "x"
        },
        "xaxis5": {
         "anchor": "y5",
         "domain": [
          0.4080000000000001,
          0.4900000000000001
         ],
         "matches": "x"
        },
        "xaxis6": {
         "anchor": "y6",
         "domain": [
          0.5100000000000001,
          0.5920000000000001
         ],
         "matches": "x"
        },
        "xaxis7": {
         "anchor": "y7",
         "domain": [
          0.6120000000000001,
          0.6940000000000002
         ],
         "matches": "x"
        },
        "xaxis8": {
         "anchor": "y8",
         "domain": [
          0.7140000000000001,
          0.796
         ],
         "matches": "x"
        },
        "xaxis9": {
         "anchor": "y9",
         "domain": [
          0.8160000000000002,
          0.8980000000000001
         ],
         "matches": "x"
        },
        "yaxis": {
         "anchor": "x",
         "domain": [
          0,
          1
         ]
        },
        "yaxis10": {
         "anchor": "x10",
         "domain": [
          0,
          1
         ],
         "matches": "y",
         "showticklabels": false
        },
        "yaxis2": {
         "anchor": "x2",
         "domain": [
          0,
          1
         ],
         "matches": "y",
         "showticklabels": false
        },
        "yaxis3": {
         "anchor": "x3",
         "domain": [
          0,
          1
         ],
         "matches": "y",
         "showticklabels": false
        },
        "yaxis4": {
         "anchor": "x4",
         "domain": [
          0,
          1
         ],
         "matches": "y",
         "showticklabels": false
        },
        "yaxis5": {
         "anchor": "x5",
         "domain": [
          0,
          1
         ],
         "matches": "y",
         "showticklabels": false
        },
        "yaxis6": {
         "anchor": "x6",
         "domain": [
          0,
          1
         ],
         "matches": "y",
         "showticklabels": false
        },
        "yaxis7": {
         "anchor": "x7",
         "domain": [
          0,
          1
         ],
         "matches": "y",
         "showticklabels": false
        },
        "yaxis8": {
         "anchor": "x8",
         "domain": [
          0,
          1
         ],
         "matches": "y",
         "showticklabels": false
        },
        "yaxis9": {
         "anchor": "x9",
         "domain": [
          0,
          1
         ],
         "matches": "y",
         "showticklabels": false
        }
       }
      }
     },
     "metadata": {},
     "output_type": "display_data"
    }
   ],
   "source": [
    "def min_max_normalize(arr:np.ndarray, axis:tuple) -> np.ndarray:\n",
    "    return (arr - arr.min(axis, keepdims=True)) / (arr.max(axis, keepdims=True) - arr.min(axis, keepdims=True))\n",
    "\n",
    "normed_kernels = min_max_normalize(nn[0].kernels , (3))\n",
    "normed_kernels.shape\n",
    "\n",
    "px.imshow(normed_kernels, facet_col=0)"
   ]
  },
  {
   "cell_type": "code",
   "execution_count": null,
   "metadata": {},
   "outputs": [
    {
     "data": {
      "text/plain": [
       "{'accuracy': np.float64(0.3358)}"
      ]
     },
     "execution_count": 63,
     "metadata": {},
     "output_type": "execute_result"
    }
   ],
   "source": [
    "y_test_pred = reduce(lambda x, l: l.forward(x), nn, x_test)\n",
    "accuracy({}, y_test_pred, y_test)"
   ]
  }
 ],
 "metadata": {
  "kernelspec": {
   "display_name": "CNN",
   "language": "python",
   "name": "python3"
  },
  "language_info": {
   "codemirror_mode": {
    "name": "ipython",
    "version": 3
   },
   "file_extension": ".py",
   "mimetype": "text/x-python",
   "name": "python",
   "nbconvert_exporter": "python",
   "pygments_lexer": "ipython3",
   "version": "3.12.9"
  }
 },
 "nbformat": 4,
 "nbformat_minor": 2
}
