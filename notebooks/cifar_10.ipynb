{
 "cells": [
  {
   "cell_type": "markdown",
   "metadata": {},
   "source": [
    "# Cifar 10 "
   ]
  },
  {
   "cell_type": "markdown",
   "metadata": {},
   "source": [
    "## Setup"
   ]
  },
  {
   "cell_type": "markdown",
   "metadata": {},
   "source": [
    "### Imports"
   ]
  },
  {
   "cell_type": "code",
   "execution_count": 1,
   "metadata": {},
   "outputs": [],
   "source": [
    "from functools import reduce\n",
    "\n",
    "import numpy as np\n",
    "import plotly.io as pio\n",
    "from numpy import ndarray\n",
    "import plotly.express as px\n",
    "from numpy import array_split as split\n",
    "\n",
    "from optimizers import Adam\n",
    "from metrics import accuracy\n",
    "from constants import MAX_NB_SAMPLES\n",
    "from losses import BinaryCrossentropy\n",
    "from cifar_10_dataset_loading import load_cifar_10\n",
    "from layers import Convolutional, Linear, Relu, BatchNorm, Flatten, Softmax, MaxPool, Layer, LeakyRelu"
   ]
  },
  {
   "cell_type": "code",
   "execution_count": 2,
   "metadata": {},
   "outputs": [],
   "source": [
    "pio.renderers.default = \"jupyterlab+png\""
   ]
  },
  {
   "cell_type": "markdown",
   "metadata": {},
   "source": [
    "### Data extraction"
   ]
  },
  {
   "cell_type": "code",
   "execution_count": 3,
   "metadata": {},
   "outputs": [],
   "source": [
    "x_train, y_train, x_test, y_test = load_cifar_10()"
   ]
  },
  {
   "cell_type": "code",
   "execution_count": 4,
   "metadata": {},
   "outputs": [],
   "source": [
    "classes = y_train.argmax(axis=1)"
   ]
  },
  {
   "cell_type": "code",
   "execution_count": 5,
   "metadata": {},
   "outputs": [
    {
     "data": {
      "text/plain": [
       "dtype('float64')"
      ]
     },
     "execution_count": 5,
     "metadata": {},
     "output_type": "execute_result"
    }
   ],
   "source": [
    "# Change range from [0, 255] to [-1, 1]\n",
    "x_train = x_train / 255  \n",
    "x_train.dtype"
   ]
  },
  {
   "cell_type": "code",
   "execution_count": 6,
   "metadata": {},
   "outputs": [
    {
     "data": {
      "application/vnd.plotly.v1+json": {
       "config": {
        "plotlyServerURL": "https://plot.ly"
       },
       "data": [
        {
         "hovertemplate": "x: %{x}<br>y: %{y}<extra></extra>",
         "name": "0",
         "source": "data:image/png;base64,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",
         "type": "image",
         "xaxis": "x9",
         "yaxis": "y9"
        },
        {
         "hovertemplate": "x: %{x}<br>y: %{y}<extra></extra>",
         "name": "1",
         "source": "data:image/png;base64,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",
         "type": "image",
         "xaxis": "x10",
         "yaxis": "y10"
        },
        {
         "hovertemplate": "x: %{x}<br>y: %{y}<extra></extra>",
         "name": "2",
         "source": "data:image/png;base64,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",
         "type": "image",
         "xaxis": "x11",
         "yaxis": "y11"
        },
        {
         "hovertemplate": "x: %{x}<br>y: %{y}<extra></extra>",
         "name": "3",
         "source": "data:image/png;base64,iVBORw0KGgoAAAANSUhEUgAAACAAAAAgCAIAAAD8GO2jAAAFRElEQVR4Xq2W+TPbaRzHY+NqHbOMcTO7gk5V6xxrMOq+qiGOVusYrZvElUgiQYO6QkKCcQ3aoUxna8afuC/fZzfT/VbLbr1/yHzzHO/38zmfR6FQKLy8vJRKpbe3t5cExZ0DUh8fn+Tk5KioKJTk0z8Pcer8/HyNRqNSqTBFDN6ZNYIoMjKyra2ttbU1NTX13r17jPwi4W5kBEt2dvbU1FR3d3dubm5gYKBs9mcBS0BAwMuXL81mc1dXV319fVxcHKb4+fmJWSHz/10ntsXGxnZ0dIyMjCwsLPT19ZWWlmJNeHg4Svfv3/f39+fD19f3Wg2hfYNXmX7w4EF/f//6+rrD4dDpdC0tLeXl5YWFhZWVlYjx8fjxY5bJd0oCgv1HAoAzvnjxYmNjw+12z87OarXa169f47TBwUE+3r59W1JSIlhkUEjni4mJwbdy0q+BQHt7+4aExcVFu91OVLAJ19XV1TU3NycmJsr3SKCGMG58fLynpwc3yqc9YF1tbS3sq6ur8/PzOzs7BwcHY2NjHJ9CKSsrCwsLE5XvK4EiJTYhISE1NTVzc3OHh4csFsV0DYSl8fHxUOMfm80G+4cPH0hf/NbY2KhWq/Py8rKysijMSgkFBQV8Yxxrtre3EXj16pWHSg4xStoYDAY2IOByuY6OjtAj4GhQjG/evCHylOTAwACDRAVhpvAMLt3f36+oqPBQySFGaRijo6PT09MEYGVlBV+hZLFYCDh0VqsVXgQIjF6vxyGdnZ0I4MOhoSG8lJmZ6aGSQ4ympaUNDw9jAZHAAnwF0eTkJCPQ8ZckRg8BlplMJvSoUFKD0sFEuo6H6hoQQGwkGaDDgr29PX57e3vxAOm0traGAMLn5+dOpxM9BJDBS+zKyMggTQn7d9kBiUHoRFJSVigtLS/xywj+2d3dRRLSjx8/Xl5eElW+cV1TU1N0dLSc61t4SZdPaGgouSi6UHV1NSclBhBhBNEmqQgmI1++fLm4uKDgCVhDQ0NwcLBgkJN+jb+L8h9QmRyNw8II9ZIEwk6q8Jfjn5ycnJ2d4UP18+eBAQFyumvhoeaXCtJqdZ8//7m26rC9I2XduOj9+/ekCrnL2V1u9+npp4PdvZHeHlVcrNJL6nTY8EMzrnC1TqGgPgnpp5PzDefmpNmyvLzscruo7ZmZGbLr9PQUc7Z2dt0bLpN24I/UR78GBCrpg2xV3qQgBChpHOJ0uOwrzinrDH63r9oRwDkYcXx8fHC0N7u8YLG9a2zSPM3Pi4+K8ffzxwzFNd323xACKSkpEFmnbEaT1To1QwAoPLxPHdASVu0rJ8c7m5vOnoGh8uoaTb0m48kTeqXSx/u2LsrJycEbIwZjn3ZkVG/AXYsLi0ajkRIhW13rjiWz/mDdYdKbqiqeqWvVJUXFV3ftbWIgUFRUhIDOMNGl1Y0bjbA71hw4ispaWlpenJ/rVD/rbmq2Tc60t7SXl5bRByPCwxW35KcgKAKLxTo2aekdG9ObzVubW9tb2/Qibmy93qAbGqzMzy3Iyqqv01BrdfV1qkQVeXGzAZ4Uon9BZELDaBzV6+mjxUXFtMKgoCC6NMVVWvS0sKDgt98TGpoae/v6Uh6liCyXM8ogVqSnp3MuvDExMcGp6Xf0Gc8a6jwhIYFeUlVVRbIxRb/jOvrRXeaBEOD+ozsOSyASvJd4WIgaFGUIV1JSEqaIZwAN5uHDhxgnp/sWwkyeSRhBj+Qeptlx13/9JBFrKHVetMjwwSA35X973bKatMN87pCIiAj5tARUsUw8zuVzN0IcE7D/2reQB99j/wu4R+8Q6wsJkgAAAABJRU5ErkJggg==",
         "type": "image",
         "xaxis": "x12",
         "yaxis": "y12"
        },
        {
         "hovertemplate": "x: %{x}<br>y: %{y}<extra></extra>",
         "name": "4",
         "source": "data:image/png;base64,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",
         "type": "image",
         "xaxis": "x5",
         "yaxis": "y5"
        },
        {
         "hovertemplate": "x: %{x}<br>y: %{y}<extra></extra>",
         "name": "5",
         "source": "data:image/png;base64,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",
         "type": "image",
         "xaxis": "x6",
         "yaxis": "y6"
        },
        {
         "hovertemplate": "x: %{x}<br>y: %{y}<extra></extra>",
         "name": "6",
         "source": "data:image/png;base64,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",
         "type": "image",
         "xaxis": "x7",
         "yaxis": "y7"
        },
        {
         "hovertemplate": "x: %{x}<br>y: %{y}<extra></extra>",
         "name": "7",
         "source": "data:image/png;base64,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",
         "type": "image",
         "xaxis": "x8",
         "yaxis": "y8"
        },
        {
         "hovertemplate": "x: %{x}<br>y: %{y}<extra></extra>",
         "name": "8",
         "source": "data:image/png;base64,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",
         "type": "image",
         "xaxis": "x",
         "yaxis": "y"
        }
       ],
       "layout": {
        "annotations": [
         {
          "font": {},
          "showarrow": false,
          "text": "facet_col=8",
          "x": 0.1175,
          "xanchor": "center",
          "xref": "paper",
          "y": 0.2866666666666666,
          "yanchor": "bottom",
          "yref": "paper"
         },
         {
          "font": {},
          "showarrow": false,
          "text": "facet_col=4",
          "x": 0.1175,
          "xanchor": "center",
          "xref": "paper",
          "y": 0.6433333333333333,
          "yanchor": "bottom",
          "yref": "paper"
         },
         {
          "font": {},
          "showarrow": false,
          "text": "facet_col=5",
          "x": 0.3725,
          "xanchor": "center",
          "xref": "paper",
          "y": 0.6433333333333333,
          "yanchor": "bottom",
          "yref": "paper"
         },
         {
          "font": {},
          "showarrow": false,
          "text": "facet_col=6",
          "x": 0.6275,
          "xanchor": "center",
          "xref": "paper",
          "y": 0.6433333333333333,
          "yanchor": "bottom",
          "yref": "paper"
         },
         {
          "font": {},
          "showarrow": false,
          "text": "facet_col=7",
          "x": 0.8824999999999998,
          "xanchor": "center",
          "xref": "paper",
          "y": 0.6433333333333333,
          "yanchor": "bottom",
          "yref": "paper"
         },
         {
          "font": {},
          "showarrow": false,
          "text": "facet_col=0",
          "x": 0.1175,
          "xanchor": "center",
          "xref": "paper",
          "y": 0.9999999999999999,
          "yanchor": "bottom",
          "yref": "paper"
         },
         {
          "font": {},
          "showarrow": false,
          "text": "facet_col=1",
          "x": 0.3725,
          "xanchor": "center",
          "xref": "paper",
          "y": 0.9999999999999999,
          "yanchor": "bottom",
          "yref": "paper"
         },
         {
          "font": {},
          "showarrow": false,
          "text": "facet_col=2",
          "x": 0.6275,
          "xanchor": "center",
          "xref": "paper",
          "y": 0.9999999999999999,
          "yanchor": "bottom",
          "yref": "paper"
         },
         {
          "font": {},
          "showarrow": false,
          "text": "facet_col=3",
          "x": 0.8824999999999998,
          "xanchor": "center",
          "xref": "paper",
          "y": 0.9999999999999999,
          "yanchor": "bottom",
          "yref": "paper"
         }
        ],
        "template": {
         "data": {
          "bar": [
           {
            "error_x": {
             "color": "#2a3f5f"
            },
            "error_y": {
             "color": "#2a3f5f"
            },
            "marker": {
             "line": {
              "color": "#E5ECF6",
              "width": 0.5
             },
             "pattern": {
              "fillmode": "overlay",
              "size": 10,
              "solidity": 0.2
             }
            },
            "type": "bar"
           }
          ],
          "barpolar": [
           {
            "marker": {
             "line": {
              "color": "#E5ECF6",
              "width": 0.5
             },
             "pattern": {
              "fillmode": "overlay",
              "size": 10,
              "solidity": 0.2
             }
            },
            "type": "barpolar"
           }
          ],
          "carpet": [
           {
            "aaxis": {
             "endlinecolor": "#2a3f5f",
             "gridcolor": "white",
             "linecolor": "white",
             "minorgridcolor": "white",
             "startlinecolor": "#2a3f5f"
            },
            "baxis": {
             "endlinecolor": "#2a3f5f",
             "gridcolor": "white",
             "linecolor": "white",
             "minorgridcolor": "white",
             "startlinecolor": "#2a3f5f"
            },
            "type": "carpet"
           }
          ],
          "choropleth": [
           {
            "colorbar": {
             "outlinewidth": 0,
             "ticks": ""
            },
            "type": "choropleth"
           }
          ],
          "contour": [
           {
            "colorbar": {
             "outlinewidth": 0,
             "ticks": ""
            },
            "colorscale": [
             [
              0,
              "#0d0887"
             ],
             [
              0.1111111111111111,
              "#46039f"
             ],
             [
              0.2222222222222222,
              "#7201a8"
             ],
             [
              0.3333333333333333,
              "#9c179e"
             ],
             [
              0.4444444444444444,
              "#bd3786"
             ],
             [
              0.5555555555555556,
              "#d8576b"
             ],
             [
              0.6666666666666666,
              "#ed7953"
             ],
             [
              0.7777777777777778,
              "#fb9f3a"
             ],
             [
              0.8888888888888888,
              "#fdca26"
             ],
             [
              1,
              "#f0f921"
             ]
            ],
            "type": "contour"
           }
          ],
          "contourcarpet": [
           {
            "colorbar": {
             "outlinewidth": 0,
             "ticks": ""
            },
            "type": "contourcarpet"
           }
          ],
          "heatmap": [
           {
            "colorbar": {
             "outlinewidth": 0,
             "ticks": ""
            },
            "colorscale": [
             [
              0,
              "#0d0887"
             ],
             [
              0.1111111111111111,
              "#46039f"
             ],
             [
              0.2222222222222222,
              "#7201a8"
             ],
             [
              0.3333333333333333,
              "#9c179e"
             ],
             [
              0.4444444444444444,
              "#bd3786"
             ],
             [
              0.5555555555555556,
              "#d8576b"
             ],
             [
              0.6666666666666666,
              "#ed7953"
             ],
             [
              0.7777777777777778,
              "#fb9f3a"
             ],
             [
              0.8888888888888888,
              "#fdca26"
             ],
             [
              1,
              "#f0f921"
             ]
            ],
            "type": "heatmap"
           }
          ],
          "heatmapgl": [
           {
            "colorbar": {
             "outlinewidth": 0,
             "ticks": ""
            },
            "colorscale": [
             [
              0,
              "#0d0887"
             ],
             [
              0.1111111111111111,
              "#46039f"
             ],
             [
              0.2222222222222222,
              "#7201a8"
             ],
             [
              0.3333333333333333,
              "#9c179e"
             ],
             [
              0.4444444444444444,
              "#bd3786"
             ],
             [
              0.5555555555555556,
              "#d8576b"
             ],
             [
              0.6666666666666666,
              "#ed7953"
             ],
             [
              0.7777777777777778,
              "#fb9f3a"
             ],
             [
              0.8888888888888888,
              "#fdca26"
             ],
             [
              1,
              "#f0f921"
             ]
            ],
            "type": "heatmapgl"
           }
          ],
          "histogram": [
           {
            "marker": {
             "pattern": {
              "fillmode": "overlay",
              "size": 10,
              "solidity": 0.2
             }
            },
            "type": "histogram"
           }
          ],
          "histogram2d": [
           {
            "colorbar": {
             "outlinewidth": 0,
             "ticks": ""
            },
            "colorscale": [
             [
              0,
              "#0d0887"
             ],
             [
              0.1111111111111111,
              "#46039f"
             ],
             [
              0.2222222222222222,
              "#7201a8"
             ],
             [
              0.3333333333333333,
              "#9c179e"
             ],
             [
              0.4444444444444444,
              "#bd3786"
             ],
             [
              0.5555555555555556,
              "#d8576b"
             ],
             [
              0.6666666666666666,
              "#ed7953"
             ],
             [
              0.7777777777777778,
              "#fb9f3a"
             ],
             [
              0.8888888888888888,
              "#fdca26"
             ],
             [
              1,
              "#f0f921"
             ]
            ],
            "type": "histogram2d"
           }
          ],
          "histogram2dcontour": [
           {
            "colorbar": {
             "outlinewidth": 0,
             "ticks": ""
            },
            "colorscale": [
             [
              0,
              "#0d0887"
             ],
             [
              0.1111111111111111,
              "#46039f"
             ],
             [
              0.2222222222222222,
              "#7201a8"
             ],
             [
              0.3333333333333333,
              "#9c179e"
             ],
             [
              0.4444444444444444,
              "#bd3786"
             ],
             [
              0.5555555555555556,
              "#d8576b"
             ],
             [
              0.6666666666666666,
              "#ed7953"
             ],
             [
              0.7777777777777778,
              "#fb9f3a"
             ],
             [
              0.8888888888888888,
              "#fdca26"
             ],
             [
              1,
              "#f0f921"
             ]
            ],
            "type": "histogram2dcontour"
           }
          ],
          "mesh3d": [
           {
            "colorbar": {
             "outlinewidth": 0,
             "ticks": ""
            },
            "type": "mesh3d"
           }
          ],
          "parcoords": [
           {
            "line": {
             "colorbar": {
              "outlinewidth": 0,
              "ticks": ""
             }
            },
            "type": "parcoords"
           }
          ],
          "pie": [
           {
            "automargin": true,
            "type": "pie"
           }
          ],
          "scatter": [
           {
            "fillpattern": {
             "fillmode": "overlay",
             "size": 10,
             "solidity": 0.2
            },
            "type": "scatter"
           }
          ],
          "scatter3d": [
           {
            "line": {
             "colorbar": {
              "outlinewidth": 0,
              "ticks": ""
             }
            },
            "marker": {
             "colorbar": {
              "outlinewidth": 0,
              "ticks": ""
             }
            },
            "type": "scatter3d"
           }
          ],
          "scattercarpet": [
           {
            "marker": {
             "colorbar": {
              "outlinewidth": 0,
              "ticks": ""
             }
            },
            "type": "scattercarpet"
           }
          ],
          "scattergeo": [
           {
            "marker": {
             "colorbar": {
              "outlinewidth": 0,
              "ticks": ""
             }
            },
            "type": "scattergeo"
           }
          ],
          "scattergl": [
           {
            "marker": {
             "colorbar": {
              "outlinewidth": 0,
              "ticks": ""
             }
            },
            "type": "scattergl"
           }
          ],
          "scattermapbox": [
           {
            "marker": {
             "colorbar": {
              "outlinewidth": 0,
              "ticks": ""
             }
            },
            "type": "scattermapbox"
           }
          ],
          "scatterpolar": [
           {
            "marker": {
             "colorbar": {
              "outlinewidth": 0,
              "ticks": ""
             }
            },
            "type": "scatterpolar"
           }
          ],
          "scatterpolargl": [
           {
            "marker": {
             "colorbar": {
              "outlinewidth": 0,
              "ticks": ""
             }
            },
            "type": "scatterpolargl"
           }
          ],
          "scatterternary": [
           {
            "marker": {
             "colorbar": {
              "outlinewidth": 0,
              "ticks": ""
             }
            },
            "type": "scatterternary"
           }
          ],
          "surface": [
           {
            "colorbar": {
             "outlinewidth": 0,
             "ticks": ""
            },
            "colorscale": [
             [
              0,
              "#0d0887"
             ],
             [
              0.1111111111111111,
              "#46039f"
             ],
             [
              0.2222222222222222,
              "#7201a8"
             ],
             [
              0.3333333333333333,
              "#9c179e"
             ],
             [
              0.4444444444444444,
              "#bd3786"
             ],
             [
              0.5555555555555556,
              "#d8576b"
             ],
             [
              0.6666666666666666,
              "#ed7953"
             ],
             [
              0.7777777777777778,
              "#fb9f3a"
             ],
             [
              0.8888888888888888,
              "#fdca26"
             ],
             [
              1,
              "#f0f921"
             ]
            ],
            "type": "surface"
           }
          ],
          "table": [
           {
            "cells": {
             "fill": {
              "color": "#EBF0F8"
             },
             "line": {
              "color": "white"
             }
            },
            "header": {
             "fill": {
              "color": "#C8D4E3"
             },
             "line": {
              "color": "white"
             }
            },
            "type": "table"
           }
          ]
         },
         "layout": {
          "annotationdefaults": {
           "arrowcolor": "#2a3f5f",
           "arrowhead": 0,
           "arrowwidth": 1
          },
          "autotypenumbers": "strict",
          "coloraxis": {
           "colorbar": {
            "outlinewidth": 0,
            "ticks": ""
           }
          },
          "colorscale": {
           "diverging": [
            [
             0,
             "#8e0152"
            ],
            [
             0.1,
             "#c51b7d"
            ],
            [
             0.2,
             "#de77ae"
            ],
            [
             0.3,
             "#f1b6da"
            ],
            [
             0.4,
             "#fde0ef"
            ],
            [
             0.5,
             "#f7f7f7"
            ],
            [
             0.6,
             "#e6f5d0"
            ],
            [
             0.7,
             "#b8e186"
            ],
            [
             0.8,
             "#7fbc41"
            ],
            [
             0.9,
             "#4d9221"
            ],
            [
             1,
             "#276419"
            ]
           ],
           "sequential": [
            [
             0,
             "#0d0887"
            ],
            [
             0.1111111111111111,
             "#46039f"
            ],
            [
             0.2222222222222222,
             "#7201a8"
            ],
            [
             0.3333333333333333,
             "#9c179e"
            ],
            [
             0.4444444444444444,
             "#bd3786"
            ],
            [
             0.5555555555555556,
             "#d8576b"
            ],
            [
             0.6666666666666666,
             "#ed7953"
            ],
            [
             0.7777777777777778,
             "#fb9f3a"
            ],
            [
             0.8888888888888888,
             "#fdca26"
            ],
            [
             1,
             "#f0f921"
            ]
           ],
           "sequentialminus": [
            [
             0,
             "#0d0887"
            ],
            [
             0.1111111111111111,
             "#46039f"
            ],
            [
             0.2222222222222222,
             "#7201a8"
            ],
            [
             0.3333333333333333,
             "#9c179e"
            ],
            [
             0.4444444444444444,
             "#bd3786"
            ],
            [
             0.5555555555555556,
             "#d8576b"
            ],
            [
             0.6666666666666666,
             "#ed7953"
            ],
            [
             0.7777777777777778,
             "#fb9f3a"
            ],
            [
             0.8888888888888888,
             "#fdca26"
            ],
            [
             1,
             "#f0f921"
            ]
           ]
          },
          "colorway": [
           "#636efa",
           "#EF553B",
           "#00cc96",
           "#ab63fa",
           "#FFA15A",
           "#19d3f3",
           "#FF6692",
           "#B6E880",
           "#FF97FF",
           "#FECB52"
          ],
          "font": {
           "color": "#2a3f5f"
          },
          "geo": {
           "bgcolor": "white",
           "lakecolor": "white",
           "landcolor": "#E5ECF6",
           "showlakes": true,
           "showland": true,
           "subunitcolor": "white"
          },
          "hoverlabel": {
           "align": "left"
          },
          "hovermode": "closest",
          "mapbox": {
           "style": "light"
          },
          "paper_bgcolor": "white",
          "plot_bgcolor": "#E5ECF6",
          "polar": {
           "angularaxis": {
            "gridcolor": "white",
            "linecolor": "white",
            "ticks": ""
           },
           "bgcolor": "#E5ECF6",
           "radialaxis": {
            "gridcolor": "white",
            "linecolor": "white",
            "ticks": ""
           }
          },
          "scene": {
           "xaxis": {
            "backgroundcolor": "#E5ECF6",
            "gridcolor": "white",
            "gridwidth": 2,
            "linecolor": "white",
            "showbackground": true,
            "ticks": "",
            "zerolinecolor": "white"
           },
           "yaxis": {
            "backgroundcolor": "#E5ECF6",
            "gridcolor": "white",
            "gridwidth": 2,
            "linecolor": "white",
            "showbackground": true,
            "ticks": "",
            "zerolinecolor": "white"
           },
           "zaxis": {
            "backgroundcolor": "#E5ECF6",
            "gridcolor": "white",
            "gridwidth": 2,
            "linecolor": "white",
            "showbackground": true,
            "ticks": "",
            "zerolinecolor": "white"
           }
          },
          "shapedefaults": {
           "line": {
            "color": "#2a3f5f"
           }
          },
          "ternary": {
           "aaxis": {
            "gridcolor": "white",
            "linecolor": "white",
            "ticks": ""
           },
           "baxis": {
            "gridcolor": "white",
            "linecolor": "white",
            "ticks": ""
           },
           "bgcolor": "#E5ECF6",
           "caxis": {
            "gridcolor": "white",
            "linecolor": "white",
            "ticks": ""
           }
          },
          "title": {
           "x": 0.05
          },
          "xaxis": {
           "automargin": true,
           "gridcolor": "white",
           "linecolor": "white",
           "ticks": "",
           "title": {
            "standoff": 15
           },
           "zerolinecolor": "white",
           "zerolinewidth": 2
          },
          "yaxis": {
           "automargin": true,
           "gridcolor": "white",
           "linecolor": "white",
           "ticks": "",
           "title": {
            "standoff": 15
           },
           "zerolinecolor": "white",
           "zerolinewidth": 2
          }
         }
        },
        "title": {
         "text": "cifar10 subset inspection"
        },
        "xaxis": {
         "anchor": "y",
         "domain": [
          0,
          0.235
         ]
        },
        "xaxis10": {
         "anchor": "y10",
         "domain": [
          0.255,
          0.49
         ],
         "matches": "x",
         "showticklabels": false
        },
        "xaxis11": {
         "anchor": "y11",
         "domain": [
          0.51,
          0.745
         ],
         "matches": "x",
         "showticklabels": false
        },
        "xaxis12": {
         "anchor": "y12",
         "domain": [
          0.7649999999999999,
          0.9999999999999999
         ],
         "matches": "x",
         "showticklabels": false
        },
        "xaxis2": {
         "anchor": "y2",
         "domain": [
          0.255,
          0.49
         ],
         "matches": "x"
        },
        "xaxis3": {
         "anchor": "y3",
         "domain": [
          0.51,
          0.745
         ],
         "matches": "x"
        },
        "xaxis4": {
         "anchor": "y4",
         "domain": [
          0.7649999999999999,
          0.9999999999999999
         ],
         "matches": "x"
        },
        "xaxis5": {
         "anchor": "y5",
         "domain": [
          0,
          0.235
         ],
         "matches": "x",
         "showticklabels": false
        },
        "xaxis6": {
         "anchor": "y6",
         "domain": [
          0.255,
          0.49
         ],
         "matches": "x",
         "showticklabels": false
        },
        "xaxis7": {
         "anchor": "y7",
         "domain": [
          0.51,
          0.745
         ],
         "matches": "x",
         "showticklabels": false
        },
        "xaxis8": {
         "anchor": "y8",
         "domain": [
          0.7649999999999999,
          0.9999999999999999
         ],
         "matches": "x",
         "showticklabels": false
        },
        "xaxis9": {
         "anchor": "y9",
         "domain": [
          0,
          0.235
         ],
         "matches": "x",
         "showticklabels": false
        },
        "yaxis": {
         "anchor": "x",
         "domain": [
          0,
          0.2866666666666666
         ]
        },
        "yaxis10": {
         "anchor": "x10",
         "domain": [
          0.7133333333333333,
          0.9999999999999999
         ],
         "matches": "y",
         "showticklabels": false
        },
        "yaxis11": {
         "anchor": "x11",
         "domain": [
          0.7133333333333333,
          0.9999999999999999
         ],
         "matches": "y",
         "showticklabels": false
        },
        "yaxis12": {
         "anchor": "x12",
         "domain": [
          0.7133333333333333,
          0.9999999999999999
         ],
         "matches": "y",
         "showticklabels": false
        },
        "yaxis2": {
         "anchor": "x2",
         "domain": [
          0,
          0.2866666666666666
         ],
         "matches": "y",
         "showticklabels": false
        },
        "yaxis3": {
         "anchor": "x3",
         "domain": [
          0,
          0.2866666666666666
         ],
         "matches": "y",
         "showticklabels": false
        },
        "yaxis4": {
         "anchor": "x4",
         "domain": [
          0,
          0.2866666666666666
         ],
         "matches": "y",
         "showticklabels": false
        },
        "yaxis5": {
         "anchor": "x5",
         "domain": [
          0.35666666666666663,
          0.6433333333333333
         ],
         "matches": "y"
        },
        "yaxis6": {
         "anchor": "x6",
         "domain": [
          0.35666666666666663,
          0.6433333333333333
         ],
         "matches": "y",
         "showticklabels": false
        },
        "yaxis7": {
         "anchor": "x7",
         "domain": [
          0.35666666666666663,
          0.6433333333333333
         ],
         "matches": "y",
         "showticklabels": false
        },
        "yaxis8": {
         "anchor": "x8",
         "domain": [
          0.35666666666666663,
          0.6433333333333333
         ],
         "matches": "y",
         "showticklabels": false
        },
        "yaxis9": {
         "anchor": "x9",
         "domain": [
          0.7133333333333333,
          0.9999999999999999
         ],
         "matches": "y"
        }
       }
      },
      "image/png": "[encoded data removed]"
     },
     "metadata": {},
     "output_type": "display_data"
    }
   ],
   "source": [
    "IMGS_IDX = [0, 1, 5673, 5494, 2, 55, 66, 776, 564]\n",
    "x = x_train[IMGS_IDX]\n",
    "y = y_train[IMGS_IDX]\n",
    "px.imshow(x, facet_col=0, facet_col_wrap=4, title=\"cifar10 subset inspection\")"
   ]
  },
  {
   "cell_type": "code",
   "execution_count": 7,
   "metadata": {},
   "outputs": [
    {
     "data": {
      "text/plain": [
       "(10000, 32, 32, 3)"
      ]
     },
     "execution_count": 7,
     "metadata": {},
     "output_type": "execute_result"
    }
   ],
   "source": [
    "NB_SAMPLES_PER_CLASS = 1000\n",
    "NB_CLASSES = 10\n",
    "\n",
    "class_masks = y_train.argmax(1, keepdims=True) == np.arange(NB_CLASSES)\n",
    "take_first_n_of_class = lambda data, class_idx: data[class_masks[:, class_idx]][:NB_SAMPLES_PER_CLASS]\n",
    "take_first_n_of_each_class = lambda data: np.concatenate([take_first_n_of_class(data, class_idx) for class_idx in range(NB_CLASSES)], axis=0)\n",
    "x_train_subset = take_first_n_of_each_class(x_train)\n",
    "y_train_subset = take_first_n_of_each_class(y_train)\n",
    "x_train_subset.shape"
   ]
  },
  {
   "cell_type": "markdown",
   "metadata": {},
   "source": [
    "## Fitting cifar10"
   ]
  },
  {
   "cell_type": "markdown",
   "metadata": {},
   "source": [
    "### Model declaration"
   ]
  },
  {
   "cell_type": "code",
   "execution_count": 8,
   "metadata": {},
   "outputs": [],
   "source": [
    "def create_nn() -> list[Layer]:\n",
    "    return [\n",
    "        Convolutional((10, 7, 7, 3)),\n",
    "        BatchNorm(),\n",
    "        Relu(),\n",
    "        MaxPool((2, 2)),\n",
    "        Flatten(),\n",
    "        Linear(1690, 300),\n",
    "        LeakyRelu(),\n",
    "        Linear(300, y.shape[1]),\n",
    "        Softmax(),\n",
    "    ]"
   ]
  },
  {
   "cell_type": "markdown",
   "metadata": {},
   "source": [
    "### Optimizer"
   ]
  },
  {
   "cell_type": "code",
   "execution_count": 9,
   "metadata": {},
   "outputs": [],
   "source": [
    "def create_optimizer(nn:list[Layer]) -> Adam:\n",
    "    return Adam(\n",
    "        nn,\n",
    "        x_train,\n",
    "        y_train,\n",
    "        BinaryCrossentropy(),\n",
    "        starting_lr=0.015,\n",
    "        lr_decay=0.0001,\n",
    "        momentum_weight=0.8,\n",
    "        ada_grad_weight=0.999,\n",
    "        l2_weight=0.0,\n",
    "    )"
   ]
  },
  {
   "cell_type": "code",
   "execution_count": 10,
   "metadata": {},
   "outputs": [],
   "source": [
    "NB_TEST_BATCHES = int(np.ceil(len(x_test) / MAX_NB_SAMPLES))\n",
    "loss = BinaryCrossentropy()\n",
    "\n",
    "def test_accuracy(metric_line:dict, nn:list[Layer], **_) -> dict:\n",
    "    y_test_pred = []\n",
    "    for x_test_subset in split(x_test, NB_TEST_BATCHES):\n",
    "        y_test_pred.append(reduce(lambda x, l: l.forward(x), nn, x_test_subset))\n",
    "    y_test_pred = np.concatenate(y_test_pred)\n",
    "    metric_line[\"test_accuracy\"] =  np.mean(y_test_pred.argmax(1) == y_test.argmax(1))\n",
    "    metric_line[\"test_loss\"] = loss.forward(y_test_pred, y_test)\n",
    "    return metric_line\n"
   ]
  },
  {
   "cell_type": "markdown",
   "metadata": {},
   "source": [
    "### Training"
   ]
  },
  {
   "cell_type": "code",
   "execution_count": 11,
   "metadata": {},
   "outputs": [],
   "source": [
    "nn = create_nn()\n",
    "first_optimizer = create_optimizer(nn)"
   ]
  },
  {
   "cell_type": "code",
   "execution_count": 12,
   "metadata": {},
   "outputs": [],
   "source": [
    "bad_training_stats = (\n",
    "    first_optimizer\n",
    "    .optimize_nn(\n",
    "        epochs=35,\n",
    "        batch_size=500,\n",
    "        metrics=[accuracy, test_accuracy],\n",
    "        plt_x=\"epoch\",\n",
    "        plt_ys=[\n",
    "            \"loss\",\n",
    "            \"accuracy\",\n",
    "            \"test_accuracy\",\n",
    "            \"test_loss\",\n",
    "            \"learning_rate\",\n",
    "        ],\n",
    "        height=600,\n",
    "    )\n",
    ")"
   ]
  },
  {
   "cell_type": "code",
   "execution_count": 57,
   "metadata": {},
   "outputs": [
    {
     "data": {
      "text/plain": [
       "{'test_accuracy': np.float64(0.6157),\n",
       " 'test_loss': np.float64(0.19704411015083267)}"
      ]
     },
     "execution_count": 57,
     "metadata": {},
     "output_type": "execute_result"
    },
    {
     "ename": "",
     "evalue": "",
     "output_type": "error",
     "traceback": [
      "\u001b[1;31mnotebook controller is DISPOSED. \n",
      "\u001b[1;31mView Jupyter <a href='command:jupyter.viewOutput'>log</a> for further details."
     ]
    },
    {
     "ename": "",
     "evalue": "",
     "output_type": "error",
     "traceback": [
      "\u001b[1;31mnotebook controller is DISPOSED. \n",
      "\u001b[1;31mView Jupyter <a href='command:jupyter.viewOutput'>log</a> for further details."
     ]
    }
   ],
   "source": [
    "test_accuracy({}, nn)"
   ]
  },
  {
   "cell_type": "markdown",
   "metadata": {},
   "source": [
    "### Inspecting the trained model"
   ]
  },
  {
   "cell_type": "code",
   "execution_count": 48,
   "metadata": {},
   "outputs": [
    {
     "data": {
      "application/vnd.plotly.v1+json": {
       "config": {
        "plotlyServerURL": "https://plot.ly"
       },
       "data": [
        {
         "hovertemplate": "x: %{x}<br>y: %{y}<extra></extra>",
         "name": "0",
         "source": "data:image/png;base64,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",
         "type": "image",
         "xaxis": "x",
         "yaxis": "y"
        }
       ],
       "layout": {
        "margin": {
         "t": 60
        },
        "template": {
         "data": {
          "bar": [
           {
            "error_x": {
             "color": "#2a3f5f"
            },
            "error_y": {
             "color": "#2a3f5f"
            },
            "marker": {
             "line": {
              "color": "#E5ECF6",
              "width": 0.5
             },
             "pattern": {
              "fillmode": "overlay",
              "size": 10,
              "solidity": 0.2
             }
            },
            "type": "bar"
           }
          ],
          "barpolar": [
           {
            "marker": {
             "line": {
              "color": "#E5ECF6",
              "width": 0.5
             },
             "pattern": {
              "fillmode": "overlay",
              "size": 10,
              "solidity": 0.2
             }
            },
            "type": "barpolar"
           }
          ],
          "carpet": [
           {
            "aaxis": {
             "endlinecolor": "#2a3f5f",
             "gridcolor": "white",
             "linecolor": "white",
             "minorgridcolor": "white",
             "startlinecolor": "#2a3f5f"
            },
            "baxis": {
             "endlinecolor": "#2a3f5f",
             "gridcolor": "white",
             "linecolor": "white",
             "minorgridcolor": "white",
             "startlinecolor": "#2a3f5f"
            },
            "type": "carpet"
           }
          ],
          "choropleth": [
           {
            "colorbar": {
             "outlinewidth": 0,
             "ticks": ""
            },
            "type": "choropleth"
           }
          ],
          "contour": [
           {
            "colorbar": {
             "outlinewidth": 0,
             "ticks": ""
            },
            "colorscale": [
             [
              0,
              "#0d0887"
             ],
             [
              0.1111111111111111,
              "#46039f"
             ],
             [
              0.2222222222222222,
              "#7201a8"
             ],
             [
              0.3333333333333333,
              "#9c179e"
             ],
             [
              0.4444444444444444,
              "#bd3786"
             ],
             [
              0.5555555555555556,
              "#d8576b"
             ],
             [
              0.6666666666666666,
              "#ed7953"
             ],
             [
              0.7777777777777778,
              "#fb9f3a"
             ],
             [
              0.8888888888888888,
              "#fdca26"
             ],
             [
              1,
              "#f0f921"
             ]
            ],
            "type": "contour"
           }
          ],
          "contourcarpet": [
           {
            "colorbar": {
             "outlinewidth": 0,
             "ticks": ""
            },
            "type": "contourcarpet"
           }
          ],
          "heatmap": [
           {
            "colorbar": {
             "outlinewidth": 0,
             "ticks": ""
            },
            "colorscale": [
             [
              0,
              "#0d0887"
             ],
             [
              0.1111111111111111,
              "#46039f"
             ],
             [
              0.2222222222222222,
              "#7201a8"
             ],
             [
              0.3333333333333333,
              "#9c179e"
             ],
             [
              0.4444444444444444,
              "#bd3786"
             ],
             [
              0.5555555555555556,
              "#d8576b"
             ],
             [
              0.6666666666666666,
              "#ed7953"
             ],
             [
              0.7777777777777778,
              "#fb9f3a"
             ],
             [
              0.8888888888888888,
              "#fdca26"
             ],
             [
              1,
              "#f0f921"
             ]
            ],
            "type": "heatmap"
           }
          ],
          "heatmapgl": [
           {
            "colorbar": {
             "outlinewidth": 0,
             "ticks": ""
            },
            "colorscale": [
             [
              0,
              "#0d0887"
             ],
             [
              0.1111111111111111,
              "#46039f"
             ],
             [
              0.2222222222222222,
              "#7201a8"
             ],
             [
              0.3333333333333333,
              "#9c179e"
             ],
             [
              0.4444444444444444,
              "#bd3786"
             ],
             [
              0.5555555555555556,
              "#d8576b"
             ],
             [
              0.6666666666666666,
              "#ed7953"
             ],
             [
              0.7777777777777778,
              "#fb9f3a"
             ],
             [
              0.8888888888888888,
              "#fdca26"
             ],
             [
              1,
              "#f0f921"
             ]
            ],
            "type": "heatmapgl"
           }
          ],
          "histogram": [
           {
            "marker": {
             "pattern": {
              "fillmode": "overlay",
              "size": 10,
              "solidity": 0.2
             }
            },
            "type": "histogram"
           }
          ],
          "histogram2d": [
           {
            "colorbar": {
             "outlinewidth": 0,
             "ticks": ""
            },
            "colorscale": [
             [
              0,
              "#0d0887"
             ],
             [
              0.1111111111111111,
              "#46039f"
             ],
             [
              0.2222222222222222,
              "#7201a8"
             ],
             [
              0.3333333333333333,
              "#9c179e"
             ],
             [
              0.4444444444444444,
              "#bd3786"
             ],
             [
              0.5555555555555556,
              "#d8576b"
             ],
             [
              0.6666666666666666,
              "#ed7953"
             ],
             [
              0.7777777777777778,
              "#fb9f3a"
             ],
             [
              0.8888888888888888,
              "#fdca26"
             ],
             [
              1,
              "#f0f921"
             ]
            ],
            "type": "histogram2d"
           }
          ],
          "histogram2dcontour": [
           {
            "colorbar": {
             "outlinewidth": 0,
             "ticks": ""
            },
            "colorscale": [
             [
              0,
              "#0d0887"
             ],
             [
              0.1111111111111111,
              "#46039f"
             ],
             [
              0.2222222222222222,
              "#7201a8"
             ],
             [
              0.3333333333333333,
              "#9c179e"
             ],
             [
              0.4444444444444444,
              "#bd3786"
             ],
             [
              0.5555555555555556,
              "#d8576b"
             ],
             [
              0.6666666666666666,
              "#ed7953"
             ],
             [
              0.7777777777777778,
              "#fb9f3a"
             ],
             [
              0.8888888888888888,
              "#fdca26"
             ],
             [
              1,
              "#f0f921"
             ]
            ],
            "type": "histogram2dcontour"
           }
          ],
          "mesh3d": [
           {
            "colorbar": {
             "outlinewidth": 0,
             "ticks": ""
            },
            "type": "mesh3d"
           }
          ],
          "parcoords": [
           {
            "line": {
             "colorbar": {
              "outlinewidth": 0,
              "ticks": ""
             }
            },
            "type": "parcoords"
           }
          ],
          "pie": [
           {
            "automargin": true,
            "type": "pie"
           }
          ],
          "scatter": [
           {
            "fillpattern": {
             "fillmode": "overlay",
             "size": 10,
             "solidity": 0.2
            },
            "type": "scatter"
           }
          ],
          "scatter3d": [
           {
            "line": {
             "colorbar": {
              "outlinewidth": 0,
              "ticks": ""
             }
            },
            "marker": {
             "colorbar": {
              "outlinewidth": 0,
              "ticks": ""
             }
            },
            "type": "scatter3d"
           }
          ],
          "scattercarpet": [
           {
            "marker": {
             "colorbar": {
              "outlinewidth": 0,
              "ticks": ""
             }
            },
            "type": "scattercarpet"
           }
          ],
          "scattergeo": [
           {
            "marker": {
             "colorbar": {
              "outlinewidth": 0,
              "ticks": ""
             }
            },
            "type": "scattergeo"
           }
          ],
          "scattergl": [
           {
            "marker": {
             "colorbar": {
              "outlinewidth": 0,
              "ticks": ""
             }
            },
            "type": "scattergl"
           }
          ],
          "scattermapbox": [
           {
            "marker": {
             "colorbar": {
              "outlinewidth": 0,
              "ticks": ""
             }
            },
            "type": "scattermapbox"
           }
          ],
          "scatterpolar": [
           {
            "marker": {
             "colorbar": {
              "outlinewidth": 0,
              "ticks": ""
             }
            },
            "type": "scatterpolar"
           }
          ],
          "scatterpolargl": [
           {
            "marker": {
             "colorbar": {
              "outlinewidth": 0,
              "ticks": ""
             }
            },
            "type": "scatterpolargl"
           }
          ],
          "scatterternary": [
           {
            "marker": {
             "colorbar": {
              "outlinewidth": 0,
              "ticks": ""
             }
            },
            "type": "scatterternary"
           }
          ],
          "surface": [
           {
            "colorbar": {
             "outlinewidth": 0,
             "ticks": ""
            },
            "colorscale": [
             [
              0,
              "#0d0887"
             ],
             [
              0.1111111111111111,
              "#46039f"
             ],
             [
              0.2222222222222222,
              "#7201a8"
             ],
             [
              0.3333333333333333,
              "#9c179e"
             ],
             [
              0.4444444444444444,
              "#bd3786"
             ],
             [
              0.5555555555555556,
              "#d8576b"
             ],
             [
              0.6666666666666666,
              "#ed7953"
             ],
             [
              0.7777777777777778,
              "#fb9f3a"
             ],
             [
              0.8888888888888888,
              "#fdca26"
             ],
             [
              1,
              "#f0f921"
             ]
            ],
            "type": "surface"
           }
          ],
          "table": [
           {
            "cells": {
             "fill": {
              "color": "#EBF0F8"
             },
             "line": {
              "color": "white"
             }
            },
            "header": {
             "fill": {
              "color": "#C8D4E3"
             },
             "line": {
              "color": "white"
             }
            },
            "type": "table"
           }
          ]
         },
         "layout": {
          "annotationdefaults": {
           "arrowcolor": "#2a3f5f",
           "arrowhead": 0,
           "arrowwidth": 1
          },
          "autotypenumbers": "strict",
          "coloraxis": {
           "colorbar": {
            "outlinewidth": 0,
            "ticks": ""
           }
          },
          "colorscale": {
           "diverging": [
            [
             0,
             "#8e0152"
            ],
            [
             0.1,
             "#c51b7d"
            ],
            [
             0.2,
             "#de77ae"
            ],
            [
             0.3,
             "#f1b6da"
            ],
            [
             0.4,
             "#fde0ef"
            ],
            [
             0.5,
             "#f7f7f7"
            ],
            [
             0.6,
             "#e6f5d0"
            ],
            [
             0.7,
             "#b8e186"
            ],
            [
             0.8,
             "#7fbc41"
            ],
            [
             0.9,
             "#4d9221"
            ],
            [
             1,
             "#276419"
            ]
           ],
           "sequential": [
            [
             0,
             "#0d0887"
            ],
            [
             0.1111111111111111,
             "#46039f"
            ],
            [
             0.2222222222222222,
             "#7201a8"
            ],
            [
             0.3333333333333333,
             "#9c179e"
            ],
            [
             0.4444444444444444,
             "#bd3786"
            ],
            [
             0.5555555555555556,
             "#d8576b"
            ],
            [
             0.6666666666666666,
             "#ed7953"
            ],
            [
             0.7777777777777778,
             "#fb9f3a"
            ],
            [
             0.8888888888888888,
             "#fdca26"
            ],
            [
             1,
             "#f0f921"
            ]
           ],
           "sequentialminus": [
            [
             0,
             "#0d0887"
            ],
            [
             0.1111111111111111,
             "#46039f"
            ],
            [
             0.2222222222222222,
             "#7201a8"
            ],
            [
             0.3333333333333333,
             "#9c179e"
            ],
            [
             0.4444444444444444,
             "#bd3786"
            ],
            [
             0.5555555555555556,
             "#d8576b"
            ],
            [
             0.6666666666666666,
             "#ed7953"
            ],
            [
             0.7777777777777778,
             "#fb9f3a"
            ],
            [
             0.8888888888888888,
             "#fdca26"
            ],
            [
             1,
             "#f0f921"
            ]
           ]
          },
          "colorway": [
           "#636efa",
           "#EF553B",
           "#00cc96",
           "#ab63fa",
           "#FFA15A",
           "#19d3f3",
           "#FF6692",
           "#B6E880",
           "#FF97FF",
           "#FECB52"
          ],
          "font": {
           "color": "#2a3f5f"
          },
          "geo": {
           "bgcolor": "white",
           "lakecolor": "white",
           "landcolor": "#E5ECF6",
           "showlakes": true,
           "showland": true,
           "subunitcolor": "white"
          },
          "hoverlabel": {
           "align": "left"
          },
          "hovermode": "closest",
          "mapbox": {
           "style": "light"
          },
          "paper_bgcolor": "white",
          "plot_bgcolor": "#E5ECF6",
          "polar": {
           "angularaxis": {
            "gridcolor": "white",
            "linecolor": "white",
            "ticks": ""
           },
           "bgcolor": "#E5ECF6",
           "radialaxis": {
            "gridcolor": "white",
            "linecolor": "white",
            "ticks": ""
           }
          },
          "scene": {
           "xaxis": {
            "backgroundcolor": "#E5ECF6",
            "gridcolor": "white",
            "gridwidth": 2,
            "linecolor": "white",
            "showbackground": true,
            "ticks": "",
            "zerolinecolor": "white"
           },
           "yaxis": {
            "backgroundcolor": "#E5ECF6",
            "gridcolor": "white",
            "gridwidth": 2,
            "linecolor": "white",
            "showbackground": true,
            "ticks": "",
            "zerolinecolor": "white"
           },
           "zaxis": {
            "backgroundcolor": "#E5ECF6",
            "gridcolor": "white",
            "gridwidth": 2,
            "linecolor": "white",
            "showbackground": true,
            "ticks": "",
            "zerolinecolor": "white"
           }
          },
          "shapedefaults": {
           "line": {
            "color": "#2a3f5f"
           }
          },
          "ternary": {
           "aaxis": {
            "gridcolor": "white",
            "linecolor": "white",
            "ticks": ""
           },
           "baxis": {
            "gridcolor": "white",
            "linecolor": "white",
            "ticks": ""
           },
           "bgcolor": "#E5ECF6",
           "caxis": {
            "gridcolor": "white",
            "linecolor": "white",
            "ticks": ""
           }
          },
          "title": {
           "x": 0.05
          },
          "xaxis": {
           "automargin": true,
           "gridcolor": "white",
           "linecolor": "white",
           "ticks": "",
           "title": {
            "standoff": 15
           },
           "zerolinecolor": "white",
           "zerolinewidth": 2
          },
          "yaxis": {
           "automargin": true,
           "gridcolor": "white",
           "linecolor": "white",
           "ticks": "",
           "title": {
            "standoff": 15
           },
           "zerolinecolor": "white",
           "zerolinewidth": 2
          }
         }
        },
        "xaxis": {
         "anchor": "y",
         "domain": [
          0,
          1
         ]
        },
        "yaxis": {
         "anchor": "x",
         "domain": [
          0,
          1
         ]
        }
       }
      }
     },
     "metadata": {},
     "output_type": "display_data"
    },
    {
     "ename": "",
     "evalue": "",
     "output_type": "error",
     "traceback": [
      "\u001b[1;31mnotebook controller is DISPOSED. \n",
      "\u001b[1;31mView Jupyter <a href='command:jupyter.viewOutput'>log</a> for further details."
     ]
    },
    {
     "ename": "",
     "evalue": "",
     "output_type": "error",
     "traceback": [
      "\u001b[1;31mnotebook controller is DISPOSED. \n",
      "\u001b[1;31mView Jupyter <a href='command:jupyter.viewOutput'>log</a> for further details."
     ]
    }
   ],
   "source": [
    "TARGET_IMG = 30\n",
    "px.imshow(x_train[TARGET_IMG])"
   ]
  },
  {
   "cell_type": "code",
   "execution_count": 49,
   "metadata": {},
   "outputs": [
    {
     "data": {
      "application/vnd.plotly.v1+json": {
       "config": {
        "plotlyServerURL": "https://plot.ly"
       },
       "data": [
        {
         "coloraxis": "coloraxis",
         "hovertemplate": "x: %{x}<br>y: %{y}<br>color: %{z}<extra></extra>",
         "name": "0",
         "type": "heatmap",
         "xaxis": "x",
         "yaxis": "y",
         "z": [
          [
           0,
           0,
           0,
           0,
           0,
           0,
           0,
           0,
           0,
           0,
           0,
           0,
           0
          ],
          [
           0,
           0,
           0,
           0,
           0,
           0,
           0,
           0,
           0,
           0,
           0,
           0,
           0
          ],
          [
           0,
           0.029213225347117178,
           0,
           0,
           0,
           0,
           0,
           0.12703552834329898,
           0.00036938373379047373,
           0,
           0,
           0,
           0
          ],
          [
           0,
           0,
           0.02275080004560126,
           0,
           0.04565422692420279,
           0.3373817592149677,
           0.4056059237930889,
           0.2114809210594786,
           0.16174248949105388,
           0.06176108724563656,
           0,
           0,
           0
          ],
          [
           0,
           0.2274738205631728,
           0.33248552090276673,
           0.2399845577544922,
           0.011589752177540796,
           0.042706604312219315,
           0,
           0,
           0,
           0,
           0,
           0,
           0
          ],
          [
           0,
           0,
           0.09325397394450549,
           0.3194445735134098,
           0.17676677595724985,
           0,
           0.016452380328923877,
           0,
           0,
           0,
           0,
           0,
           0
          ],
          [
           0,
           0,
           0.10724282318788306,
           0,
           0.15346996013694522,
           0.34919128514853004,
           0.4064102664107584,
           0.42577440509529385,
           0.16539208539536124,
           0.08353805792477317,
           0,
           0,
           0
          ],
          [
           0,
           0,
           0,
           0,
           0,
           0,
           0,
           0,
           0.0190170773412838,
           0.24215136936571283,
           0.0662273473282633,
           0,
           0
          ],
          [
           0,
           0,
           0,
           0,
           0.29637623872782914,
           0.7484623830906154,
           0.5355118999057071,
           0.48899267012759595,
           0.09001187631044935,
           0,
           0.2863069753269427,
           0.30267868196608594,
           0.2328039580808455
          ],
          [
           0.5592845780204552,
           0.13469858814973598,
           0,
           0,
           0.08605646897002175,
           0.11867096850505546,
           0,
           0,
           0.11979733243413851,
           0.12823566878252632,
           0,
           0,
           0.16426797821538733
          ],
          [
           0.2861827174978586,
           0.21585713076277466,
           0.21732803761131705,
           0.15603287156369974,
           0,
           0,
           0.03803519550591236,
           0.03204391085941238,
           0,
           0.167526876100304,
           0.09888432463971517,
           0,
           0
          ],
          [
           0,
           0,
           0,
           0,
           0,
           0,
           0,
           0,
           0,
           0,
           0,
           0.2154508553421158,
           0.1862781397548938
          ],
          [
           0,
           0,
           0,
           0,
           0,
           0,
           0,
           0,
           0,
           0,
           0,
           0,
           0
          ]
         ]
        },
        {
         "coloraxis": "coloraxis",
         "hovertemplate": "x: %{x}<br>y: %{y}<br>color: %{z}<extra></extra>",
         "name": "1",
         "type": "heatmap",
         "xaxis": "x2",
         "yaxis": "y2",
         "z": [
          [
           0,
           0,
           0,
           0,
           0,
           0,
           0,
           0,
           0,
           0,
           0,
           0,
           0
          ],
          [
           0,
           0,
           0,
           0,
           0,
           0,
           0,
           0,
           0,
           0,
           0,
           0,
           0
          ],
          [
           0,
           0,
           0,
           0,
           0,
           0,
           0,
           0.05843244321691596,
           0,
           0,
           0,
           0,
           0
          ],
          [
           0,
           0,
           0,
           0,
           0,
           0,
           0.11710975419857778,
           0.18279668590540038,
           0,
           0,
           0,
           0,
           0
          ],
          [
           0,
           0,
           0,
           0,
           0,
           0,
           0.1809918004217917,
           0.18265489899613818,
           0.009841503736566781,
           0,
           0,
           0,
           0
          ],
          [
           0,
           0,
           0,
           0,
           0.08209307421102252,
           0.09274035479242204,
           0.15021147440197608,
           0.2685735617404421,
           0.30887053602619124,
           0.06682800066040809,
           0,
           0,
           0
          ],
          [
           0,
           0,
           0,
           0,
           0.16218081968196313,
           0.20203767251547794,
           0.22556513968254127,
           0.21128606581765275,
           0.27868088161222987,
           0.15116333071873272,
           0.042612674625610886,
           0,
           0
          ],
          [
           0,
           0,
           0,
           0,
           0.1753403211827642,
           0.17085147183018307,
           0.11441053807900131,
           0.2433245204487815,
           0.1479829626503995,
           0.3365883836508469,
           0.3068797624594737,
           0.116599966306553,
           0
          ],
          [
           0,
           0,
           0,
           0.012364854106559464,
           0.17158009481166714,
           0.09799281897470824,
           0.028385605830357014,
           0,
           0.010964740533347644,
           0.34994005265223366,
           0.4084809221550038,
           0.2765569422693894,
           0.11582163007772273
          ],
          [
           0,
           0,
           0,
           0.07327633759304802,
           0.22947680953740185,
           0.027094582861931144,
           0,
           0,
           0,
           0.1096435206034928,
           0.2531334418052742,
           0.22425756248492873,
           0.18977073742733114
          ],
          [
           0,
           0,
           0,
           0,
           0,
           0,
           0,
           0,
           0,
           0,
           0.005249452323055681,
           0.032517504875997166,
           0.050367827494732176
          ],
          [
           0,
           0,
           0,
           0,
           0,
           0,
           0,
           0,
           0,
           0,
           0,
           0.012503510657830091,
           0
          ],
          [
           0,
           0,
           0,
           0,
           0,
           0,
           0,
           0,
           0,
           0,
           0,
           0,
           0.009359854618822688
          ]
         ]
        },
        {
         "coloraxis": "coloraxis",
         "hovertemplate": "x: %{x}<br>y: %{y}<br>color: %{z}<extra></extra>",
         "name": "2",
         "type": "heatmap",
         "xaxis": "x3",
         "yaxis": "y3",
         "z": [
          [
           0,
           0,
           0,
           0,
           0,
           0,
           0,
           0,
           0,
           0,
           0,
           0,
           0
          ],
          [
           0,
           0,
           0,
           0,
           0,
           0,
           0,
           0,
           0,
           0,
           0,
           0,
           0
          ],
          [
           0,
           0,
           0,
           0,
           0.027466749469670138,
           0.07395730971916964,
           0.04029157122797378,
           0,
           0,
           0,
           0,
           0,
           0
          ],
          [
           0,
           0,
           0.010661914400876552,
           0.10693200111924474,
           0.15635835155990205,
           0.1817810368058956,
           0.1268803734454833,
           0,
           0,
           0,
           0,
           0,
           0
          ],
          [
           0.002791613997381006,
           0.13455978034447,
           0.22812194560902457,
           0.2759081307565283,
           0.2877066652370325,
           0.2575377272461599,
           0.19797008146978137,
           0.19146466212305807,
           0.18427221018873066,
           0.1372573404612191,
           0.03416304083604091,
           0,
           0
          ],
          [
           0.02973832004073666,
           0.12105815080220288,
           0.1702323794316486,
           0.18533482818132463,
           0.16487730862772007,
           0.15181981229821673,
           0.11148153960369798,
           0.13190922179748338,
           0.14905448245459532,
           0.0983908553398874,
           0.043915162771537355,
           0,
           0
          ],
          [
           0.07668138146097993,
           0.16433271066205632,
           0.18584189452395133,
           0.1456595663030979,
           0.09860411902626383,
           0.11282314503406117,
           0.20886602919825176,
           0.3166246998430467,
           0.3538116241171267,
           0.30885276063883477,
           0.14493708803680877,
           0.03286804041411595,
           0
          ],
          [
           0,
           0,
           0,
           0,
           0.04444854169680147,
           0.09831634088456524,
           0.18423729589421203,
           0.275226686557451,
           0.35713063226229386,
           0.3377832371775592,
           0.20430332244068453,
           0.0920368989965723,
           0.004218663761052975
          ],
          [
           0,
           0,
           0,
           0.026672772682456127,
           0.015801245819771808,
           0,
           0,
           0.0894521143225875,
           0.16841015408796062,
           0.2001796052373763,
           0.16224324407199678,
           0.07706880302116056,
           0.004727651178128539
          ],
          [
           0.11077496712833075,
           0.06459152017718912,
           0,
           0,
           0.14212310246230073,
           0.20104849585667944,
           0.10943096124758285,
           0.01770447708584554,
           0,
           0,
           0,
           0.03050303088996838,
           0.039075110813842615
          ],
          [
           0.15437672885934678,
           0.22995998440913618,
           0.21864288687711,
           0.16190870894288334,
           0.09454849477309374,
           0.02224976358701475,
           0,
           0.018383973341115047,
           0,
           0,
           0,
           0.0037073522524396912,
           0.026952893995852736
          ],
          [
           0.13235333782768868,
           0.1354912370785033,
           0.06071908800930996,
           0,
           0,
           0,
           0,
           0,
           0,
           0,
           0,
           0,
           0
          ],
          [
           0,
           0,
           0,
           0,
           0,
           0,
           0,
           0,
           0,
           0,
           0,
           0.0010608981646512902,
           0
          ]
         ]
        },
        {
         "coloraxis": "coloraxis",
         "hovertemplate": "x: %{x}<br>y: %{y}<br>color: %{z}<extra></extra>",
         "name": "3",
         "type": "heatmap",
         "xaxis": "x4",
         "yaxis": "y4",
         "z": [
          [
           0,
           0,
           0,
           0,
           0,
           0,
           0,
           0,
           0,
           0,
           0,
           0,
           0
          ],
          [
           0,
           0,
           0,
           0,
           0,
           0,
           0,
           0,
           0,
           0,
           0,
           0,
           0
          ],
          [
           0,
           0,
           0,
           0,
           0,
           0.00474737694243918,
           0,
           0,
           0,
           0,
           0,
           0,
           0
          ],
          [
           0,
           0,
           0.09682053963007206,
           0.06131060649501707,
           0,
           0.0004467835256464492,
           0,
           0,
           0.12014143045008233,
           0.03448359569196735,
           0,
           0,
           0
          ],
          [
           0,
           0,
           0,
           0,
           0.02896722461340892,
           0,
           0.08356542915471452,
           0.07722310837873847,
           0,
           0,
           0,
           0,
           0
          ],
          [
           0,
           0,
           0.12735448556908543,
           0.22508110857003363,
           0.13579742339377918,
           0.013775566679112006,
           0,
           0,
           0,
           0.0195879096192228,
           0,
           0,
           0
          ],
          [
           0.1749224264318365,
           0.2902956155349543,
           0,
           0,
           0,
           0.05191899210750864,
           0,
           0.02370427306463535,
           0,
           0,
           0,
           0,
           0
          ],
          [
           0,
           0.02971556283977525,
           0.22375970086352795,
           0.4318720439900442,
           0.23013037892898044,
           0,
           0,
           0.07816630377112405,
           0.21665469051748834,
           0.19720124297773448,
           0,
           0,
           0
          ],
          [
           0.18521985903996033,
           0.3271549604336036,
           0.09789882230535149,
           0.36302104790324574,
           0,
           0.4785888247869683,
           0.3425581955721032,
           0,
           0,
           0.01294431957424877,
           0.15693766048403965,
           0,
           0
          ],
          [
           0,
           0,
           0,
           1.0177752628607188,
           1.106155108855393,
           0.6785234137612165,
           0.2033919621356102,
           0.3325053238126052,
           0.2568391168058177,
           0,
           0,
           0.14341333914517065,
           0
          ],
          [
           0.022027952411174473,
           0.5605237144071704,
           0.6494891249572877,
           0.7803758264817768,
           0,
           0,
           0,
           0,
           0,
           0.022711428704268538,
           0.011809064007087366,
           0,
           0
          ],
          [
           0.11094577439719425,
           0.3237654224017845,
           0,
           0,
           0.02258234906967671,
           0,
           0,
           0,
           0,
           0,
           0,
           0.10558449630813008,
           0.015405969456830981
          ],
          [
           0,
           0,
           0,
           0,
           0,
           0,
           0,
           0,
           0,
           0,
           0,
           0,
           0.03307088444513076
          ]
         ]
        },
        {
         "coloraxis": "coloraxis",
         "hovertemplate": "x: %{x}<br>y: %{y}<br>color: %{z}<extra></extra>",
         "name": "4",
         "type": "heatmap",
         "xaxis": "x5",
         "yaxis": "y5",
         "z": [
          [
           0,
           0,
           0,
           0,
           0,
           0,
           0,
           0,
           0,
           0,
           0,
           0,
           0
          ],
          [
           0,
           0,
           0,
           0,
           0,
           0,
           0,
           0,
           0,
           0,
           0,
           0,
           0
          ],
          [
           0,
           0,
           0,
           0,
           0,
           0,
           0,
           0,
           0,
           0,
           0,
           0,
           0
          ],
          [
           0,
           0,
           0,
           0,
           0,
           0,
           0,
           0,
           0.001304090133416036,
           0,
           0,
           0,
           0
          ],
          [
           0,
           0,
           0,
           0,
           0,
           0,
           0,
           0,
           0,
           0,
           0,
           0,
           0
          ],
          [
           0,
           0,
           0,
           0.025989285571720866,
           0,
           0,
           0,
           0,
           0,
           0,
           0,
           0,
           0
          ],
          [
           0,
           0,
           0,
           0,
           0,
           0,
           0,
           0,
           0.050799962773787455,
           0.013487769017079931,
           0,
           0,
           0
          ],
          [
           0,
           0,
           0,
           0,
           0,
           0,
           0,
           0,
           0.05012691865143459,
           0.16519391558512975,
           0,
           0,
           0
          ],
          [
           0.03726062208115494,
           0.17161149364670109,
           0.06273870129355918,
           0,
           0,
           0.23641744413262544,
           0.3874893238428746,
           0.13600528485396318,
           0,
           0,
           0,
           0,
           0
          ],
          [
           0.783433951747159,
           0.23055136684202726,
           0.2218024583563395,
           0,
           0,
           0,
           0,
           0,
           0,
           0,
           0,
           0,
           0
          ],
          [
           0.6463175795919129,
           0.31621697720641373,
           0,
           0,
           0,
           0,
           0,
           0,
           0,
           0,
           0.052261166685155125,
           0,
           0
          ],
          [
           0,
           0,
           0,
           0,
           0,
           0,
           0,
           0,
           0,
           0,
           0,
           0.15025378394149458,
           0.1870027815186195
          ],
          [
           0,
           0,
           0,
           0,
           0,
           0,
           0,
           0,
           0,
           0,
           0,
           0,
           0.013278387739294406
          ]
         ]
        },
        {
         "coloraxis": "coloraxis",
         "hovertemplate": "x: %{x}<br>y: %{y}<br>color: %{z}<extra></extra>",
         "name": "5",
         "type": "heatmap",
         "xaxis": "x6",
         "yaxis": "y6",
         "z": [
          [
           0,
           0,
           0,
           0,
           0,
           0,
           0,
           0,
           0,
           0,
           0,
           0,
           0
          ],
          [
           0,
           0,
           0,
           0,
           0,
           0,
           0,
           0,
           0,
           0,
           0,
           0,
           0
          ],
          [
           0,
           0,
           0,
           0,
           0,
           0.00678368617881428,
           0,
           0,
           0,
           0,
           0,
           0,
           0
          ],
          [
           0,
           0,
           0.016617617237263238,
           0.05994231517937465,
           0.006536133225297197,
           0,
           0,
           0,
           0,
           0,
           0,
           0,
           0
          ],
          [
           0,
           0,
           0.011334900820225285,
           0.10470964565290378,
           0.11005484565320034,
           0,
           0,
           0,
           0,
           0,
           0,
           0,
           0
          ],
          [
           0,
           0,
           0,
           0.030914826788556088,
           0.019635232080017023,
           0.09275785080734181,
           0.05889080176658898,
           0,
           0,
           0,
           0,
           0,
           0
          ],
          [
           0.07727540238714398,
           0.00987968295938721,
           0.11099302548072593,
           0,
           0,
           0,
           0,
           0,
           0,
           0,
           0,
           0,
           0
          ],
          [
           0.12832803610593,
           0.28698701331044385,
           0.19745336105014963,
           0.19327051792245672,
           0.05401393457243803,
           0,
           0,
           0,
           0,
           0.10601546867730355,
           0.00227534966302842,
           0,
           0
          ],
          [
           0.03542530684122924,
           0.49394886108846014,
           0.46379721999002155,
           0.06761882634379587,
           0,
           0.02435729615042434,
           0.16628092497363064,
           0,
           0.026458012229535532,
           0,
           0.051652515889854894,
           0,
           0
          ],
          [
           0,
           0.1773826996879053,
           0.3730306768412761,
           0.1574200158232659,
           0,
           0,
           0.1734828573216741,
           0.11898353192983666,
           0.12355749247640171,
           0.2867803650810934,
           0.2291137325812512,
           0,
           0
          ],
          [
           0,
           0,
           0,
           0.10030693077304323,
           0.1120404597089878,
           0.05296896704304316,
           0,
           0,
           0,
           0.13567029976647757,
           0.3616731959138857,
           0.4901862994081645,
           0
          ],
          [
           0,
           0,
           0,
           0,
           0,
           0,
           0,
           0,
           0,
           0,
           0,
           0.5137596229099515,
           0.44954761417158673
          ],
          [
           0,
           0,
           0,
           0,
           0,
           0,
           0,
           0,
           0,
           0,
           0,
           0,
           0.27118939858049684
          ]
         ]
        },
        {
         "coloraxis": "coloraxis",
         "hovertemplate": "x: %{x}<br>y: %{y}<br>color: %{z}<extra></extra>",
         "name": "6",
         "type": "heatmap",
         "xaxis": "x7",
         "yaxis": "y7",
         "z": [
          [
           0,
           0,
           0,
           0,
           0,
           0,
           0,
           0,
           0,
           0,
           0,
           0,
           0
          ],
          [
           0,
           0,
           0,
           0,
           0,
           0,
           0,
           0,
           0,
           0,
           0,
           0,
           0
          ],
          [
           0,
           0,
           0,
           0,
           0,
           0,
           0,
           0,
           0,
           0,
           0,
           0,
           0
          ],
          [
           0,
           0,
           0,
           0,
           0,
           0,
           0,
           0,
           0,
           0,
           0,
           0,
           0
          ],
          [
           0,
           0,
           0,
           0,
           0,
           0,
           0,
           0,
           0,
           0,
           0,
           0,
           0
          ],
          [
           0,
           0,
           0,
           0.1087826001076555,
           0,
           0.09802735396837048,
           0,
           0,
           0,
           0,
           0,
           0,
           0
          ],
          [
           0,
           0,
           0.08852098194656288,
           0.17718160835434504,
           0.151561355742869,
           0.12031021787218099,
           0,
           0,
           0,
           0,
           0,
           0,
           0
          ],
          [
           0.47225875787443294,
           0.5365419403038265,
           0.5190529550474615,
           0.1267504079982783,
           0.14677777232384748,
           0.11525590680845599,
           0,
           0.009689299044864652,
           0,
           0,
           0,
           0,
           0
          ],
          [
           0,
           0,
           0,
           0,
           0,
           0,
           0,
           0.2526003801835359,
           0.17216231790933867,
           0.2446406861793915,
           0,
           0,
           0
          ],
          [
           0,
           0,
           0,
           0,
           0,
           0,
           0,
           0.13184437288840034,
           0.16879148539523048,
           0.37276015487162184,
           0.07330553076037039,
           0,
           0
          ],
          [
           0,
           0.04948562995999484,
           0,
           0,
           0,
           0,
           0,
           0,
           0,
           0,
           0,
           0,
           0
          ],
          [
           0,
           0,
           0,
           0,
           0,
           0,
           0,
           0,
           0,
           0,
           0,
           0,
           0
          ],
          [
           0,
           0,
           0,
           0,
           0,
           0,
           0,
           0,
           0,
           0,
           0,
           0,
           0
          ]
         ]
        },
        {
         "coloraxis": "coloraxis",
         "hovertemplate": "x: %{x}<br>y: %{y}<br>color: %{z}<extra></extra>",
         "name": "7",
         "type": "heatmap",
         "xaxis": "x8",
         "yaxis": "y8",
         "z": [
          [
           0,
           0,
           0,
           0,
           0,
           0,
           0,
           0,
           0,
           0,
           0,
           0,
           0
          ],
          [
           0,
           0,
           0,
           0,
           0,
           0.0573765063081155,
           0,
           0,
           0,
           0,
           0,
           0,
           0
          ],
          [
           0,
           0,
           0,
           0,
           0,
           0.1241995761091266,
           0,
           0,
           0.0688254497313433,
           0,
           0,
           0,
           0
          ],
          [
           0,
           0,
           0.23466816184922457,
           0,
           0.1067670624484206,
           0.0205577448217219,
           0.06309523418020294,
           0.15904259453380803,
           0.15682419884760268,
           0.1368148932471554,
           0,
           0,
           0
          ],
          [
           0,
           0,
           0.2813239001966031,
           0,
           0.16046984252984264,
           0,
           0.1325360922444466,
           0.18839875617147722,
           0.07946398896305357,
           0.26112307285491826,
           0,
           0,
           0
          ],
          [
           0,
           0,
           0.04866560234893397,
           0.08275728064248522,
           0,
           0,
           0.01614785380214047,
           0.03047221037175825,
           0.10205844417876753,
           0.22301648672086255,
           0,
           0,
           0
          ],
          [
           0,
           0,
           0.06602444417167436,
           0.10784286602889501,
           0,
           0.019072371038247396,
           0,
           0,
           0.4064492096989342,
           0.009694524778656177,
           0,
           0,
           0
          ],
          [
           0.11166221722334554,
           0,
           0.043952215613905,
           0,
           0,
           0.011123877688782619,
           0,
           0,
           0.34403381775656705,
           0.16794016166843256,
           0.08161826394441951,
           0,
           0
          ],
          [
           0.16626381643688293,
           0,
           0,
           0,
           0,
           0.0016356768862136606,
           0,
           0,
           0.15943925793910485,
           0.1710537320490388,
           0.02198969639780854,
           0.04615428893069973,
           0
          ],
          [
           0.19627943781109009,
           0.09752569998727037,
           0.046147710001972875,
           0,
           0,
           0,
           0,
           0,
           0.1296475106139051,
           0.013225640997721541,
           0.018814791202256598,
           0,
           0
          ],
          [
           0.12086308190251036,
           0.16398960847415578,
           0,
           0,
           0,
           0,
           0,
           0,
           0,
           0,
           0.02905056179011109,
           0,
           0
          ],
          [
           0.12469776344267647,
           0.0640801992236941,
           0,
           0,
           0,
           0,
           0,
           0,
           0,
           0,
           0,
           0,
           0
          ],
          [
           0,
           0,
           0,
           0,
           0,
           0,
           0,
           0,
           0,
           0,
           0,
           0,
           0
          ]
         ]
        },
        {
         "coloraxis": "coloraxis",
         "hovertemplate": "x: %{x}<br>y: %{y}<br>color: %{z}<extra></extra>",
         "name": "8",
         "type": "heatmap",
         "xaxis": "x9",
         "yaxis": "y9",
         "z": [
          [
           0.026653293065225885,
           0.03250924150080552,
           0.03709079800414895,
           0.03972248646439329,
           0.04478265191841651,
           0.04078803150583985,
           0.046427438238439096,
           0.04232449165195012,
           0.04242520967930074,
           0.04497976110382527,
           0.04328539416518093,
           0.03912996513792376,
           0.03091539258305203
          ],
          [
           0.02890566540279208,
           0.04312422946683714,
           0.04505623548599805,
           0.05801587924155109,
           0.060557196937458244,
           0.049365941284490844,
           0.06301673415759379,
           0.07546172413731798,
           0.07068776669976011,
           0.06455114615027223,
           0.04800510557747767,
           0.03196716785835612,
           0.03147490738575418
          ],
          [
           0.04088963702931747,
           0.07714702957420483,
           0.07601176244789606,
           0.06690749317063428,
           0.06241459525190028,
           0.02989677554273565,
           0.07864992190742667,
           0.11659940585937784,
           0.11391993733103178,
           0.10087792702760458,
           0.07411862144072848,
           0.04139652441618384,
           0.03404387081051501
          ],
          [
           0.045540292582974734,
           0.06559838199920269,
           0.06039232566165639,
           0.03986367092218292,
           0.022763896853094306,
           0.03464781743160837,
           0.05061310225577127,
           0.05946500614640947,
           0.06856630809383864,
           0.0843888261777085,
           0.07421737055108121,
           0.04129594977835957,
           0.033913376563049144
          ],
          [
           0.04398412978954627,
           0.05024423771940131,
           0.031206608156361105,
           0.047665007339413146,
           0.0810928127981958,
           0.08556112269842056,
           0.03426572318303999,
           0.023695969687345136,
           0.1186367958944359,
           0.14246360093499388,
           0.09564111247009276,
           0.05035842490397551,
           0.03977275323206657
          ],
          [
           0.03980830507031051,
           0.03566434289898612,
           0.031335329476716946,
           0.08726180149070394,
           0.1219169472620508,
           0.11557411598968738,
           0.10188101461154353,
           0.11089543958404298,
           0.1145360740181552,
           0.12048786009992796,
           0.08573388559963706,
           0.05285364752405895,
           0.04099881058554508
          ],
          [
           0.1221856121972571,
           0.17885576009826962,
           0.17023720930503733,
           0.1302266227286135,
           0.13861956862478358,
           0.11843196097256425,
           0.13683181353267607,
           0.14059409186295044,
           0.0863662844167993,
           0.008472077284524471,
           0.040024652360449664,
           0.04310207712390147,
           0.039322646338856654
          ],
          [
           0.26916188975569966,
           0.2632244675889882,
           0.18647257081695895,
           0.21316012545857846,
           0.25389116321397115,
           0.24082834942168665,
           0.1911967468625201,
           0.18042017176012862,
           0.10662227688517129,
           0.01771608737268901,
           0.0224036670453639,
           0.03276924217625516,
           0.04003204501541184
          ],
          [
           0.23287759307338454,
           0.22829704885851462,
           0.1976637583312783,
           0.2691524286606216,
           0.2926644913476287,
           0.20075147760089035,
           0.15584806970335566,
           0.1538694740558886,
           0.09930744595275222,
           0.030759359191285023,
           0.016594671607053593,
           0.02972231717529116,
           0.03816512337077926
          ],
          [
           0.08061354849124848,
           0.13131440463985694,
           0.18410437484391273,
           0.17628012093508372,
           0.03295442045692336,
           0,
           0.06297475629208256,
           0.0614961376476007,
           0.056220682994360935,
           0.07805232649118538,
           0.02651882255480954,
           0.02773174298897941,
           0.060770160006856935
          ],
          [
           0,
           0.02174803022597513,
           0.04049699428675396,
           0.040723776031500604,
           0.06464975509889373,
           0.07328472267844854,
           0.06305458831769047,
           0.06506251398102184,
           0.07531328252607314,
           0.09402051220984071,
           0.08810695803030268,
           0.08486714831023982,
           0.06977634671490832
          ],
          [
           0,
           0.0393776024467645,
           0.08200532510930547,
           0.08577927950234816,
           0.07836571988251298,
           0.059731454802765926,
           0.04848854609757118,
           0.05544763893218975,
           0.06779143082138069,
           0.07474125607019264,
           0.07979902199191725,
           0.08736814983004916,
           0.07822082445760822
          ],
          [
           0.032057518165764916,
           0.06669009024595221,
           0.07092399050728758,
           0.05001832076746761,
           0.04487856211774263,
           0.04604573930777807,
           0.04255000893630187,
           0.048197483902179344,
           0.048257391829228,
           0.04022839383348133,
           0.04336233544640085,
           0.06090796501480013,
           0.06456368759876847
          ]
         ]
        },
        {
         "coloraxis": "coloraxis",
         "hovertemplate": "x: %{x}<br>y: %{y}<br>color: %{z}<extra></extra>",
         "name": "9",
         "type": "heatmap",
         "xaxis": "x10",
         "yaxis": "y10",
         "z": [
          [
           0,
           0,
           0,
           0,
           0,
           0,
           0,
           0,
           0,
           0,
           0,
           0,
           0
          ],
          [
           0,
           0,
           0,
           0,
           0,
           0,
           0,
           0,
           0,
           0,
           0,
           0,
           0
          ],
          [
           0,
           0,
           0,
           0,
           0,
           0,
           0,
           0,
           0,
           0,
           0,
           0,
           0
          ],
          [
           0,
           0,
           0,
           0,
           0,
           0,
           0,
           0,
           0,
           0,
           0,
           0,
           0
          ],
          [
           0,
           0,
           0,
           0,
           0,
           0,
           0,
           0,
           0,
           0,
           0,
           0,
           0
          ],
          [
           0,
           0,
           0,
           0,
           0,
           0.051982567145315184,
           0.05809146413821903,
           0.04413968135614782,
           0,
           0,
           0,
           0,
           0
          ],
          [
           0,
           0,
           0,
           0,
           0,
           0,
           0.036615780497719685,
           0.08556498817093866,
           0,
           0,
           0,
           0,
           0
          ],
          [
           0,
           0,
           0.14847330273692222,
           0.21549254124446,
           0.19475800226082934,
           0.22622882100274117,
           0.0878070048248884,
           0,
           0,
           0,
           0,
           0,
           0
          ],
          [
           0,
           0,
           0,
           0,
           0,
           0,
           0,
           0,
           0,
           0,
           0,
           0,
           0
          ],
          [
           0,
           0,
           0,
           0,
           0,
           0,
           0,
           0,
           0,
           0,
           0,
           0,
           0
          ],
          [
           0,
           0,
           0,
           0,
           0,
           0,
           0,
           0,
           0,
           0,
           0,
           0,
           0
          ],
          [
           0,
           0,
           0,
           0,
           0,
           0,
           0,
           0,
           0,
           0,
           0,
           0,
           0
          ],
          [
           0,
           0,
           0,
           0,
           0,
           0,
           0,
           0,
           0,
           0,
           0,
           0,
           0
          ]
         ]
        }
       ],
       "layout": {
        "annotations": [
         {
          "font": {},
          "showarrow": false,
          "text": "facet_col=0",
          "x": 0.04100000000000001,
          "xanchor": "center",
          "xref": "paper",
          "y": 1,
          "yanchor": "bottom",
          "yref": "paper"
         },
         {
          "font": {},
          "showarrow": false,
          "text": "facet_col=1",
          "x": 0.14300000000000004,
          "xanchor": "center",
          "xref": "paper",
          "y": 1,
          "yanchor": "bottom",
          "yref": "paper"
         },
         {
          "font": {},
          "showarrow": false,
          "text": "facet_col=2",
          "x": 0.24500000000000005,
          "xanchor": "center",
          "xref": "paper",
          "y": 1,
          "yanchor": "bottom",
          "yref": "paper"
         },
         {
          "font": {},
          "showarrow": false,
          "text": "facet_col=3",
          "x": 0.3470000000000001,
          "xanchor": "center",
          "xref": "paper",
          "y": 1,
          "yanchor": "bottom",
          "yref": "paper"
         },
         {
          "font": {},
          "showarrow": false,
          "text": "facet_col=4",
          "x": 0.44900000000000007,
          "xanchor": "center",
          "xref": "paper",
          "y": 1,
          "yanchor": "bottom",
          "yref": "paper"
         },
         {
          "font": {},
          "showarrow": false,
          "text": "facet_col=5",
          "x": 0.5510000000000002,
          "xanchor": "center",
          "xref": "paper",
          "y": 1,
          "yanchor": "bottom",
          "yref": "paper"
         },
         {
          "font": {},
          "showarrow": false,
          "text": "facet_col=6",
          "x": 0.6530000000000001,
          "xanchor": "center",
          "xref": "paper",
          "y": 1,
          "yanchor": "bottom",
          "yref": "paper"
         },
         {
          "font": {},
          "showarrow": false,
          "text": "facet_col=7",
          "x": 0.7550000000000001,
          "xanchor": "center",
          "xref": "paper",
          "y": 1,
          "yanchor": "bottom",
          "yref": "paper"
         },
         {
          "font": {},
          "showarrow": false,
          "text": "facet_col=8",
          "x": 0.8570000000000002,
          "xanchor": "center",
          "xref": "paper",
          "y": 1,
          "yanchor": "bottom",
          "yref": "paper"
         },
         {
          "font": {},
          "showarrow": false,
          "text": "facet_col=9",
          "x": 0.9590000000000002,
          "xanchor": "center",
          "xref": "paper",
          "y": 1,
          "yanchor": "bottom",
          "yref": "paper"
         }
        ],
        "coloraxis": {
         "colorscale": [
          [
           0,
           "#0d0887"
          ],
          [
           0.1111111111111111,
           "#46039f"
          ],
          [
           0.2222222222222222,
           "#7201a8"
          ],
          [
           0.3333333333333333,
           "#9c179e"
          ],
          [
           0.4444444444444444,
           "#bd3786"
          ],
          [
           0.5555555555555556,
           "#d8576b"
          ],
          [
           0.6666666666666666,
           "#ed7953"
          ],
          [
           0.7777777777777778,
           "#fb9f3a"
          ],
          [
           0.8888888888888888,
           "#fdca26"
          ],
          [
           1,
           "#f0f921"
          ]
         ]
        },
        "margin": {
         "t": 60
        },
        "template": {
         "data": {
          "bar": [
           {
            "error_x": {
             "color": "#2a3f5f"
            },
            "error_y": {
             "color": "#2a3f5f"
            },
            "marker": {
             "line": {
              "color": "#E5ECF6",
              "width": 0.5
             },
             "pattern": {
              "fillmode": "overlay",
              "size": 10,
              "solidity": 0.2
             }
            },
            "type": "bar"
           }
          ],
          "barpolar": [
           {
            "marker": {
             "line": {
              "color": "#E5ECF6",
              "width": 0.5
             },
             "pattern": {
              "fillmode": "overlay",
              "size": 10,
              "solidity": 0.2
             }
            },
            "type": "barpolar"
           }
          ],
          "carpet": [
           {
            "aaxis": {
             "endlinecolor": "#2a3f5f",
             "gridcolor": "white",
             "linecolor": "white",
             "minorgridcolor": "white",
             "startlinecolor": "#2a3f5f"
            },
            "baxis": {
             "endlinecolor": "#2a3f5f",
             "gridcolor": "white",
             "linecolor": "white",
             "minorgridcolor": "white",
             "startlinecolor": "#2a3f5f"
            },
            "type": "carpet"
           }
          ],
          "choropleth": [
           {
            "colorbar": {
             "outlinewidth": 0,
             "ticks": ""
            },
            "type": "choropleth"
           }
          ],
          "contour": [
           {
            "colorbar": {
             "outlinewidth": 0,
             "ticks": ""
            },
            "colorscale": [
             [
              0,
              "#0d0887"
             ],
             [
              0.1111111111111111,
              "#46039f"
             ],
             [
              0.2222222222222222,
              "#7201a8"
             ],
             [
              0.3333333333333333,
              "#9c179e"
             ],
             [
              0.4444444444444444,
              "#bd3786"
             ],
             [
              0.5555555555555556,
              "#d8576b"
             ],
             [
              0.6666666666666666,
              "#ed7953"
             ],
             [
              0.7777777777777778,
              "#fb9f3a"
             ],
             [
              0.8888888888888888,
              "#fdca26"
             ],
             [
              1,
              "#f0f921"
             ]
            ],
            "type": "contour"
           }
          ],
          "contourcarpet": [
           {
            "colorbar": {
             "outlinewidth": 0,
             "ticks": ""
            },
            "type": "contourcarpet"
           }
          ],
          "heatmap": [
           {
            "colorbar": {
             "outlinewidth": 0,
             "ticks": ""
            },
            "colorscale": [
             [
              0,
              "#0d0887"
             ],
             [
              0.1111111111111111,
              "#46039f"
             ],
             [
              0.2222222222222222,
              "#7201a8"
             ],
             [
              0.3333333333333333,
              "#9c179e"
             ],
             [
              0.4444444444444444,
              "#bd3786"
             ],
             [
              0.5555555555555556,
              "#d8576b"
             ],
             [
              0.6666666666666666,
              "#ed7953"
             ],
             [
              0.7777777777777778,
              "#fb9f3a"
             ],
             [
              0.8888888888888888,
              "#fdca26"
             ],
             [
              1,
              "#f0f921"
             ]
            ],
            "type": "heatmap"
           }
          ],
          "heatmapgl": [
           {
            "colorbar": {
             "outlinewidth": 0,
             "ticks": ""
            },
            "colorscale": [
             [
              0,
              "#0d0887"
             ],
             [
              0.1111111111111111,
              "#46039f"
             ],
             [
              0.2222222222222222,
              "#7201a8"
             ],
             [
              0.3333333333333333,
              "#9c179e"
             ],
             [
              0.4444444444444444,
              "#bd3786"
             ],
             [
              0.5555555555555556,
              "#d8576b"
             ],
             [
              0.6666666666666666,
              "#ed7953"
             ],
             [
              0.7777777777777778,
              "#fb9f3a"
             ],
             [
              0.8888888888888888,
              "#fdca26"
             ],
             [
              1,
              "#f0f921"
             ]
            ],
            "type": "heatmapgl"
           }
          ],
          "histogram": [
           {
            "marker": {
             "pattern": {
              "fillmode": "overlay",
              "size": 10,
              "solidity": 0.2
             }
            },
            "type": "histogram"
           }
          ],
          "histogram2d": [
           {
            "colorbar": {
             "outlinewidth": 0,
             "ticks": ""
            },
            "colorscale": [
             [
              0,
              "#0d0887"
             ],
             [
              0.1111111111111111,
              "#46039f"
             ],
             [
              0.2222222222222222,
              "#7201a8"
             ],
             [
              0.3333333333333333,
              "#9c179e"
             ],
             [
              0.4444444444444444,
              "#bd3786"
             ],
             [
              0.5555555555555556,
              "#d8576b"
             ],
             [
              0.6666666666666666,
              "#ed7953"
             ],
             [
              0.7777777777777778,
              "#fb9f3a"
             ],
             [
              0.8888888888888888,
              "#fdca26"
             ],
             [
              1,
              "#f0f921"
             ]
            ],
            "type": "histogram2d"
           }
          ],
          "histogram2dcontour": [
           {
            "colorbar": {
             "outlinewidth": 0,
             "ticks": ""
            },
            "colorscale": [
             [
              0,
              "#0d0887"
             ],
             [
              0.1111111111111111,
              "#46039f"
             ],
             [
              0.2222222222222222,
              "#7201a8"
             ],
             [
              0.3333333333333333,
              "#9c179e"
             ],
             [
              0.4444444444444444,
              "#bd3786"
             ],
             [
              0.5555555555555556,
              "#d8576b"
             ],
             [
              0.6666666666666666,
              "#ed7953"
             ],
             [
              0.7777777777777778,
              "#fb9f3a"
             ],
             [
              0.8888888888888888,
              "#fdca26"
             ],
             [
              1,
              "#f0f921"
             ]
            ],
            "type": "histogram2dcontour"
           }
          ],
          "mesh3d": [
           {
            "colorbar": {
             "outlinewidth": 0,
             "ticks": ""
            },
            "type": "mesh3d"
           }
          ],
          "parcoords": [
           {
            "line": {
             "colorbar": {
              "outlinewidth": 0,
              "ticks": ""
             }
            },
            "type": "parcoords"
           }
          ],
          "pie": [
           {
            "automargin": true,
            "type": "pie"
           }
          ],
          "scatter": [
           {
            "fillpattern": {
             "fillmode": "overlay",
             "size": 10,
             "solidity": 0.2
            },
            "type": "scatter"
           }
          ],
          "scatter3d": [
           {
            "line": {
             "colorbar": {
              "outlinewidth": 0,
              "ticks": ""
             }
            },
            "marker": {
             "colorbar": {
              "outlinewidth": 0,
              "ticks": ""
             }
            },
            "type": "scatter3d"
           }
          ],
          "scattercarpet": [
           {
            "marker": {
             "colorbar": {
              "outlinewidth": 0,
              "ticks": ""
             }
            },
            "type": "scattercarpet"
           }
          ],
          "scattergeo": [
           {
            "marker": {
             "colorbar": {
              "outlinewidth": 0,
              "ticks": ""
             }
            },
            "type": "scattergeo"
           }
          ],
          "scattergl": [
           {
            "marker": {
             "colorbar": {
              "outlinewidth": 0,
              "ticks": ""
             }
            },
            "type": "scattergl"
           }
          ],
          "scattermapbox": [
           {
            "marker": {
             "colorbar": {
              "outlinewidth": 0,
              "ticks": ""
             }
            },
            "type": "scattermapbox"
           }
          ],
          "scatterpolar": [
           {
            "marker": {
             "colorbar": {
              "outlinewidth": 0,
              "ticks": ""
             }
            },
            "type": "scatterpolar"
           }
          ],
          "scatterpolargl": [
           {
            "marker": {
             "colorbar": {
              "outlinewidth": 0,
              "ticks": ""
             }
            },
            "type": "scatterpolargl"
           }
          ],
          "scatterternary": [
           {
            "marker": {
             "colorbar": {
              "outlinewidth": 0,
              "ticks": ""
             }
            },
            "type": "scatterternary"
           }
          ],
          "surface": [
           {
            "colorbar": {
             "outlinewidth": 0,
             "ticks": ""
            },
            "colorscale": [
             [
              0,
              "#0d0887"
             ],
             [
              0.1111111111111111,
              "#46039f"
             ],
             [
              0.2222222222222222,
              "#7201a8"
             ],
             [
              0.3333333333333333,
              "#9c179e"
             ],
             [
              0.4444444444444444,
              "#bd3786"
             ],
             [
              0.5555555555555556,
              "#d8576b"
             ],
             [
              0.6666666666666666,
              "#ed7953"
             ],
             [
              0.7777777777777778,
              "#fb9f3a"
             ],
             [
              0.8888888888888888,
              "#fdca26"
             ],
             [
              1,
              "#f0f921"
             ]
            ],
            "type": "surface"
           }
          ],
          "table": [
           {
            "cells": {
             "fill": {
              "color": "#EBF0F8"
             },
             "line": {
              "color": "white"
             }
            },
            "header": {
             "fill": {
              "color": "#C8D4E3"
             },
             "line": {
              "color": "white"
             }
            },
            "type": "table"
           }
          ]
         },
         "layout": {
          "annotationdefaults": {
           "arrowcolor": "#2a3f5f",
           "arrowhead": 0,
           "arrowwidth": 1
          },
          "autotypenumbers": "strict",
          "coloraxis": {
           "colorbar": {
            "outlinewidth": 0,
            "ticks": ""
           }
          },
          "colorscale": {
           "diverging": [
            [
             0,
             "#8e0152"
            ],
            [
             0.1,
             "#c51b7d"
            ],
            [
             0.2,
             "#de77ae"
            ],
            [
             0.3,
             "#f1b6da"
            ],
            [
             0.4,
             "#fde0ef"
            ],
            [
             0.5,
             "#f7f7f7"
            ],
            [
             0.6,
             "#e6f5d0"
            ],
            [
             0.7,
             "#b8e186"
            ],
            [
             0.8,
             "#7fbc41"
            ],
            [
             0.9,
             "#4d9221"
            ],
            [
             1,
             "#276419"
            ]
           ],
           "sequential": [
            [
             0,
             "#0d0887"
            ],
            [
             0.1111111111111111,
             "#46039f"
            ],
            [
             0.2222222222222222,
             "#7201a8"
            ],
            [
             0.3333333333333333,
             "#9c179e"
            ],
            [
             0.4444444444444444,
             "#bd3786"
            ],
            [
             0.5555555555555556,
             "#d8576b"
            ],
            [
             0.6666666666666666,
             "#ed7953"
            ],
            [
             0.7777777777777778,
             "#fb9f3a"
            ],
            [
             0.8888888888888888,
             "#fdca26"
            ],
            [
             1,
             "#f0f921"
            ]
           ],
           "sequentialminus": [
            [
             0,
             "#0d0887"
            ],
            [
             0.1111111111111111,
             "#46039f"
            ],
            [
             0.2222222222222222,
             "#7201a8"
            ],
            [
             0.3333333333333333,
             "#9c179e"
            ],
            [
             0.4444444444444444,
             "#bd3786"
            ],
            [
             0.5555555555555556,
             "#d8576b"
            ],
            [
             0.6666666666666666,
             "#ed7953"
            ],
            [
             0.7777777777777778,
             "#fb9f3a"
            ],
            [
             0.8888888888888888,
             "#fdca26"
            ],
            [
             1,
             "#f0f921"
            ]
           ]
          },
          "colorway": [
           "#636efa",
           "#EF553B",
           "#00cc96",
           "#ab63fa",
           "#FFA15A",
           "#19d3f3",
           "#FF6692",
           "#B6E880",
           "#FF97FF",
           "#FECB52"
          ],
          "font": {
           "color": "#2a3f5f"
          },
          "geo": {
           "bgcolor": "white",
           "lakecolor": "white",
           "landcolor": "#E5ECF6",
           "showlakes": true,
           "showland": true,
           "subunitcolor": "white"
          },
          "hoverlabel": {
           "align": "left"
          },
          "hovermode": "closest",
          "mapbox": {
           "style": "light"
          },
          "paper_bgcolor": "white",
          "plot_bgcolor": "#E5ECF6",
          "polar": {
           "angularaxis": {
            "gridcolor": "white",
            "linecolor": "white",
            "ticks": ""
           },
           "bgcolor": "#E5ECF6",
           "radialaxis": {
            "gridcolor": "white",
            "linecolor": "white",
            "ticks": ""
           }
          },
          "scene": {
           "xaxis": {
            "backgroundcolor": "#E5ECF6",
            "gridcolor": "white",
            "gridwidth": 2,
            "linecolor": "white",
            "showbackground": true,
            "ticks": "",
            "zerolinecolor": "white"
           },
           "yaxis": {
            "backgroundcolor": "#E5ECF6",
            "gridcolor": "white",
            "gridwidth": 2,
            "linecolor": "white",
            "showbackground": true,
            "ticks": "",
            "zerolinecolor": "white"
           },
           "zaxis": {
            "backgroundcolor": "#E5ECF6",
            "gridcolor": "white",
            "gridwidth": 2,
            "linecolor": "white",
            "showbackground": true,
            "ticks": "",
            "zerolinecolor": "white"
           }
          },
          "shapedefaults": {
           "line": {
            "color": "#2a3f5f"
           }
          },
          "ternary": {
           "aaxis": {
            "gridcolor": "white",
            "linecolor": "white",
            "ticks": ""
           },
           "baxis": {
            "gridcolor": "white",
            "linecolor": "white",
            "ticks": ""
           },
           "bgcolor": "#E5ECF6",
           "caxis": {
            "gridcolor": "white",
            "linecolor": "white",
            "ticks": ""
           }
          },
          "title": {
           "x": 0.05
          },
          "xaxis": {
           "automargin": true,
           "gridcolor": "white",
           "linecolor": "white",
           "ticks": "",
           "title": {
            "standoff": 15
           },
           "zerolinecolor": "white",
           "zerolinewidth": 2
          },
          "yaxis": {
           "automargin": true,
           "gridcolor": "white",
           "linecolor": "white",
           "ticks": "",
           "title": {
            "standoff": 15
           },
           "zerolinecolor": "white",
           "zerolinewidth": 2
          }
         }
        },
        "xaxis": {
         "anchor": "y",
         "constrain": "domain",
         "domain": [
          0,
          0.08200000000000002
         ],
         "scaleanchor": "y"
        },
        "xaxis10": {
         "anchor": "y10",
         "domain": [
          0.9180000000000001,
          1
         ],
         "matches": "x"
        },
        "xaxis2": {
         "anchor": "y2",
         "domain": [
          0.10200000000000002,
          0.18400000000000005
         ],
         "matches": "x"
        },
        "xaxis3": {
         "anchor": "y3",
         "domain": [
          0.20400000000000004,
          0.28600000000000003
         ],
         "matches": "x"
        },
        "xaxis4": {
         "anchor": "y4",
         "domain": [
          0.30600000000000005,
          0.38800000000000007
         ],
         "matches": "x"
        },
        "xaxis5": {
         "anchor": "y5",
         "domain": [
          0.4080000000000001,
          0.4900000000000001
         ],
         "matches": "x"
        },
        "xaxis6": {
         "anchor": "y6",
         "domain": [
          0.5100000000000001,
          0.5920000000000001
         ],
         "matches": "x"
        },
        "xaxis7": {
         "anchor": "y7",
         "domain": [
          0.6120000000000001,
          0.6940000000000002
         ],
         "matches": "x"
        },
        "xaxis8": {
         "anchor": "y8",
         "domain": [
          0.7140000000000001,
          0.796
         ],
         "matches": "x"
        },
        "xaxis9": {
         "anchor": "y9",
         "domain": [
          0.8160000000000002,
          0.8980000000000001
         ],
         "matches": "x"
        },
        "yaxis": {
         "anchor": "x",
         "autorange": "reversed",
         "constrain": "domain",
         "domain": [
          0,
          1
         ]
        },
        "yaxis10": {
         "anchor": "x10",
         "domain": [
          0,
          1
         ],
         "matches": "y",
         "showticklabels": false
        },
        "yaxis2": {
         "anchor": "x2",
         "domain": [
          0,
          1
         ],
         "matches": "y",
         "showticklabels": false
        },
        "yaxis3": {
         "anchor": "x3",
         "domain": [
          0,
          1
         ],
         "matches": "y",
         "showticklabels": false
        },
        "yaxis4": {
         "anchor": "x4",
         "domain": [
          0,
          1
         ],
         "matches": "y",
         "showticklabels": false
        },
        "yaxis5": {
         "anchor": "x5",
         "domain": [
          0,
          1
         ],
         "matches": "y",
         "showticklabels": false
        },
        "yaxis6": {
         "anchor": "x6",
         "domain": [
          0,
          1
         ],
         "matches": "y",
         "showticklabels": false
        },
        "yaxis7": {
         "anchor": "x7",
         "domain": [
          0,
          1
         ],
         "matches": "y",
         "showticklabels": false
        },
        "yaxis8": {
         "anchor": "x8",
         "domain": [
          0,
          1
         ],
         "matches": "y",
         "showticklabels": false
        },
        "yaxis9": {
         "anchor": "x9",
         "domain": [
          0,
          1
         ],
         "matches": "y",
         "showticklabels": false
        }
       }
      }
     },
     "metadata": {},
     "output_type": "display_data"
    },
    {
     "ename": "",
     "evalue": "",
     "output_type": "error",
     "traceback": [
      "\u001b[1;31mnotebook controller is DISPOSED. \n",
      "\u001b[1;31mView Jupyter <a href='command:jupyter.viewOutput'>log</a> for further details."
     ]
    },
    {
     "ename": "",
     "evalue": "",
     "output_type": "error",
     "traceback": [
      "\u001b[1;31mnotebook controller is DISPOSED. \n",
      "\u001b[1;31mView Jupyter <a href='command:jupyter.viewOutput'>log</a> for further details."
     ]
    }
   ],
   "source": [
    "imgs = x_train[:1000]\n",
    "convs =  reduce(lambda x, l: l.forward(x), nn[:4], imgs) #nn[1].forward(nn[0].forward(img))\n",
    "convs.shape\n",
    "px.imshow(convs[TARGET_IMG], facet_col=2, facet_col_wrap=10)"
   ]
  },
  {
   "cell_type": "code",
   "execution_count": 50,
   "metadata": {},
   "outputs": [
    {
     "data": {
      "text/plain": [
       "array([ 7719.74183977,  8931.58709477, 10115.75223513,  9194.23981924,\n",
       "        8602.83988914,  7674.09249867,  4996.55641602, 10728.88280182,\n",
       "       10886.05589166,  5669.60871381])"
      ]
     },
     "execution_count": 50,
     "metadata": {},
     "output_type": "execute_result"
    },
    {
     "ename": "",
     "evalue": "",
     "output_type": "error",
     "traceback": [
      "\u001b[1;31mnotebook controller is DISPOSED. \n",
      "\u001b[1;31mView Jupyter <a href='command:jupyter.viewOutput'>log</a> for further details."
     ]
    },
    {
     "ename": "",
     "evalue": "",
     "output_type": "error",
     "traceback": [
      "\u001b[1;31mnotebook controller is DISPOSED. \n",
      "\u001b[1;31mView Jupyter <a href='command:jupyter.viewOutput'>log</a> for further details."
     ]
    }
   ],
   "source": [
    "convs.sum(axis=(0, 1, 2))"
   ]
  },
  {
   "cell_type": "code",
   "execution_count": 51,
   "metadata": {},
   "outputs": [
    {
     "data": {
      "text/plain": [
       "array([-8.60164992e+01, -1.18365224e+02, -2.32756473e+01, -6.25690387e+01,\n",
       "       -2.28385667e+00, -2.81551023e+01, -1.15327951e+02, -7.76404920e+01,\n",
       "       -9.07740285e+01, -2.05771979e+01, -3.38352490e+01, -9.07732004e+01,\n",
       "       -9.48983579e+01, -1.94305021e+01,  2.07848614e+02, -7.46897649e+01,\n",
       "        3.33579168e+02, -2.35657362e+01, -1.34667598e+02, -3.40132722e+01,\n",
       "       -1.31026879e+02, -2.31315062e+01, -5.28386016e+01, -3.80135423e+01,\n",
       "       -7.09538485e+01, -2.25460797e+01, -1.26517255e+02, -1.13663198e+02,\n",
       "       -6.58836027e+01,  5.50391863e+01, -5.52291037e+01, -2.78577127e+01,\n",
       "       -2.67129279e+01, -6.63689766e+01, -5.41602931e+01, -1.71797327e+01,\n",
       "       -1.30976866e+02, -1.80078864e+02, -2.19202188e+01, -3.62954397e+01,\n",
       "       -2.20648117e+01, -2.25367607e+01, -3.98178803e+01, -2.92110303e+01,\n",
       "       -4.26180175e+01, -1.03067172e+02, -2.24610579e+01, -6.10107673e+01,\n",
       "       -4.07890550e+01,  6.64278020e+01, -3.35255030e+01,  3.71562275e+02,\n",
       "        3.15453257e+03,  3.85456155e+03, -1.10187926e+02, -1.16292966e+02,\n",
       "        3.76632549e+02, -1.53584431e+01, -1.27772584e+02, -2.05867852e+01,\n",
       "       -2.94272614e+01, -3.15444007e+01, -1.58729538e+01, -1.97048254e+01,\n",
       "       -1.22838310e+02,  1.10512396e+02, -5.69554319e+01,  2.03099772e+02,\n",
       "       -1.57141851e+02, -2.54824686e+01, -3.08112332e+01, -2.14568177e+01,\n",
       "       -3.02367980e+01,  1.99868043e+02, -1.13477358e+02, -3.53765949e+01,\n",
       "       -4.72848560e+01,  3.50332439e+02, -3.96542357e+01, -2.07828220e+01,\n",
       "       -1.16619895e+02, -4.29393526e+01, -9.72660500e+01, -4.84055390e+01,\n",
       "       -1.35856011e+02, -2.03374977e+02, -4.54899121e+01, -7.31901880e+01,\n",
       "       -1.98860392e+01, -1.83334633e+01, -4.05549595e+01, -3.24085944e+01,\n",
       "       -7.45510379e+01, -2.03526046e+01, -1.14423705e+02,  5.99980420e+02,\n",
       "       -2.30122370e+01, -6.81117647e+01, -1.97009386e+01, -7.84006591e+01,\n",
       "       -9.54605500e+01, -1.01277752e+02, -3.38095453e+01, -3.26369861e+01,\n",
       "       -6.75936949e+01, -3.70833850e+01, -3.25788453e+01, -2.10144522e+01,\n",
       "       -2.33980490e+01, -8.48980012e+01, -1.71383142e+01,  8.47418804e+02,\n",
       "       -4.18699023e+01, -2.37356149e+01,  1.30938794e+02, -9.45665283e+01,\n",
       "       -1.55941746e+02, -2.48206865e+01, -2.52356865e+01, -1.68268570e+02,\n",
       "       -2.23435902e+01, -1.28870348e+02, -2.62735415e+02, -4.00714167e+01,\n",
       "       -1.14218677e+02, -2.26512395e+01, -1.21484998e+02, -1.12269823e+02,\n",
       "       -1.08123392e+02, -3.69057321e+01, -8.31205441e+01, -2.76590823e+01,\n",
       "        1.85926598e+03, -3.78953462e+01, -7.87076582e+01, -1.91859697e+01,\n",
       "       -4.34115586e+01,  3.91203805e+02, -1.05781522e+02, -2.21426762e+02,\n",
       "        1.39369155e+02, -1.69614136e+02, -1.87408596e+01,  4.92985658e-01,\n",
       "       -2.49660542e+01, -1.79144484e+01, -5.50505853e+01, -4.53925902e+01,\n",
       "        9.21358162e+01, -1.02776381e+02,  9.83439203e+01, -4.19719034e+01,\n",
       "       -8.45522457e+01, -3.34884179e+01, -3.97486256e+01, -3.24437037e+01,\n",
       "        2.52036755e+02,  5.02320209e+02, -2.19213296e+01, -9.07802474e+01,\n",
       "       -7.11020073e+01,  8.52437263e+02, -3.92032547e+01, -9.37197271e+01,\n",
       "        5.03040601e+01,  1.04394460e+02, -2.04468048e+01, -3.33639888e+01,\n",
       "       -2.01761823e+01, -3.92358960e+01, -8.70406019e+01, -2.53151817e+01,\n",
       "       -4.07062518e+01,  3.23211823e+01, -4.53510962e+01, -2.31455237e+01,\n",
       "       -3.96246093e+01, -6.93372082e+01, -3.57515037e+01, -4.52202407e+01,\n",
       "       -3.08596287e+01, -3.20823531e+01, -4.52808750e+01, -2.20177324e+01,\n",
       "       -1.62368897e+02, -7.97796783e+01, -4.78691988e+01, -7.25593900e+01,\n",
       "       -7.67120200e+01, -4.72043168e+01, -1.49531443e+02, -6.25722848e+01,\n",
       "       -7.62744005e+01, -1.21335494e+02, -9.10666763e+01, -4.22004835e+01,\n",
       "       -1.33440077e+02, -3.99958621e+01, -1.74455417e+01, -1.78101581e+02,\n",
       "       -1.42435745e+02, -5.05378363e+01, -2.52031764e+01, -9.89924975e+01,\n",
       "       -7.12770220e+01, -1.27556803e+02, -9.51376203e+01, -3.33864122e+01,\n",
       "       -3.04814527e+01, -1.50688955e+02, -5.98964296e+01, -1.77958350e+01,\n",
       "       -6.66694968e+01, -3.38046216e+01, -3.29979613e+01, -5.61280312e+01,\n",
       "       -2.41551963e+01, -4.98477188e+01, -3.94335522e+01, -4.02392132e+01,\n",
       "        3.55873547e+02, -2.10642283e+01,  2.26144844e+03, -1.84741090e+01,\n",
       "       -1.14756849e+02, -3.44038505e+01, -2.20506351e+02, -2.63957201e+01,\n",
       "       -3.47371705e+01,  7.47569726e+02, -8.41546862e+01, -4.82496939e+01,\n",
       "       -1.22552905e+02, -1.56765896e+01, -4.01543155e+01,  1.07269819e+03,\n",
       "       -4.33890251e+01, -2.81898343e+01, -4.23603608e+01,  6.14262293e+02,\n",
       "       -3.28119078e+01, -6.72116791e+01, -1.47936458e+01, -3.32951935e+01,\n",
       "        4.55709046e+02, -1.50107105e+01, -8.25212355e+01, -4.06315698e+01,\n",
       "       -8.23268929e+01, -2.28854258e+01, -1.82179538e+01, -3.66515137e+01,\n",
       "       -5.36222745e+01, -1.80942204e+01, -4.67631664e+01,  6.90000148e+02,\n",
       "       -3.41187119e+01, -2.18220759e+01, -3.93544708e+01, -2.32195765e+01,\n",
       "       -2.48589109e+01, -2.84189446e+01, -4.09509329e+01, -1.75528970e+02,\n",
       "       -3.33821683e+01, -1.41715901e+01,  4.62279886e+02, -5.69955784e+01,\n",
       "       -1.74815841e+02, -6.29055338e+01, -1.47955108e+02, -3.37924361e+01,\n",
       "       -3.75998646e+01,  4.13434841e+02, -5.15978728e+01, -4.01631449e+01,\n",
       "        1.41598766e+02, -5.16059733e+01, -2.47452524e+01,  2.23767059e+03,\n",
       "       -3.24233471e+01, -8.14299986e+01, -3.41708101e+01,  1.06239740e+03,\n",
       "       -3.57397322e+01, -2.27127485e+01, -8.72685115e+01, -5.87589955e+01,\n",
       "       -2.10220906e+01, -1.87299237e+01, -5.42963291e+01, -1.02565626e+02,\n",
       "        7.81516930e+01, -2.21942206e+01, -3.31556976e+01, -2.57888259e+01,\n",
       "       -1.45646453e+01, -7.19210671e+01,  2.88170766e+02, -1.09015617e+02])"
      ]
     },
     "execution_count": 51,
     "metadata": {},
     "output_type": "execute_result"
    },
    {
     "ename": "",
     "evalue": "",
     "output_type": "error",
     "traceback": [
      "\u001b[1;31mnotebook controller is DISPOSED. \n",
      "\u001b[1;31mView Jupyter <a href='command:jupyter.viewOutput'>log</a> for further details."
     ]
    },
    {
     "ename": "",
     "evalue": "",
     "output_type": "error",
     "traceback": [
      "\u001b[1;31mnotebook controller is DISPOSED. \n",
      "\u001b[1;31mView Jupyter <a href='command:jupyter.viewOutput'>log</a> for further details."
     ]
    }
   ],
   "source": [
    "activations = reduce(lambda x, l: l.forward(x), nn[:7], imgs) #nn[1].forward(nn[0].forward(img))\n",
    "activations.sum(axis=(0))"
   ]
  },
  {
   "cell_type": "code",
   "execution_count": 52,
   "metadata": {},
   "outputs": [
    {
     "data": {
      "text/plain": [
       "(1, 13, 13, 10)"
      ]
     },
     "execution_count": 52,
     "metadata": {},
     "output_type": "execute_result"
    },
    {
     "ename": "",
     "evalue": "",
     "output_type": "error",
     "traceback": [
      "\u001b[1;31mnotebook controller is DISPOSED. \n",
      "\u001b[1;31mView Jupyter <a href='command:jupyter.viewOutput'>log</a> for further details."
     ]
    },
    {
     "ename": "",
     "evalue": "",
     "output_type": "error",
     "traceback": [
      "\u001b[1;31mnotebook controller is DISPOSED. \n",
      "\u001b[1;31mView Jupyter <a href='command:jupyter.viewOutput'>log</a> for further details."
     ]
    }
   ],
   "source": [
    "convs[[250]].shape"
   ]
  },
  {
   "cell_type": "code",
   "execution_count": 53,
   "metadata": {},
   "outputs": [
    {
     "data": {
      "application/vnd.plotly.v1+json": {
       "config": {
        "plotlyServerURL": "https://plot.ly"
       },
       "data": [
        {
         "hovertemplate": "x: %{x}<br>y: %{y}<extra></extra>",
         "name": "0",
         "source": "data:image/png;base64,iVBORw0KGgoAAAANSUhEUgAAAAcAAAAHCAIAAABLMMCEAAAApUlEQVR4XgGaAGX/AZh+p+zy5ywpEfD39/8NEO30/hwYFwT+Afb9A/nq8+3y+/bx9ev18vzy7OQE9fz59PjwAwMQCgH+/wL+B/767ubwBAobIPX58fsLEhUOBjUiGfXv9/35AgTm+PXt/fyzzNb7+/McFQ0Q9f8fDxUEGREDBRMh+PsX1NbS+PL29vMBy9XTBAvv3g4dECIsJDxAJvj/FP/hAOvX1j9EWNWYaA4OAAAAAElFTkSuQmCC",
         "type": "image",
         "xaxis": "x",
         "yaxis": "y"
        },
        {
         "hovertemplate": "x: %{x}<br>y: %{y}<extra></extra>",
         "name": "1",
         "source": "data:image/png;base64,iVBORw0KGgoAAAANSUhEUgAAAAcAAAAHCAIAAABLMMCEAAAAlklEQVR4XgXBSw6CMBQAwPb1WSpIgQUSoyvi2byCl/FmbnRhDBgbPrVA6McZer3clJVZta9P/JB9YH4QfcdGlKQ4Q04NtP08kN8wqy/6Y+1JrtdXStRoWuY6LjjEW4HMMjLRpbNaIV2SCFDot0wS5szUNuD6quA5rijZkO5C5Naxs8FYRxCEQDI+uSx5mPKYetgA8jH4P1E8Q3ECUG9SAAAAAElFTkSuQmCC",
         "type": "image",
         "xaxis": "x2",
         "yaxis": "y2"
        },
        {
         "hovertemplate": "x: %{x}<br>y: %{y}<extra></extra>",
         "name": "2",
         "source": "data:image/png;base64,iVBORw0KGgoAAAANSUhEUgAAAAcAAAAHCAIAAABLMMCEAAAAiUlEQVR4XgXBURKCIBAA0IVdZbEZdPywDt1vp+lC1dgYqCgo0HvieX+IPBvNYQkHgS0oOkPZv5z92oJ2FVGjJwnTSJ/Vu1wH2doW0oWkktQo8v3glDm6myeABiFtQgC55vrWemO2MaUdQkRTVTQRL6Qg17iXM6cEJRSmeVx2HbEq6+8sLBVjz/Ufav1Fg1cdvasAAAAASUVORK5CYII=",
         "type": "image",
         "xaxis": "x3",
         "yaxis": "y3"
        },
        {
         "hovertemplate": "x: %{x}<br>y: %{y}<extra></extra>",
         "name": "3",
         "source": "data:image/png;base64,iVBORw0KGgoAAAANSUhEUgAAAAcAAAAHCAIAAABLMMCEAAAApUlEQVR4XgGaAGX/AXKWeBH+8BgG+xMPGvn4FdHV+RoMFAQGBAU8ODUZDxHV1/LH0OH08wEXCPcEGSMd3fAEorbX4NvpCQICSDcsE/n9Ahn1+sGarNKjuv70Ajo/MigvGQ0PBQTv2/gUECdud0AWFhP+9e7eudTu6vgE5NbtHyEnCwQH7+Dj8ebh6uPs+gkUBBEKHBoKEOjW1Pv09Q4KBx4mIfUFEd6NRlfsox4fAAAAAElFTkSuQmCC",
         "type": "image",
         "xaxis": "x4",
         "yaxis": "y4"
        },
        {
         "hovertemplate": "x: %{x}<br>y: %{y}<extra></extra>",
         "name": "4",
         "source": "data:image/png;base64,iVBORw0KGgoAAAANSUhEUgAAAAcAAAAHCAIAAABLMMCEAAAApUlEQVR4XgGaAGX/Aatxmf//8SUWA/jz9P8LCPPs6BQMCATq/QLw9AEDExIBAw778vb17gPr6vQE/hQE6PYABPwCHRwcDP4B//0GBfv1AhkTBunn48nL1t7d4vr3/gUFESIjJAQWFg0sKx+/zuHBt8LcAwUcGA/i5hEE9QX0KDwk+RgL6+fi9+rp5gD14gABBN//9wEDBQkfEQ4RAP4dFAcLAioqJrDFRThDjTw8AAAAAElFTkSuQmCC",
         "type": "image",
         "xaxis": "x5",
         "yaxis": "y5"
        },
        {
         "hovertemplate": "x: %{x}<br>y: %{y}<extra></extra>",
         "name": "5",
         "source": "data:image/png;base64,iVBORw0KGgoAAAANSUhEUgAAAAcAAAAHCAIAAABLMMCEAAAApUlEQVR4XgGaAGX/AZS5ofn3/QD1+PHn8+Tk8BIP/hcbAALFvtL97PUjCA1CJiY6JikNAhPz7wQCA/Ls2dHY1M7l/PQDJxkZIhsa//8IBDQZCt/p9uPj6AMCESgmHiQgG/wK+QQUDAX+AP/l/v/m6esOFxgCDAX+/wQCBP8ACwUEIxoUEQwF5vDu5vb9AAAGBOr8BO/5/BMKAwUHAOvy9gPq+BUF/4dPRncdVTxiAAAAAElFTkSuQmCC",
         "type": "image",
         "xaxis": "x6",
         "yaxis": "y6"
        },
        {
         "hovertemplate": "x: %{x}<br>y: %{y}<extra></extra>",
         "name": "6",
         "source": "data:image/png;base64,iVBORw0KGgoAAAANSUhEUgAAAAcAAAAHCAIAAABLMMCEAAAApUlEQVR4XgGaAGX/Abmcl9Hd6w4KBxoUD87e8u7x91k/HgTU9fbg+/sgCxACBgjpCfoECAXxDw4E8A0O+xgJ6woM+woM6wn++/f43vsABOcAAu4KBvMIBAIRCPLoBAUA//788AT66en/+wH1BQLr9OMK7/cZ/vwk8wwEex4O5u38FgT/Cw389AcM+vT8MQ4MBPna6f3v+gMKAuj899f0AP8DBe7w9S1rTYZDwHk+AAAAAElFTkSuQmCC",
         "type": "image",
         "xaxis": "x7",
         "yaxis": "y7"
        },
        {
         "hovertemplate": "x: %{x}<br>y: %{y}<extra></extra>",
         "name": "7",
         "source": "data:image/png;base64,iVBORw0KGgoAAAANSUhEUgAAAAcAAAAHCAIAAABLMMCEAAAAoElEQVR4XgXBuw6CMBQAUHtbaXkLgkQkhrg5+Kdu/oL/4+Di4KIJr9AggopYHp6D9scDSuoZB0XoP+gz+lE3MiTTJw3NzsA3nhDfbCyJSz1UdbbwHZXK19PFcR3GMOpbmDw6V1s1BYnP2XIekhEN7xI8qlOBy2/X2hpSKRmxjADYoEb3tB3rYOdHefpqxCAwUObFvKS2tN4GeVUIBIph/QGyHUH/tSJuggAAAABJRU5ErkJggg==",
         "type": "image",
         "xaxis": "x8",
         "yaxis": "y8"
        },
        {
         "hovertemplate": "x: %{x}<br>y: %{y}<extra></extra>",
         "name": "8",
         "source": "data:image/png;base64,iVBORw0KGgoAAAANSUhEUgAAAAcAAAAHCAIAAABLMMCEAAAAhElEQVR4XgXBAQ7CIAwAwNJW2IBMF838q4lf8It+YVncKDCKd+bzes+6M7LE5Tve15vfVHkmmGisGDQsC850NIeFpbB1Fxee6h7jD4LkvRVGE/wQM7kkue9nlCxg+DpNCNRra8fKm8IBziCD1JxSG9CcaqX5jJU8a06k2gtSV2u6ZYqkf2C9QkdDJ5tdAAAAAElFTkSuQmCC",
         "type": "image",
         "xaxis": "x9",
         "yaxis": "y9"
        },
        {
         "hovertemplate": "x: %{x}<br>y: %{y}<extra></extra>",
         "name": "9",
         "source": "data:image/png;base64,iVBORw0KGgoAAAANSUhEUgAAAAcAAAAHCAIAAABLMMCEAAAAnElEQVR4XgXBSQ6CMBQAUFp+W8IUFFyZmGjiwpUJJt7CG3gMz+uGsFAGU6aWDuB76PV8nO55cj7awdGjqotyKD+wz2+7y1WIRQmJiZceKEUUDGFV08mK21GBvwnSlG0dHGQ+ULWiXskOs7XnHEIfrEREj+bXelEWJrHVyBqN9YyXxfXiiDBCCACFb82BWkwWeBcTCtzWVLMQTT39ARubR9xX7IQLAAAAAElFTkSuQmCC",
         "type": "image",
         "xaxis": "x10",
         "yaxis": "y10"
        }
       ],
       "layout": {
        "annotations": [
         {
          "font": {},
          "showarrow": false,
          "text": "facet_col=0",
          "x": 0.04100000000000001,
          "xanchor": "center",
          "xref": "paper",
          "y": 1,
          "yanchor": "bottom",
          "yref": "paper"
         },
         {
          "font": {},
          "showarrow": false,
          "text": "facet_col=1",
          "x": 0.14300000000000004,
          "xanchor": "center",
          "xref": "paper",
          "y": 1,
          "yanchor": "bottom",
          "yref": "paper"
         },
         {
          "font": {},
          "showarrow": false,
          "text": "facet_col=2",
          "x": 0.24500000000000005,
          "xanchor": "center",
          "xref": "paper",
          "y": 1,
          "yanchor": "bottom",
          "yref": "paper"
         },
         {
          "font": {},
          "showarrow": false,
          "text": "facet_col=3",
          "x": 0.3470000000000001,
          "xanchor": "center",
          "xref": "paper",
          "y": 1,
          "yanchor": "bottom",
          "yref": "paper"
         },
         {
          "font": {},
          "showarrow": false,
          "text": "facet_col=4",
          "x": 0.44900000000000007,
          "xanchor": "center",
          "xref": "paper",
          "y": 1,
          "yanchor": "bottom",
          "yref": "paper"
         },
         {
          "font": {},
          "showarrow": false,
          "text": "facet_col=5",
          "x": 0.5510000000000002,
          "xanchor": "center",
          "xref": "paper",
          "y": 1,
          "yanchor": "bottom",
          "yref": "paper"
         },
         {
          "font": {},
          "showarrow": false,
          "text": "facet_col=6",
          "x": 0.6530000000000001,
          "xanchor": "center",
          "xref": "paper",
          "y": 1,
          "yanchor": "bottom",
          "yref": "paper"
         },
         {
          "font": {},
          "showarrow": false,
          "text": "facet_col=7",
          "x": 0.7550000000000001,
          "xanchor": "center",
          "xref": "paper",
          "y": 1,
          "yanchor": "bottom",
          "yref": "paper"
         },
         {
          "font": {},
          "showarrow": false,
          "text": "facet_col=8",
          "x": 0.8570000000000002,
          "xanchor": "center",
          "xref": "paper",
          "y": 1,
          "yanchor": "bottom",
          "yref": "paper"
         },
         {
          "font": {},
          "showarrow": false,
          "text": "facet_col=9",
          "x": 0.9590000000000002,
          "xanchor": "center",
          "xref": "paper",
          "y": 1,
          "yanchor": "bottom",
          "yref": "paper"
         }
        ],
        "margin": {
         "t": 60
        },
        "template": {
         "data": {
          "bar": [
           {
            "error_x": {
             "color": "#2a3f5f"
            },
            "error_y": {
             "color": "#2a3f5f"
            },
            "marker": {
             "line": {
              "color": "#E5ECF6",
              "width": 0.5
             },
             "pattern": {
              "fillmode": "overlay",
              "size": 10,
              "solidity": 0.2
             }
            },
            "type": "bar"
           }
          ],
          "barpolar": [
           {
            "marker": {
             "line": {
              "color": "#E5ECF6",
              "width": 0.5
             },
             "pattern": {
              "fillmode": "overlay",
              "size": 10,
              "solidity": 0.2
             }
            },
            "type": "barpolar"
           }
          ],
          "carpet": [
           {
            "aaxis": {
             "endlinecolor": "#2a3f5f",
             "gridcolor": "white",
             "linecolor": "white",
             "minorgridcolor": "white",
             "startlinecolor": "#2a3f5f"
            },
            "baxis": {
             "endlinecolor": "#2a3f5f",
             "gridcolor": "white",
             "linecolor": "white",
             "minorgridcolor": "white",
             "startlinecolor": "#2a3f5f"
            },
            "type": "carpet"
           }
          ],
          "choropleth": [
           {
            "colorbar": {
             "outlinewidth": 0,
             "ticks": ""
            },
            "type": "choropleth"
           }
          ],
          "contour": [
           {
            "colorbar": {
             "outlinewidth": 0,
             "ticks": ""
            },
            "colorscale": [
             [
              0,
              "#0d0887"
             ],
             [
              0.1111111111111111,
              "#46039f"
             ],
             [
              0.2222222222222222,
              "#7201a8"
             ],
             [
              0.3333333333333333,
              "#9c179e"
             ],
             [
              0.4444444444444444,
              "#bd3786"
             ],
             [
              0.5555555555555556,
              "#d8576b"
             ],
             [
              0.6666666666666666,
              "#ed7953"
             ],
             [
              0.7777777777777778,
              "#fb9f3a"
             ],
             [
              0.8888888888888888,
              "#fdca26"
             ],
             [
              1,
              "#f0f921"
             ]
            ],
            "type": "contour"
           }
          ],
          "contourcarpet": [
           {
            "colorbar": {
             "outlinewidth": 0,
             "ticks": ""
            },
            "type": "contourcarpet"
           }
          ],
          "heatmap": [
           {
            "colorbar": {
             "outlinewidth": 0,
             "ticks": ""
            },
            "colorscale": [
             [
              0,
              "#0d0887"
             ],
             [
              0.1111111111111111,
              "#46039f"
             ],
             [
              0.2222222222222222,
              "#7201a8"
             ],
             [
              0.3333333333333333,
              "#9c179e"
             ],
             [
              0.4444444444444444,
              "#bd3786"
             ],
             [
              0.5555555555555556,
              "#d8576b"
             ],
             [
              0.6666666666666666,
              "#ed7953"
             ],
             [
              0.7777777777777778,
              "#fb9f3a"
             ],
             [
              0.8888888888888888,
              "#fdca26"
             ],
             [
              1,
              "#f0f921"
             ]
            ],
            "type": "heatmap"
           }
          ],
          "heatmapgl": [
           {
            "colorbar": {
             "outlinewidth": 0,
             "ticks": ""
            },
            "colorscale": [
             [
              0,
              "#0d0887"
             ],
             [
              0.1111111111111111,
              "#46039f"
             ],
             [
              0.2222222222222222,
              "#7201a8"
             ],
             [
              0.3333333333333333,
              "#9c179e"
             ],
             [
              0.4444444444444444,
              "#bd3786"
             ],
             [
              0.5555555555555556,
              "#d8576b"
             ],
             [
              0.6666666666666666,
              "#ed7953"
             ],
             [
              0.7777777777777778,
              "#fb9f3a"
             ],
             [
              0.8888888888888888,
              "#fdca26"
             ],
             [
              1,
              "#f0f921"
             ]
            ],
            "type": "heatmapgl"
           }
          ],
          "histogram": [
           {
            "marker": {
             "pattern": {
              "fillmode": "overlay",
              "size": 10,
              "solidity": 0.2
             }
            },
            "type": "histogram"
           }
          ],
          "histogram2d": [
           {
            "colorbar": {
             "outlinewidth": 0,
             "ticks": ""
            },
            "colorscale": [
             [
              0,
              "#0d0887"
             ],
             [
              0.1111111111111111,
              "#46039f"
             ],
             [
              0.2222222222222222,
              "#7201a8"
             ],
             [
              0.3333333333333333,
              "#9c179e"
             ],
             [
              0.4444444444444444,
              "#bd3786"
             ],
             [
              0.5555555555555556,
              "#d8576b"
             ],
             [
              0.6666666666666666,
              "#ed7953"
             ],
             [
              0.7777777777777778,
              "#fb9f3a"
             ],
             [
              0.8888888888888888,
              "#fdca26"
             ],
             [
              1,
              "#f0f921"
             ]
            ],
            "type": "histogram2d"
           }
          ],
          "histogram2dcontour": [
           {
            "colorbar": {
             "outlinewidth": 0,
             "ticks": ""
            },
            "colorscale": [
             [
              0,
              "#0d0887"
             ],
             [
              0.1111111111111111,
              "#46039f"
             ],
             [
              0.2222222222222222,
              "#7201a8"
             ],
             [
              0.3333333333333333,
              "#9c179e"
             ],
             [
              0.4444444444444444,
              "#bd3786"
             ],
             [
              0.5555555555555556,
              "#d8576b"
             ],
             [
              0.6666666666666666,
              "#ed7953"
             ],
             [
              0.7777777777777778,
              "#fb9f3a"
             ],
             [
              0.8888888888888888,
              "#fdca26"
             ],
             [
              1,
              "#f0f921"
             ]
            ],
            "type": "histogram2dcontour"
           }
          ],
          "mesh3d": [
           {
            "colorbar": {
             "outlinewidth": 0,
             "ticks": ""
            },
            "type": "mesh3d"
           }
          ],
          "parcoords": [
           {
            "line": {
             "colorbar": {
              "outlinewidth": 0,
              "ticks": ""
             }
            },
            "type": "parcoords"
           }
          ],
          "pie": [
           {
            "automargin": true,
            "type": "pie"
           }
          ],
          "scatter": [
           {
            "fillpattern": {
             "fillmode": "overlay",
             "size": 10,
             "solidity": 0.2
            },
            "type": "scatter"
           }
          ],
          "scatter3d": [
           {
            "line": {
             "colorbar": {
              "outlinewidth": 0,
              "ticks": ""
             }
            },
            "marker": {
             "colorbar": {
              "outlinewidth": 0,
              "ticks": ""
             }
            },
            "type": "scatter3d"
           }
          ],
          "scattercarpet": [
           {
            "marker": {
             "colorbar": {
              "outlinewidth": 0,
              "ticks": ""
             }
            },
            "type": "scattercarpet"
           }
          ],
          "scattergeo": [
           {
            "marker": {
             "colorbar": {
              "outlinewidth": 0,
              "ticks": ""
             }
            },
            "type": "scattergeo"
           }
          ],
          "scattergl": [
           {
            "marker": {
             "colorbar": {
              "outlinewidth": 0,
              "ticks": ""
             }
            },
            "type": "scattergl"
           }
          ],
          "scattermapbox": [
           {
            "marker": {
             "colorbar": {
              "outlinewidth": 0,
              "ticks": ""
             }
            },
            "type": "scattermapbox"
           }
          ],
          "scatterpolar": [
           {
            "marker": {
             "colorbar": {
              "outlinewidth": 0,
              "ticks": ""
             }
            },
            "type": "scatterpolar"
           }
          ],
          "scatterpolargl": [
           {
            "marker": {
             "colorbar": {
              "outlinewidth": 0,
              "ticks": ""
             }
            },
            "type": "scatterpolargl"
           }
          ],
          "scatterternary": [
           {
            "marker": {
             "colorbar": {
              "outlinewidth": 0,
              "ticks": ""
             }
            },
            "type": "scatterternary"
           }
          ],
          "surface": [
           {
            "colorbar": {
             "outlinewidth": 0,
             "ticks": ""
            },
            "colorscale": [
             [
              0,
              "#0d0887"
             ],
             [
              0.1111111111111111,
              "#46039f"
             ],
             [
              0.2222222222222222,
              "#7201a8"
             ],
             [
              0.3333333333333333,
              "#9c179e"
             ],
             [
              0.4444444444444444,
              "#bd3786"
             ],
             [
              0.5555555555555556,
              "#d8576b"
             ],
             [
              0.6666666666666666,
              "#ed7953"
             ],
             [
              0.7777777777777778,
              "#fb9f3a"
             ],
             [
              0.8888888888888888,
              "#fdca26"
             ],
             [
              1,
              "#f0f921"
             ]
            ],
            "type": "surface"
           }
          ],
          "table": [
           {
            "cells": {
             "fill": {
              "color": "#EBF0F8"
             },
             "line": {
              "color": "white"
             }
            },
            "header": {
             "fill": {
              "color": "#C8D4E3"
             },
             "line": {
              "color": "white"
             }
            },
            "type": "table"
           }
          ]
         },
         "layout": {
          "annotationdefaults": {
           "arrowcolor": "#2a3f5f",
           "arrowhead": 0,
           "arrowwidth": 1
          },
          "autotypenumbers": "strict",
          "coloraxis": {
           "colorbar": {
            "outlinewidth": 0,
            "ticks": ""
           }
          },
          "colorscale": {
           "diverging": [
            [
             0,
             "#8e0152"
            ],
            [
             0.1,
             "#c51b7d"
            ],
            [
             0.2,
             "#de77ae"
            ],
            [
             0.3,
             "#f1b6da"
            ],
            [
             0.4,
             "#fde0ef"
            ],
            [
             0.5,
             "#f7f7f7"
            ],
            [
             0.6,
             "#e6f5d0"
            ],
            [
             0.7,
             "#b8e186"
            ],
            [
             0.8,
             "#7fbc41"
            ],
            [
             0.9,
             "#4d9221"
            ],
            [
             1,
             "#276419"
            ]
           ],
           "sequential": [
            [
             0,
             "#0d0887"
            ],
            [
             0.1111111111111111,
             "#46039f"
            ],
            [
             0.2222222222222222,
             "#7201a8"
            ],
            [
             0.3333333333333333,
             "#9c179e"
            ],
            [
             0.4444444444444444,
             "#bd3786"
            ],
            [
             0.5555555555555556,
             "#d8576b"
            ],
            [
             0.6666666666666666,
             "#ed7953"
            ],
            [
             0.7777777777777778,
             "#fb9f3a"
            ],
            [
             0.8888888888888888,
             "#fdca26"
            ],
            [
             1,
             "#f0f921"
            ]
           ],
           "sequentialminus": [
            [
             0,
             "#0d0887"
            ],
            [
             0.1111111111111111,
             "#46039f"
            ],
            [
             0.2222222222222222,
             "#7201a8"
            ],
            [
             0.3333333333333333,
             "#9c179e"
            ],
            [
             0.4444444444444444,
             "#bd3786"
            ],
            [
             0.5555555555555556,
             "#d8576b"
            ],
            [
             0.6666666666666666,
             "#ed7953"
            ],
            [
             0.7777777777777778,
             "#fb9f3a"
            ],
            [
             0.8888888888888888,
             "#fdca26"
            ],
            [
             1,
             "#f0f921"
            ]
           ]
          },
          "colorway": [
           "#636efa",
           "#EF553B",
           "#00cc96",
           "#ab63fa",
           "#FFA15A",
           "#19d3f3",
           "#FF6692",
           "#B6E880",
           "#FF97FF",
           "#FECB52"
          ],
          "font": {
           "color": "#2a3f5f"
          },
          "geo": {
           "bgcolor": "white",
           "lakecolor": "white",
           "landcolor": "#E5ECF6",
           "showlakes": true,
           "showland": true,
           "subunitcolor": "white"
          },
          "hoverlabel": {
           "align": "left"
          },
          "hovermode": "closest",
          "mapbox": {
           "style": "light"
          },
          "paper_bgcolor": "white",
          "plot_bgcolor": "#E5ECF6",
          "polar": {
           "angularaxis": {
            "gridcolor": "white",
            "linecolor": "white",
            "ticks": ""
           },
           "bgcolor": "#E5ECF6",
           "radialaxis": {
            "gridcolor": "white",
            "linecolor": "white",
            "ticks": ""
           }
          },
          "scene": {
           "xaxis": {
            "backgroundcolor": "#E5ECF6",
            "gridcolor": "white",
            "gridwidth": 2,
            "linecolor": "white",
            "showbackground": true,
            "ticks": "",
            "zerolinecolor": "white"
           },
           "yaxis": {
            "backgroundcolor": "#E5ECF6",
            "gridcolor": "white",
            "gridwidth": 2,
            "linecolor": "white",
            "showbackground": true,
            "ticks": "",
            "zerolinecolor": "white"
           },
           "zaxis": {
            "backgroundcolor": "#E5ECF6",
            "gridcolor": "white",
            "gridwidth": 2,
            "linecolor": "white",
            "showbackground": true,
            "ticks": "",
            "zerolinecolor": "white"
           }
          },
          "shapedefaults": {
           "line": {
            "color": "#2a3f5f"
           }
          },
          "ternary": {
           "aaxis": {
            "gridcolor": "white",
            "linecolor": "white",
            "ticks": ""
           },
           "baxis": {
            "gridcolor": "white",
            "linecolor": "white",
            "ticks": ""
           },
           "bgcolor": "#E5ECF6",
           "caxis": {
            "gridcolor": "white",
            "linecolor": "white",
            "ticks": ""
           }
          },
          "title": {
           "x": 0.05
          },
          "xaxis": {
           "automargin": true,
           "gridcolor": "white",
           "linecolor": "white",
           "ticks": "",
           "title": {
            "standoff": 15
           },
           "zerolinecolor": "white",
           "zerolinewidth": 2
          },
          "yaxis": {
           "automargin": true,
           "gridcolor": "white",
           "linecolor": "white",
           "ticks": "",
           "title": {
            "standoff": 15
           },
           "zerolinecolor": "white",
           "zerolinewidth": 2
          }
         }
        },
        "xaxis": {
         "anchor": "y",
         "domain": [
          0,
          0.08200000000000002
         ]
        },
        "xaxis10": {
         "anchor": "y10",
         "domain": [
          0.9180000000000001,
          1
         ],
         "matches": "x"
        },
        "xaxis2": {
         "anchor": "y2",
         "domain": [
          0.10200000000000002,
          0.18400000000000005
         ],
         "matches": "x"
        },
        "xaxis3": {
         "anchor": "y3",
         "domain": [
          0.20400000000000004,
          0.28600000000000003
         ],
         "matches": "x"
        },
        "xaxis4": {
         "anchor": "y4",
         "domain": [
          0.30600000000000005,
          0.38800000000000007
         ],
         "matches": "x"
        },
        "xaxis5": {
         "anchor": "y5",
         "domain": [
          0.4080000000000001,
          0.4900000000000001
         ],
         "matches": "x"
        },
        "xaxis6": {
         "anchor": "y6",
         "domain": [
          0.5100000000000001,
          0.5920000000000001
         ],
         "matches": "x"
        },
        "xaxis7": {
         "anchor": "y7",
         "domain": [
          0.6120000000000001,
          0.6940000000000002
         ],
         "matches": "x"
        },
        "xaxis8": {
         "anchor": "y8",
         "domain": [
          0.7140000000000001,
          0.796
         ],
         "matches": "x"
        },
        "xaxis9": {
         "anchor": "y9",
         "domain": [
          0.8160000000000002,
          0.8980000000000001
         ],
         "matches": "x"
        },
        "yaxis": {
         "anchor": "x",
         "domain": [
          0,
          1
         ]
        },
        "yaxis10": {
         "anchor": "x10",
         "domain": [
          0,
          1
         ],
         "matches": "y",
         "showticklabels": false
        },
        "yaxis2": {
         "anchor": "x2",
         "domain": [
          0,
          1
         ],
         "matches": "y",
         "showticklabels": false
        },
        "yaxis3": {
         "anchor": "x3",
         "domain": [
          0,
          1
         ],
         "matches": "y",
         "showticklabels": false
        },
        "yaxis4": {
         "anchor": "x4",
         "domain": [
          0,
          1
         ],
         "matches": "y",
         "showticklabels": false
        },
        "yaxis5": {
         "anchor": "x5",
         "domain": [
          0,
          1
         ],
         "matches": "y",
         "showticklabels": false
        },
        "yaxis6": {
         "anchor": "x6",
         "domain": [
          0,
          1
         ],
         "matches": "y",
         "showticklabels": false
        },
        "yaxis7": {
         "anchor": "x7",
         "domain": [
          0,
          1
         ],
         "matches": "y",
         "showticklabels": false
        },
        "yaxis8": {
         "anchor": "x8",
         "domain": [
          0,
          1
         ],
         "matches": "y",
         "showticklabels": false
        },
        "yaxis9": {
         "anchor": "x9",
         "domain": [
          0,
          1
         ],
         "matches": "y",
         "showticklabels": false
        }
       }
      }
     },
     "metadata": {},
     "output_type": "display_data"
    },
    {
     "ename": "",
     "evalue": "",
     "output_type": "error",
     "traceback": [
      "\u001b[1;31mnotebook controller is DISPOSED. \n",
      "\u001b[1;31mView Jupyter <a href='command:jupyter.viewOutput'>log</a> for further details."
     ]
    },
    {
     "ename": "",
     "evalue": "",
     "output_type": "error",
     "traceback": [
      "\u001b[1;31mnotebook controller is DISPOSED. \n",
      "\u001b[1;31mView Jupyter <a href='command:jupyter.viewOutput'>log</a> for further details."
     ]
    }
   ],
   "source": [
    "def min_max_normalize(arr:np.ndarray, axis:tuple) -> np.ndarray:\n",
    "    return (arr - arr.min(axis, keepdims=True)) / (arr.max(axis, keepdims=True) - arr.min(axis, keepdims=True))\n",
    "\n",
    "MIN = nn[0].kernels.min()\n",
    "MAX = nn[0].kernels.max()\n",
    "normed_kernels = (nn[0].kernels - MIN) / (MAX - MIN)\n",
    "normed_kernels.shape\n",
    "\n",
    "px.imshow(normed_kernels, facet_col=0, facet_col_wrap=10)"
   ]
  },
  {
   "cell_type": "code",
   "execution_count": 54,
   "metadata": {},
   "outputs": [
    {
     "data": {
      "text/plain": [
       "array([[[[-1.10414266e-11, -3.70473200e-11,  3.55217559e-11,\n",
       "           6.16767165e-11, -2.76272697e-11,  5.34983152e-12,\n",
       "           1.37586063e-11, -1.21864915e-11, -2.56220143e-11,\n",
       "           4.92803367e-11]]]])"
      ]
     },
     "execution_count": 54,
     "metadata": {},
     "output_type": "execute_result"
    },
    {
     "ename": "",
     "evalue": "",
     "output_type": "error",
     "traceback": [
      "\u001b[1;31mnotebook controller is DISPOSED. \n",
      "\u001b[1;31mView Jupyter <a href='command:jupyter.viewOutput'>log</a> for further details."
     ]
    },
    {
     "ename": "",
     "evalue": "",
     "output_type": "error",
     "traceback": [
      "\u001b[1;31mnotebook controller is DISPOSED. \n",
      "\u001b[1;31mView Jupyter <a href='command:jupyter.viewOutput'>log</a> for further details."
     ]
    }
   ],
   "source": [
    "nn[0].biases"
   ]
  },
  {
   "cell_type": "code",
   "execution_count": 55,
   "metadata": {},
   "outputs": [
    {
     "data": {
      "text/plain": [
       "array([[[[0.20932831, 0.23406881, 0.1505719 , 0.19395444, 0.3094428 ,\n",
       "          0.18919149, 0.31170608, 0.17962052, 0.09901286, 0.38034674]]]])"
      ]
     },
     "execution_count": 55,
     "metadata": {},
     "output_type": "execute_result"
    },
    {
     "ename": "",
     "evalue": "",
     "output_type": "error",
     "traceback": [
      "\u001b[1;31mnotebook controller is DISPOSED. \n",
      "\u001b[1;31mView Jupyter <a href='command:jupyter.viewOutput'>log</a> for further details."
     ]
    },
    {
     "ename": "",
     "evalue": "",
     "output_type": "error",
     "traceback": [
      "\u001b[1;31mnotebook controller is DISPOSED. \n",
      "\u001b[1;31mView Jupyter <a href='command:jupyter.viewOutput'>log</a> for further details."
     ]
    }
   ],
   "source": [
    "nn[1].gamma"
   ]
  },
  {
   "cell_type": "code",
   "execution_count": 56,
   "metadata": {},
   "outputs": [
    {
     "data": {
      "text/plain": [
       "array([[[[-0.17915293, -0.15849705, -0.0209361 , -0.15138397,\n",
       "          -0.27241212, -0.12763163, -0.43994823, -0.09065728,\n",
       "           0.02132964, -0.47120438]]]])"
      ]
     },
     "execution_count": 56,
     "metadata": {},
     "output_type": "execute_result"
    },
    {
     "ename": "",
     "evalue": "",
     "output_type": "error",
     "traceback": [
      "\u001b[1;31mnotebook controller is DISPOSED. \n",
      "\u001b[1;31mView Jupyter <a href='command:jupyter.viewOutput'>log</a> for further details."
     ]
    },
    {
     "ename": "",
     "evalue": "",
     "output_type": "error",
     "traceback": [
      "\u001b[1;31mnotebook controller is DISPOSED. \n",
      "\u001b[1;31mView Jupyter <a href='command:jupyter.viewOutput'>log</a> for further details."
     ]
    }
   ],
   "source": [
    "nn[1].beta"
   ]
  },
  {
   "cell_type": "markdown",
   "metadata": {},
   "source": [
    "## Conclusion\n"
   ]
  }
 ],
 "metadata": {
  "kernelspec": {
   "display_name": "CNN",
   "language": "python",
   "name": "python3"
  },
  "language_info": {
   "codemirror_mode": {
    "name": "ipython",
    "version": 3
   },
   "file_extension": ".py",
   "mimetype": "text/x-python",
   "name": "python",
   "nbconvert_exporter": "python",
   "pygments_lexer": "ipython3",
   "version": "3.12.9"
  }
 },
 "nbformat": 4,
 "nbformat_minor": 2
}
