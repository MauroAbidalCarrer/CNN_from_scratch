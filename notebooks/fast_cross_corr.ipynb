{
 "cells": [
  {
   "cell_type": "code",
   "execution_count": 1,
   "metadata": {},
   "outputs": [],
   "source": [
    "from timeit import timeit\n",
    "\n",
    "import numpy as np\n",
    "from numpy import ndarray\n",
    "from scipy.signal import convolve2d, correlate2d\n",
    "from numpy.lib.stride_tricks import sliding_window_view as sliding_views\n",
    "\n",
    "from numba import njit, prange\n",
    "from cifar_10_dataset_loading import load_cifar_10"
   ]
  },
  {
   "cell_type": "code",
   "execution_count": 2,
   "metadata": {},
   "outputs": [],
   "source": [
    "x, y, x_test, y_test = load_cifar_10()"
   ]
  },
  {
   "cell_type": "code",
   "execution_count": 3,
   "metadata": {},
   "outputs": [],
   "source": [
    "kernels = np.random.rand(32, 7, 7, 3)"
   ]
  },
  {
   "cell_type": "code",
   "execution_count": 4,
   "metadata": {},
   "outputs": [],
   "source": [
    "def my_valid_correlate(inputs:ndarray, k:ndarray) -> ndarray:\n",
    "    views = sliding_views(inputs, k.shape[1:3], (1, 2))\n",
    "    correlations = np.tensordot(views, k, axes=([3, 4, 5], [3, 1, 2]))\n",
    "    return correlations\n",
    "\n",
    "def my_full_convolve(inputs:ndarray, k:ndarray) -> ndarray:\n",
    "    pad = ((0, 0), (k.shape[1]-1, k.shape[1]-1), (k.shape[2]-1, k.shape[2]-1), (0, 0))\n",
    "    return my_valid_correlate(np.pad(inputs, pad), np.flip(k, (1, 2)))"
   ]
  },
  {
   "cell_type": "code",
   "execution_count": 5,
   "metadata": {},
   "outputs": [],
   "source": [
    "inputs = x[:10000]"
   ]
  },
  {
   "cell_type": "code",
   "execution_count": 6,
   "metadata": {},
   "outputs": [
    {
     "name": "stdout",
     "output_type": "stream",
     "text": [
      "4.48 s ± 224 ms per loop (mean ± std. dev. of 7 runs, 1 loop each)\n"
     ]
    }
   ],
   "source": [
    "%timeit my_correlations = my_valid_correlate(inputs, kernels)"
   ]
  },
  {
   "cell_type": "code",
   "execution_count": 7,
   "metadata": {},
   "outputs": [],
   "source": [
    "# 1st implementation\n",
    "\n",
    "@njit(parallel=True)\n",
    "def numba_valid_correlate(inputs: np.ndarray, k: np.ndarray) -> np.ndarray:\n",
    "    \"\"\"Optimized correlation using Numba.\"\"\"\n",
    "    batch, in_h, in_w, in_c = inputs.shape\n",
    "    out_c, k_h, k_w, _ = k.shape\n",
    "    out_h, out_w = in_h - k_h + 1, in_w - k_w + 1\n",
    "    output = np.zeros((batch, out_h, out_w, out_c))\n",
    "\n",
    "    for b in prange(batch):  # Parallel over batches\n",
    "        for i in prange(out_h):  # Parallel over height\n",
    "            for j in prange(out_w):  # Parallel over width\n",
    "                for c in prange(out_c):  # Parallel over output channels\n",
    "                    for di in range(k_h):  # Kernel height\n",
    "                        for dj in range(k_w):  # Kernel width\n",
    "                            for dc in range(in_c):  # Kernel depth\n",
    "                                output[b, i, j, c] += inputs[b, i + di, j + dj, dc] * k[c, di, dj, dc]\n",
    "    return output\n",
    "\n",
    "\n",
    "# 2nd implementation\n",
    "@njit\n",
    "def sliding_views_numba(inputs, k_h, k_w):\n",
    "    \"\"\"\n",
    "    Create sliding window views of the input.\n",
    "    inputs: (N, H, W, C)\n",
    "    Returns: array of shape (N, out_H, out_W, k_h, k_w, C)\n",
    "    where out_H = H - k_h + 1 and out_W = W - k_w + 1.\n",
    "    \"\"\"\n",
    "    N, H, W, C = inputs.shape\n",
    "    out_H = H - k_h + 1\n",
    "    out_W = W - k_w + 1\n",
    "    views = np.empty((N, out_H, out_W, k_h, k_w, C), dtype=inputs.dtype)\n",
    "    for n in range(N):\n",
    "        for i in range(out_H):\n",
    "            for j in range(out_W):\n",
    "                for ki in range(k_h):\n",
    "                    for kj in range(k_w):\n",
    "                        for c in range(C):\n",
    "                            views[n, i, j, ki, kj, c] = inputs[n, i + ki, j + kj, c]\n",
    "    return views\n",
    "\n",
    "@njit\n",
    "def numba_valid_correlate_2(inputs, kernels):\n",
    "    \"\"\"\n",
    "    Compute valid correlation (without flipping kernels) using explicit loops.\n",
    "    inputs: (N, H, W, C)\n",
    "    kernels: (num_kernels, k_h, k_w, C)\n",
    "    Returns: output of shape (N, out_H, out_W, num_kernels)\n",
    "    where out_H = H - k_h + 1 and out_W = W - k_w + 1.\n",
    "    \"\"\"\n",
    "    N, H, W, C = inputs.shape\n",
    "    num_kernels, k_h, k_w, _ = kernels.shape\n",
    "    out_H = H - k_h + 1\n",
    "    out_W = W - k_w + 1\n",
    "    # Get sliding windows from the input\n",
    "    views = sliding_views_numba(inputs, k_h, k_w)  # shape (N, out_H, out_W, k_h, k_w, C)\n",
    "    # Prepare output array\n",
    "    out = np.empty((N, out_H, out_W, num_kernels), dtype=inputs.dtype)\n",
    "    # For each sample, spatial location, and kernel, compute the correlation.\n",
    "    for n in range(N):\n",
    "        for i in range(out_H):\n",
    "            for j in range(out_W):\n",
    "                for k in range(num_kernels):\n",
    "                    s = 0.0\n",
    "                    for ki in range(k_h):\n",
    "                        for kj in range(k_w):\n",
    "                            for c in range(C):\n",
    "                                s += views[n, i, j, ki, kj, c] * kernels[k, ki, kj, c]\n",
    "                    out[n, i, j, k] = s\n",
    "    return out\n"
   ]
  },
  {
   "cell_type": "markdown",
   "metadata": {},
   "source": [
    "warm up"
   ]
  },
  {
   "cell_type": "code",
   "execution_count": 8,
   "metadata": {},
   "outputs": [],
   "source": [
    "numba_correlations = numba_valid_correlate(inputs, kernels)"
   ]
  },
  {
   "cell_type": "code",
   "execution_count": 9,
   "metadata": {},
   "outputs": [
    {
     "name": "stdout",
     "output_type": "stream",
     "text": [
      "8.11 s ± 217 ms per loop (mean ± std. dev. of 7 runs, 1 loop each)\n"
     ]
    }
   ],
   "source": [
    "%timeit numba_correlations = numba_valid_correlate(inputs, kernels)"
   ]
  },
  {
   "cell_type": "markdown",
   "metadata": {},
   "source": [
    "warm up"
   ]
  },
  {
   "cell_type": "code",
   "execution_count": null,
   "metadata": {},
   "outputs": [],
   "source": [
    "numba_correlations2 = numba_valid_correlate_2(inputs, kernels)"
   ]
  },
  {
   "cell_type": "code",
   "execution_count": null,
   "metadata": {},
   "outputs": [],
   "source": [
    "numba_correlations2 = numba_valid_correlate_2(inputs, kernels)"
   ]
  }
 ],
 "metadata": {
  "kernelspec": {
   "display_name": "CNN",
   "language": "python",
   "name": "python3"
  },
  "language_info": {
   "codemirror_mode": {
    "name": "ipython",
    "version": 3
   },
   "file_extension": ".py",
   "mimetype": "text/x-python",
   "name": "python",
   "nbconvert_exporter": "python",
   "pygments_lexer": "ipython3",
   "version": "3.12.9"
  }
 },
 "nbformat": 4,
 "nbformat_minor": 2
}
