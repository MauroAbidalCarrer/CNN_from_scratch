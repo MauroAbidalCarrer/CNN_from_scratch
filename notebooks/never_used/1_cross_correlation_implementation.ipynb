{
 "cells": [
  {
   "cell_type": "markdown",
   "metadata": {},
   "source": [
    "New implementation built on to of the previous ones.   \n",
    "We are still using `numpy.lib.stride_tricks.sliding_window_view` but we will use a conventional `@` dot product.  \n",
    "To make this work, we will flatten inputs and kernels to make the thing a LOT faster than a `np.tensordot` call on unflatten arrays.  \n",
    "\n",
    "> Once we start scaling up to 300 samples the mem alloc caused by the sliding views + swapaxes + reshape take a lot of time AND the `@` and `tensordot` operation scale to the same execution time.  \n",
    "> At 3000 samples the `tensordot` is actually faster thant the `@` operation.\n",
    "\n",
    "Conclusion: We'll keep the tensordot implementation... (sad)"
   ]
  },
  {
   "cell_type": "code",
   "execution_count": 1,
   "metadata": {},
   "outputs": [],
   "source": [
    "from timeit import time, timeit\n",
    "\n",
    "import numpy as np\n",
    "import plotly.express as px\n",
    "from numpy.lib.stride_tricks import sliding_window_view\n",
    "from scipy.signal import correlate2d\n",
    "\n",
    "from time_utils import time_to_exec, print_time_dict, reset_time_dict\n",
    "from cifar_10_dataset_loading import load_cifar_10"
   ]
  },
  {
   "cell_type": "code",
   "execution_count": 2,
   "metadata": {},
   "outputs": [],
   "source": [
    "x_train, y_train, x_test, y_test = load_cifar_10()\n",
    "x_train = x_train.transpose(0, 3, 1, 2) # we also want to "
   ]
  },
  {
   "cell_type": "code",
   "execution_count": 3,
   "metadata": {},
   "outputs": [
    {
     "data": {
      "text/plain": [
       "(50000, 3, 32, 32)"
      ]
     },
     "execution_count": 3,
     "metadata": {},
     "output_type": "execute_result"
    }
   ],
   "source": [
    "x_train.shape"
   ]
  },
  {
   "cell_type": "code",
   "execution_count": 4,
   "metadata": {},
   "outputs": [
    {
     "data": {
      "application/vnd.plotly.v1+json": {
       "config": {
        "plotlyServerURL": "https://plot.ly"
       },
       "data": [
        {
         "hovertemplate": "x: %{x}<br>y: %{y}<br>color: %{z}<extra></extra>",
         "name": "0",
         "source": "data:image/png;base64,iVBORw0KGgoAAAANSUhEUgAAACAAAAAgCAIAAAD8GO2jAAAJZElEQVR4XgXB2Y8dWX0A4LP8TtWp9W59l97stt1ux4zGHhiDRiYJGfECLyhv+e/CPxBFCEWRIuUBIQUemJFRBpuJ8d7r7bvVvVV1Tp0934d/+o8/q6p1TPwwCndG6XiY7fXziDKIE0Rhvam0DYN+jzijlOq6jifcISdk0+uXKDitNEWMUlrkeZZljHGpdMAEEdBK24Dh5auX1XI55AiP+J4rcDJp/bpxIeBIdFpIZZxfUswhWOspgTiORddar3E3IhQZpRLgjdJrZ9M0w4RhyhAhojPWGAoxJIBRjO6O+Mm0NxkPkzTDGEvVdUYFjKMkQTYEr3rD1JoQscQ5RKNY6c5YnEYxZAmPYotbErxFmGKUZ2nTCmMNwajebYFjWxRwdjgYJZT5rllr54kUlkSo7OcQxdW2BkDDIq13re5a2ZmAcJ5lRkvigMWxcwYoVspELCLeqmaDXIgpst5vWwWDGJI47mXJuGTOO4cQBYoIUd4AAATvlAyU3N5WzrhaCOF0npRIOYo8wYHGXLZdykoIoeu0NNajUDVdJUwjbGcIjPu8YJRzSmhIksRY5xEOQWsbnDY+mOB0gKjWrXNUOG+dr1tzuW4Z8WWDzc1SbsWdvdPJ5AgXW7VZNU27rbvlVn443zoKcDDOysjmaYSDQSjg4JUUBOFR0csyvtsue2VZd+bj5bJRNPLoMAVg8sOqUoEyHHpl8fwHz3bXLojQ22NKQNOQmLHjWTGZTOe7DoZFArqKGaRxqqQx3vb7gxCCdsSYLs3zq4V6+3G7qK2w6G5C//kfvjjaz//t23d/fHNjvQYS6mohGlUUDDnMOYs4TTGzzt45PijWNUyGI7nuCIZGGKktYCqMIwhJo/uDUrvw7uJqvXMBIkpJyd0Ear5WD8vZ9ZDMq1sl9IvXr4n1JitRb4oI9Hpp4UOnTdC7k3EGg73xIE8IYdVuY9qGOOeRDwzynBvE//rudatazmMeQZKlA2q/fTO3GlRvNh5wjEpjO6FlK4K2FhuNMGIEB0IZgFUquACIMMwYQijmLEUZIEIIMcjHSW95U4vl5v6Qqw7xLH304JCozlK2222AbosoGw0ePHh45/2nP33/+jICFUJjLRCIWMS89x5hjAnIzmAjEbJtu9OGWMIbUe9EfXgMwdZ39/CDAyY6fHj2NArdZmuS/git6PFsv2rb+3/3sByk5eDxZlFvtlsWZSTExjvvkTOWYBRCAIddcDaEkPAkL9KrhXx/sQAWovlVN188nLCf/9PDt5fr4nC8N5rdLub9fkY8iwi9XVwCrxbV9eV1w1jaL72UIQDBBHvvCMaYEBcQ9Pu5Bds0XTBuW28/fpo3TZNwcv1+N+XR4eHd/sE9VnvE2dHTn/Cby8QuHOratttPx9p5nOVH2UHRn9Wrm9v5ymDWaYVIyGKuZcMiBnW1Al0zTBBFQKlotoMi62dcbnaTg9Hhk5/95UK/fqOf7w+rSk8fPCVIaLXoB7+7XSXa7A+HlYvZk4Gsrv/nP397cb6gEUMIy4AMIsQYoBg52QSECbIO041Bu10ISu/3sh9//fXRo6/+/df/OstyquXlu7ez+z/go9Ms1GJ9m/iBlmJZi/743mh2IpuSlMhFHSbYGI2tw8FZC4ADcsZgQoCgIA32aDhKZ6n90bOzx8+/2tw2sd3ePzry2M8mY9tZUWltrZHgUP728uK7v3zz/Cs9mo129S1L0d5J5glx2lmlt4tK1Sl466TyUZYDMEr06WzAE3Jy9/jp33+9/+jJn//46zvHg9lnn0fjB5D2RNfIXT2/Ot/ML5wRScH39tj51Yvp/qEVTZAKtxsXZMAhiVk0Y7sYA6OwqYXrcJImlITJKD2/rh786BdHn/8CoYGp217RG5990cLw5Ys/KdnudtXy8hN1mnM4vHf45OzU0ozRPosMdJ34eOmtswQ1lKajbHowAiW7NAbMKSM2OJvk9Ff/8qvnv/x5uTedv/srJbaqt4sP/3dVu9/95jd5wjrVzKa9ssjeX5xrYocHJ2eff4lcvK4uRIc30uIAnfRNCKHpHvcR+KCRd9h6GwzGgcflF19+GTP26s8vNldvlerqzfr8zasmJMx1OdCSZ+NB73p+Y40RdXP+/hNCL5um5hBsPFnZMkl4WiQJxLXYWW8BIe+tBpY66zSy097gv377H8Ppy8n+sRZbxuI8K4HQjLHZZCTrTULj1WJptCt4opvmby++uf7+tbISMeoIzY4ylGkSd9zbAUoef3YPvMcRUA4eERxo5rVZLm+axU1idh7R4WDUPxhbpy6vbgIKhIC2lmKW8dR6RK1HODi9JR7vxEbHsjhQbVLVXnctGZX39yYjQnDM4yQgmyZ8MpoEo0ZF1Iut3s51vRSijsshyUaPnjzzkOhAPIamEd6hiAJnYK19fbH45tXVd2+v13bH+8CiqGlsK0NWjKRwJAKilfIh8jQWRlLqU55kxThKe9PJXr1ZCG3Gx6fCx5/9+KePv3hGgLeNEkJijDHy15dXn97fNEImeToeTnDH8HU2uN074/eO+kdvXt3AdEzMaiWdb1sUiAOAshxFjMl2lzBAGr75wx/uP5pfXNwQgtOYURonSdY2Ukpprc6T+PkPz3hRWmqdEfK8IzWfpMUPzz6b9KffXr+HO8dRD/M352K+CNrFeQ6t2DrfUETWi1Xd2M5sadgW+WB+s75oOx/wdDzC3myqTZzF/V4RUaK0Q8BaRXTDMk9Oj2cHs9H5xXy1EFAOmFyIwYSiLF3OVac1RKXWyBtnnNrKTZbEnehkt9TGOeNCoM1OlGVSlj0pxXK1yfMME4JtiCCJOYoienJ6IkX4/e9f/e/rWwAOvIyGOQGpWOJ3G0COJHzimHeqilJgEFGaquC10SFgHFDQnesQA4aiuNpspDa9fgmEEIgEsvNlvWls3W7/+3ffzwWCpmGI5nnWsSRkMe/1fLOTzW7eCGc6V0QjzphVCoBEBLGYYkzSHAgg62yUQNlP1+u6Dr4cjoTVf/uw+v678+mwnB6liPi9XgEXH5GqeDG2PDG9HA2H0LSiqsRmFW1WiHrqQ3DOIe8IQphgCiAdCRYxb6xYOykcsKoR2qH1Tn54s6pWrW7drDd7fPdwJxE4tmeiZ8orYpe8h/tjPiB2KHy1TqollS04G6FAvPWd7KIookDrzsumY0EXpPBkZwzEWeAs7kf6Pup//jR79OTpyenpT74SF1fN/wMWt9uTwQaBnAAAAABJRU5ErkJggg==",
         "type": "image",
         "xaxis": "x",
         "yaxis": "y"
        },
        {
         "hovertemplate": "x: %{x}<br>y: %{y}<br>color: %{z}<extra></extra>",
         "name": "1",
         "source": "data:image/png;base64,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",
         "type": "image",
         "xaxis": "x2",
         "yaxis": "y2"
        },
        {
         "hovertemplate": "x: %{x}<br>y: %{y}<br>color: %{z}<extra></extra>",
         "name": "2",
         "source": "data:image/png;base64,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",
         "type": "image",
         "xaxis": "x3",
         "yaxis": "y3"
        },
        {
         "hovertemplate": "x: %{x}<br>y: %{y}<br>color: %{z}<extra></extra>",
         "name": "3",
         "source": "data:image/png;base64,iVBORw0KGgoAAAANSUhEUgAAACAAAAAgCAIAAAD8GO2jAAAJnUlEQVR4XgXBZ3MkaWEA4Dd3nhwkjVZhbyU2kcEcUHYZvvkf+4Mp7AIbqOLubG7vdrVJ0miCpnu6p3P3m/r188B3797lZbXZPeRZ4lquEKJtW8bYxfkXCMGqzjnnvJVSamPgYDCcTeeIkCjahOFmPl9cXjz78OFmu10vFicQgcdtUpZpw+O6LmzboRYl39/8dTR8KgUi2EUQQ4AwIozavh9MxuNduLu/vwUAnJ2dR1GUprFtM9tyh4Oh1rwuq2+++bppagjR42N0cXFxfTWoqvTTJ2FT62SxqJuWRPHy5YtfTWbHj5uHqshOT2da67qu1+tVFMZad0VZNU3V748IIa5r78K1YwX9Xq8siig82LY3P5oyZinV7fcphfj87LT/4+Fq9TkKw9H4mHj2k/3+0PBm97hhhB2StKqqtq2Louj1BkKoLEsgBLefb08WJxAhgqnizds3d4csBQC/en06nozifcwoNbr6vHr/+f6/CCOmY1XV3t+/I9Cwzx9ubMZcQjA0QLao07xpXduRvP386VNdVaPhULe80zzwfdmK9cPSdt2eH0jVYYKMAQjhQxI+Pt63IosOt7YbvH7xr7+6fJWEOzIZD0Vdl1n2l//5s8XQs+vnkNmEkIfl/XdvvvN9j1CqeDMIXEqM5vWbb74djqbD0UwoFQQBo8ymtud4vK38Xv/y6tnt0tmGq79+/ceb2//75y9/R65/8Gq7elhvdhKg8pCp9x8Gw3G43z8sH+ZHc2PMcDhsmyrLDh2GFnMJYYP+JN6nlmsNGQt32yKP50enjHmDwXESFR9vNo6PHUbyLLq5+ZYQbAkNGmV+/S+/f/O/X3VazY+PicVczz178iTwg+X9fZEeDMRFUfcXk2fX0yKrKGUUY4yxFziS14yS46OToiwd5v345S+fP385GE6TJMqyA6EUh7vw4/uPh/FQyO7iyVmaFwVvW62+/f4713E6pT99vh30+4PBoMpz2TRA6UEwUUa9fv0SIBRHu/c3b/v9wcXFxXgQnBwfEYz30SpJQiU1ub37OBj2Z7PZzc07x2KHrLBsNhlPRd3UUtKghygDAKzWa8txkkPi+75s2u9v3p2cnd0v713fl1IZCFeb1WrzQAgejoZpmmR5SBmwqEc224fRcPbq1au6aW7evk3C+PLy4unV0+lwXMSJaNpev+/1giiJhZaqLHb7aLW8i6Lo345nu93GyvzBcP7i5U+LIgujbV7EtutejsZ+8KO2rSRXZLE4cexe28gvnj4bDcer27u24RRTDBA0gLctHA7G43EYRWmaMUaNMdS2eoP+1fX16ZMn0X6f5o+yS4Ws9/sdRHq7a4/m567n5TkHnSFKmlxkQra2g52WfXH9TEshVVvWZVlXyeEQ7fez+Xw6miyXS9/3EIJd1/3op7/48re/Zw5eh6v725uW50rLTneYYNvyrq9+eHJ8eXb6PM1iMhj0tFZpup8fjdPD4e7+nmBoupbXlZRKa71cLrfbLcYIwq5pCt0pJ+h/8ewHAMKqaqTQEFinJ9dCSMf2MDHRPjIdsm1PSyQ4IB8+foiiHcbo5GQxnU2Xy1X4uAl3KwJB4Pme50kptVa2Y2OC8jxt22Z8tHB9Pwx3UvIszafT6c9//k9JnOZZ7vleEIzfvv1+9RBenF9LIUk/GPeCgR/Yh+SgtRz0e2kSUkrqouh0hxCyLMt0TOsOQUKpHQR93x90BlRV2dbNsD/GBD3c72zblkrmWQEg2EWrznSnT36rFYB/+I8/dUZzXj7uHmzHaSr19s13N+/+sVmtjAGMEqUlocRxfIyJ6zrj0RhQGxIbANRUNdCdkKKouePal+fHL54/tWy63a2ZRc4vLrGxSGdaSmnT8qyIARp1HUEIO7Zru64QAlJsMVxWZcPFZDK1XRczBjDZRvHDeicbjjqNMdAQG9A9rpfbzfbXv/nN8fx8s/v41Tf/2SFJqqpMs5jzhhDatm1bGyEExmgwGLS8FUIUeZGmxWQ6tV3XQFS3QulWCGEAAASVRQlB5zi2zagQ/P5hI/7055/97EqpOEseqO2TNIsankMIm6ZizOW8U0oZYwAClFlKG22g6/eHkwkmVlHWGAuL2QRjZrEOGN5prVpjBAWu0gZA+HD/SYr90cLtOjkeBiTNthgbzmW8TzxvInhnQAcx5q3YxzGAGBPmuIxgUtc1AMhxPMd1mqx0HQuAzvOcshBVWTIELdttqoZRttsWp08uFhfPo/gTefHsJ3Ecc97yinIJHrebosjCaP+43qaHhDkuJsy2Lduik9kMQNy2QumiyrOqaallY9CJpu6UzorGNwhBDFHH86bK5evnX8bxJZmMn+R5K6UuytIASildr9eP201TlVJKA/l0NhiORrPZFBhQt5wwGyOICDWgbZta8BYhSBgFpivLwvddTIjm4h9vvjo9HzNbkw4A1/dVJ/O83IXx0dH85cuXs9lUCwGM0QDM5kdSqtvbu/V2uzg9O7uYtU2b5nlVVRalTVW4ro0A8D2PEtp12nVd7djJIfzb3/77hz+5IHfLj1mWcsEHo/FjuN9sNr7vzmYz17K44HXT7vfx9nG324XD8Xh+dCyl2oUhIXQ6HhfZoesUQjaC0PO9XhBUZU0wg1ATbEFgLY5ekcDvFeUBE3B0fIwwSpPDzbubJIkd16rrOsuKqqp9P7i6ujq/fAog3IUhMIZSXNdVKzkiWBnjWBaXquGCURshjDCyLBsYOptckPl80fA03oeY2Y4TlLTyfOf2c5zEkhBMETlfHJ9dPB1N52meH9JMSMUY5byDCEmlDcBKAQColKCuZc9jlFEAsOO6VVW///CeVGVsQFU3scVm+ygu8mKxWIxHgzxNIACMWZQwiOlmvY6SpAPQsizeCmYxLKVlO3lZQwMosSihSmqlO6QVQpAyVtXV3fKOfP33f1/u3gPMzhaulHXLGyWRZVmu3wcQtK1ID3lV1aozlNLOAAihNiAvS2M6x/NpXnAu6rocHB0jBKUUqpVKSUoJZbSsK/Lx/U1crYgTDPppEARNUwdeUFVVlhdN0yhl6qZ1HNe2iZBKciGUcF2nKBQmRGuFEVa6Lso8y53pZEKwq5Wqec2F6PUCYAganRwR266qIo62lBBKqJDikCZN0zDG+v3A9zwheJIkWZZhQobDUVVVWknf9RhlpjOd7iCAQgjecq20ZdmUWlobpbo0K8gy3NSNMp2Jk53nzIMgiOPD8mGppLRtW0nJW+447mQy51IqpYUUUkoIYd3UQggpFeyA0Z3veo5lC8ERsiilXHDOJYT8/wEAwS3ybuxy8QAAAABJRU5ErkJggg==",
         "type": "image",
         "xaxis": "x4",
         "yaxis": "y4"
        }
       ],
       "layout": {
        "annotations": [
         {
          "font": {},
          "showarrow": false,
          "text": "facet_col=0",
          "x": 0.1175,
          "xanchor": "center",
          "xref": "paper",
          "y": 1,
          "yanchor": "bottom",
          "yref": "paper"
         },
         {
          "font": {},
          "showarrow": false,
          "text": "facet_col=1",
          "x": 0.3725,
          "xanchor": "center",
          "xref": "paper",
          "y": 1,
          "yanchor": "bottom",
          "yref": "paper"
         },
         {
          "font": {},
          "showarrow": false,
          "text": "facet_col=2",
          "x": 0.6275,
          "xanchor": "center",
          "xref": "paper",
          "y": 1,
          "yanchor": "bottom",
          "yref": "paper"
         },
         {
          "font": {},
          "showarrow": false,
          "text": "facet_col=3",
          "x": 0.8824999999999998,
          "xanchor": "center",
          "xref": "paper",
          "y": 1,
          "yanchor": "bottom",
          "yref": "paper"
         }
        ],
        "margin": {
         "t": 60
        },
        "template": {
         "data": {
          "bar": [
           {
            "error_x": {
             "color": "#2a3f5f"
            },
            "error_y": {
             "color": "#2a3f5f"
            },
            "marker": {
             "line": {
              "color": "#E5ECF6",
              "width": 0.5
             },
             "pattern": {
              "fillmode": "overlay",
              "size": 10,
              "solidity": 0.2
             }
            },
            "type": "bar"
           }
          ],
          "barpolar": [
           {
            "marker": {
             "line": {
              "color": "#E5ECF6",
              "width": 0.5
             },
             "pattern": {
              "fillmode": "overlay",
              "size": 10,
              "solidity": 0.2
             }
            },
            "type": "barpolar"
           }
          ],
          "carpet": [
           {
            "aaxis": {
             "endlinecolor": "#2a3f5f",
             "gridcolor": "white",
             "linecolor": "white",
             "minorgridcolor": "white",
             "startlinecolor": "#2a3f5f"
            },
            "baxis": {
             "endlinecolor": "#2a3f5f",
             "gridcolor": "white",
             "linecolor": "white",
             "minorgridcolor": "white",
             "startlinecolor": "#2a3f5f"
            },
            "type": "carpet"
           }
          ],
          "choropleth": [
           {
            "colorbar": {
             "outlinewidth": 0,
             "ticks": ""
            },
            "type": "choropleth"
           }
          ],
          "contour": [
           {
            "colorbar": {
             "outlinewidth": 0,
             "ticks": ""
            },
            "colorscale": [
             [
              0,
              "#0d0887"
             ],
             [
              0.1111111111111111,
              "#46039f"
             ],
             [
              0.2222222222222222,
              "#7201a8"
             ],
             [
              0.3333333333333333,
              "#9c179e"
             ],
             [
              0.4444444444444444,
              "#bd3786"
             ],
             [
              0.5555555555555556,
              "#d8576b"
             ],
             [
              0.6666666666666666,
              "#ed7953"
             ],
             [
              0.7777777777777778,
              "#fb9f3a"
             ],
             [
              0.8888888888888888,
              "#fdca26"
             ],
             [
              1,
              "#f0f921"
             ]
            ],
            "type": "contour"
           }
          ],
          "contourcarpet": [
           {
            "colorbar": {
             "outlinewidth": 0,
             "ticks": ""
            },
            "type": "contourcarpet"
           }
          ],
          "heatmap": [
           {
            "colorbar": {
             "outlinewidth": 0,
             "ticks": ""
            },
            "colorscale": [
             [
              0,
              "#0d0887"
             ],
             [
              0.1111111111111111,
              "#46039f"
             ],
             [
              0.2222222222222222,
              "#7201a8"
             ],
             [
              0.3333333333333333,
              "#9c179e"
             ],
             [
              0.4444444444444444,
              "#bd3786"
             ],
             [
              0.5555555555555556,
              "#d8576b"
             ],
             [
              0.6666666666666666,
              "#ed7953"
             ],
             [
              0.7777777777777778,
              "#fb9f3a"
             ],
             [
              0.8888888888888888,
              "#fdca26"
             ],
             [
              1,
              "#f0f921"
             ]
            ],
            "type": "heatmap"
           }
          ],
          "heatmapgl": [
           {
            "colorbar": {
             "outlinewidth": 0,
             "ticks": ""
            },
            "colorscale": [
             [
              0,
              "#0d0887"
             ],
             [
              0.1111111111111111,
              "#46039f"
             ],
             [
              0.2222222222222222,
              "#7201a8"
             ],
             [
              0.3333333333333333,
              "#9c179e"
             ],
             [
              0.4444444444444444,
              "#bd3786"
             ],
             [
              0.5555555555555556,
              "#d8576b"
             ],
             [
              0.6666666666666666,
              "#ed7953"
             ],
             [
              0.7777777777777778,
              "#fb9f3a"
             ],
             [
              0.8888888888888888,
              "#fdca26"
             ],
             [
              1,
              "#f0f921"
             ]
            ],
            "type": "heatmapgl"
           }
          ],
          "histogram": [
           {
            "marker": {
             "pattern": {
              "fillmode": "overlay",
              "size": 10,
              "solidity": 0.2
             }
            },
            "type": "histogram"
           }
          ],
          "histogram2d": [
           {
            "colorbar": {
             "outlinewidth": 0,
             "ticks": ""
            },
            "colorscale": [
             [
              0,
              "#0d0887"
             ],
             [
              0.1111111111111111,
              "#46039f"
             ],
             [
              0.2222222222222222,
              "#7201a8"
             ],
             [
              0.3333333333333333,
              "#9c179e"
             ],
             [
              0.4444444444444444,
              "#bd3786"
             ],
             [
              0.5555555555555556,
              "#d8576b"
             ],
             [
              0.6666666666666666,
              "#ed7953"
             ],
             [
              0.7777777777777778,
              "#fb9f3a"
             ],
             [
              0.8888888888888888,
              "#fdca26"
             ],
             [
              1,
              "#f0f921"
             ]
            ],
            "type": "histogram2d"
           }
          ],
          "histogram2dcontour": [
           {
            "colorbar": {
             "outlinewidth": 0,
             "ticks": ""
            },
            "colorscale": [
             [
              0,
              "#0d0887"
             ],
             [
              0.1111111111111111,
              "#46039f"
             ],
             [
              0.2222222222222222,
              "#7201a8"
             ],
             [
              0.3333333333333333,
              "#9c179e"
             ],
             [
              0.4444444444444444,
              "#bd3786"
             ],
             [
              0.5555555555555556,
              "#d8576b"
             ],
             [
              0.6666666666666666,
              "#ed7953"
             ],
             [
              0.7777777777777778,
              "#fb9f3a"
             ],
             [
              0.8888888888888888,
              "#fdca26"
             ],
             [
              1,
              "#f0f921"
             ]
            ],
            "type": "histogram2dcontour"
           }
          ],
          "mesh3d": [
           {
            "colorbar": {
             "outlinewidth": 0,
             "ticks": ""
            },
            "type": "mesh3d"
           }
          ],
          "parcoords": [
           {
            "line": {
             "colorbar": {
              "outlinewidth": 0,
              "ticks": ""
             }
            },
            "type": "parcoords"
           }
          ],
          "pie": [
           {
            "automargin": true,
            "type": "pie"
           }
          ],
          "scatter": [
           {
            "fillpattern": {
             "fillmode": "overlay",
             "size": 10,
             "solidity": 0.2
            },
            "type": "scatter"
           }
          ],
          "scatter3d": [
           {
            "line": {
             "colorbar": {
              "outlinewidth": 0,
              "ticks": ""
             }
            },
            "marker": {
             "colorbar": {
              "outlinewidth": 0,
              "ticks": ""
             }
            },
            "type": "scatter3d"
           }
          ],
          "scattercarpet": [
           {
            "marker": {
             "colorbar": {
              "outlinewidth": 0,
              "ticks": ""
             }
            },
            "type": "scattercarpet"
           }
          ],
          "scattergeo": [
           {
            "marker": {
             "colorbar": {
              "outlinewidth": 0,
              "ticks": ""
             }
            },
            "type": "scattergeo"
           }
          ],
          "scattergl": [
           {
            "marker": {
             "colorbar": {
              "outlinewidth": 0,
              "ticks": ""
             }
            },
            "type": "scattergl"
           }
          ],
          "scattermapbox": [
           {
            "marker": {
             "colorbar": {
              "outlinewidth": 0,
              "ticks": ""
             }
            },
            "type": "scattermapbox"
           }
          ],
          "scatterpolar": [
           {
            "marker": {
             "colorbar": {
              "outlinewidth": 0,
              "ticks": ""
             }
            },
            "type": "scatterpolar"
           }
          ],
          "scatterpolargl": [
           {
            "marker": {
             "colorbar": {
              "outlinewidth": 0,
              "ticks": ""
             }
            },
            "type": "scatterpolargl"
           }
          ],
          "scatterternary": [
           {
            "marker": {
             "colorbar": {
              "outlinewidth": 0,
              "ticks": ""
             }
            },
            "type": "scatterternary"
           }
          ],
          "surface": [
           {
            "colorbar": {
             "outlinewidth": 0,
             "ticks": ""
            },
            "colorscale": [
             [
              0,
              "#0d0887"
             ],
             [
              0.1111111111111111,
              "#46039f"
             ],
             [
              0.2222222222222222,
              "#7201a8"
             ],
             [
              0.3333333333333333,
              "#9c179e"
             ],
             [
              0.4444444444444444,
              "#bd3786"
             ],
             [
              0.5555555555555556,
              "#d8576b"
             ],
             [
              0.6666666666666666,
              "#ed7953"
             ],
             [
              0.7777777777777778,
              "#fb9f3a"
             ],
             [
              0.8888888888888888,
              "#fdca26"
             ],
             [
              1,
              "#f0f921"
             ]
            ],
            "type": "surface"
           }
          ],
          "table": [
           {
            "cells": {
             "fill": {
              "color": "#EBF0F8"
             },
             "line": {
              "color": "white"
             }
            },
            "header": {
             "fill": {
              "color": "#C8D4E3"
             },
             "line": {
              "color": "white"
             }
            },
            "type": "table"
           }
          ]
         },
         "layout": {
          "annotationdefaults": {
           "arrowcolor": "#2a3f5f",
           "arrowhead": 0,
           "arrowwidth": 1
          },
          "autotypenumbers": "strict",
          "coloraxis": {
           "colorbar": {
            "outlinewidth": 0,
            "ticks": ""
           }
          },
          "colorscale": {
           "diverging": [
            [
             0,
             "#8e0152"
            ],
            [
             0.1,
             "#c51b7d"
            ],
            [
             0.2,
             "#de77ae"
            ],
            [
             0.3,
             "#f1b6da"
            ],
            [
             0.4,
             "#fde0ef"
            ],
            [
             0.5,
             "#f7f7f7"
            ],
            [
             0.6,
             "#e6f5d0"
            ],
            [
             0.7,
             "#b8e186"
            ],
            [
             0.8,
             "#7fbc41"
            ],
            [
             0.9,
             "#4d9221"
            ],
            [
             1,
             "#276419"
            ]
           ],
           "sequential": [
            [
             0,
             "#0d0887"
            ],
            [
             0.1111111111111111,
             "#46039f"
            ],
            [
             0.2222222222222222,
             "#7201a8"
            ],
            [
             0.3333333333333333,
             "#9c179e"
            ],
            [
             0.4444444444444444,
             "#bd3786"
            ],
            [
             0.5555555555555556,
             "#d8576b"
            ],
            [
             0.6666666666666666,
             "#ed7953"
            ],
            [
             0.7777777777777778,
             "#fb9f3a"
            ],
            [
             0.8888888888888888,
             "#fdca26"
            ],
            [
             1,
             "#f0f921"
            ]
           ],
           "sequentialminus": [
            [
             0,
             "#0d0887"
            ],
            [
             0.1111111111111111,
             "#46039f"
            ],
            [
             0.2222222222222222,
             "#7201a8"
            ],
            [
             0.3333333333333333,
             "#9c179e"
            ],
            [
             0.4444444444444444,
             "#bd3786"
            ],
            [
             0.5555555555555556,
             "#d8576b"
            ],
            [
             0.6666666666666666,
             "#ed7953"
            ],
            [
             0.7777777777777778,
             "#fb9f3a"
            ],
            [
             0.8888888888888888,
             "#fdca26"
            ],
            [
             1,
             "#f0f921"
            ]
           ]
          },
          "colorway": [
           "#636efa",
           "#EF553B",
           "#00cc96",
           "#ab63fa",
           "#FFA15A",
           "#19d3f3",
           "#FF6692",
           "#B6E880",
           "#FF97FF",
           "#FECB52"
          ],
          "font": {
           "color": "#2a3f5f"
          },
          "geo": {
           "bgcolor": "white",
           "lakecolor": "white",
           "landcolor": "#E5ECF6",
           "showlakes": true,
           "showland": true,
           "subunitcolor": "white"
          },
          "hoverlabel": {
           "align": "left"
          },
          "hovermode": "closest",
          "mapbox": {
           "style": "light"
          },
          "paper_bgcolor": "white",
          "plot_bgcolor": "#E5ECF6",
          "polar": {
           "angularaxis": {
            "gridcolor": "white",
            "linecolor": "white",
            "ticks": ""
           },
           "bgcolor": "#E5ECF6",
           "radialaxis": {
            "gridcolor": "white",
            "linecolor": "white",
            "ticks": ""
           }
          },
          "scene": {
           "xaxis": {
            "backgroundcolor": "#E5ECF6",
            "gridcolor": "white",
            "gridwidth": 2,
            "linecolor": "white",
            "showbackground": true,
            "ticks": "",
            "zerolinecolor": "white"
           },
           "yaxis": {
            "backgroundcolor": "#E5ECF6",
            "gridcolor": "white",
            "gridwidth": 2,
            "linecolor": "white",
            "showbackground": true,
            "ticks": "",
            "zerolinecolor": "white"
           },
           "zaxis": {
            "backgroundcolor": "#E5ECF6",
            "gridcolor": "white",
            "gridwidth": 2,
            "linecolor": "white",
            "showbackground": true,
            "ticks": "",
            "zerolinecolor": "white"
           }
          },
          "shapedefaults": {
           "line": {
            "color": "#2a3f5f"
           }
          },
          "ternary": {
           "aaxis": {
            "gridcolor": "white",
            "linecolor": "white",
            "ticks": ""
           },
           "baxis": {
            "gridcolor": "white",
            "linecolor": "white",
            "ticks": ""
           },
           "bgcolor": "#E5ECF6",
           "caxis": {
            "gridcolor": "white",
            "linecolor": "white",
            "ticks": ""
           }
          },
          "title": {
           "x": 0.05
          },
          "xaxis": {
           "automargin": true,
           "gridcolor": "white",
           "linecolor": "white",
           "ticks": "",
           "title": {
            "standoff": 15
           },
           "zerolinecolor": "white",
           "zerolinewidth": 2
          },
          "yaxis": {
           "automargin": true,
           "gridcolor": "white",
           "linecolor": "white",
           "ticks": "",
           "title": {
            "standoff": 15
           },
           "zerolinecolor": "white",
           "zerolinewidth": 2
          }
         }
        },
        "xaxis": {
         "anchor": "y",
         "domain": [
          0,
          0.235
         ]
        },
        "xaxis2": {
         "anchor": "y2",
         "domain": [
          0.255,
          0.49
         ],
         "matches": "x"
        },
        "xaxis3": {
         "anchor": "y3",
         "domain": [
          0.51,
          0.745
         ],
         "matches": "x"
        },
        "xaxis4": {
         "anchor": "y4",
         "domain": [
          0.7649999999999999,
          0.9999999999999999
         ],
         "matches": "x"
        },
        "yaxis": {
         "anchor": "x",
         "domain": [
          0,
          1
         ]
        },
        "yaxis2": {
         "anchor": "x2",
         "domain": [
          0,
          1
         ],
         "matches": "y",
         "showticklabels": false
        },
        "yaxis3": {
         "anchor": "x3",
         "domain": [
          0,
          1
         ],
         "matches": "y",
         "showticklabels": false
        },
        "yaxis4": {
         "anchor": "x4",
         "domain": [
          0,
          1
         ],
         "matches": "y",
         "showticklabels": false
        }
       }
      }
     },
     "metadata": {},
     "output_type": "display_data"
    }
   ],
   "source": [
    "IMAGES_IDX = [0, 360, 351, 333]\n",
    "images = x_train[IMAGES_IDX]\n",
    "px.imshow(images.transpose(0, 2, 3, 1), facet_col=0)"
   ]
  },
  {
   "cell_type": "code",
   "execution_count": 5,
   "metadata": {},
   "outputs": [
    {
     "data": {
      "text/plain": [
       "(2, 3, 5, 5)"
      ]
     },
     "metadata": {},
     "output_type": "display_data"
    }
   ],
   "source": [
    "kernels = np.asarray(\n",
    "[\n",
    "    [\n",
    "        # First kernel\n",
    "        # First channel\n",
    "            [\n",
    "            [1, 0, -1, 0, 1], \n",
    "            [1, 0, -1, 0, 1],\n",
    "            [1, 0, -1, 0, 1],\n",
    "            [1, 0, -1, 0, 1],\n",
    "            [1, 0, -1, 0, 1],\n",
    "        ],\n",
    "        # Second channel\n",
    "        [\n",
    "            [1, 0, 1, 1, 1], \n",
    "            [1, 0, 1, 1, 1], \n",
    "            [1, 0, 1, 1, 1],\n",
    "            [1, 0, 1, 1, 1],\n",
    "            [1, 0, 1, 1, 1],\n",
    "        ],\n",
    "        # Third channel\n",
    "        [\n",
    "            [0, 0, 0, 0, 1],\n",
    "            [0, 0, 0, 1, 0],\n",
    "            [0, 0, 1, 0, 0],\n",
    "            [0, 1, 0, 0, 0],\n",
    "            [1, 0, 0, 0, 0],\n",
    "        ],\n",
    "    ],\n",
    "    [\n",
    "        # Second kernel\n",
    "        # First channel\n",
    "        [\n",
    "            [0.5, 0.5, 0.5, 0.5, 0.5], \n",
    "            [0.5, 0.5, 0.5, 0.5, 0.5], \n",
    "            [0.5, 0.5, 0.5, 0.5, 0.5], \n",
    "            [0.5, 0.5, 0.5, 0.5, 0.5],\n",
    "            [0.5, 0.5, 0.5, 0.5, 0.5],\n",
    "        ],\n",
    "        # Second channel\n",
    "        [\n",
    "            [1, 2, 3, 4, 5],\n",
    "            [1, 1, 1, 0, 0],\n",
    "            [0, 1, 1, 1, 0],\n",
    "            [0, 0, 1, 1, 1],\n",
    "            [0, 1, 0, 1, 1],\n",
    "        ],\n",
    "        # Thrid channel\n",
    "        [\n",
    "            [0, 0, 1, 0, 0],\n",
    "            [0, 0.5, 1, 0.5, 0],\n",
    "            [1, 1, 1, 1, 1],\n",
    "            [0, 0.5, 1, 0.5, 0],\n",
    "            [0, 0, 1, 0, 0],\n",
    "        ],\n",
    "    ]\n",
    "]) \n",
    "display(kernels.shape)\n",
    "# px.imshow(kernels.swapaxes(1, 3) * 255, facet_col=0)"
   ]
  },
  {
   "cell_type": "code",
   "execution_count": 6,
   "metadata": {},
   "outputs": [
    {
     "data": {
      "text/plain": [
       "(4, 3, 32, 32)"
      ]
     },
     "execution_count": 6,
     "metadata": {},
     "output_type": "execute_result"
    }
   ],
   "source": [
    "images.shape"
   ]
  },
  {
   "cell_type": "code",
   "execution_count": 7,
   "metadata": {},
   "outputs": [
    {
     "data": {
      "text/plain": [
       "(4, 28, 28, 3, 5, 5)"
      ]
     },
     "metadata": {},
     "output_type": "display_data"
    },
    {
     "data": {
      "text/plain": [
       "(4, 28, 28, 75)"
      ]
     },
     "metadata": {},
     "output_type": "display_data"
    }
   ],
   "source": [
    "views = sliding_window_view(images, (kernels.shape[2], kernels.shape[3]), (2, 3)).swapaxes(1, 3)\n",
    "display(views.shape)\n",
    "flatten_views = views.reshape(*views.shape[:3], -1)\n",
    "display(flatten_views.shape)"
   ]
  },
  {
   "cell_type": "code",
   "execution_count": 8,
   "metadata": {},
   "outputs": [
    {
     "data": {
      "text/plain": [
       "(75, 2)"
      ]
     },
     "execution_count": 8,
     "metadata": {},
     "output_type": "execute_result"
    }
   ],
   "source": [
    "flatten_kernels = kernels.reshape(kernels.shape[0], -1).T\n",
    "flatten_kernels.shape"
   ]
  },
  {
   "cell_type": "code",
   "execution_count": 9,
   "metadata": {},
   "outputs": [
    {
     "name": "stdout",
     "output_type": "stream",
     "text": [
      "views shape: (3000, 28, 28, 75)\n",
      "compute flatten views: 0.5501611232757568s\n",
      "compute flatten kernels: 1.71661376953125e-05s\n",
      "compute correlations: 1.9372386932373047s\n",
      "compute views: 0.0002963542938232422s\n",
      "compute tensordot correlations: 2.064324140548706s\n"
     ]
    }
   ],
   "source": [
    "reset_time_dict()\n",
    "big_x_train_subset = x_train[:3000]\n",
    "\n",
    "def my_valid_correlate(inputs:np.ndarray, kernels:np.ndarray) -> np.ndarray:\n",
    "    with time_to_exec(\"compute flatten views\"):\n",
    "        views = sliding_window_view(inputs, kernels.shape[2:], range(2, inputs.ndim))\n",
    "        views = views.swapaxes(1, 3)\n",
    "        flatten_views = views.reshape(*views.shape[:3], -1)\n",
    "    print(\"views shape:\", flatten_views.shape)\n",
    "    with time_to_exec(\"compute flatten kernels\"):\n",
    "        flatten_kernels = kernels.reshape(kernels.shape[0], -1).T\n",
    "    with time_to_exec(\"compute correlations\"):\n",
    "        correlations = (flatten_views @ flatten_kernels).swapaxes(1, 3)\n",
    "    return correlations\n",
    "\n",
    "def my_tensordot_valid_correlation(inputs:np.ndarray, kernels:np.ndarray) -> np.ndarray:\n",
    "    with time_to_exec(\"compute views\"):\n",
    "        views = sliding_window_view(inputs, kernels.shape[2:], range(2, inputs.ndim))\n",
    "    with time_to_exec(\"compute tensordot correlations\"):\n",
    "        correlations = np.tensordot(views, kernels, ([1, 4, 5], [1, 2, 3])).transpose(0, 3, 1, 2)\n",
    "    return correlations\n",
    "\n",
    "my_correlations = my_valid_correlate(big_x_train_subset, kernels)\n",
    "my_tensordot_correlations = my_tensordot_valid_correlation(big_x_train_subset, kernels)\n",
    "\n",
    "print_time_dict()"
   ]
  },
  {
   "cell_type": "code",
   "execution_count": 16,
   "metadata": {},
   "outputs": [],
   "source": [
    "def scipy_valid_correlate(inputs:np.ndarray, kernels:np.ndarray) -> np.ndarray:\n",
    "    scipy_correlations = []\n",
    "    for img in inputs:\n",
    "        img_corrs = []\n",
    "        for kernel in kernels:\n",
    "            img_corrs.append(sum([correlate2d(img_chan, kernels_chan, \"valid\") for img_chan, kernels_chan in zip(img, kernel)]))\n",
    "        scipy_correlations.append(img_corrs)\n",
    "\n",
    "    return np.stack(scipy_correlations)\n",
    "\n",
    "scipy_correlations = scipy_valid_correlate(big_x_train_subset, kernels)"
   ]
  },
  {
   "cell_type": "markdown",
   "metadata": {},
   "source": [
    "## Verify output"
   ]
  },
  {
   "cell_type": "code",
   "execution_count": 17,
   "metadata": {},
   "outputs": [
    {
     "data": {
      "text/plain": [
       "np.float64(1.0)"
      ]
     },
     "execution_count": 17,
     "metadata": {},
     "output_type": "execute_result"
    }
   ],
   "source": [
    "(my_correlations == scipy_correlations).mean()"
   ]
  }
 ],
 "metadata": {
  "kernelspec": {
   "display_name": "CNN",
   "language": "python",
   "name": "python3"
  },
  "language_info": {
   "codemirror_mode": {
    "name": "ipython",
    "version": 3
   },
   "file_extension": ".py",
   "mimetype": "text/x-python",
   "name": "python",
   "nbconvert_exporter": "python",
   "pygments_lexer": "ipython3",
   "version": "3.12.3"
  }
 },
 "nbformat": 4,
 "nbformat_minor": 2
}
